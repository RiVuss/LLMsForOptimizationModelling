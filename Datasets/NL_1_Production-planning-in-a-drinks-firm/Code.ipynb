{
 "cells": [
  {
   "cell_type": "code",
   "execution_count": 2,
   "id": "b5bd9662",
   "metadata": {},
   "outputs": [
    {
     "name": "stdout",
     "output_type": "stream",
     "text": [
      "Optimal Production Quantities:\n",
      "COLI (X1): 16335.833333340004\n",
      "PEPSA (X2): 8167.91666666004\n",
      "Maximum Daily Profit: 400289176.04199195\n"
     ]
    }
   ],
   "source": [
    "import pyomo.environ as pyo\n",
    "\n",
    "# Create a Pyomo ConcreteModel\n",
    "model = pyo.ConcreteModel()\n",
    "\n",
    "# Define decision variables\n",
    "model.X1 = pyo.Var(domain=pyo.NonNegativeReals)  # Production quantity of COLI\n",
    "model.X2 = pyo.Var(domain=pyo.NonNegativeReals)  # Production quantity of PEPSA\n",
    "\n",
    "# Define objective function (Maximize profit)\n",
    "model.profit = pyo.Objective(\n",
    "    expr=49000 * model.X1 - model.X1**2 + 30 * model.X2 - 2 * model.X2**2 - 150 * (\n",
    "        (model.X1 / 40) + (model.X2 / 20)\n",
    "    ),\n",
    "    sense=pyo.maximize\n",
    ")\n",
    "\n",
    "# Define constraints\n",
    "model.capacity_constraint = pyo.Constraint(\n",
    "    expr=model.X1 + model.X2 <= 56800  # Daily production capacity\n",
    ")\n",
    "model.production_ratio_constraint = pyo.Constraint(\n",
    "    expr=model.X2 >= 0.5 * model.X1  # Minimum PEPSA production\n",
    ")\n",
    "\n",
    "# Solve the model using a solver (e.g., CBC)\n",
    "solver = pyo.SolverFactory('ipopt')\n",
    "solver.solve(model)\n",
    "\n",
    "# Print the optimal solution\n",
    "print(\"Optimal Production Quantities:\")\n",
    "print(\"COLI (X1):\", pyo.value(model.X1))\n",
    "print(\"PEPSA (X2):\", pyo.value(model.X2))\n",
    "print(\"Maximum Daily Profit:\", pyo.value(model.profit))"
   ]
  }
 ],
 "metadata": {
  "kernelspec": {
   "display_name": "Python 3 (ipykernel)",
   "language": "python",
   "name": "python3"
  },
  "language_info": {
   "codemirror_mode": {
    "name": "ipython",
    "version": 3
   },
   "file_extension": ".py",
   "mimetype": "text/x-python",
   "name": "python",
   "nbconvert_exporter": "python",
   "pygments_lexer": "ipython3",
   "version": "3.11.4"
  }
 },
 "nbformat": 4,
 "nbformat_minor": 5
}
