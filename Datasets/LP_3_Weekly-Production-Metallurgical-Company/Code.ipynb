{
 "cells": [
  {
   "cell_type": "code",
   "execution_count": 1,
   "id": "1d3a28fa",
   "metadata": {},
   "outputs": [
    {
     "name": "stdout",
     "output_type": "stream",
     "text": [
      "Optimal Production Plan:\n",
      "Product P1: 0.00 (in-house)\n",
      "Product P2: 800.00 (in-house)\n",
      "Product P3: 0.00 (in-house)\n",
      "Product P1: 0.00 (subcontracted)\n",
      "Product P2: 3200.00 (subcontracted)\n",
      "\n",
      "Total Profit: $3680.00\n"
     ]
    }
   ],
   "source": [
    "import pyomo.environ as pyo\n",
    "\n",
    "# Define sets\n",
    "products = [\"P1\", \"P2\", \"P3\"]\n",
    "subcontractable_products = [\"P1\", \"P2\"]\n",
    "\n",
    "# Define parameters\n",
    "smelting_time = {\"P1\": 6, \"P2\": 10, \"P3\": 8}  \n",
    "mechanization_time = {\"P1\": 6, \"P2\": 3, \"P3\": 8} \n",
    "assembly_time = {\"P1\": 3, \"P2\": 2, \"P3\": 2}  \n",
    "\n",
    "# Cost parameters\n",
    "smelting_cost = {\"P1\": 0.30, \"P2\": 0.50, \"P3\": 0.40}\n",
    "subcontracted_smelting_cost = {\"P1\": 0.50, \"P2\": 0.60}\n",
    "mechanization_cost = {\"P1\": 0.20, \"P2\": 0.10, \"P3\": 0.27}\n",
    "assembly_cost = {\"P1\": 0.30, \"P2\": 0.20, \"P3\": 0.20}\n",
    "\n",
    "# Selling price\n",
    "selling_price = {\"P1\": 1.50, \"P2\": 1.80, \"P3\": 1.97}\n",
    "\n",
    "# Available production time\n",
    "available_smelting_time = 8000\n",
    "available_mechanization_time = 12000\n",
    "available_assembly_time = 10000\n",
    "\n",
    "# Create model\n",
    "model = pyo.ConcreteModel()\n",
    "\n",
    "# Define decision variables\n",
    "model.x = pyo.Var(products, domain=pyo.NonNegativeReals) # In-house production\n",
    "model.y = pyo.Var(subcontractable_products, domain=pyo.NonNegativeReals) # Subcontracted production\n",
    "\n",
    "# Define objective function\n",
    "model.profit = pyo.Objective(expr = \n",
    "    sum((selling_price[p] - smelting_cost[p] - mechanization_cost[p] - assembly_cost[p]) * model.x[p] for p in products) +\n",
    "    sum((selling_price[p] - subcontracted_smelting_cost[p] - mechanization_cost[p] - assembly_cost[p]) * model.y[p] for p in subcontractable_products),\n",
    "    sense=pyo.maximize)\n",
    "\n",
    "# Define constraints\n",
    "model.smelting_capacity = pyo.Constraint(expr = sum(smelting_time[p] * model.x[p] for p in products) <= available_smelting_time)\n",
    "\n",
    "model.mechanization_capacity = pyo.Constraint(expr = \n",
    "    sum(mechanization_time[p] * (model.x[p] + model.y[p]) for p in subcontractable_products) + \n",
    "    sum(mechanization_time[p] * model.x[p] for p in products if p not in subcontractable_products) \n",
    "    <= available_mechanization_time)\n",
    "\n",
    "model.assembly_capacity = pyo.Constraint(expr = \n",
    "    sum(assembly_time[p] * (model.x[p] + model.y[p]) for p in subcontractable_products) +\n",
    "    sum(assembly_time[p] * model.x[p] for p in products if p not in subcontractable_products) \n",
    "    <= available_assembly_time)\n",
    "\n",
    "# Solve the model\n",
    "solver = pyo.SolverFactory('glpk')\n",
    "solver.solve(model)\n",
    "\n",
    "# Print results\n",
    "print(\"Optimal Production Plan:\")\n",
    "for p in products:\n",
    "    print(f\"Product {p}: {model.x[p].value:.2f} (in-house)\")\n",
    "for p in subcontractable_products:\n",
    "    print(f\"Product {p}: {model.y[p].value:.2f} (subcontracted)\")\n",
    "\n",
    "print(f\"\\nTotal Profit: ${model.profit():.2f}\")"
   ]
  }
 ],
 "metadata": {
  "kernelspec": {
   "display_name": "Python 3 (ipykernel)",
   "language": "python",
   "name": "python3"
  },
  "language_info": {
   "codemirror_mode": {
    "name": "ipython",
    "version": 3
   },
   "file_extension": ".py",
   "mimetype": "text/x-python",
   "name": "python",
   "nbconvert_exporter": "python",
   "pygments_lexer": "ipython3",
   "version": "3.11.4"
  }
 },
 "nbformat": 4,
 "nbformat_minor": 5
}
