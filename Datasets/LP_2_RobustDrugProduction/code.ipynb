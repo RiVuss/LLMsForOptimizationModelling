{
 "cells": [
  {
   "cell_type": "code",
   "execution_count": null,
   "metadata": {},
   "outputs": [],
   "source": [
    "# Parameters\n",
    "p1, p2 = 6200, 6900  # Prices of drugs\n",
    "c1, c2, c3, c4 = 100, 199.90, 700, 800 # Costs\n",
    "a1, a2, a3, a4 = 0.01, 0.02, 0.500, 0.600  # Active ingredient extraction coefficients\n",
    "t1M, t2M, t1E, t2E = 90.0, 100.0, 40.0, 50.0  # Time requirements\n",
    "MPH, EH = 2000, 800  # Manpower and equipment hours limits\n",
    "S, B = 1000, 100000  # Storage and budget limits"
   ]
  },
  {
   "cell_type": "code",
   "execution_count": null,
   "metadata": {},
   "outputs": [],
   "source": [
    "# Robust Drug Production Problem\n",
    "import pyomo.environ as pyo\n",
    "\n",
    "# Create a model instance\n",
    "model = pyo.ConcreteModel()\n",
    "\n",
    "# Declare decision variables\n",
    "model.d1 = pyo.Var(domain=pyo.NonNegativeReals)\n",
    "model.d2 = pyo.Var(domain=pyo.NonNegativeReals)\n",
    "model.r1 = pyo.Var(domain=pyo.NonNegativeReals)\n",
    "model.r2 = pyo.Var(domain=pyo.NonNegativeReals)\n",
    "\n",
    "# Objective Function\n",
    "model.obj = pyo.Objective(expr=(p1*model.d1 + p2*model.d2 - \n",
    "                                (c1*model.r1 + c2*model.r2 + c3*model.d1 + c4*model.d2)), sense=pyo.maximize)\n",
    "\n",
    "# Constraints\n",
    "model.active_ingredient = pyo.Constraint(expr=(0.995*a1*model.r1 + 0.98*a2*model.r2 - a3*model.d1 - a4*model.d2 >= 0))\n",
    "model.manpower = pyo.Constraint(expr=(t1M*model.d1 + t2M*model.d2 <= MPH))\n",
    "model.equipment = pyo.Constraint(expr=(t1E*model.d1 + t2E*model.d2 <= EH))\n",
    "model.storage = pyo.Constraint(expr=(model.r1 + model.r2 <= S))\n",
    "model.budget = pyo.Constraint(expr=(c1*model.r1 + c2*model.r2 + c3*model.d1 + c4*model.d2 <= B))\n",
    "\n",
    "# Solve the model\n",
    "solver = pyo.SolverFactory('glpk', executable='/usr/bin/glpsol')\n",
    "result = solver.solve(model)\n",
    "\n",
    "# Display the results\n",
    "print(f\"Status: {result.solver.status}\")\n",
    "print(f\"Objective value: {pyo.value(model.obj)}\")\n",
    "print(f\"d1 = {pyo.value(model.d1)}\")\n",
    "print(f\"d2 = {pyo.value(model.d2)}\")\n",
    "print(f\"r1 = {pyo.value(model.r1)}\")\n",
    "print(f\"r2 = {pyo.value(model.r2)}\")"
   ]
  }
 ],
 "metadata": {
  "language_info": {
   "name": "python"
  }
 },
 "nbformat": 4,
 "nbformat_minor": 2
}
