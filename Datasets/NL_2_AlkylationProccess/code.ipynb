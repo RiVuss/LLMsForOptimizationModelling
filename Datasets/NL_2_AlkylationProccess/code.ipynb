{
 "cells": [
  {
   "cell_type": "code",
   "execution_count": null,
   "metadata": {},
   "outputs": [],
   "source": [
    "# Data \n",
    "x1_l, x1_u = (0, 2000)\n",
    "x2_l, x2_u = (0, 16000)\n",
    "x3_l, x3_u = (0, 120)\n",
    "x4_l, x4_u = (0, 5000)\n",
    "x5_l, x5_u = (0, 2000)\n",
    "x6_l, x6_u = (85, 93)\n",
    "x7_l, x7_u = (90, 95)\n",
    "x8_l, x8_u = (3, 12)\n",
    "x9_l, x9_u = (1.2, 4)\n",
    "x10_l, x10_u = (145, 162)"
   ]
  },
  {
   "cell_type": "code",
   "execution_count": null,
   "metadata": {},
   "outputs": [],
   "source": [
    "import pyomo.environ as pyo\n",
    "\n",
    "# Create a model object\n",
    "model = pyo.ConcreteModel()\n",
    "\n",
    "# Declare the variables with bounds (assuming bounds x_i^l and x_i^u are defined elsewhere)\n",
    "model.x1 = pyo.Var(initialize=1745, within=pyo.NonNegativeReals, bounds=(x1_l, x1_u))\n",
    "model.x2 = pyo.Var(initialize=12000, within=pyo.NonNegativeReals, bounds=(x2_l, x2_u))\n",
    "model.x3 = pyo.Var(initialize=110, within=pyo.NonNegativeReals, bounds=(x3_l, x3_u))\n",
    "model.x4 = pyo.Var(initialize=3048, within=pyo.NonNegativeReals, bounds=(x4_l, x4_u))\n",
    "model.x5 = pyo.Var(initialize=1974, within=pyo.NonNegativeReals, bounds=(x5_l, x5_u))\n",
    "model.x6 = pyo.Var(initialize=89.2, within=pyo.NonNegativeReals, bounds=(x6_l, x6_u))\n",
    "model.x7 = pyo.Var(initialize=92.8, within=pyo.NonNegativeReals, bounds=(x7_l, x7_u))\n",
    "model.x8 = pyo.Var(initialize=8, within=pyo.NonNegativeReals, bounds=(x8_l, x8_u))\n",
    "model.x9 = pyo.Var(initialize=3.6, within=pyo.NonNegativeReals, bounds=(x9_l, x9_u))\n",
    "model.x10 = pyo.Var(initialize=145, within=pyo.NonNegativeReals, bounds=(x10_l, x10_u))\n",
    "\n",
    "# Constants in the objective function and bounds\n",
    "c1, c2, c3, c4, c5 = 0.63, 5.04, 0.035, 10.0, 3.36\n",
    "d4_l, d4_u, d7_l, d7_u, d9_l, d9_u, d10_l, d10_u = 99/100, 100/99, 99/100, 100/99, 9/10, 10/9, 99/100, 100/99\n",
    "\n",
    "# Objective function\n",
    "model.objective = pyo.Objective(expr=c1*model.x4*model.x7 - c2*model.x1 - c3*model.x2 - c4*model.x3 - c5*model.x5, sense=pyo.maximize)\n",
    "\n",
    "# Constraints\n",
    "model.constraint1 = pyo.Constraint(expr=(model.x1 * (1.12 + 0.13167 * model.x8 - 0.00667 * model.x8**2)) - d4_l * model.x4 >= 0)\n",
    "model.constraint2 = pyo.Constraint(expr=-(model.x1 * (1.12 + 0.13167 * model.x8 - 0.00667 * model.x8**2)) + d4_u * model.x4 >= 0)\n",
    "model.constraint3 = pyo.Constraint(expr=(86.35 + 1.098 * model.x8 - 0.38 * model.x8**2 + 0.325 * (model.x6 - 89)) - d7_l * model.x7 >= 0)\n",
    "model.constraint4 = pyo.Constraint(expr=-(86.35 - 1.098 * model.x8 + 0.38 * model.x8**2 - 0.325 * (model.x6 - 89)) + d7_u * model.x7 >= 0)\n",
    "model.constraint5 = pyo.Constraint(expr=(35.82 - 0.222 * model.x10) - d9_l * model.x9 >= 0)\n",
    "model.constraint6 = pyo.Constraint(expr=-(35.82 + 0.222 * model.x10) + d9_u * model.x9 >= 0)\n",
    "model.constraint7 = pyo.Constraint(expr=(-133 - 3 * model.x7) - d10_l * model.x10 >= 0)\n",
    "model.constraint8 = pyo.Constraint(expr=-(-133 - 3 * model.x7) + d10_u * model.x10 >= 0)\n",
    "model.constraint9 = pyo.Constraint(expr=1.22 * model.x4 - model.x1 - model.x5 == 0)\n",
    "model.constraint10 = pyo.Constraint(expr=(98000 * model.x3)/(model.x3 * model.x9 + 1000 * model.x3) - model.x6 == 0)\n",
    "model.constraint11 = pyo.Constraint(expr=(model.x2 + model.x5)/model.x1 - model.x8 == 0)\n",
    "\n",
    "# Solve the model\n",
    "solver=pyo.SolverFactory('ipopt', executable='/content/ipopt')\n",
    "results = solver.solve(model, tee=True, options={'max_iter': 10000, 'tol': 1e-6})\n",
    "\n",
    "# Display the results\n",
    "model.pprint()"
   ]
  }
 ],
 "metadata": {
  "language_info": {
   "name": "python"
  }
 },
 "nbformat": 4,
 "nbformat_minor": 2
}
