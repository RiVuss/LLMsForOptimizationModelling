{
 "cells": [
  {
   "cell_type": "code",
   "execution_count": null,
   "metadata": {},
   "outputs": [],
   "source": [
    "import pandas as pd\n",
    "time_periods = range(0, 12)\n",
    "products = range(0, 5)\n",
    "fixed_cost_production = pd.read_csv(\"fixed_cost_production.csv\", index_col = [0])\n",
    "variable_cost_production = pd.read_csv(\"variable_cost_production.csv\", index_col=[0])\n",
    "variable_cost_storage = pd.read_csv(\"variable_cost_storage.csv\", index_col=[0])\n",
    "demand = pd.read_csv(\"demand.csv\", index_col=[0])\n",
    "revenue = pd.read_csv(\"revenue.csv\", index_col=[0])"
   ]
  }
 ],
 "metadata": {
  "language_info": {
   "name": "python"
  }
 },
 "nbformat": 4,
 "nbformat_minor": 2
}
