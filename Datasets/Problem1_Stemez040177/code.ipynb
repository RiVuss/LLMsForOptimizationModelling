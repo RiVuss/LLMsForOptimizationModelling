{
 "cells": [
  {
   "cell_type": "code",
   "execution_count": 6,
   "metadata": {},
   "outputs": [
    {
     "name": "stdout",
     "output_type": "stream",
     "text": [
      "WARNING: Could not locate the 'glpsol' executable, which is required for\n",
      "solver 'glpk'\n"
     ]
    },
    {
     "ename": "ApplicationError",
     "evalue": "No executable found for solver 'glpk'",
     "output_type": "error",
     "traceback": [
      "\u001b[0;31m---------------------------------------------------------------------------\u001b[0m",
      "\u001b[0;31mApplicationError\u001b[0m                          Traceback (most recent call last)",
      "Cell \u001b[0;32mIn[6], line 38\u001b[0m\n\u001b[1;32m     36\u001b[0m \u001b[38;5;66;03m# Solve the optimization problem\u001b[39;00m\n\u001b[1;32m     37\u001b[0m solver \u001b[38;5;241m=\u001b[39m SolverFactory(\u001b[38;5;124m'\u001b[39m\u001b[38;5;124mglpk\u001b[39m\u001b[38;5;124m'\u001b[39m)\n\u001b[0;32m---> 38\u001b[0m solver\u001b[38;5;241m.\u001b[39msolve(model)\n\u001b[1;32m     40\u001b[0m \u001b[38;5;66;03m# Display the results\u001b[39;00m\n\u001b[1;32m     41\u001b[0m \u001b[38;5;28mprint\u001b[39m(\u001b[38;5;124m\"\u001b[39m\u001b[38;5;124mObjective Value:\u001b[39m\u001b[38;5;124m\"\u001b[39m, model\u001b[38;5;241m.\u001b[39mobj())\n",
      "File \u001b[0;32m/usr/local/anaconda3/envs/maths3/lib/python3.11/site-packages/pyomo/opt/base/solvers.py:534\u001b[0m, in \u001b[0;36mOptSolver.solve\u001b[0;34m(self, *args, **kwds)\u001b[0m\n\u001b[1;32m    531\u001b[0m \u001b[38;5;28;01mdef\u001b[39;00m \u001b[38;5;21msolve\u001b[39m(\u001b[38;5;28mself\u001b[39m, \u001b[38;5;241m*\u001b[39margs, \u001b[38;5;241m*\u001b[39m\u001b[38;5;241m*\u001b[39mkwds):\n\u001b[1;32m    532\u001b[0m \u001b[38;5;250m    \u001b[39m\u001b[38;5;124;03m\"\"\"Solve the problem\"\"\"\u001b[39;00m\n\u001b[0;32m--> 534\u001b[0m     \u001b[38;5;28mself\u001b[39m\u001b[38;5;241m.\u001b[39mavailable(exception_flag\u001b[38;5;241m=\u001b[39m\u001b[38;5;28;01mTrue\u001b[39;00m)\n\u001b[1;32m    535\u001b[0m     \u001b[38;5;66;03m#\u001b[39;00m\n\u001b[1;32m    536\u001b[0m     \u001b[38;5;66;03m# If the inputs are models, then validate that they have been\u001b[39;00m\n\u001b[1;32m    537\u001b[0m     \u001b[38;5;66;03m# constructed! Collect suffix names to try and import from solution.\u001b[39;00m\n\u001b[1;32m    538\u001b[0m     \u001b[38;5;66;03m#\u001b[39;00m\n\u001b[1;32m    539\u001b[0m     \u001b[38;5;28;01mfrom\u001b[39;00m \u001b[38;5;21;01mpyomo\u001b[39;00m\u001b[38;5;21;01m.\u001b[39;00m\u001b[38;5;21;01mcore\u001b[39;00m\u001b[38;5;21;01m.\u001b[39;00m\u001b[38;5;21;01mbase\u001b[39;00m\u001b[38;5;21;01m.\u001b[39;00m\u001b[38;5;21;01mblock\u001b[39;00m \u001b[38;5;28;01mimport\u001b[39;00m _BlockData\n",
      "File \u001b[0;32m/usr/local/anaconda3/envs/maths3/lib/python3.11/site-packages/pyomo/opt/solver/shellcmd.py:139\u001b[0m, in \u001b[0;36mSystemCallSolver.available\u001b[0;34m(self, exception_flag)\u001b[0m\n\u001b[1;32m    137\u001b[0m     \u001b[38;5;28;01mif\u001b[39;00m exception_flag:\n\u001b[1;32m    138\u001b[0m         msg \u001b[38;5;241m=\u001b[39m \u001b[38;5;124m\"\u001b[39m\u001b[38;5;124mNo executable found for solver \u001b[39m\u001b[38;5;124m'\u001b[39m\u001b[38;5;132;01m%s\u001b[39;00m\u001b[38;5;124m'\u001b[39m\u001b[38;5;124m\"\u001b[39m\n\u001b[0;32m--> 139\u001b[0m         \u001b[38;5;28;01mraise\u001b[39;00m ApplicationError(msg \u001b[38;5;241m%\u001b[39m \u001b[38;5;28mself\u001b[39m\u001b[38;5;241m.\u001b[39mname)\n\u001b[1;32m    140\u001b[0m     \u001b[38;5;28;01mreturn\u001b[39;00m \u001b[38;5;28;01mFalse\u001b[39;00m\n\u001b[1;32m    141\u001b[0m \u001b[38;5;28;01mreturn\u001b[39;00m \u001b[38;5;28;01mTrue\u001b[39;00m\n",
      "\u001b[0;31mApplicationError\u001b[0m: No executable found for solver 'glpk'"
     ]
    }
   ],
   "source": [
    "from pyomo.environ import *\n",
    "from pyomo.opt import SolverFactory\n",
    "\n",
    "# Create a Concrete Model\n",
    "model = ConcreteModel()\n",
    "\n",
    "# Define variables\n",
    "model.X1 = Var(within=NonNegativeIntegers)\n",
    "model.X2 = Var(within=NonNegativeIntegers)\n",
    "model.d1_minus = Var(within=NonNegativeIntegers)\n",
    "model.d2_minus = Var(within=NonNegativeIntegers)\n",
    "model.d3_minus = Var(within=NonNegativeIntegers)\n",
    "model.d21_minus = Var(within=NonNegativeIntegers)\n",
    "model.d1_plus = Var(within=NonNegativeIntegers)\n",
    "model.d2_plus = Var(within=NonNegativeIntegers)\n",
    "model.d3_plus = Var(within=NonNegativeIntegers)\n",
    "model.d21_plus = Var(within=NonNegativeIntegers)\n",
    "model.Y11 = Var(within=Binary)\n",
    "model.Y12 = Var(within=Binary)\n",
    "model.Y21 = Var(within=Binary)\n",
    "model.Y22 = Var(within=Binary)\n",
    "model.Y31 = Var(within=Binary)\n",
    "model.Y32 = Var(within=Binary)\n",
    "model.Y41 = Var(within=Binary)\n",
    "model.Y42 = Var(within=Binary)\n",
    "\n",
    "# Define parameters\n",
    "P1 = 4\n",
    "P2 = 3\n",
    "P3 = 2\n",
    "P4 = 1\n",
    "\n",
    "# Define objective function\n",
    "model.obj = Objective(expr = P1*model.d1_minus \n",
    "                      + P2*model.d21_plus \n",
    "                      + 2*P3*model.d2_minus \n",
    "                      + P3*model.d3_minus \n",
    "                      + P4*model.d2_plus \n",
    "                      + 3*P4*model.d3_plus,\n",
    "                      sense=minimize)\n",
    "\n",
    "# Define constraints\n",
    "model.const1 = Constraint(expr = 5*model.X1 \n",
    "                          + 2*model.X2 \n",
    "                          + model.d1_minus \n",
    "                          - model.d1_plus == 5500)\n",
    "model.const2 = Constraint(expr = model.X1 \n",
    "                          + model.d2_minus \n",
    "                          - model.d2_plus == 800)\n",
    "model.const3 = Constraint(expr = model.X2 \n",
    "                          + model.d3_minus \n",
    "                          - model.d3_plus == 320)\n",
    "model.const4 = Constraint(expr = model.d21_minus \n",
    "                          + model.d2_plus \n",
    "                          - model.d21_plus == 100)\n",
    "model.const5 = Constraint(expr = model.d1_minus <= 5500 * model.Y11)\n",
    "model.const6 = Constraint(expr = model.d1_plus <= 5500 * model.Y12)\n",
    "model.const7 = Constraint(expr = model.Y11 + model.Y12 == 1)\n",
    "model.const8 = Constraint(expr = model.d2_minus <= 800 * model.Y21)\n",
    "model.const9 = Constraint(expr = model.d2_plus <= 100 * model.Y22)\n",
    "model.const10 = Constraint(expr = model.Y21 + model.Y22 == 1)\n",
    "model.const11 = Constraint(expr = model.d3_minus <= 320 * model.Y31)\n",
    "model.const12 = Constraint(expr = model.d3_plus <= 320 * model.Y32)\n",
    "model.const13 = Constraint(expr = model.Y31 + model.Y32 == 1)\n",
    "model.const14 = Constraint(expr = model.d21_minus <= 100 * model.Y41)\n",
    "model.const15 = Constraint(expr = model.d21_plus <= 100 * model.Y42)\n",
    "model.const16 = Constraint(expr = model.Y41 + model.Y42 == 1)\n",
    "\n",
    "# Solve the optimization problem\n",
    "solver = SolverFactory('glpk')\n",
    "solver.solve(model)\n",
    "\n",
    "# Display the results\n",
    "print(\"Objective Value:\", model.obj())\n",
    "print(\"X1:\", model.X1())\n",
    "print(\"X2:\", model.X2())\n",
    "print(\"d1^-:\", model.d1_minus())\n",
    "print(\"d1^+:\", model.d1_plus())\n",
    "print(\"d2^-:\", model.d2_minus())\n",
    "print(\"d2^+:\", model.d2_plus())\n",
    "print(\"d3^-:\", model.d3_minus())\n",
    "print(\"d3^+:\", model.d3_plus())\n",
    "print(\"d21^-:\", model.d21_minus())\n",
    "print(\"d21^+:\", model.d21_plus())"
   ]
  }
 ],
 "metadata": {
  "kernelspec": {
   "display_name": "maths3",
   "language": "python",
   "name": "python3"
  },
  "language_info": {
   "codemirror_mode": {
    "name": "ipython",
    "version": 3
   },
   "file_extension": ".py",
   "mimetype": "text/x-python",
   "name": "python",
   "nbconvert_exporter": "python",
   "pygments_lexer": "ipython3",
   "version": "3.11.4"
  }
 },
 "nbformat": 4,
 "nbformat_minor": 2
}
