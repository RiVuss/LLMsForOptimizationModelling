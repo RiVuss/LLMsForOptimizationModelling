{
 "cells": [
  {
   "cell_type": "code",
   "execution_count": 1,
   "id": "643b2abf",
   "metadata": {},
   "outputs": [
    {
     "name": "stdout",
     "output_type": "stream",
     "text": [
      "Optimal Solution:\n",
      "Product GCC:\n",
      "  Component C1: 2769.23 liters\n",
      "  Component C2: 9230.77 liters\n",
      "Product GCB:\n",
      "  Component C1: 3500.00 liters\n",
      "  Component C2: 3500.00 liters\n",
      "Product GCA:\n",
      "  Component C1: 3730.77 liters\n",
      "  Component C2: 2269.23 liters\n",
      "Total Profit: 3525000.00\n"
     ]
    }
   ],
   "source": [
    "from pyomo.environ import *\n",
    "\n",
    "# Define sets and indices\n",
    "P = {'GCA', 'GCB', 'GCC'}  # Products\n",
    "C = {'C1', 'C2'}  # Components\n",
    "\n",
    "# Define parameters (using your sample data)\n",
    "a = {'C1': 10000, 'C2': 15000}  # Available liters of each component\n",
    "d = {'GCA': 6000, 'GCB': 7000, 'GCC': 9000}  # Minimum demand for each product\n",
    "e = {'C1': 0.4, 'C2': 0.2}  # Critical element proportion in each component\n",
    "l = {'GCA': 0.3, 'GCB': 0.3}  # Minimum required proportion of critical element\n",
    "r_GCC = 0.3  # Minimum ratio of C1 to C2 in GCC\n",
    "p = {'GCA': 120, 'GCB': 135, 'GCC': 155}  # Profit per liter of each product\n",
    "\n",
    "# Create the model\n",
    "model = ConcreteModel()\n",
    "\n",
    "# Define decision variables\n",
    "model.x = Var(C, P, domain=NonNegativeReals)\n",
    "\n",
    "total_profit_expr = sum(p[j] * sum(model.x[i, j] for i in C) for j in P)  #### HUMAN ADDED\n",
    "\n",
    "# Define objective function (maximize profit)\n",
    "model.profit = Objective(expr=total_profit_expr, sense=maximize)\n",
    "\n",
    "# Define constraints\n",
    "\n",
    "# 1. Component availability\n",
    "def component_availability_rule(model, i):\n",
    "    return sum(model.x[i, j] for j in P) <= a[i]\n",
    "\n",
    "model.component_availability = Constraint(C, rule=component_availability_rule)\n",
    "\n",
    "# 2. Minimum demand\n",
    "def minimum_demand_rule(model, j):\n",
    "    return sum(model.x[i, j] for i in C) >= d[j]\n",
    "\n",
    "model.minimum_demand = Constraint(P, rule=minimum_demand_rule)\n",
    "\n",
    "crit_element_gca_expr = sum(e[i] * model.x[i, 'GCA'] for i in C) >= l['GCA'] * sum(model.x[i, 'GCA'] for i in C) #### HUMAN ADDED\n",
    "\n",
    "# 3. Critical element requirement for GCA\n",
    "model.critical_element_GCA = Constraint(expr = crit_element_gca_expr)\n",
    "\n",
    "crit_element_gcb_expr = sum(e[i] * model.x[i, 'GCB'] for i in C) <= l['GCB'] * sum(model.x[i, 'GCB'] for i in C) #### HUMAN ADDED\n",
    "\n",
    "# 4. Critical element requirement for GCB\n",
    "model.critical_element_GCB = Constraint(expr = crit_element_gcb_expr)\n",
    "\n",
    "c1c2_ratio_expr = model.x['C1', 'GCC'] >= r_GCC * model.x['C2', 'GCC']\n",
    "# 5. C1/C2 ratio for GCC\n",
    "model.ratio_GCC = Constraint(expr=c1c2_ratio_expr)\n",
    "\n",
    "# Solve the model\n",
    "solver = SolverFactory('glpk')  # You can use other solvers like 'cbc', 'gurobi', etc.\n",
    "solver.solve(model)\n",
    "\n",
    "# Print the results\n",
    "\n",
    "print(\"Optimal Solution:\")\n",
    "for j in P:\n",
    "    print(f\"Product {j}:\")\n",
    "    for i in C:\n",
    "        print(f\"  Component {i}: {model.x[i, j]():.2f} liters\")\n",
    "print(f\"Total Profit: {model.profit():.2f}\")\n",
    "\n"
   ]
  }
 ],
 "metadata": {
  "kernelspec": {
   "display_name": "Python 3 (ipykernel)",
   "language": "python",
   "name": "python3"
  },
  "language_info": {
   "codemirror_mode": {
    "name": "ipython",
    "version": 3
   },
   "file_extension": ".py",
   "mimetype": "text/x-python",
   "name": "python",
   "nbconvert_exporter": "python",
   "pygments_lexer": "ipython3",
   "version": "3.11.4"
  }
 },
 "nbformat": 4,
 "nbformat_minor": 5
}
