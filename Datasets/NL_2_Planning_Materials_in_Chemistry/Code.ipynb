{
 "cells": [
  {
   "cell_type": "code",
   "execution_count": 1,
   "id": "0983d11d",
   "metadata": {},
   "outputs": [
    {
     "name": "stdout",
     "output_type": "stream",
     "text": [
      "\n",
      "Problem: \n",
      "- Lower bound: -inf\n",
      "  Upper bound: inf\n",
      "  Number of objectives: 1\n",
      "  Number of constraints: 3\n",
      "  Number of variables: 2\n",
      "  Sense: unknown\n",
      "Solver: \n",
      "- Status: ok\n",
      "  Message: Ipopt 3.11.1\\x3a Optimal Solution Found\n",
      "  Termination condition: optimal\n",
      "  Id: 0\n",
      "  Error rc: 0\n",
      "  Time: 0.050690412521362305\n",
      "Solution: \n",
      "- number of solutions: 0\n",
      "  number of solutions displayed: 0\n",
      "\n",
      "x1 = 43.162277233647174\n",
      "x2 = 36.8377229631074\n"
     ]
    }
   ],
   "source": [
    "import pyomo.environ as pyo\n",
    "\n",
    "# Define the model\n",
    "model = pyo.ConcreteModel()\n",
    "\n",
    "# Define the variables\n",
    "model.x1 = pyo.Var(domain=pyo.NonNegativeReals)\n",
    "model.x2 = pyo.Var(domain=pyo.NonNegativeReals)\n",
    "\n",
    "# Define the objective function\n",
    "model.objective = pyo.Objective(expr=pyo.log(model.x1 * model.x2) - (model.x1 + 2*model.x2)**(1/3), sense=pyo.maximize)\n",
    "\n",
    "# Define the constraints\n",
    "model.constraint1 = pyo.Constraint(expr=(model.x1 - (model.x1 + model.x2)/2)**2 <= 10)\n",
    "model.constraint2 = pyo.Constraint(expr=(model.x2 - (model.x1 + model.x2)/2)**2 <= 10)\n",
    "model.constraint3 = pyo.Constraint(expr=model.x1 + model.x2 <= 80)\n",
    "\n",
    "# Solve the model\n",
    "solver = pyo.SolverFactory('ipopt')  # You can choose a different solver if you prefer\n",
    "results = solver.solve(model)\n",
    "\n",
    "# Print the results\n",
    "print(results)\n",
    "print(f\"x1 = {pyo.value(model.x1)}\")\n",
    "print(f\"x2 = {pyo.value(model.x2)}\")"
   ]
  }
 ],
 "metadata": {
  "kernelspec": {
   "display_name": "Python 3 (ipykernel)",
   "language": "python",
   "name": "python3"
  },
  "language_info": {
   "codemirror_mode": {
    "name": "ipython",
    "version": 3
   },
   "file_extension": ".py",
   "mimetype": "text/x-python",
   "name": "python",
   "nbconvert_exporter": "python",
   "pygments_lexer": "ipython3",
   "version": "3.11.4"
  }
 },
 "nbformat": 4,
 "nbformat_minor": 5
}
