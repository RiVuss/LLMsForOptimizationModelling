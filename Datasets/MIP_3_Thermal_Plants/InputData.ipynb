{
 "cells": [
  {
   "cell_type": "code",
   "execution_count": null,
   "metadata": {},
   "outputs": [],
   "source": [
    "# Define sets\n",
    "I = ['Plant1', 'Plant2', 'Plant3', 'Plant4', 'Plant5', 'Plant6']\n",
    "T = range(1, 16)\n",
    "\n",
    "# Sample data\n",
    "# Startup costs\n",
    "cu = {'Plant1': 10324, 'Plant2': 5678, 'Plant3': 7802, 'Plant4': 12899, 'Plant5': 4596, 'Plant6': 9076}\n",
    "# Shutdown costs\n",
    "cd = {'Plant1': 2673, 'Plant2': 5893, 'Plant3': 982, 'Plant4': 6783, 'Plant5': 2596, 'Plant6': 3561}\n",
    "# Fixed costs\n",
    "crf = {'Plant1': 2000, 'Plant2': 3000, 'Plant3': 2500, 'Plant4': 4000, 'Plant5': 3500, 'Plant6': 4500}\n",
    "# Variable costs (changes for each time step)\n",
    "crv = {\n",
    "    'Plant1': [20, 22, 23, 24, 25, 26, 27, 28, 29, 30, 31, 32, 33, 34, 35],\n",
    "    'Plant2': [15, 16, 17, 18, 19, 20, 21, 22, 23, 24, 25, 26, 27, 28, 29],\n",
    "    'Plant3': [18, 19, 20, 21, 22, 23, 24, 25, 26, 27, 28, 29, 30, 31, 32],\n",
    "    'Plant4': [25, 26, 27, 28, 29, 30, 31, 32, 33, 34, 35, 36, 37, 38, 39],\n",
    "    'Plant5': [22, 23, 24, 25, 26, 27, 28, 29, 30, 31, 32, 33, 34, 35, 36],\n",
    "    'Plant6': [30, 31, 32, 33, 34, 35, 36, 37, 38, 39, 40, 41, 42, 43, 44]\n",
    "}\n",
    "# Lower and upper bounds for power output\n",
    "l = {'Plant1': 50, 'Plant2': 40, 'Plant3': 30, 'Plant4': 60, 'Plant5': 55, 'Plant6': 65}\n",
    "u = {'Plant1': 500, 'Plant2': 600, 'Plant3': 550, 'Plant4': 700, 'Plant5': 650, 'Plant6': 750}\n",
    "# Ramp limits (up and down)\n",
    "ramp_up = {'Plant1': 100, 'Plant2': 120, 'Plant3': 110, 'Plant4': 130, 'Plant5': 125, 'Plant6': 140}\n",
    "ramp_down = {'Plant1': 90, 'Plant2': 110, 'Plant3': 100, 'Plant4': 120, 'Plant5': 115, 'Plant6': 130}\n",
    "# Initial power output and running state\n",
    "x0 = {'Plant1': 368.873, 'Plant2': 89.6, 'Plant3': 0, 'Plant4': 0, 'Plant5': 407.3, 'Plant6': 0}\n",
    "v0 = {'Plant1': 1, 'Plant2': 1, 'Plant3': 0, 'Plant4': 0, 'Plant5': 1, 'Plant6': 0}\n",
    "# Demand for each time period\n",
    "d = {1: 1000, 2: 1200, 3: 1300, 4: 1100, 5: 1500, 6: 1400, 7: 1600, 8: 1300, 9: 1700, 10: 1800,\n",
    "     11: 1900, 12: 1600, 13: 2000, 14: 1800, 15: 1700}"
   ]
  }
 ],
 "metadata": {
  "language_info": {
   "name": "python"
  }
 },
 "nbformat": 4,
 "nbformat_minor": 2
}
