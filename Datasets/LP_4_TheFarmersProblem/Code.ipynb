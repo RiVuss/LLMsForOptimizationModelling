{
 "cells": [
  {
   "cell_type": "code",
   "execution_count": 1,
   "id": "546e8c98",
   "metadata": {},
   "outputs": [
    {
     "name": "stdout",
     "output_type": "stream",
     "text": [
      "Optimal solution:\n",
      "Objective value: $-118600.00\n",
      "Acres of Wheat: 120.00\n",
      "Tons of Wheat purchased: 0.00\n",
      "Tons of Wheat sold: 100.00\n",
      "Acres of Corn: 80.00\n",
      "Tons of Corn purchased: 0.00\n",
      "Tons of Corn sold: 0.00\n",
      "Acres of Sugar beet: 300.00\n",
      "Tons of Sugar beet purchased: 0.00\n",
      "Tons of Sugar beet sold: 6000.00\n",
      "Tons of sugar beet sold exceeding quota: 0.00\n"
     ]
    }
   ],
   "source": [
    "import pyomo.environ as pyo\n",
    "\n",
    "# Define sets\n",
    "I = ['Wheat', 'Corn', 'Sugar beet']\n",
    "\n",
    "# Define parameters\n",
    "A = 500\n",
    "D = {'Wheat': 200, 'Corn': 240, 'Sugar beet': 0} # Note: We assume no demand for sugar beet itself, only selling \n",
    "SP = {'Wheat': 170, 'Corn': 150, 'Sugar beet': 36, 'Sugar beet excess': 10}\n",
    "PP = {'Wheat': 238, 'Corn': 210, 'Sugar beet': 0} # Note: Assuming no purchasing of sugar beet\n",
    "Q = {'Sugar beet': 6000}\n",
    "Y = {'Wheat': 2.5, 'Corn': 3, 'Sugar beet': 20}\n",
    "C = {'Wheat': 150, 'Corn': 230, 'Sugar beet': 260}\n",
    "\n",
    "# Create model\n",
    "model = pyo.ConcreteModel()\n",
    "\n",
    "# Define variables\n",
    "model.X = pyo.Var(I, domain=pyo.NonNegativeReals) # Acres of land devoted to each crop\n",
    "model.P = pyo.Var(I, domain=pyo.NonNegativeReals, initialize=0) # Tons of each crop purchased\n",
    "model.S = pyo.Var(I, domain=pyo.NonNegativeReals) # Tons of each crop sold within quota\n",
    "model.S_excess = pyo.Var(domain=pyo.NonNegativeReals) # Tons of sugar beet sold exceeding quota\n",
    "\n",
    "# Define objective function\n",
    "def objective_rule(model):\n",
    "    return sum(C[i] * model.X[i] + PP[i] * model.P[i] - SP[i] * model.S[i] for i in I) - SP['Sugar beet excess'] * model.S_excess\n",
    "model.objective = pyo.Objective(rule=objective_rule, sense=pyo.minimize)\n",
    "\n",
    "# Define constraints\n",
    "model.land_availability = pyo.Constraint(expr=sum(model.X[i] for i in I) <= A)\n",
    "\n",
    "model.demand_wheat = pyo.Constraint(expr=Y['Wheat'] * model.X['Wheat'] + model.P['Wheat'] >= D['Wheat'])\n",
    "model.demand_corn = pyo.Constraint(expr=Y['Corn'] * model.X['Corn'] + model.P['Corn'] >= D['Corn'])\n",
    "\n",
    "model.sales_wheat = pyo.Constraint(expr=model.S['Wheat'] <= Y['Wheat'] * model.X['Wheat'] + model.P['Wheat'] - D['Wheat'])\n",
    "model.sales_corn = pyo.Constraint(expr=model.S['Corn'] <= Y['Corn'] * model.X['Corn'] + model.P['Corn'] - D['Corn'])\n",
    "model.sales_sugar_beet = pyo.Constraint(expr=model.S['Sugar beet'] <= Y['Sugar beet'] * model.X['Sugar beet'])\n",
    "\n",
    "model.quota_sugar_beet = pyo.Constraint(expr=model.S['Sugar beet'] <= Q['Sugar beet'])\n",
    "\n",
    "model.excess_sugar_beet = pyo.Constraint(expr=model.S_excess == Y['Sugar beet'] * model.X['Sugar beet'] - model.S['Sugar beet'])\n",
    "\n",
    "# Solve the model\n",
    "solver = pyo.SolverFactory('glpk') # You can choose a different solver if you prefer\n",
    "solver.solve(model)\n",
    "\n",
    "# Print results\n",
    "print(\"Optimal solution:\")\n",
    "print(f\"Objective value: ${model.objective():.2f}\")\n",
    "for i in I:\n",
    "    print(f\"Acres of {i}: {model.X[i]():.2f}\")\n",
    "    print(f\"Tons of {i} purchased: {model.P[i]():.2f}\")\n",
    "    print(f\"Tons of {i} sold: {model.S[i]():.2f}\")\n",
    "print(f\"Tons of sugar beet sold exceeding quota: {model.S_excess():.2f}\")"
   ]
  }
 ],
 "metadata": {
  "kernelspec": {
   "display_name": "Python 3 (ipykernel)",
   "language": "python",
   "name": "python3"
  },
  "language_info": {
   "codemirror_mode": {
    "name": "ipython",
    "version": 3
   },
   "file_extension": ".py",
   "mimetype": "text/x-python",
   "name": "python",
   "nbconvert_exporter": "python",
   "pygments_lexer": "ipython3",
   "version": "3.11.4"
  }
 },
 "nbformat": 4,
 "nbformat_minor": 5
}
