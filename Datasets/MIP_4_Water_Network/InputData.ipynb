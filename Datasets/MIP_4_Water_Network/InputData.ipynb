{
 "cells": [
  {
   "cell_type": "code",
   "execution_count": null,
   "metadata": {},
   "outputs": [],
   "source": [
    "# Time steps\n",
    "T = 10\n",
    "model.t = RangeSet(0, T-1)\n",
    "\n",
    "# Nodes and edges definitions\n",
    "nodes = ['A', 'B', 'C', 'D', 'E', 'F', 'G']\n",
    "edges = ['AB', 'AC', 'AF', 'BC', 'BD', 'BE', 'CE', 'CF', 'DE', 'EG', 'FB', 'FG']\n",
    "capacities = {'AB': 3, 'AC': 6, 'AF': 1, 'BC': 3, 'BD': 10, 'BE': 4, \n",
    "              'CE': 4, 'CF': 4, 'DE': 5, 'EG': 5, 'FB': 12, 'FG': 7}\n",
    "\n",
    "# Maximum number of active pipes\n",
    "k = 10"
   ]
  }
 ],
 "metadata": {
  "language_info": {
   "name": "python"
  }
 },
 "nbformat": 4,
 "nbformat_minor": 2
}
