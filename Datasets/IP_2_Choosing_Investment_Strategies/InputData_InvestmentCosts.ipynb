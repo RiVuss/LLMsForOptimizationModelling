{
  "nbformat": 4,
  "nbformat_minor": 0,
  "metadata": {
    "colab": {
      "provenance": []
    },
    "kernelspec": {
      "name": "python3",
      "display_name": "Python 3"
    },
    "language_info": {
      "name": "python"
    }
  },
  "cells": [
    {
      "cell_type": "code",
      "execution_count": null,
      "metadata": {
        "id": "b4tbId297-q0"
      },
      "outputs": [],
      "source": [
        "investment_costs = {\n",
        "    1: 80,\n",
        "    2: 340,\n",
        "    3: 410,\n",
        "    4: 50,\n",
        "    5: 180,\n",
        "    6: 221,\n",
        "    7: 15,\n",
        "    8: 348,\n",
        "    9: 191,\n",
        "    10: 225\n",
        "}\n",
        "\n",
        "#These are already embedded in the correct code."
      ]
    }
  ]
}
