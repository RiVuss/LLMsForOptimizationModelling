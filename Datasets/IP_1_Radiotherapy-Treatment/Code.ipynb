{
 "cells": [
  {
   "cell_type": "code",
   "execution_count": 1,
   "id": "7412bbfc",
   "metadata": {},
   "outputs": [
    {
     "name": "stdout",
     "output_type": "stream",
     "text": [
      "Optimal Solution:\n",
      "Patient 1 receives 15 proton fractions (BED score: 0.44)\n",
      "Patient 2 receives 8 proton fractions (BED score: 0.5)\n",
      "Patient 3 receives 3 proton fractions (BED score: 0.75)\n",
      "Patient 4 receives 0 proton fractions (BED score: 0.3)\n",
      "Patient 5 receives 5 proton fractions (BED score: 0.26)\n",
      "Patient 6 receives 0 proton fractions (BED score: 0.8)\n",
      "Patient 7 receives 4 proton fractions (BED score: 0.67)\n",
      "Patient 8 receives 13 proton fractions (BED score: 0.28)\n",
      "Patient 9 receives 4 proton fractions (BED score: 0.22)\n",
      "Patient 10 receives 5 proton fractions (BED score: 0.8)\n",
      "Patient 11 receives 6 proton fractions (BED score: 0.53)\n",
      "Patient 12 receives 0 proton fractions (BED score: 0.2)\n",
      "Patient 13 receives 5 proton fractions (BED score: 0.75)\n",
      "Patient 14 receives 0 proton fractions (BED score: 0.01)\n",
      "Patient 15 receives 10 proton fractions (BED score: 0.41)\n",
      "Patient 16 receives 10 proton fractions (BED score: 0.899999999999999)\n",
      "Patient 17 receives 12 proton fractions (BED score: 0.42)\n",
      "\n",
      "Total BED Score: 8.239999999999998\n"
     ]
    }
   ],
   "source": [
    "import pyomo.environ as pyo\n",
    "\n",
    "# Define sets and indices\n",
    "I = range(1, 18)  # Patients (1 to 17)\n",
    "P = range(16)     # Proton fractions (0 to 15)\n",
    "\n",
    "# Define parameters\n",
    "C = 100  # Maximum proton fractions capacity\n",
    "\n",
    "# Read BED scores from CSV file (assuming 'ProblemData.csv' is in the same directory)\n",
    "#This is just one way of doing this, the data can be loaded in a couple ways.\n",
    "BED = {}\n",
    "with open('ProblemData.csv', 'r') as f:\n",
    "    for i, line in enumerate(f):\n",
    "        BED[i+1] = [float(x) for x in line.strip().split(',')]\n",
    "\n",
    "# Create the Pyomo model\n",
    "model = pyo.ConcreteModel()\n",
    "\n",
    "# Define decision variables\n",
    "model.x = pyo.Var(I, P, domain=pyo.Binary)\n",
    "\n",
    "# Objective function (maximize total BED score)\n",
    "model.obj = pyo.Objective(expr=sum(BED[i][p] * model.x[i, p] for i in I for p in P), sense=pyo.maximize)\n",
    "\n",
    "# Constraint 1: Proton capacity constraint\n",
    "model.capacity_constraint = pyo.Constraint(expr=sum(p * model.x[i, p] for i in I for p in P) <= C)\n",
    "\n",
    "# Constraint 2: Treatment assignment constraint (each patient gets exactly one treatment)\n",
    "model.assignment_constraint = pyo.ConstraintList()\n",
    "for i in I:\n",
    "    model.assignment_constraint.add(expr=sum(model.x[i, p] for p in P) == 1)\n",
    "\n",
    "# Solve the model\n",
    "solver = pyo.SolverFactory('glpk')  # You can choose other solvers like gurobi, cplex, etc.\n",
    "solver.solve(model)\n",
    "\n",
    "# Print the results\n",
    "print(\"Optimal Solution:\")\n",
    "for i in I:\n",
    "    for p in P:\n",
    "        if model.x[i, p].value > 0.5:\n",
    "            print(f\"Patient {i} receives {p} proton fractions (BED score: {BED[i][p]})\")\n",
    "\n",
    "print(\"\\nTotal BED Score:\", model.obj())"
   ]
  },
  {
   "cell_type": "code",
   "execution_count": null,
   "id": "d7a2044a",
   "metadata": {},
   "outputs": [],
   "source": []
  }
 ],
 "metadata": {
  "kernelspec": {
   "display_name": "Python 3 (ipykernel)",
   "language": "python",
   "name": "python3"
  },
  "language_info": {
   "codemirror_mode": {
    "name": "ipython",
    "version": 3
   },
   "file_extension": ".py",
   "mimetype": "text/x-python",
   "name": "python",
   "nbconvert_exporter": "python",
   "pygments_lexer": "ipython3",
   "version": "3.11.4"
  }
 },
 "nbformat": 4,
 "nbformat_minor": 5
}
