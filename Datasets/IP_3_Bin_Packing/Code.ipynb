{
  "nbformat": 4,
  "nbformat_minor": 0,
  "metadata": {
    "colab": {
      "provenance": []
    },
    "kernelspec": {
      "name": "python3",
      "display_name": "Python 3"
    },
    "language_info": {
      "name": "python"
    }
  },
  "cells": [
    {
      "cell_type": "code",
      "source": [
        "!pip3 install pyomo\n",
        "import pyomo\n",
        "from pyomo.environ import *\n",
        "from pyomo.opt import SolverFactory\n",
        "!apt install glpk-utils\n",
        "!pip install glpk"
      ],
      "metadata": {
        "colab": {
          "base_uri": "https://localhost:8080/"
        },
        "id": "R35PnTt9CBqk",
        "outputId": "79a4df19-d2db-4113-ebf6-e207fa598f5a"
      },
      "execution_count": 21,
      "outputs": [
        {
          "output_type": "stream",
          "name": "stdout",
          "text": [
            "Requirement already satisfied: pyomo in /usr/local/lib/python3.10/dist-packages (6.7.1)\n",
            "Requirement already satisfied: ply in /usr/local/lib/python3.10/dist-packages (from pyomo) (3.11)\n",
            "Reading package lists... Done\n",
            "Building dependency tree... Done\n",
            "Reading state information... Done\n",
            "glpk-utils is already the newest version (5.0-1).\n",
            "0 upgraded, 0 newly installed, 0 to remove and 45 not upgraded.\n",
            "Collecting glpk\n",
            "  Using cached glpk-0.4.7.tar.gz (161 kB)\n",
            "  Installing build dependencies ... \u001b[?25l\u001b[?25hdone\n",
            "  Getting requirements to build wheel ... \u001b[?25l\u001b[?25hdone\n",
            "  Preparing metadata (pyproject.toml) ... \u001b[?25l\u001b[?25hdone\n",
            "Building wheels for collected packages: glpk\n",
            "  \u001b[1;31merror\u001b[0m: \u001b[1msubprocess-exited-with-error\u001b[0m\n",
            "  \n",
            "  \u001b[31m×\u001b[0m \u001b[32mBuilding wheel for glpk \u001b[0m\u001b[1;32m(\u001b[0m\u001b[32mpyproject.toml\u001b[0m\u001b[1;32m)\u001b[0m did not run successfully.\n",
            "  \u001b[31m│\u001b[0m exit code: \u001b[1;36m1\u001b[0m\n",
            "  \u001b[31m╰─>\u001b[0m See above for output.\n",
            "  \n",
            "  \u001b[1;35mnote\u001b[0m: This error originates from a subprocess, and is likely not a problem with pip.\n",
            "  Building wheel for glpk (pyproject.toml) ... \u001b[?25l\u001b[?25herror\n",
            "\u001b[31m  ERROR: Failed building wheel for glpk\u001b[0m\u001b[31m\n",
            "\u001b[0mFailed to build glpk\n",
            "\u001b[31mERROR: Could not build wheels for glpk, which is required to install pyproject.toml-based projects\u001b[0m\u001b[31m\n",
            "\u001b[0m"
          ]
        }
      ]
    },
    {
      "cell_type": "code",
      "execution_count": 84,
      "metadata": {
        "id": "m-tIc_jBBX2D"
      },
      "outputs": [],
      "source": [
        "\n",
        "    B = 9\n",
        "    w = [2,3,4,5,6,7,8]\n",
        "    q = [4,2,6,6,2,2,2]\n",
        "    s=[]\n",
        "    for j in range(len(w)):\n",
        "        for i in range(q[j]):\n",
        "            s.append(w[j])"
      ]
    },
    {
      "cell_type": "code",
      "source": [
        "def FFD(s, B):\n",
        "    remain = [B]\n",
        "    sol = [[]]\n",
        "    for item in sorted(s, reverse=True):\n",
        "        for j,free in enumerate(remain):\n",
        "            if free >= item:\n",
        "                remain[j] -= item\n",
        "                sol[j].append(item)\n",
        "                break\n",
        "        else:\n",
        "            sol.append([item])\n",
        "            remain.append(B-item)\n",
        "    return sol\n",
        "n = len(s)\n",
        "U = len(FFD(s, B))"
      ],
      "metadata": {
        "id": "imK6VQXwBogk"
      },
      "execution_count": 85,
      "outputs": []
    },
    {
      "cell_type": "code",
      "source": [
        "\n",
        "    model = ConcreteModel()\n",
        "\n",
        "    # Variables\n",
        "    model.x = Var(range(n), range(U), within=Binary, initialize=0)\n",
        "    model.y = Var(range(U), within=Binary, initialize=0)\n",
        "\n",
        "    # Constraints\n",
        "    # Each item must be in exactly one bin\n",
        "    def assignment_constraint(model, i):\n",
        "        return sum(model.x[i, j] for j in range(U)) == 1\n",
        "    model.assignment_constraint = Constraint(range(n), rule=assignment_constraint)\n",
        "\n",
        "    # The total weight in each bin cannot exceed the bin capacity times the bin use variable\n",
        "    def capacity_constraint(model, j):\n",
        "        return sum(s[i] * model.x[i, j] for i in range(n)) <= B * model.y[j]\n",
        "    model.capacity_constraint = Constraint(range(U), rule=capacity_constraint)\n",
        "\n",
        "    # x_ij can only be 1 if y_j is 1 (i.e., if bin j is used)\n",
        "    def linking_constraint(model, i, j):\n",
        "        return model.x[i, j] <= model.y[j]\n",
        "    model.linking_constraint = Constraint(range(n), range(U), rule=linking_constraint)\n",
        "\n",
        "    # Objective\n",
        "    model.obj = Objective(expr=sum(model.y[j] for j in range(U)), sense=minimize)\n",
        "\n",
        ""
      ],
      "metadata": {
        "id": "WEzvEPz0B_uU"
      },
      "execution_count": 86,
      "outputs": []
    },
    {
      "cell_type": "code",
      "source": [
        "\n",
        "    solver = SolverFactory('glpk')\n",
        "    solver.solve(model)"
      ],
      "metadata": {
        "colab": {
          "base_uri": "https://localhost:8080/"
        },
        "id": "MCpswBjbCnbo",
        "outputId": "e1e4cb2a-2d8a-48eb-a0f2-bbaad403b6c6"
      },
      "execution_count": 87,
      "outputs": [
        {
          "output_type": "execute_result",
          "data": {
            "text/plain": [
              "{'Problem': [{'Name': 'unknown', 'Lower bound': 13.0, 'Upper bound': 13.0, 'Number of objectives': 1, 'Number of constraints': 349, 'Number of variables': 325, 'Number of nonzeros': 1261, 'Sense': 'minimize'}], 'Solver': [{'Status': 'ok', 'Termination condition': 'optimal', 'Statistics': {'Branch and bound': {'Number of bounded subproblems': '47', 'Number of created subproblems': '47'}}, 'Error rc': 0, 'Time': 0.03950691223144531}], 'Solution': [OrderedDict([('number of solutions', 0), ('number of solutions displayed', 0)])]}"
            ]
          },
          "metadata": {},
          "execution_count": 87
        }
      ]
    },
    {
      "cell_type": "code",
      "source": [
        "print(\"Objective Value:\", model.obj())"
      ],
      "metadata": {
        "colab": {
          "base_uri": "https://localhost:8080/"
        },
        "id": "Ah_m7IbeCU_3",
        "outputId": "5b502529-e056-43ea-866f-4de50dbaf14c"
      },
      "execution_count": 88,
      "outputs": [
        {
          "output_type": "stream",
          "name": "stdout",
          "text": [
            "Objective Value: 13.0\n"
          ]
        }
      ]
    },
    {
      "cell_type": "code",
      "source": [
        "bins = [[] for i in range(U)]\n",
        "for (i,j) in model.x:\n",
        "  if value(model.x[i,j])> .5:\n",
        "    bins[j].append(s[i])\n",
        "for i in range(bins.count([])):\n",
        "  bins.remove([])\n",
        "for b in bins:\n",
        "  b.sort()\n",
        "bins.sort()"
      ],
      "metadata": {
        "id": "vTgJ9cg9RiPK"
      },
      "execution_count": 92,
      "outputs": []
    },
    {
      "cell_type": "code",
      "source": [
        "print(\"Bin Division:\", bins)"
      ],
      "metadata": {
        "colab": {
          "base_uri": "https://localhost:8080/"
        },
        "id": "qeQfL3_MRz9e",
        "outputId": "a7ef880d-105e-4af2-8e8b-de33b8d9d952"
      },
      "execution_count": 94,
      "outputs": [
        {
          "output_type": "stream",
          "name": "stdout",
          "text": [
            "Bin Division: [[2, 2, 5], [2, 7], [2, 7], [3, 6], [3, 6], [4, 4], [4, 5], [4, 5], [4, 5], [4, 5], [5], [8], [8]]\n"
          ]
        }
      ]
    }
  ]
}
