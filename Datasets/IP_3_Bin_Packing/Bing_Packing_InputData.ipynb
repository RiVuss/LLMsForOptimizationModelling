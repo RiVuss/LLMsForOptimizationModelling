{
  "nbformat": 4,
  "nbformat_minor": 0,
  "metadata": {
    "colab": {
      "provenance": []
    },
    "kernelspec": {
      "name": "python3",
      "display_name": "Python 3"
    },
    "language_info": {
      "name": "python"
    }
  },
  "cells": [
    {
      "cell_type": "code",
      "execution_count": null,
      "metadata": {
        "id": "Wo_94wpxPOJ5"
      },
      "outputs": [],
      "source": [
        " B = 9\n",
        "    w = [2,3,4,5,6,7,8]\n",
        "    q = [4,2,6,6,2,2,2]\n",
        "    s=[]\n",
        "    for j in range(len(w)):\n",
        "        for i in range(q[j]):\n",
        "            s.append(w[j])"
      ]
    },
    {
      "cell_type": "code",
      "source": [
        "def FFD(s, B):\n",
        "    remain = [B]\n",
        "    sol = [[]]\n",
        "    for item in sorted(s, reverse=True):\n",
        "        for j,free in enumerate(remain):\n",
        "            if free >= item:\n",
        "                remain[j] -= item\n",
        "                sol[j].append(item)\n",
        "                break\n",
        "        else:\n",
        "            sol.append([item])\n",
        "            remain.append(B-item)\n",
        "    return sol\n",
        "n = len(s)\n",
        "U = len(FFD(s, B))"
      ],
      "metadata": {
        "id": "LrQ6IcStPVq7"
      },
      "execution_count": null,
      "outputs": []
    }
  ]
}