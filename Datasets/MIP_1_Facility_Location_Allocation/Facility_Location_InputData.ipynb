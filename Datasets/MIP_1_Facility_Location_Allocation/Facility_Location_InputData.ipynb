{
  "nbformat": 4,
  "nbformat_minor": 0,
  "metadata": {
    "colab": {
      "provenance": []
    },
    "kernelspec": {
      "name": "python3",
      "display_name": "Python 3"
    },
    "language_info": {
      "name": "python"
    }
  },
  "cells": [
    {
      "cell_type": "code",
      "execution_count": null,
      "metadata": {
        "id": "1anMhJ1lyH9g"
      },
      "outputs": [],
      "source": [
        "#Parameters and Input Data\n",
        "# Define demand for each customer\n",
        "d = {1: 80, 2: 270, 3: 250, 4: 160, 5: 180}\n",
        "# Define a list of customers\n",
        "I = list(d.keys())\n",
        "\n",
        "# Define the maximum amounts and activation costs for each site\n",
        "M = {1: 500, 2: 500, 3: 500}\n",
        "f = {1: 1000, 2: 1000, 3: 1000}\n",
        "# Define a list of facility sites\n",
        "J = list(M.keys())\n",
        "\n",
        "# Define transportation costs\n",
        "c = {\n",
        "    (1, 1): 4,  (1, 2): 6,  (1, 3): 9,\n",
        "    (2, 1): 5,  (2, 2): 4,  (2, 3): 7,\n",
        "    (3, 1): 6,  (3, 2): 3,  (3, 3): 4,\n",
        "    (4, 1): 8,  (4, 2): 5,  (4, 3): 3,\n",
        "    (5, 1): 10, (5, 2): 8,  (5, 3): 4,\n",
        "}"
      ]
    }
  ]
}