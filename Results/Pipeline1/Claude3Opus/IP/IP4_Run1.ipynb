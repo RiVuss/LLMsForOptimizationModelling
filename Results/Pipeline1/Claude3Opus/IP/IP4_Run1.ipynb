{
  "nbformat": 4,
  "nbformat_minor": 0,
  "metadata": {
    "colab": {
      "provenance": []
    },
    "kernelspec": {
      "name": "python3",
      "display_name": "Python 3"
    },
    "language_info": {
      "name": "python"
    }
  },
  "cells": [
    {
      "cell_type": "markdown",
      "source": [
        "# 0. Imports and Setting up Anthropic API Client"
      ],
      "metadata": {
        "id": "y5fw0lkBwBbo"
      }
    },
    {
      "cell_type": "code",
      "source": [
        "from google.colab import drive\n",
        "\n",
        "drive.mount('/content/drive')"
      ],
      "metadata": {
        "colab": {
          "base_uri": "https://localhost:8080/"
        },
        "id": "e7tWOLo0yMoH",
        "outputId": "5dc5f2c1-cb88-48b1-cd7d-ca6f85363c77"
      },
      "execution_count": 1,
      "outputs": [
        {
          "output_type": "stream",
          "name": "stdout",
          "text": [
            "Mounted at /content/drive\n"
          ]
        }
      ]
    },
    {
      "cell_type": "code",
      "source": [
        "!pip install python-dotenv\n",
        "\n",
        "import os\n",
        "import dotenv\n",
        "\n",
        "dotenv.load_dotenv('/content/drive/MyDrive/.env')"
      ],
      "metadata": {
        "colab": {
          "base_uri": "https://localhost:8080/"
        },
        "id": "utcEK8lZ1Z1R",
        "outputId": "e04d5a48-20d1-4943-e488-21582c9a3f02"
      },
      "execution_count": 2,
      "outputs": [
        {
          "output_type": "stream",
          "name": "stdout",
          "text": [
            "Collecting python-dotenv\n",
            "  Downloading python_dotenv-1.0.1-py3-none-any.whl (19 kB)\n",
            "Installing collected packages: python-dotenv\n",
            "Successfully installed python-dotenv-1.0.1\n"
          ]
        },
        {
          "output_type": "execute_result",
          "data": {
            "text/plain": [
              "True"
            ]
          },
          "metadata": {},
          "execution_count": 2
        }
      ]
    },
    {
      "cell_type": "code",
      "source": [
        "# Load Prompts and Problem Description\n",
        "prompt1_path = '/content/drive/MyDrive/Thesis/Prompts/Prompt1_MathematicalModel.txt'\n",
        "prompt2_path = '/content/drive/MyDrive/Thesis/Prompts/Prompt2_PyomoCode.txt'\n",
        "problem_desc_path = '/content/drive/MyDrive/Thesis/ProblemDescriptions/IP/IP4.txt'\n",
        "\n",
        "prompt1_file = open(prompt1_path, \"r\")\n",
        "prompt2_file = open(prompt2_path, \"r\")\n",
        "problem_desc_file = open(problem_desc_path, \"r\")\n",
        "\n",
        "prompt1 = prompt1_file.read()\n",
        "print(\"Prompt 1:\\n\", prompt1)\n",
        "\n",
        "prompt2 = prompt2_file.read()\n",
        "print(\"Prompt 2:\\n\", prompt2)\n",
        "\n",
        "problem_desc = problem_desc_file.read()\n",
        "print(\"Problem Description:\\n\", problem_desc)"
      ],
      "metadata": {
        "colab": {
          "base_uri": "https://localhost:8080/"
        },
        "id": "9KlkjwMUS4xp",
        "outputId": "3a5f3e96-bc14-4861-883a-c4592566a842"
      },
      "execution_count": 3,
      "outputs": [
        {
          "output_type": "stream",
          "name": "stdout",
          "text": [
            "Prompt 1:\n",
            " Please write a mathematical optimization model for this problem. Include parameters, decision variables, the objective function and the constraints in your answer.\n",
            "Prompt 2:\n",
            " Please write a python pyomo code for this optimization problem.\n",
            "Use sample data where needed.\n",
            "Indicate where you use sample data.\n",
            "Problem Description:\n",
            " Imagine you own a small shop, and you're trying to manage your employees' working hours and sales targets efficiently.\n",
            "You have three kinds of goals overall: sales goals, employee hours goals and overtime goals.\n",
            "\n",
            "Sales Goals: \n",
            "You have a target of selling 5500 units. \n",
            "But sometimes, you might sell fewer (negative deviation) or more (positive deviation) than this target. \n",
            "On average, your full-time employees will sell 5 records per hour and your part-time employees will sell 2 records per hour.\n",
            "\n",
            "Employee Hours: \n",
            "You have both full-time and part-time employees. \n",
            "Your full-time employees are expected to work a total of 800 hours, while part-time employees are expected to work 320 hours. \n",
            "Similarly, like sales, there could be deviations in these working hours. \n",
            "\n",
            "Overtime: \n",
            "Additionally, your employees might end up working overtime. \n",
            "You have a target of 100 hours of overtime for full-time employees.\n",
            "You are not concerned about limiting the overtime of part-time employees.\n",
            "Again, you might deviate from this goal.\n",
            "\n",
            "Each of these deviations has a different priority for you. \n",
            "P1 to P4 are priority factors for each deviation.\n",
            "Your most important goal is to achieve your sales goal.\n",
            "Second to that is the goal to not exceed 100 overtime hours for full-time employees.\n",
            "Then, you next priority is to fully utilize your full-time and part time employees.\n",
            "Your last goal with the lowest priority, you want to keep general overtime hours for both kinds of employees as low as possible.\n",
            "In addition to the general priorities of you goals, you are twice as concerned about fully utilizing the full-time employee hours.\n",
            "Finally, overtime hours of part-time employees have a relative cost of three times that of full-time employees.\n",
            "\n",
            "Now, the goal here is to minimize the overall impact of these deviations, considering their priorities. \n",
            "This means finding the best balance between sales targets, employee hours, and overtime, while keeping in mind which deviations are more critical for your business.\n"
          ]
        }
      ]
    },
    {
      "cell_type": "code",
      "source": [
        "!pip install anthropic"
      ],
      "metadata": {
        "colab": {
          "base_uri": "https://localhost:8080/"
        },
        "id": "iWlNsTIvxCcR",
        "outputId": "047ea04a-53dd-4cf9-cd0a-456c7d8260bf",
        "collapsed": true
      },
      "execution_count": 4,
      "outputs": [
        {
          "output_type": "stream",
          "name": "stdout",
          "text": [
            "Collecting anthropic\n",
            "  Downloading anthropic-0.26.0-py3-none-any.whl (877 kB)\n",
            "\u001b[2K     \u001b[90m━━━━━━━━━━━━━━━━━━━━━━━━━━━━━━━━━━━━━━━━\u001b[0m \u001b[32m877.7/877.7 kB\u001b[0m \u001b[31m12.7 MB/s\u001b[0m eta \u001b[36m0:00:00\u001b[0m\n",
            "\u001b[?25hRequirement already satisfied: anyio<5,>=3.5.0 in /usr/local/lib/python3.10/dist-packages (from anthropic) (3.7.1)\n",
            "Requirement already satisfied: distro<2,>=1.7.0 in /usr/lib/python3/dist-packages (from anthropic) (1.7.0)\n",
            "Collecting httpx<1,>=0.23.0 (from anthropic)\n",
            "  Downloading httpx-0.27.0-py3-none-any.whl (75 kB)\n",
            "\u001b[2K     \u001b[90m━━━━━━━━━━━━━━━━━━━━━━━━━━━━━━━━━━━━━━━━\u001b[0m \u001b[32m75.6/75.6 kB\u001b[0m \u001b[31m8.3 MB/s\u001b[0m eta \u001b[36m0:00:00\u001b[0m\n",
            "\u001b[?25hRequirement already satisfied: pydantic<3,>=1.9.0 in /usr/local/lib/python3.10/dist-packages (from anthropic) (2.7.1)\n",
            "Requirement already satisfied: sniffio in /usr/local/lib/python3.10/dist-packages (from anthropic) (1.3.1)\n",
            "Requirement already satisfied: tokenizers>=0.13.0 in /usr/local/lib/python3.10/dist-packages (from anthropic) (0.19.1)\n",
            "Requirement already satisfied: typing-extensions<5,>=4.7 in /usr/local/lib/python3.10/dist-packages (from anthropic) (4.11.0)\n",
            "Requirement already satisfied: idna>=2.8 in /usr/local/lib/python3.10/dist-packages (from anyio<5,>=3.5.0->anthropic) (3.7)\n",
            "Requirement already satisfied: exceptiongroup in /usr/local/lib/python3.10/dist-packages (from anyio<5,>=3.5.0->anthropic) (1.2.1)\n",
            "Requirement already satisfied: certifi in /usr/local/lib/python3.10/dist-packages (from httpx<1,>=0.23.0->anthropic) (2024.2.2)\n",
            "Collecting httpcore==1.* (from httpx<1,>=0.23.0->anthropic)\n",
            "  Downloading httpcore-1.0.5-py3-none-any.whl (77 kB)\n",
            "\u001b[2K     \u001b[90m━━━━━━━━━━━━━━━━━━━━━━━━━━━━━━━━━━━━━━━━\u001b[0m \u001b[32m77.9/77.9 kB\u001b[0m \u001b[31m3.6 MB/s\u001b[0m eta \u001b[36m0:00:00\u001b[0m\n",
            "\u001b[?25hCollecting h11<0.15,>=0.13 (from httpcore==1.*->httpx<1,>=0.23.0->anthropic)\n",
            "  Downloading h11-0.14.0-py3-none-any.whl (58 kB)\n",
            "\u001b[2K     \u001b[90m━━━━━━━━━━━━━━━━━━━━━━━━━━━━━━━━━━━━━━━━\u001b[0m \u001b[32m58.3/58.3 kB\u001b[0m \u001b[31m7.3 MB/s\u001b[0m eta \u001b[36m0:00:00\u001b[0m\n",
            "\u001b[?25hRequirement already satisfied: annotated-types>=0.4.0 in /usr/local/lib/python3.10/dist-packages (from pydantic<3,>=1.9.0->anthropic) (0.6.0)\n",
            "Requirement already satisfied: pydantic-core==2.18.2 in /usr/local/lib/python3.10/dist-packages (from pydantic<3,>=1.9.0->anthropic) (2.18.2)\n",
            "Requirement already satisfied: huggingface-hub<1.0,>=0.16.4 in /usr/local/lib/python3.10/dist-packages (from tokenizers>=0.13.0->anthropic) (0.20.3)\n",
            "Requirement already satisfied: filelock in /usr/local/lib/python3.10/dist-packages (from huggingface-hub<1.0,>=0.16.4->tokenizers>=0.13.0->anthropic) (3.14.0)\n",
            "Requirement already satisfied: fsspec>=2023.5.0 in /usr/local/lib/python3.10/dist-packages (from huggingface-hub<1.0,>=0.16.4->tokenizers>=0.13.0->anthropic) (2023.6.0)\n",
            "Requirement already satisfied: requests in /usr/local/lib/python3.10/dist-packages (from huggingface-hub<1.0,>=0.16.4->tokenizers>=0.13.0->anthropic) (2.31.0)\n",
            "Requirement already satisfied: tqdm>=4.42.1 in /usr/local/lib/python3.10/dist-packages (from huggingface-hub<1.0,>=0.16.4->tokenizers>=0.13.0->anthropic) (4.66.4)\n",
            "Requirement already satisfied: pyyaml>=5.1 in /usr/local/lib/python3.10/dist-packages (from huggingface-hub<1.0,>=0.16.4->tokenizers>=0.13.0->anthropic) (6.0.1)\n",
            "Requirement already satisfied: packaging>=20.9 in /usr/local/lib/python3.10/dist-packages (from huggingface-hub<1.0,>=0.16.4->tokenizers>=0.13.0->anthropic) (24.0)\n",
            "Requirement already satisfied: charset-normalizer<4,>=2 in /usr/local/lib/python3.10/dist-packages (from requests->huggingface-hub<1.0,>=0.16.4->tokenizers>=0.13.0->anthropic) (3.3.2)\n",
            "Requirement already satisfied: urllib3<3,>=1.21.1 in /usr/local/lib/python3.10/dist-packages (from requests->huggingface-hub<1.0,>=0.16.4->tokenizers>=0.13.0->anthropic) (2.0.7)\n",
            "Installing collected packages: h11, httpcore, httpx, anthropic\n",
            "Successfully installed anthropic-0.26.0 h11-0.14.0 httpcore-1.0.5 httpx-0.27.0\n"
          ]
        }
      ]
    },
    {
      "cell_type": "code",
      "execution_count": 5,
      "metadata": {
        "id": "7Qjk2D63v1Bl"
      },
      "outputs": [],
      "source": [
        "# Importing Anthropic & Setting Headers\n",
        "import anthropic\n",
        "\n",
        "client = anthropic.Anthropic(\n",
        "    # defaults to os.environ.get(\"ANTHROPIC_API_KEY\")\n",
        "    api_key=os.environ.get(\"ANTHROPIC_API_KEY\"),\n",
        ")"
      ]
    },
    {
      "cell_type": "markdown",
      "source": [
        "# 1. Prompt 1: Create Mathematical Model"
      ],
      "metadata": {
        "id": "kT7yKbJs18XR"
      }
    },
    {
      "cell_type": "code",
      "source": [
        "message = client.messages.create(\n",
        "    model=\"claude-3-opus-20240229\",\n",
        "    system=prompt1,\n",
        "    max_tokens=4096,\n",
        "    messages=[\n",
        "        {\"role\": \"user\", \"content\": problem_desc}\n",
        "    ]\n",
        ")\n",
        "\n",
        "response_p1 = message.content[0].text"
      ],
      "metadata": {
        "id": "R_6X0axq16D4"
      },
      "execution_count": 6,
      "outputs": []
    },
    {
      "cell_type": "code",
      "source": [
        "# Print response\n",
        "print(response_p1)"
      ],
      "metadata": {
        "colab": {
          "base_uri": "https://localhost:8080/"
        },
        "id": "Ra9Ox_PI38jg",
        "outputId": "e8bd7845-53dc-4352-9fc5-5ca0fac5418a"
      },
      "execution_count": 7,
      "outputs": [
        {
          "output_type": "stream",
          "name": "stdout",
          "text": [
            "Here's the mathematical optimization model for this problem:\n",
            "\n",
            "Parameters:\n",
            "- ST: Sales target (5500 units)\n",
            "- FT: Full-time employee hours target (800 hours)\n",
            "- PT: Part-time employee hours target (320 hours)\n",
            "- OT: Overtime target for full-time employees (100 hours)\n",
            "- P1, P2, P3, P4: Priority factors for each deviation\n",
            "\n",
            "Decision Variables:\n",
            "- S: Actual sales (units)\n",
            "- F: Actual full-time employee hours\n",
            "- P: Actual part-time employee hours\n",
            "- OF: Actual overtime hours for full-time employees\n",
            "- OP: Actual overtime hours for part-time employees\n",
            "- DS+, DS-: Positive and negative deviations from sales target\n",
            "- DF+, DF-: Positive and negative deviations from full-time employee hours target\n",
            "- DP+, DP-: Positive and negative deviations from part-time employee hours target\n",
            "- DOF+, DOF-: Positive and negative deviations from overtime target for full-time employees\n",
            "\n",
            "Objective Function:\n",
            "Minimize: P1 * (DS+ + DS-) + P2 * (DOF+ + DOF-) + P3 * (2 * (DF+ + DF-) + (DP+ + DP-)) + P4 * (OF + 3 * OP)\n",
            "\n",
            "Constraints:\n",
            "1. Sales constraint:\n",
            "   S = 5 * F + 2 * P\n",
            "   S + DS- - DS+ = ST\n",
            "\n",
            "2. Full-time employee hours constraint:\n",
            "   F + DF- - DF+ = FT\n",
            "\n",
            "3. Part-time employee hours constraint:\n",
            "   P + DP- - DP+ = PT\n",
            "\n",
            "4. Overtime constraint for full-time employees:\n",
            "   OF + DOF- - DOF+ = OT\n",
            "\n",
            "5. Non-negativity constraints:\n",
            "   S, F, P, OF, OP, DS+, DS-, DF+, DF-, DP+, DP-, DOF+, DOF- ≥ 0\n",
            "\n",
            "In this model, the objective function minimizes the weighted sum of deviations from the targets, considering their priorities. The constraints ensure that the actual values (sales, employee hours, and overtime) are linked to their respective targets through the deviation variables. The non-negativity constraints make sure that all variables are non-negative.\n"
          ]
        }
      ]
    },
    {
      "cell_type": "markdown",
      "source": [
        "# 2. Prompt 2: Write Code based on Mathematical Model"
      ],
      "metadata": {
        "id": "WPZ6lgBO729j"
      }
    },
    {
      "cell_type": "code",
      "source": [
        "message2 = client.messages.create(\n",
        "    model=\"claude-3-opus-20240229\",\n",
        "    system=prompt2,\n",
        "    max_tokens=4069,\n",
        "    messages=[\n",
        "        {\"role\": \"user\", \"content\": response_p1}\n",
        "    ]\n",
        ")\n",
        "\n",
        "response_p2 = message2.content[0].text"
      ],
      "metadata": {
        "id": "1iUSgBda70FL"
      },
      "execution_count": 8,
      "outputs": []
    },
    {
      "cell_type": "code",
      "source": [
        "# Print response\n",
        "print(response_p2)"
      ],
      "metadata": {
        "colab": {
          "base_uri": "https://localhost:8080/"
        },
        "id": "o40mxc_H8eQ9",
        "outputId": "61cd891c-664c-4e47-f17a-5feef16b32c1"
      },
      "execution_count": 9,
      "outputs": [
        {
          "output_type": "stream",
          "name": "stdout",
          "text": [
            "Here's the Python Pyomo code for the optimization problem, using sample data:\n",
            "\n",
            "```python\n",
            "from pyomo.environ import *\n",
            "\n",
            "# Create a Pyomo model\n",
            "model = ConcreteModel()\n",
            "\n",
            "# Define parameters (using sample data)\n",
            "model.ST = Param(initialize=5500)  # Sales target\n",
            "model.FT = Param(initialize=800)   # Full-time employee hours target\n",
            "model.PT = Param(initialize=320)   # Part-time employee hours target\n",
            "model.OT = Param(initialize=100)   # Overtime target for full-time employees\n",
            "model.P1 = Param(initialize=1)     # Priority factor for sales deviation\n",
            "model.P2 = Param(initialize=2)     # Priority factor for overtime deviation\n",
            "model.P3 = Param(initialize=3)     # Priority factor for employee hours deviation\n",
            "model.P4 = Param(initialize=4)     # Priority factor for total overtime\n",
            "\n",
            "# Define decision variables\n",
            "model.S = Var(within=NonNegativeReals)    # Actual sales\n",
            "model.F = Var(within=NonNegativeReals)    # Actual full-time employee hours\n",
            "model.P = Var(within=NonNegativeReals)    # Actual part-time employee hours\n",
            "model.OF = Var(within=NonNegativeReals)   # Actual overtime hours for full-time employees\n",
            "model.OP = Var(within=NonNegativeReals)   # Actual overtime hours for part-time employees\n",
            "model.DSplus = Var(within=NonNegativeReals)   # Positive deviation from sales target\n",
            "model.DSminus = Var(within=NonNegativeReals)  # Negative deviation from sales target\n",
            "model.DFplus = Var(within=NonNegativeReals)   # Positive deviation from full-time employee hours target\n",
            "model.DFminus = Var(within=NonNegativeReals)  # Negative deviation from full-time employee hours target\n",
            "model.DPplus = Var(within=NonNegativeReals)   # Positive deviation from part-time employee hours target\n",
            "model.DPminus = Var(within=NonNegativeReals)  # Negative deviation from part-time employee hours target\n",
            "model.DOFplus = Var(within=NonNegativeReals)  # Positive deviation from overtime target for full-time employees\n",
            "model.DOFminus = Var(within=NonNegativeReals) # Negative deviation from overtime target for full-time employees\n",
            "\n",
            "# Define objective function\n",
            "def obj_rule(model):\n",
            "    return (model.P1 * (model.DSplus + model.DSminus) +\n",
            "            model.P2 * (model.DOFplus + model.DOFminus) +\n",
            "            model.P3 * (2 * (model.DFplus + model.DFminus) + (model.DPplus + model.DPminus)) +\n",
            "            model.P4 * (model.OF + 3 * model.OP))\n",
            "model.OBJ = Objective(rule=obj_rule, sense=minimize)\n",
            "\n",
            "# Define constraints\n",
            "def sales_constraint(model):\n",
            "    return model.S == 5 * model.F + 2 * model.P\n",
            "model.SalesConstraint = Constraint(rule=sales_constraint)\n",
            "\n",
            "def sales_deviation_constraint(model):\n",
            "    return model.S + model.DSminus - model.DSplus == model.ST\n",
            "model.SalesDeviationConstraint = Constraint(rule=sales_deviation_constraint)\n",
            "\n",
            "def fulltime_hours_constraint(model):\n",
            "    return model.F + model.DFminus - model.DFplus == model.FT\n",
            "model.FulltimeHoursConstraint = Constraint(rule=fulltime_hours_constraint)\n",
            "\n",
            "def parttime_hours_constraint(model):\n",
            "    return model.P + model.DPminus - model.DPplus == model.PT\n",
            "model.ParttimeHoursConstraint = Constraint(rule=parttime_hours_constraint)\n",
            "\n",
            "def overtime_constraint(model):\n",
            "    return model.OF + model.DOFminus - model.DOFplus == model.OT\n",
            "model.OvertimeConstraint = Constraint(rule=overtime_constraint)\n",
            "\n",
            "# Solve the optimization problem\n",
            "solver = SolverFactory('glpk')\n",
            "results = solver.solve(model)\n",
            "\n",
            "# Print the results\n",
            "print(f\"Actual Sales: {model.S.value}\")\n",
            "print(f\"Full-time Employee Hours: {model.F.value}\")\n",
            "print(f\"Part-time Employee Hours: {model.P.value}\")\n",
            "print(f\"Overtime Hours for Full-time Employees: {model.OF.value}\")\n",
            "print(f\"Overtime Hours for Part-time Employees: {model.OP.value}\")\n",
            "```\n",
            "\n",
            "In this code, sample data is used for the parameters:\n",
            "- Sales target (ST) is set to 5500 units\n",
            "- Full-time employee hours target (FT) is set to 800 hours\n",
            "- Part-time employee hours target (PT) is set to 320 hours\n",
            "- Overtime target for full-time employees (OT) is set to 100 hours\n",
            "- Priority factors (P1, P2, P3, P4) are set to 1, 2, 3, and 4, respectively\n",
            "\n",
            "The code defines the decision variables, objective function, and constraints based on the provided mathematical model. The `glpk` solver is used to solve the optimization problem, and the results are printed at the end.\n"
          ]
        }
      ]
    },
    {
      "cell_type": "markdown",
      "source": [
        "# 4. Input Problem Data and Test Model Code"
      ],
      "metadata": {
        "id": "Pc0QqJuf8up_"
      }
    },
    {
      "cell_type": "code",
      "source": [
        "# Installing pyomo nd solver\n",
        "!pip install -q pyomo\n",
        "!pip install pandas\n",
        "!apt-get install -y -qq glpk-utils\n",
        "!pip install glpk"
      ],
      "metadata": {
        "colab": {
          "base_uri": "https://localhost:8080/"
        },
        "id": "3BtROuLu9O-p",
        "outputId": "618b34d8-5954-4d58-dbc4-babd66abb505",
        "collapsed": true
      },
      "execution_count": 10,
      "outputs": [
        {
          "output_type": "stream",
          "name": "stdout",
          "text": [
            "\u001b[2K     \u001b[90m━━━━━━━━━━━━━━━━━━━━━━━━━━━━━━━━━━━━━━━━\u001b[0m \u001b[32m12.8/12.8 MB\u001b[0m \u001b[31m28.3 MB/s\u001b[0m eta \u001b[36m0:00:00\u001b[0m\n",
            "\u001b[2K     \u001b[90m━━━━━━━━━━━━━━━━━━━━━━━━━━━━━━━━━━━━━━━━\u001b[0m \u001b[32m49.6/49.6 kB\u001b[0m \u001b[31m4.6 MB/s\u001b[0m eta \u001b[36m0:00:00\u001b[0m\n",
            "\u001b[?25hRequirement already satisfied: pandas in /usr/local/lib/python3.10/dist-packages (2.0.3)\n",
            "Requirement already satisfied: python-dateutil>=2.8.2 in /usr/local/lib/python3.10/dist-packages (from pandas) (2.8.2)\n",
            "Requirement already satisfied: pytz>=2020.1 in /usr/local/lib/python3.10/dist-packages (from pandas) (2023.4)\n",
            "Requirement already satisfied: tzdata>=2022.1 in /usr/local/lib/python3.10/dist-packages (from pandas) (2024.1)\n",
            "Requirement already satisfied: numpy>=1.21.0 in /usr/local/lib/python3.10/dist-packages (from pandas) (1.25.2)\n",
            "Requirement already satisfied: six>=1.5 in /usr/local/lib/python3.10/dist-packages (from python-dateutil>=2.8.2->pandas) (1.16.0)\n",
            "Selecting previously unselected package libsuitesparseconfig5:amd64.\n",
            "(Reading database ... 121918 files and directories currently installed.)\n",
            "Preparing to unpack .../libsuitesparseconfig5_1%3a5.10.1+dfsg-4build1_amd64.deb ...\n",
            "Unpacking libsuitesparseconfig5:amd64 (1:5.10.1+dfsg-4build1) ...\n",
            "Selecting previously unselected package libamd2:amd64.\n",
            "Preparing to unpack .../libamd2_1%3a5.10.1+dfsg-4build1_amd64.deb ...\n",
            "Unpacking libamd2:amd64 (1:5.10.1+dfsg-4build1) ...\n",
            "Selecting previously unselected package libcolamd2:amd64.\n",
            "Preparing to unpack .../libcolamd2_1%3a5.10.1+dfsg-4build1_amd64.deb ...\n",
            "Unpacking libcolamd2:amd64 (1:5.10.1+dfsg-4build1) ...\n",
            "Selecting previously unselected package libglpk40:amd64.\n",
            "Preparing to unpack .../libglpk40_5.0-1_amd64.deb ...\n",
            "Unpacking libglpk40:amd64 (5.0-1) ...\n",
            "Selecting previously unselected package glpk-utils.\n",
            "Preparing to unpack .../glpk-utils_5.0-1_amd64.deb ...\n",
            "Unpacking glpk-utils (5.0-1) ...\n",
            "Setting up libsuitesparseconfig5:amd64 (1:5.10.1+dfsg-4build1) ...\n",
            "Setting up libamd2:amd64 (1:5.10.1+dfsg-4build1) ...\n",
            "Setting up libcolamd2:amd64 (1:5.10.1+dfsg-4build1) ...\n",
            "Setting up libglpk40:amd64 (5.0-1) ...\n",
            "Setting up glpk-utils (5.0-1) ...\n",
            "Processing triggers for man-db (2.10.2-1) ...\n",
            "Processing triggers for libc-bin (2.35-0ubuntu3.4) ...\n",
            "/sbin/ldconfig.real: /usr/local/lib/libtbb.so.12 is not a symbolic link\n",
            "\n",
            "/sbin/ldconfig.real: /usr/local/lib/libtbbbind.so.3 is not a symbolic link\n",
            "\n",
            "/sbin/ldconfig.real: /usr/local/lib/libtbbmalloc_proxy.so.2 is not a symbolic link\n",
            "\n",
            "/sbin/ldconfig.real: /usr/local/lib/libtbbmalloc.so.2 is not a symbolic link\n",
            "\n",
            "/sbin/ldconfig.real: /usr/local/lib/libtbbbind_2_5.so.3 is not a symbolic link\n",
            "\n",
            "/sbin/ldconfig.real: /usr/local/lib/libtbbbind_2_0.so.3 is not a symbolic link\n",
            "\n",
            "Collecting glpk\n",
            "  Downloading glpk-0.4.7.tar.gz (161 kB)\n",
            "\u001b[2K     \u001b[90m━━━━━━━━━━━━━━━━━━━━━━━━━━━━━━━━━━━━━━━━\u001b[0m \u001b[32m161.2/161.2 kB\u001b[0m \u001b[31m4.0 MB/s\u001b[0m eta \u001b[36m0:00:00\u001b[0m\n",
            "\u001b[?25h  Installing build dependencies ... \u001b[?25l\u001b[?25hdone\n",
            "  Getting requirements to build wheel ... \u001b[?25l\u001b[?25hdone\n",
            "  Preparing metadata (pyproject.toml) ... \u001b[?25l\u001b[?25hdone\n",
            "Building wheels for collected packages: glpk\n",
            "  \u001b[1;31merror\u001b[0m: \u001b[1msubprocess-exited-with-error\u001b[0m\n",
            "  \n",
            "  \u001b[31m×\u001b[0m \u001b[32mBuilding wheel for glpk \u001b[0m\u001b[1;32m(\u001b[0m\u001b[32mpyproject.toml\u001b[0m\u001b[1;32m)\u001b[0m did not run successfully.\n",
            "  \u001b[31m│\u001b[0m exit code: \u001b[1;36m1\u001b[0m\n",
            "  \u001b[31m╰─>\u001b[0m See above for output.\n",
            "  \n",
            "  \u001b[1;35mnote\u001b[0m: This error originates from a subprocess, and is likely not a problem with pip.\n",
            "  Building wheel for glpk (pyproject.toml) ... \u001b[?25l\u001b[?25herror\n",
            "\u001b[31m  ERROR: Failed building wheel for glpk\u001b[0m\u001b[31m\n",
            "\u001b[0mFailed to build glpk\n",
            "\u001b[31mERROR: Could not build wheels for glpk, which is required to install pyproject.toml-based projects\u001b[0m\u001b[31m\n",
            "\u001b[0m"
          ]
        }
      ]
    },
    {
      "cell_type": "code",
      "source": [
        "from pyomo.environ import *\n",
        "\n",
        "# Create a Pyomo model\n",
        "model = ConcreteModel()\n",
        "\n",
        "# Define parameters (using sample data)\n",
        "model.ST = Param(initialize=5500)  # Sales target\n",
        "model.FT = Param(initialize=800)   # Full-time employee hours target\n",
        "model.PT = Param(initialize=320)   # Part-time employee hours target\n",
        "model.OT = Param(initialize=100)   # Overtime target for full-time employees\n",
        "model.P1 = Param(initialize=4)     # Priority factor for sales deviation\n",
        "model.P2 = Param(initialize=3)     # Priority factor for overtime deviation\n",
        "model.P3 = Param(initialize=2)     # Priority factor for employee hours deviation\n",
        "model.P4 = Param(initialize=1)     # Priority factor for total overtime\n",
        "\n",
        "# Define decision variables\n",
        "model.S = Var(within=NonNegativeReals)    # Actual sales\n",
        "model.F = Var(within=NonNegativeReals)    # Actual full-time employee hours\n",
        "model.P = Var(within=NonNegativeReals)    # Actual part-time employee hours\n",
        "model.OF = Var(within=NonNegativeReals)   # Actual overtime hours for full-time employees\n",
        "model.OP = Var(within=NonNegativeReals)   # Actual overtime hours for part-time employees\n",
        "model.DSplus = Var(within=NonNegativeReals)   # Positive deviation from sales target\n",
        "model.DSminus = Var(within=NonNegativeReals)  # Negative deviation from sales target\n",
        "model.DFplus = Var(within=NonNegativeReals)   # Positive deviation from full-time employee hours target\n",
        "model.DFminus = Var(within=NonNegativeReals)  # Negative deviation from full-time employee hours target\n",
        "model.DPplus = Var(within=NonNegativeReals)   # Positive deviation from part-time employee hours target\n",
        "model.DPminus = Var(within=NonNegativeReals)  # Negative deviation from part-time employee hours target\n",
        "model.DOFplus = Var(within=NonNegativeReals)  # Positive deviation from overtime target for full-time employees\n",
        "model.DOFminus = Var(within=NonNegativeReals) # Negative deviation from overtime target for full-time employees\n",
        "\n",
        "# Define objective function\n",
        "def obj_rule(model):\n",
        "    return (model.P1 * (model.DSplus + model.DSminus) +\n",
        "            model.P2 * (model.DOFplus + model.DOFminus) +\n",
        "            model.P3 * (2 * (model.DFplus + model.DFminus) + (model.DPplus + model.DPminus)) +\n",
        "            model.P4 * (model.OF + 3 * model.OP))\n",
        "model.OBJ = Objective(rule=obj_rule, sense=minimize)\n",
        "\n",
        "# Define constraints\n",
        "def sales_constraint(model):\n",
        "    return model.S == 5 * model.F + 2 * model.P\n",
        "model.SalesConstraint = Constraint(rule=sales_constraint)\n",
        "\n",
        "def sales_deviation_constraint(model):\n",
        "    return model.S + model.DSminus - model.DSplus == model.ST\n",
        "model.SalesDeviationConstraint = Constraint(rule=sales_deviation_constraint)\n",
        "\n",
        "def fulltime_hours_constraint(model):\n",
        "    return model.F + model.DFminus - model.DFplus == model.FT\n",
        "model.FulltimeHoursConstraint = Constraint(rule=fulltime_hours_constraint)\n",
        "\n",
        "def parttime_hours_constraint(model):\n",
        "    return model.P + model.DPminus - model.DPplus == model.PT\n",
        "model.ParttimeHoursConstraint = Constraint(rule=parttime_hours_constraint)\n",
        "\n",
        "def overtime_constraint(model):\n",
        "    return model.OF + model.DOFminus - model.DOFplus == model.OT\n",
        "model.OvertimeConstraint = Constraint(rule=overtime_constraint)\n",
        "\n",
        "# Solve the optimization problem\n",
        "solver = SolverFactory('glpk')\n",
        "results = solver.solve(model)\n",
        "\n",
        "# Print the results\n",
        "print(f\"Actual Sales: {model.S.value}\")\n",
        "print(f\"Full-time Employee Hours: {model.F.value}\")\n",
        "print(f\"Part-time Employee Hours: {model.P.value}\")\n",
        "print(f\"Overtime Hours for Full-time Employees: {model.OF.value}\")\n",
        "print(f\"Overtime Hours for Part-time Employees: {model.OP.value}\")"
      ],
      "metadata": {
        "colab": {
          "base_uri": "https://localhost:8080/"
        },
        "id": "8FpHcuWU8rQ2",
        "outputId": "e225ed01-facb-4661-bba7-f3e97732cfc2"
      },
      "execution_count": 11,
      "outputs": [
        {
          "output_type": "stream",
          "name": "stdout",
          "text": [
            "Actual Sales: 5500.0\n",
            "Full-time Employee Hours: 972.0\n",
            "Part-time Employee Hours: 320.0\n",
            "Overtime Hours for Full-time Employees: 100.0\n",
            "Overtime Hours for Part-time Employees: 0.0\n"
          ]
        }
      ]
    },
    {
      "cell_type": "code",
      "source": [
        "value(model.OBJ)"
      ],
      "metadata": {
        "colab": {
          "base_uri": "https://localhost:8080/"
        },
        "id": "t5VqtjzexpQ5",
        "outputId": "5f62ee66-f2ad-4791-a46f-66b2a2b31330"
      },
      "execution_count": 21,
      "outputs": [
        {
          "output_type": "execute_result",
          "data": {
            "text/plain": [
              "788.0"
            ]
          },
          "metadata": {},
          "execution_count": 21
        }
      ]
    },
    {
      "cell_type": "markdown",
      "source": [
        "# 5. Correct The Model Code to Test Mathematical Model (if applicable)"
      ],
      "metadata": {
        "id": "KHTyoLQTWZVy"
      }
    },
    {
      "cell_type": "code",
      "source": [],
      "metadata": {
        "id": "REJzqhR6WYvM",
        "collapsed": true
      },
      "execution_count": null,
      "outputs": []
    },
    {
      "cell_type": "code",
      "source": [],
      "metadata": {
        "id": "bPJ_54384nR_"
      },
      "execution_count": 22,
      "outputs": []
    }
  ]
}