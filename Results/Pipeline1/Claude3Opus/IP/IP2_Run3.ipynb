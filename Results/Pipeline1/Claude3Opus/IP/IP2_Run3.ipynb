{
  "nbformat": 4,
  "nbformat_minor": 0,
  "metadata": {
    "colab": {
      "provenance": []
    },
    "kernelspec": {
      "name": "python3",
      "display_name": "Python 3"
    },
    "language_info": {
      "name": "python"
    }
  },
  "cells": [
    {
      "cell_type": "markdown",
      "source": [
        "# 0. Imports and Setting up Anthropic API Client"
      ],
      "metadata": {
        "id": "y5fw0lkBwBbo"
      }
    },
    {
      "cell_type": "code",
      "source": [
        "from google.colab import drive\n",
        "\n",
        "drive.mount('/content/drive')"
      ],
      "metadata": {
        "colab": {
          "base_uri": "https://localhost:8080/"
        },
        "id": "e7tWOLo0yMoH",
        "outputId": "24e5340b-eadd-412a-cfdb-aba90434bef1"
      },
      "execution_count": 1,
      "outputs": [
        {
          "output_type": "stream",
          "name": "stdout",
          "text": [
            "Mounted at /content/drive\n"
          ]
        }
      ]
    },
    {
      "cell_type": "code",
      "source": [
        "!pip install python-dotenv\n",
        "\n",
        "import os\n",
        "import dotenv\n",
        "\n",
        "dotenv.load_dotenv('/content/drive/MyDrive/.env')"
      ],
      "metadata": {
        "colab": {
          "base_uri": "https://localhost:8080/"
        },
        "id": "utcEK8lZ1Z1R",
        "outputId": "d74be9b4-d1d0-4ae2-cd84-6056bbcd5ad1"
      },
      "execution_count": 2,
      "outputs": [
        {
          "output_type": "stream",
          "name": "stdout",
          "text": [
            "Collecting python-dotenv\n",
            "  Downloading python_dotenv-1.0.1-py3-none-any.whl (19 kB)\n",
            "Installing collected packages: python-dotenv\n",
            "Successfully installed python-dotenv-1.0.1\n"
          ]
        },
        {
          "output_type": "execute_result",
          "data": {
            "text/plain": [
              "True"
            ]
          },
          "metadata": {},
          "execution_count": 2
        }
      ]
    },
    {
      "cell_type": "code",
      "source": [
        "# Load Prompts and Problem Description\n",
        "prompt1_path = '/content/drive/MyDrive/Thesis/Prompts/Prompt1_MathematicalModel.txt'\n",
        "prompt2_path = '/content/drive/MyDrive/Thesis/Prompts/Prompt2_PyomoCode.txt'\n",
        "problem_desc_path = '/content/drive/MyDrive/Thesis/ProblemDescriptions/IP/IP2.txt'\n",
        "\n",
        "prompt1_file = open(prompt1_path, \"r\")\n",
        "prompt2_file = open(prompt2_path, \"r\")\n",
        "problem_desc_file = open(problem_desc_path, \"r\")\n",
        "\n",
        "prompt1 = prompt1_file.read()\n",
        "print(\"Prompt 1:\\n\", prompt1)\n",
        "\n",
        "prompt2 = prompt2_file.read()\n",
        "print(\"Prompt 2:\\n\", prompt2)\n",
        "\n",
        "problem_desc = problem_desc_file.read()\n",
        "print(\"Problem Description:\\n\", problem_desc)"
      ],
      "metadata": {
        "colab": {
          "base_uri": "https://localhost:8080/"
        },
        "id": "9KlkjwMUS4xp",
        "outputId": "3857a1aa-1985-450f-e6d2-e984476ad4b0"
      },
      "execution_count": 3,
      "outputs": [
        {
          "output_type": "stream",
          "name": "stdout",
          "text": [
            "Prompt 1:\n",
            " Please write a mathematical optimization model for this problem. Include parameters, decision variables, the objective function and the constraints in your answer.\n",
            "Prompt 2:\n",
            " Please write a python pyomo code for this optimization problem.\n",
            "Use sample data where needed.\n",
            "Indicate where you use sample data.\n",
            "Problem Description:\n",
            " Your goal is to invest in several of 10 possible investment strategies in the most optimal way. The historic returns of those strategies are stored in the file \"investments_data.csv\". Each column represents one strategy and the rows are the past investment outcomes. There is no index and the values are separated by a ;.\n",
            "\n",
            "The costs for investing in a given investment is stored in a vector A, which has one value for each strategy in order.  \n",
            "The values are: [80, 340, 410, 50, 180, 221, 15, 348, 191, 225]\n",
            "\n",
            "You can only invest once into an investment. \n",
            "\n",
            "Unfortunately due to other costs and inflation, your available budget at this time is uncertain. There are four possible budget scenarios with different probabilities: scenario 1 with 1000 euros and probability of 0.55, scenario 2  with 1100 euros and probability of 0.4, scenario 3 with 900 euros and probability of 0.04, scenario 4 with 1200 euros and probability of 0.01. \n",
            "The tolerable probability of exceeding the budget is 0.4.\n",
            "\n",
            "Please formulate a mean-variance mathematical model for this optimization problem, considering the past performance of investment strategies and the uncertain budget. You can take 2 as the risk parameter r.\n"
          ]
        }
      ]
    },
    {
      "cell_type": "code",
      "source": [
        "!pip install anthropic"
      ],
      "metadata": {
        "colab": {
          "base_uri": "https://localhost:8080/"
        },
        "id": "iWlNsTIvxCcR",
        "outputId": "c7dff6eb-3c60-4553-dde3-a9f6cea1f950",
        "collapsed": true
      },
      "execution_count": 4,
      "outputs": [
        {
          "output_type": "stream",
          "name": "stdout",
          "text": [
            "Collecting anthropic\n",
            "  Downloading anthropic-0.26.0-py3-none-any.whl (877 kB)\n",
            "\u001b[2K     \u001b[90m━━━━━━━━━━━━━━━━━━━━━━━━━━━━━━━━━━━━━━━━\u001b[0m \u001b[32m877.7/877.7 kB\u001b[0m \u001b[31m6.6 MB/s\u001b[0m eta \u001b[36m0:00:00\u001b[0m\n",
            "\u001b[?25hRequirement already satisfied: anyio<5,>=3.5.0 in /usr/local/lib/python3.10/dist-packages (from anthropic) (3.7.1)\n",
            "Requirement already satisfied: distro<2,>=1.7.0 in /usr/lib/python3/dist-packages (from anthropic) (1.7.0)\n",
            "Collecting httpx<1,>=0.23.0 (from anthropic)\n",
            "  Downloading httpx-0.27.0-py3-none-any.whl (75 kB)\n",
            "\u001b[2K     \u001b[90m━━━━━━━━━━━━━━━━━━━━━━━━━━━━━━━━━━━━━━━━\u001b[0m \u001b[32m75.6/75.6 kB\u001b[0m \u001b[31m10.1 MB/s\u001b[0m eta \u001b[36m0:00:00\u001b[0m\n",
            "\u001b[?25hRequirement already satisfied: pydantic<3,>=1.9.0 in /usr/local/lib/python3.10/dist-packages (from anthropic) (2.7.1)\n",
            "Requirement already satisfied: sniffio in /usr/local/lib/python3.10/dist-packages (from anthropic) (1.3.1)\n",
            "Requirement already satisfied: tokenizers>=0.13.0 in /usr/local/lib/python3.10/dist-packages (from anthropic) (0.19.1)\n",
            "Requirement already satisfied: typing-extensions<5,>=4.7 in /usr/local/lib/python3.10/dist-packages (from anthropic) (4.11.0)\n",
            "Requirement already satisfied: idna>=2.8 in /usr/local/lib/python3.10/dist-packages (from anyio<5,>=3.5.0->anthropic) (3.7)\n",
            "Requirement already satisfied: exceptiongroup in /usr/local/lib/python3.10/dist-packages (from anyio<5,>=3.5.0->anthropic) (1.2.1)\n",
            "Requirement already satisfied: certifi in /usr/local/lib/python3.10/dist-packages (from httpx<1,>=0.23.0->anthropic) (2024.2.2)\n",
            "Collecting httpcore==1.* (from httpx<1,>=0.23.0->anthropic)\n",
            "  Downloading httpcore-1.0.5-py3-none-any.whl (77 kB)\n",
            "\u001b[2K     \u001b[90m━━━━━━━━━━━━━━━━━━━━━━━━━━━━━━━━━━━━━━━━\u001b[0m \u001b[32m77.9/77.9 kB\u001b[0m \u001b[31m8.8 MB/s\u001b[0m eta \u001b[36m0:00:00\u001b[0m\n",
            "\u001b[?25hCollecting h11<0.15,>=0.13 (from httpcore==1.*->httpx<1,>=0.23.0->anthropic)\n",
            "  Downloading h11-0.14.0-py3-none-any.whl (58 kB)\n",
            "\u001b[2K     \u001b[90m━━━━━━━━━━━━━━━━━━━━━━━━━━━━━━━━━━━━━━━━\u001b[0m \u001b[32m58.3/58.3 kB\u001b[0m \u001b[31m6.7 MB/s\u001b[0m eta \u001b[36m0:00:00\u001b[0m\n",
            "\u001b[?25hRequirement already satisfied: annotated-types>=0.4.0 in /usr/local/lib/python3.10/dist-packages (from pydantic<3,>=1.9.0->anthropic) (0.6.0)\n",
            "Requirement already satisfied: pydantic-core==2.18.2 in /usr/local/lib/python3.10/dist-packages (from pydantic<3,>=1.9.0->anthropic) (2.18.2)\n",
            "Requirement already satisfied: huggingface-hub<1.0,>=0.16.4 in /usr/local/lib/python3.10/dist-packages (from tokenizers>=0.13.0->anthropic) (0.20.3)\n",
            "Requirement already satisfied: filelock in /usr/local/lib/python3.10/dist-packages (from huggingface-hub<1.0,>=0.16.4->tokenizers>=0.13.0->anthropic) (3.14.0)\n",
            "Requirement already satisfied: fsspec>=2023.5.0 in /usr/local/lib/python3.10/dist-packages (from huggingface-hub<1.0,>=0.16.4->tokenizers>=0.13.0->anthropic) (2023.6.0)\n",
            "Requirement already satisfied: requests in /usr/local/lib/python3.10/dist-packages (from huggingface-hub<1.0,>=0.16.4->tokenizers>=0.13.0->anthropic) (2.31.0)\n",
            "Requirement already satisfied: tqdm>=4.42.1 in /usr/local/lib/python3.10/dist-packages (from huggingface-hub<1.0,>=0.16.4->tokenizers>=0.13.0->anthropic) (4.66.4)\n",
            "Requirement already satisfied: pyyaml>=5.1 in /usr/local/lib/python3.10/dist-packages (from huggingface-hub<1.0,>=0.16.4->tokenizers>=0.13.0->anthropic) (6.0.1)\n",
            "Requirement already satisfied: packaging>=20.9 in /usr/local/lib/python3.10/dist-packages (from huggingface-hub<1.0,>=0.16.4->tokenizers>=0.13.0->anthropic) (24.0)\n",
            "Requirement already satisfied: charset-normalizer<4,>=2 in /usr/local/lib/python3.10/dist-packages (from requests->huggingface-hub<1.0,>=0.16.4->tokenizers>=0.13.0->anthropic) (3.3.2)\n",
            "Requirement already satisfied: urllib3<3,>=1.21.1 in /usr/local/lib/python3.10/dist-packages (from requests->huggingface-hub<1.0,>=0.16.4->tokenizers>=0.13.0->anthropic) (2.0.7)\n",
            "Installing collected packages: h11, httpcore, httpx, anthropic\n",
            "Successfully installed anthropic-0.26.0 h11-0.14.0 httpcore-1.0.5 httpx-0.27.0\n"
          ]
        }
      ]
    },
    {
      "cell_type": "code",
      "execution_count": 5,
      "metadata": {
        "id": "7Qjk2D63v1Bl"
      },
      "outputs": [],
      "source": [
        "# Importing Anthropic & Setting Headers\n",
        "import anthropic\n",
        "\n",
        "client = anthropic.Anthropic(\n",
        "    # defaults to os.environ.get(\"ANTHROPIC_API_KEY\")\n",
        "    api_key=os.environ.get(\"ANTHROPIC_API_KEY\"),\n",
        ")"
      ]
    },
    {
      "cell_type": "markdown",
      "source": [
        "# 1. Prompt 1: Create Mathematical Model"
      ],
      "metadata": {
        "id": "kT7yKbJs18XR"
      }
    },
    {
      "cell_type": "code",
      "source": [
        "message = client.messages.create(\n",
        "    model=\"claude-3-opus-20240229\",\n",
        "    system=prompt1,\n",
        "    max_tokens=4096,\n",
        "    messages=[\n",
        "        {\"role\": \"user\", \"content\": problem_desc}\n",
        "    ]\n",
        ")\n",
        "\n",
        "response_p1 = message.content[0].text"
      ],
      "metadata": {
        "id": "R_6X0axq16D4"
      },
      "execution_count": 6,
      "outputs": []
    },
    {
      "cell_type": "code",
      "source": [
        "# Print response\n",
        "print(response_p1)"
      ],
      "metadata": {
        "colab": {
          "base_uri": "https://localhost:8080/"
        },
        "id": "Ra9Ox_PI38jg",
        "outputId": "30b0de59-59be-41fd-a903-46d9dfface0b"
      },
      "execution_count": 7,
      "outputs": [
        {
          "output_type": "stream",
          "name": "stdout",
          "text": [
            "To formulate the mean-variance optimization model for this problem, we need to define the parameters, decision variables, objective function, and constraints. Let's break it down:\n",
            "\n",
            "Parameters:\n",
            "- N: number of investment strategies (N = 10)\n",
            "- M: number of past investment outcomes for each strategy\n",
            "- R_ij: historic return of strategy i in outcome j (i = 1, ..., N; j = 1, ..., M)\n",
            "- A_i: cost of investing in strategy i (i = 1, ..., N)\n",
            "- S: number of budget scenarios (S = 4)\n",
            "- B_s: available budget in scenario s (s = 1, ..., S)\n",
            "- p_s: probability of scenario s (s = 1, ..., S)\n",
            "- α: tolerable probability of exceeding the budget (α = 0.4)\n",
            "- r: risk parameter (r = 2)\n",
            "\n",
            "Decision Variables:\n",
            "- x_i: binary variable indicating whether to invest in strategy i (x_i = 1) or not (x_i = 0) (i = 1, ..., N)\n",
            "- y_s: binary variable indicating whether the budget is exceeded in scenario s (y_s = 1) or not (y_s = 0) (s = 1, ..., S)\n",
            "\n",
            "Objective Function:\n",
            "Maximize the mean return minus the variance of the portfolio:\n",
            "max ∑(i=1 to N) (1/M × ∑(j=1 to M) R_ij) × x_i - r × (∑(i=1 to N) (1/M × ∑(j=1 to M) (R_ij - (1/M × ∑(j=1 to M) R_ij))^2) × x_i)\n",
            "\n",
            "Constraints:\n",
            "1. Budget constraint for each scenario s:\n",
            "   ∑(i=1 to N) A_i × x_i ≤ B_s + M × y_s, for s = 1, ..., S\n",
            "   where M is a large positive number (big M method)\n",
            "\n",
            "2. Probability of exceeding the budget:\n",
            "   ∑(s=1 to S) p_s × y_s ≤ α\n",
            "\n",
            "3. Binary constraints:\n",
            "   x_i ∈ {0, 1}, for i = 1, ..., N\n",
            "   y_s ∈ {0, 1}, for s = 1, ..., S\n",
            "\n",
            "In this model, the objective function maximizes the mean return of the portfolio minus the variance multiplied by the risk parameter r. The first constraint ensures that the total cost of the selected investments does not exceed the available budget in each scenario, using the big M method to handle the possibility of exceeding the budget. The second constraint limits the probability of exceeding the budget to the tolerable level α. Finally, the binary constraints ensure that the decision variables are either 0 or 1.\n",
            "\n",
            "Note: The historic returns R_ij should be read from the \"investments_data.csv\" file, with each column representing a strategy and each row representing a past investment outcome.\n"
          ]
        }
      ]
    },
    {
      "cell_type": "markdown",
      "source": [
        "# 2. Prompt 2: Write Code based on Mathematical Model"
      ],
      "metadata": {
        "id": "WPZ6lgBO729j"
      }
    },
    {
      "cell_type": "code",
      "source": [
        "message2 = client.messages.create(\n",
        "    model=\"claude-3-opus-20240229\",\n",
        "    system=prompt2,\n",
        "    max_tokens=4069,\n",
        "    messages=[\n",
        "        {\"role\": \"user\", \"content\": response_p1}\n",
        "    ]\n",
        ")\n",
        "\n",
        "response_p2 = message2.content[0].text"
      ],
      "metadata": {
        "id": "1iUSgBda70FL"
      },
      "execution_count": 8,
      "outputs": []
    },
    {
      "cell_type": "code",
      "source": [
        "# Print response\n",
        "print(response_p2)"
      ],
      "metadata": {
        "colab": {
          "base_uri": "https://localhost:8080/"
        },
        "id": "o40mxc_H8eQ9",
        "outputId": "d8793463-07af-4bd7-f231-e28009dd1bf0"
      },
      "execution_count": 9,
      "outputs": [
        {
          "output_type": "stream",
          "name": "stdout",
          "text": [
            "Here's a Python code using Pyomo to solve the mean-variance optimization problem:\n",
            "\n",
            "```python\n",
            "import pyomo.environ as pyo\n",
            "import numpy as np\n",
            "import pandas as pd\n",
            "\n",
            "# Read the historic returns data from the CSV file\n",
            "data = pd.read_csv(\"investments_data.csv\", header=None)\n",
            "R = data.values\n",
            "\n",
            "# Define the parameters\n",
            "N = 10\n",
            "M = R.shape[0]\n",
            "A = np.array([1000, 1500, 2000, 2500, 3000, 3500, 4000, 4500, 5000, 5500])  # Sample cost data\n",
            "S = 4\n",
            "B = np.array([10000, 15000, 20000, 25000])  # Sample budget data\n",
            "p = np.array([0.2, 0.3, 0.3, 0.2])  # Sample probability data\n",
            "alpha = 0.4\n",
            "r = 2\n",
            "\n",
            "# Create the Pyomo model\n",
            "model = pyo.ConcreteModel()\n",
            "\n",
            "# Define the decision variables\n",
            "model.x = pyo.Var(range(N), domain=pyo.Binary)\n",
            "model.y = pyo.Var(range(S), domain=pyo.Binary)\n",
            "\n",
            "# Define the objective function\n",
            "def obj_rule(model):\n",
            "    mean_return = sum((1/M * sum(R[:, i])) * model.x[i] for i in range(N))\n",
            "    variance = sum((1/M * sum((R[:, i] - (1/M * sum(R[:, i]))) ** 2)) * model.x[i] for i in range(N))\n",
            "    return mean_return - r * variance\n",
            "\n",
            "model.obj = pyo.Objective(rule=obj_rule, sense=pyo.maximize)\n",
            "\n",
            "# Define the constraints\n",
            "def budget_constraint_rule(model, s):\n",
            "    return sum(A[i] * model.x[i] for i in range(N)) <= B[s] + 1e6 * model.y[s]\n",
            "\n",
            "model.budget_constraint = pyo.Constraint(range(S), rule=budget_constraint_rule)\n",
            "\n",
            "def probability_constraint_rule(model):\n",
            "    return sum(p[s] * model.y[s] for s in range(S)) <= alpha\n",
            "\n",
            "model.probability_constraint = pyo.Constraint(rule=probability_constraint_rule)\n",
            "\n",
            "# Solve the model\n",
            "solver = pyo.SolverFactory('glpk')\n",
            "results = solver.solve(model)\n",
            "\n",
            "# Print the results\n",
            "print(\"Objective value:\", pyo.value(model.obj))\n",
            "print(\"Selected investments:\")\n",
            "for i in range(N):\n",
            "    if pyo.value(model.x[i]) == 1:\n",
            "        print(\"Investment\", i+1)\n",
            "```\n",
            "\n",
            "In this code:\n",
            "- We assume that the historic returns data is stored in a CSV file named \"investments_data.csv\", with each column representing a strategy and each row representing a past investment outcome. The data is read using Pandas.\n",
            "- We define the parameters N, M, A, S, B, p, alpha, and r. The values for A, B, and p are sample data, which should be replaced with the actual data for your problem.\n",
            "- We create a Pyomo ConcreteModel and define the decision variables x and y.\n",
            "- We define the objective function, which maximizes the mean return minus the variance multiplied by the risk parameter r.\n",
            "- We define the budget constraint for each scenario s using the big M method, where 1e6 is used as a large positive number (M).\n",
            "- We define the probability constraint, which limits the probability of exceeding the budget to alpha.\n",
            "- We solve the model using the GLPK solver (you may need to install it separately).\n",
            "- Finally, we print the objective value and the selected investments.\n",
            "\n",
            "Note: Make sure to replace the sample data for A, B, and p with the actual data for your problem.\n"
          ]
        }
      ]
    },
    {
      "cell_type": "markdown",
      "source": [
        "# 4. Input Problem Data and Test Model Code"
      ],
      "metadata": {
        "id": "Pc0QqJuf8up_"
      }
    },
    {
      "cell_type": "code",
      "source": [
        "# Installing pyomo nd solver\n",
        "!pip install -q pyomo\n",
        "!pip install pandas\n",
        "!apt-get install -y -qq glpk-utils\n",
        "!pip install glpk"
      ],
      "metadata": {
        "colab": {
          "base_uri": "https://localhost:8080/"
        },
        "id": "3BtROuLu9O-p",
        "outputId": "129747a3-bd5f-4934-bf30-c2a938ff091e",
        "collapsed": true
      },
      "execution_count": 10,
      "outputs": [
        {
          "output_type": "stream",
          "name": "stdout",
          "text": [
            "\u001b[2K     \u001b[90m━━━━━━━━━━━━━━━━━━━━━━━━━━━━━━━━━━━━━━━━\u001b[0m \u001b[32m12.8/12.8 MB\u001b[0m \u001b[31m71.2 MB/s\u001b[0m eta \u001b[36m0:00:00\u001b[0m\n",
            "\u001b[2K     \u001b[90m━━━━━━━━━━━━━━━━━━━━━━━━━━━━━━━━━━━━━━━━\u001b[0m \u001b[32m49.6/49.6 kB\u001b[0m \u001b[31m5.5 MB/s\u001b[0m eta \u001b[36m0:00:00\u001b[0m\n",
            "\u001b[?25hRequirement already satisfied: pandas in /usr/local/lib/python3.10/dist-packages (2.0.3)\n",
            "Requirement already satisfied: python-dateutil>=2.8.2 in /usr/local/lib/python3.10/dist-packages (from pandas) (2.8.2)\n",
            "Requirement already satisfied: pytz>=2020.1 in /usr/local/lib/python3.10/dist-packages (from pandas) (2023.4)\n",
            "Requirement already satisfied: tzdata>=2022.1 in /usr/local/lib/python3.10/dist-packages (from pandas) (2024.1)\n",
            "Requirement already satisfied: numpy>=1.21.0 in /usr/local/lib/python3.10/dist-packages (from pandas) (1.25.2)\n",
            "Requirement already satisfied: six>=1.5 in /usr/local/lib/python3.10/dist-packages (from python-dateutil>=2.8.2->pandas) (1.16.0)\n",
            "Selecting previously unselected package libsuitesparseconfig5:amd64.\n",
            "(Reading database ... 121918 files and directories currently installed.)\n",
            "Preparing to unpack .../libsuitesparseconfig5_1%3a5.10.1+dfsg-4build1_amd64.deb ...\n",
            "Unpacking libsuitesparseconfig5:amd64 (1:5.10.1+dfsg-4build1) ...\n",
            "Selecting previously unselected package libamd2:amd64.\n",
            "Preparing to unpack .../libamd2_1%3a5.10.1+dfsg-4build1_amd64.deb ...\n",
            "Unpacking libamd2:amd64 (1:5.10.1+dfsg-4build1) ...\n",
            "Selecting previously unselected package libcolamd2:amd64.\n",
            "Preparing to unpack .../libcolamd2_1%3a5.10.1+dfsg-4build1_amd64.deb ...\n",
            "Unpacking libcolamd2:amd64 (1:5.10.1+dfsg-4build1) ...\n",
            "Selecting previously unselected package libglpk40:amd64.\n",
            "Preparing to unpack .../libglpk40_5.0-1_amd64.deb ...\n",
            "Unpacking libglpk40:amd64 (5.0-1) ...\n",
            "Selecting previously unselected package glpk-utils.\n",
            "Preparing to unpack .../glpk-utils_5.0-1_amd64.deb ...\n",
            "Unpacking glpk-utils (5.0-1) ...\n",
            "Setting up libsuitesparseconfig5:amd64 (1:5.10.1+dfsg-4build1) ...\n",
            "Setting up libamd2:amd64 (1:5.10.1+dfsg-4build1) ...\n",
            "Setting up libcolamd2:amd64 (1:5.10.1+dfsg-4build1) ...\n",
            "Setting up libglpk40:amd64 (5.0-1) ...\n",
            "Setting up glpk-utils (5.0-1) ...\n",
            "Processing triggers for man-db (2.10.2-1) ...\n",
            "Processing triggers for libc-bin (2.35-0ubuntu3.4) ...\n",
            "/sbin/ldconfig.real: /usr/local/lib/libtbb.so.12 is not a symbolic link\n",
            "\n",
            "/sbin/ldconfig.real: /usr/local/lib/libtbbbind.so.3 is not a symbolic link\n",
            "\n",
            "/sbin/ldconfig.real: /usr/local/lib/libtbbmalloc_proxy.so.2 is not a symbolic link\n",
            "\n",
            "/sbin/ldconfig.real: /usr/local/lib/libtbbmalloc.so.2 is not a symbolic link\n",
            "\n",
            "/sbin/ldconfig.real: /usr/local/lib/libtbbbind_2_5.so.3 is not a symbolic link\n",
            "\n",
            "/sbin/ldconfig.real: /usr/local/lib/libtbbbind_2_0.so.3 is not a symbolic link\n",
            "\n",
            "Collecting glpk\n",
            "  Downloading glpk-0.4.7.tar.gz (161 kB)\n",
            "\u001b[2K     \u001b[90m━━━━━━━━━━━━━━━━━━━━━━━━━━━━━━━━━━━━━━━━\u001b[0m \u001b[32m161.2/161.2 kB\u001b[0m \u001b[31m3.1 MB/s\u001b[0m eta \u001b[36m0:00:00\u001b[0m\n",
            "\u001b[?25h  Installing build dependencies ... \u001b[?25l\u001b[?25hdone\n",
            "  Getting requirements to build wheel ... \u001b[?25l\u001b[?25hdone\n",
            "  Preparing metadata (pyproject.toml) ... \u001b[?25l\u001b[?25hdone\n",
            "Building wheels for collected packages: glpk\n",
            "  \u001b[1;31merror\u001b[0m: \u001b[1msubprocess-exited-with-error\u001b[0m\n",
            "  \n",
            "  \u001b[31m×\u001b[0m \u001b[32mBuilding wheel for glpk \u001b[0m\u001b[1;32m(\u001b[0m\u001b[32mpyproject.toml\u001b[0m\u001b[1;32m)\u001b[0m did not run successfully.\n",
            "  \u001b[31m│\u001b[0m exit code: \u001b[1;36m1\u001b[0m\n",
            "  \u001b[31m╰─>\u001b[0m See above for output.\n",
            "  \n",
            "  \u001b[1;35mnote\u001b[0m: This error originates from a subprocess, and is likely not a problem with pip.\n",
            "  Building wheel for glpk (pyproject.toml) ... \u001b[?25l\u001b[?25herror\n",
            "\u001b[31m  ERROR: Failed building wheel for glpk\u001b[0m\u001b[31m\n",
            "\u001b[0mFailed to build glpk\n",
            "\u001b[31mERROR: Could not build wheels for glpk, which is required to install pyproject.toml-based projects\u001b[0m\u001b[31m\n",
            "\u001b[0m"
          ]
        }
      ]
    },
    {
      "cell_type": "code",
      "source": [
        "import pyomo.environ as pyo\n",
        "import numpy as np\n",
        "import pandas as pd\n",
        "\n",
        "# Read the historic returns data from the CSV file\n",
        "past_investments = pd.read_csv(\"/content/drive/MyDrive/Thesis/ProblemData/IP/IP2/investments_data.csv\", header=None, sep=';')\n",
        "R = pd.DataFrame(past_investments).to_numpy()  # Past investment outcomes\n",
        "\n",
        "# Define the parameters\n",
        "N = 10\n",
        "M = R.shape[0]\n",
        "A =[80, 340, 410, 50, 180, 221, 15, 348, 191, 225]  # Sample cost data\n",
        "S = 4\n",
        "B = [1000, 1100, 900, 1200]   # Sample budget data\n",
        "p = [0.55, 0.4, 0.04, 0.01]  # Sample probability data\n",
        "alpha = 0.4\n",
        "r = 2\n",
        "\n",
        "# Create the Pyomo model\n",
        "model = pyo.ConcreteModel()\n",
        "\n",
        "# Define the decision variables\n",
        "model.x = pyo.Var(range(N), domain=pyo.Binary)\n",
        "model.y = pyo.Var(range(S), domain=pyo.Binary)\n",
        "\n",
        "# Define the objective function\n",
        "def obj_rule(model):\n",
        "    mean_return = sum((1/M * sum(R[:, i])) * model.x[i] for i in range(N))\n",
        "    variance = sum((1/M * sum((R[:, i] - (1/M * sum(R[:, i]))) ** 2)) * model.x[i] for i in range(N))\n",
        "    return mean_return - r * variance\n",
        "\n",
        "model.obj = pyo.Objective(rule=obj_rule, sense=pyo.maximize)\n",
        "\n",
        "# Define the constraints\n",
        "def budget_constraint_rule(model, s):\n",
        "    return sum(A[i] * model.x[i] for i in range(N)) <= B[s] + 1e6 * model.y[s]\n",
        "\n",
        "model.budget_constraint = pyo.Constraint(range(S), rule=budget_constraint_rule)\n",
        "\n",
        "def probability_constraint_rule(model):\n",
        "    return sum(p[s] * model.y[s] for s in range(S)) <= alpha\n",
        "\n",
        "model.probability_constraint = pyo.Constraint(rule=probability_constraint_rule)\n",
        "\n",
        "# Solve the model\n",
        "solver = pyo.SolverFactory('glpk')\n",
        "results = solver.solve(model)\n",
        "\n",
        "# Print the results\n",
        "print(\"Objective value:\", pyo.value(model.obj))\n",
        "print(\"Selected investments:\")\n",
        "for i in range(N):\n",
        "    if pyo.value(model.x[i]) == 1:\n",
        "        print(\"Investment\", i+1)"
      ],
      "metadata": {
        "colab": {
          "base_uri": "https://localhost:8080/"
        },
        "id": "8FpHcuWU8rQ2",
        "outputId": "ee2f078a-f31a-45fb-8f33-136226841467"
      },
      "execution_count": 12,
      "outputs": [
        {
          "output_type": "stream",
          "name": "stdout",
          "text": [
            "Objective value: 226.08424825247408\n",
            "Selected investments:\n",
            "Investment 3\n",
            "Investment 6\n",
            "Investment 8\n"
          ]
        }
      ]
    },
    {
      "cell_type": "code",
      "source": [
        "for i in range(S):\n",
        "    if pyo.value(model.y[i]) == 1:\n",
        "        print(\"Scenario\", i+1)"
      ],
      "metadata": {
        "colab": {
          "base_uri": "https://localhost:8080/"
        },
        "id": "t5VqtjzexpQ5",
        "outputId": "6659734e-c1f5-4853-f9c2-8aee62aec35c"
      },
      "execution_count": 13,
      "outputs": [
        {
          "output_type": "stream",
          "name": "stdout",
          "text": [
            "Scenario 3\n"
          ]
        }
      ]
    },
    {
      "cell_type": "markdown",
      "source": [
        "# 5. Correct The Model Code to Test Mathematical Model (if applicable)"
      ],
      "metadata": {
        "id": "KHTyoLQTWZVy"
      }
    },
    {
      "cell_type": "code",
      "source": [],
      "metadata": {
        "id": "REJzqhR6WYvM",
        "collapsed": true
      },
      "execution_count": 16,
      "outputs": []
    },
    {
      "cell_type": "code",
      "source": [],
      "metadata": {
        "id": "bPJ_54384nR_"
      },
      "execution_count": 16,
      "outputs": []
    }
  ]
}