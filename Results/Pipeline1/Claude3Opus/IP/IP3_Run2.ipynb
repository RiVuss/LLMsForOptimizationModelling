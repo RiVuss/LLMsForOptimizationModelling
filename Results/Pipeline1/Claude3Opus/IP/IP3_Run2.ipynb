{
  "nbformat": 4,
  "nbformat_minor": 0,
  "metadata": {
    "colab": {
      "provenance": []
    },
    "kernelspec": {
      "name": "python3",
      "display_name": "Python 3"
    },
    "language_info": {
      "name": "python"
    }
  },
  "cells": [
    {
      "cell_type": "markdown",
      "source": [
        "# 0. Imports and Setting up Anthropic API Client"
      ],
      "metadata": {
        "id": "y5fw0lkBwBbo"
      }
    },
    {
      "cell_type": "code",
      "source": [
        "from google.colab import drive\n",
        "\n",
        "drive.mount('/content/drive')"
      ],
      "metadata": {
        "colab": {
          "base_uri": "https://localhost:8080/"
        },
        "id": "e7tWOLo0yMoH",
        "outputId": "27d7685a-5e91-469d-e36f-24ca6b056e58"
      },
      "execution_count": 1,
      "outputs": [
        {
          "output_type": "stream",
          "name": "stdout",
          "text": [
            "Mounted at /content/drive\n"
          ]
        }
      ]
    },
    {
      "cell_type": "code",
      "source": [
        "!pip install python-dotenv\n",
        "\n",
        "import os\n",
        "import dotenv\n",
        "\n",
        "dotenv.load_dotenv('/content/drive/MyDrive/.env')"
      ],
      "metadata": {
        "colab": {
          "base_uri": "https://localhost:8080/"
        },
        "id": "utcEK8lZ1Z1R",
        "outputId": "1a8570d7-2191-4eee-b26d-62ef4285fbeb"
      },
      "execution_count": 2,
      "outputs": [
        {
          "output_type": "stream",
          "name": "stdout",
          "text": [
            "Collecting python-dotenv\n",
            "  Downloading python_dotenv-1.0.1-py3-none-any.whl (19 kB)\n",
            "Installing collected packages: python-dotenv\n",
            "Successfully installed python-dotenv-1.0.1\n"
          ]
        },
        {
          "output_type": "execute_result",
          "data": {
            "text/plain": [
              "True"
            ]
          },
          "metadata": {},
          "execution_count": 2
        }
      ]
    },
    {
      "cell_type": "code",
      "source": [
        "# Load Prompts and Problem Description\n",
        "prompt1_path = '/content/drive/MyDrive/Thesis/Prompts/Prompt1_MathematicalModel.txt'\n",
        "prompt2_path = '/content/drive/MyDrive/Thesis/Prompts/Prompt2_PyomoCode.txt'\n",
        "problem_desc_path = '/content/drive/MyDrive/Thesis/ProblemDescriptions/IP/IP3.txt'\n",
        "\n",
        "prompt1_file = open(prompt1_path, \"r\")\n",
        "prompt2_file = open(prompt2_path, \"r\")\n",
        "problem_desc_file = open(problem_desc_path, \"r\")\n",
        "\n",
        "prompt1 = prompt1_file.read()\n",
        "print(\"Prompt 1:\\n\", prompt1)\n",
        "\n",
        "prompt2 = prompt2_file.read()\n",
        "print(\"Prompt 2:\\n\", prompt2)\n",
        "\n",
        "problem_desc = problem_desc_file.read()\n",
        "print(\"Problem Description:\\n\", problem_desc)"
      ],
      "metadata": {
        "colab": {
          "base_uri": "https://localhost:8080/"
        },
        "id": "9KlkjwMUS4xp",
        "outputId": "e51cdc39-13d5-4b5b-b4bd-675714eb0531"
      },
      "execution_count": 3,
      "outputs": [
        {
          "output_type": "stream",
          "name": "stdout",
          "text": [
            "Prompt 1:\n",
            " Please write a mathematical optimization model for this problem. Include parameters, decision variables, the objective function and the constraints in your answer.\n",
            "Prompt 2:\n",
            " Please write a python pyomo code for this optimization problem.\n",
            "Use sample data where needed.\n",
            "Indicate where you use sample data.\n",
            "Problem Description:\n",
            " You are the person in charge of packing in a large company. Your job is to skillfully pack items of various weights in a box with predetermined capacity. The objective is to use as few boxes as possible. There is a set of items and a set of boxes with an upper bound on the amount of boxes. Each of the items has a known weight. Each item is packed into one box and items are packed into the chosen boxes. Please formulate a mathematical optimization model for this problem.  \n",
            "\n"
          ]
        }
      ]
    },
    {
      "cell_type": "code",
      "source": [
        "!pip install anthropic"
      ],
      "metadata": {
        "colab": {
          "base_uri": "https://localhost:8080/"
        },
        "id": "iWlNsTIvxCcR",
        "outputId": "be181e6c-6275-45c2-fc4b-b2c117c1fabe",
        "collapsed": true
      },
      "execution_count": 4,
      "outputs": [
        {
          "output_type": "stream",
          "name": "stdout",
          "text": [
            "Collecting anthropic\n",
            "  Downloading anthropic-0.26.0-py3-none-any.whl (877 kB)\n",
            "\u001b[2K     \u001b[90m━━━━━━━━━━━━━━━━━━━━━━━━━━━━━━━━━━━━━━━━\u001b[0m \u001b[32m877.7/877.7 kB\u001b[0m \u001b[31m4.3 MB/s\u001b[0m eta \u001b[36m0:00:00\u001b[0m\n",
            "\u001b[?25hRequirement already satisfied: anyio<5,>=3.5.0 in /usr/local/lib/python3.10/dist-packages (from anthropic) (3.7.1)\n",
            "Requirement already satisfied: distro<2,>=1.7.0 in /usr/lib/python3/dist-packages (from anthropic) (1.7.0)\n",
            "Collecting httpx<1,>=0.23.0 (from anthropic)\n",
            "  Downloading httpx-0.27.0-py3-none-any.whl (75 kB)\n",
            "\u001b[2K     \u001b[90m━━━━━━━━━━━━━━━━━━━━━━━━━━━━━━━━━━━━━━━━\u001b[0m \u001b[32m75.6/75.6 kB\u001b[0m \u001b[31m6.9 MB/s\u001b[0m eta \u001b[36m0:00:00\u001b[0m\n",
            "\u001b[?25hRequirement already satisfied: pydantic<3,>=1.9.0 in /usr/local/lib/python3.10/dist-packages (from anthropic) (2.7.1)\n",
            "Requirement already satisfied: sniffio in /usr/local/lib/python3.10/dist-packages (from anthropic) (1.3.1)\n",
            "Requirement already satisfied: tokenizers>=0.13.0 in /usr/local/lib/python3.10/dist-packages (from anthropic) (0.19.1)\n",
            "Requirement already satisfied: typing-extensions<5,>=4.7 in /usr/local/lib/python3.10/dist-packages (from anthropic) (4.11.0)\n",
            "Requirement already satisfied: idna>=2.8 in /usr/local/lib/python3.10/dist-packages (from anyio<5,>=3.5.0->anthropic) (3.7)\n",
            "Requirement already satisfied: exceptiongroup in /usr/local/lib/python3.10/dist-packages (from anyio<5,>=3.5.0->anthropic) (1.2.1)\n",
            "Requirement already satisfied: certifi in /usr/local/lib/python3.10/dist-packages (from httpx<1,>=0.23.0->anthropic) (2024.2.2)\n",
            "Collecting httpcore==1.* (from httpx<1,>=0.23.0->anthropic)\n",
            "  Downloading httpcore-1.0.5-py3-none-any.whl (77 kB)\n",
            "\u001b[2K     \u001b[90m━━━━━━━━━━━━━━━━━━━━━━━━━━━━━━━━━━━━━━━━\u001b[0m \u001b[32m77.9/77.9 kB\u001b[0m \u001b[31m8.9 MB/s\u001b[0m eta \u001b[36m0:00:00\u001b[0m\n",
            "\u001b[?25hCollecting h11<0.15,>=0.13 (from httpcore==1.*->httpx<1,>=0.23.0->anthropic)\n",
            "  Downloading h11-0.14.0-py3-none-any.whl (58 kB)\n",
            "\u001b[2K     \u001b[90m━━━━━━━━━━━━━━━━━━━━━━━━━━━━━━━━━━━━━━━━\u001b[0m \u001b[32m58.3/58.3 kB\u001b[0m \u001b[31m5.8 MB/s\u001b[0m eta \u001b[36m0:00:00\u001b[0m\n",
            "\u001b[?25hRequirement already satisfied: annotated-types>=0.4.0 in /usr/local/lib/python3.10/dist-packages (from pydantic<3,>=1.9.0->anthropic) (0.6.0)\n",
            "Requirement already satisfied: pydantic-core==2.18.2 in /usr/local/lib/python3.10/dist-packages (from pydantic<3,>=1.9.0->anthropic) (2.18.2)\n",
            "Requirement already satisfied: huggingface-hub<1.0,>=0.16.4 in /usr/local/lib/python3.10/dist-packages (from tokenizers>=0.13.0->anthropic) (0.20.3)\n",
            "Requirement already satisfied: filelock in /usr/local/lib/python3.10/dist-packages (from huggingface-hub<1.0,>=0.16.4->tokenizers>=0.13.0->anthropic) (3.14.0)\n",
            "Requirement already satisfied: fsspec>=2023.5.0 in /usr/local/lib/python3.10/dist-packages (from huggingface-hub<1.0,>=0.16.4->tokenizers>=0.13.0->anthropic) (2023.6.0)\n",
            "Requirement already satisfied: requests in /usr/local/lib/python3.10/dist-packages (from huggingface-hub<1.0,>=0.16.4->tokenizers>=0.13.0->anthropic) (2.31.0)\n",
            "Requirement already satisfied: tqdm>=4.42.1 in /usr/local/lib/python3.10/dist-packages (from huggingface-hub<1.0,>=0.16.4->tokenizers>=0.13.0->anthropic) (4.66.4)\n",
            "Requirement already satisfied: pyyaml>=5.1 in /usr/local/lib/python3.10/dist-packages (from huggingface-hub<1.0,>=0.16.4->tokenizers>=0.13.0->anthropic) (6.0.1)\n",
            "Requirement already satisfied: packaging>=20.9 in /usr/local/lib/python3.10/dist-packages (from huggingface-hub<1.0,>=0.16.4->tokenizers>=0.13.0->anthropic) (24.0)\n",
            "Requirement already satisfied: charset-normalizer<4,>=2 in /usr/local/lib/python3.10/dist-packages (from requests->huggingface-hub<1.0,>=0.16.4->tokenizers>=0.13.0->anthropic) (3.3.2)\n",
            "Requirement already satisfied: urllib3<3,>=1.21.1 in /usr/local/lib/python3.10/dist-packages (from requests->huggingface-hub<1.0,>=0.16.4->tokenizers>=0.13.0->anthropic) (2.0.7)\n",
            "Installing collected packages: h11, httpcore, httpx, anthropic\n",
            "Successfully installed anthropic-0.26.0 h11-0.14.0 httpcore-1.0.5 httpx-0.27.0\n"
          ]
        }
      ]
    },
    {
      "cell_type": "code",
      "execution_count": 5,
      "metadata": {
        "id": "7Qjk2D63v1Bl"
      },
      "outputs": [],
      "source": [
        "# Importing Anthropic & Setting Headers\n",
        "import anthropic\n",
        "\n",
        "client = anthropic.Anthropic(\n",
        "    # defaults to os.environ.get(\"ANTHROPIC_API_KEY\")\n",
        "    api_key=os.environ.get(\"ANTHROPIC_API_KEY\"),\n",
        ")"
      ]
    },
    {
      "cell_type": "markdown",
      "source": [
        "# 1. Prompt 1: Create Mathematical Model"
      ],
      "metadata": {
        "id": "kT7yKbJs18XR"
      }
    },
    {
      "cell_type": "code",
      "source": [
        "message = client.messages.create(\n",
        "    model=\"claude-3-opus-20240229\",\n",
        "    system=prompt1,\n",
        "    max_tokens=4096,\n",
        "    messages=[\n",
        "        {\"role\": \"user\", \"content\": problem_desc}\n",
        "    ]\n",
        ")\n",
        "\n",
        "response_p1 = message.content[0].text"
      ],
      "metadata": {
        "id": "R_6X0axq16D4"
      },
      "execution_count": 6,
      "outputs": []
    },
    {
      "cell_type": "code",
      "source": [
        "# Print response\n",
        "print(response_p1)"
      ],
      "metadata": {
        "colab": {
          "base_uri": "https://localhost:8080/"
        },
        "id": "Ra9Ox_PI38jg",
        "outputId": "58fd5220-187a-424f-e329-b0f288eb146e"
      },
      "execution_count": 7,
      "outputs": [
        {
          "output_type": "stream",
          "name": "stdout",
          "text": [
            "Certainly! Let's formulate the mathematical optimization model for the packing problem.\n",
            "\n",
            "Parameters:\n",
            "- I: Set of items to be packed, indexed by i\n",
            "- B: Set of available boxes, indexed by j\n",
            "- w_i: Weight of item i\n",
            "- C: Capacity of each box\n",
            "- M: Upper bound on the number of boxes used\n",
            "\n",
            "Decision Variables:\n",
            "- x_ij: Binary variable indicating whether item i is packed into box j (1 if packed, 0 otherwise)\n",
            "- y_j: Binary variable indicating whether box j is used (1 if used, 0 otherwise)\n",
            "\n",
            "Objective Function:\n",
            "- Minimize the total number of boxes used:\n",
            "  min Σ_j y_j\n",
            "\n",
            "Constraints:\n",
            "1. Each item must be packed into exactly one box:\n",
            "   Σ_j x_ij = 1, ∀i ∈ I\n",
            "\n",
            "2. The total weight of items packed into each box must not exceed the box capacity:\n",
            "   Σ_i w_i * x_ij ≤ C * y_j, ∀j ∈ B\n",
            "\n",
            "3. The number of boxes used must not exceed the upper bound:\n",
            "   Σ_j y_j ≤ M\n",
            "\n",
            "4. Binary restrictions on the decision variables:\n",
            "   x_ij ∈ {0, 1}, ∀i ∈ I, ∀j ∈ B\n",
            "   y_j ∈ {0, 1}, ∀j ∈ B\n",
            "\n",
            "The complete mathematical optimization model is as follows:\n",
            "\n",
            "min Σ_j y_j\n",
            "\n",
            "subject to:\n",
            "1. Σ_j x_ij = 1, ∀i ∈ I\n",
            "2. Σ_i w_i * x_ij ≤ C * y_j, ∀j ∈ B\n",
            "3. Σ_j y_j ≤ M\n",
            "4. x_ij ∈ {0, 1}, ∀i ∈ I, ∀j ∈ B\n",
            "   y_j ∈ {0, 1}, ∀j ∈ B\n",
            "\n",
            "The objective function minimizes the total number of boxes used. Constraint 1 ensures that each item is packed into exactly one box. Constraint 2 guarantees that the total weight of items packed into each box does not exceed the box capacity. Constraint 3 limits the number of boxes used to the upper bound M. Finally, constraint 4 imposes binary restrictions on the decision variables x_ij and y_j.\n",
            "\n",
            "This mathematical optimization model represents the packing problem and can be solved using integer programming techniques to determine the optimal packing arrangement that minimizes the number of boxes used while satisfying the weight and capacity constraints.\n"
          ]
        }
      ]
    },
    {
      "cell_type": "markdown",
      "source": [
        "# 2. Prompt 2: Write Code based on Mathematical Model"
      ],
      "metadata": {
        "id": "WPZ6lgBO729j"
      }
    },
    {
      "cell_type": "code",
      "source": [
        "message2 = client.messages.create(\n",
        "    model=\"claude-3-opus-20240229\",\n",
        "    system=prompt2,\n",
        "    max_tokens=4069,\n",
        "    messages=[\n",
        "        {\"role\": \"user\", \"content\": response_p1}\n",
        "    ]\n",
        ")\n",
        "\n",
        "response_p2 = message2.content[0].text"
      ],
      "metadata": {
        "id": "1iUSgBda70FL"
      },
      "execution_count": 8,
      "outputs": []
    },
    {
      "cell_type": "code",
      "source": [
        "# Print response\n",
        "print(response_p2)"
      ],
      "metadata": {
        "colab": {
          "base_uri": "https://localhost:8080/"
        },
        "id": "o40mxc_H8eQ9",
        "outputId": "0c58f602-1b96-42d4-e4c7-39a1be17aa14"
      },
      "execution_count": 9,
      "outputs": [
        {
          "output_type": "stream",
          "name": "stdout",
          "text": [
            "Great! Now let's implement this optimization model using Pyomo in Python. Here's the code:\n",
            "\n",
            "```python\n",
            "from pyomo.environ import *\n",
            "\n",
            "# Sample data (replace with your actual data)\n",
            "items = ['item1', 'item2', 'item3', 'item4', 'item5']\n",
            "boxes = ['box1', 'box2', 'box3']\n",
            "weights = {'item1': 5, 'item2': 3, 'item3': 4, 'item4': 2, 'item5': 6}\n",
            "capacity = 10\n",
            "max_boxes = 3\n",
            "\n",
            "# Create the Pyomo model\n",
            "model = ConcreteModel()\n",
            "\n",
            "# Define sets\n",
            "model.I = Set(initialize=items)\n",
            "model.B = Set(initialize=boxes)\n",
            "\n",
            "# Define parameters\n",
            "model.w = Param(model.I, initialize=weights)\n",
            "model.C = Param(initialize=capacity)\n",
            "model.M = Param(initialize=max_boxes)\n",
            "\n",
            "# Define decision variables\n",
            "model.x = Var(model.I, model.B, domain=Binary)\n",
            "model.y = Var(model.B, domain=Binary)\n",
            "\n",
            "# Define objective function\n",
            "def obj_rule(model):\n",
            "    return sum(model.y[j] for j in model.B)\n",
            "model.obj = Objective(rule=obj_rule, sense=minimize)\n",
            "\n",
            "# Define constraints\n",
            "def item_packing_rule(model, i):\n",
            "    return sum(model.x[i, j] for j in model.B) == 1\n",
            "model.item_packing = Constraint(model.I, rule=item_packing_rule)\n",
            "\n",
            "def capacity_rule(model, j):\n",
            "    return sum(model.w[i] * model.x[i, j] for i in model.I) <= model.C * model.y[j]\n",
            "model.capacity = Constraint(model.B, rule=capacity_rule)\n",
            "\n",
            "def box_limit_rule(model):\n",
            "    return sum(model.y[j] for j in model.B) <= model.M\n",
            "model.box_limit = Constraint(rule=box_limit_rule)\n",
            "\n",
            "# Solve the model\n",
            "solver = SolverFactory('glpk')\n",
            "results = solver.solve(model)\n",
            "\n",
            "# Print the results\n",
            "print(\"Optimal solution found:\")\n",
            "print(\"Objective value:\", value(model.obj))\n",
            "\n",
            "for j in model.B:\n",
            "    if value(model.y[j]) == 1:\n",
            "        print(f\"Box {j} is used.\")\n",
            "        for i in model.I:\n",
            "            if value(model.x[i, j]) == 1:\n",
            "                print(f\"  Item {i} is packed into box {j}.\")\n",
            "```\n",
            "\n",
            "In this code, we first define the sample data for items, boxes, weights, capacity, and the maximum number of boxes allowed. You can replace these with your actual data.\n",
            "\n",
            "We then create a Pyomo model and define the sets, parameters, decision variables, objective function, and constraints according to the mathematical optimization model we formulated earlier.\n",
            "\n",
            "The objective function minimizes the total number of boxes used. The constraints ensure that each item is packed into exactly one box, the total weight of items packed into each box does not exceed the box capacity, and the number of boxes used is limited to the maximum allowed.\n",
            "\n",
            "Finally, we solve the model using the GLPK solver (you may need to install it separately) and print the optimal solution, including the objective value and the packing arrangement of items into boxes.\n",
            "\n",
            "Note: Make sure you have Pyomo and a suitable solver (e.g., GLPK) installed before running this code.\n"
          ]
        }
      ]
    },
    {
      "cell_type": "markdown",
      "source": [
        "# 4. Input Problem Data and Test Model Code"
      ],
      "metadata": {
        "id": "Pc0QqJuf8up_"
      }
    },
    {
      "cell_type": "code",
      "source": [
        "# Installing pyomo nd solver\n",
        "!pip install -q pyomo\n",
        "!pip install pandas\n",
        "!apt-get install -y -qq glpk-utils\n",
        "!pip install glpk"
      ],
      "metadata": {
        "colab": {
          "base_uri": "https://localhost:8080/"
        },
        "id": "3BtROuLu9O-p",
        "outputId": "ee528e55-837b-4e33-a2d8-575794f8fcd5",
        "collapsed": true
      },
      "execution_count": 10,
      "outputs": [
        {
          "output_type": "stream",
          "name": "stdout",
          "text": [
            "\u001b[2K     \u001b[90m━━━━━━━━━━━━━━━━━━━━━━━━━━━━━━━━━━━━━━━━\u001b[0m \u001b[32m12.8/12.8 MB\u001b[0m \u001b[31m42.6 MB/s\u001b[0m eta \u001b[36m0:00:00\u001b[0m\n",
            "\u001b[2K     \u001b[90m━━━━━━━━━━━━━━━━━━━━━━━━━━━━━━━━━━━━━━━━\u001b[0m \u001b[32m49.6/49.6 kB\u001b[0m \u001b[31m4.1 MB/s\u001b[0m eta \u001b[36m0:00:00\u001b[0m\n",
            "\u001b[?25hRequirement already satisfied: pandas in /usr/local/lib/python3.10/dist-packages (2.0.3)\n",
            "Requirement already satisfied: python-dateutil>=2.8.2 in /usr/local/lib/python3.10/dist-packages (from pandas) (2.8.2)\n",
            "Requirement already satisfied: pytz>=2020.1 in /usr/local/lib/python3.10/dist-packages (from pandas) (2023.4)\n",
            "Requirement already satisfied: tzdata>=2022.1 in /usr/local/lib/python3.10/dist-packages (from pandas) (2024.1)\n",
            "Requirement already satisfied: numpy>=1.21.0 in /usr/local/lib/python3.10/dist-packages (from pandas) (1.25.2)\n",
            "Requirement already satisfied: six>=1.5 in /usr/local/lib/python3.10/dist-packages (from python-dateutil>=2.8.2->pandas) (1.16.0)\n",
            "Selecting previously unselected package libsuitesparseconfig5:amd64.\n",
            "(Reading database ... 121918 files and directories currently installed.)\n",
            "Preparing to unpack .../libsuitesparseconfig5_1%3a5.10.1+dfsg-4build1_amd64.deb ...\n",
            "Unpacking libsuitesparseconfig5:amd64 (1:5.10.1+dfsg-4build1) ...\n",
            "Selecting previously unselected package libamd2:amd64.\n",
            "Preparing to unpack .../libamd2_1%3a5.10.1+dfsg-4build1_amd64.deb ...\n",
            "Unpacking libamd2:amd64 (1:5.10.1+dfsg-4build1) ...\n",
            "Selecting previously unselected package libcolamd2:amd64.\n",
            "Preparing to unpack .../libcolamd2_1%3a5.10.1+dfsg-4build1_amd64.deb ...\n",
            "Unpacking libcolamd2:amd64 (1:5.10.1+dfsg-4build1) ...\n",
            "Selecting previously unselected package libglpk40:amd64.\n",
            "Preparing to unpack .../libglpk40_5.0-1_amd64.deb ...\n",
            "Unpacking libglpk40:amd64 (5.0-1) ...\n",
            "Selecting previously unselected package glpk-utils.\n",
            "Preparing to unpack .../glpk-utils_5.0-1_amd64.deb ...\n",
            "Unpacking glpk-utils (5.0-1) ...\n",
            "Setting up libsuitesparseconfig5:amd64 (1:5.10.1+dfsg-4build1) ...\n",
            "Setting up libamd2:amd64 (1:5.10.1+dfsg-4build1) ...\n",
            "Setting up libcolamd2:amd64 (1:5.10.1+dfsg-4build1) ...\n",
            "Setting up libglpk40:amd64 (5.0-1) ...\n",
            "Setting up glpk-utils (5.0-1) ...\n",
            "Processing triggers for man-db (2.10.2-1) ...\n",
            "Processing triggers for libc-bin (2.35-0ubuntu3.4) ...\n",
            "/sbin/ldconfig.real: /usr/local/lib/libtbb.so.12 is not a symbolic link\n",
            "\n",
            "/sbin/ldconfig.real: /usr/local/lib/libtbbbind.so.3 is not a symbolic link\n",
            "\n",
            "/sbin/ldconfig.real: /usr/local/lib/libtbbmalloc_proxy.so.2 is not a symbolic link\n",
            "\n",
            "/sbin/ldconfig.real: /usr/local/lib/libtbbmalloc.so.2 is not a symbolic link\n",
            "\n",
            "/sbin/ldconfig.real: /usr/local/lib/libtbbbind_2_5.so.3 is not a symbolic link\n",
            "\n",
            "/sbin/ldconfig.real: /usr/local/lib/libtbbbind_2_0.so.3 is not a symbolic link\n",
            "\n",
            "Collecting glpk\n",
            "  Downloading glpk-0.4.7.tar.gz (161 kB)\n",
            "\u001b[2K     \u001b[90m━━━━━━━━━━━━━━━━━━━━━━━━━━━━━━━━━━━━━━━━\u001b[0m \u001b[32m161.2/161.2 kB\u001b[0m \u001b[31m1.5 MB/s\u001b[0m eta \u001b[36m0:00:00\u001b[0m\n",
            "\u001b[?25h  Installing build dependencies ... \u001b[?25l\u001b[?25hdone\n",
            "  Getting requirements to build wheel ... \u001b[?25l\u001b[?25hdone\n",
            "  Preparing metadata (pyproject.toml) ... \u001b[?25l\u001b[?25hdone\n",
            "Building wheels for collected packages: glpk\n",
            "  \u001b[1;31merror\u001b[0m: \u001b[1msubprocess-exited-with-error\u001b[0m\n",
            "  \n",
            "  \u001b[31m×\u001b[0m \u001b[32mBuilding wheel for glpk \u001b[0m\u001b[1;32m(\u001b[0m\u001b[32mpyproject.toml\u001b[0m\u001b[1;32m)\u001b[0m did not run successfully.\n",
            "  \u001b[31m│\u001b[0m exit code: \u001b[1;36m1\u001b[0m\n",
            "  \u001b[31m╰─>\u001b[0m See above for output.\n",
            "  \n",
            "  \u001b[1;35mnote\u001b[0m: This error originates from a subprocess, and is likely not a problem with pip.\n",
            "  Building wheel for glpk (pyproject.toml) ... \u001b[?25l\u001b[?25herror\n",
            "\u001b[31m  ERROR: Failed building wheel for glpk\u001b[0m\u001b[31m\n",
            "\u001b[0mFailed to build glpk\n",
            "\u001b[31mERROR: Could not build wheels for glpk, which is required to install pyproject.toml-based projects\u001b[0m\u001b[31m\n",
            "\u001b[0m"
          ]
        }
      ]
    },
    {
      "cell_type": "code",
      "source": [
        "from pyomo.environ import *\n",
        "\n",
        "# Sample data (replace with your actual data)\n",
        "items = ['item1', 'item2', 'item3', 'item4', 'item5', 'item6', 'item7', 'item8', 'item9', 'item10', 'item11', 'item12', 'item13', 'item14', 'item15', 'item16', 'item17', 'item18', 'item19', 'item20', 'item21', 'item22', 'item23', 'item24']\n",
        "boxes = ['box1', 'box2', 'box3', 'box4', 'box5', 'box6', 'box7', 'box8', 'box9', 'box10', 'box11', 'box12', 'box13']\n",
        "weights = [2, 2, 2, 2, 3, 3, 4, 4, 4, 4, 4, 4, 5, 5, 5, 5, 5, 5, 6, 6, 7, 7, 8, 8]\n",
        "capacity = 9\n",
        "max_boxes = 13\n",
        "\n",
        "# Create the Pyomo model\n",
        "model = ConcreteModel()\n",
        "\n",
        "# Define sets\n",
        "model.I = Set(initialize=items)\n",
        "model.B = Set(initialize=boxes)\n",
        "\n",
        "# Define parameters\n",
        "model.w = Param(model.I, initialize={items[i]: weights[i] for i in range(len(model.I))})\n",
        "model.C = Param(initialize=capacity)\n",
        "model.M = Param(initialize=max_boxes)\n",
        "\n",
        "# Define decision variables\n",
        "model.x = Var(model.I, model.B, domain=Binary)\n",
        "model.y = Var(model.B, domain=Binary)\n",
        "\n",
        "# Define objective function\n",
        "def obj_rule(model):\n",
        "    return sum(model.y[j] for j in model.B)\n",
        "model.obj = Objective(rule=obj_rule, sense=minimize)\n",
        "\n",
        "# Define constraints\n",
        "def item_packing_rule(model, i):\n",
        "    return sum(model.x[i, j] for j in model.B) == 1\n",
        "model.item_packing = Constraint(model.I, rule=item_packing_rule)\n",
        "\n",
        "def capacity_rule(model, j):\n",
        "    return sum(model.w[i] * model.x[i, j] for i in model.I) <= model.C * model.y[j]\n",
        "model.capacity = Constraint(model.B, rule=capacity_rule)\n",
        "\n",
        "def box_limit_rule(model):\n",
        "    return sum(model.y[j] for j in model.B) <= model.M\n",
        "model.box_limit = Constraint(rule=box_limit_rule)\n",
        "\n",
        "# Solve the model\n",
        "solver = SolverFactory('glpk')\n",
        "results = solver.solve(model)\n",
        "\n",
        "# Print the results\n",
        "print(\"Optimal solution found:\")\n",
        "print(\"Objective value:\", value(model.obj))\n",
        "\n",
        "for j in model.B:\n",
        "    if value(model.y[j]) == 1:\n",
        "        print(f\"Box {j} is used.\")\n",
        "        for i in model.I:\n",
        "            if value(model.x[i, j]) == 1:\n",
        "                print(f\"  Item {i} is packed into box {j}.\")"
      ],
      "metadata": {
        "colab": {
          "base_uri": "https://localhost:8080/"
        },
        "id": "8FpHcuWU8rQ2",
        "outputId": "dd322f3a-e835-4845-8de8-6ad67a668fd7"
      },
      "execution_count": 13,
      "outputs": [
        {
          "output_type": "stream",
          "name": "stdout",
          "text": [
            "Optimal solution found:\n",
            "Objective value: 13.0\n",
            "Box box1 is used.\n",
            "  Item item24 is packed into box box1.\n",
            "Box box2 is used.\n",
            "  Item item1 is packed into box box2.\n",
            "  Item item21 is packed into box box2.\n",
            "Box box3 is used.\n",
            "  Item item22 is packed into box box3.\n",
            "Box box4 is used.\n",
            "  Item item7 is packed into box box4.\n",
            "  Item item18 is packed into box box4.\n",
            "Box box5 is used.\n",
            "  Item item20 is packed into box box5.\n",
            "Box box6 is used.\n",
            "  Item item8 is packed into box box6.\n",
            "  Item item14 is packed into box box6.\n",
            "Box box7 is used.\n",
            "  Item item10 is packed into box box7.\n",
            "  Item item13 is packed into box box7.\n",
            "Box box8 is used.\n",
            "  Item item9 is packed into box box8.\n",
            "  Item item16 is packed into box box8.\n",
            "Box box9 is used.\n",
            "  Item item5 is packed into box box9.\n",
            "  Item item19 is packed into box box9.\n",
            "Box box10 is used.\n",
            "  Item item11 is packed into box box10.\n",
            "  Item item17 is packed into box box10.\n",
            "Box box11 is used.\n",
            "  Item item12 is packed into box box11.\n",
            "  Item item15 is packed into box box11.\n",
            "Box box12 is used.\n",
            "  Item item23 is packed into box box12.\n",
            "Box box13 is used.\n",
            "  Item item2 is packed into box box13.\n",
            "  Item item3 is packed into box box13.\n",
            "  Item item4 is packed into box box13.\n",
            "  Item item6 is packed into box box13.\n"
          ]
        }
      ]
    },
    {
      "cell_type": "code",
      "source": [
        "bins = {'box1': [], 'box2': [], 'box3': [], 'box4': [], 'box5': [], 'box6': [], 'box7': [], 'box8': [], 'box9': [], 'box10': [], 'box11': [], 'box12': [], 'box13': []}\n",
        "for (i,j) in model.x:\n",
        "  if value(model.x[i,j])> .5:\n",
        "    bins[j].append(model.w[i])\n",
        "\n",
        "print(\"Bin Division:\", bins)"
      ],
      "metadata": {
        "colab": {
          "base_uri": "https://localhost:8080/"
        },
        "id": "t5VqtjzexpQ5",
        "outputId": "4d508c53-999b-4876-d141-12d72e38cffe"
      },
      "execution_count": 14,
      "outputs": [
        {
          "output_type": "stream",
          "name": "stdout",
          "text": [
            "Bin Division: {'box1': [8], 'box2': [2, 7], 'box3': [7], 'box4': [4, 5], 'box5': [6], 'box6': [4, 5], 'box7': [4, 5], 'box8': [4, 5], 'box9': [3, 6], 'box10': [4, 5], 'box11': [4, 5], 'box12': [8], 'box13': [2, 2, 2, 3]}\n"
          ]
        }
      ]
    },
    {
      "cell_type": "markdown",
      "source": [
        "# 5. Correct The Model Code to Test Mathematical Model (if applicable)"
      ],
      "metadata": {
        "id": "KHTyoLQTWZVy"
      }
    },
    {
      "cell_type": "code",
      "source": [],
      "metadata": {
        "id": "REJzqhR6WYvM",
        "collapsed": true
      },
      "execution_count": null,
      "outputs": []
    },
    {
      "cell_type": "code",
      "source": [],
      "metadata": {
        "id": "bPJ_54384nR_"
      },
      "execution_count": null,
      "outputs": []
    }
  ]
}