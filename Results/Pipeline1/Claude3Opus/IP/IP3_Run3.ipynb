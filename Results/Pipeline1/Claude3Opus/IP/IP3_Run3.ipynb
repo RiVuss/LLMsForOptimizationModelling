{
  "nbformat": 4,
  "nbformat_minor": 0,
  "metadata": {
    "colab": {
      "provenance": []
    },
    "kernelspec": {
      "name": "python3",
      "display_name": "Python 3"
    },
    "language_info": {
      "name": "python"
    }
  },
  "cells": [
    {
      "cell_type": "markdown",
      "source": [
        "# 0. Imports and Setting up Anthropic API Client"
      ],
      "metadata": {
        "id": "y5fw0lkBwBbo"
      }
    },
    {
      "cell_type": "code",
      "source": [
        "from google.colab import drive\n",
        "\n",
        "drive.mount('/content/drive')"
      ],
      "metadata": {
        "colab": {
          "base_uri": "https://localhost:8080/"
        },
        "id": "e7tWOLo0yMoH",
        "outputId": "abcd5b9e-5424-4764-fa1c-36121cde93a0"
      },
      "execution_count": null,
      "outputs": [
        {
          "output_type": "stream",
          "name": "stdout",
          "text": [
            "Mounted at /content/drive\n"
          ]
        }
      ]
    },
    {
      "cell_type": "code",
      "source": [
        "!pip install python-dotenv\n",
        "\n",
        "import os\n",
        "import dotenv\n",
        "\n",
        "dotenv.load_dotenv('/content/drive/MyDrive/.env')"
      ],
      "metadata": {
        "colab": {
          "base_uri": "https://localhost:8080/"
        },
        "id": "utcEK8lZ1Z1R",
        "outputId": "5645e678-14a6-4083-bf47-8aced2d1a1fb"
      },
      "execution_count": null,
      "outputs": [
        {
          "output_type": "stream",
          "name": "stdout",
          "text": [
            "Collecting python-dotenv\n",
            "  Downloading python_dotenv-1.0.1-py3-none-any.whl (19 kB)\n",
            "Installing collected packages: python-dotenv\n",
            "Successfully installed python-dotenv-1.0.1\n"
          ]
        },
        {
          "output_type": "execute_result",
          "data": {
            "text/plain": [
              "True"
            ]
          },
          "metadata": {},
          "execution_count": 2
        }
      ]
    },
    {
      "cell_type": "code",
      "source": [
        "# Load Prompts and Problem Description\n",
        "prompt1_path = '/content/drive/MyDrive/Thesis/Prompts/Prompt1_MathematicalModel.txt'\n",
        "prompt2_path = '/content/drive/MyDrive/Thesis/Prompts/Prompt2_PyomoCode.txt'\n",
        "problem_desc_path = '/content/drive/MyDrive/Thesis/ProblemDescriptions/IP/IP3.txt'\n",
        "\n",
        "prompt1_file = open(prompt1_path, \"r\")\n",
        "prompt2_file = open(prompt2_path, \"r\")\n",
        "problem_desc_file = open(problem_desc_path, \"r\")\n",
        "\n",
        "prompt1 = prompt1_file.read()\n",
        "print(\"Prompt 1:\\n\", prompt1)\n",
        "\n",
        "prompt2 = prompt2_file.read()\n",
        "print(\"Prompt 2:\\n\", prompt2)\n",
        "\n",
        "problem_desc = problem_desc_file.read()\n",
        "print(\"Problem Description:\\n\", problem_desc)"
      ],
      "metadata": {
        "colab": {
          "base_uri": "https://localhost:8080/"
        },
        "id": "9KlkjwMUS4xp",
        "outputId": "1709039a-634c-420e-a554-21f57eb33d85"
      },
      "execution_count": null,
      "outputs": [
        {
          "output_type": "stream",
          "name": "stdout",
          "text": [
            "Prompt 1:\n",
            " Please write a mathematical optimization model for this problem. Include parameters, decision variables, the objective function and the constraints in your answer.\n",
            "Prompt 2:\n",
            " Please write a python pyomo code for this optimization problem.\n",
            "Use sample data where needed.\n",
            "Indicate where you use sample data.\n",
            "Problem Description:\n",
            " You are the person in charge of packing in a large company. Your job is to skillfully pack items of various weights in a box with predetermined capacity. The objective is to use as few boxes as possible. There is a set of items and a set of boxes with an upper bound on the amount of boxes. Each of the items has a known weight. Each item is packed into one box and items are packed into the chosen boxes. Please formulate a mathematical optimization model for this problem.  \n",
            "\n"
          ]
        }
      ]
    },
    {
      "cell_type": "code",
      "source": [
        "!pip install anthropic"
      ],
      "metadata": {
        "colab": {
          "base_uri": "https://localhost:8080/"
        },
        "id": "iWlNsTIvxCcR",
        "outputId": "bc2d8621-b931-492a-887f-3fd4ccefdd53",
        "collapsed": true
      },
      "execution_count": null,
      "outputs": [
        {
          "output_type": "stream",
          "name": "stdout",
          "text": [
            "Collecting anthropic\n",
            "  Downloading anthropic-0.26.0-py3-none-any.whl (877 kB)\n",
            "\u001b[2K     \u001b[90m━━━━━━━━━━━━━━━━━━━━━━━━━━━━━━━━━━━━━━━━\u001b[0m \u001b[32m877.7/877.7 kB\u001b[0m \u001b[31m10.6 MB/s\u001b[0m eta \u001b[36m0:00:00\u001b[0m\n",
            "\u001b[?25hRequirement already satisfied: anyio<5,>=3.5.0 in /usr/local/lib/python3.10/dist-packages (from anthropic) (3.7.1)\n",
            "Requirement already satisfied: distro<2,>=1.7.0 in /usr/lib/python3/dist-packages (from anthropic) (1.7.0)\n",
            "Collecting httpx<1,>=0.23.0 (from anthropic)\n",
            "  Downloading httpx-0.27.0-py3-none-any.whl (75 kB)\n",
            "\u001b[2K     \u001b[90m━━━━━━━━━━━━━━━━━━━━━━━━━━━━━━━━━━━━━━━━\u001b[0m \u001b[32m75.6/75.6 kB\u001b[0m \u001b[31m9.7 MB/s\u001b[0m eta \u001b[36m0:00:00\u001b[0m\n",
            "\u001b[?25hRequirement already satisfied: pydantic<3,>=1.9.0 in /usr/local/lib/python3.10/dist-packages (from anthropic) (2.7.1)\n",
            "Requirement already satisfied: sniffio in /usr/local/lib/python3.10/dist-packages (from anthropic) (1.3.1)\n",
            "Requirement already satisfied: tokenizers>=0.13.0 in /usr/local/lib/python3.10/dist-packages (from anthropic) (0.19.1)\n",
            "Requirement already satisfied: typing-extensions<5,>=4.7 in /usr/local/lib/python3.10/dist-packages (from anthropic) (4.11.0)\n",
            "Requirement already satisfied: idna>=2.8 in /usr/local/lib/python3.10/dist-packages (from anyio<5,>=3.5.0->anthropic) (3.7)\n",
            "Requirement already satisfied: exceptiongroup in /usr/local/lib/python3.10/dist-packages (from anyio<5,>=3.5.0->anthropic) (1.2.1)\n",
            "Requirement already satisfied: certifi in /usr/local/lib/python3.10/dist-packages (from httpx<1,>=0.23.0->anthropic) (2024.2.2)\n",
            "Collecting httpcore==1.* (from httpx<1,>=0.23.0->anthropic)\n",
            "  Downloading httpcore-1.0.5-py3-none-any.whl (77 kB)\n",
            "\u001b[2K     \u001b[90m━━━━━━━━━━━━━━━━━━━━━━━━━━━━━━━━━━━━━━━━\u001b[0m \u001b[32m77.9/77.9 kB\u001b[0m \u001b[31m9.5 MB/s\u001b[0m eta \u001b[36m0:00:00\u001b[0m\n",
            "\u001b[?25hCollecting h11<0.15,>=0.13 (from httpcore==1.*->httpx<1,>=0.23.0->anthropic)\n",
            "  Downloading h11-0.14.0-py3-none-any.whl (58 kB)\n",
            "\u001b[2K     \u001b[90m━━━━━━━━━━━━━━━━━━━━━━━━━━━━━━━━━━━━━━━━\u001b[0m \u001b[32m58.3/58.3 kB\u001b[0m \u001b[31m9.1 MB/s\u001b[0m eta \u001b[36m0:00:00\u001b[0m\n",
            "\u001b[?25hRequirement already satisfied: annotated-types>=0.4.0 in /usr/local/lib/python3.10/dist-packages (from pydantic<3,>=1.9.0->anthropic) (0.6.0)\n",
            "Requirement already satisfied: pydantic-core==2.18.2 in /usr/local/lib/python3.10/dist-packages (from pydantic<3,>=1.9.0->anthropic) (2.18.2)\n",
            "Requirement already satisfied: huggingface-hub<1.0,>=0.16.4 in /usr/local/lib/python3.10/dist-packages (from tokenizers>=0.13.0->anthropic) (0.20.3)\n",
            "Requirement already satisfied: filelock in /usr/local/lib/python3.10/dist-packages (from huggingface-hub<1.0,>=0.16.4->tokenizers>=0.13.0->anthropic) (3.14.0)\n",
            "Requirement already satisfied: fsspec>=2023.5.0 in /usr/local/lib/python3.10/dist-packages (from huggingface-hub<1.0,>=0.16.4->tokenizers>=0.13.0->anthropic) (2023.6.0)\n",
            "Requirement already satisfied: requests in /usr/local/lib/python3.10/dist-packages (from huggingface-hub<1.0,>=0.16.4->tokenizers>=0.13.0->anthropic) (2.31.0)\n",
            "Requirement already satisfied: tqdm>=4.42.1 in /usr/local/lib/python3.10/dist-packages (from huggingface-hub<1.0,>=0.16.4->tokenizers>=0.13.0->anthropic) (4.66.4)\n",
            "Requirement already satisfied: pyyaml>=5.1 in /usr/local/lib/python3.10/dist-packages (from huggingface-hub<1.0,>=0.16.4->tokenizers>=0.13.0->anthropic) (6.0.1)\n",
            "Requirement already satisfied: packaging>=20.9 in /usr/local/lib/python3.10/dist-packages (from huggingface-hub<1.0,>=0.16.4->tokenizers>=0.13.0->anthropic) (24.0)\n",
            "Requirement already satisfied: charset-normalizer<4,>=2 in /usr/local/lib/python3.10/dist-packages (from requests->huggingface-hub<1.0,>=0.16.4->tokenizers>=0.13.0->anthropic) (3.3.2)\n",
            "Requirement already satisfied: urllib3<3,>=1.21.1 in /usr/local/lib/python3.10/dist-packages (from requests->huggingface-hub<1.0,>=0.16.4->tokenizers>=0.13.0->anthropic) (2.0.7)\n",
            "Installing collected packages: h11, httpcore, httpx, anthropic\n",
            "Successfully installed anthropic-0.26.0 h11-0.14.0 httpcore-1.0.5 httpx-0.27.0\n"
          ]
        }
      ]
    },
    {
      "cell_type": "code",
      "execution_count": null,
      "metadata": {
        "id": "7Qjk2D63v1Bl"
      },
      "outputs": [],
      "source": [
        "# Importing Anthropic & Setting Headers\n",
        "import anthropic\n",
        "\n",
        "client = anthropic.Anthropic(\n",
        "    # defaults to os.environ.get(\"ANTHROPIC_API_KEY\")\n",
        "    api_key=os.environ.get(\"ANTHROPIC_API_KEY\"),\n",
        ")"
      ]
    },
    {
      "cell_type": "markdown",
      "source": [
        "# 1. Prompt 1: Create Mathematical Model"
      ],
      "metadata": {
        "id": "kT7yKbJs18XR"
      }
    },
    {
      "cell_type": "code",
      "source": [
        "message = client.messages.create(\n",
        "    model=\"claude-3-opus-20240229\",\n",
        "    system=prompt1,\n",
        "    max_tokens=4096,\n",
        "    messages=[\n",
        "        {\"role\": \"user\", \"content\": problem_desc}\n",
        "    ]\n",
        ")\n",
        "\n",
        "response_p1 = message.content[0].text"
      ],
      "metadata": {
        "id": "R_6X0axq16D4"
      },
      "execution_count": null,
      "outputs": []
    },
    {
      "cell_type": "code",
      "source": [
        "# Print response\n",
        "print(response_p1)"
      ],
      "metadata": {
        "colab": {
          "base_uri": "https://localhost:8080/"
        },
        "id": "Ra9Ox_PI38jg",
        "outputId": "dde91fba-d688-4d83-aabd-282643a87ede"
      },
      "execution_count": null,
      "outputs": [
        {
          "output_type": "stream",
          "name": "stdout",
          "text": [
            "To formulate a mathematical optimization model for the packing problem, we will define the parameters, decision variables, objective function, and constraints. Here's the model:\n",
            "\n",
            "Parameters:\n",
            "- N: The total number of items to be packed\n",
            "- M: The maximum number of boxes available\n",
            "- w_i: The weight of item i, where i = 1, 2, ..., N\n",
            "- C: The capacity of each box (assuming all boxes have the same capacity)\n",
            "\n",
            "Decision Variables:\n",
            "- x_ij: Binary variable; 1 if item i is packed into box j, 0 otherwise, where i = 1, 2, ..., N and j = 1, 2, ..., M\n",
            "- y_j: Binary variable; 1 if box j is used, 0 otherwise, where j = 1, 2, ..., M\n",
            "\n",
            "Objective Function:\n",
            "- Minimize: ∑(j=1 to M) y_j\n",
            "  - The objective is to minimize the total number of boxes used.\n",
            "\n",
            "Constraints:\n",
            "1. Each item must be packed into exactly one box:\n",
            "   - ∑(j=1 to M) x_ij = 1, for all i = 1, 2, ..., N\n",
            "\n",
            "2. The total weight of items packed into each box must not exceed the box capacity:\n",
            "   - ∑(i=1 to N) w_i * x_ij ≤ C * y_j, for all j = 1, 2, ..., M\n",
            "   - This constraint ensures that the sum of weights of items packed into box j does not exceed the capacity C if box j is used (y_j = 1).\n",
            "\n",
            "3. Ensure that x_ij can only be 1 if box j is used:\n",
            "   - x_ij ≤ y_j, for all i = 1, 2, ..., N and j = 1, 2, ..., M\n",
            "   - This constraint ensures that an item can only be packed into a box if that box is being used.\n",
            "\n",
            "4. Binary constraints:\n",
            "   - x_ij ∈ {0, 1}, for all i = 1, 2, ..., N and j = 1, 2, ..., M\n",
            "   - y_j ∈ {0, 1}, for all j = 1, 2, ..., M\n",
            "\n",
            "The objective function minimizes the total number of boxes used. Constraint 1 ensures that each item is packed into exactly one box. Constraint 2 guarantees that the total weight of items packed into each box does not exceed the box capacity. Constraint 3 ensures that items can only be packed into boxes that are being used. Constraint 4 defines the binary nature of the decision variables.\n",
            "\n",
            "This mathematical optimization model represents the packing problem and can be solved using integer programming techniques to determine the optimal packing arrangement that minimizes the number of boxes used.\n"
          ]
        }
      ]
    },
    {
      "cell_type": "markdown",
      "source": [
        "# 2. Prompt 2: Write Code based on Mathematical Model"
      ],
      "metadata": {
        "id": "WPZ6lgBO729j"
      }
    },
    {
      "cell_type": "code",
      "source": [
        "message2 = client.messages.create(\n",
        "    model=\"claude-3-opus-20240229\",\n",
        "    system=prompt2,\n",
        "    max_tokens=4069,\n",
        "    messages=[\n",
        "        {\"role\": \"user\", \"content\": response_p1}\n",
        "    ]\n",
        ")\n",
        "\n",
        "response_p2 = message2.content[0].text"
      ],
      "metadata": {
        "id": "1iUSgBda70FL"
      },
      "execution_count": null,
      "outputs": []
    },
    {
      "cell_type": "code",
      "source": [
        "# Print response\n",
        "print(response_p2)"
      ],
      "metadata": {
        "colab": {
          "base_uri": "https://localhost:8080/"
        },
        "id": "o40mxc_H8eQ9",
        "outputId": "b926fe9e-92c9-4c10-bfbd-93d37f77025c"
      },
      "execution_count": null,
      "outputs": [
        {
          "output_type": "stream",
          "name": "stdout",
          "text": [
            "Here's the Python Pyomo code for the packing problem optimization model:\n",
            "\n",
            "```python\n",
            "from pyomo.environ import *\n",
            "\n",
            "# Define the model\n",
            "model = ConcreteModel()\n",
            "\n",
            "# Define the parameters\n",
            "model.N = Param(initialize=10)  # Total number of items (sample data)\n",
            "model.M = Param(initialize=5)   # Maximum number of boxes (sample data)\n",
            "model.w = Param(RangeSet(1, model.N), initialize={1: 2, 2: 3, 3: 4, 4: 1, 5: 5, 6: 2, 7: 3, 8: 4, 9: 1, 10: 2})  # Weight of each item (sample data)\n",
            "model.C = Param(initialize=10)  # Capacity of each box (sample data)\n",
            "\n",
            "# Define the decision variables\n",
            "model.x = Var(RangeSet(1, model.N), RangeSet(1, model.M), domain=Binary)\n",
            "model.y = Var(RangeSet(1, model.M), domain=Binary)\n",
            "\n",
            "# Define the objective function\n",
            "model.obj = Objective(expr=sum(model.y[j] for j in range(1, model.M+1)), sense=minimize)\n",
            "\n",
            "# Define the constraints\n",
            "def item_packing_rule(model, i):\n",
            "    return sum(model.x[i, j] for j in range(1, model.M+1)) == 1\n",
            "model.item_packing = Constraint(RangeSet(1, model.N), rule=item_packing_rule)\n",
            "\n",
            "def capacity_rule(model, j):\n",
            "    return sum(model.w[i] * model.x[i, j] for i in range(1, model.N+1)) <= model.C * model.y[j]\n",
            "model.capacity = Constraint(RangeSet(1, model.M), rule=capacity_rule)\n",
            "\n",
            "def box_usage_rule(model, i, j):\n",
            "    return model.x[i, j] <= model.y[j]\n",
            "model.box_usage = Constraint(RangeSet(1, model.N), RangeSet(1, model.M), rule=box_usage_rule)\n",
            "\n",
            "# Solve the model\n",
            "solver = SolverFactory('glpk')\n",
            "results = solver.solve(model)\n",
            "\n",
            "# Print the results\n",
            "print(\"Optimization Results:\")\n",
            "print(\"Number of boxes used:\", value(model.obj))\n",
            "print(\"Packing arrangement:\")\n",
            "for i in range(1, model.N+1):\n",
            "    for j in range(1, model.M+1):\n",
            "        if value(model.x[i, j]) == 1:\n",
            "            print(f\"Item {i} is packed into box {j}\")\n",
            "```\n",
            "\n",
            "Explanation:\n",
            "- We define the model using `ConcreteModel()` from Pyomo.\n",
            "- The parameters `N`, `M`, `w`, and `C` are defined using `Param()`. Here, we use sample data:\n",
            "  - `N = 10` represents the total number of items.\n",
            "  - `M = 5` represents the maximum number of boxes.\n",
            "  - `w` is a dictionary that represents the weight of each item.\n",
            "  - `C = 10` represents the capacity of each box.\n",
            "- The decision variables `x` and `y` are defined using `Var()` with binary domains.\n",
            "- The objective function is defined using `Objective()`, which minimizes the sum of `y[j]` (number of boxes used).\n",
            "- The constraints are defined using `Constraint()`:\n",
            "  - `item_packing` ensures that each item is packed into exactly one box.\n",
            "  - `capacity` ensures that the total weight of items packed into each box does not exceed the box capacity.\n",
            "  - `box_usage` ensures that items can only be packed into boxes that are being used.\n",
            "- The model is solved using the `glpk` solver (you may need to install it separately).\n",
            "- Finally, the results are printed, including the number of boxes used and the packing arrangement.\n",
            "\n",
            "Note: The sample data used in this code is for demonstration purposes only. You can modify the parameters and sample data according to your specific problem instance.\n"
          ]
        }
      ]
    },
    {
      "cell_type": "markdown",
      "source": [
        "# 4. Input Problem Data and Test Model Code"
      ],
      "metadata": {
        "id": "Pc0QqJuf8up_"
      }
    },
    {
      "cell_type": "code",
      "source": [
        "# Installing pyomo nd solver\n",
        "!pip install -q pyomo\n",
        "!pip install pandas\n",
        "!apt-get install -y -qq glpk-utils\n",
        "!pip install glpk"
      ],
      "metadata": {
        "colab": {
          "base_uri": "https://localhost:8080/"
        },
        "id": "3BtROuLu9O-p",
        "outputId": "a262e0ea-ea60-4c0a-b90b-4421ee638e2d",
        "collapsed": true
      },
      "execution_count": null,
      "outputs": [
        {
          "output_type": "stream",
          "name": "stdout",
          "text": [
            "\u001b[2K     \u001b[90m━━━━━━━━━━━━━━━━━━━━━━━━━━━━━━━━━━━━━━━━\u001b[0m \u001b[32m12.8/12.8 MB\u001b[0m \u001b[31m47.2 MB/s\u001b[0m eta \u001b[36m0:00:00\u001b[0m\n",
            "\u001b[2K     \u001b[90m━━━━━━━━━━━━━━━━━━━━━━━━━━━━━━━━━━━━━━━━\u001b[0m \u001b[32m49.6/49.6 kB\u001b[0m \u001b[31m6.5 MB/s\u001b[0m eta \u001b[36m0:00:00\u001b[0m\n",
            "\u001b[?25hRequirement already satisfied: pandas in /usr/local/lib/python3.10/dist-packages (2.0.3)\n",
            "Requirement already satisfied: python-dateutil>=2.8.2 in /usr/local/lib/python3.10/dist-packages (from pandas) (2.8.2)\n",
            "Requirement already satisfied: pytz>=2020.1 in /usr/local/lib/python3.10/dist-packages (from pandas) (2023.4)\n",
            "Requirement already satisfied: tzdata>=2022.1 in /usr/local/lib/python3.10/dist-packages (from pandas) (2024.1)\n",
            "Requirement already satisfied: numpy>=1.21.0 in /usr/local/lib/python3.10/dist-packages (from pandas) (1.25.2)\n",
            "Requirement already satisfied: six>=1.5 in /usr/local/lib/python3.10/dist-packages (from python-dateutil>=2.8.2->pandas) (1.16.0)\n",
            "Selecting previously unselected package libsuitesparseconfig5:amd64.\n",
            "(Reading database ... 121918 files and directories currently installed.)\n",
            "Preparing to unpack .../libsuitesparseconfig5_1%3a5.10.1+dfsg-4build1_amd64.deb ...\n",
            "Unpacking libsuitesparseconfig5:amd64 (1:5.10.1+dfsg-4build1) ...\n",
            "Selecting previously unselected package libamd2:amd64.\n",
            "Preparing to unpack .../libamd2_1%3a5.10.1+dfsg-4build1_amd64.deb ...\n",
            "Unpacking libamd2:amd64 (1:5.10.1+dfsg-4build1) ...\n",
            "Selecting previously unselected package libcolamd2:amd64.\n",
            "Preparing to unpack .../libcolamd2_1%3a5.10.1+dfsg-4build1_amd64.deb ...\n",
            "Unpacking libcolamd2:amd64 (1:5.10.1+dfsg-4build1) ...\n",
            "Selecting previously unselected package libglpk40:amd64.\n",
            "Preparing to unpack .../libglpk40_5.0-1_amd64.deb ...\n",
            "Unpacking libglpk40:amd64 (5.0-1) ...\n",
            "Selecting previously unselected package glpk-utils.\n",
            "Preparing to unpack .../glpk-utils_5.0-1_amd64.deb ...\n",
            "Unpacking glpk-utils (5.0-1) ...\n",
            "Setting up libsuitesparseconfig5:amd64 (1:5.10.1+dfsg-4build1) ...\n",
            "Setting up libamd2:amd64 (1:5.10.1+dfsg-4build1) ...\n",
            "Setting up libcolamd2:amd64 (1:5.10.1+dfsg-4build1) ...\n",
            "Setting up libglpk40:amd64 (5.0-1) ...\n",
            "Setting up glpk-utils (5.0-1) ...\n",
            "Processing triggers for man-db (2.10.2-1) ...\n",
            "Processing triggers for libc-bin (2.35-0ubuntu3.4) ...\n",
            "/sbin/ldconfig.real: /usr/local/lib/libtbb.so.12 is not a symbolic link\n",
            "\n",
            "/sbin/ldconfig.real: /usr/local/lib/libtbbbind.so.3 is not a symbolic link\n",
            "\n",
            "/sbin/ldconfig.real: /usr/local/lib/libtbbmalloc_proxy.so.2 is not a symbolic link\n",
            "\n",
            "/sbin/ldconfig.real: /usr/local/lib/libtbbmalloc.so.2 is not a symbolic link\n",
            "\n",
            "/sbin/ldconfig.real: /usr/local/lib/libtbbbind_2_5.so.3 is not a symbolic link\n",
            "\n",
            "/sbin/ldconfig.real: /usr/local/lib/libtbbbind_2_0.so.3 is not a symbolic link\n",
            "\n",
            "Collecting glpk\n",
            "  Downloading glpk-0.4.7.tar.gz (161 kB)\n",
            "\u001b[2K     \u001b[90m━━━━━━━━━━━━━━━━━━━━━━━━━━━━━━━━━━━━━━━━\u001b[0m \u001b[32m161.2/161.2 kB\u001b[0m \u001b[31m2.6 MB/s\u001b[0m eta \u001b[36m0:00:00\u001b[0m\n",
            "\u001b[?25h  Installing build dependencies ... \u001b[?25l\u001b[?25hdone\n",
            "  Getting requirements to build wheel ... \u001b[?25l\u001b[?25hdone\n",
            "  Preparing metadata (pyproject.toml) ... \u001b[?25l\u001b[?25hdone\n",
            "Building wheels for collected packages: glpk\n",
            "  \u001b[1;31merror\u001b[0m: \u001b[1msubprocess-exited-with-error\u001b[0m\n",
            "  \n",
            "  \u001b[31m×\u001b[0m \u001b[32mBuilding wheel for glpk \u001b[0m\u001b[1;32m(\u001b[0m\u001b[32mpyproject.toml\u001b[0m\u001b[1;32m)\u001b[0m did not run successfully.\n",
            "  \u001b[31m│\u001b[0m exit code: \u001b[1;36m1\u001b[0m\n",
            "  \u001b[31m╰─>\u001b[0m See above for output.\n",
            "  \n",
            "  \u001b[1;35mnote\u001b[0m: This error originates from a subprocess, and is likely not a problem with pip.\n",
            "  Building wheel for glpk (pyproject.toml) ... \u001b[?25l\u001b[?25herror\n",
            "\u001b[31m  ERROR: Failed building wheel for glpk\u001b[0m\u001b[31m\n",
            "\u001b[0mFailed to build glpk\n",
            "\u001b[31mERROR: Could not build wheels for glpk, which is required to install pyproject.toml-based projects\u001b[0m\u001b[31m\n",
            "\u001b[0m"
          ]
        }
      ]
    },
    {
      "cell_type": "code",
      "source": [
        "from pyomo.environ import *\n",
        "\n",
        "# Define the model\n",
        "model = ConcreteModel()\n",
        "\n",
        "# Define the parameters\n",
        "weights = [2, 2, 2, 2, 3, 3, 4, 4, 4, 4, 4, 4, 5, 5, 5, 5, 5, 5, 6, 6, 7, 7, 8, 8]\n",
        "model.N = Param(initialize=24)  # Total number of items (sample data)\n",
        "model.M = Param(initialize=13)   # Maximum number of boxes (sample data)\n",
        "model.w = Param(RangeSet(1, model.N), initialize={i + 1: weights[i] for i in range(24)})  # Weight of each item (sample data)\n",
        "model.C = Param(initialize=9)  # Capacity of each box (sample data)\n",
        "\n",
        "# Define the decision variables\n",
        "model.x = Var(RangeSet(1, model.N), RangeSet(1, model.M), domain=Binary)\n",
        "model.y = Var(RangeSet(1, model.M), domain=Binary)\n",
        "\n",
        "# Define the objective function\n",
        "model.obj = Objective(expr=sum(model.y[j] for j in range(1, model.M+1)), sense=minimize)\n",
        "\n",
        "# Define the constraints\n",
        "def item_packing_rule(model, i):\n",
        "    return sum(model.x[i, j] for j in range(1, model.M+1)) == 1\n",
        "model.item_packing = Constraint(RangeSet(1, model.N), rule=item_packing_rule)\n",
        "\n",
        "def capacity_rule(model, j):\n",
        "    return sum(model.w[i] * model.x[i, j] for i in range(1, model.N+1)) <= model.C * model.y[j]\n",
        "model.capacity = Constraint(RangeSet(1, model.M), rule=capacity_rule)\n",
        "\n",
        "def box_usage_rule(model, i, j):\n",
        "    return model.x[i, j] <= model.y[j]\n",
        "model.box_usage = Constraint(RangeSet(1, model.N), RangeSet(1, model.M), rule=box_usage_rule)\n",
        "\n",
        "# Solve the model\n",
        "solver = SolverFactory('glpk')\n",
        "results = solver.solve(model)\n",
        "\n",
        "# Print the results\n",
        "print(\"Optimization Results:\")\n",
        "print(\"Number of boxes used:\", value(model.obj))\n",
        "print(\"Packing arrangement:\")\n",
        "for i in range(1, model.N+1):\n",
        "    for j in range(1, model.M+1):\n",
        "        if value(model.x[i, j]) == 1:\n",
        "            print(f\"Item {i} is packed into box {j}\")"
      ],
      "metadata": {
        "colab": {
          "base_uri": "https://localhost:8080/"
        },
        "id": "8FpHcuWU8rQ2",
        "outputId": "004e3115-0635-4c14-bd74-70ab183c9d57"
      },
      "execution_count": null,
      "outputs": [
        {
          "output_type": "stream",
          "name": "stdout",
          "text": [
            "Optimization Results:\n",
            "Number of boxes used: 13.0\n",
            "Packing arrangement:\n",
            "Item 1 is packed into box 11\n",
            "Item 2 is packed into box 3\n",
            "Item 3 is packed into box 13\n",
            "Item 4 is packed into box 13\n",
            "Item 5 is packed into box 4\n",
            "Item 6 is packed into box 2\n",
            "Item 7 is packed into box 8\n",
            "Item 8 is packed into box 7\n",
            "Item 9 is packed into box 10\n",
            "Item 10 is packed into box 5\n",
            "Item 11 is packed into box 12\n",
            "Item 12 is packed into box 12\n",
            "Item 13 is packed into box 13\n",
            "Item 14 is packed into box 1\n",
            "Item 15 is packed into box 7\n",
            "Item 16 is packed into box 10\n",
            "Item 17 is packed into box 5\n",
            "Item 18 is packed into box 8\n",
            "Item 19 is packed into box 2\n",
            "Item 20 is packed into box 4\n",
            "Item 21 is packed into box 3\n",
            "Item 22 is packed into box 11\n",
            "Item 23 is packed into box 6\n",
            "Item 24 is packed into box 9\n"
          ]
        }
      ]
    },
    {
      "cell_type": "code",
      "source": [
        "bins = {1: [], 2: [], 3: [], 4: [], 5: [], 6: [], 7: [], 8: [], 9: [], 10: [], 11: [], 12: [], 13: []}\n",
        "for (i,j) in model.x:\n",
        "  if value(model.x[i,j])> .5:\n",
        "    bins[j].append(model.w[i])\n",
        "\n",
        "print(\"Bin Division:\", bins)"
      ],
      "metadata": {
        "colab": {
          "base_uri": "https://localhost:8080/"
        },
        "id": "t5VqtjzexpQ5",
        "outputId": "a4482be5-a16d-45e6-af5b-6ced3001d19d"
      },
      "execution_count": null,
      "outputs": [
        {
          "output_type": "stream",
          "name": "stdout",
          "text": [
            "Bin Division: {1: [5], 2: [3, 6], 3: [2, 7], 4: [3, 6], 5: [4, 5], 6: [8], 7: [4, 5], 8: [4, 5], 9: [8], 10: [4, 5], 11: [2, 7], 12: [4, 4], 13: [2, 2, 5]}\n"
          ]
        }
      ]
    },
    {
      "cell_type": "markdown",
      "source": [
        "# 5. Correct The Model Code to Test Mathematical Model (if applicable)"
      ],
      "metadata": {
        "id": "KHTyoLQTWZVy"
      }
    },
    {
      "cell_type": "code",
      "source": [],
      "metadata": {
        "id": "REJzqhR6WYvM",
        "collapsed": true
      },
      "execution_count": null,
      "outputs": []
    },
    {
      "cell_type": "code",
      "source": [],
      "metadata": {
        "id": "bPJ_54384nR_"
      },
      "execution_count": null,
      "outputs": []
    }
  ]
}