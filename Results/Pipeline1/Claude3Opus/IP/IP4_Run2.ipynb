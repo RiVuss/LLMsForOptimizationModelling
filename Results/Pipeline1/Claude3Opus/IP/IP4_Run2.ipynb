{
  "nbformat": 4,
  "nbformat_minor": 0,
  "metadata": {
    "colab": {
      "provenance": []
    },
    "kernelspec": {
      "name": "python3",
      "display_name": "Python 3"
    },
    "language_info": {
      "name": "python"
    }
  },
  "cells": [
    {
      "cell_type": "markdown",
      "source": [
        "# 0. Imports and Setting up Anthropic API Client"
      ],
      "metadata": {
        "id": "y5fw0lkBwBbo"
      }
    },
    {
      "cell_type": "code",
      "source": [
        "from google.colab import drive\n",
        "\n",
        "drive.mount('/content/drive')"
      ],
      "metadata": {
        "colab": {
          "base_uri": "https://localhost:8080/"
        },
        "id": "e7tWOLo0yMoH",
        "outputId": "ed101771-4042-4349-f8d0-6adc023350cb"
      },
      "execution_count": 1,
      "outputs": [
        {
          "output_type": "stream",
          "name": "stdout",
          "text": [
            "Mounted at /content/drive\n"
          ]
        }
      ]
    },
    {
      "cell_type": "code",
      "source": [
        "!pip install python-dotenv\n",
        "\n",
        "import os\n",
        "import dotenv\n",
        "\n",
        "dotenv.load_dotenv('/content/drive/MyDrive/.env')"
      ],
      "metadata": {
        "colab": {
          "base_uri": "https://localhost:8080/"
        },
        "id": "utcEK8lZ1Z1R",
        "outputId": "1e56e2bd-70c9-4394-f467-8fdff94a241d"
      },
      "execution_count": 2,
      "outputs": [
        {
          "output_type": "stream",
          "name": "stdout",
          "text": [
            "Collecting python-dotenv\n",
            "  Downloading python_dotenv-1.0.1-py3-none-any.whl (19 kB)\n",
            "Installing collected packages: python-dotenv\n",
            "Successfully installed python-dotenv-1.0.1\n"
          ]
        },
        {
          "output_type": "execute_result",
          "data": {
            "text/plain": [
              "True"
            ]
          },
          "metadata": {},
          "execution_count": 2
        }
      ]
    },
    {
      "cell_type": "code",
      "source": [
        "# Load Prompts and Problem Description\n",
        "prompt1_path = '/content/drive/MyDrive/Thesis/Prompts/Prompt1_MathematicalModel.txt'\n",
        "prompt2_path = '/content/drive/MyDrive/Thesis/Prompts/Prompt2_PyomoCode.txt'\n",
        "problem_desc_path = '/content/drive/MyDrive/Thesis/ProblemDescriptions/IP/IP4.txt'\n",
        "\n",
        "prompt1_file = open(prompt1_path, \"r\")\n",
        "prompt2_file = open(prompt2_path, \"r\")\n",
        "problem_desc_file = open(problem_desc_path, \"r\")\n",
        "\n",
        "prompt1 = prompt1_file.read()\n",
        "print(\"Prompt 1:\\n\", prompt1)\n",
        "\n",
        "prompt2 = prompt2_file.read()\n",
        "print(\"Prompt 2:\\n\", prompt2)\n",
        "\n",
        "problem_desc = problem_desc_file.read()\n",
        "print(\"Problem Description:\\n\", problem_desc)"
      ],
      "metadata": {
        "colab": {
          "base_uri": "https://localhost:8080/"
        },
        "id": "9KlkjwMUS4xp",
        "outputId": "ae71bfe0-5c71-45ef-e038-84bc79b9391b"
      },
      "execution_count": 3,
      "outputs": [
        {
          "output_type": "stream",
          "name": "stdout",
          "text": [
            "Prompt 1:\n",
            " Please write a mathematical optimization model for this problem. Include parameters, decision variables, the objective function and the constraints in your answer.\n",
            "Prompt 2:\n",
            " Please write a python pyomo code for this optimization problem.\n",
            "Use sample data where needed.\n",
            "Indicate where you use sample data.\n",
            "Problem Description:\n",
            " Imagine you own a small shop, and you're trying to manage your employees' working hours and sales targets efficiently.\n",
            "You have three kinds of goals overall: sales goals, employee hours goals and overtime goals.\n",
            "\n",
            "Sales Goals: \n",
            "You have a target of selling 5500 units. \n",
            "But sometimes, you might sell fewer (negative deviation) or more (positive deviation) than this target. \n",
            "On average, your full-time employees will sell 5 records per hour and your part-time employees will sell 2 records per hour.\n",
            "\n",
            "Employee Hours: \n",
            "You have both full-time and part-time employees. \n",
            "Your full-time employees are expected to work a total of 800 hours, while part-time employees are expected to work 320 hours. \n",
            "Similarly, like sales, there could be deviations in these working hours. \n",
            "\n",
            "Overtime: \n",
            "Additionally, your employees might end up working overtime. \n",
            "You have a target of 100 hours of overtime for full-time employees.\n",
            "You are not concerned about limiting the overtime of part-time employees.\n",
            "Again, you might deviate from this goal.\n",
            "\n",
            "Each of these deviations has a different priority for you. \n",
            "P1 to P4 are priority factors for each deviation.\n",
            "Your most important goal is to achieve your sales goal.\n",
            "Second to that is the goal to not exceed 100 overtime hours for full-time employees.\n",
            "Then, you next priority is to fully utilize your full-time and part time employees.\n",
            "Your last goal with the lowest priority, you want to keep general overtime hours for both kinds of employees as low as possible.\n",
            "In addition to the general priorities of you goals, you are twice as concerned about fully utilizing the full-time employee hours.\n",
            "Finally, overtime hours of part-time employees have a relative cost of three times that of full-time employees.\n",
            "\n",
            "Now, the goal here is to minimize the overall impact of these deviations, considering their priorities. \n",
            "This means finding the best balance between sales targets, employee hours, and overtime, while keeping in mind which deviations are more critical for your business.\n"
          ]
        }
      ]
    },
    {
      "cell_type": "code",
      "source": [
        "!pip install anthropic"
      ],
      "metadata": {
        "colab": {
          "base_uri": "https://localhost:8080/"
        },
        "id": "iWlNsTIvxCcR",
        "outputId": "87b440ce-c5ac-47cd-d9e7-4bd8f301ccbd",
        "collapsed": true
      },
      "execution_count": 4,
      "outputs": [
        {
          "output_type": "stream",
          "name": "stdout",
          "text": [
            "Collecting anthropic\n",
            "  Downloading anthropic-0.26.0-py3-none-any.whl (877 kB)\n",
            "\u001b[2K     \u001b[90m━━━━━━━━━━━━━━━━━━━━━━━━━━━━━━━━━━━━━━━━\u001b[0m \u001b[32m877.7/877.7 kB\u001b[0m \u001b[31m7.7 MB/s\u001b[0m eta \u001b[36m0:00:00\u001b[0m\n",
            "\u001b[?25hRequirement already satisfied: anyio<5,>=3.5.0 in /usr/local/lib/python3.10/dist-packages (from anthropic) (3.7.1)\n",
            "Requirement already satisfied: distro<2,>=1.7.0 in /usr/lib/python3/dist-packages (from anthropic) (1.7.0)\n",
            "Collecting httpx<1,>=0.23.0 (from anthropic)\n",
            "  Downloading httpx-0.27.0-py3-none-any.whl (75 kB)\n",
            "\u001b[2K     \u001b[90m━━━━━━━━━━━━━━━━━━━━━━━━━━━━━━━━━━━━━━━━\u001b[0m \u001b[32m75.6/75.6 kB\u001b[0m \u001b[31m9.7 MB/s\u001b[0m eta \u001b[36m0:00:00\u001b[0m\n",
            "\u001b[?25hRequirement already satisfied: pydantic<3,>=1.9.0 in /usr/local/lib/python3.10/dist-packages (from anthropic) (2.7.1)\n",
            "Requirement already satisfied: sniffio in /usr/local/lib/python3.10/dist-packages (from anthropic) (1.3.1)\n",
            "Requirement already satisfied: tokenizers>=0.13.0 in /usr/local/lib/python3.10/dist-packages (from anthropic) (0.19.1)\n",
            "Requirement already satisfied: typing-extensions<5,>=4.7 in /usr/local/lib/python3.10/dist-packages (from anthropic) (4.11.0)\n",
            "Requirement already satisfied: idna>=2.8 in /usr/local/lib/python3.10/dist-packages (from anyio<5,>=3.5.0->anthropic) (3.7)\n",
            "Requirement already satisfied: exceptiongroup in /usr/local/lib/python3.10/dist-packages (from anyio<5,>=3.5.0->anthropic) (1.2.1)\n",
            "Requirement already satisfied: certifi in /usr/local/lib/python3.10/dist-packages (from httpx<1,>=0.23.0->anthropic) (2024.2.2)\n",
            "Collecting httpcore==1.* (from httpx<1,>=0.23.0->anthropic)\n",
            "  Downloading httpcore-1.0.5-py3-none-any.whl (77 kB)\n",
            "\u001b[2K     \u001b[90m━━━━━━━━━━━━━━━━━━━━━━━━━━━━━━━━━━━━━━━━\u001b[0m \u001b[32m77.9/77.9 kB\u001b[0m \u001b[31m11.5 MB/s\u001b[0m eta \u001b[36m0:00:00\u001b[0m\n",
            "\u001b[?25hCollecting h11<0.15,>=0.13 (from httpcore==1.*->httpx<1,>=0.23.0->anthropic)\n",
            "  Downloading h11-0.14.0-py3-none-any.whl (58 kB)\n",
            "\u001b[2K     \u001b[90m━━━━━━━━━━━━━━━━━━━━━━━━━━━━━━━━━━━━━━━━\u001b[0m \u001b[32m58.3/58.3 kB\u001b[0m \u001b[31m7.9 MB/s\u001b[0m eta \u001b[36m0:00:00\u001b[0m\n",
            "\u001b[?25hRequirement already satisfied: annotated-types>=0.4.0 in /usr/local/lib/python3.10/dist-packages (from pydantic<3,>=1.9.0->anthropic) (0.6.0)\n",
            "Requirement already satisfied: pydantic-core==2.18.2 in /usr/local/lib/python3.10/dist-packages (from pydantic<3,>=1.9.0->anthropic) (2.18.2)\n",
            "Requirement already satisfied: huggingface-hub<1.0,>=0.16.4 in /usr/local/lib/python3.10/dist-packages (from tokenizers>=0.13.0->anthropic) (0.20.3)\n",
            "Requirement already satisfied: filelock in /usr/local/lib/python3.10/dist-packages (from huggingface-hub<1.0,>=0.16.4->tokenizers>=0.13.0->anthropic) (3.14.0)\n",
            "Requirement already satisfied: fsspec>=2023.5.0 in /usr/local/lib/python3.10/dist-packages (from huggingface-hub<1.0,>=0.16.4->tokenizers>=0.13.0->anthropic) (2023.6.0)\n",
            "Requirement already satisfied: requests in /usr/local/lib/python3.10/dist-packages (from huggingface-hub<1.0,>=0.16.4->tokenizers>=0.13.0->anthropic) (2.31.0)\n",
            "Requirement already satisfied: tqdm>=4.42.1 in /usr/local/lib/python3.10/dist-packages (from huggingface-hub<1.0,>=0.16.4->tokenizers>=0.13.0->anthropic) (4.66.4)\n",
            "Requirement already satisfied: pyyaml>=5.1 in /usr/local/lib/python3.10/dist-packages (from huggingface-hub<1.0,>=0.16.4->tokenizers>=0.13.0->anthropic) (6.0.1)\n",
            "Requirement already satisfied: packaging>=20.9 in /usr/local/lib/python3.10/dist-packages (from huggingface-hub<1.0,>=0.16.4->tokenizers>=0.13.0->anthropic) (24.0)\n",
            "Requirement already satisfied: charset-normalizer<4,>=2 in /usr/local/lib/python3.10/dist-packages (from requests->huggingface-hub<1.0,>=0.16.4->tokenizers>=0.13.0->anthropic) (3.3.2)\n",
            "Requirement already satisfied: urllib3<3,>=1.21.1 in /usr/local/lib/python3.10/dist-packages (from requests->huggingface-hub<1.0,>=0.16.4->tokenizers>=0.13.0->anthropic) (2.0.7)\n",
            "Installing collected packages: h11, httpcore, httpx, anthropic\n",
            "Successfully installed anthropic-0.26.0 h11-0.14.0 httpcore-1.0.5 httpx-0.27.0\n"
          ]
        }
      ]
    },
    {
      "cell_type": "code",
      "execution_count": 5,
      "metadata": {
        "id": "7Qjk2D63v1Bl"
      },
      "outputs": [],
      "source": [
        "# Importing Anthropic & Setting Headers\n",
        "import anthropic\n",
        "\n",
        "client = anthropic.Anthropic(\n",
        "    # defaults to os.environ.get(\"ANTHROPIC_API_KEY\")\n",
        "    api_key=os.environ.get(\"ANTHROPIC_API_KEY\"),\n",
        ")"
      ]
    },
    {
      "cell_type": "markdown",
      "source": [
        "# 1. Prompt 1: Create Mathematical Model"
      ],
      "metadata": {
        "id": "kT7yKbJs18XR"
      }
    },
    {
      "cell_type": "code",
      "source": [
        "message = client.messages.create(\n",
        "    model=\"claude-3-opus-20240229\",\n",
        "    system=prompt1,\n",
        "    max_tokens=4096,\n",
        "    messages=[\n",
        "        {\"role\": \"user\", \"content\": problem_desc}\n",
        "    ]\n",
        ")\n",
        "\n",
        "response_p1 = message.content[0].text"
      ],
      "metadata": {
        "id": "R_6X0axq16D4"
      },
      "execution_count": 6,
      "outputs": []
    },
    {
      "cell_type": "code",
      "source": [
        "# Print response\n",
        "print(response_p1)"
      ],
      "metadata": {
        "colab": {
          "base_uri": "https://localhost:8080/"
        },
        "id": "Ra9Ox_PI38jg",
        "outputId": "6b63be83-2ed4-4089-f5da-e30213bd1b2b"
      },
      "execution_count": 7,
      "outputs": [
        {
          "output_type": "stream",
          "name": "stdout",
          "text": [
            "Great! Let's formulate this problem as a mathematical optimization model. We will use the goal programming approach to handle the multiple objectives with different priorities.\n",
            "\n",
            "Parameters:\n",
            "- ST: Sales Target (5500 units)\n",
            "- FTH: Full-Time employee Hours goal (800 hours)\n",
            "- PTH: Part-Time employee Hours goal (320 hours)\n",
            "- FTOT: Full-Time employee Overtime Target (100 hours)\n",
            "- FTS: Full-Time employee Sales per hour (5 units/hour)\n",
            "- PTS: Part-Time employee Sales per hour (2 units/hour)\n",
            "- P1, P2, P3, P4: Priority factors for deviations\n",
            "\n",
            "Decision Variables:\n",
            "- FT: Full-Time employee hours\n",
            "- PT: Part-Time employee hours\n",
            "- FTOV: Full-Time employee Overtime hours\n",
            "- PTOV: Part-Time employee Overtime hours\n",
            "- S⁻, S⁺: Negative and positive deviations from the Sales Target\n",
            "- FTH⁻, FTH⁺: Negative and positive deviations from the Full-Time employee Hours goal\n",
            "- PTH⁻, PTH⁺: Negative and positive deviations from the Part-Time employee Hours goal\n",
            "- FTOT⁻, FTOT⁺: Negative and positive deviations from the Full-Time employee Overtime Target\n",
            "\n",
            "Objective Function:\n",
            "Minimize Z = P1 * (S⁻ + S⁺) + P2 * (FTOT⁻ + FTOT⁺) + P3 * (2 * FTH⁻ + 2 * FTH⁺ + PTH⁻ + PTH⁺) + P4 * (FTOV + 3 * PTOV)\n",
            "\n",
            "Constraints:\n",
            "1. Sales Constraint:\n",
            "   FTS * FT + PTS * PT + S⁻ - S⁺ = ST\n",
            "\n",
            "2. Full-Time Hours Constraint:\n",
            "   FT + FTH⁻ - FTH⁺ = FTH\n",
            "\n",
            "3. Part-Time Hours Constraint:\n",
            "   PT + PTH⁻ - PTH⁺ = PTH\n",
            "\n",
            "4. Full-Time Overtime Constraint:\n",
            "   FTOV + FTOT⁻ - FTOT⁺ = FTOT\n",
            "\n",
            "5. Non-negativity Constraints:\n",
            "   FT, PT, FTOV, PTOV, S⁻, S⁺, FTH⁻, FTH⁺, PTH⁻, PTH⁺, FTOT⁻, FTOT⁺ ≥ 0\n",
            "\n",
            "The objective function minimizes the weighted sum of deviations based on their priorities. The constraints ensure that the sales target, employee hours goals, and overtime target are met while allowing for deviations. The non-negativity constraints ensure that all decision variables are non-negative.\n",
            "\n",
            "By solving this goal programming model, you can find the optimal balance between sales targets, employee hours, and overtime, considering the different priorities and costs associated with each deviation.\n"
          ]
        }
      ]
    },
    {
      "cell_type": "markdown",
      "source": [
        "# 2. Prompt 2: Write Code based on Mathematical Model"
      ],
      "metadata": {
        "id": "WPZ6lgBO729j"
      }
    },
    {
      "cell_type": "code",
      "source": [
        "message2 = client.messages.create(\n",
        "    model=\"claude-3-opus-20240229\",\n",
        "    system=prompt2,\n",
        "    max_tokens=4069,\n",
        "    messages=[\n",
        "        {\"role\": \"user\", \"content\": response_p1}\n",
        "    ]\n",
        ")\n",
        "\n",
        "response_p2 = message2.content[0].text"
      ],
      "metadata": {
        "id": "1iUSgBda70FL"
      },
      "execution_count": 8,
      "outputs": []
    },
    {
      "cell_type": "code",
      "source": [
        "# Print response\n",
        "print(response_p2)"
      ],
      "metadata": {
        "colab": {
          "base_uri": "https://localhost:8080/"
        },
        "id": "o40mxc_H8eQ9",
        "outputId": "9f60e3a5-5a80-4b57-d59c-e02e7c968af4"
      },
      "execution_count": 9,
      "outputs": [
        {
          "output_type": "stream",
          "name": "stdout",
          "text": [
            "Here's the Python code using Pyomo to solve the optimization problem:\n",
            "\n",
            "```python\n",
            "from pyomo.environ import *\n",
            "\n",
            "# Create the model\n",
            "model = ConcreteModel()\n",
            "\n",
            "# Define the parameters (sample data)\n",
            "model.ST = Param(initialize=5500)\n",
            "model.FTH = Param(initialize=800)\n",
            "model.PTH = Param(initialize=320)\n",
            "model.FTOT = Param(initialize=100)\n",
            "model.FTS = Param(initialize=5)\n",
            "model.PTS = Param(initialize=2)\n",
            "model.P1 = Param(initialize=10)  # Sample priority factor\n",
            "model.P2 = Param(initialize=8)   # Sample priority factor\n",
            "model.P3 = Param(initialize=6)   # Sample priority factor\n",
            "model.P4 = Param(initialize=4)   # Sample priority factor\n",
            "\n",
            "# Define the decision variables\n",
            "model.FT = Var(domain=NonNegativeReals)\n",
            "model.PT = Var(domain=NonNegativeReals)\n",
            "model.FTOV = Var(domain=NonNegativeReals)\n",
            "model.PTOV = Var(domain=NonNegativeReals)\n",
            "model.S_neg = Var(domain=NonNegativeReals)\n",
            "model.S_pos = Var(domain=NonNegativeReals)\n",
            "model.FTH_neg = Var(domain=NonNegativeReals)\n",
            "model.FTH_pos = Var(domain=NonNegativeReals)\n",
            "model.PTH_neg = Var(domain=NonNegativeReals)\n",
            "model.PTH_pos = Var(domain=NonNegativeReals)\n",
            "model.FTOT_neg = Var(domain=NonNegativeReals)\n",
            "model.FTOT_pos = Var(domain=NonNegativeReals)\n",
            "\n",
            "# Define the objective function\n",
            "def objective_rule(model):\n",
            "    return (\n",
            "        model.P1 * (model.S_neg + model.S_pos) +\n",
            "        model.P2 * (model.FTOT_neg + model.FTOT_pos) +\n",
            "        model.P3 * (2 * model.FTH_neg + 2 * model.FTH_pos + model.PTH_neg + model.PTH_pos) +\n",
            "        model.P4 * (model.FTOV + 3 * model.PTOV)\n",
            "    )\n",
            "model.objective = Objective(rule=objective_rule, sense=minimize)\n",
            "\n",
            "# Define the constraints\n",
            "def sales_constraint(model):\n",
            "    return model.FTS * model.FT + model.PTS * model.PT + model.S_neg - model.S_pos == model.ST\n",
            "model.sales_constraint = Constraint(rule=sales_constraint)\n",
            "\n",
            "def fulltime_hours_constraint(model):\n",
            "    return model.FT + model.FTH_neg - model.FTH_pos == model.FTH\n",
            "model.fulltime_hours_constraint = Constraint(rule=fulltime_hours_constraint)\n",
            "\n",
            "def parttime_hours_constraint(model):\n",
            "    return model.PT + model.PTH_neg - model.PTH_pos == model.PTH\n",
            "model.parttime_hours_constraint = Constraint(rule=parttime_hours_constraint)\n",
            "\n",
            "def fulltime_overtime_constraint(model):\n",
            "    return model.FTOV + model.FTOT_neg - model.FTOT_pos == model.FTOT\n",
            "model.fulltime_overtime_constraint = Constraint(rule=fulltime_overtime_constraint)\n",
            "\n",
            "# Solve the model\n",
            "solver = SolverFactory('glpk')\n",
            "results = solver.solve(model)\n",
            "\n",
            "# Print the results\n",
            "print(\"Objective Function Value:\", model.objective())\n",
            "print(\"Full-Time Hours:\", model.FT())\n",
            "print(\"Part-Time Hours:\", model.PT())\n",
            "print(\"Full-Time Overtime Hours:\", model.FTOV())\n",
            "print(\"Part-Time Overtime Hours:\", model.PTOV())\n",
            "```\n",
            "\n",
            "In this code, we define the parameters using sample data. The priority factors (P1, P2, P3, P4) are also assigned sample values. You can modify these values based on your specific problem.\n",
            "\n",
            "The decision variables are defined as non-negative real variables using `Var(domain=NonNegativeReals)`.\n",
            "\n",
            "The objective function and constraints are defined as rules using Python functions. The objective function minimizes the weighted sum of deviations based on their priorities. The constraints ensure that the sales target, employee hours goals, and overtime target are met while allowing for deviations.\n",
            "\n",
            "Finally, we solve the model using the GLPK solver (`solver = SolverFactory('glpk')`) and print the optimal values of the decision variables and the objective function value.\n",
            "\n",
            "Note: Make sure you have Pyomo and the GLPK solver installed to run this code.\n"
          ]
        }
      ]
    },
    {
      "cell_type": "markdown",
      "source": [
        "# 4. Input Problem Data and Test Model Code"
      ],
      "metadata": {
        "id": "Pc0QqJuf8up_"
      }
    },
    {
      "cell_type": "code",
      "source": [
        "# Installing pyomo nd solver\n",
        "!pip install -q pyomo\n",
        "!pip install pandas\n",
        "!apt-get install -y -qq glpk-utils\n",
        "!pip install glpk"
      ],
      "metadata": {
        "colab": {
          "base_uri": "https://localhost:8080/"
        },
        "id": "3BtROuLu9O-p",
        "outputId": "c5479ac8-e5c3-425e-e36e-c382d9f62be9",
        "collapsed": true
      },
      "execution_count": 10,
      "outputs": [
        {
          "output_type": "stream",
          "name": "stdout",
          "text": [
            "\u001b[2K     \u001b[90m━━━━━━━━━━━━━━━━━━━━━━━━━━━━━━━━━━━━━━━━\u001b[0m \u001b[32m12.8/12.8 MB\u001b[0m \u001b[31m35.3 MB/s\u001b[0m eta \u001b[36m0:00:00\u001b[0m\n",
            "\u001b[2K     \u001b[90m━━━━━━━━━━━━━━━━━━━━━━━━━━━━━━━━━━━━━━━━\u001b[0m \u001b[32m49.6/49.6 kB\u001b[0m \u001b[31m4.8 MB/s\u001b[0m eta \u001b[36m0:00:00\u001b[0m\n",
            "\u001b[?25hRequirement already satisfied: pandas in /usr/local/lib/python3.10/dist-packages (2.0.3)\n",
            "Requirement already satisfied: python-dateutil>=2.8.2 in /usr/local/lib/python3.10/dist-packages (from pandas) (2.8.2)\n",
            "Requirement already satisfied: pytz>=2020.1 in /usr/local/lib/python3.10/dist-packages (from pandas) (2023.4)\n",
            "Requirement already satisfied: tzdata>=2022.1 in /usr/local/lib/python3.10/dist-packages (from pandas) (2024.1)\n",
            "Requirement already satisfied: numpy>=1.21.0 in /usr/local/lib/python3.10/dist-packages (from pandas) (1.25.2)\n",
            "Requirement already satisfied: six>=1.5 in /usr/local/lib/python3.10/dist-packages (from python-dateutil>=2.8.2->pandas) (1.16.0)\n",
            "Selecting previously unselected package libsuitesparseconfig5:amd64.\n",
            "(Reading database ... 121918 files and directories currently installed.)\n",
            "Preparing to unpack .../libsuitesparseconfig5_1%3a5.10.1+dfsg-4build1_amd64.deb ...\n",
            "Unpacking libsuitesparseconfig5:amd64 (1:5.10.1+dfsg-4build1) ...\n",
            "Selecting previously unselected package libamd2:amd64.\n",
            "Preparing to unpack .../libamd2_1%3a5.10.1+dfsg-4build1_amd64.deb ...\n",
            "Unpacking libamd2:amd64 (1:5.10.1+dfsg-4build1) ...\n",
            "Selecting previously unselected package libcolamd2:amd64.\n",
            "Preparing to unpack .../libcolamd2_1%3a5.10.1+dfsg-4build1_amd64.deb ...\n",
            "Unpacking libcolamd2:amd64 (1:5.10.1+dfsg-4build1) ...\n",
            "Selecting previously unselected package libglpk40:amd64.\n",
            "Preparing to unpack .../libglpk40_5.0-1_amd64.deb ...\n",
            "Unpacking libglpk40:amd64 (5.0-1) ...\n",
            "Selecting previously unselected package glpk-utils.\n",
            "Preparing to unpack .../glpk-utils_5.0-1_amd64.deb ...\n",
            "Unpacking glpk-utils (5.0-1) ...\n",
            "Setting up libsuitesparseconfig5:amd64 (1:5.10.1+dfsg-4build1) ...\n",
            "Setting up libamd2:amd64 (1:5.10.1+dfsg-4build1) ...\n",
            "Setting up libcolamd2:amd64 (1:5.10.1+dfsg-4build1) ...\n",
            "Setting up libglpk40:amd64 (5.0-1) ...\n",
            "Setting up glpk-utils (5.0-1) ...\n",
            "Processing triggers for man-db (2.10.2-1) ...\n",
            "Processing triggers for libc-bin (2.35-0ubuntu3.4) ...\n",
            "/sbin/ldconfig.real: /usr/local/lib/libtbb.so.12 is not a symbolic link\n",
            "\n",
            "/sbin/ldconfig.real: /usr/local/lib/libtbbbind.so.3 is not a symbolic link\n",
            "\n",
            "/sbin/ldconfig.real: /usr/local/lib/libtbbmalloc_proxy.so.2 is not a symbolic link\n",
            "\n",
            "/sbin/ldconfig.real: /usr/local/lib/libtbbmalloc.so.2 is not a symbolic link\n",
            "\n",
            "/sbin/ldconfig.real: /usr/local/lib/libtbbbind_2_5.so.3 is not a symbolic link\n",
            "\n",
            "/sbin/ldconfig.real: /usr/local/lib/libtbbbind_2_0.so.3 is not a symbolic link\n",
            "\n",
            "Collecting glpk\n",
            "  Downloading glpk-0.4.7.tar.gz (161 kB)\n",
            "\u001b[2K     \u001b[90m━━━━━━━━━━━━━━━━━━━━━━━━━━━━━━━━━━━━━━━━\u001b[0m \u001b[32m161.2/161.2 kB\u001b[0m \u001b[31m3.9 MB/s\u001b[0m eta \u001b[36m0:00:00\u001b[0m\n",
            "\u001b[?25h  Installing build dependencies ... \u001b[?25l\u001b[?25hdone\n",
            "  Getting requirements to build wheel ... \u001b[?25l\u001b[?25hdone\n",
            "  Preparing metadata (pyproject.toml) ... \u001b[?25l\u001b[?25hdone\n",
            "Building wheels for collected packages: glpk\n",
            "  \u001b[1;31merror\u001b[0m: \u001b[1msubprocess-exited-with-error\u001b[0m\n",
            "  \n",
            "  \u001b[31m×\u001b[0m \u001b[32mBuilding wheel for glpk \u001b[0m\u001b[1;32m(\u001b[0m\u001b[32mpyproject.toml\u001b[0m\u001b[1;32m)\u001b[0m did not run successfully.\n",
            "  \u001b[31m│\u001b[0m exit code: \u001b[1;36m1\u001b[0m\n",
            "  \u001b[31m╰─>\u001b[0m See above for output.\n",
            "  \n",
            "  \u001b[1;35mnote\u001b[0m: This error originates from a subprocess, and is likely not a problem with pip.\n",
            "  Building wheel for glpk (pyproject.toml) ... \u001b[?25l\u001b[?25herror\n",
            "\u001b[31m  ERROR: Failed building wheel for glpk\u001b[0m\u001b[31m\n",
            "\u001b[0mFailed to build glpk\n",
            "\u001b[31mERROR: Could not build wheels for glpk, which is required to install pyproject.toml-based projects\u001b[0m\u001b[31m\n",
            "\u001b[0m"
          ]
        }
      ]
    },
    {
      "cell_type": "code",
      "source": [
        "from pyomo.environ import *\n",
        "\n",
        "# Create the model\n",
        "model = ConcreteModel()\n",
        "\n",
        "# Define the parameters (sample data)\n",
        "model.ST = Param(initialize=5500)\n",
        "model.FTH = Param(initialize=800)\n",
        "model.PTH = Param(initialize=320)\n",
        "model.FTOT = Param(initialize=100)\n",
        "model.FTS = Param(initialize=5)\n",
        "model.PTS = Param(initialize=2)\n",
        "model.P1 = Param(initialize=4)  # Sample priority factor\n",
        "model.P2 = Param(initialize=3)   # Sample priority factor\n",
        "model.P3 = Param(initialize=2)   # Sample priority factor\n",
        "model.P4 = Param(initialize=1)   # Sample priority factor\n",
        "\n",
        "# Define the decision variables\n",
        "model.FT = Var(domain=NonNegativeReals)\n",
        "model.PT = Var(domain=NonNegativeReals)\n",
        "model.FTOV = Var(domain=NonNegativeReals)\n",
        "model.PTOV = Var(domain=NonNegativeReals)\n",
        "model.S_neg = Var(domain=NonNegativeReals)\n",
        "model.S_pos = Var(domain=NonNegativeReals)\n",
        "model.FTH_neg = Var(domain=NonNegativeReals)\n",
        "model.FTH_pos = Var(domain=NonNegativeReals)\n",
        "model.PTH_neg = Var(domain=NonNegativeReals)\n",
        "model.PTH_pos = Var(domain=NonNegativeReals)\n",
        "model.FTOT_neg = Var(domain=NonNegativeReals)\n",
        "model.FTOT_pos = Var(domain=NonNegativeReals)\n",
        "\n",
        "# Define the objective function\n",
        "def objective_rule(model):\n",
        "    return (\n",
        "        model.P1 * (model.S_neg + model.S_pos) +\n",
        "        model.P2 * (model.FTOT_neg + model.FTOT_pos) +\n",
        "        model.P3 * (2 * model.FTH_neg + 2 * model.FTH_pos + model.PTH_neg + model.PTH_pos) +\n",
        "        model.P4 * (model.FTOV + 3 * model.PTOV)\n",
        "    )\n",
        "model.objective = Objective(rule=objective_rule, sense=minimize)\n",
        "\n",
        "# Define the constraints\n",
        "def sales_constraint(model):\n",
        "    return model.FTS * model.FT + model.PTS * model.PT + model.S_neg - model.S_pos == model.ST\n",
        "model.sales_constraint = Constraint(rule=sales_constraint)\n",
        "\n",
        "def fulltime_hours_constraint(model):\n",
        "    return model.FT + model.FTH_neg - model.FTH_pos == model.FTH\n",
        "model.fulltime_hours_constraint = Constraint(rule=fulltime_hours_constraint)\n",
        "\n",
        "def parttime_hours_constraint(model):\n",
        "    return model.PT + model.PTH_neg - model.PTH_pos == model.PTH\n",
        "model.parttime_hours_constraint = Constraint(rule=parttime_hours_constraint)\n",
        "\n",
        "def fulltime_overtime_constraint(model):\n",
        "    return model.FTOV + model.FTOT_neg - model.FTOT_pos == model.FTOT\n",
        "model.fulltime_overtime_constraint = Constraint(rule=fulltime_overtime_constraint)\n",
        "\n",
        "# Solve the model\n",
        "solver = SolverFactory('glpk')\n",
        "results = solver.solve(model)\n",
        "\n",
        "# Print the results\n",
        "print(\"Objective Function Value:\", model.objective())\n",
        "print(\"Full-Time Hours:\", model.FT())\n",
        "print(\"Part-Time Hours:\", model.PT())\n",
        "print(\"Full-Time Overtime Hours:\", model.FTOV())\n",
        "print(\"Part-Time Overtime Hours:\", model.PTOV())"
      ],
      "metadata": {
        "colab": {
          "base_uri": "https://localhost:8080/"
        },
        "id": "8FpHcuWU8rQ2",
        "outputId": "92c1e79d-1735-4bb4-f3f7-9237c3a8af96"
      },
      "execution_count": 12,
      "outputs": [
        {
          "output_type": "stream",
          "name": "stdout",
          "text": [
            "Objective Function Value: 788.0\n",
            "Full-Time Hours: 972.0\n",
            "Part-Time Hours: 320.0\n",
            "Full-Time Overtime Hours: 100.0\n",
            "Part-Time Overtime Hours: 0.0\n"
          ]
        }
      ]
    },
    {
      "cell_type": "code",
      "source": [
        "print(model.FT())\n",
        "print(model.PT())\n",
        "print(model.FTOV())\n",
        "print(model.PTOV())\n",
        "print(model.S_neg())\n",
        "print(model.S_pos())\n",
        "print(model.FTH_neg())\n",
        "print(model.FTH_pos())\n",
        "print(model.PTH_neg())\n",
        "print(model.PTH_pos())\n",
        "print(model.FTOT_neg())\n",
        "print(model.FTOT_pos())"
      ],
      "metadata": {
        "colab": {
          "base_uri": "https://localhost:8080/"
        },
        "id": "t5VqtjzexpQ5",
        "outputId": "56f65fad-976d-4f0b-8f66-0b8826167905"
      },
      "execution_count": 13,
      "outputs": [
        {
          "output_type": "stream",
          "name": "stdout",
          "text": [
            "972.0\n",
            "320.0\n",
            "100.0\n",
            "0.0\n",
            "0.0\n",
            "0.0\n",
            "0.0\n",
            "172.0\n",
            "0.0\n",
            "0.0\n",
            "0.0\n",
            "0.0\n"
          ]
        }
      ]
    },
    {
      "cell_type": "markdown",
      "source": [
        "# 5. Correct The Model Code to Test Mathematical Model (if applicable)"
      ],
      "metadata": {
        "id": "KHTyoLQTWZVy"
      }
    },
    {
      "cell_type": "code",
      "source": [],
      "metadata": {
        "id": "REJzqhR6WYvM",
        "collapsed": true
      },
      "execution_count": null,
      "outputs": []
    },
    {
      "cell_type": "code",
      "source": [],
      "metadata": {
        "id": "bPJ_54384nR_"
      },
      "execution_count": 13,
      "outputs": []
    }
  ]
}