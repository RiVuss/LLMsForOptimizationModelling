{
  "nbformat": 4,
  "nbformat_minor": 0,
  "metadata": {
    "colab": {
      "provenance": []
    },
    "kernelspec": {
      "name": "python3",
      "display_name": "Python 3"
    },
    "language_info": {
      "name": "python"
    }
  },
  "cells": [
    {
      "cell_type": "markdown",
      "source": [
        "# 0. Imports and Setting up Anthropic API Client"
      ],
      "metadata": {
        "id": "y5fw0lkBwBbo"
      }
    },
    {
      "cell_type": "code",
      "source": [
        "from google.colab import drive\n",
        "\n",
        "drive.mount('/content/drive')"
      ],
      "metadata": {
        "colab": {
          "base_uri": "https://localhost:8080/"
        },
        "id": "e7tWOLo0yMoH",
        "outputId": "44e89e24-bce1-4e7e-d805-41e910a281f6"
      },
      "execution_count": 1,
      "outputs": [
        {
          "output_type": "stream",
          "name": "stdout",
          "text": [
            "Mounted at /content/drive\n"
          ]
        }
      ]
    },
    {
      "cell_type": "code",
      "source": [
        "!pip install python-dotenv\n",
        "\n",
        "import os\n",
        "import dotenv\n",
        "\n",
        "dotenv.load_dotenv('/content/drive/MyDrive/.env')"
      ],
      "metadata": {
        "colab": {
          "base_uri": "https://localhost:8080/"
        },
        "id": "utcEK8lZ1Z1R",
        "outputId": "2b8ca3b9-ccf4-49f2-b966-1293132fcd8a"
      },
      "execution_count": 2,
      "outputs": [
        {
          "output_type": "stream",
          "name": "stdout",
          "text": [
            "Collecting python-dotenv\n",
            "  Downloading python_dotenv-1.0.1-py3-none-any.whl (19 kB)\n",
            "Installing collected packages: python-dotenv\n",
            "Successfully installed python-dotenv-1.0.1\n"
          ]
        },
        {
          "output_type": "execute_result",
          "data": {
            "text/plain": [
              "True"
            ]
          },
          "metadata": {},
          "execution_count": 2
        }
      ]
    },
    {
      "cell_type": "code",
      "source": [
        "# Load Prompts and Problem Description\n",
        "prompt1_path = '/content/drive/MyDrive/Thesis/Prompts/Prompt1_MathematicalModel.txt'\n",
        "prompt2_path = '/content/drive/MyDrive/Thesis/Prompts/Prompt2_PyomoCode.txt'\n",
        "problem_desc_path = '/content/drive/MyDrive/Thesis/ProblemDescriptions/IP/IP4.txt'\n",
        "\n",
        "prompt1_file = open(prompt1_path, \"r\")\n",
        "prompt2_file = open(prompt2_path, \"r\")\n",
        "problem_desc_file = open(problem_desc_path, \"r\")\n",
        "\n",
        "prompt1 = prompt1_file.read()\n",
        "print(\"Prompt 1:\\n\", prompt1)\n",
        "\n",
        "prompt2 = prompt2_file.read()\n",
        "print(\"Prompt 2:\\n\", prompt2)\n",
        "\n",
        "problem_desc = problem_desc_file.read()\n",
        "print(\"Problem Description:\\n\", problem_desc)"
      ],
      "metadata": {
        "colab": {
          "base_uri": "https://localhost:8080/"
        },
        "id": "9KlkjwMUS4xp",
        "outputId": "5a4e9bea-7620-4d29-d7fa-be48119d75d4"
      },
      "execution_count": 3,
      "outputs": [
        {
          "output_type": "stream",
          "name": "stdout",
          "text": [
            "Prompt 1:\n",
            " Please write a mathematical optimization model for this problem. Include parameters, decision variables, the objective function and the constraints in your answer.\n",
            "Prompt 2:\n",
            " Please write a python pyomo code for this optimization problem.\n",
            "Use sample data where needed.\n",
            "Indicate where you use sample data.\n",
            "Problem Description:\n",
            " Imagine you own a small shop, and you're trying to manage your employees' working hours and sales targets efficiently.\n",
            "You have three kinds of goals overall: sales goals, employee hours goals and overtime goals.\n",
            "\n",
            "Sales Goals: \n",
            "You have a target of selling 5500 units. \n",
            "But sometimes, you might sell fewer (negative deviation) or more (positive deviation) than this target. \n",
            "On average, your full-time employees will sell 5 records per hour and your part-time employees will sell 2 records per hour.\n",
            "\n",
            "Employee Hours: \n",
            "You have both full-time and part-time employees. \n",
            "Your full-time employees are expected to work a total of 800 hours, while part-time employees are expected to work 320 hours. \n",
            "Similarly, like sales, there could be deviations in these working hours. \n",
            "\n",
            "Overtime: \n",
            "Additionally, your employees might end up working overtime. \n",
            "You have a target of 100 hours of overtime for full-time employees.\n",
            "You are not concerned about limiting the overtime of part-time employees.\n",
            "Again, you might deviate from this goal.\n",
            "\n",
            "Each of these deviations has a different priority for you. \n",
            "P1 to P4 are priority factors for each deviation.\n",
            "Your most important goal is to achieve your sales goal.\n",
            "Second to that is the goal to not exceed 100 overtime hours for full-time employees.\n",
            "Then, you next priority is to fully utilize your full-time and part time employees.\n",
            "Your last goal with the lowest priority, you want to keep general overtime hours for both kinds of employees as low as possible.\n",
            "In addition to the general priorities of you goals, you are twice as concerned about fully utilizing the full-time employee hours.\n",
            "Finally, overtime hours of part-time employees have a relative cost of three times that of full-time employees.\n",
            "\n",
            "Now, the goal here is to minimize the overall impact of these deviations, considering their priorities. \n",
            "This means finding the best balance between sales targets, employee hours, and overtime, while keeping in mind which deviations are more critical for your business.\n"
          ]
        }
      ]
    },
    {
      "cell_type": "code",
      "source": [
        "!pip install anthropic"
      ],
      "metadata": {
        "colab": {
          "base_uri": "https://localhost:8080/"
        },
        "id": "iWlNsTIvxCcR",
        "outputId": "606c26b4-c06a-4040-dad8-0fc2f1e2363f",
        "collapsed": true
      },
      "execution_count": 4,
      "outputs": [
        {
          "output_type": "stream",
          "name": "stdout",
          "text": [
            "Collecting anthropic\n",
            "  Downloading anthropic-0.26.0-py3-none-any.whl (877 kB)\n",
            "\u001b[2K     \u001b[90m━━━━━━━━━━━━━━━━━━━━━━━━━━━━━━━━━━━━━━━━\u001b[0m \u001b[32m877.7/877.7 kB\u001b[0m \u001b[31m3.5 MB/s\u001b[0m eta \u001b[36m0:00:00\u001b[0m\n",
            "\u001b[?25hRequirement already satisfied: anyio<5,>=3.5.0 in /usr/local/lib/python3.10/dist-packages (from anthropic) (3.7.1)\n",
            "Requirement already satisfied: distro<2,>=1.7.0 in /usr/lib/python3/dist-packages (from anthropic) (1.7.0)\n",
            "Collecting httpx<1,>=0.23.0 (from anthropic)\n",
            "  Downloading httpx-0.27.0-py3-none-any.whl (75 kB)\n",
            "\u001b[2K     \u001b[90m━━━━━━━━━━━━━━━━━━━━━━━━━━━━━━━━━━━━━━━━\u001b[0m \u001b[32m75.6/75.6 kB\u001b[0m \u001b[31m6.7 MB/s\u001b[0m eta \u001b[36m0:00:00\u001b[0m\n",
            "\u001b[?25hRequirement already satisfied: pydantic<3,>=1.9.0 in /usr/local/lib/python3.10/dist-packages (from anthropic) (2.7.1)\n",
            "Requirement already satisfied: sniffio in /usr/local/lib/python3.10/dist-packages (from anthropic) (1.3.1)\n",
            "Requirement already satisfied: tokenizers>=0.13.0 in /usr/local/lib/python3.10/dist-packages (from anthropic) (0.19.1)\n",
            "Requirement already satisfied: typing-extensions<5,>=4.7 in /usr/local/lib/python3.10/dist-packages (from anthropic) (4.11.0)\n",
            "Requirement already satisfied: idna>=2.8 in /usr/local/lib/python3.10/dist-packages (from anyio<5,>=3.5.0->anthropic) (3.7)\n",
            "Requirement already satisfied: exceptiongroup in /usr/local/lib/python3.10/dist-packages (from anyio<5,>=3.5.0->anthropic) (1.2.1)\n",
            "Requirement already satisfied: certifi in /usr/local/lib/python3.10/dist-packages (from httpx<1,>=0.23.0->anthropic) (2024.2.2)\n",
            "Collecting httpcore==1.* (from httpx<1,>=0.23.0->anthropic)\n",
            "  Downloading httpcore-1.0.5-py3-none-any.whl (77 kB)\n",
            "\u001b[2K     \u001b[90m━━━━━━━━━━━━━━━━━━━━━━━━━━━━━━━━━━━━━━━━\u001b[0m \u001b[32m77.9/77.9 kB\u001b[0m \u001b[31m6.3 MB/s\u001b[0m eta \u001b[36m0:00:00\u001b[0m\n",
            "\u001b[?25hCollecting h11<0.15,>=0.13 (from httpcore==1.*->httpx<1,>=0.23.0->anthropic)\n",
            "  Downloading h11-0.14.0-py3-none-any.whl (58 kB)\n",
            "\u001b[2K     \u001b[90m━━━━━━━━━━━━━━━━━━━━━━━━━━━━━━━━━━━━━━━━\u001b[0m \u001b[32m58.3/58.3 kB\u001b[0m \u001b[31m6.6 MB/s\u001b[0m eta \u001b[36m0:00:00\u001b[0m\n",
            "\u001b[?25hRequirement already satisfied: annotated-types>=0.4.0 in /usr/local/lib/python3.10/dist-packages (from pydantic<3,>=1.9.0->anthropic) (0.6.0)\n",
            "Requirement already satisfied: pydantic-core==2.18.2 in /usr/local/lib/python3.10/dist-packages (from pydantic<3,>=1.9.0->anthropic) (2.18.2)\n",
            "Requirement already satisfied: huggingface-hub<1.0,>=0.16.4 in /usr/local/lib/python3.10/dist-packages (from tokenizers>=0.13.0->anthropic) (0.20.3)\n",
            "Requirement already satisfied: filelock in /usr/local/lib/python3.10/dist-packages (from huggingface-hub<1.0,>=0.16.4->tokenizers>=0.13.0->anthropic) (3.14.0)\n",
            "Requirement already satisfied: fsspec>=2023.5.0 in /usr/local/lib/python3.10/dist-packages (from huggingface-hub<1.0,>=0.16.4->tokenizers>=0.13.0->anthropic) (2023.6.0)\n",
            "Requirement already satisfied: requests in /usr/local/lib/python3.10/dist-packages (from huggingface-hub<1.0,>=0.16.4->tokenizers>=0.13.0->anthropic) (2.31.0)\n",
            "Requirement already satisfied: tqdm>=4.42.1 in /usr/local/lib/python3.10/dist-packages (from huggingface-hub<1.0,>=0.16.4->tokenizers>=0.13.0->anthropic) (4.66.4)\n",
            "Requirement already satisfied: pyyaml>=5.1 in /usr/local/lib/python3.10/dist-packages (from huggingface-hub<1.0,>=0.16.4->tokenizers>=0.13.0->anthropic) (6.0.1)\n",
            "Requirement already satisfied: packaging>=20.9 in /usr/local/lib/python3.10/dist-packages (from huggingface-hub<1.0,>=0.16.4->tokenizers>=0.13.0->anthropic) (24.0)\n",
            "Requirement already satisfied: charset-normalizer<4,>=2 in /usr/local/lib/python3.10/dist-packages (from requests->huggingface-hub<1.0,>=0.16.4->tokenizers>=0.13.0->anthropic) (3.3.2)\n",
            "Requirement already satisfied: urllib3<3,>=1.21.1 in /usr/local/lib/python3.10/dist-packages (from requests->huggingface-hub<1.0,>=0.16.4->tokenizers>=0.13.0->anthropic) (2.0.7)\n",
            "Installing collected packages: h11, httpcore, httpx, anthropic\n",
            "Successfully installed anthropic-0.26.0 h11-0.14.0 httpcore-1.0.5 httpx-0.27.0\n"
          ]
        }
      ]
    },
    {
      "cell_type": "code",
      "execution_count": 5,
      "metadata": {
        "id": "7Qjk2D63v1Bl"
      },
      "outputs": [],
      "source": [
        "# Importing Anthropic & Setting Headers\n",
        "import anthropic\n",
        "\n",
        "client = anthropic.Anthropic(\n",
        "    # defaults to os.environ.get(\"ANTHROPIC_API_KEY\")\n",
        "    api_key=os.environ.get(\"ANTHROPIC_API_KEY\"),\n",
        ")"
      ]
    },
    {
      "cell_type": "markdown",
      "source": [
        "# 1. Prompt 1: Create Mathematical Model"
      ],
      "metadata": {
        "id": "kT7yKbJs18XR"
      }
    },
    {
      "cell_type": "code",
      "source": [
        "message = client.messages.create(\n",
        "    model=\"claude-3-opus-20240229\",\n",
        "    system=prompt1,\n",
        "    max_tokens=4096,\n",
        "    messages=[\n",
        "        {\"role\": \"user\", \"content\": problem_desc}\n",
        "    ]\n",
        ")\n",
        "\n",
        "response_p1 = message.content[0].text"
      ],
      "metadata": {
        "id": "R_6X0axq16D4"
      },
      "execution_count": 6,
      "outputs": []
    },
    {
      "cell_type": "code",
      "source": [
        "# Print response\n",
        "print(response_p1)"
      ],
      "metadata": {
        "colab": {
          "base_uri": "https://localhost:8080/"
        },
        "id": "Ra9Ox_PI38jg",
        "outputId": "2af016e8-b8bc-421d-c93b-48de7e846f97"
      },
      "execution_count": 7,
      "outputs": [
        {
          "output_type": "stream",
          "name": "stdout",
          "text": [
            "Let's formulate this problem as a goal programming model. We'll define the parameters, decision variables, objective function, and constraints.\n",
            "\n",
            "Parameters:\n",
            "- ST: Sales Target (5500 units)\n",
            "- FT: Full-time employee hours target (800 hours)\n",
            "- PT: Part-time employee hours target (320 hours)\n",
            "- OT: Overtime target for full-time employees (100 hours)\n",
            "- FS: Full-time employee sales rate (5 units per hour)\n",
            "- PS: Part-time employee sales rate (2 units per hour)\n",
            "- P1 to P4: Priority factors for each deviation\n",
            "\n",
            "Decision Variables:\n",
            "- F: Full-time employee hours\n",
            "- P: Part-time employee hours\n",
            "- OF: Overtime hours for full-time employees\n",
            "- OP: Overtime hours for part-time employees\n",
            "- S+: Positive deviation from sales target\n",
            "- S-: Negative deviation from sales target\n",
            "- F+: Positive deviation from full-time employee hours target\n",
            "- F-: Negative deviation from full-time employee hours target\n",
            "- P+: Positive deviation from part-time employee hours target\n",
            "- P-: Negative deviation from part-time employee hours target\n",
            "- O+: Positive deviation from overtime target for full-time employees\n",
            "- O-: Negative deviation from overtime target for full-time employees\n",
            "\n",
            "Objective Function:\n",
            "Minimize Z = P1 * (S+ + S-) + P2 * O+ + P3 * (2F+ + 2F- + P+ + P-) + P4 * (OF + 3OP)\n",
            "\n",
            "Constraints:\n",
            "1. Sales Constraint: FS * F + PS * P + S- - S+ = ST\n",
            "2. Full-time Employee Hours Constraint: F + F- - F+ = FT\n",
            "3. Part-time Employee Hours Constraint: P + P- - P+ = PT\n",
            "4. Overtime Constraint for Full-time Employees: OF + O- - O+ = OT\n",
            "5. Non-negativity Constraints: All decision variables ≥ 0\n",
            "\n",
            "The objective function minimizes the weighted sum of deviations based on their priorities. The sales constraint ensures that the total sales meet the target. The employee hours constraints ensure that the hours worked by full-time and part-time employees meet their respective targets. The overtime constraint for full-time employees ensures that the overtime hours for full-time employees meet the target. The non-negativity constraints ensure that all decision variables are non-negative.\n",
            "\n",
            "By solving this goal programming model, you can find the optimal balance between sales targets, employee hours, and overtime while considering the priorities of each goal.\n"
          ]
        }
      ]
    },
    {
      "cell_type": "markdown",
      "source": [
        "# 2. Prompt 2: Write Code based on Mathematical Model"
      ],
      "metadata": {
        "id": "WPZ6lgBO729j"
      }
    },
    {
      "cell_type": "code",
      "source": [
        "message2 = client.messages.create(\n",
        "    model=\"claude-3-opus-20240229\",\n",
        "    system=prompt2,\n",
        "    max_tokens=4069,\n",
        "    messages=[\n",
        "        {\"role\": \"user\", \"content\": response_p1}\n",
        "    ]\n",
        ")\n",
        "\n",
        "response_p2 = message2.content[0].text"
      ],
      "metadata": {
        "id": "1iUSgBda70FL"
      },
      "execution_count": 8,
      "outputs": []
    },
    {
      "cell_type": "code",
      "source": [
        "# Print response\n",
        "print(response_p2)"
      ],
      "metadata": {
        "colab": {
          "base_uri": "https://localhost:8080/"
        },
        "id": "o40mxc_H8eQ9",
        "outputId": "eb5113aa-4eb3-4620-9f55-9b62d54ceafc"
      },
      "execution_count": 9,
      "outputs": [
        {
          "output_type": "stream",
          "name": "stdout",
          "text": [
            "Here's the Python code using Pyomo for the optimization problem:\n",
            "\n",
            "```python\n",
            "import pyomo.environ as pyo\n",
            "\n",
            "# Create a Pyomo model\n",
            "model = pyo.ConcreteModel()\n",
            "\n",
            "# Define parameters\n",
            "model.ST = pyo.Param(initialize=5500)  # Sales Target\n",
            "model.FT = pyo.Param(initialize=800)   # Full-time employee hours target\n",
            "model.PT = pyo.Param(initialize=320)   # Part-time employee hours target\n",
            "model.OT = pyo.Param(initialize=100)   # Overtime target for full-time employees\n",
            "model.FS = pyo.Param(initialize=5)     # Full-time employee sales rate\n",
            "model.PS = pyo.Param(initialize=2)     # Part-time employee sales rate\n",
            "model.P1 = pyo.Param(initialize=1)     # Priority factor for sales deviation\n",
            "model.P2 = pyo.Param(initialize=2)     # Priority factor for overtime deviation\n",
            "model.P3 = pyo.Param(initialize=3)     # Priority factor for employee hours deviation\n",
            "model.P4 = pyo.Param(initialize=4)     # Priority factor for overtime cost\n",
            "\n",
            "# Define decision variables\n",
            "model.F = pyo.Var(domain=pyo.NonNegativeReals)   # Full-time employee hours\n",
            "model.P = pyo.Var(domain=pyo.NonNegativeReals)   # Part-time employee hours\n",
            "model.OF = pyo.Var(domain=pyo.NonNegativeReals)  # Overtime hours for full-time employees\n",
            "model.OP = pyo.Var(domain=pyo.NonNegativeReals)  # Overtime hours for part-time employees\n",
            "model.S_plus = pyo.Var(domain=pyo.NonNegativeReals)   # Positive deviation from sales target\n",
            "model.S_minus = pyo.Var(domain=pyo.NonNegativeReals)  # Negative deviation from sales target\n",
            "model.F_plus = pyo.Var(domain=pyo.NonNegativeReals)   # Positive deviation from full-time employee hours target\n",
            "model.F_minus = pyo.Var(domain=pyo.NonNegativeReals)  # Negative deviation from full-time employee hours target\n",
            "model.P_plus = pyo.Var(domain=pyo.NonNegativeReals)   # Positive deviation from part-time employee hours target\n",
            "model.P_minus = pyo.Var(domain=pyo.NonNegativeReals)  # Negative deviation from part-time employee hours target\n",
            "model.O_plus = pyo.Var(domain=pyo.NonNegativeReals)   # Positive deviation from overtime target for full-time employees\n",
            "model.O_minus = pyo.Var(domain=pyo.NonNegativeReals)  # Negative deviation from overtime target for full-time employees\n",
            "\n",
            "# Define objective function\n",
            "model.objective = pyo.Objective(expr=model.P1 * (model.S_plus + model.S_minus) +\n",
            "                                     model.P2 * model.O_plus +\n",
            "                                     model.P3 * (2 * model.F_plus + 2 * model.F_minus + model.P_plus + model.P_minus) +\n",
            "                                     model.P4 * (model.OF + 3 * model.OP),\n",
            "                                sense=pyo.minimize)\n",
            "\n",
            "# Define constraints\n",
            "model.sales_constraint = pyo.Constraint(expr=model.FS * model.F + model.PS * model.P + model.S_minus - model.S_plus == model.ST)\n",
            "model.fulltime_constraint = pyo.Constraint(expr=model.F + model.F_minus - model.F_plus == model.FT)\n",
            "model.parttime_constraint = pyo.Constraint(expr=model.P + model.P_minus - model.P_plus == model.PT)\n",
            "model.overtime_constraint = pyo.Constraint(expr=model.OF + model.O_minus - model.O_plus == model.OT)\n",
            "\n",
            "# Solve the optimization problem\n",
            "solver = pyo.SolverFactory('glpk')\n",
            "results = solver.solve(model)\n",
            "\n",
            "# Print the results\n",
            "print(\"Optimal Solution:\")\n",
            "print(\"Full-time employee hours:\", pyo.value(model.F))\n",
            "print(\"Part-time employee hours:\", pyo.value(model.P))\n",
            "print(\"Overtime hours for full-time employees:\", pyo.value(model.OF))\n",
            "print(\"Overtime hours for part-time employees:\", pyo.value(model.OP))\n",
            "print(\"Positive deviation from sales target:\", pyo.value(model.S_plus))\n",
            "print(\"Negative deviation from sales target:\", pyo.value(model.S_minus))\n",
            "print(\"Objective function value:\", pyo.value(model.objective))\n",
            "```\n",
            "\n",
            "In this code, we define the parameters, decision variables, objective function, and constraints as described in the problem formulation. The values for the parameters are sample data, which you can replace with your own data.\n",
            "\n",
            "The `pyomo.environ` module is imported as `pyo` for convenience. The model is created using `pyo.ConcreteModel()`. The parameters are defined using `pyo.Param()`, and the decision variables are defined using `pyo.Var()` with the appropriate domain.\n",
            "\n",
            "The objective function is defined using `pyo.Objective()`, and the constraints are defined using `pyo.Constraint()`. The `expr` argument specifies the mathematical expression for each constraint.\n",
            "\n",
            "Finally, the optimization problem is solved using the GLPK solver (`glpk`), and the results are printed, including the optimal values of the decision variables and the objective function value.\n",
            "\n",
            "Note: Make sure you have Pyomo and the GLPK solver installed before running this code.\n"
          ]
        }
      ]
    },
    {
      "cell_type": "markdown",
      "source": [
        "# 4. Input Problem Data and Test Model Code"
      ],
      "metadata": {
        "id": "Pc0QqJuf8up_"
      }
    },
    {
      "cell_type": "code",
      "source": [
        "# Installing pyomo nd solver\n",
        "!pip install -q pyomo\n",
        "!pip install pandas\n",
        "!apt-get install -y -qq glpk-utils\n",
        "!pip install glpk"
      ],
      "metadata": {
        "colab": {
          "base_uri": "https://localhost:8080/"
        },
        "id": "3BtROuLu9O-p",
        "outputId": "ceeb6d96-c888-4a07-ee4b-02857949dccb",
        "collapsed": true
      },
      "execution_count": 10,
      "outputs": [
        {
          "output_type": "stream",
          "name": "stdout",
          "text": [
            "\u001b[2K     \u001b[90m━━━━━━━━━━━━━━━━━━━━━━━━━━━━━━━━━━━━━━━━\u001b[0m \u001b[32m12.8/12.8 MB\u001b[0m \u001b[31m39.6 MB/s\u001b[0m eta \u001b[36m0:00:00\u001b[0m\n",
            "\u001b[2K     \u001b[90m━━━━━━━━━━━━━━━━━━━━━━━━━━━━━━━━━━━━━━━━\u001b[0m \u001b[32m49.6/49.6 kB\u001b[0m \u001b[31m4.3 MB/s\u001b[0m eta \u001b[36m0:00:00\u001b[0m\n",
            "\u001b[?25hRequirement already satisfied: pandas in /usr/local/lib/python3.10/dist-packages (2.0.3)\n",
            "Requirement already satisfied: python-dateutil>=2.8.2 in /usr/local/lib/python3.10/dist-packages (from pandas) (2.8.2)\n",
            "Requirement already satisfied: pytz>=2020.1 in /usr/local/lib/python3.10/dist-packages (from pandas) (2023.4)\n",
            "Requirement already satisfied: tzdata>=2022.1 in /usr/local/lib/python3.10/dist-packages (from pandas) (2024.1)\n",
            "Requirement already satisfied: numpy>=1.21.0 in /usr/local/lib/python3.10/dist-packages (from pandas) (1.25.2)\n",
            "Requirement already satisfied: six>=1.5 in /usr/local/lib/python3.10/dist-packages (from python-dateutil>=2.8.2->pandas) (1.16.0)\n",
            "Selecting previously unselected package libsuitesparseconfig5:amd64.\n",
            "(Reading database ... 121918 files and directories currently installed.)\n",
            "Preparing to unpack .../libsuitesparseconfig5_1%3a5.10.1+dfsg-4build1_amd64.deb ...\n",
            "Unpacking libsuitesparseconfig5:amd64 (1:5.10.1+dfsg-4build1) ...\n",
            "Selecting previously unselected package libamd2:amd64.\n",
            "Preparing to unpack .../libamd2_1%3a5.10.1+dfsg-4build1_amd64.deb ...\n",
            "Unpacking libamd2:amd64 (1:5.10.1+dfsg-4build1) ...\n",
            "Selecting previously unselected package libcolamd2:amd64.\n",
            "Preparing to unpack .../libcolamd2_1%3a5.10.1+dfsg-4build1_amd64.deb ...\n",
            "Unpacking libcolamd2:amd64 (1:5.10.1+dfsg-4build1) ...\n",
            "Selecting previously unselected package libglpk40:amd64.\n",
            "Preparing to unpack .../libglpk40_5.0-1_amd64.deb ...\n",
            "Unpacking libglpk40:amd64 (5.0-1) ...\n",
            "Selecting previously unselected package glpk-utils.\n",
            "Preparing to unpack .../glpk-utils_5.0-1_amd64.deb ...\n",
            "Unpacking glpk-utils (5.0-1) ...\n",
            "Setting up libsuitesparseconfig5:amd64 (1:5.10.1+dfsg-4build1) ...\n",
            "Setting up libamd2:amd64 (1:5.10.1+dfsg-4build1) ...\n",
            "Setting up libcolamd2:amd64 (1:5.10.1+dfsg-4build1) ...\n",
            "Setting up libglpk40:amd64 (5.0-1) ...\n",
            "Setting up glpk-utils (5.0-1) ...\n",
            "Processing triggers for man-db (2.10.2-1) ...\n",
            "Processing triggers for libc-bin (2.35-0ubuntu3.4) ...\n",
            "/sbin/ldconfig.real: /usr/local/lib/libtbb.so.12 is not a symbolic link\n",
            "\n",
            "/sbin/ldconfig.real: /usr/local/lib/libtbbbind.so.3 is not a symbolic link\n",
            "\n",
            "/sbin/ldconfig.real: /usr/local/lib/libtbbmalloc_proxy.so.2 is not a symbolic link\n",
            "\n",
            "/sbin/ldconfig.real: /usr/local/lib/libtbbmalloc.so.2 is not a symbolic link\n",
            "\n",
            "/sbin/ldconfig.real: /usr/local/lib/libtbbbind_2_5.so.3 is not a symbolic link\n",
            "\n",
            "/sbin/ldconfig.real: /usr/local/lib/libtbbbind_2_0.so.3 is not a symbolic link\n",
            "\n",
            "Collecting glpk\n",
            "  Downloading glpk-0.4.7.tar.gz (161 kB)\n",
            "\u001b[2K     \u001b[90m━━━━━━━━━━━━━━━━━━━━━━━━━━━━━━━━━━━━━━━━\u001b[0m \u001b[32m161.2/161.2 kB\u001b[0m \u001b[31m1.5 MB/s\u001b[0m eta \u001b[36m0:00:00\u001b[0m\n",
            "\u001b[?25h  Installing build dependencies ... \u001b[?25l\u001b[?25hdone\n",
            "  Getting requirements to build wheel ... \u001b[?25l\u001b[?25hdone\n",
            "  Preparing metadata (pyproject.toml) ... \u001b[?25l\u001b[?25hdone\n",
            "Building wheels for collected packages: glpk\n",
            "  \u001b[1;31merror\u001b[0m: \u001b[1msubprocess-exited-with-error\u001b[0m\n",
            "  \n",
            "  \u001b[31m×\u001b[0m \u001b[32mBuilding wheel for glpk \u001b[0m\u001b[1;32m(\u001b[0m\u001b[32mpyproject.toml\u001b[0m\u001b[1;32m)\u001b[0m did not run successfully.\n",
            "  \u001b[31m│\u001b[0m exit code: \u001b[1;36m1\u001b[0m\n",
            "  \u001b[31m╰─>\u001b[0m See above for output.\n",
            "  \n",
            "  \u001b[1;35mnote\u001b[0m: This error originates from a subprocess, and is likely not a problem with pip.\n",
            "  Building wheel for glpk (pyproject.toml) ... \u001b[?25l\u001b[?25herror\n",
            "\u001b[31m  ERROR: Failed building wheel for glpk\u001b[0m\u001b[31m\n",
            "\u001b[0mFailed to build glpk\n",
            "\u001b[31mERROR: Could not build wheels for glpk, which is required to install pyproject.toml-based projects\u001b[0m\u001b[31m\n",
            "\u001b[0m"
          ]
        }
      ]
    },
    {
      "cell_type": "code",
      "source": [
        "import pyomo.environ as pyo\n",
        "\n",
        "# Create a Pyomo model\n",
        "model = pyo.ConcreteModel()\n",
        "\n",
        "# Define parameters\n",
        "model.ST = pyo.Param(initialize=5500)  # Sales Target\n",
        "model.FT = pyo.Param(initialize=800)   # Full-time employee hours target\n",
        "model.PT = pyo.Param(initialize=320)   # Part-time employee hours target\n",
        "model.OT = pyo.Param(initialize=100)   # Overtime target for full-time employees\n",
        "model.FS = pyo.Param(initialize=5)     # Full-time employee sales rate\n",
        "model.PS = pyo.Param(initialize=2)     # Part-time employee sales rate\n",
        "model.P1 = pyo.Param(initialize=4)     # Priority factor for sales deviation\n",
        "model.P2 = pyo.Param(initialize=3)     # Priority factor for overtime deviation\n",
        "model.P3 = pyo.Param(initialize=2)     # Priority factor for employee hours deviation\n",
        "model.P4 = pyo.Param(initialize=1)     # Priority factor for overtime cost\n",
        "\n",
        "# Define decision variables\n",
        "model.F = pyo.Var(domain=pyo.NonNegativeReals)   # Full-time employee hours\n",
        "model.P = pyo.Var(domain=pyo.NonNegativeReals)   # Part-time employee hours\n",
        "model.OF = pyo.Var(domain=pyo.NonNegativeReals)  # Overtime hours for full-time employees\n",
        "model.OP = pyo.Var(domain=pyo.NonNegativeReals)  # Overtime hours for part-time employees\n",
        "model.S_plus = pyo.Var(domain=pyo.NonNegativeReals)   # Positive deviation from sales target\n",
        "model.S_minus = pyo.Var(domain=pyo.NonNegativeReals)  # Negative deviation from sales target\n",
        "model.F_plus = pyo.Var(domain=pyo.NonNegativeReals)   # Positive deviation from full-time employee hours target\n",
        "model.F_minus = pyo.Var(domain=pyo.NonNegativeReals)  # Negative deviation from full-time employee hours target\n",
        "model.P_plus = pyo.Var(domain=pyo.NonNegativeReals)   # Positive deviation from part-time employee hours target\n",
        "model.P_minus = pyo.Var(domain=pyo.NonNegativeReals)  # Negative deviation from part-time employee hours target\n",
        "model.O_plus = pyo.Var(domain=pyo.NonNegativeReals)   # Positive deviation from overtime target for full-time employees\n",
        "model.O_minus = pyo.Var(domain=pyo.NonNegativeReals)  # Negative deviation from overtime target for full-time employees\n",
        "\n",
        "# Define objective function\n",
        "model.objective = pyo.Objective(expr=model.P1 * (model.S_plus + model.S_minus) +\n",
        "                                     model.P2 * model.O_plus +\n",
        "                                     model.P3 * (2 * model.F_plus + 2 * model.F_minus + model.P_plus + model.P_minus) +\n",
        "                                     model.P4 * (model.OF + 3 * model.OP),\n",
        "                                sense=pyo.minimize)\n",
        "\n",
        "# Define constraints\n",
        "model.sales_constraint = pyo.Constraint(expr=model.FS * model.F + model.PS * model.P + model.S_minus - model.S_plus == model.ST)\n",
        "model.fulltime_constraint = pyo.Constraint(expr=model.F + model.F_minus - model.F_plus == model.FT)\n",
        "model.parttime_constraint = pyo.Constraint(expr=model.P + model.P_minus - model.P_plus == model.PT)\n",
        "model.overtime_constraint = pyo.Constraint(expr=model.OF + model.O_minus - model.O_plus == model.OT)\n",
        "\n",
        "# Solve the optimization problem\n",
        "solver = pyo.SolverFactory('glpk')\n",
        "results = solver.solve(model)\n",
        "\n",
        "# Print the results\n",
        "print(\"Optimal Solution:\")\n",
        "print(\"Full-time employee hours:\", pyo.value(model.F))\n",
        "print(\"Part-time employee hours:\", pyo.value(model.P))\n",
        "print(\"Overtime hours for full-time employees:\", pyo.value(model.OF))\n",
        "print(\"Overtime hours for part-time employees:\", pyo.value(model.OP))\n",
        "print(\"Positive deviation from sales target:\", pyo.value(model.S_plus))\n",
        "print(\"Negative deviation from sales target:\", pyo.value(model.S_minus))\n",
        "print(\"Objective function value:\", pyo.value(model.objective))\n"
      ],
      "metadata": {
        "colab": {
          "base_uri": "https://localhost:8080/"
        },
        "id": "8FpHcuWU8rQ2",
        "outputId": "68d5d55f-c6a8-4c91-f259-a5a5c09caf88"
      },
      "execution_count": 12,
      "outputs": [
        {
          "output_type": "stream",
          "name": "stdout",
          "text": [
            "Optimal Solution:\n",
            "Full-time employee hours: 972.0\n",
            "Part-time employee hours: 320.0\n",
            "Overtime hours for full-time employees: 0.0\n",
            "Overtime hours for part-time employees: 0.0\n",
            "Positive deviation from sales target: 0.0\n",
            "Negative deviation from sales target: 0.0\n",
            "Objective function value: 688.0\n"
          ]
        }
      ]
    },
    {
      "cell_type": "markdown",
      "source": [
        "# 5. Correct The Model Code to Test Mathematical Model (if applicable)"
      ],
      "metadata": {
        "id": "KHTyoLQTWZVy"
      }
    },
    {
      "cell_type": "code",
      "source": [],
      "metadata": {
        "id": "REJzqhR6WYvM",
        "collapsed": true
      },
      "execution_count": null,
      "outputs": []
    },
    {
      "cell_type": "code",
      "source": [],
      "metadata": {
        "id": "bPJ_54384nR_"
      },
      "execution_count": null,
      "outputs": []
    }
  ]
}