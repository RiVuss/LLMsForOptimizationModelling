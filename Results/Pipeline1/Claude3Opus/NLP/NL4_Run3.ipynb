{
  "nbformat": 4,
  "nbformat_minor": 0,
  "metadata": {
    "colab": {
      "provenance": []
    },
    "kernelspec": {
      "name": "python3",
      "display_name": "Python 3"
    },
    "language_info": {
      "name": "python"
    }
  },
  "cells": [
    {
      "cell_type": "markdown",
      "source": [
        "# 0. Imports and Setting up Anthropic API Client"
      ],
      "metadata": {
        "id": "y5fw0lkBwBbo"
      }
    },
    {
      "cell_type": "code",
      "source": [
        "from google.colab import drive\n",
        "\n",
        "drive.mount('/content/drive')"
      ],
      "metadata": {
        "colab": {
          "base_uri": "https://localhost:8080/"
        },
        "id": "e7tWOLo0yMoH",
        "outputId": "61bb5069-d105-440f-e4af-dc09e0abfc85"
      },
      "execution_count": 1,
      "outputs": [
        {
          "output_type": "stream",
          "name": "stdout",
          "text": [
            "Mounted at /content/drive\n"
          ]
        }
      ]
    },
    {
      "cell_type": "code",
      "source": [
        "!pip install python-dotenv\n",
        "\n",
        "import os\n",
        "import dotenv\n",
        "\n",
        "dotenv.load_dotenv('/content/drive/MyDrive/.env')"
      ],
      "metadata": {
        "colab": {
          "base_uri": "https://localhost:8080/"
        },
        "id": "utcEK8lZ1Z1R",
        "outputId": "b921b894-6a4c-48f0-dfb5-074f87a37b56"
      },
      "execution_count": 2,
      "outputs": [
        {
          "output_type": "stream",
          "name": "stdout",
          "text": [
            "Collecting python-dotenv\n",
            "  Downloading python_dotenv-1.0.1-py3-none-any.whl (19 kB)\n",
            "Installing collected packages: python-dotenv\n",
            "Successfully installed python-dotenv-1.0.1\n"
          ]
        },
        {
          "output_type": "execute_result",
          "data": {
            "text/plain": [
              "True"
            ]
          },
          "metadata": {},
          "execution_count": 2
        }
      ]
    },
    {
      "cell_type": "code",
      "source": [
        "# Load Prompts and Problem Description\n",
        "prompt1_path = '/content/drive/MyDrive/Thesis/Prompts/Prompt1_MathematicalModel.txt'\n",
        "prompt2_path = '/content/drive/MyDrive/Thesis/Prompts/Prompt2_PyomoCode.txt'\n",
        "problem_desc_path = '/content/drive/MyDrive/Thesis/ProblemDescriptions/NL/NL4.txt'\n",
        "\n",
        "prompt1_file = open(prompt1_path, \"r\")\n",
        "prompt2_file = open(prompt2_path, \"r\")\n",
        "problem_desc_file = open(problem_desc_path, \"r\")\n",
        "\n",
        "prompt1 = prompt1_file.read()\n",
        "print(\"Prompt 1:\\n\", prompt1)\n",
        "\n",
        "prompt2 = prompt2_file.read()\n",
        "print(\"Prompt 2:\\n\", prompt2)\n",
        "\n",
        "problem_desc = problem_desc_file.read()\n",
        "print(\"Problem Description:\\n\", problem_desc)"
      ],
      "metadata": {
        "colab": {
          "base_uri": "https://localhost:8080/"
        },
        "id": "9KlkjwMUS4xp",
        "outputId": "385027c2-16b6-49e2-98cf-01345edec7fe"
      },
      "execution_count": 3,
      "outputs": [
        {
          "output_type": "stream",
          "name": "stdout",
          "text": [
            "Prompt 1:\n",
            " Please write a mathematical optimization model for this problem. Include parameters, decision variables, the objective function and the constraints in your answer.\n",
            "Prompt 2:\n",
            " Please write a python pyomo code for this optimization problem.\n",
            "Use sample data where needed.\n",
            "Indicate where you use sample data.\n",
            "Problem Description:\n",
            " We are looking at an alkylation process which will include the following 10 variables: olefin feed (barrels per day), isobutane recycle (barrels per day), acid addition rate (thousands of pounds per day), alkylate yield (barrels per day), isobutane makeup (barrels per day), acid strength (weight per cent), motor octane number, external isobutane-to-olefin ratio, acid dilution factor and F-4 performance number. \n",
            "\n",
            "We want to maximize the daily profit of this alkylation process. \n",
            "The profit is defined as the revenue generated from the alkylate yield multiplied with the motor octane number, minus the operational costs, which include olefin feed, isobutane recycle, acid addition rate, and isobutane makeup. \n",
            "\n",
            "Relationships in terms of other variables for alkylate yield, motor octane number, acid dilution factor, and F-4 performance number can be formulated as regression formulas. \n",
            "This regression estimate can deviate in both directions from true value of these variables by 2, 1, 5 and 10 percent, respectively.\n",
            "Alkylate yield is a function of olefin feed and external isobutane-to-olefine yield. Alkalyte yield equals the amount of olefin feed multiplied by the sum of 1.12, 0.13167 times the external isobutane-to-olefin ratio and -0.00667 times the external isobutane-to-olefin ratio squared.\n",
            "The motor octane number is derived from the external isobutane-to-olefin ratio and the acid strength. The motor octane number is calculated as the sum of 86.35, 1.098 time external isobutane-to-olefin ratio, -0.038 times the external isobutane-to-olefin ratio squared and 0.325 times acid strength reduced by 89.\n",
            "The acid dilution factor is calculated based on the F-4 performance number. The acid dillution factor is expressed as 35.82 minus 0.222 times F-4 performance number.\n",
            "Lastly, the F-4 performance number depends on the motor octane number. F-4 performance number is calculated as -133 plus three times the motor octane number.\n",
            "\n",
            "There are some additional constraints imposed by the nature of the chemical process.\n",
            "Each variable has a lower and an upper bound.\n",
            "The external isobutane-to-olefin ratio needs to equal the ratio of isobutane recycle plus isobutane makeup to olefin feed. \n",
            "The acid strength needs to equal the ratio of 93000 times acid addition rate to acid addition rate multiplied by acid dilution factor in addition to 1000 times acid addition rate. \n",
            "Lastly, 1.22 alkylate yield needs to be equal to the combined olefin feed and isobutane makeup.\n"
          ]
        }
      ]
    },
    {
      "cell_type": "code",
      "source": [
        "!pip install anthropic"
      ],
      "metadata": {
        "colab": {
          "base_uri": "https://localhost:8080/"
        },
        "id": "iWlNsTIvxCcR",
        "outputId": "d1faad1e-54f2-4634-e634-33fcc053b602",
        "collapsed": true
      },
      "execution_count": 4,
      "outputs": [
        {
          "output_type": "stream",
          "name": "stdout",
          "text": [
            "Collecting anthropic\n",
            "  Downloading anthropic-0.26.0-py3-none-any.whl (877 kB)\n",
            "\u001b[?25l     \u001b[90m━━━━━━━━━━━━━━━━━━━━━━━━━━━━━━━━━━━━━━━━\u001b[0m \u001b[32m0.0/877.7 kB\u001b[0m \u001b[31m?\u001b[0m eta \u001b[36m-:--:--\u001b[0m\r\u001b[2K     \u001b[91m━━━━━\u001b[0m\u001b[90m╺\u001b[0m\u001b[90m━━━━━━━━━━━━━━━━━━━━━━━━━━━━━━━━━━\u001b[0m \u001b[32m112.6/877.7 kB\u001b[0m \u001b[31m3.4 MB/s\u001b[0m eta \u001b[36m0:00:01\u001b[0m\r\u001b[2K     \u001b[91m━━━━━━━━━━━━━━━━\u001b[0m\u001b[90m╺\u001b[0m\u001b[90m━━━━━━━━━━━━━━━━━━━━━━━\u001b[0m \u001b[32m358.4/877.7 kB\u001b[0m \u001b[31m5.2 MB/s\u001b[0m eta \u001b[36m0:00:01\u001b[0m\r\u001b[2K     \u001b[91m━━━━━━━━━━━━━━━━━━━━━━━━━━━━\u001b[0m\u001b[91m╸\u001b[0m\u001b[90m━━━━━━━━━━━\u001b[0m \u001b[32m634.9/877.7 kB\u001b[0m \u001b[31m6.0 MB/s\u001b[0m eta \u001b[36m0:00:01\u001b[0m\r\u001b[2K     \u001b[91m━━━━━━━━━━━━━━━━━━━━━━━━━━━━━━━━━━━━━━━\u001b[0m\u001b[91m╸\u001b[0m \u001b[32m870.4/877.7 kB\u001b[0m \u001b[31m6.6 MB/s\u001b[0m eta \u001b[36m0:00:01\u001b[0m\r\u001b[2K     \u001b[90m━━━━━━━━━━━━━━━━━━━━━━━━━━━━━━━━━━━━━━━━\u001b[0m \u001b[32m877.7/877.7 kB\u001b[0m \u001b[31m6.0 MB/s\u001b[0m eta \u001b[36m0:00:00\u001b[0m\n",
            "\u001b[?25hRequirement already satisfied: anyio<5,>=3.5.0 in /usr/local/lib/python3.10/dist-packages (from anthropic) (3.7.1)\n",
            "Requirement already satisfied: distro<2,>=1.7.0 in /usr/lib/python3/dist-packages (from anthropic) (1.7.0)\n",
            "Collecting httpx<1,>=0.23.0 (from anthropic)\n",
            "  Downloading httpx-0.27.0-py3-none-any.whl (75 kB)\n",
            "\u001b[2K     \u001b[90m━━━━━━━━━━━━━━━━━━━━━━━━━━━━━━━━━━━━━━━━\u001b[0m \u001b[32m75.6/75.6 kB\u001b[0m \u001b[31m9.9 MB/s\u001b[0m eta \u001b[36m0:00:00\u001b[0m\n",
            "\u001b[?25hRequirement already satisfied: pydantic<3,>=1.9.0 in /usr/local/lib/python3.10/dist-packages (from anthropic) (2.7.1)\n",
            "Requirement already satisfied: sniffio in /usr/local/lib/python3.10/dist-packages (from anthropic) (1.3.1)\n",
            "Requirement already satisfied: tokenizers>=0.13.0 in /usr/local/lib/python3.10/dist-packages (from anthropic) (0.19.1)\n",
            "Requirement already satisfied: typing-extensions<5,>=4.7 in /usr/local/lib/python3.10/dist-packages (from anthropic) (4.11.0)\n",
            "Requirement already satisfied: idna>=2.8 in /usr/local/lib/python3.10/dist-packages (from anyio<5,>=3.5.0->anthropic) (3.7)\n",
            "Requirement already satisfied: exceptiongroup in /usr/local/lib/python3.10/dist-packages (from anyio<5,>=3.5.0->anthropic) (1.2.1)\n",
            "Requirement already satisfied: certifi in /usr/local/lib/python3.10/dist-packages (from httpx<1,>=0.23.0->anthropic) (2024.2.2)\n",
            "Collecting httpcore==1.* (from httpx<1,>=0.23.0->anthropic)\n",
            "  Downloading httpcore-1.0.5-py3-none-any.whl (77 kB)\n",
            "\u001b[2K     \u001b[90m━━━━━━━━━━━━━━━━━━━━━━━━━━━━━━━━━━━━━━━━\u001b[0m \u001b[32m77.9/77.9 kB\u001b[0m \u001b[31m7.6 MB/s\u001b[0m eta \u001b[36m0:00:00\u001b[0m\n",
            "\u001b[?25hCollecting h11<0.15,>=0.13 (from httpcore==1.*->httpx<1,>=0.23.0->anthropic)\n",
            "  Downloading h11-0.14.0-py3-none-any.whl (58 kB)\n",
            "\u001b[2K     \u001b[90m━━━━━━━━━━━━━━━━━━━━━━━━━━━━━━━━━━━━━━━━\u001b[0m \u001b[32m58.3/58.3 kB\u001b[0m \u001b[31m4.5 MB/s\u001b[0m eta \u001b[36m0:00:00\u001b[0m\n",
            "\u001b[?25hRequirement already satisfied: annotated-types>=0.4.0 in /usr/local/lib/python3.10/dist-packages (from pydantic<3,>=1.9.0->anthropic) (0.6.0)\n",
            "Requirement already satisfied: pydantic-core==2.18.2 in /usr/local/lib/python3.10/dist-packages (from pydantic<3,>=1.9.0->anthropic) (2.18.2)\n",
            "Requirement already satisfied: huggingface-hub<1.0,>=0.16.4 in /usr/local/lib/python3.10/dist-packages (from tokenizers>=0.13.0->anthropic) (0.20.3)\n",
            "Requirement already satisfied: filelock in /usr/local/lib/python3.10/dist-packages (from huggingface-hub<1.0,>=0.16.4->tokenizers>=0.13.0->anthropic) (3.14.0)\n",
            "Requirement already satisfied: fsspec>=2023.5.0 in /usr/local/lib/python3.10/dist-packages (from huggingface-hub<1.0,>=0.16.4->tokenizers>=0.13.0->anthropic) (2023.6.0)\n",
            "Requirement already satisfied: requests in /usr/local/lib/python3.10/dist-packages (from huggingface-hub<1.0,>=0.16.4->tokenizers>=0.13.0->anthropic) (2.31.0)\n",
            "Requirement already satisfied: tqdm>=4.42.1 in /usr/local/lib/python3.10/dist-packages (from huggingface-hub<1.0,>=0.16.4->tokenizers>=0.13.0->anthropic) (4.66.4)\n",
            "Requirement already satisfied: pyyaml>=5.1 in /usr/local/lib/python3.10/dist-packages (from huggingface-hub<1.0,>=0.16.4->tokenizers>=0.13.0->anthropic) (6.0.1)\n",
            "Requirement already satisfied: packaging>=20.9 in /usr/local/lib/python3.10/dist-packages (from huggingface-hub<1.0,>=0.16.4->tokenizers>=0.13.0->anthropic) (24.0)\n",
            "Requirement already satisfied: charset-normalizer<4,>=2 in /usr/local/lib/python3.10/dist-packages (from requests->huggingface-hub<1.0,>=0.16.4->tokenizers>=0.13.0->anthropic) (3.3.2)\n",
            "Requirement already satisfied: urllib3<3,>=1.21.1 in /usr/local/lib/python3.10/dist-packages (from requests->huggingface-hub<1.0,>=0.16.4->tokenizers>=0.13.0->anthropic) (2.0.7)\n",
            "Installing collected packages: h11, httpcore, httpx, anthropic\n",
            "Successfully installed anthropic-0.26.0 h11-0.14.0 httpcore-1.0.5 httpx-0.27.0\n"
          ]
        }
      ]
    },
    {
      "cell_type": "code",
      "execution_count": 5,
      "metadata": {
        "id": "7Qjk2D63v1Bl"
      },
      "outputs": [],
      "source": [
        "# Importing Anthropic & Setting Headers\n",
        "import anthropic\n",
        "\n",
        "client = anthropic.Anthropic(\n",
        "    # defaults to os.environ.get(\"ANTHROPIC_API_KEY\")\n",
        "    api_key=os.environ.get(\"ANTHROPIC_API_KEY\"),\n",
        ")"
      ]
    },
    {
      "cell_type": "markdown",
      "source": [
        "# 1. Prompt 1: Create Mathematical Model"
      ],
      "metadata": {
        "id": "kT7yKbJs18XR"
      }
    },
    {
      "cell_type": "code",
      "source": [
        "message = client.messages.create(\n",
        "    model=\"claude-3-opus-20240229\",\n",
        "    system=prompt1,\n",
        "    max_tokens=4096,\n",
        "    messages=[\n",
        "        {\"role\": \"user\", \"content\": problem_desc}\n",
        "    ]\n",
        ")\n",
        "\n",
        "response_p1 = message.content[0].text"
      ],
      "metadata": {
        "id": "R_6X0axq16D4"
      },
      "execution_count": 6,
      "outputs": []
    },
    {
      "cell_type": "code",
      "source": [
        "# Print response\n",
        "print(response_p1)"
      ],
      "metadata": {
        "colab": {
          "base_uri": "https://localhost:8080/"
        },
        "id": "Ra9Ox_PI38jg",
        "outputId": "0829ce87-6b93-45d1-cd04-084081c6f792"
      },
      "execution_count": 7,
      "outputs": [
        {
          "output_type": "stream",
          "name": "stdout",
          "text": [
            "Let's formulate the optimization model for the alkylation process:\n",
            "\n",
            "Parameters:\n",
            "- p_alk: Price of alkylate per barrel\n",
            "- c_ole: Cost of olefin feed per barrel\n",
            "- c_iso: Cost of isobutane recycle per barrel\n",
            "- c_acid: Cost of acid addition per thousand pounds\n",
            "- c_makeup: Cost of isobutane makeup per barrel\n",
            "\n",
            "Decision variables:\n",
            "- OF: Olefin feed (barrels per day)\n",
            "- IR: Isobutane recycle (barrels per day)\n",
            "- AAR: Acid addition rate (thousands of pounds per day)\n",
            "- IM: Isobutane makeup (barrels per day)\n",
            "- AY: Alkylate yield (barrels per day)\n",
            "- AS: Acid strength (weight per cent)\n",
            "- MON: Motor octane number\n",
            "- IOR: External isobutane-to-olefin ratio\n",
            "- ADF: Acid dilution factor\n",
            "- F4: F-4 performance number\n",
            "\n",
            "Objective function:\n",
            "Maximize profit = p_alk * AY * MON - (c_ole * OF + c_iso * IR + c_acid * AAR + c_makeup * IM)\n",
            "\n",
            "Constraints:\n",
            "1. Alkylate yield: 0.98 * (1.12 * OF + 0.13167 * IOR * OF - 0.00667 * IOR^2 * OF) ≤ AY ≤ 1.02 * (1.12 * OF + 0.13167 * IOR * OF - 0.00667 * IOR^2 * OF)\n",
            "2. Motor octane number: 0.99 * (86.35 + 1.098 * IOR - 0.038 * IOR^2 + 0.325 * (AS - 89)) ≤ MON ≤ 1.01 * (86.35 + 1.098 * IOR - 0.038 * IOR^2 + 0.325 * (AS - 89))\n",
            "3. Acid dilution factor: 0.95 * (35.82 - 0.222 * F4) ≤ ADF ≤ 1.05 * (35.82 - 0.222 * F4)\n",
            "4. F-4 performance number: 0.90 * (-133 + 3 * MON) ≤ F4 ≤ 1.10 * (-133 + 3 * MON)\n",
            "5. External isobutane-to-olefin ratio: IOR = (IR + IM) / OF\n",
            "6. Acid strength: AS = (93000 * AAR) / (AAR * ADF + 1000 * AAR)\n",
            "7. Material balance: 1.22 * AY = OF + IM\n",
            "8. Variable bounds:\n",
            "   - OF_min ≤ OF ≤ OF_max\n",
            "   - IR_min ≤ IR ≤ IR_max\n",
            "   - AAR_min ≤ AAR ≤ AAR_max\n",
            "   - IM_min ≤ IM ≤ IM_max\n",
            "   - AY_min ≤ AY ≤ AY_max\n",
            "   - AS_min ≤ AS ≤ AS_max\n",
            "   - MON_min ≤ MON ≤ MON_max\n",
            "   - IOR_min ≤ IOR ≤ IOR_max\n",
            "   - ADF_min ≤ ADF ≤ ADF_max\n",
            "   - F4_min ≤ F4 ≤ F4_max\n",
            "\n",
            "Note: The subscripts _min and _max denote the lower and upper bounds for each variable, respectively.\n"
          ]
        }
      ]
    },
    {
      "cell_type": "markdown",
      "source": [
        "# 2. Prompt 2: Write Code based on Mathematical Model"
      ],
      "metadata": {
        "id": "WPZ6lgBO729j"
      }
    },
    {
      "cell_type": "code",
      "source": [
        "message2 = client.messages.create(\n",
        "    model=\"claude-3-opus-20240229\",\n",
        "    system=prompt2,\n",
        "    max_tokens=4069,\n",
        "    messages=[\n",
        "        {\"role\": \"user\", \"content\": response_p1}\n",
        "    ]\n",
        ")\n",
        "\n",
        "response_p2 = message2.content[0].text"
      ],
      "metadata": {
        "id": "1iUSgBda70FL"
      },
      "execution_count": 8,
      "outputs": []
    },
    {
      "cell_type": "code",
      "source": [
        "# Print response\n",
        "print(response_p2)"
      ],
      "metadata": {
        "colab": {
          "base_uri": "https://localhost:8080/"
        },
        "id": "o40mxc_H8eQ9",
        "outputId": "1c323c49-15d1-4171-9fc6-fefcc24554b4"
      },
      "execution_count": 9,
      "outputs": [
        {
          "output_type": "stream",
          "name": "stdout",
          "text": [
            "Here's the Python Pyomo code for the alkylation process optimization problem:\n",
            "\n",
            "```python\n",
            "import pyomo.environ as pyo\n",
            "\n",
            "# Create a concrete model\n",
            "model = pyo.ConcreteModel()\n",
            "\n",
            "# Define parameters\n",
            "model.p_alk = pyo.Param(initialize=100)  # Price of alkylate per barrel (sample data)\n",
            "model.c_ole = pyo.Param(initialize=50)   # Cost of olefin feed per barrel (sample data)\n",
            "model.c_iso = pyo.Param(initialize=30)   # Cost of isobutane recycle per barrel (sample data)\n",
            "model.c_acid = pyo.Param(initialize=10)  # Cost of acid addition per thousand pounds (sample data)\n",
            "model.c_makeup = pyo.Param(initialize=40)  # Cost of isobutane makeup per barrel (sample data)\n",
            "\n",
            "# Define decision variables\n",
            "model.OF = pyo.Var(bounds=(5000, 10000))  # Olefin feed (barrels per day)\n",
            "model.IR = pyo.Var(bounds=(1000, 5000))   # Isobutane recycle (barrels per day)\n",
            "model.AAR = pyo.Var(bounds=(1, 5))        # Acid addition rate (thousands of pounds per day)\n",
            "model.IM = pyo.Var(bounds=(500, 2000))    # Isobutane makeup (barrels per day)\n",
            "model.AY = pyo.Var()                      # Alkylate yield (barrels per day)\n",
            "model.AS = pyo.Var()                      # Acid strength (weight per cent)\n",
            "model.MON = pyo.Var()                     # Motor octane number\n",
            "model.IOR = pyo.Var()                     # External isobutane-to-olefin ratio\n",
            "model.ADF = pyo.Var()                     # Acid dilution factor\n",
            "model.F4 = pyo.Var()                      # F-4 performance number\n",
            "\n",
            "# Define objective function\n",
            "model.profit = pyo.Objective(expr=model.p_alk * model.AY * model.MON - (model.c_ole * model.OF +\n",
            "                                                                        model.c_iso * model.IR +\n",
            "                                                                        model.c_acid * model.AAR +\n",
            "                                                                        model.c_makeup * model.IM),\n",
            "                             sense=pyo.maximize)\n",
            "\n",
            "# Define constraints\n",
            "model.alkylate_yield_lower = pyo.Constraint(expr=0.98 * (1.12 * model.OF + 0.13167 * model.IOR * model.OF - 0.00667 * model.IOR**2 * model.OF) <= model.AY)\n",
            "model.alkylate_yield_upper = pyo.Constraint(expr=model.AY <= 1.02 * (1.12 * model.OF + 0.13167 * model.IOR * model.OF - 0.00667 * model.IOR**2 * model.OF))\n",
            "model.octane_number_lower = pyo.Constraint(expr=0.99 * (86.35 + 1.098 * model.IOR - 0.038 * model.IOR**2 + 0.325 * (model.AS - 89)) <= model.MON)\n",
            "model.octane_number_upper = pyo.Constraint(expr=model.MON <= 1.01 * (86.35 + 1.098 * model.IOR - 0.038 * model.IOR**2 + 0.325 * (model.AS - 89)))\n",
            "model.acid_dilution_lower = pyo.Constraint(expr=0.95 * (35.82 - 0.222 * model.F4) <= model.ADF)\n",
            "model.acid_dilution_upper = pyo.Constraint(expr=model.ADF <= 1.05 * (35.82 - 0.222 * model.F4))\n",
            "model.f4_performance_lower = pyo.Constraint(expr=0.90 * (-133 + 3 * model.MON) <= model.F4)\n",
            "model.f4_performance_upper = pyo.Constraint(expr=model.F4 <= 1.10 * (-133 + 3 * model.MON))\n",
            "model.external_ratio = pyo.Constraint(expr=model.IOR == (model.IR + model.IM) / model.OF)\n",
            "model.acid_strength = pyo.Constraint(expr=model.AS == (93000 * model.AAR) / (model.AAR * model.ADF + 1000 * model.AAR))\n",
            "model.material_balance = pyo.Constraint(expr=1.22 * model.AY == model.OF + model.IM)\n",
            "\n",
            "# Solve the optimization problem\n",
            "solver = pyo.SolverFactory('ipopt')\n",
            "results = solver.solve(model)\n",
            "\n",
            "# Print the results\n",
            "print(\"Optimization Results:\")\n",
            "print(\"Objective Function (Profit): \", pyo.value(model.profit))\n",
            "print(\"Olefin Feed (OF): \", pyo.value(model.OF))\n",
            "print(\"Isobutane Recycle (IR): \", pyo.value(model.IR))\n",
            "print(\"Acid Addition Rate (AAR): \", pyo.value(model.AAR))\n",
            "print(\"Isobutane Makeup (IM): \", pyo.value(model.IM))\n",
            "print(\"Alkylate Yield (AY): \", pyo.value(model.AY))\n",
            "print(\"Acid Strength (AS): \", pyo.value(model.AS))\n",
            "print(\"Motor Octane Number (MON): \", pyo.value(model.MON))\n",
            "print(\"External Isobutane-to-Olefin Ratio (IOR): \", pyo.value(model.IOR))\n",
            "print(\"Acid Dilution Factor (ADF): \", pyo.value(model.ADF))\n",
            "print(\"F-4 Performance Number (F4): \", pyo.value(model.F4))\n",
            "```\n",
            "\n",
            "Note: I have used sample data for the price and cost parameters in the code. These values need to be replaced with the actual data for the specific alkylation process being optimized.\n",
            "\n",
            "The code defines the optimization model using Pyomo, including the decision variables, objective function, and constraints. It then solves the problem using the IPOPT solver and prints the optimal values of the decision variables and the objective function value (profit).\n"
          ]
        }
      ]
    },
    {
      "cell_type": "markdown",
      "source": [
        "# 4. Input Problem Data and Test Model Code"
      ],
      "metadata": {
        "id": "Pc0QqJuf8up_"
      }
    },
    {
      "cell_type": "code",
      "source": [
        "# Installing pyomo nd solver\n",
        "!pip install -q pyomo\n",
        "!wget -N -q \"https://matematica.unipv.it/gualandi/solvers/ipopt-linux64.zip\"\n",
        "!unzip -o -q ipopt-linux64"
      ],
      "metadata": {
        "colab": {
          "base_uri": "https://localhost:8080/"
        },
        "id": "3BtROuLu9O-p",
        "outputId": "cd9b5834-8bf3-40fa-ae17-feb3f100bd19",
        "collapsed": true
      },
      "execution_count": 10,
      "outputs": [
        {
          "output_type": "stream",
          "name": "stdout",
          "text": [
            "\u001b[2K     \u001b[90m━━━━━━━━━━━━━━━━━━━━━━━━━━━━━━━━━━━━━━━━\u001b[0m \u001b[32m12.8/12.8 MB\u001b[0m \u001b[31m23.8 MB/s\u001b[0m eta \u001b[36m0:00:00\u001b[0m\n",
            "\u001b[2K     \u001b[90m━━━━━━━━━━━━━━━━━━━━━━━━━━━━━━━━━━━━━━━━\u001b[0m \u001b[32m49.6/49.6 kB\u001b[0m \u001b[31m3.0 MB/s\u001b[0m eta \u001b[36m0:00:00\u001b[0m\n",
            "\u001b[?25h"
          ]
        }
      ]
    },
    {
      "cell_type": "code",
      "source": [
        "import pyomo.environ as pyo\n",
        "\n",
        "# Create a concrete model\n",
        "model = pyo.ConcreteModel()\n",
        "\n",
        "# Define parameters\n",
        "model.p_alk = pyo.Param(initialize=0.63)  # Price of alkylate per barrel (sample data)\n",
        "model.c_ole = pyo.Param(initialize=5.04)   # Cost of olefin feed per barrel (sample data)\n",
        "model.c_iso = pyo.Param(initialize=0.035)   # Cost of isobutane recycle per barrel (sample data)\n",
        "model.c_acid = pyo.Param(initialize=10)  # Cost of acid addition per thousand pounds (sample data)\n",
        "model.c_makeup = pyo.Param(initialize=3.36)  # Cost of isobutane makeup per barrel (sample data)\n",
        "\n",
        "# Define decision variables\n",
        "model.OF = pyo.Var(bounds=(0, 2000))  # Olefin feed (barrels per day)\n",
        "model.IR = pyo.Var(bounds=(0, 16000))   # Isobutane recycle (barrels per day)\n",
        "model.AAR = pyo.Var(bounds=(0, 120))        # Acid addition rate (thousands of pounds per day)\n",
        "model.IM = pyo.Var(bounds=(0, 2000))    # Isobutane makeup (barrels per day)\n",
        "model.AY = pyo.Var()                      # Alkylate yield (barrels per day)\n",
        "model.AS = pyo.Var()                      # Acid strength (weight per cent)\n",
        "model.MON = pyo.Var()                     # Motor octane number\n",
        "model.IOR = pyo.Var()                     # External isobutane-to-olefin ratio\n",
        "model.ADF = pyo.Var()                     # Acid dilution factor\n",
        "model.F4 = pyo.Var()                      # F-4 performance number\n",
        "\n",
        "# Define objective function\n",
        "model.profit = pyo.Objective(expr=model.p_alk * model.AY * model.MON - (model.c_ole * model.OF +\n",
        "                                                                        model.c_iso * model.IR +\n",
        "                                                                        model.c_acid * model.AAR +\n",
        "                                                                        model.c_makeup * model.IM),\n",
        "                             sense=pyo.maximize)\n",
        "\n",
        "# Define constraints\n",
        "model.alkylate_yield_lower = pyo.Constraint(expr=0.98 * (1.12 * model.OF + 0.13167 * model.IOR * model.OF - 0.00667 * model.IOR**2 * model.OF) <= model.AY)\n",
        "model.alkylate_yield_upper = pyo.Constraint(expr=model.AY <= 1.02 * (1.12 * model.OF + 0.13167 * model.IOR * model.OF - 0.00667 * model.IOR**2 * model.OF))\n",
        "model.octane_number_lower = pyo.Constraint(expr=0.99 * (86.35 + 1.098 * model.IOR - 0.038 * model.IOR**2 + 0.325 * (model.AS - 89)) <= model.MON)\n",
        "model.octane_number_upper = pyo.Constraint(expr=model.MON <= 1.01 * (86.35 + 1.098 * model.IOR - 0.038 * model.IOR**2 + 0.325 * (model.AS - 89)))\n",
        "model.acid_dilution_lower = pyo.Constraint(expr=0.95 * (35.82 - 0.222 * model.F4) <= model.ADF)\n",
        "model.acid_dilution_upper = pyo.Constraint(expr=model.ADF <= 1.05 * (35.82 - 0.222 * model.F4))\n",
        "model.f4_performance_lower = pyo.Constraint(expr=0.90 * (-133 + 3 * model.MON) <= model.F4)\n",
        "model.f4_performance_upper = pyo.Constraint(expr=model.F4 <= 1.10 * (-133 + 3 * model.MON))\n",
        "model.external_ratio = pyo.Constraint(expr=model.IOR == (model.IR + model.IM) / model.OF)\n",
        "model.acid_strength = pyo.Constraint(expr=model.AS == (93000 * model.AAR) / (model.AAR * model.ADF + 1000 * model.AAR))\n",
        "model.material_balance = pyo.Constraint(expr=1.22 * model.AY == model.OF + model.IM)\n",
        "\n",
        "# Solve the optimization problem\n",
        "solver = pyo.SolverFactory('ipopt')\n",
        "results = solver.solve(model)\n",
        "\n",
        "# Print the results\n",
        "print(\"Optimization Results:\")\n",
        "print(\"Objective Function (Profit): \", pyo.value(model.profit))\n",
        "print(\"Olefin Feed (OF): \", pyo.value(model.OF))\n",
        "print(\"Isobutane Recycle (IR): \", pyo.value(model.IR))\n",
        "print(\"Acid Addition Rate (AAR): \", pyo.value(model.AAR))\n",
        "print(\"Isobutane Makeup (IM): \", pyo.value(model.IM))\n",
        "print(\"Alkylate Yield (AY): \", pyo.value(model.AY))\n",
        "print(\"Acid Strength (AS): \", pyo.value(model.AS))\n",
        "print(\"Motor Octane Number (MON): \", pyo.value(model.MON))\n",
        "print(\"External Isobutane-to-Olefin Ratio (IOR): \", pyo.value(model.IOR))\n",
        "print(\"Acid Dilution Factor (ADF): \", pyo.value(model.ADF))\n",
        "print(\"F-4 Performance Number (F4): \", pyo.value(model.F4))"
      ],
      "metadata": {
        "colab": {
          "base_uri": "https://localhost:8080/"
        },
        "id": "8FpHcuWU8rQ2",
        "outputId": "dcc0cb1b-ac89-4eac-a260-008a66aaa1d7"
      },
      "execution_count": 11,
      "outputs": [
        {
          "output_type": "stream",
          "name": "stdout",
          "text": [
            "Optimization Results:\n",
            "Objective Function (Profit):  176669.7143562548\n",
            "Olefin Feed (OF):  2000.0\n",
            "Isobutane Recycle (IR):  10113.175625405212\n",
            "Acid Addition Rate (AAR):  0.0\n",
            "Isobutane Makeup (IM):  2000.0\n",
            "Alkylate Yield (AY):  3278.6885573769496\n",
            "Acid Strength (AS):  93.000000664579\n",
            "Motor Octane Number (MON):  93.83527053539444\n",
            "External Isobutane-to-Olefin Ratio (IOR):  6.056587762136937\n",
            "Acid Dilution Factor (ADF):  -7.146010636217708e-06\n",
            "F-4 Performance Number (F4):  161.3513836212632\n"
          ]
        }
      ]
    },
    {
      "cell_type": "markdown",
      "source": [
        "# 5. Correct The Model Code to Test Mathematical Model (if applicable)"
      ],
      "metadata": {
        "id": "KHTyoLQTWZVy"
      }
    },
    {
      "cell_type": "code",
      "source": [
        "import pyomo.environ as pyo\n",
        "\n",
        "# Create a concrete model\n",
        "model = pyo.ConcreteModel()\n",
        "\n",
        "# Define parameters\n",
        "model.p_alk = pyo.Param(initialize=0.63)  # Price of alkylate per barrel (sample data)\n",
        "model.c_ole = pyo.Param(initialize=5.04)   # Cost of olefin feed per barrel (sample data)\n",
        "model.c_iso = pyo.Param(initialize=0.035)   # Cost of isobutane recycle per barrel (sample data)\n",
        "model.c_acid = pyo.Param(initialize=10)  # Cost of acid addition per thousand pounds (sample data)\n",
        "model.c_makeup = pyo.Param(initialize=3.36)  # Cost of isobutane makeup per barrel (sample data)\n",
        "\n",
        "# Define decision variables\n",
        "model.OF = pyo.Var(bounds=(0, 2000))  # Olefin feed (barrels per day)\n",
        "model.IR = pyo.Var(bounds=(0, 16000))   # Isobutane recycle (barrels per day)\n",
        "model.AAR = pyo.Var(bounds=(0, 120))        # Acid addition rate (thousands of pounds per day)\n",
        "model.IM = pyo.Var(bounds=(0, 2000))    # Isobutane makeup (barrels per day)\n",
        "model.AY = pyo.Var(bounds=(0, 5000))                      # Alkylate yield (barrels per day)\n",
        "model.AS = pyo.Var(bounds=(85, 93))                      # Acid strength (weight per cent)\n",
        "model.MON = pyo.Var(bounds=(90, 95))                     # Motor octane number\n",
        "model.IOR = pyo.Var(bounds=(3, 12))                     # External isobutane-to-olefin ratio\n",
        "model.ADF = pyo.Var(bounds=(1.2, 4))                     # Acid dilution factor\n",
        "model.F4 = pyo.Var(bounds=(145, 162))                      # F-4 performance number\n",
        "\n",
        "# Define objective function\n",
        "model.profit = pyo.Objective(expr=model.p_alk * model.AY * model.MON - (model.c_ole * model.OF +\n",
        "                                                                        model.c_iso * model.IR +\n",
        "                                                                        model.c_acid * model.AAR +\n",
        "                                                                        model.c_makeup * model.IM),\n",
        "                             sense=pyo.maximize)\n",
        "\n",
        "# Define constraints\n",
        "model.alkylate_yield_lower = pyo.Constraint(expr=0.98 * (1.12 * model.OF + 0.13167 * model.IOR * model.OF - 0.00667 * model.IOR**2 * model.OF) <= model.AY)\n",
        "model.alkylate_yield_upper = pyo.Constraint(expr=model.AY <= 1.02 * (1.12 * model.OF + 0.13167 * model.IOR * model.OF - 0.00667 * model.IOR**2 * model.OF))\n",
        "model.octane_number_lower = pyo.Constraint(expr=0.99 * (86.35 + 1.098 * model.IOR - 0.038 * model.IOR**2 + 0.325 * (model.AS - 89)) <= model.MON)\n",
        "model.octane_number_upper = pyo.Constraint(expr=model.MON <= 1.01 * (86.35 + 1.098 * model.IOR - 0.038 * model.IOR**2 + 0.325 * (model.AS - 89)))\n",
        "model.acid_dilution_lower = pyo.Constraint(expr=0.95 * (35.82 - 0.222 * model.F4) <= model.ADF)\n",
        "model.acid_dilution_upper = pyo.Constraint(expr=model.ADF <= 1.05 * (35.82 - 0.222 * model.F4))\n",
        "model.f4_performance_lower = pyo.Constraint(expr=0.90 * (-133 + 3 * model.MON) <= model.F4)\n",
        "model.f4_performance_upper = pyo.Constraint(expr=model.F4 <= 1.10 * (-133 + 3 * model.MON))\n",
        "model.external_ratio = pyo.Constraint(expr=model.IOR == (model.IR + model.IM) / model.OF)\n",
        "model.acid_strength = pyo.Constraint(expr=model.AS == (93000 * model.AAR) / (model.AAR * model.ADF + 1000 * model.AAR))\n",
        "model.material_balance = pyo.Constraint(expr=1.22 * model.AY == model.OF + model.IM)\n",
        "\n",
        "# Solve the optimization problem\n",
        "solver = pyo.SolverFactory('ipopt')\n",
        "results = solver.solve(model)\n",
        "\n",
        "# Print the results\n",
        "print(\"Optimization Results:\")\n",
        "print(\"Objective Function (Profit): \", pyo.value(model.profit))\n",
        "print(\"Olefin Feed (OF): \", pyo.value(model.OF))\n",
        "print(\"Isobutane Recycle (IR): \", pyo.value(model.IR))\n",
        "print(\"Acid Addition Rate (AAR): \", pyo.value(model.AAR))\n",
        "print(\"Isobutane Makeup (IM): \", pyo.value(model.IM))\n",
        "print(\"Alkylate Yield (AY): \", pyo.value(model.AY))\n",
        "print(\"Acid Strength (AS): \", pyo.value(model.AS))\n",
        "print(\"Motor Octane Number (MON): \", pyo.value(model.MON))\n",
        "print(\"External Isobutane-to-Olefin Ratio (IOR): \", pyo.value(model.IOR))\n",
        "print(\"Acid Dilution Factor (ADF): \", pyo.value(model.ADF))\n",
        "print(\"F-4 Performance Number (F4): \", pyo.value(model.F4))"
      ],
      "metadata": {
        "id": "voCBXWWKA2LO",
        "colab": {
          "base_uri": "https://localhost:8080/"
        },
        "outputId": "3b1afdba-6205-48d5-b13f-5da904ddcd91"
      },
      "execution_count": 12,
      "outputs": [
        {
          "output_type": "stream",
          "name": "stdout",
          "text": [
            "Optimization Results:\n",
            "Objective Function (Profit):  176594.13705361064\n",
            "Olefin Feed (OF):  2000.0\n",
            "Isobutane Recycle (IR):  10113.175625405214\n",
            "Acid Addition Rate (AAR):  0.0\n",
            "Isobutane Makeup (IM):  2000.0\n",
            "Alkylate Yield (AY):  3278.688557376949\n",
            "Acid Strength (AS):  92.88853376059825\n",
            "Motor Octane Number (MON):  93.79868152416277\n",
            "External Isobutane-to-Olefin Ratio (IOR):  6.056587762136939\n",
            "Acid Dilution Factor (ADF):  1.2\n",
            "F-4 Performance Number (F4):  155.9263365300636\n"
          ]
        }
      ]
    }
  ]
}