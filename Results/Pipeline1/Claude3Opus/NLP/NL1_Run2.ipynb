{
  "nbformat": 4,
  "nbformat_minor": 0,
  "metadata": {
    "colab": {
      "provenance": []
    },
    "kernelspec": {
      "name": "python3",
      "display_name": "Python 3"
    },
    "language_info": {
      "name": "python"
    }
  },
  "cells": [
    {
      "cell_type": "markdown",
      "source": [
        "# 0. Imports and Setting up Anthropic API Client"
      ],
      "metadata": {
        "id": "y5fw0lkBwBbo"
      }
    },
    {
      "cell_type": "code",
      "source": [
        "from google.colab import drive\n",
        "\n",
        "drive.mount('/content/drive')"
      ],
      "metadata": {
        "colab": {
          "base_uri": "https://localhost:8080/"
        },
        "id": "e7tWOLo0yMoH",
        "outputId": "3ad0b62c-8581-4125-aa48-14ddb1752163"
      },
      "execution_count": 1,
      "outputs": [
        {
          "output_type": "stream",
          "name": "stdout",
          "text": [
            "Mounted at /content/drive\n"
          ]
        }
      ]
    },
    {
      "cell_type": "code",
      "source": [
        "!pip install python-dotenv\n",
        "\n",
        "import os\n",
        "import dotenv\n",
        "\n",
        "dotenv.load_dotenv('/content/drive/MyDrive/.env')"
      ],
      "metadata": {
        "colab": {
          "base_uri": "https://localhost:8080/"
        },
        "id": "utcEK8lZ1Z1R",
        "outputId": "a2aa5bf5-714f-4106-9875-671fbd00f7c4"
      },
      "execution_count": 2,
      "outputs": [
        {
          "output_type": "stream",
          "name": "stdout",
          "text": [
            "Collecting python-dotenv\n",
            "  Downloading python_dotenv-1.0.1-py3-none-any.whl (19 kB)\n",
            "Installing collected packages: python-dotenv\n",
            "Successfully installed python-dotenv-1.0.1\n"
          ]
        },
        {
          "output_type": "execute_result",
          "data": {
            "text/plain": [
              "True"
            ]
          },
          "metadata": {},
          "execution_count": 2
        }
      ]
    },
    {
      "cell_type": "code",
      "source": [
        "# Load Prompts and Problem Description\n",
        "prompt1_path = '/content/drive/MyDrive/Thesis/Prompts/Prompt1_MathematicalModel.txt'\n",
        "prompt2_path = '/content/drive/MyDrive/Thesis/Prompts/Prompt2_PyomoCode.txt'\n",
        "problem_desc_path = '/content/drive/MyDrive/Thesis/ProblemDescriptions/NL/NL1.txt'\n",
        "\n",
        "prompt1_file = open(prompt1_path, \"r\")\n",
        "prompt2_file = open(prompt2_path, \"r\")\n",
        "problem_desc_file = open(problem_desc_path, \"r\")\n",
        "\n",
        "prompt1 = prompt1_file.read()\n",
        "print(\"Prompt 1:\\n\", prompt1)\n",
        "\n",
        "prompt2 = prompt2_file.read()\n",
        "print(\"Prompt 2:\\n\", prompt2)\n",
        "\n",
        "problem_desc = problem_desc_file.read()\n",
        "print(\"Problem Description:\\n\", problem_desc)"
      ],
      "metadata": {
        "colab": {
          "base_uri": "https://localhost:8080/"
        },
        "id": "9KlkjwMUS4xp",
        "outputId": "bf79ef9e-36e2-426e-aa37-63788b011fab"
      },
      "execution_count": 3,
      "outputs": [
        {
          "output_type": "stream",
          "name": "stdout",
          "text": [
            "Prompt 1:\n",
            " Please write a mathematical optimization model for this problem. Include parameters, decision variables, the objective function and the constraints in your answer.\n",
            "Prompt 2:\n",
            " Please write a python pyomo code for this optimization problem.\n",
            "Use sample data where needed.\n",
            "Indicate where you use sample data.\n",
            "Problem Description:\n",
            " A firm that packs refreshments and beers, situated in the province of Valencia (Spain) employs the same syrup to produce its 1.5 l COLI and PEPSA products on its S1 production line. Once processed, each hectolitre of syrup produces 40 units of the 1.5 l COLI product and 20 units of the 1.5 l PEPSA product. If X1 units of the 1.5 l COLI product and X2 units of the 1.5 l PEPSA product are produced, the firm estimates that the daily income obtained in dollars would be given by the following function:\n",
            "49000 times X1 minus X1 squared plus 30 times X2 minus two times X2 squared. \n",
            "It costs 150 dollars to buy and process each hectolitre of syrup. The S1 packaging line has a net capacity of producing 7100 1.5 l product units every hour. The firm works 5 days a week in 8h shifts. Given its weekly target coverage, the firm is committed to produce at least half the amount of PEPSA than COLI. Although priority orders tend to amend its production planning, the firm wishes to have a basic product planning that optimises its daily profits. \n",
            "\n"
          ]
        }
      ]
    },
    {
      "cell_type": "code",
      "source": [
        "!pip install anthropic"
      ],
      "metadata": {
        "colab": {
          "base_uri": "https://localhost:8080/"
        },
        "id": "iWlNsTIvxCcR",
        "outputId": "f02dafa5-5d10-41b3-878f-d335b5b22422",
        "collapsed": true
      },
      "execution_count": 4,
      "outputs": [
        {
          "output_type": "stream",
          "name": "stdout",
          "text": [
            "Collecting anthropic\n",
            "  Downloading anthropic-0.26.0-py3-none-any.whl (877 kB)\n",
            "\u001b[2K     \u001b[90m━━━━━━━━━━━━━━━━━━━━━━━━━━━━━━━━━━━━━━━━\u001b[0m \u001b[32m877.7/877.7 kB\u001b[0m \u001b[31m7.1 MB/s\u001b[0m eta \u001b[36m0:00:00\u001b[0m\n",
            "\u001b[?25hRequirement already satisfied: anyio<5,>=3.5.0 in /usr/local/lib/python3.10/dist-packages (from anthropic) (3.7.1)\n",
            "Requirement already satisfied: distro<2,>=1.7.0 in /usr/lib/python3/dist-packages (from anthropic) (1.7.0)\n",
            "Collecting httpx<1,>=0.23.0 (from anthropic)\n",
            "  Downloading httpx-0.27.0-py3-none-any.whl (75 kB)\n",
            "\u001b[2K     \u001b[90m━━━━━━━━━━━━━━━━━━━━━━━━━━━━━━━━━━━━━━━━\u001b[0m \u001b[32m75.6/75.6 kB\u001b[0m \u001b[31m5.0 MB/s\u001b[0m eta \u001b[36m0:00:00\u001b[0m\n",
            "\u001b[?25hRequirement already satisfied: pydantic<3,>=1.9.0 in /usr/local/lib/python3.10/dist-packages (from anthropic) (2.7.1)\n",
            "Requirement already satisfied: sniffio in /usr/local/lib/python3.10/dist-packages (from anthropic) (1.3.1)\n",
            "Requirement already satisfied: tokenizers>=0.13.0 in /usr/local/lib/python3.10/dist-packages (from anthropic) (0.19.1)\n",
            "Requirement already satisfied: typing-extensions<5,>=4.7 in /usr/local/lib/python3.10/dist-packages (from anthropic) (4.11.0)\n",
            "Requirement already satisfied: idna>=2.8 in /usr/local/lib/python3.10/dist-packages (from anyio<5,>=3.5.0->anthropic) (3.7)\n",
            "Requirement already satisfied: exceptiongroup in /usr/local/lib/python3.10/dist-packages (from anyio<5,>=3.5.0->anthropic) (1.2.1)\n",
            "Requirement already satisfied: certifi in /usr/local/lib/python3.10/dist-packages (from httpx<1,>=0.23.0->anthropic) (2024.2.2)\n",
            "Collecting httpcore==1.* (from httpx<1,>=0.23.0->anthropic)\n",
            "  Downloading httpcore-1.0.5-py3-none-any.whl (77 kB)\n",
            "\u001b[2K     \u001b[90m━━━━━━━━━━━━━━━━━━━━━━━━━━━━━━━━━━━━━━━━\u001b[0m \u001b[32m77.9/77.9 kB\u001b[0m \u001b[31m6.4 MB/s\u001b[0m eta \u001b[36m0:00:00\u001b[0m\n",
            "\u001b[?25hCollecting h11<0.15,>=0.13 (from httpcore==1.*->httpx<1,>=0.23.0->anthropic)\n",
            "  Downloading h11-0.14.0-py3-none-any.whl (58 kB)\n",
            "\u001b[2K     \u001b[90m━━━━━━━━━━━━━━━━━━━━━━━━━━━━━━━━━━━━━━━━\u001b[0m \u001b[32m58.3/58.3 kB\u001b[0m \u001b[31m7.0 MB/s\u001b[0m eta \u001b[36m0:00:00\u001b[0m\n",
            "\u001b[?25hRequirement already satisfied: annotated-types>=0.4.0 in /usr/local/lib/python3.10/dist-packages (from pydantic<3,>=1.9.0->anthropic) (0.6.0)\n",
            "Requirement already satisfied: pydantic-core==2.18.2 in /usr/local/lib/python3.10/dist-packages (from pydantic<3,>=1.9.0->anthropic) (2.18.2)\n",
            "Requirement already satisfied: huggingface-hub<1.0,>=0.16.4 in /usr/local/lib/python3.10/dist-packages (from tokenizers>=0.13.0->anthropic) (0.20.3)\n",
            "Requirement already satisfied: filelock in /usr/local/lib/python3.10/dist-packages (from huggingface-hub<1.0,>=0.16.4->tokenizers>=0.13.0->anthropic) (3.14.0)\n",
            "Requirement already satisfied: fsspec>=2023.5.0 in /usr/local/lib/python3.10/dist-packages (from huggingface-hub<1.0,>=0.16.4->tokenizers>=0.13.0->anthropic) (2023.6.0)\n",
            "Requirement already satisfied: requests in /usr/local/lib/python3.10/dist-packages (from huggingface-hub<1.0,>=0.16.4->tokenizers>=0.13.0->anthropic) (2.31.0)\n",
            "Requirement already satisfied: tqdm>=4.42.1 in /usr/local/lib/python3.10/dist-packages (from huggingface-hub<1.0,>=0.16.4->tokenizers>=0.13.0->anthropic) (4.66.4)\n",
            "Requirement already satisfied: pyyaml>=5.1 in /usr/local/lib/python3.10/dist-packages (from huggingface-hub<1.0,>=0.16.4->tokenizers>=0.13.0->anthropic) (6.0.1)\n",
            "Requirement already satisfied: packaging>=20.9 in /usr/local/lib/python3.10/dist-packages (from huggingface-hub<1.0,>=0.16.4->tokenizers>=0.13.0->anthropic) (24.0)\n",
            "Requirement already satisfied: charset-normalizer<4,>=2 in /usr/local/lib/python3.10/dist-packages (from requests->huggingface-hub<1.0,>=0.16.4->tokenizers>=0.13.0->anthropic) (3.3.2)\n",
            "Requirement already satisfied: urllib3<3,>=1.21.1 in /usr/local/lib/python3.10/dist-packages (from requests->huggingface-hub<1.0,>=0.16.4->tokenizers>=0.13.0->anthropic) (2.0.7)\n",
            "Installing collected packages: h11, httpcore, httpx, anthropic\n",
            "Successfully installed anthropic-0.26.0 h11-0.14.0 httpcore-1.0.5 httpx-0.27.0\n"
          ]
        }
      ]
    },
    {
      "cell_type": "code",
      "execution_count": 5,
      "metadata": {
        "id": "7Qjk2D63v1Bl"
      },
      "outputs": [],
      "source": [
        "# Importing Anthropic & Setting Headers\n",
        "import anthropic\n",
        "\n",
        "client = anthropic.Anthropic(\n",
        "    # defaults to os.environ.get(\"ANTHROPIC_API_KEY\")\n",
        "    api_key=os.environ.get(\"ANTHROPIC_API_KEY\"),\n",
        ")"
      ]
    },
    {
      "cell_type": "markdown",
      "source": [
        "# 1. Prompt 1: Create Mathematical Model"
      ],
      "metadata": {
        "id": "kT7yKbJs18XR"
      }
    },
    {
      "cell_type": "code",
      "source": [
        "message = client.messages.create(\n",
        "    model=\"claude-3-opus-20240229\",\n",
        "    system=prompt1,\n",
        "    max_tokens=4096,\n",
        "    messages=[\n",
        "        {\"role\": \"user\", \"content\": problem_desc}\n",
        "    ]\n",
        ")\n",
        "\n",
        "response_p1 = message.content[0].text"
      ],
      "metadata": {
        "id": "R_6X0axq16D4"
      },
      "execution_count": 6,
      "outputs": []
    },
    {
      "cell_type": "code",
      "source": [
        "# Print response\n",
        "print(response_p1)"
      ],
      "metadata": {
        "colab": {
          "base_uri": "https://localhost:8080/"
        },
        "id": "Ra9Ox_PI38jg",
        "outputId": "9f605667-41d0-4aba-e671-13236adc1b07"
      },
      "execution_count": 7,
      "outputs": [
        {
          "output_type": "stream",
          "name": "stdout",
          "text": [
            "Let's formulate the mathematical optimization model for this problem.\n",
            "\n",
            "Parameters:\n",
            "- Cost of buying and processing each hectolitre of syrup: $150\n",
            "- Hourly production capacity of S1 packaging line: 7100 units\n",
            "- Daily working hours: 8 hours\n",
            "- 1 hectolitre of syrup produces 40 units of 1.5 l COLI and 20 units of 1.5 l PEPSA\n",
            "\n",
            "Decision Variables:\n",
            "- X1: Units of 1.5 l COLI product produced daily\n",
            "- X2: Units of 1.5 l PEPSA product produced daily\n",
            "\n",
            "Objective Function:\n",
            "Maximize the daily profit (in dollars):\n",
            "49000X1 - X1^2 + 30X2 - 2X2^2 - 150(X1/40 + X2/20)\n",
            "\n",
            "Constraints:\n",
            "1. Production capacity constraint:\n",
            "   X1 + X2 <= 7100 * 8 = 56800\n",
            "\n",
            "2. PEPSA production constraint:\n",
            "   X2 >= 0.5X1\n",
            "\n",
            "3. Non-negativity constraints:\n",
            "   X1 >= 0\n",
            "   X2 >= 0\n",
            "\n",
            "The complete optimization model can be written as follows:\n",
            "\n",
            "Maximize:\n",
            "49000X1 - X1^2 + 30X2 - 2X2^2 - 150(X1/40 + X2/20)\n",
            "\n",
            "Subject to:\n",
            "X1 + X2 <= 56800\n",
            "X2 >= 0.5X1\n",
            "X1 >= 0\n",
            "X2 >= 0\n",
            "\n",
            "This model aims to maximize the daily profit by determining the optimal production quantities of 1.5 l COLI (X1) and 1.5 l PEPSA (X2) products while considering the production capacity, PEPSA production requirement, and non-negativity constraints.\n"
          ]
        }
      ]
    },
    {
      "cell_type": "markdown",
      "source": [
        "# 2. Prompt 2: Write Code based on Mathematical Model"
      ],
      "metadata": {
        "id": "WPZ6lgBO729j"
      }
    },
    {
      "cell_type": "code",
      "source": [
        "message2 = client.messages.create(\n",
        "    model=\"claude-3-opus-20240229\",\n",
        "    system=prompt2,\n",
        "    max_tokens=4069,\n",
        "    messages=[\n",
        "        {\"role\": \"user\", \"content\": response_p1}\n",
        "    ]\n",
        ")\n",
        "\n",
        "response_p2 = message2.content[0].text"
      ],
      "metadata": {
        "id": "1iUSgBda70FL"
      },
      "execution_count": 8,
      "outputs": []
    },
    {
      "cell_type": "code",
      "source": [
        "# Print response\n",
        "print(response_p2)"
      ],
      "metadata": {
        "colab": {
          "base_uri": "https://localhost:8080/"
        },
        "id": "o40mxc_H8eQ9",
        "outputId": "a05b8265-169f-41e2-87e1-47c66c31431c"
      },
      "execution_count": 9,
      "outputs": [
        {
          "output_type": "stream",
          "name": "stdout",
          "text": [
            "Great! Now that we have formulated the mathematical optimization model, let's implement it in Python using the Pyomo library.\n",
            "\n",
            "```python\n",
            "from pyomo.environ import *\n",
            "\n",
            "# Create a Concrete Model\n",
            "model = ConcreteModel()\n",
            "\n",
            "# Define decision variables\n",
            "model.X1 = Var(domain=NonNegativeReals)\n",
            "model.X2 = Var(domain=NonNegativeReals)\n",
            "\n",
            "# Define the objective function\n",
            "model.profit = Objective(expr=49000*model.X1 - model.X1**2 + 30*model.X2 - 2*model.X2**2 - 150*(model.X1/40 + model.X2/20), sense=maximize)\n",
            "\n",
            "# Define constraints\n",
            "model.capacity_constraint = Constraint(expr=model.X1 + model.X2 <= 56800)\n",
            "model.pepsa_constraint = Constraint(expr=model.X2 >= 0.5*model.X1)\n",
            "\n",
            "# Solve the optimization problem\n",
            "solver = SolverFactory('ipopt')\n",
            "results = solver.solve(model)\n",
            "\n",
            "# Print the optimal solution\n",
            "print(\"Optimal Solution:\")\n",
            "print(\"X1 (1.5 l COLI):\", model.X1.value)\n",
            "print(\"X2 (1.5 l PEPSA):\", model.X2.value)\n",
            "print(\"Maximum Profit:\", model.profit())\n",
            "```\n",
            "\n",
            "In this code:\n",
            "\n",
            "1. We import the necessary components from the `pyomo.environ` module.\n",
            "\n",
            "2. We create a `ConcreteModel` instance named `model` to represent our optimization problem.\n",
            "\n",
            "3. We define the decision variables `X1` and `X2` using `Var()` and specify their domain as non-negative real numbers using `NonNegativeReals`.\n",
            "\n",
            "4. We define the objective function using `Objective()` and specify the expression for the daily profit. The `sense` parameter is set to `maximize` to indicate that we want to maximize the profit.\n",
            "\n",
            "5. We define the constraints using `Constraint()`:\n",
            "   - The production capacity constraint: `X1 + X2 <= 56800`\n",
            "   - The PEPSA production constraint: `X2 >= 0.5*X1`\n",
            "\n",
            "6. We create an instance of the solver using `SolverFactory('ipopt')`. You can use other solvers based on your preference and availability.\n",
            "\n",
            "7. We solve the optimization problem using `solver.solve(model)` and store the results in the `results` variable.\n",
            "\n",
            "8. Finally, we print the optimal solution, including the values of `X1` and `X2`, and the maximum profit obtained.\n",
            "\n",
            "Note: In this code, we are not using any sample data as all the necessary information is already provided in the problem statement.\n",
            "\n",
            "You can run this Python script to obtain the optimal solution for the given optimization problem.\n"
          ]
        }
      ]
    },
    {
      "cell_type": "markdown",
      "source": [
        "# 4. Input Problem Data and Test Model Code"
      ],
      "metadata": {
        "id": "Pc0QqJuf8up_"
      }
    },
    {
      "cell_type": "code",
      "source": [
        "# Installing pyomo nd solver\n",
        "!pip install -q pyomo\n",
        "!wget -N -q \"https://matematica.unipv.it/gualandi/solvers/ipopt-linux64.zip\"\n",
        "!unzip -o -q ipopt-linux64"
      ],
      "metadata": {
        "colab": {
          "base_uri": "https://localhost:8080/"
        },
        "id": "3BtROuLu9O-p",
        "outputId": "a391f171-851c-4640-b828-bea24dfbac15",
        "collapsed": true
      },
      "execution_count": 10,
      "outputs": [
        {
          "output_type": "stream",
          "name": "stdout",
          "text": [
            "\u001b[2K     \u001b[90m━━━━━━━━━━━━━━━━━━━━━━━━━━━━━━━━━━━━━━━━\u001b[0m \u001b[32m12.8/12.8 MB\u001b[0m \u001b[31m73.8 MB/s\u001b[0m eta \u001b[36m0:00:00\u001b[0m\n",
            "\u001b[2K     \u001b[90m━━━━━━━━━━━━━━━━━━━━━━━━━━━━━━━━━━━━━━━━\u001b[0m \u001b[32m49.6/49.6 kB\u001b[0m \u001b[31m5.4 MB/s\u001b[0m eta \u001b[36m0:00:00\u001b[0m\n",
            "\u001b[?25h"
          ]
        }
      ]
    },
    {
      "cell_type": "code",
      "source": [
        "from pyomo.environ import *\n",
        "\n",
        "# Create a Concrete Model\n",
        "model = ConcreteModel()\n",
        "\n",
        "# Define decision variables\n",
        "model.X1 = Var(domain=NonNegativeReals)\n",
        "model.X2 = Var(domain=NonNegativeReals)\n",
        "\n",
        "# Define the objective function\n",
        "model.profit = Objective(expr=49000*model.X1 - model.X1**2 + 30*model.X2 - 2*model.X2**2 - 150*(model.X1/40 + model.X2/20), sense=maximize)\n",
        "\n",
        "# Define constraints\n",
        "model.capacity_constraint = Constraint(expr=model.X1 + model.X2 <= 56800)\n",
        "model.pepsa_constraint = Constraint(expr=model.X2 >= 0.5*model.X1)\n",
        "\n",
        "# Solve the optimization problem\n",
        "solver = SolverFactory('ipopt')\n",
        "results = solver.solve(model)\n",
        "\n",
        "# Print the optimal solution\n",
        "print(\"Optimal Solution:\")\n",
        "print(\"X1 (1.5 l COLI):\", model.X1.value)\n",
        "print(\"X2 (1.5 l PEPSA):\", model.X2.value)\n",
        "print(\"Maximum Profit:\", model.profit())"
      ],
      "metadata": {
        "colab": {
          "base_uri": "https://localhost:8080/"
        },
        "id": "8FpHcuWU8rQ2",
        "outputId": "9fce84a9-024c-48fc-ce33-0e3602462052"
      },
      "execution_count": 11,
      "outputs": [
        {
          "output_type": "stream",
          "name": "stdout",
          "text": [
            "Optimal Solution:\n",
            "X1 (1.5 l COLI): 16335.833333340004\n",
            "X2 (1.5 l PEPSA): 8167.91666666004\n",
            "Maximum Profit: 400289176.04199195\n"
          ]
        }
      ]
    },
    {
      "cell_type": "markdown",
      "source": [
        "# 5. Correct The Model Code to Test Mathematical Model (if applicable)"
      ],
      "metadata": {
        "id": "KHTyoLQTWZVy"
      }
    },
    {
      "cell_type": "code",
      "source": [],
      "metadata": {
        "id": "A-Kq05sreCew"
      },
      "execution_count": null,
      "outputs": []
    }
  ]
}