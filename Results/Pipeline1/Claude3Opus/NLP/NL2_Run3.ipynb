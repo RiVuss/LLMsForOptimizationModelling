{
  "nbformat": 4,
  "nbformat_minor": 0,
  "metadata": {
    "colab": {
      "provenance": []
    },
    "kernelspec": {
      "name": "python3",
      "display_name": "Python 3"
    },
    "language_info": {
      "name": "python"
    }
  },
  "cells": [
    {
      "cell_type": "markdown",
      "source": [
        "# 0. Imports and Setting up Anthropic API Client"
      ],
      "metadata": {
        "id": "y5fw0lkBwBbo"
      }
    },
    {
      "cell_type": "code",
      "source": [
        "from google.colab import drive\n",
        "\n",
        "drive.mount('/content/drive')"
      ],
      "metadata": {
        "colab": {
          "base_uri": "https://localhost:8080/"
        },
        "id": "e7tWOLo0yMoH",
        "outputId": "4f608079-15b7-4a37-9793-8cdde38c6407"
      },
      "execution_count": 1,
      "outputs": [
        {
          "output_type": "stream",
          "name": "stdout",
          "text": [
            "Mounted at /content/drive\n"
          ]
        }
      ]
    },
    {
      "cell_type": "code",
      "source": [
        "!pip install python-dotenv\n",
        "\n",
        "import os\n",
        "import dotenv\n",
        "\n",
        "dotenv.load_dotenv('/content/drive/MyDrive/.env')"
      ],
      "metadata": {
        "colab": {
          "base_uri": "https://localhost:8080/"
        },
        "id": "utcEK8lZ1Z1R",
        "outputId": "6c8e29ad-407b-40eb-9b83-9eb6f9822afa"
      },
      "execution_count": 2,
      "outputs": [
        {
          "output_type": "stream",
          "name": "stdout",
          "text": [
            "Collecting python-dotenv\n",
            "  Downloading python_dotenv-1.0.1-py3-none-any.whl (19 kB)\n",
            "Installing collected packages: python-dotenv\n",
            "Successfully installed python-dotenv-1.0.1\n"
          ]
        },
        {
          "output_type": "execute_result",
          "data": {
            "text/plain": [
              "True"
            ]
          },
          "metadata": {},
          "execution_count": 2
        }
      ]
    },
    {
      "cell_type": "code",
      "source": [
        "# Load Prompts and Problem Description\n",
        "prompt1_path = '/content/drive/MyDrive/Thesis/Prompts/Prompt1_MathematicalModel.txt'\n",
        "prompt2_path = '/content/drive/MyDrive/Thesis/Prompts/Prompt2_PyomoCode.txt'\n",
        "problem_desc_path = '/content/drive/MyDrive/Thesis/ProblemDescriptions/NL/NL2.txt'\n",
        "\n",
        "prompt1_file = open(prompt1_path, \"r\")\n",
        "prompt2_file = open(prompt2_path, \"r\")\n",
        "problem_desc_file = open(problem_desc_path, \"r\")\n",
        "\n",
        "prompt1 = prompt1_file.read()\n",
        "print(\"Prompt 1:\\n\", prompt1)\n",
        "\n",
        "prompt2 = prompt2_file.read()\n",
        "print(\"Prompt 2:\\n\", prompt2)\n",
        "\n",
        "problem_desc = problem_desc_file.read()\n",
        "print(\"Problem Description:\\n\", problem_desc)"
      ],
      "metadata": {
        "colab": {
          "base_uri": "https://localhost:8080/"
        },
        "id": "9KlkjwMUS4xp",
        "outputId": "8fc8063c-df46-48a0-f138-0abcdb687b6e"
      },
      "execution_count": 3,
      "outputs": [
        {
          "output_type": "stream",
          "name": "stdout",
          "text": [
            "Prompt 1:\n",
            " Please write a mathematical optimization model for this problem. Include parameters, decision variables, the objective function and the constraints in your answer.\n",
            "Prompt 2:\n",
            " Please write a python pyomo code for this optimization problem.\n",
            "Use sample data where needed.\n",
            "Indicate where you use sample data.\n",
            "Problem Description:\n",
            " You are a chemist in charge of a process that requires two liquids to reach the end product. Your goal is to maximize the quality of the product in the end, which is measured by the difference between the Napierian logarithm of the product of the litres used of each component and the cube root of the summation of the first component litres as well as double the second component litres. It is required that the squared difference between the litres employed of each component and the mean litres utilised of both components is below ten. This is necessary for the obtained set to be stable. Furthermore, the mixture tank available to you can only fit 80 l. Please formulate a mathematical optimization model for this problem. \n",
            "\n"
          ]
        }
      ]
    },
    {
      "cell_type": "code",
      "source": [
        "!pip install anthropic"
      ],
      "metadata": {
        "colab": {
          "base_uri": "https://localhost:8080/"
        },
        "id": "iWlNsTIvxCcR",
        "outputId": "7dc39ab5-5fe9-40bb-f8e6-2390cee373a3",
        "collapsed": true
      },
      "execution_count": 4,
      "outputs": [
        {
          "output_type": "stream",
          "name": "stdout",
          "text": [
            "Collecting anthropic\n",
            "  Downloading anthropic-0.26.0-py3-none-any.whl (877 kB)\n",
            "\u001b[2K     \u001b[90m━━━━━━━━━━━━━━━━━━━━━━━━━━━━━━━━━━━━━━━━\u001b[0m \u001b[32m877.7/877.7 kB\u001b[0m \u001b[31m4.9 MB/s\u001b[0m eta \u001b[36m0:00:00\u001b[0m\n",
            "\u001b[?25hRequirement already satisfied: anyio<5,>=3.5.0 in /usr/local/lib/python3.10/dist-packages (from anthropic) (3.7.1)\n",
            "Requirement already satisfied: distro<2,>=1.7.0 in /usr/lib/python3/dist-packages (from anthropic) (1.7.0)\n",
            "Collecting httpx<1,>=0.23.0 (from anthropic)\n",
            "  Downloading httpx-0.27.0-py3-none-any.whl (75 kB)\n",
            "\u001b[2K     \u001b[90m━━━━━━━━━━━━━━━━━━━━━━━━━━━━━━━━━━━━━━━━\u001b[0m \u001b[32m75.6/75.6 kB\u001b[0m \u001b[31m6.7 MB/s\u001b[0m eta \u001b[36m0:00:00\u001b[0m\n",
            "\u001b[?25hRequirement already satisfied: pydantic<3,>=1.9.0 in /usr/local/lib/python3.10/dist-packages (from anthropic) (2.7.1)\n",
            "Requirement already satisfied: sniffio in /usr/local/lib/python3.10/dist-packages (from anthropic) (1.3.1)\n",
            "Requirement already satisfied: tokenizers>=0.13.0 in /usr/local/lib/python3.10/dist-packages (from anthropic) (0.19.1)\n",
            "Requirement already satisfied: typing-extensions<5,>=4.7 in /usr/local/lib/python3.10/dist-packages (from anthropic) (4.11.0)\n",
            "Requirement already satisfied: idna>=2.8 in /usr/local/lib/python3.10/dist-packages (from anyio<5,>=3.5.0->anthropic) (3.7)\n",
            "Requirement already satisfied: exceptiongroup in /usr/local/lib/python3.10/dist-packages (from anyio<5,>=3.5.0->anthropic) (1.2.1)\n",
            "Requirement already satisfied: certifi in /usr/local/lib/python3.10/dist-packages (from httpx<1,>=0.23.0->anthropic) (2024.2.2)\n",
            "Collecting httpcore==1.* (from httpx<1,>=0.23.0->anthropic)\n",
            "  Downloading httpcore-1.0.5-py3-none-any.whl (77 kB)\n",
            "\u001b[2K     \u001b[90m━━━━━━━━━━━━━━━━━━━━━━━━━━━━━━━━━━━━━━━━\u001b[0m \u001b[32m77.9/77.9 kB\u001b[0m \u001b[31m8.1 MB/s\u001b[0m eta \u001b[36m0:00:00\u001b[0m\n",
            "\u001b[?25hCollecting h11<0.15,>=0.13 (from httpcore==1.*->httpx<1,>=0.23.0->anthropic)\n",
            "  Downloading h11-0.14.0-py3-none-any.whl (58 kB)\n",
            "\u001b[2K     \u001b[90m━━━━━━━━━━━━━━━━━━━━━━━━━━━━━━━━━━━━━━━━\u001b[0m \u001b[32m58.3/58.3 kB\u001b[0m \u001b[31m6.5 MB/s\u001b[0m eta \u001b[36m0:00:00\u001b[0m\n",
            "\u001b[?25hRequirement already satisfied: annotated-types>=0.4.0 in /usr/local/lib/python3.10/dist-packages (from pydantic<3,>=1.9.0->anthropic) (0.6.0)\n",
            "Requirement already satisfied: pydantic-core==2.18.2 in /usr/local/lib/python3.10/dist-packages (from pydantic<3,>=1.9.0->anthropic) (2.18.2)\n",
            "Requirement already satisfied: huggingface-hub<1.0,>=0.16.4 in /usr/local/lib/python3.10/dist-packages (from tokenizers>=0.13.0->anthropic) (0.20.3)\n",
            "Requirement already satisfied: filelock in /usr/local/lib/python3.10/dist-packages (from huggingface-hub<1.0,>=0.16.4->tokenizers>=0.13.0->anthropic) (3.14.0)\n",
            "Requirement already satisfied: fsspec>=2023.5.0 in /usr/local/lib/python3.10/dist-packages (from huggingface-hub<1.0,>=0.16.4->tokenizers>=0.13.0->anthropic) (2023.6.0)\n",
            "Requirement already satisfied: requests in /usr/local/lib/python3.10/dist-packages (from huggingface-hub<1.0,>=0.16.4->tokenizers>=0.13.0->anthropic) (2.31.0)\n",
            "Requirement already satisfied: tqdm>=4.42.1 in /usr/local/lib/python3.10/dist-packages (from huggingface-hub<1.0,>=0.16.4->tokenizers>=0.13.0->anthropic) (4.66.4)\n",
            "Requirement already satisfied: pyyaml>=5.1 in /usr/local/lib/python3.10/dist-packages (from huggingface-hub<1.0,>=0.16.4->tokenizers>=0.13.0->anthropic) (6.0.1)\n",
            "Requirement already satisfied: packaging>=20.9 in /usr/local/lib/python3.10/dist-packages (from huggingface-hub<1.0,>=0.16.4->tokenizers>=0.13.0->anthropic) (24.0)\n",
            "Requirement already satisfied: charset-normalizer<4,>=2 in /usr/local/lib/python3.10/dist-packages (from requests->huggingface-hub<1.0,>=0.16.4->tokenizers>=0.13.0->anthropic) (3.3.2)\n",
            "Requirement already satisfied: urllib3<3,>=1.21.1 in /usr/local/lib/python3.10/dist-packages (from requests->huggingface-hub<1.0,>=0.16.4->tokenizers>=0.13.0->anthropic) (2.0.7)\n",
            "Installing collected packages: h11, httpcore, httpx, anthropic\n",
            "Successfully installed anthropic-0.26.0 h11-0.14.0 httpcore-1.0.5 httpx-0.27.0\n"
          ]
        }
      ]
    },
    {
      "cell_type": "code",
      "execution_count": 5,
      "metadata": {
        "id": "7Qjk2D63v1Bl"
      },
      "outputs": [],
      "source": [
        "# Importing Anthropic & Setting Headers\n",
        "import anthropic\n",
        "\n",
        "client = anthropic.Anthropic(\n",
        "    # defaults to os.environ.get(\"ANTHROPIC_API_KEY\")\n",
        "    api_key=os.environ.get(\"ANTHROPIC_API_KEY\"),\n",
        ")"
      ]
    },
    {
      "cell_type": "markdown",
      "source": [
        "# 1. Prompt 1: Create Mathematical Model"
      ],
      "metadata": {
        "id": "kT7yKbJs18XR"
      }
    },
    {
      "cell_type": "code",
      "source": [
        "message = client.messages.create(\n",
        "    model=\"claude-3-opus-20240229\",\n",
        "    system=prompt1,\n",
        "    max_tokens=4096,\n",
        "    messages=[\n",
        "        {\"role\": \"user\", \"content\": problem_desc}\n",
        "    ]\n",
        ")\n",
        "\n",
        "response_p1 = message.content[0].text"
      ],
      "metadata": {
        "id": "R_6X0axq16D4"
      },
      "execution_count": 6,
      "outputs": []
    },
    {
      "cell_type": "code",
      "source": [
        "# Print response\n",
        "print(response_p1)"
      ],
      "metadata": {
        "colab": {
          "base_uri": "https://localhost:8080/"
        },
        "id": "Ra9Ox_PI38jg",
        "outputId": "dbe797b1-2426-48cb-ffbe-0b2115ad142b"
      },
      "execution_count": 7,
      "outputs": [
        {
          "output_type": "stream",
          "name": "stdout",
          "text": [
            "Let's formulate the mathematical optimization model for the given problem. We will define the parameters, decision variables, objective function, and constraints.\n",
            "\n",
            "Parameters:\n",
            "- Let the maximum capacity of the mixture tank be denoted as C, which is 80 liters.\n",
            "\n",
            "Decision Variables:\n",
            "- Let x₁ be the number of liters of the first liquid component used.\n",
            "- Let x₂ be the number of liters of the second liquid component used.\n",
            "\n",
            "Objective Function:\n",
            "- The quality of the product is measured by the difference between the Napierian logarithm of the product of the liters used of each component and the cube root of the summation of the first component liters and double the second component liters.\n",
            "- Maximize: ln(x₁ × x₂) - ∛(x₁ + 2x₂)\n",
            "\n",
            "Constraints:\n",
            "1. Stability Constraint:\n",
            "   - The squared difference between the liters used of each component and the mean liters used of both components should be less than 10.\n",
            "   - (x₁ - (x₁ + x₂) / 2)² + (x₂ - (x₁ + x₂) / 2)² ≤ 10\n",
            "\n",
            "2. Capacity Constraint:\n",
            "   - The sum of the liters used of both components should not exceed the maximum capacity of the mixture tank.\n",
            "   - x₁ + x₂ ≤ C\n",
            "\n",
            "3. Non-negativity Constraints:\n",
            "   - The number of liters used for each component should be non-negative.\n",
            "   - x₁ ≥ 0\n",
            "   - x₂ ≥ 0\n",
            "\n",
            "Optimization Model:\n",
            "Maximize: ln(x₁ × x₂) - ∛(x₁ + 2x₂)\n",
            "Subject to:\n",
            "1. (x₁ - (x₁ + x₂) / 2)² + (x₂ - (x₁ + x₂) / 2)² ≤ 10\n",
            "2. x₁ + x₂ ≤ 80\n",
            "3. x₁ ≥ 0\n",
            "4. x₂ ≥ 0\n",
            "\n",
            "This optimization model aims to maximize the quality of the product while satisfying the stability constraint, capacity constraint, and non-negativity constraints for the liters used of each liquid component.\n"
          ]
        }
      ]
    },
    {
      "cell_type": "markdown",
      "source": [
        "# 2. Prompt 2: Write Code based on Mathematical Model"
      ],
      "metadata": {
        "id": "WPZ6lgBO729j"
      }
    },
    {
      "cell_type": "code",
      "source": [
        "message2 = client.messages.create(\n",
        "    model=\"claude-3-opus-20240229\",\n",
        "    system=prompt2,\n",
        "    max_tokens=4069,\n",
        "    messages=[\n",
        "        {\"role\": \"user\", \"content\": response_p1}\n",
        "    ]\n",
        ")\n",
        "\n",
        "response_p2 = message2.content[0].text"
      ],
      "metadata": {
        "id": "1iUSgBda70FL"
      },
      "execution_count": 8,
      "outputs": []
    },
    {
      "cell_type": "code",
      "source": [
        "# Print response\n",
        "print(response_p2)"
      ],
      "metadata": {
        "colab": {
          "base_uri": "https://localhost:8080/"
        },
        "id": "o40mxc_H8eQ9",
        "outputId": "f9a88327-2146-4c0d-ab3b-30bd312c8406"
      },
      "execution_count": 9,
      "outputs": [
        {
          "output_type": "stream",
          "name": "stdout",
          "text": [
            "Here's the Python Pyomo code for the given optimization problem:\n",
            "\n",
            "```python\n",
            "from pyomo.environ import *\n",
            "\n",
            "# Create the model\n",
            "model = ConcreteModel()\n",
            "\n",
            "# Define the parameters\n",
            "model.C = Param(initialize=80)  # Maximum capacity of the mixture tank\n",
            "\n",
            "# Define the decision variables\n",
            "model.x1 = Var(domain=NonNegativeReals)  # Liters of the first liquid component\n",
            "model.x2 = Var(domain=NonNegativeReals)  # Liters of the second liquid component\n",
            "\n",
            "# Define the objective function\n",
            "def quality_rule(model):\n",
            "    return log(model.x1 * model.x2) - (model.x1 + 2 * model.x2) ** (1/3)\n",
            "model.quality = Objective(rule=quality_rule, sense=maximize)\n",
            "\n",
            "# Define the constraints\n",
            "def stability_rule(model):\n",
            "    mean = (model.x1 + model.x2) / 2\n",
            "    return (model.x1 - mean)**2 + (model.x2 - mean)**2 <= 10\n",
            "model.stability = Constraint(rule=stability_rule)\n",
            "\n",
            "def capacity_rule(model):\n",
            "    return model.x1 + model.x2 <= model.C\n",
            "model.capacity = Constraint(rule=capacity_rule)\n",
            "\n",
            "# Solve the optimization problem\n",
            "solver = SolverFactory('ipopt')\n",
            "solver.solve(model)\n",
            "\n",
            "# Print the results\n",
            "print(\"Optimal Solution:\")\n",
            "print(\"x1 =\", value(model.x1))\n",
            "print(\"x2 =\", value(model.x2))\n",
            "print(\"Quality =\", value(model.quality))\n",
            "```\n",
            "\n",
            "Explanation:\n",
            "\n",
            "1. We import the necessary components from the `pyomo.environ` module.\n",
            "\n",
            "2. We create a concrete model using `ConcreteModel()`.\n",
            "\n",
            "3. We define the parameter `C` to represent the maximum capacity of the mixture tank, which is set to 80 liters.\n",
            "\n",
            "4. We define the decision variables `x1` and `x2` to represent the liters of the first and second liquid components, respectively. Both variables are constrained to be non-negative using `domain=NonNegativeReals`.\n",
            "\n",
            "5. We define the objective function `quality_rule` using the mathematical expression provided. The objective is to maximize the quality.\n",
            "\n",
            "6. We define the stability constraint `stability_rule` using the given inequality. It ensures that the squared difference between the liters used of each component and the mean liters used of both components is less than or equal to 10.\n",
            "\n",
            "7. We define the capacity constraint `capacity_rule` to ensure that the sum of the liters used of both components does not exceed the maximum capacity of the mixture tank.\n",
            "\n",
            "8. We create an instance of the solver using `SolverFactory('ipopt')`. You can choose a different solver if desired.\n",
            "\n",
            "9. We solve the optimization problem using `solver.solve(model)`.\n",
            "\n",
            "10. Finally, we print the optimal solution, including the values of `x1`, `x2`, and the quality objective.\n",
            "\n",
            "Note: This code assumes that you have Pyomo and a suitable solver (such as IPOPT) installed in your Python environment. Make sure to install the required dependencies before running the code.\n"
          ]
        }
      ]
    },
    {
      "cell_type": "markdown",
      "source": [
        "# 4. Input Problem Data and Test Model Code"
      ],
      "metadata": {
        "id": "Pc0QqJuf8up_"
      }
    },
    {
      "cell_type": "code",
      "source": [
        "# Installing pyomo nd solver\n",
        "!pip install -q pyomo\n",
        "!wget -N -q \"https://matematica.unipv.it/gualandi/solvers/ipopt-linux64.zip\"\n",
        "!unzip -o -q ipopt-linux64"
      ],
      "metadata": {
        "colab": {
          "base_uri": "https://localhost:8080/"
        },
        "id": "3BtROuLu9O-p",
        "outputId": "8e6259b8-1d3b-46fa-efec-da316347159c",
        "collapsed": true
      },
      "execution_count": 10,
      "outputs": [
        {
          "output_type": "stream",
          "name": "stdout",
          "text": [
            "\u001b[2K     \u001b[90m━━━━━━━━━━━━━━━━━━━━━━━━━━━━━━━━━━━━━━━━\u001b[0m \u001b[32m12.8/12.8 MB\u001b[0m \u001b[31m52.4 MB/s\u001b[0m eta \u001b[36m0:00:00\u001b[0m\n",
            "\u001b[2K     \u001b[90m━━━━━━━━━━━━━━━━━━━━━━━━━━━━━━━━━━━━━━━━\u001b[0m \u001b[32m49.6/49.6 kB\u001b[0m \u001b[31m5.0 MB/s\u001b[0m eta \u001b[36m0:00:00\u001b[0m\n",
            "\u001b[?25h"
          ]
        }
      ]
    },
    {
      "cell_type": "code",
      "source": [
        "from pyomo.environ import *\n",
        "\n",
        "# Create the model\n",
        "model = ConcreteModel()\n",
        "\n",
        "# Define the parameters\n",
        "model.C = Param(initialize=80)  # Maximum capacity of the mixture tank\n",
        "\n",
        "# Define the decision variables\n",
        "model.x1 = Var(domain=NonNegativeReals)  # Liters of the first liquid component\n",
        "model.x2 = Var(domain=NonNegativeReals)  # Liters of the second liquid component\n",
        "\n",
        "# Define the objective function\n",
        "def quality_rule(model):\n",
        "    return log(model.x1 * model.x2) - (model.x1 + 2 * model.x2) ** (1/3)\n",
        "model.quality = Objective(rule=quality_rule, sense=maximize)\n",
        "\n",
        "# Define the constraints\n",
        "def stability_rule(model):\n",
        "    mean = (model.x1 + model.x2) / 2\n",
        "    return (model.x1 - mean)**2 + (model.x2 - mean)**2 <= 10\n",
        "model.stability = Constraint(rule=stability_rule)\n",
        "\n",
        "def capacity_rule(model):\n",
        "    return model.x1 + model.x2 <= model.C\n",
        "model.capacity = Constraint(rule=capacity_rule)\n",
        "\n",
        "# Solve the optimization problem\n",
        "solver = SolverFactory('ipopt')\n",
        "solver.solve(model)\n",
        "\n",
        "# Print the results\n",
        "print(\"Optimal Solution:\")\n",
        "print(\"x1 =\", value(model.x1))\n",
        "print(\"x2 =\", value(model.x2))\n",
        "print(\"Quality =\", value(model.quality))"
      ],
      "metadata": {
        "colab": {
          "base_uri": "https://localhost:8080/"
        },
        "id": "8FpHcuWU8rQ2",
        "outputId": "45e6548b-e615-4d11-bf72-bc9a133dd21b"
      },
      "execution_count": 11,
      "outputs": [
        {
          "output_type": "stream",
          "name": "stdout",
          "text": [
            "Optimal Solution:\n",
            "x1 = 42.236067853543105\n",
            "x2 = 37.76393234768411\n",
            "Quality = 2.473033919646447\n"
          ]
        }
      ]
    },
    {
      "cell_type": "markdown",
      "source": [
        "# 5. Correct The Model Code to Test Mathematical Model (if applicable)"
      ],
      "metadata": {
        "id": "KHTyoLQTWZVy"
      }
    },
    {
      "cell_type": "code",
      "source": [],
      "metadata": {
        "id": "voCBXWWKA2LO"
      },
      "execution_count": null,
      "outputs": []
    }
  ]
}