{
  "nbformat": 4,
  "nbformat_minor": 0,
  "metadata": {
    "colab": {
      "provenance": []
    },
    "kernelspec": {
      "name": "python3",
      "display_name": "Python 3"
    },
    "language_info": {
      "name": "python"
    }
  },
  "cells": [
    {
      "cell_type": "markdown",
      "source": [
        "# 0. Imports and Setting up Anthropic API Client"
      ],
      "metadata": {
        "id": "y5fw0lkBwBbo"
      }
    },
    {
      "cell_type": "code",
      "source": [
        "from google.colab import drive\n",
        "\n",
        "drive.mount('/content/drive')"
      ],
      "metadata": {
        "colab": {
          "base_uri": "https://localhost:8080/"
        },
        "id": "e7tWOLo0yMoH",
        "outputId": "e9debe1c-ff38-48dc-953e-0e714cfe4060"
      },
      "execution_count": 1,
      "outputs": [
        {
          "output_type": "stream",
          "name": "stdout",
          "text": [
            "Mounted at /content/drive\n"
          ]
        }
      ]
    },
    {
      "cell_type": "code",
      "source": [
        "!pip install python-dotenv\n",
        "\n",
        "import os\n",
        "import dotenv\n",
        "\n",
        "dotenv.load_dotenv('/content/drive/MyDrive/.env')"
      ],
      "metadata": {
        "colab": {
          "base_uri": "https://localhost:8080/"
        },
        "id": "utcEK8lZ1Z1R",
        "outputId": "355198e7-e61c-443e-e522-0aca197e2fc9"
      },
      "execution_count": 2,
      "outputs": [
        {
          "output_type": "stream",
          "name": "stdout",
          "text": [
            "Collecting python-dotenv\n",
            "  Downloading python_dotenv-1.0.1-py3-none-any.whl (19 kB)\n",
            "Installing collected packages: python-dotenv\n",
            "Successfully installed python-dotenv-1.0.1\n"
          ]
        },
        {
          "output_type": "execute_result",
          "data": {
            "text/plain": [
              "True"
            ]
          },
          "metadata": {},
          "execution_count": 2
        }
      ]
    },
    {
      "cell_type": "code",
      "source": [
        "# Load Prompts and Problem Description\n",
        "prompt1_path = '/content/drive/MyDrive/Thesis/Prompts/Prompt1_MathematicalModel.txt'\n",
        "prompt2_path = '/content/drive/MyDrive/Thesis/Prompts/Prompt2_PyomoCode.txt'\n",
        "problem_desc_path = '/content/drive/MyDrive/Thesis/ProblemDescriptions/NL/NL3.txt'\n",
        "\n",
        "prompt1_file = open(prompt1_path, \"r\")\n",
        "prompt2_file = open(prompt2_path, \"r\")\n",
        "problem_desc_file = open(problem_desc_path, \"r\")\n",
        "\n",
        "prompt1 = prompt1_file.read()\n",
        "print(\"Prompt 1:\\n\", prompt1)\n",
        "\n",
        "prompt2 = prompt2_file.read()\n",
        "print(\"Prompt 2:\\n\", prompt2)\n",
        "\n",
        "problem_desc = problem_desc_file.read()\n",
        "print(\"Problem Description:\\n\", problem_desc)"
      ],
      "metadata": {
        "colab": {
          "base_uri": "https://localhost:8080/"
        },
        "id": "9KlkjwMUS4xp",
        "outputId": "84112657-1f88-4ce8-d743-7b02754b2b8f"
      },
      "execution_count": 6,
      "outputs": [
        {
          "output_type": "stream",
          "name": "stdout",
          "text": [
            "Prompt 1:\n",
            " Please write a mathematical optimization model for this problem. Include parameters, decision variables, the objective function and the constraints in your answer.\n",
            "Prompt 2:\n",
            " Please write a python pyomo code for this optimization problem.\n",
            "Use sample data where needed.\n",
            "Indicate where you use sample data.\n",
            "Problem Description:\n",
            " A buyer needs to acquire 239,600,480 units of a product and is considering bids from five suppliers, labeled A through E, each of whom can only supply a portion of the total required amount.\n",
            "Each vendor has proposed different pricing structures, incorporating both setup fees and variable unit costs that change based on the quantity ordered.\n",
            "\n",
            "The buyer's objective is to allocate the order among these suppliers to minimize overall costs, accounting for both setup and unit costs.\n",
            "\n",
            "Vendor A offers a set up cost of $3855.34 and a unit cost of $61.150 per thousand of units.\n",
            "Vendor A can supply up to 33 million units.\n",
            "\n",
            "Vendor B offers a set up cost of $125,804.84 if purchasing between 22,000,000-70,000,000 units from vendor B with a unit cost of $68.099 per thousand units.\n",
            "If purchasing between 70,000,001-100,000,000 units from vendor B, the set up cost increases to $269304.84 and the unit cost sinks to $66.049 per thousand units.\n",
            "If purchasing between 100,000,001-150,000,000 units from vendor B, the unit cost per thousand units further decreases to $64.099, but the set up cost increases to $464304.84.\n",
            "If purchasing between 150,000,001 and 160,000,000 units from vendor B, the unit cost is $62.119 per thousand units and the set up cost equals $761304.84.\n",
            "\n",
            "Vendor C offers set up costs of $13,456.00 and a unit cost of $62.019 per thousand units.\n",
            "Vendor C can supply up to 165.6 million units. Vendor D offers set up costs of $6,583.98 and a unit cost of $72.488 for a set of thousand units.\n",
            "\n",
            "Vendor D can supply up to 12 million units at a price of $72.488 per thousand units and with a set up cost of $6583.98.\n",
            "\n",
            "Vendor E offers free set up if purchasing between 0 and 42 million units of vendor E with a unit price of $70.150 per thousand units.\n",
            "If purchasing between 42,000,001 and 77 million units from vendor E, the unit cost starts at $68.150 per thousand units, but with every one million units purchased the price decreases at a rate of 0.05 percent. An additional set up cost of $84000 will be charged as well.\n",
            "\n",
            "Note that zero units may be purchased from vendor B: otherwise no positive number of units less than 22,000,000 may be purchased.\n"
          ]
        }
      ]
    },
    {
      "cell_type": "code",
      "source": [
        "!pip install anthropic"
      ],
      "metadata": {
        "colab": {
          "base_uri": "https://localhost:8080/"
        },
        "id": "iWlNsTIvxCcR",
        "outputId": "2789b09b-a81d-432d-a257-2d2ac2015cf2",
        "collapsed": true
      },
      "execution_count": 4,
      "outputs": [
        {
          "output_type": "stream",
          "name": "stdout",
          "text": [
            "Collecting anthropic\n",
            "  Downloading anthropic-0.26.0-py3-none-any.whl (877 kB)\n",
            "\u001b[2K     \u001b[90m━━━━━━━━━━━━━━━━━━━━━━━━━━━━━━━━━━━━━━━━\u001b[0m \u001b[32m877.7/877.7 kB\u001b[0m \u001b[31m5.6 MB/s\u001b[0m eta \u001b[36m0:00:00\u001b[0m\n",
            "\u001b[?25hRequirement already satisfied: anyio<5,>=3.5.0 in /usr/local/lib/python3.10/dist-packages (from anthropic) (3.7.1)\n",
            "Requirement already satisfied: distro<2,>=1.7.0 in /usr/lib/python3/dist-packages (from anthropic) (1.7.0)\n",
            "Collecting httpx<1,>=0.23.0 (from anthropic)\n",
            "  Downloading httpx-0.27.0-py3-none-any.whl (75 kB)\n",
            "\u001b[2K     \u001b[90m━━━━━━━━━━━━━━━━━━━━━━━━━━━━━━━━━━━━━━━━\u001b[0m \u001b[32m75.6/75.6 kB\u001b[0m \u001b[31m8.8 MB/s\u001b[0m eta \u001b[36m0:00:00\u001b[0m\n",
            "\u001b[?25hRequirement already satisfied: pydantic<3,>=1.9.0 in /usr/local/lib/python3.10/dist-packages (from anthropic) (2.7.1)\n",
            "Requirement already satisfied: sniffio in /usr/local/lib/python3.10/dist-packages (from anthropic) (1.3.1)\n",
            "Requirement already satisfied: tokenizers>=0.13.0 in /usr/local/lib/python3.10/dist-packages (from anthropic) (0.19.1)\n",
            "Requirement already satisfied: typing-extensions<5,>=4.7 in /usr/local/lib/python3.10/dist-packages (from anthropic) (4.11.0)\n",
            "Requirement already satisfied: idna>=2.8 in /usr/local/lib/python3.10/dist-packages (from anyio<5,>=3.5.0->anthropic) (3.7)\n",
            "Requirement already satisfied: exceptiongroup in /usr/local/lib/python3.10/dist-packages (from anyio<5,>=3.5.0->anthropic) (1.2.1)\n",
            "Requirement already satisfied: certifi in /usr/local/lib/python3.10/dist-packages (from httpx<1,>=0.23.0->anthropic) (2024.2.2)\n",
            "Collecting httpcore==1.* (from httpx<1,>=0.23.0->anthropic)\n",
            "  Downloading httpcore-1.0.5-py3-none-any.whl (77 kB)\n",
            "\u001b[2K     \u001b[90m━━━━━━━━━━━━━━━━━━━━━━━━━━━━━━━━━━━━━━━━\u001b[0m \u001b[32m77.9/77.9 kB\u001b[0m \u001b[31m7.1 MB/s\u001b[0m eta \u001b[36m0:00:00\u001b[0m\n",
            "\u001b[?25hCollecting h11<0.15,>=0.13 (from httpcore==1.*->httpx<1,>=0.23.0->anthropic)\n",
            "  Downloading h11-0.14.0-py3-none-any.whl (58 kB)\n",
            "\u001b[2K     \u001b[90m━━━━━━━━━━━━━━━━━━━━━━━━━━━━━━━━━━━━━━━━\u001b[0m \u001b[32m58.3/58.3 kB\u001b[0m \u001b[31m5.7 MB/s\u001b[0m eta \u001b[36m0:00:00\u001b[0m\n",
            "\u001b[?25hRequirement already satisfied: annotated-types>=0.4.0 in /usr/local/lib/python3.10/dist-packages (from pydantic<3,>=1.9.0->anthropic) (0.6.0)\n",
            "Requirement already satisfied: pydantic-core==2.18.2 in /usr/local/lib/python3.10/dist-packages (from pydantic<3,>=1.9.0->anthropic) (2.18.2)\n",
            "Requirement already satisfied: huggingface-hub<1.0,>=0.16.4 in /usr/local/lib/python3.10/dist-packages (from tokenizers>=0.13.0->anthropic) (0.20.3)\n",
            "Requirement already satisfied: filelock in /usr/local/lib/python3.10/dist-packages (from huggingface-hub<1.0,>=0.16.4->tokenizers>=0.13.0->anthropic) (3.14.0)\n",
            "Requirement already satisfied: fsspec>=2023.5.0 in /usr/local/lib/python3.10/dist-packages (from huggingface-hub<1.0,>=0.16.4->tokenizers>=0.13.0->anthropic) (2023.6.0)\n",
            "Requirement already satisfied: requests in /usr/local/lib/python3.10/dist-packages (from huggingface-hub<1.0,>=0.16.4->tokenizers>=0.13.0->anthropic) (2.31.0)\n",
            "Requirement already satisfied: tqdm>=4.42.1 in /usr/local/lib/python3.10/dist-packages (from huggingface-hub<1.0,>=0.16.4->tokenizers>=0.13.0->anthropic) (4.66.4)\n",
            "Requirement already satisfied: pyyaml>=5.1 in /usr/local/lib/python3.10/dist-packages (from huggingface-hub<1.0,>=0.16.4->tokenizers>=0.13.0->anthropic) (6.0.1)\n",
            "Requirement already satisfied: packaging>=20.9 in /usr/local/lib/python3.10/dist-packages (from huggingface-hub<1.0,>=0.16.4->tokenizers>=0.13.0->anthropic) (24.0)\n",
            "Requirement already satisfied: charset-normalizer<4,>=2 in /usr/local/lib/python3.10/dist-packages (from requests->huggingface-hub<1.0,>=0.16.4->tokenizers>=0.13.0->anthropic) (3.3.2)\n",
            "Requirement already satisfied: urllib3<3,>=1.21.1 in /usr/local/lib/python3.10/dist-packages (from requests->huggingface-hub<1.0,>=0.16.4->tokenizers>=0.13.0->anthropic) (2.0.7)\n",
            "Installing collected packages: h11, httpcore, httpx, anthropic\n",
            "Successfully installed anthropic-0.26.0 h11-0.14.0 httpcore-1.0.5 httpx-0.27.0\n"
          ]
        }
      ]
    },
    {
      "cell_type": "code",
      "execution_count": 5,
      "metadata": {
        "id": "7Qjk2D63v1Bl"
      },
      "outputs": [],
      "source": [
        "# Importing Anthropic & Setting Headers\n",
        "import anthropic\n",
        "\n",
        "client = anthropic.Anthropic(\n",
        "    # defaults to os.environ.get(\"ANTHROPIC_API_KEY\")\n",
        "    api_key=os.environ.get(\"ANTHROPIC_API_KEY\"),\n",
        ")"
      ]
    },
    {
      "cell_type": "markdown",
      "source": [
        "# 1. Prompt 1: Create Mathematical Model"
      ],
      "metadata": {
        "id": "kT7yKbJs18XR"
      }
    },
    {
      "cell_type": "code",
      "source": [
        "message = client.messages.create(\n",
        "    model=\"claude-3-opus-20240229\",\n",
        "    system=prompt1,\n",
        "    max_tokens=4096,\n",
        "    messages=[\n",
        "        {\"role\": \"user\", \"content\": problem_desc}\n",
        "    ]\n",
        ")\n",
        "\n",
        "response_p1 = message.content[0].text"
      ],
      "metadata": {
        "id": "R_6X0axq16D4"
      },
      "execution_count": 7,
      "outputs": []
    },
    {
      "cell_type": "code",
      "source": [
        "# Print response\n",
        "print(response_p1)"
      ],
      "metadata": {
        "colab": {
          "base_uri": "https://localhost:8080/"
        },
        "id": "Ra9Ox_PI38jg",
        "outputId": "a615dca8-5368-48f9-c2c8-7adcd9810813"
      },
      "execution_count": 8,
      "outputs": [
        {
          "output_type": "stream",
          "name": "stdout",
          "text": [
            "Here is a mathematical optimization model for this problem:\n",
            "\n",
            "Parameters:\n",
            "- T: Total number of units required (239,600,480)\n",
            "\n",
            "For each vendor i (A, B, C, D, E):\n",
            "- Ci: Setup cost for vendor i\n",
            "- Pi: Unit cost per thousand units for vendor i\n",
            "- Ui: Maximum number of units that can be supplied by vendor i\n",
            "\n",
            "For vendor B:\n",
            "- CB1, CB2, CB3, CB4: Setup costs for different quantity ranges\n",
            "- PB1, PB2, PB3, PB4: Unit costs per thousand units for different quantity ranges\n",
            "- LB1, LB2, LB3, LB4: Lower bounds for different quantity ranges\n",
            "- UB1, UB2, UB3, UB4: Upper bounds for different quantity ranges\n",
            "\n",
            "For vendor E:\n",
            "- PE1: Unit cost per thousand units for quantity range 1\n",
            "- PE2_base: Base unit cost per thousand units for quantity range 2\n",
            "- PE2_dec: Percentage decrease in unit cost per million units for quantity range 2\n",
            "- LE1, LE2: Lower bounds for different quantity ranges\n",
            "- UE1, UE2: Upper bounds for different quantity ranges\n",
            "\n",
            "Decision Variables:\n",
            "- xi: Number of units to be purchased from vendor i (continuous)\n",
            "- yB1, yB2, yB3, yB4: Binary variables indicating the selected quantity range for vendor B\n",
            "- yE1, yE2: Binary variables indicating the selected quantity range for vendor E\n",
            "\n",
            "Objective Function:\n",
            "Minimize: \n",
            "CA * xA + \n",
            "CB1 * yB1 + CB2 * yB2 + CB3 * yB3 + CB4 * yB4 + \n",
            "(PB1 * xB * yB1 + PB2 * xB * yB2 + PB3 * xB * yB3 + PB4 * xB * yB4) / 1000 + \n",
            "CC * xC + \n",
            "CD * xD + \n",
            "(PE1 * xE * yE1 + (PE2_base - PE2_dec * (xE - LE2) / 1000000) * xE * yE2) / 1000\n",
            "\n",
            "Constraints:\n",
            "1. Total quantity purchased must equal the required amount:\n",
            "   xA + xB + xC + xD + xE = T\n",
            "\n",
            "2. Quantity purchased from each vendor must be within their capacity:\n",
            "   xA <= UA\n",
            "   xB <= UB4\n",
            "   xC <= UC\n",
            "   xD <= UD\n",
            "   xE <= UE2\n",
            "\n",
            "3. Only one quantity range can be selected for vendor B:\n",
            "   yB1 + yB2 + yB3 + yB4 = 1\n",
            "   LB1 * yB1 <= xB <= UB1 * yB1\n",
            "   LB2 * yB2 <= xB <= UB2 * yB2\n",
            "   LB3 * yB3 <= xB <= UB3 * yB3\n",
            "   LB4 * yB4 <= xB <= UB4 * yB4\n",
            "\n",
            "4. Only one quantity range can be selected for vendor E:\n",
            "   yE1 + yE2 = 1\n",
            "   LE1 * yE1 <= xE <= UE1 * yE1\n",
            "   LE2 * yE2 <= xE <= UE2 * yE2\n",
            "\n",
            "5. Non-negativity constraints:\n",
            "   xA, xB, xC, xD, xE >= 0\n",
            "   yB1, yB2, yB3, yB4, yE1, yE2 are binary variables\n"
          ]
        }
      ]
    },
    {
      "cell_type": "markdown",
      "source": [
        "# 2. Prompt 2: Write Code based on Mathematical Model"
      ],
      "metadata": {
        "id": "WPZ6lgBO729j"
      }
    },
    {
      "cell_type": "code",
      "source": [
        "message2 = client.messages.create(\n",
        "    model=\"claude-3-opus-20240229\",\n",
        "    system=prompt2,\n",
        "    max_tokens=4069,\n",
        "    messages=[\n",
        "        {\"role\": \"user\", \"content\": response_p1}\n",
        "    ]\n",
        ")\n",
        "\n",
        "response_p2 = message2.content[0].text"
      ],
      "metadata": {
        "id": "1iUSgBda70FL"
      },
      "execution_count": 9,
      "outputs": []
    },
    {
      "cell_type": "code",
      "source": [
        "# Print response\n",
        "print(response_p2)"
      ],
      "metadata": {
        "colab": {
          "base_uri": "https://localhost:8080/"
        },
        "id": "o40mxc_H8eQ9",
        "outputId": "607cea76-647d-48e7-a379-25a891551c99"
      },
      "execution_count": 10,
      "outputs": [
        {
          "output_type": "stream",
          "name": "stdout",
          "text": [
            "Here's the Python Pyomo code for the optimization problem:\n",
            "\n",
            "```python\n",
            "from pyomo.environ import *\n",
            "\n",
            "# Create a Pyomo model\n",
            "model = ConcreteModel()\n",
            "\n",
            "# Define parameters\n",
            "model.T = Param(initialize=239600480)  # Sample data: Total number of units required\n",
            "\n",
            "# Vendor A parameters\n",
            "model.CA = Param(initialize=400000)  # Sample data: Setup cost for vendor A\n",
            "model.PA = Param(initialize=8.5)  # Sample data: Unit cost per thousand units for vendor A\n",
            "model.UA = Param(initialize=50000000)  # Sample data: Maximum number of units that can be supplied by vendor A\n",
            "\n",
            "# Vendor B parameters\n",
            "model.CB1 = Param(initialize=280000)  # Sample data: Setup cost for quantity range 1\n",
            "model.CB2 = Param(initialize=350000)  # Sample data: Setup cost for quantity range 2\n",
            "model.CB3 = Param(initialize=400000)  # Sample data: Setup cost for quantity range 3\n",
            "model.CB4 = Param(initialize=450000)  # Sample data: Setup cost for quantity range 4\n",
            "model.PB1 = Param(initialize=9.3)  # Sample data: Unit cost per thousand units for quantity range 1\n",
            "model.PB2 = Param(initialize=8.8)  # Sample data: Unit cost per thousand units for quantity range 2\n",
            "model.PB3 = Param(initialize=8.1)  # Sample data: Unit cost per thousand units for quantity range 3\n",
            "model.PB4 = Param(initialize=7.5)  # Sample data: Unit cost per thousand units for quantity range 4\n",
            "model.LB1 = Param(initialize=1)  # Sample data: Lower bound for quantity range 1\n",
            "model.LB2 = Param(initialize=50000001)  # Sample data: Lower bound for quantity range 2\n",
            "model.LB3 = Param(initialize=100000001)  # Sample data: Lower bound for quantity range 3\n",
            "model.LB4 = Param(initialize=150000001)  # Sample data: Lower bound for quantity range 4\n",
            "model.UB1 = Param(initialize=50000000)  # Sample data: Upper bound for quantity range 1\n",
            "model.UB2 = Param(initialize=100000000)  # Sample data: Upper bound for quantity range 2\n",
            "model.UB3 = Param(initialize=150000000)  # Sample data: Upper bound for quantity range 3\n",
            "model.UB4 = Param(initialize=200000000)  # Sample data: Upper bound for quantity range 4\n",
            "\n",
            "# Vendor C parameters\n",
            "model.CC = Param(initialize=420000)  # Sample data: Setup cost for vendor C\n",
            "model.PC = Param(initialize=7.2)  # Sample data: Unit cost per thousand units for vendor C\n",
            "model.UC = Param(initialize=30000000)  # Sample data: Maximum number of units that can be supplied by vendor C\n",
            "\n",
            "# Vendor D parameters\n",
            "model.CD = Param(initialize=250000)  # Sample data: Setup cost for vendor D\n",
            "model.PD = Param(initialize=10.5)  # Sample data: Unit cost per thousand units for vendor D\n",
            "model.UD = Param(initialize=40000000)  # Sample data: Maximum number of units that can be supplied by vendor D\n",
            "\n",
            "# Vendor E parameters\n",
            "model.PE1 = Param(initialize=11.0)  # Sample data: Unit cost per thousand units for quantity range 1\n",
            "model.PE2_base = Param(initialize=10.0)  # Sample data: Base unit cost per thousand units for quantity range 2\n",
            "model.PE2_dec = Param(initialize=0.2)  # Sample data: Percentage decrease in unit cost per million units for quantity range 2\n",
            "model.LE1 = Param(initialize=1)  # Sample data: Lower bound for quantity range 1\n",
            "model.LE2 = Param(initialize=20000001)  # Sample data: Lower bound for quantity range 2\n",
            "model.UE1 = Param(initialize=20000000)  # Sample data: Upper bound for quantity range 1\n",
            "model.UE2 = Param(initialize=50000000)  # Sample data: Upper bound for quantity range 2\n",
            "\n",
            "# Define decision variables\n",
            "model.xA = Var(domain=NonNegativeReals)\n",
            "model.xB = Var(domain=NonNegativeReals)\n",
            "model.xC = Var(domain=NonNegativeReals)\n",
            "model.xD = Var(domain=NonNegativeReals)\n",
            "model.xE = Var(domain=NonNegativeReals)\n",
            "model.yB1 = Var(domain=Binary)\n",
            "model.yB2 = Var(domain=Binary)\n",
            "model.yB3 = Var(domain=Binary)\n",
            "model.yB4 = Var(domain=Binary)\n",
            "model.yE1 = Var(domain=Binary)\n",
            "model.yE2 = Var(domain=Binary)\n",
            "\n",
            "# Define objective function\n",
            "def obj_rule(model):\n",
            "    return (\n",
            "        model.CA * model.xA +\n",
            "        model.CB1 * model.yB1 + model.CB2 * model.yB2 + model.CB3 * model.yB3 + model.CB4 * model.yB4 +\n",
            "        (model.PB1 * model.xB * model.yB1 + model.PB2 * model.xB * model.yB2 +\n",
            "         model.PB3 * model.xB * model.yB3 + model.PB4 * model.xB * model.yB4) / 1000 +\n",
            "        model.CC * model.xC +\n",
            "        model.CD * model.xD +\n",
            "        (model.PE1 * model.xE * model.yE1 +\n",
            "         (model.PE2_base - model.PE2_dec * (model.xE - model.LE2) / 1000000) * model.xE * model.yE2) / 1000\n",
            "    )\n",
            "model.obj = Objective(rule=obj_rule, sense=minimize)\n",
            "\n",
            "# Define constraints\n",
            "model.total_quantity = Constraint(expr=model.xA + model.xB + model.xC + model.xD + model.xE == model.T)\n",
            "model.vendor_capacity_A = Constraint(expr=model.xA <= model.UA)\n",
            "model.vendor_capacity_B = Constraint(expr=model.xB <= model.UB4)\n",
            "model.vendor_capacity_C = Constraint(expr=model.xC <= model.UC)\n",
            "model.vendor_capacity_D = Constraint(expr=model.xD <= model.UD)\n",
            "model.vendor_capacity_E = Constraint(expr=model.xE <= model.UE2)\n",
            "model.vendor_B_range = Constraint(expr=model.yB1 + model.yB2 + model.yB3 + model.yB4 == 1)\n",
            "model.vendor_B_range_1 = Constraint(expr=model.LB1 * model.yB1 <= model.xB <= model.UB1 * model.yB1)\n",
            "model.vendor_B_range_2 = Constraint(expr=model.LB2 * model.yB2 <= model.xB <= model.UB2 * model.yB2)\n",
            "model.vendor_B_range_3 = Constraint(expr=model.LB3 * model.yB3 <= model.xB <= model.UB3 * model.yB3)\n",
            "model.vendor_B_range_4 = Constraint(expr=model.LB4 * model.yB4 <= model.xB <= model.UB4 * model.yB4)\n",
            "model.vendor_E_range = Constraint(expr=model.yE1 + model.yE2 == 1)\n",
            "model.vendor_E_range_1 = Constraint(expr=model.LE1 * model.yE1 <= model.xE <= model.UE1 * model.yE1)\n",
            "model.vendor_E_range_2 = Constraint(expr=model.LE2 * model.yE2 <= model.xE <= model.UE2 * model.yE2)\n",
            "\n",
            "# Solve the optimization problem\n",
            "solver = SolverFactory('glpk')\n",
            "solver.solve(model)\n",
            "\n",
            "# Print the optimal solution\n",
            "print(\"Optimal solution:\")\n",
            "print(\"xA =\", model.xA.value)\n",
            "print(\"xB =\", model.xB.value)\n",
            "print(\"xC =\", model.xC.value)\n",
            "print(\"xD =\", model.xD.value)\n",
            "print(\"xE =\", model.xE.value)\n",
            "print(\"yB1 =\", model.yB1.value)\n",
            "print(\"yB2 =\", model.yB2.value)\n",
            "print(\"yB3 =\", model.yB3.value)\n",
            "print(\"yB4 =\", model.yB4.value)\n",
            "print(\"yE1 =\", model.yE1.value)\n",
            "print(\"yE2 =\", model.yE2.value)\n",
            "print(\"Minimum total cost:\", model.obj())\n",
            "```\n",
            "\n",
            "Note: The sample data used in this code is indicated by comments. You can replace these values with the actual data for your problem.\n",
            "\n",
            "To run this code, make sure you have Pyomo and a suitable solver (e.g., GLPK) installed. The code will solve the optimization problem and print the optimal solution, including the quantity purchased from each vendor, the selected quantity ranges for vendors B and E, and the minimum total cost.\n"
          ]
        }
      ]
    },
    {
      "cell_type": "markdown",
      "source": [
        "# 4. Input Problem Data and Test Model Code"
      ],
      "metadata": {
        "id": "Pc0QqJuf8up_"
      }
    },
    {
      "cell_type": "code",
      "source": [
        "%%capture\n",
        "import sys\n",
        "import os\n",
        "\n",
        "if 'google.colab' in sys.modules:\n",
        "    !pip install idaes-pse --pre\n",
        "    !idaes get-extensions --to ./bin\n",
        "    os.environ['PATH'] += ':bin'"
      ],
      "metadata": {
        "id": "3BtROuLu9O-p",
        "collapsed": true
      },
      "execution_count": 11,
      "outputs": []
    },
    {
      "cell_type": "code",
      "source": [
        "from pyomo.environ import *\n",
        "\n",
        "# Create a Pyomo model\n",
        "model = ConcreteModel()\n",
        "\n",
        "# Define parameters\n",
        "model.T = Param(initialize=239600480)  # Sample data: Total number of units required\n",
        "\n",
        "# Vendor A parameters\n",
        "model.CA = Param(initialize=3855.34)  # Sample data: Setup cost for vendor A\n",
        "model.PA = Param(initialize=61.150)  # Sample data: Unit cost per thousand units for vendor A\n",
        "model.UA = Param(initialize=33000000)  # Sample data: Maximum number of units that can be supplied by vendor A\n",
        "\n",
        "# Vendor B parameters\n",
        "model.CB1 = Param(initialize=125804.84)  # Sample data: Setup cost for quantity range 1\n",
        "model.CB2 = Param(initialize=269304.84)  # Sample data: Setup cost for quantity range 2\n",
        "model.CB3 = Param(initialize=464304.84)  # Sample data: Setup cost for quantity range 3\n",
        "model.CB4 = Param(initialize=761304)  # Sample data: Setup cost for quantity range 4\n",
        "model.PB1 = Param(initialize=68.099)  # Sample data: Unit cost per thousand units for quantity range 1\n",
        "model.PB2 = Param(initialize=66.049)  # Sample data: Unit cost per thousand units for quantity range 2\n",
        "model.PB3 = Param(initialize=64.099)  # Sample data: Unit cost per thousand units for quantity range 3\n",
        "model.PB4 = Param(initialize=62.119)  # Sample data: Unit cost per thousand units for quantity range 4\n",
        "model.LB1 = Param(initialize=22000000)  # Sample data: Lower bound for quantity range 1\n",
        "model.LB2 = Param(initialize=70000001)  # Sample data: Lower bound for quantity range 2\n",
        "model.LB3 = Param(initialize=100000001)  # Sample data: Lower bound for quantity range 3\n",
        "model.LB4 = Param(initialize=150000001)  # Sample data: Lower bound for quantity range 4\n",
        "model.UB1 = Param(initialize=70000000)  # Sample data: Upper bound for quantity range 1\n",
        "model.UB2 = Param(initialize=100000000)  # Sample data: Upper bound for quantity range 2\n",
        "model.UB3 = Param(initialize=150000000)  # Sample data: Upper bound for quantity range 3\n",
        "model.UB4 = Param(initialize=1600000000)  # Sample data: Upper bound for quantity range 4\n",
        "\n",
        "# Vendor C parameters\n",
        "model.CC = Param(initialize=13456.00)  # Sample data: Setup cost for vendor C\n",
        "model.PC = Param(initialize=62.019)  # Sample data: Unit cost per thousand units for vendor C\n",
        "model.UC = Param(initialize=165600000)  # Sample data: Maximum number of units that can be supplied by vendor C\n",
        "\n",
        "# Vendor D parameters\n",
        "model.CD = Param(initialize=6583.98)  # Sample data: Setup cost for vendor D\n",
        "model.PD = Param(initialize=72.488)  # Sample data: Unit cost per thousand units for vendor D\n",
        "model.UD = Param(initialize=12000000)  # Sample data: Maximum number of units that can be supplied by vendor D\n",
        "\n",
        "# Vendor E parameters\n",
        "model.PE1 = Param(initialize=70.150)  # Sample data: Unit cost per thousand units for quantity range 1\n",
        "model.PE2_base = Param(initialize=68.150)  # Sample data: Base unit cost per thousand units for quantity range 2\n",
        "model.PE2_dec = Param(initialize=0.034075)  # Sample data: Percentage decrease in unit cost per million units for quantity range 2\n",
        "model.LE1 = Param(initialize=0)  # Sample data: Lower bound for quantity range 1\n",
        "model.LE2 = Param(initialize=42000001)  # Sample data: Lower bound for quantity range 2\n",
        "model.UE1 = Param(initialize=42000000)  # Sample data: Upper bound for quantity range 1\n",
        "model.UE2 = Param(initialize=77000000)  # Sample data: Upper bound for quantity range 2\n",
        "\n",
        "# Define decision variables\n",
        "model.xA = Var(domain=NonNegativeReals)\n",
        "model.xB = Var(domain=NonNegativeReals)\n",
        "model.xC = Var(domain=NonNegativeReals)\n",
        "model.xD = Var(domain=NonNegativeReals)\n",
        "model.xE = Var(domain=NonNegativeReals)\n",
        "model.yB1 = Var(domain=Binary)\n",
        "model.yB2 = Var(domain=Binary)\n",
        "model.yB3 = Var(domain=Binary)\n",
        "model.yB4 = Var(domain=Binary)\n",
        "model.yE1 = Var(domain=Binary)\n",
        "model.yE2 = Var(domain=Binary)\n",
        "\n",
        "# Define objective function\n",
        "def obj_rule(model):\n",
        "    return (\n",
        "        model.CA * model.xA +\n",
        "        model.CB1 * model.yB1 + model.CB2 * model.yB2 + model.CB3 * model.yB3 + model.CB4 * model.yB4 +\n",
        "        (model.PB1 * model.xB * model.yB1 + model.PB2 * model.xB * model.yB2 +\n",
        "         model.PB3 * model.xB * model.yB3 + model.PB4 * model.xB * model.yB4) / 1000 +\n",
        "        model.CC * model.xC +\n",
        "        model.CD * model.xD +\n",
        "        (model.PE1 * model.xE * model.yE1 +\n",
        "         (model.PE2_base - model.PE2_dec * (model.xE - model.LE2) / 1000000) * model.xE * model.yE2) / 1000\n",
        "    )\n",
        "model.obj = Objective(rule=obj_rule, sense=minimize)\n",
        "\n",
        "# Define constraints\n",
        "model.total_quantity = Constraint(expr=model.xA + model.xB + model.xC + model.xD + model.xE == model.T)\n",
        "model.vendor_capacity_A = Constraint(expr=model.xA <= model.UA)\n",
        "model.vendor_capacity_B = Constraint(expr=model.xB <= model.UB4)\n",
        "model.vendor_capacity_C = Constraint(expr=model.xC <= model.UC)\n",
        "model.vendor_capacity_D = Constraint(expr=model.xD <= model.UD)\n",
        "model.vendor_capacity_E = Constraint(expr=model.xE <= model.UE2)\n",
        "model.vendor_B_range = Constraint(expr=model.yB1 + model.yB2 + model.yB3 + model.yB4 == 1)\n",
        "model.vendor_B_range_1 = Constraint(expr=model.LB1 * model.yB1 <= model.xB <= model.UB1 * model.yB1)\n",
        "model.vendor_B_range_2 = Constraint(expr=model.LB2 * model.yB2 <= model.xB <= model.UB2 * model.yB2)\n",
        "model.vendor_B_range_3 = Constraint(expr=model.LB3 * model.yB3 <= model.xB <= model.UB3 * model.yB3)\n",
        "model.vendor_B_range_4 = Constraint(expr=model.LB4 * model.yB4 <= model.xB <= model.UB4 * model.yB4)\n",
        "model.vendor_E_range = Constraint(expr=model.yE1 + model.yE2 == 1)\n",
        "model.vendor_E_range_1 = Constraint(expr=model.LE1 * model.yE1 <= model.xE <= model.UE1 * model.yE1)\n",
        "model.vendor_E_range_2 = Constraint(expr=model.LE2 * model.yE2 <= model.xE <= model.UE2 * model.yE2)\n",
        "\n",
        "# Solve the optimization problem\n",
        "solver = SolverFactory('glpk')\n",
        "solver.solve(model)\n",
        "\n",
        "# Print the optimal solution\n",
        "print(\"Optimal solution:\")\n",
        "print(\"xA =\", model.xA.value)\n",
        "print(\"xB =\", model.xB.value)\n",
        "print(\"xC =\", model.xC.value)\n",
        "print(\"xD =\", model.xD.value)\n",
        "print(\"xE =\", model.xE.value)\n",
        "print(\"yB1 =\", model.yB1.value)\n",
        "print(\"yB2 =\", model.yB2.value)\n",
        "print(\"yB3 =\", model.yB3.value)\n",
        "print(\"yB4 =\", model.yB4.value)\n",
        "print(\"yE1 =\", model.yE1.value)\n",
        "print(\"yE2 =\", model.yE2.value)\n",
        "print(\"Minimum total cost:\", model.obj())"
      ],
      "metadata": {
        "colab": {
          "base_uri": "https://localhost:8080/",
          "height": 523
        },
        "id": "8FpHcuWU8rQ2",
        "outputId": "1ae666de-54ad-4cc7-a00c-eda051066258"
      },
      "execution_count": 12,
      "outputs": [
        {
          "output_type": "error",
          "ename": "PyomoException",
          "evalue": "Cannot convert non-constant Pyomo expression (22000000*yB1  <=  xB) to bool.\nThis error is usually caused by using a Var, unit, or mutable Param in a\nBoolean context such as an \"if\" statement, or when checking container\nmembership or equality. For example,\n    >>> m.x = Var()\n    >>> if m.x >= 1:\n    ...     pass\nand\n    >>> m.y = Var()\n    >>> if m.y in [m.x, m.y]:\n    ...     pass\nwould both cause this exception.",
          "traceback": [
            "\u001b[0;31m---------------------------------------------------------------------------\u001b[0m",
            "\u001b[0;31mPyomoException\u001b[0m                            Traceback (most recent call last)",
            "\u001b[0;32m<ipython-input-12-7a20303882a7>\u001b[0m in \u001b[0;36m<cell line: 86>\u001b[0;34m()\u001b[0m\n\u001b[1;32m     84\u001b[0m \u001b[0mmodel\u001b[0m\u001b[0;34m.\u001b[0m\u001b[0mvendor_capacity_E\u001b[0m \u001b[0;34m=\u001b[0m \u001b[0mConstraint\u001b[0m\u001b[0;34m(\u001b[0m\u001b[0mexpr\u001b[0m\u001b[0;34m=\u001b[0m\u001b[0mmodel\u001b[0m\u001b[0;34m.\u001b[0m\u001b[0mxE\u001b[0m \u001b[0;34m<=\u001b[0m \u001b[0mmodel\u001b[0m\u001b[0;34m.\u001b[0m\u001b[0mUE2\u001b[0m\u001b[0;34m)\u001b[0m\u001b[0;34m\u001b[0m\u001b[0;34m\u001b[0m\u001b[0m\n\u001b[1;32m     85\u001b[0m \u001b[0mmodel\u001b[0m\u001b[0;34m.\u001b[0m\u001b[0mvendor_B_range\u001b[0m \u001b[0;34m=\u001b[0m \u001b[0mConstraint\u001b[0m\u001b[0;34m(\u001b[0m\u001b[0mexpr\u001b[0m\u001b[0;34m=\u001b[0m\u001b[0mmodel\u001b[0m\u001b[0;34m.\u001b[0m\u001b[0myB1\u001b[0m \u001b[0;34m+\u001b[0m \u001b[0mmodel\u001b[0m\u001b[0;34m.\u001b[0m\u001b[0myB2\u001b[0m \u001b[0;34m+\u001b[0m \u001b[0mmodel\u001b[0m\u001b[0;34m.\u001b[0m\u001b[0myB3\u001b[0m \u001b[0;34m+\u001b[0m \u001b[0mmodel\u001b[0m\u001b[0;34m.\u001b[0m\u001b[0myB4\u001b[0m \u001b[0;34m==\u001b[0m \u001b[0;36m1\u001b[0m\u001b[0;34m)\u001b[0m\u001b[0;34m\u001b[0m\u001b[0;34m\u001b[0m\u001b[0m\n\u001b[0;32m---> 86\u001b[0;31m \u001b[0mmodel\u001b[0m\u001b[0;34m.\u001b[0m\u001b[0mvendor_B_range_1\u001b[0m \u001b[0;34m=\u001b[0m \u001b[0mConstraint\u001b[0m\u001b[0;34m(\u001b[0m\u001b[0mexpr\u001b[0m\u001b[0;34m=\u001b[0m\u001b[0mmodel\u001b[0m\u001b[0;34m.\u001b[0m\u001b[0mLB1\u001b[0m \u001b[0;34m*\u001b[0m \u001b[0mmodel\u001b[0m\u001b[0;34m.\u001b[0m\u001b[0myB1\u001b[0m \u001b[0;34m<=\u001b[0m \u001b[0mmodel\u001b[0m\u001b[0;34m.\u001b[0m\u001b[0mxB\u001b[0m \u001b[0;34m<=\u001b[0m \u001b[0mmodel\u001b[0m\u001b[0;34m.\u001b[0m\u001b[0mUB1\u001b[0m \u001b[0;34m*\u001b[0m \u001b[0mmodel\u001b[0m\u001b[0;34m.\u001b[0m\u001b[0myB1\u001b[0m\u001b[0;34m)\u001b[0m\u001b[0;34m\u001b[0m\u001b[0;34m\u001b[0m\u001b[0m\n\u001b[0m\u001b[1;32m     87\u001b[0m \u001b[0mmodel\u001b[0m\u001b[0;34m.\u001b[0m\u001b[0mvendor_B_range_2\u001b[0m \u001b[0;34m=\u001b[0m \u001b[0mConstraint\u001b[0m\u001b[0;34m(\u001b[0m\u001b[0mexpr\u001b[0m\u001b[0;34m=\u001b[0m\u001b[0mmodel\u001b[0m\u001b[0;34m.\u001b[0m\u001b[0mLB2\u001b[0m \u001b[0;34m*\u001b[0m \u001b[0mmodel\u001b[0m\u001b[0;34m.\u001b[0m\u001b[0myB2\u001b[0m \u001b[0;34m<=\u001b[0m \u001b[0mmodel\u001b[0m\u001b[0;34m.\u001b[0m\u001b[0mxB\u001b[0m \u001b[0;34m<=\u001b[0m \u001b[0mmodel\u001b[0m\u001b[0;34m.\u001b[0m\u001b[0mUB2\u001b[0m \u001b[0;34m*\u001b[0m \u001b[0mmodel\u001b[0m\u001b[0;34m.\u001b[0m\u001b[0myB2\u001b[0m\u001b[0;34m)\u001b[0m\u001b[0;34m\u001b[0m\u001b[0;34m\u001b[0m\u001b[0m\n\u001b[1;32m     88\u001b[0m \u001b[0mmodel\u001b[0m\u001b[0;34m.\u001b[0m\u001b[0mvendor_B_range_3\u001b[0m \u001b[0;34m=\u001b[0m \u001b[0mConstraint\u001b[0m\u001b[0;34m(\u001b[0m\u001b[0mexpr\u001b[0m\u001b[0;34m=\u001b[0m\u001b[0mmodel\u001b[0m\u001b[0;34m.\u001b[0m\u001b[0mLB3\u001b[0m \u001b[0;34m*\u001b[0m \u001b[0mmodel\u001b[0m\u001b[0;34m.\u001b[0m\u001b[0myB3\u001b[0m \u001b[0;34m<=\u001b[0m \u001b[0mmodel\u001b[0m\u001b[0;34m.\u001b[0m\u001b[0mxB\u001b[0m \u001b[0;34m<=\u001b[0m \u001b[0mmodel\u001b[0m\u001b[0;34m.\u001b[0m\u001b[0mUB3\u001b[0m \u001b[0;34m*\u001b[0m \u001b[0mmodel\u001b[0m\u001b[0;34m.\u001b[0m\u001b[0myB3\u001b[0m\u001b[0;34m)\u001b[0m\u001b[0;34m\u001b[0m\u001b[0;34m\u001b[0m\u001b[0m\n",
            "\u001b[0;32m/usr/local/lib/python3.10/dist-packages/pyomo/core/expr/relational_expr.py\u001b[0m in \u001b[0;36m__bool__\u001b[0;34m(self)\u001b[0m\n\u001b[1;32m     45\u001b[0m         \u001b[0;32mif\u001b[0m \u001b[0mself\u001b[0m\u001b[0;34m.\u001b[0m\u001b[0mis_constant\u001b[0m\u001b[0;34m(\u001b[0m\u001b[0;34m)\u001b[0m\u001b[0;34m:\u001b[0m\u001b[0;34m\u001b[0m\u001b[0;34m\u001b[0m\u001b[0m\n\u001b[1;32m     46\u001b[0m             \u001b[0;32mreturn\u001b[0m \u001b[0mbool\u001b[0m\u001b[0;34m(\u001b[0m\u001b[0mself\u001b[0m\u001b[0;34m(\u001b[0m\u001b[0;34m)\u001b[0m\u001b[0;34m)\u001b[0m\u001b[0;34m\u001b[0m\u001b[0;34m\u001b[0m\u001b[0m\n\u001b[0;32m---> 47\u001b[0;31m         raise PyomoException(\n\u001b[0m\u001b[1;32m     48\u001b[0m             \"\"\"\n\u001b[1;32m     49\u001b[0m \u001b[0mCannot\u001b[0m \u001b[0mconvert\u001b[0m \u001b[0mnon\u001b[0m\u001b[0;34m-\u001b[0m\u001b[0mconstant\u001b[0m \u001b[0mPyomo\u001b[0m \u001b[0mexpression\u001b[0m \u001b[0;34m(\u001b[0m\u001b[0;34m%\u001b[0m\u001b[0ms\u001b[0m\u001b[0;34m)\u001b[0m \u001b[0mto\u001b[0m \u001b[0mbool\u001b[0m\u001b[0;34m.\u001b[0m\u001b[0;34m\u001b[0m\u001b[0;34m\u001b[0m\u001b[0m\n",
            "\u001b[0;31mPyomoException\u001b[0m: Cannot convert non-constant Pyomo expression (22000000*yB1  <=  xB) to bool.\nThis error is usually caused by using a Var, unit, or mutable Param in a\nBoolean context such as an \"if\" statement, or when checking container\nmembership or equality. For example,\n    >>> m.x = Var()\n    >>> if m.x >= 1:\n    ...     pass\nand\n    >>> m.y = Var()\n    >>> if m.y in [m.x, m.y]:\n    ...     pass\nwould both cause this exception."
          ]
        }
      ]
    },
    {
      "cell_type": "markdown",
      "source": [
        "# 5. Correct The Model Code to Test Mathematical Model (if applicable)"
      ],
      "metadata": {
        "id": "KHTyoLQTWZVy"
      }
    },
    {
      "cell_type": "code",
      "source": [
        "from pyomo.environ import *\n",
        "\n",
        "# Create a Pyomo model\n",
        "model = ConcreteModel()\n",
        "\n",
        "# Define parameters\n",
        "model.T = Param(initialize=239600480)  # Sample data: Total number of units required\n",
        "\n",
        "# Vendor A parameters\n",
        "model.CA = Param(initialize=3855.34)  # Sample data: Setup cost for vendor A\n",
        "model.PA = Param(initialize=61.150)  # Sample data: Unit cost per thousand units for vendor A\n",
        "model.UA = Param(initialize=33000000)  # Sample data: Maximum number of units that can be supplied by vendor A\n",
        "\n",
        "# Vendor B parameters\n",
        "model.CB1 = Param(initialize=125804.84)  # Sample data: Setup cost for quantity range 1\n",
        "model.CB2 = Param(initialize=269304.84)  # Sample data: Setup cost for quantity range 2\n",
        "model.CB3 = Param(initialize=464304.84)  # Sample data: Setup cost for quantity range 3\n",
        "model.CB4 = Param(initialize=761304)  # Sample data: Setup cost for quantity range 4\n",
        "model.PB1 = Param(initialize=68.099)  # Sample data: Unit cost per thousand units for quantity range 1\n",
        "model.PB2 = Param(initialize=66.049)  # Sample data: Unit cost per thousand units for quantity range 2\n",
        "model.PB3 = Param(initialize=64.099)  # Sample data: Unit cost per thousand units for quantity range 3\n",
        "model.PB4 = Param(initialize=62.119)  # Sample data: Unit cost per thousand units for quantity range 4\n",
        "model.LB1 = Param(initialize=22000000)  # Sample data: Lower bound for quantity range 1\n",
        "model.LB2 = Param(initialize=70000001)  # Sample data: Lower bound for quantity range 2\n",
        "model.LB3 = Param(initialize=100000001)  # Sample data: Lower bound for quantity range 3\n",
        "model.LB4 = Param(initialize=150000001)  # Sample data: Lower bound for quantity range 4\n",
        "model.UB1 = Param(initialize=70000000)  # Sample data: Upper bound for quantity range 1\n",
        "model.UB2 = Param(initialize=100000000)  # Sample data: Upper bound for quantity range 2\n",
        "model.UB3 = Param(initialize=150000000)  # Sample data: Upper bound for quantity range 3\n",
        "model.UB4 = Param(initialize=1600000000)  # Sample data: Upper bound for quantity range 4\n",
        "\n",
        "# Vendor C parameters\n",
        "model.CC = Param(initialize=13456.00)  # Sample data: Setup cost for vendor C\n",
        "model.PC = Param(initialize=62.019)  # Sample data: Unit cost per thousand units for vendor C\n",
        "model.UC = Param(initialize=165600000)  # Sample data: Maximum number of units that can be supplied by vendor C\n",
        "\n",
        "# Vendor D parameters\n",
        "model.CD = Param(initialize=6583.98)  # Sample data: Setup cost for vendor D\n",
        "model.PD = Param(initialize=72.488)  # Sample data: Unit cost per thousand units for vendor D\n",
        "model.UD = Param(initialize=12000000)  # Sample data: Maximum number of units that can be supplied by vendor D\n",
        "\n",
        "# Vendor E parameters\n",
        "model.PE1 = Param(initialize=70.150)  # Sample data: Unit cost per thousand units for quantity range 1\n",
        "model.PE2_base = Param(initialize=68.150)  # Sample data: Base unit cost per thousand units for quantity range 2\n",
        "model.PE2_dec = Param(initialize=0.034075)  # Sample data: Percentage decrease in unit cost per million units for quantity range 2\n",
        "model.LE1 = Param(initialize=0)  # Sample data: Lower bound for quantity range 1\n",
        "model.LE2 = Param(initialize=42000001)  # Sample data: Lower bound for quantity range 2\n",
        "model.UE1 = Param(initialize=42000000)  # Sample data: Upper bound for quantity range 1\n",
        "model.UE2 = Param(initialize=77000000)  # Sample data: Upper bound for quantity range 2\n",
        "\n",
        "# Define decision variables\n",
        "model.xA = Var(domain=NonNegativeReals)\n",
        "model.xB = Var(domain=NonNegativeReals)\n",
        "model.xC = Var(domain=NonNegativeReals)\n",
        "model.xD = Var(domain=NonNegativeReals)\n",
        "model.xE = Var(domain=NonNegativeReals)\n",
        "model.yB1 = Var(domain=Binary)\n",
        "model.yB2 = Var(domain=Binary)\n",
        "model.yB3 = Var(domain=Binary)\n",
        "model.yB4 = Var(domain=Binary)\n",
        "model.yE1 = Var(domain=Binary)\n",
        "model.yE2 = Var(domain=Binary)\n",
        "\n",
        "# Define objective function\n",
        "def obj_rule(model):\n",
        "    return (\n",
        "        model.CA * model.xA +\n",
        "        model.CB1 * model.yB1 + model.CB2 * model.yB2 + model.CB3 * model.yB3 + model.CB4 * model.yB4 +\n",
        "        (model.PB1 * model.xB * model.yB1 + model.PB2 * model.xB * model.yB2 +\n",
        "         model.PB3 * model.xB * model.yB3 + model.PB4 * model.xB * model.yB4) / 1000 +\n",
        "        model.CC * model.xC +\n",
        "        model.CD * model.xD +\n",
        "        (model.PE1 * model.xE * model.yE1 +\n",
        "         (model.PE2_base - model.PE2_dec * (model.xE - model.LE2) / 1000000) * model.xE * model.yE2) / 1000\n",
        "    )\n",
        "model.obj = Objective(rule=obj_rule, sense=minimize)\n",
        "\n",
        "# Define constraints\n",
        "model.total_quantity = Constraint(expr=model.xA + model.xB + model.xC + model.xD + model.xE == model.T)\n",
        "model.vendor_capacity_A = Constraint(expr=model.xA <= model.UA)\n",
        "model.vendor_capacity_B = Constraint(expr=model.xB <= model.UB4)\n",
        "model.vendor_capacity_C = Constraint(expr=model.xC <= model.UC)\n",
        "model.vendor_capacity_D = Constraint(expr=model.xD <= model.UD)\n",
        "model.vendor_capacity_E = Constraint(expr=model.xE <= model.UE2)\n",
        "model.vendor_B_range = Constraint(expr=model.yB1 + model.yB2 + model.yB3 + model.yB4 == 1)\n",
        "model.vendor_B_range_1_lower = Constraint(expr=model.LB1 * model.yB1 <= model.xB)\n",
        "model.vendor_B_range_1_upper = Constraint(expr=model.xB <= model.UB1 * model.yB1)\n",
        "model.vendor_B_range_2_lower = Constraint(expr=model.LB2 * model.yB2 <= model.xB)\n",
        "model.vendor_B_range_2_upper = Constraint(expr=model.xB <= model.UB2 * model.yB2)\n",
        "model.vendor_B_range_3_lower = Constraint(expr=model.LB3 * model.yB3 <= model.xB)\n",
        "model.vendor_B_range_3_upper = Constraint(expr=model.xB <= model.UB3 * model.yB3)\n",
        "model.vendor_B_range_4_lower = Constraint(expr=model.LB4 * model.yB4 <= model.xB)\n",
        "model.vendor_B_range_4_upper = Constraint(expr=model.xB <= model.UB4 * model.yB4)\n",
        "model.vendor_E_range = Constraint(expr=model.yE1 + model.yE2 == 1)\n",
        "model.vendor_E_range_1_lower = Constraint(expr=model.LE1 * model.yE1 <= model.xE)\n",
        "model.vendor_E_range_1_upper = Constraint(expr=model.xE <= model.UE1 * model.yE1)\n",
        "model.vendor_E_range_2_lower = Constraint(expr=model.LE2 * model.yE2 <= model.xE)\n",
        "model.vendor_E_range_2_uper = Constraint(expr=model.xE <= model.UE2 * model.yE2)\n",
        "\n",
        "# Solve the optimization problem\n",
        "solver = SolverFactory('couenne')\n",
        "solver.solve(model)\n",
        "\n",
        "# Print the optimal solution\n",
        "print(\"Optimal solution:\")\n",
        "print(\"xA =\", model.xA.value)\n",
        "print(\"xB =\", model.xB.value)\n",
        "print(\"xC =\", model.xC.value)\n",
        "print(\"xD =\", model.xD.value)\n",
        "print(\"xE =\", model.xE.value)\n",
        "print(\"yB1 =\", model.yB1.value)\n",
        "print(\"yB2 =\", model.yB2.value)\n",
        "print(\"yB3 =\", model.yB3.value)\n",
        "print(\"yB4 =\", model.yB4.value)\n",
        "print(\"yE1 =\", model.yE1.value)\n",
        "print(\"yE2 =\", model.yE2.value)\n",
        "print(\"Minimum total cost:\", model.obj())"
      ],
      "metadata": {
        "id": "voCBXWWKA2LO",
        "colab": {
          "base_uri": "https://localhost:8080/",
          "height": 633
        },
        "outputId": "0c8565f5-66a0-4dfb-93b8-f4eba9d679b3"
      },
      "execution_count": 16,
      "outputs": [
        {
          "output_type": "stream",
          "name": "stderr",
          "text": [
            "WARNING:pyomo.core:Loading a SolverResults object with a warning status into model.name=\"unknown\";\n",
            "  - termination condition: infeasible\n",
            "  - message from solver: Couenne (/tmp/tmpjwx0uqou.pyomo.nl Jun  7 2023)\\x3a Infeasible\n",
            "ERROR:pyomo.common.numeric_types:evaluating object as numeric value: xA\n",
            "    (object: <class 'pyomo.core.base.var.ScalarVar'>)\n",
            "No value for uninitialized NumericValue object xA\n"
          ]
        },
        {
          "output_type": "stream",
          "name": "stdout",
          "text": [
            "Optimal solution:\n",
            "xA = None\n",
            "xB = None\n",
            "xC = None\n",
            "xD = None\n",
            "xE = None\n",
            "yB1 = None\n",
            "yB2 = None\n",
            "yB3 = None\n",
            "yB4 = None\n",
            "yE1 = None\n",
            "yE2 = None\n"
          ]
        },
        {
          "output_type": "error",
          "ename": "ValueError",
          "evalue": "No value for uninitialized NumericValue object xA",
          "traceback": [
            "\u001b[0;31m---------------------------------------------------------------------------\u001b[0m",
            "\u001b[0;31mValueError\u001b[0m                                Traceback (most recent call last)",
            "\u001b[0;32m<ipython-input-16-01e28adaa854>\u001b[0m in \u001b[0;36m<cell line: 117>\u001b[0;34m()\u001b[0m\n\u001b[1;32m    115\u001b[0m \u001b[0mprint\u001b[0m\u001b[0;34m(\u001b[0m\u001b[0;34m\"yE1 =\"\u001b[0m\u001b[0;34m,\u001b[0m \u001b[0mmodel\u001b[0m\u001b[0;34m.\u001b[0m\u001b[0myE1\u001b[0m\u001b[0;34m.\u001b[0m\u001b[0mvalue\u001b[0m\u001b[0;34m)\u001b[0m\u001b[0;34m\u001b[0m\u001b[0;34m\u001b[0m\u001b[0m\n\u001b[1;32m    116\u001b[0m \u001b[0mprint\u001b[0m\u001b[0;34m(\u001b[0m\u001b[0;34m\"yE2 =\"\u001b[0m\u001b[0;34m,\u001b[0m \u001b[0mmodel\u001b[0m\u001b[0;34m.\u001b[0m\u001b[0myE2\u001b[0m\u001b[0;34m.\u001b[0m\u001b[0mvalue\u001b[0m\u001b[0;34m)\u001b[0m\u001b[0;34m\u001b[0m\u001b[0;34m\u001b[0m\u001b[0m\n\u001b[0;32m--> 117\u001b[0;31m \u001b[0mprint\u001b[0m\u001b[0;34m(\u001b[0m\u001b[0;34m\"Minimum total cost:\"\u001b[0m\u001b[0;34m,\u001b[0m \u001b[0mmodel\u001b[0m\u001b[0;34m.\u001b[0m\u001b[0mobj\u001b[0m\u001b[0;34m(\u001b[0m\u001b[0;34m)\u001b[0m\u001b[0;34m)\u001b[0m\u001b[0;34m\u001b[0m\u001b[0;34m\u001b[0m\u001b[0m\n\u001b[0m",
            "\u001b[0;32m/usr/local/lib/python3.10/dist-packages/pyomo/core/base/objective.py\u001b[0m in \u001b[0;36m__call__\u001b[0;34m(self, exception)\u001b[0m\n\u001b[1;32m    372\u001b[0m                     \u001b[0;34m\"no value to return).\"\u001b[0m \u001b[0;34m%\u001b[0m \u001b[0;34m(\u001b[0m\u001b[0mself\u001b[0m\u001b[0;34m.\u001b[0m\u001b[0mname\u001b[0m\u001b[0;34m)\u001b[0m\u001b[0;34m\u001b[0m\u001b[0;34m\u001b[0m\u001b[0m\n\u001b[1;32m    373\u001b[0m                 )\n\u001b[0;32m--> 374\u001b[0;31m             \u001b[0;32mreturn\u001b[0m \u001b[0msuper\u001b[0m\u001b[0;34m(\u001b[0m\u001b[0;34m)\u001b[0m\u001b[0;34m.\u001b[0m\u001b[0m__call__\u001b[0m\u001b[0;34m(\u001b[0m\u001b[0mexception\u001b[0m\u001b[0;34m)\u001b[0m\u001b[0;34m\u001b[0m\u001b[0;34m\u001b[0m\u001b[0m\n\u001b[0m\u001b[1;32m    375\u001b[0m         raise ValueError(\n\u001b[1;32m    376\u001b[0m             \u001b[0;34m\"Evaluating the expression of objective '%s' \"\u001b[0m\u001b[0;34m\u001b[0m\u001b[0;34m\u001b[0m\u001b[0m\n",
            "\u001b[0;32m/usr/local/lib/python3.10/dist-packages/pyomo/core/base/expression.py\u001b[0m in \u001b[0;36m__call__\u001b[0;34m(self, exception)\u001b[0m\n\u001b[1;32m     61\u001b[0m             \u001b[0;31m# Note: native_types includes NoneType\u001b[0m\u001b[0;34m\u001b[0m\u001b[0;34m\u001b[0m\u001b[0m\n\u001b[1;32m     62\u001b[0m             \u001b[0;32mreturn\u001b[0m \u001b[0marg\u001b[0m\u001b[0;34m\u001b[0m\u001b[0;34m\u001b[0m\u001b[0m\n\u001b[0;32m---> 63\u001b[0;31m         \u001b[0;32mreturn\u001b[0m \u001b[0marg\u001b[0m\u001b[0;34m(\u001b[0m\u001b[0mexception\u001b[0m\u001b[0;34m=\u001b[0m\u001b[0mexception\u001b[0m\u001b[0;34m)\u001b[0m\u001b[0;34m\u001b[0m\u001b[0;34m\u001b[0m\u001b[0m\n\u001b[0m\u001b[1;32m     64\u001b[0m \u001b[0;34m\u001b[0m\u001b[0m\n\u001b[1;32m     65\u001b[0m     \u001b[0;32mdef\u001b[0m \u001b[0mcreate_node_with_local_data\u001b[0m\u001b[0;34m(\u001b[0m\u001b[0mself\u001b[0m\u001b[0;34m,\u001b[0m \u001b[0mvalues\u001b[0m\u001b[0;34m)\u001b[0m\u001b[0;34m:\u001b[0m\u001b[0;34m\u001b[0m\u001b[0;34m\u001b[0m\u001b[0m\n",
            "\u001b[0;32m/usr/local/lib/python3.10/dist-packages/pyomo/core/expr/base.py\u001b[0m in \u001b[0;36m__call__\u001b[0;34m(self, exception)\u001b[0m\n\u001b[1;32m    116\u001b[0m \u001b[0;34m\u001b[0m\u001b[0m\n\u001b[1;32m    117\u001b[0m         \"\"\"\n\u001b[0;32m--> 118\u001b[0;31m         \u001b[0;32mreturn\u001b[0m \u001b[0mvisitor\u001b[0m\u001b[0;34m.\u001b[0m\u001b[0mevaluate_expression\u001b[0m\u001b[0;34m(\u001b[0m\u001b[0mself\u001b[0m\u001b[0;34m,\u001b[0m \u001b[0mexception\u001b[0m\u001b[0;34m)\u001b[0m\u001b[0;34m\u001b[0m\u001b[0;34m\u001b[0m\u001b[0m\n\u001b[0m\u001b[1;32m    119\u001b[0m \u001b[0;34m\u001b[0m\u001b[0m\n\u001b[1;32m    120\u001b[0m     \u001b[0;32mdef\u001b[0m \u001b[0m__str__\u001b[0m\u001b[0;34m(\u001b[0m\u001b[0mself\u001b[0m\u001b[0;34m)\u001b[0m\u001b[0;34m:\u001b[0m\u001b[0;34m\u001b[0m\u001b[0;34m\u001b[0m\u001b[0m\n",
            "\u001b[0;32m/usr/local/lib/python3.10/dist-packages/pyomo/core/expr/visitor.py\u001b[0m in \u001b[0;36mevaluate_expression\u001b[0;34m(exp, exception, constant)\u001b[0m\n\u001b[1;32m   1294\u001b[0m \u001b[0;34m\u001b[0m\u001b[0m\n\u001b[1;32m   1295\u001b[0m     \u001b[0;32mtry\u001b[0m\u001b[0;34m:\u001b[0m\u001b[0;34m\u001b[0m\u001b[0;34m\u001b[0m\u001b[0m\n\u001b[0;32m-> 1296\u001b[0;31m         \u001b[0mans\u001b[0m \u001b[0;34m=\u001b[0m \u001b[0mvisitor\u001b[0m\u001b[0;34m.\u001b[0m\u001b[0mdfs_postorder_stack\u001b[0m\u001b[0;34m(\u001b[0m\u001b[0mexp\u001b[0m\u001b[0;34m)\u001b[0m\u001b[0;34m\u001b[0m\u001b[0;34m\u001b[0m\u001b[0m\n\u001b[0m\u001b[1;32m   1297\u001b[0m     except (\n\u001b[1;32m   1298\u001b[0m         \u001b[0mTemplateExpressionError\u001b[0m\u001b[0;34m,\u001b[0m\u001b[0;34m\u001b[0m\u001b[0;34m\u001b[0m\u001b[0m\n",
            "\u001b[0;32m/usr/local/lib/python3.10/dist-packages/pyomo/core/expr/visitor.py\u001b[0m in \u001b[0;36mdfs_postorder_stack\u001b[0;34m(self, node)\u001b[0m\n\u001b[1;32m    917\u001b[0m                 \u001b[0m_sub\u001b[0m \u001b[0;34m=\u001b[0m \u001b[0m_argList\u001b[0m\u001b[0;34m[\u001b[0m\u001b[0m_idx\u001b[0m\u001b[0;34m]\u001b[0m\u001b[0;34m\u001b[0m\u001b[0;34m\u001b[0m\u001b[0m\n\u001b[1;32m    918\u001b[0m                 \u001b[0m_idx\u001b[0m \u001b[0;34m+=\u001b[0m \u001b[0;36m1\u001b[0m\u001b[0;34m\u001b[0m\u001b[0;34m\u001b[0m\u001b[0m\n\u001b[0;32m--> 919\u001b[0;31m                 \u001b[0mflag\u001b[0m\u001b[0;34m,\u001b[0m \u001b[0mvalue\u001b[0m \u001b[0;34m=\u001b[0m \u001b[0mself\u001b[0m\u001b[0;34m.\u001b[0m\u001b[0mvisiting_potential_leaf\u001b[0m\u001b[0;34m(\u001b[0m\u001b[0m_sub\u001b[0m\u001b[0;34m)\u001b[0m\u001b[0;34m\u001b[0m\u001b[0;34m\u001b[0m\u001b[0m\n\u001b[0m\u001b[1;32m    920\u001b[0m                 \u001b[0;32mif\u001b[0m \u001b[0mflag\u001b[0m\u001b[0;34m:\u001b[0m\u001b[0;34m\u001b[0m\u001b[0;34m\u001b[0m\u001b[0m\n\u001b[1;32m    921\u001b[0m                     \u001b[0m_result\u001b[0m\u001b[0;34m.\u001b[0m\u001b[0mappend\u001b[0m\u001b[0;34m(\u001b[0m\u001b[0mvalue\u001b[0m\u001b[0;34m)\u001b[0m\u001b[0;34m\u001b[0m\u001b[0;34m\u001b[0m\u001b[0m\n",
            "\u001b[0;32m/usr/local/lib/python3.10/dist-packages/pyomo/core/expr/visitor.py\u001b[0m in \u001b[0;36mvisiting_potential_leaf\u001b[0;34m(self, node)\u001b[0m\n\u001b[1;32m   1199\u001b[0m \u001b[0;34m\u001b[0m\u001b[0m\n\u001b[1;32m   1200\u001b[0m         \u001b[0;32mif\u001b[0m \u001b[0mnode\u001b[0m\u001b[0;34m.\u001b[0m\u001b[0mis_numeric_type\u001b[0m\u001b[0;34m(\u001b[0m\u001b[0;34m)\u001b[0m\u001b[0;34m:\u001b[0m\u001b[0;34m\u001b[0m\u001b[0;34m\u001b[0m\u001b[0m\n\u001b[0;32m-> 1201\u001b[0;31m             \u001b[0;32mreturn\u001b[0m \u001b[0;32mTrue\u001b[0m\u001b[0;34m,\u001b[0m \u001b[0mvalue\u001b[0m\u001b[0;34m(\u001b[0m\u001b[0mnode\u001b[0m\u001b[0;34m,\u001b[0m \u001b[0mexception\u001b[0m\u001b[0;34m=\u001b[0m\u001b[0mself\u001b[0m\u001b[0;34m.\u001b[0m\u001b[0mexception\u001b[0m\u001b[0;34m)\u001b[0m\u001b[0;34m\u001b[0m\u001b[0;34m\u001b[0m\u001b[0m\n\u001b[0m\u001b[1;32m   1202\u001b[0m         \u001b[0;32melif\u001b[0m \u001b[0mnode\u001b[0m\u001b[0;34m.\u001b[0m\u001b[0mis_logical_type\u001b[0m\u001b[0;34m(\u001b[0m\u001b[0;34m)\u001b[0m\u001b[0;34m:\u001b[0m\u001b[0;34m\u001b[0m\u001b[0;34m\u001b[0m\u001b[0m\n\u001b[1;32m   1203\u001b[0m             \u001b[0;32mreturn\u001b[0m \u001b[0;32mTrue\u001b[0m\u001b[0;34m,\u001b[0m \u001b[0mvalue\u001b[0m\u001b[0;34m(\u001b[0m\u001b[0mnode\u001b[0m\u001b[0;34m,\u001b[0m \u001b[0mexception\u001b[0m\u001b[0;34m=\u001b[0m\u001b[0mself\u001b[0m\u001b[0;34m.\u001b[0m\u001b[0mexception\u001b[0m\u001b[0;34m)\u001b[0m\u001b[0;34m\u001b[0m\u001b[0;34m\u001b[0m\u001b[0m\n",
            "\u001b[0;32m/usr/local/lib/python3.10/dist-packages/pyomo/common/numeric_types.py\u001b[0m in \u001b[0;36mvalue\u001b[0;34m(obj, exception)\u001b[0m\n\u001b[1;32m    382\u001b[0m             \u001b[0mtmp\u001b[0m \u001b[0;34m=\u001b[0m \u001b[0mobj\u001b[0m\u001b[0;34m(\u001b[0m\u001b[0mexception\u001b[0m\u001b[0;34m=\u001b[0m\u001b[0;32mTrue\u001b[0m\u001b[0;34m)\u001b[0m\u001b[0;34m\u001b[0m\u001b[0;34m\u001b[0m\u001b[0m\n\u001b[1;32m    383\u001b[0m             \u001b[0;32mif\u001b[0m \u001b[0mtmp\u001b[0m \u001b[0;32mis\u001b[0m \u001b[0;32mNone\u001b[0m\u001b[0;34m:\u001b[0m\u001b[0;34m\u001b[0m\u001b[0;34m\u001b[0m\u001b[0m\n\u001b[0;32m--> 384\u001b[0;31m                 raise ValueError(\n\u001b[0m\u001b[1;32m    385\u001b[0m                     \u001b[0;34m\"No value for uninitialized NumericValue object %s\"\u001b[0m \u001b[0;34m%\u001b[0m \u001b[0;34m(\u001b[0m\u001b[0mobj\u001b[0m\u001b[0;34m.\u001b[0m\u001b[0mname\u001b[0m\u001b[0;34m,\u001b[0m\u001b[0;34m)\u001b[0m\u001b[0;34m\u001b[0m\u001b[0;34m\u001b[0m\u001b[0m\n\u001b[1;32m    386\u001b[0m                 )\n",
            "\u001b[0;31mValueError\u001b[0m: No value for uninitialized NumericValue object xA"
          ]
        }
      ]
    }
  ]
}