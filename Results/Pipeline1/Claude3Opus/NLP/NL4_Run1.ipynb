{
  "nbformat": 4,
  "nbformat_minor": 0,
  "metadata": {
    "colab": {
      "provenance": []
    },
    "kernelspec": {
      "name": "python3",
      "display_name": "Python 3"
    },
    "language_info": {
      "name": "python"
    }
  },
  "cells": [
    {
      "cell_type": "markdown",
      "source": [
        "# 0. Imports and Setting up Anthropic API Client"
      ],
      "metadata": {
        "id": "y5fw0lkBwBbo"
      }
    },
    {
      "cell_type": "code",
      "source": [
        "from google.colab import drive\n",
        "\n",
        "drive.mount('/content/drive')"
      ],
      "metadata": {
        "colab": {
          "base_uri": "https://localhost:8080/"
        },
        "id": "e7tWOLo0yMoH",
        "outputId": "f561c2a1-3572-47c9-aecb-f1953c2cdba1"
      },
      "execution_count": 1,
      "outputs": [
        {
          "output_type": "stream",
          "name": "stdout",
          "text": [
            "Mounted at /content/drive\n"
          ]
        }
      ]
    },
    {
      "cell_type": "code",
      "source": [
        "!pip install python-dotenv\n",
        "\n",
        "import os\n",
        "import dotenv\n",
        "\n",
        "dotenv.load_dotenv('/content/drive/MyDrive/.env')"
      ],
      "metadata": {
        "colab": {
          "base_uri": "https://localhost:8080/"
        },
        "id": "utcEK8lZ1Z1R",
        "outputId": "4638a973-f7bb-4605-8672-60fee0bb07dc"
      },
      "execution_count": 2,
      "outputs": [
        {
          "output_type": "stream",
          "name": "stdout",
          "text": [
            "Collecting python-dotenv\n",
            "  Downloading python_dotenv-1.0.1-py3-none-any.whl (19 kB)\n",
            "Installing collected packages: python-dotenv\n",
            "Successfully installed python-dotenv-1.0.1\n"
          ]
        },
        {
          "output_type": "execute_result",
          "data": {
            "text/plain": [
              "True"
            ]
          },
          "metadata": {},
          "execution_count": 2
        }
      ]
    },
    {
      "cell_type": "code",
      "source": [
        "# Load Prompts and Problem Description\n",
        "prompt1_path = '/content/drive/MyDrive/Thesis/Prompts/Prompt1_MathematicalModel.txt'\n",
        "prompt2_path = '/content/drive/MyDrive/Thesis/Prompts/Prompt2_PyomoCode.txt'\n",
        "problem_desc_path = '/content/drive/MyDrive/Thesis/ProblemDescriptions/NL/NL4.txt'\n",
        "\n",
        "prompt1_file = open(prompt1_path, \"r\")\n",
        "prompt2_file = open(prompt2_path, \"r\")\n",
        "problem_desc_file = open(problem_desc_path, \"r\")\n",
        "\n",
        "prompt1 = prompt1_file.read()\n",
        "print(\"Prompt 1:\\n\", prompt1)\n",
        "\n",
        "prompt2 = prompt2_file.read()\n",
        "print(\"Prompt 2:\\n\", prompt2)\n",
        "\n",
        "problem_desc = problem_desc_file.read()\n",
        "print(\"Problem Description:\\n\", problem_desc)"
      ],
      "metadata": {
        "colab": {
          "base_uri": "https://localhost:8080/"
        },
        "id": "9KlkjwMUS4xp",
        "outputId": "87a0e506-e36f-4581-ba36-78df40f511d3"
      },
      "execution_count": 3,
      "outputs": [
        {
          "output_type": "stream",
          "name": "stdout",
          "text": [
            "Prompt 1:\n",
            " Please write a mathematical optimization model for this problem. Include parameters, decision variables, the objective function and the constraints in your answer.\n",
            "Prompt 2:\n",
            " Please write a python pyomo code for this optimization problem.\n",
            "Use sample data where needed.\n",
            "Indicate where you use sample data.\n",
            "Problem Description:\n",
            " We are looking at an alkylation process which will include the following 10 variables: olefin feed (barrels per day), isobutane recycle (barrels per day), acid addition rate (thousands of pounds per day), alkylate yield (barrels per day), isobutane makeup (barrels per day), acid strength (weight per cent), motor octane number, external isobutane-to-olefin ratio, acid dilution factor and F-4 performance number. \n",
            "\n",
            "We want to maximize the daily profit of this alkylation process. \n",
            "The profit is defined as the revenue generated from the alkylate yield multiplied with the motor octane number, minus the operational costs, which include olefin feed, isobutane recycle, acid addition rate, and isobutane makeup. \n",
            "\n",
            "Relationships in terms of other variables for alkylate yield, motor octane number, acid dilution factor, and F-4 performance number can be formulated as regression formulas. \n",
            "This regression estimate can deviate in both directions from true value of these variables by 2, 1, 5 and 10 percent, respectively.\n",
            "Alkylate yield is a function of olefin feed and external isobutane-to-olefine yield. Alkalyte yield equals the amount of olefin feed multiplied by the sum of 1.12, 0.13167 times the external isobutane-to-olefin ratio and -0.00667 times the external isobutane-to-olefin ratio squared.\n",
            "The motor octane number is derived from the external isobutane-to-olefin ratio and the acid strength. The motor octane number is calculated as the sum of 86.35, 1.098 time external isobutane-to-olefin ratio, -0.038 times the external isobutane-to-olefin ratio squared and 0.325 times acid strength reduced by 89.\n",
            "The acid dilution factor is calculated based on the F-4 performance number. The acid dillution factor is expressed as 35.82 minus 0.222 times F-4 performance number.\n",
            "Lastly, the F-4 performance number depends on the motor octane number. F-4 performance number is calculated as -133 plus three times the motor octane number.\n",
            "\n",
            "There are some additional constraints imposed by the nature of the chemical process.\n",
            "Each variable has a lower and an upper bound.\n",
            "The external isobutane-to-olefin ratio needs to equal the ratio of isobutane recycle plus isobutane makeup to olefin feed. \n",
            "The acid strength needs to equal the ratio of 93000 times acid addition rate to acid addition rate multiplied by acid dilution factor in addition to 1000 times acid addition rate. \n",
            "Lastly, 1.22 alkylate yield needs to be equal to the combined olefin feed and isobutane makeup.\n"
          ]
        }
      ]
    },
    {
      "cell_type": "code",
      "source": [
        "!pip install anthropic"
      ],
      "metadata": {
        "colab": {
          "base_uri": "https://localhost:8080/"
        },
        "id": "iWlNsTIvxCcR",
        "outputId": "493d7568-1378-40d8-f45f-468b0796fe1e",
        "collapsed": true
      },
      "execution_count": 4,
      "outputs": [
        {
          "output_type": "stream",
          "name": "stdout",
          "text": [
            "Collecting anthropic\n",
            "  Downloading anthropic-0.26.0-py3-none-any.whl (877 kB)\n",
            "\u001b[?25l     \u001b[90m━━━━━━━━━━━━━━━━━━━━━━━━━━━━━━━━━━━━━━━━\u001b[0m \u001b[32m0.0/877.7 kB\u001b[0m \u001b[31m?\u001b[0m eta \u001b[36m-:--:--\u001b[0m\r\u001b[2K     \u001b[91m━━━━━━━━━━━━━━\u001b[0m\u001b[90m╺\u001b[0m\u001b[90m━━━━━━━━━━━━━━━━━━━━━━━━━\u001b[0m \u001b[32m317.4/877.7 kB\u001b[0m \u001b[31m9.5 MB/s\u001b[0m eta \u001b[36m0:00:01\u001b[0m\r\u001b[2K     \u001b[90m━━━━━━━━━━━━━━━━━━━━━━━━━━━━━━━━━━━━━━━━\u001b[0m \u001b[32m877.7/877.7 kB\u001b[0m \u001b[31m17.6 MB/s\u001b[0m eta \u001b[36m0:00:00\u001b[0m\n",
            "\u001b[?25hRequirement already satisfied: anyio<5,>=3.5.0 in /usr/local/lib/python3.10/dist-packages (from anthropic) (3.7.1)\n",
            "Requirement already satisfied: distro<2,>=1.7.0 in /usr/lib/python3/dist-packages (from anthropic) (1.7.0)\n",
            "Collecting httpx<1,>=0.23.0 (from anthropic)\n",
            "  Downloading httpx-0.27.0-py3-none-any.whl (75 kB)\n",
            "\u001b[2K     \u001b[90m━━━━━━━━━━━━━━━━━━━━━━━━━━━━━━━━━━━━━━━━\u001b[0m \u001b[32m75.6/75.6 kB\u001b[0m \u001b[31m9.5 MB/s\u001b[0m eta \u001b[36m0:00:00\u001b[0m\n",
            "\u001b[?25hRequirement already satisfied: pydantic<3,>=1.9.0 in /usr/local/lib/python3.10/dist-packages (from anthropic) (2.7.1)\n",
            "Requirement already satisfied: sniffio in /usr/local/lib/python3.10/dist-packages (from anthropic) (1.3.1)\n",
            "Requirement already satisfied: tokenizers>=0.13.0 in /usr/local/lib/python3.10/dist-packages (from anthropic) (0.19.1)\n",
            "Requirement already satisfied: typing-extensions<5,>=4.7 in /usr/local/lib/python3.10/dist-packages (from anthropic) (4.11.0)\n",
            "Requirement already satisfied: idna>=2.8 in /usr/local/lib/python3.10/dist-packages (from anyio<5,>=3.5.0->anthropic) (3.7)\n",
            "Requirement already satisfied: exceptiongroup in /usr/local/lib/python3.10/dist-packages (from anyio<5,>=3.5.0->anthropic) (1.2.1)\n",
            "Requirement already satisfied: certifi in /usr/local/lib/python3.10/dist-packages (from httpx<1,>=0.23.0->anthropic) (2024.2.2)\n",
            "Collecting httpcore==1.* (from httpx<1,>=0.23.0->anthropic)\n",
            "  Downloading httpcore-1.0.5-py3-none-any.whl (77 kB)\n",
            "\u001b[2K     \u001b[90m━━━━━━━━━━━━━━━━━━━━━━━━━━━━━━━━━━━━━━━━\u001b[0m \u001b[32m77.9/77.9 kB\u001b[0m \u001b[31m8.9 MB/s\u001b[0m eta \u001b[36m0:00:00\u001b[0m\n",
            "\u001b[?25hCollecting h11<0.15,>=0.13 (from httpcore==1.*->httpx<1,>=0.23.0->anthropic)\n",
            "  Downloading h11-0.14.0-py3-none-any.whl (58 kB)\n",
            "\u001b[2K     \u001b[90m━━━━━━━━━━━━━━━━━━━━━━━━━━━━━━━━━━━━━━━━\u001b[0m \u001b[32m58.3/58.3 kB\u001b[0m \u001b[31m7.1 MB/s\u001b[0m eta \u001b[36m0:00:00\u001b[0m\n",
            "\u001b[?25hRequirement already satisfied: annotated-types>=0.4.0 in /usr/local/lib/python3.10/dist-packages (from pydantic<3,>=1.9.0->anthropic) (0.6.0)\n",
            "Requirement already satisfied: pydantic-core==2.18.2 in /usr/local/lib/python3.10/dist-packages (from pydantic<3,>=1.9.0->anthropic) (2.18.2)\n",
            "Requirement already satisfied: huggingface-hub<1.0,>=0.16.4 in /usr/local/lib/python3.10/dist-packages (from tokenizers>=0.13.0->anthropic) (0.20.3)\n",
            "Requirement already satisfied: filelock in /usr/local/lib/python3.10/dist-packages (from huggingface-hub<1.0,>=0.16.4->tokenizers>=0.13.0->anthropic) (3.14.0)\n",
            "Requirement already satisfied: fsspec>=2023.5.0 in /usr/local/lib/python3.10/dist-packages (from huggingface-hub<1.0,>=0.16.4->tokenizers>=0.13.0->anthropic) (2023.6.0)\n",
            "Requirement already satisfied: requests in /usr/local/lib/python3.10/dist-packages (from huggingface-hub<1.0,>=0.16.4->tokenizers>=0.13.0->anthropic) (2.31.0)\n",
            "Requirement already satisfied: tqdm>=4.42.1 in /usr/local/lib/python3.10/dist-packages (from huggingface-hub<1.0,>=0.16.4->tokenizers>=0.13.0->anthropic) (4.66.4)\n",
            "Requirement already satisfied: pyyaml>=5.1 in /usr/local/lib/python3.10/dist-packages (from huggingface-hub<1.0,>=0.16.4->tokenizers>=0.13.0->anthropic) (6.0.1)\n",
            "Requirement already satisfied: packaging>=20.9 in /usr/local/lib/python3.10/dist-packages (from huggingface-hub<1.0,>=0.16.4->tokenizers>=0.13.0->anthropic) (24.0)\n",
            "Requirement already satisfied: charset-normalizer<4,>=2 in /usr/local/lib/python3.10/dist-packages (from requests->huggingface-hub<1.0,>=0.16.4->tokenizers>=0.13.0->anthropic) (3.3.2)\n",
            "Requirement already satisfied: urllib3<3,>=1.21.1 in /usr/local/lib/python3.10/dist-packages (from requests->huggingface-hub<1.0,>=0.16.4->tokenizers>=0.13.0->anthropic) (2.0.7)\n",
            "Installing collected packages: h11, httpcore, httpx, anthropic\n",
            "Successfully installed anthropic-0.26.0 h11-0.14.0 httpcore-1.0.5 httpx-0.27.0\n"
          ]
        }
      ]
    },
    {
      "cell_type": "code",
      "execution_count": 5,
      "metadata": {
        "id": "7Qjk2D63v1Bl"
      },
      "outputs": [],
      "source": [
        "# Importing Anthropic & Setting Headers\n",
        "import anthropic\n",
        "\n",
        "client = anthropic.Anthropic(\n",
        "    # defaults to os.environ.get(\"ANTHROPIC_API_KEY\")\n",
        "    api_key=os.environ.get(\"ANTHROPIC_API_KEY\"),\n",
        ")"
      ]
    },
    {
      "cell_type": "markdown",
      "source": [
        "# 1. Prompt 1: Create Mathematical Model"
      ],
      "metadata": {
        "id": "kT7yKbJs18XR"
      }
    },
    {
      "cell_type": "code",
      "source": [
        "message = client.messages.create(\n",
        "    model=\"claude-3-opus-20240229\",\n",
        "    system=prompt1,\n",
        "    max_tokens=4096,\n",
        "    messages=[\n",
        "        {\"role\": \"user\", \"content\": problem_desc}\n",
        "    ]\n",
        ")\n",
        "\n",
        "response_p1 = message.content[0].text"
      ],
      "metadata": {
        "id": "R_6X0axq16D4"
      },
      "execution_count": 6,
      "outputs": []
    },
    {
      "cell_type": "code",
      "source": [
        "# Print response\n",
        "print(response_p1)"
      ],
      "metadata": {
        "colab": {
          "base_uri": "https://localhost:8080/"
        },
        "id": "Ra9Ox_PI38jg",
        "outputId": "59de909a-55e5-4a9e-9afc-a1eaadbd184e"
      },
      "execution_count": 7,
      "outputs": [
        {
          "output_type": "stream",
          "name": "stdout",
          "text": [
            "Here is the mathematical optimization model for the given problem:\n",
            "\n",
            "Parameters:\n",
            "- R: Revenue per barrel of alkylate yield per unit of motor octane number\n",
            "- C_OF: Cost per barrel of olefin feed\n",
            "- C_IR: Cost per barrel of isobutane recycle\n",
            "- C_AA: Cost per thousand pounds of acid addition rate\n",
            "- C_IM: Cost per barrel of isobutane makeup\n",
            "\n",
            "Decision Variables:\n",
            "- OF: Olefin feed (barrels per day)\n",
            "- IR: Isobutane recycle (barrels per day)\n",
            "- AA: Acid addition rate (thousands of pounds per day)\n",
            "- AY: Alkylate yield (barrels per day)\n",
            "- IM: Isobutane makeup (barrels per day)\n",
            "- AS: Acid strength (weight percent)\n",
            "- MON: Motor octane number\n",
            "- EIO: External isobutane-to-olefin ratio\n",
            "- ADF: Acid dilution factor\n",
            "- F4: F-4 performance number\n",
            "\n",
            "Objective Function:\n",
            "Maximize Profit = R * AY * MON - (C_OF * OF + C_IR * IR + C_AA * AA + C_IM * IM)\n",
            "\n",
            "Constraints:\n",
            "1. Alkylate Yield:\n",
            "   AY = OF * (1.12 + 0.13167 * EIO - 0.00667 * EIO^2)\n",
            "   0.98 * AY <= OF * (1.12 + 0.13167 * EIO - 0.00667 * EIO^2) <= 1.02 * AY\n",
            "\n",
            "2. Motor Octane Number:\n",
            "   MON = 86.35 + 1.098 * EIO - 0.038 * EIO^2 + 0.325 * (AS - 89)\n",
            "   0.99 * MON <= 86.35 + 1.098 * EIO - 0.038 * EIO^2 + 0.325 * (AS - 89) <= 1.01 * MON\n",
            "\n",
            "3. Acid Dilution Factor:\n",
            "   ADF = 35.82 - 0.222 * F4\n",
            "   0.95 * ADF <= 35.82 - 0.222 * F4 <= 1.05 * ADF\n",
            "\n",
            "4. F-4 Performance Number:\n",
            "   F4 = -133 + 3 * MON\n",
            "   0.90 * F4 <= -133 + 3 * MON <= 1.10 * F4\n",
            "\n",
            "5. External Isobutane-to-Olefin Ratio:\n",
            "   EIO = (IR + IM) / OF\n",
            "\n",
            "6. Acid Strength:\n",
            "   AS = (93000 * AA) / (AA * ADF + 1000 * AA)\n",
            "\n",
            "7. Material Balance:\n",
            "   1.22 * AY = OF + IM\n",
            "\n",
            "8. Variable Bounds:\n",
            "   OF_min <= OF <= OF_max\n",
            "   IR_min <= IR <= IR_max\n",
            "   AA_min <= AA <= AA_max\n",
            "   IM_min <= IM <= IM_max\n",
            "   AS_min <= AS <= AS_max\n",
            "   MON_min <= MON <= MON_max\n",
            "   EIO_min <= EIO <= EIO_max\n",
            "   ADF_min <= ADF <= ADF_max\n",
            "   F4_min <= F4 <= F4_max\n",
            "\n",
            "This model aims to maximize the daily profit of the alkylation process while considering the relationships between variables and the constraints imposed by the chemical process.\n"
          ]
        }
      ]
    },
    {
      "cell_type": "markdown",
      "source": [
        "# 2. Prompt 2: Write Code based on Mathematical Model"
      ],
      "metadata": {
        "id": "WPZ6lgBO729j"
      }
    },
    {
      "cell_type": "code",
      "source": [
        "message2 = client.messages.create(\n",
        "    model=\"claude-3-opus-20240229\",\n",
        "    system=prompt2,\n",
        "    max_tokens=4069,\n",
        "    messages=[\n",
        "        {\"role\": \"user\", \"content\": response_p1}\n",
        "    ]\n",
        ")\n",
        "\n",
        "response_p2 = message2.content[0].text"
      ],
      "metadata": {
        "id": "1iUSgBda70FL"
      },
      "execution_count": 8,
      "outputs": []
    },
    {
      "cell_type": "code",
      "source": [
        "# Print response\n",
        "print(response_p2)"
      ],
      "metadata": {
        "colab": {
          "base_uri": "https://localhost:8080/"
        },
        "id": "o40mxc_H8eQ9",
        "outputId": "1dc4e197-e07c-4900-fe2a-c17365421c71"
      },
      "execution_count": 9,
      "outputs": [
        {
          "output_type": "stream",
          "name": "stdout",
          "text": [
            "Here's the Python Pyomo code for the optimization problem:\n",
            "\n",
            "```python\n",
            "from pyomo.environ import *\n",
            "\n",
            "# Create the model\n",
            "model = ConcreteModel()\n",
            "\n",
            "# Define the parameters (using sample data)\n",
            "model.R = Param(initialize=10)  # Revenue per barrel of alkylate yield per unit of motor octane number\n",
            "model.C_OF = Param(initialize=5)  # Cost per barrel of olefin feed\n",
            "model.C_IR = Param(initialize=3)  # Cost per barrel of isobutane recycle\n",
            "model.C_AA = Param(initialize=2)  # Cost per thousand pounds of acid addition rate\n",
            "model.C_IM = Param(initialize=4)  # Cost per barrel of isobutane makeup\n",
            "\n",
            "# Define the decision variables\n",
            "model.OF = Var(domain=NonNegativeReals)  # Olefin feed (barrels per day)\n",
            "model.IR = Var(domain=NonNegativeReals)  # Isobutane recycle (barrels per day)\n",
            "model.AA = Var(domain=NonNegativeReals)  # Acid addition rate (thousands of pounds per day)\n",
            "model.AY = Var(domain=NonNegativeReals)  # Alkylate yield (barrels per day)\n",
            "model.IM = Var(domain=NonNegativeReals)  # Isobutane makeup (barrels per day)\n",
            "model.AS = Var(domain=NonNegativeReals)  # Acid strength (weight percent)\n",
            "model.MON = Var(domain=NonNegativeReals)  # Motor octane number\n",
            "model.EIO = Var(domain=NonNegativeReals)  # External isobutane-to-olefin ratio\n",
            "model.ADF = Var(domain=NonNegativeReals)  # Acid dilution factor\n",
            "model.F4 = Var(domain=NonNegativeReals)  # F-4 performance number\n",
            "\n",
            "# Define the objective function\n",
            "def profit(model):\n",
            "    return model.R * model.AY * model.MON - (model.C_OF * model.OF + model.C_IR * model.IR +\n",
            "                                            model.C_AA * model.AA + model.C_IM * model.IM)\n",
            "model.profit = Objective(rule=profit, sense=maximize)\n",
            "\n",
            "# Define the constraints\n",
            "def alkylate_yield(model):\n",
            "    return model.AY == model.OF * (1.12 + 0.13167 * model.EIO - 0.00667 * model.EIO**2)\n",
            "model.alkylate_yield_eq = Constraint(rule=alkylate_yield)\n",
            "\n",
            "def alkylate_yield_bounds(model):\n",
            "    return (0.98 * model.AY, model.OF * (1.12 + 0.13167 * model.EIO - 0.00667 * model.EIO**2), 1.02 * model.AY)\n",
            "model.alkylate_yield_bounds = Constraint(rule=alkylate_yield_bounds)\n",
            "\n",
            "def motor_octane_number(model):\n",
            "    return model.MON == 86.35 + 1.098 * model.EIO - 0.038 * model.EIO**2 + 0.325 * (model.AS - 89)\n",
            "model.motor_octane_number_eq = Constraint(rule=motor_octane_number)\n",
            "\n",
            "def motor_octane_number_bounds(model):\n",
            "    return (0.99 * model.MON, 86.35 + 1.098 * model.EIO - 0.038 * model.EIO**2 + 0.325 * (model.AS - 89), 1.01 * model.MON)\n",
            "model.motor_octane_number_bounds = Constraint(rule=motor_octane_number_bounds)\n",
            "\n",
            "def acid_dilution_factor(model):\n",
            "    return model.ADF == 35.82 - 0.222 * model.F4\n",
            "model.acid_dilution_factor_eq = Constraint(rule=acid_dilution_factor)\n",
            "\n",
            "def acid_dilution_factor_bounds(model):\n",
            "    return (0.95 * model.ADF, 35.82 - 0.222 * model.F4, 1.05 * model.ADF)\n",
            "model.acid_dilution_factor_bounds = Constraint(rule=acid_dilution_factor_bounds)\n",
            "\n",
            "def f4_performance_number(model):\n",
            "    return model.F4 == -133 + 3 * model.MON\n",
            "model.f4_performance_number_eq = Constraint(rule=f4_performance_number)\n",
            "\n",
            "def f4_performance_number_bounds(model):\n",
            "    return (0.90 * model.F4, -133 + 3 * model.MON, 1.10 * model.F4)\n",
            "model.f4_performance_number_bounds = Constraint(rule=f4_performance_number_bounds)\n",
            "\n",
            "def external_isobutane_to_olefin_ratio(model):\n",
            "    return model.EIO == (model.IR + model.IM) / model.OF\n",
            "model.external_isobutane_to_olefin_ratio_eq = Constraint(rule=external_isobutane_to_olefin_ratio)\n",
            "\n",
            "def acid_strength(model):\n",
            "    return model.AS == (93000 * model.AA) / (model.AA * model.ADF + 1000 * model.AA)\n",
            "model.acid_strength_eq = Constraint(rule=acid_strength)\n",
            "\n",
            "def material_balance(model):\n",
            "    return 1.22 * model.AY == model.OF + model.IM\n",
            "model.material_balance_eq = Constraint(rule=material_balance)\n",
            "\n",
            "# Define variable bounds (using sample data)\n",
            "model.OF_min = Param(initialize=0)\n",
            "model.OF_max = Param(initialize=1000)\n",
            "model.IR_min = Param(initialize=0)\n",
            "model.IR_max = Param(initialize=500)\n",
            "model.AA_min = Param(initialize=0)\n",
            "model.AA_max = Param(initialize=50)\n",
            "model.IM_min = Param(initialize=0)\n",
            "model.IM_max = Param(initialize=200)\n",
            "model.AS_min = Param(initialize=85)\n",
            "model.AS_max = Param(initialize=95)\n",
            "model.MON_min = Param(initialize=88)\n",
            "model.MON_max = Param(initialize=95)\n",
            "model.EIO_min = Param(initialize=5)\n",
            "model.EIO_max = Param(initialize=15)\n",
            "model.ADF_min = Param(initialize=10)\n",
            "model.ADF_max = Param(initialize=30)\n",
            "model.F4_min = Param(initialize=120)\n",
            "model.F4_max = Param(initialize=180)\n",
            "\n",
            "model.OF_bounds = Constraint(rule=lambda model: (model.OF_min, model.OF, model.OF_max))\n",
            "model.IR_bounds = Constraint(rule=lambda model: (model.IR_min, model.IR, model.IR_max))\n",
            "model.AA_bounds = Constraint(rule=lambda model: (model.AA_min, model.AA, model.AA_max))\n",
            "model.IM_bounds = Constraint(rule=lambda model: (model.IM_min, model.IM, model.IM_max))\n",
            "model.AS_bounds = Constraint(rule=lambda model: (model.AS_min, model.AS, model.AS_max))\n",
            "model.MON_bounds = Constraint(rule=lambda model: (model.MON_min, model.MON, model.MON_max))\n",
            "model.EIO_bounds = Constraint(rule=lambda model: (model.EIO_min, model.EIO, model.EIO_max))\n",
            "model.ADF_bounds = Constraint(rule=lambda model: (model.ADF_min, model.ADF, model.ADF_max))\n",
            "model.F4_bounds = Constraint(rule=lambda model: (model.F4_min, model.F4, model.F4_max))\n",
            "\n",
            "# Solve the optimization problem\n",
            "solver = SolverFactory('ipopt')\n",
            "results = solver.solve(model)\n",
            "\n",
            "# Print the results\n",
            "print(f\"Objective Value (Profit): {model.profit()}\")\n",
            "print(f\"Olefin Feed (OF): {model.OF()}\")\n",
            "print(f\"Isobutane Recycle (IR): {model.IR()}\")\n",
            "print(f\"Acid Addition Rate (AA): {model.AA()}\")\n",
            "print(f\"Alkylate Yield (AY): {model.AY()}\")\n",
            "print(f\"Isobutane Makeup (IM): {model.IM()}\")\n",
            "print(f\"Acid Strength (AS): {model.AS()}\")\n",
            "print(f\"Motor Octane Number (MON): {model.MON()}\")\n",
            "print(f\"External Isobutane-to-Olefin Ratio (EIO): {model.EIO()}\")\n",
            "print(f\"Acid Dilution Factor (ADF): {model.ADF()}\")\n",
            "print(f\"F-4 Performance Number (F4): {model.F4()}\")\n",
            "```\n",
            "\n",
            "Note: The sample data used in this code is indicated by comments. The parameter values and variable bounds are assigned using sample data, and you should replace them with the actual values based on your specific problem.\n",
            "\n",
            "This code creates a Pyomo model, defines the parameters, decision variables, objective function, and constraints based on the provided mathematical formulation. It then solves the optimization problem using the 'ipopt' solver and prints the optimal values of the decision variables and the objective function value.\n"
          ]
        }
      ]
    },
    {
      "cell_type": "markdown",
      "source": [
        "# 4. Input Problem Data and Test Model Code"
      ],
      "metadata": {
        "id": "Pc0QqJuf8up_"
      }
    },
    {
      "cell_type": "code",
      "source": [
        "# Installing pyomo nd solver\n",
        "!pip install -q pyomo\n",
        "!wget -N -q \"https://matematica.unipv.it/gualandi/solvers/ipopt-linux64.zip\"\n",
        "!unzip -o -q ipopt-linux64"
      ],
      "metadata": {
        "colab": {
          "base_uri": "https://localhost:8080/"
        },
        "id": "3BtROuLu9O-p",
        "outputId": "fa3b7a85-e104-44b1-e2f5-7b1b51e18280",
        "collapsed": true
      },
      "execution_count": 10,
      "outputs": [
        {
          "output_type": "stream",
          "name": "stdout",
          "text": [
            "\u001b[2K     \u001b[90m━━━━━━━━━━━━━━━━━━━━━━━━━━━━━━━━━━━━━━━━\u001b[0m \u001b[32m12.8/12.8 MB\u001b[0m \u001b[31m46.4 MB/s\u001b[0m eta \u001b[36m0:00:00\u001b[0m\n",
            "\u001b[2K     \u001b[90m━━━━━━━━━━━━━━━━━━━━━━━━━━━━━━━━━━━━━━━━\u001b[0m \u001b[32m49.6/49.6 kB\u001b[0m \u001b[31m3.1 MB/s\u001b[0m eta \u001b[36m0:00:00\u001b[0m\n",
            "\u001b[?25h"
          ]
        }
      ]
    },
    {
      "cell_type": "code",
      "source": [
        "from pyomo.environ import *\n",
        "\n",
        "# Create the model\n",
        "model = ConcreteModel()\n",
        "\n",
        "# Define the parameters (using sample data)\n",
        "model.R = Param(initialize=0.63)  # Revenue per barrel of alkylate yield per unit of motor octane number\n",
        "model.C_OF = Param(initialize=5.04)  # Cost per barrel of olefin feed\n",
        "model.C_IR = Param(initialize=0.035)  # Cost per barrel of isobutane recycle\n",
        "model.C_AA = Param(initialize=10.0)  # Cost per thousand pounds of acid addition rate\n",
        "model.C_IM = Param(initialize=3.36)  # Cost per barrel of isobutane makeup\n",
        "\n",
        "# Define the decision variables\n",
        "model.OF = Var(domain=NonNegativeReals)  # Olefin feed (barrels per day)\n",
        "model.IR = Var(domain=NonNegativeReals)  # Isobutane recycle (barrels per day)\n",
        "model.AA = Var(domain=NonNegativeReals)  # Acid addition rate (thousands of pounds per day)\n",
        "model.AY = Var(domain=NonNegativeReals)  # Alkylate yield (barrels per day)\n",
        "model.IM = Var(domain=NonNegativeReals)  # Isobutane makeup (barrels per day)\n",
        "model.AS = Var(domain=NonNegativeReals)  # Acid strength (weight percent)\n",
        "model.MON = Var(domain=NonNegativeReals)  # Motor octane number\n",
        "model.EIO = Var(domain=NonNegativeReals)  # External isobutane-to-olefin ratio\n",
        "model.ADF = Var(domain=NonNegativeReals)  # Acid dilution factor\n",
        "model.F4 = Var(domain=NonNegativeReals)  # F-4 performance number\n",
        "\n",
        "# Define the objective function\n",
        "def profit(model):\n",
        "    return model.R * model.AY * model.MON - (model.C_OF * model.OF + model.C_IR * model.IR +\n",
        "                                            model.C_AA * model.AA + model.C_IM * model.IM)\n",
        "model.profit = Objective(rule=profit, sense=maximize)\n",
        "\n",
        "# Define the constraints\n",
        "def alkylate_yield(model):\n",
        "    return model.AY == model.OF * (1.12 + 0.13167 * model.EIO - 0.00667 * model.EIO**2)\n",
        "model.alkylate_yield_eq = Constraint(rule=alkylate_yield)\n",
        "\n",
        "def alkylate_yield_bounds(model):\n",
        "    return (0.98 * model.AY, model.OF * (1.12 + 0.13167 * model.EIO - 0.00667 * model.EIO**2), 1.02 * model.AY)\n",
        "model.alkylate_yield_bounds = Constraint(rule=alkylate_yield_bounds)\n",
        "\n",
        "def motor_octane_number(model):\n",
        "    return model.MON == 86.35 + 1.098 * model.EIO - 0.038 * model.EIO**2 + 0.325 * (model.AS - 89)\n",
        "model.motor_octane_number_eq = Constraint(rule=motor_octane_number)\n",
        "\n",
        "def motor_octane_number_bounds(model):\n",
        "    return (0.99 * model.MON, 86.35 + 1.098 * model.EIO - 0.038 * model.EIO**2 + 0.325 * (model.AS - 89), 1.01 * model.MON)\n",
        "model.motor_octane_number_bounds = Constraint(rule=motor_octane_number_bounds)\n",
        "\n",
        "def acid_dilution_factor(model):\n",
        "    return model.ADF == 35.82 - 0.222 * model.F4\n",
        "model.acid_dilution_factor_eq = Constraint(rule=acid_dilution_factor)\n",
        "\n",
        "def acid_dilution_factor_bounds(model):\n",
        "    return (0.95 * model.ADF, 35.82 - 0.222 * model.F4, 1.05 * model.ADF)\n",
        "model.acid_dilution_factor_bounds = Constraint(rule=acid_dilution_factor_bounds)\n",
        "\n",
        "def f4_performance_number(model):\n",
        "    return model.F4 == -133 + 3 * model.MON\n",
        "model.f4_performance_number_eq = Constraint(rule=f4_performance_number)\n",
        "\n",
        "def f4_performance_number_bounds(model):\n",
        "    return (0.90 * model.F4, -133 + 3 * model.MON, 1.10 * model.F4)\n",
        "model.f4_performance_number_bounds = Constraint(rule=f4_performance_number_bounds)\n",
        "\n",
        "def external_isobutane_to_olefin_ratio(model):\n",
        "    return model.EIO == (model.IR + model.IM) / model.OF\n",
        "model.external_isobutane_to_olefin_ratio_eq = Constraint(rule=external_isobutane_to_olefin_ratio)\n",
        "\n",
        "def acid_strength(model):\n",
        "    return model.AS == (93000 * model.AA) / (model.AA * model.ADF + 1000 * model.AA)\n",
        "model.acid_strength_eq = Constraint(rule=acid_strength)\n",
        "\n",
        "def material_balance(model):\n",
        "    return 1.22 * model.AY == model.OF + model.IM\n",
        "model.material_balance_eq = Constraint(rule=material_balance)\n",
        "\n",
        "# Define variable bounds (using sample data)\n",
        "model.OF_min = Param(initialize=0)\n",
        "model.OF_max = Param(initialize=2000)\n",
        "model.IR_min = Param(initialize=0)\n",
        "model.IR_max = Param(initialize=16000)\n",
        "model.AA_min = Param(initialize=0)\n",
        "model.AA_max = Param(initialize=120)\n",
        "model.IM_min = Param(initialize=0)\n",
        "model.IM_max = Param(initialize=2000)\n",
        "model.AS_min = Param(initialize=85)\n",
        "model.AS_max = Param(initialize=93)\n",
        "model.MON_min = Param(initialize=90)\n",
        "model.MON_max = Param(initialize=95)\n",
        "model.EIO_min = Param(initialize=3)\n",
        "model.EIO_max = Param(initialize=12)\n",
        "model.ADF_min = Param(initialize=1.2)\n",
        "model.ADF_max = Param(initialize=4)\n",
        "model.F4_min = Param(initialize=145)\n",
        "model.F4_max = Param(initialize=162)\n",
        "\n",
        "model.OF_bounds = Constraint(rule=lambda model: (model.OF_min, model.OF, model.OF_max))\n",
        "model.IR_bounds = Constraint(rule=lambda model: (model.IR_min, model.IR, model.IR_max))\n",
        "model.AA_bounds = Constraint(rule=lambda model: (model.AA_min, model.AA, model.AA_max))\n",
        "model.IM_bounds = Constraint(rule=lambda model: (model.IM_min, model.IM, model.IM_max))\n",
        "model.AS_bounds = Constraint(rule=lambda model: (model.AS_min, model.AS, model.AS_max))\n",
        "model.MON_bounds = Constraint(rule=lambda model: (model.MON_min, model.MON, model.MON_max))\n",
        "model.EIO_bounds = Constraint(rule=lambda model: (model.EIO_min, model.EIO, model.EIO_max))\n",
        "model.ADF_bounds = Constraint(rule=lambda model: (model.ADF_min, model.ADF, model.ADF_max))\n",
        "model.F4_bounds = Constraint(rule=lambda model: (model.F4_min, model.F4, model.F4_max))\n",
        "\n",
        "# Solve the optimization problem\n",
        "solver = SolverFactory('ipopt')\n",
        "results = solver.solve(model)\n",
        "\n",
        "# Print the results\n",
        "print(f\"Objective Value (Profit): {model.profit()}\")\n",
        "print(f\"Olefin Feed (OF): {model.OF()}\")\n",
        "print(f\"Isobutane Recycle (IR): {model.IR()}\")\n",
        "print(f\"Acid Addition Rate (AA): {model.AA()}\")\n",
        "print(f\"Alkylate Yield (AY): {model.AY()}\")\n",
        "print(f\"Isobutane Makeup (IM): {model.IM()}\")\n",
        "print(f\"Acid Strength (AS): {model.AS()}\")\n",
        "print(f\"Motor Octane Number (MON): {model.MON()}\")\n",
        "print(f\"External Isobutane-to-Olefin Ratio (EIO): {model.EIO()}\")\n",
        "print(f\"Acid Dilution Factor (ADF): {model.ADF()}\")\n",
        "print(f\"F-4 Performance Number (F4): {model.F4()}\")"
      ],
      "metadata": {
        "colab": {
          "base_uri": "https://localhost:8080/",
          "height": 356
        },
        "id": "8FpHcuWU8rQ2",
        "outputId": "1996267f-2d2a-4b01-a9a3-c5126f5f08de"
      },
      "execution_count": 11,
      "outputs": [
        {
          "output_type": "error",
          "ename": "ValueError",
          "evalue": "Constraint 'alkylate_yield_bounds' is a Ranged Inequality with a variable lower bound.  Cannot normalize the constraint or send it to a solver.",
          "traceback": [
            "\u001b[0;31m---------------------------------------------------------------------------\u001b[0m",
            "\u001b[0;31mValueError\u001b[0m                                Traceback (most recent call last)",
            "\u001b[0;32m<ipython-input-11-8966de52c96a>\u001b[0m in \u001b[0;36m<cell line: 108>\u001b[0;34m()\u001b[0m\n\u001b[1;32m    106\u001b[0m \u001b[0;31m# Solve the optimization problem\u001b[0m\u001b[0;34m\u001b[0m\u001b[0;34m\u001b[0m\u001b[0m\n\u001b[1;32m    107\u001b[0m \u001b[0msolver\u001b[0m \u001b[0;34m=\u001b[0m \u001b[0mSolverFactory\u001b[0m\u001b[0;34m(\u001b[0m\u001b[0;34m'ipopt'\u001b[0m\u001b[0;34m)\u001b[0m\u001b[0;34m\u001b[0m\u001b[0;34m\u001b[0m\u001b[0m\n\u001b[0;32m--> 108\u001b[0;31m \u001b[0mresults\u001b[0m \u001b[0;34m=\u001b[0m \u001b[0msolver\u001b[0m\u001b[0;34m.\u001b[0m\u001b[0msolve\u001b[0m\u001b[0;34m(\u001b[0m\u001b[0mmodel\u001b[0m\u001b[0;34m)\u001b[0m\u001b[0;34m\u001b[0m\u001b[0;34m\u001b[0m\u001b[0m\n\u001b[0m\u001b[1;32m    109\u001b[0m \u001b[0;34m\u001b[0m\u001b[0m\n\u001b[1;32m    110\u001b[0m \u001b[0;31m# Print the results\u001b[0m\u001b[0;34m\u001b[0m\u001b[0;34m\u001b[0m\u001b[0m\n",
            "\u001b[0;32m/usr/local/lib/python3.10/dist-packages/pyomo/opt/base/solvers.py\u001b[0m in \u001b[0;36msolve\u001b[0;34m(self, *args, **kwds)\u001b[0m\n\u001b[1;32m    596\u001b[0m             \u001b[0minitial_time\u001b[0m \u001b[0;34m=\u001b[0m \u001b[0mtime\u001b[0m\u001b[0;34m.\u001b[0m\u001b[0mtime\u001b[0m\u001b[0;34m(\u001b[0m\u001b[0;34m)\u001b[0m\u001b[0;34m\u001b[0m\u001b[0;34m\u001b[0m\u001b[0m\n\u001b[1;32m    597\u001b[0m \u001b[0;34m\u001b[0m\u001b[0m\n\u001b[0;32m--> 598\u001b[0;31m             \u001b[0mself\u001b[0m\u001b[0;34m.\u001b[0m\u001b[0m_presolve\u001b[0m\u001b[0;34m(\u001b[0m\u001b[0;34m*\u001b[0m\u001b[0margs\u001b[0m\u001b[0;34m,\u001b[0m \u001b[0;34m**\u001b[0m\u001b[0mkwds\u001b[0m\u001b[0;34m)\u001b[0m\u001b[0;34m\u001b[0m\u001b[0;34m\u001b[0m\u001b[0m\n\u001b[0m\u001b[1;32m    599\u001b[0m \u001b[0;34m\u001b[0m\u001b[0m\n\u001b[1;32m    600\u001b[0m             \u001b[0mpresolve_completion_time\u001b[0m \u001b[0;34m=\u001b[0m \u001b[0mtime\u001b[0m\u001b[0;34m.\u001b[0m\u001b[0mtime\u001b[0m\u001b[0;34m(\u001b[0m\u001b[0;34m)\u001b[0m\u001b[0;34m\u001b[0m\u001b[0;34m\u001b[0m\u001b[0m\n",
            "\u001b[0;32m/usr/local/lib/python3.10/dist-packages/pyomo/opt/solver/shellcmd.py\u001b[0m in \u001b[0;36m_presolve\u001b[0;34m(self, *args, **kwds)\u001b[0m\n\u001b[1;32m    221\u001b[0m         \u001b[0mself\u001b[0m\u001b[0;34m.\u001b[0m\u001b[0m_define_signal_handlers\u001b[0m \u001b[0;34m=\u001b[0m \u001b[0mkwds\u001b[0m\u001b[0;34m.\u001b[0m\u001b[0mpop\u001b[0m\u001b[0;34m(\u001b[0m\u001b[0;34m'use_signal_handling'\u001b[0m\u001b[0;34m,\u001b[0m \u001b[0;32mNone\u001b[0m\u001b[0;34m)\u001b[0m\u001b[0;34m\u001b[0m\u001b[0;34m\u001b[0m\u001b[0m\n\u001b[1;32m    222\u001b[0m \u001b[0;34m\u001b[0m\u001b[0m\n\u001b[0;32m--> 223\u001b[0;31m         \u001b[0mOptSolver\u001b[0m\u001b[0;34m.\u001b[0m\u001b[0m_presolve\u001b[0m\u001b[0;34m(\u001b[0m\u001b[0mself\u001b[0m\u001b[0;34m,\u001b[0m \u001b[0;34m*\u001b[0m\u001b[0margs\u001b[0m\u001b[0;34m,\u001b[0m \u001b[0;34m**\u001b[0m\u001b[0mkwds\u001b[0m\u001b[0;34m)\u001b[0m\u001b[0;34m\u001b[0m\u001b[0;34m\u001b[0m\u001b[0m\n\u001b[0m\u001b[1;32m    224\u001b[0m \u001b[0;34m\u001b[0m\u001b[0m\n\u001b[1;32m    225\u001b[0m         \u001b[0;31m#\u001b[0m\u001b[0;34m\u001b[0m\u001b[0;34m\u001b[0m\u001b[0m\n",
            "\u001b[0;32m/usr/local/lib/python3.10/dist-packages/pyomo/opt/base/solvers.py\u001b[0m in \u001b[0;36m_presolve\u001b[0;34m(self, *args, **kwds)\u001b[0m\n\u001b[1;32m    702\u001b[0m             \u001b[0mwrite_start_time\u001b[0m \u001b[0;34m=\u001b[0m \u001b[0mtime\u001b[0m\u001b[0;34m.\u001b[0m\u001b[0mtime\u001b[0m\u001b[0;34m(\u001b[0m\u001b[0;34m)\u001b[0m\u001b[0;34m\u001b[0m\u001b[0;34m\u001b[0m\u001b[0m\n\u001b[1;32m    703\u001b[0m             (self._problem_files, self._problem_format, self._smap_id) = (\n\u001b[0;32m--> 704\u001b[0;31m                 self._convert_problem(\n\u001b[0m\u001b[1;32m    705\u001b[0m                     \u001b[0margs\u001b[0m\u001b[0;34m,\u001b[0m \u001b[0mself\u001b[0m\u001b[0;34m.\u001b[0m\u001b[0m_problem_format\u001b[0m\u001b[0;34m,\u001b[0m \u001b[0mself\u001b[0m\u001b[0;34m.\u001b[0m\u001b[0m_valid_problem_formats\u001b[0m\u001b[0;34m,\u001b[0m \u001b[0;34m**\u001b[0m\u001b[0mkwds\u001b[0m\u001b[0;34m\u001b[0m\u001b[0;34m\u001b[0m\u001b[0m\n\u001b[1;32m    706\u001b[0m                 )\n",
            "\u001b[0;32m/usr/local/lib/python3.10/dist-packages/pyomo/opt/base/solvers.py\u001b[0m in \u001b[0;36m_convert_problem\u001b[0;34m(self, args, problem_format, valid_problem_formats, **kwds)\u001b[0m\n\u001b[1;32m    754\u001b[0m \u001b[0;34m\u001b[0m\u001b[0m\n\u001b[1;32m    755\u001b[0m     \u001b[0;32mdef\u001b[0m \u001b[0m_convert_problem\u001b[0m\u001b[0;34m(\u001b[0m\u001b[0mself\u001b[0m\u001b[0;34m,\u001b[0m \u001b[0margs\u001b[0m\u001b[0;34m,\u001b[0m \u001b[0mproblem_format\u001b[0m\u001b[0;34m,\u001b[0m \u001b[0mvalid_problem_formats\u001b[0m\u001b[0;34m,\u001b[0m \u001b[0;34m**\u001b[0m\u001b[0mkwds\u001b[0m\u001b[0;34m)\u001b[0m\u001b[0;34m:\u001b[0m\u001b[0;34m\u001b[0m\u001b[0;34m\u001b[0m\u001b[0m\n\u001b[0;32m--> 756\u001b[0;31m         return convert_problem(\n\u001b[0m\u001b[1;32m    757\u001b[0m             \u001b[0margs\u001b[0m\u001b[0;34m,\u001b[0m \u001b[0mproblem_format\u001b[0m\u001b[0;34m,\u001b[0m \u001b[0mvalid_problem_formats\u001b[0m\u001b[0;34m,\u001b[0m \u001b[0mself\u001b[0m\u001b[0;34m.\u001b[0m\u001b[0mhas_capability\u001b[0m\u001b[0;34m,\u001b[0m \u001b[0;34m**\u001b[0m\u001b[0mkwds\u001b[0m\u001b[0;34m\u001b[0m\u001b[0;34m\u001b[0m\u001b[0m\n\u001b[1;32m    758\u001b[0m         )\n",
            "\u001b[0;32m/usr/local/lib/python3.10/dist-packages/pyomo/opt/base/convert.py\u001b[0m in \u001b[0;36mconvert_problem\u001b[0;34m(args, target_problem_type, valid_problem_types, has_capability, **kwds)\u001b[0m\n\u001b[1;32m     95\u001b[0m                     \u001b[0mtmpkw\u001b[0m \u001b[0;34m=\u001b[0m \u001b[0mkwds\u001b[0m\u001b[0;34m\u001b[0m\u001b[0;34m\u001b[0m\u001b[0m\n\u001b[1;32m     96\u001b[0m                     \u001b[0mtmpkw\u001b[0m\u001b[0;34m[\u001b[0m\u001b[0;34m'capabilities'\u001b[0m\u001b[0;34m]\u001b[0m \u001b[0;34m=\u001b[0m \u001b[0mhas_capability\u001b[0m\u001b[0;34m\u001b[0m\u001b[0;34m\u001b[0m\u001b[0m\n\u001b[0;32m---> 97\u001b[0;31m                     \u001b[0mproblem_files\u001b[0m\u001b[0;34m,\u001b[0m \u001b[0msymbol_map\u001b[0m \u001b[0;34m=\u001b[0m \u001b[0mconverter\u001b[0m\u001b[0;34m.\u001b[0m\u001b[0mapply\u001b[0m\u001b[0;34m(\u001b[0m\u001b[0;34m*\u001b[0m\u001b[0mtmp\u001b[0m\u001b[0;34m,\u001b[0m \u001b[0;34m**\u001b[0m\u001b[0mtmpkw\u001b[0m\u001b[0;34m)\u001b[0m\u001b[0;34m\u001b[0m\u001b[0;34m\u001b[0m\u001b[0m\n\u001b[0m\u001b[1;32m     98\u001b[0m                     \u001b[0;32mreturn\u001b[0m \u001b[0mproblem_files\u001b[0m\u001b[0;34m,\u001b[0m \u001b[0mptype\u001b[0m\u001b[0;34m,\u001b[0m \u001b[0msymbol_map\u001b[0m\u001b[0;34m\u001b[0m\u001b[0;34m\u001b[0m\u001b[0m\n\u001b[1;32m     99\u001b[0m \u001b[0;34m\u001b[0m\u001b[0m\n",
            "\u001b[0;32m/usr/local/lib/python3.10/dist-packages/pyomo/solvers/plugins/converter/model.py\u001b[0m in \u001b[0;36mapply\u001b[0;34m(self, *args, **kwds)\u001b[0m\n\u001b[1;32m    182\u001b[0m                     )\n\u001b[1;32m    183\u001b[0m                 \u001b[0;32melse\u001b[0m\u001b[0;34m:\u001b[0m\u001b[0;34m\u001b[0m\u001b[0;34m\u001b[0m\u001b[0m\n\u001b[0;32m--> 184\u001b[0;31m                     (problem_filename, symbol_map_id) = instance.write(\n\u001b[0m\u001b[1;32m    185\u001b[0m                         \u001b[0mfilename\u001b[0m\u001b[0;34m=\u001b[0m\u001b[0mproblem_filename\u001b[0m\u001b[0;34m,\u001b[0m\u001b[0;34m\u001b[0m\u001b[0;34m\u001b[0m\u001b[0m\n\u001b[1;32m    186\u001b[0m                         \u001b[0mformat\u001b[0m\u001b[0;34m=\u001b[0m\u001b[0margs\u001b[0m\u001b[0;34m[\u001b[0m\u001b[0;36m1\u001b[0m\u001b[0;34m]\u001b[0m\u001b[0;34m,\u001b[0m\u001b[0;34m\u001b[0m\u001b[0;34m\u001b[0m\u001b[0m\n",
            "\u001b[0;32m/usr/local/lib/python3.10/dist-packages/pyomo/core/base/block.py\u001b[0m in \u001b[0;36mwrite\u001b[0;34m(self, filename, format, solver_capability, io_options, int_marker)\u001b[0m\n\u001b[1;32m   1925\u001b[0m                 \u001b[0;32mreturn\u001b[0m \u001b[0;32mTrue\u001b[0m\u001b[0;34m\u001b[0m\u001b[0;34m\u001b[0m\u001b[0m\n\u001b[1;32m   1926\u001b[0m \u001b[0;34m\u001b[0m\u001b[0m\n\u001b[0;32m-> 1927\u001b[0;31m         \u001b[0;34m(\u001b[0m\u001b[0mfilename\u001b[0m\u001b[0;34m,\u001b[0m \u001b[0msmap\u001b[0m\u001b[0;34m)\u001b[0m \u001b[0;34m=\u001b[0m \u001b[0mproblem_writer\u001b[0m\u001b[0;34m(\u001b[0m\u001b[0mself\u001b[0m\u001b[0;34m,\u001b[0m \u001b[0mfilename\u001b[0m\u001b[0;34m,\u001b[0m \u001b[0msolver_capability\u001b[0m\u001b[0;34m,\u001b[0m \u001b[0mio_options\u001b[0m\u001b[0;34m)\u001b[0m\u001b[0;34m\u001b[0m\u001b[0;34m\u001b[0m\u001b[0m\n\u001b[0m\u001b[1;32m   1928\u001b[0m         \u001b[0msmap_id\u001b[0m \u001b[0;34m=\u001b[0m \u001b[0mid\u001b[0m\u001b[0;34m(\u001b[0m\u001b[0msmap\u001b[0m\u001b[0;34m)\u001b[0m\u001b[0;34m\u001b[0m\u001b[0;34m\u001b[0m\u001b[0m\n\u001b[1;32m   1929\u001b[0m         \u001b[0;32mif\u001b[0m \u001b[0;32mnot\u001b[0m \u001b[0mhasattr\u001b[0m\u001b[0;34m(\u001b[0m\u001b[0mself\u001b[0m\u001b[0;34m,\u001b[0m \u001b[0;34m'solutions'\u001b[0m\u001b[0;34m)\u001b[0m\u001b[0;34m:\u001b[0m\u001b[0;34m\u001b[0m\u001b[0;34m\u001b[0m\u001b[0m\n",
            "\u001b[0;32m/usr/local/lib/python3.10/dist-packages/pyomo/repn/plugins/nl_writer.py\u001b[0m in \u001b[0;36m__call__\u001b[0;34m(self, model, filename, solver_capability, io_options)\u001b[0m\n\u001b[1;32m    346\u001b[0m             \u001b[0mrow_fname\u001b[0m\u001b[0;34m\u001b[0m\u001b[0;34m\u001b[0m\u001b[0m\n\u001b[1;32m    347\u001b[0m         ) as ROWFILE, _open(col_fname) as COLFILE:\n\u001b[0;32m--> 348\u001b[0;31m             \u001b[0minfo\u001b[0m \u001b[0;34m=\u001b[0m \u001b[0mself\u001b[0m\u001b[0;34m.\u001b[0m\u001b[0mwrite\u001b[0m\u001b[0;34m(\u001b[0m\u001b[0mmodel\u001b[0m\u001b[0;34m,\u001b[0m \u001b[0mFILE\u001b[0m\u001b[0;34m,\u001b[0m \u001b[0mROWFILE\u001b[0m\u001b[0;34m,\u001b[0m \u001b[0mCOLFILE\u001b[0m\u001b[0;34m,\u001b[0m \u001b[0mconfig\u001b[0m\u001b[0;34m=\u001b[0m\u001b[0mconfig\u001b[0m\u001b[0;34m)\u001b[0m\u001b[0;34m\u001b[0m\u001b[0;34m\u001b[0m\u001b[0m\n\u001b[0m\u001b[1;32m    349\u001b[0m         \u001b[0;32mif\u001b[0m \u001b[0;32mnot\u001b[0m \u001b[0minfo\u001b[0m\u001b[0;34m.\u001b[0m\u001b[0mvariables\u001b[0m\u001b[0;34m:\u001b[0m\u001b[0;34m\u001b[0m\u001b[0;34m\u001b[0m\u001b[0m\n\u001b[1;32m    350\u001b[0m             \u001b[0;31m# This exception is included for compatibility with the\u001b[0m\u001b[0;34m\u001b[0m\u001b[0;34m\u001b[0m\u001b[0m\n",
            "\u001b[0;32m/usr/local/lib/python3.10/dist-packages/pyomo/repn/plugins/nl_writer.py\u001b[0m in \u001b[0;36mwrite\u001b[0;34m(self, model, ostream, rowstream, colstream, **options)\u001b[0m\n\u001b[1;32m    404\u001b[0m         \u001b[0;31m# small objects.\u001b[0m\u001b[0;34m\u001b[0m\u001b[0;34m\u001b[0m\u001b[0m\n\u001b[1;32m    405\u001b[0m         \u001b[0;32mwith\u001b[0m \u001b[0m_NLWriter_impl\u001b[0m\u001b[0;34m(\u001b[0m\u001b[0mostream\u001b[0m\u001b[0;34m,\u001b[0m \u001b[0mrowstream\u001b[0m\u001b[0;34m,\u001b[0m \u001b[0mcolstream\u001b[0m\u001b[0;34m,\u001b[0m \u001b[0mconfig\u001b[0m\u001b[0;34m)\u001b[0m \u001b[0;32mas\u001b[0m \u001b[0mimpl\u001b[0m\u001b[0;34m:\u001b[0m\u001b[0;34m\u001b[0m\u001b[0;34m\u001b[0m\u001b[0m\n\u001b[0;32m--> 406\u001b[0;31m             \u001b[0;32mreturn\u001b[0m \u001b[0mimpl\u001b[0m\u001b[0;34m.\u001b[0m\u001b[0mwrite\u001b[0m\u001b[0;34m(\u001b[0m\u001b[0mmodel\u001b[0m\u001b[0;34m)\u001b[0m\u001b[0;34m\u001b[0m\u001b[0;34m\u001b[0m\u001b[0m\n\u001b[0m\u001b[1;32m    407\u001b[0m \u001b[0;34m\u001b[0m\u001b[0m\n\u001b[1;32m    408\u001b[0m     \u001b[0;32mdef\u001b[0m \u001b[0m_generate_symbol_map\u001b[0m\u001b[0;34m(\u001b[0m\u001b[0mself\u001b[0m\u001b[0;34m,\u001b[0m \u001b[0minfo\u001b[0m\u001b[0;34m)\u001b[0m\u001b[0;34m:\u001b[0m\u001b[0;34m\u001b[0m\u001b[0;34m\u001b[0m\u001b[0m\n",
            "\u001b[0;32m/usr/local/lib/python3.10/dist-packages/pyomo/repn/plugins/nl_writer.py\u001b[0m in \u001b[0;36mwrite\u001b[0;34m(self, model)\u001b[0m\n\u001b[1;32m    728\u001b[0m             \u001b[0;31m# Note: Constraint.lb/ub guarantee a return value that is\u001b[0m\u001b[0;34m\u001b[0m\u001b[0;34m\u001b[0m\u001b[0m\n\u001b[1;32m    729\u001b[0m             \u001b[0;31m# either a (finite) native_numeric_type, or None\u001b[0m\u001b[0;34m\u001b[0m\u001b[0;34m\u001b[0m\u001b[0m\n\u001b[0;32m--> 730\u001b[0;31m             \u001b[0mlb\u001b[0m \u001b[0;34m=\u001b[0m \u001b[0mcon\u001b[0m\u001b[0;34m.\u001b[0m\u001b[0mlb\u001b[0m\u001b[0;34m\u001b[0m\u001b[0;34m\u001b[0m\u001b[0m\n\u001b[0m\u001b[1;32m    731\u001b[0m             \u001b[0mub\u001b[0m \u001b[0;34m=\u001b[0m \u001b[0mcon\u001b[0m\u001b[0;34m.\u001b[0m\u001b[0mub\u001b[0m\u001b[0;34m\u001b[0m\u001b[0;34m\u001b[0m\u001b[0m\n\u001b[1;32m    732\u001b[0m             \u001b[0;32mif\u001b[0m \u001b[0mlb\u001b[0m \u001b[0;32mis\u001b[0m \u001b[0;32mNone\u001b[0m \u001b[0;32mand\u001b[0m \u001b[0mub\u001b[0m \u001b[0;32mis\u001b[0m \u001b[0;32mNone\u001b[0m\u001b[0;34m:\u001b[0m  \u001b[0;31m# and self.config.skip_trivial_constraints:\u001b[0m\u001b[0;34m\u001b[0m\u001b[0;34m\u001b[0m\u001b[0m\n",
            "\u001b[0;32m/usr/local/lib/python3.10/dist-packages/pyomo/core/base/constraint.py\u001b[0m in \u001b[0;36mlb\u001b[0;34m(self)\u001b[0m\n\u001b[1;32m    244\u001b[0m     \u001b[0;32mdef\u001b[0m \u001b[0mlb\u001b[0m\u001b[0;34m(\u001b[0m\u001b[0mself\u001b[0m\u001b[0;34m)\u001b[0m\u001b[0;34m:\u001b[0m\u001b[0;34m\u001b[0m\u001b[0;34m\u001b[0m\u001b[0m\n\u001b[1;32m    245\u001b[0m         \u001b[0;34m\"\"\"Access the value of the lower bound of a constraint expression.\"\"\"\u001b[0m\u001b[0;34m\u001b[0m\u001b[0;34m\u001b[0m\u001b[0m\n\u001b[0;32m--> 246\u001b[0;31m         \u001b[0mbound\u001b[0m \u001b[0;34m=\u001b[0m \u001b[0mself\u001b[0m\u001b[0;34m.\u001b[0m\u001b[0m_lower\u001b[0m \u001b[0;32mif\u001b[0m \u001b[0mself\u001b[0m\u001b[0;34m.\u001b[0m\u001b[0m_body\u001b[0m \u001b[0;32mis\u001b[0m \u001b[0;32mnot\u001b[0m \u001b[0;32mNone\u001b[0m \u001b[0;32melse\u001b[0m \u001b[0mself\u001b[0m\u001b[0;34m.\u001b[0m\u001b[0m_get_range_bound\u001b[0m\u001b[0;34m(\u001b[0m\u001b[0;36m0\u001b[0m\u001b[0;34m)\u001b[0m\u001b[0;34m\u001b[0m\u001b[0;34m\u001b[0m\u001b[0m\n\u001b[0m\u001b[1;32m    247\u001b[0m         \u001b[0;32mif\u001b[0m \u001b[0mbound\u001b[0m\u001b[0;34m.\u001b[0m\u001b[0m__class__\u001b[0m \u001b[0;32mnot\u001b[0m \u001b[0;32min\u001b[0m \u001b[0mnative_numeric_types\u001b[0m\u001b[0;34m:\u001b[0m\u001b[0;34m\u001b[0m\u001b[0;34m\u001b[0m\u001b[0m\n\u001b[1;32m    248\u001b[0m             \u001b[0;32mif\u001b[0m \u001b[0mbound\u001b[0m \u001b[0;32mis\u001b[0m \u001b[0;32mNone\u001b[0m\u001b[0;34m:\u001b[0m\u001b[0;34m\u001b[0m\u001b[0;34m\u001b[0m\u001b[0m\n",
            "\u001b[0;32m/usr/local/lib/python3.10/dist-packages/pyomo/core/base/constraint.py\u001b[0m in \u001b[0;36m_get_range_bound\u001b[0;34m(self, range_arg)\u001b[0m\n\u001b[1;32m    205\u001b[0m         \u001b[0mbound\u001b[0m \u001b[0;34m=\u001b[0m \u001b[0mself\u001b[0m\u001b[0;34m.\u001b[0m\u001b[0m_expr\u001b[0m\u001b[0;34m.\u001b[0m\u001b[0marg\u001b[0m\u001b[0;34m(\u001b[0m\u001b[0mrange_arg\u001b[0m\u001b[0;34m)\u001b[0m\u001b[0;34m\u001b[0m\u001b[0;34m\u001b[0m\u001b[0m\n\u001b[1;32m    206\u001b[0m         \u001b[0;32mif\u001b[0m \u001b[0;32mnot\u001b[0m \u001b[0mis_fixed\u001b[0m\u001b[0;34m(\u001b[0m\u001b[0mbound\u001b[0m\u001b[0;34m)\u001b[0m\u001b[0;34m:\u001b[0m\u001b[0;34m\u001b[0m\u001b[0;34m\u001b[0m\u001b[0m\n\u001b[0;32m--> 207\u001b[0;31m             raise ValueError(\n\u001b[0m\u001b[1;32m    208\u001b[0m                 \u001b[0;34m\"Constraint '%s' is a Ranged Inequality with a \"\u001b[0m\u001b[0;34m\u001b[0m\u001b[0;34m\u001b[0m\u001b[0m\n\u001b[1;32m    209\u001b[0m                 \u001b[0;34m\"variable %s bound.  Cannot normalize the \"\u001b[0m\u001b[0;34m\u001b[0m\u001b[0;34m\u001b[0m\u001b[0m\n",
            "\u001b[0;31mValueError\u001b[0m: Constraint 'alkylate_yield_bounds' is a Ranged Inequality with a variable lower bound.  Cannot normalize the constraint or send it to a solver."
          ]
        }
      ]
    },
    {
      "cell_type": "markdown",
      "source": [
        "# 5. Correct The Model Code to Test Mathematical Model (if applicable)"
      ],
      "metadata": {
        "id": "KHTyoLQTWZVy"
      }
    },
    {
      "cell_type": "code",
      "source": [
        "from pyomo.environ import *\n",
        "\n",
        "# Create the model\n",
        "model = ConcreteModel()\n",
        "\n",
        "# Define the parameters (using sample data)\n",
        "model.R = Param(initialize=0.63)  # Revenue per barrel of alkylate yield per unit of motor octane number\n",
        "model.C_OF = Param(initialize=5.04)  # Cost per barrel of olefin feed\n",
        "model.C_IR = Param(initialize=0.035)  # Cost per barrel of isobutane recycle\n",
        "model.C_AA = Param(initialize=10.0)  # Cost per thousand pounds of acid addition rate\n",
        "model.C_IM = Param(initialize=3.36)  # Cost per barrel of isobutane makeup\n",
        "\n",
        "# Define the decision variables\n",
        "model.OF = Var(domain=NonNegativeReals)  # Olefin feed (barrels per day)\n",
        "model.IR = Var(domain=NonNegativeReals)  # Isobutane recycle (barrels per day)\n",
        "model.AA = Var(domain=NonNegativeReals)  # Acid addition rate (thousands of pounds per day)\n",
        "model.AY = Var(domain=NonNegativeReals)  # Alkylate yield (barrels per day)\n",
        "model.IM = Var(domain=NonNegativeReals)  # Isobutane makeup (barrels per day)\n",
        "model.AS = Var(domain=NonNegativeReals)  # Acid strength (weight percent)\n",
        "model.MON = Var(domain=NonNegativeReals)  # Motor octane number\n",
        "model.EIO = Var(domain=NonNegativeReals)  # External isobutane-to-olefin ratio\n",
        "model.ADF = Var(domain=NonNegativeReals)  # Acid dilution factor\n",
        "model.F4 = Var(domain=NonNegativeReals)  # F-4 performance number\n",
        "\n",
        "# Define the objective function\n",
        "def profit(model):\n",
        "    return model.R * model.AY * model.MON - (model.C_OF * model.OF + model.C_IR * model.IR +\n",
        "                                            model.C_AA * model.AA + model.C_IM * model.IM)\n",
        "model.profit = Objective(rule=profit, sense=maximize)\n",
        "\n",
        "# Define the constraints\n",
        "def alkylate_yield(model):\n",
        "    return model.AY == model.OF * (1.12 + 0.13167 * model.EIO - 0.00667 * model.EIO**2)\n",
        "model.alkylate_yield_eq = Constraint(rule=alkylate_yield)\n",
        "\n",
        "def alkylate_yield_bound_lower(model):\n",
        "    return (0.98 * model.AY <= model.OF * (1.12 + 0.13167 * model.EIO - 0.00667 * model.EIO**2))\n",
        "model.alkylate_yield_bound_lower = Constraint(rule=alkylate_yield_bound_lower)\n",
        "\n",
        "def alkylate_yield_bound_upper(model):\n",
        "    return (model.OF * (1.12 + 0.13167 * model.EIO - 0.00667 * model.EIO**2) <= 1.02 * model.AY)\n",
        "model.alkylate_yield_bound_upper = Constraint(rule=alkylate_yield_bound_upper)\n",
        "\n",
        "def motor_octane_number(model):\n",
        "    return model.MON == 86.35 + 1.098 * model.EIO - 0.038 * model.EIO**2 + 0.325 * (model.AS - 89)\n",
        "model.motor_octane_number_eq = Constraint(rule=motor_octane_number)\n",
        "\n",
        "def motor_octane_number_bound_lower(model):\n",
        "    return (0.99 * model.MON <= 86.35 + 1.098 * model.EIO - 0.038 * model.EIO**2 + 0.325 * (model.AS - 89))\n",
        "model.motor_octane_number_bound_lower = Constraint(rule=motor_octane_number_bound_lower)\n",
        "\n",
        "def motor_octane_number_bound_upper(model):\n",
        "    return (86.35 + 1.098 * model.EIO - 0.038 * model.EIO**2 + 0.325 * (model.AS - 89) <= 1.01 * model.MON)\n",
        "model.motor_octane_number_bound_upper = Constraint(rule=motor_octane_number_bound_upper)\n",
        "\n",
        "def acid_dilution_factor(model):\n",
        "    return model.ADF == 35.82 - 0.222 * model.F4\n",
        "model.acid_dilution_factor_eq = Constraint(rule=acid_dilution_factor)\n",
        "\n",
        "def acid_dilution_factor_bound_lower(model):\n",
        "    return (0.95 * model.ADF <= 35.82 - 0.222 * model.F4)\n",
        "model.acid_dilution_factor_bound_lower = Constraint(rule=acid_dilution_factor_bound_lower)\n",
        "\n",
        "def acid_dilution_factor_bound_upper(model):\n",
        "    return (35.82 - 0.222 * model.F4 <= 1.05 * model.ADF)\n",
        "model.acid_dilution_factor_bound_upper = Constraint(rule=acid_dilution_factor_bound_upper)\n",
        "\n",
        "def f4_performance_number(model):\n",
        "    return model.F4 == -133 + 3 * model.MON\n",
        "model.f4_performance_number_eq = Constraint(rule=f4_performance_number)\n",
        "\n",
        "def f4_performance_number_bound_lower(model):\n",
        "    return (0.90 * model.F4 <= -133 + 3 * model.MON)\n",
        "model.f4_performance_number_bound_lower = Constraint(rule=f4_performance_number_bound_lower)\n",
        "\n",
        "def f4_performance_number_bound_upper(model):\n",
        "    return (-133 + 3 * model.MON <= 1.10 * model.F4)\n",
        "model.f4_performance_number_bound_upper = Constraint(rule=f4_performance_number_bound_upper)\n",
        "\n",
        "def external_isobutane_to_olefin_ratio(model):\n",
        "    return model.EIO == (model.IR + model.IM) / model.OF\n",
        "model.external_isobutane_to_olefin_ratio_eq = Constraint(rule=external_isobutane_to_olefin_ratio)\n",
        "\n",
        "def acid_strength(model):\n",
        "    return model.AS == (93000 * model.AA) / (model.AA * model.ADF + 1000 * model.AA)\n",
        "model.acid_strength_eq = Constraint(rule=acid_strength)\n",
        "\n",
        "def material_balance(model):\n",
        "    return 1.22 * model.AY == model.OF + model.IM\n",
        "model.material_balance_eq = Constraint(rule=material_balance)\n",
        "\n",
        "# Define variable bounds (using sample data)\n",
        "model.OF_min = Param(initialize=0)\n",
        "model.OF_max = Param(initialize=2000)\n",
        "model.IR_min = Param(initialize=0)\n",
        "model.IR_max = Param(initialize=16000)\n",
        "model.AA_min = Param(initialize=0)\n",
        "model.AA_max = Param(initialize=120)\n",
        "model.IM_min = Param(initialize=0)\n",
        "model.IM_max = Param(initialize=2000)\n",
        "model.AS_min = Param(initialize=85)\n",
        "model.AS_max = Param(initialize=93)\n",
        "model.MON_min = Param(initialize=90)\n",
        "model.MON_max = Param(initialize=95)\n",
        "model.EIO_min = Param(initialize=3)\n",
        "model.EIO_max = Param(initialize=12)\n",
        "model.ADF_min = Param(initialize=1.2)\n",
        "model.ADF_max = Param(initialize=4)\n",
        "model.F4_min = Param(initialize=145)\n",
        "model.F4_max = Param(initialize=162)\n",
        "\n",
        "model.OF_bounds = Constraint(rule=lambda model: (model.OF_min, model.OF, model.OF_max))\n",
        "model.IR_bounds = Constraint(rule=lambda model: (model.IR_min, model.IR, model.IR_max))\n",
        "model.AA_bounds = Constraint(rule=lambda model: (model.AA_min, model.AA, model.AA_max))\n",
        "model.IM_bounds = Constraint(rule=lambda model: (model.IM_min, model.IM, model.IM_max))\n",
        "model.AS_bounds = Constraint(rule=lambda model: (model.AS_min, model.AS, model.AS_max))\n",
        "model.MON_bounds = Constraint(rule=lambda model: (model.MON_min, model.MON, model.MON_max))\n",
        "model.EIO_bounds = Constraint(rule=lambda model: (model.EIO_min, model.EIO, model.EIO_max))\n",
        "model.ADF_bounds = Constraint(rule=lambda model: (model.ADF_min, model.ADF, model.ADF_max))\n",
        "model.F4_bounds = Constraint(rule=lambda model: (model.F4_min, model.F4, model.F4_max))\n",
        "\n",
        "# Solve the optimization problem\n",
        "solver = SolverFactory('ipopt')\n",
        "results = solver.solve(model)\n",
        "\n",
        "# Print the results\n",
        "print(f\"Objective Value (Profit): {model.profit()}\")\n",
        "print(f\"Olefin Feed (OF): {model.OF()}\")\n",
        "print(f\"Isobutane Recycle (IR): {model.IR()}\")\n",
        "print(f\"Acid Addition Rate (AA): {model.AA()}\")\n",
        "print(f\"Alkylate Yield (AY): {model.AY()}\")\n",
        "print(f\"Isobutane Makeup (IM): {model.IM()}\")\n",
        "print(f\"Acid Strength (AS): {model.AS()}\")\n",
        "print(f\"Motor Octane Number (MON): {model.MON()}\")\n",
        "print(f\"External Isobutane-to-Olefin Ratio (EIO): {model.EIO()}\")\n",
        "print(f\"Acid Dilution Factor (ADF): {model.ADF()}\")\n",
        "print(f\"F-4 Performance Number (F4): {model.F4()}\")"
      ],
      "metadata": {
        "id": "voCBXWWKA2LO",
        "colab": {
          "base_uri": "https://localhost:8080/"
        },
        "outputId": "565ec672-fb95-4f2e-c28f-37ec985bf1e2"
      },
      "execution_count": 13,
      "outputs": [
        {
          "output_type": "stream",
          "name": "stdout",
          "text": [
            "Objective Value (Profit): 171952.10683655558\n",
            "Olefin Feed (OF): 1945.5990069237341\n",
            "Isobutane Recycle (IR): 9391.1099301561\n",
            "Acid Addition Rate (AA): 0.0\n",
            "Alkylate Yield (AY): 3234.0975630522175\n",
            "Isobutane Makeup (IM): 2000.0000199999708\n",
            "Acid Strength (AS): 92.66363098967906\n",
            "Motor Octane Number (MON): 92.66666618333375\n",
            "External Isobutane-to-Olefin Ratio (EIO): 5.854808678262547\n",
            "Acid Dilution Factor (ADF): 3.630000321899722\n",
            "F-4 Performance Number (F4): 144.99999855000124\n"
          ]
        }
      ]
    }
  ]
}