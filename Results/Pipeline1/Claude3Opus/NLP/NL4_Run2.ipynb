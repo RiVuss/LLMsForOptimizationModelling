{
  "nbformat": 4,
  "nbformat_minor": 0,
  "metadata": {
    "colab": {
      "provenance": []
    },
    "kernelspec": {
      "name": "python3",
      "display_name": "Python 3"
    },
    "language_info": {
      "name": "python"
    }
  },
  "cells": [
    {
      "cell_type": "markdown",
      "source": [
        "# 0. Imports and Setting up Anthropic API Client"
      ],
      "metadata": {
        "id": "y5fw0lkBwBbo"
      }
    },
    {
      "cell_type": "code",
      "source": [
        "from google.colab import drive\n",
        "\n",
        "drive.mount('/content/drive')"
      ],
      "metadata": {
        "colab": {
          "base_uri": "https://localhost:8080/"
        },
        "id": "e7tWOLo0yMoH",
        "outputId": "70688835-177a-4b3a-fbc1-76f50168ba25"
      },
      "execution_count": 1,
      "outputs": [
        {
          "output_type": "stream",
          "name": "stdout",
          "text": [
            "Mounted at /content/drive\n"
          ]
        }
      ]
    },
    {
      "cell_type": "code",
      "source": [
        "!pip install python-dotenv\n",
        "\n",
        "import os\n",
        "import dotenv\n",
        "\n",
        "dotenv.load_dotenv('/content/drive/MyDrive/.env')"
      ],
      "metadata": {
        "colab": {
          "base_uri": "https://localhost:8080/"
        },
        "id": "utcEK8lZ1Z1R",
        "outputId": "aa078393-5855-47a9-8488-a6692fcd4b2c"
      },
      "execution_count": 2,
      "outputs": [
        {
          "output_type": "stream",
          "name": "stdout",
          "text": [
            "Collecting python-dotenv\n",
            "  Downloading python_dotenv-1.0.1-py3-none-any.whl (19 kB)\n",
            "Installing collected packages: python-dotenv\n",
            "Successfully installed python-dotenv-1.0.1\n"
          ]
        },
        {
          "output_type": "execute_result",
          "data": {
            "text/plain": [
              "True"
            ]
          },
          "metadata": {},
          "execution_count": 2
        }
      ]
    },
    {
      "cell_type": "code",
      "source": [
        "# Load Prompts and Problem Description\n",
        "prompt1_path = '/content/drive/MyDrive/Thesis/Prompts/Prompt1_MathematicalModel.txt'\n",
        "prompt2_path = '/content/drive/MyDrive/Thesis/Prompts/Prompt2_PyomoCode.txt'\n",
        "problem_desc_path = '/content/drive/MyDrive/Thesis/ProblemDescriptions/NL/NL4.txt'\n",
        "\n",
        "prompt1_file = open(prompt1_path, \"r\")\n",
        "prompt2_file = open(prompt2_path, \"r\")\n",
        "problem_desc_file = open(problem_desc_path, \"r\")\n",
        "\n",
        "prompt1 = prompt1_file.read()\n",
        "print(\"Prompt 1:\\n\", prompt1)\n",
        "\n",
        "prompt2 = prompt2_file.read()\n",
        "print(\"Prompt 2:\\n\", prompt2)\n",
        "\n",
        "problem_desc = problem_desc_file.read()\n",
        "print(\"Problem Description:\\n\", problem_desc)"
      ],
      "metadata": {
        "colab": {
          "base_uri": "https://localhost:8080/"
        },
        "id": "9KlkjwMUS4xp",
        "outputId": "cfc048a2-d696-4d60-df05-9b3386af44b9"
      },
      "execution_count": 3,
      "outputs": [
        {
          "output_type": "stream",
          "name": "stdout",
          "text": [
            "Prompt 1:\n",
            " Please write a mathematical optimization model for this problem. Include parameters, decision variables, the objective function and the constraints in your answer.\n",
            "Prompt 2:\n",
            " Please write a python pyomo code for this optimization problem.\n",
            "Use sample data where needed.\n",
            "Indicate where you use sample data.\n",
            "Problem Description:\n",
            " We are looking at an alkylation process which will include the following 10 variables: olefin feed (barrels per day), isobutane recycle (barrels per day), acid addition rate (thousands of pounds per day), alkylate yield (barrels per day), isobutane makeup (barrels per day), acid strength (weight per cent), motor octane number, external isobutane-to-olefin ratio, acid dilution factor and F-4 performance number. \n",
            "\n",
            "We want to maximize the daily profit of this alkylation process. \n",
            "The profit is defined as the revenue generated from the alkylate yield multiplied with the motor octane number, minus the operational costs, which include olefin feed, isobutane recycle, acid addition rate, and isobutane makeup. \n",
            "\n",
            "Relationships in terms of other variables for alkylate yield, motor octane number, acid dilution factor, and F-4 performance number can be formulated as regression formulas. \n",
            "This regression estimate can deviate in both directions from true value of these variables by 2, 1, 5 and 10 percent, respectively.\n",
            "Alkylate yield is a function of olefin feed and external isobutane-to-olefine yield. Alkalyte yield equals the amount of olefin feed multiplied by the sum of 1.12, 0.13167 times the external isobutane-to-olefin ratio and -0.00667 times the external isobutane-to-olefin ratio squared.\n",
            "The motor octane number is derived from the external isobutane-to-olefin ratio and the acid strength. The motor octane number is calculated as the sum of 86.35, 1.098 time external isobutane-to-olefin ratio, -0.038 times the external isobutane-to-olefin ratio squared and 0.325 times acid strength reduced by 89.\n",
            "The acid dilution factor is calculated based on the F-4 performance number. The acid dillution factor is expressed as 35.82 minus 0.222 times F-4 performance number.\n",
            "Lastly, the F-4 performance number depends on the motor octane number. F-4 performance number is calculated as -133 plus three times the motor octane number.\n",
            "\n",
            "There are some additional constraints imposed by the nature of the chemical process.\n",
            "Each variable has a lower and an upper bound.\n",
            "The external isobutane-to-olefin ratio needs to equal the ratio of isobutane recycle plus isobutane makeup to olefin feed. \n",
            "The acid strength needs to equal the ratio of 93000 times acid addition rate to acid addition rate multiplied by acid dilution factor in addition to 1000 times acid addition rate. \n",
            "Lastly, 1.22 alkylate yield needs to be equal to the combined olefin feed and isobutane makeup.\n"
          ]
        }
      ]
    },
    {
      "cell_type": "code",
      "source": [
        "!pip install anthropic"
      ],
      "metadata": {
        "colab": {
          "base_uri": "https://localhost:8080/"
        },
        "id": "iWlNsTIvxCcR",
        "outputId": "11ae1d6f-9b8c-4431-bad0-41c665addcdf",
        "collapsed": true
      },
      "execution_count": 4,
      "outputs": [
        {
          "output_type": "stream",
          "name": "stdout",
          "text": [
            "Collecting anthropic\n",
            "  Downloading anthropic-0.26.0-py3-none-any.whl (877 kB)\n",
            "\u001b[2K     \u001b[90m━━━━━━━━━━━━━━━━━━━━━━━━━━━━━━━━━━━━━━━━\u001b[0m \u001b[32m877.7/877.7 kB\u001b[0m \u001b[31m12.0 MB/s\u001b[0m eta \u001b[36m0:00:00\u001b[0m\n",
            "\u001b[?25hRequirement already satisfied: anyio<5,>=3.5.0 in /usr/local/lib/python3.10/dist-packages (from anthropic) (3.7.1)\n",
            "Requirement already satisfied: distro<2,>=1.7.0 in /usr/lib/python3/dist-packages (from anthropic) (1.7.0)\n",
            "Collecting httpx<1,>=0.23.0 (from anthropic)\n",
            "  Downloading httpx-0.27.0-py3-none-any.whl (75 kB)\n",
            "\u001b[2K     \u001b[90m━━━━━━━━━━━━━━━━━━━━━━━━━━━━━━━━━━━━━━━━\u001b[0m \u001b[32m75.6/75.6 kB\u001b[0m \u001b[31m9.8 MB/s\u001b[0m eta \u001b[36m0:00:00\u001b[0m\n",
            "\u001b[?25hRequirement already satisfied: pydantic<3,>=1.9.0 in /usr/local/lib/python3.10/dist-packages (from anthropic) (2.7.1)\n",
            "Requirement already satisfied: sniffio in /usr/local/lib/python3.10/dist-packages (from anthropic) (1.3.1)\n",
            "Requirement already satisfied: tokenizers>=0.13.0 in /usr/local/lib/python3.10/dist-packages (from anthropic) (0.19.1)\n",
            "Requirement already satisfied: typing-extensions<5,>=4.7 in /usr/local/lib/python3.10/dist-packages (from anthropic) (4.11.0)\n",
            "Requirement already satisfied: idna>=2.8 in /usr/local/lib/python3.10/dist-packages (from anyio<5,>=3.5.0->anthropic) (3.7)\n",
            "Requirement already satisfied: exceptiongroup in /usr/local/lib/python3.10/dist-packages (from anyio<5,>=3.5.0->anthropic) (1.2.1)\n",
            "Requirement already satisfied: certifi in /usr/local/lib/python3.10/dist-packages (from httpx<1,>=0.23.0->anthropic) (2024.2.2)\n",
            "Collecting httpcore==1.* (from httpx<1,>=0.23.0->anthropic)\n",
            "  Downloading httpcore-1.0.5-py3-none-any.whl (77 kB)\n",
            "\u001b[2K     \u001b[90m━━━━━━━━━━━━━━━━━━━━━━━━━━━━━━━━━━━━━━━━\u001b[0m \u001b[32m77.9/77.9 kB\u001b[0m \u001b[31m9.9 MB/s\u001b[0m eta \u001b[36m0:00:00\u001b[0m\n",
            "\u001b[?25hCollecting h11<0.15,>=0.13 (from httpcore==1.*->httpx<1,>=0.23.0->anthropic)\n",
            "  Downloading h11-0.14.0-py3-none-any.whl (58 kB)\n",
            "\u001b[2K     \u001b[90m━━━━━━━━━━━━━━━━━━━━━━━━━━━━━━━━━━━━━━━━\u001b[0m \u001b[32m58.3/58.3 kB\u001b[0m \u001b[31m7.3 MB/s\u001b[0m eta \u001b[36m0:00:00\u001b[0m\n",
            "\u001b[?25hRequirement already satisfied: annotated-types>=0.4.0 in /usr/local/lib/python3.10/dist-packages (from pydantic<3,>=1.9.0->anthropic) (0.6.0)\n",
            "Requirement already satisfied: pydantic-core==2.18.2 in /usr/local/lib/python3.10/dist-packages (from pydantic<3,>=1.9.0->anthropic) (2.18.2)\n",
            "Requirement already satisfied: huggingface-hub<1.0,>=0.16.4 in /usr/local/lib/python3.10/dist-packages (from tokenizers>=0.13.0->anthropic) (0.20.3)\n",
            "Requirement already satisfied: filelock in /usr/local/lib/python3.10/dist-packages (from huggingface-hub<1.0,>=0.16.4->tokenizers>=0.13.0->anthropic) (3.14.0)\n",
            "Requirement already satisfied: fsspec>=2023.5.0 in /usr/local/lib/python3.10/dist-packages (from huggingface-hub<1.0,>=0.16.4->tokenizers>=0.13.0->anthropic) (2023.6.0)\n",
            "Requirement already satisfied: requests in /usr/local/lib/python3.10/dist-packages (from huggingface-hub<1.0,>=0.16.4->tokenizers>=0.13.0->anthropic) (2.31.0)\n",
            "Requirement already satisfied: tqdm>=4.42.1 in /usr/local/lib/python3.10/dist-packages (from huggingface-hub<1.0,>=0.16.4->tokenizers>=0.13.0->anthropic) (4.66.4)\n",
            "Requirement already satisfied: pyyaml>=5.1 in /usr/local/lib/python3.10/dist-packages (from huggingface-hub<1.0,>=0.16.4->tokenizers>=0.13.0->anthropic) (6.0.1)\n",
            "Requirement already satisfied: packaging>=20.9 in /usr/local/lib/python3.10/dist-packages (from huggingface-hub<1.0,>=0.16.4->tokenizers>=0.13.0->anthropic) (24.0)\n",
            "Requirement already satisfied: charset-normalizer<4,>=2 in /usr/local/lib/python3.10/dist-packages (from requests->huggingface-hub<1.0,>=0.16.4->tokenizers>=0.13.0->anthropic) (3.3.2)\n",
            "Requirement already satisfied: urllib3<3,>=1.21.1 in /usr/local/lib/python3.10/dist-packages (from requests->huggingface-hub<1.0,>=0.16.4->tokenizers>=0.13.0->anthropic) (2.0.7)\n",
            "Installing collected packages: h11, httpcore, httpx, anthropic\n",
            "Successfully installed anthropic-0.26.0 h11-0.14.0 httpcore-1.0.5 httpx-0.27.0\n"
          ]
        }
      ]
    },
    {
      "cell_type": "code",
      "execution_count": 5,
      "metadata": {
        "id": "7Qjk2D63v1Bl"
      },
      "outputs": [],
      "source": [
        "# Importing Anthropic & Setting Headers\n",
        "import anthropic\n",
        "\n",
        "client = anthropic.Anthropic(\n",
        "    # defaults to os.environ.get(\"ANTHROPIC_API_KEY\")\n",
        "    api_key=os.environ.get(\"ANTHROPIC_API_KEY\"),\n",
        ")"
      ]
    },
    {
      "cell_type": "markdown",
      "source": [
        "# 1. Prompt 1: Create Mathematical Model"
      ],
      "metadata": {
        "id": "kT7yKbJs18XR"
      }
    },
    {
      "cell_type": "code",
      "source": [
        "message = client.messages.create(\n",
        "    model=\"claude-3-opus-20240229\",\n",
        "    system=prompt1,\n",
        "    max_tokens=4096,\n",
        "    messages=[\n",
        "        {\"role\": \"user\", \"content\": problem_desc}\n",
        "    ]\n",
        ")\n",
        "\n",
        "response_p1 = message.content[0].text"
      ],
      "metadata": {
        "id": "R_6X0axq16D4"
      },
      "execution_count": 6,
      "outputs": []
    },
    {
      "cell_type": "code",
      "source": [
        "# Print response\n",
        "print(response_p1)"
      ],
      "metadata": {
        "colab": {
          "base_uri": "https://localhost:8080/"
        },
        "id": "Ra9Ox_PI38jg",
        "outputId": "086348c8-5292-4c87-cc2d-daf11eda72f8"
      },
      "execution_count": 7,
      "outputs": [
        {
          "output_type": "stream",
          "name": "stdout",
          "text": [
            "Thank you for providing the problem description. Let's formulate the mathematical optimization model for the alkylation process.\n",
            "\n",
            "Parameters:\n",
            "- Let the revenue per barrel of alkylate yield be denoted as R.\n",
            "- Let the cost per barrel of olefin feed be denoted as C_OF.\n",
            "- Let the cost per barrel of isobutane recycle be denoted as C_IR.\n",
            "- Let the cost per thousand pounds of acid addition rate be denoted as C_AAR.\n",
            "- Let the cost per barrel of isobutane makeup be denoted as C_IM.\n",
            "\n",
            "Decision Variables:\n",
            "- Let OF be the olefin feed (barrels per day).\n",
            "- Let IR be the isobutane recycle (barrels per day).\n",
            "- Let AAR be the acid addition rate (thousands of pounds per day).\n",
            "- Let AY be the alkylate yield (barrels per day).\n",
            "- Let IM be the isobutane makeup (barrels per day).\n",
            "- Let AS be the acid strength (weight percent).\n",
            "- Let MON be the motor octane number.\n",
            "- Let EIO be the external isobutane-to-olefin ratio.\n",
            "- Let ADF be the acid dilution factor.\n",
            "- Let F4 be the F-4 performance number.\n",
            "\n",
            "Objective Function:\n",
            "Maximize Daily Profit = R * AY * MON - (C_OF * OF + C_IR * IR + C_AAR * AAR + C_IM * IM)\n",
            "\n",
            "Constraints:\n",
            "1. Alkylate Yield: 0.98 * (1.12 * OF + 0.13167 * OF * EIO - 0.00667 * OF * EIO^2) ≤ AY ≤ 1.02 * (1.12 * OF + 0.13167 * OF * EIO - 0.00667 * OF * EIO^2)\n",
            "2. Motor Octane Number: 0.99 * (86.35 + 1.098 * EIO - 0.038 * EIO^2 + 0.325 * (AS - 89)) ≤ MON ≤ 1.01 * (86.35 + 1.098 * EIO - 0.038 * EIO^2 + 0.325 * (AS - 89))\n",
            "3. Acid Dilution Factor: 0.95 * (35.82 - 0.222 * F4) ≤ ADF ≤ 1.05 * (35.82 - 0.222 * F4)\n",
            "4. F-4 Performance Number: 0.9 * (-133 + 3 * MON) ≤ F4 ≤ 1.1 * (-133 + 3 * MON)\n",
            "5. External Isobutane-to-Olefin Ratio: EIO = (IR + IM) / OF\n",
            "6. Acid Strength: AS = (93000 * AAR) / (AAR * ADF + 1000 * AAR)\n",
            "7. Material Balance: 1.22 * AY = OF + IM\n",
            "8. Variable Bounds:\n",
            "   - Lower_Bound_i ≤ Variable_i ≤ Upper_Bound_i, for i = 1, 2, ..., 10 (for all variables)\n",
            "\n",
            "The objective is to maximize the daily profit, which is calculated as the revenue generated from the alkylate yield multiplied by the motor octane number, minus the operational costs associated with olefin feed, isobutane recycle, acid addition rate, and isobutane makeup.\n",
            "\n",
            "The constraints include the regression formulas for alkylate yield, motor octane number, acid dilution factor, and F-4 performance number, allowing for the specified deviations. The external isobutane-to-olefin ratio and acid strength are defined based on the given relationships. The material balance constraint ensures that the alkylate yield is consistent with the olefin feed and isobutane makeup. Lastly, each variable is bounded by its respective lower and upper bounds.\n"
          ]
        }
      ]
    },
    {
      "cell_type": "markdown",
      "source": [
        "# 2. Prompt 2: Write Code based on Mathematical Model"
      ],
      "metadata": {
        "id": "WPZ6lgBO729j"
      }
    },
    {
      "cell_type": "code",
      "source": [
        "message2 = client.messages.create(\n",
        "    model=\"claude-3-opus-20240229\",\n",
        "    system=prompt2,\n",
        "    max_tokens=4069,\n",
        "    messages=[\n",
        "        {\"role\": \"user\", \"content\": response_p1}\n",
        "    ]\n",
        ")\n",
        "\n",
        "response_p2 = message2.content[0].text"
      ],
      "metadata": {
        "id": "1iUSgBda70FL"
      },
      "execution_count": 8,
      "outputs": []
    },
    {
      "cell_type": "code",
      "source": [
        "# Print response\n",
        "print(response_p2)"
      ],
      "metadata": {
        "colab": {
          "base_uri": "https://localhost:8080/"
        },
        "id": "o40mxc_H8eQ9",
        "outputId": "164ad629-43e5-420a-f5e2-ef7e23857322"
      },
      "execution_count": 9,
      "outputs": [
        {
          "output_type": "stream",
          "name": "stdout",
          "text": [
            "Here's a sample Pyomo code for the alkylation process optimization problem:\n",
            "\n",
            "```python\n",
            "from pyomo.environ import *\n",
            "\n",
            "# Create the model\n",
            "model = ConcreteModel()\n",
            "\n",
            "# Define the parameters (using sample data)\n",
            "model.R = Param(initialize=100)  # Revenue per barrel of alkylate yield\n",
            "model.C_OF = Param(initialize=50)  # Cost per barrel of olefin feed\n",
            "model.C_IR = Param(initialize=30)  # Cost per barrel of isobutane recycle\n",
            "model.C_AAR = Param(initialize=10)  # Cost per thousand pounds of acid addition rate\n",
            "model.C_IM = Param(initialize=40)  # Cost per barrel of isobutane makeup\n",
            "\n",
            "# Define the decision variables\n",
            "model.OF = Var(domain=NonNegativeReals)  # Olefin feed (barrels per day)\n",
            "model.IR = Var(domain=NonNegativeReals)  # Isobutane recycle (barrels per day)\n",
            "model.AAR = Var(domain=NonNegativeReals)  # Acid addition rate (thousands of pounds per day)\n",
            "model.AY = Var(domain=NonNegativeReals)  # Alkylate yield (barrels per day)\n",
            "model.IM = Var(domain=NonNegativeReals)  # Isobutane makeup (barrels per day)\n",
            "model.AS = Var(domain=NonNegativeReals)  # Acid strength (weight percent)\n",
            "model.MON = Var(domain=NonNegativeReals)  # Motor octane number\n",
            "model.EIO = Var(domain=NonNegativeReals)  # External isobutane-to-olefin ratio\n",
            "model.ADF = Var(domain=NonNegativeReals)  # Acid dilution factor\n",
            "model.F4 = Var(domain=NonNegativeReals)  # F-4 performance number\n",
            "\n",
            "# Define the objective function\n",
            "model.profit = Objective(expr=model.R * model.AY * model.MON - (model.C_OF * model.OF + model.C_IR * model.IR +\n",
            "                              model.C_AAR * model.AAR + model.C_IM * model.IM), sense=maximize)\n",
            "\n",
            "# Define the constraints\n",
            "model.alkylate_yield_lower = Constraint(expr=0.98 * (1.12 * model.OF + 0.13167 * model.OF * model.EIO -\n",
            "                                             0.00667 * model.OF * model.EIO ** 2) <= model.AY)\n",
            "model.alkylate_yield_upper = Constraint(expr=model.AY <= 1.02 * (1.12 * model.OF + 0.13167 * model.OF * model.EIO -\n",
            "                                             0.00667 * model.OF * model.EIO ** 2))\n",
            "model.motor_octane_lower = Constraint(expr=0.99 * (86.35 + 1.098 * model.EIO - 0.038 * model.EIO ** 2 +\n",
            "                                            0.325 * (model.AS - 89)) <= model.MON)\n",
            "model.motor_octane_upper = Constraint(expr=model.MON <= 1.01 * (86.35 + 1.098 * model.EIO - 0.038 * model.EIO ** 2 +\n",
            "                                            0.325 * (model.AS - 89)))\n",
            "model.acid_dilution_lower = Constraint(expr=0.95 * (35.82 - 0.222 * model.F4) <= model.ADF)\n",
            "model.acid_dilution_upper = Constraint(expr=model.ADF <= 1.05 * (35.82 - 0.222 * model.F4))\n",
            "model.f4_performance_lower = Constraint(expr=0.9 * (-133 + 3 * model.MON) <= model.F4)\n",
            "model.f4_performance_upper = Constraint(expr=model.F4 <= 1.1 * (-133 + 3 * model.MON))\n",
            "model.external_isobutane_ratio = Constraint(expr=model.EIO == (model.IR + model.IM) / model.OF)\n",
            "model.acid_strength = Constraint(expr=model.AS == (93000 * model.AAR) / (model.AAR * model.ADF + 1000 * model.AAR))\n",
            "model.material_balance = Constraint(expr=1.22 * model.AY == model.OF + model.IM)\n",
            "\n",
            "# Define variable bounds (using sample data)\n",
            "model.OF.setlb(5000)\n",
            "model.OF.setub(10000)\n",
            "model.IR.setlb(2000)\n",
            "model.IR.setub(5000)\n",
            "model.AAR.setlb(1)\n",
            "model.AAR.setub(5)\n",
            "model.AY.setlb(4000)\n",
            "model.AY.setub(8000)\n",
            "model.IM.setlb(1000)\n",
            "model.IM.setub(3000)\n",
            "model.AS.setlb(85)\n",
            "model.AS.setub(95)\n",
            "model.MON.setlb(90)\n",
            "model.MON.setub(100)\n",
            "model.EIO.setlb(1)\n",
            "model.EIO.setub(3)\n",
            "model.ADF.setlb(30)\n",
            "model.ADF.setub(40)\n",
            "model.F4.setlb(100)\n",
            "model.F4.setub(200)\n",
            "\n",
            "# Solve the optimization problem\n",
            "SolverFactory('ipopt').solve(model)\n",
            "\n",
            "# Print the optimal solution\n",
            "print(\"Optimal Daily Profit: \", model.profit())\n",
            "print(\"Olefin Feed (OF): \", model.OF())\n",
            "print(\"Isobutane Recycle (IR): \", model.IR())\n",
            "print(\"Acid Addition Rate (AAR): \", model.AAR())\n",
            "print(\"Alkylate Yield (AY): \", model.AY())\n",
            "print(\"Isobutane Makeup (IM): \", model.IM())\n",
            "print(\"Acid Strength (AS): \", model.AS())\n",
            "print(\"Motor Octane Number (MON): \", model.MON())\n",
            "print(\"External Isobutane-to-Olefin Ratio (EIO): \", model.EIO())\n",
            "print(\"Acid Dilution Factor (ADF): \", model.ADF())\n",
            "print(\"F-4 Performance Number (F4): \", model.F4())\n",
            "```\n",
            "\n",
            "Note: The sample data for parameter values and variable bounds are provided for illustrative purposes. You should replace them with actual data relevant to your problem.\n",
            "\n",
            "The code creates a Pyomo model, defines the parameters, decision variables, objective function, and constraints based on the problem description. It then solves the optimization problem using the IPOPT solver and prints the optimal solution.\n",
            "\n",
            "Please make sure to have Pyomo and the IPOPT solver installed before running the code. You can install Pyomo by running `pip install pyomo` and obtain the IPOPT solver from the COIN-OR website (https://www.coin-or.org/download/binary/Ipopt/).\n"
          ]
        }
      ]
    },
    {
      "cell_type": "markdown",
      "source": [
        "# 4. Input Problem Data and Test Model Code"
      ],
      "metadata": {
        "id": "Pc0QqJuf8up_"
      }
    },
    {
      "cell_type": "code",
      "source": [
        "# Installing pyomo nd solver\n",
        "!pip install -q pyomo\n",
        "!wget -N -q \"https://matematica.unipv.it/gualandi/solvers/ipopt-linux64.zip\"\n",
        "!unzip -o -q ipopt-linux64"
      ],
      "metadata": {
        "colab": {
          "base_uri": "https://localhost:8080/"
        },
        "id": "3BtROuLu9O-p",
        "outputId": "c9aa3287-2ee0-4ee1-ec0e-5e33bae94493",
        "collapsed": true
      },
      "execution_count": 10,
      "outputs": [
        {
          "output_type": "stream",
          "name": "stdout",
          "text": [
            "\u001b[2K     \u001b[90m━━━━━━━━━━━━━━━━━━━━━━━━━━━━━━━━━━━━━━━━\u001b[0m \u001b[32m12.8/12.8 MB\u001b[0m \u001b[31m58.1 MB/s\u001b[0m eta \u001b[36m0:00:00\u001b[0m\n",
            "\u001b[2K     \u001b[90m━━━━━━━━━━━━━━━━━━━━━━━━━━━━━━━━━━━━━━━━\u001b[0m \u001b[32m49.6/49.6 kB\u001b[0m \u001b[31m5.2 MB/s\u001b[0m eta \u001b[36m0:00:00\u001b[0m\n",
            "\u001b[?25h"
          ]
        }
      ]
    },
    {
      "cell_type": "code",
      "source": [
        "from pyomo.environ import *\n",
        "\n",
        "# Create the model\n",
        "model = ConcreteModel()\n",
        "\n",
        "# Define the parameters (using sample data)\n",
        "model.R = Param(initialize=0.63)  # Revenue per barrel of alkylate yield\n",
        "model.C_OF = Param(initialize=5.04)  # Cost per barrel of olefin feed\n",
        "model.C_IR = Param(initialize=0.035)  # Cost per barrel of isobutane recycle\n",
        "model.C_AAR = Param(initialize=10)  # Cost per thousand pounds of acid addition rate\n",
        "model.C_IM = Param(initialize=3.36)  # Cost per barrel of isobutane makeup\n",
        "\n",
        "# Define the decision variables\n",
        "model.OF = Var(domain=NonNegativeReals)  # Olefin feed (barrels per day)\n",
        "model.IR = Var(domain=NonNegativeReals)  # Isobutane recycle (barrels per day)\n",
        "model.AAR = Var(domain=NonNegativeReals)  # Acid addition rate (thousands of pounds per day)\n",
        "model.AY = Var(domain=NonNegativeReals)  # Alkylate yield (barrels per day)\n",
        "model.IM = Var(domain=NonNegativeReals)  # Isobutane makeup (barrels per day)\n",
        "model.AS = Var(domain=NonNegativeReals)  # Acid strength (weight percent)\n",
        "model.MON = Var(domain=NonNegativeReals)  # Motor octane number\n",
        "model.EIO = Var(domain=NonNegativeReals)  # External isobutane-to-olefin ratio\n",
        "model.ADF = Var(domain=NonNegativeReals)  # Acid dilution factor\n",
        "model.F4 = Var(domain=NonNegativeReals)  # F-4 performance number\n",
        "\n",
        "# Define the objective function\n",
        "model.profit = Objective(expr=model.R * model.AY * model.MON - (model.C_OF * model.OF + model.C_IR * model.IR +\n",
        "                              model.C_AAR * model.AAR + model.C_IM * model.IM), sense=maximize)\n",
        "\n",
        "# Define the constraints\n",
        "model.alkylate_yield_lower = Constraint(expr=0.98 * (1.12 * model.OF + 0.13167 * model.OF * model.EIO -\n",
        "                                             0.00667 * model.OF * model.EIO ** 2) <= model.AY)\n",
        "model.alkylate_yield_upper = Constraint(expr=model.AY <= 1.02 * (1.12 * model.OF + 0.13167 * model.OF * model.EIO -\n",
        "                                             0.00667 * model.OF * model.EIO ** 2))\n",
        "model.motor_octane_lower = Constraint(expr=0.99 * (86.35 + 1.098 * model.EIO - 0.038 * model.EIO ** 2 +\n",
        "                                            0.325 * (model.AS - 89)) <= model.MON)\n",
        "model.motor_octane_upper = Constraint(expr=model.MON <= 1.01 * (86.35 + 1.098 * model.EIO - 0.038 * model.EIO ** 2 +\n",
        "                                            0.325 * (model.AS - 89)))\n",
        "model.acid_dilution_lower = Constraint(expr=0.95 * (35.82 - 0.222 * model.F4) <= model.ADF)\n",
        "model.acid_dilution_upper = Constraint(expr=model.ADF <= 1.05 * (35.82 - 0.222 * model.F4))\n",
        "model.f4_performance_lower = Constraint(expr=0.9 * (-133 + 3 * model.MON) <= model.F4)\n",
        "model.f4_performance_upper = Constraint(expr=model.F4 <= 1.1 * (-133 + 3 * model.MON))\n",
        "model.external_isobutane_ratio = Constraint(expr=model.EIO == (model.IR + model.IM) / model.OF)\n",
        "model.acid_strength = Constraint(expr=model.AS == (93000 * model.AAR) / (model.AAR * model.ADF + 1000 * model.AAR))\n",
        "model.material_balance = Constraint(expr=1.22 * model.AY == model.OF + model.IM)\n",
        "\n",
        "# Define variable bounds (using sample data)\n",
        "model.OF.setlb(0)\n",
        "model.OF.setub(2000)\n",
        "model.IR.setlb(0)\n",
        "model.IR.setub(160000)\n",
        "model.AAR.setlb(0)\n",
        "model.AAR.setub(120)\n",
        "model.AY.setlb(0)\n",
        "model.AY.setub(5000)\n",
        "model.IM.setlb(0)\n",
        "model.IM.setub(2000)\n",
        "model.AS.setlb(85)\n",
        "model.AS.setub(93)\n",
        "model.MON.setlb(90)\n",
        "model.MON.setub(95)\n",
        "model.EIO.setlb(3)\n",
        "model.EIO.setub(12)\n",
        "model.ADF.setlb(1.2)\n",
        "model.ADF.setub(4)\n",
        "model.F4.setlb(145)\n",
        "model.F4.setub(162)\n",
        "\n",
        "# Solve the optimization problem\n",
        "SolverFactory('ipopt').solve(model)\n",
        "\n",
        "# Print the optimal solution\n",
        "print(\"Optimal Daily Profit: \", model.profit())\n",
        "print(\"Olefin Feed (OF): \", model.OF())\n",
        "print(\"Isobutane Recycle (IR): \", model.IR())\n",
        "print(\"Acid Addition Rate (AAR): \", model.AAR())\n",
        "print(\"Alkylate Yield (AY): \", model.AY())\n",
        "print(\"Isobutane Makeup (IM): \", model.IM())\n",
        "print(\"Acid Strength (AS): \", model.AS())\n",
        "print(\"Motor Octane Number (MON): \", model.MON())\n",
        "print(\"External Isobutane-to-Olefin Ratio (EIO): \", model.EIO())\n",
        "print(\"Acid Dilution Factor (ADF): \", model.ADF())\n",
        "print(\"F-4 Performance Number (F4): \", model.F4())"
      ],
      "metadata": {
        "colab": {
          "base_uri": "https://localhost:8080/"
        },
        "id": "8FpHcuWU8rQ2",
        "outputId": "383e0967-e265-4df4-80d1-3e156cbbea86"
      },
      "execution_count": 11,
      "outputs": [
        {
          "output_type": "stream",
          "name": "stdout",
          "text": [
            "Optimal Daily Profit:  176594.13705361064\n",
            "Olefin Feed (OF):  2000.0\n",
            "Isobutane Recycle (IR):  10113.175625405225\n",
            "Acid Addition Rate (AAR):  0.0\n",
            "Alkylate Yield (AY):  3278.688557376949\n",
            "Isobutane Makeup (IM):  2000.0\n",
            "Acid Strength (AS):  92.88853376059825\n",
            "Motor Octane Number (MON):  93.79868152416277\n",
            "External Isobutane-to-Olefin Ratio (EIO):  6.056587762136944\n",
            "Acid Dilution Factor (ADF):  1.2\n",
            "F-4 Performance Number (F4):  155.9263365300636\n"
          ]
        }
      ]
    },
    {
      "cell_type": "markdown",
      "source": [
        "# 5. Correct The Model Code to Test Mathematical Model (if applicable)"
      ],
      "metadata": {
        "id": "KHTyoLQTWZVy"
      }
    },
    {
      "cell_type": "code",
      "source": [],
      "metadata": {
        "id": "voCBXWWKA2LO"
      },
      "execution_count": 11,
      "outputs": []
    }
  ]
}