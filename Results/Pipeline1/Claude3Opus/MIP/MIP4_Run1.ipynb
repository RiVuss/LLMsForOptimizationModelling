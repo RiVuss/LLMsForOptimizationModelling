{
  "nbformat": 4,
  "nbformat_minor": 0,
  "metadata": {
    "colab": {
      "provenance": []
    },
    "kernelspec": {
      "name": "python3",
      "display_name": "Python 3"
    },
    "language_info": {
      "name": "python"
    }
  },
  "cells": [
    {
      "cell_type": "markdown",
      "source": [
        "# 0. Imports and Setting up Anthropic API Client"
      ],
      "metadata": {
        "id": "y5fw0lkBwBbo"
      }
    },
    {
      "cell_type": "code",
      "source": [
        "from google.colab import drive\n",
        "\n",
        "drive.mount('/content/drive')"
      ],
      "metadata": {
        "colab": {
          "base_uri": "https://localhost:8080/"
        },
        "id": "e7tWOLo0yMoH",
        "outputId": "4249c589-562e-4898-98e1-63f43e2d783e"
      },
      "execution_count": 1,
      "outputs": [
        {
          "output_type": "stream",
          "name": "stdout",
          "text": [
            "Mounted at /content/drive\n"
          ]
        }
      ]
    },
    {
      "cell_type": "code",
      "source": [
        "!pip install python-dotenv\n",
        "\n",
        "import os\n",
        "import dotenv\n",
        "\n",
        "dotenv.load_dotenv('/content/drive/MyDrive/.env')"
      ],
      "metadata": {
        "colab": {
          "base_uri": "https://localhost:8080/"
        },
        "id": "utcEK8lZ1Z1R",
        "outputId": "5f042c50-7aee-41d9-dfa7-65730b1e3009"
      },
      "execution_count": 2,
      "outputs": [
        {
          "output_type": "stream",
          "name": "stdout",
          "text": [
            "Collecting python-dotenv\n",
            "  Downloading python_dotenv-1.0.1-py3-none-any.whl (19 kB)\n",
            "Installing collected packages: python-dotenv\n",
            "Successfully installed python-dotenv-1.0.1\n"
          ]
        },
        {
          "output_type": "execute_result",
          "data": {
            "text/plain": [
              "True"
            ]
          },
          "metadata": {},
          "execution_count": 2
        }
      ]
    },
    {
      "cell_type": "code",
      "source": [
        "# Load Prompts and Problem Description\n",
        "prompt1_path = '/content/drive/MyDrive/Thesis/Prompts/Prompt1_MathematicalModel.txt'\n",
        "prompt2_path = '/content/drive/MyDrive/Thesis/Prompts/Prompt2_PyomoCode.txt'\n",
        "problem_desc_path = '/content/drive/MyDrive/Thesis/ProblemDescriptions/MIP/MIP4.txt'\n",
        "\n",
        "prompt1_file = open(prompt1_path, \"r\")\n",
        "prompt2_file = open(prompt2_path, \"r\")\n",
        "problem_desc_file = open(problem_desc_path, \"r\")\n",
        "\n",
        "prompt1 = prompt1_file.read()\n",
        "print(\"Prompt 1:\\n\", prompt1)\n",
        "\n",
        "prompt2 = prompt2_file.read()\n",
        "print(\"Prompt 2:\\n\", prompt2)\n",
        "\n",
        "problem_desc = problem_desc_file.read()\n",
        "print(\"Problem Description:\\n\", problem_desc)"
      ],
      "metadata": {
        "colab": {
          "base_uri": "https://localhost:8080/"
        },
        "id": "9KlkjwMUS4xp",
        "outputId": "95270535-9b29-45c8-ef08-02d089c63e9a"
      },
      "execution_count": 3,
      "outputs": [
        {
          "output_type": "stream",
          "name": "stdout",
          "text": [
            "Prompt 1:\n",
            " Please write a mathematical optimization model for this problem. Include parameters, decision variables, the objective function and the constraints in your answer.\n",
            "Prompt 2:\n",
            " Please write a python pyomo code for this optimization problem.\n",
            "Use sample data where needed.\n",
            "Indicate where you use sample data.\n",
            "Problem Description:\n",
            " You are task with maximizing the water flow in a network of pipes over 10 time steps. The water enters the system at point A and exits the system at point G. Hence, you need to maximize the amount of water that flows to point G. The water enters point A according to the function f(t) = max(-4/30t^3+t^2-0.234t+3, 0), where t is the time step. There are serveral points that are connected through pipes. Each pipe has a fixed capacity. Each point has to possibility to release water out of the system in case the outgoing pipes are full. There are 12 available pipes in total but only 10 of them can be activated. Deactivated pipes can not be used to transport water. The activation status of a pipe is set before any water arrives at point A and does not change. Finally, water can not be stored at the connection points which means that any water coming in at time t needs to be flowing out at time t + 1.\n",
            "\n",
            "These are the pipe capacities:\n",
            "AB: 3\n",
            "AC: 6\n",
            "AF: 1\n",
            "BC: 3\n",
            "BD: 10\n",
            "BE: 4\n",
            "CE: 4\n",
            "CF: 4\n",
            "DE: 5\n",
            "EG: 5\n",
            "FB: 12\n",
            "FG: 7\n"
          ]
        }
      ]
    },
    {
      "cell_type": "code",
      "source": [
        "!pip install anthropic"
      ],
      "metadata": {
        "colab": {
          "base_uri": "https://localhost:8080/"
        },
        "id": "iWlNsTIvxCcR",
        "outputId": "25a4308a-e54b-493f-edf3-cb038bd0df34",
        "collapsed": true
      },
      "execution_count": 4,
      "outputs": [
        {
          "output_type": "stream",
          "name": "stdout",
          "text": [
            "Collecting anthropic\n",
            "  Downloading anthropic-0.26.0-py3-none-any.whl (877 kB)\n",
            "\u001b[2K     \u001b[90m━━━━━━━━━━━━━━━━━━━━━━━━━━━━━━━━━━━━━━━━\u001b[0m \u001b[32m877.7/877.7 kB\u001b[0m \u001b[31m7.6 MB/s\u001b[0m eta \u001b[36m0:00:00\u001b[0m\n",
            "\u001b[?25hRequirement already satisfied: anyio<5,>=3.5.0 in /usr/local/lib/python3.10/dist-packages (from anthropic) (3.7.1)\n",
            "Requirement already satisfied: distro<2,>=1.7.0 in /usr/lib/python3/dist-packages (from anthropic) (1.7.0)\n",
            "Collecting httpx<1,>=0.23.0 (from anthropic)\n",
            "  Downloading httpx-0.27.0-py3-none-any.whl (75 kB)\n",
            "\u001b[2K     \u001b[90m━━━━━━━━━━━━━━━━━━━━━━━━━━━━━━━━━━━━━━━━\u001b[0m \u001b[32m75.6/75.6 kB\u001b[0m \u001b[31m12.0 MB/s\u001b[0m eta \u001b[36m0:00:00\u001b[0m\n",
            "\u001b[?25hRequirement already satisfied: pydantic<3,>=1.9.0 in /usr/local/lib/python3.10/dist-packages (from anthropic) (2.7.1)\n",
            "Requirement already satisfied: sniffio in /usr/local/lib/python3.10/dist-packages (from anthropic) (1.3.1)\n",
            "Requirement already satisfied: tokenizers>=0.13.0 in /usr/local/lib/python3.10/dist-packages (from anthropic) (0.19.1)\n",
            "Requirement already satisfied: typing-extensions<5,>=4.7 in /usr/local/lib/python3.10/dist-packages (from anthropic) (4.11.0)\n",
            "Requirement already satisfied: idna>=2.8 in /usr/local/lib/python3.10/dist-packages (from anyio<5,>=3.5.0->anthropic) (3.7)\n",
            "Requirement already satisfied: exceptiongroup in /usr/local/lib/python3.10/dist-packages (from anyio<5,>=3.5.0->anthropic) (1.2.1)\n",
            "Requirement already satisfied: certifi in /usr/local/lib/python3.10/dist-packages (from httpx<1,>=0.23.0->anthropic) (2024.2.2)\n",
            "Collecting httpcore==1.* (from httpx<1,>=0.23.0->anthropic)\n",
            "  Downloading httpcore-1.0.5-py3-none-any.whl (77 kB)\n",
            "\u001b[2K     \u001b[90m━━━━━━━━━━━━━━━━━━━━━━━━━━━━━━━━━━━━━━━━\u001b[0m \u001b[32m77.9/77.9 kB\u001b[0m \u001b[31m9.0 MB/s\u001b[0m eta \u001b[36m0:00:00\u001b[0m\n",
            "\u001b[?25hCollecting h11<0.15,>=0.13 (from httpcore==1.*->httpx<1,>=0.23.0->anthropic)\n",
            "  Downloading h11-0.14.0-py3-none-any.whl (58 kB)\n",
            "\u001b[2K     \u001b[90m━━━━━━━━━━━━━━━━━━━━━━━━━━━━━━━━━━━━━━━━\u001b[0m \u001b[32m58.3/58.3 kB\u001b[0m \u001b[31m7.6 MB/s\u001b[0m eta \u001b[36m0:00:00\u001b[0m\n",
            "\u001b[?25hRequirement already satisfied: annotated-types>=0.4.0 in /usr/local/lib/python3.10/dist-packages (from pydantic<3,>=1.9.0->anthropic) (0.6.0)\n",
            "Requirement already satisfied: pydantic-core==2.18.2 in /usr/local/lib/python3.10/dist-packages (from pydantic<3,>=1.9.0->anthropic) (2.18.2)\n",
            "Requirement already satisfied: huggingface-hub<1.0,>=0.16.4 in /usr/local/lib/python3.10/dist-packages (from tokenizers>=0.13.0->anthropic) (0.20.3)\n",
            "Requirement already satisfied: filelock in /usr/local/lib/python3.10/dist-packages (from huggingface-hub<1.0,>=0.16.4->tokenizers>=0.13.0->anthropic) (3.14.0)\n",
            "Requirement already satisfied: fsspec>=2023.5.0 in /usr/local/lib/python3.10/dist-packages (from huggingface-hub<1.0,>=0.16.4->tokenizers>=0.13.0->anthropic) (2023.6.0)\n",
            "Requirement already satisfied: requests in /usr/local/lib/python3.10/dist-packages (from huggingface-hub<1.0,>=0.16.4->tokenizers>=0.13.0->anthropic) (2.31.0)\n",
            "Requirement already satisfied: tqdm>=4.42.1 in /usr/local/lib/python3.10/dist-packages (from huggingface-hub<1.0,>=0.16.4->tokenizers>=0.13.0->anthropic) (4.66.4)\n",
            "Requirement already satisfied: pyyaml>=5.1 in /usr/local/lib/python3.10/dist-packages (from huggingface-hub<1.0,>=0.16.4->tokenizers>=0.13.0->anthropic) (6.0.1)\n",
            "Requirement already satisfied: packaging>=20.9 in /usr/local/lib/python3.10/dist-packages (from huggingface-hub<1.0,>=0.16.4->tokenizers>=0.13.0->anthropic) (24.0)\n",
            "Requirement already satisfied: charset-normalizer<4,>=2 in /usr/local/lib/python3.10/dist-packages (from requests->huggingface-hub<1.0,>=0.16.4->tokenizers>=0.13.0->anthropic) (3.3.2)\n",
            "Requirement already satisfied: urllib3<3,>=1.21.1 in /usr/local/lib/python3.10/dist-packages (from requests->huggingface-hub<1.0,>=0.16.4->tokenizers>=0.13.0->anthropic) (2.0.7)\n",
            "Installing collected packages: h11, httpcore, httpx, anthropic\n",
            "Successfully installed anthropic-0.26.0 h11-0.14.0 httpcore-1.0.5 httpx-0.27.0\n"
          ]
        }
      ]
    },
    {
      "cell_type": "code",
      "execution_count": 5,
      "metadata": {
        "id": "7Qjk2D63v1Bl"
      },
      "outputs": [],
      "source": [
        "# Importing Anthropic & Setting Headers\n",
        "import anthropic\n",
        "\n",
        "client = anthropic.Anthropic(\n",
        "    # defaults to os.environ.get(\"ANTHROPIC_API_KEY\")\n",
        "    api_key=os.environ.get(\"ANTHROPIC_API_KEY\"),\n",
        ")"
      ]
    },
    {
      "cell_type": "markdown",
      "source": [
        "# 1. Prompt 1: Create Mathematical Model"
      ],
      "metadata": {
        "id": "kT7yKbJs18XR"
      }
    },
    {
      "cell_type": "code",
      "source": [
        "message = client.messages.create(\n",
        "    model=\"claude-3-opus-20240229\",\n",
        "    system=prompt1,\n",
        "    max_tokens=4096,\n",
        "    messages=[\n",
        "        {\"role\": \"user\", \"content\": problem_desc}\n",
        "    ]\n",
        ")\n",
        "\n",
        "response_p1 = message.content[0].text"
      ],
      "metadata": {
        "id": "R_6X0axq16D4"
      },
      "execution_count": 6,
      "outputs": []
    },
    {
      "cell_type": "code",
      "source": [
        "# Print response\n",
        "print(response_p1)"
      ],
      "metadata": {
        "colab": {
          "base_uri": "https://localhost:8080/"
        },
        "id": "Ra9Ox_PI38jg",
        "outputId": "fdef8b6b-f03e-414d-a98d-ea3677520f83"
      },
      "execution_count": 7,
      "outputs": [
        {
          "output_type": "stream",
          "name": "stdout",
          "text": [
            "Here's the mathematical optimization model for the given problem:\n",
            "\n",
            "Parameters:\n",
            "- T: Total number of time steps (T = 10)\n",
            "- N: Total number of points in the network (N = 7, points A to G)\n",
            "- M: Total number of available pipes (M = 12)\n",
            "- K: Number of pipes that can be activated (K = 10)\n",
            "- cap[i, j]: Capacity of the pipe connecting points i and j\n",
            "- f(t): Water inflow at point A at time step t, where f(t) = max(-4/30t^3 + t^2 - 0.234t + 3, 0)\n",
            "\n",
            "Decision Variables:\n",
            "- x[i, j, t]: Flow of water from point i to point j at time step t (continuous variable)\n",
            "- y[i, j]: Binary variable indicating if the pipe connecting points i and j is activated (1 if activated, 0 otherwise)\n",
            "- r[i, t]: Amount of water released out of the system at point i at time step t (continuous variable)\n",
            "\n",
            "Objective Function:\n",
            "Maximize: sum(x['G', 'out', t] for t in range(1, T+1))\n",
            "\n",
            "Constraints:\n",
            "1. Water inflow at point A:\n",
            "   x['in', 'A', t] = f(t) for t in range(1, T+1)\n",
            "\n",
            "2. Water outflow at point G:\n",
            "   x['G', 'out', t] <= sum(x[i, 'G', t] for i in ['E', 'F']) for t in range(1, T+1)\n",
            "\n",
            "3. Flow conservation at each point i (except A and G) and time step t:\n",
            "   sum(x[j, i, t-1] for j in inflow_points[i]) + r[i, t-1] = sum(x[i, j, t] for j in outflow_points[i]) + r[i, t] for i in range(1, N-1), t in range(2, T+1)\n",
            "\n",
            "4. Capacity constraints for each pipe:\n",
            "   x[i, j, t] <= cap[i, j] * y[i, j] for i, j in pipes, t in range(1, T+1)\n",
            "\n",
            "5. Activation constraint:\n",
            "   sum(y[i, j] for i, j in pipes) <= K\n",
            "\n",
            "6. Non-negativity constraints:\n",
            "   x[i, j, t] >= 0 for i, j in pipes, t in range(1, T+1)\n",
            "   r[i, t] >= 0 for i in range(1, N-1), t in range(1, T+1)\n",
            "\n",
            "7. Binary constraints:\n",
            "   y[i, j] in {0, 1} for i, j in pipes\n",
            "\n",
            "Note:\n",
            "- inflow_points[i] represents the set of points that have a pipe flowing into point i\n",
            "- outflow_points[i] represents the set of points that have a pipe flowing out of point i\n",
            "- pipes is the set of all available pipes represented as (i, j) tuples\n",
            "\n",
            "This optimization model aims to maximize the total water flow at point G over the given time steps while satisfying the flow conservation, capacity, activation, and non-negativity constraints.\n"
          ]
        }
      ]
    },
    {
      "cell_type": "markdown",
      "source": [
        "# 2. Prompt 2: Write Code based on Mathematical Model"
      ],
      "metadata": {
        "id": "WPZ6lgBO729j"
      }
    },
    {
      "cell_type": "code",
      "source": [
        "message2 = client.messages.create(\n",
        "    model=\"claude-3-opus-20240229\",\n",
        "    system=prompt2,\n",
        "    max_tokens=4069,\n",
        "    messages=[\n",
        "        {\"role\": \"user\", \"content\": response_p1}\n",
        "    ]\n",
        ")\n",
        "\n",
        "response_p2 = message2.content[0].text"
      ],
      "metadata": {
        "id": "1iUSgBda70FL"
      },
      "execution_count": 8,
      "outputs": []
    },
    {
      "cell_type": "code",
      "source": [
        "# Print response\n",
        "print(response_p2)"
      ],
      "metadata": {
        "colab": {
          "base_uri": "https://localhost:8080/"
        },
        "id": "o40mxc_H8eQ9",
        "outputId": "fe495185-39e4-4d3f-b904-8606f6b20459"
      },
      "execution_count": 9,
      "outputs": [
        {
          "output_type": "stream",
          "name": "stdout",
          "text": [
            "Here's the Python code using Pyomo to solve the optimization problem:\n",
            "\n",
            "```python\n",
            "import pyomo.environ as pyo\n",
            "import numpy as np\n",
            "\n",
            "# Sample data\n",
            "T = 10  # Total number of time steps\n",
            "N = 7   # Total number of points in the network (A to G)\n",
            "M = 12  # Total number of available pipes\n",
            "K = 10  # Number of pipes that can be activated\n",
            "\n",
            "# Sample capacity data for pipes\n",
            "cap = {\n",
            "    ('in', 'A'): 10, ('A', 'B'): 8, ('A', 'C'): 6, ('B', 'C'): 5,\n",
            "    ('B', 'D'): 7, ('B', 'E'): 4, ('C', 'D'): 3, ('C', 'E'): 6,\n",
            "    ('D', 'E'): 5, ('D', 'F'): 8, ('E', 'F'): 4, ('E', 'G'): 9,\n",
            "    ('F', 'G'): 7, ('G', 'out'): 10\n",
            "}\n",
            "\n",
            "# Water inflow function at point A\n",
            "def f(t):\n",
            "    return max(-4/30 * t**3 + t**2 - 0.234 * t + 3, 0)\n",
            "\n",
            "# Create the Pyomo model\n",
            "model = pyo.ConcreteModel()\n",
            "\n",
            "# Define sets\n",
            "model.T = pyo.RangeSet(1, T)\n",
            "model.N = pyo.RangeSet(1, N-1)  # Excluding point G\n",
            "model.pipes = pyo.Set(initialize=cap.keys())\n",
            "\n",
            "# Define decision variables\n",
            "model.x = pyo.Var(model.pipes, model.T, domain=pyo.NonNegativeReals)\n",
            "model.y = pyo.Var(model.pipes, domain=pyo.Binary)\n",
            "model.r = pyo.Var(model.N, model.T, domain=pyo.NonNegativeReals)\n",
            "\n",
            "# Define objective function\n",
            "def obj_rule(model):\n",
            "    return sum(model.x['G', 'out', t] for t in model.T)\n",
            "model.obj = pyo.Objective(rule=obj_rule, sense=pyo.maximize)\n",
            "\n",
            "# Define constraints\n",
            "def inflow_rule(model, t):\n",
            "    return model.x['in', 'A', t] == f(t)\n",
            "model.inflow_con = pyo.Constraint(model.T, rule=inflow_rule)\n",
            "\n",
            "def outflow_rule(model, t):\n",
            "    return model.x['G', 'out', t] <= sum(model.x[i, 'G', t] for i in ['E', 'F'])\n",
            "model.outflow_con = pyo.Constraint(model.T, rule=outflow_rule)\n",
            "\n",
            "def flow_conservation_rule(model, i, t):\n",
            "    inflow_points = [j for j, k in model.pipes if k == i]\n",
            "    outflow_points = [k for j, k in model.pipes if j == i]\n",
            "    if t == 1:\n",
            "        return sum(model.x[j, i, t] for j in inflow_points) + model.r[i, t] == sum(model.x[i, j, t] for j in outflow_points)\n",
            "    else:\n",
            "        return sum(model.x[j, i, t-1] for j in inflow_points) + model.r[i, t-1] == sum(model.x[i, j, t] for j in outflow_points) + model.r[i, t]\n",
            "model.flow_conservation_con = pyo.Constraint(model.N, model.T, rule=flow_conservation_rule)\n",
            "\n",
            "def capacity_rule(model, i, j, t):\n",
            "    return model.x[i, j, t] <= cap[i, j] * model.y[i, j]\n",
            "model.capacity_con = pyo.Constraint(model.pipes, model.T, rule=capacity_rule)\n",
            "\n",
            "def activation_rule(model):\n",
            "    return sum(model.y[i, j] for i, j in model.pipes) <= K\n",
            "model.activation_con = pyo.Constraint(rule=activation_rule)\n",
            "\n",
            "# Solve the optimization problem\n",
            "solver = pyo.SolverFactory('glpk')\n",
            "results = solver.solve(model)\n",
            "\n",
            "# Print the results\n",
            "print(\"Objective value:\", pyo.value(model.obj))\n",
            "for i, j in model.pipes:\n",
            "    if pyo.value(model.y[i, j]) > 0:\n",
            "        print(f\"Pipe ({i}, {j}) is activated\")\n",
            "        for t in model.T:\n",
            "            print(f\"Flow from {i} to {j} at time {t}: {pyo.value(model.x[i, j, t])}\")\n",
            "```\n",
            "\n",
            "Note: The code assumes that you have the `glpk` solver installed. You can change the solver to any other compatible solver if needed.\n",
            "\n",
            "The code uses sample data for the following:\n",
            "- Total number of time steps (T = 10)\n",
            "- Total number of points in the network (N = 7)\n",
            "- Total number of available pipes (M = 12)\n",
            "- Number of pipes that can be activated (K = 10)\n",
            "- Capacity of the pipes (cap dictionary)\n",
            "\n",
            "The water inflow function at point A, f(t), is defined based on the given equation.\n",
            "\n",
            "The code defines the Pyomo model, sets, decision variables, objective function, and constraints according to the mathematical model described earlier. It then solves the optimization problem using the specified solver and prints the objective value and the activated pipes along with their flows at each time step.\n",
            "\n",
            "Remember to install Pyomo and the required solver (e.g., glpk) before running the code.\n"
          ]
        }
      ]
    },
    {
      "cell_type": "markdown",
      "source": [
        "# 4. Input Problem Data and Test Model Code"
      ],
      "metadata": {
        "id": "Pc0QqJuf8up_"
      }
    },
    {
      "cell_type": "code",
      "source": [
        "# Installing pyomo nd solver\n",
        "!pip install -q pyomo\n",
        "!apt-get install -y -qq glpk-utils\n",
        "!pip install glpk\n",
        "!pip install pandas"
      ],
      "metadata": {
        "colab": {
          "base_uri": "https://localhost:8080/"
        },
        "id": "3BtROuLu9O-p",
        "outputId": "9f5e1639-c686-4aa3-a10c-8885950ceb23",
        "collapsed": true
      },
      "execution_count": 10,
      "outputs": [
        {
          "output_type": "stream",
          "name": "stdout",
          "text": [
            "\u001b[2K     \u001b[90m━━━━━━━━━━━━━━━━━━━━━━━━━━━━━━━━━━━━━━━━\u001b[0m \u001b[32m12.8/12.8 MB\u001b[0m \u001b[31m33.0 MB/s\u001b[0m eta \u001b[36m0:00:00\u001b[0m\n",
            "\u001b[2K     \u001b[90m━━━━━━━━━━━━━━━━━━━━━━━━━━━━━━━━━━━━━━━━\u001b[0m \u001b[32m49.6/49.6 kB\u001b[0m \u001b[31m6.8 MB/s\u001b[0m eta \u001b[36m0:00:00\u001b[0m\n",
            "\u001b[?25hSelecting previously unselected package libsuitesparseconfig5:amd64.\n",
            "(Reading database ... 121918 files and directories currently installed.)\n",
            "Preparing to unpack .../libsuitesparseconfig5_1%3a5.10.1+dfsg-4build1_amd64.deb ...\n",
            "Unpacking libsuitesparseconfig5:amd64 (1:5.10.1+dfsg-4build1) ...\n",
            "Selecting previously unselected package libamd2:amd64.\n",
            "Preparing to unpack .../libamd2_1%3a5.10.1+dfsg-4build1_amd64.deb ...\n",
            "Unpacking libamd2:amd64 (1:5.10.1+dfsg-4build1) ...\n",
            "Selecting previously unselected package libcolamd2:amd64.\n",
            "Preparing to unpack .../libcolamd2_1%3a5.10.1+dfsg-4build1_amd64.deb ...\n",
            "Unpacking libcolamd2:amd64 (1:5.10.1+dfsg-4build1) ...\n",
            "Selecting previously unselected package libglpk40:amd64.\n",
            "Preparing to unpack .../libglpk40_5.0-1_amd64.deb ...\n",
            "Unpacking libglpk40:amd64 (5.0-1) ...\n",
            "Selecting previously unselected package glpk-utils.\n",
            "Preparing to unpack .../glpk-utils_5.0-1_amd64.deb ...\n",
            "Unpacking glpk-utils (5.0-1) ...\n",
            "Setting up libsuitesparseconfig5:amd64 (1:5.10.1+dfsg-4build1) ...\n",
            "Setting up libamd2:amd64 (1:5.10.1+dfsg-4build1) ...\n",
            "Setting up libcolamd2:amd64 (1:5.10.1+dfsg-4build1) ...\n",
            "Setting up libglpk40:amd64 (5.0-1) ...\n",
            "Setting up glpk-utils (5.0-1) ...\n",
            "Processing triggers for man-db (2.10.2-1) ...\n",
            "Processing triggers for libc-bin (2.35-0ubuntu3.4) ...\n",
            "/sbin/ldconfig.real: /usr/local/lib/libtbbmalloc_proxy.so.2 is not a symbolic link\n",
            "\n",
            "/sbin/ldconfig.real: /usr/local/lib/libtbbbind_2_5.so.3 is not a symbolic link\n",
            "\n",
            "/sbin/ldconfig.real: /usr/local/lib/libtbbmalloc.so.2 is not a symbolic link\n",
            "\n",
            "/sbin/ldconfig.real: /usr/local/lib/libtbbbind.so.3 is not a symbolic link\n",
            "\n",
            "/sbin/ldconfig.real: /usr/local/lib/libtbbbind_2_0.so.3 is not a symbolic link\n",
            "\n",
            "/sbin/ldconfig.real: /usr/local/lib/libtbb.so.12 is not a symbolic link\n",
            "\n",
            "Collecting glpk\n",
            "  Downloading glpk-0.4.7.tar.gz (161 kB)\n",
            "\u001b[2K     \u001b[90m━━━━━━━━━━━━━━━━━━━━━━━━━━━━━━━━━━━━━━━━\u001b[0m \u001b[32m161.2/161.2 kB\u001b[0m \u001b[31m4.2 MB/s\u001b[0m eta \u001b[36m0:00:00\u001b[0m\n",
            "\u001b[?25h  Installing build dependencies ... \u001b[?25l\u001b[?25hdone\n",
            "  Getting requirements to build wheel ... \u001b[?25l\u001b[?25hdone\n",
            "  Preparing metadata (pyproject.toml) ... \u001b[?25l\u001b[?25hdone\n",
            "Building wheels for collected packages: glpk\n",
            "  \u001b[1;31merror\u001b[0m: \u001b[1msubprocess-exited-with-error\u001b[0m\n",
            "  \n",
            "  \u001b[31m×\u001b[0m \u001b[32mBuilding wheel for glpk \u001b[0m\u001b[1;32m(\u001b[0m\u001b[32mpyproject.toml\u001b[0m\u001b[1;32m)\u001b[0m did not run successfully.\n",
            "  \u001b[31m│\u001b[0m exit code: \u001b[1;36m1\u001b[0m\n",
            "  \u001b[31m╰─>\u001b[0m See above for output.\n",
            "  \n",
            "  \u001b[1;35mnote\u001b[0m: This error originates from a subprocess, and is likely not a problem with pip.\n",
            "  Building wheel for glpk (pyproject.toml) ... \u001b[?25l\u001b[?25herror\n",
            "\u001b[31m  ERROR: Failed building wheel for glpk\u001b[0m\u001b[31m\n",
            "\u001b[0mFailed to build glpk\n",
            "\u001b[31mERROR: Could not build wheels for glpk, which is required to install pyproject.toml-based projects\u001b[0m\u001b[31m\n",
            "\u001b[0mRequirement already satisfied: pandas in /usr/local/lib/python3.10/dist-packages (2.0.3)\n",
            "Requirement already satisfied: python-dateutil>=2.8.2 in /usr/local/lib/python3.10/dist-packages (from pandas) (2.8.2)\n",
            "Requirement already satisfied: pytz>=2020.1 in /usr/local/lib/python3.10/dist-packages (from pandas) (2023.4)\n",
            "Requirement already satisfied: tzdata>=2022.1 in /usr/local/lib/python3.10/dist-packages (from pandas) (2024.1)\n",
            "Requirement already satisfied: numpy>=1.21.0 in /usr/local/lib/python3.10/dist-packages (from pandas) (1.25.2)\n",
            "Requirement already satisfied: six>=1.5 in /usr/local/lib/python3.10/dist-packages (from python-dateutil>=2.8.2->pandas) (1.16.0)\n"
          ]
        }
      ]
    },
    {
      "cell_type": "code",
      "source": [
        "import pyomo.environ as pyo\n",
        "import numpy as np\n",
        "\n",
        "# Sample data\n",
        "T = 10  # Total number of time steps\n",
        "N = 7   # Total number of points in the network (A to G)\n",
        "M = 12  # Total number of available pipes\n",
        "K = 10  # Number of pipes that can be activated\n",
        "\n",
        "# Sample capacity data for pipes\n",
        "cap = {\n",
        "    ('1', '2'): 3, ('1', '3'): 6, ('1', '6'): 1, ('2', '3'): 3,\n",
        "    ('2', '4'): 10, ('2', '5'): 4, ('3', '5'): 4, ('3', '6'): 4,\n",
        "    ('4', '5'): 5, ('5', '7'): 5, ('6', '2'): 12, ('6', '7'): 7,\n",
        "    ('7', 'out'): 1000, ('in', '1'): 1000\n",
        "}\n",
        "\n",
        "# Water inflow function at point A\n",
        "def f(t):\n",
        "    return max(-4/30 * t**3 + t**2 - 0.234 * t + 3, 0)\n",
        "\n",
        "# Create the Pyomo model\n",
        "model = pyo.ConcreteModel()\n",
        "\n",
        "# Define sets\n",
        "model.T = pyo.RangeSet(1, T)\n",
        "model.N = pyo.RangeSet(1, N-1)  # Excluding point G\n",
        "model.pipes = pyo.Set(initialize=cap.keys())\n",
        "\n",
        "# Define decision variables\n",
        "model.x = pyo.Var(model.pipes, model.T, domain=pyo.NonNegativeReals)\n",
        "model.y = pyo.Var(model.pipes, domain=pyo.Binary)\n",
        "model.r = pyo.Var(model.N, model.T, domain=pyo.NonNegativeReals)\n",
        "\n",
        "# Define objective function\n",
        "def obj_rule(model):\n",
        "    return sum(model.x['7', 'out', t] for t in model.T)\n",
        "model.obj = pyo.Objective(rule=obj_rule, sense=pyo.maximize)\n",
        "\n",
        "# Define constraints\n",
        "def inflow_rule(model, t):\n",
        "    return model.x['in', '1', t] == f(t)\n",
        "model.inflow_con = pyo.Constraint(model.T, rule=inflow_rule)\n",
        "\n",
        "def outflow_rule(model, t):\n",
        "    return model.x['7', 'out', t] <= sum(model.x[i, '7', t] for i in ['5', '6'])\n",
        "model.outflow_con = pyo.Constraint(model.T, rule=outflow_rule)\n",
        "\n",
        "def flow_conservation_rule(model, i, t): # MODIFIED TO USE str(i) INSTEAD OF i SO CODE WORKS (data loading issue)\n",
        "    inflow_points = [j for j, k in model.pipes if k == str(i)]\n",
        "    outflow_points = [k for j, k in model.pipes if j == str(i)]\n",
        "    if t == 1:\n",
        "        return sum(model.x[j, str(i), t] for j in inflow_points) + model.r[i, t] == sum(model.x[str(i), j, t] for j in outflow_points)\n",
        "    else:\n",
        "        return sum(model.x[j, str(i), t-1] for j in inflow_points) + model.r[i, t-1] == sum(model.x[str(i), j, t] for j in outflow_points) + model.r[i, t]\n",
        "model.flow_conservation_con = pyo.Constraint(model.N, model.T, rule=flow_conservation_rule)\n",
        "\n",
        "def capacity_rule(model, i, j, t):\n",
        "    return model.x[i, j, t] <= cap[i, j] * model.y[i, j]\n",
        "model.capacity_con = pyo.Constraint(model.pipes, model.T, rule=capacity_rule)\n",
        "\n",
        "def activation_rule(model):\n",
        "    return sum(model.y[i, j] for i, j in model.pipes) <= K\n",
        "model.activation_con = pyo.Constraint(rule=activation_rule)\n",
        "\n",
        "# Solve the optimization problem\n",
        "solver = pyo.SolverFactory('glpk')\n",
        "results = solver.solve(model)\n",
        "\n",
        "# Print the results\n",
        "print(\"Objective value:\", pyo.value(model.obj))\n",
        "for i, j in model.pipes:\n",
        "    if pyo.value(model.y[i, j]) > 0:\n",
        "        print(f\"Pipe ({i}, {j}) is activated\")\n",
        "        for t in model.T:\n",
        "            print(f\"Flow from {i} to {j} at time {t}: {pyo.value(model.x[i, j, t])}\")"
      ],
      "metadata": {
        "colab": {
          "base_uri": "https://localhost:8080/"
        },
        "id": "8FpHcuWU8rQ2",
        "outputId": "36c5c553-b931-4617-a06e-bd04e3b1ba26"
      },
      "execution_count": 22,
      "outputs": [
        {
          "output_type": "stream",
          "name": "stdout",
          "text": [
            "Objective value: 91.16333333333333\n",
            "Pipe (1, 2) is activated\n",
            "Flow from 1 to 2 at time 1: 3.0\n",
            "Flow from 1 to 2 at time 2: 3.0\n",
            "Flow from 1 to 2 at time 3: 1.0\n",
            "Flow from 1 to 2 at time 4: 1.698\n",
            "Flow from 1 to 2 at time 5: 3.0\n",
            "Flow from 1 to 2 at time 6: 3.0\n",
            "Flow from 1 to 2 at time 7: 3.0\n",
            "Flow from 1 to 2 at time 8: 0.118666666666664\n",
            "Flow from 1 to 2 at time 9: 0.0\n",
            "Flow from 1 to 2 at time 10: 0.0\n",
            "Pipe (1, 3) is activated\n",
            "Flow from 1 to 3 at time 1: 4.0\n",
            "Flow from 1 to 3 at time 2: 4.0\n",
            "Flow from 1 to 3 at time 3: 4.46533333333333\n",
            "Flow from 1 to 3 at time 4: 6.0\n",
            "Flow from 1 to 3 at time 5: 6.0\n",
            "Flow from 1 to 3 at time 6: 6.0\n",
            "Flow from 1 to 3 at time 7: 6.0\n",
            "Flow from 1 to 3 at time 8: 6.0\n",
            "Flow from 1 to 3 at time 9: 0.0\n",
            "Flow from 1 to 3 at time 10: 0.0\n",
            "Pipe (2, 4) is activated\n",
            "Flow from 2 to 4 at time 1: 5.0\n",
            "Flow from 2 to 4 at time 2: 5.0\n",
            "Flow from 2 to 4 at time 3: 3.0\n",
            "Flow from 2 to 4 at time 4: 1.0\n",
            "Flow from 2 to 4 at time 5: 1.698\n",
            "Flow from 2 to 4 at time 6: 3.0\n",
            "Flow from 2 to 4 at time 7: 3.0\n",
            "Flow from 2 to 4 at time 8: 3.0\n",
            "Flow from 2 to 4 at time 9: 0.118666666666664\n",
            "Flow from 2 to 4 at time 10: 0.0\n",
            "Pipe (3, 5) is activated\n",
            "Flow from 3 to 5 at time 1: 0.0\n",
            "Flow from 3 to 5 at time 2: -4.44089209850063e-16\n",
            "Flow from 3 to 5 at time 3: 0.0\n",
            "Flow from 3 to 5 at time 4: 2.0\n",
            "Flow from 3 to 5 at time 5: 4.0\n",
            "Flow from 3 to 5 at time 6: 2.0\n",
            "Flow from 3 to 5 at time 7: 2.0\n",
            "Flow from 3 to 5 at time 8: 2.0\n",
            "Flow from 3 to 5 at time 9: 2.0\n",
            "Flow from 3 to 5 at time 10: 0.0\n",
            "Pipe (3, 6) is activated\n",
            "Flow from 3 to 6 at time 1: 4.0\n",
            "Flow from 3 to 6 at time 2: 4.0\n",
            "Flow from 3 to 6 at time 3: 4.0\n",
            "Flow from 3 to 6 at time 4: 0.465333333333334\n",
            "Flow from 3 to 6 at time 5: 4.0\n",
            "Flow from 3 to 6 at time 6: 4.0\n",
            "Flow from 3 to 6 at time 7: 4.0\n",
            "Flow from 3 to 6 at time 8: 4.0\n",
            "Flow from 3 to 6 at time 9: 4.0\n",
            "Flow from 3 to 6 at time 10: 0.0\n",
            "Pipe (4, 5) is activated\n",
            "Flow from 4 to 5 at time 1: 5.0\n",
            "Flow from 4 to 5 at time 2: 5.0\n",
            "Flow from 4 to 5 at time 3: 5.0\n",
            "Flow from 4 to 5 at time 4: 3.0\n",
            "Flow from 4 to 5 at time 5: 1.0\n",
            "Flow from 4 to 5 at time 6: 1.698\n",
            "Flow from 4 to 5 at time 7: 3.0\n",
            "Flow from 4 to 5 at time 8: 3.0\n",
            "Flow from 4 to 5 at time 9: 3.0\n",
            "Flow from 4 to 5 at time 10: 0.0\n",
            "Pipe (5, 7) is activated\n",
            "Flow from 5 to 7 at time 1: 5.0\n",
            "Flow from 5 to 7 at time 2: 5.0\n",
            "Flow from 5 to 7 at time 3: 5.0\n",
            "Flow from 5 to 7 at time 4: 5.0\n",
            "Flow from 5 to 7 at time 5: 5.0\n",
            "Flow from 5 to 7 at time 6: 5.0\n",
            "Flow from 5 to 7 at time 7: 3.698\n",
            "Flow from 5 to 7 at time 8: 5.0\n",
            "Flow from 5 to 7 at time 9: 5.0\n",
            "Flow from 5 to 7 at time 10: 5.0\n",
            "Pipe (6, 7) is activated\n",
            "Flow from 6 to 7 at time 1: 7.0\n",
            "Flow from 6 to 7 at time 2: 4.0\n",
            "Flow from 6 to 7 at time 3: 7.0\n",
            "Flow from 6 to 7 at time 4: 4.0\n",
            "Flow from 6 to 7 at time 5: 0.465333333333334\n",
            "Flow from 6 to 7 at time 6: 4.0\n",
            "Flow from 6 to 7 at time 7: 4.0\n",
            "Flow from 6 to 7 at time 8: 4.0\n",
            "Flow from 6 to 7 at time 9: 4.0\n",
            "Flow from 6 to 7 at time 10: 4.0\n",
            "Pipe (7, out) is activated\n",
            "Flow from 7 to out at time 1: 12.0\n",
            "Flow from 7 to out at time 2: 9.0\n",
            "Flow from 7 to out at time 3: 12.0\n",
            "Flow from 7 to out at time 4: 9.0\n",
            "Flow from 7 to out at time 5: 5.46533333333333\n",
            "Flow from 7 to out at time 6: 9.0\n",
            "Flow from 7 to out at time 7: 7.698\n",
            "Flow from 7 to out at time 8: 9.0\n",
            "Flow from 7 to out at time 9: 9.0\n",
            "Flow from 7 to out at time 10: 9.0\n",
            "Pipe (in, 1) is activated\n",
            "Flow from in to 1 at time 1: 3.63266666666667\n",
            "Flow from in to 1 at time 2: 5.46533333333333\n",
            "Flow from in to 1 at time 3: 7.698\n",
            "Flow from in to 1 at time 4: 9.53066666666667\n",
            "Flow from in to 1 at time 5: 10.1633333333333\n",
            "Flow from in to 1 at time 6: 8.796\n",
            "Flow from in to 1 at time 7: 4.62866666666667\n",
            "Flow from in to 1 at time 8: 0.0\n",
            "Flow from in to 1 at time 9: 0.0\n",
            "Flow from in to 1 at time 10: 0.0\n"
          ]
        }
      ]
    },
    {
      "cell_type": "markdown",
      "source": [
        "# 5. Correct The Model Code to Test Mathematical Model (if applicable)"
      ],
      "metadata": {
        "id": "KHTyoLQTWZVy"
      }
    },
    {
      "cell_type": "code",
      "source": [],
      "metadata": {
        "id": "A-Kq05sreCew"
      },
      "execution_count": 21,
      "outputs": []
    }
  ]
}