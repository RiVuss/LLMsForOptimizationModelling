{
  "nbformat": 4,
  "nbformat_minor": 0,
  "metadata": {
    "colab": {
      "provenance": []
    },
    "kernelspec": {
      "name": "python3",
      "display_name": "Python 3"
    },
    "language_info": {
      "name": "python"
    }
  },
  "cells": [
    {
      "cell_type": "markdown",
      "source": [
        "# 0. Imports and Setting up Anthropic API Client"
      ],
      "metadata": {
        "id": "y5fw0lkBwBbo"
      }
    },
    {
      "cell_type": "code",
      "source": [
        "from google.colab import drive\n",
        "\n",
        "drive.mount('/content/drive')"
      ],
      "metadata": {
        "colab": {
          "base_uri": "https://localhost:8080/"
        },
        "id": "e7tWOLo0yMoH",
        "outputId": "b3e35885-c1a2-497c-e51d-8ec4346f9bee"
      },
      "execution_count": 1,
      "outputs": [
        {
          "output_type": "stream",
          "name": "stdout",
          "text": [
            "Mounted at /content/drive\n"
          ]
        }
      ]
    },
    {
      "cell_type": "code",
      "source": [
        "!pip install python-dotenv\n",
        "\n",
        "import os\n",
        "import dotenv\n",
        "\n",
        "dotenv.load_dotenv('/content/drive/MyDrive/.env')"
      ],
      "metadata": {
        "colab": {
          "base_uri": "https://localhost:8080/"
        },
        "id": "utcEK8lZ1Z1R",
        "outputId": "94d610c8-6ddb-4c4c-e93a-2c85a2e3ed7b"
      },
      "execution_count": 2,
      "outputs": [
        {
          "output_type": "stream",
          "name": "stdout",
          "text": [
            "Collecting python-dotenv\n",
            "  Downloading python_dotenv-1.0.1-py3-none-any.whl (19 kB)\n",
            "Installing collected packages: python-dotenv\n",
            "Successfully installed python-dotenv-1.0.1\n"
          ]
        },
        {
          "output_type": "execute_result",
          "data": {
            "text/plain": [
              "True"
            ]
          },
          "metadata": {},
          "execution_count": 2
        }
      ]
    },
    {
      "cell_type": "code",
      "source": [
        "# Load Prompts and Problem Description\n",
        "prompt1_path = '/content/drive/MyDrive/Thesis/Prompts/Prompt1_MathematicalModel.txt'\n",
        "prompt2_path = '/content/drive/MyDrive/Thesis/Prompts/Prompt2_PyomoCode.txt'\n",
        "problem_desc_path = '/content/drive/MyDrive/Thesis/ProblemDescriptions/MIP/MIP1.txt'\n",
        "\n",
        "prompt1_file = open(prompt1_path, \"r\")\n",
        "prompt2_file = open(prompt2_path, \"r\")\n",
        "problem_desc_file = open(problem_desc_path, \"r\")\n",
        "\n",
        "prompt1 = prompt1_file.read()\n",
        "print(\"Prompt 1:\\n\", prompt1)\n",
        "\n",
        "prompt2 = prompt2_file.read()\n",
        "print(\"Prompt 2:\\n\", prompt2)\n",
        "\n",
        "problem_desc = problem_desc_file.read()\n",
        "print(\"Problem Description:\\n\", problem_desc)"
      ],
      "metadata": {
        "colab": {
          "base_uri": "https://localhost:8080/"
        },
        "id": "9KlkjwMUS4xp",
        "outputId": "9d8b479a-fc10-44a8-970c-8453883ad03d"
      },
      "execution_count": 3,
      "outputs": [
        {
          "output_type": "stream",
          "name": "stdout",
          "text": [
            "Prompt 1:\n",
            " Please write a mathematical optimization model for this problem. Include parameters, decision variables, the objective function and the constraints in your answer.\n",
            "Prompt 2:\n",
            " Please write a python pyomo code for this optimization problem.\n",
            "Use sample data where needed.\n",
            "Indicate where you use sample data.\n",
            "Problem Description:\n",
            " You are a city planner, looking to open facilities at some locations. We have a set of customers and a set of possible locations for opening facilities. Each potential location for establishing a facility incurs a fixed annual activation cost, which must be paid if the facility is used, regardless of the service volume it handles. Furthermore, this service volume at each facility is capped at a maximum annual limit. Additionally, there are transportation costs associated with servicing each customer from each facility.\n",
            "The goal is to minimize the overall costs, which include both the fixed activation costs for any opened facilities and the transportation costs for servicing customers. This must be done while making sure that each customer’s demand is met, each facility does not exceed its maximum service volume, and customers can of course only be serviced by a facility that is opened. \n",
            "Please formulate this as a mathematical optimization model.\n",
            "\n",
            "\n"
          ]
        }
      ]
    },
    {
      "cell_type": "code",
      "source": [
        "!pip install anthropic"
      ],
      "metadata": {
        "colab": {
          "base_uri": "https://localhost:8080/"
        },
        "id": "iWlNsTIvxCcR",
        "outputId": "b9de2ad8-cc92-438f-9d79-4ed826ba7105",
        "collapsed": true
      },
      "execution_count": 4,
      "outputs": [
        {
          "output_type": "stream",
          "name": "stdout",
          "text": [
            "Collecting anthropic\n",
            "  Downloading anthropic-0.26.0-py3-none-any.whl (877 kB)\n",
            "\u001b[?25l     \u001b[90m━━━━━━━━━━━━━━━━━━━━━━━━━━━━━━━━━━━━━━━━\u001b[0m \u001b[32m0.0/877.7 kB\u001b[0m \u001b[31m?\u001b[0m eta \u001b[36m-:--:--\u001b[0m\r\u001b[2K     \u001b[91m━━━━━━━━━━━━━━━━\u001b[0m\u001b[91m╸\u001b[0m\u001b[90m━━━━━━━━━━━━━━━━━━━━━━━\u001b[0m \u001b[32m368.6/877.7 kB\u001b[0m \u001b[31m10.9 MB/s\u001b[0m eta \u001b[36m0:00:01\u001b[0m\r\u001b[2K     \u001b[90m━━━━━━━━━━━━━━━━━━━━━━━━━━━━━━━━━━━━━━━━\u001b[0m \u001b[32m877.7/877.7 kB\u001b[0m \u001b[31m16.5 MB/s\u001b[0m eta \u001b[36m0:00:00\u001b[0m\n",
            "\u001b[?25hRequirement already satisfied: anyio<5,>=3.5.0 in /usr/local/lib/python3.10/dist-packages (from anthropic) (3.7.1)\n",
            "Requirement already satisfied: distro<2,>=1.7.0 in /usr/lib/python3/dist-packages (from anthropic) (1.7.0)\n",
            "Collecting httpx<1,>=0.23.0 (from anthropic)\n",
            "  Downloading httpx-0.27.0-py3-none-any.whl (75 kB)\n",
            "\u001b[2K     \u001b[90m━━━━━━━━━━━━━━━━━━━━━━━━━━━━━━━━━━━━━━━━\u001b[0m \u001b[32m75.6/75.6 kB\u001b[0m \u001b[31m10.9 MB/s\u001b[0m eta \u001b[36m0:00:00\u001b[0m\n",
            "\u001b[?25hRequirement already satisfied: pydantic<3,>=1.9.0 in /usr/local/lib/python3.10/dist-packages (from anthropic) (2.7.1)\n",
            "Requirement already satisfied: sniffio in /usr/local/lib/python3.10/dist-packages (from anthropic) (1.3.1)\n",
            "Requirement already satisfied: tokenizers>=0.13.0 in /usr/local/lib/python3.10/dist-packages (from anthropic) (0.19.1)\n",
            "Requirement already satisfied: typing-extensions<5,>=4.7 in /usr/local/lib/python3.10/dist-packages (from anthropic) (4.11.0)\n",
            "Requirement already satisfied: idna>=2.8 in /usr/local/lib/python3.10/dist-packages (from anyio<5,>=3.5.0->anthropic) (3.7)\n",
            "Requirement already satisfied: exceptiongroup in /usr/local/lib/python3.10/dist-packages (from anyio<5,>=3.5.0->anthropic) (1.2.1)\n",
            "Requirement already satisfied: certifi in /usr/local/lib/python3.10/dist-packages (from httpx<1,>=0.23.0->anthropic) (2024.2.2)\n",
            "Collecting httpcore==1.* (from httpx<1,>=0.23.0->anthropic)\n",
            "  Downloading httpcore-1.0.5-py3-none-any.whl (77 kB)\n",
            "\u001b[2K     \u001b[90m━━━━━━━━━━━━━━━━━━━━━━━━━━━━━━━━━━━━━━━━\u001b[0m \u001b[32m77.9/77.9 kB\u001b[0m \u001b[31m10.8 MB/s\u001b[0m eta \u001b[36m0:00:00\u001b[0m\n",
            "\u001b[?25hCollecting h11<0.15,>=0.13 (from httpcore==1.*->httpx<1,>=0.23.0->anthropic)\n",
            "  Downloading h11-0.14.0-py3-none-any.whl (58 kB)\n",
            "\u001b[2K     \u001b[90m━━━━━━━━━━━━━━━━━━━━━━━━━━━━━━━━━━━━━━━━\u001b[0m \u001b[32m58.3/58.3 kB\u001b[0m \u001b[31m8.0 MB/s\u001b[0m eta \u001b[36m0:00:00\u001b[0m\n",
            "\u001b[?25hRequirement already satisfied: annotated-types>=0.4.0 in /usr/local/lib/python3.10/dist-packages (from pydantic<3,>=1.9.0->anthropic) (0.6.0)\n",
            "Requirement already satisfied: pydantic-core==2.18.2 in /usr/local/lib/python3.10/dist-packages (from pydantic<3,>=1.9.0->anthropic) (2.18.2)\n",
            "Requirement already satisfied: huggingface-hub<1.0,>=0.16.4 in /usr/local/lib/python3.10/dist-packages (from tokenizers>=0.13.0->anthropic) (0.20.3)\n",
            "Requirement already satisfied: filelock in /usr/local/lib/python3.10/dist-packages (from huggingface-hub<1.0,>=0.16.4->tokenizers>=0.13.0->anthropic) (3.14.0)\n",
            "Requirement already satisfied: fsspec>=2023.5.0 in /usr/local/lib/python3.10/dist-packages (from huggingface-hub<1.0,>=0.16.4->tokenizers>=0.13.0->anthropic) (2023.6.0)\n",
            "Requirement already satisfied: requests in /usr/local/lib/python3.10/dist-packages (from huggingface-hub<1.0,>=0.16.4->tokenizers>=0.13.0->anthropic) (2.31.0)\n",
            "Requirement already satisfied: tqdm>=4.42.1 in /usr/local/lib/python3.10/dist-packages (from huggingface-hub<1.0,>=0.16.4->tokenizers>=0.13.0->anthropic) (4.66.4)\n",
            "Requirement already satisfied: pyyaml>=5.1 in /usr/local/lib/python3.10/dist-packages (from huggingface-hub<1.0,>=0.16.4->tokenizers>=0.13.0->anthropic) (6.0.1)\n",
            "Requirement already satisfied: packaging>=20.9 in /usr/local/lib/python3.10/dist-packages (from huggingface-hub<1.0,>=0.16.4->tokenizers>=0.13.0->anthropic) (24.0)\n",
            "Requirement already satisfied: charset-normalizer<4,>=2 in /usr/local/lib/python3.10/dist-packages (from requests->huggingface-hub<1.0,>=0.16.4->tokenizers>=0.13.0->anthropic) (3.3.2)\n",
            "Requirement already satisfied: urllib3<3,>=1.21.1 in /usr/local/lib/python3.10/dist-packages (from requests->huggingface-hub<1.0,>=0.16.4->tokenizers>=0.13.0->anthropic) (2.0.7)\n",
            "Installing collected packages: h11, httpcore, httpx, anthropic\n",
            "Successfully installed anthropic-0.26.0 h11-0.14.0 httpcore-1.0.5 httpx-0.27.0\n"
          ]
        }
      ]
    },
    {
      "cell_type": "code",
      "execution_count": 5,
      "metadata": {
        "id": "7Qjk2D63v1Bl"
      },
      "outputs": [],
      "source": [
        "# Importing Anthropic & Setting Headers\n",
        "import anthropic\n",
        "\n",
        "client = anthropic.Anthropic(\n",
        "    # defaults to os.environ.get(\"ANTHROPIC_API_KEY\")\n",
        "    api_key=os.environ.get(\"ANTHROPIC_API_KEY\"),\n",
        ")"
      ]
    },
    {
      "cell_type": "markdown",
      "source": [
        "# 1. Prompt 1: Create Mathematical Model"
      ],
      "metadata": {
        "id": "kT7yKbJs18XR"
      }
    },
    {
      "cell_type": "code",
      "source": [
        "message = client.messages.create(\n",
        "    model=\"claude-3-opus-20240229\",\n",
        "    system=prompt1,\n",
        "    max_tokens=4096,\n",
        "    messages=[\n",
        "        {\"role\": \"user\", \"content\": problem_desc}\n",
        "    ]\n",
        ")\n",
        "\n",
        "response_p1 = message.content[0].text"
      ],
      "metadata": {
        "id": "R_6X0axq16D4"
      },
      "execution_count": 6,
      "outputs": []
    },
    {
      "cell_type": "code",
      "source": [
        "# Print response\n",
        "print(response_p1)"
      ],
      "metadata": {
        "colab": {
          "base_uri": "https://localhost:8080/"
        },
        "id": "Ra9Ox_PI38jg",
        "outputId": "4f89d07d-c5d0-4f01-8f7b-7cb130637aef"
      },
      "execution_count": 7,
      "outputs": [
        {
          "output_type": "stream",
          "name": "stdout",
          "text": [
            "Great! Let's formulate this problem as a mathematical optimization model. We'll define the necessary sets, parameters, decision variables, objective function, and constraints.\n",
            "\n",
            "Sets:\n",
            "- I: Set of customers\n",
            "- J: Set of potential facility locations\n",
            "\n",
            "Parameters:\n",
            "- d_i: Demand of customer i ∈ I\n",
            "- f_j: Fixed annual activation cost for facility j ∈ J\n",
            "- c_ij: Transportation cost for servicing customer i ∈ I from facility j ∈ J\n",
            "- M_j: Maximum annual service volume for facility j ∈ J\n",
            "\n",
            "Decision Variables:\n",
            "- x_ij: Fraction of customer i's demand serviced by facility j (continuous variable, 0 ≤ x_ij ≤ 1)\n",
            "- y_j: Binary variable indicating whether facility j is opened (1) or not (0)\n",
            "\n",
            "Objective Function:\n",
            "Minimize total costs = Fixed activation costs + Transportation costs\n",
            "min ∑_(j∈J) f_j * y_j + ∑_(i∈I) ∑_(j∈J) c_ij * d_i * x_ij\n",
            "\n",
            "Constraints:\n",
            "1. Each customer's demand must be fully met:\n",
            "   ∑_(j∈J) x_ij = 1, ∀i ∈ I\n",
            "\n",
            "2. Each facility's service volume cannot exceed its maximum annual limit:\n",
            "   ∑_(i∈I) d_i * x_ij ≤ M_j * y_j, ∀j ∈ J\n",
            "\n",
            "3. Customers can only be serviced by opened facilities:\n",
            "   x_ij ≤ y_j, ∀i ∈ I, ∀j ∈ J\n",
            "\n",
            "4. Non-negativity and binary constraints:\n",
            "   0 ≤ x_ij ≤ 1, ∀i ∈ I, ∀j ∈ J\n",
            "   y_j ∈ {0, 1}, ∀j ∈ J\n",
            "\n",
            "The objective function minimizes the total costs, which include the fixed activation costs for opened facilities and the transportation costs for servicing customers. The first constraint ensures that each customer's demand is fully met. The second constraint guarantees that each facility does not exceed its maximum service volume. The third constraint ensures that customers can only be serviced by opened facilities. Finally, the fourth constraint defines the non-negativity and binary nature of the decision variables.\n",
            "\n",
            "This formulation represents the problem as a mixed-integer linear programming (MILP) model, which can be solved using optimization solvers like CPLEX, Gurobi, or other MILP solvers.\n"
          ]
        }
      ]
    },
    {
      "cell_type": "markdown",
      "source": [
        "# 2. Prompt 2: Write Code based on Mathematical Model"
      ],
      "metadata": {
        "id": "WPZ6lgBO729j"
      }
    },
    {
      "cell_type": "code",
      "source": [
        "message2 = client.messages.create(\n",
        "    model=\"claude-3-opus-20240229\",\n",
        "    system=prompt2,\n",
        "    max_tokens=4069,\n",
        "    messages=[\n",
        "        {\"role\": \"user\", \"content\": response_p1}\n",
        "    ]\n",
        ")\n",
        "\n",
        "response_p2 = message2.content[0].text"
      ],
      "metadata": {
        "id": "1iUSgBda70FL"
      },
      "execution_count": 8,
      "outputs": []
    },
    {
      "cell_type": "code",
      "source": [
        "# Print response\n",
        "print(response_p2)"
      ],
      "metadata": {
        "colab": {
          "base_uri": "https://localhost:8080/"
        },
        "id": "o40mxc_H8eQ9",
        "outputId": "76aa1582-992e-4fc0-d7b1-afcbb027cb54"
      },
      "execution_count": 9,
      "outputs": [
        {
          "output_type": "stream",
          "name": "stdout",
          "text": [
            "Here's the Python code using the Pyomo library to solve the facility location problem:\n",
            "\n",
            "```python\n",
            "from pyomo.environ import *\n",
            "\n",
            "# Sample data\n",
            "customers = ['C1', 'C2', 'C3', 'C4', 'C5']\n",
            "facilities = ['F1', 'F2', 'F3']\n",
            "\n",
            "demand = {'C1': 100, 'C2': 150, 'C3': 200, 'C4': 120, 'C5': 180}  # Sample demand data\n",
            "fixed_cost = {'F1': 5000, 'F2': 6000, 'F3': 4500}  # Sample fixed activation costs\n",
            "max_capacity = {'F1': 400, 'F2': 500, 'F3': 450}  # Sample maximum annual service volumes\n",
            "\n",
            "# Sample transportation costs (c_ij)\n",
            "trans_cost = {\n",
            "    ('C1', 'F1'): 2, ('C1', 'F2'): 3, ('C1', 'F3'): 4,\n",
            "    ('C2', 'F1'): 3, ('C2', 'F2'): 2, ('C2', 'F3'): 3,\n",
            "    ('C3', 'F1'): 4, ('C3', 'F2'): 3, ('C3', 'F3'): 2,\n",
            "    ('C4', 'F1'): 3, ('C4', 'F2'): 4, ('C4', 'F3'): 3,\n",
            "    ('C5', 'F1'): 2, ('C5', 'F2'): 3, ('C5', 'F3'): 4\n",
            "}\n",
            "\n",
            "# Create the Pyomo model\n",
            "model = ConcreteModel()\n",
            "\n",
            "# Define sets\n",
            "model.I = Set(initialize=customers)\n",
            "model.J = Set(initialize=facilities)\n",
            "\n",
            "# Define parameters\n",
            "model.d = Param(model.I, initialize=demand)\n",
            "model.f = Param(model.J, initialize=fixed_cost)\n",
            "model.c = Param(model.I, model.J, initialize=trans_cost)\n",
            "model.M = Param(model.J, initialize=max_capacity)\n",
            "\n",
            "# Define decision variables\n",
            "model.x = Var(model.I, model.J, bounds=(0, 1))\n",
            "model.y = Var(model.J, within=Binary)\n",
            "\n",
            "# Define objective function\n",
            "def obj_rule(model):\n",
            "    return sum(model.f[j] * model.y[j] for j in model.J) + \\\n",
            "           sum(model.c[i, j] * model.d[i] * model.x[i, j] for i in model.I for j in model.J)\n",
            "model.obj = Objective(rule=obj_rule, sense=minimize)\n",
            "\n",
            "# Define constraints\n",
            "def demand_constraint_rule(model, i):\n",
            "    return sum(model.x[i, j] for j in model.J) == 1\n",
            "model.demand_constraint = Constraint(model.I, rule=demand_constraint_rule)\n",
            "\n",
            "def capacity_constraint_rule(model, j):\n",
            "    return sum(model.d[i] * model.x[i, j] for i in model.I) <= model.M[j] * model.y[j]\n",
            "model.capacity_constraint = Constraint(model.J, rule=capacity_constraint_rule)\n",
            "\n",
            "def service_constraint_rule(model, i, j):\n",
            "    return model.x[i, j] <= model.y[j]\n",
            "model.service_constraint = Constraint(model.I, model.J, rule=service_constraint_rule)\n",
            "\n",
            "# Solve the model\n",
            "solver = SolverFactory('glpk')\n",
            "results = solver.solve(model)\n",
            "\n",
            "# Print the results\n",
            "print(\"Objective value:\", value(model.obj))\n",
            "print(\"Facility openings:\")\n",
            "for j in model.J:\n",
            "    if value(model.y[j]) > 0.5:\n",
            "        print(f\"Facility {j} is opened\")\n",
            "print(\"Customer assignments:\")\n",
            "for i in model.I:\n",
            "    for j in model.J:\n",
            "        if value(model.x[i, j]) > 0.001:\n",
            "            print(f\"Customer {i} is serviced by Facility {j}: {value(model.x[i, j]):.2f}\")\n",
            "```\n",
            "\n",
            "In this code, I have used sample data for the demand, fixed activation costs, maximum annual service volumes, and transportation costs. You can replace these with your own data.\n",
            "\n",
            "The code follows the mathematical formulation we discussed earlier. It creates sets for customers and facilities, defines parameters using the sample data, and declares decision variables `x` and `y`. The objective function and constraints are defined using Pyomo's `Objective` and `Constraint` objects.\n",
            "\n",
            "After solving the model using the GLPK solver (you can choose a different solver if desired), the code prints the objective value, the facilities that are opened, and the customer assignments to the opened facilities.\n",
            "\n",
            "Note: Make sure you have Pyomo and a compatible solver (e.g., GLPK) installed before running this code.\n"
          ]
        }
      ]
    },
    {
      "cell_type": "markdown",
      "source": [
        "# 4. Input Problem Data and Test Model Code"
      ],
      "metadata": {
        "id": "Pc0QqJuf8up_"
      }
    },
    {
      "cell_type": "code",
      "source": [
        "# Installing pyomo nd solver\n",
        "!pip install -q pyomo\n",
        "!apt-get install -y -qq glpk-utils\n",
        "!pip install glpk"
      ],
      "metadata": {
        "colab": {
          "base_uri": "https://localhost:8080/"
        },
        "id": "3BtROuLu9O-p",
        "outputId": "b981b348-6dc3-40e6-af21-99924f295680",
        "collapsed": true
      },
      "execution_count": 10,
      "outputs": [
        {
          "output_type": "stream",
          "name": "stdout",
          "text": [
            "\u001b[2K     \u001b[90m━━━━━━━━━━━━━━━━━━━━━━━━━━━━━━━━━━━━━━━━\u001b[0m \u001b[32m12.8/12.8 MB\u001b[0m \u001b[31m75.7 MB/s\u001b[0m eta \u001b[36m0:00:00\u001b[0m\n",
            "\u001b[2K     \u001b[90m━━━━━━━━━━━━━━━━━━━━━━━━━━━━━━━━━━━━━━━━\u001b[0m \u001b[32m49.6/49.6 kB\u001b[0m \u001b[31m6.0 MB/s\u001b[0m eta \u001b[36m0:00:00\u001b[0m\n",
            "\u001b[?25hSelecting previously unselected package libsuitesparseconfig5:amd64.\n",
            "(Reading database ... 121918 files and directories currently installed.)\n",
            "Preparing to unpack .../libsuitesparseconfig5_1%3a5.10.1+dfsg-4build1_amd64.deb ...\n",
            "Unpacking libsuitesparseconfig5:amd64 (1:5.10.1+dfsg-4build1) ...\n",
            "Selecting previously unselected package libamd2:amd64.\n",
            "Preparing to unpack .../libamd2_1%3a5.10.1+dfsg-4build1_amd64.deb ...\n",
            "Unpacking libamd2:amd64 (1:5.10.1+dfsg-4build1) ...\n",
            "Selecting previously unselected package libcolamd2:amd64.\n",
            "Preparing to unpack .../libcolamd2_1%3a5.10.1+dfsg-4build1_amd64.deb ...\n",
            "Unpacking libcolamd2:amd64 (1:5.10.1+dfsg-4build1) ...\n",
            "Selecting previously unselected package libglpk40:amd64.\n",
            "Preparing to unpack .../libglpk40_5.0-1_amd64.deb ...\n",
            "Unpacking libglpk40:amd64 (5.0-1) ...\n",
            "Selecting previously unselected package glpk-utils.\n",
            "Preparing to unpack .../glpk-utils_5.0-1_amd64.deb ...\n",
            "Unpacking glpk-utils (5.0-1) ...\n",
            "Setting up libsuitesparseconfig5:amd64 (1:5.10.1+dfsg-4build1) ...\n",
            "Setting up libamd2:amd64 (1:5.10.1+dfsg-4build1) ...\n",
            "Setting up libcolamd2:amd64 (1:5.10.1+dfsg-4build1) ...\n",
            "Setting up libglpk40:amd64 (5.0-1) ...\n",
            "Setting up glpk-utils (5.0-1) ...\n",
            "Processing triggers for man-db (2.10.2-1) ...\n",
            "Processing triggers for libc-bin (2.35-0ubuntu3.4) ...\n",
            "/sbin/ldconfig.real: /usr/local/lib/libtbb.so.12 is not a symbolic link\n",
            "\n",
            "/sbin/ldconfig.real: /usr/local/lib/libtbbbind.so.3 is not a symbolic link\n",
            "\n",
            "/sbin/ldconfig.real: /usr/local/lib/libtbbmalloc_proxy.so.2 is not a symbolic link\n",
            "\n",
            "/sbin/ldconfig.real: /usr/local/lib/libtbbmalloc.so.2 is not a symbolic link\n",
            "\n",
            "/sbin/ldconfig.real: /usr/local/lib/libtbbbind_2_5.so.3 is not a symbolic link\n",
            "\n",
            "/sbin/ldconfig.real: /usr/local/lib/libtbbbind_2_0.so.3 is not a symbolic link\n",
            "\n",
            "Collecting glpk\n",
            "  Downloading glpk-0.4.7.tar.gz (161 kB)\n",
            "\u001b[2K     \u001b[90m━━━━━━━━━━━━━━━━━━━━━━━━━━━━━━━━━━━━━━━━\u001b[0m \u001b[32m161.2/161.2 kB\u001b[0m \u001b[31m2.5 MB/s\u001b[0m eta \u001b[36m0:00:00\u001b[0m\n",
            "\u001b[?25h  Installing build dependencies ... \u001b[?25l\u001b[?25hdone\n",
            "  Getting requirements to build wheel ... \u001b[?25l\u001b[?25hdone\n",
            "  Preparing metadata (pyproject.toml) ... \u001b[?25l\u001b[?25hdone\n",
            "Building wheels for collected packages: glpk\n",
            "  \u001b[1;31merror\u001b[0m: \u001b[1msubprocess-exited-with-error\u001b[0m\n",
            "  \n",
            "  \u001b[31m×\u001b[0m \u001b[32mBuilding wheel for glpk \u001b[0m\u001b[1;32m(\u001b[0m\u001b[32mpyproject.toml\u001b[0m\u001b[1;32m)\u001b[0m did not run successfully.\n",
            "  \u001b[31m│\u001b[0m exit code: \u001b[1;36m1\u001b[0m\n",
            "  \u001b[31m╰─>\u001b[0m See above for output.\n",
            "  \n",
            "  \u001b[1;35mnote\u001b[0m: This error originates from a subprocess, and is likely not a problem with pip.\n",
            "  Building wheel for glpk (pyproject.toml) ... \u001b[?25l\u001b[?25herror\n",
            "\u001b[31m  ERROR: Failed building wheel for glpk\u001b[0m\u001b[31m\n",
            "\u001b[0mFailed to build glpk\n",
            "\u001b[31mERROR: Could not build wheels for glpk, which is required to install pyproject.toml-based projects\u001b[0m\u001b[31m\n",
            "\u001b[0m"
          ]
        }
      ]
    },
    {
      "cell_type": "code",
      "source": [
        "from pyomo.environ import *\n",
        "\n",
        "# Sample data\n",
        "customers = ['C1', 'C2', 'C3', 'C4', 'C5']\n",
        "facilities = ['F1', 'F2', 'F3']\n",
        "\n",
        "demand = {'C1': 80, 'C2': 270, 'C3': 250, 'C4': 160, 'C5': 180}  # Sample demand data\n",
        "fixed_cost = {'F1': 1000, 'F2': 1000, 'F3': 1000}  # Sample fixed activation costs\n",
        "max_capacity = {'F1': 500, 'F2': 500, 'F3': 500}  # Sample maximum annual service volumes\n",
        "\n",
        "# Sample transportation costs (c_ij)\n",
        "trans_cost = {\n",
        "    ('C1', 'F1'): 4, ('C1', 'F2'): 6, ('C1', 'F3'): 9,\n",
        "    ('C2', 'F1'): 5, ('C2', 'F2'): 4, ('C2', 'F3'): 7,\n",
        "    ('C3', 'F1'): 6, ('C3', 'F2'): 3, ('C3', 'F3'): 4,\n",
        "    ('C4', 'F1'): 8, ('C4', 'F2'): 5, ('C4', 'F3'): 3,\n",
        "    ('C5', 'F1'): 10, ('C5', 'F2'): 8, ('C5', 'F3'): 4\n",
        "}\n",
        "\n",
        "# Create the Pyomo model\n",
        "model = ConcreteModel()\n",
        "\n",
        "# Define sets\n",
        "model.I = Set(initialize=customers)\n",
        "model.J = Set(initialize=facilities)\n",
        "\n",
        "# Define parameters\n",
        "model.d = Param(model.I, initialize=demand)\n",
        "model.f = Param(model.J, initialize=fixed_cost)\n",
        "model.c = Param(model.I, model.J, initialize=trans_cost)\n",
        "model.M = Param(model.J, initialize=max_capacity)\n",
        "\n",
        "# Define decision variables\n",
        "model.x = Var(model.I, model.J, bounds=(0, 1))\n",
        "model.y = Var(model.J, within=Binary)\n",
        "\n",
        "# Define objective function\n",
        "def obj_rule(model):\n",
        "    return sum(model.f[j] * model.y[j] for j in model.J) + \\\n",
        "           sum(model.c[i, j] * model.d[i] * model.x[i, j] for i in model.I for j in model.J)\n",
        "model.obj = Objective(rule=obj_rule, sense=minimize)\n",
        "\n",
        "# Define constraints\n",
        "def demand_constraint_rule(model, i):\n",
        "    return sum(model.x[i, j] for j in model.J) == 1\n",
        "model.demand_constraint = Constraint(model.I, rule=demand_constraint_rule)\n",
        "\n",
        "def capacity_constraint_rule(model, j):\n",
        "    return sum(model.d[i] * model.x[i, j] for i in model.I) <= model.M[j] * model.y[j]\n",
        "model.capacity_constraint = Constraint(model.J, rule=capacity_constraint_rule)\n",
        "\n",
        "def service_constraint_rule(model, i, j):\n",
        "    return model.x[i, j] <= model.y[j]\n",
        "model.service_constraint = Constraint(model.I, model.J, rule=service_constraint_rule)\n",
        "\n",
        "# Solve the model\n",
        "solver = SolverFactory('glpk')\n",
        "results = solver.solve(model)\n",
        "\n",
        "# Print the results\n",
        "print(\"Objective value:\", value(model.obj))\n",
        "print(\"Facility openings:\")\n",
        "for j in model.J:\n",
        "    if value(model.y[j]) > 0.5:\n",
        "        print(f\"Facility {j} is opened\")\n",
        "print(\"Customer assignments:\")\n",
        "for i in model.I:\n",
        "    for j in model.J:\n",
        "        if value(model.x[i, j]) > 0.001:\n",
        "            print(f\"Customer {i} is serviced by Facility {j}: {value(model.x[i, j]):.2f}\")"
      ],
      "metadata": {
        "colab": {
          "base_uri": "https://localhost:8080/"
        },
        "id": "8FpHcuWU8rQ2",
        "outputId": "6f86dfc1-ab8e-41fc-e9bc-60c4d025a2a3"
      },
      "execution_count": 11,
      "outputs": [
        {
          "output_type": "stream",
          "name": "stdout",
          "text": [
            "Objective value: 5609.999999999998\n",
            "Facility openings:\n",
            "Facility F2 is opened\n",
            "Facility F3 is opened\n",
            "Customer assignments:\n",
            "Customer C1 is serviced by Facility F2: 1.00\n",
            "Customer C2 is serviced by Facility F2: 1.00\n",
            "Customer C3 is serviced by Facility F2: 0.60\n",
            "Customer C3 is serviced by Facility F3: 0.40\n",
            "Customer C4 is serviced by Facility F3: 1.00\n",
            "Customer C5 is serviced by Facility F3: 1.00\n"
          ]
        }
      ]
    },
    {
      "cell_type": "markdown",
      "source": [
        "# 5. Correct The Model Code to Test Mathematical Model (if applicable)"
      ],
      "metadata": {
        "id": "KHTyoLQTWZVy"
      }
    },
    {
      "cell_type": "code",
      "source": [],
      "metadata": {
        "id": "St1_C5TbCXcf"
      },
      "execution_count": null,
      "outputs": []
    },
    {
      "cell_type": "code",
      "source": [],
      "metadata": {
        "id": "A-Kq05sreCew"
      },
      "execution_count": null,
      "outputs": []
    }
  ]
}