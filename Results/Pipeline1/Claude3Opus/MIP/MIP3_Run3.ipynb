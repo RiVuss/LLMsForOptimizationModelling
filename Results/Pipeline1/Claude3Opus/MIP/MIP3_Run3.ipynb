{
  "nbformat": 4,
  "nbformat_minor": 0,
  "metadata": {
    "colab": {
      "provenance": []
    },
    "kernelspec": {
      "name": "python3",
      "display_name": "Python 3"
    },
    "language_info": {
      "name": "python"
    }
  },
  "cells": [
    {
      "cell_type": "markdown",
      "source": [
        "# 0. Imports and Setting up Anthropic API Client"
      ],
      "metadata": {
        "id": "y5fw0lkBwBbo"
      }
    },
    {
      "cell_type": "code",
      "source": [
        "from google.colab import drive\n",
        "\n",
        "drive.mount('/content/drive')"
      ],
      "metadata": {
        "colab": {
          "base_uri": "https://localhost:8080/"
        },
        "id": "e7tWOLo0yMoH",
        "outputId": "45f36ab3-0731-45d1-f3cc-99b31d7bf3f5"
      },
      "execution_count": 1,
      "outputs": [
        {
          "output_type": "stream",
          "name": "stdout",
          "text": [
            "Mounted at /content/drive\n"
          ]
        }
      ]
    },
    {
      "cell_type": "code",
      "source": [
        "!pip install python-dotenv\n",
        "\n",
        "import os\n",
        "import dotenv\n",
        "\n",
        "dotenv.load_dotenv('/content/drive/MyDrive/.env')"
      ],
      "metadata": {
        "colab": {
          "base_uri": "https://localhost:8080/"
        },
        "id": "utcEK8lZ1Z1R",
        "outputId": "df0b1ea9-b6c4-429f-a224-c48a896520a9"
      },
      "execution_count": 2,
      "outputs": [
        {
          "output_type": "stream",
          "name": "stdout",
          "text": [
            "Collecting python-dotenv\n",
            "  Downloading python_dotenv-1.0.1-py3-none-any.whl (19 kB)\n",
            "Installing collected packages: python-dotenv\n",
            "Successfully installed python-dotenv-1.0.1\n"
          ]
        },
        {
          "output_type": "execute_result",
          "data": {
            "text/plain": [
              "True"
            ]
          },
          "metadata": {},
          "execution_count": 2
        }
      ]
    },
    {
      "cell_type": "code",
      "source": [
        "# Load Prompts and Problem Description\n",
        "prompt1_path = '/content/drive/MyDrive/Thesis/Prompts/Prompt1_MathematicalModel.txt'\n",
        "prompt2_path = '/content/drive/MyDrive/Thesis/Prompts/Prompt2_PyomoCode.txt'\n",
        "problem_desc_path = '/content/drive/MyDrive/Thesis/ProblemDescriptions/MIP/MIP3.txt'\n",
        "\n",
        "prompt1_file = open(prompt1_path, \"r\")\n",
        "prompt2_file = open(prompt2_path, \"r\")\n",
        "problem_desc_file = open(problem_desc_path, \"r\")\n",
        "\n",
        "prompt1 = prompt1_file.read()\n",
        "print(\"Prompt 1:\\n\", prompt1)\n",
        "\n",
        "prompt2 = prompt2_file.read()\n",
        "print(\"Prompt 2:\\n\", prompt2)\n",
        "\n",
        "problem_desc = problem_desc_file.read()\n",
        "print(\"Problem Description:\\n\", problem_desc)"
      ],
      "metadata": {
        "colab": {
          "base_uri": "https://localhost:8080/"
        },
        "id": "9KlkjwMUS4xp",
        "outputId": "21474176-745e-451f-b7df-35103b8a7329"
      },
      "execution_count": 3,
      "outputs": [
        {
          "output_type": "stream",
          "name": "stdout",
          "text": [
            "Prompt 1:\n",
            " Please write a mathematical optimization model for this problem. Include parameters, decision variables, the objective function and the constraints in your answer.\n",
            "Prompt 2:\n",
            " Please write a python pyomo code for this optimization problem.\n",
            "Use sample data where needed.\n",
            "Indicate where you use sample data.\n",
            "Problem Description:\n",
            " You are tasked with scheduling the power output of 6 electric power thermal units over the timespan of 15 periods. There is a constant startup cost of for each power unit that is applied if the power plant is turned on. The startup costs are 10324€, 5678€, 7802€, 12899€, 4596€ and 9076€ for powerplants 1 to 6, respectively. In addition, there is a constant shutdown cost for each power unit that is applied if the power plant is turned off. The shutdown costs are 2673€, 5893€, 982€, 6783€, 2596€ and 3561€ for powerplants 1 to 6, respectively. There is also a fixed and variable cost applied if the power plant is running. The fixed cost is constant and the variable cost is proportional to the output of a power plant. There are lower and upper bounds for the output power for each unit. The variable costs are different for each power plant and at each time step. Next, there are maximum power increments and decrements for each power plant that limit how much the output can change from one time period to the next. There is a total power demand that needs to be fulfilled by the power units. Finally, for security reasons, the total available power out should always be 10% higher than the demand. \n",
            "\n",
            "\n",
            "\n",
            " \n",
            "\n"
          ]
        }
      ]
    },
    {
      "cell_type": "code",
      "source": [
        "!pip install anthropic"
      ],
      "metadata": {
        "colab": {
          "base_uri": "https://localhost:8080/"
        },
        "id": "iWlNsTIvxCcR",
        "outputId": "d1371ce8-dd1b-42e8-bd29-e53d3151a670",
        "collapsed": true
      },
      "execution_count": 4,
      "outputs": [
        {
          "output_type": "stream",
          "name": "stdout",
          "text": [
            "Collecting anthropic\n",
            "  Downloading anthropic-0.26.0-py3-none-any.whl (877 kB)\n",
            "\u001b[2K     \u001b[90m━━━━━━━━━━━━━━━━━━━━━━━━━━━━━━━━━━━━━━━━\u001b[0m \u001b[32m877.7/877.7 kB\u001b[0m \u001b[31m4.3 MB/s\u001b[0m eta \u001b[36m0:00:00\u001b[0m\n",
            "\u001b[?25hRequirement already satisfied: anyio<5,>=3.5.0 in /usr/local/lib/python3.10/dist-packages (from anthropic) (3.7.1)\n",
            "Requirement already satisfied: distro<2,>=1.7.0 in /usr/lib/python3/dist-packages (from anthropic) (1.7.0)\n",
            "Collecting httpx<1,>=0.23.0 (from anthropic)\n",
            "  Downloading httpx-0.27.0-py3-none-any.whl (75 kB)\n",
            "\u001b[2K     \u001b[90m━━━━━━━━━━━━━━━━━━━━━━━━━━━━━━━━━━━━━━━━\u001b[0m \u001b[32m75.6/75.6 kB\u001b[0m \u001b[31m7.4 MB/s\u001b[0m eta \u001b[36m0:00:00\u001b[0m\n",
            "\u001b[?25hRequirement already satisfied: pydantic<3,>=1.9.0 in /usr/local/lib/python3.10/dist-packages (from anthropic) (2.7.1)\n",
            "Requirement already satisfied: sniffio in /usr/local/lib/python3.10/dist-packages (from anthropic) (1.3.1)\n",
            "Requirement already satisfied: tokenizers>=0.13.0 in /usr/local/lib/python3.10/dist-packages (from anthropic) (0.19.1)\n",
            "Requirement already satisfied: typing-extensions<5,>=4.7 in /usr/local/lib/python3.10/dist-packages (from anthropic) (4.11.0)\n",
            "Requirement already satisfied: idna>=2.8 in /usr/local/lib/python3.10/dist-packages (from anyio<5,>=3.5.0->anthropic) (3.7)\n",
            "Requirement already satisfied: exceptiongroup in /usr/local/lib/python3.10/dist-packages (from anyio<5,>=3.5.0->anthropic) (1.2.1)\n",
            "Requirement already satisfied: certifi in /usr/local/lib/python3.10/dist-packages (from httpx<1,>=0.23.0->anthropic) (2024.2.2)\n",
            "Collecting httpcore==1.* (from httpx<1,>=0.23.0->anthropic)\n",
            "  Downloading httpcore-1.0.5-py3-none-any.whl (77 kB)\n",
            "\u001b[2K     \u001b[90m━━━━━━━━━━━━━━━━━━━━━━━━━━━━━━━━━━━━━━━━\u001b[0m \u001b[32m77.9/77.9 kB\u001b[0m \u001b[31m7.3 MB/s\u001b[0m eta \u001b[36m0:00:00\u001b[0m\n",
            "\u001b[?25hCollecting h11<0.15,>=0.13 (from httpcore==1.*->httpx<1,>=0.23.0->anthropic)\n",
            "  Downloading h11-0.14.0-py3-none-any.whl (58 kB)\n",
            "\u001b[2K     \u001b[90m━━━━━━━━━━━━━━━━━━━━━━━━━━━━━━━━━━━━━━━━\u001b[0m \u001b[32m58.3/58.3 kB\u001b[0m \u001b[31m6.6 MB/s\u001b[0m eta \u001b[36m0:00:00\u001b[0m\n",
            "\u001b[?25hRequirement already satisfied: annotated-types>=0.4.0 in /usr/local/lib/python3.10/dist-packages (from pydantic<3,>=1.9.0->anthropic) (0.6.0)\n",
            "Requirement already satisfied: pydantic-core==2.18.2 in /usr/local/lib/python3.10/dist-packages (from pydantic<3,>=1.9.0->anthropic) (2.18.2)\n",
            "Requirement already satisfied: huggingface-hub<1.0,>=0.16.4 in /usr/local/lib/python3.10/dist-packages (from tokenizers>=0.13.0->anthropic) (0.20.3)\n",
            "Requirement already satisfied: filelock in /usr/local/lib/python3.10/dist-packages (from huggingface-hub<1.0,>=0.16.4->tokenizers>=0.13.0->anthropic) (3.14.0)\n",
            "Requirement already satisfied: fsspec>=2023.5.0 in /usr/local/lib/python3.10/dist-packages (from huggingface-hub<1.0,>=0.16.4->tokenizers>=0.13.0->anthropic) (2023.6.0)\n",
            "Requirement already satisfied: requests in /usr/local/lib/python3.10/dist-packages (from huggingface-hub<1.0,>=0.16.4->tokenizers>=0.13.0->anthropic) (2.31.0)\n",
            "Requirement already satisfied: tqdm>=4.42.1 in /usr/local/lib/python3.10/dist-packages (from huggingface-hub<1.0,>=0.16.4->tokenizers>=0.13.0->anthropic) (4.66.4)\n",
            "Requirement already satisfied: pyyaml>=5.1 in /usr/local/lib/python3.10/dist-packages (from huggingface-hub<1.0,>=0.16.4->tokenizers>=0.13.0->anthropic) (6.0.1)\n",
            "Requirement already satisfied: packaging>=20.9 in /usr/local/lib/python3.10/dist-packages (from huggingface-hub<1.0,>=0.16.4->tokenizers>=0.13.0->anthropic) (24.0)\n",
            "Requirement already satisfied: charset-normalizer<4,>=2 in /usr/local/lib/python3.10/dist-packages (from requests->huggingface-hub<1.0,>=0.16.4->tokenizers>=0.13.0->anthropic) (3.3.2)\n",
            "Requirement already satisfied: urllib3<3,>=1.21.1 in /usr/local/lib/python3.10/dist-packages (from requests->huggingface-hub<1.0,>=0.16.4->tokenizers>=0.13.0->anthropic) (2.0.7)\n",
            "Installing collected packages: h11, httpcore, httpx, anthropic\n",
            "Successfully installed anthropic-0.26.0 h11-0.14.0 httpcore-1.0.5 httpx-0.27.0\n"
          ]
        }
      ]
    },
    {
      "cell_type": "code",
      "execution_count": 5,
      "metadata": {
        "id": "7Qjk2D63v1Bl"
      },
      "outputs": [],
      "source": [
        "# Importing Anthropic & Setting Headers\n",
        "import anthropic\n",
        "\n",
        "client = anthropic.Anthropic(\n",
        "    # defaults to os.environ.get(\"ANTHROPIC_API_KEY\")\n",
        "    api_key=os.environ.get(\"ANTHROPIC_API_KEY\"),\n",
        ")"
      ]
    },
    {
      "cell_type": "markdown",
      "source": [
        "# 1. Prompt 1: Create Mathematical Model"
      ],
      "metadata": {
        "id": "kT7yKbJs18XR"
      }
    },
    {
      "cell_type": "code",
      "source": [
        "message = client.messages.create(\n",
        "    model=\"claude-3-opus-20240229\",\n",
        "    system=prompt1,\n",
        "    max_tokens=4096,\n",
        "    messages=[\n",
        "        {\"role\": \"user\", \"content\": problem_desc}\n",
        "    ]\n",
        ")\n",
        "\n",
        "response_p1 = message.content[0].text"
      ],
      "metadata": {
        "id": "R_6X0axq16D4"
      },
      "execution_count": 6,
      "outputs": []
    },
    {
      "cell_type": "code",
      "source": [
        "# Print response\n",
        "print(response_p1)"
      ],
      "metadata": {
        "colab": {
          "base_uri": "https://localhost:8080/"
        },
        "id": "Ra9Ox_PI38jg",
        "outputId": "3828c73e-7bce-4217-96fc-d3ea79dad66e"
      },
      "execution_count": 7,
      "outputs": [
        {
          "output_type": "stream",
          "name": "stdout",
          "text": [
            "To formulate the mathematical optimization model for the given power plant scheduling problem, we need to define the parameters, decision variables, objective function, and constraints. Here is the formulation:\n",
            "\n",
            "Parameters:\n",
            "- N: Number of power units (N = 6)\n",
            "- T: Number of time periods (T = 15)\n",
            "- SC_i: Startup cost for power unit i (€)\n",
            "- SD_i: Shutdown cost for power unit i (€)\n",
            "- FC_i: Fixed cost for power unit i (€)\n",
            "- VC_i,t: Variable cost for power unit i at time t (€/MW)\n",
            "- P_min_i: Minimum power output for unit i (MW)\n",
            "- P_max_i: Maximum power output for unit i (MW)\n",
            "- R_up_i: Maximum power increment for unit i (MW)\n",
            "- R_down_i: Maximum power decrement for unit i (MW)\n",
            "- D_t: Power demand at time t (MW)\n",
            "\n",
            "Decision Variables:\n",
            "- u_i,t: Binary variable indicating if unit i is on (1) or off (0) at time t\n",
            "- p_i,t: Power output of unit i at time t (MW)\n",
            "- v_i,t: Binary variable indicating if unit i is started up (1) or not (0) at time t\n",
            "- w_i,t: Binary variable indicating if unit i is shut down (1) or not (0) at time t\n",
            "\n",
            "Objective Function:\n",
            "Minimize the total cost, which is the sum of startup costs, shutdown costs, fixed costs, and variable costs over all units and time periods.\n",
            "\n",
            "min ∑_i=1^N ∑_t=1^T (SC_i * v_i,t + SD_i * w_i,t + FC_i * u_i,t + VC_i,t * p_i,t)\n",
            "\n",
            "Constraints:\n",
            "1. Power balance constraint: The total power output from all units should meet the demand plus 10% at each time period.\n",
            "   ∑_i=1^N p_i,t = 1.1 * D_t, ∀t\n",
            "\n",
            "2. Power output bounds: The power output of each unit should be within its minimum and maximum limits when the unit is on.\n",
            "   P_min_i * u_i,t ≤ p_i,t ≤ P_max_i * u_i,t, ∀i, ∀t\n",
            "\n",
            "3. Ramp-up and ramp-down constraints: The change in power output between consecutive time periods should be within the maximum power increment and decrement limits.\n",
            "   p_i,t - p_i,t-1 ≤ R_up_i * u_i,t-1 + P_max_i * v_i,t, ∀i, ∀t>1\n",
            "   p_i,t-1 - p_i,t ≤ R_down_i * u_i,t + P_max_i * w_i,t, ∀i, ∀t>1\n",
            "\n",
            "4. Startup and shutdown constraints: Ensure the correct values for the startup and shutdown variables based on the changes in the on/off status of the units.\n",
            "   v_i,t - w_i,t = u_i,t - u_i,t-1, ∀i, ∀t>1\n",
            "   v_i,t + w_i,t ≤ 1, ∀i, ∀t\n",
            "\n",
            "5. Binary and non-negativity constraints:\n",
            "   u_i,t, v_i,t, w_i,t ∈ {0, 1}, ∀i, ∀t\n",
            "   p_i,t ≥ 0, ∀i, ∀t\n",
            "\n",
            "This formulation represents the power plant scheduling problem as a mixed-integer linear programming (MILP) model, which can be solved using optimization software to determine the optimal power output schedule for the units while minimizing the total cost.\n"
          ]
        }
      ]
    },
    {
      "cell_type": "markdown",
      "source": [
        "# 2. Prompt 2: Write Code based on Mathematical Model"
      ],
      "metadata": {
        "id": "WPZ6lgBO729j"
      }
    },
    {
      "cell_type": "code",
      "source": [
        "message2 = client.messages.create(\n",
        "    model=\"claude-3-opus-20240229\",\n",
        "    system=prompt2,\n",
        "    max_tokens=4069,\n",
        "    messages=[\n",
        "        {\"role\": \"user\", \"content\": response_p1}\n",
        "    ]\n",
        ")\n",
        "\n",
        "response_p2 = message2.content[0].text"
      ],
      "metadata": {
        "id": "1iUSgBda70FL"
      },
      "execution_count": 8,
      "outputs": []
    },
    {
      "cell_type": "code",
      "source": [
        "# Print response\n",
        "print(response_p2)"
      ],
      "metadata": {
        "colab": {
          "base_uri": "https://localhost:8080/"
        },
        "id": "o40mxc_H8eQ9",
        "outputId": "b8382c95-731d-42d6-8bbc-48cfecd8d2cc"
      },
      "execution_count": 9,
      "outputs": [
        {
          "output_type": "stream",
          "name": "stdout",
          "text": [
            "Here's a Python Pyomo code for the power plant scheduling optimization problem based on the provided formulation:\n",
            "\n",
            "```python\n",
            "from pyomo.environ import *\n",
            "\n",
            "# Parameters\n",
            "N = 6  # Number of power units\n",
            "T = 15  # Number of time periods\n",
            "\n",
            "# Sample data (replace with actual data)\n",
            "SC = [100, 150, 200, 120, 180, 250]  # Startup costs (€)\n",
            "SD = [50, 60, 70, 80, 90, 100]  # Shutdown costs (€)\n",
            "FC = [1000, 1200, 1400, 1100, 1300, 1500]  # Fixed costs (€)\n",
            "VC = [[10, 12, 14, 11, 13, 15] for _ in range(T)]  # Variable costs (€/MW)\n",
            "P_min = [50, 60, 70, 55, 65, 75]  # Minimum power output (MW)\n",
            "P_max = [200, 250, 300, 220, 280, 320]  # Maximum power output (MW)\n",
            "R_up = [50, 60, 70, 55, 65, 75]  # Maximum power increment (MW)\n",
            "R_down = [40, 50, 60, 45, 55, 65]  # Maximum power decrement (MW)\n",
            "D = [500, 600, 700, 800, 900, 1000, 1100, 1200, 1300, 1400, 1500, 1400, 1300, 1200, 1100]  # Power demand (MW)\n",
            "\n",
            "# Create the Pyomo model\n",
            "model = ConcreteModel()\n",
            "\n",
            "# Define sets\n",
            "model.N = RangeSet(1, N)\n",
            "model.T = RangeSet(1, T)\n",
            "\n",
            "# Define decision variables\n",
            "model.u = Var(model.N, model.T, domain=Binary)\n",
            "model.p = Var(model.N, model.T, domain=NonNegativeReals)\n",
            "model.v = Var(model.N, model.T, domain=Binary)\n",
            "model.w = Var(model.N, model.T, domain=Binary)\n",
            "\n",
            "# Define objective function\n",
            "def obj_rule(model):\n",
            "    return sum(SC[i-1] * model.v[i,t] + SD[i-1] * model.w[i,t] + FC[i-1] * model.u[i,t] + VC[t-1][i-1] * model.p[i,t] for i in model.N for t in model.T)\n",
            "model.obj = Objective(rule=obj_rule, sense=minimize)\n",
            "\n",
            "# Define constraints\n",
            "def power_balance_rule(model, t):\n",
            "    return sum(model.p[i,t] for i in model.N) == 1.1 * D[t-1]\n",
            "model.power_balance = Constraint(model.T, rule=power_balance_rule)\n",
            "\n",
            "def power_output_min_rule(model, i, t):\n",
            "    return model.p[i,t] >= P_min[i-1] * model.u[i,t]\n",
            "model.power_output_min = Constraint(model.N, model.T, rule=power_output_min_rule)\n",
            "\n",
            "def power_output_max_rule(model, i, t):\n",
            "    return model.p[i,t] <= P_max[i-1] * model.u[i,t]\n",
            "model.power_output_max = Constraint(model.N, model.T, rule=power_output_max_rule)\n",
            "\n",
            "def ramp_up_rule(model, i, t):\n",
            "    if t > 1:\n",
            "        return model.p[i,t] - model.p[i,t-1] <= R_up[i-1] * model.u[i,t-1] + P_max[i-1] * model.v[i,t]\n",
            "    else:\n",
            "        return Constraint.Skip\n",
            "model.ramp_up = Constraint(model.N, model.T, rule=ramp_up_rule)\n",
            "\n",
            "def ramp_down_rule(model, i, t):\n",
            "    if t > 1:\n",
            "        return model.p[i,t-1] - model.p[i,t] <= R_down[i-1] * model.u[i,t] + P_max[i-1] * model.w[i,t]\n",
            "    else:\n",
            "        return Constraint.Skip\n",
            "model.ramp_down = Constraint(model.N, model.T, rule=ramp_down_rule)\n",
            "\n",
            "def startup_shutdown_rule(model, i, t):\n",
            "    if t > 1:\n",
            "        return model.v[i,t] - model.w[i,t] == model.u[i,t] - model.u[i,t-1]\n",
            "    else:\n",
            "        return Constraint.Skip\n",
            "model.startup_shutdown = Constraint(model.N, model.T, rule=startup_shutdown_rule)\n",
            "\n",
            "def startup_shutdown_limit_rule(model, i, t):\n",
            "    return model.v[i,t] + model.w[i,t] <= 1\n",
            "model.startup_shutdown_limit = Constraint(model.N, model.T, rule=startup_shutdown_limit_rule)\n",
            "\n",
            "# Solve the model\n",
            "solver = SolverFactory('glpk')\n",
            "results = solver.solve(model)\n",
            "\n",
            "# Print the results\n",
            "print(\"Objective value:\", value(model.obj))\n",
            "\n",
            "for t in model.T:\n",
            "    print(f\"Time period {t}:\")\n",
            "    for i in model.N:\n",
            "        print(f\"Unit {i}: Power output = {value(model.p[i,t]):.2f}, On/Off = {value(model.u[i,t])}\")\n",
            "    print()\n",
            "```\n",
            "\n",
            "In this code, I've used sample data for the parameters such as startup costs, shutdown costs, fixed costs, variable costs, minimum and maximum power output, maximum power increment and decrement, and power demand. You can replace these sample values with your actual data.\n",
            "\n",
            "The code follows the mathematical formulation provided earlier. It defines the sets, decision variables, objective function, and constraints using Pyomo. The objective function minimizes the total cost, which includes startup costs, shutdown costs, fixed costs, and variable costs. The constraints ensure power balance, power output bounds, ramp-up and ramp-down limits, and startup and shutdown conditions.\n",
            "\n",
            "After solving the model, the code prints the objective value (total cost) and the power output and on/off status of each unit for each time period.\n",
            "\n",
            "Note: Make sure you have Pyomo and a compatible solver (e.g., GLPK) installed before running this code.\n"
          ]
        }
      ]
    },
    {
      "cell_type": "markdown",
      "source": [
        "# 4. Input Problem Data and Test Model Code"
      ],
      "metadata": {
        "id": "Pc0QqJuf8up_"
      }
    },
    {
      "cell_type": "code",
      "source": [
        "# Installing pyomo nd solver\n",
        "!pip install -q pyomo\n",
        "!apt-get install -y -qq glpk-utils\n",
        "!pip install glpk\n",
        "!pip install pandas"
      ],
      "metadata": {
        "colab": {
          "base_uri": "https://localhost:8080/"
        },
        "id": "3BtROuLu9O-p",
        "outputId": "c2d4a42e-cb9d-43fa-8b01-47ddb2598930",
        "collapsed": true
      },
      "execution_count": 10,
      "outputs": [
        {
          "output_type": "stream",
          "name": "stdout",
          "text": [
            "\u001b[2K     \u001b[90m━━━━━━━━━━━━━━━━━━━━━━━━━━━━━━━━━━━━━━━━\u001b[0m \u001b[32m12.8/12.8 MB\u001b[0m \u001b[31m55.8 MB/s\u001b[0m eta \u001b[36m0:00:00\u001b[0m\n",
            "\u001b[2K     \u001b[90m━━━━━━━━━━━━━━━━━━━━━━━━━━━━━━━━━━━━━━━━\u001b[0m \u001b[32m49.6/49.6 kB\u001b[0m \u001b[31m5.1 MB/s\u001b[0m eta \u001b[36m0:00:00\u001b[0m\n",
            "\u001b[?25hSelecting previously unselected package libsuitesparseconfig5:amd64.\n",
            "(Reading database ... 121918 files and directories currently installed.)\n",
            "Preparing to unpack .../libsuitesparseconfig5_1%3a5.10.1+dfsg-4build1_amd64.deb ...\n",
            "Unpacking libsuitesparseconfig5:amd64 (1:5.10.1+dfsg-4build1) ...\n",
            "Selecting previously unselected package libamd2:amd64.\n",
            "Preparing to unpack .../libamd2_1%3a5.10.1+dfsg-4build1_amd64.deb ...\n",
            "Unpacking libamd2:amd64 (1:5.10.1+dfsg-4build1) ...\n",
            "Selecting previously unselected package libcolamd2:amd64.\n",
            "Preparing to unpack .../libcolamd2_1%3a5.10.1+dfsg-4build1_amd64.deb ...\n",
            "Unpacking libcolamd2:amd64 (1:5.10.1+dfsg-4build1) ...\n",
            "Selecting previously unselected package libglpk40:amd64.\n",
            "Preparing to unpack .../libglpk40_5.0-1_amd64.deb ...\n",
            "Unpacking libglpk40:amd64 (5.0-1) ...\n",
            "Selecting previously unselected package glpk-utils.\n",
            "Preparing to unpack .../glpk-utils_5.0-1_amd64.deb ...\n",
            "Unpacking glpk-utils (5.0-1) ...\n",
            "Setting up libsuitesparseconfig5:amd64 (1:5.10.1+dfsg-4build1) ...\n",
            "Setting up libamd2:amd64 (1:5.10.1+dfsg-4build1) ...\n",
            "Setting up libcolamd2:amd64 (1:5.10.1+dfsg-4build1) ...\n",
            "Setting up libglpk40:amd64 (5.0-1) ...\n",
            "Setting up glpk-utils (5.0-1) ...\n",
            "Processing triggers for man-db (2.10.2-1) ...\n",
            "Processing triggers for libc-bin (2.35-0ubuntu3.4) ...\n",
            "/sbin/ldconfig.real: /usr/local/lib/libtbbmalloc_proxy.so.2 is not a symbolic link\n",
            "\n",
            "/sbin/ldconfig.real: /usr/local/lib/libtbbbind_2_5.so.3 is not a symbolic link\n",
            "\n",
            "/sbin/ldconfig.real: /usr/local/lib/libtbbmalloc.so.2 is not a symbolic link\n",
            "\n",
            "/sbin/ldconfig.real: /usr/local/lib/libtbbbind.so.3 is not a symbolic link\n",
            "\n",
            "/sbin/ldconfig.real: /usr/local/lib/libtbbbind_2_0.so.3 is not a symbolic link\n",
            "\n",
            "/sbin/ldconfig.real: /usr/local/lib/libtbb.so.12 is not a symbolic link\n",
            "\n",
            "Collecting glpk\n",
            "  Downloading glpk-0.4.7.tar.gz (161 kB)\n",
            "\u001b[2K     \u001b[90m━━━━━━━━━━━━━━━━━━━━━━━━━━━━━━━━━━━━━━━━\u001b[0m \u001b[32m161.2/161.2 kB\u001b[0m \u001b[31m1.5 MB/s\u001b[0m eta \u001b[36m0:00:00\u001b[0m\n",
            "\u001b[?25h  Installing build dependencies ... \u001b[?25l\u001b[?25hdone\n",
            "  Getting requirements to build wheel ... \u001b[?25l\u001b[?25hdone\n",
            "  Preparing metadata (pyproject.toml) ... \u001b[?25l\u001b[?25hdone\n",
            "Building wheels for collected packages: glpk\n",
            "  \u001b[1;31merror\u001b[0m: \u001b[1msubprocess-exited-with-error\u001b[0m\n",
            "  \n",
            "  \u001b[31m×\u001b[0m \u001b[32mBuilding wheel for glpk \u001b[0m\u001b[1;32m(\u001b[0m\u001b[32mpyproject.toml\u001b[0m\u001b[1;32m)\u001b[0m did not run successfully.\n",
            "  \u001b[31m│\u001b[0m exit code: \u001b[1;36m1\u001b[0m\n",
            "  \u001b[31m╰─>\u001b[0m See above for output.\n",
            "  \n",
            "  \u001b[1;35mnote\u001b[0m: This error originates from a subprocess, and is likely not a problem with pip.\n",
            "  Building wheel for glpk (pyproject.toml) ... \u001b[?25l\u001b[?25herror\n",
            "\u001b[31m  ERROR: Failed building wheel for glpk\u001b[0m\u001b[31m\n",
            "\u001b[0mFailed to build glpk\n",
            "\u001b[31mERROR: Could not build wheels for glpk, which is required to install pyproject.toml-based projects\u001b[0m\u001b[31m\n",
            "\u001b[0mRequirement already satisfied: pandas in /usr/local/lib/python3.10/dist-packages (2.0.3)\n",
            "Requirement already satisfied: python-dateutil>=2.8.2 in /usr/local/lib/python3.10/dist-packages (from pandas) (2.8.2)\n",
            "Requirement already satisfied: pytz>=2020.1 in /usr/local/lib/python3.10/dist-packages (from pandas) (2023.4)\n",
            "Requirement already satisfied: tzdata>=2022.1 in /usr/local/lib/python3.10/dist-packages (from pandas) (2024.1)\n",
            "Requirement already satisfied: numpy>=1.21.0 in /usr/local/lib/python3.10/dist-packages (from pandas) (1.25.2)\n",
            "Requirement already satisfied: six>=1.5 in /usr/local/lib/python3.10/dist-packages (from python-dateutil>=2.8.2->pandas) (1.16.0)\n"
          ]
        }
      ]
    },
    {
      "cell_type": "code",
      "source": [
        "from pyomo.environ import *\n",
        "\n",
        "# Parameters\n",
        "N = 6  # Number of power units\n",
        "T = 15  # Number of time periods\n",
        "\n",
        "# Sample data (replace with actual data)\n",
        "SC = [10324, 5678, 7802, 12899, 4596, 9076]\n",
        "SD = [2673, 5893, 982, 6783, 2596, 3561]\n",
        "FC = [2000, 3000, 2500, 4000, 3500, 4500]\n",
        "VC = [[20, 15, 18, 25, 22, 30],\n",
        "      [22, 16, 19, 26, 23, 31],\n",
        "      [23, 17, 20, 27, 24, 32],\n",
        "      [24, 18, 21, 28, 25, 33],\n",
        "      [25, 19, 22, 29, 26, 34],\n",
        "      [26, 20, 23, 30, 27, 35],\n",
        "      [27, 21, 24, 31, 28, 36],\n",
        "      [28, 22, 25, 32, 29, 37],\n",
        "      [29, 23, 26, 33, 30, 38],\n",
        "      [30, 24, 27, 34, 31, 39],\n",
        "      [31, 25, 28, 35, 32, 40],\n",
        "      [32, 26, 29, 36, 33, 41],\n",
        "      [33, 27, 30, 37, 34, 42],\n",
        "      [34, 28, 31, 38, 35, 43],\n",
        "      [35, 29, 32, 39, 36, 44],\n",
        "      ]\n",
        "P_min = [50, 40, 30, 60, 55, 65]\n",
        "P_max = [500, 600, 550, 700, 650, 750]\n",
        "R_up = [100, 120, 110, 130, 125, 140]\n",
        "R_down = [90, 110, 100, 120, 115, 130]\n",
        "D = [1000, 1200, 1300, 1100, 1500, 1400, 1600, 1300, 1700, 1800, 1900, 1600, 2000, 1800, 1700]\n",
        "\n",
        "# Create the Pyomo model\n",
        "model = ConcreteModel()\n",
        "\n",
        "# Define sets\n",
        "model.N = RangeSet(1, N)\n",
        "model.T = RangeSet(1, T)\n",
        "\n",
        "# Define decision variables\n",
        "model.u = Var(model.N, model.T, domain=Binary)\n",
        "model.p = Var(model.N, model.T, domain=NonNegativeReals)\n",
        "model.v = Var(model.N, model.T, domain=Binary)\n",
        "model.w = Var(model.N, model.T, domain=Binary)\n",
        "\n",
        "# Define objective function\n",
        "def obj_rule(model):\n",
        "    return sum(SC[i-1] * model.v[i,t] + SD[i-1] * model.w[i,t] + FC[i-1] * model.u[i,t] + VC[t-1][i-1] * model.p[i,t] for i in model.N for t in model.T)\n",
        "model.obj = Objective(rule=obj_rule, sense=minimize)\n",
        "\n",
        "# Define constraints\n",
        "def power_balance_rule(model, t):\n",
        "    return sum(model.p[i,t] for i in model.N) == 1.1 * D[t-1]\n",
        "model.power_balance = Constraint(model.T, rule=power_balance_rule)\n",
        "\n",
        "def power_output_min_rule(model, i, t):\n",
        "    return model.p[i,t] >= P_min[i-1] * model.u[i,t]\n",
        "model.power_output_min = Constraint(model.N, model.T, rule=power_output_min_rule)\n",
        "\n",
        "def power_output_max_rule(model, i, t):\n",
        "    return model.p[i,t] <= P_max[i-1] * model.u[i,t]\n",
        "model.power_output_max = Constraint(model.N, model.T, rule=power_output_max_rule)\n",
        "\n",
        "def ramp_up_rule(model, i, t):\n",
        "    if t > 1:\n",
        "        return model.p[i,t] - model.p[i,t-1] <= R_up[i-1] * model.u[i,t-1] + P_max[i-1] * model.v[i,t]\n",
        "    else:\n",
        "        return Constraint.Skip\n",
        "model.ramp_up = Constraint(model.N, model.T, rule=ramp_up_rule)\n",
        "\n",
        "def ramp_down_rule(model, i, t):\n",
        "    if t > 1:\n",
        "        return model.p[i,t-1] - model.p[i,t] <= R_down[i-1] * model.u[i,t] + P_max[i-1] * model.w[i,t]\n",
        "    else:\n",
        "        return Constraint.Skip\n",
        "model.ramp_down = Constraint(model.N, model.T, rule=ramp_down_rule)\n",
        "\n",
        "def startup_shutdown_rule(model, i, t):\n",
        "    if t > 1:\n",
        "        return model.v[i,t] - model.w[i,t] == model.u[i,t] - model.u[i,t-1]\n",
        "    else:\n",
        "        return Constraint.Skip\n",
        "model.startup_shutdown = Constraint(model.N, model.T, rule=startup_shutdown_rule)\n",
        "\n",
        "def startup_shutdown_limit_rule(model, i, t):\n",
        "    return model.v[i,t] + model.w[i,t] <= 1\n",
        "model.startup_shutdown_limit = Constraint(model.N, model.T, rule=startup_shutdown_limit_rule)\n",
        "\n",
        "# Solve the model\n",
        "solver = SolverFactory('glpk')\n",
        "results = solver.solve(model)\n",
        "\n",
        "# Print the results\n",
        "print(\"Objective value:\", value(model.obj))\n",
        "\n",
        "for t in model.T:\n",
        "    print(f\"Time period {t}:\")\n",
        "    for i in model.N:\n",
        "        print(f\"Unit {i}: Power output = {value(model.p[i,t]):.2f}, On/Off = {value(model.u[i,t])}\")\n",
        "    print()"
      ],
      "metadata": {
        "colab": {
          "base_uri": "https://localhost:8080/"
        },
        "id": "8FpHcuWU8rQ2",
        "outputId": "0c1c7c9b-6b6a-4320-8e7c-d9615be37f38"
      },
      "execution_count": 11,
      "outputs": [
        {
          "output_type": "stream",
          "name": "stdout",
          "text": [
            "Objective value: 806126.0\n",
            "Time period 1:\n",
            "Unit 1: Power output = 80.00, On/Off = 1.0\n",
            "Unit 2: Power output = 590.00, On/Off = 1.0\n",
            "Unit 3: Power output = 430.00, On/Off = 1.0\n",
            "Unit 4: Power output = 0.00, On/Off = 0.0\n",
            "Unit 5: Power output = 0.00, On/Off = 0.0\n",
            "Unit 6: Power output = 0.00, On/Off = 0.0\n",
            "\n",
            "Time period 2:\n",
            "Unit 1: Power output = 180.00, On/Off = 1.0\n",
            "Unit 2: Power output = 600.00, On/Off = 1.0\n",
            "Unit 3: Power output = 540.00, On/Off = 1.0\n",
            "Unit 4: Power output = 0.00, On/Off = 0.0\n",
            "Unit 5: Power output = 0.00, On/Off = 0.0\n",
            "Unit 6: Power output = 0.00, On/Off = 0.0\n",
            "\n",
            "Time period 3:\n",
            "Unit 1: Power output = 280.00, On/Off = 1.0\n",
            "Unit 2: Power output = 600.00, On/Off = 1.0\n",
            "Unit 3: Power output = 550.00, On/Off = 1.0\n",
            "Unit 4: Power output = 0.00, On/Off = 0.0\n",
            "Unit 5: Power output = 0.00, On/Off = 0.0\n",
            "Unit 6: Power output = 0.00, On/Off = 0.0\n",
            "\n",
            "Time period 4:\n",
            "Unit 1: Power output = 190.00, On/Off = 1.0\n",
            "Unit 2: Power output = 570.00, On/Off = 1.0\n",
            "Unit 3: Power output = 450.00, On/Off = 1.0\n",
            "Unit 4: Power output = 0.00, On/Off = 0.0\n",
            "Unit 5: Power output = 0.00, On/Off = 0.0\n",
            "Unit 6: Power output = 0.00, On/Off = 0.0\n",
            "\n",
            "Time period 5:\n",
            "Unit 1: Power output = 290.00, On/Off = 1.0\n",
            "Unit 2: Power output = 600.00, On/Off = 1.0\n",
            "Unit 3: Power output = 550.00, On/Off = 1.0\n",
            "Unit 4: Power output = 0.00, On/Off = 0.0\n",
            "Unit 5: Power output = 210.00, On/Off = 1.0\n",
            "Unit 6: Power output = 0.00, On/Off = 0.0\n",
            "\n",
            "Time period 6:\n",
            "Unit 1: Power output = 295.00, On/Off = 1.0\n",
            "Unit 2: Power output = 600.00, On/Off = 1.0\n",
            "Unit 3: Power output = 550.00, On/Off = 1.0\n",
            "Unit 4: Power output = 0.00, On/Off = 0.0\n",
            "Unit 5: Power output = 95.00, On/Off = 1.0\n",
            "Unit 6: Power output = 0.00, On/Off = 0.0\n",
            "\n",
            "Time period 7:\n",
            "Unit 1: Power output = 395.00, On/Off = 1.0\n",
            "Unit 2: Power output = 600.00, On/Off = 1.0\n",
            "Unit 3: Power output = 545.00, On/Off = 1.0\n",
            "Unit 4: Power output = 0.00, On/Off = 0.0\n",
            "Unit 5: Power output = 220.00, On/Off = 1.0\n",
            "Unit 6: Power output = 0.00, On/Off = 0.0\n",
            "\n",
            "Time period 8:\n",
            "Unit 1: Power output = 390.00, On/Off = 1.0\n",
            "Unit 2: Power output = 490.00, On/Off = 1.0\n",
            "Unit 3: Power output = 445.00, On/Off = 1.0\n",
            "Unit 4: Power output = 0.00, On/Off = 0.0\n",
            "Unit 5: Power output = 105.00, On/Off = 1.0\n",
            "Unit 6: Power output = 0.00, On/Off = 0.0\n",
            "\n",
            "Time period 9:\n",
            "Unit 1: Power output = 490.00, On/Off = 1.0\n",
            "Unit 2: Power output = 600.00, On/Off = 1.0\n",
            "Unit 3: Power output = 550.00, On/Off = 1.0\n",
            "Unit 4: Power output = 0.00, On/Off = 0.0\n",
            "Unit 5: Power output = 230.00, On/Off = 1.0\n",
            "Unit 6: Power output = 0.00, On/Off = 0.0\n",
            "\n",
            "Time period 10:\n",
            "Unit 1: Power output = 500.00, On/Off = 1.0\n",
            "Unit 2: Power output = 600.00, On/Off = 1.0\n",
            "Unit 3: Power output = 550.00, On/Off = 1.0\n",
            "Unit 4: Power output = 0.00, On/Off = 0.0\n",
            "Unit 5: Power output = 330.00, On/Off = 1.0\n",
            "Unit 6: Power output = 0.00, On/Off = 0.0\n",
            "\n",
            "Time period 11:\n",
            "Unit 1: Power output = 490.00, On/Off = 1.0\n",
            "Unit 2: Power output = 600.00, On/Off = 1.0\n",
            "Unit 3: Power output = 545.00, On/Off = 1.0\n",
            "Unit 4: Power output = 0.00, On/Off = 0.0\n",
            "Unit 5: Power output = 455.00, On/Off = 1.0\n",
            "Unit 6: Power output = 0.00, On/Off = 0.0\n",
            "\n",
            "Time period 12:\n",
            "Unit 1: Power output = 400.00, On/Off = 1.0\n",
            "Unit 2: Power output = 490.00, On/Off = 1.0\n",
            "Unit 3: Power output = 445.00, On/Off = 1.0\n",
            "Unit 4: Power output = -0.00, On/Off = 0.0\n",
            "Unit 5: Power output = 425.00, On/Off = 1.0\n",
            "Unit 6: Power output = 0.00, On/Off = 0.0\n",
            "\n",
            "Time period 13:\n",
            "Unit 1: Power output = 500.00, On/Off = 1.0\n",
            "Unit 2: Power output = 600.00, On/Off = 1.0\n",
            "Unit 3: Power output = 550.00, On/Off = 1.0\n",
            "Unit 4: Power output = 0.00, On/Off = 0.0\n",
            "Unit 5: Power output = 550.00, On/Off = 1.0\n",
            "Unit 6: Power output = 0.00, On/Off = 0.0\n",
            "\n",
            "Time period 14:\n",
            "Unit 1: Power output = 410.00, On/Off = 1.0\n",
            "Unit 2: Power output = 600.00, On/Off = 1.0\n",
            "Unit 3: Power output = 535.00, On/Off = 1.0\n",
            "Unit 4: Power output = 0.00, On/Off = 0.0\n",
            "Unit 5: Power output = 435.00, On/Off = 1.0\n",
            "Unit 6: Power output = 0.00, On/Off = 0.0\n",
            "\n",
            "Time period 15:\n",
            "Unit 1: Power output = 400.00, On/Off = 1.0\n",
            "Unit 2: Power output = 600.00, On/Off = 1.0\n",
            "Unit 3: Power output = 550.00, On/Off = 1.0\n",
            "Unit 4: Power output = 0.00, On/Off = 0.0\n",
            "Unit 5: Power output = 320.00, On/Off = 1.0\n",
            "Unit 6: Power output = 0.00, On/Off = 0.0\n",
            "\n"
          ]
        }
      ]
    },
    {
      "cell_type": "markdown",
      "source": [
        "# 5. Correct The Model Code to Test Mathematical Model (if applicable)"
      ],
      "metadata": {
        "id": "KHTyoLQTWZVy"
      }
    },
    {
      "cell_type": "code",
      "source": [],
      "metadata": {
        "id": "A-Kq05sreCew"
      },
      "execution_count": 11,
      "outputs": []
    }
  ]
}