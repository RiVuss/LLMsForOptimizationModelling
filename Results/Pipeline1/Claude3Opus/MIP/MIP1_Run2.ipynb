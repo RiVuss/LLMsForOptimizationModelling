{
  "nbformat": 4,
  "nbformat_minor": 0,
  "metadata": {
    "colab": {
      "provenance": []
    },
    "kernelspec": {
      "name": "python3",
      "display_name": "Python 3"
    },
    "language_info": {
      "name": "python"
    }
  },
  "cells": [
    {
      "cell_type": "markdown",
      "source": [
        "# 0. Imports and Setting up Anthropic API Client"
      ],
      "metadata": {
        "id": "y5fw0lkBwBbo"
      }
    },
    {
      "cell_type": "code",
      "source": [
        "from google.colab import drive\n",
        "\n",
        "drive.mount('/content/drive')"
      ],
      "metadata": {
        "colab": {
          "base_uri": "https://localhost:8080/"
        },
        "id": "e7tWOLo0yMoH",
        "outputId": "c055f669-ee80-4ebd-daea-20f1bc688553"
      },
      "execution_count": 1,
      "outputs": [
        {
          "output_type": "stream",
          "name": "stdout",
          "text": [
            "Mounted at /content/drive\n"
          ]
        }
      ]
    },
    {
      "cell_type": "code",
      "source": [
        "!pip install python-dotenv\n",
        "\n",
        "import os\n",
        "import dotenv\n",
        "\n",
        "dotenv.load_dotenv('/content/drive/MyDrive/.env')"
      ],
      "metadata": {
        "colab": {
          "base_uri": "https://localhost:8080/"
        },
        "id": "utcEK8lZ1Z1R",
        "outputId": "13c29dfd-9846-4f5f-e15c-1bc8468d9c88"
      },
      "execution_count": 2,
      "outputs": [
        {
          "output_type": "stream",
          "name": "stdout",
          "text": [
            "Collecting python-dotenv\n",
            "  Downloading python_dotenv-1.0.1-py3-none-any.whl (19 kB)\n",
            "Installing collected packages: python-dotenv\n",
            "Successfully installed python-dotenv-1.0.1\n"
          ]
        },
        {
          "output_type": "execute_result",
          "data": {
            "text/plain": [
              "True"
            ]
          },
          "metadata": {},
          "execution_count": 2
        }
      ]
    },
    {
      "cell_type": "code",
      "source": [
        "# Load Prompts and Problem Description\n",
        "prompt1_path = '/content/drive/MyDrive/Thesis/Prompts/Prompt1_MathematicalModel.txt'\n",
        "prompt2_path = '/content/drive/MyDrive/Thesis/Prompts/Prompt2_PyomoCode.txt'\n",
        "problem_desc_path = '/content/drive/MyDrive/Thesis/ProblemDescriptions/MIP/MIP1.txt'\n",
        "\n",
        "prompt1_file = open(prompt1_path, \"r\")\n",
        "prompt2_file = open(prompt2_path, \"r\")\n",
        "problem_desc_file = open(problem_desc_path, \"r\")\n",
        "\n",
        "prompt1 = prompt1_file.read()\n",
        "print(\"Prompt 1:\\n\", prompt1)\n",
        "\n",
        "prompt2 = prompt2_file.read()\n",
        "print(\"Prompt 2:\\n\", prompt2)\n",
        "\n",
        "problem_desc = problem_desc_file.read()\n",
        "print(\"Problem Description:\\n\", problem_desc)"
      ],
      "metadata": {
        "colab": {
          "base_uri": "https://localhost:8080/"
        },
        "id": "9KlkjwMUS4xp",
        "outputId": "05812ec2-2a75-422b-c3c9-63a41a326128"
      },
      "execution_count": 3,
      "outputs": [
        {
          "output_type": "stream",
          "name": "stdout",
          "text": [
            "Prompt 1:\n",
            " Please write a mathematical optimization model for this problem. Include parameters, decision variables, the objective function and the constraints in your answer.\n",
            "Prompt 2:\n",
            " Please write a python pyomo code for this optimization problem.\n",
            "Use sample data where needed.\n",
            "Indicate where you use sample data.\n",
            "Problem Description:\n",
            " You are a city planner, looking to open facilities at some locations. We have a set of customers and a set of possible locations for opening facilities. Each potential location for establishing a facility incurs a fixed annual activation cost, which must be paid if the facility is used, regardless of the service volume it handles. Furthermore, this service volume at each facility is capped at a maximum annual limit. Additionally, there are transportation costs associated with servicing each customer from each facility.\n",
            "The goal is to minimize the overall costs, which include both the fixed activation costs for any opened facilities and the transportation costs for servicing customers. This must be done while making sure that each customer’s demand is met, each facility does not exceed its maximum service volume, and customers can of course only be serviced by a facility that is opened. \n",
            "Please formulate this as a mathematical optimization model.\n",
            "\n",
            "\n"
          ]
        }
      ]
    },
    {
      "cell_type": "code",
      "source": [
        "!pip install anthropic"
      ],
      "metadata": {
        "colab": {
          "base_uri": "https://localhost:8080/"
        },
        "id": "iWlNsTIvxCcR",
        "outputId": "6d97c2d6-6531-4093-fbdb-18501fa5171d",
        "collapsed": true
      },
      "execution_count": 4,
      "outputs": [
        {
          "output_type": "stream",
          "name": "stdout",
          "text": [
            "Collecting anthropic\n",
            "  Downloading anthropic-0.26.0-py3-none-any.whl (877 kB)\n",
            "\u001b[2K     \u001b[90m━━━━━━━━━━━━━━━━━━━━━━━━━━━━━━━━━━━━━━━━\u001b[0m \u001b[32m877.7/877.7 kB\u001b[0m \u001b[31m11.6 MB/s\u001b[0m eta \u001b[36m0:00:00\u001b[0m\n",
            "\u001b[?25hRequirement already satisfied: anyio<5,>=3.5.0 in /usr/local/lib/python3.10/dist-packages (from anthropic) (3.7.1)\n",
            "Requirement already satisfied: distro<2,>=1.7.0 in /usr/lib/python3/dist-packages (from anthropic) (1.7.0)\n",
            "Collecting httpx<1,>=0.23.0 (from anthropic)\n",
            "  Downloading httpx-0.27.0-py3-none-any.whl (75 kB)\n",
            "\u001b[2K     \u001b[90m━━━━━━━━━━━━━━━━━━━━━━━━━━━━━━━━━━━━━━━━\u001b[0m \u001b[32m75.6/75.6 kB\u001b[0m \u001b[31m10.1 MB/s\u001b[0m eta \u001b[36m0:00:00\u001b[0m\n",
            "\u001b[?25hRequirement already satisfied: pydantic<3,>=1.9.0 in /usr/local/lib/python3.10/dist-packages (from anthropic) (2.7.1)\n",
            "Requirement already satisfied: sniffio in /usr/local/lib/python3.10/dist-packages (from anthropic) (1.3.1)\n",
            "Requirement already satisfied: tokenizers>=0.13.0 in /usr/local/lib/python3.10/dist-packages (from anthropic) (0.19.1)\n",
            "Requirement already satisfied: typing-extensions<5,>=4.7 in /usr/local/lib/python3.10/dist-packages (from anthropic) (4.11.0)\n",
            "Requirement already satisfied: idna>=2.8 in /usr/local/lib/python3.10/dist-packages (from anyio<5,>=3.5.0->anthropic) (3.7)\n",
            "Requirement already satisfied: exceptiongroup in /usr/local/lib/python3.10/dist-packages (from anyio<5,>=3.5.0->anthropic) (1.2.1)\n",
            "Requirement already satisfied: certifi in /usr/local/lib/python3.10/dist-packages (from httpx<1,>=0.23.0->anthropic) (2024.2.2)\n",
            "Collecting httpcore==1.* (from httpx<1,>=0.23.0->anthropic)\n",
            "  Downloading httpcore-1.0.5-py3-none-any.whl (77 kB)\n",
            "\u001b[2K     \u001b[90m━━━━━━━━━━━━━━━━━━━━━━━━━━━━━━━━━━━━━━━━\u001b[0m \u001b[32m77.9/77.9 kB\u001b[0m \u001b[31m8.6 MB/s\u001b[0m eta \u001b[36m0:00:00\u001b[0m\n",
            "\u001b[?25hCollecting h11<0.15,>=0.13 (from httpcore==1.*->httpx<1,>=0.23.0->anthropic)\n",
            "  Downloading h11-0.14.0-py3-none-any.whl (58 kB)\n",
            "\u001b[2K     \u001b[90m━━━━━━━━━━━━━━━━━━━━━━━━━━━━━━━━━━━━━━━━\u001b[0m \u001b[32m58.3/58.3 kB\u001b[0m \u001b[31m6.8 MB/s\u001b[0m eta \u001b[36m0:00:00\u001b[0m\n",
            "\u001b[?25hRequirement already satisfied: annotated-types>=0.4.0 in /usr/local/lib/python3.10/dist-packages (from pydantic<3,>=1.9.0->anthropic) (0.6.0)\n",
            "Requirement already satisfied: pydantic-core==2.18.2 in /usr/local/lib/python3.10/dist-packages (from pydantic<3,>=1.9.0->anthropic) (2.18.2)\n",
            "Requirement already satisfied: huggingface-hub<1.0,>=0.16.4 in /usr/local/lib/python3.10/dist-packages (from tokenizers>=0.13.0->anthropic) (0.20.3)\n",
            "Requirement already satisfied: filelock in /usr/local/lib/python3.10/dist-packages (from huggingface-hub<1.0,>=0.16.4->tokenizers>=0.13.0->anthropic) (3.14.0)\n",
            "Requirement already satisfied: fsspec>=2023.5.0 in /usr/local/lib/python3.10/dist-packages (from huggingface-hub<1.0,>=0.16.4->tokenizers>=0.13.0->anthropic) (2023.6.0)\n",
            "Requirement already satisfied: requests in /usr/local/lib/python3.10/dist-packages (from huggingface-hub<1.0,>=0.16.4->tokenizers>=0.13.0->anthropic) (2.31.0)\n",
            "Requirement already satisfied: tqdm>=4.42.1 in /usr/local/lib/python3.10/dist-packages (from huggingface-hub<1.0,>=0.16.4->tokenizers>=0.13.0->anthropic) (4.66.4)\n",
            "Requirement already satisfied: pyyaml>=5.1 in /usr/local/lib/python3.10/dist-packages (from huggingface-hub<1.0,>=0.16.4->tokenizers>=0.13.0->anthropic) (6.0.1)\n",
            "Requirement already satisfied: packaging>=20.9 in /usr/local/lib/python3.10/dist-packages (from huggingface-hub<1.0,>=0.16.4->tokenizers>=0.13.0->anthropic) (24.0)\n",
            "Requirement already satisfied: charset-normalizer<4,>=2 in /usr/local/lib/python3.10/dist-packages (from requests->huggingface-hub<1.0,>=0.16.4->tokenizers>=0.13.0->anthropic) (3.3.2)\n",
            "Requirement already satisfied: urllib3<3,>=1.21.1 in /usr/local/lib/python3.10/dist-packages (from requests->huggingface-hub<1.0,>=0.16.4->tokenizers>=0.13.0->anthropic) (2.0.7)\n",
            "Installing collected packages: h11, httpcore, httpx, anthropic\n",
            "Successfully installed anthropic-0.26.0 h11-0.14.0 httpcore-1.0.5 httpx-0.27.0\n"
          ]
        }
      ]
    },
    {
      "cell_type": "code",
      "execution_count": 5,
      "metadata": {
        "id": "7Qjk2D63v1Bl"
      },
      "outputs": [],
      "source": [
        "# Importing Anthropic & Setting Headers\n",
        "import anthropic\n",
        "\n",
        "client = anthropic.Anthropic(\n",
        "    # defaults to os.environ.get(\"ANTHROPIC_API_KEY\")\n",
        "    api_key=os.environ.get(\"ANTHROPIC_API_KEY\"),\n",
        ")"
      ]
    },
    {
      "cell_type": "markdown",
      "source": [
        "# 1. Prompt 1: Create Mathematical Model"
      ],
      "metadata": {
        "id": "kT7yKbJs18XR"
      }
    },
    {
      "cell_type": "code",
      "source": [
        "message = client.messages.create(\n",
        "    model=\"claude-3-opus-20240229\",\n",
        "    system=prompt1,\n",
        "    max_tokens=4096,\n",
        "    messages=[\n",
        "        {\"role\": \"user\", \"content\": problem_desc}\n",
        "    ]\n",
        ")\n",
        "\n",
        "response_p1 = message.content[0].text"
      ],
      "metadata": {
        "id": "R_6X0axq16D4"
      },
      "execution_count": 6,
      "outputs": []
    },
    {
      "cell_type": "code",
      "source": [
        "# Print response\n",
        "print(response_p1)"
      ],
      "metadata": {
        "colab": {
          "base_uri": "https://localhost:8080/"
        },
        "id": "Ra9Ox_PI38jg",
        "outputId": "1844f406-15bb-4a4f-9261-6fabe977ce9d"
      },
      "execution_count": 7,
      "outputs": [
        {
          "output_type": "stream",
          "name": "stdout",
          "text": [
            "Thank you for providing the problem description. I will formulate this problem as a mathematical optimization model, including the necessary parameters, decision variables, objective function, and constraints.\n",
            "\n",
            "Parameters:\n",
            "- I: set of customers, indexed by i\n",
            "- J: set of potential facility locations, indexed by j\n",
            "- f_j: fixed annual activation cost for opening a facility at location j\n",
            "- c_ij: transportation cost for servicing customer i from facility j\n",
            "- d_i: annual demand of customer i\n",
            "- s_j: maximum annual service volume for a facility at location j\n",
            "\n",
            "Decision Variables:\n",
            "- x_ij: fraction of customer i's demand serviced by facility j (continuous variable, 0 ≤ x_ij ≤ 1)\n",
            "- y_j: binary variable indicating whether a facility is opened at location j (y_j = 1 if a facility is opened, 0 otherwise)\n",
            "\n",
            "Objective Function:\n",
            "Minimize the total cost, which includes the fixed activation costs for opened facilities and the transportation costs for servicing customers:\n",
            "\n",
            "minimize ∑_j f_j * y_j + ∑_i ∑_j c_ij * x_ij * d_i\n",
            "\n",
            "Constraints:\n",
            "1. Each customer's demand must be fully met:\n",
            "   ∑_j x_ij = 1, ∀i ∈ I\n",
            "\n",
            "2. The total demand serviced by each facility cannot exceed its maximum service volume:\n",
            "   ∑_i x_ij * d_i ≤ s_j * y_j, ∀j ∈ J\n",
            "\n",
            "3. Customers can only be serviced by opened facilities:\n",
            "   x_ij ≤ y_j, ∀i ∈ I, ∀j ∈ J\n",
            "\n",
            "4. Non-negativity and binary constraints:\n",
            "   0 ≤ x_ij ≤ 1, ∀i ∈ I, ∀j ∈ J\n",
            "   y_j ∈ {0, 1}, ∀j ∈ J\n",
            "\n",
            "This mathematical optimization model represents the problem of minimizing the total cost of opening facilities and servicing customers, subject to the given constraints. The objective function minimizes the sum of fixed activation costs and transportation costs. The constraints ensure that each customer's demand is met, facility service volumes are not exceeded, customers are only serviced by opened facilities, and the decision variables are properly defined.\n"
          ]
        }
      ]
    },
    {
      "cell_type": "markdown",
      "source": [
        "# 2. Prompt 2: Write Code based on Mathematical Model"
      ],
      "metadata": {
        "id": "WPZ6lgBO729j"
      }
    },
    {
      "cell_type": "code",
      "source": [
        "message2 = client.messages.create(\n",
        "    model=\"claude-3-opus-20240229\",\n",
        "    system=prompt2,\n",
        "    max_tokens=4069,\n",
        "    messages=[\n",
        "        {\"role\": \"user\", \"content\": response_p1}\n",
        "    ]\n",
        ")\n",
        "\n",
        "response_p2 = message2.content[0].text"
      ],
      "metadata": {
        "id": "1iUSgBda70FL"
      },
      "execution_count": 8,
      "outputs": []
    },
    {
      "cell_type": "code",
      "source": [
        "# Print response\n",
        "print(response_p2)"
      ],
      "metadata": {
        "colab": {
          "base_uri": "https://localhost:8080/"
        },
        "id": "o40mxc_H8eQ9",
        "outputId": "804a9398-1a1d-4df7-f296-7f53277f5dc1"
      },
      "execution_count": 9,
      "outputs": [
        {
          "output_type": "stream",
          "name": "stdout",
          "text": [
            "Here's a Python code using Pyomo to solve the facility location problem based on the provided mathematical formulation:\n",
            "\n",
            "```python\n",
            "import pyomo.environ as pyo\n",
            "\n",
            "# Define the model\n",
            "model = pyo.ConcreteModel()\n",
            "\n",
            "# Define the sets\n",
            "model.I = pyo.Set(initialize=['A', 'B', 'C', 'D', 'E'])  # Sample customer locations\n",
            "model.J = pyo.Set(initialize=['1', '2', '3'])  # Sample potential facility locations\n",
            "\n",
            "# Define the parameters\n",
            "model.f = pyo.Param(model.J, initialize={'1': 1000, '2': 1500, '3': 1200})  # Sample fixed costs\n",
            "model.c = pyo.Param(model.I, model.J, initialize={\n",
            "    ('A', '1'): 10, ('A', '2'): 12, ('A', '3'): 15,\n",
            "    ('B', '1'): 8, ('B', '2'): 14, ('B', '3'): 11,\n",
            "    ('C', '1'): 13, ('C', '2'): 9, ('C', '3'): 16,\n",
            "    ('D', '1'): 7, ('D', '2'): 11, ('D', '3'): 10,\n",
            "    ('E', '1'): 12, ('E', '2'): 10, ('E', '3'): 14\n",
            "})  # Sample transportation costs\n",
            "model.d = pyo.Param(model.I, initialize={'A': 100, 'B': 120, 'C': 80, 'D': 90, 'E': 110})  # Sample demands\n",
            "model.s = pyo.Param(model.J, initialize={'1': 300, '2': 350, '3': 400})  # Sample service volumes\n",
            "\n",
            "# Define the decision variables\n",
            "model.x = pyo.Var(model.I, model.J, bounds=(0, 1))  # Fraction of demand serviced\n",
            "model.y = pyo.Var(model.J, domain=pyo.Binary)  # Facility opening decision\n",
            "\n",
            "# Define the objective function\n",
            "model.obj = pyo.Objective(expr=sum(model.f[j] * model.y[j] for j in model.J) +\n",
            "                          sum(model.c[i, j] * model.x[i, j] * model.d[i] for i in model.I for j in model.J),\n",
            "                          sense=pyo.minimize)\n",
            "\n",
            "# Define the constraints\n",
            "model.demand_constraint = pyo.Constraint(model.I, rule=lambda model, i:\n",
            "                                         sum(model.x[i, j] for j in model.J) == 1)\n",
            "model.capacity_constraint = pyo.Constraint(model.J, rule=lambda model, j:\n",
            "                                           sum(model.x[i, j] * model.d[i] for i in model.I) <= model.s[j] * model.y[j])\n",
            "model.service_constraint = pyo.Constraint(model.I, model.J, rule=lambda model, i, j:\n",
            "                                          model.x[i, j] <= model.y[j])\n",
            "\n",
            "# Solve the model\n",
            "solver = pyo.SolverFactory('glpk')\n",
            "results = solver.solve(model)\n",
            "\n",
            "# Print the results\n",
            "print(\"Optimal Solution:\")\n",
            "print(\"Objective Value =\", pyo.value(model.obj))\n",
            "for j in model.J:\n",
            "    if pyo.value(model.y[j]) > 0.5:\n",
            "        print(f\"Facility {j} is opened\")\n",
            "        for i in model.I:\n",
            "            if pyo.value(model.x[i, j]) > 0:\n",
            "                print(f\"  Customer {i} is serviced by Facility {j} with {pyo.value(model.x[i, j]) * 100}% of demand\")\n",
            "```\n",
            "\n",
            "In this code, sample data is used for the following parameters:\n",
            "- `model.I`: Set of customers (A, B, C, D, E)\n",
            "- `model.J`: Set of potential facility locations (1, 2, 3)\n",
            "- `model.f`: Fixed annual activation costs for opening facilities\n",
            "- `model.c`: Transportation costs for servicing customers from facilities\n",
            "- `model.d`: Annual demands of customers\n",
            "- `model.s`: Maximum annual service volumes for facilities\n",
            "\n",
            "The code follows the mathematical formulation provided earlier. It defines the decision variables `x` and `y`, the objective function, and the necessary constraints. The model is solved using the GLPK solver, and the optimal solution is printed, indicating which facilities are opened and how customers are serviced by those facilities.\n",
            "\n",
            "Note: Make sure you have Pyomo and the GLPK solver installed to run this code.\n"
          ]
        }
      ]
    },
    {
      "cell_type": "markdown",
      "source": [
        "# 4. Input Problem Data and Test Model Code"
      ],
      "metadata": {
        "id": "Pc0QqJuf8up_"
      }
    },
    {
      "cell_type": "code",
      "source": [
        "# Installing pyomo nd solver\n",
        "!pip install -q pyomo\n",
        "!apt-get install -y -qq glpk-utils\n",
        "!pip install glpk"
      ],
      "metadata": {
        "colab": {
          "base_uri": "https://localhost:8080/"
        },
        "id": "3BtROuLu9O-p",
        "outputId": "32778b89-a2a9-4fa3-ae50-9614b1260cc8",
        "collapsed": true
      },
      "execution_count": 10,
      "outputs": [
        {
          "output_type": "stream",
          "name": "stdout",
          "text": [
            "\u001b[2K     \u001b[90m━━━━━━━━━━━━━━━━━━━━━━━━━━━━━━━━━━━━━━━━\u001b[0m \u001b[32m12.8/12.8 MB\u001b[0m \u001b[31m61.2 MB/s\u001b[0m eta \u001b[36m0:00:00\u001b[0m\n",
            "\u001b[2K     \u001b[90m━━━━━━━━━━━━━━━━━━━━━━━━━━━━━━━━━━━━━━━━\u001b[0m \u001b[32m49.6/49.6 kB\u001b[0m \u001b[31m3.9 MB/s\u001b[0m eta \u001b[36m0:00:00\u001b[0m\n",
            "\u001b[?25hSelecting previously unselected package libsuitesparseconfig5:amd64.\n",
            "(Reading database ... 121918 files and directories currently installed.)\n",
            "Preparing to unpack .../libsuitesparseconfig5_1%3a5.10.1+dfsg-4build1_amd64.deb ...\n",
            "Unpacking libsuitesparseconfig5:amd64 (1:5.10.1+dfsg-4build1) ...\n",
            "Selecting previously unselected package libamd2:amd64.\n",
            "Preparing to unpack .../libamd2_1%3a5.10.1+dfsg-4build1_amd64.deb ...\n",
            "Unpacking libamd2:amd64 (1:5.10.1+dfsg-4build1) ...\n",
            "Selecting previously unselected package libcolamd2:amd64.\n",
            "Preparing to unpack .../libcolamd2_1%3a5.10.1+dfsg-4build1_amd64.deb ...\n",
            "Unpacking libcolamd2:amd64 (1:5.10.1+dfsg-4build1) ...\n",
            "Selecting previously unselected package libglpk40:amd64.\n",
            "Preparing to unpack .../libglpk40_5.0-1_amd64.deb ...\n",
            "Unpacking libglpk40:amd64 (5.0-1) ...\n",
            "Selecting previously unselected package glpk-utils.\n",
            "Preparing to unpack .../glpk-utils_5.0-1_amd64.deb ...\n",
            "Unpacking glpk-utils (5.0-1) ...\n",
            "Setting up libsuitesparseconfig5:amd64 (1:5.10.1+dfsg-4build1) ...\n",
            "Setting up libamd2:amd64 (1:5.10.1+dfsg-4build1) ...\n",
            "Setting up libcolamd2:amd64 (1:5.10.1+dfsg-4build1) ...\n",
            "Setting up libglpk40:amd64 (5.0-1) ...\n",
            "Setting up glpk-utils (5.0-1) ...\n",
            "Processing triggers for man-db (2.10.2-1) ...\n",
            "Processing triggers for libc-bin (2.35-0ubuntu3.4) ...\n",
            "/sbin/ldconfig.real: /usr/local/lib/libtbb.so.12 is not a symbolic link\n",
            "\n",
            "/sbin/ldconfig.real: /usr/local/lib/libtbbbind.so.3 is not a symbolic link\n",
            "\n",
            "/sbin/ldconfig.real: /usr/local/lib/libtbbmalloc_proxy.so.2 is not a symbolic link\n",
            "\n",
            "/sbin/ldconfig.real: /usr/local/lib/libtbbmalloc.so.2 is not a symbolic link\n",
            "\n",
            "/sbin/ldconfig.real: /usr/local/lib/libtbbbind_2_5.so.3 is not a symbolic link\n",
            "\n",
            "/sbin/ldconfig.real: /usr/local/lib/libtbbbind_2_0.so.3 is not a symbolic link\n",
            "\n",
            "Collecting glpk\n",
            "  Downloading glpk-0.4.7.tar.gz (161 kB)\n",
            "\u001b[2K     \u001b[90m━━━━━━━━━━━━━━━━━━━━━━━━━━━━━━━━━━━━━━━━\u001b[0m \u001b[32m161.2/161.2 kB\u001b[0m \u001b[31m4.0 MB/s\u001b[0m eta \u001b[36m0:00:00\u001b[0m\n",
            "\u001b[?25h  Installing build dependencies ... \u001b[?25l\u001b[?25hdone\n",
            "  Getting requirements to build wheel ... \u001b[?25l\u001b[?25hdone\n",
            "  Preparing metadata (pyproject.toml) ... \u001b[?25l\u001b[?25hdone\n",
            "Building wheels for collected packages: glpk\n",
            "  \u001b[1;31merror\u001b[0m: \u001b[1msubprocess-exited-with-error\u001b[0m\n",
            "  \n",
            "  \u001b[31m×\u001b[0m \u001b[32mBuilding wheel for glpk \u001b[0m\u001b[1;32m(\u001b[0m\u001b[32mpyproject.toml\u001b[0m\u001b[1;32m)\u001b[0m did not run successfully.\n",
            "  \u001b[31m│\u001b[0m exit code: \u001b[1;36m1\u001b[0m\n",
            "  \u001b[31m╰─>\u001b[0m See above for output.\n",
            "  \n",
            "  \u001b[1;35mnote\u001b[0m: This error originates from a subprocess, and is likely not a problem with pip.\n",
            "  Building wheel for glpk (pyproject.toml) ... \u001b[?25l\u001b[?25herror\n",
            "\u001b[31m  ERROR: Failed building wheel for glpk\u001b[0m\u001b[31m\n",
            "\u001b[0mFailed to build glpk\n",
            "\u001b[31mERROR: Could not build wheels for glpk, which is required to install pyproject.toml-based projects\u001b[0m\u001b[31m\n",
            "\u001b[0m"
          ]
        }
      ]
    },
    {
      "cell_type": "code",
      "source": [
        "import pyomo.environ as pyo\n",
        "\n",
        "# Define the model\n",
        "model = pyo.ConcreteModel()\n",
        "\n",
        "# Define the sets\n",
        "model.I = pyo.Set(initialize=['A', 'B', 'C', 'D', 'E'])  # Sample customer locations\n",
        "model.J = pyo.Set(initialize=['1', '2', '3'])  # Sample potential facility locations\n",
        "\n",
        "# Define the parameters\n",
        "model.f = pyo.Param(model.J, initialize={'1': 1000, '2': 1000, '3': 1000})  # Sample fixed costs\n",
        "model.c = pyo.Param(model.I, model.J, initialize={\n",
        "    ('A', '1'): 4, ('A', '2'): 6, ('A', '3'): 9,\n",
        "    ('B', '1'): 5, ('B', '2'): 4, ('B', '3'): 7,\n",
        "    ('C', '1'): 6, ('C', '2'): 3, ('C', '3'): 4,\n",
        "    ('D', '1'): 8, ('D', '2'): 5, ('D', '3'): 3,\n",
        "    ('E', '1'): 10, ('E', '2'): 8, ('E', '3'): 4\n",
        "})  # Sample transportation costs\n",
        "model.d = pyo.Param(model.I, initialize={'A': 80, 'B': 270, 'C': 250, 'D': 160, 'E': 180})  # Sample demands\n",
        "model.s = pyo.Param(model.J, initialize={'1': 500, '2': 500, '3': 500})  # Sample service volumes\n",
        "\n",
        "# Define the decision variables\n",
        "model.x = pyo.Var(model.I, model.J, bounds=(0, 1))  # Fraction of demand serviced\n",
        "model.y = pyo.Var(model.J, domain=pyo.Binary)  # Facility opening decision\n",
        "\n",
        "# Define the objective function\n",
        "model.obj = pyo.Objective(expr=sum(model.f[j] * model.y[j] for j in model.J) +\n",
        "                          sum(model.c[i, j] * model.x[i, j] * model.d[i] for i in model.I for j in model.J),\n",
        "                          sense=pyo.minimize)\n",
        "\n",
        "# Define the constraints\n",
        "model.demand_constraint = pyo.Constraint(model.I, rule=lambda model, i:\n",
        "                                         sum(model.x[i, j] for j in model.J) == 1)\n",
        "model.capacity_constraint = pyo.Constraint(model.J, rule=lambda model, j:\n",
        "                                           sum(model.x[i, j] * model.d[i] for i in model.I) <= model.s[j] * model.y[j])\n",
        "model.service_constraint = pyo.Constraint(model.I, model.J, rule=lambda model, i, j:\n",
        "                                          model.x[i, j] <= model.y[j])\n",
        "\n",
        "# Solve the model\n",
        "solver = pyo.SolverFactory('glpk')\n",
        "results = solver.solve(model)\n",
        "\n",
        "# Print the results\n",
        "print(\"Optimal Solution:\")\n",
        "print(\"Objective Value =\", pyo.value(model.obj))\n",
        "for j in model.J:\n",
        "    if pyo.value(model.y[j]) > 0.5:\n",
        "        print(f\"Facility {j} is opened\")\n",
        "        for i in model.I:\n",
        "            if pyo.value(model.x[i, j]) > 0:\n",
        "                print(f\"  Customer {i} is serviced by Facility {j} with {pyo.value(model.x[i, j]) * 100}% of demand\")"
      ],
      "metadata": {
        "colab": {
          "base_uri": "https://localhost:8080/"
        },
        "id": "8FpHcuWU8rQ2",
        "outputId": "8160cdb6-32de-41ba-9898-7e42317f41cb"
      },
      "execution_count": 11,
      "outputs": [
        {
          "output_type": "stream",
          "name": "stdout",
          "text": [
            "Optimal Solution:\n",
            "Objective Value = 5609.999999999998\n",
            "Facility 2 is opened\n",
            "  Customer A is serviced by Facility 2 with 100.0% of demand\n",
            "  Customer B is serviced by Facility 2 with 99.9999999999999% of demand\n",
            "  Customer C is serviced by Facility 2 with 60.0% of demand\n",
            "Facility 3 is opened\n",
            "  Customer C is serviced by Facility 3 with 40.0% of demand\n",
            "  Customer D is serviced by Facility 3 with 100.0% of demand\n",
            "  Customer E is serviced by Facility 3 with 100.0% of demand\n"
          ]
        }
      ]
    },
    {
      "cell_type": "markdown",
      "source": [
        "# 5. Correct The Model Code to Test Mathematical Model (if applicable)"
      ],
      "metadata": {
        "id": "KHTyoLQTWZVy"
      }
    },
    {
      "cell_type": "code",
      "source": [],
      "metadata": {
        "id": "St1_C5TbCXcf"
      },
      "execution_count": null,
      "outputs": []
    },
    {
      "cell_type": "code",
      "source": [],
      "metadata": {
        "id": "A-Kq05sreCew"
      },
      "execution_count": null,
      "outputs": []
    }
  ]
}