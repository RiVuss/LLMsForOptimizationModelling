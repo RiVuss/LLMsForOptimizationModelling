{
  "nbformat": 4,
  "nbformat_minor": 0,
  "metadata": {
    "colab": {
      "provenance": []
    },
    "kernelspec": {
      "name": "python3",
      "display_name": "Python 3"
    },
    "language_info": {
      "name": "python"
    }
  },
  "cells": [
    {
      "cell_type": "markdown",
      "source": [
        "# 0. Imports and Setting up Anthropic API Client"
      ],
      "metadata": {
        "id": "y5fw0lkBwBbo"
      }
    },
    {
      "cell_type": "code",
      "source": [
        "from google.colab import drive\n",
        "\n",
        "drive.mount('/content/drive')"
      ],
      "metadata": {
        "colab": {
          "base_uri": "https://localhost:8080/",
          "height": 0
        },
        "id": "e7tWOLo0yMoH",
        "outputId": "61967f12-1028-4f7c-8fe6-46b60895e49a"
      },
      "execution_count": 1,
      "outputs": [
        {
          "output_type": "stream",
          "name": "stdout",
          "text": [
            "Mounted at /content/drive\n"
          ]
        }
      ]
    },
    {
      "cell_type": "code",
      "source": [
        "!pip install python-dotenv\n",
        "\n",
        "import os\n",
        "import dotenv\n",
        "\n",
        "dotenv.load_dotenv('/content/drive/MyDrive/.env')"
      ],
      "metadata": {
        "colab": {
          "base_uri": "https://localhost:8080/",
          "height": 0
        },
        "id": "utcEK8lZ1Z1R",
        "outputId": "b5825eae-2700-4481-fc9c-8798d8d52e29"
      },
      "execution_count": 2,
      "outputs": [
        {
          "output_type": "stream",
          "name": "stdout",
          "text": [
            "Collecting python-dotenv\n",
            "  Downloading python_dotenv-1.0.1-py3-none-any.whl (19 kB)\n",
            "Installing collected packages: python-dotenv\n",
            "Successfully installed python-dotenv-1.0.1\n"
          ]
        },
        {
          "output_type": "execute_result",
          "data": {
            "text/plain": [
              "True"
            ]
          },
          "metadata": {},
          "execution_count": 2
        }
      ]
    },
    {
      "cell_type": "code",
      "source": [
        "# Load Prompts and Problem Description\n",
        "prompt1_path = '/content/drive/MyDrive/Thesis/Prompts/Prompt1_MathematicalModel.txt'\n",
        "prompt2_path = '/content/drive/MyDrive/Thesis/Prompts/Prompt2_PyomoCode.txt'\n",
        "problem_desc_path = '/content/drive/MyDrive/Thesis/ProblemDescriptions/MIP/MIP3.txt'\n",
        "\n",
        "prompt1_file = open(prompt1_path, \"r\")\n",
        "prompt2_file = open(prompt2_path, \"r\")\n",
        "problem_desc_file = open(problem_desc_path, \"r\")\n",
        "\n",
        "prompt1 = prompt1_file.read()\n",
        "print(\"Prompt 1:\\n\", prompt1)\n",
        "\n",
        "prompt2 = prompt2_file.read()\n",
        "print(\"Prompt 2:\\n\", prompt2)\n",
        "\n",
        "problem_desc = problem_desc_file.read()\n",
        "print(\"Problem Description:\\n\", problem_desc)"
      ],
      "metadata": {
        "colab": {
          "base_uri": "https://localhost:8080/",
          "height": 0
        },
        "id": "9KlkjwMUS4xp",
        "outputId": "84ca17d1-0049-41bd-986a-fd262c728e25"
      },
      "execution_count": 3,
      "outputs": [
        {
          "output_type": "stream",
          "name": "stdout",
          "text": [
            "Prompt 1:\n",
            " Please write a mathematical optimization model for this problem. Include parameters, decision variables, the objective function and the constraints in your answer.\n",
            "Prompt 2:\n",
            " Please write a python pyomo code for this optimization problem.\n",
            "Use sample data where needed.\n",
            "Indicate where you use sample data.\n",
            "Problem Description:\n",
            " You are tasked with scheduling the power output of 6 electric power thermal units over the timespan of 15 periods. There is a constant startup cost of for each power unit that is applied if the power plant is turned on. The startup costs are 10324€, 5678€, 7802€, 12899€, 4596€ and 9076€ for powerplants 1 to 6, respectively. In addition, there is a constant shutdown cost for each power unit that is applied if the power plant is turned off. The shutdown costs are 2673€, 5893€, 982€, 6783€, 2596€ and 3561€ for powerplants 1 to 6, respectively. There is also a fixed and variable cost applied if the power plant is running. The fixed cost is constant and the variable cost is proportional to the output of a power plant. There are lower and upper bounds for the output power for each unit. The variable costs are different for each power plant and at each time step. Next, there are maximum power increments and decrements for each power plant that limit how much the output can change from one time period to the next. There is a total power demand that needs to be fulfilled by the power units. Finally, for security reasons, the total available power out should always be 10% higher than the demand. \n",
            "\n",
            "\n",
            "\n",
            " \n",
            "\n"
          ]
        }
      ]
    },
    {
      "cell_type": "code",
      "source": [
        "!pip install anthropic"
      ],
      "metadata": {
        "colab": {
          "base_uri": "https://localhost:8080/",
          "height": 0
        },
        "id": "iWlNsTIvxCcR",
        "outputId": "bcf73b70-93d9-4ec5-942f-77f97b96eea2",
        "collapsed": true
      },
      "execution_count": 4,
      "outputs": [
        {
          "output_type": "stream",
          "name": "stdout",
          "text": [
            "Collecting anthropic\n",
            "  Downloading anthropic-0.26.0-py3-none-any.whl (877 kB)\n",
            "\u001b[2K     \u001b[90m━━━━━━━━━━━━━━━━━━━━━━━━━━━━━━━━━━━━━━━━\u001b[0m \u001b[32m877.7/877.7 kB\u001b[0m \u001b[31m7.8 MB/s\u001b[0m eta \u001b[36m0:00:00\u001b[0m\n",
            "\u001b[?25hRequirement already satisfied: anyio<5,>=3.5.0 in /usr/local/lib/python3.10/dist-packages (from anthropic) (3.7.1)\n",
            "Requirement already satisfied: distro<2,>=1.7.0 in /usr/lib/python3/dist-packages (from anthropic) (1.7.0)\n",
            "Collecting httpx<1,>=0.23.0 (from anthropic)\n",
            "  Downloading httpx-0.27.0-py3-none-any.whl (75 kB)\n",
            "\u001b[2K     \u001b[90m━━━━━━━━━━━━━━━━━━━━━━━━━━━━━━━━━━━━━━━━\u001b[0m \u001b[32m75.6/75.6 kB\u001b[0m \u001b[31m5.0 MB/s\u001b[0m eta \u001b[36m0:00:00\u001b[0m\n",
            "\u001b[?25hRequirement already satisfied: pydantic<3,>=1.9.0 in /usr/local/lib/python3.10/dist-packages (from anthropic) (2.7.1)\n",
            "Requirement already satisfied: sniffio in /usr/local/lib/python3.10/dist-packages (from anthropic) (1.3.1)\n",
            "Requirement already satisfied: tokenizers>=0.13.0 in /usr/local/lib/python3.10/dist-packages (from anthropic) (0.19.1)\n",
            "Requirement already satisfied: typing-extensions<5,>=4.7 in /usr/local/lib/python3.10/dist-packages (from anthropic) (4.11.0)\n",
            "Requirement already satisfied: idna>=2.8 in /usr/local/lib/python3.10/dist-packages (from anyio<5,>=3.5.0->anthropic) (3.7)\n",
            "Requirement already satisfied: exceptiongroup in /usr/local/lib/python3.10/dist-packages (from anyio<5,>=3.5.0->anthropic) (1.2.1)\n",
            "Requirement already satisfied: certifi in /usr/local/lib/python3.10/dist-packages (from httpx<1,>=0.23.0->anthropic) (2024.2.2)\n",
            "Collecting httpcore==1.* (from httpx<1,>=0.23.0->anthropic)\n",
            "  Downloading httpcore-1.0.5-py3-none-any.whl (77 kB)\n",
            "\u001b[2K     \u001b[90m━━━━━━━━━━━━━━━━━━━━━━━━━━━━━━━━━━━━━━━━\u001b[0m \u001b[32m77.9/77.9 kB\u001b[0m \u001b[31m9.4 MB/s\u001b[0m eta \u001b[36m0:00:00\u001b[0m\n",
            "\u001b[?25hCollecting h11<0.15,>=0.13 (from httpcore==1.*->httpx<1,>=0.23.0->anthropic)\n",
            "  Downloading h11-0.14.0-py3-none-any.whl (58 kB)\n",
            "\u001b[2K     \u001b[90m━━━━━━━━━━━━━━━━━━━━━━━━━━━━━━━━━━━━━━━━\u001b[0m \u001b[32m58.3/58.3 kB\u001b[0m \u001b[31m7.1 MB/s\u001b[0m eta \u001b[36m0:00:00\u001b[0m\n",
            "\u001b[?25hRequirement already satisfied: annotated-types>=0.4.0 in /usr/local/lib/python3.10/dist-packages (from pydantic<3,>=1.9.0->anthropic) (0.6.0)\n",
            "Requirement already satisfied: pydantic-core==2.18.2 in /usr/local/lib/python3.10/dist-packages (from pydantic<3,>=1.9.0->anthropic) (2.18.2)\n",
            "Requirement already satisfied: huggingface-hub<1.0,>=0.16.4 in /usr/local/lib/python3.10/dist-packages (from tokenizers>=0.13.0->anthropic) (0.20.3)\n",
            "Requirement already satisfied: filelock in /usr/local/lib/python3.10/dist-packages (from huggingface-hub<1.0,>=0.16.4->tokenizers>=0.13.0->anthropic) (3.14.0)\n",
            "Requirement already satisfied: fsspec>=2023.5.0 in /usr/local/lib/python3.10/dist-packages (from huggingface-hub<1.0,>=0.16.4->tokenizers>=0.13.0->anthropic) (2023.6.0)\n",
            "Requirement already satisfied: requests in /usr/local/lib/python3.10/dist-packages (from huggingface-hub<1.0,>=0.16.4->tokenizers>=0.13.0->anthropic) (2.31.0)\n",
            "Requirement already satisfied: tqdm>=4.42.1 in /usr/local/lib/python3.10/dist-packages (from huggingface-hub<1.0,>=0.16.4->tokenizers>=0.13.0->anthropic) (4.66.4)\n",
            "Requirement already satisfied: pyyaml>=5.1 in /usr/local/lib/python3.10/dist-packages (from huggingface-hub<1.0,>=0.16.4->tokenizers>=0.13.0->anthropic) (6.0.1)\n",
            "Requirement already satisfied: packaging>=20.9 in /usr/local/lib/python3.10/dist-packages (from huggingface-hub<1.0,>=0.16.4->tokenizers>=0.13.0->anthropic) (24.0)\n",
            "Requirement already satisfied: charset-normalizer<4,>=2 in /usr/local/lib/python3.10/dist-packages (from requests->huggingface-hub<1.0,>=0.16.4->tokenizers>=0.13.0->anthropic) (3.3.2)\n",
            "Requirement already satisfied: urllib3<3,>=1.21.1 in /usr/local/lib/python3.10/dist-packages (from requests->huggingface-hub<1.0,>=0.16.4->tokenizers>=0.13.0->anthropic) (2.0.7)\n",
            "Installing collected packages: h11, httpcore, httpx, anthropic\n",
            "Successfully installed anthropic-0.26.0 h11-0.14.0 httpcore-1.0.5 httpx-0.27.0\n"
          ]
        }
      ]
    },
    {
      "cell_type": "code",
      "execution_count": 5,
      "metadata": {
        "id": "7Qjk2D63v1Bl"
      },
      "outputs": [],
      "source": [
        "# Importing Anthropic & Setting Headers\n",
        "import anthropic\n",
        "\n",
        "client = anthropic.Anthropic(\n",
        "    # defaults to os.environ.get(\"ANTHROPIC_API_KEY\")\n",
        "    api_key=os.environ.get(\"ANTHROPIC_API_KEY\"),\n",
        ")"
      ]
    },
    {
      "cell_type": "markdown",
      "source": [
        "# 1. Prompt 1: Create Mathematical Model"
      ],
      "metadata": {
        "id": "kT7yKbJs18XR"
      }
    },
    {
      "cell_type": "code",
      "source": [
        "message = client.messages.create(\n",
        "    model=\"claude-3-opus-20240229\",\n",
        "    system=prompt1,\n",
        "    max_tokens=4096,\n",
        "    messages=[\n",
        "        {\"role\": \"user\", \"content\": problem_desc}\n",
        "    ]\n",
        ")\n",
        "\n",
        "response_p1 = message.content[0].text"
      ],
      "metadata": {
        "id": "R_6X0axq16D4"
      },
      "execution_count": 6,
      "outputs": []
    },
    {
      "cell_type": "code",
      "source": [
        "# Print response\n",
        "print(response_p1)"
      ],
      "metadata": {
        "colab": {
          "base_uri": "https://localhost:8080/",
          "height": 0
        },
        "id": "Ra9Ox_PI38jg",
        "outputId": "2f080577-92b8-4d05-ee32-070f3c6ebae7"
      },
      "execution_count": 7,
      "outputs": [
        {
          "output_type": "stream",
          "name": "stdout",
          "text": [
            "Here's the mathematical optimization model for the given problem:\n",
            "\n",
            "Indices:\n",
            "i: power plant units (i = 1, 2, ..., 6)\n",
            "t: time periods (t = 1, 2, ..., 15)\n",
            "\n",
            "Parameters:\n",
            "SC_i: startup cost for power plant i\n",
            "SD_i: shutdown cost for power plant i\n",
            "FC_i: fixed cost for power plant i when running\n",
            "VC_i,t: variable cost for power plant i at time t\n",
            "P_min_i: minimum power output for power plant i\n",
            "P_max_i: maximum power output for power plant i\n",
            "R_up_i: maximum power increment for power plant i\n",
            "R_down_i: maximum power decrement for power plant i\n",
            "D_t: power demand at time t\n",
            "\n",
            "Decision Variables:\n",
            "x_i,t: power output of unit i at time t (continuous)\n",
            "u_i,t: binary variable indicating if unit i is running at time t\n",
            "v_i,t: binary variable indicating if unit i is started up at time t\n",
            "w_i,t: binary variable indicating if unit i is shut down at time t\n",
            "\n",
            "Objective Function:\n",
            "minimize ∑_i ∑_t (FC_i * u_i,t + VC_i,t * x_i,t + SC_i * v_i,t + SD_i * w_i,t)\n",
            "\n",
            "Constraints:\n",
            "1. Power balance constraint:\n",
            "   ∑_i x_i,t = 1.1 * D_t, ∀t\n",
            "\n",
            "2. Power output limits:\n",
            "   P_min_i * u_i,t ≤ x_i,t ≤ P_max_i * u_i,t, ∀i, ∀t\n",
            "\n",
            "3. Ramp up and ramp down constraints:\n",
            "   x_i,t - x_i,t-1 ≤ R_up_i * u_i,t-1 + P_max_i * v_i,t, ∀i, ∀t > 1\n",
            "   x_i,t-1 - x_i,t ≤ R_down_i * u_i,t + P_max_i * w_i,t, ∀i, ∀t > 1\n",
            "\n",
            "4. Logical constraints for startup and shutdown:\n",
            "   u_i,t - u_i,t-1 = v_i,t - w_i,t, ∀i, ∀t > 1\n",
            "   v_i,t + w_i,t ≤ 1, ∀i, ∀t\n",
            "\n",
            "5. Initial conditions:\n",
            "   u_i,1 - u_i,0 = v_i,1 - w_i,1, ∀i\n",
            "   u_i,0 given\n",
            "\n",
            "6. Binary constraints:\n",
            "   u_i,t, v_i,t, w_i,t ∈ {0, 1}, ∀i, ∀t\n",
            "\n",
            "The objective function minimizes the total cost, which includes fixed costs, variable costs, startup costs, and shutdown costs for all power plants over all time periods.\n",
            "\n",
            "The constraints ensure that:\n",
            "1. The total power output meets the demand plus a 10% security margin.\n",
            "2. The power output of each unit is within its minimum and maximum limits.\n",
            "3. The power output changes between consecutive time periods are within the ramp up and ramp down limits.\n",
            "4. The startup and shutdown variables are logically linked to the unit commitment variables.\n",
            "5. The initial conditions are met.\n",
            "6. The unit commitment, startup, and shutdown variables are binary.\n"
          ]
        }
      ]
    },
    {
      "cell_type": "markdown",
      "source": [
        "# 2. Prompt 2: Write Code based on Mathematical Model"
      ],
      "metadata": {
        "id": "WPZ6lgBO729j"
      }
    },
    {
      "cell_type": "code",
      "source": [
        "message2 = client.messages.create(\n",
        "    model=\"claude-3-opus-20240229\",\n",
        "    system=prompt2,\n",
        "    max_tokens=4069,\n",
        "    messages=[\n",
        "        {\"role\": \"user\", \"content\": response_p1}\n",
        "    ]\n",
        ")\n",
        "\n",
        "response_p2 = message2.content[0].text"
      ],
      "metadata": {
        "id": "1iUSgBda70FL"
      },
      "execution_count": 8,
      "outputs": []
    },
    {
      "cell_type": "code",
      "source": [
        "# Print response\n",
        "print(response_p2)"
      ],
      "metadata": {
        "colab": {
          "base_uri": "https://localhost:8080/",
          "height": 0
        },
        "id": "o40mxc_H8eQ9",
        "outputId": "83f309a9-c76e-4e68-ef67-5e6a3e0079b4"
      },
      "execution_count": 9,
      "outputs": [
        {
          "output_type": "stream",
          "name": "stdout",
          "text": [
            "Here's the Python code using Pyomo for the given optimization problem:\n",
            "\n",
            "```python\n",
            "import pyomo.environ as pyo\n",
            "\n",
            "# Sample data (replace with actual data)\n",
            "num_units = 6\n",
            "num_periods = 15\n",
            "\n",
            "# Sample parameter values (replace with actual values)\n",
            "SC = [100, 150, 200, 120, 180, 250]\n",
            "SD = [50, 60, 70, 80, 90, 100]\n",
            "FC = [1000, 1200, 1500, 1100, 1300, 1600]\n",
            "VC = [[10, 12, 14, 11, 13, 15] for _ in range(num_periods)]\n",
            "P_min = [50, 60, 70, 55, 65, 75]\n",
            "P_max = [200, 220, 240, 210, 230, 250]\n",
            "R_up = [30, 35, 40, 32, 37, 42]\n",
            "R_down = [25, 30, 35, 27, 32, 37]\n",
            "D = [500, 550, 600, 450, 520, 580, 510, 560, 610, 490, 530, 570, 540, 590, 630]\n",
            "initial_state = [1, 0, 1, 0, 1, 0]\n",
            "\n",
            "# Create the Pyomo model\n",
            "model = pyo.ConcreteModel()\n",
            "\n",
            "# Define sets\n",
            "model.units = pyo.RangeSet(1, num_units)\n",
            "model.periods = pyo.RangeSet(1, num_periods)\n",
            "\n",
            "# Define decision variables\n",
            "model.x = pyo.Var(model.units, model.periods, domain=pyo.NonNegativeReals)\n",
            "model.u = pyo.Var(model.units, model.periods, domain=pyo.Binary)\n",
            "model.v = pyo.Var(model.units, model.periods, domain=pyo.Binary)\n",
            "model.w = pyo.Var(model.units, model.periods, domain=pyo.Binary)\n",
            "\n",
            "# Define objective function\n",
            "def objective_rule(model):\n",
            "    return sum(FC[i-1] * model.u[i, t] + VC[t-1][i-1] * model.x[i, t] + SC[i-1] * model.v[i, t] + SD[i-1] * model.w[i, t]\n",
            "               for i in model.units for t in model.periods)\n",
            "model.objective = pyo.Objective(rule=objective_rule, sense=pyo.minimize)\n",
            "\n",
            "# Define constraints\n",
            "def power_balance_rule(model, t):\n",
            "    return sum(model.x[i, t] for i in model.units) == 1.1 * D[t-1]\n",
            "model.power_balance = pyo.Constraint(model.periods, rule=power_balance_rule)\n",
            "\n",
            "def power_output_limits_rule(model, i, t):\n",
            "    return (P_min[i-1] * model.u[i, t], model.x[i, t], P_max[i-1] * model.u[i, t])\n",
            "model.power_output_limits = pyo.Constraint(model.units, model.periods, rule=power_output_limits_rule)\n",
            "\n",
            "def ramp_up_rule(model, i, t):\n",
            "    if t > 1:\n",
            "        return model.x[i, t] - model.x[i, t-1] <= R_up[i-1] * model.u[i, t-1] + P_max[i-1] * model.v[i, t]\n",
            "    else:\n",
            "        return pyo.Constraint.Skip\n",
            "model.ramp_up = pyo.Constraint(model.units, model.periods, rule=ramp_up_rule)\n",
            "\n",
            "def ramp_down_rule(model, i, t):\n",
            "    if t > 1:\n",
            "        return model.x[i, t-1] - model.x[i, t] <= R_down[i-1] * model.u[i, t] + P_max[i-1] * model.w[i, t]\n",
            "    else:\n",
            "        return pyo.Constraint.Skip\n",
            "model.ramp_down = pyo.Constraint(model.units, model.periods, rule=ramp_down_rule)\n",
            "\n",
            "def logical_constraints_rule(model, i, t):\n",
            "    if t > 1:\n",
            "        return model.u[i, t] - model.u[i, t-1] == model.v[i, t] - model.w[i, t]\n",
            "    else:\n",
            "        return pyo.Constraint.Skip\n",
            "model.logical_constraints = pyo.Constraint(model.units, model.periods, rule=logical_constraints_rule)\n",
            "\n",
            "def startup_shutdown_rule(model, i, t):\n",
            "    return model.v[i, t] + model.w[i, t] <= 1\n",
            "model.startup_shutdown = pyo.Constraint(model.units, model.periods, rule=startup_shutdown_rule)\n",
            "\n",
            "def initial_conditions_rule(model, i):\n",
            "    return model.u[i, 1] - initial_state[i-1] == model.v[i, 1] - model.w[i, 1]\n",
            "model.initial_conditions = pyo.Constraint(model.units, rule=initial_conditions_rule)\n",
            "\n",
            "# Solve the optimization problem\n",
            "solver = pyo.SolverFactory('glpk')\n",
            "results = solver.solve(model)\n",
            "\n",
            "# Print the results\n",
            "print(\"Objective value:\", pyo.value(model.objective))\n",
            "for t in model.periods:\n",
            "    print(f\"Time period {t}:\")\n",
            "    for i in model.units:\n",
            "        print(f\"Unit {i}: Power output = {pyo.value(model.x[i, t])}, Status = {pyo.value(model.u[i, t])}\")\n",
            "```\n",
            "\n",
            "Note: In this code, I used sample data for the parameter values. Replace them with the actual data for your specific problem. The sample data is used for the following parameters:\n",
            "- `SC`, `SD`, `FC`: startup costs, shutdown costs, and fixed costs for each power plant\n",
            "- `VC`: variable costs for each power plant at each time period\n",
            "- `P_min`, `P_max`: minimum and maximum power output for each power plant\n",
            "- `R_up`, `R_down`: maximum power increment and decrement for each power plant\n",
            "- `D`: power demand at each time period\n",
            "- `initial_state`: initial status of each power plant (1 if running, 0 if not running)\n",
            "\n",
            "The code uses the Pyomo library to formulate and solve the optimization problem. The objective function, constraints, and decision variables are defined based on the mathematical model provided earlier. The `glpk` solver is used to solve the problem, but you can replace it with any other appropriate solver.\n",
            "\n",
            "After solving the problem, the code prints the objective value and the power output and status of each power plant at each time period.\n"
          ]
        }
      ]
    },
    {
      "cell_type": "markdown",
      "source": [
        "# 4. Input Problem Data and Test Model Code"
      ],
      "metadata": {
        "id": "Pc0QqJuf8up_"
      }
    },
    {
      "cell_type": "code",
      "source": [
        "# Installing pyomo nd solver\n",
        "!pip install -q pyomo\n",
        "!apt-get install -y -qq glpk-utils\n",
        "!pip install glpk\n",
        "!pip install pandas"
      ],
      "metadata": {
        "colab": {
          "base_uri": "https://localhost:8080/",
          "height": 0
        },
        "id": "3BtROuLu9O-p",
        "outputId": "95f0cfd7-04a5-430f-cf95-e57034c97ce7",
        "collapsed": true
      },
      "execution_count": 10,
      "outputs": [
        {
          "output_type": "stream",
          "name": "stdout",
          "text": [
            "\u001b[2K     \u001b[90m━━━━━━━━━━━━━━━━━━━━━━━━━━━━━━━━━━━━━━━━\u001b[0m \u001b[32m12.8/12.8 MB\u001b[0m \u001b[31m39.1 MB/s\u001b[0m eta \u001b[36m0:00:00\u001b[0m\n",
            "\u001b[2K     \u001b[90m━━━━━━━━━━━━━━━━━━━━━━━━━━━━━━━━━━━━━━━━\u001b[0m \u001b[32m49.6/49.6 kB\u001b[0m \u001b[31m5.7 MB/s\u001b[0m eta \u001b[36m0:00:00\u001b[0m\n",
            "\u001b[?25hSelecting previously unselected package libsuitesparseconfig5:amd64.\n",
            "(Reading database ... 121918 files and directories currently installed.)\n",
            "Preparing to unpack .../libsuitesparseconfig5_1%3a5.10.1+dfsg-4build1_amd64.deb ...\n",
            "Unpacking libsuitesparseconfig5:amd64 (1:5.10.1+dfsg-4build1) ...\n",
            "Selecting previously unselected package libamd2:amd64.\n",
            "Preparing to unpack .../libamd2_1%3a5.10.1+dfsg-4build1_amd64.deb ...\n",
            "Unpacking libamd2:amd64 (1:5.10.1+dfsg-4build1) ...\n",
            "Selecting previously unselected package libcolamd2:amd64.\n",
            "Preparing to unpack .../libcolamd2_1%3a5.10.1+dfsg-4build1_amd64.deb ...\n",
            "Unpacking libcolamd2:amd64 (1:5.10.1+dfsg-4build1) ...\n",
            "Selecting previously unselected package libglpk40:amd64.\n",
            "Preparing to unpack .../libglpk40_5.0-1_amd64.deb ...\n",
            "Unpacking libglpk40:amd64 (5.0-1) ...\n",
            "Selecting previously unselected package glpk-utils.\n",
            "Preparing to unpack .../glpk-utils_5.0-1_amd64.deb ...\n",
            "Unpacking glpk-utils (5.0-1) ...\n",
            "Setting up libsuitesparseconfig5:amd64 (1:5.10.1+dfsg-4build1) ...\n",
            "Setting up libamd2:amd64 (1:5.10.1+dfsg-4build1) ...\n",
            "Setting up libcolamd2:amd64 (1:5.10.1+dfsg-4build1) ...\n",
            "Setting up libglpk40:amd64 (5.0-1) ...\n",
            "Setting up glpk-utils (5.0-1) ...\n",
            "Processing triggers for man-db (2.10.2-1) ...\n",
            "Processing triggers for libc-bin (2.35-0ubuntu3.4) ...\n",
            "/sbin/ldconfig.real: /usr/local/lib/libtbbmalloc_proxy.so.2 is not a symbolic link\n",
            "\n",
            "/sbin/ldconfig.real: /usr/local/lib/libtbbbind_2_5.so.3 is not a symbolic link\n",
            "\n",
            "/sbin/ldconfig.real: /usr/local/lib/libtbbmalloc.so.2 is not a symbolic link\n",
            "\n",
            "/sbin/ldconfig.real: /usr/local/lib/libtbbbind.so.3 is not a symbolic link\n",
            "\n",
            "/sbin/ldconfig.real: /usr/local/lib/libtbbbind_2_0.so.3 is not a symbolic link\n",
            "\n",
            "/sbin/ldconfig.real: /usr/local/lib/libtbb.so.12 is not a symbolic link\n",
            "\n",
            "Collecting glpk\n",
            "  Downloading glpk-0.4.7.tar.gz (161 kB)\n",
            "\u001b[2K     \u001b[90m━━━━━━━━━━━━━━━━━━━━━━━━━━━━━━━━━━━━━━━━\u001b[0m \u001b[32m161.2/161.2 kB\u001b[0m \u001b[31m4.2 MB/s\u001b[0m eta \u001b[36m0:00:00\u001b[0m\n",
            "\u001b[?25h  Installing build dependencies ... \u001b[?25l\u001b[?25hdone\n",
            "  Getting requirements to build wheel ... \u001b[?25l\u001b[?25hdone\n",
            "  Preparing metadata (pyproject.toml) ... \u001b[?25l\u001b[?25hdone\n",
            "Building wheels for collected packages: glpk\n",
            "  \u001b[1;31merror\u001b[0m: \u001b[1msubprocess-exited-with-error\u001b[0m\n",
            "  \n",
            "  \u001b[31m×\u001b[0m \u001b[32mBuilding wheel for glpk \u001b[0m\u001b[1;32m(\u001b[0m\u001b[32mpyproject.toml\u001b[0m\u001b[1;32m)\u001b[0m did not run successfully.\n",
            "  \u001b[31m│\u001b[0m exit code: \u001b[1;36m1\u001b[0m\n",
            "  \u001b[31m╰─>\u001b[0m See above for output.\n",
            "  \n",
            "  \u001b[1;35mnote\u001b[0m: This error originates from a subprocess, and is likely not a problem with pip.\n",
            "  Building wheel for glpk (pyproject.toml) ... \u001b[?25l\u001b[?25herror\n",
            "\u001b[31m  ERROR: Failed building wheel for glpk\u001b[0m\u001b[31m\n",
            "\u001b[0mFailed to build glpk\n",
            "\u001b[31mERROR: Could not build wheels for glpk, which is required to install pyproject.toml-based projects\u001b[0m\u001b[31m\n",
            "\u001b[0mRequirement already satisfied: pandas in /usr/local/lib/python3.10/dist-packages (2.0.3)\n",
            "Requirement already satisfied: python-dateutil>=2.8.2 in /usr/local/lib/python3.10/dist-packages (from pandas) (2.8.2)\n",
            "Requirement already satisfied: pytz>=2020.1 in /usr/local/lib/python3.10/dist-packages (from pandas) (2023.4)\n",
            "Requirement already satisfied: tzdata>=2022.1 in /usr/local/lib/python3.10/dist-packages (from pandas) (2024.1)\n",
            "Requirement already satisfied: numpy>=1.21.0 in /usr/local/lib/python3.10/dist-packages (from pandas) (1.25.2)\n",
            "Requirement already satisfied: six>=1.5 in /usr/local/lib/python3.10/dist-packages (from python-dateutil>=2.8.2->pandas) (1.16.0)\n"
          ]
        }
      ]
    },
    {
      "cell_type": "code",
      "source": [
        "import pyomo.environ as pyo\n",
        "\n",
        "# Sample data (replace with actual data)\n",
        "num_units = 6\n",
        "num_periods = 15\n",
        "\n",
        "# Sample data (replace with actual data)\n",
        "SC = [10324, 5678, 7802, 12899, 4596, 9076]\n",
        "SD = [2673, 5893, 982, 6783, 2596, 3561]\n",
        "FC = [2000, 3000, 2500, 4000, 3500, 4500]\n",
        "VC = [[20, 15, 18, 25, 22, 30],\n",
        "      [22, 16, 19, 26, 23, 31],\n",
        "      [23, 17, 20, 27, 24, 32],\n",
        "      [24, 18, 21, 28, 25, 33],\n",
        "      [25, 19, 22, 29, 26, 34],\n",
        "      [26, 20, 23, 30, 27, 35],\n",
        "      [27, 21, 24, 31, 28, 36],\n",
        "      [28, 22, 25, 32, 29, 37],\n",
        "      [29, 23, 26, 33, 30, 38],\n",
        "      [30, 24, 27, 34, 31, 39],\n",
        "      [31, 25, 28, 35, 32, 40],\n",
        "      [32, 26, 29, 36, 33, 41],\n",
        "      [33, 27, 30, 37, 34, 42],\n",
        "      [34, 28, 31, 38, 35, 43],\n",
        "      [35, 29, 32, 39, 36, 44],\n",
        "      ]\n",
        "P_min = [50, 40, 30, 60, 55, 65]\n",
        "P_max = [500, 600, 550, 700, 650, 750]\n",
        "R_up = [100, 120, 110, 130, 125, 140]\n",
        "R_down = [90, 110, 100, 120, 115, 130]\n",
        "D = [1000, 1200, 1300, 1100, 1500, 1400, 1600, 1300, 1700, 1800, 1900, 1600, 2000, 1800, 1700]\n",
        "initial_state = [1, 1, 0, 0, 1, 0]\n",
        "\n",
        "# Create the Pyomo model\n",
        "model = pyo.ConcreteModel()\n",
        "\n",
        "# Define sets\n",
        "model.units = pyo.RangeSet(1, num_units)\n",
        "model.periods = pyo.RangeSet(1, num_periods)\n",
        "\n",
        "# Define decision variables\n",
        "model.x = pyo.Var(model.units, model.periods, domain=pyo.NonNegativeReals)\n",
        "model.u = pyo.Var(model.units, model.periods, domain=pyo.Binary)\n",
        "model.v = pyo.Var(model.units, model.periods, domain=pyo.Binary)\n",
        "model.w = pyo.Var(model.units, model.periods, domain=pyo.Binary)\n",
        "\n",
        "# Define objective function\n",
        "def objective_rule(model):\n",
        "    return sum(FC[i-1] * model.u[i, t] + VC[t-1][i-1] * model.x[i, t] + SC[i-1] * model.v[i, t] + SD[i-1] * model.w[i, t]\n",
        "               for i in model.units for t in model.periods)\n",
        "model.objective = pyo.Objective(rule=objective_rule, sense=pyo.minimize)\n",
        "\n",
        "# Define constraints\n",
        "def power_balance_rule(model, t):\n",
        "    return sum(model.x[i, t] for i in model.units) == 1.1 * D[t-1]\n",
        "model.power_balance = pyo.Constraint(model.periods, rule=power_balance_rule)\n",
        "\n",
        "def power_output_limits_rule(model, i, t):\n",
        "    return (P_min[i-1] * model.u[i, t], model.x[i, t], P_max[i-1] * model.u[i, t])\n",
        "model.power_output_limits = pyo.Constraint(model.units, model.periods, rule=power_output_limits_rule)\n",
        "\n",
        "def ramp_up_rule(model, i, t):\n",
        "    if t > 1:\n",
        "        return model.x[i, t] - model.x[i, t-1] <= R_up[i-1] * model.u[i, t-1] + P_max[i-1] * model.v[i, t]\n",
        "    else:\n",
        "        return pyo.Constraint.Skip\n",
        "model.ramp_up = pyo.Constraint(model.units, model.periods, rule=ramp_up_rule)\n",
        "\n",
        "def ramp_down_rule(model, i, t):\n",
        "    if t > 1:\n",
        "        return model.x[i, t-1] - model.x[i, t] <= R_down[i-1] * model.u[i, t] + P_max[i-1] * model.w[i, t]\n",
        "    else:\n",
        "        return pyo.Constraint.Skip\n",
        "model.ramp_down = pyo.Constraint(model.units, model.periods, rule=ramp_down_rule)\n",
        "\n",
        "def logical_constraints_rule(model, i, t):\n",
        "    if t > 1:\n",
        "        return model.u[i, t] - model.u[i, t-1] == model.v[i, t] - model.w[i, t]\n",
        "    else:\n",
        "        return pyo.Constraint.Skip\n",
        "model.logical_constraints = pyo.Constraint(model.units, model.periods, rule=logical_constraints_rule)\n",
        "\n",
        "def startup_shutdown_rule(model, i, t):\n",
        "    return model.v[i, t] + model.w[i, t] <= 1\n",
        "model.startup_shutdown = pyo.Constraint(model.units, model.periods, rule=startup_shutdown_rule)\n",
        "\n",
        "def initial_conditions_rule(model, i):\n",
        "    return model.u[i, 1] - initial_state[i-1] == model.v[i, 1] - model.w[i, 1]\n",
        "model.initial_conditions = pyo.Constraint(model.units, rule=initial_conditions_rule)\n",
        "\n",
        "# Solve the optimization problem\n",
        "solver = pyo.SolverFactory('glpk')\n",
        "results = solver.solve(model)\n",
        "\n",
        "# Print the results\n",
        "print(\"Objective value:\", pyo.value(model.objective))\n",
        "for t in model.periods:\n",
        "    print(f\"Time period {t}:\")\n",
        "    for i in model.units:\n",
        "        print(f\"Unit {i}: Power output = {pyo.value(model.x[i, t])}, Status = {pyo.value(model.u[i, t])}\")"
      ],
      "metadata": {
        "colab": {
          "base_uri": "https://localhost:8080/",
          "height": 356
        },
        "id": "8FpHcuWU8rQ2",
        "outputId": "9a2a944a-eef1-4460-d5dd-4bdbdf30849e"
      },
      "execution_count": 13,
      "outputs": [
        {
          "output_type": "error",
          "ename": "ValueError",
          "evalue": "Constraint 'power_output_limits[1,1]' is a Ranged Inequality with a variable lower bound.  Cannot normalize the constraint or send it to a solver.",
          "traceback": [
            "\u001b[0;31m---------------------------------------------------------------------------\u001b[0m",
            "\u001b[0;31mValueError\u001b[0m                                Traceback (most recent call last)",
            "\u001b[0;32m<ipython-input-13-efdff36c4994>\u001b[0m in \u001b[0;36m<cell line: 95>\u001b[0;34m()\u001b[0m\n\u001b[1;32m     93\u001b[0m \u001b[0;31m# Solve the optimization problem\u001b[0m\u001b[0;34m\u001b[0m\u001b[0;34m\u001b[0m\u001b[0m\n\u001b[1;32m     94\u001b[0m \u001b[0msolver\u001b[0m \u001b[0;34m=\u001b[0m \u001b[0mpyo\u001b[0m\u001b[0;34m.\u001b[0m\u001b[0mSolverFactory\u001b[0m\u001b[0;34m(\u001b[0m\u001b[0;34m'glpk'\u001b[0m\u001b[0;34m)\u001b[0m\u001b[0;34m\u001b[0m\u001b[0;34m\u001b[0m\u001b[0m\n\u001b[0;32m---> 95\u001b[0;31m \u001b[0mresults\u001b[0m \u001b[0;34m=\u001b[0m \u001b[0msolver\u001b[0m\u001b[0;34m.\u001b[0m\u001b[0msolve\u001b[0m\u001b[0;34m(\u001b[0m\u001b[0mmodel\u001b[0m\u001b[0;34m)\u001b[0m\u001b[0;34m\u001b[0m\u001b[0;34m\u001b[0m\u001b[0m\n\u001b[0m\u001b[1;32m     96\u001b[0m \u001b[0;34m\u001b[0m\u001b[0m\n\u001b[1;32m     97\u001b[0m \u001b[0;31m# Print the results\u001b[0m\u001b[0;34m\u001b[0m\u001b[0;34m\u001b[0m\u001b[0m\n",
            "\u001b[0;32m/usr/local/lib/python3.10/dist-packages/pyomo/opt/base/solvers.py\u001b[0m in \u001b[0;36msolve\u001b[0;34m(self, *args, **kwds)\u001b[0m\n\u001b[1;32m    596\u001b[0m             \u001b[0minitial_time\u001b[0m \u001b[0;34m=\u001b[0m \u001b[0mtime\u001b[0m\u001b[0;34m.\u001b[0m\u001b[0mtime\u001b[0m\u001b[0;34m(\u001b[0m\u001b[0;34m)\u001b[0m\u001b[0;34m\u001b[0m\u001b[0;34m\u001b[0m\u001b[0m\n\u001b[1;32m    597\u001b[0m \u001b[0;34m\u001b[0m\u001b[0m\n\u001b[0;32m--> 598\u001b[0;31m             \u001b[0mself\u001b[0m\u001b[0;34m.\u001b[0m\u001b[0m_presolve\u001b[0m\u001b[0;34m(\u001b[0m\u001b[0;34m*\u001b[0m\u001b[0margs\u001b[0m\u001b[0;34m,\u001b[0m \u001b[0;34m**\u001b[0m\u001b[0mkwds\u001b[0m\u001b[0;34m)\u001b[0m\u001b[0;34m\u001b[0m\u001b[0;34m\u001b[0m\u001b[0m\n\u001b[0m\u001b[1;32m    599\u001b[0m \u001b[0;34m\u001b[0m\u001b[0m\n\u001b[1;32m    600\u001b[0m             \u001b[0mpresolve_completion_time\u001b[0m \u001b[0;34m=\u001b[0m \u001b[0mtime\u001b[0m\u001b[0;34m.\u001b[0m\u001b[0mtime\u001b[0m\u001b[0;34m(\u001b[0m\u001b[0;34m)\u001b[0m\u001b[0;34m\u001b[0m\u001b[0;34m\u001b[0m\u001b[0m\n",
            "\u001b[0;32m/usr/local/lib/python3.10/dist-packages/pyomo/opt/solver/shellcmd.py\u001b[0m in \u001b[0;36m_presolve\u001b[0;34m(self, *args, **kwds)\u001b[0m\n\u001b[1;32m    221\u001b[0m         \u001b[0mself\u001b[0m\u001b[0;34m.\u001b[0m\u001b[0m_define_signal_handlers\u001b[0m \u001b[0;34m=\u001b[0m \u001b[0mkwds\u001b[0m\u001b[0;34m.\u001b[0m\u001b[0mpop\u001b[0m\u001b[0;34m(\u001b[0m\u001b[0;34m'use_signal_handling'\u001b[0m\u001b[0;34m,\u001b[0m \u001b[0;32mNone\u001b[0m\u001b[0;34m)\u001b[0m\u001b[0;34m\u001b[0m\u001b[0;34m\u001b[0m\u001b[0m\n\u001b[1;32m    222\u001b[0m \u001b[0;34m\u001b[0m\u001b[0m\n\u001b[0;32m--> 223\u001b[0;31m         \u001b[0mOptSolver\u001b[0m\u001b[0;34m.\u001b[0m\u001b[0m_presolve\u001b[0m\u001b[0;34m(\u001b[0m\u001b[0mself\u001b[0m\u001b[0;34m,\u001b[0m \u001b[0;34m*\u001b[0m\u001b[0margs\u001b[0m\u001b[0;34m,\u001b[0m \u001b[0;34m**\u001b[0m\u001b[0mkwds\u001b[0m\u001b[0;34m)\u001b[0m\u001b[0;34m\u001b[0m\u001b[0;34m\u001b[0m\u001b[0m\n\u001b[0m\u001b[1;32m    224\u001b[0m \u001b[0;34m\u001b[0m\u001b[0m\n\u001b[1;32m    225\u001b[0m         \u001b[0;31m#\u001b[0m\u001b[0;34m\u001b[0m\u001b[0;34m\u001b[0m\u001b[0m\n",
            "\u001b[0;32m/usr/local/lib/python3.10/dist-packages/pyomo/opt/base/solvers.py\u001b[0m in \u001b[0;36m_presolve\u001b[0;34m(self, *args, **kwds)\u001b[0m\n\u001b[1;32m    702\u001b[0m             \u001b[0mwrite_start_time\u001b[0m \u001b[0;34m=\u001b[0m \u001b[0mtime\u001b[0m\u001b[0;34m.\u001b[0m\u001b[0mtime\u001b[0m\u001b[0;34m(\u001b[0m\u001b[0;34m)\u001b[0m\u001b[0;34m\u001b[0m\u001b[0;34m\u001b[0m\u001b[0m\n\u001b[1;32m    703\u001b[0m             (self._problem_files, self._problem_format, self._smap_id) = (\n\u001b[0;32m--> 704\u001b[0;31m                 self._convert_problem(\n\u001b[0m\u001b[1;32m    705\u001b[0m                     \u001b[0margs\u001b[0m\u001b[0;34m,\u001b[0m \u001b[0mself\u001b[0m\u001b[0;34m.\u001b[0m\u001b[0m_problem_format\u001b[0m\u001b[0;34m,\u001b[0m \u001b[0mself\u001b[0m\u001b[0;34m.\u001b[0m\u001b[0m_valid_problem_formats\u001b[0m\u001b[0;34m,\u001b[0m \u001b[0;34m**\u001b[0m\u001b[0mkwds\u001b[0m\u001b[0;34m\u001b[0m\u001b[0;34m\u001b[0m\u001b[0m\n\u001b[1;32m    706\u001b[0m                 )\n",
            "\u001b[0;32m/usr/local/lib/python3.10/dist-packages/pyomo/opt/base/solvers.py\u001b[0m in \u001b[0;36m_convert_problem\u001b[0;34m(self, args, problem_format, valid_problem_formats, **kwds)\u001b[0m\n\u001b[1;32m    754\u001b[0m \u001b[0;34m\u001b[0m\u001b[0m\n\u001b[1;32m    755\u001b[0m     \u001b[0;32mdef\u001b[0m \u001b[0m_convert_problem\u001b[0m\u001b[0;34m(\u001b[0m\u001b[0mself\u001b[0m\u001b[0;34m,\u001b[0m \u001b[0margs\u001b[0m\u001b[0;34m,\u001b[0m \u001b[0mproblem_format\u001b[0m\u001b[0;34m,\u001b[0m \u001b[0mvalid_problem_formats\u001b[0m\u001b[0;34m,\u001b[0m \u001b[0;34m**\u001b[0m\u001b[0mkwds\u001b[0m\u001b[0;34m)\u001b[0m\u001b[0;34m:\u001b[0m\u001b[0;34m\u001b[0m\u001b[0;34m\u001b[0m\u001b[0m\n\u001b[0;32m--> 756\u001b[0;31m         return convert_problem(\n\u001b[0m\u001b[1;32m    757\u001b[0m             \u001b[0margs\u001b[0m\u001b[0;34m,\u001b[0m \u001b[0mproblem_format\u001b[0m\u001b[0;34m,\u001b[0m \u001b[0mvalid_problem_formats\u001b[0m\u001b[0;34m,\u001b[0m \u001b[0mself\u001b[0m\u001b[0;34m.\u001b[0m\u001b[0mhas_capability\u001b[0m\u001b[0;34m,\u001b[0m \u001b[0;34m**\u001b[0m\u001b[0mkwds\u001b[0m\u001b[0;34m\u001b[0m\u001b[0;34m\u001b[0m\u001b[0m\n\u001b[1;32m    758\u001b[0m         )\n",
            "\u001b[0;32m/usr/local/lib/python3.10/dist-packages/pyomo/opt/base/convert.py\u001b[0m in \u001b[0;36mconvert_problem\u001b[0;34m(args, target_problem_type, valid_problem_types, has_capability, **kwds)\u001b[0m\n\u001b[1;32m     95\u001b[0m                     \u001b[0mtmpkw\u001b[0m \u001b[0;34m=\u001b[0m \u001b[0mkwds\u001b[0m\u001b[0;34m\u001b[0m\u001b[0;34m\u001b[0m\u001b[0m\n\u001b[1;32m     96\u001b[0m                     \u001b[0mtmpkw\u001b[0m\u001b[0;34m[\u001b[0m\u001b[0;34m'capabilities'\u001b[0m\u001b[0;34m]\u001b[0m \u001b[0;34m=\u001b[0m \u001b[0mhas_capability\u001b[0m\u001b[0;34m\u001b[0m\u001b[0;34m\u001b[0m\u001b[0m\n\u001b[0;32m---> 97\u001b[0;31m                     \u001b[0mproblem_files\u001b[0m\u001b[0;34m,\u001b[0m \u001b[0msymbol_map\u001b[0m \u001b[0;34m=\u001b[0m \u001b[0mconverter\u001b[0m\u001b[0;34m.\u001b[0m\u001b[0mapply\u001b[0m\u001b[0;34m(\u001b[0m\u001b[0;34m*\u001b[0m\u001b[0mtmp\u001b[0m\u001b[0;34m,\u001b[0m \u001b[0;34m**\u001b[0m\u001b[0mtmpkw\u001b[0m\u001b[0;34m)\u001b[0m\u001b[0;34m\u001b[0m\u001b[0;34m\u001b[0m\u001b[0m\n\u001b[0m\u001b[1;32m     98\u001b[0m                     \u001b[0;32mreturn\u001b[0m \u001b[0mproblem_files\u001b[0m\u001b[0;34m,\u001b[0m \u001b[0mptype\u001b[0m\u001b[0;34m,\u001b[0m \u001b[0msymbol_map\u001b[0m\u001b[0;34m\u001b[0m\u001b[0;34m\u001b[0m\u001b[0m\n\u001b[1;32m     99\u001b[0m \u001b[0;34m\u001b[0m\u001b[0m\n",
            "\u001b[0;32m/usr/local/lib/python3.10/dist-packages/pyomo/solvers/plugins/converter/model.py\u001b[0m in \u001b[0;36mapply\u001b[0;34m(self, *args, **kwds)\u001b[0m\n\u001b[1;32m     76\u001b[0m                     )\n\u001b[1;32m     77\u001b[0m                 \u001b[0;32melse\u001b[0m\u001b[0;34m:\u001b[0m\u001b[0;34m\u001b[0m\u001b[0;34m\u001b[0m\u001b[0m\n\u001b[0;32m---> 78\u001b[0;31m                     (problem_filename, symbol_map_id) = instance.write(\n\u001b[0m\u001b[1;32m     79\u001b[0m                         \u001b[0mfilename\u001b[0m\u001b[0;34m=\u001b[0m\u001b[0mproblem_filename\u001b[0m\u001b[0;34m,\u001b[0m\u001b[0;34m\u001b[0m\u001b[0;34m\u001b[0m\u001b[0m\n\u001b[1;32m     80\u001b[0m                         \u001b[0mformat\u001b[0m\u001b[0;34m=\u001b[0m\u001b[0mProblemFormat\u001b[0m\u001b[0;34m.\u001b[0m\u001b[0mcpxlp\u001b[0m\u001b[0;34m,\u001b[0m\u001b[0;34m\u001b[0m\u001b[0;34m\u001b[0m\u001b[0m\n",
            "\u001b[0;32m/usr/local/lib/python3.10/dist-packages/pyomo/core/base/block.py\u001b[0m in \u001b[0;36mwrite\u001b[0;34m(self, filename, format, solver_capability, io_options, int_marker)\u001b[0m\n\u001b[1;32m   1925\u001b[0m                 \u001b[0;32mreturn\u001b[0m \u001b[0;32mTrue\u001b[0m\u001b[0;34m\u001b[0m\u001b[0;34m\u001b[0m\u001b[0m\n\u001b[1;32m   1926\u001b[0m \u001b[0;34m\u001b[0m\u001b[0m\n\u001b[0;32m-> 1927\u001b[0;31m         \u001b[0;34m(\u001b[0m\u001b[0mfilename\u001b[0m\u001b[0;34m,\u001b[0m \u001b[0msmap\u001b[0m\u001b[0;34m)\u001b[0m \u001b[0;34m=\u001b[0m \u001b[0mproblem_writer\u001b[0m\u001b[0;34m(\u001b[0m\u001b[0mself\u001b[0m\u001b[0;34m,\u001b[0m \u001b[0mfilename\u001b[0m\u001b[0;34m,\u001b[0m \u001b[0msolver_capability\u001b[0m\u001b[0;34m,\u001b[0m \u001b[0mio_options\u001b[0m\u001b[0;34m)\u001b[0m\u001b[0;34m\u001b[0m\u001b[0;34m\u001b[0m\u001b[0m\n\u001b[0m\u001b[1;32m   1928\u001b[0m         \u001b[0msmap_id\u001b[0m \u001b[0;34m=\u001b[0m \u001b[0mid\u001b[0m\u001b[0;34m(\u001b[0m\u001b[0msmap\u001b[0m\u001b[0;34m)\u001b[0m\u001b[0;34m\u001b[0m\u001b[0;34m\u001b[0m\u001b[0m\n\u001b[1;32m   1929\u001b[0m         \u001b[0;32mif\u001b[0m \u001b[0;32mnot\u001b[0m \u001b[0mhasattr\u001b[0m\u001b[0;34m(\u001b[0m\u001b[0mself\u001b[0m\u001b[0;34m,\u001b[0m \u001b[0;34m'solutions'\u001b[0m\u001b[0;34m)\u001b[0m\u001b[0;34m:\u001b[0m\u001b[0;34m\u001b[0m\u001b[0;34m\u001b[0m\u001b[0m\n",
            "\u001b[0;32m/usr/local/lib/python3.10/dist-packages/pyomo/repn/plugins/lp_writer.py\u001b[0m in \u001b[0;36m__call__\u001b[0;34m(self, model, filename, solver_capability, io_options)\u001b[0m\n\u001b[1;32m    206\u001b[0m \u001b[0;34m\u001b[0m\u001b[0m\n\u001b[1;32m    207\u001b[0m         \u001b[0;32mwith\u001b[0m \u001b[0mopen\u001b[0m\u001b[0;34m(\u001b[0m\u001b[0mfilename\u001b[0m\u001b[0;34m,\u001b[0m \u001b[0;34m'w'\u001b[0m\u001b[0;34m,\u001b[0m \u001b[0mnewline\u001b[0m\u001b[0;34m=\u001b[0m\u001b[0;34m''\u001b[0m\u001b[0;34m)\u001b[0m \u001b[0;32mas\u001b[0m \u001b[0mFILE\u001b[0m\u001b[0;34m:\u001b[0m\u001b[0;34m\u001b[0m\u001b[0;34m\u001b[0m\u001b[0m\n\u001b[0;32m--> 208\u001b[0;31m             \u001b[0minfo\u001b[0m \u001b[0;34m=\u001b[0m \u001b[0mself\u001b[0m\u001b[0;34m.\u001b[0m\u001b[0mwrite\u001b[0m\u001b[0;34m(\u001b[0m\u001b[0mmodel\u001b[0m\u001b[0;34m,\u001b[0m \u001b[0mFILE\u001b[0m\u001b[0;34m,\u001b[0m \u001b[0;34m**\u001b[0m\u001b[0mio_options\u001b[0m\u001b[0;34m)\u001b[0m\u001b[0;34m\u001b[0m\u001b[0;34m\u001b[0m\u001b[0m\n\u001b[0m\u001b[1;32m    209\u001b[0m         \u001b[0;32mreturn\u001b[0m \u001b[0mfilename\u001b[0m\u001b[0;34m,\u001b[0m \u001b[0minfo\u001b[0m\u001b[0;34m.\u001b[0m\u001b[0msymbol_map\u001b[0m\u001b[0;34m\u001b[0m\u001b[0;34m\u001b[0m\u001b[0m\n\u001b[1;32m    210\u001b[0m \u001b[0;34m\u001b[0m\u001b[0m\n",
            "\u001b[0;32m/usr/local/lib/python3.10/dist-packages/pyomo/repn/plugins/lp_writer.py\u001b[0m in \u001b[0;36mwrite\u001b[0;34m(self, model, ostream, **options)\u001b[0m\n\u001b[1;32m    239\u001b[0m         \u001b[0;31m# small objects.\u001b[0m\u001b[0;34m\u001b[0m\u001b[0;34m\u001b[0m\u001b[0m\n\u001b[1;32m    240\u001b[0m         \u001b[0;32mwith\u001b[0m \u001b[0mPauseGC\u001b[0m\u001b[0;34m(\u001b[0m\u001b[0;34m)\u001b[0m\u001b[0;34m:\u001b[0m\u001b[0;34m\u001b[0m\u001b[0;34m\u001b[0m\u001b[0m\n\u001b[0;32m--> 241\u001b[0;31m             \u001b[0;32mreturn\u001b[0m \u001b[0m_LPWriter_impl\u001b[0m\u001b[0;34m(\u001b[0m\u001b[0mostream\u001b[0m\u001b[0;34m,\u001b[0m \u001b[0mconfig\u001b[0m\u001b[0;34m)\u001b[0m\u001b[0;34m.\u001b[0m\u001b[0mwrite\u001b[0m\u001b[0;34m(\u001b[0m\u001b[0mmodel\u001b[0m\u001b[0;34m)\u001b[0m\u001b[0;34m\u001b[0m\u001b[0;34m\u001b[0m\u001b[0m\n\u001b[0m\u001b[1;32m    242\u001b[0m \u001b[0;34m\u001b[0m\u001b[0m\n\u001b[1;32m    243\u001b[0m \u001b[0;34m\u001b[0m\u001b[0m\n",
            "\u001b[0;32m/usr/local/lib/python3.10/dist-packages/pyomo/repn/plugins/lp_writer.py\u001b[0m in \u001b[0;36mwrite\u001b[0;34m(self, model)\u001b[0m\n\u001b[1;32m    411\u001b[0m             \u001b[0;31m# Note: Constraint.lb/ub guarantee a return value that is\u001b[0m\u001b[0;34m\u001b[0m\u001b[0;34m\u001b[0m\u001b[0m\n\u001b[1;32m    412\u001b[0m             \u001b[0;31m# either a (finite) native_numeric_type, or None\u001b[0m\u001b[0;34m\u001b[0m\u001b[0;34m\u001b[0m\u001b[0m\n\u001b[0;32m--> 413\u001b[0;31m             \u001b[0mlb\u001b[0m \u001b[0;34m=\u001b[0m \u001b[0mcon\u001b[0m\u001b[0;34m.\u001b[0m\u001b[0mlb\u001b[0m\u001b[0;34m\u001b[0m\u001b[0;34m\u001b[0m\u001b[0m\n\u001b[0m\u001b[1;32m    414\u001b[0m             \u001b[0mub\u001b[0m \u001b[0;34m=\u001b[0m \u001b[0mcon\u001b[0m\u001b[0;34m.\u001b[0m\u001b[0mub\u001b[0m\u001b[0;34m\u001b[0m\u001b[0;34m\u001b[0m\u001b[0m\n\u001b[1;32m    415\u001b[0m \u001b[0;34m\u001b[0m\u001b[0m\n",
            "\u001b[0;32m/usr/local/lib/python3.10/dist-packages/pyomo/core/base/constraint.py\u001b[0m in \u001b[0;36mlb\u001b[0;34m(self)\u001b[0m\n\u001b[1;32m    244\u001b[0m     \u001b[0;32mdef\u001b[0m \u001b[0mlb\u001b[0m\u001b[0;34m(\u001b[0m\u001b[0mself\u001b[0m\u001b[0;34m)\u001b[0m\u001b[0;34m:\u001b[0m\u001b[0;34m\u001b[0m\u001b[0;34m\u001b[0m\u001b[0m\n\u001b[1;32m    245\u001b[0m         \u001b[0;34m\"\"\"Access the value of the lower bound of a constraint expression.\"\"\"\u001b[0m\u001b[0;34m\u001b[0m\u001b[0;34m\u001b[0m\u001b[0m\n\u001b[0;32m--> 246\u001b[0;31m         \u001b[0mbound\u001b[0m \u001b[0;34m=\u001b[0m \u001b[0mself\u001b[0m\u001b[0;34m.\u001b[0m\u001b[0m_lower\u001b[0m \u001b[0;32mif\u001b[0m \u001b[0mself\u001b[0m\u001b[0;34m.\u001b[0m\u001b[0m_body\u001b[0m \u001b[0;32mis\u001b[0m \u001b[0;32mnot\u001b[0m \u001b[0;32mNone\u001b[0m \u001b[0;32melse\u001b[0m \u001b[0mself\u001b[0m\u001b[0;34m.\u001b[0m\u001b[0m_get_range_bound\u001b[0m\u001b[0;34m(\u001b[0m\u001b[0;36m0\u001b[0m\u001b[0;34m)\u001b[0m\u001b[0;34m\u001b[0m\u001b[0;34m\u001b[0m\u001b[0m\n\u001b[0m\u001b[1;32m    247\u001b[0m         \u001b[0;32mif\u001b[0m \u001b[0mbound\u001b[0m\u001b[0;34m.\u001b[0m\u001b[0m__class__\u001b[0m \u001b[0;32mnot\u001b[0m \u001b[0;32min\u001b[0m \u001b[0mnative_numeric_types\u001b[0m\u001b[0;34m:\u001b[0m\u001b[0;34m\u001b[0m\u001b[0;34m\u001b[0m\u001b[0m\n\u001b[1;32m    248\u001b[0m             \u001b[0;32mif\u001b[0m \u001b[0mbound\u001b[0m \u001b[0;32mis\u001b[0m \u001b[0;32mNone\u001b[0m\u001b[0;34m:\u001b[0m\u001b[0;34m\u001b[0m\u001b[0;34m\u001b[0m\u001b[0m\n",
            "\u001b[0;32m/usr/local/lib/python3.10/dist-packages/pyomo/core/base/constraint.py\u001b[0m in \u001b[0;36m_get_range_bound\u001b[0;34m(self, range_arg)\u001b[0m\n\u001b[1;32m    205\u001b[0m         \u001b[0mbound\u001b[0m \u001b[0;34m=\u001b[0m \u001b[0mself\u001b[0m\u001b[0;34m.\u001b[0m\u001b[0m_expr\u001b[0m\u001b[0;34m.\u001b[0m\u001b[0marg\u001b[0m\u001b[0;34m(\u001b[0m\u001b[0mrange_arg\u001b[0m\u001b[0;34m)\u001b[0m\u001b[0;34m\u001b[0m\u001b[0;34m\u001b[0m\u001b[0m\n\u001b[1;32m    206\u001b[0m         \u001b[0;32mif\u001b[0m \u001b[0;32mnot\u001b[0m \u001b[0mis_fixed\u001b[0m\u001b[0;34m(\u001b[0m\u001b[0mbound\u001b[0m\u001b[0;34m)\u001b[0m\u001b[0;34m:\u001b[0m\u001b[0;34m\u001b[0m\u001b[0;34m\u001b[0m\u001b[0m\n\u001b[0;32m--> 207\u001b[0;31m             raise ValueError(\n\u001b[0m\u001b[1;32m    208\u001b[0m                 \u001b[0;34m\"Constraint '%s' is a Ranged Inequality with a \"\u001b[0m\u001b[0;34m\u001b[0m\u001b[0;34m\u001b[0m\u001b[0m\n\u001b[1;32m    209\u001b[0m                 \u001b[0;34m\"variable %s bound.  Cannot normalize the \"\u001b[0m\u001b[0;34m\u001b[0m\u001b[0;34m\u001b[0m\u001b[0m\n",
            "\u001b[0;31mValueError\u001b[0m: Constraint 'power_output_limits[1,1]' is a Ranged Inequality with a variable lower bound.  Cannot normalize the constraint or send it to a solver."
          ]
        }
      ]
    },
    {
      "cell_type": "markdown",
      "source": [
        "# 5. Correct The Model Code to Test Mathematical Model (if applicable)"
      ],
      "metadata": {
        "id": "KHTyoLQTWZVy"
      }
    },
    {
      "cell_type": "code",
      "source": [
        "import pyomo.environ as pyo\n",
        "\n",
        "# Sample data (replace with actual data)\n",
        "num_units = 6\n",
        "num_periods = 15\n",
        "\n",
        "# Sample data (replace with actual data)\n",
        "N = 6\n",
        "T = 15\n",
        "SC = [10324, 5678, 7802, 12899, 4596, 9076]\n",
        "SD = [2673, 5893, 982, 6783, 2596, 3561]\n",
        "FC = [2000, 3000, 2500, 4000, 3500, 4500]\n",
        "VC = [[20, 15, 18, 25, 22, 30],\n",
        "      [22, 16, 19, 26, 23, 31],\n",
        "      [23, 17, 20, 27, 24, 32],\n",
        "      [24, 18, 21, 28, 25, 33],\n",
        "      [25, 19, 22, 29, 26, 34],\n",
        "      [26, 20, 23, 30, 27, 35],\n",
        "      [27, 21, 24, 31, 28, 36],\n",
        "      [28, 22, 25, 32, 29, 37],\n",
        "      [29, 23, 26, 33, 30, 38],\n",
        "      [30, 24, 27, 34, 31, 39],\n",
        "      [31, 25, 28, 35, 32, 40],\n",
        "      [32, 26, 29, 36, 33, 41],\n",
        "      [33, 27, 30, 37, 34, 42],\n",
        "      [34, 28, 31, 38, 35, 43],\n",
        "      [35, 29, 32, 39, 36, 44],\n",
        "      ]\n",
        "P_min = [50, 40, 30, 60, 55, 65]\n",
        "P_max = [500, 600, 550, 700, 650, 750]\n",
        "R_up = [100, 120, 110, 130, 125, 140]\n",
        "R_down = [90, 110, 100, 120, 115, 130]\n",
        "D = [1000, 1200, 1300, 1100, 1500, 1400, 1600, 1300, 1700, 1800, 1900, 1600, 2000, 1800, 1700]\n",
        "initial_state = [1, 1, 0, 0, 1, 0]\n",
        "\n",
        "# Create the Pyomo model\n",
        "model = pyo.ConcreteModel()\n",
        "\n",
        "# Define sets\n",
        "model.units = pyo.RangeSet(1, num_units)\n",
        "model.periods = pyo.RangeSet(1, num_periods)\n",
        "\n",
        "# Define decision variables\n",
        "model.x = pyo.Var(model.units, model.periods, domain=pyo.NonNegativeReals)\n",
        "model.u = pyo.Var(model.units, model.periods, domain=pyo.Binary)\n",
        "model.v = pyo.Var(model.units, model.periods, domain=pyo.Binary)\n",
        "model.w = pyo.Var(model.units, model.periods, domain=pyo.Binary)\n",
        "\n",
        "# Define objective function\n",
        "def objective_rule(model):\n",
        "    return sum(FC[i-1] * model.u[i, t] + VC[t-1][i-1] * model.x[i, t] + SC[i-1] * model.v[i, t] + SD[i-1] * model.w[i, t]\n",
        "               for i in model.units for t in model.periods)\n",
        "model.objective = pyo.Objective(rule=objective_rule, sense=pyo.minimize)\n",
        "\n",
        "# Define constraints\n",
        "def power_balance_rule(model, t):\n",
        "    return sum(model.x[i, t] for i in model.units) == 1.1 * D[t-1]\n",
        "model.power_balance = pyo.Constraint(model.periods, rule=power_balance_rule)\n",
        "\n",
        "def power_output_limits_rule_lower(model, i, t): # MODIFIED THE CONSTRAINT FOR PROPER SYNTAX\n",
        "    return P_min[i-1] * model.u[i, t] <= model.x[i, t]\n",
        "model.power_output_limits_lower = pyo.Constraint(model.units, model.periods, rule=power_output_limits_rule_lower)\n",
        "\n",
        "def power_output_limits_rule_upper(model, i, t): # MODIFIED THE CONSTRAINT FOR PROPER SYNTAX\n",
        "    return model.x[i, t] <= P_max[i-1] * model.u[i, t]\n",
        "model.power_output_limits_upper = pyo.Constraint(model.units, model.periods, rule=power_output_limits_rule_upper)\n",
        "\n",
        "def ramp_up_rule(model, i, t):\n",
        "    if t > 1:\n",
        "        return model.x[i, t] - model.x[i, t-1] <= R_up[i-1] * model.u[i, t-1] + P_max[i-1] * model.v[i, t]\n",
        "    else:\n",
        "        return pyo.Constraint.Skip\n",
        "model.ramp_up = pyo.Constraint(model.units, model.periods, rule=ramp_up_rule)\n",
        "\n",
        "def ramp_down_rule(model, i, t):\n",
        "    if t > 1:\n",
        "        return model.x[i, t-1] - model.x[i, t] <= R_down[i-1] * model.u[i, t] + P_max[i-1] * model.w[i, t]\n",
        "    else:\n",
        "        return pyo.Constraint.Skip\n",
        "model.ramp_down = pyo.Constraint(model.units, model.periods, rule=ramp_down_rule)\n",
        "\n",
        "def logical_constraints_rule(model, i, t):\n",
        "    if t > 1:\n",
        "        return model.u[i, t] - model.u[i, t-1] == model.v[i, t] - model.w[i, t]\n",
        "    else:\n",
        "        return pyo.Constraint.Skip\n",
        "model.logical_constraints = pyo.Constraint(model.units, model.periods, rule=logical_constraints_rule)\n",
        "\n",
        "def startup_shutdown_rule(model, i, t):\n",
        "    return model.v[i, t] + model.w[i, t] <= 1\n",
        "model.startup_shutdown = pyo.Constraint(model.units, model.periods, rule=startup_shutdown_rule)\n",
        "\n",
        "def initial_conditions_rule(model, i):\n",
        "    return model.u[i, 1] - initial_state[i-1] == model.v[i, 1] - model.w[i, 1]\n",
        "model.initial_conditions = pyo.Constraint(model.units, rule=initial_conditions_rule)\n",
        "\n",
        "# Solve the optimization problem\n",
        "solver = pyo.SolverFactory('glpk')\n",
        "results = solver.solve(model)\n",
        "\n",
        "# Print the results\n",
        "print(\"Objective value:\", pyo.value(model.objective))\n",
        "for t in model.periods:\n",
        "    print(f\"Time period {t}:\")\n",
        "    for i in model.units:\n",
        "        print(f\"Unit {i}: Power output = {pyo.value(model.x[i, t])}, Status = {pyo.value(model.u[i, t])}\")"
      ],
      "metadata": {
        "id": "A-Kq05sreCew",
        "colab": {
          "base_uri": "https://localhost:8080/",
          "height": 0
        },
        "outputId": "d60010d7-ca57-4da4-98e3-8d55e5085615"
      },
      "execution_count": 14,
      "outputs": [
        {
          "output_type": "stream",
          "name": "stdout",
          "text": [
            "Objective value: 815984.0\n",
            "Time period 1:\n",
            "Unit 1: Power output = 500.0, Status = 1.0\n",
            "Unit 2: Power output = 600.0, Status = 1.0\n",
            "Unit 3: Power output = 0.0, Status = 0.0\n",
            "Unit 4: Power output = 0.0, Status = 0.0\n",
            "Unit 5: Power output = 0.0, Status = 0.0\n",
            "Unit 6: Power output = 0.0, Status = 0.0\n",
            "Time period 2:\n",
            "Unit 1: Power output = 410.0, Status = 1.0\n",
            "Unit 2: Power output = 510.0, Status = 1.0\n",
            "Unit 3: Power output = 400.0, Status = 1.0\n",
            "Unit 4: Power output = 0.0, Status = 0.0\n",
            "Unit 5: Power output = 0.0, Status = 0.0\n",
            "Unit 6: Power output = 0.0, Status = 0.0\n",
            "Time period 3:\n",
            "Unit 1: Power output = 320.0, Status = 1.0\n",
            "Unit 2: Power output = 600.0, Status = 1.0\n",
            "Unit 3: Power output = 510.0, Status = 1.0\n",
            "Unit 4: Power output = 0.0, Status = 0.0\n",
            "Unit 5: Power output = 0.0, Status = 0.0\n",
            "Unit 6: Power output = 0.0, Status = 0.0\n",
            "Time period 4:\n",
            "Unit 1: Power output = 230.0, Status = 1.0\n",
            "Unit 2: Power output = 540.0, Status = 1.0\n",
            "Unit 3: Power output = 440.0, Status = 1.0\n",
            "Unit 4: Power output = 0.0, Status = 0.0\n",
            "Unit 5: Power output = 0.0, Status = 0.0\n",
            "Unit 6: Power output = 0.0, Status = 0.0\n",
            "Time period 5:\n",
            "Unit 1: Power output = 330.0, Status = 1.0\n",
            "Unit 2: Power output = 600.0, Status = 1.0\n",
            "Unit 3: Power output = 550.0, Status = 1.0\n",
            "Unit 4: Power output = 0.0, Status = 0.0\n",
            "Unit 5: Power output = 170.0, Status = 1.0\n",
            "Unit 6: Power output = 0.0, Status = 0.0\n",
            "Time period 6:\n",
            "Unit 1: Power output = 335.0, Status = 1.0\n",
            "Unit 2: Power output = 600.0, Status = 1.0\n",
            "Unit 3: Power output = 550.0, Status = 1.0\n",
            "Unit 4: Power output = 0.0, Status = 0.0\n",
            "Unit 5: Power output = 55.0000000000002, Status = 1.0\n",
            "Unit 6: Power output = 0.0, Status = 0.0\n",
            "Time period 7:\n",
            "Unit 1: Power output = 435.0, Status = 1.0\n",
            "Unit 2: Power output = 600.0, Status = 1.0\n",
            "Unit 3: Power output = 545.0, Status = 1.0\n",
            "Unit 4: Power output = 0.0, Status = 0.0\n",
            "Unit 5: Power output = 180.0, Status = 1.0\n",
            "Unit 6: Power output = 0.0, Status = 0.0\n",
            "Time period 8:\n",
            "Unit 1: Power output = 400.0, Status = 1.0\n",
            "Unit 2: Power output = 490.0, Status = 1.0\n",
            "Unit 3: Power output = 445.0, Status = 1.0\n",
            "Unit 4: Power output = 0.0, Status = 0.0\n",
            "Unit 5: Power output = 95.0000000000002, Status = 1.0\n",
            "Unit 6: Power output = 0.0, Status = 0.0\n",
            "Time period 9:\n",
            "Unit 1: Power output = 500.0, Status = 1.0\n",
            "Unit 2: Power output = 600.0, Status = 1.0\n",
            "Unit 3: Power output = 550.0, Status = 1.0\n",
            "Unit 4: Power output = 0.0, Status = 0.0\n",
            "Unit 5: Power output = 220.0, Status = 1.0\n",
            "Unit 6: Power output = 0.0, Status = 0.0\n",
            "Time period 10:\n",
            "Unit 1: Power output = 500.0, Status = 1.0\n",
            "Unit 2: Power output = 600.0, Status = 1.0\n",
            "Unit 3: Power output = 550.0, Status = 1.0\n",
            "Unit 4: Power output = 0.0, Status = 0.0\n",
            "Unit 5: Power output = 330.0, Status = 1.0\n",
            "Unit 6: Power output = 0.0, Status = 0.0\n",
            "Time period 11:\n",
            "Unit 1: Power output = 490.0, Status = 1.0\n",
            "Unit 2: Power output = 600.0, Status = 1.0\n",
            "Unit 3: Power output = 545.0, Status = 1.0\n",
            "Unit 4: Power output = 0.0, Status = 0.0\n",
            "Unit 5: Power output = 455.0, Status = 1.0\n",
            "Unit 6: Power output = 0.0, Status = 0.0\n",
            "Time period 12:\n",
            "Unit 1: Power output = 400.0, Status = 1.0\n",
            "Unit 2: Power output = 490.0, Status = 1.0\n",
            "Unit 3: Power output = 445.0, Status = 1.0\n",
            "Unit 4: Power output = 0.0, Status = 0.0\n",
            "Unit 5: Power output = 425.0, Status = 1.0\n",
            "Unit 6: Power output = 0.0, Status = 0.0\n",
            "Time period 13:\n",
            "Unit 1: Power output = 500.0, Status = 1.0\n",
            "Unit 2: Power output = 600.0, Status = 1.0\n",
            "Unit 3: Power output = 550.0, Status = 1.0\n",
            "Unit 4: Power output = 0.0, Status = 0.0\n",
            "Unit 5: Power output = 550.0, Status = 1.0\n",
            "Unit 6: Power output = 0.0, Status = 0.0\n",
            "Time period 14:\n",
            "Unit 1: Power output = 410.0, Status = 1.0\n",
            "Unit 2: Power output = 600.0, Status = 1.0\n",
            "Unit 3: Power output = 535.0, Status = 1.0\n",
            "Unit 4: Power output = 0.0, Status = 0.0\n",
            "Unit 5: Power output = 435.0, Status = 1.0\n",
            "Unit 6: Power output = 0.0, Status = 0.0\n",
            "Time period 15:\n",
            "Unit 1: Power output = 400.0, Status = 1.0\n",
            "Unit 2: Power output = 600.0, Status = 1.0\n",
            "Unit 3: Power output = 550.0, Status = 1.0\n",
            "Unit 4: Power output = 0.0, Status = 0.0\n",
            "Unit 5: Power output = 320.0, Status = 1.0\n",
            "Unit 6: Power output = 0.0, Status = 0.0\n"
          ]
        }
      ]
    }
  ]
}