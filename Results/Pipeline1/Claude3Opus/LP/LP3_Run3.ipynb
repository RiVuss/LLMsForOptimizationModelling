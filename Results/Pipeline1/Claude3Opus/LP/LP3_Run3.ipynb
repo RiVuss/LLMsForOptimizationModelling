{
  "nbformat": 4,
  "nbformat_minor": 0,
  "metadata": {
    "colab": {
      "provenance": []
    },
    "kernelspec": {
      "name": "python3",
      "display_name": "Python 3"
    },
    "language_info": {
      "name": "python"
    }
  },
  "cells": [
    {
      "cell_type": "markdown",
      "source": [
        "# 0. Imports and Setting up Anthropic API Client"
      ],
      "metadata": {
        "id": "y5fw0lkBwBbo"
      }
    },
    {
      "cell_type": "code",
      "source": [
        "from google.colab import drive\n",
        "\n",
        "drive.mount('/content/drive')"
      ],
      "metadata": {
        "colab": {
          "base_uri": "https://localhost:8080/"
        },
        "id": "e7tWOLo0yMoH",
        "outputId": "b7bc0658-986e-4c21-8f65-a4e0fee2bc2f"
      },
      "execution_count": 1,
      "outputs": [
        {
          "output_type": "stream",
          "name": "stdout",
          "text": [
            "Mounted at /content/drive\n"
          ]
        }
      ]
    },
    {
      "cell_type": "code",
      "source": [
        "!pip install python-dotenv\n",
        "\n",
        "import os\n",
        "import dotenv\n",
        "\n",
        "dotenv.load_dotenv('/content/drive/MyDrive/.env')"
      ],
      "metadata": {
        "colab": {
          "base_uri": "https://localhost:8080/"
        },
        "id": "utcEK8lZ1Z1R",
        "outputId": "aeb2d94f-ba18-4ca3-b667-07c6827af878"
      },
      "execution_count": 2,
      "outputs": [
        {
          "output_type": "stream",
          "name": "stdout",
          "text": [
            "Collecting python-dotenv\n",
            "  Downloading python_dotenv-1.0.1-py3-none-any.whl (19 kB)\n",
            "Installing collected packages: python-dotenv\n",
            "Successfully installed python-dotenv-1.0.1\n"
          ]
        },
        {
          "output_type": "execute_result",
          "data": {
            "text/plain": [
              "True"
            ]
          },
          "metadata": {},
          "execution_count": 2
        }
      ]
    },
    {
      "cell_type": "code",
      "source": [
        "# Load Prompts and Problem Description\n",
        "prompt1_path = '/content/drive/MyDrive/Thesis/Prompts/Prompt1_MathematicalModel.txt'\n",
        "prompt2_path = '/content/drive/MyDrive/Thesis/Prompts/Prompt2_PyomoCode.txt'\n",
        "problem_desc_path = '/content/drive/MyDrive/Thesis/ProblemDescriptions/LP/LP3.txt'\n",
        "\n",
        "prompt1_file = open(prompt1_path, \"r\")\n",
        "prompt2_file = open(prompt2_path, \"r\")\n",
        "problem_desc_file = open(problem_desc_path, \"r\")\n",
        "\n",
        "prompt1 = prompt1_file.read()\n",
        "print(\"Prompt 1:\\n\", prompt1)\n",
        "\n",
        "prompt2 = prompt2_file.read()\n",
        "print(\"Prompt 2:\\n\", prompt2)\n",
        "\n",
        "problem_desc = problem_desc_file.read()\n",
        "print(\"Problem Description:\\n\", problem_desc)"
      ],
      "metadata": {
        "colab": {
          "base_uri": "https://localhost:8080/"
        },
        "id": "9KlkjwMUS4xp",
        "outputId": "31f430e6-0abf-4410-8da5-79f56271e8ac"
      },
      "execution_count": 3,
      "outputs": [
        {
          "output_type": "stream",
          "name": "stdout",
          "text": [
            "Prompt 1:\n",
            " Please write a mathematical optimization model for this problem. Include parameters, decision variables, the objective function and the constraints in your answer.\n",
            "Prompt 2:\n",
            " Please write a python pyomo code for this optimization problem.\n",
            "Use sample data where needed.\n",
            "Indicate where you use sample data.\n",
            "Problem Description:\n",
            " The PRODA, S.A. industrial products firm has to face the problem of scheduling\n",
            "the weekly production of its three products (P1, P2 and P3). These products are\n",
            "sold to large industrial firms and PRODA, S.A. wishes to supply its products in\n",
            "quantities that are more profitable for it.\n",
            "\n",
            "Each product entails three operations contributing to the costs: smelting; mechanisation; assembly and\n",
            "packaging. The smelting operations for products P1 and P2 could be subcontracted, but the smelting operation for product P3 requires special equipment, thus\n",
            "preventing the use of subcontracts. PRODA also want to know, how much they should subcontract.\n",
            "\n",
            "For product P1 the direct unit costs of all possible operations are:\n",
            "- smelting at PRODA: 0.30$\n",
            "- subcontracted smelting: 0.50$\n",
            "- mechanisation: 0.20$\n",
            "- Assembly and packaging: 0.3$\n",
            "The unit sales price is 1.50$.\n",
            "\n",
            "For product P2 the direct unit costs of all possible operations are:\n",
            "- smelting at PRODA: 0.50$\n",
            "- subcontracted smelting: 0.60$\n",
            "- mechanisation: 0.10$\n",
            "- Assembly and packaging: 0.20$\n",
            "The unit sales price is 1.80$.\n",
            "\n",
            "For product P3 the direct unit costs of all possible operations are:\n",
            "- smelting at PRODA: 0.40$\n",
            "- mechanisation: 0.27$\n",
            "- Assembly and packaging: 0.20$\n",
            "The unit sales price is 1.97$.\n",
            "\n",
            "Each unit of product P1 requires 6 min of smelting time (if performed at PRODA, S.A.), 6 min of mechanisation time and 3 min of assembly and packaging time, respectively. For product P2, the times are 10, 3 and 2 min, respectively. One unit of product P3 needs 8 min of smelting time, 8 min of mechanisation and 2 min for assembly and packaging. PRODA, S.A. has weekly capacities of 8,000 min of smelting time, 12,000 min of mechanisation time and 10,000 min of assembly and packaging time.\n",
            "The objective is to maximize weekly profits.\n"
          ]
        }
      ]
    },
    {
      "cell_type": "code",
      "source": [
        "!pip install anthropic"
      ],
      "metadata": {
        "colab": {
          "base_uri": "https://localhost:8080/"
        },
        "id": "iWlNsTIvxCcR",
        "outputId": "f61f09a1-3bea-452b-b06f-382f880dcfb6",
        "collapsed": true
      },
      "execution_count": 4,
      "outputs": [
        {
          "output_type": "stream",
          "name": "stdout",
          "text": [
            "Collecting anthropic\n",
            "  Downloading anthropic-0.25.9-py3-none-any.whl (871 kB)\n",
            "\u001b[2K     \u001b[90m━━━━━━━━━━━━━━━━━━━━━━━━━━━━━━━━━━━━━━━━\u001b[0m \u001b[32m871.1/871.1 kB\u001b[0m \u001b[31m8.3 MB/s\u001b[0m eta \u001b[36m0:00:00\u001b[0m\n",
            "\u001b[?25hRequirement already satisfied: anyio<5,>=3.5.0 in /usr/local/lib/python3.10/dist-packages (from anthropic) (3.7.1)\n",
            "Requirement already satisfied: distro<2,>=1.7.0 in /usr/lib/python3/dist-packages (from anthropic) (1.7.0)\n",
            "Collecting httpx<1,>=0.23.0 (from anthropic)\n",
            "  Downloading httpx-0.27.0-py3-none-any.whl (75 kB)\n",
            "\u001b[2K     \u001b[90m━━━━━━━━━━━━━━━━━━━━━━━━━━━━━━━━━━━━━━━━\u001b[0m \u001b[32m75.6/75.6 kB\u001b[0m \u001b[31m8.6 MB/s\u001b[0m eta \u001b[36m0:00:00\u001b[0m\n",
            "\u001b[?25hRequirement already satisfied: pydantic<3,>=1.9.0 in /usr/local/lib/python3.10/dist-packages (from anthropic) (2.7.1)\n",
            "Requirement already satisfied: sniffio in /usr/local/lib/python3.10/dist-packages (from anthropic) (1.3.1)\n",
            "Requirement already satisfied: tokenizers>=0.13.0 in /usr/local/lib/python3.10/dist-packages (from anthropic) (0.19.1)\n",
            "Requirement already satisfied: typing-extensions<5,>=4.7 in /usr/local/lib/python3.10/dist-packages (from anthropic) (4.11.0)\n",
            "Requirement already satisfied: idna>=2.8 in /usr/local/lib/python3.10/dist-packages (from anyio<5,>=3.5.0->anthropic) (3.7)\n",
            "Requirement already satisfied: exceptiongroup in /usr/local/lib/python3.10/dist-packages (from anyio<5,>=3.5.0->anthropic) (1.2.1)\n",
            "Requirement already satisfied: certifi in /usr/local/lib/python3.10/dist-packages (from httpx<1,>=0.23.0->anthropic) (2024.2.2)\n",
            "Collecting httpcore==1.* (from httpx<1,>=0.23.0->anthropic)\n",
            "  Downloading httpcore-1.0.5-py3-none-any.whl (77 kB)\n",
            "\u001b[2K     \u001b[90m━━━━━━━━━━━━━━━━━━━━━━━━━━━━━━━━━━━━━━━━\u001b[0m \u001b[32m77.9/77.9 kB\u001b[0m \u001b[31m8.3 MB/s\u001b[0m eta \u001b[36m0:00:00\u001b[0m\n",
            "\u001b[?25hCollecting h11<0.15,>=0.13 (from httpcore==1.*->httpx<1,>=0.23.0->anthropic)\n",
            "  Downloading h11-0.14.0-py3-none-any.whl (58 kB)\n",
            "\u001b[2K     \u001b[90m━━━━━━━━━━━━━━━━━━━━━━━━━━━━━━━━━━━━━━━━\u001b[0m \u001b[32m58.3/58.3 kB\u001b[0m \u001b[31m7.0 MB/s\u001b[0m eta \u001b[36m0:00:00\u001b[0m\n",
            "\u001b[?25hRequirement already satisfied: annotated-types>=0.4.0 in /usr/local/lib/python3.10/dist-packages (from pydantic<3,>=1.9.0->anthropic) (0.6.0)\n",
            "Requirement already satisfied: pydantic-core==2.18.2 in /usr/local/lib/python3.10/dist-packages (from pydantic<3,>=1.9.0->anthropic) (2.18.2)\n",
            "Requirement already satisfied: huggingface-hub<1.0,>=0.16.4 in /usr/local/lib/python3.10/dist-packages (from tokenizers>=0.13.0->anthropic) (0.20.3)\n",
            "Requirement already satisfied: filelock in /usr/local/lib/python3.10/dist-packages (from huggingface-hub<1.0,>=0.16.4->tokenizers>=0.13.0->anthropic) (3.14.0)\n",
            "Requirement already satisfied: fsspec>=2023.5.0 in /usr/local/lib/python3.10/dist-packages (from huggingface-hub<1.0,>=0.16.4->tokenizers>=0.13.0->anthropic) (2023.6.0)\n",
            "Requirement already satisfied: requests in /usr/local/lib/python3.10/dist-packages (from huggingface-hub<1.0,>=0.16.4->tokenizers>=0.13.0->anthropic) (2.31.0)\n",
            "Requirement already satisfied: tqdm>=4.42.1 in /usr/local/lib/python3.10/dist-packages (from huggingface-hub<1.0,>=0.16.4->tokenizers>=0.13.0->anthropic) (4.66.4)\n",
            "Requirement already satisfied: pyyaml>=5.1 in /usr/local/lib/python3.10/dist-packages (from huggingface-hub<1.0,>=0.16.4->tokenizers>=0.13.0->anthropic) (6.0.1)\n",
            "Requirement already satisfied: packaging>=20.9 in /usr/local/lib/python3.10/dist-packages (from huggingface-hub<1.0,>=0.16.4->tokenizers>=0.13.0->anthropic) (24.0)\n",
            "Requirement already satisfied: charset-normalizer<4,>=2 in /usr/local/lib/python3.10/dist-packages (from requests->huggingface-hub<1.0,>=0.16.4->tokenizers>=0.13.0->anthropic) (3.3.2)\n",
            "Requirement already satisfied: urllib3<3,>=1.21.1 in /usr/local/lib/python3.10/dist-packages (from requests->huggingface-hub<1.0,>=0.16.4->tokenizers>=0.13.0->anthropic) (2.0.7)\n",
            "Installing collected packages: h11, httpcore, httpx, anthropic\n",
            "Successfully installed anthropic-0.25.9 h11-0.14.0 httpcore-1.0.5 httpx-0.27.0\n"
          ]
        }
      ]
    },
    {
      "cell_type": "code",
      "execution_count": 5,
      "metadata": {
        "id": "7Qjk2D63v1Bl"
      },
      "outputs": [],
      "source": [
        "# Importing Anthropic & Setting Headers\n",
        "import anthropic\n",
        "\n",
        "client = anthropic.Anthropic(\n",
        "    # defaults to os.environ.get(\"ANTHROPIC_API_KEY\")\n",
        "    api_key=os.environ.get(\"ANTHROPIC_API_KEY\"),\n",
        ")"
      ]
    },
    {
      "cell_type": "markdown",
      "source": [
        "# 1. Prompt 1: Create Mathematical Model"
      ],
      "metadata": {
        "id": "kT7yKbJs18XR"
      }
    },
    {
      "cell_type": "code",
      "source": [
        "message = client.messages.create(\n",
        "    model=\"claude-3-opus-20240229\",\n",
        "    system=prompt1,\n",
        "    max_tokens=4096,\n",
        "    messages=[\n",
        "        {\"role\": \"user\", \"content\": problem_desc}\n",
        "    ]\n",
        ")\n",
        "\n",
        "response_p1 = message.content[0].text"
      ],
      "metadata": {
        "id": "R_6X0axq16D4"
      },
      "execution_count": 6,
      "outputs": []
    },
    {
      "cell_type": "code",
      "source": [
        "# Print response\n",
        "print(response_p1)"
      ],
      "metadata": {
        "colab": {
          "base_uri": "https://localhost:8080/"
        },
        "id": "Ra9Ox_PI38jg",
        "outputId": "72898fec-ee2d-4c91-a726-b65d213bdb32"
      },
      "execution_count": 7,
      "outputs": [
        {
          "output_type": "stream",
          "name": "stdout",
          "text": [
            "Parameters:\n",
            "- i: product index (i = 1, 2, 3)\n",
            "- pi: unit sales price of product i\n",
            "- ci: unit cost of smelting product i at PRODA\n",
            "- si: unit cost of subcontracted smelting for product i\n",
            "- mi: unit cost of mechanisation for product i\n",
            "- ai: unit cost of assembly and packaging for product i\n",
            "- ti: smelting time required per unit of product i at PRODA (in minutes)\n",
            "- ui: mechanisation time required per unit of product i (in minutes)\n",
            "- vi: assembly and packaging time required per unit of product i (in minutes)\n",
            "- T: total available smelting time at PRODA per week (in minutes)\n",
            "- U: total available mechanisation time per week (in minutes)\n",
            "- V: total available assembly and packaging time per week (in minutes)\n",
            "\n",
            "Decision variables:\n",
            "- xi: quantity of product i to produce\n",
            "- yi: quantity of product i to subcontract for smelting\n",
            "\n",
            "Objective function:\n",
            "Maximize Z = (p1 - c1)x1 + (p2 - c2)x2 + (p3 - c3)x3 - s1y1 - s2y2 - m1x1 - m2x2 - m3x3 - a1x1 - a2x2 - a3x3\n",
            "\n",
            "Constraints:\n",
            "1. Smelting time constraint at PRODA:\n",
            "   t1(x1 - y1) + t2(x2 - y2) + t3x3 ≤ T\n",
            "\n",
            "2. Mechanisation time constraint:\n",
            "   u1x1 + u2x2 + u3x3 ≤ U\n",
            "\n",
            "3. Assembly and packaging time constraint:\n",
            "   v1x1 + v2x2 + v3x3 ≤ V\n",
            "\n",
            "4. Non-negativity constraints:\n",
            "   xi ≥ 0, yi ≥ 0 for i = 1, 2, 3\n",
            "\n",
            "5. Subcontracting constraints:\n",
            "   y1 ≤ x1\n",
            "   y2 ≤ x2\n",
            "   y3 = 0 (since smelting for product P3 cannot be subcontracted)\n",
            "\n",
            "The objective function maximizes the total profit by considering the revenue from selling the products and subtracting the costs of smelting (either at PRODA or subcontracted), mechanisation, and assembly and packaging. The constraints ensure that the available time for each operation is not exceeded, the decision variables are non-negative, and the subcontracting constraints are met.\n"
          ]
        }
      ]
    },
    {
      "cell_type": "markdown",
      "source": [
        "# 2. Prompt 2: Write Code based on Mathematical Model"
      ],
      "metadata": {
        "id": "WPZ6lgBO729j"
      }
    },
    {
      "cell_type": "code",
      "source": [
        "message2 = client.messages.create(\n",
        "    model=\"claude-3-opus-20240229\",\n",
        "    system=prompt2,\n",
        "    max_tokens=4069,\n",
        "    messages=[\n",
        "        {\"role\": \"user\", \"content\": response_p1}\n",
        "    ]\n",
        ")\n",
        "\n",
        "response_p2 = message2.content[0].text"
      ],
      "metadata": {
        "id": "1iUSgBda70FL"
      },
      "execution_count": 8,
      "outputs": []
    },
    {
      "cell_type": "code",
      "source": [
        "# Print response\n",
        "print(response_p2)"
      ],
      "metadata": {
        "colab": {
          "base_uri": "https://localhost:8080/"
        },
        "id": "o40mxc_H8eQ9",
        "outputId": "bfcea7b7-5c8f-495f-c36d-c25c8c8e0789"
      },
      "execution_count": 9,
      "outputs": [
        {
          "output_type": "stream",
          "name": "stdout",
          "text": [
            "Here's a Python code using Pyomo to solve the optimization problem:\n",
            "\n",
            "```python\n",
            "from pyomo.environ import *\n",
            "\n",
            "# Create a Pyomo model\n",
            "model = ConcreteModel()\n",
            "\n",
            "# Define the sets\n",
            "model.I = RangeSet(1, 3)\n",
            "\n",
            "# Define the parameters (using sample data)\n",
            "model.p = {1: 100, 2: 120, 3: 150}  # Unit sales price\n",
            "model.c = {1: 30, 2: 35, 3: 40}     # Unit cost of smelting at PRODA\n",
            "model.s = {1: 25, 2: 30}            # Unit cost of subcontracted smelting\n",
            "model.m = {1: 10, 2: 12, 3: 15}     # Unit cost of mechanisation\n",
            "model.a = {1: 5, 2: 6, 3: 8}        # Unit cost of assembly and packaging\n",
            "model.t = {1: 10, 2: 12, 3: 15}     # Smelting time per unit at PRODA\n",
            "model.u = {1: 5, 2: 6, 3: 8}        # Mechanisation time per unit\n",
            "model.v = {1: 3, 2: 4, 3: 5}        # Assembly and packaging time per unit\n",
            "model.T = 2400                      # Total available smelting time per week\n",
            "model.U = 1200                      # Total available mechanisation time per week\n",
            "model.V = 900                       # Total available assembly and packaging time per week\n",
            "\n",
            "# Define the decision variables\n",
            "model.x = Var(model.I, domain=NonNegativeReals)\n",
            "model.y = Var(model.I, domain=NonNegativeReals)\n",
            "\n",
            "# Define the objective function\n",
            "def obj_rule(model):\n",
            "    return sum((model.p[i] - model.c[i]) * model.x[i] for i in model.I) - \\\n",
            "           sum(model.s[i] * model.y[i] for i in model.I if i != 3) - \\\n",
            "           sum(model.m[i] * model.x[i] for i in model.I) - \\\n",
            "           sum(model.a[i] * model.x[i] for i in model.I)\n",
            "model.obj = Objective(rule=obj_rule, sense=maximize)\n",
            "\n",
            "# Define the constraints\n",
            "def smelting_time_constraint(model):\n",
            "    return sum(model.t[i] * (model.x[i] - model.y[i]) for i in model.I if i != 3) + model.t[3] * model.x[3] <= model.T\n",
            "model.smelting_time = Constraint(rule=smelting_time_constraint)\n",
            "\n",
            "def mechanisation_time_constraint(model):\n",
            "    return sum(model.u[i] * model.x[i] for i in model.I) <= model.U\n",
            "model.mechanisation_time = Constraint(rule=mechanisation_time_constraint)\n",
            "\n",
            "def assembly_packaging_time_constraint(model):\n",
            "    return sum(model.v[i] * model.x[i] for i in model.I) <= model.V\n",
            "model.assembly_packaging_time = Constraint(rule=assembly_packaging_time_constraint)\n",
            "\n",
            "def subcontracting_constraint_1(model):\n",
            "    return model.y[1] <= model.x[1]\n",
            "model.subcontracting_1 = Constraint(rule=subcontracting_constraint_1)\n",
            "\n",
            "def subcontracting_constraint_2(model):\n",
            "    return model.y[2] <= model.x[2]\n",
            "model.subcontracting_2 = Constraint(rule=subcontracting_constraint_2)\n",
            "\n",
            "def subcontracting_constraint_3(model):\n",
            "    return model.y[3] == 0\n",
            "model.subcontracting_3 = Constraint(rule=subcontracting_constraint_3)\n",
            "\n",
            "# Solve the model\n",
            "solver = SolverFactory('glpk')\n",
            "results = solver.solve(model)\n",
            "\n",
            "# Print the results\n",
            "print(\"Objective value:\", value(model.obj))\n",
            "print(\"Optimal solution:\")\n",
            "for i in model.I:\n",
            "    print(\"Product\", i)\n",
            "    print(\"  Quantity to produce (x):\", value(model.x[i]))\n",
            "    print(\"  Quantity to subcontract (y):\", value(model.y[i]))\n",
            "```\n",
            "\n",
            "In this code, I used sample data for the parameters such as unit sales price, unit costs, and time requirements. You can replace these sample values with your actual data.\n",
            "\n",
            "The code creates a Pyomo model, defines the sets, parameters, decision variables, objective function, and constraints based on the problem formulation. It then solves the model using the GLPK solver and prints the objective value and the optimal solution for each product.\n",
            "\n",
            "Note: Make sure you have Pyomo and GLPK installed in your Python environment to run this code.\n"
          ]
        }
      ]
    },
    {
      "cell_type": "markdown",
      "source": [
        "# 4. Input Problem Data and Test Model Code"
      ],
      "metadata": {
        "id": "Pc0QqJuf8up_"
      }
    },
    {
      "cell_type": "code",
      "source": [
        "# Installing pyomo nd solver\n",
        "!pip install -q pyomo\n",
        "!apt-get install -y -qq glpk-utils\n",
        "!pip install glpk"
      ],
      "metadata": {
        "colab": {
          "base_uri": "https://localhost:8080/"
        },
        "id": "3BtROuLu9O-p",
        "outputId": "f43b01ca-c71b-4807-a5e4-bb9d92e5b45c",
        "collapsed": true
      },
      "execution_count": 10,
      "outputs": [
        {
          "output_type": "stream",
          "name": "stdout",
          "text": [
            "\u001b[2K     \u001b[90m━━━━━━━━━━━━━━━━━━━━━━━━━━━━━━━━━━━━━━━━\u001b[0m \u001b[32m12.8/12.8 MB\u001b[0m \u001b[31m36.4 MB/s\u001b[0m eta \u001b[36m0:00:00\u001b[0m\n",
            "\u001b[2K     \u001b[90m━━━━━━━━━━━━━━━━━━━━━━━━━━━━━━━━━━━━━━━━\u001b[0m \u001b[32m49.6/49.6 kB\u001b[0m \u001b[31m4.3 MB/s\u001b[0m eta \u001b[36m0:00:00\u001b[0m\n",
            "\u001b[?25hSelecting previously unselected package libsuitesparseconfig5:amd64.\n",
            "(Reading database ... 121918 files and directories currently installed.)\n",
            "Preparing to unpack .../libsuitesparseconfig5_1%3a5.10.1+dfsg-4build1_amd64.deb ...\n",
            "Unpacking libsuitesparseconfig5:amd64 (1:5.10.1+dfsg-4build1) ...\n",
            "Selecting previously unselected package libamd2:amd64.\n",
            "Preparing to unpack .../libamd2_1%3a5.10.1+dfsg-4build1_amd64.deb ...\n",
            "Unpacking libamd2:amd64 (1:5.10.1+dfsg-4build1) ...\n",
            "Selecting previously unselected package libcolamd2:amd64.\n",
            "Preparing to unpack .../libcolamd2_1%3a5.10.1+dfsg-4build1_amd64.deb ...\n",
            "Unpacking libcolamd2:amd64 (1:5.10.1+dfsg-4build1) ...\n",
            "Selecting previously unselected package libglpk40:amd64.\n",
            "Preparing to unpack .../libglpk40_5.0-1_amd64.deb ...\n",
            "Unpacking libglpk40:amd64 (5.0-1) ...\n",
            "Selecting previously unselected package glpk-utils.\n",
            "Preparing to unpack .../glpk-utils_5.0-1_amd64.deb ...\n",
            "Unpacking glpk-utils (5.0-1) ...\n",
            "Setting up libsuitesparseconfig5:amd64 (1:5.10.1+dfsg-4build1) ...\n",
            "Setting up libamd2:amd64 (1:5.10.1+dfsg-4build1) ...\n",
            "Setting up libcolamd2:amd64 (1:5.10.1+dfsg-4build1) ...\n",
            "Setting up libglpk40:amd64 (5.0-1) ...\n",
            "Setting up glpk-utils (5.0-1) ...\n",
            "Processing triggers for man-db (2.10.2-1) ...\n",
            "Processing triggers for libc-bin (2.35-0ubuntu3.4) ...\n",
            "/sbin/ldconfig.real: /usr/local/lib/libtbbbind_2_5.so.3 is not a symbolic link\n",
            "\n",
            "/sbin/ldconfig.real: /usr/local/lib/libtbbmalloc.so.2 is not a symbolic link\n",
            "\n",
            "/sbin/ldconfig.real: /usr/local/lib/libtbbbind.so.3 is not a symbolic link\n",
            "\n",
            "/sbin/ldconfig.real: /usr/local/lib/libtbbmalloc_proxy.so.2 is not a symbolic link\n",
            "\n",
            "/sbin/ldconfig.real: /usr/local/lib/libtbb.so.12 is not a symbolic link\n",
            "\n",
            "/sbin/ldconfig.real: /usr/local/lib/libtbbbind_2_0.so.3 is not a symbolic link\n",
            "\n",
            "Collecting glpk\n",
            "  Downloading glpk-0.4.7.tar.gz (161 kB)\n",
            "\u001b[2K     \u001b[90m━━━━━━━━━━━━━━━━━━━━━━━━━━━━━━━━━━━━━━━━\u001b[0m \u001b[32m161.2/161.2 kB\u001b[0m \u001b[31m4.2 MB/s\u001b[0m eta \u001b[36m0:00:00\u001b[0m\n",
            "\u001b[?25h  Installing build dependencies ... \u001b[?25l\u001b[?25hdone\n",
            "  Getting requirements to build wheel ... \u001b[?25l\u001b[?25hdone\n",
            "  Preparing metadata (pyproject.toml) ... \u001b[?25l\u001b[?25hdone\n",
            "Building wheels for collected packages: glpk\n",
            "  \u001b[1;31merror\u001b[0m: \u001b[1msubprocess-exited-with-error\u001b[0m\n",
            "  \n",
            "  \u001b[31m×\u001b[0m \u001b[32mBuilding wheel for glpk \u001b[0m\u001b[1;32m(\u001b[0m\u001b[32mpyproject.toml\u001b[0m\u001b[1;32m)\u001b[0m did not run successfully.\n",
            "  \u001b[31m│\u001b[0m exit code: \u001b[1;36m1\u001b[0m\n",
            "  \u001b[31m╰─>\u001b[0m See above for output.\n",
            "  \n",
            "  \u001b[1;35mnote\u001b[0m: This error originates from a subprocess, and is likely not a problem with pip.\n",
            "  Building wheel for glpk (pyproject.toml) ... \u001b[?25l\u001b[?25herror\n",
            "\u001b[31m  ERROR: Failed building wheel for glpk\u001b[0m\u001b[31m\n",
            "\u001b[0mFailed to build glpk\n",
            "\u001b[31mERROR: Could not build wheels for glpk, which is required to install pyproject.toml-based projects\u001b[0m\u001b[31m\n",
            "\u001b[0m"
          ]
        }
      ]
    },
    {
      "cell_type": "code",
      "source": [
        "from pyomo.environ import *\n",
        "\n",
        "# Create a Pyomo model\n",
        "model = ConcreteModel()\n",
        "\n",
        "# Define the sets\n",
        "model.I = RangeSet(1, 3)\n",
        "\n",
        "# Define the parameters (using sample data)\n",
        "model.p = {1: 1.5, 2: 1.8, 3: 1.97}  # Unit sales price\n",
        "model.c = {1: 0.3, 2: 0.5, 3: 0.4}     # Unit cost of smelting at PRODA\n",
        "model.s = {1: 0.5, 2: 0.6}            # Unit cost of subcontracted smelting\n",
        "model.m = {1: 0.2, 2: 0.1, 3: 0.27}     # Unit cost of mechanisation\n",
        "model.a = {1: 0.3, 2: 0.2, 3: 0.2}        # Unit cost of assembly and packaging\n",
        "model.t = {1: 6, 2: 10, 3: 8}     # Smelting time per unit at PRODA\n",
        "model.u = {1: 6, 2: 3, 3: 8}        # Mechanisation time per unit\n",
        "model.v = {1: 3, 2: 2, 3: 2}        # Assembly and packaging time per unit\n",
        "model.T = 8000                      # Total available smelting time per week\n",
        "model.U = 12000                      # Total available mechanisation time per week\n",
        "model.V = 10000                       # Total available assembly and packaging time per week\n",
        "\n",
        "# Define the decision variables\n",
        "model.x = Var(model.I, domain=NonNegativeReals)\n",
        "model.y = Var(model.I, domain=NonNegativeReals)\n",
        "\n",
        "# Define the objective function\n",
        "def obj_rule(model):\n",
        "    return sum((model.p[i] - model.c[i]) * model.x[i] for i in model.I) - \\\n",
        "           sum(model.s[i] * model.y[i] for i in model.I if i != 3) - \\\n",
        "           sum(model.m[i] * model.x[i] for i in model.I) - \\\n",
        "           sum(model.a[i] * model.x[i] for i in model.I)\n",
        "model.obj = Objective(rule=obj_rule, sense=maximize)\n",
        "\n",
        "# Define the constraints\n",
        "def smelting_time_constraint(model):\n",
        "    return sum(model.t[i] * (model.x[i] - model.y[i]) for i in model.I if i != 3) + model.t[3] * model.x[3] <= model.T\n",
        "model.smelting_time = Constraint(rule=smelting_time_constraint)\n",
        "\n",
        "def mechanisation_time_constraint(model):\n",
        "    return sum(model.u[i] * model.x[i] for i in model.I) <= model.U\n",
        "model.mechanisation_time = Constraint(rule=mechanisation_time_constraint)\n",
        "\n",
        "def assembly_packaging_time_constraint(model):\n",
        "    return sum(model.v[i] * model.x[i] for i in model.I) <= model.V\n",
        "model.assembly_packaging_time = Constraint(rule=assembly_packaging_time_constraint)\n",
        "\n",
        "def subcontracting_constraint_1(model):\n",
        "    return model.y[1] <= model.x[1]\n",
        "model.subcontracting_1 = Constraint(rule=subcontracting_constraint_1)\n",
        "\n",
        "def subcontracting_constraint_2(model):\n",
        "    return model.y[2] <= model.x[2]\n",
        "model.subcontracting_2 = Constraint(rule=subcontracting_constraint_2)\n",
        "\n",
        "def subcontracting_constraint_3(model):\n",
        "    return model.y[3] == 0\n",
        "model.subcontracting_3 = Constraint(rule=subcontracting_constraint_3)\n",
        "\n",
        "# Solve the model\n",
        "solver = SolverFactory('glpk')\n",
        "results = solver.solve(model)\n",
        "\n",
        "# Print the results\n",
        "print(\"Objective value:\", value(model.obj))\n",
        "print(\"Optimal solution:\")\n",
        "for i in model.I:\n",
        "    print(\"Product\", i)\n",
        "    print(\"  Quantity to produce (x):\", value(model.x[i]))\n",
        "    print(\"  Quantity to subcontract (y):\", value(model.y[i]))"
      ],
      "metadata": {
        "colab": {
          "base_uri": "https://localhost:8080/"
        },
        "id": "8FpHcuWU8rQ2",
        "outputId": "3adf70c4-9393-4796-aa8b-60738ae30562"
      },
      "execution_count": 12,
      "outputs": [
        {
          "output_type": "stream",
          "name": "stdout",
          "text": [
            "Objective value: 2080.0\n",
            "Optimal solution:\n",
            "Product 1\n",
            "  Quantity to produce (x): 0.0\n",
            "  Quantity to subcontract (y): 0.0\n",
            "Product 2\n",
            "  Quantity to produce (x): 4000.0\n",
            "  Quantity to subcontract (y): 3200.0\n",
            "Product 3\n",
            "  Quantity to produce (x): 0.0\n",
            "  Quantity to subcontract (y): 0.0\n"
          ]
        }
      ]
    },
    {
      "cell_type": "markdown",
      "source": [
        "# 5. Correct The Model Code to Test Mathematical Model (if applicable)"
      ],
      "metadata": {
        "id": "KHTyoLQTWZVy"
      }
    },
    {
      "cell_type": "code",
      "source": [],
      "metadata": {
        "id": "A-Kq05sreCew"
      },
      "execution_count": null,
      "outputs": []
    },
    {
      "cell_type": "code",
      "source": [],
      "metadata": {
        "id": "REJzqhR6WYvM"
      },
      "execution_count": null,
      "outputs": []
    }
  ]
}