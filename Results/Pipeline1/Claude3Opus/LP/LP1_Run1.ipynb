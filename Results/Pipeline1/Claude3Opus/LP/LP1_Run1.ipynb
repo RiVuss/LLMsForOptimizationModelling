{
  "nbformat": 4,
  "nbformat_minor": 0,
  "metadata": {
    "colab": {
      "provenance": []
    },
    "kernelspec": {
      "name": "python3",
      "display_name": "Python 3"
    },
    "language_info": {
      "name": "python"
    }
  },
  "cells": [
    {
      "cell_type": "markdown",
      "source": [
        "# 0. Imports and Setting up Anthropic API Client"
      ],
      "metadata": {
        "id": "y5fw0lkBwBbo"
      }
    },
    {
      "cell_type": "code",
      "source": [
        "from google.colab import drive\n",
        "\n",
        "drive.mount('/content/drive')"
      ],
      "metadata": {
        "colab": {
          "base_uri": "https://localhost:8080/"
        },
        "id": "e7tWOLo0yMoH",
        "outputId": "685f8af8-8930-4ee1-c39d-f8b8a73a7b9a"
      },
      "execution_count": 1,
      "outputs": [
        {
          "output_type": "stream",
          "name": "stdout",
          "text": [
            "Mounted at /content/drive\n"
          ]
        }
      ]
    },
    {
      "cell_type": "code",
      "source": [
        "!pip install python-dotenv\n",
        "\n",
        "import os\n",
        "import dotenv\n",
        "\n",
        "dotenv.load_dotenv('/content/drive/MyDrive/.env')"
      ],
      "metadata": {
        "colab": {
          "base_uri": "https://localhost:8080/"
        },
        "id": "utcEK8lZ1Z1R",
        "outputId": "c35bd704-12ff-4b91-ff14-88cac1204d9a"
      },
      "execution_count": 2,
      "outputs": [
        {
          "output_type": "stream",
          "name": "stdout",
          "text": [
            "Collecting python-dotenv\n",
            "  Downloading python_dotenv-1.0.1-py3-none-any.whl (19 kB)\n",
            "Installing collected packages: python-dotenv\n",
            "Successfully installed python-dotenv-1.0.1\n"
          ]
        },
        {
          "output_type": "execute_result",
          "data": {
            "text/plain": [
              "True"
            ]
          },
          "metadata": {},
          "execution_count": 2
        }
      ]
    },
    {
      "cell_type": "code",
      "source": [
        "# Load Prompts and Problem Description\n",
        "prompt1_path = '/content/drive/MyDrive/Thesis/Prompts/Prompt1_MathematicalModel.txt'\n",
        "prompt2_path = '/content/drive/MyDrive/Thesis/Prompts/Prompt2_PyomoCode.txt'\n",
        "problem_desc_path = '/content/drive/MyDrive/Thesis/ProblemDescriptions/LP/LP1.txt'\n",
        "\n",
        "prompt1_file = open(prompt1_path, \"r\")\n",
        "prompt2_file = open(prompt2_path, \"r\")\n",
        "problem_desc_file = open(problem_desc_path, \"r\")\n",
        "\n",
        "prompt1 = prompt1_file.read()\n",
        "print(\"Prompt 1:\\n\", prompt1)\n",
        "\n",
        "prompt2 = prompt2_file.read()\n",
        "print(\"Prompt 2:\\n\", prompt2)\n",
        "\n",
        "problem_desc = problem_desc_file.read()\n",
        "print(\"Problem Description:\\n\", problem_desc)"
      ],
      "metadata": {
        "colab": {
          "base_uri": "https://localhost:8080/"
        },
        "id": "9KlkjwMUS4xp",
        "outputId": "f6dd972c-7921-4963-ba14-9b322a10ec5b"
      },
      "execution_count": 3,
      "outputs": [
        {
          "output_type": "stream",
          "name": "stdout",
          "text": [
            "Prompt 1:\n",
            " Please write a mathematical optimization model for this problem. Include parameters, decision variables, the objective function and the constraints in your answer.\n",
            "Prompt 2:\n",
            " Please write a python pyomo code for this optimization problem.\n",
            "Use sample data where needed.\n",
            "Indicate where you use sample data.\n",
            "Problem Description:\n",
            " A firm from Milan sells chemical products for professional cosmetics. It is planning the production of three products, GCA, GCB and GCC, for a given period of\n",
            "time by mixing two different components: C1 and C2. All the end products must\n",
            "contain at least one of the two components, and not necessarily both.\n",
            "\n",
            "For the next planning period, 10,000 l of C1 and 15,000 l of C2 are available.\n",
            "The production of GCA, GCB and GCC must be scheduled to at least cover the\n",
            "minimum demand level of 6,000, 7,000 and 9,000 l, respectively. It is assumed\n",
            "that when chemical components are mixed, there is no loss or gain in volume.\n",
            "\n",
            "Each chemical component, C1 and C2, has a proportional critical element, 0.4\n",
            "and 0.2, respectively. That is to say, each litre of C1 contains 0.4 l of the critical\n",
            "element. To obtain GCA, the mixture must proportionally contain at least a 0.3\n",
            "fraction of the critical element. Another requirement is that the quantity of the\n",
            "critical element is seen in GCB, an 0.3 fraction at the most.\n",
            "Furthermore, the minimum ratio of C1 with C2 in product GCC must be 0.3.\n",
            "\n",
            "The profit expected for the sale of each litre of GCA, GCB and GCC is $120, $135\n",
            "and $155, respectively.\n",
            "\n",
            "Optimise the production planning of this firm. \n"
          ]
        }
      ]
    },
    {
      "cell_type": "code",
      "source": [
        "!pip install anthropic"
      ],
      "metadata": {
        "colab": {
          "base_uri": "https://localhost:8080/"
        },
        "id": "iWlNsTIvxCcR",
        "outputId": "9cd4e5e3-88db-4180-a18b-326b0595bad3"
      },
      "execution_count": 4,
      "outputs": [
        {
          "output_type": "stream",
          "name": "stdout",
          "text": [
            "Collecting anthropic\n",
            "  Downloading anthropic-0.25.9-py3-none-any.whl (871 kB)\n",
            "\u001b[2K     \u001b[90m━━━━━━━━━━━━━━━━━━━━━━━━━━━━━━━━━━━━━━━━\u001b[0m \u001b[32m871.1/871.1 kB\u001b[0m \u001b[31m7.3 MB/s\u001b[0m eta \u001b[36m0:00:00\u001b[0m\n",
            "\u001b[?25hRequirement already satisfied: anyio<5,>=3.5.0 in /usr/local/lib/python3.10/dist-packages (from anthropic) (3.7.1)\n",
            "Requirement already satisfied: distro<2,>=1.7.0 in /usr/lib/python3/dist-packages (from anthropic) (1.7.0)\n",
            "Collecting httpx<1,>=0.23.0 (from anthropic)\n",
            "  Downloading httpx-0.27.0-py3-none-any.whl (75 kB)\n",
            "\u001b[2K     \u001b[90m━━━━━━━━━━━━━━━━━━━━━━━━━━━━━━━━━━━━━━━━\u001b[0m \u001b[32m75.6/75.6 kB\u001b[0m \u001b[31m9.1 MB/s\u001b[0m eta \u001b[36m0:00:00\u001b[0m\n",
            "\u001b[?25hRequirement already satisfied: pydantic<3,>=1.9.0 in /usr/local/lib/python3.10/dist-packages (from anthropic) (2.7.1)\n",
            "Requirement already satisfied: sniffio in /usr/local/lib/python3.10/dist-packages (from anthropic) (1.3.1)\n",
            "Requirement already satisfied: tokenizers>=0.13.0 in /usr/local/lib/python3.10/dist-packages (from anthropic) (0.19.1)\n",
            "Requirement already satisfied: typing-extensions<5,>=4.7 in /usr/local/lib/python3.10/dist-packages (from anthropic) (4.11.0)\n",
            "Requirement already satisfied: idna>=2.8 in /usr/local/lib/python3.10/dist-packages (from anyio<5,>=3.5.0->anthropic) (3.7)\n",
            "Requirement already satisfied: exceptiongroup in /usr/local/lib/python3.10/dist-packages (from anyio<5,>=3.5.0->anthropic) (1.2.1)\n",
            "Requirement already satisfied: certifi in /usr/local/lib/python3.10/dist-packages (from httpx<1,>=0.23.0->anthropic) (2024.2.2)\n",
            "Collecting httpcore==1.* (from httpx<1,>=0.23.0->anthropic)\n",
            "  Downloading httpcore-1.0.5-py3-none-any.whl (77 kB)\n",
            "\u001b[2K     \u001b[90m━━━━━━━━━━━━━━━━━━━━━━━━━━━━━━━━━━━━━━━━\u001b[0m \u001b[32m77.9/77.9 kB\u001b[0m \u001b[31m10.0 MB/s\u001b[0m eta \u001b[36m0:00:00\u001b[0m\n",
            "\u001b[?25hCollecting h11<0.15,>=0.13 (from httpcore==1.*->httpx<1,>=0.23.0->anthropic)\n",
            "  Downloading h11-0.14.0-py3-none-any.whl (58 kB)\n",
            "\u001b[2K     \u001b[90m━━━━━━━━━━━━━━━━━━━━━━━━━━━━━━━━━━━━━━━━\u001b[0m \u001b[32m58.3/58.3 kB\u001b[0m \u001b[31m7.5 MB/s\u001b[0m eta \u001b[36m0:00:00\u001b[0m\n",
            "\u001b[?25hRequirement already satisfied: annotated-types>=0.4.0 in /usr/local/lib/python3.10/dist-packages (from pydantic<3,>=1.9.0->anthropic) (0.6.0)\n",
            "Requirement already satisfied: pydantic-core==2.18.2 in /usr/local/lib/python3.10/dist-packages (from pydantic<3,>=1.9.0->anthropic) (2.18.2)\n",
            "Requirement already satisfied: huggingface-hub<1.0,>=0.16.4 in /usr/local/lib/python3.10/dist-packages (from tokenizers>=0.13.0->anthropic) (0.20.3)\n",
            "Requirement already satisfied: filelock in /usr/local/lib/python3.10/dist-packages (from huggingface-hub<1.0,>=0.16.4->tokenizers>=0.13.0->anthropic) (3.14.0)\n",
            "Requirement already satisfied: fsspec>=2023.5.0 in /usr/local/lib/python3.10/dist-packages (from huggingface-hub<1.0,>=0.16.4->tokenizers>=0.13.0->anthropic) (2023.6.0)\n",
            "Requirement already satisfied: requests in /usr/local/lib/python3.10/dist-packages (from huggingface-hub<1.0,>=0.16.4->tokenizers>=0.13.0->anthropic) (2.31.0)\n",
            "Requirement already satisfied: tqdm>=4.42.1 in /usr/local/lib/python3.10/dist-packages (from huggingface-hub<1.0,>=0.16.4->tokenizers>=0.13.0->anthropic) (4.66.4)\n",
            "Requirement already satisfied: pyyaml>=5.1 in /usr/local/lib/python3.10/dist-packages (from huggingface-hub<1.0,>=0.16.4->tokenizers>=0.13.0->anthropic) (6.0.1)\n",
            "Requirement already satisfied: packaging>=20.9 in /usr/local/lib/python3.10/dist-packages (from huggingface-hub<1.0,>=0.16.4->tokenizers>=0.13.0->anthropic) (24.0)\n",
            "Requirement already satisfied: charset-normalizer<4,>=2 in /usr/local/lib/python3.10/dist-packages (from requests->huggingface-hub<1.0,>=0.16.4->tokenizers>=0.13.0->anthropic) (3.3.2)\n",
            "Requirement already satisfied: urllib3<3,>=1.21.1 in /usr/local/lib/python3.10/dist-packages (from requests->huggingface-hub<1.0,>=0.16.4->tokenizers>=0.13.0->anthropic) (2.0.7)\n",
            "Installing collected packages: h11, httpcore, httpx, anthropic\n",
            "Successfully installed anthropic-0.25.9 h11-0.14.0 httpcore-1.0.5 httpx-0.27.0\n"
          ]
        }
      ]
    },
    {
      "cell_type": "code",
      "execution_count": 5,
      "metadata": {
        "id": "7Qjk2D63v1Bl"
      },
      "outputs": [],
      "source": [
        "# Importing Anthropic & Setting Headers\n",
        "import anthropic\n",
        "\n",
        "client = anthropic.Anthropic(\n",
        "    # defaults to os.environ.get(\"ANTHROPIC_API_KEY\")\n",
        "    api_key=os.environ.get(\"ANTHROPIC_API_KEY\"),\n",
        ")"
      ]
    },
    {
      "cell_type": "markdown",
      "source": [
        "# 1. Prompt 1: Create Mathematical Model"
      ],
      "metadata": {
        "id": "kT7yKbJs18XR"
      }
    },
    {
      "cell_type": "code",
      "source": [
        "message = client.messages.create(\n",
        "    model=\"claude-3-opus-20240229\",\n",
        "    system=prompt1,\n",
        "    max_tokens=4096,\n",
        "    messages=[\n",
        "        {\"role\": \"user\", \"content\": problem_desc}\n",
        "    ]\n",
        ")\n",
        "\n",
        "response_p1 = message.content[0].text"
      ],
      "metadata": {
        "id": "R_6X0axq16D4"
      },
      "execution_count": 6,
      "outputs": []
    },
    {
      "cell_type": "code",
      "source": [
        "# Print response\n",
        "print(response_p1)"
      ],
      "metadata": {
        "colab": {
          "base_uri": "https://localhost:8080/"
        },
        "id": "Ra9Ox_PI38jg",
        "outputId": "da0f02cc-d879-403f-975e-a7e9187471df"
      },
      "execution_count": 7,
      "outputs": [
        {
          "output_type": "stream",
          "name": "stdout",
          "text": [
            "To optimize the production planning, we can formulate a linear programming model. Let's define the parameters, decision variables, objective function, and constraints.\n",
            "\n",
            "Parameters:\n",
            "- C1_max = 10,000 (maximum available quantity of C1 in litres)\n",
            "- C2_max = 15,000 (maximum available quantity of C2 in litres)\n",
            "- GCA_min = 6,000 (minimum demand for GCA in litres)\n",
            "- GCB_min = 7,000 (minimum demand for GCB in litres)\n",
            "- GCC_min = 9,000 (minimum demand for GCC in litres)\n",
            "- C1_crit = 0.4 (critical element proportion in C1)\n",
            "- C2_crit = 0.2 (critical element proportion in C2)\n",
            "- GCA_crit_min = 0.3 (minimum critical element proportion in GCA)\n",
            "- GCB_crit_max = 0.3 (maximum critical element proportion in GCB)\n",
            "- GCC_ratio_min = 0.3 (minimum ratio of C1 to C2 in GCC)\n",
            "- GCA_profit = 120 (profit per litre of GCA)\n",
            "- GCB_profit = 135 (profit per litre of GCB)\n",
            "- GCC_profit = 155 (profit per litre of GCC)\n",
            "\n",
            "Decision Variables:\n",
            "- x1: quantity of C1 used in GCA (in litres)\n",
            "- x2: quantity of C2 used in GCA (in litres)\n",
            "- y1: quantity of C1 used in GCB (in litres)\n",
            "- y2: quantity of C2 used in GCB (in litres)\n",
            "- z1: quantity of C1 used in GCC (in litres)\n",
            "- z2: quantity of C2 used in GCC (in litres)\n",
            "\n",
            "Objective Function:\n",
            "Maximize Total Profit = GCA_profit * (x1 + x2) + GCB_profit * (y1 + y2) + GCC_profit * (z1 + z2)\n",
            "\n",
            "Constraints:\n",
            "1. Component Availability:\n",
            "   - x1 + y1 + z1 ≤ C1_max\n",
            "   - x2 + y2 + z2 ≤ C2_max\n",
            "2. Minimum Demand:\n",
            "   - x1 + x2 ≥ GCA_min\n",
            "   - y1 + y2 ≥ GCB_min\n",
            "   - z1 + z2 ≥ GCC_min\n",
            "3. Critical Element Proportion:\n",
            "   - C1_crit * x1 + C2_crit * x2 ≥ GCA_crit_min * (x1 + x2)\n",
            "   - C1_crit * y1 + C2_crit * y2 ≤ GCB_crit_max * (y1 + y2)\n",
            "4. Minimum Ratio in GCC:\n",
            "   - z1 ≥ GCC_ratio_min * z2\n",
            "5. Non-negativity:\n",
            "   - x1, x2, y1, y2, z1, z2 ≥ 0\n",
            "\n",
            "By solving this linear programming model, we can determine the optimal production quantities of GCA, GCB, and GCC that maximize the total profit while satisfying all the constraints on component availability, minimum demand, critical element proportions, and minimum ratio in GCC.\n"
          ]
        }
      ]
    },
    {
      "cell_type": "markdown",
      "source": [
        "# 2. Prompt 2: Write Code based on Mathematical Model"
      ],
      "metadata": {
        "id": "WPZ6lgBO729j"
      }
    },
    {
      "cell_type": "code",
      "source": [
        "message2 = client.messages.create(\n",
        "    model=\"claude-3-opus-20240229\",\n",
        "    system=prompt2,\n",
        "    max_tokens=4069,\n",
        "    messages=[\n",
        "        {\"role\": \"user\", \"content\": response_p1}\n",
        "    ]\n",
        ")\n",
        "\n",
        "response_p2 = message2.content[0].text"
      ],
      "metadata": {
        "id": "1iUSgBda70FL"
      },
      "execution_count": 11,
      "outputs": []
    },
    {
      "cell_type": "code",
      "source": [
        "# Print response\n",
        "print(response_p2)"
      ],
      "metadata": {
        "colab": {
          "base_uri": "https://localhost:8080/"
        },
        "id": "o40mxc_H8eQ9",
        "outputId": "59245abb-a434-42d9-c45b-3312f0e3b63b"
      },
      "execution_count": 12,
      "outputs": [
        {
          "output_type": "stream",
          "name": "stdout",
          "text": [
            "Here's the Python Pyomo code for the optimization problem:\n",
            "\n",
            "```python\n",
            "from pyomo.environ import *\n",
            "\n",
            "# Create a Concrete Model\n",
            "model = ConcreteModel()\n",
            "\n",
            "# Define the decision variables\n",
            "model.x1 = Var(within=NonNegativeReals)\n",
            "model.x2 = Var(within=NonNegativeReals)\n",
            "model.y1 = Var(within=NonNegativeReals)\n",
            "model.y2 = Var(within=NonNegativeReals)\n",
            "model.z1 = Var(within=NonNegativeReals)\n",
            "model.z2 = Var(within=NonNegativeReals)\n",
            "\n",
            "# Define the parameters (using sample data)\n",
            "model.C1_max = Param(initialize=10000)\n",
            "model.C2_max = Param(initialize=15000)\n",
            "model.GCA_min = Param(initialize=6000)\n",
            "model.GCB_min = Param(initialize=7000)\n",
            "model.GCC_min = Param(initialize=9000)\n",
            "model.C1_crit = Param(initialize=0.4)\n",
            "model.C2_crit = Param(initialize=0.2)\n",
            "model.GCA_crit_min = Param(initialize=0.3)\n",
            "model.GCB_crit_max = Param(initialize=0.3)\n",
            "model.GCC_ratio_min = Param(initialize=0.3)\n",
            "model.GCA_profit = Param(initialize=120)\n",
            "model.GCB_profit = Param(initialize=135)\n",
            "model.GCC_profit = Param(initialize=155)\n",
            "\n",
            "# Define the objective function\n",
            "def obj_rule(model):\n",
            "    return model.GCA_profit * (model.x1 + model.x2) + model.GCB_profit * (model.y1 + model.y2) + model.GCC_profit * (model.z1 + model.z2)\n",
            "model.obj = Objective(rule=obj_rule, sense=maximize)\n",
            "\n",
            "# Define the constraints\n",
            "def component_availability_c1(model):\n",
            "    return model.x1 + model.y1 + model.z1 <= model.C1_max\n",
            "model.component_availability_c1_constraint = Constraint(rule=component_availability_c1)\n",
            "\n",
            "def component_availability_c2(model):\n",
            "    return model.x2 + model.y2 + model.z2 <= model.C2_max\n",
            "model.component_availability_c2_constraint = Constraint(rule=component_availability_c2)\n",
            "\n",
            "def minimum_demand_gca(model):\n",
            "    return model.x1 + model.x2 >= model.GCA_min\n",
            "model.minimum_demand_gca_constraint = Constraint(rule=minimum_demand_gca)\n",
            "\n",
            "def minimum_demand_gcb(model):\n",
            "    return model.y1 + model.y2 >= model.GCB_min\n",
            "model.minimum_demand_gcb_constraint = Constraint(rule=minimum_demand_gcb)\n",
            "\n",
            "def minimum_demand_gcc(model):\n",
            "    return model.z1 + model.z2 >= model.GCC_min\n",
            "model.minimum_demand_gcc_constraint = Constraint(rule=minimum_demand_gcc)\n",
            "\n",
            "def critical_element_gca(model):\n",
            "    return model.C1_crit * model.x1 + model.C2_crit * model.x2 >= model.GCA_crit_min * (model.x1 + model.x2)\n",
            "model.critical_element_gca_constraint = Constraint(rule=critical_element_gca)\n",
            "\n",
            "def critical_element_gcb(model):\n",
            "    return model.C1_crit * model.y1 + model.C2_crit * model.y2 <= model.GCB_crit_max * (model.y1 + model.y2)\n",
            "model.critical_element_gcb_constraint = Constraint(rule=critical_element_gcb)\n",
            "\n",
            "def minimum_ratio_gcc(model):\n",
            "    return model.z1 >= model.GCC_ratio_min * model.z2\n",
            "model.minimum_ratio_gcc_constraint = Constraint(rule=minimum_ratio_gcc)\n",
            "\n",
            "# Solve the optimization problem\n",
            "solver = SolverFactory('glpk')\n",
            "results = solver.solve(model)\n",
            "\n",
            "# Print the results\n",
            "print(\"Optimal Solution:\")\n",
            "print(\"x1 =\", model.x1.value)\n",
            "print(\"x2 =\", model.x2.value)\n",
            "print(\"y1 =\", model.y1.value)\n",
            "print(\"y2 =\", model.y2.value)\n",
            "print(\"z1 =\", model.z1.value)\n",
            "print(\"z2 =\", model.z2.value)\n",
            "print(\"Total Profit =\", model.obj())\n",
            "```\n",
            "\n",
            "In this code, I used sample data for the parameters as indicated in the problem description. You can replace these values with your specific data.\n",
            "\n",
            "The code follows the problem formulation and defines the decision variables, parameters, objective function, and constraints using Pyomo. The `glpk` solver is used to solve the optimization problem. Finally, the optimal solution and total profit are printed.\n",
            "\n",
            "Note: Make sure you have Pyomo and the `glpk` solver installed to run this code.\n"
          ]
        }
      ]
    },
    {
      "cell_type": "markdown",
      "source": [
        "# 4. Input Problem Data and Test Model Code"
      ],
      "metadata": {
        "id": "Pc0QqJuf8up_"
      }
    },
    {
      "cell_type": "code",
      "source": [
        "# Installing pyomo nd solver\n",
        "!pip install -q pyomo\n",
        "!apt-get install -y -qq glpk-utils\n",
        "!pip install glpk"
      ],
      "metadata": {
        "colab": {
          "base_uri": "https://localhost:8080/"
        },
        "id": "3BtROuLu9O-p",
        "outputId": "ea0c3a0d-accb-4ae7-9588-0e67513dcae9"
      },
      "execution_count": 13,
      "outputs": [
        {
          "output_type": "stream",
          "name": "stdout",
          "text": [
            "\u001b[2K     \u001b[90m━━━━━━━━━━━━━━━━━━━━━━━━━━━━━━━━━━━━━━━━\u001b[0m \u001b[32m12.8/12.8 MB\u001b[0m \u001b[31m24.3 MB/s\u001b[0m eta \u001b[36m0:00:00\u001b[0m\n",
            "\u001b[2K     \u001b[90m━━━━━━━━━━━━━━━━━━━━━━━━━━━━━━━━━━━━━━━━\u001b[0m \u001b[32m49.6/49.6 kB\u001b[0m \u001b[31m5.1 MB/s\u001b[0m eta \u001b[36m0:00:00\u001b[0m\n",
            "\u001b[?25hSelecting previously unselected package libsuitesparseconfig5:amd64.\n",
            "(Reading database ... 121918 files and directories currently installed.)\n",
            "Preparing to unpack .../libsuitesparseconfig5_1%3a5.10.1+dfsg-4build1_amd64.deb ...\n",
            "Unpacking libsuitesparseconfig5:amd64 (1:5.10.1+dfsg-4build1) ...\n",
            "Selecting previously unselected package libamd2:amd64.\n",
            "Preparing to unpack .../libamd2_1%3a5.10.1+dfsg-4build1_amd64.deb ...\n",
            "Unpacking libamd2:amd64 (1:5.10.1+dfsg-4build1) ...\n",
            "Selecting previously unselected package libcolamd2:amd64.\n",
            "Preparing to unpack .../libcolamd2_1%3a5.10.1+dfsg-4build1_amd64.deb ...\n",
            "Unpacking libcolamd2:amd64 (1:5.10.1+dfsg-4build1) ...\n",
            "Selecting previously unselected package libglpk40:amd64.\n",
            "Preparing to unpack .../libglpk40_5.0-1_amd64.deb ...\n",
            "Unpacking libglpk40:amd64 (5.0-1) ...\n",
            "Selecting previously unselected package glpk-utils.\n",
            "Preparing to unpack .../glpk-utils_5.0-1_amd64.deb ...\n",
            "Unpacking glpk-utils (5.0-1) ...\n",
            "Setting up libsuitesparseconfig5:amd64 (1:5.10.1+dfsg-4build1) ...\n",
            "Setting up libamd2:amd64 (1:5.10.1+dfsg-4build1) ...\n",
            "Setting up libcolamd2:amd64 (1:5.10.1+dfsg-4build1) ...\n",
            "Setting up libglpk40:amd64 (5.0-1) ...\n",
            "Setting up glpk-utils (5.0-1) ...\n",
            "Processing triggers for man-db (2.10.2-1) ...\n",
            "Processing triggers for libc-bin (2.35-0ubuntu3.4) ...\n",
            "/sbin/ldconfig.real: /usr/local/lib/libtbbbind_2_5.so.3 is not a symbolic link\n",
            "\n",
            "/sbin/ldconfig.real: /usr/local/lib/libtbbmalloc.so.2 is not a symbolic link\n",
            "\n",
            "/sbin/ldconfig.real: /usr/local/lib/libtbbbind.so.3 is not a symbolic link\n",
            "\n",
            "/sbin/ldconfig.real: /usr/local/lib/libtbbmalloc_proxy.so.2 is not a symbolic link\n",
            "\n",
            "/sbin/ldconfig.real: /usr/local/lib/libtbb.so.12 is not a symbolic link\n",
            "\n",
            "/sbin/ldconfig.real: /usr/local/lib/libtbbbind_2_0.so.3 is not a symbolic link\n",
            "\n",
            "Collecting glpk\n",
            "  Downloading glpk-0.4.7.tar.gz (161 kB)\n",
            "\u001b[2K     \u001b[90m━━━━━━━━━━━━━━━━━━━━━━━━━━━━━━━━━━━━━━━━\u001b[0m \u001b[32m161.2/161.2 kB\u001b[0m \u001b[31m4.1 MB/s\u001b[0m eta \u001b[36m0:00:00\u001b[0m\n",
            "\u001b[?25h  Installing build dependencies ... \u001b[?25l\u001b[?25hdone\n",
            "  Getting requirements to build wheel ... \u001b[?25l\u001b[?25hdone\n",
            "  Preparing metadata (pyproject.toml) ... \u001b[?25l\u001b[?25hdone\n",
            "Building wheels for collected packages: glpk\n",
            "  \u001b[1;31merror\u001b[0m: \u001b[1msubprocess-exited-with-error\u001b[0m\n",
            "  \n",
            "  \u001b[31m×\u001b[0m \u001b[32mBuilding wheel for glpk \u001b[0m\u001b[1;32m(\u001b[0m\u001b[32mpyproject.toml\u001b[0m\u001b[1;32m)\u001b[0m did not run successfully.\n",
            "  \u001b[31m│\u001b[0m exit code: \u001b[1;36m1\u001b[0m\n",
            "  \u001b[31m╰─>\u001b[0m See above for output.\n",
            "  \n",
            "  \u001b[1;35mnote\u001b[0m: This error originates from a subprocess, and is likely not a problem with pip.\n",
            "  Building wheel for glpk (pyproject.toml) ... \u001b[?25l\u001b[?25herror\n",
            "\u001b[31m  ERROR: Failed building wheel for glpk\u001b[0m\u001b[31m\n",
            "\u001b[0mFailed to build glpk\n",
            "\u001b[31mERROR: Could not build wheels for glpk, which is required to install pyproject.toml-based projects\u001b[0m\u001b[31m\n",
            "\u001b[0m"
          ]
        }
      ]
    },
    {
      "cell_type": "code",
      "source": [
        "from pyomo.environ import *\n",
        "\n",
        "# Create a Concrete Model\n",
        "model = ConcreteModel()\n",
        "\n",
        "# Define the decision variables\n",
        "model.x1 = Var(within=NonNegativeReals)\n",
        "model.x2 = Var(within=NonNegativeReals)\n",
        "model.y1 = Var(within=NonNegativeReals)\n",
        "model.y2 = Var(within=NonNegativeReals)\n",
        "model.z1 = Var(within=NonNegativeReals)\n",
        "model.z2 = Var(within=NonNegativeReals)\n",
        "\n",
        "# Define the parameters (using sample data)\n",
        "model.C1_max = Param(initialize=10000)\n",
        "model.C2_max = Param(initialize=15000)\n",
        "model.GCA_min = Param(initialize=6000)\n",
        "model.GCB_min = Param(initialize=7000)\n",
        "model.GCC_min = Param(initialize=9000)\n",
        "model.C1_crit = Param(initialize=0.4)\n",
        "model.C2_crit = Param(initialize=0.2)\n",
        "model.GCA_crit_min = Param(initialize=0.3)\n",
        "model.GCB_crit_max = Param(initialize=0.3)\n",
        "model.GCC_ratio_min = Param(initialize=0.3)\n",
        "model.GCA_profit = Param(initialize=120)\n",
        "model.GCB_profit = Param(initialize=135)\n",
        "model.GCC_profit = Param(initialize=155)\n",
        "\n",
        "# Define the objective function\n",
        "def obj_rule(model):\n",
        "    return model.GCA_profit * (model.x1 + model.x2) + model.GCB_profit * (model.y1 + model.y2) + model.GCC_profit * (model.z1 + model.z2)\n",
        "model.obj = Objective(rule=obj_rule, sense=maximize)\n",
        "\n",
        "# Define the constraints\n",
        "def component_availability_c1(model):\n",
        "    return model.x1 + model.y1 + model.z1 <= model.C1_max\n",
        "model.component_availability_c1_constraint = Constraint(rule=component_availability_c1)\n",
        "\n",
        "def component_availability_c2(model):\n",
        "    return model.x2 + model.y2 + model.z2 <= model.C2_max\n",
        "model.component_availability_c2_constraint = Constraint(rule=component_availability_c2)\n",
        "\n",
        "def minimum_demand_gca(model):\n",
        "    return model.x1 + model.x2 >= model.GCA_min\n",
        "model.minimum_demand_gca_constraint = Constraint(rule=minimum_demand_gca)\n",
        "\n",
        "def minimum_demand_gcb(model):\n",
        "    return model.y1 + model.y2 >= model.GCB_min\n",
        "model.minimum_demand_gcb_constraint = Constraint(rule=minimum_demand_gcb)\n",
        "\n",
        "def minimum_demand_gcc(model):\n",
        "    return model.z1 + model.z2 >= model.GCC_min\n",
        "model.minimum_demand_gcc_constraint = Constraint(rule=minimum_demand_gcc)\n",
        "\n",
        "def critical_element_gca(model):\n",
        "    return model.C1_crit * model.x1 + model.C2_crit * model.x2 >= model.GCA_crit_min * (model.x1 + model.x2)\n",
        "model.critical_element_gca_constraint = Constraint(rule=critical_element_gca)\n",
        "\n",
        "def critical_element_gcb(model):\n",
        "    return model.C1_crit * model.y1 + model.C2_crit * model.y2 <= model.GCB_crit_max * (model.y1 + model.y2)\n",
        "model.critical_element_gcb_constraint = Constraint(rule=critical_element_gcb)\n",
        "\n",
        "def minimum_ratio_gcc(model):\n",
        "    return model.z1 >= model.GCC_ratio_min * model.z2\n",
        "model.minimum_ratio_gcc_constraint = Constraint(rule=minimum_ratio_gcc)\n",
        "\n",
        "# Solve the optimization problem\n",
        "solver = SolverFactory('glpk')\n",
        "results = solver.solve(model)\n",
        "\n",
        "# Print the results\n",
        "print(\"Optimal Solution:\")\n",
        "print(\"x1 =\", model.x1.value)\n",
        "print(\"x2 =\", model.x2.value)\n",
        "print(\"y1 =\", model.y1.value)\n",
        "print(\"y2 =\", model.y2.value)\n",
        "print(\"z1 =\", model.z1.value)\n",
        "print(\"z2 =\", model.z2.value)\n",
        "print(\"Total Profit =\", model.obj())"
      ],
      "metadata": {
        "colab": {
          "base_uri": "https://localhost:8080/"
        },
        "id": "8FpHcuWU8rQ2",
        "outputId": "863b40b9-fd0a-4476-b457-acfbee953828"
      },
      "execution_count": 14,
      "outputs": [
        {
          "output_type": "stream",
          "name": "stdout",
          "text": [
            "Optimal Solution:\n",
            "x1 = 3730.76923076923\n",
            "x2 = 2269.23076923077\n",
            "y1 = 3500.0\n",
            "y2 = 3500.0\n",
            "z1 = 2769.23076923077\n",
            "z2 = 9230.76923076923\n",
            "Total Profit = 3525000.0\n"
          ]
        }
      ]
    },
    {
      "cell_type": "markdown",
      "source": [
        "# 5. Correct The Model Code to Test Mathematical Model (if applicable)"
      ],
      "metadata": {
        "id": "KHTyoLQTWZVy"
      }
    },
    {
      "cell_type": "code",
      "source": [],
      "metadata": {
        "id": "REJzqhR6WYvM"
      },
      "execution_count": null,
      "outputs": []
    }
  ]
}