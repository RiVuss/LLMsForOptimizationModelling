{
  "nbformat": 4,
  "nbformat_minor": 0,
  "metadata": {
    "colab": {
      "provenance": []
    },
    "kernelspec": {
      "name": "python3",
      "display_name": "Python 3"
    },
    "language_info": {
      "name": "python"
    }
  },
  "cells": [
    {
      "cell_type": "markdown",
      "source": [
        "# 0. Imports and Setting up Anthropic API Client"
      ],
      "metadata": {
        "id": "y5fw0lkBwBbo"
      }
    },
    {
      "cell_type": "code",
      "source": [
        "from google.colab import drive\n",
        "\n",
        "drive.mount('/content/drive')"
      ],
      "metadata": {
        "colab": {
          "base_uri": "https://localhost:8080/"
        },
        "id": "e7tWOLo0yMoH",
        "outputId": "1672c8d3-15ee-4267-e446-fae23b95a755"
      },
      "execution_count": 1,
      "outputs": [
        {
          "output_type": "stream",
          "name": "stdout",
          "text": [
            "Mounted at /content/drive\n"
          ]
        }
      ]
    },
    {
      "cell_type": "code",
      "source": [
        "!pip install python-dotenv\n",
        "\n",
        "import os\n",
        "import dotenv\n",
        "\n",
        "dotenv.load_dotenv('/content/drive/MyDrive/.env')"
      ],
      "metadata": {
        "colab": {
          "base_uri": "https://localhost:8080/"
        },
        "id": "utcEK8lZ1Z1R",
        "outputId": "97697721-4df5-43b0-dbb3-951f6e479ed5"
      },
      "execution_count": 2,
      "outputs": [
        {
          "output_type": "stream",
          "name": "stdout",
          "text": [
            "Collecting python-dotenv\n",
            "  Downloading python_dotenv-1.0.1-py3-none-any.whl (19 kB)\n",
            "Installing collected packages: python-dotenv\n",
            "Successfully installed python-dotenv-1.0.1\n"
          ]
        },
        {
          "output_type": "execute_result",
          "data": {
            "text/plain": [
              "True"
            ]
          },
          "metadata": {},
          "execution_count": 2
        }
      ]
    },
    {
      "cell_type": "code",
      "source": [
        "# Load Prompts and Problem Description\n",
        "prompt1_path = '/content/drive/MyDrive/Thesis/Prompts/Prompt1_MathematicalModel.txt'\n",
        "prompt2_path = '/content/drive/MyDrive/Thesis/Prompts/Prompt2_PyomoCode.txt'\n",
        "problem_desc_path = '/content/drive/MyDrive/Thesis/ProblemDescriptions/LP/LP2.txt'\n",
        "\n",
        "prompt1_file = open(prompt1_path, \"r\")\n",
        "prompt2_file = open(prompt2_path, \"r\")\n",
        "problem_desc_file = open(problem_desc_path, \"r\")\n",
        "\n",
        "prompt1 = prompt1_file.read()\n",
        "print(\"Prompt 1:\\n\", prompt1)\n",
        "\n",
        "prompt2 = prompt2_file.read()\n",
        "print(\"Prompt 2:\\n\", prompt2)\n",
        "\n",
        "problem_desc = problem_desc_file.read()\n",
        "print(\"Problem Description:\\n\", problem_desc)"
      ],
      "metadata": {
        "colab": {
          "base_uri": "https://localhost:8080/"
        },
        "id": "9KlkjwMUS4xp",
        "outputId": "eced10f6-ec22-4813-f798-4704ee5d1698"
      },
      "execution_count": 3,
      "outputs": [
        {
          "output_type": "stream",
          "name": "stdout",
          "text": [
            "Prompt 1:\n",
            " Please write a mathematical optimization model for this problem. Include parameters, decision variables, the objective function and the constraints in your answer.\n",
            "Prompt 2:\n",
            " Please write a python pyomo code for this optimization problem.\n",
            "Use sample data where needed.\n",
            "Indicate where you use sample data.\n",
            "Problem Description:\n",
            " You are in charge of the supply purchasing of a company that produces two kinds of drugs. \n",
            "The drugs contain a specific active agent, which is extracted from two different kinds of raw materials that should be purchased on the market. \n",
            "\n",
            "The goal is to maximize the total profit obtained from producing the drugs, which means minimizing purchasing costs for buying the raw materials and minimizing operational costs for producing the drugs while maximizing sales. \n",
            "\n",
            "You are given a budget for purchasing raw materials and operating the production process of the drugs which cannot be exceeded. \n",
            "Additionally, you need to keep the capacity constraints for the production of the drugs in mind as there is only a limited amount of manpower as well as equipment hours available. \n",
            "Your company can also only store a limited amount of raw materials. \n",
            "Most importantly, the amount of active ingredient extracted from the raw materials you purchase needs to satisfy the required amount of active ingredient in the drugs your company produces. \n",
            "Importantly, your experience with the production of the drugs has shown the the amount of active ingredient your process extracts from the two raw materials can vary by up to 0.5% and 2%, respectively. \n",
            "During purchasing, you need to make sure that no matter how much the amount of active ingredient varies, the required amount for the drug production is always met. \n"
          ]
        }
      ]
    },
    {
      "cell_type": "code",
      "source": [
        "!pip install anthropic"
      ],
      "metadata": {
        "colab": {
          "base_uri": "https://localhost:8080/"
        },
        "id": "iWlNsTIvxCcR",
        "outputId": "b296f4f2-c6c2-4616-af2e-26a8d8045c49",
        "collapsed": true
      },
      "execution_count": 4,
      "outputs": [
        {
          "output_type": "stream",
          "name": "stdout",
          "text": [
            "Collecting anthropic\n",
            "  Downloading anthropic-0.25.9-py3-none-any.whl (871 kB)\n",
            "\u001b[2K     \u001b[90m━━━━━━━━━━━━━━━━━━━━━━━━━━━━━━━━━━━━━━━━\u001b[0m \u001b[32m871.1/871.1 kB\u001b[0m \u001b[31m8.4 MB/s\u001b[0m eta \u001b[36m0:00:00\u001b[0m\n",
            "\u001b[?25hRequirement already satisfied: anyio<5,>=3.5.0 in /usr/local/lib/python3.10/dist-packages (from anthropic) (3.7.1)\n",
            "Requirement already satisfied: distro<2,>=1.7.0 in /usr/lib/python3/dist-packages (from anthropic) (1.7.0)\n",
            "Collecting httpx<1,>=0.23.0 (from anthropic)\n",
            "  Downloading httpx-0.27.0-py3-none-any.whl (75 kB)\n",
            "\u001b[2K     \u001b[90m━━━━━━━━━━━━━━━━━━━━━━━━━━━━━━━━━━━━━━━━\u001b[0m \u001b[32m75.6/75.6 kB\u001b[0m \u001b[31m9.1 MB/s\u001b[0m eta \u001b[36m0:00:00\u001b[0m\n",
            "\u001b[?25hRequirement already satisfied: pydantic<3,>=1.9.0 in /usr/local/lib/python3.10/dist-packages (from anthropic) (2.7.1)\n",
            "Requirement already satisfied: sniffio in /usr/local/lib/python3.10/dist-packages (from anthropic) (1.3.1)\n",
            "Requirement already satisfied: tokenizers>=0.13.0 in /usr/local/lib/python3.10/dist-packages (from anthropic) (0.19.1)\n",
            "Requirement already satisfied: typing-extensions<5,>=4.7 in /usr/local/lib/python3.10/dist-packages (from anthropic) (4.11.0)\n",
            "Requirement already satisfied: idna>=2.8 in /usr/local/lib/python3.10/dist-packages (from anyio<5,>=3.5.0->anthropic) (3.7)\n",
            "Requirement already satisfied: exceptiongroup in /usr/local/lib/python3.10/dist-packages (from anyio<5,>=3.5.0->anthropic) (1.2.1)\n",
            "Requirement already satisfied: certifi in /usr/local/lib/python3.10/dist-packages (from httpx<1,>=0.23.0->anthropic) (2024.2.2)\n",
            "Collecting httpcore==1.* (from httpx<1,>=0.23.0->anthropic)\n",
            "  Downloading httpcore-1.0.5-py3-none-any.whl (77 kB)\n",
            "\u001b[2K     \u001b[90m━━━━━━━━━━━━━━━━━━━━━━━━━━━━━━━━━━━━━━━━\u001b[0m \u001b[32m77.9/77.9 kB\u001b[0m \u001b[31m7.4 MB/s\u001b[0m eta \u001b[36m0:00:00\u001b[0m\n",
            "\u001b[?25hCollecting h11<0.15,>=0.13 (from httpcore==1.*->httpx<1,>=0.23.0->anthropic)\n",
            "  Downloading h11-0.14.0-py3-none-any.whl (58 kB)\n",
            "\u001b[2K     \u001b[90m━━━━━━━━━━━━━━━━━━━━━━━━━━━━━━━━━━━━━━━━\u001b[0m \u001b[32m58.3/58.3 kB\u001b[0m \u001b[31m6.2 MB/s\u001b[0m eta \u001b[36m0:00:00\u001b[0m\n",
            "\u001b[?25hRequirement already satisfied: annotated-types>=0.4.0 in /usr/local/lib/python3.10/dist-packages (from pydantic<3,>=1.9.0->anthropic) (0.6.0)\n",
            "Requirement already satisfied: pydantic-core==2.18.2 in /usr/local/lib/python3.10/dist-packages (from pydantic<3,>=1.9.0->anthropic) (2.18.2)\n",
            "Requirement already satisfied: huggingface-hub<1.0,>=0.16.4 in /usr/local/lib/python3.10/dist-packages (from tokenizers>=0.13.0->anthropic) (0.20.3)\n",
            "Requirement already satisfied: filelock in /usr/local/lib/python3.10/dist-packages (from huggingface-hub<1.0,>=0.16.4->tokenizers>=0.13.0->anthropic) (3.14.0)\n",
            "Requirement already satisfied: fsspec>=2023.5.0 in /usr/local/lib/python3.10/dist-packages (from huggingface-hub<1.0,>=0.16.4->tokenizers>=0.13.0->anthropic) (2023.6.0)\n",
            "Requirement already satisfied: requests in /usr/local/lib/python3.10/dist-packages (from huggingface-hub<1.0,>=0.16.4->tokenizers>=0.13.0->anthropic) (2.31.0)\n",
            "Requirement already satisfied: tqdm>=4.42.1 in /usr/local/lib/python3.10/dist-packages (from huggingface-hub<1.0,>=0.16.4->tokenizers>=0.13.0->anthropic) (4.66.4)\n",
            "Requirement already satisfied: pyyaml>=5.1 in /usr/local/lib/python3.10/dist-packages (from huggingface-hub<1.0,>=0.16.4->tokenizers>=0.13.0->anthropic) (6.0.1)\n",
            "Requirement already satisfied: packaging>=20.9 in /usr/local/lib/python3.10/dist-packages (from huggingface-hub<1.0,>=0.16.4->tokenizers>=0.13.0->anthropic) (24.0)\n",
            "Requirement already satisfied: charset-normalizer<4,>=2 in /usr/local/lib/python3.10/dist-packages (from requests->huggingface-hub<1.0,>=0.16.4->tokenizers>=0.13.0->anthropic) (3.3.2)\n",
            "Requirement already satisfied: urllib3<3,>=1.21.1 in /usr/local/lib/python3.10/dist-packages (from requests->huggingface-hub<1.0,>=0.16.4->tokenizers>=0.13.0->anthropic) (2.0.7)\n",
            "Installing collected packages: h11, httpcore, httpx, anthropic\n",
            "Successfully installed anthropic-0.25.9 h11-0.14.0 httpcore-1.0.5 httpx-0.27.0\n"
          ]
        }
      ]
    },
    {
      "cell_type": "code",
      "execution_count": 5,
      "metadata": {
        "id": "7Qjk2D63v1Bl"
      },
      "outputs": [],
      "source": [
        "# Importing Anthropic & Setting Headers\n",
        "import anthropic\n",
        "\n",
        "client = anthropic.Anthropic(\n",
        "    # defaults to os.environ.get(\"ANTHROPIC_API_KEY\")\n",
        "    api_key=os.environ.get(\"ANTHROPIC_API_KEY\"),\n",
        ")"
      ]
    },
    {
      "cell_type": "markdown",
      "source": [
        "# 1. Prompt 1: Create Mathematical Model"
      ],
      "metadata": {
        "id": "kT7yKbJs18XR"
      }
    },
    {
      "cell_type": "code",
      "source": [
        "message = client.messages.create(\n",
        "    model=\"claude-3-opus-20240229\",\n",
        "    system=prompt1,\n",
        "    max_tokens=4096,\n",
        "    messages=[\n",
        "        {\"role\": \"user\", \"content\": problem_desc}\n",
        "    ]\n",
        ")\n",
        "\n",
        "response_p1 = message.content[0].text"
      ],
      "metadata": {
        "id": "R_6X0axq16D4"
      },
      "execution_count": 6,
      "outputs": []
    },
    {
      "cell_type": "code",
      "source": [
        "# Print response\n",
        "print(response_p1)"
      ],
      "metadata": {
        "colab": {
          "base_uri": "https://localhost:8080/"
        },
        "id": "Ra9Ox_PI38jg",
        "outputId": "ce32e4ac-451a-48ab-ec44-016b7ba1d15f"
      },
      "execution_count": 7,
      "outputs": [
        {
          "output_type": "stream",
          "name": "stdout",
          "text": [
            "Here is a mathematical optimization model for the drug production problem:\n",
            "\n",
            "Parameters:\n",
            "- D: Set of drugs (index d)\n",
            "- R: Set of raw materials (index r)\n",
            "- p_d: Unit selling price of drug d\n",
            "- c_r: Unit purchasing cost of raw material r\n",
            "- o_d: Unit operational cost of producing drug d\n",
            "- B: Budget for purchasing raw materials and operating production\n",
            "- M_d: Maximum production capacity of drug d (limited by manpower and equipment hours)\n",
            "- S_r: Maximum storage capacity for raw material r\n",
            "- a_dr: Amount of active ingredient extracted from one unit of raw material r required for one unit of drug d\n",
            "- α_r: Maximum percentage of variation in active ingredient extraction from raw material r (0.5% for r=1, 2% for r=2)\n",
            "\n",
            "Decision Variables:\n",
            "- x_d: Amount of drug d to produce\n",
            "- y_r: Amount of raw material r to purchase\n",
            "\n",
            "Objective Function:\n",
            "Maximize total profit = total revenue - total purchasing cost - total operational cost\n",
            "max ∑_{d ∈ D} p_d * x_d - ∑_{r ∈ R} c_r * y_r - ∑_{d ∈ D} o_d * x_d\n",
            "\n",
            "Constraints:\n",
            "1. Budget constraint:\n",
            "   ∑_{r ∈ R} c_r * y_r + ∑_{d ∈ D} o_d * x_d ≤ B\n",
            "\n",
            "2. Production capacity constraints for each drug d:\n",
            "   x_d ≤ M_d, ∀d ∈ D\n",
            "\n",
            "3. Storage capacity constraints for each raw material r:\n",
            "   y_r ≤ S_r, ∀r ∈ R\n",
            "\n",
            "4. Active ingredient requirement constraints for each drug d:\n",
            "   ∑_{r ∈ R} (1 - α_r) * a_dr * y_r ≥ ∑_{d ∈ D} a_dr * x_d, ∀d ∈ D\n",
            "\n",
            "5. Non-negativity constraints:\n",
            "   x_d ≥ 0, ∀d ∈ D\n",
            "   y_r ≥ 0, ∀r ∈ R\n",
            "\n",
            "This optimization model aims to maximize the total profit by determining the optimal amount of drugs to produce (x_d) and raw materials to purchase (y_r), subject to budget, production capacity, storage capacity, and active ingredient requirement constraints. The active ingredient requirement constraints ensure that the amount of active ingredient extracted from the purchased raw materials is always sufficient for the drug production, even with the given variation in extraction rates.\n"
          ]
        }
      ]
    },
    {
      "cell_type": "markdown",
      "source": [
        "# 2. Prompt 2: Write Code based on Mathematical Model"
      ],
      "metadata": {
        "id": "WPZ6lgBO729j"
      }
    },
    {
      "cell_type": "code",
      "source": [
        "message2 = client.messages.create(\n",
        "    model=\"claude-3-opus-20240229\",\n",
        "    system=prompt2,\n",
        "    max_tokens=4069,\n",
        "    messages=[\n",
        "        {\"role\": \"user\", \"content\": response_p1}\n",
        "    ]\n",
        ")\n",
        "\n",
        "response_p2 = message2.content[0].text"
      ],
      "metadata": {
        "id": "1iUSgBda70FL"
      },
      "execution_count": 8,
      "outputs": []
    },
    {
      "cell_type": "code",
      "source": [
        "# Print response\n",
        "print(response_p2)"
      ],
      "metadata": {
        "colab": {
          "base_uri": "https://localhost:8080/"
        },
        "id": "o40mxc_H8eQ9",
        "outputId": "42eeb037-4842-4cac-cc51-f563d69f09be"
      },
      "execution_count": 9,
      "outputs": [
        {
          "output_type": "stream",
          "name": "stdout",
          "text": [
            "Here's a Python Pyomo code for the drug production optimization problem:\n",
            "\n",
            "```python\n",
            "from pyomo.environ import *\n",
            "\n",
            "# Define the model\n",
            "model = ConcreteModel()\n",
            "\n",
            "# Define sets\n",
            "model.D = Set(initialize=['Drug1', 'Drug2'])  # Set of drugs (sample data)\n",
            "model.R = Set(initialize=['Raw1', 'Raw2'])  # Set of raw materials (sample data)\n",
            "\n",
            "# Define parameters\n",
            "model.p = Param(model.D, initialize={'Drug1': 10, 'Drug2': 15})  # Unit selling price of drugs (sample data)\n",
            "model.c = Param(model.R, initialize={'Raw1': 5, 'Raw2': 8})  # Unit purchasing cost of raw materials (sample data)\n",
            "model.o = Param(model.D, initialize={'Drug1': 2, 'Drug2': 3})  # Unit operational cost of drugs (sample data)\n",
            "model.B = Param(initialize=1000)  # Budget (sample data)\n",
            "model.M = Param(model.D, initialize={'Drug1': 100, 'Drug2': 80})  # Maximum production capacity of drugs (sample data)\n",
            "model.S = Param(model.R, initialize={'Raw1': 500, 'Raw2': 400})  # Maximum storage capacity of raw materials (sample data)\n",
            "model.a = Param(model.D, model.R, initialize={\n",
            "    ('Drug1', 'Raw1'): 2, ('Drug1', 'Raw2'): 1,\n",
            "    ('Drug2', 'Raw1'): 1, ('Drug2', 'Raw2'): 3\n",
            "})  # Amount of active ingredient required per unit of drug (sample data)\n",
            "model.alpha = Param(model.R, initialize={'Raw1': 0.005, 'Raw2': 0.02})  # Maximum percentage variation in extraction (sample data)\n",
            "\n",
            "# Define decision variables\n",
            "model.x = Var(model.D, within=NonNegativeReals)  # Amount of drugs to produce\n",
            "model.y = Var(model.R, within=NonNegativeReals)  # Amount of raw materials to purchase\n",
            "\n",
            "# Define objective function\n",
            "def obj_rule(model):\n",
            "    return sum(model.p[d] * model.x[d] for d in model.D) - \\\n",
            "           sum(model.c[r] * model.y[r] for r in model.R) - \\\n",
            "           sum(model.o[d] * model.x[d] for d in model.D)\n",
            "model.OBJ = Objective(rule=obj_rule, sense=maximize)\n",
            "\n",
            "# Define constraints\n",
            "def budget_constraint(model):\n",
            "    return sum(model.c[r] * model.y[r] for r in model.R) + \\\n",
            "           sum(model.o[d] * model.x[d] for d in model.D) <= model.B\n",
            "model.budget_constraint = Constraint(rule=budget_constraint)\n",
            "\n",
            "def production_capacity_constraint(model, d):\n",
            "    return model.x[d] <= model.M[d]\n",
            "model.production_capacity_constraint = Constraint(model.D, rule=production_capacity_constraint)\n",
            "\n",
            "def storage_capacity_constraint(model, r):\n",
            "    return model.y[r] <= model.S[r]\n",
            "model.storage_capacity_constraint = Constraint(model.R, rule=storage_capacity_constraint)\n",
            "\n",
            "def active_ingredient_constraint(model, d):\n",
            "    return sum((1 - model.alpha[r]) * model.a[d, r] * model.y[r] for r in model.R) >= \\\n",
            "           sum(model.a[d, r] * model.x[d] for r in model.R)\n",
            "model.active_ingredient_constraint = Constraint(model.D, rule=active_ingredient_constraint)\n",
            "\n",
            "# Solve the model\n",
            "solver = SolverFactory('glpk')\n",
            "results = solver.solve(model)\n",
            "\n",
            "# Print the results\n",
            "print(\"Optimal Profit: \", model.OBJ())\n",
            "print(\"Drug Production:\")\n",
            "for d in model.D:\n",
            "    print(f\"{d}: {model.x[d]()}\")\n",
            "print(\"Raw Material Purchase:\")\n",
            "for r in model.R:\n",
            "    print(f\"{r}: {model.y[r]()}\")\n",
            "```\n",
            "\n",
            "In this code, I have used sample data for the sets of drugs (`D`) and raw materials (`R`), as well as for the parameter values such as unit selling prices (`p`), unit purchasing costs (`c`), unit operational costs (`o`), budget (`B`), maximum production capacities (`M`), maximum storage capacities (`S`), active ingredient requirements (`a`), and maximum percentage variations in extraction (`alpha`). These sample data points are indicated in the code comments.\n",
            "\n",
            "The code defines the optimization model using Pyomo, including the objective function and constraints. The model is then solved using the GLPK solver, and the optimal profit and decision variable values are printed.\n",
            "\n",
            "Note that you'll need to install Pyomo and GLPK (or another compatible solver) to run this code successfully.\n"
          ]
        }
      ]
    },
    {
      "cell_type": "markdown",
      "source": [
        "# 4. Input Problem Data and Test Model Code"
      ],
      "metadata": {
        "id": "Pc0QqJuf8up_"
      }
    },
    {
      "cell_type": "code",
      "source": [
        "# Installing pyomo nd solver\n",
        "!pip install -q pyomo\n",
        "!apt-get install -y -qq glpk-utils\n",
        "!pip install glpk"
      ],
      "metadata": {
        "colab": {
          "base_uri": "https://localhost:8080/"
        },
        "id": "3BtROuLu9O-p",
        "outputId": "c81e5c5b-074c-4d57-ab34-fc6cef376a3c",
        "collapsed": true
      },
      "execution_count": 10,
      "outputs": [
        {
          "output_type": "stream",
          "name": "stdout",
          "text": [
            "\u001b[2K     \u001b[90m━━━━━━━━━━━━━━━━━━━━━━━━━━━━━━━━━━━━━━━━\u001b[0m \u001b[32m12.8/12.8 MB\u001b[0m \u001b[31m20.0 MB/s\u001b[0m eta \u001b[36m0:00:00\u001b[0m\n",
            "\u001b[2K     \u001b[90m━━━━━━━━━━━━━━━━━━━━━━━━━━━━━━━━━━━━━━━━\u001b[0m \u001b[32m49.6/49.6 kB\u001b[0m \u001b[31m4.2 MB/s\u001b[0m eta \u001b[36m0:00:00\u001b[0m\n",
            "\u001b[?25hSelecting previously unselected package libsuitesparseconfig5:amd64.\n",
            "(Reading database ... 121918 files and directories currently installed.)\n",
            "Preparing to unpack .../libsuitesparseconfig5_1%3a5.10.1+dfsg-4build1_amd64.deb ...\n",
            "Unpacking libsuitesparseconfig5:amd64 (1:5.10.1+dfsg-4build1) ...\n",
            "Selecting previously unselected package libamd2:amd64.\n",
            "Preparing to unpack .../libamd2_1%3a5.10.1+dfsg-4build1_amd64.deb ...\n",
            "Unpacking libamd2:amd64 (1:5.10.1+dfsg-4build1) ...\n",
            "Selecting previously unselected package libcolamd2:amd64.\n",
            "Preparing to unpack .../libcolamd2_1%3a5.10.1+dfsg-4build1_amd64.deb ...\n",
            "Unpacking libcolamd2:amd64 (1:5.10.1+dfsg-4build1) ...\n",
            "Selecting previously unselected package libglpk40:amd64.\n",
            "Preparing to unpack .../libglpk40_5.0-1_amd64.deb ...\n",
            "Unpacking libglpk40:amd64 (5.0-1) ...\n",
            "Selecting previously unselected package glpk-utils.\n",
            "Preparing to unpack .../glpk-utils_5.0-1_amd64.deb ...\n",
            "Unpacking glpk-utils (5.0-1) ...\n",
            "Setting up libsuitesparseconfig5:amd64 (1:5.10.1+dfsg-4build1) ...\n",
            "Setting up libamd2:amd64 (1:5.10.1+dfsg-4build1) ...\n",
            "Setting up libcolamd2:amd64 (1:5.10.1+dfsg-4build1) ...\n",
            "Setting up libglpk40:amd64 (5.0-1) ...\n",
            "Setting up glpk-utils (5.0-1) ...\n",
            "Processing triggers for man-db (2.10.2-1) ...\n",
            "Processing triggers for libc-bin (2.35-0ubuntu3.4) ...\n",
            "/sbin/ldconfig.real: /usr/local/lib/libtbbbind_2_5.so.3 is not a symbolic link\n",
            "\n",
            "/sbin/ldconfig.real: /usr/local/lib/libtbbmalloc.so.2 is not a symbolic link\n",
            "\n",
            "/sbin/ldconfig.real: /usr/local/lib/libtbbbind.so.3 is not a symbolic link\n",
            "\n",
            "/sbin/ldconfig.real: /usr/local/lib/libtbbmalloc_proxy.so.2 is not a symbolic link\n",
            "\n",
            "/sbin/ldconfig.real: /usr/local/lib/libtbb.so.12 is not a symbolic link\n",
            "\n",
            "/sbin/ldconfig.real: /usr/local/lib/libtbbbind_2_0.so.3 is not a symbolic link\n",
            "\n",
            "Collecting glpk\n",
            "  Downloading glpk-0.4.7.tar.gz (161 kB)\n",
            "\u001b[2K     \u001b[90m━━━━━━━━━━━━━━━━━━━━━━━━━━━━━━━━━━━━━━━━\u001b[0m \u001b[32m161.2/161.2 kB\u001b[0m \u001b[31m3.8 MB/s\u001b[0m eta \u001b[36m0:00:00\u001b[0m\n",
            "\u001b[?25h  Installing build dependencies ... \u001b[?25l\u001b[?25hdone\n",
            "  Getting requirements to build wheel ... \u001b[?25l\u001b[?25hdone\n",
            "  Preparing metadata (pyproject.toml) ... \u001b[?25l\u001b[?25hdone\n",
            "Building wheels for collected packages: glpk\n",
            "  \u001b[1;31merror\u001b[0m: \u001b[1msubprocess-exited-with-error\u001b[0m\n",
            "  \n",
            "  \u001b[31m×\u001b[0m \u001b[32mBuilding wheel for glpk \u001b[0m\u001b[1;32m(\u001b[0m\u001b[32mpyproject.toml\u001b[0m\u001b[1;32m)\u001b[0m did not run successfully.\n",
            "  \u001b[31m│\u001b[0m exit code: \u001b[1;36m1\u001b[0m\n",
            "  \u001b[31m╰─>\u001b[0m See above for output.\n",
            "  \n",
            "  \u001b[1;35mnote\u001b[0m: This error originates from a subprocess, and is likely not a problem with pip.\n",
            "  Building wheel for glpk (pyproject.toml) ... \u001b[?25l\u001b[?25herror\n",
            "\u001b[31m  ERROR: Failed building wheel for glpk\u001b[0m\u001b[31m\n",
            "\u001b[0mFailed to build glpk\n",
            "\u001b[31mERROR: Could not build wheels for glpk, which is required to install pyproject.toml-based projects\u001b[0m\u001b[31m\n",
            "\u001b[0m"
          ]
        }
      ]
    },
    {
      "cell_type": "code",
      "source": [
        "from pyomo.environ import *\n",
        "\n",
        "# Define the model\n",
        "model = ConcreteModel()\n",
        "\n",
        "# Define sets\n",
        "model.D = Set(initialize=['Drug1', 'Drug2'])  # Set of drugs (sample data)\n",
        "model.R = Set(initialize=['Raw1', 'Raw2'])  # Set of raw materials (sample data)\n",
        "\n",
        "# Define parameters\n",
        "model.p = Param(model.D, initialize={'Drug1': 6200, 'Drug2': 6900})  # Unit selling price of drugs (sample data)\n",
        "model.c = Param(model.R, initialize={'Raw1': 100, 'Raw2': 199.90})  # Unit purchasing cost of raw materials (sample data)\n",
        "model.o = Param(model.D, initialize={'Drug1': 700, 'Drug2': 800})  # Unit operational cost of drugs (sample data)\n",
        "model.B = Param(initialize=100000)  # Budget (sample data)\n",
        "model.M = Param(model.D, initialize={'Drug1': 100, 'Drug2': 80})  # Maximum production capacity of drugs (sample data)\n",
        "model.S = Param(model.R, initialize={'Raw1': 1000, 'Raw2': 1000})  # Maximum storage capacity of raw materials (sample data)\n",
        "model.a = Param(model.D, model.R, initialize={\n",
        "    ('Drug1', 'Raw1'): 0.01, ('Drug1', 'Raw2'): 0.02,\n",
        "    ('Drug2', 'Raw1'): 0.01, ('Drug2', 'Raw2'): 0.02\n",
        "})  # Amount of active ingredient required per unit of drug (sample data)\n",
        "model.alpha = Param(model.R, initialize={'Raw1': 0.005, 'Raw2': 0.02})  # Maximum percentage variation in extraction (sample data)\n",
        "\n",
        "# Define decision variables\n",
        "model.x = Var(model.D, within=NonNegativeReals)  # Amount of drugs to produce\n",
        "model.y = Var(model.R, within=NonNegativeReals)  # Amount of raw materials to purchase\n",
        "\n",
        "# Define objective function\n",
        "def obj_rule(model):\n",
        "    return sum(model.p[d] * model.x[d] for d in model.D) - \\\n",
        "           sum(model.c[r] * model.y[r] for r in model.R) - \\\n",
        "           sum(model.o[d] * model.x[d] for d in model.D)\n",
        "model.OBJ = Objective(rule=obj_rule, sense=maximize)\n",
        "\n",
        "# Define constraints\n",
        "def budget_constraint(model):\n",
        "    return sum(model.c[r] * model.y[r] for r in model.R) + \\\n",
        "           sum(model.o[d] * model.x[d] for d in model.D) <= model.B\n",
        "model.budget_constraint = Constraint(rule=budget_constraint)\n",
        "\n",
        "def production_capacity_constraint(model, d):\n",
        "    return model.x[d] <= model.M[d]\n",
        "model.production_capacity_constraint = Constraint(model.D, rule=production_capacity_constraint)\n",
        "\n",
        "def storage_capacity_constraint(model, r):\n",
        "    return model.y[r] <= model.S[r]\n",
        "model.storage_capacity_constraint = Constraint(model.R, rule=storage_capacity_constraint)\n",
        "\n",
        "def active_ingredient_constraint(model, d):\n",
        "    return sum((1 - model.alpha[r]) * model.a[d, r] * model.y[r] for r in model.R) >= \\\n",
        "           sum(model.a[d, r] * model.x[d] for r in model.R)\n",
        "model.active_ingredient_constraint = Constraint(model.D, rule=active_ingredient_constraint)\n",
        "\n",
        "# Solve the model\n",
        "solver = SolverFactory('glpk')\n",
        "results = solver.solve(model)\n",
        "\n",
        "# Print the results\n",
        "print(\"Optimal Profit: \", model.OBJ())\n",
        "print(\"Drug Production:\")\n",
        "for d in model.D:\n",
        "    print(f\"{d}: {model.x[d]()}\")\n",
        "print(\"Raw Material Purchase:\")\n",
        "for r in model.R:\n",
        "    print(f\"{r}: {model.y[r]()}\")"
      ],
      "metadata": {
        "colab": {
          "base_uri": "https://localhost:8080/"
        },
        "id": "8FpHcuWU8rQ2",
        "outputId": "c81e4551-3c29-4929-a1d8-eea81c0fed61"
      },
      "execution_count": 11,
      "outputs": [
        {
          "output_type": "stream",
          "name": "stdout",
          "text": [
            "Optimal Profit:  627168.7587168763\n",
            "Drug Production:\n",
            "Drug1: 55.5090655509066\n",
            "Drug2: 55.5090655509066\n",
            "Raw Material Purchase:\n",
            "Raw1: 167.364016736402\n",
            "Raw2: 0.0\n"
          ]
        }
      ]
    },
    {
      "cell_type": "markdown",
      "source": [
        "# 5. Correct The Model Code to Test Mathematical Model (if applicable)"
      ],
      "metadata": {
        "id": "KHTyoLQTWZVy"
      }
    },
    {
      "cell_type": "code",
      "source": [],
      "metadata": {
        "id": "REJzqhR6WYvM"
      },
      "execution_count": null,
      "outputs": []
    }
  ]
}