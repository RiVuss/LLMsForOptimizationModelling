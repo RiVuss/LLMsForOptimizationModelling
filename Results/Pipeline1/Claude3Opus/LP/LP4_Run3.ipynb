{
  "nbformat": 4,
  "nbformat_minor": 0,
  "metadata": {
    "colab": {
      "provenance": []
    },
    "kernelspec": {
      "name": "python3",
      "display_name": "Python 3"
    },
    "language_info": {
      "name": "python"
    }
  },
  "cells": [
    {
      "cell_type": "markdown",
      "source": [
        "# 0. Imports and Setting up Anthropic API Client"
      ],
      "metadata": {
        "id": "y5fw0lkBwBbo"
      }
    },
    {
      "cell_type": "code",
      "source": [
        "from google.colab import drive\n",
        "\n",
        "drive.mount('/content/drive')"
      ],
      "metadata": {
        "colab": {
          "base_uri": "https://localhost:8080/"
        },
        "id": "e7tWOLo0yMoH",
        "outputId": "87d4f79f-10f2-40b4-fed5-dcdcb6538f18"
      },
      "execution_count": 1,
      "outputs": [
        {
          "output_type": "stream",
          "name": "stdout",
          "text": [
            "Mounted at /content/drive\n"
          ]
        }
      ]
    },
    {
      "cell_type": "code",
      "source": [
        "!pip install python-dotenv\n",
        "\n",
        "import os\n",
        "import dotenv\n",
        "\n",
        "dotenv.load_dotenv('/content/drive/MyDrive/.env')"
      ],
      "metadata": {
        "colab": {
          "base_uri": "https://localhost:8080/"
        },
        "id": "utcEK8lZ1Z1R",
        "outputId": "27ab2307-83da-4cc1-d304-1cb51365be17"
      },
      "execution_count": 2,
      "outputs": [
        {
          "output_type": "stream",
          "name": "stdout",
          "text": [
            "Collecting python-dotenv\n",
            "  Downloading python_dotenv-1.0.1-py3-none-any.whl (19 kB)\n",
            "Installing collected packages: python-dotenv\n",
            "Successfully installed python-dotenv-1.0.1\n"
          ]
        },
        {
          "output_type": "execute_result",
          "data": {
            "text/plain": [
              "True"
            ]
          },
          "metadata": {},
          "execution_count": 2
        }
      ]
    },
    {
      "cell_type": "code",
      "source": [
        "# Load Prompts and Problem Description\n",
        "prompt1_path = '/content/drive/MyDrive/Thesis/Prompts/Prompt1_MathematicalModel.txt'\n",
        "prompt2_path = '/content/drive/MyDrive/Thesis/Prompts/Prompt2_PyomoCode.txt'\n",
        "problem_desc_path = '/content/drive/MyDrive/Thesis/ProblemDescriptions/LP/LP4.txt'\n",
        "\n",
        "prompt1_file = open(prompt1_path, \"r\")\n",
        "prompt2_file = open(prompt2_path, \"r\")\n",
        "problem_desc_file = open(problem_desc_path, \"r\")\n",
        "\n",
        "prompt1 = prompt1_file.read()\n",
        "print(\"Prompt 1:\\n\", prompt1)\n",
        "\n",
        "prompt2 = prompt2_file.read()\n",
        "print(\"Prompt 2:\\n\", prompt2)\n",
        "\n",
        "problem_desc = problem_desc_file.read()\n",
        "print(\"Problem Description:\\n\", problem_desc)"
      ],
      "metadata": {
        "colab": {
          "base_uri": "https://localhost:8080/"
        },
        "id": "9KlkjwMUS4xp",
        "outputId": "67096a5a-979a-47b9-c183-2fcfe942c8c9"
      },
      "execution_count": 3,
      "outputs": [
        {
          "output_type": "stream",
          "name": "stdout",
          "text": [
            "Prompt 1:\n",
            " Please write a mathematical optimization model for this problem. Include parameters, decision variables, the objective function and the constraints in your answer.\n",
            "Prompt 2:\n",
            " Please write a python pyomo code for this optimization problem.\n",
            "Use sample data where needed.\n",
            "Indicate where you use sample data.\n",
            "Problem Description:\n",
            " Consider a farmer who specializes in raising wheat, corn, and sugar beets on her 500 acres of land. During the winter, she wants to decide how much land to devote to each crop.\n",
            "\n",
            "The farmer knows that at least 200 tons (T) of wheat and 240 T of corn are needed for cattle feed. These amounts can be raised on the farm or bought from a wholesaler.\n",
            "Any production in excess of the feeding requirement would be sold.\n",
            "\n",
            "Over the last decade, mean selling prices have been $170 and $150 per ton of wheat and corn, respectively.\n",
            "The purchase prices are 40% more than this due to the wholesaler’s margin and transportation costs.\n",
            "\n",
            "Another profitable crop is sugar beet, which she expects to sell at $36/T. However, the European Commission imposes a quota on sugar beet production. Any amount in excess of the quota can be sold only at $10/T. The farmer’s quota for next year is 6000 T.\n",
            "\n",
            "Based on past experience, the farmer knows that the mean yield on her land is roughly 2.5 T, 3 T, and 20 T per acre for wheat, corn, and sugar beets, respectively. It costs $150 to plant an acre of wheat, $230 to pant an acre of corn and $260 to plant an acre of sugar beets. \n",
            "\n",
            "The farmer can decide how much of her land she will use to grow each of the three products: wheat, corn and sugar beets. The goal of the farmer is to minimize her total costs (where sales are considered as negative costs).\n"
          ]
        }
      ]
    },
    {
      "cell_type": "code",
      "source": [
        "!pip install anthropic"
      ],
      "metadata": {
        "colab": {
          "base_uri": "https://localhost:8080/"
        },
        "id": "iWlNsTIvxCcR",
        "outputId": "f2bc6cda-66c8-460e-8bf3-5eefac534814",
        "collapsed": true
      },
      "execution_count": 4,
      "outputs": [
        {
          "output_type": "stream",
          "name": "stdout",
          "text": [
            "Collecting anthropic\n",
            "  Downloading anthropic-0.26.0-py3-none-any.whl (877 kB)\n",
            "\u001b[?25l     \u001b[90m━━━━━━━━━━━━━━━━━━━━━━━━━━━━━━━━━━━━━━━━\u001b[0m \u001b[32m0.0/877.7 kB\u001b[0m \u001b[31m?\u001b[0m eta \u001b[36m-:--:--\u001b[0m\r\u001b[2K     \u001b[91m━━━━━━━━\u001b[0m\u001b[91m╸\u001b[0m\u001b[90m━━━━━━━━━━━━━━━━━━━━━━━━━━━━━━━\u001b[0m \u001b[32m194.6/877.7 kB\u001b[0m \u001b[31m5.6 MB/s\u001b[0m eta \u001b[36m0:00:01\u001b[0m\r\u001b[2K     \u001b[91m━━━━━━━━━━━━━━━━━━━━━━━━━━\u001b[0m\u001b[90m╺\u001b[0m\u001b[90m━━━━━━━━━━━━━\u001b[0m \u001b[32m573.4/877.7 kB\u001b[0m \u001b[31m8.3 MB/s\u001b[0m eta \u001b[36m0:00:01\u001b[0m\r\u001b[2K     \u001b[91m━━━━━━━━━━━━━━━━━━━━━━━━━━━━━━━━━━━━━━━\u001b[0m\u001b[91m╸\u001b[0m \u001b[32m870.4/877.7 kB\u001b[0m \u001b[31m9.3 MB/s\u001b[0m eta \u001b[36m0:00:01\u001b[0m\r\u001b[2K     \u001b[90m━━━━━━━━━━━━━━━━━━━━━━━━━━━━━━━━━━━━━━━━\u001b[0m \u001b[32m877.7/877.7 kB\u001b[0m \u001b[31m8.1 MB/s\u001b[0m eta \u001b[36m0:00:00\u001b[0m\n",
            "\u001b[?25hRequirement already satisfied: anyio<5,>=3.5.0 in /usr/local/lib/python3.10/dist-packages (from anthropic) (3.7.1)\n",
            "Requirement already satisfied: distro<2,>=1.7.0 in /usr/lib/python3/dist-packages (from anthropic) (1.7.0)\n",
            "Collecting httpx<1,>=0.23.0 (from anthropic)\n",
            "  Downloading httpx-0.27.0-py3-none-any.whl (75 kB)\n",
            "\u001b[2K     \u001b[90m━━━━━━━━━━━━━━━━━━━━━━━━━━━━━━━━━━━━━━━━\u001b[0m \u001b[32m75.6/75.6 kB\u001b[0m \u001b[31m9.7 MB/s\u001b[0m eta \u001b[36m0:00:00\u001b[0m\n",
            "\u001b[?25hRequirement already satisfied: pydantic<3,>=1.9.0 in /usr/local/lib/python3.10/dist-packages (from anthropic) (2.7.1)\n",
            "Requirement already satisfied: sniffio in /usr/local/lib/python3.10/dist-packages (from anthropic) (1.3.1)\n",
            "Requirement already satisfied: tokenizers>=0.13.0 in /usr/local/lib/python3.10/dist-packages (from anthropic) (0.19.1)\n",
            "Requirement already satisfied: typing-extensions<5,>=4.7 in /usr/local/lib/python3.10/dist-packages (from anthropic) (4.11.0)\n",
            "Requirement already satisfied: idna>=2.8 in /usr/local/lib/python3.10/dist-packages (from anyio<5,>=3.5.0->anthropic) (3.7)\n",
            "Requirement already satisfied: exceptiongroup in /usr/local/lib/python3.10/dist-packages (from anyio<5,>=3.5.0->anthropic) (1.2.1)\n",
            "Requirement already satisfied: certifi in /usr/local/lib/python3.10/dist-packages (from httpx<1,>=0.23.0->anthropic) (2024.2.2)\n",
            "Collecting httpcore==1.* (from httpx<1,>=0.23.0->anthropic)\n",
            "  Downloading httpcore-1.0.5-py3-none-any.whl (77 kB)\n",
            "\u001b[2K     \u001b[90m━━━━━━━━━━━━━━━━━━━━━━━━━━━━━━━━━━━━━━━━\u001b[0m \u001b[32m77.9/77.9 kB\u001b[0m \u001b[31m9.2 MB/s\u001b[0m eta \u001b[36m0:00:00\u001b[0m\n",
            "\u001b[?25hCollecting h11<0.15,>=0.13 (from httpcore==1.*->httpx<1,>=0.23.0->anthropic)\n",
            "  Downloading h11-0.14.0-py3-none-any.whl (58 kB)\n",
            "\u001b[2K     \u001b[90m━━━━━━━━━━━━━━━━━━━━━━━━━━━━━━━━━━━━━━━━\u001b[0m \u001b[32m58.3/58.3 kB\u001b[0m \u001b[31m6.6 MB/s\u001b[0m eta \u001b[36m0:00:00\u001b[0m\n",
            "\u001b[?25hRequirement already satisfied: annotated-types>=0.4.0 in /usr/local/lib/python3.10/dist-packages (from pydantic<3,>=1.9.0->anthropic) (0.6.0)\n",
            "Requirement already satisfied: pydantic-core==2.18.2 in /usr/local/lib/python3.10/dist-packages (from pydantic<3,>=1.9.0->anthropic) (2.18.2)\n",
            "Requirement already satisfied: huggingface-hub<1.0,>=0.16.4 in /usr/local/lib/python3.10/dist-packages (from tokenizers>=0.13.0->anthropic) (0.20.3)\n",
            "Requirement already satisfied: filelock in /usr/local/lib/python3.10/dist-packages (from huggingface-hub<1.0,>=0.16.4->tokenizers>=0.13.0->anthropic) (3.14.0)\n",
            "Requirement already satisfied: fsspec>=2023.5.0 in /usr/local/lib/python3.10/dist-packages (from huggingface-hub<1.0,>=0.16.4->tokenizers>=0.13.0->anthropic) (2023.6.0)\n",
            "Requirement already satisfied: requests in /usr/local/lib/python3.10/dist-packages (from huggingface-hub<1.0,>=0.16.4->tokenizers>=0.13.0->anthropic) (2.31.0)\n",
            "Requirement already satisfied: tqdm>=4.42.1 in /usr/local/lib/python3.10/dist-packages (from huggingface-hub<1.0,>=0.16.4->tokenizers>=0.13.0->anthropic) (4.66.4)\n",
            "Requirement already satisfied: pyyaml>=5.1 in /usr/local/lib/python3.10/dist-packages (from huggingface-hub<1.0,>=0.16.4->tokenizers>=0.13.0->anthropic) (6.0.1)\n",
            "Requirement already satisfied: packaging>=20.9 in /usr/local/lib/python3.10/dist-packages (from huggingface-hub<1.0,>=0.16.4->tokenizers>=0.13.0->anthropic) (24.0)\n",
            "Requirement already satisfied: charset-normalizer<4,>=2 in /usr/local/lib/python3.10/dist-packages (from requests->huggingface-hub<1.0,>=0.16.4->tokenizers>=0.13.0->anthropic) (3.3.2)\n",
            "Requirement already satisfied: urllib3<3,>=1.21.1 in /usr/local/lib/python3.10/dist-packages (from requests->huggingface-hub<1.0,>=0.16.4->tokenizers>=0.13.0->anthropic) (2.0.7)\n",
            "Installing collected packages: h11, httpcore, httpx, anthropic\n",
            "Successfully installed anthropic-0.26.0 h11-0.14.0 httpcore-1.0.5 httpx-0.27.0\n"
          ]
        }
      ]
    },
    {
      "cell_type": "code",
      "execution_count": 5,
      "metadata": {
        "id": "7Qjk2D63v1Bl"
      },
      "outputs": [],
      "source": [
        "# Importing Anthropic & Setting Headers\n",
        "import anthropic\n",
        "\n",
        "client = anthropic.Anthropic(\n",
        "    # defaults to os.environ.get(\"ANTHROPIC_API_KEY\")\n",
        "    api_key=os.environ.get(\"ANTHROPIC_API_KEY\"),\n",
        ")"
      ]
    },
    {
      "cell_type": "markdown",
      "source": [
        "# 1. Prompt 1: Create Mathematical Model"
      ],
      "metadata": {
        "id": "kT7yKbJs18XR"
      }
    },
    {
      "cell_type": "code",
      "source": [
        "message = client.messages.create(\n",
        "    model=\"claude-3-opus-20240229\",\n",
        "    system=prompt1,\n",
        "    max_tokens=4096,\n",
        "    messages=[\n",
        "        {\"role\": \"user\", \"content\": problem_desc}\n",
        "    ]\n",
        ")\n",
        "\n",
        "response_p1 = message.content[0].text"
      ],
      "metadata": {
        "id": "R_6X0axq16D4"
      },
      "execution_count": 7,
      "outputs": []
    },
    {
      "cell_type": "code",
      "source": [
        "# Print response\n",
        "print(response_p1)"
      ],
      "metadata": {
        "colab": {
          "base_uri": "https://localhost:8080/"
        },
        "id": "Ra9Ox_PI38jg",
        "outputId": "46522231-1404-45fb-8f15-4f3d5a5c22b3"
      },
      "execution_count": 8,
      "outputs": [
        {
          "output_type": "stream",
          "name": "stdout",
          "text": [
            "Great! Let's formulate the mathematical optimization model for the farmer's problem. We'll define the parameters, decision variables, objective function, and constraints.\n",
            "\n",
            "Parameters:\n",
            "- W_min: minimum requirement of wheat for cattle feed (200 T)\n",
            "- C_min: minimum requirement of corn for cattle feed (240 T)\n",
            "- P_ws: selling price of wheat ($170/T)\n",
            "- P_cs: selling price of corn ($150/T)\n",
            "- P_wp: purchase price of wheat ($238/T, which is 40% more than the selling price)\n",
            "- P_cp: purchase price of corn ($210/T, which is 40% more than the selling price)\n",
            "- P_bs: selling price of sugar beets within the quota ($36/T)\n",
            "- P_be: selling price of sugar beets exceeding the quota ($10/T)\n",
            "- Q_b: quota for sugar beet production (6000 T)\n",
            "- Y_w: yield of wheat per acre (2.5 T/acre)\n",
            "- Y_c: yield of corn per acre (3 T/acre)\n",
            "- Y_b: yield of sugar beets per acre (20 T/acre)\n",
            "- C_w: cost of planting an acre of wheat ($150/acre)\n",
            "- C_c: cost of planting an acre of corn ($230/acre)\n",
            "- C_b: cost of planting an acre of sugar beets ($260/acre)\n",
            "- L: total available land (500 acres)\n",
            "\n",
            "Decision Variables:\n",
            "- A_w: acres of land devoted to wheat\n",
            "- A_c: acres of land devoted to corn\n",
            "- A_b: acres of land devoted to sugar beets\n",
            "- W_s: tons of wheat sold\n",
            "- W_p: tons of wheat purchased\n",
            "- C_s: tons of corn sold\n",
            "- C_p: tons of corn purchased\n",
            "- B_s: tons of sugar beets sold within the quota\n",
            "- B_e: tons of sugar beets sold exceeding the quota\n",
            "\n",
            "Objective Function:\n",
            "Minimize total costs = Planting costs + Purchasing costs - Sales revenue\n",
            "Min: C_w * A_w + C_c * A_c + C_b * A_b + P_wp * W_p + P_cp * C_p - P_ws * W_s - P_cs * C_s - P_bs * B_s - P_be * B_e\n",
            "\n",
            "Constraints:\n",
            "1. Land constraint: A_w + A_c + A_b <= L\n",
            "2. Wheat balance: Y_w * A_w + W_p - W_s >= W_min\n",
            "3. Corn balance: Y_c * A_c + C_p - C_s >= C_min\n",
            "4. Sugar beet quota: B_s <= Q_b\n",
            "5. Sugar beet balance: Y_b * A_b = B_s + B_e\n",
            "6. Non-negativity constraints: A_w, A_c, A_b, W_s, W_p, C_s, C_p, B_s, B_e >= 0\n",
            "\n",
            "The objective function minimizes the total costs, which include planting costs, purchasing costs, and sales revenue (as negative costs). The constraints ensure that the land allocation, crop balances, sugar beet quota, and non-negativity conditions are satisfied.\n"
          ]
        }
      ]
    },
    {
      "cell_type": "markdown",
      "source": [
        "# 2. Prompt 2: Write Code based on Mathematical Model"
      ],
      "metadata": {
        "id": "WPZ6lgBO729j"
      }
    },
    {
      "cell_type": "code",
      "source": [
        "message2 = client.messages.create(\n",
        "    model=\"claude-3-opus-20240229\",\n",
        "    system=prompt2,\n",
        "    max_tokens=4069,\n",
        "    messages=[\n",
        "        {\"role\": \"user\", \"content\": response_p1}\n",
        "    ]\n",
        ")\n",
        "\n",
        "response_p2 = message2.content[0].text"
      ],
      "metadata": {
        "id": "1iUSgBda70FL"
      },
      "execution_count": 9,
      "outputs": []
    },
    {
      "cell_type": "code",
      "source": [
        "# Print response\n",
        "print(response_p2)"
      ],
      "metadata": {
        "colab": {
          "base_uri": "https://localhost:8080/"
        },
        "id": "o40mxc_H8eQ9",
        "outputId": "d70809af-86a3-4c2a-e964-9612d7e53654"
      },
      "execution_count": 10,
      "outputs": [
        {
          "output_type": "stream",
          "name": "stdout",
          "text": [
            "Here's the Pyomo code for the farmer's optimization problem:\n",
            "\n",
            "```python\n",
            "from pyomo.environ import *\n",
            "\n",
            "# Create a Concrete Model\n",
            "model = ConcreteModel()\n",
            "\n",
            "# Define parameters\n",
            "model.W_min = Param(initialize=200)  # minimum requirement of wheat for cattle feed (T)\n",
            "model.C_min = Param(initialize=240)  # minimum requirement of corn for cattle feed (T)\n",
            "model.P_ws = Param(initialize=170)  # selling price of wheat ($/T)\n",
            "model.P_cs = Param(initialize=150)  # selling price of corn ($/T)\n",
            "model.P_wp = Param(initialize=238)  # purchase price of wheat ($/T)\n",
            "model.P_cp = Param(initialize=210)  # purchase price of corn ($/T)\n",
            "model.P_bs = Param(initialize=36)  # selling price of sugar beets within the quota ($/T)\n",
            "model.P_be = Param(initialize=10)  # selling price of sugar beets exceeding the quota ($/T)\n",
            "model.Q_b = Param(initialize=6000)  # quota for sugar beet production (T)\n",
            "model.Y_w = Param(initialize=2.5)  # yield of wheat per acre (T/acre)\n",
            "model.Y_c = Param(initialize=3)  # yield of corn per acre (T/acre)\n",
            "model.Y_b = Param(initialize=20)  # yield of sugar beets per acre (T/acre)\n",
            "model.C_w = Param(initialize=150)  # cost of planting an acre of wheat ($/acre)\n",
            "model.C_c = Param(initialize=230)  # cost of planting an acre of corn ($/acre)\n",
            "model.C_b = Param(initialize=260)  # cost of planting an acre of sugar beets ($/acre)\n",
            "model.L = Param(initialize=500)  # total available land (acres)\n",
            "\n",
            "# Define decision variables\n",
            "model.A_w = Var(domain=NonNegativeReals)  # acres of land devoted to wheat\n",
            "model.A_c = Var(domain=NonNegativeReals)  # acres of land devoted to corn\n",
            "model.A_b = Var(domain=NonNegativeReals)  # acres of land devoted to sugar beets\n",
            "model.W_s = Var(domain=NonNegativeReals)  # tons of wheat sold\n",
            "model.W_p = Var(domain=NonNegativeReals)  # tons of wheat purchased\n",
            "model.C_s = Var(domain=NonNegativeReals)  # tons of corn sold\n",
            "model.C_p = Var(domain=NonNegativeReals)  # tons of corn purchased\n",
            "model.B_s = Var(domain=NonNegativeReals)  # tons of sugar beets sold within the quota\n",
            "model.B_e = Var(domain=NonNegativeReals)  # tons of sugar beets sold exceeding the quota\n",
            "\n",
            "# Define objective function\n",
            "def total_cost(model):\n",
            "    return (model.C_w * model.A_w + model.C_c * model.A_c + model.C_b * model.A_b +\n",
            "            model.P_wp * model.W_p + model.P_cp * model.C_p -\n",
            "            model.P_ws * model.W_s - model.P_cs * model.C_s -\n",
            "            model.P_bs * model.B_s - model.P_be * model.B_e)\n",
            "\n",
            "model.objective = Objective(rule=total_cost, sense=minimize)\n",
            "\n",
            "# Define constraints\n",
            "model.land_constraint = Constraint(expr=model.A_w + model.A_c + model.A_b <= model.L)\n",
            "model.wheat_balance = Constraint(expr=model.Y_w * model.A_w + model.W_p - model.W_s >= model.W_min)\n",
            "model.corn_balance = Constraint(expr=model.Y_c * model.A_c + model.C_p - model.C_s >= model.C_min)\n",
            "model.sugar_beet_quota = Constraint(expr=model.B_s <= model.Q_b)\n",
            "model.sugar_beet_balance = Constraint(expr=model.Y_b * model.A_b == model.B_s + model.B_e)\n",
            "\n",
            "# Solve the optimization problem\n",
            "solver = SolverFactory('glpk')  # You can use any available solver\n",
            "results = solver.solve(model)\n",
            "\n",
            "# Print the results\n",
            "print(\"Acres of wheat:\", model.A_w.value)\n",
            "print(\"Acres of corn:\", model.A_c.value)\n",
            "print(\"Acres of sugar beets:\", model.A_b.value)\n",
            "print(\"Tons of wheat sold:\", model.W_s.value)\n",
            "print(\"Tons of wheat purchased:\", model.W_p.value)\n",
            "print(\"Tons of corn sold:\", model.C_s.value)\n",
            "print(\"Tons of corn purchased:\", model.C_p.value)\n",
            "print(\"Tons of sugar beets sold within the quota:\", model.B_s.value)\n",
            "print(\"Tons of sugar beets sold exceeding the quota:\", model.B_e.value)\n",
            "print(\"Total cost:\", model.objective())\n",
            "```\n",
            "\n",
            "In this code, we define the parameters using the provided sample data. The decision variables are defined as non-negative real variables. The objective function and constraints are formulated based on the mathematical model. Finally, we solve the optimization problem using the GLPK solver (you can use any available solver) and print the optimal values of the decision variables and the total cost.\n"
          ]
        }
      ]
    },
    {
      "cell_type": "markdown",
      "source": [
        "# 4. Input Problem Data and Test Model Code"
      ],
      "metadata": {
        "id": "Pc0QqJuf8up_"
      }
    },
    {
      "cell_type": "code",
      "source": [
        "# Installing pyomo nd solver\n",
        "!pip install -q pyomo\n",
        "!apt-get install -y -qq glpk-utils\n",
        "!pip install glpk"
      ],
      "metadata": {
        "colab": {
          "base_uri": "https://localhost:8080/"
        },
        "id": "3BtROuLu9O-p",
        "outputId": "e63dea15-2abd-4531-c2d7-bb88a98f775b",
        "collapsed": true
      },
      "execution_count": 11,
      "outputs": [
        {
          "output_type": "stream",
          "name": "stdout",
          "text": [
            "\u001b[2K     \u001b[90m━━━━━━━━━━━━━━━━━━━━━━━━━━━━━━━━━━━━━━━━\u001b[0m \u001b[32m12.8/12.8 MB\u001b[0m \u001b[31m28.4 MB/s\u001b[0m eta \u001b[36m0:00:00\u001b[0m\n",
            "\u001b[2K     \u001b[90m━━━━━━━━━━━━━━━━━━━━━━━━━━━━━━━━━━━━━━━━\u001b[0m \u001b[32m49.6/49.6 kB\u001b[0m \u001b[31m5.3 MB/s\u001b[0m eta \u001b[36m0:00:00\u001b[0m\n",
            "\u001b[?25hSelecting previously unselected package libsuitesparseconfig5:amd64.\n",
            "(Reading database ... 121918 files and directories currently installed.)\n",
            "Preparing to unpack .../libsuitesparseconfig5_1%3a5.10.1+dfsg-4build1_amd64.deb ...\n",
            "Unpacking libsuitesparseconfig5:amd64 (1:5.10.1+dfsg-4build1) ...\n",
            "Selecting previously unselected package libamd2:amd64.\n",
            "Preparing to unpack .../libamd2_1%3a5.10.1+dfsg-4build1_amd64.deb ...\n",
            "Unpacking libamd2:amd64 (1:5.10.1+dfsg-4build1) ...\n",
            "Selecting previously unselected package libcolamd2:amd64.\n",
            "Preparing to unpack .../libcolamd2_1%3a5.10.1+dfsg-4build1_amd64.deb ...\n",
            "Unpacking libcolamd2:amd64 (1:5.10.1+dfsg-4build1) ...\n",
            "Selecting previously unselected package libglpk40:amd64.\n",
            "Preparing to unpack .../libglpk40_5.0-1_amd64.deb ...\n",
            "Unpacking libglpk40:amd64 (5.0-1) ...\n",
            "Selecting previously unselected package glpk-utils.\n",
            "Preparing to unpack .../glpk-utils_5.0-1_amd64.deb ...\n",
            "Unpacking glpk-utils (5.0-1) ...\n",
            "Setting up libsuitesparseconfig5:amd64 (1:5.10.1+dfsg-4build1) ...\n",
            "Setting up libamd2:amd64 (1:5.10.1+dfsg-4build1) ...\n",
            "Setting up libcolamd2:amd64 (1:5.10.1+dfsg-4build1) ...\n",
            "Setting up libglpk40:amd64 (5.0-1) ...\n",
            "Setting up glpk-utils (5.0-1) ...\n",
            "Processing triggers for man-db (2.10.2-1) ...\n",
            "Processing triggers for libc-bin (2.35-0ubuntu3.4) ...\n",
            "/sbin/ldconfig.real: /usr/local/lib/libtbbbind_2_5.so.3 is not a symbolic link\n",
            "\n",
            "/sbin/ldconfig.real: /usr/local/lib/libtbbmalloc.so.2 is not a symbolic link\n",
            "\n",
            "/sbin/ldconfig.real: /usr/local/lib/libtbbbind.so.3 is not a symbolic link\n",
            "\n",
            "/sbin/ldconfig.real: /usr/local/lib/libtbbmalloc_proxy.so.2 is not a symbolic link\n",
            "\n",
            "/sbin/ldconfig.real: /usr/local/lib/libtbb.so.12 is not a symbolic link\n",
            "\n",
            "/sbin/ldconfig.real: /usr/local/lib/libtbbbind_2_0.so.3 is not a symbolic link\n",
            "\n",
            "Collecting glpk\n",
            "  Downloading glpk-0.4.7.tar.gz (161 kB)\n",
            "\u001b[2K     \u001b[90m━━━━━━━━━━━━━━━━━━━━━━━━━━━━━━━━━━━━━━━━\u001b[0m \u001b[32m161.2/161.2 kB\u001b[0m \u001b[31m2.9 MB/s\u001b[0m eta \u001b[36m0:00:00\u001b[0m\n",
            "\u001b[?25h  Installing build dependencies ... \u001b[?25l\u001b[?25hdone\n",
            "  Getting requirements to build wheel ... \u001b[?25l\u001b[?25hdone\n",
            "  Preparing metadata (pyproject.toml) ... \u001b[?25l\u001b[?25hdone\n",
            "Building wheels for collected packages: glpk\n",
            "  \u001b[1;31merror\u001b[0m: \u001b[1msubprocess-exited-with-error\u001b[0m\n",
            "  \n",
            "  \u001b[31m×\u001b[0m \u001b[32mBuilding wheel for glpk \u001b[0m\u001b[1;32m(\u001b[0m\u001b[32mpyproject.toml\u001b[0m\u001b[1;32m)\u001b[0m did not run successfully.\n",
            "  \u001b[31m│\u001b[0m exit code: \u001b[1;36m1\u001b[0m\n",
            "  \u001b[31m╰─>\u001b[0m See above for output.\n",
            "  \n",
            "  \u001b[1;35mnote\u001b[0m: This error originates from a subprocess, and is likely not a problem with pip.\n",
            "  Building wheel for glpk (pyproject.toml) ... \u001b[?25l\u001b[?25herror\n",
            "\u001b[31m  ERROR: Failed building wheel for glpk\u001b[0m\u001b[31m\n",
            "\u001b[0mFailed to build glpk\n",
            "\u001b[31mERROR: Could not build wheels for glpk, which is required to install pyproject.toml-based projects\u001b[0m\u001b[31m\n",
            "\u001b[0m"
          ]
        }
      ]
    },
    {
      "cell_type": "code",
      "source": [
        "from pyomo.environ import *\n",
        "\n",
        "# Create a Concrete Model\n",
        "model = ConcreteModel()\n",
        "\n",
        "# Define parameters\n",
        "model.W_min = Param(initialize=200)  # minimum requirement of wheat for cattle feed (T)\n",
        "model.C_min = Param(initialize=240)  # minimum requirement of corn for cattle feed (T)\n",
        "model.P_ws = Param(initialize=170)  # selling price of wheat ($/T)\n",
        "model.P_cs = Param(initialize=150)  # selling price of corn ($/T)\n",
        "model.P_wp = Param(initialize=238)  # purchase price of wheat ($/T)\n",
        "model.P_cp = Param(initialize=210)  # purchase price of corn ($/T)\n",
        "model.P_bs = Param(initialize=36)  # selling price of sugar beets within the quota ($/T)\n",
        "model.P_be = Param(initialize=10)  # selling price of sugar beets exceeding the quota ($/T)\n",
        "model.Q_b = Param(initialize=6000)  # quota for sugar beet production (T)\n",
        "model.Y_w = Param(initialize=2.5)  # yield of wheat per acre (T/acre)\n",
        "model.Y_c = Param(initialize=3)  # yield of corn per acre (T/acre)\n",
        "model.Y_b = Param(initialize=20)  # yield of sugar beets per acre (T/acre)\n",
        "model.C_w = Param(initialize=150)  # cost of planting an acre of wheat ($/acre)\n",
        "model.C_c = Param(initialize=230)  # cost of planting an acre of corn ($/acre)\n",
        "model.C_b = Param(initialize=260)  # cost of planting an acre of sugar beets ($/acre)\n",
        "model.L = Param(initialize=500)  # total available land (acres)\n",
        "\n",
        "# Define decision variables\n",
        "model.A_w = Var(domain=NonNegativeReals)  # acres of land devoted to wheat\n",
        "model.A_c = Var(domain=NonNegativeReals)  # acres of land devoted to corn\n",
        "model.A_b = Var(domain=NonNegativeReals)  # acres of land devoted to sugar beets\n",
        "model.W_s = Var(domain=NonNegativeReals)  # tons of wheat sold\n",
        "model.W_p = Var(domain=NonNegativeReals)  # tons of wheat purchased\n",
        "model.C_s = Var(domain=NonNegativeReals)  # tons of corn sold\n",
        "model.C_p = Var(domain=NonNegativeReals)  # tons of corn purchased\n",
        "model.B_s = Var(domain=NonNegativeReals)  # tons of sugar beets sold within the quota\n",
        "model.B_e = Var(domain=NonNegativeReals)  # tons of sugar beets sold exceeding the quota\n",
        "\n",
        "# Define objective function\n",
        "def total_cost(model):\n",
        "    return (model.C_w * model.A_w + model.C_c * model.A_c + model.C_b * model.A_b +\n",
        "            model.P_wp * model.W_p + model.P_cp * model.C_p -\n",
        "            model.P_ws * model.W_s - model.P_cs * model.C_s -\n",
        "            model.P_bs * model.B_s - model.P_be * model.B_e)\n",
        "\n",
        "model.objective = Objective(rule=total_cost, sense=minimize)\n",
        "\n",
        "# Define constraints\n",
        "model.land_constraint = Constraint(expr=model.A_w + model.A_c + model.A_b <= model.L)\n",
        "model.wheat_balance = Constraint(expr=model.Y_w * model.A_w + model.W_p - model.W_s >= model.W_min)\n",
        "model.corn_balance = Constraint(expr=model.Y_c * model.A_c + model.C_p - model.C_s >= model.C_min)\n",
        "model.sugar_beet_quota = Constraint(expr=model.B_s <= model.Q_b)\n",
        "model.sugar_beet_balance = Constraint(expr=model.Y_b * model.A_b == model.B_s + model.B_e)\n",
        "\n",
        "# Solve the optimization problem\n",
        "solver = SolverFactory('glpk')  # You can use any available solver\n",
        "results = solver.solve(model)\n",
        "\n",
        "# Print the results\n",
        "print(\"Acres of wheat:\", model.A_w.value)\n",
        "print(\"Acres of corn:\", model.A_c.value)\n",
        "print(\"Acres of sugar beets:\", model.A_b.value)\n",
        "print(\"Tons of wheat sold:\", model.W_s.value)\n",
        "print(\"Tons of wheat purchased:\", model.W_p.value)\n",
        "print(\"Tons of corn sold:\", model.C_s.value)\n",
        "print(\"Tons of corn purchased:\", model.C_p.value)\n",
        "print(\"Tons of sugar beets sold within the quota:\", model.B_s.value)\n",
        "print(\"Tons of sugar beets sold exceeding the quota:\", model.B_e.value)\n",
        "print(\"Total cost:\", model.objective())"
      ],
      "metadata": {
        "colab": {
          "base_uri": "https://localhost:8080/"
        },
        "id": "8FpHcuWU8rQ2",
        "outputId": "195a52aa-853b-410f-e077-8f8a53cc5ca5"
      },
      "execution_count": 12,
      "outputs": [
        {
          "output_type": "stream",
          "name": "stdout",
          "text": [
            "Acres of wheat: 120.0\n",
            "Acres of corn: 80.0\n",
            "Acres of sugar beets: 300.0\n",
            "Tons of wheat sold: 99.9999999999999\n",
            "Tons of wheat purchased: 0.0\n",
            "Tons of corn sold: 0.0\n",
            "Tons of corn purchased: 0.0\n",
            "Tons of sugar beets sold within the quota: 6000.0\n",
            "Tons of sugar beets sold exceeding the quota: 0.0\n",
            "Total cost: -118599.99999999999\n"
          ]
        }
      ]
    },
    {
      "cell_type": "markdown",
      "source": [
        "# 5. Correct The Model Code to Test Mathematical Model (if applicable)"
      ],
      "metadata": {
        "id": "KHTyoLQTWZVy"
      }
    },
    {
      "cell_type": "code",
      "source": [],
      "metadata": {
        "id": "St1_C5TbCXcf"
      },
      "execution_count": 12,
      "outputs": []
    },
    {
      "cell_type": "code",
      "source": [],
      "metadata": {
        "id": "A-Kq05sreCew"
      },
      "execution_count": 12,
      "outputs": []
    }
  ]
}