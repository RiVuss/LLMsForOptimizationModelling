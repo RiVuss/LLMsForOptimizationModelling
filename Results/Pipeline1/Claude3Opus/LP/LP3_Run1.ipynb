{
  "nbformat": 4,
  "nbformat_minor": 0,
  "metadata": {
    "colab": {
      "provenance": []
    },
    "kernelspec": {
      "name": "python3",
      "display_name": "Python 3"
    },
    "language_info": {
      "name": "python"
    }
  },
  "cells": [
    {
      "cell_type": "markdown",
      "source": [
        "# 0. Imports and Setting up Anthropic API Client"
      ],
      "metadata": {
        "id": "y5fw0lkBwBbo"
      }
    },
    {
      "cell_type": "code",
      "source": [
        "from google.colab import drive\n",
        "\n",
        "drive.mount('/content/drive')"
      ],
      "metadata": {
        "colab": {
          "base_uri": "https://localhost:8080/"
        },
        "id": "e7tWOLo0yMoH",
        "outputId": "65393713-1654-48b0-f021-8175f35160a1"
      },
      "execution_count": 1,
      "outputs": [
        {
          "output_type": "stream",
          "name": "stdout",
          "text": [
            "Mounted at /content/drive\n"
          ]
        }
      ]
    },
    {
      "cell_type": "code",
      "source": [
        "!pip install python-dotenv\n",
        "\n",
        "import os\n",
        "import dotenv\n",
        "\n",
        "dotenv.load_dotenv('/content/drive/MyDrive/.env')"
      ],
      "metadata": {
        "colab": {
          "base_uri": "https://localhost:8080/"
        },
        "id": "utcEK8lZ1Z1R",
        "outputId": "2597db5e-b1ab-4d30-a5bb-7224628f2e8a"
      },
      "execution_count": 2,
      "outputs": [
        {
          "output_type": "stream",
          "name": "stdout",
          "text": [
            "Collecting python-dotenv\n",
            "  Downloading python_dotenv-1.0.1-py3-none-any.whl (19 kB)\n",
            "Installing collected packages: python-dotenv\n",
            "Successfully installed python-dotenv-1.0.1\n"
          ]
        },
        {
          "output_type": "execute_result",
          "data": {
            "text/plain": [
              "True"
            ]
          },
          "metadata": {},
          "execution_count": 2
        }
      ]
    },
    {
      "cell_type": "code",
      "source": [
        "# Load Prompts and Problem Description\n",
        "prompt1_path = '/content/drive/MyDrive/Thesis/Prompts/Prompt1_MathematicalModel.txt'\n",
        "prompt2_path = '/content/drive/MyDrive/Thesis/Prompts/Prompt2_PyomoCode.txt'\n",
        "problem_desc_path = '/content/drive/MyDrive/Thesis/ProblemDescriptions/LP/LP3.txt'\n",
        "\n",
        "prompt1_file = open(prompt1_path, \"r\")\n",
        "prompt2_file = open(prompt2_path, \"r\")\n",
        "problem_desc_file = open(problem_desc_path, \"r\")\n",
        "\n",
        "prompt1 = prompt1_file.read()\n",
        "print(\"Prompt 1:\\n\", prompt1)\n",
        "\n",
        "prompt2 = prompt2_file.read()\n",
        "print(\"Prompt 2:\\n\", prompt2)\n",
        "\n",
        "problem_desc = problem_desc_file.read()\n",
        "print(\"Problem Description:\\n\", problem_desc)"
      ],
      "metadata": {
        "colab": {
          "base_uri": "https://localhost:8080/"
        },
        "id": "9KlkjwMUS4xp",
        "outputId": "e67165bb-6479-4e1b-b908-41cf20f724c9"
      },
      "execution_count": 3,
      "outputs": [
        {
          "output_type": "stream",
          "name": "stdout",
          "text": [
            "Prompt 1:\n",
            " Please write a mathematical optimization model for this problem. Include parameters, decision variables, the objective function and the constraints in your answer.\n",
            "Prompt 2:\n",
            " Please write a python pyomo code for this optimization problem.\n",
            "Use sample data where needed.\n",
            "Indicate where you use sample data.\n",
            "Problem Description:\n",
            " The PRODA, S.A. industrial products firm has to face the problem of scheduling\n",
            "the weekly production of its three products (P1, P2 and P3). These products are\n",
            "sold to large industrial firms and PRODA, S.A. wishes to supply its products in\n",
            "quantities that are more profitable for it.\n",
            "\n",
            "Each product entails three operations contributing to the costs: smelting; mechanisation; assembly and\n",
            "packaging. The smelting operations for products P1 and P2 could be subcontracted, but the smelting operation for product P3 requires special equipment, thus\n",
            "preventing the use of subcontracts. PRODA also want to know, how much they should subcontract.\n",
            "\n",
            "For product P1 the direct unit costs of all possible operations are:\n",
            "- smelting at PRODA: 0.30$\n",
            "- subcontracted smelting: 0.50$\n",
            "- mechanisation: 0.20$\n",
            "- Assembly and packaging: 0.3$\n",
            "The unit sales price is 1.50$.\n",
            "\n",
            "For product P2 the direct unit costs of all possible operations are:\n",
            "- smelting at PRODA: 0.50$\n",
            "- subcontracted smelting: 0.60$\n",
            "- mechanisation: 0.10$\n",
            "- Assembly and packaging: 0.20$\n",
            "The unit sales price is 1.80$.\n",
            "\n",
            "For product P3 the direct unit costs of all possible operations are:\n",
            "- smelting at PRODA: 0.40$\n",
            "- mechanisation: 0.27$\n",
            "- Assembly and packaging: 0.20$\n",
            "The unit sales price is 1.97$.\n",
            "\n",
            "Each unit of product P1 requires 6 min of smelting time (if performed at PRODA, S.A.), 6 min of mechanisation time and 3 min of assembly and packaging time, respectively. For product P2, the times are 10, 3 and 2 min, respectively. One unit of product P3 needs 8 min of smelting time, 8 min of mechanisation and 2 min for assembly and packaging. PRODA, S.A. has weekly capacities of 8,000 min of smelting time, 12,000 min of mechanisation time and 10,000 min of assembly and packaging time.\n",
            "The objective is to maximize weekly profits.\n"
          ]
        }
      ]
    },
    {
      "cell_type": "code",
      "source": [
        "!pip install anthropic"
      ],
      "metadata": {
        "colab": {
          "base_uri": "https://localhost:8080/"
        },
        "id": "iWlNsTIvxCcR",
        "outputId": "1cade15f-ca8e-4da6-8dc3-66ab4fe4f75e",
        "collapsed": true
      },
      "execution_count": 4,
      "outputs": [
        {
          "output_type": "stream",
          "name": "stdout",
          "text": [
            "Collecting anthropic\n",
            "  Downloading anthropic-0.25.9-py3-none-any.whl (871 kB)\n",
            "\u001b[2K     \u001b[90m━━━━━━━━━━━━━━━━━━━━━━━━━━━━━━━━━━━━━━━━\u001b[0m \u001b[32m871.1/871.1 kB\u001b[0m \u001b[31m7.5 MB/s\u001b[0m eta \u001b[36m0:00:00\u001b[0m\n",
            "\u001b[?25hRequirement already satisfied: anyio<5,>=3.5.0 in /usr/local/lib/python3.10/dist-packages (from anthropic) (3.7.1)\n",
            "Requirement already satisfied: distro<2,>=1.7.0 in /usr/lib/python3/dist-packages (from anthropic) (1.7.0)\n",
            "Collecting httpx<1,>=0.23.0 (from anthropic)\n",
            "  Downloading httpx-0.27.0-py3-none-any.whl (75 kB)\n",
            "\u001b[2K     \u001b[90m━━━━━━━━━━━━━━━━━━━━━━━━━━━━━━━━━━━━━━━━\u001b[0m \u001b[32m75.6/75.6 kB\u001b[0m \u001b[31m8.3 MB/s\u001b[0m eta \u001b[36m0:00:00\u001b[0m\n",
            "\u001b[?25hRequirement already satisfied: pydantic<3,>=1.9.0 in /usr/local/lib/python3.10/dist-packages (from anthropic) (2.7.1)\n",
            "Requirement already satisfied: sniffio in /usr/local/lib/python3.10/dist-packages (from anthropic) (1.3.1)\n",
            "Requirement already satisfied: tokenizers>=0.13.0 in /usr/local/lib/python3.10/dist-packages (from anthropic) (0.19.1)\n",
            "Requirement already satisfied: typing-extensions<5,>=4.7 in /usr/local/lib/python3.10/dist-packages (from anthropic) (4.11.0)\n",
            "Requirement already satisfied: idna>=2.8 in /usr/local/lib/python3.10/dist-packages (from anyio<5,>=3.5.0->anthropic) (3.7)\n",
            "Requirement already satisfied: exceptiongroup in /usr/local/lib/python3.10/dist-packages (from anyio<5,>=3.5.0->anthropic) (1.2.1)\n",
            "Requirement already satisfied: certifi in /usr/local/lib/python3.10/dist-packages (from httpx<1,>=0.23.0->anthropic) (2024.2.2)\n",
            "Collecting httpcore==1.* (from httpx<1,>=0.23.0->anthropic)\n",
            "  Downloading httpcore-1.0.5-py3-none-any.whl (77 kB)\n",
            "\u001b[2K     \u001b[90m━━━━━━━━━━━━━━━━━━━━━━━━━━━━━━━━━━━━━━━━\u001b[0m \u001b[32m77.9/77.9 kB\u001b[0m \u001b[31m6.4 MB/s\u001b[0m eta \u001b[36m0:00:00\u001b[0m\n",
            "\u001b[?25hCollecting h11<0.15,>=0.13 (from httpcore==1.*->httpx<1,>=0.23.0->anthropic)\n",
            "  Downloading h11-0.14.0-py3-none-any.whl (58 kB)\n",
            "\u001b[2K     \u001b[90m━━━━━━━━━━━━━━━━━━━━━━━━━━━━━━━━━━━━━━━━\u001b[0m \u001b[32m58.3/58.3 kB\u001b[0m \u001b[31m5.1 MB/s\u001b[0m eta \u001b[36m0:00:00\u001b[0m\n",
            "\u001b[?25hRequirement already satisfied: annotated-types>=0.4.0 in /usr/local/lib/python3.10/dist-packages (from pydantic<3,>=1.9.0->anthropic) (0.6.0)\n",
            "Requirement already satisfied: pydantic-core==2.18.2 in /usr/local/lib/python3.10/dist-packages (from pydantic<3,>=1.9.0->anthropic) (2.18.2)\n",
            "Requirement already satisfied: huggingface-hub<1.0,>=0.16.4 in /usr/local/lib/python3.10/dist-packages (from tokenizers>=0.13.0->anthropic) (0.20.3)\n",
            "Requirement already satisfied: filelock in /usr/local/lib/python3.10/dist-packages (from huggingface-hub<1.0,>=0.16.4->tokenizers>=0.13.0->anthropic) (3.14.0)\n",
            "Requirement already satisfied: fsspec>=2023.5.0 in /usr/local/lib/python3.10/dist-packages (from huggingface-hub<1.0,>=0.16.4->tokenizers>=0.13.0->anthropic) (2023.6.0)\n",
            "Requirement already satisfied: requests in /usr/local/lib/python3.10/dist-packages (from huggingface-hub<1.0,>=0.16.4->tokenizers>=0.13.0->anthropic) (2.31.0)\n",
            "Requirement already satisfied: tqdm>=4.42.1 in /usr/local/lib/python3.10/dist-packages (from huggingface-hub<1.0,>=0.16.4->tokenizers>=0.13.0->anthropic) (4.66.4)\n",
            "Requirement already satisfied: pyyaml>=5.1 in /usr/local/lib/python3.10/dist-packages (from huggingface-hub<1.0,>=0.16.4->tokenizers>=0.13.0->anthropic) (6.0.1)\n",
            "Requirement already satisfied: packaging>=20.9 in /usr/local/lib/python3.10/dist-packages (from huggingface-hub<1.0,>=0.16.4->tokenizers>=0.13.0->anthropic) (24.0)\n",
            "Requirement already satisfied: charset-normalizer<4,>=2 in /usr/local/lib/python3.10/dist-packages (from requests->huggingface-hub<1.0,>=0.16.4->tokenizers>=0.13.0->anthropic) (3.3.2)\n",
            "Requirement already satisfied: urllib3<3,>=1.21.1 in /usr/local/lib/python3.10/dist-packages (from requests->huggingface-hub<1.0,>=0.16.4->tokenizers>=0.13.0->anthropic) (2.0.7)\n",
            "Installing collected packages: h11, httpcore, httpx, anthropic\n",
            "Successfully installed anthropic-0.25.9 h11-0.14.0 httpcore-1.0.5 httpx-0.27.0\n"
          ]
        }
      ]
    },
    {
      "cell_type": "code",
      "execution_count": 5,
      "metadata": {
        "id": "7Qjk2D63v1Bl"
      },
      "outputs": [],
      "source": [
        "# Importing Anthropic & Setting Headers\n",
        "import anthropic\n",
        "\n",
        "client = anthropic.Anthropic(\n",
        "    # defaults to os.environ.get(\"ANTHROPIC_API_KEY\")\n",
        "    api_key=os.environ.get(\"ANTHROPIC_API_KEY\"),\n",
        ")"
      ]
    },
    {
      "cell_type": "markdown",
      "source": [
        "# 1. Prompt 1: Create Mathematical Model"
      ],
      "metadata": {
        "id": "kT7yKbJs18XR"
      }
    },
    {
      "cell_type": "code",
      "source": [
        "message = client.messages.create(\n",
        "    model=\"claude-3-opus-20240229\",\n",
        "    system=prompt1,\n",
        "    max_tokens=4096,\n",
        "    messages=[\n",
        "        {\"role\": \"user\", \"content\": problem_desc}\n",
        "    ]\n",
        ")\n",
        "\n",
        "response_p1 = message.content[0].text"
      ],
      "metadata": {
        "id": "R_6X0axq16D4"
      },
      "execution_count": 6,
      "outputs": []
    },
    {
      "cell_type": "code",
      "source": [
        "# Print response\n",
        "print(response_p1)"
      ],
      "metadata": {
        "colab": {
          "base_uri": "https://localhost:8080/"
        },
        "id": "Ra9Ox_PI38jg",
        "outputId": "d9acb3df-ce99-488e-d88d-654dd521286a"
      },
      "execution_count": 7,
      "outputs": [
        {
          "output_type": "stream",
          "name": "stdout",
          "text": [
            "To solve this problem, we can formulate a linear programming model. Let's define the decision variables, parameters, objective function, and constraints as follows:\n",
            "\n",
            "Decision Variables:\n",
            "- Let x1 be the number of units of product P1 produced with smelting at PRODA.\n",
            "- Let y1 be the number of units of product P1 produced with subcontracted smelting.\n",
            "- Let x2 be the number of units of product P2 produced with smelting at PRODA.\n",
            "- Let y2 be the number of units of product P2 produced with subcontracted smelting.\n",
            "- Let x3 be the number of units of product P3 produced.\n",
            "\n",
            "Parameters:\n",
            "- Let p1, p2, and p3 be the unit sales prices of products P1, P2, and P3, respectively.\n",
            "- Let c1, c2, and c3 be the unit costs of smelting at PRODA for products P1, P2, and P3, respectively.\n",
            "- Let s1 and s2 be the unit costs of subcontracted smelting for products P1 and P2, respectively.\n",
            "- Let m1, m2, and m3 be the unit costs of mechanisation for products P1, P2, and P3, respectively.\n",
            "- Let a1, a2, and a3 be the unit costs of assembly and packaging for products P1, P2, and P3, respectively.\n",
            "- Let t1, t2, and t3 be the smelting times (in minutes) for products P1, P2, and P3, respectively.\n",
            "- Let u1, u2, and u3 be the mechanisation times (in minutes) for products P1, P2, and P3, respectively.\n",
            "- Let v1, v2, and v3 be the assembly and packaging times (in minutes) for products P1, P2, and P3, respectively.\n",
            "- Let S, M, and A be the weekly capacities (in minutes) for smelting, mechanisation, and assembly and packaging, respectively.\n",
            "\n",
            "Objective Function:\n",
            "- Maximize: (p1 - c1 - m1 - a1) * x1 + (p1 - s1 - m1 - a1) * y1 + (p2 - c2 - m2 - a2) * x2 + (p2 - s2 - m2 - a2) * y2 + (p3 - c3 - m3 - a3) * x3\n",
            "\n",
            "Constraints:\n",
            "- Smelting capacity: t1 * x1 + t2 * x2 + t3 * x3 ≤ S\n",
            "- Mechanisation capacity: u1 * (x1 + y1) + u2 * (x2 + y2) + u3 * x3 ≤ M\n",
            "- Assembly and packaging capacity: v1 * (x1 + y1) + v2 * (x2 + y2) + v3 * x3 ≤ A\n",
            "- Non-negativity: x1, y1, x2, y2, x3 ≥ 0\n",
            "\n",
            "The objective function maximizes the total weekly profit by considering the profit per unit of each product and the quantities produced. The constraints ensure that the production quantities respect the available capacities for smelting, mechanisation, and assembly and packaging. The non-negativity constraints guarantee that the decision variables are non-negative.\n"
          ]
        }
      ]
    },
    {
      "cell_type": "markdown",
      "source": [
        "# 2. Prompt 2: Write Code based on Mathematical Model"
      ],
      "metadata": {
        "id": "WPZ6lgBO729j"
      }
    },
    {
      "cell_type": "code",
      "source": [
        "message2 = client.messages.create(\n",
        "    model=\"claude-3-opus-20240229\",\n",
        "    system=prompt2,\n",
        "    max_tokens=4069,\n",
        "    messages=[\n",
        "        {\"role\": \"user\", \"content\": response_p1}\n",
        "    ]\n",
        ")\n",
        "\n",
        "response_p2 = message2.content[0].text"
      ],
      "metadata": {
        "id": "1iUSgBda70FL"
      },
      "execution_count": 8,
      "outputs": []
    },
    {
      "cell_type": "code",
      "source": [
        "# Print response\n",
        "print(response_p2)"
      ],
      "metadata": {
        "colab": {
          "base_uri": "https://localhost:8080/"
        },
        "id": "o40mxc_H8eQ9",
        "outputId": "4ef1cc93-95d3-44f0-9b60-f471466b3681"
      },
      "execution_count": 9,
      "outputs": [
        {
          "output_type": "stream",
          "name": "stdout",
          "text": [
            "Here's the Pyomo code for the optimization problem:\n",
            "\n",
            "```python\n",
            "from pyomo.environ import *\n",
            "\n",
            "# Create the model\n",
            "model = ConcreteModel()\n",
            "\n",
            "# Define the decision variables\n",
            "model.x1 = Var(within=NonNegativeReals)\n",
            "model.y1 = Var(within=NonNegativeReals)\n",
            "model.x2 = Var(within=NonNegativeReals)\n",
            "model.y2 = Var(within=NonNegativeReals)\n",
            "model.x3 = Var(within=NonNegativeReals)\n",
            "\n",
            "# Define the parameters (sample data)\n",
            "p1, p2, p3 = 100, 120, 90  # Unit sales prices\n",
            "c1, c2, c3 = 40, 50, 35    # Unit costs of smelting at PRODA\n",
            "s1, s2 = 50, 60            # Unit costs of subcontracted smelting\n",
            "m1, m2, m3 = 10, 15, 12    # Unit costs of mechanisation\n",
            "a1, a2, a3 = 20, 25, 18    # Unit costs of assembly and packaging\n",
            "t1, t2, t3 = 5, 6, 4       # Smelting times (in minutes)\n",
            "u1, u2, u3 = 2, 3, 2       # Mechanisation times (in minutes)\n",
            "v1, v2, v3 = 3, 4, 3       # Assembly and packaging times (in minutes)\n",
            "S = 2400                   # Weekly smelting capacity (in minutes)\n",
            "M = 1200                   # Weekly mechanisation capacity (in minutes)\n",
            "A = 1800                   # Weekly assembly and packaging capacity (in minutes)\n",
            "\n",
            "# Define the objective function\n",
            "model.profit = Objective(expr=(p1 - c1 - m1 - a1) * model.x1 + (p1 - s1 - m1 - a1) * model.y1 +\n",
            "                              (p2 - c2 - m2 - a2) * model.x2 + (p2 - s2 - m2 - a2) * model.y2 +\n",
            "                              (p3 - c3 - m3 - a3) * model.x3, sense=maximize)\n",
            "\n",
            "# Define the constraints\n",
            "model.smelting_capacity = Constraint(expr=t1 * model.x1 + t2 * model.x2 + t3 * model.x3 <= S)\n",
            "model.mechanisation_capacity = Constraint(expr=u1 * (model.x1 + model.y1) + u2 * (model.x2 + model.y2) + u3 * model.x3 <= M)\n",
            "model.assembly_capacity = Constraint(expr=v1 * (model.x1 + model.y1) + v2 * (model.x2 + model.y2) + v3 * model.x3 <= A)\n",
            "\n",
            "# Solve the model\n",
            "solver = SolverFactory('glpk')\n",
            "results = solver.solve(model)\n",
            "\n",
            "# Print the results\n",
            "print(\"Optimal Profit:\", model.profit())\n",
            "print(\"x1 =\", model.x1())\n",
            "print(\"y1 =\", model.y1())\n",
            "print(\"x2 =\", model.x2())\n",
            "print(\"y2 =\", model.y2())\n",
            "print(\"x3 =\", model.x3())\n",
            "```\n",
            "\n",
            "Note: The code uses sample data for the parameters, as indicated by the comments. You can replace these values with the actual data for your specific problem.\n",
            "\n",
            "To run the code, make sure you have Pyomo and a solver (e.g., GLPK) installed. You can install Pyomo using `pip install pyomo` and install GLPK separately based on your operating system.\n",
            "\n",
            "The code creates a Pyomo model, defines the decision variables and parameters, sets up the objective function and constraints, and solves the model using the GLPK solver. Finally, it prints the optimal profit and the values of the decision variables.\n"
          ]
        }
      ]
    },
    {
      "cell_type": "markdown",
      "source": [
        "# 4. Input Problem Data and Test Model Code"
      ],
      "metadata": {
        "id": "Pc0QqJuf8up_"
      }
    },
    {
      "cell_type": "code",
      "source": [
        "# Installing pyomo nd solver\n",
        "!pip install -q pyomo\n",
        "!apt-get install -y -qq glpk-utils\n",
        "!pip install glpk"
      ],
      "metadata": {
        "colab": {
          "base_uri": "https://localhost:8080/"
        },
        "id": "3BtROuLu9O-p",
        "outputId": "2d88a3c7-59d5-4dfd-9645-d4543f7383e0",
        "collapsed": true
      },
      "execution_count": 10,
      "outputs": [
        {
          "output_type": "stream",
          "name": "stdout",
          "text": [
            "\u001b[2K     \u001b[90m━━━━━━━━━━━━━━━━━━━━━━━━━━━━━━━━━━━━━━━━\u001b[0m \u001b[32m12.8/12.8 MB\u001b[0m \u001b[31m45.0 MB/s\u001b[0m eta \u001b[36m0:00:00\u001b[0m\n",
            "\u001b[2K     \u001b[90m━━━━━━━━━━━━━━━━━━━━━━━━━━━━━━━━━━━━━━━━\u001b[0m \u001b[32m49.6/49.6 kB\u001b[0m \u001b[31m4.2 MB/s\u001b[0m eta \u001b[36m0:00:00\u001b[0m\n",
            "\u001b[?25hSelecting previously unselected package libsuitesparseconfig5:amd64.\n",
            "(Reading database ... 121918 files and directories currently installed.)\n",
            "Preparing to unpack .../libsuitesparseconfig5_1%3a5.10.1+dfsg-4build1_amd64.deb ...\n",
            "Unpacking libsuitesparseconfig5:amd64 (1:5.10.1+dfsg-4build1) ...\n",
            "Selecting previously unselected package libamd2:amd64.\n",
            "Preparing to unpack .../libamd2_1%3a5.10.1+dfsg-4build1_amd64.deb ...\n",
            "Unpacking libamd2:amd64 (1:5.10.1+dfsg-4build1) ...\n",
            "Selecting previously unselected package libcolamd2:amd64.\n",
            "Preparing to unpack .../libcolamd2_1%3a5.10.1+dfsg-4build1_amd64.deb ...\n",
            "Unpacking libcolamd2:amd64 (1:5.10.1+dfsg-4build1) ...\n",
            "Selecting previously unselected package libglpk40:amd64.\n",
            "Preparing to unpack .../libglpk40_5.0-1_amd64.deb ...\n",
            "Unpacking libglpk40:amd64 (5.0-1) ...\n",
            "Selecting previously unselected package glpk-utils.\n",
            "Preparing to unpack .../glpk-utils_5.0-1_amd64.deb ...\n",
            "Unpacking glpk-utils (5.0-1) ...\n",
            "Setting up libsuitesparseconfig5:amd64 (1:5.10.1+dfsg-4build1) ...\n",
            "Setting up libamd2:amd64 (1:5.10.1+dfsg-4build1) ...\n",
            "Setting up libcolamd2:amd64 (1:5.10.1+dfsg-4build1) ...\n",
            "Setting up libglpk40:amd64 (5.0-1) ...\n",
            "Setting up glpk-utils (5.0-1) ...\n",
            "Processing triggers for man-db (2.10.2-1) ...\n",
            "Processing triggers for libc-bin (2.35-0ubuntu3.4) ...\n",
            "/sbin/ldconfig.real: /usr/local/lib/libtbbbind_2_5.so.3 is not a symbolic link\n",
            "\n",
            "/sbin/ldconfig.real: /usr/local/lib/libtbbmalloc.so.2 is not a symbolic link\n",
            "\n",
            "/sbin/ldconfig.real: /usr/local/lib/libtbbbind.so.3 is not a symbolic link\n",
            "\n",
            "/sbin/ldconfig.real: /usr/local/lib/libtbbmalloc_proxy.so.2 is not a symbolic link\n",
            "\n",
            "/sbin/ldconfig.real: /usr/local/lib/libtbb.so.12 is not a symbolic link\n",
            "\n",
            "/sbin/ldconfig.real: /usr/local/lib/libtbbbind_2_0.so.3 is not a symbolic link\n",
            "\n",
            "Collecting glpk\n",
            "  Downloading glpk-0.4.7.tar.gz (161 kB)\n",
            "\u001b[2K     \u001b[90m━━━━━━━━━━━━━━━━━━━━━━━━━━━━━━━━━━━━━━━━\u001b[0m \u001b[32m161.2/161.2 kB\u001b[0m \u001b[31m1.0 MB/s\u001b[0m eta \u001b[36m0:00:00\u001b[0m\n",
            "\u001b[?25h  Installing build dependencies ... \u001b[?25l\u001b[?25hdone\n",
            "  Getting requirements to build wheel ... \u001b[?25l\u001b[?25hdone\n",
            "  Preparing metadata (pyproject.toml) ... \u001b[?25l\u001b[?25hdone\n",
            "Building wheels for collected packages: glpk\n",
            "  \u001b[1;31merror\u001b[0m: \u001b[1msubprocess-exited-with-error\u001b[0m\n",
            "  \n",
            "  \u001b[31m×\u001b[0m \u001b[32mBuilding wheel for glpk \u001b[0m\u001b[1;32m(\u001b[0m\u001b[32mpyproject.toml\u001b[0m\u001b[1;32m)\u001b[0m did not run successfully.\n",
            "  \u001b[31m│\u001b[0m exit code: \u001b[1;36m1\u001b[0m\n",
            "  \u001b[31m╰─>\u001b[0m See above for output.\n",
            "  \n",
            "  \u001b[1;35mnote\u001b[0m: This error originates from a subprocess, and is likely not a problem with pip.\n",
            "  Building wheel for glpk (pyproject.toml) ... \u001b[?25l\u001b[?25herror\n",
            "\u001b[31m  ERROR: Failed building wheel for glpk\u001b[0m\u001b[31m\n",
            "\u001b[0mFailed to build glpk\n",
            "\u001b[31mERROR: Could not build wheels for glpk, which is required to install pyproject.toml-based projects\u001b[0m\u001b[31m\n",
            "\u001b[0m"
          ]
        }
      ]
    },
    {
      "cell_type": "code",
      "source": [
        "from pyomo.environ import *\n",
        "\n",
        "# Create the model\n",
        "model = ConcreteModel()\n",
        "\n",
        "# Define the decision variables\n",
        "model.x1 = Var(within=NonNegativeReals)\n",
        "model.y1 = Var(within=NonNegativeReals)\n",
        "model.x2 = Var(within=NonNegativeReals)\n",
        "model.y2 = Var(within=NonNegativeReals)\n",
        "model.x3 = Var(within=NonNegativeReals)\n",
        "\n",
        "# Define the parameters (sample data)\n",
        "p1, p2, p3 = 1.50, 1.80, 1.97  # Unit sales prices\n",
        "c1, c2, c3 = 0.3, 0.5, 0.4    # Unit costs of smelting at PRODA\n",
        "s1, s2 = 0.5, 0.6            # Unit costs of subcontracted smelting\n",
        "m1, m2, m3 = 0.2, 0.1, 0.27    # Unit costs of mechanisation\n",
        "a1, a2, a3 = 0.3, 0.2, 0.2    # Unit costs of assembly and packaging\n",
        "t1, t2, t3 = 6, 10, 8       # Smelting times (in minutes)\n",
        "u1, u2, u3 = 6, 3, 8       # Mechanisation times (in minutes)\n",
        "v1, v2, v3 = 3, 2, 2       # Assembly and packaging times (in minutes)\n",
        "S = 8000                   # Weekly smelting capacity (in minutes)\n",
        "M = 12000                   # Weekly mechanisation capacity (in minutes)\n",
        "A = 10000                   # Weekly assembly and packaging capacity (in minutes)\n",
        "\n",
        "# Define the objective function\n",
        "model.profit = Objective(expr=(p1 - c1 - m1 - a1) * model.x1 + (p1 - s1 - m1 - a1) * model.y1 +\n",
        "                              (p2 - c2 - m2 - a2) * model.x2 + (p2 - s2 - m2 - a2) * model.y2 +\n",
        "                              (p3 - c3 - m3 - a3) * model.x3, sense=maximize)\n",
        "\n",
        "# Define the constraints\n",
        "model.smelting_capacity = Constraint(expr=t1 * model.x1 + t2 * model.x2 + t3 * model.x3 <= S)\n",
        "model.mechanisation_capacity = Constraint(expr=u1 * (model.x1 + model.y1) + u2 * (model.x2 + model.y2) + u3 * model.x3 <= M)\n",
        "model.assembly_capacity = Constraint(expr=v1 * (model.x1 + model.y1) + v2 * (model.x2 + model.y2) + v3 * model.x3 <= A)\n",
        "\n",
        "# Solve the model\n",
        "solver = SolverFactory('glpk')\n",
        "results = solver.solve(model)\n",
        "\n",
        "# Print the results\n",
        "print(\"Optimal Profit:\", model.profit())\n",
        "print(\"x1 =\", model.x1())\n",
        "print(\"y1 =\", model.y1())\n",
        "print(\"x2 =\", model.x2())\n",
        "print(\"y2 =\", model.y2())\n",
        "print(\"x3 =\", model.x3())"
      ],
      "metadata": {
        "colab": {
          "base_uri": "https://localhost:8080/"
        },
        "id": "8FpHcuWU8rQ2",
        "outputId": "744784b5-76e8-49f2-c211-79730035b9eb"
      },
      "execution_count": 11,
      "outputs": [
        {
          "output_type": "stream",
          "name": "stdout",
          "text": [
            "Optimal Profit: 3680.0000000000005\n",
            "x1 = 0.0\n",
            "y1 = 0.0\n",
            "x2 = 800.0\n",
            "y2 = 3200.0\n",
            "x3 = 0.0\n"
          ]
        }
      ]
    },
    {
      "cell_type": "markdown",
      "source": [
        "# 5. Correct The Model Code to Test Mathematical Model (if applicable)"
      ],
      "metadata": {
        "id": "KHTyoLQTWZVy"
      }
    },
    {
      "cell_type": "code",
      "source": [],
      "metadata": {
        "id": "A-Kq05sreCew"
      },
      "execution_count": 11,
      "outputs": []
    },
    {
      "cell_type": "code",
      "source": [],
      "metadata": {
        "id": "REJzqhR6WYvM"
      },
      "execution_count": 11,
      "outputs": []
    }
  ]
}