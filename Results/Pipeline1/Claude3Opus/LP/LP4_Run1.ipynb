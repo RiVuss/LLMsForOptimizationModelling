{
  "nbformat": 4,
  "nbformat_minor": 0,
  "metadata": {
    "colab": {
      "provenance": []
    },
    "kernelspec": {
      "name": "python3",
      "display_name": "Python 3"
    },
    "language_info": {
      "name": "python"
    }
  },
  "cells": [
    {
      "cell_type": "markdown",
      "source": [
        "# 0. Imports and Setting up Anthropic API Client"
      ],
      "metadata": {
        "id": "y5fw0lkBwBbo"
      }
    },
    {
      "cell_type": "code",
      "source": [
        "from google.colab import drive\n",
        "\n",
        "drive.mount('/content/drive')"
      ],
      "metadata": {
        "colab": {
          "base_uri": "https://localhost:8080/"
        },
        "id": "e7tWOLo0yMoH",
        "outputId": "38faffee-6be4-45f1-af1b-ed13756eefbe"
      },
      "execution_count": null,
      "outputs": [
        {
          "output_type": "stream",
          "name": "stdout",
          "text": [
            "Mounted at /content/drive\n"
          ]
        }
      ]
    },
    {
      "cell_type": "code",
      "source": [
        "!pip install python-dotenv\n",
        "\n",
        "import os\n",
        "import dotenv\n",
        "\n",
        "dotenv.load_dotenv('/content/drive/MyDrive/.env')"
      ],
      "metadata": {
        "colab": {
          "base_uri": "https://localhost:8080/"
        },
        "id": "utcEK8lZ1Z1R",
        "outputId": "7843b516-84fd-477b-f452-99830bbbc57c"
      },
      "execution_count": null,
      "outputs": [
        {
          "output_type": "stream",
          "name": "stdout",
          "text": [
            "Collecting python-dotenv\n",
            "  Downloading python_dotenv-1.0.1-py3-none-any.whl (19 kB)\n",
            "Installing collected packages: python-dotenv\n",
            "Successfully installed python-dotenv-1.0.1\n"
          ]
        },
        {
          "output_type": "execute_result",
          "data": {
            "text/plain": [
              "True"
            ]
          },
          "metadata": {},
          "execution_count": 2
        }
      ]
    },
    {
      "cell_type": "code",
      "source": [
        "# Load Prompts and Problem Description\n",
        "prompt1_path = '/content/drive/MyDrive/Thesis/Prompts/Prompt1_MathematicalModel.txt'\n",
        "prompt2_path = '/content/drive/MyDrive/Thesis/Prompts/Prompt2_PyomoCode.txt'\n",
        "problem_desc_path = '/content/drive/MyDrive/Thesis/ProblemDescriptions/LP/LP4.txt'\n",
        "\n",
        "prompt1_file = open(prompt1_path, \"r\")\n",
        "prompt2_file = open(prompt2_path, \"r\")\n",
        "problem_desc_file = open(problem_desc_path, \"r\")\n",
        "\n",
        "prompt1 = prompt1_file.read()\n",
        "print(\"Prompt 1:\\n\", prompt1)\n",
        "\n",
        "prompt2 = prompt2_file.read()\n",
        "print(\"Prompt 2:\\n\", prompt2)\n",
        "\n",
        "problem_desc = problem_desc_file.read()\n",
        "print(\"Problem Description:\\n\", problem_desc)"
      ],
      "metadata": {
        "colab": {
          "base_uri": "https://localhost:8080/"
        },
        "id": "9KlkjwMUS4xp",
        "outputId": "b30f625b-6f5a-4c7f-f4c5-71bcd9f9f9bd"
      },
      "execution_count": null,
      "outputs": [
        {
          "output_type": "stream",
          "name": "stdout",
          "text": [
            "Prompt 1:\n",
            " Please write a mathematical optimization model for this problem. Include parameters, decision variables, the objective function and the constraints in your answer.\n",
            "Prompt 2:\n",
            " Please write a python pyomo code for this optimization problem.\n",
            "Use sample data where needed.\n",
            "Indicate where you use sample data.\n",
            "Problem Description:\n",
            " Consider a farmer who specializes in raising wheat, corn, and sugar beets on her 500 acres of land. During the winter, she wants to decide how much land to devote to each crop.\n",
            "\n",
            "The farmer knows that at least 200 tons (T) of wheat and 240 T of corn are needed for cattle feed. These amounts can be raised on the farm or bought from a wholesaler.\n",
            "Any production in excess of the feeding requirement would be sold.\n",
            "\n",
            "Over the last decade, mean selling prices have been $170 and $150 per ton of wheat and corn, respectively.\n",
            "The purchase prices are 40% more than this due to the wholesaler’s margin and transportation costs.\n",
            "\n",
            "Another profitable crop is sugar beet, which she expects to sell at $36/T. However, the European Commission imposes a quota on sugar beet production. Any amount in excess of the quota can be sold only at $10/T. The farmer’s quota for next year is 6000 T.\n",
            "\n",
            "Based on past experience, the farmer knows that the mean yield on her land is roughly 2.5 T, 3 T, and 20 T per acre for wheat, corn, and sugar beets, respectively. It costs $150 to plant an acre of wheat, $230 to pant an acre of corn and $260 to plant an acre of sugar beets. \n",
            "\n",
            "The farmer can decide how much of her land she will use to grow each of the three products: wheat, corn and sugar beets. The goal of the farmer is to minimize her total costs (where sales are considered as negative costs).\n"
          ]
        }
      ]
    },
    {
      "cell_type": "code",
      "source": [
        "!pip install anthropic"
      ],
      "metadata": {
        "colab": {
          "base_uri": "https://localhost:8080/"
        },
        "id": "iWlNsTIvxCcR",
        "outputId": "c2b39982-079f-4674-da49-a9450c059da2",
        "collapsed": true
      },
      "execution_count": null,
      "outputs": [
        {
          "output_type": "stream",
          "name": "stdout",
          "text": [
            "Collecting anthropic\n",
            "  Downloading anthropic-0.25.9-py3-none-any.whl (871 kB)\n",
            "\u001b[2K     \u001b[90m━━━━━━━━━━━━━━━━━━━━━━━━━━━━━━━━━━━━━━━━\u001b[0m \u001b[32m871.1/871.1 kB\u001b[0m \u001b[31m12.6 MB/s\u001b[0m eta \u001b[36m0:00:00\u001b[0m\n",
            "\u001b[?25hRequirement already satisfied: anyio<5,>=3.5.0 in /usr/local/lib/python3.10/dist-packages (from anthropic) (3.7.1)\n",
            "Requirement already satisfied: distro<2,>=1.7.0 in /usr/lib/python3/dist-packages (from anthropic) (1.7.0)\n",
            "Collecting httpx<1,>=0.23.0 (from anthropic)\n",
            "  Downloading httpx-0.27.0-py3-none-any.whl (75 kB)\n",
            "\u001b[2K     \u001b[90m━━━━━━━━━━━━━━━━━━━━━━━━━━━━━━━━━━━━━━━━\u001b[0m \u001b[32m75.6/75.6 kB\u001b[0m \u001b[31m6.1 MB/s\u001b[0m eta \u001b[36m0:00:00\u001b[0m\n",
            "\u001b[?25hRequirement already satisfied: pydantic<3,>=1.9.0 in /usr/local/lib/python3.10/dist-packages (from anthropic) (2.7.1)\n",
            "Requirement already satisfied: sniffio in /usr/local/lib/python3.10/dist-packages (from anthropic) (1.3.1)\n",
            "Requirement already satisfied: tokenizers>=0.13.0 in /usr/local/lib/python3.10/dist-packages (from anthropic) (0.19.1)\n",
            "Requirement already satisfied: typing-extensions<5,>=4.7 in /usr/local/lib/python3.10/dist-packages (from anthropic) (4.11.0)\n",
            "Requirement already satisfied: idna>=2.8 in /usr/local/lib/python3.10/dist-packages (from anyio<5,>=3.5.0->anthropic) (3.7)\n",
            "Requirement already satisfied: exceptiongroup in /usr/local/lib/python3.10/dist-packages (from anyio<5,>=3.5.0->anthropic) (1.2.1)\n",
            "Requirement already satisfied: certifi in /usr/local/lib/python3.10/dist-packages (from httpx<1,>=0.23.0->anthropic) (2024.2.2)\n",
            "Collecting httpcore==1.* (from httpx<1,>=0.23.0->anthropic)\n",
            "  Downloading httpcore-1.0.5-py3-none-any.whl (77 kB)\n",
            "\u001b[2K     \u001b[90m━━━━━━━━━━━━━━━━━━━━━━━━━━━━━━━━━━━━━━━━\u001b[0m \u001b[32m77.9/77.9 kB\u001b[0m \u001b[31m10.4 MB/s\u001b[0m eta \u001b[36m0:00:00\u001b[0m\n",
            "\u001b[?25hCollecting h11<0.15,>=0.13 (from httpcore==1.*->httpx<1,>=0.23.0->anthropic)\n",
            "  Downloading h11-0.14.0-py3-none-any.whl (58 kB)\n",
            "\u001b[2K     \u001b[90m━━━━━━━━━━━━━━━━━━━━━━━━━━━━━━━━━━━━━━━━\u001b[0m \u001b[32m58.3/58.3 kB\u001b[0m \u001b[31m4.6 MB/s\u001b[0m eta \u001b[36m0:00:00\u001b[0m\n",
            "\u001b[?25hRequirement already satisfied: annotated-types>=0.4.0 in /usr/local/lib/python3.10/dist-packages (from pydantic<3,>=1.9.0->anthropic) (0.6.0)\n",
            "Requirement already satisfied: pydantic-core==2.18.2 in /usr/local/lib/python3.10/dist-packages (from pydantic<3,>=1.9.0->anthropic) (2.18.2)\n",
            "Requirement already satisfied: huggingface-hub<1.0,>=0.16.4 in /usr/local/lib/python3.10/dist-packages (from tokenizers>=0.13.0->anthropic) (0.20.3)\n",
            "Requirement already satisfied: filelock in /usr/local/lib/python3.10/dist-packages (from huggingface-hub<1.0,>=0.16.4->tokenizers>=0.13.0->anthropic) (3.14.0)\n",
            "Requirement already satisfied: fsspec>=2023.5.0 in /usr/local/lib/python3.10/dist-packages (from huggingface-hub<1.0,>=0.16.4->tokenizers>=0.13.0->anthropic) (2023.6.0)\n",
            "Requirement already satisfied: requests in /usr/local/lib/python3.10/dist-packages (from huggingface-hub<1.0,>=0.16.4->tokenizers>=0.13.0->anthropic) (2.31.0)\n",
            "Requirement already satisfied: tqdm>=4.42.1 in /usr/local/lib/python3.10/dist-packages (from huggingface-hub<1.0,>=0.16.4->tokenizers>=0.13.0->anthropic) (4.66.4)\n",
            "Requirement already satisfied: pyyaml>=5.1 in /usr/local/lib/python3.10/dist-packages (from huggingface-hub<1.0,>=0.16.4->tokenizers>=0.13.0->anthropic) (6.0.1)\n",
            "Requirement already satisfied: packaging>=20.9 in /usr/local/lib/python3.10/dist-packages (from huggingface-hub<1.0,>=0.16.4->tokenizers>=0.13.0->anthropic) (24.0)\n",
            "Requirement already satisfied: charset-normalizer<4,>=2 in /usr/local/lib/python3.10/dist-packages (from requests->huggingface-hub<1.0,>=0.16.4->tokenizers>=0.13.0->anthropic) (3.3.2)\n",
            "Requirement already satisfied: urllib3<3,>=1.21.1 in /usr/local/lib/python3.10/dist-packages (from requests->huggingface-hub<1.0,>=0.16.4->tokenizers>=0.13.0->anthropic) (2.0.7)\n",
            "Installing collected packages: h11, httpcore, httpx, anthropic\n",
            "Successfully installed anthropic-0.25.9 h11-0.14.0 httpcore-1.0.5 httpx-0.27.0\n"
          ]
        }
      ]
    },
    {
      "cell_type": "code",
      "execution_count": null,
      "metadata": {
        "id": "7Qjk2D63v1Bl"
      },
      "outputs": [],
      "source": [
        "# Importing Anthropic & Setting Headers\n",
        "import anthropic\n",
        "\n",
        "client = anthropic.Anthropic(\n",
        "    # defaults to os.environ.get(\"ANTHROPIC_API_KEY\")\n",
        "    api_key=os.environ.get(\"ANTHROPIC_API_KEY\"),\n",
        ")"
      ]
    },
    {
      "cell_type": "markdown",
      "source": [
        "# 1. Prompt 1: Create Mathematical Model"
      ],
      "metadata": {
        "id": "kT7yKbJs18XR"
      }
    },
    {
      "cell_type": "code",
      "source": [
        "message = client.messages.create(\n",
        "    model=\"claude-3-opus-20240229\",\n",
        "    system=prompt1,\n",
        "    max_tokens=4096,\n",
        "    messages=[\n",
        "        {\"role\": \"user\", \"content\": problem_desc}\n",
        "    ]\n",
        ")\n",
        "\n",
        "response_p1 = message.content[0].text"
      ],
      "metadata": {
        "id": "R_6X0axq16D4"
      },
      "execution_count": null,
      "outputs": []
    },
    {
      "cell_type": "code",
      "source": [
        "# Print response\n",
        "print(response_p1)"
      ],
      "metadata": {
        "colab": {
          "base_uri": "https://localhost:8080/"
        },
        "id": "Ra9Ox_PI38jg",
        "outputId": "cbd286f5-353a-45e8-9c85-75c6274d48a3"
      },
      "execution_count": null,
      "outputs": [
        {
          "output_type": "stream",
          "name": "stdout",
          "text": [
            "Let's formulate the mathematical optimization model for the farmer's problem.\n",
            "\n",
            "Parameters:\n",
            "- W_min = 200: minimum requirement of wheat (in tons)\n",
            "- C_min = 240: minimum requirement of corn (in tons)\n",
            "- P_w = 170: selling price of wheat ($/ton)\n",
            "- P_c = 150: selling price of corn ($/ton)\n",
            "- P_wb = 1.4 * P_w: purchase price of wheat ($/ton)\n",
            "- P_cb = 1.4 * P_c: purchase price of corn ($/ton)\n",
            "- P_sb = 36: selling price of sugar beet ($/ton)\n",
            "- P_sbx = 10: selling price of excess sugar beet ($/ton)\n",
            "- Q_sb = 6000: quota for sugar beet production (in tons)\n",
            "- Y_w = 2.5: yield of wheat (tons/acre)\n",
            "- Y_c = 3: yield of corn (tons/acre)\n",
            "- Y_sb = 20: yield of sugar beet (tons/acre)\n",
            "- C_w = 150: cost to plant an acre of wheat ($/acre)\n",
            "- C_c = 230: cost to plant an acre of corn ($/acre)\n",
            "- C_sb = 260: cost to plant an acre of sugar beet ($/acre)\n",
            "- L = 500: total available land (in acres)\n",
            "\n",
            "Decision Variables:\n",
            "- w: acres of land allocated to wheat\n",
            "- c: acres of land allocated to corn\n",
            "- sb: acres of land allocated to sugar beet\n",
            "- w_b: tons of wheat bought from the wholesaler\n",
            "- c_b: tons of corn bought from the wholesaler\n",
            "- sb_x: tons of sugar beet produced in excess of the quota\n",
            "\n",
            "Objective Function:\n",
            "minimize    C_w * w + C_c * c + C_sb * sb + P_wb * w_b + P_cb * c_b - P_w * max(Y_w * w - W_min, 0) - P_c * max(Y_c * c - C_min, 0) - P_sb * min(Y_sb * sb, Q_sb) - P_sbx * sb_x\n",
            "\n",
            "Constraints:\n",
            "1. w + c + sb <= L                     (land constraint)\n",
            "2. Y_w * w + w_b >= W_min              (wheat requirement)\n",
            "3. Y_c * c + c_b >= C_min              (corn requirement)\n",
            "4. Y_sb * sb = Q_sb + sb_x             (sugar beet quota)\n",
            "5. w, c, sb, w_b, c_b, sb_x >= 0       (non-negativity constraints)\n",
            "\n",
            "The objective function minimizes the total costs, considering planting costs, purchase costs, and sales revenues. The max and min functions are used to calculate the revenues from wheat, corn, and sugar beet sales, considering the minimum requirements and quota.\n",
            "\n",
            "The constraints ensure that:\n",
            "1. The total land allocated to the three crops does not exceed the available land.\n",
            "2. The minimum requirements for wheat and corn are met through production and/or purchase.\n",
            "3. The sugar beet production is equal to the quota plus any excess production.\n",
            "4. All decision variables are non-negative.\n"
          ]
        }
      ]
    },
    {
      "cell_type": "markdown",
      "source": [
        "# 2. Prompt 2: Write Code based on Mathematical Model"
      ],
      "metadata": {
        "id": "WPZ6lgBO729j"
      }
    },
    {
      "cell_type": "code",
      "source": [
        "message2 = client.messages.create(\n",
        "    model=\"claude-3-opus-20240229\",\n",
        "    system=prompt2,\n",
        "    max_tokens=4069,\n",
        "    messages=[\n",
        "        {\"role\": \"user\", \"content\": response_p1}\n",
        "    ]\n",
        ")\n",
        "\n",
        "response_p2 = message2.content[0].text"
      ],
      "metadata": {
        "id": "1iUSgBda70FL"
      },
      "execution_count": null,
      "outputs": []
    },
    {
      "cell_type": "code",
      "source": [
        "# Print response\n",
        "print(response_p2)"
      ],
      "metadata": {
        "colab": {
          "base_uri": "https://localhost:8080/"
        },
        "id": "o40mxc_H8eQ9",
        "outputId": "fa61c320-0fff-4c76-f651-68c3a789f274"
      },
      "execution_count": null,
      "outputs": [
        {
          "output_type": "stream",
          "name": "stdout",
          "text": [
            "Here's the Python code for the farmer's optimization problem using Pyomo:\n",
            "\n",
            "```python\n",
            "from pyomo.environ import *\n",
            "\n",
            "# Create a Concrete Model\n",
            "model = ConcreteModel()\n",
            "\n",
            "# Define the parameters\n",
            "model.W_min = 200\n",
            "model.C_min = 240\n",
            "model.P_w = 170\n",
            "model.P_c = 150\n",
            "model.P_wb = 1.4 * model.P_w\n",
            "model.P_cb = 1.4 * model.P_c\n",
            "model.P_sb = 36\n",
            "model.P_sbx = 10\n",
            "model.Q_sb = 6000\n",
            "model.Y_w = 2.5\n",
            "model.Y_c = 3\n",
            "model.Y_sb = 20\n",
            "model.C_w = 150\n",
            "model.C_c = 230\n",
            "model.C_sb = 260\n",
            "model.L = 500\n",
            "\n",
            "# Define the decision variables\n",
            "model.w = Var(domain=NonNegativeReals)\n",
            "model.c = Var(domain=NonNegativeReals)\n",
            "model.sb = Var(domain=NonNegativeReals)\n",
            "model.w_b = Var(domain=NonNegativeReals)\n",
            "model.c_b = Var(domain=NonNegativeReals)\n",
            "model.sb_x = Var(domain=NonNegativeReals)\n",
            "\n",
            "# Define the objective function\n",
            "def obj_rule(model):\n",
            "    return (\n",
            "        model.C_w * model.w + model.C_c * model.c + model.C_sb * model.sb +\n",
            "        model.P_wb * model.w_b + model.P_cb * model.c_b -\n",
            "        model.P_w * max(model.Y_w * model.w - model.W_min, 0) -\n",
            "        model.P_c * max(model.Y_c * model.c - model.C_min, 0) -\n",
            "        model.P_sb * min(model.Y_sb * model.sb, model.Q_sb) -\n",
            "        model.P_sbx * model.sb_x\n",
            "    )\n",
            "model.obj = Objective(rule=obj_rule, sense=minimize)\n",
            "\n",
            "# Define the constraints\n",
            "def land_constraint_rule(model):\n",
            "    return model.w + model.c + model.sb <= model.L\n",
            "model.land_constraint = Constraint(rule=land_constraint_rule)\n",
            "\n",
            "def wheat_requirement_rule(model):\n",
            "    return model.Y_w * model.w + model.w_b >= model.W_min\n",
            "model.wheat_requirement = Constraint(rule=wheat_requirement_rule)\n",
            "\n",
            "def corn_requirement_rule(model):\n",
            "    return model.Y_c * model.c + model.c_b >= model.C_min\n",
            "model.corn_requirement = Constraint(rule=corn_requirement_rule)\n",
            "\n",
            "def sugar_beet_quota_rule(model):\n",
            "    return model.Y_sb * model.sb == model.Q_sb + model.sb_x\n",
            "model.sugar_beet_quota = Constraint(rule=sugar_beet_quota_rule)\n",
            "\n",
            "# Solve the optimization problem\n",
            "solver = SolverFactory('glpk')\n",
            "results = solver.solve(model)\n",
            "\n",
            "# Print the results\n",
            "print(\"Objective value:\", value(model.obj))\n",
            "print(\"Acres of wheat:\", value(model.w))\n",
            "print(\"Acres of corn:\", value(model.c))\n",
            "print(\"Acres of sugar beet:\", value(model.sb))\n",
            "print(\"Tons of wheat bought:\", value(model.w_b))\n",
            "print(\"Tons of corn bought:\", value(model.c_b))\n",
            "print(\"Tons of excess sugar beet:\", value(model.sb_x))\n",
            "```\n",
            "\n",
            "Note: The code uses the GLPK solver, which needs to be installed separately. You can install it using `pip install glpk-python`.\n",
            "\n",
            "The code defines the parameters, decision variables, objective function, and constraints according to the mathematical formulation. The `max` and `min` functions are used in the objective function to calculate the revenues from wheat, corn, and sugar beet sales, considering the minimum requirements and quota.\n",
            "\n",
            "The optimization problem is solved using the GLPK solver, and the results are printed, showing the optimal values of the decision variables and the objective value.\n"
          ]
        }
      ]
    },
    {
      "cell_type": "markdown",
      "source": [
        "# 4. Input Problem Data and Test Model Code"
      ],
      "metadata": {
        "id": "Pc0QqJuf8up_"
      }
    },
    {
      "cell_type": "code",
      "source": [
        "# Installing pyomo nd solver\n",
        "!pip install -q pyomo\n",
        "!apt-get install -y -qq glpk-utils\n",
        "!pip install glpk"
      ],
      "metadata": {
        "colab": {
          "base_uri": "https://localhost:8080/"
        },
        "id": "3BtROuLu9O-p",
        "outputId": "55d1caa2-4bc4-40f8-f3c2-3633423b39b8",
        "collapsed": true
      },
      "execution_count": 1,
      "outputs": [
        {
          "output_type": "stream",
          "name": "stdout",
          "text": [
            "\u001b[2K     \u001b[90m━━━━━━━━━━━━━━━━━━━━━━━━━━━━━━━━━━━━━━━━\u001b[0m \u001b[32m12.8/12.8 MB\u001b[0m \u001b[31m41.2 MB/s\u001b[0m eta \u001b[36m0:00:00\u001b[0m\n",
            "\u001b[2K     \u001b[90m━━━━━━━━━━━━━━━━━━━━━━━━━━━━━━━━━━━━━━━━\u001b[0m \u001b[32m49.6/49.6 kB\u001b[0m \u001b[31m5.4 MB/s\u001b[0m eta \u001b[36m0:00:00\u001b[0m\n",
            "\u001b[?25hSelecting previously unselected package libsuitesparseconfig5:amd64.\n",
            "(Reading database ... 121918 files and directories currently installed.)\n",
            "Preparing to unpack .../libsuitesparseconfig5_1%3a5.10.1+dfsg-4build1_amd64.deb ...\n",
            "Unpacking libsuitesparseconfig5:amd64 (1:5.10.1+dfsg-4build1) ...\n",
            "Selecting previously unselected package libamd2:amd64.\n",
            "Preparing to unpack .../libamd2_1%3a5.10.1+dfsg-4build1_amd64.deb ...\n",
            "Unpacking libamd2:amd64 (1:5.10.1+dfsg-4build1) ...\n",
            "Selecting previously unselected package libcolamd2:amd64.\n",
            "Preparing to unpack .../libcolamd2_1%3a5.10.1+dfsg-4build1_amd64.deb ...\n",
            "Unpacking libcolamd2:amd64 (1:5.10.1+dfsg-4build1) ...\n",
            "Selecting previously unselected package libglpk40:amd64.\n",
            "Preparing to unpack .../libglpk40_5.0-1_amd64.deb ...\n",
            "Unpacking libglpk40:amd64 (5.0-1) ...\n",
            "Selecting previously unselected package glpk-utils.\n",
            "Preparing to unpack .../glpk-utils_5.0-1_amd64.deb ...\n",
            "Unpacking glpk-utils (5.0-1) ...\n",
            "Setting up libsuitesparseconfig5:amd64 (1:5.10.1+dfsg-4build1) ...\n",
            "Setting up libamd2:amd64 (1:5.10.1+dfsg-4build1) ...\n",
            "Setting up libcolamd2:amd64 (1:5.10.1+dfsg-4build1) ...\n",
            "Setting up libglpk40:amd64 (5.0-1) ...\n",
            "Setting up glpk-utils (5.0-1) ...\n",
            "Processing triggers for man-db (2.10.2-1) ...\n",
            "Processing triggers for libc-bin (2.35-0ubuntu3.4) ...\n",
            "/sbin/ldconfig.real: /usr/local/lib/libtbbmalloc_proxy.so.2 is not a symbolic link\n",
            "\n",
            "/sbin/ldconfig.real: /usr/local/lib/libtbbbind_2_5.so.3 is not a symbolic link\n",
            "\n",
            "/sbin/ldconfig.real: /usr/local/lib/libtbbmalloc.so.2 is not a symbolic link\n",
            "\n",
            "/sbin/ldconfig.real: /usr/local/lib/libtbbbind.so.3 is not a symbolic link\n",
            "\n",
            "/sbin/ldconfig.real: /usr/local/lib/libtbbbind_2_0.so.3 is not a symbolic link\n",
            "\n",
            "/sbin/ldconfig.real: /usr/local/lib/libtbb.so.12 is not a symbolic link\n",
            "\n",
            "Collecting glpk\n",
            "  Downloading glpk-0.4.7.tar.gz (161 kB)\n",
            "\u001b[2K     \u001b[90m━━━━━━━━━━━━━━━━━━━━━━━━━━━━━━━━━━━━━━━━\u001b[0m \u001b[32m161.2/161.2 kB\u001b[0m \u001b[31m4.2 MB/s\u001b[0m eta \u001b[36m0:00:00\u001b[0m\n",
            "\u001b[?25h  Installing build dependencies ... \u001b[?25l\u001b[?25hdone\n",
            "  Getting requirements to build wheel ... \u001b[?25l\u001b[?25hdone\n",
            "  Preparing metadata (pyproject.toml) ... \u001b[?25l\u001b[?25hdone\n",
            "Building wheels for collected packages: glpk\n",
            "  \u001b[1;31merror\u001b[0m: \u001b[1msubprocess-exited-with-error\u001b[0m\n",
            "  \n",
            "  \u001b[31m×\u001b[0m \u001b[32mBuilding wheel for glpk \u001b[0m\u001b[1;32m(\u001b[0m\u001b[32mpyproject.toml\u001b[0m\u001b[1;32m)\u001b[0m did not run successfully.\n",
            "  \u001b[31m│\u001b[0m exit code: \u001b[1;36m1\u001b[0m\n",
            "  \u001b[31m╰─>\u001b[0m See above for output.\n",
            "  \n",
            "  \u001b[1;35mnote\u001b[0m: This error originates from a subprocess, and is likely not a problem with pip.\n",
            "  Building wheel for glpk (pyproject.toml) ... \u001b[?25l\u001b[?25herror\n",
            "\u001b[31m  ERROR: Failed building wheel for glpk\u001b[0m\u001b[31m\n",
            "\u001b[0mFailed to build glpk\n",
            "\u001b[31mERROR: Could not build wheels for glpk, which is required to install pyproject.toml-based projects\u001b[0m\u001b[31m\n",
            "\u001b[0m"
          ]
        }
      ]
    },
    {
      "cell_type": "code",
      "source": [
        "from pyomo.environ import *\n",
        "\n",
        "# Create a Concrete Model\n",
        "model = ConcreteModel()\n",
        "\n",
        "# Define the parameters\n",
        "model.W_min = 200\n",
        "model.C_min = 240\n",
        "model.P_w = 170\n",
        "model.P_c = 150\n",
        "model.P_wb = 1.4 * model.P_w\n",
        "model.P_cb = 1.4 * model.P_c\n",
        "model.P_sb = 36\n",
        "model.P_sbx = 10\n",
        "model.Q_sb = 6000\n",
        "model.Y_w = 2.5\n",
        "model.Y_c = 3\n",
        "model.Y_sb = 20\n",
        "model.C_w = 150\n",
        "model.C_c = 230\n",
        "model.C_sb = 260\n",
        "model.L = 500\n",
        "\n",
        "# Define the decision variables\n",
        "model.w = Var(domain=NonNegativeReals)\n",
        "model.c = Var(domain=NonNegativeReals)\n",
        "model.sb = Var(domain=NonNegativeReals)\n",
        "model.w_b = Var(domain=NonNegativeReals)\n",
        "model.c_b = Var(domain=NonNegativeReals)\n",
        "model.sb_x = Var(domain=NonNegativeReals)\n",
        "\n",
        "# Define the objective function\n",
        "def obj_rule(model):\n",
        "    return (\n",
        "        model.C_w * model.w + model.C_c * model.c + model.C_sb * model.sb +\n",
        "        model.P_wb * model.w_b + model.P_cb * model.c_b -\n",
        "        model.P_w * max(model.Y_w * model.w - model.W_min, 0) -\n",
        "        model.P_c * max(model.Y_c * model.c - model.C_min, 0) -\n",
        "        model.P_sb * min(model.Y_sb * model.sb, model.Q_sb) -\n",
        "        model.P_sbx * model.sb_x\n",
        "    )\n",
        "model.obj = Objective(rule=obj_rule, sense=minimize)\n",
        "\n",
        "# Define the constraints\n",
        "def land_constraint_rule(model):\n",
        "    return model.w + model.c + model.sb <= model.L\n",
        "model.land_constraint = Constraint(rule=land_constraint_rule)\n",
        "\n",
        "def wheat_requirement_rule(model):\n",
        "    return model.Y_w * model.w + model.w_b >= model.W_min\n",
        "model.wheat_requirement = Constraint(rule=wheat_requirement_rule)\n",
        "\n",
        "def corn_requirement_rule(model):\n",
        "    return model.Y_c * model.c + model.c_b >= model.C_min\n",
        "model.corn_requirement = Constraint(rule=corn_requirement_rule)\n",
        "\n",
        "def sugar_beet_quota_rule(model):\n",
        "    return model.Y_sb * model.sb == model.Q_sb + model.sb_x\n",
        "model.sugar_beet_quota = Constraint(rule=sugar_beet_quota_rule)\n",
        "\n",
        "# Solve the optimization problem\n",
        "solver = SolverFactory('glpk')\n",
        "results = solver.solve(model)\n",
        "\n",
        "# Print the results\n",
        "print(\"Objective value:\", value(model.obj))\n",
        "print(\"Acres of wheat:\", value(model.w))\n",
        "print(\"Acres of corn:\", value(model.c))\n",
        "print(\"Acres of sugar beet:\", value(model.sb))\n",
        "print(\"Tons of wheat bought:\", value(model.w_b))\n",
        "print(\"Tons of corn bought:\", value(model.c_b))\n",
        "print(\"Tons of excess sugar beet:\", value(model.sb_x))"
      ],
      "metadata": {
        "colab": {
          "base_uri": "https://localhost:8080/",
          "height": 998
        },
        "id": "8FpHcuWU8rQ2",
        "outputId": "8a55bd30-597f-4fab-82a6-b48c0dce3c4d"
      },
      "execution_count": null,
      "outputs": [
        {
          "output_type": "stream",
          "name": "stderr",
          "text": [
            "ERROR:pyomo.core:Rule failed when generating expression for Objective obj with index None:\n",
            "PyomoException: Cannot convert non-constant Pyomo expression (2.5*w - 200  <  0) to bool.\n",
            "This error is usually caused by using a Var, unit, or mutable Param in a\n",
            "Boolean context such as an \"if\" statement, or when checking container\n",
            "membership or equality. For example,\n",
            "    >>> m.x = Var()\n",
            "    >>> if m.x >= 1:\n",
            "    ...     pass\n",
            "and\n",
            "    >>> m.y = Var()\n",
            "    >>> if m.y in [m.x, m.y]:\n",
            "    ...     pass\n",
            "would both cause this exception.\n",
            "ERROR:pyomo.core:Constructing component 'obj' from data=None failed:\n",
            "    PyomoException: Cannot convert non-constant Pyomo expression (2.5*w - 200  <  0) to bool.\n",
            "This error is usually caused by using a Var, unit, or mutable Param in a\n",
            "Boolean context such as an \"if\" statement, or when checking container\n",
            "membership or equality. For example,\n",
            "    >>> m.x = Var()\n",
            "    >>> if m.x >= 1:\n",
            "    ...     pass\n",
            "and\n",
            "    >>> m.y = Var()\n",
            "    >>> if m.y in [m.x, m.y]:\n",
            "    ...     pass\n",
            "would both cause this exception.\n"
          ]
        },
        {
          "output_type": "error",
          "ename": "PyomoException",
          "evalue": "Cannot convert non-constant Pyomo expression (2.5*w - 200  <  0) to bool.\nThis error is usually caused by using a Var, unit, or mutable Param in a\nBoolean context such as an \"if\" statement, or when checking container\nmembership or equality. For example,\n    >>> m.x = Var()\n    >>> if m.x >= 1:\n    ...     pass\nand\n    >>> m.y = Var()\n    >>> if m.y in [m.x, m.y]:\n    ...     pass\nwould both cause this exception.",
          "traceback": [
            "\u001b[0;31m---------------------------------------------------------------------------\u001b[0m",
            "\u001b[0;31mPyomoException\u001b[0m                            Traceback (most recent call last)",
            "\u001b[0;32m<ipython-input-11-6608f9dd2da9>\u001b[0m in \u001b[0;36m<cell line: 42>\u001b[0;34m()\u001b[0m\n\u001b[1;32m     40\u001b[0m         \u001b[0mmodel\u001b[0m\u001b[0;34m.\u001b[0m\u001b[0mP_sbx\u001b[0m \u001b[0;34m*\u001b[0m \u001b[0mmodel\u001b[0m\u001b[0;34m.\u001b[0m\u001b[0msb_x\u001b[0m\u001b[0;34m\u001b[0m\u001b[0;34m\u001b[0m\u001b[0m\n\u001b[1;32m     41\u001b[0m     )\n\u001b[0;32m---> 42\u001b[0;31m \u001b[0mmodel\u001b[0m\u001b[0;34m.\u001b[0m\u001b[0mobj\u001b[0m \u001b[0;34m=\u001b[0m \u001b[0mObjective\u001b[0m\u001b[0;34m(\u001b[0m\u001b[0mrule\u001b[0m\u001b[0;34m=\u001b[0m\u001b[0mobj_rule\u001b[0m\u001b[0;34m,\u001b[0m \u001b[0msense\u001b[0m\u001b[0;34m=\u001b[0m\u001b[0mminimize\u001b[0m\u001b[0;34m)\u001b[0m\u001b[0;34m\u001b[0m\u001b[0;34m\u001b[0m\u001b[0m\n\u001b[0m\u001b[1;32m     43\u001b[0m \u001b[0;34m\u001b[0m\u001b[0m\n\u001b[1;32m     44\u001b[0m \u001b[0;31m# Define the constraints\u001b[0m\u001b[0;34m\u001b[0m\u001b[0;34m\u001b[0m\u001b[0m\n",
            "\u001b[0;32m/usr/local/lib/python3.10/dist-packages/pyomo/core/base/block.py\u001b[0m in \u001b[0;36m__setattr__\u001b[0;34m(self, name, val)\u001b[0m\n\u001b[1;32m    569\u001b[0m                 \u001b[0;31m# Pyomo components are added with the add_component method.\u001b[0m\u001b[0;34m\u001b[0m\u001b[0;34m\u001b[0m\u001b[0m\n\u001b[1;32m    570\u001b[0m                 \u001b[0;31m#\u001b[0m\u001b[0;34m\u001b[0m\u001b[0;34m\u001b[0m\u001b[0m\n\u001b[0;32m--> 571\u001b[0;31m                 \u001b[0mself\u001b[0m\u001b[0;34m.\u001b[0m\u001b[0madd_component\u001b[0m\u001b[0;34m(\u001b[0m\u001b[0mname\u001b[0m\u001b[0;34m,\u001b[0m \u001b[0mval\u001b[0m\u001b[0;34m)\u001b[0m\u001b[0;34m\u001b[0m\u001b[0;34m\u001b[0m\u001b[0m\n\u001b[0m\u001b[1;32m    572\u001b[0m             \u001b[0;32melse\u001b[0m\u001b[0;34m:\u001b[0m\u001b[0;34m\u001b[0m\u001b[0;34m\u001b[0m\u001b[0m\n\u001b[1;32m    573\u001b[0m                 \u001b[0;31m#\u001b[0m\u001b[0;34m\u001b[0m\u001b[0;34m\u001b[0m\u001b[0m\n",
            "\u001b[0;32m/usr/local/lib/python3.10/dist-packages/pyomo/core/base/block.py\u001b[0m in \u001b[0;36madd_component\u001b[0;34m(self, name, val)\u001b[0m\n\u001b[1;32m   1114\u001b[0m                 )\n\u001b[1;32m   1115\u001b[0m             \u001b[0;32mtry\u001b[0m\u001b[0;34m:\u001b[0m\u001b[0;34m\u001b[0m\u001b[0;34m\u001b[0m\u001b[0m\n\u001b[0;32m-> 1116\u001b[0;31m                 \u001b[0mval\u001b[0m\u001b[0;34m.\u001b[0m\u001b[0mconstruct\u001b[0m\u001b[0;34m(\u001b[0m\u001b[0mdata\u001b[0m\u001b[0;34m)\u001b[0m\u001b[0;34m\u001b[0m\u001b[0;34m\u001b[0m\u001b[0m\n\u001b[0m\u001b[1;32m   1117\u001b[0m             \u001b[0;32mexcept\u001b[0m\u001b[0;34m:\u001b[0m\u001b[0;34m\u001b[0m\u001b[0;34m\u001b[0m\u001b[0m\n\u001b[1;32m   1118\u001b[0m                 \u001b[0merr\u001b[0m \u001b[0;34m=\u001b[0m \u001b[0msys\u001b[0m\u001b[0;34m.\u001b[0m\u001b[0mexc_info\u001b[0m\u001b[0;34m(\u001b[0m\u001b[0;34m)\u001b[0m\u001b[0;34m[\u001b[0m\u001b[0;36m1\u001b[0m\u001b[0;34m]\u001b[0m\u001b[0;34m\u001b[0m\u001b[0;34m\u001b[0m\u001b[0m\n",
            "\u001b[0;32m/usr/local/lib/python3.10/dist-packages/pyomo/core/base/objective.py\u001b[0m in \u001b[0;36mconstruct\u001b[0;34m(self, data)\u001b[0m\n\u001b[1;32m    277\u001b[0m                 \u001b[0;31m# Bypass the index validation and create the member directly\u001b[0m\u001b[0;34m\u001b[0m\u001b[0;34m\u001b[0m\u001b[0m\n\u001b[1;32m    278\u001b[0m                 \u001b[0;32mfor\u001b[0m \u001b[0mindex\u001b[0m \u001b[0;32min\u001b[0m \u001b[0mself\u001b[0m\u001b[0;34m.\u001b[0m\u001b[0mindex_set\u001b[0m\u001b[0;34m(\u001b[0m\u001b[0;34m)\u001b[0m\u001b[0;34m:\u001b[0m\u001b[0;34m\u001b[0m\u001b[0;34m\u001b[0m\u001b[0m\n\u001b[0;32m--> 279\u001b[0;31m                     \u001b[0mans\u001b[0m \u001b[0;34m=\u001b[0m \u001b[0mself\u001b[0m\u001b[0;34m.\u001b[0m\u001b[0m_setitem_when_not_present\u001b[0m\u001b[0;34m(\u001b[0m\u001b[0mindex\u001b[0m\u001b[0;34m,\u001b[0m \u001b[0mrule\u001b[0m\u001b[0;34m(\u001b[0m\u001b[0mblock\u001b[0m\u001b[0;34m,\u001b[0m \u001b[0mindex\u001b[0m\u001b[0;34m)\u001b[0m\u001b[0;34m)\u001b[0m\u001b[0;34m\u001b[0m\u001b[0;34m\u001b[0m\u001b[0m\n\u001b[0m\u001b[1;32m    280\u001b[0m                     \u001b[0;32mif\u001b[0m \u001b[0mans\u001b[0m \u001b[0;32mis\u001b[0m \u001b[0;32mnot\u001b[0m \u001b[0;32mNone\u001b[0m\u001b[0;34m:\u001b[0m\u001b[0;34m\u001b[0m\u001b[0;34m\u001b[0m\u001b[0m\n\u001b[1;32m    281\u001b[0m                         \u001b[0mans\u001b[0m\u001b[0;34m.\u001b[0m\u001b[0mset_sense\u001b[0m\u001b[0;34m(\u001b[0m\u001b[0mself\u001b[0m\u001b[0;34m.\u001b[0m\u001b[0m_init_sense\u001b[0m\u001b[0;34m(\u001b[0m\u001b[0mblock\u001b[0m\u001b[0;34m,\u001b[0m \u001b[0mindex\u001b[0m\u001b[0;34m)\u001b[0m\u001b[0;34m)\u001b[0m\u001b[0;34m\u001b[0m\u001b[0;34m\u001b[0m\u001b[0m\n",
            "\u001b[0;32m/usr/local/lib/python3.10/dist-packages/pyomo/core/base/initializer.py\u001b[0m in \u001b[0;36m__call__\u001b[0;34m(self, parent, idx)\u001b[0m\n\u001b[1;32m    436\u001b[0m \u001b[0;34m\u001b[0m\u001b[0m\n\u001b[1;32m    437\u001b[0m     \u001b[0;32mdef\u001b[0m \u001b[0m__call__\u001b[0m\u001b[0;34m(\u001b[0m\u001b[0mself\u001b[0m\u001b[0;34m,\u001b[0m \u001b[0mparent\u001b[0m\u001b[0;34m,\u001b[0m \u001b[0midx\u001b[0m\u001b[0;34m)\u001b[0m\u001b[0;34m:\u001b[0m\u001b[0;34m\u001b[0m\u001b[0;34m\u001b[0m\u001b[0m\n\u001b[0;32m--> 438\u001b[0;31m         \u001b[0;32mreturn\u001b[0m \u001b[0mself\u001b[0m\u001b[0;34m.\u001b[0m\u001b[0m_fcn\u001b[0m\u001b[0;34m(\u001b[0m\u001b[0mparent\u001b[0m\u001b[0;34m)\u001b[0m\u001b[0;34m\u001b[0m\u001b[0;34m\u001b[0m\u001b[0m\n\u001b[0m\u001b[1;32m    439\u001b[0m \u001b[0;34m\u001b[0m\u001b[0m\n\u001b[1;32m    440\u001b[0m     \u001b[0;32mdef\u001b[0m \u001b[0mconstant\u001b[0m\u001b[0;34m(\u001b[0m\u001b[0mself\u001b[0m\u001b[0;34m)\u001b[0m\u001b[0;34m:\u001b[0m\u001b[0;34m\u001b[0m\u001b[0;34m\u001b[0m\u001b[0m\n",
            "\u001b[0;32m<ipython-input-11-6608f9dd2da9>\u001b[0m in \u001b[0;36mobj_rule\u001b[0;34m(model)\u001b[0m\n\u001b[1;32m     35\u001b[0m         \u001b[0mmodel\u001b[0m\u001b[0;34m.\u001b[0m\u001b[0mC_w\u001b[0m \u001b[0;34m*\u001b[0m \u001b[0mmodel\u001b[0m\u001b[0;34m.\u001b[0m\u001b[0mw\u001b[0m \u001b[0;34m+\u001b[0m \u001b[0mmodel\u001b[0m\u001b[0;34m.\u001b[0m\u001b[0mC_c\u001b[0m \u001b[0;34m*\u001b[0m \u001b[0mmodel\u001b[0m\u001b[0;34m.\u001b[0m\u001b[0mc\u001b[0m \u001b[0;34m+\u001b[0m \u001b[0mmodel\u001b[0m\u001b[0;34m.\u001b[0m\u001b[0mC_sb\u001b[0m \u001b[0;34m*\u001b[0m \u001b[0mmodel\u001b[0m\u001b[0;34m.\u001b[0m\u001b[0msb\u001b[0m \u001b[0;34m+\u001b[0m\u001b[0;34m\u001b[0m\u001b[0;34m\u001b[0m\u001b[0m\n\u001b[1;32m     36\u001b[0m         \u001b[0mmodel\u001b[0m\u001b[0;34m.\u001b[0m\u001b[0mP_wb\u001b[0m \u001b[0;34m*\u001b[0m \u001b[0mmodel\u001b[0m\u001b[0;34m.\u001b[0m\u001b[0mw_b\u001b[0m \u001b[0;34m+\u001b[0m \u001b[0mmodel\u001b[0m\u001b[0;34m.\u001b[0m\u001b[0mP_cb\u001b[0m \u001b[0;34m*\u001b[0m \u001b[0mmodel\u001b[0m\u001b[0;34m.\u001b[0m\u001b[0mc_b\u001b[0m \u001b[0;34m-\u001b[0m\u001b[0;34m\u001b[0m\u001b[0;34m\u001b[0m\u001b[0m\n\u001b[0;32m---> 37\u001b[0;31m         \u001b[0mmodel\u001b[0m\u001b[0;34m.\u001b[0m\u001b[0mP_w\u001b[0m \u001b[0;34m*\u001b[0m \u001b[0mmax\u001b[0m\u001b[0;34m(\u001b[0m\u001b[0mmodel\u001b[0m\u001b[0;34m.\u001b[0m\u001b[0mY_w\u001b[0m \u001b[0;34m*\u001b[0m \u001b[0mmodel\u001b[0m\u001b[0;34m.\u001b[0m\u001b[0mw\u001b[0m \u001b[0;34m-\u001b[0m \u001b[0mmodel\u001b[0m\u001b[0;34m.\u001b[0m\u001b[0mW_min\u001b[0m\u001b[0;34m,\u001b[0m \u001b[0;36m0\u001b[0m\u001b[0;34m)\u001b[0m \u001b[0;34m-\u001b[0m\u001b[0;34m\u001b[0m\u001b[0;34m\u001b[0m\u001b[0m\n\u001b[0m\u001b[1;32m     38\u001b[0m         \u001b[0mmodel\u001b[0m\u001b[0;34m.\u001b[0m\u001b[0mP_c\u001b[0m \u001b[0;34m*\u001b[0m \u001b[0mmax\u001b[0m\u001b[0;34m(\u001b[0m\u001b[0mmodel\u001b[0m\u001b[0;34m.\u001b[0m\u001b[0mY_c\u001b[0m \u001b[0;34m*\u001b[0m \u001b[0mmodel\u001b[0m\u001b[0;34m.\u001b[0m\u001b[0mc\u001b[0m \u001b[0;34m-\u001b[0m \u001b[0mmodel\u001b[0m\u001b[0;34m.\u001b[0m\u001b[0mC_min\u001b[0m\u001b[0;34m,\u001b[0m \u001b[0;36m0\u001b[0m\u001b[0;34m)\u001b[0m \u001b[0;34m-\u001b[0m\u001b[0;34m\u001b[0m\u001b[0;34m\u001b[0m\u001b[0m\n\u001b[1;32m     39\u001b[0m         \u001b[0mmodel\u001b[0m\u001b[0;34m.\u001b[0m\u001b[0mP_sb\u001b[0m \u001b[0;34m*\u001b[0m \u001b[0mmin\u001b[0m\u001b[0;34m(\u001b[0m\u001b[0mmodel\u001b[0m\u001b[0;34m.\u001b[0m\u001b[0mY_sb\u001b[0m \u001b[0;34m*\u001b[0m \u001b[0mmodel\u001b[0m\u001b[0;34m.\u001b[0m\u001b[0msb\u001b[0m\u001b[0;34m,\u001b[0m \u001b[0mmodel\u001b[0m\u001b[0;34m.\u001b[0m\u001b[0mQ_sb\u001b[0m\u001b[0;34m)\u001b[0m \u001b[0;34m-\u001b[0m\u001b[0;34m\u001b[0m\u001b[0;34m\u001b[0m\u001b[0m\n",
            "\u001b[0;32m/usr/local/lib/python3.10/dist-packages/pyomo/core/expr/relational_expr.py\u001b[0m in \u001b[0;36m__bool__\u001b[0;34m(self)\u001b[0m\n\u001b[1;32m     45\u001b[0m         \u001b[0;32mif\u001b[0m \u001b[0mself\u001b[0m\u001b[0;34m.\u001b[0m\u001b[0mis_constant\u001b[0m\u001b[0;34m(\u001b[0m\u001b[0;34m)\u001b[0m\u001b[0;34m:\u001b[0m\u001b[0;34m\u001b[0m\u001b[0;34m\u001b[0m\u001b[0m\n\u001b[1;32m     46\u001b[0m             \u001b[0;32mreturn\u001b[0m \u001b[0mbool\u001b[0m\u001b[0;34m(\u001b[0m\u001b[0mself\u001b[0m\u001b[0;34m(\u001b[0m\u001b[0;34m)\u001b[0m\u001b[0;34m)\u001b[0m\u001b[0;34m\u001b[0m\u001b[0;34m\u001b[0m\u001b[0m\n\u001b[0;32m---> 47\u001b[0;31m         raise PyomoException(\n\u001b[0m\u001b[1;32m     48\u001b[0m             \"\"\"\n\u001b[1;32m     49\u001b[0m \u001b[0mCannot\u001b[0m \u001b[0mconvert\u001b[0m \u001b[0mnon\u001b[0m\u001b[0;34m-\u001b[0m\u001b[0mconstant\u001b[0m \u001b[0mPyomo\u001b[0m \u001b[0mexpression\u001b[0m \u001b[0;34m(\u001b[0m\u001b[0;34m%\u001b[0m\u001b[0ms\u001b[0m\u001b[0;34m)\u001b[0m \u001b[0mto\u001b[0m \u001b[0mbool\u001b[0m\u001b[0;34m.\u001b[0m\u001b[0;34m\u001b[0m\u001b[0;34m\u001b[0m\u001b[0m\n",
            "\u001b[0;31mPyomoException\u001b[0m: Cannot convert non-constant Pyomo expression (2.5*w - 200  <  0) to bool.\nThis error is usually caused by using a Var, unit, or mutable Param in a\nBoolean context such as an \"if\" statement, or when checking container\nmembership or equality. For example,\n    >>> m.x = Var()\n    >>> if m.x >= 1:\n    ...     pass\nand\n    >>> m.y = Var()\n    >>> if m.y in [m.x, m.y]:\n    ...     pass\nwould both cause this exception."
          ]
        }
      ]
    },
    {
      "cell_type": "markdown",
      "source": [
        "# 5. Correct The Model Code to Test Mathematical Model (if applicable)"
      ],
      "metadata": {
        "id": "KHTyoLQTWZVy"
      }
    },
    {
      "cell_type": "code",
      "source": [
        "%%capture\n",
        "import sys\n",
        "import os\n",
        "\n",
        "if 'google.colab' in sys.modules:\n",
        "    !pip install idaes-pse --pre\n",
        "    !idaes get-extensions --to ./bin\n",
        "    os.environ['PATH'] += ':bin'"
      ],
      "metadata": {
        "id": "St1_C5TbCXcf"
      },
      "execution_count": 3,
      "outputs": []
    },
    {
      "cell_type": "code",
      "source": [
        "from pyomo.environ import *\n",
        "\n",
        "# Create a Concrete Model\n",
        "model = ConcreteModel()\n",
        "\n",
        "# Define the parameters\n",
        "model.W_min = 200\n",
        "model.C_min = 240\n",
        "model.P_w = 170\n",
        "model.P_c = 150\n",
        "model.P_wb = 1.4 * model.P_w\n",
        "model.P_cb = 1.4 * model.P_c\n",
        "model.P_sb = 36\n",
        "model.P_sbx = 10\n",
        "model.Q_sb = 6000\n",
        "model.Y_w = 2.5\n",
        "model.Y_c = 3\n",
        "model.Y_sb = 20\n",
        "model.C_w = 150\n",
        "model.C_c = 230\n",
        "model.C_sb = 260\n",
        "model.L = 500\n",
        "\n",
        "# Define the decision variables\n",
        "model.w = Var(domain=NonNegativeReals)\n",
        "model.c = Var(domain=NonNegativeReals)\n",
        "model.sb = Var(domain=NonNegativeReals)\n",
        "model.w_b = Var(domain=NonNegativeReals)\n",
        "model.c_b = Var(domain=NonNegativeReals)\n",
        "model.sb_x = Var(domain=NonNegativeReals)\n",
        "\n",
        "# MODIFIED INTRODUCE BINARY VARIABLES TO LINEARIZE MAX/ MIN IN OBJECTIVE\n",
        "model.Y1 = Var(domain=Binary)\n",
        "model.Y2 = Var(domain=Binary)\n",
        "\n",
        "# Define the objective function\n",
        "def obj_rule(model):\n",
        "    return (\n",
        "        model.C_w * model.w + model.C_c * model.c + model.C_sb * model.sb +\n",
        "        model.P_wb * model.w_b + model.P_cb * model.c_b -\n",
        "        model.P_w * (model.Y_w * model.w - model.W_min) * model.Y1 - # MODIFIED max(model.Y_w * model.w - model.W_min, 0)\n",
        "        model.P_c * (model.Y_c * model.c - model.C_min) * model.Y2 - # MODIFIED max(model.Y_c * model.c - model.C_min, 0)\n",
        "        model.P_sb * (model.Y_sb * (model.sb - model.sb_x)) - # MODIFIED min(model.Y_sb * model.sb, model.Q_sb)\n",
        "        model.P_sbx * model.sb_x\n",
        "    )\n",
        "model.obj = Objective(rule=obj_rule, sense=minimize)\n",
        "\n",
        "# Define the constraints\n",
        "def land_constraint_rule(model):\n",
        "    return model.w + model.c + model.sb <= model.L\n",
        "model.land_constraint = Constraint(rule=land_constraint_rule)\n",
        "\n",
        "def wheat_requirement_rule(model):\n",
        "    return model.Y_w * model.w + model.w_b >= model.W_min\n",
        "model.wheat_requirement = Constraint(rule=wheat_requirement_rule)\n",
        "\n",
        "def corn_requirement_rule(model):\n",
        "    return model.Y_c * model.c + model.c_b >= model.C_min\n",
        "model.corn_requirement = Constraint(rule=corn_requirement_rule)\n",
        "\n",
        "def sugar_beet_quota_rule(model):\n",
        "    return model.Y_sb * model.sb == model.Q_sb + model.sb_x\n",
        "model.sugar_beet_quota = Constraint(rule=sugar_beet_quota_rule)\n",
        "\n",
        "# MODIFIED INTRODUCE CONSTRAINTS TO LINEARIZE MAX/ MIN IN OBJECTIVE\n",
        "def wheat_sold_rule1(model):\n",
        "  return model.Y_w * model.w - model.W_min <= 1250 * model.Y1\n",
        "model.wheat_sold_rule1 = Constraint(rule=wheat_sold_rule1)\n",
        "\n",
        "def wheat_sold_rule2(model):\n",
        "  return  - model.Y_w * model.w + model.W_min <= 1250 * (1-model.Y1)\n",
        "model.wheat_sold_rule2 = Constraint(rule=wheat_sold_rule2)\n",
        "\n",
        "def corn_sold_rule1(model):\n",
        "  return model.Y_c * model.c - model.C_min <= 1500 * model.Y2\n",
        "model.corn_sold_rule1 = Constraint(rule=corn_sold_rule1)\n",
        "\n",
        "def corn_sold_rule2(model):\n",
        "  return  - model.Y_c * model.c + model.C_min <= 1500 * (1-model.Y2)\n",
        "model.corn_sold_rule2 = Constraint(rule=corn_sold_rule2)\n",
        "\n",
        "# Solve the optimization problem\n",
        "solver = SolverFactory('couenne')\n",
        "results = solver.solve(model)\n",
        "\n",
        "# Print the results\n",
        "print(\"Objective value:\", value(model.obj))\n",
        "print(\"Acres of wheat:\", value(model.w))\n",
        "print(\"Acres of corn:\", value(model.c))\n",
        "print(\"Acres of sugar beet:\", value(model.sb))\n",
        "print(\"Tons of wheat bought:\", value(model.w_b))\n",
        "print(\"Tons of corn bought:\", value(model.c_b))\n",
        "print(\"Tons of excess sugar beet:\", value(model.sb_x))"
      ],
      "metadata": {
        "id": "A-Kq05sreCew",
        "colab": {
          "base_uri": "https://localhost:8080/"
        },
        "outputId": "eebc7cd7-36b7-46f3-cf72-0af55db736e1"
      },
      "execution_count": 12,
      "outputs": [
        {
          "output_type": "stream",
          "name": "stderr",
          "text": [
            "WARNING:pyomo.core:Loading a SolverResults object with a warning status into model.name=\"unknown\";\n",
            "  - termination condition: infeasible\n",
            "  - message from solver: couenne\\x3a Infeasible problem\n"
          ]
        },
        {
          "output_type": "stream",
          "name": "stdout",
          "text": [
            "Objective value: -118600.00141895402\n",
            "Acres of wheat: 120.0000057971652\n",
            "Acres of corn: 79.99999920333451\n",
            "Acres of sugar beet: 300.0\n",
            "Tons of wheat bought: 0.0\n",
            "Tons of corn bought: 0.0\n",
            "Tons of excess sugar beet: 0.0\n"
          ]
        }
      ]
    }
  ]
}