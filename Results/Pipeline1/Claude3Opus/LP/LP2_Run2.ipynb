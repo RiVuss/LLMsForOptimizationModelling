{
  "nbformat": 4,
  "nbformat_minor": 0,
  "metadata": {
    "colab": {
      "provenance": []
    },
    "kernelspec": {
      "name": "python3",
      "display_name": "Python 3"
    },
    "language_info": {
      "name": "python"
    }
  },
  "cells": [
    {
      "cell_type": "markdown",
      "source": [
        "# 0. Imports and Setting up Anthropic API Client"
      ],
      "metadata": {
        "id": "y5fw0lkBwBbo"
      }
    },
    {
      "cell_type": "code",
      "source": [
        "from google.colab import drive\n",
        "\n",
        "drive.mount('/content/drive')"
      ],
      "metadata": {
        "colab": {
          "base_uri": "https://localhost:8080/"
        },
        "id": "e7tWOLo0yMoH",
        "outputId": "3ad6c6a4-b5b3-4570-c795-d3b473fcab3a"
      },
      "execution_count": 1,
      "outputs": [
        {
          "output_type": "stream",
          "name": "stdout",
          "text": [
            "Mounted at /content/drive\n"
          ]
        }
      ]
    },
    {
      "cell_type": "code",
      "source": [
        "!pip install python-dotenv\n",
        "\n",
        "import os\n",
        "import dotenv\n",
        "\n",
        "dotenv.load_dotenv('/content/drive/MyDrive/.env')"
      ],
      "metadata": {
        "colab": {
          "base_uri": "https://localhost:8080/"
        },
        "id": "utcEK8lZ1Z1R",
        "outputId": "853320ce-a949-47dc-9257-18d1a7259e86"
      },
      "execution_count": 2,
      "outputs": [
        {
          "output_type": "stream",
          "name": "stdout",
          "text": [
            "Collecting python-dotenv\n",
            "  Downloading python_dotenv-1.0.1-py3-none-any.whl (19 kB)\n",
            "Installing collected packages: python-dotenv\n",
            "Successfully installed python-dotenv-1.0.1\n"
          ]
        },
        {
          "output_type": "execute_result",
          "data": {
            "text/plain": [
              "True"
            ]
          },
          "metadata": {},
          "execution_count": 2
        }
      ]
    },
    {
      "cell_type": "code",
      "source": [
        "# Load Prompts and Problem Description\n",
        "prompt1_path = '/content/drive/MyDrive/Thesis/Prompts/Prompt1_MathematicalModel.txt'\n",
        "prompt2_path = '/content/drive/MyDrive/Thesis/Prompts/Prompt2_PyomoCode.txt'\n",
        "problem_desc_path = '/content/drive/MyDrive/Thesis/ProblemDescriptions/LP/LP2.txt'\n",
        "\n",
        "prompt1_file = open(prompt1_path, \"r\")\n",
        "prompt2_file = open(prompt2_path, \"r\")\n",
        "problem_desc_file = open(problem_desc_path, \"r\")\n",
        "\n",
        "prompt1 = prompt1_file.read()\n",
        "print(\"Prompt 1:\\n\", prompt1)\n",
        "\n",
        "prompt2 = prompt2_file.read()\n",
        "print(\"Prompt 2:\\n\", prompt2)\n",
        "\n",
        "problem_desc = problem_desc_file.read()\n",
        "print(\"Problem Description:\\n\", problem_desc)"
      ],
      "metadata": {
        "colab": {
          "base_uri": "https://localhost:8080/"
        },
        "id": "9KlkjwMUS4xp",
        "outputId": "8c74c4f9-927f-4de0-b75e-e5a0dd2f2be2"
      },
      "execution_count": 3,
      "outputs": [
        {
          "output_type": "stream",
          "name": "stdout",
          "text": [
            "Prompt 1:\n",
            " Please write a mathematical optimization model for this problem. Include parameters, decision variables, the objective function and the constraints in your answer.\n",
            "Prompt 2:\n",
            " Please write a python pyomo code for this optimization problem.\n",
            "Use sample data where needed.\n",
            "Indicate where you use sample data.\n",
            "Problem Description:\n",
            " You are in charge of the supply purchasing of a company that produces two kinds of drugs. \n",
            "The drugs contain a specific active agent, which is extracted from two different kinds of raw materials that should be purchased on the market. \n",
            "\n",
            "The goal is to maximize the total profit obtained from producing the drugs, which means minimizing purchasing costs for buying the raw materials and minimizing operational costs for producing the drugs while maximizing sales. \n",
            "\n",
            "You are given a budget for purchasing raw materials and operating the production process of the drugs which cannot be exceeded. \n",
            "Additionally, you need to keep the capacity constraints for the production of the drugs in mind as there is only a limited amount of manpower as well as equipment hours available. \n",
            "Your company can also only store a limited amount of raw materials. \n",
            "Most importantly, the amount of active ingredient extracted from the raw materials you purchase needs to satisfy the required amount of active ingredient in the drugs your company produces. \n",
            "Importantly, your experience with the production of the drugs has shown the the amount of active ingredient your process extracts from the two raw materials can vary by up to 0.5% and 2%, respectively. \n",
            "During purchasing, you need to make sure that no matter how much the amount of active ingredient varies, the required amount for the drug production is always met. \n"
          ]
        }
      ]
    },
    {
      "cell_type": "code",
      "source": [
        "!pip install anthropic"
      ],
      "metadata": {
        "colab": {
          "base_uri": "https://localhost:8080/"
        },
        "id": "iWlNsTIvxCcR",
        "outputId": "3f3e559e-b7ee-42f5-d584-63eb4018550d",
        "collapsed": true
      },
      "execution_count": 4,
      "outputs": [
        {
          "output_type": "stream",
          "name": "stdout",
          "text": [
            "Collecting anthropic\n",
            "  Downloading anthropic-0.25.9-py3-none-any.whl (871 kB)\n",
            "\u001b[2K     \u001b[90m━━━━━━━━━━━━━━━━━━━━━━━━━━━━━━━━━━━━━━━━\u001b[0m \u001b[32m871.1/871.1 kB\u001b[0m \u001b[31m10.9 MB/s\u001b[0m eta \u001b[36m0:00:00\u001b[0m\n",
            "\u001b[?25hRequirement already satisfied: anyio<5,>=3.5.0 in /usr/local/lib/python3.10/dist-packages (from anthropic) (3.7.1)\n",
            "Requirement already satisfied: distro<2,>=1.7.0 in /usr/lib/python3/dist-packages (from anthropic) (1.7.0)\n",
            "Collecting httpx<1,>=0.23.0 (from anthropic)\n",
            "  Downloading httpx-0.27.0-py3-none-any.whl (75 kB)\n",
            "\u001b[2K     \u001b[90m━━━━━━━━━━━━━━━━━━━━━━━━━━━━━━━━━━━━━━━━\u001b[0m \u001b[32m75.6/75.6 kB\u001b[0m \u001b[31m10.3 MB/s\u001b[0m eta \u001b[36m0:00:00\u001b[0m\n",
            "\u001b[?25hRequirement already satisfied: pydantic<3,>=1.9.0 in /usr/local/lib/python3.10/dist-packages (from anthropic) (2.7.1)\n",
            "Requirement already satisfied: sniffio in /usr/local/lib/python3.10/dist-packages (from anthropic) (1.3.1)\n",
            "Requirement already satisfied: tokenizers>=0.13.0 in /usr/local/lib/python3.10/dist-packages (from anthropic) (0.19.1)\n",
            "Requirement already satisfied: typing-extensions<5,>=4.7 in /usr/local/lib/python3.10/dist-packages (from anthropic) (4.11.0)\n",
            "Requirement already satisfied: idna>=2.8 in /usr/local/lib/python3.10/dist-packages (from anyio<5,>=3.5.0->anthropic) (3.7)\n",
            "Requirement already satisfied: exceptiongroup in /usr/local/lib/python3.10/dist-packages (from anyio<5,>=3.5.0->anthropic) (1.2.1)\n",
            "Requirement already satisfied: certifi in /usr/local/lib/python3.10/dist-packages (from httpx<1,>=0.23.0->anthropic) (2024.2.2)\n",
            "Collecting httpcore==1.* (from httpx<1,>=0.23.0->anthropic)\n",
            "  Downloading httpcore-1.0.5-py3-none-any.whl (77 kB)\n",
            "\u001b[2K     \u001b[90m━━━━━━━━━━━━━━━━━━━━━━━━━━━━━━━━━━━━━━━━\u001b[0m \u001b[32m77.9/77.9 kB\u001b[0m \u001b[31m10.2 MB/s\u001b[0m eta \u001b[36m0:00:00\u001b[0m\n",
            "\u001b[?25hCollecting h11<0.15,>=0.13 (from httpcore==1.*->httpx<1,>=0.23.0->anthropic)\n",
            "  Downloading h11-0.14.0-py3-none-any.whl (58 kB)\n",
            "\u001b[2K     \u001b[90m━━━━━━━━━━━━━━━━━━━━━━━━━━━━━━━━━━━━━━━━\u001b[0m \u001b[32m58.3/58.3 kB\u001b[0m \u001b[31m8.9 MB/s\u001b[0m eta \u001b[36m0:00:00\u001b[0m\n",
            "\u001b[?25hRequirement already satisfied: annotated-types>=0.4.0 in /usr/local/lib/python3.10/dist-packages (from pydantic<3,>=1.9.0->anthropic) (0.6.0)\n",
            "Requirement already satisfied: pydantic-core==2.18.2 in /usr/local/lib/python3.10/dist-packages (from pydantic<3,>=1.9.0->anthropic) (2.18.2)\n",
            "Requirement already satisfied: huggingface-hub<1.0,>=0.16.4 in /usr/local/lib/python3.10/dist-packages (from tokenizers>=0.13.0->anthropic) (0.20.3)\n",
            "Requirement already satisfied: filelock in /usr/local/lib/python3.10/dist-packages (from huggingface-hub<1.0,>=0.16.4->tokenizers>=0.13.0->anthropic) (3.14.0)\n",
            "Requirement already satisfied: fsspec>=2023.5.0 in /usr/local/lib/python3.10/dist-packages (from huggingface-hub<1.0,>=0.16.4->tokenizers>=0.13.0->anthropic) (2023.6.0)\n",
            "Requirement already satisfied: requests in /usr/local/lib/python3.10/dist-packages (from huggingface-hub<1.0,>=0.16.4->tokenizers>=0.13.0->anthropic) (2.31.0)\n",
            "Requirement already satisfied: tqdm>=4.42.1 in /usr/local/lib/python3.10/dist-packages (from huggingface-hub<1.0,>=0.16.4->tokenizers>=0.13.0->anthropic) (4.66.4)\n",
            "Requirement already satisfied: pyyaml>=5.1 in /usr/local/lib/python3.10/dist-packages (from huggingface-hub<1.0,>=0.16.4->tokenizers>=0.13.0->anthropic) (6.0.1)\n",
            "Requirement already satisfied: packaging>=20.9 in /usr/local/lib/python3.10/dist-packages (from huggingface-hub<1.0,>=0.16.4->tokenizers>=0.13.0->anthropic) (24.0)\n",
            "Requirement already satisfied: charset-normalizer<4,>=2 in /usr/local/lib/python3.10/dist-packages (from requests->huggingface-hub<1.0,>=0.16.4->tokenizers>=0.13.0->anthropic) (3.3.2)\n",
            "Requirement already satisfied: urllib3<3,>=1.21.1 in /usr/local/lib/python3.10/dist-packages (from requests->huggingface-hub<1.0,>=0.16.4->tokenizers>=0.13.0->anthropic) (2.0.7)\n",
            "Installing collected packages: h11, httpcore, httpx, anthropic\n",
            "Successfully installed anthropic-0.25.9 h11-0.14.0 httpcore-1.0.5 httpx-0.27.0\n"
          ]
        }
      ]
    },
    {
      "cell_type": "code",
      "execution_count": 5,
      "metadata": {
        "id": "7Qjk2D63v1Bl"
      },
      "outputs": [],
      "source": [
        "# Importing Anthropic & Setting Headers\n",
        "import anthropic\n",
        "\n",
        "client = anthropic.Anthropic(\n",
        "    # defaults to os.environ.get(\"ANTHROPIC_API_KEY\")\n",
        "    api_key=os.environ.get(\"ANTHROPIC_API_KEY\"),\n",
        ")"
      ]
    },
    {
      "cell_type": "markdown",
      "source": [
        "# 1. Prompt 1: Create Mathematical Model"
      ],
      "metadata": {
        "id": "kT7yKbJs18XR"
      }
    },
    {
      "cell_type": "code",
      "source": [
        "message = client.messages.create(\n",
        "    model=\"claude-3-opus-20240229\",\n",
        "    system=prompt1,\n",
        "    max_tokens=4096,\n",
        "    messages=[\n",
        "        {\"role\": \"user\", \"content\": problem_desc}\n",
        "    ]\n",
        ")\n",
        "\n",
        "response_p1 = message.content[0].text"
      ],
      "metadata": {
        "id": "R_6X0axq16D4"
      },
      "execution_count": 6,
      "outputs": []
    },
    {
      "cell_type": "code",
      "source": [
        "# Print response\n",
        "print(response_p1)"
      ],
      "metadata": {
        "colab": {
          "base_uri": "https://localhost:8080/"
        },
        "id": "Ra9Ox_PI38jg",
        "outputId": "15b32d41-1dd2-4ab2-f152-3bc748f0a6a9"
      },
      "execution_count": 7,
      "outputs": [
        {
          "output_type": "stream",
          "name": "stdout",
          "text": [
            "Certainly! Here's a mathematical optimization model for the given problem:\n",
            "\n",
            "Parameters:\n",
            "- D: Set of drugs (indexed by i)\n",
            "- R: Set of raw materials (indexed by j)\n",
            "- p_i: Unit selling price of drug i\n",
            "- c_j: Unit purchasing cost of raw material j\n",
            "- o_i: Unit operational cost of producing drug i\n",
            "- B: Budget for purchasing raw materials and operating the production process\n",
            "- M: Available manpower hours\n",
            "- E: Available equipment hours\n",
            "- S_j: Storage capacity for raw material j\n",
            "- a_ij: Amount of active ingredient extracted from one unit of raw material j for drug i\n",
            "- r_i: Required amount of active ingredient in drug i\n",
            "- α_j: Minimum percentage of active ingredient extracted from raw material j (α_1 = 0.995, α_2 = 0.98)\n",
            "\n",
            "Decision Variables:\n",
            "- x_i: Quantity of drug i to produce\n",
            "- y_j: Quantity of raw material j to purchase\n",
            "\n",
            "Objective Function:\n",
            "Maximize total profit:\n",
            "∑_i (p_i * x_i) - ∑_j (c_j * y_j) - ∑_i (o_i * x_i)\n",
            "\n",
            "Constraints:\n",
            "1. Budget constraint:\n",
            "   ∑_j (c_j * y_j) + ∑_i (o_i * x_i) ≤ B\n",
            "\n",
            "2. Manpower constraint:\n",
            "   ∑_i (m_i * x_i) ≤ M, where m_i is the manpower hours required to produce one unit of drug i\n",
            "\n",
            "3. Equipment constraint:\n",
            "   ∑_i (e_i * x_i) ≤ E, where e_i is the equipment hours required to produce one unit of drug i\n",
            "\n",
            "4. Storage constraint for each raw material j:\n",
            "   y_j ≤ S_j, ∀j ∈ R\n",
            "\n",
            "5. Active ingredient requirement for each drug i (considering the variation):\n",
            "   ∑_j (α_j * a_ij * y_j) ≥ r_i * x_i, ∀i ∈ D\n",
            "\n",
            "6. Non-negativity constraints:\n",
            "   x_i ≥ 0, ∀i ∈ D\n",
            "   y_j ≥ 0, ∀j ∈ R\n",
            "\n",
            "This optimization model aims to maximize the total profit by determining the optimal quantities of drugs to produce (x_i) and raw materials to purchase (y_j), while satisfying the given constraints on budget, manpower, equipment, storage capacity, and active ingredient requirements. The active ingredient constraint ensures that the required amount of active ingredient is always met, even with the potential variations in extraction from the raw materials.\n"
          ]
        }
      ]
    },
    {
      "cell_type": "markdown",
      "source": [
        "# 2. Prompt 2: Write Code based on Mathematical Model"
      ],
      "metadata": {
        "id": "WPZ6lgBO729j"
      }
    },
    {
      "cell_type": "code",
      "source": [
        "message2 = client.messages.create(\n",
        "    model=\"claude-3-opus-20240229\",\n",
        "    system=prompt2,\n",
        "    max_tokens=4069,\n",
        "    messages=[\n",
        "        {\"role\": \"user\", \"content\": response_p1}\n",
        "    ]\n",
        ")\n",
        "\n",
        "response_p2 = message2.content[0].text"
      ],
      "metadata": {
        "id": "1iUSgBda70FL"
      },
      "execution_count": 8,
      "outputs": []
    },
    {
      "cell_type": "code",
      "source": [
        "# Print response\n",
        "print(response_p2)"
      ],
      "metadata": {
        "colab": {
          "base_uri": "https://localhost:8080/"
        },
        "id": "o40mxc_H8eQ9",
        "outputId": "f919debe-22b3-4abe-e2c8-a1ef3bde0f90"
      },
      "execution_count": 9,
      "outputs": [
        {
          "output_type": "stream",
          "name": "stdout",
          "text": [
            "Great! Now let's implement this optimization model using Python and Pyomo. Here's the code:\n",
            "\n",
            "```python\n",
            "import pyomo.environ as pyo\n",
            "\n",
            "# Define the model\n",
            "model = pyo.ConcreteModel()\n",
            "\n",
            "# Define sets\n",
            "model.D = pyo.Set(initialize=['D1', 'D2'])  # Set of drugs\n",
            "model.R = pyo.Set(initialize=['R1', 'R2'])  # Set of raw materials\n",
            "\n",
            "# Define parameters\n",
            "model.p = pyo.Param(model.D, initialize={'D1': 10, 'D2': 15})  # Unit selling price of drugs\n",
            "model.c = pyo.Param(model.R, initialize={'R1': 2, 'R2': 3})  # Unit purchasing cost of raw materials\n",
            "model.o = pyo.Param(model.D, initialize={'D1': 1, 'D2': 2})  # Unit operational cost of producing drugs\n",
            "model.B = pyo.Param(initialize=1000)  # Budget\n",
            "model.M = pyo.Param(initialize=500)  # Available manpower hours\n",
            "model.E = pyo.Param(initialize=800)  # Available equipment hours\n",
            "model.S = pyo.Param(model.R, initialize={'R1': 200, 'R2': 300})  # Storage capacity for raw materials\n",
            "model.a = pyo.Param(model.D, model.R, initialize={\n",
            "    ('D1', 'R1'): 0.5, ('D1', 'R2'): 0.3,\n",
            "    ('D2', 'R1'): 0.4, ('D2', 'R2'): 0.6\n",
            "})  # Amount of active ingredient extracted from raw materials\n",
            "model.r = pyo.Param(model.D, initialize={'D1': 0.8, 'D2': 1.2})  # Required amount of active ingredient in drugs\n",
            "model.alpha = pyo.Param(model.R, initialize={'R1': 0.995, 'R2': 0.98})  # Minimum percentage of active ingredient extracted\n",
            "\n",
            "# Define decision variables\n",
            "model.x = pyo.Var(model.D, domain=pyo.NonNegativeReals)  # Quantity of drugs to produce\n",
            "model.y = pyo.Var(model.R, domain=pyo.NonNegativeReals)  # Quantity of raw materials to purchase\n",
            "\n",
            "# Define objective function\n",
            "model.profit = pyo.Objective(\n",
            "    expr=sum(model.p[i] * model.x[i] for i in model.D) -\n",
            "         sum(model.c[j] * model.y[j] for j in model.R) -\n",
            "         sum(model.o[i] * model.x[i] for i in model.D),\n",
            "    sense=pyo.maximize\n",
            ")\n",
            "\n",
            "# Define constraints\n",
            "model.budget_constraint = pyo.Constraint(\n",
            "    expr=sum(model.c[j] * model.y[j] for j in model.R) +\n",
            "         sum(model.o[i] * model.x[i] for i in model.D) <= model.B\n",
            ")\n",
            "\n",
            "model.manpower_constraint = pyo.Constraint(\n",
            "    expr=sum(1.5 * model.x[i] for i in model.D) <= model.M  # Sample data: 1.5 manpower hours per unit of drug\n",
            ")\n",
            "\n",
            "model.equipment_constraint = pyo.Constraint(\n",
            "    expr=sum(2 * model.x[i] for i in model.D) <= model.E  # Sample data: 2 equipment hours per unit of drug\n",
            ")\n",
            "\n",
            "model.storage_constraints = pyo.ConstraintList()\n",
            "for j in model.R:\n",
            "    model.storage_constraints.add(model.y[j] <= model.S[j])\n",
            "\n",
            "model.active_ingredient_constraints = pyo.ConstraintList()\n",
            "for i in model.D:\n",
            "    model.active_ingredient_constraints.add(\n",
            "        sum(model.alpha[j] * model.a[i, j] * model.y[j] for j in model.R) >= model.r[i] * model.x[i]\n",
            "    )\n",
            "\n",
            "# Solve the model\n",
            "solver = pyo.SolverFactory('glpk')\n",
            "results = solver.solve(model)\n",
            "\n",
            "# Print the results\n",
            "print(\"Optimal Solution:\")\n",
            "print(\"Objective Value (Total Profit):\", pyo.value(model.profit))\n",
            "print(\"Drug Production Quantities:\")\n",
            "for i in model.D:\n",
            "    print(f\"- {i}: {model.x[i].value}\")\n",
            "print(\"Raw Material Purchase Quantities:\")\n",
            "for j in model.R:\n",
            "    print(f\"- {j}: {model.y[j].value}\")\n",
            "```\n",
            "\n",
            "In this code, I used sample data for the manpower hours required per unit of drug (`1.5`) and the equipment hours required per unit of drug (`2`). You can replace these values with actual data if available.\n",
            "\n",
            "The code defines the sets, parameters, decision variables, objective function, and constraints according to the provided mathematical model. It then solves the optimization problem using the GLPK solver and prints the optimal solution, including the total profit, drug production quantities, and raw material purchase quantities.\n",
            "\n",
            "Please note that you need to have Pyomo and a solver (such as GLPK) installed to run this code.\n"
          ]
        }
      ]
    },
    {
      "cell_type": "markdown",
      "source": [
        "# 4. Input Problem Data and Test Model Code"
      ],
      "metadata": {
        "id": "Pc0QqJuf8up_"
      }
    },
    {
      "cell_type": "code",
      "source": [
        "# Installing pyomo nd solver\n",
        "!pip install -q pyomo\n",
        "!apt-get install -y -qq glpk-utils\n",
        "!pip install glpk"
      ],
      "metadata": {
        "colab": {
          "base_uri": "https://localhost:8080/"
        },
        "id": "3BtROuLu9O-p",
        "outputId": "1da2d08a-a42b-4f49-ec58-2c8333793e8d",
        "collapsed": true
      },
      "execution_count": 10,
      "outputs": [
        {
          "output_type": "stream",
          "name": "stdout",
          "text": [
            "\u001b[2K     \u001b[90m━━━━━━━━━━━━━━━━━━━━━━━━━━━━━━━━━━━━━━━━\u001b[0m \u001b[32m12.8/12.8 MB\u001b[0m \u001b[31m53.4 MB/s\u001b[0m eta \u001b[36m0:00:00\u001b[0m\n",
            "\u001b[2K     \u001b[90m━━━━━━━━━━━━━━━━━━━━━━━━━━━━━━━━━━━━━━━━\u001b[0m \u001b[32m49.6/49.6 kB\u001b[0m \u001b[31m5.4 MB/s\u001b[0m eta \u001b[36m0:00:00\u001b[0m\n",
            "\u001b[?25hSelecting previously unselected package libsuitesparseconfig5:amd64.\n",
            "(Reading database ... 121918 files and directories currently installed.)\n",
            "Preparing to unpack .../libsuitesparseconfig5_1%3a5.10.1+dfsg-4build1_amd64.deb ...\n",
            "Unpacking libsuitesparseconfig5:amd64 (1:5.10.1+dfsg-4build1) ...\n",
            "Selecting previously unselected package libamd2:amd64.\n",
            "Preparing to unpack .../libamd2_1%3a5.10.1+dfsg-4build1_amd64.deb ...\n",
            "Unpacking libamd2:amd64 (1:5.10.1+dfsg-4build1) ...\n",
            "Selecting previously unselected package libcolamd2:amd64.\n",
            "Preparing to unpack .../libcolamd2_1%3a5.10.1+dfsg-4build1_amd64.deb ...\n",
            "Unpacking libcolamd2:amd64 (1:5.10.1+dfsg-4build1) ...\n",
            "Selecting previously unselected package libglpk40:amd64.\n",
            "Preparing to unpack .../libglpk40_5.0-1_amd64.deb ...\n",
            "Unpacking libglpk40:amd64 (5.0-1) ...\n",
            "Selecting previously unselected package glpk-utils.\n",
            "Preparing to unpack .../glpk-utils_5.0-1_amd64.deb ...\n",
            "Unpacking glpk-utils (5.0-1) ...\n",
            "Setting up libsuitesparseconfig5:amd64 (1:5.10.1+dfsg-4build1) ...\n",
            "Setting up libamd2:amd64 (1:5.10.1+dfsg-4build1) ...\n",
            "Setting up libcolamd2:amd64 (1:5.10.1+dfsg-4build1) ...\n",
            "Setting up libglpk40:amd64 (5.0-1) ...\n",
            "Setting up glpk-utils (5.0-1) ...\n",
            "Processing triggers for man-db (2.10.2-1) ...\n",
            "Processing triggers for libc-bin (2.35-0ubuntu3.4) ...\n",
            "/sbin/ldconfig.real: /usr/local/lib/libtbbbind_2_5.so.3 is not a symbolic link\n",
            "\n",
            "/sbin/ldconfig.real: /usr/local/lib/libtbbmalloc.so.2 is not a symbolic link\n",
            "\n",
            "/sbin/ldconfig.real: /usr/local/lib/libtbbbind.so.3 is not a symbolic link\n",
            "\n",
            "/sbin/ldconfig.real: /usr/local/lib/libtbbmalloc_proxy.so.2 is not a symbolic link\n",
            "\n",
            "/sbin/ldconfig.real: /usr/local/lib/libtbb.so.12 is not a symbolic link\n",
            "\n",
            "/sbin/ldconfig.real: /usr/local/lib/libtbbbind_2_0.so.3 is not a symbolic link\n",
            "\n",
            "Collecting glpk\n",
            "  Downloading glpk-0.4.7.tar.gz (161 kB)\n",
            "\u001b[2K     \u001b[90m━━━━━━━━━━━━━━━━━━━━━━━━━━━━━━━━━━━━━━━━\u001b[0m \u001b[32m161.2/161.2 kB\u001b[0m \u001b[31m3.7 MB/s\u001b[0m eta \u001b[36m0:00:00\u001b[0m\n",
            "\u001b[?25h  Installing build dependencies ... \u001b[?25l\u001b[?25hdone\n",
            "  Getting requirements to build wheel ... \u001b[?25l\u001b[?25hdone\n",
            "  Preparing metadata (pyproject.toml) ... \u001b[?25l\u001b[?25hdone\n",
            "Building wheels for collected packages: glpk\n",
            "  \u001b[1;31merror\u001b[0m: \u001b[1msubprocess-exited-with-error\u001b[0m\n",
            "  \n",
            "  \u001b[31m×\u001b[0m \u001b[32mBuilding wheel for glpk \u001b[0m\u001b[1;32m(\u001b[0m\u001b[32mpyproject.toml\u001b[0m\u001b[1;32m)\u001b[0m did not run successfully.\n",
            "  \u001b[31m│\u001b[0m exit code: \u001b[1;36m1\u001b[0m\n",
            "  \u001b[31m╰─>\u001b[0m See above for output.\n",
            "  \n",
            "  \u001b[1;35mnote\u001b[0m: This error originates from a subprocess, and is likely not a problem with pip.\n",
            "  Building wheel for glpk (pyproject.toml) ... \u001b[?25l\u001b[?25herror\n",
            "\u001b[31m  ERROR: Failed building wheel for glpk\u001b[0m\u001b[31m\n",
            "\u001b[0mFailed to build glpk\n",
            "\u001b[31mERROR: Could not build wheels for glpk, which is required to install pyproject.toml-based projects\u001b[0m\u001b[31m\n",
            "\u001b[0m"
          ]
        }
      ]
    },
    {
      "cell_type": "code",
      "source": [
        "import pyomo.environ as pyo\n",
        "\n",
        "# Define the model\n",
        "model = pyo.ConcreteModel()\n",
        "\n",
        "# Define sets\n",
        "model.D = pyo.Set(initialize=['D1', 'D2'])  # Set of drugs\n",
        "model.R = pyo.Set(initialize=['R1', 'R2'])  # Set of raw materials\n",
        "\n",
        "# Define parameters\n",
        "model.p = pyo.Param(model.D, initialize={'D1': 6200, 'D2': 6900})  # Unit selling price of drugs\n",
        "model.c = pyo.Param(model.R, initialize={'R1': 100, 'R2': 199.90})  # Unit purchasing cost of raw materials\n",
        "model.o = pyo.Param(model.D, initialize={'D1': 700, 'D2': 800})  # Unit operational cost of producing drugs\n",
        "model.B = pyo.Param(initialize=100000)  # Budget\n",
        "model.M = pyo.Param(initialize=2000)  # Available manpower hours\n",
        "model.E = pyo.Param(initialize=800)  # Available equipment hours\n",
        "model.S = pyo.Param(model.R, initialize={'R1': 1000, 'R2': 1000})  # Storage capacity for raw materials\n",
        "model.a = pyo.Param(model.D, model.R, initialize={\n",
        "    ('D1', 'R1'): 0.01, ('D1', 'R2'): 0.02,\n",
        "    ('D2', 'R1'): 0.01, ('D2', 'R2'): 0.02\n",
        "})  # Amount of active ingredient extracted from raw materials\n",
        "model.r = pyo.Param(model.D, initialize={'D1': 0.5, 'D2': 0.6})  # Required amount of active ingredient in drugs\n",
        "model.alpha = pyo.Param(model.R, initialize={'R1': 0.995, 'R2': 0.98})  # Minimum percentage of active ingredient extracted\n",
        "\n",
        "# Define decision variables\n",
        "model.x = pyo.Var(model.D, domain=pyo.NonNegativeReals)  # Quantity of drugs to produce\n",
        "model.y = pyo.Var(model.R, domain=pyo.NonNegativeReals)  # Quantity of raw materials to purchase\n",
        "\n",
        "# Define objective function\n",
        "model.profit = pyo.Objective(\n",
        "    expr=sum(model.p[i] * model.x[i] for i in model.D) -\n",
        "         sum(model.c[j] * model.y[j] for j in model.R) -\n",
        "         sum(model.o[i] * model.x[i] for i in model.D),\n",
        "    sense=pyo.maximize\n",
        ")\n",
        "\n",
        "# Define constraints\n",
        "model.budget_constraint = pyo.Constraint(\n",
        "    expr=sum(model.c[j] * model.y[j] for j in model.R) +\n",
        "         sum(model.o[i] * model.x[i] for i in model.D) <= model.B\n",
        ")\n",
        "\n",
        "model.manpower_constraint = pyo.Constraint(\n",
        "    expr=sum(1.5 * model.x[i] for i in model.D) <= model.M  # Sample data: 1.5 manpower hours per unit of drug\n",
        ")\n",
        "\n",
        "model.equipment_constraint = pyo.Constraint(\n",
        "    expr=sum(2 * model.x[i] for i in model.D) <= model.E  # Sample data: 2 equipment hours per unit of drug\n",
        ")\n",
        "\n",
        "model.storage_constraints = pyo.ConstraintList()\n",
        "for j in model.R:\n",
        "    model.storage_constraints.add(model.y[j] <= model.S[j])\n",
        "\n",
        "model.active_ingredient_constraints = pyo.ConstraintList()\n",
        "for i in model.D:\n",
        "    model.active_ingredient_constraints.add(\n",
        "        sum(model.alpha[j] * model.a[i, j] * model.y[j] for j in model.R) >= model.r[i] * model.x[i]\n",
        "    )\n",
        "\n",
        "# Solve the model\n",
        "solver = pyo.SolverFactory('glpk')\n",
        "results = solver.solve(model)\n",
        "\n",
        "# Print the results\n",
        "print(\"Optimal Solution:\")\n",
        "print(\"Objective Value (Total Profit):\", pyo.value(model.profit))\n",
        "print(\"Drug Production Quantities:\")\n",
        "for i in model.D:\n",
        "    print(f\"- {i}: {model.x[i].value}\")\n",
        "print(\"Raw Material Purchase Quantities:\")\n",
        "for j in model.R:\n",
        "    print(f\"- {j}: {model.y[j].value}\")"
      ],
      "metadata": {
        "colab": {
          "base_uri": "https://localhost:8080/"
        },
        "id": "8FpHcuWU8rQ2",
        "outputId": "dff306a7-9ee8-4c16-cd76-0e37a3fb956a"
      },
      "execution_count": 11,
      "outputs": [
        {
          "output_type": "stream",
          "name": "stdout",
          "text": [
            "Optimal Solution:\n",
            "Objective Value (Total Profit): 86958.51568437305\n",
            "Drug Production Quantities:\n",
            "- D1: 15.6450640740061\n",
            "- D2: 13.0375533950051\n",
            "Raw Material Purchase Quantities:\n",
            "- R1: 786.184124321916\n",
            "- R2: 0.0\n"
          ]
        }
      ]
    },
    {
      "cell_type": "markdown",
      "source": [
        "# 5. Correct The Model Code to Test Mathematical Model (if applicable)"
      ],
      "metadata": {
        "id": "KHTyoLQTWZVy"
      }
    },
    {
      "cell_type": "code",
      "source": [],
      "metadata": {
        "id": "REJzqhR6WYvM"
      },
      "execution_count": null,
      "outputs": []
    }
  ]
}