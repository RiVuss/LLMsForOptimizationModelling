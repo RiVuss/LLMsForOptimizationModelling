{
  "nbformat": 4,
  "nbformat_minor": 0,
  "metadata": {
    "colab": {
      "provenance": []
    },
    "kernelspec": {
      "name": "python3",
      "display_name": "Python 3"
    },
    "language_info": {
      "name": "python"
    }
  },
  "cells": [
    {
      "cell_type": "markdown",
      "source": [
        "# 0. Imports and Setting up Anthropic API Client"
      ],
      "metadata": {
        "id": "y5fw0lkBwBbo"
      }
    },
    {
      "cell_type": "code",
      "source": [
        "from google.colab import drive\n",
        "\n",
        "drive.mount('/content/drive')"
      ],
      "metadata": {
        "colab": {
          "base_uri": "https://localhost:8080/"
        },
        "id": "e7tWOLo0yMoH",
        "outputId": "c14d69d5-7781-439f-9d43-7d8dcbb4027a"
      },
      "execution_count": 1,
      "outputs": [
        {
          "output_type": "stream",
          "name": "stdout",
          "text": [
            "Mounted at /content/drive\n"
          ]
        }
      ]
    },
    {
      "cell_type": "code",
      "source": [
        "!pip install python-dotenv\n",
        "\n",
        "import os\n",
        "import dotenv\n",
        "\n",
        "dotenv.load_dotenv('/content/drive/MyDrive/.env')"
      ],
      "metadata": {
        "colab": {
          "base_uri": "https://localhost:8080/"
        },
        "id": "utcEK8lZ1Z1R",
        "outputId": "0fa6036d-8091-4852-c122-53a39f0809ff"
      },
      "execution_count": 2,
      "outputs": [
        {
          "output_type": "stream",
          "name": "stdout",
          "text": [
            "Collecting python-dotenv\n",
            "  Downloading python_dotenv-1.0.1-py3-none-any.whl (19 kB)\n",
            "Installing collected packages: python-dotenv\n",
            "Successfully installed python-dotenv-1.0.1\n"
          ]
        },
        {
          "output_type": "execute_result",
          "data": {
            "text/plain": [
              "True"
            ]
          },
          "metadata": {},
          "execution_count": 2
        }
      ]
    },
    {
      "cell_type": "code",
      "source": [
        "# Load Prompts and Problem Description\n",
        "prompt1_path = '/content/drive/MyDrive/Thesis/Prompts/Prompt1_MathematicalModel.txt'\n",
        "prompt2_path = '/content/drive/MyDrive/Thesis/Prompts/Prompt2_PyomoCode.txt'\n",
        "problem_desc_path = '/content/drive/MyDrive/Thesis/ProblemDescriptions/LP/LP1.txt'\n",
        "\n",
        "prompt1_file = open(prompt1_path, \"r\")\n",
        "prompt2_file = open(prompt2_path, \"r\")\n",
        "problem_desc_file = open(problem_desc_path, \"r\")\n",
        "\n",
        "prompt1 = prompt1_file.read()\n",
        "print(\"Prompt 1:\\n\", prompt1)\n",
        "\n",
        "prompt2 = prompt2_file.read()\n",
        "print(\"Prompt 2:\\n\", prompt2)\n",
        "\n",
        "problem_desc = problem_desc_file.read()\n",
        "print(\"Problem Description:\\n\", problem_desc)"
      ],
      "metadata": {
        "colab": {
          "base_uri": "https://localhost:8080/"
        },
        "id": "9KlkjwMUS4xp",
        "outputId": "1c932edf-3efd-49f8-f74c-1d590a96121d"
      },
      "execution_count": 3,
      "outputs": [
        {
          "output_type": "stream",
          "name": "stdout",
          "text": [
            "Prompt 1:\n",
            " Please write a mathematical optimization model for this problem. Include parameters, decision variables, the objective function and the constraints in your answer.\n",
            "Prompt 2:\n",
            " Please write a python pyomo code for this optimization problem.\n",
            "Use sample data where needed.\n",
            "Indicate where you use sample data.\n",
            "Problem Description:\n",
            " A firm from Milan sells chemical products for professional cosmetics. It is planning the production of three products, GCA, GCB and GCC, for a given period of\n",
            "time by mixing two different components: C1 and C2. All the end products must\n",
            "contain at least one of the two components, and not necessarily both.\n",
            "\n",
            "For the next planning period, 10,000 l of C1 and 15,000 l of C2 are available.\n",
            "The production of GCA, GCB and GCC must be scheduled to at least cover the\n",
            "minimum demand level of 6,000, 7,000 and 9,000 l, respectively. It is assumed\n",
            "that when chemical components are mixed, there is no loss or gain in volume.\n",
            "\n",
            "Each chemical component, C1 and C2, has a proportional critical element, 0.4\n",
            "and 0.2, respectively. That is to say, each litre of C1 contains 0.4 l of the critical\n",
            "element. To obtain GCA, the mixture must proportionally contain at least a 0.3\n",
            "fraction of the critical element. Another requirement is that the quantity of the\n",
            "critical element is seen in GCB, an 0.3 fraction at the most.\n",
            "Furthermore, the minimum ratio of C1 with C2 in product GCC must be 0.3.\n",
            "\n",
            "The profit expected for the sale of each litre of GCA, GCB and GCC is $120, $135\n",
            "and $155, respectively.\n",
            "\n",
            "Optimise the production planning of this firm. \n"
          ]
        }
      ]
    },
    {
      "cell_type": "code",
      "source": [
        "!pip install anthropic"
      ],
      "metadata": {
        "colab": {
          "base_uri": "https://localhost:8080/"
        },
        "id": "iWlNsTIvxCcR",
        "outputId": "b18fdcaa-a01e-49f5-f036-2f3967c20e48",
        "collapsed": true
      },
      "execution_count": 4,
      "outputs": [
        {
          "output_type": "stream",
          "name": "stdout",
          "text": [
            "Collecting anthropic\n",
            "  Downloading anthropic-0.25.9-py3-none-any.whl (871 kB)\n",
            "\u001b[2K     \u001b[90m━━━━━━━━━━━━━━━━━━━━━━━━━━━━━━━━━━━━━━━━\u001b[0m \u001b[32m871.1/871.1 kB\u001b[0m \u001b[31m7.3 MB/s\u001b[0m eta \u001b[36m0:00:00\u001b[0m\n",
            "\u001b[?25hRequirement already satisfied: anyio<5,>=3.5.0 in /usr/local/lib/python3.10/dist-packages (from anthropic) (3.7.1)\n",
            "Requirement already satisfied: distro<2,>=1.7.0 in /usr/lib/python3/dist-packages (from anthropic) (1.7.0)\n",
            "Collecting httpx<1,>=0.23.0 (from anthropic)\n",
            "  Downloading httpx-0.27.0-py3-none-any.whl (75 kB)\n",
            "\u001b[2K     \u001b[90m━━━━━━━━━━━━━━━━━━━━━━━━━━━━━━━━━━━━━━━━\u001b[0m \u001b[32m75.6/75.6 kB\u001b[0m \u001b[31m7.7 MB/s\u001b[0m eta \u001b[36m0:00:00\u001b[0m\n",
            "\u001b[?25hRequirement already satisfied: pydantic<3,>=1.9.0 in /usr/local/lib/python3.10/dist-packages (from anthropic) (2.7.1)\n",
            "Requirement already satisfied: sniffio in /usr/local/lib/python3.10/dist-packages (from anthropic) (1.3.1)\n",
            "Requirement already satisfied: tokenizers>=0.13.0 in /usr/local/lib/python3.10/dist-packages (from anthropic) (0.19.1)\n",
            "Requirement already satisfied: typing-extensions<5,>=4.7 in /usr/local/lib/python3.10/dist-packages (from anthropic) (4.11.0)\n",
            "Requirement already satisfied: idna>=2.8 in /usr/local/lib/python3.10/dist-packages (from anyio<5,>=3.5.0->anthropic) (3.7)\n",
            "Requirement already satisfied: exceptiongroup in /usr/local/lib/python3.10/dist-packages (from anyio<5,>=3.5.0->anthropic) (1.2.1)\n",
            "Requirement already satisfied: certifi in /usr/local/lib/python3.10/dist-packages (from httpx<1,>=0.23.0->anthropic) (2024.2.2)\n",
            "Collecting httpcore==1.* (from httpx<1,>=0.23.0->anthropic)\n",
            "  Downloading httpcore-1.0.5-py3-none-any.whl (77 kB)\n",
            "\u001b[2K     \u001b[90m━━━━━━━━━━━━━━━━━━━━━━━━━━━━━━━━━━━━━━━━\u001b[0m \u001b[32m77.9/77.9 kB\u001b[0m \u001b[31m7.3 MB/s\u001b[0m eta \u001b[36m0:00:00\u001b[0m\n",
            "\u001b[?25hCollecting h11<0.15,>=0.13 (from httpcore==1.*->httpx<1,>=0.23.0->anthropic)\n",
            "  Downloading h11-0.14.0-py3-none-any.whl (58 kB)\n",
            "\u001b[2K     \u001b[90m━━━━━━━━━━━━━━━━━━━━━━━━━━━━━━━━━━━━━━━━\u001b[0m \u001b[32m58.3/58.3 kB\u001b[0m \u001b[31m5.8 MB/s\u001b[0m eta \u001b[36m0:00:00\u001b[0m\n",
            "\u001b[?25hRequirement already satisfied: annotated-types>=0.4.0 in /usr/local/lib/python3.10/dist-packages (from pydantic<3,>=1.9.0->anthropic) (0.6.0)\n",
            "Requirement already satisfied: pydantic-core==2.18.2 in /usr/local/lib/python3.10/dist-packages (from pydantic<3,>=1.9.0->anthropic) (2.18.2)\n",
            "Requirement already satisfied: huggingface-hub<1.0,>=0.16.4 in /usr/local/lib/python3.10/dist-packages (from tokenizers>=0.13.0->anthropic) (0.20.3)\n",
            "Requirement already satisfied: filelock in /usr/local/lib/python3.10/dist-packages (from huggingface-hub<1.0,>=0.16.4->tokenizers>=0.13.0->anthropic) (3.14.0)\n",
            "Requirement already satisfied: fsspec>=2023.5.0 in /usr/local/lib/python3.10/dist-packages (from huggingface-hub<1.0,>=0.16.4->tokenizers>=0.13.0->anthropic) (2023.6.0)\n",
            "Requirement already satisfied: requests in /usr/local/lib/python3.10/dist-packages (from huggingface-hub<1.0,>=0.16.4->tokenizers>=0.13.0->anthropic) (2.31.0)\n",
            "Requirement already satisfied: tqdm>=4.42.1 in /usr/local/lib/python3.10/dist-packages (from huggingface-hub<1.0,>=0.16.4->tokenizers>=0.13.0->anthropic) (4.66.4)\n",
            "Requirement already satisfied: pyyaml>=5.1 in /usr/local/lib/python3.10/dist-packages (from huggingface-hub<1.0,>=0.16.4->tokenizers>=0.13.0->anthropic) (6.0.1)\n",
            "Requirement already satisfied: packaging>=20.9 in /usr/local/lib/python3.10/dist-packages (from huggingface-hub<1.0,>=0.16.4->tokenizers>=0.13.0->anthropic) (24.0)\n",
            "Requirement already satisfied: charset-normalizer<4,>=2 in /usr/local/lib/python3.10/dist-packages (from requests->huggingface-hub<1.0,>=0.16.4->tokenizers>=0.13.0->anthropic) (3.3.2)\n",
            "Requirement already satisfied: urllib3<3,>=1.21.1 in /usr/local/lib/python3.10/dist-packages (from requests->huggingface-hub<1.0,>=0.16.4->tokenizers>=0.13.0->anthropic) (2.0.7)\n",
            "Installing collected packages: h11, httpcore, httpx, anthropic\n",
            "Successfully installed anthropic-0.25.9 h11-0.14.0 httpcore-1.0.5 httpx-0.27.0\n"
          ]
        }
      ]
    },
    {
      "cell_type": "code",
      "execution_count": 5,
      "metadata": {
        "id": "7Qjk2D63v1Bl"
      },
      "outputs": [],
      "source": [
        "# Importing Anthropic & Setting Headers\n",
        "import anthropic\n",
        "\n",
        "client = anthropic.Anthropic(\n",
        "    # defaults to os.environ.get(\"ANTHROPIC_API_KEY\")\n",
        "    api_key=os.environ.get(\"ANTHROPIC_API_KEY\"),\n",
        ")"
      ]
    },
    {
      "cell_type": "markdown",
      "source": [
        "# 1. Prompt 1: Create Mathematical Model"
      ],
      "metadata": {
        "id": "kT7yKbJs18XR"
      }
    },
    {
      "cell_type": "code",
      "source": [
        "message = client.messages.create(\n",
        "    model=\"claude-3-opus-20240229\",\n",
        "    system=prompt1,\n",
        "    max_tokens=4096,\n",
        "    messages=[\n",
        "        {\"role\": \"user\", \"content\": problem_desc}\n",
        "    ]\n",
        ")\n",
        "\n",
        "response_p1 = message.content[0].text"
      ],
      "metadata": {
        "id": "R_6X0axq16D4"
      },
      "execution_count": 6,
      "outputs": []
    },
    {
      "cell_type": "code",
      "source": [
        "# Print response\n",
        "print(response_p1)"
      ],
      "metadata": {
        "colab": {
          "base_uri": "https://localhost:8080/"
        },
        "id": "Ra9Ox_PI38jg",
        "outputId": "fe9472cb-e144-42e6-f472-51511f16584c"
      },
      "execution_count": 7,
      "outputs": [
        {
          "output_type": "stream",
          "name": "stdout",
          "text": [
            "Let's formulate the mathematical optimization model for this problem.\n",
            "\n",
            "Parameters:\n",
            "- C1: Available quantity of component 1 (10,000 l)\n",
            "- C2: Available quantity of component 2 (15,000 l)\n",
            "- D_GCA, D_GCB, D_GCC: Minimum demand for products GCA, GCB, and GCC (6,000, 7,000, and 9,000 l, respectively)\n",
            "- CE_C1, CE_C2: Proportional critical element in components C1 and C2 (0.4 and 0.2, respectively)\n",
            "- CE_GCA_min: Minimum fraction of the critical element in product GCA (0.3)\n",
            "- CE_GCB_max: Maximum fraction of the critical element in product GCB (0.3)\n",
            "- R_GCC_min: Minimum ratio of C1 to C2 in product GCC (0.3)\n",
            "- P_GCA, P_GCB, P_GCC: Profit per litre for products GCA, GCB, and GCC ($120, $135, and $155, respectively)\n",
            "\n",
            "Decision Variables:\n",
            "- X_GCA_C1, X_GCA_C2: Quantity of components C1 and C2 used in product GCA\n",
            "- X_GCB_C1, X_GCB_C2: Quantity of components C1 and C2 used in product GCB\n",
            "- X_GCC_C1, X_GCC_C2: Quantity of components C1 and C2 used in product GCC\n",
            "\n",
            "Objective Function:\n",
            "Maximize Total Profit = P_GCA * (X_GCA_C1 + X_GCA_C2) + P_GCB * (X_GCB_C1 + X_GCB_C2) + P_GCC * (X_GCC_C1 + X_GCC_C2)\n",
            "\n",
            "Constraints:\n",
            "1. Component availability:\n",
            "   - X_GCA_C1 + X_GCB_C1 + X_GCC_C1 ≤ C1\n",
            "   - X_GCA_C2 + X_GCB_C2 + X_GCC_C2 ≤ C2\n",
            "\n",
            "2. Minimum demand:\n",
            "   - X_GCA_C1 + X_GCA_C2 ≥ D_GCA\n",
            "   - X_GCB_C1 + X_GCB_C2 ≥ D_GCB\n",
            "   - X_GCC_C1 + X_GCC_C2 ≥ D_GCC\n",
            "\n",
            "3. Critical element requirements:\n",
            "   - CE_C1 * X_GCA_C1 + CE_C2 * X_GCA_C2 ≥ CE_GCA_min * (X_GCA_C1 + X_GCA_C2)\n",
            "   - CE_C1 * X_GCB_C1 + CE_C2 * X_GCB_C2 ≤ CE_GCB_max * (X_GCB_C1 + X_GCB_C2)\n",
            "\n",
            "4. Minimum ratio of C1 to C2 in GCC:\n",
            "   - X_GCC_C1 ≥ R_GCC_min * X_GCC_C2\n",
            "\n",
            "5. Non-negativity:\n",
            "   - X_GCA_C1, X_GCA_C2, X_GCB_C1, X_GCB_C2, X_GCC_C1, X_GCC_C2 ≥ 0\n",
            "\n",
            "The objective is to maximize the total profit by optimizing the production planning, subject to the given constraints on component availability, minimum demand, critical element requirements, and the minimum ratio of C1 to C2 in product GCC.\n"
          ]
        }
      ]
    },
    {
      "cell_type": "markdown",
      "source": [
        "# 2. Prompt 2: Write Code based on Mathematical Model"
      ],
      "metadata": {
        "id": "WPZ6lgBO729j"
      }
    },
    {
      "cell_type": "code",
      "source": [
        "message2 = client.messages.create(\n",
        "    model=\"claude-3-opus-20240229\",\n",
        "    system=prompt2,\n",
        "    max_tokens=4069,\n",
        "    messages=[\n",
        "        {\"role\": \"user\", \"content\": response_p1}\n",
        "    ]\n",
        ")\n",
        "\n",
        "response_p2 = message2.content[0].text"
      ],
      "metadata": {
        "id": "1iUSgBda70FL"
      },
      "execution_count": 8,
      "outputs": []
    },
    {
      "cell_type": "code",
      "source": [
        "# Print response\n",
        "print(response_p2)"
      ],
      "metadata": {
        "colab": {
          "base_uri": "https://localhost:8080/"
        },
        "id": "o40mxc_H8eQ9",
        "outputId": "0b0c9fce-6b89-49e1-c193-88cf260e6c7f"
      },
      "execution_count": 9,
      "outputs": [
        {
          "output_type": "stream",
          "name": "stdout",
          "text": [
            "Great! Now let's implement the optimization model using Pyomo in Python.\n",
            "\n",
            "```python\n",
            "from pyomo.environ import *\n",
            "\n",
            "# Create a Pyomo model\n",
            "model = ConcreteModel()\n",
            "\n",
            "# Define parameters\n",
            "model.C1 = 10000\n",
            "model.C2 = 15000\n",
            "model.D_GCA = 6000\n",
            "model.D_GCB = 7000\n",
            "model.D_GCC = 9000\n",
            "model.CE_C1 = 0.4\n",
            "model.CE_C2 = 0.2\n",
            "model.CE_GCA_min = 0.3\n",
            "model.CE_GCB_max = 0.3\n",
            "model.R_GCC_min = 0.3\n",
            "model.P_GCA = 120\n",
            "model.P_GCB = 135\n",
            "model.P_GCC = 155\n",
            "\n",
            "# Define decision variables\n",
            "model.X_GCA_C1 = Var(domain=NonNegativeReals)\n",
            "model.X_GCA_C2 = Var(domain=NonNegativeReals)\n",
            "model.X_GCB_C1 = Var(domain=NonNegativeReals)\n",
            "model.X_GCB_C2 = Var(domain=NonNegativeReals)\n",
            "model.X_GCC_C1 = Var(domain=NonNegativeReals)\n",
            "model.X_GCC_C2 = Var(domain=NonNegativeReals)\n",
            "\n",
            "# Define objective function\n",
            "def obj_rule(model):\n",
            "    return model.P_GCA * (model.X_GCA_C1 + model.X_GCA_C2) + \\\n",
            "           model.P_GCB * (model.X_GCB_C1 + model.X_GCB_C2) + \\\n",
            "           model.P_GCC * (model.X_GCC_C1 + model.X_GCC_C2)\n",
            "\n",
            "model.OBJ = Objective(rule=obj_rule, sense=maximize)\n",
            "\n",
            "# Define constraints\n",
            "def component_availability_c1(model):\n",
            "    return model.X_GCA_C1 + model.X_GCB_C1 + model.X_GCC_C1 <= model.C1\n",
            "\n",
            "def component_availability_c2(model):\n",
            "    return model.X_GCA_C2 + model.X_GCB_C2 + model.X_GCC_C2 <= model.C2\n",
            "\n",
            "def minimum_demand_gca(model):\n",
            "    return model.X_GCA_C1 + model.X_GCA_C2 >= model.D_GCA\n",
            "\n",
            "def minimum_demand_gcb(model):\n",
            "    return model.X_GCB_C1 + model.X_GCB_C2 >= model.D_GCB\n",
            "\n",
            "def minimum_demand_gcc(model):\n",
            "    return model.X_GCC_C1 + model.X_GCC_C2 >= model.D_GCC\n",
            "\n",
            "def critical_element_gca(model):\n",
            "    return model.CE_C1 * model.X_GCA_C1 + model.CE_C2 * model.X_GCA_C2 >= model.CE_GCA_min * (model.X_GCA_C1 + model.X_GCA_C2)\n",
            "\n",
            "def critical_element_gcb(model):\n",
            "    return model.CE_C1 * model.X_GCB_C1 + model.CE_C2 * model.X_GCB_C2 <= model.CE_GCB_max * (model.X_GCB_C1 + model.X_GCB_C2)\n",
            "\n",
            "def ratio_c1_c2_gcc(model):\n",
            "    return model.X_GCC_C1 >= model.R_GCC_min * model.X_GCC_C2\n",
            "\n",
            "model.C1_Availability = Constraint(rule=component_availability_c1)\n",
            "model.C2_Availability = Constraint(rule=component_availability_c2)\n",
            "model.GCA_MinDemand = Constraint(rule=minimum_demand_gca)\n",
            "model.GCB_MinDemand = Constraint(rule=minimum_demand_gcb)\n",
            "model.GCC_MinDemand = Constraint(rule=minimum_demand_gcc)\n",
            "model.GCA_CriticalElement = Constraint(rule=critical_element_gca)\n",
            "model.GCB_CriticalElement = Constraint(rule=critical_element_gcb)\n",
            "model.GCC_RatioC1C2 = Constraint(rule=ratio_c1_c2_gcc)\n",
            "\n",
            "# Solve the optimization model\n",
            "solver = SolverFactory('glpk')\n",
            "results = solver.solve(model)\n",
            "\n",
            "# Print the optimal solution\n",
            "print(\"Optimal Solution:\")\n",
            "print(\"X_GCA_C1 =\", model.X_GCA_C1.value)\n",
            "print(\"X_GCA_C2 =\", model.X_GCA_C2.value)\n",
            "print(\"X_GCB_C1 =\", model.X_GCB_C1.value)\n",
            "print(\"X_GCB_C2 =\", model.X_GCB_C2.value)\n",
            "print(\"X_GCC_C1 =\", model.X_GCC_C1.value)\n",
            "print(\"X_GCC_C2 =\", model.X_GCC_C2.value)\n",
            "print(\"Total Profit =\", model.OBJ())\n",
            "```\n",
            "\n",
            "In this code, we first define the parameters using the given sample data. We then define the decision variables using `Var` from Pyomo. The objective function is defined using `Objective`, and the constraints are defined using `Constraint`. Finally, we solve the optimization model using the GLPK solver and print the optimal solution.\n",
            "\n",
            "Note: Make sure you have Pyomo and a solver (e.g., GLPK) installed to run this code.\n"
          ]
        }
      ]
    },
    {
      "cell_type": "markdown",
      "source": [
        "# 4. Input Problem Data and Test Model Code"
      ],
      "metadata": {
        "id": "Pc0QqJuf8up_"
      }
    },
    {
      "cell_type": "code",
      "source": [
        "# Installing pyomo nd solver\n",
        "!pip install -q pyomo\n",
        "!apt-get install -y -qq glpk-utils\n",
        "!pip install glpk"
      ],
      "metadata": {
        "colab": {
          "base_uri": "https://localhost:8080/"
        },
        "id": "3BtROuLu9O-p",
        "outputId": "a9d1a05a-5d04-4fec-a294-274112e80a81",
        "collapsed": true
      },
      "execution_count": 10,
      "outputs": [
        {
          "output_type": "stream",
          "name": "stdout",
          "text": [
            "\u001b[2K     \u001b[90m━━━━━━━━━━━━━━━━━━━━━━━━━━━━━━━━━━━━━━━━\u001b[0m \u001b[32m12.8/12.8 MB\u001b[0m \u001b[31m25.0 MB/s\u001b[0m eta \u001b[36m0:00:00\u001b[0m\n",
            "\u001b[2K     \u001b[90m━━━━━━━━━━━━━━━━━━━━━━━━━━━━━━━━━━━━━━━━\u001b[0m \u001b[32m49.6/49.6 kB\u001b[0m \u001b[31m4.6 MB/s\u001b[0m eta \u001b[36m0:00:00\u001b[0m\n",
            "\u001b[?25hSelecting previously unselected package libsuitesparseconfig5:amd64.\n",
            "(Reading database ... 121918 files and directories currently installed.)\n",
            "Preparing to unpack .../libsuitesparseconfig5_1%3a5.10.1+dfsg-4build1_amd64.deb ...\n",
            "Unpacking libsuitesparseconfig5:amd64 (1:5.10.1+dfsg-4build1) ...\n",
            "Selecting previously unselected package libamd2:amd64.\n",
            "Preparing to unpack .../libamd2_1%3a5.10.1+dfsg-4build1_amd64.deb ...\n",
            "Unpacking libamd2:amd64 (1:5.10.1+dfsg-4build1) ...\n",
            "Selecting previously unselected package libcolamd2:amd64.\n",
            "Preparing to unpack .../libcolamd2_1%3a5.10.1+dfsg-4build1_amd64.deb ...\n",
            "Unpacking libcolamd2:amd64 (1:5.10.1+dfsg-4build1) ...\n",
            "Selecting previously unselected package libglpk40:amd64.\n",
            "Preparing to unpack .../libglpk40_5.0-1_amd64.deb ...\n",
            "Unpacking libglpk40:amd64 (5.0-1) ...\n",
            "Selecting previously unselected package glpk-utils.\n",
            "Preparing to unpack .../glpk-utils_5.0-1_amd64.deb ...\n",
            "Unpacking glpk-utils (5.0-1) ...\n",
            "Setting up libsuitesparseconfig5:amd64 (1:5.10.1+dfsg-4build1) ...\n",
            "Setting up libamd2:amd64 (1:5.10.1+dfsg-4build1) ...\n",
            "Setting up libcolamd2:amd64 (1:5.10.1+dfsg-4build1) ...\n",
            "Setting up libglpk40:amd64 (5.0-1) ...\n",
            "Setting up glpk-utils (5.0-1) ...\n",
            "Processing triggers for man-db (2.10.2-1) ...\n",
            "Processing triggers for libc-bin (2.35-0ubuntu3.4) ...\n",
            "/sbin/ldconfig.real: /usr/local/lib/libtbbbind_2_5.so.3 is not a symbolic link\n",
            "\n",
            "/sbin/ldconfig.real: /usr/local/lib/libtbbmalloc.so.2 is not a symbolic link\n",
            "\n",
            "/sbin/ldconfig.real: /usr/local/lib/libtbbbind.so.3 is not a symbolic link\n",
            "\n",
            "/sbin/ldconfig.real: /usr/local/lib/libtbbmalloc_proxy.so.2 is not a symbolic link\n",
            "\n",
            "/sbin/ldconfig.real: /usr/local/lib/libtbb.so.12 is not a symbolic link\n",
            "\n",
            "/sbin/ldconfig.real: /usr/local/lib/libtbbbind_2_0.so.3 is not a symbolic link\n",
            "\n",
            "Collecting glpk\n",
            "  Downloading glpk-0.4.7.tar.gz (161 kB)\n",
            "\u001b[2K     \u001b[90m━━━━━━━━━━━━━━━━━━━━━━━━━━━━━━━━━━━━━━━━\u001b[0m \u001b[32m161.2/161.2 kB\u001b[0m \u001b[31m3.4 MB/s\u001b[0m eta \u001b[36m0:00:00\u001b[0m\n",
            "\u001b[?25h  Installing build dependencies ... \u001b[?25l\u001b[?25hdone\n",
            "  Getting requirements to build wheel ... \u001b[?25l\u001b[?25hdone\n",
            "  Preparing metadata (pyproject.toml) ... \u001b[?25l\u001b[?25hdone\n",
            "Building wheels for collected packages: glpk\n",
            "  \u001b[1;31merror\u001b[0m: \u001b[1msubprocess-exited-with-error\u001b[0m\n",
            "  \n",
            "  \u001b[31m×\u001b[0m \u001b[32mBuilding wheel for glpk \u001b[0m\u001b[1;32m(\u001b[0m\u001b[32mpyproject.toml\u001b[0m\u001b[1;32m)\u001b[0m did not run successfully.\n",
            "  \u001b[31m│\u001b[0m exit code: \u001b[1;36m1\u001b[0m\n",
            "  \u001b[31m╰─>\u001b[0m See above for output.\n",
            "  \n",
            "  \u001b[1;35mnote\u001b[0m: This error originates from a subprocess, and is likely not a problem with pip.\n",
            "  Building wheel for glpk (pyproject.toml) ... \u001b[?25l\u001b[?25herror\n",
            "\u001b[31m  ERROR: Failed building wheel for glpk\u001b[0m\u001b[31m\n",
            "\u001b[0mFailed to build glpk\n",
            "\u001b[31mERROR: Could not build wheels for glpk, which is required to install pyproject.toml-based projects\u001b[0m\u001b[31m\n",
            "\u001b[0m"
          ]
        }
      ]
    },
    {
      "cell_type": "code",
      "source": [
        "from pyomo.environ import *\n",
        "\n",
        "# Create a Pyomo model\n",
        "model = ConcreteModel()\n",
        "\n",
        "# Define parameters\n",
        "model.C1 = 10000\n",
        "model.C2 = 15000\n",
        "model.D_GCA = 6000\n",
        "model.D_GCB = 7000\n",
        "model.D_GCC = 9000\n",
        "model.CE_C1 = 0.4\n",
        "model.CE_C2 = 0.2\n",
        "model.CE_GCA_min = 0.3\n",
        "model.CE_GCB_max = 0.3\n",
        "model.R_GCC_min = 0.3\n",
        "model.P_GCA = 120\n",
        "model.P_GCB = 135\n",
        "model.P_GCC = 155\n",
        "\n",
        "# Define decision variables\n",
        "model.X_GCA_C1 = Var(domain=NonNegativeReals)\n",
        "model.X_GCA_C2 = Var(domain=NonNegativeReals)\n",
        "model.X_GCB_C1 = Var(domain=NonNegativeReals)\n",
        "model.X_GCB_C2 = Var(domain=NonNegativeReals)\n",
        "model.X_GCC_C1 = Var(domain=NonNegativeReals)\n",
        "model.X_GCC_C2 = Var(domain=NonNegativeReals)\n",
        "\n",
        "# Define objective function\n",
        "def obj_rule(model):\n",
        "    return model.P_GCA * (model.X_GCA_C1 + model.X_GCA_C2) + \\\n",
        "           model.P_GCB * (model.X_GCB_C1 + model.X_GCB_C2) + \\\n",
        "           model.P_GCC * (model.X_GCC_C1 + model.X_GCC_C2)\n",
        "\n",
        "model.OBJ = Objective(rule=obj_rule, sense=maximize)\n",
        "\n",
        "# Define constraints\n",
        "def component_availability_c1(model):\n",
        "    return model.X_GCA_C1 + model.X_GCB_C1 + model.X_GCC_C1 <= model.C1\n",
        "\n",
        "def component_availability_c2(model):\n",
        "    return model.X_GCA_C2 + model.X_GCB_C2 + model.X_GCC_C2 <= model.C2\n",
        "\n",
        "def minimum_demand_gca(model):\n",
        "    return model.X_GCA_C1 + model.X_GCA_C2 >= model.D_GCA\n",
        "\n",
        "def minimum_demand_gcb(model):\n",
        "    return model.X_GCB_C1 + model.X_GCB_C2 >= model.D_GCB\n",
        "\n",
        "def minimum_demand_gcc(model):\n",
        "    return model.X_GCC_C1 + model.X_GCC_C2 >= model.D_GCC\n",
        "\n",
        "def critical_element_gca(model):\n",
        "    return model.CE_C1 * model.X_GCA_C1 + model.CE_C2 * model.X_GCA_C2 >= model.CE_GCA_min * (model.X_GCA_C1 + model.X_GCA_C2)\n",
        "\n",
        "def critical_element_gcb(model):\n",
        "    return model.CE_C1 * model.X_GCB_C1 + model.CE_C2 * model.X_GCB_C2 <= model.CE_GCB_max * (model.X_GCB_C1 + model.X_GCB_C2)\n",
        "\n",
        "def ratio_c1_c2_gcc(model):\n",
        "    return model.X_GCC_C1 >= model.R_GCC_min * model.X_GCC_C2\n",
        "\n",
        "model.C1_Availability = Constraint(rule=component_availability_c1)\n",
        "model.C2_Availability = Constraint(rule=component_availability_c2)\n",
        "model.GCA_MinDemand = Constraint(rule=minimum_demand_gca)\n",
        "model.GCB_MinDemand = Constraint(rule=minimum_demand_gcb)\n",
        "model.GCC_MinDemand = Constraint(rule=minimum_demand_gcc)\n",
        "model.GCA_CriticalElement = Constraint(rule=critical_element_gca)\n",
        "model.GCB_CriticalElement = Constraint(rule=critical_element_gcb)\n",
        "model.GCC_RatioC1C2 = Constraint(rule=ratio_c1_c2_gcc)\n",
        "\n",
        "# Solve the optimization model\n",
        "solver = SolverFactory('glpk')\n",
        "results = solver.solve(model)\n",
        "\n",
        "# Print the optimal solution\n",
        "print(\"Optimal Solution:\")\n",
        "print(\"X_GCA_C1 =\", model.X_GCA_C1.value)\n",
        "print(\"X_GCA_C2 =\", model.X_GCA_C2.value)\n",
        "print(\"X_GCB_C1 =\", model.X_GCB_C1.value)\n",
        "print(\"X_GCB_C2 =\", model.X_GCB_C2.value)\n",
        "print(\"X_GCC_C1 =\", model.X_GCC_C1.value)\n",
        "print(\"X_GCC_C2 =\", model.X_GCC_C2.value)\n",
        "print(\"Total Profit =\", model.OBJ())"
      ],
      "metadata": {
        "colab": {
          "base_uri": "https://localhost:8080/"
        },
        "id": "8FpHcuWU8rQ2",
        "outputId": "ff35f2c7-1573-4e08-f8f2-00d179f7bfe0"
      },
      "execution_count": 11,
      "outputs": [
        {
          "output_type": "stream",
          "name": "stdout",
          "text": [
            "Optimal Solution:\n",
            "X_GCA_C1 = 3730.76923076923\n",
            "X_GCA_C2 = 2269.23076923077\n",
            "X_GCB_C1 = 3500.0\n",
            "X_GCB_C2 = 3500.0\n",
            "X_GCC_C1 = 2769.23076923077\n",
            "X_GCC_C2 = 9230.76923076923\n",
            "Total Profit = 3525000.0\n"
          ]
        }
      ]
    },
    {
      "cell_type": "markdown",
      "source": [
        "# 5. Correct The Model Code to Test Mathematical Model (if applicable)"
      ],
      "metadata": {
        "id": "KHTyoLQTWZVy"
      }
    },
    {
      "cell_type": "code",
      "source": [],
      "metadata": {
        "id": "A-Kq05sreCew"
      },
      "execution_count": 11,
      "outputs": []
    },
    {
      "cell_type": "code",
      "source": [],
      "metadata": {
        "id": "REJzqhR6WYvM"
      },
      "execution_count": 11,
      "outputs": []
    }
  ]
}