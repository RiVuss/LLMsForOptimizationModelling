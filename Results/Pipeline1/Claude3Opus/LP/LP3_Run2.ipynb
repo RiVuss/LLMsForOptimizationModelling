{
  "nbformat": 4,
  "nbformat_minor": 0,
  "metadata": {
    "colab": {
      "provenance": []
    },
    "kernelspec": {
      "name": "python3",
      "display_name": "Python 3"
    },
    "language_info": {
      "name": "python"
    }
  },
  "cells": [
    {
      "cell_type": "markdown",
      "source": [
        "# 0. Imports and Setting up Anthropic API Client"
      ],
      "metadata": {
        "id": "y5fw0lkBwBbo"
      }
    },
    {
      "cell_type": "code",
      "source": [
        "from google.colab import drive\n",
        "\n",
        "drive.mount('/content/drive')"
      ],
      "metadata": {
        "colab": {
          "base_uri": "https://localhost:8080/"
        },
        "id": "e7tWOLo0yMoH",
        "outputId": "3eb8670f-47de-4eff-83c3-349a383ec56d"
      },
      "execution_count": 1,
      "outputs": [
        {
          "output_type": "stream",
          "name": "stdout",
          "text": [
            "Mounted at /content/drive\n"
          ]
        }
      ]
    },
    {
      "cell_type": "code",
      "source": [
        "!pip install python-dotenv\n",
        "\n",
        "import os\n",
        "import dotenv\n",
        "\n",
        "dotenv.load_dotenv('/content/drive/MyDrive/.env')"
      ],
      "metadata": {
        "colab": {
          "base_uri": "https://localhost:8080/"
        },
        "id": "utcEK8lZ1Z1R",
        "outputId": "ad1f40f6-1ee4-422a-bbf6-7b07bd2346d1"
      },
      "execution_count": 2,
      "outputs": [
        {
          "output_type": "stream",
          "name": "stdout",
          "text": [
            "Collecting python-dotenv\n",
            "  Downloading python_dotenv-1.0.1-py3-none-any.whl (19 kB)\n",
            "Installing collected packages: python-dotenv\n",
            "Successfully installed python-dotenv-1.0.1\n"
          ]
        },
        {
          "output_type": "execute_result",
          "data": {
            "text/plain": [
              "True"
            ]
          },
          "metadata": {},
          "execution_count": 2
        }
      ]
    },
    {
      "cell_type": "code",
      "source": [
        "# Load Prompts and Problem Description\n",
        "prompt1_path = '/content/drive/MyDrive/Thesis/Prompts/Prompt1_MathematicalModel.txt'\n",
        "prompt2_path = '/content/drive/MyDrive/Thesis/Prompts/Prompt2_PyomoCode.txt'\n",
        "problem_desc_path = '/content/drive/MyDrive/Thesis/ProblemDescriptions/LP/LP3.txt'\n",
        "\n",
        "prompt1_file = open(prompt1_path, \"r\")\n",
        "prompt2_file = open(prompt2_path, \"r\")\n",
        "problem_desc_file = open(problem_desc_path, \"r\")\n",
        "\n",
        "prompt1 = prompt1_file.read()\n",
        "print(\"Prompt 1:\\n\", prompt1)\n",
        "\n",
        "prompt2 = prompt2_file.read()\n",
        "print(\"Prompt 2:\\n\", prompt2)\n",
        "\n",
        "problem_desc = problem_desc_file.read()\n",
        "print(\"Problem Description:\\n\", problem_desc)"
      ],
      "metadata": {
        "colab": {
          "base_uri": "https://localhost:8080/"
        },
        "id": "9KlkjwMUS4xp",
        "outputId": "38f0ad13-2147-412f-c152-3b836d5cc413"
      },
      "execution_count": 3,
      "outputs": [
        {
          "output_type": "stream",
          "name": "stdout",
          "text": [
            "Prompt 1:\n",
            " Please write a mathematical optimization model for this problem. Include parameters, decision variables, the objective function and the constraints in your answer.\n",
            "Prompt 2:\n",
            " Please write a python pyomo code for this optimization problem.\n",
            "Use sample data where needed.\n",
            "Indicate where you use sample data.\n",
            "Problem Description:\n",
            " The PRODA, S.A. industrial products firm has to face the problem of scheduling\n",
            "the weekly production of its three products (P1, P2 and P3). These products are\n",
            "sold to large industrial firms and PRODA, S.A. wishes to supply its products in\n",
            "quantities that are more profitable for it.\n",
            "\n",
            "Each product entails three operations contributing to the costs: smelting; mechanisation; assembly and\n",
            "packaging. The smelting operations for products P1 and P2 could be subcontracted, but the smelting operation for product P3 requires special equipment, thus\n",
            "preventing the use of subcontracts. PRODA also want to know, how much they should subcontract.\n",
            "\n",
            "For product P1 the direct unit costs of all possible operations are:\n",
            "- smelting at PRODA: 0.30$\n",
            "- subcontracted smelting: 0.50$\n",
            "- mechanisation: 0.20$\n",
            "- Assembly and packaging: 0.3$\n",
            "The unit sales price is 1.50$.\n",
            "\n",
            "For product P2 the direct unit costs of all possible operations are:\n",
            "- smelting at PRODA: 0.50$\n",
            "- subcontracted smelting: 0.60$\n",
            "- mechanisation: 0.10$\n",
            "- Assembly and packaging: 0.20$\n",
            "The unit sales price is 1.80$.\n",
            "\n",
            "For product P3 the direct unit costs of all possible operations are:\n",
            "- smelting at PRODA: 0.40$\n",
            "- mechanisation: 0.27$\n",
            "- Assembly and packaging: 0.20$\n",
            "The unit sales price is 1.97$.\n",
            "\n",
            "Each unit of product P1 requires 6 min of smelting time (if performed at PRODA, S.A.), 6 min of mechanisation time and 3 min of assembly and packaging time, respectively. For product P2, the times are 10, 3 and 2 min, respectively. One unit of product P3 needs 8 min of smelting time, 8 min of mechanisation and 2 min for assembly and packaging. PRODA, S.A. has weekly capacities of 8,000 min of smelting time, 12,000 min of mechanisation time and 10,000 min of assembly and packaging time.\n",
            "The objective is to maximize weekly profits.\n"
          ]
        }
      ]
    },
    {
      "cell_type": "code",
      "source": [
        "!pip install anthropic"
      ],
      "metadata": {
        "colab": {
          "base_uri": "https://localhost:8080/"
        },
        "id": "iWlNsTIvxCcR",
        "outputId": "fc3a2b55-8bba-4307-dc0e-9467064b5cad",
        "collapsed": true
      },
      "execution_count": 4,
      "outputs": [
        {
          "output_type": "stream",
          "name": "stdout",
          "text": [
            "Collecting anthropic\n",
            "  Downloading anthropic-0.25.9-py3-none-any.whl (871 kB)\n",
            "\u001b[2K     \u001b[90m━━━━━━━━━━━━━━━━━━━━━━━━━━━━━━━━━━━━━━━━\u001b[0m \u001b[32m871.1/871.1 kB\u001b[0m \u001b[31m7.0 MB/s\u001b[0m eta \u001b[36m0:00:00\u001b[0m\n",
            "\u001b[?25hRequirement already satisfied: anyio<5,>=3.5.0 in /usr/local/lib/python3.10/dist-packages (from anthropic) (3.7.1)\n",
            "Requirement already satisfied: distro<2,>=1.7.0 in /usr/lib/python3/dist-packages (from anthropic) (1.7.0)\n",
            "Collecting httpx<1,>=0.23.0 (from anthropic)\n",
            "  Downloading httpx-0.27.0-py3-none-any.whl (75 kB)\n",
            "\u001b[2K     \u001b[90m━━━━━━━━━━━━━━━━━━━━━━━━━━━━━━━━━━━━━━━━\u001b[0m \u001b[32m75.6/75.6 kB\u001b[0m \u001b[31m7.2 MB/s\u001b[0m eta \u001b[36m0:00:00\u001b[0m\n",
            "\u001b[?25hRequirement already satisfied: pydantic<3,>=1.9.0 in /usr/local/lib/python3.10/dist-packages (from anthropic) (2.7.1)\n",
            "Requirement already satisfied: sniffio in /usr/local/lib/python3.10/dist-packages (from anthropic) (1.3.1)\n",
            "Requirement already satisfied: tokenizers>=0.13.0 in /usr/local/lib/python3.10/dist-packages (from anthropic) (0.19.1)\n",
            "Requirement already satisfied: typing-extensions<5,>=4.7 in /usr/local/lib/python3.10/dist-packages (from anthropic) (4.11.0)\n",
            "Requirement already satisfied: idna>=2.8 in /usr/local/lib/python3.10/dist-packages (from anyio<5,>=3.5.0->anthropic) (3.7)\n",
            "Requirement already satisfied: exceptiongroup in /usr/local/lib/python3.10/dist-packages (from anyio<5,>=3.5.0->anthropic) (1.2.1)\n",
            "Requirement already satisfied: certifi in /usr/local/lib/python3.10/dist-packages (from httpx<1,>=0.23.0->anthropic) (2024.2.2)\n",
            "Collecting httpcore==1.* (from httpx<1,>=0.23.0->anthropic)\n",
            "  Downloading httpcore-1.0.5-py3-none-any.whl (77 kB)\n",
            "\u001b[2K     \u001b[90m━━━━━━━━━━━━━━━━━━━━━━━━━━━━━━━━━━━━━━━━\u001b[0m \u001b[32m77.9/77.9 kB\u001b[0m \u001b[31m11.0 MB/s\u001b[0m eta \u001b[36m0:00:00\u001b[0m\n",
            "\u001b[?25hCollecting h11<0.15,>=0.13 (from httpcore==1.*->httpx<1,>=0.23.0->anthropic)\n",
            "  Downloading h11-0.14.0-py3-none-any.whl (58 kB)\n",
            "\u001b[2K     \u001b[90m━━━━━━━━━━━━━━━━━━━━━━━━━━━━━━━━━━━━━━━━\u001b[0m \u001b[32m58.3/58.3 kB\u001b[0m \u001b[31m8.3 MB/s\u001b[0m eta \u001b[36m0:00:00\u001b[0m\n",
            "\u001b[?25hRequirement already satisfied: annotated-types>=0.4.0 in /usr/local/lib/python3.10/dist-packages (from pydantic<3,>=1.9.0->anthropic) (0.6.0)\n",
            "Requirement already satisfied: pydantic-core==2.18.2 in /usr/local/lib/python3.10/dist-packages (from pydantic<3,>=1.9.0->anthropic) (2.18.2)\n",
            "Requirement already satisfied: huggingface-hub<1.0,>=0.16.4 in /usr/local/lib/python3.10/dist-packages (from tokenizers>=0.13.0->anthropic) (0.20.3)\n",
            "Requirement already satisfied: filelock in /usr/local/lib/python3.10/dist-packages (from huggingface-hub<1.0,>=0.16.4->tokenizers>=0.13.0->anthropic) (3.14.0)\n",
            "Requirement already satisfied: fsspec>=2023.5.0 in /usr/local/lib/python3.10/dist-packages (from huggingface-hub<1.0,>=0.16.4->tokenizers>=0.13.0->anthropic) (2023.6.0)\n",
            "Requirement already satisfied: requests in /usr/local/lib/python3.10/dist-packages (from huggingface-hub<1.0,>=0.16.4->tokenizers>=0.13.0->anthropic) (2.31.0)\n",
            "Requirement already satisfied: tqdm>=4.42.1 in /usr/local/lib/python3.10/dist-packages (from huggingface-hub<1.0,>=0.16.4->tokenizers>=0.13.0->anthropic) (4.66.4)\n",
            "Requirement already satisfied: pyyaml>=5.1 in /usr/local/lib/python3.10/dist-packages (from huggingface-hub<1.0,>=0.16.4->tokenizers>=0.13.0->anthropic) (6.0.1)\n",
            "Requirement already satisfied: packaging>=20.9 in /usr/local/lib/python3.10/dist-packages (from huggingface-hub<1.0,>=0.16.4->tokenizers>=0.13.0->anthropic) (24.0)\n",
            "Requirement already satisfied: charset-normalizer<4,>=2 in /usr/local/lib/python3.10/dist-packages (from requests->huggingface-hub<1.0,>=0.16.4->tokenizers>=0.13.0->anthropic) (3.3.2)\n",
            "Requirement already satisfied: urllib3<3,>=1.21.1 in /usr/local/lib/python3.10/dist-packages (from requests->huggingface-hub<1.0,>=0.16.4->tokenizers>=0.13.0->anthropic) (2.0.7)\n",
            "Installing collected packages: h11, httpcore, httpx, anthropic\n",
            "Successfully installed anthropic-0.25.9 h11-0.14.0 httpcore-1.0.5 httpx-0.27.0\n"
          ]
        }
      ]
    },
    {
      "cell_type": "code",
      "execution_count": 5,
      "metadata": {
        "id": "7Qjk2D63v1Bl"
      },
      "outputs": [],
      "source": [
        "# Importing Anthropic & Setting Headers\n",
        "import anthropic\n",
        "\n",
        "client = anthropic.Anthropic(\n",
        "    # defaults to os.environ.get(\"ANTHROPIC_API_KEY\")\n",
        "    api_key=os.environ.get(\"ANTHROPIC_API_KEY\"),\n",
        ")"
      ]
    },
    {
      "cell_type": "markdown",
      "source": [
        "# 1. Prompt 1: Create Mathematical Model"
      ],
      "metadata": {
        "id": "kT7yKbJs18XR"
      }
    },
    {
      "cell_type": "code",
      "source": [
        "message = client.messages.create(\n",
        "    model=\"claude-3-opus-20240229\",\n",
        "    system=prompt1,\n",
        "    max_tokens=4096,\n",
        "    messages=[\n",
        "        {\"role\": \"user\", \"content\": problem_desc}\n",
        "    ]\n",
        ")\n",
        "\n",
        "response_p1 = message.content[0].text"
      ],
      "metadata": {
        "id": "R_6X0axq16D4"
      },
      "execution_count": 6,
      "outputs": []
    },
    {
      "cell_type": "code",
      "source": [
        "# Print response\n",
        "print(response_p1)"
      ],
      "metadata": {
        "colab": {
          "base_uri": "https://localhost:8080/"
        },
        "id": "Ra9Ox_PI38jg",
        "outputId": "0497c116-a64a-4af9-9c86-4e17a0c723ab"
      },
      "execution_count": 7,
      "outputs": [
        {
          "output_type": "stream",
          "name": "stdout",
          "text": [
            "To solve the PRODA, S.A. production scheduling problem, we can formulate a linear programming model. Let's define the decision variables, parameters, objective function, and constraints.\n",
            "\n",
            "Decision Variables:\n",
            "- Let x1, x2, and x3 be the number of units produced for products P1, P2, and P3, respectively.\n",
            "- Let s1 and s2 be the number of units subcontracted for smelting operation for products P1 and P2, respectively.\n",
            "\n",
            "Parameters:\n",
            "- Unit costs for smelting, mechanisation, and assembly and packaging for each product.\n",
            "- Unit sales prices for each product.\n",
            "- Time requirements for each operation per unit of product.\n",
            "- Weekly capacities for each operation.\n",
            "\n",
            "Objective Function:\n",
            "Maximize weekly profit = (Revenue from sales) - (Production costs) - (Subcontracting costs)\n",
            "\n",
            "Max Z = 1.50x1 + 1.80x2 + 1.97x3 - (0.30(x1-s1) + 0.20x1 + 0.30x1) - (0.50(x2-s2) + 0.10x2 + 0.20x2) - (0.40x3 + 0.27x3 + 0.20x3) - 0.50s1 - 0.60s2\n",
            "\n",
            "Constraints:\n",
            "1. Smelting capacity: 6(x1-s1) + 10(x2-s2) + 8x3 ≤ 8000\n",
            "2. Mechanisation capacity: 6x1 + 3x2 + 8x3 ≤ 12000\n",
            "3. Assembly and packaging capacity: 3x1 + 2x2 + 2x3 ≤ 10000\n",
            "4. Non-negativity constraints: x1, x2, x3, s1, s2 ≥ 0\n",
            "5. Subcontracting constraints: s1 ≤ x1 and s2 ≤ x2 (Subcontracted units cannot exceed the total units produced for each product)\n",
            "\n",
            "The objective function maximizes the weekly profit by considering the revenue from sales and subtracting the production costs (smelting, mechanisation, assembly and packaging) and subcontracting costs for products P1 and P2.\n",
            "\n",
            "The constraints ensure that the weekly capacities for each operation are not exceeded, the decision variables are non-negative, and the subcontracted units do not exceed the total units produced for each product.\n",
            "\n",
            "By solving this linear programming model, PRODA, S.A. can determine the optimal production quantities for each product (x1, x2, x3) and the number of units to subcontract for smelting operations (s1, s2) to maximize their weekly profit.\n"
          ]
        }
      ]
    },
    {
      "cell_type": "markdown",
      "source": [
        "# 2. Prompt 2: Write Code based on Mathematical Model"
      ],
      "metadata": {
        "id": "WPZ6lgBO729j"
      }
    },
    {
      "cell_type": "code",
      "source": [
        "message2 = client.messages.create(\n",
        "    model=\"claude-3-opus-20240229\",\n",
        "    system=prompt2,\n",
        "    max_tokens=4069,\n",
        "    messages=[\n",
        "        {\"role\": \"user\", \"content\": response_p1}\n",
        "    ]\n",
        ")\n",
        "\n",
        "response_p2 = message2.content[0].text"
      ],
      "metadata": {
        "id": "1iUSgBda70FL"
      },
      "execution_count": 8,
      "outputs": []
    },
    {
      "cell_type": "code",
      "source": [
        "# Print response\n",
        "print(response_p2)"
      ],
      "metadata": {
        "colab": {
          "base_uri": "https://localhost:8080/"
        },
        "id": "o40mxc_H8eQ9",
        "outputId": "3cb19135-078a-4da1-d02a-303a22d39a8e"
      },
      "execution_count": 9,
      "outputs": [
        {
          "output_type": "stream",
          "name": "stdout",
          "text": [
            "Here's the Python Pyomo code for the PRODA, S.A. production scheduling problem:\n",
            "\n",
            "```python\n",
            "from pyomo.environ import *\n",
            "\n",
            "# Create the model\n",
            "model = ConcreteModel()\n",
            "\n",
            "# Define the decision variables\n",
            "model.x1 = Var(domain=NonNegativeReals)\n",
            "model.x2 = Var(domain=NonNegativeReals)\n",
            "model.x3 = Var(domain=NonNegativeReals)\n",
            "model.s1 = Var(domain=NonNegativeReals)\n",
            "model.s2 = Var(domain=NonNegativeReals)\n",
            "\n",
            "# Define the objective function\n",
            "model.profit = Objective(expr=1.50*model.x1 + 1.80*model.x2 + 1.97*model.x3 - (0.30*(model.x1-model.s1) + 0.20*model.x1 + 0.30*model.x1) - (0.50*(model.x2-model.s2) + 0.10*model.x2 + 0.20*model.x2) - (0.40*model.x3 + 0.27*model.x3 + 0.20*model.x3) - 0.50*model.s1 - 0.60*model.s2, sense=maximize)\n",
            "\n",
            "# Define the constraints\n",
            "model.smelting_capacity = Constraint(expr=6*(model.x1-model.s1) + 10*(model.x2-model.s2) + 8*model.x3 <= 8000)\n",
            "model.mechanisation_capacity = Constraint(expr=6*model.x1 + 3*model.x2 + 8*model.x3 <= 12000)\n",
            "model.assembly_capacity = Constraint(expr=3*model.x1 + 2*model.x2 + 2*model.x3 <= 10000)\n",
            "model.subcontracting_constraint1 = Constraint(expr=model.s1 <= model.x1)\n",
            "model.subcontracting_constraint2 = Constraint(expr=model.s2 <= model.x2)\n",
            "\n",
            "# Solve the model\n",
            "solver = SolverFactory('glpk')\n",
            "results = solver.solve(model)\n",
            "\n",
            "# Print the results\n",
            "print(\"Optimal solution:\")\n",
            "print(\"x1 =\", model.x1.value)\n",
            "print(\"x2 =\", model.x2.value)\n",
            "print(\"x3 =\", model.x3.value)\n",
            "print(\"s1 =\", model.s1.value)\n",
            "print(\"s2 =\", model.s2.value)\n",
            "print(\"Weekly profit =\", model.profit.expr())\n",
            "```\n",
            "\n",
            "In this code, we define the decision variables `x1`, `x2`, `x3`, `s1`, and `s2` using the `Var` function from Pyomo. We specify the domain of these variables as non-negative real numbers.\n",
            "\n",
            "The objective function is defined using the `Objective` function, where we maximize the weekly profit by calculating the revenue from sales and subtracting the production costs and subcontracting costs.\n",
            "\n",
            "The constraints are defined using the `Constraint` function. We have constraints for smelting capacity, mechanisation capacity, assembly and packaging capacity, and subcontracting constraints.\n",
            "\n",
            "To solve the model, we create an instance of the solver using `SolverFactory('glpk')`. You can replace `'glpk'` with the solver of your choice (e.g., `'cplex'`, `'gurobi'`).\n",
            "\n",
            "Finally, we print the optimal solution, including the values of the decision variables (`x1`, `x2`, `x3`, `s1`, `s2`) and the weekly profit.\n",
            "\n",
            "Note that this code uses sample data directly in the objective function and constraints. In a real-world scenario, you would typically read the data from an external source (e.g., a file or database) and assign the values to the appropriate parameters in the model.\n"
          ]
        }
      ]
    },
    {
      "cell_type": "markdown",
      "source": [
        "# 4. Input Problem Data and Test Model Code"
      ],
      "metadata": {
        "id": "Pc0QqJuf8up_"
      }
    },
    {
      "cell_type": "code",
      "source": [
        "# Installing pyomo nd solver\n",
        "!pip install -q pyomo\n",
        "!apt-get install -y -qq glpk-utils\n",
        "!pip install glpk"
      ],
      "metadata": {
        "colab": {
          "base_uri": "https://localhost:8080/"
        },
        "id": "3BtROuLu9O-p",
        "outputId": "bfa138ac-5029-49aa-cc7a-94dd73eb406f",
        "collapsed": true
      },
      "execution_count": 10,
      "outputs": [
        {
          "output_type": "stream",
          "name": "stdout",
          "text": [
            "\u001b[2K     \u001b[90m━━━━━━━━━━━━━━━━━━━━━━━━━━━━━━━━━━━━━━━━\u001b[0m \u001b[32m12.8/12.8 MB\u001b[0m \u001b[31m33.8 MB/s\u001b[0m eta \u001b[36m0:00:00\u001b[0m\n",
            "\u001b[2K     \u001b[90m━━━━━━━━━━━━━━━━━━━━━━━━━━━━━━━━━━━━━━━━\u001b[0m \u001b[32m49.6/49.6 kB\u001b[0m \u001b[31m4.6 MB/s\u001b[0m eta \u001b[36m0:00:00\u001b[0m\n",
            "\u001b[?25hSelecting previously unselected package libsuitesparseconfig5:amd64.\n",
            "(Reading database ... 121918 files and directories currently installed.)\n",
            "Preparing to unpack .../libsuitesparseconfig5_1%3a5.10.1+dfsg-4build1_amd64.deb ...\n",
            "Unpacking libsuitesparseconfig5:amd64 (1:5.10.1+dfsg-4build1) ...\n",
            "Selecting previously unselected package libamd2:amd64.\n",
            "Preparing to unpack .../libamd2_1%3a5.10.1+dfsg-4build1_amd64.deb ...\n",
            "Unpacking libamd2:amd64 (1:5.10.1+dfsg-4build1) ...\n",
            "Selecting previously unselected package libcolamd2:amd64.\n",
            "Preparing to unpack .../libcolamd2_1%3a5.10.1+dfsg-4build1_amd64.deb ...\n",
            "Unpacking libcolamd2:amd64 (1:5.10.1+dfsg-4build1) ...\n",
            "Selecting previously unselected package libglpk40:amd64.\n",
            "Preparing to unpack .../libglpk40_5.0-1_amd64.deb ...\n",
            "Unpacking libglpk40:amd64 (5.0-1) ...\n",
            "Selecting previously unselected package glpk-utils.\n",
            "Preparing to unpack .../glpk-utils_5.0-1_amd64.deb ...\n",
            "Unpacking glpk-utils (5.0-1) ...\n",
            "Setting up libsuitesparseconfig5:amd64 (1:5.10.1+dfsg-4build1) ...\n",
            "Setting up libamd2:amd64 (1:5.10.1+dfsg-4build1) ...\n",
            "Setting up libcolamd2:amd64 (1:5.10.1+dfsg-4build1) ...\n",
            "Setting up libglpk40:amd64 (5.0-1) ...\n",
            "Setting up glpk-utils (5.0-1) ...\n",
            "Processing triggers for man-db (2.10.2-1) ...\n",
            "Processing triggers for libc-bin (2.35-0ubuntu3.4) ...\n",
            "/sbin/ldconfig.real: /usr/local/lib/libtbbbind_2_5.so.3 is not a symbolic link\n",
            "\n",
            "/sbin/ldconfig.real: /usr/local/lib/libtbbmalloc.so.2 is not a symbolic link\n",
            "\n",
            "/sbin/ldconfig.real: /usr/local/lib/libtbbbind.so.3 is not a symbolic link\n",
            "\n",
            "/sbin/ldconfig.real: /usr/local/lib/libtbbmalloc_proxy.so.2 is not a symbolic link\n",
            "\n",
            "/sbin/ldconfig.real: /usr/local/lib/libtbb.so.12 is not a symbolic link\n",
            "\n",
            "/sbin/ldconfig.real: /usr/local/lib/libtbbbind_2_0.so.3 is not a symbolic link\n",
            "\n",
            "Collecting glpk\n",
            "  Downloading glpk-0.4.7.tar.gz (161 kB)\n",
            "\u001b[2K     \u001b[90m━━━━━━━━━━━━━━━━━━━━━━━━━━━━━━━━━━━━━━━━\u001b[0m \u001b[32m161.2/161.2 kB\u001b[0m \u001b[31m3.4 MB/s\u001b[0m eta \u001b[36m0:00:00\u001b[0m\n",
            "\u001b[?25h  Installing build dependencies ... \u001b[?25l\u001b[?25hdone\n",
            "  Getting requirements to build wheel ... \u001b[?25l\u001b[?25hdone\n",
            "  Preparing metadata (pyproject.toml) ... \u001b[?25l\u001b[?25hdone\n",
            "Building wheels for collected packages: glpk\n",
            "  \u001b[1;31merror\u001b[0m: \u001b[1msubprocess-exited-with-error\u001b[0m\n",
            "  \n",
            "  \u001b[31m×\u001b[0m \u001b[32mBuilding wheel for glpk \u001b[0m\u001b[1;32m(\u001b[0m\u001b[32mpyproject.toml\u001b[0m\u001b[1;32m)\u001b[0m did not run successfully.\n",
            "  \u001b[31m│\u001b[0m exit code: \u001b[1;36m1\u001b[0m\n",
            "  \u001b[31m╰─>\u001b[0m See above for output.\n",
            "  \n",
            "  \u001b[1;35mnote\u001b[0m: This error originates from a subprocess, and is likely not a problem with pip.\n",
            "  Building wheel for glpk (pyproject.toml) ... \u001b[?25l\u001b[?25herror\n",
            "\u001b[31m  ERROR: Failed building wheel for glpk\u001b[0m\u001b[31m\n",
            "\u001b[0mFailed to build glpk\n",
            "\u001b[31mERROR: Could not build wheels for glpk, which is required to install pyproject.toml-based projects\u001b[0m\u001b[31m\n",
            "\u001b[0m"
          ]
        }
      ]
    },
    {
      "cell_type": "code",
      "source": [
        "from pyomo.environ import *\n",
        "\n",
        "# Create the model\n",
        "model = ConcreteModel()\n",
        "\n",
        "# Define the decision variables\n",
        "model.x1 = Var(domain=NonNegativeReals)\n",
        "model.x2 = Var(domain=NonNegativeReals)\n",
        "model.x3 = Var(domain=NonNegativeReals)\n",
        "model.s1 = Var(domain=NonNegativeReals)\n",
        "model.s2 = Var(domain=NonNegativeReals)\n",
        "\n",
        "# Define the objective function\n",
        "model.profit = Objective(expr=1.50*model.x1 + 1.80*model.x2 + 1.97*model.x3 - (0.30*(model.x1-model.s1) + 0.20*model.x1 + 0.30*model.x1) - (0.50*(model.x2-model.s2) + 0.10*model.x2 + 0.20*model.x2) - (0.40*model.x3 + 0.27*model.x3 + 0.20*model.x3) - 0.50*model.s1 - 0.60*model.s2, sense=maximize)\n",
        "\n",
        "# Define the constraints\n",
        "model.smelting_capacity = Constraint(expr=6*(model.x1-model.s1) + 10*(model.x2-model.s2) + 8*model.x3 <= 8000)\n",
        "model.mechanisation_capacity = Constraint(expr=6*model.x1 + 3*model.x2 + 8*model.x3 <= 12000)\n",
        "model.assembly_capacity = Constraint(expr=3*model.x1 + 2*model.x2 + 2*model.x3 <= 10000)\n",
        "model.subcontracting_constraint1 = Constraint(expr=model.s1 <= model.x1)\n",
        "model.subcontracting_constraint2 = Constraint(expr=model.s2 <= model.x2)\n",
        "\n",
        "# Solve the model\n",
        "solver = SolverFactory('glpk')\n",
        "results = solver.solve(model)\n",
        "\n",
        "# Print the results\n",
        "print(\"Optimal solution:\")\n",
        "print(\"x1 =\", model.x1.value)\n",
        "print(\"x2 =\", model.x2.value)\n",
        "print(\"x3 =\", model.x3.value)\n",
        "print(\"s1 =\", model.s1.value)\n",
        "print(\"s2 =\", model.s2.value)\n",
        "print(\"Weekly profit =\", model.profit.expr())"
      ],
      "metadata": {
        "colab": {
          "base_uri": "https://localhost:8080/"
        },
        "id": "8FpHcuWU8rQ2",
        "outputId": "6d7ea7ca-ca5e-428c-fb44-d255b8705ae5"
      },
      "execution_count": 11,
      "outputs": [
        {
          "output_type": "stream",
          "name": "stdout",
          "text": [
            "Optimal solution:\n",
            "x1 = 0.0\n",
            "x2 = 4000.0\n",
            "x3 = 0.0\n",
            "s1 = 0.0\n",
            "s2 = 3200.0\n",
            "Weekly profit = 3680.0\n"
          ]
        }
      ]
    },
    {
      "cell_type": "markdown",
      "source": [
        "# 5. Correct The Model Code to Test Mathematical Model (if applicable)"
      ],
      "metadata": {
        "id": "KHTyoLQTWZVy"
      }
    },
    {
      "cell_type": "code",
      "source": [],
      "metadata": {
        "id": "A-Kq05sreCew"
      },
      "execution_count": null,
      "outputs": []
    },
    {
      "cell_type": "code",
      "source": [],
      "metadata": {
        "id": "REJzqhR6WYvM"
      },
      "execution_count": null,
      "outputs": []
    }
  ]
}