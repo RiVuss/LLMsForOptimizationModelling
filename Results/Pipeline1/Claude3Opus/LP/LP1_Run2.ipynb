{
  "nbformat": 4,
  "nbformat_minor": 0,
  "metadata": {
    "colab": {
      "provenance": []
    },
    "kernelspec": {
      "name": "python3",
      "display_name": "Python 3"
    },
    "language_info": {
      "name": "python"
    }
  },
  "cells": [
    {
      "cell_type": "markdown",
      "source": [
        "# 0. Imports and Setting up Anthropic API Client"
      ],
      "metadata": {
        "id": "y5fw0lkBwBbo"
      }
    },
    {
      "cell_type": "code",
      "source": [
        "from google.colab import drive\n",
        "\n",
        "drive.mount('/content/drive')"
      ],
      "metadata": {
        "colab": {
          "base_uri": "https://localhost:8080/"
        },
        "id": "e7tWOLo0yMoH",
        "outputId": "adbd41c5-502c-42d3-d512-8a7856cdcaae"
      },
      "execution_count": 1,
      "outputs": [
        {
          "output_type": "stream",
          "name": "stdout",
          "text": [
            "Mounted at /content/drive\n"
          ]
        }
      ]
    },
    {
      "cell_type": "code",
      "source": [
        "!pip install python-dotenv\n",
        "\n",
        "import os\n",
        "import dotenv\n",
        "\n",
        "dotenv.load_dotenv('/content/drive/MyDrive/.env')"
      ],
      "metadata": {
        "colab": {
          "base_uri": "https://localhost:8080/"
        },
        "id": "utcEK8lZ1Z1R",
        "outputId": "3ad03704-c580-462e-862c-954e221539de"
      },
      "execution_count": 2,
      "outputs": [
        {
          "output_type": "stream",
          "name": "stdout",
          "text": [
            "Collecting python-dotenv\n",
            "  Downloading python_dotenv-1.0.1-py3-none-any.whl (19 kB)\n",
            "Installing collected packages: python-dotenv\n",
            "Successfully installed python-dotenv-1.0.1\n"
          ]
        },
        {
          "output_type": "execute_result",
          "data": {
            "text/plain": [
              "True"
            ]
          },
          "metadata": {},
          "execution_count": 2
        }
      ]
    },
    {
      "cell_type": "code",
      "source": [
        "# Load Prompts and Problem Description\n",
        "prompt1_path = '/content/drive/MyDrive/Thesis/Prompts/Prompt1_MathematicalModel.txt'\n",
        "prompt2_path = '/content/drive/MyDrive/Thesis/Prompts/Prompt2_PyomoCode.txt'\n",
        "problem_desc_path = '/content/drive/MyDrive/Thesis/ProblemDescriptions/LP/LP1.txt'\n",
        "\n",
        "prompt1_file = open(prompt1_path, \"r\")\n",
        "prompt2_file = open(prompt2_path, \"r\")\n",
        "problem_desc_file = open(problem_desc_path, \"r\")\n",
        "\n",
        "prompt1 = prompt1_file.read()\n",
        "print(\"Prompt 1:\\n\", prompt1)\n",
        "\n",
        "prompt2 = prompt2_file.read()\n",
        "print(\"Prompt 2:\\n\", prompt2)\n",
        "\n",
        "problem_desc = problem_desc_file.read()\n",
        "print(\"Problem Description:\\n\", problem_desc)"
      ],
      "metadata": {
        "colab": {
          "base_uri": "https://localhost:8080/"
        },
        "id": "9KlkjwMUS4xp",
        "outputId": "a7a614c8-88b0-4982-9f67-71b776f79c9a"
      },
      "execution_count": 3,
      "outputs": [
        {
          "output_type": "stream",
          "name": "stdout",
          "text": [
            "Prompt 1:\n",
            " Please write a mathematical optimization model for this problem. Include parameters, decision variables, the objective function and the constraints in your answer.\n",
            "Prompt 2:\n",
            " Please write a python pyomo code for this optimization problem.\n",
            "Use sample data where needed.\n",
            "Indicate where you use sample data.\n",
            "Problem Description:\n",
            " A firm from Milan sells chemical products for professional cosmetics. It is planning the production of three products, GCA, GCB and GCC, for a given period of\n",
            "time by mixing two different components: C1 and C2. All the end products must\n",
            "contain at least one of the two components, and not necessarily both.\n",
            "\n",
            "For the next planning period, 10,000 l of C1 and 15,000 l of C2 are available.\n",
            "The production of GCA, GCB and GCC must be scheduled to at least cover the\n",
            "minimum demand level of 6,000, 7,000 and 9,000 l, respectively. It is assumed\n",
            "that when chemical components are mixed, there is no loss or gain in volume.\n",
            "\n",
            "Each chemical component, C1 and C2, has a proportional critical element, 0.4\n",
            "and 0.2, respectively. That is to say, each litre of C1 contains 0.4 l of the critical\n",
            "element. To obtain GCA, the mixture must proportionally contain at least a 0.3\n",
            "fraction of the critical element. Another requirement is that the quantity of the\n",
            "critical element is seen in GCB, an 0.3 fraction at the most.\n",
            "Furthermore, the minimum ratio of C1 with C2 in product GCC must be 0.3.\n",
            "\n",
            "The profit expected for the sale of each litre of GCA, GCB and GCC is $120, $135\n",
            "and $155, respectively.\n",
            "\n",
            "Optimise the production planning of this firm. \n"
          ]
        }
      ]
    },
    {
      "cell_type": "code",
      "source": [
        "!pip install anthropic"
      ],
      "metadata": {
        "colab": {
          "base_uri": "https://localhost:8080/"
        },
        "id": "iWlNsTIvxCcR",
        "outputId": "2a401618-070f-42b9-a9a1-2a29d7c25fec",
        "collapsed": true
      },
      "execution_count": 4,
      "outputs": [
        {
          "output_type": "stream",
          "name": "stdout",
          "text": [
            "Collecting anthropic\n",
            "  Downloading anthropic-0.25.9-py3-none-any.whl (871 kB)\n",
            "\u001b[2K     \u001b[90m━━━━━━━━━━━━━━━━━━━━━━━━━━━━━━━━━━━━━━━━\u001b[0m \u001b[32m871.1/871.1 kB\u001b[0m \u001b[31m7.1 MB/s\u001b[0m eta \u001b[36m0:00:00\u001b[0m\n",
            "\u001b[?25hRequirement already satisfied: anyio<5,>=3.5.0 in /usr/local/lib/python3.10/dist-packages (from anthropic) (3.7.1)\n",
            "Requirement already satisfied: distro<2,>=1.7.0 in /usr/lib/python3/dist-packages (from anthropic) (1.7.0)\n",
            "Collecting httpx<1,>=0.23.0 (from anthropic)\n",
            "  Downloading httpx-0.27.0-py3-none-any.whl (75 kB)\n",
            "\u001b[2K     \u001b[90m━━━━━━━━━━━━━━━━━━━━━━━━━━━━━━━━━━━━━━━━\u001b[0m \u001b[32m75.6/75.6 kB\u001b[0m \u001b[31m8.6 MB/s\u001b[0m eta \u001b[36m0:00:00\u001b[0m\n",
            "\u001b[?25hRequirement already satisfied: pydantic<3,>=1.9.0 in /usr/local/lib/python3.10/dist-packages (from anthropic) (2.7.1)\n",
            "Requirement already satisfied: sniffio in /usr/local/lib/python3.10/dist-packages (from anthropic) (1.3.1)\n",
            "Requirement already satisfied: tokenizers>=0.13.0 in /usr/local/lib/python3.10/dist-packages (from anthropic) (0.19.1)\n",
            "Requirement already satisfied: typing-extensions<5,>=4.7 in /usr/local/lib/python3.10/dist-packages (from anthropic) (4.11.0)\n",
            "Requirement already satisfied: idna>=2.8 in /usr/local/lib/python3.10/dist-packages (from anyio<5,>=3.5.0->anthropic) (3.7)\n",
            "Requirement already satisfied: exceptiongroup in /usr/local/lib/python3.10/dist-packages (from anyio<5,>=3.5.0->anthropic) (1.2.1)\n",
            "Requirement already satisfied: certifi in /usr/local/lib/python3.10/dist-packages (from httpx<1,>=0.23.0->anthropic) (2024.2.2)\n",
            "Collecting httpcore==1.* (from httpx<1,>=0.23.0->anthropic)\n",
            "  Downloading httpcore-1.0.5-py3-none-any.whl (77 kB)\n",
            "\u001b[2K     \u001b[90m━━━━━━━━━━━━━━━━━━━━━━━━━━━━━━━━━━━━━━━━\u001b[0m \u001b[32m77.9/77.9 kB\u001b[0m \u001b[31m9.1 MB/s\u001b[0m eta \u001b[36m0:00:00\u001b[0m\n",
            "\u001b[?25hCollecting h11<0.15,>=0.13 (from httpcore==1.*->httpx<1,>=0.23.0->anthropic)\n",
            "  Downloading h11-0.14.0-py3-none-any.whl (58 kB)\n",
            "\u001b[2K     \u001b[90m━━━━━━━━━━━━━━━━━━━━━━━━━━━━━━━━━━━━━━━━\u001b[0m \u001b[32m58.3/58.3 kB\u001b[0m \u001b[31m6.5 MB/s\u001b[0m eta \u001b[36m0:00:00\u001b[0m\n",
            "\u001b[?25hRequirement already satisfied: annotated-types>=0.4.0 in /usr/local/lib/python3.10/dist-packages (from pydantic<3,>=1.9.0->anthropic) (0.6.0)\n",
            "Requirement already satisfied: pydantic-core==2.18.2 in /usr/local/lib/python3.10/dist-packages (from pydantic<3,>=1.9.0->anthropic) (2.18.2)\n",
            "Requirement already satisfied: huggingface-hub<1.0,>=0.16.4 in /usr/local/lib/python3.10/dist-packages (from tokenizers>=0.13.0->anthropic) (0.20.3)\n",
            "Requirement already satisfied: filelock in /usr/local/lib/python3.10/dist-packages (from huggingface-hub<1.0,>=0.16.4->tokenizers>=0.13.0->anthropic) (3.14.0)\n",
            "Requirement already satisfied: fsspec>=2023.5.0 in /usr/local/lib/python3.10/dist-packages (from huggingface-hub<1.0,>=0.16.4->tokenizers>=0.13.0->anthropic) (2023.6.0)\n",
            "Requirement already satisfied: requests in /usr/local/lib/python3.10/dist-packages (from huggingface-hub<1.0,>=0.16.4->tokenizers>=0.13.0->anthropic) (2.31.0)\n",
            "Requirement already satisfied: tqdm>=4.42.1 in /usr/local/lib/python3.10/dist-packages (from huggingface-hub<1.0,>=0.16.4->tokenizers>=0.13.0->anthropic) (4.66.4)\n",
            "Requirement already satisfied: pyyaml>=5.1 in /usr/local/lib/python3.10/dist-packages (from huggingface-hub<1.0,>=0.16.4->tokenizers>=0.13.0->anthropic) (6.0.1)\n",
            "Requirement already satisfied: packaging>=20.9 in /usr/local/lib/python3.10/dist-packages (from huggingface-hub<1.0,>=0.16.4->tokenizers>=0.13.0->anthropic) (24.0)\n",
            "Requirement already satisfied: charset-normalizer<4,>=2 in /usr/local/lib/python3.10/dist-packages (from requests->huggingface-hub<1.0,>=0.16.4->tokenizers>=0.13.0->anthropic) (3.3.2)\n",
            "Requirement already satisfied: urllib3<3,>=1.21.1 in /usr/local/lib/python3.10/dist-packages (from requests->huggingface-hub<1.0,>=0.16.4->tokenizers>=0.13.0->anthropic) (2.0.7)\n",
            "Installing collected packages: h11, httpcore, httpx, anthropic\n",
            "Successfully installed anthropic-0.25.9 h11-0.14.0 httpcore-1.0.5 httpx-0.27.0\n"
          ]
        }
      ]
    },
    {
      "cell_type": "code",
      "execution_count": 5,
      "metadata": {
        "id": "7Qjk2D63v1Bl"
      },
      "outputs": [],
      "source": [
        "# Importing Anthropic & Setting Headers\n",
        "import anthropic\n",
        "\n",
        "client = anthropic.Anthropic(\n",
        "    # defaults to os.environ.get(\"ANTHROPIC_API_KEY\")\n",
        "    api_key=os.environ.get(\"ANTHROPIC_API_KEY\"),\n",
        ")"
      ]
    },
    {
      "cell_type": "markdown",
      "source": [
        "# 1. Prompt 1: Create Mathematical Model"
      ],
      "metadata": {
        "id": "kT7yKbJs18XR"
      }
    },
    {
      "cell_type": "code",
      "source": [
        "message = client.messages.create(\n",
        "    model=\"claude-3-opus-20240229\",\n",
        "    system=prompt1,\n",
        "    max_tokens=4096,\n",
        "    messages=[\n",
        "        {\"role\": \"user\", \"content\": problem_desc}\n",
        "    ]\n",
        ")\n",
        "\n",
        "response_p1 = message.content[0].text"
      ],
      "metadata": {
        "id": "R_6X0axq16D4"
      },
      "execution_count": 6,
      "outputs": []
    },
    {
      "cell_type": "code",
      "source": [
        "# Print response\n",
        "print(response_p1)"
      ],
      "metadata": {
        "colab": {
          "base_uri": "https://localhost:8080/"
        },
        "id": "Ra9Ox_PI38jg",
        "outputId": "65f36685-54cd-4270-a81d-6e1986e91678"
      },
      "execution_count": 7,
      "outputs": [
        {
          "output_type": "stream",
          "name": "stdout",
          "text": [
            "To optimize the production planning for the firm, we need to formulate a mathematical optimization model. Let's define the parameters, decision variables, objective function, and constraints.\n",
            "\n",
            "Parameters:\n",
            "- C1_avail = 10,000 (available quantity of component C1 in litres)\n",
            "- C2_avail = 15,000 (available quantity of component C2 in litres)\n",
            "- GCA_min = 6,000 (minimum demand for product GCA in litres)\n",
            "- GCB_min = 7,000 (minimum demand for product GCB in litres)\n",
            "- GCC_min = 9,000 (minimum demand for product GCC in litres)\n",
            "- C1_crit = 0.4 (critical element fraction in component C1)\n",
            "- C2_crit = 0.2 (critical element fraction in component C2)\n",
            "- GCA_crit_min = 0.3 (minimum critical element fraction in product GCA)\n",
            "- GCB_crit_max = 0.3 (maximum critical element fraction in product GCB)\n",
            "- GCC_ratio_min = 0.3 (minimum ratio of C1 to C2 in product GCC)\n",
            "- GCA_profit = 120 (profit per litre of product GCA)\n",
            "- GCB_profit = 135 (profit per litre of product GCB)\n",
            "- GCC_profit = 155 (profit per litre of product GCC)\n",
            "\n",
            "Decision Variables:\n",
            "- GCA_C1 (quantity of component C1 used in product GCA in litres)\n",
            "- GCA_C2 (quantity of component C2 used in product GCA in litres)\n",
            "- GCB_C1 (quantity of component C1 used in product GCB in litres)\n",
            "- GCB_C2 (quantity of component C2 used in product GCB in litres)\n",
            "- GCC_C1 (quantity of component C1 used in product GCC in litres)\n",
            "- GCC_C2 (quantity of component C2 used in product GCC in litres)\n",
            "\n",
            "Objective Function:\n",
            "Maximize Total Profit = GCA_profit * (GCA_C1 + GCA_C2) + GCB_profit * (GCB_C1 + GCB_C2) + GCC_profit * (GCC_C1 + GCC_C2)\n",
            "\n",
            "Constraints:\n",
            "1. Component Availability:\n",
            "   - GCA_C1 + GCB_C1 + GCC_C1 ≤ C1_avail\n",
            "   - GCA_C2 + GCB_C2 + GCC_C2 ≤ C2_avail\n",
            "\n",
            "2. Minimum Demand:\n",
            "   - GCA_C1 + GCA_C2 ≥ GCA_min\n",
            "   - GCB_C1 + GCB_C2 ≥ GCB_min\n",
            "   - GCC_C1 + GCC_C2 ≥ GCC_min\n",
            "\n",
            "3. Critical Element Requirements:\n",
            "   - (GCA_C1 * C1_crit + GCA_C2 * C2_crit) / (GCA_C1 + GCA_C2) ≥ GCA_crit_min\n",
            "   - (GCB_C1 * C1_crit + GCB_C2 * C2_crit) / (GCB_C1 + GCB_C2) ≤ GCB_crit_max\n",
            "\n",
            "4. Minimum Component Ratio in GCC:\n",
            "   - GCC_C1 / GCC_C2 ≥ GCC_ratio_min\n",
            "\n",
            "5. Non-negativity:\n",
            "   - GCA_C1, GCA_C2, GCB_C1, GCB_C2, GCC_C1, GCC_C2 ≥ 0\n",
            "\n",
            "The objective is to maximize the total profit by determining the optimal quantities of components C1 and C2 used in each product while satisfying the given constraints.\n"
          ]
        }
      ]
    },
    {
      "cell_type": "markdown",
      "source": [
        "# 2. Prompt 2: Write Code based on Mathematical Model"
      ],
      "metadata": {
        "id": "WPZ6lgBO729j"
      }
    },
    {
      "cell_type": "code",
      "source": [
        "message2 = client.messages.create(\n",
        "    model=\"claude-3-opus-20240229\",\n",
        "    system=prompt2,\n",
        "    max_tokens=4069,\n",
        "    messages=[\n",
        "        {\"role\": \"user\", \"content\": response_p1}\n",
        "    ]\n",
        ")\n",
        "\n",
        "response_p2 = message2.content[0].text"
      ],
      "metadata": {
        "id": "1iUSgBda70FL"
      },
      "execution_count": 8,
      "outputs": []
    },
    {
      "cell_type": "code",
      "source": [
        "# Print response\n",
        "print(response_p2)"
      ],
      "metadata": {
        "colab": {
          "base_uri": "https://localhost:8080/"
        },
        "id": "o40mxc_H8eQ9",
        "outputId": "0c9881f6-db42-4145-9ec5-f2486d330006"
      },
      "execution_count": 9,
      "outputs": [
        {
          "output_type": "stream",
          "name": "stdout",
          "text": [
            "Great! Now, let's implement this optimization problem using Python and Pyomo. Here's the code:\n",
            "\n",
            "```python\n",
            "from pyomo.environ import *\n",
            "\n",
            "# Create a Pyomo model\n",
            "model = ConcreteModel()\n",
            "\n",
            "# Define decision variables\n",
            "model.GCA_C1 = Var(within=NonNegativeReals)\n",
            "model.GCA_C2 = Var(within=NonNegativeReals)\n",
            "model.GCB_C1 = Var(within=NonNegativeReals)\n",
            "model.GCB_C2 = Var(within=NonNegativeReals)\n",
            "model.GCC_C1 = Var(within=NonNegativeReals)\n",
            "model.GCC_C2 = Var(within=NonNegativeReals)\n",
            "\n",
            "# Define parameters\n",
            "model.C1_avail = Param(initialize=10000)\n",
            "model.C2_avail = Param(initialize=15000)\n",
            "model.GCA_min = Param(initialize=6000)\n",
            "model.GCB_min = Param(initialize=7000)\n",
            "model.GCC_min = Param(initialize=9000)\n",
            "model.C1_crit = Param(initialize=0.4)\n",
            "model.C2_crit = Param(initialize=0.2)\n",
            "model.GCA_crit_min = Param(initialize=0.3)\n",
            "model.GCB_crit_max = Param(initialize=0.3)\n",
            "model.GCC_ratio_min = Param(initialize=0.3)\n",
            "model.GCA_profit = Param(initialize=120)\n",
            "model.GCB_profit = Param(initialize=135)\n",
            "model.GCC_profit = Param(initialize=155)\n",
            "\n",
            "# Define objective function\n",
            "def total_profit(model):\n",
            "    return (\n",
            "        model.GCA_profit * (model.GCA_C1 + model.GCA_C2) +\n",
            "        model.GCB_profit * (model.GCB_C1 + model.GCB_C2) +\n",
            "        model.GCC_profit * (model.GCC_C1 + model.GCC_C2)\n",
            "    )\n",
            "model.profit = Objective(rule=total_profit, sense=maximize)\n",
            "\n",
            "# Define constraints\n",
            "def component_availability_C1(model):\n",
            "    return model.GCA_C1 + model.GCB_C1 + model.GCC_C1 <= model.C1_avail\n",
            "model.comp_avail_C1 = Constraint(rule=component_availability_C1)\n",
            "\n",
            "def component_availability_C2(model):\n",
            "    return model.GCA_C2 + model.GCB_C2 + model.GCC_C2 <= model.C2_avail\n",
            "model.comp_avail_C2 = Constraint(rule=component_availability_C2)\n",
            "\n",
            "def minimum_demand_GCA(model):\n",
            "    return model.GCA_C1 + model.GCA_C2 >= model.GCA_min\n",
            "model.min_demand_GCA = Constraint(rule=minimum_demand_GCA)\n",
            "\n",
            "def minimum_demand_GCB(model):\n",
            "    return model.GCB_C1 + model.GCB_C2 >= model.GCB_min\n",
            "model.min_demand_GCB = Constraint(rule=minimum_demand_GCB)\n",
            "\n",
            "def minimum_demand_GCC(model):\n",
            "    return model.GCC_C1 + model.GCC_C2 >= model.GCC_min\n",
            "model.min_demand_GCC = Constraint(rule=minimum_demand_GCC)\n",
            "\n",
            "def critical_element_GCA(model):\n",
            "    return (model.GCA_C1 * model.C1_crit + model.GCA_C2 * model.C2_crit) / (model.GCA_C1 + model.GCA_C2) >= model.GCA_crit_min\n",
            "model.crit_elem_GCA = Constraint(rule=critical_element_GCA)\n",
            "\n",
            "def critical_element_GCB(model):\n",
            "    return (model.GCB_C1 * model.C1_crit + model.GCB_C2 * model.C2_crit) / (model.GCB_C1 + model.GCB_C2) <= model.GCB_crit_max\n",
            "model.crit_elem_GCB = Constraint(rule=critical_element_GCB)\n",
            "\n",
            "def minimum_ratio_GCC(model):\n",
            "    return model.GCC_C1 / model.GCC_C2 >= model.GCC_ratio_min\n",
            "model.min_ratio_GCC = Constraint(rule=minimum_ratio_GCC)\n",
            "\n",
            "# Solve the optimization problem\n",
            "solver = SolverFactory('glpk')\n",
            "results = solver.solve(model)\n",
            "\n",
            "# Print the results\n",
            "print(\"Optimal solution found!\")\n",
            "print(\"Objective value (Total Profit):\", model.profit())\n",
            "print(\"GCA_C1:\", model.GCA_C1())\n",
            "print(\"GCA_C2:\", model.GCA_C2())\n",
            "print(\"GCB_C1:\", model.GCB_C1())\n",
            "print(\"GCB_C2:\", model.GCB_C2())\n",
            "print(\"GCC_C1:\", model.GCC_C1())\n",
            "print(\"GCC_C2:\", model.GCC_C2())\n",
            "```\n",
            "\n",
            "This code follows the mathematical formulation you provided and implements it using Pyomo. The decision variables, parameters, objective function, and constraints are defined using Pyomo's modeling components.\n",
            "\n",
            "The sample data for the parameters is used directly in the code. You can modify these values as needed.\n",
            "\n",
            "To solve the optimization problem, we use the GLPK solver (GNU Linear Programming Kit). Make sure you have GLPK installed and accessible to Python.\n",
            "\n",
            "Finally, the code prints the optimal solution, including the objective value (total profit) and the values of the decision variables.\n",
            "\n",
            "Note: The code assumes that the optimization problem is feasible with the given sample data. If there are any infeasible constraints, Pyomo will raise an error during the solving process.\n"
          ]
        }
      ]
    },
    {
      "cell_type": "markdown",
      "source": [
        "# 4. Input Problem Data and Test Model Code"
      ],
      "metadata": {
        "id": "Pc0QqJuf8up_"
      }
    },
    {
      "cell_type": "code",
      "source": [
        "# Installing pyomo nd solver\n",
        "!pip install -q pyomo\n",
        "!apt-get install -y -qq glpk-utils\n",
        "!pip install glpk"
      ],
      "metadata": {
        "colab": {
          "base_uri": "https://localhost:8080/"
        },
        "id": "3BtROuLu9O-p",
        "outputId": "b25cebb8-6fe6-4239-f493-e0366a27d577",
        "collapsed": true
      },
      "execution_count": null,
      "outputs": [
        {
          "output_type": "stream",
          "name": "stdout",
          "text": [
            "\u001b[2K     \u001b[90m━━━━━━━━━━━━━━━━━━━━━━━━━━━━━━━━━━━━━━━━\u001b[0m \u001b[32m12.8/12.8 MB\u001b[0m \u001b[31m10.0 MB/s\u001b[0m eta \u001b[36m0:00:00\u001b[0m\n",
            "\u001b[2K     \u001b[90m━━━━━━━━━━━━━━━━━━━━━━━━━━━━━━━━━━━━━━━━\u001b[0m \u001b[32m49.6/49.6 kB\u001b[0m \u001b[31m3.7 MB/s\u001b[0m eta \u001b[36m0:00:00\u001b[0m\n",
            "\u001b[?25hSelecting previously unselected package libsuitesparseconfig5:amd64.\n",
            "(Reading database ... 121918 files and directories currently installed.)\n",
            "Preparing to unpack .../libsuitesparseconfig5_1%3a5.10.1+dfsg-4build1_amd64.deb ...\n",
            "Unpacking libsuitesparseconfig5:amd64 (1:5.10.1+dfsg-4build1) ...\n",
            "Selecting previously unselected package libamd2:amd64.\n",
            "Preparing to unpack .../libamd2_1%3a5.10.1+dfsg-4build1_amd64.deb ...\n",
            "Unpacking libamd2:amd64 (1:5.10.1+dfsg-4build1) ...\n",
            "Selecting previously unselected package libcolamd2:amd64.\n",
            "Preparing to unpack .../libcolamd2_1%3a5.10.1+dfsg-4build1_amd64.deb ...\n",
            "Unpacking libcolamd2:amd64 (1:5.10.1+dfsg-4build1) ...\n",
            "Selecting previously unselected package libglpk40:amd64.\n",
            "Preparing to unpack .../libglpk40_5.0-1_amd64.deb ...\n",
            "Unpacking libglpk40:amd64 (5.0-1) ...\n",
            "Selecting previously unselected package glpk-utils.\n",
            "Preparing to unpack .../glpk-utils_5.0-1_amd64.deb ...\n",
            "Unpacking glpk-utils (5.0-1) ...\n",
            "Setting up libsuitesparseconfig5:amd64 (1:5.10.1+dfsg-4build1) ...\n",
            "Setting up libamd2:amd64 (1:5.10.1+dfsg-4build1) ...\n",
            "Setting up libcolamd2:amd64 (1:5.10.1+dfsg-4build1) ...\n",
            "Setting up libglpk40:amd64 (5.0-1) ...\n",
            "Setting up glpk-utils (5.0-1) ...\n",
            "Processing triggers for man-db (2.10.2-1) ...\n",
            "Processing triggers for libc-bin (2.35-0ubuntu3.4) ...\n",
            "/sbin/ldconfig.real: /usr/local/lib/libtbbbind_2_5.so.3 is not a symbolic link\n",
            "\n",
            "/sbin/ldconfig.real: /usr/local/lib/libtbbmalloc.so.2 is not a symbolic link\n",
            "\n",
            "/sbin/ldconfig.real: /usr/local/lib/libtbbbind.so.3 is not a symbolic link\n",
            "\n",
            "/sbin/ldconfig.real: /usr/local/lib/libtbbmalloc_proxy.so.2 is not a symbolic link\n",
            "\n",
            "/sbin/ldconfig.real: /usr/local/lib/libtbb.so.12 is not a symbolic link\n",
            "\n",
            "/sbin/ldconfig.real: /usr/local/lib/libtbbbind_2_0.so.3 is not a symbolic link\n",
            "\n",
            "Collecting glpk\n",
            "  Downloading glpk-0.4.7.tar.gz (161 kB)\n",
            "\u001b[2K     \u001b[90m━━━━━━━━━━━━━━━━━━━━━━━━━━━━━━━━━━━━━━━━\u001b[0m \u001b[32m161.2/161.2 kB\u001b[0m \u001b[31m2.1 MB/s\u001b[0m eta \u001b[36m0:00:00\u001b[0m\n",
            "\u001b[?25h"
          ]
        }
      ]
    },
    {
      "cell_type": "code",
      "source": [
        "from pyomo.environ import *\n",
        "\n",
        "# Create a Pyomo model\n",
        "model = ConcreteModel()\n",
        "\n",
        "# Define decision variables\n",
        "model.GCA_C1 = Var(within=NonNegativeReals)\n",
        "model.GCA_C2 = Var(within=NonNegativeReals)\n",
        "model.GCB_C1 = Var(within=NonNegativeReals)\n",
        "model.GCB_C2 = Var(within=NonNegativeReals)\n",
        "model.GCC_C1 = Var(within=NonNegativeReals)\n",
        "model.GCC_C2 = Var(within=NonNegativeReals)\n",
        "\n",
        "# Define parameters\n",
        "model.C1_avail = Param(initialize=10000)\n",
        "model.C2_avail = Param(initialize=15000)\n",
        "model.GCA_min = Param(initialize=6000)\n",
        "model.GCB_min = Param(initialize=7000)\n",
        "model.GCC_min = Param(initialize=9000)\n",
        "model.C1_crit = Param(initialize=0.4)\n",
        "model.C2_crit = Param(initialize=0.2)\n",
        "model.GCA_crit_min = Param(initialize=0.3)\n",
        "model.GCB_crit_max = Param(initialize=0.3)\n",
        "model.GCC_ratio_min = Param(initialize=0.3)\n",
        "model.GCA_profit = Param(initialize=120)\n",
        "model.GCB_profit = Param(initialize=135)\n",
        "model.GCC_profit = Param(initialize=155)\n",
        "\n",
        "# Define objective function\n",
        "def total_profit(model):\n",
        "    return (\n",
        "        model.GCA_profit * (model.GCA_C1 + model.GCA_C2) +\n",
        "        model.GCB_profit * (model.GCB_C1 + model.GCB_C2) +\n",
        "        model.GCC_profit * (model.GCC_C1 + model.GCC_C2)\n",
        "    )\n",
        "model.profit = Objective(rule=total_profit, sense=maximize)\n",
        "\n",
        "# Define constraints\n",
        "def component_availability_C1(model):\n",
        "    return model.GCA_C1 + model.GCB_C1 + model.GCC_C1 <= model.C1_avail\n",
        "model.comp_avail_C1 = Constraint(rule=component_availability_C1)\n",
        "\n",
        "def component_availability_C2(model):\n",
        "    return model.GCA_C2 + model.GCB_C2 + model.GCC_C2 <= model.C2_avail\n",
        "model.comp_avail_C2 = Constraint(rule=component_availability_C2)\n",
        "\n",
        "def minimum_demand_GCA(model):\n",
        "    return model.GCA_C1 + model.GCA_C2 >= model.GCA_min\n",
        "model.min_demand_GCA = Constraint(rule=minimum_demand_GCA)\n",
        "\n",
        "def minimum_demand_GCB(model):\n",
        "    return model.GCB_C1 + model.GCB_C2 >= model.GCB_min\n",
        "model.min_demand_GCB = Constraint(rule=minimum_demand_GCB)\n",
        "\n",
        "def minimum_demand_GCC(model):\n",
        "    return model.GCC_C1 + model.GCC_C2 >= model.GCC_min\n",
        "model.min_demand_GCC = Constraint(rule=minimum_demand_GCC)\n",
        "\n",
        "def critical_element_GCA(model):\n",
        "    return (model.GCA_C1 * model.C1_crit + model.GCA_C2 * model.C2_crit) / (model.GCA_C1 + model.GCA_C2) >= model.GCA_crit_min\n",
        "model.crit_elem_GCA = Constraint(rule=critical_element_GCA)\n",
        "\n",
        "def critical_element_GCB(model):\n",
        "    return (model.GCB_C1 * model.C1_crit + model.GCB_C2 * model.C2_crit) / (model.GCB_C1 + model.GCB_C2) <= model.GCB_crit_max\n",
        "model.crit_elem_GCB = Constraint(rule=critical_element_GCB)\n",
        "\n",
        "def minimum_ratio_GCC(model):\n",
        "    return model.GCC_C1 / model.GCC_C2 >= model.GCC_ratio_min\n",
        "model.min_ratio_GCC = Constraint(rule=minimum_ratio_GCC)\n",
        "\n",
        "# Solve the optimization problem\n",
        "solver = SolverFactory('glpk')\n",
        "results = solver.solve(model)\n",
        "\n",
        "# Print the results\n",
        "print(\"Optimal solution found!\")\n",
        "print(\"Objective value (Total Profit):\", model.profit())\n",
        "print(\"GCA_C1:\", model.GCA_C1())\n",
        "print(\"GCA_C2:\", model.GCA_C2())\n",
        "print(\"GCB_C1:\", model.GCB_C1())\n",
        "print(\"GCB_C2:\", model.GCB_C2())\n",
        "print(\"GCC_C1:\", model.GCC_C1())\n",
        "print(\"GCC_C2:\", model.GCC_C2())"
      ],
      "metadata": {
        "colab": {
          "base_uri": "https://localhost:8080/",
          "height": 356
        },
        "id": "8FpHcuWU8rQ2",
        "outputId": "89b41b78-a31f-4317-e20a-39d19cde5325"
      },
      "execution_count": 11,
      "outputs": [
        {
          "output_type": "error",
          "ename": "ValueError",
          "evalue": "Model constraint (crit_elem_GCA) contains nonlinear terms that cannot be written to LP format",
          "traceback": [
            "\u001b[0;31m---------------------------------------------------------------------------\u001b[0m",
            "\u001b[0;31mValueError\u001b[0m                                Traceback (most recent call last)",
            "\u001b[0;32m<ipython-input-11-4859bf8f4108>\u001b[0m in \u001b[0;36m<cell line: 73>\u001b[0;34m()\u001b[0m\n\u001b[1;32m     71\u001b[0m \u001b[0;31m# Solve the optimization problem\u001b[0m\u001b[0;34m\u001b[0m\u001b[0;34m\u001b[0m\u001b[0m\n\u001b[1;32m     72\u001b[0m \u001b[0msolver\u001b[0m \u001b[0;34m=\u001b[0m \u001b[0mSolverFactory\u001b[0m\u001b[0;34m(\u001b[0m\u001b[0;34m'glpk'\u001b[0m\u001b[0;34m)\u001b[0m\u001b[0;34m\u001b[0m\u001b[0;34m\u001b[0m\u001b[0m\n\u001b[0;32m---> 73\u001b[0;31m \u001b[0mresults\u001b[0m \u001b[0;34m=\u001b[0m \u001b[0msolver\u001b[0m\u001b[0;34m.\u001b[0m\u001b[0msolve\u001b[0m\u001b[0;34m(\u001b[0m\u001b[0mmodel\u001b[0m\u001b[0;34m)\u001b[0m\u001b[0;34m\u001b[0m\u001b[0;34m\u001b[0m\u001b[0m\n\u001b[0m\u001b[1;32m     74\u001b[0m \u001b[0;34m\u001b[0m\u001b[0m\n\u001b[1;32m     75\u001b[0m \u001b[0;31m# Print the results\u001b[0m\u001b[0;34m\u001b[0m\u001b[0;34m\u001b[0m\u001b[0m\n",
            "\u001b[0;32m/usr/local/lib/python3.10/dist-packages/pyomo/opt/base/solvers.py\u001b[0m in \u001b[0;36msolve\u001b[0;34m(self, *args, **kwds)\u001b[0m\n\u001b[1;32m    596\u001b[0m             \u001b[0minitial_time\u001b[0m \u001b[0;34m=\u001b[0m \u001b[0mtime\u001b[0m\u001b[0;34m.\u001b[0m\u001b[0mtime\u001b[0m\u001b[0;34m(\u001b[0m\u001b[0;34m)\u001b[0m\u001b[0;34m\u001b[0m\u001b[0;34m\u001b[0m\u001b[0m\n\u001b[1;32m    597\u001b[0m \u001b[0;34m\u001b[0m\u001b[0m\n\u001b[0;32m--> 598\u001b[0;31m             \u001b[0mself\u001b[0m\u001b[0;34m.\u001b[0m\u001b[0m_presolve\u001b[0m\u001b[0;34m(\u001b[0m\u001b[0;34m*\u001b[0m\u001b[0margs\u001b[0m\u001b[0;34m,\u001b[0m \u001b[0;34m**\u001b[0m\u001b[0mkwds\u001b[0m\u001b[0;34m)\u001b[0m\u001b[0;34m\u001b[0m\u001b[0;34m\u001b[0m\u001b[0m\n\u001b[0m\u001b[1;32m    599\u001b[0m \u001b[0;34m\u001b[0m\u001b[0m\n\u001b[1;32m    600\u001b[0m             \u001b[0mpresolve_completion_time\u001b[0m \u001b[0;34m=\u001b[0m \u001b[0mtime\u001b[0m\u001b[0;34m.\u001b[0m\u001b[0mtime\u001b[0m\u001b[0;34m(\u001b[0m\u001b[0;34m)\u001b[0m\u001b[0;34m\u001b[0m\u001b[0;34m\u001b[0m\u001b[0m\n",
            "\u001b[0;32m/usr/local/lib/python3.10/dist-packages/pyomo/opt/solver/shellcmd.py\u001b[0m in \u001b[0;36m_presolve\u001b[0;34m(self, *args, **kwds)\u001b[0m\n\u001b[1;32m    221\u001b[0m         \u001b[0mself\u001b[0m\u001b[0;34m.\u001b[0m\u001b[0m_define_signal_handlers\u001b[0m \u001b[0;34m=\u001b[0m \u001b[0mkwds\u001b[0m\u001b[0;34m.\u001b[0m\u001b[0mpop\u001b[0m\u001b[0;34m(\u001b[0m\u001b[0;34m'use_signal_handling'\u001b[0m\u001b[0;34m,\u001b[0m \u001b[0;32mNone\u001b[0m\u001b[0;34m)\u001b[0m\u001b[0;34m\u001b[0m\u001b[0;34m\u001b[0m\u001b[0m\n\u001b[1;32m    222\u001b[0m \u001b[0;34m\u001b[0m\u001b[0m\n\u001b[0;32m--> 223\u001b[0;31m         \u001b[0mOptSolver\u001b[0m\u001b[0;34m.\u001b[0m\u001b[0m_presolve\u001b[0m\u001b[0;34m(\u001b[0m\u001b[0mself\u001b[0m\u001b[0;34m,\u001b[0m \u001b[0;34m*\u001b[0m\u001b[0margs\u001b[0m\u001b[0;34m,\u001b[0m \u001b[0;34m**\u001b[0m\u001b[0mkwds\u001b[0m\u001b[0;34m)\u001b[0m\u001b[0;34m\u001b[0m\u001b[0;34m\u001b[0m\u001b[0m\n\u001b[0m\u001b[1;32m    224\u001b[0m \u001b[0;34m\u001b[0m\u001b[0m\n\u001b[1;32m    225\u001b[0m         \u001b[0;31m#\u001b[0m\u001b[0;34m\u001b[0m\u001b[0;34m\u001b[0m\u001b[0m\n",
            "\u001b[0;32m/usr/local/lib/python3.10/dist-packages/pyomo/opt/base/solvers.py\u001b[0m in \u001b[0;36m_presolve\u001b[0;34m(self, *args, **kwds)\u001b[0m\n\u001b[1;32m    702\u001b[0m             \u001b[0mwrite_start_time\u001b[0m \u001b[0;34m=\u001b[0m \u001b[0mtime\u001b[0m\u001b[0;34m.\u001b[0m\u001b[0mtime\u001b[0m\u001b[0;34m(\u001b[0m\u001b[0;34m)\u001b[0m\u001b[0;34m\u001b[0m\u001b[0;34m\u001b[0m\u001b[0m\n\u001b[1;32m    703\u001b[0m             (self._problem_files, self._problem_format, self._smap_id) = (\n\u001b[0;32m--> 704\u001b[0;31m                 self._convert_problem(\n\u001b[0m\u001b[1;32m    705\u001b[0m                     \u001b[0margs\u001b[0m\u001b[0;34m,\u001b[0m \u001b[0mself\u001b[0m\u001b[0;34m.\u001b[0m\u001b[0m_problem_format\u001b[0m\u001b[0;34m,\u001b[0m \u001b[0mself\u001b[0m\u001b[0;34m.\u001b[0m\u001b[0m_valid_problem_formats\u001b[0m\u001b[0;34m,\u001b[0m \u001b[0;34m**\u001b[0m\u001b[0mkwds\u001b[0m\u001b[0;34m\u001b[0m\u001b[0;34m\u001b[0m\u001b[0m\n\u001b[1;32m    706\u001b[0m                 )\n",
            "\u001b[0;32m/usr/local/lib/python3.10/dist-packages/pyomo/opt/base/solvers.py\u001b[0m in \u001b[0;36m_convert_problem\u001b[0;34m(self, args, problem_format, valid_problem_formats, **kwds)\u001b[0m\n\u001b[1;32m    754\u001b[0m \u001b[0;34m\u001b[0m\u001b[0m\n\u001b[1;32m    755\u001b[0m     \u001b[0;32mdef\u001b[0m \u001b[0m_convert_problem\u001b[0m\u001b[0;34m(\u001b[0m\u001b[0mself\u001b[0m\u001b[0;34m,\u001b[0m \u001b[0margs\u001b[0m\u001b[0;34m,\u001b[0m \u001b[0mproblem_format\u001b[0m\u001b[0;34m,\u001b[0m \u001b[0mvalid_problem_formats\u001b[0m\u001b[0;34m,\u001b[0m \u001b[0;34m**\u001b[0m\u001b[0mkwds\u001b[0m\u001b[0;34m)\u001b[0m\u001b[0;34m:\u001b[0m\u001b[0;34m\u001b[0m\u001b[0;34m\u001b[0m\u001b[0m\n\u001b[0;32m--> 756\u001b[0;31m         return convert_problem(\n\u001b[0m\u001b[1;32m    757\u001b[0m             \u001b[0margs\u001b[0m\u001b[0;34m,\u001b[0m \u001b[0mproblem_format\u001b[0m\u001b[0;34m,\u001b[0m \u001b[0mvalid_problem_formats\u001b[0m\u001b[0;34m,\u001b[0m \u001b[0mself\u001b[0m\u001b[0;34m.\u001b[0m\u001b[0mhas_capability\u001b[0m\u001b[0;34m,\u001b[0m \u001b[0;34m**\u001b[0m\u001b[0mkwds\u001b[0m\u001b[0;34m\u001b[0m\u001b[0;34m\u001b[0m\u001b[0m\n\u001b[1;32m    758\u001b[0m         )\n",
            "\u001b[0;32m/usr/local/lib/python3.10/dist-packages/pyomo/opt/base/convert.py\u001b[0m in \u001b[0;36mconvert_problem\u001b[0;34m(args, target_problem_type, valid_problem_types, has_capability, **kwds)\u001b[0m\n\u001b[1;32m     95\u001b[0m                     \u001b[0mtmpkw\u001b[0m \u001b[0;34m=\u001b[0m \u001b[0mkwds\u001b[0m\u001b[0;34m\u001b[0m\u001b[0;34m\u001b[0m\u001b[0m\n\u001b[1;32m     96\u001b[0m                     \u001b[0mtmpkw\u001b[0m\u001b[0;34m[\u001b[0m\u001b[0;34m'capabilities'\u001b[0m\u001b[0;34m]\u001b[0m \u001b[0;34m=\u001b[0m \u001b[0mhas_capability\u001b[0m\u001b[0;34m\u001b[0m\u001b[0;34m\u001b[0m\u001b[0m\n\u001b[0;32m---> 97\u001b[0;31m                     \u001b[0mproblem_files\u001b[0m\u001b[0;34m,\u001b[0m \u001b[0msymbol_map\u001b[0m \u001b[0;34m=\u001b[0m \u001b[0mconverter\u001b[0m\u001b[0;34m.\u001b[0m\u001b[0mapply\u001b[0m\u001b[0;34m(\u001b[0m\u001b[0;34m*\u001b[0m\u001b[0mtmp\u001b[0m\u001b[0;34m,\u001b[0m \u001b[0;34m**\u001b[0m\u001b[0mtmpkw\u001b[0m\u001b[0;34m)\u001b[0m\u001b[0;34m\u001b[0m\u001b[0;34m\u001b[0m\u001b[0m\n\u001b[0m\u001b[1;32m     98\u001b[0m                     \u001b[0;32mreturn\u001b[0m \u001b[0mproblem_files\u001b[0m\u001b[0;34m,\u001b[0m \u001b[0mptype\u001b[0m\u001b[0;34m,\u001b[0m \u001b[0msymbol_map\u001b[0m\u001b[0;34m\u001b[0m\u001b[0;34m\u001b[0m\u001b[0m\n\u001b[1;32m     99\u001b[0m \u001b[0;34m\u001b[0m\u001b[0m\n",
            "\u001b[0;32m/usr/local/lib/python3.10/dist-packages/pyomo/solvers/plugins/converter/model.py\u001b[0m in \u001b[0;36mapply\u001b[0;34m(self, *args, **kwds)\u001b[0m\n\u001b[1;32m     76\u001b[0m                     )\n\u001b[1;32m     77\u001b[0m                 \u001b[0;32melse\u001b[0m\u001b[0;34m:\u001b[0m\u001b[0;34m\u001b[0m\u001b[0;34m\u001b[0m\u001b[0m\n\u001b[0;32m---> 78\u001b[0;31m                     (problem_filename, symbol_map_id) = instance.write(\n\u001b[0m\u001b[1;32m     79\u001b[0m                         \u001b[0mfilename\u001b[0m\u001b[0;34m=\u001b[0m\u001b[0mproblem_filename\u001b[0m\u001b[0;34m,\u001b[0m\u001b[0;34m\u001b[0m\u001b[0;34m\u001b[0m\u001b[0m\n\u001b[1;32m     80\u001b[0m                         \u001b[0mformat\u001b[0m\u001b[0;34m=\u001b[0m\u001b[0mProblemFormat\u001b[0m\u001b[0;34m.\u001b[0m\u001b[0mcpxlp\u001b[0m\u001b[0;34m,\u001b[0m\u001b[0;34m\u001b[0m\u001b[0;34m\u001b[0m\u001b[0m\n",
            "\u001b[0;32m/usr/local/lib/python3.10/dist-packages/pyomo/core/base/block.py\u001b[0m in \u001b[0;36mwrite\u001b[0;34m(self, filename, format, solver_capability, io_options, int_marker)\u001b[0m\n\u001b[1;32m   1925\u001b[0m                 \u001b[0;32mreturn\u001b[0m \u001b[0;32mTrue\u001b[0m\u001b[0;34m\u001b[0m\u001b[0;34m\u001b[0m\u001b[0m\n\u001b[1;32m   1926\u001b[0m \u001b[0;34m\u001b[0m\u001b[0m\n\u001b[0;32m-> 1927\u001b[0;31m         \u001b[0;34m(\u001b[0m\u001b[0mfilename\u001b[0m\u001b[0;34m,\u001b[0m \u001b[0msmap\u001b[0m\u001b[0;34m)\u001b[0m \u001b[0;34m=\u001b[0m \u001b[0mproblem_writer\u001b[0m\u001b[0;34m(\u001b[0m\u001b[0mself\u001b[0m\u001b[0;34m,\u001b[0m \u001b[0mfilename\u001b[0m\u001b[0;34m,\u001b[0m \u001b[0msolver_capability\u001b[0m\u001b[0;34m,\u001b[0m \u001b[0mio_options\u001b[0m\u001b[0;34m)\u001b[0m\u001b[0;34m\u001b[0m\u001b[0;34m\u001b[0m\u001b[0m\n\u001b[0m\u001b[1;32m   1928\u001b[0m         \u001b[0msmap_id\u001b[0m \u001b[0;34m=\u001b[0m \u001b[0mid\u001b[0m\u001b[0;34m(\u001b[0m\u001b[0msmap\u001b[0m\u001b[0;34m)\u001b[0m\u001b[0;34m\u001b[0m\u001b[0;34m\u001b[0m\u001b[0m\n\u001b[1;32m   1929\u001b[0m         \u001b[0;32mif\u001b[0m \u001b[0;32mnot\u001b[0m \u001b[0mhasattr\u001b[0m\u001b[0;34m(\u001b[0m\u001b[0mself\u001b[0m\u001b[0;34m,\u001b[0m \u001b[0;34m'solutions'\u001b[0m\u001b[0;34m)\u001b[0m\u001b[0;34m:\u001b[0m\u001b[0;34m\u001b[0m\u001b[0;34m\u001b[0m\u001b[0m\n",
            "\u001b[0;32m/usr/local/lib/python3.10/dist-packages/pyomo/repn/plugins/lp_writer.py\u001b[0m in \u001b[0;36m__call__\u001b[0;34m(self, model, filename, solver_capability, io_options)\u001b[0m\n\u001b[1;32m    206\u001b[0m \u001b[0;34m\u001b[0m\u001b[0m\n\u001b[1;32m    207\u001b[0m         \u001b[0;32mwith\u001b[0m \u001b[0mopen\u001b[0m\u001b[0;34m(\u001b[0m\u001b[0mfilename\u001b[0m\u001b[0;34m,\u001b[0m \u001b[0;34m'w'\u001b[0m\u001b[0;34m,\u001b[0m \u001b[0mnewline\u001b[0m\u001b[0;34m=\u001b[0m\u001b[0;34m''\u001b[0m\u001b[0;34m)\u001b[0m \u001b[0;32mas\u001b[0m \u001b[0mFILE\u001b[0m\u001b[0;34m:\u001b[0m\u001b[0;34m\u001b[0m\u001b[0;34m\u001b[0m\u001b[0m\n\u001b[0;32m--> 208\u001b[0;31m             \u001b[0minfo\u001b[0m \u001b[0;34m=\u001b[0m \u001b[0mself\u001b[0m\u001b[0;34m.\u001b[0m\u001b[0mwrite\u001b[0m\u001b[0;34m(\u001b[0m\u001b[0mmodel\u001b[0m\u001b[0;34m,\u001b[0m \u001b[0mFILE\u001b[0m\u001b[0;34m,\u001b[0m \u001b[0;34m**\u001b[0m\u001b[0mio_options\u001b[0m\u001b[0;34m)\u001b[0m\u001b[0;34m\u001b[0m\u001b[0;34m\u001b[0m\u001b[0m\n\u001b[0m\u001b[1;32m    209\u001b[0m         \u001b[0;32mreturn\u001b[0m \u001b[0mfilename\u001b[0m\u001b[0;34m,\u001b[0m \u001b[0minfo\u001b[0m\u001b[0;34m.\u001b[0m\u001b[0msymbol_map\u001b[0m\u001b[0;34m\u001b[0m\u001b[0;34m\u001b[0m\u001b[0m\n\u001b[1;32m    210\u001b[0m \u001b[0;34m\u001b[0m\u001b[0m\n",
            "\u001b[0;32m/usr/local/lib/python3.10/dist-packages/pyomo/repn/plugins/lp_writer.py\u001b[0m in \u001b[0;36mwrite\u001b[0;34m(self, model, ostream, **options)\u001b[0m\n\u001b[1;32m    239\u001b[0m         \u001b[0;31m# small objects.\u001b[0m\u001b[0;34m\u001b[0m\u001b[0;34m\u001b[0m\u001b[0m\n\u001b[1;32m    240\u001b[0m         \u001b[0;32mwith\u001b[0m \u001b[0mPauseGC\u001b[0m\u001b[0;34m(\u001b[0m\u001b[0;34m)\u001b[0m\u001b[0;34m:\u001b[0m\u001b[0;34m\u001b[0m\u001b[0;34m\u001b[0m\u001b[0m\n\u001b[0;32m--> 241\u001b[0;31m             \u001b[0;32mreturn\u001b[0m \u001b[0m_LPWriter_impl\u001b[0m\u001b[0;34m(\u001b[0m\u001b[0mostream\u001b[0m\u001b[0;34m,\u001b[0m \u001b[0mconfig\u001b[0m\u001b[0;34m)\u001b[0m\u001b[0;34m.\u001b[0m\u001b[0mwrite\u001b[0m\u001b[0;34m(\u001b[0m\u001b[0mmodel\u001b[0m\u001b[0;34m)\u001b[0m\u001b[0;34m\u001b[0m\u001b[0;34m\u001b[0m\u001b[0m\n\u001b[0m\u001b[1;32m    242\u001b[0m \u001b[0;34m\u001b[0m\u001b[0m\n\u001b[1;32m    243\u001b[0m \u001b[0;34m\u001b[0m\u001b[0m\n",
            "\u001b[0;32m/usr/local/lib/python3.10/dist-packages/pyomo/repn/plugins/lp_writer.py\u001b[0m in \u001b[0;36mwrite\u001b[0;34m(self, model)\u001b[0m\n\u001b[1;32m    422\u001b[0m             \u001b[0mrepn\u001b[0m \u001b[0;34m=\u001b[0m \u001b[0mconstraint_visitor\u001b[0m\u001b[0;34m.\u001b[0m\u001b[0mwalk_expression\u001b[0m\u001b[0;34m(\u001b[0m\u001b[0mcon\u001b[0m\u001b[0;34m.\u001b[0m\u001b[0mbody\u001b[0m\u001b[0;34m)\u001b[0m\u001b[0;34m\u001b[0m\u001b[0;34m\u001b[0m\u001b[0m\n\u001b[1;32m    423\u001b[0m             \u001b[0;32mif\u001b[0m \u001b[0mrepn\u001b[0m\u001b[0;34m.\u001b[0m\u001b[0mnonlinear\u001b[0m \u001b[0;32mis\u001b[0m \u001b[0;32mnot\u001b[0m \u001b[0;32mNone\u001b[0m\u001b[0;34m:\u001b[0m\u001b[0;34m\u001b[0m\u001b[0;34m\u001b[0m\u001b[0m\n\u001b[0;32m--> 424\u001b[0;31m                 raise ValueError(\n\u001b[0m\u001b[1;32m    425\u001b[0m                     \u001b[0;34mf\"Model constraint ({con.name}) contains nonlinear terms that \"\u001b[0m\u001b[0;34m\u001b[0m\u001b[0;34m\u001b[0m\u001b[0m\n\u001b[1;32m    426\u001b[0m                     \u001b[0;34m\"cannot be written to LP format\"\u001b[0m\u001b[0;34m\u001b[0m\u001b[0;34m\u001b[0m\u001b[0m\n",
            "\u001b[0;31mValueError\u001b[0m: Model constraint (crit_elem_GCA) contains nonlinear terms that cannot be written to LP format"
          ]
        }
      ]
    },
    {
      "cell_type": "markdown",
      "source": [
        "# 5. Correct The Model Code to Test Mathematical Model (if applicable)"
      ],
      "metadata": {
        "id": "KHTyoLQTWZVy"
      }
    },
    {
      "cell_type": "code",
      "source": [
        "# Installing pyomo nd solver\n",
        "!pip install -q pyomo\n",
        "!wget -N -q \"https://matematica.unipv.it/gualandi/solvers/ipopt-linux64.zip\"\n",
        "!unzip -o -q ipopt-linux64"
      ],
      "metadata": {
        "id": "A-Kq05sreCew"
      },
      "execution_count": 12,
      "outputs": []
    },
    {
      "cell_type": "code",
      "source": [
        "from pyomo.environ import *\n",
        "\n",
        "# Create a Pyomo model\n",
        "model = ConcreteModel()\n",
        "\n",
        "# Define decision variables\n",
        "model.GCA_C1 = Var(within=NonNegativeReals)\n",
        "model.GCA_C2 = Var(within=NonNegativeReals)\n",
        "model.GCB_C1 = Var(within=NonNegativeReals)\n",
        "model.GCB_C2 = Var(within=NonNegativeReals)\n",
        "model.GCC_C1 = Var(within=NonNegativeReals)\n",
        "model.GCC_C2 = Var(within=NonNegativeReals)\n",
        "\n",
        "# Define parameters\n",
        "model.C1_avail = Param(initialize=10000)\n",
        "model.C2_avail = Param(initialize=15000)\n",
        "model.GCA_min = Param(initialize=6000)\n",
        "model.GCB_min = Param(initialize=7000)\n",
        "model.GCC_min = Param(initialize=9000)\n",
        "model.C1_crit = Param(initialize=0.4)\n",
        "model.C2_crit = Param(initialize=0.2)\n",
        "model.GCA_crit_min = Param(initialize=0.3)\n",
        "model.GCB_crit_max = Param(initialize=0.3)\n",
        "model.GCC_ratio_min = Param(initialize=0.3)\n",
        "model.GCA_profit = Param(initialize=120)\n",
        "model.GCB_profit = Param(initialize=135)\n",
        "model.GCC_profit = Param(initialize=155)\n",
        "\n",
        "# Define objective function\n",
        "def total_profit(model):\n",
        "    return (\n",
        "        model.GCA_profit * (model.GCA_C1 + model.GCA_C2) +\n",
        "        model.GCB_profit * (model.GCB_C1 + model.GCB_C2) +\n",
        "        model.GCC_profit * (model.GCC_C1 + model.GCC_C2)\n",
        "    )\n",
        "model.profit = Objective(rule=total_profit, sense=maximize)\n",
        "\n",
        "# Define constraints\n",
        "def component_availability_C1(model):\n",
        "    return model.GCA_C1 + model.GCB_C1 + model.GCC_C1 <= model.C1_avail\n",
        "model.comp_avail_C1 = Constraint(rule=component_availability_C1)\n",
        "\n",
        "def component_availability_C2(model):\n",
        "    return model.GCA_C2 + model.GCB_C2 + model.GCC_C2 <= model.C2_avail\n",
        "model.comp_avail_C2 = Constraint(rule=component_availability_C2)\n",
        "\n",
        "def minimum_demand_GCA(model):\n",
        "    return model.GCA_C1 + model.GCA_C2 >= model.GCA_min\n",
        "model.min_demand_GCA = Constraint(rule=minimum_demand_GCA)\n",
        "\n",
        "def minimum_demand_GCB(model):\n",
        "    return model.GCB_C1 + model.GCB_C2 >= model.GCB_min\n",
        "model.min_demand_GCB = Constraint(rule=minimum_demand_GCB)\n",
        "\n",
        "def minimum_demand_GCC(model):\n",
        "    return model.GCC_C1 + model.GCC_C2 >= model.GCC_min\n",
        "model.min_demand_GCC = Constraint(rule=minimum_demand_GCC)\n",
        "\n",
        "def critical_element_GCA(model):\n",
        "    return (model.GCA_C1 * model.C1_crit + model.GCA_C2 * model.C2_crit) / (model.GCA_C1 + model.GCA_C2) >= model.GCA_crit_min\n",
        "model.crit_elem_GCA = Constraint(rule=critical_element_GCA)\n",
        "\n",
        "def critical_element_GCB(model):\n",
        "    return (model.GCB_C1 * model.C1_crit + model.GCB_C2 * model.C2_crit) / (model.GCB_C1 + model.GCB_C2) <= model.GCB_crit_max\n",
        "model.crit_elem_GCB = Constraint(rule=critical_element_GCB)\n",
        "\n",
        "def minimum_ratio_GCC(model):\n",
        "    return model.GCC_C1 / model.GCC_C2 >= model.GCC_ratio_min\n",
        "model.min_ratio_GCC = Constraint(rule=minimum_ratio_GCC)\n",
        "\n",
        "# Solve the optimization problem\n",
        "solver = SolverFactory('ipopt') # MODIFIED\n",
        "results = solver.solve(model)\n",
        "\n",
        "# Print the results\n",
        "print(\"Optimal solution found!\")\n",
        "print(\"Objective value (Total Profit):\", model.profit())\n",
        "print(\"GCA_C1:\", model.GCA_C1())\n",
        "print(\"GCA_C2:\", model.GCA_C2())\n",
        "print(\"GCB_C1:\", model.GCB_C1())\n",
        "print(\"GCB_C2:\", model.GCB_C2())\n",
        "print(\"GCC_C1:\", model.GCC_C1())\n",
        "print(\"GCC_C2:\", model.GCC_C2())"
      ],
      "metadata": {
        "id": "REJzqhR6WYvM",
        "colab": {
          "base_uri": "https://localhost:8080/"
        },
        "outputId": "9c9c9146-eee1-4781-d261-4138822ea97b"
      },
      "execution_count": 13,
      "outputs": [
        {
          "output_type": "stream",
          "name": "stdout",
          "text": [
            "Optimal solution found!\n",
            "Objective value (Total Profit): 3525000.042249984\n",
            "GCA_C1: 5537.563496842488\n",
            "GCA_C2: 462.4364431576223\n",
            "GCB_C1: 354.1989681833096\n",
            "GCB_C2: 6645.800961816884\n",
            "GCC_C1: 4108.237634974176\n",
            "GCC_C2: 7891.762745025469\n"
          ]
        }
      ]
    }
  ]
}