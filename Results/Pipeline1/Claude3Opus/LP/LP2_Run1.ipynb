{
  "nbformat": 4,
  "nbformat_minor": 0,
  "metadata": {
    "colab": {
      "provenance": []
    },
    "kernelspec": {
      "name": "python3",
      "display_name": "Python 3"
    },
    "language_info": {
      "name": "python"
    }
  },
  "cells": [
    {
      "cell_type": "markdown",
      "source": [
        "# 0. Imports and Setting up Anthropic API Client"
      ],
      "metadata": {
        "id": "y5fw0lkBwBbo"
      }
    },
    {
      "cell_type": "code",
      "source": [
        "from google.colab import drive\n",
        "\n",
        "drive.mount('/content/drive')"
      ],
      "metadata": {
        "colab": {
          "base_uri": "https://localhost:8080/"
        },
        "id": "e7tWOLo0yMoH",
        "outputId": "59cf9353-d0d7-4860-8f9a-3dfd80df32ea"
      },
      "execution_count": 1,
      "outputs": [
        {
          "output_type": "stream",
          "name": "stdout",
          "text": [
            "Mounted at /content/drive\n"
          ]
        }
      ]
    },
    {
      "cell_type": "code",
      "source": [
        "!pip install python-dotenv\n",
        "\n",
        "import os\n",
        "import dotenv\n",
        "\n",
        "dotenv.load_dotenv('/content/drive/MyDrive/.env')"
      ],
      "metadata": {
        "colab": {
          "base_uri": "https://localhost:8080/"
        },
        "id": "utcEK8lZ1Z1R",
        "outputId": "506f9868-3503-4b35-bfa4-19186bfd4b66"
      },
      "execution_count": 2,
      "outputs": [
        {
          "output_type": "stream",
          "name": "stdout",
          "text": [
            "Collecting python-dotenv\n",
            "  Downloading python_dotenv-1.0.1-py3-none-any.whl (19 kB)\n",
            "Installing collected packages: python-dotenv\n",
            "Successfully installed python-dotenv-1.0.1\n"
          ]
        },
        {
          "output_type": "execute_result",
          "data": {
            "text/plain": [
              "True"
            ]
          },
          "metadata": {},
          "execution_count": 2
        }
      ]
    },
    {
      "cell_type": "code",
      "source": [
        "# Load Prompts and Problem Description\n",
        "prompt1_path = '/content/drive/MyDrive/Thesis/Prompts/Prompt1_MathematicalModel.txt'\n",
        "prompt2_path = '/content/drive/MyDrive/Thesis/Prompts/Prompt2_PyomoCode.txt'\n",
        "problem_desc_path = '/content/drive/MyDrive/Thesis/ProblemDescriptions/LP/LP2.txt'\n",
        "\n",
        "prompt1_file = open(prompt1_path, \"r\")\n",
        "prompt2_file = open(prompt2_path, \"r\")\n",
        "problem_desc_file = open(problem_desc_path, \"r\")\n",
        "\n",
        "prompt1 = prompt1_file.read()\n",
        "print(\"Prompt 1:\\n\", prompt1)\n",
        "\n",
        "prompt2 = prompt2_file.read()\n",
        "print(\"Prompt 2:\\n\", prompt2)\n",
        "\n",
        "problem_desc = problem_desc_file.read()\n",
        "print(\"Problem Description:\\n\", problem_desc)"
      ],
      "metadata": {
        "colab": {
          "base_uri": "https://localhost:8080/"
        },
        "id": "9KlkjwMUS4xp",
        "outputId": "0c465546-e4dd-4a2b-d4a8-76628364c0c0"
      },
      "execution_count": 3,
      "outputs": [
        {
          "output_type": "stream",
          "name": "stdout",
          "text": [
            "Prompt 1:\n",
            " Please write a mathematical optimization model for this problem. Include parameters, decision variables, the objective function and the constraints in your answer.\n",
            "Prompt 2:\n",
            " Please write a python pyomo code for this optimization problem.\n",
            "Use sample data where needed.\n",
            "Indicate where you use sample data.\n",
            "Problem Description:\n",
            " You are in charge of the supply purchasing of a company that produces two kinds of drugs. \n",
            "The drugs contain a specific active agent, which is extracted from two different kinds of raw materials that should be purchased on the market. \n",
            "\n",
            "The goal is to maximize the total profit obtained from producing the drugs, which means minimizing purchasing costs for buying the raw materials and minimizing operational costs for producing the drugs while maximizing sales. \n",
            "\n",
            "You are given a budget for purchasing raw materials and operating the production process of the drugs which cannot be exceeded. \n",
            "Additionally, you need to keep the capacity constraints for the production of the drugs in mind as there is only a limited amount of manpower as well as equipment hours available. \n",
            "Your company can also only store a limited amount of raw materials. \n",
            "Most importantly, the amount of active ingredient extracted from the raw materials you purchase needs to satisfy the required amount of active ingredient in the drugs your company produces. \n",
            "Importantly, your experience with the production of the drugs has shown the the amount of active ingredient your process extracts from the two raw materials can vary by up to 0.5% and 2%, respectively. \n",
            "During purchasing, you need to make sure that no matter how much the amount of active ingredient varies, the required amount for the drug production is always met. \n"
          ]
        }
      ]
    },
    {
      "cell_type": "code",
      "source": [
        "!pip install anthropic"
      ],
      "metadata": {
        "colab": {
          "base_uri": "https://localhost:8080/"
        },
        "id": "iWlNsTIvxCcR",
        "outputId": "a825e46d-e874-45bd-92fb-bb119414c167",
        "collapsed": true
      },
      "execution_count": 4,
      "outputs": [
        {
          "output_type": "stream",
          "name": "stdout",
          "text": [
            "Collecting anthropic\n",
            "  Downloading anthropic-0.25.9-py3-none-any.whl (871 kB)\n",
            "\u001b[2K     \u001b[90m━━━━━━━━━━━━━━━━━━━━━━━━━━━━━━━━━━━━━━━━\u001b[0m \u001b[32m871.1/871.1 kB\u001b[0m \u001b[31m5.8 MB/s\u001b[0m eta \u001b[36m0:00:00\u001b[0m\n",
            "\u001b[?25hRequirement already satisfied: anyio<5,>=3.5.0 in /usr/local/lib/python3.10/dist-packages (from anthropic) (3.7.1)\n",
            "Requirement already satisfied: distro<2,>=1.7.0 in /usr/lib/python3/dist-packages (from anthropic) (1.7.0)\n",
            "Collecting httpx<1,>=0.23.0 (from anthropic)\n",
            "  Downloading httpx-0.27.0-py3-none-any.whl (75 kB)\n",
            "\u001b[2K     \u001b[90m━━━━━━━━━━━━━━━━━━━━━━━━━━━━━━━━━━━━━━━━\u001b[0m \u001b[32m75.6/75.6 kB\u001b[0m \u001b[31m8.1 MB/s\u001b[0m eta \u001b[36m0:00:00\u001b[0m\n",
            "\u001b[?25hRequirement already satisfied: pydantic<3,>=1.9.0 in /usr/local/lib/python3.10/dist-packages (from anthropic) (2.7.1)\n",
            "Requirement already satisfied: sniffio in /usr/local/lib/python3.10/dist-packages (from anthropic) (1.3.1)\n",
            "Requirement already satisfied: tokenizers>=0.13.0 in /usr/local/lib/python3.10/dist-packages (from anthropic) (0.19.1)\n",
            "Requirement already satisfied: typing-extensions<5,>=4.7 in /usr/local/lib/python3.10/dist-packages (from anthropic) (4.11.0)\n",
            "Requirement already satisfied: idna>=2.8 in /usr/local/lib/python3.10/dist-packages (from anyio<5,>=3.5.0->anthropic) (3.7)\n",
            "Requirement already satisfied: exceptiongroup in /usr/local/lib/python3.10/dist-packages (from anyio<5,>=3.5.0->anthropic) (1.2.1)\n",
            "Requirement already satisfied: certifi in /usr/local/lib/python3.10/dist-packages (from httpx<1,>=0.23.0->anthropic) (2024.2.2)\n",
            "Collecting httpcore==1.* (from httpx<1,>=0.23.0->anthropic)\n",
            "  Downloading httpcore-1.0.5-py3-none-any.whl (77 kB)\n",
            "\u001b[2K     \u001b[90m━━━━━━━━━━━━━━━━━━━━━━━━━━━━━━━━━━━━━━━━\u001b[0m \u001b[32m77.9/77.9 kB\u001b[0m \u001b[31m8.4 MB/s\u001b[0m eta \u001b[36m0:00:00\u001b[0m\n",
            "\u001b[?25hCollecting h11<0.15,>=0.13 (from httpcore==1.*->httpx<1,>=0.23.0->anthropic)\n",
            "  Downloading h11-0.14.0-py3-none-any.whl (58 kB)\n",
            "\u001b[2K     \u001b[90m━━━━━━━━━━━━━━━━━━━━━━━━━━━━━━━━━━━━━━━━\u001b[0m \u001b[32m58.3/58.3 kB\u001b[0m \u001b[31m2.0 MB/s\u001b[0m eta \u001b[36m0:00:00\u001b[0m\n",
            "\u001b[?25hRequirement already satisfied: annotated-types>=0.4.0 in /usr/local/lib/python3.10/dist-packages (from pydantic<3,>=1.9.0->anthropic) (0.6.0)\n",
            "Requirement already satisfied: pydantic-core==2.18.2 in /usr/local/lib/python3.10/dist-packages (from pydantic<3,>=1.9.0->anthropic) (2.18.2)\n",
            "Requirement already satisfied: huggingface-hub<1.0,>=0.16.4 in /usr/local/lib/python3.10/dist-packages (from tokenizers>=0.13.0->anthropic) (0.20.3)\n",
            "Requirement already satisfied: filelock in /usr/local/lib/python3.10/dist-packages (from huggingface-hub<1.0,>=0.16.4->tokenizers>=0.13.0->anthropic) (3.14.0)\n",
            "Requirement already satisfied: fsspec>=2023.5.0 in /usr/local/lib/python3.10/dist-packages (from huggingface-hub<1.0,>=0.16.4->tokenizers>=0.13.0->anthropic) (2023.6.0)\n",
            "Requirement already satisfied: requests in /usr/local/lib/python3.10/dist-packages (from huggingface-hub<1.0,>=0.16.4->tokenizers>=0.13.0->anthropic) (2.31.0)\n",
            "Requirement already satisfied: tqdm>=4.42.1 in /usr/local/lib/python3.10/dist-packages (from huggingface-hub<1.0,>=0.16.4->tokenizers>=0.13.0->anthropic) (4.66.4)\n",
            "Requirement already satisfied: pyyaml>=5.1 in /usr/local/lib/python3.10/dist-packages (from huggingface-hub<1.0,>=0.16.4->tokenizers>=0.13.0->anthropic) (6.0.1)\n",
            "Requirement already satisfied: packaging>=20.9 in /usr/local/lib/python3.10/dist-packages (from huggingface-hub<1.0,>=0.16.4->tokenizers>=0.13.0->anthropic) (24.0)\n",
            "Requirement already satisfied: charset-normalizer<4,>=2 in /usr/local/lib/python3.10/dist-packages (from requests->huggingface-hub<1.0,>=0.16.4->tokenizers>=0.13.0->anthropic) (3.3.2)\n",
            "Requirement already satisfied: urllib3<3,>=1.21.1 in /usr/local/lib/python3.10/dist-packages (from requests->huggingface-hub<1.0,>=0.16.4->tokenizers>=0.13.0->anthropic) (2.0.7)\n",
            "Installing collected packages: h11, httpcore, httpx, anthropic\n",
            "Successfully installed anthropic-0.25.9 h11-0.14.0 httpcore-1.0.5 httpx-0.27.0\n"
          ]
        }
      ]
    },
    {
      "cell_type": "code",
      "execution_count": 5,
      "metadata": {
        "id": "7Qjk2D63v1Bl"
      },
      "outputs": [],
      "source": [
        "# Importing Anthropic & Setting Headers\n",
        "import anthropic\n",
        "\n",
        "client = anthropic.Anthropic(\n",
        "    # defaults to os.environ.get(\"ANTHROPIC_API_KEY\")\n",
        "    api_key=os.environ.get(\"ANTHROPIC_API_KEY\"),\n",
        ")"
      ]
    },
    {
      "cell_type": "markdown",
      "source": [
        "# 1. Prompt 1: Create Mathematical Model"
      ],
      "metadata": {
        "id": "kT7yKbJs18XR"
      }
    },
    {
      "cell_type": "code",
      "source": [
        "message = client.messages.create(\n",
        "    model=\"claude-3-opus-20240229\",\n",
        "    system=prompt1,\n",
        "    max_tokens=4096,\n",
        "    messages=[\n",
        "        {\"role\": \"user\", \"content\": problem_desc}\n",
        "    ]\n",
        ")\n",
        "\n",
        "response_p1 = message.content[0].text"
      ],
      "metadata": {
        "id": "R_6X0axq16D4"
      },
      "execution_count": 6,
      "outputs": []
    },
    {
      "cell_type": "code",
      "source": [
        "# Print response\n",
        "print(response_p1)"
      ],
      "metadata": {
        "colab": {
          "base_uri": "https://localhost:8080/"
        },
        "id": "Ra9Ox_PI38jg",
        "outputId": "0f080196-c3a2-4a85-f8e9-417ca2756ea2"
      },
      "execution_count": 7,
      "outputs": [
        {
          "output_type": "stream",
          "name": "stdout",
          "text": [
            "Thank you for providing the problem description. I will formulate a mathematical optimization model to address the supply purchasing problem for your company. The model will include parameters, decision variables, the objective function, and the constraints.\n",
            "\n",
            "Parameters:\n",
            "- i: index for raw materials (i = 1, 2)\n",
            "- j: index for drugs (j = 1, 2)\n",
            "- p_i: purchasing cost per unit of raw material i\n",
            "- c_j: operational cost per unit of drug j\n",
            "- s_j: selling price per unit of drug j\n",
            "- B: total budget for purchasing raw materials and operating the production process\n",
            "- M_j: maximum production capacity for drug j (in units)\n",
            "- R_i: maximum storage capacity for raw material i (in units)\n",
            "- a_ij: amount of active ingredient extracted from one unit of raw material i for drug j\n",
            "- d_j: required amount of active ingredient per unit of drug j\n",
            "- v_i: maximum variation in the amount of active ingredient extracted from raw material i (0.5% for i=1, 2% for i=2)\n",
            "\n",
            "Decision Variables:\n",
            "- x_i: amount of raw material i to purchase (in units)\n",
            "- y_j: amount of drug j to produce (in units)\n",
            "\n",
            "Objective Function:\n",
            "Maximize total profit:\n",
            "∑(j=1 to 2) s_j * y_j - ∑(i=1 to 2) p_i * x_i - ∑(j=1 to 2) c_j * y_j\n",
            "\n",
            "Constraints:\n",
            "1. Budget constraint:\n",
            "   ∑(i=1 to 2) p_i * x_i + ∑(j=1 to 2) c_j * y_j ≤ B\n",
            "\n",
            "2. Production capacity constraints:\n",
            "   y_j ≤ M_j, for j = 1, 2\n",
            "\n",
            "3. Raw material storage constraints:\n",
            "   x_i ≤ R_i, for i = 1, 2\n",
            "\n",
            "4. Active ingredient requirement constraints (considering the maximum variation):\n",
            "   ∑(i=1 to 2) a_ij * (1 - v_i) * x_i ≥ d_j * y_j, for j = 1, 2\n",
            "\n",
            "5. Non-negativity constraints:\n",
            "   x_i ≥ 0, for i = 1, 2\n",
            "   y_j ≥ 0, for j = 1, 2\n",
            "\n",
            "This mathematical optimization model aims to maximize the total profit by determining the optimal amounts of raw materials to purchase (x_i) and the optimal amounts of drugs to produce (y_j), while satisfying the budget, production capacity, raw material storage, and active ingredient requirement constraints. The active ingredient requirement constraints take into account the maximum variation in the amount of active ingredient extracted from each raw material to ensure that the required amount for drug production is always met.\n"
          ]
        }
      ]
    },
    {
      "cell_type": "markdown",
      "source": [
        "# 2. Prompt 2: Write Code based on Mathematical Model"
      ],
      "metadata": {
        "id": "WPZ6lgBO729j"
      }
    },
    {
      "cell_type": "code",
      "source": [
        "message2 = client.messages.create(\n",
        "    model=\"claude-3-opus-20240229\",\n",
        "    system=prompt2,\n",
        "    max_tokens=4069,\n",
        "    messages=[\n",
        "        {\"role\": \"user\", \"content\": response_p1}\n",
        "    ]\n",
        ")\n",
        "\n",
        "response_p2 = message2.content[0].text"
      ],
      "metadata": {
        "id": "1iUSgBda70FL"
      },
      "execution_count": 8,
      "outputs": []
    },
    {
      "cell_type": "code",
      "source": [
        "# Print response\n",
        "print(response_p2)"
      ],
      "metadata": {
        "colab": {
          "base_uri": "https://localhost:8080/"
        },
        "id": "o40mxc_H8eQ9",
        "outputId": "6877bc01-46f2-4818-8bed-2b7d759d7c84"
      },
      "execution_count": 9,
      "outputs": [
        {
          "output_type": "stream",
          "name": "stdout",
          "text": [
            "Here's the Python code using Pyomo for the optimization problem you described:\n",
            "\n",
            "```python\n",
            "from pyomo.environ import *\n",
            "\n",
            "# Create a Concrete Model\n",
            "model = ConcreteModel()\n",
            "\n",
            "# Define sets\n",
            "model.I = RangeSet(1, 2)  # Set of raw materials\n",
            "model.J = RangeSet(1, 2)  # Set of drugs\n",
            "\n",
            "# Define parameters (using sample data)\n",
            "model.p = Param(model.I, initialize={1: 10, 2: 15})  # Purchasing cost per unit of raw material\n",
            "model.c = Param(model.J, initialize={1: 5, 2: 8})  # Operational cost per unit of drug\n",
            "model.s = Param(model.J, initialize={1: 50, 2: 60})  # Selling price per unit of drug\n",
            "model.B = Param(initialize=1000)  # Total budget\n",
            "model.M = Param(model.J, initialize={1: 100, 2: 80})  # Maximum production capacity for each drug\n",
            "model.R = Param(model.I, initialize={1: 200, 2: 150})  # Maximum storage capacity for each raw material\n",
            "model.a = Param(model.I, model.J, initialize={(1, 1): 0.8, (1, 2): 0.6, (2, 1): 0.7, (2, 2): 0.9})  # Amount of active ingredient extracted\n",
            "model.d = Param(model.J, initialize={1: 0.5, 2: 0.4})  # Required amount of active ingredient per unit of drug\n",
            "model.v = Param(model.I, initialize={1: 0.005, 2: 0.02})  # Maximum variation in the amount of active ingredient extracted\n",
            "\n",
            "# Define decision variables\n",
            "model.x = Var(model.I, within=NonNegativeReals)  # Amount of raw material to purchase\n",
            "model.y = Var(model.J, within=NonNegativeReals)  # Amount of drug to produce\n",
            "\n",
            "# Define objective function\n",
            "def profit_rule(model):\n",
            "    return sum(model.s[j] * model.y[j] for j in model.J) - sum(model.p[i] * model.x[i] for i in model.I) - sum(model.c[j] * model.y[j] for j in model.J)\n",
            "model.profit = Objective(rule=profit_rule, sense=maximize)\n",
            "\n",
            "# Define constraints\n",
            "def budget_rule(model):\n",
            "    return sum(model.p[i] * model.x[i] for i in model.I) + sum(model.c[j] * model.y[j] for j in model.J) <= model.B\n",
            "model.budget_constraint = Constraint(rule=budget_rule)\n",
            "\n",
            "def production_capacity_rule(model, j):\n",
            "    return model.y[j] <= model.M[j]\n",
            "model.production_capacity_constraint = Constraint(model.J, rule=production_capacity_rule)\n",
            "\n",
            "def storage_capacity_rule(model, i):\n",
            "    return model.x[i] <= model.R[i]\n",
            "model.storage_capacity_constraint = Constraint(model.I, rule=storage_capacity_rule)\n",
            "\n",
            "def active_ingredient_rule(model, j):\n",
            "    return sum(model.a[i, j] * (1 - model.v[i]) * model.x[i] for i in model.I) >= model.d[j] * model.y[j]\n",
            "model.active_ingredient_constraint = Constraint(model.J, rule=active_ingredient_rule)\n",
            "\n",
            "# Solve the optimization problem\n",
            "opt = SolverFactory('glpk')\n",
            "results = opt.solve(model)\n",
            "\n",
            "# Print the results\n",
            "print(\"Optimal solution found with total profit: \", model.profit())\n",
            "print(\"Raw material purchases:\")\n",
            "for i in model.I:\n",
            "    print(f\"Raw material {i}: {model.x[i]():.2f} units\")\n",
            "print(\"Drug production:\")\n",
            "for j in model.J:\n",
            "    print(f\"Drug {j}: {model.y[j]():.2f} units\")\n",
            "```\n",
            "\n",
            "In this code, I used sample data for the parameters, which are marked with comments. You can replace these sample values with your actual data.\n",
            "\n",
            "The code follows the mathematical optimization model described earlier, defining the sets, parameters, decision variables, objective function, and constraints using Pyomo. The `glpk` solver is used to solve the optimization problem, but you can choose a different solver if desired.\n",
            "\n",
            "After solving the problem, the code prints the optimal total profit and the optimal values for the decision variables (raw material purchases and drug production quantities).\n"
          ]
        }
      ]
    },
    {
      "cell_type": "markdown",
      "source": [
        "# 4. Input Problem Data and Test Model Code"
      ],
      "metadata": {
        "id": "Pc0QqJuf8up_"
      }
    },
    {
      "cell_type": "code",
      "source": [
        "# Installing pyomo nd solver\n",
        "!pip install -q pyomo\n",
        "!apt-get install -y -qq glpk-utils\n",
        "!pip install glpk"
      ],
      "metadata": {
        "colab": {
          "base_uri": "https://localhost:8080/"
        },
        "id": "3BtROuLu9O-p",
        "outputId": "5e9b79a6-6d79-4352-c388-3069b13a0f62",
        "collapsed": true
      },
      "execution_count": 10,
      "outputs": [
        {
          "output_type": "stream",
          "name": "stdout",
          "text": [
            "\u001b[2K     \u001b[90m━━━━━━━━━━━━━━━━━━━━━━━━━━━━━━━━━━━━━━━━\u001b[0m \u001b[32m12.8/12.8 MB\u001b[0m \u001b[31m29.3 MB/s\u001b[0m eta \u001b[36m0:00:00\u001b[0m\n",
            "\u001b[2K     \u001b[90m━━━━━━━━━━━━━━━━━━━━━━━━━━━━━━━━━━━━━━━━\u001b[0m \u001b[32m49.6/49.6 kB\u001b[0m \u001b[31m4.0 MB/s\u001b[0m eta \u001b[36m0:00:00\u001b[0m\n",
            "\u001b[?25hSelecting previously unselected package libsuitesparseconfig5:amd64.\n",
            "(Reading database ... 121918 files and directories currently installed.)\n",
            "Preparing to unpack .../libsuitesparseconfig5_1%3a5.10.1+dfsg-4build1_amd64.deb ...\n",
            "Unpacking libsuitesparseconfig5:amd64 (1:5.10.1+dfsg-4build1) ...\n",
            "Selecting previously unselected package libamd2:amd64.\n",
            "Preparing to unpack .../libamd2_1%3a5.10.1+dfsg-4build1_amd64.deb ...\n",
            "Unpacking libamd2:amd64 (1:5.10.1+dfsg-4build1) ...\n",
            "Selecting previously unselected package libcolamd2:amd64.\n",
            "Preparing to unpack .../libcolamd2_1%3a5.10.1+dfsg-4build1_amd64.deb ...\n",
            "Unpacking libcolamd2:amd64 (1:5.10.1+dfsg-4build1) ...\n",
            "Selecting previously unselected package libglpk40:amd64.\n",
            "Preparing to unpack .../libglpk40_5.0-1_amd64.deb ...\n",
            "Unpacking libglpk40:amd64 (5.0-1) ...\n",
            "Selecting previously unselected package glpk-utils.\n",
            "Preparing to unpack .../glpk-utils_5.0-1_amd64.deb ...\n",
            "Unpacking glpk-utils (5.0-1) ...\n",
            "Setting up libsuitesparseconfig5:amd64 (1:5.10.1+dfsg-4build1) ...\n",
            "Setting up libamd2:amd64 (1:5.10.1+dfsg-4build1) ...\n",
            "Setting up libcolamd2:amd64 (1:5.10.1+dfsg-4build1) ...\n",
            "Setting up libglpk40:amd64 (5.0-1) ...\n",
            "Setting up glpk-utils (5.0-1) ...\n",
            "Processing triggers for man-db (2.10.2-1) ...\n",
            "Processing triggers for libc-bin (2.35-0ubuntu3.4) ...\n",
            "/sbin/ldconfig.real: /usr/local/lib/libtbbbind_2_5.so.3 is not a symbolic link\n",
            "\n",
            "/sbin/ldconfig.real: /usr/local/lib/libtbbmalloc.so.2 is not a symbolic link\n",
            "\n",
            "/sbin/ldconfig.real: /usr/local/lib/libtbbbind.so.3 is not a symbolic link\n",
            "\n",
            "/sbin/ldconfig.real: /usr/local/lib/libtbbmalloc_proxy.so.2 is not a symbolic link\n",
            "\n",
            "/sbin/ldconfig.real: /usr/local/lib/libtbb.so.12 is not a symbolic link\n",
            "\n",
            "/sbin/ldconfig.real: /usr/local/lib/libtbbbind_2_0.so.3 is not a symbolic link\n",
            "\n",
            "Collecting glpk\n",
            "  Downloading glpk-0.4.7.tar.gz (161 kB)\n",
            "\u001b[2K     \u001b[90m━━━━━━━━━━━━━━━━━━━━━━━━━━━━━━━━━━━━━━━━\u001b[0m \u001b[32m161.2/161.2 kB\u001b[0m \u001b[31m2.6 MB/s\u001b[0m eta \u001b[36m0:00:00\u001b[0m\n",
            "\u001b[?25h  Installing build dependencies ... \u001b[?25l\u001b[?25hdone\n",
            "  Getting requirements to build wheel ... \u001b[?25l\u001b[?25hdone\n",
            "  Preparing metadata (pyproject.toml) ... \u001b[?25l\u001b[?25hdone\n",
            "Building wheels for collected packages: glpk\n",
            "  \u001b[1;31merror\u001b[0m: \u001b[1msubprocess-exited-with-error\u001b[0m\n",
            "  \n",
            "  \u001b[31m×\u001b[0m \u001b[32mBuilding wheel for glpk \u001b[0m\u001b[1;32m(\u001b[0m\u001b[32mpyproject.toml\u001b[0m\u001b[1;32m)\u001b[0m did not run successfully.\n",
            "  \u001b[31m│\u001b[0m exit code: \u001b[1;36m1\u001b[0m\n",
            "  \u001b[31m╰─>\u001b[0m See above for output.\n",
            "  \n",
            "  \u001b[1;35mnote\u001b[0m: This error originates from a subprocess, and is likely not a problem with pip.\n",
            "  Building wheel for glpk (pyproject.toml) ... \u001b[?25l\u001b[?25herror\n",
            "\u001b[31m  ERROR: Failed building wheel for glpk\u001b[0m\u001b[31m\n",
            "\u001b[0mFailed to build glpk\n",
            "\u001b[31mERROR: Could not build wheels for glpk, which is required to install pyproject.toml-based projects\u001b[0m\u001b[31m\n",
            "\u001b[0m"
          ]
        }
      ]
    },
    {
      "cell_type": "code",
      "source": [
        "from pyomo.environ import *\n",
        "\n",
        "# Create a Concrete Model\n",
        "model = ConcreteModel()\n",
        "\n",
        "# Define sets\n",
        "model.I = RangeSet(1, 2)  # Set of raw materials\n",
        "model.J = RangeSet(1, 2)  # Set of drugs\n",
        "\n",
        "# Define parameters (using sample data)\n",
        "model.p = Param(model.I, initialize={1: 100, 2: 199.90})  # Purchasing cost per unit of raw material\n",
        "model.c = Param(model.J, initialize={1: 700, 2: 800})  # Operational cost per unit of drug\n",
        "model.s = Param(model.J, initialize={1: 6200, 2: 6900})  # Selling price per unit of drug\n",
        "model.B = Param(initialize=100000)  # Total budget\n",
        "model.M = Param(model.J, initialize={1: 100, 2: 80})  # Maximum production capacity for each drug\n",
        "model.R = Param(model.I, initialize={1: 1000, 2: 1000})  # Maximum storage capacity for each raw material\n",
        "model.a = Param(model.I, model.J, initialize={(1, 1): 0.01, (1, 2): 0.01, (2, 1): 0.02, (2, 2): 0.02})  # Amount of active ingredient extracted\n",
        "model.d = Param(model.J, initialize={1: 0.5, 2: 0.6})  # Required amount of active ingredient per unit of drug\n",
        "model.v = Param(model.I, initialize={1: 0.005, 2: 0.02})  # Maximum variation in the amount of active ingredient extracted\n",
        "\n",
        "# Define decision variables\n",
        "model.x = Var(model.I, within=NonNegativeReals)  # Amount of raw material to purchase\n",
        "model.y = Var(model.J, within=NonNegativeReals)  # Amount of drug to produce\n",
        "\n",
        "# Define objective function\n",
        "def profit_rule(model):\n",
        "    return sum(model.s[j] * model.y[j] for j in model.J) - sum(model.p[i] * model.x[i] for i in model.I) - sum(model.c[j] * model.y[j] for j in model.J)\n",
        "model.profit = Objective(rule=profit_rule, sense=maximize)\n",
        "\n",
        "# Define constraints\n",
        "def budget_rule(model):\n",
        "    return sum(model.p[i] * model.x[i] for i in model.I) + sum(model.c[j] * model.y[j] for j in model.J) <= model.B\n",
        "model.budget_constraint = Constraint(rule=budget_rule)\n",
        "\n",
        "def production_capacity_rule(model, j):\n",
        "    return model.y[j] <= model.M[j]\n",
        "model.production_capacity_constraint = Constraint(model.J, rule=production_capacity_rule)\n",
        "\n",
        "def storage_capacity_rule(model, i):\n",
        "    return model.x[i] <= model.R[i]\n",
        "model.storage_capacity_constraint = Constraint(model.I, rule=storage_capacity_rule)\n",
        "\n",
        "def active_ingredient_rule(model, j):\n",
        "    return sum(model.a[i, j] * (1 - model.v[i]) * model.x[i] for i in model.I) >= model.d[j] * model.y[j]\n",
        "model.active_ingredient_constraint = Constraint(model.J, rule=active_ingredient_rule)\n",
        "\n",
        "# Solve the optimization problem\n",
        "opt = SolverFactory('glpk')\n",
        "results = opt.solve(model)\n",
        "\n",
        "# Print the results\n",
        "print(\"Optimal solution found with total profit: \", model.profit())\n",
        "print(\"Raw material purchases:\")\n",
        "for i in model.I:\n",
        "    print(f\"Raw material {i}: {model.x[i]():.2f} units\")\n",
        "print(\"Drug production:\")\n",
        "for j in model.J:\n",
        "    print(f\"Drug {j}: {model.y[j]():.2f} units\")"
      ],
      "metadata": {
        "colab": {
          "base_uri": "https://localhost:8080/"
        },
        "id": "8FpHcuWU8rQ2",
        "outputId": "ad96d27c-eb5f-4712-a4ed-8c043f9b4077"
      },
      "execution_count": 11,
      "outputs": [
        {
          "output_type": "stream",
          "name": "stdout",
          "text": [
            "Optimal solution found with total profit:  86958.51568437305\n",
            "Raw material purchases:\n",
            "Raw material 1: 786.18 units\n",
            "Raw material 2: 0.00 units\n",
            "Drug production:\n",
            "Drug 1: 15.65 units\n",
            "Drug 2: 13.04 units\n"
          ]
        }
      ]
    },
    {
      "cell_type": "markdown",
      "source": [
        "# 5. Correct The Model Code to Test Mathematical Model (if applicable)"
      ],
      "metadata": {
        "id": "KHTyoLQTWZVy"
      }
    },
    {
      "cell_type": "code",
      "source": [],
      "metadata": {
        "id": "REJzqhR6WYvM"
      },
      "execution_count": null,
      "outputs": []
    }
  ]
}