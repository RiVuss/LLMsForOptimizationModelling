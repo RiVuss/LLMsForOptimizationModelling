{
 "cells": [
  {
   "cell_type": "code",
   "execution_count": 1,
   "id": "e5c2c174",
   "metadata": {},
   "outputs": [],
   "source": [
    "import os\n",
    "from mistralai.client import MistralClient\n",
    "from mistralai.models.chat_completion import ChatMessage\n",
    "from IPython.display import display, Markdown, Latex\n",
    "from datetime import datetime"
   ]
  },
  {
   "cell_type": "code",
   "execution_count": 2,
   "id": "b0c91a62",
   "metadata": {},
   "outputs": [
    {
     "name": "stdout",
     "output_type": "stream",
     "text": [
      "Time of execution: 2024-05-22 12:20:45.213012\n"
     ]
    }
   ],
   "source": [
    "API_KEY = os.environ['MISTRAL_API_KEY']\n",
    "\n",
    "MODEL_ID = 'open-mixtral-8x22b'\n",
    "MODEL_SEED = 2\n",
    "MODEL_TEMPERATURE = 0.7\n",
    "\n",
    "file_system_prompt_1 = open(\"../../system_prompt_1.txt\", \"r\")\n",
    "file_system_prompt_2 = open(\"../../system_prompt_2.txt\", \"r\")\n",
    "SYSTEM_PROMPT_1 = file_system_prompt_1.read()\n",
    "SYSTEM_PROMPT_2 = file_system_prompt_2.read()\n",
    "file_system_prompt_1.close()\n",
    "file_system_prompt_2.close()\n",
    "\n",
    "FILE_PATH_PROBLEM = '../../../../Datasets/IP_2_Choosing_Investment_Strategies/'\n",
    "assert(FILE_PATH_PROBLEM != '../../../../Datasets/')\n",
    "file_problem_description = open(FILE_PATH_PROBLEM + 'ProblemDescription.txt', 'r')\n",
    "PROBLEM_DESCRIPTION = file_problem_description.read()\n",
    "file_problem_description.close()\n",
    "\n",
    "\n",
    "client = MistralClient(api_key=API_KEY)\n",
    "\n",
    "print(f'Time of execution: {datetime.now()}')"
   ]
  },
  {
   "cell_type": "markdown",
   "id": "3e540824",
   "metadata": {},
   "source": [
    "## Step 1 - Generate Mathematical Formulation "
   ]
  },
  {
   "cell_type": "code",
   "execution_count": 3,
   "id": "174c127b",
   "metadata": {},
   "outputs": [],
   "source": [
    "messages_1 = [\n",
    "    ChatMessage(role=\"system\", content=SYSTEM_PROMPT_1),\n",
    "    ChatMessage(role=\"user\", content=PROBLEM_DESCRIPTION)\n",
    "]"
   ]
  },
  {
   "cell_type": "code",
   "execution_count": 4,
   "id": "d43340f3",
   "metadata": {},
   "outputs": [],
   "source": [
    "response_1 = client.chat(\n",
    "    model=MODEL_ID,\n",
    "    messages=messages_1,\n",
    "    random_seed=MODEL_SEED,\n",
    "    temperature=MODEL_TEMPERATURE \n",
    ")\n",
    "\n",
    "response_1_text = response_1.choices[0].message.content"
   ]
  },
  {
   "cell_type": "code",
   "execution_count": 5,
   "id": "03616e62",
   "metadata": {},
   "outputs": [
    {
     "data": {
      "text/markdown": [
       "To formulate a mean-variance mathematical model for this optimization problem, we will use the following parameters, decision variables, objective function, and constraints:\n",
       "\n",
       "Parameters:\n",
       "- \\(N\\) is the number of investment strategies (10 in this case).\n",
       "- \\(A\\) is the cost vector, where \\(A_i\\) is the cost of investing in strategy \\(i\\).\n",
       "- \\(R\\) is the return matrix, where \\(R_{ij}\\) is the return of strategy \\(i\\) in scenario \\(j\\).\n",
       "- \\(B\\) is the budget scenario vector, where \\(B_j\\) is the budget for scenario \\(j\\).\n",
       "- \\(P\\) is the probability vector, where \\(P_j\\) is the probability of budget scenario \\(j\\).\n",
       "\n",
       "Decision Variables:\n",
       "- \\(x_i \\in \\{0,1\\}\\) is a binary decision variable that represents whether or not to invest in strategy \\(i\\).\n",
       "\n",
       "Objective Function:\n",
       "Maximize the expected return with a risk parameter \\(r\\) (set to 2 in this case):\n",
       "\\[ \\max \\left( \\sum_{i=1}^{N} \\left( \\frac{1}{M} \\sum_{j=1}^{M} R_{ij} \\right) x_i - r \\sum_{i=1}^{N} \\left( \\frac{1}{M} \\sum_{j=1}^{M} (R_{ij} - \\mu)^2 \\right) x_i \\right) \\]\n",
       "\n",
       "where \\(M\\) is the number of budget scenarios, and \\(\\mu\\) is the mean return of all strategies in all scenarios:\n",
       "\\[ \\mu = \\frac{1}{N \\cdot M} \\sum_{i=1}^{N} \\sum_{j=1}^{M} R_{ij} \\]\n",
       "\n",
       "Constraints:\n",
       "1. Budget constraint: The total cost of investments should not exceed the budget with a tolerable probability of exceeding the budget of 0.4.\n",
       "\\[ \\sum_{i=1}^{N} A_i x_i \\leq \\sum_{j=1}^{M} B_j P_j \\cdot (1 - 0.4) \\]\n",
       "\n",
       "2. Investment constraint: You can only invest once into an investment.\n",
       "\\[ \\sum_{i=1}^{N} x_i \\leq 1 \\]\n",
       "\n",
       "This mean-variance optimization model aims to maximize the expected return while minimizing the risk, considering the past performance of investment strategies and the uncertain budget. The decision variables \\(x_i\\) indicate whether to invest in each strategy, and the constraints ensure that the budget is not exceeded and that each strategy is invested in at most once."
      ],
      "text/plain": [
       "<IPython.core.display.Markdown object>"
      ]
     },
     "execution_count": 5,
     "metadata": {},
     "output_type": "execute_result"
    }
   ],
   "source": [
    "Markdown(response_1_text)"
   ]
  },
  {
   "cell_type": "code",
   "execution_count": 6,
   "id": "b6a33171",
   "metadata": {},
   "outputs": [
    {
     "name": "stdout",
     "output_type": "stream",
     "text": [
      "To formulate a mean-variance mathematical model for this optimization problem, we will use the following parameters, decision variables, objective function, and constraints:\n",
      "\n",
      "Parameters:\n",
      "- \\(N\\) is the number of investment strategies (10 in this case).\n",
      "- \\(A\\) is the cost vector, where \\(A_i\\) is the cost of investing in strategy \\(i\\).\n",
      "- \\(R\\) is the return matrix, where \\(R_{ij}\\) is the return of strategy \\(i\\) in scenario \\(j\\).\n",
      "- \\(B\\) is the budget scenario vector, where \\(B_j\\) is the budget for scenario \\(j\\).\n",
      "- \\(P\\) is the probability vector, where \\(P_j\\) is the probability of budget scenario \\(j\\).\n",
      "\n",
      "Decision Variables:\n",
      "- \\(x_i \\in \\{0,1\\}\\) is a binary decision variable that represents whether or not to invest in strategy \\(i\\).\n",
      "\n",
      "Objective Function:\n",
      "Maximize the expected return with a risk parameter \\(r\\) (set to 2 in this case):\n",
      "\\[ \\max \\left( \\sum_{i=1}^{N} \\left( \\frac{1}{M} \\sum_{j=1}^{M} R_{ij} \\right) x_i - r \\sum_{i=1}^{N} \\left( \\frac{1}{M} \\sum_{j=1}^{M} (R_{ij} - \\mu)^2 \\right) x_i \\right) \\]\n",
      "\n",
      "where \\(M\\) is the number of budget scenarios, and \\(\\mu\\) is the mean return of all strategies in all scenarios:\n",
      "\\[ \\mu = \\frac{1}{N \\cdot M} \\sum_{i=1}^{N} \\sum_{j=1}^{M} R_{ij} \\]\n",
      "\n",
      "Constraints:\n",
      "1. Budget constraint: The total cost of investments should not exceed the budget with a tolerable probability of exceeding the budget of 0.4.\n",
      "\\[ \\sum_{i=1}^{N} A_i x_i \\leq \\sum_{j=1}^{M} B_j P_j \\cdot (1 - 0.4) \\]\n",
      "\n",
      "2. Investment constraint: You can only invest once into an investment.\n",
      "\\[ \\sum_{i=1}^{N} x_i \\leq 1 \\]\n",
      "\n",
      "This mean-variance optimization model aims to maximize the expected return while minimizing the risk, considering the past performance of investment strategies and the uncertain budget. The decision variables \\(x_i\\) indicate whether to invest in each strategy, and the constraints ensure that the budget is not exceeded and that each strategy is invested in at most once.\n"
     ]
    }
   ],
   "source": [
    "print(response_1_text)"
   ]
  },
  {
   "cell_type": "markdown",
   "id": "27b5f89a",
   "metadata": {},
   "source": [
    "## Step 2 - Generate the Pyomo Code"
   ]
  },
  {
   "cell_type": "code",
   "execution_count": 7,
   "id": "a4c3312f",
   "metadata": {},
   "outputs": [],
   "source": [
    "messages_2 = [\n",
    "    ChatMessage(role=\"system\", content=SYSTEM_PROMPT_2),\n",
    "    ChatMessage(role=\"user\", content=response_1_text)\n",
    "]"
   ]
  },
  {
   "cell_type": "code",
   "execution_count": 8,
   "id": "4212d99d",
   "metadata": {},
   "outputs": [],
   "source": [
    "response_2 = client.chat(\n",
    "    model=MODEL_ID,\n",
    "    messages=messages_2,\n",
    "    random_seed=MODEL_SEED,\n",
    "    temperature=MODEL_TEMPERATURE\n",
    ")\n",
    "\n",
    "response_2_text = response_2.choices[0].message.content"
   ]
  },
  {
   "cell_type": "code",
   "execution_count": 9,
   "id": "c168a60b",
   "metadata": {},
   "outputs": [
    {
     "data": {
      "text/markdown": [
       "Here is a Python Pyomo code for the given optimization problem. I have used sample data for the parameters as indicated in the comments.\n",
       "\n",
       "```python\n",
       "import pyomo.environ as pyo\n",
       "import numpy as np\n",
       "\n",
       "# Sample data\n",
       "N = 10  # number of investment strategies\n",
       "M = 5  # number of budget scenarios\n",
       "A = np.random.rand(N)  # cost vector\n",
       "R = np.random.rand(N, M)  # return matrix\n",
       "B = np.random.rand(M)  # budget scenario vector\n",
       "P = np.random.rand(M)  # probability vector\n",
       "P = P / np.sum(P)  # normalize probability vector\n",
       "\n",
       "r = 2  # risk parameter\n",
       "\n",
       "# Pyomo model\n",
       "model = pyo.ConcreteModel()\n",
       "\n",
       "# Decision variables\n",
       "model.x = pyo.Var(range(N), domain=pyo.Binary)\n",
       "\n",
       "# Objective function\n",
       "def obj_rule(model):\n",
       "    mu = np.mean(R)  # mean return of all strategies in all scenarios\n",
       "    return (np.mean(np.mean(R, axis=1) * model.x) -\n",
       "            r * np.mean(np.mean((R - mu)**2, axis=1) * model.x))\n",
       "\n",
       "model.obj = pyo.Objective(rule=obj_rule, sense=pyo.maximize)\n",
       "\n",
       "# Constraints\n",
       "model.budget_constraint = pyo.Constraint(\n",
       "    expr=sum(A[i] * model.x[i] for i in range(N)) <=\n",
       "    sum(B[j] * P[j] for j in range(M)) * 0.6  # tolerable probability of exceeding budget\n",
       ")\n",
       "\n",
       "model.investment_constraint = pyo.Constraint(\n",
       "    expr=sum(model.x[i] for i in range(N)) <= 1  # invest in at most one strategy\n",
       ")\n",
       "\n",
       "# Solve the model\n",
       "solver = pyo.SolverFactory('glpk')\n",
       "results = solver.solve(model)\n",
       "\n",
       "# Print the results\n",
       "if results.solver.status == pyo.SolverStatus.ok:\n",
       "    print(\"Objective value:\", pyo.value(model.obj))\n",
       "    print(\"Decision variables:\")\n",
       "    for i in range(N):\n",
       "        print(f\"x[{i}]: {pyo.value(model.x[i])}\")\n",
       "else:\n",
       "    print(\"Error! Unable to solve the model.\")\n",
       "```"
      ],
      "text/plain": [
       "<IPython.core.display.Markdown object>"
      ]
     },
     "execution_count": 9,
     "metadata": {},
     "output_type": "execute_result"
    }
   ],
   "source": [
    "Markdown(response_2_text)"
   ]
  },
  {
   "cell_type": "code",
   "execution_count": 10,
   "id": "a380c180",
   "metadata": {},
   "outputs": [
    {
     "name": "stdout",
     "output_type": "stream",
     "text": [
      "Here is a Python Pyomo code for the given optimization problem. I have used sample data for the parameters as indicated in the comments.\n",
      "\n",
      "```python\n",
      "import pyomo.environ as pyo\n",
      "import numpy as np\n",
      "\n",
      "# Sample data\n",
      "N = 10  # number of investment strategies\n",
      "M = 5  # number of budget scenarios\n",
      "A = np.random.rand(N)  # cost vector\n",
      "R = np.random.rand(N, M)  # return matrix\n",
      "B = np.random.rand(M)  # budget scenario vector\n",
      "P = np.random.rand(M)  # probability vector\n",
      "P = P / np.sum(P)  # normalize probability vector\n",
      "\n",
      "r = 2  # risk parameter\n",
      "\n",
      "# Pyomo model\n",
      "model = pyo.ConcreteModel()\n",
      "\n",
      "# Decision variables\n",
      "model.x = pyo.Var(range(N), domain=pyo.Binary)\n",
      "\n",
      "# Objective function\n",
      "def obj_rule(model):\n",
      "    mu = np.mean(R)  # mean return of all strategies in all scenarios\n",
      "    return (np.mean(np.mean(R, axis=1) * model.x) -\n",
      "            r * np.mean(np.mean((R - mu)**2, axis=1) * model.x))\n",
      "\n",
      "model.obj = pyo.Objective(rule=obj_rule, sense=pyo.maximize)\n",
      "\n",
      "# Constraints\n",
      "model.budget_constraint = pyo.Constraint(\n",
      "    expr=sum(A[i] * model.x[i] for i in range(N)) <=\n",
      "    sum(B[j] * P[j] for j in range(M)) * 0.6  # tolerable probability of exceeding budget\n",
      ")\n",
      "\n",
      "model.investment_constraint = pyo.Constraint(\n",
      "    expr=sum(model.x[i] for i in range(N)) <= 1  # invest in at most one strategy\n",
      ")\n",
      "\n",
      "# Solve the model\n",
      "solver = pyo.SolverFactory('glpk')\n",
      "results = solver.solve(model)\n",
      "\n",
      "# Print the results\n",
      "if results.solver.status == pyo.SolverStatus.ok:\n",
      "    print(\"Objective value:\", pyo.value(model.obj))\n",
      "    print(\"Decision variables:\")\n",
      "    for i in range(N):\n",
      "        print(f\"x[{i}]: {pyo.value(model.x[i])}\")\n",
      "else:\n",
      "    print(\"Error! Unable to solve the model.\")\n",
      "```\n"
     ]
    }
   ],
   "source": [
    "print(response_2_text)"
   ]
  },
  {
   "cell_type": "markdown",
   "id": "879cc7ae",
   "metadata": {},
   "source": [
    "### Code Executability"
   ]
  },
  {
   "cell_type": "code",
   "execution_count": 11,
   "id": "f1d9a625",
   "metadata": {},
   "outputs": [
    {
     "name": "stderr",
     "output_type": "stream",
     "text": [
      "2024-05-22 12:29:24,736 ERROR pyomo.core: Rule failed when generating expression for Objective obj with index None:\n",
      "UnboundLocalError: local variable 'args' referenced before assignment\n",
      "2024-05-22 12:29:24,738 ERROR pyomo.core: Constructing component 'obj' from data=None failed:\n",
      "UnboundLocalError: local variable 'args' referenced before assignment\n"
     ]
    },
    {
     "ename": "UnboundLocalError",
     "evalue": "local variable 'args' referenced before assignment",
     "output_type": "error",
     "traceback": [
      "\u001b[1;31m---------------------------------------------------------------------------\u001b[0m",
      "\u001b[1;31mUnboundLocalError\u001b[0m                         Traceback (most recent call last)",
      "Input \u001b[1;32mIn [11]\u001b[0m, in \u001b[0;36m<cell line: 27>\u001b[1;34m()\u001b[0m\n\u001b[0;32m     23\u001b[0m     mu \u001b[38;5;241m=\u001b[39m np\u001b[38;5;241m.\u001b[39mmean(R)  \u001b[38;5;66;03m# mean return of all strategies in all scenarios\u001b[39;00m\n\u001b[0;32m     24\u001b[0m     \u001b[38;5;28;01mreturn\u001b[39;00m (np\u001b[38;5;241m.\u001b[39mmean(np\u001b[38;5;241m.\u001b[39mmean(R, axis\u001b[38;5;241m=\u001b[39m\u001b[38;5;241m1\u001b[39m) \u001b[38;5;241m*\u001b[39m model\u001b[38;5;241m.\u001b[39mx) \u001b[38;5;241m-\u001b[39m\n\u001b[0;32m     25\u001b[0m             r \u001b[38;5;241m*\u001b[39m np\u001b[38;5;241m.\u001b[39mmean(np\u001b[38;5;241m.\u001b[39mmean((R \u001b[38;5;241m-\u001b[39m mu)\u001b[38;5;241m*\u001b[39m\u001b[38;5;241m*\u001b[39m\u001b[38;5;241m2\u001b[39m, axis\u001b[38;5;241m=\u001b[39m\u001b[38;5;241m1\u001b[39m) \u001b[38;5;241m*\u001b[39m model\u001b[38;5;241m.\u001b[39mx))\n\u001b[1;32m---> 27\u001b[0m model\u001b[38;5;241m.\u001b[39mobj \u001b[38;5;241m=\u001b[39m pyo\u001b[38;5;241m.\u001b[39mObjective(rule\u001b[38;5;241m=\u001b[39mobj_rule, sense\u001b[38;5;241m=\u001b[39mpyo\u001b[38;5;241m.\u001b[39mmaximize)\n\u001b[0;32m     29\u001b[0m \u001b[38;5;66;03m# Constraints\u001b[39;00m\n\u001b[0;32m     30\u001b[0m model\u001b[38;5;241m.\u001b[39mbudget_constraint \u001b[38;5;241m=\u001b[39m pyo\u001b[38;5;241m.\u001b[39mConstraint(\n\u001b[0;32m     31\u001b[0m     expr\u001b[38;5;241m=\u001b[39m\u001b[38;5;28msum\u001b[39m(A[i] \u001b[38;5;241m*\u001b[39m model\u001b[38;5;241m.\u001b[39mx[i] \u001b[38;5;28;01mfor\u001b[39;00m i \u001b[38;5;129;01min\u001b[39;00m \u001b[38;5;28mrange\u001b[39m(N)) \u001b[38;5;241m<\u001b[39m\u001b[38;5;241m=\u001b[39m\n\u001b[0;32m     32\u001b[0m     \u001b[38;5;28msum\u001b[39m(B[j] \u001b[38;5;241m*\u001b[39m P[j] \u001b[38;5;28;01mfor\u001b[39;00m j \u001b[38;5;129;01min\u001b[39;00m \u001b[38;5;28mrange\u001b[39m(M)) \u001b[38;5;241m*\u001b[39m \u001b[38;5;241m0.6\u001b[39m  \u001b[38;5;66;03m# tolerable probability of exceeding budget\u001b[39;00m\n\u001b[0;32m     33\u001b[0m )\n",
      "File \u001b[1;32m~\\AppData\\Roaming\\Python\\Python310\\site-packages\\pyomo\\core\\base\\block.py:639\u001b[0m, in \u001b[0;36m_BlockData.__setattr__\u001b[1;34m(self, name, val)\u001b[0m\n\u001b[0;32m    634\u001b[0m \u001b[38;5;28;01mif\u001b[39;00m name \u001b[38;5;129;01mnot\u001b[39;00m \u001b[38;5;129;01min\u001b[39;00m \u001b[38;5;28mself\u001b[39m\u001b[38;5;241m.\u001b[39m\u001b[38;5;18m__dict__\u001b[39m:\n\u001b[0;32m    635\u001b[0m     \u001b[38;5;28;01mif\u001b[39;00m \u001b[38;5;28misinstance\u001b[39m(val, Component):\n\u001b[0;32m    636\u001b[0m         \u001b[38;5;66;03m#\u001b[39;00m\n\u001b[0;32m    637\u001b[0m         \u001b[38;5;66;03m# Pyomo components are added with the add_component method.\u001b[39;00m\n\u001b[0;32m    638\u001b[0m         \u001b[38;5;66;03m#\u001b[39;00m\n\u001b[1;32m--> 639\u001b[0m         \u001b[38;5;28;43mself\u001b[39;49m\u001b[38;5;241;43m.\u001b[39;49m\u001b[43madd_component\u001b[49m\u001b[43m(\u001b[49m\u001b[43mname\u001b[49m\u001b[43m,\u001b[49m\u001b[43m \u001b[49m\u001b[43mval\u001b[49m\u001b[43m)\u001b[49m\n\u001b[0;32m    640\u001b[0m     \u001b[38;5;28;01melse\u001b[39;00m:\n\u001b[0;32m    641\u001b[0m         \u001b[38;5;66;03m#\u001b[39;00m\n\u001b[0;32m    642\u001b[0m         \u001b[38;5;66;03m# Other Python objects are added with the standard __setattr__\u001b[39;00m\n\u001b[0;32m    643\u001b[0m         \u001b[38;5;66;03m# method.\u001b[39;00m\n\u001b[0;32m    644\u001b[0m         \u001b[38;5;66;03m#\u001b[39;00m\n\u001b[0;32m    645\u001b[0m         \u001b[38;5;28msuper\u001b[39m(_BlockData, \u001b[38;5;28mself\u001b[39m)\u001b[38;5;241m.\u001b[39m\u001b[38;5;21m__setattr__\u001b[39m(name, val)\n",
      "File \u001b[1;32m~\\AppData\\Roaming\\Python\\Python310\\site-packages\\pyomo\\core\\base\\block.py:1186\u001b[0m, in \u001b[0;36m_BlockData.add_component\u001b[1;34m(self, name, val)\u001b[0m\n\u001b[0;32m   1182\u001b[0m     logger\u001b[38;5;241m.\u001b[39mdebug(\u001b[38;5;124m\"\u001b[39m\u001b[38;5;124mConstructing \u001b[39m\u001b[38;5;132;01m%s\u001b[39;00m\u001b[38;5;124m \u001b[39m\u001b[38;5;124m'\u001b[39m\u001b[38;5;132;01m%s\u001b[39;00m\u001b[38;5;124m'\u001b[39m\u001b[38;5;124m on \u001b[39m\u001b[38;5;132;01m%s\u001b[39;00m\u001b[38;5;124m from data=\u001b[39m\u001b[38;5;132;01m%s\u001b[39;00m\u001b[38;5;124m\"\u001b[39m,\n\u001b[0;32m   1183\u001b[0m                  val\u001b[38;5;241m.\u001b[39m\u001b[38;5;18m__class__\u001b[39m\u001b[38;5;241m.\u001b[39m\u001b[38;5;18m__name__\u001b[39m, name,\n\u001b[0;32m   1184\u001b[0m                  _blockName, \u001b[38;5;28mstr\u001b[39m(data))\n\u001b[0;32m   1185\u001b[0m \u001b[38;5;28;01mtry\u001b[39;00m:\n\u001b[1;32m-> 1186\u001b[0m     \u001b[43mval\u001b[49m\u001b[38;5;241;43m.\u001b[39;49m\u001b[43mconstruct\u001b[49m\u001b[43m(\u001b[49m\u001b[43mdata\u001b[49m\u001b[43m)\u001b[49m\n\u001b[0;32m   1187\u001b[0m \u001b[38;5;28;01mexcept\u001b[39;00m:\n\u001b[0;32m   1188\u001b[0m     err \u001b[38;5;241m=\u001b[39m sys\u001b[38;5;241m.\u001b[39mexc_info()[\u001b[38;5;241m1\u001b[39m]\n",
      "File \u001b[1;32m~\\AppData\\Roaming\\Python\\Python310\\site-packages\\pyomo\\core\\base\\objective.py:334\u001b[0m, in \u001b[0;36mObjective.construct\u001b[1;34m(self, data)\u001b[0m\n\u001b[0;32m    330\u001b[0m \u001b[38;5;28;01melse\u001b[39;00m:\n\u001b[0;32m    331\u001b[0m     \u001b[38;5;66;03m# Bypass the index validation and create the member directly\u001b[39;00m\n\u001b[0;32m    332\u001b[0m     \u001b[38;5;28;01mfor\u001b[39;00m index \u001b[38;5;129;01min\u001b[39;00m \u001b[38;5;28mself\u001b[39m\u001b[38;5;241m.\u001b[39mindex_set():\n\u001b[0;32m    333\u001b[0m         ans \u001b[38;5;241m=\u001b[39m \u001b[38;5;28mself\u001b[39m\u001b[38;5;241m.\u001b[39m_setitem_when_not_present(\n\u001b[1;32m--> 334\u001b[0m             index, \u001b[43mrule\u001b[49m\u001b[43m(\u001b[49m\u001b[43mblock\u001b[49m\u001b[43m,\u001b[49m\u001b[43m \u001b[49m\u001b[43mindex\u001b[49m\u001b[43m)\u001b[49m)\n\u001b[0;32m    335\u001b[0m         \u001b[38;5;28;01mif\u001b[39;00m ans \u001b[38;5;129;01mis\u001b[39;00m \u001b[38;5;129;01mnot\u001b[39;00m \u001b[38;5;28;01mNone\u001b[39;00m:\n\u001b[0;32m    336\u001b[0m             ans\u001b[38;5;241m.\u001b[39mset_sense(\u001b[38;5;28mself\u001b[39m\u001b[38;5;241m.\u001b[39m_init_sense(block, index))\n",
      "File \u001b[1;32m~\\AppData\\Roaming\\Python\\Python310\\site-packages\\pyomo\\core\\base\\initializer.py:402\u001b[0m, in \u001b[0;36mScalarCallInitializer.__call__\u001b[1;34m(self, parent, idx)\u001b[0m\n\u001b[0;32m    401\u001b[0m \u001b[38;5;28;01mdef\u001b[39;00m \u001b[38;5;21m__call__\u001b[39m(\u001b[38;5;28mself\u001b[39m, parent, idx):\n\u001b[1;32m--> 402\u001b[0m     \u001b[38;5;28;01mreturn\u001b[39;00m \u001b[38;5;28;43mself\u001b[39;49m\u001b[38;5;241;43m.\u001b[39;49m\u001b[43m_fcn\u001b[49m\u001b[43m(\u001b[49m\u001b[43mparent\u001b[49m\u001b[43m)\u001b[49m\n",
      "Input \u001b[1;32mIn [11]\u001b[0m, in \u001b[0;36mobj_rule\u001b[1;34m(model)\u001b[0m\n\u001b[0;32m     22\u001b[0m \u001b[38;5;28;01mdef\u001b[39;00m \u001b[38;5;21mobj_rule\u001b[39m(model):\n\u001b[0;32m     23\u001b[0m     mu \u001b[38;5;241m=\u001b[39m np\u001b[38;5;241m.\u001b[39mmean(R)  \u001b[38;5;66;03m# mean return of all strategies in all scenarios\u001b[39;00m\n\u001b[1;32m---> 24\u001b[0m     \u001b[38;5;28;01mreturn\u001b[39;00m (\u001b[43mnp\u001b[49m\u001b[38;5;241;43m.\u001b[39;49m\u001b[43mmean\u001b[49m\u001b[43m(\u001b[49m\u001b[43mnp\u001b[49m\u001b[38;5;241;43m.\u001b[39;49m\u001b[43mmean\u001b[49m\u001b[43m(\u001b[49m\u001b[43mR\u001b[49m\u001b[43m,\u001b[49m\u001b[43m \u001b[49m\u001b[43maxis\u001b[49m\u001b[38;5;241;43m=\u001b[39;49m\u001b[38;5;241;43m1\u001b[39;49m\u001b[43m)\u001b[49m\u001b[43m \u001b[49m\u001b[38;5;241;43m*\u001b[39;49m\u001b[43m \u001b[49m\u001b[43mmodel\u001b[49m\u001b[38;5;241;43m.\u001b[39;49m\u001b[43mx\u001b[49m\u001b[43m)\u001b[49m \u001b[38;5;241m-\u001b[39m\n\u001b[0;32m     25\u001b[0m             r \u001b[38;5;241m*\u001b[39m np\u001b[38;5;241m.\u001b[39mmean(np\u001b[38;5;241m.\u001b[39mmean((R \u001b[38;5;241m-\u001b[39m mu)\u001b[38;5;241m*\u001b[39m\u001b[38;5;241m*\u001b[39m\u001b[38;5;241m2\u001b[39m, axis\u001b[38;5;241m=\u001b[39m\u001b[38;5;241m1\u001b[39m) \u001b[38;5;241m*\u001b[39m model\u001b[38;5;241m.\u001b[39mx))\n",
      "File \u001b[1;32m~\\AppData\\Roaming\\Python\\Python310\\site-packages\\numpy\\core\\fromnumeric.py:3502\u001b[0m, in \u001b[0;36mmean\u001b[1;34m(a, axis, dtype, out, keepdims, where)\u001b[0m\n\u001b[0;32m   3500\u001b[0m         \u001b[38;5;28;01mpass\u001b[39;00m\n\u001b[0;32m   3501\u001b[0m     \u001b[38;5;28;01melse\u001b[39;00m:\n\u001b[1;32m-> 3502\u001b[0m         \u001b[38;5;28;01mreturn\u001b[39;00m mean(axis\u001b[38;5;241m=\u001b[39maxis, dtype\u001b[38;5;241m=\u001b[39mdtype, out\u001b[38;5;241m=\u001b[39mout, \u001b[38;5;241m*\u001b[39m\u001b[38;5;241m*\u001b[39mkwargs)\n\u001b[0;32m   3504\u001b[0m \u001b[38;5;28;01mreturn\u001b[39;00m _methods\u001b[38;5;241m.\u001b[39m_mean(a, axis\u001b[38;5;241m=\u001b[39maxis, dtype\u001b[38;5;241m=\u001b[39mdtype,\n\u001b[0;32m   3505\u001b[0m                       out\u001b[38;5;241m=\u001b[39mout, \u001b[38;5;241m*\u001b[39m\u001b[38;5;241m*\u001b[39mkwargs)\n",
      "File \u001b[1;32m~\\AppData\\Roaming\\Python\\Python310\\site-packages\\numpy\\core\\_methods.py:118\u001b[0m, in \u001b[0;36m_mean\u001b[1;34m(a, axis, dtype, out, keepdims, where)\u001b[0m\n\u001b[0;32m    115\u001b[0m         dtype \u001b[38;5;241m=\u001b[39m mu\u001b[38;5;241m.\u001b[39mdtype(\u001b[38;5;124m'\u001b[39m\u001b[38;5;124mf4\u001b[39m\u001b[38;5;124m'\u001b[39m)\n\u001b[0;32m    116\u001b[0m         is_float16_result \u001b[38;5;241m=\u001b[39m \u001b[38;5;28;01mTrue\u001b[39;00m\n\u001b[1;32m--> 118\u001b[0m ret \u001b[38;5;241m=\u001b[39m \u001b[43mumr_sum\u001b[49m\u001b[43m(\u001b[49m\u001b[43marr\u001b[49m\u001b[43m,\u001b[49m\u001b[43m \u001b[49m\u001b[43maxis\u001b[49m\u001b[43m,\u001b[49m\u001b[43m \u001b[49m\u001b[43mdtype\u001b[49m\u001b[43m,\u001b[49m\u001b[43m \u001b[49m\u001b[43mout\u001b[49m\u001b[43m,\u001b[49m\u001b[43m \u001b[49m\u001b[43mkeepdims\u001b[49m\u001b[43m,\u001b[49m\u001b[43m \u001b[49m\u001b[43mwhere\u001b[49m\u001b[38;5;241;43m=\u001b[39;49m\u001b[43mwhere\u001b[49m\u001b[43m)\u001b[49m\n\u001b[0;32m    119\u001b[0m \u001b[38;5;28;01mif\u001b[39;00m \u001b[38;5;28misinstance\u001b[39m(ret, mu\u001b[38;5;241m.\u001b[39mndarray):\n\u001b[0;32m    120\u001b[0m     \u001b[38;5;28;01mwith\u001b[39;00m _no_nep50_warning():\n",
      "File \u001b[1;32mpyomo\\core\\expr\\numvalue.pyx:1021\u001b[0m, in \u001b[0;36mpyomo.core.expr.numvalue.NumericNDArray.__array_ufunc__\u001b[1;34m()\u001b[0m\n",
      "\u001b[1;31mUnboundLocalError\u001b[0m: local variable 'args' referenced before assignment"
     ]
    }
   ],
   "source": [
    "import pyomo.environ as pyo\n",
    "import numpy as np\n",
    "\n",
    "# Sample data\n",
    "N = 10  # number of investment strategies\n",
    "M = 5  # number of budget scenarios\n",
    "A = np.random.rand(N)  # cost vector\n",
    "R = np.random.rand(N, M)  # return matrix\n",
    "B = np.random.rand(M)  # budget scenario vector\n",
    "P = np.random.rand(M)  # probability vector\n",
    "P = P / np.sum(P)  # normalize probability vector\n",
    "\n",
    "r = 2  # risk parameter\n",
    "\n",
    "# Pyomo model\n",
    "model = pyo.ConcreteModel()\n",
    "\n",
    "# Decision variables\n",
    "model.x = pyo.Var(range(N), domain=pyo.Binary)\n",
    "\n",
    "# Objective function\n",
    "def obj_rule(model):\n",
    "    mu = np.mean(R)  # mean return of all strategies in all scenarios\n",
    "    return (np.mean(np.mean(R, axis=1) * model.x) -\n",
    "            r * np.mean(np.mean((R - mu)**2, axis=1) * model.x))\n",
    "\n",
    "model.obj = pyo.Objective(rule=obj_rule, sense=pyo.maximize)\n",
    "\n",
    "# Constraints\n",
    "model.budget_constraint = pyo.Constraint(\n",
    "    expr=sum(A[i] * model.x[i] for i in range(N)) <=\n",
    "    sum(B[j] * P[j] for j in range(M)) * 0.6  # tolerable probability of exceeding budget\n",
    ")\n",
    "\n",
    "model.investment_constraint = pyo.Constraint(\n",
    "    expr=sum(model.x[i] for i in range(N)) <= 1  # invest in at most one strategy\n",
    ")\n",
    "\n",
    "# Solve the model\n",
    "solver = pyo.SolverFactory('glpk')\n",
    "results = solver.solve(model)\n",
    "\n",
    "# Print the results\n",
    "if results.solver.status == pyo.SolverStatus.ok:\n",
    "    print(\"Objective value:\", pyo.value(model.obj))\n",
    "    print(\"Decision variables:\")\n",
    "    for i in range(N):\n",
    "        print(f\"x[{i}]: {pyo.value(model.x[i])}\")\n",
    "else:\n",
    "    print(\"Error! Unable to solve the model.\")"
   ]
  },
  {
   "cell_type": "markdown",
   "id": "95f5c3a8",
   "metadata": {},
   "source": [
    "### Solution Correctness"
   ]
  },
  {
   "cell_type": "code",
   "execution_count": 12,
   "id": "01245691",
   "metadata": {},
   "outputs": [
    {
     "name": "stdout",
     "output_type": "stream",
     "text": [
      "Objective value: 0.04608365348624763\n",
      "Decision variables:\n",
      "x[0]: 0.0\n",
      "x[1]: 0.0\n",
      "x[2]: 0.0\n",
      "x[3]: 0.0\n",
      "x[4]: 0.0\n",
      "x[5]: 0.0\n",
      "x[6]: 0.0\n",
      "x[7]: 0.0\n",
      "x[8]: 0.0\n",
      "x[9]: 1.0\n"
     ]
    }
   ],
   "source": [
    "import pyomo.environ as pyo\n",
    "import numpy as np\n",
    "\n",
    "# Sample data\n",
    "N = 10  # number of investment strategies\n",
    "M = 5  # number of budget scenarios\n",
    "A = np.random.rand(N)  # cost vector\n",
    "R = np.random.rand(N, M)  # return matrix\n",
    "B = np.random.rand(M)  # budget scenario vector\n",
    "P = np.random.rand(M)  # probability vector\n",
    "P = P / np.sum(P)  # normalize probability vector\n",
    "\n",
    "r = 2  # risk parameter\n",
    "\n",
    "# Pyomo model\n",
    "model = pyo.ConcreteModel()\n",
    "\n",
    "# Decision variables\n",
    "model.x = pyo.Var(range(N), domain=pyo.Binary)\n",
    "\n",
    "# Objective function\n",
    "def obj_rule(model):\n",
    "    mean_returns = np.mean(R, axis=1)\n",
    "    total_mean_return = np.mean(mean_returns)\n",
    "    risk_term = np.mean((R - total_mean_return)**2, axis=1)\n",
    "    return (sum(mean_returns[i] * model.x[i] for i in range(N)) -\n",
    "            r * sum(risk_term[i] * model.x[i] for i in range(N)))\n",
    "\n",
    "model.obj = pyo.Objective(rule=obj_rule, sense=pyo.maximize)\n",
    "\n",
    "# Constraints\n",
    "model.budget_constraint = pyo.Constraint(\n",
    "    expr=sum(A[i] * model.x[i] for i in range(N)) <=\n",
    "    sum(B[j] * P[j] for j in range(M)) * 0.6  # tolerable probability of exceeding budget\n",
    ")\n",
    "\n",
    "model.investment_constraint = pyo.Constraint(\n",
    "    expr=sum(model.x[i] for i in range(N)) <= 1  # invest in at most one strategy\n",
    ")\n",
    "\n",
    "# Solve the model\n",
    "solver = pyo.SolverFactory('glpk')\n",
    "results = solver.solve(model)\n",
    "\n",
    "# Print the results\n",
    "if results.solver.status == pyo.SolverStatus.ok:\n",
    "    print(\"Objective value:\", pyo.value(model.obj))\n",
    "    print(\"Decision variables:\")\n",
    "    for i in range(N):\n",
    "        print(f\"x[{i}]: {pyo.value(model.x[i])}\")\n",
    "else:\n",
    "    print(\"Error! Unable to solve the model.\")\n"
   ]
  }
 ],
 "metadata": {
  "kernelspec": {
   "display_name": "Python 3 (ipykernel)",
   "language": "python",
   "name": "python3"
  },
  "language_info": {
   "codemirror_mode": {
    "name": "ipython",
    "version": 3
   },
   "file_extension": ".py",
   "mimetype": "text/x-python",
   "name": "python",
   "nbconvert_exporter": "python",
   "pygments_lexer": "ipython3",
   "version": "3.10.4"
  }
 },
 "nbformat": 4,
 "nbformat_minor": 5
}
