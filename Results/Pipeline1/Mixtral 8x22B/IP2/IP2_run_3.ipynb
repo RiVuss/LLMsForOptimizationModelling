{
 "cells": [
  {
   "cell_type": "code",
   "execution_count": 1,
   "id": "e5c2c174",
   "metadata": {},
   "outputs": [],
   "source": [
    "import os\n",
    "from mistralai.client import MistralClient\n",
    "from mistralai.models.chat_completion import ChatMessage\n",
    "from IPython.display import display, Markdown, Latex\n",
    "from datetime import datetime"
   ]
  },
  {
   "cell_type": "code",
   "execution_count": 2,
   "id": "b0c91a62",
   "metadata": {},
   "outputs": [
    {
     "name": "stdout",
     "output_type": "stream",
     "text": [
      "Time of execution: 2024-05-22 12:38:17.459404\n"
     ]
    }
   ],
   "source": [
    "API_KEY = os.environ['MISTRAL_API_KEY']\n",
    "\n",
    "MODEL_ID = 'open-mixtral-8x22b'\n",
    "MODEL_SEED = 3\n",
    "MODEL_TEMPERATURE = 0.7\n",
    "\n",
    "file_system_prompt_1 = open(\"../../system_prompt_1.txt\", \"r\")\n",
    "file_system_prompt_2 = open(\"../../system_prompt_2.txt\", \"r\")\n",
    "SYSTEM_PROMPT_1 = file_system_prompt_1.read()\n",
    "SYSTEM_PROMPT_2 = file_system_prompt_2.read()\n",
    "file_system_prompt_1.close()\n",
    "file_system_prompt_2.close()\n",
    "\n",
    "FILE_PATH_PROBLEM = '../../../../Datasets/IP_2_Choosing_Investment_Strategies/'\n",
    "assert(FILE_PATH_PROBLEM != '../../../../Datasets/')\n",
    "file_problem_description = open(FILE_PATH_PROBLEM + 'ProblemDescription.txt', 'r')\n",
    "PROBLEM_DESCRIPTION = file_problem_description.read()\n",
    "file_problem_description.close()\n",
    "\n",
    "\n",
    "client = MistralClient(api_key=API_KEY)\n",
    "\n",
    "print(f'Time of execution: {datetime.now()}')"
   ]
  },
  {
   "cell_type": "markdown",
   "id": "3e540824",
   "metadata": {},
   "source": [
    "## Step 1 - Generate Mathematical Formulation "
   ]
  },
  {
   "cell_type": "code",
   "execution_count": 3,
   "id": "174c127b",
   "metadata": {},
   "outputs": [],
   "source": [
    "messages_1 = [\n",
    "    ChatMessage(role=\"system\", content=SYSTEM_PROMPT_1),\n",
    "    ChatMessage(role=\"user\", content=PROBLEM_DESCRIPTION)\n",
    "]"
   ]
  },
  {
   "cell_type": "code",
   "execution_count": 4,
   "id": "d43340f3",
   "metadata": {},
   "outputs": [],
   "source": [
    "response_1 = client.chat(\n",
    "    model=MODEL_ID,\n",
    "    messages=messages_1,\n",
    "    random_seed=MODEL_SEED,\n",
    "    temperature=MODEL_TEMPERATURE \n",
    ")\n",
    "\n",
    "response_1_text = response_1.choices[0].message.content"
   ]
  },
  {
   "cell_type": "code",
   "execution_count": 5,
   "id": "03616e62",
   "metadata": {},
   "outputs": [
    {
     "data": {
      "text/markdown": [
       "This problem can be formulated as a mixed-integer linear programming (MILP) problem with chance constraints. Here are the parameters, decision variables, objective function, and constraints for this problem:\n",
       "\n",
       "Parameters:\n",
       "\n",
       "- \\(A\\): Vector of investment costs for each strategy, \\(A = [80, 340, 410, 50, 180, 221, 15, 348, 191, 225]\\)\n",
       "- \\(B\\): Vector of possible budget scenarios, \\(B = [1000, 1100, 900, 1200]\\)\n",
       "- \\(P\\): Vector of probabilities for each budget scenario, \\(P = [0.55, 0.4, 0.04, 0.01]\\)\n",
       "- \\(R\\): Matrix of historic returns for each strategy, stored in the \"investments_data.csv\" file\n",
       "- \\(r\\): Risk parameter, \\(r = 2\\)\n",
       "\n",
       "Decision Variables:\n",
       "\n",
       "- \\(x_i\\): Binary decision variable indicating whether to invest in strategy \\(i\\) (1) or not (0)\n",
       "- \\(y_j\\): Auxiliary continuous variable representing the exceeded budget in scenario \\(j\\)\n",
       "- \\(z\\): Auxiliary continuous variable representing the expected return of the investment portfolio\n",
       "\n",
       "Objective Function:\n",
       "\n",
       "The objective is to maximize the expected return of the investment portfolio while minimizing the risk, which can be represented by the mean-variance objective function:\n",
       "\\[ \\text{maximize} \\quad z - r \\cdot \\text{Var}(R \\cdot x) \\]\n",
       "\n",
       "Constraints:\n",
       "\n",
       "1. Budget constraints for each scenario:\n",
       "\\[ \\sum_{i=1}^{10} A_i \\cdot x_i + y_j \\leq B_j \\quad \\forall j \\in \\{1,2,3,4\\} \\]\n",
       "2. Probability of exceeding budget constraint:\n",
       "\\[ \\sum_{j=1}^{4} P_j \\cdot y_j \\leq 0.4 \\cdot \\sum_{j=1}^{4} P_j \\cdot B_j \\]\n",
       "3. Expected return calculation:\n",
       "\\[ z = \\text{E}(R \\cdot x) \\]\n",
       "4. Non-negativity constraints:\n",
       "\\[ y_j \\geq 0 \\quad \\forall j \\in \\{1,2,3,4\\} \\]\n",
       "5. Binary constraints for \\(x_i\\):\n",
       "\\[ x_i \\in \\{0, 1\\} \\quad \\forall i \\in \\{1,2,\\ldots,10\\} \\]\n",
       "\n",
       "This MILP model can be solved using standard optimization solvers, such as CPLEX, Gurobi, or GLPK, to find the optimal investment strategy under the given constraints and uncertainties."
      ],
      "text/plain": [
       "<IPython.core.display.Markdown object>"
      ]
     },
     "execution_count": 5,
     "metadata": {},
     "output_type": "execute_result"
    }
   ],
   "source": [
    "Markdown(response_1_text)"
   ]
  },
  {
   "cell_type": "code",
   "execution_count": 6,
   "id": "b6a33171",
   "metadata": {},
   "outputs": [
    {
     "name": "stdout",
     "output_type": "stream",
     "text": [
      "This problem can be formulated as a mixed-integer linear programming (MILP) problem with chance constraints. Here are the parameters, decision variables, objective function, and constraints for this problem:\n",
      "\n",
      "Parameters:\n",
      "\n",
      "- \\(A\\): Vector of investment costs for each strategy, \\(A = [80, 340, 410, 50, 180, 221, 15, 348, 191, 225]\\)\n",
      "- \\(B\\): Vector of possible budget scenarios, \\(B = [1000, 1100, 900, 1200]\\)\n",
      "- \\(P\\): Vector of probabilities for each budget scenario, \\(P = [0.55, 0.4, 0.04, 0.01]\\)\n",
      "- \\(R\\): Matrix of historic returns for each strategy, stored in the \"investments_data.csv\" file\n",
      "- \\(r\\): Risk parameter, \\(r = 2\\)\n",
      "\n",
      "Decision Variables:\n",
      "\n",
      "- \\(x_i\\): Binary decision variable indicating whether to invest in strategy \\(i\\) (1) or not (0)\n",
      "- \\(y_j\\): Auxiliary continuous variable representing the exceeded budget in scenario \\(j\\)\n",
      "- \\(z\\): Auxiliary continuous variable representing the expected return of the investment portfolio\n",
      "\n",
      "Objective Function:\n",
      "\n",
      "The objective is to maximize the expected return of the investment portfolio while minimizing the risk, which can be represented by the mean-variance objective function:\n",
      "\\[ \\text{maximize} \\quad z - r \\cdot \\text{Var}(R \\cdot x) \\]\n",
      "\n",
      "Constraints:\n",
      "\n",
      "1. Budget constraints for each scenario:\n",
      "\\[ \\sum_{i=1}^{10} A_i \\cdot x_i + y_j \\leq B_j \\quad \\forall j \\in \\{1,2,3,4\\} \\]\n",
      "2. Probability of exceeding budget constraint:\n",
      "\\[ \\sum_{j=1}^{4} P_j \\cdot y_j \\leq 0.4 \\cdot \\sum_{j=1}^{4} P_j \\cdot B_j \\]\n",
      "3. Expected return calculation:\n",
      "\\[ z = \\text{E}(R \\cdot x) \\]\n",
      "4. Non-negativity constraints:\n",
      "\\[ y_j \\geq 0 \\quad \\forall j \\in \\{1,2,3,4\\} \\]\n",
      "5. Binary constraints for \\(x_i\\):\n",
      "\\[ x_i \\in \\{0, 1\\} \\quad \\forall i \\in \\{1,2,\\ldots,10\\} \\]\n",
      "\n",
      "This MILP model can be solved using standard optimization solvers, such as CPLEX, Gurobi, or GLPK, to find the optimal investment strategy under the given constraints and uncertainties.\n"
     ]
    }
   ],
   "source": [
    "print(response_1_text)"
   ]
  },
  {
   "cell_type": "markdown",
   "id": "27b5f89a",
   "metadata": {},
   "source": [
    "## Step 2 - Generate the Pyomo Code"
   ]
  },
  {
   "cell_type": "code",
   "execution_count": 7,
   "id": "a4c3312f",
   "metadata": {},
   "outputs": [],
   "source": [
    "messages_2 = [\n",
    "    ChatMessage(role=\"system\", content=SYSTEM_PROMPT_2),\n",
    "    ChatMessage(role=\"user\", content=response_1_text)\n",
    "]"
   ]
  },
  {
   "cell_type": "code",
   "execution_count": 8,
   "id": "4212d99d",
   "metadata": {},
   "outputs": [],
   "source": [
    "response_2 = client.chat(\n",
    "    model=MODEL_ID,\n",
    "    messages=messages_2,\n",
    "    random_seed=MODEL_SEED,\n",
    "    temperature=MODEL_TEMPERATURE\n",
    ")\n",
    "\n",
    "response_2_text = response_2.choices[0].message.content"
   ]
  },
  {
   "cell_type": "code",
   "execution_count": 9,
   "id": "c168a60b",
   "metadata": {},
   "outputs": [
    {
     "data": {
      "text/markdown": [
       "Here is the Python code using Pyomo to solve the optimization problem:\n",
       "\n",
       "```python\n",
       "import pyomo.environ as pyo\n",
       "import pandas as pd\n",
       "import numpy as np\n",
       "\n",
       "# Sample data\n",
       "A = np.array([80, 340, 410, 50, 180, 221, 15, 348, 191, 225])\n",
       "B = np.array([1000, 1100, 900, 1200])\n",
       "P = np.array([0.55, 0.4, 0.04, 0.01])\n",
       "r = 2\n",
       "\n",
       "# Load return data from csv file (assuming it has 10 rows and 4 columns)\n",
       "R = pd.read_csv(\"investments_data.csv\").to_numpy()\n",
       "\n",
       "model = pyo.ConcreteModel()\n",
       "\n",
       "# Define decision variables\n",
       "model.x = pyo.Var(range(1, 11), domain=pyo.Binary)\n",
       "model.y = pyo.Var(range(1, 5), domain=pyo.NonNegativeReals)\n",
       "model.z = pyo.Var(domain=pyo.NonNegativeReals)\n",
       "\n",
       "# Define objective function\n",
       "def obj_rule(model):\n",
       "    return model.z - r * sum(\n",
       "        (R[i, j] * model.x[i + 1] - model.z) ** 2 * P[j] for i in range(10) for j in range(4)\n",
       "    ) / 4\n",
       "\n",
       "model.obj = pyo.Objective(rule=obj_rule, sense=pyo.maximize)\n",
       "\n",
       "# Define constraints\n",
       "def budget_constraints(model, j):\n",
       "    return sum(A[i] * model.x[i + 1] + model.y[j + 1] for i in range(10)) <= B[j]\n",
       "\n",
       "model.budget_constraints = pyo.Constraint(range(4), rule=budget_constraints)\n",
       "\n",
       "def exceeded_budget_constraint(model):\n",
       "    return sum(P[j] * model.y[j + 1] for j in range(4)) <= 0.4 * sum(P[j] * B[j] for j in range(4))\n",
       "\n",
       "model.exceeded_budget_constraint = pyo.Constraint(rule=exceeded_budget_constraint)\n",
       "\n",
       "def expected_return(model):\n",
       "    return model.z == sum(R[i, j] * model.x[i + 1] * P[j] for i in range(10) for j in range(4)) / 4\n",
       "\n",
       "model.expected_return = pyo.Constraint(rule=expected_return)\n",
       "\n",
       "# Solve the model\n",
       "solver = pyo.SolverFactory('glpk')\n",
       "solver.solve(model)\n",
       "\n",
       "# Print the optimal solution\n",
       "print(\"Optimal solution:\")\n",
       "for i in range(1, 11):\n",
       "    print(f\"x{i} = {model.x[i].value}\")\n",
       "for j in range(1, 5):\n",
       "    print(f\"y{j} = {model.y[j].value}\")\n",
       "print(f\"z = {model.z.value}\")\n",
       "```\n",
       "\n",
       "This code defines the MILP problem using Pyomo, a Python-based open-source software package for modeling and solving mathematical optimization problems. It uses the GLPK solver to solve the problem, but you can change the solver to CPLEX or Gurobi by modifying the solver line. The sample data is used to define the parameters A, B, P, and R, and you can replace it with your actual data."
      ],
      "text/plain": [
       "<IPython.core.display.Markdown object>"
      ]
     },
     "execution_count": 9,
     "metadata": {},
     "output_type": "execute_result"
    }
   ],
   "source": [
    "Markdown(response_2_text)"
   ]
  },
  {
   "cell_type": "code",
   "execution_count": 10,
   "id": "a380c180",
   "metadata": {},
   "outputs": [
    {
     "name": "stdout",
     "output_type": "stream",
     "text": [
      "Here is the Python code using Pyomo to solve the optimization problem:\n",
      "\n",
      "```python\n",
      "import pyomo.environ as pyo\n",
      "import pandas as pd\n",
      "import numpy as np\n",
      "\n",
      "# Sample data\n",
      "A = np.array([80, 340, 410, 50, 180, 221, 15, 348, 191, 225])\n",
      "B = np.array([1000, 1100, 900, 1200])\n",
      "P = np.array([0.55, 0.4, 0.04, 0.01])\n",
      "r = 2\n",
      "\n",
      "# Load return data from csv file (assuming it has 10 rows and 4 columns)\n",
      "R = pd.read_csv(\"investments_data.csv\").to_numpy()\n",
      "\n",
      "model = pyo.ConcreteModel()\n",
      "\n",
      "# Define decision variables\n",
      "model.x = pyo.Var(range(1, 11), domain=pyo.Binary)\n",
      "model.y = pyo.Var(range(1, 5), domain=pyo.NonNegativeReals)\n",
      "model.z = pyo.Var(domain=pyo.NonNegativeReals)\n",
      "\n",
      "# Define objective function\n",
      "def obj_rule(model):\n",
      "    return model.z - r * sum(\n",
      "        (R[i, j] * model.x[i + 1] - model.z) ** 2 * P[j] for i in range(10) for j in range(4)\n",
      "    ) / 4\n",
      "\n",
      "model.obj = pyo.Objective(rule=obj_rule, sense=pyo.maximize)\n",
      "\n",
      "# Define constraints\n",
      "def budget_constraints(model, j):\n",
      "    return sum(A[i] * model.x[i + 1] + model.y[j + 1] for i in range(10)) <= B[j]\n",
      "\n",
      "model.budget_constraints = pyo.Constraint(range(4), rule=budget_constraints)\n",
      "\n",
      "def exceeded_budget_constraint(model):\n",
      "    return sum(P[j] * model.y[j + 1] for j in range(4)) <= 0.4 * sum(P[j] * B[j] for j in range(4))\n",
      "\n",
      "model.exceeded_budget_constraint = pyo.Constraint(rule=exceeded_budget_constraint)\n",
      "\n",
      "def expected_return(model):\n",
      "    return model.z == sum(R[i, j] * model.x[i + 1] * P[j] for i in range(10) for j in range(4)) / 4\n",
      "\n",
      "model.expected_return = pyo.Constraint(rule=expected_return)\n",
      "\n",
      "# Solve the model\n",
      "solver = pyo.SolverFactory('glpk')\n",
      "solver.solve(model)\n",
      "\n",
      "# Print the optimal solution\n",
      "print(\"Optimal solution:\")\n",
      "for i in range(1, 11):\n",
      "    print(f\"x{i} = {model.x[i].value}\")\n",
      "for j in range(1, 5):\n",
      "    print(f\"y{j} = {model.y[j].value}\")\n",
      "print(f\"z = {model.z.value}\")\n",
      "```\n",
      "\n",
      "This code defines the MILP problem using Pyomo, a Python-based open-source software package for modeling and solving mathematical optimization problems. It uses the GLPK solver to solve the problem, but you can change the solver to CPLEX or Gurobi by modifying the solver line. The sample data is used to define the parameters A, B, P, and R, and you can replace it with your actual data.\n"
     ]
    }
   ],
   "source": [
    "print(response_2_text)"
   ]
  },
  {
   "cell_type": "markdown",
   "id": "879cc7ae",
   "metadata": {},
   "source": [
    "### Code Executability"
   ]
  },
  {
   "cell_type": "code",
   "execution_count": 13,
   "id": "f1d9a625",
   "metadata": {},
   "outputs": [
    {
     "name": "stderr",
     "output_type": "stream",
     "text": [
      "2024-05-22 12:47:54,560 ERROR pyomo.core: Rule failed when generating expression for Objective obj with index None:\n",
      "AttributeError: 'str' object has no attribute 'is_potentially_variable'\n",
      "2024-05-22 12:47:54,561 ERROR pyomo.core: Constructing component 'obj' from data=None failed:\n",
      "AttributeError: 'str' object has no attribute 'is_potentially_variable'\n"
     ]
    },
    {
     "ename": "AttributeError",
     "evalue": "'str' object has no attribute 'is_potentially_variable'",
     "output_type": "error",
     "traceback": [
      "\u001b[1;31m---------------------------------------------------------------------------\u001b[0m",
      "\u001b[1;31mAttributeError\u001b[0m                            Traceback (most recent call last)",
      "Input \u001b[1;32mIn [13]\u001b[0m, in \u001b[0;36m<cell line: 27>\u001b[1;34m()\u001b[0m\n\u001b[0;32m     22\u001b[0m \u001b[38;5;28;01mdef\u001b[39;00m \u001b[38;5;21mobj_rule\u001b[39m(model):\n\u001b[0;32m     23\u001b[0m     \u001b[38;5;28;01mreturn\u001b[39;00m model\u001b[38;5;241m.\u001b[39mz \u001b[38;5;241m-\u001b[39m r \u001b[38;5;241m*\u001b[39m \u001b[38;5;28msum\u001b[39m(\n\u001b[0;32m     24\u001b[0m         (R[i, j] \u001b[38;5;241m*\u001b[39m model\u001b[38;5;241m.\u001b[39mx[i \u001b[38;5;241m+\u001b[39m \u001b[38;5;241m1\u001b[39m] \u001b[38;5;241m-\u001b[39m model\u001b[38;5;241m.\u001b[39mz) \u001b[38;5;241m*\u001b[39m\u001b[38;5;241m*\u001b[39m \u001b[38;5;241m2\u001b[39m \u001b[38;5;241m*\u001b[39m P[j] \u001b[38;5;28;01mfor\u001b[39;00m i \u001b[38;5;129;01min\u001b[39;00m \u001b[38;5;28mrange\u001b[39m(\u001b[38;5;241m10\u001b[39m) \u001b[38;5;28;01mfor\u001b[39;00m j \u001b[38;5;129;01min\u001b[39;00m \u001b[38;5;28mrange\u001b[39m(\u001b[38;5;241m4\u001b[39m)\n\u001b[0;32m     25\u001b[0m     ) \u001b[38;5;241m/\u001b[39m \u001b[38;5;241m4\u001b[39m\n\u001b[1;32m---> 27\u001b[0m model\u001b[38;5;241m.\u001b[39mobj \u001b[38;5;241m=\u001b[39m pyo\u001b[38;5;241m.\u001b[39mObjective(rule\u001b[38;5;241m=\u001b[39mobj_rule, sense\u001b[38;5;241m=\u001b[39mpyo\u001b[38;5;241m.\u001b[39mmaximize)\n\u001b[0;32m     29\u001b[0m \u001b[38;5;66;03m# Define constraints\u001b[39;00m\n\u001b[0;32m     30\u001b[0m \u001b[38;5;28;01mdef\u001b[39;00m \u001b[38;5;21mbudget_constraints\u001b[39m(model, j):\n",
      "File \u001b[1;32m~\\AppData\\Roaming\\Python\\Python310\\site-packages\\pyomo\\core\\base\\block.py:639\u001b[0m, in \u001b[0;36m_BlockData.__setattr__\u001b[1;34m(self, name, val)\u001b[0m\n\u001b[0;32m    634\u001b[0m \u001b[38;5;28;01mif\u001b[39;00m name \u001b[38;5;129;01mnot\u001b[39;00m \u001b[38;5;129;01min\u001b[39;00m \u001b[38;5;28mself\u001b[39m\u001b[38;5;241m.\u001b[39m\u001b[38;5;18m__dict__\u001b[39m:\n\u001b[0;32m    635\u001b[0m     \u001b[38;5;28;01mif\u001b[39;00m \u001b[38;5;28misinstance\u001b[39m(val, Component):\n\u001b[0;32m    636\u001b[0m         \u001b[38;5;66;03m#\u001b[39;00m\n\u001b[0;32m    637\u001b[0m         \u001b[38;5;66;03m# Pyomo components are added with the add_component method.\u001b[39;00m\n\u001b[0;32m    638\u001b[0m         \u001b[38;5;66;03m#\u001b[39;00m\n\u001b[1;32m--> 639\u001b[0m         \u001b[38;5;28;43mself\u001b[39;49m\u001b[38;5;241;43m.\u001b[39;49m\u001b[43madd_component\u001b[49m\u001b[43m(\u001b[49m\u001b[43mname\u001b[49m\u001b[43m,\u001b[49m\u001b[43m \u001b[49m\u001b[43mval\u001b[49m\u001b[43m)\u001b[49m\n\u001b[0;32m    640\u001b[0m     \u001b[38;5;28;01melse\u001b[39;00m:\n\u001b[0;32m    641\u001b[0m         \u001b[38;5;66;03m#\u001b[39;00m\n\u001b[0;32m    642\u001b[0m         \u001b[38;5;66;03m# Other Python objects are added with the standard __setattr__\u001b[39;00m\n\u001b[0;32m    643\u001b[0m         \u001b[38;5;66;03m# method.\u001b[39;00m\n\u001b[0;32m    644\u001b[0m         \u001b[38;5;66;03m#\u001b[39;00m\n\u001b[0;32m    645\u001b[0m         \u001b[38;5;28msuper\u001b[39m(_BlockData, \u001b[38;5;28mself\u001b[39m)\u001b[38;5;241m.\u001b[39m\u001b[38;5;21m__setattr__\u001b[39m(name, val)\n",
      "File \u001b[1;32m~\\AppData\\Roaming\\Python\\Python310\\site-packages\\pyomo\\core\\base\\block.py:1186\u001b[0m, in \u001b[0;36m_BlockData.add_component\u001b[1;34m(self, name, val)\u001b[0m\n\u001b[0;32m   1182\u001b[0m     logger\u001b[38;5;241m.\u001b[39mdebug(\u001b[38;5;124m\"\u001b[39m\u001b[38;5;124mConstructing \u001b[39m\u001b[38;5;132;01m%s\u001b[39;00m\u001b[38;5;124m \u001b[39m\u001b[38;5;124m'\u001b[39m\u001b[38;5;132;01m%s\u001b[39;00m\u001b[38;5;124m'\u001b[39m\u001b[38;5;124m on \u001b[39m\u001b[38;5;132;01m%s\u001b[39;00m\u001b[38;5;124m from data=\u001b[39m\u001b[38;5;132;01m%s\u001b[39;00m\u001b[38;5;124m\"\u001b[39m,\n\u001b[0;32m   1183\u001b[0m                  val\u001b[38;5;241m.\u001b[39m\u001b[38;5;18m__class__\u001b[39m\u001b[38;5;241m.\u001b[39m\u001b[38;5;18m__name__\u001b[39m, name,\n\u001b[0;32m   1184\u001b[0m                  _blockName, \u001b[38;5;28mstr\u001b[39m(data))\n\u001b[0;32m   1185\u001b[0m \u001b[38;5;28;01mtry\u001b[39;00m:\n\u001b[1;32m-> 1186\u001b[0m     \u001b[43mval\u001b[49m\u001b[38;5;241;43m.\u001b[39;49m\u001b[43mconstruct\u001b[49m\u001b[43m(\u001b[49m\u001b[43mdata\u001b[49m\u001b[43m)\u001b[49m\n\u001b[0;32m   1187\u001b[0m \u001b[38;5;28;01mexcept\u001b[39;00m:\n\u001b[0;32m   1188\u001b[0m     err \u001b[38;5;241m=\u001b[39m sys\u001b[38;5;241m.\u001b[39mexc_info()[\u001b[38;5;241m1\u001b[39m]\n",
      "File \u001b[1;32m~\\AppData\\Roaming\\Python\\Python310\\site-packages\\pyomo\\core\\base\\objective.py:334\u001b[0m, in \u001b[0;36mObjective.construct\u001b[1;34m(self, data)\u001b[0m\n\u001b[0;32m    330\u001b[0m \u001b[38;5;28;01melse\u001b[39;00m:\n\u001b[0;32m    331\u001b[0m     \u001b[38;5;66;03m# Bypass the index validation and create the member directly\u001b[39;00m\n\u001b[0;32m    332\u001b[0m     \u001b[38;5;28;01mfor\u001b[39;00m index \u001b[38;5;129;01min\u001b[39;00m \u001b[38;5;28mself\u001b[39m\u001b[38;5;241m.\u001b[39mindex_set():\n\u001b[0;32m    333\u001b[0m         ans \u001b[38;5;241m=\u001b[39m \u001b[38;5;28mself\u001b[39m\u001b[38;5;241m.\u001b[39m_setitem_when_not_present(\n\u001b[1;32m--> 334\u001b[0m             index, \u001b[43mrule\u001b[49m\u001b[43m(\u001b[49m\u001b[43mblock\u001b[49m\u001b[43m,\u001b[49m\u001b[43m \u001b[49m\u001b[43mindex\u001b[49m\u001b[43m)\u001b[49m)\n\u001b[0;32m    335\u001b[0m         \u001b[38;5;28;01mif\u001b[39;00m ans \u001b[38;5;129;01mis\u001b[39;00m \u001b[38;5;129;01mnot\u001b[39;00m \u001b[38;5;28;01mNone\u001b[39;00m:\n\u001b[0;32m    336\u001b[0m             ans\u001b[38;5;241m.\u001b[39mset_sense(\u001b[38;5;28mself\u001b[39m\u001b[38;5;241m.\u001b[39m_init_sense(block, index))\n",
      "File \u001b[1;32m~\\AppData\\Roaming\\Python\\Python310\\site-packages\\pyomo\\core\\base\\initializer.py:402\u001b[0m, in \u001b[0;36mScalarCallInitializer.__call__\u001b[1;34m(self, parent, idx)\u001b[0m\n\u001b[0;32m    401\u001b[0m \u001b[38;5;28;01mdef\u001b[39;00m \u001b[38;5;21m__call__\u001b[39m(\u001b[38;5;28mself\u001b[39m, parent, idx):\n\u001b[1;32m--> 402\u001b[0m     \u001b[38;5;28;01mreturn\u001b[39;00m \u001b[38;5;28;43mself\u001b[39;49m\u001b[38;5;241;43m.\u001b[39;49m\u001b[43m_fcn\u001b[49m\u001b[43m(\u001b[49m\u001b[43mparent\u001b[49m\u001b[43m)\u001b[49m\n",
      "Input \u001b[1;32mIn [13]\u001b[0m, in \u001b[0;36mobj_rule\u001b[1;34m(model)\u001b[0m\n\u001b[0;32m     22\u001b[0m \u001b[38;5;28;01mdef\u001b[39;00m \u001b[38;5;21mobj_rule\u001b[39m(model):\n\u001b[1;32m---> 23\u001b[0m     \u001b[38;5;28;01mreturn\u001b[39;00m model\u001b[38;5;241m.\u001b[39mz \u001b[38;5;241m-\u001b[39m r \u001b[38;5;241m*\u001b[39m \u001b[38;5;28;43msum\u001b[39;49m\u001b[43m(\u001b[49m\n\u001b[0;32m     24\u001b[0m \u001b[43m        \u001b[49m\u001b[43m(\u001b[49m\u001b[43mR\u001b[49m\u001b[43m[\u001b[49m\u001b[43mi\u001b[49m\u001b[43m,\u001b[49m\u001b[43m \u001b[49m\u001b[43mj\u001b[49m\u001b[43m]\u001b[49m\u001b[43m \u001b[49m\u001b[38;5;241;43m*\u001b[39;49m\u001b[43m \u001b[49m\u001b[43mmodel\u001b[49m\u001b[38;5;241;43m.\u001b[39;49m\u001b[43mx\u001b[49m\u001b[43m[\u001b[49m\u001b[43mi\u001b[49m\u001b[43m \u001b[49m\u001b[38;5;241;43m+\u001b[39;49m\u001b[43m \u001b[49m\u001b[38;5;241;43m1\u001b[39;49m\u001b[43m]\u001b[49m\u001b[43m \u001b[49m\u001b[38;5;241;43m-\u001b[39;49m\u001b[43m \u001b[49m\u001b[43mmodel\u001b[49m\u001b[38;5;241;43m.\u001b[39;49m\u001b[43mz\u001b[49m\u001b[43m)\u001b[49m\u001b[43m \u001b[49m\u001b[38;5;241;43m*\u001b[39;49m\u001b[38;5;241;43m*\u001b[39;49m\u001b[43m \u001b[49m\u001b[38;5;241;43m2\u001b[39;49m\u001b[43m \u001b[49m\u001b[38;5;241;43m*\u001b[39;49m\u001b[43m \u001b[49m\u001b[43mP\u001b[49m\u001b[43m[\u001b[49m\u001b[43mj\u001b[49m\u001b[43m]\u001b[49m\u001b[43m \u001b[49m\u001b[38;5;28;43;01mfor\u001b[39;49;00m\u001b[43m \u001b[49m\u001b[43mi\u001b[49m\u001b[43m \u001b[49m\u001b[38;5;129;43;01min\u001b[39;49;00m\u001b[43m \u001b[49m\u001b[38;5;28;43mrange\u001b[39;49m\u001b[43m(\u001b[49m\u001b[38;5;241;43m10\u001b[39;49m\u001b[43m)\u001b[49m\u001b[43m \u001b[49m\u001b[38;5;28;43;01mfor\u001b[39;49;00m\u001b[43m \u001b[49m\u001b[43mj\u001b[49m\u001b[43m \u001b[49m\u001b[38;5;129;43;01min\u001b[39;49;00m\u001b[43m \u001b[49m\u001b[38;5;28;43mrange\u001b[39;49m\u001b[43m(\u001b[49m\u001b[38;5;241;43m4\u001b[39;49m\u001b[43m)\u001b[49m\n\u001b[0;32m     25\u001b[0m \u001b[43m    \u001b[49m\u001b[43m)\u001b[49m \u001b[38;5;241m/\u001b[39m \u001b[38;5;241m4\u001b[39m\n",
      "Input \u001b[1;32mIn [13]\u001b[0m, in \u001b[0;36m<genexpr>\u001b[1;34m(.0)\u001b[0m\n\u001b[0;32m     22\u001b[0m \u001b[38;5;28;01mdef\u001b[39;00m \u001b[38;5;21mobj_rule\u001b[39m(model):\n\u001b[0;32m     23\u001b[0m     \u001b[38;5;28;01mreturn\u001b[39;00m model\u001b[38;5;241m.\u001b[39mz \u001b[38;5;241m-\u001b[39m r \u001b[38;5;241m*\u001b[39m \u001b[38;5;28msum\u001b[39m(\n\u001b[1;32m---> 24\u001b[0m         (\u001b[43mR\u001b[49m\u001b[43m[\u001b[49m\u001b[43mi\u001b[49m\u001b[43m,\u001b[49m\u001b[43m \u001b[49m\u001b[43mj\u001b[49m\u001b[43m]\u001b[49m\u001b[43m \u001b[49m\u001b[38;5;241;43m*\u001b[39;49m\u001b[43m \u001b[49m\u001b[43mmodel\u001b[49m\u001b[38;5;241;43m.\u001b[39;49m\u001b[43mx\u001b[49m\u001b[43m[\u001b[49m\u001b[43mi\u001b[49m\u001b[43m \u001b[49m\u001b[38;5;241;43m+\u001b[39;49m\u001b[43m \u001b[49m\u001b[38;5;241;43m1\u001b[39;49m\u001b[43m]\u001b[49m \u001b[38;5;241m-\u001b[39m model\u001b[38;5;241m.\u001b[39mz) \u001b[38;5;241m*\u001b[39m\u001b[38;5;241m*\u001b[39m \u001b[38;5;241m2\u001b[39m \u001b[38;5;241m*\u001b[39m P[j] \u001b[38;5;28;01mfor\u001b[39;00m i \u001b[38;5;129;01min\u001b[39;00m \u001b[38;5;28mrange\u001b[39m(\u001b[38;5;241m10\u001b[39m) \u001b[38;5;28;01mfor\u001b[39;00m j \u001b[38;5;129;01min\u001b[39;00m \u001b[38;5;28mrange\u001b[39m(\u001b[38;5;241m4\u001b[39m)\n\u001b[0;32m     25\u001b[0m     ) \u001b[38;5;241m/\u001b[39m \u001b[38;5;241m4\u001b[39m\n",
      "File \u001b[1;32mpyomo\\core\\expr\\numvalue.pyx:798\u001b[0m, in \u001b[0;36mpyomo.core.expr.numvalue.NumericValue.__rmul__\u001b[1;34m()\u001b[0m\n",
      "File \u001b[1;32mpyomo\\core\\expr\\numeric_expr.pyx:1876\u001b[0m, in \u001b[0;36mpyomo.core.expr.numeric_expr._generate_mul_expression\u001b[1;34m()\u001b[0m\n",
      "\u001b[1;31mAttributeError\u001b[0m: 'str' object has no attribute 'is_potentially_variable'"
     ]
    }
   ],
   "source": [
    "import pyomo.environ as pyo\n",
    "import pandas as pd\n",
    "import numpy as np\n",
    "\n",
    "# Sample data\n",
    "A = np.array([80, 340, 410, 50, 180, 221, 15, 348, 191, 225])\n",
    "B = np.array([1000, 1100, 900, 1200])\n",
    "P = np.array([0.55, 0.4, 0.04, 0.01])\n",
    "r = 2\n",
    "\n",
    "# Load return data from csv file (assuming it has 10 rows and 4 columns)\n",
    "R = pd.read_csv(FILE_PATH_PROBLEM + \"investments_data.csv\").to_numpy()\n",
    "\n",
    "model = pyo.ConcreteModel()\n",
    "\n",
    "# Define decision variables\n",
    "model.x = pyo.Var(range(1, 11), domain=pyo.Binary)\n",
    "model.y = pyo.Var(range(1, 5), domain=pyo.NonNegativeReals)\n",
    "model.z = pyo.Var(domain=pyo.NonNegativeReals)\n",
    "\n",
    "# Define objective function\n",
    "def obj_rule(model):\n",
    "    return model.z - r * sum(\n",
    "        (R[i, j] * model.x[i + 1] - model.z) ** 2 * P[j] for i in range(10) for j in range(4)\n",
    "    ) / 4\n",
    "\n",
    "model.obj = pyo.Objective(rule=obj_rule, sense=pyo.maximize)\n",
    "\n",
    "# Define constraints\n",
    "def budget_constraints(model, j):\n",
    "    return sum(A[i] * model.x[i + 1] + model.y[j + 1] for i in range(10)) <= B[j]\n",
    "\n",
    "model.budget_constraints = pyo.Constraint(range(4), rule=budget_constraints)\n",
    "\n",
    "def exceeded_budget_constraint(model):\n",
    "    return sum(P[j] * model.y[j + 1] for j in range(4)) <= 0.4 * sum(P[j] * B[j] for j in range(4))\n",
    "\n",
    "model.exceeded_budget_constraint = pyo.Constraint(rule=exceeded_budget_constraint)\n",
    "\n",
    "def expected_return(model):\n",
    "    return model.z == sum(R[i, j] * model.x[i + 1] * P[j] for i in range(10) for j in range(4)) / 4\n",
    "\n",
    "model.expected_return = pyo.Constraint(rule=expected_return)\n",
    "\n",
    "# Solve the model\n",
    "solver = pyo.SolverFactory('glpk')\n",
    "solver.solve(model)\n",
    "\n",
    "# Print the optimal solution\n",
    "print(\"Optimal solution:\")\n",
    "for i in range(1, 11):\n",
    "    print(f\"x{i} = {model.x[i].value}\")\n",
    "for j in range(1, 5):\n",
    "    print(f\"y{j} = {model.y[j].value}\")\n",
    "print(f\"z = {model.z.value}\")"
   ]
  },
  {
   "cell_type": "markdown",
   "id": "95f5c3a8",
   "metadata": {},
   "source": [
    "### Solution Correctness"
   ]
  },
  {
   "cell_type": "code",
   "execution_count": 14,
   "id": "01245691",
   "metadata": {},
   "outputs": [
    {
     "ename": "RuntimeError",
     "evalue": "Selected solver is unable to handle objective functions with quadratic terms. Objective at issue: obj.",
     "output_type": "error",
     "traceback": [
      "\u001b[1;31m---------------------------------------------------------------------------\u001b[0m",
      "\u001b[1;31mRuntimeError\u001b[0m                              Traceback (most recent call last)",
      "Input \u001b[1;32mIn [14]\u001b[0m, in \u001b[0;36m<cell line: 47>\u001b[1;34m()\u001b[0m\n\u001b[0;32m     45\u001b[0m \u001b[38;5;66;03m# Solve the model\u001b[39;00m\n\u001b[0;32m     46\u001b[0m solver \u001b[38;5;241m=\u001b[39m pyo\u001b[38;5;241m.\u001b[39mSolverFactory(\u001b[38;5;124m'\u001b[39m\u001b[38;5;124mglpk\u001b[39m\u001b[38;5;124m'\u001b[39m)\n\u001b[1;32m---> 47\u001b[0m \u001b[43msolver\u001b[49m\u001b[38;5;241;43m.\u001b[39;49m\u001b[43msolve\u001b[49m\u001b[43m(\u001b[49m\u001b[43mmodel\u001b[49m\u001b[43m)\u001b[49m\n\u001b[0;32m     49\u001b[0m \u001b[38;5;66;03m# Print the optimal solution\u001b[39;00m\n\u001b[0;32m     50\u001b[0m \u001b[38;5;28mprint\u001b[39m(\u001b[38;5;124m\"\u001b[39m\u001b[38;5;124mOptimal solution:\u001b[39m\u001b[38;5;124m\"\u001b[39m)\n",
      "File \u001b[1;32m~\\AppData\\Roaming\\Python\\Python310\\site-packages\\pyomo\\opt\\base\\solvers.py:570\u001b[0m, in \u001b[0;36mOptSolver.solve\u001b[1;34m(self, *args, **kwds)\u001b[0m\n\u001b[0;32m    565\u001b[0m \u001b[38;5;28;01mtry\u001b[39;00m:\n\u001b[0;32m    566\u001b[0m \n\u001b[0;32m    567\u001b[0m     \u001b[38;5;66;03m# we're good to go.\u001b[39;00m\n\u001b[0;32m    568\u001b[0m     initial_time \u001b[38;5;241m=\u001b[39m time\u001b[38;5;241m.\u001b[39mtime()\n\u001b[1;32m--> 570\u001b[0m     \u001b[38;5;28mself\u001b[39m\u001b[38;5;241m.\u001b[39m_presolve(\u001b[38;5;241m*\u001b[39margs, \u001b[38;5;241m*\u001b[39m\u001b[38;5;241m*\u001b[39mkwds)\n\u001b[0;32m    572\u001b[0m     presolve_completion_time \u001b[38;5;241m=\u001b[39m time\u001b[38;5;241m.\u001b[39mtime()\n\u001b[0;32m    573\u001b[0m     \u001b[38;5;28;01mif\u001b[39;00m \u001b[38;5;28mself\u001b[39m\u001b[38;5;241m.\u001b[39m_report_timing:\n",
      "File \u001b[1;32m~\\AppData\\Roaming\\Python\\Python310\\site-packages\\pyomo\\opt\\solver\\shellcmd.py:209\u001b[0m, in \u001b[0;36mSystemCallSolver._presolve\u001b[1;34m(self, *args, **kwds)\u001b[0m\n\u001b[0;32m    206\u001b[0m \u001b[38;5;28mself\u001b[39m\u001b[38;5;241m.\u001b[39m_keepfiles \u001b[38;5;241m=\u001b[39m kwds\u001b[38;5;241m.\u001b[39mpop(\u001b[38;5;124m\"\u001b[39m\u001b[38;5;124mkeepfiles\u001b[39m\u001b[38;5;124m\"\u001b[39m, \u001b[38;5;28;01mFalse\u001b[39;00m)\n\u001b[0;32m    207\u001b[0m \u001b[38;5;28mself\u001b[39m\u001b[38;5;241m.\u001b[39m_define_signal_handlers \u001b[38;5;241m=\u001b[39m kwds\u001b[38;5;241m.\u001b[39mpop(\u001b[38;5;124m'\u001b[39m\u001b[38;5;124muse_signal_handling\u001b[39m\u001b[38;5;124m'\u001b[39m,\u001b[38;5;28;01mNone\u001b[39;00m)\n\u001b[1;32m--> 209\u001b[0m OptSolver\u001b[38;5;241m.\u001b[39m_presolve(\u001b[38;5;28mself\u001b[39m, \u001b[38;5;241m*\u001b[39margs, \u001b[38;5;241m*\u001b[39m\u001b[38;5;241m*\u001b[39mkwds)\n\u001b[0;32m    211\u001b[0m \u001b[38;5;66;03m#\u001b[39;00m\n\u001b[0;32m    212\u001b[0m \u001b[38;5;66;03m# Verify that the input problems exists\u001b[39;00m\n\u001b[0;32m    213\u001b[0m \u001b[38;5;66;03m#\u001b[39;00m\n\u001b[0;32m    214\u001b[0m \u001b[38;5;28;01mfor\u001b[39;00m filename \u001b[38;5;129;01min\u001b[39;00m \u001b[38;5;28mself\u001b[39m\u001b[38;5;241m.\u001b[39m_problem_files:\n",
      "File \u001b[1;32m~\\AppData\\Roaming\\Python\\Python310\\site-packages\\pyomo\\opt\\base\\solvers.py:667\u001b[0m, in \u001b[0;36mOptSolver._presolve\u001b[1;34m(self, *args, **kwds)\u001b[0m\n\u001b[0;32m    664\u001b[0m \u001b[38;5;28;01mif\u001b[39;00m \u001b[38;5;28mself\u001b[39m\u001b[38;5;241m.\u001b[39m_problem_format:\n\u001b[0;32m    665\u001b[0m     write_start_time \u001b[38;5;241m=\u001b[39m time\u001b[38;5;241m.\u001b[39mtime()\n\u001b[0;32m    666\u001b[0m     (\u001b[38;5;28mself\u001b[39m\u001b[38;5;241m.\u001b[39m_problem_files, \u001b[38;5;28mself\u001b[39m\u001b[38;5;241m.\u001b[39m_problem_format, \u001b[38;5;28mself\u001b[39m\u001b[38;5;241m.\u001b[39m_smap_id) \u001b[38;5;241m=\u001b[39m \\\n\u001b[1;32m--> 667\u001b[0m         \u001b[38;5;28mself\u001b[39m\u001b[38;5;241m.\u001b[39m_convert_problem(args,\n\u001b[0;32m    668\u001b[0m                               \u001b[38;5;28mself\u001b[39m\u001b[38;5;241m.\u001b[39m_problem_format,\n\u001b[0;32m    669\u001b[0m                               \u001b[38;5;28mself\u001b[39m\u001b[38;5;241m.\u001b[39m_valid_problem_formats,\n\u001b[0;32m    670\u001b[0m                               \u001b[38;5;241m*\u001b[39m\u001b[38;5;241m*\u001b[39mkwds)\n\u001b[0;32m    671\u001b[0m     total_time \u001b[38;5;241m=\u001b[39m time\u001b[38;5;241m.\u001b[39mtime() \u001b[38;5;241m-\u001b[39m write_start_time\n\u001b[0;32m    672\u001b[0m     \u001b[38;5;28;01mif\u001b[39;00m \u001b[38;5;28mself\u001b[39m\u001b[38;5;241m.\u001b[39m_report_timing:\n",
      "File \u001b[1;32m~\\AppData\\Roaming\\Python\\Python310\\site-packages\\pyomo\\opt\\base\\solvers.py:718\u001b[0m, in \u001b[0;36mOptSolver._convert_problem\u001b[1;34m(self, args, problem_format, valid_problem_formats, **kwds)\u001b[0m\n\u001b[0;32m    713\u001b[0m \u001b[38;5;28;01mdef\u001b[39;00m \u001b[38;5;21m_convert_problem\u001b[39m(\u001b[38;5;28mself\u001b[39m,\n\u001b[0;32m    714\u001b[0m                      args,\n\u001b[0;32m    715\u001b[0m                      problem_format,\n\u001b[0;32m    716\u001b[0m                      valid_problem_formats,\n\u001b[0;32m    717\u001b[0m                      \u001b[38;5;241m*\u001b[39m\u001b[38;5;241m*\u001b[39mkwds):\n\u001b[1;32m--> 718\u001b[0m     \u001b[38;5;28;01mreturn\u001b[39;00m convert_problem(args,\n\u001b[0;32m    719\u001b[0m                            problem_format,\n\u001b[0;32m    720\u001b[0m                            valid_problem_formats,\n\u001b[0;32m    721\u001b[0m                            \u001b[38;5;28mself\u001b[39m\u001b[38;5;241m.\u001b[39mhas_capability,\n\u001b[0;32m    722\u001b[0m                            \u001b[38;5;241m*\u001b[39m\u001b[38;5;241m*\u001b[39mkwds)\n",
      "File \u001b[1;32m~\\AppData\\Roaming\\Python\\Python310\\site-packages\\pyomo\\opt\\base\\convert.py:101\u001b[0m, in \u001b[0;36mconvert_problem\u001b[1;34m(args, target_problem_type, valid_problem_types, has_capability, **kwds)\u001b[0m\n\u001b[0;32m     99\u001b[0m                 tmpkw \u001b[38;5;241m=\u001b[39m kwds\n\u001b[0;32m    100\u001b[0m                 tmpkw[\u001b[38;5;124m'\u001b[39m\u001b[38;5;124mcapabilities\u001b[39m\u001b[38;5;124m'\u001b[39m] \u001b[38;5;241m=\u001b[39m has_capability\n\u001b[1;32m--> 101\u001b[0m                 problem_files, symbol_map \u001b[38;5;241m=\u001b[39m converter\u001b[38;5;241m.\u001b[39mapply(\u001b[38;5;241m*\u001b[39mtmp, \u001b[38;5;241m*\u001b[39m\u001b[38;5;241m*\u001b[39mtmpkw)\n\u001b[0;32m    102\u001b[0m                 \u001b[38;5;28;01mreturn\u001b[39;00m problem_files, ptype, symbol_map\n\u001b[0;32m    104\u001b[0m msg \u001b[38;5;241m=\u001b[39m \u001b[38;5;124m'\u001b[39m\u001b[38;5;124mNo conversion possible.  Source problem type: \u001b[39m\u001b[38;5;132;01m%s\u001b[39;00m\u001b[38;5;124m.  Valid target \u001b[39m\u001b[38;5;124m'\u001b[39m  \\\n\u001b[0;32m    105\u001b[0m       \u001b[38;5;124m'\u001b[39m\u001b[38;5;124mtypes: \u001b[39m\u001b[38;5;132;01m%s\u001b[39;00m\u001b[38;5;124m'\u001b[39m\n",
      "File \u001b[1;32m~\\AppData\\Roaming\\Python\\Python310\\site-packages\\pyomo\\solvers\\plugins\\converter\\model.py:78\u001b[0m, in \u001b[0;36mPyomoMIPConverter.apply\u001b[1;34m(self, *args, **kwds)\u001b[0m\n\u001b[0;32m     70\u001b[0m         symbol_map_id \u001b[38;5;241m=\u001b[39m instance\u001b[38;5;241m.\u001b[39mwrite(\n\u001b[0;32m     71\u001b[0m             problem_filename,\n\u001b[0;32m     72\u001b[0m             \u001b[38;5;28mformat\u001b[39m\u001b[38;5;241m=\u001b[39mProblemFormat\u001b[38;5;241m.\u001b[39mcpxlp,\n\u001b[0;32m     73\u001b[0m             _solver_capability\u001b[38;5;241m=\u001b[39mcapabilities,\n\u001b[0;32m     74\u001b[0m             _called_by_solver\u001b[38;5;241m=\u001b[39m\u001b[38;5;28;01mTrue\u001b[39;00m,\n\u001b[0;32m     75\u001b[0m             \u001b[38;5;241m*\u001b[39m\u001b[38;5;241m*\u001b[39mio_options)\n\u001b[0;32m     76\u001b[0m     \u001b[38;5;28;01melse\u001b[39;00m:\n\u001b[0;32m     77\u001b[0m         (problem_filename, symbol_map_id) \u001b[38;5;241m=\u001b[39m \\\n\u001b[1;32m---> 78\u001b[0m             \u001b[43minstance\u001b[49m\u001b[38;5;241;43m.\u001b[39;49m\u001b[43mwrite\u001b[49m\u001b[43m(\u001b[49m\n\u001b[0;32m     79\u001b[0m \u001b[43m                \u001b[49m\u001b[43mfilename\u001b[49m\u001b[38;5;241;43m=\u001b[39;49m\u001b[43mproblem_filename\u001b[49m\u001b[43m,\u001b[49m\n\u001b[0;32m     80\u001b[0m \u001b[43m                \u001b[49m\u001b[38;5;28;43mformat\u001b[39;49m\u001b[38;5;241;43m=\u001b[39;49m\u001b[43mProblemFormat\u001b[49m\u001b[38;5;241;43m.\u001b[39;49m\u001b[43mcpxlp\u001b[49m\u001b[43m,\u001b[49m\n\u001b[0;32m     81\u001b[0m \u001b[43m                \u001b[49m\u001b[43msolver_capability\u001b[49m\u001b[38;5;241;43m=\u001b[39;49m\u001b[43mcapabilities\u001b[49m\u001b[43m,\u001b[49m\n\u001b[0;32m     82\u001b[0m \u001b[43m                \u001b[49m\u001b[43mio_options\u001b[49m\u001b[38;5;241;43m=\u001b[39;49m\u001b[43mio_options\u001b[49m\u001b[43m)\u001b[49m\n\u001b[0;32m     83\u001b[0m     \u001b[38;5;28;01mreturn\u001b[39;00m (problem_filename,), symbol_map_id\n\u001b[0;32m     84\u001b[0m \u001b[38;5;28;01melse\u001b[39;00m:\n\u001b[0;32m     85\u001b[0m \n\u001b[0;32m     86\u001b[0m     \u001b[38;5;66;03m#\u001b[39;00m\n\u001b[1;32m   (...)\u001b[0m\n\u001b[0;32m     90\u001b[0m     \u001b[38;5;66;03m# arguments that can be sent to the writer?\u001b[39;00m\n\u001b[0;32m     91\u001b[0m     \u001b[38;5;66;03m#\u001b[39;00m\n",
      "File \u001b[1;32m~\\AppData\\Roaming\\Python\\Python310\\site-packages\\pyomo\\core\\base\\block.py:1976\u001b[0m, in \u001b[0;36m_BlockData.write\u001b[1;34m(self, filename, format, solver_capability, io_options)\u001b[0m\n\u001b[0;32m   1974\u001b[0m \u001b[38;5;28;01mif\u001b[39;00m solver_capability \u001b[38;5;129;01mis\u001b[39;00m \u001b[38;5;28;01mNone\u001b[39;00m:\n\u001b[0;32m   1975\u001b[0m     \u001b[38;5;28;01mdef\u001b[39;00m \u001b[38;5;21msolver_capability\u001b[39m(x): \u001b[38;5;28;01mreturn\u001b[39;00m \u001b[38;5;28;01mTrue\u001b[39;00m\n\u001b[1;32m-> 1976\u001b[0m (filename, smap) \u001b[38;5;241m=\u001b[39m \u001b[43mproblem_writer\u001b[49m\u001b[43m(\u001b[49m\u001b[38;5;28;43mself\u001b[39;49m\u001b[43m,\u001b[49m\n\u001b[0;32m   1977\u001b[0m \u001b[43m                                  \u001b[49m\u001b[43mfilename\u001b[49m\u001b[43m,\u001b[49m\n\u001b[0;32m   1978\u001b[0m \u001b[43m                                  \u001b[49m\u001b[43msolver_capability\u001b[49m\u001b[43m,\u001b[49m\n\u001b[0;32m   1979\u001b[0m \u001b[43m                                  \u001b[49m\u001b[43mio_options\u001b[49m\u001b[43m)\u001b[49m\n\u001b[0;32m   1980\u001b[0m smap_id \u001b[38;5;241m=\u001b[39m \u001b[38;5;28mid\u001b[39m(smap)\n\u001b[0;32m   1981\u001b[0m \u001b[38;5;28;01mif\u001b[39;00m \u001b[38;5;129;01mnot\u001b[39;00m \u001b[38;5;28mhasattr\u001b[39m(\u001b[38;5;28mself\u001b[39m, \u001b[38;5;124m'\u001b[39m\u001b[38;5;124msolutions\u001b[39m\u001b[38;5;124m'\u001b[39m):\n\u001b[0;32m   1982\u001b[0m     \u001b[38;5;66;03m# This is a bit of a hack.  The write() method was moved\u001b[39;00m\n\u001b[0;32m   1983\u001b[0m     \u001b[38;5;66;03m# here from PyomoModel to support the solution of arbitrary\u001b[39;00m\n\u001b[1;32m   (...)\u001b[0m\n\u001b[0;32m   1988\u001b[0m     \u001b[38;5;66;03m# dependency (we only need it here because we store the\u001b[39;00m\n\u001b[0;32m   1989\u001b[0m     \u001b[38;5;66;03m# SymbolMap returned by the writer in the solutions).\u001b[39;00m\n",
      "File \u001b[1;32mpyomo\\repn\\plugins\\cpxlp.pyx:158\u001b[0m, in \u001b[0;36mpyomo.repn.plugins.cpxlp.ProblemWriter_cpxlp.__call__\u001b[1;34m()\u001b[0m\n",
      "File \u001b[1;32mpyomo\\repn\\plugins\\cpxlp.pyx:159\u001b[0m, in \u001b[0;36mpyomo.repn.plugins.cpxlp.ProblemWriter_cpxlp.__call__\u001b[1;34m()\u001b[0m\n",
      "File \u001b[1;32mpyomo\\repn\\plugins\\cpxlp.pyx:160\u001b[0m, in \u001b[0;36mpyomo.repn.plugins.cpxlp.ProblemWriter_cpxlp.__call__\u001b[1;34m()\u001b[0m\n",
      "File \u001b[1;32mpyomo\\repn\\plugins\\cpxlp.pyx:526\u001b[0m, in \u001b[0;36mpyomo.repn.plugins.cpxlp.ProblemWriter_cpxlp._print_model_LP\u001b[1;34m()\u001b[0m\n",
      "\u001b[1;31mRuntimeError\u001b[0m: Selected solver is unable to handle objective functions with quadratic terms. Objective at issue: obj."
     ]
    }
   ],
   "source": [
    "import pyomo.environ as pyo\n",
    "import pandas as pd\n",
    "import numpy as np\n",
    "\n",
    "# Sample data\n",
    "A = np.array([80, 340, 410, 50, 180, 221, 15, 348, 191, 225])\n",
    "B = np.array([1000, 1100, 900, 1200])\n",
    "P = np.array([0.55, 0.4, 0.04, 0.01])\n",
    "r = 2\n",
    "\n",
    "# Load return data from csv file (assuming it has 10 rows and 4 columns)\n",
    "R = pd.read_csv(FILE_PATH_PROBLEM + \"investments_data.csv\", sep=';').to_numpy()\n",
    "\n",
    "model = pyo.ConcreteModel()\n",
    "\n",
    "# Define decision variables\n",
    "model.x = pyo.Var(range(1, 11), domain=pyo.Binary)\n",
    "model.y = pyo.Var(range(1, 5), domain=pyo.NonNegativeReals)\n",
    "model.z = pyo.Var(domain=pyo.NonNegativeReals)\n",
    "\n",
    "# Define objective function\n",
    "def obj_rule(model):\n",
    "    return model.z - r * sum(\n",
    "        (R[i, j] * model.x[i + 1] - model.z) ** 2 * P[j] for i in range(10) for j in range(4)\n",
    "    ) / 4\n",
    "\n",
    "model.obj = pyo.Objective(rule=obj_rule, sense=pyo.maximize)\n",
    "\n",
    "# Define constraints\n",
    "def budget_constraints(model, j):\n",
    "    return sum(A[i] * model.x[i + 1] + model.y[j + 1] for i in range(10)) <= B[j]\n",
    "\n",
    "model.budget_constraints = pyo.Constraint(range(4), rule=budget_constraints)\n",
    "\n",
    "def exceeded_budget_constraint(model):\n",
    "    return sum(P[j] * model.y[j + 1] for j in range(4)) <= 0.4 * sum(P[j] * B[j] for j in range(4))\n",
    "\n",
    "model.exceeded_budget_constraint = pyo.Constraint(rule=exceeded_budget_constraint)\n",
    "\n",
    "def expected_return(model):\n",
    "    return model.z == sum(R[i, j] * model.x[i + 1] * P[j] for i in range(10) for j in range(4)) / 4\n",
    "\n",
    "model.expected_return = pyo.Constraint(rule=expected_return)\n",
    "\n",
    "# Solve the model\n",
    "solver = pyo.SolverFactory('glpk')\n",
    "solver.solve(model)\n",
    "\n",
    "# Print the optimal solution\n",
    "print(\"Optimal solution:\")\n",
    "for i in range(1, 11):\n",
    "    print(f\"x{i} = {model.x[i].value}\")\n",
    "for j in range(1, 5):\n",
    "    print(f\"y{j} = {model.y[j].value}\")\n",
    "print(f\"z = {model.z.value}\")"
   ]
  }
 ],
 "metadata": {
  "kernelspec": {
   "display_name": "Python 3 (ipykernel)",
   "language": "python",
   "name": "python3"
  },
  "language_info": {
   "codemirror_mode": {
    "name": "ipython",
    "version": 3
   },
   "file_extension": ".py",
   "mimetype": "text/x-python",
   "name": "python",
   "nbconvert_exporter": "python",
   "pygments_lexer": "ipython3",
   "version": "3.10.4"
  }
 },
 "nbformat": 4,
 "nbformat_minor": 5
}
