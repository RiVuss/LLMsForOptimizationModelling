{
 "cells": [
  {
   "cell_type": "code",
   "execution_count": 1,
   "id": "e5c2c174",
   "metadata": {},
   "outputs": [],
   "source": [
    "import os\n",
    "from mistralai.client import MistralClient\n",
    "from mistralai.models.chat_completion import ChatMessage\n",
    "from IPython.display import display, Markdown, Latex\n",
    "from datetime import datetime"
   ]
  },
  {
   "cell_type": "code",
   "execution_count": 2,
   "id": "b0c91a62",
   "metadata": {},
   "outputs": [
    {
     "name": "stdout",
     "output_type": "stream",
     "text": [
      "Time of execution: 2024-05-22 11:59:23.975970\n"
     ]
    }
   ],
   "source": [
    "API_KEY = os.environ['MISTRAL_API_KEY']\n",
    "\n",
    "MODEL_ID = 'open-mixtral-8x22b'\n",
    "MODEL_SEED = 1\n",
    "MODEL_TEMPERATURE = 0.7\n",
    "\n",
    "file_system_prompt_1 = open(\"../../system_prompt_1.txt\", \"r\")\n",
    "file_system_prompt_2 = open(\"../../system_prompt_2.txt\", \"r\")\n",
    "SYSTEM_PROMPT_1 = file_system_prompt_1.read()\n",
    "SYSTEM_PROMPT_2 = file_system_prompt_2.read()\n",
    "file_system_prompt_1.close()\n",
    "file_system_prompt_2.close()\n",
    "\n",
    "FILE_PATH_PROBLEM = '../../../../Datasets/IP_2_Choosing_Investment_Strategies/'\n",
    "assert(FILE_PATH_PROBLEM != '../../../../Datasets/')\n",
    "file_problem_description = open(FILE_PATH_PROBLEM + 'ProblemDescription.txt', 'r')\n",
    "PROBLEM_DESCRIPTION = file_problem_description.read()\n",
    "file_problem_description.close()\n",
    "\n",
    "\n",
    "client = MistralClient(api_key=API_KEY)\n",
    "\n",
    "print(f'Time of execution: {datetime.now()}')"
   ]
  },
  {
   "cell_type": "markdown",
   "id": "3e540824",
   "metadata": {},
   "source": [
    "## Step 1 - Generate Mathematical Formulation "
   ]
  },
  {
   "cell_type": "code",
   "execution_count": 3,
   "id": "174c127b",
   "metadata": {},
   "outputs": [],
   "source": [
    "messages_1 = [\n",
    "    ChatMessage(role=\"system\", content=SYSTEM_PROMPT_1),\n",
    "    ChatMessage(role=\"user\", content=PROBLEM_DESCRIPTION)\n",
    "]"
   ]
  },
  {
   "cell_type": "code",
   "execution_count": 4,
   "id": "d43340f3",
   "metadata": {},
   "outputs": [],
   "source": [
    "response_1 = client.chat(\n",
    "    model=MODEL_ID,\n",
    "    messages=messages_1,\n",
    "    random_seed=MODEL_SEED,\n",
    "    temperature=MODEL_TEMPERATURE \n",
    ")\n",
    "\n",
    "response_1_text = response_1.choices[0].message.content"
   ]
  },
  {
   "cell_type": "code",
   "execution_count": 5,
   "id": "03616e62",
   "metadata": {},
   "outputs": [
    {
     "data": {
      "text/markdown": [
       "To formulate a mean-variance mathematical optimization model for this problem, we'll define the parameters, decision variables, objective function, and constraints as follows:\n",
       "\n",
       "Parameters:\n",
       "- Let \\(N = 10\\) be the number of investment strategies.\n",
       "- Let \\(A = [80, 340, 410, 50, 180, 221, 15, 348, 191, 225]\\) be the vector of investment costs.\n",
       "- Let \\(R = [r_{i,j}]\\) be the \\(N \\times M\\) matrix of historic returns, where \\(r_{i,j}\\) is the return of strategy \\(i\\) in year \\(j\\), and \\(M\\) is the number of rows in the \"investments_data.csv\" file.\n",
       "- Let \\(B = [1000, 1100, 900, 1200]\\) be the vector of possible budget scenarios.\n",
       "- Let \\(P = [0.55, 0.4, 0.04, 0.01]\\) be the vector of probabilities for each budget scenario.\n",
       "- Let \\(r = 2\\) be the risk parameter.\n",
       "\n",
       "Decision Variables:\n",
       "- Let \\(x_i\\) be a binary decision variable indicating whether we invest in strategy \\(i\\) (\\(x_i = 1\\)) or not (\\(x_i = 0\\)).\n",
       "- Let \\(z\\) be a continuous decision variable representing the expected return on investment.\n",
       "- Let \\(w\\) be a continuous decision variable representing the variance of the return on investment.\n",
       "\n",
       "Objective Function:\n",
       "We want to maximize the expected return \\(z\\) while minimizing the risk \\(r \\cdot w\\). Thus, the objective function is:\n",
       "\\[ \\text{maximize } z - r \\cdot w \\]\n",
       "\n",
       "Constraints:\n",
       "1. Budget constraint:\n",
       "For each budget scenario \\(k\\), the total investment cost should not exceed the budget:\n",
       "\\[ \\sum_{i=1}^{N} A_i \\cdot x_i \\leq B_k \\quad \\forall k \\in \\{1, 2, 3, 4\\} \\]\n",
       "2. Probability of exceeding budget constraint:\n",
       "The probability of exceeding the budget should not exceed 0.4. This can be represented using the Chebyshev's inequality:\n",
       "\\[ \\text{Pr} \\left( \\sum_{i=1}^{N} A_i \\cdot x_i > \\text{E}[B] \\right) \\leq \\frac{\\text{Var}[B]}{(\\text{E}[B] - \\sum_{i=1}^{N} A_i \\cdot x_i)^2} \\leq 0.4 \\]\n",
       "where \\(\\text{E}[B]\\) is the expected budget and \\(\\text{Var}[B]\\) is the variance of the budget.\n",
       "3. Expected return constraint:\n",
       "The expected return \\(z\\) should be equal to the weighted average of the historic returns:\n",
       "\\[ z = \\frac{1}{M} \\sum_{i=1}^{N} \\sum_{j=1}^{M} r_{i,j} \\cdot x_i \\]\n",
       "4. Variance constraint:\n",
       "The variance \\(w\\) should be equal to the weighted average of the historic return variances:\n",
       "\\[ w = \\frac{1}{M} \\sum_{i=1}^{N} \\sum_{j=1}^{M} (r_{i,j} - z)^2 \\cdot x_i \\]\n",
       "\n",
       "This formulation provides a mean-variance optimization model that can be used to determine the most optimal investment strategy under the given constraints and uncertain budget scenarios."
      ],
      "text/plain": [
       "<IPython.core.display.Markdown object>"
      ]
     },
     "execution_count": 5,
     "metadata": {},
     "output_type": "execute_result"
    }
   ],
   "source": [
    "Markdown(response_1_text)"
   ]
  },
  {
   "cell_type": "code",
   "execution_count": 6,
   "id": "b6a33171",
   "metadata": {},
   "outputs": [
    {
     "name": "stdout",
     "output_type": "stream",
     "text": [
      "To formulate a mean-variance mathematical optimization model for this problem, we'll define the parameters, decision variables, objective function, and constraints as follows:\n",
      "\n",
      "Parameters:\n",
      "- Let \\(N = 10\\) be the number of investment strategies.\n",
      "- Let \\(A = [80, 340, 410, 50, 180, 221, 15, 348, 191, 225]\\) be the vector of investment costs.\n",
      "- Let \\(R = [r_{i,j}]\\) be the \\(N \\times M\\) matrix of historic returns, where \\(r_{i,j}\\) is the return of strategy \\(i\\) in year \\(j\\), and \\(M\\) is the number of rows in the \"investments_data.csv\" file.\n",
      "- Let \\(B = [1000, 1100, 900, 1200]\\) be the vector of possible budget scenarios.\n",
      "- Let \\(P = [0.55, 0.4, 0.04, 0.01]\\) be the vector of probabilities for each budget scenario.\n",
      "- Let \\(r = 2\\) be the risk parameter.\n",
      "\n",
      "Decision Variables:\n",
      "- Let \\(x_i\\) be a binary decision variable indicating whether we invest in strategy \\(i\\) (\\(x_i = 1\\)) or not (\\(x_i = 0\\)).\n",
      "- Let \\(z\\) be a continuous decision variable representing the expected return on investment.\n",
      "- Let \\(w\\) be a continuous decision variable representing the variance of the return on investment.\n",
      "\n",
      "Objective Function:\n",
      "We want to maximize the expected return \\(z\\) while minimizing the risk \\(r \\cdot w\\). Thus, the objective function is:\n",
      "\\[ \\text{maximize } z - r \\cdot w \\]\n",
      "\n",
      "Constraints:\n",
      "1. Budget constraint:\n",
      "For each budget scenario \\(k\\), the total investment cost should not exceed the budget:\n",
      "\\[ \\sum_{i=1}^{N} A_i \\cdot x_i \\leq B_k \\quad \\forall k \\in \\{1, 2, 3, 4\\} \\]\n",
      "2. Probability of exceeding budget constraint:\n",
      "The probability of exceeding the budget should not exceed 0.4. This can be represented using the Chebyshev's inequality:\n",
      "\\[ \\text{Pr} \\left( \\sum_{i=1}^{N} A_i \\cdot x_i > \\text{E}[B] \\right) \\leq \\frac{\\text{Var}[B]}{(\\text{E}[B] - \\sum_{i=1}^{N} A_i \\cdot x_i)^2} \\leq 0.4 \\]\n",
      "where \\(\\text{E}[B]\\) is the expected budget and \\(\\text{Var}[B]\\) is the variance of the budget.\n",
      "3. Expected return constraint:\n",
      "The expected return \\(z\\) should be equal to the weighted average of the historic returns:\n",
      "\\[ z = \\frac{1}{M} \\sum_{i=1}^{N} \\sum_{j=1}^{M} r_{i,j} \\cdot x_i \\]\n",
      "4. Variance constraint:\n",
      "The variance \\(w\\) should be equal to the weighted average of the historic return variances:\n",
      "\\[ w = \\frac{1}{M} \\sum_{i=1}^{N} \\sum_{j=1}^{M} (r_{i,j} - z)^2 \\cdot x_i \\]\n",
      "\n",
      "This formulation provides a mean-variance optimization model that can be used to determine the most optimal investment strategy under the given constraints and uncertain budget scenarios.\n"
     ]
    }
   ],
   "source": [
    "print(response_1_text)"
   ]
  },
  {
   "cell_type": "markdown",
   "id": "27b5f89a",
   "metadata": {},
   "source": [
    "## Step 2 - Generate the Pyomo Code"
   ]
  },
  {
   "cell_type": "code",
   "execution_count": 7,
   "id": "a4c3312f",
   "metadata": {},
   "outputs": [],
   "source": [
    "messages_2 = [\n",
    "    ChatMessage(role=\"system\", content=SYSTEM_PROMPT_2),\n",
    "    ChatMessage(role=\"user\", content=response_1_text)\n",
    "]"
   ]
  },
  {
   "cell_type": "code",
   "execution_count": 8,
   "id": "4212d99d",
   "metadata": {},
   "outputs": [],
   "source": [
    "response_2 = client.chat(\n",
    "    model=MODEL_ID,\n",
    "    messages=messages_2,\n",
    "    random_seed=MODEL_SEED,\n",
    "    temperature=MODEL_TEMPERATURE\n",
    ")\n",
    "\n",
    "response_2_text = response_2.choices[0].message.content"
   ]
  },
  {
   "cell_type": "code",
   "execution_count": 9,
   "id": "c168a60b",
   "metadata": {},
   "outputs": [
    {
     "data": {
      "text/markdown": [
       "Here's a Python Pyomo code for the mean-variance optimization problem described:\n",
       "\n",
       "```python\n",
       "import pyomo.environ as pyo\n",
       "import pandas as pd\n",
       "import numpy as np\n",
       "\n",
       "# Sample data\n",
       "A = [80, 340, 410, 50, 180, 221, 15, 348, 191, 225]\n",
       "B = [1000, 1100, 900, 1200]\n",
       "P = [0.55, 0.4, 0.04, 0.01]\n",
       "r = 2\n",
       "\n",
       "# Read historic returns data\n",
       "investments_data = pd.read_csv(\"investments_data.csv\")\n",
       "N = len(A)\n",
       "M = len(investments_data)\n",
       "\n",
       "R = np.zeros((N, M))\n",
       "for i in range(N):\n",
       "    R[i, :] = investments_data.iloc[:, i]\n",
       "\n",
       "# Define the Pyomo model\n",
       "model = pyo.ConcreteModel()\n",
       "\n",
       "# Decision variables\n",
       "model.x = pyo.Var(range(N), domain=pyo.Binary)\n",
       "model.z = pyo.Var()\n",
       "model.w = pyo.Var()\n",
       "\n",
       "# Objective function\n",
       "model.objective = pyo.Objective(expr=model.z - r * model.w, sense=pyo.maximize)\n",
       "\n",
       "# Budget constraint\n",
       "def budget_constraint_rule(model, k):\n",
       "    return sum(A[i] * model.x[i] for i in range(N)) <= B[k]\n",
       "model.budget_constraint = pyo.Constraint(range(len(B)), rule=budget_constraint_rule)\n",
       "\n",
       "# Probability of exceeding budget constraint\n",
       "E_B = sum(P[k] * B[k] for k in range(len(B)))\n",
       "Var_B = sum(P[k] * (B[k] - E_B) ** 2 for k in range(len(B)))\n",
       "model.probability_constraint = pyo.Constraint(expr=Var_B / (E_B - sum(A[i] * model.x[i] for i in range(N))) ** 2 <= 0.4)\n",
       "\n",
       "# Expected return constraint\n",
       "model.expected_return_constraint = pyo.Constraint(expr=model.z == (1 / M) * sum(sum(R[i, j] * model.x[i] for j in range(M)) for i in range(N)))\n",
       "\n",
       "# Variance constraint\n",
       "model.variance_constraint = pyo.Constraint(expr=model.w == (1 / M) * sum(sum((R[i, j] - model.z) ** 2 * model.x[i] for j in range(M)) for i in range(N)))\n",
       "\n",
       "# Solve the model\n",
       "solver = pyo.SolverFactory('glpk')\n",
       "solver.solve(model)\n",
       "\n",
       "# Print the results\n",
       "print(\"Objective value:\", pyo.value(model.objective.expr))\n",
       "print(\"Decision variables x:\", [pyo.value(model.x[i]) for i in range(N)])\n",
       "print(\"Expected return z:\", pyo.value(model.z))\n",
       "print(\"Variance w:\", pyo.value(model.w))\n",
       "```\n",
       "\n",
       "This code assumes that the \"investments_data.csv\" file contains the historic returns for each investment strategy. The code defines the Pyomo model with the given parameters, decision variables, objective function, and constraints. It then solves the model using the GLPK solver and prints the results."
      ],
      "text/plain": [
       "<IPython.core.display.Markdown object>"
      ]
     },
     "execution_count": 9,
     "metadata": {},
     "output_type": "execute_result"
    }
   ],
   "source": [
    "Markdown(response_2_text)"
   ]
  },
  {
   "cell_type": "code",
   "execution_count": 10,
   "id": "a380c180",
   "metadata": {},
   "outputs": [
    {
     "name": "stdout",
     "output_type": "stream",
     "text": [
      "Here's a Python Pyomo code for the mean-variance optimization problem described:\n",
      "\n",
      "```python\n",
      "import pyomo.environ as pyo\n",
      "import pandas as pd\n",
      "import numpy as np\n",
      "\n",
      "# Sample data\n",
      "A = [80, 340, 410, 50, 180, 221, 15, 348, 191, 225]\n",
      "B = [1000, 1100, 900, 1200]\n",
      "P = [0.55, 0.4, 0.04, 0.01]\n",
      "r = 2\n",
      "\n",
      "# Read historic returns data\n",
      "investments_data = pd.read_csv(\"investments_data.csv\")\n",
      "N = len(A)\n",
      "M = len(investments_data)\n",
      "\n",
      "R = np.zeros((N, M))\n",
      "for i in range(N):\n",
      "    R[i, :] = investments_data.iloc[:, i]\n",
      "\n",
      "# Define the Pyomo model\n",
      "model = pyo.ConcreteModel()\n",
      "\n",
      "# Decision variables\n",
      "model.x = pyo.Var(range(N), domain=pyo.Binary)\n",
      "model.z = pyo.Var()\n",
      "model.w = pyo.Var()\n",
      "\n",
      "# Objective function\n",
      "model.objective = pyo.Objective(expr=model.z - r * model.w, sense=pyo.maximize)\n",
      "\n",
      "# Budget constraint\n",
      "def budget_constraint_rule(model, k):\n",
      "    return sum(A[i] * model.x[i] for i in range(N)) <= B[k]\n",
      "model.budget_constraint = pyo.Constraint(range(len(B)), rule=budget_constraint_rule)\n",
      "\n",
      "# Probability of exceeding budget constraint\n",
      "E_B = sum(P[k] * B[k] for k in range(len(B)))\n",
      "Var_B = sum(P[k] * (B[k] - E_B) ** 2 for k in range(len(B)))\n",
      "model.probability_constraint = pyo.Constraint(expr=Var_B / (E_B - sum(A[i] * model.x[i] for i in range(N))) ** 2 <= 0.4)\n",
      "\n",
      "# Expected return constraint\n",
      "model.expected_return_constraint = pyo.Constraint(expr=model.z == (1 / M) * sum(sum(R[i, j] * model.x[i] for j in range(M)) for i in range(N)))\n",
      "\n",
      "# Variance constraint\n",
      "model.variance_constraint = pyo.Constraint(expr=model.w == (1 / M) * sum(sum((R[i, j] - model.z) ** 2 * model.x[i] for j in range(M)) for i in range(N)))\n",
      "\n",
      "# Solve the model\n",
      "solver = pyo.SolverFactory('glpk')\n",
      "solver.solve(model)\n",
      "\n",
      "# Print the results\n",
      "print(\"Objective value:\", pyo.value(model.objective.expr))\n",
      "print(\"Decision variables x:\", [pyo.value(model.x[i]) for i in range(N)])\n",
      "print(\"Expected return z:\", pyo.value(model.z))\n",
      "print(\"Variance w:\", pyo.value(model.w))\n",
      "```\n",
      "\n",
      "This code assumes that the \"investments_data.csv\" file contains the historic returns for each investment strategy. The code defines the Pyomo model with the given parameters, decision variables, objective function, and constraints. It then solves the model using the GLPK solver and prints the results.\n"
     ]
    }
   ],
   "source": [
    "print(response_2_text)"
   ]
  },
  {
   "cell_type": "markdown",
   "id": "879cc7ae",
   "metadata": {},
   "source": [
    "### Code Executability"
   ]
  },
  {
   "cell_type": "code",
   "execution_count": 13,
   "id": "f1d9a625",
   "metadata": {},
   "outputs": [
    {
     "ename": "ValueError",
     "evalue": "Cannot write legal LP file.  Constraint 'probability_constraint' has a body with nonlinear terms.",
     "output_type": "error",
     "traceback": [
      "\u001b[1;31m---------------------------------------------------------------------------\u001b[0m",
      "\u001b[1;31mValueError\u001b[0m                                Traceback (most recent call last)",
      "Input \u001b[1;32mIn [13]\u001b[0m, in \u001b[0;36m<cell line: 49>\u001b[1;34m()\u001b[0m\n\u001b[0;32m     47\u001b[0m \u001b[38;5;66;03m# Solve the model\u001b[39;00m\n\u001b[0;32m     48\u001b[0m solver \u001b[38;5;241m=\u001b[39m pyo\u001b[38;5;241m.\u001b[39mSolverFactory(\u001b[38;5;124m'\u001b[39m\u001b[38;5;124mglpk\u001b[39m\u001b[38;5;124m'\u001b[39m)\n\u001b[1;32m---> 49\u001b[0m \u001b[43msolver\u001b[49m\u001b[38;5;241;43m.\u001b[39;49m\u001b[43msolve\u001b[49m\u001b[43m(\u001b[49m\u001b[43mmodel\u001b[49m\u001b[43m)\u001b[49m\n\u001b[0;32m     51\u001b[0m \u001b[38;5;66;03m# Print the results\u001b[39;00m\n\u001b[0;32m     52\u001b[0m \u001b[38;5;28mprint\u001b[39m(\u001b[38;5;124m\"\u001b[39m\u001b[38;5;124mObjective value:\u001b[39m\u001b[38;5;124m\"\u001b[39m, pyo\u001b[38;5;241m.\u001b[39mvalue(model\u001b[38;5;241m.\u001b[39mobjective\u001b[38;5;241m.\u001b[39mexpr))\n",
      "File \u001b[1;32m~\\AppData\\Roaming\\Python\\Python310\\site-packages\\pyomo\\opt\\base\\solvers.py:570\u001b[0m, in \u001b[0;36mOptSolver.solve\u001b[1;34m(self, *args, **kwds)\u001b[0m\n\u001b[0;32m    565\u001b[0m \u001b[38;5;28;01mtry\u001b[39;00m:\n\u001b[0;32m    566\u001b[0m \n\u001b[0;32m    567\u001b[0m     \u001b[38;5;66;03m# we're good to go.\u001b[39;00m\n\u001b[0;32m    568\u001b[0m     initial_time \u001b[38;5;241m=\u001b[39m time\u001b[38;5;241m.\u001b[39mtime()\n\u001b[1;32m--> 570\u001b[0m     \u001b[38;5;28mself\u001b[39m\u001b[38;5;241m.\u001b[39m_presolve(\u001b[38;5;241m*\u001b[39margs, \u001b[38;5;241m*\u001b[39m\u001b[38;5;241m*\u001b[39mkwds)\n\u001b[0;32m    572\u001b[0m     presolve_completion_time \u001b[38;5;241m=\u001b[39m time\u001b[38;5;241m.\u001b[39mtime()\n\u001b[0;32m    573\u001b[0m     \u001b[38;5;28;01mif\u001b[39;00m \u001b[38;5;28mself\u001b[39m\u001b[38;5;241m.\u001b[39m_report_timing:\n",
      "File \u001b[1;32m~\\AppData\\Roaming\\Python\\Python310\\site-packages\\pyomo\\opt\\solver\\shellcmd.py:209\u001b[0m, in \u001b[0;36mSystemCallSolver._presolve\u001b[1;34m(self, *args, **kwds)\u001b[0m\n\u001b[0;32m    206\u001b[0m \u001b[38;5;28mself\u001b[39m\u001b[38;5;241m.\u001b[39m_keepfiles \u001b[38;5;241m=\u001b[39m kwds\u001b[38;5;241m.\u001b[39mpop(\u001b[38;5;124m\"\u001b[39m\u001b[38;5;124mkeepfiles\u001b[39m\u001b[38;5;124m\"\u001b[39m, \u001b[38;5;28;01mFalse\u001b[39;00m)\n\u001b[0;32m    207\u001b[0m \u001b[38;5;28mself\u001b[39m\u001b[38;5;241m.\u001b[39m_define_signal_handlers \u001b[38;5;241m=\u001b[39m kwds\u001b[38;5;241m.\u001b[39mpop(\u001b[38;5;124m'\u001b[39m\u001b[38;5;124muse_signal_handling\u001b[39m\u001b[38;5;124m'\u001b[39m,\u001b[38;5;28;01mNone\u001b[39;00m)\n\u001b[1;32m--> 209\u001b[0m OptSolver\u001b[38;5;241m.\u001b[39m_presolve(\u001b[38;5;28mself\u001b[39m, \u001b[38;5;241m*\u001b[39margs, \u001b[38;5;241m*\u001b[39m\u001b[38;5;241m*\u001b[39mkwds)\n\u001b[0;32m    211\u001b[0m \u001b[38;5;66;03m#\u001b[39;00m\n\u001b[0;32m    212\u001b[0m \u001b[38;5;66;03m# Verify that the input problems exists\u001b[39;00m\n\u001b[0;32m    213\u001b[0m \u001b[38;5;66;03m#\u001b[39;00m\n\u001b[0;32m    214\u001b[0m \u001b[38;5;28;01mfor\u001b[39;00m filename \u001b[38;5;129;01min\u001b[39;00m \u001b[38;5;28mself\u001b[39m\u001b[38;5;241m.\u001b[39m_problem_files:\n",
      "File \u001b[1;32m~\\AppData\\Roaming\\Python\\Python310\\site-packages\\pyomo\\opt\\base\\solvers.py:667\u001b[0m, in \u001b[0;36mOptSolver._presolve\u001b[1;34m(self, *args, **kwds)\u001b[0m\n\u001b[0;32m    664\u001b[0m \u001b[38;5;28;01mif\u001b[39;00m \u001b[38;5;28mself\u001b[39m\u001b[38;5;241m.\u001b[39m_problem_format:\n\u001b[0;32m    665\u001b[0m     write_start_time \u001b[38;5;241m=\u001b[39m time\u001b[38;5;241m.\u001b[39mtime()\n\u001b[0;32m    666\u001b[0m     (\u001b[38;5;28mself\u001b[39m\u001b[38;5;241m.\u001b[39m_problem_files, \u001b[38;5;28mself\u001b[39m\u001b[38;5;241m.\u001b[39m_problem_format, \u001b[38;5;28mself\u001b[39m\u001b[38;5;241m.\u001b[39m_smap_id) \u001b[38;5;241m=\u001b[39m \\\n\u001b[1;32m--> 667\u001b[0m         \u001b[38;5;28mself\u001b[39m\u001b[38;5;241m.\u001b[39m_convert_problem(args,\n\u001b[0;32m    668\u001b[0m                               \u001b[38;5;28mself\u001b[39m\u001b[38;5;241m.\u001b[39m_problem_format,\n\u001b[0;32m    669\u001b[0m                               \u001b[38;5;28mself\u001b[39m\u001b[38;5;241m.\u001b[39m_valid_problem_formats,\n\u001b[0;32m    670\u001b[0m                               \u001b[38;5;241m*\u001b[39m\u001b[38;5;241m*\u001b[39mkwds)\n\u001b[0;32m    671\u001b[0m     total_time \u001b[38;5;241m=\u001b[39m time\u001b[38;5;241m.\u001b[39mtime() \u001b[38;5;241m-\u001b[39m write_start_time\n\u001b[0;32m    672\u001b[0m     \u001b[38;5;28;01mif\u001b[39;00m \u001b[38;5;28mself\u001b[39m\u001b[38;5;241m.\u001b[39m_report_timing:\n",
      "File \u001b[1;32m~\\AppData\\Roaming\\Python\\Python310\\site-packages\\pyomo\\opt\\base\\solvers.py:718\u001b[0m, in \u001b[0;36mOptSolver._convert_problem\u001b[1;34m(self, args, problem_format, valid_problem_formats, **kwds)\u001b[0m\n\u001b[0;32m    713\u001b[0m \u001b[38;5;28;01mdef\u001b[39;00m \u001b[38;5;21m_convert_problem\u001b[39m(\u001b[38;5;28mself\u001b[39m,\n\u001b[0;32m    714\u001b[0m                      args,\n\u001b[0;32m    715\u001b[0m                      problem_format,\n\u001b[0;32m    716\u001b[0m                      valid_problem_formats,\n\u001b[0;32m    717\u001b[0m                      \u001b[38;5;241m*\u001b[39m\u001b[38;5;241m*\u001b[39mkwds):\n\u001b[1;32m--> 718\u001b[0m     \u001b[38;5;28;01mreturn\u001b[39;00m convert_problem(args,\n\u001b[0;32m    719\u001b[0m                            problem_format,\n\u001b[0;32m    720\u001b[0m                            valid_problem_formats,\n\u001b[0;32m    721\u001b[0m                            \u001b[38;5;28mself\u001b[39m\u001b[38;5;241m.\u001b[39mhas_capability,\n\u001b[0;32m    722\u001b[0m                            \u001b[38;5;241m*\u001b[39m\u001b[38;5;241m*\u001b[39mkwds)\n",
      "File \u001b[1;32m~\\AppData\\Roaming\\Python\\Python310\\site-packages\\pyomo\\opt\\base\\convert.py:101\u001b[0m, in \u001b[0;36mconvert_problem\u001b[1;34m(args, target_problem_type, valid_problem_types, has_capability, **kwds)\u001b[0m\n\u001b[0;32m     99\u001b[0m                 tmpkw \u001b[38;5;241m=\u001b[39m kwds\n\u001b[0;32m    100\u001b[0m                 tmpkw[\u001b[38;5;124m'\u001b[39m\u001b[38;5;124mcapabilities\u001b[39m\u001b[38;5;124m'\u001b[39m] \u001b[38;5;241m=\u001b[39m has_capability\n\u001b[1;32m--> 101\u001b[0m                 problem_files, symbol_map \u001b[38;5;241m=\u001b[39m converter\u001b[38;5;241m.\u001b[39mapply(\u001b[38;5;241m*\u001b[39mtmp, \u001b[38;5;241m*\u001b[39m\u001b[38;5;241m*\u001b[39mtmpkw)\n\u001b[0;32m    102\u001b[0m                 \u001b[38;5;28;01mreturn\u001b[39;00m problem_files, ptype, symbol_map\n\u001b[0;32m    104\u001b[0m msg \u001b[38;5;241m=\u001b[39m \u001b[38;5;124m'\u001b[39m\u001b[38;5;124mNo conversion possible.  Source problem type: \u001b[39m\u001b[38;5;132;01m%s\u001b[39;00m\u001b[38;5;124m.  Valid target \u001b[39m\u001b[38;5;124m'\u001b[39m  \\\n\u001b[0;32m    105\u001b[0m       \u001b[38;5;124m'\u001b[39m\u001b[38;5;124mtypes: \u001b[39m\u001b[38;5;132;01m%s\u001b[39;00m\u001b[38;5;124m'\u001b[39m\n",
      "File \u001b[1;32m~\\AppData\\Roaming\\Python\\Python310\\site-packages\\pyomo\\solvers\\plugins\\converter\\model.py:78\u001b[0m, in \u001b[0;36mPyomoMIPConverter.apply\u001b[1;34m(self, *args, **kwds)\u001b[0m\n\u001b[0;32m     70\u001b[0m         symbol_map_id \u001b[38;5;241m=\u001b[39m instance\u001b[38;5;241m.\u001b[39mwrite(\n\u001b[0;32m     71\u001b[0m             problem_filename,\n\u001b[0;32m     72\u001b[0m             \u001b[38;5;28mformat\u001b[39m\u001b[38;5;241m=\u001b[39mProblemFormat\u001b[38;5;241m.\u001b[39mcpxlp,\n\u001b[0;32m     73\u001b[0m             _solver_capability\u001b[38;5;241m=\u001b[39mcapabilities,\n\u001b[0;32m     74\u001b[0m             _called_by_solver\u001b[38;5;241m=\u001b[39m\u001b[38;5;28;01mTrue\u001b[39;00m,\n\u001b[0;32m     75\u001b[0m             \u001b[38;5;241m*\u001b[39m\u001b[38;5;241m*\u001b[39mio_options)\n\u001b[0;32m     76\u001b[0m     \u001b[38;5;28;01melse\u001b[39;00m:\n\u001b[0;32m     77\u001b[0m         (problem_filename, symbol_map_id) \u001b[38;5;241m=\u001b[39m \\\n\u001b[1;32m---> 78\u001b[0m             \u001b[43minstance\u001b[49m\u001b[38;5;241;43m.\u001b[39;49m\u001b[43mwrite\u001b[49m\u001b[43m(\u001b[49m\n\u001b[0;32m     79\u001b[0m \u001b[43m                \u001b[49m\u001b[43mfilename\u001b[49m\u001b[38;5;241;43m=\u001b[39;49m\u001b[43mproblem_filename\u001b[49m\u001b[43m,\u001b[49m\n\u001b[0;32m     80\u001b[0m \u001b[43m                \u001b[49m\u001b[38;5;28;43mformat\u001b[39;49m\u001b[38;5;241;43m=\u001b[39;49m\u001b[43mProblemFormat\u001b[49m\u001b[38;5;241;43m.\u001b[39;49m\u001b[43mcpxlp\u001b[49m\u001b[43m,\u001b[49m\n\u001b[0;32m     81\u001b[0m \u001b[43m                \u001b[49m\u001b[43msolver_capability\u001b[49m\u001b[38;5;241;43m=\u001b[39;49m\u001b[43mcapabilities\u001b[49m\u001b[43m,\u001b[49m\n\u001b[0;32m     82\u001b[0m \u001b[43m                \u001b[49m\u001b[43mio_options\u001b[49m\u001b[38;5;241;43m=\u001b[39;49m\u001b[43mio_options\u001b[49m\u001b[43m)\u001b[49m\n\u001b[0;32m     83\u001b[0m     \u001b[38;5;28;01mreturn\u001b[39;00m (problem_filename,), symbol_map_id\n\u001b[0;32m     84\u001b[0m \u001b[38;5;28;01melse\u001b[39;00m:\n\u001b[0;32m     85\u001b[0m \n\u001b[0;32m     86\u001b[0m     \u001b[38;5;66;03m#\u001b[39;00m\n\u001b[1;32m   (...)\u001b[0m\n\u001b[0;32m     90\u001b[0m     \u001b[38;5;66;03m# arguments that can be sent to the writer?\u001b[39;00m\n\u001b[0;32m     91\u001b[0m     \u001b[38;5;66;03m#\u001b[39;00m\n",
      "File \u001b[1;32m~\\AppData\\Roaming\\Python\\Python310\\site-packages\\pyomo\\core\\base\\block.py:1976\u001b[0m, in \u001b[0;36m_BlockData.write\u001b[1;34m(self, filename, format, solver_capability, io_options)\u001b[0m\n\u001b[0;32m   1974\u001b[0m \u001b[38;5;28;01mif\u001b[39;00m solver_capability \u001b[38;5;129;01mis\u001b[39;00m \u001b[38;5;28;01mNone\u001b[39;00m:\n\u001b[0;32m   1975\u001b[0m     \u001b[38;5;28;01mdef\u001b[39;00m \u001b[38;5;21msolver_capability\u001b[39m(x): \u001b[38;5;28;01mreturn\u001b[39;00m \u001b[38;5;28;01mTrue\u001b[39;00m\n\u001b[1;32m-> 1976\u001b[0m (filename, smap) \u001b[38;5;241m=\u001b[39m \u001b[43mproblem_writer\u001b[49m\u001b[43m(\u001b[49m\u001b[38;5;28;43mself\u001b[39;49m\u001b[43m,\u001b[49m\n\u001b[0;32m   1977\u001b[0m \u001b[43m                                  \u001b[49m\u001b[43mfilename\u001b[49m\u001b[43m,\u001b[49m\n\u001b[0;32m   1978\u001b[0m \u001b[43m                                  \u001b[49m\u001b[43msolver_capability\u001b[49m\u001b[43m,\u001b[49m\n\u001b[0;32m   1979\u001b[0m \u001b[43m                                  \u001b[49m\u001b[43mio_options\u001b[49m\u001b[43m)\u001b[49m\n\u001b[0;32m   1980\u001b[0m smap_id \u001b[38;5;241m=\u001b[39m \u001b[38;5;28mid\u001b[39m(smap)\n\u001b[0;32m   1981\u001b[0m \u001b[38;5;28;01mif\u001b[39;00m \u001b[38;5;129;01mnot\u001b[39;00m \u001b[38;5;28mhasattr\u001b[39m(\u001b[38;5;28mself\u001b[39m, \u001b[38;5;124m'\u001b[39m\u001b[38;5;124msolutions\u001b[39m\u001b[38;5;124m'\u001b[39m):\n\u001b[0;32m   1982\u001b[0m     \u001b[38;5;66;03m# This is a bit of a hack.  The write() method was moved\u001b[39;00m\n\u001b[0;32m   1983\u001b[0m     \u001b[38;5;66;03m# here from PyomoModel to support the solution of arbitrary\u001b[39;00m\n\u001b[1;32m   (...)\u001b[0m\n\u001b[0;32m   1988\u001b[0m     \u001b[38;5;66;03m# dependency (we only need it here because we store the\u001b[39;00m\n\u001b[0;32m   1989\u001b[0m     \u001b[38;5;66;03m# SymbolMap returned by the writer in the solutions).\u001b[39;00m\n",
      "File \u001b[1;32mpyomo\\repn\\plugins\\cpxlp.pyx:158\u001b[0m, in \u001b[0;36mpyomo.repn.plugins.cpxlp.ProblemWriter_cpxlp.__call__\u001b[1;34m()\u001b[0m\n",
      "File \u001b[1;32mpyomo\\repn\\plugins\\cpxlp.pyx:159\u001b[0m, in \u001b[0;36mpyomo.repn.plugins.cpxlp.ProblemWriter_cpxlp.__call__\u001b[1;34m()\u001b[0m\n",
      "File \u001b[1;32mpyomo\\repn\\plugins\\cpxlp.pyx:160\u001b[0m, in \u001b[0;36mpyomo.repn.plugins.cpxlp.ProblemWriter_cpxlp.__call__\u001b[1;34m()\u001b[0m\n",
      "File \u001b[1;32mpyomo\\repn\\plugins\\cpxlp.pyx:637\u001b[0m, in \u001b[0;36mpyomo.repn.plugins.cpxlp.ProblemWriter_cpxlp._print_model_LP\u001b[1;34m()\u001b[0m\n",
      "\u001b[1;31mValueError\u001b[0m: Cannot write legal LP file.  Constraint 'probability_constraint' has a body with nonlinear terms."
     ]
    }
   ],
   "source": [
    "import pyomo.environ as pyo\n",
    "import pandas as pd\n",
    "import numpy as np\n",
    "\n",
    "# Sample data\n",
    "A = [80, 340, 410, 50, 180, 221, 15, 348, 191, 225]\n",
    "B = [1000, 1100, 900, 1200]\n",
    "P = [0.55, 0.4, 0.04, 0.01]\n",
    "r = 2\n",
    "\n",
    "# Read historic returns data\n",
    "investments_data = pd.read_csv(FILE_PATH_PROBLEM + \"investments_data.csv\")\n",
    "N = len(A)\n",
    "M = len(investments_data)\n",
    "\n",
    "R = np.zeros((N, M))\n",
    "for i in range(N):\n",
    "    R[i, :] = investments_data.iloc[:, i]\n",
    "\n",
    "# Define the Pyomo model\n",
    "model = pyo.ConcreteModel()\n",
    "\n",
    "# Decision variables\n",
    "model.x = pyo.Var(range(N), domain=pyo.Binary)\n",
    "model.z = pyo.Var()\n",
    "model.w = pyo.Var()\n",
    "\n",
    "# Objective function\n",
    "model.objective = pyo.Objective(expr=model.z - r * model.w, sense=pyo.maximize)\n",
    "\n",
    "# Budget constraint\n",
    "def budget_constraint_rule(model, k):\n",
    "    return sum(A[i] * model.x[i] for i in range(N)) <= B[k]\n",
    "model.budget_constraint = pyo.Constraint(range(len(B)), rule=budget_constraint_rule)\n",
    "\n",
    "# Probability of exceeding budget constraint\n",
    "E_B = sum(P[k] * B[k] for k in range(len(B)))\n",
    "Var_B = sum(P[k] * (B[k] - E_B) ** 2 for k in range(len(B)))\n",
    "model.probability_constraint = pyo.Constraint(expr=Var_B / (E_B - sum(A[i] * model.x[i] for i in range(N))) ** 2 <= 0.4)\n",
    "\n",
    "# Expected return constraint\n",
    "model.expected_return_constraint = pyo.Constraint(expr=model.z == (1 / M) * sum(sum(R[i, j] * model.x[i] for j in range(M)) for i in range(N)))\n",
    "\n",
    "# Variance constraint\n",
    "model.variance_constraint = pyo.Constraint(expr=model.w == (1 / M) * sum(sum((R[i, j] - model.z) ** 2 * model.x[i] for j in range(M)) for i in range(N)))\n",
    "\n",
    "# Solve the model\n",
    "solver = pyo.SolverFactory('glpk')\n",
    "solver.solve(model)\n",
    "\n",
    "# Print the results\n",
    "print(\"Objective value:\", pyo.value(model.objective.expr))\n",
    "print(\"Decision variables x:\", [pyo.value(model.x[i]) for i in range(N)])\n",
    "print(\"Expected return z:\", pyo.value(model.z))\n",
    "print(\"Variance w:\", pyo.value(model.w))"
   ]
  },
  {
   "cell_type": "markdown",
   "id": "95f5c3a8",
   "metadata": {},
   "source": [
    "### Solution Correctness"
   ]
  },
  {
   "cell_type": "code",
   "execution_count": null,
   "id": "01245691",
   "metadata": {},
   "outputs": [],
   "source": []
  }
 ],
 "metadata": {
  "kernelspec": {
   "display_name": "Python 3 (ipykernel)",
   "language": "python",
   "name": "python3"
  },
  "language_info": {
   "codemirror_mode": {
    "name": "ipython",
    "version": 3
   },
   "file_extension": ".py",
   "mimetype": "text/x-python",
   "name": "python",
   "nbconvert_exporter": "python",
   "pygments_lexer": "ipython3",
   "version": "3.10.4"
  }
 },
 "nbformat": 4,
 "nbformat_minor": 5
}
