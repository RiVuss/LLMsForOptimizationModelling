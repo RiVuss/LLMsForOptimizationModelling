{
 "cells": [
  {
   "cell_type": "code",
   "execution_count": 1,
   "id": "e5c2c174",
   "metadata": {},
   "outputs": [],
   "source": [
    "import os\n",
    "from mistralai.client import MistralClient\n",
    "from mistralai.models.chat_completion import ChatMessage\n",
    "from IPython.display import display, Markdown, Latex\n",
    "from datetime import datetime"
   ]
  },
  {
   "cell_type": "code",
   "execution_count": 2,
   "id": "b0c91a62",
   "metadata": {},
   "outputs": [
    {
     "name": "stdout",
     "output_type": "stream",
     "text": [
      "Time of execution: 2024-05-22 15:47:59.107238\n"
     ]
    }
   ],
   "source": [
    "API_KEY = os.environ['MISTRAL_API_KEY']\n",
    "\n",
    "MODEL_ID = 'open-mixtral-8x22b'\n",
    "MODEL_SEED = 1\n",
    "MODEL_TEMPERATURE = 0.7\n",
    "\n",
    "file_system_prompt_1 = open(\"../../system_prompt_1.txt\", \"r\")\n",
    "file_system_prompt_2 = open(\"../../system_prompt_2.txt\", \"r\")\n",
    "SYSTEM_PROMPT_1 = file_system_prompt_1.read()\n",
    "SYSTEM_PROMPT_2 = file_system_prompt_2.read()\n",
    "file_system_prompt_1.close()\n",
    "file_system_prompt_2.close()\n",
    "\n",
    "FILE_PATH_PROBLEM = '../../../../Datasets/LP_3_Weekly-Production-Metallurgical-Company/'\n",
    "assert(FILE_PATH_PROBLEM != '../../../../Datasets/')\n",
    "file_problem_description = open(FILE_PATH_PROBLEM + 'ProblemDescription.txt', 'r')\n",
    "PROBLEM_DESCRIPTION = file_problem_description.read()\n",
    "file_problem_description.close()\n",
    "\n",
    "\n",
    "client = MistralClient(api_key=API_KEY)\n",
    "\n",
    "print(f'Time of execution: {datetime.now()}')"
   ]
  },
  {
   "cell_type": "markdown",
   "id": "3e540824",
   "metadata": {},
   "source": [
    "## Step 1 - Generate Mathematical Formulation "
   ]
  },
  {
   "cell_type": "code",
   "execution_count": 3,
   "id": "174c127b",
   "metadata": {},
   "outputs": [],
   "source": [
    "messages_1 = [\n",
    "    ChatMessage(role=\"system\", content=SYSTEM_PROMPT_1),\n",
    "    ChatMessage(role=\"user\", content=PROBLEM_DESCRIPTION)\n",
    "]"
   ]
  },
  {
   "cell_type": "code",
   "execution_count": 4,
   "id": "d43340f3",
   "metadata": {},
   "outputs": [],
   "source": [
    "response_1 = client.chat(\n",
    "    model=MODEL_ID,\n",
    "    messages=messages_1,\n",
    "    random_seed=MODEL_SEED,\n",
    "    temperature=MODEL_TEMPERATURE \n",
    ")\n",
    "\n",
    "response_1_text = response_1.choices[0].message.content"
   ]
  },
  {
   "cell_type": "code",
   "execution_count": 5,
   "id": "03616e62",
   "metadata": {},
   "outputs": [
    {
     "data": {
      "text/markdown": [
       "To formulate a mathematical optimization model for this problem, we need to define the parameters, decision variables, objective function, and constraints.\n",
       "\n",
       "Parameters:\n",
       "Let's define the following parameters:\n",
       "- \\( c_{ij} \\): The cost of operation \\( j \\) for product \\( i \\), where \\( i \\in \\{P1, P2, P3\\} \\) and \\( j \\in \\{smelting, mechanisation, assembly\\} \\).\n",
       "- \\( s_{ij} \\): The selling price of product \\( i \\).\n",
       "- \\( t_{ij} \\): The time required for operation \\( j \\) for product \\( i \\).\n",
       "- \\( C_j \\): The total available time for operation \\( j \\).\n",
       "\n",
       "Decision Variables:\n",
       "Let's define the following decision variables:\n",
       "- \\( x_{i} \\): The number of units of product \\( i \\) to produce.\n",
       "- \\( y_{i} \\): The number of units of product \\( i \\) to subcontract, where \\( i \\in \\{P1, P2\\} \\). Note that for product P3, \\( y_{P3} = 0 \\) because it cannot be subcontracted.\n",
       "\n",
       "Objective Function:\n",
       "The objective is to maximize weekly profits, which can be expressed as the difference between the total revenue and the total costs. The total revenue is the sum of the revenue from each product, and the total costs are the sum of the costs from each operation for each product. The objective function can be written as:\n",
       "\n",
       "\\( \\max \\sum_{i} \\left(s_{i} x_{i} - c_{i,smelting} x_{i} - c_{i,mechanisation} x_{i} - c_{i,assembly} x_{i} - c_{i,subcontract} y_{i}\\right) \\)\n",
       "\n",
       "Constraints:\n",
       "The constraints for this problem are the capacity constraints for each operation. The total time used for each operation cannot exceed the available time. The constraints can be written as:\n",
       "\n",
       "- For smelting: \\( t_{P1,smelting} (x_{P1} - y_{P1}) + t_{P2,smelting} (x_{P2} - y_{P2}) + t_{P3,smelting} x_{P3} \\leq C_{smelting} \\)\n",
       "- For mechanisation: \\( t_{P1,mechanisation} x_{P1} + t_{P2,mechanisation} x_{P2} + t_{P3,mechanisation} x_{P3} \\leq C_{mechanisation} \\)\n",
       "- For assembly: \\( t_{P1,assembly} x_{P1} + t_{P2,assembly} x_{P2} + t_{P3,assembly} x_{P3} \\leq C_{assembly} \\)\n",
       "\n",
       "In addition, we have the non-negativity constraints: \\( x_{i} \\geq 0 \\) and \\( y_{i} \\geq 0 \\) for all \\( i \\).\n",
       "\n",
       "This completes the formulation of the mathematical optimization model for the problem."
      ],
      "text/plain": [
       "<IPython.core.display.Markdown object>"
      ]
     },
     "execution_count": 5,
     "metadata": {},
     "output_type": "execute_result"
    }
   ],
   "source": [
    "Markdown(response_1_text)"
   ]
  },
  {
   "cell_type": "code",
   "execution_count": 6,
   "id": "b6a33171",
   "metadata": {},
   "outputs": [
    {
     "name": "stdout",
     "output_type": "stream",
     "text": [
      "To formulate a mathematical optimization model for this problem, we need to define the parameters, decision variables, objective function, and constraints.\n",
      "\n",
      "Parameters:\n",
      "Let's define the following parameters:\n",
      "- \\( c_{ij} \\): The cost of operation \\( j \\) for product \\( i \\), where \\( i \\in \\{P1, P2, P3\\} \\) and \\( j \\in \\{smelting, mechanisation, assembly\\} \\).\n",
      "- \\( s_{ij} \\): The selling price of product \\( i \\).\n",
      "- \\( t_{ij} \\): The time required for operation \\( j \\) for product \\( i \\).\n",
      "- \\( C_j \\): The total available time for operation \\( j \\).\n",
      "\n",
      "Decision Variables:\n",
      "Let's define the following decision variables:\n",
      "- \\( x_{i} \\): The number of units of product \\( i \\) to produce.\n",
      "- \\( y_{i} \\): The number of units of product \\( i \\) to subcontract, where \\( i \\in \\{P1, P2\\} \\). Note that for product P3, \\( y_{P3} = 0 \\) because it cannot be subcontracted.\n",
      "\n",
      "Objective Function:\n",
      "The objective is to maximize weekly profits, which can be expressed as the difference between the total revenue and the total costs. The total revenue is the sum of the revenue from each product, and the total costs are the sum of the costs from each operation for each product. The objective function can be written as:\n",
      "\n",
      "\\( \\max \\sum_{i} \\left(s_{i} x_{i} - c_{i,smelting} x_{i} - c_{i,mechanisation} x_{i} - c_{i,assembly} x_{i} - c_{i,subcontract} y_{i}\\right) \\)\n",
      "\n",
      "Constraints:\n",
      "The constraints for this problem are the capacity constraints for each operation. The total time used for each operation cannot exceed the available time. The constraints can be written as:\n",
      "\n",
      "- For smelting: \\( t_{P1,smelting} (x_{P1} - y_{P1}) + t_{P2,smelting} (x_{P2} - y_{P2}) + t_{P3,smelting} x_{P3} \\leq C_{smelting} \\)\n",
      "- For mechanisation: \\( t_{P1,mechanisation} x_{P1} + t_{P2,mechanisation} x_{P2} + t_{P3,mechanisation} x_{P3} \\leq C_{mechanisation} \\)\n",
      "- For assembly: \\( t_{P1,assembly} x_{P1} + t_{P2,assembly} x_{P2} + t_{P3,assembly} x_{P3} \\leq C_{assembly} \\)\n",
      "\n",
      "In addition, we have the non-negativity constraints: \\( x_{i} \\geq 0 \\) and \\( y_{i} \\geq 0 \\) for all \\( i \\).\n",
      "\n",
      "This completes the formulation of the mathematical optimization model for the problem.\n"
     ]
    }
   ],
   "source": [
    "print(response_1_text)"
   ]
  },
  {
   "cell_type": "markdown",
   "id": "27b5f89a",
   "metadata": {},
   "source": [
    "## Step 2 - Generate the Pyomo Code"
   ]
  },
  {
   "cell_type": "code",
   "execution_count": 7,
   "id": "a4c3312f",
   "metadata": {},
   "outputs": [],
   "source": [
    "messages_2 = [\n",
    "    ChatMessage(role=\"system\", content=SYSTEM_PROMPT_2),\n",
    "    ChatMessage(role=\"user\", content=response_1_text)\n",
    "]"
   ]
  },
  {
   "cell_type": "code",
   "execution_count": 8,
   "id": "4212d99d",
   "metadata": {},
   "outputs": [],
   "source": [
    "response_2 = client.chat(\n",
    "    model=MODEL_ID,\n",
    "    messages=messages_2,\n",
    "    random_seed=MODEL_SEED,\n",
    "    temperature=MODEL_TEMPERATURE\n",
    ")\n",
    "\n",
    "response_2_text = response_2.choices[0].message.content"
   ]
  },
  {
   "cell_type": "code",
   "execution_count": 9,
   "id": "c168a60b",
   "metadata": {},
   "outputs": [
    {
     "data": {
      "text/markdown": [
       "Here is a Python Pyomo code for the optimization problem:\n",
       "\n",
       "```python\n",
       "from pyomo.environ import *\n",
       "\n",
       "# Define the model\n",
       "model = ConcreteModel()\n",
       "\n",
       "# Define the parameters (using sample data)\n",
       "model.c = {\n",
       "    ('P1', 'smelting'): 10,\n",
       "    ('P1', 'mechanisation'): 20,\n",
       "    ('P1', 'assembly'): 30,\n",
       "    ('P2', 'smelting'): 15,\n",
       "    ('P2', 'mechanisation'): 30,\n",
       "    ('P2', 'assembly'): 45,\n",
       "    ('P3', 'smelting'): 20,\n",
       "    ('P3', 'mechanisation'): 40,\n",
       "    ('P3', 'assembly'): 60\n",
       "}\n",
       "\n",
       "model.s = {'P1': 100, 'P2': 150, 'P3': 200}\n",
       "\n",
       "model.t = {\n",
       "    ('P1', 'smelting'): 1,\n",
       "    ('P1', 'mechanisation'): 2,\n",
       "    ('P1', 'assembly'): 3,\n",
       "    ('P2', 'smelting'): 1.5,\n",
       "    ('P2', 'mechanisation'): 3,\n",
       "    ('P2', 'assembly'): 4.5,\n",
       "    ('P3', 'smelting'): 2,\n",
       "    ('P3', 'mechanisation'): 4,\n",
       "    ('P3', 'assembly'): 6\n",
       "}\n",
       "\n",
       "model.C = {'smelting': 100, 'mechanisation': 200, 'assembly': 300}\n",
       "\n",
       "# Define the decision variables\n",
       "model.x = Var(range(1, 4), domain=NonNegativeReals)\n",
       "model.y = Var(range(1, 3), domain=NonNegativeReals)\n",
       "\n",
       "# Define the objective function\n",
       "def obj_rule(model):\n",
       "    return sum((model.s[i] * model.x[i] - model.c[i, 'smelting'] * model.x[i] - model.c[i, 'mechanisation'] * model.x[i] - model.c[i, 'assembly'] * model.x[i] - model.c[i, 'subcontract'] * model.y[i]) for i in range(1, 4))\n",
       "model.obj = Objective(rule=obj_rule, sense=maximize)\n",
       "\n",
       "# Define the constraints\n",
       "def smelting_rule(model):\n",
       "    return sum(model.t[i, 'smelting'] * (model.x[i] - model.y[i if i < 3 else 2]) for i in range(1, 4)) <= model.C['smelting']\n",
       "model.smelting_ constraint = Constraint(rule=smelting_rule)\n",
       "\n",
       "def mechanisation_rule(model):\n",
       "    return sum(model.t[i, 'mechanisation'] * model.x[i] for i in range(1, 4)) <= model.C['mechanisation']\n",
       "model.mechanisation_constraint = Constraint(rule=mechanisation_rule)\n",
       "\n",
       "def assembly_rule(model):\n",
       "    return sum(model.t[i, 'assembly'] * model.x[i] for i in range(1, 4)) <= model.C['assembly']\n",
       "model.assembly_constraint = Constraint(rule=assembly_rule)\n",
       "\n",
       "# Solve the model\n",
       "solver = SolverFactory('glpk')\n",
       "results = solver.solve(model)\n",
       "\n",
       "# Print the results\n",
       "print(\"Optimal Solution:\")\n",
       "for i in range(1, 4):\n",
       "    print(f\"x{i}: {model.x[i].value}, y{i}: {model.y[i].value if i < 3 else 0}\")\n",
       "print(f\"Objective value: {model.obj()}\")\n",
       "```\n",
       "\n",
       "Note that this code uses sample data for the parameters \\( c_{ij} \\), \\( s_{i} \\), \\( t_{ij} \\), and \\( C_{j} \\). You can replace this sample data with the actual data for your specific problem. The code also assumes that the products are labeled as `P1`, `P2`, and `P3` and the operations are labeled as `smelting`, `mechanisation`, and `assembly`. If your problem uses different labels, you will need to modify the code accordingly."
      ],
      "text/plain": [
       "<IPython.core.display.Markdown object>"
      ]
     },
     "execution_count": 9,
     "metadata": {},
     "output_type": "execute_result"
    }
   ],
   "source": [
    "Markdown(response_2_text)"
   ]
  },
  {
   "cell_type": "code",
   "execution_count": 10,
   "id": "a380c180",
   "metadata": {},
   "outputs": [
    {
     "name": "stdout",
     "output_type": "stream",
     "text": [
      "Here is a Python Pyomo code for the optimization problem:\n",
      "\n",
      "```python\n",
      "from pyomo.environ import *\n",
      "\n",
      "# Define the model\n",
      "model = ConcreteModel()\n",
      "\n",
      "# Define the parameters (using sample data)\n",
      "model.c = {\n",
      "    ('P1', 'smelting'): 10,\n",
      "    ('P1', 'mechanisation'): 20,\n",
      "    ('P1', 'assembly'): 30,\n",
      "    ('P2', 'smelting'): 15,\n",
      "    ('P2', 'mechanisation'): 30,\n",
      "    ('P2', 'assembly'): 45,\n",
      "    ('P3', 'smelting'): 20,\n",
      "    ('P3', 'mechanisation'): 40,\n",
      "    ('P3', 'assembly'): 60\n",
      "}\n",
      "\n",
      "model.s = {'P1': 100, 'P2': 150, 'P3': 200}\n",
      "\n",
      "model.t = {\n",
      "    ('P1', 'smelting'): 1,\n",
      "    ('P1', 'mechanisation'): 2,\n",
      "    ('P1', 'assembly'): 3,\n",
      "    ('P2', 'smelting'): 1.5,\n",
      "    ('P2', 'mechanisation'): 3,\n",
      "    ('P2', 'assembly'): 4.5,\n",
      "    ('P3', 'smelting'): 2,\n",
      "    ('P3', 'mechanisation'): 4,\n",
      "    ('P3', 'assembly'): 6\n",
      "}\n",
      "\n",
      "model.C = {'smelting': 100, 'mechanisation': 200, 'assembly': 300}\n",
      "\n",
      "# Define the decision variables\n",
      "model.x = Var(range(1, 4), domain=NonNegativeReals)\n",
      "model.y = Var(range(1, 3), domain=NonNegativeReals)\n",
      "\n",
      "# Define the objective function\n",
      "def obj_rule(model):\n",
      "    return sum((model.s[i] * model.x[i] - model.c[i, 'smelting'] * model.x[i] - model.c[i, 'mechanisation'] * model.x[i] - model.c[i, 'assembly'] * model.x[i] - model.c[i, 'subcontract'] * model.y[i]) for i in range(1, 4))\n",
      "model.obj = Objective(rule=obj_rule, sense=maximize)\n",
      "\n",
      "# Define the constraints\n",
      "def smelting_rule(model):\n",
      "    return sum(model.t[i, 'smelting'] * (model.x[i] - model.y[i if i < 3 else 2]) for i in range(1, 4)) <= model.C['smelting']\n",
      "model.smelting_ constraint = Constraint(rule=smelting_rule)\n",
      "\n",
      "def mechanisation_rule(model):\n",
      "    return sum(model.t[i, 'mechanisation'] * model.x[i] for i in range(1, 4)) <= model.C['mechanisation']\n",
      "model.mechanisation_constraint = Constraint(rule=mechanisation_rule)\n",
      "\n",
      "def assembly_rule(model):\n",
      "    return sum(model.t[i, 'assembly'] * model.x[i] for i in range(1, 4)) <= model.C['assembly']\n",
      "model.assembly_constraint = Constraint(rule=assembly_rule)\n",
      "\n",
      "# Solve the model\n",
      "solver = SolverFactory('glpk')\n",
      "results = solver.solve(model)\n",
      "\n",
      "# Print the results\n",
      "print(\"Optimal Solution:\")\n",
      "for i in range(1, 4):\n",
      "    print(f\"x{i}: {model.x[i].value}, y{i}: {model.y[i].value if i < 3 else 0}\")\n",
      "print(f\"Objective value: {model.obj()}\")\n",
      "```\n",
      "\n",
      "Note that this code uses sample data for the parameters \\( c_{ij} \\), \\( s_{i} \\), \\( t_{ij} \\), and \\( C_{j} \\). You can replace this sample data with the actual data for your specific problem. The code also assumes that the products are labeled as `P1`, `P2`, and `P3` and the operations are labeled as `smelting`, `mechanisation`, and `assembly`. If your problem uses different labels, you will need to modify the code accordingly.\n"
     ]
    }
   ],
   "source": [
    "print(response_2_text)"
   ]
  },
  {
   "cell_type": "markdown",
   "id": "879cc7ae",
   "metadata": {},
   "source": [
    "### Code Executability"
   ]
  },
  {
   "cell_type": "code",
   "execution_count": 11,
   "id": "f1d9a625",
   "metadata": {},
   "outputs": [
    {
     "ename": "SyntaxError",
     "evalue": "invalid syntax (3146439518.py, line 47)",
     "output_type": "error",
     "traceback": [
      "\u001b[1;36m  Input \u001b[1;32mIn [11]\u001b[1;36m\u001b[0m\n\u001b[1;33m    model.smelting_ constraint = Constraint(rule=smelting_rule)\u001b[0m\n\u001b[1;37m                    ^\u001b[0m\n\u001b[1;31mSyntaxError\u001b[0m\u001b[1;31m:\u001b[0m invalid syntax\n"
     ]
    }
   ],
   "source": [
    "from pyomo.environ import *\n",
    "\n",
    "# Define the model\n",
    "model = ConcreteModel()\n",
    "\n",
    "# Define the parameters (using sample data)\n",
    "model.c = {\n",
    "    ('P1', 'smelting'): 10,\n",
    "    ('P1', 'mechanisation'): 20,\n",
    "    ('P1', 'assembly'): 30,\n",
    "    ('P2', 'smelting'): 15,\n",
    "    ('P2', 'mechanisation'): 30,\n",
    "    ('P2', 'assembly'): 45,\n",
    "    ('P3', 'smelting'): 20,\n",
    "    ('P3', 'mechanisation'): 40,\n",
    "    ('P3', 'assembly'): 60\n",
    "}\n",
    "\n",
    "model.s = {'P1': 100, 'P2': 150, 'P3': 200}\n",
    "\n",
    "model.t = {\n",
    "    ('P1', 'smelting'): 1,\n",
    "    ('P1', 'mechanisation'): 2,\n",
    "    ('P1', 'assembly'): 3,\n",
    "    ('P2', 'smelting'): 1.5,\n",
    "    ('P2', 'mechanisation'): 3,\n",
    "    ('P2', 'assembly'): 4.5,\n",
    "    ('P3', 'smelting'): 2,\n",
    "    ('P3', 'mechanisation'): 4,\n",
    "    ('P3', 'assembly'): 6\n",
    "}\n",
    "\n",
    "model.C = {'smelting': 100, 'mechanisation': 200, 'assembly': 300}\n",
    "\n",
    "# Define the decision variables\n",
    "model.x = Var(range(1, 4), domain=NonNegativeReals)\n",
    "model.y = Var(range(1, 3), domain=NonNegativeReals)\n",
    "\n",
    "# Define the objective function\n",
    "def obj_rule(model):\n",
    "    return sum((model.s[i] * model.x[i] - model.c[i, 'smelting'] * model.x[i] - model.c[i, 'mechanisation'] * model.x[i] - model.c[i, 'assembly'] * model.x[i] - model.c[i, 'subcontract'] * model.y[i]) for i in range(1, 4))\n",
    "model.obj = Objective(rule=obj_rule, sense=maximize)\n",
    "\n",
    "# Define the constraints\n",
    "def smelting_rule(model):\n",
    "    return sum(model.t[i, 'smelting'] * (model.x[i] - model.y[i if i < 3 else 2]) for i in range(1, 4)) <= model.C['smelting']\n",
    "model.smelting_ constraint = Constraint(rule=smelting_rule)\n",
    "\n",
    "def mechanisation_rule(model):\n",
    "    return sum(model.t[i, 'mechanisation'] * model.x[i] for i in range(1, 4)) <= model.C['mechanisation']\n",
    "model.mechanisation_constraint = Constraint(rule=mechanisation_rule)\n",
    "\n",
    "def assembly_rule(model):\n",
    "    return sum(model.t[i, 'assembly'] * model.x[i] for i in range(1, 4)) <= model.C['assembly']\n",
    "model.assembly_constraint = Constraint(rule=assembly_rule)\n",
    "\n",
    "# Solve the model\n",
    "solver = SolverFactory('glpk')\n",
    "results = solver.solve(model)\n",
    "\n",
    "# Print the results\n",
    "print(\"Optimal Solution:\")\n",
    "for i in range(1, 4):\n",
    "    print(f\"x{i}: {model.x[i].value}, y{i}: {model.y[i].value if i < 3 else 0}\")\n",
    "print(f\"Objective value: {model.obj()}\")"
   ]
  },
  {
   "cell_type": "markdown",
   "id": "95f5c3a8",
   "metadata": {},
   "source": [
    "### Solution Correctness"
   ]
  },
  {
   "cell_type": "code",
   "execution_count": 17,
   "id": "01245691",
   "metadata": {},
   "outputs": [
    {
     "name": "stdout",
     "output_type": "stream",
     "text": [
      "Optimal Solution:\n",
      "xP1: 0.0, yP1: 0.0\n",
      "xP2: 4000.0, yP2: 3200.0\n",
      "xP3: 0.0, yP3: 0.0\n",
      "Objective value: 2080.0\n"
     ]
    }
   ],
   "source": [
    "from pyomo.environ import *\n",
    "\n",
    "\n",
    "# Define sets\n",
    "products = [\"P1\", \"P2\", \"P3\"]\n",
    "subcontractable_products = [\"P1\", \"P2\"]\n",
    "\n",
    "# Define parameters\n",
    "smelting_time = {\"P1\": 6, \"P2\": 10, \"P3\": 8}  \n",
    "mechanization_time = {\"P1\": 6, \"P2\": 3, \"P3\": 8} \n",
    "assembly_time = {\"P1\": 3, \"P2\": 2, \"P3\": 2}  \n",
    "\n",
    "# Cost parameters\n",
    "smelting_cost = {\"P1\": 0.30, \"P2\": 0.50, \"P3\": 0.40}\n",
    "subcontracted_smelting_cost = {\"P1\": 0.50, \"P2\": 0.60, \"P3\" : 0}\n",
    "mechanization_cost = {\"P1\": 0.20, \"P2\": 0.10, \"P3\": 0.27}\n",
    "assembly_cost = {\"P1\": 0.30, \"P2\": 0.20, \"P3\": 0.20}\n",
    "\n",
    "# Selling price\n",
    "selling_price = {\"P1\": 1.50, \"P2\": 1.80, \"P3\": 1.97}\n",
    "\n",
    "# Available production time\n",
    "available_smelting_time = 8000\n",
    "available_mechanization_time = 12000\n",
    "available_assembly_time = 10000\n",
    "\n",
    "model = ConcreteModel()\n",
    "\n",
    "# Define the decision variables\n",
    "model.x = Var(products, domain=NonNegativeReals)\n",
    "model.y = Var(products, domain=NonNegativeReals)\n",
    "\n",
    "model.y3_constraint = Constraint(expr=model.y['P3'] == 0)\n",
    "\n",
    "# Define the objective function\n",
    "def obj_rule(model):\n",
    "    return sum((selling_price[p] * model.x[p] - smelting_cost[p] * model.x[p] - mechanization_cost[p] * model.x[p] - assembly_cost[p] * model.x[p] - subcontracted_smelting_cost[p] * model.y[p]) for p in products)\n",
    "model.obj = Objective(rule=obj_rule, sense=maximize)\n",
    "\n",
    "# Define the constraints\n",
    "def smelting_rule(model):\n",
    "    return sum(smelting_time[p] * (model.x[p] - model.y[p]) for p in products) <= available_smelting_time\n",
    "model.smelting_constraint = Constraint(rule=smelting_rule)\n",
    "\n",
    "def mechanisation_rule(model):\n",
    "    return sum(mechanization_time[p] * model.x[p] for p in products) <= available_mechanization_time\n",
    "model.mechanisation_constraint = Constraint(rule=mechanisation_rule)\n",
    "\n",
    "def assembly_rule(model):\n",
    "    return sum(assembly_time[p] * model.x[p] for p in products) <= available_assembly_time\n",
    "model.assembly_constraint = Constraint(rule=assembly_rule)\n",
    "\n",
    "# Solve the model\n",
    "solver = SolverFactory('glpk')\n",
    "results = solver.solve(model)\n",
    "\n",
    "# Print the results\n",
    "print(\"Optimal Solution:\")\n",
    "for p in products:\n",
    "    print(f\"x{p}: {model.x[p].value}, y{p}: {model.y[p].value}\")\n",
    "print(f\"Objective value: {model.obj()}\")"
   ]
  }
 ],
 "metadata": {
  "kernelspec": {
   "display_name": "Python 3 (ipykernel)",
   "language": "python",
   "name": "python3"
  },
  "language_info": {
   "codemirror_mode": {
    "name": "ipython",
    "version": 3
   },
   "file_extension": ".py",
   "mimetype": "text/x-python",
   "name": "python",
   "nbconvert_exporter": "python",
   "pygments_lexer": "ipython3",
   "version": "3.10.4"
  }
 },
 "nbformat": 4,
 "nbformat_minor": 5
}
