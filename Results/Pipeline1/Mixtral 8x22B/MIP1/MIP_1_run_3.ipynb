{
 "cells": [
  {
   "cell_type": "code",
   "execution_count": 1,
   "id": "e5c2c174",
   "metadata": {},
   "outputs": [],
   "source": [
    "import os\n",
    "from mistralai.client import MistralClient\n",
    "from mistralai.models.chat_completion import ChatMessage\n",
    "from IPython.display import display, Markdown, Latex\n",
    "from datetime import datetime"
   ]
  },
  {
   "cell_type": "code",
   "execution_count": 2,
   "id": "b0c91a62",
   "metadata": {},
   "outputs": [
    {
     "name": "stdout",
     "output_type": "stream",
     "text": [
      "Time of execution: 2024-05-18 12:28:30.767080\n"
     ]
    }
   ],
   "source": [
    "API_KEY = os.environ['MISTRAL_API_KEY']\n",
    "\n",
    "MODEL_ID = 'open-mixtral-8x22b'\n",
    "MODEL_SEED = 3\n",
    "MODEL_TEMPERATURE = 0.7\n",
    "\n",
    "file_system_prompt_1 = open(\"../../system_prompt_1.txt\", \"r\")\n",
    "file_system_prompt_2 = open(\"../../system_prompt_2.txt\", \"r\")\n",
    "SYSTEM_PROMPT_1 = file_system_prompt_1.read()\n",
    "SYSTEM_PROMPT_2 = file_system_prompt_2.read()\n",
    "file_system_prompt_1.close()\n",
    "file_system_prompt_2.close()\n",
    "\n",
    "FILE_PATH_PROBLEM = '../../../../Datasets/MIP_1_Facility_Location_Allocation/'\n",
    "assert(FILE_PATH_PROBLEM != '../../../../Datasets/')\n",
    "file_problem_description = open(FILE_PATH_PROBLEM + 'ProblemDescription.txt', 'r')\n",
    "PROBLEM_DESCRIPTION = file_problem_description.read()\n",
    "file_problem_description.close()\n",
    "\n",
    "\n",
    "client = MistralClient(api_key=API_KEY)\n",
    "\n",
    "print(f'Time of execution: {datetime.now()}')"
   ]
  },
  {
   "cell_type": "markdown",
   "id": "3e540824",
   "metadata": {},
   "source": [
    "## Step 1 - Generate Mathematical Formulation "
   ]
  },
  {
   "cell_type": "code",
   "execution_count": 3,
   "id": "174c127b",
   "metadata": {},
   "outputs": [],
   "source": [
    "messages_1 = [\n",
    "    ChatMessage(role=\"system\", content=SYSTEM_PROMPT_1),\n",
    "    ChatMessage(role=\"user\", content=PROBLEM_DESCRIPTION)\n",
    "]"
   ]
  },
  {
   "cell_type": "code",
   "execution_count": 4,
   "id": "d43340f3",
   "metadata": {},
   "outputs": [],
   "source": [
    "response_1 = client.chat(\n",
    "    model=MODEL_ID,\n",
    "    messages=messages_1,\n",
    "    random_seed=MODEL_SEED,\n",
    "    temperature=MODEL_TEMPERATURE \n",
    ")\n",
    "\n",
    "response_1_text = response_1.choices[0].message.content"
   ]
  },
  {
   "cell_type": "code",
   "execution_count": 5,
   "id": "03616e62",
   "metadata": {},
   "outputs": [
    {
     "data": {
      "text/markdown": [
       "Here is a mathematical formulation of the problem:\n",
       "\n",
       "Parameters:\n",
       "- Let $i \\in I$ denote the set of possible facility locations.\n",
       "- Let $j \\in J$ denote the set of customers.\n",
       "- Let $c_{ij}$ be the transportation cost from facility $i$ to customer $j$.\n",
       "- Let $f_i$ be the fixed annual activation cost for facility $i$.\n",
       "- Let $M_i$ be the maximum annual service volume at facility $i$.\n",
       "- Let $d_j$ be the demand of customer $j$.\n",
       "\n",
       "Decision Variables:\n",
       "- Let $x_{ij}$ be a binary variable equal to 1 if customer $j$ is serviced by facility $i$, and 0 otherwise.\n",
       "- Let $y_i$ be a binary variable equal to 1 if facility $i$ is opened, and 0 otherwise.\n",
       "\n",
       "Objective Function:\n",
       "The objective is to minimize the overall costs:\n",
       "\\[ \\min \\sum_{i \\in I} \\sum_{j \\in J} c_{ij}x_{ij} + \\sum_{i \\in I} f_i y_i \\]\n",
       "\n",
       "Constraints:\n",
       "1. Each customer's demand must be met:\n",
       "\\[ \\sum_{i \\in I} x_{ij} = 1 \\quad \\forall j \\in J \\]\n",
       "\n",
       "2. No facility can exceed its maximum service volume:\n",
       "\\[ \\sum_{j \\in J} d_j x_{ij} \\leq M_i y_i \\quad \\forall i \\in I \\]\n",
       "\n",
       "3. Customers can only be serviced by an opened facility:\n",
       "\\[ x_{ij} \\leq y_i \\quad \\forall i \\in I, j \\in J \\]\n",
       "\n",
       "4. All decision variables are binary:\n",
       "\\[ x_{ij} \\in \\{0,1\\} \\quad \\forall i \\in I, j \\in J \\]\n",
       "\\[ y_i \\in \\{0,1\\} \\quad \\forall i \\in I \\]\n",
       "\n",
       "This is a mixed-integer linear programming (MILP) formulation of the problem, which can be solved using standard optimization solvers such as CPLEX, Gurobi, or GLPK."
      ],
      "text/plain": [
       "<IPython.core.display.Markdown object>"
      ]
     },
     "execution_count": 5,
     "metadata": {},
     "output_type": "execute_result"
    }
   ],
   "source": [
    "Markdown(response_1_text)"
   ]
  },
  {
   "cell_type": "code",
   "execution_count": 6,
   "id": "b6a33171",
   "metadata": {},
   "outputs": [
    {
     "name": "stdout",
     "output_type": "stream",
     "text": [
      "Here is a mathematical formulation of the problem:\n",
      "\n",
      "Parameters:\n",
      "- Let $i \\in I$ denote the set of possible facility locations.\n",
      "- Let $j \\in J$ denote the set of customers.\n",
      "- Let $c_{ij}$ be the transportation cost from facility $i$ to customer $j$.\n",
      "- Let $f_i$ be the fixed annual activation cost for facility $i$.\n",
      "- Let $M_i$ be the maximum annual service volume at facility $i$.\n",
      "- Let $d_j$ be the demand of customer $j$.\n",
      "\n",
      "Decision Variables:\n",
      "- Let $x_{ij}$ be a binary variable equal to 1 if customer $j$ is serviced by facility $i$, and 0 otherwise.\n",
      "- Let $y_i$ be a binary variable equal to 1 if facility $i$ is opened, and 0 otherwise.\n",
      "\n",
      "Objective Function:\n",
      "The objective is to minimize the overall costs:\n",
      "\\[ \\min \\sum_{i \\in I} \\sum_{j \\in J} c_{ij}x_{ij} + \\sum_{i \\in I} f_i y_i \\]\n",
      "\n",
      "Constraints:\n",
      "1. Each customer's demand must be met:\n",
      "\\[ \\sum_{i \\in I} x_{ij} = 1 \\quad \\forall j \\in J \\]\n",
      "\n",
      "2. No facility can exceed its maximum service volume:\n",
      "\\[ \\sum_{j \\in J} d_j x_{ij} \\leq M_i y_i \\quad \\forall i \\in I \\]\n",
      "\n",
      "3. Customers can only be serviced by an opened facility:\n",
      "\\[ x_{ij} \\leq y_i \\quad \\forall i \\in I, j \\in J \\]\n",
      "\n",
      "4. All decision variables are binary:\n",
      "\\[ x_{ij} \\in \\{0,1\\} \\quad \\forall i \\in I, j \\in J \\]\n",
      "\\[ y_i \\in \\{0,1\\} \\quad \\forall i \\in I \\]\n",
      "\n",
      "This is a mixed-integer linear programming (MILP) formulation of the problem, which can be solved using standard optimization solvers such as CPLEX, Gurobi, or GLPK.\n"
     ]
    }
   ],
   "source": [
    "print(response_1_text)"
   ]
  },
  {
   "cell_type": "markdown",
   "id": "27b5f89a",
   "metadata": {},
   "source": [
    "## Step 2 - Generate the Pyomo Code"
   ]
  },
  {
   "cell_type": "code",
   "execution_count": 7,
   "id": "a4c3312f",
   "metadata": {},
   "outputs": [],
   "source": [
    "messages_2 = [\n",
    "    ChatMessage(role=\"system\", content=SYSTEM_PROMPT_2),\n",
    "    ChatMessage(role=\"user\", content=response_1_text)\n",
    "]"
   ]
  },
  {
   "cell_type": "code",
   "execution_count": 8,
   "id": "4212d99d",
   "metadata": {},
   "outputs": [],
   "source": [
    "response_2 = client.chat(\n",
    "    model=MODEL_ID,\n",
    "    messages=messages_2,\n",
    "    random_seed=MODEL_SEED,\n",
    "    temperature=MODEL_TEMPERATURE\n",
    ")\n",
    "\n",
    "response_2_text = response_2.choices[0].message.content"
   ]
  },
  {
   "cell_type": "code",
   "execution_count": 9,
   "id": "c168a60b",
   "metadata": {},
   "outputs": [
    {
     "data": {
      "text/markdown": [
       "Here is a Python Pyomo code for the optimization problem:\n",
       "\n",
       "```python\n",
       "from pyomo.environ import *\n",
       "\n",
       "# Sample data\n",
       "I = range(3)  # set of possible facility locations\n",
       "J = range(5)  # set of customers\n",
       "c = {(i, j): (i + 1) * (j + 1) for i in I for j in J}  # transportation cost from facility i to customer j\n",
       "f = {i: (i + 1) * 100 for i in I}  # fixed annual activation cost for facility i\n",
       "M = {i: (i + 1) * 1000 for i in I}  # maximum annual service volume at facility i\n",
       "d = {j: (j + 1) * 100 for j in J}  # demand of customer j\n",
       "\n",
       "# Pyomo model\n",
       "model = ConcreteModel()\n",
       "\n",
       "# Sets\n",
       "model.I = Set(initialize=I)\n",
       "model.J = Set(initialize=J)\n",
       "\n",
       "# Parameters\n",
       "model.c = Param(model.I, model.J, initialize=c)\n",
       "model.f = Param(model.I, initialize=f)\n",
       "model.M = Param(model.I, initialize=M)\n",
       "model.d = Param(model.J, initialize=d)\n",
       "\n",
       "# Variables\n",
       "model.x = Var(model.I, model.J, within=Binary)  # 1 if customer j is serviced by facility i, 0 otherwise\n",
       "model.y = Var(model.I, within=Binary)  # 1 if facility i is opened, 0 otherwise\n",
       "\n",
       "# Objective Function\n",
       "def obj_rule(model):\n",
       "    return sum(model.c[i, j] * model.x[i, j] for i in model.I for j in model.J) + sum(model.f[i] * model.y[i] for i in model.I)\n",
       "model.obj = Objective(rule=obj_rule, sense=minimize)\n",
       "\n",
       "# Constraints\n",
       "def demand_constraint_rule(model, j):\n",
       "    return sum(model.x[i, j] for i in model.I) == 1\n",
       "model.demand_constraint = Constraint(model.J, rule=demand_constraint_rule)\n",
       "\n",
       "def max_service_volume_rule(model, i):\n",
       "    return sum(model.d[j] * model.x[i, j] for j in model.J) <= model.M[i] * model.y[i]\n",
       "model.max_service_volume = Constraint(model.I, rule=max_service_volume_rule)\n",
       "\n",
       "def serviced_by_opened_facility_rule(model, i, j):\n",
       "    return model.x[i, j] <= model.y[i]\n",
       "model.serviced_by_opened_facility = Constraint(model.I, model.J, rule=serviced_by_opened_facility_rule)\n",
       "\n",
       "# Solve the model\n",
       "solver = SolverFactory('glpk')  # Use GLPK solver\n",
       "results = solver.solve(model)\n",
       "\n",
       "# Print the results\n",
       "print(\"Status:\", results.solver.status)\n",
       "print(\"Objective value:\", model.obj())\n",
       "```\n",
       "\n",
       "This code uses the Pyomo library for modeling and solving the optimization problem. The sample data is defined at the beginning of the code, and you can replace it with your own data. The model is then created, and the objective function and constraints are defined. Finally, the model is solved using the GLPK solver, and the results are printed."
      ],
      "text/plain": [
       "<IPython.core.display.Markdown object>"
      ]
     },
     "execution_count": 9,
     "metadata": {},
     "output_type": "execute_result"
    }
   ],
   "source": [
    "Markdown(response_2_text)"
   ]
  },
  {
   "cell_type": "code",
   "execution_count": 10,
   "id": "a380c180",
   "metadata": {},
   "outputs": [
    {
     "name": "stdout",
     "output_type": "stream",
     "text": [
      "Here is a Python Pyomo code for the optimization problem:\n",
      "\n",
      "```python\n",
      "from pyomo.environ import *\n",
      "\n",
      "# Sample data\n",
      "I = range(3)  # set of possible facility locations\n",
      "J = range(5)  # set of customers\n",
      "c = {(i, j): (i + 1) * (j + 1) for i in I for j in J}  # transportation cost from facility i to customer j\n",
      "f = {i: (i + 1) * 100 for i in I}  # fixed annual activation cost for facility i\n",
      "M = {i: (i + 1) * 1000 for i in I}  # maximum annual service volume at facility i\n",
      "d = {j: (j + 1) * 100 for j in J}  # demand of customer j\n",
      "\n",
      "# Pyomo model\n",
      "model = ConcreteModel()\n",
      "\n",
      "# Sets\n",
      "model.I = Set(initialize=I)\n",
      "model.J = Set(initialize=J)\n",
      "\n",
      "# Parameters\n",
      "model.c = Param(model.I, model.J, initialize=c)\n",
      "model.f = Param(model.I, initialize=f)\n",
      "model.M = Param(model.I, initialize=M)\n",
      "model.d = Param(model.J, initialize=d)\n",
      "\n",
      "# Variables\n",
      "model.x = Var(model.I, model.J, within=Binary)  # 1 if customer j is serviced by facility i, 0 otherwise\n",
      "model.y = Var(model.I, within=Binary)  # 1 if facility i is opened, 0 otherwise\n",
      "\n",
      "# Objective Function\n",
      "def obj_rule(model):\n",
      "    return sum(model.c[i, j] * model.x[i, j] for i in model.I for j in model.J) + sum(model.f[i] * model.y[i] for i in model.I)\n",
      "model.obj = Objective(rule=obj_rule, sense=minimize)\n",
      "\n",
      "# Constraints\n",
      "def demand_constraint_rule(model, j):\n",
      "    return sum(model.x[i, j] for i in model.I) == 1\n",
      "model.demand_constraint = Constraint(model.J, rule=demand_constraint_rule)\n",
      "\n",
      "def max_service_volume_rule(model, i):\n",
      "    return sum(model.d[j] * model.x[i, j] for j in model.J) <= model.M[i] * model.y[i]\n",
      "model.max_service_volume = Constraint(model.I, rule=max_service_volume_rule)\n",
      "\n",
      "def serviced_by_opened_facility_rule(model, i, j):\n",
      "    return model.x[i, j] <= model.y[i]\n",
      "model.serviced_by_opened_facility = Constraint(model.I, model.J, rule=serviced_by_opened_facility_rule)\n",
      "\n",
      "# Solve the model\n",
      "solver = SolverFactory('glpk')  # Use GLPK solver\n",
      "results = solver.solve(model)\n",
      "\n",
      "# Print the results\n",
      "print(\"Status:\", results.solver.status)\n",
      "print(\"Objective value:\", model.obj())\n",
      "```\n",
      "\n",
      "This code uses the Pyomo library for modeling and solving the optimization problem. The sample data is defined at the beginning of the code, and you can replace it with your own data. The model is then created, and the objective function and constraints are defined. Finally, the model is solved using the GLPK solver, and the results are printed.\n"
     ]
    }
   ],
   "source": [
    "print(response_2_text)"
   ]
  },
  {
   "cell_type": "markdown",
   "id": "879cc7ae",
   "metadata": {},
   "source": [
    "### Code Executability"
   ]
  },
  {
   "cell_type": "code",
   "execution_count": 11,
   "id": "f1d9a625",
   "metadata": {},
   "outputs": [
    {
     "name": "stdout",
     "output_type": "stream",
     "text": [
      "Status: ok\n",
      "Objective value: 230.0\n"
     ]
    }
   ],
   "source": [
    "from pyomo.environ import *\n",
    "\n",
    "# Sample data\n",
    "I = range(3)  # set of possible facility locations\n",
    "J = range(5)  # set of customers\n",
    "c = {(i, j): (i + 1) * (j + 1) for i in I for j in J}  # transportation cost from facility i to customer j\n",
    "f = {i: (i + 1) * 100 for i in I}  # fixed annual activation cost for facility i\n",
    "M = {i: (i + 1) * 1000 for i in I}  # maximum annual service volume at facility i\n",
    "d = {j: (j + 1) * 100 for j in J}  # demand of customer j\n",
    "\n",
    "# Pyomo model\n",
    "model = ConcreteModel()\n",
    "\n",
    "# Sets\n",
    "model.I = Set(initialize=I)\n",
    "model.J = Set(initialize=J)\n",
    "\n",
    "# Parameters\n",
    "model.c = Param(model.I, model.J, initialize=c)\n",
    "model.f = Param(model.I, initialize=f)\n",
    "model.M = Param(model.I, initialize=M)\n",
    "model.d = Param(model.J, initialize=d)\n",
    "\n",
    "# Variables\n",
    "model.x = Var(model.I, model.J, within=Binary)  # 1 if customer j is serviced by facility i, 0 otherwise\n",
    "model.y = Var(model.I, within=Binary)  # 1 if facility i is opened, 0 otherwise\n",
    "\n",
    "# Objective Function\n",
    "def obj_rule(model):\n",
    "    return sum(model.c[i, j] * model.x[i, j] for i in model.I for j in model.J) + sum(model.f[i] * model.y[i] for i in model.I)\n",
    "model.obj = Objective(rule=obj_rule, sense=minimize)\n",
    "\n",
    "# Constraints\n",
    "def demand_constraint_rule(model, j):\n",
    "    return sum(model.x[i, j] for i in model.I) == 1\n",
    "model.demand_constraint = Constraint(model.J, rule=demand_constraint_rule)\n",
    "\n",
    "def max_service_volume_rule(model, i):\n",
    "    return sum(model.d[j] * model.x[i, j] for j in model.J) <= model.M[i] * model.y[i]\n",
    "model.max_service_volume = Constraint(model.I, rule=max_service_volume_rule)\n",
    "\n",
    "def serviced_by_opened_facility_rule(model, i, j):\n",
    "    return model.x[i, j] <= model.y[i]\n",
    "model.serviced_by_opened_facility = Constraint(model.I, model.J, rule=serviced_by_opened_facility_rule)\n",
    "\n",
    "# Solve the model\n",
    "solver = SolverFactory('glpk')  # Use GLPK solver\n",
    "results = solver.solve(model)\n",
    "\n",
    "# Print the results\n",
    "print(\"Status:\", results.solver.status)\n",
    "print(\"Objective value:\", model.obj())"
   ]
  },
  {
   "cell_type": "markdown",
   "id": "95f5c3a8",
   "metadata": {},
   "source": [
    "### Solution Correctness"
   ]
  },
  {
   "cell_type": "code",
   "execution_count": 13,
   "id": "01245691",
   "metadata": {},
   "outputs": [
    {
     "name": "stdout",
     "output_type": "stream",
     "text": [
      "Status: ok\n",
      "Objective value: 1315.0\n"
     ]
    }
   ],
   "source": [
    "from pyomo.environ import *\n",
    "\n",
    "# Sample data\n",
    "I = range(1, 4)  # Set of possible locations for opening facilities\n",
    "J = range(1, 6)  # Set of customers\n",
    "f = {1: 1000, 2: 1200, 3: 1100}  # Fixed annual activation cost for opening a facility\n",
    "m = {1: 10000, 2: 12000, 3: 11000}  # Maximum annual service volume at a facility\n",
    "d = {1: 1000, 2: 2000, 3: 1500, 4: 1800, 5: 2200}  # Annual demand of customers\n",
    "c = {  # Transportation cost for servicing a customer from a facility\n",
    "    (1, 1): 50, (1, 2): 60, (1, 3): 55, (1, 4): 70, (1, 5): 80,\n",
    "    (2, 1): 70, (2, 2): 65, (2, 3): 75, (2, 4): 60, (2, 5): 90,\n",
    "    (3, 1): 60, (3, 2): 50, (3, 3): 65, (3, 4): 80, (3, 5): 70\n",
    "}\n",
    "# Pyomo model\n",
    "model = ConcreteModel()\n",
    "\n",
    "# Sets\n",
    "model.I = Set(initialize=I)\n",
    "model.J = Set(initialize=J)\n",
    "\n",
    "# Parameters\n",
    "\n",
    "# Variables\n",
    "model.x = Var(model.I, model.J, within=Binary)  # 1 if customer j is serviced by facility i, 0 otherwise\n",
    "model.y = Var(model.I, within=Binary)  # 1 if facility i is opened, 0 otherwise\n",
    "\n",
    "# Objective Function\n",
    "def obj_rule(model):\n",
    "    return sum(c[i, j] * model.x[i, j] for i in model.I for j in model.J) + sum(f[i] * model.y[i] for i in model.I)\n",
    "model.obj = Objective(rule=obj_rule, sense=minimize)\n",
    "\n",
    "# Constraints\n",
    "def demand_constraint_rule(model, j):\n",
    "    return sum(model.x[i, j] for i in model.I) == 1\n",
    "model.demand_constraint = Constraint(model.J, rule=demand_constraint_rule)\n",
    "\n",
    "def max_service_volume_rule(model, i):\n",
    "    return sum(d[j] * model.x[i, j] for j in model.J) <= m[i] * model.y[i]\n",
    "model.max_service_volume = Constraint(model.I, rule=max_service_volume_rule)\n",
    "\n",
    "def serviced_by_opened_facility_rule(model, i, j):\n",
    "    return model.x[i, j] <= model.y[i]\n",
    "model.serviced_by_opened_facility = Constraint(model.I, model.J, rule=serviced_by_opened_facility_rule)\n",
    "\n",
    "# Solve the model\n",
    "solver = SolverFactory('glpk')  # Use GLPK solver\n",
    "results = solver.solve(model)\n",
    "\n",
    "# Print the results\n",
    "print(\"Status:\", results.solver.status)\n",
    "print(\"Objective value:\", model.obj())"
   ]
  }
 ],
 "metadata": {
  "kernelspec": {
   "display_name": "Python 3 (ipykernel)",
   "language": "python",
   "name": "python3"
  },
  "language_info": {
   "codemirror_mode": {
    "name": "ipython",
    "version": 3
   },
   "file_extension": ".py",
   "mimetype": "text/x-python",
   "name": "python",
   "nbconvert_exporter": "python",
   "pygments_lexer": "ipython3",
   "version": "3.10.4"
  }
 },
 "nbformat": 4,
 "nbformat_minor": 5
}
