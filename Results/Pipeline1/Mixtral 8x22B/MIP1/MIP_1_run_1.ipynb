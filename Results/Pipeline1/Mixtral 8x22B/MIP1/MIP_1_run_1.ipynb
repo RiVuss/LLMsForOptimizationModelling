{
 "cells": [
  {
   "cell_type": "code",
   "execution_count": 3,
   "id": "e5c2c174",
   "metadata": {},
   "outputs": [],
   "source": [
    "import os\n",
    "from mistralai.client import MistralClient\n",
    "from mistralai.models.chat_completion import ChatMessage\n",
    "from IPython.display import display, Markdown, Latex\n",
    "from datetime import datetime"
   ]
  },
  {
   "cell_type": "code",
   "execution_count": 4,
   "id": "b0c91a62",
   "metadata": {},
   "outputs": [
    {
     "name": "stdout",
     "output_type": "stream",
     "text": [
      "Time of execution: 2024-05-18 11:36:37.518166\n"
     ]
    }
   ],
   "source": [
    "API_KEY = os.environ['MISTRAL_API_KEY']\n",
    "\n",
    "MODEL_ID = 'open-mixtral-8x22b'\n",
    "MODEL_SEED = 1\n",
    "MODEL_TEMPERATURE = 0.7\n",
    "\n",
    "file_system_prompt_1 = open(\"../../system_prompt_1.txt\", \"r\")\n",
    "file_system_prompt_2 = open(\"../../system_prompt_2.txt\", \"r\")\n",
    "SYSTEM_PROMPT_1 = file_system_prompt_1.read()\n",
    "SYSTEM_PROMPT_2 = file_system_prompt_2.read()\n",
    "file_system_prompt_1.close()\n",
    "file_system_prompt_2.close()\n",
    "\n",
    "FILE_PATH_PROBLEM = '../../../../Datasets/MIP_1_Facility_Location_Allocation/'\n",
    "assert(FILE_PATH_PROBLEM != '../../../../Datasets/')\n",
    "file_problem_description = open(FILE_PATH_PROBLEM + 'ProblemDescription.txt', 'r')\n",
    "PROBLEM_DESCRIPTION = file_problem_description.read()\n",
    "file_problem_description.close()\n",
    "\n",
    "\n",
    "client = MistralClient(api_key=API_KEY)\n",
    "\n",
    "print(f'Time of execution: {datetime.now()}')"
   ]
  },
  {
   "cell_type": "markdown",
   "id": "3e540824",
   "metadata": {},
   "source": [
    "## Step 1 - Generate Mathematical Formulation "
   ]
  },
  {
   "cell_type": "code",
   "execution_count": 5,
   "id": "174c127b",
   "metadata": {},
   "outputs": [],
   "source": [
    "messages_1 = [\n",
    "    ChatMessage(role=\"system\", content=SYSTEM_PROMPT_1),\n",
    "    ChatMessage(role=\"user\", content=PROBLEM_DESCRIPTION)\n",
    "]"
   ]
  },
  {
   "cell_type": "code",
   "execution_count": 6,
   "id": "d43340f3",
   "metadata": {},
   "outputs": [],
   "source": [
    "response_1 = client.chat(\n",
    "    model=MODEL_ID,\n",
    "    messages=messages_1,\n",
    "    random_seed=MODEL_SEED,\n",
    "    temperature=MODEL_TEMPERATURE \n",
    ")\n",
    "\n",
    "response_1_text = response_1.choices[0].message.content"
   ]
  },
  {
   "cell_type": "code",
   "execution_count": 7,
   "id": "03616e62",
   "metadata": {},
   "outputs": [
    {
     "data": {
      "text/markdown": [
       "This problem can be formulated as a Mixed-Integer Linear Programming (MILP) problem, specifically a variant of the Uncapacitated Facility Location Problem (UFLP) or Capacitated Facility Location Problem (CFLP), depending on whether the facilities have a maximum service volume or not. Here's the mathematical optimization model:\n",
       "\n",
       "**Parameters:**\n",
       "\n",
       "- $I$: Set of potential facility locations, indexed by $i$.\n",
       "- $J$: Set of customers, indexed by $j$.\n",
       "- $f_i$: Fixed annual activation cost of opening facility $i$.\n",
       "- $c_{ij}$: Transportation cost of servicing customer $j$ from facility $i$.\n",
       "- $d_j$: Demand of customer $j$.\n",
       "- $s_i$: Maximum service volume of facility $i$ (if applicable).\n",
       "\n",
       "**Decision Variables:**\n",
       "\n",
       "- $x_{ij} \\in \\{0, 1\\}$: Binary variable that is equal to 1 if customer $j$ is serviced by facility $i$, and 0 otherwise.\n",
       "- $y_i \\in \\{0, 1\\}$: Binary variable that is equal to 1 if facility $i$ is opened, and 0 otherwise.\n",
       "\n",
       "**Objective Function:**\n",
       "\n",
       "Minimize the total cost, which is the sum of the fixed activation costs and the transportation costs:\n",
       "\n",
       "$$ \\text{min} \\quad \\sum_{i \\in I} f_i y_i + \\sum_{i \\in I} \\sum_{j \\in J} c_{ij} x_{ij} $$\n",
       "\n",
       "**Constraints:**\n",
       "\n",
       "1. Each customer's demand must be met by exactly one facility:\n",
       "   $$ \\sum_{i \\in I} x_{ij} = 1 \\quad \\forall j \\in J $$\n",
       "\n",
       "2. Customers can only be serviced by an opened facility:\n",
       "   $$ x_{ij} \\leq y_i \\quad \\forall i \\in I, j \\in J $$\n",
       "\n",
       "3. If the facilities have a maximum service volume, then each facility's service volume must not exceed its maximum limit:\n",
       "   $$ \\sum_{j \\in J} d_j x_{ij} \\leq s_i y_i \\quad \\forall i \\in I $$\n",
       "\n",
       "This optimization model can be solved using a MILP solver to find the optimal locations for opening facilities and assigning customers to those facilities, minimizing the overall costs."
      ],
      "text/plain": [
       "<IPython.core.display.Markdown object>"
      ]
     },
     "execution_count": 7,
     "metadata": {},
     "output_type": "execute_result"
    }
   ],
   "source": [
    "Markdown(response_1_text)"
   ]
  },
  {
   "cell_type": "code",
   "execution_count": 8,
   "id": "b6a33171",
   "metadata": {},
   "outputs": [
    {
     "name": "stdout",
     "output_type": "stream",
     "text": [
      "This problem can be formulated as a Mixed-Integer Linear Programming (MILP) problem, specifically a variant of the Uncapacitated Facility Location Problem (UFLP) or Capacitated Facility Location Problem (CFLP), depending on whether the facilities have a maximum service volume or not. Here's the mathematical optimization model:\n",
      "\n",
      "**Parameters:**\n",
      "\n",
      "- $I$: Set of potential facility locations, indexed by $i$.\n",
      "- $J$: Set of customers, indexed by $j$.\n",
      "- $f_i$: Fixed annual activation cost of opening facility $i$.\n",
      "- $c_{ij}$: Transportation cost of servicing customer $j$ from facility $i$.\n",
      "- $d_j$: Demand of customer $j$.\n",
      "- $s_i$: Maximum service volume of facility $i$ (if applicable).\n",
      "\n",
      "**Decision Variables:**\n",
      "\n",
      "- $x_{ij} \\in \\{0, 1\\}$: Binary variable that is equal to 1 if customer $j$ is serviced by facility $i$, and 0 otherwise.\n",
      "- $y_i \\in \\{0, 1\\}$: Binary variable that is equal to 1 if facility $i$ is opened, and 0 otherwise.\n",
      "\n",
      "**Objective Function:**\n",
      "\n",
      "Minimize the total cost, which is the sum of the fixed activation costs and the transportation costs:\n",
      "\n",
      "$$ \\text{min} \\quad \\sum_{i \\in I} f_i y_i + \\sum_{i \\in I} \\sum_{j \\in J} c_{ij} x_{ij} $$\n",
      "\n",
      "**Constraints:**\n",
      "\n",
      "1. Each customer's demand must be met by exactly one facility:\n",
      "   $$ \\sum_{i \\in I} x_{ij} = 1 \\quad \\forall j \\in J $$\n",
      "\n",
      "2. Customers can only be serviced by an opened facility:\n",
      "   $$ x_{ij} \\leq y_i \\quad \\forall i \\in I, j \\in J $$\n",
      "\n",
      "3. If the facilities have a maximum service volume, then each facility's service volume must not exceed its maximum limit:\n",
      "   $$ \\sum_{j \\in J} d_j x_{ij} \\leq s_i y_i \\quad \\forall i \\in I $$\n",
      "\n",
      "This optimization model can be solved using a MILP solver to find the optimal locations for opening facilities and assigning customers to those facilities, minimizing the overall costs.\n"
     ]
    }
   ],
   "source": [
    "print(response_1_text)"
   ]
  },
  {
   "cell_type": "markdown",
   "id": "27b5f89a",
   "metadata": {},
   "source": [
    "## Step 2 - Generate the Pyomo Code"
   ]
  },
  {
   "cell_type": "code",
   "execution_count": 9,
   "id": "a4c3312f",
   "metadata": {},
   "outputs": [],
   "source": [
    "messages_2 = [\n",
    "    ChatMessage(role=\"system\", content=SYSTEM_PROMPT_2),\n",
    "    ChatMessage(role=\"user\", content=response_1_text)\n",
    "]"
   ]
  },
  {
   "cell_type": "code",
   "execution_count": 10,
   "id": "4212d99d",
   "metadata": {},
   "outputs": [],
   "source": [
    "response_2 = client.chat(\n",
    "    model=MODEL_ID,\n",
    "    messages=messages_2,\n",
    "    random_seed=MODEL_SEED,\n",
    "    temperature=MODEL_TEMPERATURE\n",
    ")\n",
    "\n",
    "response_2_text = response_2.choices[0].message.content"
   ]
  },
  {
   "cell_type": "code",
   "execution_count": 11,
   "id": "c168a60b",
   "metadata": {},
   "outputs": [
    {
     "data": {
      "text/markdown": [
       "Here is a Python code using Pyomo to solve the Capacitated Facility Location Problem (CFLP) as described. I will use sample data for parameters such as $I$, $J$, $f_i$, $c_{ij}$, $d_j$, and $s_i$.\n",
       "\n",
       "```python\n",
       "import pyomo.environ as pyo\n",
       "from pyomo.opt import SolverFactory\n",
       "\n",
       "# Sample data\n",
       "I = [1, 2, 3]  # potential facility locations\n",
       "J = [1, 2, 3]  # customers\n",
       "f_i = {1: 500, 2: 300, 3: 700}  # fixed activation costs\n",
       "c_ij = {(1, 1): 10, (1, 2): 20, (1, 3): 30,\n",
       "        (2, 1): 15, (2, 2): 25, (2, 3): 35,\n",
       "        (3, 1): 20, (3, 2): 30, (3, 3): 40}  # transportation costs\n",
       "d_j = {1: 50, 2: 60, 3: 70}  # demands\n",
       "s_i = {1: 150, 2: 180, 3: 220}  # maximum service volumes\n",
       "\n",
       "# Create Pyomo model\n",
       "model = pyo.ConcreteModel(\"Capacitated Facility Location Problem\")\n",
       "\n",
       "# Define sets\n",
       "model.I = pyo.Set(initialize=I)\n",
       "model.J = pyo.Set(initialize=J)\n",
       "\n",
       "# Define parameters\n",
       "model.fixed_activation_costs = pyo.Param(model.I, initialize=f_i)\n",
       "model.transportation_costs = pyo.Param(model.I, model.J, initialize=c_ij)\n",
       "model.demands = pyo.Param(model.J, initialize=d_j)\n",
       "model.max_service_volumes = pyo.Param(model.I, initialize=s_i)\n",
       "\n",
       "# Define decision variables\n",
       "model.x_ij = pyo.Var(model.I, model.J, domain=pyo.Binary)\n",
       "model.y_i = pyo.Var(model.I, domain=pyo.Binary)\n",
       "\n",
       "# Define the objective function\n",
       "def objective_rule(model):\n",
       "    return pyo.summation(model.fixed_activation_costs, model.y_i) + \\\n",
       "           pyo.summation(model.transportation_costs, model.x_ij)\n",
       "model.objective = pyo.Objective(rule=objective_rule, sense=pyo.minimize)\n",
       "\n",
       "# Define constraints\n",
       "def demand_constraints_rule(model, j):\n",
       "    return pyo.summation(model.x_ij, model.I) == 1\n",
       "model.demand_constraints = pyo.Constraint(model.J, rule=demand_constraints_rule)\n",
       "\n",
       "def facility_opening_constraints_rule(model, i, j):\n",
       "    return model.x_ij[i, j] <= model.y_i[i]\n",
       "model.facility_opening_constraints = pyo.Constraint(model.I, model.J,\n",
       "                                                   rule=facility_opening_constraints_rule)\n",
       "\n",
       "def capacity_constraints_rule(model, i):\n",
       "    return pyo.summation(model.demands, model.x_ij[i]) <= model.max_service_volumes[i] * model.y_i[i]\n",
       "model.capacity_constraints = pyo.Constraint(model.I, rule=capacity_constraints_rule)\n",
       "\n",
       "# Solve the model\n",
       "optimizer = SolverFactory('glpk')\n",
       "optimizer.solve(model)\n",
       "\n",
       "# Print the solution\n",
       "print(\"x_ij values\")\n",
       "for i in model.I:\n",
       "    for j in model.J:\n",
       "        print(f\"x_{i}_{j}: {model.x_ij[i, j].value}\")\n",
       "\n",
       "print(\"\\ny_i values\")\n",
       "for i in model.I:\n",
       "    print(f\"y_{i}: {model.y_i[i].value}\")\n",
       "\n",
       "print(\"\\nObjective value: \", model.objective.expr().value)\n",
       "```\n",
       "\n",
       "This code uses Pyomo to model and solve the CFLP using the GLPK solver. You can replace the sample data with your own data and use a different MILP solver if needed."
      ],
      "text/plain": [
       "<IPython.core.display.Markdown object>"
      ]
     },
     "execution_count": 11,
     "metadata": {},
     "output_type": "execute_result"
    }
   ],
   "source": [
    "Markdown(response_2_text)"
   ]
  },
  {
   "cell_type": "code",
   "execution_count": 12,
   "id": "a380c180",
   "metadata": {},
   "outputs": [
    {
     "name": "stdout",
     "output_type": "stream",
     "text": [
      "Here is a Python code using Pyomo to solve the Capacitated Facility Location Problem (CFLP) as described. I will use sample data for parameters such as $I$, $J$, $f_i$, $c_{ij}$, $d_j$, and $s_i$.\n",
      "\n",
      "```python\n",
      "import pyomo.environ as pyo\n",
      "from pyomo.opt import SolverFactory\n",
      "\n",
      "# Sample data\n",
      "I = [1, 2, 3]  # potential facility locations\n",
      "J = [1, 2, 3]  # customers\n",
      "f_i = {1: 500, 2: 300, 3: 700}  # fixed activation costs\n",
      "c_ij = {(1, 1): 10, (1, 2): 20, (1, 3): 30,\n",
      "        (2, 1): 15, (2, 2): 25, (2, 3): 35,\n",
      "        (3, 1): 20, (3, 2): 30, (3, 3): 40}  # transportation costs\n",
      "d_j = {1: 50, 2: 60, 3: 70}  # demands\n",
      "s_i = {1: 150, 2: 180, 3: 220}  # maximum service volumes\n",
      "\n",
      "# Create Pyomo model\n",
      "model = pyo.ConcreteModel(\"Capacitated Facility Location Problem\")\n",
      "\n",
      "# Define sets\n",
      "model.I = pyo.Set(initialize=I)\n",
      "model.J = pyo.Set(initialize=J)\n",
      "\n",
      "# Define parameters\n",
      "model.fixed_activation_costs = pyo.Param(model.I, initialize=f_i)\n",
      "model.transportation_costs = pyo.Param(model.I, model.J, initialize=c_ij)\n",
      "model.demands = pyo.Param(model.J, initialize=d_j)\n",
      "model.max_service_volumes = pyo.Param(model.I, initialize=s_i)\n",
      "\n",
      "# Define decision variables\n",
      "model.x_ij = pyo.Var(model.I, model.J, domain=pyo.Binary)\n",
      "model.y_i = pyo.Var(model.I, domain=pyo.Binary)\n",
      "\n",
      "# Define the objective function\n",
      "def objective_rule(model):\n",
      "    return pyo.summation(model.fixed_activation_costs, model.y_i) + \\\n",
      "           pyo.summation(model.transportation_costs, model.x_ij)\n",
      "model.objective = pyo.Objective(rule=objective_rule, sense=pyo.minimize)\n",
      "\n",
      "# Define constraints\n",
      "def demand_constraints_rule(model, j):\n",
      "    return pyo.summation(model.x_ij, model.I) == 1\n",
      "model.demand_constraints = pyo.Constraint(model.J, rule=demand_constraints_rule)\n",
      "\n",
      "def facility_opening_constraints_rule(model, i, j):\n",
      "    return model.x_ij[i, j] <= model.y_i[i]\n",
      "model.facility_opening_constraints = pyo.Constraint(model.I, model.J,\n",
      "                                                   rule=facility_opening_constraints_rule)\n",
      "\n",
      "def capacity_constraints_rule(model, i):\n",
      "    return pyo.summation(model.demands, model.x_ij[i]) <= model.max_service_volumes[i] * model.y_i[i]\n",
      "model.capacity_constraints = pyo.Constraint(model.I, rule=capacity_constraints_rule)\n",
      "\n",
      "# Solve the model\n",
      "optimizer = SolverFactory('glpk')\n",
      "optimizer.solve(model)\n",
      "\n",
      "# Print the solution\n",
      "print(\"x_ij values\")\n",
      "for i in model.I:\n",
      "    for j in model.J:\n",
      "        print(f\"x_{i}_{j}: {model.x_ij[i, j].value}\")\n",
      "\n",
      "print(\"\\ny_i values\")\n",
      "for i in model.I:\n",
      "    print(f\"y_{i}: {model.y_i[i].value}\")\n",
      "\n",
      "print(\"\\nObjective value: \", model.objective.expr().value)\n",
      "```\n",
      "\n",
      "This code uses Pyomo to model and solve the CFLP using the GLPK solver. You can replace the sample data with your own data and use a different MILP solver if needed.\n"
     ]
    }
   ],
   "source": [
    "print(response_2_text)"
   ]
  },
  {
   "cell_type": "markdown",
   "id": "879cc7ae",
   "metadata": {},
   "source": [
    "### Code Executability"
   ]
  },
  {
   "cell_type": "code",
   "execution_count": 24,
   "id": "f1d9a625",
   "metadata": {},
   "outputs": [
    {
     "name": "stderr",
     "output_type": "stream",
     "text": [
      "2024-05-18 11:52:50,467 ERROR pyomo.core: Rule failed for Param 'demands' with index 4:\n",
      "KeyError: \"Index '4' is not valid for indexed component 'demands'\"\n",
      "2024-05-18 11:52:50,468 ERROR pyomo.core: Constructing component 'demands' from data=None failed:\n",
      "KeyError: \"Index '4' is not valid for indexed component 'demands'\"\n"
     ]
    },
    {
     "ename": "KeyError",
     "evalue": "\"Index '4' is not valid for indexed component 'demands'\"",
     "output_type": "error",
     "traceback": [
      "\u001b[1;31m---------------------------------------------------------------------------\u001b[0m",
      "\u001b[1;31mKeyError\u001b[0m                                  Traceback (most recent call last)",
      "Input \u001b[1;32mIn [24]\u001b[0m, in \u001b[0;36m<cell line: 29>\u001b[1;34m()\u001b[0m\n\u001b[0;32m     27\u001b[0m model\u001b[38;5;241m.\u001b[39mfixed_activation_costs \u001b[38;5;241m=\u001b[39m pyo\u001b[38;5;241m.\u001b[39mParam(model\u001b[38;5;241m.\u001b[39mI, initialize\u001b[38;5;241m=\u001b[39mf_i)\n\u001b[0;32m     28\u001b[0m model\u001b[38;5;241m.\u001b[39mtransportation_costs \u001b[38;5;241m=\u001b[39m pyo\u001b[38;5;241m.\u001b[39mParam(model\u001b[38;5;241m.\u001b[39mI, model\u001b[38;5;241m.\u001b[39mJ, initialize\u001b[38;5;241m=\u001b[39mc_ij)\n\u001b[1;32m---> 29\u001b[0m model\u001b[38;5;241m.\u001b[39mdemands \u001b[38;5;241m=\u001b[39m pyo\u001b[38;5;241m.\u001b[39mParam(model\u001b[38;5;241m.\u001b[39mJ, initialize\u001b[38;5;241m=\u001b[39md_j)\n\u001b[0;32m     30\u001b[0m model\u001b[38;5;241m.\u001b[39mmax_service_volumes \u001b[38;5;241m=\u001b[39m pyo\u001b[38;5;241m.\u001b[39mParam(model\u001b[38;5;241m.\u001b[39mI, initialize\u001b[38;5;241m=\u001b[39ms_i)\n\u001b[0;32m     32\u001b[0m \u001b[38;5;66;03m# Define decision variables\u001b[39;00m\n",
      "File \u001b[1;32m~\\AppData\\Roaming\\Python\\Python310\\site-packages\\pyomo\\core\\base\\block.py:639\u001b[0m, in \u001b[0;36m_BlockData.__setattr__\u001b[1;34m(self, name, val)\u001b[0m\n\u001b[0;32m    634\u001b[0m \u001b[38;5;28;01mif\u001b[39;00m name \u001b[38;5;129;01mnot\u001b[39;00m \u001b[38;5;129;01min\u001b[39;00m \u001b[38;5;28mself\u001b[39m\u001b[38;5;241m.\u001b[39m\u001b[38;5;18m__dict__\u001b[39m:\n\u001b[0;32m    635\u001b[0m     \u001b[38;5;28;01mif\u001b[39;00m \u001b[38;5;28misinstance\u001b[39m(val, Component):\n\u001b[0;32m    636\u001b[0m         \u001b[38;5;66;03m#\u001b[39;00m\n\u001b[0;32m    637\u001b[0m         \u001b[38;5;66;03m# Pyomo components are added with the add_component method.\u001b[39;00m\n\u001b[0;32m    638\u001b[0m         \u001b[38;5;66;03m#\u001b[39;00m\n\u001b[1;32m--> 639\u001b[0m         \u001b[38;5;28;43mself\u001b[39;49m\u001b[38;5;241;43m.\u001b[39;49m\u001b[43madd_component\u001b[49m\u001b[43m(\u001b[49m\u001b[43mname\u001b[49m\u001b[43m,\u001b[49m\u001b[43m \u001b[49m\u001b[43mval\u001b[49m\u001b[43m)\u001b[49m\n\u001b[0;32m    640\u001b[0m     \u001b[38;5;28;01melse\u001b[39;00m:\n\u001b[0;32m    641\u001b[0m         \u001b[38;5;66;03m#\u001b[39;00m\n\u001b[0;32m    642\u001b[0m         \u001b[38;5;66;03m# Other Python objects are added with the standard __setattr__\u001b[39;00m\n\u001b[0;32m    643\u001b[0m         \u001b[38;5;66;03m# method.\u001b[39;00m\n\u001b[0;32m    644\u001b[0m         \u001b[38;5;66;03m#\u001b[39;00m\n\u001b[0;32m    645\u001b[0m         \u001b[38;5;28msuper\u001b[39m(_BlockData, \u001b[38;5;28mself\u001b[39m)\u001b[38;5;241m.\u001b[39m\u001b[38;5;21m__setattr__\u001b[39m(name, val)\n",
      "File \u001b[1;32m~\\AppData\\Roaming\\Python\\Python310\\site-packages\\pyomo\\core\\base\\block.py:1186\u001b[0m, in \u001b[0;36m_BlockData.add_component\u001b[1;34m(self, name, val)\u001b[0m\n\u001b[0;32m   1182\u001b[0m     logger\u001b[38;5;241m.\u001b[39mdebug(\u001b[38;5;124m\"\u001b[39m\u001b[38;5;124mConstructing \u001b[39m\u001b[38;5;132;01m%s\u001b[39;00m\u001b[38;5;124m \u001b[39m\u001b[38;5;124m'\u001b[39m\u001b[38;5;132;01m%s\u001b[39;00m\u001b[38;5;124m'\u001b[39m\u001b[38;5;124m on \u001b[39m\u001b[38;5;132;01m%s\u001b[39;00m\u001b[38;5;124m from data=\u001b[39m\u001b[38;5;132;01m%s\u001b[39;00m\u001b[38;5;124m\"\u001b[39m,\n\u001b[0;32m   1183\u001b[0m                  val\u001b[38;5;241m.\u001b[39m\u001b[38;5;18m__class__\u001b[39m\u001b[38;5;241m.\u001b[39m\u001b[38;5;18m__name__\u001b[39m, name,\n\u001b[0;32m   1184\u001b[0m                  _blockName, \u001b[38;5;28mstr\u001b[39m(data))\n\u001b[0;32m   1185\u001b[0m \u001b[38;5;28;01mtry\u001b[39;00m:\n\u001b[1;32m-> 1186\u001b[0m     \u001b[43mval\u001b[49m\u001b[38;5;241;43m.\u001b[39;49m\u001b[43mconstruct\u001b[49m\u001b[43m(\u001b[49m\u001b[43mdata\u001b[49m\u001b[43m)\u001b[49m\n\u001b[0;32m   1187\u001b[0m \u001b[38;5;28;01mexcept\u001b[39;00m:\n\u001b[0;32m   1188\u001b[0m     err \u001b[38;5;241m=\u001b[39m sys\u001b[38;5;241m.\u001b[39mexc_info()[\u001b[38;5;241m1\u001b[39m]\n",
      "File \u001b[1;32m~\\AppData\\Roaming\\Python\\Python310\\site-packages\\pyomo\\core\\base\\param.py:768\u001b[0m, in \u001b[0;36mParam.construct\u001b[1;34m(self, data)\u001b[0m\n\u001b[0;32m    764\u001b[0m \u001b[38;5;28mself\u001b[39m\u001b[38;5;241m.\u001b[39m_constructed \u001b[38;5;241m=\u001b[39m \u001b[38;5;28;01mNone\u001b[39;00m\n\u001b[0;32m    765\u001b[0m \u001b[38;5;66;03m#\u001b[39;00m\n\u001b[0;32m    766\u001b[0m \u001b[38;5;66;03m# Step #1: initialize data from rule value\u001b[39;00m\n\u001b[0;32m    767\u001b[0m \u001b[38;5;66;03m#\u001b[39;00m\n\u001b[1;32m--> 768\u001b[0m \u001b[38;5;28;43mself\u001b[39;49m\u001b[38;5;241;43m.\u001b[39;49m\u001b[43m_construct_from_rule_using_setitem\u001b[49m\u001b[43m(\u001b[49m\u001b[43m)\u001b[49m\n\u001b[0;32m    769\u001b[0m \u001b[38;5;66;03m#\u001b[39;00m\n\u001b[0;32m    770\u001b[0m \u001b[38;5;66;03m# Step #2: allow any user-specified (external) data to override\u001b[39;00m\n\u001b[0;32m    771\u001b[0m \u001b[38;5;66;03m# the initialization\u001b[39;00m\n\u001b[0;32m    772\u001b[0m \u001b[38;5;66;03m#\u001b[39;00m\n\u001b[0;32m    773\u001b[0m \u001b[38;5;28;01mif\u001b[39;00m data \u001b[38;5;129;01mis\u001b[39;00m \u001b[38;5;129;01mnot\u001b[39;00m \u001b[38;5;28;01mNone\u001b[39;00m:\n",
      "File \u001b[1;32m~\\AppData\\Roaming\\Python\\Python310\\site-packages\\pyomo\\core\\base\\indexed_component.py:716\u001b[0m, in \u001b[0;36mIndexedComponent._construct_from_rule_using_setitem\u001b[1;34m(self)\u001b[0m\n\u001b[0;32m    713\u001b[0m \u001b[38;5;28;01mif\u001b[39;00m rule\u001b[38;5;241m.\u001b[39mcontains_indices():\n\u001b[0;32m    714\u001b[0m     \u001b[38;5;66;03m# The index is coming in externally; we need to validate it\u001b[39;00m\n\u001b[0;32m    715\u001b[0m     \u001b[38;5;28;01mfor\u001b[39;00m index \u001b[38;5;129;01min\u001b[39;00m rule\u001b[38;5;241m.\u001b[39mindices():\n\u001b[1;32m--> 716\u001b[0m         \u001b[38;5;28mself\u001b[39m[index] \u001b[38;5;241m=\u001b[39m rule(block, index)\n\u001b[0;32m    717\u001b[0m \u001b[38;5;28;01melif\u001b[39;00m \u001b[38;5;129;01mnot\u001b[39;00m \u001b[38;5;28mself\u001b[39m\u001b[38;5;241m.\u001b[39mindex_set()\u001b[38;5;241m.\u001b[39misfinite():\n\u001b[0;32m    718\u001b[0m     \u001b[38;5;66;03m# If the index is not finite, then we cannot iterate\u001b[39;00m\n\u001b[0;32m    719\u001b[0m     \u001b[38;5;66;03m# over it.  Since the rule doesn't provide explicit\u001b[39;00m\n\u001b[0;32m    720\u001b[0m     \u001b[38;5;66;03m# indices, then there is nothing we can do (the\u001b[39;00m\n\u001b[0;32m    721\u001b[0m     \u001b[38;5;66;03m# assumption is that the user will trigger specific\u001b[39;00m\n\u001b[0;32m    722\u001b[0m     \u001b[38;5;66;03m# indices to be created at a later time).\u001b[39;00m\n\u001b[0;32m    723\u001b[0m     \u001b[38;5;28;01mpass\u001b[39;00m\n",
      "File \u001b[1;32m~\\AppData\\Roaming\\Python\\Python310\\site-packages\\pyomo\\core\\base\\indexed_component.py:619\u001b[0m, in \u001b[0;36mIndexedComponent.__setitem__\u001b[1;34m(self, index, val)\u001b[0m\n\u001b[0;32m    614\u001b[0m \u001b[38;5;28;01mif\u001b[39;00m obj \u001b[38;5;129;01mis\u001b[39;00m _NotFound:\n\u001b[0;32m    615\u001b[0m     \u001b[38;5;66;03m# If we didn't find the index in the data, then we need to\u001b[39;00m\n\u001b[0;32m    616\u001b[0m     \u001b[38;5;66;03m# validate it against the underlying set (as long as\u001b[39;00m\n\u001b[0;32m    617\u001b[0m     \u001b[38;5;66;03m# _processUnhashableIndex didn't return a slicer)\u001b[39;00m\n\u001b[0;32m    618\u001b[0m     \u001b[38;5;28;01mif\u001b[39;00m index\u001b[38;5;241m.\u001b[39m\u001b[38;5;18m__class__\u001b[39m \u001b[38;5;129;01mis\u001b[39;00m \u001b[38;5;129;01mnot\u001b[39;00m IndexedComponent_slice:\n\u001b[1;32m--> 619\u001b[0m         index \u001b[38;5;241m=\u001b[39m \u001b[38;5;28;43mself\u001b[39;49m\u001b[38;5;241;43m.\u001b[39;49m\u001b[43m_validate_index\u001b[49m\u001b[43m(\u001b[49m\u001b[43mindex\u001b[49m\u001b[43m)\u001b[49m\n\u001b[0;32m    620\u001b[0m \u001b[38;5;28;01melse\u001b[39;00m:\n\u001b[0;32m    621\u001b[0m     \u001b[38;5;28;01mreturn\u001b[39;00m \u001b[38;5;28mself\u001b[39m\u001b[38;5;241m.\u001b[39m_setitem_impl(index, obj, val)\n",
      "File \u001b[1;32m~\\AppData\\Roaming\\Python\\Python310\\site-packages\\pyomo\\core\\base\\indexed_component.py:800\u001b[0m, in \u001b[0;36mIndexedComponent._validate_index\u001b[1;34m(self, idx)\u001b[0m\n\u001b[0;32m    794\u001b[0m     \u001b[38;5;28;01mraise\u001b[39;00m \u001b[38;5;167;01mKeyError\u001b[39;00m(\n\u001b[0;32m    795\u001b[0m         \u001b[38;5;124m\"\u001b[39m\u001b[38;5;124mCannot treat the scalar component \u001b[39m\u001b[38;5;124m'\u001b[39m\u001b[38;5;132;01m%s\u001b[39;00m\u001b[38;5;124m'\u001b[39m\u001b[38;5;124m \u001b[39m\u001b[38;5;124m\"\u001b[39m\n\u001b[0;32m    796\u001b[0m         \u001b[38;5;124m\"\u001b[39m\u001b[38;5;124mas an indexed component\u001b[39m\u001b[38;5;124m\"\u001b[39m \u001b[38;5;241m%\u001b[39m ( \u001b[38;5;28mself\u001b[39m\u001b[38;5;241m.\u001b[39mname, ))\n\u001b[0;32m    797\u001b[0m \u001b[38;5;66;03m#\u001b[39;00m\n\u001b[0;32m    798\u001b[0m \u001b[38;5;66;03m# Raise an exception\u001b[39;00m\n\u001b[0;32m    799\u001b[0m \u001b[38;5;66;03m#\u001b[39;00m\n\u001b[1;32m--> 800\u001b[0m \u001b[38;5;28;01mraise\u001b[39;00m \u001b[38;5;167;01mKeyError\u001b[39;00m(\n\u001b[0;32m    801\u001b[0m     \u001b[38;5;124m\"\u001b[39m\u001b[38;5;124mIndex \u001b[39m\u001b[38;5;124m'\u001b[39m\u001b[38;5;132;01m%s\u001b[39;00m\u001b[38;5;124m'\u001b[39m\u001b[38;5;124m is not valid for indexed component \u001b[39m\u001b[38;5;124m'\u001b[39m\u001b[38;5;132;01m%s\u001b[39;00m\u001b[38;5;124m'\u001b[39m\u001b[38;5;124m\"\u001b[39m\n\u001b[0;32m    802\u001b[0m     \u001b[38;5;241m%\u001b[39m ( idx, \u001b[38;5;28mself\u001b[39m\u001b[38;5;241m.\u001b[39mname, ))\n",
      "\u001b[1;31mKeyError\u001b[0m: \"Index '4' is not valid for indexed component 'demands'\""
     ]
    }
   ],
   "source": [
    "import pyomo.environ as pyo\n",
    "from pyomo.opt import SolverFactory\n",
    "\n",
    "# Sample data\n",
    "I = [1, 2, 3]  # potential facility locations\n",
    "J = [1, 2, 3]  # customers\n",
    "f_i = {1: 500, 2: 300, 3: 700}  # fixed activation costs\n",
    "c_ij = {(1, 1): 10, (1, 2): 20, (1, 3): 30,\n",
    "        (2, 1): 15, (2, 2): 25, (2, 3): 35,\n",
    "        (3, 1): 20, (3, 2): 30, (3, 3): 40}  # transportation costs\n",
    "d_j = {1: 50, 2: 60, 3: 70}  # demands\n",
    "s_i = {1: 150, 2: 180, 3: 220}  # maximum service volumes\n",
    "\n",
    "# Create Pyomo model\n",
    "model = pyo.ConcreteModel(\"Capacitated Facility Location Problem\")\n",
    "\n",
    "# Define sets\n",
    "model.I = pyo.Set(initialize=I)\n",
    "model.J = pyo.Set(initialize=J)\n",
    "\n",
    "# Define parameters\n",
    "f_i = pyo.Param(model.I, initialize=f_i)\n",
    "model.transportation_costs = pyo.Param(model.I, model.J, initialize=c_ij)\n",
    "model.demands = pyo.Param(model.J, initialize=d_j)\n",
    "model.max_service_volumes = pyo.Param(model.I, initialize=s_i)\n",
    "\n",
    "# Define decision variables\n",
    "model.x_ij = pyo.Var(model.I, model.J, domain=pyo.Binary)\n",
    "model.y_i = pyo.Var(model.I, domain=pyo.Binary)\n",
    "\n",
    "# Define the objective function\n",
    "def objective_rule(model):\n",
    "    return pyo.summation(f_i, model.y_i) + \\\n",
    "           pyo.summation(model.transportation_costs, model.x_ij)\n",
    "model.objective = pyo.Objective(rule=objective_rule, sense=pyo.minimize)\n",
    "\n",
    "# Define constraints\n",
    "def demand_constraints_rule(model, j):\n",
    "    return pyo.summation(model.x_ij, model.I) == 1\n",
    "model.demand_constraints = pyo.Constraint(model.J, rule=demand_constraints_rule)\n",
    "\n",
    "def facility_opening_constraints_rule(model, i, j):\n",
    "    return model.x_ij[i, j] <= model.y_i[i]\n",
    "model.facility_opening_constraints = pyo.Constraint(model.I, model.J,\n",
    "                                                   rule=facility_opening_constraints_rule)\n",
    "\n",
    "def capacity_constraints_rule(model, i):\n",
    "    return pyo.summation(model.demands, model.x_ij[i]) <= model.max_service_volumes[i] * model.y_i[i]\n",
    "model.capacity_constraints = pyo.Constraint(model.I, rule=capacity_constraints_rule)\n",
    "\n",
    "# Solve the model\n",
    "optimizer = SolverFactory('glpk')\n",
    "optimizer.solve(model)\n",
    "\n",
    "# Print the solution\n",
    "print(\"x_ij values\")\n",
    "for i in model.I:\n",
    "    for j in model.J:\n",
    "        print(f\"x_{i}_{j}: {model.x_ij[i, j].value}\")\n",
    "\n",
    "print(\"\\ny_i values\")\n",
    "for i in model.I:\n",
    "    print(f\"y_{i}: {model.y_i[i].value}\")\n",
    "\n",
    "print(\"\\nObjective value: \", model.objective.expr().value)"
   ]
  },
  {
   "cell_type": "markdown",
   "id": "95f5c3a8",
   "metadata": {},
   "source": [
    "### Solution Correctness"
   ]
  },
  {
   "cell_type": "code",
   "execution_count": 9,
   "id": "01245691",
   "metadata": {},
   "outputs": [
    {
     "name": "stdout",
     "output_type": "stream",
     "text": [
      "ERROR: Rule failed when generating expression for Objective objective with\n",
      "    index None: KeyError: 4\n",
      "ERROR: Constructing component 'objective' from data=None failed: KeyError: 4\n"
     ]
    },
    {
     "ename": "KeyError",
     "evalue": "4",
     "output_type": "error",
     "traceback": [
      "\u001b[1;31m---------------------------------------------------------------------------\u001b[0m",
      "\u001b[1;31mKeyError\u001b[0m                                  Traceback (most recent call last)",
      "Input \u001b[1;32mIn [9]\u001b[0m, in \u001b[0;36m<cell line: 41>\u001b[1;34m()\u001b[0m\n\u001b[0;32m     37\u001b[0m \u001b[38;5;28;01mdef\u001b[39;00m \u001b[38;5;21mobjective_rule\u001b[39m(model):\n\u001b[0;32m     38\u001b[0m     \u001b[38;5;28;01mreturn\u001b[39;00m \u001b[38;5;28msum\u001b[39m(f_i[i] \u001b[38;5;241m*\u001b[39m model\u001b[38;5;241m.\u001b[39my_i[i] \u001b[38;5;28;01mfor\u001b[39;00m i \u001b[38;5;129;01min\u001b[39;00m model\u001b[38;5;241m.\u001b[39mI)\\\n\u001b[0;32m     39\u001b[0m     \u001b[38;5;241m+\u001b[39m \u001b[38;5;28msum\u001b[39m(\u001b[38;5;28msum\u001b[39m(c_ij[i, j] \u001b[38;5;241m*\u001b[39m model\u001b[38;5;241m.\u001b[39mx_ij[i, j] \u001b[38;5;28;01mfor\u001b[39;00m i \u001b[38;5;129;01min\u001b[39;00m model\u001b[38;5;241m.\u001b[39mI) \u001b[38;5;28;01mfor\u001b[39;00m j \u001b[38;5;129;01min\u001b[39;00m model\u001b[38;5;241m.\u001b[39mJ)\n\u001b[1;32m---> 41\u001b[0m model\u001b[38;5;241m.\u001b[39mobjective \u001b[38;5;241m=\u001b[39m pyo\u001b[38;5;241m.\u001b[39mObjective(rule\u001b[38;5;241m=\u001b[39mobjective_rule, sense\u001b[38;5;241m=\u001b[39mpyo\u001b[38;5;241m.\u001b[39mminimize)\n\u001b[0;32m     43\u001b[0m \u001b[38;5;66;03m# Define constraints\u001b[39;00m\n\u001b[0;32m     44\u001b[0m \u001b[38;5;28;01mdef\u001b[39;00m \u001b[38;5;21mdemand_constraints_rule\u001b[39m(model, j):\n",
      "File \u001b[1;32m~\\AppData\\Roaming\\Python\\Python310\\site-packages\\pyomo\\core\\base\\block.py:639\u001b[0m, in \u001b[0;36m_BlockData.__setattr__\u001b[1;34m(self, name, val)\u001b[0m\n\u001b[0;32m    634\u001b[0m \u001b[38;5;28;01mif\u001b[39;00m name \u001b[38;5;129;01mnot\u001b[39;00m \u001b[38;5;129;01min\u001b[39;00m \u001b[38;5;28mself\u001b[39m\u001b[38;5;241m.\u001b[39m\u001b[38;5;18m__dict__\u001b[39m:\n\u001b[0;32m    635\u001b[0m     \u001b[38;5;28;01mif\u001b[39;00m \u001b[38;5;28misinstance\u001b[39m(val, Component):\n\u001b[0;32m    636\u001b[0m         \u001b[38;5;66;03m#\u001b[39;00m\n\u001b[0;32m    637\u001b[0m         \u001b[38;5;66;03m# Pyomo components are added with the add_component method.\u001b[39;00m\n\u001b[0;32m    638\u001b[0m         \u001b[38;5;66;03m#\u001b[39;00m\n\u001b[1;32m--> 639\u001b[0m         \u001b[38;5;28;43mself\u001b[39;49m\u001b[38;5;241;43m.\u001b[39;49m\u001b[43madd_component\u001b[49m\u001b[43m(\u001b[49m\u001b[43mname\u001b[49m\u001b[43m,\u001b[49m\u001b[43m \u001b[49m\u001b[43mval\u001b[49m\u001b[43m)\u001b[49m\n\u001b[0;32m    640\u001b[0m     \u001b[38;5;28;01melse\u001b[39;00m:\n\u001b[0;32m    641\u001b[0m         \u001b[38;5;66;03m#\u001b[39;00m\n\u001b[0;32m    642\u001b[0m         \u001b[38;5;66;03m# Other Python objects are added with the standard __setattr__\u001b[39;00m\n\u001b[0;32m    643\u001b[0m         \u001b[38;5;66;03m# method.\u001b[39;00m\n\u001b[0;32m    644\u001b[0m         \u001b[38;5;66;03m#\u001b[39;00m\n\u001b[0;32m    645\u001b[0m         \u001b[38;5;28msuper\u001b[39m(_BlockData, \u001b[38;5;28mself\u001b[39m)\u001b[38;5;241m.\u001b[39m\u001b[38;5;21m__setattr__\u001b[39m(name, val)\n",
      "File \u001b[1;32m~\\AppData\\Roaming\\Python\\Python310\\site-packages\\pyomo\\core\\base\\block.py:1186\u001b[0m, in \u001b[0;36m_BlockData.add_component\u001b[1;34m(self, name, val)\u001b[0m\n\u001b[0;32m   1182\u001b[0m     logger\u001b[38;5;241m.\u001b[39mdebug(\u001b[38;5;124m\"\u001b[39m\u001b[38;5;124mConstructing \u001b[39m\u001b[38;5;132;01m%s\u001b[39;00m\u001b[38;5;124m \u001b[39m\u001b[38;5;124m'\u001b[39m\u001b[38;5;132;01m%s\u001b[39;00m\u001b[38;5;124m'\u001b[39m\u001b[38;5;124m on \u001b[39m\u001b[38;5;132;01m%s\u001b[39;00m\u001b[38;5;124m from data=\u001b[39m\u001b[38;5;132;01m%s\u001b[39;00m\u001b[38;5;124m\"\u001b[39m,\n\u001b[0;32m   1183\u001b[0m                  val\u001b[38;5;241m.\u001b[39m\u001b[38;5;18m__class__\u001b[39m\u001b[38;5;241m.\u001b[39m\u001b[38;5;18m__name__\u001b[39m, name,\n\u001b[0;32m   1184\u001b[0m                  _blockName, \u001b[38;5;28mstr\u001b[39m(data))\n\u001b[0;32m   1185\u001b[0m \u001b[38;5;28;01mtry\u001b[39;00m:\n\u001b[1;32m-> 1186\u001b[0m     \u001b[43mval\u001b[49m\u001b[38;5;241;43m.\u001b[39;49m\u001b[43mconstruct\u001b[49m\u001b[43m(\u001b[49m\u001b[43mdata\u001b[49m\u001b[43m)\u001b[49m\n\u001b[0;32m   1187\u001b[0m \u001b[38;5;28;01mexcept\u001b[39;00m:\n\u001b[0;32m   1188\u001b[0m     err \u001b[38;5;241m=\u001b[39m sys\u001b[38;5;241m.\u001b[39mexc_info()[\u001b[38;5;241m1\u001b[39m]\n",
      "File \u001b[1;32m~\\AppData\\Roaming\\Python\\Python310\\site-packages\\pyomo\\core\\base\\objective.py:334\u001b[0m, in \u001b[0;36mObjective.construct\u001b[1;34m(self, data)\u001b[0m\n\u001b[0;32m    330\u001b[0m \u001b[38;5;28;01melse\u001b[39;00m:\n\u001b[0;32m    331\u001b[0m     \u001b[38;5;66;03m# Bypass the index validation and create the member directly\u001b[39;00m\n\u001b[0;32m    332\u001b[0m     \u001b[38;5;28;01mfor\u001b[39;00m index \u001b[38;5;129;01min\u001b[39;00m \u001b[38;5;28mself\u001b[39m\u001b[38;5;241m.\u001b[39mindex_set():\n\u001b[0;32m    333\u001b[0m         ans \u001b[38;5;241m=\u001b[39m \u001b[38;5;28mself\u001b[39m\u001b[38;5;241m.\u001b[39m_setitem_when_not_present(\n\u001b[1;32m--> 334\u001b[0m             index, \u001b[43mrule\u001b[49m\u001b[43m(\u001b[49m\u001b[43mblock\u001b[49m\u001b[43m,\u001b[49m\u001b[43m \u001b[49m\u001b[43mindex\u001b[49m\u001b[43m)\u001b[49m)\n\u001b[0;32m    335\u001b[0m         \u001b[38;5;28;01mif\u001b[39;00m ans \u001b[38;5;129;01mis\u001b[39;00m \u001b[38;5;129;01mnot\u001b[39;00m \u001b[38;5;28;01mNone\u001b[39;00m:\n\u001b[0;32m    336\u001b[0m             ans\u001b[38;5;241m.\u001b[39mset_sense(\u001b[38;5;28mself\u001b[39m\u001b[38;5;241m.\u001b[39m_init_sense(block, index))\n",
      "File \u001b[1;32m~\\AppData\\Roaming\\Python\\Python310\\site-packages\\pyomo\\core\\base\\initializer.py:402\u001b[0m, in \u001b[0;36mScalarCallInitializer.__call__\u001b[1;34m(self, parent, idx)\u001b[0m\n\u001b[0;32m    401\u001b[0m \u001b[38;5;28;01mdef\u001b[39;00m \u001b[38;5;21m__call__\u001b[39m(\u001b[38;5;28mself\u001b[39m, parent, idx):\n\u001b[1;32m--> 402\u001b[0m     \u001b[38;5;28;01mreturn\u001b[39;00m \u001b[38;5;28;43mself\u001b[39;49m\u001b[38;5;241;43m.\u001b[39;49m\u001b[43m_fcn\u001b[49m\u001b[43m(\u001b[49m\u001b[43mparent\u001b[49m\u001b[43m)\u001b[49m\n",
      "Input \u001b[1;32mIn [9]\u001b[0m, in \u001b[0;36mobjective_rule\u001b[1;34m(model)\u001b[0m\n\u001b[0;32m     37\u001b[0m \u001b[38;5;28;01mdef\u001b[39;00m \u001b[38;5;21mobjective_rule\u001b[39m(model):\n\u001b[1;32m---> 38\u001b[0m     \u001b[38;5;28;01mreturn\u001b[39;00m \u001b[38;5;28;43msum\u001b[39;49m\u001b[43m(\u001b[49m\u001b[43mf_i\u001b[49m\u001b[43m[\u001b[49m\u001b[43mi\u001b[49m\u001b[43m]\u001b[49m\u001b[43m \u001b[49m\u001b[38;5;241;43m*\u001b[39;49m\u001b[43m \u001b[49m\u001b[43mmodel\u001b[49m\u001b[38;5;241;43m.\u001b[39;49m\u001b[43my_i\u001b[49m\u001b[43m[\u001b[49m\u001b[43mi\u001b[49m\u001b[43m]\u001b[49m\u001b[43m \u001b[49m\u001b[38;5;28;43;01mfor\u001b[39;49;00m\u001b[43m \u001b[49m\u001b[43mi\u001b[49m\u001b[43m \u001b[49m\u001b[38;5;129;43;01min\u001b[39;49;00m\u001b[43m \u001b[49m\u001b[43mmodel\u001b[49m\u001b[38;5;241;43m.\u001b[39;49m\u001b[43mI\u001b[49m\u001b[43m)\u001b[49m\\\n\u001b[0;32m     39\u001b[0m     \u001b[38;5;241m+\u001b[39m \u001b[38;5;28msum\u001b[39m(\u001b[38;5;28msum\u001b[39m(c_ij[i, j] \u001b[38;5;241m*\u001b[39m model\u001b[38;5;241m.\u001b[39mx_ij[i, j] \u001b[38;5;28;01mfor\u001b[39;00m i \u001b[38;5;129;01min\u001b[39;00m model\u001b[38;5;241m.\u001b[39mI) \u001b[38;5;28;01mfor\u001b[39;00m j \u001b[38;5;129;01min\u001b[39;00m model\u001b[38;5;241m.\u001b[39mJ)\n",
      "Input \u001b[1;32mIn [9]\u001b[0m, in \u001b[0;36m<genexpr>\u001b[1;34m(.0)\u001b[0m\n\u001b[0;32m     37\u001b[0m \u001b[38;5;28;01mdef\u001b[39;00m \u001b[38;5;21mobjective_rule\u001b[39m(model):\n\u001b[1;32m---> 38\u001b[0m     \u001b[38;5;28;01mreturn\u001b[39;00m \u001b[38;5;28msum\u001b[39m(\u001b[43mf_i\u001b[49m\u001b[43m[\u001b[49m\u001b[43mi\u001b[49m\u001b[43m]\u001b[49m \u001b[38;5;241m*\u001b[39m model\u001b[38;5;241m.\u001b[39my_i[i] \u001b[38;5;28;01mfor\u001b[39;00m i \u001b[38;5;129;01min\u001b[39;00m model\u001b[38;5;241m.\u001b[39mI)\\\n\u001b[0;32m     39\u001b[0m     \u001b[38;5;241m+\u001b[39m \u001b[38;5;28msum\u001b[39m(\u001b[38;5;28msum\u001b[39m(c_ij[i, j] \u001b[38;5;241m*\u001b[39m model\u001b[38;5;241m.\u001b[39mx_ij[i, j] \u001b[38;5;28;01mfor\u001b[39;00m i \u001b[38;5;129;01min\u001b[39;00m model\u001b[38;5;241m.\u001b[39mI) \u001b[38;5;28;01mfor\u001b[39;00m j \u001b[38;5;129;01min\u001b[39;00m model\u001b[38;5;241m.\u001b[39mJ)\n",
      "\u001b[1;31mKeyError\u001b[0m: 4"
     ]
    }
   ],
   "source": [
    "import pyomo.environ as pyo\n",
    "from pyomo.opt import SolverFactory\n",
    "\n",
    "# Sample data\n",
    "f_i = {1: 1000, 2: 1000, 3: 1000}  # fixed activation costs\n",
    "c_ij = {\n",
    "    (1, 1): 4,  (1, 2): 6,  (1, 3): 9,\n",
    "    (2, 1): 5,  (2, 2): 4,  (2, 3): 7,\n",
    "    (3, 1): 6,  (3, 2): 3,  (3, 3): 4,\n",
    "    (4, 1): 8,  (4, 2): 5,  (4, 3): 3,\n",
    "    (5, 1): 10, (5, 2): 8,  (5, 3): 4,\n",
    "        }  # transportation costs\n",
    "d_j = {1: 80, 2: 270, 3: 250, 4: 160, 5: 180}  # demands\n",
    "s_i = {1: 500, 2: 500, 3: 500}  # maximum service volumes\n",
    "\n",
    "I = list(s_i.keys())  # potential facility locations\n",
    "J = list(d_j.keys())\n",
    "\n",
    "# Create Pyomo model\n",
    "model = pyo.ConcreteModel(\"Capacitated Facility Location Problem\")\n",
    "\n",
    "# Define sets\n",
    "model.I = pyo.Set(initialize=J)\n",
    "model.J = pyo.Set(initialize=J)\n",
    "\n",
    "# Define parameters\n",
    "# model.fixed_activation_costs = pyo.Param(I, initialize=f_i)\n",
    "# model.transportation_costs = pyo.Param(I, J, initialize=c_ij)\n",
    "# model.demands = pyo.Param(J, initialize=d_j)\n",
    "# model.max_service_volumes = pyo.Param(I, initialize=s_i)\n",
    "\n",
    "# Define decision variables\n",
    "model.x_ij = pyo.Var(model.I, model.J, domain=pyo.Binary)\n",
    "model.y_i = pyo.Var(model.I, domain=pyo.Binary)\n",
    "\n",
    "# Define the objective function\n",
    "def objective_rule(model):\n",
    "    return sum(f_i[i] * model.y_i[i] for i in model.I)\\\n",
    "    + sum(sum(c_ij[j, i] * model.x_ij[i, j] for i in model.I) for j in model.J)\n",
    "\n",
    "model.objective = pyo.Objective(rule=objective_rule, sense=pyo.minimize)\n",
    "\n",
    "# Define constraints\n",
    "def demand_constraints_rule(model, j):\n",
    "    return sum(model.x_ij[i, j] for i in model.I) == 1\n",
    "d_j = pyo.Constraint(model.J, rule=demand_constraints_rule)\n",
    "\n",
    "def facility_opening_constraints_rule(model, i, j):\n",
    "    return model.x_ij[i, j] <= model.y_i[i]\n",
    "model.facility_opening_constraints = pyo.Constraint(model.I, model.J,\n",
    "                                                   rule=facility_opening_constraints_rule)\n",
    "\n",
    "def capacity_constraints_rule(model, i):\n",
    "    return sum(d_j * model.x_ij[i, j] for j in model.J) <= s_i[i] * model.y_i[i]\n",
    "model.capacity_constraints = pyo.Constraint(model.I, rule=capacity_constraints_rule)\n",
    "\n",
    "# Solve the model\n",
    "optimizer = SolverFactory('glpk')\n",
    "optimizer.solve(model)\n",
    "\n",
    "# Print the solution\n",
    "print(\"x_ij values\")\n",
    "for i in model.I:\n",
    "    for j in model.J:\n",
    "        print(f\"x_{i}_{j}: {model.x_ij[i, j].value}\")\n",
    "\n",
    "print(\"\\ny_i values\")\n",
    "for i in model.I:\n",
    "    print(f\"y_{i}: {model.y_i[i].value}\")\n",
    "\n",
    "print(\"\\nObjective value: \", model.objective.expr())"
   ]
  },
  {
   "cell_type": "code",
   "execution_count": 5,
   "id": "7577a4d5",
   "metadata": {},
   "outputs": [
    {
     "name": "stdout",
     "output_type": "stream",
     "text": [
      "6 Set Declarations\n",
      "    I : Size=1, Index=None, Ordered=Insertion\n",
      "        Key  : Dimen : Domain : Size : Members\n",
      "        None :     1 :    Any :    3 : {1, 2, 3}\n",
      "    J : Size=1, Index=None, Ordered=Insertion\n",
      "        Key  : Dimen : Domain : Size : Members\n",
      "        None :     1 :    Any :    5 : {1, 2, 3, 4, 5}\n",
      "    fixed_activation_costs_index : Size=1, Index=None, Ordered=Insertion\n",
      "        Key  : Dimen : Domain : Size : Members\n",
      "        None :     1 :    Any :    3 : {1, 2, 3}\n",
      "    transportation_costs_index : Size=1, Index=None, Ordered=True\n",
      "        Key  : Dimen : Domain                                                    : Size : Members\n",
      "        None :     2 : transportation_costs_index_0*transportation_costs_index_1 :   15 : {(1, 1), (1, 2), (1, 3), (1, 4), (1, 5), (2, 1), (2, 2), (2, 3), (2, 4), (2, 5), (3, 1), (3, 2), (3, 3), (3, 4), (3, 5)}\n",
      "    transportation_costs_index_0 : Size=1, Index=None, Ordered=Insertion\n",
      "        Key  : Dimen : Domain : Size : Members\n",
      "        None :     1 :    Any :    3 : {1, 2, 3}\n",
      "    transportation_costs_index_1 : Size=1, Index=None, Ordered=Insertion\n",
      "        Key  : Dimen : Domain : Size : Members\n",
      "        None :     1 :    Any :    5 : {1, 2, 3, 4, 5}\n",
      "\n",
      "2 Param Declarations\n",
      "    fixed_activation_costs : Size=3, Index=fixed_activation_costs_index, Domain=Any, Default=None, Mutable=False\n",
      "        Key : Value\n",
      "          1 :  1000\n",
      "          2 :  1000\n",
      "          3 :  1000\n",
      "    transportation_costs : Size=9, Index=transportation_costs_index, Domain=Any, Default=None, Mutable=False\n",
      "        Not constructed\n",
      "\n",
      "8 Declarations: I J fixed_activation_costs_index fixed_activation_costs transportation_costs_index_0 transportation_costs_index_1 transportation_costs_index transportation_costs\n"
     ]
    }
   ],
   "source": [
    "model.pprint()"
   ]
  }
 ],
 "metadata": {
  "kernelspec": {
   "display_name": "Python 3 (ipykernel)",
   "language": "python",
   "name": "python3"
  },
  "language_info": {
   "codemirror_mode": {
    "name": "ipython",
    "version": 3
   },
   "file_extension": ".py",
   "mimetype": "text/x-python",
   "name": "python",
   "nbconvert_exporter": "python",
   "pygments_lexer": "ipython3",
   "version": "3.10.4"
  }
 },
 "nbformat": 4,
 "nbformat_minor": 5
}
