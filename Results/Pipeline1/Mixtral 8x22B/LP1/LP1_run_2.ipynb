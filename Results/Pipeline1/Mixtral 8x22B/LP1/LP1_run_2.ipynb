{
 "cells": [
  {
   "cell_type": "code",
   "execution_count": 1,
   "id": "e5c2c174",
   "metadata": {},
   "outputs": [],
   "source": [
    "import os\n",
    "from mistralai.client import MistralClient\n",
    "from mistralai.models.chat_completion import ChatMessage\n",
    "from IPython.display import display, Markdown, Latex\n",
    "from datetime import datetime"
   ]
  },
  {
   "cell_type": "code",
   "execution_count": 2,
   "id": "4425765c",
   "metadata": {},
   "outputs": [
    {
     "data": {
      "text/plain": [
       "'Please write a python pyomo code for this optimization problem. Use sample data where needed. Indicate where you use sample data.'"
      ]
     },
     "execution_count": 2,
     "metadata": {},
     "output_type": "execute_result"
    }
   ],
   "source": [
    "API_KEY = os.environ['MISTRAL_API_KEY']\n",
    "\n",
    "MODEL_ID = 'open-mixtral-8x22b'\n",
    "MODEL_SEED = 2\n",
    "MODEL_TEMPERATURE = 0.7\n",
    "\n",
    "file_system_prompt_1 = open(\"../../system_prompt_1.txt\", \"r\")\n",
    "file_system_prompt_2 = open(\"../../system_prompt_2.txt\", \"r\")\n",
    "SYSTEM_PROMPT_1 = file_system_prompt_1.read()\n",
    "SYSTEM_PROMPT_2 = file_system_prompt_2.read()\n",
    "SYSTEM_PROMPT_2"
   ]
  },
  {
   "cell_type": "code",
   "execution_count": 2,
   "id": "b0c91a62",
   "metadata": {},
   "outputs": [
    {
     "name": "stdout",
     "output_type": "stream",
     "text": [
      "Time of execution: 2024-05-18 13:06:12.001256\n"
     ]
    }
   ],
   "source": [
    "API_KEY = os.environ['MISTRAL_API_KEY']\n",
    "\n",
    "MODEL_ID = 'open-mixtral-8x22b'\n",
    "MODEL_SEED = 2\n",
    "MODEL_TEMPERATURE = 0.7\n",
    "\n",
    "file_system_prompt_1 = open(\"../../system_prompt_1.txt\", \"r\")\n",
    "file_system_prompt_2 = open(\"../../system_prompt_2.txt\", \"r\")\n",
    "SYSTEM_PROMPT_1 = file_system_prompt_1.read()\n",
    "SYSTEM_PROMPT_2 = file_system_prompt_2.read()\n",
    "file_system_prompt_1.close()\n",
    "file_system_prompt_2.close()\n",
    "\n",
    "FILE_PATH_PROBLEM = '../../../../Datasets/LP_1_Production-in-cosmetics-firm/'\n",
    "assert(FILE_PATH_PROBLEM != '../../../../Datasets/')\n",
    "file_problem_description = open(FILE_PATH_PROBLEM + 'ProblemDescription.txt', 'r')\n",
    "PROBLEM_DESCRIPTION = file_problem_description.read()\n",
    "file_problem_description.close()\n",
    "\n",
    "\n",
    "client = MistralClient(api_key=API_KEY)\n",
    "\n",
    "print(f'Time of execution: {datetime.now()}')"
   ]
  },
  {
   "cell_type": "markdown",
   "id": "3e540824",
   "metadata": {},
   "source": [
    "## Step 1 - Generate Mathematical Formulation "
   ]
  },
  {
   "cell_type": "code",
   "execution_count": 3,
   "id": "174c127b",
   "metadata": {},
   "outputs": [],
   "source": [
    "messages_1 = [\n",
    "    ChatMessage(role=\"system\", content=SYSTEM_PROMPT_1),\n",
    "    ChatMessage(role=\"user\", content=PROBLEM_DESCRIPTION)\n",
    "]"
   ]
  },
  {
   "cell_type": "code",
   "execution_count": 4,
   "id": "d43340f3",
   "metadata": {},
   "outputs": [],
   "source": [
    "response_1 = client.chat(\n",
    "    model=MODEL_ID,\n",
    "    messages=messages_1,\n",
    "    random_seed=MODEL_SEED,\n",
    "    temperature=MODEL_TEMPERATURE \n",
    ")\n",
    "\n",
    "response_1_text = response_1.choices[0].message.content"
   ]
  },
  {
   "cell_type": "code",
   "execution_count": 5,
   "id": "03616e62",
   "metadata": {},
   "outputs": [
    {
     "data": {
      "text/markdown": [
       "To formulate a mathematical optimization model for this problem, we start by defining the parameters, decision variables, objective function, and constraints.\n",
       "\n",
       "Parameters:\n",
       "\n",
       "- Let C1_available = 10,000 l and C2_available = 15,000 l be the available quantities of components C1 and C2, respectively.\n",
       "- Let GCA_demand = 6,000 l, GCB_demand = 7,000 l, and GCC_demand = 9,000 l be the minimum demand levels for products GCA, GCB, and GCC, respectively.\n",
       "- Let C1_critical = 0.4 and C2_critical = 0.2 be the proportional critical elements for components C1 and C2, respectively.\n",
       "- Let GCA_critical_min = 0.3, GCB_critical_max = 0.3, and GCC_ratio_min = 0.3 be the critical element requirements for products GCA, GCB, and GCC, respectively.\n",
       "- Let GCA_profit = $120, GCB_profit = $135, and GCC_profit = $155 be the profits per litre for products GCA, GCB, and GCC, respectively.\n",
       "\n",
       "Decision variables:\n",
       "\n",
       "- Let x1, x2, and x3 be the quantities of products GCA, GCB, and GCC to be produced, respectively.\n",
       "\n",
       "Objective function:\n",
       "\n",
       "The objective is to maximize the total profit, which can be expressed as:\n",
       "\n",
       "Maximize Z = 120x1 + 135x2 + 155x3\n",
       "\n",
       "Constraints:\n",
       "\n",
       "1. Availability of components:\n",
       "   - C1_used = x1 + x2 + x3\n",
       "   - C2_used = x1 + x2 + x3\n",
       "   - C1_used <= C1_available\n",
       "   - C2_used <= C2_available\n",
       "\n",
       "2. Minimum demand requirements:\n",
       "   - x1 >= GCA_demand\n",
       "   - x2 >= GCB_demand\n",
       "   - x3 >= GCC_demand\n",
       "\n",
       "3. Critical element requirements:\n",
       "   - (0.4x1 + 0.2x2) / (x1 + x2) >= GCA_critical_min (for GCA)\n",
       "   - (0.4x1 + 0.2x2) / (x1 + x2) <= GCB_critical_max (for GCB)\n",
       "   - x1 / x3 >= GCC_ratio_min (for GCC)\n",
       "\n",
       "4. Non-negativity constraints:\n",
       "   - x1 >= 0\n",
       "   - x2 >= 0\n",
       "   - x3 >= 0\n",
       "\n",
       "This formulation aims to maximize the profit while satisfying the resource availability, minimum demand requirements, and critical element requirements. To solve this optimization problem, one can use linear programming techniques or other optimization methods."
      ],
      "text/plain": [
       "<IPython.core.display.Markdown object>"
      ]
     },
     "execution_count": 5,
     "metadata": {},
     "output_type": "execute_result"
    }
   ],
   "source": [
    "Markdown(response_1_text)"
   ]
  },
  {
   "cell_type": "code",
   "execution_count": 6,
   "id": "b6a33171",
   "metadata": {},
   "outputs": [
    {
     "name": "stdout",
     "output_type": "stream",
     "text": [
      "To formulate a mathematical optimization model for this problem, we start by defining the parameters, decision variables, objective function, and constraints.\n",
      "\n",
      "Parameters:\n",
      "\n",
      "- Let C1_available = 10,000 l and C2_available = 15,000 l be the available quantities of components C1 and C2, respectively.\n",
      "- Let GCA_demand = 6,000 l, GCB_demand = 7,000 l, and GCC_demand = 9,000 l be the minimum demand levels for products GCA, GCB, and GCC, respectively.\n",
      "- Let C1_critical = 0.4 and C2_critical = 0.2 be the proportional critical elements for components C1 and C2, respectively.\n",
      "- Let GCA_critical_min = 0.3, GCB_critical_max = 0.3, and GCC_ratio_min = 0.3 be the critical element requirements for products GCA, GCB, and GCC, respectively.\n",
      "- Let GCA_profit = $120, GCB_profit = $135, and GCC_profit = $155 be the profits per litre for products GCA, GCB, and GCC, respectively.\n",
      "\n",
      "Decision variables:\n",
      "\n",
      "- Let x1, x2, and x3 be the quantities of products GCA, GCB, and GCC to be produced, respectively.\n",
      "\n",
      "Objective function:\n",
      "\n",
      "The objective is to maximize the total profit, which can be expressed as:\n",
      "\n",
      "Maximize Z = 120x1 + 135x2 + 155x3\n",
      "\n",
      "Constraints:\n",
      "\n",
      "1. Availability of components:\n",
      "   - C1_used = x1 + x2 + x3\n",
      "   - C2_used = x1 + x2 + x3\n",
      "   - C1_used <= C1_available\n",
      "   - C2_used <= C2_available\n",
      "\n",
      "2. Minimum demand requirements:\n",
      "   - x1 >= GCA_demand\n",
      "   - x2 >= GCB_demand\n",
      "   - x3 >= GCC_demand\n",
      "\n",
      "3. Critical element requirements:\n",
      "   - (0.4x1 + 0.2x2) / (x1 + x2) >= GCA_critical_min (for GCA)\n",
      "   - (0.4x1 + 0.2x2) / (x1 + x2) <= GCB_critical_max (for GCB)\n",
      "   - x1 / x3 >= GCC_ratio_min (for GCC)\n",
      "\n",
      "4. Non-negativity constraints:\n",
      "   - x1 >= 0\n",
      "   - x2 >= 0\n",
      "   - x3 >= 0\n",
      "\n",
      "This formulation aims to maximize the profit while satisfying the resource availability, minimum demand requirements, and critical element requirements. To solve this optimization problem, one can use linear programming techniques or other optimization methods.\n"
     ]
    }
   ],
   "source": [
    "print(response_1_text)"
   ]
  },
  {
   "cell_type": "markdown",
   "id": "27b5f89a",
   "metadata": {},
   "source": [
    "## Step 2 - Generate the Pyomo Code"
   ]
  },
  {
   "cell_type": "code",
   "execution_count": 7,
   "id": "a4c3312f",
   "metadata": {},
   "outputs": [],
   "source": [
    "messages_2 = [\n",
    "    ChatMessage(role=\"system\", content=SYSTEM_PROMPT_2),\n",
    "    ChatMessage(role=\"user\", content=response_1_text)\n",
    "]"
   ]
  },
  {
   "cell_type": "code",
   "execution_count": 8,
   "id": "4212d99d",
   "metadata": {},
   "outputs": [],
   "source": [
    "response_2 = client.chat(\n",
    "    model=MODEL_ID,\n",
    "    messages=messages_2,\n",
    "    random_seed=MODEL_SEED,\n",
    "    temperature=MODEL_TEMPERATURE\n",
    ")\n",
    "\n",
    "response_2_text = response_2.choices[0].message.content"
   ]
  },
  {
   "cell_type": "code",
   "execution_count": 9,
   "id": "c168a60b",
   "metadata": {},
   "outputs": [
    {
     "data": {
      "text/markdown": [
       "Here is a Python code using Pyomo to solve the optimization problem:\n",
       "\n",
       "```python\n",
       "# Import the necessary packages\n",
       "from pyomo.environ import *\n",
       "\n",
       "# Define the model\n",
       "model = ConcreteModel()\n",
       "\n",
       "# Define the parameters (sample data)\n",
       "model.C1_available = 10000\n",
       "model.C2_available = 15000\n",
       "model.GCA_demand = 6000\n",
       "model.GCB_demand = 7000\n",
       "model.GCC_demand = 9000\n",
       "model.C1_critical = 0.4\n",
       "model.C2_critical = 0.2\n",
       "model.GCA_critical_min = 0.3\n",
       "model.GCB_critical_max = 0.3\n",
       "model.GCC_ratio_min = 0.3\n",
       "model.GCA_profit = 120\n",
       "model.GCB_profit = 135\n",
       "model.GCC_profit = 155\n",
       "\n",
       "# Define the decision variables\n",
       "model.x1 = Var(within=NonNegativeReals) # quantity of GCA\n",
       "model.x2 = Var(within=NonNegativeReals) # quantity of GCB\n",
       "model.x3 = Var(within=NonNegativeReals) # quantity of GCC\n",
       "\n",
       "# Define the objective function\n",
       "model.obj = Objective(expr=model.GCA_profit * model.x1 + model.GCB_profit * model.x2 + model.GCC_profit * model.x3, sense=maximize)\n",
       "\n",
       "# Define the constraints\n",
       "model.C1_used = Constraint(expr=model.x1 + model.x2 + model.x3 <= model.C1_available)\n",
       "model.C2_used = Constraint(expr=model.x1 + model.x2 + model.x3 <= model.C2_available)\n",
       "model.GCA_demand_req = Constraint(expr=model.x1 >= model.GCA_demand)\n",
       "model.GCB_demand_req = Constraint(expr=model.x2 >= model.GCB_demand)\n",
       "model.GCC_demand_req = Constraint(expr=model.x3 >= model.GCC_demand)\n",
       "model.GCA_critical_req = Constraint(expr=(model.C1_critical * model.x1 + model.C2_critical * model.x2) / (model.x1 + model.x2) >= model.GCA_critical_min)\n",
       "model.GCB_critical_req = Constraint(expr=(model.C1_critical * model.x1 + model.C2_critical * model.x2) / (model.x1 + model.x2) <= model.GCB_critical_max)\n",
       "model.GCC_ratio_req = Constraint(expr=model.x1 / model.x3 >= model.GCC_ratio_min)\n",
       "\n",
       "# Solve the model\n",
       "SolverFactory('glpk').solve(model)\n",
       "\n",
       "# Print the results\n",
       "print(\"Optimal profit: \", model.obj())\n",
       "print(\"Quantity of GCA: \", model.x1())\n",
       "print(\"Quantity of GCB: \", model.x2())\n",
       "print(\"Quantity of GCC: \", model.x3())\n",
       "```\n",
       "\n",
       "This code defines the optimization model using Pyomo, solves it using the GLPK solver, and prints the optimal solution. Note that the sample data is used for the parameter values as indicated in the problem statement."
      ],
      "text/plain": [
       "<IPython.core.display.Markdown object>"
      ]
     },
     "execution_count": 9,
     "metadata": {},
     "output_type": "execute_result"
    }
   ],
   "source": [
    "Markdown(response_2_text)"
   ]
  },
  {
   "cell_type": "code",
   "execution_count": 10,
   "id": "a380c180",
   "metadata": {},
   "outputs": [
    {
     "name": "stdout",
     "output_type": "stream",
     "text": [
      "Here is a Python code using Pyomo to solve the optimization problem:\n",
      "\n",
      "```python\n",
      "# Import the necessary packages\n",
      "from pyomo.environ import *\n",
      "\n",
      "# Define the model\n",
      "model = ConcreteModel()\n",
      "\n",
      "# Define the parameters (sample data)\n",
      "model.C1_available = 10000\n",
      "model.C2_available = 15000\n",
      "model.GCA_demand = 6000\n",
      "model.GCB_demand = 7000\n",
      "model.GCC_demand = 9000\n",
      "model.C1_critical = 0.4\n",
      "model.C2_critical = 0.2\n",
      "model.GCA_critical_min = 0.3\n",
      "model.GCB_critical_max = 0.3\n",
      "model.GCC_ratio_min = 0.3\n",
      "model.GCA_profit = 120\n",
      "model.GCB_profit = 135\n",
      "model.GCC_profit = 155\n",
      "\n",
      "# Define the decision variables\n",
      "model.x1 = Var(within=NonNegativeReals) # quantity of GCA\n",
      "model.x2 = Var(within=NonNegativeReals) # quantity of GCB\n",
      "model.x3 = Var(within=NonNegativeReals) # quantity of GCC\n",
      "\n",
      "# Define the objective function\n",
      "model.obj = Objective(expr=model.GCA_profit * model.x1 + model.GCB_profit * model.x2 + model.GCC_profit * model.x3, sense=maximize)\n",
      "\n",
      "# Define the constraints\n",
      "model.C1_used = Constraint(expr=model.x1 + model.x2 + model.x3 <= model.C1_available)\n",
      "model.C2_used = Constraint(expr=model.x1 + model.x2 + model.x3 <= model.C2_available)\n",
      "model.GCA_demand_req = Constraint(expr=model.x1 >= model.GCA_demand)\n",
      "model.GCB_demand_req = Constraint(expr=model.x2 >= model.GCB_demand)\n",
      "model.GCC_demand_req = Constraint(expr=model.x3 >= model.GCC_demand)\n",
      "model.GCA_critical_req = Constraint(expr=(model.C1_critical * model.x1 + model.C2_critical * model.x2) / (model.x1 + model.x2) >= model.GCA_critical_min)\n",
      "model.GCB_critical_req = Constraint(expr=(model.C1_critical * model.x1 + model.C2_critical * model.x2) / (model.x1 + model.x2) <= model.GCB_critical_max)\n",
      "model.GCC_ratio_req = Constraint(expr=model.x1 / model.x3 >= model.GCC_ratio_min)\n",
      "\n",
      "# Solve the model\n",
      "SolverFactory('glpk').solve(model)\n",
      "\n",
      "# Print the results\n",
      "print(\"Optimal profit: \", model.obj())\n",
      "print(\"Quantity of GCA: \", model.x1())\n",
      "print(\"Quantity of GCB: \", model.x2())\n",
      "print(\"Quantity of GCC: \", model.x3())\n",
      "```\n",
      "\n",
      "This code defines the optimization model using Pyomo, solves it using the GLPK solver, and prints the optimal solution. Note that the sample data is used for the parameter values as indicated in the problem statement.\n"
     ]
    }
   ],
   "source": [
    "print(response_2_text)"
   ]
  },
  {
   "cell_type": "markdown",
   "id": "879cc7ae",
   "metadata": {},
   "source": [
    "### Code Executability"
   ]
  },
  {
   "cell_type": "code",
   "execution_count": 11,
   "id": "f1d9a625",
   "metadata": {},
   "outputs": [
    {
     "ename": "ValueError",
     "evalue": "Cannot write legal LP file.  Constraint 'GCA_critical_req' has a body with nonlinear terms.",
     "output_type": "error",
     "traceback": [
      "\u001b[1;31m---------------------------------------------------------------------------\u001b[0m",
      "\u001b[1;31mValueError\u001b[0m                                Traceback (most recent call last)",
      "Input \u001b[1;32mIn [11]\u001b[0m, in \u001b[0;36m<cell line: 40>\u001b[1;34m()\u001b[0m\n\u001b[0;32m     37\u001b[0m model\u001b[38;5;241m.\u001b[39mGCC_ratio_req \u001b[38;5;241m=\u001b[39m Constraint(expr\u001b[38;5;241m=\u001b[39mmodel\u001b[38;5;241m.\u001b[39mx1 \u001b[38;5;241m/\u001b[39m model\u001b[38;5;241m.\u001b[39mx3 \u001b[38;5;241m>\u001b[39m\u001b[38;5;241m=\u001b[39m model\u001b[38;5;241m.\u001b[39mGCC_ratio_min)\n\u001b[0;32m     39\u001b[0m \u001b[38;5;66;03m# Solve the model\u001b[39;00m\n\u001b[1;32m---> 40\u001b[0m \u001b[43mSolverFactory\u001b[49m\u001b[43m(\u001b[49m\u001b[38;5;124;43m'\u001b[39;49m\u001b[38;5;124;43mglpk\u001b[39;49m\u001b[38;5;124;43m'\u001b[39;49m\u001b[43m)\u001b[49m\u001b[38;5;241;43m.\u001b[39;49m\u001b[43msolve\u001b[49m\u001b[43m(\u001b[49m\u001b[43mmodel\u001b[49m\u001b[43m)\u001b[49m\n\u001b[0;32m     42\u001b[0m \u001b[38;5;66;03m# Print the results\u001b[39;00m\n\u001b[0;32m     43\u001b[0m \u001b[38;5;28mprint\u001b[39m(\u001b[38;5;124m\"\u001b[39m\u001b[38;5;124mOptimal profit: \u001b[39m\u001b[38;5;124m\"\u001b[39m, model\u001b[38;5;241m.\u001b[39mobj())\n",
      "File \u001b[1;32m~\\AppData\\Roaming\\Python\\Python310\\site-packages\\pyomo\\opt\\base\\solvers.py:570\u001b[0m, in \u001b[0;36mOptSolver.solve\u001b[1;34m(self, *args, **kwds)\u001b[0m\n\u001b[0;32m    565\u001b[0m \u001b[38;5;28;01mtry\u001b[39;00m:\n\u001b[0;32m    566\u001b[0m \n\u001b[0;32m    567\u001b[0m     \u001b[38;5;66;03m# we're good to go.\u001b[39;00m\n\u001b[0;32m    568\u001b[0m     initial_time \u001b[38;5;241m=\u001b[39m time\u001b[38;5;241m.\u001b[39mtime()\n\u001b[1;32m--> 570\u001b[0m     \u001b[38;5;28mself\u001b[39m\u001b[38;5;241m.\u001b[39m_presolve(\u001b[38;5;241m*\u001b[39margs, \u001b[38;5;241m*\u001b[39m\u001b[38;5;241m*\u001b[39mkwds)\n\u001b[0;32m    572\u001b[0m     presolve_completion_time \u001b[38;5;241m=\u001b[39m time\u001b[38;5;241m.\u001b[39mtime()\n\u001b[0;32m    573\u001b[0m     \u001b[38;5;28;01mif\u001b[39;00m \u001b[38;5;28mself\u001b[39m\u001b[38;5;241m.\u001b[39m_report_timing:\n",
      "File \u001b[1;32m~\\AppData\\Roaming\\Python\\Python310\\site-packages\\pyomo\\opt\\solver\\shellcmd.py:209\u001b[0m, in \u001b[0;36mSystemCallSolver._presolve\u001b[1;34m(self, *args, **kwds)\u001b[0m\n\u001b[0;32m    206\u001b[0m \u001b[38;5;28mself\u001b[39m\u001b[38;5;241m.\u001b[39m_keepfiles \u001b[38;5;241m=\u001b[39m kwds\u001b[38;5;241m.\u001b[39mpop(\u001b[38;5;124m\"\u001b[39m\u001b[38;5;124mkeepfiles\u001b[39m\u001b[38;5;124m\"\u001b[39m, \u001b[38;5;28;01mFalse\u001b[39;00m)\n\u001b[0;32m    207\u001b[0m \u001b[38;5;28mself\u001b[39m\u001b[38;5;241m.\u001b[39m_define_signal_handlers \u001b[38;5;241m=\u001b[39m kwds\u001b[38;5;241m.\u001b[39mpop(\u001b[38;5;124m'\u001b[39m\u001b[38;5;124muse_signal_handling\u001b[39m\u001b[38;5;124m'\u001b[39m,\u001b[38;5;28;01mNone\u001b[39;00m)\n\u001b[1;32m--> 209\u001b[0m OptSolver\u001b[38;5;241m.\u001b[39m_presolve(\u001b[38;5;28mself\u001b[39m, \u001b[38;5;241m*\u001b[39margs, \u001b[38;5;241m*\u001b[39m\u001b[38;5;241m*\u001b[39mkwds)\n\u001b[0;32m    211\u001b[0m \u001b[38;5;66;03m#\u001b[39;00m\n\u001b[0;32m    212\u001b[0m \u001b[38;5;66;03m# Verify that the input problems exists\u001b[39;00m\n\u001b[0;32m    213\u001b[0m \u001b[38;5;66;03m#\u001b[39;00m\n\u001b[0;32m    214\u001b[0m \u001b[38;5;28;01mfor\u001b[39;00m filename \u001b[38;5;129;01min\u001b[39;00m \u001b[38;5;28mself\u001b[39m\u001b[38;5;241m.\u001b[39m_problem_files:\n",
      "File \u001b[1;32m~\\AppData\\Roaming\\Python\\Python310\\site-packages\\pyomo\\opt\\base\\solvers.py:667\u001b[0m, in \u001b[0;36mOptSolver._presolve\u001b[1;34m(self, *args, **kwds)\u001b[0m\n\u001b[0;32m    664\u001b[0m \u001b[38;5;28;01mif\u001b[39;00m \u001b[38;5;28mself\u001b[39m\u001b[38;5;241m.\u001b[39m_problem_format:\n\u001b[0;32m    665\u001b[0m     write_start_time \u001b[38;5;241m=\u001b[39m time\u001b[38;5;241m.\u001b[39mtime()\n\u001b[0;32m    666\u001b[0m     (\u001b[38;5;28mself\u001b[39m\u001b[38;5;241m.\u001b[39m_problem_files, \u001b[38;5;28mself\u001b[39m\u001b[38;5;241m.\u001b[39m_problem_format, \u001b[38;5;28mself\u001b[39m\u001b[38;5;241m.\u001b[39m_smap_id) \u001b[38;5;241m=\u001b[39m \\\n\u001b[1;32m--> 667\u001b[0m         \u001b[38;5;28mself\u001b[39m\u001b[38;5;241m.\u001b[39m_convert_problem(args,\n\u001b[0;32m    668\u001b[0m                               \u001b[38;5;28mself\u001b[39m\u001b[38;5;241m.\u001b[39m_problem_format,\n\u001b[0;32m    669\u001b[0m                               \u001b[38;5;28mself\u001b[39m\u001b[38;5;241m.\u001b[39m_valid_problem_formats,\n\u001b[0;32m    670\u001b[0m                               \u001b[38;5;241m*\u001b[39m\u001b[38;5;241m*\u001b[39mkwds)\n\u001b[0;32m    671\u001b[0m     total_time \u001b[38;5;241m=\u001b[39m time\u001b[38;5;241m.\u001b[39mtime() \u001b[38;5;241m-\u001b[39m write_start_time\n\u001b[0;32m    672\u001b[0m     \u001b[38;5;28;01mif\u001b[39;00m \u001b[38;5;28mself\u001b[39m\u001b[38;5;241m.\u001b[39m_report_timing:\n",
      "File \u001b[1;32m~\\AppData\\Roaming\\Python\\Python310\\site-packages\\pyomo\\opt\\base\\solvers.py:718\u001b[0m, in \u001b[0;36mOptSolver._convert_problem\u001b[1;34m(self, args, problem_format, valid_problem_formats, **kwds)\u001b[0m\n\u001b[0;32m    713\u001b[0m \u001b[38;5;28;01mdef\u001b[39;00m \u001b[38;5;21m_convert_problem\u001b[39m(\u001b[38;5;28mself\u001b[39m,\n\u001b[0;32m    714\u001b[0m                      args,\n\u001b[0;32m    715\u001b[0m                      problem_format,\n\u001b[0;32m    716\u001b[0m                      valid_problem_formats,\n\u001b[0;32m    717\u001b[0m                      \u001b[38;5;241m*\u001b[39m\u001b[38;5;241m*\u001b[39mkwds):\n\u001b[1;32m--> 718\u001b[0m     \u001b[38;5;28;01mreturn\u001b[39;00m convert_problem(args,\n\u001b[0;32m    719\u001b[0m                            problem_format,\n\u001b[0;32m    720\u001b[0m                            valid_problem_formats,\n\u001b[0;32m    721\u001b[0m                            \u001b[38;5;28mself\u001b[39m\u001b[38;5;241m.\u001b[39mhas_capability,\n\u001b[0;32m    722\u001b[0m                            \u001b[38;5;241m*\u001b[39m\u001b[38;5;241m*\u001b[39mkwds)\n",
      "File \u001b[1;32m~\\AppData\\Roaming\\Python\\Python310\\site-packages\\pyomo\\opt\\base\\convert.py:101\u001b[0m, in \u001b[0;36mconvert_problem\u001b[1;34m(args, target_problem_type, valid_problem_types, has_capability, **kwds)\u001b[0m\n\u001b[0;32m     99\u001b[0m                 tmpkw \u001b[38;5;241m=\u001b[39m kwds\n\u001b[0;32m    100\u001b[0m                 tmpkw[\u001b[38;5;124m'\u001b[39m\u001b[38;5;124mcapabilities\u001b[39m\u001b[38;5;124m'\u001b[39m] \u001b[38;5;241m=\u001b[39m has_capability\n\u001b[1;32m--> 101\u001b[0m                 problem_files, symbol_map \u001b[38;5;241m=\u001b[39m converter\u001b[38;5;241m.\u001b[39mapply(\u001b[38;5;241m*\u001b[39mtmp, \u001b[38;5;241m*\u001b[39m\u001b[38;5;241m*\u001b[39mtmpkw)\n\u001b[0;32m    102\u001b[0m                 \u001b[38;5;28;01mreturn\u001b[39;00m problem_files, ptype, symbol_map\n\u001b[0;32m    104\u001b[0m msg \u001b[38;5;241m=\u001b[39m \u001b[38;5;124m'\u001b[39m\u001b[38;5;124mNo conversion possible.  Source problem type: \u001b[39m\u001b[38;5;132;01m%s\u001b[39;00m\u001b[38;5;124m.  Valid target \u001b[39m\u001b[38;5;124m'\u001b[39m  \\\n\u001b[0;32m    105\u001b[0m       \u001b[38;5;124m'\u001b[39m\u001b[38;5;124mtypes: \u001b[39m\u001b[38;5;132;01m%s\u001b[39;00m\u001b[38;5;124m'\u001b[39m\n",
      "File \u001b[1;32m~\\AppData\\Roaming\\Python\\Python310\\site-packages\\pyomo\\solvers\\plugins\\converter\\model.py:78\u001b[0m, in \u001b[0;36mPyomoMIPConverter.apply\u001b[1;34m(self, *args, **kwds)\u001b[0m\n\u001b[0;32m     70\u001b[0m         symbol_map_id \u001b[38;5;241m=\u001b[39m instance\u001b[38;5;241m.\u001b[39mwrite(\n\u001b[0;32m     71\u001b[0m             problem_filename,\n\u001b[0;32m     72\u001b[0m             \u001b[38;5;28mformat\u001b[39m\u001b[38;5;241m=\u001b[39mProblemFormat\u001b[38;5;241m.\u001b[39mcpxlp,\n\u001b[0;32m     73\u001b[0m             _solver_capability\u001b[38;5;241m=\u001b[39mcapabilities,\n\u001b[0;32m     74\u001b[0m             _called_by_solver\u001b[38;5;241m=\u001b[39m\u001b[38;5;28;01mTrue\u001b[39;00m,\n\u001b[0;32m     75\u001b[0m             \u001b[38;5;241m*\u001b[39m\u001b[38;5;241m*\u001b[39mio_options)\n\u001b[0;32m     76\u001b[0m     \u001b[38;5;28;01melse\u001b[39;00m:\n\u001b[0;32m     77\u001b[0m         (problem_filename, symbol_map_id) \u001b[38;5;241m=\u001b[39m \\\n\u001b[1;32m---> 78\u001b[0m             \u001b[43minstance\u001b[49m\u001b[38;5;241;43m.\u001b[39;49m\u001b[43mwrite\u001b[49m\u001b[43m(\u001b[49m\n\u001b[0;32m     79\u001b[0m \u001b[43m                \u001b[49m\u001b[43mfilename\u001b[49m\u001b[38;5;241;43m=\u001b[39;49m\u001b[43mproblem_filename\u001b[49m\u001b[43m,\u001b[49m\n\u001b[0;32m     80\u001b[0m \u001b[43m                \u001b[49m\u001b[38;5;28;43mformat\u001b[39;49m\u001b[38;5;241;43m=\u001b[39;49m\u001b[43mProblemFormat\u001b[49m\u001b[38;5;241;43m.\u001b[39;49m\u001b[43mcpxlp\u001b[49m\u001b[43m,\u001b[49m\n\u001b[0;32m     81\u001b[0m \u001b[43m                \u001b[49m\u001b[43msolver_capability\u001b[49m\u001b[38;5;241;43m=\u001b[39;49m\u001b[43mcapabilities\u001b[49m\u001b[43m,\u001b[49m\n\u001b[0;32m     82\u001b[0m \u001b[43m                \u001b[49m\u001b[43mio_options\u001b[49m\u001b[38;5;241;43m=\u001b[39;49m\u001b[43mio_options\u001b[49m\u001b[43m)\u001b[49m\n\u001b[0;32m     83\u001b[0m     \u001b[38;5;28;01mreturn\u001b[39;00m (problem_filename,), symbol_map_id\n\u001b[0;32m     84\u001b[0m \u001b[38;5;28;01melse\u001b[39;00m:\n\u001b[0;32m     85\u001b[0m \n\u001b[0;32m     86\u001b[0m     \u001b[38;5;66;03m#\u001b[39;00m\n\u001b[1;32m   (...)\u001b[0m\n\u001b[0;32m     90\u001b[0m     \u001b[38;5;66;03m# arguments that can be sent to the writer?\u001b[39;00m\n\u001b[0;32m     91\u001b[0m     \u001b[38;5;66;03m#\u001b[39;00m\n",
      "File \u001b[1;32m~\\AppData\\Roaming\\Python\\Python310\\site-packages\\pyomo\\core\\base\\block.py:1976\u001b[0m, in \u001b[0;36m_BlockData.write\u001b[1;34m(self, filename, format, solver_capability, io_options)\u001b[0m\n\u001b[0;32m   1974\u001b[0m \u001b[38;5;28;01mif\u001b[39;00m solver_capability \u001b[38;5;129;01mis\u001b[39;00m \u001b[38;5;28;01mNone\u001b[39;00m:\n\u001b[0;32m   1975\u001b[0m     \u001b[38;5;28;01mdef\u001b[39;00m \u001b[38;5;21msolver_capability\u001b[39m(x): \u001b[38;5;28;01mreturn\u001b[39;00m \u001b[38;5;28;01mTrue\u001b[39;00m\n\u001b[1;32m-> 1976\u001b[0m (filename, smap) \u001b[38;5;241m=\u001b[39m \u001b[43mproblem_writer\u001b[49m\u001b[43m(\u001b[49m\u001b[38;5;28;43mself\u001b[39;49m\u001b[43m,\u001b[49m\n\u001b[0;32m   1977\u001b[0m \u001b[43m                                  \u001b[49m\u001b[43mfilename\u001b[49m\u001b[43m,\u001b[49m\n\u001b[0;32m   1978\u001b[0m \u001b[43m                                  \u001b[49m\u001b[43msolver_capability\u001b[49m\u001b[43m,\u001b[49m\n\u001b[0;32m   1979\u001b[0m \u001b[43m                                  \u001b[49m\u001b[43mio_options\u001b[49m\u001b[43m)\u001b[49m\n\u001b[0;32m   1980\u001b[0m smap_id \u001b[38;5;241m=\u001b[39m \u001b[38;5;28mid\u001b[39m(smap)\n\u001b[0;32m   1981\u001b[0m \u001b[38;5;28;01mif\u001b[39;00m \u001b[38;5;129;01mnot\u001b[39;00m \u001b[38;5;28mhasattr\u001b[39m(\u001b[38;5;28mself\u001b[39m, \u001b[38;5;124m'\u001b[39m\u001b[38;5;124msolutions\u001b[39m\u001b[38;5;124m'\u001b[39m):\n\u001b[0;32m   1982\u001b[0m     \u001b[38;5;66;03m# This is a bit of a hack.  The write() method was moved\u001b[39;00m\n\u001b[0;32m   1983\u001b[0m     \u001b[38;5;66;03m# here from PyomoModel to support the solution of arbitrary\u001b[39;00m\n\u001b[1;32m   (...)\u001b[0m\n\u001b[0;32m   1988\u001b[0m     \u001b[38;5;66;03m# dependency (we only need it here because we store the\u001b[39;00m\n\u001b[0;32m   1989\u001b[0m     \u001b[38;5;66;03m# SymbolMap returned by the writer in the solutions).\u001b[39;00m\n",
      "File \u001b[1;32mpyomo\\repn\\plugins\\cpxlp.pyx:158\u001b[0m, in \u001b[0;36mpyomo.repn.plugins.cpxlp.ProblemWriter_cpxlp.__call__\u001b[1;34m()\u001b[0m\n",
      "File \u001b[1;32mpyomo\\repn\\plugins\\cpxlp.pyx:159\u001b[0m, in \u001b[0;36mpyomo.repn.plugins.cpxlp.ProblemWriter_cpxlp.__call__\u001b[1;34m()\u001b[0m\n",
      "File \u001b[1;32mpyomo\\repn\\plugins\\cpxlp.pyx:160\u001b[0m, in \u001b[0;36mpyomo.repn.plugins.cpxlp.ProblemWriter_cpxlp.__call__\u001b[1;34m()\u001b[0m\n",
      "File \u001b[1;32mpyomo\\repn\\plugins\\cpxlp.pyx:637\u001b[0m, in \u001b[0;36mpyomo.repn.plugins.cpxlp.ProblemWriter_cpxlp._print_model_LP\u001b[1;34m()\u001b[0m\n",
      "\u001b[1;31mValueError\u001b[0m: Cannot write legal LP file.  Constraint 'GCA_critical_req' has a body with nonlinear terms."
     ]
    }
   ],
   "source": [
    "from pyomo.environ import *\n",
    "\n",
    "# Define the model\n",
    "model = ConcreteModel()\n",
    "\n",
    "# Define the parameters (sample data)\n",
    "model.C1_available = 10000\n",
    "model.C2_available = 15000\n",
    "model.GCA_demand = 6000\n",
    "model.GCB_demand = 7000\n",
    "model.GCC_demand = 9000\n",
    "model.C1_critical = 0.4\n",
    "model.C2_critical = 0.2\n",
    "model.GCA_critical_min = 0.3\n",
    "model.GCB_critical_max = 0.3\n",
    "model.GCC_ratio_min = 0.3\n",
    "model.GCA_profit = 120\n",
    "model.GCB_profit = 135\n",
    "model.GCC_profit = 155\n",
    "\n",
    "# Define the decision variables\n",
    "model.x1 = Var(within=NonNegativeReals) # quantity of GCA\n",
    "model.x2 = Var(within=NonNegativeReals) # quantity of GCB\n",
    "model.x3 = Var(within=NonNegativeReals) # quantity of GCC\n",
    "\n",
    "# Define the objective function\n",
    "model.obj = Objective(expr=model.GCA_profit * model.x1 + model.GCB_profit * model.x2 + model.GCC_profit * model.x3, sense=maximize)\n",
    "\n",
    "# Define the constraints\n",
    "model.C1_used = Constraint(expr=model.x1 + model.x2 + model.x3 <= model.C1_available)\n",
    "model.C2_used = Constraint(expr=model.x1 + model.x2 + model.x3 <= model.C2_available)\n",
    "model.GCA_demand_req = Constraint(expr=model.x1 >= model.GCA_demand)\n",
    "model.GCB_demand_req = Constraint(expr=model.x2 >= model.GCB_demand)\n",
    "model.GCC_demand_req = Constraint(expr=model.x3 >= model.GCC_demand)\n",
    "model.GCA_critical_req = Constraint(expr=(model.C1_critical * model.x1 + model.C2_critical * model.x2) / (model.x1 + model.x2) >= model.GCA_critical_min)\n",
    "model.GCB_critical_req = Constraint(expr=(model.C1_critical * model.x1 + model.C2_critical * model.x2) / (model.x1 + model.x2) <= model.GCB_critical_max)\n",
    "model.GCC_ratio_req = Constraint(expr=model.x1 / model.x3 >= model.GCC_ratio_min)\n",
    "\n",
    "# Solve the model\n",
    "SolverFactory('glpk').solve(model)\n",
    "\n",
    "# Print the results\n",
    "print(\"Optimal profit: \", model.obj())\n",
    "print(\"Quantity of GCA: \", model.x1())\n",
    "print(\"Quantity of GCB: \", model.x2())\n",
    "print(\"Quantity of GCC: \", model.x3())"
   ]
  },
  {
   "cell_type": "markdown",
   "id": "95f5c3a8",
   "metadata": {},
   "source": [
    "### Solution Correctness"
   ]
  },
  {
   "cell_type": "code",
   "execution_count": 5,
   "id": "01245691",
   "metadata": {},
   "outputs": [
    {
     "name": "stdout",
     "output_type": "stream",
     "text": [
      "WARNING: Loading a SolverResults object with a warning status into\n",
      "    model.name=\"unknown\";\n",
      "      - termination condition: infeasibleOrUnbounded\n",
      "      - message from solver: Problem proven to be infeasible or unbounded.\n",
      "ERROR: evaluating object as numeric value: x1\n",
      "        (object: <class 'pyomo.core.base.var.ScalarVar'>)\n",
      "    No value for uninitialized NumericValue object x1\n"
     ]
    },
    {
     "ename": "ValueError",
     "evalue": "No value for uninitialized NumericValue object x1",
     "output_type": "error",
     "traceback": [
      "\u001b[1;31m---------------------------------------------------------------------------\u001b[0m",
      "\u001b[1;31mValueError\u001b[0m                                Traceback (most recent call last)",
      "Input \u001b[1;32mIn [5]\u001b[0m, in \u001b[0;36m<cell line: 43>\u001b[1;34m()\u001b[0m\n\u001b[0;32m     40\u001b[0m SolverFactory(\u001b[38;5;124m'\u001b[39m\u001b[38;5;124mgurobi\u001b[39m\u001b[38;5;124m'\u001b[39m)\u001b[38;5;241m.\u001b[39msolve(model)\n\u001b[0;32m     42\u001b[0m \u001b[38;5;66;03m# Print the results\u001b[39;00m\n\u001b[1;32m---> 43\u001b[0m \u001b[38;5;28mprint\u001b[39m(\u001b[38;5;124m\"\u001b[39m\u001b[38;5;124mOptimal profit: \u001b[39m\u001b[38;5;124m\"\u001b[39m, \u001b[43mmodel\u001b[49m\u001b[38;5;241;43m.\u001b[39;49m\u001b[43mobj\u001b[49m\u001b[43m(\u001b[49m\u001b[43m)\u001b[49m)\n\u001b[0;32m     44\u001b[0m \u001b[38;5;28mprint\u001b[39m(\u001b[38;5;124m\"\u001b[39m\u001b[38;5;124mQuantity of GCA: \u001b[39m\u001b[38;5;124m\"\u001b[39m, model\u001b[38;5;241m.\u001b[39mx1())\n\u001b[0;32m     45\u001b[0m \u001b[38;5;28mprint\u001b[39m(\u001b[38;5;124m\"\u001b[39m\u001b[38;5;124mQuantity of GCB: \u001b[39m\u001b[38;5;124m\"\u001b[39m, model\u001b[38;5;241m.\u001b[39mx2())\n",
      "File \u001b[1;32m~\\AppData\\Roaming\\Python\\Python310\\site-packages\\pyomo\\core\\base\\expression.py:56\u001b[0m, in \u001b[0;36m_ExpressionData.__call__\u001b[1;34m(self, exception)\u001b[0m\n\u001b[0;32m     54\u001b[0m \u001b[38;5;28;01mif\u001b[39;00m \u001b[38;5;28mself\u001b[39m\u001b[38;5;241m.\u001b[39mexpr \u001b[38;5;129;01mis\u001b[39;00m \u001b[38;5;28;01mNone\u001b[39;00m:\n\u001b[0;32m     55\u001b[0m     \u001b[38;5;28;01mreturn\u001b[39;00m \u001b[38;5;28;01mNone\u001b[39;00m\n\u001b[1;32m---> 56\u001b[0m \u001b[38;5;28;01mreturn\u001b[39;00m \u001b[38;5;28;43mself\u001b[39;49m\u001b[38;5;241;43m.\u001b[39;49m\u001b[43mexpr\u001b[49m\u001b[43m(\u001b[49m\u001b[43mexception\u001b[49m\u001b[38;5;241;43m=\u001b[39;49m\u001b[43mexception\u001b[49m\u001b[43m)\u001b[49m\n",
      "File \u001b[1;32mpyomo\\core\\expr\\numeric_expr.pyx:210\u001b[0m, in \u001b[0;36mpyomo.core.expr.numeric_expr.ExpressionBase.__call__\u001b[1;34m()\u001b[0m\n",
      "File \u001b[1;32m~\\AppData\\Roaming\\Python\\Python310\\site-packages\\pyomo\\core\\expr\\visitor.py:1206\u001b[0m, in \u001b[0;36mevaluate_expression\u001b[1;34m(exp, exception, constant)\u001b[0m\n\u001b[0;32m   1203\u001b[0m         clear_active \u001b[38;5;241m=\u001b[39m \u001b[38;5;28;01mTrue\u001b[39;00m\n\u001b[0;32m   1205\u001b[0m \u001b[38;5;28;01mtry\u001b[39;00m:\n\u001b[1;32m-> 1206\u001b[0m     \u001b[38;5;28;01mreturn\u001b[39;00m \u001b[43mvisitor\u001b[49m\u001b[38;5;241;43m.\u001b[39;49m\u001b[43mdfs_postorder_stack\u001b[49m\u001b[43m(\u001b[49m\u001b[43mexp\u001b[49m\u001b[43m)\u001b[49m\n\u001b[0;32m   1207\u001b[0m \u001b[38;5;28;01mexcept\u001b[39;00m ( TemplateExpressionError, \u001b[38;5;167;01mValueError\u001b[39;00m, \u001b[38;5;167;01mTypeError\u001b[39;00m,\n\u001b[0;32m   1208\u001b[0m          NonConstantExpressionError, FixedExpressionError ):\n\u001b[0;32m   1209\u001b[0m     \u001b[38;5;66;03m# Errors that we want to be able to suppress:\u001b[39;00m\n\u001b[1;32m   (...)\u001b[0m\n\u001b[0;32m   1217\u001b[0m     \u001b[38;5;66;03m#   TypeError: This can be raised in Python3 when evaluating a\u001b[39;00m\n\u001b[0;32m   1218\u001b[0m     \u001b[38;5;66;03m#      operation returns a complex number (e.g., sqrt(-1))\u001b[39;00m\n\u001b[0;32m   1219\u001b[0m     \u001b[38;5;28;01mif\u001b[39;00m exception:\n",
      "File \u001b[1;32m~\\AppData\\Roaming\\Python\\Python310\\site-packages\\pyomo\\core\\expr\\visitor.py:880\u001b[0m, in \u001b[0;36mExpressionValueVisitor.dfs_postorder_stack\u001b[1;34m(self, node)\u001b[0m\n\u001b[0;32m    878\u001b[0m _sub \u001b[38;5;241m=\u001b[39m _argList[_idx]\n\u001b[0;32m    879\u001b[0m _idx \u001b[38;5;241m+\u001b[39m\u001b[38;5;241m=\u001b[39m \u001b[38;5;241m1\u001b[39m\n\u001b[1;32m--> 880\u001b[0m flag, value \u001b[38;5;241m=\u001b[39m \u001b[38;5;28;43mself\u001b[39;49m\u001b[38;5;241;43m.\u001b[39;49m\u001b[43mvisiting_potential_leaf\u001b[49m\u001b[43m(\u001b[49m\u001b[43m_sub\u001b[49m\u001b[43m)\u001b[49m\n\u001b[0;32m    881\u001b[0m \u001b[38;5;28;01mif\u001b[39;00m flag:\n\u001b[0;32m    882\u001b[0m     _result\u001b[38;5;241m.\u001b[39mappend( value )\n",
      "File \u001b[1;32m~\\AppData\\Roaming\\Python\\Python310\\site-packages\\pyomo\\core\\expr\\visitor.py:1108\u001b[0m, in \u001b[0;36m_EvaluationVisitor.visiting_potential_leaf\u001b[1;34m(self, node)\u001b[0m\n\u001b[0;32m   1105\u001b[0m     \u001b[38;5;28;01mreturn\u001b[39;00m \u001b[38;5;28;01mFalse\u001b[39;00m, \u001b[38;5;28;01mNone\u001b[39;00m\n\u001b[0;32m   1107\u001b[0m \u001b[38;5;28;01mif\u001b[39;00m node\u001b[38;5;241m.\u001b[39mis_numeric_type():\n\u001b[1;32m-> 1108\u001b[0m     \u001b[38;5;28;01mreturn\u001b[39;00m \u001b[38;5;28;01mTrue\u001b[39;00m, \u001b[43mvalue\u001b[49m\u001b[43m(\u001b[49m\u001b[43mnode\u001b[49m\u001b[43m,\u001b[49m\u001b[43m \u001b[49m\u001b[43mexception\u001b[49m\u001b[38;5;241;43m=\u001b[39;49m\u001b[38;5;28;43mself\u001b[39;49m\u001b[38;5;241;43m.\u001b[39;49m\u001b[43mexception\u001b[49m\u001b[43m)\u001b[49m\n\u001b[0;32m   1109\u001b[0m \u001b[38;5;28;01melif\u001b[39;00m node\u001b[38;5;241m.\u001b[39mis_logical_type():\n\u001b[0;32m   1110\u001b[0m     \u001b[38;5;28;01mreturn\u001b[39;00m \u001b[38;5;28;01mTrue\u001b[39;00m, value(node, exception\u001b[38;5;241m=\u001b[39m\u001b[38;5;28mself\u001b[39m\u001b[38;5;241m.\u001b[39mexception)\n",
      "File \u001b[1;32mpyomo\\core\\expr\\numvalue.pyx:156\u001b[0m, in \u001b[0;36mpyomo.core.expr.numvalue.value\u001b[1;34m()\u001b[0m\n",
      "File \u001b[1;32mpyomo\\core\\expr\\numvalue.pyx:143\u001b[0m, in \u001b[0;36mpyomo.core.expr.numvalue.value\u001b[1;34m()\u001b[0m\n",
      "\u001b[1;31mValueError\u001b[0m: No value for uninitialized NumericValue object x1"
     ]
    }
   ],
   "source": [
    "from pyomo.environ import *\n",
    "\n",
    "# Define the model\n",
    "model = ConcreteModel()\n",
    "\n",
    "# Define the parameters (sample data)\n",
    "model.C1_available = 10000\n",
    "model.C2_available = 15000\n",
    "model.GCA_demand = 6000\n",
    "model.GCB_demand = 7000\n",
    "model.GCC_demand = 9000\n",
    "model.C1_critical = 0.4\n",
    "model.C2_critical = 0.2\n",
    "model.GCA_critical_min = 0.3\n",
    "model.GCB_critical_max = 0.3\n",
    "model.GCC_ratio_min = 0.3\n",
    "model.GCA_profit = 120\n",
    "model.GCB_profit = 135\n",
    "model.GCC_profit = 155\n",
    "\n",
    "# Define the decision variables\n",
    "model.x1 = Var(within=NonNegativeReals) # quantity of GCA\n",
    "model.x2 = Var(within=NonNegativeReals) # quantity of GCB\n",
    "model.x3 = Var(within=NonNegativeReals) # quantity of GCC\n",
    "\n",
    "# Define the objective function\n",
    "model.obj = Objective(expr=model.GCA_profit * model.x1 + model.GCB_profit * model.x2 + model.GCC_profit * model.x3, sense=maximize)\n",
    "\n",
    "# Define the constraints\n",
    "model.C1_used = Constraint(expr=model.x1 + model.x2 + model.x3 <= model.C1_available)\n",
    "model.C2_used = Constraint(expr=model.x1 + model.x2 + model.x3 <= model.C2_available)\n",
    "model.GCA_demand_req = Constraint(expr=model.x1 >= model.GCA_demand)\n",
    "model.GCB_demand_req = Constraint(expr=model.x2 >= model.GCB_demand)\n",
    "model.GCC_demand_req = Constraint(expr=model.x3 >= model.GCC_demand)\n",
    "model.GCA_critical_req = Constraint(expr=(model.C1_critical * model.x1 + model.C2_critical * model.x2)  >= model.GCA_critical_min * (model.x1 + model.x2))\n",
    "model.GCB_critical_req = Constraint(expr=(model.C1_critical * model.x1 + model.C2_critical * model.x2)  <= model.GCB_critical_max * (model.x1 + model.x2))\n",
    "model.GCC_ratio_req = Constraint(expr=model.x1  >= model.GCC_ratio_min * model.x3)\n",
    "\n",
    "# Solve the model\n",
    "SolverFactory('gurobi').solve(model)\n",
    "\n",
    "# Print the results\n",
    "print(\"Optimal profit: \", model.obj())\n",
    "print(\"Quantity of GCA: \", model.x1())\n",
    "print(\"Quantity of GCB: \", model.x2())\n",
    "print(\"Quantity of GCC: \", model.x3())"
   ]
  }
 ],
 "metadata": {
  "kernelspec": {
   "display_name": "Python 3 (ipykernel)",
   "language": "python",
   "name": "python3"
  },
  "language_info": {
   "codemirror_mode": {
    "name": "ipython",
    "version": 3
   },
   "file_extension": ".py",
   "mimetype": "text/x-python",
   "name": "python",
   "nbconvert_exporter": "python",
   "pygments_lexer": "ipython3",
   "version": "3.10.4"
  }
 },
 "nbformat": 4,
 "nbformat_minor": 5
}
