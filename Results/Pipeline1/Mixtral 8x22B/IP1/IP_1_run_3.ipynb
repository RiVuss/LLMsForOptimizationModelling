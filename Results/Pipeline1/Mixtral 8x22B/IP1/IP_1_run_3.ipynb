{
 "cells": [
  {
   "cell_type": "code",
   "execution_count": 1,
   "id": "e5c2c174",
   "metadata": {},
   "outputs": [],
   "source": [
    "import os\n",
    "from mistralai.client import MistralClient\n",
    "from mistralai.models.chat_completion import ChatMessage\n",
    "from IPython.display import display, Markdown, Latex\n",
    "from datetime import datetime"
   ]
  },
  {
   "cell_type": "code",
   "execution_count": 2,
   "id": "b0c91a62",
   "metadata": {},
   "outputs": [
    {
     "name": "stdout",
     "output_type": "stream",
     "text": [
      "Time of execution: 2024-05-17 16:36:21.573340\n"
     ]
    }
   ],
   "source": [
    "API_KEY = os.environ['MISTRAL_API_KEY']\n",
    "\n",
    "MODEL_ID = 'open-mixtral-8x22b'\n",
    "MODEL_SEED = 3\n",
    "MODEL_TEMPERATURE = 0.7\n",
    "\n",
    "file_system_prompt_1 = open(\"../../system_prompt_1.txt\", \"r\")\n",
    "file_system_prompt_2 = open(\"../../system_prompt_2.txt\", \"r\")\n",
    "SYSTEM_PROMPT_1 = file_system_prompt_1.read()\n",
    "SYSTEM_PROMPT_2 = file_system_prompt_2.read()\n",
    "file_system_prompt_1.close()\n",
    "file_system_prompt_2.close()\n",
    "\n",
    "FILE_PATH_PROBLEM = '../../../../Datasets/IP_1_Radiotherapy-Treatment/'\n",
    "assert(FILE_PATH_PROBLEM != '../../../../Datasets/')\n",
    "file_problem_description = open(FILE_PATH_PROBLEM + 'ProblemDescription.txt', 'r')\n",
    "PROBLEM_DESCRIPTION = file_problem_description.read()\n",
    "file_problem_description.close()\n",
    "\n",
    "\n",
    "client = MistralClient(api_key=API_KEY)\n",
    "\n",
    "print(f'Time of execution: {datetime.now()}')"
   ]
  },
  {
   "cell_type": "markdown",
   "id": "3e540824",
   "metadata": {},
   "source": [
    "## Step 1 - Generate Mathematical Formulation "
   ]
  },
  {
   "cell_type": "code",
   "execution_count": 3,
   "id": "174c127b",
   "metadata": {},
   "outputs": [],
   "source": [
    "messages_1 = [\n",
    "    ChatMessage(role=\"system\", content=SYSTEM_PROMPT_1),\n",
    "    ChatMessage(role=\"user\", content=PROBLEM_DESCRIPTION)\n",
    "]"
   ]
  },
  {
   "cell_type": "code",
   "execution_count": 4,
   "id": "d43340f3",
   "metadata": {},
   "outputs": [],
   "source": [
    "response_1 = client.chat(\n",
    "    model=MODEL_ID,\n",
    "    messages=messages_1,\n",
    "    random_seed=MODEL_SEED,\n",
    "    temperature=MODEL_TEMPERATURE \n",
    ")\n",
    "\n",
    "response_1_text = response_1.choices[0].message.content"
   ]
  },
  {
   "cell_type": "code",
   "execution_count": 5,
   "id": "03616e62",
   "metadata": {},
   "outputs": [
    {
     "data": {
      "text/markdown": [
       "Parameters:\n",
       "- \\( n \\) is the number of patients, \\( n = 17 \\)\n",
       "- \\( C \\) is the total maximal capacity of proton fractions, \\( C = 100 \\)\n",
       "- \\( BED_{i}(p, 15-p) \\) is the Biological Equivalent Dose score for patient \\( i \\) when using \\( p \\) proton fractions and \\( 15-p \\) photon fractions.\n",
       "\n",
       "Decision Variables:\n",
       "- \\( x_{ip} \\in \\{0, 1\\} \\) is a binary decision variable that equals 1 if patient \\( i \\) receives \\( p \\) proton fractions and 0 otherwise.\n",
       "\n",
       "Objective Function:\n",
       "Maximize the total BED scores for all patients:\n",
       "\\[ \\text{maximize} \\quad \\sum_{i=1}^{n} \\sum_{p=0}^{15} BED_{i}(p, 15-p) \\cdot x_{ip} \\]\n",
       "\n",
       "Constraints:\n",
       "1. Each patient should receive exactly 15 fractions:\n",
       "\\[ \\sum_{p=0}^{15} x_{ip} = 1 \\quad \\text{for} \\quad i = 1, 2, \\dots, n \\]\n",
       "\n",
       "2. The total number of proton fractions does not exceed the maximum capacity:\n",
       "\\[ \\sum_{i=1}^{n} \\sum_{p=0}^{15} p \\cdot x_{ip} \\leq C \\]\n",
       "\n",
       "In summary, the integer linear optimization model to solve the problem is:\n",
       "\n",
       "\\[\n",
       "\\begin{align*}\n",
       "\\text{maximize} \\quad & \\sum_{i=1}^{n} \\sum_{p=0}^{15} BED_{i}(p, 15-p) \\cdot x_{ip} \\\\\n",
       "\\text{subject to} \\quad & \\sum_{p=0}^{15} x_{ip} = 1 \\quad \\text{for} \\quad i = 1, 2, \\dots, n \\\\\n",
       "& \\sum_{i=1}^{n} \\sum_{p=0}^{15} p \\cdot x_{ip} \\leq C \\\\\n",
       "& x_{ip} \\in \\{0, 1\\}\n",
       "\\end{align*}\n",
       "\\]"
      ],
      "text/plain": [
       "<IPython.core.display.Markdown object>"
      ]
     },
     "execution_count": 5,
     "metadata": {},
     "output_type": "execute_result"
    }
   ],
   "source": [
    "Markdown(response_1_text)"
   ]
  },
  {
   "cell_type": "code",
   "execution_count": 6,
   "id": "b6a33171",
   "metadata": {},
   "outputs": [
    {
     "name": "stdout",
     "output_type": "stream",
     "text": [
      "Parameters:\n",
      "- \\( n \\) is the number of patients, \\( n = 17 \\)\n",
      "- \\( C \\) is the total maximal capacity of proton fractions, \\( C = 100 \\)\n",
      "- \\( BED_{i}(p, 15-p) \\) is the Biological Equivalent Dose score for patient \\( i \\) when using \\( p \\) proton fractions and \\( 15-p \\) photon fractions.\n",
      "\n",
      "Decision Variables:\n",
      "- \\( x_{ip} \\in \\{0, 1\\} \\) is a binary decision variable that equals 1 if patient \\( i \\) receives \\( p \\) proton fractions and 0 otherwise.\n",
      "\n",
      "Objective Function:\n",
      "Maximize the total BED scores for all patients:\n",
      "\\[ \\text{maximize} \\quad \\sum_{i=1}^{n} \\sum_{p=0}^{15} BED_{i}(p, 15-p) \\cdot x_{ip} \\]\n",
      "\n",
      "Constraints:\n",
      "1. Each patient should receive exactly 15 fractions:\n",
      "\\[ \\sum_{p=0}^{15} x_{ip} = 1 \\quad \\text{for} \\quad i = 1, 2, \\dots, n \\]\n",
      "\n",
      "2. The total number of proton fractions does not exceed the maximum capacity:\n",
      "\\[ \\sum_{i=1}^{n} \\sum_{p=0}^{15} p \\cdot x_{ip} \\leq C \\]\n",
      "\n",
      "In summary, the integer linear optimization model to solve the problem is:\n",
      "\n",
      "\\[\n",
      "\\begin{align*}\n",
      "\\text{maximize} \\quad & \\sum_{i=1}^{n} \\sum_{p=0}^{15} BED_{i}(p, 15-p) \\cdot x_{ip} \\\\\n",
      "\\text{subject to} \\quad & \\sum_{p=0}^{15} x_{ip} = 1 \\quad \\text{for} \\quad i = 1, 2, \\dots, n \\\\\n",
      "& \\sum_{i=1}^{n} \\sum_{p=0}^{15} p \\cdot x_{ip} \\leq C \\\\\n",
      "& x_{ip} \\in \\{0, 1\\}\n",
      "\\end{align*}\n",
      "\\]\n"
     ]
    }
   ],
   "source": [
    "print(response_1_text)"
   ]
  },
  {
   "cell_type": "markdown",
   "id": "27b5f89a",
   "metadata": {},
   "source": [
    "## Step 2 - Generate the Pyomo Code"
   ]
  },
  {
   "cell_type": "code",
   "execution_count": 7,
   "id": "a4c3312f",
   "metadata": {},
   "outputs": [],
   "source": [
    "messages_2 = [\n",
    "    ChatMessage(role=\"system\", content=SYSTEM_PROMPT_2),\n",
    "    ChatMessage(role=\"user\", content=response_1_text)\n",
    "]"
   ]
  },
  {
   "cell_type": "code",
   "execution_count": 8,
   "id": "4212d99d",
   "metadata": {},
   "outputs": [],
   "source": [
    "response_2 = client.chat(\n",
    "    model=MODEL_ID,\n",
    "    messages=messages_2,\n",
    "    random_seed=MODEL_SEED,\n",
    "    temperature=MODEL_TEMPERATURE\n",
    ")\n",
    "\n",
    "response_2_text = response_2.choices[0].message.content"
   ]
  },
  {
   "cell_type": "code",
   "execution_count": 9,
   "id": "c168a60b",
   "metadata": {},
   "outputs": [
    {
     "data": {
      "text/markdown": [
       "To solve the given optimization problem using Pyomo, you can use the following code. Note that I will use a sample data for the BED scores, as it was not provided in the problem description.\n",
       "\n",
       "```python\n",
       "import pyomo.environ as pyo\n",
       "\n",
       "# Sample data for BED scores (replace with actual data)\n",
       "n = 17\n",
       "C = 100\n",
       "BED = {i: [(p, (i+1)*(p+1)) for p in range(16)] for i in range(1, n+1)}\n",
       "\n",
       "# Create the Pyomo model\n",
       "model = pyo.ConcreteModel()\n",
       "\n",
       "# Define the decision variables\n",
       "model.x = pyo.Var(range(1, n+1), range(16), domain=pyo.Binary)\n",
       "\n",
       "# Define the objective function\n",
       "def obj_rule(model):\n",
       "    return sum(BED[i][p-1][1] * model.x[i, p-1] for i in range(1, n+1) for p in range(1, 16))\n",
       "model.obj = pyo.Objective(rule=obj_rule, sense=pyo.maximize)\n",
       "\n",
       "# Define the constraints\n",
       "def constraint1_rule(model, i):\n",
       "    return sum(model.x[i, p-1] for p in range(1, 16)) == 1\n",
       "model.constraint1 = pyo.Constraint(range(1, n+1), rule=constraint1_rule)\n",
       "\n",
       "def constraint2_rule(model):\n",
       "    return sum(p * model.x[i, p-1] for i in range(1, n+1) for p in range(1, 16)) <= C\n",
       "model.constraint2 = pyo.Constraint(rule=constraint2_rule)\n",
       "\n",
       "# Solve the model\n",
       "solver = pyo.SolverFactory('glpk')\n",
       "solver.solve(model)\n",
       "\n",
       "# Print the results\n",
       "for i in range(1, n+1):\n",
       "    for p in range(1, 16):\n",
       "        if pyo.value(model.x[i, p-1]) > 0.5:\n",
       "            print(f\"Patient {i} receives {p} proton fractions.\")\n",
       "print(f\"Total BED score: {pyo.value(model.obj)}\")\n",
       "```\n",
       "\n",
       "This code creates a Pyomo model with the given objective function and constraints, and then solves the model using the GLPK solver. Replace the sample BED scores with the actual data to get the correct results."
      ],
      "text/plain": [
       "<IPython.core.display.Markdown object>"
      ]
     },
     "execution_count": 9,
     "metadata": {},
     "output_type": "execute_result"
    }
   ],
   "source": [
    "Markdown(response_2_text)"
   ]
  },
  {
   "cell_type": "code",
   "execution_count": 10,
   "id": "a380c180",
   "metadata": {},
   "outputs": [
    {
     "name": "stdout",
     "output_type": "stream",
     "text": [
      "To solve the given optimization problem using Pyomo, you can use the following code. Note that I will use a sample data for the BED scores, as it was not provided in the problem description.\n",
      "\n",
      "```python\n",
      "import pyomo.environ as pyo\n",
      "\n",
      "# Sample data for BED scores (replace with actual data)\n",
      "n = 17\n",
      "C = 100\n",
      "BED = {i: [(p, (i+1)*(p+1)) for p in range(16)] for i in range(1, n+1)}\n",
      "\n",
      "# Create the Pyomo model\n",
      "model = pyo.ConcreteModel()\n",
      "\n",
      "# Define the decision variables\n",
      "model.x = pyo.Var(range(1, n+1), range(16), domain=pyo.Binary)\n",
      "\n",
      "# Define the objective function\n",
      "def obj_rule(model):\n",
      "    return sum(BED[i][p-1][1] * model.x[i, p-1] for i in range(1, n+1) for p in range(1, 16))\n",
      "model.obj = pyo.Objective(rule=obj_rule, sense=pyo.maximize)\n",
      "\n",
      "# Define the constraints\n",
      "def constraint1_rule(model, i):\n",
      "    return sum(model.x[i, p-1] for p in range(1, 16)) == 1\n",
      "model.constraint1 = pyo.Constraint(range(1, n+1), rule=constraint1_rule)\n",
      "\n",
      "def constraint2_rule(model):\n",
      "    return sum(p * model.x[i, p-1] for i in range(1, n+1) for p in range(1, 16)) <= C\n",
      "model.constraint2 = pyo.Constraint(rule=constraint2_rule)\n",
      "\n",
      "# Solve the model\n",
      "solver = pyo.SolverFactory('glpk')\n",
      "solver.solve(model)\n",
      "\n",
      "# Print the results\n",
      "for i in range(1, n+1):\n",
      "    for p in range(1, 16):\n",
      "        if pyo.value(model.x[i, p-1]) > 0.5:\n",
      "            print(f\"Patient {i} receives {p} proton fractions.\")\n",
      "print(f\"Total BED score: {pyo.value(model.obj)}\")\n",
      "```\n",
      "\n",
      "This code creates a Pyomo model with the given objective function and constraints, and then solves the model using the GLPK solver. Replace the sample BED scores with the actual data to get the correct results.\n"
     ]
    }
   ],
   "source": [
    "print(response_2_text)"
   ]
  },
  {
   "cell_type": "markdown",
   "id": "879cc7ae",
   "metadata": {},
   "source": [
    "### Code Executability"
   ]
  },
  {
   "cell_type": "code",
   "execution_count": 11,
   "id": "f1d9a625",
   "metadata": {},
   "outputs": [
    {
     "name": "stdout",
     "output_type": "stream",
     "text": [
      "Patient 1 receives 1 proton fractions.\n",
      "Patient 2 receives 1 proton fractions.\n",
      "Patient 3 receives 1 proton fractions.\n",
      "Patient 4 receives 1 proton fractions.\n",
      "Patient 5 receives 1 proton fractions.\n",
      "Patient 6 receives 1 proton fractions.\n",
      "Patient 7 receives 1 proton fractions.\n",
      "Patient 8 receives 1 proton fractions.\n",
      "Patient 9 receives 1 proton fractions.\n",
      "Patient 10 receives 1 proton fractions.\n",
      "Patient 11 receives 1 proton fractions.\n",
      "Patient 12 receives 14 proton fractions.\n",
      "Patient 13 receives 15 proton fractions.\n",
      "Patient 14 receives 15 proton fractions.\n",
      "Patient 15 receives 15 proton fractions.\n",
      "Patient 16 receives 15 proton fractions.\n",
      "Patient 17 receives 15 proton fractions.\n",
      "Total BED score: 1459.0\n"
     ]
    }
   ],
   "source": [
    "import pyomo.environ as pyo\n",
    "\n",
    "# Sample data for BED scores (replace with actual data)\n",
    "n = 17\n",
    "C = 100\n",
    "BED = {i: [(p, (i+1)*(p+1)) for p in range(16)] for i in range(1, n+1)}\n",
    "\n",
    "# Create the Pyomo model\n",
    "model = pyo.ConcreteModel()\n",
    "\n",
    "# Define the decision variables\n",
    "model.x = pyo.Var(range(1, n+1), range(16), domain=pyo.Binary)\n",
    "\n",
    "# Define the objective function\n",
    "def obj_rule(model):\n",
    "    return sum(BED[i][p-1][1] * model.x[i, p-1] for i in range(1, n+1) for p in range(1, 16))\n",
    "model.obj = pyo.Objective(rule=obj_rule, sense=pyo.maximize)\n",
    "\n",
    "# Define the constraints\n",
    "def constraint1_rule(model, i):\n",
    "    return sum(model.x[i, p-1] for p in range(1, 16)) == 1\n",
    "model.constraint1 = pyo.Constraint(range(1, n+1), rule=constraint1_rule)\n",
    "\n",
    "def constraint2_rule(model):\n",
    "    return sum(p * model.x[i, p-1] for i in range(1, n+1) for p in range(1, 16)) <= C\n",
    "model.constraint2 = pyo.Constraint(rule=constraint2_rule)\n",
    "\n",
    "# Solve the model\n",
    "solver = pyo.SolverFactory('glpk')\n",
    "solver.solve(model)\n",
    "\n",
    "# Print the results\n",
    "for i in range(1, n+1):\n",
    "    for p in range(1, 16):\n",
    "        if pyo.value(model.x[i, p-1]) > 0.5:\n",
    "            print(f\"Patient {i} receives {p} proton fractions.\")\n",
    "print(f\"Total BED score: {pyo.value(model.obj)}\")"
   ]
  },
  {
   "cell_type": "markdown",
   "id": "95f5c3a8",
   "metadata": {},
   "source": [
    "### Solution Correctness"
   ]
  },
  {
   "cell_type": "code",
   "execution_count": 25,
   "id": "01245691",
   "metadata": {},
   "outputs": [
    {
     "name": "stdout",
     "output_type": "stream",
     "text": [
      "Patient 1 receives 1 proton fractions.\n",
      "Patient 2 receives 9 proton fractions.\n",
      "Patient 3 receives 4 proton fractions.\n",
      "Patient 5 receives 6 proton fractions.\n",
      "Patient 6 receives 1 proton fractions.\n",
      "Patient 7 receives 5 proton fractions.\n",
      "Patient 8 receives 11 proton fractions.\n",
      "Patient 9 receives 5 proton fractions.\n",
      "Patient 10 receives 6 proton fractions.\n",
      "Patient 11 receives 7 proton fractions.\n",
      "Patient 12 receives 1 proton fractions.\n",
      "Patient 13 receives 9 proton fractions.\n",
      "Patient 14 receives 1 proton fractions.\n",
      "Patient 15 receives 11 proton fractions.\n",
      "Patient 16 receives 11 proton fractions.\n",
      "Patient 17 receives 13 proton fractions.\n",
      "Total BED score: 8.239999999999998\n"
     ]
    }
   ],
   "source": [
    "import pyomo.environ as pyo\n",
    "\n",
    "# Sample data for BED scores (replace with actual data)\n",
    "n = 17\n",
    "C = 100\n",
    "BED = {}\n",
    "with open(FILE_PATH_PROBLEM + 'ProblemData.csv', 'r') as f:\n",
    "    for i, line in enumerate(f):\n",
    "        BED[i+1] = [float(x) for x in line.strip().split(',')]\n",
    "\n",
    "# Create the Pyomo model\n",
    "model = pyo.ConcreteModel()\n",
    "\n",
    "# Define the decision variables\n",
    "model.x = pyo.Var(range(1, n+1), range(16), domain=pyo.Binary)\n",
    "\n",
    "# Define the objective function\n",
    "def obj_rule(model):\n",
    "    return sum(BED[i][p-1] * model.x[i, p-1] for i in range(1, n+1) for p in range(1, 16))\n",
    "model.obj = pyo.Objective(rule=obj_rule, sense=pyo.maximize)\n",
    "\n",
    "# Define the constraints\n",
    "def constraint1_rule(model, i):\n",
    "    return sum(model.x[i, p-1] for p in range(1, 16)) == 1\n",
    "model.constraint1 = pyo.Constraint(range(1, n+1), rule=constraint1_rule)\n",
    "\n",
    "def constraint2_rule(model):\n",
    "    return sum(p * model.x[i, p-1] for i in range(1, n+1) for p in range(1, 16)) <= C\n",
    "model.constraint2 = pyo.Constraint(rule=constraint2_rule)\n",
    "\n",
    "# Solve the model\n",
    "solver = pyo.SolverFactory('glpk')\n",
    "solver.solve(model)\n",
    "\n",
    "# Print the results\n",
    "for i in range(1, n+1):\n",
    "    for p in range(1, 16):\n",
    "        if pyo.value(model.x[i, p-1]) > 0.5:\n",
    "            print(f\"Patient {i} receives {p} proton fractions.\")\n",
    "print(f\"Total BED score: {pyo.value(model.obj)}\")"
   ]
  }
 ],
 "metadata": {
  "kernelspec": {
   "display_name": "Python 3 (ipykernel)",
   "language": "python",
   "name": "python3"
  },
  "language_info": {
   "codemirror_mode": {
    "name": "ipython",
    "version": 3
   },
   "file_extension": ".py",
   "mimetype": "text/x-python",
   "name": "python",
   "nbconvert_exporter": "python",
   "pygments_lexer": "ipython3",
   "version": "3.10.4"
  }
 },
 "nbformat": 4,
 "nbformat_minor": 5
}
