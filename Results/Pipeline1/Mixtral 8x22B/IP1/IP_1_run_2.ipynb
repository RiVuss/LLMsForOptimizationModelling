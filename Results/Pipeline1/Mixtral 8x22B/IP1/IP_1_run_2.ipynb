{
 "cells": [
  {
   "cell_type": "code",
   "execution_count": 32,
   "id": "e5c2c174",
   "metadata": {},
   "outputs": [],
   "source": [
    "import os\n",
    "from mistralai.client import MistralClient\n",
    "from mistralai.models.chat_completion import ChatMessage\n",
    "from IPython.display import display, Markdown, Latex\n",
    "from datetime import datetime"
   ]
  },
  {
   "cell_type": "code",
   "execution_count": 33,
   "id": "b0c91a62",
   "metadata": {},
   "outputs": [
    {
     "name": "stdout",
     "output_type": "stream",
     "text": [
      "Time of execution: 2024-05-17 16:17:55.857628\n"
     ]
    }
   ],
   "source": [
    "API_KEY = os.environ['MISTRAL_API_KEY']\n",
    "\n",
    "MODEL_ID = 'open-mixtral-8x22b'\n",
    "MODEL_SEED = 2\n",
    "MODEL_TEMPERATURE = 0.7\n",
    "\n",
    "file_system_prompt_1 = open(\"../../system_prompt_1.txt\", \"r\")\n",
    "file_system_prompt_2 = open(\"../../system_prompt_2.txt\", \"r\")\n",
    "SYSTEM_PROMPT_1 = file_system_prompt_1.read()\n",
    "SYSTEM_PROMPT_2 = file_system_prompt_2.read()\n",
    "file_system_prompt_1.close()\n",
    "file_system_prompt_2.close()\n",
    "\n",
    "FILE_PATH_PROBLEM = '../../../../Datasets/IP_1_Radiotherapy-Treatment/'\n",
    "assert(FILE_PATH_PROBLEM != '../../../../Datasets/')\n",
    "file_problem_description = open(FILE_PATH_PROBLEM + 'ProblemDescription.txt', 'r')\n",
    "PROBLEM_DESCRIPTION = file_problem_description.read()\n",
    "file_problem_description.close()\n",
    "\n",
    "\n",
    "client = MistralClient(api_key=API_KEY)\n",
    "\n",
    "print(f'Time of execution: {datetime.now()}')"
   ]
  },
  {
   "cell_type": "markdown",
   "id": "3e540824",
   "metadata": {},
   "source": [
    "## Step 1 - Generate Mathematical Formulation "
   ]
  },
  {
   "cell_type": "code",
   "execution_count": 34,
   "id": "174c127b",
   "metadata": {},
   "outputs": [],
   "source": [
    "messages_1 = [\n",
    "    ChatMessage(role=\"system\", content=SYSTEM_PROMPT_1),\n",
    "    ChatMessage(role=\"user\", content=PROBLEM_DESCRIPTION)\n",
    "]"
   ]
  },
  {
   "cell_type": "code",
   "execution_count": 35,
   "id": "d43340f3",
   "metadata": {},
   "outputs": [],
   "source": [
    "response_1 = client.chat(\n",
    "    model=MODEL_ID,\n",
    "    messages=messages_1,\n",
    "    random_seed=MODEL_SEED,\n",
    "    temperature=MODEL_TEMPERATURE \n",
    ")\n",
    "\n",
    "response_1_text = response_1.choices[0].message.content"
   ]
  },
  {
   "cell_type": "code",
   "execution_count": 36,
   "id": "03616e62",
   "metadata": {},
   "outputs": [
    {
     "data": {
      "text/markdown": [
       "To formulate an integer linear optimization model for this problem, we will define the following parameters, decision variables, objective function, and constraints:\n",
       "\n",
       "Parameters:\n",
       "- n: number of patients (n = 17)\n",
       "- C: total maximal proton fraction capacity (C = 100)\n",
       "- BED_ij: BED score for patient i when using j proton fractions (given data)\n",
       "\n",
       "Decision Variables:\n",
       "- x_ij: number of proton fractions assigned to patient i (i = 1, ..., n; j = 0, ..., 15)\n",
       "  - x_ij is an integer variable\n",
       "  - x_ij ∈ {0, 1} for each i and j (binary variable)\n",
       "\n",
       "Objective Function:\n",
       "Let's denote the total BED score as Z. We want to maximize this value:\n",
       "\n",
       "Z = ∑ ∑ BED_ij * x_ij\n",
       "   i=1 j=0\n",
       "\n",
       "Constraints:\n",
       "1. Each patient receives exactly 15 fractions (a mix of proton and photon fractions):\n",
       "\n",
       "∑ x_ij = 15 for every patient i (i = 1, ..., n)\n",
       "  j=0\n",
       "\n",
       "2. The total number of proton fractions used does not exceed the capacity C:\n",
       "\n",
       "∑ ∑ j * x_ij ≤ C\n",
       "   i=1 j=0\n",
       "\n",
       "3. A patient can only receive a single number of proton fractions (either 0, 1, ..., or 15):\n",
       "\n",
       "∑ x_ij = 1 for every patient i (i = 1, ..., n)\n",
       "  j=0\n",
       "\n",
       "This formulation provides an integer linear optimization model that can be used to determine the optimal number of proton fractions for each patient while maximizing the total BED score. By solving this model, we can determine the best treatment plan for the given patients under the proton fraction capacity limit."
      ],
      "text/plain": [
       "<IPython.core.display.Markdown object>"
      ]
     },
     "execution_count": 36,
     "metadata": {},
     "output_type": "execute_result"
    }
   ],
   "source": [
    "Markdown(response_1_text)"
   ]
  },
  {
   "cell_type": "code",
   "execution_count": 37,
   "id": "b6a33171",
   "metadata": {},
   "outputs": [
    {
     "name": "stdout",
     "output_type": "stream",
     "text": [
      "To formulate an integer linear optimization model for this problem, we will define the following parameters, decision variables, objective function, and constraints:\n",
      "\n",
      "Parameters:\n",
      "- n: number of patients (n = 17)\n",
      "- C: total maximal proton fraction capacity (C = 100)\n",
      "- BED_ij: BED score for patient i when using j proton fractions (given data)\n",
      "\n",
      "Decision Variables:\n",
      "- x_ij: number of proton fractions assigned to patient i (i = 1, ..., n; j = 0, ..., 15)\n",
      "  - x_ij is an integer variable\n",
      "  - x_ij ∈ {0, 1} for each i and j (binary variable)\n",
      "\n",
      "Objective Function:\n",
      "Let's denote the total BED score as Z. We want to maximize this value:\n",
      "\n",
      "Z = ∑ ∑ BED_ij * x_ij\n",
      "   i=1 j=0\n",
      "\n",
      "Constraints:\n",
      "1. Each patient receives exactly 15 fractions (a mix of proton and photon fractions):\n",
      "\n",
      "∑ x_ij = 15 for every patient i (i = 1, ..., n)\n",
      "  j=0\n",
      "\n",
      "2. The total number of proton fractions used does not exceed the capacity C:\n",
      "\n",
      "∑ ∑ j * x_ij ≤ C\n",
      "   i=1 j=0\n",
      "\n",
      "3. A patient can only receive a single number of proton fractions (either 0, 1, ..., or 15):\n",
      "\n",
      "∑ x_ij = 1 for every patient i (i = 1, ..., n)\n",
      "  j=0\n",
      "\n",
      "This formulation provides an integer linear optimization model that can be used to determine the optimal number of proton fractions for each patient while maximizing the total BED score. By solving this model, we can determine the best treatment plan for the given patients under the proton fraction capacity limit.\n"
     ]
    }
   ],
   "source": [
    "print(response_1_text)"
   ]
  },
  {
   "cell_type": "markdown",
   "id": "27b5f89a",
   "metadata": {},
   "source": [
    "## Step 2 - Generate the Pyomo Code"
   ]
  },
  {
   "cell_type": "code",
   "execution_count": 38,
   "id": "a4c3312f",
   "metadata": {},
   "outputs": [],
   "source": [
    "messages_2 = [\n",
    "    ChatMessage(role=\"system\", content=SYSTEM_PROMPT_2),\n",
    "    ChatMessage(role=\"user\", content=response_1_text)\n",
    "]"
   ]
  },
  {
   "cell_type": "code",
   "execution_count": 39,
   "id": "4212d99d",
   "metadata": {},
   "outputs": [],
   "source": [
    "response_2 = client.chat(\n",
    "    model=MODEL_ID,\n",
    "    messages=messages_2,\n",
    "    random_seed=MODEL_SEED,\n",
    "    temperature=MODEL_TEMPERATURE\n",
    ")\n",
    "\n",
    "response_2_text = response_2.choices[0].message.content"
   ]
  },
  {
   "cell_type": "code",
   "execution_count": 40,
   "id": "c168a60b",
   "metadata": {},
   "outputs": [
    {
     "data": {
      "text/markdown": [
       "Here is a Python code using Pyomo to solve the optimization problem you described:\n",
       "\n",
       "```python\n",
       "import pyomo.environ as pyo\n",
       "import numpy as np\n",
       "\n",
       "# Sample data\n",
       "n = 17  # number of patients\n",
       "C = 100  # total maximal proton fraction capacity\n",
       "BED_ij = np.random.rand(n, 16)  # BED score for patient i when using j proton fractions (sample data)\n",
       "\n",
       "model = pyo.ConcreteModel()\n",
       "\n",
       "# Sets\n",
       "model.I = pyo.RangeSet(1, n)\n",
       "model.J = pyo.RangeSet(0, 15)\n",
       "\n",
       "# Parameters\n",
       "model.C = pyo.Param(initialize=C)\n",
       "model.BED_ij = pyo.Param(model.I, model.J, initialize=BED_ij)\n",
       "\n",
       "# Decision Variables\n",
       "model.x_ij = pyo.Var(model.I, model.J, domain=pyo.Binary)\n",
       "\n",
       "# Objective Function\n",
       "def obj_function(model):\n",
       "    return sum(sum(model.BED_ij[i, j] * model.x_ij[i, j] for j in model.J) for i in model.I)\n",
       "\n",
       "model.obj = pyo.Objective(rule=obj_function, sense=pyo.maximize)\n",
       "\n",
       "# Constraints\n",
       "def constraint1(model, i):\n",
       "    return sum(model.x_ij[i, j] for j in model.J) == 15\n",
       "\n",
       "model.constraint1 = pyo.Constraint(model.I, rule=constraint1)\n",
       "\n",
       "def constraint2(model):\n",
       "    return sum(sum(j * model.x_ij[i, j] for j in model.J) for i in model.I) <= model.C\n",
       "\n",
       "model.constraint2 = pyo.Constraint(rule=constraint2)\n",
       "\n",
       "def constraint3(model, i):\n",
       "    return sum(model.x_ij[i, j] for j in model.J) == 1\n",
       "\n",
       "model.constraint3 = pyo.Constraint(model.I, rule=constraint3)\n",
       "\n",
       "# Solve\n",
       "solver = pyo.SolverFactory('glpk')\n",
       "results = solver.solve(model)\n",
       "\n",
       "# Print results\n",
       "print(\"Optimal Solution Found\")\n",
       "print(\"Objective Value:\", pyo.value(model.obj))\n",
       "for i in model.I:\n",
       "    for j in model.J:\n",
       "        if pyo.value(model.x_ij[i, j]) > 0.5:\n",
       "            print(f\"Patient {i} receives {j} proton fractions\")\n",
       "```\n",
       "\n",
       "This code creates a Pyomo ConcreteModel and defines the parameters, decision variables, objective function, and constraints as described. It then uses the GLPK solver to find the optimal solution. The results are printed to the console, showing the objective value and the number of proton fractions assigned to each patient."
      ],
      "text/plain": [
       "<IPython.core.display.Markdown object>"
      ]
     },
     "execution_count": 40,
     "metadata": {},
     "output_type": "execute_result"
    }
   ],
   "source": [
    "Markdown(response_2_text)"
   ]
  },
  {
   "cell_type": "code",
   "execution_count": 41,
   "id": "a380c180",
   "metadata": {},
   "outputs": [
    {
     "name": "stdout",
     "output_type": "stream",
     "text": [
      "Here is a Python code using Pyomo to solve the optimization problem you described:\n",
      "\n",
      "```python\n",
      "import pyomo.environ as pyo\n",
      "import numpy as np\n",
      "\n",
      "# Sample data\n",
      "n = 17  # number of patients\n",
      "C = 100  # total maximal proton fraction capacity\n",
      "BED_ij = np.random.rand(n, 16)  # BED score for patient i when using j proton fractions (sample data)\n",
      "\n",
      "model = pyo.ConcreteModel()\n",
      "\n",
      "# Sets\n",
      "model.I = pyo.RangeSet(1, n)\n",
      "model.J = pyo.RangeSet(0, 15)\n",
      "\n",
      "# Parameters\n",
      "model.C = pyo.Param(initialize=C)\n",
      "model.BED_ij = pyo.Param(model.I, model.J, initialize=BED_ij)\n",
      "\n",
      "# Decision Variables\n",
      "model.x_ij = pyo.Var(model.I, model.J, domain=pyo.Binary)\n",
      "\n",
      "# Objective Function\n",
      "def obj_function(model):\n",
      "    return sum(sum(model.BED_ij[i, j] * model.x_ij[i, j] for j in model.J) for i in model.I)\n",
      "\n",
      "model.obj = pyo.Objective(rule=obj_function, sense=pyo.maximize)\n",
      "\n",
      "# Constraints\n",
      "def constraint1(model, i):\n",
      "    return sum(model.x_ij[i, j] for j in model.J) == 15\n",
      "\n",
      "model.constraint1 = pyo.Constraint(model.I, rule=constraint1)\n",
      "\n",
      "def constraint2(model):\n",
      "    return sum(sum(j * model.x_ij[i, j] for j in model.J) for i in model.I) <= model.C\n",
      "\n",
      "model.constraint2 = pyo.Constraint(rule=constraint2)\n",
      "\n",
      "def constraint3(model, i):\n",
      "    return sum(model.x_ij[i, j] for j in model.J) == 1\n",
      "\n",
      "model.constraint3 = pyo.Constraint(model.I, rule=constraint3)\n",
      "\n",
      "# Solve\n",
      "solver = pyo.SolverFactory('glpk')\n",
      "results = solver.solve(model)\n",
      "\n",
      "# Print results\n",
      "print(\"Optimal Solution Found\")\n",
      "print(\"Objective Value:\", pyo.value(model.obj))\n",
      "for i in model.I:\n",
      "    for j in model.J:\n",
      "        if pyo.value(model.x_ij[i, j]) > 0.5:\n",
      "            print(f\"Patient {i} receives {j} proton fractions\")\n",
      "```\n",
      "\n",
      "This code creates a Pyomo ConcreteModel and defines the parameters, decision variables, objective function, and constraints as described. It then uses the GLPK solver to find the optimal solution. The results are printed to the console, showing the objective value and the number of proton fractions assigned to each patient.\n"
     ]
    }
   ],
   "source": [
    "print(response_2_text)"
   ]
  },
  {
   "cell_type": "markdown",
   "id": "879cc7ae",
   "metadata": {},
   "source": [
    "### Code Executability"
   ]
  },
  {
   "cell_type": "code",
   "execution_count": 42,
   "id": "f1d9a625",
   "metadata": {},
   "outputs": [
    {
     "name": "stderr",
     "output_type": "stream",
     "text": [
      "2024-05-17 16:26:00,100 ERROR pyomo.core: Rule failed for Param 'BED_ij' with index 0:\n",
      "KeyError: \"Index '0' is not valid for indexed component 'BED_ij'\"\n",
      "2024-05-17 16:26:00,102 ERROR pyomo.core: Constructing component 'BED_ij' from data=None failed:\n",
      "KeyError: \"Index '0' is not valid for indexed component 'BED_ij'\"\n"
     ]
    },
    {
     "ename": "KeyError",
     "evalue": "\"Index '0' is not valid for indexed component 'BED_ij'\"",
     "output_type": "error",
     "traceback": [
      "\u001b[1;31m---------------------------------------------------------------------------\u001b[0m",
      "\u001b[1;31mKeyError\u001b[0m                                  Traceback (most recent call last)",
      "Input \u001b[1;32mIn [42]\u001b[0m, in \u001b[0;36m<cell line: 17>\u001b[1;34m()\u001b[0m\n\u001b[0;32m     15\u001b[0m \u001b[38;5;66;03m# Parameters\u001b[39;00m\n\u001b[0;32m     16\u001b[0m model\u001b[38;5;241m.\u001b[39mC \u001b[38;5;241m=\u001b[39m pyo\u001b[38;5;241m.\u001b[39mParam(initialize\u001b[38;5;241m=\u001b[39mC)\n\u001b[1;32m---> 17\u001b[0m model\u001b[38;5;241m.\u001b[39mBED_ij \u001b[38;5;241m=\u001b[39m pyo\u001b[38;5;241m.\u001b[39mParam(model\u001b[38;5;241m.\u001b[39mI, model\u001b[38;5;241m.\u001b[39mJ, initialize\u001b[38;5;241m=\u001b[39mBED_ij)\n\u001b[0;32m     19\u001b[0m \u001b[38;5;66;03m# Decision Variables\u001b[39;00m\n\u001b[0;32m     20\u001b[0m model\u001b[38;5;241m.\u001b[39mx_ij \u001b[38;5;241m=\u001b[39m pyo\u001b[38;5;241m.\u001b[39mVar(model\u001b[38;5;241m.\u001b[39mI, model\u001b[38;5;241m.\u001b[39mJ, domain\u001b[38;5;241m=\u001b[39mpyo\u001b[38;5;241m.\u001b[39mBinary)\n",
      "File \u001b[1;32m~\\AppData\\Roaming\\Python\\Python310\\site-packages\\pyomo\\core\\base\\block.py:639\u001b[0m, in \u001b[0;36m_BlockData.__setattr__\u001b[1;34m(self, name, val)\u001b[0m\n\u001b[0;32m    634\u001b[0m \u001b[38;5;28;01mif\u001b[39;00m name \u001b[38;5;129;01mnot\u001b[39;00m \u001b[38;5;129;01min\u001b[39;00m \u001b[38;5;28mself\u001b[39m\u001b[38;5;241m.\u001b[39m\u001b[38;5;18m__dict__\u001b[39m:\n\u001b[0;32m    635\u001b[0m     \u001b[38;5;28;01mif\u001b[39;00m \u001b[38;5;28misinstance\u001b[39m(val, Component):\n\u001b[0;32m    636\u001b[0m         \u001b[38;5;66;03m#\u001b[39;00m\n\u001b[0;32m    637\u001b[0m         \u001b[38;5;66;03m# Pyomo components are added with the add_component method.\u001b[39;00m\n\u001b[0;32m    638\u001b[0m         \u001b[38;5;66;03m#\u001b[39;00m\n\u001b[1;32m--> 639\u001b[0m         \u001b[38;5;28;43mself\u001b[39;49m\u001b[38;5;241;43m.\u001b[39;49m\u001b[43madd_component\u001b[49m\u001b[43m(\u001b[49m\u001b[43mname\u001b[49m\u001b[43m,\u001b[49m\u001b[43m \u001b[49m\u001b[43mval\u001b[49m\u001b[43m)\u001b[49m\n\u001b[0;32m    640\u001b[0m     \u001b[38;5;28;01melse\u001b[39;00m:\n\u001b[0;32m    641\u001b[0m         \u001b[38;5;66;03m#\u001b[39;00m\n\u001b[0;32m    642\u001b[0m         \u001b[38;5;66;03m# Other Python objects are added with the standard __setattr__\u001b[39;00m\n\u001b[0;32m    643\u001b[0m         \u001b[38;5;66;03m# method.\u001b[39;00m\n\u001b[0;32m    644\u001b[0m         \u001b[38;5;66;03m#\u001b[39;00m\n\u001b[0;32m    645\u001b[0m         \u001b[38;5;28msuper\u001b[39m(_BlockData, \u001b[38;5;28mself\u001b[39m)\u001b[38;5;241m.\u001b[39m\u001b[38;5;21m__setattr__\u001b[39m(name, val)\n",
      "File \u001b[1;32m~\\AppData\\Roaming\\Python\\Python310\\site-packages\\pyomo\\core\\base\\block.py:1186\u001b[0m, in \u001b[0;36m_BlockData.add_component\u001b[1;34m(self, name, val)\u001b[0m\n\u001b[0;32m   1182\u001b[0m     logger\u001b[38;5;241m.\u001b[39mdebug(\u001b[38;5;124m\"\u001b[39m\u001b[38;5;124mConstructing \u001b[39m\u001b[38;5;132;01m%s\u001b[39;00m\u001b[38;5;124m \u001b[39m\u001b[38;5;124m'\u001b[39m\u001b[38;5;132;01m%s\u001b[39;00m\u001b[38;5;124m'\u001b[39m\u001b[38;5;124m on \u001b[39m\u001b[38;5;132;01m%s\u001b[39;00m\u001b[38;5;124m from data=\u001b[39m\u001b[38;5;132;01m%s\u001b[39;00m\u001b[38;5;124m\"\u001b[39m,\n\u001b[0;32m   1183\u001b[0m                  val\u001b[38;5;241m.\u001b[39m\u001b[38;5;18m__class__\u001b[39m\u001b[38;5;241m.\u001b[39m\u001b[38;5;18m__name__\u001b[39m, name,\n\u001b[0;32m   1184\u001b[0m                  _blockName, \u001b[38;5;28mstr\u001b[39m(data))\n\u001b[0;32m   1185\u001b[0m \u001b[38;5;28;01mtry\u001b[39;00m:\n\u001b[1;32m-> 1186\u001b[0m     \u001b[43mval\u001b[49m\u001b[38;5;241;43m.\u001b[39;49m\u001b[43mconstruct\u001b[49m\u001b[43m(\u001b[49m\u001b[43mdata\u001b[49m\u001b[43m)\u001b[49m\n\u001b[0;32m   1187\u001b[0m \u001b[38;5;28;01mexcept\u001b[39;00m:\n\u001b[0;32m   1188\u001b[0m     err \u001b[38;5;241m=\u001b[39m sys\u001b[38;5;241m.\u001b[39mexc_info()[\u001b[38;5;241m1\u001b[39m]\n",
      "File \u001b[1;32m~\\AppData\\Roaming\\Python\\Python310\\site-packages\\pyomo\\core\\base\\param.py:768\u001b[0m, in \u001b[0;36mParam.construct\u001b[1;34m(self, data)\u001b[0m\n\u001b[0;32m    764\u001b[0m \u001b[38;5;28mself\u001b[39m\u001b[38;5;241m.\u001b[39m_constructed \u001b[38;5;241m=\u001b[39m \u001b[38;5;28;01mNone\u001b[39;00m\n\u001b[0;32m    765\u001b[0m \u001b[38;5;66;03m#\u001b[39;00m\n\u001b[0;32m    766\u001b[0m \u001b[38;5;66;03m# Step #1: initialize data from rule value\u001b[39;00m\n\u001b[0;32m    767\u001b[0m \u001b[38;5;66;03m#\u001b[39;00m\n\u001b[1;32m--> 768\u001b[0m \u001b[38;5;28;43mself\u001b[39;49m\u001b[38;5;241;43m.\u001b[39;49m\u001b[43m_construct_from_rule_using_setitem\u001b[49m\u001b[43m(\u001b[49m\u001b[43m)\u001b[49m\n\u001b[0;32m    769\u001b[0m \u001b[38;5;66;03m#\u001b[39;00m\n\u001b[0;32m    770\u001b[0m \u001b[38;5;66;03m# Step #2: allow any user-specified (external) data to override\u001b[39;00m\n\u001b[0;32m    771\u001b[0m \u001b[38;5;66;03m# the initialization\u001b[39;00m\n\u001b[0;32m    772\u001b[0m \u001b[38;5;66;03m#\u001b[39;00m\n\u001b[0;32m    773\u001b[0m \u001b[38;5;28;01mif\u001b[39;00m data \u001b[38;5;129;01mis\u001b[39;00m \u001b[38;5;129;01mnot\u001b[39;00m \u001b[38;5;28;01mNone\u001b[39;00m:\n",
      "File \u001b[1;32m~\\AppData\\Roaming\\Python\\Python310\\site-packages\\pyomo\\core\\base\\indexed_component.py:716\u001b[0m, in \u001b[0;36mIndexedComponent._construct_from_rule_using_setitem\u001b[1;34m(self)\u001b[0m\n\u001b[0;32m    713\u001b[0m \u001b[38;5;28;01mif\u001b[39;00m rule\u001b[38;5;241m.\u001b[39mcontains_indices():\n\u001b[0;32m    714\u001b[0m     \u001b[38;5;66;03m# The index is coming in externally; we need to validate it\u001b[39;00m\n\u001b[0;32m    715\u001b[0m     \u001b[38;5;28;01mfor\u001b[39;00m index \u001b[38;5;129;01min\u001b[39;00m rule\u001b[38;5;241m.\u001b[39mindices():\n\u001b[1;32m--> 716\u001b[0m         \u001b[38;5;28mself\u001b[39m[index] \u001b[38;5;241m=\u001b[39m rule(block, index)\n\u001b[0;32m    717\u001b[0m \u001b[38;5;28;01melif\u001b[39;00m \u001b[38;5;129;01mnot\u001b[39;00m \u001b[38;5;28mself\u001b[39m\u001b[38;5;241m.\u001b[39mindex_set()\u001b[38;5;241m.\u001b[39misfinite():\n\u001b[0;32m    718\u001b[0m     \u001b[38;5;66;03m# If the index is not finite, then we cannot iterate\u001b[39;00m\n\u001b[0;32m    719\u001b[0m     \u001b[38;5;66;03m# over it.  Since the rule doesn't provide explicit\u001b[39;00m\n\u001b[0;32m    720\u001b[0m     \u001b[38;5;66;03m# indices, then there is nothing we can do (the\u001b[39;00m\n\u001b[0;32m    721\u001b[0m     \u001b[38;5;66;03m# assumption is that the user will trigger specific\u001b[39;00m\n\u001b[0;32m    722\u001b[0m     \u001b[38;5;66;03m# indices to be created at a later time).\u001b[39;00m\n\u001b[0;32m    723\u001b[0m     \u001b[38;5;28;01mpass\u001b[39;00m\n",
      "File \u001b[1;32m~\\AppData\\Roaming\\Python\\Python310\\site-packages\\pyomo\\core\\base\\indexed_component.py:619\u001b[0m, in \u001b[0;36mIndexedComponent.__setitem__\u001b[1;34m(self, index, val)\u001b[0m\n\u001b[0;32m    614\u001b[0m \u001b[38;5;28;01mif\u001b[39;00m obj \u001b[38;5;129;01mis\u001b[39;00m _NotFound:\n\u001b[0;32m    615\u001b[0m     \u001b[38;5;66;03m# If we didn't find the index in the data, then we need to\u001b[39;00m\n\u001b[0;32m    616\u001b[0m     \u001b[38;5;66;03m# validate it against the underlying set (as long as\u001b[39;00m\n\u001b[0;32m    617\u001b[0m     \u001b[38;5;66;03m# _processUnhashableIndex didn't return a slicer)\u001b[39;00m\n\u001b[0;32m    618\u001b[0m     \u001b[38;5;28;01mif\u001b[39;00m index\u001b[38;5;241m.\u001b[39m\u001b[38;5;18m__class__\u001b[39m \u001b[38;5;129;01mis\u001b[39;00m \u001b[38;5;129;01mnot\u001b[39;00m IndexedComponent_slice:\n\u001b[1;32m--> 619\u001b[0m         index \u001b[38;5;241m=\u001b[39m \u001b[38;5;28;43mself\u001b[39;49m\u001b[38;5;241;43m.\u001b[39;49m\u001b[43m_validate_index\u001b[49m\u001b[43m(\u001b[49m\u001b[43mindex\u001b[49m\u001b[43m)\u001b[49m\n\u001b[0;32m    620\u001b[0m \u001b[38;5;28;01melse\u001b[39;00m:\n\u001b[0;32m    621\u001b[0m     \u001b[38;5;28;01mreturn\u001b[39;00m \u001b[38;5;28mself\u001b[39m\u001b[38;5;241m.\u001b[39m_setitem_impl(index, obj, val)\n",
      "File \u001b[1;32m~\\AppData\\Roaming\\Python\\Python310\\site-packages\\pyomo\\core\\base\\indexed_component.py:800\u001b[0m, in \u001b[0;36mIndexedComponent._validate_index\u001b[1;34m(self, idx)\u001b[0m\n\u001b[0;32m    794\u001b[0m     \u001b[38;5;28;01mraise\u001b[39;00m \u001b[38;5;167;01mKeyError\u001b[39;00m(\n\u001b[0;32m    795\u001b[0m         \u001b[38;5;124m\"\u001b[39m\u001b[38;5;124mCannot treat the scalar component \u001b[39m\u001b[38;5;124m'\u001b[39m\u001b[38;5;132;01m%s\u001b[39;00m\u001b[38;5;124m'\u001b[39m\u001b[38;5;124m \u001b[39m\u001b[38;5;124m\"\u001b[39m\n\u001b[0;32m    796\u001b[0m         \u001b[38;5;124m\"\u001b[39m\u001b[38;5;124mas an indexed component\u001b[39m\u001b[38;5;124m\"\u001b[39m \u001b[38;5;241m%\u001b[39m ( \u001b[38;5;28mself\u001b[39m\u001b[38;5;241m.\u001b[39mname, ))\n\u001b[0;32m    797\u001b[0m \u001b[38;5;66;03m#\u001b[39;00m\n\u001b[0;32m    798\u001b[0m \u001b[38;5;66;03m# Raise an exception\u001b[39;00m\n\u001b[0;32m    799\u001b[0m \u001b[38;5;66;03m#\u001b[39;00m\n\u001b[1;32m--> 800\u001b[0m \u001b[38;5;28;01mraise\u001b[39;00m \u001b[38;5;167;01mKeyError\u001b[39;00m(\n\u001b[0;32m    801\u001b[0m     \u001b[38;5;124m\"\u001b[39m\u001b[38;5;124mIndex \u001b[39m\u001b[38;5;124m'\u001b[39m\u001b[38;5;132;01m%s\u001b[39;00m\u001b[38;5;124m'\u001b[39m\u001b[38;5;124m is not valid for indexed component \u001b[39m\u001b[38;5;124m'\u001b[39m\u001b[38;5;132;01m%s\u001b[39;00m\u001b[38;5;124m'\u001b[39m\u001b[38;5;124m\"\u001b[39m\n\u001b[0;32m    802\u001b[0m     \u001b[38;5;241m%\u001b[39m ( idx, \u001b[38;5;28mself\u001b[39m\u001b[38;5;241m.\u001b[39mname, ))\n",
      "\u001b[1;31mKeyError\u001b[0m: \"Index '0' is not valid for indexed component 'BED_ij'\""
     ]
    }
   ],
   "source": [
    "import pyomo.environ as pyo\n",
    "import numpy as np\n",
    "\n",
    "# Sample data\n",
    "n = 17  # number of patients\n",
    "C = 100  # total maximal proton fraction capacity\n",
    "BED_ij = np.random.rand(n, 16)  # BED score for patient i when using j proton fractions (sample data)\n",
    "\n",
    "model = pyo.ConcreteModel()\n",
    "\n",
    "# Sets\n",
    "model.I = pyo.RangeSet(1, n)\n",
    "model.J = pyo.RangeSet(0, 15)\n",
    "\n",
    "# Parameters\n",
    "model.C = pyo.Param(initialize=C)\n",
    "model.BED_ij = pyo.Param(model.I, model.J, initialize=BED_ij)\n",
    "\n",
    "# Decision Variables\n",
    "model.x_ij = pyo.Var(model.I, model.J, domain=pyo.Binary)\n",
    "\n",
    "# Objective Function\n",
    "def obj_function(model):\n",
    "    return sum(sum(model.BED_ij[i, j] * model.x_ij[i, j] for j in model.J) for i in model.I)\n",
    "\n",
    "model.obj = pyo.Objective(rule=obj_function, sense=pyo.maximize)\n",
    "\n",
    "# Constraints\n",
    "def constraint1(model, i):\n",
    "    return sum(model.x_ij[i, j] for j in model.J) == 15\n",
    "\n",
    "model.constraint1 = pyo.Constraint(model.I, rule=constraint1)\n",
    "\n",
    "def constraint2(model):\n",
    "    return sum(sum(j * model.x_ij[i, j] for j in model.J) for i in model.I) <= model.C\n",
    "\n",
    "model.constraint2 = pyo.Constraint(rule=constraint2)\n",
    "\n",
    "def constraint3(model, i):\n",
    "    return sum(model.x_ij[i, j] for j in model.J) == 1\n",
    "\n",
    "model.constraint3 = pyo.Constraint(model.I, rule=constraint3)\n",
    "\n",
    "# Solve\n",
    "solver = pyo.SolverFactory('glpk')\n",
    "results = solver.solve(model)\n",
    "\n",
    "# Print results\n",
    "print(\"Optimal Solution Found\")\n",
    "print(\"Objective Value:\", pyo.value(model.obj))\n",
    "for i in model.I:\n",
    "    for j in model.J:\n",
    "        if pyo.value(model.x_ij[i, j]) > 0.5:\n",
    "            print(f\"Patient {i} receives {j} proton fractions\")"
   ]
  },
  {
   "cell_type": "markdown",
   "id": "95f5c3a8",
   "metadata": {},
   "source": [
    "### Solution Correctness"
   ]
  },
  {
   "cell_type": "code",
   "execution_count": 51,
   "id": "01245691",
   "metadata": {},
   "outputs": [
    {
     "name": "stdout",
     "output_type": "stream",
     "text": [
      "Optimal Solution Found\n",
      "\n",
      "Problem: \n",
      "- Name: unknown\n",
      "  Lower bound: -inf\n",
      "  Upper bound: inf\n",
      "  Number of objectives: 1\n",
      "  Number of constraints: 36\n",
      "  Number of variables: 273\n",
      "  Number of nonzeros: 800\n",
      "  Sense: maximize\n",
      "Solver: \n",
      "- Status: ok\n",
      "  Termination condition: infeasible\n",
      "  Statistics: \n",
      "    Branch and bound: \n",
      "      Number of bounded subproblems: 0\n",
      "      Number of created subproblems: 0\n",
      "  Error rc: 0\n",
      "  Time: 0.07588005065917969\n",
      "\n"
     ]
    }
   ],
   "source": [
    "import pyomo.environ as pyo\n",
    "import numpy as np\n",
    "\n",
    "# Sample data\n",
    "n = 17  # number of patients\n",
    "C = 100  # total maximal proton fraction capacity\n",
    "BED = {}\n",
    "with open(FILE_PATH_PROBLEM + 'ProblemData.csv', 'r') as f:\n",
    "    for i, line in enumerate(f):\n",
    "        for j, val in enumerate(line.strip().split(',')):\n",
    "            BED[(i + 1, j)] = float(val)\n",
    "model = pyo.ConcreteModel()\n",
    "\n",
    "# Sets\n",
    "model.I = pyo.RangeSet(1, n)\n",
    "model.J = pyo.RangeSet(0, 15)\n",
    "\n",
    "# Parameters\n",
    "model.C = pyo.Param(initialize=C)\n",
    "\n",
    "# Decision Variables\n",
    "model.x_ij = pyo.Var(model.I, model.J, domain=pyo.Binary)\n",
    "\n",
    "# Objective Function\n",
    "def obj_function(model):\n",
    "    return sum(sum(BED[i, j] * model.x_ij[i, j] for j in model.J) for i in model.I)\n",
    "\n",
    "model.obj = pyo.Objective(rule=obj_function, sense=pyo.maximize)\n",
    "\n",
    "# Constraints\n",
    "def constraint1(model, i):\n",
    "    return sum(model.x_ij[i, j] for j in model.J) == 15\n",
    "\n",
    "model.constraint1 = pyo.Constraint(model.I, rule=constraint1)\n",
    "\n",
    "def constraint2(model):\n",
    "    return sum(sum(j * model.x_ij[i, j] for j in model.J) for i in model.I) <= model.C\n",
    "\n",
    "model.constraint2 = pyo.Constraint(rule=constraint2)\n",
    "\n",
    "def constraint3(model, i):\n",
    "    return sum(model.x_ij[i, j] for j in model.J) == 1\n",
    "\n",
    "model.constraint3 = pyo.Constraint(model.I, rule=constraint3)\n",
    "\n",
    "# Solve\n",
    "solver = pyo.SolverFactory('glpk')\n",
    "results = solver.solve(model)\n",
    "\n",
    "# Print results\n",
    "print(\"Optimal Solution Found\")\n",
    "print(results)"
   ]
  }
 ],
 "metadata": {
  "kernelspec": {
   "display_name": "Python 3 (ipykernel)",
   "language": "python",
   "name": "python3"
  },
  "language_info": {
   "codemirror_mode": {
    "name": "ipython",
    "version": 3
   },
   "file_extension": ".py",
   "mimetype": "text/x-python",
   "name": "python",
   "nbconvert_exporter": "python",
   "pygments_lexer": "ipython3",
   "version": "3.10.4"
  }
 },
 "nbformat": 4,
 "nbformat_minor": 5
}
