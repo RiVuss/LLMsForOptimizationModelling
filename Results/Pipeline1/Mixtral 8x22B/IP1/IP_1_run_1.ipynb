{
 "cells": [
  {
   "cell_type": "code",
   "execution_count": 1,
   "id": "e5c2c174",
   "metadata": {},
   "outputs": [],
   "source": [
    "import os\n",
    "from mistralai.client import MistralClient\n",
    "from mistralai.models.chat_completion import ChatMessage\n",
    "from IPython.display import display, Markdown, Latex\n",
    "from datetime import datetime"
   ]
  },
  {
   "cell_type": "code",
   "execution_count": 2,
   "id": "b0c91a62",
   "metadata": {},
   "outputs": [
    {
     "name": "stdout",
     "output_type": "stream",
     "text": [
      "Time of execution: 2024-05-17 15:41:44.374693\n"
     ]
    }
   ],
   "source": [
    "API_KEY = os.environ['MISTRAL_API_KEY']\n",
    "\n",
    "MODEL_ID = 'open-mixtral-8x22b'\n",
    "MODEL_SEED = 1\n",
    "MODEL_TEMPERATURE = 0.7\n",
    "\n",
    "file_system_prompt_1 = open(\"../../system_prompt_1.txt\", \"r\")\n",
    "file_system_prompt_2 = open(\"../../system_prompt_2.txt\", \"r\")\n",
    "SYSTEM_PROMPT_1 = file_system_prompt_1.read()\n",
    "SYSTEM_PROMPT_2 = file_system_prompt_2.read()\n",
    "file_system_prompt_1.close()\n",
    "file_system_prompt_2.close()\n",
    "\n",
    "FILE_PATH_PROBLEM = '../../../../Datasets/IP_1_Radiotherapy-Treatment/'\n",
    "assert(FILE_PATH_PROBLEM != '../../../../Datasets/')\n",
    "file_problem_description = open(FILE_PATH_PROBLEM + 'ProblemDescription.txt', 'r')\n",
    "PROBLEM_DESCRIPTION = file_problem_description.read()\n",
    "file_problem_description.close()\n",
    "\n",
    "\n",
    "client = MistralClient(api_key=API_KEY)\n",
    "\n",
    "print(f'Time of execution: {datetime.now()}')"
   ]
  },
  {
   "cell_type": "markdown",
   "id": "3e540824",
   "metadata": {},
   "source": [
    "## Step 1 - Generate Mathematical Formulation "
   ]
  },
  {
   "cell_type": "code",
   "execution_count": 3,
   "id": "174c127b",
   "metadata": {},
   "outputs": [],
   "source": [
    "messages_1 = [\n",
    "    ChatMessage(role=\"system\", content=SYSTEM_PROMPT_1),\n",
    "    ChatMessage(role=\"user\", content=PROBLEM_DESCRIPTION)\n",
    "]"
   ]
  },
  {
   "cell_type": "code",
   "execution_count": 4,
   "id": "d43340f3",
   "metadata": {},
   "outputs": [],
   "source": [
    "response_1 = client.chat(\n",
    "    model=MODEL_ID,\n",
    "    messages=messages_1,\n",
    "    random_seed=MODEL_SEED,\n",
    "    temperature=MODEL_TEMPERATURE \n",
    ")\n",
    "\n",
    "response_1_text = response_1.choices[0].message.content"
   ]
  },
  {
   "cell_type": "code",
   "execution_count": 5,
   "id": "03616e62",
   "metadata": {},
   "outputs": [
    {
     "data": {
      "text/markdown": [
       "To formulate a mathematical optimization model for this problem, we will define the following parameters, decision variables, objective function, and constraints:\n",
       "\n",
       "Parameters:\n",
       "- n: Number of patients (n = 17)\n",
       "- C: Total proton therapy capacity (C = 100)\n",
       "- BED_ij: Biological Equivalent Dose score for patient i when using j proton fractions\n",
       "\n",
       "Decision Variables:\n",
       "- x_ij: Number of proton fractions assigned to patient i (integer variable, i ∈ {1, ..., n}, j ∈ {0, ..., 15})\n",
       "\n",
       "Objective Function:\n",
       "Maximize the total BED scores for all patients:\n",
       "\n",
       "max Σ_i Σ_j BED_ij * x_ij\n",
       "\n",
       "Constraints:\n",
       "\n",
       "1. Each patient must receive exactly 15 fractions of treatment:\n",
       "Σ_j x_ij = 15, for i ∈ {1, ..., n}\n",
       "\n",
       "2. The total number of proton fractions used should not exceed the capacity limit:\n",
       "Σ_i Σ_j j * x_ij ≤ C\n",
       "\n",
       "3. The number of proton fractions assigned to each patient should be less than or equal to the total number of fractions (15):\n",
       "x_ij ≤ 15, for i ∈ {1, ..., n}, j ∈ {0, ..., 15}\n",
       "\n",
       "4. The decision variables x_ij should be non-negative integers:\n",
       "x_ij ∈ {0, 1, ..., 15}, for i ∈ {1, ..., n}, j ∈ {0, ..., 15}\n",
       "\n",
       "This optimization model can be solved using integer linear programming techniques. Once the model is solved, the optimal values of decision variables x_ij will provide the number of proton fractions to be assigned to each patient to maximize the total BED scores while staying within the proton therapy capacity limit."
      ],
      "text/plain": [
       "<IPython.core.display.Markdown object>"
      ]
     },
     "execution_count": 5,
     "metadata": {},
     "output_type": "execute_result"
    }
   ],
   "source": [
    "Markdown(response_1_text)"
   ]
  },
  {
   "cell_type": "code",
   "execution_count": 6,
   "id": "b6a33171",
   "metadata": {},
   "outputs": [
    {
     "name": "stdout",
     "output_type": "stream",
     "text": [
      "To formulate a mathematical optimization model for this problem, we will define the following parameters, decision variables, objective function, and constraints:\n",
      "\n",
      "Parameters:\n",
      "- n: Number of patients (n = 17)\n",
      "- C: Total proton therapy capacity (C = 100)\n",
      "- BED_ij: Biological Equivalent Dose score for patient i when using j proton fractions\n",
      "\n",
      "Decision Variables:\n",
      "- x_ij: Number of proton fractions assigned to patient i (integer variable, i ∈ {1, ..., n}, j ∈ {0, ..., 15})\n",
      "\n",
      "Objective Function:\n",
      "Maximize the total BED scores for all patients:\n",
      "\n",
      "max Σ_i Σ_j BED_ij * x_ij\n",
      "\n",
      "Constraints:\n",
      "\n",
      "1. Each patient must receive exactly 15 fractions of treatment:\n",
      "Σ_j x_ij = 15, for i ∈ {1, ..., n}\n",
      "\n",
      "2. The total number of proton fractions used should not exceed the capacity limit:\n",
      "Σ_i Σ_j j * x_ij ≤ C\n",
      "\n",
      "3. The number of proton fractions assigned to each patient should be less than or equal to the total number of fractions (15):\n",
      "x_ij ≤ 15, for i ∈ {1, ..., n}, j ∈ {0, ..., 15}\n",
      "\n",
      "4. The decision variables x_ij should be non-negative integers:\n",
      "x_ij ∈ {0, 1, ..., 15}, for i ∈ {1, ..., n}, j ∈ {0, ..., 15}\n",
      "\n",
      "This optimization model can be solved using integer linear programming techniques. Once the model is solved, the optimal values of decision variables x_ij will provide the number of proton fractions to be assigned to each patient to maximize the total BED scores while staying within the proton therapy capacity limit.\n"
     ]
    }
   ],
   "source": [
    "print(response_1_text)"
   ]
  },
  {
   "cell_type": "markdown",
   "id": "27b5f89a",
   "metadata": {},
   "source": [
    "## Step 2 - Generate the Pyomo Code"
   ]
  },
  {
   "cell_type": "code",
   "execution_count": 7,
   "id": "a4c3312f",
   "metadata": {},
   "outputs": [],
   "source": [
    "messages_2 = [\n",
    "    ChatMessage(role=\"system\", content=SYSTEM_PROMPT_2),\n",
    "    ChatMessage(role=\"user\", content=response_1_text)\n",
    "]"
   ]
  },
  {
   "cell_type": "code",
   "execution_count": 8,
   "id": "4212d99d",
   "metadata": {},
   "outputs": [],
   "source": [
    "response_2 = client.chat(\n",
    "    model=MODEL_ID,\n",
    "    messages=messages_2,\n",
    "    random_seed=MODEL_SEED,\n",
    "    temperature=MODEL_TEMPERATURE\n",
    ")\n",
    "\n",
    "response_2_text = response_2.choices[0].message.content"
   ]
  },
  {
   "cell_type": "code",
   "execution_count": 9,
   "id": "41d9b7d1",
   "metadata": {},
   "outputs": [
    {
     "data": {
      "text/markdown": [
       "To solve this optimization problem using Pyomo, we will first need to install the necessary packages. You can do this by running:\n",
       "\n",
       "```bash\n",
       "pip install pyomo\n",
       "pip install pyomo.solvers\n",
       "```\n",
       "\n",
       "Now, let's write the Pyomo code for this problem. In this code, we will use sample data for `BED_ij`.\n",
       "\n",
       "```python\n",
       "import pyomo.environ as pyo\n",
       "\n",
       "# Sample data\n",
       "n = 17\n",
       "C = 100\n",
       "BED = {(i, j): (i + 1) * (j + 1) for i in range(n) for j in range(16)}\n",
       "\n",
       "model = pyo.ConcreteModel()\n",
       "\n",
       "# Sets\n",
       "model.I = pyo.RangeSet(1, n)\n",
       "model.J = pyo.RangeSet(0, 15)\n",
       "\n",
       "# Decision variables\n",
       "model.x = pyo.Var(model.I, model.J, domain=pyo.NonNegativeIntegers, bounds=(0, 15))\n",
       "\n",
       "# Objective function\n",
       "def objective_rule(model):\n",
       "    return sum(BED[i, j] * model.x[i, j] for i in model.I for j in model.J)\n",
       "\n",
       "model.objective = pyo.Objective(rule=objective_rule, sense=pyo.maximize)\n",
       "\n",
       "# Constraints\n",
       "def constraint1_rule(model, i):\n",
       "    return sum(model.x[i, j] for j in model.J) == 15\n",
       "\n",
       "model.constraint1 = pyo.Constraint(model.I, rule=constraint1_rule)\n",
       "\n",
       "def constraint2_rule(model):\n",
       "    return sum(j * model.x[i, j] for i in model.I for j in model.J) <= C\n",
       "\n",
       "model.constraint2 = pyo.Constraint(rule=constraint2_rule)\n",
       "\n",
       "def constraint3_rule(model, i, j):\n",
       "    return model.x[i, j] <= 15\n",
       "\n",
       "model.constraint3 = pyo.Constraint(model.I, model.J, rule=constraint3_rule)\n",
       "\n",
       "# Solve the model\n",
       "solver = pyo.SolverFactory('glpk')\n",
       "results = solver.solve(model)\n",
       "\n",
       "# Print results\n",
       "print(\"Total BED score:\", pyo.value(model.objective))\n",
       "for i in model.I:\n",
       "    print(f\"Patient {i}: {[model.x[i, j].value for j in model.J]}\")\n",
       "```\n",
       "\n",
       "This code creates a Pyomo model for the given optimization problem and solves it using the GLPK solver. The results display the total BED score and the number of proton fractions assigned to each patient."
      ],
      "text/plain": [
       "<IPython.core.display.Markdown object>"
      ]
     },
     "execution_count": 9,
     "metadata": {},
     "output_type": "execute_result"
    }
   ],
   "source": [
    "Markdown(response_2_text)"
   ]
  },
  {
   "cell_type": "code",
   "execution_count": 10,
   "id": "a380c180",
   "metadata": {},
   "outputs": [
    {
     "name": "stdout",
     "output_type": "stream",
     "text": [
      "To solve this optimization problem using Pyomo, we will first need to install the necessary packages. You can do this by running:\n",
      "\n",
      "```bash\n",
      "pip install pyomo\n",
      "pip install pyomo.solvers\n",
      "```\n",
      "\n",
      "Now, let's write the Pyomo code for this problem. In this code, we will use sample data for `BED_ij`.\n",
      "\n",
      "```python\n",
      "import pyomo.environ as pyo\n",
      "\n",
      "# Sample data\n",
      "n = 17\n",
      "C = 100\n",
      "BED = {(i, j): (i + 1) * (j + 1) for i in range(n) for j in range(16)}\n",
      "\n",
      "model = pyo.ConcreteModel()\n",
      "\n",
      "# Sets\n",
      "model.I = pyo.RangeSet(1, n)\n",
      "model.J = pyo.RangeSet(0, 15)\n",
      "\n",
      "# Decision variables\n",
      "model.x = pyo.Var(model.I, model.J, domain=pyo.NonNegativeIntegers, bounds=(0, 15))\n",
      "\n",
      "# Objective function\n",
      "def objective_rule(model):\n",
      "    return sum(BED[i, j] * model.x[i, j] for i in model.I for j in model.J)\n",
      "\n",
      "model.objective = pyo.Objective(rule=objective_rule, sense=pyo.maximize)\n",
      "\n",
      "# Constraints\n",
      "def constraint1_rule(model, i):\n",
      "    return sum(model.x[i, j] for j in model.J) == 15\n",
      "\n",
      "model.constraint1 = pyo.Constraint(model.I, rule=constraint1_rule)\n",
      "\n",
      "def constraint2_rule(model):\n",
      "    return sum(j * model.x[i, j] for i in model.I for j in model.J) <= C\n",
      "\n",
      "model.constraint2 = pyo.Constraint(rule=constraint2_rule)\n",
      "\n",
      "def constraint3_rule(model, i, j):\n",
      "    return model.x[i, j] <= 15\n",
      "\n",
      "model.constraint3 = pyo.Constraint(model.I, model.J, rule=constraint3_rule)\n",
      "\n",
      "# Solve the model\n",
      "solver = pyo.SolverFactory('glpk')\n",
      "results = solver.solve(model)\n",
      "\n",
      "# Print results\n",
      "print(\"Total BED score:\", pyo.value(model.objective))\n",
      "for i in model.I:\n",
      "    print(f\"Patient {i}: {[model.x[i, j].value for j in model.J]}\")\n",
      "```\n",
      "\n",
      "This code creates a Pyomo model for the given optimization problem and solves it using the GLPK solver. The results display the total BED score and the number of proton fractions assigned to each patient.\n"
     ]
    }
   ],
   "source": [
    "print(response_2_text)"
   ]
  },
  {
   "cell_type": "markdown",
   "id": "879cc7ae",
   "metadata": {},
   "source": [
    "### Code Executability"
   ]
  },
  {
   "cell_type": "code",
   "execution_count": 11,
   "id": "f1d9a625",
   "metadata": {},
   "outputs": [
    {
     "name": "stderr",
     "output_type": "stream",
     "text": [
      "2024-05-17 15:54:13,354 ERROR pyomo.core: Rule failed when generating expression for Objective objective with index None:\n",
      "KeyError: (17, 0)\n",
      "2024-05-17 15:54:13,355 ERROR pyomo.core: Constructing component 'objective' from data=None failed:\n",
      "KeyError: (17, 0)\n"
     ]
    },
    {
     "ename": "KeyError",
     "evalue": "(17, 0)",
     "output_type": "error",
     "traceback": [
      "\u001b[1;31m---------------------------------------------------------------------------\u001b[0m",
      "\u001b[1;31mKeyError\u001b[0m                                  Traceback (most recent call last)",
      "Input \u001b[1;32mIn [11]\u001b[0m, in \u001b[0;36m<cell line: 21>\u001b[1;34m()\u001b[0m\n\u001b[0;32m     18\u001b[0m \u001b[38;5;28;01mdef\u001b[39;00m \u001b[38;5;21mobjective_rule\u001b[39m(model):\n\u001b[0;32m     19\u001b[0m     \u001b[38;5;28;01mreturn\u001b[39;00m \u001b[38;5;28msum\u001b[39m(BED[i, j] \u001b[38;5;241m*\u001b[39m model\u001b[38;5;241m.\u001b[39mx[i, j] \u001b[38;5;28;01mfor\u001b[39;00m i \u001b[38;5;129;01min\u001b[39;00m model\u001b[38;5;241m.\u001b[39mI \u001b[38;5;28;01mfor\u001b[39;00m j \u001b[38;5;129;01min\u001b[39;00m model\u001b[38;5;241m.\u001b[39mJ)\n\u001b[1;32m---> 21\u001b[0m model\u001b[38;5;241m.\u001b[39mobjective \u001b[38;5;241m=\u001b[39m pyo\u001b[38;5;241m.\u001b[39mObjective(rule\u001b[38;5;241m=\u001b[39mobjective_rule, sense\u001b[38;5;241m=\u001b[39mpyo\u001b[38;5;241m.\u001b[39mmaximize)\n\u001b[0;32m     23\u001b[0m \u001b[38;5;66;03m# Constraints\u001b[39;00m\n\u001b[0;32m     24\u001b[0m \u001b[38;5;28;01mdef\u001b[39;00m \u001b[38;5;21mconstraint1_rule\u001b[39m(model, i):\n",
      "File \u001b[1;32m~\\AppData\\Roaming\\Python\\Python310\\site-packages\\pyomo\\core\\base\\block.py:639\u001b[0m, in \u001b[0;36m_BlockData.__setattr__\u001b[1;34m(self, name, val)\u001b[0m\n\u001b[0;32m    634\u001b[0m \u001b[38;5;28;01mif\u001b[39;00m name \u001b[38;5;129;01mnot\u001b[39;00m \u001b[38;5;129;01min\u001b[39;00m \u001b[38;5;28mself\u001b[39m\u001b[38;5;241m.\u001b[39m\u001b[38;5;18m__dict__\u001b[39m:\n\u001b[0;32m    635\u001b[0m     \u001b[38;5;28;01mif\u001b[39;00m \u001b[38;5;28misinstance\u001b[39m(val, Component):\n\u001b[0;32m    636\u001b[0m         \u001b[38;5;66;03m#\u001b[39;00m\n\u001b[0;32m    637\u001b[0m         \u001b[38;5;66;03m# Pyomo components are added with the add_component method.\u001b[39;00m\n\u001b[0;32m    638\u001b[0m         \u001b[38;5;66;03m#\u001b[39;00m\n\u001b[1;32m--> 639\u001b[0m         \u001b[38;5;28;43mself\u001b[39;49m\u001b[38;5;241;43m.\u001b[39;49m\u001b[43madd_component\u001b[49m\u001b[43m(\u001b[49m\u001b[43mname\u001b[49m\u001b[43m,\u001b[49m\u001b[43m \u001b[49m\u001b[43mval\u001b[49m\u001b[43m)\u001b[49m\n\u001b[0;32m    640\u001b[0m     \u001b[38;5;28;01melse\u001b[39;00m:\n\u001b[0;32m    641\u001b[0m         \u001b[38;5;66;03m#\u001b[39;00m\n\u001b[0;32m    642\u001b[0m         \u001b[38;5;66;03m# Other Python objects are added with the standard __setattr__\u001b[39;00m\n\u001b[0;32m    643\u001b[0m         \u001b[38;5;66;03m# method.\u001b[39;00m\n\u001b[0;32m    644\u001b[0m         \u001b[38;5;66;03m#\u001b[39;00m\n\u001b[0;32m    645\u001b[0m         \u001b[38;5;28msuper\u001b[39m(_BlockData, \u001b[38;5;28mself\u001b[39m)\u001b[38;5;241m.\u001b[39m\u001b[38;5;21m__setattr__\u001b[39m(name, val)\n",
      "File \u001b[1;32m~\\AppData\\Roaming\\Python\\Python310\\site-packages\\pyomo\\core\\base\\block.py:1186\u001b[0m, in \u001b[0;36m_BlockData.add_component\u001b[1;34m(self, name, val)\u001b[0m\n\u001b[0;32m   1182\u001b[0m     logger\u001b[38;5;241m.\u001b[39mdebug(\u001b[38;5;124m\"\u001b[39m\u001b[38;5;124mConstructing \u001b[39m\u001b[38;5;132;01m%s\u001b[39;00m\u001b[38;5;124m \u001b[39m\u001b[38;5;124m'\u001b[39m\u001b[38;5;132;01m%s\u001b[39;00m\u001b[38;5;124m'\u001b[39m\u001b[38;5;124m on \u001b[39m\u001b[38;5;132;01m%s\u001b[39;00m\u001b[38;5;124m from data=\u001b[39m\u001b[38;5;132;01m%s\u001b[39;00m\u001b[38;5;124m\"\u001b[39m,\n\u001b[0;32m   1183\u001b[0m                  val\u001b[38;5;241m.\u001b[39m\u001b[38;5;18m__class__\u001b[39m\u001b[38;5;241m.\u001b[39m\u001b[38;5;18m__name__\u001b[39m, name,\n\u001b[0;32m   1184\u001b[0m                  _blockName, \u001b[38;5;28mstr\u001b[39m(data))\n\u001b[0;32m   1185\u001b[0m \u001b[38;5;28;01mtry\u001b[39;00m:\n\u001b[1;32m-> 1186\u001b[0m     \u001b[43mval\u001b[49m\u001b[38;5;241;43m.\u001b[39;49m\u001b[43mconstruct\u001b[49m\u001b[43m(\u001b[49m\u001b[43mdata\u001b[49m\u001b[43m)\u001b[49m\n\u001b[0;32m   1187\u001b[0m \u001b[38;5;28;01mexcept\u001b[39;00m:\n\u001b[0;32m   1188\u001b[0m     err \u001b[38;5;241m=\u001b[39m sys\u001b[38;5;241m.\u001b[39mexc_info()[\u001b[38;5;241m1\u001b[39m]\n",
      "File \u001b[1;32m~\\AppData\\Roaming\\Python\\Python310\\site-packages\\pyomo\\core\\base\\objective.py:334\u001b[0m, in \u001b[0;36mObjective.construct\u001b[1;34m(self, data)\u001b[0m\n\u001b[0;32m    330\u001b[0m \u001b[38;5;28;01melse\u001b[39;00m:\n\u001b[0;32m    331\u001b[0m     \u001b[38;5;66;03m# Bypass the index validation and create the member directly\u001b[39;00m\n\u001b[0;32m    332\u001b[0m     \u001b[38;5;28;01mfor\u001b[39;00m index \u001b[38;5;129;01min\u001b[39;00m \u001b[38;5;28mself\u001b[39m\u001b[38;5;241m.\u001b[39mindex_set():\n\u001b[0;32m    333\u001b[0m         ans \u001b[38;5;241m=\u001b[39m \u001b[38;5;28mself\u001b[39m\u001b[38;5;241m.\u001b[39m_setitem_when_not_present(\n\u001b[1;32m--> 334\u001b[0m             index, \u001b[43mrule\u001b[49m\u001b[43m(\u001b[49m\u001b[43mblock\u001b[49m\u001b[43m,\u001b[49m\u001b[43m \u001b[49m\u001b[43mindex\u001b[49m\u001b[43m)\u001b[49m)\n\u001b[0;32m    335\u001b[0m         \u001b[38;5;28;01mif\u001b[39;00m ans \u001b[38;5;129;01mis\u001b[39;00m \u001b[38;5;129;01mnot\u001b[39;00m \u001b[38;5;28;01mNone\u001b[39;00m:\n\u001b[0;32m    336\u001b[0m             ans\u001b[38;5;241m.\u001b[39mset_sense(\u001b[38;5;28mself\u001b[39m\u001b[38;5;241m.\u001b[39m_init_sense(block, index))\n",
      "File \u001b[1;32m~\\AppData\\Roaming\\Python\\Python310\\site-packages\\pyomo\\core\\base\\initializer.py:402\u001b[0m, in \u001b[0;36mScalarCallInitializer.__call__\u001b[1;34m(self, parent, idx)\u001b[0m\n\u001b[0;32m    401\u001b[0m \u001b[38;5;28;01mdef\u001b[39;00m \u001b[38;5;21m__call__\u001b[39m(\u001b[38;5;28mself\u001b[39m, parent, idx):\n\u001b[1;32m--> 402\u001b[0m     \u001b[38;5;28;01mreturn\u001b[39;00m \u001b[38;5;28;43mself\u001b[39;49m\u001b[38;5;241;43m.\u001b[39;49m\u001b[43m_fcn\u001b[49m\u001b[43m(\u001b[49m\u001b[43mparent\u001b[49m\u001b[43m)\u001b[49m\n",
      "Input \u001b[1;32mIn [11]\u001b[0m, in \u001b[0;36mobjective_rule\u001b[1;34m(model)\u001b[0m\n\u001b[0;32m     18\u001b[0m \u001b[38;5;28;01mdef\u001b[39;00m \u001b[38;5;21mobjective_rule\u001b[39m(model):\n\u001b[1;32m---> 19\u001b[0m     \u001b[38;5;28;01mreturn\u001b[39;00m \u001b[38;5;28;43msum\u001b[39;49m\u001b[43m(\u001b[49m\u001b[43mBED\u001b[49m\u001b[43m[\u001b[49m\u001b[43mi\u001b[49m\u001b[43m,\u001b[49m\u001b[43m \u001b[49m\u001b[43mj\u001b[49m\u001b[43m]\u001b[49m\u001b[43m \u001b[49m\u001b[38;5;241;43m*\u001b[39;49m\u001b[43m \u001b[49m\u001b[43mmodel\u001b[49m\u001b[38;5;241;43m.\u001b[39;49m\u001b[43mx\u001b[49m\u001b[43m[\u001b[49m\u001b[43mi\u001b[49m\u001b[43m,\u001b[49m\u001b[43m \u001b[49m\u001b[43mj\u001b[49m\u001b[43m]\u001b[49m\u001b[43m \u001b[49m\u001b[38;5;28;43;01mfor\u001b[39;49;00m\u001b[43m \u001b[49m\u001b[43mi\u001b[49m\u001b[43m \u001b[49m\u001b[38;5;129;43;01min\u001b[39;49;00m\u001b[43m \u001b[49m\u001b[43mmodel\u001b[49m\u001b[38;5;241;43m.\u001b[39;49m\u001b[43mI\u001b[49m\u001b[43m \u001b[49m\u001b[38;5;28;43;01mfor\u001b[39;49;00m\u001b[43m \u001b[49m\u001b[43mj\u001b[49m\u001b[43m \u001b[49m\u001b[38;5;129;43;01min\u001b[39;49;00m\u001b[43m \u001b[49m\u001b[43mmodel\u001b[49m\u001b[38;5;241;43m.\u001b[39;49m\u001b[43mJ\u001b[49m\u001b[43m)\u001b[49m\n",
      "Input \u001b[1;32mIn [11]\u001b[0m, in \u001b[0;36m<genexpr>\u001b[1;34m(.0)\u001b[0m\n\u001b[0;32m     18\u001b[0m \u001b[38;5;28;01mdef\u001b[39;00m \u001b[38;5;21mobjective_rule\u001b[39m(model):\n\u001b[1;32m---> 19\u001b[0m     \u001b[38;5;28;01mreturn\u001b[39;00m \u001b[38;5;28msum\u001b[39m(\u001b[43mBED\u001b[49m\u001b[43m[\u001b[49m\u001b[43mi\u001b[49m\u001b[43m,\u001b[49m\u001b[43m \u001b[49m\u001b[43mj\u001b[49m\u001b[43m]\u001b[49m \u001b[38;5;241m*\u001b[39m model\u001b[38;5;241m.\u001b[39mx[i, j] \u001b[38;5;28;01mfor\u001b[39;00m i \u001b[38;5;129;01min\u001b[39;00m model\u001b[38;5;241m.\u001b[39mI \u001b[38;5;28;01mfor\u001b[39;00m j \u001b[38;5;129;01min\u001b[39;00m model\u001b[38;5;241m.\u001b[39mJ)\n",
      "\u001b[1;31mKeyError\u001b[0m: (17, 0)"
     ]
    }
   ],
   "source": [
    "import pyomo.environ as pyo\n",
    "\n",
    "# Sample data\n",
    "n = 17\n",
    "C = 100\n",
    "BED = {(i, j): (i + 1) * (j + 1) for i in range(n) for j in range(16)}\n",
    "\n",
    "model = pyo.ConcreteModel()\n",
    "\n",
    "# Sets\n",
    "model.I = pyo.RangeSet(1, n)\n",
    "model.J = pyo.RangeSet(0, 15)\n",
    "\n",
    "# Decision variables\n",
    "model.x = pyo.Var(model.I, model.J, domain=pyo.NonNegativeIntegers, bounds=(0, 15))\n",
    "\n",
    "# Objective function\n",
    "def objective_rule(model):\n",
    "    return sum(BED[i, j] * model.x[i, j] for i in model.I for j in model.J)\n",
    "\n",
    "model.objective = pyo.Objective(rule=objective_rule, sense=pyo.maximize)\n",
    "\n",
    "# Constraints\n",
    "def constraint1_rule(model, i):\n",
    "    return sum(model.x[i, j] for j in model.J) == 15\n",
    "\n",
    "model.constraint1 = pyo.Constraint(model.I, rule=constraint1_rule)\n",
    "\n",
    "def constraint2_rule(model):\n",
    "    return sum(j * model.x[i, j] for i in model.I for j in model.J) <= C\n",
    "\n",
    "model.constraint2 = pyo.Constraint(rule=constraint2_rule)\n",
    "\n",
    "def constraint3_rule(model, i, j):\n",
    "    return model.x[i, j] <= 15\n",
    "\n",
    "model.constraint3 = pyo.Constraint(model.I, model.J, rule=constraint3_rule)\n",
    "\n",
    "# Solve the model\n",
    "solver = pyo.SolverFactory('glpk')\n",
    "results = solver.solve(model)\n",
    "\n",
    "# Print results\n",
    "print(\"Total BED score:\", pyo.value(model.objective))\n",
    "for i in model.I:\n",
    "    print(f\"Patient {i}: {[model.x[i, j].value for j in model.J]}\")"
   ]
  },
  {
   "cell_type": "markdown",
   "id": "95f5c3a8",
   "metadata": {},
   "source": [
    "### Solution Correctness"
   ]
  },
  {
   "cell_type": "code",
   "execution_count": 21,
   "id": "01245691",
   "metadata": {},
   "outputs": [
    {
     "name": "stdout",
     "output_type": "stream",
     "text": [
      "Total BED score: 85.10000000000001\n",
      "Patient 1: [15.0, 0.0, 0.0, 0.0, 0.0, 0.0, 0.0, 0.0, 0.0, 0.0, 0.0, 0.0, 0.0, 0.0, 0.0, 0.0]\n",
      "Patient 2: [15.0, 0.0, 0.0, 0.0, 0.0, 0.0, 0.0, 0.0, 0.0, 0.0, 0.0, 0.0, 0.0, 0.0, 0.0, 0.0]\n",
      "Patient 3: [0.0, 0.0, 0.0, 15.0, 0.0, 0.0, 0.0, 0.0, 0.0, 0.0, 0.0, 0.0, 0.0, 0.0, 0.0, 0.0]\n",
      "Patient 4: [15.0, 0.0, 0.0, 0.0, 0.0, 0.0, 0.0, 0.0, 0.0, 0.0, 0.0, 0.0, 0.0, 0.0, 0.0, 0.0]\n",
      "Patient 5: [4.0, 0.0, 0.0, 0.0, 0.0, 11.0, 0.0, 0.0, 0.0, 0.0, 0.0, 0.0, 0.0, 0.0, 0.0, 0.0]\n",
      "Patient 6: [15.0, 0.0, 0.0, 0.0, 0.0, 0.0, 0.0, 0.0, 0.0, 0.0, 0.0, 0.0, 0.0, 0.0, 0.0, 0.0]\n",
      "Patient 7: [15.0, 0.0, 0.0, 0.0, 0.0, 0.0, 0.0, 0.0, 0.0, 0.0, 0.0, 0.0, 0.0, 0.0, 0.0, 0.0]\n",
      "Patient 8: [15.0, 0.0, 0.0, 0.0, 0.0, 0.0, 0.0, 0.0, 0.0, 0.0, 0.0, 0.0, 0.0, 0.0, 0.0, 0.0]\n",
      "Patient 9: [15.0, 0.0, 0.0, 0.0, 0.0, 0.0, 0.0, 0.0, 0.0, 0.0, 0.0, 0.0, 0.0, 0.0, 0.0, 0.0]\n",
      "Patient 10: [15.0, 0.0, 0.0, 0.0, 0.0, 0.0, 0.0, 0.0, 0.0, 0.0, 0.0, 0.0, 0.0, 0.0, 0.0, 0.0]\n",
      "Patient 11: [15.0, 0.0, 0.0, 0.0, 0.0, 0.0, 0.0, 0.0, 0.0, 0.0, 0.0, 0.0, 0.0, 0.0, 0.0, 0.0]\n",
      "Patient 12: [15.0, 0.0, 0.0, 0.0, 0.0, 0.0, 0.0, 0.0, 0.0, 0.0, 0.0, 0.0, 0.0, 0.0, 0.0, 0.0]\n",
      "Patient 13: [15.0, 0.0, 0.0, 0.0, 0.0, 0.0, 0.0, 0.0, 0.0, 0.0, 0.0, 0.0, 0.0, 0.0, 0.0, 0.0]\n",
      "Patient 14: [15.0, 0.0, 0.0, 0.0, 0.0, 0.0, 0.0, 0.0, 0.0, 0.0, 0.0, 0.0, 0.0, 0.0, 0.0, 0.0]\n",
      "Patient 15: [15.0, 0.0, 0.0, 0.0, 0.0, 0.0, 0.0, 0.0, 0.0, 0.0, 0.0, 0.0, 0.0, 0.0, 0.0, 0.0]\n",
      "Patient 16: [15.0, 0.0, 0.0, 0.0, 0.0, 0.0, 0.0, 0.0, 0.0, 0.0, 0.0, 0.0, 0.0, 0.0, 0.0, 0.0]\n",
      "Patient 17: [15.0, 0.0, 0.0, 0.0, 0.0, 0.0, 0.0, 0.0, 0.0, 0.0, 0.0, 0.0, 0.0, 0.0, 0.0, 0.0]\n"
     ]
    }
   ],
   "source": [
    "import pyomo.environ as pyo\n",
    "\n",
    "# Sample data\n",
    "n = 17\n",
    "C = 100\n",
    "BED = {}\n",
    "with open(FILE_PATH_PROBLEM + 'ProblemData.csv', 'r') as f:\n",
    "    for i, line in enumerate(f):\n",
    "        for j, val in enumerate(line.strip().split(',')):\n",
    "            BED[(i + 1, j)] = float(val)\n",
    "\n",
    "model = pyo.ConcreteModel()\n",
    "\n",
    "# Sets\n",
    "model.I = pyo.RangeSet(1, n)\n",
    "model.J = pyo.RangeSet(0, 15)\n",
    "\n",
    "# Decision variables\n",
    "model.x = pyo.Var(model.I, model.J, domain=pyo.NonNegativeIntegers, bounds=(0, 15))\n",
    "\n",
    "# Objective function\n",
    "def objective_rule(model):\n",
    "    return sum(BED[i, j] * model.x[i, j] for i in model.I for j in model.J)\n",
    "\n",
    "model.objective = pyo.Objective(rule=objective_rule, sense=pyo.maximize)\n",
    "\n",
    "# Constraints\n",
    "def constraint1_rule(model, i):\n",
    "    return sum(model.x[i, j] for j in model.J) == 15\n",
    "\n",
    "model.constraint1 = pyo.Constraint(model.I, rule=constraint1_rule)\n",
    "\n",
    "def constraint2_rule(model):\n",
    "    return sum(j * model.x[i, j] for i in model.I for j in model.J) <= C\n",
    "\n",
    "model.constraint2 = pyo.Constraint(rule=constraint2_rule)\n",
    "\n",
    "def constraint3_rule(model, i, j):\n",
    "    return model.x[i, j] <= 15\n",
    "\n",
    "model.constraint3 = pyo.Constraint(model.I, model.J, rule=constraint3_rule)\n",
    "\n",
    "# Solve the model\n",
    "solver = pyo.SolverFactory('glpk')\n",
    "results = solver.solve(model)\n",
    "\n",
    "# Print results\n",
    "print(\"Total BED score:\", pyo.value(model.objective))\n",
    "for i in model.I:\n",
    "    print(f\"Patient {i}: {[model.x[i, j].value for j in model.J]}\")"
   ]
  }
 ],
 "metadata": {
  "kernelspec": {
   "display_name": "Python 3 (ipykernel)",
   "language": "python",
   "name": "python3"
  },
  "language_info": {
   "codemirror_mode": {
    "name": "ipython",
    "version": 3
   },
   "file_extension": ".py",
   "mimetype": "text/x-python",
   "name": "python",
   "nbconvert_exporter": "python",
   "pygments_lexer": "ipython3",
   "version": "3.10.4"
  }
 },
 "nbformat": 4,
 "nbformat_minor": 5
}
