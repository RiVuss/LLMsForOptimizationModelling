{
 "cells": [
  {
   "cell_type": "code",
   "execution_count": 3,
   "id": "e5c2c174",
   "metadata": {},
   "outputs": [],
   "source": [
    "import os\n",
    "from mistralai.client import MistralClient\n",
    "from mistralai.models.chat_completion import ChatMessage\n",
    "from IPython.display import display, Markdown, Latex\n",
    "from datetime import datetime"
   ]
  },
  {
   "cell_type": "code",
   "execution_count": 4,
   "id": "b0c91a62",
   "metadata": {},
   "outputs": [
    {
     "name": "stdout",
     "output_type": "stream",
     "text": [
      "Time of execution: 2024-05-22 17:39:27.148373\n"
     ]
    }
   ],
   "source": [
    "API_KEY = os.environ['MISTRAL_API_KEY']\n",
    "\n",
    "MODEL_ID = 'open-mixtral-8x22b'\n",
    "MODEL_SEED = 3\n",
    "MODEL_TEMPERATURE = 0.7\n",
    "\n",
    "file_system_prompt_1 = open(\"../../system_prompt_1.txt\", \"r\")\n",
    "file_system_prompt_2 = open(\"../../system_prompt_2.txt\", \"r\")\n",
    "SYSTEM_PROMPT_1 = file_system_prompt_1.read()\n",
    "SYSTEM_PROMPT_2 = file_system_prompt_2.read()\n",
    "file_system_prompt_1.close()\n",
    "file_system_prompt_2.close()\n",
    "\n",
    "FILE_PATH_PROBLEM = '../../../../Datasets/LP_4_TheFarmersProblem/'\n",
    "assert(FILE_PATH_PROBLEM != '../../../../Datasets/')\n",
    "file_problem_description = open(FILE_PATH_PROBLEM + 'ProblemDescription.txt', 'r')\n",
    "PROBLEM_DESCRIPTION = file_problem_description.read()\n",
    "file_problem_description.close()\n",
    "\n",
    "\n",
    "client = MistralClient(api_key=API_KEY)\n",
    "\n",
    "print(f'Time of execution: {datetime.now()}')"
   ]
  },
  {
   "cell_type": "markdown",
   "id": "3e540824",
   "metadata": {},
   "source": [
    "## Step 1 - Generate Mathematical Formulation "
   ]
  },
  {
   "cell_type": "code",
   "execution_count": 5,
   "id": "174c127b",
   "metadata": {},
   "outputs": [],
   "source": [
    "messages_1 = [\n",
    "    ChatMessage(role=\"system\", content=SYSTEM_PROMPT_1),\n",
    "    ChatMessage(role=\"user\", content=PROBLEM_DESCRIPTION)\n",
    "]"
   ]
  },
  {
   "cell_type": "code",
   "execution_count": 6,
   "id": "d43340f3",
   "metadata": {},
   "outputs": [],
   "source": [
    "response_1 = client.chat(\n",
    "    model=MODEL_ID,\n",
    "    messages=messages_1,\n",
    "    random_seed=MODEL_SEED,\n",
    "    temperature=MODEL_TEMPERATURE \n",
    ")\n",
    "\n",
    "response_1_text = response_1.choices[0].message.content"
   ]
  },
  {
   "cell_type": "code",
   "execution_count": 7,
   "id": "03616e62",
   "metadata": {},
   "outputs": [
    {
     "data": {
      "text/markdown": [
       "This problem can be formulated as a linear programming problem, a type of mathematical optimization model. Here's how to formulate it:\n",
       "\n",
       "Parameters:\n",
       "- Let Wp = $170 be the selling price of wheat per ton\n",
       "- Let Cp = $150 be the selling price of corn per ton\n",
       "- Let Bp1 = $36 be the selling price of sugar beets per ton for the first 6000 tons\n",
       "- Let Bp2 = $10 be the selling price of sugar beets per ton for any amount over 6000 tons\n",
       "- Let Wc = $150 be the cost to plant an acre of wheat\n",
       "- Let Cc = $230 be the cost to plant an acre of corn\n",
       "- Let Bc = $260 be the cost to plant an acre of sugar beets\n",
       "- Let W = 2.5 be the yield of wheat per acre\n",
       "- Let C = 3 be the yield of corn per acre\n",
       "- Let B = 20 be the yield of sugar beets per acre\n",
       "- Let L = 500 be the total acres of land available\n",
       "- Let Wm = 200 tons be the minimum requirement for wheat\n",
       "- Let Cm = 240 tons be the minimum requirement for corn\n",
       "- Let Bq = 6000 tons be the sugar beet quota\n",
       "- Let Ws = 1.4 be the selling to purchase price ratio for wheat\n",
       "- Let Cs = 1.4 be the selling to purchase price ratio for corn\n",
       "\n",
       "Decision Variables:\n",
       "- Let w be the number of acres to devote to wheat\n",
       "- Let c be the number of acres to devote to corn\n",
       "- Let b be the number of acres to devote to sugar beets\n",
       "\n",
       "Objective Function:\n",
       "- Minimize the total costs (TC), which is the sum of the planting costs for each crop minus the total sales.\n",
       "\n",
       "Constraints:\n",
       "1. Total land constraint: w + c + b ≤ L\n",
       "2. Wheat production constraint: W * w ≥ Wm\n",
       "3. Corn production constraint: C * c ≥ Cm\n",
       "4. Sugar beet production constraints:\n",
       "   - B * b ≤ Bq (to ensure production does not exceed the quota)\n",
       "   - B * (b - (Bq / B)) + Bq * (Bp1 - Bp2) ≤ Bp2 * B * (b - (Bq / B)) (to ensure sales are priced correctly based on the quota)\n",
       "5. Non-negativity constraints: w, c, b ≥ 0\n",
       "\n",
       "So, the mathematical optimization model would be:\n",
       "\n",
       "Minimize: TC = Wc * w + Cc * c + Bc * b - Wp * W * w - Cp * C * c - (Bp1 * min(B * b, Bq) + Bp2 * max(0, B * b - Bq))\n",
       "\n",
       "Subject to:\n",
       "1. w + c + b ≤ L\n",
       "2. W * w ≥ Wm\n",
       "3. C * c ≥ Cm\n",
       "4. B * b ≤ Bq\n",
       "   B * (b - (Bq / B)) + Bq * (Bp1 - Bp2) ≤ Bp2 * B * (b - (Bq / B))\n",
       "5. w, c, b ≥ 0"
      ],
      "text/plain": [
       "<IPython.core.display.Markdown object>"
      ]
     },
     "execution_count": 7,
     "metadata": {},
     "output_type": "execute_result"
    }
   ],
   "source": [
    "Markdown(response_1_text)"
   ]
  },
  {
   "cell_type": "code",
   "execution_count": 8,
   "id": "b6a33171",
   "metadata": {},
   "outputs": [
    {
     "name": "stdout",
     "output_type": "stream",
     "text": [
      "This problem can be formulated as a linear programming problem, a type of mathematical optimization model. Here's how to formulate it:\n",
      "\n",
      "Parameters:\n",
      "- Let Wp = $170 be the selling price of wheat per ton\n",
      "- Let Cp = $150 be the selling price of corn per ton\n",
      "- Let Bp1 = $36 be the selling price of sugar beets per ton for the first 6000 tons\n",
      "- Let Bp2 = $10 be the selling price of sugar beets per ton for any amount over 6000 tons\n",
      "- Let Wc = $150 be the cost to plant an acre of wheat\n",
      "- Let Cc = $230 be the cost to plant an acre of corn\n",
      "- Let Bc = $260 be the cost to plant an acre of sugar beets\n",
      "- Let W = 2.5 be the yield of wheat per acre\n",
      "- Let C = 3 be the yield of corn per acre\n",
      "- Let B = 20 be the yield of sugar beets per acre\n",
      "- Let L = 500 be the total acres of land available\n",
      "- Let Wm = 200 tons be the minimum requirement for wheat\n",
      "- Let Cm = 240 tons be the minimum requirement for corn\n",
      "- Let Bq = 6000 tons be the sugar beet quota\n",
      "- Let Ws = 1.4 be the selling to purchase price ratio for wheat\n",
      "- Let Cs = 1.4 be the selling to purchase price ratio for corn\n",
      "\n",
      "Decision Variables:\n",
      "- Let w be the number of acres to devote to wheat\n",
      "- Let c be the number of acres to devote to corn\n",
      "- Let b be the number of acres to devote to sugar beets\n",
      "\n",
      "Objective Function:\n",
      "- Minimize the total costs (TC), which is the sum of the planting costs for each crop minus the total sales.\n",
      "\n",
      "Constraints:\n",
      "1. Total land constraint: w + c + b ≤ L\n",
      "2. Wheat production constraint: W * w ≥ Wm\n",
      "3. Corn production constraint: C * c ≥ Cm\n",
      "4. Sugar beet production constraints:\n",
      "   - B * b ≤ Bq (to ensure production does not exceed the quota)\n",
      "   - B * (b - (Bq / B)) + Bq * (Bp1 - Bp2) ≤ Bp2 * B * (b - (Bq / B)) (to ensure sales are priced correctly based on the quota)\n",
      "5. Non-negativity constraints: w, c, b ≥ 0\n",
      "\n",
      "So, the mathematical optimization model would be:\n",
      "\n",
      "Minimize: TC = Wc * w + Cc * c + Bc * b - Wp * W * w - Cp * C * c - (Bp1 * min(B * b, Bq) + Bp2 * max(0, B * b - Bq))\n",
      "\n",
      "Subject to:\n",
      "1. w + c + b ≤ L\n",
      "2. W * w ≥ Wm\n",
      "3. C * c ≥ Cm\n",
      "4. B * b ≤ Bq\n",
      "   B * (b - (Bq / B)) + Bq * (Bp1 - Bp2) ≤ Bp2 * B * (b - (Bq / B))\n",
      "5. w, c, b ≥ 0\n"
     ]
    }
   ],
   "source": [
    "print(response_1_text)"
   ]
  },
  {
   "cell_type": "markdown",
   "id": "27b5f89a",
   "metadata": {},
   "source": [
    "## Step 2 - Generate the Pyomo Code"
   ]
  },
  {
   "cell_type": "code",
   "execution_count": 9,
   "id": "a4c3312f",
   "metadata": {},
   "outputs": [],
   "source": [
    "messages_2 = [\n",
    "    ChatMessage(role=\"system\", content=SYSTEM_PROMPT_2),\n",
    "    ChatMessage(role=\"user\", content=response_1_text)\n",
    "]"
   ]
  },
  {
   "cell_type": "code",
   "execution_count": 10,
   "id": "4212d99d",
   "metadata": {},
   "outputs": [],
   "source": [
    "response_2 = client.chat(\n",
    "    model=MODEL_ID,\n",
    "    messages=messages_2,\n",
    "    random_seed=MODEL_SEED,\n",
    "    temperature=MODEL_TEMPERATURE\n",
    ")\n",
    "\n",
    "response_2_text = response_2.choices[0].message.content"
   ]
  },
  {
   "cell_type": "code",
   "execution_count": 11,
   "id": "c168a60b",
   "metadata": {},
   "outputs": [
    {
     "data": {
      "text/markdown": [
       "Here is a Python Pyomo code for the optimization problem:\n",
       "\n",
       "```python\n",
       "from pyomo.environ import *\n",
       "\n",
       "# Sample data\n",
       "Wp = 170\n",
       "Cp = 150\n",
       "Bp1 = 36\n",
       "Bp2 = 10\n",
       "Wc = 150\n",
       "Cc = 230\n",
       "Bc = 260\n",
       "W = 2.5\n",
       "C = 3\n",
       "B = 20\n",
       "L = 500\n",
       "Wm = 200\n",
       "Cm = 240\n",
       "Bq = 6000\n",
       "Ws = 1.4\n",
       "Cs = 1.4\n",
       "\n",
       "model = ConcreteModel()\n",
       "\n",
       "# Decision variables\n",
       "model.w = Var(within=NonNegativeReals)\n",
       "model.c = Var(within=NonNegativeReals)\n",
       "model.b = Var(within=NonNegativeReals)\n",
       "\n",
       "# Objective function\n",
       "def obj_func(model):\n",
       "    return Wc * model.w + Cc * model.c + Bc * model.b - Wp * W * model.w - Cp * C * model.c - (Bp1 * min(B * model.b, Bq) + Bp2 * max(0, B * model.b - Bq))\n",
       "model.obj = Objective(rule=obj_func, sense=minimize)\n",
       "\n",
       "# Constraints\n",
       "def land_constraint(model):\n",
       "    return model.w + model.c + model.b <= L\n",
       "model.con_land = Constraint(rule=land_constraint)\n",
       "\n",
       "def wheat_constraint(model):\n",
       "    return W * model.w >= Wm\n",
       "model.con_wheat = Constraint(rule=wheat_constraint)\n",
       "\n",
       "def corn_constraint(model):\n",
       "    return C * model.c >= Cm\n",
       "model.con_corn = Constraint(rule=corn_constraint)\n",
       "\n",
       "def sugar_beet_qty_constraint(model):\n",
       "    return B * model.b <= Bq\n",
       "model.con_sugar_beet_qty = Constraint(rule=sugar_beet_qty_constraint)\n",
       "\n",
       "def sugar_beet_price_constraint(model):\n",
       "    return B * (model.b - (Bq / B)) + Bq * (Bp1 - Bp2) <= Bp2 * B * (model.b - (Bq / B))\n",
       "model.con_sugar_beet_price = Constraint(rule=sugar_beet_price_constraint)\n",
       "\n",
       "# Solve the model\n",
       "solver = SolverFactory('glpk')\n",
       "solver.solve(model)\n",
       "\n",
       "# Print the results\n",
       "print('Number of acres to devote to wheat: ', model.w.value)\n",
       "print('Number of acres to devote to corn: ', model.c.value)\n",
       "print('Number of acres to devote to sugar beets: ', model.b.value)\n",
       "print('Minimum total costs: ', model.obj())\n",
       "```\n",
       "\n",
       "Please note that you need to have Pyomo and a solver like GLPK installed to run this code. The code uses the GLPK solver, but you can replace it with other solvers like CPLEX, Gurobi, etc. based on your preference and availability."
      ],
      "text/plain": [
       "<IPython.core.display.Markdown object>"
      ]
     },
     "execution_count": 11,
     "metadata": {},
     "output_type": "execute_result"
    }
   ],
   "source": [
    "Markdown(response_2_text)"
   ]
  },
  {
   "cell_type": "code",
   "execution_count": 12,
   "id": "a380c180",
   "metadata": {},
   "outputs": [
    {
     "name": "stdout",
     "output_type": "stream",
     "text": [
      "Here is a Python Pyomo code for the optimization problem:\n",
      "\n",
      "```python\n",
      "from pyomo.environ import *\n",
      "\n",
      "# Sample data\n",
      "Wp = 170\n",
      "Cp = 150\n",
      "Bp1 = 36\n",
      "Bp2 = 10\n",
      "Wc = 150\n",
      "Cc = 230\n",
      "Bc = 260\n",
      "W = 2.5\n",
      "C = 3\n",
      "B = 20\n",
      "L = 500\n",
      "Wm = 200\n",
      "Cm = 240\n",
      "Bq = 6000\n",
      "Ws = 1.4\n",
      "Cs = 1.4\n",
      "\n",
      "model = ConcreteModel()\n",
      "\n",
      "# Decision variables\n",
      "model.w = Var(within=NonNegativeReals)\n",
      "model.c = Var(within=NonNegativeReals)\n",
      "model.b = Var(within=NonNegativeReals)\n",
      "\n",
      "# Objective function\n",
      "def obj_func(model):\n",
      "    return Wc * model.w + Cc * model.c + Bc * model.b - Wp * W * model.w - Cp * C * model.c - (Bp1 * min(B * model.b, Bq) + Bp2 * max(0, B * model.b - Bq))\n",
      "model.obj = Objective(rule=obj_func, sense=minimize)\n",
      "\n",
      "# Constraints\n",
      "def land_constraint(model):\n",
      "    return model.w + model.c + model.b <= L\n",
      "model.con_land = Constraint(rule=land_constraint)\n",
      "\n",
      "def wheat_constraint(model):\n",
      "    return W * model.w >= Wm\n",
      "model.con_wheat = Constraint(rule=wheat_constraint)\n",
      "\n",
      "def corn_constraint(model):\n",
      "    return C * model.c >= Cm\n",
      "model.con_corn = Constraint(rule=corn_constraint)\n",
      "\n",
      "def sugar_beet_qty_constraint(model):\n",
      "    return B * model.b <= Bq\n",
      "model.con_sugar_beet_qty = Constraint(rule=sugar_beet_qty_constraint)\n",
      "\n",
      "def sugar_beet_price_constraint(model):\n",
      "    return B * (model.b - (Bq / B)) + Bq * (Bp1 - Bp2) <= Bp2 * B * (model.b - (Bq / B))\n",
      "model.con_sugar_beet_price = Constraint(rule=sugar_beet_price_constraint)\n",
      "\n",
      "# Solve the model\n",
      "solver = SolverFactory('glpk')\n",
      "solver.solve(model)\n",
      "\n",
      "# Print the results\n",
      "print('Number of acres to devote to wheat: ', model.w.value)\n",
      "print('Number of acres to devote to corn: ', model.c.value)\n",
      "print('Number of acres to devote to sugar beets: ', model.b.value)\n",
      "print('Minimum total costs: ', model.obj())\n",
      "```\n",
      "\n",
      "Please note that you need to have Pyomo and a solver like GLPK installed to run this code. The code uses the GLPK solver, but you can replace it with other solvers like CPLEX, Gurobi, etc. based on your preference and availability.\n"
     ]
    }
   ],
   "source": [
    "print(response_2_text)"
   ]
  },
  {
   "cell_type": "markdown",
   "id": "879cc7ae",
   "metadata": {},
   "source": [
    "### Code Executability"
   ]
  },
  {
   "cell_type": "code",
   "execution_count": 13,
   "id": "f1d9a625",
   "metadata": {},
   "outputs": [
    {
     "name": "stderr",
     "output_type": "stream",
     "text": [
      "2024-05-22 17:47:22,585 ERROR pyomo.core: Rule failed when generating expression for Objective obj with index None:\n",
      "PyomoException: Cannot convert non-constant Pyomo expression (6000  <  20*b) to bool.\n",
      "This error is usually caused by using a Var, unit, or mutable Param in a\n",
      "Boolean context such as an \"if\" statement, or when checking container\n",
      "membership or equality. For example,\n",
      "    >>> m.x = Var()\n",
      "    >>> if m.x >= 1:\n",
      "    ...     pass\n",
      "and\n",
      "    >>> m.y = Var()\n",
      "    >>> if m.y in [m.x, m.y]:\n",
      "    ...     pass\n",
      "would both cause this exception.\n",
      "2024-05-22 17:47:22,586 ERROR pyomo.core: Constructing component 'obj' from data=None failed:\n",
      "PyomoException: Cannot convert non-constant Pyomo expression (6000  <  20*b) to bool.\n",
      "This error is usually caused by using a Var, unit, or mutable Param in a\n",
      "Boolean context such as an \"if\" statement, or when checking container\n",
      "membership or equality. For example,\n",
      "    >>> m.x = Var()\n",
      "    >>> if m.x >= 1:\n",
      "    ...     pass\n",
      "and\n",
      "    >>> m.y = Var()\n",
      "    >>> if m.y in [m.x, m.y]:\n",
      "    ...     pass\n",
      "would both cause this exception.\n"
     ]
    },
    {
     "ename": "PyomoException",
     "evalue": "Cannot convert non-constant Pyomo expression (6000  <  20*b) to bool.\nThis error is usually caused by using a Var, unit, or mutable Param in a\nBoolean context such as an \"if\" statement, or when checking container\nmembership or equality. For example,\n    >>> m.x = Var()\n    >>> if m.x >= 1:\n    ...     pass\nand\n    >>> m.y = Var()\n    >>> if m.y in [m.x, m.y]:\n    ...     pass\nwould both cause this exception.",
     "output_type": "error",
     "traceback": [
      "\u001b[1;31m---------------------------------------------------------------------------\u001b[0m",
      "\u001b[1;31mPyomoException\u001b[0m                            Traceback (most recent call last)",
      "Input \u001b[1;32mIn [13]\u001b[0m, in \u001b[0;36m<cell line: 31>\u001b[1;34m()\u001b[0m\n\u001b[0;32m     29\u001b[0m \u001b[38;5;28;01mdef\u001b[39;00m \u001b[38;5;21mobj_func\u001b[39m(model):\n\u001b[0;32m     30\u001b[0m     \u001b[38;5;28;01mreturn\u001b[39;00m Wc \u001b[38;5;241m*\u001b[39m model\u001b[38;5;241m.\u001b[39mw \u001b[38;5;241m+\u001b[39m Cc \u001b[38;5;241m*\u001b[39m model\u001b[38;5;241m.\u001b[39mc \u001b[38;5;241m+\u001b[39m Bc \u001b[38;5;241m*\u001b[39m model\u001b[38;5;241m.\u001b[39mb \u001b[38;5;241m-\u001b[39m Wp \u001b[38;5;241m*\u001b[39m W \u001b[38;5;241m*\u001b[39m model\u001b[38;5;241m.\u001b[39mw \u001b[38;5;241m-\u001b[39m Cp \u001b[38;5;241m*\u001b[39m C \u001b[38;5;241m*\u001b[39m model\u001b[38;5;241m.\u001b[39mc \u001b[38;5;241m-\u001b[39m (Bp1 \u001b[38;5;241m*\u001b[39m \u001b[38;5;28mmin\u001b[39m(B \u001b[38;5;241m*\u001b[39m model\u001b[38;5;241m.\u001b[39mb, Bq) \u001b[38;5;241m+\u001b[39m Bp2 \u001b[38;5;241m*\u001b[39m \u001b[38;5;28mmax\u001b[39m(\u001b[38;5;241m0\u001b[39m, B \u001b[38;5;241m*\u001b[39m model\u001b[38;5;241m.\u001b[39mb \u001b[38;5;241m-\u001b[39m Bq))\n\u001b[1;32m---> 31\u001b[0m model\u001b[38;5;241m.\u001b[39mobj \u001b[38;5;241m=\u001b[39m Objective(rule\u001b[38;5;241m=\u001b[39mobj_func, sense\u001b[38;5;241m=\u001b[39mminimize)\n\u001b[0;32m     33\u001b[0m \u001b[38;5;66;03m# Constraints\u001b[39;00m\n\u001b[0;32m     34\u001b[0m \u001b[38;5;28;01mdef\u001b[39;00m \u001b[38;5;21mland_constraint\u001b[39m(model):\n",
      "File \u001b[1;32m~\\AppData\\Roaming\\Python\\Python310\\site-packages\\pyomo\\core\\base\\block.py:639\u001b[0m, in \u001b[0;36m_BlockData.__setattr__\u001b[1;34m(self, name, val)\u001b[0m\n\u001b[0;32m    634\u001b[0m \u001b[38;5;28;01mif\u001b[39;00m name \u001b[38;5;129;01mnot\u001b[39;00m \u001b[38;5;129;01min\u001b[39;00m \u001b[38;5;28mself\u001b[39m\u001b[38;5;241m.\u001b[39m\u001b[38;5;18m__dict__\u001b[39m:\n\u001b[0;32m    635\u001b[0m     \u001b[38;5;28;01mif\u001b[39;00m \u001b[38;5;28misinstance\u001b[39m(val, Component):\n\u001b[0;32m    636\u001b[0m         \u001b[38;5;66;03m#\u001b[39;00m\n\u001b[0;32m    637\u001b[0m         \u001b[38;5;66;03m# Pyomo components are added with the add_component method.\u001b[39;00m\n\u001b[0;32m    638\u001b[0m         \u001b[38;5;66;03m#\u001b[39;00m\n\u001b[1;32m--> 639\u001b[0m         \u001b[38;5;28;43mself\u001b[39;49m\u001b[38;5;241;43m.\u001b[39;49m\u001b[43madd_component\u001b[49m\u001b[43m(\u001b[49m\u001b[43mname\u001b[49m\u001b[43m,\u001b[49m\u001b[43m \u001b[49m\u001b[43mval\u001b[49m\u001b[43m)\u001b[49m\n\u001b[0;32m    640\u001b[0m     \u001b[38;5;28;01melse\u001b[39;00m:\n\u001b[0;32m    641\u001b[0m         \u001b[38;5;66;03m#\u001b[39;00m\n\u001b[0;32m    642\u001b[0m         \u001b[38;5;66;03m# Other Python objects are added with the standard __setattr__\u001b[39;00m\n\u001b[0;32m    643\u001b[0m         \u001b[38;5;66;03m# method.\u001b[39;00m\n\u001b[0;32m    644\u001b[0m         \u001b[38;5;66;03m#\u001b[39;00m\n\u001b[0;32m    645\u001b[0m         \u001b[38;5;28msuper\u001b[39m(_BlockData, \u001b[38;5;28mself\u001b[39m)\u001b[38;5;241m.\u001b[39m\u001b[38;5;21m__setattr__\u001b[39m(name, val)\n",
      "File \u001b[1;32m~\\AppData\\Roaming\\Python\\Python310\\site-packages\\pyomo\\core\\base\\block.py:1186\u001b[0m, in \u001b[0;36m_BlockData.add_component\u001b[1;34m(self, name, val)\u001b[0m\n\u001b[0;32m   1182\u001b[0m     logger\u001b[38;5;241m.\u001b[39mdebug(\u001b[38;5;124m\"\u001b[39m\u001b[38;5;124mConstructing \u001b[39m\u001b[38;5;132;01m%s\u001b[39;00m\u001b[38;5;124m \u001b[39m\u001b[38;5;124m'\u001b[39m\u001b[38;5;132;01m%s\u001b[39;00m\u001b[38;5;124m'\u001b[39m\u001b[38;5;124m on \u001b[39m\u001b[38;5;132;01m%s\u001b[39;00m\u001b[38;5;124m from data=\u001b[39m\u001b[38;5;132;01m%s\u001b[39;00m\u001b[38;5;124m\"\u001b[39m,\n\u001b[0;32m   1183\u001b[0m                  val\u001b[38;5;241m.\u001b[39m\u001b[38;5;18m__class__\u001b[39m\u001b[38;5;241m.\u001b[39m\u001b[38;5;18m__name__\u001b[39m, name,\n\u001b[0;32m   1184\u001b[0m                  _blockName, \u001b[38;5;28mstr\u001b[39m(data))\n\u001b[0;32m   1185\u001b[0m \u001b[38;5;28;01mtry\u001b[39;00m:\n\u001b[1;32m-> 1186\u001b[0m     \u001b[43mval\u001b[49m\u001b[38;5;241;43m.\u001b[39;49m\u001b[43mconstruct\u001b[49m\u001b[43m(\u001b[49m\u001b[43mdata\u001b[49m\u001b[43m)\u001b[49m\n\u001b[0;32m   1187\u001b[0m \u001b[38;5;28;01mexcept\u001b[39;00m:\n\u001b[0;32m   1188\u001b[0m     err \u001b[38;5;241m=\u001b[39m sys\u001b[38;5;241m.\u001b[39mexc_info()[\u001b[38;5;241m1\u001b[39m]\n",
      "File \u001b[1;32m~\\AppData\\Roaming\\Python\\Python310\\site-packages\\pyomo\\core\\base\\objective.py:334\u001b[0m, in \u001b[0;36mObjective.construct\u001b[1;34m(self, data)\u001b[0m\n\u001b[0;32m    330\u001b[0m \u001b[38;5;28;01melse\u001b[39;00m:\n\u001b[0;32m    331\u001b[0m     \u001b[38;5;66;03m# Bypass the index validation and create the member directly\u001b[39;00m\n\u001b[0;32m    332\u001b[0m     \u001b[38;5;28;01mfor\u001b[39;00m index \u001b[38;5;129;01min\u001b[39;00m \u001b[38;5;28mself\u001b[39m\u001b[38;5;241m.\u001b[39mindex_set():\n\u001b[0;32m    333\u001b[0m         ans \u001b[38;5;241m=\u001b[39m \u001b[38;5;28mself\u001b[39m\u001b[38;5;241m.\u001b[39m_setitem_when_not_present(\n\u001b[1;32m--> 334\u001b[0m             index, \u001b[43mrule\u001b[49m\u001b[43m(\u001b[49m\u001b[43mblock\u001b[49m\u001b[43m,\u001b[49m\u001b[43m \u001b[49m\u001b[43mindex\u001b[49m\u001b[43m)\u001b[49m)\n\u001b[0;32m    335\u001b[0m         \u001b[38;5;28;01mif\u001b[39;00m ans \u001b[38;5;129;01mis\u001b[39;00m \u001b[38;5;129;01mnot\u001b[39;00m \u001b[38;5;28;01mNone\u001b[39;00m:\n\u001b[0;32m    336\u001b[0m             ans\u001b[38;5;241m.\u001b[39mset_sense(\u001b[38;5;28mself\u001b[39m\u001b[38;5;241m.\u001b[39m_init_sense(block, index))\n",
      "File \u001b[1;32m~\\AppData\\Roaming\\Python\\Python310\\site-packages\\pyomo\\core\\base\\initializer.py:402\u001b[0m, in \u001b[0;36mScalarCallInitializer.__call__\u001b[1;34m(self, parent, idx)\u001b[0m\n\u001b[0;32m    401\u001b[0m \u001b[38;5;28;01mdef\u001b[39;00m \u001b[38;5;21m__call__\u001b[39m(\u001b[38;5;28mself\u001b[39m, parent, idx):\n\u001b[1;32m--> 402\u001b[0m     \u001b[38;5;28;01mreturn\u001b[39;00m \u001b[38;5;28;43mself\u001b[39;49m\u001b[38;5;241;43m.\u001b[39;49m\u001b[43m_fcn\u001b[49m\u001b[43m(\u001b[49m\u001b[43mparent\u001b[49m\u001b[43m)\u001b[49m\n",
      "Input \u001b[1;32mIn [13]\u001b[0m, in \u001b[0;36mobj_func\u001b[1;34m(model)\u001b[0m\n\u001b[0;32m     29\u001b[0m \u001b[38;5;28;01mdef\u001b[39;00m \u001b[38;5;21mobj_func\u001b[39m(model):\n\u001b[1;32m---> 30\u001b[0m     \u001b[38;5;28;01mreturn\u001b[39;00m Wc \u001b[38;5;241m*\u001b[39m model\u001b[38;5;241m.\u001b[39mw \u001b[38;5;241m+\u001b[39m Cc \u001b[38;5;241m*\u001b[39m model\u001b[38;5;241m.\u001b[39mc \u001b[38;5;241m+\u001b[39m Bc \u001b[38;5;241m*\u001b[39m model\u001b[38;5;241m.\u001b[39mb \u001b[38;5;241m-\u001b[39m Wp \u001b[38;5;241m*\u001b[39m W \u001b[38;5;241m*\u001b[39m model\u001b[38;5;241m.\u001b[39mw \u001b[38;5;241m-\u001b[39m Cp \u001b[38;5;241m*\u001b[39m C \u001b[38;5;241m*\u001b[39m model\u001b[38;5;241m.\u001b[39mc \u001b[38;5;241m-\u001b[39m (Bp1 \u001b[38;5;241m*\u001b[39m \u001b[38;5;28;43mmin\u001b[39;49m\u001b[43m(\u001b[49m\u001b[43mB\u001b[49m\u001b[43m \u001b[49m\u001b[38;5;241;43m*\u001b[39;49m\u001b[43m \u001b[49m\u001b[43mmodel\u001b[49m\u001b[38;5;241;43m.\u001b[39;49m\u001b[43mb\u001b[49m\u001b[43m,\u001b[49m\u001b[43m \u001b[49m\u001b[43mBq\u001b[49m\u001b[43m)\u001b[49m \u001b[38;5;241m+\u001b[39m Bp2 \u001b[38;5;241m*\u001b[39m \u001b[38;5;28mmax\u001b[39m(\u001b[38;5;241m0\u001b[39m, B \u001b[38;5;241m*\u001b[39m model\u001b[38;5;241m.\u001b[39mb \u001b[38;5;241m-\u001b[39m Bq))\n",
      "File \u001b[1;32mpyomo\\core\\expr\\logical_expr.pyx:188\u001b[0m, in \u001b[0;36mpyomo.core.expr.logical_expr.InequalityExpression.__bool__\u001b[1;34m()\u001b[0m\n",
      "\u001b[1;31mPyomoException\u001b[0m: Cannot convert non-constant Pyomo expression (6000  <  20*b) to bool.\nThis error is usually caused by using a Var, unit, or mutable Param in a\nBoolean context such as an \"if\" statement, or when checking container\nmembership or equality. For example,\n    >>> m.x = Var()\n    >>> if m.x >= 1:\n    ...     pass\nand\n    >>> m.y = Var()\n    >>> if m.y in [m.x, m.y]:\n    ...     pass\nwould both cause this exception."
     ]
    }
   ],
   "source": [
    "from pyomo.environ import *\n",
    "\n",
    "# Sample data\n",
    "Wp = 170\n",
    "Cp = 150\n",
    "Bp1 = 36\n",
    "Bp2 = 10\n",
    "Wc = 150\n",
    "Cc = 230\n",
    "Bc = 260\n",
    "W = 2.5\n",
    "C = 3\n",
    "B = 20\n",
    "L = 500\n",
    "Wm = 200\n",
    "Cm = 240\n",
    "Bq = 6000\n",
    "Ws = 1.4\n",
    "Cs = 1.4\n",
    "\n",
    "model = ConcreteModel()\n",
    "\n",
    "# Decision variables\n",
    "model.w = Var(within=NonNegativeReals)\n",
    "model.c = Var(within=NonNegativeReals)\n",
    "model.b = Var(within=NonNegativeReals)\n",
    "\n",
    "# Objective function\n",
    "def obj_func(model):\n",
    "    return Wc * model.w + Cc * model.c + Bc * model.b - Wp * W * model.w - Cp * C * model.c - (Bp1 * min(B * model.b, Bq) + Bp2 * max(0, B * model.b - Bq))\n",
    "model.obj = Objective(rule=obj_func, sense=minimize)\n",
    "\n",
    "# Constraints\n",
    "def land_constraint(model):\n",
    "    return model.w + model.c + model.b <= L\n",
    "model.con_land = Constraint(rule=land_constraint)\n",
    "\n",
    "def wheat_constraint(model):\n",
    "    return W * model.w >= Wm\n",
    "model.con_wheat = Constraint(rule=wheat_constraint)\n",
    "\n",
    "def corn_constraint(model):\n",
    "    return C * model.c >= Cm\n",
    "model.con_corn = Constraint(rule=corn_constraint)\n",
    "\n",
    "def sugar_beet_qty_constraint(model):\n",
    "    return B * model.b <= Bq\n",
    "model.con_sugar_beet_qty = Constraint(rule=sugar_beet_qty_constraint)\n",
    "\n",
    "def sugar_beet_price_constraint(model):\n",
    "    return B * (model.b - (Bq / B)) + Bq * (Bp1 - Bp2) <= Bp2 * B * (model.b - (Bq / B))\n",
    "model.con_sugar_beet_price = Constraint(rule=sugar_beet_price_constraint)\n",
    "\n",
    "# Solve the model\n",
    "solver = SolverFactory('glpk')\n",
    "solver.solve(model)\n",
    "\n",
    "# Print the results\n",
    "print('Number of acres to devote to wheat: ', model.w.value)\n",
    "print('Number of acres to devote to corn: ', model.c.value)\n",
    "print('Number of acres to devote to sugar beets: ', model.b.value)\n",
    "print('Minimum total costs: ', model.obj())"
   ]
  },
  {
   "cell_type": "markdown",
   "id": "95f5c3a8",
   "metadata": {},
   "source": [
    "### Solution Correctness"
   ]
  },
  {
   "cell_type": "code",
   "execution_count": null,
   "id": "01245691",
   "metadata": {},
   "outputs": [],
   "source": []
  }
 ],
 "metadata": {
  "kernelspec": {
   "display_name": "Python 3 (ipykernel)",
   "language": "python",
   "name": "python3"
  },
  "language_info": {
   "codemirror_mode": {
    "name": "ipython",
    "version": 3
   },
   "file_extension": ".py",
   "mimetype": "text/x-python",
   "name": "python",
   "nbconvert_exporter": "python",
   "pygments_lexer": "ipython3",
   "version": "3.10.4"
  }
 },
 "nbformat": 4,
 "nbformat_minor": 5
}
