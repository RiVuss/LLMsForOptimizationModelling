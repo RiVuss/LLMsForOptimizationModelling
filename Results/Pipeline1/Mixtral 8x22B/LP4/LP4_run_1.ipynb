{
 "cells": [
  {
   "cell_type": "code",
   "execution_count": 1,
   "id": "e5c2c174",
   "metadata": {},
   "outputs": [],
   "source": [
    "import os\n",
    "from mistralai.client import MistralClient\n",
    "from mistralai.models.chat_completion import ChatMessage\n",
    "from IPython.display import display, Markdown, Latex\n",
    "from datetime import datetime"
   ]
  },
  {
   "cell_type": "code",
   "execution_count": 2,
   "id": "b0c91a62",
   "metadata": {},
   "outputs": [
    {
     "name": "stdout",
     "output_type": "stream",
     "text": [
      "Time of execution: 2024-05-22 17:09:28.468172\n"
     ]
    }
   ],
   "source": [
    "API_KEY = os.environ['MISTRAL_API_KEY']\n",
    "\n",
    "MODEL_ID = 'open-mixtral-8x22b'\n",
    "MODEL_SEED = 1\n",
    "MODEL_TEMPERATURE = 0.7\n",
    "\n",
    "file_system_prompt_1 = open(\"../../system_prompt_1.txt\", \"r\")\n",
    "file_system_prompt_2 = open(\"../../system_prompt_2.txt\", \"r\")\n",
    "SYSTEM_PROMPT_1 = file_system_prompt_1.read()\n",
    "SYSTEM_PROMPT_2 = file_system_prompt_2.read()\n",
    "file_system_prompt_1.close()\n",
    "file_system_prompt_2.close()\n",
    "\n",
    "FILE_PATH_PROBLEM = '../../../../Datasets/LP_4_TheFarmersProblem/'\n",
    "assert(FILE_PATH_PROBLEM != '../../../../Datasets/')\n",
    "file_problem_description = open(FILE_PATH_PROBLEM + 'ProblemDescription.txt', 'r')\n",
    "PROBLEM_DESCRIPTION = file_problem_description.read()\n",
    "file_problem_description.close()\n",
    "\n",
    "\n",
    "client = MistralClient(api_key=API_KEY)\n",
    "\n",
    "print(f'Time of execution: {datetime.now()}')"
   ]
  },
  {
   "cell_type": "markdown",
   "id": "3e540824",
   "metadata": {},
   "source": [
    "## Step 1 - Generate Mathematical Formulation "
   ]
  },
  {
   "cell_type": "code",
   "execution_count": 3,
   "id": "174c127b",
   "metadata": {},
   "outputs": [],
   "source": [
    "messages_1 = [\n",
    "    ChatMessage(role=\"system\", content=SYSTEM_PROMPT_1),\n",
    "    ChatMessage(role=\"user\", content=PROBLEM_DESCRIPTION)\n",
    "]"
   ]
  },
  {
   "cell_type": "code",
   "execution_count": 4,
   "id": "d43340f3",
   "metadata": {},
   "outputs": [],
   "source": [
    "response_1 = client.chat(\n",
    "    model=MODEL_ID,\n",
    "    messages=messages_1,\n",
    "    random_seed=MODEL_SEED,\n",
    "    temperature=MODEL_TEMPERATURE \n",
    ")\n",
    "\n",
    "response_1_text = response_1.choices[0].message.content"
   ]
  },
  {
   "cell_type": "code",
   "execution_count": 5,
   "id": "03616e62",
   "metadata": {},
   "outputs": [
    {
     "data": {
      "text/markdown": [
       "Parameters:\n",
       "- Total land available: 500 acres\n",
       "- Minimum wheat requirement: 200 T\n",
       "- Minimum corn requirement: 240 T\n",
       "- Mean selling price of wheat: $170 per ton\n",
       "- Mean selling price of corn: $150 per ton\n",
       "- Purchase price margin: 40% more than selling price\n",
       "- Mean selling price of sugar beets: $36 per ton (quota), $10 per ton (excess)\n",
       "- Sugar beet production quota: 6000 T\n",
       "- Yield of wheat: 2.5 T per acre\n",
       "- Yield of corn: 3 T per acre\n",
       "- Yield of sugar beets: 20 T per acre\n",
       "- Cost to plant wheat per acre: $150\n",
       "- Cost to plant corn per acre: $230\n",
       "- Cost to plant sugar beets per acre: $260\n",
       "\n",
       "Decision Variables:\n",
       "- \\( W \\): acres of land used for wheat\n",
       "- \\( C \\): acres of land used for corn\n",
       "- \\( B \\): acres of land used for sugar beets\n",
       "\n",
       "Objective Function:\n",
       "Minimize total costs (where sales are considered as negative costs), i.e.,\n",
       "\\[ \\text{Minimize } 150W + 230C + 260B - 170 \\times \\text{min}(2.5W, 200) - 150 \\times \\text{min}(3C, 240) - 36 \\times \\text{min}(20B, 6000) - 10 \\times \\text{max}(0, 20B - 6000) \\]\n",
       "\n",
       "Constraints:\n",
       "1. Total land available: \\( W + C + B \\leq 500 \\)\n",
       "2. Minimum wheat requirement: \\( 2.5W \\geq 200 \\)\n",
       "3. Minimum corn requirement: \\( 3C \\geq 240 \\)\n",
       "4. Sugar beet production quota: \\( 20B \\leq 6000 \\)\n",
       "5. Non-negativity of decision variables: \\( W \\geq 0, C \\geq 0, B \\geq 0 \\)\n",
       "\n",
       "This is a linear programming problem that can be solved using various optimization techniques."
      ],
      "text/plain": [
       "<IPython.core.display.Markdown object>"
      ]
     },
     "execution_count": 5,
     "metadata": {},
     "output_type": "execute_result"
    }
   ],
   "source": [
    "Markdown(response_1_text)"
   ]
  },
  {
   "cell_type": "code",
   "execution_count": 6,
   "id": "b6a33171",
   "metadata": {},
   "outputs": [
    {
     "name": "stdout",
     "output_type": "stream",
     "text": [
      "Parameters:\n",
      "- Total land available: 500 acres\n",
      "- Minimum wheat requirement: 200 T\n",
      "- Minimum corn requirement: 240 T\n",
      "- Mean selling price of wheat: $170 per ton\n",
      "- Mean selling price of corn: $150 per ton\n",
      "- Purchase price margin: 40% more than selling price\n",
      "- Mean selling price of sugar beets: $36 per ton (quota), $10 per ton (excess)\n",
      "- Sugar beet production quota: 6000 T\n",
      "- Yield of wheat: 2.5 T per acre\n",
      "- Yield of corn: 3 T per acre\n",
      "- Yield of sugar beets: 20 T per acre\n",
      "- Cost to plant wheat per acre: $150\n",
      "- Cost to plant corn per acre: $230\n",
      "- Cost to plant sugar beets per acre: $260\n",
      "\n",
      "Decision Variables:\n",
      "- \\( W \\): acres of land used for wheat\n",
      "- \\( C \\): acres of land used for corn\n",
      "- \\( B \\): acres of land used for sugar beets\n",
      "\n",
      "Objective Function:\n",
      "Minimize total costs (where sales are considered as negative costs), i.e.,\n",
      "\\[ \\text{Minimize } 150W + 230C + 260B - 170 \\times \\text{min}(2.5W, 200) - 150 \\times \\text{min}(3C, 240) - 36 \\times \\text{min}(20B, 6000) - 10 \\times \\text{max}(0, 20B - 6000) \\]\n",
      "\n",
      "Constraints:\n",
      "1. Total land available: \\( W + C + B \\leq 500 \\)\n",
      "2. Minimum wheat requirement: \\( 2.5W \\geq 200 \\)\n",
      "3. Minimum corn requirement: \\( 3C \\geq 240 \\)\n",
      "4. Sugar beet production quota: \\( 20B \\leq 6000 \\)\n",
      "5. Non-negativity of decision variables: \\( W \\geq 0, C \\geq 0, B \\geq 0 \\)\n",
      "\n",
      "This is a linear programming problem that can be solved using various optimization techniques.\n"
     ]
    }
   ],
   "source": [
    "print(response_1_text)"
   ]
  },
  {
   "cell_type": "markdown",
   "id": "27b5f89a",
   "metadata": {},
   "source": [
    "## Step 2 - Generate the Pyomo Code"
   ]
  },
  {
   "cell_type": "code",
   "execution_count": 7,
   "id": "a4c3312f",
   "metadata": {},
   "outputs": [],
   "source": [
    "messages_2 = [\n",
    "    ChatMessage(role=\"system\", content=SYSTEM_PROMPT_2),\n",
    "    ChatMessage(role=\"user\", content=response_1_text)\n",
    "]"
   ]
  },
  {
   "cell_type": "code",
   "execution_count": 8,
   "id": "4212d99d",
   "metadata": {},
   "outputs": [],
   "source": [
    "response_2 = client.chat(\n",
    "    model=MODEL_ID,\n",
    "    messages=messages_2,\n",
    "    random_seed=MODEL_SEED,\n",
    "    temperature=MODEL_TEMPERATURE\n",
    ")\n",
    "\n",
    "response_2_text = response_2.choices[0].message.content"
   ]
  },
  {
   "cell_type": "code",
   "execution_count": 9,
   "id": "c168a60b",
   "metadata": {},
   "outputs": [
    {
     "data": {
      "text/markdown": [
       "To solve this problem using Pyomo, we first need to install the Pyomo package. You can install it using pip:\n",
       "\n",
       "```bash\n",
       "pip install pyomo\n",
       "```\n",
       "\n",
       "Now, let's write the Python code using Pyomo to solve the given optimization problem:\n",
       "\n",
       "```python\n",
       "import pyomo.environ as pyo\n",
       "\n",
       "# Define the model\n",
       "model = pyo.ConcreteModel()\n",
       "\n",
       "# Define the decision variables\n",
       "model.W = pyo.Var(domain=pyo.NonNegativeReals)\n",
       "model.C = pyo.Var(domain=pyo.NonNegativeReals)\n",
       "model.B = pyo.Var(domain=pyo.NonNegativeReals)\n",
       "\n",
       "# Define the objective function\n",
       "def obj_rule(model):\n",
       "    wheat_sales = min(2.5 * model.W, 200) * 170\n",
       "    corn_sales = min(3 * model.C, 240) * 150\n",
       "    sugar_beets_quota_sales = min(20 * model.B, 6000) * 36\n",
       "    sugar_beets_excess_sales = max(0, 20 * model.B - 6000) * 10\n",
       "    total_costs = 150 * model.W + 230 * model.C + 260 * model.B - wheat_sales - corn_sales - sugar_beets_quota_sales - sugar_beets_excess_sales\n",
       "    return total_costs\n",
       "\n",
       "model.obj = pyo.Objective(rule=obj_rule, sense=pyo.minimize)\n",
       "\n",
       "# Define the constraints\n",
       "def land_constraint_rule(model):\n",
       "    return model.W + model.C + model.B <= 500\n",
       "\n",
       "model.land_constraint = pyo.Constraint(rule=land_constraint_rule)\n",
       "\n",
       "def wheat_constraint_rule(model):\n",
       "    return 2.5 * model.W >= 200\n",
       "\n",
       "model.wheat_constraint = pyo.Constraint(rule=wheat_constraint_rule)\n",
       "\n",
       "def corn_constraint_rule(model):\n",
       "    return 3 * model.C >= 240\n",
       "\n",
       "model.corn_constraint = pyo.Constraint(rule=corn_constraint_rule)\n",
       "\n",
       "def sugar_beets_constraint_rule(model):\n",
       "    return 20 * model.B <= 6000\n",
       "\n",
       "model.sugar_beets_constraint = pyo.Constraint(rule=sugar_beets_constraint_rule)\n",
       "\n",
       "# Solve the model\n",
       "solver = pyo.SolverFactory('glpk')\n",
       "results = solver.solve(model)\n",
       "\n",
       "# Print the results\n",
       "print(f\"Optimal area for wheat: {pyo.value(model.W)} acres\")\n",
       "print(f\"Optimal area for corn: {pyo.value(model.C)} acres\")\n",
       "print(f\"Optimal area for sugar beets: {pyo.value(model.B)} acres\")\n",
       "print(f\"Minimum total costs: ${pyo.value(model.obj)}\")\n",
       "```\n",
       "\n",
       "This code defines the model, decision variables, objective function, and constraints using Pyomo. It then solves the optimization problem using the GLPK solver and prints the results."
      ],
      "text/plain": [
       "<IPython.core.display.Markdown object>"
      ]
     },
     "execution_count": 9,
     "metadata": {},
     "output_type": "execute_result"
    }
   ],
   "source": [
    "Markdown(response_2_text)"
   ]
  },
  {
   "cell_type": "code",
   "execution_count": 10,
   "id": "a380c180",
   "metadata": {},
   "outputs": [
    {
     "name": "stdout",
     "output_type": "stream",
     "text": [
      "To solve this problem using Pyomo, we first need to install the Pyomo package. You can install it using pip:\n",
      "\n",
      "```bash\n",
      "pip install pyomo\n",
      "```\n",
      "\n",
      "Now, let's write the Python code using Pyomo to solve the given optimization problem:\n",
      "\n",
      "```python\n",
      "import pyomo.environ as pyo\n",
      "\n",
      "# Define the model\n",
      "model = pyo.ConcreteModel()\n",
      "\n",
      "# Define the decision variables\n",
      "model.W = pyo.Var(domain=pyo.NonNegativeReals)\n",
      "model.C = pyo.Var(domain=pyo.NonNegativeReals)\n",
      "model.B = pyo.Var(domain=pyo.NonNegativeReals)\n",
      "\n",
      "# Define the objective function\n",
      "def obj_rule(model):\n",
      "    wheat_sales = min(2.5 * model.W, 200) * 170\n",
      "    corn_sales = min(3 * model.C, 240) * 150\n",
      "    sugar_beets_quota_sales = min(20 * model.B, 6000) * 36\n",
      "    sugar_beets_excess_sales = max(0, 20 * model.B - 6000) * 10\n",
      "    total_costs = 150 * model.W + 230 * model.C + 260 * model.B - wheat_sales - corn_sales - sugar_beets_quota_sales - sugar_beets_excess_sales\n",
      "    return total_costs\n",
      "\n",
      "model.obj = pyo.Objective(rule=obj_rule, sense=pyo.minimize)\n",
      "\n",
      "# Define the constraints\n",
      "def land_constraint_rule(model):\n",
      "    return model.W + model.C + model.B <= 500\n",
      "\n",
      "model.land_constraint = pyo.Constraint(rule=land_constraint_rule)\n",
      "\n",
      "def wheat_constraint_rule(model):\n",
      "    return 2.5 * model.W >= 200\n",
      "\n",
      "model.wheat_constraint = pyo.Constraint(rule=wheat_constraint_rule)\n",
      "\n",
      "def corn_constraint_rule(model):\n",
      "    return 3 * model.C >= 240\n",
      "\n",
      "model.corn_constraint = pyo.Constraint(rule=corn_constraint_rule)\n",
      "\n",
      "def sugar_beets_constraint_rule(model):\n",
      "    return 20 * model.B <= 6000\n",
      "\n",
      "model.sugar_beets_constraint = pyo.Constraint(rule=sugar_beets_constraint_rule)\n",
      "\n",
      "# Solve the model\n",
      "solver = pyo.SolverFactory('glpk')\n",
      "results = solver.solve(model)\n",
      "\n",
      "# Print the results\n",
      "print(f\"Optimal area for wheat: {pyo.value(model.W)} acres\")\n",
      "print(f\"Optimal area for corn: {pyo.value(model.C)} acres\")\n",
      "print(f\"Optimal area for sugar beets: {pyo.value(model.B)} acres\")\n",
      "print(f\"Minimum total costs: ${pyo.value(model.obj)}\")\n",
      "```\n",
      "\n",
      "This code defines the model, decision variables, objective function, and constraints using Pyomo. It then solves the optimization problem using the GLPK solver and prints the results.\n"
     ]
    }
   ],
   "source": [
    "print(response_2_text)"
   ]
  },
  {
   "cell_type": "markdown",
   "id": "879cc7ae",
   "metadata": {},
   "source": [
    "### Code Executability"
   ]
  },
  {
   "cell_type": "code",
   "execution_count": 11,
   "id": "f1d9a625",
   "metadata": {},
   "outputs": [
    {
     "name": "stderr",
     "output_type": "stream",
     "text": [
      "2024-05-22 17:26:16,551 ERROR pyomo.core: Rule failed when generating expression for Objective obj with index None:\n",
      "PyomoException: Cannot convert non-constant Pyomo expression (200  <  2.5*W) to bool.\n",
      "This error is usually caused by using a Var, unit, or mutable Param in a\n",
      "Boolean context such as an \"if\" statement, or when checking container\n",
      "membership or equality. For example,\n",
      "    >>> m.x = Var()\n",
      "    >>> if m.x >= 1:\n",
      "    ...     pass\n",
      "and\n",
      "    >>> m.y = Var()\n",
      "    >>> if m.y in [m.x, m.y]:\n",
      "    ...     pass\n",
      "would both cause this exception.\n",
      "2024-05-22 17:26:16,553 ERROR pyomo.core: Constructing component 'obj' from data=None failed:\n",
      "PyomoException: Cannot convert non-constant Pyomo expression (200  <  2.5*W) to bool.\n",
      "This error is usually caused by using a Var, unit, or mutable Param in a\n",
      "Boolean context such as an \"if\" statement, or when checking container\n",
      "membership or equality. For example,\n",
      "    >>> m.x = Var()\n",
      "    >>> if m.x >= 1:\n",
      "    ...     pass\n",
      "and\n",
      "    >>> m.y = Var()\n",
      "    >>> if m.y in [m.x, m.y]:\n",
      "    ...     pass\n",
      "would both cause this exception.\n"
     ]
    },
    {
     "ename": "PyomoException",
     "evalue": "Cannot convert non-constant Pyomo expression (200  <  2.5*W) to bool.\nThis error is usually caused by using a Var, unit, or mutable Param in a\nBoolean context such as an \"if\" statement, or when checking container\nmembership or equality. For example,\n    >>> m.x = Var()\n    >>> if m.x >= 1:\n    ...     pass\nand\n    >>> m.y = Var()\n    >>> if m.y in [m.x, m.y]:\n    ...     pass\nwould both cause this exception.",
     "output_type": "error",
     "traceback": [
      "\u001b[1;31m---------------------------------------------------------------------------\u001b[0m",
      "\u001b[1;31mPyomoException\u001b[0m                            Traceback (most recent call last)",
      "Input \u001b[1;32mIn [11]\u001b[0m, in \u001b[0;36m<cell line: 20>\u001b[1;34m()\u001b[0m\n\u001b[0;32m     17\u001b[0m     total_costs \u001b[38;5;241m=\u001b[39m \u001b[38;5;241m150\u001b[39m \u001b[38;5;241m*\u001b[39m model\u001b[38;5;241m.\u001b[39mW \u001b[38;5;241m+\u001b[39m \u001b[38;5;241m230\u001b[39m \u001b[38;5;241m*\u001b[39m model\u001b[38;5;241m.\u001b[39mC \u001b[38;5;241m+\u001b[39m \u001b[38;5;241m260\u001b[39m \u001b[38;5;241m*\u001b[39m model\u001b[38;5;241m.\u001b[39mB \u001b[38;5;241m-\u001b[39m wheat_sales \u001b[38;5;241m-\u001b[39m corn_sales \u001b[38;5;241m-\u001b[39m sugar_beets_quota_sales \u001b[38;5;241m-\u001b[39m sugar_beets_excess_sales\n\u001b[0;32m     18\u001b[0m     \u001b[38;5;28;01mreturn\u001b[39;00m total_costs\n\u001b[1;32m---> 20\u001b[0m model\u001b[38;5;241m.\u001b[39mobj \u001b[38;5;241m=\u001b[39m pyo\u001b[38;5;241m.\u001b[39mObjective(rule\u001b[38;5;241m=\u001b[39mobj_rule, sense\u001b[38;5;241m=\u001b[39mpyo\u001b[38;5;241m.\u001b[39mminimize)\n\u001b[0;32m     22\u001b[0m \u001b[38;5;66;03m# Define the constraints\u001b[39;00m\n\u001b[0;32m     23\u001b[0m \u001b[38;5;28;01mdef\u001b[39;00m \u001b[38;5;21mland_constraint_rule\u001b[39m(model):\n",
      "File \u001b[1;32m~\\AppData\\Roaming\\Python\\Python310\\site-packages\\pyomo\\core\\base\\block.py:639\u001b[0m, in \u001b[0;36m_BlockData.__setattr__\u001b[1;34m(self, name, val)\u001b[0m\n\u001b[0;32m    634\u001b[0m \u001b[38;5;28;01mif\u001b[39;00m name \u001b[38;5;129;01mnot\u001b[39;00m \u001b[38;5;129;01min\u001b[39;00m \u001b[38;5;28mself\u001b[39m\u001b[38;5;241m.\u001b[39m\u001b[38;5;18m__dict__\u001b[39m:\n\u001b[0;32m    635\u001b[0m     \u001b[38;5;28;01mif\u001b[39;00m \u001b[38;5;28misinstance\u001b[39m(val, Component):\n\u001b[0;32m    636\u001b[0m         \u001b[38;5;66;03m#\u001b[39;00m\n\u001b[0;32m    637\u001b[0m         \u001b[38;5;66;03m# Pyomo components are added with the add_component method.\u001b[39;00m\n\u001b[0;32m    638\u001b[0m         \u001b[38;5;66;03m#\u001b[39;00m\n\u001b[1;32m--> 639\u001b[0m         \u001b[38;5;28;43mself\u001b[39;49m\u001b[38;5;241;43m.\u001b[39;49m\u001b[43madd_component\u001b[49m\u001b[43m(\u001b[49m\u001b[43mname\u001b[49m\u001b[43m,\u001b[49m\u001b[43m \u001b[49m\u001b[43mval\u001b[49m\u001b[43m)\u001b[49m\n\u001b[0;32m    640\u001b[0m     \u001b[38;5;28;01melse\u001b[39;00m:\n\u001b[0;32m    641\u001b[0m         \u001b[38;5;66;03m#\u001b[39;00m\n\u001b[0;32m    642\u001b[0m         \u001b[38;5;66;03m# Other Python objects are added with the standard __setattr__\u001b[39;00m\n\u001b[0;32m    643\u001b[0m         \u001b[38;5;66;03m# method.\u001b[39;00m\n\u001b[0;32m    644\u001b[0m         \u001b[38;5;66;03m#\u001b[39;00m\n\u001b[0;32m    645\u001b[0m         \u001b[38;5;28msuper\u001b[39m(_BlockData, \u001b[38;5;28mself\u001b[39m)\u001b[38;5;241m.\u001b[39m\u001b[38;5;21m__setattr__\u001b[39m(name, val)\n",
      "File \u001b[1;32m~\\AppData\\Roaming\\Python\\Python310\\site-packages\\pyomo\\core\\base\\block.py:1186\u001b[0m, in \u001b[0;36m_BlockData.add_component\u001b[1;34m(self, name, val)\u001b[0m\n\u001b[0;32m   1182\u001b[0m     logger\u001b[38;5;241m.\u001b[39mdebug(\u001b[38;5;124m\"\u001b[39m\u001b[38;5;124mConstructing \u001b[39m\u001b[38;5;132;01m%s\u001b[39;00m\u001b[38;5;124m \u001b[39m\u001b[38;5;124m'\u001b[39m\u001b[38;5;132;01m%s\u001b[39;00m\u001b[38;5;124m'\u001b[39m\u001b[38;5;124m on \u001b[39m\u001b[38;5;132;01m%s\u001b[39;00m\u001b[38;5;124m from data=\u001b[39m\u001b[38;5;132;01m%s\u001b[39;00m\u001b[38;5;124m\"\u001b[39m,\n\u001b[0;32m   1183\u001b[0m                  val\u001b[38;5;241m.\u001b[39m\u001b[38;5;18m__class__\u001b[39m\u001b[38;5;241m.\u001b[39m\u001b[38;5;18m__name__\u001b[39m, name,\n\u001b[0;32m   1184\u001b[0m                  _blockName, \u001b[38;5;28mstr\u001b[39m(data))\n\u001b[0;32m   1185\u001b[0m \u001b[38;5;28;01mtry\u001b[39;00m:\n\u001b[1;32m-> 1186\u001b[0m     \u001b[43mval\u001b[49m\u001b[38;5;241;43m.\u001b[39;49m\u001b[43mconstruct\u001b[49m\u001b[43m(\u001b[49m\u001b[43mdata\u001b[49m\u001b[43m)\u001b[49m\n\u001b[0;32m   1187\u001b[0m \u001b[38;5;28;01mexcept\u001b[39;00m:\n\u001b[0;32m   1188\u001b[0m     err \u001b[38;5;241m=\u001b[39m sys\u001b[38;5;241m.\u001b[39mexc_info()[\u001b[38;5;241m1\u001b[39m]\n",
      "File \u001b[1;32m~\\AppData\\Roaming\\Python\\Python310\\site-packages\\pyomo\\core\\base\\objective.py:334\u001b[0m, in \u001b[0;36mObjective.construct\u001b[1;34m(self, data)\u001b[0m\n\u001b[0;32m    330\u001b[0m \u001b[38;5;28;01melse\u001b[39;00m:\n\u001b[0;32m    331\u001b[0m     \u001b[38;5;66;03m# Bypass the index validation and create the member directly\u001b[39;00m\n\u001b[0;32m    332\u001b[0m     \u001b[38;5;28;01mfor\u001b[39;00m index \u001b[38;5;129;01min\u001b[39;00m \u001b[38;5;28mself\u001b[39m\u001b[38;5;241m.\u001b[39mindex_set():\n\u001b[0;32m    333\u001b[0m         ans \u001b[38;5;241m=\u001b[39m \u001b[38;5;28mself\u001b[39m\u001b[38;5;241m.\u001b[39m_setitem_when_not_present(\n\u001b[1;32m--> 334\u001b[0m             index, \u001b[43mrule\u001b[49m\u001b[43m(\u001b[49m\u001b[43mblock\u001b[49m\u001b[43m,\u001b[49m\u001b[43m \u001b[49m\u001b[43mindex\u001b[49m\u001b[43m)\u001b[49m)\n\u001b[0;32m    335\u001b[0m         \u001b[38;5;28;01mif\u001b[39;00m ans \u001b[38;5;129;01mis\u001b[39;00m \u001b[38;5;129;01mnot\u001b[39;00m \u001b[38;5;28;01mNone\u001b[39;00m:\n\u001b[0;32m    336\u001b[0m             ans\u001b[38;5;241m.\u001b[39mset_sense(\u001b[38;5;28mself\u001b[39m\u001b[38;5;241m.\u001b[39m_init_sense(block, index))\n",
      "File \u001b[1;32m~\\AppData\\Roaming\\Python\\Python310\\site-packages\\pyomo\\core\\base\\initializer.py:402\u001b[0m, in \u001b[0;36mScalarCallInitializer.__call__\u001b[1;34m(self, parent, idx)\u001b[0m\n\u001b[0;32m    401\u001b[0m \u001b[38;5;28;01mdef\u001b[39;00m \u001b[38;5;21m__call__\u001b[39m(\u001b[38;5;28mself\u001b[39m, parent, idx):\n\u001b[1;32m--> 402\u001b[0m     \u001b[38;5;28;01mreturn\u001b[39;00m \u001b[38;5;28;43mself\u001b[39;49m\u001b[38;5;241;43m.\u001b[39;49m\u001b[43m_fcn\u001b[49m\u001b[43m(\u001b[49m\u001b[43mparent\u001b[49m\u001b[43m)\u001b[49m\n",
      "Input \u001b[1;32mIn [11]\u001b[0m, in \u001b[0;36mobj_rule\u001b[1;34m(model)\u001b[0m\n\u001b[0;32m     12\u001b[0m \u001b[38;5;28;01mdef\u001b[39;00m \u001b[38;5;21mobj_rule\u001b[39m(model):\n\u001b[1;32m---> 13\u001b[0m     wheat_sales \u001b[38;5;241m=\u001b[39m \u001b[38;5;28;43mmin\u001b[39;49m\u001b[43m(\u001b[49m\u001b[38;5;241;43m2.5\u001b[39;49m\u001b[43m \u001b[49m\u001b[38;5;241;43m*\u001b[39;49m\u001b[43m \u001b[49m\u001b[43mmodel\u001b[49m\u001b[38;5;241;43m.\u001b[39;49m\u001b[43mW\u001b[49m\u001b[43m,\u001b[49m\u001b[43m \u001b[49m\u001b[38;5;241;43m200\u001b[39;49m\u001b[43m)\u001b[49m \u001b[38;5;241m*\u001b[39m \u001b[38;5;241m170\u001b[39m\n\u001b[0;32m     14\u001b[0m     corn_sales \u001b[38;5;241m=\u001b[39m \u001b[38;5;28mmin\u001b[39m(\u001b[38;5;241m3\u001b[39m \u001b[38;5;241m*\u001b[39m model\u001b[38;5;241m.\u001b[39mC, \u001b[38;5;241m240\u001b[39m) \u001b[38;5;241m*\u001b[39m \u001b[38;5;241m150\u001b[39m\n\u001b[0;32m     15\u001b[0m     sugar_beets_quota_sales \u001b[38;5;241m=\u001b[39m \u001b[38;5;28mmin\u001b[39m(\u001b[38;5;241m20\u001b[39m \u001b[38;5;241m*\u001b[39m model\u001b[38;5;241m.\u001b[39mB, \u001b[38;5;241m6000\u001b[39m) \u001b[38;5;241m*\u001b[39m \u001b[38;5;241m36\u001b[39m\n",
      "File \u001b[1;32mpyomo\\core\\expr\\logical_expr.pyx:188\u001b[0m, in \u001b[0;36mpyomo.core.expr.logical_expr.InequalityExpression.__bool__\u001b[1;34m()\u001b[0m\n",
      "\u001b[1;31mPyomoException\u001b[0m: Cannot convert non-constant Pyomo expression (200  <  2.5*W) to bool.\nThis error is usually caused by using a Var, unit, or mutable Param in a\nBoolean context such as an \"if\" statement, or when checking container\nmembership or equality. For example,\n    >>> m.x = Var()\n    >>> if m.x >= 1:\n    ...     pass\nand\n    >>> m.y = Var()\n    >>> if m.y in [m.x, m.y]:\n    ...     pass\nwould both cause this exception."
     ]
    }
   ],
   "source": [
    "import pyomo.environ as pyo\n",
    "\n",
    "# Define the model\n",
    "model = pyo.ConcreteModel()\n",
    "\n",
    "# Define the decision variables\n",
    "model.W = pyo.Var(domain=pyo.NonNegativeReals)\n",
    "model.C = pyo.Var(domain=pyo.NonNegativeReals)\n",
    "model.B = pyo.Var(domain=pyo.NonNegativeReals)\n",
    "\n",
    "# Define the objective function\n",
    "def obj_rule(model):\n",
    "    wheat_sales = min(2.5 * model.W, 200) * 170\n",
    "    corn_sales = min(3 * model.C, 240) * 150\n",
    "    sugar_beets_quota_sales = min(20 * model.B, 6000) * 36\n",
    "    sugar_beets_excess_sales = max(0, 20 * model.B - 6000) * 10\n",
    "    total_costs = 150 * model.W + 230 * model.C + 260 * model.B - wheat_sales - corn_sales - sugar_beets_quota_sales - sugar_beets_excess_sales\n",
    "    return total_costs\n",
    "\n",
    "model.obj = pyo.Objective(rule=obj_rule, sense=pyo.minimize)\n",
    "\n",
    "# Define the constraints\n",
    "def land_constraint_rule(model):\n",
    "    return model.W + model.C + model.B <= 500\n",
    "\n",
    "model.land_constraint = pyo.Constraint(rule=land_constraint_rule)\n",
    "\n",
    "def wheat_constraint_rule(model):\n",
    "    return 2.5 * model.W >= 200\n",
    "\n",
    "model.wheat_constraint = pyo.Constraint(rule=wheat_constraint_rule)\n",
    "\n",
    "def corn_constraint_rule(model):\n",
    "    return 3 * model.C >= 240\n",
    "\n",
    "model.corn_constraint = pyo.Constraint(rule=corn_constraint_rule)\n",
    "\n",
    "def sugar_beets_constraint_rule(model):\n",
    "    return 20 * model.B <= 6000\n",
    "\n",
    "model.sugar_beets_constraint = pyo.Constraint(rule=sugar_beets_constraint_rule)\n",
    "\n",
    "# Solve the model\n",
    "solver = pyo.SolverFactory('glpk')\n",
    "results = solver.solve(model)\n",
    "\n",
    "# Print the results\n",
    "print(f\"Optimal area for wheat: {pyo.value(model.W)} acres\")\n",
    "print(f\"Optimal area for corn: {pyo.value(model.C)} acres\")\n",
    "print(f\"Optimal area for sugar beets: {pyo.value(model.B)} acres\")\n",
    "print(f\"Minimum total costs: ${pyo.value(model.obj)}\")"
   ]
  },
  {
   "cell_type": "markdown",
   "id": "95f5c3a8",
   "metadata": {},
   "source": [
    "### Solution Correctness"
   ]
  },
  {
   "cell_type": "code",
   "execution_count": null,
   "id": "01245691",
   "metadata": {},
   "outputs": [],
   "source": []
  }
 ],
 "metadata": {
  "kernelspec": {
   "display_name": "Python 3 (ipykernel)",
   "language": "python",
   "name": "python3"
  },
  "language_info": {
   "codemirror_mode": {
    "name": "ipython",
    "version": 3
   },
   "file_extension": ".py",
   "mimetype": "text/x-python",
   "name": "python",
   "nbconvert_exporter": "python",
   "pygments_lexer": "ipython3",
   "version": "3.10.4"
  }
 },
 "nbformat": 4,
 "nbformat_minor": 5
}
