{
 "cells": [
  {
   "cell_type": "code",
   "execution_count": 1,
   "id": "e5c2c174",
   "metadata": {},
   "outputs": [],
   "source": [
    "import os\n",
    "from mistralai.client import MistralClient\n",
    "from mistralai.models.chat_completion import ChatMessage\n",
    "from IPython.display import display, Markdown, Latex\n",
    "from datetime import datetime"
   ]
  },
  {
   "cell_type": "code",
   "execution_count": 2,
   "id": "b0c91a62",
   "metadata": {},
   "outputs": [
    {
     "name": "stdout",
     "output_type": "stream",
     "text": [
      "Time of execution: 2024-05-22 17:31:24.699866\n"
     ]
    }
   ],
   "source": [
    "API_KEY = os.environ['MISTRAL_API_KEY']\n",
    "\n",
    "MODEL_ID = 'open-mixtral-8x22b'\n",
    "MODEL_SEED = 2\n",
    "MODEL_TEMPERATURE = 0.7\n",
    "\n",
    "file_system_prompt_1 = open(\"../../system_prompt_1.txt\", \"r\")\n",
    "file_system_prompt_2 = open(\"../../system_prompt_2.txt\", \"r\")\n",
    "SYSTEM_PROMPT_1 = file_system_prompt_1.read()\n",
    "SYSTEM_PROMPT_2 = file_system_prompt_2.read()\n",
    "file_system_prompt_1.close()\n",
    "file_system_prompt_2.close()\n",
    "\n",
    "FILE_PATH_PROBLEM = '../../../../Datasets/LP_4_TheFarmersProblem/'\n",
    "assert(FILE_PATH_PROBLEM != '../../../../Datasets/')\n",
    "file_problem_description = open(FILE_PATH_PROBLEM + 'ProblemDescription.txt', 'r')\n",
    "PROBLEM_DESCRIPTION = file_problem_description.read()\n",
    "file_problem_description.close()\n",
    "\n",
    "\n",
    "client = MistralClient(api_key=API_KEY)\n",
    "\n",
    "print(f'Time of execution: {datetime.now()}')"
   ]
  },
  {
   "cell_type": "markdown",
   "id": "3e540824",
   "metadata": {},
   "source": [
    "## Step 1 - Generate Mathematical Formulation "
   ]
  },
  {
   "cell_type": "code",
   "execution_count": 3,
   "id": "174c127b",
   "metadata": {},
   "outputs": [],
   "source": [
    "messages_1 = [\n",
    "    ChatMessage(role=\"system\", content=SYSTEM_PROMPT_1),\n",
    "    ChatMessage(role=\"user\", content=PROBLEM_DESCRIPTION)\n",
    "]"
   ]
  },
  {
   "cell_type": "code",
   "execution_count": 4,
   "id": "d43340f3",
   "metadata": {},
   "outputs": [],
   "source": [
    "response_1 = client.chat(\n",
    "    model=MODEL_ID,\n",
    "    messages=messages_1,\n",
    "    random_seed=MODEL_SEED,\n",
    "    temperature=MODEL_TEMPERATURE \n",
    ")\n",
    "\n",
    "response_1_text = response_1.choices[0].message.content"
   ]
  },
  {
   "cell_type": "code",
   "execution_count": 5,
   "id": "03616e62",
   "metadata": {},
   "outputs": [
    {
     "data": {
      "text/markdown": [
       "To formulate a mathematical optimization model for this problem, we will define the parameters, decision variables, objective function, and constraints as follows:\n",
       "\n",
       "Parameters:\n",
       "- Let W_min = 200 tons be the minimum required amount of wheat for cattle feed.\n",
       "- Let C_min = 240 tons be the minimum required amount of corn for cattle feed.\n",
       "- Let P_w = $170/ton be the mean selling price of wheat.\n",
       "- Let P_c = $150/ton be the mean selling price of corn.\n",
       "- Let P_b = $36/ton be the expected selling price of sugar beets under the quota.\n",
       "- Let P_b_excess = $10/ton be the selling price of sugar beets in excess of the quota.\n",
       "- Let Q = 6000 tons be the sugar beet production quota.\n",
       "- Let Y_w = 2.5 tons/acre be the mean yield of wheat per acre.\n",
       "- Let Y_c = 3 tons/acre be the mean yield of corn per acre.\n",
       "- Let Y_b = 20 tons/acre be the mean yield of sugar beets per acre.\n",
       "- Let C_w = $150/acre be the cost of planting wheat per acre.\n",
       "- Let C_c = $230/acre be the cost of planting corn per acre.\n",
       "- Let C_b = $260/acre be the cost of planting sugar beets per acre.\n",
       "- Let L = 500 acres be the total available land.\n",
       "\n",
       "Decision Variables:\n",
       "- Let x_w be the number of acres to plant with wheat.\n",
       "- Let x_c be the number of acres to plant with corn.\n",
       "- Let x_b be the number of acres to plant with sugar beets.\n",
       "\n",
       "Objective Function:\n",
       "The goal is to minimize the total costs (where sales are considered as negative costs). The objective function, Z, can be expressed as:\n",
       "\n",
       "Z = C_w \\* x_w + C_c \\* x_c + C_b \\* x_b - P_w \\* min(Y_w \\* x_w, W_min) - P_c \\* min(Y_c \\* x_c, C_min) - P_b \\* min(Y_b \\* x_b, Q) - P_b_excess \\* max(0, Y_b \\* x_b - Q)\n",
       "\n",
       "Constraints:\n",
       "The constraints for this problem are:\n",
       "1. Non-negativity constraints for the decision variables:\n",
       "   x_w, x_c, x_b >= 0\n",
       "\n",
       "2. Land availability constraint:\n",
       "   x_w + x_c + x_b <= L\n",
       "\n",
       "3. Minimum production constraints for wheat and corn:\n",
       "   Y_w \\* x_w >= W_min\n",
       "   Y_c \\* x_c >= C_min\n",
       "\n",
       "4. Sugar beet production quota constraint:\n",
       "   Y_b \\* x_b <= Q\n",
       "\n",
       "This optimization model can be solved using linear programming techniques to find the optimal values for x_w, x_c, and x_b, which will minimize the total costs for the farmer."
      ],
      "text/plain": [
       "<IPython.core.display.Markdown object>"
      ]
     },
     "execution_count": 5,
     "metadata": {},
     "output_type": "execute_result"
    }
   ],
   "source": [
    "Markdown(response_1_text)"
   ]
  },
  {
   "cell_type": "code",
   "execution_count": 6,
   "id": "b6a33171",
   "metadata": {},
   "outputs": [
    {
     "name": "stdout",
     "output_type": "stream",
     "text": [
      "To formulate a mathematical optimization model for this problem, we will define the parameters, decision variables, objective function, and constraints as follows:\n",
      "\n",
      "Parameters:\n",
      "- Let W_min = 200 tons be the minimum required amount of wheat for cattle feed.\n",
      "- Let C_min = 240 tons be the minimum required amount of corn for cattle feed.\n",
      "- Let P_w = $170/ton be the mean selling price of wheat.\n",
      "- Let P_c = $150/ton be the mean selling price of corn.\n",
      "- Let P_b = $36/ton be the expected selling price of sugar beets under the quota.\n",
      "- Let P_b_excess = $10/ton be the selling price of sugar beets in excess of the quota.\n",
      "- Let Q = 6000 tons be the sugar beet production quota.\n",
      "- Let Y_w = 2.5 tons/acre be the mean yield of wheat per acre.\n",
      "- Let Y_c = 3 tons/acre be the mean yield of corn per acre.\n",
      "- Let Y_b = 20 tons/acre be the mean yield of sugar beets per acre.\n",
      "- Let C_w = $150/acre be the cost of planting wheat per acre.\n",
      "- Let C_c = $230/acre be the cost of planting corn per acre.\n",
      "- Let C_b = $260/acre be the cost of planting sugar beets per acre.\n",
      "- Let L = 500 acres be the total available land.\n",
      "\n",
      "Decision Variables:\n",
      "- Let x_w be the number of acres to plant with wheat.\n",
      "- Let x_c be the number of acres to plant with corn.\n",
      "- Let x_b be the number of acres to plant with sugar beets.\n",
      "\n",
      "Objective Function:\n",
      "The goal is to minimize the total costs (where sales are considered as negative costs). The objective function, Z, can be expressed as:\n",
      "\n",
      "Z = C_w \\* x_w + C_c \\* x_c + C_b \\* x_b - P_w \\* min(Y_w \\* x_w, W_min) - P_c \\* min(Y_c \\* x_c, C_min) - P_b \\* min(Y_b \\* x_b, Q) - P_b_excess \\* max(0, Y_b \\* x_b - Q)\n",
      "\n",
      "Constraints:\n",
      "The constraints for this problem are:\n",
      "1. Non-negativity constraints for the decision variables:\n",
      "   x_w, x_c, x_b >= 0\n",
      "\n",
      "2. Land availability constraint:\n",
      "   x_w + x_c + x_b <= L\n",
      "\n",
      "3. Minimum production constraints for wheat and corn:\n",
      "   Y_w \\* x_w >= W_min\n",
      "   Y_c \\* x_c >= C_min\n",
      "\n",
      "4. Sugar beet production quota constraint:\n",
      "   Y_b \\* x_b <= Q\n",
      "\n",
      "This optimization model can be solved using linear programming techniques to find the optimal values for x_w, x_c, and x_b, which will minimize the total costs for the farmer.\n"
     ]
    }
   ],
   "source": [
    "print(response_1_text)"
   ]
  },
  {
   "cell_type": "markdown",
   "id": "27b5f89a",
   "metadata": {},
   "source": [
    "## Step 2 - Generate the Pyomo Code"
   ]
  },
  {
   "cell_type": "code",
   "execution_count": 7,
   "id": "a4c3312f",
   "metadata": {},
   "outputs": [],
   "source": [
    "messages_2 = [\n",
    "    ChatMessage(role=\"system\", content=SYSTEM_PROMPT_2),\n",
    "    ChatMessage(role=\"user\", content=response_1_text)\n",
    "]"
   ]
  },
  {
   "cell_type": "code",
   "execution_count": 8,
   "id": "4212d99d",
   "metadata": {},
   "outputs": [],
   "source": [
    "response_2 = client.chat(\n",
    "    model=MODEL_ID,\n",
    "    messages=messages_2,\n",
    "    random_seed=MODEL_SEED,\n",
    "    temperature=MODEL_TEMPERATURE\n",
    ")\n",
    "\n",
    "response_2_text = response_2.choices[0].message.content"
   ]
  },
  {
   "cell_type": "code",
   "execution_count": 9,
   "id": "c168a60b",
   "metadata": {},
   "outputs": [
    {
     "data": {
      "text/markdown": [
       "To solve this problem using Pyomo, a Python-based, open-source optimization modeling language, we can write the following code:\n",
       "\n",
       "```python\n",
       "import pyomo.environ as pyo\n",
       "\n",
       "# Define the model\n",
       "model = pyo.ConcreteModel()\n",
       "\n",
       "# Parameters\n",
       "model.W_min = 200  # tons\n",
       "model.C_min = 240  # tons\n",
       "model.P_w = 170  # $/ton\n",
       "model.P_c = 150  # $/ton\n",
       "model.P_b = 36  # $/ton\n",
       "model.P_b_excess = 10  # $/ton\n",
       "model.Q = 6000  # tons\n",
       "model.Y_w = 2.5  # tons/acre\n",
       "model.Y_c = 3  # tons/acre\n",
       "model.Y_b = 20  # tons/acre\n",
       "model.C_w = 150  # $/acre\n",
       "model.C_c = 230  # $/acre\n",
       "model.C_b = 260  # $/acre\n",
       "model.L = 500  # acres\n",
       "\n",
       "# Decision variables\n",
       "model.x_w = pyo.Var(domain=pyo.NonNegativeReals)\n",
       "model.x_c = pyo.Var(domain=pyo.NonNegativeReals)\n",
       "model.x_b = pyo.Var(domain=pyo.NonNegativeReals)\n",
       "\n",
       "# Objective function\n",
       "def obj_rule(model):\n",
       "    return (\n",
       "        model.C_w * model.x_w\n",
       "        + model.C_c * model.x_c\n",
       "        + model.C_b * model.x_b\n",
       "        - model.P_w * pyo.min_(model.Y_w * model.x_w, model.W_min)\n",
       "        - model.P_c * pyo.min_(model.Y_c * model.x_c, model.C_min)\n",
       "        - model.P_b * pyo.min_(model.Y_b * model.x_b, model.Q)\n",
       "        - model.P_b_excess * pyo.max_(0, model.Y_b * model.x_b - model.Q)\n",
       "    )\n",
       "\n",
       "model.obj = pyo.Objective(rule=obj_rule, sense=pyo.minimize)\n",
       "\n",
       "# Constraints\n",
       "model.land_constraint = pyo.Constraint(\n",
       "    expr=model.x_w + model.x_c + model.x_b <= model.L\n",
       ")\n",
       "\n",
       "model.wheat_constraint = pyo.Constraint(expr=model.Y_w * model.x_w >= model.W_min)\n",
       "model.corn_constraint = pyo.Constraint(expr=model.Y_c * model.x_c >= model.C_min)\n",
       "model.sugar_beet_constraint = pyo.Constraint(expr=model.Y_b * model.x_b <= model.Q)\n",
       "\n",
       "# Solve the model\n",
       "solver = pyo.SolverFactory('glpk')\n",
       "solver.solve(model)\n",
       "\n",
       "# Print the results\n",
       "print(f\"Optimal x_w: {pyo.value(model.x_w):.2f}\")\n",
       "print(f\"Optimal x_c: {pyo.value(model.x_c):.2f}\")\n",
       "print(f\"Optimal x_b: {pyo.value(model.x_b):.2f}\")\n",
       "```\n",
       "\n",
       "In this code, we first import the Pyomo library and create a ConcreteModel. We then define the parameters and decision variables. The objective function and constraints are defined using Pyomo's expression-building syntax. Finally, we use the GLPK solver to solve the model and print the results."
      ],
      "text/plain": [
       "<IPython.core.display.Markdown object>"
      ]
     },
     "execution_count": 9,
     "metadata": {},
     "output_type": "execute_result"
    }
   ],
   "source": [
    "Markdown(response_2_text)"
   ]
  },
  {
   "cell_type": "code",
   "execution_count": 10,
   "id": "a380c180",
   "metadata": {},
   "outputs": [
    {
     "name": "stdout",
     "output_type": "stream",
     "text": [
      "To solve this problem using Pyomo, a Python-based, open-source optimization modeling language, we can write the following code:\n",
      "\n",
      "```python\n",
      "import pyomo.environ as pyo\n",
      "\n",
      "# Define the model\n",
      "model = pyo.ConcreteModel()\n",
      "\n",
      "# Parameters\n",
      "model.W_min = 200  # tons\n",
      "model.C_min = 240  # tons\n",
      "model.P_w = 170  # $/ton\n",
      "model.P_c = 150  # $/ton\n",
      "model.P_b = 36  # $/ton\n",
      "model.P_b_excess = 10  # $/ton\n",
      "model.Q = 6000  # tons\n",
      "model.Y_w = 2.5  # tons/acre\n",
      "model.Y_c = 3  # tons/acre\n",
      "model.Y_b = 20  # tons/acre\n",
      "model.C_w = 150  # $/acre\n",
      "model.C_c = 230  # $/acre\n",
      "model.C_b = 260  # $/acre\n",
      "model.L = 500  # acres\n",
      "\n",
      "# Decision variables\n",
      "model.x_w = pyo.Var(domain=pyo.NonNegativeReals)\n",
      "model.x_c = pyo.Var(domain=pyo.NonNegativeReals)\n",
      "model.x_b = pyo.Var(domain=pyo.NonNegativeReals)\n",
      "\n",
      "# Objective function\n",
      "def obj_rule(model):\n",
      "    return (\n",
      "        model.C_w * model.x_w\n",
      "        + model.C_c * model.x_c\n",
      "        + model.C_b * model.x_b\n",
      "        - model.P_w * pyo.min_(model.Y_w * model.x_w, model.W_min)\n",
      "        - model.P_c * pyo.min_(model.Y_c * model.x_c, model.C_min)\n",
      "        - model.P_b * pyo.min_(model.Y_b * model.x_b, model.Q)\n",
      "        - model.P_b_excess * pyo.max_(0, model.Y_b * model.x_b - model.Q)\n",
      "    )\n",
      "\n",
      "model.obj = pyo.Objective(rule=obj_rule, sense=pyo.minimize)\n",
      "\n",
      "# Constraints\n",
      "model.land_constraint = pyo.Constraint(\n",
      "    expr=model.x_w + model.x_c + model.x_b <= model.L\n",
      ")\n",
      "\n",
      "model.wheat_constraint = pyo.Constraint(expr=model.Y_w * model.x_w >= model.W_min)\n",
      "model.corn_constraint = pyo.Constraint(expr=model.Y_c * model.x_c >= model.C_min)\n",
      "model.sugar_beet_constraint = pyo.Constraint(expr=model.Y_b * model.x_b <= model.Q)\n",
      "\n",
      "# Solve the model\n",
      "solver = pyo.SolverFactory('glpk')\n",
      "solver.solve(model)\n",
      "\n",
      "# Print the results\n",
      "print(f\"Optimal x_w: {pyo.value(model.x_w):.2f}\")\n",
      "print(f\"Optimal x_c: {pyo.value(model.x_c):.2f}\")\n",
      "print(f\"Optimal x_b: {pyo.value(model.x_b):.2f}\")\n",
      "```\n",
      "\n",
      "In this code, we first import the Pyomo library and create a ConcreteModel. We then define the parameters and decision variables. The objective function and constraints are defined using Pyomo's expression-building syntax. Finally, we use the GLPK solver to solve the model and print the results.\n"
     ]
    }
   ],
   "source": [
    "print(response_2_text)"
   ]
  },
  {
   "cell_type": "markdown",
   "id": "879cc7ae",
   "metadata": {},
   "source": [
    "### Code Executability"
   ]
  },
  {
   "cell_type": "code",
   "execution_count": 11,
   "id": "f1d9a625",
   "metadata": {},
   "outputs": [
    {
     "name": "stderr",
     "output_type": "stream",
     "text": [
      "2024-05-22 17:36:31,710 ERROR pyomo.core: Rule failed when generating expression for Objective obj with index None:\n",
      "AttributeError: module 'pyomo.environ' has no attribute 'min_'\n",
      "2024-05-22 17:36:31,710 ERROR pyomo.core: Constructing component 'obj' from data=None failed:\n",
      "AttributeError: module 'pyomo.environ' has no attribute 'min_'\n"
     ]
    },
    {
     "ename": "AttributeError",
     "evalue": "module 'pyomo.environ' has no attribute 'min_'",
     "output_type": "error",
     "traceback": [
      "\u001b[1;31m---------------------------------------------------------------------------\u001b[0m",
      "\u001b[1;31mAttributeError\u001b[0m                            Traceback (most recent call last)",
      "Input \u001b[1;32mIn [11]\u001b[0m, in \u001b[0;36m<cell line: 39>\u001b[1;34m()\u001b[0m\n\u001b[0;32m     28\u001b[0m \u001b[38;5;28;01mdef\u001b[39;00m \u001b[38;5;21mobj_rule\u001b[39m(model):\n\u001b[0;32m     29\u001b[0m     \u001b[38;5;28;01mreturn\u001b[39;00m (\n\u001b[0;32m     30\u001b[0m         model\u001b[38;5;241m.\u001b[39mC_w \u001b[38;5;241m*\u001b[39m model\u001b[38;5;241m.\u001b[39mx_w\n\u001b[0;32m     31\u001b[0m         \u001b[38;5;241m+\u001b[39m model\u001b[38;5;241m.\u001b[39mC_c \u001b[38;5;241m*\u001b[39m model\u001b[38;5;241m.\u001b[39mx_c\n\u001b[1;32m   (...)\u001b[0m\n\u001b[0;32m     36\u001b[0m         \u001b[38;5;241m-\u001b[39m model\u001b[38;5;241m.\u001b[39mP_b_excess \u001b[38;5;241m*\u001b[39m pyo\u001b[38;5;241m.\u001b[39mmax_(\u001b[38;5;241m0\u001b[39m, model\u001b[38;5;241m.\u001b[39mY_b \u001b[38;5;241m*\u001b[39m model\u001b[38;5;241m.\u001b[39mx_b \u001b[38;5;241m-\u001b[39m model\u001b[38;5;241m.\u001b[39mQ)\n\u001b[0;32m     37\u001b[0m     )\n\u001b[1;32m---> 39\u001b[0m model\u001b[38;5;241m.\u001b[39mobj \u001b[38;5;241m=\u001b[39m pyo\u001b[38;5;241m.\u001b[39mObjective(rule\u001b[38;5;241m=\u001b[39mobj_rule, sense\u001b[38;5;241m=\u001b[39mpyo\u001b[38;5;241m.\u001b[39mminimize)\n\u001b[0;32m     41\u001b[0m \u001b[38;5;66;03m# Constraints\u001b[39;00m\n\u001b[0;32m     42\u001b[0m model\u001b[38;5;241m.\u001b[39mland_constraint \u001b[38;5;241m=\u001b[39m pyo\u001b[38;5;241m.\u001b[39mConstraint(\n\u001b[0;32m     43\u001b[0m     expr\u001b[38;5;241m=\u001b[39mmodel\u001b[38;5;241m.\u001b[39mx_w \u001b[38;5;241m+\u001b[39m model\u001b[38;5;241m.\u001b[39mx_c \u001b[38;5;241m+\u001b[39m model\u001b[38;5;241m.\u001b[39mx_b \u001b[38;5;241m<\u001b[39m\u001b[38;5;241m=\u001b[39m model\u001b[38;5;241m.\u001b[39mL\n\u001b[0;32m     44\u001b[0m )\n",
      "File \u001b[1;32m~\\AppData\\Roaming\\Python\\Python310\\site-packages\\pyomo\\core\\base\\block.py:639\u001b[0m, in \u001b[0;36m_BlockData.__setattr__\u001b[1;34m(self, name, val)\u001b[0m\n\u001b[0;32m    634\u001b[0m \u001b[38;5;28;01mif\u001b[39;00m name \u001b[38;5;129;01mnot\u001b[39;00m \u001b[38;5;129;01min\u001b[39;00m \u001b[38;5;28mself\u001b[39m\u001b[38;5;241m.\u001b[39m\u001b[38;5;18m__dict__\u001b[39m:\n\u001b[0;32m    635\u001b[0m     \u001b[38;5;28;01mif\u001b[39;00m \u001b[38;5;28misinstance\u001b[39m(val, Component):\n\u001b[0;32m    636\u001b[0m         \u001b[38;5;66;03m#\u001b[39;00m\n\u001b[0;32m    637\u001b[0m         \u001b[38;5;66;03m# Pyomo components are added with the add_component method.\u001b[39;00m\n\u001b[0;32m    638\u001b[0m         \u001b[38;5;66;03m#\u001b[39;00m\n\u001b[1;32m--> 639\u001b[0m         \u001b[38;5;28;43mself\u001b[39;49m\u001b[38;5;241;43m.\u001b[39;49m\u001b[43madd_component\u001b[49m\u001b[43m(\u001b[49m\u001b[43mname\u001b[49m\u001b[43m,\u001b[49m\u001b[43m \u001b[49m\u001b[43mval\u001b[49m\u001b[43m)\u001b[49m\n\u001b[0;32m    640\u001b[0m     \u001b[38;5;28;01melse\u001b[39;00m:\n\u001b[0;32m    641\u001b[0m         \u001b[38;5;66;03m#\u001b[39;00m\n\u001b[0;32m    642\u001b[0m         \u001b[38;5;66;03m# Other Python objects are added with the standard __setattr__\u001b[39;00m\n\u001b[0;32m    643\u001b[0m         \u001b[38;5;66;03m# method.\u001b[39;00m\n\u001b[0;32m    644\u001b[0m         \u001b[38;5;66;03m#\u001b[39;00m\n\u001b[0;32m    645\u001b[0m         \u001b[38;5;28msuper\u001b[39m(_BlockData, \u001b[38;5;28mself\u001b[39m)\u001b[38;5;241m.\u001b[39m\u001b[38;5;21m__setattr__\u001b[39m(name, val)\n",
      "File \u001b[1;32m~\\AppData\\Roaming\\Python\\Python310\\site-packages\\pyomo\\core\\base\\block.py:1186\u001b[0m, in \u001b[0;36m_BlockData.add_component\u001b[1;34m(self, name, val)\u001b[0m\n\u001b[0;32m   1182\u001b[0m     logger\u001b[38;5;241m.\u001b[39mdebug(\u001b[38;5;124m\"\u001b[39m\u001b[38;5;124mConstructing \u001b[39m\u001b[38;5;132;01m%s\u001b[39;00m\u001b[38;5;124m \u001b[39m\u001b[38;5;124m'\u001b[39m\u001b[38;5;132;01m%s\u001b[39;00m\u001b[38;5;124m'\u001b[39m\u001b[38;5;124m on \u001b[39m\u001b[38;5;132;01m%s\u001b[39;00m\u001b[38;5;124m from data=\u001b[39m\u001b[38;5;132;01m%s\u001b[39;00m\u001b[38;5;124m\"\u001b[39m,\n\u001b[0;32m   1183\u001b[0m                  val\u001b[38;5;241m.\u001b[39m\u001b[38;5;18m__class__\u001b[39m\u001b[38;5;241m.\u001b[39m\u001b[38;5;18m__name__\u001b[39m, name,\n\u001b[0;32m   1184\u001b[0m                  _blockName, \u001b[38;5;28mstr\u001b[39m(data))\n\u001b[0;32m   1185\u001b[0m \u001b[38;5;28;01mtry\u001b[39;00m:\n\u001b[1;32m-> 1186\u001b[0m     \u001b[43mval\u001b[49m\u001b[38;5;241;43m.\u001b[39;49m\u001b[43mconstruct\u001b[49m\u001b[43m(\u001b[49m\u001b[43mdata\u001b[49m\u001b[43m)\u001b[49m\n\u001b[0;32m   1187\u001b[0m \u001b[38;5;28;01mexcept\u001b[39;00m:\n\u001b[0;32m   1188\u001b[0m     err \u001b[38;5;241m=\u001b[39m sys\u001b[38;5;241m.\u001b[39mexc_info()[\u001b[38;5;241m1\u001b[39m]\n",
      "File \u001b[1;32m~\\AppData\\Roaming\\Python\\Python310\\site-packages\\pyomo\\core\\base\\objective.py:334\u001b[0m, in \u001b[0;36mObjective.construct\u001b[1;34m(self, data)\u001b[0m\n\u001b[0;32m    330\u001b[0m \u001b[38;5;28;01melse\u001b[39;00m:\n\u001b[0;32m    331\u001b[0m     \u001b[38;5;66;03m# Bypass the index validation and create the member directly\u001b[39;00m\n\u001b[0;32m    332\u001b[0m     \u001b[38;5;28;01mfor\u001b[39;00m index \u001b[38;5;129;01min\u001b[39;00m \u001b[38;5;28mself\u001b[39m\u001b[38;5;241m.\u001b[39mindex_set():\n\u001b[0;32m    333\u001b[0m         ans \u001b[38;5;241m=\u001b[39m \u001b[38;5;28mself\u001b[39m\u001b[38;5;241m.\u001b[39m_setitem_when_not_present(\n\u001b[1;32m--> 334\u001b[0m             index, \u001b[43mrule\u001b[49m\u001b[43m(\u001b[49m\u001b[43mblock\u001b[49m\u001b[43m,\u001b[49m\u001b[43m \u001b[49m\u001b[43mindex\u001b[49m\u001b[43m)\u001b[49m)\n\u001b[0;32m    335\u001b[0m         \u001b[38;5;28;01mif\u001b[39;00m ans \u001b[38;5;129;01mis\u001b[39;00m \u001b[38;5;129;01mnot\u001b[39;00m \u001b[38;5;28;01mNone\u001b[39;00m:\n\u001b[0;32m    336\u001b[0m             ans\u001b[38;5;241m.\u001b[39mset_sense(\u001b[38;5;28mself\u001b[39m\u001b[38;5;241m.\u001b[39m_init_sense(block, index))\n",
      "File \u001b[1;32m~\\AppData\\Roaming\\Python\\Python310\\site-packages\\pyomo\\core\\base\\initializer.py:402\u001b[0m, in \u001b[0;36mScalarCallInitializer.__call__\u001b[1;34m(self, parent, idx)\u001b[0m\n\u001b[0;32m    401\u001b[0m \u001b[38;5;28;01mdef\u001b[39;00m \u001b[38;5;21m__call__\u001b[39m(\u001b[38;5;28mself\u001b[39m, parent, idx):\n\u001b[1;32m--> 402\u001b[0m     \u001b[38;5;28;01mreturn\u001b[39;00m \u001b[38;5;28;43mself\u001b[39;49m\u001b[38;5;241;43m.\u001b[39;49m\u001b[43m_fcn\u001b[49m\u001b[43m(\u001b[49m\u001b[43mparent\u001b[49m\u001b[43m)\u001b[49m\n",
      "Input \u001b[1;32mIn [11]\u001b[0m, in \u001b[0;36mobj_rule\u001b[1;34m(model)\u001b[0m\n\u001b[0;32m     28\u001b[0m \u001b[38;5;28;01mdef\u001b[39;00m \u001b[38;5;21mobj_rule\u001b[39m(model):\n\u001b[0;32m     29\u001b[0m     \u001b[38;5;28;01mreturn\u001b[39;00m (\n\u001b[0;32m     30\u001b[0m         model\u001b[38;5;241m.\u001b[39mC_w \u001b[38;5;241m*\u001b[39m model\u001b[38;5;241m.\u001b[39mx_w\n\u001b[0;32m     31\u001b[0m         \u001b[38;5;241m+\u001b[39m model\u001b[38;5;241m.\u001b[39mC_c \u001b[38;5;241m*\u001b[39m model\u001b[38;5;241m.\u001b[39mx_c\n\u001b[0;32m     32\u001b[0m         \u001b[38;5;241m+\u001b[39m model\u001b[38;5;241m.\u001b[39mC_b \u001b[38;5;241m*\u001b[39m model\u001b[38;5;241m.\u001b[39mx_b\n\u001b[1;32m---> 33\u001b[0m         \u001b[38;5;241m-\u001b[39m model\u001b[38;5;241m.\u001b[39mP_w \u001b[38;5;241m*\u001b[39m \u001b[43mpyo\u001b[49m\u001b[38;5;241;43m.\u001b[39;49m\u001b[43mmin_\u001b[49m(model\u001b[38;5;241m.\u001b[39mY_w \u001b[38;5;241m*\u001b[39m model\u001b[38;5;241m.\u001b[39mx_w, model\u001b[38;5;241m.\u001b[39mW_min)\n\u001b[0;32m     34\u001b[0m         \u001b[38;5;241m-\u001b[39m model\u001b[38;5;241m.\u001b[39mP_c \u001b[38;5;241m*\u001b[39m pyo\u001b[38;5;241m.\u001b[39mmin_(model\u001b[38;5;241m.\u001b[39mY_c \u001b[38;5;241m*\u001b[39m model\u001b[38;5;241m.\u001b[39mx_c, model\u001b[38;5;241m.\u001b[39mC_min)\n\u001b[0;32m     35\u001b[0m         \u001b[38;5;241m-\u001b[39m model\u001b[38;5;241m.\u001b[39mP_b \u001b[38;5;241m*\u001b[39m pyo\u001b[38;5;241m.\u001b[39mmin_(model\u001b[38;5;241m.\u001b[39mY_b \u001b[38;5;241m*\u001b[39m model\u001b[38;5;241m.\u001b[39mx_b, model\u001b[38;5;241m.\u001b[39mQ)\n\u001b[0;32m     36\u001b[0m         \u001b[38;5;241m-\u001b[39m model\u001b[38;5;241m.\u001b[39mP_b_excess \u001b[38;5;241m*\u001b[39m pyo\u001b[38;5;241m.\u001b[39mmax_(\u001b[38;5;241m0\u001b[39m, model\u001b[38;5;241m.\u001b[39mY_b \u001b[38;5;241m*\u001b[39m model\u001b[38;5;241m.\u001b[39mx_b \u001b[38;5;241m-\u001b[39m model\u001b[38;5;241m.\u001b[39mQ)\n\u001b[0;32m     37\u001b[0m     )\n",
      "File \u001b[1;32m~\\AppData\\Roaming\\Python\\Python310\\site-packages\\pyomo\\common\\deprecation.py:431\u001b[0m, in \u001b[0;36mrelocated_module_attribute.<locals>.__getattr__\u001b[1;34m(name)\u001b[0m\n\u001b[0;32m    429\u001b[0m \u001b[38;5;28;01melif\u001b[39;00m _mod_getattr \u001b[38;5;129;01mis\u001b[39;00m \u001b[38;5;129;01mnot\u001b[39;00m \u001b[38;5;28;01mNone\u001b[39;00m:\n\u001b[0;32m    430\u001b[0m     \u001b[38;5;28;01mreturn\u001b[39;00m _mod_getattr(name)\n\u001b[1;32m--> 431\u001b[0m \u001b[38;5;28;01mraise\u001b[39;00m \u001b[38;5;167;01mAttributeError\u001b[39;00m(\u001b[38;5;124m\"\u001b[39m\u001b[38;5;124mmodule \u001b[39m\u001b[38;5;124m'\u001b[39m\u001b[38;5;132;01m%s\u001b[39;00m\u001b[38;5;124m'\u001b[39m\u001b[38;5;124m has no attribute \u001b[39m\u001b[38;5;124m'\u001b[39m\u001b[38;5;132;01m%s\u001b[39;00m\u001b[38;5;124m'\u001b[39m\u001b[38;5;124m\"\u001b[39m\n\u001b[0;32m    432\u001b[0m                      \u001b[38;5;241m%\u001b[39m (_module\u001b[38;5;241m.\u001b[39m\u001b[38;5;18m__name__\u001b[39m, name))\n",
      "\u001b[1;31mAttributeError\u001b[0m: module 'pyomo.environ' has no attribute 'min_'"
     ]
    }
   ],
   "source": [
    "import pyomo.environ as pyo\n",
    "\n",
    "# Define the model\n",
    "model = pyo.ConcreteModel()\n",
    "\n",
    "# Parameters\n",
    "model.W_min = 200  # tons\n",
    "model.C_min = 240  # tons\n",
    "model.P_w = 170  # $/ton\n",
    "model.P_c = 150  # $/ton\n",
    "model.P_b = 36  # $/ton\n",
    "model.P_b_excess = 10  # $/ton\n",
    "model.Q = 6000  # tons\n",
    "model.Y_w = 2.5  # tons/acre\n",
    "model.Y_c = 3  # tons/acre\n",
    "model.Y_b = 20  # tons/acre\n",
    "model.C_w = 150  # $/acre\n",
    "model.C_c = 230  # $/acre\n",
    "model.C_b = 260  # $/acre\n",
    "model.L = 500  # acres\n",
    "\n",
    "# Decision variables\n",
    "model.x_w = pyo.Var(domain=pyo.NonNegativeReals)\n",
    "model.x_c = pyo.Var(domain=pyo.NonNegativeReals)\n",
    "model.x_b = pyo.Var(domain=pyo.NonNegativeReals)\n",
    "\n",
    "# Objective function\n",
    "def obj_rule(model):\n",
    "    return (\n",
    "        model.C_w * model.x_w\n",
    "        + model.C_c * model.x_c\n",
    "        + model.C_b * model.x_b\n",
    "        - model.P_w * pyo.min_(model.Y_w * model.x_w, model.W_min)\n",
    "        - model.P_c * pyo.min_(model.Y_c * model.x_c, model.C_min)\n",
    "        - model.P_b * pyo.min_(model.Y_b * model.x_b, model.Q)\n",
    "        - model.P_b_excess * pyo.max_(0, model.Y_b * model.x_b - model.Q)\n",
    "    )\n",
    "\n",
    "model.obj = pyo.Objective(rule=obj_rule, sense=pyo.minimize)\n",
    "\n",
    "# Constraints\n",
    "model.land_constraint = pyo.Constraint(\n",
    "    expr=model.x_w + model.x_c + model.x_b <= model.L\n",
    ")\n",
    "\n",
    "model.wheat_constraint = pyo.Constraint(expr=model.Y_w * model.x_w >= model.W_min)\n",
    "model.corn_constraint = pyo.Constraint(expr=model.Y_c * model.x_c >= model.C_min)\n",
    "model.sugar_beet_constraint = pyo.Constraint(expr=model.Y_b * model.x_b <= model.Q)\n",
    "\n",
    "# Solve the model\n",
    "solver = pyo.SolverFactory('glpk')\n",
    "solver.solve(model)\n",
    "\n",
    "# Print the results\n",
    "print(f\"Optimal x_w: {pyo.value(model.x_w):.2f}\")\n",
    "print(f\"Optimal x_c: {pyo.value(model.x_c):.2f}\")\n",
    "print(f\"Optimal x_b: {pyo.value(model.x_b):.2f}\")"
   ]
  },
  {
   "cell_type": "markdown",
   "id": "95f5c3a8",
   "metadata": {},
   "source": [
    "### Solution Correctness"
   ]
  },
  {
   "cell_type": "code",
   "execution_count": null,
   "id": "01245691",
   "metadata": {},
   "outputs": [],
   "source": []
  }
 ],
 "metadata": {
  "kernelspec": {
   "display_name": "Python 3 (ipykernel)",
   "language": "python",
   "name": "python3"
  },
  "language_info": {
   "codemirror_mode": {
    "name": "ipython",
    "version": 3
   },
   "file_extension": ".py",
   "mimetype": "text/x-python",
   "name": "python",
   "nbconvert_exporter": "python",
   "pygments_lexer": "ipython3",
   "version": "3.10.4"
  }
 },
 "nbformat": 4,
 "nbformat_minor": 5
}
