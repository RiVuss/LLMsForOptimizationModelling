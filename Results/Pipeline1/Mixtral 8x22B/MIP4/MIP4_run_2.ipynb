{
 "cells": [
  {
   "cell_type": "code",
   "execution_count": 1,
   "id": "e5c2c174",
   "metadata": {},
   "outputs": [],
   "source": [
    "import os\n",
    "from mistralai.client import MistralClient\n",
    "from mistralai.models.chat_completion import ChatMessage\n",
    "from IPython.display import display, Markdown, Latex\n",
    "from datetime import datetime"
   ]
  },
  {
   "cell_type": "code",
   "execution_count": 2,
   "id": "b0c91a62",
   "metadata": {},
   "outputs": [
    {
     "name": "stdout",
     "output_type": "stream",
     "text": [
      "Time of execution: 2024-05-22 19:41:50.790296\n"
     ]
    }
   ],
   "source": [
    "API_KEY = os.environ['MISTRAL_API_KEY']\n",
    "\n",
    "MODEL_ID = 'open-mixtral-8x22b'\n",
    "MODEL_SEED = 2\n",
    "MODEL_TEMPERATURE = 0.7\n",
    "\n",
    "file_system_prompt_1 = open(\"../../system_prompt_1.txt\", \"r\")\n",
    "file_system_prompt_2 = open(\"../../system_prompt_2.txt\", \"r\")\n",
    "SYSTEM_PROMPT_1 = file_system_prompt_1.read()\n",
    "SYSTEM_PROMPT_2 = file_system_prompt_2.read()\n",
    "file_system_prompt_1.close()\n",
    "file_system_prompt_2.close()\n",
    "\n",
    "FILE_PATH_PROBLEM = '../../../../Datasets/MIP_4_Water_Network/'\n",
    "assert(FILE_PATH_PROBLEM != '../../../../Datasets/')\n",
    "file_problem_description = open(FILE_PATH_PROBLEM + 'ProblemDescription.txt', 'r')\n",
    "PROBLEM_DESCRIPTION = file_problem_description.read()\n",
    "file_problem_description.close()\n",
    "\n",
    "\n",
    "client = MistralClient(api_key=API_KEY)\n",
    "\n",
    "print(f'Time of execution: {datetime.now()}')"
   ]
  },
  {
   "cell_type": "markdown",
   "id": "3e540824",
   "metadata": {},
   "source": [
    "## Step 1 - Generate Mathematical Formulation "
   ]
  },
  {
   "cell_type": "code",
   "execution_count": 3,
   "id": "174c127b",
   "metadata": {},
   "outputs": [],
   "source": [
    "messages_1 = [\n",
    "    ChatMessage(role=\"system\", content=SYSTEM_PROMPT_1),\n",
    "    ChatMessage(role=\"user\", content=PROBLEM_DESCRIPTION)\n",
    "]"
   ]
  },
  {
   "cell_type": "code",
   "execution_count": 4,
   "id": "d43340f3",
   "metadata": {},
   "outputs": [],
   "source": [
    "response_1 = client.chat(\n",
    "    model=MODEL_ID,\n",
    "    messages=messages_1,\n",
    "    random_seed=MODEL_SEED,\n",
    "    temperature=MODEL_TEMPERATURE \n",
    ")\n",
    "\n",
    "response_1_text = response_1.choices[0].message.content"
   ]
  },
  {
   "cell_type": "code",
   "execution_count": 5,
   "id": "03616e62",
   "metadata": {},
   "outputs": [
    {
     "data": {
      "text/markdown": [
       "To formulate a mathematical optimization model for this problem, we will define the parameters, decision variables, objective function, and constraints as follows:\n",
       "\n",
       "Parameters:\n",
       "\n",
       "* \\(t\\) - time step index, \\(t = 1, 2, ..., 10\\)\n",
       "* \\(f(t)\\) - water inflow at point A at time step \\(t\\)\n",
       "* \\(C_{ij}\\) - capacity of pipe connecting points \\(i\\) and \\(j\\) (where \\(i, j \\in \\{A, B, C, D, E, F, G\\}\\) and \\(i \\neq j\\))\n",
       "* \\(N\\) - total number of pipes, \\(N = 12\\)\n",
       "* \\(K\\) - maximum number of pipes that can be activated, \\(K = 10\\)\n",
       "\n",
       "Decision variables:\n",
       "\n",
       "* \\(x_{ijt}\\) - amount of water flowing from point \\(i\\) to point \\(j\\) at time step \\(t\\)\n",
       "* \\(y_{ij}\\) - binary variable indicating whether pipe \\(ij\\) is activated or not (\\(y_{ij} = 1\\) if activated, \\(y_{ij} = 0\\) otherwise)\n",
       "\n",
       "Objective function:\n",
       "\n",
       "Maximize the total water flow to point G over the 10 time steps:\n",
       "\n",
       "\\(max \\sum_{t=1}^{10} x_{Gt}\\)\n",
       "\n",
       "Constraints:\n",
       "\n",
       "1. Water inflow at point A:\n",
       "\\[x_{A1} = f(1)\\]\n",
       "\\[x_{At} = f(t) + \\sum_{i \\in \\{B, C, F\\}} x_{it-1}, \\forall t = 2, 3, ..., 10\\]\n",
       "2. Water balance at each point (excluding A and G):\n",
       "\\[\\sum_{i \\in \\{A, B, C, F\\}} x_{it} = \\sum_{j \\in \\{B, C, D, E, F\\}} x_{tj}, \\forall t = 1, 2, ..., 10\\]\n",
       "3. Pipe capacity constraints:\n",
       "\\[x_{ijt} \\leq C_{ij} y_{ij}, \\forall i, j \\in \\{A, B, C, D, E, F, G\\}, i \\neq j, t = 1, 2, ..., 10\\]\n",
       "4. Maximum number of activated pipes:\n",
       "\\[\\sum_{i, j \\in \\{A, B, C, D, E, F, G\\}, i \\neq j} y_{ij} \\leq K\\]\n",
       "5. Non-negativity and binary constraints:\n",
       "\\[x_{ijt} \\geq 0, \\forall i, j \\in \\{A, B, C, D, E, F, G\\}, i \\neq j, t = 1, 2, ..., 10\\]\n",
       "\\[y_{ij} \\in \\{0, 1\\}, \\forall i, j \\in \\{A, B, C, D, E, F, G\\}, i \\neq j\\]\n",
       "\n",
       "This is a mixed-integer linear programming (MILP) problem, which can be solved using optimization solvers such as CPLEX, Gurobi, or GLPK."
      ],
      "text/plain": [
       "<IPython.core.display.Markdown object>"
      ]
     },
     "execution_count": 5,
     "metadata": {},
     "output_type": "execute_result"
    }
   ],
   "source": [
    "Markdown(response_1_text)"
   ]
  },
  {
   "cell_type": "code",
   "execution_count": 6,
   "id": "b6a33171",
   "metadata": {},
   "outputs": [
    {
     "name": "stdout",
     "output_type": "stream",
     "text": [
      "To formulate a mathematical optimization model for this problem, we will define the parameters, decision variables, objective function, and constraints as follows:\n",
      "\n",
      "Parameters:\n",
      "\n",
      "* \\(t\\) - time step index, \\(t = 1, 2, ..., 10\\)\n",
      "* \\(f(t)\\) - water inflow at point A at time step \\(t\\)\n",
      "* \\(C_{ij}\\) - capacity of pipe connecting points \\(i\\) and \\(j\\) (where \\(i, j \\in \\{A, B, C, D, E, F, G\\}\\) and \\(i \\neq j\\))\n",
      "* \\(N\\) - total number of pipes, \\(N = 12\\)\n",
      "* \\(K\\) - maximum number of pipes that can be activated, \\(K = 10\\)\n",
      "\n",
      "Decision variables:\n",
      "\n",
      "* \\(x_{ijt}\\) - amount of water flowing from point \\(i\\) to point \\(j\\) at time step \\(t\\)\n",
      "* \\(y_{ij}\\) - binary variable indicating whether pipe \\(ij\\) is activated or not (\\(y_{ij} = 1\\) if activated, \\(y_{ij} = 0\\) otherwise)\n",
      "\n",
      "Objective function:\n",
      "\n",
      "Maximize the total water flow to point G over the 10 time steps:\n",
      "\n",
      "\\(max \\sum_{t=1}^{10} x_{Gt}\\)\n",
      "\n",
      "Constraints:\n",
      "\n",
      "1. Water inflow at point A:\n",
      "\\[x_{A1} = f(1)\\]\n",
      "\\[x_{At} = f(t) + \\sum_{i \\in \\{B, C, F\\}} x_{it-1}, \\forall t = 2, 3, ..., 10\\]\n",
      "2. Water balance at each point (excluding A and G):\n",
      "\\[\\sum_{i \\in \\{A, B, C, F\\}} x_{it} = \\sum_{j \\in \\{B, C, D, E, F\\}} x_{tj}, \\forall t = 1, 2, ..., 10\\]\n",
      "3. Pipe capacity constraints:\n",
      "\\[x_{ijt} \\leq C_{ij} y_{ij}, \\forall i, j \\in \\{A, B, C, D, E, F, G\\}, i \\neq j, t = 1, 2, ..., 10\\]\n",
      "4. Maximum number of activated pipes:\n",
      "\\[\\sum_{i, j \\in \\{A, B, C, D, E, F, G\\}, i \\neq j} y_{ij} \\leq K\\]\n",
      "5. Non-negativity and binary constraints:\n",
      "\\[x_{ijt} \\geq 0, \\forall i, j \\in \\{A, B, C, D, E, F, G\\}, i \\neq j, t = 1, 2, ..., 10\\]\n",
      "\\[y_{ij} \\in \\{0, 1\\}, \\forall i, j \\in \\{A, B, C, D, E, F, G\\}, i \\neq j\\]\n",
      "\n",
      "This is a mixed-integer linear programming (MILP) problem, which can be solved using optimization solvers such as CPLEX, Gurobi, or GLPK.\n"
     ]
    }
   ],
   "source": [
    "print(response_1_text)"
   ]
  },
  {
   "cell_type": "markdown",
   "id": "27b5f89a",
   "metadata": {},
   "source": [
    "## Step 2 - Generate the Pyomo Code"
   ]
  },
  {
   "cell_type": "code",
   "execution_count": 7,
   "id": "a4c3312f",
   "metadata": {},
   "outputs": [],
   "source": [
    "messages_2 = [\n",
    "    ChatMessage(role=\"system\", content=SYSTEM_PROMPT_2),\n",
    "    ChatMessage(role=\"user\", content=response_1_text)\n",
    "]"
   ]
  },
  {
   "cell_type": "code",
   "execution_count": 8,
   "id": "4212d99d",
   "metadata": {},
   "outputs": [],
   "source": [
    "response_2 = client.chat(\n",
    "    model=MODEL_ID,\n",
    "    messages=messages_2,\n",
    "    random_seed=MODEL_SEED,\n",
    "    temperature=MODEL_TEMPERATURE\n",
    ")\n",
    "\n",
    "response_2_text = response_2.choices[0].message.content"
   ]
  },
  {
   "cell_type": "code",
   "execution_count": 9,
   "id": "c168a60b",
   "metadata": {},
   "outputs": [
    {
     "data": {
      "text/markdown": [
       "Here is a Python Pyomo code for the optimization problem:\n",
       "\n",
       "```python\n",
       "import pyomo.environ as pyo\n",
       "\n",
       "# Sample data (You can replace this with actual data)\n",
       "T = 10\n",
       "f = {1: 10, 2: 20, 3: 30, 4: 40, 5: 50, 6: 60, 7: 70, 8: 80, 9: 90, 10: 100}\n",
       "C = {('A', 'B'): 50, ('A', 'C'): 50, ('A', 'F'): 50, ('B', 'A'): 50, ('B', 'D'): 50, ('B', 'E'): 50, ('C', 'A'): 50, ('C', 'D'): 50, ('D', 'C'): 50, ('D', 'E'): 50, ('D', 'G'): 50, ('E', 'B'): 50, ('E', 'D'): 50, ('G', 'D'): 50}\n",
       "N = len(C)\n",
       "K = 10\n",
       "\n",
       "# Define the Pyomo model\n",
       "model = pyo.ConcreteModel()\n",
       "\n",
       "# Define the decision variables\n",
       "model.x = pyo.Var(range(1, T+1), range(1, N+1), domain=pyo.NonNegativeReals)\n",
       "model.y = pyo.Var(range(1, N+1), domain=pyo.Binary)\n",
       "\n",
       "# Define the objective function\n",
       "def obj_rule(model):\n",
       "    return sum(model.x[t, N] for t in range(1, T+1))\n",
       "model.obj = pyo.Objective(rule=obj_rule, sense=pyo.maximize)\n",
       "\n",
       "# Define the constraints\n",
       "def inflow_A_rule(model, t):\n",
       "    if t == 1:\n",
       "        return model.x[t, 1] == f[t]\n",
       "    else:\n",
       "        return model.x[t, 1] == f[t] + sum(model.x[t-1, i] for i in [2, 3, 6])\n",
       "model.inflow_A = pyo.Constraint(range(1, T+1), rule=inflow_A_rule)\n",
       "\n",
       "def water_balance_rule(model, t):\n",
       "    return sum(model.x[t, i] for i in [2, 3, 6]) == sum(model.x[t, j] for j in [2, 3, 4, 5, 6])\n",
       "model.water_balance = pyo.Constraint(range(1, T+1), rule=water_balance_rule)\n",
       "\n",
       "def pipe_capacity_rule(model, i, j, t):\n",
       "    return model.x[t, i] <= C[(i, j)] * model.y[i]\n",
       "model.pipe_capacity = pyo.Constraint(range(1, N+1), range(1, N+1), range(1, T+1), rule=pipe_capacity_rule)\n",
       "\n",
       "def max_pipes_rule(model):\n",
       "    return sum(model.y[i] for i in range(1, N+1)) <= K\n",
       "model.max_pipes = pyo.Constraint(rule=max_pipes_rule)\n",
       "\n",
       "# Solve the model\n",
       "solver = pyo.SolverFactory('glpk')\n",
       "solver.solve(model)\n",
       "\n",
       "# Print the solution\n",
       "print(\"Optimal solution found!\")\n",
       "print(\"Total water flow to point G: \", pyo.value(model.obj))\n",
       "print(\"Activated pipes: \", [i for i in range(1, N+1) if pyo.value(model.y[i]) == 1])\n",
       "```\n",
       "\n",
       "This code uses the GLPK solver to solve the optimization problem. You can replace the sample data with actual data and use a different solver if needed."
      ],
      "text/plain": [
       "<IPython.core.display.Markdown object>"
      ]
     },
     "execution_count": 9,
     "metadata": {},
     "output_type": "execute_result"
    }
   ],
   "source": [
    "Markdown(response_2_text)"
   ]
  },
  {
   "cell_type": "code",
   "execution_count": 10,
   "id": "a380c180",
   "metadata": {},
   "outputs": [
    {
     "name": "stdout",
     "output_type": "stream",
     "text": [
      "Here is a Python Pyomo code for the optimization problem:\n",
      "\n",
      "```python\n",
      "import pyomo.environ as pyo\n",
      "\n",
      "# Sample data (You can replace this with actual data)\n",
      "T = 10\n",
      "f = {1: 10, 2: 20, 3: 30, 4: 40, 5: 50, 6: 60, 7: 70, 8: 80, 9: 90, 10: 100}\n",
      "C = {('A', 'B'): 50, ('A', 'C'): 50, ('A', 'F'): 50, ('B', 'A'): 50, ('B', 'D'): 50, ('B', 'E'): 50, ('C', 'A'): 50, ('C', 'D'): 50, ('D', 'C'): 50, ('D', 'E'): 50, ('D', 'G'): 50, ('E', 'B'): 50, ('E', 'D'): 50, ('G', 'D'): 50}\n",
      "N = len(C)\n",
      "K = 10\n",
      "\n",
      "# Define the Pyomo model\n",
      "model = pyo.ConcreteModel()\n",
      "\n",
      "# Define the decision variables\n",
      "model.x = pyo.Var(range(1, T+1), range(1, N+1), domain=pyo.NonNegativeReals)\n",
      "model.y = pyo.Var(range(1, N+1), domain=pyo.Binary)\n",
      "\n",
      "# Define the objective function\n",
      "def obj_rule(model):\n",
      "    return sum(model.x[t, N] for t in range(1, T+1))\n",
      "model.obj = pyo.Objective(rule=obj_rule, sense=pyo.maximize)\n",
      "\n",
      "# Define the constraints\n",
      "def inflow_A_rule(model, t):\n",
      "    if t == 1:\n",
      "        return model.x[t, 1] == f[t]\n",
      "    else:\n",
      "        return model.x[t, 1] == f[t] + sum(model.x[t-1, i] for i in [2, 3, 6])\n",
      "model.inflow_A = pyo.Constraint(range(1, T+1), rule=inflow_A_rule)\n",
      "\n",
      "def water_balance_rule(model, t):\n",
      "    return sum(model.x[t, i] for i in [2, 3, 6]) == sum(model.x[t, j] for j in [2, 3, 4, 5, 6])\n",
      "model.water_balance = pyo.Constraint(range(1, T+1), rule=water_balance_rule)\n",
      "\n",
      "def pipe_capacity_rule(model, i, j, t):\n",
      "    return model.x[t, i] <= C[(i, j)] * model.y[i]\n",
      "model.pipe_capacity = pyo.Constraint(range(1, N+1), range(1, N+1), range(1, T+1), rule=pipe_capacity_rule)\n",
      "\n",
      "def max_pipes_rule(model):\n",
      "    return sum(model.y[i] for i in range(1, N+1)) <= K\n",
      "model.max_pipes = pyo.Constraint(rule=max_pipes_rule)\n",
      "\n",
      "# Solve the model\n",
      "solver = pyo.SolverFactory('glpk')\n",
      "solver.solve(model)\n",
      "\n",
      "# Print the solution\n",
      "print(\"Optimal solution found!\")\n",
      "print(\"Total water flow to point G: \", pyo.value(model.obj))\n",
      "print(\"Activated pipes: \", [i for i in range(1, N+1) if pyo.value(model.y[i]) == 1])\n",
      "```\n",
      "\n",
      "This code uses the GLPK solver to solve the optimization problem. You can replace the sample data with actual data and use a different solver if needed.\n"
     ]
    }
   ],
   "source": [
    "print(response_2_text)"
   ]
  },
  {
   "cell_type": "markdown",
   "id": "879cc7ae",
   "metadata": {},
   "source": [
    "### Code Executability"
   ]
  },
  {
   "cell_type": "code",
   "execution_count": 11,
   "id": "f1d9a625",
   "metadata": {},
   "outputs": [
    {
     "name": "stderr",
     "output_type": "stream",
     "text": [
      "2024-05-22 19:45:57,738 ERROR pyomo.core: Rule failed when generating expression for Constraint pipe_capacity with index (1, 1, 1):\n",
      "KeyError: (1, 1)\n",
      "2024-05-22 19:45:57,739 ERROR pyomo.core: Constructing component 'pipe_capacity' from data=None failed:\n",
      "KeyError: (1, 1)\n"
     ]
    },
    {
     "ename": "KeyError",
     "evalue": "(1, 1)",
     "output_type": "error",
     "traceback": [
      "\u001b[1;31m---------------------------------------------------------------------------\u001b[0m",
      "\u001b[1;31mKeyError\u001b[0m                                  Traceback (most recent call last)",
      "Input \u001b[1;32mIn [11]\u001b[0m, in \u001b[0;36m<cell line: 36>\u001b[1;34m()\u001b[0m\n\u001b[0;32m     34\u001b[0m \u001b[38;5;28;01mdef\u001b[39;00m \u001b[38;5;21mpipe_capacity_rule\u001b[39m(model, i, j, t):\n\u001b[0;32m     35\u001b[0m     \u001b[38;5;28;01mreturn\u001b[39;00m model\u001b[38;5;241m.\u001b[39mx[t, i] \u001b[38;5;241m<\u001b[39m\u001b[38;5;241m=\u001b[39m C[(i, j)] \u001b[38;5;241m*\u001b[39m model\u001b[38;5;241m.\u001b[39my[i]\n\u001b[1;32m---> 36\u001b[0m model\u001b[38;5;241m.\u001b[39mpipe_capacity \u001b[38;5;241m=\u001b[39m pyo\u001b[38;5;241m.\u001b[39mConstraint(\u001b[38;5;28mrange\u001b[39m(\u001b[38;5;241m1\u001b[39m, N\u001b[38;5;241m+\u001b[39m\u001b[38;5;241m1\u001b[39m), \u001b[38;5;28mrange\u001b[39m(\u001b[38;5;241m1\u001b[39m, N\u001b[38;5;241m+\u001b[39m\u001b[38;5;241m1\u001b[39m), \u001b[38;5;28mrange\u001b[39m(\u001b[38;5;241m1\u001b[39m, T\u001b[38;5;241m+\u001b[39m\u001b[38;5;241m1\u001b[39m), rule\u001b[38;5;241m=\u001b[39mpipe_capacity_rule)\n\u001b[0;32m     38\u001b[0m \u001b[38;5;28;01mdef\u001b[39;00m \u001b[38;5;21mmax_pipes_rule\u001b[39m(model):\n\u001b[0;32m     39\u001b[0m     \u001b[38;5;28;01mreturn\u001b[39;00m \u001b[38;5;28msum\u001b[39m(model\u001b[38;5;241m.\u001b[39my[i] \u001b[38;5;28;01mfor\u001b[39;00m i \u001b[38;5;129;01min\u001b[39;00m \u001b[38;5;28mrange\u001b[39m(\u001b[38;5;241m1\u001b[39m, N\u001b[38;5;241m+\u001b[39m\u001b[38;5;241m1\u001b[39m)) \u001b[38;5;241m<\u001b[39m\u001b[38;5;241m=\u001b[39m K\n",
      "File \u001b[1;32m~\\AppData\\Roaming\\Python\\Python310\\site-packages\\pyomo\\core\\base\\block.py:639\u001b[0m, in \u001b[0;36m_BlockData.__setattr__\u001b[1;34m(self, name, val)\u001b[0m\n\u001b[0;32m    634\u001b[0m \u001b[38;5;28;01mif\u001b[39;00m name \u001b[38;5;129;01mnot\u001b[39;00m \u001b[38;5;129;01min\u001b[39;00m \u001b[38;5;28mself\u001b[39m\u001b[38;5;241m.\u001b[39m\u001b[38;5;18m__dict__\u001b[39m:\n\u001b[0;32m    635\u001b[0m     \u001b[38;5;28;01mif\u001b[39;00m \u001b[38;5;28misinstance\u001b[39m(val, Component):\n\u001b[0;32m    636\u001b[0m         \u001b[38;5;66;03m#\u001b[39;00m\n\u001b[0;32m    637\u001b[0m         \u001b[38;5;66;03m# Pyomo components are added with the add_component method.\u001b[39;00m\n\u001b[0;32m    638\u001b[0m         \u001b[38;5;66;03m#\u001b[39;00m\n\u001b[1;32m--> 639\u001b[0m         \u001b[38;5;28;43mself\u001b[39;49m\u001b[38;5;241;43m.\u001b[39;49m\u001b[43madd_component\u001b[49m\u001b[43m(\u001b[49m\u001b[43mname\u001b[49m\u001b[43m,\u001b[49m\u001b[43m \u001b[49m\u001b[43mval\u001b[49m\u001b[43m)\u001b[49m\n\u001b[0;32m    640\u001b[0m     \u001b[38;5;28;01melse\u001b[39;00m:\n\u001b[0;32m    641\u001b[0m         \u001b[38;5;66;03m#\u001b[39;00m\n\u001b[0;32m    642\u001b[0m         \u001b[38;5;66;03m# Other Python objects are added with the standard __setattr__\u001b[39;00m\n\u001b[0;32m    643\u001b[0m         \u001b[38;5;66;03m# method.\u001b[39;00m\n\u001b[0;32m    644\u001b[0m         \u001b[38;5;66;03m#\u001b[39;00m\n\u001b[0;32m    645\u001b[0m         \u001b[38;5;28msuper\u001b[39m(_BlockData, \u001b[38;5;28mself\u001b[39m)\u001b[38;5;241m.\u001b[39m\u001b[38;5;21m__setattr__\u001b[39m(name, val)\n",
      "File \u001b[1;32m~\\AppData\\Roaming\\Python\\Python310\\site-packages\\pyomo\\core\\base\\block.py:1186\u001b[0m, in \u001b[0;36m_BlockData.add_component\u001b[1;34m(self, name, val)\u001b[0m\n\u001b[0;32m   1182\u001b[0m     logger\u001b[38;5;241m.\u001b[39mdebug(\u001b[38;5;124m\"\u001b[39m\u001b[38;5;124mConstructing \u001b[39m\u001b[38;5;132;01m%s\u001b[39;00m\u001b[38;5;124m \u001b[39m\u001b[38;5;124m'\u001b[39m\u001b[38;5;132;01m%s\u001b[39;00m\u001b[38;5;124m'\u001b[39m\u001b[38;5;124m on \u001b[39m\u001b[38;5;132;01m%s\u001b[39;00m\u001b[38;5;124m from data=\u001b[39m\u001b[38;5;132;01m%s\u001b[39;00m\u001b[38;5;124m\"\u001b[39m,\n\u001b[0;32m   1183\u001b[0m                  val\u001b[38;5;241m.\u001b[39m\u001b[38;5;18m__class__\u001b[39m\u001b[38;5;241m.\u001b[39m\u001b[38;5;18m__name__\u001b[39m, name,\n\u001b[0;32m   1184\u001b[0m                  _blockName, \u001b[38;5;28mstr\u001b[39m(data))\n\u001b[0;32m   1185\u001b[0m \u001b[38;5;28;01mtry\u001b[39;00m:\n\u001b[1;32m-> 1186\u001b[0m     \u001b[43mval\u001b[49m\u001b[38;5;241;43m.\u001b[39;49m\u001b[43mconstruct\u001b[49m\u001b[43m(\u001b[49m\u001b[43mdata\u001b[49m\u001b[43m)\u001b[49m\n\u001b[0;32m   1187\u001b[0m \u001b[38;5;28;01mexcept\u001b[39;00m:\n\u001b[0;32m   1188\u001b[0m     err \u001b[38;5;241m=\u001b[39m sys\u001b[38;5;241m.\u001b[39mexc_info()[\u001b[38;5;241m1\u001b[39m]\n",
      "File \u001b[1;32m~\\AppData\\Roaming\\Python\\Python310\\site-packages\\pyomo\\core\\base\\constraint.py:772\u001b[0m, in \u001b[0;36mConstraint.construct\u001b[1;34m(self, data)\u001b[0m\n\u001b[0;32m    769\u001b[0m     \u001b[38;5;28;01melse\u001b[39;00m:\n\u001b[0;32m    770\u001b[0m         \u001b[38;5;66;03m# Bypass the index validation and create the member directly\u001b[39;00m\n\u001b[0;32m    771\u001b[0m         \u001b[38;5;28;01mfor\u001b[39;00m index \u001b[38;5;129;01min\u001b[39;00m \u001b[38;5;28mself\u001b[39m\u001b[38;5;241m.\u001b[39mindex_set():\n\u001b[1;32m--> 772\u001b[0m             \u001b[38;5;28mself\u001b[39m\u001b[38;5;241m.\u001b[39m_setitem_when_not_present(index, \u001b[43mrule\u001b[49m\u001b[43m(\u001b[49m\u001b[43mblock\u001b[49m\u001b[43m,\u001b[49m\u001b[43m \u001b[49m\u001b[43mindex\u001b[49m\u001b[43m)\u001b[49m)\n\u001b[0;32m    773\u001b[0m \u001b[38;5;28;01mexcept\u001b[39;00m \u001b[38;5;167;01mException\u001b[39;00m:\n\u001b[0;32m    774\u001b[0m     err \u001b[38;5;241m=\u001b[39m sys\u001b[38;5;241m.\u001b[39mexc_info()[\u001b[38;5;241m1\u001b[39m]\n",
      "File \u001b[1;32m~\\AppData\\Roaming\\Python\\Python310\\site-packages\\pyomo\\core\\base\\initializer.py:280\u001b[0m, in \u001b[0;36mIndexedCallInitializer.__call__\u001b[1;34m(self, parent, idx)\u001b[0m\n\u001b[0;32m    274\u001b[0m \u001b[38;5;28;01mdef\u001b[39;00m \u001b[38;5;21m__call__\u001b[39m(\u001b[38;5;28mself\u001b[39m, parent, idx):\n\u001b[0;32m    275\u001b[0m     \u001b[38;5;66;03m# Note: this is called by a component using data from a Set (so\u001b[39;00m\n\u001b[0;32m    276\u001b[0m     \u001b[38;5;66;03m# any tuple-like type should have already been checked and\u001b[39;00m\n\u001b[0;32m    277\u001b[0m     \u001b[38;5;66;03m# converted to a tuple; or flattening is turned off and it is\u001b[39;00m\n\u001b[0;32m    278\u001b[0m     \u001b[38;5;66;03m# the user's responsibility to sort things out.\u001b[39;00m\n\u001b[0;32m    279\u001b[0m     \u001b[38;5;28;01mif\u001b[39;00m idx\u001b[38;5;241m.\u001b[39m\u001b[38;5;18m__class__\u001b[39m \u001b[38;5;129;01mis\u001b[39;00m \u001b[38;5;28mtuple\u001b[39m:\n\u001b[1;32m--> 280\u001b[0m         \u001b[38;5;28;01mreturn\u001b[39;00m \u001b[38;5;28;43mself\u001b[39;49m\u001b[38;5;241;43m.\u001b[39;49m\u001b[43m_fcn\u001b[49m\u001b[43m(\u001b[49m\u001b[43mparent\u001b[49m\u001b[43m,\u001b[49m\u001b[43m \u001b[49m\u001b[38;5;241;43m*\u001b[39;49m\u001b[43midx\u001b[49m\u001b[43m)\u001b[49m\n\u001b[0;32m    281\u001b[0m     \u001b[38;5;28;01melse\u001b[39;00m:\n\u001b[0;32m    282\u001b[0m         \u001b[38;5;28;01mreturn\u001b[39;00m \u001b[38;5;28mself\u001b[39m\u001b[38;5;241m.\u001b[39m_fcn(parent, idx)\n",
      "Input \u001b[1;32mIn [11]\u001b[0m, in \u001b[0;36mpipe_capacity_rule\u001b[1;34m(model, i, j, t)\u001b[0m\n\u001b[0;32m     34\u001b[0m \u001b[38;5;28;01mdef\u001b[39;00m \u001b[38;5;21mpipe_capacity_rule\u001b[39m(model, i, j, t):\n\u001b[1;32m---> 35\u001b[0m     \u001b[38;5;28;01mreturn\u001b[39;00m model\u001b[38;5;241m.\u001b[39mx[t, i] \u001b[38;5;241m<\u001b[39m\u001b[38;5;241m=\u001b[39m \u001b[43mC\u001b[49m\u001b[43m[\u001b[49m\u001b[43m(\u001b[49m\u001b[43mi\u001b[49m\u001b[43m,\u001b[49m\u001b[43m \u001b[49m\u001b[43mj\u001b[49m\u001b[43m)\u001b[49m\u001b[43m]\u001b[49m \u001b[38;5;241m*\u001b[39m model\u001b[38;5;241m.\u001b[39my[i]\n",
      "\u001b[1;31mKeyError\u001b[0m: (1, 1)"
     ]
    }
   ],
   "source": [
    "import pyomo.environ as pyo\n",
    "\n",
    "# Sample data (You can replace this with actual data)\n",
    "T = 10\n",
    "f = {1: 10, 2: 20, 3: 30, 4: 40, 5: 50, 6: 60, 7: 70, 8: 80, 9: 90, 10: 100}\n",
    "C = {('A', 'B'): 50, ('A', 'C'): 50, ('A', 'F'): 50, ('B', 'A'): 50, ('B', 'D'): 50, ('B', 'E'): 50, ('C', 'A'): 50, ('C', 'D'): 50, ('D', 'C'): 50, ('D', 'E'): 50, ('D', 'G'): 50, ('E', 'B'): 50, ('E', 'D'): 50, ('G', 'D'): 50}\n",
    "N = len(C)\n",
    "K = 10\n",
    "\n",
    "# Define the Pyomo model\n",
    "model = pyo.ConcreteModel()\n",
    "\n",
    "# Define the decision variables\n",
    "model.x = pyo.Var(range(1, T+1), range(1, N+1), domain=pyo.NonNegativeReals)\n",
    "model.y = pyo.Var(range(1, N+1), domain=pyo.Binary)\n",
    "\n",
    "# Define the objective function\n",
    "def obj_rule(model):\n",
    "    return sum(model.x[t, N] for t in range(1, T+1))\n",
    "model.obj = pyo.Objective(rule=obj_rule, sense=pyo.maximize)\n",
    "\n",
    "# Define the constraints\n",
    "def inflow_A_rule(model, t):\n",
    "    if t == 1:\n",
    "        return model.x[t, 1] == f[t]\n",
    "    else:\n",
    "        return model.x[t, 1] == f[t] + sum(model.x[t-1, i] for i in [2, 3, 6])\n",
    "model.inflow_A = pyo.Constraint(range(1, T+1), rule=inflow_A_rule)\n",
    "\n",
    "def water_balance_rule(model, t):\n",
    "    return sum(model.x[t, i] for i in [2, 3, 6]) == sum(model.x[t, j] for j in [2, 3, 4, 5, 6])\n",
    "model.water_balance = pyo.Constraint(range(1, T+1), rule=water_balance_rule)\n",
    "\n",
    "def pipe_capacity_rule(model, i, j, t):\n",
    "    return model.x[t, i] <= C[(i, j)] * model.y[i]\n",
    "model.pipe_capacity = pyo.Constraint(range(1, N+1), range(1, N+1), range(1, T+1), rule=pipe_capacity_rule)\n",
    "\n",
    "def max_pipes_rule(model):\n",
    "    return sum(model.y[i] for i in range(1, N+1)) <= K\n",
    "model.max_pipes = pyo.Constraint(rule=max_pipes_rule)\n",
    "\n",
    "# Solve the model\n",
    "solver = pyo.SolverFactory('glpk')\n",
    "solver.solve(model)\n",
    "\n",
    "# Print the solution\n",
    "print(\"Optimal solution found!\")\n",
    "print(\"Total water flow to point G: \", pyo.value(model.obj))\n",
    "print(\"Activated pipes: \", [i for i in range(1, N+1) if pyo.value(model.y[i]) == 1])"
   ]
  },
  {
   "cell_type": "markdown",
   "id": "95f5c3a8",
   "metadata": {},
   "source": [
    "### Solution Correctness"
   ]
  },
  {
   "cell_type": "code",
   "execution_count": 12,
   "id": "01245691",
   "metadata": {},
   "outputs": [
    {
     "name": "stderr",
     "output_type": "stream",
     "text": [
      "2024-05-22 19:46:28,409 ERROR pyomo.core: Rule failed when generating expression for Constraint pipe_capacity with index (1, 1, 1):\n",
      "KeyError: (1, 1)\n",
      "2024-05-22 19:46:28,410 ERROR pyomo.core: Constructing component 'pipe_capacity' from data=None failed:\n",
      "KeyError: (1, 1)\n"
     ]
    },
    {
     "ename": "KeyError",
     "evalue": "(1, 1)",
     "output_type": "error",
     "traceback": [
      "\u001b[1;31m---------------------------------------------------------------------------\u001b[0m",
      "\u001b[1;31mKeyError\u001b[0m                                  Traceback (most recent call last)",
      "Input \u001b[1;32mIn [12]\u001b[0m, in \u001b[0;36m<cell line: 36>\u001b[1;34m()\u001b[0m\n\u001b[0;32m     34\u001b[0m \u001b[38;5;28;01mdef\u001b[39;00m \u001b[38;5;21mpipe_capacity_rule\u001b[39m(model, i, j, t):\n\u001b[0;32m     35\u001b[0m     \u001b[38;5;28;01mreturn\u001b[39;00m model\u001b[38;5;241m.\u001b[39mx[t, i] \u001b[38;5;241m<\u001b[39m\u001b[38;5;241m=\u001b[39m C[(i, j)] \u001b[38;5;241m*\u001b[39m model\u001b[38;5;241m.\u001b[39my[i]\n\u001b[1;32m---> 36\u001b[0m model\u001b[38;5;241m.\u001b[39mpipe_capacity \u001b[38;5;241m=\u001b[39m pyo\u001b[38;5;241m.\u001b[39mConstraint(\u001b[38;5;28mrange\u001b[39m(\u001b[38;5;241m1\u001b[39m, N\u001b[38;5;241m+\u001b[39m\u001b[38;5;241m1\u001b[39m), \u001b[38;5;28mrange\u001b[39m(\u001b[38;5;241m1\u001b[39m, N\u001b[38;5;241m+\u001b[39m\u001b[38;5;241m1\u001b[39m), \u001b[38;5;28mrange\u001b[39m(\u001b[38;5;241m1\u001b[39m, T\u001b[38;5;241m+\u001b[39m\u001b[38;5;241m1\u001b[39m), rule\u001b[38;5;241m=\u001b[39mpipe_capacity_rule)\n\u001b[0;32m     38\u001b[0m \u001b[38;5;28;01mdef\u001b[39;00m \u001b[38;5;21mmax_pipes_rule\u001b[39m(model):\n\u001b[0;32m     39\u001b[0m     \u001b[38;5;28;01mreturn\u001b[39;00m \u001b[38;5;28msum\u001b[39m(model\u001b[38;5;241m.\u001b[39my[i] \u001b[38;5;28;01mfor\u001b[39;00m i \u001b[38;5;129;01min\u001b[39;00m \u001b[38;5;28mrange\u001b[39m(\u001b[38;5;241m1\u001b[39m, N\u001b[38;5;241m+\u001b[39m\u001b[38;5;241m1\u001b[39m)) \u001b[38;5;241m<\u001b[39m\u001b[38;5;241m=\u001b[39m K\n",
      "File \u001b[1;32m~\\AppData\\Roaming\\Python\\Python310\\site-packages\\pyomo\\core\\base\\block.py:639\u001b[0m, in \u001b[0;36m_BlockData.__setattr__\u001b[1;34m(self, name, val)\u001b[0m\n\u001b[0;32m    634\u001b[0m \u001b[38;5;28;01mif\u001b[39;00m name \u001b[38;5;129;01mnot\u001b[39;00m \u001b[38;5;129;01min\u001b[39;00m \u001b[38;5;28mself\u001b[39m\u001b[38;5;241m.\u001b[39m\u001b[38;5;18m__dict__\u001b[39m:\n\u001b[0;32m    635\u001b[0m     \u001b[38;5;28;01mif\u001b[39;00m \u001b[38;5;28misinstance\u001b[39m(val, Component):\n\u001b[0;32m    636\u001b[0m         \u001b[38;5;66;03m#\u001b[39;00m\n\u001b[0;32m    637\u001b[0m         \u001b[38;5;66;03m# Pyomo components are added with the add_component method.\u001b[39;00m\n\u001b[0;32m    638\u001b[0m         \u001b[38;5;66;03m#\u001b[39;00m\n\u001b[1;32m--> 639\u001b[0m         \u001b[38;5;28;43mself\u001b[39;49m\u001b[38;5;241;43m.\u001b[39;49m\u001b[43madd_component\u001b[49m\u001b[43m(\u001b[49m\u001b[43mname\u001b[49m\u001b[43m,\u001b[49m\u001b[43m \u001b[49m\u001b[43mval\u001b[49m\u001b[43m)\u001b[49m\n\u001b[0;32m    640\u001b[0m     \u001b[38;5;28;01melse\u001b[39;00m:\n\u001b[0;32m    641\u001b[0m         \u001b[38;5;66;03m#\u001b[39;00m\n\u001b[0;32m    642\u001b[0m         \u001b[38;5;66;03m# Other Python objects are added with the standard __setattr__\u001b[39;00m\n\u001b[0;32m    643\u001b[0m         \u001b[38;5;66;03m# method.\u001b[39;00m\n\u001b[0;32m    644\u001b[0m         \u001b[38;5;66;03m#\u001b[39;00m\n\u001b[0;32m    645\u001b[0m         \u001b[38;5;28msuper\u001b[39m(_BlockData, \u001b[38;5;28mself\u001b[39m)\u001b[38;5;241m.\u001b[39m\u001b[38;5;21m__setattr__\u001b[39m(name, val)\n",
      "File \u001b[1;32m~\\AppData\\Roaming\\Python\\Python310\\site-packages\\pyomo\\core\\base\\block.py:1186\u001b[0m, in \u001b[0;36m_BlockData.add_component\u001b[1;34m(self, name, val)\u001b[0m\n\u001b[0;32m   1182\u001b[0m     logger\u001b[38;5;241m.\u001b[39mdebug(\u001b[38;5;124m\"\u001b[39m\u001b[38;5;124mConstructing \u001b[39m\u001b[38;5;132;01m%s\u001b[39;00m\u001b[38;5;124m \u001b[39m\u001b[38;5;124m'\u001b[39m\u001b[38;5;132;01m%s\u001b[39;00m\u001b[38;5;124m'\u001b[39m\u001b[38;5;124m on \u001b[39m\u001b[38;5;132;01m%s\u001b[39;00m\u001b[38;5;124m from data=\u001b[39m\u001b[38;5;132;01m%s\u001b[39;00m\u001b[38;5;124m\"\u001b[39m,\n\u001b[0;32m   1183\u001b[0m                  val\u001b[38;5;241m.\u001b[39m\u001b[38;5;18m__class__\u001b[39m\u001b[38;5;241m.\u001b[39m\u001b[38;5;18m__name__\u001b[39m, name,\n\u001b[0;32m   1184\u001b[0m                  _blockName, \u001b[38;5;28mstr\u001b[39m(data))\n\u001b[0;32m   1185\u001b[0m \u001b[38;5;28;01mtry\u001b[39;00m:\n\u001b[1;32m-> 1186\u001b[0m     \u001b[43mval\u001b[49m\u001b[38;5;241;43m.\u001b[39;49m\u001b[43mconstruct\u001b[49m\u001b[43m(\u001b[49m\u001b[43mdata\u001b[49m\u001b[43m)\u001b[49m\n\u001b[0;32m   1187\u001b[0m \u001b[38;5;28;01mexcept\u001b[39;00m:\n\u001b[0;32m   1188\u001b[0m     err \u001b[38;5;241m=\u001b[39m sys\u001b[38;5;241m.\u001b[39mexc_info()[\u001b[38;5;241m1\u001b[39m]\n",
      "File \u001b[1;32m~\\AppData\\Roaming\\Python\\Python310\\site-packages\\pyomo\\core\\base\\constraint.py:772\u001b[0m, in \u001b[0;36mConstraint.construct\u001b[1;34m(self, data)\u001b[0m\n\u001b[0;32m    769\u001b[0m     \u001b[38;5;28;01melse\u001b[39;00m:\n\u001b[0;32m    770\u001b[0m         \u001b[38;5;66;03m# Bypass the index validation and create the member directly\u001b[39;00m\n\u001b[0;32m    771\u001b[0m         \u001b[38;5;28;01mfor\u001b[39;00m index \u001b[38;5;129;01min\u001b[39;00m \u001b[38;5;28mself\u001b[39m\u001b[38;5;241m.\u001b[39mindex_set():\n\u001b[1;32m--> 772\u001b[0m             \u001b[38;5;28mself\u001b[39m\u001b[38;5;241m.\u001b[39m_setitem_when_not_present(index, \u001b[43mrule\u001b[49m\u001b[43m(\u001b[49m\u001b[43mblock\u001b[49m\u001b[43m,\u001b[49m\u001b[43m \u001b[49m\u001b[43mindex\u001b[49m\u001b[43m)\u001b[49m)\n\u001b[0;32m    773\u001b[0m \u001b[38;5;28;01mexcept\u001b[39;00m \u001b[38;5;167;01mException\u001b[39;00m:\n\u001b[0;32m    774\u001b[0m     err \u001b[38;5;241m=\u001b[39m sys\u001b[38;5;241m.\u001b[39mexc_info()[\u001b[38;5;241m1\u001b[39m]\n",
      "File \u001b[1;32m~\\AppData\\Roaming\\Python\\Python310\\site-packages\\pyomo\\core\\base\\initializer.py:280\u001b[0m, in \u001b[0;36mIndexedCallInitializer.__call__\u001b[1;34m(self, parent, idx)\u001b[0m\n\u001b[0;32m    274\u001b[0m \u001b[38;5;28;01mdef\u001b[39;00m \u001b[38;5;21m__call__\u001b[39m(\u001b[38;5;28mself\u001b[39m, parent, idx):\n\u001b[0;32m    275\u001b[0m     \u001b[38;5;66;03m# Note: this is called by a component using data from a Set (so\u001b[39;00m\n\u001b[0;32m    276\u001b[0m     \u001b[38;5;66;03m# any tuple-like type should have already been checked and\u001b[39;00m\n\u001b[0;32m    277\u001b[0m     \u001b[38;5;66;03m# converted to a tuple; or flattening is turned off and it is\u001b[39;00m\n\u001b[0;32m    278\u001b[0m     \u001b[38;5;66;03m# the user's responsibility to sort things out.\u001b[39;00m\n\u001b[0;32m    279\u001b[0m     \u001b[38;5;28;01mif\u001b[39;00m idx\u001b[38;5;241m.\u001b[39m\u001b[38;5;18m__class__\u001b[39m \u001b[38;5;129;01mis\u001b[39;00m \u001b[38;5;28mtuple\u001b[39m:\n\u001b[1;32m--> 280\u001b[0m         \u001b[38;5;28;01mreturn\u001b[39;00m \u001b[38;5;28;43mself\u001b[39;49m\u001b[38;5;241;43m.\u001b[39;49m\u001b[43m_fcn\u001b[49m\u001b[43m(\u001b[49m\u001b[43mparent\u001b[49m\u001b[43m,\u001b[49m\u001b[43m \u001b[49m\u001b[38;5;241;43m*\u001b[39;49m\u001b[43midx\u001b[49m\u001b[43m)\u001b[49m\n\u001b[0;32m    281\u001b[0m     \u001b[38;5;28;01melse\u001b[39;00m:\n\u001b[0;32m    282\u001b[0m         \u001b[38;5;28;01mreturn\u001b[39;00m \u001b[38;5;28mself\u001b[39m\u001b[38;5;241m.\u001b[39m_fcn(parent, idx)\n",
      "Input \u001b[1;32mIn [12]\u001b[0m, in \u001b[0;36mpipe_capacity_rule\u001b[1;34m(model, i, j, t)\u001b[0m\n\u001b[0;32m     34\u001b[0m \u001b[38;5;28;01mdef\u001b[39;00m \u001b[38;5;21mpipe_capacity_rule\u001b[39m(model, i, j, t):\n\u001b[1;32m---> 35\u001b[0m     \u001b[38;5;28;01mreturn\u001b[39;00m model\u001b[38;5;241m.\u001b[39mx[t, i] \u001b[38;5;241m<\u001b[39m\u001b[38;5;241m=\u001b[39m \u001b[43mC\u001b[49m\u001b[43m[\u001b[49m\u001b[43m(\u001b[49m\u001b[43mi\u001b[49m\u001b[43m,\u001b[49m\u001b[43m \u001b[49m\u001b[43mj\u001b[49m\u001b[43m)\u001b[49m\u001b[43m]\u001b[49m \u001b[38;5;241m*\u001b[39m model\u001b[38;5;241m.\u001b[39my[i]\n",
      "\u001b[1;31mKeyError\u001b[0m: (1, 1)"
     ]
    }
   ],
   "source": [
    "import pyomo.environ as pyo\n",
    "\n",
    "# Sample data (You can replace this with actual data)\n",
    "T = 10\n",
    "f = {1: 10, 2: 20, 3: 30, 4: 40, 5: 50, 6: 60, 7: 70, 8: 80, 9: 90, 10: 100}\n",
    "C = {('A', 'B'): 50, ('A', 'C'): 50, ('A', 'F'): 50, ('B', 'A'): 50, ('B', 'D'): 50, ('B', 'E'): 50, ('C', 'A'): 50, ('C', 'D'): 50, ('D', 'C'): 50, ('D', 'E'): 50, ('D', 'G'): 50, ('E', 'B'): 50, ('E', 'D'): 50, ('G', 'D'): 50}\n",
    "N = len(C)\n",
    "K = 10\n",
    "\n",
    "# Define the Pyomo model\n",
    "model = pyo.ConcreteModel()\n",
    "\n",
    "# Define the decision variables\n",
    "model.x = pyo.Var(range(1, T+1), range(1, N+1), domain=pyo.NonNegativeReals)\n",
    "model.y = pyo.Var(range(1, N+1), domain=pyo.Binary)\n",
    "\n",
    "# Define the objective function\n",
    "def obj_rule(model):\n",
    "    return sum(model.x[t, N] for t in range(1, T+1))\n",
    "model.obj = pyo.Objective(rule=obj_rule, sense=pyo.maximize)\n",
    "\n",
    "# Define the constraints\n",
    "def inflow_A_rule(model, t):\n",
    "    if t == 1:\n",
    "        return model.x[t, 1] == f[t]\n",
    "    else:\n",
    "        return model.x[t, 1] == f[t] + sum(model.x[t-1, i] for i in [2, 3, 6])\n",
    "model.inflow_A = pyo.Constraint(range(1, T+1), rule=inflow_A_rule)\n",
    "\n",
    "def water_balance_rule(model, t):\n",
    "    return sum(model.x[t, i] for i in [2, 3, 6]) == sum(model.x[t, j] for j in [2, 3, 4, 5, 6])\n",
    "model.water_balance = pyo.Constraint(range(1, T+1), rule=water_balance_rule)\n",
    "\n",
    "def pipe_capacity_rule(model, i, j, t):\n",
    "    return model.x[t, i] <= C[(i, j)] * model.y[i]\n",
    "model.pipe_capacity = pyo.Constraint(range(1, N+1), range(1, N+1), range(1, T+1), rule=pipe_capacity_rule)\n",
    "\n",
    "def max_pipes_rule(model):\n",
    "    return sum(model.y[i] for i in range(1, N+1)) <= K\n",
    "model.max_pipes = pyo.Constraint(rule=max_pipes_rule)\n",
    "\n",
    "# Solve the model\n",
    "solver = pyo.SolverFactory('glpk')\n",
    "solver.solve(model)\n",
    "\n",
    "# Print the solution\n",
    "print(\"Optimal solution found!\")\n",
    "print(\"Total water flow to point G: \", pyo.value(model.obj))\n",
    "print(\"Activated pipes: \", [i for i in range(1, N+1) if pyo.value(model.y[i]) == 1])"
   ]
  }
 ],
 "metadata": {
  "kernelspec": {
   "display_name": "Python 3 (ipykernel)",
   "language": "python",
   "name": "python3"
  },
  "language_info": {
   "codemirror_mode": {
    "name": "ipython",
    "version": 3
   },
   "file_extension": ".py",
   "mimetype": "text/x-python",
   "name": "python",
   "nbconvert_exporter": "python",
   "pygments_lexer": "ipython3",
   "version": "3.10.4"
  }
 },
 "nbformat": 4,
 "nbformat_minor": 5
}
