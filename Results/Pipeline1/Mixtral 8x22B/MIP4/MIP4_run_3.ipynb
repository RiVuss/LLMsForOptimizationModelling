{
 "cells": [
  {
   "cell_type": "code",
   "execution_count": 1,
   "id": "e5c2c174",
   "metadata": {},
   "outputs": [],
   "source": [
    "import os\n",
    "from mistralai.client import MistralClient\n",
    "from mistralai.models.chat_completion import ChatMessage\n",
    "from IPython.display import display, Markdown, Latex\n",
    "from datetime import datetime"
   ]
  },
  {
   "cell_type": "code",
   "execution_count": 2,
   "id": "b0c91a62",
   "metadata": {},
   "outputs": [
    {
     "name": "stdout",
     "output_type": "stream",
     "text": [
      "Time of execution: 2024-05-22 19:52:16.809824\n"
     ]
    }
   ],
   "source": [
    "API_KEY = os.environ['MISTRAL_API_KEY']\n",
    "\n",
    "MODEL_ID = 'open-mixtral-8x22b'\n",
    "MODEL_SEED = 3\n",
    "MODEL_TEMPERATURE = 0.7\n",
    "\n",
    "file_system_prompt_1 = open(\"../../system_prompt_1.txt\", \"r\")\n",
    "file_system_prompt_2 = open(\"../../system_prompt_2.txt\", \"r\")\n",
    "SYSTEM_PROMPT_1 = file_system_prompt_1.read()\n",
    "SYSTEM_PROMPT_2 = file_system_prompt_2.read()\n",
    "file_system_prompt_1.close()\n",
    "file_system_prompt_2.close()\n",
    "\n",
    "FILE_PATH_PROBLEM = '../../../../Datasets/MIP_4_Water_Network/'\n",
    "assert(FILE_PATH_PROBLEM != '../../../../Datasets/')\n",
    "file_problem_description = open(FILE_PATH_PROBLEM + 'ProblemDescription.txt', 'r')\n",
    "PROBLEM_DESCRIPTION = file_problem_description.read()\n",
    "file_problem_description.close()\n",
    "\n",
    "\n",
    "client = MistralClient(api_key=API_KEY)\n",
    "\n",
    "print(f'Time of execution: {datetime.now()}')"
   ]
  },
  {
   "cell_type": "markdown",
   "id": "3e540824",
   "metadata": {},
   "source": [
    "## Step 1 - Generate Mathematical Formulation "
   ]
  },
  {
   "cell_type": "code",
   "execution_count": 3,
   "id": "174c127b",
   "metadata": {},
   "outputs": [],
   "source": [
    "messages_1 = [\n",
    "    ChatMessage(role=\"system\", content=SYSTEM_PROMPT_1),\n",
    "    ChatMessage(role=\"user\", content=PROBLEM_DESCRIPTION)\n",
    "]"
   ]
  },
  {
   "cell_type": "code",
   "execution_count": 4,
   "id": "d43340f3",
   "metadata": {},
   "outputs": [],
   "source": [
    "response_1 = client.chat(\n",
    "    model=MODEL_ID,\n",
    "    messages=messages_1,\n",
    "    random_seed=MODEL_SEED,\n",
    "    temperature=MODEL_TEMPERATURE \n",
    ")\n",
    "\n",
    "response_1_text = response_1.choices[0].message.content"
   ]
  },
  {
   "cell_type": "code",
   "execution_count": 5,
   "id": "03616e62",
   "metadata": {},
   "outputs": [
    {
     "data": {
      "text/markdown": [
       "Here is a mathematical optimization model for the problem:\n",
       "\n",
       "Parameters:\n",
       "\n",
       "* \\( t \\): time step, \\( t \\in \\{1, \\ldots, 10\\} \\)\n",
       "* \\( f(t) \\): water inflow at point A at time t, \\( f(t) = \\max(-4/30t^3+t^2-0.234t+3, 0) \\)\n",
       "* \\( c_{ij} \\): capacity of pipe connecting points i and j\n",
       "* \\( a_{ij} \\): activation status of pipe connecting points i and j, \\( a_{ij} \\in \\{0, 1\\} \\)\n",
       "\n",
       "Decision Variables:\n",
       "\n",
       "* \\( x_{ijt} \\): amount of water flowing through pipe connecting points i and j at time t\n",
       "* \\( r_{it} \\): amount of water released from point i at time t\n",
       "\n",
       "Objective Function:\n",
       "\n",
       "Maximize:\n",
       "\n",
       "\\( \\sum_{t = 1}^{10} x_{Gt} \\)\n",
       "\n",
       "Constraints:\n",
       "\n",
       "* Water balance at each point i and time t:\n",
       "\n",
       "\\( \\sum_{j \\in N(i)} x_{ijt} - \\sum_{j \\in N(i)} x_{jit} = \\begin{cases}\n",
       "f(t) & \\text{if } i = A \\\\\n",
       "0 & \\text{if } i \\neq A \\text{ and } i \\neq G \\\\\n",
       "-x_{Gt} & \\text{if } i = G\n",
       "\\end{cases} \\)\n",
       "\n",
       "where \\( N(i) \\) is the set of points connected to point i.\n",
       "\n",
       "* Capacity constraints for each pipe:\n",
       "\n",
       "\\( x_{ijt} \\leq a_{ij} c_{ij} \\) for all pipes \\( (i, j) \\) and time steps \\( t \\).\n",
       "\n",
       "* Activation constraints for pipes:\n",
       "\n",
       "\\( \\sum_{(i, j) \\in P} a_{ij} \\leq 10 \\)\n",
       "\n",
       "where \\( P \\) is the set of all pipes.\n",
       "\n",
       "* Non-negativity constraints:\n",
       "\n",
       "\\( x_{ijt}, r_{it} \\geq 0 \\) for all \\( (i, j) \\in P \\), \\( t \\), and \\( i \\).\n",
       "\n",
       "This model aims to maximize the total water flow to point G over 10 time steps while satisfying capacity constraints for each pipe, activation constraints for the pipes, and water balance at each point and time step. The decision variables are the amount of water flowing through each pipe at each time step and the amount of water released from each point at each time step. The objective function is the total amount of water flowing to point G over the 10 time steps."
      ],
      "text/plain": [
       "<IPython.core.display.Markdown object>"
      ]
     },
     "execution_count": 5,
     "metadata": {},
     "output_type": "execute_result"
    }
   ],
   "source": [
    "Markdown(response_1_text)"
   ]
  },
  {
   "cell_type": "code",
   "execution_count": 6,
   "id": "b6a33171",
   "metadata": {},
   "outputs": [
    {
     "name": "stdout",
     "output_type": "stream",
     "text": [
      "Here is a mathematical optimization model for the problem:\n",
      "\n",
      "Parameters:\n",
      "\n",
      "* \\( t \\): time step, \\( t \\in \\{1, \\ldots, 10\\} \\)\n",
      "* \\( f(t) \\): water inflow at point A at time t, \\( f(t) = \\max(-4/30t^3+t^2-0.234t+3, 0) \\)\n",
      "* \\( c_{ij} \\): capacity of pipe connecting points i and j\n",
      "* \\( a_{ij} \\): activation status of pipe connecting points i and j, \\( a_{ij} \\in \\{0, 1\\} \\)\n",
      "\n",
      "Decision Variables:\n",
      "\n",
      "* \\( x_{ijt} \\): amount of water flowing through pipe connecting points i and j at time t\n",
      "* \\( r_{it} \\): amount of water released from point i at time t\n",
      "\n",
      "Objective Function:\n",
      "\n",
      "Maximize:\n",
      "\n",
      "\\( \\sum_{t = 1}^{10} x_{Gt} \\)\n",
      "\n",
      "Constraints:\n",
      "\n",
      "* Water balance at each point i and time t:\n",
      "\n",
      "\\( \\sum_{j \\in N(i)} x_{ijt} - \\sum_{j \\in N(i)} x_{jit} = \\begin{cases}\n",
      "f(t) & \\text{if } i = A \\\\\n",
      "0 & \\text{if } i \\neq A \\text{ and } i \\neq G \\\\\n",
      "-x_{Gt} & \\text{if } i = G\n",
      "\\end{cases} \\)\n",
      "\n",
      "where \\( N(i) \\) is the set of points connected to point i.\n",
      "\n",
      "* Capacity constraints for each pipe:\n",
      "\n",
      "\\( x_{ijt} \\leq a_{ij} c_{ij} \\) for all pipes \\( (i, j) \\) and time steps \\( t \\).\n",
      "\n",
      "* Activation constraints for pipes:\n",
      "\n",
      "\\( \\sum_{(i, j) \\in P} a_{ij} \\leq 10 \\)\n",
      "\n",
      "where \\( P \\) is the set of all pipes.\n",
      "\n",
      "* Non-negativity constraints:\n",
      "\n",
      "\\( x_{ijt}, r_{it} \\geq 0 \\) for all \\( (i, j) \\in P \\), \\( t \\), and \\( i \\).\n",
      "\n",
      "This model aims to maximize the total water flow to point G over 10 time steps while satisfying capacity constraints for each pipe, activation constraints for the pipes, and water balance at each point and time step. The decision variables are the amount of water flowing through each pipe at each time step and the amount of water released from each point at each time step. The objective function is the total amount of water flowing to point G over the 10 time steps.\n"
     ]
    }
   ],
   "source": [
    "print(response_1_text)"
   ]
  },
  {
   "cell_type": "markdown",
   "id": "27b5f89a",
   "metadata": {},
   "source": [
    "## Step 2 - Generate the Pyomo Code"
   ]
  },
  {
   "cell_type": "code",
   "execution_count": 7,
   "id": "a4c3312f",
   "metadata": {},
   "outputs": [],
   "source": [
    "messages_2 = [\n",
    "    ChatMessage(role=\"system\", content=SYSTEM_PROMPT_2),\n",
    "    ChatMessage(role=\"user\", content=response_1_text)\n",
    "]"
   ]
  },
  {
   "cell_type": "code",
   "execution_count": 8,
   "id": "4212d99d",
   "metadata": {},
   "outputs": [],
   "source": [
    "response_2 = client.chat(\n",
    "    model=MODEL_ID,\n",
    "    messages=messages_2,\n",
    "    random_seed=MODEL_SEED,\n",
    "    temperature=MODEL_TEMPERATURE\n",
    ")\n",
    "\n",
    "response_2_text = response_2.choices[0].message.content"
   ]
  },
  {
   "cell_type": "code",
   "execution_count": 9,
   "id": "c168a60b",
   "metadata": {},
   "outputs": [
    {
     "data": {
      "text/markdown": [
       "Here is the Python code using Pyomo to solve the optimization problem:\n",
       "\n",
       "```python\n",
       "import pyomo.environ as pyo\n",
       "import numpy as np\n",
       "\n",
       "# Define the model\n",
       "model = pyo.ConcreteModel()\n",
       "\n",
       "# Define the sets\n",
       "model.T = pyo.Set(initialize=range(1, 11))\n",
       "model.I = pyo.Set(initialize=['A', 'B', 'C', 'D', 'G'])  # sample data, replace with actual points\n",
       "model.P = [('A', 'B'), ('A', 'C'), ('B', 'D'), ('C', 'D'), ('D', 'G')]  # sample data, replace with actual pipes\n",
       "\n",
       "# Define the parameters\n",
       "def f(model, t):\n",
       "    return max(-4/30*t**3 + t**2 - 0.234*t + 3, 0)\n",
       "model.f = pyo.Param(model.T, initialize=f)\n",
       "\n",
       "model.c = pyo.Param(model.P, initialize={('A', 'B'): 10, ('A', 'C'): 10, ('B', 'D'): 10, ('C', 'D'): 10, ('D', 'G'): 10})  # sample data, replace with actual capacities\n",
       "\n",
       "# Define the decision variables\n",
       "model.x = pyo.Var(model.P, model.T, domain=pyo.NonNegativeReals)\n",
       "model.a = pyo.Var(model.P, domain=pyo.Binary)\n",
       "\n",
       "# Define the objective function\n",
       "def obj_rule(model):\n",
       "    return sum(model.x[('D', 'G'), t] for t in model.T)\n",
       "model.obj = pyo.Objective(rule=obj_rule, sense=pyo.maximize)\n",
       "\n",
       "# Define the constraints\n",
       "def water_balance_rule(model, i, t):\n",
       "    if i == 'A':\n",
       "        return model.f[t] == sum(model.x[i, j, t] for j in model.I if (i, j) in model.P) - sum(model.x[j, i, t] for j in model.I if (j, i) in model.P)\n",
       "    elif i == 'G':\n",
       "        return -model.x[('D', 'G'), t] == sum(model.x[i, j, t] for j in model.I if (i, j) in model.P) - sum(model.x[j, i, t] for j in model.I if (j, i) in model.P)\n",
       "    else:\n",
       "        return 0 == sum(model.x[i, j, t] for j in model.I if (i, j) in model.P) - sum(model.x[j, i, t] for j in model.I if (j, i) in model.P)\n",
       "model.water_balance = pyo.Constraint(model.I, model.T, rule=water_balance_rule)\n",
       "\n",
       "def capacity_constraint_rule(model, i, j, t):\n",
       "    return model.x[i, j, t] <= model.a[i, j] * model.c[i, j]\n",
       "model.capacity_constraint = pyo.Constraint(model.P, model.T, rule=capacity_constraint_rule)\n",
       "\n",
       "def activation_constraint_rule(model):\n",
       "    return sum(model.a[i, j] for i, j in model.P) <= 10\n",
       "model.activation_constraint = pyo.Constraint(rule=activation_constraint_rule)\n",
       "\n",
       "# Solve the model\n",
       "solver = pyo.SolverFactory('glpk')\n",
       "solver.solve(model)\n",
       "\n",
       "# Print the results\n",
       "for i, j in model.P:\n",
       "    for t in model.T:\n",
       "        print(f'x_{i}_{j}_{t} = {model.x[i, j, t].value}')\n",
       "    print(f'a_{i}_{j} = {model.a[i, j].value}')\n",
       "```\n",
       "\n",
       "This code defines the model, sets, parameters, decision variables, objective function, and constraints according to the problem description. It then solves the model using the GLPK solver and prints the results. The sample data is used for the points, pipes, and capacities, and should be replaced with the actual data."
      ],
      "text/plain": [
       "<IPython.core.display.Markdown object>"
      ]
     },
     "execution_count": 9,
     "metadata": {},
     "output_type": "execute_result"
    }
   ],
   "source": [
    "Markdown(response_2_text)"
   ]
  },
  {
   "cell_type": "code",
   "execution_count": 10,
   "id": "a380c180",
   "metadata": {},
   "outputs": [
    {
     "name": "stdout",
     "output_type": "stream",
     "text": [
      "Here is the Python code using Pyomo to solve the optimization problem:\n",
      "\n",
      "```python\n",
      "import pyomo.environ as pyo\n",
      "import numpy as np\n",
      "\n",
      "# Define the model\n",
      "model = pyo.ConcreteModel()\n",
      "\n",
      "# Define the sets\n",
      "model.T = pyo.Set(initialize=range(1, 11))\n",
      "model.I = pyo.Set(initialize=['A', 'B', 'C', 'D', 'G'])  # sample data, replace with actual points\n",
      "model.P = [('A', 'B'), ('A', 'C'), ('B', 'D'), ('C', 'D'), ('D', 'G')]  # sample data, replace with actual pipes\n",
      "\n",
      "# Define the parameters\n",
      "def f(model, t):\n",
      "    return max(-4/30*t**3 + t**2 - 0.234*t + 3, 0)\n",
      "model.f = pyo.Param(model.T, initialize=f)\n",
      "\n",
      "model.c = pyo.Param(model.P, initialize={('A', 'B'): 10, ('A', 'C'): 10, ('B', 'D'): 10, ('C', 'D'): 10, ('D', 'G'): 10})  # sample data, replace with actual capacities\n",
      "\n",
      "# Define the decision variables\n",
      "model.x = pyo.Var(model.P, model.T, domain=pyo.NonNegativeReals)\n",
      "model.a = pyo.Var(model.P, domain=pyo.Binary)\n",
      "\n",
      "# Define the objective function\n",
      "def obj_rule(model):\n",
      "    return sum(model.x[('D', 'G'), t] for t in model.T)\n",
      "model.obj = pyo.Objective(rule=obj_rule, sense=pyo.maximize)\n",
      "\n",
      "# Define the constraints\n",
      "def water_balance_rule(model, i, t):\n",
      "    if i == 'A':\n",
      "        return model.f[t] == sum(model.x[i, j, t] for j in model.I if (i, j) in model.P) - sum(model.x[j, i, t] for j in model.I if (j, i) in model.P)\n",
      "    elif i == 'G':\n",
      "        return -model.x[('D', 'G'), t] == sum(model.x[i, j, t] for j in model.I if (i, j) in model.P) - sum(model.x[j, i, t] for j in model.I if (j, i) in model.P)\n",
      "    else:\n",
      "        return 0 == sum(model.x[i, j, t] for j in model.I if (i, j) in model.P) - sum(model.x[j, i, t] for j in model.I if (j, i) in model.P)\n",
      "model.water_balance = pyo.Constraint(model.I, model.T, rule=water_balance_rule)\n",
      "\n",
      "def capacity_constraint_rule(model, i, j, t):\n",
      "    return model.x[i, j, t] <= model.a[i, j] * model.c[i, j]\n",
      "model.capacity_constraint = pyo.Constraint(model.P, model.T, rule=capacity_constraint_rule)\n",
      "\n",
      "def activation_constraint_rule(model):\n",
      "    return sum(model.a[i, j] for i, j in model.P) <= 10\n",
      "model.activation_constraint = pyo.Constraint(rule=activation_constraint_rule)\n",
      "\n",
      "# Solve the model\n",
      "solver = pyo.SolverFactory('glpk')\n",
      "solver.solve(model)\n",
      "\n",
      "# Print the results\n",
      "for i, j in model.P:\n",
      "    for t in model.T:\n",
      "        print(f'x_{i}_{j}_{t} = {model.x[i, j, t].value}')\n",
      "    print(f'a_{i}_{j} = {model.a[i, j].value}')\n",
      "```\n",
      "\n",
      "This code defines the model, sets, parameters, decision variables, objective function, and constraints according to the problem description. It then solves the model using the GLPK solver and prints the results. The sample data is used for the points, pipes, and capacities, and should be replaced with the actual data.\n"
     ]
    }
   ],
   "source": [
    "print(response_2_text)"
   ]
  },
  {
   "cell_type": "markdown",
   "id": "879cc7ae",
   "metadata": {},
   "source": [
    "### Code Executability"
   ]
  },
  {
   "cell_type": "code",
   "execution_count": 14,
   "id": "f1d9a625",
   "metadata": {},
   "outputs": [
    {
     "name": "stdout",
     "output_type": "stream",
     "text": [
      "x_A_B_1 = None\n",
      "x_A_B_2 = None\n",
      "x_A_B_3 = None\n",
      "x_A_B_4 = None\n",
      "x_A_B_5 = None\n",
      "x_A_B_6 = None\n",
      "x_A_B_7 = None\n",
      "x_A_B_8 = None\n",
      "x_A_B_9 = None\n",
      "x_A_B_10 = None\n",
      "a_A_B = None\n",
      "x_A_C_1 = None\n",
      "x_A_C_2 = None\n",
      "x_A_C_3 = None\n",
      "x_A_C_4 = None\n",
      "x_A_C_5 = None\n",
      "x_A_C_6 = None\n",
      "x_A_C_7 = None\n",
      "x_A_C_8 = None\n",
      "x_A_C_9 = None\n",
      "x_A_C_10 = None\n",
      "a_A_C = None\n",
      "x_B_D_1 = None\n",
      "x_B_D_2 = None\n",
      "x_B_D_3 = None\n",
      "x_B_D_4 = None\n",
      "x_B_D_5 = None\n",
      "x_B_D_6 = None\n",
      "x_B_D_7 = None\n",
      "x_B_D_8 = None\n",
      "x_B_D_9 = None\n",
      "x_B_D_10 = None\n",
      "a_B_D = None\n",
      "x_C_D_1 = None\n",
      "x_C_D_2 = None\n",
      "x_C_D_3 = None\n",
      "x_C_D_4 = None\n",
      "x_C_D_5 = None\n",
      "x_C_D_6 = None\n",
      "x_C_D_7 = None\n",
      "x_C_D_8 = None\n",
      "x_C_D_9 = None\n",
      "x_C_D_10 = None\n",
      "a_C_D = None\n",
      "x_D_G_1 = None\n",
      "x_D_G_2 = None\n",
      "x_D_G_3 = None\n",
      "x_D_G_4 = None\n",
      "x_D_G_5 = None\n",
      "x_D_G_6 = None\n",
      "x_D_G_7 = None\n",
      "x_D_G_8 = None\n",
      "x_D_G_9 = None\n",
      "x_D_G_10 = None\n",
      "a_D_G = None\n"
     ]
    }
   ],
   "source": [
    "import pyomo.environ as pyo\n",
    "import numpy as np\n",
    "\n",
    "# Define the model\n",
    "model = pyo.ConcreteModel()\n",
    "\n",
    "# Define the sets\n",
    "model.T = pyo.Set(initialize=range(1, 11))\n",
    "model.I = pyo.Set(initialize=['A', 'B', 'C', 'D', 'G'])  # sample data, replace with actual points\n",
    "model.P = [('A', 'B'), ('A', 'C'), ('B', 'D'), ('C', 'D'), ('D', 'G')]  # sample data, replace with actual pipes\n",
    "\n",
    "# Define the parameters\n",
    "def f(model, t):\n",
    "    return max(-4/30*t**3 + t**2 - 0.234*t + 3, 0)\n",
    "model.f = pyo.Param(model.T, initialize=f)\n",
    "\n",
    "model.c = pyo.Param(model.P, initialize={('A', 'B'): 10, ('A', 'C'): 10, ('B', 'D'): 10, ('C', 'D'): 10, ('D', 'G'): 10})  # sample data, replace with actual capacities\n",
    "\n",
    "# Define the decision variables\n",
    "model.x = pyo.Var(model.P, model.T, domain=pyo.NonNegativeReals)\n",
    "model.a = pyo.Var(model.P, domain=pyo.Binary)\n",
    "\n",
    "# Define the objective function\n",
    "def obj_rule(model):\n",
    "    return sum(model.x[('D', 'G'), t] for t in model.T)\n",
    "model.obj = pyo.Objective(rule=obj_rule, sense=pyo.maximize)\n",
    "\n",
    "# Define the constraints\n",
    "def water_balance_rule(model, i, t):\n",
    "    if i == 'A':\n",
    "        return model.f[t] == sum(model.x[i, j, t] for j in model.I if (i, j) in model.P) - sum(model.x[j, i, t] for j in model.I if (j, i) in model.P)\n",
    "    elif i == 'G':\n",
    "        return -model.x[('D', 'G'), t] == sum(model.x[i, j, t] for j in model.I if (i, j) in model.P) - sum(model.x[j, i, t] for j in model.I if (j, i) in model.P)\n",
    "    else:\n",
    "        return 0 == sum(model.x[i, j, t] for j in model.I if (i, j) in model.P) - sum(model.x[j, i, t] for j in model.I if (j, i) in model.P)\n",
    "model.water_balance = pyo.Constraint(model.I, model.T, rule=water_balance_rule)\n",
    "\n",
    "def capacity_constraint_rule(model, i, j, t):\n",
    "    return model.x[i, j, t] <= model.a[i, j] * model.c[i, j]\n",
    "model.capacity_constraint = pyo.Constraint(model.P, model.T, rule=capacity_constraint_rule)\n",
    "\n",
    "def activation_constraint_rule(model):\n",
    "    return sum(model.a[i, j] for i, j in model.P) <= 10\n",
    "model.activation_constraint = pyo.Constraint(rule=activation_constraint_rule)\n",
    "\n",
    "# Solve the model\n",
    "solver = pyo.SolverFactory('glpk')\n",
    "solver.solve(model)\n",
    "\n",
    "# Print the results\n",
    "for i, j in model.P:\n",
    "    for t in model.T:\n",
    "        print(f'x_{i}_{j}_{t} = {model.x[i, j, t].value}')\n",
    "    print(f'a_{i}_{j} = {model.a[i, j].value}')"
   ]
  },
  {
   "cell_type": "markdown",
   "id": "95f5c3a8",
   "metadata": {},
   "source": [
    "### Solution Correctness"
   ]
  },
  {
   "cell_type": "code",
   "execution_count": null,
   "id": "91aed4d5",
   "metadata": {},
   "outputs": [],
   "source": []
  }
 ],
 "metadata": {
  "kernelspec": {
   "display_name": "Python 3 (ipykernel)",
   "language": "python",
   "name": "python3"
  },
  "language_info": {
   "codemirror_mode": {
    "name": "ipython",
    "version": 3
   },
   "file_extension": ".py",
   "mimetype": "text/x-python",
   "name": "python",
   "nbconvert_exporter": "python",
   "pygments_lexer": "ipython3",
   "version": "3.10.4"
  }
 },
 "nbformat": 4,
 "nbformat_minor": 5
}
