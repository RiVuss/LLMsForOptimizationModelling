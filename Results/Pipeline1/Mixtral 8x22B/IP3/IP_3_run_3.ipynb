{
 "cells": [
  {
   "cell_type": "code",
   "execution_count": 1,
   "id": "e5c2c174",
   "metadata": {},
   "outputs": [],
   "source": [
    "import os\n",
    "from mistralai.client import MistralClient\n",
    "from mistralai.models.chat_completion import ChatMessage\n",
    "from IPython.display import display, Markdown, Latex\n",
    "from datetime import datetime"
   ]
  },
  {
   "cell_type": "code",
   "execution_count": 2,
   "id": "b0c91a62",
   "metadata": {},
   "outputs": [
    {
     "name": "stdout",
     "output_type": "stream",
     "text": [
      "Time of execution: 2024-05-21 16:00:28.226006\n"
     ]
    }
   ],
   "source": [
    "API_KEY = os.environ['MISTRAL_API_KEY']\n",
    "\n",
    "MODEL_ID = 'open-mixtral-8x22b'\n",
    "MODEL_SEED = 3\n",
    "MODEL_TEMPERATURE = 0.7\n",
    "\n",
    "file_system_prompt_1 = open(\"../../system_prompt_1.txt\", \"r\")\n",
    "file_system_prompt_2 = open(\"../../system_prompt_2.txt\", \"r\")\n",
    "SYSTEM_PROMPT_1 = file_system_prompt_1.read()\n",
    "SYSTEM_PROMPT_2 = file_system_prompt_2.read()\n",
    "file_system_prompt_1.close()\n",
    "file_system_prompt_2.close()\n",
    "\n",
    "FILE_PATH_PROBLEM = '../../../../Datasets/IP_3_Bin_Packing/'\n",
    "assert(FILE_PATH_PROBLEM != '../../../../Datasets/')\n",
    "file_problem_description = open(FILE_PATH_PROBLEM + 'ProblemDescription.txt', 'r')\n",
    "PROBLEM_DESCRIPTION = file_problem_description.read()\n",
    "file_problem_description.close()\n",
    "\n",
    "\n",
    "client = MistralClient(api_key=API_KEY)\n",
    "\n",
    "print(f'Time of execution: {datetime.now()}')"
   ]
  },
  {
   "cell_type": "markdown",
   "id": "3e540824",
   "metadata": {},
   "source": [
    "## Step 1 - Generate Mathematical Formulation "
   ]
  },
  {
   "cell_type": "code",
   "execution_count": 3,
   "id": "174c127b",
   "metadata": {},
   "outputs": [],
   "source": [
    "messages_1 = [\n",
    "    ChatMessage(role=\"system\", content=SYSTEM_PROMPT_1),\n",
    "    ChatMessage(role=\"user\", content=PROBLEM_DESCRIPTION)\n",
    "]"
   ]
  },
  {
   "cell_type": "code",
   "execution_count": 4,
   "id": "d43340f3",
   "metadata": {},
   "outputs": [],
   "source": [
    "response_1 = client.chat(\n",
    "    model=MODEL_ID,\n",
    "    messages=messages_1,\n",
    "    random_seed=MODEL_SEED,\n",
    "    temperature=MODEL_TEMPERATURE \n",
    ")\n",
    "\n",
    "response_1_text = response_1.choices[0].message.content"
   ]
  },
  {
   "cell_type": "code",
   "execution_count": 5,
   "id": "03616e62",
   "metadata": {},
   "outputs": [
    {
     "data": {
      "text/markdown": [
       "This problem is a classic example of a bin packing problem, which is a type of optimization problem. Here's how you can formulate it as a mathematical optimization model:\n",
       "\n",
       "Parameters:\n",
       "- Let W be the set of weights for each item, where W = {w₁, w₂, ..., wₙ}.\n",
       "- Let C be the capacity of each box.\n",
       "- Let B be the upper bound on the number of boxes.\n",
       "\n",
       "Decision Variables:\n",
       "- Let xᵢⱼ be a binary decision variable that equals 1 if item i is packed in box j, and 0 otherwise.\n",
       "\n",
       "Objective Function:\n",
       "The objective is to minimize the number of boxes used. This can be represented as:\n",
       "Minimize Σ  yⱼ\n",
       "Where yⱼ is a binary variable that equals 1 if box j is used, and 0 otherwise.\n",
       "\n",
       "Constraints:\n",
       "1. Each item is packed into exactly one box:\n",
       "Σ xᵢⱼ = 1 for all i\n",
       "\n",
       "2. The total weight of items in a box does not exceed the box's capacity:\n",
       "Σ wᵢ * xᵢⱼ ≤ C * yⱼ for all j\n",
       "\n",
       "3. The number of boxes used does not exceed the upper bound:\n",
       "Σ yⱼ ≤ B\n",
       "\n",
       "This model is a mixed integer linear programming (MILP) problem. The decision variables xᵢⱼ and yⱼ are binary, meaning they can only take on the values of 0 or 1. The objective function and constraints are linear, making this model a MILP problem. This problem is NP-hard, meaning that it is computationally difficult to solve, especially for large instances. However, there are many algorithms and solvers available to find optimal or near-optimal solutions."
      ],
      "text/plain": [
       "<IPython.core.display.Markdown object>"
      ]
     },
     "execution_count": 5,
     "metadata": {},
     "output_type": "execute_result"
    }
   ],
   "source": [
    "Markdown(response_1_text)"
   ]
  },
  {
   "cell_type": "code",
   "execution_count": 6,
   "id": "b6a33171",
   "metadata": {},
   "outputs": [
    {
     "name": "stdout",
     "output_type": "stream",
     "text": [
      "This problem is a classic example of a bin packing problem, which is a type of optimization problem. Here's how you can formulate it as a mathematical optimization model:\n",
      "\n",
      "Parameters:\n",
      "- Let W be the set of weights for each item, where W = {w₁, w₂, ..., wₙ}.\n",
      "- Let C be the capacity of each box.\n",
      "- Let B be the upper bound on the number of boxes.\n",
      "\n",
      "Decision Variables:\n",
      "- Let xᵢⱼ be a binary decision variable that equals 1 if item i is packed in box j, and 0 otherwise.\n",
      "\n",
      "Objective Function:\n",
      "The objective is to minimize the number of boxes used. This can be represented as:\n",
      "Minimize Σ  yⱼ\n",
      "Where yⱼ is a binary variable that equals 1 if box j is used, and 0 otherwise.\n",
      "\n",
      "Constraints:\n",
      "1. Each item is packed into exactly one box:\n",
      "Σ xᵢⱼ = 1 for all i\n",
      "\n",
      "2. The total weight of items in a box does not exceed the box's capacity:\n",
      "Σ wᵢ * xᵢⱼ ≤ C * yⱼ for all j\n",
      "\n",
      "3. The number of boxes used does not exceed the upper bound:\n",
      "Σ yⱼ ≤ B\n",
      "\n",
      "This model is a mixed integer linear programming (MILP) problem. The decision variables xᵢⱼ and yⱼ are binary, meaning they can only take on the values of 0 or 1. The objective function and constraints are linear, making this model a MILP problem. This problem is NP-hard, meaning that it is computationally difficult to solve, especially for large instances. However, there are many algorithms and solvers available to find optimal or near-optimal solutions.\n"
     ]
    }
   ],
   "source": [
    "print(response_1_text)"
   ]
  },
  {
   "cell_type": "markdown",
   "id": "27b5f89a",
   "metadata": {},
   "source": [
    "## Step 2 - Generate the Pyomo Code"
   ]
  },
  {
   "cell_type": "code",
   "execution_count": 7,
   "id": "a4c3312f",
   "metadata": {},
   "outputs": [],
   "source": [
    "messages_2 = [\n",
    "    ChatMessage(role=\"system\", content=SYSTEM_PROMPT_2),\n",
    "    ChatMessage(role=\"user\", content=response_1_text)\n",
    "]"
   ]
  },
  {
   "cell_type": "code",
   "execution_count": 8,
   "id": "4212d99d",
   "metadata": {},
   "outputs": [],
   "source": [
    "response_2 = client.chat(\n",
    "    model=MODEL_ID,\n",
    "    messages=messages_2,\n",
    "    random_seed=MODEL_SEED,\n",
    "    temperature=MODEL_TEMPERATURE\n",
    ")\n",
    "\n",
    "response_2_text = response_2.choices[0].message.content"
   ]
  },
  {
   "cell_type": "code",
   "execution_count": 9,
   "id": "c168a60b",
   "metadata": {},
   "outputs": [
    {
     "data": {
      "text/markdown": [
       "Here is a Python Pyomo code for the bin packing problem described:\n",
       "\n",
       "```python\n",
       "from pyomo.environ import *\n",
       "\n",
       "# Sample data\n",
       "W = [5, 10, 15, 20, 25]  # weights for each item\n",
       "C = 30  # capacity of each box\n",
       "B = 3  # upper bound on the number of boxes\n",
       "n = len(W)  # number of items\n",
       "\n",
       "# Initialize the model\n",
       "model = ConcreteModel()\n",
       "\n",
       "# Define the decision variables\n",
       "model.x = Var(range(n), range(B), domain=Binary)\n",
       "model.y = Var(range(B), domain=Binary)\n",
       "\n",
       "# Define the objective function\n",
       "model.obj = Objective(expr=sum(model.y[j] for j in range(B)), sense=minimize)\n",
       "\n",
       "# Define the constraints\n",
       "model.c1 = ConstraintList()\n",
       "model.c2 = ConstraintList()\n",
       "model.c3 = Constraint()\n",
       "\n",
       "for i in range(n):\n",
       "    model.c1.add(sum(model.x[i, j] for j in range(B)) == 1)\n",
       "\n",
       "for j in range(B):\n",
       "    model.c2.add(sum(W[i] * model.x[i, j] for i in range(n)) <= C * model.y[j])\n",
       "\n",
       "model.c3 = sum(model.y[j] for j in range(B)) <= B\n",
       "\n",
       "# Solve the model\n",
       "solver = SolverFactory('glpk')\n",
       "results = solver.solve(model)\n",
       "\n",
       "# Print the results\n",
       "print(\"Objective value:\", model.obj())\n",
       "for i in range(n):\n",
       "    for j in range(B):\n",
       "        if model.x[i, j]() == 1:\n",
       "            print(f\"Item {i+1} is packed in box {j+1}\")\n",
       "```\n",
       "\n",
       "This code uses the sample data for the weights of the items, the capacity of the boxes, and the upper bound on the number of boxes. You can replace these with your actual data. The code also uses the GLPK (GNU Linear Programming Kit) solver to solve the problem. You can replace 'glpk' with the name of the solver you want to use."
      ],
      "text/plain": [
       "<IPython.core.display.Markdown object>"
      ]
     },
     "execution_count": 9,
     "metadata": {},
     "output_type": "execute_result"
    }
   ],
   "source": [
    "Markdown(response_2_text)"
   ]
  },
  {
   "cell_type": "code",
   "execution_count": 10,
   "id": "a380c180",
   "metadata": {},
   "outputs": [
    {
     "name": "stdout",
     "output_type": "stream",
     "text": [
      "Here is a Python Pyomo code for the bin packing problem described:\n",
      "\n",
      "```python\n",
      "from pyomo.environ import *\n",
      "\n",
      "# Sample data\n",
      "W = [5, 10, 15, 20, 25]  # weights for each item\n",
      "C = 30  # capacity of each box\n",
      "B = 3  # upper bound on the number of boxes\n",
      "n = len(W)  # number of items\n",
      "\n",
      "# Initialize the model\n",
      "model = ConcreteModel()\n",
      "\n",
      "# Define the decision variables\n",
      "model.x = Var(range(n), range(B), domain=Binary)\n",
      "model.y = Var(range(B), domain=Binary)\n",
      "\n",
      "# Define the objective function\n",
      "model.obj = Objective(expr=sum(model.y[j] for j in range(B)), sense=minimize)\n",
      "\n",
      "# Define the constraints\n",
      "model.c1 = ConstraintList()\n",
      "model.c2 = ConstraintList()\n",
      "model.c3 = Constraint()\n",
      "\n",
      "for i in range(n):\n",
      "    model.c1.add(sum(model.x[i, j] for j in range(B)) == 1)\n",
      "\n",
      "for j in range(B):\n",
      "    model.c2.add(sum(W[i] * model.x[i, j] for i in range(n)) <= C * model.y[j])\n",
      "\n",
      "model.c3 = sum(model.y[j] for j in range(B)) <= B\n",
      "\n",
      "# Solve the model\n",
      "solver = SolverFactory('glpk')\n",
      "results = solver.solve(model)\n",
      "\n",
      "# Print the results\n",
      "print(\"Objective value:\", model.obj())\n",
      "for i in range(n):\n",
      "    for j in range(B):\n",
      "        if model.x[i, j]() == 1:\n",
      "            print(f\"Item {i+1} is packed in box {j+1}\")\n",
      "```\n",
      "\n",
      "This code uses the sample data for the weights of the items, the capacity of the boxes, and the upper bound on the number of boxes. You can replace these with your actual data. The code also uses the GLPK (GNU Linear Programming Kit) solver to solve the problem. You can replace 'glpk' with the name of the solver you want to use.\n"
     ]
    }
   ],
   "source": [
    "print(response_2_text)"
   ]
  },
  {
   "cell_type": "markdown",
   "id": "879cc7ae",
   "metadata": {},
   "source": [
    "### Code Executability"
   ]
  },
  {
   "cell_type": "code",
   "execution_count": 11,
   "id": "f1d9a625",
   "metadata": {},
   "outputs": [
    {
     "name": "stdout",
     "output_type": "stream",
     "text": [
      "Objective value: 3.0\n",
      "Item 1 is packed in box 2\n",
      "Item 2 is packed in box 3\n",
      "Item 3 is packed in box 1\n",
      "Item 4 is packed in box 3\n",
      "Item 5 is packed in box 2\n"
     ]
    }
   ],
   "source": [
    "from pyomo.environ import *\n",
    "\n",
    "# Sample data\n",
    "W = [5, 10, 15, 20, 25]  # weights for each item\n",
    "C = 30  # capacity of each box\n",
    "B = 3  # upper bound on the number of boxes\n",
    "n = len(W)  # number of items\n",
    "\n",
    "# Initialize the model\n",
    "model = ConcreteModel()\n",
    "\n",
    "# Define the decision variables\n",
    "model.x = Var(range(n), range(B), domain=Binary)\n",
    "model.y = Var(range(B), domain=Binary)\n",
    "\n",
    "# Define the objective function\n",
    "model.obj = Objective(expr=sum(model.y[j] for j in range(B)), sense=minimize)\n",
    "\n",
    "# Define the constraints\n",
    "model.c1 = ConstraintList()\n",
    "model.c2 = ConstraintList()\n",
    "model.c3 = Constraint()\n",
    "\n",
    "for i in range(n):\n",
    "    model.c1.add(sum(model.x[i, j] for j in range(B)) == 1)\n",
    "\n",
    "for j in range(B):\n",
    "    model.c2.add(sum(W[i] * model.x[i, j] for i in range(n)) <= C * model.y[j])\n",
    "\n",
    "model.c3 = sum(model.y[j] for j in range(B)) <= B\n",
    "\n",
    "# Solve the model\n",
    "solver = SolverFactory('glpk')\n",
    "results = solver.solve(model)\n",
    "\n",
    "# Print the results\n",
    "print(\"Objective value:\", model.obj())\n",
    "for i in range(n):\n",
    "    for j in range(B):\n",
    "        if model.x[i, j]() == 1:\n",
    "            print(f\"Item {i+1} is packed in box {j+1}\")"
   ]
  },
  {
   "cell_type": "markdown",
   "id": "95f5c3a8",
   "metadata": {},
   "source": [
    "### Solution Correctness"
   ]
  },
  {
   "cell_type": "code",
   "execution_count": 15,
   "id": "01245691",
   "metadata": {},
   "outputs": [
    {
     "name": "stdout",
     "output_type": "stream",
     "text": [
      "Objective value: 13.0\n",
      "Item 1 is packed in box 12\n",
      "Item 2 is packed in box 10\n",
      "Item 3 is packed in box 13\n",
      "Item 4 is packed in box 13\n",
      "Item 5 is packed in box 6\n",
      "Item 6 is packed in box 3\n",
      "Item 7 is packed in box 9\n",
      "Item 8 is packed in box 1\n",
      "Item 9 is packed in box 8\n",
      "Item 10 is packed in box 7\n",
      "Item 11 is packed in box 11\n",
      "Item 12 is packed in box 13\n",
      "Item 13 is packed in box 6\n",
      "Item 14 is packed in box 9\n",
      "Item 15 is packed in box 8\n",
      "Item 16 is packed in box 1\n",
      "Item 17 is packed in box 11\n",
      "Item 18 is packed in box 7\n",
      "Item 19 is packed in box 3\n",
      "Item 20 is packed in box 4\n",
      "Item 21 is packed in box 10\n",
      "Item 22 is packed in box 12\n",
      "Item 23 is packed in box 5\n",
      "Item 24 is packed in box 2\n"
     ]
    }
   ],
   "source": [
    "from pyomo.environ import *\n",
    "\n",
    "\n",
    "B = 9\n",
    "w = [2,3,4,5,6,7,8]\n",
    "q = [4,2,6,6,2,2,2]\n",
    "s=[]\n",
    "for j in range(len(w)):\n",
    "    for i in range(q[j]):\n",
    "        s.append(w[j])\n",
    "\n",
    "def FFD(s, B):\n",
    "    remain = [B]\n",
    "    sol = [[]]\n",
    "    for item in sorted(s, reverse=True):\n",
    "        for j,free in enumerate(remain):\n",
    "            if free >= item:\n",
    "                remain[j] -= item\n",
    "                sol[j].append(item)\n",
    "                break\n",
    "        else:\n",
    "            sol.append([item])\n",
    "            remain.append(B-item)\n",
    "    return sol\n",
    "\n",
    "n = len(s)\n",
    "U = len(FFD(s, B))\n",
    "\n",
    "# Sample data (replace with your own data)\n",
    "W = {i : v for i, v in enumerate(s)} # Weight of items\n",
    "C = 9  # Capacity of boxes\n",
    "B = U  # Upper bound on the number of boxes used\n",
    "n = len(W)  # number of items\n",
    "\n",
    "# Initialize the model\n",
    "model = ConcreteModel()\n",
    "\n",
    "# Define the decision variables\n",
    "model.x = Var(range(n), range(B), domain=Binary)\n",
    "model.y = Var(range(B), domain=Binary)\n",
    "\n",
    "# Define the objective function\n",
    "model.obj = Objective(expr=sum(model.y[j] for j in range(B)), sense=minimize)\n",
    "\n",
    "# Define the constraints\n",
    "model.c1 = ConstraintList()\n",
    "model.c2 = ConstraintList()\n",
    "model.c3 = Constraint()\n",
    "\n",
    "for i in range(n):\n",
    "    model.c1.add(sum(model.x[i, j] for j in range(B)) == 1)\n",
    "\n",
    "for j in range(B):\n",
    "    model.c2.add(sum(W[i] * model.x[i, j] for i in range(n)) <= C * model.y[j])\n",
    "\n",
    "model.c3 = sum(model.y[j] for j in range(B)) <= B\n",
    "\n",
    "# Solve the model\n",
    "solver = SolverFactory('glpk')\n",
    "results = solver.solve(model)\n",
    "\n",
    "# Print the results\n",
    "print(\"Objective value:\", model.obj())\n",
    "for i in range(n):\n",
    "    for j in range(B):\n",
    "        if model.x[i, j]() == 1:\n",
    "            print(f\"Item {i+1} is packed in box {j+1}\")"
   ]
  }
 ],
 "metadata": {
  "kernelspec": {
   "display_name": "Python 3 (ipykernel)",
   "language": "python",
   "name": "python3"
  },
  "language_info": {
   "codemirror_mode": {
    "name": "ipython",
    "version": 3
   },
   "file_extension": ".py",
   "mimetype": "text/x-python",
   "name": "python",
   "nbconvert_exporter": "python",
   "pygments_lexer": "ipython3",
   "version": "3.10.4"
  }
 },
 "nbformat": 4,
 "nbformat_minor": 5
}
