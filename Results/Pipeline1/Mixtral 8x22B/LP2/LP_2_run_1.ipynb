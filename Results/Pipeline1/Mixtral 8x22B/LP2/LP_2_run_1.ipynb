{
 "cells": [
  {
   "cell_type": "code",
   "execution_count": 5,
   "id": "e5c2c174",
   "metadata": {},
   "outputs": [],
   "source": [
    "import os\n",
    "from mistralai.client import MistralClient\n",
    "from mistralai.models.chat_completion import ChatMessage\n",
    "from IPython.display import display, Markdown, Latex\n",
    "from datetime import datetime"
   ]
  },
  {
   "cell_type": "code",
   "execution_count": 6,
   "id": "b0c91a62",
   "metadata": {},
   "outputs": [
    {
     "name": "stdout",
     "output_type": "stream",
     "text": [
      "Time of execution: 2024-05-30 12:56:05.213706\n"
     ]
    }
   ],
   "source": [
    "API_KEY = os.environ['MISTRAL_API_KEY']\n",
    "\n",
    "MODEL_ID = 'open-mixtral-8x22b'\n",
    "MODEL_SEED = 1\n",
    "MODEL_TEMPERATURE = 0.7\n",
    "\n",
    "file_system_prompt_1 = open(\"../../system_prompt_1.txt\", \"r\")\n",
    "file_system_prompt_2 = open(\"../../system_prompt_2.txt\", \"r\")\n",
    "SYSTEM_PROMPT_1 = file_system_prompt_1.read()\n",
    "SYSTEM_PROMPT_2 = file_system_prompt_2.read()\n",
    "file_system_prompt_1.close()\n",
    "file_system_prompt_2.close()\n",
    "\n",
    "FILE_PATH_PROBLEM = '../../../../Datasets/IP_2_Choosing_Investment_Strategies/'\n",
    "assert(FILE_PATH_PROBLEM != '../../../../Datasets/')\n",
    "file_problem_description = open(FILE_PATH_PROBLEM + 'ProblemDescription.txt', 'r')\n",
    "PROBLEM_DESCRIPTION = file_problem_description.read()\n",
    "file_problem_description.close()\n",
    "\n",
    "\n",
    "client = MistralClient(api_key=API_KEY)\n",
    "\n",
    "print(f'Time of execution: {datetime.now()}')"
   ]
  },
  {
   "cell_type": "markdown",
   "id": "3e540824",
   "metadata": {},
   "source": [
    "## Step 1 - Generate Mathematical Formulation "
   ]
  },
  {
   "cell_type": "code",
   "execution_count": 4,
   "id": "174c127b",
   "metadata": {},
   "outputs": [],
   "source": [
    "messages_1 = [\n",
    "    ChatMessage(role=\"system\", content=SYSTEM_PROMPT_1),\n",
    "    ChatMessage(role=\"user\", content=PROBLEM_DESCRIPTION)\n",
    "]"
   ]
  },
  {
   "cell_type": "code",
   "execution_count": 5,
   "id": "d43340f3",
   "metadata": {},
   "outputs": [],
   "source": [
    "response_1 = client.chat(\n",
    "    model=MODEL_ID,\n",
    "    messages=messages_1,\n",
    "    random_seed=MODEL_SEED,\n",
    "    temperature=MODEL_TEMPERATURE \n",
    ")\n",
    "\n",
    "response_1_text = response_1.choices[0].message.content"
   ]
  },
  {
   "cell_type": "code",
   "execution_count": 6,
   "id": "03616e62",
   "metadata": {},
   "outputs": [
    {
     "data": {
      "text/markdown": [
       "To formulate a mean-variance mathematical optimization model for this problem, we'll define the parameters, decision variables, objective function, and constraints as follows:\n",
       "\n",
       "Parameters:\n",
       "- Let \\(N = 10\\) be the number of investment strategies.\n",
       "- Let \\(A = [80, 340, 410, 50, 180, 221, 15, 348, 191, 225]\\) be the vector of investment costs.\n",
       "- Let \\(R = [r_{i,j}]\\) be the \\(N \\times M\\) matrix of historic returns, where \\(r_{i,j}\\) is the return of strategy \\(i\\) in year \\(j\\), and \\(M\\) is the number of rows in the \"investments_data.csv\" file.\n",
       "- Let \\(B = [1000, 1100, 900, 1200]\\) be the vector of possible budget scenarios.\n",
       "- Let \\(P = [0.55, 0.4, 0.04, 0.01]\\) be the vector of probabilities for each budget scenario.\n",
       "- Let \\(r = 2\\) be the risk parameter.\n",
       "\n",
       "Decision Variables:\n",
       "- Let \\(x_i\\) be a binary decision variable indicating whether we invest in strategy \\(i\\) (\\(x_i = 1\\)) or not (\\(x_i = 0\\)).\n",
       "- Let \\(z\\) be a continuous decision variable representing the expected return on investment.\n",
       "- Let \\(w\\) be a continuous decision variable representing the variance of the return on investment.\n",
       "\n",
       "Objective Function:\n",
       "We aim to maximize the expected return \\(z\\) while minimizing the risk \\(r \\cdot w\\). Thus, the objective function is:\n",
       "\\[ \\text{maximize } z - r \\cdot w \\]\n",
       "\n",
       "Constraints:\n",
       "1. Budget constraint:\n",
       "For each budget scenario \\(k\\), the total investment cost should not exceed the budget. To account for the tolerable probability of exceeding the budget, we use the Value-at-Risk (VaR) approach. The constraint is:\n",
       "\\[ \\text{VaR}_{0.4}(B) \\geq \\sum_{i=1}^{N} A_i \\cdot x_i \\]\n",
       "\n",
       "2. Expected return calculation:\n",
       "The expected return \\(z\\) is calculated as the weighted average of historic returns, where the weights are the decision variables \\(x_i\\):\n",
       "\\[ z = \\frac{1}{M} \\sum_{i=1}^{N} \\sum_{j=1}^{M} r_{i,j} \\cdot x_i \\]\n",
       "\n",
       "3. Risk calculation:\n",
       "The risk \\(w\\) is calculated as the variance of the historic returns, weighted by the decision variables \\(x_i\\):\n",
       "\\[ w = \\frac{1}{M} \\sum_{i=1}^{N} \\sum_{j=1}^{M} (r_{i,j} - z)^2 \\cdot x_i \\]\n",
       "\n",
       "4. Binary constraints:\n",
       "\\[ x_i \\in \\{0, 1\\} \\quad \\forall i \\in \\{1, 2, \\dots, N\\} \\]\n",
       "\n",
       "The resulting optimization problem is a mixed-integer quadratic program that can be solved using a suitable optimization solver."
      ],
      "text/plain": [
       "<IPython.core.display.Markdown object>"
      ]
     },
     "execution_count": 6,
     "metadata": {},
     "output_type": "execute_result"
    }
   ],
   "source": [
    "Markdown(response_1_text)"
   ]
  },
  {
   "cell_type": "code",
   "execution_count": 7,
   "id": "b6a33171",
   "metadata": {},
   "outputs": [
    {
     "name": "stdout",
     "output_type": "stream",
     "text": [
      "To formulate a mean-variance mathematical optimization model for this problem, we'll define the parameters, decision variables, objective function, and constraints as follows:\n",
      "\n",
      "Parameters:\n",
      "- Let \\(N = 10\\) be the number of investment strategies.\n",
      "- Let \\(A = [80, 340, 410, 50, 180, 221, 15, 348, 191, 225]\\) be the vector of investment costs.\n",
      "- Let \\(R = [r_{i,j}]\\) be the \\(N \\times M\\) matrix of historic returns, where \\(r_{i,j}\\) is the return of strategy \\(i\\) in year \\(j\\), and \\(M\\) is the number of rows in the \"investments_data.csv\" file.\n",
      "- Let \\(B = [1000, 1100, 900, 1200]\\) be the vector of possible budget scenarios.\n",
      "- Let \\(P = [0.55, 0.4, 0.04, 0.01]\\) be the vector of probabilities for each budget scenario.\n",
      "- Let \\(r = 2\\) be the risk parameter.\n",
      "\n",
      "Decision Variables:\n",
      "- Let \\(x_i\\) be a binary decision variable indicating whether we invest in strategy \\(i\\) (\\(x_i = 1\\)) or not (\\(x_i = 0\\)).\n",
      "- Let \\(z\\) be a continuous decision variable representing the expected return on investment.\n",
      "- Let \\(w\\) be a continuous decision variable representing the variance of the return on investment.\n",
      "\n",
      "Objective Function:\n",
      "We aim to maximize the expected return \\(z\\) while minimizing the risk \\(r \\cdot w\\). Thus, the objective function is:\n",
      "\\[ \\text{maximize } z - r \\cdot w \\]\n",
      "\n",
      "Constraints:\n",
      "1. Budget constraint:\n",
      "For each budget scenario \\(k\\), the total investment cost should not exceed the budget. To account for the tolerable probability of exceeding the budget, we use the Value-at-Risk (VaR) approach. The constraint is:\n",
      "\\[ \\text{VaR}_{0.4}(B) \\geq \\sum_{i=1}^{N} A_i \\cdot x_i \\]\n",
      "\n",
      "2. Expected return calculation:\n",
      "The expected return \\(z\\) is calculated as the weighted average of historic returns, where the weights are the decision variables \\(x_i\\):\n",
      "\\[ z = \\frac{1}{M} \\sum_{i=1}^{N} \\sum_{j=1}^{M} r_{i,j} \\cdot x_i \\]\n",
      "\n",
      "3. Risk calculation:\n",
      "The risk \\(w\\) is calculated as the variance of the historic returns, weighted by the decision variables \\(x_i\\):\n",
      "\\[ w = \\frac{1}{M} \\sum_{i=1}^{N} \\sum_{j=1}^{M} (r_{i,j} - z)^2 \\cdot x_i \\]\n",
      "\n",
      "4. Binary constraints:\n",
      "\\[ x_i \\in \\{0, 1\\} \\quad \\forall i \\in \\{1, 2, \\dots, N\\} \\]\n",
      "\n",
      "The resulting optimization problem is a mixed-integer quadratic program that can be solved using a suitable optimization solver.\n"
     ]
    }
   ],
   "source": [
    "print(response_1_text)"
   ]
  },
  {
   "cell_type": "markdown",
   "id": "27b5f89a",
   "metadata": {},
   "source": [
    "## Step 2 - Generate the Pyomo Code"
   ]
  },
  {
   "cell_type": "code",
   "execution_count": 8,
   "id": "a4c3312f",
   "metadata": {},
   "outputs": [],
   "source": [
    "messages_2 = [\n",
    "    ChatMessage(role=\"system\", content=SYSTEM_PROMPT_2),\n",
    "    ChatMessage(role=\"user\", content=response_1_text)\n",
    "]"
   ]
  },
  {
   "cell_type": "code",
   "execution_count": 9,
   "id": "4212d99d",
   "metadata": {},
   "outputs": [],
   "source": [
    "response_2 = client.chat(\n",
    "    model=MODEL_ID,\n",
    "    messages=messages_2,\n",
    "    random_seed=MODEL_SEED,\n",
    "    temperature=MODEL_TEMPERATURE\n",
    ")\n",
    "\n",
    "response_2_text = response_2.choices[0].message.content"
   ]
  },
  {
   "cell_type": "code",
   "execution_count": 10,
   "id": "c168a60b",
   "metadata": {},
   "outputs": [
    {
     "data": {
      "text/markdown": [
       "Here is a Python code using Pyomo to solve the mean-variance optimization problem:\n",
       "\n",
       "```python\n",
       "import pyomo.environ as pyo\n",
       "import pandas as pd\n",
       "import numpy as np\n",
       "\n",
       "# Sample data\n",
       "A = np.array([80, 340, 410, 50, 180, 221, 15, 348, 191, 225])\n",
       "B = np.array([1000, 1100, 900, 1200])\n",
       "P = np.array([0.55, 0.4, 0.04, 0.01])\n",
       "r = 2\n",
       "N = len(A)\n",
       "M = 10  # Sample data for M, replace with actual value from investments_data.csv\n",
       "\n",
       "# Read historic returns data\n",
       "investments_data = pd.read_csv('investments_data.csv')\n",
       "R = investments_data.values\n",
       "\n",
       "# Pyomo model\n",
       "model = pyo.ConcreteModel()\n",
       "\n",
       "# Variables\n",
       "model.x = pyo.Var(range(N), domain=pyo.Binary)\n",
       "model.z = pyo.Var()\n",
       "model.w = pyo.Var()\n",
       "\n",
       "# Objective function\n",
       "model.obj = pyo.Objective(expr=model.z - r * model.w, sense=pyo.maximize)\n",
       "\n",
       "# Constraints\n",
       "def budget_constraint_rule(model):\n",
       "    return sum(A[i] * model.x[i] for i in range(N)) <= np.percentile(B, 40)\n",
       "model.budget_constraint = pyo.Constraint(rule=budget_constraint_rule)\n",
       "\n",
       "def expected_return_rule(model):\n",
       "    return model.z == (1 / M) * sum(sum(R[i, j] * model.x[i] for j in range(M)) for i in range(N))\n",
       "model.expected_return_constraint = pyo.Constraint(rule=expected_return_rule)\n",
       "\n",
       "def risk_rule(model):\n",
       "    return model.w == (1 / M) * sum(sum((R[i, j] - model.z)**2 * model.x[i] for j in range(M)) for i in range(N))\n",
       "model.risk_constraint = pyo.Constraint(rule=risk_rule)\n",
       "\n",
       "# Solver\n",
       "solver = pyo.SolverFactory('ipopt')\n",
       "\n",
       "# Solve the problem\n",
       "results = solver.solve(model)\n",
       "\n",
       "# Print the results\n",
       "print(\"Objective value:\", pyo.value(model.obj))\n",
       "print(\"x =\", [pyo.value(model.x[i]) for i in range(N)])\n",
       "print(\"Expected return (z) =\", pyo.value(model.z))\n",
       "print(\"Risk (w) =\", pyo.value(model.w))\n",
       "```\n",
       "\n",
       "You need to replace the sample data for `M` with the actual number of rows in your `investments_data.csv` file. Also, make sure to install the required packages (Pyomo, NumPy, and Pandas) and the `ipopt` solver before running the code."
      ],
      "text/plain": [
       "<IPython.core.display.Markdown object>"
      ]
     },
     "execution_count": 10,
     "metadata": {},
     "output_type": "execute_result"
    }
   ],
   "source": [
    "Markdown(response_2_text)"
   ]
  },
  {
   "cell_type": "code",
   "execution_count": 11,
   "id": "a380c180",
   "metadata": {},
   "outputs": [
    {
     "name": "stdout",
     "output_type": "stream",
     "text": [
      "Here is a Python code using Pyomo to solve the mean-variance optimization problem:\n",
      "\n",
      "```python\n",
      "import pyomo.environ as pyo\n",
      "import pandas as pd\n",
      "import numpy as np\n",
      "\n",
      "# Sample data\n",
      "A = np.array([80, 340, 410, 50, 180, 221, 15, 348, 191, 225])\n",
      "B = np.array([1000, 1100, 900, 1200])\n",
      "P = np.array([0.55, 0.4, 0.04, 0.01])\n",
      "r = 2\n",
      "N = len(A)\n",
      "M = 10  # Sample data for M, replace with actual value from investments_data.csv\n",
      "\n",
      "# Read historic returns data\n",
      "investments_data = pd.read_csv('investments_data.csv')\n",
      "R = investments_data.values\n",
      "\n",
      "# Pyomo model\n",
      "model = pyo.ConcreteModel()\n",
      "\n",
      "# Variables\n",
      "model.x = pyo.Var(range(N), domain=pyo.Binary)\n",
      "model.z = pyo.Var()\n",
      "model.w = pyo.Var()\n",
      "\n",
      "# Objective function\n",
      "model.obj = pyo.Objective(expr=model.z - r * model.w, sense=pyo.maximize)\n",
      "\n",
      "# Constraints\n",
      "def budget_constraint_rule(model):\n",
      "    return sum(A[i] * model.x[i] for i in range(N)) <= np.percentile(B, 40)\n",
      "model.budget_constraint = pyo.Constraint(rule=budget_constraint_rule)\n",
      "\n",
      "def expected_return_rule(model):\n",
      "    return model.z == (1 / M) * sum(sum(R[i, j] * model.x[i] for j in range(M)) for i in range(N))\n",
      "model.expected_return_constraint = pyo.Constraint(rule=expected_return_rule)\n",
      "\n",
      "def risk_rule(model):\n",
      "    return model.w == (1 / M) * sum(sum((R[i, j] - model.z)**2 * model.x[i] for j in range(M)) for i in range(N))\n",
      "model.risk_constraint = pyo.Constraint(rule=risk_rule)\n",
      "\n",
      "# Solver\n",
      "solver = pyo.SolverFactory('ipopt')\n",
      "\n",
      "# Solve the problem\n",
      "results = solver.solve(model)\n",
      "\n",
      "# Print the results\n",
      "print(\"Objective value:\", pyo.value(model.obj))\n",
      "print(\"x =\", [pyo.value(model.x[i]) for i in range(N)])\n",
      "print(\"Expected return (z) =\", pyo.value(model.z))\n",
      "print(\"Risk (w) =\", pyo.value(model.w))\n",
      "```\n",
      "\n",
      "You need to replace the sample data for `M` with the actual number of rows in your `investments_data.csv` file. Also, make sure to install the required packages (Pyomo, NumPy, and Pandas) and the `ipopt` solver before running the code.\n"
     ]
    }
   ],
   "source": [
    "print(response_2_text)"
   ]
  },
  {
   "cell_type": "markdown",
   "id": "879cc7ae",
   "metadata": {},
   "source": [
    "### Code Executability"
   ]
  },
  {
   "cell_type": "code",
   "execution_count": 7,
   "id": "f1d9a625",
   "metadata": {},
   "outputs": [
    {
     "name": "stderr",
     "output_type": "stream",
     "text": [
      "2024-05-30 12:56:25,262 ERROR pyomo.core: Rule failed when generating expression for Constraint expected_return_constraint with index None:\n",
      "AttributeError: 'str' object has no attribute 'is_potentially_variable'\n",
      "2024-05-30 12:56:25,264 ERROR pyomo.core: Constructing component 'expected_return_constraint' from data=None failed:\n",
      "AttributeError: 'str' object has no attribute 'is_potentially_variable'\n"
     ]
    },
    {
     "ename": "AttributeError",
     "evalue": "'str' object has no attribute 'is_potentially_variable'",
     "output_type": "error",
     "traceback": [
      "\u001b[1;31m---------------------------------------------------------------------------\u001b[0m",
      "\u001b[1;31mAttributeError\u001b[0m                            Traceback (most recent call last)",
      "Input \u001b[1;32mIn [7]\u001b[0m, in \u001b[0;36m<cell line: 35>\u001b[1;34m()\u001b[0m\n\u001b[0;32m     33\u001b[0m \u001b[38;5;28;01mdef\u001b[39;00m \u001b[38;5;21mexpected_return_rule\u001b[39m(model):\n\u001b[0;32m     34\u001b[0m     \u001b[38;5;28;01mreturn\u001b[39;00m model\u001b[38;5;241m.\u001b[39mz \u001b[38;5;241m==\u001b[39m (\u001b[38;5;241m1\u001b[39m \u001b[38;5;241m/\u001b[39m M) \u001b[38;5;241m*\u001b[39m \u001b[38;5;28msum\u001b[39m(\u001b[38;5;28msum\u001b[39m(R[i, j] \u001b[38;5;241m*\u001b[39m model\u001b[38;5;241m.\u001b[39mx[i] \u001b[38;5;28;01mfor\u001b[39;00m j \u001b[38;5;129;01min\u001b[39;00m \u001b[38;5;28mrange\u001b[39m(M)) \u001b[38;5;28;01mfor\u001b[39;00m i \u001b[38;5;129;01min\u001b[39;00m \u001b[38;5;28mrange\u001b[39m(N))\n\u001b[1;32m---> 35\u001b[0m model\u001b[38;5;241m.\u001b[39mexpected_return_constraint \u001b[38;5;241m=\u001b[39m pyo\u001b[38;5;241m.\u001b[39mConstraint(rule\u001b[38;5;241m=\u001b[39mexpected_return_rule)\n\u001b[0;32m     37\u001b[0m \u001b[38;5;28;01mdef\u001b[39;00m \u001b[38;5;21mrisk_rule\u001b[39m(model):\n\u001b[0;32m     38\u001b[0m     \u001b[38;5;28;01mreturn\u001b[39;00m model\u001b[38;5;241m.\u001b[39mw \u001b[38;5;241m==\u001b[39m (\u001b[38;5;241m1\u001b[39m \u001b[38;5;241m/\u001b[39m M) \u001b[38;5;241m*\u001b[39m \u001b[38;5;28msum\u001b[39m(\u001b[38;5;28msum\u001b[39m((R[i, j] \u001b[38;5;241m-\u001b[39m model\u001b[38;5;241m.\u001b[39mz)\u001b[38;5;241m*\u001b[39m\u001b[38;5;241m*\u001b[39m\u001b[38;5;241m2\u001b[39m \u001b[38;5;241m*\u001b[39m model\u001b[38;5;241m.\u001b[39mx[i] \u001b[38;5;28;01mfor\u001b[39;00m j \u001b[38;5;129;01min\u001b[39;00m \u001b[38;5;28mrange\u001b[39m(M)) \u001b[38;5;28;01mfor\u001b[39;00m i \u001b[38;5;129;01min\u001b[39;00m \u001b[38;5;28mrange\u001b[39m(N))\n",
      "File \u001b[1;32m~\\AppData\\Roaming\\Python\\Python310\\site-packages\\pyomo\\core\\base\\block.py:639\u001b[0m, in \u001b[0;36m_BlockData.__setattr__\u001b[1;34m(self, name, val)\u001b[0m\n\u001b[0;32m    634\u001b[0m \u001b[38;5;28;01mif\u001b[39;00m name \u001b[38;5;129;01mnot\u001b[39;00m \u001b[38;5;129;01min\u001b[39;00m \u001b[38;5;28mself\u001b[39m\u001b[38;5;241m.\u001b[39m\u001b[38;5;18m__dict__\u001b[39m:\n\u001b[0;32m    635\u001b[0m     \u001b[38;5;28;01mif\u001b[39;00m \u001b[38;5;28misinstance\u001b[39m(val, Component):\n\u001b[0;32m    636\u001b[0m         \u001b[38;5;66;03m#\u001b[39;00m\n\u001b[0;32m    637\u001b[0m         \u001b[38;5;66;03m# Pyomo components are added with the add_component method.\u001b[39;00m\n\u001b[0;32m    638\u001b[0m         \u001b[38;5;66;03m#\u001b[39;00m\n\u001b[1;32m--> 639\u001b[0m         \u001b[38;5;28;43mself\u001b[39;49m\u001b[38;5;241;43m.\u001b[39;49m\u001b[43madd_component\u001b[49m\u001b[43m(\u001b[49m\u001b[43mname\u001b[49m\u001b[43m,\u001b[49m\u001b[43m \u001b[49m\u001b[43mval\u001b[49m\u001b[43m)\u001b[49m\n\u001b[0;32m    640\u001b[0m     \u001b[38;5;28;01melse\u001b[39;00m:\n\u001b[0;32m    641\u001b[0m         \u001b[38;5;66;03m#\u001b[39;00m\n\u001b[0;32m    642\u001b[0m         \u001b[38;5;66;03m# Other Python objects are added with the standard __setattr__\u001b[39;00m\n\u001b[0;32m    643\u001b[0m         \u001b[38;5;66;03m# method.\u001b[39;00m\n\u001b[0;32m    644\u001b[0m         \u001b[38;5;66;03m#\u001b[39;00m\n\u001b[0;32m    645\u001b[0m         \u001b[38;5;28msuper\u001b[39m(_BlockData, \u001b[38;5;28mself\u001b[39m)\u001b[38;5;241m.\u001b[39m\u001b[38;5;21m__setattr__\u001b[39m(name, val)\n",
      "File \u001b[1;32m~\\AppData\\Roaming\\Python\\Python310\\site-packages\\pyomo\\core\\base\\block.py:1186\u001b[0m, in \u001b[0;36m_BlockData.add_component\u001b[1;34m(self, name, val)\u001b[0m\n\u001b[0;32m   1182\u001b[0m     logger\u001b[38;5;241m.\u001b[39mdebug(\u001b[38;5;124m\"\u001b[39m\u001b[38;5;124mConstructing \u001b[39m\u001b[38;5;132;01m%s\u001b[39;00m\u001b[38;5;124m \u001b[39m\u001b[38;5;124m'\u001b[39m\u001b[38;5;132;01m%s\u001b[39;00m\u001b[38;5;124m'\u001b[39m\u001b[38;5;124m on \u001b[39m\u001b[38;5;132;01m%s\u001b[39;00m\u001b[38;5;124m from data=\u001b[39m\u001b[38;5;132;01m%s\u001b[39;00m\u001b[38;5;124m\"\u001b[39m,\n\u001b[0;32m   1183\u001b[0m                  val\u001b[38;5;241m.\u001b[39m\u001b[38;5;18m__class__\u001b[39m\u001b[38;5;241m.\u001b[39m\u001b[38;5;18m__name__\u001b[39m, name,\n\u001b[0;32m   1184\u001b[0m                  _blockName, \u001b[38;5;28mstr\u001b[39m(data))\n\u001b[0;32m   1185\u001b[0m \u001b[38;5;28;01mtry\u001b[39;00m:\n\u001b[1;32m-> 1186\u001b[0m     \u001b[43mval\u001b[49m\u001b[38;5;241;43m.\u001b[39;49m\u001b[43mconstruct\u001b[49m\u001b[43m(\u001b[49m\u001b[43mdata\u001b[49m\u001b[43m)\u001b[49m\n\u001b[0;32m   1187\u001b[0m \u001b[38;5;28;01mexcept\u001b[39;00m:\n\u001b[0;32m   1188\u001b[0m     err \u001b[38;5;241m=\u001b[39m sys\u001b[38;5;241m.\u001b[39mexc_info()[\u001b[38;5;241m1\u001b[39m]\n",
      "File \u001b[1;32m~\\AppData\\Roaming\\Python\\Python310\\site-packages\\pyomo\\core\\base\\disable_methods.py:116\u001b[0m, in \u001b[0;36mdisable_methods.<locals>.class_decorator.<locals>.construct\u001b[1;34m(self, data)\u001b[0m\n\u001b[0;32m    114\u001b[0m     \u001b[38;5;28mself\u001b[39m\u001b[38;5;241m.\u001b[39m_name \u001b[38;5;241m=\u001b[39m base\u001b[38;5;241m.\u001b[39m\u001b[38;5;18m__name__\u001b[39m\n\u001b[0;32m    115\u001b[0m \u001b[38;5;28mself\u001b[39m\u001b[38;5;241m.\u001b[39m\u001b[38;5;18m__class__\u001b[39m \u001b[38;5;241m=\u001b[39m base\n\u001b[1;32m--> 116\u001b[0m \u001b[38;5;28;01mreturn\u001b[39;00m \u001b[43mbase\u001b[49m\u001b[38;5;241;43m.\u001b[39;49m\u001b[43mconstruct\u001b[49m\u001b[43m(\u001b[49m\u001b[38;5;28;43mself\u001b[39;49m\u001b[43m,\u001b[49m\u001b[43m \u001b[49m\u001b[43mdata\u001b[49m\u001b[43m)\u001b[49m\n",
      "File \u001b[1;32m~\\AppData\\Roaming\\Python\\Python310\\site-packages\\pyomo\\core\\base\\constraint.py:772\u001b[0m, in \u001b[0;36mConstraint.construct\u001b[1;34m(self, data)\u001b[0m\n\u001b[0;32m    769\u001b[0m     \u001b[38;5;28;01melse\u001b[39;00m:\n\u001b[0;32m    770\u001b[0m         \u001b[38;5;66;03m# Bypass the index validation and create the member directly\u001b[39;00m\n\u001b[0;32m    771\u001b[0m         \u001b[38;5;28;01mfor\u001b[39;00m index \u001b[38;5;129;01min\u001b[39;00m \u001b[38;5;28mself\u001b[39m\u001b[38;5;241m.\u001b[39mindex_set():\n\u001b[1;32m--> 772\u001b[0m             \u001b[38;5;28mself\u001b[39m\u001b[38;5;241m.\u001b[39m_setitem_when_not_present(index, \u001b[43mrule\u001b[49m\u001b[43m(\u001b[49m\u001b[43mblock\u001b[49m\u001b[43m,\u001b[49m\u001b[43m \u001b[49m\u001b[43mindex\u001b[49m\u001b[43m)\u001b[49m)\n\u001b[0;32m    773\u001b[0m \u001b[38;5;28;01mexcept\u001b[39;00m \u001b[38;5;167;01mException\u001b[39;00m:\n\u001b[0;32m    774\u001b[0m     err \u001b[38;5;241m=\u001b[39m sys\u001b[38;5;241m.\u001b[39mexc_info()[\u001b[38;5;241m1\u001b[39m]\n",
      "File \u001b[1;32m~\\AppData\\Roaming\\Python\\Python310\\site-packages\\pyomo\\core\\base\\initializer.py:402\u001b[0m, in \u001b[0;36mScalarCallInitializer.__call__\u001b[1;34m(self, parent, idx)\u001b[0m\n\u001b[0;32m    401\u001b[0m \u001b[38;5;28;01mdef\u001b[39;00m \u001b[38;5;21m__call__\u001b[39m(\u001b[38;5;28mself\u001b[39m, parent, idx):\n\u001b[1;32m--> 402\u001b[0m     \u001b[38;5;28;01mreturn\u001b[39;00m \u001b[38;5;28;43mself\u001b[39;49m\u001b[38;5;241;43m.\u001b[39;49m\u001b[43m_fcn\u001b[49m\u001b[43m(\u001b[49m\u001b[43mparent\u001b[49m\u001b[43m)\u001b[49m\n",
      "Input \u001b[1;32mIn [7]\u001b[0m, in \u001b[0;36mexpected_return_rule\u001b[1;34m(model)\u001b[0m\n\u001b[0;32m     33\u001b[0m \u001b[38;5;28;01mdef\u001b[39;00m \u001b[38;5;21mexpected_return_rule\u001b[39m(model):\n\u001b[1;32m---> 34\u001b[0m     \u001b[38;5;28;01mreturn\u001b[39;00m model\u001b[38;5;241m.\u001b[39mz \u001b[38;5;241m==\u001b[39m (\u001b[38;5;241m1\u001b[39m \u001b[38;5;241m/\u001b[39m M) \u001b[38;5;241m*\u001b[39m \u001b[38;5;28;43msum\u001b[39;49m\u001b[43m(\u001b[49m\u001b[38;5;28;43msum\u001b[39;49m\u001b[43m(\u001b[49m\u001b[43mR\u001b[49m\u001b[43m[\u001b[49m\u001b[43mi\u001b[49m\u001b[43m,\u001b[49m\u001b[43m \u001b[49m\u001b[43mj\u001b[49m\u001b[43m]\u001b[49m\u001b[43m \u001b[49m\u001b[38;5;241;43m*\u001b[39;49m\u001b[43m \u001b[49m\u001b[43mmodel\u001b[49m\u001b[38;5;241;43m.\u001b[39;49m\u001b[43mx\u001b[49m\u001b[43m[\u001b[49m\u001b[43mi\u001b[49m\u001b[43m]\u001b[49m\u001b[43m \u001b[49m\u001b[38;5;28;43;01mfor\u001b[39;49;00m\u001b[43m \u001b[49m\u001b[43mj\u001b[49m\u001b[43m \u001b[49m\u001b[38;5;129;43;01min\u001b[39;49;00m\u001b[43m \u001b[49m\u001b[38;5;28;43mrange\u001b[39;49m\u001b[43m(\u001b[49m\u001b[43mM\u001b[49m\u001b[43m)\u001b[49m\u001b[43m)\u001b[49m\u001b[43m \u001b[49m\u001b[38;5;28;43;01mfor\u001b[39;49;00m\u001b[43m \u001b[49m\u001b[43mi\u001b[49m\u001b[43m \u001b[49m\u001b[38;5;129;43;01min\u001b[39;49;00m\u001b[43m \u001b[49m\u001b[38;5;28;43mrange\u001b[39;49m\u001b[43m(\u001b[49m\u001b[43mN\u001b[49m\u001b[43m)\u001b[49m\u001b[43m)\u001b[49m\n",
      "Input \u001b[1;32mIn [7]\u001b[0m, in \u001b[0;36m<genexpr>\u001b[1;34m(.0)\u001b[0m\n\u001b[0;32m     33\u001b[0m \u001b[38;5;28;01mdef\u001b[39;00m \u001b[38;5;21mexpected_return_rule\u001b[39m(model):\n\u001b[1;32m---> 34\u001b[0m     \u001b[38;5;28;01mreturn\u001b[39;00m model\u001b[38;5;241m.\u001b[39mz \u001b[38;5;241m==\u001b[39m (\u001b[38;5;241m1\u001b[39m \u001b[38;5;241m/\u001b[39m M) \u001b[38;5;241m*\u001b[39m \u001b[38;5;28msum\u001b[39m(\u001b[38;5;28;43msum\u001b[39;49m\u001b[43m(\u001b[49m\u001b[43mR\u001b[49m\u001b[43m[\u001b[49m\u001b[43mi\u001b[49m\u001b[43m,\u001b[49m\u001b[43m \u001b[49m\u001b[43mj\u001b[49m\u001b[43m]\u001b[49m\u001b[43m \u001b[49m\u001b[38;5;241;43m*\u001b[39;49m\u001b[43m \u001b[49m\u001b[43mmodel\u001b[49m\u001b[38;5;241;43m.\u001b[39;49m\u001b[43mx\u001b[49m\u001b[43m[\u001b[49m\u001b[43mi\u001b[49m\u001b[43m]\u001b[49m\u001b[43m \u001b[49m\u001b[38;5;28;43;01mfor\u001b[39;49;00m\u001b[43m \u001b[49m\u001b[43mj\u001b[49m\u001b[43m \u001b[49m\u001b[38;5;129;43;01min\u001b[39;49;00m\u001b[43m \u001b[49m\u001b[38;5;28;43mrange\u001b[39;49m\u001b[43m(\u001b[49m\u001b[43mM\u001b[49m\u001b[43m)\u001b[49m\u001b[43m)\u001b[49m \u001b[38;5;28;01mfor\u001b[39;00m i \u001b[38;5;129;01min\u001b[39;00m \u001b[38;5;28mrange\u001b[39m(N))\n",
      "Input \u001b[1;32mIn [7]\u001b[0m, in \u001b[0;36m<genexpr>\u001b[1;34m(.0)\u001b[0m\n\u001b[0;32m     33\u001b[0m \u001b[38;5;28;01mdef\u001b[39;00m \u001b[38;5;21mexpected_return_rule\u001b[39m(model):\n\u001b[1;32m---> 34\u001b[0m     \u001b[38;5;28;01mreturn\u001b[39;00m model\u001b[38;5;241m.\u001b[39mz \u001b[38;5;241m==\u001b[39m (\u001b[38;5;241m1\u001b[39m \u001b[38;5;241m/\u001b[39m M) \u001b[38;5;241m*\u001b[39m \u001b[38;5;28msum\u001b[39m(\u001b[38;5;28msum\u001b[39m(\u001b[43mR\u001b[49m\u001b[43m[\u001b[49m\u001b[43mi\u001b[49m\u001b[43m,\u001b[49m\u001b[43m \u001b[49m\u001b[43mj\u001b[49m\u001b[43m]\u001b[49m\u001b[43m \u001b[49m\u001b[38;5;241;43m*\u001b[39;49m\u001b[43m \u001b[49m\u001b[43mmodel\u001b[49m\u001b[38;5;241;43m.\u001b[39;49m\u001b[43mx\u001b[49m\u001b[43m[\u001b[49m\u001b[43mi\u001b[49m\u001b[43m]\u001b[49m \u001b[38;5;28;01mfor\u001b[39;00m j \u001b[38;5;129;01min\u001b[39;00m \u001b[38;5;28mrange\u001b[39m(M)) \u001b[38;5;28;01mfor\u001b[39;00m i \u001b[38;5;129;01min\u001b[39;00m \u001b[38;5;28mrange\u001b[39m(N))\n",
      "File \u001b[1;32mpyomo\\core\\expr\\numvalue.pyx:798\u001b[0m, in \u001b[0;36mpyomo.core.expr.numvalue.NumericValue.__rmul__\u001b[1;34m()\u001b[0m\n",
      "File \u001b[1;32mpyomo\\core\\expr\\numeric_expr.pyx:1876\u001b[0m, in \u001b[0;36mpyomo.core.expr.numeric_expr._generate_mul_expression\u001b[1;34m()\u001b[0m\n",
      "\u001b[1;31mAttributeError\u001b[0m: 'str' object has no attribute 'is_potentially_variable'"
     ]
    }
   ],
   "source": [
    "import pyomo.environ as pyo\n",
    "import pandas as pd\n",
    "import numpy as np\n",
    "\n",
    "# Sample data\n",
    "A = np.array([80, 340, 410, 50, 180, 221, 15, 348, 191, 225])\n",
    "B = np.array([1000, 1100, 900, 1200])\n",
    "P = np.array([0.55, 0.4, 0.04, 0.01])\n",
    "r = 2\n",
    "N = len(A)\n",
    "M = 10  # Sample data for M, replace with actual value from investments_data.csv\n",
    "\n",
    "# Read historic returns data\n",
    "investments_data = pd.read_csv(FILE_PATH_PROBLEM + 'investments_data.csv')\n",
    "R = investments_data.values\n",
    "\n",
    "# Pyomo model\n",
    "model = pyo.ConcreteModel()\n",
    "\n",
    "# Variables\n",
    "model.x = pyo.Var(range(N), domain=pyo.Binary)\n",
    "model.z = pyo.Var()\n",
    "model.w = pyo.Var()\n",
    "\n",
    "# Objective function\n",
    "model.obj = pyo.Objective(expr=model.z - r * model.w, sense=pyo.maximize)\n",
    "\n",
    "# Constraints\n",
    "def budget_constraint_rule(model):\n",
    "    return sum(A[i] * model.x[i] for i in range(N)) <= np.percentile(B, 40)\n",
    "model.budget_constraint = pyo.Constraint(rule=budget_constraint_rule)\n",
    "\n",
    "def expected_return_rule(model):\n",
    "    return model.z == (1 / M) * sum(sum(R[i, j] * model.x[i] for j in range(M)) for i in range(N))\n",
    "model.expected_return_constraint = pyo.Constraint(rule=expected_return_rule)\n",
    "\n",
    "def risk_rule(model):\n",
    "    return model.w == (1 / M) * sum(sum((R[i, j] - model.z)**2 * model.x[i] for j in range(M)) for i in range(N))\n",
    "model.risk_constraint = pyo.Constraint(rule=risk_rule)\n",
    "\n",
    "# Solver\n",
    "solver = pyo.SolverFactory('gurobi')\n",
    "\n",
    "# Solve the problem\n",
    "results = solver.solve(model)\n",
    "\n",
    "# Print the results\n",
    "print(\"Objective value:\", pyo.value(model.obj))\n",
    "print(\"x =\", [pyo.value(model.x[i]) for i in range(N)])\n",
    "print(\"Expected return (z) =\", pyo.value(model.z))\n",
    "print(\"Risk (w) =\", pyo.value(model.w))"
   ]
  },
  {
   "cell_type": "markdown",
   "id": "95f5c3a8",
   "metadata": {},
   "source": [
    "### Solution Correctness"
   ]
  },
  {
   "cell_type": "code",
   "execution_count": null,
   "id": "01245691",
   "metadata": {},
   "outputs": [],
   "source": []
  }
 ],
 "metadata": {
  "kernelspec": {
   "display_name": "Python 3 (ipykernel)",
   "language": "python",
   "name": "python3"
  },
  "language_info": {
   "codemirror_mode": {
    "name": "ipython",
    "version": 3
   },
   "file_extension": ".py",
   "mimetype": "text/x-python",
   "name": "python",
   "nbconvert_exporter": "python",
   "pygments_lexer": "ipython3",
   "version": "3.10.4"
  }
 },
 "nbformat": 4,
 "nbformat_minor": 5
}
