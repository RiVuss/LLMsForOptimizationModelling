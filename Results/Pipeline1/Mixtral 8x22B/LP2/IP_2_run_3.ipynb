{
 "cells": [
  {
   "cell_type": "code",
   "execution_count": 1,
   "id": "e5c2c174",
   "metadata": {},
   "outputs": [],
   "source": [
    "import os\n",
    "from mistralai.client import MistralClient\n",
    "from mistralai.models.chat_completion import ChatMessage\n",
    "from IPython.display import display, Markdown, Latex\n",
    "from datetime import datetime"
   ]
  },
  {
   "cell_type": "code",
   "execution_count": 2,
   "id": "b0c91a62",
   "metadata": {},
   "outputs": [
    {
     "name": "stdout",
     "output_type": "stream",
     "text": [
      "Time of execution: 2024-05-18 13:49:12.705868\n"
     ]
    }
   ],
   "source": [
    "API_KEY = os.environ['MISTRAL_API_KEY']\n",
    "\n",
    "MODEL_ID = 'open-mixtral-8x22b'\n",
    "MODEL_SEED = 3\n",
    "MODEL_TEMPERATURE = 0.7\n",
    "\n",
    "file_system_prompt_1 = open(\"../../system_prompt_1.txt\", \"r\")\n",
    "file_system_prompt_2 = open(\"../../system_prompt_2.txt\", \"r\")\n",
    "SYSTEM_PROMPT_1 = file_system_prompt_1.read()\n",
    "SYSTEM_PROMPT_2 = file_system_prompt_2.read()\n",
    "file_system_prompt_1.close()\n",
    "file_system_prompt_2.close()\n",
    "\n",
    "FILE_PATH_PROBLEM = '../../../../Datasets/IP_2_Choosing_Investment_Strategies/'\n",
    "assert(FILE_PATH_PROBLEM != '../../../../Datasets/')\n",
    "file_problem_description = open(FILE_PATH_PROBLEM + 'ProblemDescription.txt', 'r')\n",
    "PROBLEM_DESCRIPTION = file_problem_description.read()\n",
    "file_problem_description.close()\n",
    "\n",
    "\n",
    "client = MistralClient(api_key=API_KEY)\n",
    "\n",
    "print(f'Time of execution: {datetime.now()}')"
   ]
  },
  {
   "cell_type": "markdown",
   "id": "3e540824",
   "metadata": {},
   "source": [
    "## Step 1 - Generate Mathematical Formulation "
   ]
  },
  {
   "cell_type": "code",
   "execution_count": 3,
   "id": "174c127b",
   "metadata": {},
   "outputs": [],
   "source": [
    "messages_1 = [\n",
    "    ChatMessage(role=\"system\", content=SYSTEM_PROMPT_1),\n",
    "    ChatMessage(role=\"user\", content=PROBLEM_DESCRIPTION)\n",
    "]"
   ]
  },
  {
   "cell_type": "code",
   "execution_count": 4,
   "id": "d43340f3",
   "metadata": {},
   "outputs": [],
   "source": [
    "response_1 = client.chat(\n",
    "    model=MODEL_ID,\n",
    "    messages=messages_1,\n",
    "    random_seed=MODEL_SEED,\n",
    "    temperature=MODEL_TEMPERATURE \n",
    ")\n",
    "\n",
    "response_1_text = response_1.choices[0].message.content"
   ]
  },
  {
   "cell_type": "code",
   "execution_count": 5,
   "id": "03616e62",
   "metadata": {},
   "outputs": [
    {
     "data": {
      "text/markdown": [
       "This problem can be formulated as a mixed-integer linear programming (MILP) problem with chance constraints. Here are the parameters, decision variables, objective function, and constraints for this problem:\n",
       "\n",
       "**Parameters:**\n",
       "\n",
       "- \\(A = [80, 340, 410, 50, 180, 221, 15, 348, 191, 225]\\): Costs of investing in each strategy\n",
       "- \\(R \\in \\mathbb{R}^{n \\times 10}\\): Matrix of historical returns for each strategy, where \\(n\\) is the number of past investment outcomes\n",
       "- \\(B = [1000, 1100, 900, 1200]\\): Vector of possible budget scenarios\n",
       "- \\(p = [0.55, 0.4, 0.04, 0.01]\\): Vector of probabilities for each budget scenario\n",
       "- \\(r = 2\\): Risk parameter for the mean-variance model\n",
       "\n",
       "**Decision Variables:**\n",
       "\n",
       "- \\(x \\in \\{0, 1\\}^{10}\\): Binary decision variables indicating whether to invest in a strategy or not\n",
       "- \\(z \\geq 0\\): Auxiliary variable representing the expected value of the investment\n",
       "- \\(s \\geq 0\\): Auxiliary variable representing the standard deviation (risk) of the investment\n",
       "\n",
       "**Objective Function:**\n",
       "\n",
       "The objective is to maximize the expected return on investment, while minimizing the risk (variance):\n",
       "\n",
       "\\[\\max (z - r \\cdot s)\\]\n",
       "\n",
       "**Constraints:**\n",
       "\n",
       "1. Budget constraint: The total investment cost should not exceed the budget in any scenario with a probability higher than 0.4. This can be represented by a chance constraint:\n",
       "\n",
       "\\[P\\left(\\sum_{i=1}^{10} A_i \\cdot x_i \\leq B_k\\right) \\geq 1 - 0.4, \\quad k = 1, 2, 3, 4\\]\n",
       "\n",
       "This constraint can be transformed into a deterministic constraint using the concept of quantile functions:\n",
       "\n",
       "\\[\\sum_{i=1}^{10} A_i \\cdot x_i \\leq \\text{Quantile}[0.6, B \\cdot p^T]\\]\n",
       "\n",
       "2. Mean-variance constraints: These constraints ensure that the auxiliary variables \\(z\\) and \\(s\\) accurately represent the expected return and standard deviation of the investment, respectively.\n",
       "\n",
       "\\[z = \\frac{1}{n} \\sum_{j=1}^{n} \\sum_{i=1}^{10} R_{ji} \\cdot x_i\\]\n",
       "\n",
       "\\[s^2 = \\frac{1}{n} \\sum_{j=1}^{n} \\left(\\sum_{i=1}^{10} R_{ji} \\cdot x_i - z\\right)^2\\]\n",
       "\n",
       "Note that the second constraint is nonlinear due to the square term. To linearize this constraint, we can introduce another auxiliary variable \\(w \\geq 0\\) and add the following constraints:\n",
       "\n",
       "\\[w \\geq \\left(\\sum_{i=1}^{10} R_{ji} \\cdot x_i - z\\right)^2, \\quad j = 1, \\ldots, n\\]\n",
       "\n",
       "\\[s^2 = \\frac{1}{n} \\sum_{j=1}^{n} w_j\\]\n",
       "\n",
       "This formulation allows us to transform the nonlinear constraint into a linear one, making the optimization problem a MILP. This problem can be solved using off-the-shelf optimization software to find the optimal investment strategy under the uncertain budget scenario."
      ],
      "text/plain": [
       "<IPython.core.display.Markdown object>"
      ]
     },
     "execution_count": 5,
     "metadata": {},
     "output_type": "execute_result"
    }
   ],
   "source": [
    "Markdown(response_1_text)"
   ]
  },
  {
   "cell_type": "code",
   "execution_count": 6,
   "id": "b6a33171",
   "metadata": {},
   "outputs": [
    {
     "name": "stdout",
     "output_type": "stream",
     "text": [
      "This problem can be formulated as a mixed-integer linear programming (MILP) problem with chance constraints. Here are the parameters, decision variables, objective function, and constraints for this problem:\n",
      "\n",
      "**Parameters:**\n",
      "\n",
      "- \\(A = [80, 340, 410, 50, 180, 221, 15, 348, 191, 225]\\): Costs of investing in each strategy\n",
      "- \\(R \\in \\mathbb{R}^{n \\times 10}\\): Matrix of historical returns for each strategy, where \\(n\\) is the number of past investment outcomes\n",
      "- \\(B = [1000, 1100, 900, 1200]\\): Vector of possible budget scenarios\n",
      "- \\(p = [0.55, 0.4, 0.04, 0.01]\\): Vector of probabilities for each budget scenario\n",
      "- \\(r = 2\\): Risk parameter for the mean-variance model\n",
      "\n",
      "**Decision Variables:**\n",
      "\n",
      "- \\(x \\in \\{0, 1\\}^{10}\\): Binary decision variables indicating whether to invest in a strategy or not\n",
      "- \\(z \\geq 0\\): Auxiliary variable representing the expected value of the investment\n",
      "- \\(s \\geq 0\\): Auxiliary variable representing the standard deviation (risk) of the investment\n",
      "\n",
      "**Objective Function:**\n",
      "\n",
      "The objective is to maximize the expected return on investment, while minimizing the risk (variance):\n",
      "\n",
      "\\[\\max (z - r \\cdot s)\\]\n",
      "\n",
      "**Constraints:**\n",
      "\n",
      "1. Budget constraint: The total investment cost should not exceed the budget in any scenario with a probability higher than 0.4. This can be represented by a chance constraint:\n",
      "\n",
      "\\[P\\left(\\sum_{i=1}^{10} A_i \\cdot x_i \\leq B_k\\right) \\geq 1 - 0.4, \\quad k = 1, 2, 3, 4\\]\n",
      "\n",
      "This constraint can be transformed into a deterministic constraint using the concept of quantile functions:\n",
      "\n",
      "\\[\\sum_{i=1}^{10} A_i \\cdot x_i \\leq \\text{Quantile}[0.6, B \\cdot p^T]\\]\n",
      "\n",
      "2. Mean-variance constraints: These constraints ensure that the auxiliary variables \\(z\\) and \\(s\\) accurately represent the expected return and standard deviation of the investment, respectively.\n",
      "\n",
      "\\[z = \\frac{1}{n} \\sum_{j=1}^{n} \\sum_{i=1}^{10} R_{ji} \\cdot x_i\\]\n",
      "\n",
      "\\[s^2 = \\frac{1}{n} \\sum_{j=1}^{n} \\left(\\sum_{i=1}^{10} R_{ji} \\cdot x_i - z\\right)^2\\]\n",
      "\n",
      "Note that the second constraint is nonlinear due to the square term. To linearize this constraint, we can introduce another auxiliary variable \\(w \\geq 0\\) and add the following constraints:\n",
      "\n",
      "\\[w \\geq \\left(\\sum_{i=1}^{10} R_{ji} \\cdot x_i - z\\right)^2, \\quad j = 1, \\ldots, n\\]\n",
      "\n",
      "\\[s^2 = \\frac{1}{n} \\sum_{j=1}^{n} w_j\\]\n",
      "\n",
      "This formulation allows us to transform the nonlinear constraint into a linear one, making the optimization problem a MILP. This problem can be solved using off-the-shelf optimization software to find the optimal investment strategy under the uncertain budget scenario.\n"
     ]
    }
   ],
   "source": [
    "print(response_1_text)"
   ]
  },
  {
   "cell_type": "markdown",
   "id": "27b5f89a",
   "metadata": {},
   "source": [
    "## Step 2 - Generate the Pyomo Code"
   ]
  },
  {
   "cell_type": "code",
   "execution_count": 7,
   "id": "a4c3312f",
   "metadata": {},
   "outputs": [],
   "source": [
    "messages_2 = [\n",
    "    ChatMessage(role=\"system\", content=SYSTEM_PROMPT_2),\n",
    "    ChatMessage(role=\"user\", content=response_1_text)\n",
    "]"
   ]
  },
  {
   "cell_type": "code",
   "execution_count": 8,
   "id": "4212d99d",
   "metadata": {},
   "outputs": [],
   "source": [
    "response_2 = client.chat(\n",
    "    model=MODEL_ID,\n",
    "    messages=messages_2,\n",
    "    random_seed=MODEL_SEED,\n",
    "    temperature=MODEL_TEMPERATURE\n",
    ")\n",
    "\n",
    "response_2_text = response_2.choices[0].message.content"
   ]
  },
  {
   "cell_type": "code",
   "execution_count": 9,
   "id": "c168a60b",
   "metadata": {},
   "outputs": [
    {
     "data": {
      "text/markdown": [
       "To solve this problem using Pyomo, we first need to install the necessary packages. You can install Pyomo and its dependencies using the following command:\n",
       "\n",
       "```bash\n",
       "pip install pyomo\n",
       "```\n",
       "\n",
       "Now, let's write the Pyomo code to solve the MILP problem. I will use sample data for the historical returns matrix R, as it was not provided in the problem statement.\n",
       "\n",
       "```python\n",
       "import numpy as np\n",
       "import pyomo.environ as pyo\n",
       "\n",
       "# Sample data for historical returns matrix R\n",
       "np.random.seed(123)\n",
       "n = 100  # number of past investment outcomes\n",
       "R = np.random.rand(n, 10)\n",
       "\n",
       "# Parameters\n",
       "A = np.array([80, 340, 410, 50, 180, 221, 15, 348, 191, 225])\n",
       "B = np.array([1000, 1100, 900, 1200])\n",
       "p = np.array([0.55, 0.4, 0.04, 0.01])\n",
       "r = 2\n",
       "\n",
       "# Define the Pyomo model\n",
       "model = pyo.ConcreteModel()\n",
       "\n",
       "# Decision variables\n",
       "model.x = pyo.Var(range(10), within=pyo.Binary)\n",
       "model.z = pyo.Var(within=pyo.NonNegativeReals)\n",
       "model.s = pyo.Var(within=pyo.NonNegativeReals)\n",
       "\n",
       "# Objective function\n",
       "model.obj = pyo.Objective(expr=model.z - r * model.s, sense=pyo.maximize)\n",
       "\n",
       "# Budget constraint\n",
       "budget_constraint = sum(A[i] * model.x[i] for i in range(10)) <= np.quantile(B @ p, 0.6)\n",
       "model.budget_constraint = pyo.Constraint(expr=budget_constraint)\n",
       "\n",
       "# Mean-variance constraints\n",
       "n_inv = np.linalg.inv(np.identity(n) - (1/n) * np.ones((n, n)))\n",
       "Z = R @ model.x.vec\n",
       "model.mean_constraint = pyo.Constraint(expr=model.z == (1/n) * sum(Z[j] for j in range(n)))\n",
       "\n",
       "model.aux_vars = pyo.Var(range(n), within=pyo.NonNegativeReals)\n",
       "model.aux_vars_constraints = pyo.ConstraintList()\n",
       "for j in range(n):\n",
       "    model.aux_vars_constraints.add(model.aux_vars[j] >= (Z[j] - model.z) ** 2)\n",
       "\n",
       "model.std_constraint = pyo.Constraint(expr=model.s ** 2 == (1/n) * sum(model.aux_vars[j] for j in range(n)))\n",
       "\n",
       "# Solve the model\n",
       "solver = pyo.SolverFactory('glpk')\n",
       "results = solver.solve(model)\n",
       "\n",
       "# Print the results\n",
       "print(\"Objective value:\", pyo.value(model.obj))\n",
       "print(\"Investment strategy:\", [pyo.value(model.x[i]) for i in range(10)])\n",
       "print(\"Expected return:\", pyo.value(model.z))\n",
       "print(\"Standard deviation:\", pyo.value(model.s))\n",
       "```\n",
       "\n",
       "This code defines the Pyomo model, adds the decision variables, objective function, and constraints. It then solves the model using the GLPK solver and prints the results. Replace the sample data for R with your actual data to get the solution for your specific problem."
      ],
      "text/plain": [
       "<IPython.core.display.Markdown object>"
      ]
     },
     "execution_count": 9,
     "metadata": {},
     "output_type": "execute_result"
    }
   ],
   "source": [
    "Markdown(response_2_text)"
   ]
  },
  {
   "cell_type": "code",
   "execution_count": 10,
   "id": "a380c180",
   "metadata": {},
   "outputs": [
    {
     "name": "stdout",
     "output_type": "stream",
     "text": [
      "To solve this problem using Pyomo, we first need to install the necessary packages. You can install Pyomo and its dependencies using the following command:\n",
      "\n",
      "```bash\n",
      "pip install pyomo\n",
      "```\n",
      "\n",
      "Now, let's write the Pyomo code to solve the MILP problem. I will use sample data for the historical returns matrix R, as it was not provided in the problem statement.\n",
      "\n",
      "```python\n",
      "import numpy as np\n",
      "import pyomo.environ as pyo\n",
      "\n",
      "# Sample data for historical returns matrix R\n",
      "np.random.seed(123)\n",
      "n = 100  # number of past investment outcomes\n",
      "R = np.random.rand(n, 10)\n",
      "\n",
      "# Parameters\n",
      "A = np.array([80, 340, 410, 50, 180, 221, 15, 348, 191, 225])\n",
      "B = np.array([1000, 1100, 900, 1200])\n",
      "p = np.array([0.55, 0.4, 0.04, 0.01])\n",
      "r = 2\n",
      "\n",
      "# Define the Pyomo model\n",
      "model = pyo.ConcreteModel()\n",
      "\n",
      "# Decision variables\n",
      "model.x = pyo.Var(range(10), within=pyo.Binary)\n",
      "model.z = pyo.Var(within=pyo.NonNegativeReals)\n",
      "model.s = pyo.Var(within=pyo.NonNegativeReals)\n",
      "\n",
      "# Objective function\n",
      "model.obj = pyo.Objective(expr=model.z - r * model.s, sense=pyo.maximize)\n",
      "\n",
      "# Budget constraint\n",
      "budget_constraint = sum(A[i] * model.x[i] for i in range(10)) <= np.quantile(B @ p, 0.6)\n",
      "model.budget_constraint = pyo.Constraint(expr=budget_constraint)\n",
      "\n",
      "# Mean-variance constraints\n",
      "n_inv = np.linalg.inv(np.identity(n) - (1/n) * np.ones((n, n)))\n",
      "Z = R @ model.x.vec\n",
      "model.mean_constraint = pyo.Constraint(expr=model.z == (1/n) * sum(Z[j] for j in range(n)))\n",
      "\n",
      "model.aux_vars = pyo.Var(range(n), within=pyo.NonNegativeReals)\n",
      "model.aux_vars_constraints = pyo.ConstraintList()\n",
      "for j in range(n):\n",
      "    model.aux_vars_constraints.add(model.aux_vars[j] >= (Z[j] - model.z) ** 2)\n",
      "\n",
      "model.std_constraint = pyo.Constraint(expr=model.s ** 2 == (1/n) * sum(model.aux_vars[j] for j in range(n)))\n",
      "\n",
      "# Solve the model\n",
      "solver = pyo.SolverFactory('glpk')\n",
      "results = solver.solve(model)\n",
      "\n",
      "# Print the results\n",
      "print(\"Objective value:\", pyo.value(model.obj))\n",
      "print(\"Investment strategy:\", [pyo.value(model.x[i]) for i in range(10)])\n",
      "print(\"Expected return:\", pyo.value(model.z))\n",
      "print(\"Standard deviation:\", pyo.value(model.s))\n",
      "```\n",
      "\n",
      "This code defines the Pyomo model, adds the decision variables, objective function, and constraints. It then solves the model using the GLPK solver and prints the results. Replace the sample data for R with your actual data to get the solution for your specific problem.\n"
     ]
    }
   ],
   "source": [
    "print(response_2_text)"
   ]
  },
  {
   "cell_type": "markdown",
   "id": "879cc7ae",
   "metadata": {},
   "source": [
    "### Code Executability"
   ]
  },
  {
   "cell_type": "code",
   "execution_count": 11,
   "id": "f1d9a625",
   "metadata": {},
   "outputs": [
    {
     "ename": "AttributeError",
     "evalue": "'IndexedVar' object has no attribute 'vec'",
     "output_type": "error",
     "traceback": [
      "\u001b[1;31m---------------------------------------------------------------------------\u001b[0m",
      "\u001b[1;31mAttributeError\u001b[0m                            Traceback (most recent call last)",
      "Input \u001b[1;32mIn [11]\u001b[0m, in \u001b[0;36m<cell line: 32>\u001b[1;34m()\u001b[0m\n\u001b[0;32m     30\u001b[0m \u001b[38;5;66;03m# Mean-variance constraints\u001b[39;00m\n\u001b[0;32m     31\u001b[0m n_inv \u001b[38;5;241m=\u001b[39m np\u001b[38;5;241m.\u001b[39mlinalg\u001b[38;5;241m.\u001b[39minv(np\u001b[38;5;241m.\u001b[39midentity(n) \u001b[38;5;241m-\u001b[39m (\u001b[38;5;241m1\u001b[39m\u001b[38;5;241m/\u001b[39mn) \u001b[38;5;241m*\u001b[39m np\u001b[38;5;241m.\u001b[39mones((n, n)))\n\u001b[1;32m---> 32\u001b[0m Z \u001b[38;5;241m=\u001b[39m R \u001b[38;5;241m@\u001b[39m \u001b[43mmodel\u001b[49m\u001b[38;5;241;43m.\u001b[39;49m\u001b[43mx\u001b[49m\u001b[38;5;241;43m.\u001b[39;49m\u001b[43mvec\u001b[49m\n\u001b[0;32m     33\u001b[0m model\u001b[38;5;241m.\u001b[39mmean_constraint \u001b[38;5;241m=\u001b[39m pyo\u001b[38;5;241m.\u001b[39mConstraint(expr\u001b[38;5;241m=\u001b[39mmodel\u001b[38;5;241m.\u001b[39mz \u001b[38;5;241m==\u001b[39m (\u001b[38;5;241m1\u001b[39m\u001b[38;5;241m/\u001b[39mn) \u001b[38;5;241m*\u001b[39m \u001b[38;5;28msum\u001b[39m(Z[j] \u001b[38;5;28;01mfor\u001b[39;00m j \u001b[38;5;129;01min\u001b[39;00m \u001b[38;5;28mrange\u001b[39m(n)))\n\u001b[0;32m     35\u001b[0m model\u001b[38;5;241m.\u001b[39maux_vars \u001b[38;5;241m=\u001b[39m pyo\u001b[38;5;241m.\u001b[39mVar(\u001b[38;5;28mrange\u001b[39m(n), within\u001b[38;5;241m=\u001b[39mpyo\u001b[38;5;241m.\u001b[39mNonNegativeReals)\n",
      "\u001b[1;31mAttributeError\u001b[0m: 'IndexedVar' object has no attribute 'vec'"
     ]
    }
   ],
   "source": [
    "import numpy as np\n",
    "import pyomo.environ as pyo\n",
    "\n",
    "# Sample data for historical returns matrix R\n",
    "np.random.seed(123)\n",
    "n = 100  # number of past investment outcomes\n",
    "R = np.random.rand(n, 10)\n",
    "\n",
    "# Parameters\n",
    "A = np.array([80, 340, 410, 50, 180, 221, 15, 348, 191, 225])\n",
    "B = np.array([1000, 1100, 900, 1200])\n",
    "p = np.array([0.55, 0.4, 0.04, 0.01])\n",
    "r = 2\n",
    "\n",
    "# Define the Pyomo model\n",
    "model = pyo.ConcreteModel()\n",
    "\n",
    "# Decision variables\n",
    "model.x = pyo.Var(range(10), within=pyo.Binary)\n",
    "model.z = pyo.Var(within=pyo.NonNegativeReals)\n",
    "model.s = pyo.Var(within=pyo.NonNegativeReals)\n",
    "\n",
    "# Objective function\n",
    "model.obj = pyo.Objective(expr=model.z - r * model.s, sense=pyo.maximize)\n",
    "\n",
    "# Budget constraint\n",
    "budget_constraint = sum(A[i] * model.x[i] for i in range(10)) <= np.quantile(B @ p, 0.6)\n",
    "model.budget_constraint = pyo.Constraint(expr=budget_constraint)\n",
    "\n",
    "# Mean-variance constraints\n",
    "n_inv = np.linalg.inv(np.identity(n) - (1/n) * np.ones((n, n)))\n",
    "Z = R @ model.x.vec\n",
    "model.mean_constraint = pyo.Constraint(expr=model.z == (1/n) * sum(Z[j] for j in range(n)))\n",
    "\n",
    "model.aux_vars = pyo.Var(range(n), within=pyo.NonNegativeReals)\n",
    "model.aux_vars_constraints = pyo.ConstraintList()\n",
    "for j in range(n):\n",
    "    model.aux_vars_constraints.add(model.aux_vars[j] >= (Z[j] - model.z) ** 2)\n",
    "\n",
    "model.std_constraint = pyo.Constraint(expr=model.s ** 2 == (1/n) * sum(model.aux_vars[j] for j in range(n)))\n",
    "\n",
    "# Solve the model\n",
    "solver = pyo.SolverFactory('glpk')\n",
    "results = solver.solve(model)\n",
    "\n",
    "# Print the results\n",
    "print(\"Objective value:\", pyo.value(model.obj))\n",
    "print(\"Investment strategy:\", [pyo.value(model.x[i]) for i in range(10)])\n",
    "print(\"Expected return:\", pyo.value(model.z))\n",
    "print(\"Standard deviation:\", pyo.value(model.s))"
   ]
  },
  {
   "cell_type": "markdown",
   "id": "95f5c3a8",
   "metadata": {},
   "source": [
    "### Solution Correctness"
   ]
  },
  {
   "cell_type": "code",
   "execution_count": null,
   "id": "01245691",
   "metadata": {},
   "outputs": [],
   "source": []
  }
 ],
 "metadata": {
  "kernelspec": {
   "display_name": "Python 3 (ipykernel)",
   "language": "python",
   "name": "python3"
  },
  "language_info": {
   "codemirror_mode": {
    "name": "ipython",
    "version": 3
   },
   "file_extension": ".py",
   "mimetype": "text/x-python",
   "name": "python",
   "nbconvert_exporter": "python",
   "pygments_lexer": "ipython3",
   "version": "3.10.4"
  }
 },
 "nbformat": 4,
 "nbformat_minor": 5
}
