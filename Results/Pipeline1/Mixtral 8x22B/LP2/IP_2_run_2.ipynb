{
 "cells": [
  {
   "cell_type": "code",
   "execution_count": 1,
   "id": "e5c2c174",
   "metadata": {},
   "outputs": [],
   "source": [
    "import os\n",
    "from mistralai.client import MistralClient\n",
    "from mistralai.models.chat_completion import ChatMessage\n",
    "from IPython.display import display, Markdown, Latex\n",
    "from datetime import datetime"
   ]
  },
  {
   "cell_type": "code",
   "execution_count": 2,
   "id": "b0c91a62",
   "metadata": {},
   "outputs": [
    {
     "name": "stdout",
     "output_type": "stream",
     "text": [
      "Time of execution: 2024-05-18 13:36:13.900636\n"
     ]
    }
   ],
   "source": [
    "API_KEY = os.environ['MISTRAL_API_KEY']\n",
    "\n",
    "MODEL_ID = 'open-mixtral-8x22b'\n",
    "MODEL_SEED = 2\n",
    "MODEL_TEMPERATURE = 0.7\n",
    "\n",
    "file_system_prompt_1 = open(\"../../system_prompt_1.txt\", \"r\")\n",
    "file_system_prompt_2 = open(\"../../system_prompt_2.txt\", \"r\")\n",
    "SYSTEM_PROMPT_1 = file_system_prompt_1.read()\n",
    "SYSTEM_PROMPT_2 = file_system_prompt_2.read()\n",
    "file_system_prompt_1.close()\n",
    "file_system_prompt_2.close()\n",
    "\n",
    "FILE_PATH_PROBLEM = '../../../../Datasets/IP_2_Choosing_Investment_Strategies/'\n",
    "assert(FILE_PATH_PROBLEM != '../../../../Datasets/')\n",
    "file_problem_description = open(FILE_PATH_PROBLEM + 'ProblemDescription.txt', 'r')\n",
    "PROBLEM_DESCRIPTION = file_problem_description.read()\n",
    "file_problem_description.close()\n",
    "\n",
    "\n",
    "client = MistralClient(api_key=API_KEY)\n",
    "\n",
    "print(f'Time of execution: {datetime.now()}')"
   ]
  },
  {
   "cell_type": "markdown",
   "id": "3e540824",
   "metadata": {},
   "source": [
    "## Step 1 - Generate Mathematical Formulation "
   ]
  },
  {
   "cell_type": "code",
   "execution_count": 3,
   "id": "174c127b",
   "metadata": {},
   "outputs": [],
   "source": [
    "messages_1 = [\n",
    "    ChatMessage(role=\"system\", content=SYSTEM_PROMPT_1),\n",
    "    ChatMessage(role=\"user\", content=PROBLEM_DESCRIPTION)\n",
    "]"
   ]
  },
  {
   "cell_type": "code",
   "execution_count": 4,
   "id": "d43340f3",
   "metadata": {},
   "outputs": [],
   "source": [
    "response_1 = client.chat(\n",
    "    model=MODEL_ID,\n",
    "    messages=messages_1,\n",
    "    random_seed=MODEL_SEED,\n",
    "    temperature=MODEL_TEMPERATURE \n",
    ")\n",
    "\n",
    "response_1_text = response_1.choices[0].message.content"
   ]
  },
  {
   "cell_type": "code",
   "execution_count": 5,
   "id": "03616e62",
   "metadata": {},
   "outputs": [
    {
     "data": {
      "text/markdown": [
       "To formulate a mean-variance mathematical model for this optimization problem, we will use the following parameters, decision variables, objective function, and constraints:\n",
       "\n",
       "Parameters:\n",
       "- \\(N\\) is the number of investment strategies (10 in this case).\n",
       "- \\(A\\) is the cost vector, where \\(A_i\\) is the cost of investing in strategy \\(i\\).\n",
       "- \\(R\\) is the return matrix, where \\(R_{ij}\\) is the return of strategy \\(i\\) in scenario \\(j\\).\n",
       "- \\(B\\) is the budget scenario vector, where \\(B_j\\) is the budget for scenario \\(j\\).\n",
       "- \\(P\\) is the probability vector, where \\(P_j\\) is the probability of budget scenario \\(j\\).\n",
       "\n",
       "Decision Variables:\n",
       "- \\(x_i \\in \\{0,1\\}\\) is a binary decision variable that represents whether or not to invest in strategy \\(i\\).\n",
       "\n",
       "Objective Function:\n",
       "Maximize the expected return with a risk parameter \\(r\\) (set to 2 in this case):\n",
       "\\[ \\max \\left( \\sum_{i=1}^{N} \\left( \\frac{1}{M} \\sum_{j=1}^{M} R_{ij} \\right) x_i - r \\sum_{i=1}^{N} \\left( \\frac{1}{M} \\sum_{j=1}^{M} (R_{ij} - \\mu)^2 \\right) x_i \\right) \\]\n",
       "\n",
       "where \\(M\\) is the number of budget scenarios, and \\(\\mu\\) is the mean return of all strategies in all scenarios:\n",
       "\\[ \\mu = \\frac{1}{N \\cdot M} \\sum_{i=1}^{N} \\sum_{j=1}^{M} R_{ij} \\]\n",
       "\n",
       "Constraints:\n",
       "1. Budget constraint: The total cost of investments should not exceed the budget with a tolerable probability of exceeding the budget of 0.4.\n",
       "\\[ \\sum_{i=1}^{N} A_i x_i \\leq \\sum_{j=1}^{M} B_j P_j \\cdot (1 - 0.4) \\]\n",
       "\n",
       "2. Investment constraint: You can only invest once into an investment.\n",
       "\\[ \\sum_{i=1}^{N} x_i \\leq 1 \\]\n",
       "\n",
       "This mean-variance optimization model aims to maximize the expected return while minimizing the risk, considering the past performance of investment strategies and the uncertain budget. The decision variables \\(x_i\\) indicate whether to invest in each strategy, and the constraints ensure that the budget is not exceeded and that each strategy is invested in at most once."
      ],
      "text/plain": [
       "<IPython.core.display.Markdown object>"
      ]
     },
     "execution_count": 5,
     "metadata": {},
     "output_type": "execute_result"
    }
   ],
   "source": [
    "Markdown(response_1_text)"
   ]
  },
  {
   "cell_type": "code",
   "execution_count": 6,
   "id": "b6a33171",
   "metadata": {},
   "outputs": [
    {
     "name": "stdout",
     "output_type": "stream",
     "text": [
      "To formulate a mean-variance mathematical model for this optimization problem, we will use the following parameters, decision variables, objective function, and constraints:\n",
      "\n",
      "Parameters:\n",
      "- \\(N\\) is the number of investment strategies (10 in this case).\n",
      "- \\(A\\) is the cost vector, where \\(A_i\\) is the cost of investing in strategy \\(i\\).\n",
      "- \\(R\\) is the return matrix, where \\(R_{ij}\\) is the return of strategy \\(i\\) in scenario \\(j\\).\n",
      "- \\(B\\) is the budget scenario vector, where \\(B_j\\) is the budget for scenario \\(j\\).\n",
      "- \\(P\\) is the probability vector, where \\(P_j\\) is the probability of budget scenario \\(j\\).\n",
      "\n",
      "Decision Variables:\n",
      "- \\(x_i \\in \\{0,1\\}\\) is a binary decision variable that represents whether or not to invest in strategy \\(i\\).\n",
      "\n",
      "Objective Function:\n",
      "Maximize the expected return with a risk parameter \\(r\\) (set to 2 in this case):\n",
      "\\[ \\max \\left( \\sum_{i=1}^{N} \\left( \\frac{1}{M} \\sum_{j=1}^{M} R_{ij} \\right) x_i - r \\sum_{i=1}^{N} \\left( \\frac{1}{M} \\sum_{j=1}^{M} (R_{ij} - \\mu)^2 \\right) x_i \\right) \\]\n",
      "\n",
      "where \\(M\\) is the number of budget scenarios, and \\(\\mu\\) is the mean return of all strategies in all scenarios:\n",
      "\\[ \\mu = \\frac{1}{N \\cdot M} \\sum_{i=1}^{N} \\sum_{j=1}^{M} R_{ij} \\]\n",
      "\n",
      "Constraints:\n",
      "1. Budget constraint: The total cost of investments should not exceed the budget with a tolerable probability of exceeding the budget of 0.4.\n",
      "\\[ \\sum_{i=1}^{N} A_i x_i \\leq \\sum_{j=1}^{M} B_j P_j \\cdot (1 - 0.4) \\]\n",
      "\n",
      "2. Investment constraint: You can only invest once into an investment.\n",
      "\\[ \\sum_{i=1}^{N} x_i \\leq 1 \\]\n",
      "\n",
      "This mean-variance optimization model aims to maximize the expected return while minimizing the risk, considering the past performance of investment strategies and the uncertain budget. The decision variables \\(x_i\\) indicate whether to invest in each strategy, and the constraints ensure that the budget is not exceeded and that each strategy is invested in at most once.\n"
     ]
    }
   ],
   "source": [
    "print(response_1_text)"
   ]
  },
  {
   "cell_type": "markdown",
   "id": "27b5f89a",
   "metadata": {},
   "source": [
    "## Step 2 - Generate the Pyomo Code"
   ]
  },
  {
   "cell_type": "code",
   "execution_count": 7,
   "id": "a4c3312f",
   "metadata": {},
   "outputs": [],
   "source": [
    "messages_2 = [\n",
    "    ChatMessage(role=\"system\", content=SYSTEM_PROMPT_2),\n",
    "    ChatMessage(role=\"user\", content=response_1_text)\n",
    "]"
   ]
  },
  {
   "cell_type": "code",
   "execution_count": 8,
   "id": "4212d99d",
   "metadata": {},
   "outputs": [],
   "source": [
    "response_2 = client.chat(\n",
    "    model=MODEL_ID,\n",
    "    messages=messages_2,\n",
    "    random_seed=MODEL_SEED,\n",
    "    temperature=MODEL_TEMPERATURE\n",
    ")\n",
    "\n",
    "response_2_text = response_2.choices[0].message.content"
   ]
  },
  {
   "cell_type": "code",
   "execution_count": 9,
   "id": "c168a60b",
   "metadata": {},
   "outputs": [
    {
     "data": {
      "text/markdown": [
       "Here is a Python Pyomo code for the given optimization problem. I have used sample data for the parameters as indicated in the comments.\n",
       "\n",
       "```python\n",
       "import pyomo.environ as pyo\n",
       "import numpy as np\n",
       "\n",
       "# Sample data\n",
       "N = 10  # number of investment strategies\n",
       "M = 5  # number of budget scenarios\n",
       "A = np.random.rand(N)  # cost vector\n",
       "R = np.random.rand(N, M)  # return matrix\n",
       "B = np.random.rand(M)  # budget scenario vector\n",
       "P = np.random.rand(M)  # probability vector\n",
       "P = P / np.sum(P)  # normalize probability vector\n",
       "\n",
       "r = 2  # risk parameter\n",
       "\n",
       "# Pyomo model\n",
       "model = pyo.ConcreteModel()\n",
       "\n",
       "# Decision variables\n",
       "model.x = pyo.Var(range(N), domain=pyo.Binary)\n",
       "\n",
       "# Objective function\n",
       "def obj_rule(model):\n",
       "    mu = np.mean(R)  # mean return of all strategies in all scenarios\n",
       "    return (\n",
       "        np.sum([np.mean(R[:, j]) * model.x[i] for i, j in np.ndindex(R.shape)])\n",
       "        - r * np.sum([np.mean((R[:, j] - mu) ** 2) * model.x[i] for i, j in np.ndindex(R.shape)])\n",
       "    )\n",
       "\n",
       "model.obj = pyo.Objective(rule=obj_rule, sense=pyo.maximize)\n",
       "\n",
       "# Constraints\n",
       "def budget_constraint_rule(model):\n",
       "    return np.dot(A, model.x) <= np.dot(B, P) * (1 - 0.4)\n",
       "\n",
       "model.budget_constraint = pyo.Constraint(rule=budget_constraint_rule)\n",
       "\n",
       "def investment_constraint_rule(model):\n",
       "    return np.sum(model.x) <= 1\n",
       "\n",
       "model.investment_constraint = pyo.Constraint(rule=investment_constraint_rule)\n",
       "\n",
       "# Solve the model\n",
       "solver = pyo.SolverFactory('glpk')\n",
       "results = solver.solve(model)\n",
       "\n",
       "# Print the results\n",
       "print(\"Objective value:\", pyo.value(model.obj))\n",
       "print(\"Decision variables:\", {i: pyo.value(model.x[i]) for i in range(N)})\n",
       "```\n",
       "\n",
       "This code defines the Pyomo model with the given objective function and constraints. It also generates sample data for the parameters and solves the model using the GLPK solver. The results include the objective value and the values of the decision variables."
      ],
      "text/plain": [
       "<IPython.core.display.Markdown object>"
      ]
     },
     "execution_count": 9,
     "metadata": {},
     "output_type": "execute_result"
    }
   ],
   "source": [
    "Markdown(response_2_text)"
   ]
  },
  {
   "cell_type": "code",
   "execution_count": 10,
   "id": "a380c180",
   "metadata": {},
   "outputs": [
    {
     "name": "stdout",
     "output_type": "stream",
     "text": [
      "Here is a Python Pyomo code for the given optimization problem. I have used sample data for the parameters as indicated in the comments.\n",
      "\n",
      "```python\n",
      "import pyomo.environ as pyo\n",
      "import numpy as np\n",
      "\n",
      "# Sample data\n",
      "N = 10  # number of investment strategies\n",
      "M = 5  # number of budget scenarios\n",
      "A = np.random.rand(N)  # cost vector\n",
      "R = np.random.rand(N, M)  # return matrix\n",
      "B = np.random.rand(M)  # budget scenario vector\n",
      "P = np.random.rand(M)  # probability vector\n",
      "P = P / np.sum(P)  # normalize probability vector\n",
      "\n",
      "r = 2  # risk parameter\n",
      "\n",
      "# Pyomo model\n",
      "model = pyo.ConcreteModel()\n",
      "\n",
      "# Decision variables\n",
      "model.x = pyo.Var(range(N), domain=pyo.Binary)\n",
      "\n",
      "# Objective function\n",
      "def obj_rule(model):\n",
      "    mu = np.mean(R)  # mean return of all strategies in all scenarios\n",
      "    return (\n",
      "        np.sum([np.mean(R[:, j]) * model.x[i] for i, j in np.ndindex(R.shape)])\n",
      "        - r * np.sum([np.mean((R[:, j] - mu) ** 2) * model.x[i] for i, j in np.ndindex(R.shape)])\n",
      "    )\n",
      "\n",
      "model.obj = pyo.Objective(rule=obj_rule, sense=pyo.maximize)\n",
      "\n",
      "# Constraints\n",
      "def budget_constraint_rule(model):\n",
      "    return np.dot(A, model.x) <= np.dot(B, P) * (1 - 0.4)\n",
      "\n",
      "model.budget_constraint = pyo.Constraint(rule=budget_constraint_rule)\n",
      "\n",
      "def investment_constraint_rule(model):\n",
      "    return np.sum(model.x) <= 1\n",
      "\n",
      "model.investment_constraint = pyo.Constraint(rule=investment_constraint_rule)\n",
      "\n",
      "# Solve the model\n",
      "solver = pyo.SolverFactory('glpk')\n",
      "results = solver.solve(model)\n",
      "\n",
      "# Print the results\n",
      "print(\"Objective value:\", pyo.value(model.obj))\n",
      "print(\"Decision variables:\", {i: pyo.value(model.x[i]) for i in range(N)})\n",
      "```\n",
      "\n",
      "This code defines the Pyomo model with the given objective function and constraints. It also generates sample data for the parameters and solves the model using the GLPK solver. The results include the objective value and the values of the decision variables.\n"
     ]
    }
   ],
   "source": [
    "print(response_2_text)"
   ]
  },
  {
   "cell_type": "markdown",
   "id": "879cc7ae",
   "metadata": {},
   "source": [
    "### Code Executability"
   ]
  },
  {
   "cell_type": "code",
   "execution_count": 11,
   "id": "f1d9a625",
   "metadata": {},
   "outputs": [
    {
     "name": "stderr",
     "output_type": "stream",
     "text": [
      "2024-05-18 13:43:42,927 ERROR pyomo.core: Rule failed when generating expression for Constraint investment_constraint with index None:\n",
      "UnboundLocalError: local variable 'args' referenced before assignment\n",
      "2024-05-18 13:43:42,928 ERROR pyomo.core: Constructing component 'investment_constraint' from data=None failed:\n",
      "UnboundLocalError: local variable 'args' referenced before assignment\n"
     ]
    },
    {
     "ename": "UnboundLocalError",
     "evalue": "local variable 'args' referenced before assignment",
     "output_type": "error",
     "traceback": [
      "\u001b[1;31m---------------------------------------------------------------------------\u001b[0m",
      "\u001b[1;31mUnboundLocalError\u001b[0m                         Traceback (most recent call last)",
      "Input \u001b[1;32mIn [11]\u001b[0m, in \u001b[0;36m<cell line: 40>\u001b[1;34m()\u001b[0m\n\u001b[0;32m     37\u001b[0m \u001b[38;5;28;01mdef\u001b[39;00m \u001b[38;5;21minvestment_constraint_rule\u001b[39m(model):\n\u001b[0;32m     38\u001b[0m     \u001b[38;5;28;01mreturn\u001b[39;00m np\u001b[38;5;241m.\u001b[39msum(model\u001b[38;5;241m.\u001b[39mx) \u001b[38;5;241m<\u001b[39m\u001b[38;5;241m=\u001b[39m \u001b[38;5;241m1\u001b[39m\n\u001b[1;32m---> 40\u001b[0m model\u001b[38;5;241m.\u001b[39minvestment_constraint \u001b[38;5;241m=\u001b[39m pyo\u001b[38;5;241m.\u001b[39mConstraint(rule\u001b[38;5;241m=\u001b[39minvestment_constraint_rule)\n\u001b[0;32m     42\u001b[0m \u001b[38;5;66;03m# Solve the model\u001b[39;00m\n\u001b[0;32m     43\u001b[0m solver \u001b[38;5;241m=\u001b[39m pyo\u001b[38;5;241m.\u001b[39mSolverFactory(\u001b[38;5;124m'\u001b[39m\u001b[38;5;124mglpk\u001b[39m\u001b[38;5;124m'\u001b[39m)\n",
      "File \u001b[1;32m~\\AppData\\Roaming\\Python\\Python310\\site-packages\\pyomo\\core\\base\\block.py:639\u001b[0m, in \u001b[0;36m_BlockData.__setattr__\u001b[1;34m(self, name, val)\u001b[0m\n\u001b[0;32m    634\u001b[0m \u001b[38;5;28;01mif\u001b[39;00m name \u001b[38;5;129;01mnot\u001b[39;00m \u001b[38;5;129;01min\u001b[39;00m \u001b[38;5;28mself\u001b[39m\u001b[38;5;241m.\u001b[39m\u001b[38;5;18m__dict__\u001b[39m:\n\u001b[0;32m    635\u001b[0m     \u001b[38;5;28;01mif\u001b[39;00m \u001b[38;5;28misinstance\u001b[39m(val, Component):\n\u001b[0;32m    636\u001b[0m         \u001b[38;5;66;03m#\u001b[39;00m\n\u001b[0;32m    637\u001b[0m         \u001b[38;5;66;03m# Pyomo components are added with the add_component method.\u001b[39;00m\n\u001b[0;32m    638\u001b[0m         \u001b[38;5;66;03m#\u001b[39;00m\n\u001b[1;32m--> 639\u001b[0m         \u001b[38;5;28;43mself\u001b[39;49m\u001b[38;5;241;43m.\u001b[39;49m\u001b[43madd_component\u001b[49m\u001b[43m(\u001b[49m\u001b[43mname\u001b[49m\u001b[43m,\u001b[49m\u001b[43m \u001b[49m\u001b[43mval\u001b[49m\u001b[43m)\u001b[49m\n\u001b[0;32m    640\u001b[0m     \u001b[38;5;28;01melse\u001b[39;00m:\n\u001b[0;32m    641\u001b[0m         \u001b[38;5;66;03m#\u001b[39;00m\n\u001b[0;32m    642\u001b[0m         \u001b[38;5;66;03m# Other Python objects are added with the standard __setattr__\u001b[39;00m\n\u001b[0;32m    643\u001b[0m         \u001b[38;5;66;03m# method.\u001b[39;00m\n\u001b[0;32m    644\u001b[0m         \u001b[38;5;66;03m#\u001b[39;00m\n\u001b[0;32m    645\u001b[0m         \u001b[38;5;28msuper\u001b[39m(_BlockData, \u001b[38;5;28mself\u001b[39m)\u001b[38;5;241m.\u001b[39m\u001b[38;5;21m__setattr__\u001b[39m(name, val)\n",
      "File \u001b[1;32m~\\AppData\\Roaming\\Python\\Python310\\site-packages\\pyomo\\core\\base\\block.py:1186\u001b[0m, in \u001b[0;36m_BlockData.add_component\u001b[1;34m(self, name, val)\u001b[0m\n\u001b[0;32m   1182\u001b[0m     logger\u001b[38;5;241m.\u001b[39mdebug(\u001b[38;5;124m\"\u001b[39m\u001b[38;5;124mConstructing \u001b[39m\u001b[38;5;132;01m%s\u001b[39;00m\u001b[38;5;124m \u001b[39m\u001b[38;5;124m'\u001b[39m\u001b[38;5;132;01m%s\u001b[39;00m\u001b[38;5;124m'\u001b[39m\u001b[38;5;124m on \u001b[39m\u001b[38;5;132;01m%s\u001b[39;00m\u001b[38;5;124m from data=\u001b[39m\u001b[38;5;132;01m%s\u001b[39;00m\u001b[38;5;124m\"\u001b[39m,\n\u001b[0;32m   1183\u001b[0m                  val\u001b[38;5;241m.\u001b[39m\u001b[38;5;18m__class__\u001b[39m\u001b[38;5;241m.\u001b[39m\u001b[38;5;18m__name__\u001b[39m, name,\n\u001b[0;32m   1184\u001b[0m                  _blockName, \u001b[38;5;28mstr\u001b[39m(data))\n\u001b[0;32m   1185\u001b[0m \u001b[38;5;28;01mtry\u001b[39;00m:\n\u001b[1;32m-> 1186\u001b[0m     \u001b[43mval\u001b[49m\u001b[38;5;241;43m.\u001b[39;49m\u001b[43mconstruct\u001b[49m\u001b[43m(\u001b[49m\u001b[43mdata\u001b[49m\u001b[43m)\u001b[49m\n\u001b[0;32m   1187\u001b[0m \u001b[38;5;28;01mexcept\u001b[39;00m:\n\u001b[0;32m   1188\u001b[0m     err \u001b[38;5;241m=\u001b[39m sys\u001b[38;5;241m.\u001b[39mexc_info()[\u001b[38;5;241m1\u001b[39m]\n",
      "File \u001b[1;32m~\\AppData\\Roaming\\Python\\Python310\\site-packages\\pyomo\\core\\base\\disable_methods.py:116\u001b[0m, in \u001b[0;36mdisable_methods.<locals>.class_decorator.<locals>.construct\u001b[1;34m(self, data)\u001b[0m\n\u001b[0;32m    114\u001b[0m     \u001b[38;5;28mself\u001b[39m\u001b[38;5;241m.\u001b[39m_name \u001b[38;5;241m=\u001b[39m base\u001b[38;5;241m.\u001b[39m\u001b[38;5;18m__name__\u001b[39m\n\u001b[0;32m    115\u001b[0m \u001b[38;5;28mself\u001b[39m\u001b[38;5;241m.\u001b[39m\u001b[38;5;18m__class__\u001b[39m \u001b[38;5;241m=\u001b[39m base\n\u001b[1;32m--> 116\u001b[0m \u001b[38;5;28;01mreturn\u001b[39;00m \u001b[43mbase\u001b[49m\u001b[38;5;241;43m.\u001b[39;49m\u001b[43mconstruct\u001b[49m\u001b[43m(\u001b[49m\u001b[38;5;28;43mself\u001b[39;49m\u001b[43m,\u001b[49m\u001b[43m \u001b[49m\u001b[43mdata\u001b[49m\u001b[43m)\u001b[49m\n",
      "File \u001b[1;32m~\\AppData\\Roaming\\Python\\Python310\\site-packages\\pyomo\\core\\base\\constraint.py:772\u001b[0m, in \u001b[0;36mConstraint.construct\u001b[1;34m(self, data)\u001b[0m\n\u001b[0;32m    769\u001b[0m     \u001b[38;5;28;01melse\u001b[39;00m:\n\u001b[0;32m    770\u001b[0m         \u001b[38;5;66;03m# Bypass the index validation and create the member directly\u001b[39;00m\n\u001b[0;32m    771\u001b[0m         \u001b[38;5;28;01mfor\u001b[39;00m index \u001b[38;5;129;01min\u001b[39;00m \u001b[38;5;28mself\u001b[39m\u001b[38;5;241m.\u001b[39mindex_set():\n\u001b[1;32m--> 772\u001b[0m             \u001b[38;5;28mself\u001b[39m\u001b[38;5;241m.\u001b[39m_setitem_when_not_present(index, \u001b[43mrule\u001b[49m\u001b[43m(\u001b[49m\u001b[43mblock\u001b[49m\u001b[43m,\u001b[49m\u001b[43m \u001b[49m\u001b[43mindex\u001b[49m\u001b[43m)\u001b[49m)\n\u001b[0;32m    773\u001b[0m \u001b[38;5;28;01mexcept\u001b[39;00m \u001b[38;5;167;01mException\u001b[39;00m:\n\u001b[0;32m    774\u001b[0m     err \u001b[38;5;241m=\u001b[39m sys\u001b[38;5;241m.\u001b[39mexc_info()[\u001b[38;5;241m1\u001b[39m]\n",
      "File \u001b[1;32m~\\AppData\\Roaming\\Python\\Python310\\site-packages\\pyomo\\core\\base\\initializer.py:402\u001b[0m, in \u001b[0;36mScalarCallInitializer.__call__\u001b[1;34m(self, parent, idx)\u001b[0m\n\u001b[0;32m    401\u001b[0m \u001b[38;5;28;01mdef\u001b[39;00m \u001b[38;5;21m__call__\u001b[39m(\u001b[38;5;28mself\u001b[39m, parent, idx):\n\u001b[1;32m--> 402\u001b[0m     \u001b[38;5;28;01mreturn\u001b[39;00m \u001b[38;5;28;43mself\u001b[39;49m\u001b[38;5;241;43m.\u001b[39;49m\u001b[43m_fcn\u001b[49m\u001b[43m(\u001b[49m\u001b[43mparent\u001b[49m\u001b[43m)\u001b[49m\n",
      "Input \u001b[1;32mIn [11]\u001b[0m, in \u001b[0;36minvestment_constraint_rule\u001b[1;34m(model)\u001b[0m\n\u001b[0;32m     37\u001b[0m \u001b[38;5;28;01mdef\u001b[39;00m \u001b[38;5;21minvestment_constraint_rule\u001b[39m(model):\n\u001b[1;32m---> 38\u001b[0m     \u001b[38;5;28;01mreturn\u001b[39;00m \u001b[43mnp\u001b[49m\u001b[38;5;241;43m.\u001b[39;49m\u001b[43msum\u001b[49m\u001b[43m(\u001b[49m\u001b[43mmodel\u001b[49m\u001b[38;5;241;43m.\u001b[39;49m\u001b[43mx\u001b[49m\u001b[43m)\u001b[49m \u001b[38;5;241m<\u001b[39m\u001b[38;5;241m=\u001b[39m \u001b[38;5;241m1\u001b[39m\n",
      "File \u001b[1;32m~\\AppData\\Roaming\\Python\\Python310\\site-packages\\numpy\\core\\fromnumeric.py:2313\u001b[0m, in \u001b[0;36msum\u001b[1;34m(a, axis, dtype, out, keepdims, initial, where)\u001b[0m\n\u001b[0;32m   2310\u001b[0m         \u001b[38;5;28;01mreturn\u001b[39;00m out\n\u001b[0;32m   2311\u001b[0m     \u001b[38;5;28;01mreturn\u001b[39;00m res\n\u001b[1;32m-> 2313\u001b[0m \u001b[38;5;28;01mreturn\u001b[39;00m \u001b[43m_wrapreduction\u001b[49m\u001b[43m(\u001b[49m\u001b[43ma\u001b[49m\u001b[43m,\u001b[49m\u001b[43m \u001b[49m\u001b[43mnp\u001b[49m\u001b[38;5;241;43m.\u001b[39;49m\u001b[43madd\u001b[49m\u001b[43m,\u001b[49m\u001b[43m \u001b[49m\u001b[38;5;124;43m'\u001b[39;49m\u001b[38;5;124;43msum\u001b[39;49m\u001b[38;5;124;43m'\u001b[39;49m\u001b[43m,\u001b[49m\u001b[43m \u001b[49m\u001b[43maxis\u001b[49m\u001b[43m,\u001b[49m\u001b[43m \u001b[49m\u001b[43mdtype\u001b[49m\u001b[43m,\u001b[49m\u001b[43m \u001b[49m\u001b[43mout\u001b[49m\u001b[43m,\u001b[49m\u001b[43m \u001b[49m\u001b[43mkeepdims\u001b[49m\u001b[38;5;241;43m=\u001b[39;49m\u001b[43mkeepdims\u001b[49m\u001b[43m,\u001b[49m\n\u001b[0;32m   2314\u001b[0m \u001b[43m                      \u001b[49m\u001b[43minitial\u001b[49m\u001b[38;5;241;43m=\u001b[39;49m\u001b[43minitial\u001b[49m\u001b[43m,\u001b[49m\u001b[43m \u001b[49m\u001b[43mwhere\u001b[49m\u001b[38;5;241;43m=\u001b[39;49m\u001b[43mwhere\u001b[49m\u001b[43m)\u001b[49m\n",
      "File \u001b[1;32m~\\AppData\\Roaming\\Python\\Python310\\site-packages\\numpy\\core\\fromnumeric.py:88\u001b[0m, in \u001b[0;36m_wrapreduction\u001b[1;34m(obj, ufunc, method, axis, dtype, out, **kwargs)\u001b[0m\n\u001b[0;32m     85\u001b[0m         \u001b[38;5;28;01melse\u001b[39;00m:\n\u001b[0;32m     86\u001b[0m             \u001b[38;5;28;01mreturn\u001b[39;00m reduction(axis\u001b[38;5;241m=\u001b[39maxis, out\u001b[38;5;241m=\u001b[39mout, \u001b[38;5;241m*\u001b[39m\u001b[38;5;241m*\u001b[39mpasskwargs)\n\u001b[1;32m---> 88\u001b[0m \u001b[38;5;28;01mreturn\u001b[39;00m ufunc\u001b[38;5;241m.\u001b[39mreduce(obj, axis, dtype, out, \u001b[38;5;241m*\u001b[39m\u001b[38;5;241m*\u001b[39mpasskwargs)\n",
      "File \u001b[1;32m~\\AppData\\Roaming\\Python\\Python310\\site-packages\\pyomo\\core\\base\\indexed_component.py:1132\u001b[0m, in \u001b[0;36mIndexedComponent_NDArrayMixin.__array_ufunc__\u001b[1;34m(self, ufunc, method, *inputs, **kwargs)\u001b[0m\n\u001b[0;32m   1131\u001b[0m \u001b[38;5;28;01mdef\u001b[39;00m \u001b[38;5;21m__array_ufunc__\u001b[39m(\u001b[38;5;28mself\u001b[39m, ufunc, method, \u001b[38;5;241m*\u001b[39minputs, \u001b[38;5;241m*\u001b[39m\u001b[38;5;241m*\u001b[39mkwargs):\n\u001b[1;32m-> 1132\u001b[0m     \u001b[38;5;28;01mreturn\u001b[39;00m NumericNDArray\u001b[38;5;241m.\u001b[39m__array_ufunc__(\n\u001b[0;32m   1133\u001b[0m         \u001b[38;5;28;01mNone\u001b[39;00m, ufunc, method, \u001b[38;5;241m*\u001b[39minputs, \u001b[38;5;241m*\u001b[39m\u001b[38;5;241m*\u001b[39mkwargs)\n",
      "File \u001b[1;32mpyomo\\core\\expr\\numvalue.pyx:1021\u001b[0m, in \u001b[0;36mpyomo.core.expr.numvalue.NumericNDArray.__array_ufunc__\u001b[1;34m()\u001b[0m\n",
      "\u001b[1;31mUnboundLocalError\u001b[0m: local variable 'args' referenced before assignment"
     ]
    }
   ],
   "source": [
    "import pyomo.environ as pyo\n",
    "import numpy as np\n",
    "\n",
    "# Sample data\n",
    "N = 10  # number of investment strategies\n",
    "M = 5  # number of budget scenarios\n",
    "A = np.random.rand(N)  # cost vector\n",
    "R = np.random.rand(N, M)  # return matrix\n",
    "B = np.random.rand(M)  # budget scenario vector\n",
    "P = np.random.rand(M)  # probability vector\n",
    "P = P / np.sum(P)  # normalize probability vector\n",
    "\n",
    "r = 2  # risk parameter\n",
    "\n",
    "# Pyomo model\n",
    "model = pyo.ConcreteModel()\n",
    "\n",
    "# Decision variables\n",
    "model.x = pyo.Var(range(N), domain=pyo.Binary)\n",
    "\n",
    "# Objective function\n",
    "def obj_rule(model):\n",
    "    mu = np.mean(R)  # mean return of all strategies in all scenarios\n",
    "    return (\n",
    "        np.sum([np.mean(R[:, j]) * model.x[i] for i, j in np.ndindex(R.shape)])\n",
    "        - r * np.sum([np.mean((R[:, j] - mu) ** 2) * model.x[i] for i, j in np.ndindex(R.shape)])\n",
    "    )\n",
    "\n",
    "model.obj = pyo.Objective(rule=obj_rule, sense=pyo.maximize)\n",
    "\n",
    "# Constraints\n",
    "def budget_constraint_rule(model):\n",
    "    return np.dot(A, model.x) <= np.dot(B, P) * (1 - 0.4)\n",
    "\n",
    "model.budget_constraint = pyo.Constraint(rule=budget_constraint_rule)\n",
    "\n",
    "def investment_constraint_rule(model):\n",
    "    return np.sum(model.x) <= 1\n",
    "\n",
    "model.investment_constraint = pyo.Constraint(rule=investment_constraint_rule)\n",
    "\n",
    "# Solve the model\n",
    "solver = pyo.SolverFactory('glpk')\n",
    "results = solver.solve(model)\n",
    "\n",
    "# Print the results\n",
    "print(\"Objective value:\", pyo.value(model.obj))\n",
    "print(\"Decision variables:\", {i: pyo.value(model.x[i]) for i in range(N)})"
   ]
  },
  {
   "cell_type": "markdown",
   "id": "95f5c3a8",
   "metadata": {},
   "source": [
    "### Solution Correctness"
   ]
  },
  {
   "cell_type": "code",
   "execution_count": null,
   "id": "01245691",
   "metadata": {},
   "outputs": [],
   "source": []
  }
 ],
 "metadata": {
  "kernelspec": {
   "display_name": "Python 3 (ipykernel)",
   "language": "python",
   "name": "python3"
  },
  "language_info": {
   "codemirror_mode": {
    "name": "ipython",
    "version": 3
   },
   "file_extension": ".py",
   "mimetype": "text/x-python",
   "name": "python",
   "nbconvert_exporter": "python",
   "pygments_lexer": "ipython3",
   "version": "3.10.4"
  }
 },
 "nbformat": 4,
 "nbformat_minor": 5
}
