{
 "cells": [
  {
   "cell_type": "markdown",
   "id": "0df7edfd",
   "metadata": {},
   "source": [
    "# LLM Optimization Modelling Experiment"
   ]
  },
  {
   "cell_type": "code",
   "execution_count": 156,
   "id": "7f664028",
   "metadata": {},
   "outputs": [],
   "source": [
    "import vertexai\n",
    "from vertexai.preview.generative_models import GenerativeModel\n",
    "from IPython.display import Markdown"
   ]
  },
  {
   "cell_type": "markdown",
   "id": "c106f1be",
   "metadata": {},
   "source": [
    "## 1. Define the problem description"
   ]
  },
  {
   "cell_type": "code",
   "execution_count": 373,
   "id": "9adce4b2",
   "metadata": {},
   "outputs": [],
   "source": [
    "problem = '''You are the person in charge of packing in a large company. Your job is to skillfully pack items of various weights in a box with predetermined capacity. The objective is to use as few boxes as possible. There is a set of items and a set of boxes with an upper bound on the amount of boxes. Each of the items has a known weight. Each item is packed into one box and items are packed into the chosen boxes. Please formulate a mathematical optimization model for this problem. '''"
   ]
  },
  {
   "cell_type": "markdown",
   "id": "063be1a3",
   "metadata": {},
   "source": [
    "## 2. Generate the mathematical model"
   ]
  },
  {
   "cell_type": "code",
   "execution_count": 454,
   "id": "e31ec80c",
   "metadata": {},
   "outputs": [],
   "source": [
    "#Initializing the session. To replicate, make sure the right credentials are saved in a PATH variable\n",
    "PROJECT_ID = \"llm4optproblems\"\n",
    "REGION = \"us-central1\"\n",
    "vertexai.init(project=PROJECT_ID, location=REGION)\n",
    "\n",
    "#Specifying the model\n",
    "generative_multimodal_model = GenerativeModel(\"gemini-1.5-pro-preview-0409\")\n",
    "\n",
    "#The propmt applied to all problems\n",
    "prompt = '''Let's think step by step. Please write a mathematical optimization model for this problem. If there are parameter values, make sure to include them in the mathematical formulation.\n",
    "'''\n",
    "\n",
    "#Generate the response\n",
    "response = generative_multimodal_model.generate_content([prompt+problem])\n"
   ]
  },
  {
   "cell_type": "code",
   "execution_count": 455,
   "id": "f9adc567",
   "metadata": {},
   "outputs": [
    {
     "data": {
      "text/markdown": [
       "Let's think step by step to formulate a mathematical optimization model for this problem.\n",
       "\n",
       "**Sets:**\n",
       "\n",
       "*  $I$: Set of items \n",
       "* $J$: Set of boxes \n",
       "\n",
       "**Parameters:**\n",
       "\n",
       "* $w_i$: Weight of item $i \\in I$\n",
       "* $C$: Capacity of each box\n",
       "* $N$: Maximum number of boxes allowed\n",
       "\n",
       "**Decision Variables:**\n",
       "* $x_{ij}$: Binary variable equal to 1 if item  $i \\in I$ is packed in box $j \\in J$, and 0 otherwise. \n",
       "* $y_j$: Binary variable equal to 1 if box $j \\in J$ is used, and 0 otherwise.\n",
       "\n",
       "**Mathematical Model:**\n",
       "\n",
       "Minimize $\\sum_{j \\in J} y_j$\n",
       "\n",
       "Subject to:\n",
       "1.  $\\sum_{j \\in J} x_{ij} = 1,  \\forall i \\in I$  (Each item is assigned to exactly one box).\n",
       "\n",
       "2.  $\\sum_{i \\in I} w_i x_{ij} \\leq Cy_j, \\forall j \\in J$ (The total weight of items packed in a box cannot exceed its capacity).\n",
       "\n",
       "3. $\\sum_{j \\in J} y_j \\leq N$ (The total number of boxes used cannot exceed the maximum allowed).\n",
       "\n",
       "4. $x_{ij} \\in \\{0,1\\}, \\forall i \\in I, \\forall j \\in J$\n",
       "\n",
       "5. $y_j \\in \\{0,1\\}, \\forall j \\in J$ \n",
       "\n",
       "This model aims to minimize the total number of boxes used while ensuring that all items are packed, the capacity of each box is not exceeded, and the maximum number of boxes allowed is not surpassed. \n"
      ],
      "text/plain": [
       "<IPython.core.display.Markdown object>"
      ]
     },
     "execution_count": 455,
     "metadata": {},
     "output_type": "execute_result"
    }
   ],
   "source": [
    "#Show the resopnse in a formatted way\n",
    "Markdown(response.text)"
   ]
  },
  {
   "cell_type": "markdown",
   "id": "49104a9a",
   "metadata": {},
   "source": [
    "## 3. Generate the pyomo code"
   ]
  },
  {
   "cell_type": "code",
   "execution_count": 456,
   "id": "aabea932",
   "metadata": {},
   "outputs": [],
   "source": [
    "#Second prompt gets the output of the previous step and generates the code\n",
    "prompt2 = \"Please write pyomo code for this mathematical problem. Use sample data where needed. Indicate where you use sample data. \\n\"\n",
    "prompt2 += response.text \n",
    "response2 = generative_multimodal_model.generate_content([prompt2])"
   ]
  },
  {
   "cell_type": "code",
   "execution_count": 457,
   "id": "fd2835af",
   "metadata": {
    "scrolled": false
   },
   "outputs": [
    {
     "data": {
      "text/markdown": [
       "```python\n",
       "import pyomo.environ as pyo\n",
       "\n",
       "# Sample Data\n",
       "items = ['A', 'B', 'C', 'D', 'E']\n",
       "weights = {'A': 10, 'B': 15, 'C': 8, 'D': 5, 'E': 12}  # Sample weights\n",
       "boxes = ['Box1', 'Box2', 'Box3']  # Sample boxes\n",
       "capacity = 25  # Sample capacity for each box\n",
       "max_boxes = 3  # Sample maximum number of boxes\n",
       "\n",
       "# Model\n",
       "model = pyo.ConcreteModel()\n",
       "\n",
       "# Sets\n",
       "model.I = pyo.Set(initialize=items)\n",
       "model.J = pyo.Set(initialize=boxes)\n",
       "\n",
       "# Parameters\n",
       "model.w = pyo.Param(model.I, initialize=weights)\n",
       "model.C = pyo.Param(initialize=capacity)\n",
       "model.N = pyo.Param(initialize=max_boxes)\n",
       "\n",
       "# Decision Variables\n",
       "model.x = pyo.Var(model.I, model.J, within=pyo.Binary)\n",
       "model.y = pyo.Var(model.J, within=pyo.Binary)\n",
       "\n",
       "# Objective Function\n",
       "def objective_rule(model):\n",
       "    return sum(model.y[j] for j in model.J)\n",
       "model.obj = pyo.Objective(rule=objective_rule, sense=pyo.minimize)\n",
       "\n",
       "# Constraints\n",
       "def constraint1_rule(model, i):\n",
       "    return sum(model.x[i,j] for j in model.J) == 1\n",
       "model.constraint1 = pyo.Constraint(model.I, rule=constraint1_rule)\n",
       "\n",
       "def constraint2_rule(model, j):\n",
       "    return sum(model.w[i] * model.x[i,j] for i in model.I) <= model.C * model.y[j]\n",
       "model.constraint2 = pyo.Constraint(model.J, rule=constraint2_rule)\n",
       "\n",
       "def constraint3_rule(model):\n",
       "    return sum(model.y[j] for j in model.J) <= model.N\n",
       "model.constraint3 = pyo.Constraint(rule=constraint3_rule)\n",
       "\n",
       "# Solve\n",
       "solver = pyo.SolverFactory('glpk')  # You can choose a different solver if desired\n",
       "solver.solve(model)\n",
       "\n",
       "# Print results\n",
       "print(\"Optimal Solution:\")\n",
       "for j in model.J:\n",
       "    if pyo.value(model.y[j]) == 1:\n",
       "        print(f\"Box {j} is used.\")\n",
       "        for i in model.I:\n",
       "            if pyo.value(model.x[i,j]) == 1:\n",
       "                print(f\"Item {i} is packed in Box {j}.\")\n",
       "```\n",
       "\n",
       "This code first defines sample data for the items, weights, boxes, capacity, and maximum number of boxes. Then, it creates a Pyomo model with sets, parameters, decision variables, objective function, and constraints as defined in the mathematical formulation. Finally, it calls a solver to find the optimal solution and prints the results.\n",
       "\n",
       "Remember that the sample data is only for illustration purposes. You should replace it with your actual data.\n"
      ],
      "text/plain": [
       "<IPython.core.display.Markdown object>"
      ]
     },
     "execution_count": 457,
     "metadata": {},
     "output_type": "execute_result"
    }
   ],
   "source": [
    "#Showing the code in a formatted way\n",
    "Markdown(response2.text)"
   ]
  },
  {
   "cell_type": "markdown",
   "id": "b60756ae",
   "metadata": {},
   "source": [
    "## 4. Input problem data and try running the generated code"
   ]
  },
  {
   "cell_type": "code",
   "execution_count": 459,
   "id": "b39a3d4c",
   "metadata": {},
   "outputs": [
    {
     "name": "stdout",
     "output_type": "stream",
     "text": [
      "Optimal Solution:\n",
      "Box 1 is used.\n",
      "Item 24 is packed in Box 1.\n",
      "Box 2 is used.\n",
      "Item 1 is packed in Box 2.\n",
      "Item 21 is packed in Box 2.\n",
      "Box 3 is used.\n",
      "Item 22 is packed in Box 3.\n",
      "Box 4 is used.\n",
      "Item 7 is packed in Box 4.\n",
      "Item 18 is packed in Box 4.\n",
      "Box 5 is used.\n",
      "Item 20 is packed in Box 5.\n",
      "Box 6 is used.\n",
      "Item 8 is packed in Box 6.\n",
      "Item 14 is packed in Box 6.\n",
      "Box 7 is used.\n",
      "Item 10 is packed in Box 7.\n",
      "Item 13 is packed in Box 7.\n",
      "Box 8 is used.\n",
      "Item 9 is packed in Box 8.\n",
      "Item 16 is packed in Box 8.\n",
      "Box 9 is used.\n",
      "Item 5 is packed in Box 9.\n",
      "Item 19 is packed in Box 9.\n",
      "Box 10 is used.\n",
      "Item 11 is packed in Box 10.\n",
      "Item 17 is packed in Box 10.\n",
      "Box 11 is used.\n",
      "Item 12 is packed in Box 11.\n",
      "Item 15 is packed in Box 11.\n",
      "Box 12 is used.\n",
      "Item 23 is packed in Box 12.\n",
      "Box 13 is used.\n",
      "Item 2 is packed in Box 13.\n",
      "Item 3 is packed in Box 13.\n",
      "Item 4 is packed in Box 13.\n",
      "Item 6 is packed in Box 13.\n"
     ]
    }
   ],
   "source": [
    "import pyomo.environ as pyo\n",
    "\n",
    "# Sample Data\n",
    "items = range(1,25)\n",
    "weights = {1: 2,2: 2,3: 2,4: 2,5: 3,6: 3,7:4,8: 4,9: 4,10: 4,11: 4,12:4,13: 5,14:5,15: 5,16: 5,17: 5,18: 5,19: 6,20:6,21: 7,22: 7,23: 8, 24:8} # Weight of each item\n",
    "capacity = 9\n",
    "boxes = range(1,14)  # Sample boxes\n",
    "capacity = 9  # Sample capacity for each box\n",
    "max_boxes = 13  # Sample maximum number of boxes\n",
    "\n",
    "# Model\n",
    "model = pyo.ConcreteModel()\n",
    "\n",
    "# Sets\n",
    "model.I = pyo.Set(initialize=items)\n",
    "model.J = pyo.Set(initialize=boxes)\n",
    "\n",
    "# Parameters\n",
    "model.w = pyo.Param(model.I, initialize=weights)\n",
    "model.C = pyo.Param(initialize=capacity)\n",
    "model.N = pyo.Param(initialize=max_boxes)\n",
    "\n",
    "# Decision Variables\n",
    "model.x = pyo.Var(model.I, model.J, within=pyo.Binary)\n",
    "model.y = pyo.Var(model.J, within=pyo.Binary)\n",
    "\n",
    "# Objective Function\n",
    "def objective_rule(model):\n",
    "    return sum(model.y[j] for j in model.J)\n",
    "model.obj = pyo.Objective(rule=objective_rule, sense=pyo.minimize)\n",
    "\n",
    "# Constraints\n",
    "def constraint1_rule(model, i):\n",
    "    return sum(model.x[i,j] for j in model.J) == 1\n",
    "model.constraint1 = pyo.Constraint(model.I, rule=constraint1_rule)\n",
    "\n",
    "def constraint2_rule(model, j):\n",
    "    return sum(model.w[i] * model.x[i,j] for i in model.I) <= model.C * model.y[j]\n",
    "model.constraint2 = pyo.Constraint(model.J, rule=constraint2_rule)\n",
    "\n",
    "def constraint3_rule(model):\n",
    "    return sum(model.y[j] for j in model.J) <= model.N\n",
    "model.constraint3 = pyo.Constraint(rule=constraint3_rule)\n",
    "\n",
    "# Solve\n",
    "solver = pyo.SolverFactory('glpk')  # You can choose a different solver if desired\n",
    "solver.solve(model)\n",
    "\n",
    "# Print results\n",
    "print(\"Optimal Solution:\")\n",
    "for j in model.J:\n",
    "    if pyo.value(model.y[j]) == 1:\n",
    "        print(f\"Box {j} is used.\")\n",
    "        for i in model.I:\n",
    "            if pyo.value(model.x[i,j]) == 1:\n",
    "                print(f\"Item {i} is packed in Box {j}.\")"
   ]
  },
  {
   "cell_type": "code",
   "execution_count": 460,
   "id": "f73f3246",
   "metadata": {},
   "outputs": [
    {
     "data": {
      "text/plain": [
       "13.0"
      ]
     },
     "execution_count": 460,
     "metadata": {},
     "output_type": "execute_result"
    }
   ],
   "source": [
    "model.obj()"
   ]
  },
  {
   "cell_type": "code",
   "execution_count": 439,
   "id": "cafb7b25",
   "metadata": {},
   "outputs": [
    {
     "name": "stdout",
     "output_type": "stream",
     "text": [
      "[2, 2, 2, 2, 3, 3, 4, 4, 4, 4, 4, 4, 5, 5, 5, 5, 5, 5, 6, 6, 7, 7, 8, 8]\n",
      "9\n",
      "24\n",
      "13\n"
     ]
    }
   ],
   "source": [
    "#Making the data for the problem\n",
    "def BinPackingExample():\n",
    "    B = 9\n",
    "    w = [2,3,4,5,6,7,8]\n",
    "    q = [4,2,6,6,2,2,2]\n",
    "    s=[]\n",
    "    for j in range(len(w)):\n",
    "        for i in range(q[j]):\n",
    "            s.append(w[j])\n",
    "    return s,B\n",
    "\n",
    "#print(BinPackingExample())\n",
    "def FFD(s, B):\n",
    "    remain = [B]\n",
    "    sol = [[]]\n",
    "    for item in sorted(s, reverse=True):\n",
    "        for j,free in enumerate(remain):\n",
    "            if free >= item:\n",
    "                remain[j] -= item\n",
    "                sol[j].append(item)\n",
    "                break\n",
    "        else:\n",
    "            sol.append([item])\n",
    "            remain.append(B-item)\n",
    "    return sol\n",
    "s,B = BinPackingExample()\n",
    "n = len(s)\n",
    "U = len(FFD(s, B))\n",
    "print(s) #Weights\n",
    "print(B) #Max bin capacity\n",
    "print(n) #Number of items\n",
    "print(U) #Max number of boxes"
   ]
  },
  {
   "cell_type": "markdown",
   "id": "8f10340f",
   "metadata": {},
   "source": [
    "## 5. Correct the code to verify model viability (optional)"
   ]
  },
  {
   "cell_type": "code",
   "execution_count": null,
   "id": "1f3ac196",
   "metadata": {},
   "outputs": [],
   "source": []
  },
  {
   "cell_type": "markdown",
   "id": "03525f23",
   "metadata": {},
   "source": [
    "## 6. Printing the outputs as strings, so they can be saved.\n",
    "Those can be rendered as markdown for better readability"
   ]
  },
  {
   "cell_type": "code",
   "execution_count": 463,
   "id": "9d832f4d",
   "metadata": {},
   "outputs": [
    {
     "name": "stdout",
     "output_type": "stream",
     "text": [
      "Let's think step by step to formulate a mathematical optimization model for this problem.\n",
      "\n",
      "**Sets:**\n",
      "\n",
      "*  $I$: Set of items \n",
      "* $J$: Set of boxes \n",
      "\n",
      "**Parameters:**\n",
      "\n",
      "* $w_i$: Weight of item $i \\in I$\n",
      "* $C$: Capacity of each box\n",
      "* $N$: Maximum number of boxes allowed\n",
      "\n",
      "**Decision Variables:**\n",
      "* $x_{ij}$: Binary variable equal to 1 if item  $i \\in I$ is packed in box $j \\in J$, and 0 otherwise. \n",
      "* $y_j$: Binary variable equal to 1 if box $j \\in J$ is used, and 0 otherwise.\n",
      "\n",
      "**Mathematical Model:**\n",
      "\n",
      "Minimize $\\sum_{j \\in J} y_j$\n",
      "\n",
      "Subject to:\n",
      "1.  $\\sum_{j \\in J} x_{ij} = 1,  \\forall i \\in I$  (Each item is assigned to exactly one box).\n",
      "\n",
      "2.  $\\sum_{i \\in I} w_i x_{ij} \\leq Cy_j, \\forall j \\in J$ (The total weight of items packed in a box cannot exceed its capacity).\n",
      "\n",
      "3. $\\sum_{j \\in J} y_j \\leq N$ (The total number of boxes used cannot exceed the maximum allowed).\n",
      "\n",
      "4. $x_{ij} \\in \\{0,1\\}, \\forall i \\in I, \\forall j \\in J$\n",
      "\n",
      "5. $y_j \\in \\{0,1\\}, \\forall j \\in J$ \n",
      "\n",
      "This model aims to minimize the total number of boxes used while ensuring that all items are packed, the capacity of each box is not exceeded, and the maximum number of boxes allowed is not surpassed. \n",
      "\n"
     ]
    }
   ],
   "source": [
    "print(response.text)"
   ]
  },
  {
   "cell_type": "code",
   "execution_count": 464,
   "id": "57e86877",
   "metadata": {
    "scrolled": false
   },
   "outputs": [
    {
     "name": "stdout",
     "output_type": "stream",
     "text": [
      "```python\n",
      "import pyomo.environ as pyo\n",
      "\n",
      "# Sample Data\n",
      "items = ['A', 'B', 'C', 'D', 'E']\n",
      "weights = {'A': 10, 'B': 15, 'C': 8, 'D': 5, 'E': 12}  # Sample weights\n",
      "boxes = ['Box1', 'Box2', 'Box3']  # Sample boxes\n",
      "capacity = 25  # Sample capacity for each box\n",
      "max_boxes = 3  # Sample maximum number of boxes\n",
      "\n",
      "# Model\n",
      "model = pyo.ConcreteModel()\n",
      "\n",
      "# Sets\n",
      "model.I = pyo.Set(initialize=items)\n",
      "model.J = pyo.Set(initialize=boxes)\n",
      "\n",
      "# Parameters\n",
      "model.w = pyo.Param(model.I, initialize=weights)\n",
      "model.C = pyo.Param(initialize=capacity)\n",
      "model.N = pyo.Param(initialize=max_boxes)\n",
      "\n",
      "# Decision Variables\n",
      "model.x = pyo.Var(model.I, model.J, within=pyo.Binary)\n",
      "model.y = pyo.Var(model.J, within=pyo.Binary)\n",
      "\n",
      "# Objective Function\n",
      "def objective_rule(model):\n",
      "    return sum(model.y[j] for j in model.J)\n",
      "model.obj = pyo.Objective(rule=objective_rule, sense=pyo.minimize)\n",
      "\n",
      "# Constraints\n",
      "def constraint1_rule(model, i):\n",
      "    return sum(model.x[i,j] for j in model.J) == 1\n",
      "model.constraint1 = pyo.Constraint(model.I, rule=constraint1_rule)\n",
      "\n",
      "def constraint2_rule(model, j):\n",
      "    return sum(model.w[i] * model.x[i,j] for i in model.I) <= model.C * model.y[j]\n",
      "model.constraint2 = pyo.Constraint(model.J, rule=constraint2_rule)\n",
      "\n",
      "def constraint3_rule(model):\n",
      "    return sum(model.y[j] for j in model.J) <= model.N\n",
      "model.constraint3 = pyo.Constraint(rule=constraint3_rule)\n",
      "\n",
      "# Solve\n",
      "solver = pyo.SolverFactory('glpk')  # You can choose a different solver if desired\n",
      "solver.solve(model)\n",
      "\n",
      "# Print results\n",
      "print(\"Optimal Solution:\")\n",
      "for j in model.J:\n",
      "    if pyo.value(model.y[j]) == 1:\n",
      "        print(f\"Box {j} is used.\")\n",
      "        for i in model.I:\n",
      "            if pyo.value(model.x[i,j]) == 1:\n",
      "                print(f\"Item {i} is packed in Box {j}.\")\n",
      "```\n",
      "\n",
      "This code first defines sample data for the items, weights, boxes, capacity, and maximum number of boxes. Then, it creates a Pyomo model with sets, parameters, decision variables, objective function, and constraints as defined in the mathematical formulation. Finally, it calls a solver to find the optimal solution and prints the results.\n",
      "\n",
      "Remember that the sample data is only for illustration purposes. You should replace it with your actual data.\n",
      "\n"
     ]
    }
   ],
   "source": [
    "print(response2.text)"
   ]
  }
 ],
 "metadata": {
  "kernelspec": {
   "display_name": "Python 3 (ipykernel)",
   "language": "python",
   "name": "python3"
  },
  "language_info": {
   "codemirror_mode": {
    "name": "ipython",
    "version": 3
   },
   "file_extension": ".py",
   "mimetype": "text/x-python",
   "name": "python",
   "nbconvert_exporter": "python",
   "pygments_lexer": "ipython3",
   "version": "3.11.4"
  }
 },
 "nbformat": 4,
 "nbformat_minor": 5
}
