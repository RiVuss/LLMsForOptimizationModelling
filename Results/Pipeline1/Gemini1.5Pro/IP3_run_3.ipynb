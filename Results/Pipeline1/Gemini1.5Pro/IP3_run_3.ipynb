{
 "cells": [
  {
   "cell_type": "markdown",
   "id": "f0005e9e",
   "metadata": {},
   "source": [
    "# LLM Optimization Modelling Experiment"
   ]
  },
  {
   "cell_type": "code",
   "execution_count": 3,
   "id": "7f664028",
   "metadata": {},
   "outputs": [],
   "source": [
    "import vertexai\n",
    "from vertexai.preview.generative_models import GenerativeModel, Image\n",
    "from IPython.display import Markdown"
   ]
  },
  {
   "cell_type": "markdown",
   "id": "f527d6af",
   "metadata": {},
   "source": [
    "## 1. Define the problem description"
   ]
  },
  {
   "cell_type": "code",
   "execution_count": 112,
   "id": "25055ffd",
   "metadata": {},
   "outputs": [],
   "source": [
    "problem = '''You are the person in charge of packing in a large company. Your job is to skillfully pack items of various weights in a box with predetermined capacity. The objective is to use as few boxes as possible. There is a set of items and a set of boxes with an upper bound on the amount of boxes. Each of the items has a known weight. Each item is packed into one box and items are packed into the chosen boxes. Please formulate a mathematical optimization model for this problem. '''"
   ]
  },
  {
   "cell_type": "markdown",
   "id": "472cf9ad",
   "metadata": {},
   "source": [
    "## 2. Generate the mathematical model"
   ]
  },
  {
   "cell_type": "code",
   "execution_count": 129,
   "id": "e31ec80c",
   "metadata": {},
   "outputs": [],
   "source": [
    "#Initializing the session. To replicate, make sure the right credentials are saved in a PATH variable\n",
    "PROJECT_ID = \"llm4optproblems\"\n",
    "REGION = \"us-central1\"\n",
    "vertexai.init(project=PROJECT_ID, location=REGION)\n",
    "\n",
    "#Specifying the model\n",
    "generative_multimodal_model = GenerativeModel(\"gemini-1.5-pro-preview-0409\")\n",
    "\n",
    "#The propmt applied to all problems\n",
    "prompt = '''Please formulate a mathematical optimization model for this problem. Include parameters, decision variables, the objective function and the constraints in your answer.\n",
    "'''\n",
    "\n",
    "#Generate the response\n",
    "response = generative_multimodal_model.generate_content([prompt+problem])\n"
   ]
  },
  {
   "cell_type": "code",
   "execution_count": 130,
   "id": "f9adc567",
   "metadata": {},
   "outputs": [
    {
     "data": {
      "text/markdown": [
       "### Mathematical Optimization Model for Box Packing\n",
       "\n",
       "**Parameters:**\n",
       "\n",
       "*  `n`: Number of items\n",
       "*  `m`: Maximum number of boxes available\n",
       "*  `w_i`: Weight of item `i` (for `i = 1, ..., n`)\n",
       "*  `C`: Capacity of each box\n",
       "\n",
       "**Decision Variables:**\n",
       "\n",
       "*  `x_ij`: Binary variable equal to 1 if item `i` is packed in box `j`, and 0 otherwise (for `i = 1, ..., n` and `j = 1, ..., m`)\n",
       "*  `y_j`: Binary variable equal to 1 if box `j` is used, and 0 otherwise (for `j = 1, ..., m`)\n",
       "\n",
       "**Objective Function:**\n",
       "Minimize the number of boxes used:\n",
       "\n",
       "```\n",
       "Minimize  ∑_(j=1)^m y_j \n",
       "```\n",
       "\n",
       "**Constraints:**\n",
       "\n",
       "1. **Each item must be packed in exactly one box:**\n",
       "   ```\n",
       "   ∑_(j=1)^m x_ij = 1, for all i = 1, ..., n\n",
       "   ```\n",
       "2. **The total weight of items in a box cannot exceed its capacity:**\n",
       "   ```\n",
       "   ∑_(i=1)^n w_i * x_ij ≤ C * y_j,  for all j = 1, ..., m\n",
       "   ```\n",
       "3. **A box cannot be used unless an item is packed in it:**\n",
       "   ```\n",
       "   y_j ≥ x_ij, for all i = 1, ..., n and j = 1, ..., m\n",
       "   ```\n",
       "\n",
       "**Variable Domains:**\n",
       "*  `x_ij ∈ {0, 1}` for all `i = 1, ..., n` and `j = 1, ..., m`\n",
       "*  `y_j ∈ {0, 1}` for all `j = 1, ..., m`\n",
       "\n",
       "This model represents a classic bin-packing problem, formulated as a mixed-integer linear programming problem (MILP). It aims to minimize the number of boxes used while ensuring each item is packed, respecting box capacity limits, and only using boxes that contain items.\n"
      ],
      "text/plain": [
       "<IPython.core.display.Markdown object>"
      ]
     },
     "execution_count": 130,
     "metadata": {},
     "output_type": "execute_result"
    }
   ],
   "source": [
    "#Show the resopnse in a formatted way\n",
    "Markdown(response.text)"
   ]
  },
  {
   "cell_type": "markdown",
   "id": "75796979",
   "metadata": {},
   "source": [
    "## 3. Generate the pyomo code"
   ]
  },
  {
   "cell_type": "code",
   "execution_count": 131,
   "id": "aabea932",
   "metadata": {},
   "outputs": [],
   "source": [
    "#Second prompt gets the output of the previous step and generates the code\n",
    "prompt2 = \"Please write pyomo code for this mathematical problem. Use sample data where needed. Indicate where you use sample data. \\n\"\n",
    "prompt2 += response.text \n",
    "response2 = generative_multimodal_model.generate_content([prompt2])"
   ]
  },
  {
   "cell_type": "code",
   "execution_count": 132,
   "id": "fd2835af",
   "metadata": {
    "scrolled": false
   },
   "outputs": [
    {
     "data": {
      "text/markdown": [
       "```python\n",
       "import pyomo.environ as pyo\n",
       "\n",
       "# Sample data (replace with actual data)\n",
       "n = 5  # Number of items\n",
       "m = 3  # Maximum number of boxes\n",
       "w = {1: 10, 2: 15, 3: 8, 4: 20, 5: 12}  # Weight of each item\n",
       "C = 30  # Capacity of each box\n",
       "\n",
       "# Model\n",
       "model = pyo.ConcreteModel()\n",
       "\n",
       "# Sets\n",
       "model.I = pyo.RangeSet(1, n)  # Set of items\n",
       "model.J = pyo.RangeSet(1, m)  # Set of boxes\n",
       "\n",
       "# Variables\n",
       "model.x = pyo.Var(model.I, model.J, within=pyo.Binary)  # 1 if item i is in box j\n",
       "model.y = pyo.Var(model.J, within=pyo.Binary)  # 1 if box j is used\n",
       "\n",
       "# Objective function: Minimize number of boxes used\n",
       "def objective_rule(model):\n",
       "    return sum(model.y[j] for j in model.J)\n",
       "model.obj = pyo.Objective(rule=objective_rule, sense=pyo.minimize)\n",
       "\n",
       "# Constraints\n",
       "# Each item must be packed in exactly one box\n",
       "def constraint_item_packed(model, i):\n",
       "    return sum(model.x[i, j] for j in model.J) == 1\n",
       "model.constraint_item_packed = pyo.Constraint(model.I, rule=constraint_item_packed)\n",
       "\n",
       "# Box capacity constraint\n",
       "def constraint_box_capacity(model, j):\n",
       "    return sum(w[i] * model.x[i, j] for i in model.I) <= C * model.y[j]\n",
       "model.constraint_box_capacity = pyo.Constraint(model.J, rule=constraint_box_capacity)\n",
       "\n",
       "# Box usage constraint\n",
       "def constraint_box_usage(model, i, j):\n",
       "    return model.y[j] >= model.x[i, j]\n",
       "model.constraint_box_usage = pyo.Constraint(model.I, model.J, rule=constraint_box_usage)\n",
       "\n",
       "# Solve\n",
       "solver = pyo.SolverFactory('glpk')  # Choose a suitable solver\n",
       "results = solver.solve(model)\n",
       "\n",
       "# Print results\n",
       "print(\"Status:\", results.solver.status)\n",
       "print(\"Termination condition:\",results.solver.termination_condition)\n",
       "print(\"Optimal number of boxes:\", pyo.value(model.obj))\n",
       "\n",
       "# Display packing results\n",
       "for j in model.J:\n",
       "    if pyo.value(model.y[j]) == 1:\n",
       "        print(f\"Box {j}:\", [i for i in model.I if pyo.value(model.x[i, j]) == 1])\n",
       "```\n",
       "\n",
       "**Explanation:**\n",
       "\n",
       "1. **Sample Data:** I have provided sample data for `n`, `m`, `w`, and `C`. You should replace these with your actual data.\n",
       "2. **Model Initialization:** The code creates a concrete Pyomo model.\n",
       "3. **Sets:** Defines sets for items (`I`) and boxes (`J`).\n",
       "4. **Variables:** Defines binary variables `x` and `y` representing item-box assignments and box usage.\n",
       "5. **Objective Function:** Defines the objective to minimize the total number of boxes used.\n",
       "6. **Constraints:**\n",
       "   - `constraint_item_packed`: Ensures each item is packed in exactly one box.\n",
       "   - `constraint_box_capacity`: Enforces the box capacity limit.\n",
       "   - `constraint_box_usage`: Ensures a box is marked as used if an item is assigned to it.\n",
       "7. **Solver:** You need to have a solver installed (like GLPK, CBC, or others) and specify it using `pyo.SolverFactory`.\n",
       "8. **Results:** The code prints the solver status, termination condition, optimal number of boxes used, and the packing arrangement.\n",
       "\n",
       "Remember to install Pyomo and a suitable solver. You can then run this code to get the optimized packing solution for your specific problem instance. \n"
      ],
      "text/plain": [
       "<IPython.core.display.Markdown object>"
      ]
     },
     "execution_count": 132,
     "metadata": {},
     "output_type": "execute_result"
    }
   ],
   "source": [
    "#Showing the code in a formatted way\n",
    "Markdown(response2.text)"
   ]
  },
  {
   "cell_type": "markdown",
   "id": "b60756ae",
   "metadata": {},
   "source": [
    "## 4. Input problem data and try running the generated code"
   ]
  },
  {
   "cell_type": "code",
   "execution_count": 133,
   "id": "3dcc5b9a",
   "metadata": {},
   "outputs": [
    {
     "name": "stdout",
     "output_type": "stream",
     "text": [
      "Status: ok\n",
      "Termination condition: optimal\n",
      "Optimal number of boxes: 13.0\n",
      "Box 1: [23]\n",
      "Box 2: [3, 21]\n",
      "Box 3: [9, 15]\n",
      "Box 4: [6, 19]\n",
      "Box 5: [8, 13]\n",
      "Box 6: [4, 16]\n",
      "Box 7: [10, 17]\n",
      "Box 8: [7, 14]\n",
      "Box 9: [2, 22]\n",
      "Box 10: [11, 18]\n",
      "Box 11: [20]\n",
      "Box 14: [1, 5, 12]\n",
      "Box 15: [24]\n"
     ]
    }
   ],
   "source": [
    "import pyomo.environ as pyo\n",
    "# items = range(1,25)\n",
    "# boxes = range(1,25)\n",
    "# weights = {1: 2,2: 2,3: 2,4: 2,5: 3,6: 3,7:4,8: 4,9: 4,10: 4,11: 4,12:4,13: 5,14:5,15: 5,16: 5,17: 5,18: 5,19: 6,20:6,21: 7,22: 7,23: 8, 24:8} # Weight of each item\n",
    "\n",
    "# capacity = 9\n",
    "# max_boxes = 15\n",
    "\n",
    "# Sample data (replace with actual data)\n",
    "n = 24  # Number of items\n",
    "m = 15  # Maximum number of boxes\n",
    "w = {1: 2,2: 2,3: 2,4: 2,5: 3,6: 3,7:4,8: 4,9: 4,10: 4,11: 4,12:4,13: 5,14:5,15: 5,16: 5,17: 5,18: 5,19: 6,20:6,21: 7,22: 7,23: 8, 24:8} # Weight of each item\n",
    "  # Weight of each item\n",
    "C = 9  # Capacity of each box\n",
    "\n",
    "# Model\n",
    "model = pyo.ConcreteModel()\n",
    "\n",
    "# Sets\n",
    "model.I = pyo.RangeSet(1, n)  # Set of items\n",
    "model.J = pyo.RangeSet(1, m)  # Set of boxes\n",
    "\n",
    "# Variables\n",
    "model.x = pyo.Var(model.I, model.J, within=pyo.Binary)  # 1 if item i is in box j\n",
    "model.y = pyo.Var(model.J, within=pyo.Binary)  # 1 if box j is used\n",
    "\n",
    "# Objective function: Minimize number of boxes used\n",
    "def objective_rule(model):\n",
    "    return sum(model.y[j] for j in model.J)\n",
    "model.obj = pyo.Objective(rule=objective_rule, sense=pyo.minimize)\n",
    "\n",
    "# Constraints\n",
    "# Each item must be packed in exactly one box\n",
    "def constraint_item_packed(model, i):\n",
    "    return sum(model.x[i, j] for j in model.J) == 1\n",
    "model.constraint_item_packed = pyo.Constraint(model.I, rule=constraint_item_packed)\n",
    "\n",
    "# Box capacity constraint\n",
    "def constraint_box_capacity(model, j):\n",
    "    return sum(w[i] * model.x[i, j] for i in model.I) <= C * model.y[j]\n",
    "model.constraint_box_capacity = pyo.Constraint(model.J, rule=constraint_box_capacity)\n",
    "\n",
    "# Box usage constraint\n",
    "def constraint_box_usage(model, i, j):\n",
    "    return model.y[j] >= model.x[i, j]\n",
    "model.constraint_box_usage = pyo.Constraint(model.I, model.J, rule=constraint_box_usage)\n",
    "\n",
    "# Solve\n",
    "solver = pyo.SolverFactory('glpk')  # Choose a suitable solver\n",
    "results = solver.solve(model)\n",
    "\n",
    "# Print results\n",
    "print(\"Status:\", results.solver.status)\n",
    "print(\"Termination condition:\",results.solver.termination_condition)\n",
    "print(\"Optimal number of boxes:\", pyo.value(model.obj))\n",
    "\n",
    "# Display packing results\n",
    "for j in model.J:\n",
    "    if pyo.value(model.y[j]) == 1:\n",
    "        print(f\"Box {j}:\", [i for i in model.I if pyo.value(model.x[i, j]) == 1])"
   ]
  },
  {
   "cell_type": "markdown",
   "id": "1be0926e",
   "metadata": {},
   "source": [
    "## 5. Correct the code to verify model viability (optional)"
   ]
  },
  {
   "cell_type": "code",
   "execution_count": null,
   "id": "8b37acfc",
   "metadata": {},
   "outputs": [],
   "source": []
  },
  {
   "cell_type": "markdown",
   "id": "1d6cb5a2",
   "metadata": {},
   "source": [
    "## 6. Printing the outputs as strings, so they can be saved.\n",
    "Those can be rendered as markdown for better readability"
   ]
  },
  {
   "cell_type": "code",
   "execution_count": 134,
   "id": "e904cf68",
   "metadata": {},
   "outputs": [
    {
     "name": "stdout",
     "output_type": "stream",
     "text": [
      "### Mathematical Optimization Model for Box Packing\n",
      "\n",
      "**Parameters:**\n",
      "\n",
      "*  `n`: Number of items\n",
      "*  `m`: Maximum number of boxes available\n",
      "*  `w_i`: Weight of item `i` (for `i = 1, ..., n`)\n",
      "*  `C`: Capacity of each box\n",
      "\n",
      "**Decision Variables:**\n",
      "\n",
      "*  `x_ij`: Binary variable equal to 1 if item `i` is packed in box `j`, and 0 otherwise (for `i = 1, ..., n` and `j = 1, ..., m`)\n",
      "*  `y_j`: Binary variable equal to 1 if box `j` is used, and 0 otherwise (for `j = 1, ..., m`)\n",
      "\n",
      "**Objective Function:**\n",
      "Minimize the number of boxes used:\n",
      "\n",
      "```\n",
      "Minimize  ∑_(j=1)^m y_j \n",
      "```\n",
      "\n",
      "**Constraints:**\n",
      "\n",
      "1. **Each item must be packed in exactly one box:**\n",
      "   ```\n",
      "   ∑_(j=1)^m x_ij = 1, for all i = 1, ..., n\n",
      "   ```\n",
      "2. **The total weight of items in a box cannot exceed its capacity:**\n",
      "   ```\n",
      "   ∑_(i=1)^n w_i * x_ij ≤ C * y_j,  for all j = 1, ..., m\n",
      "   ```\n",
      "3. **A box cannot be used unless an item is packed in it:**\n",
      "   ```\n",
      "   y_j ≥ x_ij, for all i = 1, ..., n and j = 1, ..., m\n",
      "   ```\n",
      "\n",
      "**Variable Domains:**\n",
      "*  `x_ij ∈ {0, 1}` for all `i = 1, ..., n` and `j = 1, ..., m`\n",
      "*  `y_j ∈ {0, 1}` for all `j = 1, ..., m`\n",
      "\n",
      "This model represents a classic bin-packing problem, formulated as a mixed-integer linear programming problem (MILP). It aims to minimize the number of boxes used while ensuring each item is packed, respecting box capacity limits, and only using boxes that contain items.\n",
      "\n"
     ]
    }
   ],
   "source": [
    "print(response.text)"
   ]
  },
  {
   "cell_type": "code",
   "execution_count": 135,
   "id": "859eaf28",
   "metadata": {},
   "outputs": [
    {
     "name": "stdout",
     "output_type": "stream",
     "text": [
      "```python\n",
      "import pyomo.environ as pyo\n",
      "\n",
      "# Sample data (replace with actual data)\n",
      "n = 5  # Number of items\n",
      "m = 3  # Maximum number of boxes\n",
      "w = {1: 10, 2: 15, 3: 8, 4: 20, 5: 12}  # Weight of each item\n",
      "C = 30  # Capacity of each box\n",
      "\n",
      "# Model\n",
      "model = pyo.ConcreteModel()\n",
      "\n",
      "# Sets\n",
      "model.I = pyo.RangeSet(1, n)  # Set of items\n",
      "model.J = pyo.RangeSet(1, m)  # Set of boxes\n",
      "\n",
      "# Variables\n",
      "model.x = pyo.Var(model.I, model.J, within=pyo.Binary)  # 1 if item i is in box j\n",
      "model.y = pyo.Var(model.J, within=pyo.Binary)  # 1 if box j is used\n",
      "\n",
      "# Objective function: Minimize number of boxes used\n",
      "def objective_rule(model):\n",
      "    return sum(model.y[j] for j in model.J)\n",
      "model.obj = pyo.Objective(rule=objective_rule, sense=pyo.minimize)\n",
      "\n",
      "# Constraints\n",
      "# Each item must be packed in exactly one box\n",
      "def constraint_item_packed(model, i):\n",
      "    return sum(model.x[i, j] for j in model.J) == 1\n",
      "model.constraint_item_packed = pyo.Constraint(model.I, rule=constraint_item_packed)\n",
      "\n",
      "# Box capacity constraint\n",
      "def constraint_box_capacity(model, j):\n",
      "    return sum(w[i] * model.x[i, j] for i in model.I) <= C * model.y[j]\n",
      "model.constraint_box_capacity = pyo.Constraint(model.J, rule=constraint_box_capacity)\n",
      "\n",
      "# Box usage constraint\n",
      "def constraint_box_usage(model, i, j):\n",
      "    return model.y[j] >= model.x[i, j]\n",
      "model.constraint_box_usage = pyo.Constraint(model.I, model.J, rule=constraint_box_usage)\n",
      "\n",
      "# Solve\n",
      "solver = pyo.SolverFactory('glpk')  # Choose a suitable solver\n",
      "results = solver.solve(model)\n",
      "\n",
      "# Print results\n",
      "print(\"Status:\", results.solver.status)\n",
      "print(\"Termination condition:\",results.solver.termination_condition)\n",
      "print(\"Optimal number of boxes:\", pyo.value(model.obj))\n",
      "\n",
      "# Display packing results\n",
      "for j in model.J:\n",
      "    if pyo.value(model.y[j]) == 1:\n",
      "        print(f\"Box {j}:\", [i for i in model.I if pyo.value(model.x[i, j]) == 1])\n",
      "```\n",
      "\n",
      "**Explanation:**\n",
      "\n",
      "1. **Sample Data:** I have provided sample data for `n`, `m`, `w`, and `C`. You should replace these with your actual data.\n",
      "2. **Model Initialization:** The code creates a concrete Pyomo model.\n",
      "3. **Sets:** Defines sets for items (`I`) and boxes (`J`).\n",
      "4. **Variables:** Defines binary variables `x` and `y` representing item-box assignments and box usage.\n",
      "5. **Objective Function:** Defines the objective to minimize the total number of boxes used.\n",
      "6. **Constraints:**\n",
      "   - `constraint_item_packed`: Ensures each item is packed in exactly one box.\n",
      "   - `constraint_box_capacity`: Enforces the box capacity limit.\n",
      "   - `constraint_box_usage`: Ensures a box is marked as used if an item is assigned to it.\n",
      "7. **Solver:** You need to have a solver installed (like GLPK, CBC, or others) and specify it using `pyo.SolverFactory`.\n",
      "8. **Results:** The code prints the solver status, termination condition, optimal number of boxes used, and the packing arrangement.\n",
      "\n",
      "Remember to install Pyomo and a suitable solver. You can then run this code to get the optimized packing solution for your specific problem instance. \n",
      "\n"
     ]
    }
   ],
   "source": [
    "print(response2.text)"
   ]
  }
 ],
 "metadata": {
  "kernelspec": {
   "display_name": "Python 3 (ipykernel)",
   "language": "python",
   "name": "python3"
  },
  "language_info": {
   "codemirror_mode": {
    "name": "ipython",
    "version": 3
   },
   "file_extension": ".py",
   "mimetype": "text/x-python",
   "name": "python",
   "nbconvert_exporter": "python",
   "pygments_lexer": "ipython3",
   "version": "3.11.4"
  }
 },
 "nbformat": 4,
 "nbformat_minor": 5
}
