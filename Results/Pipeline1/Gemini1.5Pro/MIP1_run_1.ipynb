{
 "cells": [
  {
   "cell_type": "markdown",
   "id": "f0005e9e",
   "metadata": {},
   "source": [
    "# LLM Optimization Modelling Experiment"
   ]
  },
  {
   "cell_type": "code",
   "execution_count": 3,
   "id": "7f664028",
   "metadata": {},
   "outputs": [],
   "source": [
    "import vertexai\n",
    "from vertexai.preview.generative_models import GenerativeModel, Image\n",
    "from IPython.display import Markdown"
   ]
  },
  {
   "cell_type": "markdown",
   "id": "f527d6af",
   "metadata": {},
   "source": [
    "## 1. Define the problem description"
   ]
  },
  {
   "cell_type": "code",
   "execution_count": 62,
   "id": "25055ffd",
   "metadata": {},
   "outputs": [],
   "source": [
    "problem = '''You are a city planner, looking to open facilities at some locations. We have a set of customers and a set of possible locations for opening facilities. Each potential location for establishing a facility incurs a fixed annual activation cost, which must be paid if the facility is used, regardless of the service volume it handles. Furthermore, this service volume at each facility is capped at a maximum annual limit. Additionally, there are transportation costs associated with servicing each customer from each facility.\n",
    "The goal is to minimize the overall costs, which include both the fixed activation costs for any opened facilities and the transportation costs for servicing customers. This must be done while making sure that each customer’s demand is met, each facility does not exceed its maximum service volume, and customers can of course only be serviced by a facility that is opened. \n",
    "Please formulate this as a mathematical optimization model.'''"
   ]
  },
  {
   "cell_type": "markdown",
   "id": "472cf9ad",
   "metadata": {},
   "source": [
    "## 2. Generate the mathematical model"
   ]
  },
  {
   "cell_type": "code",
   "execution_count": 63,
   "id": "e31ec80c",
   "metadata": {},
   "outputs": [],
   "source": [
    "#Initializing the session. To replicate, make sure the right credentials are saved in a PATH variable\n",
    "PROJECT_ID = \"llm4optproblems\"\n",
    "REGION = \"us-central1\"\n",
    "vertexai.init(project=PROJECT_ID, location=REGION)\n",
    "\n",
    "#Specifying the model\n",
    "generative_multimodal_model = GenerativeModel(\"gemini-1.5-pro-preview-0409\")\n",
    "\n",
    "#The propmt applied to all problems\n",
    "prompt = '''Please formulate a mathematical optimization model for this problem. Include parameters, decision variables, the objective function and the constraints in your answer.\n",
    "'''\n",
    "\n",
    "#Generate the response\n",
    "response = generative_multimodal_model.generate_content([prompt+problem])\n"
   ]
  },
  {
   "cell_type": "code",
   "execution_count": 64,
   "id": "f9adc567",
   "metadata": {},
   "outputs": [
    {
     "data": {
      "text/markdown": [
       "## Mathematical Optimization Model for Facility Location\n",
       "\n",
       "**Sets and Indices:**\n",
       "\n",
       "*  *I*: Set of customers\n",
       "* *J*: Set of potential facility locations\n",
       "\n",
       "**Parameters:**\n",
       "\n",
       "* *f<sub>j</sub>*: Fixed annual activation cost of facility *j* ∈ *J*\n",
       "* *cap<sub>j</sub>*: Maximum annual service volume of facility *j* ∈ *J*\n",
       "* *d<sub>i</sub>*: Annual demand of customer *i* ∈ *I*\n",
       "* *c<sub>ij</sub>*: Transportation cost per unit to serve customer *i* ∈ *I* from facility *j* ∈ *J*\n",
       "\n",
       "**Decision Variables:**\n",
       "\n",
       "* *x<sub>ij</sub>*: Amount of demand of customer *i* ∈ *I* served by facility *j* ∈ *J*\n",
       "* *y<sub>j</sub>*: Binary variable indicating whether facility *j* ∈ *J* is opened (1) or not (0)\n",
       "\n",
       "**Objective Function:**\n",
       "\n",
       "Minimize the total cost, which includes fixed activation costs and transportation costs:\n",
       "\n",
       "```\n",
       "Minimize Σ<sub>j∈J</sub> f<sub>j</sub>y<sub>j</sub> + Σ<sub>i∈I</sub> Σ<sub>j∈J</sub> c<sub>ij</sub>x<sub>ij</sub> \n",
       "```\n",
       "\n",
       "**Constraints:**\n",
       "\n",
       "1. **Demand satisfaction:** Each customer's demand must be met:\n",
       "   ```\n",
       "   Σ<sub>j∈J</sub> x<sub>ij</sub> = d<sub>i</sub>, ∀ i ∈ I\n",
       "   ```\n",
       "\n",
       "2. **Capacity constraint:** Each facility cannot exceed its maximum service volume:\n",
       "   ```\n",
       "   Σ<sub>i∈I</sub> x<sub>ij</sub> ≤ cap<sub>j</sub>y<sub>j</sub>, ∀ j ∈ J\n",
       "   ```\n",
       "\n",
       "3. **Service from open facilities:** Customers can only be serviced by open facilities:\n",
       "   ```\n",
       "   x<sub>ij</sub> ≤ d<sub>i</sub>y<sub>j</sub>, ∀ i ∈ I, ∀ j ∈ J\n",
       "   ```\n",
       "\n",
       "4. **Binary constraint:**\n",
       "   ```\n",
       "   y<sub>j</sub> ∈ {0, 1}, ∀ j ∈ J \n",
       "   ```\n",
       "\n",
       "This model represents a mixed-integer linear program, which can be solved using optimization software to determine the optimal locations for facilities and the allocation of customers to facilities to minimize overall costs. \n"
      ],
      "text/plain": [
       "<IPython.core.display.Markdown object>"
      ]
     },
     "execution_count": 64,
     "metadata": {},
     "output_type": "execute_result"
    }
   ],
   "source": [
    "#Show the resopnse in a formatted way\n",
    "Markdown(response.text)"
   ]
  },
  {
   "cell_type": "markdown",
   "id": "75796979",
   "metadata": {},
   "source": [
    "## 3. Generate the pyomo code"
   ]
  },
  {
   "cell_type": "code",
   "execution_count": 65,
   "id": "aabea932",
   "metadata": {},
   "outputs": [],
   "source": [
    "#Second prompt gets the output of the previous step and generates the code\n",
    "prompt2 = \"Please write pyomo code for this mathematical problem. Use sample data where needed. Indicate where you use sample data. \\n\"\n",
    "prompt2 += response.text \n",
    "response2 = generative_multimodal_model.generate_content([prompt2])"
   ]
  },
  {
   "cell_type": "code",
   "execution_count": 66,
   "id": "fd2835af",
   "metadata": {},
   "outputs": [
    {
     "data": {
      "text/markdown": [
       "```python\n",
       "import pyomo.environ as pyo\n",
       "\n",
       "# Sample Data (Replace with your actual data)\n",
       "customers = ['A', 'B', 'C']\n",
       "facilities = ['1', '2', '3']\n",
       "fixed_cost = {'1': 100, '2': 150, '3': 120}  \n",
       "capacity = {'1': 500, '2': 600, '3': 550} \n",
       "demand = {'A': 200, 'B': 350, 'C': 250}\n",
       "transportation_cost = {\n",
       "    ('A', '1'): 2, ('A', '2'): 3, ('A', '3'): 2.5,\n",
       "    ('B', '1'): 2.8, ('B', '2'): 1.5, ('B', '3'): 2,\n",
       "    ('C', '1'): 1.8, ('C', '2'): 2.2, ('C', '3'): 1.7\n",
       "}\n",
       "\n",
       "# Model\n",
       "model = pyo.ConcreteModel()\n",
       "\n",
       "# Sets\n",
       "model.I = pyo.Set(initialize=customers) # set of customers\n",
       "model.J = pyo.Set(initialize=facilities) # set of potential facilities\n",
       "\n",
       "# Parameters\n",
       "model.f = pyo.Param(model.J, initialize=fixed_cost) # fixed cost of opening a facility\n",
       "model.cap = pyo.Param(model.J, initialize=capacity) # capacity of a facility\n",
       "model.d = pyo.Param(model.I, initialize=demand) # demand of each customer\n",
       "model.c = pyo.Param(model.I, model.J, initialize=transportation_cost) # cost of shipping from i to j\n",
       "\n",
       "# Variables\n",
       "model.x = pyo.Var(model.I, model.J, bounds=(0, None)) # amount of demand served by facility j for customer i\n",
       "model.y = pyo.Var(model.J, within=pyo.Binary) # indicator variable: 1 if facility j is opened, 0 otherwise\n",
       "\n",
       "# Objective Function\n",
       "model.obj = pyo.Objective(expr=sum(model.f[j]*model.y[j] for j in model.J) + \n",
       "                           sum(model.c[i,j]*model.x[i,j] for i in model.I for j in model.J), sense=pyo.minimize)\n",
       "\n",
       "# Constraints\n",
       "model.demand_constraint = pyo.Constraint(model.I, rule=lambda model, i: sum(model.x[i,j] for j in model.J) == model.d[i]) # demand satisfaction\n",
       "model.capacity_constraint = pyo.Constraint(model.J, rule=lambda model, j: sum(model.x[i,j] for i in model.I) <= model.cap[j]*model.y[j]) # capacity constraint\n",
       "model.service_constraint = pyo.Constraint(model.I, model.J, rule=lambda model, i, j: model.x[i,j] <= model.d[i]*model.y[j]) # service from open facilities only\n",
       "\n",
       "# Solve\n",
       "solver = pyo.SolverFactory('glpk') # You can choose other solvers like 'gurobi', 'cplex', etc.\n",
       "results = solver.solve(model)\n",
       "\n",
       "# Print Results\n",
       "print(results) \n",
       "print(\"Optimal Solution:\")\n",
       "for j in model.J:\n",
       "    if pyo.value(model.y[j]) == 1:\n",
       "        print(f\"Facility {j} is open.\")\n",
       "        for i in model.I:\n",
       "            if pyo.value(model.x[i,j]) > 0:\n",
       "                print(f\"  Serving {pyo.value(model.x[i,j])} units of demand for customer {i}.\") \n",
       "```\n",
       "\n",
       "In this code, I've used sample data for the sets, parameters, and transportation costs. You should replace these with your own data. The code includes comments to indicate where the sample data is used. \n"
      ],
      "text/plain": [
       "<IPython.core.display.Markdown object>"
      ]
     },
     "execution_count": 66,
     "metadata": {},
     "output_type": "execute_result"
    }
   ],
   "source": [
    "#Showing the code in a formatted way\n",
    "Markdown(response2.text)"
   ]
  },
  {
   "cell_type": "markdown",
   "id": "b60756ae",
   "metadata": {},
   "source": [
    "## 4. Input problem data and try running the generated code"
   ]
  },
  {
   "cell_type": "code",
   "execution_count": 69,
   "id": "41ed7d93",
   "metadata": {},
   "outputs": [
    {
     "name": "stdout",
     "output_type": "stream",
     "text": [
      "\n",
      "Problem: \n",
      "- Name: unknown\n",
      "  Lower bound: 5610.0\n",
      "  Upper bound: 5610.0\n",
      "  Number of objectives: 1\n",
      "  Number of constraints: 23\n",
      "  Number of variables: 18\n",
      "  Number of nonzeros: 63\n",
      "  Sense: minimize\n",
      "Solver: \n",
      "- Status: ok\n",
      "  Termination condition: optimal\n",
      "  Statistics: \n",
      "    Branch and bound: \n",
      "      Number of bounded subproblems: 1\n",
      "      Number of created subproblems: 1\n",
      "  Error rc: 0\n",
      "  Time: 0.040258169174194336\n",
      "Solution: \n",
      "- number of solutions: 0\n",
      "  number of solutions displayed: 0\n",
      "\n",
      "Optimal Solution:\n",
      "Facility 2 is open.\n",
      "  Serving 80.0 units of demand for customer 1.\n",
      "  Serving 270.0 units of demand for customer 2.\n",
      "  Serving 150.0 units of demand for customer 3.\n",
      "Facility 3 is open.\n",
      "  Serving 7.78943796698235e-30 units of demand for customer 2.\n",
      "  Serving 100.0 units of demand for customer 3.\n",
      "  Serving 160.0 units of demand for customer 4.\n",
      "  Serving 180.0 units of demand for customer 5.\n"
     ]
    }
   ],
   "source": [
    "import pyomo.environ as pyo\n",
    "\n",
    "# Sample Data (Replace with your actual data)\n",
    "customers = [1,2,3,4,5]\n",
    "facilities = [1, 2, 3]\n",
    "fixed_cost = {1: 1000, 2: 1000, 3: 1000}  \n",
    "capacity = {1: 500, 2: 500, 3: 500} \n",
    "demand = {1: 80, 2: 270, 3: 250,4:160,5:180}\n",
    "transportation_cost = {\n",
    "    (1, 1): 4,  (1, 2): 6,  (1, 3): 9,\n",
    "    (2, 1): 5,  (2, 2): 4,  (2, 3): 7,\n",
    "    (3, 1): 6,  (3, 2): 3,  (3, 3): 4,\n",
    "    (4, 1): 8,  (4, 2): 5,  (4, 3): 3,\n",
    "    (5, 1): 10, (5, 2): 8,  (5, 3): 4,\n",
    "}\n",
    "     \n",
    "\n",
    "# Model\n",
    "model = pyo.ConcreteModel()\n",
    "\n",
    "# Sets\n",
    "model.I = pyo.Set(initialize=customers) # set of customers\n",
    "model.J = pyo.Set(initialize=facilities) # set of potential facilities\n",
    "\n",
    "# Parameters\n",
    "model.f = pyo.Param(model.J, initialize=fixed_cost) # fixed cost of opening a facility\n",
    "model.cap = pyo.Param(model.J, initialize=capacity) # capacity of a facility\n",
    "model.d = pyo.Param(model.I, initialize=demand) # demand of each customer\n",
    "model.c = pyo.Param(model.I, model.J, initialize=transportation_cost) # cost of shipping from i to j\n",
    "\n",
    "# Variables\n",
    "model.x = pyo.Var(model.I, model.J, bounds=(0, None)) # amount of demand served by facility j for customer i\n",
    "model.y = pyo.Var(model.J, within=pyo.Binary) # indicator variable: 1 if facility j is opened, 0 otherwise\n",
    "\n",
    "# Objective Function\n",
    "model.obj = pyo.Objective(expr=sum(model.f[j]*model.y[j] for j in model.J) + \n",
    "                           sum(model.c[i,j]*model.x[i,j] for i in model.I for j in model.J), sense=pyo.minimize)\n",
    "\n",
    "# Constraints\n",
    "model.demand_constraint = pyo.Constraint(model.I, rule=lambda model, i: sum(model.x[i,j] for j in model.J) == model.d[i]) # demand satisfaction\n",
    "model.capacity_constraint = pyo.Constraint(model.J, rule=lambda model, j: sum(model.x[i,j] for i in model.I) <= model.cap[j]*model.y[j]) # capacity constraint\n",
    "model.service_constraint = pyo.Constraint(model.I, model.J, rule=lambda model, i, j: model.x[i,j] <= model.d[i]*model.y[j]) # service from open facilities only\n",
    "\n",
    "# Solve\n",
    "solver = pyo.SolverFactory('glpk') # You can choose other solvers like 'gurobi', 'cplex', etc.\n",
    "results = solver.solve(model)\n",
    "\n",
    "# Print Results\n",
    "print(results) \n",
    "print(\"Optimal Solution:\")\n",
    "for j in model.J:\n",
    "    if pyo.value(model.y[j]) == 1:\n",
    "        print(f\"Facility {j} is open.\")\n",
    "        for i in model.I:\n",
    "            if pyo.value(model.x[i,j]) > 0:\n",
    "                print(f\"  Serving {pyo.value(model.x[i,j])} units of demand for customer {i}.\") "
   ]
  },
  {
   "cell_type": "markdown",
   "id": "1be0926e",
   "metadata": {},
   "source": [
    "## 5. Correct the code to verify model viability (optional)"
   ]
  },
  {
   "cell_type": "code",
   "execution_count": null,
   "id": "8b37acfc",
   "metadata": {},
   "outputs": [],
   "source": []
  },
  {
   "cell_type": "markdown",
   "id": "699a05e8",
   "metadata": {},
   "source": [
    "## 6. Printing the outputs as strings, so they can be saved."
   ]
  },
  {
   "cell_type": "code",
   "execution_count": 70,
   "id": "e904cf68",
   "metadata": {},
   "outputs": [
    {
     "name": "stdout",
     "output_type": "stream",
     "text": [
      "## Mathematical Optimization Model for Facility Location\n",
      "\n",
      "**Sets and Indices:**\n",
      "\n",
      "*  *I*: Set of customers\n",
      "* *J*: Set of potential facility locations\n",
      "\n",
      "**Parameters:**\n",
      "\n",
      "* *f<sub>j</sub>*: Fixed annual activation cost of facility *j* ∈ *J*\n",
      "* *cap<sub>j</sub>*: Maximum annual service volume of facility *j* ∈ *J*\n",
      "* *d<sub>i</sub>*: Annual demand of customer *i* ∈ *I*\n",
      "* *c<sub>ij</sub>*: Transportation cost per unit to serve customer *i* ∈ *I* from facility *j* ∈ *J*\n",
      "\n",
      "**Decision Variables:**\n",
      "\n",
      "* *x<sub>ij</sub>*: Amount of demand of customer *i* ∈ *I* served by facility *j* ∈ *J*\n",
      "* *y<sub>j</sub>*: Binary variable indicating whether facility *j* ∈ *J* is opened (1) or not (0)\n",
      "\n",
      "**Objective Function:**\n",
      "\n",
      "Minimize the total cost, which includes fixed activation costs and transportation costs:\n",
      "\n",
      "```\n",
      "Minimize Σ<sub>j∈J</sub> f<sub>j</sub>y<sub>j</sub> + Σ<sub>i∈I</sub> Σ<sub>j∈J</sub> c<sub>ij</sub>x<sub>ij</sub> \n",
      "```\n",
      "\n",
      "**Constraints:**\n",
      "\n",
      "1. **Demand satisfaction:** Each customer's demand must be met:\n",
      "   ```\n",
      "   Σ<sub>j∈J</sub> x<sub>ij</sub> = d<sub>i</sub>, ∀ i ∈ I\n",
      "   ```\n",
      "\n",
      "2. **Capacity constraint:** Each facility cannot exceed its maximum service volume:\n",
      "   ```\n",
      "   Σ<sub>i∈I</sub> x<sub>ij</sub> ≤ cap<sub>j</sub>y<sub>j</sub>, ∀ j ∈ J\n",
      "   ```\n",
      "\n",
      "3. **Service from open facilities:** Customers can only be serviced by open facilities:\n",
      "   ```\n",
      "   x<sub>ij</sub> ≤ d<sub>i</sub>y<sub>j</sub>, ∀ i ∈ I, ∀ j ∈ J\n",
      "   ```\n",
      "\n",
      "4. **Binary constraint:**\n",
      "   ```\n",
      "   y<sub>j</sub> ∈ {0, 1}, ∀ j ∈ J \n",
      "   ```\n",
      "\n",
      "This model represents a mixed-integer linear program, which can be solved using optimization software to determine the optimal locations for facilities and the allocation of customers to facilities to minimize overall costs. \n",
      "\n"
     ]
    }
   ],
   "source": [
    "print(response.text)"
   ]
  },
  {
   "cell_type": "code",
   "execution_count": 71,
   "id": "859eaf28",
   "metadata": {},
   "outputs": [
    {
     "name": "stdout",
     "output_type": "stream",
     "text": [
      "```python\n",
      "import pyomo.environ as pyo\n",
      "\n",
      "# Sample Data (Replace with your actual data)\n",
      "customers = ['A', 'B', 'C']\n",
      "facilities = ['1', '2', '3']\n",
      "fixed_cost = {'1': 100, '2': 150, '3': 120}  \n",
      "capacity = {'1': 500, '2': 600, '3': 550} \n",
      "demand = {'A': 200, 'B': 350, 'C': 250}\n",
      "transportation_cost = {\n",
      "    ('A', '1'): 2, ('A', '2'): 3, ('A', '3'): 2.5,\n",
      "    ('B', '1'): 2.8, ('B', '2'): 1.5, ('B', '3'): 2,\n",
      "    ('C', '1'): 1.8, ('C', '2'): 2.2, ('C', '3'): 1.7\n",
      "}\n",
      "\n",
      "# Model\n",
      "model = pyo.ConcreteModel()\n",
      "\n",
      "# Sets\n",
      "model.I = pyo.Set(initialize=customers) # set of customers\n",
      "model.J = pyo.Set(initialize=facilities) # set of potential facilities\n",
      "\n",
      "# Parameters\n",
      "model.f = pyo.Param(model.J, initialize=fixed_cost) # fixed cost of opening a facility\n",
      "model.cap = pyo.Param(model.J, initialize=capacity) # capacity of a facility\n",
      "model.d = pyo.Param(model.I, initialize=demand) # demand of each customer\n",
      "model.c = pyo.Param(model.I, model.J, initialize=transportation_cost) # cost of shipping from i to j\n",
      "\n",
      "# Variables\n",
      "model.x = pyo.Var(model.I, model.J, bounds=(0, None)) # amount of demand served by facility j for customer i\n",
      "model.y = pyo.Var(model.J, within=pyo.Binary) # indicator variable: 1 if facility j is opened, 0 otherwise\n",
      "\n",
      "# Objective Function\n",
      "model.obj = pyo.Objective(expr=sum(model.f[j]*model.y[j] for j in model.J) + \n",
      "                           sum(model.c[i,j]*model.x[i,j] for i in model.I for j in model.J), sense=pyo.minimize)\n",
      "\n",
      "# Constraints\n",
      "model.demand_constraint = pyo.Constraint(model.I, rule=lambda model, i: sum(model.x[i,j] for j in model.J) == model.d[i]) # demand satisfaction\n",
      "model.capacity_constraint = pyo.Constraint(model.J, rule=lambda model, j: sum(model.x[i,j] for i in model.I) <= model.cap[j]*model.y[j]) # capacity constraint\n",
      "model.service_constraint = pyo.Constraint(model.I, model.J, rule=lambda model, i, j: model.x[i,j] <= model.d[i]*model.y[j]) # service from open facilities only\n",
      "\n",
      "# Solve\n",
      "solver = pyo.SolverFactory('glpk') # You can choose other solvers like 'gurobi', 'cplex', etc.\n",
      "results = solver.solve(model)\n",
      "\n",
      "# Print Results\n",
      "print(results) \n",
      "print(\"Optimal Solution:\")\n",
      "for j in model.J:\n",
      "    if pyo.value(model.y[j]) == 1:\n",
      "        print(f\"Facility {j} is open.\")\n",
      "        for i in model.I:\n",
      "            if pyo.value(model.x[i,j]) > 0:\n",
      "                print(f\"  Serving {pyo.value(model.x[i,j])} units of demand for customer {i}.\") \n",
      "```\n",
      "\n",
      "In this code, I've used sample data for the sets, parameters, and transportation costs. You should replace these with your own data. The code includes comments to indicate where the sample data is used. \n",
      "\n"
     ]
    }
   ],
   "source": [
    "print(response2.text)"
   ]
  }
 ],
 "metadata": {
  "kernelspec": {
   "display_name": "Python 3 (ipykernel)",
   "language": "python",
   "name": "python3"
  },
  "language_info": {
   "codemirror_mode": {
    "name": "ipython",
    "version": 3
   },
   "file_extension": ".py",
   "mimetype": "text/x-python",
   "name": "python",
   "nbconvert_exporter": "python",
   "pygments_lexer": "ipython3",
   "version": "3.11.4"
  }
 },
 "nbformat": 4,
 "nbformat_minor": 5
}
