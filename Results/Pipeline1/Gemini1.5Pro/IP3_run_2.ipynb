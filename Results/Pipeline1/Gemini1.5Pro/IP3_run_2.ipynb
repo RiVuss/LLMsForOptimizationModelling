{
 "cells": [
  {
   "cell_type": "markdown",
   "id": "f0005e9e",
   "metadata": {},
   "source": [
    "# LLM Optimization Modelling Experiment"
   ]
  },
  {
   "cell_type": "code",
   "execution_count": 3,
   "id": "7f664028",
   "metadata": {},
   "outputs": [],
   "source": [
    "import vertexai\n",
    "from vertexai.preview.generative_models import GenerativeModel, Image\n",
    "from IPython.display import Markdown"
   ]
  },
  {
   "cell_type": "markdown",
   "id": "f527d6af",
   "metadata": {},
   "source": [
    "## 1. Define the problem description"
   ]
  },
  {
   "cell_type": "code",
   "execution_count": 112,
   "id": "25055ffd",
   "metadata": {},
   "outputs": [],
   "source": [
    "problem = '''You are the person in charge of packing in a large company. Your job is to skillfully pack items of various weights in a box with predetermined capacity. The objective is to use as few boxes as possible. There is a set of items and a set of boxes with an upper bound on the amount of boxes. Each of the items has a known weight. Each item is packed into one box and items are packed into the chosen boxes. Please formulate a mathematical optimization model for this problem. '''"
   ]
  },
  {
   "cell_type": "markdown",
   "id": "472cf9ad",
   "metadata": {},
   "source": [
    "## 2. Generate the mathematical model"
   ]
  },
  {
   "cell_type": "code",
   "execution_count": 121,
   "id": "e31ec80c",
   "metadata": {},
   "outputs": [],
   "source": [
    "#Initializing the session. To replicate, make sure the right credentials are saved in a PATH variable\n",
    "PROJECT_ID = \"llm4optproblems\"\n",
    "REGION = \"us-central1\"\n",
    "vertexai.init(project=PROJECT_ID, location=REGION)\n",
    "\n",
    "#Specifying the model\n",
    "generative_multimodal_model = GenerativeModel(\"gemini-1.5-pro-preview-0409\")\n",
    "\n",
    "#The propmt applied to all problems\n",
    "prompt = '''Please formulate a mathematical optimization model for this problem. Include parameters, decision variables, the objective function and the constraints in your answer.\n",
    "'''\n",
    "\n",
    "#Generate the response\n",
    "response = generative_multimodal_model.generate_content([prompt+problem])\n"
   ]
  },
  {
   "cell_type": "code",
   "execution_count": 122,
   "id": "f9adc567",
   "metadata": {},
   "outputs": [
    {
     "data": {
      "text/markdown": [
       "Let's define the following parameters and decision variables:\n",
       "\n",
       "**Parameters:**\n",
       "\n",
       "*  *I*: Set of items to be packed.\n",
       "* *J*: Set of available boxes.\n",
       "* *w<sub>i</sub>*: Weight of item *i*, where *i* ∈ *I*.\n",
       "* *C*: Capacity of each box.\n",
       "* *N*: Maximum number of boxes allowed.\n",
       "\n",
       "**Decision Variables:**\n",
       "\n",
       "* *x<sub>ij</sub>*: Binary variable equal to 1 if item *i* is packed in box *j*, 0 otherwise.\n",
       "* *y<sub>j</sub>*: Binary variable equal to 1 if box *j* is used, 0 otherwise.\n",
       "\n",
       "**Objective Function:**\n",
       "\n",
       "Minimize the number of boxes used:\n",
       "\n",
       "```\n",
       "Minimize ∑<sub>j∈J</sub> y<sub>j</sub> \n",
       "```\n",
       "\n",
       "**Constraints:**\n",
       "\n",
       "1. **Packing Capacity:** The total weight of items packed in a box cannot exceed its capacity.\n",
       "   ```\n",
       "   ∑<sub>i∈I</sub> w<sub>i</sub> * x<sub>ij</sub> ≤ C * y<sub>j</sub>,  ∀ j ∈ J\n",
       "   ```\n",
       "\n",
       "2. **Item Allocation:** Each item must be packed into exactly one box.\n",
       "   ```\n",
       "   ∑<sub>j∈J</sub> x<sub>ij</sub> = 1,  ∀ i ∈ I\n",
       "   ```\n",
       "\n",
       "3. **Box Limit:** The number of boxes used cannot exceed the maximum allowed.\n",
       "   ```\n",
       "   ∑<sub>j∈J</sub> y<sub>j</sub> ≤ N\n",
       "   ```\n",
       "\n",
       "4. **Variable Definitions:**\n",
       "   ```\n",
       "   x<sub>ij</sub> ∈ {0, 1},  ∀ i ∈ I, ∀ j ∈ J\n",
       "   y<sub>j</sub> ∈ {0, 1},  ∀ j ∈ J\n",
       "   ```\n",
       "\n",
       "This model is a binary integer programming problem. The objective function minimizes the total number of boxes used. The first constraint enforces the box capacity, the second ensures that each item is assigned to exactly one box, and the third constraint limits the total number of boxes used. The last constraint defines the binary nature of the decision variables.\n"
      ],
      "text/plain": [
       "<IPython.core.display.Markdown object>"
      ]
     },
     "execution_count": 122,
     "metadata": {},
     "output_type": "execute_result"
    }
   ],
   "source": [
    "#Show the resopnse in a formatted way\n",
    "Markdown(response.text)"
   ]
  },
  {
   "cell_type": "markdown",
   "id": "75796979",
   "metadata": {},
   "source": [
    "## 3. Generate the pyomo code"
   ]
  },
  {
   "cell_type": "code",
   "execution_count": 123,
   "id": "aabea932",
   "metadata": {},
   "outputs": [],
   "source": [
    "#Second prompt gets the output of the previous step and generates the code\n",
    "prompt2 = \"Please write pyomo code for this mathematical problem. Use sample data where needed. Indicate where you use sample data. \\n\"\n",
    "prompt2 += response.text \n",
    "response2 = generative_multimodal_model.generate_content([prompt2])"
   ]
  },
  {
   "cell_type": "code",
   "execution_count": 124,
   "id": "fd2835af",
   "metadata": {
    "scrolled": false
   },
   "outputs": [
    {
     "data": {
      "text/markdown": [
       "```python\n",
       "import pyomo.environ as pyo\n",
       "\n",
       "# Sample data \n",
       "# (replace with your actual data)\n",
       "items = ['A', 'B', 'C', 'D', 'E']\n",
       "boxes = [1, 2, 3]\n",
       "weights = {'A': 10, 'B': 15, 'C': 8, 'D': 5, 'E': 12}\n",
       "capacity = 25\n",
       "max_boxes = 3 \n",
       "\n",
       "# Model\n",
       "model = pyo.ConcreteModel()\n",
       "\n",
       "# Sets\n",
       "model.I = pyo.Set(initialize=items) \n",
       "model.J = pyo.Set(initialize=boxes)\n",
       "\n",
       "# Parameters\n",
       "model.w = pyo.Param(model.I, initialize=weights)\n",
       "model.C = pyo.Param(initialize=capacity)\n",
       "model.N = pyo.Param(initialize=max_boxes)\n",
       "\n",
       "# Variables\n",
       "model.x = pyo.Var(model.I, model.J, within=pyo.Binary)\n",
       "model.y = pyo.Var(model.J, within=pyo.Binary)\n",
       "\n",
       "# Objective function\n",
       "def obj_rule(model):\n",
       "    return sum(model.y[j] for j in model.J)\n",
       "model.obj = pyo.Objective(rule=obj_rule, sense=pyo.minimize)\n",
       "\n",
       "# Constraints\n",
       "def capacity_rule(model, j):\n",
       "    return sum(model.w[i] * model.x[i,j] for i in model.I) <= model.C * model.y[j]\n",
       "model.capacity_constraint = pyo.Constraint(model.J, rule=capacity_rule)\n",
       "\n",
       "def allocation_rule(model, i):\n",
       "    return sum(model.x[i,j] for j in model.J) == 1\n",
       "model.allocation_constraint = pyo.Constraint(model.I, rule=allocation_rule)\n",
       "\n",
       "def box_limit_rule(model):\n",
       "    return sum(model.y[j] for j in model.J) <= model.N\n",
       "model.box_limit_constraint = pyo.Constraint(rule=box_limit_rule)\n",
       "\n",
       "# Solve\n",
       "solver = pyo.SolverFactory('glpk')  # Choose a suitable solver\n",
       "results = solver.solve(model)\n",
       "\n",
       "# Display results\n",
       "print(results)\n",
       "print(\"Boxes used:\", pyo.value(model.obj))\n",
       "for j in model.J:\n",
       "    if pyo.value(model.y[j]) == 1:\n",
       "        print(f\"Box {j}:\", [i for i in model.I if pyo.value(model.x[i,j]) == 1])\n",
       "```\n",
       "\n",
       "This code defines the model using Pyomo, including sets, parameters, variables, objective function, and constraints. The sample data for items, boxes, weights, capacity, and maximum number of boxes are provided as placeholders. You should replace these with your actual data. The code then uses the GLPK solver to solve the problem and displays the results.\n"
      ],
      "text/plain": [
       "<IPython.core.display.Markdown object>"
      ]
     },
     "execution_count": 124,
     "metadata": {},
     "output_type": "execute_result"
    }
   ],
   "source": [
    "#Showing the code in a formatted way\n",
    "Markdown(response2.text)"
   ]
  },
  {
   "cell_type": "markdown",
   "id": "b60756ae",
   "metadata": {},
   "source": [
    "## 4. Input problem data and try running the generated code"
   ]
  },
  {
   "cell_type": "code",
   "execution_count": 126,
   "id": "cff0ebdf",
   "metadata": {},
   "outputs": [
    {
     "name": "stdout",
     "output_type": "stream",
     "text": [
      "\n",
      "Problem: \n",
      "- Name: unknown\n",
      "  Lower bound: 13.0\n",
      "  Upper bound: 13.0\n",
      "  Number of objectives: 1\n",
      "  Number of constraints: 49\n",
      "  Number of variables: 600\n",
      "  Number of nonzeros: 1200\n",
      "  Sense: minimize\n",
      "Solver: \n",
      "- Status: ok\n",
      "  Termination condition: optimal\n",
      "  Statistics: \n",
      "    Branch and bound: \n",
      "      Number of bounded subproblems: 197\n",
      "      Number of created subproblems: 197\n",
      "  Error rc: 0\n",
      "  Time: 0.060208797454833984\n",
      "Solution: \n",
      "- number of solutions: 0\n",
      "  number of solutions displayed: 0\n",
      "\n",
      "Boxes used: 13.0\n",
      "Box 1: [3, 4, 9]\n",
      "Box 2: [17]\n",
      "Box 3: [2, 22]\n",
      "Box 4: [6, 19]\n",
      "Box 5: [10, 14]\n",
      "Box 6: [24]\n",
      "Box 7: [12, 15]\n",
      "Box 8: [8, 18]\n",
      "Box 9: [1, 21]\n",
      "Box 10: [11, 16]\n",
      "Box 11: [5, 20]\n",
      "Box 12: [23]\n",
      "Box 13: [7, 13]\n"
     ]
    }
   ],
   "source": [
    "import pyomo.environ as pyo\n",
    "items =  range(1,25)\n",
    "weights = {1: 2,2: 2,3: 2,4: 2,5: 3,6: 3,7:4,8: 4,9: 4,10: 4,11: 4,12:4,13: 5,14:5,15: 5,16: 5,17: 5,18: 5,19: 6,20:6,21: 7,22: 7,23: 8, 24:8} # Weight of each item\n",
    "\n",
    "box_capacity = 9\n",
    "max_boxes = 15\n",
    "\n",
    "# Sample data \n",
    "# (replace with your actual data)\n",
    "items = range(1,25)\n",
    "boxes = range(1,25)\n",
    "weights = {1: 2,2: 2,3: 2,4: 2,5: 3,6: 3,7:4,8: 4,9: 4,10: 4,11: 4,12:4,13: 5,14:5,15: 5,16: 5,17: 5,18: 5,19: 6,20:6,21: 7,22: 7,23: 8, 24:8} # Weight of each item\n",
    "\n",
    "capacity = 9\n",
    "max_boxes = 15\n",
    "\n",
    "# Model\n",
    "model = pyo.ConcreteModel()\n",
    "\n",
    "# Sets\n",
    "model.I = pyo.Set(initialize=items) \n",
    "model.J = pyo.Set(initialize=boxes)\n",
    "\n",
    "# Parameters\n",
    "model.w = pyo.Param(model.I, initialize=weights)\n",
    "model.C = pyo.Param(initialize=capacity)\n",
    "model.N = pyo.Param(initialize=max_boxes)\n",
    "\n",
    "# Variables\n",
    "model.x = pyo.Var(model.I, model.J, within=pyo.Binary)\n",
    "model.y = pyo.Var(model.J, within=pyo.Binary)\n",
    "\n",
    "# Objective function\n",
    "def obj_rule(model):\n",
    "    return sum(model.y[j] for j in model.J)\n",
    "model.obj = pyo.Objective(rule=obj_rule, sense=pyo.minimize)\n",
    "\n",
    "# Constraints\n",
    "def capacity_rule(model, j):\n",
    "    return sum(model.w[i] * model.x[i,j] for i in model.I) <= model.C * model.y[j]\n",
    "model.capacity_constraint = pyo.Constraint(model.J, rule=capacity_rule)\n",
    "\n",
    "def allocation_rule(model, i):\n",
    "    return sum(model.x[i,j] for j in model.J) == 1\n",
    "model.allocation_constraint = pyo.Constraint(model.I, rule=allocation_rule)\n",
    "\n",
    "def box_limit_rule(model):\n",
    "    return sum(model.y[j] for j in model.J) <= model.N\n",
    "model.box_limit_constraint = pyo.Constraint(rule=box_limit_rule)\n",
    "\n",
    "# Solve\n",
    "solver = pyo.SolverFactory('glpk')  # Choose a suitable solver\n",
    "results = solver.solve(model)\n",
    "\n",
    "# Display results\n",
    "print(results)\n",
    "print(\"Boxes used:\", pyo.value(model.obj))\n",
    "for j in model.J:\n",
    "    if pyo.value(model.y[j]) == 1:\n",
    "        print(f\"Box {j}:\", [i for i in model.I if pyo.value(model.x[i,j]) == 1])"
   ]
  },
  {
   "cell_type": "markdown",
   "id": "1be0926e",
   "metadata": {},
   "source": [
    "## 5. Correct the code to verify model viability (optional)"
   ]
  },
  {
   "cell_type": "code",
   "execution_count": null,
   "id": "8b37acfc",
   "metadata": {},
   "outputs": [],
   "source": []
  },
  {
   "cell_type": "markdown",
   "id": "5e11b52b",
   "metadata": {},
   "source": [
    "## 6. Printing the outputs as strings, so they can be saved.\n",
    "Those can be rendered as markdown for better readability"
   ]
  },
  {
   "cell_type": "code",
   "execution_count": 127,
   "id": "e904cf68",
   "metadata": {},
   "outputs": [
    {
     "name": "stdout",
     "output_type": "stream",
     "text": [
      "Let's define the following parameters and decision variables:\n",
      "\n",
      "**Parameters:**\n",
      "\n",
      "*  *I*: Set of items to be packed.\n",
      "* *J*: Set of available boxes.\n",
      "* *w<sub>i</sub>*: Weight of item *i*, where *i* ∈ *I*.\n",
      "* *C*: Capacity of each box.\n",
      "* *N*: Maximum number of boxes allowed.\n",
      "\n",
      "**Decision Variables:**\n",
      "\n",
      "* *x<sub>ij</sub>*: Binary variable equal to 1 if item *i* is packed in box *j*, 0 otherwise.\n",
      "* *y<sub>j</sub>*: Binary variable equal to 1 if box *j* is used, 0 otherwise.\n",
      "\n",
      "**Objective Function:**\n",
      "\n",
      "Minimize the number of boxes used:\n",
      "\n",
      "```\n",
      "Minimize ∑<sub>j∈J</sub> y<sub>j</sub> \n",
      "```\n",
      "\n",
      "**Constraints:**\n",
      "\n",
      "1. **Packing Capacity:** The total weight of items packed in a box cannot exceed its capacity.\n",
      "   ```\n",
      "   ∑<sub>i∈I</sub> w<sub>i</sub> * x<sub>ij</sub> ≤ C * y<sub>j</sub>,  ∀ j ∈ J\n",
      "   ```\n",
      "\n",
      "2. **Item Allocation:** Each item must be packed into exactly one box.\n",
      "   ```\n",
      "   ∑<sub>j∈J</sub> x<sub>ij</sub> = 1,  ∀ i ∈ I\n",
      "   ```\n",
      "\n",
      "3. **Box Limit:** The number of boxes used cannot exceed the maximum allowed.\n",
      "   ```\n",
      "   ∑<sub>j∈J</sub> y<sub>j</sub> ≤ N\n",
      "   ```\n",
      "\n",
      "4. **Variable Definitions:**\n",
      "   ```\n",
      "   x<sub>ij</sub> ∈ {0, 1},  ∀ i ∈ I, ∀ j ∈ J\n",
      "   y<sub>j</sub> ∈ {0, 1},  ∀ j ∈ J\n",
      "   ```\n",
      "\n",
      "This model is a binary integer programming problem. The objective function minimizes the total number of boxes used. The first constraint enforces the box capacity, the second ensures that each item is assigned to exactly one box, and the third constraint limits the total number of boxes used. The last constraint defines the binary nature of the decision variables.\n",
      "\n"
     ]
    }
   ],
   "source": [
    "print(response.text)"
   ]
  },
  {
   "cell_type": "code",
   "execution_count": 128,
   "id": "859eaf28",
   "metadata": {},
   "outputs": [
    {
     "name": "stdout",
     "output_type": "stream",
     "text": [
      "```python\n",
      "import pyomo.environ as pyo\n",
      "\n",
      "# Sample data \n",
      "# (replace with your actual data)\n",
      "items = ['A', 'B', 'C', 'D', 'E']\n",
      "boxes = [1, 2, 3]\n",
      "weights = {'A': 10, 'B': 15, 'C': 8, 'D': 5, 'E': 12}\n",
      "capacity = 25\n",
      "max_boxes = 3 \n",
      "\n",
      "# Model\n",
      "model = pyo.ConcreteModel()\n",
      "\n",
      "# Sets\n",
      "model.I = pyo.Set(initialize=items) \n",
      "model.J = pyo.Set(initialize=boxes)\n",
      "\n",
      "# Parameters\n",
      "model.w = pyo.Param(model.I, initialize=weights)\n",
      "model.C = pyo.Param(initialize=capacity)\n",
      "model.N = pyo.Param(initialize=max_boxes)\n",
      "\n",
      "# Variables\n",
      "model.x = pyo.Var(model.I, model.J, within=pyo.Binary)\n",
      "model.y = pyo.Var(model.J, within=pyo.Binary)\n",
      "\n",
      "# Objective function\n",
      "def obj_rule(model):\n",
      "    return sum(model.y[j] for j in model.J)\n",
      "model.obj = pyo.Objective(rule=obj_rule, sense=pyo.minimize)\n",
      "\n",
      "# Constraints\n",
      "def capacity_rule(model, j):\n",
      "    return sum(model.w[i] * model.x[i,j] for i in model.I) <= model.C * model.y[j]\n",
      "model.capacity_constraint = pyo.Constraint(model.J, rule=capacity_rule)\n",
      "\n",
      "def allocation_rule(model, i):\n",
      "    return sum(model.x[i,j] for j in model.J) == 1\n",
      "model.allocation_constraint = pyo.Constraint(model.I, rule=allocation_rule)\n",
      "\n",
      "def box_limit_rule(model):\n",
      "    return sum(model.y[j] for j in model.J) <= model.N\n",
      "model.box_limit_constraint = pyo.Constraint(rule=box_limit_rule)\n",
      "\n",
      "# Solve\n",
      "solver = pyo.SolverFactory('glpk')  # Choose a suitable solver\n",
      "results = solver.solve(model)\n",
      "\n",
      "# Display results\n",
      "print(results)\n",
      "print(\"Boxes used:\", pyo.value(model.obj))\n",
      "for j in model.J:\n",
      "    if pyo.value(model.y[j]) == 1:\n",
      "        print(f\"Box {j}:\", [i for i in model.I if pyo.value(model.x[i,j]) == 1])\n",
      "```\n",
      "\n",
      "This code defines the model using Pyomo, including sets, parameters, variables, objective function, and constraints. The sample data for items, boxes, weights, capacity, and maximum number of boxes are provided as placeholders. You should replace these with your actual data. The code then uses the GLPK solver to solve the problem and displays the results.\n",
      "\n"
     ]
    }
   ],
   "source": [
    "print(response2.text)"
   ]
  }
 ],
 "metadata": {
  "kernelspec": {
   "display_name": "Python 3 (ipykernel)",
   "language": "python",
   "name": "python3"
  },
  "language_info": {
   "codemirror_mode": {
    "name": "ipython",
    "version": 3
   },
   "file_extension": ".py",
   "mimetype": "text/x-python",
   "name": "python",
   "nbconvert_exporter": "python",
   "pygments_lexer": "ipython3",
   "version": "3.11.4"
  }
 },
 "nbformat": 4,
 "nbformat_minor": 5
}
