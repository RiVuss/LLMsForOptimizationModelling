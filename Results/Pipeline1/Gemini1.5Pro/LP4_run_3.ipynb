{
 "cells": [
  {
   "cell_type": "markdown",
   "id": "f0005e9e",
   "metadata": {},
   "source": [
    "# LLM Optimization Modelling Experiment"
   ]
  },
  {
   "cell_type": "code",
   "execution_count": 4,
   "id": "7f664028",
   "metadata": {},
   "outputs": [],
   "source": [
    "import vertexai\n",
    "from vertexai.preview.generative_models import GenerativeModel, Image\n",
    "from IPython.display import Markdown"
   ]
  },
  {
   "cell_type": "markdown",
   "id": "f527d6af",
   "metadata": {},
   "source": [
    "## 1. Define the problem description"
   ]
  },
  {
   "cell_type": "code",
   "execution_count": 62,
   "id": "25055ffd",
   "metadata": {},
   "outputs": [],
   "source": [
    "problem = '''Consider a farmer who specializes in raising wheat, corn, and sugar beets on her 500 acres of land. During the winter, she wants to decide how much land to devote to each crop.\n",
    "\n",
    "The farmer knows that at least 200 tons (T) of wheat and 240 T of corn are needed for cattle feed. These amounts can be raised on the farm or bought from a wholesaler.\n",
    "Any production in excess of the feeding requirement would be sold.\n",
    "\n",
    "Over the last decade, mean selling prices have been $170 and $150 per ton of wheat and corn, respectively.\n",
    "The purchase prices are 40% more than this due to the wholesaler’s margin and transportation costs.\n",
    "\n",
    "Another profitable crop is sugar beet, which she expects to sell at $36/T. However, the European Commission imposes a quota on sugar beet production. Any amount in excess of the quota can be sold only at $10/T. The farmer’s quota for next year is 6000 T.\n",
    "\n",
    "Based on past experience, the farmer knows that the mean yield on her land is roughly 2.5 T, 3 T, and 20 T per acre for wheat, corn, and sugar beets, respectively. It costs $150 to plant an acre of wheat, $230 to pant an acre of corn and $260 to plant an acre of sugar beets. \n",
    "\n",
    "The farmer can decide how much of her land she will use to grow each of the three products: wheat, corn and sugar beets. The goal of the farmer is to minimize her total costs (where sales are considered as negative costs).'''"
   ]
  },
  {
   "cell_type": "markdown",
   "id": "472cf9ad",
   "metadata": {},
   "source": [
    "## 2. Generate the mathematical model"
   ]
  },
  {
   "cell_type": "code",
   "execution_count": 82,
   "id": "e31ec80c",
   "metadata": {},
   "outputs": [],
   "source": [
    "#Initializing the session. To replicate, make sure the right credentials are saved in a PATH variable\n",
    "PROJECT_ID = \"llm4optproblems\"\n",
    "REGION = \"us-central1\"\n",
    "vertexai.init(project=PROJECT_ID, location=REGION)\n",
    "\n",
    "#Specifying the model\n",
    "generative_multimodal_model = GenerativeModel(\"gemini-1.5-pro-preview-0409\")\n",
    "\n",
    "#The propmt applied to all problems\n",
    "prompt = '''Please formulate a mathematical optimization model for this problem. Include parameters, decision variables, the objective function and the constraints in your answer.\n",
    "'''\n",
    "\n",
    "#Generate the response\n",
    "response = generative_multimodal_model.generate_content([prompt+problem])\n"
   ]
  },
  {
   "cell_type": "code",
   "execution_count": 83,
   "id": "f9adc567",
   "metadata": {},
   "outputs": [
    {
     "data": {
      "text/markdown": [
       "## Mathematical Optimization Model for Farmer's Crop Planning\n",
       "\n",
       "**Parameters:**\n",
       "\n",
       "*  $A$: Total available land (acres) = 500\n",
       "*  $W_{demand}$: Wheat demand for cattle feed (tons) = 200\n",
       "*  $C_{demand}$: Corn demand for cattle feed (tons) = 240\n",
       "*  $P_W$: Selling price of wheat ($/ton) = 170\n",
       "*  $P_C$: Selling price of corn ($/ton) = 150\n",
       "*  $P_{SB}$: Selling price of sugar beets within quota ($/ton) = 36\n",
       "*  $P_{SB}^E$: Selling price of sugar beets exceeding quota ($/ton) = 10\n",
       "*  $Q_{SB}$: Sugar beet production quota (tons) = 6000\n",
       "*  $Y_W$: Yield of wheat (tons/acre) = 2.5\n",
       "*  $Y_C$: Yield of corn (tons/acre) = 3\n",
       "*  $Y_{SB}$: Yield of sugar beets (tons/acre) = 20\n",
       "*  $C_W$: Cost of planting wheat ($/acre) = 150\n",
       "*  $C_C$: Cost of planting corn ($/acre) = 230\n",
       "*  $C_{SB}$: Cost of planting sugar beets ($/acre) = 260\n",
       "\n",
       "**Decision Variables:**\n",
       "\n",
       "* $A_W$: Acres of land allocated to wheat\n",
       "* $A_C$: Acres of land allocated to corn\n",
       "* $A_{SB}$: Acres of land allocated to sugar beets\n",
       "* $W_{buy}$: Tons of wheat purchased\n",
       "* $C_{buy}$: Tons of corn purchased\n",
       "\n",
       "**Objective Function:** Minimize total cost\n",
       "\n",
       " $$Minimize\\  Z = C_W \\cdot A_W + C_C \\cdot A_C + C_{SB} \\cdot A_{SB} + 1.4 \\cdot P_W \\cdot W_{buy} + 1.4 \\cdot P_C \\cdot C_{buy} - P_W \\cdot (Y_W \\cdot A_W - W_{buy}) - P_C \\cdot (Y_C \\cdot A_C - C_{buy}) - P_{SB} \\cdot min(Y_{SB} \\cdot A_{SB}, Q_{SB}) - P_{SB}^E \\cdot max(0, Y_{SB} \\cdot A_{SB} - Q_{SB}) $$\n",
       "\n",
       "**Constraints:**\n",
       "\n",
       "* **Land availability:** $A_W + A_C + A_{SB} \\leq A$ \n",
       "* **Wheat demand:** $Y_W \\cdot A_W + W_{buy} \\geq W_{demand}$\n",
       "* **Corn demand:** $Y_C \\cdot A_C + C_{buy} \\geq C_{demand}$\n",
       "* **Non-negativity:** $A_W, A_C, A_{SB}, W_{buy}, C_{buy} \\geq 0$ \n",
       "\n",
       "**Explanation:**\n",
       "\n",
       "* **Objective Function:**\n",
       "    * Minimizes planting costs for all crops.\n",
       "    * Adds the cost of buying wheat and corn, considering the 40% markup.\n",
       "    * Subtracts revenue from selling excess wheat and corn production.\n",
       "    * Subtracts revenue from selling sugar beets, considering both the quota price and the excess production price.\n",
       "* **Constraints:**\n",
       "    * Ensures that total land allocation doesn't exceed available land.\n",
       "    * Guarantees the minimum required wheat and corn for cattle feed is met through production and purchase.\n",
       "    * Ensures that all decision variables are non-negative.\n",
       "\n",
       "This model allows the farmer to determine the optimal land allocation for each crop and the amount of wheat and corn to purchase to minimize her total costs while meeting her cattle feed requirements and considering the sugar beet quota.\n"
      ],
      "text/plain": [
       "<IPython.core.display.Markdown object>"
      ]
     },
     "execution_count": 83,
     "metadata": {},
     "output_type": "execute_result"
    }
   ],
   "source": [
    "#Show the resopnse in a formatted way\n",
    "Markdown(response.text)"
   ]
  },
  {
   "cell_type": "markdown",
   "id": "75796979",
   "metadata": {},
   "source": [
    "## 3. Generate the pyomo code"
   ]
  },
  {
   "cell_type": "code",
   "execution_count": 84,
   "id": "aabea932",
   "metadata": {},
   "outputs": [],
   "source": [
    "#Second prompt gets the output of the previous step and generates the code\n",
    "prompt2 = \"Please write pyomo code for this mathematical problem. Use sample data where needed. Indicate where you use sample data. \\n\"\n",
    "prompt2 += response.text \n",
    "response2 = generative_multimodal_model.generate_content([prompt2])"
   ]
  },
  {
   "cell_type": "code",
   "execution_count": 85,
   "id": "fd2835af",
   "metadata": {
    "scrolled": false
   },
   "outputs": [
    {
     "data": {
      "text/markdown": [
       "```python\n",
       "import pyomo.environ as pyo\n",
       "\n",
       "# Define the model\n",
       "model = pyo.ConcreteModel()\n",
       "\n",
       "# Define the parameters\n",
       "model.A = pyo.Param(initialize=500)\n",
       "model.W_demand = pyo.Param(initialize=200)\n",
       "model.C_demand = pyo.Param(initialize=240)\n",
       "model.P_W = pyo.Param(initialize=170)\n",
       "model.P_C = pyo.Param(initialize=150)\n",
       "model.P_SB = pyo.Param(initialize=36)\n",
       "model.P_SB_E = pyo.Param(initialize=10)\n",
       "model.Q_SB = pyo.Param(initialize=6000)\n",
       "model.Y_W = pyo.Param(initialize=2.5)\n",
       "model.Y_C = pyo.Param(initialize=3)\n",
       "model.Y_SB = pyo.Param(initialize=20)\n",
       "model.C_W = pyo.Param(initialize=150)\n",
       "model.C_C = pyo.Param(initialize=230)\n",
       "model.C_SB = pyo.Param(initialize=260)\n",
       "\n",
       "# Define the decision variables\n",
       "model.A_W = pyo.Var(domain=pyo.NonNegativeReals)\n",
       "model.A_C = pyo.Var(domain=pyo.NonNegativeReals)\n",
       "model.A_SB = pyo.Var(domain=pyo.NonNegativeReals)\n",
       "model.W_buy = pyo.Var(domain=pyo.NonNegativeReals)\n",
       "model.C_buy = pyo.Var(domain=pyo.NonNegativeReals)\n",
       "\n",
       "# Define the objective function\n",
       "def objective_rule(model):\n",
       "    return model.C_W * model.A_W + model.C_C * model.A_C + model.C_SB * model.A_SB + 1.4 * model.P_W * model.W_buy + 1.4 * model.P_C * model.C_buy - model.P_W * (model.Y_W * model.A_W - model.W_buy) - model.P_C * (model.Y_C * model.A_C - model.C_buy) - model.P_SB * pyo.min(model.Y_SB * model.A_SB, model.Q_SB) - model.P_SB_E * pyo.max(0, model.Y_SB * model.A_SB - model.Q_SB)\n",
       "\n",
       "model.objective = pyo.Objective(rule=objective_rule, sense=pyo.minimize)\n",
       "\n",
       "# Define the constraints\n",
       "model.land_availability = pyo.Constraint(expr=model.A_W + model.A_C + model.A_SB <= model.A)\n",
       "model.wheat_demand = pyo.Constraint(expr=model.Y_W * model.A_W + model.W_buy >= model.W_demand)\n",
       "model.corn_demand = pyo.Constraint(expr=model.Y_C * model.A_C + model.C_buy >= model.C_demand)\n",
       "\n",
       "# Solve the model\n",
       "solver = pyo.SolverFactory('glpk')\n",
       "solver.solve(model)\n",
       "\n",
       "# Print the results\n",
       "print(\"Optimal Solution:\")\n",
       "print(f\"Acres of Wheat: {pyo.value(model.A_W)}\")\n",
       "print(f\"Acres of Corn: {pyo.value(model.A_C)}\")\n",
       "print(f\"Acres of Sugar Beets: {pyo.value(model.A_SB)}\")\n",
       "print(f\"Tons of Wheat to Buy: {pyo.value(model.W_buy)}\")\n",
       "print(f\"Tons of Corn to Buy: {pyo.value(model.C_buy)}\")\n",
       "print(f\"Total Cost: {pyo.value(model.objective)}\")\n",
       "```\n",
       "\n",
       "**Sample Data:** The sample data is defined in the \"Define the parameters\" section of the code. For example, `model.A = pyo.Param(initialize=500)` sets the total available land to 500 acres. \n"
      ],
      "text/plain": [
       "<IPython.core.display.Markdown object>"
      ]
     },
     "execution_count": 85,
     "metadata": {},
     "output_type": "execute_result"
    }
   ],
   "source": [
    "#Showing the code in a formatted way\n",
    "Markdown(response2.text)"
   ]
  },
  {
   "cell_type": "markdown",
   "id": "b60756ae",
   "metadata": {},
   "source": [
    "## 4. Input problem data and try running the generated code"
   ]
  },
  {
   "cell_type": "code",
   "execution_count": 86,
   "id": "6d306df6",
   "metadata": {},
   "outputs": [
    {
     "name": "stdout",
     "output_type": "stream",
     "text": [
      "ERROR: Rule failed when generating expression for Objective objective with\n",
      "index None: AttributeError: module 'pyomo.environ' has no attribute 'min'\n",
      "ERROR: Constructing component 'objective' from data=None failed:\n",
      "        AttributeError: module 'pyomo.environ' has no attribute 'min'\n"
     ]
    },
    {
     "ename": "AttributeError",
     "evalue": "module 'pyomo.environ' has no attribute 'min'",
     "output_type": "error",
     "traceback": [
      "\u001b[1;31m---------------------------------------------------------------------------\u001b[0m",
      "\u001b[1;31mAttributeError\u001b[0m                            Traceback (most recent call last)",
      "Cell \u001b[1;32mIn[86], line 33\u001b[0m\n\u001b[0;32m     30\u001b[0m \u001b[38;5;28;01mdef\u001b[39;00m \u001b[38;5;21mobjective_rule\u001b[39m(model):\n\u001b[0;32m     31\u001b[0m     \u001b[38;5;28;01mreturn\u001b[39;00m model\u001b[38;5;241m.\u001b[39mC_W \u001b[38;5;241m*\u001b[39m model\u001b[38;5;241m.\u001b[39mA_W \u001b[38;5;241m+\u001b[39m model\u001b[38;5;241m.\u001b[39mC_C \u001b[38;5;241m*\u001b[39m model\u001b[38;5;241m.\u001b[39mA_C \u001b[38;5;241m+\u001b[39m model\u001b[38;5;241m.\u001b[39mC_SB \u001b[38;5;241m*\u001b[39m model\u001b[38;5;241m.\u001b[39mA_SB \u001b[38;5;241m+\u001b[39m \u001b[38;5;241m1.4\u001b[39m \u001b[38;5;241m*\u001b[39m model\u001b[38;5;241m.\u001b[39mP_W \u001b[38;5;241m*\u001b[39m model\u001b[38;5;241m.\u001b[39mW_buy \u001b[38;5;241m+\u001b[39m \u001b[38;5;241m1.4\u001b[39m \u001b[38;5;241m*\u001b[39m model\u001b[38;5;241m.\u001b[39mP_C \u001b[38;5;241m*\u001b[39m model\u001b[38;5;241m.\u001b[39mC_buy \u001b[38;5;241m-\u001b[39m model\u001b[38;5;241m.\u001b[39mP_W \u001b[38;5;241m*\u001b[39m (model\u001b[38;5;241m.\u001b[39mY_W \u001b[38;5;241m*\u001b[39m model\u001b[38;5;241m.\u001b[39mA_W \u001b[38;5;241m-\u001b[39m model\u001b[38;5;241m.\u001b[39mW_buy) \u001b[38;5;241m-\u001b[39m model\u001b[38;5;241m.\u001b[39mP_C \u001b[38;5;241m*\u001b[39m (model\u001b[38;5;241m.\u001b[39mY_C \u001b[38;5;241m*\u001b[39m model\u001b[38;5;241m.\u001b[39mA_C \u001b[38;5;241m-\u001b[39m model\u001b[38;5;241m.\u001b[39mC_buy) \u001b[38;5;241m-\u001b[39m model\u001b[38;5;241m.\u001b[39mP_SB \u001b[38;5;241m*\u001b[39m pyo\u001b[38;5;241m.\u001b[39mmin(model\u001b[38;5;241m.\u001b[39mY_SB \u001b[38;5;241m*\u001b[39m model\u001b[38;5;241m.\u001b[39mA_SB, model\u001b[38;5;241m.\u001b[39mQ_SB) \u001b[38;5;241m-\u001b[39m model\u001b[38;5;241m.\u001b[39mP_SB_E \u001b[38;5;241m*\u001b[39m pyo\u001b[38;5;241m.\u001b[39mmax(\u001b[38;5;241m0\u001b[39m, model\u001b[38;5;241m.\u001b[39mY_SB \u001b[38;5;241m*\u001b[39m model\u001b[38;5;241m.\u001b[39mA_SB \u001b[38;5;241m-\u001b[39m model\u001b[38;5;241m.\u001b[39mQ_SB)\n\u001b[1;32m---> 33\u001b[0m model\u001b[38;5;241m.\u001b[39mobjective \u001b[38;5;241m=\u001b[39m pyo\u001b[38;5;241m.\u001b[39mObjective(rule\u001b[38;5;241m=\u001b[39mobjective_rule, sense\u001b[38;5;241m=\u001b[39mpyo\u001b[38;5;241m.\u001b[39mminimize)\n\u001b[0;32m     35\u001b[0m \u001b[38;5;66;03m# Define the constraints\u001b[39;00m\n\u001b[0;32m     36\u001b[0m model\u001b[38;5;241m.\u001b[39mland_availability \u001b[38;5;241m=\u001b[39m pyo\u001b[38;5;241m.\u001b[39mConstraint(expr\u001b[38;5;241m=\u001b[39mmodel\u001b[38;5;241m.\u001b[39mA_W \u001b[38;5;241m+\u001b[39m model\u001b[38;5;241m.\u001b[39mA_C \u001b[38;5;241m+\u001b[39m model\u001b[38;5;241m.\u001b[39mA_SB \u001b[38;5;241m<\u001b[39m\u001b[38;5;241m=\u001b[39m model\u001b[38;5;241m.\u001b[39mA)\n",
      "File \u001b[1;32m~\\anaconda3\\Lib\\site-packages\\pyomo\\core\\base\\block.py:568\u001b[0m, in \u001b[0;36m_BlockData.__setattr__\u001b[1;34m(self, name, val)\u001b[0m\n\u001b[0;32m    563\u001b[0m \u001b[38;5;28;01mif\u001b[39;00m name \u001b[38;5;129;01mnot\u001b[39;00m \u001b[38;5;129;01min\u001b[39;00m \u001b[38;5;28mself\u001b[39m\u001b[38;5;241m.\u001b[39m\u001b[38;5;18m__dict__\u001b[39m:\n\u001b[0;32m    564\u001b[0m     \u001b[38;5;28;01mif\u001b[39;00m \u001b[38;5;28misinstance\u001b[39m(val, Component):\n\u001b[0;32m    565\u001b[0m         \u001b[38;5;66;03m#\u001b[39;00m\n\u001b[0;32m    566\u001b[0m         \u001b[38;5;66;03m# Pyomo components are added with the add_component method.\u001b[39;00m\n\u001b[0;32m    567\u001b[0m         \u001b[38;5;66;03m#\u001b[39;00m\n\u001b[1;32m--> 568\u001b[0m         \u001b[38;5;28mself\u001b[39m\u001b[38;5;241m.\u001b[39madd_component(name, val)\n\u001b[0;32m    569\u001b[0m     \u001b[38;5;28;01melse\u001b[39;00m:\n\u001b[0;32m    570\u001b[0m         \u001b[38;5;66;03m#\u001b[39;00m\n\u001b[0;32m    571\u001b[0m         \u001b[38;5;66;03m# Other Python objects are added with the standard __setattr__\u001b[39;00m\n\u001b[0;32m    572\u001b[0m         \u001b[38;5;66;03m# method.\u001b[39;00m\n\u001b[0;32m    573\u001b[0m         \u001b[38;5;66;03m#\u001b[39;00m\n\u001b[0;32m    574\u001b[0m         \u001b[38;5;28msuper\u001b[39m(_BlockData, \u001b[38;5;28mself\u001b[39m)\u001b[38;5;241m.\u001b[39m\u001b[38;5;21m__setattr__\u001b[39m(name, val)\n",
      "File \u001b[1;32m~\\anaconda3\\Lib\\site-packages\\pyomo\\core\\base\\block.py:1126\u001b[0m, in \u001b[0;36m_BlockData.add_component\u001b[1;34m(self, name, val)\u001b[0m\n\u001b[0;32m   1118\u001b[0m     logger\u001b[38;5;241m.\u001b[39mdebug(\n\u001b[0;32m   1119\u001b[0m         \u001b[38;5;124m\"\u001b[39m\u001b[38;5;124mConstructing \u001b[39m\u001b[38;5;132;01m%s\u001b[39;00m\u001b[38;5;124m \u001b[39m\u001b[38;5;124m'\u001b[39m\u001b[38;5;132;01m%s\u001b[39;00m\u001b[38;5;124m'\u001b[39m\u001b[38;5;124m on \u001b[39m\u001b[38;5;132;01m%s\u001b[39;00m\u001b[38;5;124m from data=\u001b[39m\u001b[38;5;132;01m%s\u001b[39;00m\u001b[38;5;124m\"\u001b[39m,\n\u001b[0;32m   1120\u001b[0m         val\u001b[38;5;241m.\u001b[39m\u001b[38;5;18m__class__\u001b[39m\u001b[38;5;241m.\u001b[39m\u001b[38;5;18m__name__\u001b[39m,\n\u001b[1;32m   (...)\u001b[0m\n\u001b[0;32m   1123\u001b[0m         \u001b[38;5;28mstr\u001b[39m(data),\n\u001b[0;32m   1124\u001b[0m     )\n\u001b[0;32m   1125\u001b[0m \u001b[38;5;28;01mtry\u001b[39;00m:\n\u001b[1;32m-> 1126\u001b[0m     val\u001b[38;5;241m.\u001b[39mconstruct(data)\n\u001b[0;32m   1127\u001b[0m \u001b[38;5;28;01mexcept\u001b[39;00m:\n\u001b[0;32m   1128\u001b[0m     err \u001b[38;5;241m=\u001b[39m sys\u001b[38;5;241m.\u001b[39mexc_info()[\u001b[38;5;241m1\u001b[39m]\n",
      "File \u001b[1;32m~\\anaconda3\\Lib\\site-packages\\pyomo\\core\\base\\objective.py:318\u001b[0m, in \u001b[0;36mObjective.construct\u001b[1;34m(self, data)\u001b[0m\n\u001b[0;32m    315\u001b[0m \u001b[38;5;28;01melse\u001b[39;00m:\n\u001b[0;32m    316\u001b[0m     \u001b[38;5;66;03m# Bypass the index validation and create the member directly\u001b[39;00m\n\u001b[0;32m    317\u001b[0m     \u001b[38;5;28;01mfor\u001b[39;00m index \u001b[38;5;129;01min\u001b[39;00m \u001b[38;5;28mself\u001b[39m\u001b[38;5;241m.\u001b[39mindex_set():\n\u001b[1;32m--> 318\u001b[0m         ans \u001b[38;5;241m=\u001b[39m \u001b[38;5;28mself\u001b[39m\u001b[38;5;241m.\u001b[39m_setitem_when_not_present(index, rule(block, index))\n\u001b[0;32m    319\u001b[0m         \u001b[38;5;28;01mif\u001b[39;00m ans \u001b[38;5;129;01mis\u001b[39;00m \u001b[38;5;129;01mnot\u001b[39;00m \u001b[38;5;28;01mNone\u001b[39;00m:\n\u001b[0;32m    320\u001b[0m             ans\u001b[38;5;241m.\u001b[39mset_sense(\u001b[38;5;28mself\u001b[39m\u001b[38;5;241m.\u001b[39m_init_sense(block, index))\n",
      "File \u001b[1;32m~\\anaconda3\\Lib\\site-packages\\pyomo\\core\\base\\initializer.py:438\u001b[0m, in \u001b[0;36mScalarCallInitializer.__call__\u001b[1;34m(self, parent, idx)\u001b[0m\n\u001b[0;32m    437\u001b[0m \u001b[38;5;28;01mdef\u001b[39;00m \u001b[38;5;21m__call__\u001b[39m(\u001b[38;5;28mself\u001b[39m, parent, idx):\n\u001b[1;32m--> 438\u001b[0m     \u001b[38;5;28;01mreturn\u001b[39;00m \u001b[38;5;28mself\u001b[39m\u001b[38;5;241m.\u001b[39m_fcn(parent)\n",
      "Cell \u001b[1;32mIn[86], line 31\u001b[0m, in \u001b[0;36mobjective_rule\u001b[1;34m(model)\u001b[0m\n\u001b[0;32m     30\u001b[0m \u001b[38;5;28;01mdef\u001b[39;00m \u001b[38;5;21mobjective_rule\u001b[39m(model):\n\u001b[1;32m---> 31\u001b[0m     \u001b[38;5;28;01mreturn\u001b[39;00m model\u001b[38;5;241m.\u001b[39mC_W \u001b[38;5;241m*\u001b[39m model\u001b[38;5;241m.\u001b[39mA_W \u001b[38;5;241m+\u001b[39m model\u001b[38;5;241m.\u001b[39mC_C \u001b[38;5;241m*\u001b[39m model\u001b[38;5;241m.\u001b[39mA_C \u001b[38;5;241m+\u001b[39m model\u001b[38;5;241m.\u001b[39mC_SB \u001b[38;5;241m*\u001b[39m model\u001b[38;5;241m.\u001b[39mA_SB \u001b[38;5;241m+\u001b[39m \u001b[38;5;241m1.4\u001b[39m \u001b[38;5;241m*\u001b[39m model\u001b[38;5;241m.\u001b[39mP_W \u001b[38;5;241m*\u001b[39m model\u001b[38;5;241m.\u001b[39mW_buy \u001b[38;5;241m+\u001b[39m \u001b[38;5;241m1.4\u001b[39m \u001b[38;5;241m*\u001b[39m model\u001b[38;5;241m.\u001b[39mP_C \u001b[38;5;241m*\u001b[39m model\u001b[38;5;241m.\u001b[39mC_buy \u001b[38;5;241m-\u001b[39m model\u001b[38;5;241m.\u001b[39mP_W \u001b[38;5;241m*\u001b[39m (model\u001b[38;5;241m.\u001b[39mY_W \u001b[38;5;241m*\u001b[39m model\u001b[38;5;241m.\u001b[39mA_W \u001b[38;5;241m-\u001b[39m model\u001b[38;5;241m.\u001b[39mW_buy) \u001b[38;5;241m-\u001b[39m model\u001b[38;5;241m.\u001b[39mP_C \u001b[38;5;241m*\u001b[39m (model\u001b[38;5;241m.\u001b[39mY_C \u001b[38;5;241m*\u001b[39m model\u001b[38;5;241m.\u001b[39mA_C \u001b[38;5;241m-\u001b[39m model\u001b[38;5;241m.\u001b[39mC_buy) \u001b[38;5;241m-\u001b[39m model\u001b[38;5;241m.\u001b[39mP_SB \u001b[38;5;241m*\u001b[39m pyo\u001b[38;5;241m.\u001b[39mmin(model\u001b[38;5;241m.\u001b[39mY_SB \u001b[38;5;241m*\u001b[39m model\u001b[38;5;241m.\u001b[39mA_SB, model\u001b[38;5;241m.\u001b[39mQ_SB) \u001b[38;5;241m-\u001b[39m model\u001b[38;5;241m.\u001b[39mP_SB_E \u001b[38;5;241m*\u001b[39m pyo\u001b[38;5;241m.\u001b[39mmax(\u001b[38;5;241m0\u001b[39m, model\u001b[38;5;241m.\u001b[39mY_SB \u001b[38;5;241m*\u001b[39m model\u001b[38;5;241m.\u001b[39mA_SB \u001b[38;5;241m-\u001b[39m model\u001b[38;5;241m.\u001b[39mQ_SB)\n",
      "File \u001b[1;32m~\\anaconda3\\Lib\\site-packages\\pyomo\\common\\deprecation.py:439\u001b[0m, in \u001b[0;36mrelocated_module_attribute.<locals>.__getattr__\u001b[1;34m(name)\u001b[0m\n\u001b[0;32m    437\u001b[0m \u001b[38;5;28;01melif\u001b[39;00m _mod_getattr \u001b[38;5;129;01mis\u001b[39;00m \u001b[38;5;129;01mnot\u001b[39;00m \u001b[38;5;28;01mNone\u001b[39;00m:\n\u001b[0;32m    438\u001b[0m     \u001b[38;5;28;01mreturn\u001b[39;00m _mod_getattr(name)\n\u001b[1;32m--> 439\u001b[0m \u001b[38;5;28;01mraise\u001b[39;00m \u001b[38;5;167;01mAttributeError\u001b[39;00m(\n\u001b[0;32m    440\u001b[0m     \u001b[38;5;124m\"\u001b[39m\u001b[38;5;124mmodule \u001b[39m\u001b[38;5;124m'\u001b[39m\u001b[38;5;132;01m%s\u001b[39;00m\u001b[38;5;124m'\u001b[39m\u001b[38;5;124m has no attribute \u001b[39m\u001b[38;5;124m'\u001b[39m\u001b[38;5;132;01m%s\u001b[39;00m\u001b[38;5;124m'\u001b[39m\u001b[38;5;124m\"\u001b[39m \u001b[38;5;241m%\u001b[39m (f_globals[\u001b[38;5;124m'\u001b[39m\u001b[38;5;124m__name__\u001b[39m\u001b[38;5;124m'\u001b[39m], name)\n\u001b[0;32m    441\u001b[0m )\n",
      "\u001b[1;31mAttributeError\u001b[0m: module 'pyomo.environ' has no attribute 'min'"
     ]
    }
   ],
   "source": [
    "import pyomo.environ as pyo\n",
    "\n",
    "# Define the model\n",
    "model = pyo.ConcreteModel()\n",
    "\n",
    "# Define the parameters\n",
    "model.A = pyo.Param(initialize=500)\n",
    "model.W_demand = pyo.Param(initialize=200)\n",
    "model.C_demand = pyo.Param(initialize=240)\n",
    "model.P_W = pyo.Param(initialize=170)\n",
    "model.P_C = pyo.Param(initialize=150)\n",
    "model.P_SB = pyo.Param(initialize=36)\n",
    "model.P_SB_E = pyo.Param(initialize=10)\n",
    "model.Q_SB = pyo.Param(initialize=6000)\n",
    "model.Y_W = pyo.Param(initialize=2.5)\n",
    "model.Y_C = pyo.Param(initialize=3)\n",
    "model.Y_SB = pyo.Param(initialize=20)\n",
    "model.C_W = pyo.Param(initialize=150)\n",
    "model.C_C = pyo.Param(initialize=230)\n",
    "model.C_SB = pyo.Param(initialize=260)\n",
    "\n",
    "# Define the decision variables\n",
    "model.A_W = pyo.Var(domain=pyo.NonNegativeReals)\n",
    "model.A_C = pyo.Var(domain=pyo.NonNegativeReals)\n",
    "model.A_SB = pyo.Var(domain=pyo.NonNegativeReals)\n",
    "model.W_buy = pyo.Var(domain=pyo.NonNegativeReals)\n",
    "model.C_buy = pyo.Var(domain=pyo.NonNegativeReals)\n",
    "\n",
    "# Define the objective function\n",
    "def objective_rule(model):\n",
    "    return model.C_W * model.A_W + model.C_C * model.A_C + model.C_SB * model.A_SB + 1.4 * model.P_W * model.W_buy + 1.4 * model.P_C * model.C_buy - model.P_W * (model.Y_W * model.A_W - model.W_buy) - model.P_C * (model.Y_C * model.A_C - model.C_buy) - model.P_SB * pyo.min(model.Y_SB * model.A_SB, model.Q_SB) - model.P_SB_E * pyo.max(0, model.Y_SB * model.A_SB - model.Q_SB)\n",
    "\n",
    "model.objective = pyo.Objective(rule=objective_rule, sense=pyo.minimize)\n",
    "\n",
    "# Define the constraints\n",
    "model.land_availability = pyo.Constraint(expr=model.A_W + model.A_C + model.A_SB <= model.A)\n",
    "model.wheat_demand = pyo.Constraint(expr=model.Y_W * model.A_W + model.W_buy >= model.W_demand)\n",
    "model.corn_demand = pyo.Constraint(expr=model.Y_C * model.A_C + model.C_buy >= model.C_demand)\n",
    "\n",
    "# Solve the model\n",
    "solver = pyo.SolverFactory('glpk')\n",
    "solver.solve(model)\n",
    "\n",
    "# Print the results\n",
    "print(\"Optimal Solution:\")\n",
    "print(f\"Acres of Wheat: {pyo.value(model.A_W)}\")\n",
    "print(f\"Acres of Corn: {pyo.value(model.A_C)}\")\n",
    "print(f\"Acres of Sugar Beets: {pyo.value(model.A_SB)}\")\n",
    "print(f\"Tons of Wheat to Buy: {pyo.value(model.W_buy)}\")\n",
    "print(f\"Tons of Corn to Buy: {pyo.value(model.C_buy)}\")\n",
    "print(f\"Total Cost: {pyo.value(model.objective)}\")"
   ]
  },
  {
   "cell_type": "markdown",
   "id": "1be0926e",
   "metadata": {},
   "source": [
    "## 5. Correct the code to verify model viability (optional)"
   ]
  },
  {
   "cell_type": "code",
   "execution_count": null,
   "id": "8b37acfc",
   "metadata": {
    "scrolled": false
   },
   "outputs": [],
   "source": []
  },
  {
   "cell_type": "markdown",
   "id": "6f93868f",
   "metadata": {},
   "source": [
    "## 6. Printing the outputs as strings, so they can be saved.\n",
    "Those can be rendered as markdown for better readability"
   ]
  },
  {
   "cell_type": "code",
   "execution_count": 88,
   "id": "e904cf68",
   "metadata": {},
   "outputs": [
    {
     "name": "stdout",
     "output_type": "stream",
     "text": [
      "## Mathematical Optimization Model for Farmer's Crop Planning\n",
      "\n",
      "**Parameters:**\n",
      "\n",
      "*  $A$: Total available land (acres) = 500\n",
      "*  $W_{demand}$: Wheat demand for cattle feed (tons) = 200\n",
      "*  $C_{demand}$: Corn demand for cattle feed (tons) = 240\n",
      "*  $P_W$: Selling price of wheat ($/ton) = 170\n",
      "*  $P_C$: Selling price of corn ($/ton) = 150\n",
      "*  $P_{SB}$: Selling price of sugar beets within quota ($/ton) = 36\n",
      "*  $P_{SB}^E$: Selling price of sugar beets exceeding quota ($/ton) = 10\n",
      "*  $Q_{SB}$: Sugar beet production quota (tons) = 6000\n",
      "*  $Y_W$: Yield of wheat (tons/acre) = 2.5\n",
      "*  $Y_C$: Yield of corn (tons/acre) = 3\n",
      "*  $Y_{SB}$: Yield of sugar beets (tons/acre) = 20\n",
      "*  $C_W$: Cost of planting wheat ($/acre) = 150\n",
      "*  $C_C$: Cost of planting corn ($/acre) = 230\n",
      "*  $C_{SB}$: Cost of planting sugar beets ($/acre) = 260\n",
      "\n",
      "**Decision Variables:**\n",
      "\n",
      "* $A_W$: Acres of land allocated to wheat\n",
      "* $A_C$: Acres of land allocated to corn\n",
      "* $A_{SB}$: Acres of land allocated to sugar beets\n",
      "* $W_{buy}$: Tons of wheat purchased\n",
      "* $C_{buy}$: Tons of corn purchased\n",
      "\n",
      "**Objective Function:** Minimize total cost\n",
      "\n",
      " $$Minimize\\  Z = C_W \\cdot A_W + C_C \\cdot A_C + C_{SB} \\cdot A_{SB} + 1.4 \\cdot P_W \\cdot W_{buy} + 1.4 \\cdot P_C \\cdot C_{buy} - P_W \\cdot (Y_W \\cdot A_W - W_{buy}) - P_C \\cdot (Y_C \\cdot A_C - C_{buy}) - P_{SB} \\cdot min(Y_{SB} \\cdot A_{SB}, Q_{SB}) - P_{SB}^E \\cdot max(0, Y_{SB} \\cdot A_{SB} - Q_{SB}) $$\n",
      "\n",
      "**Constraints:**\n",
      "\n",
      "* **Land availability:** $A_W + A_C + A_{SB} \\leq A$ \n",
      "* **Wheat demand:** $Y_W \\cdot A_W + W_{buy} \\geq W_{demand}$\n",
      "* **Corn demand:** $Y_C \\cdot A_C + C_{buy} \\geq C_{demand}$\n",
      "* **Non-negativity:** $A_W, A_C, A_{SB}, W_{buy}, C_{buy} \\geq 0$ \n",
      "\n",
      "**Explanation:**\n",
      "\n",
      "* **Objective Function:**\n",
      "    * Minimizes planting costs for all crops.\n",
      "    * Adds the cost of buying wheat and corn, considering the 40% markup.\n",
      "    * Subtracts revenue from selling excess wheat and corn production.\n",
      "    * Subtracts revenue from selling sugar beets, considering both the quota price and the excess production price.\n",
      "* **Constraints:**\n",
      "    * Ensures that total land allocation doesn't exceed available land.\n",
      "    * Guarantees the minimum required wheat and corn for cattle feed is met through production and purchase.\n",
      "    * Ensures that all decision variables are non-negative.\n",
      "\n",
      "This model allows the farmer to determine the optimal land allocation for each crop and the amount of wheat and corn to purchase to minimize her total costs while meeting her cattle feed requirements and considering the sugar beet quota.\n",
      "\n"
     ]
    }
   ],
   "source": [
    "print(response.text)"
   ]
  },
  {
   "cell_type": "code",
   "execution_count": 89,
   "id": "859eaf28",
   "metadata": {
    "scrolled": false
   },
   "outputs": [
    {
     "name": "stdout",
     "output_type": "stream",
     "text": [
      "```python\n",
      "import pyomo.environ as pyo\n",
      "\n",
      "# Define the model\n",
      "model = pyo.ConcreteModel()\n",
      "\n",
      "# Define the parameters\n",
      "model.A = pyo.Param(initialize=500)\n",
      "model.W_demand = pyo.Param(initialize=200)\n",
      "model.C_demand = pyo.Param(initialize=240)\n",
      "model.P_W = pyo.Param(initialize=170)\n",
      "model.P_C = pyo.Param(initialize=150)\n",
      "model.P_SB = pyo.Param(initialize=36)\n",
      "model.P_SB_E = pyo.Param(initialize=10)\n",
      "model.Q_SB = pyo.Param(initialize=6000)\n",
      "model.Y_W = pyo.Param(initialize=2.5)\n",
      "model.Y_C = pyo.Param(initialize=3)\n",
      "model.Y_SB = pyo.Param(initialize=20)\n",
      "model.C_W = pyo.Param(initialize=150)\n",
      "model.C_C = pyo.Param(initialize=230)\n",
      "model.C_SB = pyo.Param(initialize=260)\n",
      "\n",
      "# Define the decision variables\n",
      "model.A_W = pyo.Var(domain=pyo.NonNegativeReals)\n",
      "model.A_C = pyo.Var(domain=pyo.NonNegativeReals)\n",
      "model.A_SB = pyo.Var(domain=pyo.NonNegativeReals)\n",
      "model.W_buy = pyo.Var(domain=pyo.NonNegativeReals)\n",
      "model.C_buy = pyo.Var(domain=pyo.NonNegativeReals)\n",
      "\n",
      "# Define the objective function\n",
      "def objective_rule(model):\n",
      "    return model.C_W * model.A_W + model.C_C * model.A_C + model.C_SB * model.A_SB + 1.4 * model.P_W * model.W_buy + 1.4 * model.P_C * model.C_buy - model.P_W * (model.Y_W * model.A_W - model.W_buy) - model.P_C * (model.Y_C * model.A_C - model.C_buy) - model.P_SB * pyo.min(model.Y_SB * model.A_SB, model.Q_SB) - model.P_SB_E * pyo.max(0, model.Y_SB * model.A_SB - model.Q_SB)\n",
      "\n",
      "model.objective = pyo.Objective(rule=objective_rule, sense=pyo.minimize)\n",
      "\n",
      "# Define the constraints\n",
      "model.land_availability = pyo.Constraint(expr=model.A_W + model.A_C + model.A_SB <= model.A)\n",
      "model.wheat_demand = pyo.Constraint(expr=model.Y_W * model.A_W + model.W_buy >= model.W_demand)\n",
      "model.corn_demand = pyo.Constraint(expr=model.Y_C * model.A_C + model.C_buy >= model.C_demand)\n",
      "\n",
      "# Solve the model\n",
      "solver = pyo.SolverFactory('glpk')\n",
      "solver.solve(model)\n",
      "\n",
      "# Print the results\n",
      "print(\"Optimal Solution:\")\n",
      "print(f\"Acres of Wheat: {pyo.value(model.A_W)}\")\n",
      "print(f\"Acres of Corn: {pyo.value(model.A_C)}\")\n",
      "print(f\"Acres of Sugar Beets: {pyo.value(model.A_SB)}\")\n",
      "print(f\"Tons of Wheat to Buy: {pyo.value(model.W_buy)}\")\n",
      "print(f\"Tons of Corn to Buy: {pyo.value(model.C_buy)}\")\n",
      "print(f\"Total Cost: {pyo.value(model.objective)}\")\n",
      "```\n",
      "\n",
      "**Sample Data:** The sample data is defined in the \"Define the parameters\" section of the code. For example, `model.A = pyo.Param(initialize=500)` sets the total available land to 500 acres. \n",
      "\n"
     ]
    }
   ],
   "source": [
    "print(response2.text)"
   ]
  }
 ],
 "metadata": {
  "kernelspec": {
   "display_name": "Python 3 (ipykernel)",
   "language": "python",
   "name": "python3"
  },
  "language_info": {
   "codemirror_mode": {
    "name": "ipython",
    "version": 3
   },
   "file_extension": ".py",
   "mimetype": "text/x-python",
   "name": "python",
   "nbconvert_exporter": "python",
   "pygments_lexer": "ipython3",
   "version": "3.11.4"
  }
 },
 "nbformat": 4,
 "nbformat_minor": 5
}
