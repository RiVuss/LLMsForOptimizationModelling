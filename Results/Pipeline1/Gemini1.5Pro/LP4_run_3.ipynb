{
 "cells": [
  {
   "cell_type": "markdown",
   "id": "0df7edfd",
   "metadata": {},
   "source": [
    "# LLM Optimization Modelling Experiment"
   ]
  },
  {
   "cell_type": "code",
   "execution_count": 661,
   "id": "7f664028",
   "metadata": {},
   "outputs": [],
   "source": [
    "import vertexai\n",
    "from vertexai.preview.generative_models import GenerativeModel\n",
    "from IPython.display import Markdown"
   ]
  },
  {
   "cell_type": "markdown",
   "id": "c106f1be",
   "metadata": {},
   "source": [
    "## 1. Define the problem description"
   ]
  },
  {
   "cell_type": "code",
   "execution_count": 662,
   "id": "9adce4b2",
   "metadata": {},
   "outputs": [],
   "source": [
    "problem = '''Consider a farmer who specializes in raising wheat, corn, and sugar beets on her 500 acres of land. During the winter, she wants to decide how much land to devote to each crop.\n",
    "\n",
    "The farmer knows that at least 200 tons (T) of wheat and 240 T of corn are needed for cattle feed. These amounts can be raised on the farm or bought from a wholesaler.\n",
    "Any production in excess of the feeding requirement would be sold.\n",
    "\n",
    "Over the last decade, mean selling prices have been $170 and $150 per ton of wheat and corn, respectively.\n",
    "The purchase prices are 40% more than this due to the wholesaler’s margin and transportation costs.\n",
    "\n",
    "Another profitable crop is sugar beet, which she expects to sell at $36/T. However, the European Commission imposes a quota on sugar beet production. Any amount in excess of the quota can be sold only at $10/T. The farmer’s quota for next year is 6000 T.\n",
    "\n",
    "Based on past experience, the farmer knows that the mean yield on her land is roughly 2.5 T, 3 T, and 20 T per acre for wheat, corn, and sugar beets, respectively. It costs $150 to plant an acre of wheat, $230 to pant an acre of corn and $260 to plant an acre of sugar beets. \n",
    "\n",
    "The farmer can decide how much of her land she will use to grow each of the three products: wheat, corn and sugar beets. The goal of the farmer is to minimize her total costs (where sales are considered as negative costs).'''"
   ]
  },
  {
   "cell_type": "markdown",
   "id": "063be1a3",
   "metadata": {},
   "source": [
    "## 2. Generate the mathematical model"
   ]
  },
  {
   "cell_type": "code",
   "execution_count": 667,
   "id": "e31ec80c",
   "metadata": {},
   "outputs": [],
   "source": [
    "#Initializing the session. To replicate, make sure the right credentials are saved in a PATH variable\n",
    "PROJECT_ID = \"llm4optproblems\"\n",
    "REGION = \"us-central1\"\n",
    "vertexai.init(project=PROJECT_ID, location=REGION)\n",
    "\n",
    "#Specifying the model\n",
    "generative_multimodal_model = GenerativeModel(\"gemini-1.5-pro-preview-0409\")\n",
    "\n",
    "#The propmt applied to all problems\n",
    "prompt = '''Let's think step by step. Please write a mathematical optimization model for this problem. If there are parameter values, make sure to include them in the mathematical formulation.\n",
    "'''\n",
    "\n",
    "#Generate the response\n",
    "response = generative_multimodal_model.generate_content([prompt+problem])\n"
   ]
  },
  {
   "cell_type": "code",
   "execution_count": 668,
   "id": "f9adc567",
   "metadata": {},
   "outputs": [
    {
     "data": {
      "text/markdown": [
       "## Mathematical Optimization Model for Farmer's Crop Planning\n",
       "\n",
       "**Sets:**\n",
       "\n",
       "* I = {Wheat, Corn, Sugar Beets} : Set of crops\n",
       "\n",
       "**Parameters:**\n",
       "\n",
       "* A = 500 : Total acres of land available\n",
       "*  $D_{wheat}$ = 200 : Demand for wheat (tons)\n",
       "*  $D_{corn}$ = 240 : Demand for corn (tons)\n",
       "*  $SP_{wheat}$ = 170 : Selling price of wheat ($/ton)\n",
       "*  $SP_{corn}$ = 150 : Selling price of corn ($/ton)\n",
       "*  $SP_{beets}$ = 36 : Selling price of sugar beets within quota ($/ton)\n",
       "*  $SP_{beets\\_excess}$ = 10 : Selling price of sugar beets exceeding quota ($/ton)\n",
       "*  $PP_{wheat}$ = 240 : Purchase price of wheat ($/ton)\n",
       "*  $PP_{corn}$ = 210 : Purchase price of corn ($/ton)\n",
       "*  $Q_{beets}$ = 6000 : Quota for sugar beets (tons)\n",
       "* $Y_{wheat}$ = 2.5 : Yield of wheat (tons/acre)\n",
       "* $Y_{corn}$ = 3 : Yield of corn (tons/acre)\n",
       "* $Y_{beets}$ = 20 : Yield of sugar beets (tons/acre)\n",
       "* $C_{wheat}$ = 150 : Cost of planting wheat ($/acre)\n",
       "* $C_{corn}$ = 230 : Cost of planting corn ($/acre)\n",
       "* $C_{beets}$ = 260 : Cost of planting sugar beets ($/acre)\n",
       "\n",
       "**Decision Variables:**\n",
       "\n",
       "*  $x_i$ : Acres of land dedicated to crop $i \\in I$\n",
       "*  $p_i$: Tons of crop $i \\in \\{Wheat, Corn\\}$ purchased\n",
       "*  $s_i$: Tons of crop $i \\in I$ sold\n",
       "\n",
       "**Objective Function:**\n",
       "\n",
       "Minimize total cost:\n",
       "\n",
       " $$ Minimize \\sum_{i \\in I} C_i \\cdot x_i + \\sum_{i \\in \\{Wheat, Corn\\}} PP_i \\cdot p_i - \\sum_{i \\in I} SP_i \\cdot s_i - SP_{beets\\_excess} \\cdot max(0, s_{beets} - Q_{beets})$$\n",
       "\n",
       "**Constraints:**\n",
       "\n",
       "* Land availability: \n",
       "$$\\sum_{i \\in I} x_i \\leq A $$\n",
       "\n",
       "* Production and purchase meets demand:\n",
       "$$Y_{wheat} \\cdot x_{wheat} + p_{wheat} \\geq D_{wheat}$$\n",
       "$$Y_{corn} \\cdot x_{corn} + p_{corn} \\geq D_{corn}$$\n",
       "\n",
       "* Production and sales balance:\n",
       "$$Y_{wheat} \\cdot x_{wheat} - s_{wheat} = D_{wheat}$$\n",
       "$$Y_{corn} \\cdot x_{corn} - s_{corn} = D_{corn}$$\n",
       "$$Y_{beets} \\cdot x_{beets} = s_{beets}$$\n",
       "\n",
       "* Non-negativity:\n",
       "$$x_i, p_i, s_i \\geq 0,  \\forall i \\in I$$ \n",
       "\n",
       "This model aims to minimize the total costs associated with planting, purchasing, and selling crops. It takes into account the demand for cattle feed, the selling prices of each crop, the yield of each crop per acre, and the costs associated with planting each crop. The model also considers the sugar beet quota imposed by the European Commission and the lower selling price for beets exceeding the quota. \n"
      ],
      "text/plain": [
       "<IPython.core.display.Markdown object>"
      ]
     },
     "execution_count": 668,
     "metadata": {},
     "output_type": "execute_result"
    }
   ],
   "source": [
    "#Show the resopnse in a formatted way\n",
    "Markdown(response.text)"
   ]
  },
  {
   "cell_type": "markdown",
   "id": "49104a9a",
   "metadata": {},
   "source": [
    "## 3. Generate the pyomo code"
   ]
  },
  {
   "cell_type": "code",
   "execution_count": 669,
   "id": "aabea932",
   "metadata": {},
   "outputs": [],
   "source": [
    "#Second prompt gets the output of the previous step and generates the code\n",
    "prompt2 = \"Please write pyomo code for this mathematical problem. Use sample data where needed. Indicate where you use sample data. \\n\"\n",
    "prompt2 += response.text \n",
    "response2 = generative_multimodal_model.generate_content([prompt2])"
   ]
  },
  {
   "cell_type": "code",
   "execution_count": 670,
   "id": "fd2835af",
   "metadata": {
    "scrolled": false
   },
   "outputs": [
    {
     "data": {
      "text/markdown": [
       "```python\n",
       "import pyomo.environ as pyo\n",
       "\n",
       "# Define sets\n",
       "I = [\"Wheat\", \"Corn\", \"Sugar Beets\"]\n",
       "\n",
       "# Define parameters (Sample Data)\n",
       "A = 500\n",
       "D = {\"Wheat\": 200, \"Corn\": 240}\n",
       "SP = {\"Wheat\": 170, \"Corn\": 150, \"Sugar Beets\": 36}\n",
       "SP_excess = {\"Sugar Beets\": 10}  \n",
       "PP = {\"Wheat\": 240, \"Corn\": 210}\n",
       "Q = {\"Sugar Beets\": 6000}\n",
       "Y = {\"Wheat\": 2.5, \"Corn\": 3, \"Sugar Beets\": 20}\n",
       "C = {\"Wheat\": 150, \"Corn\": 230, \"Sugar Beets\": 260}\n",
       "\n",
       "# Create a model\n",
       "model = pyo.ConcreteModel()\n",
       "\n",
       "# Decision variables\n",
       "model.x = pyo.Var(I, domain=pyo.NonNegativeReals) # Acres of land dedicated to each crop\n",
       "model.p = pyo.Var([\"Wheat\", \"Corn\"], domain=pyo.NonNegativeReals) # Tons of wheat/corn purchased\n",
       "model.s = pyo.Var(I, domain=pyo.NonNegativeReals) # Tons of each crop sold\n",
       "\n",
       "# Objective function\n",
       "def objective_rule(model):\n",
       "    return sum(C[i] * model.x[i] for i in I) + sum(PP[i] * model.p[i] for i in [\"Wheat\", \"Corn\"]) - sum(SP[i] * model.s[i] for i in I) - SP_excess[\"Sugar Beets\"] * pyo.max(0, model.s[\"Sugar Beets\"] - Q[\"Sugar Beets\"])\n",
       "\n",
       "model.objective = pyo.Objective(rule=objective_rule, sense=pyo.minimize)\n",
       "\n",
       "# Constraints\n",
       "# Land availability\n",
       "model.land_constraint = pyo.Constraint(expr=sum(model.x[i] for i in I) <= A)\n",
       "\n",
       "# Production and purchase meets demand\n",
       "model.demand_wheat = pyo.Constraint(expr=Y[\"Wheat\"] * model.x[\"Wheat\"] + model.p[\"Wheat\"] >= D[\"Wheat\"])\n",
       "model.demand_corn = pyo.Constraint(expr=Y[\"Corn\"] * model.x[\"Corn\"] + model.p[\"Corn\"] >= D[\"Corn\"])\n",
       "\n",
       "# Production and sales balance\n",
       "model.balance_wheat = pyo.Constraint(expr=Y[\"Wheat\"] * model.x[\"Wheat\"] - model.s[\"Wheat\"] == D[\"Wheat\"]) \n",
       "model.balance_corn = pyo.Constraint(expr=Y[\"Corn\"] * model.x[\"Corn\"] - model.s[\"Corn\"] == D[\"Corn\"])\n",
       "model.balance_beets = pyo.Constraint(expr=Y[\"Sugar Beets\"] * model.x[\"Sugar Beets\"] == model.s[\"Sugar Beets\"])\n",
       "\n",
       "# Solve the model\n",
       "solver = pyo.SolverFactory('glpk')  # You can use other solvers like 'gurobi', 'cplex', etc.\n",
       "solver.solve(model)\n",
       "\n",
       "# Print the results\n",
       "print(\"Optimal solution:\")\n",
       "print(f\"Wheat acres: {model.x['Wheat'].value}\")\n",
       "print(f\"Corn acres: {model.x['Corn'].value}\")\n",
       "print(f\"Sugar Beet acres: {model.x['Sugar Beets'].value}\")\n",
       "print(f\"Wheat purchased: {model.p['Wheat'].value}\")\n",
       "print(f\"Corn purchased: {model.p['Corn'].value}\")\n",
       "print(f\"Wheat sold: {model.s['Wheat'].value}\")\n",
       "print(f\"Corn sold: {model.s['Corn'].value}\")\n",
       "print(f\"Sugar Beets sold: {model.s['Sugar Beets'].value}\")\n",
       "print(f\"Total cost: {model.objective()}\")\n",
       "```\n"
      ],
      "text/plain": [
       "<IPython.core.display.Markdown object>"
      ]
     },
     "execution_count": 670,
     "metadata": {},
     "output_type": "execute_result"
    }
   ],
   "source": [
    "#Showing the code in a formatted way\n",
    "Markdown(response2.text)"
   ]
  },
  {
   "cell_type": "markdown",
   "id": "b60756ae",
   "metadata": {},
   "source": [
    "## 4. Input problem data and try running the generated code"
   ]
  },
  {
   "cell_type": "code",
   "execution_count": 671,
   "id": "a8939d77",
   "metadata": {},
   "outputs": [
    {
     "name": "stdout",
     "output_type": "stream",
     "text": [
      "ERROR: Rule failed when generating expression for Objective objective with\n",
      "index None: AttributeError: module 'pyomo.environ' has no attribute 'max'\n",
      "ERROR: Constructing component 'objective' from data=None failed:\n",
      "        AttributeError: module 'pyomo.environ' has no attribute 'max'\n"
     ]
    },
    {
     "ename": "AttributeError",
     "evalue": "module 'pyomo.environ' has no attribute 'max'",
     "output_type": "error",
     "traceback": [
      "\u001b[1;31m---------------------------------------------------------------------------\u001b[0m",
      "\u001b[1;31mAttributeError\u001b[0m                            Traceback (most recent call last)",
      "Cell \u001b[1;32mIn[671], line 28\u001b[0m\n\u001b[0;32m     25\u001b[0m \u001b[38;5;28;01mdef\u001b[39;00m \u001b[38;5;21mobjective_rule\u001b[39m(model):\n\u001b[0;32m     26\u001b[0m     \u001b[38;5;28;01mreturn\u001b[39;00m \u001b[38;5;28msum\u001b[39m(C[i] \u001b[38;5;241m*\u001b[39m model\u001b[38;5;241m.\u001b[39mx[i] \u001b[38;5;28;01mfor\u001b[39;00m i \u001b[38;5;129;01min\u001b[39;00m I) \u001b[38;5;241m+\u001b[39m \u001b[38;5;28msum\u001b[39m(PP[i] \u001b[38;5;241m*\u001b[39m model\u001b[38;5;241m.\u001b[39mp[i] \u001b[38;5;28;01mfor\u001b[39;00m i \u001b[38;5;129;01min\u001b[39;00m [\u001b[38;5;124m\"\u001b[39m\u001b[38;5;124mWheat\u001b[39m\u001b[38;5;124m\"\u001b[39m, \u001b[38;5;124m\"\u001b[39m\u001b[38;5;124mCorn\u001b[39m\u001b[38;5;124m\"\u001b[39m]) \u001b[38;5;241m-\u001b[39m \u001b[38;5;28msum\u001b[39m(SP[i] \u001b[38;5;241m*\u001b[39m model\u001b[38;5;241m.\u001b[39ms[i] \u001b[38;5;28;01mfor\u001b[39;00m i \u001b[38;5;129;01min\u001b[39;00m I) \u001b[38;5;241m-\u001b[39m SP_excess[\u001b[38;5;124m\"\u001b[39m\u001b[38;5;124mSugar Beets\u001b[39m\u001b[38;5;124m\"\u001b[39m] \u001b[38;5;241m*\u001b[39m pyo\u001b[38;5;241m.\u001b[39mmax(\u001b[38;5;241m0\u001b[39m, model\u001b[38;5;241m.\u001b[39ms[\u001b[38;5;124m\"\u001b[39m\u001b[38;5;124mSugar Beets\u001b[39m\u001b[38;5;124m\"\u001b[39m] \u001b[38;5;241m-\u001b[39m Q[\u001b[38;5;124m\"\u001b[39m\u001b[38;5;124mSugar Beets\u001b[39m\u001b[38;5;124m\"\u001b[39m])\n\u001b[1;32m---> 28\u001b[0m model\u001b[38;5;241m.\u001b[39mobjective \u001b[38;5;241m=\u001b[39m pyo\u001b[38;5;241m.\u001b[39mObjective(rule\u001b[38;5;241m=\u001b[39mobjective_rule, sense\u001b[38;5;241m=\u001b[39mpyo\u001b[38;5;241m.\u001b[39mminimize)\n\u001b[0;32m     30\u001b[0m \u001b[38;5;66;03m# Constraints\u001b[39;00m\n\u001b[0;32m     31\u001b[0m \u001b[38;5;66;03m# Land availability\u001b[39;00m\n\u001b[0;32m     32\u001b[0m model\u001b[38;5;241m.\u001b[39mland_constraint \u001b[38;5;241m=\u001b[39m pyo\u001b[38;5;241m.\u001b[39mConstraint(expr\u001b[38;5;241m=\u001b[39m\u001b[38;5;28msum\u001b[39m(model\u001b[38;5;241m.\u001b[39mx[i] \u001b[38;5;28;01mfor\u001b[39;00m i \u001b[38;5;129;01min\u001b[39;00m I) \u001b[38;5;241m<\u001b[39m\u001b[38;5;241m=\u001b[39m A)\n",
      "File \u001b[1;32m~\\anaconda3\\Lib\\site-packages\\pyomo\\core\\base\\block.py:568\u001b[0m, in \u001b[0;36m_BlockData.__setattr__\u001b[1;34m(self, name, val)\u001b[0m\n\u001b[0;32m    563\u001b[0m \u001b[38;5;28;01mif\u001b[39;00m name \u001b[38;5;129;01mnot\u001b[39;00m \u001b[38;5;129;01min\u001b[39;00m \u001b[38;5;28mself\u001b[39m\u001b[38;5;241m.\u001b[39m\u001b[38;5;18m__dict__\u001b[39m:\n\u001b[0;32m    564\u001b[0m     \u001b[38;5;28;01mif\u001b[39;00m \u001b[38;5;28misinstance\u001b[39m(val, Component):\n\u001b[0;32m    565\u001b[0m         \u001b[38;5;66;03m#\u001b[39;00m\n\u001b[0;32m    566\u001b[0m         \u001b[38;5;66;03m# Pyomo components are added with the add_component method.\u001b[39;00m\n\u001b[0;32m    567\u001b[0m         \u001b[38;5;66;03m#\u001b[39;00m\n\u001b[1;32m--> 568\u001b[0m         \u001b[38;5;28mself\u001b[39m\u001b[38;5;241m.\u001b[39madd_component(name, val)\n\u001b[0;32m    569\u001b[0m     \u001b[38;5;28;01melse\u001b[39;00m:\n\u001b[0;32m    570\u001b[0m         \u001b[38;5;66;03m#\u001b[39;00m\n\u001b[0;32m    571\u001b[0m         \u001b[38;5;66;03m# Other Python objects are added with the standard __setattr__\u001b[39;00m\n\u001b[0;32m    572\u001b[0m         \u001b[38;5;66;03m# method.\u001b[39;00m\n\u001b[0;32m    573\u001b[0m         \u001b[38;5;66;03m#\u001b[39;00m\n\u001b[0;32m    574\u001b[0m         \u001b[38;5;28msuper\u001b[39m(_BlockData, \u001b[38;5;28mself\u001b[39m)\u001b[38;5;241m.\u001b[39m\u001b[38;5;21m__setattr__\u001b[39m(name, val)\n",
      "File \u001b[1;32m~\\anaconda3\\Lib\\site-packages\\pyomo\\core\\base\\block.py:1126\u001b[0m, in \u001b[0;36m_BlockData.add_component\u001b[1;34m(self, name, val)\u001b[0m\n\u001b[0;32m   1118\u001b[0m     logger\u001b[38;5;241m.\u001b[39mdebug(\n\u001b[0;32m   1119\u001b[0m         \u001b[38;5;124m\"\u001b[39m\u001b[38;5;124mConstructing \u001b[39m\u001b[38;5;132;01m%s\u001b[39;00m\u001b[38;5;124m \u001b[39m\u001b[38;5;124m'\u001b[39m\u001b[38;5;132;01m%s\u001b[39;00m\u001b[38;5;124m'\u001b[39m\u001b[38;5;124m on \u001b[39m\u001b[38;5;132;01m%s\u001b[39;00m\u001b[38;5;124m from data=\u001b[39m\u001b[38;5;132;01m%s\u001b[39;00m\u001b[38;5;124m\"\u001b[39m,\n\u001b[0;32m   1120\u001b[0m         val\u001b[38;5;241m.\u001b[39m\u001b[38;5;18m__class__\u001b[39m\u001b[38;5;241m.\u001b[39m\u001b[38;5;18m__name__\u001b[39m,\n\u001b[1;32m   (...)\u001b[0m\n\u001b[0;32m   1123\u001b[0m         \u001b[38;5;28mstr\u001b[39m(data),\n\u001b[0;32m   1124\u001b[0m     )\n\u001b[0;32m   1125\u001b[0m \u001b[38;5;28;01mtry\u001b[39;00m:\n\u001b[1;32m-> 1126\u001b[0m     val\u001b[38;5;241m.\u001b[39mconstruct(data)\n\u001b[0;32m   1127\u001b[0m \u001b[38;5;28;01mexcept\u001b[39;00m:\n\u001b[0;32m   1128\u001b[0m     err \u001b[38;5;241m=\u001b[39m sys\u001b[38;5;241m.\u001b[39mexc_info()[\u001b[38;5;241m1\u001b[39m]\n",
      "File \u001b[1;32m~\\anaconda3\\Lib\\site-packages\\pyomo\\core\\base\\objective.py:318\u001b[0m, in \u001b[0;36mObjective.construct\u001b[1;34m(self, data)\u001b[0m\n\u001b[0;32m    315\u001b[0m \u001b[38;5;28;01melse\u001b[39;00m:\n\u001b[0;32m    316\u001b[0m     \u001b[38;5;66;03m# Bypass the index validation and create the member directly\u001b[39;00m\n\u001b[0;32m    317\u001b[0m     \u001b[38;5;28;01mfor\u001b[39;00m index \u001b[38;5;129;01min\u001b[39;00m \u001b[38;5;28mself\u001b[39m\u001b[38;5;241m.\u001b[39mindex_set():\n\u001b[1;32m--> 318\u001b[0m         ans \u001b[38;5;241m=\u001b[39m \u001b[38;5;28mself\u001b[39m\u001b[38;5;241m.\u001b[39m_setitem_when_not_present(index, rule(block, index))\n\u001b[0;32m    319\u001b[0m         \u001b[38;5;28;01mif\u001b[39;00m ans \u001b[38;5;129;01mis\u001b[39;00m \u001b[38;5;129;01mnot\u001b[39;00m \u001b[38;5;28;01mNone\u001b[39;00m:\n\u001b[0;32m    320\u001b[0m             ans\u001b[38;5;241m.\u001b[39mset_sense(\u001b[38;5;28mself\u001b[39m\u001b[38;5;241m.\u001b[39m_init_sense(block, index))\n",
      "File \u001b[1;32m~\\anaconda3\\Lib\\site-packages\\pyomo\\core\\base\\initializer.py:438\u001b[0m, in \u001b[0;36mScalarCallInitializer.__call__\u001b[1;34m(self, parent, idx)\u001b[0m\n\u001b[0;32m    437\u001b[0m \u001b[38;5;28;01mdef\u001b[39;00m \u001b[38;5;21m__call__\u001b[39m(\u001b[38;5;28mself\u001b[39m, parent, idx):\n\u001b[1;32m--> 438\u001b[0m     \u001b[38;5;28;01mreturn\u001b[39;00m \u001b[38;5;28mself\u001b[39m\u001b[38;5;241m.\u001b[39m_fcn(parent)\n",
      "Cell \u001b[1;32mIn[671], line 26\u001b[0m, in \u001b[0;36mobjective_rule\u001b[1;34m(model)\u001b[0m\n\u001b[0;32m     25\u001b[0m \u001b[38;5;28;01mdef\u001b[39;00m \u001b[38;5;21mobjective_rule\u001b[39m(model):\n\u001b[1;32m---> 26\u001b[0m     \u001b[38;5;28;01mreturn\u001b[39;00m \u001b[38;5;28msum\u001b[39m(C[i] \u001b[38;5;241m*\u001b[39m model\u001b[38;5;241m.\u001b[39mx[i] \u001b[38;5;28;01mfor\u001b[39;00m i \u001b[38;5;129;01min\u001b[39;00m I) \u001b[38;5;241m+\u001b[39m \u001b[38;5;28msum\u001b[39m(PP[i] \u001b[38;5;241m*\u001b[39m model\u001b[38;5;241m.\u001b[39mp[i] \u001b[38;5;28;01mfor\u001b[39;00m i \u001b[38;5;129;01min\u001b[39;00m [\u001b[38;5;124m\"\u001b[39m\u001b[38;5;124mWheat\u001b[39m\u001b[38;5;124m\"\u001b[39m, \u001b[38;5;124m\"\u001b[39m\u001b[38;5;124mCorn\u001b[39m\u001b[38;5;124m\"\u001b[39m]) \u001b[38;5;241m-\u001b[39m \u001b[38;5;28msum\u001b[39m(SP[i] \u001b[38;5;241m*\u001b[39m model\u001b[38;5;241m.\u001b[39ms[i] \u001b[38;5;28;01mfor\u001b[39;00m i \u001b[38;5;129;01min\u001b[39;00m I) \u001b[38;5;241m-\u001b[39m SP_excess[\u001b[38;5;124m\"\u001b[39m\u001b[38;5;124mSugar Beets\u001b[39m\u001b[38;5;124m\"\u001b[39m] \u001b[38;5;241m*\u001b[39m pyo\u001b[38;5;241m.\u001b[39mmax(\u001b[38;5;241m0\u001b[39m, model\u001b[38;5;241m.\u001b[39ms[\u001b[38;5;124m\"\u001b[39m\u001b[38;5;124mSugar Beets\u001b[39m\u001b[38;5;124m\"\u001b[39m] \u001b[38;5;241m-\u001b[39m Q[\u001b[38;5;124m\"\u001b[39m\u001b[38;5;124mSugar Beets\u001b[39m\u001b[38;5;124m\"\u001b[39m])\n",
      "File \u001b[1;32m~\\anaconda3\\Lib\\site-packages\\pyomo\\common\\deprecation.py:439\u001b[0m, in \u001b[0;36mrelocated_module_attribute.<locals>.__getattr__\u001b[1;34m(name)\u001b[0m\n\u001b[0;32m    437\u001b[0m \u001b[38;5;28;01melif\u001b[39;00m _mod_getattr \u001b[38;5;129;01mis\u001b[39;00m \u001b[38;5;129;01mnot\u001b[39;00m \u001b[38;5;28;01mNone\u001b[39;00m:\n\u001b[0;32m    438\u001b[0m     \u001b[38;5;28;01mreturn\u001b[39;00m _mod_getattr(name)\n\u001b[1;32m--> 439\u001b[0m \u001b[38;5;28;01mraise\u001b[39;00m \u001b[38;5;167;01mAttributeError\u001b[39;00m(\n\u001b[0;32m    440\u001b[0m     \u001b[38;5;124m\"\u001b[39m\u001b[38;5;124mmodule \u001b[39m\u001b[38;5;124m'\u001b[39m\u001b[38;5;132;01m%s\u001b[39;00m\u001b[38;5;124m'\u001b[39m\u001b[38;5;124m has no attribute \u001b[39m\u001b[38;5;124m'\u001b[39m\u001b[38;5;132;01m%s\u001b[39;00m\u001b[38;5;124m'\u001b[39m\u001b[38;5;124m\"\u001b[39m \u001b[38;5;241m%\u001b[39m (f_globals[\u001b[38;5;124m'\u001b[39m\u001b[38;5;124m__name__\u001b[39m\u001b[38;5;124m'\u001b[39m], name)\n\u001b[0;32m    441\u001b[0m )\n",
      "\u001b[1;31mAttributeError\u001b[0m: module 'pyomo.environ' has no attribute 'max'"
     ]
    }
   ],
   "source": [
    "import pyomo.environ as pyo\n",
    "\n",
    "# Define sets\n",
    "I = [\"Wheat\", \"Corn\", \"Sugar Beets\"]\n",
    "\n",
    "# Define parameters (Sample Data)\n",
    "A = 500\n",
    "D = {\"Wheat\": 200, \"Corn\": 240}\n",
    "SP = {\"Wheat\": 170, \"Corn\": 150, \"Sugar Beets\": 36}\n",
    "SP_excess = {\"Sugar Beets\": 10}  \n",
    "PP = {\"Wheat\": 240, \"Corn\": 210}\n",
    "Q = {\"Sugar Beets\": 6000}\n",
    "Y = {\"Wheat\": 2.5, \"Corn\": 3, \"Sugar Beets\": 20}\n",
    "C = {\"Wheat\": 150, \"Corn\": 230, \"Sugar Beets\": 260}\n",
    "\n",
    "# Create a model\n",
    "model = pyo.ConcreteModel()\n",
    "\n",
    "# Decision variables\n",
    "model.x = pyo.Var(I, domain=pyo.NonNegativeReals) # Acres of land dedicated to each crop\n",
    "model.p = pyo.Var([\"Wheat\", \"Corn\"], domain=pyo.NonNegativeReals) # Tons of wheat/corn purchased\n",
    "model.s = pyo.Var(I, domain=pyo.NonNegativeReals) # Tons of each crop sold\n",
    "\n",
    "# Objective function\n",
    "def objective_rule(model):\n",
    "    return sum(C[i] * model.x[i] for i in I) + sum(PP[i] * model.p[i] for i in [\"Wheat\", \"Corn\"]) - sum(SP[i] * model.s[i] for i in I) - SP_excess[\"Sugar Beets\"] * pyo.max(0, model.s[\"Sugar Beets\"] - Q[\"Sugar Beets\"])\n",
    "\n",
    "model.objective = pyo.Objective(rule=objective_rule, sense=pyo.minimize)\n",
    "\n",
    "# Constraints\n",
    "# Land availability\n",
    "model.land_constraint = pyo.Constraint(expr=sum(model.x[i] for i in I) <= A)\n",
    "\n",
    "# Production and purchase meets demand\n",
    "model.demand_wheat = pyo.Constraint(expr=Y[\"Wheat\"] * model.x[\"Wheat\"] + model.p[\"Wheat\"] >= D[\"Wheat\"])\n",
    "model.demand_corn = pyo.Constraint(expr=Y[\"Corn\"] * model.x[\"Corn\"] + model.p[\"Corn\"] >= D[\"Corn\"])\n",
    "\n",
    "# Production and sales balance\n",
    "model.balance_wheat = pyo.Constraint(expr=Y[\"Wheat\"] * model.x[\"Wheat\"] - model.s[\"Wheat\"] == D[\"Wheat\"]) \n",
    "model.balance_corn = pyo.Constraint(expr=Y[\"Corn\"] * model.x[\"Corn\"] - model.s[\"Corn\"] == D[\"Corn\"])\n",
    "model.balance_beets = pyo.Constraint(expr=Y[\"Sugar Beets\"] * model.x[\"Sugar Beets\"] == model.s[\"Sugar Beets\"])\n",
    "\n",
    "# Solve the model\n",
    "solver = pyo.SolverFactory('glpk')  # You can use other solvers like 'gurobi', 'cplex', etc.\n",
    "solver.solve(model)\n",
    "\n",
    "# Print the results\n",
    "print(\"Optimal solution:\")\n",
    "print(f\"Wheat acres: {model.x['Wheat'].value}\")\n",
    "print(f\"Corn acres: {model.x['Corn'].value}\")\n",
    "print(f\"Sugar Beet acres: {model.x['Sugar Beets'].value}\")\n",
    "print(f\"Wheat purchased: {model.p['Wheat'].value}\")\n",
    "print(f\"Corn purchased: {model.p['Corn'].value}\")\n",
    "print(f\"Wheat sold: {model.s['Wheat'].value}\")\n",
    "print(f\"Corn sold: {model.s['Corn'].value}\")\n",
    "print(f\"Sugar Beets sold: {model.s['Sugar Beets'].value}\")\n",
    "print(f\"Total cost: {model.objective()}\")"
   ]
  },
  {
   "cell_type": "markdown",
   "id": "8f10340f",
   "metadata": {},
   "source": [
    "## 5. Correct the code to verify model viability (optional)"
   ]
  },
  {
   "cell_type": "code",
   "execution_count": 658,
   "id": "d6e79c04",
   "metadata": {},
   "outputs": [
    {
     "ename": "PyomoException",
     "evalue": "Cannot convert non-constant Pyomo expression (6000  <  20*x3) to bool.\nThis error is usually caused by using a Var, unit, or mutable Param in a\nBoolean context such as an \"if\" statement, or when checking container\nmembership or equality. For example,\n    >>> m.x = Var()\n    >>> if m.x >= 1:\n    ...     pass\nand\n    >>> m.y = Var()\n    >>> if m.y in [m.x, m.y]:\n    ...     pass\nwould both cause this exception.",
     "output_type": "error",
     "traceback": [
      "\u001b[1;31m---------------------------------------------------------------------------\u001b[0m",
      "\u001b[1;31mPyomoException\u001b[0m                            Traceback (most recent call last)",
      "Cell \u001b[1;32mIn[658], line 57\u001b[0m\n\u001b[0;32m     54\u001b[0m model\u001b[38;5;241m.\u001b[39mland_constraint \u001b[38;5;241m=\u001b[39m pyo\u001b[38;5;241m.\u001b[39mConstraint(expr\u001b[38;5;241m=\u001b[39mmodel\u001b[38;5;241m.\u001b[39mx1 \u001b[38;5;241m+\u001b[39m model\u001b[38;5;241m.\u001b[39mx2 \u001b[38;5;241m+\u001b[39m model\u001b[38;5;241m.\u001b[39mx3 \u001b[38;5;241m<\u001b[39m\u001b[38;5;241m=\u001b[39m \u001b[38;5;241m500\u001b[39m)\n\u001b[0;32m     56\u001b[0m \u001b[38;5;66;03m# Define the constraint for minimum sugar beets quota\u001b[39;00m\n\u001b[1;32m---> 57\u001b[0m model\u001b[38;5;241m.\u001b[39mmin_sugar_beets_constraint \u001b[38;5;241m=\u001b[39m pyo\u001b[38;5;241m.\u001b[39mConstraint(expr\u001b[38;5;241m=\u001b[39mmodel\u001b[38;5;241m.\u001b[39mmin_sugar_beets_quota \u001b[38;5;241m==\u001b[39m \u001b[38;5;28mmin\u001b[39m(\u001b[38;5;241m20\u001b[39m\u001b[38;5;241m*\u001b[39mmodel\u001b[38;5;241m.\u001b[39mx3, \u001b[38;5;241m6000\u001b[39m))\n\u001b[0;32m     59\u001b[0m \u001b[38;5;66;03m# Solve the model\u001b[39;00m\n\u001b[0;32m     60\u001b[0m solver \u001b[38;5;241m=\u001b[39m pyo\u001b[38;5;241m.\u001b[39mSolverFactory(\u001b[38;5;124m'\u001b[39m\u001b[38;5;124mglpk\u001b[39m\u001b[38;5;124m'\u001b[39m)  \u001b[38;5;66;03m# You can choose a different solver if you prefer\u001b[39;00m\n",
      "File \u001b[1;32m~\\anaconda3\\Lib\\site-packages\\pyomo\\core\\expr\\relational_expr.py:47\u001b[0m, in \u001b[0;36mRelationalExpression.__bool__\u001b[1;34m(self)\u001b[0m\n\u001b[0;32m     45\u001b[0m         \u001b[38;5;28;01mif\u001b[39;00m \u001b[38;5;28mself\u001b[39m\u001b[38;5;241m.\u001b[39mis_constant():\n\u001b[0;32m     46\u001b[0m             \u001b[38;5;28;01mreturn\u001b[39;00m \u001b[38;5;28mbool\u001b[39m(\u001b[38;5;28mself\u001b[39m())\n\u001b[1;32m---> 47\u001b[0m         \u001b[38;5;28;01mraise\u001b[39;00m PyomoException(\n\u001b[0;32m     48\u001b[0m \u001b[38;5;250m            \u001b[39m\u001b[38;5;124;03m\"\"\"\u001b[39;00m\n\u001b[0;32m     49\u001b[0m \u001b[38;5;124;03mCannot convert non-constant Pyomo expression (%s) to bool.\u001b[39;00m\n\u001b[0;32m     50\u001b[0m \u001b[38;5;124;03mThis error is usually caused by using a Var, unit, or mutable Param in a\u001b[39;00m\n\u001b[0;32m     51\u001b[0m \u001b[38;5;124;03mBoolean context such as an \"if\" statement, or when checking container\u001b[39;00m\n\u001b[0;32m     52\u001b[0m \u001b[38;5;124;03mmembership or equality. For example,\u001b[39;00m\n\u001b[0;32m     53\u001b[0m \u001b[38;5;124;03m    >>> m.x = Var()\u001b[39;00m\n\u001b[0;32m     54\u001b[0m \u001b[38;5;124;03m    >>> if m.x >= 1:\u001b[39;00m\n\u001b[0;32m     55\u001b[0m \u001b[38;5;124;03m    ...     pass\u001b[39;00m\n\u001b[0;32m     56\u001b[0m \u001b[38;5;124;03mand\u001b[39;00m\n\u001b[0;32m     57\u001b[0m \u001b[38;5;124;03m    >>> m.y = Var()\u001b[39;00m\n\u001b[0;32m     58\u001b[0m \u001b[38;5;124;03m    >>> if m.y in [m.x, m.y]:\u001b[39;00m\n\u001b[0;32m     59\u001b[0m \u001b[38;5;124;03m    ...     pass\u001b[39;00m\n\u001b[0;32m     60\u001b[0m \u001b[38;5;124;03mwould both cause this exception.\"\"\"\u001b[39;00m\u001b[38;5;241m.\u001b[39mstrip()\n\u001b[0;32m     61\u001b[0m             \u001b[38;5;241m%\u001b[39m (\u001b[38;5;28mself\u001b[39m,)\n\u001b[0;32m     62\u001b[0m         )\n",
      "\u001b[1;31mPyomoException\u001b[0m: Cannot convert non-constant Pyomo expression (6000  <  20*x3) to bool.\nThis error is usually caused by using a Var, unit, or mutable Param in a\nBoolean context such as an \"if\" statement, or when checking container\nmembership or equality. For example,\n    >>> m.x = Var()\n    >>> if m.x >= 1:\n    ...     pass\nand\n    >>> m.y = Var()\n    >>> if m.y in [m.x, m.y]:\n    ...     pass\nwould both cause this exception."
     ]
    }
   ],
   "source": [
    "import pyomo.environ as pyo\n",
    "\n",
    "# Define sets\n",
    "I = [\"Wheat\", \"Corn\", \"Sugar Beets\"]\n",
    "\n",
    "# Define parameters (Sample Data)\n",
    "A = 500\n",
    "D = {\"Wheat\": 200, \"Corn\": 240}\n",
    "SP = {\"Wheat\": 170, \"Corn\": 150, \"Sugar Beets\": 36}\n",
    "SP_excess = {\"Sugar Beets\": 10}  \n",
    "PP = {\"Wheat\": 240, \"Corn\": 210}\n",
    "Q = {\"Sugar Beets\": 6000}\n",
    "Y = {\"Wheat\": 2.5, \"Corn\": 3, \"Sugar Beets\": 20}\n",
    "C = {\"Wheat\": 150, \"Corn\": 230, \"Sugar Beets\": 260}\n",
    "\n",
    "# Create a model\n",
    "model = pyo.ConcreteModel()\n",
    "\n",
    "# Decision variables\n",
    "model.x = pyo.Var(I, domain=pyo.NonNegativeReals) # Acres of land dedicated to each crop\n",
    "model.p = pyo.Var([\"Wheat\", \"Corn\"], domain=pyo.NonNegativeReals) # Tons of wheat/corn purchased\n",
    "model.s = pyo.Var(I, domain=pyo.NonNegativeReals) # Tons of each crop sold\n",
    "\n",
    "# Objective function\n",
    "def objective_rule(model):\n",
    "    return sum(C[i] * model.x[i] for i in I) + sum(PP[i] * model.p[i] for i in [\"Wheat\", \"Corn\"]) - sum(SP[i] * model.s[i] for i in I) - SP_excess[\"Sugar Beets\"] * pyo.max(0, model.s[\"Sugar Beets\"] - Q[\"Sugar Beets\"])\n",
    "\n",
    "model.objective = pyo.Objective(rule=objective_rule, sense=pyo.minimize)\n",
    "\n",
    "# Constraints\n",
    "# Land availability\n",
    "model.land_constraint = pyo.Constraint(expr=sum(model.x[i] for i in I) <= A)\n",
    "\n",
    "# Production and purchase meets demand\n",
    "model.demand_wheat = pyo.Constraint(expr=Y[\"Wheat\"] * model.x[\"Wheat\"] + model.p[\"Wheat\"] >= D[\"Wheat\"])\n",
    "model.demand_corn = pyo.Constraint(expr=Y[\"Corn\"] * model.x[\"Corn\"] + model.p[\"Corn\"] >= D[\"Corn\"])\n",
    "\n",
    "# Production and sales balance\n",
    "model.balance_wheat = pyo.Constraint(expr=Y[\"Wheat\"] * model.x[\"Wheat\"] - model.s[\"Wheat\"] == D[\"Wheat\"]) \n",
    "model.balance_corn = pyo.Constraint(expr=Y[\"Corn\"] * model.x[\"Corn\"] - model.s[\"Corn\"] == D[\"Corn\"])\n",
    "model.balance_beets = pyo.Constraint(expr=Y[\"Sugar Beets\"] * model.x[\"Sugar Beets\"] == model.s[\"Sugar Beets\"])\n",
    "\n",
    "# Solve the model\n",
    "solver = pyo.SolverFactory('glpk')  # You can use other solvers like 'gurobi', 'cplex', etc.\n",
    "solver.solve(model)\n",
    "\n",
    "# Print the results\n",
    "print(\"Optimal solution:\")\n",
    "print(f\"Wheat acres: {model.x['Wheat'].value}\")\n",
    "print(f\"Corn acres: {model.x['Corn'].value}\")\n",
    "print(f\"Sugar Beet acres: {model.x['Sugar Beets'].value}\")\n",
    "print(f\"Wheat purchased: {model.p['Wheat'].value}\")\n",
    "print(f\"Corn purchased: {model.p['Corn'].value}\")\n",
    "print(f\"Wheat sold: {model.s['Wheat'].value}\")\n",
    "print(f\"Corn sold: {model.s['Corn'].value}\")\n",
    "print(f\"Sugar Beets sold: {model.s['Sugar Beets'].value}\")\n",
    "print(f\"Total cost: {model.objective()}\")"
   ]
  },
  {
   "cell_type": "markdown",
   "id": "03525f23",
   "metadata": {},
   "source": [
    "## 6. Printing the outputs as strings, so they can be saved.\n",
    "Those can be rendered as markdown for better readability"
   ]
  },
  {
   "cell_type": "code",
   "execution_count": 672,
   "id": "9d832f4d",
   "metadata": {},
   "outputs": [
    {
     "name": "stdout",
     "output_type": "stream",
     "text": [
      "## Mathematical Optimization Model for Farmer's Crop Planning\n",
      "\n",
      "**Sets:**\n",
      "\n",
      "* I = {Wheat, Corn, Sugar Beets} : Set of crops\n",
      "\n",
      "**Parameters:**\n",
      "\n",
      "* A = 500 : Total acres of land available\n",
      "*  $D_{wheat}$ = 200 : Demand for wheat (tons)\n",
      "*  $D_{corn}$ = 240 : Demand for corn (tons)\n",
      "*  $SP_{wheat}$ = 170 : Selling price of wheat ($/ton)\n",
      "*  $SP_{corn}$ = 150 : Selling price of corn ($/ton)\n",
      "*  $SP_{beets}$ = 36 : Selling price of sugar beets within quota ($/ton)\n",
      "*  $SP_{beets\\_excess}$ = 10 : Selling price of sugar beets exceeding quota ($/ton)\n",
      "*  $PP_{wheat}$ = 240 : Purchase price of wheat ($/ton)\n",
      "*  $PP_{corn}$ = 210 : Purchase price of corn ($/ton)\n",
      "*  $Q_{beets}$ = 6000 : Quota for sugar beets (tons)\n",
      "* $Y_{wheat}$ = 2.5 : Yield of wheat (tons/acre)\n",
      "* $Y_{corn}$ = 3 : Yield of corn (tons/acre)\n",
      "* $Y_{beets}$ = 20 : Yield of sugar beets (tons/acre)\n",
      "* $C_{wheat}$ = 150 : Cost of planting wheat ($/acre)\n",
      "* $C_{corn}$ = 230 : Cost of planting corn ($/acre)\n",
      "* $C_{beets}$ = 260 : Cost of planting sugar beets ($/acre)\n",
      "\n",
      "**Decision Variables:**\n",
      "\n",
      "*  $x_i$ : Acres of land dedicated to crop $i \\in I$\n",
      "*  $p_i$: Tons of crop $i \\in \\{Wheat, Corn\\}$ purchased\n",
      "*  $s_i$: Tons of crop $i \\in I$ sold\n",
      "\n",
      "**Objective Function:**\n",
      "\n",
      "Minimize total cost:\n",
      "\n",
      " $$ Minimize \\sum_{i \\in I} C_i \\cdot x_i + \\sum_{i \\in \\{Wheat, Corn\\}} PP_i \\cdot p_i - \\sum_{i \\in I} SP_i \\cdot s_i - SP_{beets\\_excess} \\cdot max(0, s_{beets} - Q_{beets})$$\n",
      "\n",
      "**Constraints:**\n",
      "\n",
      "* Land availability: \n",
      "$$\\sum_{i \\in I} x_i \\leq A $$\n",
      "\n",
      "* Production and purchase meets demand:\n",
      "$$Y_{wheat} \\cdot x_{wheat} + p_{wheat} \\geq D_{wheat}$$\n",
      "$$Y_{corn} \\cdot x_{corn} + p_{corn} \\geq D_{corn}$$\n",
      "\n",
      "* Production and sales balance:\n",
      "$$Y_{wheat} \\cdot x_{wheat} - s_{wheat} = D_{wheat}$$\n",
      "$$Y_{corn} \\cdot x_{corn} - s_{corn} = D_{corn}$$\n",
      "$$Y_{beets} \\cdot x_{beets} = s_{beets}$$\n",
      "\n",
      "* Non-negativity:\n",
      "$$x_i, p_i, s_i \\geq 0,  \\forall i \\in I$$ \n",
      "\n",
      "This model aims to minimize the total costs associated with planting, purchasing, and selling crops. It takes into account the demand for cattle feed, the selling prices of each crop, the yield of each crop per acre, and the costs associated with planting each crop. The model also considers the sugar beet quota imposed by the European Commission and the lower selling price for beets exceeding the quota. \n",
      "\n"
     ]
    }
   ],
   "source": [
    "print(response.text)"
   ]
  },
  {
   "cell_type": "code",
   "execution_count": 673,
   "id": "57e86877",
   "metadata": {
    "scrolled": false
   },
   "outputs": [
    {
     "name": "stdout",
     "output_type": "stream",
     "text": [
      "```python\n",
      "import pyomo.environ as pyo\n",
      "\n",
      "# Define sets\n",
      "I = [\"Wheat\", \"Corn\", \"Sugar Beets\"]\n",
      "\n",
      "# Define parameters (Sample Data)\n",
      "A = 500\n",
      "D = {\"Wheat\": 200, \"Corn\": 240}\n",
      "SP = {\"Wheat\": 170, \"Corn\": 150, \"Sugar Beets\": 36}\n",
      "SP_excess = {\"Sugar Beets\": 10}  \n",
      "PP = {\"Wheat\": 240, \"Corn\": 210}\n",
      "Q = {\"Sugar Beets\": 6000}\n",
      "Y = {\"Wheat\": 2.5, \"Corn\": 3, \"Sugar Beets\": 20}\n",
      "C = {\"Wheat\": 150, \"Corn\": 230, \"Sugar Beets\": 260}\n",
      "\n",
      "# Create a model\n",
      "model = pyo.ConcreteModel()\n",
      "\n",
      "# Decision variables\n",
      "model.x = pyo.Var(I, domain=pyo.NonNegativeReals) # Acres of land dedicated to each crop\n",
      "model.p = pyo.Var([\"Wheat\", \"Corn\"], domain=pyo.NonNegativeReals) # Tons of wheat/corn purchased\n",
      "model.s = pyo.Var(I, domain=pyo.NonNegativeReals) # Tons of each crop sold\n",
      "\n",
      "# Objective function\n",
      "def objective_rule(model):\n",
      "    return sum(C[i] * model.x[i] for i in I) + sum(PP[i] * model.p[i] for i in [\"Wheat\", \"Corn\"]) - sum(SP[i] * model.s[i] for i in I) - SP_excess[\"Sugar Beets\"] * pyo.max(0, model.s[\"Sugar Beets\"] - Q[\"Sugar Beets\"])\n",
      "\n",
      "model.objective = pyo.Objective(rule=objective_rule, sense=pyo.minimize)\n",
      "\n",
      "# Constraints\n",
      "# Land availability\n",
      "model.land_constraint = pyo.Constraint(expr=sum(model.x[i] for i in I) <= A)\n",
      "\n",
      "# Production and purchase meets demand\n",
      "model.demand_wheat = pyo.Constraint(expr=Y[\"Wheat\"] * model.x[\"Wheat\"] + model.p[\"Wheat\"] >= D[\"Wheat\"])\n",
      "model.demand_corn = pyo.Constraint(expr=Y[\"Corn\"] * model.x[\"Corn\"] + model.p[\"Corn\"] >= D[\"Corn\"])\n",
      "\n",
      "# Production and sales balance\n",
      "model.balance_wheat = pyo.Constraint(expr=Y[\"Wheat\"] * model.x[\"Wheat\"] - model.s[\"Wheat\"] == D[\"Wheat\"]) \n",
      "model.balance_corn = pyo.Constraint(expr=Y[\"Corn\"] * model.x[\"Corn\"] - model.s[\"Corn\"] == D[\"Corn\"])\n",
      "model.balance_beets = pyo.Constraint(expr=Y[\"Sugar Beets\"] * model.x[\"Sugar Beets\"] == model.s[\"Sugar Beets\"])\n",
      "\n",
      "# Solve the model\n",
      "solver = pyo.SolverFactory('glpk')  # You can use other solvers like 'gurobi', 'cplex', etc.\n",
      "solver.solve(model)\n",
      "\n",
      "# Print the results\n",
      "print(\"Optimal solution:\")\n",
      "print(f\"Wheat acres: {model.x['Wheat'].value}\")\n",
      "print(f\"Corn acres: {model.x['Corn'].value}\")\n",
      "print(f\"Sugar Beet acres: {model.x['Sugar Beets'].value}\")\n",
      "print(f\"Wheat purchased: {model.p['Wheat'].value}\")\n",
      "print(f\"Corn purchased: {model.p['Corn'].value}\")\n",
      "print(f\"Wheat sold: {model.s['Wheat'].value}\")\n",
      "print(f\"Corn sold: {model.s['Corn'].value}\")\n",
      "print(f\"Sugar Beets sold: {model.s['Sugar Beets'].value}\")\n",
      "print(f\"Total cost: {model.objective()}\")\n",
      "```\n",
      "\n"
     ]
    }
   ],
   "source": [
    "print(response2.text)"
   ]
  }
 ],
 "metadata": {
  "kernelspec": {
   "display_name": "Python 3 (ipykernel)",
   "language": "python",
   "name": "python3"
  },
  "language_info": {
   "codemirror_mode": {
    "name": "ipython",
    "version": 3
   },
   "file_extension": ".py",
   "mimetype": "text/x-python",
   "name": "python",
   "nbconvert_exporter": "python",
   "pygments_lexer": "ipython3",
   "version": "3.11.4"
  }
 },
 "nbformat": 4,
 "nbformat_minor": 5
}
