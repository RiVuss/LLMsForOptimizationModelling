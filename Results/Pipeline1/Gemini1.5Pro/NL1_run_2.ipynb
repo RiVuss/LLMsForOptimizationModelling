{
 "cells": [
  {
   "cell_type": "markdown",
   "id": "0df7edfd",
   "metadata": {},
   "source": [
    "# LLM Optimization Modelling Experiment"
   ]
  },
  {
   "cell_type": "code",
   "execution_count": 30,
   "id": "7f664028",
   "metadata": {},
   "outputs": [],
   "source": [
    "import vertexai\n",
    "from vertexai.preview.generative_models import GenerativeModel\n",
    "from IPython.display import Markdown"
   ]
  },
  {
   "cell_type": "markdown",
   "id": "c106f1be",
   "metadata": {},
   "source": [
    "## 1. Define the problem description"
   ]
  },
  {
   "cell_type": "code",
   "execution_count": 128,
   "id": "9adce4b2",
   "metadata": {},
   "outputs": [],
   "source": [
    "problem = '''A firm that packs refreshments and beers, situated in the province of Valencia (Spain) employs the same syrup to produce its 1.5 l COLI and PEPSA products on its S1 production line. Once processed, each hectolitre of syrup produces 40 units of the 1.5 l COLI product and 20 units of the 1.5 l PEPSA product. If X1 units of the 1.5 l COLI product and X2 units of the 1.5 l PEPSA product are produced, the firm estimates that the daily income obtained in dollars would be given by the following function:\n",
    "49000 times X1 minus X1 squared plus 30 times X2 minus two times X2 squared. \n",
    "It costs 150 dollars to buy and process each hectolitre of syrup. The S1 packaging line has a net capacity of producing 7100 1.5 l product units every hour. The firm works 5 days a week in 8h shifts. Given its weekly target coverage, the firm is committed to produce at least half the amount of PEPSA than COLI. Although priority orders tend to amend its production planning, the firm wishes to have a basic product planning that optimises its daily profits. \n",
    "'''"
   ]
  },
  {
   "cell_type": "markdown",
   "id": "063be1a3",
   "metadata": {},
   "source": [
    "## 2. Generate the mathematical model"
   ]
  },
  {
   "cell_type": "code",
   "execution_count": 137,
   "id": "e31ec80c",
   "metadata": {},
   "outputs": [],
   "source": [
    "#Initializing the session. To replicate, make sure the right credentials are saved in a PATH variable\n",
    "PROJECT_ID = \"llm4optproblems\"\n",
    "REGION = \"us-central1\"\n",
    "vertexai.init(project=PROJECT_ID, location=REGION)\n",
    "\n",
    "#Specifying the model\n",
    "generative_multimodal_model = GenerativeModel(\"gemini-1.5-pro-preview-0409\")\n",
    "\n",
    "#The propmt applied to all problems\n",
    "prompt = '''Let's think step by step. Please write a mathematical optimization model for this problem. If there are parameter values, make sure to include them in the mathematical formulation.\n",
    "'''\n",
    "\n",
    "#Generate the response\n",
    "response = generative_multimodal_model.generate_content([prompt+problem])\n"
   ]
  },
  {
   "cell_type": "code",
   "execution_count": 138,
   "id": "f9adc567",
   "metadata": {},
   "outputs": [
    {
     "data": {
      "text/markdown": [
       "## Mathematical Optimization Model for Production Planning\n",
       "\n",
       "**Objective Function (Maximize Daily Profit):**\n",
       "\n",
       "```\n",
       "Maximize Z = 49000X1 - X1^2 + 30X2 - 2X2^2 - 150H\n",
       "```\n",
       "\n",
       "Where:\n",
       "\n",
       "* Z: Daily profit in dollars\n",
       "* X1: Number of 1.5L COLI units produced daily\n",
       "* X2: Number of 1.5L PEPSA units produced daily\n",
       "* H: Number of hectoliters of syrup used daily \n",
       "\n",
       "**Constraints:**\n",
       "\n",
       "1. **Syrup Usage:** The amount of syrup used should be sufficient to produce both products.\n",
       "    * `40X1 + 20X2 <= 100H` (since each hectoliter produces 40 COLI and 20 PEPSA units)\n",
       "\n",
       "2. **Production Line Capacity:** The total production cannot exceed the line's capacity.\n",
       "    * `X1 + X2 <= 7100 * 8 * 5` (considering 8-hour shifts and 5 working days)\n",
       "\n",
       "3. **Minimum PEPSA Production:**  PEPSA production should be at least half of COLI production. \n",
       "    * `X2 >= 0.5 * X1`\n",
       "\n",
       "4. **Non-negativity:** Production quantities cannot be negative.\n",
       "    * `X1 >= 0`\n",
       "    * `X2 >= 0`\n",
       "    * `H >= 0`\n",
       "\n",
       "**Parameters:**\n",
       "\n",
       "* Syrup cost per hectoliter: $150\n",
       "* Production line capacity: 7100 units per hour\n",
       "* Working days per week: 5\n",
       "* Shift duration: 8 hours per day\n",
       "* COLI production per hectoliter of syrup: 40 units\n",
       "* PEPSA production per hectoliter of syrup: 20 units\n",
       "\n",
       "**Solving the Model:**\n",
       "\n",
       "This model is a non-linear optimization problem due to the squared terms in the objective function. Various software tools and solvers can be used to find the optimal values of X1, X2, and H that maximize the daily profit Z while satisfying all constraints. \n"
      ],
      "text/plain": [
       "<IPython.core.display.Markdown object>"
      ]
     },
     "execution_count": 138,
     "metadata": {},
     "output_type": "execute_result"
    }
   ],
   "source": [
    "#Show the resopnse in a formatted way\n",
    "Markdown(response.text)"
   ]
  },
  {
   "cell_type": "markdown",
   "id": "49104a9a",
   "metadata": {},
   "source": [
    "## 3. Generate the pyomo code"
   ]
  },
  {
   "cell_type": "code",
   "execution_count": 139,
   "id": "aabea932",
   "metadata": {},
   "outputs": [],
   "source": [
    "#Second prompt gets the output of the previous step and generates the code\n",
    "prompt2 = \"Please write pyomo code for this mathematical problem. Use sample data where needed. Indicate where you use sample data. \\n\"\n",
    "prompt2 += response.text \n",
    "response2 = generative_multimodal_model.generate_content([prompt2])"
   ]
  },
  {
   "cell_type": "code",
   "execution_count": 140,
   "id": "fd2835af",
   "metadata": {
    "scrolled": false
   },
   "outputs": [
    {
     "data": {
      "text/markdown": [
       "## Pyomo Implementation \n",
       "\n",
       "```python\n",
       "from pyomo.environ import *\n",
       "\n",
       "# Model creation\n",
       "model = ConcreteModel(name=\"ProductionPlanning\")\n",
       "\n",
       "# Decision variables\n",
       "model.X1 = Var(domain=NonNegativeReals, doc=\"Number of 1.5L COLI units produced daily\")\n",
       "model.X2 = Var(domain=NonNegativeReals, doc=\"Number of 1.5L PEPSA units produced daily\")\n",
       "model.H = Var(domain=NonNegativeReals, doc=\"Number of hectoliters of syrup used daily\")\n",
       "\n",
       "# Objective function\n",
       "model.profit = Objective(\n",
       "    expr=49000 * model.X1 - model.X1**2 + 30 * model.X2 - 2 * model.X2**2 - 150 * model.H,\n",
       "    sense=maximize,\n",
       "    doc=\"Maximize daily profit\"\n",
       ")\n",
       "\n",
       "# Constraints\n",
       "model.syrup_usage = Constraint(expr=40 * model.X1 + 20 * model.X2 <= 100 * model.H)\n",
       "model.production_capacity = Constraint(expr=model.X1 + model.X2 <= 7100 * 8 * 5) \n",
       "model.min_pepsa_production = Constraint(expr=model.X2 >= 0.5 * model.X1)\n",
       "\n",
       "# Note on sample data:\n",
       "# The parameters provided in the problem description (syrup cost, production capacity, etc.)\n",
       "# are directly used in the constraints and objective function as numerical values.\n",
       "```\n",
       "\n",
       "**Explanation:**\n",
       "\n",
       "* We import the `pyomo.environ` module to use Pyomo's modeling objects.\n",
       "* We create a concrete model instance named `ProductionPlanning`.\n",
       "* We define the decision variables `X1`, `X2`, and `H` with their respective domains (`NonNegativeReals`). \n",
       "* The objective function is defined using the `Objective` object, specifying the expression to maximize and the sense of optimization (`maximize`).\n",
       "* Each constraint is defined using the `Constraint` object with its corresponding expression.\n",
       "* We directly use the provided parameters (like syrup cost, production capacity) within the constraints and objective function. \n",
       "\n",
       "**Solving the Model:**\n",
       "\n",
       "To solve the model, you would typically choose a solver like ipopt or cplex and use Pyomo's `SolverFactory` to create a solver instance and solve the model. The specific steps for solving may vary depending on the chosen solver and its interface.\n"
      ],
      "text/plain": [
       "<IPython.core.display.Markdown object>"
      ]
     },
     "execution_count": 140,
     "metadata": {},
     "output_type": "execute_result"
    }
   ],
   "source": [
    "#Showing the code in a formatted way\n",
    "Markdown(response2.text)"
   ]
  },
  {
   "cell_type": "markdown",
   "id": "b60756ae",
   "metadata": {},
   "source": [
    "## 4. Input problem data and try running the generated code"
   ]
  },
  {
   "cell_type": "code",
   "execution_count": 142,
   "id": "f82b3efc",
   "metadata": {},
   "outputs": [
    {
     "name": "stdout",
     "output_type": "stream",
     "text": [
      "Optimal Production Quantities:\n",
      "Maximum Profit: 399187266.67\n"
     ]
    }
   ],
   "source": [
    "from pyomo.environ import *\n",
    "\n",
    "# Model creation\n",
    "model = ConcreteModel(name=\"ProductionPlanning\")\n",
    "\n",
    "# Decision variables\n",
    "model.X1 = Var(domain=NonNegativeReals, doc=\"Number of 1.5L COLI units produced daily\")\n",
    "model.X2 = Var(domain=NonNegativeReals, doc=\"Number of 1.5L PEPSA units produced daily\")\n",
    "model.H = Var(domain=NonNegativeReals, doc=\"Number of hectoliters of syrup used daily\")\n",
    "\n",
    "# Objective function\n",
    "model.profit = Objective(\n",
    "    expr=49000 * model.X1 - model.X1**2 + 30 * model.X2 - 2 * model.X2**2 - 150 * model.H,\n",
    "    sense=maximize,\n",
    "    doc=\"Maximize daily profit\"\n",
    ")\n",
    "\n",
    "# Constraints\n",
    "model.syrup_usage = Constraint(expr=40 * model.X1 + 20 * model.X2 <= 100 * model.H)\n",
    "model.production_capacity = Constraint(expr=model.X1 + model.X2 <= 7100 * 8 * 5) \n",
    "model.min_pepsa_production = Constraint(expr=model.X2 >= 0.5 * model.X1)\n",
    "\n",
    "# Solve the model\n",
    "solver = SolverFactory('ipopt')\n",
    "solver.solve(model)\n",
    "\n",
    "# Print the results\n",
    "print(\"Optimal Production Quantities:\")\n",
    "\n",
    "print(f\"Maximum Profit: {model.profit():.2f}\")"
   ]
  },
  {
   "cell_type": "markdown",
   "id": "8f10340f",
   "metadata": {},
   "source": [
    "## 5. Correct the code to verify model viability (optional)"
   ]
  },
  {
   "cell_type": "code",
   "execution_count": null,
   "id": "c7f21935",
   "metadata": {},
   "outputs": [],
   "source": []
  },
  {
   "cell_type": "markdown",
   "id": "7647923a",
   "metadata": {},
   "source": [
    "## 6. Printing the outputs as strings, so they can be saved.\n",
    "Those can be rendered as markdown for better readability"
   ]
  },
  {
   "cell_type": "code",
   "execution_count": 143,
   "id": "120df6c7",
   "metadata": {},
   "outputs": [
    {
     "name": "stdout",
     "output_type": "stream",
     "text": [
      "## Mathematical Optimization Model for Production Planning\n",
      "\n",
      "**Objective Function (Maximize Daily Profit):**\n",
      "\n",
      "```\n",
      "Maximize Z = 49000X1 - X1^2 + 30X2 - 2X2^2 - 150H\n",
      "```\n",
      "\n",
      "Where:\n",
      "\n",
      "* Z: Daily profit in dollars\n",
      "* X1: Number of 1.5L COLI units produced daily\n",
      "* X2: Number of 1.5L PEPSA units produced daily\n",
      "* H: Number of hectoliters of syrup used daily \n",
      "\n",
      "**Constraints:**\n",
      "\n",
      "1. **Syrup Usage:** The amount of syrup used should be sufficient to produce both products.\n",
      "    * `40X1 + 20X2 <= 100H` (since each hectoliter produces 40 COLI and 20 PEPSA units)\n",
      "\n",
      "2. **Production Line Capacity:** The total production cannot exceed the line's capacity.\n",
      "    * `X1 + X2 <= 7100 * 8 * 5` (considering 8-hour shifts and 5 working days)\n",
      "\n",
      "3. **Minimum PEPSA Production:**  PEPSA production should be at least half of COLI production. \n",
      "    * `X2 >= 0.5 * X1`\n",
      "\n",
      "4. **Non-negativity:** Production quantities cannot be negative.\n",
      "    * `X1 >= 0`\n",
      "    * `X2 >= 0`\n",
      "    * `H >= 0`\n",
      "\n",
      "**Parameters:**\n",
      "\n",
      "* Syrup cost per hectoliter: $150\n",
      "* Production line capacity: 7100 units per hour\n",
      "* Working days per week: 5\n",
      "* Shift duration: 8 hours per day\n",
      "* COLI production per hectoliter of syrup: 40 units\n",
      "* PEPSA production per hectoliter of syrup: 20 units\n",
      "\n",
      "**Solving the Model:**\n",
      "\n",
      "This model is a non-linear optimization problem due to the squared terms in the objective function. Various software tools and solvers can be used to find the optimal values of X1, X2, and H that maximize the daily profit Z while satisfying all constraints. \n",
      "\n"
     ]
    }
   ],
   "source": [
    "print(response.text)"
   ]
  },
  {
   "cell_type": "code",
   "execution_count": 144,
   "id": "866361eb",
   "metadata": {},
   "outputs": [
    {
     "name": "stdout",
     "output_type": "stream",
     "text": [
      "## Pyomo Implementation \n",
      "\n",
      "```python\n",
      "from pyomo.environ import *\n",
      "\n",
      "# Model creation\n",
      "model = ConcreteModel(name=\"ProductionPlanning\")\n",
      "\n",
      "# Decision variables\n",
      "model.X1 = Var(domain=NonNegativeReals, doc=\"Number of 1.5L COLI units produced daily\")\n",
      "model.X2 = Var(domain=NonNegativeReals, doc=\"Number of 1.5L PEPSA units produced daily\")\n",
      "model.H = Var(domain=NonNegativeReals, doc=\"Number of hectoliters of syrup used daily\")\n",
      "\n",
      "# Objective function\n",
      "model.profit = Objective(\n",
      "    expr=49000 * model.X1 - model.X1**2 + 30 * model.X2 - 2 * model.X2**2 - 150 * model.H,\n",
      "    sense=maximize,\n",
      "    doc=\"Maximize daily profit\"\n",
      ")\n",
      "\n",
      "# Constraints\n",
      "model.syrup_usage = Constraint(expr=40 * model.X1 + 20 * model.X2 <= 100 * model.H)\n",
      "model.production_capacity = Constraint(expr=model.X1 + model.X2 <= 7100 * 8 * 5) \n",
      "model.min_pepsa_production = Constraint(expr=model.X2 >= 0.5 * model.X1)\n",
      "\n",
      "# Note on sample data:\n",
      "# The parameters provided in the problem description (syrup cost, production capacity, etc.)\n",
      "# are directly used in the constraints and objective function as numerical values.\n",
      "```\n",
      "\n",
      "**Explanation:**\n",
      "\n",
      "* We import the `pyomo.environ` module to use Pyomo's modeling objects.\n",
      "* We create a concrete model instance named `ProductionPlanning`.\n",
      "* We define the decision variables `X1`, `X2`, and `H` with their respective domains (`NonNegativeReals`). \n",
      "* The objective function is defined using the `Objective` object, specifying the expression to maximize and the sense of optimization (`maximize`).\n",
      "* Each constraint is defined using the `Constraint` object with its corresponding expression.\n",
      "* We directly use the provided parameters (like syrup cost, production capacity) within the constraints and objective function. \n",
      "\n",
      "**Solving the Model:**\n",
      "\n",
      "To solve the model, you would typically choose a solver like ipopt or cplex and use Pyomo's `SolverFactory` to create a solver instance and solve the model. The specific steps for solving may vary depending on the chosen solver and its interface.\n",
      "\n"
     ]
    }
   ],
   "source": [
    "print(response2.text)"
   ]
  }
 ],
 "metadata": {
  "kernelspec": {
   "display_name": "Python 3 (ipykernel)",
   "language": "python",
   "name": "python3"
  },
  "language_info": {
   "codemirror_mode": {
    "name": "ipython",
    "version": 3
   },
   "file_extension": ".py",
   "mimetype": "text/x-python",
   "name": "python",
   "nbconvert_exporter": "python",
   "pygments_lexer": "ipython3",
   "version": "3.11.4"
  }
 },
 "nbformat": 4,
 "nbformat_minor": 5
}
