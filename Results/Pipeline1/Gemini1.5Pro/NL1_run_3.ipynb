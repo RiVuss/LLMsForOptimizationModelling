{
 "cells": [
  {
   "cell_type": "markdown",
   "id": "f0005e9e",
   "metadata": {},
   "source": [
    "# LLM Optimization Modelling Experiment"
   ]
  },
  {
   "cell_type": "code",
   "execution_count": 3,
   "id": "7f664028",
   "metadata": {},
   "outputs": [],
   "source": [
    "import vertexai\n",
    "from vertexai.preview.generative_models import GenerativeModel, Image\n",
    "from IPython.display import Markdown"
   ]
  },
  {
   "cell_type": "markdown",
   "id": "f527d6af",
   "metadata": {},
   "source": [
    "## 1. Define the problem description"
   ]
  },
  {
   "cell_type": "code",
   "execution_count": 97,
   "id": "25055ffd",
   "metadata": {},
   "outputs": [],
   "source": [
    "problem = '''A firm that packs refreshments and beers, situated in the province of Valencia (Spain) employs the same syrup to produce its 1.5 l COLI and PEPSA products on its S1 production line. Once processed, each hectolitre of syrup produces 40 units of the 1.5 l COLI product and 20 units of the 1.5 l PEPSA product. If X1 units of the 1.5 l COLI product and X2 units of the 1.5 l PEPSA product are produced, the firm estimates that the daily income obtained in dollars would be given by the following function:\n",
    "49000 times X1 minus X1 squared plus 30 times X2 minus two times X2 squared. \n",
    "It costs 150 dollars to buy and process each hectolitre of syrup. The S1 packaging line has a net capacity of producing 7100 1.5 l product units every hour. The firm works 5 days a week in 8h shifts. Given its weekly target coverage, the firm is committed to produce at least half the amount of PEPSA than COLI. Although priority orders tend to amend its production planning, the firm wishes to have a basic product planning that optimises its daily profits. '''"
   ]
  },
  {
   "cell_type": "markdown",
   "id": "472cf9ad",
   "metadata": {},
   "source": [
    "## 2. Generate the mathematical model"
   ]
  },
  {
   "cell_type": "code",
   "execution_count": 139,
   "id": "e31ec80c",
   "metadata": {},
   "outputs": [],
   "source": [
    "#Initializing the session. To replicate, make sure the right credentials are saved in a PATH variable\n",
    "PROJECT_ID = \"llm4optproblems\"\n",
    "REGION = \"us-central1\"\n",
    "vertexai.init(project=PROJECT_ID, location=REGION)\n",
    "\n",
    "#Specifying the model\n",
    "generative_multimodal_model = GenerativeModel(\"gemini-1.5-pro-preview-0409\")\n",
    "\n",
    "#The propmt applied to all problems\n",
    "prompt = '''Please formulate a mathematical optimization model for this problem. Include parameters, decision variables, the objective function and the constraints in your answer.\n",
    "'''\n",
    "\n",
    "#Generate the response\n",
    "response = generative_multimodal_model.generate_content([prompt+problem])\n"
   ]
  },
  {
   "cell_type": "code",
   "execution_count": 140,
   "id": "f9adc567",
   "metadata": {},
   "outputs": [
    {
     "data": {
      "text/markdown": [
       "## Mathematical Optimization Model\n",
       "\n",
       "**Parameters:**\n",
       "\n",
       "*  `s_COLI`: Units of 1.5L COLI produced per hectolitre of syrup (40 units/hL)\n",
       "*  `s_PEPSA`: Units of 1.5L PEPSA produced per hectolitre of syrup (20 units/hL)\n",
       "*  `c_syrup`: Cost of buying and processing one hectolitre of syrup ($150/hL)\n",
       "*  `capacity`: Net production capacity of the S1 line (7100 units/hour)\n",
       "*  `hours`: Daily working hours (8 hours/day)\n",
       "\n",
       "**Decision Variables:**\n",
       "\n",
       "*  `X1`: Units of 1.5L COLI produced daily\n",
       "*  `X2`: Units of 1.5L PEPSA produced daily\n",
       "*  `H`: Hectolitres of syrup used daily\n",
       "\n",
       "**Objective Function:**\n",
       "\n",
       "Maximize daily profit (in dollars):\n",
       "\n",
       "```\n",
       "Maximize Z = 49000*X1 - X1^2 + 30*X2 - 2*X2^2 - c_syrup*H \n",
       "```\n",
       "\n",
       "**Constraints:**\n",
       "\n",
       "1. **Syrup Usage:** The amount of syrup used should be enough to produce the planned units of COLI and PEPSA:\n",
       "   ```\n",
       "   H >= (X1 / s_COLI) + (X2 / s_PEPSA)\n",
       "   ```\n",
       "2. **Production Capacity:** Total production cannot exceed the S1 line's capacity:\n",
       "   ```\n",
       "   X1 + X2 <= capacity * hours\n",
       "   ```\n",
       "3. **PEPSA Production Target:** PEPSA production should be at least half of COLI production:\n",
       "   ```\n",
       "   X2 >= 0.5 * X1 \n",
       "   ```\n",
       "4. **Non-Negativity:** Production quantities and syrup usage cannot be negative:\n",
       "   ```\n",
       "   X1 >= 0\n",
       "   X2 >= 0\n",
       "   H >= 0\n",
       "   ```\n",
       "\n",
       "This model aims to determine the optimal daily production quantities of COLI (X1) and PEPSA (X2), as well as the required amount of syrup (H), that maximize the daily profit for the firm, while adhering to the production capacity, syrup availability, and the firm's commitment to producing at least half the amount of PEPSA compared to COLI. \n"
      ],
      "text/plain": [
       "<IPython.core.display.Markdown object>"
      ]
     },
     "execution_count": 140,
     "metadata": {},
     "output_type": "execute_result"
    }
   ],
   "source": [
    "#Show the resopnse in a formatted way\n",
    "Markdown(response.text)"
   ]
  },
  {
   "cell_type": "markdown",
   "id": "75796979",
   "metadata": {},
   "source": [
    "## 3. Generate the pyomo code"
   ]
  },
  {
   "cell_type": "code",
   "execution_count": 141,
   "id": "aabea932",
   "metadata": {},
   "outputs": [],
   "source": [
    "#Second prompt gets the output of the previous step and generates the code\n",
    "prompt2 = \"Please write pyomo code for this mathematical problem. Use sample data where needed. Indicate where you use sample data. \\n\"\n",
    "prompt2 += response.text \n",
    "response2 = generative_multimodal_model.generate_content([prompt2])"
   ]
  },
  {
   "cell_type": "code",
   "execution_count": 142,
   "id": "fd2835af",
   "metadata": {
    "scrolled": false
   },
   "outputs": [
    {
     "data": {
      "text/markdown": [
       "```python\n",
       "from pyomo.environ import *\n",
       "\n",
       "# Create a model\n",
       "model = ConcreteModel()\n",
       "\n",
       "# Parameters (using sample data as provided)\n",
       "model.s_COLI = Param(initialize=40)  # Units of 1.5L COLI produced per hL of syrup\n",
       "model.s_PEPSA = Param(initialize=20) # Units of 1.5L PEPSA produced per hL of syrup\n",
       "model.c_syrup = Param(initialize=150) # Cost of buying and processing one hL of syrup\n",
       "model.capacity = Param(initialize=7100)  # Net production capacity of the S1 line\n",
       "model.hours = Param(initialize=8)      # Daily working hours\n",
       "\n",
       "# Decision Variables\n",
       "model.X1 = Var(domain=NonNegativeReals)  # Units of 1.5L COLI produced daily\n",
       "model.X2 = Var(domain=NonNegativeReals)  # Units of 1.5L PEPSA produced daily\n",
       "model.H = Var(domain=NonNegativeReals)   # Hectolitres of syrup used daily\n",
       "\n",
       "# Objective Function\n",
       "model.profit = Objective(expr=49000*model.X1 - model.X1**2 + 30*model.X2 - 2*model.X2**2 - model.c_syrup*model.H, sense=maximize)\n",
       "\n",
       "# Constraints\n",
       "model.syrup_usage = Constraint(expr=model.H >= (model.X1 / model.s_COLI) + (model.X2 / model.s_PEPSA))\n",
       "model.production_capacity = Constraint(expr=model.X1 + model.X2 <= model.capacity * model.hours)\n",
       "model.pepsa_target = Constraint(expr=model.X2 >= 0.5 * model.X1)\n",
       "\n",
       "# Solve the model\n",
       "solver = SolverFactory('glpk')  # You can choose a different solver if available\n",
       "solver.solve(model)\n",
       "\n",
       "# Print the results\n",
       "print(f\"Optimal COLI production (X1): {value(model.X1)} units\")\n",
       "print(f\"Optimal PEPSA production (X2): {value(model.X2)} units\")\n",
       "print(f\"Optimal syrup usage (H): {value(model.H)} hectolitres\")\n",
       "print(f\"Maximum daily profit: ${value(model.profit)}\") \n",
       "```\n"
      ],
      "text/plain": [
       "<IPython.core.display.Markdown object>"
      ]
     },
     "execution_count": 142,
     "metadata": {},
     "output_type": "execute_result"
    }
   ],
   "source": [
    "#Showing the code in a formatted way\n",
    "Markdown(response2.text)"
   ]
  },
  {
   "cell_type": "markdown",
   "id": "b60756ae",
   "metadata": {},
   "source": [
    "## 4. Input problem data and try running the generated code"
   ]
  },
  {
   "cell_type": "code",
   "execution_count": 144,
   "id": "1b52a46c",
   "metadata": {},
   "outputs": [
    {
     "name": "stdout",
     "output_type": "stream",
     "text": [
      "Optimal COLI production (X1): 16335.833333340031 units\n",
      "Optimal PEPSA production (X2): 8167.916666660053 units\n",
      "Optimal syrup usage (H): 816.7916666646894 hectolitres\n",
      "Maximum daily profit: $400289176.04199225\n"
     ]
    }
   ],
   "source": [
    "from pyomo.environ import *\n",
    "\n",
    "# Create a model\n",
    "model = ConcreteModel()\n",
    "\n",
    "# Parameters (using sample data as provided)\n",
    "model.s_COLI = Param(initialize=40)  # Units of 1.5L COLI produced per hL of syrup\n",
    "model.s_PEPSA = Param(initialize=20) # Units of 1.5L PEPSA produced per hL of syrup\n",
    "model.c_syrup = Param(initialize=150) # Cost of buying and processing one hL of syrup\n",
    "model.capacity = Param(initialize=7100)  # Net production capacity of the S1 line\n",
    "model.hours = Param(initialize=8)      # Daily working hours\n",
    "\n",
    "# Decision Variables\n",
    "model.X1 = Var(domain=NonNegativeReals)  # Units of 1.5L COLI produced daily\n",
    "model.X2 = Var(domain=NonNegativeReals)  # Units of 1.5L PEPSA produced daily\n",
    "model.H = Var(domain=NonNegativeReals)   # Hectolitres of syrup used daily\n",
    "\n",
    "# Objective Function\n",
    "model.profit = Objective(expr=49000*model.X1 - model.X1**2 + 30*model.X2 - 2*model.X2**2 - model.c_syrup*model.H, sense=maximize)\n",
    "\n",
    "# Constraints\n",
    "model.syrup_usage = Constraint(expr=model.H >= (model.X1 / model.s_COLI) + (model.X2 / model.s_PEPSA))\n",
    "model.production_capacity = Constraint(expr=model.X1 + model.X2 <= model.capacity * model.hours)\n",
    "model.pepsa_target = Constraint(expr=model.X2 >= 0.5 * model.X1)\n",
    "\n",
    "# Solve the model\n",
    "solver = SolverFactory('ipopt')  # You can choose a different solver if available\n",
    "solver.solve(model)\n",
    "\n",
    "# Print the results\n",
    "print(f\"Optimal COLI production (X1): {value(model.X1)} units\")\n",
    "print(f\"Optimal PEPSA production (X2): {value(model.X2)} units\")\n",
    "print(f\"Optimal syrup usage (H): {value(model.H)} hectolitres\")\n",
    "print(f\"Maximum daily profit: ${value(model.profit)}\") "
   ]
  },
  {
   "cell_type": "markdown",
   "id": "1be0926e",
   "metadata": {},
   "source": [
    "## 5. Correct the code to verify model viability (optional)"
   ]
  },
  {
   "cell_type": "code",
   "execution_count": null,
   "id": "8b37acfc",
   "metadata": {},
   "outputs": [],
   "source": []
  },
  {
   "cell_type": "markdown",
   "id": "699a05e8",
   "metadata": {},
   "source": [
    "## 6. Printing the outputs as strings, so they can be saved."
   ]
  },
  {
   "cell_type": "code",
   "execution_count": 145,
   "id": "e904cf68",
   "metadata": {},
   "outputs": [
    {
     "name": "stdout",
     "output_type": "stream",
     "text": [
      "## Mathematical Optimization Model\n",
      "\n",
      "**Parameters:**\n",
      "\n",
      "*  `s_COLI`: Units of 1.5L COLI produced per hectolitre of syrup (40 units/hL)\n",
      "*  `s_PEPSA`: Units of 1.5L PEPSA produced per hectolitre of syrup (20 units/hL)\n",
      "*  `c_syrup`: Cost of buying and processing one hectolitre of syrup ($150/hL)\n",
      "*  `capacity`: Net production capacity of the S1 line (7100 units/hour)\n",
      "*  `hours`: Daily working hours (8 hours/day)\n",
      "\n",
      "**Decision Variables:**\n",
      "\n",
      "*  `X1`: Units of 1.5L COLI produced daily\n",
      "*  `X2`: Units of 1.5L PEPSA produced daily\n",
      "*  `H`: Hectolitres of syrup used daily\n",
      "\n",
      "**Objective Function:**\n",
      "\n",
      "Maximize daily profit (in dollars):\n",
      "\n",
      "```\n",
      "Maximize Z = 49000*X1 - X1^2 + 30*X2 - 2*X2^2 - c_syrup*H \n",
      "```\n",
      "\n",
      "**Constraints:**\n",
      "\n",
      "1. **Syrup Usage:** The amount of syrup used should be enough to produce the planned units of COLI and PEPSA:\n",
      "   ```\n",
      "   H >= (X1 / s_COLI) + (X2 / s_PEPSA)\n",
      "   ```\n",
      "2. **Production Capacity:** Total production cannot exceed the S1 line's capacity:\n",
      "   ```\n",
      "   X1 + X2 <= capacity * hours\n",
      "   ```\n",
      "3. **PEPSA Production Target:** PEPSA production should be at least half of COLI production:\n",
      "   ```\n",
      "   X2 >= 0.5 * X1 \n",
      "   ```\n",
      "4. **Non-Negativity:** Production quantities and syrup usage cannot be negative:\n",
      "   ```\n",
      "   X1 >= 0\n",
      "   X2 >= 0\n",
      "   H >= 0\n",
      "   ```\n",
      "\n",
      "This model aims to determine the optimal daily production quantities of COLI (X1) and PEPSA (X2), as well as the required amount of syrup (H), that maximize the daily profit for the firm, while adhering to the production capacity, syrup availability, and the firm's commitment to producing at least half the amount of PEPSA compared to COLI. \n",
      "\n"
     ]
    }
   ],
   "source": [
    "print(response.text)"
   ]
  },
  {
   "cell_type": "code",
   "execution_count": 146,
   "id": "859eaf28",
   "metadata": {},
   "outputs": [
    {
     "name": "stdout",
     "output_type": "stream",
     "text": [
      "```python\n",
      "from pyomo.environ import *\n",
      "\n",
      "# Create a model\n",
      "model = ConcreteModel()\n",
      "\n",
      "# Parameters (using sample data as provided)\n",
      "model.s_COLI = Param(initialize=40)  # Units of 1.5L COLI produced per hL of syrup\n",
      "model.s_PEPSA = Param(initialize=20) # Units of 1.5L PEPSA produced per hL of syrup\n",
      "model.c_syrup = Param(initialize=150) # Cost of buying and processing one hL of syrup\n",
      "model.capacity = Param(initialize=7100)  # Net production capacity of the S1 line\n",
      "model.hours = Param(initialize=8)      # Daily working hours\n",
      "\n",
      "# Decision Variables\n",
      "model.X1 = Var(domain=NonNegativeReals)  # Units of 1.5L COLI produced daily\n",
      "model.X2 = Var(domain=NonNegativeReals)  # Units of 1.5L PEPSA produced daily\n",
      "model.H = Var(domain=NonNegativeReals)   # Hectolitres of syrup used daily\n",
      "\n",
      "# Objective Function\n",
      "model.profit = Objective(expr=49000*model.X1 - model.X1**2 + 30*model.X2 - 2*model.X2**2 - model.c_syrup*model.H, sense=maximize)\n",
      "\n",
      "# Constraints\n",
      "model.syrup_usage = Constraint(expr=model.H >= (model.X1 / model.s_COLI) + (model.X2 / model.s_PEPSA))\n",
      "model.production_capacity = Constraint(expr=model.X1 + model.X2 <= model.capacity * model.hours)\n",
      "model.pepsa_target = Constraint(expr=model.X2 >= 0.5 * model.X1)\n",
      "\n",
      "# Solve the model\n",
      "solver = SolverFactory('glpk')  # You can choose a different solver if available\n",
      "solver.solve(model)\n",
      "\n",
      "# Print the results\n",
      "print(f\"Optimal COLI production (X1): {value(model.X1)} units\")\n",
      "print(f\"Optimal PEPSA production (X2): {value(model.X2)} units\")\n",
      "print(f\"Optimal syrup usage (H): {value(model.H)} hectolitres\")\n",
      "print(f\"Maximum daily profit: ${value(model.profit)}\") \n",
      "```\n",
      "\n"
     ]
    }
   ],
   "source": [
    "print(response2.text)"
   ]
  }
 ],
 "metadata": {
  "kernelspec": {
   "display_name": "Python 3 (ipykernel)",
   "language": "python",
   "name": "python3"
  },
  "language_info": {
   "codemirror_mode": {
    "name": "ipython",
    "version": 3
   },
   "file_extension": ".py",
   "mimetype": "text/x-python",
   "name": "python",
   "nbconvert_exporter": "python",
   "pygments_lexer": "ipython3",
   "version": "3.11.4"
  }
 },
 "nbformat": 4,
 "nbformat_minor": 5
}
