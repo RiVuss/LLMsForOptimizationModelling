{
 "cells": [
  {
   "cell_type": "markdown",
   "id": "0df7edfd",
   "metadata": {},
   "source": [
    "# LLM Optimization Modelling Experiment"
   ]
  },
  {
   "cell_type": "code",
   "execution_count": 30,
   "id": "7f664028",
   "metadata": {},
   "outputs": [],
   "source": [
    "import vertexai\n",
    "from vertexai.preview.generative_models import GenerativeModel\n",
    "from IPython.display import Markdown"
   ]
  },
  {
   "cell_type": "markdown",
   "id": "c106f1be",
   "metadata": {},
   "source": [
    "## 1. Define the problem description"
   ]
  },
  {
   "cell_type": "code",
   "execution_count": 128,
   "id": "9adce4b2",
   "metadata": {},
   "outputs": [],
   "source": [
    "problem = '''A firm that packs refreshments and beers, situated in the province of Valencia (Spain) employs the same syrup to produce its 1.5 l COLI and PEPSA products on its S1 production line. Once processed, each hectolitre of syrup produces 40 units of the 1.5 l COLI product and 20 units of the 1.5 l PEPSA product. If X1 units of the 1.5 l COLI product and X2 units of the 1.5 l PEPSA product are produced, the firm estimates that the daily income obtained in dollars would be given by the following function:\n",
    "49000 times X1 minus X1 squared plus 30 times X2 minus two times X2 squared. \n",
    "It costs 150 dollars to buy and process each hectolitre of syrup. The S1 packaging line has a net capacity of producing 7100 1.5 l product units every hour. The firm works 5 days a week in 8h shifts. Given its weekly target coverage, the firm is committed to produce at least half the amount of PEPSA than COLI. Although priority orders tend to amend its production planning, the firm wishes to have a basic product planning that optimises its daily profits. \n",
    "'''"
   ]
  },
  {
   "cell_type": "markdown",
   "id": "063be1a3",
   "metadata": {},
   "source": [
    "## 2. Generate the mathematical model"
   ]
  },
  {
   "cell_type": "code",
   "execution_count": 145,
   "id": "e31ec80c",
   "metadata": {},
   "outputs": [],
   "source": [
    "#Initializing the session. To replicate, make sure the right credentials are saved in a PATH variable\n",
    "PROJECT_ID = \"llm4optproblems\"\n",
    "REGION = \"us-central1\"\n",
    "vertexai.init(project=PROJECT_ID, location=REGION)\n",
    "\n",
    "#Specifying the model\n",
    "generative_multimodal_model = GenerativeModel(\"gemini-1.5-pro-preview-0409\")\n",
    "\n",
    "#The propmt applied to all problems\n",
    "prompt = '''Let's think step by step. Please write a mathematical optimization model for this problem. If there are parameter values, make sure to include them in the mathematical formulation.\n",
    "'''\n",
    "\n",
    "#Generate the response\n",
    "response = generative_multimodal_model.generate_content([prompt+problem])\n"
   ]
  },
  {
   "cell_type": "code",
   "execution_count": 146,
   "id": "f9adc567",
   "metadata": {},
   "outputs": [
    {
     "data": {
      "text/markdown": [
       "## Mathematical Optimization Model for Production Planning\n",
       "\n",
       "### Objective Function (Maximize Daily Profit)\n",
       "\n",
       "The objective is to maximize the daily profit, which is the difference between income and cost. \n",
       "\n",
       "**Profit = Income - Cost**\n",
       "\n",
       "**Income:** 49000 * X1 - X1^2 + 30 * X2 - 2 * X2^2 \n",
       "\n",
       "**Cost:** 150 * H (where H is the number of hectoliters of syrup used)\n",
       "\n",
       "We need to express H in terms of X1 and X2. From the problem statement, we know:\n",
       "\n",
       "* 1 hectoliter of syrup produces 40 units of COLI (X1) and 20 units of PEPSA (X2)\n",
       "* Therefore, H = (X1/40) + (X2/20)\n",
       "\n",
       "Substituting this into the cost function:\n",
       "\n",
       "**Cost:** 150 * ((X1/40) + (X2/20))\n",
       "\n",
       "Therefore, the objective function to maximize is:\n",
       "\n",
       "**Maximize:** 49000 * X1 - X1^2 + 30 * X2 - 2 * X2^2 - 150 * ((X1/40) + (X2/20))\n",
       "\n",
       "### Constraints\n",
       "\n",
       "1. **Production Capacity:** The total number of 1.5L products produced per day cannot exceed the production line capacity. The capacity is 7100 units per hour, and the firm operates 8 hours per day, 5 days a week. However, since we are optimizing daily profit, we will consider only the daily capacity.\n",
       "\n",
       "**(X1 + X2) <= 7100 * 8**\n",
       "\n",
       "2. **Minimum PEPSA Production:** The firm is committed to producing at least half the amount of PEPSA compared to COLI.\n",
       "\n",
       "**X2 >= 0.5 * X1**\n",
       "\n",
       "3. **Non-negativity:** The production quantities cannot be negative.\n",
       "\n",
       "**X1 >= 0**\n",
       "**X2 >= 0**\n",
       "\n",
       "### Model Summary\n",
       "\n",
       "**Maximize:** 49000 * X1 - X1^2 + 30 * X2 - 2 * X2^2 - 150 * ((X1/40) + (X2/20))\n",
       "\n",
       "**Subject to:**\n",
       "\n",
       "* X1 + X2 <= 56800 \n",
       "* X2 >= 0.5 * X1\n",
       "* X1 >= 0\n",
       "* X2 >= 0\n",
       "\n",
       "This model can be solved using various optimization software or tools to find the optimal values of X1 and X2 that maximize the daily profit while satisfying the production constraints. \n"
      ],
      "text/plain": [
       "<IPython.core.display.Markdown object>"
      ]
     },
     "execution_count": 146,
     "metadata": {},
     "output_type": "execute_result"
    }
   ],
   "source": [
    "#Show the resopnse in a formatted way\n",
    "Markdown(response.text)"
   ]
  },
  {
   "cell_type": "markdown",
   "id": "49104a9a",
   "metadata": {},
   "source": [
    "## 3. Generate the pyomo code"
   ]
  },
  {
   "cell_type": "code",
   "execution_count": 147,
   "id": "aabea932",
   "metadata": {},
   "outputs": [],
   "source": [
    "#Second prompt gets the output of the previous step and generates the code\n",
    "prompt2 = \"Please write pyomo code for this mathematical problem. Use sample data where needed. Indicate where you use sample data. \\n\"\n",
    "prompt2 += response.text \n",
    "response2 = generative_multimodal_model.generate_content([prompt2])"
   ]
  },
  {
   "cell_type": "code",
   "execution_count": 148,
   "id": "fd2835af",
   "metadata": {
    "scrolled": false
   },
   "outputs": [
    {
     "data": {
      "text/markdown": [
       "```python\n",
       "import pyomo.environ as pyo\n",
       "\n",
       "# Create a Pyomo ConcreteModel\n",
       "model = pyo.ConcreteModel()\n",
       "\n",
       "# Define decision variables\n",
       "model.X1 = pyo.Var(domain=pyo.NonNegativeReals)  # Production quantity of COLI\n",
       "model.X2 = pyo.Var(domain=pyo.NonNegativeReals)  # Production quantity of PEPSA\n",
       "\n",
       "# Define objective function (Maximize profit)\n",
       "model.profit = pyo.Objective(\n",
       "    expr=49000 * model.X1 - model.X1**2 + 30 * model.X2 - 2 * model.X2**2 - 150 * (\n",
       "        (model.X1 / 40) + (model.X2 / 20)\n",
       "    ),\n",
       "    sense=pyo.maximize\n",
       ")\n",
       "\n",
       "# Define constraints\n",
       "model.capacity_constraint = pyo.Constraint(\n",
       "    expr=model.X1 + model.X2 <= 56800  # Daily production capacity\n",
       ")\n",
       "model.production_ratio_constraint = pyo.Constraint(\n",
       "    expr=model.X2 >= 0.5 * model.X1  # Minimum PEPSA production\n",
       ")\n",
       "\n",
       "# Solve the model using a solver (e.g., CBC)\n",
       "solver = pyo.SolverFactory('cbc')\n",
       "solver.solve(model)\n",
       "\n",
       "# Print the optimal solution\n",
       "print(\"Optimal Production Quantities:\")\n",
       "print(\"COLI (X1):\", pyo.value(model.X1))\n",
       "print(\"PEPSA (X2):\", pyo.value(model.X2))\n",
       "print(\"Maximum Daily Profit:\", pyo.value(model.profit))\n",
       "```\n",
       "\n",
       "**Explanation:**\n",
       "\n",
       "1. **Model Creation:** We create a `ConcreteModel` instance to represent our optimization problem. \n",
       "2. **Decision Variables:** We define two decision variables, `X1` and `X2`, representing the production quantities of COLI and PEPSA respectively. They are defined as non-negative real numbers.\n",
       "3. **Objective Function:** The objective function `profit` is defined to maximize the daily profit based on the provided formula. \n",
       "4. **Constraints:**\n",
       "    * `capacity_constraint`: This constraint ensures that the total daily production does not exceed the capacity of 56,800 units (7100 units/hour * 8 hours).\n",
       "    * `production_ratio_constraint`: This constraint ensures that the production of PEPSA is at least half the production of COLI.\n",
       "5. **Solver:** We choose the `cbc` solver (you can use other solvers like glpk, cplex, gurobi) to solve the model. \n",
       "6. **Solution and Output:** The optimal values for `X1`, `X2`, and the maximum profit are printed.\n",
       "\n",
       "**Sample Data:**\n",
       "\n",
       "* The production capacity (56,800 units) is calculated based on the given information about production line capacity (7100 units/hour) and daily operating hours (8 hours).\n",
       "* The coefficients in the objective function and constraints are derived from the problem statement. \n"
      ],
      "text/plain": [
       "<IPython.core.display.Markdown object>"
      ]
     },
     "execution_count": 148,
     "metadata": {},
     "output_type": "execute_result"
    }
   ],
   "source": [
    "#Showing the code in a formatted way\n",
    "Markdown(response2.text)"
   ]
  },
  {
   "cell_type": "markdown",
   "id": "b60756ae",
   "metadata": {},
   "source": [
    "## 4. Input problem data and try running the generated code"
   ]
  },
  {
   "cell_type": "code",
   "execution_count": 152,
   "id": "f82b3efc",
   "metadata": {},
   "outputs": [
    {
     "name": "stdout",
     "output_type": "stream",
     "text": [
      "Optimal Production Quantities:\n",
      "COLI (X1): 16335.833333340004\n",
      "PEPSA (X2): 8167.91666666004\n",
      "Maximum Daily Profit: 400289176.04199195\n"
     ]
    }
   ],
   "source": [
    "import pyomo.environ as pyo\n",
    "\n",
    "# Create a Pyomo ConcreteModel\n",
    "model = pyo.ConcreteModel()\n",
    "\n",
    "# Define decision variables\n",
    "model.X1 = pyo.Var(domain=pyo.NonNegativeReals)  # Production quantity of COLI\n",
    "model.X2 = pyo.Var(domain=pyo.NonNegativeReals)  # Production quantity of PEPSA\n",
    "\n",
    "# Define objective function (Maximize profit)\n",
    "model.profit = pyo.Objective(\n",
    "    expr=49000 * model.X1 - model.X1**2 + 30 * model.X2 - 2 * model.X2**2 - 150 * (\n",
    "        (model.X1 / 40) + (model.X2 / 20)\n",
    "    ),\n",
    "    sense=pyo.maximize\n",
    ")\n",
    "\n",
    "# Define constraints\n",
    "model.capacity_constraint = pyo.Constraint(\n",
    "    expr=model.X1 + model.X2 <= 56800  # Daily production capacity\n",
    ")\n",
    "model.production_ratio_constraint = pyo.Constraint(\n",
    "    expr=model.X2 >= 0.5 * model.X1  # Minimum PEPSA production\n",
    ")\n",
    "\n",
    "# Solve the model using a solver (e.g., CBC)\n",
    "solver = pyo.SolverFactory('ipopt')\n",
    "solver.solve(model)\n",
    "\n",
    "# Print the optimal solution\n",
    "print(\"Optimal Production Quantities:\")\n",
    "print(\"COLI (X1):\", pyo.value(model.X1))\n",
    "print(\"PEPSA (X2):\", pyo.value(model.X2))\n",
    "print(\"Maximum Daily Profit:\", pyo.value(model.profit))"
   ]
  },
  {
   "cell_type": "markdown",
   "id": "8f10340f",
   "metadata": {},
   "source": [
    "## 5. Correct the code to verify model viability (optional)"
   ]
  },
  {
   "cell_type": "code",
   "execution_count": null,
   "id": "9e6fc018",
   "metadata": {},
   "outputs": [],
   "source": []
  },
  {
   "cell_type": "markdown",
   "id": "03525f23",
   "metadata": {},
   "source": [
    "## 6. Printing the outputs as strings, so they can be saved.\n",
    "Those can be rendered as markdown for better readability"
   ]
  },
  {
   "cell_type": "code",
   "execution_count": 153,
   "id": "9d832f4d",
   "metadata": {},
   "outputs": [
    {
     "name": "stdout",
     "output_type": "stream",
     "text": [
      "## Mathematical Optimization Model for Production Planning\n",
      "\n",
      "### Objective Function (Maximize Daily Profit)\n",
      "\n",
      "The objective is to maximize the daily profit, which is the difference between income and cost. \n",
      "\n",
      "**Profit = Income - Cost**\n",
      "\n",
      "**Income:** 49000 * X1 - X1^2 + 30 * X2 - 2 * X2^2 \n",
      "\n",
      "**Cost:** 150 * H (where H is the number of hectoliters of syrup used)\n",
      "\n",
      "We need to express H in terms of X1 and X2. From the problem statement, we know:\n",
      "\n",
      "* 1 hectoliter of syrup produces 40 units of COLI (X1) and 20 units of PEPSA (X2)\n",
      "* Therefore, H = (X1/40) + (X2/20)\n",
      "\n",
      "Substituting this into the cost function:\n",
      "\n",
      "**Cost:** 150 * ((X1/40) + (X2/20))\n",
      "\n",
      "Therefore, the objective function to maximize is:\n",
      "\n",
      "**Maximize:** 49000 * X1 - X1^2 + 30 * X2 - 2 * X2^2 - 150 * ((X1/40) + (X2/20))\n",
      "\n",
      "### Constraints\n",
      "\n",
      "1. **Production Capacity:** The total number of 1.5L products produced per day cannot exceed the production line capacity. The capacity is 7100 units per hour, and the firm operates 8 hours per day, 5 days a week. However, since we are optimizing daily profit, we will consider only the daily capacity.\n",
      "\n",
      "**(X1 + X2) <= 7100 * 8**\n",
      "\n",
      "2. **Minimum PEPSA Production:** The firm is committed to producing at least half the amount of PEPSA compared to COLI.\n",
      "\n",
      "**X2 >= 0.5 * X1**\n",
      "\n",
      "3. **Non-negativity:** The production quantities cannot be negative.\n",
      "\n",
      "**X1 >= 0**\n",
      "**X2 >= 0**\n",
      "\n",
      "### Model Summary\n",
      "\n",
      "**Maximize:** 49000 * X1 - X1^2 + 30 * X2 - 2 * X2^2 - 150 * ((X1/40) + (X2/20))\n",
      "\n",
      "**Subject to:**\n",
      "\n",
      "* X1 + X2 <= 56800 \n",
      "* X2 >= 0.5 * X1\n",
      "* X1 >= 0\n",
      "* X2 >= 0\n",
      "\n",
      "This model can be solved using various optimization software or tools to find the optimal values of X1 and X2 that maximize the daily profit while satisfying the production constraints. \n",
      "\n"
     ]
    }
   ],
   "source": [
    "print(response.text)"
   ]
  },
  {
   "cell_type": "code",
   "execution_count": 154,
   "id": "57e86877",
   "metadata": {},
   "outputs": [
    {
     "name": "stdout",
     "output_type": "stream",
     "text": [
      "```python\n",
      "import pyomo.environ as pyo\n",
      "\n",
      "# Create a Pyomo ConcreteModel\n",
      "model = pyo.ConcreteModel()\n",
      "\n",
      "# Define decision variables\n",
      "model.X1 = pyo.Var(domain=pyo.NonNegativeReals)  # Production quantity of COLI\n",
      "model.X2 = pyo.Var(domain=pyo.NonNegativeReals)  # Production quantity of PEPSA\n",
      "\n",
      "# Define objective function (Maximize profit)\n",
      "model.profit = pyo.Objective(\n",
      "    expr=49000 * model.X1 - model.X1**2 + 30 * model.X2 - 2 * model.X2**2 - 150 * (\n",
      "        (model.X1 / 40) + (model.X2 / 20)\n",
      "    ),\n",
      "    sense=pyo.maximize\n",
      ")\n",
      "\n",
      "# Define constraints\n",
      "model.capacity_constraint = pyo.Constraint(\n",
      "    expr=model.X1 + model.X2 <= 56800  # Daily production capacity\n",
      ")\n",
      "model.production_ratio_constraint = pyo.Constraint(\n",
      "    expr=model.X2 >= 0.5 * model.X1  # Minimum PEPSA production\n",
      ")\n",
      "\n",
      "# Solve the model using a solver (e.g., CBC)\n",
      "solver = pyo.SolverFactory('cbc')\n",
      "solver.solve(model)\n",
      "\n",
      "# Print the optimal solution\n",
      "print(\"Optimal Production Quantities:\")\n",
      "print(\"COLI (X1):\", pyo.value(model.X1))\n",
      "print(\"PEPSA (X2):\", pyo.value(model.X2))\n",
      "print(\"Maximum Daily Profit:\", pyo.value(model.profit))\n",
      "```\n",
      "\n",
      "**Explanation:**\n",
      "\n",
      "1. **Model Creation:** We create a `ConcreteModel` instance to represent our optimization problem. \n",
      "2. **Decision Variables:** We define two decision variables, `X1` and `X2`, representing the production quantities of COLI and PEPSA respectively. They are defined as non-negative real numbers.\n",
      "3. **Objective Function:** The objective function `profit` is defined to maximize the daily profit based on the provided formula. \n",
      "4. **Constraints:**\n",
      "    * `capacity_constraint`: This constraint ensures that the total daily production does not exceed the capacity of 56,800 units (7100 units/hour * 8 hours).\n",
      "    * `production_ratio_constraint`: This constraint ensures that the production of PEPSA is at least half the production of COLI.\n",
      "5. **Solver:** We choose the `cbc` solver (you can use other solvers like glpk, cplex, gurobi) to solve the model. \n",
      "6. **Solution and Output:** The optimal values for `X1`, `X2`, and the maximum profit are printed.\n",
      "\n",
      "**Sample Data:**\n",
      "\n",
      "* The production capacity (56,800 units) is calculated based on the given information about production line capacity (7100 units/hour) and daily operating hours (8 hours).\n",
      "* The coefficients in the objective function and constraints are derived from the problem statement. \n",
      "\n"
     ]
    }
   ],
   "source": [
    "print(response2.text)"
   ]
  }
 ],
 "metadata": {
  "kernelspec": {
   "display_name": "Python 3 (ipykernel)",
   "language": "python",
   "name": "python3"
  },
  "language_info": {
   "codemirror_mode": {
    "name": "ipython",
    "version": 3
   },
   "file_extension": ".py",
   "mimetype": "text/x-python",
   "name": "python",
   "nbconvert_exporter": "python",
   "pygments_lexer": "ipython3",
   "version": "3.11.4"
  }
 },
 "nbformat": 4,
 "nbformat_minor": 5
}
