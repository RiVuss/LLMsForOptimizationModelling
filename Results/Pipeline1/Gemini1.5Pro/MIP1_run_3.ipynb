{
 "cells": [
  {
   "cell_type": "markdown",
   "id": "f0005e9e",
   "metadata": {},
   "source": [
    "# LLM Optimization Modelling Experiment"
   ]
  },
  {
   "cell_type": "code",
   "execution_count": 3,
   "id": "7f664028",
   "metadata": {},
   "outputs": [],
   "source": [
    "import vertexai\n",
    "from vertexai.preview.generative_models import GenerativeModel, Image\n",
    "from IPython.display import Markdown"
   ]
  },
  {
   "cell_type": "markdown",
   "id": "f527d6af",
   "metadata": {},
   "source": [
    "## 1. Define the problem description"
   ]
  },
  {
   "cell_type": "code",
   "execution_count": 88,
   "id": "25055ffd",
   "metadata": {},
   "outputs": [],
   "source": [
    "problem = '''You are a city planner, looking to open facilities at some locations. We have a set of customers and a set of possible locations for opening facilities. Each potential location for establishing a facility incurs a fixed annual activation cost, which must be paid if the facility is used, regardless of the service volume it handles. Furthermore, this service volume at each facility is capped at a maximum annual limit. Additionally, there are transportation costs associated with servicing each customer from each facility.\n",
    "The goal is to minimize the overall costs, which include both the fixed activation costs for any opened facilities and the transportation costs for servicing customers. This must be done while making sure that each customer’s demand is met, each facility does not exceed its maximum service volume, and customers can of course only be serviced by a facility that is opened. \n",
    "Please formulate this as a mathematical optimization model.'''"
   ]
  },
  {
   "cell_type": "markdown",
   "id": "472cf9ad",
   "metadata": {},
   "source": [
    "## 2. Generate the mathematical model"
   ]
  },
  {
   "cell_type": "code",
   "execution_count": 89,
   "id": "e31ec80c",
   "metadata": {},
   "outputs": [],
   "source": [
    "#Initializing the session. To replicate, make sure the right credentials are saved in a PATH variable\n",
    "PROJECT_ID = \"llm4optproblems\"\n",
    "REGION = \"us-central1\"\n",
    "vertexai.init(project=PROJECT_ID, location=REGION)\n",
    "\n",
    "#Specifying the model\n",
    "generative_multimodal_model = GenerativeModel(\"gemini-1.5-pro-preview-0409\")\n",
    "\n",
    "#The propmt applied to all problems\n",
    "prompt = '''Please formulate a mathematical optimization model for this problem. Include parameters, decision variables, the objective function and the constraints in your answer.\n",
    "'''\n",
    "\n",
    "#Generate the response\n",
    "response = generative_multimodal_model.generate_content([prompt+problem])\n"
   ]
  },
  {
   "cell_type": "code",
   "execution_count": 90,
   "id": "f9adc567",
   "metadata": {},
   "outputs": [
    {
     "data": {
      "text/markdown": [
       "## Mathematical Optimization Model for Facility Location and Customer Allocation\n",
       "\n",
       "**Sets:**\n",
       "\n",
       "*  $I$: Set of potential facility locations.\n",
       "*  $J$: Set of customers. \n",
       "\n",
       "**Parameters:**\n",
       "\n",
       "*  $f_i$: Fixed annual activation cost for facility $i \\in I$.\n",
       "*  $C_i$: Maximum annual service volume of facility $i \\in I$.\n",
       "*  $d_j$: Annual demand of customer $j \\in J$.\n",
       "*  $t_{ij}$: Transportation cost per unit demand of serving customer $j \\in J$ from facility $i \\in I$.\n",
       "\n",
       "**Decision Variables:**\n",
       "\n",
       "*  $x_{ij}$: Amount of demand of customer $j \\in J$ served by facility $i \\in I$.\n",
       "*  $y_i$: Binary variable equal to 1 if facility $i \\in I$ is opened, 0 otherwise.\n",
       "\n",
       "**Objective Function:**\n",
       "\n",
       "Minimize the total cost, which is the sum of fixed activation costs and transportation costs:\n",
       "\n",
       "$$\n",
       "\\min \\sum_{i \\in I} f_i y_i + \\sum_{i \\in I} \\sum_{j \\in J} t_{ij} x_{ij}\n",
       "$$\n",
       "\n",
       "**Constraints:**\n",
       "\n",
       "1. **Demand satisfaction:** Each customer's demand must be met:\n",
       "   $$\n",
       "   \\sum_{i \\in I} x_{ij} = d_j, \\quad \\forall j \\in J\n",
       "   $$\n",
       "\n",
       "2. **Capacity constraint:** No facility can exceed its maximum service volume:\n",
       "   $$\n",
       "   \\sum_{j \\in J} x_{ij} \\leq C_i y_i, \\quad \\forall i \\in I\n",
       "   $$\n",
       "\n",
       "3. **Service only from opened facilities:** Customers can only be served by facilities that are open:\n",
       "   $$\n",
       "   x_{ij} \\leq d_j y_i, \\quad \\forall i \\in I, \\ \\forall j \\in J \n",
       "   $$\n",
       "\n",
       "4. **Binary constraint for facility activation:**\n",
       "   $$\n",
       "   y_i \\in \\{0, 1\\}, \\quad \\forall i \\in I\n",
       "   $$\n",
       "\n",
       "5. **Non-negativity constraint for service volume:**\n",
       "   $$\n",
       "   x_{ij} \\geq 0, \\quad \\forall i \\in I, \\ \\forall j \\in J\n",
       "   $$\n",
       "\n",
       "This model is a Mixed-Integer Linear Program (MILP) because it involves both continuous variables ($x_{ij}$) and binary variables ($y_i$). It can be solved using optimization software packages to determine the optimal facility locations and customer allocation that minimizes overall costs. \n"
      ],
      "text/plain": [
       "<IPython.core.display.Markdown object>"
      ]
     },
     "execution_count": 90,
     "metadata": {},
     "output_type": "execute_result"
    }
   ],
   "source": [
    "#Show the resopnse in a formatted way\n",
    "Markdown(response.text)"
   ]
  },
  {
   "cell_type": "markdown",
   "id": "75796979",
   "metadata": {},
   "source": [
    "## 3. Generate the pyomo code"
   ]
  },
  {
   "cell_type": "code",
   "execution_count": 91,
   "id": "aabea932",
   "metadata": {},
   "outputs": [],
   "source": [
    "#Second prompt gets the output of the previous step and generates the code\n",
    "prompt2 = \"Please write pyomo code for this mathematical problem. Use sample data where needed. Indicate where you use sample data. \\n\"\n",
    "prompt2 += response.text \n",
    "response2 = generative_multimodal_model.generate_content([prompt2])"
   ]
  },
  {
   "cell_type": "code",
   "execution_count": 92,
   "id": "fd2835af",
   "metadata": {
    "scrolled": false
   },
   "outputs": [
    {
     "data": {
      "text/markdown": [
       "```python\n",
       "import pyomo.environ as pyo\n",
       "\n",
       "# Sample Data (replace with actual data)\n",
       "I = ['Facility1', 'Facility2', 'Facility3']  \n",
       "J = ['Customer1', 'Customer2', 'Customer3', 'Customer4'] \n",
       "\n",
       "f = {'Facility1': 100, 'Facility2': 150, 'Facility3': 120} # Sample data\n",
       "C = {'Facility1': 500, 'Facility2': 600, 'Facility3': 550} # Sample data \n",
       "d = {'Customer1': 100, 'Customer2': 150, 'Customer3': 200, 'Customer4': 180} # Sample data\n",
       "t = {('Facility1', 'Customer1'): 2, ('Facility1', 'Customer2'): 3, ('Facility1', 'Customer3'): 5, ('Facility1', 'Customer4'): 4, \n",
       "     ('Facility2', 'Customer1'): 4, ('Facility2', 'Customer2'): 2, ('Facility2', 'Customer3'): 3, ('Facility2', 'Customer4'): 5,\n",
       "     ('Facility3', 'Customer1'): 3, ('Facility3', 'Customer2'): 4, ('Facility3', 'Customer3'): 2, ('Facility3', 'Customer4'): 3} # Sample data \n",
       "\n",
       "# Model\n",
       "model = pyo.ConcreteModel()\n",
       "\n",
       "# Sets\n",
       "model.I = pyo.Set(initialize=I)\n",
       "model.J = pyo.Set(initialize=J)\n",
       "\n",
       "# Parameters\n",
       "model.f = pyo.Param(model.I, initialize=f)\n",
       "model.C = pyo.Param(model.I, initialize=C)\n",
       "model.d = pyo.Param(model.J, initialize=d)\n",
       "model.t = pyo.Param(model.I, model.J, initialize=t)\n",
       "\n",
       "# Decision Variables\n",
       "model.x = pyo.Var(model.I, model.J, within=pyo.NonNegativeReals)\n",
       "model.y = pyo.Var(model.I, within=pyo.Binary)\n",
       "\n",
       "# Objective Function\n",
       "def objective_rule(model):\n",
       "    return sum(model.f[i] * model.y[i] for i in model.I) + sum(model.t[i, j] * model.x[i, j] for i in model.I for j in model.J)\n",
       "model.obj = pyo.Objective(rule=objective_rule, sense=pyo.minimize)\n",
       "\n",
       "# Constraints\n",
       "def demand_rule(model, j):\n",
       "    return sum(model.x[i, j] for i in model.I) == model.d[j]\n",
       "model.demand_constraint = pyo.Constraint(model.J, rule=demand_rule)\n",
       "\n",
       "def capacity_rule(model, i):\n",
       "    return sum(model.x[i, j] for j in model.J) <= model.C[i] * model.y[i]\n",
       "model.capacity_constraint = pyo.Constraint(model.I, rule=capacity_rule)\n",
       "\n",
       "def service_rule(model, i, j):\n",
       "    return model.x[i, j] <= model.d[j] * model.y[i]\n",
       "model.service_constraint = pyo.Constraint(model.I, model.J, rule=service_rule)\n",
       "\n",
       "# Solve the model\n",
       "solver = pyo.SolverFactory('glpk') \n",
       "solver.solve(model)\n",
       "\n",
       "# Print the results\n",
       "print(\"Optimal Solution:\")\n",
       "print(\"Objective value:\", pyo.value(model.obj))\n",
       "for i in model.I:\n",
       "    if pyo.value(model.y[i]) > 0.5:\n",
       "        print(f\"Facility {i} is opened.\")\n",
       "        for j in model.J:\n",
       "            if pyo.value(model.x[i, j]) > 0:\n",
       "                print(f\"  Serving {pyo.value(model.x[i, j])} units of demand for Customer {j}\")\n",
       "```\n",
       "\n",
       "This code defines the model as a ConcreteModel in Pyomo, sets up the sets, parameters, decision variables, objective function, and constraints as specified in the mathematical formulation. Then, it uses the 'glpk' solver to find the optimal solution and prints the results, including the objective value, which facilities are open, and the amount of demand served for each customer from each facility. \n",
       "\n",
       "Remember to replace the sample data with your actual data.\n"
      ],
      "text/plain": [
       "<IPython.core.display.Markdown object>"
      ]
     },
     "execution_count": 92,
     "metadata": {},
     "output_type": "execute_result"
    }
   ],
   "source": [
    "#Showing the code in a formatted way\n",
    "Markdown(response2.text)"
   ]
  },
  {
   "cell_type": "markdown",
   "id": "b60756ae",
   "metadata": {},
   "source": [
    "## 4. Input problem data and try running the generated code"
   ]
  },
  {
   "cell_type": "code",
   "execution_count": 94,
   "id": "4392ddcb",
   "metadata": {},
   "outputs": [
    {
     "name": "stdout",
     "output_type": "stream",
     "text": [
      "Optimal Solution:\n",
      "Objective value: 5610.0\n",
      "Facility Facility2 is opened.\n",
      "  Serving 80.0 units of demand for Customer Customer1\n",
      "  Serving 270.0 units of demand for Customer Customer2\n",
      "  Serving 150.0 units of demand for Customer Customer3\n",
      "Facility Facility3 is opened.\n",
      "  Serving 100.0 units of demand for Customer Customer3\n",
      "  Serving 160.0 units of demand for Customer Customer4\n",
      "  Serving 180.0 units of demand for Customer Customer5\n"
     ]
    }
   ],
   "source": [
    "import pyomo.environ as pyo\n",
    "\n",
    "# Sample Data (replace with actual data)\n",
    "I = ['Facility1', 'Facility2', 'Facility3']  \n",
    "J = ['Customer1', 'Customer2', 'Customer3', 'Customer4', 'Customer5']\n",
    "\n",
    "f = {'Facility1': 1000, 'Facility2': 1000, 'Facility3': 1000}   # Sample data\n",
    "C = {'Facility1': 500, 'Facility2': 500, 'Facility3': 500} # Sample data \n",
    "d = {'Customer1': 80, 'Customer2': 270, 'Customer3': 250, 'Customer4': 160, 'Customer5': 180} # Sample data\n",
    "t = {\n",
    "    ('Facility1', 'Customer1'): 4,\n",
    "    ('Facility1', 'Customer2'): 5,\n",
    "    ('Facility1', 'Customer3'): 6,\n",
    "    ('Facility1', 'Customer4'): 8,\n",
    "    ('Facility1', 'Customer5'): 10,\n",
    "    ('Facility2', 'Customer1'): 6,\n",
    "    ('Facility2', 'Customer2'): 4,\n",
    "    ('Facility2', 'Customer3'): 3,\n",
    "    ('Facility2', 'Customer4'): 5,\n",
    "    ('Facility2', 'Customer5'): 8,\n",
    "    ('Facility3', 'Customer1'): 9,\n",
    "    ('Facility3', 'Customer2'): 7,\n",
    "    ('Facility3', 'Customer3'): 4,\n",
    "    ('Facility3', 'Customer4'): 3,\n",
    "    ('Facility3', 'Customer5'): 4,\n",
    "}\n",
    "# Model\n",
    "model = pyo.ConcreteModel()\n",
    "\n",
    "# Sets\n",
    "model.I = pyo.Set(initialize=I)\n",
    "model.J = pyo.Set(initialize=J)\n",
    "\n",
    "# Parameters\n",
    "model.f = pyo.Param(model.I, initialize=f)\n",
    "model.C = pyo.Param(model.I, initialize=C)\n",
    "model.d = pyo.Param(model.J, initialize=d)\n",
    "model.t = pyo.Param(model.I, model.J, initialize=t)\n",
    "\n",
    "# Decision Variables\n",
    "model.x = pyo.Var(model.I, model.J, within=pyo.NonNegativeReals)\n",
    "model.y = pyo.Var(model.I, within=pyo.Binary)\n",
    "\n",
    "# Objective Function\n",
    "def objective_rule(model):\n",
    "    return sum(model.f[i] * model.y[i] for i in model.I) + sum(model.t[i, j] * model.x[i, j] for i in model.I for j in model.J)\n",
    "model.obj = pyo.Objective(rule=objective_rule, sense=pyo.minimize)\n",
    "\n",
    "# Constraints\n",
    "def demand_rule(model, j):\n",
    "    return sum(model.x[i, j] for i in model.I) == model.d[j]\n",
    "model.demand_constraint = pyo.Constraint(model.J, rule=demand_rule)\n",
    "\n",
    "def capacity_rule(model, i):\n",
    "    return sum(model.x[i, j] for j in model.J) <= model.C[i] * model.y[i]\n",
    "model.capacity_constraint = pyo.Constraint(model.I, rule=capacity_rule)\n",
    "\n",
    "def service_rule(model, i, j):\n",
    "    return model.x[i, j] <= model.d[j] * model.y[i]\n",
    "model.service_constraint = pyo.Constraint(model.I, model.J, rule=service_rule)\n",
    "\n",
    "# Solve the model\n",
    "solver = pyo.SolverFactory('glpk') \n",
    "solver.solve(model)\n",
    "\n",
    "# Print the results\n",
    "print(\"Optimal Solution:\")\n",
    "print(\"Objective value:\", pyo.value(model.obj))\n",
    "for i in model.I:\n",
    "    if pyo.value(model.y[i]) > 0.5:\n",
    "        print(f\"Facility {i} is opened.\")\n",
    "        for j in model.J:\n",
    "            if pyo.value(model.x[i, j]) > 0:\n",
    "                print(f\"  Serving {pyo.value(model.x[i, j])} units of demand for Customer {j}\")"
   ]
  },
  {
   "cell_type": "markdown",
   "id": "1be0926e",
   "metadata": {},
   "source": [
    "## 5. Correct the code to verify model viability (optional)"
   ]
  },
  {
   "cell_type": "code",
   "execution_count": null,
   "id": "8b37acfc",
   "metadata": {},
   "outputs": [],
   "source": []
  },
  {
   "cell_type": "markdown",
   "id": "699a05e8",
   "metadata": {},
   "source": [
    "## 6. Printing the outputs as strings, so they can be saved."
   ]
  },
  {
   "cell_type": "code",
   "execution_count": 95,
   "id": "e904cf68",
   "metadata": {},
   "outputs": [
    {
     "name": "stdout",
     "output_type": "stream",
     "text": [
      "## Mathematical Optimization Model for Facility Location and Customer Allocation\n",
      "\n",
      "**Sets:**\n",
      "\n",
      "*  $I$: Set of potential facility locations.\n",
      "*  $J$: Set of customers. \n",
      "\n",
      "**Parameters:**\n",
      "\n",
      "*  $f_i$: Fixed annual activation cost for facility $i \\in I$.\n",
      "*  $C_i$: Maximum annual service volume of facility $i \\in I$.\n",
      "*  $d_j$: Annual demand of customer $j \\in J$.\n",
      "*  $t_{ij}$: Transportation cost per unit demand of serving customer $j \\in J$ from facility $i \\in I$.\n",
      "\n",
      "**Decision Variables:**\n",
      "\n",
      "*  $x_{ij}$: Amount of demand of customer $j \\in J$ served by facility $i \\in I$.\n",
      "*  $y_i$: Binary variable equal to 1 if facility $i \\in I$ is opened, 0 otherwise.\n",
      "\n",
      "**Objective Function:**\n",
      "\n",
      "Minimize the total cost, which is the sum of fixed activation costs and transportation costs:\n",
      "\n",
      "$$\n",
      "\\min \\sum_{i \\in I} f_i y_i + \\sum_{i \\in I} \\sum_{j \\in J} t_{ij} x_{ij}\n",
      "$$\n",
      "\n",
      "**Constraints:**\n",
      "\n",
      "1. **Demand satisfaction:** Each customer's demand must be met:\n",
      "   $$\n",
      "   \\sum_{i \\in I} x_{ij} = d_j, \\quad \\forall j \\in J\n",
      "   $$\n",
      "\n",
      "2. **Capacity constraint:** No facility can exceed its maximum service volume:\n",
      "   $$\n",
      "   \\sum_{j \\in J} x_{ij} \\leq C_i y_i, \\quad \\forall i \\in I\n",
      "   $$\n",
      "\n",
      "3. **Service only from opened facilities:** Customers can only be served by facilities that are open:\n",
      "   $$\n",
      "   x_{ij} \\leq d_j y_i, \\quad \\forall i \\in I, \\ \\forall j \\in J \n",
      "   $$\n",
      "\n",
      "4. **Binary constraint for facility activation:**\n",
      "   $$\n",
      "   y_i \\in \\{0, 1\\}, \\quad \\forall i \\in I\n",
      "   $$\n",
      "\n",
      "5. **Non-negativity constraint for service volume:**\n",
      "   $$\n",
      "   x_{ij} \\geq 0, \\quad \\forall i \\in I, \\ \\forall j \\in J\n",
      "   $$\n",
      "\n",
      "This model is a Mixed-Integer Linear Program (MILP) because it involves both continuous variables ($x_{ij}$) and binary variables ($y_i$). It can be solved using optimization software packages to determine the optimal facility locations and customer allocation that minimizes overall costs. \n",
      "\n"
     ]
    }
   ],
   "source": [
    "print(response.text)"
   ]
  },
  {
   "cell_type": "code",
   "execution_count": 96,
   "id": "859eaf28",
   "metadata": {},
   "outputs": [
    {
     "name": "stdout",
     "output_type": "stream",
     "text": [
      "```python\n",
      "import pyomo.environ as pyo\n",
      "\n",
      "# Sample Data (replace with actual data)\n",
      "I = ['Facility1', 'Facility2', 'Facility3']  \n",
      "J = ['Customer1', 'Customer2', 'Customer3', 'Customer4'] \n",
      "\n",
      "f = {'Facility1': 100, 'Facility2': 150, 'Facility3': 120} # Sample data\n",
      "C = {'Facility1': 500, 'Facility2': 600, 'Facility3': 550} # Sample data \n",
      "d = {'Customer1': 100, 'Customer2': 150, 'Customer3': 200, 'Customer4': 180} # Sample data\n",
      "t = {('Facility1', 'Customer1'): 2, ('Facility1', 'Customer2'): 3, ('Facility1', 'Customer3'): 5, ('Facility1', 'Customer4'): 4, \n",
      "     ('Facility2', 'Customer1'): 4, ('Facility2', 'Customer2'): 2, ('Facility2', 'Customer3'): 3, ('Facility2', 'Customer4'): 5,\n",
      "     ('Facility3', 'Customer1'): 3, ('Facility3', 'Customer2'): 4, ('Facility3', 'Customer3'): 2, ('Facility3', 'Customer4'): 3} # Sample data \n",
      "\n",
      "# Model\n",
      "model = pyo.ConcreteModel()\n",
      "\n",
      "# Sets\n",
      "model.I = pyo.Set(initialize=I)\n",
      "model.J = pyo.Set(initialize=J)\n",
      "\n",
      "# Parameters\n",
      "model.f = pyo.Param(model.I, initialize=f)\n",
      "model.C = pyo.Param(model.I, initialize=C)\n",
      "model.d = pyo.Param(model.J, initialize=d)\n",
      "model.t = pyo.Param(model.I, model.J, initialize=t)\n",
      "\n",
      "# Decision Variables\n",
      "model.x = pyo.Var(model.I, model.J, within=pyo.NonNegativeReals)\n",
      "model.y = pyo.Var(model.I, within=pyo.Binary)\n",
      "\n",
      "# Objective Function\n",
      "def objective_rule(model):\n",
      "    return sum(model.f[i] * model.y[i] for i in model.I) + sum(model.t[i, j] * model.x[i, j] for i in model.I for j in model.J)\n",
      "model.obj = pyo.Objective(rule=objective_rule, sense=pyo.minimize)\n",
      "\n",
      "# Constraints\n",
      "def demand_rule(model, j):\n",
      "    return sum(model.x[i, j] for i in model.I) == model.d[j]\n",
      "model.demand_constraint = pyo.Constraint(model.J, rule=demand_rule)\n",
      "\n",
      "def capacity_rule(model, i):\n",
      "    return sum(model.x[i, j] for j in model.J) <= model.C[i] * model.y[i]\n",
      "model.capacity_constraint = pyo.Constraint(model.I, rule=capacity_rule)\n",
      "\n",
      "def service_rule(model, i, j):\n",
      "    return model.x[i, j] <= model.d[j] * model.y[i]\n",
      "model.service_constraint = pyo.Constraint(model.I, model.J, rule=service_rule)\n",
      "\n",
      "# Solve the model\n",
      "solver = pyo.SolverFactory('glpk') \n",
      "solver.solve(model)\n",
      "\n",
      "# Print the results\n",
      "print(\"Optimal Solution:\")\n",
      "print(\"Objective value:\", pyo.value(model.obj))\n",
      "for i in model.I:\n",
      "    if pyo.value(model.y[i]) > 0.5:\n",
      "        print(f\"Facility {i} is opened.\")\n",
      "        for j in model.J:\n",
      "            if pyo.value(model.x[i, j]) > 0:\n",
      "                print(f\"  Serving {pyo.value(model.x[i, j])} units of demand for Customer {j}\")\n",
      "```\n",
      "\n",
      "This code defines the model as a ConcreteModel in Pyomo, sets up the sets, parameters, decision variables, objective function, and constraints as specified in the mathematical formulation. Then, it uses the 'glpk' solver to find the optimal solution and prints the results, including the objective value, which facilities are open, and the amount of demand served for each customer from each facility. \n",
      "\n",
      "Remember to replace the sample data with your actual data.\n",
      "\n"
     ]
    }
   ],
   "source": [
    "print(response2.text)"
   ]
  }
 ],
 "metadata": {
  "kernelspec": {
   "display_name": "Python 3 (ipykernel)",
   "language": "python",
   "name": "python3"
  },
  "language_info": {
   "codemirror_mode": {
    "name": "ipython",
    "version": 3
   },
   "file_extension": ".py",
   "mimetype": "text/x-python",
   "name": "python",
   "nbconvert_exporter": "python",
   "pygments_lexer": "ipython3",
   "version": "3.11.4"
  }
 },
 "nbformat": 4,
 "nbformat_minor": 5
}
