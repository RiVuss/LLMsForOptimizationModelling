{
 "cells": [
  {
   "cell_type": "markdown",
   "id": "0df7edfd",
   "metadata": {},
   "source": [
    "# LLM Optimization Modelling Experiment"
   ]
  },
  {
   "cell_type": "code",
   "execution_count": 156,
   "id": "7f664028",
   "metadata": {},
   "outputs": [],
   "source": [
    "import vertexai\n",
    "from vertexai.preview.generative_models import GenerativeModel\n",
    "from IPython.display import Markdown"
   ]
  },
  {
   "cell_type": "markdown",
   "id": "c106f1be",
   "metadata": {},
   "source": [
    "## 1. Define the problem description"
   ]
  },
  {
   "cell_type": "code",
   "execution_count": 598,
   "id": "9adce4b2",
   "metadata": {},
   "outputs": [],
   "source": [
    "problem = '''Imagine you own a small shop, and you're trying to manage your employees' working hours and sales targets efficiently.\n",
    "You have three goals overall: sales goals, employee hours goals and overtime goals.\n",
    "\n",
    "Sales Goals: \n",
    "You have a target of selling 5500 units. \n",
    "But sometimes, you might sell fewer (negative deviation) or more (positive deviation) than this target. \n",
    "\n",
    "Employee Hours: \n",
    "You have both full-time and part-time employees. \n",
    "Your full-time employees are expected to work a total of 800 hours, while part-time employees are expected to work 320 hours. \n",
    "Similarly, like sales, there could be deviations in these working hours. \n",
    "\n",
    "Overtime: \n",
    "Additionally, your employees might end up working overtime. \n",
    "You have a target of 100 hours of overtime for full-time employees.\n",
    "You are not concerned about limiting the overtime of part-time employees.\n",
    "Again, you might deviate from this goal.\n",
    "\n",
    "Each of these deviations has a different priority for you. \n",
    "P1 to P4 are priority factors for each deviation. \n",
    "In addition to the general priorities of you goals, you are twice as concerned about fully utilizing the full-time employee hours.\n",
    "Finally, overtime hours of part-time employees have a relative cost of three times that of full-time employees.\n",
    "\n",
    "Now, the goal here is to minimize the overall impact of these deviations, considering their priorities. \n",
    "This means finding the best balance between sales targets, employee hours, and overtime, while keeping in mind which deviations are more critical for your business.'''"
   ]
  },
  {
   "cell_type": "markdown",
   "id": "063be1a3",
   "metadata": {},
   "source": [
    "## 2. Generate the mathematical model"
   ]
  },
  {
   "cell_type": "code",
   "execution_count": 618,
   "id": "e31ec80c",
   "metadata": {},
   "outputs": [],
   "source": [
    "#Initializing the session. To replicate, make sure the right credentials are saved in a PATH variable\n",
    "PROJECT_ID = \"llm4optproblems\"\n",
    "REGION = \"us-central1\"\n",
    "vertexai.init(project=PROJECT_ID, location=REGION)\n",
    "\n",
    "#Specifying the model\n",
    "generative_multimodal_model = GenerativeModel(\"gemini-1.5-pro-preview-0409\")\n",
    "\n",
    "#The propmt applied to all problems\n",
    "prompt = '''Let's think step by step. Please write a mathematical optimization model for this problem. If there are parameter values, make sure to include them in the mathematical formulation.\n",
    "'''\n",
    "\n",
    "#Generate the response\n",
    "response = generative_multimodal_model.generate_content([prompt+problem])\n"
   ]
  },
  {
   "cell_type": "code",
   "execution_count": 619,
   "id": "f9adc567",
   "metadata": {},
   "outputs": [
    {
     "data": {
      "text/markdown": [
       "## Mathematical Optimization Model for Employee Management\n",
       "\n",
       "**Sets:**\n",
       "\n",
       "* E = {Full-Time, Part-Time} : Set of employee types\n",
       "\n",
       "**Parameters:**\n",
       "\n",
       "* TargetSales = 5500 units : Target sales\n",
       "* TargetHours_FullTime = 800 hours : Target working hours for full-time employees\n",
       "* TargetHours_PartTime = 320 hours : Target working hours for part-time employees\n",
       "* TargetOvertime_FullTime = 100 hours : Target overtime hours for full-time employees\n",
       "* P1 : Priority factor for sales deviation\n",
       "* P2 : Priority factor for full-time employee working hours deviation\n",
       "* P3 : Priority factor for part-time employee working hours deviation\n",
       "* P4 : Priority factor for full-time employee overtime deviation\n",
       "\n",
       "**Decision Variables:**\n",
       "\n",
       "* Sales : Actual sales achieved\n",
       "* Hours_FullTime : Actual working hours of full-time employees\n",
       "* Hours_PartTime : Actual working hours of part-time employees\n",
       "* Overtime_FullTime : Actual overtime hours of full-time employees\n",
       "* Overtime_PartTime : Actual overtime hours of part-time employees\n",
       "\n",
       "**Objective Function:**\n",
       "\n",
       "Minimize the weighted sum of deviations from the targets, considering their priorities:\n",
       "\n",
       "```\n",
       "Minimize:\n",
       "  P1 * | Sales - TargetSales | +\n",
       "  2 * P2 * | Hours_FullTime - TargetHours_FullTime | +\n",
       "  P3 * | Hours_PartTime - TargetHours_PartTime | +\n",
       "  P4 * | Overtime_FullTime - TargetOvertime_FullTime | +\n",
       "  3 * P4 * Overtime_PartTime \n",
       "```\n",
       "\n",
       "**Constraints:**\n",
       "\n",
       "None explicitly stated in the problem description. However, you might want to add constraints based on practical limitations, such as:\n",
       "\n",
       "*  Non-negativity constraints for all decision variables:\n",
       "    *  Sales >= 0\n",
       "    *  Hours_FullTime >= 0\n",
       "    *  Hours_PartTime >= 0\n",
       "    *  Overtime_FullTime >= 0\n",
       "    *  Overtime_PartTime >= 0\n",
       "\n",
       "*  Maximum working hours for each employee type based on legal or contractual agreements.\n",
       "\n",
       "This model provides a basic framework for optimizing employee management in your shop. You can adapt it by incorporating additional constraints and parameters relevant to your specific context. Remember to choose appropriate values for the priority factors (P1-P4) to reflect your business priorities. \n"
      ],
      "text/plain": [
       "<IPython.core.display.Markdown object>"
      ]
     },
     "execution_count": 619,
     "metadata": {},
     "output_type": "execute_result"
    }
   ],
   "source": [
    "#Show the resopnse in a formatted way\n",
    "Markdown(response.text)"
   ]
  },
  {
   "cell_type": "markdown",
   "id": "49104a9a",
   "metadata": {},
   "source": [
    "## 3. Generate the pyomo code"
   ]
  },
  {
   "cell_type": "code",
   "execution_count": 620,
   "id": "aabea932",
   "metadata": {},
   "outputs": [],
   "source": [
    "#Second prompt gets the output of the previous step and generates the code\n",
    "prompt2 = \"Please write pyomo code for this mathematical problem. Use sample data where needed. Indicate where you use sample data. \\n\"\n",
    "prompt2 += response.text \n",
    "response2 = generative_multimodal_model.generate_content([prompt2])"
   ]
  },
  {
   "cell_type": "code",
   "execution_count": 621,
   "id": "fd2835af",
   "metadata": {
    "scrolled": false
   },
   "outputs": [
    {
     "data": {
      "text/markdown": [
       "```python\n",
       "import pyomo.environ as pyo\n",
       "\n",
       "# Define the model\n",
       "model = pyo.ConcreteModel()\n",
       "\n",
       "# Sets\n",
       "model.E = pyo.Set(initialize=['Full-Time', 'Part-Time'])\n",
       "\n",
       "# Parameters (Sample Data)\n",
       "model.TargetSales = 5500\n",
       "model.TargetHours = {'Full-Time': 800, 'Part-Time': 320}\n",
       "model.TargetOvertime = {'Full-Time': 100, 'Part-Time': 0}  # Assuming no target overtime for part-time\n",
       "model.P1 = 1  # Priority for sales deviation (Sample Data)\n",
       "model.P2 = 0.8  # Priority for full-time working hours deviation (Sample Data)\n",
       "model.P3 = 0.5  # Priority for part-time working hours deviation (Sample Data)\n",
       "model.P4 = 1.2  # Priority for full-time overtime deviation (Sample Data)\n",
       "\n",
       "# Decision Variables\n",
       "model.Sales = pyo.Var(within=pyo.NonNegativeReals)\n",
       "model.Hours = pyo.Var(model.E, within=pyo.NonNegativeReals)\n",
       "model.Overtime = pyo.Var(model.E, within=pyo.NonNegativeReals)\n",
       "\n",
       "# Objective Function\n",
       "def objective_rule(model):\n",
       "    return (\n",
       "        model.P1 * abs(model.Sales - model.TargetSales)\n",
       "        + 2 * model.P2 * abs(model.Hours['Full-Time'] - model.TargetHours['Full-Time'])\n",
       "        + model.P3 * abs(model.Hours['Part-Time'] - model.TargetHours['Part-Time'])\n",
       "        + model.P4 * abs(model.Overtime['Full-Time'] - model.TargetOvertime['Full-Time'])\n",
       "        + 3 * model.P4 * model.Overtime['Part-Time']\n",
       "    )\n",
       "model.obj = pyo.Objective(rule=objective_rule, sense=pyo.minimize)\n",
       "\n",
       "# Constraints (You can add more constraints as needed)\n",
       "# Non-negativity constraints are already defined in the decision variables\n",
       "\n",
       "# Solve the model\n",
       "solver = pyo.SolverFactory('cbc')  # You can choose a different solver if needed\n",
       "solver.solve(model)\n",
       "\n",
       "# Print results\n",
       "print(\"Sales:\", pyo.value(model.Sales))\n",
       "print(\"Full-Time Hours:\", pyo.value(model.Hours['Full-Time']))\n",
       "print(\"Part-Time Hours:\", pyo.value(model.Hours['Part-Time']))\n",
       "print(\"Full-Time Overtime:\", pyo.value(model.Overtime['Full-Time']))\n",
       "print(\"Part-Time Overtime:\", pyo.value(model.Overtime['Part-Time']))\n",
       "```\n",
       "\n",
       "**Sample Data Used:**\n",
       "\n",
       "* Priority factors (P1-P4) are given sample values. You should adjust these according to your business priorities. \n",
       "* TargetOvertime for 'Part-Time' is assumed to be 0.\n",
       "\n",
       "Remember to install the necessary packages (pyomo and a solver like cbc) before running this code. \n"
      ],
      "text/plain": [
       "<IPython.core.display.Markdown object>"
      ]
     },
     "execution_count": 621,
     "metadata": {},
     "output_type": "execute_result"
    }
   ],
   "source": [
    "#Showing the code in a formatted way\n",
    "Markdown(response2.text)"
   ]
  },
  {
   "cell_type": "markdown",
   "id": "b60756ae",
   "metadata": {},
   "source": [
    "## 4. Input problem data and try running the generated code"
   ]
  },
  {
   "cell_type": "code",
   "execution_count": 622,
   "id": "868ff0f4",
   "metadata": {},
   "outputs": [
    {
     "name": "stdout",
     "output_type": "stream",
     "text": [
      "WARNING: Loading a SolverResults object with a warning status into\n",
      "model.name=\"unknown\";\n",
      "    - termination condition: maxIterations\n",
      "    - message from solver: Ipopt 3.11.1\\x3a Maximum Number of Iterations\n",
      "      Exceeded.\n",
      "Sales: 5500.003213097577\n",
      "Full-Time Hours: 1201.311957548214\n",
      "Part-Time Hours: 445.68569192693786\n",
      "Full-Time Overtime: 101.92481008697638\n",
      "Part-Time Overtime: 0.027777709021643098\n"
     ]
    }
   ],
   "source": [
    "import pyomo.environ as pyo\n",
    "\n",
    "# Define the model\n",
    "model = pyo.ConcreteModel()\n",
    "\n",
    "# Sets\n",
    "model.E = pyo.Set(initialize=['Full-Time', 'Part-Time'])\n",
    "\n",
    "# Parameters (Sample Data)\n",
    "model.TargetSales = 5500\n",
    "model.TargetHours = {'Full-Time': 800, 'Part-Time': 320}\n",
    "model.TargetOvertime = {'Full-Time': 100, 'Part-Time': 0}  # Assuming no target overtime for part-time\n",
    "model.P1 = 1  # Priority for sales deviation (Sample Data)\n",
    "model.P2 = 0.8  # Priority for full-time working hours deviation (Sample Data)\n",
    "model.P3 = 0.5  # Priority for part-time working hours deviation (Sample Data)\n",
    "model.P4 = 1.2  # Priority for full-time overtime deviation (Sample Data)\n",
    "\n",
    "# Decision Variables\n",
    "model.Sales = pyo.Var(within=pyo.NonNegativeReals)\n",
    "model.Hours = pyo.Var(model.E, within=pyo.NonNegativeReals)\n",
    "model.Overtime = pyo.Var(model.E, within=pyo.NonNegativeReals)\n",
    "\n",
    "# Objective Function\n",
    "def objective_rule(model):\n",
    "    return (\n",
    "        model.P1 * abs(model.Sales - model.TargetSales)\n",
    "        + 2 * model.P2 * abs(model.Hours['Full-Time'] - model.TargetHours['Full-Time'])\n",
    "        + model.P3 * abs(model.Hours['Part-Time'] - model.TargetHours['Part-Time'])\n",
    "        + model.P4 * abs(model.Overtime['Full-Time'] - model.TargetOvertime['Full-Time'])\n",
    "        + 3 * model.P4 * model.Overtime['Part-Time']\n",
    "    )\n",
    "model.obj = pyo.Objective(rule=objective_rule, sense=pyo.minimize)\n",
    "\n",
    "# Constraints (You can add more constraints as needed)\n",
    "# Non-negativity constraints are already defined in the decision variables\n",
    "\n",
    "# Solve the model\n",
    "solver = pyo.SolverFactory('ipopt')  # You can choose a different solver if needed\n",
    "solver.solve(model)\n",
    "\n",
    "# Print results\n",
    "print(\"Sales:\", pyo.value(model.Sales))\n",
    "print(\"Full-Time Hours:\", pyo.value(model.Hours['Full-Time']))\n",
    "print(\"Part-Time Hours:\", pyo.value(model.Hours['Part-Time']))\n",
    "print(\"Full-Time Overtime:\", pyo.value(model.Overtime['Full-Time']))\n",
    "print(\"Part-Time Overtime:\", pyo.value(model.Overtime['Part-Time']))"
   ]
  },
  {
   "cell_type": "markdown",
   "id": "8f10340f",
   "metadata": {},
   "source": [
    "## 5. Correct the code to verify model viability (optional)"
   ]
  },
  {
   "cell_type": "code",
   "execution_count": 623,
   "id": "2f4bfc28",
   "metadata": {},
   "outputs": [
    {
     "data": {
      "text/plain": [
       "707.3549629950378"
      ]
     },
     "execution_count": 623,
     "metadata": {},
     "output_type": "execute_result"
    }
   ],
   "source": [
    "model.obj()"
   ]
  },
  {
   "cell_type": "markdown",
   "id": "03525f23",
   "metadata": {},
   "source": [
    "## 6. Printing the outputs as strings, so they can be saved.\n",
    "Those can be rendered as markdown for better readability"
   ]
  },
  {
   "cell_type": "code",
   "execution_count": 624,
   "id": "9d832f4d",
   "metadata": {},
   "outputs": [
    {
     "name": "stdout",
     "output_type": "stream",
     "text": [
      "## Mathematical Optimization Model for Employee Management\n",
      "\n",
      "**Sets:**\n",
      "\n",
      "* E = {Full-Time, Part-Time} : Set of employee types\n",
      "\n",
      "**Parameters:**\n",
      "\n",
      "* TargetSales = 5500 units : Target sales\n",
      "* TargetHours_FullTime = 800 hours : Target working hours for full-time employees\n",
      "* TargetHours_PartTime = 320 hours : Target working hours for part-time employees\n",
      "* TargetOvertime_FullTime = 100 hours : Target overtime hours for full-time employees\n",
      "* P1 : Priority factor for sales deviation\n",
      "* P2 : Priority factor for full-time employee working hours deviation\n",
      "* P3 : Priority factor for part-time employee working hours deviation\n",
      "* P4 : Priority factor for full-time employee overtime deviation\n",
      "\n",
      "**Decision Variables:**\n",
      "\n",
      "* Sales : Actual sales achieved\n",
      "* Hours_FullTime : Actual working hours of full-time employees\n",
      "* Hours_PartTime : Actual working hours of part-time employees\n",
      "* Overtime_FullTime : Actual overtime hours of full-time employees\n",
      "* Overtime_PartTime : Actual overtime hours of part-time employees\n",
      "\n",
      "**Objective Function:**\n",
      "\n",
      "Minimize the weighted sum of deviations from the targets, considering their priorities:\n",
      "\n",
      "```\n",
      "Minimize:\n",
      "  P1 * | Sales - TargetSales | +\n",
      "  2 * P2 * | Hours_FullTime - TargetHours_FullTime | +\n",
      "  P3 * | Hours_PartTime - TargetHours_PartTime | +\n",
      "  P4 * | Overtime_FullTime - TargetOvertime_FullTime | +\n",
      "  3 * P4 * Overtime_PartTime \n",
      "```\n",
      "\n",
      "**Constraints:**\n",
      "\n",
      "None explicitly stated in the problem description. However, you might want to add constraints based on practical limitations, such as:\n",
      "\n",
      "*  Non-negativity constraints for all decision variables:\n",
      "    *  Sales >= 0\n",
      "    *  Hours_FullTime >= 0\n",
      "    *  Hours_PartTime >= 0\n",
      "    *  Overtime_FullTime >= 0\n",
      "    *  Overtime_PartTime >= 0\n",
      "\n",
      "*  Maximum working hours for each employee type based on legal or contractual agreements.\n",
      "\n",
      "This model provides a basic framework for optimizing employee management in your shop. You can adapt it by incorporating additional constraints and parameters relevant to your specific context. Remember to choose appropriate values for the priority factors (P1-P4) to reflect your business priorities. \n",
      "\n"
     ]
    }
   ],
   "source": [
    "print(response.text)"
   ]
  },
  {
   "cell_type": "code",
   "execution_count": 625,
   "id": "57e86877",
   "metadata": {
    "scrolled": false
   },
   "outputs": [
    {
     "name": "stdout",
     "output_type": "stream",
     "text": [
      "```python\n",
      "import pyomo.environ as pyo\n",
      "\n",
      "# Define the model\n",
      "model = pyo.ConcreteModel()\n",
      "\n",
      "# Sets\n",
      "model.E = pyo.Set(initialize=['Full-Time', 'Part-Time'])\n",
      "\n",
      "# Parameters (Sample Data)\n",
      "model.TargetSales = 5500\n",
      "model.TargetHours = {'Full-Time': 800, 'Part-Time': 320}\n",
      "model.TargetOvertime = {'Full-Time': 100, 'Part-Time': 0}  # Assuming no target overtime for part-time\n",
      "model.P1 = 1  # Priority for sales deviation (Sample Data)\n",
      "model.P2 = 0.8  # Priority for full-time working hours deviation (Sample Data)\n",
      "model.P3 = 0.5  # Priority for part-time working hours deviation (Sample Data)\n",
      "model.P4 = 1.2  # Priority for full-time overtime deviation (Sample Data)\n",
      "\n",
      "# Decision Variables\n",
      "model.Sales = pyo.Var(within=pyo.NonNegativeReals)\n",
      "model.Hours = pyo.Var(model.E, within=pyo.NonNegativeReals)\n",
      "model.Overtime = pyo.Var(model.E, within=pyo.NonNegativeReals)\n",
      "\n",
      "# Objective Function\n",
      "def objective_rule(model):\n",
      "    return (\n",
      "        model.P1 * abs(model.Sales - model.TargetSales)\n",
      "        + 2 * model.P2 * abs(model.Hours['Full-Time'] - model.TargetHours['Full-Time'])\n",
      "        + model.P3 * abs(model.Hours['Part-Time'] - model.TargetHours['Part-Time'])\n",
      "        + model.P4 * abs(model.Overtime['Full-Time'] - model.TargetOvertime['Full-Time'])\n",
      "        + 3 * model.P4 * model.Overtime['Part-Time']\n",
      "    )\n",
      "model.obj = pyo.Objective(rule=objective_rule, sense=pyo.minimize)\n",
      "\n",
      "# Constraints (You can add more constraints as needed)\n",
      "# Non-negativity constraints are already defined in the decision variables\n",
      "\n",
      "# Solve the model\n",
      "solver = pyo.SolverFactory('cbc')  # You can choose a different solver if needed\n",
      "solver.solve(model)\n",
      "\n",
      "# Print results\n",
      "print(\"Sales:\", pyo.value(model.Sales))\n",
      "print(\"Full-Time Hours:\", pyo.value(model.Hours['Full-Time']))\n",
      "print(\"Part-Time Hours:\", pyo.value(model.Hours['Part-Time']))\n",
      "print(\"Full-Time Overtime:\", pyo.value(model.Overtime['Full-Time']))\n",
      "print(\"Part-Time Overtime:\", pyo.value(model.Overtime['Part-Time']))\n",
      "```\n",
      "\n",
      "**Sample Data Used:**\n",
      "\n",
      "* Priority factors (P1-P4) are given sample values. You should adjust these according to your business priorities. \n",
      "* TargetOvertime for 'Part-Time' is assumed to be 0.\n",
      "\n",
      "Remember to install the necessary packages (pyomo and a solver like cbc) before running this code. \n",
      "\n"
     ]
    }
   ],
   "source": [
    "print(response2.text)"
   ]
  }
 ],
 "metadata": {
  "kernelspec": {
   "display_name": "Python 3 (ipykernel)",
   "language": "python",
   "name": "python3"
  },
  "language_info": {
   "codemirror_mode": {
    "name": "ipython",
    "version": 3
   },
   "file_extension": ".py",
   "mimetype": "text/x-python",
   "name": "python",
   "nbconvert_exporter": "python",
   "pygments_lexer": "ipython3",
   "version": "3.11.4"
  }
 },
 "nbformat": 4,
 "nbformat_minor": 5
}
