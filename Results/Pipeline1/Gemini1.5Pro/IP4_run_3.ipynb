{
 "cells": [
  {
   "cell_type": "markdown",
   "id": "f0005e9e",
   "metadata": {},
   "source": [
    "# LLM Optimization Modelling Experiment"
   ]
  },
  {
   "cell_type": "code",
   "execution_count": 4,
   "id": "7f664028",
   "metadata": {},
   "outputs": [],
   "source": [
    "import vertexai\n",
    "from vertexai.preview.generative_models import GenerativeModel, Image\n",
    "from IPython.display import Markdown"
   ]
  },
  {
   "cell_type": "markdown",
   "id": "f527d6af",
   "metadata": {},
   "source": [
    "## 1. Define the problem description"
   ]
  },
  {
   "cell_type": "code",
   "execution_count": 39,
   "id": "25055ffd",
   "metadata": {},
   "outputs": [],
   "source": [
    "problem = '''Imagine you own a small shop, and you're trying to manage your employees' working hours and sales targets efficiently.\n",
    "You have three kinds of goals overall: sales goals, employee hours goals and overtime goals.\n",
    "\n",
    "Sales Goals: \n",
    "You have a target of selling 5500 units. \n",
    "But sometimes, you might sell fewer (negative deviation) or more (positive deviation) than this target. \n",
    "On average, your full-time employees will sell 5 records per hour and your part-time employees will sell 2 records per hour.\n",
    "\n",
    "Employee Hours: \n",
    "You have both full-time and part-time employees. \n",
    "Your full-time employees are expected to work a total of 800 hours, while part-time employees are expected to work 320 hours. \n",
    "Similarly, like sales, there could be deviations in these working hours. \n",
    "\n",
    "Overtime: \n",
    "Additionally, your employees might end up working overtime. \n",
    "You have a target of 100 hours of overtime for full-time employees.\n",
    "You are not concerned about limiting the overtime of part-time employees.\n",
    "Again, you might deviate from this goal.\n",
    "\n",
    "Each of these deviations has a different priority for you. \n",
    "P1 to P4 are priority factors for each deviation.\n",
    "Your most important goal is to achieve your sales goal.\n",
    "Second to that is the goal to not exceed 100 overtime hours for full-time employees.\n",
    "Then, you next priority is to fully utilize your full-time and part time employees.\n",
    "Your last goal with the lowest priority, you want to keep general overtime hours for both kinds of employees as low as possible.\n",
    "In addition to the general priorities of you goals, you are twice as concerned about fully utilizing the full-time employee hours.\n",
    "Finally, overtime hours of part-time employees have a relative cost of three times that of full-time employees.\n",
    "\n",
    "Now, the goal here is to minimize the overall impact of these deviations, considering their priorities. \n",
    "This means finding the best balance between sales targets, employee hours, and overtime, while keeping in mind which deviations are more critical for your business.'''"
   ]
  },
  {
   "cell_type": "markdown",
   "id": "472cf9ad",
   "metadata": {},
   "source": [
    "## 2. Generate the mathematical model"
   ]
  },
  {
   "cell_type": "code",
   "execution_count": 51,
   "id": "e31ec80c",
   "metadata": {},
   "outputs": [],
   "source": [
    "#Initializing the session. To replicate, make sure the right credentials are saved in a PATH variable\n",
    "PROJECT_ID = \"llm4optproblems\"\n",
    "REGION = \"us-central1\"\n",
    "vertexai.init(project=PROJECT_ID, location=REGION)\n",
    "\n",
    "#Specifying the model\n",
    "generative_multimodal_model = GenerativeModel(\"gemini-1.5-pro-preview-0409\")\n",
    "\n",
    "#The propmt applied to all problems\n",
    "prompt = '''Please formulate a mathematical optimization model for this problem. Include parameters, decision variables, the objective function and the constraints in your answer.\n",
    "'''\n",
    "\n",
    "#Generate the response\n",
    "response = generative_multimodal_model.generate_content([prompt+problem])\n"
   ]
  },
  {
   "cell_type": "code",
   "execution_count": 52,
   "id": "f9adc567",
   "metadata": {},
   "outputs": [
    {
     "data": {
      "text/markdown": [
       "## Mathematical Optimization Model for Employee Management\n",
       "\n",
       "**Parameters:**\n",
       "\n",
       "* **S_target:** Target sales (units) = 5500\n",
       "* **S_FTH:** Sales per hour for full-time employees (units/hour) = 5\n",
       "* **S_PTH:** Sales per hour for part-time employees (units/hour) = 2\n",
       "* **H_FT:** Target hours for full-time employees (hours) = 800\n",
       "* **H_PT:** Target hours for part-time employees (hours) = 320\n",
       "* **OT_FT_target:** Target overtime hours for full-time employees (hours) = 100\n",
       "* **P1:** Priority factor for sales deviation\n",
       "* **P2:** Priority factor for full-time overtime deviation\n",
       "* **P3:** Priority factor for full-time employee hours deviation\n",
       "* **P4:** Priority factor for part-time employee hours deviation\n",
       "* **P5:** Priority factor for overall overtime deviation\n",
       "\n",
       "**Decision Variables:**\n",
       "\n",
       "* **S_dev:** Deviation from sales target (units)\n",
       "* **H_FT_dev:** Deviation from full-time employee hours target (hours)\n",
       "* **H_PT_dev:** Deviation from part-time employee hours target (hours)\n",
       "* **OT_FT_dev:** Deviation from full-time overtime target (hours)\n",
       "* **OT_FT:** Total overtime hours for full-time employees (hours)\n",
       "* **OT_PT:** Total overtime hours for part-time employees (hours)\n",
       "\n",
       "**Objective Function:**\n",
       "\n",
       "Minimize: \n",
       "  **P1 * |S_dev| + P2 * |OT_FT_dev| + 2*P3 * |H_FT_dev| + P4 * |H_PT_dev| + P5 * (|OT_FT| + 3*|OT_PT|)**\n",
       "\n",
       "**Constraints:**\n",
       "\n",
       "* **Sales:** S_target + S_dev = S_FTH * (H_FT + H_FT_dev + OT_FT) + S_PTH * (H_PT + H_PT_dev + OT_PT) \n",
       "* **Full-time overtime:** OT_FT = OT_FT_target + OT_FT_dev\n",
       "* **Non-negativity:** OT_FT ≥ 0, OT_PT ≥ 0 \n",
       "\n",
       "**Explanation:**\n",
       "\n",
       "* **Objective Function:** This function calculates the weighted sum of deviations from each goal. The priority factors (P1-P5) determine the relative importance of each deviation. The higher the priority factor, the more important it is to minimize that deviation. Note that we use the absolute values of the deviations to penalize both positive and negative deviations. Additionally, we incorporate the doubled concern for full-time employee hours utilization and the tripled cost of part-time overtime.\n",
       "* **Sales Constraint:** This constraint ensures that the total sales, including deviations, are equal to the sum of sales generated by full-time and part-time employees, taking into account their regular hours, deviations from regular hours, and overtime hours.\n",
       "* **Full-time overtime constraint:** This constraint connects the full-time overtime deviation variable with the total full-time overtime and its target.\n",
       "* **Non-negativity constraints:** These constraints ensure that overtime hours for both employee types are non-negative.\n",
       "\n",
       "**Solving the Model:**\n",
       "\n",
       "This model can be solved using optimization software (e.g., Excel Solver, Python libraries like PuLP or OR-Tools) to determine the optimal values for the decision variables that minimize the objective function while satisfying the constraints. The solution will provide the best balance between sales targets, employee hours, and overtime, considering the given priorities.\n"
      ],
      "text/plain": [
       "<IPython.core.display.Markdown object>"
      ]
     },
     "execution_count": 52,
     "metadata": {},
     "output_type": "execute_result"
    }
   ],
   "source": [
    "#Show the resopnse in a formatted way\n",
    "Markdown(response.text)"
   ]
  },
  {
   "cell_type": "markdown",
   "id": "75796979",
   "metadata": {},
   "source": [
    "## 3. Generate the pyomo code"
   ]
  },
  {
   "cell_type": "code",
   "execution_count": 53,
   "id": "aabea932",
   "metadata": {},
   "outputs": [],
   "source": [
    "#Second prompt gets the output of the previous step and generates the code\n",
    "prompt2 = \"Please write pyomo code for this mathematical problem. Use sample data where needed. Indicate where you use sample data. \\n\"\n",
    "prompt2 += response.text \n",
    "response2 = generative_multimodal_model.generate_content([prompt2])"
   ]
  },
  {
   "cell_type": "code",
   "execution_count": 54,
   "id": "fd2835af",
   "metadata": {
    "scrolled": false
   },
   "outputs": [
    {
     "data": {
      "text/markdown": [
       "```python\n",
       "import pyomo.environ as pyo\n",
       "\n",
       "# Sample data (replace with actual data if available)\n",
       "S_target = 5500  # Target sales (units)\n",
       "S_FTH = 5  # Sales per hour for full-time employees (units/hour)\n",
       "S_PTH = 2  # Sales per hour for part-time employees (units/hour)\n",
       "H_FT = 800  # Target hours for full-time employees (hours)\n",
       "H_PT = 320  # Target hours for part-time employees (hours)\n",
       "OT_FT_target = 100  # Target overtime hours for full-time employees (hours)\n",
       "P1 = 1  # Priority factor for sales deviation\n",
       "P2 = 1.2  # Priority factor for full-time overtime deviation\n",
       "P3 = 1.5  # Priority factor for full-time employee hours deviation\n",
       "P4 = 0.8  # Priority factor for part-time employee hours deviation\n",
       "P5 = 2  # Priority factor for overall overtime deviation\n",
       "\n",
       "# Create a concrete model\n",
       "model = pyo.ConcreteModel()\n",
       "\n",
       "# Decision variables\n",
       "model.S_dev = pyo.Var(domain=pyo.Reals)  # Deviation from sales target\n",
       "model.H_FT_dev = pyo.Var(domain=pyo.Reals)  # Deviation from full-time employee hours target\n",
       "model.H_PT_dev = pyo.Var(domain=pyo.Reals)  # Deviation from part-time employee hours target\n",
       "model.OT_FT_dev = pyo.Var(domain=pyo.Reals)  # Deviation from full-time overtime target\n",
       "model.OT_FT = pyo.Var(domain=pyo.NonNegativeReals)  # Total overtime hours for full-time employees\n",
       "model.OT_PT = pyo.Var(domain=pyo.NonNegativeReals)  # Total overtime hours for part-time employees\n",
       "\n",
       "# Objective function\n",
       "def objective_rule(model):\n",
       "    return P1 * abs(model.S_dev) + P2 * abs(model.OT_FT_dev) + 2*P3 * abs(model.H_FT_dev) + P4 * abs(model.H_PT_dev) + P5 * (abs(model.OT_FT) + 3*abs(model.OT_PT))\n",
       "model.objective = pyo.Objective(rule=objective_rule, sense=pyo.minimize)\n",
       "\n",
       "# Constraints\n",
       "model.sales_constraint = pyo.Constraint(expr=S_target + model.S_dev == S_FTH * (H_FT + model.H_FT_dev + model.OT_FT) + S_PTH * (H_PT + model.H_PT_dev + model.OT_PT))\n",
       "model.overtime_constraint = pyo.Constraint(expr=model.OT_FT == OT_FT_target + model.OT_FT_dev)\n",
       "\n",
       "# Solve the model\n",
       "solver = pyo.SolverFactory('glpk')  # You can use other solvers like 'gurobi' or 'cplex' if available\n",
       "solver.solve(model)\n",
       "\n",
       "# Print the results\n",
       "print(\"Optimal Solution:\")\n",
       "print(\"Sales Deviation:\", model.S_dev.value)\n",
       "print(\"Full-Time Hours Deviation:\", model.H_FT_dev.value)\n",
       "print(\"Part-Time Hours Deviation:\", model.H_PT_dev.value)\n",
       "print(\"Full-Time Overtime Deviation:\", model.OT_FT_dev.value)\n",
       "print(\"Total Full-Time Overtime:\", model.OT_FT.value)\n",
       "print(\"Total Part-Time Overtime:\", model.OT_PT.value)\n",
       "print(\"Total Cost:\", model.objective.expr())\n",
       "```\n",
       "\n",
       "This code defines the Pyomo model for the employee management problem. It sets up the variables, objective function, and constraints as defined in the mathematical model. \n",
       "\n",
       "**Note:** This code uses sample data for parameters. Remember to replace this sample data with your actual data when implementing the model. \n"
      ],
      "text/plain": [
       "<IPython.core.display.Markdown object>"
      ]
     },
     "execution_count": 54,
     "metadata": {},
     "output_type": "execute_result"
    }
   ],
   "source": [
    "#Showing the code in a formatted way\n",
    "Markdown(response2.text)"
   ]
  },
  {
   "cell_type": "markdown",
   "id": "b60756ae",
   "metadata": {},
   "source": [
    "## 4. Input problem data and try running the generated code"
   ]
  },
  {
   "cell_type": "code",
   "execution_count": 56,
   "id": "fc705fde",
   "metadata": {},
   "outputs": [
    {
     "ename": "ValueError",
     "evalue": "Cannot load a SolverResults object with bad status: error",
     "output_type": "error",
     "traceback": [
      "\u001b[1;31m---------------------------------------------------------------------------\u001b[0m",
      "\u001b[1;31mValueError\u001b[0m                                Traceback (most recent call last)",
      "Cell \u001b[1;32mIn[56], line 38\u001b[0m\n\u001b[0;32m     36\u001b[0m \u001b[38;5;66;03m# Solve the model\u001b[39;00m\n\u001b[0;32m     37\u001b[0m solver \u001b[38;5;241m=\u001b[39m pyo\u001b[38;5;241m.\u001b[39mSolverFactory(\u001b[38;5;124m'\u001b[39m\u001b[38;5;124mipopt\u001b[39m\u001b[38;5;124m'\u001b[39m)  \u001b[38;5;66;03m# You can use other solvers like 'gurobi' or 'cplex' if available\u001b[39;00m\n\u001b[1;32m---> 38\u001b[0m solver\u001b[38;5;241m.\u001b[39msolve(model)\n\u001b[0;32m     40\u001b[0m \u001b[38;5;66;03m# Print the results\u001b[39;00m\n\u001b[0;32m     41\u001b[0m \u001b[38;5;28mprint\u001b[39m(\u001b[38;5;124m\"\u001b[39m\u001b[38;5;124mOptimal Solution:\u001b[39m\u001b[38;5;124m\"\u001b[39m)\n",
      "File \u001b[1;32m~\\anaconda3\\Lib\\site-packages\\pyomo\\opt\\base\\solvers.py:662\u001b[0m, in \u001b[0;36mOptSolver.solve\u001b[1;34m(self, *args, **kwds)\u001b[0m\n\u001b[0;32m    660\u001b[0m \u001b[38;5;28;01melse\u001b[39;00m:\n\u001b[0;32m    661\u001b[0m     \u001b[38;5;28;01mif\u001b[39;00m \u001b[38;5;28mself\u001b[39m\u001b[38;5;241m.\u001b[39m_load_solutions:\n\u001b[1;32m--> 662\u001b[0m         _model\u001b[38;5;241m.\u001b[39msolutions\u001b[38;5;241m.\u001b[39mload_from(\n\u001b[0;32m    663\u001b[0m             result,\n\u001b[0;32m    664\u001b[0m             select\u001b[38;5;241m=\u001b[39m\u001b[38;5;28mself\u001b[39m\u001b[38;5;241m.\u001b[39m_select_index,\n\u001b[0;32m    665\u001b[0m             default_variable_value\u001b[38;5;241m=\u001b[39m\u001b[38;5;28mself\u001b[39m\u001b[38;5;241m.\u001b[39m_default_variable_value,\n\u001b[0;32m    666\u001b[0m         )\n\u001b[0;32m    667\u001b[0m         result\u001b[38;5;241m.\u001b[39m_smap_id \u001b[38;5;241m=\u001b[39m \u001b[38;5;28;01mNone\u001b[39;00m\n\u001b[0;32m    668\u001b[0m         result\u001b[38;5;241m.\u001b[39msolution\u001b[38;5;241m.\u001b[39mclear()\n",
      "File \u001b[1;32m~\\anaconda3\\Lib\\site-packages\\pyomo\\core\\base\\PyomoModel.py:228\u001b[0m, in \u001b[0;36mModelSolutions.load_from\u001b[1;34m(self, results, allow_consistent_values_for_fixed_vars, comparison_tolerance_for_fixed_vars, ignore_invalid_labels, id, delete_symbol_map, clear, default_variable_value, select, ignore_fixed_vars)\u001b[0m\n\u001b[0;32m    223\u001b[0m         logger\u001b[38;5;241m.\u001b[39mwarning(\n\u001b[0;32m    224\u001b[0m             \u001b[38;5;124m\"\u001b[39m\u001b[38;5;124mLoading a SolverResults object with \u001b[39m\u001b[38;5;124m\"\u001b[39m\n\u001b[0;32m    225\u001b[0m             \u001b[38;5;124m\"\u001b[39m\u001b[38;5;124man \u001b[39m\u001b[38;5;124m'\u001b[39m\u001b[38;5;124maborted\u001b[39m\u001b[38;5;124m'\u001b[39m\u001b[38;5;124m status, but containing a solution\u001b[39m\u001b[38;5;124m\"\u001b[39m\n\u001b[0;32m    226\u001b[0m         )\n\u001b[0;32m    227\u001b[0m     \u001b[38;5;28;01melse\u001b[39;00m:\n\u001b[1;32m--> 228\u001b[0m         \u001b[38;5;28;01mraise\u001b[39;00m \u001b[38;5;167;01mValueError\u001b[39;00m(\n\u001b[0;32m    229\u001b[0m             \u001b[38;5;124m\"\u001b[39m\u001b[38;5;124mCannot load a SolverResults object \u001b[39m\u001b[38;5;124m\"\u001b[39m\n\u001b[0;32m    230\u001b[0m             \u001b[38;5;124m\"\u001b[39m\u001b[38;5;124mwith bad status: \u001b[39m\u001b[38;5;132;01m%s\u001b[39;00m\u001b[38;5;124m\"\u001b[39m \u001b[38;5;241m%\u001b[39m \u001b[38;5;28mstr\u001b[39m(results\u001b[38;5;241m.\u001b[39msolver\u001b[38;5;241m.\u001b[39mstatus)\n\u001b[0;32m    231\u001b[0m         )\n\u001b[0;32m    232\u001b[0m \u001b[38;5;28;01mif\u001b[39;00m clear:\n\u001b[0;32m    233\u001b[0m     \u001b[38;5;66;03m#\u001b[39;00m\n\u001b[0;32m    234\u001b[0m     \u001b[38;5;66;03m# Clear the solutions, but not the symbol map\u001b[39;00m\n\u001b[0;32m    235\u001b[0m     \u001b[38;5;66;03m#\u001b[39;00m\n\u001b[0;32m    236\u001b[0m     \u001b[38;5;28mself\u001b[39m\u001b[38;5;241m.\u001b[39mclear(clear_symbol_maps\u001b[38;5;241m=\u001b[39m\u001b[38;5;28;01mFalse\u001b[39;00m)\n",
      "\u001b[1;31mValueError\u001b[0m: Cannot load a SolverResults object with bad status: error"
     ]
    }
   ],
   "source": [
    "import pyomo.environ as pyo\n",
    "\n",
    "# Sample data (replace with actual data if available)\n",
    "S_target = 5500  # Target sales (units)\n",
    "S_FTH = 5  # Sales per hour for full-time employees (units/hour)\n",
    "S_PTH = 2  # Sales per hour for part-time employees (units/hour)\n",
    "H_FT = 800  # Target hours for full-time employees (hours)\n",
    "H_PT = 320  # Target hours for part-time employees (hours)\n",
    "OT_FT_target = 100  # Target overtime hours for full-time employees (hours)\n",
    "P1 = 1  # Priority factor for sales deviation\n",
    "P2 = 1.2  # Priority factor for full-time overtime deviation\n",
    "P3 = 1.5  # Priority factor for full-time employee hours deviation\n",
    "P4 = 0.8  # Priority factor for part-time employee hours deviation\n",
    "P5 = 2  # Priority factor for overall overtime deviation\n",
    "\n",
    "# Create a concrete model\n",
    "model = pyo.ConcreteModel()\n",
    "\n",
    "# Decision variables\n",
    "model.S_dev = pyo.Var(domain=pyo.Reals)  # Deviation from sales target\n",
    "model.H_FT_dev = pyo.Var(domain=pyo.Reals)  # Deviation from full-time employee hours target\n",
    "model.H_PT_dev = pyo.Var(domain=pyo.Reals)  # Deviation from part-time employee hours target\n",
    "model.OT_FT_dev = pyo.Var(domain=pyo.Reals)  # Deviation from full-time overtime target\n",
    "model.OT_FT = pyo.Var(domain=pyo.NonNegativeReals)  # Total overtime hours for full-time employees\n",
    "model.OT_PT = pyo.Var(domain=pyo.NonNegativeReals)  # Total overtime hours for part-time employees\n",
    "\n",
    "# Objective function\n",
    "def objective_rule(model):\n",
    "    return P1 * abs(model.S_dev) + P2 * abs(model.OT_FT_dev) + 2*P3 * abs(model.H_FT_dev) + P4 * abs(model.H_PT_dev) + P5 * (abs(model.OT_FT) + 3*abs(model.OT_PT))\n",
    "model.objective = pyo.Objective(rule=objective_rule, sense=pyo.minimize)\n",
    "\n",
    "# Constraints\n",
    "model.sales_constraint = pyo.Constraint(expr=S_target + model.S_dev == S_FTH * (H_FT + model.H_FT_dev + model.OT_FT) + S_PTH * (H_PT + model.H_PT_dev + model.OT_PT))\n",
    "model.overtime_constraint = pyo.Constraint(expr=model.OT_FT == OT_FT_target + model.OT_FT_dev)\n",
    "\n",
    "# Solve the model\n",
    "solver = pyo.SolverFactory('ipopt')  # You can use other solvers like 'gurobi' or 'cplex' if available\n",
    "solver.solve(model)\n",
    "\n",
    "# Print the results\n",
    "print(\"Optimal Solution:\")\n",
    "print(\"Sales Deviation:\", model.S_dev.value)\n",
    "print(\"Full-Time Hours Deviation:\", model.H_FT_dev.value)\n",
    "print(\"Part-Time Hours Deviation:\", model.H_PT_dev.value)\n",
    "print(\"Full-Time Overtime Deviation:\", model.OT_FT_dev.value)\n",
    "print(\"Total Full-Time Overtime:\", model.OT_FT.value)\n",
    "print(\"Total Part-Time Overtime:\", model.OT_PT.value)\n",
    "print(\"Total Cost:\", model.objective.expr())"
   ]
  },
  {
   "cell_type": "markdown",
   "id": "1be0926e",
   "metadata": {},
   "source": [
    "## 5. Correct the code to verify model viability (optional)"
   ]
  },
  {
   "cell_type": "code",
   "execution_count": null,
   "id": "8b37acfc",
   "metadata": {
    "scrolled": false
   },
   "outputs": [],
   "source": []
  },
  {
   "cell_type": "markdown",
   "id": "67362068",
   "metadata": {},
   "source": [
    "## 6. Printing the outputs as strings, so they can be saved.\n",
    "Those can be rendered as markdown for better readability"
   ]
  },
  {
   "cell_type": "code",
   "execution_count": 59,
   "id": "e904cf68",
   "metadata": {},
   "outputs": [
    {
     "name": "stdout",
     "output_type": "stream",
     "text": [
      "## Mathematical Optimization Model for Employee Management\n",
      "\n",
      "**Parameters:**\n",
      "\n",
      "* **S_target:** Target sales (units) = 5500\n",
      "* **S_FTH:** Sales per hour for full-time employees (units/hour) = 5\n",
      "* **S_PTH:** Sales per hour for part-time employees (units/hour) = 2\n",
      "* **H_FT:** Target hours for full-time employees (hours) = 800\n",
      "* **H_PT:** Target hours for part-time employees (hours) = 320\n",
      "* **OT_FT_target:** Target overtime hours for full-time employees (hours) = 100\n",
      "* **P1:** Priority factor for sales deviation\n",
      "* **P2:** Priority factor for full-time overtime deviation\n",
      "* **P3:** Priority factor for full-time employee hours deviation\n",
      "* **P4:** Priority factor for part-time employee hours deviation\n",
      "* **P5:** Priority factor for overall overtime deviation\n",
      "\n",
      "**Decision Variables:**\n",
      "\n",
      "* **S_dev:** Deviation from sales target (units)\n",
      "* **H_FT_dev:** Deviation from full-time employee hours target (hours)\n",
      "* **H_PT_dev:** Deviation from part-time employee hours target (hours)\n",
      "* **OT_FT_dev:** Deviation from full-time overtime target (hours)\n",
      "* **OT_FT:** Total overtime hours for full-time employees (hours)\n",
      "* **OT_PT:** Total overtime hours for part-time employees (hours)\n",
      "\n",
      "**Objective Function:**\n",
      "\n",
      "Minimize: \n",
      "  **P1 * |S_dev| + P2 * |OT_FT_dev| + 2*P3 * |H_FT_dev| + P4 * |H_PT_dev| + P5 * (|OT_FT| + 3*|OT_PT|)**\n",
      "\n",
      "**Constraints:**\n",
      "\n",
      "* **Sales:** S_target + S_dev = S_FTH * (H_FT + H_FT_dev + OT_FT) + S_PTH * (H_PT + H_PT_dev + OT_PT) \n",
      "* **Full-time overtime:** OT_FT = OT_FT_target + OT_FT_dev\n",
      "* **Non-negativity:** OT_FT ≥ 0, OT_PT ≥ 0 \n",
      "\n",
      "**Explanation:**\n",
      "\n",
      "* **Objective Function:** This function calculates the weighted sum of deviations from each goal. The priority factors (P1-P5) determine the relative importance of each deviation. The higher the priority factor, the more important it is to minimize that deviation. Note that we use the absolute values of the deviations to penalize both positive and negative deviations. Additionally, we incorporate the doubled concern for full-time employee hours utilization and the tripled cost of part-time overtime.\n",
      "* **Sales Constraint:** This constraint ensures that the total sales, including deviations, are equal to the sum of sales generated by full-time and part-time employees, taking into account their regular hours, deviations from regular hours, and overtime hours.\n",
      "* **Full-time overtime constraint:** This constraint connects the full-time overtime deviation variable with the total full-time overtime and its target.\n",
      "* **Non-negativity constraints:** These constraints ensure that overtime hours for both employee types are non-negative.\n",
      "\n",
      "**Solving the Model:**\n",
      "\n",
      "This model can be solved using optimization software (e.g., Excel Solver, Python libraries like PuLP or OR-Tools) to determine the optimal values for the decision variables that minimize the objective function while satisfying the constraints. The solution will provide the best balance between sales targets, employee hours, and overtime, considering the given priorities.\n",
      "\n"
     ]
    }
   ],
   "source": [
    "print(response.text)"
   ]
  },
  {
   "cell_type": "code",
   "execution_count": 60,
   "id": "859eaf28",
   "metadata": {
    "scrolled": false
   },
   "outputs": [
    {
     "name": "stdout",
     "output_type": "stream",
     "text": [
      "```python\n",
      "import pyomo.environ as pyo\n",
      "\n",
      "# Sample data (replace with actual data if available)\n",
      "S_target = 5500  # Target sales (units)\n",
      "S_FTH = 5  # Sales per hour for full-time employees (units/hour)\n",
      "S_PTH = 2  # Sales per hour for part-time employees (units/hour)\n",
      "H_FT = 800  # Target hours for full-time employees (hours)\n",
      "H_PT = 320  # Target hours for part-time employees (hours)\n",
      "OT_FT_target = 100  # Target overtime hours for full-time employees (hours)\n",
      "P1 = 1  # Priority factor for sales deviation\n",
      "P2 = 1.2  # Priority factor for full-time overtime deviation\n",
      "P3 = 1.5  # Priority factor for full-time employee hours deviation\n",
      "P4 = 0.8  # Priority factor for part-time employee hours deviation\n",
      "P5 = 2  # Priority factor for overall overtime deviation\n",
      "\n",
      "# Create a concrete model\n",
      "model = pyo.ConcreteModel()\n",
      "\n",
      "# Decision variables\n",
      "model.S_dev = pyo.Var(domain=pyo.Reals)  # Deviation from sales target\n",
      "model.H_FT_dev = pyo.Var(domain=pyo.Reals)  # Deviation from full-time employee hours target\n",
      "model.H_PT_dev = pyo.Var(domain=pyo.Reals)  # Deviation from part-time employee hours target\n",
      "model.OT_FT_dev = pyo.Var(domain=pyo.Reals)  # Deviation from full-time overtime target\n",
      "model.OT_FT = pyo.Var(domain=pyo.NonNegativeReals)  # Total overtime hours for full-time employees\n",
      "model.OT_PT = pyo.Var(domain=pyo.NonNegativeReals)  # Total overtime hours for part-time employees\n",
      "\n",
      "# Objective function\n",
      "def objective_rule(model):\n",
      "    return P1 * abs(model.S_dev) + P2 * abs(model.OT_FT_dev) + 2*P3 * abs(model.H_FT_dev) + P4 * abs(model.H_PT_dev) + P5 * (abs(model.OT_FT) + 3*abs(model.OT_PT))\n",
      "model.objective = pyo.Objective(rule=objective_rule, sense=pyo.minimize)\n",
      "\n",
      "# Constraints\n",
      "model.sales_constraint = pyo.Constraint(expr=S_target + model.S_dev == S_FTH * (H_FT + model.H_FT_dev + model.OT_FT) + S_PTH * (H_PT + model.H_PT_dev + model.OT_PT))\n",
      "model.overtime_constraint = pyo.Constraint(expr=model.OT_FT == OT_FT_target + model.OT_FT_dev)\n",
      "\n",
      "# Solve the model\n",
      "solver = pyo.SolverFactory('glpk')  # You can use other solvers like 'gurobi' or 'cplex' if available\n",
      "solver.solve(model)\n",
      "\n",
      "# Print the results\n",
      "print(\"Optimal Solution:\")\n",
      "print(\"Sales Deviation:\", model.S_dev.value)\n",
      "print(\"Full-Time Hours Deviation:\", model.H_FT_dev.value)\n",
      "print(\"Part-Time Hours Deviation:\", model.H_PT_dev.value)\n",
      "print(\"Full-Time Overtime Deviation:\", model.OT_FT_dev.value)\n",
      "print(\"Total Full-Time Overtime:\", model.OT_FT.value)\n",
      "print(\"Total Part-Time Overtime:\", model.OT_PT.value)\n",
      "print(\"Total Cost:\", model.objective.expr())\n",
      "```\n",
      "\n",
      "This code defines the Pyomo model for the employee management problem. It sets up the variables, objective function, and constraints as defined in the mathematical model. \n",
      "\n",
      "**Note:** This code uses sample data for parameters. Remember to replace this sample data with your actual data when implementing the model. \n",
      "\n"
     ]
    }
   ],
   "source": [
    "print(response2.text)"
   ]
  }
 ],
 "metadata": {
  "kernelspec": {
   "display_name": "Python 3 (ipykernel)",
   "language": "python",
   "name": "python3"
  },
  "language_info": {
   "codemirror_mode": {
    "name": "ipython",
    "version": 3
   },
   "file_extension": ".py",
   "mimetype": "text/x-python",
   "name": "python",
   "nbconvert_exporter": "python",
   "pygments_lexer": "ipython3",
   "version": "3.11.4"
  }
 },
 "nbformat": 4,
 "nbformat_minor": 5
}
