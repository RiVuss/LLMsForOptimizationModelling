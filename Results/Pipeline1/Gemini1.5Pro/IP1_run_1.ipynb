{
 "cells": [
  {
   "cell_type": "markdown",
   "id": "f0005e9e",
   "metadata": {},
   "source": [
    "# LLM Optimization Modelling Experiment"
   ]
  },
  {
   "cell_type": "code",
   "execution_count": 3,
   "id": "7f664028",
   "metadata": {},
   "outputs": [],
   "source": [
    "import vertexai\n",
    "from vertexai.preview.generative_models import GenerativeModel, Image\n",
    "from IPython.display import Markdown"
   ]
  },
  {
   "cell_type": "markdown",
   "id": "f527d6af",
   "metadata": {},
   "source": [
    "## 1. Define the problem description"
   ]
  },
  {
   "cell_type": "code",
   "execution_count": 4,
   "id": "25055ffd",
   "metadata": {},
   "outputs": [],
   "source": [
    "problem = '''We are delighted to welcome you, our newest intern on the Analytics team of Massachusetts General Hospital! You have been placed in a challenging role where you will be tasked with solving a real-world problem in the field of medical physics. We are building a pilot program in Boston, and if successful, your work could be applied widely in hospitals with limited capacity in many countries.\n",
    "\n",
    "You are responsible for determining the best treatment plan for 17 patients who require radiotherapy. Your goal is to optimize the use of two possible treatments: photon therapy and proton therapy. While proton therapy is known to target tumors more precisely, it is also more expensive and has limited capacity in many countries. Therefore, you will need to balance the benefits of proton therapy with its limitations and cost to create an effective treatment plan for each patient.\n",
    "\n",
    "To determine the best course of action for each patient, you will use a scoring system called the Biological Equivalent Dose (BED). This system allows you to calculate the effectiveness of each patient’s treatment plan by considering the number of proton fractions that can be used while still achieving the highest possible BED.\n",
    "\n",
    "We have n=17 patients who need radiotherapy. Each patient i needs 15 fractions, which can be photon fractions, proton fractions, or a mix of photon and proton fractions (e.g. 4 proton fractions and 11 photon fractions). We want to use the limited proton therapy capacity as best as possible. We can calculate the BED score for each patient when p proton fractions and 15-p photon fractions are used, as BEDi(p,15-p), i.e., the BED when p proton and 15-p photon fractions are delivered for patient i. The higher the score, the better. \n",
    "\n",
    "The data file \"ProblemData.csv\" contains a 2D matrix of BED scores. It does not have an index. It was made in Excel and saved as csv. The columns are the number of proton fractions and each row represents a patient. In particular, the number at the (i,j) position is the score for patient i receiving j proton fractions. \n",
    "\n",
    "Suppose that the total maximal capacity C is 100 proton fractions. To maximize the total BED scores for all the patients, which patients should get proton fractions, and how many should they get? Formulate an integer linear optimization model to solve this problem. Assume you know the value BEDi(j,15-j) for each patient i. '''"
   ]
  },
  {
   "cell_type": "markdown",
   "id": "472cf9ad",
   "metadata": {},
   "source": [
    "## 2. Generate the mathematical model"
   ]
  },
  {
   "cell_type": "code",
   "execution_count": 5,
   "id": "e31ec80c",
   "metadata": {},
   "outputs": [],
   "source": [
    "#Initializing the session. To replicate, make sure the right credentials are saved in a PATH variable\n",
    "PROJECT_ID = \"llm4optproblems\"\n",
    "REGION = \"us-central1\"\n",
    "vertexai.init(project=PROJECT_ID, location=REGION)\n",
    "\n",
    "#Specifying the model\n",
    "generative_multimodal_model = GenerativeModel(\"gemini-1.5-pro-preview-0409\")\n",
    "\n",
    "#The propmt applied to all problems\n",
    "prompt = '''Please formulate a mathematical optimization model for this problem. Include parameters, decision variables, the objective function and the constraints in your answer.\n",
    "'''\n",
    "\n",
    "#Generate the response\n",
    "response = generative_multimodal_model.generate_content([prompt+problem])\n"
   ]
  },
  {
   "cell_type": "code",
   "execution_count": 6,
   "id": "f9adc567",
   "metadata": {},
   "outputs": [
    {
     "data": {
      "text/markdown": [
       "## Mathematical Optimization Model for Radiotherapy Treatment Planning\n",
       "\n",
       "**Parameters:**\n",
       "\n",
       "*  `n`: Number of patients (n=17).\n",
       "* `C`: Total proton fraction capacity (C=100).\n",
       "* `BEDi(p, 15-p)`: BED score for patient `i` when receiving `p` proton fractions and `15-p` photon fractions (obtained from the \"ProblemData.csv\" file).\n",
       "\n",
       "**Decision Variables:**\n",
       "\n",
       "* `xij`: Binary variable, equal to 1 if patient `i` receives `j` proton fractions, and 0 otherwise.\n",
       "\n",
       "**Objective Function:**\n",
       "\n",
       "Maximize the total BED score for all patients:\n",
       "\n",
       "```\n",
       "Maximize Σ(i=1 to n) Σ(j=0 to 15) BEDi(j, 15-j) * xij\n",
       "```\n",
       "\n",
       "**Constraints:**\n",
       "\n",
       "1. **Each patient receives exactly 15 fractions:**\n",
       "   ```\n",
       "   Σ(j=0 to 15) xij = 1 for all i = 1, ..., n \n",
       "   ```\n",
       "\n",
       "2. **Total proton fraction capacity:**\n",
       "   ```\n",
       "   Σ(i=1 to n) Σ(j=0 to 15) j * xij <= C \n",
       "   ```\n",
       "\n",
       "3. **Binary variable constraint:**\n",
       "   ```\n",
       "   xij ∈ {0, 1} for all i = 1, ..., n and j = 0, ..., 15\n",
       "   ```\n",
       "\n",
       "**Explanation:**\n",
       "\n",
       "The objective function aims to maximize the total BED score across all patients. The first constraint ensures that each patient receives the required 15 fractions. The second constraint ensures that the total number of proton fractions allocated does not exceed the available capacity. Finally, the third constraint defines the decision variables as binary, indicating whether a specific number of proton fractions is assigned to a patient. \n",
       "\n",
       "This model allows you to determine the optimal allocation of proton fractions to patients while considering the limited capacity and aiming for the highest possible total BED score. You can use an integer linear programming solver to find the optimal solution for the decision variables `xij`, which will tell you how many proton fractions each patient should receive. \n"
      ],
      "text/plain": [
       "<IPython.core.display.Markdown object>"
      ]
     },
     "execution_count": 6,
     "metadata": {},
     "output_type": "execute_result"
    }
   ],
   "source": [
    "#Show the resopnse in a formatted way\n",
    "Markdown(response.text)"
   ]
  },
  {
   "cell_type": "markdown",
   "id": "75796979",
   "metadata": {},
   "source": [
    "## 3. Generate the pyomo code"
   ]
  },
  {
   "cell_type": "code",
   "execution_count": 7,
   "id": "aabea932",
   "metadata": {},
   "outputs": [],
   "source": [
    "#Second prompt gets the output of the previous step and generates the code\n",
    "prompt2 = \"Please write pyomo code for this mathematical problem. Use sample data where needed. Indicate where you use sample data. \\n\"\n",
    "prompt2 += response.text \n",
    "response2 = generative_multimodal_model.generate_content([prompt2])"
   ]
  },
  {
   "cell_type": "code",
   "execution_count": 8,
   "id": "fd2835af",
   "metadata": {},
   "outputs": [
    {
     "data": {
      "text/markdown": [
       "```python\n",
       "import pyomo.environ as pyo\n",
       "import pandas as pd\n",
       "\n",
       "# Sample Data: Replace with actual data from \"ProblemData.csv\"\n",
       "data = {\n",
       "    'Patient': [f'Patient {i+1}' for i in range(17)],\n",
       "    'BED_0': [100, 95, 105, 98, 102, 97, 103, 99, 101, 96, 104, 98, 102, 97, 103, 99, 101],\n",
       "    'BED_1': [105, 100, 110, 103, 107, 102, 108, 104, 106, 101, 109, 103, 107, 102, 108, 104, 106],\n",
       "    # ... Add BED data for 2 to 14 proton fractions ...\n",
       "    'BED_15': [150, 145, 155, 148, 152, 147, 153, 149, 151, 146, 154, 148, 152, 147, 153, 149, 151]\n",
       "}\n",
       "df = pd.DataFrame(data)\n",
       "\n",
       "# Model Parameters\n",
       "n = 17  # Number of patients\n",
       "C = 100  # Total proton fraction capacity\n",
       "\n",
       "# Create a Pyomo model\n",
       "model = pyo.ConcreteModel()\n",
       "\n",
       "# Sets\n",
       "model.I = pyo.Set(initialize=df['Patient'].tolist())  # Set of patients\n",
       "model.J = pyo.Set(initialize=range(16))  # Set of proton fractions (0 to 15)\n",
       "\n",
       "# Parameters\n",
       "model.BED = pyo.Param(model.I, model.J, initialize=lambda model, i, j: df[f'BED_{j}'][df['Patient'] == i].values[0])\n",
       "\n",
       "# Decision Variables\n",
       "model.x = pyo.Var(model.I, model.J, within=pyo.Binary)\n",
       "\n",
       "# Objective Function\n",
       "def objective_rule(model):\n",
       "    return sum(model.BED[i, j] * model.x[i, j] for i in model.I for j in model.J)\n",
       "model.obj = pyo.Objective(rule=objective_rule, sense=pyo.maximize)\n",
       "\n",
       "# Constraints\n",
       "def constraint_fractions_rule(model, i):\n",
       "    return sum(model.x[i, j] for j in model.J) == 1\n",
       "model.constraint_fractions = pyo.Constraint(model.I, rule=constraint_fractions_rule)\n",
       "\n",
       "def constraint_capacity_rule(model):\n",
       "    return sum(j * model.x[i, j] for i in model.I for j in model.J) <= C\n",
       "model.constraint_capacity = pyo.Constraint(rule=constraint_capacity_rule)\n",
       "\n",
       "# Solve the model\n",
       "solver = pyo.SolverFactory('glpk')  # Use an appropriate solver\n",
       "results = solver.solve(model)\n",
       "\n",
       "# Display results\n",
       "print(results)\n",
       "\n",
       "# Extract optimal solution\n",
       "for i in model.I:\n",
       "    for j in model.J:\n",
       "        if pyo.value(model.x[i, j]) == 1:\n",
       "            print(f\"{i} receives {j} proton fractions.\")\n",
       "```\n",
       "\n",
       "**Explanation and Sample Data:**\n",
       "\n",
       "*   **Sample Data:**  The code uses sample data for the BED scores in the `data` dictionary. This data should be replaced with the actual data from your \"ProblemData.csv\" file.\n",
       "*   **Pyomo Model:** The code defines the sets, parameters, decision variables, objective function, and constraints using Pyomo's modeling framework.\n",
       "*   **Solver:** The code uses the 'glpk' solver to find the optimal solution. You can replace this with other solvers as needed.\n",
       "*   **Output:** The code prints the solver's results and then displays the optimal allocation of proton fractions for each patient.\n",
       "\n",
       "Remember to update the sample BED data with your actual data and choose an appropriate solver for your problem.\n"
      ],
      "text/plain": [
       "<IPython.core.display.Markdown object>"
      ]
     },
     "execution_count": 8,
     "metadata": {},
     "output_type": "execute_result"
    }
   ],
   "source": [
    "#Showing the code in a formatted way\n",
    "Markdown(response2.text)"
   ]
  },
  {
   "cell_type": "markdown",
   "id": "b60756ae",
   "metadata": {},
   "source": [
    "## 4. Input problem data and try running the generated code"
   ]
  },
  {
   "cell_type": "code",
   "execution_count": 15,
   "id": "41ed7d93",
   "metadata": {},
   "outputs": [
    {
     "name": "stdout",
     "output_type": "stream",
     "text": [
      "\n",
      "Problem: \n",
      "- Name: unknown\n",
      "  Lower bound: 8.24\n",
      "  Upper bound: 8.24\n",
      "  Number of objectives: 1\n",
      "  Number of constraints: 18\n",
      "  Number of variables: 272\n",
      "  Number of nonzeros: 527\n",
      "  Sense: maximize\n",
      "Solver: \n",
      "- Status: ok\n",
      "  Termination condition: optimal\n",
      "  Statistics: \n",
      "    Branch and bound: \n",
      "      Number of bounded subproblems: 45\n",
      "      Number of created subproblems: 45\n",
      "  Error rc: 0\n",
      "  Time: 0.04959511756896973\n",
      "Solution: \n",
      "- number of solutions: 0\n",
      "  number of solutions displayed: 0\n",
      "\n",
      "Patient 1 receives 8 proton fractions.\n",
      "Patient 2 receives 8 proton fractions.\n",
      "Patient 3 receives 3 proton fractions.\n",
      "Patient 4 receives 0 proton fractions.\n",
      "Patient 5 receives 5 proton fractions.\n",
      "Patient 6 receives 0 proton fractions.\n",
      "Patient 7 receives 4 proton fractions.\n",
      "Patient 8 receives 15 proton fractions.\n",
      "Patient 9 receives 4 proton fractions.\n",
      "Patient 10 receives 5 proton fractions.\n",
      "Patient 11 receives 6 proton fractions.\n",
      "Patient 12 receives 0 proton fractions.\n",
      "Patient 13 receives 10 proton fractions.\n",
      "Patient 14 receives 0 proton fractions.\n",
      "Patient 15 receives 10 proton fractions.\n",
      "Patient 16 receives 10 proton fractions.\n",
      "Patient 17 receives 12 proton fractions.\n"
     ]
    }
   ],
   "source": [
    "import pyomo.environ as pyo\n",
    "import pandas as pd\n",
    "\n",
    "# Sample Data: Replace with actual data from \"ProblemData.csv\"\n",
    "# data = {\n",
    "#     'Patient': [f'Patient {i+1}' for i in range(17)],\n",
    "#     'BED_0': [100, 95, 105, 98, 102, 97, 103, 99, 101, 96, 104, 98, 102, 97, 103, 99, 101],\n",
    "#     'BED_1': [105, 100, 110, 103, 107, 102, 108, 104, 106, 101, 109, 103, 107, 102, 108, 104, 106],\n",
    "#     # ... Add BED data for 2 to 14 proton fractions ...\n",
    "#     'BED_15': [150, 145, 155, 148, 152, 147, 153, 149, 151, 146, 154, 148, 152, 147, 153, 149, 151]\n",
    "# }\n",
    "\n",
    "## Human edited data input\n",
    "\n",
    "# Replace 'your_file.csv' with the path to your CSV file\n",
    "df = pd.read_csv('ProblemData.csv', header=None)\n",
    "\n",
    "# Assuming the first row contains column names\n",
    "columns = ['BED_' + str(i) for i in range(df.shape[1])]\n",
    "\n",
    "# Assigning column names\n",
    "df.columns = columns\n",
    "\n",
    "# Convert DataFrame to dictionary\n",
    "data = df.to_dict(orient='list')\n",
    "\n",
    "# Adding 'Patient' key to dictionary\n",
    "data['Patient'] = [f'Patient {i}' for i in range(1, df.shape[0] + 1)]\n",
    "\n",
    "###\n",
    "df = pd.DataFrame(data)\n",
    "\n",
    "# Model Parameters\n",
    "n = 17  # Number of patients\n",
    "C = 100  # Total proton fraction capacity\n",
    "\n",
    "# Create a Pyomo model\n",
    "model = pyo.ConcreteModel()\n",
    "\n",
    "# Sets\n",
    "model.I = pyo.Set(initialize=df['Patient'].tolist())  # Set of patients\n",
    "model.J = pyo.Set(initialize=range(16))  # Set of proton fractions (0 to 15)\n",
    "\n",
    "# Parameters\n",
    "model.BED = pyo.Param(model.I, model.J, initialize=lambda model, i, j: df[f'BED_{j}'][df['Patient'] == i].values[0])\n",
    "\n",
    "# Decision Variables\n",
    "model.x = pyo.Var(model.I, model.J, within=pyo.Binary)\n",
    "\n",
    "# Objective Function\n",
    "def objective_rule(model):\n",
    "    return sum(model.BED[i, j] * model.x[i, j] for i in model.I for j in model.J)\n",
    "model.obj = pyo.Objective(rule=objective_rule, sense=pyo.maximize)\n",
    "\n",
    "# Constraints\n",
    "def constraint_fractions_rule(model, i):\n",
    "    return sum(model.x[i, j] for j in model.J) == 1\n",
    "model.constraint_fractions = pyo.Constraint(model.I, rule=constraint_fractions_rule)\n",
    "\n",
    "def constraint_capacity_rule(model):\n",
    "    return sum(j * model.x[i, j] for i in model.I for j in model.J) <= C\n",
    "model.constraint_capacity = pyo.Constraint(rule=constraint_capacity_rule)\n",
    "\n",
    "# Solve the model\n",
    "solver = pyo.SolverFactory('glpk')  # Use an appropriate solver\n",
    "results = solver.solve(model)\n",
    "\n",
    "# Display results\n",
    "print(results)\n",
    "\n",
    "# Extract optimal solution\n",
    "for i in model.I:\n",
    "    for j in model.J:\n",
    "        if pyo.value(model.x[i, j]) == 1:\n",
    "            print(f\"{i} receives {j} proton fractions.\")"
   ]
  },
  {
   "cell_type": "code",
   "execution_count": 16,
   "id": "8ea046d1",
   "metadata": {},
   "outputs": [
    {
     "data": {
      "text/plain": [
       "8.239999999999998"
      ]
     },
     "execution_count": 16,
     "metadata": {},
     "output_type": "execute_result"
    }
   ],
   "source": [
    "model.obj()"
   ]
  },
  {
   "cell_type": "markdown",
   "id": "1be0926e",
   "metadata": {},
   "source": [
    "## 5. Correct the code to verify model viability (optional)"
   ]
  },
  {
   "cell_type": "code",
   "execution_count": null,
   "id": "8b37acfc",
   "metadata": {},
   "outputs": [],
   "source": []
  },
  {
   "cell_type": "markdown",
   "id": "699a05e8",
   "metadata": {},
   "source": [
    "## 6. Printing the outputs as strings, so they can be saved."
   ]
  },
  {
   "cell_type": "code",
   "execution_count": 17,
   "id": "e904cf68",
   "metadata": {},
   "outputs": [
    {
     "name": "stdout",
     "output_type": "stream",
     "text": [
      "## Mathematical Optimization Model for Radiotherapy Treatment Planning\n",
      "\n",
      "**Parameters:**\n",
      "\n",
      "*  `n`: Number of patients (n=17).\n",
      "* `C`: Total proton fraction capacity (C=100).\n",
      "* `BEDi(p, 15-p)`: BED score for patient `i` when receiving `p` proton fractions and `15-p` photon fractions (obtained from the \"ProblemData.csv\" file).\n",
      "\n",
      "**Decision Variables:**\n",
      "\n",
      "* `xij`: Binary variable, equal to 1 if patient `i` receives `j` proton fractions, and 0 otherwise.\n",
      "\n",
      "**Objective Function:**\n",
      "\n",
      "Maximize the total BED score for all patients:\n",
      "\n",
      "```\n",
      "Maximize Σ(i=1 to n) Σ(j=0 to 15) BEDi(j, 15-j) * xij\n",
      "```\n",
      "\n",
      "**Constraints:**\n",
      "\n",
      "1. **Each patient receives exactly 15 fractions:**\n",
      "   ```\n",
      "   Σ(j=0 to 15) xij = 1 for all i = 1, ..., n \n",
      "   ```\n",
      "\n",
      "2. **Total proton fraction capacity:**\n",
      "   ```\n",
      "   Σ(i=1 to n) Σ(j=0 to 15) j * xij <= C \n",
      "   ```\n",
      "\n",
      "3. **Binary variable constraint:**\n",
      "   ```\n",
      "   xij ∈ {0, 1} for all i = 1, ..., n and j = 0, ..., 15\n",
      "   ```\n",
      "\n",
      "**Explanation:**\n",
      "\n",
      "The objective function aims to maximize the total BED score across all patients. The first constraint ensures that each patient receives the required 15 fractions. The second constraint ensures that the total number of proton fractions allocated does not exceed the available capacity. Finally, the third constraint defines the decision variables as binary, indicating whether a specific number of proton fractions is assigned to a patient. \n",
      "\n",
      "This model allows you to determine the optimal allocation of proton fractions to patients while considering the limited capacity and aiming for the highest possible total BED score. You can use an integer linear programming solver to find the optimal solution for the decision variables `xij`, which will tell you how many proton fractions each patient should receive. \n",
      "\n"
     ]
    }
   ],
   "source": [
    "print(response.text)"
   ]
  },
  {
   "cell_type": "code",
   "execution_count": 18,
   "id": "859eaf28",
   "metadata": {},
   "outputs": [
    {
     "name": "stdout",
     "output_type": "stream",
     "text": [
      "```python\n",
      "import pyomo.environ as pyo\n",
      "import pandas as pd\n",
      "\n",
      "# Sample Data: Replace with actual data from \"ProblemData.csv\"\n",
      "data = {\n",
      "    'Patient': [f'Patient {i+1}' for i in range(17)],\n",
      "    'BED_0': [100, 95, 105, 98, 102, 97, 103, 99, 101, 96, 104, 98, 102, 97, 103, 99, 101],\n",
      "    'BED_1': [105, 100, 110, 103, 107, 102, 108, 104, 106, 101, 109, 103, 107, 102, 108, 104, 106],\n",
      "    # ... Add BED data for 2 to 14 proton fractions ...\n",
      "    'BED_15': [150, 145, 155, 148, 152, 147, 153, 149, 151, 146, 154, 148, 152, 147, 153, 149, 151]\n",
      "}\n",
      "df = pd.DataFrame(data)\n",
      "\n",
      "# Model Parameters\n",
      "n = 17  # Number of patients\n",
      "C = 100  # Total proton fraction capacity\n",
      "\n",
      "# Create a Pyomo model\n",
      "model = pyo.ConcreteModel()\n",
      "\n",
      "# Sets\n",
      "model.I = pyo.Set(initialize=df['Patient'].tolist())  # Set of patients\n",
      "model.J = pyo.Set(initialize=range(16))  # Set of proton fractions (0 to 15)\n",
      "\n",
      "# Parameters\n",
      "model.BED = pyo.Param(model.I, model.J, initialize=lambda model, i, j: df[f'BED_{j}'][df['Patient'] == i].values[0])\n",
      "\n",
      "# Decision Variables\n",
      "model.x = pyo.Var(model.I, model.J, within=pyo.Binary)\n",
      "\n",
      "# Objective Function\n",
      "def objective_rule(model):\n",
      "    return sum(model.BED[i, j] * model.x[i, j] for i in model.I for j in model.J)\n",
      "model.obj = pyo.Objective(rule=objective_rule, sense=pyo.maximize)\n",
      "\n",
      "# Constraints\n",
      "def constraint_fractions_rule(model, i):\n",
      "    return sum(model.x[i, j] for j in model.J) == 1\n",
      "model.constraint_fractions = pyo.Constraint(model.I, rule=constraint_fractions_rule)\n",
      "\n",
      "def constraint_capacity_rule(model):\n",
      "    return sum(j * model.x[i, j] for i in model.I for j in model.J) <= C\n",
      "model.constraint_capacity = pyo.Constraint(rule=constraint_capacity_rule)\n",
      "\n",
      "# Solve the model\n",
      "solver = pyo.SolverFactory('glpk')  # Use an appropriate solver\n",
      "results = solver.solve(model)\n",
      "\n",
      "# Display results\n",
      "print(results)\n",
      "\n",
      "# Extract optimal solution\n",
      "for i in model.I:\n",
      "    for j in model.J:\n",
      "        if pyo.value(model.x[i, j]) == 1:\n",
      "            print(f\"{i} receives {j} proton fractions.\")\n",
      "```\n",
      "\n",
      "**Explanation and Sample Data:**\n",
      "\n",
      "*   **Sample Data:**  The code uses sample data for the BED scores in the `data` dictionary. This data should be replaced with the actual data from your \"ProblemData.csv\" file.\n",
      "*   **Pyomo Model:** The code defines the sets, parameters, decision variables, objective function, and constraints using Pyomo's modeling framework.\n",
      "*   **Solver:** The code uses the 'glpk' solver to find the optimal solution. You can replace this with other solvers as needed.\n",
      "*   **Output:** The code prints the solver's results and then displays the optimal allocation of proton fractions for each patient.\n",
      "\n",
      "Remember to update the sample BED data with your actual data and choose an appropriate solver for your problem.\n",
      "\n"
     ]
    }
   ],
   "source": [
    "print(response2.text)"
   ]
  }
 ],
 "metadata": {
  "kernelspec": {
   "display_name": "Python 3 (ipykernel)",
   "language": "python",
   "name": "python3"
  },
  "language_info": {
   "codemirror_mode": {
    "name": "ipython",
    "version": 3
   },
   "file_extension": ".py",
   "mimetype": "text/x-python",
   "name": "python",
   "nbconvert_exporter": "python",
   "pygments_lexer": "ipython3",
   "version": "3.11.4"
  }
 },
 "nbformat": 4,
 "nbformat_minor": 5
}
