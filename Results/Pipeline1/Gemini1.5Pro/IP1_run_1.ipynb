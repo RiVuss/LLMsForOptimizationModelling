{
 "cells": [
  {
   "cell_type": "markdown",
   "id": "0df7edfd",
   "metadata": {},
   "source": [
    "# LLM Optimization Modelling Experiment"
   ]
  },
  {
   "cell_type": "code",
   "execution_count": 30,
   "id": "7f664028",
   "metadata": {},
   "outputs": [],
   "source": [
    "import vertexai\n",
    "from vertexai.preview.generative_models import GenerativeModel\n",
    "from IPython.display import Markdown"
   ]
  },
  {
   "cell_type": "markdown",
   "id": "c106f1be",
   "metadata": {},
   "source": [
    "## 1. Define the problem description"
   ]
  },
  {
   "cell_type": "code",
   "execution_count": 31,
   "id": "9adce4b2",
   "metadata": {},
   "outputs": [],
   "source": [
    "problem = '''We are delighted to welcome you, our newest intern on the Analytics team of Massachusetts General Hospital! You have been placed in a challenging role where you will be tasked with solving a real-world problem in the field of medical physics. We are building a pilot program in Boston, and if successful, your work could be applied widely in hospitals with limited capacity in many countries.\n",
    "\n",
    "You are responsible for determining the best treatment plan for 17 patients who require radiotherapy. Your goal is to optimize the use of two possible treatments: photon therapy and proton therapy. While proton therapy is known to target tumors more precisely, it is also more expensive and has limited capacity in many countries. Therefore, you will need to balance the benefits of proton therapy with its limitations and cost to create an effective treatment plan for each patient.\n",
    "\n",
    "To determine the best course of action for each patient, you will use a scoring system called the Biological Equivalent Dose (BED). This system allows you to calculate the effectiveness of each patient’s treatment plan by considering the number of proton fractions that can be used while still achieving the highest possible BED.\n",
    "\n",
    "We have n=17 patients who need radiotherapy. Each patient i needs 15 fractions, which can be photon fractions, proton fractions, or a mix of photon and proton fractions (e.g. 4 proton fractions and 11 photon fractions). We want to use the limited proton therapy capacity as best as possible. We can calculate the BED score for each patient when p proton fractions and 15-p photon fractions are used, as BEDi(p,15-p), i.e., the BED when p proton and 15-p photon fractions are delivered for patient i. The higher the score, the better. \n",
    "\n",
    "The data file \"ProblemData.csv\" contains a 2D matrix of BED scores. It does not have an index. It was made in Excel and saved as csv. The columns are the number of proton fractions and each row represents a patient. In particular, the number at the (i,j) position is the score for patient i receiving j proton fractions. \n",
    "\n",
    "Suppose that the total maximal capacity C is 100 proton fractions. To maximize the total BED scores for all the patients, which patients should get proton fractions, and how many should they get? Formulate an integer linear optimization model to solve this problem. Assume you know the value BEDi(j,15-j) for each patient i. \n",
    "'''"
   ]
  },
  {
   "cell_type": "markdown",
   "id": "063be1a3",
   "metadata": {},
   "source": [
    "## 2. Generate the mathematical model"
   ]
  },
  {
   "cell_type": "code",
   "execution_count": 32,
   "id": "e31ec80c",
   "metadata": {},
   "outputs": [],
   "source": [
    "#Initializing the session. To replicate, make sure the right credentials are saved in a PATH variable\n",
    "PROJECT_ID = \"llm4optproblems\"\n",
    "REGION = \"us-central1\"\n",
    "vertexai.init(project=PROJECT_ID, location=REGION)\n",
    "\n",
    "#Specifying the model\n",
    "generative_multimodal_model = GenerativeModel(\"gemini-1.5-pro-preview-0409\")\n",
    "\n",
    "#The propmt applied to all problems\n",
    "prompt = '''Let's think step by step. Please write a mathematical optimization model for this problem. If there are parameter values, make sure to include them in the mathematical formulation.\n",
    "'''\n",
    "\n",
    "#Generate the response\n",
    "response = generative_multimodal_model.generate_content([prompt+problem])\n"
   ]
  },
  {
   "cell_type": "code",
   "execution_count": 33,
   "id": "f9adc567",
   "metadata": {},
   "outputs": [
    {
     "data": {
      "text/markdown": [
       "## Integer Linear Optimization Model for Radiotherapy Treatment Planning\n",
       "\n",
       "### Sets and Indices:\n",
       "\n",
       "*  $I$: Set of patients, indexed by $i$ (where $|I| = n = 17$)\n",
       "*  $P$: Set of possible proton fractions, indexed by $p$ (where $P = \\{0, 1, 2, ..., 15\\}$)\n",
       "\n",
       "### Parameters:\n",
       "\n",
       "*  $BED_{i,p}$: Biological Equivalent Dose score for patient $i$ receiving $p$ proton fractions\n",
       "*  $C$: Total capacity of proton fractions (given as 100)\n",
       "\n",
       "### Decision Variables:\n",
       "\n",
       "*  $x_{i,p} \\in \\{0, 1\\}$: Binary variable that equals 1 if patient $i$ receives $p$ proton fractions, and 0 otherwise. \n",
       "\n",
       "### Objective Function:\n",
       "\n",
       "Maximize the total BED score for all patients:\n",
       "\n",
       "```\n",
       "Maximize Z = ∑_{i∈I} ∑_{p∈P} BED_{i,p} * x_{i,p}\n",
       "```\n",
       "\n",
       "### Constraints:\n",
       "\n",
       "1. **Each patient receives exactly 15 fractions:**\n",
       "    *  For each patient $i$:\n",
       "    ```\n",
       "    ∑_{p∈P} x_{i,p} = 1 \n",
       "    ```\n",
       "2. **Total proton fractions used must not exceed capacity:**\n",
       "    ```\n",
       "    ∑_{i∈I} ∑_{p∈P} p * x_{i,p} <= C\n",
       "    ```\n",
       "\n",
       "### Model Summary:\n",
       "\n",
       "This integer linear optimization model aims to maximize the total BED score for all patients while adhering to the constraints of limited proton therapy capacity and ensuring each patient receives the required number of fractions. \n",
       "\n",
       "### Implementation:\n",
       "\n",
       "This model can be implemented and solved using various optimization software packages such as CPLEX, Gurobi, or PuLP (Python). By inputting the BED scores from the \"ProblemData.csv\" file and setting the capacity constraint, the model will determine the optimal allocation of proton fractions to patients, maximizing the overall treatment effectiveness.\n"
      ],
      "text/plain": [
       "<IPython.core.display.Markdown object>"
      ]
     },
     "execution_count": 33,
     "metadata": {},
     "output_type": "execute_result"
    }
   ],
   "source": [
    "#Show the resopnse in a formatted way\n",
    "Markdown(response.text)"
   ]
  },
  {
   "cell_type": "markdown",
   "id": "49104a9a",
   "metadata": {},
   "source": [
    "## 3. Generate the pyomo code"
   ]
  },
  {
   "cell_type": "code",
   "execution_count": 34,
   "id": "aabea932",
   "metadata": {},
   "outputs": [],
   "source": [
    "#Second prompt gets the output of the previous step and generates the code\n",
    "prompt2 = \"Please write pyomo code for this mathematical problem. Use sample data where needed. Indicate where you use sample data. \\n\"\n",
    "prompt2 += response.text \n",
    "response2 = generative_multimodal_model.generate_content([prompt2])"
   ]
  },
  {
   "cell_type": "code",
   "execution_count": 35,
   "id": "fd2835af",
   "metadata": {},
   "outputs": [
    {
     "data": {
      "text/markdown": [
       "## Pyomo Implementation of Radiotherapy Treatment Planning Model\n",
       "\n",
       "```python\n",
       "from pyomo.environ import *\n",
       "\n",
       "# Sample Data (replace with actual data from ProblemData.csv)\n",
       "BED = {\n",
       "    (1, 0): 60, (1, 1): 65,  ..., (1, 15): 100,\n",
       "    (2, 0): 55, (2, 1): 62,  ..., (2, 15): 95,\n",
       "    ...\n",
       "    (17, 0): 70, (17, 1): 78, ..., (17, 15): 110 \n",
       "}\n",
       "C = 100  # Total capacity of proton fractions\n",
       "\n",
       "# Define the model\n",
       "model = ConcreteModel()\n",
       "\n",
       "# Sets and Indices\n",
       "model.I = Set(initialize=range(1, 18))  # Set of patients (1 to 17)\n",
       "model.P = Set(initialize=range(16))    # Set of possible proton fractions (0 to 15)\n",
       "\n",
       "# Parameters\n",
       "model.BED = Param(model.I, model.P, initialize=BED)\n",
       "model.C = Param(initialize=C)\n",
       "\n",
       "# Decision Variables\n",
       "model.x = Var(model.I, model.P, domain=Binary)\n",
       "\n",
       "# Objective Function\n",
       "def total_BED_rule(model):\n",
       "    return sum(model.BED[i, p] * model.x[i, p] for i in model.I for p in model.P)\n",
       "model.total_BED = Objective(rule=total_BED_rule, sense=maximize)\n",
       "\n",
       "# Constraints\n",
       "def one_fraction_per_patient_rule(model, i):\n",
       "    return sum(model.x[i, p] for p in model.P) == 1\n",
       "model.one_fraction_constraint = Constraint(model.I, rule=one_fraction_per_patient_rule)\n",
       "\n",
       "def capacity_constraint_rule(model):\n",
       "    return sum(p * model.x[i, p] for i in model.I for p in model.P) <= model.C\n",
       "model.capacity_constraint = Constraint(rule=capacity_constraint_rule)\n",
       "\n",
       "# Solve the model (requires a solver like CPLEX or Gurobi)\n",
       "solver = SolverFactory('cplex')  # Replace with your chosen solver\n",
       "solver.solve(model)\n",
       "\n",
       "# Print the results\n",
       "for i in model.I:\n",
       "    for p in model.P:\n",
       "        if model.x[i, p].value == 1:\n",
       "            print(f\"Patient {i} receives {p} proton fractions.\")\n",
       "\n",
       "print(f\"Total BED score: {model.total_BED()}\") \n",
       "```\n",
       "\n",
       "**Explanation:**\n",
       "\n",
       "1. **Sample Data:** The `BED` dictionary is where you would replace the sample data with the actual BED scores from your \"ProblemData.csv\" file.\n",
       "2. **Sets and Indices:**  We define sets for patients (`model.I`) and proton fractions (`model.P`). \n",
       "3. **Parameters:** We define the `BED` parameter using the provided sample data and the `C` parameter for capacity.\n",
       "4. **Decision Variables:** The `model.x` variable is defined as a binary variable representing the treatment plan. \n",
       "5. **Objective Function:** The `total_BED_rule` defines the objective of maximizing the total BED score.\n",
       "6. **Constraints:** \n",
       "    * `one_fraction_per_patient_rule` ensures each patient receives exactly one type of fraction treatment.\n",
       "    * `capacity_constraint_rule` ensures the total used proton fractions do not exceed the capacity. \n",
       "7. **Solving:** The model is solved using a solver like CPLEX or Gurobi. You would need to install and configure the solver separately. \n",
       "8. **Results:** The code prints the optimal treatment plan (number of fractions per patient) and the total BED score. \n"
      ],
      "text/plain": [
       "<IPython.core.display.Markdown object>"
      ]
     },
     "execution_count": 35,
     "metadata": {},
     "output_type": "execute_result"
    }
   ],
   "source": [
    "#Showing the code in a formatted way\n",
    "Markdown(response2.text)"
   ]
  },
  {
   "cell_type": "markdown",
   "id": "b60756ae",
   "metadata": {},
   "source": [
    "## 4. Input problem data and try running the generated code"
   ]
  },
  {
   "cell_type": "code",
   "execution_count": 44,
   "id": "f82b3efc",
   "metadata": {},
   "outputs": [
    {
     "name": "stdout",
     "output_type": "stream",
     "text": [
      "Patient 1 receives 8 proton fractions.\n",
      "Patient 2 receives 8 proton fractions.\n",
      "Patient 3 receives 3 proton fractions.\n",
      "Patient 4 receives 0 proton fractions.\n",
      "Patient 5 receives 5 proton fractions.\n",
      "Patient 6 receives 0 proton fractions.\n",
      "Patient 7 receives 4 proton fractions.\n",
      "Patient 8 receives 15 proton fractions.\n",
      "Patient 9 receives 4 proton fractions.\n",
      "Patient 10 receives 5 proton fractions.\n",
      "Patient 11 receives 6 proton fractions.\n",
      "Patient 12 receives 0 proton fractions.\n",
      "Patient 13 receives 10 proton fractions.\n",
      "Patient 14 receives 0 proton fractions.\n",
      "Patient 15 receives 10 proton fractions.\n",
      "Patient 16 receives 10 proton fractions.\n",
      "Patient 17 receives 12 proton fractions.\n",
      "Total BED score: 8.239999999999998\n"
     ]
    }
   ],
   "source": [
    "from pyomo.environ import *\n",
    "\n",
    "# # Sample Data (replace with actual data from ProblemData.csv)\n",
    "# BED = {\n",
    "#     (1, 0): 60, (1, 1): 65,  ..., (1, 15): 100,\n",
    "#     (2, 0): 55, (2, 1): 62,  ..., (2, 15): 95,\n",
    "#     ...\n",
    "#     (17, 0): 70, (17, 1): 78, ..., (17, 15): 110 \n",
    "# }\n",
    "\n",
    "#Data input done by human\n",
    "df = pd.read_csv('ProblemData.csv', header=None)\n",
    "BED = {}\n",
    "for i, row in df.iterrows():\n",
    "    for j, dose in enumerate(row):\n",
    "        BED[(i+1, j)] = dose\n",
    "#End\n",
    "        \n",
    "C = 100  # Total capacity of proton fractions\n",
    "\n",
    "# Define the model\n",
    "model = ConcreteModel()\n",
    "\n",
    "# Sets and Indices\n",
    "model.I = Set(initialize=range(1, 18))  # Set of patients (1 to 17)\n",
    "model.P = Set(initialize=range(16))    # Set of possible proton fractions (0 to 15)\n",
    "\n",
    "# Parameters\n",
    "model.BED = Param(model.I, model.P, initialize=BED)\n",
    "model.C = Param(initialize=C)\n",
    "\n",
    "# Decision Variables\n",
    "model.x = Var(model.I, model.P, domain=Binary)\n",
    "\n",
    "# Objective Function\n",
    "def total_BED_rule(model):\n",
    "    return sum(model.BED[i, p] * model.x[i, p] for i in model.I for p in model.P)\n",
    "model.total_BED = Objective(rule=total_BED_rule, sense=maximize)\n",
    "\n",
    "# Constraints\n",
    "def one_fraction_per_patient_rule(model, i):\n",
    "    return sum(model.x[i, p] for p in model.P) == 1\n",
    "model.one_fraction_constraint = Constraint(model.I, rule=one_fraction_per_patient_rule)\n",
    "\n",
    "def capacity_constraint_rule(model):\n",
    "    return sum(p * model.x[i, p] for i in model.I for p in model.P) <= model.C\n",
    "model.capacity_constraint = Constraint(rule=capacity_constraint_rule)\n",
    "\n",
    "# Solve the model (requires a solver like CPLEX or Gurobi)\n",
    "solver = SolverFactory('glpk')  # Replace with your chosen solver\n",
    "solver.solve(model)\n",
    "\n",
    "# Print the results\n",
    "for i in model.I:\n",
    "    for p in model.P:\n",
    "        if model.x[i, p].value == 1:\n",
    "            print(f\"Patient {i} receives {p} proton fractions.\")\n",
    "\n",
    "print(f\"Total BED score: {model.total_BED()}\")"
   ]
  },
  {
   "cell_type": "markdown",
   "id": "8f10340f",
   "metadata": {},
   "source": [
    "## 5. Correct the code to verify model viability (optional)"
   ]
  },
  {
   "cell_type": "code",
   "execution_count": null,
   "id": "84d8ac14",
   "metadata": {},
   "outputs": [],
   "source": []
  },
  {
   "cell_type": "markdown",
   "id": "e52361ac",
   "metadata": {},
   "source": [
    "## 6. Printing the outputs as strings, so they can be saved.\n",
    "Those can be rendered as markdown for better readability"
   ]
  },
  {
   "cell_type": "code",
   "execution_count": 46,
   "id": "0b293f6e",
   "metadata": {},
   "outputs": [
    {
     "name": "stdout",
     "output_type": "stream",
     "text": [
      "## Integer Linear Optimization Model for Radiotherapy Treatment Planning\n",
      "\n",
      "### Sets and Indices:\n",
      "\n",
      "*  $I$: Set of patients, indexed by $i$ (where $|I| = n = 17$)\n",
      "*  $P$: Set of possible proton fractions, indexed by $p$ (where $P = \\{0, 1, 2, ..., 15\\}$)\n",
      "\n",
      "### Parameters:\n",
      "\n",
      "*  $BED_{i,p}$: Biological Equivalent Dose score for patient $i$ receiving $p$ proton fractions\n",
      "*  $C$: Total capacity of proton fractions (given as 100)\n",
      "\n",
      "### Decision Variables:\n",
      "\n",
      "*  $x_{i,p} \\in \\{0, 1\\}$: Binary variable that equals 1 if patient $i$ receives $p$ proton fractions, and 0 otherwise. \n",
      "\n",
      "### Objective Function:\n",
      "\n",
      "Maximize the total BED score for all patients:\n",
      "\n",
      "```\n",
      "Maximize Z = ∑_{i∈I} ∑_{p∈P} BED_{i,p} * x_{i,p}\n",
      "```\n",
      "\n",
      "### Constraints:\n",
      "\n",
      "1. **Each patient receives exactly 15 fractions:**\n",
      "    *  For each patient $i$:\n",
      "    ```\n",
      "    ∑_{p∈P} x_{i,p} = 1 \n",
      "    ```\n",
      "2. **Total proton fractions used must not exceed capacity:**\n",
      "    ```\n",
      "    ∑_{i∈I} ∑_{p∈P} p * x_{i,p} <= C\n",
      "    ```\n",
      "\n",
      "### Model Summary:\n",
      "\n",
      "This integer linear optimization model aims to maximize the total BED score for all patients while adhering to the constraints of limited proton therapy capacity and ensuring each patient receives the required number of fractions. \n",
      "\n",
      "### Implementation:\n",
      "\n",
      "This model can be implemented and solved using various optimization software packages such as CPLEX, Gurobi, or PuLP (Python). By inputting the BED scores from the \"ProblemData.csv\" file and setting the capacity constraint, the model will determine the optimal allocation of proton fractions to patients, maximizing the overall treatment effectiveness.\n",
      "\n"
     ]
    }
   ],
   "source": [
    "print(response.text)"
   ]
  },
  {
   "cell_type": "code",
   "execution_count": 47,
   "id": "02bb27fd",
   "metadata": {},
   "outputs": [
    {
     "name": "stdout",
     "output_type": "stream",
     "text": [
      "## Pyomo Implementation of Radiotherapy Treatment Planning Model\n",
      "\n",
      "```python\n",
      "from pyomo.environ import *\n",
      "\n",
      "# Sample Data (replace with actual data from ProblemData.csv)\n",
      "BED = {\n",
      "    (1, 0): 60, (1, 1): 65,  ..., (1, 15): 100,\n",
      "    (2, 0): 55, (2, 1): 62,  ..., (2, 15): 95,\n",
      "    ...\n",
      "    (17, 0): 70, (17, 1): 78, ..., (17, 15): 110 \n",
      "}\n",
      "C = 100  # Total capacity of proton fractions\n",
      "\n",
      "# Define the model\n",
      "model = ConcreteModel()\n",
      "\n",
      "# Sets and Indices\n",
      "model.I = Set(initialize=range(1, 18))  # Set of patients (1 to 17)\n",
      "model.P = Set(initialize=range(16))    # Set of possible proton fractions (0 to 15)\n",
      "\n",
      "# Parameters\n",
      "model.BED = Param(model.I, model.P, initialize=BED)\n",
      "model.C = Param(initialize=C)\n",
      "\n",
      "# Decision Variables\n",
      "model.x = Var(model.I, model.P, domain=Binary)\n",
      "\n",
      "# Objective Function\n",
      "def total_BED_rule(model):\n",
      "    return sum(model.BED[i, p] * model.x[i, p] for i in model.I for p in model.P)\n",
      "model.total_BED = Objective(rule=total_BED_rule, sense=maximize)\n",
      "\n",
      "# Constraints\n",
      "def one_fraction_per_patient_rule(model, i):\n",
      "    return sum(model.x[i, p] for p in model.P) == 1\n",
      "model.one_fraction_constraint = Constraint(model.I, rule=one_fraction_per_patient_rule)\n",
      "\n",
      "def capacity_constraint_rule(model):\n",
      "    return sum(p * model.x[i, p] for i in model.I for p in model.P) <= model.C\n",
      "model.capacity_constraint = Constraint(rule=capacity_constraint_rule)\n",
      "\n",
      "# Solve the model (requires a solver like CPLEX or Gurobi)\n",
      "solver = SolverFactory('cplex')  # Replace with your chosen solver\n",
      "solver.solve(model)\n",
      "\n",
      "# Print the results\n",
      "for i in model.I:\n",
      "    for p in model.P:\n",
      "        if model.x[i, p].value == 1:\n",
      "            print(f\"Patient {i} receives {p} proton fractions.\")\n",
      "\n",
      "print(f\"Total BED score: {model.total_BED()}\") \n",
      "```\n",
      "\n",
      "**Explanation:**\n",
      "\n",
      "1. **Sample Data:** The `BED` dictionary is where you would replace the sample data with the actual BED scores from your \"ProblemData.csv\" file.\n",
      "2. **Sets and Indices:**  We define sets for patients (`model.I`) and proton fractions (`model.P`). \n",
      "3. **Parameters:** We define the `BED` parameter using the provided sample data and the `C` parameter for capacity.\n",
      "4. **Decision Variables:** The `model.x` variable is defined as a binary variable representing the treatment plan. \n",
      "5. **Objective Function:** The `total_BED_rule` defines the objective of maximizing the total BED score.\n",
      "6. **Constraints:** \n",
      "    * `one_fraction_per_patient_rule` ensures each patient receives exactly one type of fraction treatment.\n",
      "    * `capacity_constraint_rule` ensures the total used proton fractions do not exceed the capacity. \n",
      "7. **Solving:** The model is solved using a solver like CPLEX or Gurobi. You would need to install and configure the solver separately. \n",
      "8. **Results:** The code prints the optimal treatment plan (number of fractions per patient) and the total BED score. \n",
      "\n"
     ]
    }
   ],
   "source": [
    "print(response2.text)"
   ]
  }
 ],
 "metadata": {
  "kernelspec": {
   "display_name": "Python 3 (ipykernel)",
   "language": "python",
   "name": "python3"
  },
  "language_info": {
   "codemirror_mode": {
    "name": "ipython",
    "version": 3
   },
   "file_extension": ".py",
   "mimetype": "text/x-python",
   "name": "python",
   "nbconvert_exporter": "python",
   "pygments_lexer": "ipython3",
   "version": "3.11.4"
  }
 },
 "nbformat": 4,
 "nbformat_minor": 5
}
