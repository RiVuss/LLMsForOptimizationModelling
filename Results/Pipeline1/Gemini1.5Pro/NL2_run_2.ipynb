{
 "cells": [
  {
   "cell_type": "markdown",
   "id": "f0005e9e",
   "metadata": {},
   "source": [
    "# LLM Optimization Modelling Experiment"
   ]
  },
  {
   "cell_type": "code",
   "execution_count": 3,
   "id": "7f664028",
   "metadata": {},
   "outputs": [],
   "source": [
    "import vertexai\n",
    "from vertexai.preview.generative_models import GenerativeModel, Image\n",
    "from IPython.display import Markdown"
   ]
  },
  {
   "cell_type": "markdown",
   "id": "f527d6af",
   "metadata": {},
   "source": [
    "## 1. Define the problem description"
   ]
  },
  {
   "cell_type": "code",
   "execution_count": 55,
   "id": "25055ffd",
   "metadata": {},
   "outputs": [],
   "source": [
    "problem = '''You are a chemist in charge of a process that requires two liquids to reach the end product. Your goal is to maximize the quality of the product in the end, which is measured by the difference between the Napierian logarithm of the product of the litres used of each component and the cube root of the summation of the first component litres as well as double the second component litres. It is required that the squared difference between the litres employed of each component and the mean litres utilised of both components is below ten. This is necessary for the obtained set to be stable. Furthermore, the mixture tank available to you can only fit 80 l. Please formulate a mathematical optimization model for this problem. '''"
   ]
  },
  {
   "cell_type": "markdown",
   "id": "472cf9ad",
   "metadata": {},
   "source": [
    "## 2. Generate the mathematical model"
   ]
  },
  {
   "cell_type": "code",
   "execution_count": 83,
   "id": "e31ec80c",
   "metadata": {},
   "outputs": [],
   "source": [
    "#Initializing the session. To replicate, make sure the right credentials are saved in a PATH variable\n",
    "PROJECT_ID = \"llm4optproblems\"\n",
    "REGION = \"us-central1\"\n",
    "vertexai.init(project=PROJECT_ID, location=REGION)\n",
    "\n",
    "#Specifying the model\n",
    "generative_multimodal_model = GenerativeModel(\"gemini-1.5-pro-preview-0409\")\n",
    "\n",
    "#The propmt applied to all problems\n",
    "prompt = '''Please formulate a mathematical optimization model for this problem. Include parameters, decision variables, the objective function and the constraints in your answer.\n",
    "'''\n",
    "\n",
    "#Generate the response\n",
    "response = generative_multimodal_model.generate_content([prompt+problem])\n"
   ]
  },
  {
   "cell_type": "code",
   "execution_count": 84,
   "id": "f9adc567",
   "metadata": {},
   "outputs": [
    {
     "data": {
      "text/markdown": [
       "## Mathematical Optimization Model \n",
       "\n",
       "**Parameters:**\n",
       "\n",
       "*  None specified in the problem.\n",
       "\n",
       "**Decision Variables:**\n",
       "\n",
       "*   $x_1$: Liters of the first liquid used.\n",
       "*   $x_2$: Liters of the second liquid used.\n",
       "\n",
       "**Objective Function:**\n",
       "\n",
       "Maximize  $Z = \\ln(x_1 \\cdot x_2) - \\sqrt[3]{x_1 + 2x_2}$\n",
       "\n",
       "**Constraints:**\n",
       "\n",
       "1. **Tank Capacity:** \n",
       "   $x_1 + x_2 \\leq 80$\n",
       "\n",
       "2. **Stability Constraint:**\n",
       "   $(x_1 - \\frac{x_1 + x_2}{2})^2 \\leq 10$\n",
       "   $(x_2 - \\frac{x_1 + x_2}{2})^2 \\leq 10$\n",
       "\n",
       "3. **Non-negativity:**\n",
       "   $x_1 \\geq 0$\n",
       "   $x_2 \\geq 0$\n",
       "\n",
       "**Summary:**\n",
       "\n",
       "This model aims to find the optimal quantities of the two liquids ($x_1$, $x_2$) that maximize the product quality (Z) while ensuring the mixture fits within the tank capacity and maintains stability according to the specified criteria. \n"
      ],
      "text/plain": [
       "<IPython.core.display.Markdown object>"
      ]
     },
     "execution_count": 84,
     "metadata": {},
     "output_type": "execute_result"
    }
   ],
   "source": [
    "#Show the resopnse in a formatted way\n",
    "Markdown(response.text)"
   ]
  },
  {
   "cell_type": "markdown",
   "id": "75796979",
   "metadata": {},
   "source": [
    "## 3. Generate the pyomo code"
   ]
  },
  {
   "cell_type": "code",
   "execution_count": 85,
   "id": "aabea932",
   "metadata": {},
   "outputs": [],
   "source": [
    "#Second prompt gets the output of the previous step and generates the code\n",
    "prompt2 = \"Please write pyomo code for this mathematical problem. Use sample data where needed. Indicate where you use sample data. \\n\"\n",
    "prompt2 += response.text \n",
    "response2 = generative_multimodal_model.generate_content([prompt2])"
   ]
  },
  {
   "cell_type": "code",
   "execution_count": 86,
   "id": "fd2835af",
   "metadata": {
    "scrolled": false
   },
   "outputs": [
    {
     "data": {
      "text/markdown": [
       "```python\n",
       "import pyomo.environ as pyo\n",
       "\n",
       "# Create a model\n",
       "model = pyo.ConcreteModel()\n",
       "\n",
       "# Define decision variables\n",
       "model.x1 = pyo.Var(domain=pyo.NonNegativeReals)\n",
       "model.x2 = pyo.Var(domain=pyo.NonNegativeReals)\n",
       "\n",
       "# Define the objective function\n",
       "model.obj = pyo.Objective(expr=pyo.log(model.x1 * model.x2) - (model.x1 + 2*model.x2)**(1/3), sense=pyo.maximize)\n",
       "\n",
       "# Define the constraints\n",
       "model.tank_capacity = pyo.Constraint(expr=model.x1 + model.x2 <= 80)\n",
       "model.stability1 = pyo.Constraint(expr=(model.x1 - (model.x1 + model.x2)/2)**2 <= 10)\n",
       "model.stability2 = pyo.Constraint(expr=(model.x2 - (model.x1 + model.x2)/2)**2 <= 10)\n",
       "\n",
       "# Solve the model\n",
       "solver = pyo.SolverFactory('ipopt') # You can choose a different solver if you prefer\n",
       "results = solver.solve(model)\n",
       "\n",
       "# Print the results\n",
       "print(\"Solver status:\", results.solver.status)\n",
       "print(\"Termination condition:\", results.solver.termination_condition)\n",
       "print(\"Optimal solution:\")\n",
       "print(\"x1 =\", pyo.value(model.x1))\n",
       "print(\"x2 =\", pyo.value(model.x2))\n",
       "print(\"Objective function value (Z) =\", pyo.value(model.obj))\n",
       "```\n",
       "\n",
       "This code defines the Pyomo model for the given mathematical optimization problem. No sample data was needed as all parameters are given within the problem statement. The code includes:\n",
       "\n",
       "* **Defining decision variables:** `x1` and `x2` as non-negative real numbers.\n",
       "* **Defining the objective function:** Maximizing  `Z = ln(x1*x2) - (x1 + 2*x2)**(1/3)`.\n",
       "* **Defining the constraints:** Tank capacity, stability constraints, and non-negativity.\n",
       "* **Solving the model:** Using the 'ipopt' solver (you can change this if needed).\n",
       "* **Printing the results:** Solver status, termination condition, optimal values for `x1`, `x2`, and the objective function value. \n"
      ],
      "text/plain": [
       "<IPython.core.display.Markdown object>"
      ]
     },
     "execution_count": 86,
     "metadata": {},
     "output_type": "execute_result"
    }
   ],
   "source": [
    "#Showing the code in a formatted way\n",
    "Markdown(response2.text)"
   ]
  },
  {
   "cell_type": "markdown",
   "id": "b60756ae",
   "metadata": {},
   "source": [
    "## 4. Input problem data and try running the generated code"
   ]
  },
  {
   "cell_type": "code",
   "execution_count": 87,
   "id": "2bfd87cb",
   "metadata": {},
   "outputs": [
    {
     "name": "stdout",
     "output_type": "stream",
     "text": [
      "Solver status: ok\n",
      "Termination condition: optimal\n",
      "Optimal solution:\n",
      "x1 = 43.162277233647174\n",
      "x2 = 36.8377229631074\n",
      "Objective function value (Z) = 2.4827783318454744\n"
     ]
    }
   ],
   "source": [
    "import pyomo.environ as pyo\n",
    "\n",
    "# Create a model\n",
    "model = pyo.ConcreteModel()\n",
    "\n",
    "# Define decision variables\n",
    "model.x1 = pyo.Var(domain=pyo.NonNegativeReals)\n",
    "model.x2 = pyo.Var(domain=pyo.NonNegativeReals)\n",
    "\n",
    "# Define the objective function\n",
    "model.obj = pyo.Objective(expr=pyo.log(model.x1 * model.x2) - (model.x1 + 2*model.x2)**(1/3), sense=pyo.maximize)\n",
    "\n",
    "# Define the constraints\n",
    "model.tank_capacity = pyo.Constraint(expr=model.x1 + model.x2 <= 80)\n",
    "model.stability1 = pyo.Constraint(expr=(model.x1 - (model.x1 + model.x2)/2)**2 <= 10)\n",
    "model.stability2 = pyo.Constraint(expr=(model.x2 - (model.x1 + model.x2)/2)**2 <= 10)\n",
    "\n",
    "# Solve the model\n",
    "solver = pyo.SolverFactory('ipopt') # You can choose a different solver if you prefer\n",
    "results = solver.solve(model)\n",
    "\n",
    "# Print the results\n",
    "print(\"Solver status:\", results.solver.status)\n",
    "print(\"Termination condition:\", results.solver.termination_condition)\n",
    "print(\"Optimal solution:\")\n",
    "print(\"x1 =\", pyo.value(model.x1))\n",
    "print(\"x2 =\", pyo.value(model.x2))\n",
    "print(\"Objective function value (Z) =\", pyo.value(model.obj))"
   ]
  },
  {
   "cell_type": "markdown",
   "id": "1be0926e",
   "metadata": {},
   "source": [
    "## 5. Correct the code to verify model viability (optional)"
   ]
  },
  {
   "cell_type": "code",
   "execution_count": null,
   "id": "8b37acfc",
   "metadata": {},
   "outputs": [],
   "source": []
  },
  {
   "cell_type": "markdown",
   "id": "4ae3b460",
   "metadata": {},
   "source": [
    "## 6. Printing the outputs as strings, so they can be saved.\n",
    "Those can be rendered as markdown for better readability"
   ]
  },
  {
   "cell_type": "code",
   "execution_count": 88,
   "id": "e904cf68",
   "metadata": {},
   "outputs": [
    {
     "name": "stdout",
     "output_type": "stream",
     "text": [
      "## Mathematical Optimization Model \n",
      "\n",
      "**Parameters:**\n",
      "\n",
      "*  None specified in the problem.\n",
      "\n",
      "**Decision Variables:**\n",
      "\n",
      "*   $x_1$: Liters of the first liquid used.\n",
      "*   $x_2$: Liters of the second liquid used.\n",
      "\n",
      "**Objective Function:**\n",
      "\n",
      "Maximize  $Z = \\ln(x_1 \\cdot x_2) - \\sqrt[3]{x_1 + 2x_2}$\n",
      "\n",
      "**Constraints:**\n",
      "\n",
      "1. **Tank Capacity:** \n",
      "   $x_1 + x_2 \\leq 80$\n",
      "\n",
      "2. **Stability Constraint:**\n",
      "   $(x_1 - \\frac{x_1 + x_2}{2})^2 \\leq 10$\n",
      "   $(x_2 - \\frac{x_1 + x_2}{2})^2 \\leq 10$\n",
      "\n",
      "3. **Non-negativity:**\n",
      "   $x_1 \\geq 0$\n",
      "   $x_2 \\geq 0$\n",
      "\n",
      "**Summary:**\n",
      "\n",
      "This model aims to find the optimal quantities of the two liquids ($x_1$, $x_2$) that maximize the product quality (Z) while ensuring the mixture fits within the tank capacity and maintains stability according to the specified criteria. \n",
      "\n"
     ]
    }
   ],
   "source": [
    "print(response.text)"
   ]
  },
  {
   "cell_type": "code",
   "execution_count": 89,
   "id": "859eaf28",
   "metadata": {},
   "outputs": [
    {
     "name": "stdout",
     "output_type": "stream",
     "text": [
      "```python\n",
      "import pyomo.environ as pyo\n",
      "\n",
      "# Create a model\n",
      "model = pyo.ConcreteModel()\n",
      "\n",
      "# Define decision variables\n",
      "model.x1 = pyo.Var(domain=pyo.NonNegativeReals)\n",
      "model.x2 = pyo.Var(domain=pyo.NonNegativeReals)\n",
      "\n",
      "# Define the objective function\n",
      "model.obj = pyo.Objective(expr=pyo.log(model.x1 * model.x2) - (model.x1 + 2*model.x2)**(1/3), sense=pyo.maximize)\n",
      "\n",
      "# Define the constraints\n",
      "model.tank_capacity = pyo.Constraint(expr=model.x1 + model.x2 <= 80)\n",
      "model.stability1 = pyo.Constraint(expr=(model.x1 - (model.x1 + model.x2)/2)**2 <= 10)\n",
      "model.stability2 = pyo.Constraint(expr=(model.x2 - (model.x1 + model.x2)/2)**2 <= 10)\n",
      "\n",
      "# Solve the model\n",
      "solver = pyo.SolverFactory('ipopt') # You can choose a different solver if you prefer\n",
      "results = solver.solve(model)\n",
      "\n",
      "# Print the results\n",
      "print(\"Solver status:\", results.solver.status)\n",
      "print(\"Termination condition:\", results.solver.termination_condition)\n",
      "print(\"Optimal solution:\")\n",
      "print(\"x1 =\", pyo.value(model.x1))\n",
      "print(\"x2 =\", pyo.value(model.x2))\n",
      "print(\"Objective function value (Z) =\", pyo.value(model.obj))\n",
      "```\n",
      "\n",
      "This code defines the Pyomo model for the given mathematical optimization problem. No sample data was needed as all parameters are given within the problem statement. The code includes:\n",
      "\n",
      "* **Defining decision variables:** `x1` and `x2` as non-negative real numbers.\n",
      "* **Defining the objective function:** Maximizing  `Z = ln(x1*x2) - (x1 + 2*x2)**(1/3)`.\n",
      "* **Defining the constraints:** Tank capacity, stability constraints, and non-negativity.\n",
      "* **Solving the model:** Using the 'ipopt' solver (you can change this if needed).\n",
      "* **Printing the results:** Solver status, termination condition, optimal values for `x1`, `x2`, and the objective function value. \n",
      "\n"
     ]
    }
   ],
   "source": [
    "print(response2.text)"
   ]
  }
 ],
 "metadata": {
  "kernelspec": {
   "display_name": "Python 3 (ipykernel)",
   "language": "python",
   "name": "python3"
  },
  "language_info": {
   "codemirror_mode": {
    "name": "ipython",
    "version": 3
   },
   "file_extension": ".py",
   "mimetype": "text/x-python",
   "name": "python",
   "nbconvert_exporter": "python",
   "pygments_lexer": "ipython3",
   "version": "3.11.4"
  }
 },
 "nbformat": 4,
 "nbformat_minor": 5
}
