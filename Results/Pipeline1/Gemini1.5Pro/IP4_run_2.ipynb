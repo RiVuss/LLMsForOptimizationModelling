{
 "cells": [
  {
   "cell_type": "markdown",
   "id": "0df7edfd",
   "metadata": {},
   "source": [
    "# LLM Optimization Modelling Experiment"
   ]
  },
  {
   "cell_type": "code",
   "execution_count": 156,
   "id": "7f664028",
   "metadata": {},
   "outputs": [],
   "source": [
    "import vertexai\n",
    "from vertexai.preview.generative_models import GenerativeModel\n",
    "from IPython.display import Markdown"
   ]
  },
  {
   "cell_type": "markdown",
   "id": "c106f1be",
   "metadata": {},
   "source": [
    "## 1. Define the problem description"
   ]
  },
  {
   "cell_type": "code",
   "execution_count": 598,
   "id": "9adce4b2",
   "metadata": {},
   "outputs": [],
   "source": [
    "problem = '''Imagine you own a small shop, and you're trying to manage your employees' working hours and sales targets efficiently.\n",
    "You have three goals overall: sales goals, employee hours goals and overtime goals.\n",
    "\n",
    "Sales Goals: \n",
    "You have a target of selling 5500 units. \n",
    "But sometimes, you might sell fewer (negative deviation) or more (positive deviation) than this target. \n",
    "\n",
    "Employee Hours: \n",
    "You have both full-time and part-time employees. \n",
    "Your full-time employees are expected to work a total of 800 hours, while part-time employees are expected to work 320 hours. \n",
    "Similarly, like sales, there could be deviations in these working hours. \n",
    "\n",
    "Overtime: \n",
    "Additionally, your employees might end up working overtime. \n",
    "You have a target of 100 hours of overtime for full-time employees.\n",
    "You are not concerned about limiting the overtime of part-time employees.\n",
    "Again, you might deviate from this goal.\n",
    "\n",
    "Each of these deviations has a different priority for you. \n",
    "P1 to P4 are priority factors for each deviation. \n",
    "In addition to the general priorities of you goals, you are twice as concerned about fully utilizing the full-time employee hours.\n",
    "Finally, overtime hours of part-time employees have a relative cost of three times that of full-time employees.\n",
    "\n",
    "Now, the goal here is to minimize the overall impact of these deviations, considering their priorities. \n",
    "This means finding the best balance between sales targets, employee hours, and overtime, while keeping in mind which deviations are more critical for your business.'''"
   ]
  },
  {
   "cell_type": "markdown",
   "id": "063be1a3",
   "metadata": {},
   "source": [
    "## 2. Generate the mathematical model"
   ]
  },
  {
   "cell_type": "code",
   "execution_count": 610,
   "id": "e31ec80c",
   "metadata": {},
   "outputs": [],
   "source": [
    "#Initializing the session. To replicate, make sure the right credentials are saved in a PATH variable\n",
    "PROJECT_ID = \"llm4optproblems\"\n",
    "REGION = \"us-central1\"\n",
    "vertexai.init(project=PROJECT_ID, location=REGION)\n",
    "\n",
    "#Specifying the model\n",
    "generative_multimodal_model = GenerativeModel(\"gemini-1.5-pro-preview-0409\")\n",
    "\n",
    "#The propmt applied to all problems\n",
    "prompt = '''Let's think step by step. Please write a mathematical optimization model for this problem. If there are parameter values, make sure to include them in the mathematical formulation.\n",
    "'''\n",
    "\n",
    "#Generate the response\n",
    "response = generative_multimodal_model.generate_content([prompt+problem])\n"
   ]
  },
  {
   "cell_type": "code",
   "execution_count": 611,
   "id": "f9adc567",
   "metadata": {},
   "outputs": [
    {
     "data": {
      "text/markdown": [
       "## Mathematical Optimization Model for Employee Scheduling and Sales Targets\n",
       "\n",
       "**Sets:**\n",
       "\n",
       "*  E = {Full-Time, Part-Time} : Set of employee types\n",
       "\n",
       "**Parameters:**\n",
       "\n",
       "*  `sales_target` = 5500 units\n",
       "*  `full_time_hours_target` = 800 hours\n",
       "*  `part_time_hours_target` = 320 hours\n",
       "*  `full_time_overtime_target` = 100 hours\n",
       "*  P1: Priority factor for sales deviation \n",
       "*  P2: Priority factor for full-time employee hours deviation\n",
       "*  P3: Priority factor for part-time employee hours deviation\n",
       "*  P4: Priority factor for full-time overtime deviation\n",
       "\n",
       "**Decision Variables:**\n",
       "\n",
       "*  `S`: Actual sales units \n",
       "*  `FH`: Actual full-time employee hours\n",
       "*  `PH`: Actual part-time employee hours\n",
       "*  `FO`: Actual full-time overtime hours\n",
       "*  `PO`: Actual part-time overtime hours\n",
       "\n",
       "**Objective Function:**\n",
       "\n",
       "Minimize the total weighted deviation from targets:\n",
       "\n",
       "```\n",
       "Minimize: \n",
       " P1 * |S - sales_target|  + 2 * P2 * |FH - full_time_hours_target| + P3 * |PH - part_time_hours_target| + P4 * |FO - full_time_overtime_target| + 3 * P4 * PO\n",
       "```\n",
       "\n",
       "**Constraints:**\n",
       "\n",
       "*  Sales, working hours, and overtime hours must be non-negative:\n",
       "    *  `S >= 0`\n",
       "    *  `FH >= 0`\n",
       "    *  `PH >= 0`\n",
       "    *  `FO >= 0`\n",
       "    *  `PO >= 0`\n",
       "\n",
       "**Explanation:**\n",
       "\n",
       "* **Objective Function:**  We aim to minimize the weighted sum of deviations from the various targets. \n",
       "    * Absolute values (`|...|`) are used to penalize both positive and negative deviations.\n",
       "    * The priority factors (P1-P4) weight the deviations according to their importance.\n",
       "    * Full-time employee hours deviation is multiplied by 2 to reflect its higher priority.\n",
       "    * Part-time overtime is multiplied by 3 * P4, making its cost three times that of full-time overtime. \n",
       "\n",
       "* **Constraints:** Ensure that all decision variables remain non-negative, as negative values for sales, working hours, and overtime are not realistic.\n",
       "\n",
       "This model provides a framework for optimally managing sales targets, employee hours, and overtime. You can plug in the specific priority values (P1-P4) based on your business priorities. By solving this optimization model, you can obtain the optimal values for sales, employee working hours, and overtime that minimize the overall impact of deviations from your targets. \n"
      ],
      "text/plain": [
       "<IPython.core.display.Markdown object>"
      ]
     },
     "execution_count": 611,
     "metadata": {},
     "output_type": "execute_result"
    }
   ],
   "source": [
    "#Show the resopnse in a formatted way\n",
    "Markdown(response.text)"
   ]
  },
  {
   "cell_type": "markdown",
   "id": "49104a9a",
   "metadata": {},
   "source": [
    "## 3. Generate the pyomo code"
   ]
  },
  {
   "cell_type": "code",
   "execution_count": 612,
   "id": "aabea932",
   "metadata": {},
   "outputs": [],
   "source": [
    "#Second prompt gets the output of the previous step and generates the code\n",
    "prompt2 = \"Please write pyomo code for this mathematical problem. Use sample data where needed. Indicate where you use sample data. \\n\"\n",
    "prompt2 += response.text \n",
    "response2 = generative_multimodal_model.generate_content([prompt2])"
   ]
  },
  {
   "cell_type": "code",
   "execution_count": 613,
   "id": "fd2835af",
   "metadata": {
    "scrolled": false
   },
   "outputs": [
    {
     "data": {
      "text/markdown": [
       "```python\n",
       "import pyomo.environ as pyo\n",
       "\n",
       "# Sample Data (You can replace these with your actual data)\n",
       "sales_target = 5500\n",
       "full_time_hours_target = 800\n",
       "part_time_hours_target = 320\n",
       "full_time_overtime_target = 100\n",
       "P1 = 1  # Priority for sales deviation\n",
       "P2 = 2  # Priority for full-time employee hours deviation\n",
       "P3 = 1  # Priority for part-time employee hours deviation\n",
       "P4 = 0.5  # Priority for full-time overtime deviation\n",
       "\n",
       "# Create a model\n",
       "model = pyo.ConcreteModel()\n",
       "\n",
       "# Sets\n",
       "model.E = pyo.Set(initialize=[\"Full-Time\", \"Part-Time\"])\n",
       "\n",
       "# Decision Variables\n",
       "model.S = pyo.Var(within=pyo.NonNegativeReals)\n",
       "model.FH = pyo.Var(within=pyo.NonNegativeReals)\n",
       "model.PH = pyo.Var(within=pyo.NonNegativeReals)\n",
       "model.FO = pyo.Var(within=pyo.NonNegativeReals)\n",
       "model.PO = pyo.Var(within=pyo.NonNegativeReals)\n",
       "\n",
       "# Objective Function\n",
       "def objective_rule(model):\n",
       "    return (\n",
       "        P1 * abs(model.S - sales_target)\n",
       "        + 2 * P2 * abs(model.FH - full_time_hours_target)\n",
       "        + P3 * abs(model.PH - part_time_hours_target)\n",
       "        + P4 * abs(model.FO - full_time_overtime_target)\n",
       "        + 3 * P4 * model.PO\n",
       "    )\n",
       "\n",
       "model.objective = pyo.Objective(rule=objective_rule, sense=pyo.minimize)\n",
       "\n",
       "# Constraints\n",
       "model.constraints = pyo.ConstraintList()\n",
       "model.constraints.add(model.S >= 0)\n",
       "model.constraints.add(model.FH >= 0)\n",
       "model.constraints.add(model.PH >= 0)\n",
       "model.constraints.add(model.FO >= 0)\n",
       "model.constraints.add(model.PO >= 0)\n",
       "\n",
       "# Solve the model\n",
       "solver = pyo.SolverFactory('cbc')  # Choose a suitable solver\n",
       "solver.solve(model)\n",
       "\n",
       "# Display the results\n",
       "print(\"Optimal Solution:\")\n",
       "print(f\"Actual Sales (S): {pyo.value(model.S)} units\")\n",
       "print(f\"Full-Time Hours (FH): {pyo.value(model.FH)} hours\")\n",
       "print(f\"Part-Time Hours (PH): {pyo.value(model.PH)} hours\")\n",
       "print(f\"Full-Time Overtime (FO): {pyo.value(model.FO)} hours\")\n",
       "print(f\"Part-Time Overtime (PO): {pyo.value(model.PO)} hours\")\n",
       "```\n"
      ],
      "text/plain": [
       "<IPython.core.display.Markdown object>"
      ]
     },
     "execution_count": 613,
     "metadata": {},
     "output_type": "execute_result"
    }
   ],
   "source": [
    "#Showing the code in a formatted way\n",
    "Markdown(response2.text)"
   ]
  },
  {
   "cell_type": "markdown",
   "id": "b60756ae",
   "metadata": {},
   "source": [
    "## 4. Input problem data and try running the generated code"
   ]
  },
  {
   "cell_type": "code",
   "execution_count": 1,
   "id": "dd882446",
   "metadata": {},
   "outputs": [
    {
     "name": "stdout",
     "output_type": "stream",
     "text": [
      "WARNING: Loading a SolverResults object with a warning status into\n",
      "model.name=\"unknown\";\n",
      "    - termination condition: maxIterations\n",
      "    - message from solver: Ipopt 3.11.1\\x3a Maximum Number of Iterations\n",
      "      Exceeded.\n",
      "Optimal Solution:\n",
      "Actual Sales (S): 5598.608550105494 units\n",
      "Full-Time Hours (FH): 797.9651364903802 hours\n",
      "Part-Time Hours (PH): 325.44715980091775 hours\n",
      "Full-Time Overtime (FO): 99.99212679529937 hours\n",
      "Part-Time Overtime (PO): 0.016666653655680628 hours\n"
     ]
    }
   ],
   "source": [
    "import pyomo.environ as pyo\n",
    "\n",
    "# Sample Data (You can replace these with your actual data)\n",
    "sales_target = 5500\n",
    "full_time_hours_target = 800\n",
    "part_time_hours_target = 320\n",
    "full_time_overtime_target = 100\n",
    "P1 = 1  # Priority for sales deviation\n",
    "P2 = 2  # Priority for full-time employee hours deviation\n",
    "P3 = 3  # Priority for part-time employee hours deviation\n",
    "P4 = 4 # Priority for full-time overtime deviation\n",
    "\n",
    "# Create a model\n",
    "model = pyo.ConcreteModel()\n",
    "\n",
    "# Sets\n",
    "model.E = pyo.Set(initialize=[\"Full-Time\", \"Part-Time\"])\n",
    "\n",
    "# Decision Variables\n",
    "model.S = pyo.Var(within=pyo.NonNegativeReals)\n",
    "model.FH = pyo.Var(within=pyo.NonNegativeReals)\n",
    "model.PH = pyo.Var(within=pyo.NonNegativeReals)\n",
    "model.FO = pyo.Var(within=pyo.NonNegativeReals)\n",
    "model.PO = pyo.Var(within=pyo.NonNegativeReals)\n",
    "\n",
    "# Objective Function\n",
    "def objective_rule(model):\n",
    "    return (\n",
    "        P1 * abs(model.S - sales_target)\n",
    "        + 2 * P2 * abs(model.FH - full_time_hours_target)\n",
    "        + P3 * abs(model.PH - part_time_hours_target)\n",
    "        + P4 * abs(model.FO - full_time_overtime_target)\n",
    "        + 3 * P4 * model.PO\n",
    "    )\n",
    "\n",
    "model.objective = pyo.Objective(rule=objective_rule, sense=pyo.minimize)\n",
    "\n",
    "# Constraints\n",
    "model.constraints = pyo.ConstraintList()\n",
    "model.constraints.add(model.S >= 0)\n",
    "model.constraints.add(model.FH >= 0)\n",
    "model.constraints.add(model.PH >= 0)\n",
    "model.constraints.add(model.FO >= 0)\n",
    "model.constraints.add(model.PO >= 0)\n",
    "\n",
    "# Solve the model\n",
    "solver = pyo.SolverFactory('ipopt')  # Choose a suitable solver\n",
    "solver.solve(model)\n",
    "\n",
    "# Display the results\n",
    "print(\"Optimal Solution:\")\n",
    "print(f\"Actual Sales (S): {pyo.value(model.S)} units\")\n",
    "print(f\"Full-Time Hours (FH): {pyo.value(model.FH)} hours\")\n",
    "print(f\"Part-Time Hours (PH): {pyo.value(model.PH)} hours\")\n",
    "print(f\"Full-Time Overtime (FO): {pyo.value(model.FO)} hours\")\n",
    "print(f\"Part-Time Overtime (PO): {pyo.value(model.PO)} hours\")"
   ]
  },
  {
   "cell_type": "markdown",
   "id": "8f10340f",
   "metadata": {},
   "source": [
    "## 5. Correct the code to verify model viability (optional)"
   ]
  },
  {
   "cell_type": "code",
   "execution_count": 2,
   "id": "be42e529",
   "metadata": {},
   "outputs": [
    {
     "data": {
      "text/plain": [
       "123.32097620939697"
      ]
     },
     "execution_count": 2,
     "metadata": {},
     "output_type": "execute_result"
    }
   ],
   "source": [
    "model.objective()"
   ]
  },
  {
   "cell_type": "markdown",
   "id": "03525f23",
   "metadata": {},
   "source": [
    "## 6. Printing the outputs as strings, so they can be saved.\n",
    "Those can be rendered as markdown for better readability"
   ]
  },
  {
   "cell_type": "code",
   "execution_count": 616,
   "id": "9d832f4d",
   "metadata": {},
   "outputs": [
    {
     "name": "stdout",
     "output_type": "stream",
     "text": [
      "## Mathematical Optimization Model for Employee Scheduling and Sales Targets\n",
      "\n",
      "**Sets:**\n",
      "\n",
      "*  E = {Full-Time, Part-Time} : Set of employee types\n",
      "\n",
      "**Parameters:**\n",
      "\n",
      "*  `sales_target` = 5500 units\n",
      "*  `full_time_hours_target` = 800 hours\n",
      "*  `part_time_hours_target` = 320 hours\n",
      "*  `full_time_overtime_target` = 100 hours\n",
      "*  P1: Priority factor for sales deviation \n",
      "*  P2: Priority factor for full-time employee hours deviation\n",
      "*  P3: Priority factor for part-time employee hours deviation\n",
      "*  P4: Priority factor for full-time overtime deviation\n",
      "\n",
      "**Decision Variables:**\n",
      "\n",
      "*  `S`: Actual sales units \n",
      "*  `FH`: Actual full-time employee hours\n",
      "*  `PH`: Actual part-time employee hours\n",
      "*  `FO`: Actual full-time overtime hours\n",
      "*  `PO`: Actual part-time overtime hours\n",
      "\n",
      "**Objective Function:**\n",
      "\n",
      "Minimize the total weighted deviation from targets:\n",
      "\n",
      "```\n",
      "Minimize: \n",
      " P1 * |S - sales_target|  + 2 * P2 * |FH - full_time_hours_target| + P3 * |PH - part_time_hours_target| + P4 * |FO - full_time_overtime_target| + 3 * P4 * PO\n",
      "```\n",
      "\n",
      "**Constraints:**\n",
      "\n",
      "*  Sales, working hours, and overtime hours must be non-negative:\n",
      "    *  `S >= 0`\n",
      "    *  `FH >= 0`\n",
      "    *  `PH >= 0`\n",
      "    *  `FO >= 0`\n",
      "    *  `PO >= 0`\n",
      "\n",
      "**Explanation:**\n",
      "\n",
      "* **Objective Function:**  We aim to minimize the weighted sum of deviations from the various targets. \n",
      "    * Absolute values (`|...|`) are used to penalize both positive and negative deviations.\n",
      "    * The priority factors (P1-P4) weight the deviations according to their importance.\n",
      "    * Full-time employee hours deviation is multiplied by 2 to reflect its higher priority.\n",
      "    * Part-time overtime is multiplied by 3 * P4, making its cost three times that of full-time overtime. \n",
      "\n",
      "* **Constraints:** Ensure that all decision variables remain non-negative, as negative values for sales, working hours, and overtime are not realistic.\n",
      "\n",
      "This model provides a framework for optimally managing sales targets, employee hours, and overtime. You can plug in the specific priority values (P1-P4) based on your business priorities. By solving this optimization model, you can obtain the optimal values for sales, employee working hours, and overtime that minimize the overall impact of deviations from your targets. \n",
      "\n"
     ]
    }
   ],
   "source": [
    "print(response.text)"
   ]
  },
  {
   "cell_type": "code",
   "execution_count": 617,
   "id": "57e86877",
   "metadata": {
    "scrolled": false
   },
   "outputs": [
    {
     "name": "stdout",
     "output_type": "stream",
     "text": [
      "```python\n",
      "import pyomo.environ as pyo\n",
      "\n",
      "# Sample Data (You can replace these with your actual data)\n",
      "sales_target = 5500\n",
      "full_time_hours_target = 800\n",
      "part_time_hours_target = 320\n",
      "full_time_overtime_target = 100\n",
      "P1 = 1  # Priority for sales deviation\n",
      "P2 = 2  # Priority for full-time employee hours deviation\n",
      "P3 = 1  # Priority for part-time employee hours deviation\n",
      "P4 = 0.5  # Priority for full-time overtime deviation\n",
      "\n",
      "# Create a model\n",
      "model = pyo.ConcreteModel()\n",
      "\n",
      "# Sets\n",
      "model.E = pyo.Set(initialize=[\"Full-Time\", \"Part-Time\"])\n",
      "\n",
      "# Decision Variables\n",
      "model.S = pyo.Var(within=pyo.NonNegativeReals)\n",
      "model.FH = pyo.Var(within=pyo.NonNegativeReals)\n",
      "model.PH = pyo.Var(within=pyo.NonNegativeReals)\n",
      "model.FO = pyo.Var(within=pyo.NonNegativeReals)\n",
      "model.PO = pyo.Var(within=pyo.NonNegativeReals)\n",
      "\n",
      "# Objective Function\n",
      "def objective_rule(model):\n",
      "    return (\n",
      "        P1 * abs(model.S - sales_target)\n",
      "        + 2 * P2 * abs(model.FH - full_time_hours_target)\n",
      "        + P3 * abs(model.PH - part_time_hours_target)\n",
      "        + P4 * abs(model.FO - full_time_overtime_target)\n",
      "        + 3 * P4 * model.PO\n",
      "    )\n",
      "\n",
      "model.objective = pyo.Objective(rule=objective_rule, sense=pyo.minimize)\n",
      "\n",
      "# Constraints\n",
      "model.constraints = pyo.ConstraintList()\n",
      "model.constraints.add(model.S >= 0)\n",
      "model.constraints.add(model.FH >= 0)\n",
      "model.constraints.add(model.PH >= 0)\n",
      "model.constraints.add(model.FO >= 0)\n",
      "model.constraints.add(model.PO >= 0)\n",
      "\n",
      "# Solve the model\n",
      "solver = pyo.SolverFactory('cbc')  # Choose a suitable solver\n",
      "solver.solve(model)\n",
      "\n",
      "# Display the results\n",
      "print(\"Optimal Solution:\")\n",
      "print(f\"Actual Sales (S): {pyo.value(model.S)} units\")\n",
      "print(f\"Full-Time Hours (FH): {pyo.value(model.FH)} hours\")\n",
      "print(f\"Part-Time Hours (PH): {pyo.value(model.PH)} hours\")\n",
      "print(f\"Full-Time Overtime (FO): {pyo.value(model.FO)} hours\")\n",
      "print(f\"Part-Time Overtime (PO): {pyo.value(model.PO)} hours\")\n",
      "```\n",
      "\n"
     ]
    }
   ],
   "source": [
    "print(response2.text)"
   ]
  }
 ],
 "metadata": {
  "kernelspec": {
   "display_name": "Python 3 (ipykernel)",
   "language": "python",
   "name": "python3"
  },
  "language_info": {
   "codemirror_mode": {
    "name": "ipython",
    "version": 3
   },
   "file_extension": ".py",
   "mimetype": "text/x-python",
   "name": "python",
   "nbconvert_exporter": "python",
   "pygments_lexer": "ipython3",
   "version": "3.11.4"
  }
 },
 "nbformat": 4,
 "nbformat_minor": 5
}
