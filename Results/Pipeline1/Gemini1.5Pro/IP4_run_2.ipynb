{
  "cells": [
    {
      "cell_type": "markdown",
      "id": "f0005e9e",
      "metadata": {
        "id": "f0005e9e"
      },
      "source": [
        "# LLM Optimization Modelling Experiment"
      ]
    },
    {
      "cell_type": "code",
      "execution_count": null,
      "id": "7f664028",
      "metadata": {
        "id": "7f664028"
      },
      "outputs": [],
      "source": [
        "import vertexai\n",
        "from vertexai.preview.generative_models import GenerativeModel, Image\n",
        "from IPython.display import Markdown"
      ]
    },
    {
      "cell_type": "markdown",
      "id": "f527d6af",
      "metadata": {
        "id": "f527d6af"
      },
      "source": [
        "## 1. Define the problem description"
      ]
    },
    {
      "cell_type": "code",
      "execution_count": null,
      "id": "25055ffd",
      "metadata": {
        "id": "25055ffd"
      },
      "outputs": [],
      "source": [
        "problem = '''Imagine you own a small shop, and you're trying to manage your employees' working hours and sales targets efficiently.\n",
        "You have three kinds of goals overall: sales goals, employee hours goals and overtime goals.\n",
        "\n",
        "Sales Goals:\n",
        "You have a target of selling 5500 units.\n",
        "But sometimes, you might sell fewer (negative deviation) or more (positive deviation) than this target.\n",
        "On average, your full-time employees will sell 5 records per hour and your part-time employees will sell 2 records per hour.\n",
        "\n",
        "Employee Hours:\n",
        "You have both full-time and part-time employees.\n",
        "Your full-time employees are expected to work a total of 800 hours, while part-time employees are expected to work 320 hours.\n",
        "Similarly, like sales, there could be deviations in these working hours.\n",
        "\n",
        "Overtime:\n",
        "Additionally, your employees might end up working overtime.\n",
        "You have a target of 100 hours of overtime for full-time employees.\n",
        "You are not concerned about limiting the overtime of part-time employees.\n",
        "Again, you might deviate from this goal.\n",
        "\n",
        "Each of these deviations has a different priority for you.\n",
        "P1 to P4 are priority factors for each deviation.\n",
        "Your most important goal is to achieve your sales goal.\n",
        "Second to that is the goal to not exceed 100 overtime hours for full-time employees.\n",
        "Then, you next priority is to fully utilize your full-time and part time employees.\n",
        "Your last goal with the lowest priority, you want to keep general overtime hours for both kinds of employees as low as possible.\n",
        "In addition to the general priorities of you goals, you are twice as concerned about fully utilizing the full-time employee hours.\n",
        "Finally, overtime hours of part-time employees have a relative cost of three times that of full-time employees.\n",
        "\n",
        "Now, the goal here is to minimize the overall impact of these deviations, considering their priorities.\n",
        "This means finding the best balance between sales targets, employee hours, and overtime, while keeping in mind which deviations are more critical for your business.'''"
      ]
    },
    {
      "cell_type": "markdown",
      "id": "472cf9ad",
      "metadata": {
        "id": "472cf9ad"
      },
      "source": [
        "## 2. Generate the mathematical model"
      ]
    },
    {
      "cell_type": "code",
      "execution_count": null,
      "id": "e31ec80c",
      "metadata": {
        "id": "e31ec80c"
      },
      "outputs": [],
      "source": [
        "#Initializing the session. To replicate, make sure the right credentials are saved in a PATH variable\n",
        "PROJECT_ID = \"llm4optproblems\"\n",
        "REGION = \"us-central1\"\n",
        "vertexai.init(project=PROJECT_ID, location=REGION)\n",
        "\n",
        "#Specifying the model\n",
        "generative_multimodal_model = GenerativeModel(\"gemini-1.5-pro-preview-0409\")\n",
        "\n",
        "#The propmt applied to all problems\n",
        "prompt = '''Please formulate a mathematical optimization model for this problem. Include parameters, decision variables, the objective function and the constraints in your answer.\n",
        "'''\n",
        "\n",
        "#Generate the response\n",
        "response = generative_multimodal_model.generate_content([prompt+problem])\n"
      ]
    },
    {
      "cell_type": "code",
      "execution_count": null,
      "id": "f9adc567",
      "metadata": {
        "id": "f9adc567",
        "outputId": "7f3bfe5d-3f5d-48e6-9e65-13edecbe361f"
      },
      "outputs": [
        {
          "data": {
            "text/markdown": [
              "## Mathematical Optimization Model for Employee Management\n",
              "\n",
              "**Parameters:**\n",
              "\n",
              "* **S_target:** Target sales units (5500)\n",
              "* **S_FTH:** Sales per hour for full-time employees (5 units/hour)\n",
              "* **S_PTH:** Sales per hour for part-time employees (2 units/hour)\n",
              "* **H_FT:** Target hours for full-time employees (800 hours)\n",
              "* **H_PT:** Target hours for part-time employees (320 hours)\n",
              "* **OT_FT_target:** Target overtime hours for full-time employees (100 hours)\n",
              "* **P1:** Priority factor for sales deviation\n",
              "* **P2:** Priority factor for full-time overtime deviation\n",
              "* **P3:** Priority factor for full-time hours deviation (doubled)\n",
              "* **P4:** Priority factor for overtime deviation (general)\n",
              "* **C_OT_PT:** Relative cost of part-time overtime (3 times full-time overtime)\n",
              "\n",
              "**Decision Variables:**\n",
              "\n",
              "* **S_dev:** Deviation from the sales target (positive or negative)\n",
              "* **H_FT_dev:** Deviation from full-time employee target hours (positive or negative)\n",
              "* **H_PT_dev:** Deviation from part-time employee target hours (positive or negative)\n",
              "* **OT_FT_dev:** Deviation from full-time overtime target hours (positive or negative)\n",
              "* **OT_FT:** Total full-time overtime hours\n",
              "* **OT_PT:** Total part-time overtime hours \n",
              "\n",
              "**Objective Function:**\n",
              "Minimize the weighted sum of deviations:\n",
              "\n",
              "```\n",
              "Minimize: \n",
              "    P1 * |S_dev| + \n",
              "    P2 * |OT_FT_dev| + \n",
              "    2 * P3 * |H_FT_dev| + \n",
              "    P3 * |H_PT_dev| + \n",
              "    P4 * (OT_FT + C_OT_PT * OT_PT) \n",
              "```\n",
              "\n",
              "**Constraints:**\n",
              "\n",
              "* **Sales Constraint:**\n",
              "    *  S_target + S_dev = S_FTH * (H_FT + H_FT_dev + OT_FT) + S_PTH * (H_PT + H_PT_dev + OT_PT)\n",
              "* **Full-time Overtime Constraint:**\n",
              "    * OT_FT = OT_FT_target + OT_FT_dev\n",
              "* **Non-negativity Constraints:**\n",
              "    * OT_FT >= 0\n",
              "    * OT_PT >= 0\n",
              "\n",
              "**Explanation:**\n",
              "\n",
              "* The objective function minimizes the weighted impact of all deviations, considering their priorities and relative costs.\n",
              "* The sales constraint ensures that the total sales (including deviations) are calculated based on employee hours (including deviations and overtime).\n",
              "* The full-time overtime constraint connects the total full-time overtime hours with the target and deviation.\n",
              "* The non-negativity constraints ensure that overtime hours cannot be negative.\n",
              "\n",
              "This model allows you to find the optimal balance between your sales goals, employee hours, and overtime, considering your specific priorities and the relative cost of part-time overtime. By adjusting the priority factors and relative costs, you can customize the model to reflect the unique needs and preferences of your business. \n"
            ],
            "text/plain": [
              "<IPython.core.display.Markdown object>"
            ]
          },
          "execution_count": 41,
          "metadata": {},
          "output_type": "execute_result"
        }
      ],
      "source": [
        "#Show the resopnse in a formatted way\n",
        "Markdown(response.text)"
      ]
    },
    {
      "cell_type": "markdown",
      "id": "75796979",
      "metadata": {
        "id": "75796979"
      },
      "source": [
        "## 3. Generate the pyomo code"
      ]
    },
    {
      "cell_type": "code",
      "execution_count": null,
      "id": "aabea932",
      "metadata": {
        "id": "aabea932"
      },
      "outputs": [],
      "source": [
        "#Second prompt gets the output of the previous step and generates the code\n",
        "prompt2 = \"Please write pyomo code for this mathematical problem. Use sample data where needed. Indicate where you use sample data. \\n\"\n",
        "prompt2 += response.text\n",
        "response2 = generative_multimodal_model.generate_content([prompt2])"
      ]
    },
    {
      "cell_type": "code",
      "execution_count": null,
      "id": "fd2835af",
      "metadata": {
        "scrolled": false,
        "id": "fd2835af",
        "outputId": "86bb1ae5-3ea9-47a6-a0da-41aa6a893e95"
      },
      "outputs": [
        {
          "data": {
            "text/markdown": [
              "```python\n",
              "import pyomo.environ as pyo\n",
              "\n",
              "# Sample Data (You can replace these with your actual data)\n",
              "S_target = 5500  # Target sales units\n",
              "S_FTH = 5  # Sales per hour for full-time employees\n",
              "S_PTH = 2  # Sales per hour for part-time employees\n",
              "H_FT = 800  # Target hours for full-time employees\n",
              "H_PT = 320  # Target hours for part-time employees\n",
              "OT_FT_target = 100  # Target overtime hours for full-time employees\n",
              "P1 = 1  # Priority factor for sales deviation\n",
              "P2 = 2  # Priority factor for full-time overtime deviation\n",
              "P3 = 1  # Priority factor for full-time/part-time hours deviation\n",
              "P4 = 0.5  # Priority factor for overtime deviation (general)\n",
              "C_OT_PT = 3  # Relative cost of part-time overtime \n",
              "\n",
              "# Create a model\n",
              "model = pyo.ConcreteModel()\n",
              "\n",
              "# Decision Variables\n",
              "model.S_dev = pyo.Var(within=pyo.Reals)  # Deviation from the sales target\n",
              "model.H_FT_dev = pyo.Var(within=pyo.Reals)  # Deviation from full-time employee target hours\n",
              "model.H_PT_dev = pyo.Var(within=pyo.Reals)  # Deviation from part-time employee target hours\n",
              "model.OT_FT_dev = pyo.Var(within=pyo.Reals)  # Deviation from full-time overtime target hours\n",
              "model.OT_FT = pyo.Var(within=pyo.NonNegativeReals)  # Total full-time overtime hours\n",
              "model.OT_PT = pyo.Var(within=pyo.NonNegativeReals)  # Total part-time overtime hours\n",
              "\n",
              "# Objective Function\n",
              "model.obj = pyo.Objective(expr= P1 * abs(model.S_dev) +\n",
              "                              P2 * abs(model.OT_FT_dev) +\n",
              "                              2 * P3 * abs(model.H_FT_dev) +\n",
              "                              P3 * abs(model.H_PT_dev) +\n",
              "                              P4 * (model.OT_FT + C_OT_PT * model.OT_PT),\n",
              "                          sense=pyo.minimize)\n",
              "\n",
              "# Constraints\n",
              "model.sales_constraint = pyo.Constraint(expr=S_target + model.S_dev == S_FTH * (H_FT + model.H_FT_dev + model.OT_FT) + \n",
              "                                              S_PTH * (H_PT + model.H_PT_dev + model.OT_PT))\n",
              "\n",
              "model.overtime_constraint = pyo.Constraint(expr=model.OT_FT == OT_FT_target + model.OT_FT_dev)\n",
              "\n",
              "# Solve the model\n",
              "solver = pyo.SolverFactory('cbc') # You can choose a different solver if you prefer\n",
              "solver.solve(model)\n",
              "\n",
              "# Print the results\n",
              "print(\"Optimal Solution:\")\n",
              "print(\"Sales Deviation (S_dev): \", model.S_dev.value)\n",
              "print(\"Full-Time Hours Deviation (H_FT_dev): \", model.H_FT_dev.value)\n",
              "print(\"Part-Time Hours Deviation (H_PT_dev): \", model.H_PT_dev.value)\n",
              "print(\"Full-Time Overtime Deviation (OT_FT_dev): \", model.OT_FT_dev.value)\n",
              "print(\"Total Full-Time Overtime (OT_FT): \", model.OT_FT.value)\n",
              "print(\"Total Part-Time Overtime (OT_PT): \", model.OT_PT.value)\n",
              "``` \n",
              "\n",
              "This code defines the model, variables, objective function, and constraints as described in your mathematical formulation. It uses sample data for the parameters, which you can replace with your actual data. Finally, it solves the model using the CBC solver (you can use other solvers) and prints the optimal values for the decision variables. \n"
            ],
            "text/plain": [
              "<IPython.core.display.Markdown object>"
            ]
          },
          "execution_count": 43,
          "metadata": {},
          "output_type": "execute_result"
        }
      ],
      "source": [
        "#Showing the code in a formatted way\n",
        "Markdown(response2.text)"
      ]
    },
    {
      "cell_type": "markdown",
      "id": "b60756ae",
      "metadata": {
        "id": "b60756ae"
      },
      "source": [
        "## 4. Input problem data and try running the generated code"
      ]
    },
    {
      "cell_type": "code",
      "source": [
        "%%capture\n",
        "import sys\n",
        "import os\n",
        "if 'google.colab' in sys.modules:\n",
        "  !pip install idaes-pse --pre\n",
        "  !idaes get-extensions --to ./bin\n",
        "  os.environ['PATH'] += ':bin'"
      ],
      "metadata": {
        "id": "0ECe7IO-gsBX"
      },
      "id": "0ECe7IO-gsBX",
      "execution_count": 1,
      "outputs": []
    },
    {
      "cell_type": "code",
      "execution_count": 2,
      "id": "db986a10",
      "metadata": {
        "colab": {
          "base_uri": "https://localhost:8080/"
        },
        "id": "db986a10",
        "outputId": "5748b9d4-3b0a-4ffe-9945-51a9e278c513"
      },
      "outputs": [
        {
          "output_type": "stream",
          "name": "stdout",
          "text": [
            "Optimal Solution:\n",
            "Sales Deviation (S_dev):  -360.0\n",
            "Full-Time Hours Deviation (H_FT_dev):  0.0\n",
            "Part-Time Hours Deviation (H_PT_dev):  0.0\n",
            "Full-Time Overtime Deviation (OT_FT_dev):  0.0\n",
            "Total Full-Time Overtime (OT_FT):  100.0\n",
            "Total Part-Time Overtime (OT_PT):  0.0\n"
          ]
        }
      ],
      "source": [
        "import pyomo.environ as pyo\n",
        "\n",
        "# Sample Data (You can replace these with your actual data)\n",
        "S_target = 5500  # Target sales units\n",
        "S_FTH = 5  # Sales per hour for full-time employees\n",
        "S_PTH = 2  # Sales per hour for part-time employees\n",
        "H_FT = 800  # Target hours for full-time employees\n",
        "H_PT = 320  # Target hours for part-time employees\n",
        "OT_FT_target = 100  # Target overtime hours for full-time employees\n",
        "P1 = 1  # Priority factor for sales deviation\n",
        "P2 = 2  # Priority factor for full-time overtime deviation\n",
        "P3 = 3  # Priority factor for full-time/part-time hours deviation\n",
        "P4 = 4  # Priority factor for overtime deviation (general)\n",
        "C_OT_PT = 3  # Relative cost of part-time overtime\n",
        "\n",
        "# Create a model\n",
        "model = pyo.ConcreteModel()\n",
        "\n",
        "# Decision Variables\n",
        "model.S_dev = pyo.Var(within=pyo.Reals)  # Deviation from the sales target\n",
        "model.H_FT_dev = pyo.Var(within=pyo.Reals)  # Deviation from full-time employee target hours\n",
        "model.H_PT_dev = pyo.Var(within=pyo.Reals)  # Deviation from part-time employee target hours\n",
        "model.OT_FT_dev = pyo.Var(within=pyo.Reals)  # Deviation from full-time overtime target hours\n",
        "model.OT_FT = pyo.Var(within=pyo.NonNegativeReals)  # Total full-time overtime hours\n",
        "model.OT_PT = pyo.Var(within=pyo.NonNegativeReals)  # Total part-time overtime hours\n",
        "\n",
        "# Objective Function\n",
        "model.obj = pyo.Objective(expr= P1 * abs(model.S_dev) +\n",
        "                              P2 * abs(model.OT_FT_dev) +\n",
        "                              2 * P3 * abs(model.H_FT_dev) +\n",
        "                              P3 * abs(model.H_PT_dev) +\n",
        "                              P4 * (model.OT_FT + C_OT_PT * model.OT_PT),\n",
        "                          sense=pyo.minimize)\n",
        "\n",
        "# Constraints\n",
        "model.sales_constraint = pyo.Constraint(expr=S_target + model.S_dev == S_FTH * (H_FT + model.H_FT_dev + model.OT_FT) +\n",
        "                                              S_PTH * (H_PT + model.H_PT_dev + model.OT_PT))\n",
        "\n",
        "model.overtime_constraint = pyo.Constraint(expr=model.OT_FT == OT_FT_target + model.OT_FT_dev)\n",
        "\n",
        "# Solve the model\n",
        "solver = pyo.SolverFactory('couenne') # You can choose a different solver if you prefer\n",
        "solver.solve(model)\n",
        "\n",
        "# Print the results\n",
        "print(\"Optimal Solution:\")\n",
        "print(\"Sales Deviation (S_dev): \", model.S_dev.value)\n",
        "print(\"Full-Time Hours Deviation (H_FT_dev): \", model.H_FT_dev.value)\n",
        "print(\"Part-Time Hours Deviation (H_PT_dev): \", model.H_PT_dev.value)\n",
        "print(\"Full-Time Overtime Deviation (OT_FT_dev): \", model.OT_FT_dev.value)\n",
        "print(\"Total Full-Time Overtime (OT_FT): \", model.OT_FT.value)\n",
        "print(\"Total Part-Time Overtime (OT_PT): \", model.OT_PT.value)"
      ]
    },
    {
      "cell_type": "markdown",
      "id": "1be0926e",
      "metadata": {
        "id": "1be0926e"
      },
      "source": [
        "## 5. Correct the code to verify model viability (optional)"
      ]
    },
    {
      "cell_type": "code",
      "execution_count": null,
      "id": "8b37acfc",
      "metadata": {
        "scrolled": false,
        "id": "8b37acfc"
      },
      "outputs": [],
      "source": []
    },
    {
      "cell_type": "markdown",
      "id": "2a91b6bd",
      "metadata": {
        "id": "2a91b6bd"
      },
      "source": [
        "## 6. Printing the outputs as strings, so they can be saved.\n",
        "Those can be rendered as markdown for better readability"
      ]
    },
    {
      "cell_type": "code",
      "execution_count": null,
      "id": "e904cf68",
      "metadata": {
        "id": "e904cf68",
        "outputId": "5d241e5a-3223-43e6-9f4a-0b6e7519263d"
      },
      "outputs": [
        {
          "name": "stdout",
          "output_type": "stream",
          "text": [
            "## Mathematical Optimization Model for Employee Management\n",
            "\n",
            "**Parameters:**\n",
            "\n",
            "* **S_target:** Target sales units (5500)\n",
            "* **S_FTH:** Sales per hour for full-time employees (5 units/hour)\n",
            "* **S_PTH:** Sales per hour for part-time employees (2 units/hour)\n",
            "* **H_FT:** Target hours for full-time employees (800 hours)\n",
            "* **H_PT:** Target hours for part-time employees (320 hours)\n",
            "* **OT_FT_target:** Target overtime hours for full-time employees (100 hours)\n",
            "* **P1:** Priority factor for sales deviation\n",
            "* **P2:** Priority factor for full-time overtime deviation\n",
            "* **P3:** Priority factor for full-time hours deviation (doubled)\n",
            "* **P4:** Priority factor for overtime deviation (general)\n",
            "* **C_OT_PT:** Relative cost of part-time overtime (3 times full-time overtime)\n",
            "\n",
            "**Decision Variables:**\n",
            "\n",
            "* **S_dev:** Deviation from the sales target (positive or negative)\n",
            "* **H_FT_dev:** Deviation from full-time employee target hours (positive or negative)\n",
            "* **H_PT_dev:** Deviation from part-time employee target hours (positive or negative)\n",
            "* **OT_FT_dev:** Deviation from full-time overtime target hours (positive or negative)\n",
            "* **OT_FT:** Total full-time overtime hours\n",
            "* **OT_PT:** Total part-time overtime hours \n",
            "\n",
            "**Objective Function:**\n",
            "Minimize the weighted sum of deviations:\n",
            "\n",
            "```\n",
            "Minimize: \n",
            "    P1 * |S_dev| + \n",
            "    P2 * |OT_FT_dev| + \n",
            "    2 * P3 * |H_FT_dev| + \n",
            "    P3 * |H_PT_dev| + \n",
            "    P4 * (OT_FT + C_OT_PT * OT_PT) \n",
            "```\n",
            "\n",
            "**Constraints:**\n",
            "\n",
            "* **Sales Constraint:**\n",
            "    *  S_target + S_dev = S_FTH * (H_FT + H_FT_dev + OT_FT) + S_PTH * (H_PT + H_PT_dev + OT_PT)\n",
            "* **Full-time Overtime Constraint:**\n",
            "    * OT_FT = OT_FT_target + OT_FT_dev\n",
            "* **Non-negativity Constraints:**\n",
            "    * OT_FT >= 0\n",
            "    * OT_PT >= 0\n",
            "\n",
            "**Explanation:**\n",
            "\n",
            "* The objective function minimizes the weighted impact of all deviations, considering their priorities and relative costs.\n",
            "* The sales constraint ensures that the total sales (including deviations) are calculated based on employee hours (including deviations and overtime).\n",
            "* The full-time overtime constraint connects the total full-time overtime hours with the target and deviation.\n",
            "* The non-negativity constraints ensure that overtime hours cannot be negative.\n",
            "\n",
            "This model allows you to find the optimal balance between your sales goals, employee hours, and overtime, considering your specific priorities and the relative cost of part-time overtime. By adjusting the priority factors and relative costs, you can customize the model to reflect the unique needs and preferences of your business. \n",
            "\n"
          ]
        }
      ],
      "source": [
        "print(response.text)"
      ]
    },
    {
      "cell_type": "code",
      "execution_count": null,
      "id": "859eaf28",
      "metadata": {
        "scrolled": false,
        "id": "859eaf28",
        "outputId": "6dec37d2-0ff7-492b-afdb-fb68a25d09ce"
      },
      "outputs": [
        {
          "name": "stdout",
          "output_type": "stream",
          "text": [
            "```python\n",
            "import pyomo.environ as pyo\n",
            "\n",
            "# Sample Data (You can replace these with your actual data)\n",
            "S_target = 5500  # Target sales units\n",
            "S_FTH = 5  # Sales per hour for full-time employees\n",
            "S_PTH = 2  # Sales per hour for part-time employees\n",
            "H_FT = 800  # Target hours for full-time employees\n",
            "H_PT = 320  # Target hours for part-time employees\n",
            "OT_FT_target = 100  # Target overtime hours for full-time employees\n",
            "P1 = 1  # Priority factor for sales deviation\n",
            "P2 = 2  # Priority factor for full-time overtime deviation\n",
            "P3 = 1  # Priority factor for full-time/part-time hours deviation\n",
            "P4 = 0.5  # Priority factor for overtime deviation (general)\n",
            "C_OT_PT = 3  # Relative cost of part-time overtime \n",
            "\n",
            "# Create a model\n",
            "model = pyo.ConcreteModel()\n",
            "\n",
            "# Decision Variables\n",
            "model.S_dev = pyo.Var(within=pyo.Reals)  # Deviation from the sales target\n",
            "model.H_FT_dev = pyo.Var(within=pyo.Reals)  # Deviation from full-time employee target hours\n",
            "model.H_PT_dev = pyo.Var(within=pyo.Reals)  # Deviation from part-time employee target hours\n",
            "model.OT_FT_dev = pyo.Var(within=pyo.Reals)  # Deviation from full-time overtime target hours\n",
            "model.OT_FT = pyo.Var(within=pyo.NonNegativeReals)  # Total full-time overtime hours\n",
            "model.OT_PT = pyo.Var(within=pyo.NonNegativeReals)  # Total part-time overtime hours\n",
            "\n",
            "# Objective Function\n",
            "model.obj = pyo.Objective(expr= P1 * abs(model.S_dev) +\n",
            "                              P2 * abs(model.OT_FT_dev) +\n",
            "                              2 * P3 * abs(model.H_FT_dev) +\n",
            "                              P3 * abs(model.H_PT_dev) +\n",
            "                              P4 * (model.OT_FT + C_OT_PT * model.OT_PT),\n",
            "                          sense=pyo.minimize)\n",
            "\n",
            "# Constraints\n",
            "model.sales_constraint = pyo.Constraint(expr=S_target + model.S_dev == S_FTH * (H_FT + model.H_FT_dev + model.OT_FT) + \n",
            "                                              S_PTH * (H_PT + model.H_PT_dev + model.OT_PT))\n",
            "\n",
            "model.overtime_constraint = pyo.Constraint(expr=model.OT_FT == OT_FT_target + model.OT_FT_dev)\n",
            "\n",
            "# Solve the model\n",
            "solver = pyo.SolverFactory('cbc') # You can choose a different solver if you prefer\n",
            "solver.solve(model)\n",
            "\n",
            "# Print the results\n",
            "print(\"Optimal Solution:\")\n",
            "print(\"Sales Deviation (S_dev): \", model.S_dev.value)\n",
            "print(\"Full-Time Hours Deviation (H_FT_dev): \", model.H_FT_dev.value)\n",
            "print(\"Part-Time Hours Deviation (H_PT_dev): \", model.H_PT_dev.value)\n",
            "print(\"Full-Time Overtime Deviation (OT_FT_dev): \", model.OT_FT_dev.value)\n",
            "print(\"Total Full-Time Overtime (OT_FT): \", model.OT_FT.value)\n",
            "print(\"Total Part-Time Overtime (OT_PT): \", model.OT_PT.value)\n",
            "``` \n",
            "\n",
            "This code defines the model, variables, objective function, and constraints as described in your mathematical formulation. It uses sample data for the parameters, which you can replace with your actual data. Finally, it solves the model using the CBC solver (you can use other solvers) and prints the optimal values for the decision variables. \n",
            "\n"
          ]
        }
      ],
      "source": [
        "print(response2.text)"
      ]
    }
  ],
  "metadata": {
    "kernelspec": {
      "display_name": "Python 3 (ipykernel)",
      "language": "python",
      "name": "python3"
    },
    "language_info": {
      "codemirror_mode": {
        "name": "ipython",
        "version": 3
      },
      "file_extension": ".py",
      "mimetype": "text/x-python",
      "name": "python",
      "nbconvert_exporter": "python",
      "pygments_lexer": "ipython3",
      "version": "3.11.4"
    },
    "colab": {
      "provenance": []
    }
  },
  "nbformat": 4,
  "nbformat_minor": 5
}