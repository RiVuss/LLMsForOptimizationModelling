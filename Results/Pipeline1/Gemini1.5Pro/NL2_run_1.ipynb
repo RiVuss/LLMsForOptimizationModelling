{
 "cells": [
  {
   "cell_type": "markdown",
   "id": "f0005e9e",
   "metadata": {},
   "source": [
    "# LLM Optimization Modelling Experiment"
   ]
  },
  {
   "cell_type": "code",
   "execution_count": 3,
   "id": "7f664028",
   "metadata": {},
   "outputs": [],
   "source": [
    "import vertexai\n",
    "from vertexai.preview.generative_models import GenerativeModel, Image\n",
    "from IPython.display import Markdown"
   ]
  },
  {
   "cell_type": "markdown",
   "id": "f527d6af",
   "metadata": {},
   "source": [
    "## 1. Define the problem description"
   ]
  },
  {
   "cell_type": "code",
   "execution_count": 55,
   "id": "25055ffd",
   "metadata": {},
   "outputs": [],
   "source": [
    "problem = '''You are a chemist in charge of a process that requires two liquids to reach the end product. Your goal is to maximize the quality of the product in the end, which is measured by the difference between the Napierian logarithm of the product of the litres used of each component and the cube root of the summation of the first component litres as well as double the second component litres. It is required that the squared difference between the litres employed of each component and the mean litres utilised of both components is below ten. This is necessary for the obtained set to be stable. Furthermore, the mixture tank available to you can only fit 80 l. Please formulate a mathematical optimization model for this problem. '''"
   ]
  },
  {
   "cell_type": "markdown",
   "id": "472cf9ad",
   "metadata": {},
   "source": [
    "## 2. Generate the mathematical model"
   ]
  },
  {
   "cell_type": "code",
   "execution_count": 56,
   "id": "e31ec80c",
   "metadata": {},
   "outputs": [],
   "source": [
    "#Initializing the session. To replicate, make sure the right credentials are saved in a PATH variable\n",
    "PROJECT_ID = \"llm4optproblems\"\n",
    "REGION = \"us-central1\"\n",
    "vertexai.init(project=PROJECT_ID, location=REGION)\n",
    "\n",
    "#Specifying the model\n",
    "generative_multimodal_model = GenerativeModel(\"gemini-1.5-pro-preview-0409\")\n",
    "\n",
    "#The propmt applied to all problems\n",
    "prompt = '''Please formulate a mathematical optimization model for this problem. Include parameters, decision variables, the objective function and the constraints in your answer.\n",
    "'''\n",
    "\n",
    "#Generate the response\n",
    "response = generative_multimodal_model.generate_content([prompt+problem])\n"
   ]
  },
  {
   "cell_type": "code",
   "execution_count": 57,
   "id": "f9adc567",
   "metadata": {},
   "outputs": [
    {
     "data": {
      "text/markdown": [
       "## Mathematical Optimization Model \n",
       "\n",
       "**Parameters:**\n",
       "\n",
       "*  None specified in the problem statement. \n",
       "\n",
       "**Decision Variables:**\n",
       "\n",
       "*  $x_1$: Litres of the first component used.\n",
       "*  $x_2$: Litres of the second component used.\n",
       "\n",
       "**Objective Function:**\n",
       "\n",
       "* Maximize $Q = \\ln(x_1 \\cdot x_2) - \\sqrt[3]{x_1 + 2x_2}$ \n",
       "    * This represents the quality of the end product as described in the problem.\n",
       "\n",
       "**Constraints:**\n",
       "\n",
       "1. **Tank Capacity:** $x_1 + x_2 \\le 80$ \n",
       "    * The total volume of the two components cannot exceed the tank's capacity. \n",
       "\n",
       "2. **Stability Condition:** $(x_1 - \\frac{x_1 + x_2}{2})^2 \\le 10$ and $(x_2 - \\frac{x_1 + x_2}{2})^2 \\le 10$\n",
       "    * The squared difference between the litres of each component and the mean litres used must be below 10 for stability.\n",
       "\n",
       "3. **Non-negativity:** $x_1 \\ge 0$, $x_2 \\ge 0$\n",
       "    *  The volume of each component cannot be negative.\n",
       "\n",
       "**Complete Model:**\n",
       "\n",
       "Maximize  $Q = \\ln(x_1 \\cdot x_2) - \\sqrt[3]{x_1 + 2x_2}$\n",
       "\n",
       "Subject to:\n",
       "\n",
       "*  $x_1 + x_2 \\le 80$\n",
       "*  $(x_1 - \\frac{x_1 + x_2}{2})^2 \\le 10$ \n",
       "*  $(x_2 - \\frac{x_1 + x_2}{2})^2 \\le 10$\n",
       "*  $x_1 \\ge 0$\n",
       "*  $x_2 \\ge 0$ \n"
      ],
      "text/plain": [
       "<IPython.core.display.Markdown object>"
      ]
     },
     "execution_count": 57,
     "metadata": {},
     "output_type": "execute_result"
    }
   ],
   "source": [
    "#Show the resopnse in a formatted way\n",
    "Markdown(response.text)"
   ]
  },
  {
   "cell_type": "markdown",
   "id": "75796979",
   "metadata": {},
   "source": [
    "## 3. Generate the pyomo code"
   ]
  },
  {
   "cell_type": "code",
   "execution_count": 58,
   "id": "aabea932",
   "metadata": {},
   "outputs": [],
   "source": [
    "#Second prompt gets the output of the previous step and generates the code\n",
    "prompt2 = \"Please write pyomo code for this mathematical problem. Use sample data where needed. Indicate where you use sample data. \\n\"\n",
    "prompt2 += response.text \n",
    "response2 = generative_multimodal_model.generate_content([prompt2])"
   ]
  },
  {
   "cell_type": "code",
   "execution_count": 59,
   "id": "fd2835af",
   "metadata": {
    "scrolled": false
   },
   "outputs": [
    {
     "data": {
      "text/markdown": [
       "```python\n",
       "from pyomo.environ import *\n",
       "\n",
       "# Create a model\n",
       "model = ConcreteModel()\n",
       "\n",
       "# Define decision variables\n",
       "model.x1 = Var(domain=NonNegativeReals)\n",
       "model.x2 = Var(domain=NonNegativeReals)\n",
       "\n",
       "# Define the objective function\n",
       "model.Q = Objective(expr=log(model.x1 * model.x2) - (model.x1 + 2*model.x2)**(1/3), sense=maximize)\n",
       "\n",
       "# Define the constraints\n",
       "model.tank_capacity = Constraint(expr=model.x1 + model.x2 <= 80)\n",
       "model.stability1 = Constraint(expr=(model.x1 - (model.x1 + model.x2)/2)**2 <= 10)\n",
       "model.stability2 = Constraint(expr=(model.x2 - (model.x1 + model.x2)/2)**2 <= 10)\n",
       "\n",
       "# Solve the model\n",
       "solver = SolverFactory('ipopt')  # You can choose a different solver if you prefer\n",
       "results = solver.solve(model)\n",
       "\n",
       "# Print the results\n",
       "print(results)\n",
       "print(\"x1 =\", model.x1.value)\n",
       "print(\"x2 =\", model.x2.value)\n",
       "print(\"Q =\", model.Q.value) \n",
       "```\n",
       "\n",
       "This code defines the optimization problem you provided using Pyomo. It first declares the decision variables, then defines the objective function and constraints. Finally, it uses the IPOPT solver to find the optimal solution. \n",
       "\n",
       "Note that this code does not include any sample data as the problem statement did not specify any parameters. You can easily modify this code to include parameter values if needed. \n"
      ],
      "text/plain": [
       "<IPython.core.display.Markdown object>"
      ]
     },
     "execution_count": 59,
     "metadata": {},
     "output_type": "execute_result"
    }
   ],
   "source": [
    "#Showing the code in a formatted way\n",
    "Markdown(response2.text)"
   ]
  },
  {
   "cell_type": "markdown",
   "id": "b60756ae",
   "metadata": {},
   "source": [
    "## 4. Input problem data and try running the generated code"
   ]
  },
  {
   "cell_type": "code",
   "execution_count": 80,
   "id": "65bcfccc",
   "metadata": {},
   "outputs": [
    {
     "name": "stdout",
     "output_type": "stream",
     "text": [
      "\n",
      "Problem: \n",
      "- Lower bound: -inf\n",
      "  Upper bound: inf\n",
      "  Number of objectives: 1\n",
      "  Number of constraints: 3\n",
      "  Number of variables: 2\n",
      "  Sense: unknown\n",
      "Solver: \n",
      "- Status: ok\n",
      "  Message: Ipopt 3.11.1\\x3a Optimal Solution Found\n",
      "  Termination condition: optimal\n",
      "  Id: 0\n",
      "  Error rc: 0\n",
      "  Time: 0.03982973098754883\n",
      "Solution: \n",
      "- number of solutions: 0\n",
      "  number of solutions displayed: 0\n",
      "\n",
      "x1 = 43.162277233647174\n",
      "x2 = 36.8377229631074\n"
     ]
    },
    {
     "ename": "AttributeError",
     "evalue": "'ScalarObjective' object has no attribute 'value'",
     "output_type": "error",
     "traceback": [
      "\u001b[1;31m---------------------------------------------------------------------------\u001b[0m",
      "\u001b[1;31mAttributeError\u001b[0m                            Traceback (most recent call last)",
      "Cell \u001b[1;32mIn[80], line 26\u001b[0m\n\u001b[0;32m     24\u001b[0m \u001b[38;5;28mprint\u001b[39m(\u001b[38;5;124m\"\u001b[39m\u001b[38;5;124mx1 =\u001b[39m\u001b[38;5;124m\"\u001b[39m, model\u001b[38;5;241m.\u001b[39mx1\u001b[38;5;241m.\u001b[39mvalue)\n\u001b[0;32m     25\u001b[0m \u001b[38;5;28mprint\u001b[39m(\u001b[38;5;124m\"\u001b[39m\u001b[38;5;124mx2 =\u001b[39m\u001b[38;5;124m\"\u001b[39m, model\u001b[38;5;241m.\u001b[39mx2\u001b[38;5;241m.\u001b[39mvalue)\n\u001b[1;32m---> 26\u001b[0m \u001b[38;5;28mprint\u001b[39m(\u001b[38;5;124m\"\u001b[39m\u001b[38;5;124mQ =\u001b[39m\u001b[38;5;124m\"\u001b[39m, model\u001b[38;5;241m.\u001b[39mQ\u001b[38;5;241m.\u001b[39mvalue)\n",
      "\u001b[1;31mAttributeError\u001b[0m: 'ScalarObjective' object has no attribute 'value'"
     ]
    }
   ],
   "source": [
    "from pyomo.environ import *\n",
    "\n",
    "# Create a model\n",
    "model = ConcreteModel()\n",
    "\n",
    "# Define decision variables\n",
    "model.x1 = Var(domain=NonNegativeReals)\n",
    "model.x2 = Var(domain=NonNegativeReals)\n",
    "\n",
    "# Define the objective function\n",
    "model.Q = Objective(expr=log(model.x1 * model.x2) - (model.x1 + 2*model.x2)**(1/3), sense=maximize)\n",
    "\n",
    "# Define the constraints\n",
    "model.tank_capacity = Constraint(expr=model.x1 + model.x2 <= 80)\n",
    "model.stability1 = Constraint(expr=(model.x1 - (model.x1 + model.x2)/2)**2 <= 10)\n",
    "model.stability2 = Constraint(expr=(model.x2 - (model.x1 + model.x2)/2)**2 <= 10)\n",
    "\n",
    "# Solve the model\n",
    "solver = SolverFactory('ipopt')  # You can choose a different solver if you prefer\n",
    "results = solver.solve(model)\n",
    "\n",
    "# Print the results\n",
    "print(results)\n",
    "print(\"x1 =\", model.x1.value)\n",
    "print(\"x2 =\", model.x2.value)\n",
    "print(\"Q =\", model.Q.value) "
   ]
  },
  {
   "cell_type": "markdown",
   "id": "1be0926e",
   "metadata": {},
   "source": [
    "## 5. Correct the code to verify model viability (optional)"
   ]
  },
  {
   "cell_type": "code",
   "execution_count": null,
   "id": "8b37acfc",
   "metadata": {},
   "outputs": [],
   "source": []
  },
  {
   "cell_type": "markdown",
   "id": "e4a950af",
   "metadata": {},
   "source": [
    "## 6. Printing the outputs as strings, so they can be saved.\n",
    "Those can be rendered as markdown for better readability"
   ]
  },
  {
   "cell_type": "code",
   "execution_count": 81,
   "id": "e904cf68",
   "metadata": {},
   "outputs": [
    {
     "name": "stdout",
     "output_type": "stream",
     "text": [
      "## Mathematical Optimization Model \n",
      "\n",
      "**Parameters:**\n",
      "\n",
      "*  None specified in the problem statement. \n",
      "\n",
      "**Decision Variables:**\n",
      "\n",
      "*  $x_1$: Litres of the first component used.\n",
      "*  $x_2$: Litres of the second component used.\n",
      "\n",
      "**Objective Function:**\n",
      "\n",
      "* Maximize $Q = \\ln(x_1 \\cdot x_2) - \\sqrt[3]{x_1 + 2x_2}$ \n",
      "    * This represents the quality of the end product as described in the problem.\n",
      "\n",
      "**Constraints:**\n",
      "\n",
      "1. **Tank Capacity:** $x_1 + x_2 \\le 80$ \n",
      "    * The total volume of the two components cannot exceed the tank's capacity. \n",
      "\n",
      "2. **Stability Condition:** $(x_1 - \\frac{x_1 + x_2}{2})^2 \\le 10$ and $(x_2 - \\frac{x_1 + x_2}{2})^2 \\le 10$\n",
      "    * The squared difference between the litres of each component and the mean litres used must be below 10 for stability.\n",
      "\n",
      "3. **Non-negativity:** $x_1 \\ge 0$, $x_2 \\ge 0$\n",
      "    *  The volume of each component cannot be negative.\n",
      "\n",
      "**Complete Model:**\n",
      "\n",
      "Maximize  $Q = \\ln(x_1 \\cdot x_2) - \\sqrt[3]{x_1 + 2x_2}$\n",
      "\n",
      "Subject to:\n",
      "\n",
      "*  $x_1 + x_2 \\le 80$\n",
      "*  $(x_1 - \\frac{x_1 + x_2}{2})^2 \\le 10$ \n",
      "*  $(x_2 - \\frac{x_1 + x_2}{2})^2 \\le 10$\n",
      "*  $x_1 \\ge 0$\n",
      "*  $x_2 \\ge 0$ \n",
      "\n"
     ]
    }
   ],
   "source": [
    "print(response.text)"
   ]
  },
  {
   "cell_type": "code",
   "execution_count": 82,
   "id": "859eaf28",
   "metadata": {},
   "outputs": [
    {
     "name": "stdout",
     "output_type": "stream",
     "text": [
      "```python\n",
      "from pyomo.environ import *\n",
      "\n",
      "# Create a model\n",
      "model = ConcreteModel()\n",
      "\n",
      "# Define decision variables\n",
      "model.x1 = Var(domain=NonNegativeReals)\n",
      "model.x2 = Var(domain=NonNegativeReals)\n",
      "\n",
      "# Define the objective function\n",
      "model.Q = Objective(expr=log(model.x1 * model.x2) - (model.x1 + 2*model.x2)**(1/3), sense=maximize)\n",
      "\n",
      "# Define the constraints\n",
      "model.tank_capacity = Constraint(expr=model.x1 + model.x2 <= 80)\n",
      "model.stability1 = Constraint(expr=(model.x1 - (model.x1 + model.x2)/2)**2 <= 10)\n",
      "model.stability2 = Constraint(expr=(model.x2 - (model.x1 + model.x2)/2)**2 <= 10)\n",
      "\n",
      "# Solve the model\n",
      "solver = SolverFactory('ipopt')  # You can choose a different solver if you prefer\n",
      "results = solver.solve(model)\n",
      "\n",
      "# Print the results\n",
      "print(results)\n",
      "print(\"x1 =\", model.x1.value)\n",
      "print(\"x2 =\", model.x2.value)\n",
      "print(\"Q =\", model.Q.value) \n",
      "```\n",
      "\n",
      "This code defines the optimization problem you provided using Pyomo. It first declares the decision variables, then defines the objective function and constraints. Finally, it uses the IPOPT solver to find the optimal solution. \n",
      "\n",
      "Note that this code does not include any sample data as the problem statement did not specify any parameters. You can easily modify this code to include parameter values if needed. \n",
      "\n"
     ]
    }
   ],
   "source": [
    "print(response2.text)"
   ]
  }
 ],
 "metadata": {
  "kernelspec": {
   "display_name": "Python 3 (ipykernel)",
   "language": "python",
   "name": "python3"
  },
  "language_info": {
   "codemirror_mode": {
    "name": "ipython",
    "version": 3
   },
   "file_extension": ".py",
   "mimetype": "text/x-python",
   "name": "python",
   "nbconvert_exporter": "python",
   "pygments_lexer": "ipython3",
   "version": "3.11.4"
  }
 },
 "nbformat": 4,
 "nbformat_minor": 5
}
