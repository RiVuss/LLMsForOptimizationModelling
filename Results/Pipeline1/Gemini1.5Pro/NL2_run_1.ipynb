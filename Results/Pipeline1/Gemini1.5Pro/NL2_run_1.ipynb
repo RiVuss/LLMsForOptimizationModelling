{
 "cells": [
  {
   "cell_type": "markdown",
   "id": "0df7edfd",
   "metadata": {},
   "source": [
    "# LLM Optimization Modelling Experiment"
   ]
  },
  {
   "cell_type": "code",
   "execution_count": 156,
   "id": "7f664028",
   "metadata": {},
   "outputs": [],
   "source": [
    "import vertexai\n",
    "from vertexai.preview.generative_models import GenerativeModel\n",
    "from IPython.display import Markdown"
   ]
  },
  {
   "cell_type": "markdown",
   "id": "c106f1be",
   "metadata": {},
   "source": [
    "## 1. Define the problem description"
   ]
  },
  {
   "cell_type": "code",
   "execution_count": 352,
   "id": "9adce4b2",
   "metadata": {},
   "outputs": [],
   "source": [
    "problem = '''You are a chemist in charge of a process that requires two liquids to reach the end product. Your goal is to maximize the quality of the product in the end, which is measured by the difference between the Napierian logarithm of the product of the litres used of each component and the cube root of the summation of the first component litres as well as double the second component litres. It is required that the squared difference between the litres employed of each component and the mean litres utilised of both components is below ten. This is necessary for the obtained set to be stable. Furthermore, the mixture tank available to you can only fit 80 l. Please formulate a mathematical optimization model for this problem. '''"
   ]
  },
  {
   "cell_type": "markdown",
   "id": "063be1a3",
   "metadata": {},
   "source": [
    "## 2. Generate the mathematical model"
   ]
  },
  {
   "cell_type": "code",
   "execution_count": 353,
   "id": "e31ec80c",
   "metadata": {},
   "outputs": [],
   "source": [
    "#Initializing the session. To replicate, make sure the right credentials are saved in a PATH variable\n",
    "PROJECT_ID = \"llm4optproblems\"\n",
    "REGION = \"us-central1\"\n",
    "vertexai.init(project=PROJECT_ID, location=REGION)\n",
    "\n",
    "#Specifying the model\n",
    "generative_multimodal_model = GenerativeModel(\"gemini-1.5-pro-preview-0409\")\n",
    "\n",
    "#The propmt applied to all problems\n",
    "prompt = '''Let's think step by step. Please write a mathematical optimization model for this problem. If there are parameter values, make sure to include them in the mathematical formulation.\n",
    "'''\n",
    "\n",
    "#Generate the response\n",
    "response = generative_multimodal_model.generate_content([prompt+problem])\n"
   ]
  },
  {
   "cell_type": "code",
   "execution_count": 354,
   "id": "f9adc567",
   "metadata": {},
   "outputs": [
    {
     "data": {
      "text/markdown": [
       "Let's define the variables:\n",
       "\n",
       "*  $x_1$: Litres used of the first component.\n",
       "*  $x_2$: Litres used of the second component.\n",
       "\n",
       "Our objective is to maximize the quality of the product, which is given by: \n",
       "\n",
       "$\\text{Maximize} \\ln(x_1 \\cdot x_2) - \\sqrt[3]{x_1 + 2x_2}$\n",
       "\n",
       "We have a constraint on the stability of the set, which requires that the squared difference between the liters employed of each component and the mean liters utilized of both components is below ten:\n",
       "\n",
       "$(x_1 - \\frac{x_1 + x_2}{2})^2 \\leq 10$\n",
       "$(x_2 - \\frac{x_1 + x_2}{2})^2 \\leq 10$\n",
       "\n",
       "Finally, the mixture tank can only fit 80 liters:\n",
       "\n",
       "$x_1 + x_2 \\leq 80$\n",
       "\n",
       "Additionally, we need to ensure that the quantities are non-negative:\n",
       "\n",
       "$x_1 \\geq 0$\n",
       "$x_2 \\geq 0$\n",
       "\n",
       "Therefore, the complete mathematical optimization model is:\n",
       "\n",
       "$\\text{Maximize} \\ln(x_1 \\cdot x_2) - \\sqrt[3]{x_1 + 2x_2}$\n",
       "\n",
       "Subject to:\n",
       "\n",
       "$(x_1 - \\frac{x_1 + x_2}{2})^2 \\leq 10$\n",
       "$(x_2 - \\frac{x_1 + x_2}{2})^2 \\leq 10$\n",
       "$x_1 + x_2 \\leq 80$\n",
       "$x_1 \\geq 0$\n",
       "$x_2 \\geq 0$ \n"
      ],
      "text/plain": [
       "<IPython.core.display.Markdown object>"
      ]
     },
     "execution_count": 354,
     "metadata": {},
     "output_type": "execute_result"
    }
   ],
   "source": [
    "#Show the resopnse in a formatted way\n",
    "Markdown(response.text)"
   ]
  },
  {
   "cell_type": "markdown",
   "id": "49104a9a",
   "metadata": {},
   "source": [
    "## 3. Generate the pyomo code"
   ]
  },
  {
   "cell_type": "code",
   "execution_count": 355,
   "id": "aabea932",
   "metadata": {},
   "outputs": [],
   "source": [
    "#Second prompt gets the output of the previous step and generates the code\n",
    "prompt2 = \"Please write pyomo code for this mathematical problem. Use sample data where needed. Indicate where you use sample data. \\n\"\n",
    "prompt2 += response.text \n",
    "response2 = generative_multimodal_model.generate_content([prompt2])"
   ]
  },
  {
   "cell_type": "code",
   "execution_count": 356,
   "id": "fd2835af",
   "metadata": {
    "scrolled": false
   },
   "outputs": [
    {
     "data": {
      "text/markdown": [
       "```python\n",
       "import pyomo.environ as pyo\n",
       "\n",
       "# Define the model\n",
       "model = pyo.ConcreteModel()\n",
       "\n",
       "# Define the variables\n",
       "model.x1 = pyo.Var(domain=pyo.NonNegativeReals)\n",
       "model.x2 = pyo.Var(domain=pyo.NonNegativeReals)\n",
       "\n",
       "# Define the objective function\n",
       "model.objective = pyo.Objective(expr=pyo.log(model.x1 * model.x2) - (model.x1 + 2*model.x2)**(1/3), sense=pyo.maximize)\n",
       "\n",
       "# Define the constraints\n",
       "model.constraint1 = pyo.Constraint(expr=(model.x1 - (model.x1 + model.x2)/2)**2 <= 10)\n",
       "model.constraint2 = pyo.Constraint(expr=(model.x2 - (model.x1 + model.x2)/2)**2 <= 10)\n",
       "model.constraint3 = pyo.Constraint(expr=model.x1 + model.x2 <= 80)\n",
       "\n",
       "# Solve the model\n",
       "solver = pyo.SolverFactory('ipopt')  # You can choose a different solver if you prefer\n",
       "results = solver.solve(model)\n",
       "\n",
       "# Print the results\n",
       "print(results)\n",
       "print(f\"x1 = {pyo.value(model.x1)}\")\n",
       "print(f\"x2 = {pyo.value(model.x2)}\")\n",
       "```\n"
      ],
      "text/plain": [
       "<IPython.core.display.Markdown object>"
      ]
     },
     "execution_count": 356,
     "metadata": {},
     "output_type": "execute_result"
    }
   ],
   "source": [
    "#Showing the code in a formatted way\n",
    "Markdown(response2.text)"
   ]
  },
  {
   "cell_type": "markdown",
   "id": "b60756ae",
   "metadata": {},
   "source": [
    "## 4. Input problem data and try running the generated code"
   ]
  },
  {
   "cell_type": "code",
   "execution_count": 357,
   "id": "8fa1c03a",
   "metadata": {},
   "outputs": [
    {
     "name": "stdout",
     "output_type": "stream",
     "text": [
      "\n",
      "Problem: \n",
      "- Lower bound: -inf\n",
      "  Upper bound: inf\n",
      "  Number of objectives: 1\n",
      "  Number of constraints: 3\n",
      "  Number of variables: 2\n",
      "  Sense: unknown\n",
      "Solver: \n",
      "- Status: ok\n",
      "  Message: Ipopt 3.11.1\\x3a Optimal Solution Found\n",
      "  Termination condition: optimal\n",
      "  Id: 0\n",
      "  Error rc: 0\n",
      "  Time: 0.07271003723144531\n",
      "Solution: \n",
      "- number of solutions: 0\n",
      "  number of solutions displayed: 0\n",
      "\n",
      "x1 = 43.162277233647174\n",
      "x2 = 36.8377229631074\n"
     ]
    }
   ],
   "source": [
    "import pyomo.environ as pyo\n",
    "\n",
    "# Define the model\n",
    "model = pyo.ConcreteModel()\n",
    "\n",
    "# Define the variables\n",
    "model.x1 = pyo.Var(domain=pyo.NonNegativeReals)\n",
    "model.x2 = pyo.Var(domain=pyo.NonNegativeReals)\n",
    "\n",
    "# Define the objective function\n",
    "model.objective = pyo.Objective(expr=pyo.log(model.x1 * model.x2) - (model.x1 + 2*model.x2)**(1/3), sense=pyo.maximize)\n",
    "\n",
    "# Define the constraints\n",
    "model.constraint1 = pyo.Constraint(expr=(model.x1 - (model.x1 + model.x2)/2)**2 <= 10)\n",
    "model.constraint2 = pyo.Constraint(expr=(model.x2 - (model.x1 + model.x2)/2)**2 <= 10)\n",
    "model.constraint3 = pyo.Constraint(expr=model.x1 + model.x2 <= 80)\n",
    "\n",
    "# Solve the model\n",
    "solver = pyo.SolverFactory('ipopt')  # You can choose a different solver if you prefer\n",
    "results = solver.solve(model)\n",
    "\n",
    "# Print the results\n",
    "print(results)\n",
    "print(f\"x1 = {pyo.value(model.x1)}\")\n",
    "print(f\"x2 = {pyo.value(model.x2)}\")"
   ]
  },
  {
   "cell_type": "markdown",
   "id": "8f10340f",
   "metadata": {},
   "source": [
    "## 5. Correct the code to verify model viability (optional)"
   ]
  },
  {
   "cell_type": "code",
   "execution_count": null,
   "id": "e65e19a1",
   "metadata": {},
   "outputs": [],
   "source": []
  },
  {
   "cell_type": "markdown",
   "id": "03525f23",
   "metadata": {},
   "source": [
    "## 6. Printing the outputs as strings, so they can be saved.\n",
    "Those can be rendered as markdown for better readability"
   ]
  },
  {
   "cell_type": "code",
   "execution_count": 358,
   "id": "9d832f4d",
   "metadata": {},
   "outputs": [
    {
     "name": "stdout",
     "output_type": "stream",
     "text": [
      "Let's define the variables:\n",
      "\n",
      "*  $x_1$: Litres used of the first component.\n",
      "*  $x_2$: Litres used of the second component.\n",
      "\n",
      "Our objective is to maximize the quality of the product, which is given by: \n",
      "\n",
      "$\\text{Maximize} \\ln(x_1 \\cdot x_2) - \\sqrt[3]{x_1 + 2x_2}$\n",
      "\n",
      "We have a constraint on the stability of the set, which requires that the squared difference between the liters employed of each component and the mean liters utilized of both components is below ten:\n",
      "\n",
      "$(x_1 - \\frac{x_1 + x_2}{2})^2 \\leq 10$\n",
      "$(x_2 - \\frac{x_1 + x_2}{2})^2 \\leq 10$\n",
      "\n",
      "Finally, the mixture tank can only fit 80 liters:\n",
      "\n",
      "$x_1 + x_2 \\leq 80$\n",
      "\n",
      "Additionally, we need to ensure that the quantities are non-negative:\n",
      "\n",
      "$x_1 \\geq 0$\n",
      "$x_2 \\geq 0$\n",
      "\n",
      "Therefore, the complete mathematical optimization model is:\n",
      "\n",
      "$\\text{Maximize} \\ln(x_1 \\cdot x_2) - \\sqrt[3]{x_1 + 2x_2}$\n",
      "\n",
      "Subject to:\n",
      "\n",
      "$(x_1 - \\frac{x_1 + x_2}{2})^2 \\leq 10$\n",
      "$(x_2 - \\frac{x_1 + x_2}{2})^2 \\leq 10$\n",
      "$x_1 + x_2 \\leq 80$\n",
      "$x_1 \\geq 0$\n",
      "$x_2 \\geq 0$ \n",
      "\n"
     ]
    }
   ],
   "source": [
    "print(response.text)"
   ]
  },
  {
   "cell_type": "code",
   "execution_count": 359,
   "id": "57e86877",
   "metadata": {
    "scrolled": false
   },
   "outputs": [
    {
     "name": "stdout",
     "output_type": "stream",
     "text": [
      "```python\n",
      "import pyomo.environ as pyo\n",
      "\n",
      "# Define the model\n",
      "model = pyo.ConcreteModel()\n",
      "\n",
      "# Define the variables\n",
      "model.x1 = pyo.Var(domain=pyo.NonNegativeReals)\n",
      "model.x2 = pyo.Var(domain=pyo.NonNegativeReals)\n",
      "\n",
      "# Define the objective function\n",
      "model.objective = pyo.Objective(expr=pyo.log(model.x1 * model.x2) - (model.x1 + 2*model.x2)**(1/3), sense=pyo.maximize)\n",
      "\n",
      "# Define the constraints\n",
      "model.constraint1 = pyo.Constraint(expr=(model.x1 - (model.x1 + model.x2)/2)**2 <= 10)\n",
      "model.constraint2 = pyo.Constraint(expr=(model.x2 - (model.x1 + model.x2)/2)**2 <= 10)\n",
      "model.constraint3 = pyo.Constraint(expr=model.x1 + model.x2 <= 80)\n",
      "\n",
      "# Solve the model\n",
      "solver = pyo.SolverFactory('ipopt')  # You can choose a different solver if you prefer\n",
      "results = solver.solve(model)\n",
      "\n",
      "# Print the results\n",
      "print(results)\n",
      "print(f\"x1 = {pyo.value(model.x1)}\")\n",
      "print(f\"x2 = {pyo.value(model.x2)}\")\n",
      "```\n",
      "\n"
     ]
    }
   ],
   "source": [
    "print(response2.text)"
   ]
  }
 ],
 "metadata": {
  "kernelspec": {
   "display_name": "Python 3 (ipykernel)",
   "language": "python",
   "name": "python3"
  },
  "language_info": {
   "codemirror_mode": {
    "name": "ipython",
    "version": 3
   },
   "file_extension": ".py",
   "mimetype": "text/x-python",
   "name": "python",
   "nbconvert_exporter": "python",
   "pygments_lexer": "ipython3",
   "version": "3.11.4"
  }
 },
 "nbformat": 4,
 "nbformat_minor": 5
}
