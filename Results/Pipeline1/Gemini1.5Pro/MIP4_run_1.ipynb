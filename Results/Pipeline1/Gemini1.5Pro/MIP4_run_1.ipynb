{
 "cells": [
  {
   "cell_type": "markdown",
   "id": "f0005e9e",
   "metadata": {},
   "source": [
    "# LLM Optimization Modelling Experiment"
   ]
  },
  {
   "cell_type": "code",
   "execution_count": 4,
   "id": "7f664028",
   "metadata": {},
   "outputs": [],
   "source": [
    "import vertexai\n",
    "from vertexai.preview.generative_models import GenerativeModel, Image\n",
    "from IPython.display import Markdown"
   ]
  },
  {
   "cell_type": "markdown",
   "id": "f527d6af",
   "metadata": {},
   "source": [
    "## 1. Define the problem description"
   ]
  },
  {
   "cell_type": "code",
   "execution_count": 90,
   "id": "25055ffd",
   "metadata": {},
   "outputs": [],
   "source": [
    "problem = '''You are task with maximizing the water flow in a network of pipes over 10 time steps. The water enters the system at point A and exits the system at point G. Hence, you need to maximize the amount of water that flows to point G. The water enters point A according to the function f(t) = max(-4/30t^3+t^2-0.234t+3, 0), where t is the time step. There are serveral points that are connected through pipes. Each pipe has a fixed capacity. Each point has to possibility to release water out of the system in case the outgoing pipes are full. There are 12 available pipes in total but only 10 of them can be activated. Deactivated pipes can not be used to transport water. The activation status of a pipe is set before any water arrives at point A and does not change. Finally, water can not be stored at the connection points which means that any water coming in at time t needs to be flowing out at time t + 1.\n",
    "\n",
    "These are the pipe capacities:\n",
    "AB: 3\n",
    "AC: 6\n",
    "AF: 1\n",
    "BC: 3\n",
    "BD: 10\n",
    "BE: 4\n",
    "CE: 4\n",
    "CF: 4\n",
    "DE: 5\n",
    "EG: 5\n",
    "FB: 12\n",
    "FG: 7'''"
   ]
  },
  {
   "cell_type": "markdown",
   "id": "472cf9ad",
   "metadata": {},
   "source": [
    "## 2. Generate the mathematical model"
   ]
  },
  {
   "cell_type": "code",
   "execution_count": 91,
   "id": "e31ec80c",
   "metadata": {},
   "outputs": [],
   "source": [
    "#Initializing the session. To replicate, make sure the right credentials are saved in a PATH variable\n",
    "PROJECT_ID = \"llm4optproblems\"\n",
    "REGION = \"us-central1\"\n",
    "vertexai.init(project=PROJECT_ID, location=REGION)\n",
    "\n",
    "#Specifying the model\n",
    "generative_multimodal_model = GenerativeModel(\"gemini-1.5-pro-preview-0409\")\n",
    "\n",
    "#The propmt applied to all problems\n",
    "prompt = '''Please formulate a mathematical optimization model for this problem. Include parameters, decision variables, the objective function and the constraints in your answer.\n",
    "'''\n",
    "\n",
    "#Generate the response\n",
    "response = generative_multimodal_model.generate_content([prompt+problem])\n"
   ]
  },
  {
   "cell_type": "code",
   "execution_count": 92,
   "id": "f9adc567",
   "metadata": {},
   "outputs": [
    {
     "data": {
      "text/markdown": [
       "## Mathematical Optimization Model for Maximizing Water Flow\n",
       "\n",
       "**Parameters:**\n",
       "\n",
       "* **T:** Number of time steps (T = 10)\n",
       "* **N:** Set of nodes {A, B, C, D, E, F, G}\n",
       "* **E:** Set of edges representing pipes {(A,B), (A,C), (A,F), (B,C), (B,D), (B,E), (C,E), (C,F), (D,E), (E,G), (F,B), (F,G)}\n",
       "* **c<sub>ij</sub>:** Capacity of pipe (i,j) ∈ E, as given in the problem statement.\n",
       "* **f(t):** Inflow function at point A, f(t) = max(-4/30t<sup>3</sup>+t<sup>2</sup>-0.234t+3, 0)\n",
       "\n",
       "**Decision Variables:**\n",
       "\n",
       "* **x<sub>ijt</sub>:** Flow of water through pipe (i,j) ∈ E at time t = 1,...,T\n",
       "* **y<sub>ij</sub>:** Binary variable indicating whether pipe (i,j) ∈ E is activated (y<sub>ij</sub> = 1) or deactivated (y<sub>ij</sub> = 0)\n",
       "* **r<sub>it</sub>:** Amount of water released from node i ∈ N at time t = 1,...,T\n",
       "\n",
       "**Objective Function:**\n",
       "\n",
       "Maximize the total water flow out of point G over all time steps:\n",
       "\n",
       "```\n",
       "Maximize  ∑<sub>t=1</sub><sup>T</sup> x<sub>EGt</sub> \n",
       "```\n",
       "\n",
       "**Constraints:**\n",
       "\n",
       "1. **Flow Conservation:** For each node i ∈ N and time t = 1,...,T, the total inflow must equal the total outflow plus any released water:\n",
       "    * At point A: f(t) = ∑<sub>j:(A,j)∈E</sub> x<sub>Ajt</sub> \n",
       "    * At other points: ∑<sub>j:(j,i)∈E</sub> x<sub>jit</sub> = ∑<sub>j:(i,j)∈E</sub> x<sub>ijt</sub> + r<sub>it</sub>\n",
       "2. **Pipe Capacity:** Flow through each pipe cannot exceed its capacity:\n",
       "    * x<sub>ijt</sub> ≤ c<sub>ij</sub> * y<sub>ij</sub> for all (i,j) ∈ E and t = 1,...,T\n",
       "3. **Pipe Activation Limit:** Only 10 pipes can be activated:\n",
       "    * ∑<sub>(i,j)∈E</sub> y<sub>ij</sub> ≤ 10\n",
       "4. **Non-negativity:** All variables must be non-negative:\n",
       "    * x<sub>ijt</sub> ≥ 0 for all (i,j) ∈ E and t = 1,...,T\n",
       "    * r<sub>it</sub> ≥ 0 for all i ∈ N and t = 1,...,T\n",
       "    * y<sub>ij</sub> ∈ {0,1} for all (i,j) ∈ E\n",
       "\n",
       "This model represents a mixed-integer linear programming problem, which can be solved using appropriate optimization software to find the optimal flow configuration that maximizes water output at point G. \n"
      ],
      "text/plain": [
       "<IPython.core.display.Markdown object>"
      ]
     },
     "execution_count": 92,
     "metadata": {},
     "output_type": "execute_result"
    }
   ],
   "source": [
    "#Show the resopnse in a formatted way\n",
    "Markdown(response.text)"
   ]
  },
  {
   "cell_type": "markdown",
   "id": "75796979",
   "metadata": {},
   "source": [
    "## 3. Generate the pyomo code"
   ]
  },
  {
   "cell_type": "code",
   "execution_count": 93,
   "id": "aabea932",
   "metadata": {},
   "outputs": [],
   "source": [
    "#Second prompt gets the output of the previous step and generates the code\n",
    "prompt2 = \"Please write pyomo code for this mathematical problem. Use sample data where needed. Indicate where you use sample data. \\n\"\n",
    "prompt2 += response.text \n",
    "response2 = generative_multimodal_model.generate_content([prompt2])"
   ]
  },
  {
   "cell_type": "code",
   "execution_count": 94,
   "id": "fd2835af",
   "metadata": {
    "scrolled": false
   },
   "outputs": [
    {
     "data": {
      "text/markdown": [
       "```python\n",
       "import pyomo.environ as pyo\n",
       "\n",
       "# Sample data for pipe capacities (replace with actual data)\n",
       "c = {\n",
       "    ('A', 'B'): 5, ('A', 'C'): 3, ('A', 'F'): 4, ('B', 'C'): 2,\n",
       "    ('B', 'D'): 1, ('B', 'E'): 6, ('C', 'E'): 4, ('C', 'F'): 3,\n",
       "    ('D', 'E'): 2, ('E', 'G'): 7, ('F', 'B'): 2, ('F', 'G'): 5\n",
       "}\n",
       "\n",
       "# Parameters\n",
       "T = 10  # Number of time steps\n",
       "N = {'A', 'B', 'C', 'D', 'E', 'F', 'G'}  # Set of nodes\n",
       "E = {('A', 'B'), ('A', 'C'), ('A', 'F'), ('B', 'C'), ('B', 'D'), ('B', 'E'),\n",
       "     ('C', 'E'), ('C', 'F'), ('D', 'E'), ('E', 'G'), ('F', 'B'), ('F', 'G')}  # Set of edges\n",
       "\n",
       "# Create model\n",
       "model = pyo.ConcreteModel()\n",
       "\n",
       "# Decision variables\n",
       "model.x = pyo.Var(E, range(1, T + 1), within=pyo.NonNegativeReals)  # Flow through pipes\n",
       "model.y = pyo.Var(E, within=pyo.Binary)  # Pipe activation\n",
       "model.r = pyo.Var(N, range(1, T + 1), within=pyo.NonNegativeReals)  # Water released from nodes\n",
       "\n",
       "# Objective function: Maximize outflow at G\n",
       "model.obj = pyo.Objective(expr=sum(model.x['E', 'G', t] for t in range(1, T + 1)), sense=pyo.maximize)\n",
       "\n",
       "# Constraints\n",
       "# Flow conservation\n",
       "model.flow_conservation = pyo.ConstraintList()\n",
       "for t in range(1, T + 1):\n",
       "    model.flow_conservation.add(\n",
       "        expr=max(-4 / 30 * t ** 3 + t ** 2 - 0.234 * t + 3, 0) == sum(model.x[i, j, t] for (i, j) in E if i == 'A'))\n",
       "    for i in N - {'A'}:\n",
       "        model.flow_conservation.add(\n",
       "            expr=sum(model.x[j, i, t] for (j, i) in E if i == j) ==\n",
       "                 sum(model.x[i, j, t] for (i, j) in E if i == j) + model.r[i, t])\n",
       "\n",
       "# Pipe capacity\n",
       "model.pipe_capacity = pyo.ConstraintList()\n",
       "for (i, j) in E:\n",
       "    for t in range(1, T + 1):\n",
       "        model.pipe_capacity.add(expr=model.x[i, j, t] <= c[i, j] * model.y[i, j])\n",
       "\n",
       "# Pipe activation limit\n",
       "model.activation_limit = pyo.Constraint(expr=sum(model.y[i, j] for (i, j) in E) <= 10)\n",
       "\n",
       "# Solve the model\n",
       "solver = pyo.SolverFactory('glpk')  # You can choose other solvers like 'gurobi' or 'cplex'\n",
       "solver.solve(model)\n",
       "\n",
       "# Print the results\n",
       "print(\"Optimal Solution:\")\n",
       "print(\"Objective value:\", pyo.value(model.obj))\n",
       "print(\"Pipe Activation:\")\n",
       "for (i, j) in E:\n",
       "    if pyo.value(model.y[i, j]) == 1:\n",
       "        print(f\"Pipe ({i}, {j}) is activated\")\n",
       "# You can also access and print the flow values (model.x) and released water (model.r) as needed\n",
       "```\n",
       "\n",
       "This code first defines the sample data for pipe capacities in the dictionary `c`. You need to replace these values with your actual data. \n",
       "\n",
       "The rest of the code implements the model as described in the problem statement, including the objective function, constraints, and variable definitions. Finally, it uses the 'glpk' solver to solve the problem and then prints the results, including the objective value and which pipes are activated in the optimal solution.\n"
      ],
      "text/plain": [
       "<IPython.core.display.Markdown object>"
      ]
     },
     "execution_count": 94,
     "metadata": {},
     "output_type": "execute_result"
    }
   ],
   "source": [
    "#Showing the code in a formatted way\n",
    "Markdown(response2.text)"
   ]
  },
  {
   "cell_type": "markdown",
   "id": "b60756ae",
   "metadata": {},
   "source": [
    "## 4. Input problem data and try running the generated code"
   ]
  },
  {
   "cell_type": "code",
   "execution_count": 106,
   "id": "6d306df6",
   "metadata": {},
   "outputs": [
    {
     "name": "stdout",
     "output_type": "stream",
     "text": [
      "Optimal Solution:\n",
      "ERROR: evaluating object as numeric value: x[E,G,1]\n",
      "        (object: <class 'pyomo.core.base.var._GeneralVarData'>)\n",
      "    No value for uninitialized NumericValue object x[E,G,1]\n",
      "ERROR: evaluating object as numeric value: obj\n",
      "        (object: <class 'pyomo.core.base.objective.ScalarObjective'>)\n",
      "    No value for uninitialized NumericValue object x[E,G,1]\n"
     ]
    },
    {
     "ename": "ValueError",
     "evalue": "No value for uninitialized NumericValue object x[E,G,1]",
     "output_type": "error",
     "traceback": [
      "\u001b[1;31m---------------------------------------------------------------------------\u001b[0m",
      "\u001b[1;31mValueError\u001b[0m                                Traceback (most recent call last)",
      "Cell \u001b[1;32mIn[106], line 62\u001b[0m\n\u001b[0;32m     60\u001b[0m \u001b[38;5;66;03m# Print the results\u001b[39;00m\n\u001b[0;32m     61\u001b[0m \u001b[38;5;28mprint\u001b[39m(\u001b[38;5;124m\"\u001b[39m\u001b[38;5;124mOptimal Solution:\u001b[39m\u001b[38;5;124m\"\u001b[39m)\n\u001b[1;32m---> 62\u001b[0m \u001b[38;5;28mprint\u001b[39m(\u001b[38;5;124m\"\u001b[39m\u001b[38;5;124mObjective value:\u001b[39m\u001b[38;5;124m\"\u001b[39m, pyo\u001b[38;5;241m.\u001b[39mvalue(model\u001b[38;5;241m.\u001b[39mobj))\n\u001b[0;32m     63\u001b[0m \u001b[38;5;28mprint\u001b[39m(\u001b[38;5;124m\"\u001b[39m\u001b[38;5;124mPipe Activation:\u001b[39m\u001b[38;5;124m\"\u001b[39m)\n\u001b[0;32m     64\u001b[0m \u001b[38;5;28;01mfor\u001b[39;00m (i, j) \u001b[38;5;129;01min\u001b[39;00m E:\n",
      "File \u001b[1;32m~\\anaconda3\\Lib\\site-packages\\pyomo\\common\\numeric_types.py:316\u001b[0m, in \u001b[0;36mvalue\u001b[1;34m(obj, exception)\u001b[0m\n\u001b[0;32m    311\u001b[0m \u001b[38;5;28;01mif\u001b[39;00m exception:\n\u001b[0;32m    312\u001b[0m     \u001b[38;5;66;03m#\u001b[39;00m\n\u001b[0;32m    313\u001b[0m     \u001b[38;5;66;03m# Here, we try to catch the exception\u001b[39;00m\n\u001b[0;32m    314\u001b[0m     \u001b[38;5;66;03m#\u001b[39;00m\n\u001b[0;32m    315\u001b[0m     \u001b[38;5;28;01mtry\u001b[39;00m:\n\u001b[1;32m--> 316\u001b[0m         tmp \u001b[38;5;241m=\u001b[39m obj(exception\u001b[38;5;241m=\u001b[39m\u001b[38;5;28;01mTrue\u001b[39;00m)\n\u001b[0;32m    317\u001b[0m         \u001b[38;5;28;01mif\u001b[39;00m tmp \u001b[38;5;129;01mis\u001b[39;00m \u001b[38;5;28;01mNone\u001b[39;00m:\n\u001b[0;32m    318\u001b[0m             \u001b[38;5;28;01mraise\u001b[39;00m \u001b[38;5;167;01mValueError\u001b[39;00m(\n\u001b[0;32m    319\u001b[0m                 \u001b[38;5;124m\"\u001b[39m\u001b[38;5;124mNo value for uninitialized NumericValue object \u001b[39m\u001b[38;5;132;01m%s\u001b[39;00m\u001b[38;5;124m\"\u001b[39m \u001b[38;5;241m%\u001b[39m (obj\u001b[38;5;241m.\u001b[39mname,)\n\u001b[0;32m    320\u001b[0m             )\n",
      "File \u001b[1;32m~\\anaconda3\\Lib\\site-packages\\pyomo\\core\\base\\objective.py:417\u001b[0m, in \u001b[0;36mScalarObjective.__call__\u001b[1;34m(self, exception)\u001b[0m\n\u001b[0;32m    410\u001b[0m     \u001b[38;5;28;01mif\u001b[39;00m \u001b[38;5;28mlen\u001b[39m(\u001b[38;5;28mself\u001b[39m\u001b[38;5;241m.\u001b[39m_data) \u001b[38;5;241m==\u001b[39m \u001b[38;5;241m0\u001b[39m:\n\u001b[0;32m    411\u001b[0m         \u001b[38;5;28;01mraise\u001b[39;00m \u001b[38;5;167;01mValueError\u001b[39;00m(\n\u001b[0;32m    412\u001b[0m             \u001b[38;5;124m\"\u001b[39m\u001b[38;5;124mEvaluating the expression of ScalarObjective \u001b[39m\u001b[38;5;124m\"\u001b[39m\n\u001b[0;32m    413\u001b[0m             \u001b[38;5;124m\"\u001b[39m\u001b[38;5;124m'\u001b[39m\u001b[38;5;132;01m%s\u001b[39;00m\u001b[38;5;124m'\u001b[39m\u001b[38;5;124m before the Objective has been assigned \u001b[39m\u001b[38;5;124m\"\u001b[39m\n\u001b[0;32m    414\u001b[0m             \u001b[38;5;124m\"\u001b[39m\u001b[38;5;124ma sense or expression (there is currently \u001b[39m\u001b[38;5;124m\"\u001b[39m\n\u001b[0;32m    415\u001b[0m             \u001b[38;5;124m\"\u001b[39m\u001b[38;5;124mno value to return).\u001b[39m\u001b[38;5;124m\"\u001b[39m \u001b[38;5;241m%\u001b[39m (\u001b[38;5;28mself\u001b[39m\u001b[38;5;241m.\u001b[39mname)\n\u001b[0;32m    416\u001b[0m         )\n\u001b[1;32m--> 417\u001b[0m     \u001b[38;5;28;01mreturn\u001b[39;00m \u001b[38;5;28msuper\u001b[39m()\u001b[38;5;241m.\u001b[39m\u001b[38;5;21m__call__\u001b[39m(exception)\n\u001b[0;32m    418\u001b[0m \u001b[38;5;28;01mraise\u001b[39;00m \u001b[38;5;167;01mValueError\u001b[39;00m(\n\u001b[0;32m    419\u001b[0m     \u001b[38;5;124m\"\u001b[39m\u001b[38;5;124mEvaluating the expression of objective \u001b[39m\u001b[38;5;124m'\u001b[39m\u001b[38;5;132;01m%s\u001b[39;00m\u001b[38;5;124m'\u001b[39m\u001b[38;5;124m \u001b[39m\u001b[38;5;124m\"\u001b[39m\n\u001b[0;32m    420\u001b[0m     \u001b[38;5;124m\"\u001b[39m\u001b[38;5;124mbefore the Objective has been constructed (there \u001b[39m\u001b[38;5;124m\"\u001b[39m\n\u001b[0;32m    421\u001b[0m     \u001b[38;5;124m\"\u001b[39m\u001b[38;5;124mis currently no value to return).\u001b[39m\u001b[38;5;124m\"\u001b[39m \u001b[38;5;241m%\u001b[39m (\u001b[38;5;28mself\u001b[39m\u001b[38;5;241m.\u001b[39mname)\n\u001b[0;32m    422\u001b[0m )\n",
      "File \u001b[1;32m~\\anaconda3\\Lib\\site-packages\\pyomo\\core\\base\\expression.py:63\u001b[0m, in \u001b[0;36m_ExpressionData.__call__\u001b[1;34m(self, exception)\u001b[0m\n\u001b[0;32m     60\u001b[0m \u001b[38;5;28;01mif\u001b[39;00m arg\u001b[38;5;241m.\u001b[39m\u001b[38;5;18m__class__\u001b[39m \u001b[38;5;129;01min\u001b[39;00m native_types:\n\u001b[0;32m     61\u001b[0m     \u001b[38;5;66;03m# Note: native_types includes NoneType\u001b[39;00m\n\u001b[0;32m     62\u001b[0m     \u001b[38;5;28;01mreturn\u001b[39;00m arg\n\u001b[1;32m---> 63\u001b[0m \u001b[38;5;28;01mreturn\u001b[39;00m arg(exception\u001b[38;5;241m=\u001b[39mexception)\n",
      "File \u001b[1;32m~\\anaconda3\\Lib\\site-packages\\pyomo\\core\\expr\\base.py:118\u001b[0m, in \u001b[0;36mExpressionBase.__call__\u001b[1;34m(self, exception)\u001b[0m\n\u001b[0;32m    103\u001b[0m \u001b[38;5;28;01mdef\u001b[39;00m \u001b[38;5;21m__call__\u001b[39m(\u001b[38;5;28mself\u001b[39m, exception\u001b[38;5;241m=\u001b[39m\u001b[38;5;28;01mTrue\u001b[39;00m):\n\u001b[0;32m    104\u001b[0m \u001b[38;5;250m    \u001b[39m\u001b[38;5;124;03m\"\"\"Evaluate the value of the expression tree.\u001b[39;00m\n\u001b[0;32m    105\u001b[0m \n\u001b[0;32m    106\u001b[0m \u001b[38;5;124;03m    Parameters\u001b[39;00m\n\u001b[1;32m   (...)\u001b[0m\n\u001b[0;32m    116\u001b[0m \n\u001b[0;32m    117\u001b[0m \u001b[38;5;124;03m    \"\"\"\u001b[39;00m\n\u001b[1;32m--> 118\u001b[0m     \u001b[38;5;28;01mreturn\u001b[39;00m visitor\u001b[38;5;241m.\u001b[39mevaluate_expression(\u001b[38;5;28mself\u001b[39m, exception)\n",
      "File \u001b[1;32m~\\anaconda3\\Lib\\site-packages\\pyomo\\core\\expr\\visitor.py:1296\u001b[0m, in \u001b[0;36mevaluate_expression\u001b[1;34m(exp, exception, constant)\u001b[0m\n\u001b[0;32m   1293\u001b[0m         clear_active \u001b[38;5;241m=\u001b[39m \u001b[38;5;28;01mTrue\u001b[39;00m\n\u001b[0;32m   1295\u001b[0m \u001b[38;5;28;01mtry\u001b[39;00m:\n\u001b[1;32m-> 1296\u001b[0m     ans \u001b[38;5;241m=\u001b[39m visitor\u001b[38;5;241m.\u001b[39mdfs_postorder_stack(exp)\n\u001b[0;32m   1297\u001b[0m \u001b[38;5;28;01mexcept\u001b[39;00m (\n\u001b[0;32m   1298\u001b[0m     TemplateExpressionError,\n\u001b[0;32m   1299\u001b[0m     \u001b[38;5;167;01mValueError\u001b[39;00m,\n\u001b[1;32m   (...)\u001b[0m\n\u001b[0;32m   1312\u001b[0m     \u001b[38;5;66;03m#   TypeError: This can be raised in Python3 when evaluating a\u001b[39;00m\n\u001b[0;32m   1313\u001b[0m     \u001b[38;5;66;03m#      operation returns a complex number (e.g., sqrt(-1))\u001b[39;00m\n\u001b[0;32m   1314\u001b[0m     \u001b[38;5;28;01mif\u001b[39;00m exception:\n",
      "File \u001b[1;32m~\\anaconda3\\Lib\\site-packages\\pyomo\\core\\expr\\visitor.py:919\u001b[0m, in \u001b[0;36mExpressionValueVisitor.dfs_postorder_stack\u001b[1;34m(self, node)\u001b[0m\n\u001b[0;32m    917\u001b[0m _sub \u001b[38;5;241m=\u001b[39m _argList[_idx]\n\u001b[0;32m    918\u001b[0m _idx \u001b[38;5;241m+\u001b[39m\u001b[38;5;241m=\u001b[39m \u001b[38;5;241m1\u001b[39m\n\u001b[1;32m--> 919\u001b[0m flag, value \u001b[38;5;241m=\u001b[39m \u001b[38;5;28mself\u001b[39m\u001b[38;5;241m.\u001b[39mvisiting_potential_leaf(_sub)\n\u001b[0;32m    920\u001b[0m \u001b[38;5;28;01mif\u001b[39;00m flag:\n\u001b[0;32m    921\u001b[0m     _result\u001b[38;5;241m.\u001b[39mappend(value)\n",
      "File \u001b[1;32m~\\anaconda3\\Lib\\site-packages\\pyomo\\core\\expr\\visitor.py:1201\u001b[0m, in \u001b[0;36m_EvaluationVisitor.visiting_potential_leaf\u001b[1;34m(self, node)\u001b[0m\n\u001b[0;32m   1198\u001b[0m     \u001b[38;5;28;01mreturn\u001b[39;00m \u001b[38;5;28;01mFalse\u001b[39;00m, \u001b[38;5;28;01mNone\u001b[39;00m\n\u001b[0;32m   1200\u001b[0m \u001b[38;5;28;01mif\u001b[39;00m node\u001b[38;5;241m.\u001b[39mis_numeric_type():\n\u001b[1;32m-> 1201\u001b[0m     \u001b[38;5;28;01mreturn\u001b[39;00m \u001b[38;5;28;01mTrue\u001b[39;00m, value(node, exception\u001b[38;5;241m=\u001b[39m\u001b[38;5;28mself\u001b[39m\u001b[38;5;241m.\u001b[39mexception)\n\u001b[0;32m   1202\u001b[0m \u001b[38;5;28;01melif\u001b[39;00m node\u001b[38;5;241m.\u001b[39mis_logical_type():\n\u001b[0;32m   1203\u001b[0m     \u001b[38;5;28;01mreturn\u001b[39;00m \u001b[38;5;28;01mTrue\u001b[39;00m, value(node, exception\u001b[38;5;241m=\u001b[39m\u001b[38;5;28mself\u001b[39m\u001b[38;5;241m.\u001b[39mexception)\n",
      "File \u001b[1;32m~\\anaconda3\\Lib\\site-packages\\pyomo\\common\\numeric_types.py:318\u001b[0m, in \u001b[0;36mvalue\u001b[1;34m(obj, exception)\u001b[0m\n\u001b[0;32m    316\u001b[0m     tmp \u001b[38;5;241m=\u001b[39m obj(exception\u001b[38;5;241m=\u001b[39m\u001b[38;5;28;01mTrue\u001b[39;00m)\n\u001b[0;32m    317\u001b[0m     \u001b[38;5;28;01mif\u001b[39;00m tmp \u001b[38;5;129;01mis\u001b[39;00m \u001b[38;5;28;01mNone\u001b[39;00m:\n\u001b[1;32m--> 318\u001b[0m         \u001b[38;5;28;01mraise\u001b[39;00m \u001b[38;5;167;01mValueError\u001b[39;00m(\n\u001b[0;32m    319\u001b[0m             \u001b[38;5;124m\"\u001b[39m\u001b[38;5;124mNo value for uninitialized NumericValue object \u001b[39m\u001b[38;5;132;01m%s\u001b[39;00m\u001b[38;5;124m\"\u001b[39m \u001b[38;5;241m%\u001b[39m (obj\u001b[38;5;241m.\u001b[39mname,)\n\u001b[0;32m    320\u001b[0m         )\n\u001b[0;32m    321\u001b[0m     \u001b[38;5;28;01mreturn\u001b[39;00m tmp\n\u001b[0;32m    322\u001b[0m \u001b[38;5;28;01mexcept\u001b[39;00m TemplateExpressionError:\n\u001b[0;32m    323\u001b[0m     \u001b[38;5;66;03m# Template expressions work by catching this error type. So\u001b[39;00m\n\u001b[0;32m    324\u001b[0m     \u001b[38;5;66;03m# we should defer this error handling and not log an error\u001b[39;00m\n\u001b[0;32m    325\u001b[0m     \u001b[38;5;66;03m# message.\u001b[39;00m\n",
      "\u001b[1;31mValueError\u001b[0m: No value for uninitialized NumericValue object x[E,G,1]"
     ]
    }
   ],
   "source": [
    "import pyomo.environ as pyo\n",
    "\n",
    "# Sample data for pipe capacities (replace with actual data)\n",
    "c = {\n",
    "    ('A', 'B'): 5,\n",
    "    ('A', 'C'): 3,\n",
    "    ('A', 'F'): 2,\n",
    "    ('B', 'C'): 4,\n",
    "    ('B', 'D'): 2,\n",
    "    ('B', 'E'): 1,\n",
    "    ('C', 'E'): 3,\n",
    "    ('C', 'F'): 2,\n",
    "    ('D', 'E'): 4,\n",
    "    ('E', 'G'): 6,\n",
    "    ('F', 'B'): 1,\n",
    "    ('F', 'G'): 5,\n",
    "}\n",
    "\n",
    "# Parameters\n",
    "T = 10  # Number of time steps\n",
    "N = {'A', 'B', 'C', 'D', 'E', 'F', 'G'}  # Set of nodes\n",
    "E = {('A', 'B'), ('A', 'C'), ('A', 'F'), ('B', 'C'), ('B', 'D'), ('B', 'E'),\n",
    "     ('C', 'E'), ('C', 'F'), ('D', 'E'), ('E', 'G'), ('F', 'B'), ('F', 'G')}  # Set of edges\n",
    "\n",
    "# Create model\n",
    "model = pyo.ConcreteModel()\n",
    "\n",
    "# Decision variables\n",
    "model.x = pyo.Var(E, range(1, T + 1), within=pyo.NonNegativeReals)  # Flow through pipes\n",
    "model.y = pyo.Var(E, within=pyo.Binary)  # Pipe activation\n",
    "model.r = pyo.Var(N, range(1, T + 1), within=pyo.NonNegativeReals)  # Water released from nodes\n",
    "\n",
    "# Objective function: Maximize outflow at G\n",
    "model.obj = pyo.Objective(expr=sum(model.x['E', 'G', t] for t in range(1, T + 1)), sense=pyo.maximize)\n",
    "\n",
    "# Constraints\n",
    "# Flow conservation\n",
    "model.flow_conservation = pyo.ConstraintList()\n",
    "for t in range(1, T + 1):\n",
    "    model.flow_conservation.add(\n",
    "        expr=max(-4 / 30 * t ** 3 + t ** 2 - 0.234 * t + 3, 0) == sum(model.x[i, j, t] for (i, j) in E if i == 'A'))\n",
    "    for i in N - {'A'}:\n",
    "        model.flow_conservation.add(\n",
    "            expr=sum(model.x[j, i, t] for (j, i) in E if i == j) ==\n",
    "                 sum(model.x[i, j, t] for (i, j) in E if i == j) + model.r[i, t])\n",
    "\n",
    "# Pipe capacity\n",
    "model.pipe_capacity = pyo.ConstraintList()\n",
    "for (i, j) in E:\n",
    "    for t in range(1, T + 1):\n",
    "        model.pipe_capacity.add(expr=model.x[i, j, t] <= c[i, j] * model.y[i, j])\n",
    "\n",
    "# Pipe activation limit\n",
    "model.activation_limit = pyo.Constraint(expr=sum(model.y[i, j] for (i, j) in E) <= 10)\n",
    "\n",
    "# Solve the model\n",
    "solver = pyo.SolverFactory('glpk')  # You can choose other solvers like 'gurobi' or 'cplex'\n",
    "solver.solve(model)\n",
    "\n",
    "# Print the results\n",
    "print(\"Optimal Solution:\")\n",
    "print(\"Objective value:\", pyo.value(model.obj))\n",
    "print(\"Pipe Activation:\")\n",
    "for (i, j) in E:\n",
    "    if pyo.value(model.y[i, j]) == 1:\n",
    "        print(f\"Pipe ({i}, {j}) is activated\")"
   ]
  },
  {
   "cell_type": "markdown",
   "id": "1be0926e",
   "metadata": {},
   "source": [
    "## 5. Correct the code to verify model viability (optional)"
   ]
  },
  {
   "cell_type": "code",
   "execution_count": null,
   "id": "8b37acfc",
   "metadata": {
    "scrolled": false
   },
   "outputs": [],
   "source": []
  },
  {
   "cell_type": "markdown",
   "id": "6f93868f",
   "metadata": {},
   "source": [
    "## 6. Printing the outputs as strings, so they can be saved.\n",
    "Those can be rendered as markdown for better readability"
   ]
  },
  {
   "cell_type": "code",
   "execution_count": 107,
   "id": "e904cf68",
   "metadata": {},
   "outputs": [
    {
     "name": "stdout",
     "output_type": "stream",
     "text": [
      "## Mathematical Optimization Model for Maximizing Water Flow\n",
      "\n",
      "**Parameters:**\n",
      "\n",
      "* **T:** Number of time steps (T = 10)\n",
      "* **N:** Set of nodes {A, B, C, D, E, F, G}\n",
      "* **E:** Set of edges representing pipes {(A,B), (A,C), (A,F), (B,C), (B,D), (B,E), (C,E), (C,F), (D,E), (E,G), (F,B), (F,G)}\n",
      "* **c<sub>ij</sub>:** Capacity of pipe (i,j) ∈ E, as given in the problem statement.\n",
      "* **f(t):** Inflow function at point A, f(t) = max(-4/30t<sup>3</sup>+t<sup>2</sup>-0.234t+3, 0)\n",
      "\n",
      "**Decision Variables:**\n",
      "\n",
      "* **x<sub>ijt</sub>:** Flow of water through pipe (i,j) ∈ E at time t = 1,...,T\n",
      "* **y<sub>ij</sub>:** Binary variable indicating whether pipe (i,j) ∈ E is activated (y<sub>ij</sub> = 1) or deactivated (y<sub>ij</sub> = 0)\n",
      "* **r<sub>it</sub>:** Amount of water released from node i ∈ N at time t = 1,...,T\n",
      "\n",
      "**Objective Function:**\n",
      "\n",
      "Maximize the total water flow out of point G over all time steps:\n",
      "\n",
      "```\n",
      "Maximize  ∑<sub>t=1</sub><sup>T</sup> x<sub>EGt</sub> \n",
      "```\n",
      "\n",
      "**Constraints:**\n",
      "\n",
      "1. **Flow Conservation:** For each node i ∈ N and time t = 1,...,T, the total inflow must equal the total outflow plus any released water:\n",
      "    * At point A: f(t) = ∑<sub>j:(A,j)∈E</sub> x<sub>Ajt</sub> \n",
      "    * At other points: ∑<sub>j:(j,i)∈E</sub> x<sub>jit</sub> = ∑<sub>j:(i,j)∈E</sub> x<sub>ijt</sub> + r<sub>it</sub>\n",
      "2. **Pipe Capacity:** Flow through each pipe cannot exceed its capacity:\n",
      "    * x<sub>ijt</sub> ≤ c<sub>ij</sub> * y<sub>ij</sub> for all (i,j) ∈ E and t = 1,...,T\n",
      "3. **Pipe Activation Limit:** Only 10 pipes can be activated:\n",
      "    * ∑<sub>(i,j)∈E</sub> y<sub>ij</sub> ≤ 10\n",
      "4. **Non-negativity:** All variables must be non-negative:\n",
      "    * x<sub>ijt</sub> ≥ 0 for all (i,j) ∈ E and t = 1,...,T\n",
      "    * r<sub>it</sub> ≥ 0 for all i ∈ N and t = 1,...,T\n",
      "    * y<sub>ij</sub> ∈ {0,1} for all (i,j) ∈ E\n",
      "\n",
      "This model represents a mixed-integer linear programming problem, which can be solved using appropriate optimization software to find the optimal flow configuration that maximizes water output at point G. \n",
      "\n"
     ]
    }
   ],
   "source": [
    "print(response.text)"
   ]
  },
  {
   "cell_type": "code",
   "execution_count": 108,
   "id": "859eaf28",
   "metadata": {
    "scrolled": false
   },
   "outputs": [
    {
     "name": "stdout",
     "output_type": "stream",
     "text": [
      "```python\n",
      "import pyomo.environ as pyo\n",
      "\n",
      "# Sample data for pipe capacities (replace with actual data)\n",
      "c = {\n",
      "    ('A', 'B'): 5, ('A', 'C'): 3, ('A', 'F'): 4, ('B', 'C'): 2,\n",
      "    ('B', 'D'): 1, ('B', 'E'): 6, ('C', 'E'): 4, ('C', 'F'): 3,\n",
      "    ('D', 'E'): 2, ('E', 'G'): 7, ('F', 'B'): 2, ('F', 'G'): 5\n",
      "}\n",
      "\n",
      "# Parameters\n",
      "T = 10  # Number of time steps\n",
      "N = {'A', 'B', 'C', 'D', 'E', 'F', 'G'}  # Set of nodes\n",
      "E = {('A', 'B'), ('A', 'C'), ('A', 'F'), ('B', 'C'), ('B', 'D'), ('B', 'E'),\n",
      "     ('C', 'E'), ('C', 'F'), ('D', 'E'), ('E', 'G'), ('F', 'B'), ('F', 'G')}  # Set of edges\n",
      "\n",
      "# Create model\n",
      "model = pyo.ConcreteModel()\n",
      "\n",
      "# Decision variables\n",
      "model.x = pyo.Var(E, range(1, T + 1), within=pyo.NonNegativeReals)  # Flow through pipes\n",
      "model.y = pyo.Var(E, within=pyo.Binary)  # Pipe activation\n",
      "model.r = pyo.Var(N, range(1, T + 1), within=pyo.NonNegativeReals)  # Water released from nodes\n",
      "\n",
      "# Objective function: Maximize outflow at G\n",
      "model.obj = pyo.Objective(expr=sum(model.x['E', 'G', t] for t in range(1, T + 1)), sense=pyo.maximize)\n",
      "\n",
      "# Constraints\n",
      "# Flow conservation\n",
      "model.flow_conservation = pyo.ConstraintList()\n",
      "for t in range(1, T + 1):\n",
      "    model.flow_conservation.add(\n",
      "        expr=max(-4 / 30 * t ** 3 + t ** 2 - 0.234 * t + 3, 0) == sum(model.x[i, j, t] for (i, j) in E if i == 'A'))\n",
      "    for i in N - {'A'}:\n",
      "        model.flow_conservation.add(\n",
      "            expr=sum(model.x[j, i, t] for (j, i) in E if i == j) ==\n",
      "                 sum(model.x[i, j, t] for (i, j) in E if i == j) + model.r[i, t])\n",
      "\n",
      "# Pipe capacity\n",
      "model.pipe_capacity = pyo.ConstraintList()\n",
      "for (i, j) in E:\n",
      "    for t in range(1, T + 1):\n",
      "        model.pipe_capacity.add(expr=model.x[i, j, t] <= c[i, j] * model.y[i, j])\n",
      "\n",
      "# Pipe activation limit\n",
      "model.activation_limit = pyo.Constraint(expr=sum(model.y[i, j] for (i, j) in E) <= 10)\n",
      "\n",
      "# Solve the model\n",
      "solver = pyo.SolverFactory('glpk')  # You can choose other solvers like 'gurobi' or 'cplex'\n",
      "solver.solve(model)\n",
      "\n",
      "# Print the results\n",
      "print(\"Optimal Solution:\")\n",
      "print(\"Objective value:\", pyo.value(model.obj))\n",
      "print(\"Pipe Activation:\")\n",
      "for (i, j) in E:\n",
      "    if pyo.value(model.y[i, j]) == 1:\n",
      "        print(f\"Pipe ({i}, {j}) is activated\")\n",
      "# You can also access and print the flow values (model.x) and released water (model.r) as needed\n",
      "```\n",
      "\n",
      "This code first defines the sample data for pipe capacities in the dictionary `c`. You need to replace these values with your actual data. \n",
      "\n",
      "The rest of the code implements the model as described in the problem statement, including the objective function, constraints, and variable definitions. Finally, it uses the 'glpk' solver to solve the problem and then prints the results, including the objective value and which pipes are activated in the optimal solution.\n",
      "\n"
     ]
    }
   ],
   "source": [
    "print(response2.text)"
   ]
  }
 ],
 "metadata": {
  "kernelspec": {
   "display_name": "Python 3 (ipykernel)",
   "language": "python",
   "name": "python3"
  },
  "language_info": {
   "codemirror_mode": {
    "name": "ipython",
    "version": 3
   },
   "file_extension": ".py",
   "mimetype": "text/x-python",
   "name": "python",
   "nbconvert_exporter": "python",
   "pygments_lexer": "ipython3",
   "version": "3.11.4"
  }
 },
 "nbformat": 4,
 "nbformat_minor": 5
}
