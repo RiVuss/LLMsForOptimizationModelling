{
 "cells": [
  {
   "cell_type": "markdown",
   "id": "0df7edfd",
   "metadata": {},
   "source": [
    "# LLM Optimization Modelling Experiment"
   ]
  },
  {
   "cell_type": "code",
   "execution_count": 156,
   "id": "7f664028",
   "metadata": {},
   "outputs": [],
   "source": [
    "import vertexai\n",
    "from vertexai.preview.generative_models import GenerativeModel\n",
    "from IPython.display import Markdown"
   ]
  },
  {
   "cell_type": "markdown",
   "id": "c106f1be",
   "metadata": {},
   "source": [
    "## 1. Define the problem description"
   ]
  },
  {
   "cell_type": "code",
   "execution_count": 466,
   "id": "9adce4b2",
   "metadata": {},
   "outputs": [],
   "source": [
    "problem = '''The PRODA, S.A. industrial products firm has to face the problem of scheduling\n",
    "the weekly production of its three products (P1, P2 and P3). These products are\n",
    "sold to large industrial firms and PRODA, S.A. wishes to supply its products in\n",
    "quantities that are more profitable for it.\n",
    "\n",
    "Each product entails three operations contributing to the costs: smelting; mechanisation; assembly and\n",
    "packaging. The smelting operations for products P1 and P2 could be subcontracted, but the smelting operation for product P3 requires special equipment, thus\n",
    "preventing the use of subcontracts. PRODA also want to know, how much they should subcontract.\n",
    "\n",
    "For product P1 the direct unit costs of all possible operations are:\n",
    "- smelting at PRODA: 0.30$\n",
    "- subcontracted smelting: 0.50$\n",
    "- mechanisation: 0.20$\n",
    "- Assembly and packaging: 0.3$\n",
    "The unit sales price is 1.50$.\n",
    "\n",
    "For product P2 the direct unit costs of all possible operations are:\n",
    "- smelting at PRODA: 0.50$\n",
    "- subcontracted smelting: 0.60$\n",
    "- mechanisation: 0.10$\n",
    "- Assembly and packaging: 0.20$\n",
    "The unit sales price is 1.80$.\n",
    "\n",
    "For product P3 the direct unit costs of all possible operations are:\n",
    "- smelting at PRODA: 0.40$\n",
    "- mechanisation: 0.27$\n",
    "- Assembly and packaging: 0.20$\n",
    "The unit sales price is 1.97$.\n",
    "\n",
    "Each unit of product P1 requires 6 min of smelting time (if performed at PRODA, S.A.), 6 min of mechanisation time and 3 min of assembly and packaging time, respectively. For product P2, the times are 10, 3 and 2 min, respectively. One unit of product P3 needs 8 min of smelting time, 8 min of mechanisation and 2 min for assembly and packaging. PRODA, S.A. has weekly capacities of 8,000 min of smelting time, 12,000 min of mechanisation time and 10,000 min of assembly and packaging time.\n",
    "The objective is to maximize weekly profits.'''"
   ]
  },
  {
   "cell_type": "markdown",
   "id": "063be1a3",
   "metadata": {},
   "source": [
    "## 2. Generate the mathematical model"
   ]
  },
  {
   "cell_type": "code",
   "execution_count": 467,
   "id": "e31ec80c",
   "metadata": {},
   "outputs": [],
   "source": [
    "#Initializing the session. To replicate, make sure the right credentials are saved in a PATH variable\n",
    "PROJECT_ID = \"llm4optproblems\"\n",
    "REGION = \"us-central1\"\n",
    "vertexai.init(project=PROJECT_ID, location=REGION)\n",
    "\n",
    "#Specifying the model\n",
    "generative_multimodal_model = GenerativeModel(\"gemini-1.5-pro-preview-0409\")\n",
    "\n",
    "#The propmt applied to all problems\n",
    "prompt = '''Let's think step by step. Please write a mathematical optimization model for this problem. If there are parameter values, make sure to include them in the mathematical formulation.\n",
    "'''\n",
    "\n",
    "#Generate the response\n",
    "response = generative_multimodal_model.generate_content([prompt+problem])\n"
   ]
  },
  {
   "cell_type": "code",
   "execution_count": 468,
   "id": "f9adc567",
   "metadata": {},
   "outputs": [
    {
     "data": {
      "text/markdown": [
       "## Mathematical Optimization Model for PRODA, S.A. Weekly Production\n",
       "\n",
       "**Sets:**\n",
       "\n",
       "* $P = \\{P1, P2, P3\\}$: Set of products.\n",
       "\n",
       "**Parameters:**\n",
       "\n",
       "* **Production Costs:**\n",
       "    * $c_{i}^{s}$: Unit cost of smelting product $i$ at PRODA, $\\forall i \\in P$.\n",
       "    * $c_{i}^{ss}$: Unit cost of subcontracted smelting for product $i$, $\\forall i \\in \\{P1, P2\\}$.\n",
       "    * $c_{i}^{m}$: Unit cost of mechanisation for product $i$, $\\forall i \\in P$.\n",
       "    * $c_{i}^{ap}$: Unit cost of assembly and packaging for product $i$, $\\forall i \\in P$.\n",
       "* **Sales Price:**\n",
       "    * $p_{i}$: Unit sales price for product $i$, $\\forall i \\in P$.\n",
       "* **Production Times:**\n",
       "    * $t_{i}^{s}$: Time (in minutes) required for smelting one unit of product $i$ at PRODA, $\\forall i \\in P$.\n",
       "    * $t_{i}^{m}$: Time (in minutes) required for mechanization of one unit of product $i$, $\\forall i \\in P$.\n",
       "    * $t_{i}^{ap}$: Time (in minutes) required for assembly and packaging of one unit of product $i$, $\\forall i \\in P$.\n",
       "* **Capacity:**\n",
       "    * $C^{s}$: Total available smelting time at PRODA per week (in minutes).\n",
       "    * $C^{m}$: Total available mechanization time per week (in minutes).\n",
       "    * $C^{ap}$: Total available assembly and packaging time per week (in minutes).\n",
       "\n",
       "**Parameter Values:**\n",
       "\n",
       "| Parameter | P1  | P2  | P3  |\n",
       "| :-------- | :---- | :---- | :---- |\n",
       "| $c_{i}^{s}$ | 0.30 | 0.50 | 0.40 |\n",
       "| $c_{i}^{ss}$ | 0.50 | 0.60 | -    |\n",
       "| $c_{i}^{m}$ | 0.20 | 0.10 | 0.27 |\n",
       "| $c_{i}^{ap}$ | 0.30 | 0.20 | 0.20 |\n",
       "| $p_{i}$ | 1.50 | 1.80 | 1.97 |\n",
       "| $t_{i}^{s}$ | 6    | 10   | 8    |\n",
       "| $t_{i}^{m}$ | 6    | 3    | 8    |\n",
       "| $t_{i}^{ap}$ | 3    | 2    | 2    |\n",
       "\n",
       "* $C^{s} = 8000$ minutes\n",
       "* $C^{m} = 12000$ minutes\n",
       "* $C^{ap} = 10000$ minutes\n",
       "\n",
       "**Decision Variables:**\n",
       "\n",
       "* $x_{i}$: Number of units of product $i$ produced at PRODA, $\\forall i \\in P$.\n",
       "* $y_{i}$: Number of units of product $i$ subcontracted for smelting, $\\forall i \\in \\{P1, P2\\}$.\n",
       "\n",
       "**Objective Function:**\n",
       "\n",
       "Maximize weekly profit:\n",
       "\n",
       "$$\n",
       "\\sum_{i \\in P} p_{i} (x_{i} + y_{i}) - \\sum_{i \\in P} ( c_{i}^{s} x_{i} + c_{i}^{m} x_{i} + c_{i}^{ap} x_{i}) - \\sum_{i \\in \\{P1, P2\\}} c_{i}^{ss} y_{i}\n",
       "$$\n",
       "\n",
       "**Constraints:**\n",
       "\n",
       "* **Smelting Capacity:**\n",
       "$$\n",
       "\\sum_{i \\in P} t_{i}^{s} x_{i} \\leq C^{s}\n",
       "$$\n",
       "* **Mechanization Capacity:**\n",
       "$$\n",
       "\\sum_{i \\in P} t_{i}^{m} x_{i} \\leq C^{m}\n",
       "$$\n",
       "* **Assembly and Packaging Capacity:**\n",
       "$$\n",
       "\\sum_{i \\in P} t_{i}^{ap} x_{i} \\leq C^{ap}\n",
       "$$\n",
       "* **Non-negativity:**\n",
       "$$\n",
       "x_{i} \\geq 0, \\forall i \\in P\n",
       "$$\n",
       "$$\n",
       "y_{i} \\geq 0, \\forall i \\in \\{P1, P2\\} \n",
       "$$\n",
       "\n",
       "This model will determine the optimal production quantities for each product at PRODA and through subcontracting, maximizing the weekly profits while adhering to the production capacity constraints. \n"
      ],
      "text/plain": [
       "<IPython.core.display.Markdown object>"
      ]
     },
     "execution_count": 468,
     "metadata": {},
     "output_type": "execute_result"
    }
   ],
   "source": [
    "#Show the resopnse in a formatted way\n",
    "Markdown(response.text)"
   ]
  },
  {
   "cell_type": "markdown",
   "id": "49104a9a",
   "metadata": {},
   "source": [
    "## 3. Generate the pyomo code"
   ]
  },
  {
   "cell_type": "code",
   "execution_count": 469,
   "id": "aabea932",
   "metadata": {},
   "outputs": [],
   "source": [
    "#Second prompt gets the output of the previous step and generates the code\n",
    "prompt2 = \"Please write pyomo code for this mathematical problem. Use sample data where needed. Indicate where you use sample data. \\n\"\n",
    "prompt2 += response.text \n",
    "response2 = generative_multimodal_model.generate_content([prompt2])"
   ]
  },
  {
   "cell_type": "code",
   "execution_count": 470,
   "id": "fd2835af",
   "metadata": {
    "scrolled": false
   },
   "outputs": [
    {
     "data": {
      "text/markdown": [
       "```python\n",
       "import pyomo.environ as pyo\n",
       "\n",
       "# Define sets\n",
       "P = ['P1', 'P2', 'P3']\n",
       "\n",
       "# Define parameters (Sample Data)\n",
       "c_s = {'P1': 0.30, 'P2': 0.50, 'P3': 0.40}\n",
       "c_ss = {'P1': 0.50, 'P2': 0.60}\n",
       "c_m = {'P1': 0.20, 'P2': 0.10, 'P3': 0.27}\n",
       "c_ap = {'P1': 0.30, 'P2': 0.20, 'P3': 0.20}\n",
       "p = {'P1': 1.50, 'P2': 1.80, 'P3': 1.97}\n",
       "t_s = {'P1': 6, 'P2': 10, 'P3': 8}\n",
       "t_m = {'P1': 6, 'P2': 3, 'P3': 8}\n",
       "t_ap = {'P1': 3, 'P2': 2, 'P3': 2}\n",
       "C_s = 8000\n",
       "C_m = 12000\n",
       "C_ap = 10000\n",
       "\n",
       "# Create model\n",
       "model = pyo.ConcreteModel()\n",
       "\n",
       "# Define variables\n",
       "model.x = pyo.Var(P, nonneg=True) # units produced at PRODA\n",
       "model.y = pyo.Var(['P1', 'P2'], nonneg=True) # units subcontracted\n",
       "\n",
       "# Define objective function\n",
       "model.profit = pyo.Objective(\n",
       "    expr = sum(p[i] * (model.x[i] + model.y[i]) for i in P) - \n",
       "           sum((c_s[i] + c_m[i] + c_ap[i]) * model.x[i] for i in P) -\n",
       "           sum(c_ss[i] * model.y[i] for i in ['P1', 'P2']),\n",
       "    sense=pyo.maximize\n",
       ")\n",
       "\n",
       "# Define constraints\n",
       "model.smelting_capacity = pyo.Constraint(expr = sum(t_s[i] * model.x[i] for i in P) <= C_s)\n",
       "model.mechanization_capacity = pyo.Constraint(expr = sum(t_m[i] * model.x[i] for i in P) <= C_m)\n",
       "model.assembly_capacity = pyo.Constraint(expr = sum(t_ap[i] * model.x[i] for i in P) <= C_ap)\n",
       "\n",
       "# Solve the model\n",
       "solver = pyo.SolverFactory('glpk')  # You can choose a different solver if you prefer\n",
       "solver.solve(model)\n",
       "\n",
       "# Print results\n",
       "print(\"Optimal Production Plan:\")\n",
       "for i in P:\n",
       "    print(f\"Product {i}: Produce {model.x[i]()} at PRODA, Subcontract {model.y[i]() if i in ['P1', 'P2'] else 0}\")\n",
       "print(f\"Total Profit: {model.profit()}\") \n",
       "```\n",
       "\n",
       "This code first defines the sets and parameters based on the sample data provided. Then, a Pyomo model is created with variables for production quantities (`x`) and subcontracted quantities (`y`). The objective function is defined to maximize profit, and constraints are added for smelting, mechanization, and assembly capacities. Finally, the model is solved using the GLPK solver, and the optimal production plan and total profit are printed. \n"
      ],
      "text/plain": [
       "<IPython.core.display.Markdown object>"
      ]
     },
     "execution_count": 470,
     "metadata": {},
     "output_type": "execute_result"
    }
   ],
   "source": [
    "#Showing the code in a formatted way\n",
    "Markdown(response2.text)"
   ]
  },
  {
   "cell_type": "markdown",
   "id": "b60756ae",
   "metadata": {},
   "source": [
    "## 4. Input problem data and try running the generated code"
   ]
  },
  {
   "cell_type": "code",
   "execution_count": 471,
   "id": "71877310",
   "metadata": {},
   "outputs": [
    {
     "ename": "ValueError",
     "evalue": "Unexpected keyword options found while constructing 'IndexedVar':\n\tnonneg",
     "output_type": "error",
     "traceback": [
      "\u001b[1;31m---------------------------------------------------------------------------\u001b[0m",
      "\u001b[1;31mValueError\u001b[0m                                Traceback (most recent call last)",
      "Cell \u001b[1;32mIn[471], line 23\u001b[0m\n\u001b[0;32m     20\u001b[0m model \u001b[38;5;241m=\u001b[39m pyo\u001b[38;5;241m.\u001b[39mConcreteModel()\n\u001b[0;32m     22\u001b[0m \u001b[38;5;66;03m# Define variables\u001b[39;00m\n\u001b[1;32m---> 23\u001b[0m model\u001b[38;5;241m.\u001b[39mx \u001b[38;5;241m=\u001b[39m pyo\u001b[38;5;241m.\u001b[39mVar(P, nonneg\u001b[38;5;241m=\u001b[39m\u001b[38;5;28;01mTrue\u001b[39;00m) \u001b[38;5;66;03m# units produced at PRODA\u001b[39;00m\n\u001b[0;32m     24\u001b[0m model\u001b[38;5;241m.\u001b[39my \u001b[38;5;241m=\u001b[39m pyo\u001b[38;5;241m.\u001b[39mVar([\u001b[38;5;124m'\u001b[39m\u001b[38;5;124mP1\u001b[39m\u001b[38;5;124m'\u001b[39m, \u001b[38;5;124m'\u001b[39m\u001b[38;5;124mP2\u001b[39m\u001b[38;5;124m'\u001b[39m], nonneg\u001b[38;5;241m=\u001b[39m\u001b[38;5;28;01mTrue\u001b[39;00m) \u001b[38;5;66;03m# units subcontracted\u001b[39;00m\n\u001b[0;32m     26\u001b[0m \u001b[38;5;66;03m# Define objective function\u001b[39;00m\n",
      "File \u001b[1;32m~\\anaconda3\\Lib\\site-packages\\pyomo\\core\\base\\var.py:713\u001b[0m, in \u001b[0;36mVar.__init__\u001b[1;34m(self, *args, **kwargs)\u001b[0m\n\u001b[0;32m    709\u001b[0m \u001b[38;5;66;03m#\u001b[39;00m\n\u001b[0;32m    710\u001b[0m \u001b[38;5;66;03m# Initialize the base class\u001b[39;00m\n\u001b[0;32m    711\u001b[0m \u001b[38;5;66;03m#\u001b[39;00m\n\u001b[0;32m    712\u001b[0m kwargs\u001b[38;5;241m.\u001b[39msetdefault(\u001b[38;5;124m'\u001b[39m\u001b[38;5;124mctype\u001b[39m\u001b[38;5;124m'\u001b[39m, Var)\n\u001b[1;32m--> 713\u001b[0m IndexedComponent\u001b[38;5;241m.\u001b[39m\u001b[38;5;21m__init__\u001b[39m(\u001b[38;5;28mself\u001b[39m, \u001b[38;5;241m*\u001b[39margs, \u001b[38;5;241m*\u001b[39m\u001b[38;5;241m*\u001b[39mkwargs)\n\u001b[0;32m    714\u001b[0m \u001b[38;5;66;03m#\u001b[39;00m\n\u001b[0;32m    715\u001b[0m \u001b[38;5;66;03m# Now that we can call is_indexed(), process bounds initializer\u001b[39;00m\n\u001b[0;32m    716\u001b[0m \u001b[38;5;66;03m#\u001b[39;00m\n\u001b[0;32m    717\u001b[0m \u001b[38;5;28;01mif\u001b[39;00m \u001b[38;5;129;01mnot\u001b[39;00m \u001b[38;5;28mself\u001b[39m\u001b[38;5;241m.\u001b[39mis_indexed() \u001b[38;5;129;01mand\u001b[39;00m \u001b[38;5;129;01mnot\u001b[39;00m \u001b[38;5;28mself\u001b[39m\u001b[38;5;241m.\u001b[39m_dense:\n",
      "File \u001b[1;32m~\\anaconda3\\Lib\\site-packages\\pyomo\\core\\base\\indexed_component.py:305\u001b[0m, in \u001b[0;36mIndexedComponent.__init__\u001b[1;34m(self, *args, **kwds)\u001b[0m\n\u001b[0;32m    302\u001b[0m \u001b[38;5;28;01mdef\u001b[39;00m \u001b[38;5;21m__init__\u001b[39m(\u001b[38;5;28mself\u001b[39m, \u001b[38;5;241m*\u001b[39margs, \u001b[38;5;241m*\u001b[39m\u001b[38;5;241m*\u001b[39mkwds):\n\u001b[0;32m    303\u001b[0m     \u001b[38;5;66;03m#\u001b[39;00m\n\u001b[0;32m    304\u001b[0m     kwds\u001b[38;5;241m.\u001b[39mpop(\u001b[38;5;124m'\u001b[39m\u001b[38;5;124mnoruleinit\u001b[39m\u001b[38;5;124m'\u001b[39m, \u001b[38;5;28;01mNone\u001b[39;00m)\n\u001b[1;32m--> 305\u001b[0m     Component\u001b[38;5;241m.\u001b[39m\u001b[38;5;21m__init__\u001b[39m(\u001b[38;5;28mself\u001b[39m, \u001b[38;5;241m*\u001b[39m\u001b[38;5;241m*\u001b[39mkwds)\n\u001b[0;32m    306\u001b[0m     \u001b[38;5;66;03m#\u001b[39;00m\n\u001b[0;32m    307\u001b[0m     \u001b[38;5;28mself\u001b[39m\u001b[38;5;241m.\u001b[39m_data \u001b[38;5;241m=\u001b[39m {}\n",
      "File \u001b[1;32m~\\anaconda3\\Lib\\site-packages\\pyomo\\core\\base\\component.py:506\u001b[0m, in \u001b[0;36mComponent.__init__\u001b[1;34m(self, **kwds)\u001b[0m\n\u001b[0;32m    504\u001b[0m \u001b[38;5;28mself\u001b[39m\u001b[38;5;241m.\u001b[39m_name \u001b[38;5;241m=\u001b[39m kwds\u001b[38;5;241m.\u001b[39mpop(\u001b[38;5;124m'\u001b[39m\u001b[38;5;124mname\u001b[39m\u001b[38;5;124m'\u001b[39m, \u001b[38;5;28;01mNone\u001b[39;00m)\n\u001b[0;32m    505\u001b[0m \u001b[38;5;28;01mif\u001b[39;00m kwds:\n\u001b[1;32m--> 506\u001b[0m     \u001b[38;5;28;01mraise\u001b[39;00m \u001b[38;5;167;01mValueError\u001b[39;00m(\n\u001b[0;32m    507\u001b[0m         \u001b[38;5;124m\"\u001b[39m\u001b[38;5;124mUnexpected keyword options found while constructing \u001b[39m\u001b[38;5;124m'\u001b[39m\u001b[38;5;132;01m%s\u001b[39;00m\u001b[38;5;124m'\u001b[39m\u001b[38;5;124m:\u001b[39m\u001b[38;5;130;01m\\n\u001b[39;00m\u001b[38;5;130;01m\\t\u001b[39;00m\u001b[38;5;132;01m%s\u001b[39;00m\u001b[38;5;124m\"\u001b[39m\n\u001b[0;32m    508\u001b[0m         \u001b[38;5;241m%\u001b[39m (\u001b[38;5;28mtype\u001b[39m(\u001b[38;5;28mself\u001b[39m)\u001b[38;5;241m.\u001b[39m\u001b[38;5;18m__name__\u001b[39m, \u001b[38;5;124m'\u001b[39m\u001b[38;5;124m,\u001b[39m\u001b[38;5;124m'\u001b[39m\u001b[38;5;241m.\u001b[39mjoin(\u001b[38;5;28msorted\u001b[39m(kwds\u001b[38;5;241m.\u001b[39mkeys())))\n\u001b[0;32m    509\u001b[0m     )\n\u001b[0;32m    510\u001b[0m \u001b[38;5;66;03m#\u001b[39;00m\n\u001b[0;32m    511\u001b[0m \u001b[38;5;66;03m# Verify that ctype has been specified.\u001b[39;00m\n\u001b[0;32m    512\u001b[0m \u001b[38;5;66;03m#\u001b[39;00m\n\u001b[0;32m    513\u001b[0m \u001b[38;5;28;01mif\u001b[39;00m \u001b[38;5;28mself\u001b[39m\u001b[38;5;241m.\u001b[39m_ctype \u001b[38;5;129;01mis\u001b[39;00m \u001b[38;5;28;01mNone\u001b[39;00m:\n",
      "\u001b[1;31mValueError\u001b[0m: Unexpected keyword options found while constructing 'IndexedVar':\n\tnonneg"
     ]
    }
   ],
   "source": [
    "import pyomo.environ as pyo\n",
    "\n",
    "# Define sets\n",
    "P = ['P1', 'P2', 'P3']\n",
    "\n",
    "# Define parameters (Sample Data)\n",
    "c_s = {'P1': 0.30, 'P2': 0.50, 'P3': 0.40}\n",
    "c_ss = {'P1': 0.50, 'P2': 0.60}\n",
    "c_m = {'P1': 0.20, 'P2': 0.10, 'P3': 0.27}\n",
    "c_ap = {'P1': 0.30, 'P2': 0.20, 'P3': 0.20}\n",
    "p = {'P1': 1.50, 'P2': 1.80, 'P3': 1.97}\n",
    "t_s = {'P1': 6, 'P2': 10, 'P3': 8}\n",
    "t_m = {'P1': 6, 'P2': 3, 'P3': 8}\n",
    "t_ap = {'P1': 3, 'P2': 2, 'P3': 2}\n",
    "C_s = 8000\n",
    "C_m = 12000\n",
    "C_ap = 10000\n",
    "\n",
    "# Create model\n",
    "model = pyo.ConcreteModel()\n",
    "\n",
    "# Define variables\n",
    "model.x = pyo.Var(P, nonneg=True) # units produced at PRODA\n",
    "model.y = pyo.Var(['P1', 'P2'], nonneg=True) # units subcontracted\n",
    "\n",
    "# Define objective function\n",
    "model.profit = pyo.Objective(\n",
    "    expr = sum(p[i] * (model.x[i] + model.y[i]) for i in P) - \n",
    "           sum((c_s[i] + c_m[i] + c_ap[i]) * model.x[i] for i in P) -\n",
    "           sum(c_ss[i] * model.y[i] for i in ['P1', 'P2']),\n",
    "    sense=pyo.maximize\n",
    ")\n",
    "\n",
    "# Define constraints\n",
    "model.smelting_capacity = pyo.Constraint(expr = sum(t_s[i] * model.x[i] for i in P) <= C_s)\n",
    "model.mechanization_capacity = pyo.Constraint(expr = sum(t_m[i] * model.x[i] for i in P) <= C_m)\n",
    "model.assembly_capacity = pyo.Constraint(expr = sum(t_ap[i] * model.x[i] for i in P) <= C_ap)\n",
    "\n",
    "# Solve the model\n",
    "solver = pyo.SolverFactory('glpk')  # You can choose a different solver if you prefer\n",
    "solver.solve(model)\n",
    "\n",
    "# Print results\n",
    "print(\"Optimal Production Plan:\")\n",
    "for i in P:\n",
    "    print(f\"Product {i}: Produce {model.x[i]()} at PRODA, Subcontract {model.y[i]() if i in ['P1', 'P2'] else 0}\")\n",
    "print(f\"Total Profit: {model.profit()}\") "
   ]
  },
  {
   "cell_type": "markdown",
   "id": "8f10340f",
   "metadata": {},
   "source": [
    "## 5. Correct the code to verify model viability (optional)"
   ]
  },
  {
   "cell_type": "code",
   "execution_count": null,
   "id": "79612a18",
   "metadata": {},
   "outputs": [],
   "source": []
  },
  {
   "cell_type": "markdown",
   "id": "03525f23",
   "metadata": {},
   "source": [
    "## 6. Printing the outputs as strings, so they can be saved.\n",
    "Those can be rendered as markdown for better readability"
   ]
  },
  {
   "cell_type": "code",
   "execution_count": 474,
   "id": "9d832f4d",
   "metadata": {},
   "outputs": [
    {
     "name": "stdout",
     "output_type": "stream",
     "text": [
      "## Mathematical Optimization Model for PRODA, S.A. Weekly Production\n",
      "\n",
      "**Sets:**\n",
      "\n",
      "* $P = \\{P1, P2, P3\\}$: Set of products.\n",
      "\n",
      "**Parameters:**\n",
      "\n",
      "* **Production Costs:**\n",
      "    * $c_{i}^{s}$: Unit cost of smelting product $i$ at PRODA, $\\forall i \\in P$.\n",
      "    * $c_{i}^{ss}$: Unit cost of subcontracted smelting for product $i$, $\\forall i \\in \\{P1, P2\\}$.\n",
      "    * $c_{i}^{m}$: Unit cost of mechanisation for product $i$, $\\forall i \\in P$.\n",
      "    * $c_{i}^{ap}$: Unit cost of assembly and packaging for product $i$, $\\forall i \\in P$.\n",
      "* **Sales Price:**\n",
      "    * $p_{i}$: Unit sales price for product $i$, $\\forall i \\in P$.\n",
      "* **Production Times:**\n",
      "    * $t_{i}^{s}$: Time (in minutes) required for smelting one unit of product $i$ at PRODA, $\\forall i \\in P$.\n",
      "    * $t_{i}^{m}$: Time (in minutes) required for mechanization of one unit of product $i$, $\\forall i \\in P$.\n",
      "    * $t_{i}^{ap}$: Time (in minutes) required for assembly and packaging of one unit of product $i$, $\\forall i \\in P$.\n",
      "* **Capacity:**\n",
      "    * $C^{s}$: Total available smelting time at PRODA per week (in minutes).\n",
      "    * $C^{m}$: Total available mechanization time per week (in minutes).\n",
      "    * $C^{ap}$: Total available assembly and packaging time per week (in minutes).\n",
      "\n",
      "**Parameter Values:**\n",
      "\n",
      "| Parameter | P1  | P2  | P3  |\n",
      "| :-------- | :---- | :---- | :---- |\n",
      "| $c_{i}^{s}$ | 0.30 | 0.50 | 0.40 |\n",
      "| $c_{i}^{ss}$ | 0.50 | 0.60 | -    |\n",
      "| $c_{i}^{m}$ | 0.20 | 0.10 | 0.27 |\n",
      "| $c_{i}^{ap}$ | 0.30 | 0.20 | 0.20 |\n",
      "| $p_{i}$ | 1.50 | 1.80 | 1.97 |\n",
      "| $t_{i}^{s}$ | 6    | 10   | 8    |\n",
      "| $t_{i}^{m}$ | 6    | 3    | 8    |\n",
      "| $t_{i}^{ap}$ | 3    | 2    | 2    |\n",
      "\n",
      "* $C^{s} = 8000$ minutes\n",
      "* $C^{m} = 12000$ minutes\n",
      "* $C^{ap} = 10000$ minutes\n",
      "\n",
      "**Decision Variables:**\n",
      "\n",
      "* $x_{i}$: Number of units of product $i$ produced at PRODA, $\\forall i \\in P$.\n",
      "* $y_{i}$: Number of units of product $i$ subcontracted for smelting, $\\forall i \\in \\{P1, P2\\}$.\n",
      "\n",
      "**Objective Function:**\n",
      "\n",
      "Maximize weekly profit:\n",
      "\n",
      "$$\n",
      "\\sum_{i \\in P} p_{i} (x_{i} + y_{i}) - \\sum_{i \\in P} ( c_{i}^{s} x_{i} + c_{i}^{m} x_{i} + c_{i}^{ap} x_{i}) - \\sum_{i \\in \\{P1, P2\\}} c_{i}^{ss} y_{i}\n",
      "$$\n",
      "\n",
      "**Constraints:**\n",
      "\n",
      "* **Smelting Capacity:**\n",
      "$$\n",
      "\\sum_{i \\in P} t_{i}^{s} x_{i} \\leq C^{s}\n",
      "$$\n",
      "* **Mechanization Capacity:**\n",
      "$$\n",
      "\\sum_{i \\in P} t_{i}^{m} x_{i} \\leq C^{m}\n",
      "$$\n",
      "* **Assembly and Packaging Capacity:**\n",
      "$$\n",
      "\\sum_{i \\in P} t_{i}^{ap} x_{i} \\leq C^{ap}\n",
      "$$\n",
      "* **Non-negativity:**\n",
      "$$\n",
      "x_{i} \\geq 0, \\forall i \\in P\n",
      "$$\n",
      "$$\n",
      "y_{i} \\geq 0, \\forall i \\in \\{P1, P2\\} \n",
      "$$\n",
      "\n",
      "This model will determine the optimal production quantities for each product at PRODA and through subcontracting, maximizing the weekly profits while adhering to the production capacity constraints. \n",
      "\n"
     ]
    }
   ],
   "source": [
    "print(response.text)"
   ]
  },
  {
   "cell_type": "code",
   "execution_count": 475,
   "id": "57e86877",
   "metadata": {
    "scrolled": false
   },
   "outputs": [
    {
     "name": "stdout",
     "output_type": "stream",
     "text": [
      "```python\n",
      "import pyomo.environ as pyo\n",
      "\n",
      "# Define sets\n",
      "P = ['P1', 'P2', 'P3']\n",
      "\n",
      "# Define parameters (Sample Data)\n",
      "c_s = {'P1': 0.30, 'P2': 0.50, 'P3': 0.40}\n",
      "c_ss = {'P1': 0.50, 'P2': 0.60}\n",
      "c_m = {'P1': 0.20, 'P2': 0.10, 'P3': 0.27}\n",
      "c_ap = {'P1': 0.30, 'P2': 0.20, 'P3': 0.20}\n",
      "p = {'P1': 1.50, 'P2': 1.80, 'P3': 1.97}\n",
      "t_s = {'P1': 6, 'P2': 10, 'P3': 8}\n",
      "t_m = {'P1': 6, 'P2': 3, 'P3': 8}\n",
      "t_ap = {'P1': 3, 'P2': 2, 'P3': 2}\n",
      "C_s = 8000\n",
      "C_m = 12000\n",
      "C_ap = 10000\n",
      "\n",
      "# Create model\n",
      "model = pyo.ConcreteModel()\n",
      "\n",
      "# Define variables\n",
      "model.x = pyo.Var(P, nonneg=True) # units produced at PRODA\n",
      "model.y = pyo.Var(['P1', 'P2'], nonneg=True) # units subcontracted\n",
      "\n",
      "# Define objective function\n",
      "model.profit = pyo.Objective(\n",
      "    expr = sum(p[i] * (model.x[i] + model.y[i]) for i in P) - \n",
      "           sum((c_s[i] + c_m[i] + c_ap[i]) * model.x[i] for i in P) -\n",
      "           sum(c_ss[i] * model.y[i] for i in ['P1', 'P2']),\n",
      "    sense=pyo.maximize\n",
      ")\n",
      "\n",
      "# Define constraints\n",
      "model.smelting_capacity = pyo.Constraint(expr = sum(t_s[i] * model.x[i] for i in P) <= C_s)\n",
      "model.mechanization_capacity = pyo.Constraint(expr = sum(t_m[i] * model.x[i] for i in P) <= C_m)\n",
      "model.assembly_capacity = pyo.Constraint(expr = sum(t_ap[i] * model.x[i] for i in P) <= C_ap)\n",
      "\n",
      "# Solve the model\n",
      "solver = pyo.SolverFactory('glpk')  # You can choose a different solver if you prefer\n",
      "solver.solve(model)\n",
      "\n",
      "# Print results\n",
      "print(\"Optimal Production Plan:\")\n",
      "for i in P:\n",
      "    print(f\"Product {i}: Produce {model.x[i]()} at PRODA, Subcontract {model.y[i]() if i in ['P1', 'P2'] else 0}\")\n",
      "print(f\"Total Profit: {model.profit()}\") \n",
      "```\n",
      "\n",
      "This code first defines the sets and parameters based on the sample data provided. Then, a Pyomo model is created with variables for production quantities (`x`) and subcontracted quantities (`y`). The objective function is defined to maximize profit, and constraints are added for smelting, mechanization, and assembly capacities. Finally, the model is solved using the GLPK solver, and the optimal production plan and total profit are printed. \n",
      "\n"
     ]
    }
   ],
   "source": [
    "print(response2.text)"
   ]
  }
 ],
 "metadata": {
  "kernelspec": {
   "display_name": "Python 3 (ipykernel)",
   "language": "python",
   "name": "python3"
  },
  "language_info": {
   "codemirror_mode": {
    "name": "ipython",
    "version": 3
   },
   "file_extension": ".py",
   "mimetype": "text/x-python",
   "name": "python",
   "nbconvert_exporter": "python",
   "pygments_lexer": "ipython3",
   "version": "3.11.4"
  }
 },
 "nbformat": 4,
 "nbformat_minor": 5
}
