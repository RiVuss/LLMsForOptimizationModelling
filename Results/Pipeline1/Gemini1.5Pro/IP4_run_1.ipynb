{
  "cells": [
    {
      "cell_type": "markdown",
      "id": "f0005e9e",
      "metadata": {
        "id": "f0005e9e"
      },
      "source": [
        "# LLM Optimization Modelling Experiment"
      ]
    },
    {
      "cell_type": "code",
      "execution_count": null,
      "id": "7f664028",
      "metadata": {
        "id": "7f664028"
      },
      "outputs": [],
      "source": [
        "import vertexai\n",
        "from vertexai.preview.generative_models import GenerativeModel, Image\n",
        "from IPython.display import Markdown"
      ]
    },
    {
      "cell_type": "markdown",
      "id": "f527d6af",
      "metadata": {
        "id": "f527d6af"
      },
      "source": [
        "## 1. Define the problem description"
      ]
    },
    {
      "cell_type": "code",
      "execution_count": null,
      "id": "25055ffd",
      "metadata": {
        "id": "25055ffd"
      },
      "outputs": [],
      "source": [
        "problem = '''Imagine you own a small shop, and you're trying to manage your employees' working hours and sales targets efficiently.\n",
        "You have three kinds of goals overall: sales goals, employee hours goals and overtime goals.\n",
        "\n",
        "Sales Goals:\n",
        "You have a target of selling 5500 units.\n",
        "But sometimes, you might sell fewer (negative deviation) or more (positive deviation) than this target.\n",
        "On average, your full-time employees will sell 5 records per hour and your part-time employees will sell 2 records per hour.\n",
        "\n",
        "Employee Hours:\n",
        "You have both full-time and part-time employees.\n",
        "Your full-time employees are expected to work a total of 800 hours, while part-time employees are expected to work 320 hours.\n",
        "Similarly, like sales, there could be deviations in these working hours.\n",
        "\n",
        "Overtime:\n",
        "Additionally, your employees might end up working overtime.\n",
        "You have a target of 100 hours of overtime for full-time employees.\n",
        "You are not concerned about limiting the overtime of part-time employees.\n",
        "Again, you might deviate from this goal.\n",
        "\n",
        "Each of these deviations has a different priority for you.\n",
        "P1 to P4 are priority factors for each deviation.\n",
        "Your most important goal is to achieve your sales goal.\n",
        "Second to that is the goal to not exceed 100 overtime hours for full-time employees.\n",
        "Then, you next priority is to fully utilize your full-time and part time employees.\n",
        "Your last goal with the lowest priority, you want to keep general overtime hours for both kinds of employees as low as possible.\n",
        "In addition to the general priorities of you goals, you are twice as concerned about fully utilizing the full-time employee hours.\n",
        "Finally, overtime hours of part-time employees have a relative cost of three times that of full-time employees.\n",
        "\n",
        "Now, the goal here is to minimize the overall impact of these deviations, considering their priorities.\n",
        "This means finding the best balance between sales targets, employee hours, and overtime, while keeping in mind which deviations are more critical for your business.'''"
      ]
    },
    {
      "cell_type": "markdown",
      "id": "472cf9ad",
      "metadata": {
        "id": "472cf9ad"
      },
      "source": [
        "## 2. Generate the mathematical model"
      ]
    },
    {
      "cell_type": "code",
      "execution_count": null,
      "id": "e31ec80c",
      "metadata": {
        "id": "e31ec80c"
      },
      "outputs": [],
      "source": [
        "#Initializing the session. To replicate, make sure the right credentials are saved in a PATH variable\n",
        "PROJECT_ID = \"llm4optproblems\"\n",
        "REGION = \"us-central1\"\n",
        "vertexai.init(project=PROJECT_ID, location=REGION)\n",
        "\n",
        "#Specifying the model\n",
        "generative_multimodal_model = GenerativeModel(\"gemini-1.5-pro-preview-0409\")\n",
        "\n",
        "#The propmt applied to all problems\n",
        "prompt = '''Please formulate a mathematical optimization model for this problem. Include parameters, decision variables, the objective function and the constraints in your answer.\n",
        "'''\n",
        "\n",
        "#Generate the response\n",
        "response = generative_multimodal_model.generate_content([prompt+problem])\n"
      ]
    },
    {
      "cell_type": "code",
      "execution_count": null,
      "id": "f9adc567",
      "metadata": {
        "id": "f9adc567",
        "outputId": "58ab5e49-3e71-4d12-9ad1-1649d9aa1227"
      },
      "outputs": [
        {
          "data": {
            "text/markdown": [
              "## Mathematical Optimization Model for Employee Management\n",
              "\n",
              "**Parameters:**\n",
              "\n",
              "* **S_target:** Target sales (units) = 5500\n",
              "* **S_FTH:** Sales per hour for a full-time employee = 5 units/hour\n",
              "* **S_PTH:** Sales per hour for a part-time employee = 2 units/hour\n",
              "* **H_FT:** Target hours for full-time employees = 800 hours\n",
              "* **H_PT:** Target hours for part-time employees = 320 hours\n",
              "* **OT_FT_target:** Target overtime hours for full-time employees = 100 hours\n",
              "* **P1:** Priority factor for sales deviation\n",
              "* **P2:** Priority factor for full-time overtime deviation\n",
              "* **P3:** Priority factor for full-time employee hour deviation\n",
              "* **P4:** Priority factor for part-time employee hour deviation\n",
              "* **P5:** Priority factor for general overtime deviation\n",
              "\n",
              "**Decision Variables:**\n",
              "\n",
              "* **S_dev:** Deviation from the sales target (units)\n",
              "* **H_FT_dev:** Deviation from the target full-time employee hours (hours)\n",
              "* **H_PT_dev:** Deviation from the target part-time employee hours (hours)\n",
              "* **OT_FT_dev:** Deviation from the target full-time overtime hours (hours)\n",
              "* **OT_FT:** Total full-time overtime hours (hours)\n",
              "* **OT_PT:** Total part-time overtime hours (hours)\n",
              "\n",
              "**Objective Function:**\n",
              "\n",
              "Minimize the weighted sum of deviations:\n",
              "\n",
              "```\n",
              "Minimize: \n",
              "  P1 * |S_dev| + \n",
              "  P2 * |OT_FT_dev| + \n",
              "  2 * P3 * |H_FT_dev| + \n",
              "  P4 * |H_PT_dev| + \n",
              "  P5 * (OT_FT + 3 * OT_PT) \n",
              "```\n",
              "\n",
              "**Constraints:**\n",
              "\n",
              "1. **Sales Deviation:** \n",
              "   * S_dev = S_target - (S_FTH * (H_FT + H_FT_dev + OT_FT) + S_PTH * (H_PT + H_PT_dev + OT_PT))\n",
              "\n",
              "2. **Full-time Overtime Deviation:** \n",
              "   * OT_FT_dev = OT_FT_target - OT_FT\n",
              "\n",
              "3. **Non-negativity of Overtime:**\n",
              "   * OT_FT >= 0\n",
              "   * OT_PT >= 0 \n",
              "\n",
              "**Explanation:**\n",
              "\n",
              "* The objective function minimizes the weighted sum of deviations from the various goals. \n",
              "* The priorities (P1 to P5) reflect the relative importance of each deviation. \n",
              "* The constraint on sales deviation calculates the difference between the target sales and the actual sales based on employee hours and sales rates.\n",
              "* The constraint on full-time overtime deviation calculates the difference between the targeted and actual overtime hours for full-time employees.\n",
              "* Non-negativity constraints ensure that overtime hours are not negative.\n",
              "\n",
              "This model allows you to find the optimal balance between sales goals, employee hours, and overtime while considering the priorities you have set for your business. By adjusting the priority factors, you can fine-tune the model to better reflect your specific needs and preferences. \n"
            ],
            "text/plain": [
              "<IPython.core.display.Markdown object>"
            ]
          },
          "execution_count": 24,
          "metadata": {},
          "output_type": "execute_result"
        }
      ],
      "source": [
        "#Show the resopnse in a formatted way\n",
        "Markdown(response.text)"
      ]
    },
    {
      "cell_type": "markdown",
      "id": "75796979",
      "metadata": {
        "id": "75796979"
      },
      "source": [
        "## 3. Generate the pyomo code"
      ]
    },
    {
      "cell_type": "code",
      "execution_count": null,
      "id": "aabea932",
      "metadata": {
        "id": "aabea932"
      },
      "outputs": [],
      "source": [
        "#Second prompt gets the output of the previous step and generates the code\n",
        "prompt2 = \"Please write pyomo code for this mathematical problem. Use sample data where needed. Indicate where you use sample data. \\n\"\n",
        "prompt2 += response.text\n",
        "response2 = generative_multimodal_model.generate_content([prompt2])"
      ]
    },
    {
      "cell_type": "code",
      "execution_count": null,
      "id": "fd2835af",
      "metadata": {
        "scrolled": false,
        "id": "fd2835af",
        "outputId": "edbbbb22-64d6-4c09-c6aa-c639f0fb7305"
      },
      "outputs": [
        {
          "data": {
            "text/markdown": [
              "```python\n",
              "import pyomo.environ as pyo\n",
              "\n",
              "# Sample Data - Replace with your actual data\n",
              "S_target = 5500  \n",
              "S_FTH = 5  \n",
              "S_PTH = 2  \n",
              "H_FT = 800  \n",
              "H_PT = 320 \n",
              "OT_FT_target = 100  \n",
              "P1 = 1  \n",
              "P2 = 0.8  \n",
              "P3 = 0.5 \n",
              "P4 = 0.6 \n",
              "P5 = 0.2  \n",
              "\n",
              "# Model Creation\n",
              "model = pyo.ConcreteModel()\n",
              "\n",
              "# Decision Variables\n",
              "model.S_dev = pyo.Var(within=pyo.Reals)\n",
              "model.H_FT_dev = pyo.Var(within=pyo.Reals)\n",
              "model.H_PT_dev = pyo.Var(within=pyo.Reals)\n",
              "model.OT_FT_dev = pyo.Var(within=pyo.Reals)\n",
              "model.OT_FT = pyo.Var(within=pyo.NonNegativeReals)\n",
              "model.OT_PT = pyo.Var(within=pyo.NonNegativeReals)\n",
              "\n",
              "# Objective Function\n",
              "model.obj = pyo.Objective(\n",
              "    expr= P1 * abs(model.S_dev) + \n",
              "          P2 * abs(model.OT_FT_dev) + \n",
              "          2 * P3 * abs(model.H_FT_dev) + \n",
              "          P4 * abs(model.H_PT_dev) + \n",
              "          P5 * (model.OT_FT + 3 * model.OT_PT), \n",
              "    sense=pyo.minimize)\n",
              "\n",
              "# Constraints\n",
              "model.sales_deviation = pyo.Constraint(\n",
              "    expr= model.S_dev == S_target - (S_FTH * (H_FT + model.H_FT_dev + model.OT_FT) + S_PTH * (H_PT + model.H_PT_dev + model.OT_PT)))\n",
              "\n",
              "model.ot_ft_deviation = pyo.Constraint(\n",
              "    expr= model.OT_FT_dev == OT_FT_target - model.OT_FT)\n",
              "\n",
              "# Solve the Model\n",
              "solver = pyo.SolverFactory('cbc') # You can choose other solvers as well\n",
              "results = solver.solve(model)\n",
              "\n",
              "# Print Results\n",
              "print(results)\n",
              "print(\"Optimal Solution:\")\n",
              "print(\"Sales Deviation:\", pyo.value(model.S_dev))\n",
              "print(\"Full-Time Hours Deviation:\", pyo.value(model.H_FT_dev))\n",
              "print(\"Part-Time Hours Deviation:\", pyo.value(model.H_PT_dev))\n",
              "print(\"Full-Time Overtime Deviation:\", pyo.value(model.OT_FT_dev))\n",
              "print(\"Full-Time Overtime Hours:\", pyo.value(model.OT_FT))\n",
              "print(\"Part-Time Overtime Hours:\", pyo.value(model.OT_PT))\n",
              "```\n",
              "\n",
              "This code defines the Pyomo model based on the mathematical formulation provided. I've included sample data for the parameters, which you should replace with your actual values. \n",
              "\n",
              "Remember that the choice of solver can impact the solution process. The 'cbc' solver is used here, but other solvers like 'glpk', 'gurobi', etc., can be used depending on your needs and availability. \n"
            ],
            "text/plain": [
              "<IPython.core.display.Markdown object>"
            ]
          },
          "execution_count": 26,
          "metadata": {},
          "output_type": "execute_result"
        }
      ],
      "source": [
        "#Showing the code in a formatted way\n",
        "Markdown(response2.text)"
      ]
    },
    {
      "cell_type": "markdown",
      "id": "b60756ae",
      "metadata": {
        "id": "b60756ae"
      },
      "source": [
        "## 4. Input problem data and try running the generated code"
      ]
    },
    {
      "cell_type": "code",
      "execution_count": 3,
      "id": "a318f178",
      "metadata": {
        "colab": {
          "base_uri": "https://localhost:8080/"
        },
        "id": "a318f178",
        "outputId": "66a63b26-720e-4172-b6dc-9b3c82c3e9c8"
      },
      "outputs": [
        {
          "output_type": "stream",
          "name": "stdout",
          "text": [
            "\n",
            "Problem: \n",
            "- Lower bound: -inf\n",
            "  Upper bound: inf\n",
            "  Number of objectives: 1\n",
            "  Number of constraints: 0\n",
            "  Number of variables: 6\n",
            "  Sense: unknown\n",
            "Solver: \n",
            "- Status: ok\n",
            "  Message: couenne\\x3a Optimal\n",
            "  Termination condition: optimal\n",
            "  Id: 3\n",
            "  Error rc: 0\n",
            "  Time: 11.150506258010864\n",
            "Solution: \n",
            "- number of solutions: 0\n",
            "  number of solutions displayed: 0\n",
            "\n",
            "Optimal Solution:\n",
            "Sales Deviation: 0.0\n",
            "Full-Time Hours Deviation: 0.0\n",
            "Part-Time Hours Deviation: 0.0\n",
            "Full-Time Overtime Deviation: -72.0\n",
            "Full-Time Overtime Hours: 172.0\n",
            "Part-Time Overtime Hours: 0.0\n"
          ]
        }
      ],
      "source": [
        "import pyomo.environ as pyo\n",
        "\n",
        "# Sample Data - Replace with your actual data\n",
        "S_target = 5500\n",
        "S_FTH = 5\n",
        "S_PTH = 2\n",
        "H_FT = 800\n",
        "H_PT = 320\n",
        "OT_FT_target = 100\n",
        "P1 = 1\n",
        "P2 = 0.8\n",
        "P3 = 0.5\n",
        "P4 = 0.6\n",
        "P5 = 0.2\n",
        "\n",
        "# Model Creation\n",
        "model = pyo.ConcreteModel()\n",
        "\n",
        "# Decision Variables\n",
        "model.S_dev = pyo.Var(within=pyo.Reals)\n",
        "model.H_FT_dev = pyo.Var(within=pyo.Reals)\n",
        "model.H_PT_dev = pyo.Var(within=pyo.Reals)\n",
        "model.OT_FT_dev = pyo.Var(within=pyo.Reals)\n",
        "model.OT_FT = pyo.Var(within=pyo.NonNegativeReals)\n",
        "model.OT_PT = pyo.Var(within=pyo.NonNegativeReals)\n",
        "\n",
        "# Objective Function\n",
        "model.obj = pyo.Objective(\n",
        "    expr= P1 * abs(model.S_dev) +\n",
        "          P2 * abs(model.OT_FT_dev) +\n",
        "          2 * P3 * abs(model.H_FT_dev) +\n",
        "          P4 * abs(model.H_PT_dev) +\n",
        "          P5 * (model.OT_FT + 3 * model.OT_PT),\n",
        "    sense=pyo.minimize)\n",
        "\n",
        "# Constraints\n",
        "model.sales_deviation = pyo.Constraint(\n",
        "    expr= model.S_dev == S_target - (S_FTH * (H_FT + model.H_FT_dev + model.OT_FT) + S_PTH * (H_PT + model.H_PT_dev + model.OT_PT)))\n",
        "\n",
        "model.ot_ft_deviation = pyo.Constraint(\n",
        "    expr= model.OT_FT_dev == OT_FT_target - model.OT_FT)\n",
        "\n",
        "# Solve the Model\n",
        "solver = pyo.SolverFactory('couenne') # You can choose other solvers as well\n",
        "results = solver.solve(model)\n",
        "\n",
        "# Print Results\n",
        "print(results)\n",
        "print(\"Optimal Solution:\")\n",
        "print(\"Sales Deviation:\", pyo.value(model.S_dev))\n",
        "print(\"Full-Time Hours Deviation:\", pyo.value(model.H_FT_dev))\n",
        "print(\"Part-Time Hours Deviation:\", pyo.value(model.H_PT_dev))\n",
        "print(\"Full-Time Overtime Deviation:\", pyo.value(model.OT_FT_dev))\n",
        "print(\"Full-Time Overtime Hours:\", pyo.value(model.OT_FT))\n",
        "print(\"Part-Time Overtime Hours:\", pyo.value(model.OT_PT))"
      ]
    },
    {
      "cell_type": "markdown",
      "id": "1be0926e",
      "metadata": {
        "id": "1be0926e"
      },
      "source": [
        "## 5. Correct the code to verify model viability (optional)"
      ]
    },
    {
      "cell_type": "code",
      "execution_count": null,
      "id": "8b37acfc",
      "metadata": {
        "scrolled": false,
        "id": "8b37acfc"
      },
      "outputs": [],
      "source": []
    },
    {
      "cell_type": "markdown",
      "id": "1de8e8b4",
      "metadata": {
        "id": "1de8e8b4"
      },
      "source": [
        "## 6. Printing the outputs as strings, so they can be saved.\n",
        "Those can be rendered as markdown for better readability"
      ]
    },
    {
      "cell_type": "code",
      "execution_count": null,
      "id": "e904cf68",
      "metadata": {
        "id": "e904cf68",
        "outputId": "2d794b64-2bf6-4bf0-ca25-bac57f95bc85"
      },
      "outputs": [
        {
          "name": "stdout",
          "output_type": "stream",
          "text": [
            "## Mathematical Optimization Model for Employee Management\n",
            "\n",
            "**Parameters:**\n",
            "\n",
            "* **S_target:** Target sales (units) = 5500\n",
            "* **S_FTH:** Sales per hour for a full-time employee = 5 units/hour\n",
            "* **S_PTH:** Sales per hour for a part-time employee = 2 units/hour\n",
            "* **H_FT:** Target hours for full-time employees = 800 hours\n",
            "* **H_PT:** Target hours for part-time employees = 320 hours\n",
            "* **OT_FT_target:** Target overtime hours for full-time employees = 100 hours\n",
            "* **P1:** Priority factor for sales deviation\n",
            "* **P2:** Priority factor for full-time overtime deviation\n",
            "* **P3:** Priority factor for full-time employee hour deviation\n",
            "* **P4:** Priority factor for part-time employee hour deviation\n",
            "* **P5:** Priority factor for general overtime deviation\n",
            "\n",
            "**Decision Variables:**\n",
            "\n",
            "* **S_dev:** Deviation from the sales target (units)\n",
            "* **H_FT_dev:** Deviation from the target full-time employee hours (hours)\n",
            "* **H_PT_dev:** Deviation from the target part-time employee hours (hours)\n",
            "* **OT_FT_dev:** Deviation from the target full-time overtime hours (hours)\n",
            "* **OT_FT:** Total full-time overtime hours (hours)\n",
            "* **OT_PT:** Total part-time overtime hours (hours)\n",
            "\n",
            "**Objective Function:**\n",
            "\n",
            "Minimize the weighted sum of deviations:\n",
            "\n",
            "```\n",
            "Minimize: \n",
            "  P1 * |S_dev| + \n",
            "  P2 * |OT_FT_dev| + \n",
            "  2 * P3 * |H_FT_dev| + \n",
            "  P4 * |H_PT_dev| + \n",
            "  P5 * (OT_FT + 3 * OT_PT) \n",
            "```\n",
            "\n",
            "**Constraints:**\n",
            "\n",
            "1. **Sales Deviation:** \n",
            "   * S_dev = S_target - (S_FTH * (H_FT + H_FT_dev + OT_FT) + S_PTH * (H_PT + H_PT_dev + OT_PT))\n",
            "\n",
            "2. **Full-time Overtime Deviation:** \n",
            "   * OT_FT_dev = OT_FT_target - OT_FT\n",
            "\n",
            "3. **Non-negativity of Overtime:**\n",
            "   * OT_FT >= 0\n",
            "   * OT_PT >= 0 \n",
            "\n",
            "**Explanation:**\n",
            "\n",
            "* The objective function minimizes the weighted sum of deviations from the various goals. \n",
            "* The priorities (P1 to P5) reflect the relative importance of each deviation. \n",
            "* The constraint on sales deviation calculates the difference between the target sales and the actual sales based on employee hours and sales rates.\n",
            "* The constraint on full-time overtime deviation calculates the difference between the targeted and actual overtime hours for full-time employees.\n",
            "* Non-negativity constraints ensure that overtime hours are not negative.\n",
            "\n",
            "This model allows you to find the optimal balance between sales goals, employee hours, and overtime while considering the priorities you have set for your business. By adjusting the priority factors, you can fine-tune the model to better reflect your specific needs and preferences. \n",
            "\n"
          ]
        }
      ],
      "source": [
        "print(response.text)"
      ]
    },
    {
      "cell_type": "code",
      "execution_count": null,
      "id": "859eaf28",
      "metadata": {
        "scrolled": false,
        "id": "859eaf28",
        "outputId": "bc9b89e2-b276-4c9e-ce9b-ecf9afaf2073"
      },
      "outputs": [
        {
          "name": "stdout",
          "output_type": "stream",
          "text": [
            "```python\n",
            "import pyomo.environ as pyo\n",
            "\n",
            "# Sample Data - Replace with your actual data\n",
            "S_target = 5500  \n",
            "S_FTH = 5  \n",
            "S_PTH = 2  \n",
            "H_FT = 800  \n",
            "H_PT = 320 \n",
            "OT_FT_target = 100  \n",
            "P1 = 1  \n",
            "P2 = 0.8  \n",
            "P3 = 0.5 \n",
            "P4 = 0.6 \n",
            "P5 = 0.2  \n",
            "\n",
            "# Model Creation\n",
            "model = pyo.ConcreteModel()\n",
            "\n",
            "# Decision Variables\n",
            "model.S_dev = pyo.Var(within=pyo.Reals)\n",
            "model.H_FT_dev = pyo.Var(within=pyo.Reals)\n",
            "model.H_PT_dev = pyo.Var(within=pyo.Reals)\n",
            "model.OT_FT_dev = pyo.Var(within=pyo.Reals)\n",
            "model.OT_FT = pyo.Var(within=pyo.NonNegativeReals)\n",
            "model.OT_PT = pyo.Var(within=pyo.NonNegativeReals)\n",
            "\n",
            "# Objective Function\n",
            "model.obj = pyo.Objective(\n",
            "    expr= P1 * abs(model.S_dev) + \n",
            "          P2 * abs(model.OT_FT_dev) + \n",
            "          2 * P3 * abs(model.H_FT_dev) + \n",
            "          P4 * abs(model.H_PT_dev) + \n",
            "          P5 * (model.OT_FT + 3 * model.OT_PT), \n",
            "    sense=pyo.minimize)\n",
            "\n",
            "# Constraints\n",
            "model.sales_deviation = pyo.Constraint(\n",
            "    expr= model.S_dev == S_target - (S_FTH * (H_FT + model.H_FT_dev + model.OT_FT) + S_PTH * (H_PT + model.H_PT_dev + model.OT_PT)))\n",
            "\n",
            "model.ot_ft_deviation = pyo.Constraint(\n",
            "    expr= model.OT_FT_dev == OT_FT_target - model.OT_FT)\n",
            "\n",
            "# Solve the Model\n",
            "solver = pyo.SolverFactory('cbc') # You can choose other solvers as well\n",
            "results = solver.solve(model)\n",
            "\n",
            "# Print Results\n",
            "print(results)\n",
            "print(\"Optimal Solution:\")\n",
            "print(\"Sales Deviation:\", pyo.value(model.S_dev))\n",
            "print(\"Full-Time Hours Deviation:\", pyo.value(model.H_FT_dev))\n",
            "print(\"Part-Time Hours Deviation:\", pyo.value(model.H_PT_dev))\n",
            "print(\"Full-Time Overtime Deviation:\", pyo.value(model.OT_FT_dev))\n",
            "print(\"Full-Time Overtime Hours:\", pyo.value(model.OT_FT))\n",
            "print(\"Part-Time Overtime Hours:\", pyo.value(model.OT_PT))\n",
            "```\n",
            "\n",
            "This code defines the Pyomo model based on the mathematical formulation provided. I've included sample data for the parameters, which you should replace with your actual values. \n",
            "\n",
            "Remember that the choice of solver can impact the solution process. The 'cbc' solver is used here, but other solvers like 'glpk', 'gurobi', etc., can be used depending on your needs and availability. \n",
            "\n"
          ]
        }
      ],
      "source": [
        "print(response2.text)"
      ]
    }
  ],
  "metadata": {
    "kernelspec": {
      "display_name": "Python 3 (ipykernel)",
      "language": "python",
      "name": "python3"
    },
    "language_info": {
      "codemirror_mode": {
        "name": "ipython",
        "version": 3
      },
      "file_extension": ".py",
      "mimetype": "text/x-python",
      "name": "python",
      "nbconvert_exporter": "python",
      "pygments_lexer": "ipython3",
      "version": "3.11.4"
    },
    "colab": {
      "provenance": []
    }
  },
  "nbformat": 4,
  "nbformat_minor": 5
}