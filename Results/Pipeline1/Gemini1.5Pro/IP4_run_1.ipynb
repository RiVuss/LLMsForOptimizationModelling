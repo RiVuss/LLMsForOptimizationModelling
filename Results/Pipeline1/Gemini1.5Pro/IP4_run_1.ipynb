{
 "cells": [
  {
   "cell_type": "markdown",
   "id": "0df7edfd",
   "metadata": {},
   "source": [
    "# LLM Optimization Modelling Experiment"
   ]
  },
  {
   "cell_type": "code",
   "execution_count": 156,
   "id": "7f664028",
   "metadata": {},
   "outputs": [],
   "source": [
    "import vertexai\n",
    "from vertexai.preview.generative_models import GenerativeModel\n",
    "from IPython.display import Markdown"
   ]
  },
  {
   "cell_type": "markdown",
   "id": "c106f1be",
   "metadata": {},
   "source": [
    "## 1. Define the problem description"
   ]
  },
  {
   "cell_type": "code",
   "execution_count": 598,
   "id": "9adce4b2",
   "metadata": {},
   "outputs": [],
   "source": [
    "problem = '''Imagine you own a small shop, and you're trying to manage your employees' working hours and sales targets efficiently.\n",
    "You have three goals overall: sales goals, employee hours goals and overtime goals.\n",
    "\n",
    "Sales Goals: \n",
    "You have a target of selling 5500 units. \n",
    "But sometimes, you might sell fewer (negative deviation) or more (positive deviation) than this target. \n",
    "\n",
    "Employee Hours: \n",
    "You have both full-time and part-time employees. \n",
    "Your full-time employees are expected to work a total of 800 hours, while part-time employees are expected to work 320 hours. \n",
    "Similarly, like sales, there could be deviations in these working hours. \n",
    "\n",
    "Overtime: \n",
    "Additionally, your employees might end up working overtime. \n",
    "You have a target of 100 hours of overtime for full-time employees.\n",
    "You are not concerned about limiting the overtime of part-time employees.\n",
    "Again, you might deviate from this goal.\n",
    "\n",
    "Each of these deviations has a different priority for you. \n",
    "P1 to P4 are priority factors for each deviation. \n",
    "In addition to the general priorities of you goals, you are twice as concerned about fully utilizing the full-time employee hours.\n",
    "Finally, overtime hours of part-time employees have a relative cost of three times that of full-time employees.\n",
    "\n",
    "Now, the goal here is to minimize the overall impact of these deviations, considering their priorities. \n",
    "This means finding the best balance between sales targets, employee hours, and overtime, while keeping in mind which deviations are more critical for your business.'''"
   ]
  },
  {
   "cell_type": "markdown",
   "id": "063be1a3",
   "metadata": {},
   "source": [
    "## 2. Generate the mathematical model"
   ]
  },
  {
   "cell_type": "code",
   "execution_count": 599,
   "id": "e31ec80c",
   "metadata": {},
   "outputs": [],
   "source": [
    "#Initializing the session. To replicate, make sure the right credentials are saved in a PATH variable\n",
    "PROJECT_ID = \"llm4optproblems\"\n",
    "REGION = \"us-central1\"\n",
    "vertexai.init(project=PROJECT_ID, location=REGION)\n",
    "\n",
    "#Specifying the model\n",
    "generative_multimodal_model = GenerativeModel(\"gemini-1.5-pro-preview-0409\")\n",
    "\n",
    "#The propmt applied to all problems\n",
    "prompt = '''Let's think step by step. Please write a mathematical optimization model for this problem. If there are parameter values, make sure to include them in the mathematical formulation.\n",
    "'''\n",
    "\n",
    "#Generate the response\n",
    "response = generative_multimodal_model.generate_content([prompt+problem])\n"
   ]
  },
  {
   "cell_type": "code",
   "execution_count": 600,
   "id": "f9adc567",
   "metadata": {},
   "outputs": [
    {
     "data": {
      "text/markdown": [
       "## Mathematical Optimization Model for Shop Management\n",
       "\n",
       "**Sets:**\n",
       "\n",
       "* E = {Full-Time, Part-Time} : Set of employee types\n",
       "\n",
       "**Parameters:**\n",
       "\n",
       "*  `sales_target` = 5500  : Target sales units \n",
       "*  `full_time_hours_target` = 800 : Target hours for full-time employees\n",
       "*  `part_time_hours_target` = 320 : Target hours for part-time employees\n",
       "*  `overtime_target` = 100 : Target overtime hours for full-time employees\n",
       "*  P1 : Priority factor for sales deviation\n",
       "*  P2 : Priority factor for full-time employee hours deviation\n",
       "*  P3 : Priority factor for part-time employee hours deviation\n",
       "*  P4 : Priority factor for full-time employee overtime deviation\n",
       "\n",
       "**Decision Variables:**\n",
       "\n",
       "*  `S` : Actual sales units\n",
       "*  `FH` : Actual full-time employee hours\n",
       "*  `PH` : Actual part-time employee hours\n",
       "*  `FO` :  Actual overtime hours for full-time employees\n",
       "*  `PO` :  Actual overtime hours for part-time employees\n",
       "\n",
       "**Objective Function:**\n",
       "\n",
       "Minimize the total weighted deviation from targets:\n",
       "\n",
       "```\n",
       "Minimize:\n",
       "P1 * |S - sales_target| + 2 * P2 * |FH - full_time_hours_target| + P3 * |PH - part_time_hours_target| + P4 * |FO - overtime_target| + 3 * P4 * PO \n",
       "```\n",
       "\n",
       "**Constraints:**\n",
       "\n",
       "*  None explicitly stated in the problem. However, you might have implicit constraints like:\n",
       "    *  Non-negativity: All decision variables should be greater than or equal to zero. \n",
       "    *  Maximum working hours: There might be legal or contractual limits on the maximum hours an employee can work.\n",
       "\n",
       "**Explanation:**\n",
       "\n",
       "* **Objective Function:** The objective function calculates the weighted sum of deviations from each target. \n",
       "    * The absolute value ensures that both positive and negative deviations are penalized.\n",
       "    * `2 * P2` reflects the double concern for fully utilizing full-time employee hours.\n",
       "    * `3 * P4 * PO` reflects the higher relative cost of part-time employee overtime.\n",
       "* **Decision Variables:** These represent the actual values achieved for each goal, which the model will optimize.\n",
       "* **Constraints:**  You may need to add constraints depending on the specific context of your shop, such as legal limits on working hours or minimum sales requirements. \n",
       "\n",
       "This model provides a framework to find the optimal balance between your goals considering their priorities. You can adjust the priority factors (P1-P4) based on your current business needs and priorities. \n"
      ],
      "text/plain": [
       "<IPython.core.display.Markdown object>"
      ]
     },
     "execution_count": 600,
     "metadata": {},
     "output_type": "execute_result"
    }
   ],
   "source": [
    "#Show the resopnse in a formatted way\n",
    "Markdown(response.text)"
   ]
  },
  {
   "cell_type": "markdown",
   "id": "49104a9a",
   "metadata": {},
   "source": [
    "## 3. Generate the pyomo code"
   ]
  },
  {
   "cell_type": "code",
   "execution_count": 601,
   "id": "aabea932",
   "metadata": {},
   "outputs": [],
   "source": [
    "#Second prompt gets the output of the previous step and generates the code\n",
    "prompt2 = \"Please write pyomo code for this mathematical problem. Use sample data where needed. Indicate where you use sample data. \\n\"\n",
    "prompt2 += response.text \n",
    "response2 = generative_multimodal_model.generate_content([prompt2])"
   ]
  },
  {
   "cell_type": "code",
   "execution_count": 602,
   "id": "fd2835af",
   "metadata": {
    "scrolled": false
   },
   "outputs": [
    {
     "data": {
      "text/markdown": [
       "```python\n",
       "import pyomo.environ as pyo\n",
       "\n",
       "# Sample Data - You can replace this with your actual data\n",
       "sales_target = 5500\n",
       "full_time_hours_target = 800\n",
       "part_time_hours_target = 320\n",
       "overtime_target = 100\n",
       "P1 = 1  # Priority for sales deviation\n",
       "P2 = 1  # Priority for full-time employee hours deviation\n",
       "P3 = 1  # Priority for part-time employee hours deviation\n",
       "P4 = 1  # Priority for full-time employee overtime deviation\n",
       "\n",
       "# Model\n",
       "model = pyo.ConcreteModel()\n",
       "\n",
       "# Sets\n",
       "model.E = pyo.Set(initialize=['Full-Time', 'Part-Time'])\n",
       "\n",
       "# Decision Variables\n",
       "model.S = pyo.Var(domain=pyo.NonNegativeReals) # Actual sales units\n",
       "model.FH = pyo.Var(domain=pyo.NonNegativeReals) # Actual full-time employee hours\n",
       "model.PH = pyo.Var(domain=pyo.NonNegativeReals) # Actual part-time employee hours\n",
       "model.FO = pyo.Var(domain=pyo.NonNegativeReals) # Actual overtime hours for full-time employees\n",
       "model.PO = pyo.Var(domain=pyo.NonNegativeReals) # Actual overtime hours for part-time employees\n",
       "\n",
       "# Objective Function\n",
       "def objective_rule(model):\n",
       "    return P1 * abs(model.S - sales_target) + 2 * P2 * abs(model.FH - full_time_hours_target) + P3 * abs(model.PH - part_time_hours_target) + P4 * abs(model.FO - overtime_target) + 3 * P4 * model.PO\n",
       "model.objective = pyo.Objective(rule=objective_rule, sense=pyo.minimize)\n",
       "\n",
       "# Constraints (Add constraints based on your specific context)\n",
       "# Example: Maximum working hours per week for full-time employees\n",
       "# model.C1 = pyo.Constraint(expr= model.FH + model.FO <= 40) \n",
       "\n",
       "# Solve\n",
       "solver = pyo.SolverFactory('cbc') # You can choose a different solver if you prefer\n",
       "results = solver.solve(model)\n",
       "\n",
       "# Print Results\n",
       "print(results)\n",
       "print(\"Optimal Solution:\")\n",
       "print(\"Sales (S):\", pyo.value(model.S))\n",
       "print(\"Full-Time Hours (FH):\", pyo.value(model.FH))\n",
       "print(\"Part-Time Hours (PH):\", pyo.value(model.PH))\n",
       "print(\"Full-Time Overtime (FO):\", pyo.value(model.FO))\n",
       "print(\"Part-Time Overtime (PO):\", pyo.value(model.PO)) \n",
       "```\n",
       "\n",
       "**Explanation:**\n",
       "\n",
       "1. **Import pyomo:** This line imports the Pyomo library for optimization modeling.\n",
       "2. **Sample Data:**  I've provided sample data for the parameters. You should replace this with your shop's actual data.\n",
       "3. **Model:** This creates a ConcreteModel object, which is a Pyomo model instance.\n",
       "4. **Sets:** We define a set `E` to represent the types of employees (Full-Time, Part-Time). This is currently unused but could be useful for extending the model, for example, adding different types of employees.\n",
       "5. **Decision Variables:** We define the decision variables using `pyo.Var()`.  The `domain=pyo.NonNegativeReals` ensures that these variables can only take non-negative values.\n",
       "6. **Objective Function:** The `objective_rule` function defines the objective function as described in your problem. It calculates the weighted sum of deviations from the targets.\n",
       "7. **Constraints:**  This example includes a commented-out constraint to demonstrate how you can add constraints. You should replace this with constraints relevant to your shop's specific rules and limitations.\n",
       "8. **Solve:**  We create a solver object (here using the free CBC solver) and use it to solve the model.\n",
       "9. **Print Results:** The code prints the solver's status and the optimal values for each decision variable. \n",
       "\n",
       "**Remember:** \n",
       "\n",
       "* **Adjust Priority Factors:** Change the values of `P1`, `P2`, `P3`, and `P4` to reflect the priorities for your shop.\n",
       "* **Add Constraints:** Incorporate constraints relevant to your shop, such as limits on working hours, minimum sales targets, or relationships between variables. \n",
       "* **Data Input:**  Replace the sample data with your actual data for more meaningful results. \n"
      ],
      "text/plain": [
       "<IPython.core.display.Markdown object>"
      ]
     },
     "execution_count": 602,
     "metadata": {},
     "output_type": "execute_result"
    }
   ],
   "source": [
    "#Showing the code in a formatted way\n",
    "Markdown(response2.text)"
   ]
  },
  {
   "cell_type": "markdown",
   "id": "b60756ae",
   "metadata": {},
   "source": [
    "## 4. Input problem data and try running the generated code"
   ]
  },
  {
   "cell_type": "code",
   "execution_count": 607,
   "id": "c7da3c02",
   "metadata": {},
   "outputs": [
    {
     "name": "stdout",
     "output_type": "stream",
     "text": [
      "WARNING: Loading a SolverResults object with a warning status into\n",
      "model.name=\"unknown\";\n",
      "    - termination condition: maxIterations\n",
      "    - message from solver: Ipopt 3.11.1\\x3a Maximum Number of Iterations\n",
      "      Exceeded.\n",
      "\n",
      "Problem: \n",
      "- Lower bound: -inf\n",
      "  Upper bound: inf\n",
      "  Number of objectives: 1\n",
      "  Number of constraints: 0\n",
      "  Number of variables: 5\n",
      "  Sense: unknown\n",
      "Solver: \n",
      "- Status: warning\n",
      "  Message: Ipopt 3.11.1\\x3a Maximum Number of Iterations Exceeded.\n",
      "  Termination condition: maxIterations\n",
      "  Id: 400\n",
      "  Error rc: 0\n",
      "  Time: 6.8830952644348145\n",
      "Solution: \n",
      "- number of solutions: 0\n",
      "  number of solutions displayed: 0\n",
      "\n",
      "Optimal Solution:\n",
      "Sales (S): 5499.841889111822\n",
      "Full-Time Hours (FH): 1113.929810947496\n",
      "Part-Time Hours (PH): 446.16822729832677\n",
      "Full-Time Overtime (FO): 127.25233234103736\n",
      "Part-Time Overtime (PO): 0.033332512312146866\n"
     ]
    }
   ],
   "source": [
    "import pyomo.environ as pyo\n",
    "\n",
    "# Sample Data - You can replace this with your actual data\n",
    "sales_target = 5500\n",
    "full_time_hours_target = 800\n",
    "part_time_hours_target = 320\n",
    "overtime_target = 100\n",
    "P1 = 4  # Priority for sales deviation\n",
    "P2 = 3  # Priority for full-time employee hours deviation\n",
    "P3 = 2  # Priority for part-time employee hours deviation\n",
    "P4 = 1  # Priority for full-time employee overtime deviation\n",
    "\n",
    "# Model\n",
    "model = pyo.ConcreteModel()\n",
    "\n",
    "# Sets\n",
    "model.E = pyo.Set(initialize=['Full-Time', 'Part-Time'])\n",
    "\n",
    "# Decision Variables\n",
    "model.S = pyo.Var(domain=pyo.NonNegativeReals) # Actual sales units\n",
    "model.FH = pyo.Var(domain=pyo.NonNegativeReals) # Actual full-time employee hours\n",
    "model.PH = pyo.Var(domain=pyo.NonNegativeReals) # Actual part-time employee hours\n",
    "model.FO = pyo.Var(domain=pyo.NonNegativeReals) # Actual overtime hours for full-time employees\n",
    "model.PO = pyo.Var(domain=pyo.NonNegativeReals) # Actual overtime hours for part-time employees\n",
    "\n",
    "# Objective Function\n",
    "def objective_rule(model):\n",
    "    return P1 * abs(model.S - sales_target) + 2 * P2 * abs(model.FH - full_time_hours_target) + P3 * abs(model.PH - part_time_hours_target) + P4 * abs(model.FO - overtime_target) + 3 * P4 * model.PO\n",
    "model.objective = pyo.Objective(rule=objective_rule, sense=pyo.minimize)\n",
    "\n",
    "# Constraints (Add constraints based on your specific context)\n",
    "# Example: Maximum working hours per week for full-time employees\n",
    "# model.C1 = pyo.Constraint(expr= model.FH + model.FO <= 40) \n",
    "\n",
    "# Solve\n",
    "solver = pyo.SolverFactory('ipopt') # You can choose a different solver if you prefer\n",
    "results = solver.solve(model)\n",
    "\n",
    "# Print Results\n",
    "print(results)\n",
    "print(\"Optimal Solution:\")\n",
    "print(\"Sales (S):\", pyo.value(model.S))\n",
    "print(\"Full-Time Hours (FH):\", pyo.value(model.FH))\n",
    "print(\"Part-Time Hours (PH):\", pyo.value(model.PH))\n",
    "print(\"Full-Time Overtime (FO):\", pyo.value(model.FO))\n",
    "print(\"Part-Time Overtime (PO):\", pyo.value(model.PO)) "
   ]
  },
  {
   "cell_type": "markdown",
   "id": "8f10340f",
   "metadata": {},
   "source": [
    "## 5. Correct the code to verify model viability (optional)"
   ]
  },
  {
   "cell_type": "code",
   "execution_count": null,
   "id": "90abea34",
   "metadata": {},
   "outputs": [],
   "source": []
  },
  {
   "cell_type": "markdown",
   "id": "03525f23",
   "metadata": {},
   "source": [
    "## 6. Printing the outputs as strings, so they can be saved.\n",
    "Those can be rendered as markdown for better readability"
   ]
  },
  {
   "cell_type": "code",
   "execution_count": 608,
   "id": "9d832f4d",
   "metadata": {},
   "outputs": [
    {
     "name": "stdout",
     "output_type": "stream",
     "text": [
      "## Mathematical Optimization Model for Shop Management\n",
      "\n",
      "**Sets:**\n",
      "\n",
      "* E = {Full-Time, Part-Time} : Set of employee types\n",
      "\n",
      "**Parameters:**\n",
      "\n",
      "*  `sales_target` = 5500  : Target sales units \n",
      "*  `full_time_hours_target` = 800 : Target hours for full-time employees\n",
      "*  `part_time_hours_target` = 320 : Target hours for part-time employees\n",
      "*  `overtime_target` = 100 : Target overtime hours for full-time employees\n",
      "*  P1 : Priority factor for sales deviation\n",
      "*  P2 : Priority factor for full-time employee hours deviation\n",
      "*  P3 : Priority factor for part-time employee hours deviation\n",
      "*  P4 : Priority factor for full-time employee overtime deviation\n",
      "\n",
      "**Decision Variables:**\n",
      "\n",
      "*  `S` : Actual sales units\n",
      "*  `FH` : Actual full-time employee hours\n",
      "*  `PH` : Actual part-time employee hours\n",
      "*  `FO` :  Actual overtime hours for full-time employees\n",
      "*  `PO` :  Actual overtime hours for part-time employees\n",
      "\n",
      "**Objective Function:**\n",
      "\n",
      "Minimize the total weighted deviation from targets:\n",
      "\n",
      "```\n",
      "Minimize:\n",
      "P1 * |S - sales_target| + 2 * P2 * |FH - full_time_hours_target| + P3 * |PH - part_time_hours_target| + P4 * |FO - overtime_target| + 3 * P4 * PO \n",
      "```\n",
      "\n",
      "**Constraints:**\n",
      "\n",
      "*  None explicitly stated in the problem. However, you might have implicit constraints like:\n",
      "    *  Non-negativity: All decision variables should be greater than or equal to zero. \n",
      "    *  Maximum working hours: There might be legal or contractual limits on the maximum hours an employee can work.\n",
      "\n",
      "**Explanation:**\n",
      "\n",
      "* **Objective Function:** The objective function calculates the weighted sum of deviations from each target. \n",
      "    * The absolute value ensures that both positive and negative deviations are penalized.\n",
      "    * `2 * P2` reflects the double concern for fully utilizing full-time employee hours.\n",
      "    * `3 * P4 * PO` reflects the higher relative cost of part-time employee overtime.\n",
      "* **Decision Variables:** These represent the actual values achieved for each goal, which the model will optimize.\n",
      "* **Constraints:**  You may need to add constraints depending on the specific context of your shop, such as legal limits on working hours or minimum sales requirements. \n",
      "\n",
      "This model provides a framework to find the optimal balance between your goals considering their priorities. You can adjust the priority factors (P1-P4) based on your current business needs and priorities. \n",
      "\n"
     ]
    }
   ],
   "source": [
    "print(response.text)"
   ]
  },
  {
   "cell_type": "code",
   "execution_count": 609,
   "id": "57e86877",
   "metadata": {
    "scrolled": false
   },
   "outputs": [
    {
     "name": "stdout",
     "output_type": "stream",
     "text": [
      "```python\n",
      "import pyomo.environ as pyo\n",
      "\n",
      "# Sample Data - You can replace this with your actual data\n",
      "sales_target = 5500\n",
      "full_time_hours_target = 800\n",
      "part_time_hours_target = 320\n",
      "overtime_target = 100\n",
      "P1 = 1  # Priority for sales deviation\n",
      "P2 = 1  # Priority for full-time employee hours deviation\n",
      "P3 = 1  # Priority for part-time employee hours deviation\n",
      "P4 = 1  # Priority for full-time employee overtime deviation\n",
      "\n",
      "# Model\n",
      "model = pyo.ConcreteModel()\n",
      "\n",
      "# Sets\n",
      "model.E = pyo.Set(initialize=['Full-Time', 'Part-Time'])\n",
      "\n",
      "# Decision Variables\n",
      "model.S = pyo.Var(domain=pyo.NonNegativeReals) # Actual sales units\n",
      "model.FH = pyo.Var(domain=pyo.NonNegativeReals) # Actual full-time employee hours\n",
      "model.PH = pyo.Var(domain=pyo.NonNegativeReals) # Actual part-time employee hours\n",
      "model.FO = pyo.Var(domain=pyo.NonNegativeReals) # Actual overtime hours for full-time employees\n",
      "model.PO = pyo.Var(domain=pyo.NonNegativeReals) # Actual overtime hours for part-time employees\n",
      "\n",
      "# Objective Function\n",
      "def objective_rule(model):\n",
      "    return P1 * abs(model.S - sales_target) + 2 * P2 * abs(model.FH - full_time_hours_target) + P3 * abs(model.PH - part_time_hours_target) + P4 * abs(model.FO - overtime_target) + 3 * P4 * model.PO\n",
      "model.objective = pyo.Objective(rule=objective_rule, sense=pyo.minimize)\n",
      "\n",
      "# Constraints (Add constraints based on your specific context)\n",
      "# Example: Maximum working hours per week for full-time employees\n",
      "# model.C1 = pyo.Constraint(expr= model.FH + model.FO <= 40) \n",
      "\n",
      "# Solve\n",
      "solver = pyo.SolverFactory('cbc') # You can choose a different solver if you prefer\n",
      "results = solver.solve(model)\n",
      "\n",
      "# Print Results\n",
      "print(results)\n",
      "print(\"Optimal Solution:\")\n",
      "print(\"Sales (S):\", pyo.value(model.S))\n",
      "print(\"Full-Time Hours (FH):\", pyo.value(model.FH))\n",
      "print(\"Part-Time Hours (PH):\", pyo.value(model.PH))\n",
      "print(\"Full-Time Overtime (FO):\", pyo.value(model.FO))\n",
      "print(\"Part-Time Overtime (PO):\", pyo.value(model.PO)) \n",
      "```\n",
      "\n",
      "**Explanation:**\n",
      "\n",
      "1. **Import pyomo:** This line imports the Pyomo library for optimization modeling.\n",
      "2. **Sample Data:**  I've provided sample data for the parameters. You should replace this with your shop's actual data.\n",
      "3. **Model:** This creates a ConcreteModel object, which is a Pyomo model instance.\n",
      "4. **Sets:** We define a set `E` to represent the types of employees (Full-Time, Part-Time). This is currently unused but could be useful for extending the model, for example, adding different types of employees.\n",
      "5. **Decision Variables:** We define the decision variables using `pyo.Var()`.  The `domain=pyo.NonNegativeReals` ensures that these variables can only take non-negative values.\n",
      "6. **Objective Function:** The `objective_rule` function defines the objective function as described in your problem. It calculates the weighted sum of deviations from the targets.\n",
      "7. **Constraints:**  This example includes a commented-out constraint to demonstrate how you can add constraints. You should replace this with constraints relevant to your shop's specific rules and limitations.\n",
      "8. **Solve:**  We create a solver object (here using the free CBC solver) and use it to solve the model.\n",
      "9. **Print Results:** The code prints the solver's status and the optimal values for each decision variable. \n",
      "\n",
      "**Remember:** \n",
      "\n",
      "* **Adjust Priority Factors:** Change the values of `P1`, `P2`, `P3`, and `P4` to reflect the priorities for your shop.\n",
      "* **Add Constraints:** Incorporate constraints relevant to your shop, such as limits on working hours, minimum sales targets, or relationships between variables. \n",
      "* **Data Input:**  Replace the sample data with your actual data for more meaningful results. \n",
      "\n"
     ]
    }
   ],
   "source": [
    "print(response2.text)"
   ]
  }
 ],
 "metadata": {
  "kernelspec": {
   "display_name": "Python 3 (ipykernel)",
   "language": "python",
   "name": "python3"
  },
  "language_info": {
   "codemirror_mode": {
    "name": "ipython",
    "version": 3
   },
   "file_extension": ".py",
   "mimetype": "text/x-python",
   "name": "python",
   "nbconvert_exporter": "python",
   "pygments_lexer": "ipython3",
   "version": "3.11.4"
  }
 },
 "nbformat": 4,
 "nbformat_minor": 5
}
