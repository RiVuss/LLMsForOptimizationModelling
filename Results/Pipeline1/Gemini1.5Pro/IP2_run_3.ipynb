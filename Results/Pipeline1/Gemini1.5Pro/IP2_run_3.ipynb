{
 "cells": [
  {
   "cell_type": "markdown",
   "id": "0df7edfd",
   "metadata": {},
   "source": [
    "# LLM Optimization Modelling Experiment"
   ]
  },
  {
   "cell_type": "code",
   "execution_count": 3,
   "id": "7f664028",
   "metadata": {},
   "outputs": [],
   "source": [
    "import vertexai\n",
    "from vertexai.preview.generative_models import GenerativeModel\n",
    "from IPython.display import Markdown"
   ]
  },
  {
   "cell_type": "markdown",
   "id": "c106f1be",
   "metadata": {},
   "source": [
    "## 1. Define the problem description"
   ]
  },
  {
   "cell_type": "code",
   "execution_count": 4,
   "id": "9adce4b2",
   "metadata": {},
   "outputs": [],
   "source": [
    "problem = '''Your goal is to invest in several of 10 possible investment strategies in the most optimal way. The historic returns of those strategies are stored in the file \"investments_data.csv\". Each column represents one strategy and the rows are the past investment outcomes. There is no index and the values are separated by a ;.\n",
    "\n",
    "The costs for investing in a given investment is stored in a vector A, which has one value for each strategy in order.  \n",
    "The values are: [80, 340, 410, 50, 180, 221, 15, 348, 191, 225]\n",
    "\n",
    "You can only invest once into an investment. \n",
    "\n",
    "Unfortunately due to other costs and inflation, your available budget at this time is uncertain. There are four possible budget scenarios with different probabilities: scenario 1 with 1000 euros and probability of 0.55, scenario 2  with 1100 euros and probability of 0.4, scenario 3 with 900 euros and probability of 0.04, scenario 4 with 1200 euros and probability of 0.01. \n",
    "The tolerable probability of exceeding the budget is 0.4.\n",
    "\n",
    "Please formulate a mean-variance mathematical model for this optimization problem, considering the past performance of investment strategies and the uncertain budget. You can take 2 as the risk parameter r.\n",
    "'''"
   ]
  },
  {
   "cell_type": "markdown",
   "id": "063be1a3",
   "metadata": {},
   "source": [
    "## 2. Generate the mathematical model"
   ]
  },
  {
   "cell_type": "code",
   "execution_count": 5,
   "id": "e31ec80c",
   "metadata": {},
   "outputs": [],
   "source": [
    "#Initializing the session. To replicate, make sure the right credentials are saved in a PATH variable\n",
    "PROJECT_ID = \"llm4optproblems\"\n",
    "REGION = \"us-central1\"\n",
    "vertexai.init(project=PROJECT_ID, location=REGION)\n",
    "\n",
    "#Specifying the model\n",
    "generative_multimodal_model = GenerativeModel(\"gemini-1.5-pro-preview-0409\")\n",
    "\n",
    "#The propmt applied to all problems\n",
    "prompt = '''Let's think step by step. Please write a mathematical optimization model for this problem. If there are parameter values, make sure to include them in the mathematical formulation.\n",
    "'''\n",
    "\n",
    "#Generate the response\n",
    "response = generative_multimodal_model.generate_content([prompt+problem])\n"
   ]
  },
  {
   "cell_type": "code",
   "execution_count": 6,
   "id": "f9adc567",
   "metadata": {},
   "outputs": [
    {
     "data": {
      "text/markdown": [
       "## Mean-Variance Optimization Model with Uncertain Budget\n",
       "\n",
       "### Sets and Indices:\n",
       "\n",
       "* $S$: Set of investment strategies, $S = \\{1, 2, ..., 10\\}$\n",
       "* $B$: Set of budget scenarios, $B = \\{1, 2, 3, 4\\}$ \n",
       "\n",
       "### Parameters:\n",
       "\n",
       "* $r_s$: Historical return of strategy $s \\in S$ (from \"investments_data.csv\")\n",
       "* $c_s$: Cost of investing in strategy $s \\in S$, where $c = [80, 340, 410, 50, 180, 221, 15, 348, 191, 225]$\n",
       "* $b_j$: Budget amount in scenario $j \\in B$, where $b = [1000, 1100, 900, 1200]$\n",
       "* $p_j$: Probability of budget scenario $j \\in B$, where $p = [0.55, 0.4, 0.04, 0.01]$\n",
       "* $R$: Risk parameter, $R = 2$\n",
       "* $\\alpha$: Tolerable probability of exceeding the budget, $\\alpha = 0.4$\n",
       "\n",
       "### Decision Variables:\n",
       "\n",
       "* $x_s$: Binary variable, 1 if strategy $s$ is chosen, 0 otherwise. \n",
       "\n",
       "### Objective Function:\n",
       "\n",
       "Maximize the expected return minus a penalty for exceeding the budget:\n",
       "\n",
       "```\n",
       "Maximize  ∑_(s∈S) r_s * x_s - R * ∑_(j∈B) p_j * max(0, ∑_(s∈S) c_s * x_s - b_j)\n",
       "```\n",
       "\n",
       "* The first term calculates the expected return based on the chosen strategies and their historical returns.\n",
       "* The second term penalizes exceeding the budget in each scenario, weighted by the scenario probability and the risk parameter.\n",
       "\n",
       "### Constraints:\n",
       "\n",
       "1. **Budget Constraint:** Limit the probability of exceeding the budget:\n",
       "\n",
       "```\n",
       "∑_(j∈B) p_j * I(∑_(s∈S) c_s * x_s > b_j) <= α\n",
       "```\n",
       "\n",
       "* $I(\\cdot)$ is an indicator function, equal to 1 if the condition inside is true, and 0 otherwise. This constraint ensures the probability of exceeding the budget across all scenarios remains below the tolerable level $\\alpha$.\n",
       "\n",
       "2. **Investment Choice:** Invest in each strategy at most once:\n",
       "\n",
       "```\n",
       "x_s ∈ {0, 1}  ∀ s ∈ S\n",
       "```\n",
       "\n",
       "### Model Interpretation:\n",
       "\n",
       "This model aims to find the optimal investment strategy combination that maximizes the expected return while controlling the risk of exceeding the budget under different scenarios. The objective function balances maximizing return and minimizing potential budget overruns. The constraints ensure the solution remains within the acceptable risk tolerance and adheres to the investment limitations.\n",
       "\n",
       "**Note:** Solving this model requires a mixed-integer programming solver due to the binary decision variables.  \n"
      ],
      "text/plain": [
       "<IPython.core.display.Markdown object>"
      ]
     },
     "execution_count": 6,
     "metadata": {},
     "output_type": "execute_result"
    }
   ],
   "source": [
    "#Show the resopnse in a formatted way\n",
    "Markdown(response.text)"
   ]
  },
  {
   "cell_type": "markdown",
   "id": "49104a9a",
   "metadata": {},
   "source": [
    "## 3. Generate the pyomo code"
   ]
  },
  {
   "cell_type": "code",
   "execution_count": 7,
   "id": "aabea932",
   "metadata": {},
   "outputs": [],
   "source": [
    "#Second prompt gets the output of the previous step and generates the code\n",
    "prompt2 = \"Please write pyomo code for this mathematical problem. Use sample data where needed. Indicate where you use sample data. \\n\"\n",
    "prompt2 += response.text \n",
    "response2 = generative_multimodal_model.generate_content([prompt2])"
   ]
  },
  {
   "cell_type": "code",
   "execution_count": 8,
   "id": "fd2835af",
   "metadata": {
    "scrolled": false
   },
   "outputs": [
    {
     "data": {
      "text/markdown": [
       "## Pyomo Implementation of Mean-Variance Optimization with Uncertain Budget\n",
       "\n",
       "```python\n",
       "from pyomo.environ import *\n",
       "\n",
       "# Sample data (replace with actual data from investments_data.csv)\n",
       "investments_data = {\n",
       "    's': [1, 2, 3, 4, 5, 6, 7, 8, 9, 10],\n",
       "    'r': [0.12, 0.08, 0.15, 0.05, 0.10, 0.09, 0.11, 0.13, 0.07, 0.14],\n",
       "}\n",
       "c = [80, 340, 410, 50, 180, 221, 15, 348, 191, 225]  # Sample cost data\n",
       "b = [1000, 1100, 900, 1200]  # Sample budget data\n",
       "p = [0.55, 0.4, 0.04, 0.01]  # Sample probability data\n",
       "R = 2  # Risk parameter\n",
       "alpha = 0.4  # Tolerable probability of exceeding the budget\n",
       "\n",
       "# Define the model\n",
       "model = ConcreteModel()\n",
       "\n",
       "# Sets and indices\n",
       "model.S = Set(initialize=investments_data['s'])\n",
       "model.B = Set(initialize=range(1, len(b) + 1))\n",
       "\n",
       "# Parameters\n",
       "model.r = Param(model.S, initialize={s: investments_data['r'][i] for i, s in enumerate(investments_data['s'])})\n",
       "model.c = Param(model.S, initialize={s: c[i] for i, s in enumerate(investments_data['s'])})\n",
       "model.b = Param(model.B, initialize={j: b[j - 1] for j in model.B})\n",
       "model.p = Param(model.B, initialize={j: p[j - 1] for j in model.B})\n",
       "model.R = Param(initialize=R)\n",
       "model.alpha = Param(initialize=alpha)\n",
       "\n",
       "# Decision variables\n",
       "model.x = Var(model.S, domain=Binary)\n",
       "\n",
       "# Objective function\n",
       "def objective_rule(model):\n",
       "    return sum(model.r[s] * model.x[s] for s in model.S) - model.R * sum(\n",
       "        model.p[j] * max(0, sum(model.c[s] * model.x[s] for s in model.S) - model.b[j]) for j in model.B\n",
       "    )\n",
       "\n",
       "model.objective = Objective(rule=objective_rule, sense=maximize)\n",
       "\n",
       "# Constraints\n",
       "def budget_constraint_rule(model, j):\n",
       "    return sum(model.p[j] * (sum(model.c[s] * model.x[s] for s in model.S) > model.b[j]) for j in model.B) <= model.alpha\n",
       "\n",
       "model.budget_constraint = Constraint(model.B, rule=budget_constraint_rule)\n",
       "\n",
       "# Solve the model\n",
       "solver = SolverFactory('cbc')  # Replace with your preferred solver\n",
       "solver.solve(model)\n",
       "\n",
       "# Print the results\n",
       "print(\"Optimal solution:\")\n",
       "for s in model.S:\n",
       "    if model.x[s].value > 0.5:\n",
       "        print(f\"Invest in strategy {s}\")\n",
       "\n",
       "print(f\"Expected return: {model.objective()}\")\n",
       "```\n",
       "\n",
       "**Explanation:**\n",
       "\n",
       "1. **Import Pyomo:** We import the necessary Pyomo library.\n",
       "2. **Sample Data:** We define sample data for returns (replace with actual data), costs, budgets, probabilities, risk parameter, and tolerable probability.\n",
       "3. **Model Definition:** We create a ConcreteModel instance to represent the optimization problem.\n",
       "4. **Sets and Indices:** We define sets for strategies (S) and budget scenarios (B).\n",
       "5. **Parameters:** We define parameters for returns, costs, budgets, probabilities, risk parameter, and tolerable probability, initializing them with the sample data.\n",
       "6. **Decision Variables:** We define binary decision variables x[s] to represent whether to invest in strategy s or not.\n",
       "7. **Objective Function:** We define the objective function using a rule that calculates the expected return minus the penalty for exceeding the budget.\n",
       "8. **Constraints:** We define the budget constraint using a rule that ensures the probability of exceeding the budget across all scenarios remains below the tolerable level.\n",
       "9. **Solver:** We choose a solver (e.g., CBC) to solve the mixed-integer programming problem.\n",
       "10. **Results:** We print the optimal investment decisions and the expected return. \n"
      ],
      "text/plain": [
       "<IPython.core.display.Markdown object>"
      ]
     },
     "execution_count": 8,
     "metadata": {},
     "output_type": "execute_result"
    }
   ],
   "source": [
    "#Showing the code in a formatted way\n",
    "Markdown(response2.text)"
   ]
  },
  {
   "cell_type": "markdown",
   "id": "b60756ae",
   "metadata": {},
   "source": [
    "## 4. Input problem data and try running the generated code"
   ]
  },
  {
   "cell_type": "code",
   "execution_count": 9,
   "id": "f82b3efc",
   "metadata": {},
   "outputs": [
    {
     "name": "stdout",
     "output_type": "stream",
     "text": [
      "ERROR: Rule failed when generating expression for Objective objective with\n",
      "index None: PyomoException: Cannot convert non-constant Pyomo expression (0  <\n",
      "80*x[1] + 340*x[2] + 410*x[3] + 50*x[4] + 180*x[5] + 221*x[6] + 15*x[7] +\n",
      "348*x[8] + 191*x[9] + 225*x[10] - 1000) to bool. This error is usually caused\n",
      "by using a Var, unit, or mutable Param in a Boolean context such as an \"if\"\n",
      "statement, or when checking container membership or equality. For example,\n",
      "        >>> m.x = Var()\n",
      "        >>> if m.x >= 1:\n",
      "        ...     pass\n",
      "    and\n",
      "        >>> m.y = Var()\n",
      "        >>> if m.y in [m.x, m.y]:\n",
      "        ...     pass\n",
      "    would both cause this exception.\n",
      "ERROR: Constructing component 'objective' from data=None failed:\n",
      "        PyomoException: Cannot convert non-constant Pyomo expression (0  <\n",
      "        80*x[1] + 340*x[2] + 410*x[3] + 50*x[4] + 180*x[5] + 221*x[6] +\n",
      "        15*x[7] + 348*x[8] + 191*x[9] + 225*x[10] - 1000) to bool.\n",
      "    This error is usually caused by using a Var, unit, or mutable Param in a\n",
      "    Boolean context such as an \"if\" statement, or when checking container\n",
      "    membership or equality. For example,\n",
      "        >>> m.x = Var()\n",
      "        >>> if m.x >= 1:\n",
      "        ...     pass\n",
      "    and\n",
      "        >>> m.y = Var()\n",
      "        >>> if m.y in [m.x, m.y]:\n",
      "        ...     pass\n",
      "    would both cause this exception.\n"
     ]
    },
    {
     "ename": "PyomoException",
     "evalue": "Cannot convert non-constant Pyomo expression (0  <  80*x[1] + 340*x[2] + 410*x[3] + 50*x[4] + 180*x[5] + 221*x[6] + 15*x[7] + 348*x[8] + 191*x[9] + 225*x[10] - 1000) to bool.\nThis error is usually caused by using a Var, unit, or mutable Param in a\nBoolean context such as an \"if\" statement, or when checking container\nmembership or equality. For example,\n    >>> m.x = Var()\n    >>> if m.x >= 1:\n    ...     pass\nand\n    >>> m.y = Var()\n    >>> if m.y in [m.x, m.y]:\n    ...     pass\nwould both cause this exception.",
     "output_type": "error",
     "traceback": [
      "\u001b[1;31m---------------------------------------------------------------------------\u001b[0m",
      "\u001b[1;31mPyomoException\u001b[0m                            Traceback (most recent call last)",
      "Cell \u001b[1;32mIn[9], line 38\u001b[0m\n\u001b[0;32m     33\u001b[0m \u001b[38;5;28;01mdef\u001b[39;00m \u001b[38;5;21mobjective_rule\u001b[39m(model):\n\u001b[0;32m     34\u001b[0m     \u001b[38;5;28;01mreturn\u001b[39;00m \u001b[38;5;28msum\u001b[39m(model\u001b[38;5;241m.\u001b[39mr[s] \u001b[38;5;241m*\u001b[39m model\u001b[38;5;241m.\u001b[39mx[s] \u001b[38;5;28;01mfor\u001b[39;00m s \u001b[38;5;129;01min\u001b[39;00m model\u001b[38;5;241m.\u001b[39mS) \u001b[38;5;241m-\u001b[39m model\u001b[38;5;241m.\u001b[39mR \u001b[38;5;241m*\u001b[39m \u001b[38;5;28msum\u001b[39m(\n\u001b[0;32m     35\u001b[0m         model\u001b[38;5;241m.\u001b[39mp[j] \u001b[38;5;241m*\u001b[39m \u001b[38;5;28mmax\u001b[39m(\u001b[38;5;241m0\u001b[39m, \u001b[38;5;28msum\u001b[39m(model\u001b[38;5;241m.\u001b[39mc[s] \u001b[38;5;241m*\u001b[39m model\u001b[38;5;241m.\u001b[39mx[s] \u001b[38;5;28;01mfor\u001b[39;00m s \u001b[38;5;129;01min\u001b[39;00m model\u001b[38;5;241m.\u001b[39mS) \u001b[38;5;241m-\u001b[39m model\u001b[38;5;241m.\u001b[39mb[j]) \u001b[38;5;28;01mfor\u001b[39;00m j \u001b[38;5;129;01min\u001b[39;00m model\u001b[38;5;241m.\u001b[39mB\n\u001b[0;32m     36\u001b[0m     )\n\u001b[1;32m---> 38\u001b[0m model\u001b[38;5;241m.\u001b[39mobjective \u001b[38;5;241m=\u001b[39m Objective(rule\u001b[38;5;241m=\u001b[39mobjective_rule, sense\u001b[38;5;241m=\u001b[39mmaximize)\n\u001b[0;32m     40\u001b[0m \u001b[38;5;66;03m# Constraints\u001b[39;00m\n\u001b[0;32m     41\u001b[0m \u001b[38;5;28;01mdef\u001b[39;00m \u001b[38;5;21mbudget_constraint_rule\u001b[39m(model, j):\n",
      "File \u001b[1;32m~\\anaconda3\\Lib\\site-packages\\pyomo\\core\\base\\block.py:568\u001b[0m, in \u001b[0;36m_BlockData.__setattr__\u001b[1;34m(self, name, val)\u001b[0m\n\u001b[0;32m    563\u001b[0m \u001b[38;5;28;01mif\u001b[39;00m name \u001b[38;5;129;01mnot\u001b[39;00m \u001b[38;5;129;01min\u001b[39;00m \u001b[38;5;28mself\u001b[39m\u001b[38;5;241m.\u001b[39m\u001b[38;5;18m__dict__\u001b[39m:\n\u001b[0;32m    564\u001b[0m     \u001b[38;5;28;01mif\u001b[39;00m \u001b[38;5;28misinstance\u001b[39m(val, Component):\n\u001b[0;32m    565\u001b[0m         \u001b[38;5;66;03m#\u001b[39;00m\n\u001b[0;32m    566\u001b[0m         \u001b[38;5;66;03m# Pyomo components are added with the add_component method.\u001b[39;00m\n\u001b[0;32m    567\u001b[0m         \u001b[38;5;66;03m#\u001b[39;00m\n\u001b[1;32m--> 568\u001b[0m         \u001b[38;5;28mself\u001b[39m\u001b[38;5;241m.\u001b[39madd_component(name, val)\n\u001b[0;32m    569\u001b[0m     \u001b[38;5;28;01melse\u001b[39;00m:\n\u001b[0;32m    570\u001b[0m         \u001b[38;5;66;03m#\u001b[39;00m\n\u001b[0;32m    571\u001b[0m         \u001b[38;5;66;03m# Other Python objects are added with the standard __setattr__\u001b[39;00m\n\u001b[0;32m    572\u001b[0m         \u001b[38;5;66;03m# method.\u001b[39;00m\n\u001b[0;32m    573\u001b[0m         \u001b[38;5;66;03m#\u001b[39;00m\n\u001b[0;32m    574\u001b[0m         \u001b[38;5;28msuper\u001b[39m(_BlockData, \u001b[38;5;28mself\u001b[39m)\u001b[38;5;241m.\u001b[39m\u001b[38;5;21m__setattr__\u001b[39m(name, val)\n",
      "File \u001b[1;32m~\\anaconda3\\Lib\\site-packages\\pyomo\\core\\base\\block.py:1126\u001b[0m, in \u001b[0;36m_BlockData.add_component\u001b[1;34m(self, name, val)\u001b[0m\n\u001b[0;32m   1118\u001b[0m     logger\u001b[38;5;241m.\u001b[39mdebug(\n\u001b[0;32m   1119\u001b[0m         \u001b[38;5;124m\"\u001b[39m\u001b[38;5;124mConstructing \u001b[39m\u001b[38;5;132;01m%s\u001b[39;00m\u001b[38;5;124m \u001b[39m\u001b[38;5;124m'\u001b[39m\u001b[38;5;132;01m%s\u001b[39;00m\u001b[38;5;124m'\u001b[39m\u001b[38;5;124m on \u001b[39m\u001b[38;5;132;01m%s\u001b[39;00m\u001b[38;5;124m from data=\u001b[39m\u001b[38;5;132;01m%s\u001b[39;00m\u001b[38;5;124m\"\u001b[39m,\n\u001b[0;32m   1120\u001b[0m         val\u001b[38;5;241m.\u001b[39m\u001b[38;5;18m__class__\u001b[39m\u001b[38;5;241m.\u001b[39m\u001b[38;5;18m__name__\u001b[39m,\n\u001b[1;32m   (...)\u001b[0m\n\u001b[0;32m   1123\u001b[0m         \u001b[38;5;28mstr\u001b[39m(data),\n\u001b[0;32m   1124\u001b[0m     )\n\u001b[0;32m   1125\u001b[0m \u001b[38;5;28;01mtry\u001b[39;00m:\n\u001b[1;32m-> 1126\u001b[0m     val\u001b[38;5;241m.\u001b[39mconstruct(data)\n\u001b[0;32m   1127\u001b[0m \u001b[38;5;28;01mexcept\u001b[39;00m:\n\u001b[0;32m   1128\u001b[0m     err \u001b[38;5;241m=\u001b[39m sys\u001b[38;5;241m.\u001b[39mexc_info()[\u001b[38;5;241m1\u001b[39m]\n",
      "File \u001b[1;32m~\\anaconda3\\Lib\\site-packages\\pyomo\\core\\base\\objective.py:318\u001b[0m, in \u001b[0;36mObjective.construct\u001b[1;34m(self, data)\u001b[0m\n\u001b[0;32m    315\u001b[0m \u001b[38;5;28;01melse\u001b[39;00m:\n\u001b[0;32m    316\u001b[0m     \u001b[38;5;66;03m# Bypass the index validation and create the member directly\u001b[39;00m\n\u001b[0;32m    317\u001b[0m     \u001b[38;5;28;01mfor\u001b[39;00m index \u001b[38;5;129;01min\u001b[39;00m \u001b[38;5;28mself\u001b[39m\u001b[38;5;241m.\u001b[39mindex_set():\n\u001b[1;32m--> 318\u001b[0m         ans \u001b[38;5;241m=\u001b[39m \u001b[38;5;28mself\u001b[39m\u001b[38;5;241m.\u001b[39m_setitem_when_not_present(index, rule(block, index))\n\u001b[0;32m    319\u001b[0m         \u001b[38;5;28;01mif\u001b[39;00m ans \u001b[38;5;129;01mis\u001b[39;00m \u001b[38;5;129;01mnot\u001b[39;00m \u001b[38;5;28;01mNone\u001b[39;00m:\n\u001b[0;32m    320\u001b[0m             ans\u001b[38;5;241m.\u001b[39mset_sense(\u001b[38;5;28mself\u001b[39m\u001b[38;5;241m.\u001b[39m_init_sense(block, index))\n",
      "File \u001b[1;32m~\\anaconda3\\Lib\\site-packages\\pyomo\\core\\base\\initializer.py:438\u001b[0m, in \u001b[0;36mScalarCallInitializer.__call__\u001b[1;34m(self, parent, idx)\u001b[0m\n\u001b[0;32m    437\u001b[0m \u001b[38;5;28;01mdef\u001b[39;00m \u001b[38;5;21m__call__\u001b[39m(\u001b[38;5;28mself\u001b[39m, parent, idx):\n\u001b[1;32m--> 438\u001b[0m     \u001b[38;5;28;01mreturn\u001b[39;00m \u001b[38;5;28mself\u001b[39m\u001b[38;5;241m.\u001b[39m_fcn(parent)\n",
      "Cell \u001b[1;32mIn[9], line 34\u001b[0m, in \u001b[0;36mobjective_rule\u001b[1;34m(model)\u001b[0m\n\u001b[0;32m     33\u001b[0m \u001b[38;5;28;01mdef\u001b[39;00m \u001b[38;5;21mobjective_rule\u001b[39m(model):\n\u001b[1;32m---> 34\u001b[0m     \u001b[38;5;28;01mreturn\u001b[39;00m \u001b[38;5;28msum\u001b[39m(model\u001b[38;5;241m.\u001b[39mr[s] \u001b[38;5;241m*\u001b[39m model\u001b[38;5;241m.\u001b[39mx[s] \u001b[38;5;28;01mfor\u001b[39;00m s \u001b[38;5;129;01min\u001b[39;00m model\u001b[38;5;241m.\u001b[39mS) \u001b[38;5;241m-\u001b[39m model\u001b[38;5;241m.\u001b[39mR \u001b[38;5;241m*\u001b[39m \u001b[38;5;28msum\u001b[39m(\n\u001b[0;32m     35\u001b[0m         model\u001b[38;5;241m.\u001b[39mp[j] \u001b[38;5;241m*\u001b[39m \u001b[38;5;28mmax\u001b[39m(\u001b[38;5;241m0\u001b[39m, \u001b[38;5;28msum\u001b[39m(model\u001b[38;5;241m.\u001b[39mc[s] \u001b[38;5;241m*\u001b[39m model\u001b[38;5;241m.\u001b[39mx[s] \u001b[38;5;28;01mfor\u001b[39;00m s \u001b[38;5;129;01min\u001b[39;00m model\u001b[38;5;241m.\u001b[39mS) \u001b[38;5;241m-\u001b[39m model\u001b[38;5;241m.\u001b[39mb[j]) \u001b[38;5;28;01mfor\u001b[39;00m j \u001b[38;5;129;01min\u001b[39;00m model\u001b[38;5;241m.\u001b[39mB\n\u001b[0;32m     36\u001b[0m     )\n",
      "Cell \u001b[1;32mIn[9], line 35\u001b[0m, in \u001b[0;36m<genexpr>\u001b[1;34m(.0)\u001b[0m\n\u001b[0;32m     33\u001b[0m \u001b[38;5;28;01mdef\u001b[39;00m \u001b[38;5;21mobjective_rule\u001b[39m(model):\n\u001b[0;32m     34\u001b[0m     \u001b[38;5;28;01mreturn\u001b[39;00m \u001b[38;5;28msum\u001b[39m(model\u001b[38;5;241m.\u001b[39mr[s] \u001b[38;5;241m*\u001b[39m model\u001b[38;5;241m.\u001b[39mx[s] \u001b[38;5;28;01mfor\u001b[39;00m s \u001b[38;5;129;01min\u001b[39;00m model\u001b[38;5;241m.\u001b[39mS) \u001b[38;5;241m-\u001b[39m model\u001b[38;5;241m.\u001b[39mR \u001b[38;5;241m*\u001b[39m \u001b[38;5;28msum\u001b[39m(\n\u001b[1;32m---> 35\u001b[0m         model\u001b[38;5;241m.\u001b[39mp[j] \u001b[38;5;241m*\u001b[39m \u001b[38;5;28mmax\u001b[39m(\u001b[38;5;241m0\u001b[39m, \u001b[38;5;28msum\u001b[39m(model\u001b[38;5;241m.\u001b[39mc[s] \u001b[38;5;241m*\u001b[39m model\u001b[38;5;241m.\u001b[39mx[s] \u001b[38;5;28;01mfor\u001b[39;00m s \u001b[38;5;129;01min\u001b[39;00m model\u001b[38;5;241m.\u001b[39mS) \u001b[38;5;241m-\u001b[39m model\u001b[38;5;241m.\u001b[39mb[j]) \u001b[38;5;28;01mfor\u001b[39;00m j \u001b[38;5;129;01min\u001b[39;00m model\u001b[38;5;241m.\u001b[39mB\n\u001b[0;32m     36\u001b[0m     )\n",
      "File \u001b[1;32m~\\anaconda3\\Lib\\site-packages\\pyomo\\core\\expr\\relational_expr.py:47\u001b[0m, in \u001b[0;36mRelationalExpression.__bool__\u001b[1;34m(self)\u001b[0m\n\u001b[0;32m     45\u001b[0m         \u001b[38;5;28;01mif\u001b[39;00m \u001b[38;5;28mself\u001b[39m\u001b[38;5;241m.\u001b[39mis_constant():\n\u001b[0;32m     46\u001b[0m             \u001b[38;5;28;01mreturn\u001b[39;00m \u001b[38;5;28mbool\u001b[39m(\u001b[38;5;28mself\u001b[39m())\n\u001b[1;32m---> 47\u001b[0m         \u001b[38;5;28;01mraise\u001b[39;00m PyomoException(\n\u001b[0;32m     48\u001b[0m \u001b[38;5;250m            \u001b[39m\u001b[38;5;124;03m\"\"\"\u001b[39;00m\n\u001b[0;32m     49\u001b[0m \u001b[38;5;124;03mCannot convert non-constant Pyomo expression (%s) to bool.\u001b[39;00m\n\u001b[0;32m     50\u001b[0m \u001b[38;5;124;03mThis error is usually caused by using a Var, unit, or mutable Param in a\u001b[39;00m\n\u001b[0;32m     51\u001b[0m \u001b[38;5;124;03mBoolean context such as an \"if\" statement, or when checking container\u001b[39;00m\n\u001b[0;32m     52\u001b[0m \u001b[38;5;124;03mmembership or equality. For example,\u001b[39;00m\n\u001b[0;32m     53\u001b[0m \u001b[38;5;124;03m    >>> m.x = Var()\u001b[39;00m\n\u001b[0;32m     54\u001b[0m \u001b[38;5;124;03m    >>> if m.x >= 1:\u001b[39;00m\n\u001b[0;32m     55\u001b[0m \u001b[38;5;124;03m    ...     pass\u001b[39;00m\n\u001b[0;32m     56\u001b[0m \u001b[38;5;124;03mand\u001b[39;00m\n\u001b[0;32m     57\u001b[0m \u001b[38;5;124;03m    >>> m.y = Var()\u001b[39;00m\n\u001b[0;32m     58\u001b[0m \u001b[38;5;124;03m    >>> if m.y in [m.x, m.y]:\u001b[39;00m\n\u001b[0;32m     59\u001b[0m \u001b[38;5;124;03m    ...     pass\u001b[39;00m\n\u001b[0;32m     60\u001b[0m \u001b[38;5;124;03mwould both cause this exception.\"\"\"\u001b[39;00m\u001b[38;5;241m.\u001b[39mstrip()\n\u001b[0;32m     61\u001b[0m             \u001b[38;5;241m%\u001b[39m (\u001b[38;5;28mself\u001b[39m,)\n\u001b[0;32m     62\u001b[0m         )\n",
      "\u001b[1;31mPyomoException\u001b[0m: Cannot convert non-constant Pyomo expression (0  <  80*x[1] + 340*x[2] + 410*x[3] + 50*x[4] + 180*x[5] + 221*x[6] + 15*x[7] + 348*x[8] + 191*x[9] + 225*x[10] - 1000) to bool.\nThis error is usually caused by using a Var, unit, or mutable Param in a\nBoolean context such as an \"if\" statement, or when checking container\nmembership or equality. For example,\n    >>> m.x = Var()\n    >>> if m.x >= 1:\n    ...     pass\nand\n    >>> m.y = Var()\n    >>> if m.y in [m.x, m.y]:\n    ...     pass\nwould both cause this exception."
     ]
    }
   ],
   "source": [
    "from pyomo.environ import *\n",
    "\n",
    "# Sample data (replace with actual data from investments_data.csv)\n",
    "investments_data = {\n",
    "    's': [1, 2, 3, 4, 5, 6, 7, 8, 9, 10],\n",
    "    'r': [0.12, 0.08, 0.15, 0.05, 0.10, 0.09, 0.11, 0.13, 0.07, 0.14],\n",
    "}\n",
    "c = [80, 340, 410, 50, 180, 221, 15, 348, 191, 225]  # Sample cost data\n",
    "b = [1000, 1100, 900, 1200]  # Sample budget data\n",
    "p = [0.55, 0.4, 0.04, 0.01]  # Sample probability data\n",
    "R = 2  # Risk parameter\n",
    "alpha = 0.4  # Tolerable probability of exceeding the budget\n",
    "\n",
    "# Define the model\n",
    "model = ConcreteModel()\n",
    "\n",
    "# Sets and indices\n",
    "model.S = Set(initialize=investments_data['s'])\n",
    "model.B = Set(initialize=range(1, len(b) + 1))\n",
    "\n",
    "# Parameters\n",
    "model.r = Param(model.S, initialize={s: investments_data['r'][i] for i, s in enumerate(investments_data['s'])})\n",
    "model.c = Param(model.S, initialize={s: c[i] for i, s in enumerate(investments_data['s'])})\n",
    "model.b = Param(model.B, initialize={j: b[j - 1] for j in model.B})\n",
    "model.p = Param(model.B, initialize={j: p[j - 1] for j in model.B})\n",
    "model.R = Param(initialize=R)\n",
    "model.alpha = Param(initialize=alpha)\n",
    "\n",
    "# Decision variables\n",
    "model.x = Var(model.S, domain=Binary)\n",
    "\n",
    "# Objective function\n",
    "def objective_rule(model):\n",
    "    return sum(model.r[s] * model.x[s] for s in model.S) - model.R * sum(\n",
    "        model.p[j] * max(0, sum(model.c[s] * model.x[s] for s in model.S) - model.b[j]) for j in model.B\n",
    "    )\n",
    "\n",
    "model.objective = Objective(rule=objective_rule, sense=maximize)\n",
    "\n",
    "# Constraints\n",
    "def budget_constraint_rule(model, j):\n",
    "    return sum(model.p[j] * (sum(model.c[s] * model.x[s] for s in model.S) > model.b[j]) for j in model.B) <= model.alpha\n",
    "\n",
    "model.budget_constraint = Constraint(model.B, rule=budget_constraint_rule)\n",
    "\n",
    "# Solve the model\n",
    "solver = SolverFactory('cbc')  # Replace with your preferred solver\n",
    "solver.solve(model)\n",
    "\n",
    "# Print the results\n",
    "print(\"Optimal solution:\")\n",
    "for s in model.S:\n",
    "    if model.x[s].value > 0.5:\n",
    "        print(f\"Invest in strategy {s}\")\n",
    "\n",
    "print(f\"Expected return: {model.objective()}\")"
   ]
  },
  {
   "cell_type": "markdown",
   "id": "8f10340f",
   "metadata": {},
   "source": [
    "## 5. Correct the code to verify model viability (optional)"
   ]
  },
  {
   "cell_type": "code",
   "execution_count": null,
   "id": "1dff97ac",
   "metadata": {},
   "outputs": [],
   "source": []
  },
  {
   "cell_type": "markdown",
   "id": "03525f23",
   "metadata": {},
   "source": [
    "## 6. Printing the outputs as strings, so they can be saved.\n",
    "Those can be rendered as markdown for better readability"
   ]
  },
  {
   "cell_type": "code",
   "execution_count": 10,
   "id": "9d832f4d",
   "metadata": {},
   "outputs": [
    {
     "name": "stdout",
     "output_type": "stream",
     "text": [
      "## Mean-Variance Optimization Model with Uncertain Budget\n",
      "\n",
      "### Sets and Indices:\n",
      "\n",
      "* $S$: Set of investment strategies, $S = \\{1, 2, ..., 10\\}$\n",
      "* $B$: Set of budget scenarios, $B = \\{1, 2, 3, 4\\}$ \n",
      "\n",
      "### Parameters:\n",
      "\n",
      "* $r_s$: Historical return of strategy $s \\in S$ (from \"investments_data.csv\")\n",
      "* $c_s$: Cost of investing in strategy $s \\in S$, where $c = [80, 340, 410, 50, 180, 221, 15, 348, 191, 225]$\n",
      "* $b_j$: Budget amount in scenario $j \\in B$, where $b = [1000, 1100, 900, 1200]$\n",
      "* $p_j$: Probability of budget scenario $j \\in B$, where $p = [0.55, 0.4, 0.04, 0.01]$\n",
      "* $R$: Risk parameter, $R = 2$\n",
      "* $\\alpha$: Tolerable probability of exceeding the budget, $\\alpha = 0.4$\n",
      "\n",
      "### Decision Variables:\n",
      "\n",
      "* $x_s$: Binary variable, 1 if strategy $s$ is chosen, 0 otherwise. \n",
      "\n",
      "### Objective Function:\n",
      "\n",
      "Maximize the expected return minus a penalty for exceeding the budget:\n",
      "\n",
      "```\n",
      "Maximize  ∑_(s∈S) r_s * x_s - R * ∑_(j∈B) p_j * max(0, ∑_(s∈S) c_s * x_s - b_j)\n",
      "```\n",
      "\n",
      "* The first term calculates the expected return based on the chosen strategies and their historical returns.\n",
      "* The second term penalizes exceeding the budget in each scenario, weighted by the scenario probability and the risk parameter.\n",
      "\n",
      "### Constraints:\n",
      "\n",
      "1. **Budget Constraint:** Limit the probability of exceeding the budget:\n",
      "\n",
      "```\n",
      "∑_(j∈B) p_j * I(∑_(s∈S) c_s * x_s > b_j) <= α\n",
      "```\n",
      "\n",
      "* $I(\\cdot)$ is an indicator function, equal to 1 if the condition inside is true, and 0 otherwise. This constraint ensures the probability of exceeding the budget across all scenarios remains below the tolerable level $\\alpha$.\n",
      "\n",
      "2. **Investment Choice:** Invest in each strategy at most once:\n",
      "\n",
      "```\n",
      "x_s ∈ {0, 1}  ∀ s ∈ S\n",
      "```\n",
      "\n",
      "### Model Interpretation:\n",
      "\n",
      "This model aims to find the optimal investment strategy combination that maximizes the expected return while controlling the risk of exceeding the budget under different scenarios. The objective function balances maximizing return and minimizing potential budget overruns. The constraints ensure the solution remains within the acceptable risk tolerance and adheres to the investment limitations.\n",
      "\n",
      "**Note:** Solving this model requires a mixed-integer programming solver due to the binary decision variables.  \n",
      "\n"
     ]
    }
   ],
   "source": [
    "print(response.text)"
   ]
  },
  {
   "cell_type": "code",
   "execution_count": 11,
   "id": "57e86877",
   "metadata": {},
   "outputs": [
    {
     "name": "stdout",
     "output_type": "stream",
     "text": [
      "## Pyomo Implementation of Mean-Variance Optimization with Uncertain Budget\n",
      "\n",
      "```python\n",
      "from pyomo.environ import *\n",
      "\n",
      "# Sample data (replace with actual data from investments_data.csv)\n",
      "investments_data = {\n",
      "    's': [1, 2, 3, 4, 5, 6, 7, 8, 9, 10],\n",
      "    'r': [0.12, 0.08, 0.15, 0.05, 0.10, 0.09, 0.11, 0.13, 0.07, 0.14],\n",
      "}\n",
      "c = [80, 340, 410, 50, 180, 221, 15, 348, 191, 225]  # Sample cost data\n",
      "b = [1000, 1100, 900, 1200]  # Sample budget data\n",
      "p = [0.55, 0.4, 0.04, 0.01]  # Sample probability data\n",
      "R = 2  # Risk parameter\n",
      "alpha = 0.4  # Tolerable probability of exceeding the budget\n",
      "\n",
      "# Define the model\n",
      "model = ConcreteModel()\n",
      "\n",
      "# Sets and indices\n",
      "model.S = Set(initialize=investments_data['s'])\n",
      "model.B = Set(initialize=range(1, len(b) + 1))\n",
      "\n",
      "# Parameters\n",
      "model.r = Param(model.S, initialize={s: investments_data['r'][i] for i, s in enumerate(investments_data['s'])})\n",
      "model.c = Param(model.S, initialize={s: c[i] for i, s in enumerate(investments_data['s'])})\n",
      "model.b = Param(model.B, initialize={j: b[j - 1] for j in model.B})\n",
      "model.p = Param(model.B, initialize={j: p[j - 1] for j in model.B})\n",
      "model.R = Param(initialize=R)\n",
      "model.alpha = Param(initialize=alpha)\n",
      "\n",
      "# Decision variables\n",
      "model.x = Var(model.S, domain=Binary)\n",
      "\n",
      "# Objective function\n",
      "def objective_rule(model):\n",
      "    return sum(model.r[s] * model.x[s] for s in model.S) - model.R * sum(\n",
      "        model.p[j] * max(0, sum(model.c[s] * model.x[s] for s in model.S) - model.b[j]) for j in model.B\n",
      "    )\n",
      "\n",
      "model.objective = Objective(rule=objective_rule, sense=maximize)\n",
      "\n",
      "# Constraints\n",
      "def budget_constraint_rule(model, j):\n",
      "    return sum(model.p[j] * (sum(model.c[s] * model.x[s] for s in model.S) > model.b[j]) for j in model.B) <= model.alpha\n",
      "\n",
      "model.budget_constraint = Constraint(model.B, rule=budget_constraint_rule)\n",
      "\n",
      "# Solve the model\n",
      "solver = SolverFactory('cbc')  # Replace with your preferred solver\n",
      "solver.solve(model)\n",
      "\n",
      "# Print the results\n",
      "print(\"Optimal solution:\")\n",
      "for s in model.S:\n",
      "    if model.x[s].value > 0.5:\n",
      "        print(f\"Invest in strategy {s}\")\n",
      "\n",
      "print(f\"Expected return: {model.objective()}\")\n",
      "```\n",
      "\n",
      "**Explanation:**\n",
      "\n",
      "1. **Import Pyomo:** We import the necessary Pyomo library.\n",
      "2. **Sample Data:** We define sample data for returns (replace with actual data), costs, budgets, probabilities, risk parameter, and tolerable probability.\n",
      "3. **Model Definition:** We create a ConcreteModel instance to represent the optimization problem.\n",
      "4. **Sets and Indices:** We define sets for strategies (S) and budget scenarios (B).\n",
      "5. **Parameters:** We define parameters for returns, costs, budgets, probabilities, risk parameter, and tolerable probability, initializing them with the sample data.\n",
      "6. **Decision Variables:** We define binary decision variables x[s] to represent whether to invest in strategy s or not.\n",
      "7. **Objective Function:** We define the objective function using a rule that calculates the expected return minus the penalty for exceeding the budget.\n",
      "8. **Constraints:** We define the budget constraint using a rule that ensures the probability of exceeding the budget across all scenarios remains below the tolerable level.\n",
      "9. **Solver:** We choose a solver (e.g., CBC) to solve the mixed-integer programming problem.\n",
      "10. **Results:** We print the optimal investment decisions and the expected return. \n",
      "\n"
     ]
    }
   ],
   "source": [
    "print(response2.text)"
   ]
  }
 ],
 "metadata": {
  "kernelspec": {
   "display_name": "Python 3 (ipykernel)",
   "language": "python",
   "name": "python3"
  },
  "language_info": {
   "codemirror_mode": {
    "name": "ipython",
    "version": 3
   },
   "file_extension": ".py",
   "mimetype": "text/x-python",
   "name": "python",
   "nbconvert_exporter": "python",
   "pygments_lexer": "ipython3",
   "version": "3.11.4"
  }
 },
 "nbformat": 4,
 "nbformat_minor": 5
}
