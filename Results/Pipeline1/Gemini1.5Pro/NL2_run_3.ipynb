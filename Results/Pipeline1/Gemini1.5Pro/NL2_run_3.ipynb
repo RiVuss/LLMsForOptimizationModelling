{
 "cells": [
  {
   "cell_type": "markdown",
   "id": "f0005e9e",
   "metadata": {},
   "source": [
    "# LLM Optimization Modelling Experiment"
   ]
  },
  {
   "cell_type": "code",
   "execution_count": 3,
   "id": "7f664028",
   "metadata": {},
   "outputs": [],
   "source": [
    "import vertexai\n",
    "from vertexai.preview.generative_models import GenerativeModel, Image\n",
    "from IPython.display import Markdown"
   ]
  },
  {
   "cell_type": "markdown",
   "id": "f527d6af",
   "metadata": {},
   "source": [
    "## 1. Define the problem description"
   ]
  },
  {
   "cell_type": "code",
   "execution_count": 55,
   "id": "25055ffd",
   "metadata": {},
   "outputs": [],
   "source": [
    "problem = '''You are a chemist in charge of a process that requires two liquids to reach the end product. Your goal is to maximize the quality of the product in the end, which is measured by the difference between the Napierian logarithm of the product of the litres used of each component and the cube root of the summation of the first component litres as well as double the second component litres. It is required that the squared difference between the litres employed of each component and the mean litres utilised of both components is below ten. This is necessary for the obtained set to be stable. Furthermore, the mixture tank available to you can only fit 80 l. Please formulate a mathematical optimization model for this problem. '''"
   ]
  },
  {
   "cell_type": "markdown",
   "id": "472cf9ad",
   "metadata": {},
   "source": [
    "## 2. Generate the mathematical model"
   ]
  },
  {
   "cell_type": "code",
   "execution_count": 104,
   "id": "e31ec80c",
   "metadata": {},
   "outputs": [],
   "source": [
    "#Initializing the session. To replicate, make sure the right credentials are saved in a PATH variable\n",
    "PROJECT_ID = \"llm4optproblems\"\n",
    "REGION = \"us-central1\"\n",
    "vertexai.init(project=PROJECT_ID, location=REGION)\n",
    "\n",
    "#Specifying the model\n",
    "generative_multimodal_model = GenerativeModel(\"gemini-1.5-pro-preview-0409\")\n",
    "\n",
    "#The propmt applied to all problems\n",
    "prompt = '''Please formulate a mathematical optimization model for this problem. Include parameters, decision variables, the objective function and the constraints in your answer.\n",
    "'''\n",
    "\n",
    "#Generate the response\n",
    "response = generative_multimodal_model.generate_content([prompt+problem])\n"
   ]
  },
  {
   "cell_type": "code",
   "execution_count": 105,
   "id": "f9adc567",
   "metadata": {},
   "outputs": [
    {
     "data": {
      "text/markdown": [
       "## Mathematical Optimization Model\n",
       "\n",
       "**Parameters:**\n",
       "\n",
       "*  None\n",
       "\n",
       "**Decision Variables:**\n",
       "\n",
       "*  $x_1$: Litres of the first component used.\n",
       "*  $x_2$: Litres of the second component used.\n",
       "\n",
       "**Objective Function:**\n",
       "\n",
       "Maximize $Z = \\ln(x_1 \\cdot x_2) - \\sqrt[3]{x_1 + 2x_2}$ \n",
       "\n",
       "**Constraints:**\n",
       "\n",
       "1. **Tank Capacity:** $x_1 + x_2 \\leq 80$\n",
       "2. **Stability:** $(x_1 - \\frac{x_1 + x_2}{2})^2 \\leq 10$\n",
       "3. **Stability:** $(x_2 - \\frac{x_1 + x_2}{2})^2 \\leq 10$\n",
       "4. **Non-negativity:** $x_1 \\geq 0$\n",
       "5. **Non-negativity:** $x_2 \\geq 0$ \n",
       "\n",
       "**Explanation:**\n",
       "\n",
       "* The objective function maximizes the quality of the end product based on the given formula.\n",
       "* Constraint 1 ensures that the total volume of liquids used does not exceed the tank's capacity.\n",
       "* Constraints 2 and 3 enforce the stability requirement by limiting the squared difference between each component's volume and the mean volume.\n",
       "* Constraints 4 and 5 ensure that the volume of each component used is non-negative.\n",
       "\n",
       "This model represents the problem mathematically and can be solved using appropriate optimization techniques to find the optimal volumes of each component for maximizing the product quality. \n"
      ],
      "text/plain": [
       "<IPython.core.display.Markdown object>"
      ]
     },
     "execution_count": 105,
     "metadata": {},
     "output_type": "execute_result"
    }
   ],
   "source": [
    "#Show the resopnse in a formatted way\n",
    "Markdown(response.text)"
   ]
  },
  {
   "cell_type": "markdown",
   "id": "75796979",
   "metadata": {},
   "source": [
    "## 3. Generate the pyomo code"
   ]
  },
  {
   "cell_type": "code",
   "execution_count": 106,
   "id": "aabea932",
   "metadata": {},
   "outputs": [],
   "source": [
    "#Second prompt gets the output of the previous step and generates the code\n",
    "prompt2 = \"Please write pyomo code for this mathematical problem. Use sample data where needed. Indicate where you use sample data. \\n\"\n",
    "prompt2 += response.text \n",
    "response2 = generative_multimodal_model.generate_content([prompt2])"
   ]
  },
  {
   "cell_type": "code",
   "execution_count": 107,
   "id": "fd2835af",
   "metadata": {
    "scrolled": false
   },
   "outputs": [
    {
     "data": {
      "text/markdown": [
       "```python\n",
       "import pyomo.environ as pyo\n",
       "\n",
       "# Create a concrete model\n",
       "model = pyo.ConcreteModel()\n",
       "\n",
       "# Define decision variables\n",
       "model.x1 = pyo.Var(domain=pyo.NonNegativeReals)\n",
       "model.x2 = pyo.Var(domain=pyo.NonNegativeReals)\n",
       "\n",
       "# Define the objective function\n",
       "model.obj = pyo.Objective(expr=pyo.log(model.x1 * model.x2) - (model.x1 + 2*model.x2)**(1/3), sense=pyo.maximize)\n",
       "\n",
       "# Define constraints\n",
       "model.tank_capacity = pyo.Constraint(expr=model.x1 + model.x2 <= 80)\n",
       "model.stability1 = pyo.Constraint(expr=(model.x1 - (model.x1 + model.x2)/2)**2 <= 10)\n",
       "model.stability2 = pyo.Constraint(expr=(model.x2 - (model.x1 + model.x2)/2)**2 <= 10)\n",
       "\n",
       "# Solve the model\n",
       "solver = pyo.SolverFactory('ipopt') # You can choose a different solver if you prefer\n",
       "results = solver.solve(model)\n",
       "\n",
       "# Print the results\n",
       "print(results)\n",
       "print(\"x1:\", pyo.value(model.x1))\n",
       "print(\"x2:\", pyo.value(model.x2))\n",
       "```\n",
       "\n",
       "This code defines the Pyomo model for the provided mathematical optimization problem. \n",
       "\n",
       "**Explanation:**\n",
       "\n",
       "1. **Import Pyomo:** Imports the Pyomo library.\n",
       "2. **Create a Concrete Model:** Creates a ConcreteModel object to represent the optimization problem.\n",
       "3. **Define Decision Variables:**  Defines the decision variables `x1` and `x2` using `pyo.Var()`, both constrained to be non-negative real numbers.\n",
       "4. **Define the Objective Function:** Defines the objective function `obj` using `pyo.Objective()`. The `sense=pyo.maximize` indicates we are maximizing the function. \n",
       "5. **Define Constraints:** Defines the constraints using `pyo.Constraint()`:\n",
       "    - `tank_capacity`: Represents the tank capacity constraint.\n",
       "    - `stability1` and `stability2`: Represent the stability constraints. \n",
       "6. **Solve the Model:**\n",
       "    - Creates a solver object using `pyo.SolverFactory('ipopt')`. You can choose a different solver appropriate for nonlinear problems.\n",
       "    - Solves the model using `solver.solve(model)`.\n",
       "7. **Print the Results:** Prints the solver status and the optimal values of the decision variables. \n",
       "\n",
       "This code provides a basic framework for solving the optimization problem. You can expand it by adding error handling, detailed result analysis, and potentially exploring different solvers for comparison.\n"
      ],
      "text/plain": [
       "<IPython.core.display.Markdown object>"
      ]
     },
     "execution_count": 107,
     "metadata": {},
     "output_type": "execute_result"
    }
   ],
   "source": [
    "#Showing the code in a formatted way\n",
    "Markdown(response2.text)"
   ]
  },
  {
   "cell_type": "markdown",
   "id": "b60756ae",
   "metadata": {},
   "source": [
    "## 4. Input problem data and try running the generated code"
   ]
  },
  {
   "cell_type": "code",
   "execution_count": 108,
   "id": "cf794f38",
   "metadata": {},
   "outputs": [
    {
     "name": "stdout",
     "output_type": "stream",
     "text": [
      "\n",
      "Problem: \n",
      "- Lower bound: -inf\n",
      "  Upper bound: inf\n",
      "  Number of objectives: 1\n",
      "  Number of constraints: 3\n",
      "  Number of variables: 2\n",
      "  Sense: unknown\n",
      "Solver: \n",
      "- Status: ok\n",
      "  Message: Ipopt 3.11.1\\x3a Optimal Solution Found\n",
      "  Termination condition: optimal\n",
      "  Id: 0\n",
      "  Error rc: 0\n",
      "  Time: 0.03985762596130371\n",
      "Solution: \n",
      "- number of solutions: 0\n",
      "  number of solutions displayed: 0\n",
      "\n",
      "x1: 43.162277233647174\n",
      "x2: 36.8377229631074\n"
     ]
    }
   ],
   "source": [
    "import pyomo.environ as pyo\n",
    "\n",
    "# Create a concrete model\n",
    "model = pyo.ConcreteModel()\n",
    "\n",
    "# Define decision variables\n",
    "model.x1 = pyo.Var(domain=pyo.NonNegativeReals)\n",
    "model.x2 = pyo.Var(domain=pyo.NonNegativeReals)\n",
    "\n",
    "# Define the objective function\n",
    "model.obj = pyo.Objective(expr=pyo.log(model.x1 * model.x2) - (model.x1 + 2*model.x2)**(1/3), sense=pyo.maximize)\n",
    "\n",
    "# Define constraints\n",
    "model.tank_capacity = pyo.Constraint(expr=model.x1 + model.x2 <= 80)\n",
    "model.stability1 = pyo.Constraint(expr=(model.x1 - (model.x1 + model.x2)/2)**2 <= 10)\n",
    "model.stability2 = pyo.Constraint(expr=(model.x2 - (model.x1 + model.x2)/2)**2 <= 10)\n",
    "\n",
    "# Solve the model\n",
    "solver = pyo.SolverFactory('ipopt') # You can choose a different solver if you prefer\n",
    "results = solver.solve(model)\n",
    "\n",
    "# Print the results\n",
    "print(results)\n",
    "print(\"x1:\", pyo.value(model.x1))\n",
    "print(\"x2:\", pyo.value(model.x2))"
   ]
  },
  {
   "cell_type": "markdown",
   "id": "1be0926e",
   "metadata": {},
   "source": [
    "## 5. Correct the code to verify model viability (optional)"
   ]
  },
  {
   "cell_type": "code",
   "execution_count": null,
   "id": "8b37acfc",
   "metadata": {},
   "outputs": [],
   "source": []
  },
  {
   "cell_type": "markdown",
   "id": "ea06ee6a",
   "metadata": {},
   "source": [
    "## 6. Printing the outputs as strings, so they can be saved.\n",
    "Those can be rendered as markdown for better readability"
   ]
  },
  {
   "cell_type": "code",
   "execution_count": 111,
   "id": "e904cf68",
   "metadata": {},
   "outputs": [
    {
     "name": "stdout",
     "output_type": "stream",
     "text": [
      "## Mathematical Optimization Model\n",
      "\n",
      "**Parameters:**\n",
      "\n",
      "*  None\n",
      "\n",
      "**Decision Variables:**\n",
      "\n",
      "*  $x_1$: Litres of the first component used.\n",
      "*  $x_2$: Litres of the second component used.\n",
      "\n",
      "**Objective Function:**\n",
      "\n",
      "Maximize $Z = \\ln(x_1 \\cdot x_2) - \\sqrt[3]{x_1 + 2x_2}$ \n",
      "\n",
      "**Constraints:**\n",
      "\n",
      "1. **Tank Capacity:** $x_1 + x_2 \\leq 80$\n",
      "2. **Stability:** $(x_1 - \\frac{x_1 + x_2}{2})^2 \\leq 10$\n",
      "3. **Stability:** $(x_2 - \\frac{x_1 + x_2}{2})^2 \\leq 10$\n",
      "4. **Non-negativity:** $x_1 \\geq 0$\n",
      "5. **Non-negativity:** $x_2 \\geq 0$ \n",
      "\n",
      "**Explanation:**\n",
      "\n",
      "* The objective function maximizes the quality of the end product based on the given formula.\n",
      "* Constraint 1 ensures that the total volume of liquids used does not exceed the tank's capacity.\n",
      "* Constraints 2 and 3 enforce the stability requirement by limiting the squared difference between each component's volume and the mean volume.\n",
      "* Constraints 4 and 5 ensure that the volume of each component used is non-negative.\n",
      "\n",
      "This model represents the problem mathematically and can be solved using appropriate optimization techniques to find the optimal volumes of each component for maximizing the product quality. \n",
      "\n"
     ]
    }
   ],
   "source": [
    "print(response.text)"
   ]
  },
  {
   "cell_type": "code",
   "execution_count": 110,
   "id": "859eaf28",
   "metadata": {},
   "outputs": [
    {
     "name": "stdout",
     "output_type": "stream",
     "text": [
      "```python\n",
      "import pyomo.environ as pyo\n",
      "\n",
      "# Create a concrete model\n",
      "model = pyo.ConcreteModel()\n",
      "\n",
      "# Define decision variables\n",
      "model.x1 = pyo.Var(domain=pyo.NonNegativeReals)\n",
      "model.x2 = pyo.Var(domain=pyo.NonNegativeReals)\n",
      "\n",
      "# Define the objective function\n",
      "model.obj = pyo.Objective(expr=pyo.log(model.x1 * model.x2) - (model.x1 + 2*model.x2)**(1/3), sense=pyo.maximize)\n",
      "\n",
      "# Define constraints\n",
      "model.tank_capacity = pyo.Constraint(expr=model.x1 + model.x2 <= 80)\n",
      "model.stability1 = pyo.Constraint(expr=(model.x1 - (model.x1 + model.x2)/2)**2 <= 10)\n",
      "model.stability2 = pyo.Constraint(expr=(model.x2 - (model.x1 + model.x2)/2)**2 <= 10)\n",
      "\n",
      "# Solve the model\n",
      "solver = pyo.SolverFactory('ipopt') # You can choose a different solver if you prefer\n",
      "results = solver.solve(model)\n",
      "\n",
      "# Print the results\n",
      "print(results)\n",
      "print(\"x1:\", pyo.value(model.x1))\n",
      "print(\"x2:\", pyo.value(model.x2))\n",
      "```\n",
      "\n",
      "This code defines the Pyomo model for the provided mathematical optimization problem. \n",
      "\n",
      "**Explanation:**\n",
      "\n",
      "1. **Import Pyomo:** Imports the Pyomo library.\n",
      "2. **Create a Concrete Model:** Creates a ConcreteModel object to represent the optimization problem.\n",
      "3. **Define Decision Variables:**  Defines the decision variables `x1` and `x2` using `pyo.Var()`, both constrained to be non-negative real numbers.\n",
      "4. **Define the Objective Function:** Defines the objective function `obj` using `pyo.Objective()`. The `sense=pyo.maximize` indicates we are maximizing the function. \n",
      "5. **Define Constraints:** Defines the constraints using `pyo.Constraint()`:\n",
      "    - `tank_capacity`: Represents the tank capacity constraint.\n",
      "    - `stability1` and `stability2`: Represent the stability constraints. \n",
      "6. **Solve the Model:**\n",
      "    - Creates a solver object using `pyo.SolverFactory('ipopt')`. You can choose a different solver appropriate for nonlinear problems.\n",
      "    - Solves the model using `solver.solve(model)`.\n",
      "7. **Print the Results:** Prints the solver status and the optimal values of the decision variables. \n",
      "\n",
      "This code provides a basic framework for solving the optimization problem. You can expand it by adding error handling, detailed result analysis, and potentially exploring different solvers for comparison.\n",
      "\n"
     ]
    }
   ],
   "source": [
    "print(response2.text)"
   ]
  }
 ],
 "metadata": {
  "kernelspec": {
   "display_name": "Python 3 (ipykernel)",
   "language": "python",
   "name": "python3"
  },
  "language_info": {
   "codemirror_mode": {
    "name": "ipython",
    "version": 3
   },
   "file_extension": ".py",
   "mimetype": "text/x-python",
   "name": "python",
   "nbconvert_exporter": "python",
   "pygments_lexer": "ipython3",
   "version": "3.11.4"
  }
 },
 "nbformat": 4,
 "nbformat_minor": 5
}
