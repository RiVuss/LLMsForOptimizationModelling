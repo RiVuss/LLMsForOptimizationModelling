{
 "cells": [
  {
   "cell_type": "markdown",
   "id": "0df7edfd",
   "metadata": {},
   "source": [
    "# LLM Optimization Modelling Experiment"
   ]
  },
  {
   "cell_type": "code",
   "execution_count": 156,
   "id": "7f664028",
   "metadata": {},
   "outputs": [],
   "source": [
    "import vertexai\n",
    "from vertexai.preview.generative_models import GenerativeModel\n",
    "from IPython.display import Markdown"
   ]
  },
  {
   "cell_type": "markdown",
   "id": "c106f1be",
   "metadata": {},
   "source": [
    "## 1. Define the problem description"
   ]
  },
  {
   "cell_type": "code",
   "execution_count": 360,
   "id": "9adce4b2",
   "metadata": {},
   "outputs": [],
   "source": [
    "problem = '''You are a chemist in charge of a process that requires two liquids to reach the end product. Your goal is to maximize the quality of the product in the end, which is measured by the difference between the Napierian logarithm of the product of the litres used of each component and the cube root of the summation of the first component litres as well as double the second component litres. It is required that the squared difference between the litres employed of each component and the mean litres utilised of both components is below ten. This is necessary for the obtained set to be stable. Furthermore, the mixture tank available to you can only fit 80 l. Please formulate a mathematical optimization model for this problem. '''"
   ]
  },
  {
   "cell_type": "markdown",
   "id": "063be1a3",
   "metadata": {},
   "source": [
    "## 2. Generate the mathematical model"
   ]
  },
  {
   "cell_type": "code",
   "execution_count": 368,
   "id": "e31ec80c",
   "metadata": {},
   "outputs": [],
   "source": [
    "#Initializing the session. To replicate, make sure the right credentials are saved in a PATH variable\n",
    "PROJECT_ID = \"llm4optproblems\"\n",
    "REGION = \"us-central1\"\n",
    "vertexai.init(project=PROJECT_ID, location=REGION)\n",
    "\n",
    "#Specifying the model\n",
    "generative_multimodal_model = GenerativeModel(\"gemini-1.5-pro-preview-0409\")\n",
    "\n",
    "#The propmt applied to all problems\n",
    "prompt = '''Let's think step by step. Please write a mathematical optimization model for this problem. If there are parameter values, make sure to include them in the mathematical formulation.\n",
    "'''\n",
    "\n",
    "#Generate the response\n",
    "response = generative_multimodal_model.generate_content([prompt+problem])\n"
   ]
  },
  {
   "cell_type": "code",
   "execution_count": 369,
   "id": "f9adc567",
   "metadata": {},
   "outputs": [
    {
     "data": {
      "text/markdown": [
       "Let's define the variables:\n",
       "\n",
       "*  $x_1$: Litres used of the first component.\n",
       "*  $x_2$: Litres used of the second component.\n",
       "\n",
       "Our objective function, representing the quality of the product to be maximized, is:\n",
       "\n",
       "$\\max \\ln(x_1 \\cdot x_2) - \\sqrt[3]{x_1 + 2x_2}$\n",
       "\n",
       "The constraints are:\n",
       "\n",
       "*  $(x_1 - \\frac{x_1 + x_2}{2})^2 \\leq 10$, stability constraint for the first component.\n",
       "*  $(x_2 - \\frac{x_1 + x_2}{2})^2 \\leq 10$, stability constraint for the second component.\n",
       "*  $x_1 + x_2 \\leq 80$, tank capacity constraint. \n",
       "*  $x_1 \\geq 0$, non-negativity constraint for the first component.\n",
       "*  $x_2 \\geq 0$, non-negativity constraint for the second component. \n",
       "\n",
       "This constitutes the mathematical optimization model for the problem. \n"
      ],
      "text/plain": [
       "<IPython.core.display.Markdown object>"
      ]
     },
     "execution_count": 369,
     "metadata": {},
     "output_type": "execute_result"
    }
   ],
   "source": [
    "#Show the resopnse in a formatted way\n",
    "Markdown(response.text)"
   ]
  },
  {
   "cell_type": "markdown",
   "id": "49104a9a",
   "metadata": {},
   "source": [
    "## 3. Generate the pyomo code"
   ]
  },
  {
   "cell_type": "code",
   "execution_count": 370,
   "id": "aabea932",
   "metadata": {},
   "outputs": [],
   "source": [
    "#Second prompt gets the output of the previous step and generates the code\n",
    "prompt2 = \"Please write pyomo code for this mathematical problem. Use sample data where needed. Indicate where you use sample data. \\n\"\n",
    "prompt2 += response.text \n",
    "response2 = generative_multimodal_model.generate_content([prompt2])"
   ]
  },
  {
   "cell_type": "code",
   "execution_count": 371,
   "id": "fd2835af",
   "metadata": {
    "scrolled": false
   },
   "outputs": [
    {
     "data": {
      "text/markdown": [
       "```python\n",
       "from pyomo.environ import *\n",
       "\n",
       "# Create a model\n",
       "model = ConcreteModel()\n",
       "\n",
       "# Define variables\n",
       "model.x1 = Var(domain=NonNegativeReals)\n",
       "model.x2 = Var(domain=NonNegativeReals)\n",
       "\n",
       "# Define objective function\n",
       "model.obj = Objective(expr=log(model.x1 * model.x2) - (model.x1 + 2*model.x2)**(1/3), sense=maximize)\n",
       "\n",
       "# Define constraints\n",
       "model.stability1 = Constraint(expr=(model.x1 - (model.x1 + model.x2)/2)**2 <= 10)\n",
       "model.stability2 = Constraint(expr=(model.x2 - (model.x1 + model.x2)/2)**2 <= 10)\n",
       "model.capacity = Constraint(expr=model.x1 + model.x2 <= 80)\n",
       "\n",
       "# Solve the model\n",
       "solver = SolverFactory('ipopt') # You can choose a different solver if you prefer\n",
       "results = solver.solve(model)\n",
       "\n",
       "# Print the results\n",
       "print(\"Status:\", results.solver.status)\n",
       "print(\"Termination Condition:\", results.solver.termination_condition)\n",
       "print(\"Optimal Solution:\")\n",
       "print(\"x1 =\", value(model.x1))\n",
       "print(\"x2 =\", value(model.x2))\n",
       "print(\"Objective Function Value:\", value(model.obj))\n",
       "```\n",
       "\n",
       "This code defines the model, variables, objective function, and constraints as specified in your problem. It then uses the 'ipopt' solver to find the optimal solution. \n",
       "\n",
       "**Note:** This code provides a basic framework. You might need to adjust the solver or its settings depending on the specific requirements of your problem and the solvers available in your environment. \n"
      ],
      "text/plain": [
       "<IPython.core.display.Markdown object>"
      ]
     },
     "execution_count": 371,
     "metadata": {},
     "output_type": "execute_result"
    }
   ],
   "source": [
    "#Showing the code in a formatted way\n",
    "Markdown(response2.text)"
   ]
  },
  {
   "cell_type": "markdown",
   "id": "b60756ae",
   "metadata": {},
   "source": [
    "## 4. Input problem data and try running the generated code"
   ]
  },
  {
   "cell_type": "code",
   "execution_count": 372,
   "id": "0c0bb1a1",
   "metadata": {},
   "outputs": [
    {
     "name": "stdout",
     "output_type": "stream",
     "text": [
      "Status: ok\n",
      "Termination Condition: optimal\n",
      "Optimal Solution:\n",
      "x1 = 43.162277233647174\n",
      "x2 = 36.8377229631074\n",
      "Objective Function Value: 2.4827783318454744\n"
     ]
    }
   ],
   "source": [
    "from pyomo.environ import *\n",
    "\n",
    "# Create a model\n",
    "model = ConcreteModel()\n",
    "\n",
    "# Define variables\n",
    "model.x1 = Var(domain=NonNegativeReals)\n",
    "model.x2 = Var(domain=NonNegativeReals)\n",
    "\n",
    "# Define objective function\n",
    "model.obj = Objective(expr=log(model.x1 * model.x2) - (model.x1 + 2*model.x2)**(1/3), sense=maximize)\n",
    "\n",
    "# Define constraints\n",
    "model.stability1 = Constraint(expr=(model.x1 - (model.x1 + model.x2)/2)**2 <= 10)\n",
    "model.stability2 = Constraint(expr=(model.x2 - (model.x1 + model.x2)/2)**2 <= 10)\n",
    "model.capacity = Constraint(expr=model.x1 + model.x2 <= 80)\n",
    "\n",
    "# Solve the model\n",
    "solver = SolverFactory('ipopt') # You can choose a different solver if you prefer\n",
    "results = solver.solve(model)\n",
    "\n",
    "# Print the results\n",
    "print(\"Status:\", results.solver.status)\n",
    "print(\"Termination Condition:\", results.solver.termination_condition)\n",
    "print(\"Optimal Solution:\")\n",
    "print(\"x1 =\", value(model.x1))\n",
    "print(\"x2 =\", value(model.x2))\n",
    "print(\"Objective Function Value:\", value(model.obj))"
   ]
  },
  {
   "cell_type": "markdown",
   "id": "8f10340f",
   "metadata": {},
   "source": [
    "## 5. Correct the code to verify model viability (optional)"
   ]
  },
  {
   "cell_type": "code",
   "execution_count": null,
   "id": "ff39bcfb",
   "metadata": {},
   "outputs": [],
   "source": []
  },
  {
   "cell_type": "markdown",
   "id": "03525f23",
   "metadata": {},
   "source": [
    "## 6. Printing the outputs as strings, so they can be saved.\n",
    "Those can be rendered as markdown for better readability"
   ]
  },
  {
   "cell_type": "code",
   "execution_count": 366,
   "id": "9d832f4d",
   "metadata": {},
   "outputs": [
    {
     "name": "stdout",
     "output_type": "stream",
     "text": [
      "Let's define the variables:\n",
      "\n",
      "*  $x_1$: Litres used of the first component.\n",
      "*  $x_2$: Litres used of the second component.\n",
      "\n",
      "Our objective is to maximize the quality of the product, which is:\n",
      "\n",
      " $\\text{Maximize} \\ln(x_1  x_2) - \\sqrt[3]{x_1 + 2x_2}$\n",
      "\n",
      "We have the following constraints:\n",
      "\n",
      "* **Constraint 1:** The squared difference between the litres employed of each component and the mean litres utilised of both components is below ten.\n",
      " $(x_1 - \\frac{x_1+x_2}{2})^2 \\le 10$\n",
      " $(x_2 - \\frac{x_1+x_2}{2})^2 \\le 10$\n",
      "\n",
      "* **Constraint 2:** The mixture tank can only fit 80 l.\n",
      " $x_1 + x_2 \\le 80$\n",
      "\n",
      "* **Constraint 3:** Non-negativity of the variables.\n",
      " $x_1 \\ge 0$\n",
      " $x_2 \\ge 0$\n",
      "\n",
      "This leads to the following mathematical optimization model:\n",
      "\n",
      "$\\text{Maximize} \\ln(x_1  x_2) - \\sqrt[3]{x_1 + 2x_2}$\n",
      "\n",
      " $\\text{Subject to:}$\n",
      " $(x_1 - \\frac{x_1+x_2}{2})^2 \\le 10$\n",
      " $(x_2 - \\frac{x_1+x_2}{2})^2 \\le 10$\n",
      " $x_1 + x_2 \\le 80$\n",
      " $x_1 \\ge 0$\n",
      " $x_2 \\ge 0$\n",
      "\n",
      "This model can be solved using optimization algorithms to find the optimal values of $x_1$ and $x_2$ that maximize the quality of the product.\n",
      "\n"
     ]
    }
   ],
   "source": [
    "print(response.text)"
   ]
  },
  {
   "cell_type": "code",
   "execution_count": 367,
   "id": "57e86877",
   "metadata": {
    "scrolled": false
   },
   "outputs": [
    {
     "name": "stdout",
     "output_type": "stream",
     "text": [
      "```python\n",
      "import pyomo.environ as pyo\n",
      "\n",
      "# Define the model\n",
      "model = pyo.ConcreteModel()\n",
      "\n",
      "# Define the variables\n",
      "model.x1 = pyo.Var(bounds=(0, None))\n",
      "model.x2 = pyo.Var(bounds=(0, None))\n",
      "\n",
      "# Define the objective function\n",
      "model.objective = pyo.Objective(expr=pyo.log(model.x1 * model.x2) - (model.x1 + 2*model.x2)**(1/3), sense=pyo.maximize)\n",
      "\n",
      "# Define the constraints\n",
      "model.constraint_1 = pyo.Constraint(expr=(model.x1 - (model.x1 + model.x2)/2)**2 <= 10)\n",
      "model.constraint_2 = pyo.Constraint(expr=(model.x2 - (model.x1 + model.x2)/2)**2 <= 10)\n",
      "model.constraint_3 = pyo.Constraint(expr=model.x1 + model.x2 <= 80)\n",
      "\n",
      "# Solve the model\n",
      "solver = pyo.SolverFactory('ipopt') # You can choose a different solver if you prefer\n",
      "results = solver.solve(model)\n",
      "\n",
      "# Print the results\n",
      "print(results)\n",
      "print(\"x1 =\", pyo.value(model.x1))\n",
      "print(\"x2 =\", pyo.value(model.x2))\n",
      "```\n",
      "\n",
      "This code defines the optimization problem in Pyomo, including the objective function, variables, and constraints. It then uses the 'ipopt' solver to find the optimal solution. The results are printed to the console, showing the optimal values of x1 and x2.\n",
      "\n"
     ]
    }
   ],
   "source": [
    "print(response2.text)"
   ]
  }
 ],
 "metadata": {
  "kernelspec": {
   "display_name": "Python 3 (ipykernel)",
   "language": "python",
   "name": "python3"
  },
  "language_info": {
   "codemirror_mode": {
    "name": "ipython",
    "version": 3
   },
   "file_extension": ".py",
   "mimetype": "text/x-python",
   "name": "python",
   "nbconvert_exporter": "python",
   "pygments_lexer": "ipython3",
   "version": "3.11.4"
  }
 },
 "nbformat": 4,
 "nbformat_minor": 5
}
