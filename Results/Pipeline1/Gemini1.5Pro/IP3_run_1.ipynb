{
 "cells": [
  {
   "cell_type": "markdown",
   "id": "f0005e9e",
   "metadata": {},
   "source": [
    "# LLM Optimization Modelling Experiment"
   ]
  },
  {
   "cell_type": "code",
   "execution_count": 3,
   "id": "7f664028",
   "metadata": {},
   "outputs": [],
   "source": [
    "import vertexai\n",
    "from vertexai.preview.generative_models import GenerativeModel, Image\n",
    "from IPython.display import Markdown"
   ]
  },
  {
   "cell_type": "markdown",
   "id": "f527d6af",
   "metadata": {},
   "source": [
    "## 1. Define the problem description"
   ]
  },
  {
   "cell_type": "code",
   "execution_count": 112,
   "id": "25055ffd",
   "metadata": {},
   "outputs": [],
   "source": [
    "problem = '''You are the person in charge of packing in a large company. Your job is to skillfully pack items of various weights in a box with predetermined capacity. The objective is to use as few boxes as possible. There is a set of items and a set of boxes with an upper bound on the amount of boxes. Each of the items has a known weight. Each item is packed into one box and items are packed into the chosen boxes. Please formulate a mathematical optimization model for this problem. '''"
   ]
  },
  {
   "cell_type": "markdown",
   "id": "472cf9ad",
   "metadata": {},
   "source": [
    "## 2. Generate the mathematical model"
   ]
  },
  {
   "cell_type": "code",
   "execution_count": 113,
   "id": "e31ec80c",
   "metadata": {},
   "outputs": [],
   "source": [
    "#Initializing the session. To replicate, make sure the right credentials are saved in a PATH variable\n",
    "PROJECT_ID = \"llm4optproblems\"\n",
    "REGION = \"us-central1\"\n",
    "vertexai.init(project=PROJECT_ID, location=REGION)\n",
    "\n",
    "#Specifying the model\n",
    "generative_multimodal_model = GenerativeModel(\"gemini-1.5-pro-preview-0409\")\n",
    "\n",
    "#The propmt applied to all problems\n",
    "prompt = '''Please formulate a mathematical optimization model for this problem. Include parameters, decision variables, the objective function and the constraints in your answer.\n",
    "'''\n",
    "\n",
    "#Generate the response\n",
    "response = generative_multimodal_model.generate_content([prompt+problem])\n"
   ]
  },
  {
   "cell_type": "code",
   "execution_count": 114,
   "id": "f9adc567",
   "metadata": {},
   "outputs": [
    {
     "data": {
      "text/markdown": [
       "### Mathematical Optimization Model for Packing Items into Boxes:\n",
       "\n",
       "**Sets:**\n",
       "\n",
       "*  I: Set of items  \n",
       "*  B: Set of boxes\n",
       "\n",
       "**Parameters:**\n",
       "\n",
       "*  w_i: Weight of item i  ∈ I\n",
       "*  C: Capacity of each box\n",
       "*  N: Upper bound on the number of boxes \n",
       "\n",
       "**Decision Variables:**\n",
       "\n",
       "*  x_ij: Binary variable, equals 1 if item i ∈ I is packed into box j ∈ B, and 0 otherwise. \n",
       "*  y_j: Binary variable, equals 1 if box j ∈ B is used, and 0 otherwise.\n",
       "\n",
       "**Objective Function:**\n",
       "Minimize the number of boxes used:\n",
       "\n",
       "```\n",
       "Minimize Σ_(j ∈ B) y_j \n",
       "```\n",
       "\n",
       "**Constraints:**\n",
       "\n",
       "1. **Capacity Constraint:** The total weight of items packed into a box cannot exceed the box's capacity.\n",
       "   ``` \n",
       "   Σ_(i ∈ I) w_i * x_ij ≤ C * y_j,  ∀ j ∈ B \n",
       "   ```\n",
       "\n",
       "2. **Item Assignment Constraint:** Each item must be packed into exactly one box.\n",
       "   ```\n",
       "   Σ_(j ∈ B) x_ij = 1,  ∀ i ∈ I\n",
       "   ```\n",
       "\n",
       "3. **Box Usage Constraint:**  A box can only be used if at least one item is packed into it. \n",
       "   ```\n",
       "   y_j ≤ Σ_(i ∈ I) x_ij,   ∀ j ∈ B\n",
       "   ```\n",
       "\n",
       "4. **Box Limit Constraint:** The number of boxes used cannot exceed the upper bound. \n",
       "   ```\n",
       "    Σ_(j ∈ B) y_j ≤ N\n",
       "   ```\n",
       "\n",
       "This model represents a classic binary integer programming problem, which can be solved using optimization software packages to find the optimal packing strategy that minimizes the number of boxes used while respecting the problem's constraints. \n"
      ],
      "text/plain": [
       "<IPython.core.display.Markdown object>"
      ]
     },
     "execution_count": 114,
     "metadata": {},
     "output_type": "execute_result"
    }
   ],
   "source": [
    "#Show the resopnse in a formatted way\n",
    "Markdown(response.text)"
   ]
  },
  {
   "cell_type": "markdown",
   "id": "75796979",
   "metadata": {},
   "source": [
    "## 3. Generate the pyomo code"
   ]
  },
  {
   "cell_type": "code",
   "execution_count": 115,
   "id": "aabea932",
   "metadata": {},
   "outputs": [],
   "source": [
    "#Second prompt gets the output of the previous step and generates the code\n",
    "prompt2 = \"Please write pyomo code for this mathematical problem. Use sample data where needed. Indicate where you use sample data. \\n\"\n",
    "prompt2 += response.text \n",
    "response2 = generative_multimodal_model.generate_content([prompt2])"
   ]
  },
  {
   "cell_type": "code",
   "execution_count": 116,
   "id": "fd2835af",
   "metadata": {
    "scrolled": false
   },
   "outputs": [
    {
     "data": {
      "text/markdown": [
       "```python\n",
       "import pyomo.environ as pyo\n",
       "\n",
       "# Sample Data - Replace with your actual data\n",
       "items = ['A', 'B', 'C', 'D', 'E']\n",
       "weights = {'A': 10, 'B': 5, 'C': 8, 'D': 12, 'E': 7} \n",
       "box_capacity = 20\n",
       "max_boxes = 5\n",
       "\n",
       "# Model\n",
       "model = pyo.ConcreteModel()\n",
       "\n",
       "# Sets\n",
       "model.I = pyo.Set(initialize=items)\n",
       "model.B = pyo.Set(initialize=range(1, max_boxes + 1)) \n",
       "\n",
       "# Parameters\n",
       "model.w = pyo.Param(model.I, initialize=weights)\n",
       "model.C = pyo.Param(initialize=box_capacity)\n",
       "model.N = pyo.Param(initialize=max_boxes)\n",
       "\n",
       "# Variables\n",
       "model.x = pyo.Var(model.I, model.B, within=pyo.Binary)\n",
       "model.y = pyo.Var(model.B, within=pyo.Binary)\n",
       "\n",
       "# Objective function\n",
       "def objective_rule(model):\n",
       "    return sum(model.y[j] for j in model.B)\n",
       "model.obj = pyo.Objective(rule=objective_rule, sense=pyo.minimize)\n",
       "\n",
       "# Constraints\n",
       "def capacity_rule(model, j):\n",
       "    return sum(model.w[i] * model.x[i,j] for i in model.I) <= model.C * model.y[j]\n",
       "model.capacity_constraint = pyo.Constraint(model.B, rule=capacity_rule)\n",
       "\n",
       "def item_assignment_rule(model, i):\n",
       "    return sum(model.x[i,j] for j in model.B) == 1\n",
       "model.item_assignment_constraint = pyo.Constraint(model.I, rule=item_assignment_rule)\n",
       "\n",
       "def box_usage_rule(model, j):\n",
       "    return model.y[j] <= sum(model.x[i,j] for i in model.I) \n",
       "model.box_usage_constraint = pyo.Constraint(model.B, rule=box_usage_rule)\n",
       "\n",
       "def box_limit_rule(model):\n",
       "    return sum(model.y[j] for j in model.B) <= model.N\n",
       "model.box_limit_constraint = pyo.Constraint(rule=box_limit_rule)\n",
       "\n",
       "# Solve the model\n",
       "solver = pyo.SolverFactory('glpk')  # Choose a suitable solver \n",
       "solver.solve(model) \n",
       "\n",
       "# Print the results\n",
       "print(\"Optimal Solution:\")\n",
       "for j in model.B:\n",
       "    if pyo.value(model.y[j]) == 1:\n",
       "        print(f\"Box {j}:\", end=\" \")\n",
       "        for i in model.I:\n",
       "            if pyo.value(model.x[i,j]) == 1:\n",
       "                print(i, end=\" \")\n",
       "        print()\n",
       "print(f\"Minimum Boxes Used: {pyo.value(model.obj)}\") \n",
       "```\n",
       "\n",
       "**Explanation:**\n",
       "\n",
       "1. **Sample Data:** The code uses sample data for item names (`items`), their corresponding weights (`weights`), box capacity (`box_capacity`), and maximum number of boxes (`max_boxes`). You should replace this with your actual data.\n",
       "\n",
       "2. **Pyomo Model:** The code defines a Pyomo ConcreteModel to represent the optimization problem.\n",
       "\n",
       "3. **Sets and Parameters:** It defines sets for items (I) and boxes (B) and parameters for weights (w), box capacity (C), and the maximum number of boxes (N).\n",
       "\n",
       "4. **Decision Variables:** `model.x` is a binary variable indicating whether an item is packed into a box, and `model.y` is a binary variable indicating whether a box is used.\n",
       "\n",
       "5. **Objective Function:** `objective_rule` defines the objective to minimize the number of boxes used.\n",
       "\n",
       "6. **Constraints:** The code defines four constraints: \n",
       "    - `capacity_rule`: Ensures that the total weight in a box does not exceed its capacity.\n",
       "    - `item_assignment_rule`: Ensures that each item is packed into exactly one box.\n",
       "    - `box_usage_rule`: Ensures that a box is used only if at least one item is packed into it.\n",
       "    - `box_limit_rule`: Limits the number of boxes used to the specified upper bound.\n",
       "\n",
       "7. **Solving and Printing Results:** The code uses the GLPK solver to solve the problem and then prints the optimal solution, showing which items are packed into which boxes and the minimum number of boxes used. \n",
       "\n",
       "This code provides a basic structure for solving the box-packing problem using Pyomo. You can modify and extend it further based on your specific needs. \n"
      ],
      "text/plain": [
       "<IPython.core.display.Markdown object>"
      ]
     },
     "execution_count": 116,
     "metadata": {},
     "output_type": "execute_result"
    }
   ],
   "source": [
    "#Showing the code in a formatted way\n",
    "Markdown(response2.text)"
   ]
  },
  {
   "cell_type": "markdown",
   "id": "b60756ae",
   "metadata": {},
   "source": [
    "## 4. Input problem data and try running the generated code"
   ]
  },
  {
   "cell_type": "code",
   "execution_count": 118,
   "id": "ac9281b1",
   "metadata": {},
   "outputs": [
    {
     "name": "stdout",
     "output_type": "stream",
     "text": [
      "Optimal Solution:\n",
      "Box 1: 3 4 9 \n",
      "Box 2: 18 \n",
      "Box 3: 2 22 \n",
      "Box 4: 6 19 \n",
      "Box 5: 10 14 \n",
      "Box 6: 24 \n",
      "Box 7: 12 15 \n",
      "Box 9: 1 21 \n",
      "Box 10: 11 17 \n",
      "Box 11: 5 20 \n",
      "Box 12: 23 \n",
      "Box 13: 8 13 \n",
      "Box 14: 7 16 \n",
      "Minimum Boxes Used: 13.0\n"
     ]
    }
   ],
   "source": [
    "import pyomo.environ as pyo\n",
    "\n",
    "# # Sample Data - Replace with your actual data\n",
    "# items = ['A', 'B', 'C', 'D', 'E']\n",
    "# weights = {'A': 10, 'B': 5, 'C': 8, 'D': 12, 'E': 7} \n",
    "# box_capacity = 20\n",
    "# max_boxes = 5\n",
    "\n",
    "# Sample Data - Replace with your actual data\n",
    "items =  range(1,25)\n",
    "weights = {1: 2,2: 2,3: 2,4: 2,5: 3,6: 3,7:4,8: 4,9: 4,10: 4,11: 4,12:4,13: 5,14:5,15: 5,16: 5,17: 5,18: 5,19: 6,20:6,21: 7,22: 7,23: 8, 24:8} # Weight of each item\n",
    "\n",
    "box_capacity = 9\n",
    "max_boxes = 15\n",
    "\n",
    "# Model\n",
    "model = pyo.ConcreteModel()\n",
    "\n",
    "# Sets\n",
    "model.I = pyo.Set(initialize=items)\n",
    "model.B = pyo.Set(initialize=range(1, max_boxes + 1)) \n",
    "\n",
    "# Parameters\n",
    "model.w = pyo.Param(model.I, initialize=weights)\n",
    "model.C = pyo.Param(initialize=box_capacity)\n",
    "model.N = pyo.Param(initialize=max_boxes)\n",
    "\n",
    "# Variables\n",
    "model.x = pyo.Var(model.I, model.B, within=pyo.Binary)\n",
    "model.y = pyo.Var(model.B, within=pyo.Binary)\n",
    "\n",
    "# Objective function\n",
    "def objective_rule(model):\n",
    "    return sum(model.y[j] for j in model.B)\n",
    "model.obj = pyo.Objective(rule=objective_rule, sense=pyo.minimize)\n",
    "\n",
    "# Constraints\n",
    "def capacity_rule(model, j):\n",
    "    return sum(model.w[i] * model.x[i,j] for i in model.I) <= model.C * model.y[j]\n",
    "model.capacity_constraint = pyo.Constraint(model.B, rule=capacity_rule)\n",
    "\n",
    "def item_assignment_rule(model, i):\n",
    "    return sum(model.x[i,j] for j in model.B) == 1\n",
    "model.item_assignment_constraint = pyo.Constraint(model.I, rule=item_assignment_rule)\n",
    "\n",
    "def box_usage_rule(model, j):\n",
    "    return model.y[j] <= sum(model.x[i,j] for i in model.I) \n",
    "model.box_usage_constraint = pyo.Constraint(model.B, rule=box_usage_rule)\n",
    "\n",
    "def box_limit_rule(model):\n",
    "    return sum(model.y[j] for j in model.B) <= model.N\n",
    "model.box_limit_constraint = pyo.Constraint(rule=box_limit_rule)\n",
    "\n",
    "# Solve the model\n",
    "solver = pyo.SolverFactory('glpk')  # Choose a suitable solver \n",
    "solver.solve(model) \n",
    "\n",
    "# Print the results\n",
    "print(\"Optimal Solution:\")\n",
    "for j in model.B:\n",
    "    if pyo.value(model.y[j]) == 1:\n",
    "        print(f\"Box {j}:\", end=\" \")\n",
    "        for i in model.I:\n",
    "            if pyo.value(model.x[i,j]) == 1:\n",
    "                print(i, end=\" \")\n",
    "        print()\n",
    "print(f\"Minimum Boxes Used: {pyo.value(model.obj)}\") "
   ]
  },
  {
   "cell_type": "markdown",
   "id": "1be0926e",
   "metadata": {},
   "source": [
    "## 5. Correct the code to verify model viability (optional)"
   ]
  },
  {
   "cell_type": "code",
   "execution_count": null,
   "id": "8b37acfc",
   "metadata": {},
   "outputs": [],
   "source": []
  },
  {
   "cell_type": "markdown",
   "id": "2ba84334",
   "metadata": {},
   "source": [
    "## 6. Printing the outputs as strings, so they can be saved.\n",
    "Those can be rendered as markdown for better readability"
   ]
  },
  {
   "cell_type": "code",
   "execution_count": 119,
   "id": "e904cf68",
   "metadata": {},
   "outputs": [
    {
     "name": "stdout",
     "output_type": "stream",
     "text": [
      "### Mathematical Optimization Model for Packing Items into Boxes:\n",
      "\n",
      "**Sets:**\n",
      "\n",
      "*  I: Set of items  \n",
      "*  B: Set of boxes\n",
      "\n",
      "**Parameters:**\n",
      "\n",
      "*  w_i: Weight of item i  ∈ I\n",
      "*  C: Capacity of each box\n",
      "*  N: Upper bound on the number of boxes \n",
      "\n",
      "**Decision Variables:**\n",
      "\n",
      "*  x_ij: Binary variable, equals 1 if item i ∈ I is packed into box j ∈ B, and 0 otherwise. \n",
      "*  y_j: Binary variable, equals 1 if box j ∈ B is used, and 0 otherwise.\n",
      "\n",
      "**Objective Function:**\n",
      "Minimize the number of boxes used:\n",
      "\n",
      "```\n",
      "Minimize Σ_(j ∈ B) y_j \n",
      "```\n",
      "\n",
      "**Constraints:**\n",
      "\n",
      "1. **Capacity Constraint:** The total weight of items packed into a box cannot exceed the box's capacity.\n",
      "   ``` \n",
      "   Σ_(i ∈ I) w_i * x_ij ≤ C * y_j,  ∀ j ∈ B \n",
      "   ```\n",
      "\n",
      "2. **Item Assignment Constraint:** Each item must be packed into exactly one box.\n",
      "   ```\n",
      "   Σ_(j ∈ B) x_ij = 1,  ∀ i ∈ I\n",
      "   ```\n",
      "\n",
      "3. **Box Usage Constraint:**  A box can only be used if at least one item is packed into it. \n",
      "   ```\n",
      "   y_j ≤ Σ_(i ∈ I) x_ij,   ∀ j ∈ B\n",
      "   ```\n",
      "\n",
      "4. **Box Limit Constraint:** The number of boxes used cannot exceed the upper bound. \n",
      "   ```\n",
      "    Σ_(j ∈ B) y_j ≤ N\n",
      "   ```\n",
      "\n",
      "This model represents a classic binary integer programming problem, which can be solved using optimization software packages to find the optimal packing strategy that minimizes the number of boxes used while respecting the problem's constraints. \n",
      "\n"
     ]
    }
   ],
   "source": [
    "print(response.text)"
   ]
  },
  {
   "cell_type": "code",
   "execution_count": 120,
   "id": "859eaf28",
   "metadata": {},
   "outputs": [
    {
     "name": "stdout",
     "output_type": "stream",
     "text": [
      "```python\n",
      "import pyomo.environ as pyo\n",
      "\n",
      "# Sample Data - Replace with your actual data\n",
      "items = ['A', 'B', 'C', 'D', 'E']\n",
      "weights = {'A': 10, 'B': 5, 'C': 8, 'D': 12, 'E': 7} \n",
      "box_capacity = 20\n",
      "max_boxes = 5\n",
      "\n",
      "# Model\n",
      "model = pyo.ConcreteModel()\n",
      "\n",
      "# Sets\n",
      "model.I = pyo.Set(initialize=items)\n",
      "model.B = pyo.Set(initialize=range(1, max_boxes + 1)) \n",
      "\n",
      "# Parameters\n",
      "model.w = pyo.Param(model.I, initialize=weights)\n",
      "model.C = pyo.Param(initialize=box_capacity)\n",
      "model.N = pyo.Param(initialize=max_boxes)\n",
      "\n",
      "# Variables\n",
      "model.x = pyo.Var(model.I, model.B, within=pyo.Binary)\n",
      "model.y = pyo.Var(model.B, within=pyo.Binary)\n",
      "\n",
      "# Objective function\n",
      "def objective_rule(model):\n",
      "    return sum(model.y[j] for j in model.B)\n",
      "model.obj = pyo.Objective(rule=objective_rule, sense=pyo.minimize)\n",
      "\n",
      "# Constraints\n",
      "def capacity_rule(model, j):\n",
      "    return sum(model.w[i] * model.x[i,j] for i in model.I) <= model.C * model.y[j]\n",
      "model.capacity_constraint = pyo.Constraint(model.B, rule=capacity_rule)\n",
      "\n",
      "def item_assignment_rule(model, i):\n",
      "    return sum(model.x[i,j] for j in model.B) == 1\n",
      "model.item_assignment_constraint = pyo.Constraint(model.I, rule=item_assignment_rule)\n",
      "\n",
      "def box_usage_rule(model, j):\n",
      "    return model.y[j] <= sum(model.x[i,j] for i in model.I) \n",
      "model.box_usage_constraint = pyo.Constraint(model.B, rule=box_usage_rule)\n",
      "\n",
      "def box_limit_rule(model):\n",
      "    return sum(model.y[j] for j in model.B) <= model.N\n",
      "model.box_limit_constraint = pyo.Constraint(rule=box_limit_rule)\n",
      "\n",
      "# Solve the model\n",
      "solver = pyo.SolverFactory('glpk')  # Choose a suitable solver \n",
      "solver.solve(model) \n",
      "\n",
      "# Print the results\n",
      "print(\"Optimal Solution:\")\n",
      "for j in model.B:\n",
      "    if pyo.value(model.y[j]) == 1:\n",
      "        print(f\"Box {j}:\", end=\" \")\n",
      "        for i in model.I:\n",
      "            if pyo.value(model.x[i,j]) == 1:\n",
      "                print(i, end=\" \")\n",
      "        print()\n",
      "print(f\"Minimum Boxes Used: {pyo.value(model.obj)}\") \n",
      "```\n",
      "\n",
      "**Explanation:**\n",
      "\n",
      "1. **Sample Data:** The code uses sample data for item names (`items`), their corresponding weights (`weights`), box capacity (`box_capacity`), and maximum number of boxes (`max_boxes`). You should replace this with your actual data.\n",
      "\n",
      "2. **Pyomo Model:** The code defines a Pyomo ConcreteModel to represent the optimization problem.\n",
      "\n",
      "3. **Sets and Parameters:** It defines sets for items (I) and boxes (B) and parameters for weights (w), box capacity (C), and the maximum number of boxes (N).\n",
      "\n",
      "4. **Decision Variables:** `model.x` is a binary variable indicating whether an item is packed into a box, and `model.y` is a binary variable indicating whether a box is used.\n",
      "\n",
      "5. **Objective Function:** `objective_rule` defines the objective to minimize the number of boxes used.\n",
      "\n",
      "6. **Constraints:** The code defines four constraints: \n",
      "    - `capacity_rule`: Ensures that the total weight in a box does not exceed its capacity.\n",
      "    - `item_assignment_rule`: Ensures that each item is packed into exactly one box.\n",
      "    - `box_usage_rule`: Ensures that a box is used only if at least one item is packed into it.\n",
      "    - `box_limit_rule`: Limits the number of boxes used to the specified upper bound.\n",
      "\n",
      "7. **Solving and Printing Results:** The code uses the GLPK solver to solve the problem and then prints the optimal solution, showing which items are packed into which boxes and the minimum number of boxes used. \n",
      "\n",
      "This code provides a basic structure for solving the box-packing problem using Pyomo. You can modify and extend it further based on your specific needs. \n",
      "\n"
     ]
    }
   ],
   "source": [
    "print(response2.text)"
   ]
  }
 ],
 "metadata": {
  "kernelspec": {
   "display_name": "Python 3 (ipykernel)",
   "language": "python",
   "name": "python3"
  },
  "language_info": {
   "codemirror_mode": {
    "name": "ipython",
    "version": 3
   },
   "file_extension": ".py",
   "mimetype": "text/x-python",
   "name": "python",
   "nbconvert_exporter": "python",
   "pygments_lexer": "ipython3",
   "version": "3.11.4"
  }
 },
 "nbformat": 4,
 "nbformat_minor": 5
}
