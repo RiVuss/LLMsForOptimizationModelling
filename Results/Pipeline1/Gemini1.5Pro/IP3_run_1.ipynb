{
 "cells": [
  {
   "cell_type": "markdown",
   "id": "0df7edfd",
   "metadata": {},
   "source": [
    "# LLM Optimization Modelling Experiment"
   ]
  },
  {
   "cell_type": "code",
   "execution_count": 156,
   "id": "7f664028",
   "metadata": {},
   "outputs": [],
   "source": [
    "import vertexai\n",
    "from vertexai.preview.generative_models import GenerativeModel\n",
    "from IPython.display import Markdown"
   ]
  },
  {
   "cell_type": "markdown",
   "id": "c106f1be",
   "metadata": {},
   "source": [
    "## 1. Define the problem description"
   ]
  },
  {
   "cell_type": "code",
   "execution_count": 373,
   "id": "9adce4b2",
   "metadata": {},
   "outputs": [],
   "source": [
    "problem = '''You are the person in charge of packing in a large company. Your job is to skillfully pack items of various weights in a box with predetermined capacity. The objective is to use as few boxes as possible. There is a set of items and a set of boxes with an upper bound on the amount of boxes. Each of the items has a known weight. Each item is packed into one box and items are packed into the chosen boxes. Please formulate a mathematical optimization model for this problem. '''"
   ]
  },
  {
   "cell_type": "markdown",
   "id": "063be1a3",
   "metadata": {},
   "source": [
    "## 2. Generate the mathematical model"
   ]
  },
  {
   "cell_type": "code",
   "execution_count": 374,
   "id": "e31ec80c",
   "metadata": {},
   "outputs": [],
   "source": [
    "#Initializing the session. To replicate, make sure the right credentials are saved in a PATH variable\n",
    "PROJECT_ID = \"llm4optproblems\"\n",
    "REGION = \"us-central1\"\n",
    "vertexai.init(project=PROJECT_ID, location=REGION)\n",
    "\n",
    "#Specifying the model\n",
    "generative_multimodal_model = GenerativeModel(\"gemini-1.5-pro-preview-0409\")\n",
    "\n",
    "#The propmt applied to all problems\n",
    "prompt = '''Let's think step by step. Please write a mathematical optimization model for this problem. If there are parameter values, make sure to include them in the mathematical formulation.\n",
    "'''\n",
    "\n",
    "#Generate the response\n",
    "response = generative_multimodal_model.generate_content([prompt+problem])\n"
   ]
  },
  {
   "cell_type": "code",
   "execution_count": 375,
   "id": "f9adc567",
   "metadata": {},
   "outputs": [
    {
     "data": {
      "text/markdown": [
       "Let's think step by step to formulate a mathematical optimization model for this problem.\n",
       "\n",
       "**Sets:**\n",
       "\n",
       "*  $I$: Set of items, indexed by $i$.\n",
       "*  $B$: Set of boxes, indexed by $j$.\n",
       "\n",
       "**Parameters:**\n",
       "\n",
       "*  $w_i$: Weight of item $i$,  $\\forall i \\in I$.\n",
       "*  $C$: Capacity of each box.\n",
       "*  $N$: Maximum number of boxes available.\n",
       "\n",
       "**Decision Variables:**\n",
       "* $x_{ij}$: Binary variable equal to 1 if item  $i$ is packed in box $j$, 0 otherwise, $\\forall i \\in I, \\forall j \\in B$.\n",
       "\n",
       "**Objective Function:** \n",
       "Minimize the number of boxes used.\n",
       "\n",
       "(1) $Minimize \\sum_{j \\in B} \\left( 1 - \\prod_{i \\in I}(1 - x_{ij}) \\right)$\n",
       "\n",
       "The objective function (1) is nonlinear and aims to minimize the number of boxes used. It uses a product to identify boxes that have at least one item assigned to them, thereby counting the boxes used.\n",
       "\n",
       "**Constraints:**\n",
       "\n",
       "(2) $\\sum_{j \\in B} x_{ij} = 1, \\forall i \\in I$\n",
       "\n",
       "Constraint (2) ensures that each item is packed into exactly one box.\n",
       "\n",
       "(3) $\\sum_{i \\in I} w_i x_{ij} \\leq C, \\forall j \\in B$\n",
       "\n",
       "Constraint (3) ensures that the total weight of items packed in each box does not exceed the box capacity.\n",
       "\n",
       "(4) $\\sum_{j \\in B} \\left( 1 - \\prod_{i \\in I}(1 - x_{ij}) \\right) \\leq N$\n",
       "\n",
       "Constraint (4) ensures that the total number of boxes used does not exceed the available number of boxes. \n",
       "\n",
       "This model is a nonlinear binary optimization model due to the objective function and constraints being nonlinear in the decision variable. This type of model can be solved by specialized optimization solvers.\n"
      ],
      "text/plain": [
       "<IPython.core.display.Markdown object>"
      ]
     },
     "execution_count": 375,
     "metadata": {},
     "output_type": "execute_result"
    }
   ],
   "source": [
    "#Show the resopnse in a formatted way\n",
    "Markdown(response.text)"
   ]
  },
  {
   "cell_type": "markdown",
   "id": "49104a9a",
   "metadata": {},
   "source": [
    "## 3. Generate the pyomo code"
   ]
  },
  {
   "cell_type": "code",
   "execution_count": 376,
   "id": "aabea932",
   "metadata": {},
   "outputs": [],
   "source": [
    "#Second prompt gets the output of the previous step and generates the code\n",
    "prompt2 = \"Please write pyomo code for this mathematical problem. Use sample data where needed. Indicate where you use sample data. \\n\"\n",
    "prompt2 += response.text \n",
    "response2 = generative_multimodal_model.generate_content([prompt2])"
   ]
  },
  {
   "cell_type": "code",
   "execution_count": 377,
   "id": "fd2835af",
   "metadata": {
    "scrolled": false
   },
   "outputs": [
    {
     "data": {
      "text/markdown": [
       "```python\n",
       "import pyomo.environ as pyo\n",
       "\n",
       "# Sample Data\n",
       "items = ['A', 'B', 'C', 'D', 'E']  # Set of items\n",
       "boxes = [1, 2, 3, 4]  # Set of boxes - assuming a maximum of 4 boxes available\n",
       "weights = {'A': 10, 'B': 15, 'C': 8, 'D': 5, 'E': 12} # Weight of each item\n",
       "capacity = 25  # Capacity of each box\n",
       "\n",
       "# Model\n",
       "model = pyo.ConcreteModel()\n",
       "\n",
       "# Sets\n",
       "model.I = pyo.Set(initialize=items)  \n",
       "model.B = pyo.Set(initialize=boxes)\n",
       "\n",
       "# Parameters\n",
       "model.w = pyo.Param(model.I, initialize=weights)\n",
       "model.C = pyo.Param(initialize=capacity)\n",
       "model.N = pyo.Param(initialize=len(boxes))  # Maximum number of boxes available\n",
       "\n",
       "# Decision Variables\n",
       "model.x = pyo.Var(model.I, model.B, within=pyo.Binary)\n",
       "\n",
       "# Objective Function\n",
       "def obj_rule(model):\n",
       "    return sum(1 - pyo.prod(1 - model.x[i, j] for i in model.I) for j in model.B)\n",
       "model.obj = pyo.Objective(rule=obj_rule, sense=pyo.minimize)\n",
       "\n",
       "# Constraints\n",
       "# Each item is packed into exactly one box\n",
       "def one_box_rule(model, i):\n",
       "    return sum(model.x[i, j] for j in model.B) == 1\n",
       "model.one_box = pyo.Constraint(model.I, rule=one_box_rule)\n",
       "\n",
       "# Box capacity constraint\n",
       "def capacity_rule(model, j):\n",
       "    return sum(model.w[i] * model.x[i, j] for i in model.I) <= model.C\n",
       "model.capacity = pyo.Constraint(model.B, rule=capacity_rule)\n",
       "\n",
       "# Maximum number of boxes constraint\n",
       "def max_boxes_rule(model):\n",
       "    return sum(1 - pyo.prod(1 - model.x[i, j] for i in model.I) for j in model.B) <= model.N\n",
       "model.max_boxes = pyo.Constraint(rule=max_boxes_rule)\n",
       "\n",
       "# Solve the model\n",
       "solver = pyo.SolverFactory('gurobi')  # You can choose a different solver if needed\n",
       "results = solver.solve(model)\n",
       "\n",
       "# Display results\n",
       "print(results)\n",
       "\n",
       "# Print the solution - which item is packed in which box\n",
       "for j in model.B:\n",
       "    for i in model.I:\n",
       "        if pyo.value(model.x[i, j]) == 1:\n",
       "            print(f\"Item {i} is packed in Box {j}\")\n",
       "```\n",
       "\n",
       "**Sample data is used for:**\n",
       "\n",
       "* **Sets:** `items` (set of items) and `boxes` (set of boxes).\n",
       "* **Parameters:** `weights` (weight of each item) and `capacity` (capacity of each box).\n",
       "\n",
       "This code defines the sets, parameters, variables, objective function, and constraints based on your mathematical formulation. It then uses a solver (in this case, Gurobi) to find the optimal solution for the given data. \n",
       "\n",
       "Remember that you'll need to have Pyomo and a suitable solver (like Gurobi, CPLEX, or GLPK) installed in your environment to run this code. \n"
      ],
      "text/plain": [
       "<IPython.core.display.Markdown object>"
      ]
     },
     "execution_count": 377,
     "metadata": {},
     "output_type": "execute_result"
    }
   ],
   "source": [
    "#Showing the code in a formatted way\n",
    "Markdown(response2.text)"
   ]
  },
  {
   "cell_type": "markdown",
   "id": "b60756ae",
   "metadata": {},
   "source": [
    "## 4. Input problem data and try running the generated code"
   ]
  },
  {
   "cell_type": "code",
   "execution_count": 435,
   "id": "b3954c8a",
   "metadata": {},
   "outputs": [
    {
     "name": "stdout",
     "output_type": "stream",
     "text": [
      "\n",
      "Problem: \n",
      "- Lower bound: -inf\n",
      "  Upper bound: inf\n",
      "  Number of objectives: 1\n",
      "  Number of constraints: 39\n",
      "  Number of variables: 336\n",
      "  Sense: unknown\n",
      "Solver: \n",
      "- Status: ok\n",
      "  Message: Ipopt 3.11.1\\x3a Optimal Solution Found\n",
      "  Termination condition: optimal\n",
      "  Id: 0\n",
      "  Error rc: 0\n",
      "  Time: 0.0493924617767334\n",
      "Solution: \n",
      "- number of solutions: 0\n",
      "  number of solutions displayed: 0\n",
      "\n",
      "11.635737821687453\n"
     ]
    }
   ],
   "source": [
    "import pyomo.environ as pyo\n",
    "\n",
    "# Sample Data\n",
    "items = range(1,25) # Set of items\n",
    "boxes = range(1,15) # Set of boxes - assuming a maximum of 4 boxes available\n",
    "weights = {1: 2,2: 2,3: 2,4: 2,5: 3,6: 3,7:4,8: 4,9: 4,10: 4,11: 4,12:4,13: 5,14:5,15: 5,16: 5,17: 5,18: 5,19: 6,20:6,21: 7,22: 7,23: 8, 24:8} # Weight of each item\n",
    "capacity = 9  # Capacity of each box\n",
    "\n",
    "# Model\n",
    "model = pyo.ConcreteModel()\n",
    "\n",
    "# Sets\n",
    "model.I = pyo.Set(initialize=items)  \n",
    "model.B = pyo.Set(initialize=boxes)\n",
    "\n",
    "# Parameters\n",
    "model.w = pyo.Param(model.I, initialize=weights)\n",
    "model.C = pyo.Param(initialize=capacity)\n",
    "model.N = pyo.Param(initialize=len(boxes))  # Maximum number of boxes available\n",
    "\n",
    "# Decision Variables\n",
    "model.x = pyo.Var(model.I, model.B, within=pyo.Binary)\n",
    "\n",
    "# Objective Function\n",
    "def obj_rule(model):\n",
    "    return sum(1 - pyo.prod(1 - model.x[i, j] for i in model.I) for j in model.B)\n",
    "model.obj = pyo.Objective(rule=obj_rule, sense=pyo.minimize)\n",
    "\n",
    "# Constraints\n",
    "# Each item is packed into exactly one box\n",
    "def one_box_rule(model, i):\n",
    "    return sum(model.x[i, j] for j in model.B) == 1\n",
    "model.one_box = pyo.Constraint(model.I, rule=one_box_rule)\n",
    "\n",
    "# Box capacity constraint\n",
    "def capacity_rule(model, j):\n",
    "    return sum(model.w[i] * model.x[i, j] for i in model.I) <= model.C\n",
    "model.capacity = pyo.Constraint(model.B, rule=capacity_rule)\n",
    "\n",
    "# Maximum number of boxes constraint\n",
    "def max_boxes_rule(model):\n",
    "    return sum(1 - pyo.prod(1 - model.x[i, j] for i in model.I) for j in model.B) <= model.N\n",
    "model.max_boxes = pyo.Constraint(rule=max_boxes_rule)\n",
    "\n",
    "# Solve the model\n",
    "solver = pyo.SolverFactory('ipopt')  # You can choose a different solver if needed\n",
    "results = solver.solve(model)\n",
    "\n",
    "# Display results\n",
    "print(results)\n",
    "\n",
    "# Print the solution - which item is packed in which box\n",
    "for j in model.B:\n",
    "    for i in model.I:\n",
    "        if pyo.value(model.x[i, j]) == 1:\n",
    "            print(f\"Item {i} is packed in Box {j}\")\n",
    "print(model.obj())"
   ]
  },
  {
   "cell_type": "code",
   "execution_count": 439,
   "id": "9be7a0d7",
   "metadata": {},
   "outputs": [
    {
     "name": "stdout",
     "output_type": "stream",
     "text": [
      "[2, 2, 2, 2, 3, 3, 4, 4, 4, 4, 4, 4, 5, 5, 5, 5, 5, 5, 6, 6, 7, 7, 8, 8]\n",
      "9\n",
      "24\n",
      "13\n"
     ]
    }
   ],
   "source": [
    "#Making the data for the problem\n",
    "def BinPackingExample():\n",
    "    B = 9\n",
    "    w = [2,3,4,5,6,7,8]\n",
    "    q = [4,2,6,6,2,2,2]\n",
    "    s=[]\n",
    "    for j in range(len(w)):\n",
    "        for i in range(q[j]):\n",
    "            s.append(w[j])\n",
    "    return s,B\n",
    "\n",
    "#print(BinPackingExample())\n",
    "def FFD(s, B):\n",
    "    remain = [B]\n",
    "    sol = [[]]\n",
    "    for item in sorted(s, reverse=True):\n",
    "        for j,free in enumerate(remain):\n",
    "            if free >= item:\n",
    "                remain[j] -= item\n",
    "                sol[j].append(item)\n",
    "                break\n",
    "        else:\n",
    "            sol.append([item])\n",
    "            remain.append(B-item)\n",
    "    return sol\n",
    "s,B = BinPackingExample()\n",
    "n = len(s)\n",
    "U = len(FFD(s, B))\n",
    "print(s) #Weights\n",
    "print(B) #Max bin capacity\n",
    "print(n) #Number of boxes available\n",
    "print(U) #Max number of boxes"
   ]
  },
  {
   "cell_type": "markdown",
   "id": "8f10340f",
   "metadata": {},
   "source": [
    "## 5. Correct the code to verify model viability (optional)"
   ]
  },
  {
   "cell_type": "code",
   "execution_count": 440,
   "id": "6546d8be",
   "metadata": {},
   "outputs": [
    {
     "name": "stdout",
     "output_type": "stream",
     "text": [
      "Objective Value: 13.0\n"
     ]
    }
   ],
   "source": [
    "model = ConcreteModel()\n",
    "# Variables\n",
    "model.x = Var(range(n), range(U), within=Binary, initialize=0)\n",
    "model.y = Var(range(U), within=Binary, initialize=0)\n",
    "\n",
    "    # Constraints\n",
    "    # Each item must be in exactly one bin\n",
    "def assignment_constraint(model, i):\n",
    "    return sum(model.x[i, j] for j in range(U)) == 1\n",
    "model.assignment_constraint = Constraint(range(n), rule=assignment_constraint)\n",
    "\n",
    "    # The total weight in each bin cannot exceed the bin capacity times the bin use variable\n",
    "def capacity_constraint(model, j):\n",
    "    return sum(s[i] * model.x[i, j] for i in range(n)) <= B * model.y[j]\n",
    "model.capacity_constraint = Constraint(range(U), rule=capacity_constraint)\n",
    "\n",
    "    # x_ij can only be 1 if y_j is 1 (i.e., if bin j is used)\n",
    "def linking_constraint(model, i, j):\n",
    "    return model.x[i, j] <= model.y[j]\n",
    "model.linking_constraint = Constraint(range(n), range(U), rule=linking_constraint)\n",
    "\n",
    "    # Objective\n",
    "model.obj = Objective(expr=sum(model.y[j] for j in range(U)), sense=minimize)\n",
    "\n",
    "solver = SolverFactory('glpk')\n",
    "solver.solve(model)\n",
    "\n",
    "print(\"Objective Value:\", model.obj())"
   ]
  },
  {
   "cell_type": "markdown",
   "id": "03525f23",
   "metadata": {},
   "source": [
    "## 6. Printing the outputs as strings, so they can be saved.\n",
    "Those can be rendered as markdown for better readability"
   ]
  },
  {
   "cell_type": "code",
   "execution_count": 441,
   "id": "9d832f4d",
   "metadata": {},
   "outputs": [
    {
     "name": "stdout",
     "output_type": "stream",
     "text": [
      "Let's think step by step to formulate a mathematical optimization model for this problem.\n",
      "\n",
      "**Sets:**\n",
      "\n",
      "*  $I$: Set of items, indexed by $i$.\n",
      "*  $B$: Set of boxes, indexed by $j$.\n",
      "\n",
      "**Parameters:**\n",
      "\n",
      "*  $w_i$: Weight of item $i$,  $\\forall i \\in I$.\n",
      "*  $C$: Capacity of each box.\n",
      "*  $N$: Maximum number of boxes available.\n",
      "\n",
      "**Decision Variables:**\n",
      "* $x_{ij}$: Binary variable equal to 1 if item  $i$ is packed in box $j$, 0 otherwise, $\\forall i \\in I, \\forall j \\in B$.\n",
      "\n",
      "**Objective Function:** \n",
      "Minimize the number of boxes used.\n",
      "\n",
      "(1) $Minimize \\sum_{j \\in B} \\left( 1 - \\prod_{i \\in I}(1 - x_{ij}) \\right)$\n",
      "\n",
      "The objective function (1) is nonlinear and aims to minimize the number of boxes used. It uses a product to identify boxes that have at least one item assigned to them, thereby counting the boxes used.\n",
      "\n",
      "**Constraints:**\n",
      "\n",
      "(2) $\\sum_{j \\in B} x_{ij} = 1, \\forall i \\in I$\n",
      "\n",
      "Constraint (2) ensures that each item is packed into exactly one box.\n",
      "\n",
      "(3) $\\sum_{i \\in I} w_i x_{ij} \\leq C, \\forall j \\in B$\n",
      "\n",
      "Constraint (3) ensures that the total weight of items packed in each box does not exceed the box capacity.\n",
      "\n",
      "(4) $\\sum_{j \\in B} \\left( 1 - \\prod_{i \\in I}(1 - x_{ij}) \\right) \\leq N$\n",
      "\n",
      "Constraint (4) ensures that the total number of boxes used does not exceed the available number of boxes. \n",
      "\n",
      "This model is a nonlinear binary optimization model due to the objective function and constraints being nonlinear in the decision variable. This type of model can be solved by specialized optimization solvers.\n",
      "\n"
     ]
    }
   ],
   "source": [
    "print(response.text)"
   ]
  },
  {
   "cell_type": "code",
   "execution_count": 442,
   "id": "57e86877",
   "metadata": {
    "scrolled": false
   },
   "outputs": [
    {
     "name": "stdout",
     "output_type": "stream",
     "text": [
      "```python\n",
      "import pyomo.environ as pyo\n",
      "\n",
      "# Sample Data\n",
      "items = ['A', 'B', 'C', 'D', 'E']  # Set of items\n",
      "boxes = [1, 2, 3, 4]  # Set of boxes - assuming a maximum of 4 boxes available\n",
      "weights = {'A': 10, 'B': 15, 'C': 8, 'D': 5, 'E': 12} # Weight of each item\n",
      "capacity = 25  # Capacity of each box\n",
      "\n",
      "# Model\n",
      "model = pyo.ConcreteModel()\n",
      "\n",
      "# Sets\n",
      "model.I = pyo.Set(initialize=items)  \n",
      "model.B = pyo.Set(initialize=boxes)\n",
      "\n",
      "# Parameters\n",
      "model.w = pyo.Param(model.I, initialize=weights)\n",
      "model.C = pyo.Param(initialize=capacity)\n",
      "model.N = pyo.Param(initialize=len(boxes))  # Maximum number of boxes available\n",
      "\n",
      "# Decision Variables\n",
      "model.x = pyo.Var(model.I, model.B, within=pyo.Binary)\n",
      "\n",
      "# Objective Function\n",
      "def obj_rule(model):\n",
      "    return sum(1 - pyo.prod(1 - model.x[i, j] for i in model.I) for j in model.B)\n",
      "model.obj = pyo.Objective(rule=obj_rule, sense=pyo.minimize)\n",
      "\n",
      "# Constraints\n",
      "# Each item is packed into exactly one box\n",
      "def one_box_rule(model, i):\n",
      "    return sum(model.x[i, j] for j in model.B) == 1\n",
      "model.one_box = pyo.Constraint(model.I, rule=one_box_rule)\n",
      "\n",
      "# Box capacity constraint\n",
      "def capacity_rule(model, j):\n",
      "    return sum(model.w[i] * model.x[i, j] for i in model.I) <= model.C\n",
      "model.capacity = pyo.Constraint(model.B, rule=capacity_rule)\n",
      "\n",
      "# Maximum number of boxes constraint\n",
      "def max_boxes_rule(model):\n",
      "    return sum(1 - pyo.prod(1 - model.x[i, j] for i in model.I) for j in model.B) <= model.N\n",
      "model.max_boxes = pyo.Constraint(rule=max_boxes_rule)\n",
      "\n",
      "# Solve the model\n",
      "solver = pyo.SolverFactory('gurobi')  # You can choose a different solver if needed\n",
      "results = solver.solve(model)\n",
      "\n",
      "# Display results\n",
      "print(results)\n",
      "\n",
      "# Print the solution - which item is packed in which box\n",
      "for j in model.B:\n",
      "    for i in model.I:\n",
      "        if pyo.value(model.x[i, j]) == 1:\n",
      "            print(f\"Item {i} is packed in Box {j}\")\n",
      "```\n",
      "\n",
      "**Sample data is used for:**\n",
      "\n",
      "* **Sets:** `items` (set of items) and `boxes` (set of boxes).\n",
      "* **Parameters:** `weights` (weight of each item) and `capacity` (capacity of each box).\n",
      "\n",
      "This code defines the sets, parameters, variables, objective function, and constraints based on your mathematical formulation. It then uses a solver (in this case, Gurobi) to find the optimal solution for the given data. \n",
      "\n",
      "Remember that you'll need to have Pyomo and a suitable solver (like Gurobi, CPLEX, or GLPK) installed in your environment to run this code. \n",
      "\n"
     ]
    }
   ],
   "source": [
    "print(response2.text)"
   ]
  }
 ],
 "metadata": {
  "kernelspec": {
   "display_name": "Python 3 (ipykernel)",
   "language": "python",
   "name": "python3"
  },
  "language_info": {
   "codemirror_mode": {
    "name": "ipython",
    "version": 3
   },
   "file_extension": ".py",
   "mimetype": "text/x-python",
   "name": "python",
   "nbconvert_exporter": "python",
   "pygments_lexer": "ipython3",
   "version": "3.11.4"
  }
 },
 "nbformat": 4,
 "nbformat_minor": 5
}
