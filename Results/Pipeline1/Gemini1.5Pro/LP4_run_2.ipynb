{
 "cells": [
  {
   "cell_type": "markdown",
   "id": "0df7edfd",
   "metadata": {},
   "source": [
    "# LLM Optimization Modelling Experiment"
   ]
  },
  {
   "cell_type": "code",
   "execution_count": 156,
   "id": "7f664028",
   "metadata": {},
   "outputs": [],
   "source": [
    "import vertexai\n",
    "from vertexai.preview.generative_models import GenerativeModel\n",
    "from IPython.display import Markdown"
   ]
  },
  {
   "cell_type": "markdown",
   "id": "c106f1be",
   "metadata": {},
   "source": [
    "## 1. Define the problem description"
   ]
  },
  {
   "cell_type": "code",
   "execution_count": 635,
   "id": "9adce4b2",
   "metadata": {},
   "outputs": [],
   "source": [
    "problem = '''Consider a farmer who specializes in raising wheat, corn, and sugar beets on her 500 acres of land. During the winter, she wants to decide how much land to devote to each crop.\n",
    "\n",
    "The farmer knows that at least 200 tons (T) of wheat and 240 T of corn are needed for cattle feed. These amounts can be raised on the farm or bought from a wholesaler.\n",
    "Any production in excess of the feeding requirement would be sold.\n",
    "\n",
    "Over the last decade, mean selling prices have been $170 and $150 per ton of wheat and corn, respectively.\n",
    "The purchase prices are 40% more than this due to the wholesaler’s margin and transportation costs.\n",
    "\n",
    "Another profitable crop is sugar beet, which she expects to sell at $36/T. However, the European Commission imposes a quota on sugar beet production. Any amount in excess of the quota can be sold only at $10/T. The farmer’s quota for next year is 6000 T.\n",
    "\n",
    "Based on past experience, the farmer knows that the mean yield on her land is roughly 2.5 T, 3 T, and 20 T per acre for wheat, corn, and sugar beets, respectively. It costs $150 to plant an acre of wheat, $230 to pant an acre of corn and $260 to plant an acre of sugar beets. \n",
    "\n",
    "The farmer can decide how much of her land she will use to grow each of the three products: wheat, corn and sugar beets. The goal of the farmer is to minimize her total costs (where sales are considered as negative costs).'''"
   ]
  },
  {
   "cell_type": "markdown",
   "id": "063be1a3",
   "metadata": {},
   "source": [
    "## 2. Generate the mathematical model"
   ]
  },
  {
   "cell_type": "code",
   "execution_count": 651,
   "id": "e31ec80c",
   "metadata": {},
   "outputs": [],
   "source": [
    "#Initializing the session. To replicate, make sure the right credentials are saved in a PATH variable\n",
    "PROJECT_ID = \"llm4optproblems\"\n",
    "REGION = \"us-central1\"\n",
    "vertexai.init(project=PROJECT_ID, location=REGION)\n",
    "\n",
    "#Specifying the model\n",
    "generative_multimodal_model = GenerativeModel(\"gemini-1.5-pro-preview-0409\")\n",
    "\n",
    "#The propmt applied to all problems\n",
    "prompt = '''Let's think step by step. Please write a mathematical optimization model for this problem. If there are parameter values, make sure to include them in the mathematical formulation.\n",
    "'''\n",
    "\n",
    "#Generate the response\n",
    "response = generative_multimodal_model.generate_content([prompt+problem])\n"
   ]
  },
  {
   "cell_type": "code",
   "execution_count": 652,
   "id": "f9adc567",
   "metadata": {},
   "outputs": [
    {
     "data": {
      "text/markdown": [
       "Let's define the variables:\n",
       "\n",
       "*  $x_1$: acres of land devoted to wheat\n",
       "*  $x_2$: acres of land devoted to corn\n",
       "*  $x_3$: acres of land devoted to sugar beets\n",
       "\n",
       "**Objective function:**\n",
       "\n",
       "The objective is to minimize the total cost. The total cost is composed of planting costs, purchasing costs (if any), and negative revenue from sales. \n",
       "\n",
       "* **Planting costs:** $150x_1 + 230x_2 + 260x_3$\n",
       "* **Purchasing cost of wheat:** $170(1+40/100)(200-2.5x_1)$ if $2.5x_1<200$,  $0$ otherwise. \n",
       "* **Purchasing cost of corn:** $150(1+40/100)(240-3x_2)$ if $3x_2<240$, $0$ otherwise.\n",
       "* **Revenue from wheat sales:** $-170(2.5x_1-200)$ if $2.5x_1>200$, $0$ otherwise.\n",
       "* **Revenue from corn sales:** $-150(3x_2-240)$ if $3x_2>240$, $0$ otherwise.\n",
       "* **Revenue from sugar beets sales within quota:** $-36 \\min(20x_3, 6000)$ \n",
       "* **Revenue from sugar beets sales exceeding quota:** $-10 (20x_3-6000)$ if $20x_3>6000$, $0$ otherwise. \n",
       "\n",
       "Therefore the objective function is:\n",
       "\n",
       "$ \\min\\  150x_1 + 230x_2 + 260x_3 + 238(200-2.5x_1) \\mathbb{I}_{2.5x_1<200} + 210(240-3x_2) \\mathbb{I}_{3x_2<240} - 170(2.5x_1-200) \\mathbb{I}_{2.5x_1>200} - 150(3x_2-240) \\mathbb{I}_{3x_2>240} - 36 \\min(20x_3, 6000)  -10 (20x_3-6000) \\mathbb{I}_{20x_3>6000} $\n",
       "\n",
       "where $\\mathbb{I}$ denotes the indicator function that equals $1$ if the subscript condition is satisfied, and equals $0$ otherwise.\n",
       "\n",
       "**Constraints:**\n",
       "\n",
       "* **Land constraint:** $x_1+x_2+x_3\\leq 500$\n",
       "* **Non-negativity constraints:** $x_1\\geq 0$, $x_2\\geq 0$, $x_3\\geq 0$\n",
       "\n",
       "**Mathematical Optimization Model:**\n",
       "\n",
       "$ \\min\\  150x_1 + 230x_2 + 260x_3 + 238(200-2.5x_1) \\mathbb{I}_{2.5x_1<200} + 210(240-3x_2) \\mathbb{I}_{3x_2<240} - 170(2.5x_1-200) \\mathbb{I}_{2.5x_1>200} - 150(3x_2-240) \\mathbb{I}_{3x_2>240} - 36 \\min(20x_3, 6000)  -10 (20x_3-6000) \\mathbb{I}_{20x_3>6000} $\n",
       "\n",
       "Subject to:\n",
       "$x_1+x_2+x_3\\leq 500$\n",
       "$x_1\\geq 0$\n",
       "$x_2\\geq 0$\n",
       "$x_3\\geq 0$\n"
      ],
      "text/plain": [
       "<IPython.core.display.Markdown object>"
      ]
     },
     "execution_count": 652,
     "metadata": {},
     "output_type": "execute_result"
    }
   ],
   "source": [
    "#Show the resopnse in a formatted way\n",
    "Markdown(response.text)"
   ]
  },
  {
   "cell_type": "markdown",
   "id": "49104a9a",
   "metadata": {},
   "source": [
    "## 3. Generate the pyomo code"
   ]
  },
  {
   "cell_type": "code",
   "execution_count": 653,
   "id": "aabea932",
   "metadata": {},
   "outputs": [],
   "source": [
    "#Second prompt gets the output of the previous step and generates the code\n",
    "prompt2 = \"Please write pyomo code for this mathematical problem. Use sample data where needed. Indicate where you use sample data. \\n\"\n",
    "prompt2 += response.text \n",
    "response2 = generative_multimodal_model.generate_content([prompt2])"
   ]
  },
  {
   "cell_type": "code",
   "execution_count": 654,
   "id": "fd2835af",
   "metadata": {
    "scrolled": false
   },
   "outputs": [
    {
     "data": {
      "text/markdown": [
       "```python\n",
       "import pyomo.environ as pyo\n",
       "\n",
       "# Define the model\n",
       "model = pyo.ConcreteModel()\n",
       "\n",
       "# Define the variables\n",
       "model.x1 = pyo.Var(domain=pyo.NonNegativeReals)\n",
       "model.x2 = pyo.Var(domain=pyo.NonNegativeReals)\n",
       "model.x3 = pyo.Var(domain=pyo.NonNegativeReals)\n",
       "\n",
       "# Define the objective function\n",
       "def objective_rule(model):\n",
       "    # Planting costs\n",
       "    planting_cost = 150*model.x1 + 230*model.x2 + 260*model.x3\n",
       "    \n",
       "    # Purchasing cost of wheat\n",
       "    wheat_purchase_cost = 238*(200 - 2.5*model.x1) if 2.5*model.x1 < 200 else 0\n",
       "    \n",
       "    # Purchasing cost of corn\n",
       "    corn_purchase_cost = 210*(240 - 3*model.x2) if 3*model.x2 < 240 else 0 \n",
       "    \n",
       "    # Revenue from wheat sales\n",
       "    wheat_revenue = -170*(2.5*model.x1 - 200) if 2.5*model.x1 > 200 else 0\n",
       "    \n",
       "    # Revenue from corn sales\n",
       "    corn_revenue = -150*(3*model.x2 - 240) if 3*model.x2 > 240 else 0\n",
       "    \n",
       "    # Revenue from sugar beets sales within quota\n",
       "    sugar_beets_revenue_within_quota = -36 * min(20*model.x3, 6000)\n",
       "    \n",
       "    # Revenue from sugar beets sales exceeding quota\n",
       "    sugar_beets_revenue_exceeding_quota = -10*(20*model.x3 - 6000) if 20*model.x3 > 6000 else 0\n",
       "\n",
       "    # Total cost\n",
       "    total_cost = planting_cost + wheat_purchase_cost + corn_purchase_cost + wheat_revenue + corn_revenue + sugar_beets_revenue_within_quota + sugar_beets_revenue_exceeding_quota \n",
       "    \n",
       "    return total_cost\n",
       "\n",
       "model.objective = pyo.Objective(rule=objective_rule, sense=pyo.minimize)\n",
       "\n",
       "# Define the constraints\n",
       "model.land_constraint = pyo.Constraint(expr=model.x1 + model.x2 + model.x3 <= 500)\n",
       "\n",
       "# Solve the model\n",
       "solver = pyo.SolverFactory('glpk')  # You can choose a different solver if you prefer\n",
       "solver.solve(model)\n",
       "\n",
       "# Print the results\n",
       "print(\"Optimal solution:\")\n",
       "print(\"x1 =\", model.x1.value)\n",
       "print(\"x2 =\", model.x2.value)\n",
       "print(\"x3 =\", model.x3.value)\n",
       "print(\"Total cost =\", model.objective.expr()) \n",
       "``` \n"
      ],
      "text/plain": [
       "<IPython.core.display.Markdown object>"
      ]
     },
     "execution_count": 654,
     "metadata": {},
     "output_type": "execute_result"
    }
   ],
   "source": [
    "#Showing the code in a formatted way\n",
    "Markdown(response2.text)"
   ]
  },
  {
   "cell_type": "markdown",
   "id": "b60756ae",
   "metadata": {},
   "source": [
    "## 4. Input problem data and try running the generated code"
   ]
  },
  {
   "cell_type": "code",
   "execution_count": 655,
   "id": "fd5bca7d",
   "metadata": {},
   "outputs": [
    {
     "name": "stdout",
     "output_type": "stream",
     "text": [
      "ERROR: Rule failed when generating expression for Objective objective with\n",
      "index None: PyomoException: Cannot convert non-constant Pyomo expression\n",
      "(2.5*x1  <  200) to bool. This error is usually caused by using a Var, unit,\n",
      "or mutable Param in a Boolean context such as an \"if\" statement, or when\n",
      "checking container membership or equality. For example,\n",
      "        >>> m.x = Var()\n",
      "        >>> if m.x >= 1:\n",
      "        ...     pass\n",
      "    and\n",
      "        >>> m.y = Var()\n",
      "        >>> if m.y in [m.x, m.y]:\n",
      "        ...     pass\n",
      "    would both cause this exception.\n",
      "ERROR: Constructing component 'objective' from data=None failed:\n",
      "        PyomoException: Cannot convert non-constant Pyomo expression (2.5*x1\n",
      "        <  200) to bool.\n",
      "    This error is usually caused by using a Var, unit, or mutable Param in a\n",
      "    Boolean context such as an \"if\" statement, or when checking container\n",
      "    membership or equality. For example,\n",
      "        >>> m.x = Var()\n",
      "        >>> if m.x >= 1:\n",
      "        ...     pass\n",
      "    and\n",
      "        >>> m.y = Var()\n",
      "        >>> if m.y in [m.x, m.y]:\n",
      "        ...     pass\n",
      "    would both cause this exception.\n"
     ]
    },
    {
     "ename": "PyomoException",
     "evalue": "Cannot convert non-constant Pyomo expression (2.5*x1  <  200) to bool.\nThis error is usually caused by using a Var, unit, or mutable Param in a\nBoolean context such as an \"if\" statement, or when checking container\nmembership or equality. For example,\n    >>> m.x = Var()\n    >>> if m.x >= 1:\n    ...     pass\nand\n    >>> m.y = Var()\n    >>> if m.y in [m.x, m.y]:\n    ...     pass\nwould both cause this exception.",
     "output_type": "error",
     "traceback": [
      "\u001b[1;31m---------------------------------------------------------------------------\u001b[0m",
      "\u001b[1;31mPyomoException\u001b[0m                            Traceback (most recent call last)",
      "Cell \u001b[1;32mIn[655], line 39\u001b[0m\n\u001b[0;32m     35\u001b[0m     total_cost \u001b[38;5;241m=\u001b[39m planting_cost \u001b[38;5;241m+\u001b[39m wheat_purchase_cost \u001b[38;5;241m+\u001b[39m corn_purchase_cost \u001b[38;5;241m+\u001b[39m wheat_revenue \u001b[38;5;241m+\u001b[39m corn_revenue \u001b[38;5;241m+\u001b[39m sugar_beets_revenue_within_quota \u001b[38;5;241m+\u001b[39m sugar_beets_revenue_exceeding_quota \n\u001b[0;32m     37\u001b[0m     \u001b[38;5;28;01mreturn\u001b[39;00m total_cost\n\u001b[1;32m---> 39\u001b[0m model\u001b[38;5;241m.\u001b[39mobjective \u001b[38;5;241m=\u001b[39m pyo\u001b[38;5;241m.\u001b[39mObjective(rule\u001b[38;5;241m=\u001b[39mobjective_rule, sense\u001b[38;5;241m=\u001b[39mpyo\u001b[38;5;241m.\u001b[39mminimize)\n\u001b[0;32m     41\u001b[0m \u001b[38;5;66;03m# Define the constraints\u001b[39;00m\n\u001b[0;32m     42\u001b[0m model\u001b[38;5;241m.\u001b[39mland_constraint \u001b[38;5;241m=\u001b[39m pyo\u001b[38;5;241m.\u001b[39mConstraint(expr\u001b[38;5;241m=\u001b[39mmodel\u001b[38;5;241m.\u001b[39mx1 \u001b[38;5;241m+\u001b[39m model\u001b[38;5;241m.\u001b[39mx2 \u001b[38;5;241m+\u001b[39m model\u001b[38;5;241m.\u001b[39mx3 \u001b[38;5;241m<\u001b[39m\u001b[38;5;241m=\u001b[39m \u001b[38;5;241m500\u001b[39m)\n",
      "File \u001b[1;32m~\\anaconda3\\Lib\\site-packages\\pyomo\\core\\base\\block.py:568\u001b[0m, in \u001b[0;36m_BlockData.__setattr__\u001b[1;34m(self, name, val)\u001b[0m\n\u001b[0;32m    563\u001b[0m \u001b[38;5;28;01mif\u001b[39;00m name \u001b[38;5;129;01mnot\u001b[39;00m \u001b[38;5;129;01min\u001b[39;00m \u001b[38;5;28mself\u001b[39m\u001b[38;5;241m.\u001b[39m\u001b[38;5;18m__dict__\u001b[39m:\n\u001b[0;32m    564\u001b[0m     \u001b[38;5;28;01mif\u001b[39;00m \u001b[38;5;28misinstance\u001b[39m(val, Component):\n\u001b[0;32m    565\u001b[0m         \u001b[38;5;66;03m#\u001b[39;00m\n\u001b[0;32m    566\u001b[0m         \u001b[38;5;66;03m# Pyomo components are added with the add_component method.\u001b[39;00m\n\u001b[0;32m    567\u001b[0m         \u001b[38;5;66;03m#\u001b[39;00m\n\u001b[1;32m--> 568\u001b[0m         \u001b[38;5;28mself\u001b[39m\u001b[38;5;241m.\u001b[39madd_component(name, val)\n\u001b[0;32m    569\u001b[0m     \u001b[38;5;28;01melse\u001b[39;00m:\n\u001b[0;32m    570\u001b[0m         \u001b[38;5;66;03m#\u001b[39;00m\n\u001b[0;32m    571\u001b[0m         \u001b[38;5;66;03m# Other Python objects are added with the standard __setattr__\u001b[39;00m\n\u001b[0;32m    572\u001b[0m         \u001b[38;5;66;03m# method.\u001b[39;00m\n\u001b[0;32m    573\u001b[0m         \u001b[38;5;66;03m#\u001b[39;00m\n\u001b[0;32m    574\u001b[0m         \u001b[38;5;28msuper\u001b[39m(_BlockData, \u001b[38;5;28mself\u001b[39m)\u001b[38;5;241m.\u001b[39m\u001b[38;5;21m__setattr__\u001b[39m(name, val)\n",
      "File \u001b[1;32m~\\anaconda3\\Lib\\site-packages\\pyomo\\core\\base\\block.py:1126\u001b[0m, in \u001b[0;36m_BlockData.add_component\u001b[1;34m(self, name, val)\u001b[0m\n\u001b[0;32m   1118\u001b[0m     logger\u001b[38;5;241m.\u001b[39mdebug(\n\u001b[0;32m   1119\u001b[0m         \u001b[38;5;124m\"\u001b[39m\u001b[38;5;124mConstructing \u001b[39m\u001b[38;5;132;01m%s\u001b[39;00m\u001b[38;5;124m \u001b[39m\u001b[38;5;124m'\u001b[39m\u001b[38;5;132;01m%s\u001b[39;00m\u001b[38;5;124m'\u001b[39m\u001b[38;5;124m on \u001b[39m\u001b[38;5;132;01m%s\u001b[39;00m\u001b[38;5;124m from data=\u001b[39m\u001b[38;5;132;01m%s\u001b[39;00m\u001b[38;5;124m\"\u001b[39m,\n\u001b[0;32m   1120\u001b[0m         val\u001b[38;5;241m.\u001b[39m\u001b[38;5;18m__class__\u001b[39m\u001b[38;5;241m.\u001b[39m\u001b[38;5;18m__name__\u001b[39m,\n\u001b[1;32m   (...)\u001b[0m\n\u001b[0;32m   1123\u001b[0m         \u001b[38;5;28mstr\u001b[39m(data),\n\u001b[0;32m   1124\u001b[0m     )\n\u001b[0;32m   1125\u001b[0m \u001b[38;5;28;01mtry\u001b[39;00m:\n\u001b[1;32m-> 1126\u001b[0m     val\u001b[38;5;241m.\u001b[39mconstruct(data)\n\u001b[0;32m   1127\u001b[0m \u001b[38;5;28;01mexcept\u001b[39;00m:\n\u001b[0;32m   1128\u001b[0m     err \u001b[38;5;241m=\u001b[39m sys\u001b[38;5;241m.\u001b[39mexc_info()[\u001b[38;5;241m1\u001b[39m]\n",
      "File \u001b[1;32m~\\anaconda3\\Lib\\site-packages\\pyomo\\core\\base\\objective.py:318\u001b[0m, in \u001b[0;36mObjective.construct\u001b[1;34m(self, data)\u001b[0m\n\u001b[0;32m    315\u001b[0m \u001b[38;5;28;01melse\u001b[39;00m:\n\u001b[0;32m    316\u001b[0m     \u001b[38;5;66;03m# Bypass the index validation and create the member directly\u001b[39;00m\n\u001b[0;32m    317\u001b[0m     \u001b[38;5;28;01mfor\u001b[39;00m index \u001b[38;5;129;01min\u001b[39;00m \u001b[38;5;28mself\u001b[39m\u001b[38;5;241m.\u001b[39mindex_set():\n\u001b[1;32m--> 318\u001b[0m         ans \u001b[38;5;241m=\u001b[39m \u001b[38;5;28mself\u001b[39m\u001b[38;5;241m.\u001b[39m_setitem_when_not_present(index, rule(block, index))\n\u001b[0;32m    319\u001b[0m         \u001b[38;5;28;01mif\u001b[39;00m ans \u001b[38;5;129;01mis\u001b[39;00m \u001b[38;5;129;01mnot\u001b[39;00m \u001b[38;5;28;01mNone\u001b[39;00m:\n\u001b[0;32m    320\u001b[0m             ans\u001b[38;5;241m.\u001b[39mset_sense(\u001b[38;5;28mself\u001b[39m\u001b[38;5;241m.\u001b[39m_init_sense(block, index))\n",
      "File \u001b[1;32m~\\anaconda3\\Lib\\site-packages\\pyomo\\core\\base\\initializer.py:438\u001b[0m, in \u001b[0;36mScalarCallInitializer.__call__\u001b[1;34m(self, parent, idx)\u001b[0m\n\u001b[0;32m    437\u001b[0m \u001b[38;5;28;01mdef\u001b[39;00m \u001b[38;5;21m__call__\u001b[39m(\u001b[38;5;28mself\u001b[39m, parent, idx):\n\u001b[1;32m--> 438\u001b[0m     \u001b[38;5;28;01mreturn\u001b[39;00m \u001b[38;5;28mself\u001b[39m\u001b[38;5;241m.\u001b[39m_fcn(parent)\n",
      "Cell \u001b[1;32mIn[655], line 17\u001b[0m, in \u001b[0;36mobjective_rule\u001b[1;34m(model)\u001b[0m\n\u001b[0;32m     14\u001b[0m planting_cost \u001b[38;5;241m=\u001b[39m \u001b[38;5;241m150\u001b[39m\u001b[38;5;241m*\u001b[39mmodel\u001b[38;5;241m.\u001b[39mx1 \u001b[38;5;241m+\u001b[39m \u001b[38;5;241m230\u001b[39m\u001b[38;5;241m*\u001b[39mmodel\u001b[38;5;241m.\u001b[39mx2 \u001b[38;5;241m+\u001b[39m \u001b[38;5;241m260\u001b[39m\u001b[38;5;241m*\u001b[39mmodel\u001b[38;5;241m.\u001b[39mx3\n\u001b[0;32m     16\u001b[0m \u001b[38;5;66;03m# Purchasing cost of wheat\u001b[39;00m\n\u001b[1;32m---> 17\u001b[0m wheat_purchase_cost \u001b[38;5;241m=\u001b[39m \u001b[38;5;241m238\u001b[39m\u001b[38;5;241m*\u001b[39m(\u001b[38;5;241m200\u001b[39m \u001b[38;5;241m-\u001b[39m \u001b[38;5;241m2.5\u001b[39m\u001b[38;5;241m*\u001b[39mmodel\u001b[38;5;241m.\u001b[39mx1) \u001b[38;5;28;01mif\u001b[39;00m \u001b[38;5;241m2.5\u001b[39m\u001b[38;5;241m*\u001b[39mmodel\u001b[38;5;241m.\u001b[39mx1 \u001b[38;5;241m<\u001b[39m \u001b[38;5;241m200\u001b[39m \u001b[38;5;28;01melse\u001b[39;00m \u001b[38;5;241m0\u001b[39m\n\u001b[0;32m     19\u001b[0m \u001b[38;5;66;03m# Purchasing cost of corn\u001b[39;00m\n\u001b[0;32m     20\u001b[0m corn_purchase_cost \u001b[38;5;241m=\u001b[39m \u001b[38;5;241m210\u001b[39m\u001b[38;5;241m*\u001b[39m(\u001b[38;5;241m240\u001b[39m \u001b[38;5;241m-\u001b[39m \u001b[38;5;241m3\u001b[39m\u001b[38;5;241m*\u001b[39mmodel\u001b[38;5;241m.\u001b[39mx2) \u001b[38;5;28;01mif\u001b[39;00m \u001b[38;5;241m3\u001b[39m\u001b[38;5;241m*\u001b[39mmodel\u001b[38;5;241m.\u001b[39mx2 \u001b[38;5;241m<\u001b[39m \u001b[38;5;241m240\u001b[39m \u001b[38;5;28;01melse\u001b[39;00m \u001b[38;5;241m0\u001b[39m \n",
      "File \u001b[1;32m~\\anaconda3\\Lib\\site-packages\\pyomo\\core\\expr\\relational_expr.py:47\u001b[0m, in \u001b[0;36mRelationalExpression.__bool__\u001b[1;34m(self)\u001b[0m\n\u001b[0;32m     45\u001b[0m         \u001b[38;5;28;01mif\u001b[39;00m \u001b[38;5;28mself\u001b[39m\u001b[38;5;241m.\u001b[39mis_constant():\n\u001b[0;32m     46\u001b[0m             \u001b[38;5;28;01mreturn\u001b[39;00m \u001b[38;5;28mbool\u001b[39m(\u001b[38;5;28mself\u001b[39m())\n\u001b[1;32m---> 47\u001b[0m         \u001b[38;5;28;01mraise\u001b[39;00m PyomoException(\n\u001b[0;32m     48\u001b[0m \u001b[38;5;250m            \u001b[39m\u001b[38;5;124;03m\"\"\"\u001b[39;00m\n\u001b[0;32m     49\u001b[0m \u001b[38;5;124;03mCannot convert non-constant Pyomo expression (%s) to bool.\u001b[39;00m\n\u001b[0;32m     50\u001b[0m \u001b[38;5;124;03mThis error is usually caused by using a Var, unit, or mutable Param in a\u001b[39;00m\n\u001b[0;32m     51\u001b[0m \u001b[38;5;124;03mBoolean context such as an \"if\" statement, or when checking container\u001b[39;00m\n\u001b[0;32m     52\u001b[0m \u001b[38;5;124;03mmembership or equality. For example,\u001b[39;00m\n\u001b[0;32m     53\u001b[0m \u001b[38;5;124;03m    >>> m.x = Var()\u001b[39;00m\n\u001b[0;32m     54\u001b[0m \u001b[38;5;124;03m    >>> if m.x >= 1:\u001b[39;00m\n\u001b[0;32m     55\u001b[0m \u001b[38;5;124;03m    ...     pass\u001b[39;00m\n\u001b[0;32m     56\u001b[0m \u001b[38;5;124;03mand\u001b[39;00m\n\u001b[0;32m     57\u001b[0m \u001b[38;5;124;03m    >>> m.y = Var()\u001b[39;00m\n\u001b[0;32m     58\u001b[0m \u001b[38;5;124;03m    >>> if m.y in [m.x, m.y]:\u001b[39;00m\n\u001b[0;32m     59\u001b[0m \u001b[38;5;124;03m    ...     pass\u001b[39;00m\n\u001b[0;32m     60\u001b[0m \u001b[38;5;124;03mwould both cause this exception.\"\"\"\u001b[39;00m\u001b[38;5;241m.\u001b[39mstrip()\n\u001b[0;32m     61\u001b[0m             \u001b[38;5;241m%\u001b[39m (\u001b[38;5;28mself\u001b[39m,)\n\u001b[0;32m     62\u001b[0m         )\n",
      "\u001b[1;31mPyomoException\u001b[0m: Cannot convert non-constant Pyomo expression (2.5*x1  <  200) to bool.\nThis error is usually caused by using a Var, unit, or mutable Param in a\nBoolean context such as an \"if\" statement, or when checking container\nmembership or equality. For example,\n    >>> m.x = Var()\n    >>> if m.x >= 1:\n    ...     pass\nand\n    >>> m.y = Var()\n    >>> if m.y in [m.x, m.y]:\n    ...     pass\nwould both cause this exception."
     ]
    }
   ],
   "source": [
    "import pyomo.environ as pyo\n",
    "\n",
    "# Define the model\n",
    "model = pyo.ConcreteModel()\n",
    "\n",
    "# Define the variables\n",
    "model.x1 = pyo.Var(domain=pyo.NonNegativeReals)\n",
    "model.x2 = pyo.Var(domain=pyo.NonNegativeReals)\n",
    "model.x3 = pyo.Var(domain=pyo.NonNegativeReals)\n",
    "\n",
    "# Define the objective function\n",
    "def objective_rule(model):\n",
    "    # Planting costs\n",
    "    planting_cost = 150*model.x1 + 230*model.x2 + 260*model.x3\n",
    "    \n",
    "    # Purchasing cost of wheat\n",
    "    wheat_purchase_cost = 238*(200 - 2.5*model.x1) if 2.5*model.x1 < 200 else 0\n",
    "    \n",
    "    # Purchasing cost of corn\n",
    "    corn_purchase_cost = 210*(240 - 3*model.x2) if 3*model.x2 < 240 else 0 \n",
    "    \n",
    "    # Revenue from wheat sales\n",
    "    wheat_revenue = -170*(2.5*model.x1 - 200) if 2.5*model.x1 > 200 else 0\n",
    "    \n",
    "    # Revenue from corn sales\n",
    "    corn_revenue = -150*(3*model.x2 - 240) if 3*model.x2 > 240 else 0\n",
    "    \n",
    "    # Revenue from sugar beets sales within quota\n",
    "    sugar_beets_revenue_within_quota = -36 * min(20*model.x3, 6000)\n",
    "    \n",
    "    # Revenue from sugar beets sales exceeding quota\n",
    "    sugar_beets_revenue_exceeding_quota = -10*(20*model.x3 - 6000) if 20*model.x3 > 6000 else 0\n",
    "\n",
    "    # Total cost\n",
    "    total_cost = planting_cost + wheat_purchase_cost + corn_purchase_cost + wheat_revenue + corn_revenue + sugar_beets_revenue_within_quota + sugar_beets_revenue_exceeding_quota \n",
    "    \n",
    "    return total_cost\n",
    "\n",
    "model.objective = pyo.Objective(rule=objective_rule, sense=pyo.minimize)\n",
    "\n",
    "# Define the constraints\n",
    "model.land_constraint = pyo.Constraint(expr=model.x1 + model.x2 + model.x3 <= 500)\n",
    "\n",
    "# Solve the model\n",
    "solver = pyo.SolverFactory('glpk')  # You can choose a different solver if you prefer\n",
    "solver.solve(model)\n",
    "\n",
    "# Print the results\n",
    "print(\"Optimal solution:\")\n",
    "print(\"x1 =\", model.x1.value)\n",
    "print(\"x2 =\", model.x2.value)\n",
    "print(\"x3 =\", model.x3.value)\n",
    "print(\"Total cost =\", model.objective.expr()) "
   ]
  },
  {
   "cell_type": "markdown",
   "id": "8f10340f",
   "metadata": {},
   "source": [
    "## 5. Correct the code to verify model viability (optional)"
   ]
  },
  {
   "cell_type": "code",
   "execution_count": 658,
   "id": "1f47b804",
   "metadata": {},
   "outputs": [
    {
     "ename": "PyomoException",
     "evalue": "Cannot convert non-constant Pyomo expression (6000  <  20*x3) to bool.\nThis error is usually caused by using a Var, unit, or mutable Param in a\nBoolean context such as an \"if\" statement, or when checking container\nmembership or equality. For example,\n    >>> m.x = Var()\n    >>> if m.x >= 1:\n    ...     pass\nand\n    >>> m.y = Var()\n    >>> if m.y in [m.x, m.y]:\n    ...     pass\nwould both cause this exception.",
     "output_type": "error",
     "traceback": [
      "\u001b[1;31m---------------------------------------------------------------------------\u001b[0m",
      "\u001b[1;31mPyomoException\u001b[0m                            Traceback (most recent call last)",
      "Cell \u001b[1;32mIn[658], line 57\u001b[0m\n\u001b[0;32m     54\u001b[0m model\u001b[38;5;241m.\u001b[39mland_constraint \u001b[38;5;241m=\u001b[39m pyo\u001b[38;5;241m.\u001b[39mConstraint(expr\u001b[38;5;241m=\u001b[39mmodel\u001b[38;5;241m.\u001b[39mx1 \u001b[38;5;241m+\u001b[39m model\u001b[38;5;241m.\u001b[39mx2 \u001b[38;5;241m+\u001b[39m model\u001b[38;5;241m.\u001b[39mx3 \u001b[38;5;241m<\u001b[39m\u001b[38;5;241m=\u001b[39m \u001b[38;5;241m500\u001b[39m)\n\u001b[0;32m     56\u001b[0m \u001b[38;5;66;03m# Define the constraint for minimum sugar beets quota\u001b[39;00m\n\u001b[1;32m---> 57\u001b[0m model\u001b[38;5;241m.\u001b[39mmin_sugar_beets_constraint \u001b[38;5;241m=\u001b[39m pyo\u001b[38;5;241m.\u001b[39mConstraint(expr\u001b[38;5;241m=\u001b[39mmodel\u001b[38;5;241m.\u001b[39mmin_sugar_beets_quota \u001b[38;5;241m==\u001b[39m \u001b[38;5;28mmin\u001b[39m(\u001b[38;5;241m20\u001b[39m\u001b[38;5;241m*\u001b[39mmodel\u001b[38;5;241m.\u001b[39mx3, \u001b[38;5;241m6000\u001b[39m))\n\u001b[0;32m     59\u001b[0m \u001b[38;5;66;03m# Solve the model\u001b[39;00m\n\u001b[0;32m     60\u001b[0m solver \u001b[38;5;241m=\u001b[39m pyo\u001b[38;5;241m.\u001b[39mSolverFactory(\u001b[38;5;124m'\u001b[39m\u001b[38;5;124mglpk\u001b[39m\u001b[38;5;124m'\u001b[39m)  \u001b[38;5;66;03m# You can choose a different solver if you prefer\u001b[39;00m\n",
      "File \u001b[1;32m~\\anaconda3\\Lib\\site-packages\\pyomo\\core\\expr\\relational_expr.py:47\u001b[0m, in \u001b[0;36mRelationalExpression.__bool__\u001b[1;34m(self)\u001b[0m\n\u001b[0;32m     45\u001b[0m         \u001b[38;5;28;01mif\u001b[39;00m \u001b[38;5;28mself\u001b[39m\u001b[38;5;241m.\u001b[39mis_constant():\n\u001b[0;32m     46\u001b[0m             \u001b[38;5;28;01mreturn\u001b[39;00m \u001b[38;5;28mbool\u001b[39m(\u001b[38;5;28mself\u001b[39m())\n\u001b[1;32m---> 47\u001b[0m         \u001b[38;5;28;01mraise\u001b[39;00m PyomoException(\n\u001b[0;32m     48\u001b[0m \u001b[38;5;250m            \u001b[39m\u001b[38;5;124;03m\"\"\"\u001b[39;00m\n\u001b[0;32m     49\u001b[0m \u001b[38;5;124;03mCannot convert non-constant Pyomo expression (%s) to bool.\u001b[39;00m\n\u001b[0;32m     50\u001b[0m \u001b[38;5;124;03mThis error is usually caused by using a Var, unit, or mutable Param in a\u001b[39;00m\n\u001b[0;32m     51\u001b[0m \u001b[38;5;124;03mBoolean context such as an \"if\" statement, or when checking container\u001b[39;00m\n\u001b[0;32m     52\u001b[0m \u001b[38;5;124;03mmembership or equality. For example,\u001b[39;00m\n\u001b[0;32m     53\u001b[0m \u001b[38;5;124;03m    >>> m.x = Var()\u001b[39;00m\n\u001b[0;32m     54\u001b[0m \u001b[38;5;124;03m    >>> if m.x >= 1:\u001b[39;00m\n\u001b[0;32m     55\u001b[0m \u001b[38;5;124;03m    ...     pass\u001b[39;00m\n\u001b[0;32m     56\u001b[0m \u001b[38;5;124;03mand\u001b[39;00m\n\u001b[0;32m     57\u001b[0m \u001b[38;5;124;03m    >>> m.y = Var()\u001b[39;00m\n\u001b[0;32m     58\u001b[0m \u001b[38;5;124;03m    >>> if m.y in [m.x, m.y]:\u001b[39;00m\n\u001b[0;32m     59\u001b[0m \u001b[38;5;124;03m    ...     pass\u001b[39;00m\n\u001b[0;32m     60\u001b[0m \u001b[38;5;124;03mwould both cause this exception.\"\"\"\u001b[39;00m\u001b[38;5;241m.\u001b[39mstrip()\n\u001b[0;32m     61\u001b[0m             \u001b[38;5;241m%\u001b[39m (\u001b[38;5;28mself\u001b[39m,)\n\u001b[0;32m     62\u001b[0m         )\n",
      "\u001b[1;31mPyomoException\u001b[0m: Cannot convert non-constant Pyomo expression (6000  <  20*x3) to bool.\nThis error is usually caused by using a Var, unit, or mutable Param in a\nBoolean context such as an \"if\" statement, or when checking container\nmembership or equality. For example,\n    >>> m.x = Var()\n    >>> if m.x >= 1:\n    ...     pass\nand\n    >>> m.y = Var()\n    >>> if m.y in [m.x, m.y]:\n    ...     pass\nwould both cause this exception."
     ]
    }
   ],
   "source": [
    "import pyomo.environ as pyo\n",
    "\n",
    "# Define the model\n",
    "model = pyo.ConcreteModel()\n",
    "\n",
    "# Define the variables\n",
    "model.x1 = pyo.Var(domain=pyo.NonNegativeReals)\n",
    "model.x2 = pyo.Var(domain=pyo.NonNegativeReals)\n",
    "model.x3 = pyo.Var(domain=pyo.NonNegativeReals)\n",
    "\n",
    "# Define indicator variables\n",
    "model.indicator_wheat_purchase = pyo.Var(domain=pyo.Binary)\n",
    "model.indicator_corn_purchase = pyo.Var(domain=pyo.Binary)\n",
    "model.indicator_wheat_revenue = pyo.Var(domain=pyo.Binary)\n",
    "model.indicator_corn_revenue = pyo.Var(domain=pyo.Binary)\n",
    "model.indicator_sugar_beets_within_quota = pyo.Var(domain=pyo.Binary)\n",
    "model.indicator_sugar_beets_exceeding_quota = pyo.Var(domain=pyo.Binary)\n",
    "\n",
    "# Define auxiliary variables for min function\n",
    "model.min_sugar_beets_quota = pyo.Var(domain=pyo.NonNegativeReals)\n",
    "\n",
    "# Define the objective function\n",
    "def objective_rule(model):\n",
    "    # Planting costs\n",
    "    planting_cost = 150*model.x1 + 230*model.x2 + 260*model.x3\n",
    "    \n",
    "    # Purchasing cost of wheat\n",
    "    wheat_purchase_cost = 238*(200 - 2.5*model.x1)\n",
    "    \n",
    "    # Purchasing cost of corn\n",
    "    corn_purchase_cost = 210*(240 - 3*model.x2)\n",
    "    \n",
    "    # Revenue from wheat sales\n",
    "    wheat_revenue = -170*(2.5*model.x1 - 200)\n",
    "    \n",
    "    # Revenue from corn sales\n",
    "    corn_revenue = -150*(3*model.x2 - 240)\n",
    "    \n",
    "    # Revenue from sugar beets sales within quota\n",
    "    sugar_beets_revenue_within_quota = -36 * model.min_sugar_beets_quota\n",
    "    \n",
    "    # Revenue from sugar beets sales exceeding quota\n",
    "    sugar_beets_revenue_exceeding_quota = -10*(20*model.x3 - 6000)\n",
    "    \n",
    "    # Total cost\n",
    "    total_cost = planting_cost + wheat_purchase_cost + corn_purchase_cost + wheat_revenue + corn_revenue + sugar_beets_revenue_within_quota + sugar_beets_revenue_exceeding_quota \n",
    "    \n",
    "    # Use indicator variables to control the terms in the objective function\n",
    "    return total_cost + 10000*(model.indicator_wheat_purchase + model.indicator_corn_purchase + model.indicator_wheat_revenue + model.indicator_corn_revenue + model.indicator_sugar_beets_within_quota + model.indicator_sugar_beets_exceeding_quota)\n",
    "\n",
    "model.objective = pyo.Objective(rule=objective_rule, sense=pyo.minimize)\n",
    "\n",
    "# Define the constraints\n",
    "model.land_constraint = pyo.Constraint(expr=model.x1 + model.x2 + model.x3 <= 500)\n",
    "\n",
    "# Define the constraint for minimum sugar beets quota\n",
    "model.min_sugar_beets_constraint = pyo.Constraint(expr=model.min_sugar_beets_quota == min(20*model.x3, 6000))\n",
    "\n",
    "# Solve the model\n",
    "solver = pyo.SolverFactory('glpk')  # You can choose a different solver if you prefer\n",
    "solver.solve(model)\n",
    "\n",
    "# Print the results\n",
    "print(\"Optimal solution:\")\n",
    "print(\"x1 =\", model.x1.value)\n",
    "print(\"x2 =\", model.x2.value)\n",
    "print(\"x3 =\", model.x3.value)\n",
    "print(\"Total cost =\", model.objective.expr())\n"
   ]
  },
  {
   "cell_type": "markdown",
   "id": "03525f23",
   "metadata": {},
   "source": [
    "## 6. Printing the outputs as strings, so they can be saved.\n",
    "Those can be rendered as markdown for better readability"
   ]
  },
  {
   "cell_type": "code",
   "execution_count": 659,
   "id": "9d832f4d",
   "metadata": {},
   "outputs": [
    {
     "name": "stdout",
     "output_type": "stream",
     "text": [
      "Let's define the variables:\n",
      "\n",
      "*  $x_1$: acres of land devoted to wheat\n",
      "*  $x_2$: acres of land devoted to corn\n",
      "*  $x_3$: acres of land devoted to sugar beets\n",
      "\n",
      "**Objective function:**\n",
      "\n",
      "The objective is to minimize the total cost. The total cost is composed of planting costs, purchasing costs (if any), and negative revenue from sales. \n",
      "\n",
      "* **Planting costs:** $150x_1 + 230x_2 + 260x_3$\n",
      "* **Purchasing cost of wheat:** $170(1+40/100)(200-2.5x_1)$ if $2.5x_1<200$,  $0$ otherwise. \n",
      "* **Purchasing cost of corn:** $150(1+40/100)(240-3x_2)$ if $3x_2<240$, $0$ otherwise.\n",
      "* **Revenue from wheat sales:** $-170(2.5x_1-200)$ if $2.5x_1>200$, $0$ otherwise.\n",
      "* **Revenue from corn sales:** $-150(3x_2-240)$ if $3x_2>240$, $0$ otherwise.\n",
      "* **Revenue from sugar beets sales within quota:** $-36 \\min(20x_3, 6000)$ \n",
      "* **Revenue from sugar beets sales exceeding quota:** $-10 (20x_3-6000)$ if $20x_3>6000$, $0$ otherwise. \n",
      "\n",
      "Therefore the objective function is:\n",
      "\n",
      "$ \\min\\  150x_1 + 230x_2 + 260x_3 + 238(200-2.5x_1) \\mathbb{I}_{2.5x_1<200} + 210(240-3x_2) \\mathbb{I}_{3x_2<240} - 170(2.5x_1-200) \\mathbb{I}_{2.5x_1>200} - 150(3x_2-240) \\mathbb{I}_{3x_2>240} - 36 \\min(20x_3, 6000)  -10 (20x_3-6000) \\mathbb{I}_{20x_3>6000} $\n",
      "\n",
      "where $\\mathbb{I}$ denotes the indicator function that equals $1$ if the subscript condition is satisfied, and equals $0$ otherwise.\n",
      "\n",
      "**Constraints:**\n",
      "\n",
      "* **Land constraint:** $x_1+x_2+x_3\\leq 500$\n",
      "* **Non-negativity constraints:** $x_1\\geq 0$, $x_2\\geq 0$, $x_3\\geq 0$\n",
      "\n",
      "**Mathematical Optimization Model:**\n",
      "\n",
      "$ \\min\\  150x_1 + 230x_2 + 260x_3 + 238(200-2.5x_1) \\mathbb{I}_{2.5x_1<200} + 210(240-3x_2) \\mathbb{I}_{3x_2<240} - 170(2.5x_1-200) \\mathbb{I}_{2.5x_1>200} - 150(3x_2-240) \\mathbb{I}_{3x_2>240} - 36 \\min(20x_3, 6000)  -10 (20x_3-6000) \\mathbb{I}_{20x_3>6000} $\n",
      "\n",
      "Subject to:\n",
      "$x_1+x_2+x_3\\leq 500$\n",
      "$x_1\\geq 0$\n",
      "$x_2\\geq 0$\n",
      "$x_3\\geq 0$\n",
      "\n"
     ]
    }
   ],
   "source": [
    "print(response.text)"
   ]
  },
  {
   "cell_type": "code",
   "execution_count": 660,
   "id": "57e86877",
   "metadata": {
    "scrolled": false
   },
   "outputs": [
    {
     "name": "stdout",
     "output_type": "stream",
     "text": [
      "```python\n",
      "import pyomo.environ as pyo\n",
      "\n",
      "# Define the model\n",
      "model = pyo.ConcreteModel()\n",
      "\n",
      "# Define the variables\n",
      "model.x1 = pyo.Var(domain=pyo.NonNegativeReals)\n",
      "model.x2 = pyo.Var(domain=pyo.NonNegativeReals)\n",
      "model.x3 = pyo.Var(domain=pyo.NonNegativeReals)\n",
      "\n",
      "# Define the objective function\n",
      "def objective_rule(model):\n",
      "    # Planting costs\n",
      "    planting_cost = 150*model.x1 + 230*model.x2 + 260*model.x3\n",
      "    \n",
      "    # Purchasing cost of wheat\n",
      "    wheat_purchase_cost = 238*(200 - 2.5*model.x1) if 2.5*model.x1 < 200 else 0\n",
      "    \n",
      "    # Purchasing cost of corn\n",
      "    corn_purchase_cost = 210*(240 - 3*model.x2) if 3*model.x2 < 240 else 0 \n",
      "    \n",
      "    # Revenue from wheat sales\n",
      "    wheat_revenue = -170*(2.5*model.x1 - 200) if 2.5*model.x1 > 200 else 0\n",
      "    \n",
      "    # Revenue from corn sales\n",
      "    corn_revenue = -150*(3*model.x2 - 240) if 3*model.x2 > 240 else 0\n",
      "    \n",
      "    # Revenue from sugar beets sales within quota\n",
      "    sugar_beets_revenue_within_quota = -36 * min(20*model.x3, 6000)\n",
      "    \n",
      "    # Revenue from sugar beets sales exceeding quota\n",
      "    sugar_beets_revenue_exceeding_quota = -10*(20*model.x3 - 6000) if 20*model.x3 > 6000 else 0\n",
      "\n",
      "    # Total cost\n",
      "    total_cost = planting_cost + wheat_purchase_cost + corn_purchase_cost + wheat_revenue + corn_revenue + sugar_beets_revenue_within_quota + sugar_beets_revenue_exceeding_quota \n",
      "    \n",
      "    return total_cost\n",
      "\n",
      "model.objective = pyo.Objective(rule=objective_rule, sense=pyo.minimize)\n",
      "\n",
      "# Define the constraints\n",
      "model.land_constraint = pyo.Constraint(expr=model.x1 + model.x2 + model.x3 <= 500)\n",
      "\n",
      "# Solve the model\n",
      "solver = pyo.SolverFactory('glpk')  # You can choose a different solver if you prefer\n",
      "solver.solve(model)\n",
      "\n",
      "# Print the results\n",
      "print(\"Optimal solution:\")\n",
      "print(\"x1 =\", model.x1.value)\n",
      "print(\"x2 =\", model.x2.value)\n",
      "print(\"x3 =\", model.x3.value)\n",
      "print(\"Total cost =\", model.objective.expr()) \n",
      "``` \n",
      "\n"
     ]
    }
   ],
   "source": [
    "print(response2.text)"
   ]
  }
 ],
 "metadata": {
  "kernelspec": {
   "display_name": "Python 3 (ipykernel)",
   "language": "python",
   "name": "python3"
  },
  "language_info": {
   "codemirror_mode": {
    "name": "ipython",
    "version": 3
   },
   "file_extension": ".py",
   "mimetype": "text/x-python",
   "name": "python",
   "nbconvert_exporter": "python",
   "pygments_lexer": "ipython3",
   "version": "3.11.4"
  }
 },
 "nbformat": 4,
 "nbformat_minor": 5
}
