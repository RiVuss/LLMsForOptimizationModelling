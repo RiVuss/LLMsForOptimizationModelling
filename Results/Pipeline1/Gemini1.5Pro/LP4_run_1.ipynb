{
 "cells": [
  {
   "cell_type": "markdown",
   "id": "f0005e9e",
   "metadata": {},
   "source": [
    "# LLM Optimization Modelling Experiment"
   ]
  },
  {
   "cell_type": "code",
   "execution_count": 4,
   "id": "7f664028",
   "metadata": {},
   "outputs": [],
   "source": [
    "import vertexai\n",
    "from vertexai.preview.generative_models import GenerativeModel, Image\n",
    "from IPython.display import Markdown"
   ]
  },
  {
   "cell_type": "markdown",
   "id": "f527d6af",
   "metadata": {},
   "source": [
    "## 1. Define the problem description"
   ]
  },
  {
   "cell_type": "code",
   "execution_count": 62,
   "id": "25055ffd",
   "metadata": {},
   "outputs": [],
   "source": [
    "problem = '''Consider a farmer who specializes in raising wheat, corn, and sugar beets on her 500 acres of land. During the winter, she wants to decide how much land to devote to each crop.\n",
    "\n",
    "The farmer knows that at least 200 tons (T) of wheat and 240 T of corn are needed for cattle feed. These amounts can be raised on the farm or bought from a wholesaler.\n",
    "Any production in excess of the feeding requirement would be sold.\n",
    "\n",
    "Over the last decade, mean selling prices have been $170 and $150 per ton of wheat and corn, respectively.\n",
    "The purchase prices are 40% more than this due to the wholesaler’s margin and transportation costs.\n",
    "\n",
    "Another profitable crop is sugar beet, which she expects to sell at $36/T. However, the European Commission imposes a quota on sugar beet production. Any amount in excess of the quota can be sold only at $10/T. The farmer’s quota for next year is 6000 T.\n",
    "\n",
    "Based on past experience, the farmer knows that the mean yield on her land is roughly 2.5 T, 3 T, and 20 T per acre for wheat, corn, and sugar beets, respectively. It costs $150 to plant an acre of wheat, $230 to pant an acre of corn and $260 to plant an acre of sugar beets. \n",
    "\n",
    "The farmer can decide how much of her land she will use to grow each of the three products: wheat, corn and sugar beets. The goal of the farmer is to minimize her total costs (where sales are considered as negative costs).'''"
   ]
  },
  {
   "cell_type": "markdown",
   "id": "472cf9ad",
   "metadata": {},
   "source": [
    "## 2. Generate the mathematical model"
   ]
  },
  {
   "cell_type": "code",
   "execution_count": 63,
   "id": "e31ec80c",
   "metadata": {},
   "outputs": [],
   "source": [
    "#Initializing the session. To replicate, make sure the right credentials are saved in a PATH variable\n",
    "PROJECT_ID = \"llm4optproblems\"\n",
    "REGION = \"us-central1\"\n",
    "vertexai.init(project=PROJECT_ID, location=REGION)\n",
    "\n",
    "#Specifying the model\n",
    "generative_multimodal_model = GenerativeModel(\"gemini-1.5-pro-preview-0409\")\n",
    "\n",
    "#The propmt applied to all problems\n",
    "prompt = '''Please formulate a mathematical optimization model for this problem. Include parameters, decision variables, the objective function and the constraints in your answer.\n",
    "'''\n",
    "\n",
    "#Generate the response\n",
    "response = generative_multimodal_model.generate_content([prompt+problem])\n"
   ]
  },
  {
   "cell_type": "code",
   "execution_count": 69,
   "id": "f9adc567",
   "metadata": {},
   "outputs": [
    {
     "data": {
      "text/markdown": [
       "## Mathematical Optimization Model for Farmer's Crop Planning\n",
       "\n",
       "**Parameters:**\n",
       "\n",
       "* $A$: Total land available (500 acres)\n",
       "* $W_{demand}$: Wheat demand for cattle feed (200 T)\n",
       "* $C_{demand}$: Corn demand for cattle feed (240 T)\n",
       "* $S_{quota}$: Sugar beet quota (6000 T)\n",
       "* $Y_w$: Yield of wheat per acre (2.5 T/acre)\n",
       "* $Y_c$: Yield of corn per acre (3 T/acre)\n",
       "* $Y_s$: Yield of sugar beet per acre (20 T/acre)\n",
       "* $SP_w$: Selling price of wheat ($170/T)\n",
       "* $SP_c$: Selling price of corn ($150/T)\n",
       "* $SP_{s1}$: Selling price of sugar beet within quota ($36/T)\n",
       "* $SP_{s2}$: Selling price of sugar beet exceeding quota ($10/T)\n",
       "* $PP_w$: Purchase price of wheat ($170 * 1.4 = $238/T)\n",
       "* $PP_c$: Purchase price of corn ($150 * 1.4 = $210/T)\n",
       "* $PC_w$: Planting cost of wheat ($150/acre)\n",
       "* $PC_c$: Planting cost of corn ($230/acre)\n",
       "* $PC_s$: Planting cost of sugar beet ($260/acre)\n",
       "\n",
       "**Decision Variables:**\n",
       "\n",
       "* $A_w$: Acres of land allocated to wheat\n",
       "* $A_c$: Acres of land allocated to corn\n",
       "* $A_s$: Acres of land allocated to sugar beet\n",
       "* $W_{buy}$: Tons of wheat purchased\n",
       "* $C_{buy}$: Tons of corn purchased\n",
       "* $S_{sell1}$: Tons of sugar beet sold within quota\n",
       "* $S_{sell2}$: Tons of sugar beet sold exceeding quota\n",
       "\n",
       "**Objective Function:**\n",
       "\n",
       "Minimize total cost:\n",
       "\n",
       "$Minimize: PC_w * A_w + PC_c * A_c + PC_s * A_s + PP_w * W_{buy} + PP_c * C_{buy} - SP_w * (Y_w * A_w - W_{buy}) - SP_c * (Y_c * A_c - C_{buy}) - SP_{s1} * S_{sell1} - SP_{s2} * S_{sell2}$\n",
       "\n",
       "**Constraints:**\n",
       "\n",
       "1. **Land constraint:** $A_w + A_c + A_s \\le A$\n",
       "2. **Wheat production and purchase:** $Y_w * A_w + W_{buy} \\ge W_{demand}$\n",
       "3. **Corn production and purchase:** $Y_c * A_c + C_{buy} \\ge C_{demand}$\n",
       "4. **Sugar beet sales within quota:** $S_{sell1} \\le S_{quota}$\n",
       "5. **Sugar beet production and sales:** $Y_s * A_s = S_{sell1} + S_{sell2}$\n",
       "6. **Non-negativity:** \n",
       "   * $A_w, A_c, A_s \\ge 0$\n",
       "   * $W_{buy}, C_{buy}, S_{sell1}, S_{sell2} \\ge 0$ \n",
       "\n",
       "This model represents the farmer's problem, aiming to minimize her costs while meeting the demand for cattle feed and respecting the sugar beet quota. The farmer can use this model to find the optimal allocation of land for each crop and the optimal quantities of wheat and corn to purchase. \n"
      ],
      "text/plain": [
       "<IPython.core.display.Markdown object>"
      ]
     },
     "execution_count": 69,
     "metadata": {},
     "output_type": "execute_result"
    }
   ],
   "source": [
    "#Show the resopnse in a formatted way\n",
    "Markdown(response.text)"
   ]
  },
  {
   "cell_type": "markdown",
   "id": "75796979",
   "metadata": {},
   "source": [
    "## 3. Generate the pyomo code"
   ]
  },
  {
   "cell_type": "code",
   "execution_count": 65,
   "id": "aabea932",
   "metadata": {},
   "outputs": [],
   "source": [
    "#Second prompt gets the output of the previous step and generates the code\n",
    "prompt2 = \"Please write pyomo code for this mathematical problem. Use sample data where needed. Indicate where you use sample data. \\n\"\n",
    "prompt2 += response.text \n",
    "response2 = generative_multimodal_model.generate_content([prompt2])"
   ]
  },
  {
   "cell_type": "code",
   "execution_count": 70,
   "id": "fd2835af",
   "metadata": {
    "scrolled": false
   },
   "outputs": [
    {
     "data": {
      "text/markdown": [
       "```python\n",
       "import pyomo.environ as pyo\n",
       "\n",
       "# Define the model\n",
       "model = pyo.ConcreteModel()\n",
       "\n",
       "# Parameters\n",
       "model.A = pyo.Param(initialize=500)  # Total land available\n",
       "model.W_demand = pyo.Param(initialize=200)  # Wheat demand\n",
       "model.C_demand = pyo.Param(initialize=240)  # Corn demand\n",
       "model.S_quota = pyo.Param(initialize=6000)  # Sugar beet quota\n",
       "model.Y_w = pyo.Param(initialize=2.5)  # Wheat yield\n",
       "model.Y_c = pyo.Param(initialize=3)  # Corn yield\n",
       "model.Y_s = pyo.Param(initialize=20)  # Sugar beet yield\n",
       "model.SP_w = pyo.Param(initialize=170)  # Wheat selling price\n",
       "model.SP_c = pyo.Param(initialize=150)  # Corn selling price\n",
       "model.SP_s1 = pyo.Param(initialize=36)  # Sugar beet selling price within quota\n",
       "model.SP_s2 = pyo.Param(initialize=10)  # Sugar beet selling price exceeding quota\n",
       "model.PP_w = pyo.Param(initialize=238)  # Wheat purchase price\n",
       "model.PP_c = pyo.Param(initialize=210)  # Corn purchase price\n",
       "model.PC_w = pyo.Param(initialize=150)  # Wheat planting cost\n",
       "model.PC_c = pyo.Param(initialize=230)  # Corn planting cost\n",
       "model.PC_s = pyo.Param(initialize=260)  # Sugar beet planting cost\n",
       "\n",
       "# Decision Variables\n",
       "model.A_w = pyo.Var(domain=pyo.NonNegativeReals)  # Acres of land allocated to wheat\n",
       "model.A_c = pyo.Var(domain=pyo.NonNegativeReals)  # Acres of land allocated to corn\n",
       "model.A_s = pyo.Var(domain=pyo.NonNegativeReals)  # Acres of land allocated to sugar beet\n",
       "model.W_buy = pyo.Var(domain=pyo.NonNegativeReals)  # Tons of wheat purchased\n",
       "model.C_buy = pyo.Var(domain=pyo.NonNegativeReals)  # Tons of corn purchased\n",
       "model.S_sell1 = pyo.Var(domain=pyo.NonNegativeReals)  # Tons of sugar beet sold within quota\n",
       "model.S_sell2 = pyo.Var(domain=pyo.NonNegativeReals)  # Tons of sugar beet sold exceeding quota\n",
       "\n",
       "# Objective Function\n",
       "def objective_rule(model):\n",
       "    return model.PC_w * model.A_w + model.PC_c * model.A_c + model.PC_s * model.A_s + model.PP_w * model.W_buy + model.PP_c * model.C_buy - model.SP_w * (model.Y_w * model.A_w - model.W_buy) - model.SP_c * (model.Y_c * model.A_c - model.C_buy) - model.SP_s1 * model.S_sell1 - model.SP_s2 * model.S_sell2\n",
       "\n",
       "model.objective = pyo.Objective(rule=objective_rule, sense=pyo.minimize)\n",
       "\n",
       "# Constraints\n",
       "model.land_constraint = pyo.Constraint(expr=model.A_w + model.A_c + model.A_s <= model.A)\n",
       "model.wheat_constraint = pyo.Constraint(expr=model.Y_w * model.A_w + model.W_buy >= model.W_demand)\n",
       "model.corn_constraint = pyo.Constraint(expr=model.Y_c * model.A_c + model.C_buy >= model.C_demand)\n",
       "model.sugar_quota_constraint = pyo.Constraint(expr=model.S_sell1 <= model.S_quota)\n",
       "model.sugar_production_constraint = pyo.Constraint(expr=model.Y_s * model.A_s == model.S_sell1 + model.S_sell2)\n",
       "\n",
       "# Solve the model\n",
       "solver = pyo.SolverFactory('glpk')  # You can choose a different solver if you prefer\n",
       "solver.solve(model)\n",
       "\n",
       "# Print the results\n",
       "print(\"Optimal Solution:\")\n",
       "print(f\"Acres of wheat: {pyo.value(model.A_w)}\")\n",
       "print(f\"Acres of corn: {pyo.value(model.A_c)}\")\n",
       "print(f\"Acres of sugar beet: {pyo.value(model.A_s)}\")\n",
       "print(f\"Tons of wheat purchased: {pyo.value(model.W_buy)}\")\n",
       "print(f\"Tons of corn purchased: {pyo.value(model.C_buy)}\")\n",
       "print(f\"Tons of sugar beet sold within quota: {pyo.value(model.S_sell1)}\")\n",
       "print(f\"Tons of sugar beet sold exceeding quota: {pyo.value(model.S_sell2)}\")\n",
       "print(f\"Total cost: {pyo.value(model.objective)}\")\n",
       "```\n",
       "\n",
       "**Sample Data:**\n",
       "\n",
       "The sample data is defined within the code in the \"Parameters\" section. For example:\n",
       "\n",
       "```python\n",
       "model.A = pyo.Param(initialize=500)  # Total land available\n",
       "```\n",
       "\n",
       "This line sets the total land available (`model.A`) to 500 acres. You can modify these values to explore different scenarios. \n"
      ],
      "text/plain": [
       "<IPython.core.display.Markdown object>"
      ]
     },
     "execution_count": 70,
     "metadata": {},
     "output_type": "execute_result"
    }
   ],
   "source": [
    "#Showing the code in a formatted way\n",
    "Markdown(response2.text)"
   ]
  },
  {
   "cell_type": "markdown",
   "id": "b60756ae",
   "metadata": {},
   "source": [
    "## 4. Input problem data and try running the generated code"
   ]
  },
  {
   "cell_type": "code",
   "execution_count": 72,
   "id": "6d306df6",
   "metadata": {},
   "outputs": [
    {
     "name": "stdout",
     "output_type": "stream",
     "text": [
      "Optimal Solution:\n",
      "Acres of wheat: 120.0\n",
      "Acres of corn: 80.0\n",
      "Acres of sugar beet: 300.0\n",
      "Tons of wheat purchased: 0.0\n",
      "Tons of corn purchased: 0.0\n",
      "Tons of sugar beet sold within quota: 6000.0\n",
      "Tons of sugar beet sold exceeding quota: 0.0\n",
      "Total cost: -188600.0\n"
     ]
    }
   ],
   "source": [
    "import pyomo.environ as pyo\n",
    "\n",
    "# Define the model\n",
    "model = pyo.ConcreteModel()\n",
    "\n",
    "# Parameters\n",
    "model.A = pyo.Param(initialize=500)  # Total land available\n",
    "model.W_demand = pyo.Param(initialize=200)  # Wheat demand\n",
    "model.C_demand = pyo.Param(initialize=240)  # Corn demand\n",
    "model.S_quota = pyo.Param(initialize=6000)  # Sugar beet quota\n",
    "model.Y_w = pyo.Param(initialize=2.5)  # Wheat yield\n",
    "model.Y_c = pyo.Param(initialize=3)  # Corn yield\n",
    "model.Y_s = pyo.Param(initialize=20)  # Sugar beet yield\n",
    "model.SP_w = pyo.Param(initialize=170)  # Wheat selling price\n",
    "model.SP_c = pyo.Param(initialize=150)  # Corn selling price\n",
    "model.SP_s1 = pyo.Param(initialize=36)  # Sugar beet selling price within quota\n",
    "model.SP_s2 = pyo.Param(initialize=10)  # Sugar beet selling price exceeding quota\n",
    "model.PP_w = pyo.Param(initialize=238)  # Wheat purchase price\n",
    "model.PP_c = pyo.Param(initialize=210)  # Corn purchase price\n",
    "model.PC_w = pyo.Param(initialize=150)  # Wheat planting cost\n",
    "model.PC_c = pyo.Param(initialize=230)  # Corn planting cost\n",
    "model.PC_s = pyo.Param(initialize=260)  # Sugar beet planting cost\n",
    "\n",
    "# Decision Variables\n",
    "model.A_w = pyo.Var(domain=pyo.NonNegativeReals)  # Acres of land allocated to wheat\n",
    "model.A_c = pyo.Var(domain=pyo.NonNegativeReals)  # Acres of land allocated to corn\n",
    "model.A_s = pyo.Var(domain=pyo.NonNegativeReals)  # Acres of land allocated to sugar beet\n",
    "model.W_buy = pyo.Var(domain=pyo.NonNegativeReals)  # Tons of wheat purchased\n",
    "model.C_buy = pyo.Var(domain=pyo.NonNegativeReals)  # Tons of corn purchased\n",
    "model.S_sell1 = pyo.Var(domain=pyo.NonNegativeReals)  # Tons of sugar beet sold within quota\n",
    "model.S_sell2 = pyo.Var(domain=pyo.NonNegativeReals)  # Tons of sugar beet sold exceeding quota\n",
    "\n",
    "# Objective Function\n",
    "def objective_rule(model):\n",
    "    return model.PC_w * model.A_w + model.PC_c * model.A_c + model.PC_s * model.A_s + model.PP_w * model.W_buy + model.PP_c * model.C_buy - model.SP_w * (model.Y_w * model.A_w - model.W_buy) - model.SP_c * (model.Y_c * model.A_c - model.C_buy) - model.SP_s1 * model.S_sell1 - model.SP_s2 * model.S_sell2\n",
    "\n",
    "model.objective = pyo.Objective(rule=objective_rule, sense=pyo.minimize)\n",
    "\n",
    "# Constraints\n",
    "model.land_constraint = pyo.Constraint(expr=model.A_w + model.A_c + model.A_s <= model.A)\n",
    "model.wheat_constraint = pyo.Constraint(expr=model.Y_w * model.A_w + model.W_buy >= model.W_demand)\n",
    "model.corn_constraint = pyo.Constraint(expr=model.Y_c * model.A_c + model.C_buy >= model.C_demand)\n",
    "model.sugar_quota_constraint = pyo.Constraint(expr=model.S_sell1 <= model.S_quota)\n",
    "model.sugar_production_constraint = pyo.Constraint(expr=model.Y_s * model.A_s == model.S_sell1 + model.S_sell2)\n",
    "\n",
    "# Solve the model\n",
    "solver = pyo.SolverFactory('glpk')  # You can choose a different solver if you prefer\n",
    "solver.solve(model)\n",
    "\n",
    "# Print the results\n",
    "print(\"Optimal Solution:\")\n",
    "print(f\"Acres of wheat: {pyo.value(model.A_w)}\")\n",
    "print(f\"Acres of corn: {pyo.value(model.A_c)}\")\n",
    "print(f\"Acres of sugar beet: {pyo.value(model.A_s)}\")\n",
    "print(f\"Tons of wheat purchased: {pyo.value(model.W_buy)}\")\n",
    "print(f\"Tons of corn purchased: {pyo.value(model.C_buy)}\")\n",
    "print(f\"Tons of sugar beet sold within quota: {pyo.value(model.S_sell1)}\")\n",
    "print(f\"Tons of sugar beet sold exceeding quota: {pyo.value(model.S_sell2)}\")\n",
    "print(f\"Total cost: {pyo.value(model.objective)}\")"
   ]
  },
  {
   "cell_type": "markdown",
   "id": "1be0926e",
   "metadata": {},
   "source": [
    "## 5. Correct the code to verify model viability (optional)"
   ]
  },
  {
   "cell_type": "code",
   "execution_count": null,
   "id": "8b37acfc",
   "metadata": {
    "scrolled": false
   },
   "outputs": [],
   "source": []
  },
  {
   "cell_type": "markdown",
   "id": "6f93868f",
   "metadata": {},
   "source": [
    "## 6. Printing the outputs as strings, so they can be saved.\n",
    "Those can be rendered as markdown for better readability"
   ]
  },
  {
   "cell_type": "code",
   "execution_count": 73,
   "id": "e904cf68",
   "metadata": {},
   "outputs": [
    {
     "name": "stdout",
     "output_type": "stream",
     "text": [
      "## Mathematical Optimization Model for Farmer's Crop Planning\n",
      "\n",
      "**Parameters:**\n",
      "\n",
      "* $A$: Total land available (500 acres)\n",
      "* $W_{demand}$: Wheat demand for cattle feed (200 T)\n",
      "* $C_{demand}$: Corn demand for cattle feed (240 T)\n",
      "* $S_{quota}$: Sugar beet quota (6000 T)\n",
      "* $Y_w$: Yield of wheat per acre (2.5 T/acre)\n",
      "* $Y_c$: Yield of corn per acre (3 T/acre)\n",
      "* $Y_s$: Yield of sugar beet per acre (20 T/acre)\n",
      "* $SP_w$: Selling price of wheat ($170/T)\n",
      "* $SP_c$: Selling price of corn ($150/T)\n",
      "* $SP_{s1}$: Selling price of sugar beet within quota ($36/T)\n",
      "* $SP_{s2}$: Selling price of sugar beet exceeding quota ($10/T)\n",
      "* $PP_w$: Purchase price of wheat ($170 * 1.4 = $238/T)\n",
      "* $PP_c$: Purchase price of corn ($150 * 1.4 = $210/T)\n",
      "* $PC_w$: Planting cost of wheat ($150/acre)\n",
      "* $PC_c$: Planting cost of corn ($230/acre)\n",
      "* $PC_s$: Planting cost of sugar beet ($260/acre)\n",
      "\n",
      "**Decision Variables:**\n",
      "\n",
      "* $A_w$: Acres of land allocated to wheat\n",
      "* $A_c$: Acres of land allocated to corn\n",
      "* $A_s$: Acres of land allocated to sugar beet\n",
      "* $W_{buy}$: Tons of wheat purchased\n",
      "* $C_{buy}$: Tons of corn purchased\n",
      "* $S_{sell1}$: Tons of sugar beet sold within quota\n",
      "* $S_{sell2}$: Tons of sugar beet sold exceeding quota\n",
      "\n",
      "**Objective Function:**\n",
      "\n",
      "Minimize total cost:\n",
      "\n",
      "$Minimize: PC_w * A_w + PC_c * A_c + PC_s * A_s + PP_w * W_{buy} + PP_c * C_{buy} - SP_w * (Y_w * A_w - W_{buy}) - SP_c * (Y_c * A_c - C_{buy}) - SP_{s1} * S_{sell1} - SP_{s2} * S_{sell2}$\n",
      "\n",
      "**Constraints:**\n",
      "\n",
      "1. **Land constraint:** $A_w + A_c + A_s \\le A$\n",
      "2. **Wheat production and purchase:** $Y_w * A_w + W_{buy} \\ge W_{demand}$\n",
      "3. **Corn production and purchase:** $Y_c * A_c + C_{buy} \\ge C_{demand}$\n",
      "4. **Sugar beet sales within quota:** $S_{sell1} \\le S_{quota}$\n",
      "5. **Sugar beet production and sales:** $Y_s * A_s = S_{sell1} + S_{sell2}$\n",
      "6. **Non-negativity:** \n",
      "   * $A_w, A_c, A_s \\ge 0$\n",
      "   * $W_{buy}, C_{buy}, S_{sell1}, S_{sell2} \\ge 0$ \n",
      "\n",
      "This model represents the farmer's problem, aiming to minimize her costs while meeting the demand for cattle feed and respecting the sugar beet quota. The farmer can use this model to find the optimal allocation of land for each crop and the optimal quantities of wheat and corn to purchase. \n",
      "\n"
     ]
    }
   ],
   "source": [
    "print(response.text)"
   ]
  },
  {
   "cell_type": "code",
   "execution_count": 74,
   "id": "859eaf28",
   "metadata": {
    "scrolled": false
   },
   "outputs": [
    {
     "name": "stdout",
     "output_type": "stream",
     "text": [
      "```python\n",
      "import pyomo.environ as pyo\n",
      "\n",
      "# Define the model\n",
      "model = pyo.ConcreteModel()\n",
      "\n",
      "# Parameters\n",
      "model.A = pyo.Param(initialize=500)  # Total land available\n",
      "model.W_demand = pyo.Param(initialize=200)  # Wheat demand\n",
      "model.C_demand = pyo.Param(initialize=240)  # Corn demand\n",
      "model.S_quota = pyo.Param(initialize=6000)  # Sugar beet quota\n",
      "model.Y_w = pyo.Param(initialize=2.5)  # Wheat yield\n",
      "model.Y_c = pyo.Param(initialize=3)  # Corn yield\n",
      "model.Y_s = pyo.Param(initialize=20)  # Sugar beet yield\n",
      "model.SP_w = pyo.Param(initialize=170)  # Wheat selling price\n",
      "model.SP_c = pyo.Param(initialize=150)  # Corn selling price\n",
      "model.SP_s1 = pyo.Param(initialize=36)  # Sugar beet selling price within quota\n",
      "model.SP_s2 = pyo.Param(initialize=10)  # Sugar beet selling price exceeding quota\n",
      "model.PP_w = pyo.Param(initialize=238)  # Wheat purchase price\n",
      "model.PP_c = pyo.Param(initialize=210)  # Corn purchase price\n",
      "model.PC_w = pyo.Param(initialize=150)  # Wheat planting cost\n",
      "model.PC_c = pyo.Param(initialize=230)  # Corn planting cost\n",
      "model.PC_s = pyo.Param(initialize=260)  # Sugar beet planting cost\n",
      "\n",
      "# Decision Variables\n",
      "model.A_w = pyo.Var(domain=pyo.NonNegativeReals)  # Acres of land allocated to wheat\n",
      "model.A_c = pyo.Var(domain=pyo.NonNegativeReals)  # Acres of land allocated to corn\n",
      "model.A_s = pyo.Var(domain=pyo.NonNegativeReals)  # Acres of land allocated to sugar beet\n",
      "model.W_buy = pyo.Var(domain=pyo.NonNegativeReals)  # Tons of wheat purchased\n",
      "model.C_buy = pyo.Var(domain=pyo.NonNegativeReals)  # Tons of corn purchased\n",
      "model.S_sell1 = pyo.Var(domain=pyo.NonNegativeReals)  # Tons of sugar beet sold within quota\n",
      "model.S_sell2 = pyo.Var(domain=pyo.NonNegativeReals)  # Tons of sugar beet sold exceeding quota\n",
      "\n",
      "# Objective Function\n",
      "def objective_rule(model):\n",
      "    return model.PC_w * model.A_w + model.PC_c * model.A_c + model.PC_s * model.A_s + model.PP_w * model.W_buy + model.PP_c * model.C_buy - model.SP_w * (model.Y_w * model.A_w - model.W_buy) - model.SP_c * (model.Y_c * model.A_c - model.C_buy) - model.SP_s1 * model.S_sell1 - model.SP_s2 * model.S_sell2\n",
      "\n",
      "model.objective = pyo.Objective(rule=objective_rule, sense=pyo.minimize)\n",
      "\n",
      "# Constraints\n",
      "model.land_constraint = pyo.Constraint(expr=model.A_w + model.A_c + model.A_s <= model.A)\n",
      "model.wheat_constraint = pyo.Constraint(expr=model.Y_w * model.A_w + model.W_buy >= model.W_demand)\n",
      "model.corn_constraint = pyo.Constraint(expr=model.Y_c * model.A_c + model.C_buy >= model.C_demand)\n",
      "model.sugar_quota_constraint = pyo.Constraint(expr=model.S_sell1 <= model.S_quota)\n",
      "model.sugar_production_constraint = pyo.Constraint(expr=model.Y_s * model.A_s == model.S_sell1 + model.S_sell2)\n",
      "\n",
      "# Solve the model\n",
      "solver = pyo.SolverFactory('glpk')  # You can choose a different solver if you prefer\n",
      "solver.solve(model)\n",
      "\n",
      "# Print the results\n",
      "print(\"Optimal Solution:\")\n",
      "print(f\"Acres of wheat: {pyo.value(model.A_w)}\")\n",
      "print(f\"Acres of corn: {pyo.value(model.A_c)}\")\n",
      "print(f\"Acres of sugar beet: {pyo.value(model.A_s)}\")\n",
      "print(f\"Tons of wheat purchased: {pyo.value(model.W_buy)}\")\n",
      "print(f\"Tons of corn purchased: {pyo.value(model.C_buy)}\")\n",
      "print(f\"Tons of sugar beet sold within quota: {pyo.value(model.S_sell1)}\")\n",
      "print(f\"Tons of sugar beet sold exceeding quota: {pyo.value(model.S_sell2)}\")\n",
      "print(f\"Total cost: {pyo.value(model.objective)}\")\n",
      "```\n",
      "\n",
      "**Sample Data:**\n",
      "\n",
      "The sample data is defined within the code in the \"Parameters\" section. For example:\n",
      "\n",
      "```python\n",
      "model.A = pyo.Param(initialize=500)  # Total land available\n",
      "```\n",
      "\n",
      "This line sets the total land available (`model.A`) to 500 acres. You can modify these values to explore different scenarios. \n",
      "\n"
     ]
    }
   ],
   "source": [
    "print(response2.text)"
   ]
  }
 ],
 "metadata": {
  "kernelspec": {
   "display_name": "Python 3 (ipykernel)",
   "language": "python",
   "name": "python3"
  },
  "language_info": {
   "codemirror_mode": {
    "name": "ipython",
    "version": 3
   },
   "file_extension": ".py",
   "mimetype": "text/x-python",
   "name": "python",
   "nbconvert_exporter": "python",
   "pygments_lexer": "ipython3",
   "version": "3.11.4"
  }
 },
 "nbformat": 4,
 "nbformat_minor": 5
}
