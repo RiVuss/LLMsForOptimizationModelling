{
 "cells": [
  {
   "cell_type": "markdown",
   "id": "0df7edfd",
   "metadata": {},
   "source": [
    "# LLM Optimization Modelling Experiment"
   ]
  },
  {
   "cell_type": "code",
   "execution_count": 156,
   "id": "7f664028",
   "metadata": {},
   "outputs": [],
   "source": [
    "import vertexai\n",
    "from vertexai.preview.generative_models import GenerativeModel\n",
    "from IPython.display import Markdown"
   ]
  },
  {
   "cell_type": "markdown",
   "id": "c106f1be",
   "metadata": {},
   "source": [
    "## 1. Define the problem description"
   ]
  },
  {
   "cell_type": "code",
   "execution_count": 635,
   "id": "9adce4b2",
   "metadata": {},
   "outputs": [],
   "source": [
    "problem = '''Consider a farmer who specializes in raising wheat, corn, and sugar beets on her 500 acres of land. During the winter, she wants to decide how much land to devote to each crop.\n",
    "\n",
    "The farmer knows that at least 200 tons (T) of wheat and 240 T of corn are needed for cattle feed. These amounts can be raised on the farm or bought from a wholesaler.\n",
    "Any production in excess of the feeding requirement would be sold.\n",
    "\n",
    "Over the last decade, mean selling prices have been $170 and $150 per ton of wheat and corn, respectively.\n",
    "The purchase prices are 40% more than this due to the wholesaler’s margin and transportation costs.\n",
    "\n",
    "Another profitable crop is sugar beet, which she expects to sell at $36/T. However, the European Commission imposes a quota on sugar beet production. Any amount in excess of the quota can be sold only at $10/T. The farmer’s quota for next year is 6000 T.\n",
    "\n",
    "Based on past experience, the farmer knows that the mean yield on her land is roughly 2.5 T, 3 T, and 20 T per acre for wheat, corn, and sugar beets, respectively. It costs $150 to plant an acre of wheat, $230 to pant an acre of corn and $260 to plant an acre of sugar beets. \n",
    "\n",
    "The farmer can decide how much of her land she will use to grow each of the three products: wheat, corn and sugar beets. The goal of the farmer is to minimize her total costs (where sales are considered as negative costs).'''"
   ]
  },
  {
   "cell_type": "markdown",
   "id": "063be1a3",
   "metadata": {},
   "source": [
    "## 2. Generate the mathematical model"
   ]
  },
  {
   "cell_type": "code",
   "execution_count": 641,
   "id": "e31ec80c",
   "metadata": {},
   "outputs": [],
   "source": [
    "#Initializing the session. To replicate, make sure the right credentials are saved in a PATH variable\n",
    "PROJECT_ID = \"llm4optproblems\"\n",
    "REGION = \"us-central1\"\n",
    "vertexai.init(project=PROJECT_ID, location=REGION)\n",
    "\n",
    "#Specifying the model\n",
    "generative_multimodal_model = GenerativeModel(\"gemini-1.5-pro-preview-0409\")\n",
    "\n",
    "#The propmt applied to all problems\n",
    "prompt = '''Let's think step by step. Please write a mathematical optimization model for this problem. If there are parameter values, make sure to include them in the mathematical formulation.\n",
    "'''\n",
    "\n",
    "#Generate the response\n",
    "response = generative_multimodal_model.generate_content([prompt+problem])\n"
   ]
  },
  {
   "cell_type": "code",
   "execution_count": 642,
   "id": "f9adc567",
   "metadata": {},
   "outputs": [
    {
     "data": {
      "text/markdown": [
       "## Mathematical Optimization Model for the Farmer's Problem\n",
       "\n",
       "**Sets:**\n",
       "\n",
       "* I = {Wheat, Corn, Sugar beet}: Set of crops\n",
       "\n",
       "**Parameters:**\n",
       "\n",
       "* A = 500: Total acres of land available\n",
       "* D<sub>wheat</sub> = 200: Demand for wheat for cattle feed (tons)\n",
       "* D<sub>corn</sub> = 240: Demand for corn for cattle feed (tons)\n",
       "* SP<sub>wheat</sub> = 170: Selling price per ton of wheat ($)\n",
       "* SP<sub>corn</sub> = 150: Selling price per ton of corn ($)\n",
       "* SP<sub>sugar beet</sub> = 36: Selling price per ton of sugar beet within quota ($)\n",
       "* SP<sub>sugar beet excess</sub> = 10: Selling price per ton of sugar beet exceeding quota ($)\n",
       "* PP<sub>wheat</sub> = 170 * 1.4 = 238: Purchase price per ton of wheat ($)\n",
       "* PP<sub>corn</sub> = 150 * 1.4 = 210: Purchase price per ton of corn ($)\n",
       "* Q<sub>sugar beet</sub> = 6000: Quota for sugar beet production (tons)\n",
       "* Y<sub>wheat</sub> = 2.5: Yield of wheat per acre (tons/acre)\n",
       "* Y<sub>corn</sub> = 3: Yield of corn per acre (tons/acre)\n",
       "* Y<sub>sugar beet</sub> = 20: Yield of sugar beet per acre (tons/acre)\n",
       "* C<sub>wheat</sub> = 150: Planting cost per acre of wheat ($)\n",
       "* C<sub>corn</sub> = 230: Planting cost per acre of corn ($)\n",
       "* C<sub>sugar beet</sub> = 260: Planting cost per acre of sugar beet ($)\n",
       "\n",
       "**Decision Variables:**\n",
       "\n",
       "* X<sub>i</sub>: Acres of land devoted to crop i ∈ I\n",
       "* P<sub>i</sub>: Tons of crop i ∈ I purchased \n",
       "* S<sub>i</sub>: Tons of crop i ∈ I sold within quota\n",
       "* S<sub>excess</sub>: Tons of sugar beet sold exceeding quota\n",
       "\n",
       "**Objective Function:** Minimize total cost\n",
       "\n",
       "```\n",
       "Minimize: Σ<sub>i∈I</sub> (C<sub>i</sub> * X<sub>i</sub> + PP<sub>i</sub> * P<sub>i</sub> - SP<sub>i</sub> * S<sub>i</sub>) - SP<sub>sugar beet excess</sub> * S<sub>excess</sub> \n",
       "```\n",
       "\n",
       "**Constraints:**\n",
       "\n",
       "1. **Land availability:**\n",
       "   ```\n",
       "   Σ<sub>i∈I</sub> X<sub>i</sub> ≤ A\n",
       "   ```\n",
       "2. **Production and purchase to meet demand:**\n",
       "   ```\n",
       "   Y<sub>wheat</sub> * X<sub>wheat</sub> + P<sub>wheat</sub> ≥ D<sub>wheat</sub>\n",
       "   Y<sub>corn</sub> * X<sub>corn</sub> + P<sub>corn</sub> ≥ D<sub>corn</sub>\n",
       "   ```\n",
       "3. **Sales cannot exceed production and purchase:**\n",
       "   ```\n",
       "   S<sub>wheat</sub> ≤ Y<sub>wheat</sub> * X<sub>wheat</sub> + P<sub>wheat</sub> - D<sub>wheat</sub>\n",
       "   S<sub>corn</sub> ≤ Y<sub>corn</sub> * X<sub>corn</sub> + P<sub>corn</sub> - D<sub>corn</sub>\n",
       "   S<sub>sugar beet</sub> ≤ Y<sub>sugar beet</sub> * X<sub>sugar beet</sub>\n",
       "   ```\n",
       "4. **Sugar beet quota:**\n",
       "   ```\n",
       "   S<sub>sugar beet</sub> ≤ Q<sub>sugar beet</sub>\n",
       "   ```\n",
       "5. **Excess sugar beet sales:**\n",
       "   ```\n",
       "   S<sub>excess</sub> = Y<sub>sugar beet</sub> * X<sub>sugar beet</sub> - S<sub>sugar beet</sub>\n",
       "   ```\n",
       "6. **Non-negativity:**\n",
       "   ```\n",
       "   X<sub>i</sub>, P<sub>i</sub>, S<sub>i</sub>, S<sub>excess</sub> ≥ 0, ∀ i ∈ I\n",
       "   ```\n",
       "\n",
       "This model allows the farmer to determine the optimal allocation of land for each crop, considering the costs of planting, buying, and selling, as well as the production yield and demand for each product. The objective is to minimize the total cost while meeting the demand for cattle feed and respecting the sugar beet production quota. \n"
      ],
      "text/plain": [
       "<IPython.core.display.Markdown object>"
      ]
     },
     "execution_count": 642,
     "metadata": {},
     "output_type": "execute_result"
    }
   ],
   "source": [
    "#Show the resopnse in a formatted way\n",
    "Markdown(response.text)"
   ]
  },
  {
   "cell_type": "markdown",
   "id": "49104a9a",
   "metadata": {},
   "source": [
    "## 3. Generate the pyomo code"
   ]
  },
  {
   "cell_type": "code",
   "execution_count": 643,
   "id": "aabea932",
   "metadata": {},
   "outputs": [],
   "source": [
    "#Second prompt gets the output of the previous step and generates the code\n",
    "prompt2 = \"Please write pyomo code for this mathematical problem. Use sample data where needed. Indicate where you use sample data. \\n\"\n",
    "prompt2 += response.text \n",
    "response2 = generative_multimodal_model.generate_content([prompt2])"
   ]
  },
  {
   "cell_type": "code",
   "execution_count": 644,
   "id": "fd2835af",
   "metadata": {
    "scrolled": false
   },
   "outputs": [
    {
     "data": {
      "text/markdown": [
       "```python\n",
       "import pyomo.environ as pyo\n",
       "\n",
       "# Define sets\n",
       "I = ['Wheat', 'Corn', 'Sugar beet']\n",
       "\n",
       "# Define parameters\n",
       "A = 500\n",
       "D = {'Wheat': 200, 'Corn': 240, 'Sugar beet': 0} # Note: We assume no demand for sugar beet itself, only selling \n",
       "SP = {'Wheat': 170, 'Corn': 150, 'Sugar beet': 36, 'Sugar beet excess': 10}\n",
       "PP = {'Wheat': 238, 'Corn': 210, 'Sugar beet': 0} # Note: Assuming no purchasing of sugar beet\n",
       "Q = {'Sugar beet': 6000}\n",
       "Y = {'Wheat': 2.5, 'Corn': 3, 'Sugar beet': 20}\n",
       "C = {'Wheat': 150, 'Corn': 230, 'Sugar beet': 260}\n",
       "\n",
       "# Create model\n",
       "model = pyo.ConcreteModel()\n",
       "\n",
       "# Define variables\n",
       "model.X = pyo.Var(I, domain=pyo.NonNegativeReals) # Acres of land devoted to each crop\n",
       "model.P = pyo.Var(I, domain=pyo.NonNegativeReals) # Tons of each crop purchased\n",
       "model.S = pyo.Var(I, domain=pyo.NonNegativeReals) # Tons of each crop sold within quota\n",
       "model.S_excess = pyo.Var(domain=pyo.NonNegativeReals) # Tons of sugar beet sold exceeding quota\n",
       "\n",
       "# Define objective function\n",
       "def objective_rule(model):\n",
       "  return sum(C[i] * model.X[i] + PP[i] * model.P[i] - SP[i] * model.S[i] for i in I) - SP['Sugar beet excess'] * model.S_excess\n",
       "model.objective = pyo.Objective(rule=objective_rule, sense=pyo.minimize)\n",
       "\n",
       "# Define constraints\n",
       "model.land_availability = pyo.Constraint(expr=sum(model.X[i] for i in I) <= A)\n",
       "\n",
       "model.demand_wheat = pyo.Constraint(expr=Y['Wheat'] * model.X['Wheat'] + model.P['Wheat'] >= D['Wheat'])\n",
       "model.demand_corn = pyo.Constraint(expr=Y['Corn'] * model.X['Corn'] + model.P['Corn'] >= D['Corn'])\n",
       "\n",
       "model.sales_wheat = pyo.Constraint(expr=model.S['Wheat'] <= Y['Wheat'] * model.X['Wheat'] + model.P['Wheat'] - D['Wheat'])\n",
       "model.sales_corn = pyo.Constraint(expr=model.S['Corn'] <= Y['Corn'] * model.X['Corn'] + model.P['Corn'] - D['Corn'])\n",
       "model.sales_sugar_beet = pyo.Constraint(expr=model.S['Sugar beet'] <= Y['Sugar beet'] * model.X['Sugar beet'])\n",
       "\n",
       "model.quota_sugar_beet = pyo.Constraint(expr=model.S['Sugar beet'] <= Q['Sugar beet'])\n",
       "\n",
       "model.excess_sugar_beet = pyo.Constraint(expr=model.S_excess == Y['Sugar beet'] * model.X['Sugar beet'] - model.S['Sugar beet'])\n",
       "\n",
       "# Solve the model\n",
       "solver = pyo.SolverFactory('glpk') # You can choose a different solver if you prefer\n",
       "solver.solve(model)\n",
       "\n",
       "# Print results\n",
       "print(\"Optimal solution:\")\n",
       "print(f\"Objective value: ${model.objective():.2f}\")\n",
       "for i in I:\n",
       "  print(f\"Acres of {i}: {model.X[i]():.2f}\")\n",
       "  print(f\"Tons of {i} purchased: {model.P[i]():.2f}\")\n",
       "  print(f\"Tons of {i} sold: {model.S[i]():.2f}\")\n",
       "print(f\"Tons of sugar beet sold exceeding quota: {model.S_excess():.2f}\")\n",
       "```\n",
       "\n",
       "This code defines the sets, parameters, variables, objective function, and constraints of the mathematical optimization model for the farmer's problem. It then uses the Pyomo library to solve the model and print the optimal solution. This includes the optimal land allocation for each crop, the amount of each crop purchased and sold, and the amount of sugar beet sold exceeding the quota.\n"
      ],
      "text/plain": [
       "<IPython.core.display.Markdown object>"
      ]
     },
     "execution_count": 644,
     "metadata": {},
     "output_type": "execute_result"
    }
   ],
   "source": [
    "#Showing the code in a formatted way\n",
    "Markdown(response2.text)"
   ]
  },
  {
   "cell_type": "markdown",
   "id": "b60756ae",
   "metadata": {},
   "source": [
    "## 4. Input problem data and try running the generated code"
   ]
  },
  {
   "cell_type": "code",
   "execution_count": 648,
   "id": "61acd2b6",
   "metadata": {},
   "outputs": [
    {
     "name": "stdout",
     "output_type": "stream",
     "text": [
      "Optimal solution:\n",
      "Objective value: $-118600.00\n",
      "Acres of Wheat: 120.00\n",
      "Tons of Wheat purchased: 0.00\n",
      "Tons of Wheat sold: 100.00\n",
      "Acres of Corn: 80.00\n",
      "Tons of Corn purchased: 0.00\n",
      "Tons of Corn sold: 0.00\n",
      "Acres of Sugar beet: 300.00\n",
      "Tons of Sugar beet purchased: 0.00\n",
      "Tons of Sugar beet sold: 6000.00\n",
      "Tons of sugar beet sold exceeding quota: 0.00\n"
     ]
    }
   ],
   "source": [
    "import pyomo.environ as pyo\n",
    "\n",
    "# Define sets\n",
    "I = ['Wheat', 'Corn', 'Sugar beet']\n",
    "\n",
    "# Define parameters\n",
    "A = 500\n",
    "D = {'Wheat': 200, 'Corn': 240, 'Sugar beet': 0} # Note: We assume no demand for sugar beet itself, only selling \n",
    "SP = {'Wheat': 170, 'Corn': 150, 'Sugar beet': 36, 'Sugar beet excess': 10}\n",
    "PP = {'Wheat': 238, 'Corn': 210, 'Sugar beet': 0} # Note: Assuming no purchasing of sugar beet\n",
    "Q = {'Sugar beet': 6000}\n",
    "Y = {'Wheat': 2.5, 'Corn': 3, 'Sugar beet': 20}\n",
    "C = {'Wheat': 150, 'Corn': 230, 'Sugar beet': 260}\n",
    "\n",
    "# Create model\n",
    "model = pyo.ConcreteModel()\n",
    "\n",
    "# Define variables\n",
    "model.X = pyo.Var(I, domain=pyo.NonNegativeReals) # Acres of land devoted to each crop\n",
    "model.P = pyo.Var(I, domain=pyo.NonNegativeReals, initialize=0) # Tons of each crop purchased\n",
    "model.S = pyo.Var(I, domain=pyo.NonNegativeReals) # Tons of each crop sold within quota\n",
    "model.S_excess = pyo.Var(domain=pyo.NonNegativeReals) # Tons of sugar beet sold exceeding quota\n",
    "\n",
    "# Define objective function\n",
    "def objective_rule(model):\n",
    "    return sum(C[i] * model.X[i] + PP[i] * model.P[i] - SP[i] * model.S[i] for i in I) - SP['Sugar beet excess'] * model.S_excess\n",
    "model.objective = pyo.Objective(rule=objective_rule, sense=pyo.minimize)\n",
    "\n",
    "# Define constraints\n",
    "model.land_availability = pyo.Constraint(expr=sum(model.X[i] for i in I) <= A)\n",
    "\n",
    "model.demand_wheat = pyo.Constraint(expr=Y['Wheat'] * model.X['Wheat'] + model.P['Wheat'] >= D['Wheat'])\n",
    "model.demand_corn = pyo.Constraint(expr=Y['Corn'] * model.X['Corn'] + model.P['Corn'] >= D['Corn'])\n",
    "\n",
    "model.sales_wheat = pyo.Constraint(expr=model.S['Wheat'] <= Y['Wheat'] * model.X['Wheat'] + model.P['Wheat'] - D['Wheat'])\n",
    "model.sales_corn = pyo.Constraint(expr=model.S['Corn'] <= Y['Corn'] * model.X['Corn'] + model.P['Corn'] - D['Corn'])\n",
    "model.sales_sugar_beet = pyo.Constraint(expr=model.S['Sugar beet'] <= Y['Sugar beet'] * model.X['Sugar beet'])\n",
    "\n",
    "model.quota_sugar_beet = pyo.Constraint(expr=model.S['Sugar beet'] <= Q['Sugar beet'])\n",
    "\n",
    "model.excess_sugar_beet = pyo.Constraint(expr=model.S_excess == Y['Sugar beet'] * model.X['Sugar beet'] - model.S['Sugar beet'])\n",
    "\n",
    "# Solve the model\n",
    "solver = pyo.SolverFactory('glpk') # You can choose a different solver if you prefer\n",
    "solver.solve(model)\n",
    "\n",
    "# Print results\n",
    "print(\"Optimal solution:\")\n",
    "print(f\"Objective value: ${model.objective():.2f}\")\n",
    "for i in I:\n",
    "    print(f\"Acres of {i}: {model.X[i]():.2f}\")\n",
    "    print(f\"Tons of {i} purchased: {model.P[i]():.2f}\")\n",
    "    print(f\"Tons of {i} sold: {model.S[i]():.2f}\")\n",
    "print(f\"Tons of sugar beet sold exceeding quota: {model.S_excess():.2f}\")"
   ]
  },
  {
   "cell_type": "markdown",
   "id": "8f10340f",
   "metadata": {},
   "source": [
    "## 5. Correct the code to verify model viability (optional)"
   ]
  },
  {
   "cell_type": "code",
   "execution_count": null,
   "id": "07aace38",
   "metadata": {},
   "outputs": [],
   "source": []
  },
  {
   "cell_type": "markdown",
   "id": "03525f23",
   "metadata": {},
   "source": [
    "## 6. Printing the outputs as strings, so they can be saved.\n",
    "Those can be rendered as markdown for better readability"
   ]
  },
  {
   "cell_type": "code",
   "execution_count": 649,
   "id": "9d832f4d",
   "metadata": {},
   "outputs": [
    {
     "name": "stdout",
     "output_type": "stream",
     "text": [
      "## Mathematical Optimization Model for the Farmer's Problem\n",
      "\n",
      "**Sets:**\n",
      "\n",
      "* I = {Wheat, Corn, Sugar beet}: Set of crops\n",
      "\n",
      "**Parameters:**\n",
      "\n",
      "* A = 500: Total acres of land available\n",
      "* D<sub>wheat</sub> = 200: Demand for wheat for cattle feed (tons)\n",
      "* D<sub>corn</sub> = 240: Demand for corn for cattle feed (tons)\n",
      "* SP<sub>wheat</sub> = 170: Selling price per ton of wheat ($)\n",
      "* SP<sub>corn</sub> = 150: Selling price per ton of corn ($)\n",
      "* SP<sub>sugar beet</sub> = 36: Selling price per ton of sugar beet within quota ($)\n",
      "* SP<sub>sugar beet excess</sub> = 10: Selling price per ton of sugar beet exceeding quota ($)\n",
      "* PP<sub>wheat</sub> = 170 * 1.4 = 238: Purchase price per ton of wheat ($)\n",
      "* PP<sub>corn</sub> = 150 * 1.4 = 210: Purchase price per ton of corn ($)\n",
      "* Q<sub>sugar beet</sub> = 6000: Quota for sugar beet production (tons)\n",
      "* Y<sub>wheat</sub> = 2.5: Yield of wheat per acre (tons/acre)\n",
      "* Y<sub>corn</sub> = 3: Yield of corn per acre (tons/acre)\n",
      "* Y<sub>sugar beet</sub> = 20: Yield of sugar beet per acre (tons/acre)\n",
      "* C<sub>wheat</sub> = 150: Planting cost per acre of wheat ($)\n",
      "* C<sub>corn</sub> = 230: Planting cost per acre of corn ($)\n",
      "* C<sub>sugar beet</sub> = 260: Planting cost per acre of sugar beet ($)\n",
      "\n",
      "**Decision Variables:**\n",
      "\n",
      "* X<sub>i</sub>: Acres of land devoted to crop i ∈ I\n",
      "* P<sub>i</sub>: Tons of crop i ∈ I purchased \n",
      "* S<sub>i</sub>: Tons of crop i ∈ I sold within quota\n",
      "* S<sub>excess</sub>: Tons of sugar beet sold exceeding quota\n",
      "\n",
      "**Objective Function:** Minimize total cost\n",
      "\n",
      "```\n",
      "Minimize: Σ<sub>i∈I</sub> (C<sub>i</sub> * X<sub>i</sub> + PP<sub>i</sub> * P<sub>i</sub> - SP<sub>i</sub> * S<sub>i</sub>) - SP<sub>sugar beet excess</sub> * S<sub>excess</sub> \n",
      "```\n",
      "\n",
      "**Constraints:**\n",
      "\n",
      "1. **Land availability:**\n",
      "   ```\n",
      "   Σ<sub>i∈I</sub> X<sub>i</sub> ≤ A\n",
      "   ```\n",
      "2. **Production and purchase to meet demand:**\n",
      "   ```\n",
      "   Y<sub>wheat</sub> * X<sub>wheat</sub> + P<sub>wheat</sub> ≥ D<sub>wheat</sub>\n",
      "   Y<sub>corn</sub> * X<sub>corn</sub> + P<sub>corn</sub> ≥ D<sub>corn</sub>\n",
      "   ```\n",
      "3. **Sales cannot exceed production and purchase:**\n",
      "   ```\n",
      "   S<sub>wheat</sub> ≤ Y<sub>wheat</sub> * X<sub>wheat</sub> + P<sub>wheat</sub> - D<sub>wheat</sub>\n",
      "   S<sub>corn</sub> ≤ Y<sub>corn</sub> * X<sub>corn</sub> + P<sub>corn</sub> - D<sub>corn</sub>\n",
      "   S<sub>sugar beet</sub> ≤ Y<sub>sugar beet</sub> * X<sub>sugar beet</sub>\n",
      "   ```\n",
      "4. **Sugar beet quota:**\n",
      "   ```\n",
      "   S<sub>sugar beet</sub> ≤ Q<sub>sugar beet</sub>\n",
      "   ```\n",
      "5. **Excess sugar beet sales:**\n",
      "   ```\n",
      "   S<sub>excess</sub> = Y<sub>sugar beet</sub> * X<sub>sugar beet</sub> - S<sub>sugar beet</sub>\n",
      "   ```\n",
      "6. **Non-negativity:**\n",
      "   ```\n",
      "   X<sub>i</sub>, P<sub>i</sub>, S<sub>i</sub>, S<sub>excess</sub> ≥ 0, ∀ i ∈ I\n",
      "   ```\n",
      "\n",
      "This model allows the farmer to determine the optimal allocation of land for each crop, considering the costs of planting, buying, and selling, as well as the production yield and demand for each product. The objective is to minimize the total cost while meeting the demand for cattle feed and respecting the sugar beet production quota. \n",
      "\n"
     ]
    }
   ],
   "source": [
    "print(response.text)"
   ]
  },
  {
   "cell_type": "code",
   "execution_count": 650,
   "id": "57e86877",
   "metadata": {
    "scrolled": false
   },
   "outputs": [
    {
     "name": "stdout",
     "output_type": "stream",
     "text": [
      "```python\n",
      "import pyomo.environ as pyo\n",
      "\n",
      "# Define sets\n",
      "I = ['Wheat', 'Corn', 'Sugar beet']\n",
      "\n",
      "# Define parameters\n",
      "A = 500\n",
      "D = {'Wheat': 200, 'Corn': 240, 'Sugar beet': 0} # Note: We assume no demand for sugar beet itself, only selling \n",
      "SP = {'Wheat': 170, 'Corn': 150, 'Sugar beet': 36, 'Sugar beet excess': 10}\n",
      "PP = {'Wheat': 238, 'Corn': 210, 'Sugar beet': 0} # Note: Assuming no purchasing of sugar beet\n",
      "Q = {'Sugar beet': 6000}\n",
      "Y = {'Wheat': 2.5, 'Corn': 3, 'Sugar beet': 20}\n",
      "C = {'Wheat': 150, 'Corn': 230, 'Sugar beet': 260}\n",
      "\n",
      "# Create model\n",
      "model = pyo.ConcreteModel()\n",
      "\n",
      "# Define variables\n",
      "model.X = pyo.Var(I, domain=pyo.NonNegativeReals) # Acres of land devoted to each crop\n",
      "model.P = pyo.Var(I, domain=pyo.NonNegativeReals) # Tons of each crop purchased\n",
      "model.S = pyo.Var(I, domain=pyo.NonNegativeReals) # Tons of each crop sold within quota\n",
      "model.S_excess = pyo.Var(domain=pyo.NonNegativeReals) # Tons of sugar beet sold exceeding quota\n",
      "\n",
      "# Define objective function\n",
      "def objective_rule(model):\n",
      "  return sum(C[i] * model.X[i] + PP[i] * model.P[i] - SP[i] * model.S[i] for i in I) - SP['Sugar beet excess'] * model.S_excess\n",
      "model.objective = pyo.Objective(rule=objective_rule, sense=pyo.minimize)\n",
      "\n",
      "# Define constraints\n",
      "model.land_availability = pyo.Constraint(expr=sum(model.X[i] for i in I) <= A)\n",
      "\n",
      "model.demand_wheat = pyo.Constraint(expr=Y['Wheat'] * model.X['Wheat'] + model.P['Wheat'] >= D['Wheat'])\n",
      "model.demand_corn = pyo.Constraint(expr=Y['Corn'] * model.X['Corn'] + model.P['Corn'] >= D['Corn'])\n",
      "\n",
      "model.sales_wheat = pyo.Constraint(expr=model.S['Wheat'] <= Y['Wheat'] * model.X['Wheat'] + model.P['Wheat'] - D['Wheat'])\n",
      "model.sales_corn = pyo.Constraint(expr=model.S['Corn'] <= Y['Corn'] * model.X['Corn'] + model.P['Corn'] - D['Corn'])\n",
      "model.sales_sugar_beet = pyo.Constraint(expr=model.S['Sugar beet'] <= Y['Sugar beet'] * model.X['Sugar beet'])\n",
      "\n",
      "model.quota_sugar_beet = pyo.Constraint(expr=model.S['Sugar beet'] <= Q['Sugar beet'])\n",
      "\n",
      "model.excess_sugar_beet = pyo.Constraint(expr=model.S_excess == Y['Sugar beet'] * model.X['Sugar beet'] - model.S['Sugar beet'])\n",
      "\n",
      "# Solve the model\n",
      "solver = pyo.SolverFactory('glpk') # You can choose a different solver if you prefer\n",
      "solver.solve(model)\n",
      "\n",
      "# Print results\n",
      "print(\"Optimal solution:\")\n",
      "print(f\"Objective value: ${model.objective():.2f}\")\n",
      "for i in I:\n",
      "  print(f\"Acres of {i}: {model.X[i]():.2f}\")\n",
      "  print(f\"Tons of {i} purchased: {model.P[i]():.2f}\")\n",
      "  print(f\"Tons of {i} sold: {model.S[i]():.2f}\")\n",
      "print(f\"Tons of sugar beet sold exceeding quota: {model.S_excess():.2f}\")\n",
      "```\n",
      "\n",
      "This code defines the sets, parameters, variables, objective function, and constraints of the mathematical optimization model for the farmer's problem. It then uses the Pyomo library to solve the model and print the optimal solution. This includes the optimal land allocation for each crop, the amount of each crop purchased and sold, and the amount of sugar beet sold exceeding the quota.\n",
      "\n"
     ]
    }
   ],
   "source": [
    "print(response2.text)"
   ]
  }
 ],
 "metadata": {
  "kernelspec": {
   "display_name": "Python 3 (ipykernel)",
   "language": "python",
   "name": "python3"
  },
  "language_info": {
   "codemirror_mode": {
    "name": "ipython",
    "version": 3
   },
   "file_extension": ".py",
   "mimetype": "text/x-python",
   "name": "python",
   "nbconvert_exporter": "python",
   "pygments_lexer": "ipython3",
   "version": "3.11.4"
  }
 },
 "nbformat": 4,
 "nbformat_minor": 5
}
