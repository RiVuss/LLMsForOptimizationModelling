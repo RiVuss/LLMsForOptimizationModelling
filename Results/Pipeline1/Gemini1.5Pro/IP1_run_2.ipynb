{
 "cells": [
  {
   "cell_type": "markdown",
   "id": "f0005e9e",
   "metadata": {},
   "source": [
    "# LLM Optimization Modelling Experiment"
   ]
  },
  {
   "cell_type": "code",
   "execution_count": 3,
   "id": "7f664028",
   "metadata": {},
   "outputs": [],
   "source": [
    "import vertexai\n",
    "from vertexai.preview.generative_models import GenerativeModel, Image\n",
    "from IPython.display import Markdown"
   ]
  },
  {
   "cell_type": "markdown",
   "id": "f527d6af",
   "metadata": {},
   "source": [
    "## 1. Define the problem description"
   ]
  },
  {
   "cell_type": "code",
   "execution_count": 4,
   "id": "25055ffd",
   "metadata": {},
   "outputs": [],
   "source": [
    "problem = '''We are delighted to welcome you, our newest intern on the Analytics team of Massachusetts General Hospital! You have been placed in a challenging role where you will be tasked with solving a real-world problem in the field of medical physics. We are building a pilot program in Boston, and if successful, your work could be applied widely in hospitals with limited capacity in many countries.\n",
    "\n",
    "You are responsible for determining the best treatment plan for 17 patients who require radiotherapy. Your goal is to optimize the use of two possible treatments: photon therapy and proton therapy. While proton therapy is known to target tumors more precisely, it is also more expensive and has limited capacity in many countries. Therefore, you will need to balance the benefits of proton therapy with its limitations and cost to create an effective treatment plan for each patient.\n",
    "\n",
    "To determine the best course of action for each patient, you will use a scoring system called the Biological Equivalent Dose (BED). This system allows you to calculate the effectiveness of each patient’s treatment plan by considering the number of proton fractions that can be used while still achieving the highest possible BED.\n",
    "\n",
    "We have n=17 patients who need radiotherapy. Each patient i needs 15 fractions, which can be photon fractions, proton fractions, or a mix of photon and proton fractions (e.g. 4 proton fractions and 11 photon fractions). We want to use the limited proton therapy capacity as best as possible. We can calculate the BED score for each patient when p proton fractions and 15-p photon fractions are used, as BEDi(p,15-p), i.e., the BED when p proton and 15-p photon fractions are delivered for patient i. The higher the score, the better. \n",
    "\n",
    "The data file \"ProblemData.csv\" contains a 2D matrix of BED scores. It does not have an index. It was made in Excel and saved as csv. The columns are the number of proton fractions and each row represents a patient. In particular, the number at the (i,j) position is the score for patient i receiving j proton fractions. \n",
    "\n",
    "Suppose that the total maximal capacity C is 100 proton fractions. To maximize the total BED scores for all the patients, which patients should get proton fractions, and how many should they get? Formulate an integer linear optimization model to solve this problem. Assume you know the value BEDi(j,15-j) for each patient i. '''"
   ]
  },
  {
   "cell_type": "markdown",
   "id": "472cf9ad",
   "metadata": {},
   "source": [
    "## 2. Generate the mathematical model"
   ]
  },
  {
   "cell_type": "code",
   "execution_count": 19,
   "id": "e31ec80c",
   "metadata": {},
   "outputs": [],
   "source": [
    "#Initializing the session. To replicate, make sure the right credentials are saved in a PATH variable\n",
    "PROJECT_ID = \"llm4optproblems\"\n",
    "REGION = \"us-central1\"\n",
    "vertexai.init(project=PROJECT_ID, location=REGION)\n",
    "\n",
    "#Specifying the model\n",
    "generative_multimodal_model = GenerativeModel(\"gemini-1.5-pro-preview-0409\")\n",
    "\n",
    "#The propmt applied to all problems\n",
    "prompt = '''Please formulate a mathematical optimization model for this problem. Include parameters, decision variables, the objective function and the constraints in your answer.\n",
    "'''\n",
    "\n",
    "#Generate the response\n",
    "response = generative_multimodal_model.generate_content([prompt+problem])\n"
   ]
  },
  {
   "cell_type": "code",
   "execution_count": 20,
   "id": "f9adc567",
   "metadata": {},
   "outputs": [
    {
     "data": {
      "text/markdown": [
       "## Mathematical Optimization Model for Radiotherapy Treatment Planning\n",
       "\n",
       "**Parameters:**\n",
       "\n",
       "*  `n`: Number of patients (n=17)\n",
       "*  `C`: Total proton fraction capacity (C=100)\n",
       "*  `BEDi(j, 15-j)`: BED score for patient `i` receiving `j` proton fractions and `15-j` photon fractions (obtained from \"ProblemData.csv\").\n",
       "\n",
       "**Decision Variables:**\n",
       "\n",
       "*  `xi,j`: Binary variable equal to 1 if patient `i` receives `j` proton fractions, and 0 otherwise.\n",
       "\n",
       "**Objective Function:**\n",
       "\n",
       "Maximize the total BED score for all patients:\n",
       "\n",
       "```\n",
       "Maximize  ∑(i=1 to n) ∑(j=0 to 15) BEDi(j, 15-j) * xi,j \n",
       "```\n",
       "\n",
       "**Constraints:**\n",
       "\n",
       "1. **Each patient receives exactly 15 fractions:**\n",
       "   ```\n",
       "   ∑(j=0 to 15) xi,j = 1  for all i = 1, ..., n\n",
       "   ```\n",
       "2. **Total proton fraction capacity:**\n",
       "   ```\n",
       "   ∑(i=1 to n) ∑(j=0 to 15) j * xi,j  ≤ C \n",
       "   ```\n",
       "3. **Binary variables:**\n",
       "   ```\n",
       "   xi,j ∈ {0, 1}  for all i = 1, ..., n and j = 0, ..., 15\n",
       "   ```\n",
       "\n",
       "This model is an integer linear programming model because the objective function and constraints are linear, and the decision variables are binary. By solving this model, we can determine the optimal number of proton fractions for each patient to maximize the total BED score, given the limited proton therapy capacity. \n"
      ],
      "text/plain": [
       "<IPython.core.display.Markdown object>"
      ]
     },
     "execution_count": 20,
     "metadata": {},
     "output_type": "execute_result"
    }
   ],
   "source": [
    "#Show the resopnse in a formatted way\n",
    "Markdown(response.text)"
   ]
  },
  {
   "cell_type": "markdown",
   "id": "75796979",
   "metadata": {},
   "source": [
    "## 3. Generate the pyomo code"
   ]
  },
  {
   "cell_type": "code",
   "execution_count": 21,
   "id": "aabea932",
   "metadata": {},
   "outputs": [],
   "source": [
    "#Second prompt gets the output of the previous step and generates the code\n",
    "prompt2 = \"Please write pyomo code for this mathematical problem. Use sample data where needed. Indicate where you use sample data. \\n\"\n",
    "prompt2 += response.text \n",
    "response2 = generative_multimodal_model.generate_content([prompt2])"
   ]
  },
  {
   "cell_type": "code",
   "execution_count": 22,
   "id": "fd2835af",
   "metadata": {},
   "outputs": [
    {
     "data": {
      "text/markdown": [
       "```python\n",
       "import pyomo.environ as pyo\n",
       "\n",
       "# Sample Data (Replace with actual data from \"ProblemData.csv\")\n",
       "BED = {\n",
       "    (1, 0, 15): 70,\n",
       "    (1, 1, 14): 72,\n",
       "    # ... Add BED scores for all patients and fraction combinations\n",
       "    (17, 14, 1): 88,\n",
       "    (17, 15, 0): 90,\n",
       "}\n",
       "n = 17  # Number of patients\n",
       "C = 100  # Total proton fraction capacity\n",
       "\n",
       "# Model\n",
       "model = pyo.ConcreteModel()\n",
       "\n",
       "# Sets\n",
       "model.I = pyo.RangeSet(1, n)  # Set of patients\n",
       "model.J = pyo.RangeSet(0, 15)  # Set of proton fractions\n",
       "\n",
       "# Variables\n",
       "model.x = pyo.Var(model.I, model.J, within=pyo.Binary)\n",
       "\n",
       "# Objective Function\n",
       "def objective_rule(model):\n",
       "    return sum(BED[i, j, 15-j] * model.x[i, j] for i in model.I for j in model.J)\n",
       "model.obj = pyo.Objective(rule=objective_rule, sense=pyo.maximize)\n",
       "\n",
       "# Constraints\n",
       "def constraint_fractions_rule(model, i):\n",
       "    return sum(model.x[i, j] for j in model.J) == 1\n",
       "model.constraint_fractions = pyo.Constraint(model.I, rule=constraint_fractions_rule)\n",
       "\n",
       "def constraint_capacity_rule(model):\n",
       "    return sum(j * model.x[i, j] for i in model.I for j in model.J) <= C\n",
       "model.constraint_capacity = pyo.Constraint(rule=constraint_capacity_rule)\n",
       "\n",
       "# Solve\n",
       "solver = pyo.SolverFactory('glpk')  # Choose a suitable solver\n",
       "results = solver.solve(model)\n",
       "\n",
       "# Print results\n",
       "print(results)\n",
       "for i in model.I:\n",
       "    for j in model.J:\n",
       "        if pyo.value(model.x[i, j]) == 1:\n",
       "            print(f\"Patient {i} receives {j} proton fractions and {15-j} photon fractions.\")\n",
       "```\n",
       "\n",
       "**Explanation:**\n",
       "\n",
       "1. **Sample Data:**  The `BED` dictionary holds the BED scores. This is sample data and should be replaced with actual data from \"ProblemData.csv\".\n",
       "2. **Sets:** `model.I` represents the set of patients, and `model.J` represents the set of possible proton fractions (0 to 15).\n",
       "3. **Variables:** `model.x` is a binary variable, where `model.x[i, j] = 1` means patient `i` receives `j` proton fractions.\n",
       "4. **Objective Function:** The `objective_rule` defines the objective function, which maximizes the total BED score across all patients.\n",
       "5. **Constraints:**\n",
       "    - `constraint_fractions_rule` ensures that each patient receives exactly 15 fractions.\n",
       "    - `constraint_capacity_rule` enforces the total proton fraction capacity limit.\n",
       "6. **Solve:** A solver ('glpk' in this case) is used to solve the model.\n",
       "7. **Print Results:** The optimal solution is printed, indicating the number of proton fractions each patient should receive.\n",
       "\n",
       "This code provides a Pyomo implementation for the provided mathematical model, enabling you to determine the optimal proton fraction allocation for each patient to maximize the total BED score while respecting the capacity constraints.\n"
      ],
      "text/plain": [
       "<IPython.core.display.Markdown object>"
      ]
     },
     "execution_count": 22,
     "metadata": {},
     "output_type": "execute_result"
    }
   ],
   "source": [
    "#Showing the code in a formatted way\n",
    "Markdown(response2.text)"
   ]
  },
  {
   "cell_type": "markdown",
   "id": "b60756ae",
   "metadata": {},
   "source": [
    "## 4. Input problem data and try running the generated code"
   ]
  },
  {
   "cell_type": "code",
   "execution_count": 23,
   "id": "41ed7d93",
   "metadata": {},
   "outputs": [
    {
     "name": "stdout",
     "output_type": "stream",
     "text": [
      "\n",
      "Problem: \n",
      "- Name: unknown\n",
      "  Lower bound: 8.24\n",
      "  Upper bound: 8.24\n",
      "  Number of objectives: 1\n",
      "  Number of constraints: 18\n",
      "  Number of variables: 272\n",
      "  Number of nonzeros: 527\n",
      "  Sense: maximize\n",
      "Solver: \n",
      "- Status: ok\n",
      "  Termination condition: optimal\n",
      "  Statistics: \n",
      "    Branch and bound: \n",
      "      Number of bounded subproblems: 45\n",
      "      Number of created subproblems: 45\n",
      "  Error rc: 0\n",
      "  Time: 0.04017519950866699\n",
      "Solution: \n",
      "- number of solutions: 0\n",
      "  number of solutions displayed: 0\n",
      "\n",
      "Patient 1 receives 8 proton fractions and 7 photon fractions.\n",
      "Patient 2 receives 8 proton fractions and 7 photon fractions.\n",
      "Patient 3 receives 3 proton fractions and 12 photon fractions.\n",
      "Patient 4 receives 0 proton fractions and 15 photon fractions.\n",
      "Patient 5 receives 5 proton fractions and 10 photon fractions.\n",
      "Patient 6 receives 0 proton fractions and 15 photon fractions.\n",
      "Patient 7 receives 4 proton fractions and 11 photon fractions.\n",
      "Patient 8 receives 15 proton fractions and 0 photon fractions.\n",
      "Patient 9 receives 4 proton fractions and 11 photon fractions.\n",
      "Patient 10 receives 5 proton fractions and 10 photon fractions.\n",
      "Patient 11 receives 6 proton fractions and 9 photon fractions.\n",
      "Patient 12 receives 0 proton fractions and 15 photon fractions.\n",
      "Patient 13 receives 10 proton fractions and 5 photon fractions.\n",
      "Patient 14 receives 0 proton fractions and 15 photon fractions.\n",
      "Patient 15 receives 10 proton fractions and 5 photon fractions.\n",
      "Patient 16 receives 10 proton fractions and 5 photon fractions.\n",
      "Patient 17 receives 12 proton fractions and 3 photon fractions.\n"
     ]
    }
   ],
   "source": [
    "import pyomo.environ as pyo\n",
    "\n",
    "# Sample Data (Replace with actual data from \"ProblemData.csv\")\n",
    "# BED = {\n",
    "#     (1, 0, 15): 70,\n",
    "#     (1, 1, 14): 72,\n",
    "#     # ... Add BED scores for all patients and fraction combinations\n",
    "#     (17, 14, 1): 88,\n",
    "#     (17, 15, 0): 90,\n",
    "# }\n",
    "\n",
    "#LOADING THE DATA DONE BY HUMAN\n",
    "df = pd.read_csv('ProblemData.csv', header=None)\n",
    "BED = {}\n",
    "for i, row in df.iterrows():\n",
    "    for j, dose in enumerate(row):\n",
    "        BED[(i+1, j, 15-j)] = dose\n",
    "#END\n",
    "\n",
    "\n",
    "n = 17  # Number of patients\n",
    "C = 100  # Total proton fraction capacity\n",
    "\n",
    "# Model\n",
    "model = pyo.ConcreteModel()\n",
    "\n",
    "# Sets\n",
    "model.I = pyo.RangeSet(1, n)  # Set of patients\n",
    "model.J = pyo.RangeSet(0, 15)  # Set of proton fractions\n",
    "\n",
    "# Variables\n",
    "model.x = pyo.Var(model.I, model.J, within=pyo.Binary)\n",
    "\n",
    "# Objective Function\n",
    "def objective_rule(model):\n",
    "    return sum(BED[i, j, 15-j] * model.x[i, j] for i in model.I for j in model.J)\n",
    "model.obj = pyo.Objective(rule=objective_rule, sense=pyo.maximize)\n",
    "\n",
    "# Constraints\n",
    "def constraint_fractions_rule(model, i):\n",
    "    return sum(model.x[i, j] for j in model.J) == 1\n",
    "model.constraint_fractions = pyo.Constraint(model.I, rule=constraint_fractions_rule)\n",
    "\n",
    "def constraint_capacity_rule(model):\n",
    "    return sum(j * model.x[i, j] for i in model.I for j in model.J) <= C\n",
    "model.constraint_capacity = pyo.Constraint(rule=constraint_capacity_rule)\n",
    "\n",
    "# Solve\n",
    "solver = pyo.SolverFactory('glpk')  # Choose a suitable solver\n",
    "results = solver.solve(model)\n",
    "\n",
    "# Print results\n",
    "print(results)\n",
    "for i in model.I:\n",
    "    for j in model.J:\n",
    "        if pyo.value(model.x[i, j]) == 1:\n",
    "            print(f\"Patient {i} receives {j} proton fractions and {15-j} photon fractions.\")"
   ]
  },
  {
   "cell_type": "code",
   "execution_count": 24,
   "id": "4a640d0e",
   "metadata": {},
   "outputs": [
    {
     "data": {
      "text/plain": [
       "8.239999999999998"
      ]
     },
     "execution_count": 24,
     "metadata": {},
     "output_type": "execute_result"
    }
   ],
   "source": [
    "model.obj()"
   ]
  },
  {
   "cell_type": "markdown",
   "id": "1be0926e",
   "metadata": {},
   "source": [
    "## 5. Correct the code to verify model viability (optional)"
   ]
  },
  {
   "cell_type": "code",
   "execution_count": null,
   "id": "8b37acfc",
   "metadata": {},
   "outputs": [],
   "source": []
  },
  {
   "cell_type": "markdown",
   "id": "699a05e8",
   "metadata": {},
   "source": [
    "## 6. Printing the outputs as strings, so they can be saved."
   ]
  },
  {
   "cell_type": "code",
   "execution_count": 25,
   "id": "e904cf68",
   "metadata": {},
   "outputs": [
    {
     "name": "stdout",
     "output_type": "stream",
     "text": [
      "## Mathematical Optimization Model for Radiotherapy Treatment Planning\n",
      "\n",
      "**Parameters:**\n",
      "\n",
      "*  `n`: Number of patients (n=17)\n",
      "*  `C`: Total proton fraction capacity (C=100)\n",
      "*  `BEDi(j, 15-j)`: BED score for patient `i` receiving `j` proton fractions and `15-j` photon fractions (obtained from \"ProblemData.csv\").\n",
      "\n",
      "**Decision Variables:**\n",
      "\n",
      "*  `xi,j`: Binary variable equal to 1 if patient `i` receives `j` proton fractions, and 0 otherwise.\n",
      "\n",
      "**Objective Function:**\n",
      "\n",
      "Maximize the total BED score for all patients:\n",
      "\n",
      "```\n",
      "Maximize  ∑(i=1 to n) ∑(j=0 to 15) BEDi(j, 15-j) * xi,j \n",
      "```\n",
      "\n",
      "**Constraints:**\n",
      "\n",
      "1. **Each patient receives exactly 15 fractions:**\n",
      "   ```\n",
      "   ∑(j=0 to 15) xi,j = 1  for all i = 1, ..., n\n",
      "   ```\n",
      "2. **Total proton fraction capacity:**\n",
      "   ```\n",
      "   ∑(i=1 to n) ∑(j=0 to 15) j * xi,j  ≤ C \n",
      "   ```\n",
      "3. **Binary variables:**\n",
      "   ```\n",
      "   xi,j ∈ {0, 1}  for all i = 1, ..., n and j = 0, ..., 15\n",
      "   ```\n",
      "\n",
      "This model is an integer linear programming model because the objective function and constraints are linear, and the decision variables are binary. By solving this model, we can determine the optimal number of proton fractions for each patient to maximize the total BED score, given the limited proton therapy capacity. \n",
      "\n"
     ]
    }
   ],
   "source": [
    "print(response.text)"
   ]
  },
  {
   "cell_type": "code",
   "execution_count": 26,
   "id": "859eaf28",
   "metadata": {},
   "outputs": [
    {
     "name": "stdout",
     "output_type": "stream",
     "text": [
      "```python\n",
      "import pyomo.environ as pyo\n",
      "\n",
      "# Sample Data (Replace with actual data from \"ProblemData.csv\")\n",
      "BED = {\n",
      "    (1, 0, 15): 70,\n",
      "    (1, 1, 14): 72,\n",
      "    # ... Add BED scores for all patients and fraction combinations\n",
      "    (17, 14, 1): 88,\n",
      "    (17, 15, 0): 90,\n",
      "}\n",
      "n = 17  # Number of patients\n",
      "C = 100  # Total proton fraction capacity\n",
      "\n",
      "# Model\n",
      "model = pyo.ConcreteModel()\n",
      "\n",
      "# Sets\n",
      "model.I = pyo.RangeSet(1, n)  # Set of patients\n",
      "model.J = pyo.RangeSet(0, 15)  # Set of proton fractions\n",
      "\n",
      "# Variables\n",
      "model.x = pyo.Var(model.I, model.J, within=pyo.Binary)\n",
      "\n",
      "# Objective Function\n",
      "def objective_rule(model):\n",
      "    return sum(BED[i, j, 15-j] * model.x[i, j] for i in model.I for j in model.J)\n",
      "model.obj = pyo.Objective(rule=objective_rule, sense=pyo.maximize)\n",
      "\n",
      "# Constraints\n",
      "def constraint_fractions_rule(model, i):\n",
      "    return sum(model.x[i, j] for j in model.J) == 1\n",
      "model.constraint_fractions = pyo.Constraint(model.I, rule=constraint_fractions_rule)\n",
      "\n",
      "def constraint_capacity_rule(model):\n",
      "    return sum(j * model.x[i, j] for i in model.I for j in model.J) <= C\n",
      "model.constraint_capacity = pyo.Constraint(rule=constraint_capacity_rule)\n",
      "\n",
      "# Solve\n",
      "solver = pyo.SolverFactory('glpk')  # Choose a suitable solver\n",
      "results = solver.solve(model)\n",
      "\n",
      "# Print results\n",
      "print(results)\n",
      "for i in model.I:\n",
      "    for j in model.J:\n",
      "        if pyo.value(model.x[i, j]) == 1:\n",
      "            print(f\"Patient {i} receives {j} proton fractions and {15-j} photon fractions.\")\n",
      "```\n",
      "\n",
      "**Explanation:**\n",
      "\n",
      "1. **Sample Data:**  The `BED` dictionary holds the BED scores. This is sample data and should be replaced with actual data from \"ProblemData.csv\".\n",
      "2. **Sets:** `model.I` represents the set of patients, and `model.J` represents the set of possible proton fractions (0 to 15).\n",
      "3. **Variables:** `model.x` is a binary variable, where `model.x[i, j] = 1` means patient `i` receives `j` proton fractions.\n",
      "4. **Objective Function:** The `objective_rule` defines the objective function, which maximizes the total BED score across all patients.\n",
      "5. **Constraints:**\n",
      "    - `constraint_fractions_rule` ensures that each patient receives exactly 15 fractions.\n",
      "    - `constraint_capacity_rule` enforces the total proton fraction capacity limit.\n",
      "6. **Solve:** A solver ('glpk' in this case) is used to solve the model.\n",
      "7. **Print Results:** The optimal solution is printed, indicating the number of proton fractions each patient should receive.\n",
      "\n",
      "This code provides a Pyomo implementation for the provided mathematical model, enabling you to determine the optimal proton fraction allocation for each patient to maximize the total BED score while respecting the capacity constraints.\n",
      "\n"
     ]
    }
   ],
   "source": [
    "print(response2.text)"
   ]
  }
 ],
 "metadata": {
  "kernelspec": {
   "display_name": "Python 3 (ipykernel)",
   "language": "python",
   "name": "python3"
  },
  "language_info": {
   "codemirror_mode": {
    "name": "ipython",
    "version": 3
   },
   "file_extension": ".py",
   "mimetype": "text/x-python",
   "name": "python",
   "nbconvert_exporter": "python",
   "pygments_lexer": "ipython3",
   "version": "3.11.4"
  }
 },
 "nbformat": 4,
 "nbformat_minor": 5
}
