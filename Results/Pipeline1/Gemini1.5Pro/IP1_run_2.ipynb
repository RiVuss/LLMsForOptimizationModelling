{
 "cells": [
  {
   "cell_type": "markdown",
   "id": "0df7edfd",
   "metadata": {},
   "source": [
    "# LLM Optimization Modelling Experiment"
   ]
  },
  {
   "cell_type": "code",
   "execution_count": 30,
   "id": "7f664028",
   "metadata": {},
   "outputs": [],
   "source": [
    "import vertexai\n",
    "from vertexai.preview.generative_models import GenerativeModel\n",
    "from IPython.display import Markdown"
   ]
  },
  {
   "cell_type": "markdown",
   "id": "c106f1be",
   "metadata": {},
   "source": [
    "## 1. Define the problem description"
   ]
  },
  {
   "cell_type": "code",
   "execution_count": 31,
   "id": "9adce4b2",
   "metadata": {},
   "outputs": [],
   "source": [
    "problem = '''We are delighted to welcome you, our newest intern on the Analytics team of Massachusetts General Hospital! You have been placed in a challenging role where you will be tasked with solving a real-world problem in the field of medical physics. We are building a pilot program in Boston, and if successful, your work could be applied widely in hospitals with limited capacity in many countries.\n",
    "\n",
    "You are responsible for determining the best treatment plan for 17 patients who require radiotherapy. Your goal is to optimize the use of two possible treatments: photon therapy and proton therapy. While proton therapy is known to target tumors more precisely, it is also more expensive and has limited capacity in many countries. Therefore, you will need to balance the benefits of proton therapy with its limitations and cost to create an effective treatment plan for each patient.\n",
    "\n",
    "To determine the best course of action for each patient, you will use a scoring system called the Biological Equivalent Dose (BED). This system allows you to calculate the effectiveness of each patient’s treatment plan by considering the number of proton fractions that can be used while still achieving the highest possible BED.\n",
    "\n",
    "We have n=17 patients who need radiotherapy. Each patient i needs 15 fractions, which can be photon fractions, proton fractions, or a mix of photon and proton fractions (e.g. 4 proton fractions and 11 photon fractions). We want to use the limited proton therapy capacity as best as possible. We can calculate the BED score for each patient when p proton fractions and 15-p photon fractions are used, as BEDi(p,15-p), i.e., the BED when p proton and 15-p photon fractions are delivered for patient i. The higher the score, the better. \n",
    "\n",
    "The data file \"ProblemData.csv\" contains a 2D matrix of BED scores. It does not have an index. It was made in Excel and saved as csv. The columns are the number of proton fractions and each row represents a patient. In particular, the number at the (i,j) position is the score for patient i receiving j proton fractions. \n",
    "\n",
    "Suppose that the total maximal capacity C is 100 proton fractions. To maximize the total BED scores for all the patients, which patients should get proton fractions, and how many should they get? Formulate an integer linear optimization model to solve this problem. Assume you know the value BEDi(j,15-j) for each patient i. \n",
    "'''"
   ]
  },
  {
   "cell_type": "markdown",
   "id": "063be1a3",
   "metadata": {},
   "source": [
    "## 2. Generate the mathematical model"
   ]
  },
  {
   "cell_type": "code",
   "execution_count": 48,
   "id": "e31ec80c",
   "metadata": {},
   "outputs": [],
   "source": [
    "#Initializing the session. To replicate, make sure the right credentials are saved in a PATH variable\n",
    "PROJECT_ID = \"llm4optproblems\"\n",
    "REGION = \"us-central1\"\n",
    "vertexai.init(project=PROJECT_ID, location=REGION)\n",
    "\n",
    "#Specifying the model\n",
    "generative_multimodal_model = GenerativeModel(\"gemini-1.5-pro-preview-0409\")\n",
    "\n",
    "#The propmt applied to all problems\n",
    "prompt = '''Let's think step by step. Please write a mathematical optimization model for this problem. If there are parameter values, make sure to include them in the mathematical formulation.\n",
    "'''\n",
    "\n",
    "#Generate the response\n",
    "response = generative_multimodal_model.generate_content([prompt+problem])\n"
   ]
  },
  {
   "cell_type": "code",
   "execution_count": 49,
   "id": "f9adc567",
   "metadata": {},
   "outputs": [
    {
     "data": {
      "text/markdown": [
       "## Mathematical Optimization Model for Radiotherapy Treatment Planning\n",
       "\n",
       "### Sets and Indices:\n",
       "\n",
       "*   **Patients:** i ∈ I = {1, 2, ..., n} (where n = 17)\n",
       "*   **Proton Fractions:** j ∈ J = {0, 1, ..., 15} \n",
       "\n",
       "### Parameters:\n",
       "\n",
       "*   **C:** Total proton fraction capacity (C = 100)\n",
       "*   **BED<sub>i</sub>(j, 15-j):** Biological Equivalent Dose for patient i with j proton fractions and (15-j) photon fractions (obtained from \"ProblemData.csv\")\n",
       "\n",
       "### Decision Variables:\n",
       "\n",
       "*   **x<sub>ij</sub>:** Binary variable equal to 1 if patient i receives j proton fractions, and 0 otherwise.\n",
       "\n",
       "### Objective Function:\n",
       "\n",
       "Maximize the total BED score for all patients:\n",
       "\n",
       "```\n",
       "Maximize Z = ∑_(i∈I) ∑_(j∈J) BED_i(j, 15-j) * x_ij\n",
       "```\n",
       "\n",
       "### Constraints:\n",
       "\n",
       "1.  **Proton Capacity Constraint:** The total number of proton fractions used cannot exceed the capacity C.\n",
       "    ```\n",
       "    ∑_(i∈I) ∑_(j∈J) j * x_ij ≤ C\n",
       "    ```\n",
       "2.  **Treatment Plan Constraint:** Each patient must receive exactly 15 fractions (either proton or photon).\n",
       "    ```\n",
       "    ∑_(j∈J) x_ij = 1, ∀ i ∈ I\n",
       "    ```\n",
       "3.  **Binary Variable Constraint:** \n",
       "    ```\n",
       "    x_ij ∈ {0, 1}, ∀ i ∈ I, j ∈ J\n",
       "    ```\n",
       "\n",
       "### Model Summary:\n",
       "\n",
       "This integer linear programming model aims to maximize the total BED score for all patients while adhering to the proton capacity constraint and ensuring each patient receives a complete treatment plan. \n",
       "\n",
       "The model uses binary decision variables to determine the optimal allocation of proton fractions to each patient. By solving this model, you can determine which patients should receive proton therapy and the number of proton fractions they should receive to achieve the best possible treatment outcomes within the available resources. \n"
      ],
      "text/plain": [
       "<IPython.core.display.Markdown object>"
      ]
     },
     "execution_count": 49,
     "metadata": {},
     "output_type": "execute_result"
    }
   ],
   "source": [
    "#Show the resopnse in a formatted way\n",
    "Markdown(response.text)"
   ]
  },
  {
   "cell_type": "markdown",
   "id": "49104a9a",
   "metadata": {},
   "source": [
    "## 3. Generate the pyomo code"
   ]
  },
  {
   "cell_type": "code",
   "execution_count": 50,
   "id": "aabea932",
   "metadata": {},
   "outputs": [],
   "source": [
    "#Second prompt gets the output of the previous step and generates the code\n",
    "prompt2 = \"Please write pyomo code for this mathematical problem. Use sample data where needed. Indicate where you use sample data. \\n\"\n",
    "prompt2 += response.text \n",
    "response2 = generative_multimodal_model.generate_content([prompt2])"
   ]
  },
  {
   "cell_type": "code",
   "execution_count": 51,
   "id": "fd2835af",
   "metadata": {},
   "outputs": [
    {
     "data": {
      "text/markdown": [
       "```python\n",
       "import pyomo.environ as pyo\n",
       "\n",
       "# Sample Data (replace with actual data from \"ProblemData.csv\")\n",
       "BED = {\n",
       "    (1, 0, 15): 70,\n",
       "    (1, 1, 14): 72,\n",
       "    # ... (add BED values for all patients and fraction combinations)\n",
       "    (17, 15, 0): 85\n",
       "}\n",
       "\n",
       "# Define the model\n",
       "model = pyo.ConcreteModel()\n",
       "\n",
       "# Sets and indices\n",
       "model.I = pyo.Set(initialize=range(1, 18))  # Patients (n = 17)\n",
       "model.J = pyo.Set(initialize=range(16))  # Proton Fractions (0 to 15)\n",
       "\n",
       "# Parameters\n",
       "model.C = pyo.Param(initialize=100)  # Total proton fraction capacity\n",
       "\n",
       "# Decision Variables\n",
       "model.x = pyo.Var(model.I, model.J, domain=pyo.Binary)\n",
       "\n",
       "# Objective Function\n",
       "def objective_rule(model):\n",
       "    return sum(BED[i, j, 15-j] * model.x[i, j] for i in model.I for j in model.J)\n",
       "model.objective = pyo.Objective(rule=objective_rule, sense=pyo.maximize)\n",
       "\n",
       "# Constraints\n",
       "def capacity_rule(model):\n",
       "    return sum(j * model.x[i, j] for i in model.I for j in model.J) <= model.C\n",
       "model.capacity_constraint = pyo.Constraint(rule=capacity_rule)\n",
       "\n",
       "def treatment_plan_rule(model, i):\n",
       "    return sum(model.x[i, j] for j in model.J) == 1\n",
       "model.treatment_plan_constraint = pyo.Constraint(model.I, rule=treatment_plan_rule)\n",
       "\n",
       "# Solve the model\n",
       "solver = pyo.SolverFactory('glpk')  # You can choose other solvers like 'cbc', 'gurobi', etc.\n",
       "solver.solve(model)\n",
       "\n",
       "# Print the results\n",
       "print(\"Optimal Solution:\")\n",
       "for i in model.I:\n",
       "    for j in model.J:\n",
       "        if model.x[i, j].value > 0.5:\n",
       "            print(f\"Patient {i} receives {j} proton fractions.\")\n",
       "\n",
       "print(f\"Total BED Score: {model.objective()}\")\n",
       "```\n",
       "\n",
       "**Explanation:**\n",
       "\n",
       "1. **Sample Data:** The `BED` dictionary is where you would replace the sample data with actual values from your \"ProblemData.csv\" file.\n",
       "2. **Sets and Indices:** We define sets for patients (`model.I`) and proton fractions (`model.J`).\n",
       "3. **Parameters:** The proton capacity `model.C` is defined as a parameter.\n",
       "4. **Decision Variables:** The binary variable `model.x[i, j]` represents whether patient `i` receives `j` proton fractions.\n",
       "5. **Objective Function:** The objective function maximizes the total BED score, calculated as the sum of BED values for each patient and fraction combination, multiplied by the corresponding decision variable.\n",
       "6. **Constraints:** \n",
       "    - **Capacity Constraint:** Ensures the total number of proton fractions used doesn't exceed the capacity.\n",
       "    - **Treatment Plan Constraint:** Makes sure each patient receives exactly 15 fractions (proton or photon). \n",
       "7. **Solve the Model:** We use the `glpk` solver to solve the model. You can choose other solvers as needed.\n",
       "8. **Print Results:** The code prints the optimal solution, showing the number of proton fractions assigned to each patient and the total BED score achieved. \n"
      ],
      "text/plain": [
       "<IPython.core.display.Markdown object>"
      ]
     },
     "execution_count": 51,
     "metadata": {},
     "output_type": "execute_result"
    }
   ],
   "source": [
    "#Showing the code in a formatted way\n",
    "Markdown(response2.text)"
   ]
  },
  {
   "cell_type": "markdown",
   "id": "b60756ae",
   "metadata": {},
   "source": [
    "## 4. Input problem data and try running the generated code"
   ]
  },
  {
   "cell_type": "code",
   "execution_count": 54,
   "id": "f82b3efc",
   "metadata": {},
   "outputs": [
    {
     "name": "stdout",
     "output_type": "stream",
     "text": [
      "Optimal Solution:\n",
      "Patient 1 receives 15 proton fractions.\n",
      "Patient 2 receives 8 proton fractions.\n",
      "Patient 3 receives 3 proton fractions.\n",
      "Patient 4 receives 0 proton fractions.\n",
      "Patient 5 receives 5 proton fractions.\n",
      "Patient 6 receives 0 proton fractions.\n",
      "Patient 7 receives 4 proton fractions.\n",
      "Patient 8 receives 13 proton fractions.\n",
      "Patient 9 receives 4 proton fractions.\n",
      "Patient 10 receives 5 proton fractions.\n",
      "Patient 11 receives 6 proton fractions.\n",
      "Patient 12 receives 0 proton fractions.\n",
      "Patient 13 receives 5 proton fractions.\n",
      "Patient 14 receives 0 proton fractions.\n",
      "Patient 15 receives 10 proton fractions.\n",
      "Patient 16 receives 10 proton fractions.\n",
      "Patient 17 receives 12 proton fractions.\n",
      "Total BED Score: 8.239999999999998\n"
     ]
    }
   ],
   "source": [
    "import pyomo.environ as pyo\n",
    "\n",
    "# Sample Data (replace with actual data from \"ProblemData.csv\")\n",
    "# BED = {\n",
    "#     (1, 0, 15): 70,\n",
    "#     (1, 1, 14): 72,\n",
    "#     # ... (add BED values for all patients and fraction combinations)\n",
    "#     (17, 15, 0): 85\n",
    "# }\n",
    "\n",
    "#LOADING THE DATA DONE BY HUMAN\n",
    "df = pd.read_csv('ProblemData.csv', header=None)\n",
    "BED = {}\n",
    "for i, row in df.iterrows():\n",
    "    for j, dose in enumerate(row):\n",
    "        BED[(i+1, j, 15-j)] = dose\n",
    "#END\n",
    "\n",
    "# Define the model\n",
    "model = pyo.ConcreteModel()\n",
    "\n",
    "# Sets and indices\n",
    "model.I = pyo.Set(initialize=range(1, 18))  # Patients (n = 17)\n",
    "model.J = pyo.Set(initialize=range(16))  # Proton Fractions (0 to 15)\n",
    "\n",
    "# Parameters\n",
    "model.C = pyo.Param(initialize=100)  # Total proton fraction capacity\n",
    "\n",
    "# Decision Variables\n",
    "model.x = pyo.Var(model.I, model.J, domain=pyo.Binary)\n",
    "\n",
    "# Objective Function\n",
    "def objective_rule(model):\n",
    "    return sum(BED[i, j, 15-j] * model.x[i, j] for i in model.I for j in model.J)\n",
    "model.objective = pyo.Objective(rule=objective_rule, sense=pyo.maximize)\n",
    "\n",
    "# Constraints\n",
    "def capacity_rule(model):\n",
    "    return sum(j * model.x[i, j] for i in model.I for j in model.J) <= model.C\n",
    "model.capacity_constraint = pyo.Constraint(rule=capacity_rule)\n",
    "\n",
    "def treatment_plan_rule(model, i):\n",
    "    return sum(model.x[i, j] for j in model.J) == 1\n",
    "model.treatment_plan_constraint = pyo.Constraint(model.I, rule=treatment_plan_rule)\n",
    "\n",
    "# Solve the model\n",
    "solver = pyo.SolverFactory('glpk')  # You can choose other solvers like 'cbc', 'gurobi', etc.\n",
    "solver.solve(model)\n",
    "\n",
    "# Print the results\n",
    "print(\"Optimal Solution:\")\n",
    "for i in model.I:\n",
    "    for j in model.J:\n",
    "        if model.x[i, j].value > 0.5:\n",
    "            print(f\"Patient {i} receives {j} proton fractions.\")\n",
    "\n",
    "print(f\"Total BED Score: {model.objective()}\")"
   ]
  },
  {
   "cell_type": "markdown",
   "id": "8f10340f",
   "metadata": {},
   "source": [
    "## 5. Correct the code to verify model viability (optional)"
   ]
  },
  {
   "cell_type": "code",
   "execution_count": null,
   "id": "a07310b8",
   "metadata": {},
   "outputs": [],
   "source": []
  },
  {
   "cell_type": "markdown",
   "id": "1d18fd82",
   "metadata": {},
   "source": [
    "## 6. Printing the outputs as strings, so they can be saved.\n",
    "Those can be rendered as markdown for better readability"
   ]
  },
  {
   "cell_type": "code",
   "execution_count": 55,
   "id": "54c8a03c",
   "metadata": {},
   "outputs": [
    {
     "name": "stdout",
     "output_type": "stream",
     "text": [
      "## Mathematical Optimization Model for Radiotherapy Treatment Planning\n",
      "\n",
      "### Sets and Indices:\n",
      "\n",
      "*   **Patients:** i ∈ I = {1, 2, ..., n} (where n = 17)\n",
      "*   **Proton Fractions:** j ∈ J = {0, 1, ..., 15} \n",
      "\n",
      "### Parameters:\n",
      "\n",
      "*   **C:** Total proton fraction capacity (C = 100)\n",
      "*   **BED<sub>i</sub>(j, 15-j):** Biological Equivalent Dose for patient i with j proton fractions and (15-j) photon fractions (obtained from \"ProblemData.csv\")\n",
      "\n",
      "### Decision Variables:\n",
      "\n",
      "*   **x<sub>ij</sub>:** Binary variable equal to 1 if patient i receives j proton fractions, and 0 otherwise.\n",
      "\n",
      "### Objective Function:\n",
      "\n",
      "Maximize the total BED score for all patients:\n",
      "\n",
      "```\n",
      "Maximize Z = ∑_(i∈I) ∑_(j∈J) BED_i(j, 15-j) * x_ij\n",
      "```\n",
      "\n",
      "### Constraints:\n",
      "\n",
      "1.  **Proton Capacity Constraint:** The total number of proton fractions used cannot exceed the capacity C.\n",
      "    ```\n",
      "    ∑_(i∈I) ∑_(j∈J) j * x_ij ≤ C\n",
      "    ```\n",
      "2.  **Treatment Plan Constraint:** Each patient must receive exactly 15 fractions (either proton or photon).\n",
      "    ```\n",
      "    ∑_(j∈J) x_ij = 1, ∀ i ∈ I\n",
      "    ```\n",
      "3.  **Binary Variable Constraint:** \n",
      "    ```\n",
      "    x_ij ∈ {0, 1}, ∀ i ∈ I, j ∈ J\n",
      "    ```\n",
      "\n",
      "### Model Summary:\n",
      "\n",
      "This integer linear programming model aims to maximize the total BED score for all patients while adhering to the proton capacity constraint and ensuring each patient receives a complete treatment plan. \n",
      "\n",
      "The model uses binary decision variables to determine the optimal allocation of proton fractions to each patient. By solving this model, you can determine which patients should receive proton therapy and the number of proton fractions they should receive to achieve the best possible treatment outcomes within the available resources. \n",
      "\n"
     ]
    }
   ],
   "source": [
    "print(response.text)"
   ]
  },
  {
   "cell_type": "code",
   "execution_count": 56,
   "id": "63f94b46",
   "metadata": {},
   "outputs": [
    {
     "name": "stdout",
     "output_type": "stream",
     "text": [
      "```python\n",
      "import pyomo.environ as pyo\n",
      "\n",
      "# Sample Data (replace with actual data from \"ProblemData.csv\")\n",
      "BED = {\n",
      "    (1, 0, 15): 70,\n",
      "    (1, 1, 14): 72,\n",
      "    # ... (add BED values for all patients and fraction combinations)\n",
      "    (17, 15, 0): 85\n",
      "}\n",
      "\n",
      "# Define the model\n",
      "model = pyo.ConcreteModel()\n",
      "\n",
      "# Sets and indices\n",
      "model.I = pyo.Set(initialize=range(1, 18))  # Patients (n = 17)\n",
      "model.J = pyo.Set(initialize=range(16))  # Proton Fractions (0 to 15)\n",
      "\n",
      "# Parameters\n",
      "model.C = pyo.Param(initialize=100)  # Total proton fraction capacity\n",
      "\n",
      "# Decision Variables\n",
      "model.x = pyo.Var(model.I, model.J, domain=pyo.Binary)\n",
      "\n",
      "# Objective Function\n",
      "def objective_rule(model):\n",
      "    return sum(BED[i, j, 15-j] * model.x[i, j] for i in model.I for j in model.J)\n",
      "model.objective = pyo.Objective(rule=objective_rule, sense=pyo.maximize)\n",
      "\n",
      "# Constraints\n",
      "def capacity_rule(model):\n",
      "    return sum(j * model.x[i, j] for i in model.I for j in model.J) <= model.C\n",
      "model.capacity_constraint = pyo.Constraint(rule=capacity_rule)\n",
      "\n",
      "def treatment_plan_rule(model, i):\n",
      "    return sum(model.x[i, j] for j in model.J) == 1\n",
      "model.treatment_plan_constraint = pyo.Constraint(model.I, rule=treatment_plan_rule)\n",
      "\n",
      "# Solve the model\n",
      "solver = pyo.SolverFactory('glpk')  # You can choose other solvers like 'cbc', 'gurobi', etc.\n",
      "solver.solve(model)\n",
      "\n",
      "# Print the results\n",
      "print(\"Optimal Solution:\")\n",
      "for i in model.I:\n",
      "    for j in model.J:\n",
      "        if model.x[i, j].value > 0.5:\n",
      "            print(f\"Patient {i} receives {j} proton fractions.\")\n",
      "\n",
      "print(f\"Total BED Score: {model.objective()}\")\n",
      "```\n",
      "\n",
      "**Explanation:**\n",
      "\n",
      "1. **Sample Data:** The `BED` dictionary is where you would replace the sample data with actual values from your \"ProblemData.csv\" file.\n",
      "2. **Sets and Indices:** We define sets for patients (`model.I`) and proton fractions (`model.J`).\n",
      "3. **Parameters:** The proton capacity `model.C` is defined as a parameter.\n",
      "4. **Decision Variables:** The binary variable `model.x[i, j]` represents whether patient `i` receives `j` proton fractions.\n",
      "5. **Objective Function:** The objective function maximizes the total BED score, calculated as the sum of BED values for each patient and fraction combination, multiplied by the corresponding decision variable.\n",
      "6. **Constraints:** \n",
      "    - **Capacity Constraint:** Ensures the total number of proton fractions used doesn't exceed the capacity.\n",
      "    - **Treatment Plan Constraint:** Makes sure each patient receives exactly 15 fractions (proton or photon). \n",
      "7. **Solve the Model:** We use the `glpk` solver to solve the model. You can choose other solvers as needed.\n",
      "8. **Print Results:** The code prints the optimal solution, showing the number of proton fractions assigned to each patient and the total BED score achieved. \n",
      "\n"
     ]
    }
   ],
   "source": [
    "print(response2.text)"
   ]
  }
 ],
 "metadata": {
  "kernelspec": {
   "display_name": "Python 3 (ipykernel)",
   "language": "python",
   "name": "python3"
  },
  "language_info": {
   "codemirror_mode": {
    "name": "ipython",
    "version": 3
   },
   "file_extension": ".py",
   "mimetype": "text/x-python",
   "name": "python",
   "nbconvert_exporter": "python",
   "pygments_lexer": "ipython3",
   "version": "3.11.4"
  }
 },
 "nbformat": 4,
 "nbformat_minor": 5
}
