{
 "cells": [
  {
   "cell_type": "markdown",
   "id": "0df7edfd",
   "metadata": {},
   "source": [
    "# LLM Optimization Modelling Experiment"
   ]
  },
  {
   "cell_type": "code",
   "execution_count": 30,
   "id": "7f664028",
   "metadata": {},
   "outputs": [],
   "source": [
    "import vertexai\n",
    "from vertexai.preview.generative_models import GenerativeModel\n",
    "from IPython.display import Markdown"
   ]
  },
  {
   "cell_type": "markdown",
   "id": "c106f1be",
   "metadata": {},
   "source": [
    "## 1. Define the problem description"
   ]
  },
  {
   "cell_type": "code",
   "execution_count": 128,
   "id": "9adce4b2",
   "metadata": {},
   "outputs": [],
   "source": [
    "problem = '''A firm that packs refreshments and beers, situated in the province of Valencia (Spain) employs the same syrup to produce its 1.5 l COLI and PEPSA products on its S1 production line. Once processed, each hectolitre of syrup produces 40 units of the 1.5 l COLI product and 20 units of the 1.5 l PEPSA product. If X1 units of the 1.5 l COLI product and X2 units of the 1.5 l PEPSA product are produced, the firm estimates that the daily income obtained in dollars would be given by the following function:\n",
    "49000 times X1 minus X1 squared plus 30 times X2 minus two times X2 squared. \n",
    "It costs 150 dollars to buy and process each hectolitre of syrup. The S1 packaging line has a net capacity of producing 7100 1.5 l product units every hour. The firm works 5 days a week in 8h shifts. Given its weekly target coverage, the firm is committed to produce at least half the amount of PEPSA than COLI. Although priority orders tend to amend its production planning, the firm wishes to have a basic product planning that optimises its daily profits. \n",
    "'''"
   ]
  },
  {
   "cell_type": "markdown",
   "id": "063be1a3",
   "metadata": {},
   "source": [
    "## 2. Generate the mathematical model"
   ]
  },
  {
   "cell_type": "code",
   "execution_count": 129,
   "id": "e31ec80c",
   "metadata": {},
   "outputs": [],
   "source": [
    "#Initializing the session. To replicate, make sure the right credentials are saved in a PATH variable\n",
    "PROJECT_ID = \"llm4optproblems\"\n",
    "REGION = \"us-central1\"\n",
    "vertexai.init(project=PROJECT_ID, location=REGION)\n",
    "\n",
    "#Specifying the model\n",
    "generative_multimodal_model = GenerativeModel(\"gemini-1.5-pro-preview-0409\")\n",
    "\n",
    "#The propmt applied to all problems\n",
    "prompt = '''Let's think step by step. Please write a mathematical optimization model for this problem. If there are parameter values, make sure to include them in the mathematical formulation.\n",
    "'''\n",
    "\n",
    "#Generate the response\n",
    "response = generative_multimodal_model.generate_content([prompt+problem])\n"
   ]
  },
  {
   "cell_type": "code",
   "execution_count": 130,
   "id": "f9adc567",
   "metadata": {},
   "outputs": [
    {
     "data": {
      "text/markdown": [
       "## Mathematical Optimization Model for Production Planning\n",
       "\n",
       "### Sets and Indices:\n",
       "\n",
       "*   Products: $i \\in I = \\{COLI, PEPSA\\}$\n",
       "\n",
       "### Parameters:\n",
       "\n",
       "*   $a_i$: Units of product $i$ obtained per hectolitre of syrup. ($a_{COLI} = 40$, $a_{PEPSA} = 20$)\n",
       "*   $p_i$: Selling price per unit of product $i$. (Implicitly defined in the revenue function)\n",
       "*   $c$: Cost of processing one hectolitre of syrup = 150 dollars\n",
       "*   $C$: Production line capacity per hour = 7100 units\n",
       "*   $H$: Hours worked per day = 8\n",
       "*   $D$: Days worked per week = 5\n",
       "\n",
       "### Decision Variables:\n",
       "\n",
       "*   $X_i$: Units of product $i$ produced daily.\n",
       "*   $Y$: Hectolitres of syrup processed daily.\n",
       "\n",
       "### Objective Function (Maximize Daily Profit):\n",
       "\n",
       "```\n",
       "Maximize Z = (49000 * X1 - X1^2 + 30 * X2 - 2 * X2^2) - 150 * Y\n",
       "```\n",
       "\n",
       "### Constraints:\n",
       "\n",
       "1.  **Syrup Usage**: The amount of syrup used must be sufficient to produce the planned quantities of each product.\n",
       "    ```\n",
       "    a_{COLI} * X1 + a_{PEPSA} * X2 <= Y\n",
       "    ```\n",
       "2.  **Production Capacity**: The total production cannot exceed the line's capacity.\n",
       "    ```\n",
       "    X1 + X2 <= C * H\n",
       "    ```\n",
       "3.  **Minimum PEPSA Production**: At least half the amount of PEPSA than COLI must be produced.\n",
       "    ```\n",
       "    X2 >= 0.5 * X1\n",
       "    ```\n",
       "4.  **Non-negativity**: Production quantities cannot be negative.\n",
       "    ```\n",
       "    X1, X2, Y >= 0 \n",
       "    ```\n",
       "\n",
       "### Model Summary:\n",
       "\n",
       "This linear programming model aims to maximize the daily profit of the firm by optimizing the production quantities of COLI and PEPSA, considering the limited syrup, production capacity, and minimum PEPSA production requirements. \n"
      ],
      "text/plain": [
       "<IPython.core.display.Markdown object>"
      ]
     },
     "execution_count": 130,
     "metadata": {},
     "output_type": "execute_result"
    }
   ],
   "source": [
    "#Show the resopnse in a formatted way\n",
    "Markdown(response.text)"
   ]
  },
  {
   "cell_type": "markdown",
   "id": "49104a9a",
   "metadata": {},
   "source": [
    "## 3. Generate the pyomo code"
   ]
  },
  {
   "cell_type": "code",
   "execution_count": 131,
   "id": "aabea932",
   "metadata": {},
   "outputs": [],
   "source": [
    "#Second prompt gets the output of the previous step and generates the code\n",
    "prompt2 = \"Please write pyomo code for this mathematical problem. Use sample data where needed. Indicate where you use sample data. \\n\"\n",
    "prompt2 += response.text \n",
    "response2 = generative_multimodal_model.generate_content([prompt2])"
   ]
  },
  {
   "cell_type": "code",
   "execution_count": 132,
   "id": "fd2835af",
   "metadata": {
    "scrolled": false
   },
   "outputs": [
    {
     "data": {
      "text/markdown": [
       "## Pyomo Implementation of Production Planning Model\n",
       "\n",
       "```python\n",
       "from pyomo.environ import *\n",
       "\n",
       "# Create a Concrete Model\n",
       "model = ConcreteModel()\n",
       "\n",
       "# Sets and Indices\n",
       "model.I = Set(initialize=['COLI', 'PEPSA'])\n",
       "\n",
       "# Parameters \n",
       "model.a = Param(model.I, initialize={'COLI': 40, 'PEPSA': 20})  # Sample data provided\n",
       "model.c = Param(initialize=150)  # Sample data provided\n",
       "model.C = Param(initialize=7100)  # Sample data provided\n",
       "model.H = Param(initialize=8)  # Sample data provided\n",
       "model.D = Param(initialize=5)  # Sample data provided\n",
       "\n",
       "# Decision Variables\n",
       "model.X = Var(model.I, domain=NonNegativeReals)\n",
       "model.Y = Var(domain=NonNegativeReals)\n",
       "\n",
       "# Objective Function\n",
       "def profit_rule(model):\n",
       "    return (49000 * model.X['COLI'] - model.X['COLI']**2 + 30 * model.X['PEPSA'] - 2 * model.X['PEPSA']**2) - 150 * model.Y\n",
       "model.profit = Objective(rule=profit_rule, sense=maximize)\n",
       "\n",
       "# Constraints\n",
       "def syrup_usage_rule(model, i):\n",
       "    return model.a[i] * model.X[i] <= model.Y\n",
       "model.syrup_usage = Constraint(model.I, rule=syrup_usage_rule)\n",
       "\n",
       "def capacity_rule(model):\n",
       "    return sum(model.X[i] for i in model.I) <= model.C * model.H\n",
       "model.capacity = Constraint(rule=capacity_rule)\n",
       "\n",
       "def pepsa_minimum_rule(model):\n",
       "    return model.X['PEPSA'] >= 0.5 * model.X['COLI']\n",
       "model.pepsa_minimum = Constraint(rule=pepsa_minimum_rule)\n",
       "\n",
       "# Solve the model\n",
       "solver = SolverFactory('glpk')\n",
       "solver.solve(model)\n",
       "\n",
       "# Print the results\n",
       "print(\"Optimal Production Quantities:\")\n",
       "for i in model.I:\n",
       "    print(f\"\\t{i}: {model.X[i]():.2f}\")\n",
       "print(f\"Syrup Used: {model.Y():.2f}\")\n",
       "print(f\"Maximum Profit: {model.profit():.2f}\")\n",
       "```\n",
       "\n",
       "**Explanation:**\n",
       "\n",
       "1.  **Model Creation:** A ConcreteModel is created to represent the problem.\n",
       "2.  **Sets and Indices:** A set `I` is defined to hold the products (COLI and PEPSA).\n",
       "3.  **Parameters:** The provided sample data for processing cost, capacity, work hours, and product yields are defined as parameters. \n",
       "4.  **Decision Variables:**  `X` represents the units of each product produced daily, and `Y` represents the daily syrup usage. Both are non-negative variables.\n",
       "5.  **Objective Function:** The `profit_rule` function defines the objective to maximize profit based on the given revenue and cost structure.\n",
       "6.  **Constraints:** \n",
       "    *   `syrup_usage_rule` ensures enough syrup is used to meet production.\n",
       "    *   `capacity_rule` limits production within the line's capacity.\n",
       "    *   `pepsa_minimum_rule` enforces the minimum PEPSA production requirement.\n",
       "7.  **Solve and Print:** The model is solved using the 'glpk' solver, and the optimal production quantities, syrup usage, and maximum profit are printed. \n"
      ],
      "text/plain": [
       "<IPython.core.display.Markdown object>"
      ]
     },
     "execution_count": 132,
     "metadata": {},
     "output_type": "execute_result"
    }
   ],
   "source": [
    "#Showing the code in a formatted way\n",
    "Markdown(response2.text)"
   ]
  },
  {
   "cell_type": "markdown",
   "id": "b60756ae",
   "metadata": {},
   "source": [
    "## 4. Input problem data and try running the generated code"
   ]
  },
  {
   "cell_type": "code",
   "execution_count": 134,
   "id": "f82b3efc",
   "metadata": {},
   "outputs": [
    {
     "name": "stdout",
     "output_type": "stream",
     "text": [
      "Optimal Production Quantities:\n",
      "\tCOLI: 14338.33\n",
      "\tPEPSA: 7169.17\n",
      "Syrup Used: 573533.33\n",
      "Maximum Profit: 308381704.17\n"
     ]
    }
   ],
   "source": [
    "from pyomo.environ import *\n",
    "\n",
    "# Create a Concrete Model\n",
    "model = ConcreteModel()\n",
    "\n",
    "# Sets and Indices\n",
    "model.I = Set(initialize=['COLI', 'PEPSA'])\n",
    "\n",
    "# Parameters \n",
    "model.a = Param(model.I, initialize={'COLI': 40, 'PEPSA': 20})  # Sample data provided\n",
    "model.c = Param(initialize=150)  # Sample data provided\n",
    "model.C = Param(initialize=7100)  # Sample data provided\n",
    "model.H = Param(initialize=8)  # Sample data provided\n",
    "model.D = Param(initialize=5)  # Sample data provided\n",
    "\n",
    "# Decision Variables\n",
    "model.X = Var(model.I, domain=NonNegativeReals)\n",
    "model.Y = Var(domain=NonNegativeReals)\n",
    "\n",
    "# Objective Function\n",
    "def profit_rule(model):\n",
    "    return (49000 * model.X['COLI'] - model.X['COLI']**2 + 30 * model.X['PEPSA'] - 2 * model.X['PEPSA']**2) - 150 * model.Y\n",
    "model.profit = Objective(rule=profit_rule, sense=maximize)\n",
    "\n",
    "# Constraints\n",
    "def syrup_usage_rule(model, i):\n",
    "    return model.a[i] * model.X[i] <= model.Y\n",
    "model.syrup_usage = Constraint(model.I, rule=syrup_usage_rule)\n",
    "\n",
    "def capacity_rule(model):\n",
    "    return sum(model.X[i] for i in model.I) <= model.C * model.H\n",
    "model.capacity = Constraint(rule=capacity_rule)\n",
    "\n",
    "def pepsa_minimum_rule(model):\n",
    "    return model.X['PEPSA'] >= 0.5 * model.X['COLI']\n",
    "model.pepsa_minimum = Constraint(rule=pepsa_minimum_rule)\n",
    "\n",
    "# Solve the model\n",
    "solver = SolverFactory('ipopt')\n",
    "solver.solve(model)\n",
    "\n",
    "# Print the results\n",
    "print(\"Optimal Production Quantities:\")\n",
    "for i in model.I:\n",
    "    print(f\"\\t{i}: {model.X[i]():.2f}\")\n",
    "print(f\"Syrup Used: {model.Y():.2f}\")\n",
    "print(f\"Maximum Profit: {model.profit():.2f}\")"
   ]
  },
  {
   "cell_type": "markdown",
   "id": "8f10340f",
   "metadata": {},
   "source": [
    "## 5. Correct the code to verify model viability (optional)"
   ]
  },
  {
   "cell_type": "code",
   "execution_count": 136,
   "id": "4889026c",
   "metadata": {},
   "outputs": [
    {
     "name": "stdout",
     "output_type": "stream",
     "text": [
      "Optimal Production Quantities:\n",
      "\tCOLI: 13838.33\n",
      "\tPEPSA: 6919.17\n",
      "Maximum Profit: 287249204.17\n"
     ]
    }
   ],
   "source": [
    "from pyomo.environ import *\n",
    "\n",
    "# Create a Concrete Model\n",
    "model = ConcreteModel()\n",
    "\n",
    "# Sets and Indices\n",
    "model.I = Set(initialize=['COLI', 'PEPSA'])\n",
    "\n",
    "# Parameters \n",
    "model.a = Param(model.I, initialize={'COLI': 40, 'PEPSA': 20})  # Sample data provided\n",
    "model.c = Param(initialize=150)  # Sample data provided\n",
    "model.C = Param(initialize=7100)  # Sample data provided\n",
    "model.H = Param(initialize=8)  # Sample data provided\n",
    "model.D = Param(initialize=5)  # Sample data provided\n",
    "\n",
    "# Decision Variables\n",
    "model.X = Var(model.I, domain=NonNegativeReals)\n",
    "\n",
    "\n",
    "# Objective Function\n",
    "def profit_rule(model):\n",
    "    return (49000 * model.X['COLI'] - model.X['COLI']**2 + 30 * model.X['PEPSA'] - 2 * model.X['PEPSA']**2) - 150 * (40*model.X['COLI'] + 20 * model.X['PEPSA'])\n",
    "model.profit = Objective(rule=profit_rule, sense=maximize)\n",
    "\n",
    "# Constraints\n",
    "\n",
    "def capacity_rule(model):\n",
    "    return sum(model.X[i] for i in model.I) <= model.C * model.H\n",
    "model.capacity = Constraint(rule=capacity_rule)\n",
    "\n",
    "def pepsa_minimum_rule(model):\n",
    "    return model.X['PEPSA'] >= 0.5 * model.X['COLI']\n",
    "model.pepsa_minimum = Constraint(rule=pepsa_minimum_rule)\n",
    "\n",
    "# Solve the model\n",
    "solver = SolverFactory('ipopt')\n",
    "solver.solve(model)\n",
    "\n",
    "# Print the results\n",
    "print(\"Optimal Production Quantities:\")\n",
    "for i in model.I:\n",
    "    print(f\"\\t{i}: {model.X[i]():.2f}\")\n",
    "print(f\"Maximum Profit: {model.profit():.2f}\")"
   ]
  },
  {
   "cell_type": "markdown",
   "id": "6d288e2e",
   "metadata": {},
   "source": [
    "## 6. Printing the outputs as strings, so they can be saved.\n",
    "Those can be rendered as markdown for better readability"
   ]
  },
  {
   "cell_type": "code",
   "execution_count": 119,
   "id": "35651bc6",
   "metadata": {},
   "outputs": [
    {
     "name": "stdout",
     "output_type": "stream",
     "text": [
      "## Mathematical Optimization Model for Facility Location\n",
      "\n",
      "### Sets and Indices:\n",
      "\n",
      "*   **I:** Set of customers (i ∈ I)\n",
      "*   **J:** Set of potential facility locations (j ∈ J)\n",
      "\n",
      "### Parameters:\n",
      "\n",
      "*   **f<sub>j</sub>:** Fixed annual activation cost for facility at location j\n",
      "*   **c<sub>ij</sub>:** Transportation cost per unit of demand for serving customer i from facility j\n",
      "*   **d<sub>i</sub>:** Annual demand of customer i\n",
      "*   **u<sub>j</sub>:** Maximum annual service volume capacity of facility at location j \n",
      "\n",
      "### Decision Variables:\n",
      "\n",
      "*   **x<sub>ij</sub>:** Fraction of customer i's demand served by facility at location j (0 ≤ x<sub>ij</sub> ≤ 1)\n",
      "*   **y<sub>j</sub>:** Binary variable indicating whether a facility is opened at location j (y<sub>j</sub> = 1 if open, 0 otherwise)\n",
      "\n",
      "### Objective Function: \n",
      "\n",
      "Minimize the total cost (fixed activation costs + transportation costs)\n",
      "\n",
      "```\n",
      "Minimize Z = ∑_{j∈J} f_j * y_j + ∑_{i∈I} ∑_{j∈J} c_ij * d_i * x_ij\n",
      "```\n",
      "\n",
      "### Constraints:\n",
      "\n",
      "1.  **Demand Satisfaction:** Each customer's demand must be fully met.\n",
      "\n",
      "    ```\n",
      "    ∑_{j∈J} x_ij = 1, ∀ i ∈ I\n",
      "    ```\n",
      "2.  **Capacity Restriction:** The service volume at each facility cannot exceed its capacity.\n",
      "\n",
      "    ```\n",
      "    ∑_{i∈I} d_i * x_ij ≤ u_j * y_j, ∀ j ∈ J \n",
      "    ```\n",
      "3.  **Facility Usage:** A customer can only be served by an open facility.\n",
      "\n",
      "    ```\n",
      "    x_ij ≤ y_j, ∀ i ∈ I, ∀ j ∈ J\n",
      "    ```\n",
      "4.  **Binary and Non-negativity:**\n",
      "\n",
      "    ```\n",
      "    x_ij ≥ 0, ∀ i ∈ I, ∀ j ∈ J\n",
      "    y_j ∈ {0, 1}, ∀ j ∈ J\n",
      "    ```\n",
      "\n",
      "This formulation represents a **mixed-integer linear programming (MILP)** model. Solving this model will provide the optimal location of facilities and allocation of customers to facilities, minimizing the total cost while satisfying all constraints. \n",
      "\n"
     ]
    }
   ],
   "source": [
    "print(response.text)"
   ]
  },
  {
   "cell_type": "code",
   "execution_count": 120,
   "id": "2e7f1814",
   "metadata": {},
   "outputs": [
    {
     "name": "stdout",
     "output_type": "stream",
     "text": [
      "```python\n",
      "# Import Pyomo library\n",
      "from pyomo.environ import *\n",
      "\n",
      "# Create a concrete model\n",
      "model = ConcreteModel()\n",
      "\n",
      "# Sample Data (replace with your actual data)\n",
      "I = {1, 2, 3}  # Set of customers\n",
      "J = {1, 2}  # Set of potential facility locations\n",
      "f = {1: 1000, 2: 1200}  # Fixed annual activation cost for each facility\n",
      "c = {(1, 1): 5, (1, 2): 7, (2, 1): 6, (2, 2): 4, (3, 1): 8, (3, 2): 3}  # Transportation cost per unit of demand\n",
      "d = {1: 200, 2: 300, 3: 250}  # Annual demand of each customer\n",
      "u = {1: 500, 2: 600}  # Maximum annual service volume capacity of each facility\n",
      "\n",
      "# Define sets\n",
      "model.I = Set(initialize=I)\n",
      "model.J = Set(initialize=J)\n",
      "\n",
      "# Define parameters\n",
      "model.f = Param(model.J, initialize=f)\n",
      "model.c = Param(model.I, model.J, initialize=c)\n",
      "model.d = Param(model.I, initialize=d)\n",
      "model.u = Param(model.J, initialize=u)\n",
      "\n",
      "# Define decision variables\n",
      "model.x = Var(model.I, model.J, bounds=(0, 1))  # Fraction of customer demand served by each facility\n",
      "model.y = Var(model.J, within=Binary)  # Whether a facility is opened\n",
      "\n",
      "# Define objective function\n",
      "def total_cost(model):\n",
      "    fixed_cost = sum(model.f[j] * model.y[j] for j in model.J)\n",
      "    transportation_cost = sum(model.c[i, j] * model.d[i] * model.x[i, j] for i in model.I for j in model.J)\n",
      "    return fixed_cost + transportation_cost\n",
      "\n",
      "model.objective = Objective(rule=total_cost, sense=minimize)\n",
      "\n",
      "# Define constraints\n",
      "def demand_satisfaction(model, i):\n",
      "    return sum(model.x[i, j] for j in model.J) == 1\n",
      "\n",
      "model.demand_constraint = Constraint(model.I, rule=demand_satisfaction)\n",
      "\n",
      "def capacity_restriction(model, j):\n",
      "    return sum(model.d[i] * model.x[i, j] for i in model.I) <= model.u[j] * model.y[j]\n",
      "\n",
      "model.capacity_constraint = Constraint(model.J, rule=capacity_restriction)\n",
      "\n",
      "def facility_usage(model, i, j):\n",
      "    return model.x[i, j] <= model.y[j]\n",
      "\n",
      "model.usage_constraint = Constraint(model.I, model.J, rule=facility_usage)\n",
      "``` \n",
      "***\n",
      "**Explanation:**\n",
      "\n",
      "1. **Import Pyomo library:** Imports the necessary Pyomo library for creating optimization models.\n",
      "2. **Create a concrete model:** Defines a concrete Pyomo model instance.\n",
      "3. **Sample Data:**  Provides sample data for sets, parameters, and indices. Replace this with your actual data.\n",
      "4. **Define sets:** Defines sets for customers (I) and potential facility locations (J).\n",
      "5. **Define parameters:** Defines parameters including fixed activation costs, transportation costs, customer demands, and facility capacities.\n",
      "6. **Define decision variables:** \n",
      "    *   `model.x`:  Fraction of customer demand served by each facility (continuous variable between 0 and 1).\n",
      "    *   `model.y`: Binary variable indicating whether a facility is opened (1) or not (0). \n",
      "7. **Define objective function:** Defines the objective function to minimize the total cost, including fixed activation costs and transportation costs.\n",
      "8. **Define constraints:** \n",
      "    *   **Demand Satisfaction:** Ensures that each customer's demand is fully met by summing the fractions served by all facilities.\n",
      "    *   **Capacity Restriction:** Ensures that the total demand served by a facility does not exceed its capacity, considering whether it's open or closed.\n",
      "    *   **Facility Usage:** Ensures a customer can only be served by an open facility. \n",
      "\n",
      "**To solve the model:**\n",
      "\n",
      "```python\n",
      "# Choose a solver (e.g., CBC, Gurobi, CPLEX)\n",
      "solver = SolverFactory('cbc')  # Replace with your preferred solver\n",
      "\n",
      "# Solve the model\n",
      "results = solver.solve(model)\n",
      "\n",
      "# Print results\n",
      "print(results)\n",
      "\n",
      "# Access specific results\n",
      "for j in model.J:\n",
      "    if model.y[j].value > 0.5:  # Check if facility j is open\n",
      "        print(f\"Facility at location {j} is open\")\n",
      "        for i in model.I:\n",
      "            print(f\"  Customer {i} demand served: {model.x[i, j].value:.2f}\")\n",
      "```\n",
      "\n",
      "**Important Notes:**\n",
      "\n",
      "*   Replace the sample data with your actual data.\n",
      "*   Choose an appropriate solver based on your problem size and license availability.\n",
      "*   Install the chosen solver and ensure it is accessible by Pyomo.\n",
      "\n"
     ]
    }
   ],
   "source": [
    "print(response2.text)"
   ]
  }
 ],
 "metadata": {
  "kernelspec": {
   "display_name": "Python 3 (ipykernel)",
   "language": "python",
   "name": "python3"
  },
  "language_info": {
   "codemirror_mode": {
    "name": "ipython",
    "version": 3
   },
   "file_extension": ".py",
   "mimetype": "text/x-python",
   "name": "python",
   "nbconvert_exporter": "python",
   "pygments_lexer": "ipython3",
   "version": "3.11.4"
  }
 },
 "nbformat": 4,
 "nbformat_minor": 5
}
