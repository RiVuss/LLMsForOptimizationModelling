{
 "cells": [
  {
   "cell_type": "markdown",
   "id": "f0005e9e",
   "metadata": {},
   "source": [
    "# LLM Optimization Modelling Experiment"
   ]
  },
  {
   "cell_type": "code",
   "execution_count": 3,
   "id": "7f664028",
   "metadata": {},
   "outputs": [],
   "source": [
    "import vertexai\n",
    "from vertexai.preview.generative_models import GenerativeModel, Image\n",
    "from IPython.display import Markdown"
   ]
  },
  {
   "cell_type": "markdown",
   "id": "f527d6af",
   "metadata": {},
   "source": [
    "## 1. Define the problem description"
   ]
  },
  {
   "cell_type": "code",
   "execution_count": 97,
   "id": "25055ffd",
   "metadata": {},
   "outputs": [],
   "source": [
    "problem = '''A firm that packs refreshments and beers, situated in the province of Valencia (Spain) employs the same syrup to produce its 1.5 l COLI and PEPSA products on its S1 production line. Once processed, each hectolitre of syrup produces 40 units of the 1.5 l COLI product and 20 units of the 1.5 l PEPSA product. If X1 units of the 1.5 l COLI product and X2 units of the 1.5 l PEPSA product are produced, the firm estimates that the daily income obtained in dollars would be given by the following function:\n",
    "49000 times X1 minus X1 squared plus 30 times X2 minus two times X2 squared. \n",
    "It costs 150 dollars to buy and process each hectolitre of syrup. The S1 packaging line has a net capacity of producing 7100 1.5 l product units every hour. The firm works 5 days a week in 8h shifts. Given its weekly target coverage, the firm is committed to produce at least half the amount of PEPSA than COLI. Although priority orders tend to amend its production planning, the firm wishes to have a basic product planning that optimises its daily profits. '''"
   ]
  },
  {
   "cell_type": "markdown",
   "id": "472cf9ad",
   "metadata": {},
   "source": [
    "## 2. Generate the mathematical model"
   ]
  },
  {
   "cell_type": "code",
   "execution_count": 98,
   "id": "e31ec80c",
   "metadata": {},
   "outputs": [],
   "source": [
    "#Initializing the session. To replicate, make sure the right credentials are saved in a PATH variable\n",
    "PROJECT_ID = \"llm4optproblems\"\n",
    "REGION = \"us-central1\"\n",
    "vertexai.init(project=PROJECT_ID, location=REGION)\n",
    "\n",
    "#Specifying the model\n",
    "generative_multimodal_model = GenerativeModel(\"gemini-1.5-pro-preview-0409\")\n",
    "\n",
    "#The propmt applied to all problems\n",
    "prompt = '''Please formulate a mathematical optimization model for this problem. Include parameters, decision variables, the objective function and the constraints in your answer.\n",
    "'''\n",
    "\n",
    "#Generate the response\n",
    "response = generative_multimodal_model.generate_content([prompt+problem])\n"
   ]
  },
  {
   "cell_type": "code",
   "execution_count": 99,
   "id": "f9adc567",
   "metadata": {},
   "outputs": [
    {
     "data": {
      "text/markdown": [
       "## Mathematical Optimization Model \n",
       "\n",
       "**Parameters:**\n",
       "\n",
       "*  `s`: Syrup processing cost per hectolitre ($150) \n",
       "*  `p1`: Profit coefficient for 1.5 l COLI product ($49000)\n",
       "*  `p2`: Profit coefficient for 1.5 l PEPSA product ($30)\n",
       "*  `c`: Syrup conversion rate for COLI (40 units per hectolitre)\n",
       "*  `d`: Syrup conversion rate for PEPSA (20 units per hectolitre)\n",
       "*  `cap`: Hourly production capacity of S1 line (7100 units)\n",
       "*  `h`: Daily working hours (8 hours)\n",
       "\n",
       "**Decision Variables:**\n",
       "\n",
       "*  `X1`: Number of 1.5 l COLI units produced daily\n",
       "*  `X2`: Number of 1.5 l PEPSA units produced daily\n",
       "*  `S`: Hectolitres of syrup used daily \n",
       "\n",
       "**Objective Function:**\n",
       "\n",
       "Maximize daily profit:\n",
       "\n",
       "```\n",
       "Maximize Z = p1*X1 - X1^2 + p2*X2 - 2*X2^2 - s*S\n",
       "```\n",
       "\n",
       "**Constraints:**\n",
       "\n",
       "1. **Syrup conversion:**\n",
       "    *  `X1 <= c*S`\n",
       "    *  `X2 <= d*S` \n",
       "\n",
       "2. **Production capacity:**\n",
       "    *  `X1 + X2 <= cap*h` \n",
       "\n",
       "3. **Minimum PEPSA production:**\n",
       "    *  `X2 >= 0.5*X1`\n",
       "\n",
       "4. **Non-negativity:**\n",
       "    *  `X1 >= 0`\n",
       "    *  `X2 >= 0`\n",
       "    *  `S >= 0`\n",
       "\n",
       "This model aims to find the optimal daily production quantities of COLI (`X1`) and PEPSA (`X2`), along with the required syrup amount (`S`), that maximize the daily profit while respecting syrup conversion rates, production capacity, minimum PEPSA production target, and non-negativity constraints. \n"
      ],
      "text/plain": [
       "<IPython.core.display.Markdown object>"
      ]
     },
     "execution_count": 99,
     "metadata": {},
     "output_type": "execute_result"
    }
   ],
   "source": [
    "#Show the resopnse in a formatted way\n",
    "Markdown(response.text)"
   ]
  },
  {
   "cell_type": "markdown",
   "id": "75796979",
   "metadata": {},
   "source": [
    "## 3. Generate the pyomo code"
   ]
  },
  {
   "cell_type": "code",
   "execution_count": 100,
   "id": "aabea932",
   "metadata": {},
   "outputs": [],
   "source": [
    "#Second prompt gets the output of the previous step and generates the code\n",
    "prompt2 = \"Please write pyomo code for this mathematical problem. Use sample data where needed. Indicate where you use sample data. \\n\"\n",
    "prompt2 += response.text \n",
    "response2 = generative_multimodal_model.generate_content([prompt2])"
   ]
  },
  {
   "cell_type": "code",
   "execution_count": 101,
   "id": "fd2835af",
   "metadata": {
    "scrolled": false
   },
   "outputs": [
    {
     "data": {
      "text/markdown": [
       "```python\n",
       "import pyomo.environ as pyo\n",
       "\n",
       "# Sample data \n",
       "s = 150  \n",
       "p1 = 49000  \n",
       "p2 = 30  \n",
       "c = 40  \n",
       "d = 20  \n",
       "cap = 7100  \n",
       "h = 8  \n",
       "\n",
       "# Model creation\n",
       "model = pyo.ConcreteModel()\n",
       "\n",
       "# Decision variables\n",
       "model.X1 = pyo.Var(domain=pyo.NonNegativeReals)\n",
       "model.X2 = pyo.Var(domain=pyo.NonNegativeReals)\n",
       "model.S = pyo.Var(domain=pyo.NonNegativeReals)\n",
       "\n",
       "# Objective function\n",
       "model.profit = pyo.Objective(expr= p1*model.X1 - model.X1**2 + p2*model.X2 - 2*model.X2**2 - s*model.S, sense=pyo.maximize)\n",
       "\n",
       "# Constraints\n",
       "model.syrup_conversion1 = pyo.Constraint(expr= model.X1 <= c*model.S)\n",
       "model.syrup_conversion2 = pyo.Constraint(expr= model.X2 <= d*model.S)\n",
       "\n",
       "model.production_capacity = pyo.Constraint(expr= model.X1 + model.X2 <= cap*h)\n",
       "\n",
       "model.min_pepsa = pyo.Constraint(expr= model.X2 >= 0.5*model.X1)\n",
       "\n",
       "# Solve\n",
       "solver = pyo.SolverFactory('ipopt') # You can choose a different solver if you prefer\n",
       "results = solver.solve(model)\n",
       "\n",
       "# Display results\n",
       "print(results)\n",
       "print(\"X1:\", pyo.value(model.X1))\n",
       "print(\"X2:\", pyo.value(model.X2))\n",
       "print(\"S:\", pyo.value(model.S))\n",
       "print(\"Profit:\", pyo.value(model.profit)) \n",
       "```\n",
       "\n",
       "This code defines the model, variables, objective, and constraints as specified in your mathematical formulation. The data is input as sample values. You can replace these values with any other dataset you wish to use. Finally, the code calls the 'ipopt' solver to find the optimal solution and prints the results. \n"
      ],
      "text/plain": [
       "<IPython.core.display.Markdown object>"
      ]
     },
     "execution_count": 101,
     "metadata": {},
     "output_type": "execute_result"
    }
   ],
   "source": [
    "#Showing the code in a formatted way\n",
    "Markdown(response2.text)"
   ]
  },
  {
   "cell_type": "markdown",
   "id": "b60756ae",
   "metadata": {},
   "source": [
    "## 4. Input problem data and try running the generated code"
   ]
  },
  {
   "cell_type": "code",
   "execution_count": 128,
   "id": "f64927f4",
   "metadata": {},
   "outputs": [
    {
     "name": "stdout",
     "output_type": "stream",
     "text": [
      "\n",
      "Problem: \n",
      "- Lower bound: -inf\n",
      "  Upper bound: inf\n",
      "  Number of objectives: 1\n",
      "  Number of constraints: 4\n",
      "  Number of variables: 3\n",
      "  Sense: unknown\n",
      "Solver: \n",
      "- Status: ok\n",
      "  Message: Ipopt 3.11.1\\x3a Optimal Solution Found\n",
      "  Termination condition: optimal\n",
      "  Id: 0\n",
      "  Error rc: 0\n",
      "  Time: 0.05134391784667969\n",
      "Solution: \n",
      "- number of solutions: 0\n",
      "  number of solutions displayed: 0\n",
      "\n",
      "X1: 16337.083333340031\n",
      "X2: 8168.541666660054\n",
      "S: 408.4270833494343\n",
      "Profit: 400350437.76073945\n"
     ]
    }
   ],
   "source": [
    "import pyomo.environ as pyo\n",
    "\n",
    "# Sample data \n",
    "s = 150  \n",
    "p1 = 49000  \n",
    "p2 = 30  \n",
    "c = 40  \n",
    "d = 20  \n",
    "cap = 7100  \n",
    "h = 8  \n",
    "\n",
    "# Model creation\n",
    "model = pyo.ConcreteModel()\n",
    "\n",
    "# Decision variables\n",
    "model.X1 = pyo.Var(domain=pyo.NonNegativeReals)\n",
    "model.X2 = pyo.Var(domain=pyo.NonNegativeReals)\n",
    "model.S = pyo.Var(domain=pyo.NonNegativeReals)\n",
    "\n",
    "# Objective function\n",
    "model.profit = pyo.Objective(expr= p1*model.X1 - model.X1**2 + p2*model.X2 - 2*model.X2**2 - s*model.S, sense=pyo.maximize)\n",
    "\n",
    "# Constraints\n",
    "model.syrup_conversion1 = pyo.Constraint(expr= model.X1 <= c*model.S)\n",
    "model.syrup_conversion2 = pyo.Constraint(expr= model.X2 <= d*model.S)\n",
    "\n",
    "model.production_capacity = pyo.Constraint(expr= model.X1 + model.X2 <= cap*h)\n",
    "\n",
    "model.min_pepsa = pyo.Constraint(expr= model.X2 >= 0.5*model.X1)\n",
    "\n",
    "# Solve\n",
    "solver = pyo.SolverFactory('ipopt') # You can choose a different solver if you prefer\n",
    "results = solver.solve(model)\n",
    "\n",
    "# Display results\n",
    "print(results)\n",
    "print(\"X1:\", pyo.value(model.X1))\n",
    "print(\"X2:\", pyo.value(model.X2))\n",
    "print(\"S:\", pyo.value(model.S))\n",
    "print(\"Profit:\", pyo.value(model.profit)) "
   ]
  },
  {
   "cell_type": "markdown",
   "id": "1be0926e",
   "metadata": {},
   "source": [
    "## 5. Correct the code to verify model viability (optional)"
   ]
  },
  {
   "cell_type": "code",
   "execution_count": 129,
   "id": "8b37acfc",
   "metadata": {},
   "outputs": [
    {
     "name": "stdout",
     "output_type": "stream",
     "text": [
      "\n",
      "Problem: \n",
      "- Lower bound: -inf\n",
      "  Upper bound: inf\n",
      "  Number of objectives: 1\n",
      "  Number of constraints: 3\n",
      "  Number of variables: 3\n",
      "  Sense: unknown\n",
      "Solver: \n",
      "- Status: ok\n",
      "  Message: Ipopt 3.11.1\\x3a Optimal Solution Found\n",
      "  Termination condition: optimal\n",
      "  Id: 0\n",
      "  Error rc: 0\n",
      "  Time: 0.050195932388305664\n",
      "Solution: \n",
      "- number of solutions: 0\n",
      "  number of solutions displayed: 0\n",
      "\n",
      "X1: 16335.833333340031\n",
      "X2: 8167.916666660053\n",
      "S: 816.7916666665035\n",
      "Profit: 400289176.04199195\n"
     ]
    }
   ],
   "source": [
    "import pyomo.environ as pyo\n",
    "\n",
    "# Sample data \n",
    "s = 150  \n",
    "p1 = 49000  \n",
    "p2 = 30  \n",
    "c = 40  \n",
    "d = 20  \n",
    "cap = 7100  \n",
    "h = 8  \n",
    "\n",
    "# Model creation\n",
    "model = pyo.ConcreteModel()\n",
    "\n",
    "# Decision variables\n",
    "model.X1 = pyo.Var(domain=pyo.NonNegativeReals)\n",
    "model.X2 = pyo.Var(domain=pyo.NonNegativeReals)\n",
    "model.S = pyo.Var(domain=pyo.NonNegativeReals)\n",
    "\n",
    "# Objective function\n",
    "model.profit = pyo.Objective(expr= p1*model.X1 - model.X1**2 + p2*model.X2 - 2*model.X2**2 - s*model.S, sense=pyo.maximize)\n",
    "\n",
    "# Constraints\n",
    "model.syrup_conversion1 = pyo.Constraint(expr= model.X1/40 + model.X2/20 == model.S)\n",
    "\n",
    "model.production_capacity = pyo.Constraint(expr= model.X1 + model.X2 <= cap*h)\n",
    "\n",
    "model.min_pepsa = pyo.Constraint(expr= model.X2 >= 0.5*model.X1)\n",
    "\n",
    "# Solve\n",
    "solver = pyo.SolverFactory('ipopt') # You can choose a different solver if you prefer\n",
    "results = solver.solve(model)\n",
    "\n",
    "# Display results\n",
    "print(results)\n",
    "print(\"X1:\", pyo.value(model.X1))\n",
    "print(\"X2:\", pyo.value(model.X2))\n",
    "print(\"S:\", pyo.value(model.S))\n",
    "print(\"Profit:\", pyo.value(model.profit)) "
   ]
  },
  {
   "cell_type": "markdown",
   "id": "699a05e8",
   "metadata": {},
   "source": [
    "## 6. Printing the outputs as strings, so they can be saved."
   ]
  },
  {
   "cell_type": "code",
   "execution_count": 130,
   "id": "e904cf68",
   "metadata": {},
   "outputs": [
    {
     "name": "stdout",
     "output_type": "stream",
     "text": [
      "## Mathematical Optimization Model \n",
      "\n",
      "**Parameters:**\n",
      "\n",
      "*  `s`: Syrup processing cost per hectolitre ($150) \n",
      "*  `p1`: Profit coefficient for 1.5 l COLI product ($49000)\n",
      "*  `p2`: Profit coefficient for 1.5 l PEPSA product ($30)\n",
      "*  `c`: Syrup conversion rate for COLI (40 units per hectolitre)\n",
      "*  `d`: Syrup conversion rate for PEPSA (20 units per hectolitre)\n",
      "*  `cap`: Hourly production capacity of S1 line (7100 units)\n",
      "*  `h`: Daily working hours (8 hours)\n",
      "\n",
      "**Decision Variables:**\n",
      "\n",
      "*  `X1`: Number of 1.5 l COLI units produced daily\n",
      "*  `X2`: Number of 1.5 l PEPSA units produced daily\n",
      "*  `S`: Hectolitres of syrup used daily \n",
      "\n",
      "**Objective Function:**\n",
      "\n",
      "Maximize daily profit:\n",
      "\n",
      "```\n",
      "Maximize Z = p1*X1 - X1^2 + p2*X2 - 2*X2^2 - s*S\n",
      "```\n",
      "\n",
      "**Constraints:**\n",
      "\n",
      "1. **Syrup conversion:**\n",
      "    *  `X1 <= c*S`\n",
      "    *  `X2 <= d*S` \n",
      "\n",
      "2. **Production capacity:**\n",
      "    *  `X1 + X2 <= cap*h` \n",
      "\n",
      "3. **Minimum PEPSA production:**\n",
      "    *  `X2 >= 0.5*X1`\n",
      "\n",
      "4. **Non-negativity:**\n",
      "    *  `X1 >= 0`\n",
      "    *  `X2 >= 0`\n",
      "    *  `S >= 0`\n",
      "\n",
      "This model aims to find the optimal daily production quantities of COLI (`X1`) and PEPSA (`X2`), along with the required syrup amount (`S`), that maximize the daily profit while respecting syrup conversion rates, production capacity, minimum PEPSA production target, and non-negativity constraints. \n",
      "\n"
     ]
    }
   ],
   "source": [
    "print(response.text)"
   ]
  },
  {
   "cell_type": "code",
   "execution_count": 131,
   "id": "859eaf28",
   "metadata": {},
   "outputs": [
    {
     "name": "stdout",
     "output_type": "stream",
     "text": [
      "```python\n",
      "import pyomo.environ as pyo\n",
      "\n",
      "# Sample data \n",
      "s = 150  \n",
      "p1 = 49000  \n",
      "p2 = 30  \n",
      "c = 40  \n",
      "d = 20  \n",
      "cap = 7100  \n",
      "h = 8  \n",
      "\n",
      "# Model creation\n",
      "model = pyo.ConcreteModel()\n",
      "\n",
      "# Decision variables\n",
      "model.X1 = pyo.Var(domain=pyo.NonNegativeReals)\n",
      "model.X2 = pyo.Var(domain=pyo.NonNegativeReals)\n",
      "model.S = pyo.Var(domain=pyo.NonNegativeReals)\n",
      "\n",
      "# Objective function\n",
      "model.profit = pyo.Objective(expr= p1*model.X1 - model.X1**2 + p2*model.X2 - 2*model.X2**2 - s*model.S, sense=pyo.maximize)\n",
      "\n",
      "# Constraints\n",
      "model.syrup_conversion1 = pyo.Constraint(expr= model.X1 <= c*model.S)\n",
      "model.syrup_conversion2 = pyo.Constraint(expr= model.X2 <= d*model.S)\n",
      "\n",
      "model.production_capacity = pyo.Constraint(expr= model.X1 + model.X2 <= cap*h)\n",
      "\n",
      "model.min_pepsa = pyo.Constraint(expr= model.X2 >= 0.5*model.X1)\n",
      "\n",
      "# Solve\n",
      "solver = pyo.SolverFactory('ipopt') # You can choose a different solver if you prefer\n",
      "results = solver.solve(model)\n",
      "\n",
      "# Display results\n",
      "print(results)\n",
      "print(\"X1:\", pyo.value(model.X1))\n",
      "print(\"X2:\", pyo.value(model.X2))\n",
      "print(\"S:\", pyo.value(model.S))\n",
      "print(\"Profit:\", pyo.value(model.profit)) \n",
      "```\n",
      "\n",
      "This code defines the model, variables, objective, and constraints as specified in your mathematical formulation. The data is input as sample values. You can replace these values with any other dataset you wish to use. Finally, the code calls the 'ipopt' solver to find the optimal solution and prints the results. \n",
      "\n"
     ]
    }
   ],
   "source": [
    "print(response2.text)"
   ]
  }
 ],
 "metadata": {
  "kernelspec": {
   "display_name": "Python 3 (ipykernel)",
   "language": "python",
   "name": "python3"
  },
  "language_info": {
   "codemirror_mode": {
    "name": "ipython",
    "version": 3
   },
   "file_extension": ".py",
   "mimetype": "text/x-python",
   "name": "python",
   "nbconvert_exporter": "python",
   "pygments_lexer": "ipython3",
   "version": "3.11.4"
  }
 },
 "nbformat": 4,
 "nbformat_minor": 5
}
