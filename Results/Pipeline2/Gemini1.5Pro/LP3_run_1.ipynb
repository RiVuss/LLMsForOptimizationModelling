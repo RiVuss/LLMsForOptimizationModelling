{
 "cells": [
  {
   "cell_type": "markdown",
   "id": "f0005e9e",
   "metadata": {},
   "source": [
    "# LLM Optimization Modelling Experiment"
   ]
  },
  {
   "cell_type": "code",
   "execution_count": 1,
   "id": "7f664028",
   "metadata": {},
   "outputs": [],
   "source": [
    "import vertexai\n",
    "from vertexai.preview.generative_models import GenerativeModel, Image\n",
    "from IPython.display import Markdown"
   ]
  },
  {
   "cell_type": "markdown",
   "id": "f527d6af",
   "metadata": {},
   "source": [
    "## 1. Define the problem description"
   ]
  },
  {
   "cell_type": "code",
   "execution_count": 637,
   "id": "25055ffd",
   "metadata": {},
   "outputs": [],
   "source": [
    "problem = '''The PRODA, S.A. industrial products firm has to face the problem of scheduling\n",
    "the weekly production of its three products (P1, P2 and P3). These products are\n",
    "sold to large industrial firms and PRODA, S.A. wishes to supply its products in\n",
    "quantities that are more profitable for it.\n",
    "\n",
    "Each product entails three operations contributing to the costs: smelting; mechanisation; assembly and\n",
    "packaging. The smelting operations for products P1 and P2 could be subcontracted, but the smelting operation for product P3 requires special equipment, thus\n",
    "preventing the use of subcontracts. PRODA also want to know, how much they should subcontract.\n",
    "\n",
    "For product P1 the direct unit costs of all possible operations are:\n",
    "- smelting at PRODA: 0.30$\n",
    "- subcontracted smelting: 0.50$\n",
    "- mechanisation: 0.20$\n",
    "- Assembly and packaging: 0.3$\n",
    "The unit sales price is 1.50$.\n",
    "\n",
    "For product P2 the direct unit costs of all possible operations are:\n",
    "- smelting at PRODA: 0.50$\n",
    "- subcontracted smelting: 0.60$\n",
    "- mechanisation: 0.10$\n",
    "- Assembly and packaging: 0.20$\n",
    "The unit sales price is 1.80$.\n",
    "\n",
    "For product P3 the direct unit costs of all possible operations are:\n",
    "- smelting at PRODA: 0.40$\n",
    "- mechanisation: 0.27$\n",
    "- Assembly and packaging: 0.20$\n",
    "The unit sales price is 1.97$.\n",
    "\n",
    "Each unit of product P1 requires 6 min of smelting time (if performed at PRODA, S.A.), 6 min of mechanisation time and 3 min of assembly and packaging time, respectively. For product P2, the times are 10, 3 and 2 min, respectively. One unit of product P3 needs 8 min of smelting time, 8 min of mechanisation and 2 min for assembly and packaging. PRODA, S.A. has weekly capacities of 8,000 min of smelting time, 12,000 min of mechanisation time and 10,000 min of assembly and packaging time.\n",
    "The objective is to maximize weekly profits.'''"
   ]
  },
  {
   "cell_type": "markdown",
   "id": "472cf9ad",
   "metadata": {},
   "source": [
    "## 2. Ask for parameters"
   ]
  },
  {
   "cell_type": "code",
   "execution_count": 647,
   "id": "e31ec80c",
   "metadata": {},
   "outputs": [],
   "source": [
    "#Initializing the session. To replicate, make sure the right credentials are saved in a PATH variable\n",
    "PROJECT_ID = \"llm4optproblems\"\n",
    "REGION = \"us-central1\"\n",
    "vertexai.init(project=PROJECT_ID, location=REGION)\n",
    "\n",
    "#Specifying the model\n",
    "generative_multimodal_model = GenerativeModel(\"gemini-1.5-pro-preview-0409\")\n",
    "\n",
    "#The propmt applied to all problems\n",
    "prompt = '''Please formulate only the variables for this mathematical optimization problem. \n",
    "'''\n",
    "\n",
    "#Generate the response\n",
    "response = generative_multimodal_model.generate_content([prompt+problem])\n"
   ]
  },
  {
   "cell_type": "code",
   "execution_count": 648,
   "id": "f9adc567",
   "metadata": {},
   "outputs": [
    {
     "data": {
      "text/markdown": [
       "## Variables:\n",
       "\n",
       "**Production Quantities:**\n",
       "\n",
       "*  **x1:**  Units of product P1 produced and sold weekly.\n",
       "*  **x2:** Units of product P2 produced and sold weekly.\n",
       "*  **x3:** Units of product P3 produced and sold weekly.\n",
       "\n",
       "**Subcontracting Quantities:**\n",
       "\n",
       "*  **s1:** Units of product P1 subcontracted for smelting weekly.\n",
       "*  **s2:** Units of product P2 subcontracted for smelting weekly. \n"
      ],
      "text/plain": [
       "<IPython.core.display.Markdown object>"
      ]
     },
     "execution_count": 648,
     "metadata": {},
     "output_type": "execute_result"
    }
   ],
   "source": [
    "#Show the resopnse in a formatted way\n",
    "Markdown(response.text)"
   ]
  },
  {
   "cell_type": "markdown",
   "id": "15d9e89f",
   "metadata": {},
   "source": [
    "# 2. Ask for objective"
   ]
  },
  {
   "cell_type": "code",
   "execution_count": 649,
   "id": "4f357a19",
   "metadata": {},
   "outputs": [],
   "source": [
    "#Second prompt gets the output of the previous step and generates the code\n",
    "prompt2 = \"Please formulate only the objective function for this mathematical optimization problem.\"\n",
    "prompt2 += problem + response.text\n",
    "response2 = generative_multimodal_model.generate_content([prompt2])"
   ]
  },
  {
   "cell_type": "code",
   "execution_count": 650,
   "id": "bccd1014",
   "metadata": {},
   "outputs": [
    {
     "data": {
      "text/markdown": [
       "**Objective Function (Maximize Weekly Profits):**\n",
       "\n",
       "```\n",
       "Maximize: \n",
       "  (1.50 - 0.30 - 0.20 - 0.30) * (x1 - s1) +  // Profit from P1 produced in-house\n",
       "  (1.50 - 0.50 - 0.20 - 0.30) * s1 +          // Profit from P1 subcontracted\n",
       "  (1.80 - 0.50 - 0.10 - 0.20) * (x2 - s2) +  // Profit from P2 produced in-house\n",
       "  (1.80 - 0.60 - 0.10 - 0.20) * s2 +          // Profit from P2 subcontracted \n",
       "  (1.97 - 0.40 - 0.27 - 0.20) * x3             // Profit from P3 (no subcontracting) \n",
       "```\n",
       "\n",
       "**Explanation:**\n",
       "\n",
       "The objective function calculates the total profit by summing the profit contributions from each product. \n",
       "\n",
       "* **Profit per unit:** Calculated as (selling price - cost of smelting - cost of mechanization - cost of assembly & packaging).\n",
       "* **Subcontracting:**  The function considers both in-house production (x1 - s1) and subcontracted production (s1) for P1 and P2 to account for the different cost structures.\n",
       "\n",
       "This objective function will be maximized subject to various constraints (not asked for in this question) related to production capacity, subcontracting limits, and non-negative production quantities. \n"
      ],
      "text/plain": [
       "<IPython.core.display.Markdown object>"
      ]
     },
     "execution_count": 650,
     "metadata": {},
     "output_type": "execute_result"
    }
   ],
   "source": [
    "Markdown(response2.text)"
   ]
  },
  {
   "cell_type": "markdown",
   "id": "d8ab1404",
   "metadata": {},
   "source": [
    "# 3. Ask for constraints"
   ]
  },
  {
   "cell_type": "code",
   "execution_count": 651,
   "id": "e6409951",
   "metadata": {},
   "outputs": [],
   "source": [
    "#Second prompt gets the output of the previous step and generates the code\n",
    "prompt3 = \"Please formulate only the constraints for this mathematical optimization problem.\"\n",
    "prompt3 += problem + response.text + response2.text\n",
    "response3 = generative_multimodal_model.generate_content([prompt3])"
   ]
  },
  {
   "cell_type": "code",
   "execution_count": 652,
   "id": "2f9439c2",
   "metadata": {},
   "outputs": [
    {
     "data": {
      "text/markdown": [
       "## Constraints:\n",
       "\n",
       "**1. Production Capacity Constraints:**\n",
       "\n",
       "* **Smelting Capacity:**\n",
       "   *  6(x1 - s1) + 10(x2 - s2) + 8x3 ≤ 8000  (minutes) \n",
       "* **Mechanisation Capacity:**\n",
       "   * 6x1 + 3x2 + 8x3 ≤ 12000 (minutes)\n",
       "* **Assembly and Packaging Capacity:**\n",
       "   * 3x1 + 2x2 + 2x3 ≤ 10000 (minutes)\n",
       "\n",
       "**2. Subcontracting Constraints:**\n",
       "\n",
       "* **Subcontracted Smelting Cannot Exceed Production:**\n",
       "   * s1 ≤ x1 \n",
       "   * s2 ≤ x2\n",
       "\n",
       "**3. Non-Negativity Constraints:**\n",
       "\n",
       "* x1, x2, x3, s1, s2 ≥ 0 \n"
      ],
      "text/plain": [
       "<IPython.core.display.Markdown object>"
      ]
     },
     "execution_count": 652,
     "metadata": {},
     "output_type": "execute_result"
    }
   ],
   "source": [
    "Markdown(response3.text)"
   ]
  },
  {
   "cell_type": "markdown",
   "id": "75796979",
   "metadata": {},
   "source": [
    "## 3. Generate the pyomo code"
   ]
  },
  {
   "cell_type": "code",
   "execution_count": 653,
   "id": "aabea932",
   "metadata": {},
   "outputs": [],
   "source": [
    "#Second prompt gets the output of the previous step and generates the code\n",
    "prompt4 = \"Please write pyomo code for this mathematical problem. Use sample data where needed. Indicate where you use sample data. \\n\"\n",
    "prompt4 += response.text + response2.text + response3.text \n",
    "response4 = generative_multimodal_model.generate_content([prompt4])"
   ]
  },
  {
   "cell_type": "code",
   "execution_count": 654,
   "id": "25131dc7",
   "metadata": {
    "scrolled": false
   },
   "outputs": [
    {
     "data": {
      "text/markdown": [
       "```python\n",
       "import pyomo.environ as pyo\n",
       "\n",
       "# Create a Concrete Model\n",
       "model = pyo.ConcreteModel()\n",
       "\n",
       "# Define Variables\n",
       "model.x1 = pyo.Var(within=pyo.NonNegativeReals)  # Units of P1 produced and sold\n",
       "model.x2 = pyo.Var(within=pyo.NonNegativeReals)  # Units of P2 produced and sold\n",
       "model.x3 = pyo.Var(within=pyo.NonNegativeReals)  # Units of P3 produced and sold\n",
       "model.s1 = pyo.Var(within=pyo.NonNegativeReals)  # Units of P1 subcontracted for smelting\n",
       "model.s2 = pyo.Var(within=pyo.NonNegativeReals)  # Units of P2 subcontracted for smelting\n",
       "\n",
       "# Objective Function\n",
       "model.profit = pyo.Objective(\n",
       "    expr= (1.50 - 0.30 - 0.20 - 0.30) * (model.x1 - model.s1) + \n",
       "          (1.50 - 0.50 - 0.20 - 0.30) * model.s1 + \n",
       "          (1.80 - 0.50 - 0.10 - 0.20) * (model.x2 - model.s2) + \n",
       "          (1.80 - 0.60 - 0.10 - 0.20) * model.s2 + \n",
       "          (1.97 - 0.40 - 0.27 - 0.20) * model.x3, \n",
       "    sense=pyo.maximize\n",
       ")\n",
       "\n",
       "# Constraints\n",
       "model.smelting_capacity = pyo.Constraint(\n",
       "    expr= 6*(model.x1 - model.s1) + 10*(model.x2 - model.s2) + 8*model.x3 <= 8000\n",
       ")\n",
       "\n",
       "model.mechanization_capacity = pyo.Constraint(\n",
       "    expr= 6*model.x1 + 3*model.x2 + 8*model.x3 <= 12000\n",
       ")\n",
       "\n",
       "model.assembly_capacity = pyo.Constraint(\n",
       "    expr= 3*model.x1 + 2*model.x2 + 2*model.x3 <= 10000\n",
       ")\n",
       "\n",
       "model.subcontracting_p1 = pyo.Constraint(\n",
       "    expr= model.s1 <= model.x1\n",
       ")\n",
       "\n",
       "model.subcontracting_p2 = pyo.Constraint(\n",
       "    expr= model.s2 <= model.x2\n",
       ")\n",
       "\n",
       "# Solve the Model\n",
       "solver = pyo.SolverFactory('glpk')  # You can choose a different solver if needed\n",
       "solver.solve(model)\n",
       "\n",
       "# Print the Results\n",
       "print(\"Optimal Solution:\")\n",
       "print(f\"Produce and sell {model.x1()} units of P1\")\n",
       "print(f\"Produce and sell {model.x2()} units of P2\")\n",
       "print(f\"Produce and sell {model.x3()} units of P3\")\n",
       "print(f\"Subcontract {model.s1()} units of P1 for smelting\")\n",
       "print(f\"Subcontract {model.s2()} units of P2 for smelting\")\n",
       "print(f\"Maximum Weekly Profit: ${model.profit()}\") \n",
       "``` \n"
      ],
      "text/plain": [
       "<IPython.core.display.Markdown object>"
      ]
     },
     "execution_count": 654,
     "metadata": {},
     "output_type": "execute_result"
    }
   ],
   "source": [
    "## Showing the code in a formatted way\n",
    "Markdown(response4.text)"
   ]
  },
  {
   "cell_type": "markdown",
   "id": "b60756ae",
   "metadata": {},
   "source": [
    "## 4. Input problem data and try running the generated code"
   ]
  },
  {
   "cell_type": "code",
   "execution_count": 655,
   "id": "2eda3387",
   "metadata": {},
   "outputs": [
    {
     "name": "stdout",
     "output_type": "stream",
     "text": [
      "Optimal Solution:\n",
      "Produce and sell 0.0 units of P1\n",
      "Produce and sell 4000.0 units of P2\n",
      "Produce and sell 0.0 units of P3\n",
      "Subcontract 0.0 units of P1 for smelting\n",
      "Subcontract 3200.0 units of P2 for smelting\n",
      "Maximum Weekly Profit: $3680.0000000000005\n"
     ]
    }
   ],
   "source": [
    "import pyomo.environ as pyo\n",
    "\n",
    "# Create a Concrete Model\n",
    "model = pyo.ConcreteModel()\n",
    "\n",
    "# Define Variables\n",
    "model.x1 = pyo.Var(within=pyo.NonNegativeReals)  # Units of P1 produced and sold\n",
    "model.x2 = pyo.Var(within=pyo.NonNegativeReals)  # Units of P2 produced and sold\n",
    "model.x3 = pyo.Var(within=pyo.NonNegativeReals)  # Units of P3 produced and sold\n",
    "model.s1 = pyo.Var(within=pyo.NonNegativeReals)  # Units of P1 subcontracted for smelting\n",
    "model.s2 = pyo.Var(within=pyo.NonNegativeReals)  # Units of P2 subcontracted for smelting\n",
    "\n",
    "# Objective Function\n",
    "model.profit = pyo.Objective(\n",
    "    expr= (1.50 - 0.30 - 0.20 - 0.30) * (model.x1 - model.s1) + \n",
    "          (1.50 - 0.50 - 0.20 - 0.30) * model.s1 + \n",
    "          (1.80 - 0.50 - 0.10 - 0.20) * (model.x2 - model.s2) + \n",
    "          (1.80 - 0.60 - 0.10 - 0.20) * model.s2 + \n",
    "          (1.97 - 0.40 - 0.27 - 0.20) * model.x3, \n",
    "    sense=pyo.maximize\n",
    ")\n",
    "\n",
    "# Constraints\n",
    "model.smelting_capacity = pyo.Constraint(\n",
    "    expr= 6*(model.x1 - model.s1) + 10*(model.x2 - model.s2) + 8*model.x3 <= 8000\n",
    ")\n",
    "\n",
    "model.mechanization_capacity = pyo.Constraint(\n",
    "    expr= 6*model.x1 + 3*model.x2 + 8*model.x3 <= 12000\n",
    ")\n",
    "\n",
    "model.assembly_capacity = pyo.Constraint(\n",
    "    expr= 3*model.x1 + 2*model.x2 + 2*model.x3 <= 10000\n",
    ")\n",
    "\n",
    "model.subcontracting_p1 = pyo.Constraint(\n",
    "    expr= model.s1 <= model.x1\n",
    ")\n",
    "\n",
    "model.subcontracting_p2 = pyo.Constraint(\n",
    "    expr= model.s2 <= model.x2\n",
    ")\n",
    "\n",
    "# Solve the Model\n",
    "solver = pyo.SolverFactory('glpk')  # You can choose a different solver if needed\n",
    "solver.solve(model)\n",
    "\n",
    "# Print the Results\n",
    "print(\"Optimal Solution:\")\n",
    "print(f\"Produce and sell {model.x1()} units of P1\")\n",
    "print(f\"Produce and sell {model.x2()} units of P2\")\n",
    "print(f\"Produce and sell {model.x3()} units of P3\")\n",
    "print(f\"Subcontract {model.s1()} units of P1 for smelting\")\n",
    "print(f\"Subcontract {model.s2()} units of P2 for smelting\")\n",
    "print(f\"Maximum Weekly Profit: ${model.profit()}\") "
   ]
  },
  {
   "cell_type": "code",
   "execution_count": null,
   "id": "1370f8f1",
   "metadata": {},
   "outputs": [],
   "source": []
  },
  {
   "cell_type": "code",
   "execution_count": null,
   "id": "41ed7d93",
   "metadata": {},
   "outputs": [],
   "source": []
  },
  {
   "cell_type": "markdown",
   "id": "1be0926e",
   "metadata": {},
   "source": [
    "## 5. Correct the code to verify model viability (optional)"
   ]
  },
  {
   "cell_type": "code",
   "execution_count": null,
   "id": "8b37acfc",
   "metadata": {},
   "outputs": [],
   "source": []
  },
  {
   "cell_type": "code",
   "execution_count": null,
   "id": "d2f7827a",
   "metadata": {
    "scrolled": false
   },
   "outputs": [],
   "source": []
  },
  {
   "cell_type": "markdown",
   "id": "6640ecc8",
   "metadata": {},
   "source": [
    "## 6. Print the responses"
   ]
  },
  {
   "cell_type": "code",
   "execution_count": 656,
   "id": "01145dcf",
   "metadata": {},
   "outputs": [
    {
     "name": "stdout",
     "output_type": "stream",
     "text": [
      "## Variables:\n",
      "\n",
      "**Production Quantities:**\n",
      "\n",
      "*  **x1:**  Units of product P1 produced and sold weekly.\n",
      "*  **x2:** Units of product P2 produced and sold weekly.\n",
      "*  **x3:** Units of product P3 produced and sold weekly.\n",
      "\n",
      "**Subcontracting Quantities:**\n",
      "\n",
      "*  **s1:** Units of product P1 subcontracted for smelting weekly.\n",
      "*  **s2:** Units of product P2 subcontracted for smelting weekly. \n",
      "\n"
     ]
    }
   ],
   "source": [
    "print(response.text)"
   ]
  },
  {
   "cell_type": "code",
   "execution_count": 657,
   "id": "8d72a109",
   "metadata": {},
   "outputs": [
    {
     "name": "stdout",
     "output_type": "stream",
     "text": [
      "**Objective Function (Maximize Weekly Profits):**\n",
      "\n",
      "```\n",
      "Maximize: \n",
      "  (1.50 - 0.30 - 0.20 - 0.30) * (x1 - s1) +  // Profit from P1 produced in-house\n",
      "  (1.50 - 0.50 - 0.20 - 0.30) * s1 +          // Profit from P1 subcontracted\n",
      "  (1.80 - 0.50 - 0.10 - 0.20) * (x2 - s2) +  // Profit from P2 produced in-house\n",
      "  (1.80 - 0.60 - 0.10 - 0.20) * s2 +          // Profit from P2 subcontracted \n",
      "  (1.97 - 0.40 - 0.27 - 0.20) * x3             // Profit from P3 (no subcontracting) \n",
      "```\n",
      "\n",
      "**Explanation:**\n",
      "\n",
      "The objective function calculates the total profit by summing the profit contributions from each product. \n",
      "\n",
      "* **Profit per unit:** Calculated as (selling price - cost of smelting - cost of mechanization - cost of assembly & packaging).\n",
      "* **Subcontracting:**  The function considers both in-house production (x1 - s1) and subcontracted production (s1) for P1 and P2 to account for the different cost structures.\n",
      "\n",
      "This objective function will be maximized subject to various constraints (not asked for in this question) related to production capacity, subcontracting limits, and non-negative production quantities. \n",
      "\n"
     ]
    }
   ],
   "source": [
    "print(response2.text)"
   ]
  },
  {
   "cell_type": "code",
   "execution_count": 658,
   "id": "7c2dd5e0",
   "metadata": {},
   "outputs": [
    {
     "name": "stdout",
     "output_type": "stream",
     "text": [
      "## Constraints:\n",
      "\n",
      "**1. Production Capacity Constraints:**\n",
      "\n",
      "* **Smelting Capacity:**\n",
      "   *  6(x1 - s1) + 10(x2 - s2) + 8x3 ≤ 8000  (minutes) \n",
      "* **Mechanisation Capacity:**\n",
      "   * 6x1 + 3x2 + 8x3 ≤ 12000 (minutes)\n",
      "* **Assembly and Packaging Capacity:**\n",
      "   * 3x1 + 2x2 + 2x3 ≤ 10000 (minutes)\n",
      "\n",
      "**2. Subcontracting Constraints:**\n",
      "\n",
      "* **Subcontracted Smelting Cannot Exceed Production:**\n",
      "   * s1 ≤ x1 \n",
      "   * s2 ≤ x2\n",
      "\n",
      "**3. Non-Negativity Constraints:**\n",
      "\n",
      "* x1, x2, x3, s1, s2 ≥ 0 \n",
      "\n"
     ]
    }
   ],
   "source": [
    "print(response3.text)"
   ]
  },
  {
   "cell_type": "code",
   "execution_count": 659,
   "id": "7991a5e6",
   "metadata": {},
   "outputs": [
    {
     "name": "stdout",
     "output_type": "stream",
     "text": [
      "```python\n",
      "import pyomo.environ as pyo\n",
      "\n",
      "# Create a Concrete Model\n",
      "model = pyo.ConcreteModel()\n",
      "\n",
      "# Define Variables\n",
      "model.x1 = pyo.Var(within=pyo.NonNegativeReals)  # Units of P1 produced and sold\n",
      "model.x2 = pyo.Var(within=pyo.NonNegativeReals)  # Units of P2 produced and sold\n",
      "model.x3 = pyo.Var(within=pyo.NonNegativeReals)  # Units of P3 produced and sold\n",
      "model.s1 = pyo.Var(within=pyo.NonNegativeReals)  # Units of P1 subcontracted for smelting\n",
      "model.s2 = pyo.Var(within=pyo.NonNegativeReals)  # Units of P2 subcontracted for smelting\n",
      "\n",
      "# Objective Function\n",
      "model.profit = pyo.Objective(\n",
      "    expr= (1.50 - 0.30 - 0.20 - 0.30) * (model.x1 - model.s1) + \n",
      "          (1.50 - 0.50 - 0.20 - 0.30) * model.s1 + \n",
      "          (1.80 - 0.50 - 0.10 - 0.20) * (model.x2 - model.s2) + \n",
      "          (1.80 - 0.60 - 0.10 - 0.20) * model.s2 + \n",
      "          (1.97 - 0.40 - 0.27 - 0.20) * model.x3, \n",
      "    sense=pyo.maximize\n",
      ")\n",
      "\n",
      "# Constraints\n",
      "model.smelting_capacity = pyo.Constraint(\n",
      "    expr= 6*(model.x1 - model.s1) + 10*(model.x2 - model.s2) + 8*model.x3 <= 8000\n",
      ")\n",
      "\n",
      "model.mechanization_capacity = pyo.Constraint(\n",
      "    expr= 6*model.x1 + 3*model.x2 + 8*model.x3 <= 12000\n",
      ")\n",
      "\n",
      "model.assembly_capacity = pyo.Constraint(\n",
      "    expr= 3*model.x1 + 2*model.x2 + 2*model.x3 <= 10000\n",
      ")\n",
      "\n",
      "model.subcontracting_p1 = pyo.Constraint(\n",
      "    expr= model.s1 <= model.x1\n",
      ")\n",
      "\n",
      "model.subcontracting_p2 = pyo.Constraint(\n",
      "    expr= model.s2 <= model.x2\n",
      ")\n",
      "\n",
      "# Solve the Model\n",
      "solver = pyo.SolverFactory('glpk')  # You can choose a different solver if needed\n",
      "solver.solve(model)\n",
      "\n",
      "# Print the Results\n",
      "print(\"Optimal Solution:\")\n",
      "print(f\"Produce and sell {model.x1()} units of P1\")\n",
      "print(f\"Produce and sell {model.x2()} units of P2\")\n",
      "print(f\"Produce and sell {model.x3()} units of P3\")\n",
      "print(f\"Subcontract {model.s1()} units of P1 for smelting\")\n",
      "print(f\"Subcontract {model.s2()} units of P2 for smelting\")\n",
      "print(f\"Maximum Weekly Profit: ${model.profit()}\") \n",
      "``` \n",
      "\n"
     ]
    }
   ],
   "source": [
    "print(response4.text)"
   ]
  },
  {
   "cell_type": "code",
   "execution_count": null,
   "id": "e426c7a5",
   "metadata": {},
   "outputs": [],
   "source": []
  }
 ],
 "metadata": {
  "kernelspec": {
   "display_name": "Python 3 (ipykernel)",
   "language": "python",
   "name": "python3"
  },
  "language_info": {
   "codemirror_mode": {
    "name": "ipython",
    "version": 3
   },
   "file_extension": ".py",
   "mimetype": "text/x-python",
   "name": "python",
   "nbconvert_exporter": "python",
   "pygments_lexer": "ipython3",
   "version": "3.11.4"
  }
 },
 "nbformat": 4,
 "nbformat_minor": 5
}
