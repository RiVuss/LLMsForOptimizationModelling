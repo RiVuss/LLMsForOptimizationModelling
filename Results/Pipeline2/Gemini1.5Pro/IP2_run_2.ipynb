{
 "cells": [
  {
   "cell_type": "markdown",
   "id": "f0005e9e",
   "metadata": {},
   "source": [
    "# LLM Optimization Modelling Experiment"
   ]
  },
  {
   "cell_type": "code",
   "execution_count": 1,
   "id": "7f664028",
   "metadata": {},
   "outputs": [],
   "source": [
    "import vertexai\n",
    "from vertexai.preview.generative_models import GenerativeModel, Image\n",
    "from IPython.display import Markdown"
   ]
  },
  {
   "cell_type": "markdown",
   "id": "f527d6af",
   "metadata": {},
   "source": [
    "## 1. Define the problem description"
   ]
  },
  {
   "cell_type": "code",
   "execution_count": 260,
   "id": "25055ffd",
   "metadata": {},
   "outputs": [],
   "source": [
    "problem = '''Your goal is to invest in several of 10 possible investment strategies in the most optimal way. The historic returns of those strategies are stored in the file \"investments_data.csv\". Each column represents one strategy and the rows are the past investment outcomes. There is no index and the values are separated by a ;.\n",
    "\n",
    "The costs for investing in a given investment is stored in a vector A, which has one value for each strategy in order.  \n",
    "The values are: [80, 340, 410, 50, 180, 221, 15, 348, 191, 225]\n",
    "\n",
    "You can only invest once into an investment. \n",
    "\n",
    "Unfortunately due to other costs and inflation, your available budget at this time is uncertain. There are four possible budget scenarios with different probabilities: scenario 1 with 1000 euros and probability of 0.55, scenario 2  with 1100 euros and probability of 0.4, scenario 3 with 900 euros and probability of 0.04, scenario 4 with 1200 euros and probability of 0.01. \n",
    "The tolerable probability of exceeding the budget is 0.4.\n",
    "\n",
    "Please formulate a mean-variance mathematical model for this optimization problem, considering the past performance of investment strategies and the uncertain budget. You can take 2 as the risk parameter r.'''"
   ]
  },
  {
   "cell_type": "markdown",
   "id": "472cf9ad",
   "metadata": {},
   "source": [
    "## 2. Ask for parameters"
   ]
  },
  {
   "cell_type": "code",
   "execution_count": 284,
   "id": "e31ec80c",
   "metadata": {},
   "outputs": [],
   "source": [
    "#Initializing the session. To replicate, make sure the right credentials are saved in a PATH variable\n",
    "PROJECT_ID = \"llm4optproblems\"\n",
    "REGION = \"us-central1\"\n",
    "vertexai.init(project=PROJECT_ID, location=REGION)\n",
    "\n",
    "#Specifying the model\n",
    "generative_multimodal_model = GenerativeModel(\"gemini-1.5-pro-preview-0409\")\n",
    "\n",
    "#The propmt applied to all problems\n",
    "prompt = '''Please formulate only the variables for this mathematical optimization problem. \n",
    "'''\n",
    "\n",
    "#Generate the response\n",
    "response = generative_multimodal_model.generate_content([prompt+problem])\n"
   ]
  },
  {
   "cell_type": "code",
   "execution_count": 285,
   "id": "f9adc567",
   "metadata": {},
   "outputs": [
    {
     "data": {
      "text/markdown": [
       "## Variables:\n",
       "\n",
       "*  **x<sub>j</sub>:** Binary variable indicating whether to invest in strategy j (1) or not (0), where j = 1, 2, ..., 10.\n",
       "* **y<sub>i</sub>:** Binary variable indicating whether budget scenario i occurs (1) or not (0), where i = 1, 2, 3, 4. \n"
      ],
      "text/plain": [
       "<IPython.core.display.Markdown object>"
      ]
     },
     "execution_count": 285,
     "metadata": {},
     "output_type": "execute_result"
    }
   ],
   "source": [
    "#Show the resopnse in a formatted way\n",
    "Markdown(response.text)"
   ]
  },
  {
   "cell_type": "markdown",
   "id": "15d9e89f",
   "metadata": {},
   "source": [
    "# 2. Ask for objective"
   ]
  },
  {
   "cell_type": "code",
   "execution_count": 286,
   "id": "4f357a19",
   "metadata": {},
   "outputs": [],
   "source": [
    "#Second prompt gets the output of the previous step and generates the code\n",
    "prompt2 = \"Please formulate only the objective function for this mathematical optimization problem.\"\n",
    "prompt2 += problem + response.text\n",
    "response2 = generative_multimodal_model.generate_content([prompt2])"
   ]
  },
  {
   "cell_type": "code",
   "execution_count": 287,
   "id": "bccd1014",
   "metadata": {},
   "outputs": [
    {
     "data": {
      "text/markdown": [
       "$$\\max  \\sum_{t=1}^{T} \\frac{1}{T} [\\sum_{j=1}^{10}  (R_{tj} * x_j)] - r *  \\sum_{t=1}^{T} \\frac{1}{T}  [(\\sum_{j=1}^{10}  (R_{tj} * x_j) - \\sum_{t=1}^{T} \\frac{1}{T} [\\sum_{j=1}^{10}  (R_{tj} * x_j)])^2]  $$ \n"
      ],
      "text/plain": [
       "<IPython.core.display.Markdown object>"
      ]
     },
     "execution_count": 287,
     "metadata": {},
     "output_type": "execute_result"
    }
   ],
   "source": [
    "Markdown(response2.text)"
   ]
  },
  {
   "cell_type": "markdown",
   "id": "d8ab1404",
   "metadata": {},
   "source": [
    "# 3. Ask for constraints"
   ]
  },
  {
   "cell_type": "code",
   "execution_count": 288,
   "id": "e6409951",
   "metadata": {},
   "outputs": [],
   "source": [
    "#Second prompt gets the output of the previous step and generates the code\n",
    "prompt3 = \"Please formulate only the constraints for this mathematical optimization problem.\"\n",
    "prompt3 += problem + response.text + response2.text\n",
    "response3 = generative_multimodal_model.generate_content([prompt3])"
   ]
  },
  {
   "cell_type": "code",
   "execution_count": 289,
   "id": "2f9439c2",
   "metadata": {},
   "outputs": [
    {
     "data": {
      "text/markdown": [
       "## Constraints:\n",
       "\n",
       "1. **Budget Constraint:**\n",
       "   -  For each scenario i: \n",
       "      ∑<sub>j=1</sub><sup>10</sup> A<sub>j</sub> * x<sub>j</sub>  ≤  B<sub>i</sub> * y<sub>i</sub>  \n",
       "      where B<sub>i</sub> represents the budget for scenario i (1000, 1100, 900, 1200).\n",
       "\n",
       "2. **Scenario Selection:** Only one budget scenario can occur:\n",
       "   - ∑<sub>i=1</sub><sup>4</sup> y<sub>i</sub> = 1\n",
       "\n",
       "3. **Investment Uniqueness:** Invest in each strategy only once:\n",
       "   - x<sub>j</sub> ∈ {0, 1} for j = 1, 2, ..., 10\n",
       "\n",
       "4. **Scenario Probability:** Ensure the probability of exceeding the budget is within the tolerable limit:\n",
       "   - 0.55y<sub>1</sub> + 0.4y<sub>2</sub> + 0.04y<sub>3</sub> + 0.01y<sub>4</sub>  ≤  0.4 \n",
       "\n",
       "5. **Scenario Binary:**\n",
       "   - y<sub>i</sub> ∈ {0, 1} for i = 1, 2, 3, 4 \n"
      ],
      "text/plain": [
       "<IPython.core.display.Markdown object>"
      ]
     },
     "execution_count": 289,
     "metadata": {},
     "output_type": "execute_result"
    }
   ],
   "source": [
    "Markdown(response3.text)"
   ]
  },
  {
   "cell_type": "code",
   "execution_count": null,
   "id": "07ba7f01",
   "metadata": {},
   "outputs": [],
   "source": []
  },
  {
   "cell_type": "markdown",
   "id": "75796979",
   "metadata": {},
   "source": [
    "## 3. Generate the pyomo code"
   ]
  },
  {
   "cell_type": "code",
   "execution_count": 290,
   "id": "aabea932",
   "metadata": {},
   "outputs": [],
   "source": [
    "#Second prompt gets the output of the previous step and generates the code\n",
    "prompt4 = \"Please write pyomo code for this mathematical problem. Use sample data where needed. Indicate where you use sample data. \\n\"\n",
    "prompt4 += response.text + response2.text + response3.text \n",
    "response4 = generative_multimodal_model.generate_content([prompt4])"
   ]
  },
  {
   "cell_type": "code",
   "execution_count": 291,
   "id": "fd2835af",
   "metadata": {},
   "outputs": [
    {
     "data": {
      "text/markdown": [
       "```python\n",
       "import pyomo.environ as pyo\n",
       "import random\n",
       "\n",
       "# Sample data for T and R_tj (You'll need to replace these with your actual data)\n",
       "T = 5 \n",
       "R = {(t,j): random.randint(50, 150) for t in range(1, T+1) for j in range(1, 11)}  \n",
       "r = 0.05  # Sample risk aversion coefficient\n",
       "\n",
       "# Model\n",
       "model = pyo.ConcreteModel()\n",
       "\n",
       "# Sets\n",
       "model.J = pyo.RangeSet(1, 10)  # Strategies\n",
       "model.I = pyo.RangeSet(1, 4)   # Budget scenarios\n",
       "model.T = pyo.RangeSet(1, T)   # Time periods \n",
       "\n",
       "# Parameters\n",
       "model.A = {j: random.randint(50, 150) for j in model.J}  # Investment cost for each strategy (sample data)\n",
       "model.B = {1: 1000, 2: 1100, 3: 900, 4: 1200}  # Budget for each scenario\n",
       "model.R = pyo.Param(model.T, model.J, initialize=R) # Returns\n",
       "model.r = pyo.Param(initialize=r)\n",
       "\n",
       "# Variables\n",
       "model.x = pyo.Var(model.J, within=pyo.Binary)  # Investment decisions\n",
       "model.y = pyo.Var(model.I, within=pyo.Binary)  # Budget scenario occurrence\n",
       "\n",
       "# Objective function\n",
       "def objective_rule(model):\n",
       "    expected_return = sum(1/T * sum(model.R[t, j] * model.x[j] for j in model.J) for t in model.T)\n",
       "    risk = model.r * sum(1/T * (sum(model.R[t, j] * model.x[j] for j in model.J) - expected_return)**2 for t in model.T)\n",
       "    return expected_return - risk\n",
       "model.objective = pyo.Objective(rule=objective_rule, sense=pyo.maximize)\n",
       "\n",
       "# Constraints\n",
       "def budget_constraint(model, i):\n",
       "    return sum(model.A[j] * model.x[j] for j in model.J) <= model.B[i] * model.y[i]\n",
       "model.budget_constraint = pyo.Constraint(model.I, rule=budget_constraint)\n",
       "\n",
       "def scenario_selection(model):\n",
       "    return sum(model.y[i] for i in model.I) == 1\n",
       "model.scenario_selection = pyo.Constraint(rule=scenario_selection)\n",
       "\n",
       "def probability_constraint(model):\n",
       "    return 0.55*model.y[1] + 0.4*model.y[2] + 0.04*model.y[3] + 0.01*model.y[4] <= 0.4\n",
       "model.probability_constraint = pyo.Constraint(rule=probability_constraint)\n",
       "\n",
       "# Solve\n",
       "solver = pyo.SolverFactory('gurobi')  # Choose a solver you have installed\n",
       "solver.solve(model)\n",
       "\n",
       "# Output\n",
       "print(\"Optimal Solution:\")\n",
       "for j in model.J:\n",
       "    print(f\"x[{j}] = {pyo.value(model.x[j])}\")\n",
       "for i in model.I:\n",
       "    print(f\"y[{i}] = {pyo.value(model.y[i])}\")\n",
       "print(f\"Objective Value: {pyo.value(model.objective)}\") \n",
       "```\n",
       "\n",
       "**Explanation and Sample Data:**\n",
       "\n",
       "1. **Sample Data:**\n",
       "   - `T = 5`:  Assume 5 time periods. You'll replace this with your actual number of periods.\n",
       "   - `R = {(t,j): random.randint(50, 150) for t in range(1, T+1) for j in range(1, 11)}`: Generates random return values between 50 and 150 for each time period and strategy. Replace this with your actual return data.\n",
       "   - `r = 0.05`: Sample risk aversion coefficient. Adjust based on your preferences.\n",
       "   - `model.A = {j: random.randint(50, 150) for j in model.J}`: Randomly generated investment costs for each strategy. \n",
       "\n",
       "2. **Code Structure:**\n",
       "   - **Import Necessary Libraries:** Import `pyomo` for modeling and a solver library (like `gurobi`).\n",
       "   - **Create a Model:**  `model = pyo.ConcreteModel()` initializes an optimization model.\n",
       "   - **Define Sets:** Define sets for strategies (`J`), budget scenarios (`I`), and time periods (`T`).\n",
       "   - **Define Parameters:** \n",
       "     - Use `pyo.Param()` to define parameters like investment costs (`A`), budget levels (`B`), returns (`R`), and the risk aversion coefficient (`r`).\n",
       "   - **Define Variables:**\n",
       "     - Use `pyo.Var(..., within=pyo.Binary)` to define binary variables for investment decisions (`x`) and budget scenario occurrence (`y`).\n",
       "   - **Define the Objective Function:**\n",
       "     - Create a function `objective_rule(model)` to calculate the objective (expected return minus risk).\n",
       "     - Use `pyo.Objective()` to set this function as the objective and specify maximization.\n",
       "   - **Define Constraints:**\n",
       "     - Create functions for each constraint (budget, scenario selection, probability).\n",
       "     - Use `pyo.Constraint()` to add these constraints to the model.\n",
       "   - **Solve the Model:**\n",
       "     - Choose a solver (e.g., 'gurobi') using `pyo.SolverFactory()`.\n",
       "     - Solve the model using `solver.solve(model)`.\n",
       "   - **Print the Solution:**\n",
       "     - Access and print the optimal values of variables and the objective function using `pyo.value()`.\n",
       "\n",
       "Remember to install the necessary solver (e.g., Gurobi) and replace sample data with your actual data. \n"
      ],
      "text/plain": [
       "<IPython.core.display.Markdown object>"
      ]
     },
     "execution_count": 291,
     "metadata": {},
     "output_type": "execute_result"
    }
   ],
   "source": [
    "#Showing the code in a formatted way\n",
    "Markdown(response4.text)"
   ]
  },
  {
   "cell_type": "markdown",
   "id": "b60756ae",
   "metadata": {},
   "source": [
    "## 4. Input problem data and try running the generated code"
   ]
  },
  {
   "cell_type": "code",
   "execution_count": 294,
   "id": "41ed7d93",
   "metadata": {},
   "outputs": [
    {
     "name": "stdout",
     "output_type": "stream",
     "text": [
      "Optimal Solution:\n",
      "x[1] = 0.8674393130825288\n",
      "x[2] = 0.0\n",
      "x[3] = 0.0\n",
      "x[4] = 0.0\n",
      "x[5] = 0.0\n",
      "x[6] = 0.8826378357043664\n",
      "x[7] = 0.0\n",
      "x[8] = 1.0\n",
      "x[9] = 0.0\n",
      "x[10] = 0.7079350806207348\n",
      "y[1] = 0.2595019659236161\n",
      "y[2] = 0.23591087811325903\n",
      "y[3] = 0.28833551769183\n",
      "y[4] = 0.21625163827129473\n",
      "Objective Value: 374.76842070327336\n"
     ]
    }
   ],
   "source": [
    "import pyomo.environ as pyo\n",
    "import random\n",
    "\n",
    "# Sample data for T and R_tj (You'll need to replace these with your actual data)\n",
    "T = 5 \n",
    "R = {(t,j): random.randint(50, 150) for t in range(1, T+1) for j in range(1, 11)}  \n",
    "r = 0.05  # Sample risk aversion coefficient\n",
    "\n",
    "# Model\n",
    "model = pyo.ConcreteModel()\n",
    "\n",
    "# Sets\n",
    "model.J = pyo.RangeSet(1, 10)  # Strategies\n",
    "model.I = pyo.RangeSet(1, 4)   # Budget scenarios\n",
    "model.T = pyo.RangeSet(1, T)   # Time periods \n",
    "\n",
    "# Parameters\n",
    "model.A = {j: random.randint(50, 150) for j in model.J}  # Investment cost for each strategy (sample data)\n",
    "model.B = {1: 1000, 2: 1100, 3: 900, 4: 1200}  # Budget for each scenario\n",
    "model.R = pyo.Param(model.T, model.J, initialize=R) # Returns\n",
    "model.r = pyo.Param(initialize=r)\n",
    "\n",
    "# Variables\n",
    "model.x = pyo.Var(model.J, within=pyo.Binary)  # Investment decisions\n",
    "model.y = pyo.Var(model.I, within=pyo.Binary)  # Budget scenario occurrence\n",
    "\n",
    "# Objective function\n",
    "def objective_rule(model):\n",
    "    expected_return = sum(1/T * sum(model.R[t, j] * model.x[j] for j in model.J) for t in model.T)\n",
    "    risk = model.r * sum(1/T * (sum(model.R[t, j] * model.x[j] for j in model.J) - expected_return)**2 for t in model.T)\n",
    "    return expected_return - risk\n",
    "model.objective = pyo.Objective(rule=objective_rule, sense=pyo.maximize)\n",
    "\n",
    "# Constraints\n",
    "def budget_constraint(model, i):\n",
    "    return sum(model.A[j] * model.x[j] for j in model.J) <= model.B[i] * model.y[i]\n",
    "model.budget_constraint = pyo.Constraint(model.I, rule=budget_constraint)\n",
    "\n",
    "def scenario_selection(model):\n",
    "    return sum(model.y[i] for i in model.I) == 1\n",
    "model.scenario_selection = pyo.Constraint(rule=scenario_selection)\n",
    "\n",
    "def probability_constraint(model):\n",
    "    return 0.55*model.y[1] + 0.4*model.y[2] + 0.04*model.y[3] + 0.01*model.y[4] <= 0.4\n",
    "model.probability_constraint = pyo.Constraint(rule=probability_constraint)\n",
    "\n",
    "# Solve\n",
    "solver = pyo.SolverFactory('ipopt')  # Choose a solver you have installed\n",
    "solver.solve(model)\n",
    "\n",
    "# Output\n",
    "print(\"Optimal Solution:\")\n",
    "for j in model.J:\n",
    "    print(f\"x[{j}] = {pyo.value(model.x[j])}\")\n",
    "for i in model.I:\n",
    "    print(f\"y[{i}] = {pyo.value(model.y[i])}\")\n",
    "print(f\"Objective Value: {pyo.value(model.objective)}\") "
   ]
  },
  {
   "cell_type": "markdown",
   "id": "1be0926e",
   "metadata": {},
   "source": [
    "## 5. Correct the code to verify model viability (optional)"
   ]
  },
  {
   "cell_type": "code",
   "execution_count": 295,
   "id": "8b37acfc",
   "metadata": {},
   "outputs": [],
   "source": [
    "# THE MODEL WAS RUN IN COLLAB WITH COUENNE AND THE RIGHT DATA TO VERIFY THE VIABILITY, BUT GAVE A WRONG OUTCOME.\n",
    "\n",
    "#CODE OUTPUT:\n",
    "# Saving investments_data.csv to investments_data (2).csv\n",
    "# Optimal Solution:\n",
    "# x[1] = 0.0\n",
    "# x[2] = 0.0\n",
    "# x[3] = 0.0\n",
    "# x[4] = 0.0\n",
    "# x[5] = 0.0\n",
    "# x[6] = 0.0\n",
    "# x[7] = 0.0\n",
    "# x[8] = 0.0\n",
    "# x[9] = 0.0\n",
    "# x[10] = 0.0\n",
    "# y[1] = 0.0\n",
    "# y[2] = 0.0\n",
    "# y[3] = 1.0\n",
    "# y[4] = 0.0\n",
    "# Objective Value: 0.0"
   ]
  },
  {
   "cell_type": "markdown",
   "id": "db19b058",
   "metadata": {},
   "source": [
    "## 6. Print the responses"
   ]
  },
  {
   "cell_type": "code",
   "execution_count": 300,
   "id": "9172ab9f",
   "metadata": {},
   "outputs": [
    {
     "name": "stdout",
     "output_type": "stream",
     "text": [
      "## Variables:\n",
      "\n",
      "*  **x<sub>j</sub>:** Binary variable indicating whether to invest in strategy j (1) or not (0), where j = 1, 2, ..., 10.\n",
      "* **y<sub>i</sub>:** Binary variable indicating whether budget scenario i occurs (1) or not (0), where i = 1, 2, 3, 4. \n",
      "\n"
     ]
    }
   ],
   "source": [
    "print(response.text)"
   ]
  },
  {
   "cell_type": "code",
   "execution_count": 301,
   "id": "79e568c9",
   "metadata": {},
   "outputs": [
    {
     "name": "stdout",
     "output_type": "stream",
     "text": [
      "$$\\max  \\sum_{t=1}^{T} \\frac{1}{T} [\\sum_{j=1}^{10}  (R_{tj} * x_j)] - r *  \\sum_{t=1}^{T} \\frac{1}{T}  [(\\sum_{j=1}^{10}  (R_{tj} * x_j) - \\sum_{t=1}^{T} \\frac{1}{T} [\\sum_{j=1}^{10}  (R_{tj} * x_j)])^2]  $$ \n",
      "\n"
     ]
    }
   ],
   "source": [
    "print(response2.text)"
   ]
  },
  {
   "cell_type": "code",
   "execution_count": 302,
   "id": "73fe9c07",
   "metadata": {},
   "outputs": [
    {
     "name": "stdout",
     "output_type": "stream",
     "text": [
      "## Constraints:\n",
      "\n",
      "1. **Budget Constraint:**\n",
      "   -  For each scenario i: \n",
      "      ∑<sub>j=1</sub><sup>10</sup> A<sub>j</sub> * x<sub>j</sub>  ≤  B<sub>i</sub> * y<sub>i</sub>  \n",
      "      where B<sub>i</sub> represents the budget for scenario i (1000, 1100, 900, 1200).\n",
      "\n",
      "2. **Scenario Selection:** Only one budget scenario can occur:\n",
      "   - ∑<sub>i=1</sub><sup>4</sup> y<sub>i</sub> = 1\n",
      "\n",
      "3. **Investment Uniqueness:** Invest in each strategy only once:\n",
      "   - x<sub>j</sub> ∈ {0, 1} for j = 1, 2, ..., 10\n",
      "\n",
      "4. **Scenario Probability:** Ensure the probability of exceeding the budget is within the tolerable limit:\n",
      "   - 0.55y<sub>1</sub> + 0.4y<sub>2</sub> + 0.04y<sub>3</sub> + 0.01y<sub>4</sub>  ≤  0.4 \n",
      "\n",
      "5. **Scenario Binary:**\n",
      "   - y<sub>i</sub> ∈ {0, 1} for i = 1, 2, 3, 4 \n",
      "\n"
     ]
    }
   ],
   "source": [
    "print(response3.text)"
   ]
  },
  {
   "cell_type": "code",
   "execution_count": 303,
   "id": "5af7a449",
   "metadata": {},
   "outputs": [
    {
     "name": "stdout",
     "output_type": "stream",
     "text": [
      "```python\n",
      "import pyomo.environ as pyo\n",
      "import random\n",
      "\n",
      "# Sample data for T and R_tj (You'll need to replace these with your actual data)\n",
      "T = 5 \n",
      "R = {(t,j): random.randint(50, 150) for t in range(1, T+1) for j in range(1, 11)}  \n",
      "r = 0.05  # Sample risk aversion coefficient\n",
      "\n",
      "# Model\n",
      "model = pyo.ConcreteModel()\n",
      "\n",
      "# Sets\n",
      "model.J = pyo.RangeSet(1, 10)  # Strategies\n",
      "model.I = pyo.RangeSet(1, 4)   # Budget scenarios\n",
      "model.T = pyo.RangeSet(1, T)   # Time periods \n",
      "\n",
      "# Parameters\n",
      "model.A = {j: random.randint(50, 150) for j in model.J}  # Investment cost for each strategy (sample data)\n",
      "model.B = {1: 1000, 2: 1100, 3: 900, 4: 1200}  # Budget for each scenario\n",
      "model.R = pyo.Param(model.T, model.J, initialize=R) # Returns\n",
      "model.r = pyo.Param(initialize=r)\n",
      "\n",
      "# Variables\n",
      "model.x = pyo.Var(model.J, within=pyo.Binary)  # Investment decisions\n",
      "model.y = pyo.Var(model.I, within=pyo.Binary)  # Budget scenario occurrence\n",
      "\n",
      "# Objective function\n",
      "def objective_rule(model):\n",
      "    expected_return = sum(1/T * sum(model.R[t, j] * model.x[j] for j in model.J) for t in model.T)\n",
      "    risk = model.r * sum(1/T * (sum(model.R[t, j] * model.x[j] for j in model.J) - expected_return)**2 for t in model.T)\n",
      "    return expected_return - risk\n",
      "model.objective = pyo.Objective(rule=objective_rule, sense=pyo.maximize)\n",
      "\n",
      "# Constraints\n",
      "def budget_constraint(model, i):\n",
      "    return sum(model.A[j] * model.x[j] for j in model.J) <= model.B[i] * model.y[i]\n",
      "model.budget_constraint = pyo.Constraint(model.I, rule=budget_constraint)\n",
      "\n",
      "def scenario_selection(model):\n",
      "    return sum(model.y[i] for i in model.I) == 1\n",
      "model.scenario_selection = pyo.Constraint(rule=scenario_selection)\n",
      "\n",
      "def probability_constraint(model):\n",
      "    return 0.55*model.y[1] + 0.4*model.y[2] + 0.04*model.y[3] + 0.01*model.y[4] <= 0.4\n",
      "model.probability_constraint = pyo.Constraint(rule=probability_constraint)\n",
      "\n",
      "# Solve\n",
      "solver = pyo.SolverFactory('gurobi')  # Choose a solver you have installed\n",
      "solver.solve(model)\n",
      "\n",
      "# Output\n",
      "print(\"Optimal Solution:\")\n",
      "for j in model.J:\n",
      "    print(f\"x[{j}] = {pyo.value(model.x[j])}\")\n",
      "for i in model.I:\n",
      "    print(f\"y[{i}] = {pyo.value(model.y[i])}\")\n",
      "print(f\"Objective Value: {pyo.value(model.objective)}\") \n",
      "```\n",
      "\n",
      "**Explanation and Sample Data:**\n",
      "\n",
      "1. **Sample Data:**\n",
      "   - `T = 5`:  Assume 5 time periods. You'll replace this with your actual number of periods.\n",
      "   - `R = {(t,j): random.randint(50, 150) for t in range(1, T+1) for j in range(1, 11)}`: Generates random return values between 50 and 150 for each time period and strategy. Replace this with your actual return data.\n",
      "   - `r = 0.05`: Sample risk aversion coefficient. Adjust based on your preferences.\n",
      "   - `model.A = {j: random.randint(50, 150) for j in model.J}`: Randomly generated investment costs for each strategy. \n",
      "\n",
      "2. **Code Structure:**\n",
      "   - **Import Necessary Libraries:** Import `pyomo` for modeling and a solver library (like `gurobi`).\n",
      "   - **Create a Model:**  `model = pyo.ConcreteModel()` initializes an optimization model.\n",
      "   - **Define Sets:** Define sets for strategies (`J`), budget scenarios (`I`), and time periods (`T`).\n",
      "   - **Define Parameters:** \n",
      "     - Use `pyo.Param()` to define parameters like investment costs (`A`), budget levels (`B`), returns (`R`), and the risk aversion coefficient (`r`).\n",
      "   - **Define Variables:**\n",
      "     - Use `pyo.Var(..., within=pyo.Binary)` to define binary variables for investment decisions (`x`) and budget scenario occurrence (`y`).\n",
      "   - **Define the Objective Function:**\n",
      "     - Create a function `objective_rule(model)` to calculate the objective (expected return minus risk).\n",
      "     - Use `pyo.Objective()` to set this function as the objective and specify maximization.\n",
      "   - **Define Constraints:**\n",
      "     - Create functions for each constraint (budget, scenario selection, probability).\n",
      "     - Use `pyo.Constraint()` to add these constraints to the model.\n",
      "   - **Solve the Model:**\n",
      "     - Choose a solver (e.g., 'gurobi') using `pyo.SolverFactory()`.\n",
      "     - Solve the model using `solver.solve(model)`.\n",
      "   - **Print the Solution:**\n",
      "     - Access and print the optimal values of variables and the objective function using `pyo.value()`.\n",
      "\n",
      "Remember to install the necessary solver (e.g., Gurobi) and replace sample data with your actual data. \n",
      "\n"
     ]
    }
   ],
   "source": [
    "print(response4.text)"
   ]
  }
 ],
 "metadata": {
  "kernelspec": {
   "display_name": "Python 3 (ipykernel)",
   "language": "python",
   "name": "python3"
  },
  "language_info": {
   "codemirror_mode": {
    "name": "ipython",
    "version": 3
   },
   "file_extension": ".py",
   "mimetype": "text/x-python",
   "name": "python",
   "nbconvert_exporter": "python",
   "pygments_lexer": "ipython3",
   "version": "3.11.4"
  }
 },
 "nbformat": 4,
 "nbformat_minor": 5
}
