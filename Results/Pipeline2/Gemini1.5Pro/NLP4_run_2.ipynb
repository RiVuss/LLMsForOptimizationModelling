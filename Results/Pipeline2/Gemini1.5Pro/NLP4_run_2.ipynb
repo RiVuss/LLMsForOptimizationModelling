{
 "cells": [
  {
   "cell_type": "markdown",
   "id": "f0005e9e",
   "metadata": {},
   "source": [
    "# LLM Optimization Modelling Experiment"
   ]
  },
  {
   "cell_type": "code",
   "execution_count": 8,
   "id": "7f664028",
   "metadata": {},
   "outputs": [],
   "source": [
    "import vertexai\n",
    "from vertexai.preview.generative_models import GenerativeModel, Image\n",
    "from IPython.display import Markdown"
   ]
  },
  {
   "cell_type": "markdown",
   "id": "f527d6af",
   "metadata": {},
   "source": [
    "## 1. Define the problem description"
   ]
  },
  {
   "cell_type": "code",
   "execution_count": 321,
   "id": "25055ffd",
   "metadata": {},
   "outputs": [],
   "source": [
    "problem = '''We are looking at an alkylation process which will include the following 10 variables: olefin feed (barrels per day), isobutane recycle (barrels per day), acid addition rate (thousands of pounds per day), alkylate yield (barrels per day), isobutane makeup (barrels per day), acid strength (weight per cent), motor octane number, external isobutane-to-olefin ratio, acid dilution factor and F-4 performance number. \n",
    "\n",
    "We want to maximize the daily profit of this alkylation process. \n",
    "The profit is defined as the revenue generated from the alkylate yield multiplied with the motor octane number, minus the operational costs, which include olefin feed, isobutane recycle, acid addition rate, and isobutane makeup. \n",
    "\n",
    "Relationships in terms of other variables for alkylate yield, motor octane number, acid dilution factor, and F-4 performance number can be formulated as regression formulas. \n",
    "This regression estimate can deviate in both directions from true value of these variables by 2, 1, 5 and 10 percent, respectively.\n",
    "Alkylate yield is a function of olefin feed and external isobutane-to-olefine yield. Alkalyte yield equals the amount of olefin feed multiplied by the sum of 1.12, 0.13167 times the external isobutane-to-olefin ratio and -0.00667 times the external isobutane-to-olefin ratio squared.\n",
    "The motor octane number is derived from the external isobutane-to-olefin ratio and the acid strength. The motor octane number is calculated as the sum of 86.35, 1.098 time external isobutane-to-olefin ratio, -0.038 times the external isobutane-to-olefin ratio squared and 0.325 times acid strength reduced by 89.\n",
    "The acid dilution factor is calculated based on the F-4 performance number. The acid dillution factor is expressed as 35.82 minus 0.222 times F-4 performance number.\n",
    "Lastly, the F-4 performance number depends on the motor octane number. F-4 performance number is calculated as -133 plus three times the motor octane number.\n",
    "\n",
    "There are some additional constraints imposed by the nature of the chemical process.\n",
    "Each variable has a lower and an upper bound.\n",
    "The external isobutane-to-olefin ratio needs to equal the ratio of isobutane recycle plus isobutane makeup to olefin feed. \n",
    "The acid strength needs to equal the ratio of 93000 times acid addition rate to acid addition rate multiplied by acid dilution factor in addition to 1000 times acid addition rate. \n",
    "Lastly, 1.22 alkylate yield needs to be equal to the combined olefin feed and isobutane makeup.'''"
   ]
  },
  {
   "cell_type": "markdown",
   "id": "472cf9ad",
   "metadata": {},
   "source": [
    "## 2. Ask for parameters"
   ]
  },
  {
   "cell_type": "code",
   "execution_count": 322,
   "id": "e31ec80c",
   "metadata": {},
   "outputs": [],
   "source": [
    "#Initializing the session. To replicate, make sure the right credentials are saved in a PATH variable\n",
    "PROJECT_ID = \"llm4optproblems\"\n",
    "REGION = \"us-central1\"\n",
    "vertexai.init(project=PROJECT_ID, location=REGION)\n",
    "\n",
    "#Specifying the model\n",
    "generative_multimodal_model = GenerativeModel(\"gemini-1.5-pro-preview-0409\")\n",
    "\n",
    "#The propmt applied to all problems\n",
    "prompt = '''Please formulate only the variables for this mathematical optimization problem. \n",
    "'''\n",
    "\n",
    "#Generate the response\n",
    "response = generative_multimodal_model.generate_content([prompt+problem])\n"
   ]
  },
  {
   "cell_type": "code",
   "execution_count": 323,
   "id": "f9adc567",
   "metadata": {
    "scrolled": false
   },
   "outputs": [
    {
     "data": {
      "text/markdown": [
       "## Variables:\n",
       "\n",
       "*  **OF**: Olefin feed (barrels per day)\n",
       "*  **IBR**: Isobutane recycle (barrels per day)\n",
       "*  **AAR**: Acid addition rate (thousands of pounds per day)\n",
       "*  **AY**: Alkylate yield (barrels per day)\n",
       "*  **IBM**: Isobutane makeup (barrels per day)\n",
       "*  **AS**: Acid strength (weight percent)\n",
       "*  **MON**: Motor octane number\n",
       "*  **IOR**: External isobutane-to-olefin ratio\n",
       "*  **ADF**: Acid dilution factor\n",
       "*  **F4**: F-4 performance number \n"
      ],
      "text/plain": [
       "<IPython.core.display.Markdown object>"
      ]
     },
     "execution_count": 323,
     "metadata": {},
     "output_type": "execute_result"
    }
   ],
   "source": [
    "#Show the resopnse in a formatted way\n",
    "Markdown(response.text)"
   ]
  },
  {
   "cell_type": "markdown",
   "id": "15d9e89f",
   "metadata": {},
   "source": [
    "# 2. Ask for objective"
   ]
  },
  {
   "cell_type": "code",
   "execution_count": 324,
   "id": "4f357a19",
   "metadata": {},
   "outputs": [],
   "source": [
    "#Second prompt gets the output of the previous step and generates the code\n",
    "prompt2 = \"Please formulate only the objective function for this mathematical optimization problem.\"\n",
    "prompt2 += problem + response.text\n",
    "response2 = generative_multimodal_model.generate_content([prompt2])"
   ]
  },
  {
   "cell_type": "code",
   "execution_count": 325,
   "id": "bccd1014",
   "metadata": {},
   "outputs": [
    {
     "data": {
      "text/markdown": [
       "## Objective Function:\n",
       "\n",
       "Maximize **Daily Profit (DP)**\n",
       "\n",
       "**DP** = (**AY** * **MON** * **Revenue Per Barrel**) - (**OF** * **Olefin Cost Per Barrel**) - (**IBR** * **Isobutane Cost Per Barrel**) - (**AAR** * **Acid Cost Per Pound** / 1000) - (**IBM** * **Isobutane Cost Per Barrel**) \n",
       "\n",
       "**Where:**\n",
       "\n",
       "* **Revenue Per Barrel**: Revenue generated per barrel of alkylate.\n",
       "* **Olefin Cost Per Barrel**: Cost per barrel of olefin feed.\n",
       "* **Isobutane Cost Per Barrel**: Cost per barrel of isobutane.\n",
       "* **Acid Cost Per Pound**: Cost per pound of acid. \n"
      ],
      "text/plain": [
       "<IPython.core.display.Markdown object>"
      ]
     },
     "execution_count": 325,
     "metadata": {},
     "output_type": "execute_result"
    }
   ],
   "source": [
    "Markdown(response2.text)"
   ]
  },
  {
   "cell_type": "markdown",
   "id": "d8ab1404",
   "metadata": {},
   "source": [
    "# 3. Ask for constraints"
   ]
  },
  {
   "cell_type": "code",
   "execution_count": 326,
   "id": "e6409951",
   "metadata": {},
   "outputs": [],
   "source": [
    "#Second prompt gets the output of the previous step and generates the code\n",
    "prompt3 = \"Please formulate only the constraints for this mathematical optimization problem.\"\n",
    "prompt3 += problem + response.text + response2.text\n",
    "response3 = generative_multimodal_model.generate_content([prompt3])"
   ]
  },
  {
   "cell_type": "code",
   "execution_count": 327,
   "id": "2f9439c2",
   "metadata": {},
   "outputs": [
    {
     "data": {
      "text/markdown": [
       "## Constraints:\n",
       "\n",
       "**Variable Bounds:**\n",
       "\n",
       "* **OF_lowerbound** ≤ **OF** ≤ **OF_upperbound**\n",
       "* **IBR_lowerbound** ≤ **IBR** ≤ **IBR_upperbound**\n",
       "* **AAR_lowerbound** ≤ **AAR** ≤ **AAR_upperbound**\n",
       "* **AY_lowerbound** ≤ **AY** ≤ **AY_upperbound**\n",
       "* **IBM_lowerbound** ≤ **IBM** ≤ **IBM_upperbound**\n",
       "* **AS_lowerbound** ≤ **AS** ≤ **AS_upperbound**\n",
       "* **MON_lowerbound** ≤ **MON** ≤ **MON_upperbound**\n",
       "* **IOR_lowerbound** ≤ **IOR** ≤ **IOR_upperbound**\n",
       "* **ADF_lowerbound** ≤ **ADF** ≤ **ADF_upperbound**\n",
       "* **F4_lowerbound** ≤ **F4** ≤ **F4_upperbound**\n",
       "\n",
       "**Regression Formula Deviations:**\n",
       "\n",
       "* **0.98 * AY_calculated** ≤ **AY** ≤ **1.02 * AY_calculated** \n",
       "* **0.99 * MON_calculated** ≤ **MON** ≤ **1.01 * MON_calculated** \n",
       "* **0.95 * ADF_calculated** ≤ **ADF** ≤ **1.05 * ADF_calculated** \n",
       "* **0.9 * F4_calculated** ≤ **F4** ≤ **1.1 * F4_calculated** \n",
       "\n",
       "**Where:**\n",
       "\n",
       "* **AY_calculated  = OF * (1.12 + 0.13167 * IOR - 0.00667 * IOR^2)**\n",
       "* **MON_calculated = 86.35 + 1.098 * IOR - 0.038 * IOR^2 + 0.325 * (AS - 89)**\n",
       "* **ADF_calculated = 35.82 - 0.222 * F4**\n",
       "* **F4_calculated = -133 + 3 * MON**\n",
       "\n",
       "**Operational Constraints:**\n",
       "\n",
       "* **IOR = (IBR + IBM) / OF**\n",
       "* **AS = (93000 * AAR) / (AAR * ADF + 1000 * AAR)**\n",
       "* **1.22 * AY =  OF + IBM** \n"
      ],
      "text/plain": [
       "<IPython.core.display.Markdown object>"
      ]
     },
     "execution_count": 327,
     "metadata": {},
     "output_type": "execute_result"
    }
   ],
   "source": [
    "Markdown(response3.text)"
   ]
  },
  {
   "cell_type": "markdown",
   "id": "75796979",
   "metadata": {},
   "source": [
    "## 3. Generate the pyomo code"
   ]
  },
  {
   "cell_type": "code",
   "execution_count": 328,
   "id": "aabea932",
   "metadata": {},
   "outputs": [],
   "source": [
    "#Second prompt gets the output of the previous step and generates the code\n",
    "prompt4 = \"Please write pyomo code for this mathematical problem. Use sample data where needed. Indicate where you use sample data. \\n\"\n",
    "prompt4 += response.text + response2.text + response3.text \n",
    "response4 = generative_multimodal_model.generate_content([prompt4])"
   ]
  },
  {
   "cell_type": "code",
   "execution_count": 329,
   "id": "0dbc9976",
   "metadata": {
    "scrolled": false
   },
   "outputs": [
    {
     "data": {
      "text/markdown": [
       "```python\n",
       "import pyomo.environ as pyo\n",
       "\n",
       "# Sample data (replace with actual data)\n",
       "revenue_per_barrel = 100  \n",
       "olefin_cost_per_barrel = 50 \n",
       "isobutane_cost_per_barrel = 40\n",
       "acid_cost_per_pound = 2\n",
       "\n",
       "# Variable bounds (replace with actual bounds)\n",
       "bounds = {\n",
       "    'OF': (5000, 10000),\n",
       "    'IBR': (1000, 5000),\n",
       "    'AAR': (10, 50), \n",
       "    'AY': (1000, 10000),\n",
       "    'IBM': (500, 2000),\n",
       "    'AS': (88, 92), \n",
       "    'MON': (88, 94),\n",
       "    'IOR': (3, 6), \n",
       "    'ADF': (25, 35), \n",
       "    'F4': (130, 140)\n",
       "}\n",
       "\n",
       "# Model\n",
       "model = pyo.ConcreteModel()\n",
       "\n",
       "# Variables\n",
       "model.OF = pyo.Var(bounds=bounds['OF'])\n",
       "model.IBR = pyo.Var(bounds=bounds['IBR'])\n",
       "model.AAR = pyo.Var(bounds=bounds['AAR'])\n",
       "model.AY = pyo.Var(bounds=bounds['AY'])\n",
       "model.IBM = pyo.Var(bounds=bounds['IBM'])\n",
       "model.AS = pyo.Var(bounds=bounds['AS'])\n",
       "model.MON = pyo.Var(bounds=bounds['MON'])\n",
       "model.IOR = pyo.Var(bounds=bounds['IOR'])\n",
       "model.ADF = pyo.Var(bounds=bounds['ADF'])\n",
       "model.F4 = pyo.Var(bounds=bounds['F4'])\n",
       "\n",
       "# Objective function\n",
       "def daily_profit(model):\n",
       "    return (model.AY * model.MON * revenue_per_barrel \n",
       "            - model.OF * olefin_cost_per_barrel \n",
       "            - model.IBR * isobutane_cost_per_barrel\n",
       "            - model.AAR * acid_cost_per_pound / 1000\n",
       "            - model.IBM * isobutane_cost_per_barrel)\n",
       "model.DP = pyo.Objective(rule=daily_profit, sense=pyo.maximize)\n",
       "\n",
       "# Constraints\n",
       "model.AY_calc = pyo.Constraint(expr=0.98 * model.OF * (1.12 + 0.13167 * model.IOR - 0.00667 * model.IOR**2) <= model.AY)\n",
       "model.AY_calc_upper = pyo.Constraint(expr= model.AY <= 1.02 * model.OF * (1.12 + 0.13167 * model.IOR - 0.00667 * model.IOR**2))\n",
       "model.MON_calc = pyo.Constraint(expr= 0.99 * (86.35 + 1.098 * model.IOR - 0.038 * model.IOR**2 + 0.325 * (model.AS - 89)) <= model.MON)\n",
       "model.MON_calc_upper = pyo.Constraint(expr=model.MON <= 1.01 * (86.35 + 1.098 * model.IOR - 0.038 * model.IOR**2 + 0.325 * (model.AS - 89)))\n",
       "model.ADF_calc = pyo.Constraint(expr=0.95 * (35.82 - 0.222 * model.F4) <= model.ADF)\n",
       "model.ADF_calc_upper = pyo.Constraint(expr=model.ADF <= 1.05 * (35.82 - 0.222 * model.F4))\n",
       "model.F4_calc = pyo.Constraint(expr= 0.9 * (-133 + 3 * model.MON) <= model.F4)\n",
       "model.F4_calc_upper = pyo.Constraint(expr= model.F4 <= 1.1 * (-133 + 3 * model.MON))\n",
       "\n",
       "model.IOR_def = pyo.Constraint(expr= model.IOR == (model.IBR + model.IBM) / model.OF)\n",
       "model.AS_def = pyo.Constraint(expr= model.AS == (93000 * model.AAR) / (model.AAR * model.ADF + 1000 * model.AAR))\n",
       "model.Alkylate_balance = pyo.Constraint(expr= 1.22 * model.AY == model.OF + model.IBM)\n",
       "\n",
       "# Solve the model\n",
       "solver = pyo.SolverFactory('ipopt') # You can choose a different solver\n",
       "results = solver.solve(model)\n",
       "\n",
       "# Print the results\n",
       "print(results)\n",
       "print(\"Daily Profit:\", pyo.value(model.DP)) \n",
       "print(\"Olefin Feed:\", pyo.value(model.OF))\n",
       "# ... print other variable values\n",
       "\n",
       "```\n",
       "\n",
       "**Explanation:**\n",
       "\n",
       "1. **Import Pyomo:**  Begin by importing the Pyomo library.\n",
       "2. **Sample Data:**  Define the sample data for costs and revenue.  You'll want to replace these with your actual values.\n",
       "3. **Variable Bounds:** Define the upper and lower bounds for each variable. This helps to constrain the search space for the solver.\n",
       "4. **Model:** Create a ConcreteModel in Pyomo to hold the optimization problem.\n",
       "5. **Variables:** Define each variable within your model (OF, IBR, AAR, etc.) and associate them with their respective bounds. \n",
       "6. **Objective Function:** Define the objective function `daily_profit` to calculate the profit based on the model variables and input data.\n",
       "7. **Constraints:** Implement all the constraints, including the regression formula deviations and operational constraints.\n",
       "8. **Solver:** Select a solver (in this case, IPOPT) and apply it to your Pyomo model.\n",
       "9. **Results:** Display the optimization results, including the optimal daily profit and the values of the decision variables that achieve this maximum profit.\n",
       "\n",
       "Remember that the provided data is for illustration purposes.  Replace the sample data, bounds, and potentially the solver with ones suitable for your specific alkylation process model. \n"
      ],
      "text/plain": [
       "<IPython.core.display.Markdown object>"
      ]
     },
     "execution_count": 329,
     "metadata": {},
     "output_type": "execute_result"
    }
   ],
   "source": [
    "## Showing the code in a formatted way\n",
    "Markdown(response4.text)"
   ]
  },
  {
   "cell_type": "markdown",
   "id": "b60756ae",
   "metadata": {},
   "source": [
    "## 4. Input problem data and try running the generated code"
   ]
  },
  {
   "cell_type": "code",
   "execution_count": 330,
   "id": "9cc2e439",
   "metadata": {},
   "outputs": [
    {
     "name": "stdout",
     "output_type": "stream",
     "text": [
      "WARNING: Loading a SolverResults object with a warning status into\n",
      "model.name=\"unknown\";\n",
      "    - termination condition: infeasible\n",
      "    - message from solver: Ipopt 3.11.1\\x3a Converged to a locally infeasible\n",
      "      point. Problem may be infeasible.\n",
      "\n",
      "Problem: \n",
      "- Lower bound: -inf\n",
      "  Upper bound: inf\n",
      "  Number of objectives: 1\n",
      "  Number of constraints: 11\n",
      "  Number of variables: 10\n",
      "  Sense: unknown\n",
      "Solver: \n",
      "- Status: warning\n",
      "  Message: Ipopt 3.11.1\\x3a Converged to a locally infeasible point. Problem may be infeasible.\n",
      "  Termination condition: infeasible\n",
      "  Id: 200\n",
      "  Error rc: 0\n",
      "  Time: 0.08198356628417969\n",
      "Solution: \n",
      "- number of solutions: 0\n",
      "  number of solutions displayed: 0\n",
      "\n",
      "Daily Profit: 51175998.20147992\n",
      "Olefin Feed: 5000.0\n"
     ]
    }
   ],
   "source": [
    "import pyomo.environ as pyo\n",
    "\n",
    "# Costs\n",
    "c1, c2, c3, c4, c5 = 0.63, 5.04, 0.035, 10.0, 3.36\n",
    "\n",
    "# Lower and upper bounds\n",
    "x1_l, x1_u = (0, 2000)\n",
    "x2_l, x2_u = (0, 16000)\n",
    "x3_l, x3_u = (0, 120)\n",
    "x4_l, x4_u = (0, 5000)\n",
    "x5_l, x5_u = (0, 2000)\n",
    "x6_l, x6_u = (85, 93)\n",
    "x7_l, x7_u = (90, 95)\n",
    "x8_l, x8_u = (3, 12)\n",
    "x9_l, x9_u = (1.2, 4)\n",
    "x10_l, x10_u = (145, 162)\n",
    "\n",
    "# Decision Variables:\n",
    "#     x1 (continuous): Olefin feed (barrels per day)\n",
    "#     x2 (continuous): Isobutane recycle (barrels per day)\n",
    "#     x3 (continuous): Acid addition rate (thousands of pounds per day)\n",
    "#     x4 (continuous): Alkylate yield (barrels per day)\n",
    "#     x5 (continuous): Isobutane makeup (barrels per day)\n",
    "#     x6 (continuous): Acid strength (weight percent)\n",
    "#     x7 (continuous): Motor octane number\n",
    "#     x8 (continuous): External isobutane-to-olefin ratio\n",
    "#     x9 (continuous): Acid dilution factor\n",
    "#     x10 (continuous): F-4 performance number\n",
    "\n",
    "# Parameters:\n",
    "#     c1 to c5: Costs (used in the objective function)\n",
    "#     x_i^l: Lower bound of variable i\n",
    "#     x_i^u: Upper bound of variable i\n",
    "# Sample Data (replace with actual data if available)\n",
    "data = {\n",
    "    'ε_Alk': 0.63,  # Sample revenue per barrel of alkylate (replace with actual pricing)\n",
    "    'C_o': 5.04,     # Sample cost per barrel of olefin feed\n",
    "    'C_i': 0.035,     # Sample cost per barrel of isobutane\n",
    "    'C_aA': 10,   # Sample cost per thousand pounds of acid addition\n",
    "    'F_o_min': 0,  # Sample minimum olefin feed\n",
    "    'F_o_max': 2000,  # Sample maximum olefin feed\n",
    "    'F_iR_min': 0,   # Sample minimum isobutane recycle\n",
    "    'F_iR_max': 16000,  # Sample maximum isobutane recycle\n",
    "    'F_aA_min': 0,     # Sample minimum acid addition rate\n",
    "    'F_aA_max': 120,    # Sample maximum acid addition rate\n",
    "    'F_iM_min': 0,   # Sample minimum isobutane makeup\n",
    "    'F_iM_max': 5000,  # Sample maximum isobutane makeup\n",
    "}\n",
    "\n",
    "#Previous is for data copying, here is the model\n",
    "\n",
    "import pyomo.environ as pyo\n",
    "\n",
    "# Sample data (replace with actual data)\n",
    "revenue_per_barrel = 100  \n",
    "olefin_cost_per_barrel = 50 \n",
    "isobutane_cost_per_barrel = 40\n",
    "acid_cost_per_pound = 2\n",
    "\n",
    "# Variable bounds (replace with actual bounds)\n",
    "bounds = {\n",
    "    'OF': (5000, 10000),\n",
    "    'IBR': (1000, 5000),\n",
    "    'AAR': (10, 50), \n",
    "    'AY': (1000, 10000),\n",
    "    'IBM': (500, 2000),\n",
    "    'AS': (88, 92), \n",
    "    'MON': (88, 94),\n",
    "    'IOR': (3, 6), \n",
    "    'ADF': (25, 35), \n",
    "    'F4': (130, 140)\n",
    "}\n",
    "\n",
    "# Model\n",
    "model = pyo.ConcreteModel()\n",
    "\n",
    "# Variables\n",
    "model.OF = pyo.Var(bounds=bounds['OF'])\n",
    "model.IBR = pyo.Var(bounds=bounds['IBR'])\n",
    "model.AAR = pyo.Var(bounds=bounds['AAR'])\n",
    "model.AY = pyo.Var(bounds=bounds['AY'])\n",
    "model.IBM = pyo.Var(bounds=bounds['IBM'])\n",
    "model.AS = pyo.Var(bounds=bounds['AS'])\n",
    "model.MON = pyo.Var(bounds=bounds['MON'])\n",
    "model.IOR = pyo.Var(bounds=bounds['IOR'])\n",
    "model.ADF = pyo.Var(bounds=bounds['ADF'])\n",
    "model.F4 = pyo.Var(bounds=bounds['F4'])\n",
    "\n",
    "# Objective function\n",
    "def daily_profit(model):\n",
    "    return (model.AY * model.MON * revenue_per_barrel \n",
    "            - model.OF * olefin_cost_per_barrel \n",
    "            - model.IBR * isobutane_cost_per_barrel\n",
    "            - model.AAR * acid_cost_per_pound / 1000\n",
    "            - model.IBM * isobutane_cost_per_barrel)\n",
    "model.DP = pyo.Objective(rule=daily_profit, sense=pyo.maximize)\n",
    "\n",
    "# Constraints\n",
    "model.AY_calc = pyo.Constraint(expr=0.98 * model.OF * (1.12 + 0.13167 * model.IOR - 0.00667 * model.IOR**2) <= model.AY)\n",
    "model.AY_calc_upper = pyo.Constraint(expr= model.AY <= 1.02 * model.OF * (1.12 + 0.13167 * model.IOR - 0.00667 * model.IOR**2))\n",
    "model.MON_calc = pyo.Constraint(expr= 0.99 * (86.35 + 1.098 * model.IOR - 0.038 * model.IOR**2 + 0.325 * (model.AS - 89)) <= model.MON)\n",
    "model.MON_calc_upper = pyo.Constraint(expr=model.MON <= 1.01 * (86.35 + 1.098 * model.IOR - 0.038 * model.IOR**2 + 0.325 * (model.AS - 89)))\n",
    "model.ADF_calc = pyo.Constraint(expr=0.95 * (35.82 - 0.222 * model.F4) <= model.ADF)\n",
    "model.ADF_calc_upper = pyo.Constraint(expr=model.ADF <= 1.05 * (35.82 - 0.222 * model.F4))\n",
    "model.F4_calc = pyo.Constraint(expr= 0.9 * (-133 + 3 * model.MON) <= model.F4)\n",
    "model.F4_calc_upper = pyo.Constraint(expr= model.F4 <= 1.1 * (-133 + 3 * model.MON))\n",
    "\n",
    "model.IOR_def = pyo.Constraint(expr= model.IOR == (model.IBR + model.IBM) / model.OF)\n",
    "model.AS_def = pyo.Constraint(expr= model.AS == (93000 * model.AAR) / (model.AAR * model.ADF + 1000 * model.AAR))\n",
    "model.Alkylate_balance = pyo.Constraint(expr= 1.22 * model.AY == model.OF + model.IBM)\n",
    "\n",
    "# Solve the model\n",
    "solver = pyo.SolverFactory('ipopt') # You can choose a different solver\n",
    "results = solver.solve(model)\n",
    "\n",
    "# Print the results\n",
    "print(results)\n",
    "print(\"Daily Profit:\", pyo.value(model.DP)) \n",
    "print(\"Olefin Feed:\", pyo.value(model.OF))\n",
    "# ... print other variable values"
   ]
  },
  {
   "cell_type": "code",
   "execution_count": 150,
   "id": "62cc4faa",
   "metadata": {
    "scrolled": false
   },
   "outputs": [],
   "source": []
  },
  {
   "cell_type": "markdown",
   "id": "1be0926e",
   "metadata": {},
   "source": [
    "## 5. Correct the code to verify model viability (optional)"
   ]
  },
  {
   "cell_type": "code",
   "execution_count": null,
   "id": "e573c42e",
   "metadata": {},
   "outputs": [],
   "source": []
  },
  {
   "cell_type": "code",
   "execution_count": null,
   "id": "2de80025",
   "metadata": {},
   "outputs": [],
   "source": []
  },
  {
   "cell_type": "markdown",
   "id": "dbd7b8a8",
   "metadata": {},
   "source": [
    "## 6. Print the responses"
   ]
  },
  {
   "cell_type": "code",
   "execution_count": 331,
   "id": "c76b7575",
   "metadata": {},
   "outputs": [
    {
     "name": "stdout",
     "output_type": "stream",
     "text": [
      "## Variables:\n",
      "\n",
      "*  **OF**: Olefin feed (barrels per day)\n",
      "*  **IBR**: Isobutane recycle (barrels per day)\n",
      "*  **AAR**: Acid addition rate (thousands of pounds per day)\n",
      "*  **AY**: Alkylate yield (barrels per day)\n",
      "*  **IBM**: Isobutane makeup (barrels per day)\n",
      "*  **AS**: Acid strength (weight percent)\n",
      "*  **MON**: Motor octane number\n",
      "*  **IOR**: External isobutane-to-olefin ratio\n",
      "*  **ADF**: Acid dilution factor\n",
      "*  **F4**: F-4 performance number \n",
      "\n"
     ]
    }
   ],
   "source": [
    "print(response.text)"
   ]
  },
  {
   "cell_type": "code",
   "execution_count": 332,
   "id": "1bb49c6c",
   "metadata": {},
   "outputs": [
    {
     "name": "stdout",
     "output_type": "stream",
     "text": [
      "## Objective Function:\n",
      "\n",
      "Maximize **Daily Profit (DP)**\n",
      "\n",
      "**DP** = (**AY** * **MON** * **Revenue Per Barrel**) - (**OF** * **Olefin Cost Per Barrel**) - (**IBR** * **Isobutane Cost Per Barrel**) - (**AAR** * **Acid Cost Per Pound** / 1000) - (**IBM** * **Isobutane Cost Per Barrel**) \n",
      "\n",
      "**Where:**\n",
      "\n",
      "* **Revenue Per Barrel**: Revenue generated per barrel of alkylate.\n",
      "* **Olefin Cost Per Barrel**: Cost per barrel of olefin feed.\n",
      "* **Isobutane Cost Per Barrel**: Cost per barrel of isobutane.\n",
      "* **Acid Cost Per Pound**: Cost per pound of acid. \n",
      "\n"
     ]
    }
   ],
   "source": [
    "print(response2.text)"
   ]
  },
  {
   "cell_type": "code",
   "execution_count": 333,
   "id": "b95499e6",
   "metadata": {},
   "outputs": [
    {
     "name": "stdout",
     "output_type": "stream",
     "text": [
      "## Constraints:\n",
      "\n",
      "**Variable Bounds:**\n",
      "\n",
      "* **OF_lowerbound** ≤ **OF** ≤ **OF_upperbound**\n",
      "* **IBR_lowerbound** ≤ **IBR** ≤ **IBR_upperbound**\n",
      "* **AAR_lowerbound** ≤ **AAR** ≤ **AAR_upperbound**\n",
      "* **AY_lowerbound** ≤ **AY** ≤ **AY_upperbound**\n",
      "* **IBM_lowerbound** ≤ **IBM** ≤ **IBM_upperbound**\n",
      "* **AS_lowerbound** ≤ **AS** ≤ **AS_upperbound**\n",
      "* **MON_lowerbound** ≤ **MON** ≤ **MON_upperbound**\n",
      "* **IOR_lowerbound** ≤ **IOR** ≤ **IOR_upperbound**\n",
      "* **ADF_lowerbound** ≤ **ADF** ≤ **ADF_upperbound**\n",
      "* **F4_lowerbound** ≤ **F4** ≤ **F4_upperbound**\n",
      "\n",
      "**Regression Formula Deviations:**\n",
      "\n",
      "* **0.98 * AY_calculated** ≤ **AY** ≤ **1.02 * AY_calculated** \n",
      "* **0.99 * MON_calculated** ≤ **MON** ≤ **1.01 * MON_calculated** \n",
      "* **0.95 * ADF_calculated** ≤ **ADF** ≤ **1.05 * ADF_calculated** \n",
      "* **0.9 * F4_calculated** ≤ **F4** ≤ **1.1 * F4_calculated** \n",
      "\n",
      "**Where:**\n",
      "\n",
      "* **AY_calculated  = OF * (1.12 + 0.13167 * IOR - 0.00667 * IOR^2)**\n",
      "* **MON_calculated = 86.35 + 1.098 * IOR - 0.038 * IOR^2 + 0.325 * (AS - 89)**\n",
      "* **ADF_calculated = 35.82 - 0.222 * F4**\n",
      "* **F4_calculated = -133 + 3 * MON**\n",
      "\n",
      "**Operational Constraints:**\n",
      "\n",
      "* **IOR = (IBR + IBM) / OF**\n",
      "* **AS = (93000 * AAR) / (AAR * ADF + 1000 * AAR)**\n",
      "* **1.22 * AY =  OF + IBM** \n",
      "\n"
     ]
    }
   ],
   "source": [
    "print(response3.text)"
   ]
  },
  {
   "cell_type": "code",
   "execution_count": 334,
   "id": "184942d4",
   "metadata": {},
   "outputs": [
    {
     "name": "stdout",
     "output_type": "stream",
     "text": [
      "```python\n",
      "import pyomo.environ as pyo\n",
      "\n",
      "# Sample data (replace with actual data)\n",
      "revenue_per_barrel = 100  \n",
      "olefin_cost_per_barrel = 50 \n",
      "isobutane_cost_per_barrel = 40\n",
      "acid_cost_per_pound = 2\n",
      "\n",
      "# Variable bounds (replace with actual bounds)\n",
      "bounds = {\n",
      "    'OF': (5000, 10000),\n",
      "    'IBR': (1000, 5000),\n",
      "    'AAR': (10, 50), \n",
      "    'AY': (1000, 10000),\n",
      "    'IBM': (500, 2000),\n",
      "    'AS': (88, 92), \n",
      "    'MON': (88, 94),\n",
      "    'IOR': (3, 6), \n",
      "    'ADF': (25, 35), \n",
      "    'F4': (130, 140)\n",
      "}\n",
      "\n",
      "# Model\n",
      "model = pyo.ConcreteModel()\n",
      "\n",
      "# Variables\n",
      "model.OF = pyo.Var(bounds=bounds['OF'])\n",
      "model.IBR = pyo.Var(bounds=bounds['IBR'])\n",
      "model.AAR = pyo.Var(bounds=bounds['AAR'])\n",
      "model.AY = pyo.Var(bounds=bounds['AY'])\n",
      "model.IBM = pyo.Var(bounds=bounds['IBM'])\n",
      "model.AS = pyo.Var(bounds=bounds['AS'])\n",
      "model.MON = pyo.Var(bounds=bounds['MON'])\n",
      "model.IOR = pyo.Var(bounds=bounds['IOR'])\n",
      "model.ADF = pyo.Var(bounds=bounds['ADF'])\n",
      "model.F4 = pyo.Var(bounds=bounds['F4'])\n",
      "\n",
      "# Objective function\n",
      "def daily_profit(model):\n",
      "    return (model.AY * model.MON * revenue_per_barrel \n",
      "            - model.OF * olefin_cost_per_barrel \n",
      "            - model.IBR * isobutane_cost_per_barrel\n",
      "            - model.AAR * acid_cost_per_pound / 1000\n",
      "            - model.IBM * isobutane_cost_per_barrel)\n",
      "model.DP = pyo.Objective(rule=daily_profit, sense=pyo.maximize)\n",
      "\n",
      "# Constraints\n",
      "model.AY_calc = pyo.Constraint(expr=0.98 * model.OF * (1.12 + 0.13167 * model.IOR - 0.00667 * model.IOR**2) <= model.AY)\n",
      "model.AY_calc_upper = pyo.Constraint(expr= model.AY <= 1.02 * model.OF * (1.12 + 0.13167 * model.IOR - 0.00667 * model.IOR**2))\n",
      "model.MON_calc = pyo.Constraint(expr= 0.99 * (86.35 + 1.098 * model.IOR - 0.038 * model.IOR**2 + 0.325 * (model.AS - 89)) <= model.MON)\n",
      "model.MON_calc_upper = pyo.Constraint(expr=model.MON <= 1.01 * (86.35 + 1.098 * model.IOR - 0.038 * model.IOR**2 + 0.325 * (model.AS - 89)))\n",
      "model.ADF_calc = pyo.Constraint(expr=0.95 * (35.82 - 0.222 * model.F4) <= model.ADF)\n",
      "model.ADF_calc_upper = pyo.Constraint(expr=model.ADF <= 1.05 * (35.82 - 0.222 * model.F4))\n",
      "model.F4_calc = pyo.Constraint(expr= 0.9 * (-133 + 3 * model.MON) <= model.F4)\n",
      "model.F4_calc_upper = pyo.Constraint(expr= model.F4 <= 1.1 * (-133 + 3 * model.MON))\n",
      "\n",
      "model.IOR_def = pyo.Constraint(expr= model.IOR == (model.IBR + model.IBM) / model.OF)\n",
      "model.AS_def = pyo.Constraint(expr= model.AS == (93000 * model.AAR) / (model.AAR * model.ADF + 1000 * model.AAR))\n",
      "model.Alkylate_balance = pyo.Constraint(expr= 1.22 * model.AY == model.OF + model.IBM)\n",
      "\n",
      "# Solve the model\n",
      "solver = pyo.SolverFactory('ipopt') # You can choose a different solver\n",
      "results = solver.solve(model)\n",
      "\n",
      "# Print the results\n",
      "print(results)\n",
      "print(\"Daily Profit:\", pyo.value(model.DP)) \n",
      "print(\"Olefin Feed:\", pyo.value(model.OF))\n",
      "# ... print other variable values\n",
      "\n",
      "```\n",
      "\n",
      "**Explanation:**\n",
      "\n",
      "1. **Import Pyomo:**  Begin by importing the Pyomo library.\n",
      "2. **Sample Data:**  Define the sample data for costs and revenue.  You'll want to replace these with your actual values.\n",
      "3. **Variable Bounds:** Define the upper and lower bounds for each variable. This helps to constrain the search space for the solver.\n",
      "4. **Model:** Create a ConcreteModel in Pyomo to hold the optimization problem.\n",
      "5. **Variables:** Define each variable within your model (OF, IBR, AAR, etc.) and associate them with their respective bounds. \n",
      "6. **Objective Function:** Define the objective function `daily_profit` to calculate the profit based on the model variables and input data.\n",
      "7. **Constraints:** Implement all the constraints, including the regression formula deviations and operational constraints.\n",
      "8. **Solver:** Select a solver (in this case, IPOPT) and apply it to your Pyomo model.\n",
      "9. **Results:** Display the optimization results, including the optimal daily profit and the values of the decision variables that achieve this maximum profit.\n",
      "\n",
      "Remember that the provided data is for illustration purposes.  Replace the sample data, bounds, and potentially the solver with ones suitable for your specific alkylation process model. \n",
      "\n"
     ]
    }
   ],
   "source": [
    "print(response4.text)"
   ]
  },
  {
   "cell_type": "code",
   "execution_count": null,
   "id": "bd046f37",
   "metadata": {},
   "outputs": [],
   "source": []
  }
 ],
 "metadata": {
  "kernelspec": {
   "display_name": "Python 3 (ipykernel)",
   "language": "python",
   "name": "python3"
  },
  "language_info": {
   "codemirror_mode": {
    "name": "ipython",
    "version": 3
   },
   "file_extension": ".py",
   "mimetype": "text/x-python",
   "name": "python",
   "nbconvert_exporter": "python",
   "pygments_lexer": "ipython3",
   "version": "3.11.4"
  }
 },
 "nbformat": 4,
 "nbformat_minor": 5
}
