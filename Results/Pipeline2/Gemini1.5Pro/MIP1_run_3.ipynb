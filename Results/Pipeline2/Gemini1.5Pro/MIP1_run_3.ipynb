{
 "cells": [
  {
   "cell_type": "markdown",
   "id": "f0005e9e",
   "metadata": {},
   "source": [
    "# LLM Optimization Modelling Experiment"
   ]
  },
  {
   "cell_type": "code",
   "execution_count": 1,
   "id": "7f664028",
   "metadata": {},
   "outputs": [],
   "source": [
    "import vertexai\n",
    "from vertexai.preview.generative_models import GenerativeModel, Image\n",
    "from IPython.display import Markdown"
   ]
  },
  {
   "cell_type": "markdown",
   "id": "f527d6af",
   "metadata": {},
   "source": [
    "## 1. Define the problem description"
   ]
  },
  {
   "cell_type": "code",
   "execution_count": 160,
   "id": "25055ffd",
   "metadata": {},
   "outputs": [],
   "source": [
    "problem = '''You are a city planner, looking to open facilities at some locations. We have a set of customers and a set of possible locations for opening facilities. Each potential location for establishing a facility incurs a fixed annual activation cost, which must be paid if the facility is used, regardless of the service volume it handles. Furthermore, this service volume at each facility is capped at a maximum annual limit. Additionally, there are transportation costs associated with servicing each customer from each facility.\n",
    "The goal is to minimize the overall costs, which include both the fixed activation costs for any opened facilities and the transportation costs for servicing customers. This must be done while making sure that each customer’s demand is met, each facility does not exceed its maximum service volume, and customers can of course only be serviced by a facility that is opened. \n",
    "Please formulate this as a mathematical optimization model.'''"
   ]
  },
  {
   "cell_type": "markdown",
   "id": "472cf9ad",
   "metadata": {},
   "source": [
    "## 2. Ask for parameters"
   ]
  },
  {
   "cell_type": "code",
   "execution_count": 203,
   "id": "e31ec80c",
   "metadata": {},
   "outputs": [],
   "source": [
    "#Initializing the session. To replicate, make sure the right credentials are saved in a PATH variable\n",
    "PROJECT_ID = \"llm4optproblems\"\n",
    "REGION = \"us-central1\"\n",
    "vertexai.init(project=PROJECT_ID, location=REGION)\n",
    "\n",
    "#Specifying the model\n",
    "generative_multimodal_model = GenerativeModel(\"gemini-1.5-pro-preview-0409\")\n",
    "\n",
    "#The propmt applied to all problems\n",
    "prompt = '''Please formulate only the variables for this mathematical optimization problem. \n",
    "'''\n",
    "\n",
    "#Generate the response\n",
    "response = generative_multimodal_model.generate_content([prompt+problem])\n"
   ]
  },
  {
   "cell_type": "code",
   "execution_count": 204,
   "id": "f9adc567",
   "metadata": {},
   "outputs": [
    {
     "data": {
      "text/markdown": [
       "## Sets:\n",
       "\n",
       "* **I**: Set of potential facility locations.\n",
       "* **J**: Set of customers. \n",
       "\n",
       "## Parameters:\n",
       "\n",
       "* **f<sub>i</sub>**: Fixed annual activation cost of facility *i* ∈ I.\n",
       "* **C<sub>i</sub>**: Maximum annual service volume of facility *i* ∈ I.\n",
       "* **d<sub>j</sub>**: Annual demand of customer *j* ∈ J.\n",
       "* **t<sub>ij</sub>**: Transportation cost of servicing customer *j* ∈ J from facility *i* ∈ I.\n",
       "\n",
       "## Decision Variables:\n",
       "\n",
       "* **x<sub>ij</sub>**: Amount of demand of customer *j* ∈ J served by facility *i* ∈ I.\n",
       "* **y<sub>i</sub>**: Binary variable equal to 1 if facility *i* ∈ I is opened, and 0 otherwise. \n"
      ],
      "text/plain": [
       "<IPython.core.display.Markdown object>"
      ]
     },
     "execution_count": 204,
     "metadata": {},
     "output_type": "execute_result"
    }
   ],
   "source": [
    "#Show the resopnse in a formatted way\n",
    "Markdown(response.text)"
   ]
  },
  {
   "cell_type": "markdown",
   "id": "15d9e89f",
   "metadata": {},
   "source": [
    "# 2. Ask for objective"
   ]
  },
  {
   "cell_type": "code",
   "execution_count": 205,
   "id": "4f357a19",
   "metadata": {},
   "outputs": [],
   "source": [
    "#Second prompt gets the output of the previous step and generates the code\n",
    "prompt2 = \"Please formulate only the objective function for this mathematical optimization problem.\"\n",
    "prompt2 += problem + response.text\n",
    "response2 = generative_multimodal_model.generate_content([prompt2])"
   ]
  },
  {
   "cell_type": "code",
   "execution_count": 206,
   "id": "bccd1014",
   "metadata": {},
   "outputs": [
    {
     "data": {
      "text/markdown": [
       "Minimize: \n",
       " $$\\sum_{i \\in I} f_i  y_i + \\sum_{i \\in I} \\sum_{j \\in J} t_{ij} x_{ij}$$ \n"
      ],
      "text/plain": [
       "<IPython.core.display.Markdown object>"
      ]
     },
     "execution_count": 206,
     "metadata": {},
     "output_type": "execute_result"
    }
   ],
   "source": [
    "Markdown(response2.text)"
   ]
  },
  {
   "cell_type": "markdown",
   "id": "d8ab1404",
   "metadata": {},
   "source": [
    "# 3. Ask for constraints"
   ]
  },
  {
   "cell_type": "code",
   "execution_count": 207,
   "id": "e6409951",
   "metadata": {},
   "outputs": [],
   "source": [
    "#Second prompt gets the output of the previous step and generates the code\n",
    "prompt3 = \"Please formulate only the constraints for this mathematical optimization problem.\"\n",
    "prompt3 += problem + response.text + response2.text\n",
    "response3 = generative_multimodal_model.generate_content([prompt3])"
   ]
  },
  {
   "cell_type": "code",
   "execution_count": 208,
   "id": "2f9439c2",
   "metadata": {},
   "outputs": [
    {
     "data": {
      "text/markdown": [
       "Subject to:\n",
       "\n",
       "* **Demand fulfillment:** $\\sum_{i \\in I} x_{ij} = d_j$ for all $j \\in J$ \n",
       "* **Capacity constraints:** $\\sum_{j \\in J} x_{ij} \\le C_i y_i$ for all $i \\in I$\n",
       "* **Service only from opened facilities:** $x_{ij} \\le d_j y_i$ for all $i \\in I$, $j \\in J$\n",
       "* **Non-negative service:**  $x_{ij} \\ge 0$ for all $i \\in I$, $j \\in J$\n",
       "* **Binary facility opening decisions:** $y_i \\in \\{0, 1\\}$ for all $i \\in I$ \n"
      ],
      "text/plain": [
       "<IPython.core.display.Markdown object>"
      ]
     },
     "execution_count": 208,
     "metadata": {},
     "output_type": "execute_result"
    }
   ],
   "source": [
    "Markdown(response3.text)"
   ]
  },
  {
   "cell_type": "code",
   "execution_count": null,
   "id": "07ba7f01",
   "metadata": {},
   "outputs": [],
   "source": []
  },
  {
   "cell_type": "markdown",
   "id": "75796979",
   "metadata": {},
   "source": [
    "## 3. Generate the pyomo code"
   ]
  },
  {
   "cell_type": "code",
   "execution_count": 209,
   "id": "aabea932",
   "metadata": {},
   "outputs": [],
   "source": [
    "#Second prompt gets the output of the previous step and generates the code\n",
    "prompt4 = \"Please write pyomo code for this mathematical problem. Use sample data where needed. Indicate where you use sample data. \\n\"\n",
    "prompt4 += response.text + response2.text + response3.text \n",
    "response4 = generative_multimodal_model.generate_content([prompt4])"
   ]
  },
  {
   "cell_type": "code",
   "execution_count": 210,
   "id": "fd2835af",
   "metadata": {},
   "outputs": [
    {
     "data": {
      "text/markdown": [
       "```python\n",
       "import pyomo.environ as pyo\n",
       "\n",
       "# Sample data (replace with your actual data)\n",
       "facilities = ['Fac1', 'Fac2', 'Fac3']\n",
       "customers = ['Cust1', 'Cust2', 'Cust3', 'Cust4']\n",
       "\n",
       "fixed_costs = {'Fac1': 100, 'Fac2': 150, 'Fac3': 120}\n",
       "capacities = {'Fac1': 200, 'Fac2': 250, 'Fac3': 180}\n",
       "demands = {'Cust1': 80, 'Cust2': 120, 'Cust3': 70, 'Cust4': 60}\n",
       "transportation_costs = {\n",
       "    ('Fac1', 'Cust1'): 5, ('Fac1', 'Cust2'): 8, ('Fac1', 'Cust3'): 6, ('Fac1', 'Cust4'): 4,\n",
       "    ('Fac2', 'Cust1'): 7, ('Fac2', 'Cust2'): 3, ('Fac2', 'Cust3'): 9, ('Fac2', 'Cust4'): 6,\n",
       "    ('Fac3', 'Cust1'): 4, ('Fac3', 'Cust2'): 6, ('Fac3', 'Cust3'): 2, ('Fac3', 'Cust4'): 8,\n",
       "}\n",
       "\n",
       "# Model\n",
       "model = pyo.ConcreteModel()\n",
       "\n",
       "# Sets\n",
       "model.I = pyo.Set(initialize=facilities)  \n",
       "model.J = pyo.Set(initialize=customers) \n",
       "\n",
       "# Parameters\n",
       "model.f = pyo.Param(model.I, initialize=fixed_costs)\n",
       "model.C = pyo.Param(model.I, initialize=capacities)\n",
       "model.d = pyo.Param(model.J, initialize=demands)\n",
       "model.t = pyo.Param(model.I, model.J, initialize=transportation_costs)\n",
       "\n",
       "# Decision Variables\n",
       "model.x = pyo.Var(model.I, model.J, within=pyo.NonNegativeReals)\n",
       "model.y = pyo.Var(model.I, within=pyo.Binary)\n",
       "\n",
       "# Objective Function\n",
       "def objective_rule(model):\n",
       "    return sum(model.f[i] * model.y[i] for i in model.I) + sum(model.t[i, j] * model.x[i, j] for i in model.I for j in model.J)\n",
       "model.obj = pyo.Objective(rule=objective_rule, sense=pyo.minimize)\n",
       "\n",
       "# Constraints\n",
       "def demand_fulfillment(model, j):\n",
       "    return sum(model.x[i, j] for i in model.I) == model.d[j]\n",
       "model.demand_constraint = pyo.Constraint(model.J, rule=demand_fulfillment)\n",
       "\n",
       "def capacity_constraint(model, i):\n",
       "    return sum(model.x[i, j] for j in model.J) <= model.C[i] * model.y[i]\n",
       "model.capacity_constraint = pyo.Constraint(model.I, rule=capacity_constraint)\n",
       "\n",
       "def service_from_opened_facilities(model, i, j):\n",
       "    return model.x[i, j] <= model.d[j] * model.y[i]\n",
       "model.service_constraint = pyo.Constraint(model.I, model.J, rule=service_from_opened_facilities)\n",
       "\n",
       "# Solve the model\n",
       "solver = pyo.SolverFactory('glpk')  # Choose a suitable solver\n",
       "solver.solve(model)\n",
       "\n",
       "# Print results\n",
       "print(\"Optimal Solution:\")\n",
       "print(\"Total Cost:\", pyo.value(model.obj))\n",
       "print(\"Facility Opening Decisions:\")\n",
       "for i in model.I:\n",
       "    print(f\"\\t{i}: {pyo.value(model.y[i])}\")\n",
       "print(\"Service Allocation:\")\n",
       "for i in model.I:\n",
       "    for j in model.J:\n",
       "        if pyo.value(model.x[i, j]) > 0:\n",
       "            print(f\"\\t{i} serves {j} with amount: {pyo.value(model.x[i, j])}\")\n",
       "```\n",
       "\n",
       "This code first defines sample data for the problem. **Remember to replace this sample data with your actual data.** The rest of the code sets up the mathematical model using Pyomo, solves it, and prints the results. \n"
      ],
      "text/plain": [
       "<IPython.core.display.Markdown object>"
      ]
     },
     "execution_count": 210,
     "metadata": {},
     "output_type": "execute_result"
    }
   ],
   "source": [
    "#Showing the code in a formatted way\n",
    "Markdown(response4.text)"
   ]
  },
  {
   "cell_type": "markdown",
   "id": "b60756ae",
   "metadata": {},
   "source": [
    "## 4. Input problem data and try running the generated code"
   ]
  },
  {
   "cell_type": "code",
   "execution_count": 213,
   "id": "41ed7d93",
   "metadata": {},
   "outputs": [
    {
     "name": "stdout",
     "output_type": "stream",
     "text": [
      "Optimal Solution:\n",
      "Total Cost: 5610.0\n",
      "Facility Opening Decisions:\n",
      "\t1: 0.0\n",
      "\t2: 1.0\n",
      "\t3: 1.0\n",
      "Service Allocation:\n",
      "\t2 serves 1 with amount: 80.0\n",
      "\t2 serves 2 with amount: 270.0\n",
      "\t2 serves 3 with amount: 150.0\n",
      "\t3 serves 3 with amount: 100.0\n",
      "\t3 serves 4 with amount: 160.0\n",
      "\t3 serves 5 with amount: 180.0\n"
     ]
    }
   ],
   "source": [
    "import pyomo.environ as pyo\n",
    "\n",
    "# Sample data (replace with your actual data)\n",
    "facilities = [1, 2, 3]\n",
    "customers = [1,2,3,4,5]\n",
    "\n",
    "fixed_costs = {1: 1000, 2: 1000, 3: 1000}\n",
    "capacities = {1: 500, 2: 500, 3: 500}  \n",
    "demands ={1: 80, 2: 270, 3: 250,4:160,5:180}\n",
    "transportation_costs = {\n",
    "    (1, 1): 4,  (2, 1): 6,  (3, 1): 9,\n",
    "    (1, 2): 5,  (2, 2): 4,  (3, 2): 7,\n",
    "    (1, 3): 6,  (2, 3): 3,  (3, 3): 4,\n",
    "    (1, 4): 8,  (2, 4): 5,  (3, 4): 3,\n",
    "    (1, 5): 10, (2, 5): 8,  (3, 5): 4,\n",
    "}\n",
    "\n",
    "# Model\n",
    "model = pyo.ConcreteModel()\n",
    "\n",
    "# Sets\n",
    "model.I = pyo.Set(initialize=facilities)  \n",
    "model.J = pyo.Set(initialize=customers) \n",
    "\n",
    "# Parameters\n",
    "model.f = pyo.Param(model.I, initialize=fixed_costs)\n",
    "model.C = pyo.Param(model.I, initialize=capacities)\n",
    "model.d = pyo.Param(model.J, initialize=demands)\n",
    "model.t = pyo.Param(model.I, model.J, initialize=transportation_costs)\n",
    "\n",
    "# Decision Variables\n",
    "model.x = pyo.Var(model.I, model.J, within=pyo.NonNegativeReals)\n",
    "model.y = pyo.Var(model.I, within=pyo.Binary)\n",
    "\n",
    "# Objective Function\n",
    "def objective_rule(model):\n",
    "    return sum(model.f[i] * model.y[i] for i in model.I) + sum(model.t[i, j] * model.x[i, j] for i in model.I for j in model.J)\n",
    "model.obj = pyo.Objective(rule=objective_rule, sense=pyo.minimize)\n",
    "\n",
    "# Constraints\n",
    "def demand_fulfillment(model, j):\n",
    "    return sum(model.x[i, j] for i in model.I) == model.d[j]\n",
    "model.demand_constraint = pyo.Constraint(model.J, rule=demand_fulfillment)\n",
    "\n",
    "def capacity_constraint(model, i):\n",
    "    return sum(model.x[i, j] for j in model.J) <= model.C[i] * model.y[i]\n",
    "model.capacity_constraint = pyo.Constraint(model.I, rule=capacity_constraint)\n",
    "\n",
    "def service_from_opened_facilities(model, i, j):\n",
    "    return model.x[i, j] <= model.d[j] * model.y[i]\n",
    "model.service_constraint = pyo.Constraint(model.I, model.J, rule=service_from_opened_facilities)\n",
    "\n",
    "# Solve the model\n",
    "solver = pyo.SolverFactory('glpk')  # Choose a suitable solver\n",
    "solver.solve(model)\n",
    "\n",
    "# Print results\n",
    "print(\"Optimal Solution:\")\n",
    "print(\"Total Cost:\", pyo.value(model.obj))\n",
    "print(\"Facility Opening Decisions:\")\n",
    "for i in model.I:\n",
    "    print(f\"\\t{i}: {pyo.value(model.y[i])}\")\n",
    "print(\"Service Allocation:\")\n",
    "for i in model.I:\n",
    "    for j in model.J:\n",
    "        if pyo.value(model.x[i, j]) > 0:\n",
    "            print(f\"\\t{i} serves {j} with amount: {pyo.value(model.x[i, j])}\")"
   ]
  },
  {
   "cell_type": "markdown",
   "id": "1be0926e",
   "metadata": {},
   "source": [
    "## 5. Correct the code to verify model viability (optional)"
   ]
  },
  {
   "cell_type": "code",
   "execution_count": null,
   "id": "8b37acfc",
   "metadata": {},
   "outputs": [],
   "source": []
  },
  {
   "cell_type": "markdown",
   "id": "e56bad4f",
   "metadata": {},
   "source": [
    "## 6. Print the responses"
   ]
  },
  {
   "cell_type": "code",
   "execution_count": 214,
   "id": "ea5d8d48",
   "metadata": {},
   "outputs": [
    {
     "name": "stdout",
     "output_type": "stream",
     "text": [
      "## Sets:\n",
      "\n",
      "* **I**: Set of potential facility locations.\n",
      "* **J**: Set of customers. \n",
      "\n",
      "## Parameters:\n",
      "\n",
      "* **f<sub>i</sub>**: Fixed annual activation cost of facility *i* ∈ I.\n",
      "* **C<sub>i</sub>**: Maximum annual service volume of facility *i* ∈ I.\n",
      "* **d<sub>j</sub>**: Annual demand of customer *j* ∈ J.\n",
      "* **t<sub>ij</sub>**: Transportation cost of servicing customer *j* ∈ J from facility *i* ∈ I.\n",
      "\n",
      "## Decision Variables:\n",
      "\n",
      "* **x<sub>ij</sub>**: Amount of demand of customer *j* ∈ J served by facility *i* ∈ I.\n",
      "* **y<sub>i</sub>**: Binary variable equal to 1 if facility *i* ∈ I is opened, and 0 otherwise. \n",
      "\n"
     ]
    }
   ],
   "source": [
    "print(response.text)"
   ]
  },
  {
   "cell_type": "code",
   "execution_count": 215,
   "id": "a004a441",
   "metadata": {},
   "outputs": [
    {
     "name": "stdout",
     "output_type": "stream",
     "text": [
      "Minimize: \n",
      " $$\\sum_{i \\in I} f_i  y_i + \\sum_{i \\in I} \\sum_{j \\in J} t_{ij} x_{ij}$$ \n",
      "\n"
     ]
    }
   ],
   "source": [
    "print(response2.text)"
   ]
  },
  {
   "cell_type": "code",
   "execution_count": 216,
   "id": "f1db6bda",
   "metadata": {},
   "outputs": [
    {
     "name": "stdout",
     "output_type": "stream",
     "text": [
      "Subject to:\n",
      "\n",
      "* **Demand fulfillment:** $\\sum_{i \\in I} x_{ij} = d_j$ for all $j \\in J$ \n",
      "* **Capacity constraints:** $\\sum_{j \\in J} x_{ij} \\le C_i y_i$ for all $i \\in I$\n",
      "* **Service only from opened facilities:** $x_{ij} \\le d_j y_i$ for all $i \\in I$, $j \\in J$\n",
      "* **Non-negative service:**  $x_{ij} \\ge 0$ for all $i \\in I$, $j \\in J$\n",
      "* **Binary facility opening decisions:** $y_i \\in \\{0, 1\\}$ for all $i \\in I$ \n",
      "\n"
     ]
    }
   ],
   "source": [
    "print(response3.text)"
   ]
  },
  {
   "cell_type": "code",
   "execution_count": 217,
   "id": "dfa433ce",
   "metadata": {},
   "outputs": [
    {
     "name": "stdout",
     "output_type": "stream",
     "text": [
      "```python\n",
      "import pyomo.environ as pyo\n",
      "\n",
      "# Sample data (replace with your actual data)\n",
      "facilities = ['Fac1', 'Fac2', 'Fac3']\n",
      "customers = ['Cust1', 'Cust2', 'Cust3', 'Cust4']\n",
      "\n",
      "fixed_costs = {'Fac1': 100, 'Fac2': 150, 'Fac3': 120}\n",
      "capacities = {'Fac1': 200, 'Fac2': 250, 'Fac3': 180}\n",
      "demands = {'Cust1': 80, 'Cust2': 120, 'Cust3': 70, 'Cust4': 60}\n",
      "transportation_costs = {\n",
      "    ('Fac1', 'Cust1'): 5, ('Fac1', 'Cust2'): 8, ('Fac1', 'Cust3'): 6, ('Fac1', 'Cust4'): 4,\n",
      "    ('Fac2', 'Cust1'): 7, ('Fac2', 'Cust2'): 3, ('Fac2', 'Cust3'): 9, ('Fac2', 'Cust4'): 6,\n",
      "    ('Fac3', 'Cust1'): 4, ('Fac3', 'Cust2'): 6, ('Fac3', 'Cust3'): 2, ('Fac3', 'Cust4'): 8,\n",
      "}\n",
      "\n",
      "# Model\n",
      "model = pyo.ConcreteModel()\n",
      "\n",
      "# Sets\n",
      "model.I = pyo.Set(initialize=facilities)  \n",
      "model.J = pyo.Set(initialize=customers) \n",
      "\n",
      "# Parameters\n",
      "model.f = pyo.Param(model.I, initialize=fixed_costs)\n",
      "model.C = pyo.Param(model.I, initialize=capacities)\n",
      "model.d = pyo.Param(model.J, initialize=demands)\n",
      "model.t = pyo.Param(model.I, model.J, initialize=transportation_costs)\n",
      "\n",
      "# Decision Variables\n",
      "model.x = pyo.Var(model.I, model.J, within=pyo.NonNegativeReals)\n",
      "model.y = pyo.Var(model.I, within=pyo.Binary)\n",
      "\n",
      "# Objective Function\n",
      "def objective_rule(model):\n",
      "    return sum(model.f[i] * model.y[i] for i in model.I) + sum(model.t[i, j] * model.x[i, j] for i in model.I for j in model.J)\n",
      "model.obj = pyo.Objective(rule=objective_rule, sense=pyo.minimize)\n",
      "\n",
      "# Constraints\n",
      "def demand_fulfillment(model, j):\n",
      "    return sum(model.x[i, j] for i in model.I) == model.d[j]\n",
      "model.demand_constraint = pyo.Constraint(model.J, rule=demand_fulfillment)\n",
      "\n",
      "def capacity_constraint(model, i):\n",
      "    return sum(model.x[i, j] for j in model.J) <= model.C[i] * model.y[i]\n",
      "model.capacity_constraint = pyo.Constraint(model.I, rule=capacity_constraint)\n",
      "\n",
      "def service_from_opened_facilities(model, i, j):\n",
      "    return model.x[i, j] <= model.d[j] * model.y[i]\n",
      "model.service_constraint = pyo.Constraint(model.I, model.J, rule=service_from_opened_facilities)\n",
      "\n",
      "# Solve the model\n",
      "solver = pyo.SolverFactory('glpk')  # Choose a suitable solver\n",
      "solver.solve(model)\n",
      "\n",
      "# Print results\n",
      "print(\"Optimal Solution:\")\n",
      "print(\"Total Cost:\", pyo.value(model.obj))\n",
      "print(\"Facility Opening Decisions:\")\n",
      "for i in model.I:\n",
      "    print(f\"\\t{i}: {pyo.value(model.y[i])}\")\n",
      "print(\"Service Allocation:\")\n",
      "for i in model.I:\n",
      "    for j in model.J:\n",
      "        if pyo.value(model.x[i, j]) > 0:\n",
      "            print(f\"\\t{i} serves {j} with amount: {pyo.value(model.x[i, j])}\")\n",
      "```\n",
      "\n",
      "This code first defines sample data for the problem. **Remember to replace this sample data with your actual data.** The rest of the code sets up the mathematical model using Pyomo, solves it, and prints the results. \n",
      "\n"
     ]
    }
   ],
   "source": [
    "print(response4.text)"
   ]
  }
 ],
 "metadata": {
  "kernelspec": {
   "display_name": "Python 3 (ipykernel)",
   "language": "python",
   "name": "python3"
  },
  "language_info": {
   "codemirror_mode": {
    "name": "ipython",
    "version": 3
   },
   "file_extension": ".py",
   "mimetype": "text/x-python",
   "name": "python",
   "nbconvert_exporter": "python",
   "pygments_lexer": "ipython3",
   "version": "3.11.4"
  }
 },
 "nbformat": 4,
 "nbformat_minor": 5
}
