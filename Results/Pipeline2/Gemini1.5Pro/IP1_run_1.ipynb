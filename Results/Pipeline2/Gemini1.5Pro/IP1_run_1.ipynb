{
 "cells": [
  {
   "cell_type": "markdown",
   "id": "f0005e9e",
   "metadata": {},
   "source": [
    "# LLM Optimization Modelling Experiment"
   ]
  },
  {
   "cell_type": "code",
   "execution_count": 1,
   "id": "7f664028",
   "metadata": {},
   "outputs": [],
   "source": [
    "import vertexai\n",
    "from vertexai.preview.generative_models import GenerativeModel, Image\n",
    "from IPython.display import Markdown"
   ]
  },
  {
   "cell_type": "markdown",
   "id": "f527d6af",
   "metadata": {},
   "source": [
    "## 1. Define the problem description"
   ]
  },
  {
   "cell_type": "code",
   "execution_count": 45,
   "id": "25055ffd",
   "metadata": {},
   "outputs": [],
   "source": [
    "problem = '''We are delighted to welcome you, our newest intern on the Analytics team of Massachusetts General Hospital! You have been placed in a challenging role where you will be tasked with solving a real-world problem in the field of medical physics. We are building a pilot program in Boston, and if successful, your work could be applied widely in hospitals with limited capacity in many countries.\n",
    "\n",
    "You are responsible for determining the best treatment plan for 17 patients who require radiotherapy. Your goal is to optimize the use of two possible treatments: photon therapy and proton therapy. While proton therapy is known to target tumors more precisely, it is also more expensive and has limited capacity in many countries. Therefore, you will need to balance the benefits of proton therapy with its limitations and cost to create an effective treatment plan for each patient.\n",
    "\n",
    "To determine the best course of action for each patient, you will use a scoring system called the Biological Equivalent Dose (BED). This system allows you to calculate the effectiveness of each patient’s treatment plan by considering the number of proton fractions that can be used while still achieving the highest possible BED.\n",
    "\n",
    "We have n=17 patients who need radiotherapy. Each patient i needs 15 fractions, which can be photon fractions, proton fractions, or a mix of photon and proton fractions (e.g. 4 proton fractions and 11 photon fractions). We want to use the limited proton therapy capacity as best as possible. We can calculate the BED score for each patient when p proton fractions and 15-p photon fractions are used, as BEDi(p,15-p), i.e., the BED when p proton and 15-p photon fractions are delivered for patient i. The higher the score, the better. \n",
    "\n",
    "The data file \"ProblemData.csv\" contains a 2D matrix of BED scores. It does not have an index. It was made in Excel and saved as csv. The columns are the number of proton fractions and each row represents a patient. In particular, the number at the (i,j) position is the score for patient i receiving j proton fractions. \n",
    "\n",
    "Suppose that the total maximal capacity C is 100 proton fractions. To maximize the total BED scores for all the patients, which patients should get proton fractions, and how many should they get? Formulate an integer linear optimization model to solve this problem. Assume you know the value BEDi(j,15-j) for each patient i. '''"
   ]
  },
  {
   "cell_type": "markdown",
   "id": "472cf9ad",
   "metadata": {},
   "source": [
    "## 2. Ask for parameters"
   ]
  },
  {
   "cell_type": "code",
   "execution_count": 48,
   "id": "e31ec80c",
   "metadata": {},
   "outputs": [],
   "source": [
    "#Initializing the session. To replicate, make sure the right credentials are saved in a PATH variable\n",
    "PROJECT_ID = \"llm4optproblems\"\n",
    "REGION = \"us-central1\"\n",
    "vertexai.init(project=PROJECT_ID, location=REGION)\n",
    "\n",
    "#Specifying the model\n",
    "generative_multimodal_model = GenerativeModel(\"gemini-1.5-pro-preview-0409\")\n",
    "\n",
    "#The propmt applied to all problems\n",
    "prompt = '''Please formulate only the variables for this mathematical optimization problem. \n",
    "'''\n",
    "\n",
    "#Generate the response\n",
    "response = generative_multimodal_model.generate_content([prompt+problem])\n"
   ]
  },
  {
   "cell_type": "code",
   "execution_count": 49,
   "id": "f9adc567",
   "metadata": {},
   "outputs": [
    {
     "data": {
      "text/markdown": [
       "## Variables:\n",
       "\n",
       "* **x<sub>ij</sub>:** Binary variable equal to 1 if patient *i* receives *j* proton fractions, and 0 otherwise, for *i* = 1, 2, ..., 17 and *j* = 0, 1, 2, ..., 15. \n"
      ],
      "text/plain": [
       "<IPython.core.display.Markdown object>"
      ]
     },
     "execution_count": 49,
     "metadata": {},
     "output_type": "execute_result"
    }
   ],
   "source": [
    "#Show the resopnse in a formatted way\n",
    "Markdown(response.text)"
   ]
  },
  {
   "cell_type": "markdown",
   "id": "15d9e89f",
   "metadata": {},
   "source": [
    "# 2. Ask for objective"
   ]
  },
  {
   "cell_type": "code",
   "execution_count": 50,
   "id": "4f357a19",
   "metadata": {},
   "outputs": [],
   "source": [
    "#Second prompt gets the output of the previous step and generates the code\n",
    "prompt2 = \"Please formulate only the objective function for this mathematical optimization problem.\"\n",
    "prompt2 += problem + response.text\n",
    "response2 = generative_multimodal_model.generate_content([prompt2])"
   ]
  },
  {
   "cell_type": "code",
   "execution_count": 51,
   "id": "bccd1014",
   "metadata": {},
   "outputs": [
    {
     "data": {
      "text/markdown": [
       "$$\\max \\sum_{i=1}^{17} \\sum_{j=0}^{15} BED_{i}(j, 15-j) \\cdot x_{ij}$$ \n"
      ],
      "text/plain": [
       "<IPython.core.display.Markdown object>"
      ]
     },
     "execution_count": 51,
     "metadata": {},
     "output_type": "execute_result"
    }
   ],
   "source": [
    "Markdown(response2.text)"
   ]
  },
  {
   "cell_type": "markdown",
   "id": "d8ab1404",
   "metadata": {},
   "source": [
    "# 3. Ask for constraints"
   ]
  },
  {
   "cell_type": "code",
   "execution_count": 52,
   "id": "e6409951",
   "metadata": {},
   "outputs": [],
   "source": [
    "#Second prompt gets the output of the previous step and generates the code\n",
    "prompt3 = \"Please formulate only the constraints for this mathematical optimization problem.\"\n",
    "prompt3 += problem + response.text + response2.text\n",
    "response3 = generative_multimodal_model.generate_content([prompt3])"
   ]
  },
  {
   "cell_type": "code",
   "execution_count": 53,
   "id": "2f9439c2",
   "metadata": {},
   "outputs": [
    {
     "data": {
      "text/markdown": [
       "Subject to:\n",
       "\n",
       "* **Capacity constraint:** The total number of proton fractions assigned to patients cannot exceed the available capacity, _C_.\n",
       "  \n",
       "  ∑<sub>i=1</sub><sup>17</sup> ∑<sub>j=0</sub><sup>15</sup> j * x<sub>ij</sub> ≤ C \n",
       "\n",
       "* **Single treatment per patient:** Each patient _i_ must receive a single treatment plan, meaning only one of  x<sub>ij</sub> can be equal to 1 for each _i_. \n",
       "\n",
       "  ∑<sub>j=0</sub><sup>15</sup> x<sub>ij</sub> = 1 for all i = 1,2,.., 17\n",
       "\n",
       "* **Binary variable constraint:** The decision variables x<sub>ij</sub> are binary.\n",
       "\n",
       "  x<sub>ij</sub> ∈ {0, 1} for all i = 1, 2, ..., 17 and j = 0, 1, 2, ..., 15 \n"
      ],
      "text/plain": [
       "<IPython.core.display.Markdown object>"
      ]
     },
     "execution_count": 53,
     "metadata": {},
     "output_type": "execute_result"
    }
   ],
   "source": [
    "Markdown(response3.text)"
   ]
  },
  {
   "cell_type": "code",
   "execution_count": null,
   "id": "07ba7f01",
   "metadata": {},
   "outputs": [],
   "source": []
  },
  {
   "cell_type": "markdown",
   "id": "75796979",
   "metadata": {},
   "source": [
    "## 3. Generate the pyomo code"
   ]
  },
  {
   "cell_type": "code",
   "execution_count": 62,
   "id": "aabea932",
   "metadata": {},
   "outputs": [],
   "source": [
    "#Second prompt gets the output of the previous step and generates the code\n",
    "prompt4 = \"Please write pyomo code for this mathematical problem. Use sample data where needed. Indicate where you use sample data. \\n\"\n",
    "prompt4 += response.text + response2.text + response3.text \n",
    "response4 = generative_multimodal_model.generate_content([prompt4])"
   ]
  },
  {
   "cell_type": "code",
   "execution_count": 63,
   "id": "fd2835af",
   "metadata": {},
   "outputs": [
    {
     "data": {
      "text/markdown": [
       "```python\n",
       "import pyomo.environ as pyo\n",
       "\n",
       "# Sample Data - Replace with actual data\n",
       "BED = {(i, j): i * j * (15 - j) / 100  # Sample function for BED, replace with actual calculation\n",
       "       for i in range(1, 18) for j in range(0, 16)}\n",
       "C = 100  # Sample capacity, replace with actual capacity\n",
       "\n",
       "# Model\n",
       "model = pyo.ConcreteModel()\n",
       "\n",
       "# Sets\n",
       "model.I = pyo.RangeSet(1, 17)  # Set of patients\n",
       "model.J = pyo.RangeSet(0, 15)  # Set of proton fractions\n",
       "\n",
       "# Variables\n",
       "model.x = pyo.Var(model.I, model.J, within=pyo.Binary)  # Binary variable x_ij\n",
       "\n",
       "# Objective function\n",
       "def objective_rule(model):\n",
       "    return sum(BED[i, j] * model.x[i, j] for i in model.I for j in model.J)\n",
       "model.obj = pyo.Objective(rule=objective_rule, sense=pyo.maximize)\n",
       "\n",
       "# Constraints\n",
       "def capacity_constraint(model):\n",
       "    return sum(j * model.x[i, j] for i in model.I for j in model.J) <= C\n",
       "model.capacity = pyo.Constraint(rule=capacity_constraint)\n",
       "\n",
       "def single_treatment_constraint(model, i):\n",
       "    return sum(model.x[i, j] for j in model.J) == 1\n",
       "model.single_treatment = pyo.Constraint(model.I, rule=single_treatment_constraint)\n",
       "\n",
       "# Solve\n",
       "solver = pyo.SolverFactory('glpk')  # Choose a suitable solver\n",
       "solver.solve(model)\n",
       "\n",
       "# Print results\n",
       "print(\"Optimal Solution:\")\n",
       "for i in model.I:\n",
       "    for j in model.J:\n",
       "        if pyo.value(model.x[i, j]) > 0.5:\n",
       "            print(f\"Patient {i} receives {j} proton fractions\")\n",
       "```\n",
       "\n",
       "**Explanation:**\n",
       "\n",
       "1. **Import pyomo:**  Import the Pyomo library.\n",
       "2. **Sample Data:** I've included sample data for `BED` and `C`. You'll need to replace this with your actual data. \n",
       "3. **Model Initialization:** Create a concrete model object.\n",
       "4. **Sets:** Define sets to represent patients (`I`) and proton fractions (`J`).\n",
       "5. **Variables:** Create a binary variable `x` indexed over `I` and `J` representing the treatment plan.\n",
       "6. **Objective Function:** Define the objective function to maximize the total `BED` based on the chosen treatment plans.\n",
       "7. **Constraints:**\n",
       "   - `capacity_constraint`: Ensures the total proton fractions assigned do not exceed the capacity `C`.\n",
       "   - `single_treatment_constraint`:  Ensures each patient receives only one treatment plan.\n",
       "8. **Solver:** Create a solver instance (here, using `glpk`) and solve the model.\n",
       "9. **Results:** Print the optimal treatment plan for each patient. \n"
      ],
      "text/plain": [
       "<IPython.core.display.Markdown object>"
      ]
     },
     "execution_count": 63,
     "metadata": {},
     "output_type": "execute_result"
    }
   ],
   "source": [
    "#Showing the code in a formatted way\n",
    "Markdown(response4.text)"
   ]
  },
  {
   "cell_type": "markdown",
   "id": "b60756ae",
   "metadata": {},
   "source": [
    "## 4. Input problem data and try running the generated code"
   ]
  },
  {
   "cell_type": "code",
   "execution_count": 75,
   "id": "41ed7d93",
   "metadata": {},
   "outputs": [
    {
     "name": "stdout",
     "output_type": "stream",
     "text": [
      "Optimal Solution:\n",
      "Patient 1 receives 15 proton fractions\n",
      "Patient 2 receives 8 proton fractions\n",
      "Patient 3 receives 3 proton fractions\n",
      "Patient 4 receives 0 proton fractions\n",
      "Patient 5 receives 5 proton fractions\n",
      "Patient 6 receives 0 proton fractions\n",
      "Patient 7 receives 4 proton fractions\n",
      "Patient 8 receives 13 proton fractions\n",
      "Patient 9 receives 4 proton fractions\n",
      "Patient 10 receives 5 proton fractions\n",
      "Patient 11 receives 6 proton fractions\n",
      "Patient 12 receives 0 proton fractions\n",
      "Patient 13 receives 5 proton fractions\n",
      "Patient 14 receives 0 proton fractions\n",
      "Patient 15 receives 10 proton fractions\n",
      "Patient 16 receives 10 proton fractions\n",
      "Patient 17 receives 12 proton fractions\n",
      "8.239999999999998\n"
     ]
    }
   ],
   "source": [
    "import pyomo.environ as pyo\n",
    "import pandas as pd\n",
    "\n",
    "# Sample Data - Replace with actual data\n",
    "# BED = {(i, j): i * j * (15 - j) / 100  # Sample function for BED, replace with actual calculation\n",
    "#        for i in range(1, 18) for j in range(0, 16)}\n",
    "\n",
    "#Data input done by human\n",
    "df = pd.read_csv('ProblemData.csv', header=None)\n",
    "BED = {}\n",
    "for i, row in df.iterrows():\n",
    "    for j, dose in enumerate(row):\n",
    "        BED[(i+1, j)] = dose\n",
    "#End\n",
    "\n",
    "C = 100  # Sample capacity, replace with actual capacity\n",
    "\n",
    "# Model\n",
    "model = pyo.ConcreteModel()\n",
    "\n",
    "# Sets\n",
    "model.I = pyo.RangeSet(1, 17)  # Set of patients\n",
    "model.J = pyo.RangeSet(0, 15)  # Set of proton fractions\n",
    "\n",
    "# Variables\n",
    "model.x = pyo.Var(model.I, model.J, within=pyo.Binary)  # Binary variable x_ij\n",
    "\n",
    "# Objective function\n",
    "def objective_rule(model):\n",
    "    return sum(BED[i, j] * model.x[i, j] for i in model.I for j in model.J)\n",
    "model.obj = pyo.Objective(rule=objective_rule, sense=pyo.maximize)\n",
    "\n",
    "# Constraints\n",
    "def capacity_constraint(model):\n",
    "    return sum(j * model.x[i, j] for i in model.I for j in model.J) <= C\n",
    "model.capacity = pyo.Constraint(rule=capacity_constraint)\n",
    "\n",
    "def single_treatment_constraint(model, i):\n",
    "    return sum(model.x[i, j] for j in model.J) == 1\n",
    "model.single_treatment = pyo.Constraint(model.I, rule=single_treatment_constraint)\n",
    "\n",
    "# Solve\n",
    "solver = pyo.SolverFactory('glpk')  # Choose a suitable solver\n",
    "solver.solve(model)\n",
    "\n",
    "# Print results\n",
    "print(\"Optimal Solution:\")\n",
    "for i in model.I:\n",
    "    for j in model.J:\n",
    "        if pyo.value(model.x[i, j]) > 0.5:\n",
    "            print(f\"Patient {i} receives {j} proton fractions\")\n",
    "print(model.obj())"
   ]
  },
  {
   "cell_type": "markdown",
   "id": "1be0926e",
   "metadata": {},
   "source": [
    "## 5. Correct the code to verify model viability (optional)"
   ]
  },
  {
   "cell_type": "code",
   "execution_count": 74,
   "id": "8b37acfc",
   "metadata": {},
   "outputs": [
    {
     "data": {
      "text/plain": [
       "{(1, 0): 0.14,\n",
       " (1, 1): 0.16,\n",
       " (1, 2): 0.18,\n",
       " (1, 3): 0.2,\n",
       " (1, 4): 0.22,\n",
       " (1, 5): 0.24,\n",
       " (1, 6): 0.26,\n",
       " (1, 7): 0.28,\n",
       " (1, 8): 0.3,\n",
       " (1, 9): 0.32,\n",
       " (1, 10): 0.34,\n",
       " (1, 11): 0.36,\n",
       " (1, 12): 0.38,\n",
       " (1, 13): 0.4,\n",
       " (1, 14): 0.42,\n",
       " (1, 15): 0.44,\n",
       " (2, 0): 0.2,\n",
       " (2, 1): 0.23,\n",
       " (2, 2): 0.27,\n",
       " (2, 3): 0.3,\n",
       " (2, 4): 0.35,\n",
       " (2, 5): 0.4,\n",
       " (2, 6): 0.44,\n",
       " (2, 7): 0.46,\n",
       " (2, 8): 0.5,\n",
       " (2, 9): 0.51,\n",
       " (2, 10): 0.52,\n",
       " (2, 11): 0.53,\n",
       " (2, 12): 0.53,\n",
       " (2, 13): 0.54,\n",
       " (2, 14): 0.54,\n",
       " (2, 15): 0.55,\n",
       " (3, 0): 0.5,\n",
       " (3, 1): 0.6,\n",
       " (3, 2): 0.7,\n",
       " (3, 3): 0.75,\n",
       " (3, 4): 0.75,\n",
       " (3, 5): 0.76,\n",
       " (3, 6): 0.76,\n",
       " (3, 7): 0.76,\n",
       " (3, 8): 0.77,\n",
       " (3, 9): 0.77,\n",
       " (3, 10): 0.77,\n",
       " (3, 11): 0.77,\n",
       " (3, 12): 0.78,\n",
       " (3, 13): 0.78,\n",
       " (3, 14): 0.78,\n",
       " (3, 15): 0.78,\n",
       " (4, 0): 0.3,\n",
       " (4, 1): 0.32,\n",
       " (4, 2): 0.34,\n",
       " (4, 3): 0.36,\n",
       " (4, 4): 0.38,\n",
       " (4, 5): 0.4,\n",
       " (4, 6): 0.42,\n",
       " (4, 7): 0.44,\n",
       " (4, 8): 0.46,\n",
       " (4, 9): 0.48,\n",
       " (4, 10): 0.5,\n",
       " (4, 11): 0.52,\n",
       " (4, 12): 0.54,\n",
       " (4, 13): 0.56,\n",
       " (4, 14): 0.58,\n",
       " (4, 15): 0.6,\n",
       " (5, 0): 0.01,\n",
       " (5, 1): 0.06,\n",
       " (5, 2): 0.11,\n",
       " (5, 3): 0.16,\n",
       " (5, 4): 0.21,\n",
       " (5, 5): 0.26,\n",
       " (5, 6): 0.27,\n",
       " (5, 7): 0.28,\n",
       " (5, 8): 0.29,\n",
       " (5, 9): 0.3,\n",
       " (5, 10): 0.31,\n",
       " (5, 11): 0.320000000000001,\n",
       " (5, 12): 0.330000000000001,\n",
       " (5, 13): 0.340000000000001,\n",
       " (5, 14): 0.350000000000001,\n",
       " (5, 15): 0.360000000000001,\n",
       " (6, 0): 0.8,\n",
       " (6, 1): 0.81,\n",
       " (6, 2): 0.82,\n",
       " (6, 3): 0.83,\n",
       " (6, 4): 0.84,\n",
       " (6, 5): 0.85,\n",
       " (6, 6): 0.86,\n",
       " (6, 7): 0.87,\n",
       " (6, 8): 0.88,\n",
       " (6, 9): 0.89,\n",
       " (6, 10): 0.9,\n",
       " (6, 11): 0.91,\n",
       " (6, 12): 0.92,\n",
       " (6, 13): 0.93,\n",
       " (6, 14): 0.94,\n",
       " (6, 15): 0.95,\n",
       " (7, 0): 0.55,\n",
       " (7, 1): 0.58,\n",
       " (7, 2): 0.61,\n",
       " (7, 3): 0.64,\n",
       " (7, 4): 0.67,\n",
       " (7, 5): 0.68,\n",
       " (7, 6): 0.690000000000001,\n",
       " (7, 7): 0.700000000000001,\n",
       " (7, 8): 0.710000000000002,\n",
       " (7, 9): 0.720000000000002,\n",
       " (7, 10): 0.730000000000003,\n",
       " (7, 11): 0.740000000000003,\n",
       " (7, 12): 0.750000000000004,\n",
       " (7, 13): 0.760000000000004,\n",
       " (7, 14): 0.770000000000005,\n",
       " (7, 15): 0.780000000000005,\n",
       " (8, 0): 0.02,\n",
       " (8, 1): 0.04,\n",
       " (8, 2): 0.06,\n",
       " (8, 3): 0.08,\n",
       " (8, 4): 0.1,\n",
       " (8, 5): 0.12,\n",
       " (8, 6): 0.14,\n",
       " (8, 7): 0.16,\n",
       " (8, 8): 0.18,\n",
       " (8, 9): 0.2,\n",
       " (8, 10): 0.22,\n",
       " (8, 11): 0.24,\n",
       " (8, 12): 0.26,\n",
       " (8, 13): 0.28,\n",
       " (8, 14): 0.3,\n",
       " (8, 15): 0.32,\n",
       " (9, 0): 0.1,\n",
       " (9, 1): 0.13,\n",
       " (9, 2): 0.16,\n",
       " (9, 3): 0.19,\n",
       " (9, 4): 0.22,\n",
       " (9, 5): 0.23,\n",
       " (9, 6): 0.24,\n",
       " (9, 7): 0.25,\n",
       " (9, 8): 0.26,\n",
       " (9, 9): 0.27,\n",
       " (9, 10): 0.28,\n",
       " (9, 11): 0.29,\n",
       " (9, 12): 0.3,\n",
       " (9, 13): 0.3,\n",
       " (9, 14): 0.3,\n",
       " (9, 15): 0.3,\n",
       " (10, 0): 0.7,\n",
       " (10, 1): 0.72,\n",
       " (10, 2): 0.74,\n",
       " (10, 3): 0.76,\n",
       " (10, 4): 0.78,\n",
       " (10, 5): 0.8,\n",
       " (10, 6): 0.8,\n",
       " (10, 7): 0.8,\n",
       " (10, 8): 0.800000000000001,\n",
       " (10, 9): 0.800000000000001,\n",
       " (10, 10): 0.800000000000002,\n",
       " (10, 11): 0.800000000000002,\n",
       " (10, 12): 0.800000000000003,\n",
       " (10, 13): 0.800000000000003,\n",
       " (10, 14): 0.800000000000004,\n",
       " (10, 15): 0.800000000000004,\n",
       " (11, 0): 0.4,\n",
       " (11, 1): 0.41,\n",
       " (11, 2): 0.43,\n",
       " (11, 3): 0.45,\n",
       " (11, 4): 0.47,\n",
       " (11, 5): 0.5,\n",
       " (11, 6): 0.53,\n",
       " (11, 7): 0.54,\n",
       " (11, 8): 0.55,\n",
       " (11, 9): 0.56,\n",
       " (11, 10): 0.57,\n",
       " (11, 11): 0.58,\n",
       " (11, 12): 0.59,\n",
       " (11, 13): 0.6,\n",
       " (11, 14): 0.61,\n",
       " (11, 15): 0.62,\n",
       " (12, 0): 0.2,\n",
       " (12, 1): 0.21,\n",
       " (12, 2): 0.22,\n",
       " (12, 3): 0.23,\n",
       " (12, 4): 0.24,\n",
       " (12, 5): 0.26,\n",
       " (12, 6): 0.28,\n",
       " (12, 7): 0.3,\n",
       " (12, 8): 0.32,\n",
       " (12, 9): 0.34,\n",
       " (12, 10): 0.360000000000001,\n",
       " (12, 11): 0.380000000000001,\n",
       " (12, 12): 0.400000000000001,\n",
       " (12, 13): 0.420000000000001,\n",
       " (12, 14): 0.42,\n",
       " (12, 15): 0.43,\n",
       " (13, 0): 0.6,\n",
       " (13, 1): 0.61,\n",
       " (13, 2): 0.64,\n",
       " (13, 3): 0.7,\n",
       " (13, 4): 0.73,\n",
       " (13, 5): 0.75,\n",
       " (13, 6): 0.77,\n",
       " (13, 7): 0.79,\n",
       " (13, 8): 0.81,\n",
       " (13, 9): 0.83,\n",
       " (13, 10): 0.85,\n",
       " (13, 11): 0.86,\n",
       " (13, 12): 0.87,\n",
       " (13, 13): 0.88,\n",
       " (13, 14): 0.89,\n",
       " (13, 15): 0.9,\n",
       " (14, 0): 0.01,\n",
       " (14, 1): 0.02,\n",
       " (14, 2): 0.03,\n",
       " (14, 3): 0.04,\n",
       " (14, 4): 0.05,\n",
       " (14, 5): 0.06,\n",
       " (14, 6): 0.07,\n",
       " (14, 7): 0.08,\n",
       " (14, 8): 0.1,\n",
       " (14, 9): 0.12,\n",
       " (14, 10): 0.14,\n",
       " (14, 11): 0.16,\n",
       " (14, 12): 0.18,\n",
       " (14, 13): 0.2,\n",
       " (14, 14): 0.22,\n",
       " (14, 15): 0.24,\n",
       " (15, 0): 0.05,\n",
       " (15, 1): 0.07,\n",
       " (15, 2): 0.09,\n",
       " (15, 3): 0.11,\n",
       " (15, 4): 0.13,\n",
       " (15, 5): 0.15,\n",
       " (15, 6): 0.17,\n",
       " (15, 7): 0.23,\n",
       " (15, 8): 0.29,\n",
       " (15, 9): 0.35,\n",
       " (15, 10): 0.41,\n",
       " (15, 11): 0.42,\n",
       " (15, 12): 0.43,\n",
       " (15, 13): 0.44,\n",
       " (15, 14): 0.45,\n",
       " (15, 15): 0.460000000000001,\n",
       " (16, 0): 0.6,\n",
       " (16, 1): 0.63,\n",
       " (16, 2): 0.66,\n",
       " (16, 3): 0.69,\n",
       " (16, 4): 0.72,\n",
       " (16, 5): 0.75,\n",
       " (16, 6): 0.779999999999999,\n",
       " (16, 7): 0.809999999999999,\n",
       " (16, 8): 0.839999999999999,\n",
       " (16, 9): 0.869999999999999,\n",
       " (16, 10): 0.899999999999999,\n",
       " (16, 11): 0.9,\n",
       " (16, 12): 0.900000000000001,\n",
       " (16, 13): 0.900000000000002,\n",
       " (16, 14): 0.900000000000003,\n",
       " (16, 15): 0.900000000000004,\n",
       " (17, 0): 0.06,\n",
       " (17, 1): 0.07,\n",
       " (17, 2): 0.08,\n",
       " (17, 3): 0.09,\n",
       " (17, 4): 0.1,\n",
       " (17, 5): 0.14,\n",
       " (17, 6): 0.18,\n",
       " (17, 7): 0.22,\n",
       " (17, 8): 0.26,\n",
       " (17, 9): 0.3,\n",
       " (17, 10): 0.34,\n",
       " (17, 11): 0.38,\n",
       " (17, 12): 0.42,\n",
       " (17, 13): 0.43,\n",
       " (17, 14): 0.44,\n",
       " (17, 15): 0.45}"
      ]
     },
     "execution_count": 74,
     "metadata": {},
     "output_type": "execute_result"
    }
   ],
   "source": [
    "BED"
   ]
  },
  {
   "cell_type": "markdown",
   "id": "158d88db",
   "metadata": {},
   "source": [
    "## 6. Print the responses"
   ]
  },
  {
   "cell_type": "code",
   "execution_count": 65,
   "id": "237a5fd1",
   "metadata": {},
   "outputs": [
    {
     "data": {
      "text/plain": [
       "'## Variables:\\n\\n* **x<sub>ij</sub>:** Binary variable equal to 1 if patient *i* receives *j* proton fractions, and 0 otherwise, for *i* = 1, 2, ..., 17 and *j* = 0, 1, 2, ..., 15. \\n'"
      ]
     },
     "execution_count": 65,
     "metadata": {},
     "output_type": "execute_result"
    }
   ],
   "source": [
    "response.text"
   ]
  },
  {
   "cell_type": "code",
   "execution_count": 66,
   "id": "9dd02041",
   "metadata": {},
   "outputs": [
    {
     "data": {
      "text/plain": [
       "'$$\\\\max \\\\sum_{i=1}^{17} \\\\sum_{j=0}^{15} BED_{i}(j, 15-j) \\\\cdot x_{ij}$$ \\n'"
      ]
     },
     "execution_count": 66,
     "metadata": {},
     "output_type": "execute_result"
    }
   ],
   "source": [
    "response2.text"
   ]
  },
  {
   "cell_type": "code",
   "execution_count": 67,
   "id": "3d786262",
   "metadata": {},
   "outputs": [
    {
     "data": {
      "text/plain": [
       "'Subject to:\\n\\n* **Capacity constraint:** The total number of proton fractions assigned to patients cannot exceed the available capacity, _C_.\\n  \\n  ∑<sub>i=1</sub><sup>17</sup> ∑<sub>j=0</sub><sup>15</sup> j * x<sub>ij</sub> ≤ C \\n\\n* **Single treatment per patient:** Each patient _i_ must receive a single treatment plan, meaning only one of  x<sub>ij</sub> can be equal to 1 for each _i_. \\n\\n  ∑<sub>j=0</sub><sup>15</sup> x<sub>ij</sub> = 1 for all i = 1,2,.., 17\\n\\n* **Binary variable constraint:** The decision variables x<sub>ij</sub> are binary.\\n\\n  x<sub>ij</sub> ∈ {0, 1} for all i = 1, 2, ..., 17 and j = 0, 1, 2, ..., 15 \\n'"
      ]
     },
     "execution_count": 67,
     "metadata": {},
     "output_type": "execute_result"
    }
   ],
   "source": [
    "response3.text"
   ]
  },
  {
   "cell_type": "code",
   "execution_count": 68,
   "id": "06bd5256",
   "metadata": {},
   "outputs": [
    {
     "data": {
      "text/plain": [
       "'```python\\nimport pyomo.environ as pyo\\n\\n# Sample Data - Replace with actual data\\nBED = {(i, j): i * j * (15 - j) / 100  # Sample function for BED, replace with actual calculation\\n       for i in range(1, 18) for j in range(0, 16)}\\nC = 100  # Sample capacity, replace with actual capacity\\n\\n# Model\\nmodel = pyo.ConcreteModel()\\n\\n# Sets\\nmodel.I = pyo.RangeSet(1, 17)  # Set of patients\\nmodel.J = pyo.RangeSet(0, 15)  # Set of proton fractions\\n\\n# Variables\\nmodel.x = pyo.Var(model.I, model.J, within=pyo.Binary)  # Binary variable x_ij\\n\\n# Objective function\\ndef objective_rule(model):\\n    return sum(BED[i, j] * model.x[i, j] for i in model.I for j in model.J)\\nmodel.obj = pyo.Objective(rule=objective_rule, sense=pyo.maximize)\\n\\n# Constraints\\ndef capacity_constraint(model):\\n    return sum(j * model.x[i, j] for i in model.I for j in model.J) <= C\\nmodel.capacity = pyo.Constraint(rule=capacity_constraint)\\n\\ndef single_treatment_constraint(model, i):\\n    return sum(model.x[i, j] for j in model.J) == 1\\nmodel.single_treatment = pyo.Constraint(model.I, rule=single_treatment_constraint)\\n\\n# Solve\\nsolver = pyo.SolverFactory(\\'glpk\\')  # Choose a suitable solver\\nsolver.solve(model)\\n\\n# Print results\\nprint(\"Optimal Solution:\")\\nfor i in model.I:\\n    for j in model.J:\\n        if pyo.value(model.x[i, j]) > 0.5:\\n            print(f\"Patient {i} receives {j} proton fractions\")\\n```\\n\\n**Explanation:**\\n\\n1. **Import pyomo:**  Import the Pyomo library.\\n2. **Sample Data:** I\\'ve included sample data for `BED` and `C`. You\\'ll need to replace this with your actual data. \\n3. **Model Initialization:** Create a concrete model object.\\n4. **Sets:** Define sets to represent patients (`I`) and proton fractions (`J`).\\n5. **Variables:** Create a binary variable `x` indexed over `I` and `J` representing the treatment plan.\\n6. **Objective Function:** Define the objective function to maximize the total `BED` based on the chosen treatment plans.\\n7. **Constraints:**\\n   - `capacity_constraint`: Ensures the total proton fractions assigned do not exceed the capacity `C`.\\n   - `single_treatment_constraint`:  Ensures each patient receives only one treatment plan.\\n8. **Solver:** Create a solver instance (here, using `glpk`) and solve the model.\\n9. **Results:** Print the optimal treatment plan for each patient. \\n'"
      ]
     },
     "execution_count": 68,
     "metadata": {},
     "output_type": "execute_result"
    }
   ],
   "source": [
    "response4.text"
   ]
  }
 ],
 "metadata": {
  "kernelspec": {
   "display_name": "Python 3 (ipykernel)",
   "language": "python",
   "name": "python3"
  },
  "language_info": {
   "codemirror_mode": {
    "name": "ipython",
    "version": 3
   },
   "file_extension": ".py",
   "mimetype": "text/x-python",
   "name": "python",
   "nbconvert_exporter": "python",
   "pygments_lexer": "ipython3",
   "version": "3.11.4"
  }
 },
 "nbformat": 4,
 "nbformat_minor": 5
}
