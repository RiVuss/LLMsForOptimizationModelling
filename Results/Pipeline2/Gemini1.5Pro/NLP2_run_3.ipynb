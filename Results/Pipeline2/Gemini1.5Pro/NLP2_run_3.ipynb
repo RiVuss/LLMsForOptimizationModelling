{
 "cells": [
  {
   "cell_type": "markdown",
   "id": "f0005e9e",
   "metadata": {},
   "source": [
    "# LLM Optimization Modelling Experiment"
   ]
  },
  {
   "cell_type": "code",
   "execution_count": 1,
   "id": "7f664028",
   "metadata": {},
   "outputs": [],
   "source": [
    "import vertexai\n",
    "from vertexai.preview.generative_models import GenerativeModel, Image\n",
    "from IPython.display import Markdown"
   ]
  },
  {
   "cell_type": "markdown",
   "id": "f527d6af",
   "metadata": {},
   "source": [
    "## 1. Define the problem description"
   ]
  },
  {
   "cell_type": "code",
   "execution_count": 581,
   "id": "25055ffd",
   "metadata": {},
   "outputs": [],
   "source": [
    "problem = '''You are a chemist in charge of a process that requires two liquids to reach the end product. Your goal is to maximize the quality of the product in the end, which is measured by the difference between the Napierian logarithm of the product of the litres used of each component and the cube root of the summation of the first component litres as well as double the second component litres. It is required that the squared difference between the litres employed of each component and the mean litres utilised of both components is below ten. This is necessary for the obtained set to be stable. Furthermore, the mixture tank available to you can only fit 80 l. Please formulate a mathematical optimization model for this problem. '''"
   ]
  },
  {
   "cell_type": "markdown",
   "id": "472cf9ad",
   "metadata": {},
   "source": [
    "## 2. Ask for parameters"
   ]
  },
  {
   "cell_type": "code",
   "execution_count": 582,
   "id": "e31ec80c",
   "metadata": {},
   "outputs": [],
   "source": [
    "#Initializing the session. To replicate, make sure the right credentials are saved in a PATH variable\n",
    "PROJECT_ID = \"llm4optproblems\"\n",
    "REGION = \"us-central1\"\n",
    "vertexai.init(project=PROJECT_ID, location=REGION)\n",
    "\n",
    "#Specifying the model\n",
    "generative_multimodal_model = GenerativeModel(\"gemini-1.5-pro-preview-0409\")\n",
    "\n",
    "#The propmt applied to all problems\n",
    "prompt = '''Please formulate only the variables for this mathematical optimization problem. \n",
    "'''\n",
    "\n",
    "#Generate the response\n",
    "response = generative_multimodal_model.generate_content([prompt+problem])\n"
   ]
  },
  {
   "cell_type": "code",
   "execution_count": 583,
   "id": "f9adc567",
   "metadata": {},
   "outputs": [
    {
     "data": {
      "text/markdown": [
       "### Variables:\n",
       "\n",
       "* **x:** Litres used of the first liquid component.\n",
       "* **y:** Litres used of the second liquid component. \n"
      ],
      "text/plain": [
       "<IPython.core.display.Markdown object>"
      ]
     },
     "execution_count": 583,
     "metadata": {},
     "output_type": "execute_result"
    }
   ],
   "source": [
    "#Show the resopnse in a formatted way\n",
    "Markdown(response.text)"
   ]
  },
  {
   "cell_type": "markdown",
   "id": "15d9e89f",
   "metadata": {},
   "source": [
    "# 2. Ask for objective"
   ]
  },
  {
   "cell_type": "code",
   "execution_count": 584,
   "id": "4f357a19",
   "metadata": {},
   "outputs": [],
   "source": [
    "#Second prompt gets the output of the previous step and generates the code\n",
    "prompt2 = \"Please formulate only the objective function for this mathematical optimization problem.\"\n",
    "prompt2 += problem + response.text\n",
    "response2 = generative_multimodal_model.generate_content([prompt2])"
   ]
  },
  {
   "cell_type": "code",
   "execution_count": 585,
   "id": "bccd1014",
   "metadata": {},
   "outputs": [
    {
     "data": {
      "text/markdown": [
       "Maximize:  ln(x*y) - (x + 2y)^(1/3) \n"
      ],
      "text/plain": [
       "<IPython.core.display.Markdown object>"
      ]
     },
     "execution_count": 585,
     "metadata": {},
     "output_type": "execute_result"
    }
   ],
   "source": [
    "Markdown(response2.text)"
   ]
  },
  {
   "cell_type": "markdown",
   "id": "d8ab1404",
   "metadata": {},
   "source": [
    "# 3. Ask for constraints"
   ]
  },
  {
   "cell_type": "code",
   "execution_count": 586,
   "id": "e6409951",
   "metadata": {},
   "outputs": [],
   "source": [
    "#Second prompt gets the output of the previous step and generates the code\n",
    "prompt3 = \"Please formulate only the constraints for this mathematical optimization problem.\"\n",
    "prompt3 += problem + response.text + response2.text\n",
    "response3 = generative_multimodal_model.generate_content([prompt3])"
   ]
  },
  {
   "cell_type": "code",
   "execution_count": 587,
   "id": "2f9439c2",
   "metadata": {},
   "outputs": [
    {
     "data": {
      "text/markdown": [
       "## Constraints:\n",
       "\n",
       "1. **Tank Capacity:** \n",
       "   *  x + y  ≤ 80 \n",
       "\n",
       "2. **Stability Requirement:**\n",
       "   * (x - (x+y)/2)^2 ≤ 10\n",
       "   * (y - (x+y)/2)^2 ≤ 10 \n",
       "\n",
       "This formulation captures the tank's maximum capacity and the stability requirement based on the squared difference from the mean. \n"
      ],
      "text/plain": [
       "<IPython.core.display.Markdown object>"
      ]
     },
     "execution_count": 587,
     "metadata": {},
     "output_type": "execute_result"
    }
   ],
   "source": [
    "Markdown(response3.text)"
   ]
  },
  {
   "cell_type": "markdown",
   "id": "75796979",
   "metadata": {},
   "source": [
    "## 3. Generate the pyomo code"
   ]
  },
  {
   "cell_type": "code",
   "execution_count": 588,
   "id": "aabea932",
   "metadata": {},
   "outputs": [],
   "source": [
    "#Second prompt gets the output of the previous step and generates the code\n",
    "prompt4 = \"Please write pyomo code for this mathematical problem. Use sample data where needed. Indicate where you use sample data. \\n\"\n",
    "prompt4 += response.text + response2.text + response3.text \n",
    "response4 = generative_multimodal_model.generate_content([prompt4])"
   ]
  },
  {
   "cell_type": "code",
   "execution_count": 589,
   "id": "e5cd9a66",
   "metadata": {
    "scrolled": false
   },
   "outputs": [
    {
     "data": {
      "text/markdown": [
       "```python\n",
       "import pyomo.environ as pyo\n",
       "\n",
       "# Sample Data (You can replace these with your actual data)\n",
       "tank_capacity = 80\n",
       "stability_limit = 10\n",
       "\n",
       "# Model Creation\n",
       "model = pyo.ConcreteModel()\n",
       "\n",
       "# Variables\n",
       "model.x = pyo.Var(domain=pyo.NonNegativeReals)\n",
       "model.y = pyo.Var(domain=pyo.NonNegativeReals)\n",
       "\n",
       "# Objective Function\n",
       "model.obj = pyo.Objective(expr=pyo.log(model.x * model.y) - (model.x + 2*model.y)**(1/3), sense=pyo.maximize)\n",
       "\n",
       "# Constraints\n",
       "model.tank_constraint = pyo.Constraint(expr=model.x + model.y <= tank_capacity)\n",
       "model.stability_x = pyo.Constraint(expr=(model.x - (model.x + model.y)/2)**2 <= stability_limit)\n",
       "model.stability_y = pyo.Constraint(expr=(model.y - (model.x + model.y)/2)**2 <= stability_limit)\n",
       "\n",
       "# Solve the model\n",
       "solver = pyo.SolverFactory('ipopt')  # You can use other nonlinear solvers as well\n",
       "results = solver.solve(model)\n",
       "\n",
       "# Display Results\n",
       "print(\"Optimal Solution:\")\n",
       "print(f\"x: {pyo.value(model.x)} Litres\")\n",
       "print(f\"y: {pyo.value(model.y)} Litres\")\n",
       "print(f\"Objective Value: {pyo.value(model.obj)}\") \n",
       "```\n",
       "\n",
       "**Explanation:**\n",
       "\n",
       "1. **Import Pyomo:** We import the `pyomo.environ` module to access all Pyomo functionalities.\n",
       "2. **Sample Data:**  I've included sample values for `tank_capacity` and `stability_limit`. You should replace these with the actual values from your problem. \n",
       "3. **Model Creation:** A concrete Pyomo model (`model`) is created.\n",
       "4. **Variables:** Two non-negative continuous variables, `model.x` and `model.y`, are defined to represent the liters of each liquid component.\n",
       "5. **Objective Function:** The objective function is defined to maximize `ln(x*y) - (x + 2y)^(1/3)`. \n",
       "6. **Constraints:**\n",
       "   - `tank_constraint`:  Limits the total volume (x + y) based on the tank capacity.\n",
       "   - `stability_x` and `stability_y`: Implement the stability requirements using squared differences from the mean volume.\n",
       "7. **Solver:** We use the `ipopt` solver (a good choice for non-linear problems), but you might need to install it (`conda install -c conda-forge ipopt`)\n",
       "8. **Results:** The optimal values of `x`, `y`, and the objective function are printed. \n",
       "\n",
       "Remember to replace the sample data with your actual values. \n"
      ],
      "text/plain": [
       "<IPython.core.display.Markdown object>"
      ]
     },
     "execution_count": 589,
     "metadata": {},
     "output_type": "execute_result"
    }
   ],
   "source": [
    "## Showing the code in a formatted way\n",
    "Markdown(response4.text)"
   ]
  },
  {
   "cell_type": "markdown",
   "id": "b60756ae",
   "metadata": {},
   "source": [
    "## 4. Input problem data and try running the generated code"
   ]
  },
  {
   "cell_type": "code",
   "execution_count": 590,
   "id": "3a1725db",
   "metadata": {},
   "outputs": [
    {
     "name": "stdout",
     "output_type": "stream",
     "text": [
      "Optimal Solution:\n",
      "x: 43.162277233647174 Litres\n",
      "y: 36.8377229631074 Litres\n",
      "Objective Value: 2.4827783318454744\n"
     ]
    }
   ],
   "source": [
    "import pyomo.environ as pyo\n",
    "\n",
    "# Sample Data (You can replace these with your actual data)\n",
    "tank_capacity = 80\n",
    "stability_limit = 10\n",
    "\n",
    "# Model Creation\n",
    "model = pyo.ConcreteModel()\n",
    "\n",
    "# Variables\n",
    "model.x = pyo.Var(domain=pyo.NonNegativeReals)\n",
    "model.y = pyo.Var(domain=pyo.NonNegativeReals)\n",
    "\n",
    "# Objective Function\n",
    "model.obj = pyo.Objective(expr=pyo.log(model.x * model.y) - (model.x + 2*model.y)**(1/3), sense=pyo.maximize)\n",
    "\n",
    "# Constraints\n",
    "model.tank_constraint = pyo.Constraint(expr=model.x + model.y <= tank_capacity)\n",
    "model.stability_x = pyo.Constraint(expr=(model.x - (model.x + model.y)/2)**2 <= stability_limit)\n",
    "model.stability_y = pyo.Constraint(expr=(model.y - (model.x + model.y)/2)**2 <= stability_limit)\n",
    "\n",
    "# Solve the model\n",
    "solver = pyo.SolverFactory('ipopt')  # You can use other nonlinear solvers as well\n",
    "results = solver.solve(model)\n",
    "\n",
    "# Display Results\n",
    "print(\"Optimal Solution:\")\n",
    "print(f\"x: {pyo.value(model.x)} Litres\")\n",
    "print(f\"y: {pyo.value(model.y)} Litres\")\n",
    "print(f\"Objective Value: {pyo.value(model.obj)}\") "
   ]
  },
  {
   "cell_type": "code",
   "execution_count": null,
   "id": "58e9a3ec",
   "metadata": {},
   "outputs": [],
   "source": []
  },
  {
   "cell_type": "code",
   "execution_count": null,
   "id": "41ed7d93",
   "metadata": {},
   "outputs": [],
   "source": []
  },
  {
   "cell_type": "markdown",
   "id": "1be0926e",
   "metadata": {},
   "source": [
    "## 5. Correct the code to verify model viability (optional)"
   ]
  },
  {
   "cell_type": "code",
   "execution_count": null,
   "id": "8b37acfc",
   "metadata": {},
   "outputs": [],
   "source": []
  },
  {
   "cell_type": "code",
   "execution_count": null,
   "id": "c0ff95b8",
   "metadata": {
    "scrolled": false
   },
   "outputs": [],
   "source": []
  },
  {
   "cell_type": "markdown",
   "id": "4708d0a2",
   "metadata": {},
   "source": [
    "## 6. Print the responses"
   ]
  },
  {
   "cell_type": "code",
   "execution_count": 591,
   "id": "5d7f78dc",
   "metadata": {},
   "outputs": [
    {
     "name": "stdout",
     "output_type": "stream",
     "text": [
      "### Variables:\n",
      "\n",
      "* **x:** Litres used of the first liquid component.\n",
      "* **y:** Litres used of the second liquid component. \n",
      "\n"
     ]
    }
   ],
   "source": [
    "print(response.text)"
   ]
  },
  {
   "cell_type": "code",
   "execution_count": 592,
   "id": "829e2839",
   "metadata": {},
   "outputs": [
    {
     "name": "stdout",
     "output_type": "stream",
     "text": [
      "Maximize:  ln(x*y) - (x + 2y)^(1/3) \n",
      "\n"
     ]
    }
   ],
   "source": [
    "print(response2.text)"
   ]
  },
  {
   "cell_type": "code",
   "execution_count": 593,
   "id": "7083739a",
   "metadata": {},
   "outputs": [
    {
     "name": "stdout",
     "output_type": "stream",
     "text": [
      "## Constraints:\n",
      "\n",
      "1. **Tank Capacity:** \n",
      "   *  x + y  ≤ 80 \n",
      "\n",
      "2. **Stability Requirement:**\n",
      "   * (x - (x+y)/2)^2 ≤ 10\n",
      "   * (y - (x+y)/2)^2 ≤ 10 \n",
      "\n",
      "This formulation captures the tank's maximum capacity and the stability requirement based on the squared difference from the mean. \n",
      "\n"
     ]
    }
   ],
   "source": [
    "print(response3.text)"
   ]
  },
  {
   "cell_type": "code",
   "execution_count": 594,
   "id": "164e5856",
   "metadata": {},
   "outputs": [
    {
     "name": "stdout",
     "output_type": "stream",
     "text": [
      "```python\n",
      "import pyomo.environ as pyo\n",
      "\n",
      "# Sample Data (You can replace these with your actual data)\n",
      "tank_capacity = 80\n",
      "stability_limit = 10\n",
      "\n",
      "# Model Creation\n",
      "model = pyo.ConcreteModel()\n",
      "\n",
      "# Variables\n",
      "model.x = pyo.Var(domain=pyo.NonNegativeReals)\n",
      "model.y = pyo.Var(domain=pyo.NonNegativeReals)\n",
      "\n",
      "# Objective Function\n",
      "model.obj = pyo.Objective(expr=pyo.log(model.x * model.y) - (model.x + 2*model.y)**(1/3), sense=pyo.maximize)\n",
      "\n",
      "# Constraints\n",
      "model.tank_constraint = pyo.Constraint(expr=model.x + model.y <= tank_capacity)\n",
      "model.stability_x = pyo.Constraint(expr=(model.x - (model.x + model.y)/2)**2 <= stability_limit)\n",
      "model.stability_y = pyo.Constraint(expr=(model.y - (model.x + model.y)/2)**2 <= stability_limit)\n",
      "\n",
      "# Solve the model\n",
      "solver = pyo.SolverFactory('ipopt')  # You can use other nonlinear solvers as well\n",
      "results = solver.solve(model)\n",
      "\n",
      "# Display Results\n",
      "print(\"Optimal Solution:\")\n",
      "print(f\"x: {pyo.value(model.x)} Litres\")\n",
      "print(f\"y: {pyo.value(model.y)} Litres\")\n",
      "print(f\"Objective Value: {pyo.value(model.obj)}\") \n",
      "```\n",
      "\n",
      "**Explanation:**\n",
      "\n",
      "1. **Import Pyomo:** We import the `pyomo.environ` module to access all Pyomo functionalities.\n",
      "2. **Sample Data:**  I've included sample values for `tank_capacity` and `stability_limit`. You should replace these with the actual values from your problem. \n",
      "3. **Model Creation:** A concrete Pyomo model (`model`) is created.\n",
      "4. **Variables:** Two non-negative continuous variables, `model.x` and `model.y`, are defined to represent the liters of each liquid component.\n",
      "5. **Objective Function:** The objective function is defined to maximize `ln(x*y) - (x + 2y)^(1/3)`. \n",
      "6. **Constraints:**\n",
      "   - `tank_constraint`:  Limits the total volume (x + y) based on the tank capacity.\n",
      "   - `stability_x` and `stability_y`: Implement the stability requirements using squared differences from the mean volume.\n",
      "7. **Solver:** We use the `ipopt` solver (a good choice for non-linear problems), but you might need to install it (`conda install -c conda-forge ipopt`)\n",
      "8. **Results:** The optimal values of `x`, `y`, and the objective function are printed. \n",
      "\n",
      "Remember to replace the sample data with your actual values. \n",
      "\n"
     ]
    }
   ],
   "source": [
    "print(response4.text)"
   ]
  },
  {
   "cell_type": "code",
   "execution_count": null,
   "id": "e2e6cec5",
   "metadata": {},
   "outputs": [],
   "source": []
  }
 ],
 "metadata": {
  "kernelspec": {
   "display_name": "Python 3 (ipykernel)",
   "language": "python",
   "name": "python3"
  },
  "language_info": {
   "codemirror_mode": {
    "name": "ipython",
    "version": 3
   },
   "file_extension": ".py",
   "mimetype": "text/x-python",
   "name": "python",
   "nbconvert_exporter": "python",
   "pygments_lexer": "ipython3",
   "version": "3.11.4"
  }
 },
 "nbformat": 4,
 "nbformat_minor": 5
}
