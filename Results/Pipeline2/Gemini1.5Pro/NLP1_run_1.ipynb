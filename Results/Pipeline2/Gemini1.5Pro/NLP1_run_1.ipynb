{
 "cells": [
  {
   "cell_type": "markdown",
   "id": "f0005e9e",
   "metadata": {},
   "source": [
    "# LLM Optimization Modelling Experiment"
   ]
  },
  {
   "cell_type": "code",
   "execution_count": 1,
   "id": "7f664028",
   "metadata": {},
   "outputs": [],
   "source": [
    "import vertexai\n",
    "from vertexai.preview.generative_models import GenerativeModel, Image\n",
    "from IPython.display import Markdown"
   ]
  },
  {
   "cell_type": "markdown",
   "id": "f527d6af",
   "metadata": {},
   "source": [
    "## 1. Define the problem description"
   ]
  },
  {
   "cell_type": "code",
   "execution_count": 218,
   "id": "25055ffd",
   "metadata": {},
   "outputs": [],
   "source": [
    "problem = '''A firm that packs refreshments and beers, situated in the province of Valencia (Spain) employs the same syrup to produce its 1.5 l COLI and PEPSA products on its S1 production line. Once processed, each hectolitre of syrup produces 40 units of the 1.5 l COLI product and 20 units of the 1.5 l PEPSA product. If X1 units of the 1.5 l COLI product and X2 units of the 1.5 l PEPSA product are produced, the firm estimates that the daily income obtained in dollars would be given by the following function:\n",
    "49000 times X1 minus X1 squared plus 30 times X2 minus two times X2 squared. \n",
    "It costs 150 dollars to buy and process each hectolitre of syrup. The S1 packaging line has a net capacity of producing 7100 1.5 l product units every hour. The firm works 5 days a week in 8h shifts. Given its weekly target coverage, the firm is committed to produce at least half the amount of PEPSA than COLI. Although priority orders tend to amend its production planning, the firm wishes to have a basic product planning that optimises its daily profits. '''"
   ]
  },
  {
   "cell_type": "markdown",
   "id": "472cf9ad",
   "metadata": {},
   "source": [
    "## 2. Ask for parameters"
   ]
  },
  {
   "cell_type": "code",
   "execution_count": 219,
   "id": "e31ec80c",
   "metadata": {},
   "outputs": [],
   "source": [
    "#Initializing the session. To replicate, make sure the right credentials are saved in a PATH variable\n",
    "PROJECT_ID = \"llm4optproblems\"\n",
    "REGION = \"us-central1\"\n",
    "vertexai.init(project=PROJECT_ID, location=REGION)\n",
    "\n",
    "#Specifying the model\n",
    "generative_multimodal_model = GenerativeModel(\"gemini-1.5-pro-preview-0409\")\n",
    "\n",
    "#The propmt applied to all problems\n",
    "prompt = '''Please formulate only the variables for this mathematical optimization problem. \n",
    "'''\n",
    "\n",
    "#Generate the response\n",
    "response = generative_multimodal_model.generate_content([prompt+problem])\n"
   ]
  },
  {
   "cell_type": "code",
   "execution_count": 220,
   "id": "f9adc567",
   "metadata": {},
   "outputs": [
    {
     "data": {
      "text/markdown": [
       "## Variables:\n",
       "\n",
       "* **X1:**  Number of 1.5L COLI units produced daily.\n",
       "* **X2:** Number of 1.5L PEPSA units produced daily. \n",
       "* **S:** Hectoliters of syrup purchased and processed daily. \n"
      ],
      "text/plain": [
       "<IPython.core.display.Markdown object>"
      ]
     },
     "execution_count": 220,
     "metadata": {},
     "output_type": "execute_result"
    }
   ],
   "source": [
    "#Show the resopnse in a formatted way\n",
    "Markdown(response.text)"
   ]
  },
  {
   "cell_type": "markdown",
   "id": "15d9e89f",
   "metadata": {},
   "source": [
    "# 2. Ask for objective"
   ]
  },
  {
   "cell_type": "code",
   "execution_count": 221,
   "id": "4f357a19",
   "metadata": {},
   "outputs": [],
   "source": [
    "#Second prompt gets the output of the previous step and generates the code\n",
    "prompt2 = \"Please formulate only the objective function for this mathematical optimization problem.\"\n",
    "prompt2 += problem + response.text\n",
    "response2 = generative_multimodal_model.generate_content([prompt2])"
   ]
  },
  {
   "cell_type": "code",
   "execution_count": 222,
   "id": "bccd1014",
   "metadata": {},
   "outputs": [
    {
     "data": {
      "text/markdown": [
       "Maximize  $49000X_1 - X_1^2 + 30X_2 - 2X_2^2 - 150S$ \n"
      ],
      "text/plain": [
       "<IPython.core.display.Markdown object>"
      ]
     },
     "execution_count": 222,
     "metadata": {},
     "output_type": "execute_result"
    }
   ],
   "source": [
    "Markdown(response2.text)"
   ]
  },
  {
   "cell_type": "markdown",
   "id": "d8ab1404",
   "metadata": {},
   "source": [
    "# 3. Ask for constraints"
   ]
  },
  {
   "cell_type": "code",
   "execution_count": 223,
   "id": "e6409951",
   "metadata": {},
   "outputs": [],
   "source": [
    "#Second prompt gets the output of the previous step and generates the code\n",
    "prompt3 = \"Please formulate only the constraints for this mathematical optimization problem.\"\n",
    "prompt3 += problem + response.text + response2.text\n",
    "response3 = generative_multimodal_model.generate_content([prompt3])"
   ]
  },
  {
   "cell_type": "code",
   "execution_count": 224,
   "id": "2f9439c2",
   "metadata": {},
   "outputs": [
    {
     "data": {
      "text/markdown": [
       "Subject to:\n",
       "\n",
       "* **Syrup constraint:** $S = (X_1 / 40) + (X_2 / 20)$ \n",
       "* **Production capacity constraint:** $X_1 + X_2 ≤ 7100 \\frac{\\text{units}}{\\text{hour}} \\times 8 \\frac{\\text{hours}}{\\text{day}}$\n",
       "* **Minimum PEPSA production constraint:**  $X_2 ≥ 0.5X_1$\n",
       "* **Non-negativity constraints:** $X_1 ≥ 0$, $X_2 ≥ 0$, $S ≥ 0$ \n"
      ],
      "text/plain": [
       "<IPython.core.display.Markdown object>"
      ]
     },
     "execution_count": 224,
     "metadata": {},
     "output_type": "execute_result"
    }
   ],
   "source": [
    "Markdown(response3.text)"
   ]
  },
  {
   "cell_type": "code",
   "execution_count": null,
   "id": "07ba7f01",
   "metadata": {},
   "outputs": [],
   "source": []
  },
  {
   "cell_type": "markdown",
   "id": "75796979",
   "metadata": {},
   "source": [
    "## 3. Generate the pyomo code"
   ]
  },
  {
   "cell_type": "code",
   "execution_count": 225,
   "id": "aabea932",
   "metadata": {},
   "outputs": [],
   "source": [
    "#Second prompt gets the output of the previous step and generates the code\n",
    "prompt4 = \"Please write pyomo code for this mathematical problem. Use sample data where needed. Indicate where you use sample data. \\n\"\n",
    "prompt4 += response.text + response2.text + response3.text \n",
    "response4 = generative_multimodal_model.generate_content([prompt4])"
   ]
  },
  {
   "cell_type": "code",
   "execution_count": 226,
   "id": "fd2835af",
   "metadata": {},
   "outputs": [
    {
     "data": {
      "text/markdown": [
       "```python\n",
       "from pyomo.environ import *\n",
       "\n",
       "# Create a concrete model\n",
       "model = ConcreteModel()\n",
       "\n",
       "# Define variables\n",
       "model.X1 = Var(domain=NonNegativeReals)  # Number of 1.5L COLI units produced daily\n",
       "model.X2 = Var(domain=NonNegativeReals)  # Number of 1.5L PEPSA units produced daily\n",
       "model.S = Var(domain=NonNegativeReals)   # Hectoliters of syrup purchased and processed daily\n",
       "\n",
       "# Define objective function\n",
       "model.profit = Objective(expr = 49000*model.X1 - model.X1**2 + 30*model.X2 - 2*model.X2**2 - 150*model.S, \n",
       "                         sense=maximize)\n",
       "\n",
       "# Define constraints\n",
       "model.syrup_constraint = Constraint(expr = model.S == (model.X1 / 40) + (model.X2 / 20))\n",
       "model.production_capacity_constraint = Constraint(expr = model.X1 + model.X2 <= 7100 * 8)\n",
       "model.min_pepsi_constraint = Constraint(expr = model.X2 >= 0.5*model.X1)\n",
       "\n",
       "# Solve the model\n",
       "solver = SolverFactory('ipopt')  # Select a solver\n",
       "results = solver.solve(model)\n",
       "\n",
       "# Print the results\n",
       "print(\"Status:\", results.solver.status)\n",
       "print(\"Termination condition:\",results.solver.termination_condition)\n",
       "\n",
       "# Print the optimal solution\n",
       "print(\"Optimal solution:\")\n",
       "print(\"X1 =\", model.X1.value)\n",
       "print(\"X2 =\", model.X2.value)\n",
       "print(\"S =\", model.S.value)\n",
       "print(\"Profit =\", model.profit.value) \n",
       "``` \n"
      ],
      "text/plain": [
       "<IPython.core.display.Markdown object>"
      ]
     },
     "execution_count": 226,
     "metadata": {},
     "output_type": "execute_result"
    }
   ],
   "source": [
    "#Showing the code in a formatted way\n",
    "Markdown(response4.text)"
   ]
  },
  {
   "cell_type": "markdown",
   "id": "b60756ae",
   "metadata": {},
   "source": [
    "## 4. Input problem data and try running the generated code"
   ]
  },
  {
   "cell_type": "code",
   "execution_count": 229,
   "id": "41ed7d93",
   "metadata": {},
   "outputs": [
    {
     "name": "stdout",
     "output_type": "stream",
     "text": [
      "Status: ok\n",
      "Termination condition: optimal\n",
      "Optimal solution:\n",
      "X1 = 16335.833333340031\n",
      "X2 = 8167.916666660053\n",
      "S = 816.7916666665035\n",
      "Profit = 400289176.04199195\n"
     ]
    }
   ],
   "source": [
    "from pyomo.environ import *\n",
    "\n",
    "# Create a concrete model\n",
    "model = ConcreteModel()\n",
    "\n",
    "# Define variables\n",
    "model.X1 = Var(domain=NonNegativeReals)  # Number of 1.5L COLI units produced daily\n",
    "model.X2 = Var(domain=NonNegativeReals)  # Number of 1.5L PEPSA units produced daily\n",
    "model.S = Var(domain=NonNegativeReals)   # Hectoliters of syrup purchased and processed daily\n",
    "\n",
    "# Define objective function\n",
    "model.profit = Objective(expr = 49000*model.X1 - model.X1**2 + 30*model.X2 - 2*model.X2**2 - 150*model.S, \n",
    "                         sense=maximize)\n",
    "\n",
    "# Define constraints\n",
    "model.syrup_constraint = Constraint(expr = model.S == (model.X1 / 40) + (model.X2 / 20))\n",
    "model.production_capacity_constraint = Constraint(expr = model.X1 + model.X2 <= 7100 * 8)\n",
    "model.min_pepsi_constraint = Constraint(expr = model.X2 >= 0.5*model.X1)\n",
    "\n",
    "# Solve the model\n",
    "solver = SolverFactory('ipopt')  # Select a solver\n",
    "results = solver.solve(model)\n",
    "\n",
    "# Print the results\n",
    "print(\"Status:\", results.solver.status)\n",
    "print(\"Termination condition:\",results.solver.termination_condition)\n",
    "\n",
    "# Print the optimal solution\n",
    "print(\"Optimal solution:\")\n",
    "print(\"X1 =\", model.X1.value)\n",
    "print(\"X2 =\", model.X2.value)\n",
    "print(\"S =\", model.S.value)\n",
    "print(\"Profit =\", model.profit())"
   ]
  },
  {
   "cell_type": "markdown",
   "id": "1be0926e",
   "metadata": {},
   "source": [
    "## 5. Correct the code to verify model viability (optional)"
   ]
  },
  {
   "cell_type": "code",
   "execution_count": null,
   "id": "8b37acfc",
   "metadata": {},
   "outputs": [],
   "source": []
  },
  {
   "cell_type": "markdown",
   "id": "36e8ab93",
   "metadata": {},
   "source": [
    "## 6. Print the responses"
   ]
  },
  {
   "cell_type": "code",
   "execution_count": 230,
   "id": "2f3512ae",
   "metadata": {},
   "outputs": [
    {
     "name": "stdout",
     "output_type": "stream",
     "text": [
      "## Variables:\n",
      "\n",
      "* **X1:**  Number of 1.5L COLI units produced daily.\n",
      "* **X2:** Number of 1.5L PEPSA units produced daily. \n",
      "* **S:** Hectoliters of syrup purchased and processed daily. \n",
      "\n"
     ]
    }
   ],
   "source": [
    "print(response.text)"
   ]
  },
  {
   "cell_type": "code",
   "execution_count": 231,
   "id": "c598fae1",
   "metadata": {},
   "outputs": [
    {
     "name": "stdout",
     "output_type": "stream",
     "text": [
      "Maximize  $49000X_1 - X_1^2 + 30X_2 - 2X_2^2 - 150S$ \n",
      "\n"
     ]
    }
   ],
   "source": [
    "print(response2.text)"
   ]
  },
  {
   "cell_type": "code",
   "execution_count": 232,
   "id": "db6b7892",
   "metadata": {},
   "outputs": [
    {
     "name": "stdout",
     "output_type": "stream",
     "text": [
      "Subject to:\n",
      "\n",
      "* **Syrup constraint:** $S = (X_1 / 40) + (X_2 / 20)$ \n",
      "* **Production capacity constraint:** $X_1 + X_2 ≤ 7100 \\frac{\\text{units}}{\\text{hour}} \\times 8 \\frac{\\text{hours}}{\\text{day}}$\n",
      "* **Minimum PEPSA production constraint:**  $X_2 ≥ 0.5X_1$\n",
      "* **Non-negativity constraints:** $X_1 ≥ 0$, $X_2 ≥ 0$, $S ≥ 0$ \n",
      "\n"
     ]
    }
   ],
   "source": [
    "print(response3.text)"
   ]
  },
  {
   "cell_type": "code",
   "execution_count": 233,
   "id": "21bae046",
   "metadata": {},
   "outputs": [
    {
     "name": "stdout",
     "output_type": "stream",
     "text": [
      "```python\n",
      "from pyomo.environ import *\n",
      "\n",
      "# Create a concrete model\n",
      "model = ConcreteModel()\n",
      "\n",
      "# Define variables\n",
      "model.X1 = Var(domain=NonNegativeReals)  # Number of 1.5L COLI units produced daily\n",
      "model.X2 = Var(domain=NonNegativeReals)  # Number of 1.5L PEPSA units produced daily\n",
      "model.S = Var(domain=NonNegativeReals)   # Hectoliters of syrup purchased and processed daily\n",
      "\n",
      "# Define objective function\n",
      "model.profit = Objective(expr = 49000*model.X1 - model.X1**2 + 30*model.X2 - 2*model.X2**2 - 150*model.S, \n",
      "                         sense=maximize)\n",
      "\n",
      "# Define constraints\n",
      "model.syrup_constraint = Constraint(expr = model.S == (model.X1 / 40) + (model.X2 / 20))\n",
      "model.production_capacity_constraint = Constraint(expr = model.X1 + model.X2 <= 7100 * 8)\n",
      "model.min_pepsi_constraint = Constraint(expr = model.X2 >= 0.5*model.X1)\n",
      "\n",
      "# Solve the model\n",
      "solver = SolverFactory('ipopt')  # Select a solver\n",
      "results = solver.solve(model)\n",
      "\n",
      "# Print the results\n",
      "print(\"Status:\", results.solver.status)\n",
      "print(\"Termination condition:\",results.solver.termination_condition)\n",
      "\n",
      "# Print the optimal solution\n",
      "print(\"Optimal solution:\")\n",
      "print(\"X1 =\", model.X1.value)\n",
      "print(\"X2 =\", model.X2.value)\n",
      "print(\"S =\", model.S.value)\n",
      "print(\"Profit =\", model.profit.value) \n",
      "``` \n",
      "\n"
     ]
    }
   ],
   "source": [
    "print(response4.text)"
   ]
  }
 ],
 "metadata": {
  "kernelspec": {
   "display_name": "Python 3 (ipykernel)",
   "language": "python",
   "name": "python3"
  },
  "language_info": {
   "codemirror_mode": {
    "name": "ipython",
    "version": 3
   },
   "file_extension": ".py",
   "mimetype": "text/x-python",
   "name": "python",
   "nbconvert_exporter": "python",
   "pygments_lexer": "ipython3",
   "version": "3.11.4"
  }
 },
 "nbformat": 4,
 "nbformat_minor": 5
}
