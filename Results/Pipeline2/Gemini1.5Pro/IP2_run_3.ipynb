{
 "cells": [
  {
   "cell_type": "markdown",
   "id": "f0005e9e",
   "metadata": {},
   "source": [
    "# LLM Optimization Modelling Experiment"
   ]
  },
  {
   "cell_type": "code",
   "execution_count": 1,
   "id": "7f664028",
   "metadata": {},
   "outputs": [],
   "source": [
    "import vertexai\n",
    "from vertexai.preview.generative_models import GenerativeModel, Image\n",
    "from IPython.display import Markdown"
   ]
  },
  {
   "cell_type": "markdown",
   "id": "f527d6af",
   "metadata": {},
   "source": [
    "## 1. Define the problem description"
   ]
  },
  {
   "cell_type": "code",
   "execution_count": 304,
   "id": "25055ffd",
   "metadata": {},
   "outputs": [],
   "source": [
    "problem = '''Your goal is to invest in several of 10 possible investment strategies in the most optimal way. The historic returns of those strategies are stored in the file \"investments_data.csv\". Each column represents one strategy and the rows are the past investment outcomes. There is no index and the values are separated by a ;.\n",
    "\n",
    "The costs for investing in a given investment is stored in a vector A, which has one value for each strategy in order.  \n",
    "The values are: [80, 340, 410, 50, 180, 221, 15, 348, 191, 225]\n",
    "\n",
    "You can only invest once into an investment. \n",
    "\n",
    "Unfortunately due to other costs and inflation, your available budget at this time is uncertain. There are four possible budget scenarios with different probabilities: scenario 1 with 1000 euros and probability of 0.55, scenario 2  with 1100 euros and probability of 0.4, scenario 3 with 900 euros and probability of 0.04, scenario 4 with 1200 euros and probability of 0.01. \n",
    "The tolerable probability of exceeding the budget is 0.4.\n",
    "\n",
    "Please formulate a mean-variance mathematical model for this optimization problem, considering the past performance of investment strategies and the uncertain budget. You can take 2 as the risk parameter r.'''"
   ]
  },
  {
   "cell_type": "markdown",
   "id": "472cf9ad",
   "metadata": {},
   "source": [
    "## 2. Ask for parameters"
   ]
  },
  {
   "cell_type": "code",
   "execution_count": 305,
   "id": "e31ec80c",
   "metadata": {},
   "outputs": [],
   "source": [
    "#Initializing the session. To replicate, make sure the right credentials are saved in a PATH variable\n",
    "PROJECT_ID = \"llm4optproblems\"\n",
    "REGION = \"us-central1\"\n",
    "vertexai.init(project=PROJECT_ID, location=REGION)\n",
    "\n",
    "#Specifying the model\n",
    "generative_multimodal_model = GenerativeModel(\"gemini-1.5-pro-preview-0409\")\n",
    "\n",
    "#The propmt applied to all problems\n",
    "prompt = '''Please formulate only the variables for this mathematical optimization problem. \n",
    "'''\n",
    "\n",
    "#Generate the response\n",
    "response = generative_multimodal_model.generate_content([prompt+problem])\n"
   ]
  },
  {
   "cell_type": "code",
   "execution_count": 306,
   "id": "f9adc567",
   "metadata": {},
   "outputs": [
    {
     "data": {
      "text/markdown": [
       "## Sets:\n",
       "*  **S:** Set of investment strategies (1, 2, ..., 10)\n",
       "*  **Ω:** Set of budget scenarios (1, 2, 3, 4)\n",
       "\n",
       "## Parameters:\n",
       "*  **R<sub>is</sub>:** Return of strategy *s*∈S in historical period *i* (from \"investments_data.csv\") \n",
       "*  **C<sub>s</sub>:** Cost of investing in strategy *s*∈S (from vector A: [80, 340, 410, 50, 180, 221, 15, 348, 191, 225])\n",
       "*  **B<sub>ω</sub>:** Budget available in scenario *ω*∈Ω ([1000, 1100, 900, 1200])\n",
       "*  **P<sub>ω</sub>:** Probability of scenario *ω*∈Ω ([0.55, 0.4, 0.04, 0.01])\n",
       "*  **α:** Maximum tolerable probability of exceeding the budget (0.4)\n",
       "*  **r:** Risk parameter (2)\n",
       "\n",
       "## Decision Variables:\n",
       "*  **x<sub>s</sub>:** Binary variable equal to 1 if investment strategy *s*∈S is selected, 0 otherwise \n",
       "\n",
       "## Auxiliary Variables:\n",
       "*  **y<sub>ω</sub>:** Binary variable equal to 1 if the budget is exceeded in scenario *ω*∈Ω, 0 otherwise \n"
      ],
      "text/plain": [
       "<IPython.core.display.Markdown object>"
      ]
     },
     "execution_count": 306,
     "metadata": {},
     "output_type": "execute_result"
    }
   ],
   "source": [
    "#Show the resopnse in a formatted way\n",
    "Markdown(response.text)"
   ]
  },
  {
   "cell_type": "markdown",
   "id": "15d9e89f",
   "metadata": {},
   "source": [
    "# 2. Ask for objective"
   ]
  },
  {
   "cell_type": "code",
   "execution_count": 307,
   "id": "4f357a19",
   "metadata": {},
   "outputs": [],
   "source": [
    "#Second prompt gets the output of the previous step and generates the code\n",
    "prompt2 = \"Please formulate only the objective function for this mathematical optimization problem.\"\n",
    "prompt2 += problem + response.text\n",
    "response2 = generative_multimodal_model.generate_content([prompt2])"
   ]
  },
  {
   "cell_type": "code",
   "execution_count": 308,
   "id": "bccd1014",
   "metadata": {},
   "outputs": [
    {
     "data": {
      "text/markdown": [
       "$$\\text{Minimize} \\quad  \\sum_{i}  \\left( \\frac{1}{|I|} \\sum_{s \\in S} (R_{is}  \\cdot x_s) -  \\frac{1}{|I|-1} \\sum_{i} (\\sum_{s \\in S}(R_{is}  \\cdot x_s)-\\sum_{i}\\sum_{s \\in S}(R_{is}  \\cdot x_s) / |I|)^2 \\right) + r \\cdot \\sum_{\\omega \\in \\Omega} P_{\\omega} \\cdot y_{\\omega}$$ \n"
      ],
      "text/plain": [
       "<IPython.core.display.Markdown object>"
      ]
     },
     "execution_count": 308,
     "metadata": {},
     "output_type": "execute_result"
    }
   ],
   "source": [
    "Markdown(response2.text)"
   ]
  },
  {
   "cell_type": "markdown",
   "id": "d8ab1404",
   "metadata": {},
   "source": [
    "# 3. Ask for constraints"
   ]
  },
  {
   "cell_type": "code",
   "execution_count": 309,
   "id": "e6409951",
   "metadata": {},
   "outputs": [],
   "source": [
    "#Second prompt gets the output of the previous step and generates the code\n",
    "prompt3 = \"Please formulate only the constraints for this mathematical optimization problem.\"\n",
    "prompt3 += problem + response.text + response2.text\n",
    "response3 = generative_multimodal_model.generate_content([prompt3])"
   ]
  },
  {
   "cell_type": "code",
   "execution_count": 310,
   "id": "2f9439c2",
   "metadata": {},
   "outputs": [
    {
     "data": {
      "text/markdown": [
       "## Constraints:\n",
       "\n",
       "1. **Budget Constraint:** The total cost of selected investments should not exceed the budget in each scenario *ω*∈Ω, unless the corresponding binary variable *y<sub>ω</sub>* is equal to 1. \n",
       "   \n",
       "   $$  \\sum_{s \\in S} C_s \\cdot x_s  \\le B_\\omega + y_\\omega \\cdot M  \\quad  \\forall \\omega \\in \\Omega $$\n",
       "\n",
       "   where M is a large positive constant.\n",
       "\n",
       "2. **Probability of Budget Exceedance:** The probability of exceeding the budget should be less than or equal to the tolerable probability *α*.\n",
       "\n",
       "   $$ \\sum_{\\omega \\in \\Omega} P_\\omega \\cdot y_\\omega \\le \\alpha $$\n",
       "\n",
       "3. **Binary Investment Decision:** Each investment strategy can be selected only once.\n",
       "\n",
       "   $$x_s \\in \\{0, 1\\} \\quad \\forall s \\in S $$\n",
       "\n",
       "4. **Binary Budget Exceedance:**  The budget is either exceeded or not in each scenario.\n",
       "\n",
       "   $$y_\\omega \\in \\{0, 1\\} \\quad \\forall \\omega \\in \\Omega $$ \n"
      ],
      "text/plain": [
       "<IPython.core.display.Markdown object>"
      ]
     },
     "execution_count": 310,
     "metadata": {},
     "output_type": "execute_result"
    }
   ],
   "source": [
    "Markdown(response3.text)"
   ]
  },
  {
   "cell_type": "code",
   "execution_count": null,
   "id": "07ba7f01",
   "metadata": {},
   "outputs": [],
   "source": []
  },
  {
   "cell_type": "markdown",
   "id": "75796979",
   "metadata": {},
   "source": [
    "## 3. Generate the pyomo code"
   ]
  },
  {
   "cell_type": "code",
   "execution_count": 311,
   "id": "aabea932",
   "metadata": {},
   "outputs": [],
   "source": [
    "#Second prompt gets the output of the previous step and generates the code\n",
    "prompt4 = \"Please write pyomo code for this mathematical problem. Use sample data where needed. Indicate where you use sample data. \\n\"\n",
    "prompt4 += response.text + response2.text + response3.text \n",
    "response4 = generative_multimodal_model.generate_content([prompt4])"
   ]
  },
  {
   "cell_type": "code",
   "execution_count": 312,
   "id": "fd2835af",
   "metadata": {},
   "outputs": [
    {
     "data": {
      "text/markdown": [
       "```python\n",
       "import pyomo.environ as pyo\n",
       "import pandas as pd\n",
       "\n",
       "# Sample data (replace with your actual data)\n",
       "investments_data = pd.DataFrame({\n",
       "    'Period1': [0.1, 0.05, 0.08, 0.12, 0.09, 0.06, 0.11, 0.07, 0.13, 0.04],\n",
       "    'Period2': [0.08, 0.11, 0.06, 0.09, 0.13, 0.07, 0.1, 0.05, 0.12, 0.04],\n",
       "    # ... add data for other periods\n",
       "})\n",
       "A = [80, 340, 410, 50, 180, 221, 15, 348, 191, 225]\n",
       "B = [1000, 1100, 900, 1200]\n",
       "P = [0.55, 0.4, 0.04, 0.01]\n",
       "alpha = 0.4\n",
       "r = 2\n",
       "\n",
       "# Model\n",
       "model = pyo.ConcreteModel()\n",
       "\n",
       "# Sets\n",
       "model.S = pyo.Set(initialize=range(1, len(A) + 1))  # Strategies\n",
       "model.Omega = pyo.Set(initialize=range(1, len(B) + 1))  # Scenarios\n",
       "model.I = pyo.Set(initialize=range(1, investments_data.shape[1] + 1))  # Historical periods\n",
       "\n",
       "# Parameters\n",
       "model.R = pyo.Param(model.I, model.S, initialize=lambda model, i, s: investments_data.iloc[i - 1, s - 1])\n",
       "model.C = pyo.Param(model.S, initialize=lambda model, s: A[s - 1])\n",
       "model.B = pyo.Param(model.Omega, initialize=lambda model, w: B[w - 1])\n",
       "model.P = pyo.Param(model.Omega, initialize=lambda model, w: P[w - 1])\n",
       "model.alpha = pyo.Param(initialize=alpha)\n",
       "model.r = pyo.Param(initialize=r)\n",
       "\n",
       "# Decision Variables\n",
       "model.x = pyo.Var(model.S, domain=pyo.Binary)\n",
       "model.y = pyo.Var(model.Omega, domain=pyo.Binary)\n",
       "\n",
       "# Objective function\n",
       "def objective_rule(model):\n",
       "    return sum(\n",
       "        (1 / len(model.I)) * sum(model.R[i, s] * model.x[s] for s in model.S)\n",
       "        - (1 / (len(model.I) - 1))\n",
       "        * sum(\n",
       "            (sum(model.R[i, s] * model.x[s] for s in model.S) - sum(model.R[i, s] * model.x[s] for i in model.I for s in model.S) / len(model.I)) ** 2\n",
       "            for i in model.I\n",
       "        )\n",
       "        for i in model.I\n",
       "    ) + model.r * sum(model.P[w] * model.y[w] for w in model.Omega)\n",
       "model.obj = pyo.Objective(rule=objective_rule, sense=pyo.minimize)\n",
       "\n",
       "# Constraints\n",
       "# Constraint 1: Budget Constraint\n",
       "def budget_constraint(model, w):\n",
       "    M = 1e6  # Large positive constant\n",
       "    return sum(model.C[s] * model.x[s] for s in model.S) <= model.B[w] + model.y[w] * M\n",
       "model.budget_constraint = pyo.Constraint(model.Omega, rule=budget_constraint)\n",
       "\n",
       "# Constraint 2: Probability of Budget Exceedance\n",
       "def prob_exceedance_constraint(model):\n",
       "    return sum(model.P[w] * model.y[w] for w in model.Omega) <= model.alpha\n",
       "model.prob_exceedance_constraint = pyo.Constraint(rule=prob_exceedance_constraint)\n",
       "\n",
       "# Solve the model\n",
       "solver = pyo.SolverFactory('glpk')\n",
       "solver.solve(model)\n",
       "\n",
       "# Print the solution\n",
       "print(\"Optimal Solution:\")\n",
       "for s in model.S:\n",
       "    if pyo.value(model.x[s]) > 0.5:\n",
       "        print(f\"  Invest in strategy {s}\")\n",
       "for w in model.Omega:\n",
       "    if pyo.value(model.y[w]) > 0.5:\n",
       "        print(f\"  Budget exceeded in scenario {w}\")\n",
       "print(f\"Objective value: {pyo.value(model.obj)}\")\n",
       "\n",
       "```\n",
       "\n",
       "This code defines the sets, parameters, variables, objective function, and constraints of your mathematical model.  It then uses the 'glpk' solver to find the optimal solution and prints the selected investment strategies.\n",
       "\n",
       "Remember to replace the sample data with your actual data from \"investments_data.csv\" and the vectors A, B, and P. \n"
      ],
      "text/plain": [
       "<IPython.core.display.Markdown object>"
      ]
     },
     "execution_count": 312,
     "metadata": {},
     "output_type": "execute_result"
    }
   ],
   "source": [
    "#Showing the code in a formatted way\n",
    "Markdown(response4.text)"
   ]
  },
  {
   "cell_type": "markdown",
   "id": "b60756ae",
   "metadata": {},
   "source": [
    "## 4. Input problem data and try running the generated code"
   ]
  },
  {
   "cell_type": "code",
   "execution_count": 313,
   "id": "41ed7d93",
   "metadata": {},
   "outputs": [
    {
     "name": "stdout",
     "output_type": "stream",
     "text": [
      "ERROR: Rule failed for Param 'R' with index (1, 3): IndexError: index 2 is out\n",
      "of bounds for axis 0 with size 2\n",
      "ERROR: Constructing component 'R' from data=None failed:\n",
      "        IndexError: index 2 is out of bounds for axis 0 with size 2\n"
     ]
    },
    {
     "ename": "IndexError",
     "evalue": "index 2 is out of bounds for axis 0 with size 2",
     "output_type": "error",
     "traceback": [
      "\u001b[1;31m---------------------------------------------------------------------------\u001b[0m",
      "\u001b[1;31mIndexError\u001b[0m                                Traceback (most recent call last)",
      "Cell \u001b[1;32mIn[313], line 25\u001b[0m\n\u001b[0;32m     22\u001b[0m model\u001b[38;5;241m.\u001b[39mI \u001b[38;5;241m=\u001b[39m pyo\u001b[38;5;241m.\u001b[39mSet(initialize\u001b[38;5;241m=\u001b[39m\u001b[38;5;28mrange\u001b[39m(\u001b[38;5;241m1\u001b[39m, investments_data\u001b[38;5;241m.\u001b[39mshape[\u001b[38;5;241m1\u001b[39m] \u001b[38;5;241m+\u001b[39m \u001b[38;5;241m1\u001b[39m))  \u001b[38;5;66;03m# Historical periods\u001b[39;00m\n\u001b[0;32m     24\u001b[0m \u001b[38;5;66;03m# Parameters\u001b[39;00m\n\u001b[1;32m---> 25\u001b[0m model\u001b[38;5;241m.\u001b[39mR \u001b[38;5;241m=\u001b[39m pyo\u001b[38;5;241m.\u001b[39mParam(model\u001b[38;5;241m.\u001b[39mI, model\u001b[38;5;241m.\u001b[39mS, initialize\u001b[38;5;241m=\u001b[39m\u001b[38;5;28;01mlambda\u001b[39;00m model, i, s: investments_data\u001b[38;5;241m.\u001b[39miloc[i \u001b[38;5;241m-\u001b[39m \u001b[38;5;241m1\u001b[39m, s \u001b[38;5;241m-\u001b[39m \u001b[38;5;241m1\u001b[39m])\n\u001b[0;32m     26\u001b[0m model\u001b[38;5;241m.\u001b[39mC \u001b[38;5;241m=\u001b[39m pyo\u001b[38;5;241m.\u001b[39mParam(model\u001b[38;5;241m.\u001b[39mS, initialize\u001b[38;5;241m=\u001b[39m\u001b[38;5;28;01mlambda\u001b[39;00m model, s: A[s \u001b[38;5;241m-\u001b[39m \u001b[38;5;241m1\u001b[39m])\n\u001b[0;32m     27\u001b[0m model\u001b[38;5;241m.\u001b[39mB \u001b[38;5;241m=\u001b[39m pyo\u001b[38;5;241m.\u001b[39mParam(model\u001b[38;5;241m.\u001b[39mOmega, initialize\u001b[38;5;241m=\u001b[39m\u001b[38;5;28;01mlambda\u001b[39;00m model, w: B[w \u001b[38;5;241m-\u001b[39m \u001b[38;5;241m1\u001b[39m])\n",
      "File \u001b[1;32m~\\anaconda3\\Lib\\site-packages\\pyomo\\core\\base\\block.py:568\u001b[0m, in \u001b[0;36m_BlockData.__setattr__\u001b[1;34m(self, name, val)\u001b[0m\n\u001b[0;32m    563\u001b[0m \u001b[38;5;28;01mif\u001b[39;00m name \u001b[38;5;129;01mnot\u001b[39;00m \u001b[38;5;129;01min\u001b[39;00m \u001b[38;5;28mself\u001b[39m\u001b[38;5;241m.\u001b[39m\u001b[38;5;18m__dict__\u001b[39m:\n\u001b[0;32m    564\u001b[0m     \u001b[38;5;28;01mif\u001b[39;00m \u001b[38;5;28misinstance\u001b[39m(val, Component):\n\u001b[0;32m    565\u001b[0m         \u001b[38;5;66;03m#\u001b[39;00m\n\u001b[0;32m    566\u001b[0m         \u001b[38;5;66;03m# Pyomo components are added with the add_component method.\u001b[39;00m\n\u001b[0;32m    567\u001b[0m         \u001b[38;5;66;03m#\u001b[39;00m\n\u001b[1;32m--> 568\u001b[0m         \u001b[38;5;28mself\u001b[39m\u001b[38;5;241m.\u001b[39madd_component(name, val)\n\u001b[0;32m    569\u001b[0m     \u001b[38;5;28;01melse\u001b[39;00m:\n\u001b[0;32m    570\u001b[0m         \u001b[38;5;66;03m#\u001b[39;00m\n\u001b[0;32m    571\u001b[0m         \u001b[38;5;66;03m# Other Python objects are added with the standard __setattr__\u001b[39;00m\n\u001b[0;32m    572\u001b[0m         \u001b[38;5;66;03m# method.\u001b[39;00m\n\u001b[0;32m    573\u001b[0m         \u001b[38;5;66;03m#\u001b[39;00m\n\u001b[0;32m    574\u001b[0m         \u001b[38;5;28msuper\u001b[39m(_BlockData, \u001b[38;5;28mself\u001b[39m)\u001b[38;5;241m.\u001b[39m\u001b[38;5;21m__setattr__\u001b[39m(name, val)\n",
      "File \u001b[1;32m~\\anaconda3\\Lib\\site-packages\\pyomo\\core\\base\\block.py:1126\u001b[0m, in \u001b[0;36m_BlockData.add_component\u001b[1;34m(self, name, val)\u001b[0m\n\u001b[0;32m   1118\u001b[0m     logger\u001b[38;5;241m.\u001b[39mdebug(\n\u001b[0;32m   1119\u001b[0m         \u001b[38;5;124m\"\u001b[39m\u001b[38;5;124mConstructing \u001b[39m\u001b[38;5;132;01m%s\u001b[39;00m\u001b[38;5;124m \u001b[39m\u001b[38;5;124m'\u001b[39m\u001b[38;5;132;01m%s\u001b[39;00m\u001b[38;5;124m'\u001b[39m\u001b[38;5;124m on \u001b[39m\u001b[38;5;132;01m%s\u001b[39;00m\u001b[38;5;124m from data=\u001b[39m\u001b[38;5;132;01m%s\u001b[39;00m\u001b[38;5;124m\"\u001b[39m,\n\u001b[0;32m   1120\u001b[0m         val\u001b[38;5;241m.\u001b[39m\u001b[38;5;18m__class__\u001b[39m\u001b[38;5;241m.\u001b[39m\u001b[38;5;18m__name__\u001b[39m,\n\u001b[1;32m   (...)\u001b[0m\n\u001b[0;32m   1123\u001b[0m         \u001b[38;5;28mstr\u001b[39m(data),\n\u001b[0;32m   1124\u001b[0m     )\n\u001b[0;32m   1125\u001b[0m \u001b[38;5;28;01mtry\u001b[39;00m:\n\u001b[1;32m-> 1126\u001b[0m     val\u001b[38;5;241m.\u001b[39mconstruct(data)\n\u001b[0;32m   1127\u001b[0m \u001b[38;5;28;01mexcept\u001b[39;00m:\n\u001b[0;32m   1128\u001b[0m     err \u001b[38;5;241m=\u001b[39m sys\u001b[38;5;241m.\u001b[39mexc_info()[\u001b[38;5;241m1\u001b[39m]\n",
      "File \u001b[1;32m~\\anaconda3\\Lib\\site-packages\\pyomo\\core\\base\\param.py:825\u001b[0m, in \u001b[0;36mParam.construct\u001b[1;34m(self, data)\u001b[0m\n\u001b[0;32m    821\u001b[0m \u001b[38;5;28mself\u001b[39m\u001b[38;5;241m.\u001b[39m_constructed \u001b[38;5;241m=\u001b[39m \u001b[38;5;28;01mNone\u001b[39;00m\n\u001b[0;32m    822\u001b[0m \u001b[38;5;66;03m#\u001b[39;00m\n\u001b[0;32m    823\u001b[0m \u001b[38;5;66;03m# Step #1: initialize data from rule value\u001b[39;00m\n\u001b[0;32m    824\u001b[0m \u001b[38;5;66;03m#\u001b[39;00m\n\u001b[1;32m--> 825\u001b[0m \u001b[38;5;28mself\u001b[39m\u001b[38;5;241m.\u001b[39m_construct_from_rule_using_setitem()\n\u001b[0;32m    826\u001b[0m \u001b[38;5;66;03m#\u001b[39;00m\n\u001b[0;32m    827\u001b[0m \u001b[38;5;66;03m# Step #2: allow any user-specified (external) data to override\u001b[39;00m\n\u001b[0;32m    828\u001b[0m \u001b[38;5;66;03m# the initialization\u001b[39;00m\n\u001b[0;32m    829\u001b[0m \u001b[38;5;66;03m#\u001b[39;00m\n\u001b[0;32m    830\u001b[0m \u001b[38;5;28;01mif\u001b[39;00m data \u001b[38;5;129;01mis\u001b[39;00m \u001b[38;5;129;01mnot\u001b[39;00m \u001b[38;5;28;01mNone\u001b[39;00m:\n",
      "File \u001b[1;32m~\\anaconda3\\Lib\\site-packages\\pyomo\\core\\base\\indexed_component.py:784\u001b[0m, in \u001b[0;36mIndexedComponent._construct_from_rule_using_setitem\u001b[1;34m(self)\u001b[0m\n\u001b[0;32m    782\u001b[0m     \u001b[38;5;28;01melse\u001b[39;00m:\n\u001b[0;32m    783\u001b[0m         \u001b[38;5;28;01mfor\u001b[39;00m index \u001b[38;5;129;01min\u001b[39;00m \u001b[38;5;28mself\u001b[39m\u001b[38;5;241m.\u001b[39mindex_set():\n\u001b[1;32m--> 784\u001b[0m             \u001b[38;5;28mself\u001b[39m\u001b[38;5;241m.\u001b[39m_setitem_when_not_present(index, rule(block, index))\n\u001b[0;32m    785\u001b[0m \u001b[38;5;28;01mexcept\u001b[39;00m:\n\u001b[0;32m    786\u001b[0m     err \u001b[38;5;241m=\u001b[39m sys\u001b[38;5;241m.\u001b[39mexc_info()[\u001b[38;5;241m1\u001b[39m]\n",
      "File \u001b[1;32m~\\anaconda3\\Lib\\site-packages\\pyomo\\core\\base\\initializer.py:314\u001b[0m, in \u001b[0;36mIndexedCallInitializer.__call__\u001b[1;34m(self, parent, idx)\u001b[0m\n\u001b[0;32m    308\u001b[0m \u001b[38;5;28;01mdef\u001b[39;00m \u001b[38;5;21m__call__\u001b[39m(\u001b[38;5;28mself\u001b[39m, parent, idx):\n\u001b[0;32m    309\u001b[0m     \u001b[38;5;66;03m# Note: this is called by a component using data from a Set (so\u001b[39;00m\n\u001b[0;32m    310\u001b[0m     \u001b[38;5;66;03m# any tuple-like type should have already been checked and\u001b[39;00m\n\u001b[0;32m    311\u001b[0m     \u001b[38;5;66;03m# converted to a tuple; or flattening is turned off and it is\u001b[39;00m\n\u001b[0;32m    312\u001b[0m     \u001b[38;5;66;03m# the user's responsibility to sort things out.\u001b[39;00m\n\u001b[0;32m    313\u001b[0m     \u001b[38;5;28;01mif\u001b[39;00m idx\u001b[38;5;241m.\u001b[39m\u001b[38;5;18m__class__\u001b[39m \u001b[38;5;129;01mis\u001b[39;00m \u001b[38;5;28mtuple\u001b[39m:\n\u001b[1;32m--> 314\u001b[0m         \u001b[38;5;28;01mreturn\u001b[39;00m \u001b[38;5;28mself\u001b[39m\u001b[38;5;241m.\u001b[39m_fcn(parent, \u001b[38;5;241m*\u001b[39midx)\n\u001b[0;32m    315\u001b[0m     \u001b[38;5;28;01melse\u001b[39;00m:\n\u001b[0;32m    316\u001b[0m         \u001b[38;5;28;01mreturn\u001b[39;00m \u001b[38;5;28mself\u001b[39m\u001b[38;5;241m.\u001b[39m_fcn(parent, idx)\n",
      "Cell \u001b[1;32mIn[313], line 25\u001b[0m, in \u001b[0;36m<lambda>\u001b[1;34m(model, i, s)\u001b[0m\n\u001b[0;32m     22\u001b[0m model\u001b[38;5;241m.\u001b[39mI \u001b[38;5;241m=\u001b[39m pyo\u001b[38;5;241m.\u001b[39mSet(initialize\u001b[38;5;241m=\u001b[39m\u001b[38;5;28mrange\u001b[39m(\u001b[38;5;241m1\u001b[39m, investments_data\u001b[38;5;241m.\u001b[39mshape[\u001b[38;5;241m1\u001b[39m] \u001b[38;5;241m+\u001b[39m \u001b[38;5;241m1\u001b[39m))  \u001b[38;5;66;03m# Historical periods\u001b[39;00m\n\u001b[0;32m     24\u001b[0m \u001b[38;5;66;03m# Parameters\u001b[39;00m\n\u001b[1;32m---> 25\u001b[0m model\u001b[38;5;241m.\u001b[39mR \u001b[38;5;241m=\u001b[39m pyo\u001b[38;5;241m.\u001b[39mParam(model\u001b[38;5;241m.\u001b[39mI, model\u001b[38;5;241m.\u001b[39mS, initialize\u001b[38;5;241m=\u001b[39m\u001b[38;5;28;01mlambda\u001b[39;00m model, i, s: investments_data\u001b[38;5;241m.\u001b[39miloc[i \u001b[38;5;241m-\u001b[39m \u001b[38;5;241m1\u001b[39m, s \u001b[38;5;241m-\u001b[39m \u001b[38;5;241m1\u001b[39m])\n\u001b[0;32m     26\u001b[0m model\u001b[38;5;241m.\u001b[39mC \u001b[38;5;241m=\u001b[39m pyo\u001b[38;5;241m.\u001b[39mParam(model\u001b[38;5;241m.\u001b[39mS, initialize\u001b[38;5;241m=\u001b[39m\u001b[38;5;28;01mlambda\u001b[39;00m model, s: A[s \u001b[38;5;241m-\u001b[39m \u001b[38;5;241m1\u001b[39m])\n\u001b[0;32m     27\u001b[0m model\u001b[38;5;241m.\u001b[39mB \u001b[38;5;241m=\u001b[39m pyo\u001b[38;5;241m.\u001b[39mParam(model\u001b[38;5;241m.\u001b[39mOmega, initialize\u001b[38;5;241m=\u001b[39m\u001b[38;5;28;01mlambda\u001b[39;00m model, w: B[w \u001b[38;5;241m-\u001b[39m \u001b[38;5;241m1\u001b[39m])\n",
      "File \u001b[1;32m~\\anaconda3\\Lib\\site-packages\\pandas\\core\\indexing.py:1066\u001b[0m, in \u001b[0;36m_LocationIndexer.__getitem__\u001b[1;34m(self, key)\u001b[0m\n\u001b[0;32m   1064\u001b[0m     key \u001b[38;5;241m=\u001b[39m \u001b[38;5;28mtuple\u001b[39m(com\u001b[38;5;241m.\u001b[39mapply_if_callable(x, \u001b[38;5;28mself\u001b[39m\u001b[38;5;241m.\u001b[39mobj) \u001b[38;5;28;01mfor\u001b[39;00m x \u001b[38;5;129;01min\u001b[39;00m key)\n\u001b[0;32m   1065\u001b[0m     \u001b[38;5;28;01mif\u001b[39;00m \u001b[38;5;28mself\u001b[39m\u001b[38;5;241m.\u001b[39m_is_scalar_access(key):\n\u001b[1;32m-> 1066\u001b[0m         \u001b[38;5;28;01mreturn\u001b[39;00m \u001b[38;5;28mself\u001b[39m\u001b[38;5;241m.\u001b[39mobj\u001b[38;5;241m.\u001b[39m_get_value(\u001b[38;5;241m*\u001b[39mkey, takeable\u001b[38;5;241m=\u001b[39m\u001b[38;5;28mself\u001b[39m\u001b[38;5;241m.\u001b[39m_takeable)\n\u001b[0;32m   1067\u001b[0m     \u001b[38;5;28;01mreturn\u001b[39;00m \u001b[38;5;28mself\u001b[39m\u001b[38;5;241m.\u001b[39m_getitem_tuple(key)\n\u001b[0;32m   1068\u001b[0m \u001b[38;5;28;01melse\u001b[39;00m:\n\u001b[0;32m   1069\u001b[0m     \u001b[38;5;66;03m# we by definition only have the 0th axis\u001b[39;00m\n",
      "File \u001b[1;32m~\\anaconda3\\Lib\\site-packages\\pandas\\core\\frame.py:3914\u001b[0m, in \u001b[0;36mDataFrame._get_value\u001b[1;34m(self, index, col, takeable)\u001b[0m\n\u001b[0;32m   3895\u001b[0m \u001b[38;5;250m\u001b[39m\u001b[38;5;124;03m\"\"\"\u001b[39;00m\n\u001b[0;32m   3896\u001b[0m \u001b[38;5;124;03mQuickly retrieve single value at passed column and index.\u001b[39;00m\n\u001b[0;32m   3897\u001b[0m \n\u001b[1;32m   (...)\u001b[0m\n\u001b[0;32m   3911\u001b[0m \u001b[38;5;124;03m`self.columns._index_as_unique`; Caller is responsible for checking.\u001b[39;00m\n\u001b[0;32m   3912\u001b[0m \u001b[38;5;124;03m\"\"\"\u001b[39;00m\n\u001b[0;32m   3913\u001b[0m \u001b[38;5;28;01mif\u001b[39;00m takeable:\n\u001b[1;32m-> 3914\u001b[0m     series \u001b[38;5;241m=\u001b[39m \u001b[38;5;28mself\u001b[39m\u001b[38;5;241m.\u001b[39m_ixs(col, axis\u001b[38;5;241m=\u001b[39m\u001b[38;5;241m1\u001b[39m)\n\u001b[0;32m   3915\u001b[0m     \u001b[38;5;28;01mreturn\u001b[39;00m series\u001b[38;5;241m.\u001b[39m_values[index]\n\u001b[0;32m   3917\u001b[0m series \u001b[38;5;241m=\u001b[39m \u001b[38;5;28mself\u001b[39m\u001b[38;5;241m.\u001b[39m_get_item_cache(col)\n",
      "File \u001b[1;32m~\\anaconda3\\Lib\\site-packages\\pandas\\core\\frame.py:3728\u001b[0m, in \u001b[0;36mDataFrame._ixs\u001b[1;34m(self, i, axis)\u001b[0m\n\u001b[0;32m   3724\u001b[0m     \u001b[38;5;28;01mreturn\u001b[39;00m result\n\u001b[0;32m   3726\u001b[0m \u001b[38;5;66;03m# icol\u001b[39;00m\n\u001b[0;32m   3727\u001b[0m \u001b[38;5;28;01melse\u001b[39;00m:\n\u001b[1;32m-> 3728\u001b[0m     label \u001b[38;5;241m=\u001b[39m \u001b[38;5;28mself\u001b[39m\u001b[38;5;241m.\u001b[39mcolumns[i]\n\u001b[0;32m   3730\u001b[0m     col_mgr \u001b[38;5;241m=\u001b[39m \u001b[38;5;28mself\u001b[39m\u001b[38;5;241m.\u001b[39m_mgr\u001b[38;5;241m.\u001b[39miget(i)\n\u001b[0;32m   3731\u001b[0m     result \u001b[38;5;241m=\u001b[39m \u001b[38;5;28mself\u001b[39m\u001b[38;5;241m.\u001b[39m_box_col_values(col_mgr, i)\n",
      "File \u001b[1;32m~\\anaconda3\\Lib\\site-packages\\pandas\\core\\indexes\\base.py:5320\u001b[0m, in \u001b[0;36mIndex.__getitem__\u001b[1;34m(self, key)\u001b[0m\n\u001b[0;32m   5317\u001b[0m \u001b[38;5;28;01mif\u001b[39;00m is_integer(key) \u001b[38;5;129;01mor\u001b[39;00m is_float(key):\n\u001b[0;32m   5318\u001b[0m     \u001b[38;5;66;03m# GH#44051 exclude bool, which would return a 2d ndarray\u001b[39;00m\n\u001b[0;32m   5319\u001b[0m     key \u001b[38;5;241m=\u001b[39m com\u001b[38;5;241m.\u001b[39mcast_scalar_indexer(key, warn_float\u001b[38;5;241m=\u001b[39m\u001b[38;5;28;01mTrue\u001b[39;00m)\n\u001b[1;32m-> 5320\u001b[0m     \u001b[38;5;28;01mreturn\u001b[39;00m getitem(key)\n\u001b[0;32m   5322\u001b[0m \u001b[38;5;28;01mif\u001b[39;00m \u001b[38;5;28misinstance\u001b[39m(key, \u001b[38;5;28mslice\u001b[39m):\n\u001b[0;32m   5323\u001b[0m     \u001b[38;5;66;03m# This case is separated from the conditional above to avoid\u001b[39;00m\n\u001b[0;32m   5324\u001b[0m     \u001b[38;5;66;03m# pessimization com.is_bool_indexer and ndim checks.\u001b[39;00m\n\u001b[0;32m   5325\u001b[0m     result \u001b[38;5;241m=\u001b[39m getitem(key)\n",
      "\u001b[1;31mIndexError\u001b[0m: index 2 is out of bounds for axis 0 with size 2"
     ]
    }
   ],
   "source": [
    "import pyomo.environ as pyo\n",
    "import pandas as pd\n",
    "\n",
    "# Sample data (replace with your actual data)\n",
    "investments_data = pd.DataFrame({\n",
    "    'Period1': [0.1, 0.05, 0.08, 0.12, 0.09, 0.06, 0.11, 0.07, 0.13, 0.04],\n",
    "    'Period2': [0.08, 0.11, 0.06, 0.09, 0.13, 0.07, 0.1, 0.05, 0.12, 0.04],\n",
    "    # ... add data for other periods\n",
    "})\n",
    "A = [80, 340, 410, 50, 180, 221, 15, 348, 191, 225]\n",
    "B = [1000, 1100, 900, 1200]\n",
    "P = [0.55, 0.4, 0.04, 0.01]\n",
    "alpha = 0.4\n",
    "r = 2\n",
    "\n",
    "# Model\n",
    "model = pyo.ConcreteModel()\n",
    "\n",
    "# Sets\n",
    "model.S = pyo.Set(initialize=range(1, len(A) + 1))  # Strategies\n",
    "model.Omega = pyo.Set(initialize=range(1, len(B) + 1))  # Scenarios\n",
    "model.I = pyo.Set(initialize=range(1, investments_data.shape[1] + 1))  # Historical periods\n",
    "\n",
    "# Parameters\n",
    "model.R = pyo.Param(model.I, model.S, initialize=lambda model, i, s: investments_data.iloc[i - 1, s - 1])\n",
    "model.C = pyo.Param(model.S, initialize=lambda model, s: A[s - 1])\n",
    "model.B = pyo.Param(model.Omega, initialize=lambda model, w: B[w - 1])\n",
    "model.P = pyo.Param(model.Omega, initialize=lambda model, w: P[w - 1])\n",
    "model.alpha = pyo.Param(initialize=alpha)\n",
    "model.r = pyo.Param(initialize=r)\n",
    "\n",
    "# Decision Variables\n",
    "model.x = pyo.Var(model.S, domain=pyo.Binary)\n",
    "model.y = pyo.Var(model.Omega, domain=pyo.Binary)\n",
    "\n",
    "# Objective function\n",
    "def objective_rule(model):\n",
    "    return sum(\n",
    "        (1 / len(model.I)) * sum(model.R[i, s] * model.x[s] for s in model.S)\n",
    "        - (1 / (len(model.I) - 1))\n",
    "        * sum(\n",
    "            (sum(model.R[i, s] * model.x[s] for s in model.S) - sum(model.R[i, s] * model.x[s] for i in model.I for s in model.S) / len(model.I)) ** 2\n",
    "            for i in model.I\n",
    "        )\n",
    "        for i in model.I\n",
    "    ) + model.r * sum(model.P[w] * model.y[w] for w in model.Omega)\n",
    "model.obj = pyo.Objective(rule=objective_rule, sense=pyo.minimize)\n",
    "\n",
    "# Constraints\n",
    "# Constraint 1: Budget Constraint\n",
    "def budget_constraint(model, w):\n",
    "    M = 1e6  # Large positive constant\n",
    "    return sum(model.C[s] * model.x[s] for s in model.S) <= model.B[w] + model.y[w] * M\n",
    "model.budget_constraint = pyo.Constraint(model.Omega, rule=budget_constraint)\n",
    "\n",
    "# Constraint 2: Probability of Budget Exceedance\n",
    "def prob_exceedance_constraint(model):\n",
    "    return sum(model.P[w] * model.y[w] for w in model.Omega) <= model.alpha\n",
    "model.prob_exceedance_constraint = pyo.Constraint(rule=prob_exceedance_constraint)\n",
    "\n",
    "# Solve the model\n",
    "solver = pyo.SolverFactory('glpk')\n",
    "solver.solve(model)\n",
    "\n",
    "# Print the solution\n",
    "print(\"Optimal Solution:\")\n",
    "for s in model.S:\n",
    "    if pyo.value(model.x[s]) > 0.5:\n",
    "        print(f\"  Invest in strategy {s}\")\n",
    "for w in model.Omega:\n",
    "    if pyo.value(model.y[w]) > 0.5:\n",
    "        print(f\"  Budget exceeded in scenario {w}\")\n",
    "print(f\"Objective value: {pyo.value(model.obj)}\")"
   ]
  },
  {
   "cell_type": "markdown",
   "id": "1be0926e",
   "metadata": {},
   "source": [
    "## 5. Correct the code to verify model viability (optional)"
   ]
  },
  {
   "cell_type": "code",
   "execution_count": 295,
   "id": "8b37acfc",
   "metadata": {},
   "outputs": [],
   "source": [
    "# THE MODEL WAS RUN IN COLLAB WITH COUENNE AND THE RIGHT DATA TO VERIFY THE VIABILITY, BUT GAVE A WRONG OUTCOME.\n",
    "\n",
    "#CODE OUTPUT:\n",
    "# investments_data.csv(text/csv) - 36584 bytes, last modified: 03/05/2024 - 100% done\n",
    "# ERROR:pyomo.core:Rule failed for Param 'R' with index (11, 1):\n",
    "# IndexError: index 10 is out of bounds for axis 0 with size 10\n",
    "# ERROR:pyomo.core:Constructing component 'R' from data=None failed:\n",
    "#     IndexError: index 10 is out of bounds for axis 0 with size 10\n",
    "# Saving investments_data.csv to investments_data (7).csv\n",
    "# ---------------------------------------------------------------------------\n",
    "# IndexError                                Traceback (most recent call last)\n",
    "# <ipython-input-12-965855bb460e> in <cell line: 51>()\n",
    "#      49 \n",
    "#      50 # Parameters\n",
    "# ---> 51 model.R = pyo.Param(model.I, model.S, initialize=lambda model, i, s: investments_data.iloc[i - 1, s - 1])\n",
    "#      52 model.C = pyo.Param(model.S, initialize=lambda model, s: A[s - 1])\n",
    "#      53 model.B = pyo.Param(model.Omega, initialize=lambda model, w: B[w - 1])\n",
    "\n",
    "# 7 frames\n",
    "# /usr/local/lib/python3.10/dist-packages/pandas/core/frame.py in _get_value(self, index, col, takeable)\n",
    "#    3866         if takeable:\n",
    "#    3867             series = self._ixs(col, axis=1)\n",
    "# -> 3868             return series._values[index]\n",
    "#    3869 \n",
    "#    3870         series = self._get_item_cache(col)\n",
    "\n",
    "# IndexError: index 10 is out of bounds for axis 0 with size 10"
   ]
  },
  {
   "cell_type": "markdown",
   "id": "b781e39f",
   "metadata": {},
   "source": [
    "## 6. Print the responses"
   ]
  },
  {
   "cell_type": "code",
   "execution_count": 314,
   "id": "d7d11431",
   "metadata": {},
   "outputs": [
    {
     "name": "stdout",
     "output_type": "stream",
     "text": [
      "## Sets:\n",
      "*  **S:** Set of investment strategies (1, 2, ..., 10)\n",
      "*  **Ω:** Set of budget scenarios (1, 2, 3, 4)\n",
      "\n",
      "## Parameters:\n",
      "*  **R<sub>is</sub>:** Return of strategy *s*∈S in historical period *i* (from \"investments_data.csv\") \n",
      "*  **C<sub>s</sub>:** Cost of investing in strategy *s*∈S (from vector A: [80, 340, 410, 50, 180, 221, 15, 348, 191, 225])\n",
      "*  **B<sub>ω</sub>:** Budget available in scenario *ω*∈Ω ([1000, 1100, 900, 1200])\n",
      "*  **P<sub>ω</sub>:** Probability of scenario *ω*∈Ω ([0.55, 0.4, 0.04, 0.01])\n",
      "*  **α:** Maximum tolerable probability of exceeding the budget (0.4)\n",
      "*  **r:** Risk parameter (2)\n",
      "\n",
      "## Decision Variables:\n",
      "*  **x<sub>s</sub>:** Binary variable equal to 1 if investment strategy *s*∈S is selected, 0 otherwise \n",
      "\n",
      "## Auxiliary Variables:\n",
      "*  **y<sub>ω</sub>:** Binary variable equal to 1 if the budget is exceeded in scenario *ω*∈Ω, 0 otherwise \n",
      "\n"
     ]
    }
   ],
   "source": [
    "print(response.text)"
   ]
  },
  {
   "cell_type": "code",
   "execution_count": 315,
   "id": "a1c0f832",
   "metadata": {},
   "outputs": [
    {
     "name": "stdout",
     "output_type": "stream",
     "text": [
      "$$\\text{Minimize} \\quad  \\sum_{i}  \\left( \\frac{1}{|I|} \\sum_{s \\in S} (R_{is}  \\cdot x_s) -  \\frac{1}{|I|-1} \\sum_{i} (\\sum_{s \\in S}(R_{is}  \\cdot x_s)-\\sum_{i}\\sum_{s \\in S}(R_{is}  \\cdot x_s) / |I|)^2 \\right) + r \\cdot \\sum_{\\omega \\in \\Omega} P_{\\omega} \\cdot y_{\\omega}$$ \n",
      "\n"
     ]
    }
   ],
   "source": [
    "print(response2.text)"
   ]
  },
  {
   "cell_type": "code",
   "execution_count": 316,
   "id": "b0244014",
   "metadata": {},
   "outputs": [
    {
     "name": "stdout",
     "output_type": "stream",
     "text": [
      "## Constraints:\n",
      "\n",
      "1. **Budget Constraint:** The total cost of selected investments should not exceed the budget in each scenario *ω*∈Ω, unless the corresponding binary variable *y<sub>ω</sub>* is equal to 1. \n",
      "   \n",
      "   $$  \\sum_{s \\in S} C_s \\cdot x_s  \\le B_\\omega + y_\\omega \\cdot M  \\quad  \\forall \\omega \\in \\Omega $$\n",
      "\n",
      "   where M is a large positive constant.\n",
      "\n",
      "2. **Probability of Budget Exceedance:** The probability of exceeding the budget should be less than or equal to the tolerable probability *α*.\n",
      "\n",
      "   $$ \\sum_{\\omega \\in \\Omega} P_\\omega \\cdot y_\\omega \\le \\alpha $$\n",
      "\n",
      "3. **Binary Investment Decision:** Each investment strategy can be selected only once.\n",
      "\n",
      "   $$x_s \\in \\{0, 1\\} \\quad \\forall s \\in S $$\n",
      "\n",
      "4. **Binary Budget Exceedance:**  The budget is either exceeded or not in each scenario.\n",
      "\n",
      "   $$y_\\omega \\in \\{0, 1\\} \\quad \\forall \\omega \\in \\Omega $$ \n",
      "\n"
     ]
    }
   ],
   "source": [
    "print(response3.text)"
   ]
  },
  {
   "cell_type": "code",
   "execution_count": 317,
   "id": "5b4467dd",
   "metadata": {},
   "outputs": [
    {
     "name": "stdout",
     "output_type": "stream",
     "text": [
      "```python\n",
      "import pyomo.environ as pyo\n",
      "import pandas as pd\n",
      "\n",
      "# Sample data (replace with your actual data)\n",
      "investments_data = pd.DataFrame({\n",
      "    'Period1': [0.1, 0.05, 0.08, 0.12, 0.09, 0.06, 0.11, 0.07, 0.13, 0.04],\n",
      "    'Period2': [0.08, 0.11, 0.06, 0.09, 0.13, 0.07, 0.1, 0.05, 0.12, 0.04],\n",
      "    # ... add data for other periods\n",
      "})\n",
      "A = [80, 340, 410, 50, 180, 221, 15, 348, 191, 225]\n",
      "B = [1000, 1100, 900, 1200]\n",
      "P = [0.55, 0.4, 0.04, 0.01]\n",
      "alpha = 0.4\n",
      "r = 2\n",
      "\n",
      "# Model\n",
      "model = pyo.ConcreteModel()\n",
      "\n",
      "# Sets\n",
      "model.S = pyo.Set(initialize=range(1, len(A) + 1))  # Strategies\n",
      "model.Omega = pyo.Set(initialize=range(1, len(B) + 1))  # Scenarios\n",
      "model.I = pyo.Set(initialize=range(1, investments_data.shape[1] + 1))  # Historical periods\n",
      "\n",
      "# Parameters\n",
      "model.R = pyo.Param(model.I, model.S, initialize=lambda model, i, s: investments_data.iloc[i - 1, s - 1])\n",
      "model.C = pyo.Param(model.S, initialize=lambda model, s: A[s - 1])\n",
      "model.B = pyo.Param(model.Omega, initialize=lambda model, w: B[w - 1])\n",
      "model.P = pyo.Param(model.Omega, initialize=lambda model, w: P[w - 1])\n",
      "model.alpha = pyo.Param(initialize=alpha)\n",
      "model.r = pyo.Param(initialize=r)\n",
      "\n",
      "# Decision Variables\n",
      "model.x = pyo.Var(model.S, domain=pyo.Binary)\n",
      "model.y = pyo.Var(model.Omega, domain=pyo.Binary)\n",
      "\n",
      "# Objective function\n",
      "def objective_rule(model):\n",
      "    return sum(\n",
      "        (1 / len(model.I)) * sum(model.R[i, s] * model.x[s] for s in model.S)\n",
      "        - (1 / (len(model.I) - 1))\n",
      "        * sum(\n",
      "            (sum(model.R[i, s] * model.x[s] for s in model.S) - sum(model.R[i, s] * model.x[s] for i in model.I for s in model.S) / len(model.I)) ** 2\n",
      "            for i in model.I\n",
      "        )\n",
      "        for i in model.I\n",
      "    ) + model.r * sum(model.P[w] * model.y[w] for w in model.Omega)\n",
      "model.obj = pyo.Objective(rule=objective_rule, sense=pyo.minimize)\n",
      "\n",
      "# Constraints\n",
      "# Constraint 1: Budget Constraint\n",
      "def budget_constraint(model, w):\n",
      "    M = 1e6  # Large positive constant\n",
      "    return sum(model.C[s] * model.x[s] for s in model.S) <= model.B[w] + model.y[w] * M\n",
      "model.budget_constraint = pyo.Constraint(model.Omega, rule=budget_constraint)\n",
      "\n",
      "# Constraint 2: Probability of Budget Exceedance\n",
      "def prob_exceedance_constraint(model):\n",
      "    return sum(model.P[w] * model.y[w] for w in model.Omega) <= model.alpha\n",
      "model.prob_exceedance_constraint = pyo.Constraint(rule=prob_exceedance_constraint)\n",
      "\n",
      "# Solve the model\n",
      "solver = pyo.SolverFactory('glpk')\n",
      "solver.solve(model)\n",
      "\n",
      "# Print the solution\n",
      "print(\"Optimal Solution:\")\n",
      "for s in model.S:\n",
      "    if pyo.value(model.x[s]) > 0.5:\n",
      "        print(f\"  Invest in strategy {s}\")\n",
      "for w in model.Omega:\n",
      "    if pyo.value(model.y[w]) > 0.5:\n",
      "        print(f\"  Budget exceeded in scenario {w}\")\n",
      "print(f\"Objective value: {pyo.value(model.obj)}\")\n",
      "\n",
      "```\n",
      "\n",
      "This code defines the sets, parameters, variables, objective function, and constraints of your mathematical model.  It then uses the 'glpk' solver to find the optimal solution and prints the selected investment strategies.\n",
      "\n",
      "Remember to replace the sample data with your actual data from \"investments_data.csv\" and the vectors A, B, and P. \n",
      "\n"
     ]
    }
   ],
   "source": [
    "print(response4.text)"
   ]
  }
 ],
 "metadata": {
  "kernelspec": {
   "display_name": "Python 3 (ipykernel)",
   "language": "python",
   "name": "python3"
  },
  "language_info": {
   "codemirror_mode": {
    "name": "ipython",
    "version": 3
   },
   "file_extension": ".py",
   "mimetype": "text/x-python",
   "name": "python",
   "nbconvert_exporter": "python",
   "pygments_lexer": "ipython3",
   "version": "3.11.4"
  }
 },
 "nbformat": 4,
 "nbformat_minor": 5
}
