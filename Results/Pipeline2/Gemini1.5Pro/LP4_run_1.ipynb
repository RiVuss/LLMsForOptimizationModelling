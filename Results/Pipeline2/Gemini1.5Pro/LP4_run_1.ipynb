{
 "cells": [
  {
   "cell_type": "markdown",
   "id": "f0005e9e",
   "metadata": {},
   "source": [
    "# LLM Optimization Modelling Experiment"
   ]
  },
  {
   "cell_type": "code",
   "execution_count": 8,
   "id": "7f664028",
   "metadata": {},
   "outputs": [],
   "source": [
    "import vertexai\n",
    "from vertexai.preview.generative_models import GenerativeModel, Image\n",
    "from IPython.display import Markdown"
   ]
  },
  {
   "cell_type": "markdown",
   "id": "f527d6af",
   "metadata": {},
   "source": [
    "## 1. Define the problem description"
   ]
  },
  {
   "cell_type": "code",
   "execution_count": 181,
   "id": "25055ffd",
   "metadata": {},
   "outputs": [],
   "source": [
    "problem = '''Consider a farmer who specializes in raising wheat, corn, and sugar beets on her 500 acres of land. During the winter, she wants to decide how much land to devote to each crop.\n",
    "\n",
    "The farmer knows that at least 200 tons (T) of wheat and 240 T of corn are needed for cattle feed. These amounts can be raised on the farm or bought from a wholesaler.\n",
    "Any production in excess of the feeding requirement would be sold.\n",
    "\n",
    "Over the last decade, mean selling prices have been $170 and $150 per ton of wheat and corn, respectively.\n",
    "The purchase prices are 40% more than this due to the wholesaler’s margin and transportation costs.\n",
    "\n",
    "Another profitable crop is sugar beet, which she expects to sell at $36/T. However, the European Commission imposes a quota on sugar beet production. Any amount in excess of the quota can be sold only at $10/T. The farmer’s quota for next year is 6000 T.\n",
    "\n",
    "Based on past experience, the farmer knows that the mean yield on her land is roughly 2.5 T, 3 T, and 20 T per acre for wheat, corn, and sugar beets, respectively. It costs $150 to plant an acre of wheat, $230 to pant an acre of corn and $260 to plant an acre of sugar beets. \n",
    "\n",
    "The farmer can decide how much of her land she will use to grow each of the three products: wheat, corn and sugar beets. The goal of the farmer is to minimize her total costs (where sales are considered as negative costs).'''"
   ]
  },
  {
   "cell_type": "markdown",
   "id": "472cf9ad",
   "metadata": {},
   "source": [
    "## 2. Ask for parameters"
   ]
  },
  {
   "cell_type": "code",
   "execution_count": 182,
   "id": "e31ec80c",
   "metadata": {},
   "outputs": [],
   "source": [
    "#Initializing the session. To replicate, make sure the right credentials are saved in a PATH variable\n",
    "PROJECT_ID = \"llm4optproblems\"\n",
    "REGION = \"us-central1\"\n",
    "vertexai.init(project=PROJECT_ID, location=REGION)\n",
    "\n",
    "#Specifying the model\n",
    "generative_multimodal_model = GenerativeModel(\"gemini-1.5-pro-preview-0409\")\n",
    "\n",
    "#The propmt applied to all problems\n",
    "prompt = '''Please formulate only the variables for this mathematical optimization problem. \n",
    "'''\n",
    "\n",
    "#Generate the response\n",
    "response = generative_multimodal_model.generate_content([prompt+problem])\n"
   ]
  },
  {
   "cell_type": "code",
   "execution_count": 183,
   "id": "f9adc567",
   "metadata": {
    "scrolled": false
   },
   "outputs": [
    {
     "data": {
      "text/markdown": [
       "## Decision Variables:\n",
       "\n",
       "*  *w* = acres of land devoted to wheat.\n",
       "*  *c* = acres of land devoted to corn.\n",
       "*  *b* = acres of land devoted to sugar beets.\n",
       "\n",
       "## Auxiliary Variables:\n",
       "\n",
       "* *w_b* = tons of wheat purchased.\n",
       "* *c_b* = tons of corn purchased.\n",
       "* *w_s* = tons of wheat sold.\n",
       "* *c_s* = tons of corn sold.\n",
       "* *b_s* = tons of sugar beets sold at the regular price.\n",
       "* *b_e* = tons of sugar beets sold in excess of the quota. \n"
      ],
      "text/plain": [
       "<IPython.core.display.Markdown object>"
      ]
     },
     "execution_count": 183,
     "metadata": {},
     "output_type": "execute_result"
    }
   ],
   "source": [
    "#Show the resopnse in a formatted way\n",
    "Markdown(response.text)"
   ]
  },
  {
   "cell_type": "markdown",
   "id": "15d9e89f",
   "metadata": {},
   "source": [
    "# 2. Ask for objective"
   ]
  },
  {
   "cell_type": "code",
   "execution_count": 184,
   "id": "4f357a19",
   "metadata": {},
   "outputs": [],
   "source": [
    "#Second prompt gets the output of the previous step and generates the code\n",
    "prompt2 = \"Please formulate only the objective function for this mathematical optimization problem.\"\n",
    "prompt2 += problem + response.text\n",
    "response2 = generative_multimodal_model.generate_content([prompt2])"
   ]
  },
  {
   "cell_type": "code",
   "execution_count": 185,
   "id": "bccd1014",
   "metadata": {},
   "outputs": [
    {
     "data": {
      "text/markdown": [
       "Minimize:  \n",
       "\n",
       "150*w + 230*c + 260*b  +  216*w_b + 180*c_b - 170*w_s - 150*c_s - 36*b_s - 10*b_e \n"
      ],
      "text/plain": [
       "<IPython.core.display.Markdown object>"
      ]
     },
     "execution_count": 185,
     "metadata": {},
     "output_type": "execute_result"
    }
   ],
   "source": [
    "Markdown(response2.text)"
   ]
  },
  {
   "cell_type": "markdown",
   "id": "d8ab1404",
   "metadata": {},
   "source": [
    "# 3. Ask for constraints"
   ]
  },
  {
   "cell_type": "code",
   "execution_count": 186,
   "id": "e6409951",
   "metadata": {},
   "outputs": [],
   "source": [
    "#Second prompt gets the output of the previous step and generates the code\n",
    "prompt3 = \"Please formulate only the constraints for this mathematical optimization problem.\"\n",
    "prompt3 += problem + response.text + response2.text\n",
    "response3 = generative_multimodal_model.generate_content([prompt3])"
   ]
  },
  {
   "cell_type": "code",
   "execution_count": 187,
   "id": "2f9439c2",
   "metadata": {},
   "outputs": [
    {
     "data": {
      "text/markdown": [
       "## Constraints:\n",
       "\n",
       "**Land availability:**\n",
       "\n",
       "* w + c + b ≤ 500 \n",
       "\n",
       "**Feeding requirements and buying/selling balance:**\n",
       "\n",
       "* 2.5w + w_b - w_s ≥ 200 \n",
       "* 3c + c_b - c_s ≥ 240 \n",
       "\n",
       "**Sugar beet quota and sales:**\n",
       "\n",
       "* b_s ≤ 6000\n",
       "* 20b - b_s - b_e = 0 \n",
       "\n",
       "**Non-negativity of decision variables:**\n",
       "\n",
       "* w, c, b, w_b, c_b, w_s, c_s, b_s, b_e ≥ 0 \n"
      ],
      "text/plain": [
       "<IPython.core.display.Markdown object>"
      ]
     },
     "execution_count": 187,
     "metadata": {},
     "output_type": "execute_result"
    }
   ],
   "source": [
    "Markdown(response3.text)"
   ]
  },
  {
   "cell_type": "markdown",
   "id": "75796979",
   "metadata": {},
   "source": [
    "## 3. Generate the pyomo code"
   ]
  },
  {
   "cell_type": "code",
   "execution_count": 188,
   "id": "aabea932",
   "metadata": {},
   "outputs": [],
   "source": [
    "#Second prompt gets the output of the previous step and generates the code\n",
    "prompt4 = \"Please write pyomo code for this mathematical problem. Use sample data where needed. Indicate where you use sample data. \\n\"\n",
    "prompt4 += response.text + response2.text + response3.text \n",
    "response4 = generative_multimodal_model.generate_content([prompt4])"
   ]
  },
  {
   "cell_type": "code",
   "execution_count": 189,
   "id": "0dbc9976",
   "metadata": {
    "scrolled": false
   },
   "outputs": [
    {
     "data": {
      "text/markdown": [
       "```python\n",
       "import pyomo.environ as pyo\n",
       "\n",
       "# Sample Data - Replace with your actual data if needed\n",
       "land_available = 500\n",
       "wheat_required = 200\n",
       "corn_required = 240\n",
       "beet_quota = 6000\n",
       "\n",
       "# Model\n",
       "model = pyo.ConcreteModel()\n",
       "\n",
       "# Decision Variables\n",
       "model.w = pyo.Var(domain=pyo.NonNegativeReals)  # Acres of wheat\n",
       "model.c = pyo.Var(domain=pyo.NonNegativeReals)  # Acres of corn\n",
       "model.b = pyo.Var(domain=pyo.NonNegativeReals)  # Acres of beets\n",
       "\n",
       "# Auxiliary Variables\n",
       "model.w_b = pyo.Var(domain=pyo.NonNegativeReals)  # Tons of wheat bought\n",
       "model.c_b = pyo.Var(domain=pyo.NonNegativeReals)  # Tons of corn bought\n",
       "model.w_s = pyo.Var(domain=pyo.NonNegativeReals)  # Tons of wheat sold\n",
       "model.c_s = pyo.Var(domain=pyo.NonNegativeReals)  # Tons of corn sold\n",
       "model.b_s = pyo.Var(domain=pyo.NonNegativeReals)  # Tons of beets sold (regular)\n",
       "model.b_e = pyo.Var(domain=pyo.NonNegativeReals)  # Tons of beets sold (excess)\n",
       "\n",
       "# Objective Function\n",
       "model.cost = pyo.Objective(\n",
       "    expr=150 * model.w\n",
       "    + 230 * model.c\n",
       "    + 260 * model.b\n",
       "    + 216 * model.w_b\n",
       "    + 180 * model.c_b\n",
       "    - 170 * model.w_s\n",
       "    - 150 * model.c_s\n",
       "    - 36 * model.b_s\n",
       "    - 10 * model.b_e,\n",
       "    sense=pyo.minimize,\n",
       ")\n",
       "\n",
       "# Constraints\n",
       "model.land_constraint = pyo.Constraint(\n",
       "    expr=model.w + model.c + model.b <= land_available\n",
       ")\n",
       "\n",
       "model.wheat_constraint = pyo.Constraint(\n",
       "    expr=2.5 * model.w + model.w_b - model.w_s >= wheat_required\n",
       ")\n",
       "\n",
       "model.corn_constraint = pyo.Constraint(\n",
       "    expr=3 * model.c + model.c_b - model.c_s >= corn_required\n",
       ")\n",
       "\n",
       "model.beet_quota_constraint = pyo.Constraint(expr=model.b_s <= beet_quota)\n",
       "\n",
       "model.beet_sales_constraint = pyo.Constraint(\n",
       "    expr=20 * model.b - model.b_s - model.b_e == 0\n",
       ")\n",
       "\n",
       "# Solve the model\n",
       "solver = pyo.SolverFactory(\"glpk\")  # Choose a solver you have installed\n",
       "solver.solve(model)\n",
       "\n",
       "# Print the solution\n",
       "print(\"Optimal Solution:\")\n",
       "print(f\"Wheat Acreage (w): {pyo.value(model.w)}\")\n",
       "print(f\"Corn Acreage (c): {pyo.value(model.c)}\")\n",
       "print(f\"Sugar Beet Acreage (b): {pyo.value(model.b)}\")\n",
       "print(f\"Wheat Bought (w_b): {pyo.value(model.w_b)}\")\n",
       "print(f\"Corn Bought (c_b): {pyo.value(model.c_b)}\")\n",
       "print(f\"Wheat Sold (w_s): {pyo.value(model.w_s)}\")\n",
       "print(f\"Corn Sold (c_s): {pyo.value(model.c_s)}\")\n",
       "print(f\"Beets Sold (Regular) (b_s): {pyo.value(model.b_s)}\")\n",
       "print(f\"Beets Sold (Excess) (b_e): {pyo.value(model.b_e)}\")\n",
       "print(f\"Total Cost: {pyo.value(model.cost)}\")\n",
       "```\n",
       "\n",
       "In this code: \n",
       "\n",
       "1.  I used `pyo.ConcreteModel()` to create a concrete Pyomo model.\n",
       "2.  I defined the decision variables (`w`, `c`, `b`, etc.) using `pyo.Var()` and specified that they are non-negative real numbers.\n",
       "3.  The objective function and constraints are defined using Pyomo expressions (`expr`).\n",
       "4.  You'll need to have a solver like GLPK installed and accessible to Python.  You can install it using `conda install -c conda-forge glpk`\n",
       "5.  Replace the sample data (`land_available`, `wheat_required`, `corn_required`, `beet_quota`) with your actual data.\n",
       "6.  Finally, the code solves the model and prints the optimal solution.\n"
      ],
      "text/plain": [
       "<IPython.core.display.Markdown object>"
      ]
     },
     "execution_count": 189,
     "metadata": {},
     "output_type": "execute_result"
    }
   ],
   "source": [
    "## Showing the code in a formatted way\n",
    "Markdown(response4.text)"
   ]
  },
  {
   "cell_type": "markdown",
   "id": "b60756ae",
   "metadata": {},
   "source": [
    "## 4. Input problem data and try running the generated code"
   ]
  },
  {
   "cell_type": "code",
   "execution_count": 190,
   "id": "9cc2e439",
   "metadata": {},
   "outputs": [
    {
     "name": "stdout",
     "output_type": "stream",
     "text": [
      "Optimal Solution:\n",
      "Wheat Acreage (w): 120.0\n",
      "Corn Acreage (c): 80.0\n",
      "Sugar Beet Acreage (b): 300.0\n",
      "Wheat Bought (w_b): 0.0\n",
      "Corn Bought (c_b): 0.0\n",
      "Wheat Sold (w_s): 99.9999999999999\n",
      "Corn Sold (c_s): 0.0\n",
      "Beets Sold (Regular) (b_s): 6000.0\n",
      "Beets Sold (Excess) (b_e): 0.0\n",
      "Total Cost: -118599.99999999999\n"
     ]
    }
   ],
   "source": [
    "import pyomo.environ as pyo\n",
    "\n",
    "# Sample Data - Replace with your actual data if needed\n",
    "land_available = 500\n",
    "wheat_required = 200\n",
    "corn_required = 240\n",
    "beet_quota = 6000\n",
    "\n",
    "# Model\n",
    "model = pyo.ConcreteModel()\n",
    "\n",
    "# Decision Variables\n",
    "model.w = pyo.Var(domain=pyo.NonNegativeReals)  # Acres of wheat\n",
    "model.c = pyo.Var(domain=pyo.NonNegativeReals)  # Acres of corn\n",
    "model.b = pyo.Var(domain=pyo.NonNegativeReals)  # Acres of beets\n",
    "\n",
    "# Auxiliary Variables\n",
    "model.w_b = pyo.Var(domain=pyo.NonNegativeReals)  # Tons of wheat bought\n",
    "model.c_b = pyo.Var(domain=pyo.NonNegativeReals)  # Tons of corn bought\n",
    "model.w_s = pyo.Var(domain=pyo.NonNegativeReals)  # Tons of wheat sold\n",
    "model.c_s = pyo.Var(domain=pyo.NonNegativeReals)  # Tons of corn sold\n",
    "model.b_s = pyo.Var(domain=pyo.NonNegativeReals)  # Tons of beets sold (regular)\n",
    "model.b_e = pyo.Var(domain=pyo.NonNegativeReals)  # Tons of beets sold (excess)\n",
    "\n",
    "# Objective Function\n",
    "model.cost = pyo.Objective(\n",
    "    expr=150 * model.w\n",
    "    + 230 * model.c\n",
    "    + 260 * model.b\n",
    "    + 216 * model.w_b\n",
    "    + 180 * model.c_b\n",
    "    - 170 * model.w_s\n",
    "    - 150 * model.c_s\n",
    "    - 36 * model.b_s\n",
    "    - 10 * model.b_e,\n",
    "    sense=pyo.minimize,\n",
    ")\n",
    "\n",
    "# Constraints\n",
    "model.land_constraint = pyo.Constraint(\n",
    "    expr=model.w + model.c + model.b <= land_available\n",
    ")\n",
    "\n",
    "model.wheat_constraint = pyo.Constraint(\n",
    "    expr=2.5 * model.w + model.w_b - model.w_s >= wheat_required\n",
    ")\n",
    "\n",
    "model.corn_constraint = pyo.Constraint(\n",
    "    expr=3 * model.c + model.c_b - model.c_s >= corn_required\n",
    ")\n",
    "\n",
    "model.beet_quota_constraint = pyo.Constraint(expr=model.b_s <= beet_quota)\n",
    "\n",
    "model.beet_sales_constraint = pyo.Constraint(\n",
    "    expr=20 * model.b - model.b_s - model.b_e == 0\n",
    ")\n",
    "\n",
    "# Solve the model\n",
    "solver = pyo.SolverFactory(\"glpk\")  # Choose a solver you have installed\n",
    "solver.solve(model)\n",
    "\n",
    "# Print the solution\n",
    "print(\"Optimal Solution:\")\n",
    "print(f\"Wheat Acreage (w): {pyo.value(model.w)}\")\n",
    "print(f\"Corn Acreage (c): {pyo.value(model.c)}\")\n",
    "print(f\"Sugar Beet Acreage (b): {pyo.value(model.b)}\")\n",
    "print(f\"Wheat Bought (w_b): {pyo.value(model.w_b)}\")\n",
    "print(f\"Corn Bought (c_b): {pyo.value(model.c_b)}\")\n",
    "print(f\"Wheat Sold (w_s): {pyo.value(model.w_s)}\")\n",
    "print(f\"Corn Sold (c_s): {pyo.value(model.c_s)}\")\n",
    "print(f\"Beets Sold (Regular) (b_s): {pyo.value(model.b_s)}\")\n",
    "print(f\"Beets Sold (Excess) (b_e): {pyo.value(model.b_e)}\")\n",
    "print(f\"Total Cost: {pyo.value(model.cost)}\")"
   ]
  },
  {
   "cell_type": "code",
   "execution_count": 150,
   "id": "e5070eb7",
   "metadata": {
    "scrolled": false
   },
   "outputs": [],
   "source": []
  },
  {
   "cell_type": "markdown",
   "id": "1be0926e",
   "metadata": {},
   "source": [
    "## 5. Correct the code to verify model viability (optional)"
   ]
  },
  {
   "cell_type": "code",
   "execution_count": null,
   "id": "b9356207",
   "metadata": {},
   "outputs": [],
   "source": []
  },
  {
   "cell_type": "markdown",
   "id": "dbd7b8a8",
   "metadata": {},
   "source": [
    "## 6. Print the responses"
   ]
  },
  {
   "cell_type": "code",
   "execution_count": 191,
   "id": "c76b7575",
   "metadata": {},
   "outputs": [
    {
     "name": "stdout",
     "output_type": "stream",
     "text": [
      "## Decision Variables:\n",
      "\n",
      "*  *w* = acres of land devoted to wheat.\n",
      "*  *c* = acres of land devoted to corn.\n",
      "*  *b* = acres of land devoted to sugar beets.\n",
      "\n",
      "## Auxiliary Variables:\n",
      "\n",
      "* *w_b* = tons of wheat purchased.\n",
      "* *c_b* = tons of corn purchased.\n",
      "* *w_s* = tons of wheat sold.\n",
      "* *c_s* = tons of corn sold.\n",
      "* *b_s* = tons of sugar beets sold at the regular price.\n",
      "* *b_e* = tons of sugar beets sold in excess of the quota. \n",
      "\n"
     ]
    }
   ],
   "source": [
    "print(response.text)"
   ]
  },
  {
   "cell_type": "code",
   "execution_count": 192,
   "id": "1bb49c6c",
   "metadata": {},
   "outputs": [
    {
     "name": "stdout",
     "output_type": "stream",
     "text": [
      "Minimize:  \n",
      "\n",
      "150*w + 230*c + 260*b  +  216*w_b + 180*c_b - 170*w_s - 150*c_s - 36*b_s - 10*b_e \n",
      "\n"
     ]
    }
   ],
   "source": [
    "print(response2.text)"
   ]
  },
  {
   "cell_type": "code",
   "execution_count": 193,
   "id": "b95499e6",
   "metadata": {},
   "outputs": [
    {
     "name": "stdout",
     "output_type": "stream",
     "text": [
      "## Constraints:\n",
      "\n",
      "**Land availability:**\n",
      "\n",
      "* w + c + b ≤ 500 \n",
      "\n",
      "**Feeding requirements and buying/selling balance:**\n",
      "\n",
      "* 2.5w + w_b - w_s ≥ 200 \n",
      "* 3c + c_b - c_s ≥ 240 \n",
      "\n",
      "**Sugar beet quota and sales:**\n",
      "\n",
      "* b_s ≤ 6000\n",
      "* 20b - b_s - b_e = 0 \n",
      "\n",
      "**Non-negativity of decision variables:**\n",
      "\n",
      "* w, c, b, w_b, c_b, w_s, c_s, b_s, b_e ≥ 0 \n",
      "\n"
     ]
    }
   ],
   "source": [
    "print(response3.text)"
   ]
  },
  {
   "cell_type": "code",
   "execution_count": 194,
   "id": "184942d4",
   "metadata": {},
   "outputs": [
    {
     "name": "stdout",
     "output_type": "stream",
     "text": [
      "```python\n",
      "import pyomo.environ as pyo\n",
      "\n",
      "# Sample Data - Replace with your actual data if needed\n",
      "land_available = 500\n",
      "wheat_required = 200\n",
      "corn_required = 240\n",
      "beet_quota = 6000\n",
      "\n",
      "# Model\n",
      "model = pyo.ConcreteModel()\n",
      "\n",
      "# Decision Variables\n",
      "model.w = pyo.Var(domain=pyo.NonNegativeReals)  # Acres of wheat\n",
      "model.c = pyo.Var(domain=pyo.NonNegativeReals)  # Acres of corn\n",
      "model.b = pyo.Var(domain=pyo.NonNegativeReals)  # Acres of beets\n",
      "\n",
      "# Auxiliary Variables\n",
      "model.w_b = pyo.Var(domain=pyo.NonNegativeReals)  # Tons of wheat bought\n",
      "model.c_b = pyo.Var(domain=pyo.NonNegativeReals)  # Tons of corn bought\n",
      "model.w_s = pyo.Var(domain=pyo.NonNegativeReals)  # Tons of wheat sold\n",
      "model.c_s = pyo.Var(domain=pyo.NonNegativeReals)  # Tons of corn sold\n",
      "model.b_s = pyo.Var(domain=pyo.NonNegativeReals)  # Tons of beets sold (regular)\n",
      "model.b_e = pyo.Var(domain=pyo.NonNegativeReals)  # Tons of beets sold (excess)\n",
      "\n",
      "# Objective Function\n",
      "model.cost = pyo.Objective(\n",
      "    expr=150 * model.w\n",
      "    + 230 * model.c\n",
      "    + 260 * model.b\n",
      "    + 216 * model.w_b\n",
      "    + 180 * model.c_b\n",
      "    - 170 * model.w_s\n",
      "    - 150 * model.c_s\n",
      "    - 36 * model.b_s\n",
      "    - 10 * model.b_e,\n",
      "    sense=pyo.minimize,\n",
      ")\n",
      "\n",
      "# Constraints\n",
      "model.land_constraint = pyo.Constraint(\n",
      "    expr=model.w + model.c + model.b <= land_available\n",
      ")\n",
      "\n",
      "model.wheat_constraint = pyo.Constraint(\n",
      "    expr=2.5 * model.w + model.w_b - model.w_s >= wheat_required\n",
      ")\n",
      "\n",
      "model.corn_constraint = pyo.Constraint(\n",
      "    expr=3 * model.c + model.c_b - model.c_s >= corn_required\n",
      ")\n",
      "\n",
      "model.beet_quota_constraint = pyo.Constraint(expr=model.b_s <= beet_quota)\n",
      "\n",
      "model.beet_sales_constraint = pyo.Constraint(\n",
      "    expr=20 * model.b - model.b_s - model.b_e == 0\n",
      ")\n",
      "\n",
      "# Solve the model\n",
      "solver = pyo.SolverFactory(\"glpk\")  # Choose a solver you have installed\n",
      "solver.solve(model)\n",
      "\n",
      "# Print the solution\n",
      "print(\"Optimal Solution:\")\n",
      "print(f\"Wheat Acreage (w): {pyo.value(model.w)}\")\n",
      "print(f\"Corn Acreage (c): {pyo.value(model.c)}\")\n",
      "print(f\"Sugar Beet Acreage (b): {pyo.value(model.b)}\")\n",
      "print(f\"Wheat Bought (w_b): {pyo.value(model.w_b)}\")\n",
      "print(f\"Corn Bought (c_b): {pyo.value(model.c_b)}\")\n",
      "print(f\"Wheat Sold (w_s): {pyo.value(model.w_s)}\")\n",
      "print(f\"Corn Sold (c_s): {pyo.value(model.c_s)}\")\n",
      "print(f\"Beets Sold (Regular) (b_s): {pyo.value(model.b_s)}\")\n",
      "print(f\"Beets Sold (Excess) (b_e): {pyo.value(model.b_e)}\")\n",
      "print(f\"Total Cost: {pyo.value(model.cost)}\")\n",
      "```\n",
      "\n",
      "In this code: \n",
      "\n",
      "1.  I used `pyo.ConcreteModel()` to create a concrete Pyomo model.\n",
      "2.  I defined the decision variables (`w`, `c`, `b`, etc.) using `pyo.Var()` and specified that they are non-negative real numbers.\n",
      "3.  The objective function and constraints are defined using Pyomo expressions (`expr`).\n",
      "4.  You'll need to have a solver like GLPK installed and accessible to Python.  You can install it using `conda install -c conda-forge glpk`\n",
      "5.  Replace the sample data (`land_available`, `wheat_required`, `corn_required`, `beet_quota`) with your actual data.\n",
      "6.  Finally, the code solves the model and prints the optimal solution.\n",
      "\n"
     ]
    }
   ],
   "source": [
    "print(response4.text)"
   ]
  },
  {
   "cell_type": "code",
   "execution_count": null,
   "id": "bd046f37",
   "metadata": {},
   "outputs": [],
   "source": []
  }
 ],
 "metadata": {
  "kernelspec": {
   "display_name": "Python 3 (ipykernel)",
   "language": "python",
   "name": "python3"
  },
  "language_info": {
   "codemirror_mode": {
    "name": "ipython",
    "version": 3
   },
   "file_extension": ".py",
   "mimetype": "text/x-python",
   "name": "python",
   "nbconvert_exporter": "python",
   "pygments_lexer": "ipython3",
   "version": "3.11.4"
  }
 },
 "nbformat": 4,
 "nbformat_minor": 5
}
