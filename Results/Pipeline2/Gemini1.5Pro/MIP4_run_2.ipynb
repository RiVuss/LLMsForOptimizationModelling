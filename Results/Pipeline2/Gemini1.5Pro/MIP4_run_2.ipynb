{
 "cells": [
  {
   "cell_type": "markdown",
   "id": "f0005e9e",
   "metadata": {},
   "source": [
    "# LLM Optimization Modelling Experiment"
   ]
  },
  {
   "cell_type": "code",
   "execution_count": 8,
   "id": "7f664028",
   "metadata": {},
   "outputs": [],
   "source": [
    "import vertexai\n",
    "from vertexai.preview.generative_models import GenerativeModel, Image\n",
    "from IPython.display import Markdown"
   ]
  },
  {
   "cell_type": "markdown",
   "id": "f527d6af",
   "metadata": {},
   "source": [
    "## 1. Define the problem description"
   ]
  },
  {
   "cell_type": "code",
   "execution_count": 253,
   "id": "25055ffd",
   "metadata": {},
   "outputs": [],
   "source": [
    "problem = '''You are task with maximizing the water flow in a network of pipes over 10 time steps. The water enters the system at point A and exits the system at point G. Hence, you need to maximize the amount of water that flows to point G. The water enters point A according to the function f(t) = max(-4/30t^3+t^2-0.234t+3, 0), where t is the time step. There are serveral points that are connected through pipes. Each pipe has a fixed capacity. Each point has to possibility to release water out of the system in case the outgoing pipes are full. There are 12 available pipes in total but only 10 of them can be activated. Deactivated pipes can not be used to transport water. The activation status of a pipe is set before any water arrives at point A and does not change. Finally, water can not be stored at the connection points which means that any water coming in at time t needs to be flowing out at time t + 1.\n",
    "\n",
    "These are the pipe capacities:\n",
    "AB: 3\n",
    "AC: 6\n",
    "AF: 1\n",
    "BC: 3\n",
    "BD: 10\n",
    "BE: 4\n",
    "CE: 4\n",
    "CF: 4\n",
    "DE: 5\n",
    "EG: 5\n",
    "FB: 12\n",
    "FG: 7'''"
   ]
  },
  {
   "cell_type": "markdown",
   "id": "472cf9ad",
   "metadata": {},
   "source": [
    "## 2. Ask for parameters"
   ]
  },
  {
   "cell_type": "code",
   "execution_count": 254,
   "id": "e31ec80c",
   "metadata": {},
   "outputs": [],
   "source": [
    "#Initializing the session. To replicate, make sure the right credentials are saved in a PATH variable\n",
    "PROJECT_ID = \"llm4optproblems\"\n",
    "REGION = \"us-central1\"\n",
    "vertexai.init(project=PROJECT_ID, location=REGION)\n",
    "\n",
    "#Specifying the model\n",
    "generative_multimodal_model = GenerativeModel(\"gemini-1.5-pro-preview-0409\")\n",
    "\n",
    "#The propmt applied to all problems\n",
    "prompt = '''Please formulate only the variables for this mathematical optimization problem. \n",
    "'''\n",
    "\n",
    "#Generate the response\n",
    "response = generative_multimodal_model.generate_content([prompt+problem])\n"
   ]
  },
  {
   "cell_type": "code",
   "execution_count": 255,
   "id": "f9adc567",
   "metadata": {
    "scrolled": false
   },
   "outputs": [
    {
     "data": {
      "text/markdown": [
       "## Variables:\n",
       "\n",
       "**1. Binary variables for pipe activation (1 if active, 0 if inactive):**\n",
       "\n",
       "*  x_AB\n",
       "*  x_AC\n",
       "*  x_AF\n",
       "*  x_BC\n",
       "*  x_BD\n",
       "*  x_BE\n",
       "*  x_CE\n",
       "*  x_CF\n",
       "*  x_DE\n",
       "*  x_EG\n",
       "*  x_FB\n",
       "*  x_FG\n",
       "\n",
       "**2. Continuous variables for water flow through each pipe at each time step (t = 1, 2,..., 10):**\n",
       "\n",
       "* f_AB(t)\n",
       "* f_AC(t)\n",
       "* f_AF(t)\n",
       "* f_BC(t)\n",
       "* f_BD(t)\n",
       "* f_BE(t)\n",
       "* f_CE(t)\n",
       "* f_CF(t)\n",
       "* f_DE(t)\n",
       "* f_EG(t)\n",
       "* f_FB(t)\n",
       "* f_FG(t)\n",
       "\n",
       "**3. Continuous variables for water released at each point at each time step (t=1, 2,..., 10):**\n",
       "\n",
       "* r_B(t)\n",
       "* r_C(t)\n",
       "* r_D(t)\n",
       "* r_E(t)\n",
       "* r_F(t) \n"
      ],
      "text/plain": [
       "<IPython.core.display.Markdown object>"
      ]
     },
     "execution_count": 255,
     "metadata": {},
     "output_type": "execute_result"
    }
   ],
   "source": [
    "#Show the resopnse in a formatted way\n",
    "Markdown(response.text)"
   ]
  },
  {
   "cell_type": "markdown",
   "id": "15d9e89f",
   "metadata": {},
   "source": [
    "# 2. Ask for objective"
   ]
  },
  {
   "cell_type": "code",
   "execution_count": 256,
   "id": "4f357a19",
   "metadata": {},
   "outputs": [],
   "source": [
    "#Second prompt gets the output of the previous step and generates the code\n",
    "prompt2 = \"Please formulate only the objective function for this mathematical optimization problem.\"\n",
    "prompt2 += problem + response.text\n",
    "response2 = generative_multimodal_model.generate_content([prompt2])"
   ]
  },
  {
   "cell_type": "code",
   "execution_count": 257,
   "id": "bccd1014",
   "metadata": {},
   "outputs": [
    {
     "data": {
      "text/markdown": [
       "Maximize:  ∑_{t=1}^{10} (f_EG(t) + f_FG(t)) \n"
      ],
      "text/plain": [
       "<IPython.core.display.Markdown object>"
      ]
     },
     "execution_count": 257,
     "metadata": {},
     "output_type": "execute_result"
    }
   ],
   "source": [
    "Markdown(response2.text)"
   ]
  },
  {
   "cell_type": "markdown",
   "id": "d8ab1404",
   "metadata": {},
   "source": [
    "# 3. Ask for constraints"
   ]
  },
  {
   "cell_type": "code",
   "execution_count": 258,
   "id": "e6409951",
   "metadata": {},
   "outputs": [],
   "source": [
    "#Second prompt gets the output of the previous step and generates the code\n",
    "prompt3 = \"Please formulate only the constraints for this mathematical optimization problem.\"\n",
    "prompt3 += problem + response.text + response2.text\n",
    "response3 = generative_multimodal_model.generate_content([prompt3])"
   ]
  },
  {
   "cell_type": "code",
   "execution_count": 259,
   "id": "2f9439c2",
   "metadata": {},
   "outputs": [
    {
     "data": {
      "text/markdown": [
       "## Constraints:\n",
       "\n",
       "**1. Pipe Activation:**\n",
       "\n",
       "*   **Limit on active pipes:**  ∑_{i∈{AB, AC, AF, BC, BD, BE, CE, CF, DE, EG, FB, FG}} x_i = 10 \n",
       "\n",
       "**2. Water Flow at each Time Step (t = 1, 2, ..., 10):**\n",
       "\n",
       "*   **Inflow at A:**  f_AB(t) + f_AC(t) + f_AF(t)  = f(t) \n",
       "*   **Conservation of flow at B:** f_AB(t) + f_FB(t) = f_BC(t) + f_BD(t) + f_BE(t) + r_B(t)\n",
       "*   **Conservation of flow at C:** f_AC(t) + f_BC(t) = f_CE(t) + f_CF(t) + r_C(t)\n",
       "*   **Conservation of flow at D:** f_BD(t) + f_DE(t) = r_D(t) \n",
       "*   **Conservation of flow at E:** f_BE(t) + f_CE(t) + f_DE(t) = f_EG(t) + r_E(t)\n",
       "*   **Conservation of flow at F:** f_AF(t) + f_CF(t) + f_FB(t) = f_FG(t) + r_F(t)\n",
       "\n",
       "**3. Pipe Capacity:**\n",
       "\n",
       "*   **Flow capacity limits:**\n",
       "    *   0 ≤ f_AB(t) ≤ x_AB * 3 \n",
       "    *   0 ≤ f_AC(t) ≤ x_AC * 6\n",
       "    *   0 ≤ f_AF(t) ≤ x_AF * 1\n",
       "    *   0 ≤ f_BC(t) ≤ x_BC * 3\n",
       "    *   0 ≤ f_BD(t) ≤ x_BD * 10\n",
       "    *   0 ≤ f_BE(t) ≤ x_BE * 4\n",
       "    *   0 ≤ f_CE(t) ≤ x_CE * 4\n",
       "    *   0 ≤ f_CF(t) ≤ x_CF * 4\n",
       "    *   0 ≤ f_DE(t) ≤ x_DE * 5\n",
       "    *   0 ≤ f_EG(t) ≤ x_EG * 5\n",
       "    *   0 ≤ f_FB(t) ≤ x_FB * 12\n",
       "    *   0 ≤ f_FG(t) ≤ x_FG * 7\n",
       "\n",
       "**4. Non-negativity of Release:**\n",
       "\n",
       "* r_B(t) ≥ 0\n",
       "* r_C(t) ≥ 0\n",
       "* r_D(t) ≥ 0\n",
       "* r_E(t) ≥ 0\n",
       "* r_F(t) ≥ 0 \n"
      ],
      "text/plain": [
       "<IPython.core.display.Markdown object>"
      ]
     },
     "execution_count": 259,
     "metadata": {},
     "output_type": "execute_result"
    }
   ],
   "source": [
    "Markdown(response3.text)"
   ]
  },
  {
   "cell_type": "markdown",
   "id": "75796979",
   "metadata": {},
   "source": [
    "## 3. Generate the pyomo code"
   ]
  },
  {
   "cell_type": "code",
   "execution_count": 260,
   "id": "aabea932",
   "metadata": {},
   "outputs": [],
   "source": [
    "#Second prompt gets the output of the previous step and generates the code\n",
    "prompt4 = \"Please write pyomo code for this mathematical problem. Use sample data where needed. Indicate where you use sample data. \\n\"\n",
    "prompt4 += response.text + response2.text + response3.text \n",
    "response4 = generative_multimodal_model.generate_content([prompt4])"
   ]
  },
  {
   "cell_type": "code",
   "execution_count": 261,
   "id": "0dbc9976",
   "metadata": {
    "scrolled": false
   },
   "outputs": [
    {
     "data": {
      "text/markdown": [
       "```python\n",
       "import pyomo.environ as pyo\n",
       "\n",
       "# Sample Data (You'll need to replace this with your actual data)\n",
       "f_data = {1: 10, 2: 12, 3: 15, 4: 10, 5: 8, 6: 12, 7: 14, 8: 11, 9: 9, 10: 13} \n",
       "\n",
       "# Model\n",
       "model = pyo.ConcreteModel()\n",
       "\n",
       "# Sets\n",
       "model.T = pyo.RangeSet(1, 10) # Time periods\n",
       "model.Pipes = pyo.Set(initialize=[\"AB\", \"AC\", \"AF\", \"BC\", \"BD\", \"BE\", \"CE\", \"CF\", \"DE\", \"EG\", \"FB\", \"FG\"])\n",
       "model.Nodes = pyo.Set(initialize=[\"B\", \"C\", \"D\", \"E\", \"F\"])\n",
       "\n",
       "# Variables\n",
       "model.x = pyo.Var(model.Pipes, domain=pyo.Binary) # Pipe activation\n",
       "model.f = pyo.Var(model.Pipes, model.T, domain=pyo.NonNegativeReals) # Flow in pipes\n",
       "model.r = pyo.Var(model.Nodes, model.T, domain=pyo.NonNegativeReals) # Release at nodes\n",
       "\n",
       "# Objective function\n",
       "model.obj = pyo.Objective(expr=sum(model.f[\"EG\", t] + model.f[\"FG\", t] for t in model.T), sense=pyo.maximize)\n",
       "\n",
       "# Constraints\n",
       "# 1. Pipe Activation Limit\n",
       "model.pipe_activation = pyo.Constraint(expr=sum(model.x[i] for i in model.Pipes) == 10)\n",
       "\n",
       "# 2. Water Flow at each Time Step\n",
       "def flow_balance(model, t):\n",
       "    if t==1:\n",
       "        return model.f[\"AB\", t] + model.f[\"AC\", t] + model.f[\"AF\", t] == f_data[t]\n",
       "    else: \n",
       "        return model.f[\"AB\", t] + model.f[\"AC\", t] + model.f[\"AF\", t] == f_data[t]\n",
       "model.flow_A = pyo.Constraint(model.T, rule=flow_balance)\n",
       "\n",
       "def flow_balance_B(model, t):\n",
       "    return model.f[\"AB\", t] + model.f[\"FB\", t] == model.f[\"BC\", t] + model.f[\"BD\", t] + model.f[\"BE\", t] + model.r[\"B\", t]\n",
       "model.flow_B = pyo.Constraint(model.T, rule=flow_balance_B)\n",
       "\n",
       "def flow_balance_C(model, t):\n",
       "    return model.f[\"AC\", t] + model.f[\"BC\", t] == model.f[\"CE\", t] + model.f[\"CF\", t] + model.r[\"C\", t]\n",
       "model.flow_C = pyo.Constraint(model.T, rule=flow_balance_C)\n",
       "\n",
       "def flow_balance_D(model, t):\n",
       "    return model.f[\"BD\", t] + model.f[\"DE\", t] == model.r[\"D\", t]\n",
       "model.flow_D = pyo.Constraint(model.T, rule=flow_balance_D)\n",
       "\n",
       "def flow_balance_E(model, t):\n",
       "    return model.f[\"BE\", t] + model.f[\"CE\", t] + model.f[\"DE\", t] == model.f[\"EG\", t] + model.r[\"E\", t]\n",
       "model.flow_E = pyo.Constraint(model.T, rule=flow_balance_E)\n",
       "\n",
       "def flow_balance_F(model, t):\n",
       "    return model.f[\"AF\", t] + model.f[\"CF\", t] + model.f[\"FB\", t] == model.f[\"FG\", t] + model.r[\"F\", t]\n",
       "model.flow_F = pyo.Constraint(model.T, rule=flow_balance_F)\n",
       "\n",
       "\n",
       "# 3. Pipe Capacity Limits\n",
       "model.capacity_AB = pyo.Constraint(model.T, rule=lambda model, t: 0 <= model.f[\"AB\", t] <= model.x[\"AB\"] * 3)\n",
       "model.capacity_AC = pyo.Constraint(model.T, rule=lambda model, t: 0 <= model.f[\"AC\", t] <= model.x[\"AC\"] * 6)\n",
       "model.capacity_AF = pyo.Constraint(model.T, rule=lambda model, t: 0 <= model.f[\"AF\", t] <= model.x[\"AF\"] * 1)\n",
       "model.capacity_BC = pyo.Constraint(model.T, rule=lambda model, t: 0 <= model.f[\"BC\", t] <= model.x[\"BC\"] * 3)\n",
       "model.capacity_BD = pyo.Constraint(model.T, rule=lambda model, t: 0 <= model.f[\"BD\", t] <= model.x[\"BD\"] * 10)\n",
       "model.capacity_BE = pyo.Constraint(model.T, rule=lambda model, t: 0 <= model.f[\"BE\", t] <= model.x[\"BE\"] * 4)\n",
       "model.capacity_CE = pyo.Constraint(model.T, rule=lambda model, t: 0 <= model.f[\"CE\", t] <= model.x[\"CE\"] * 4)\n",
       "model.capacity_CF = pyo.Constraint(model.T, rule=lambda model, t: 0 <= model.f[\"CF\", t] <= model.x[\"CF\"] * 4)\n",
       "model.capacity_DE = pyo.Constraint(model.T, rule=lambda model, t: 0 <= model.f[\"DE\", t] <= model.x[\"DE\"] * 5)\n",
       "model.capacity_EG = pyo.Constraint(model.T, rule=lambda model, t: 0 <= model.f[\"EG\", t] <= model.x[\"EG\"] * 5)\n",
       "model.capacity_FB = pyo.Constraint(model.T, rule=lambda model, t: 0 <= model.f[\"FB\", t] <= model.x[\"FB\"] * 12)\n",
       "model.capacity_FG = pyo.Constraint(model.T, rule=lambda model, t: 0 <= model.f[\"FG\", t] <= model.x[\"FG\"] * 7)\n",
       "\n",
       "# Solve the model\n",
       "solver = pyo.SolverFactory('cbc') # Choose a suitable solver\n",
       "results = solver.solve(model)\n",
       "\n",
       "# Print the results\n",
       "print(results)\n",
       "\n",
       "# Access the optimal values\n",
       "print(\"Optimal Objective Value:\", pyo.value(model.obj))\n",
       "\n",
       "# Print pipe activation decisions\n",
       "for i in model.Pipes:\n",
       "    if pyo.value(model.x[i]) > 0.5:\n",
       "        print(f\"Pipe {i} is activated\")\n",
       "\n",
       "# You can access the flow and release values similarly.\n",
       "```\n",
       "\n",
       "In this code:\n",
       "\n",
       "-  `f_data`: This dictionary represents the inflow at point A for each time step. **This is sample data.** You need to replace it with your actual inflow data. \n",
       "-  Comments explain each part of the code. \n",
       "-  You'll need to have Pyomo and a suitable solver (like CBC, GLPK, or others) installed to run this code. \n"
      ],
      "text/plain": [
       "<IPython.core.display.Markdown object>"
      ]
     },
     "execution_count": 261,
     "metadata": {},
     "output_type": "execute_result"
    }
   ],
   "source": [
    "## Showing the code in a formatted way\n",
    "Markdown(response4.text)"
   ]
  },
  {
   "cell_type": "markdown",
   "id": "b60756ae",
   "metadata": {},
   "source": [
    "## 4. Input problem data and try running the generated code"
   ]
  },
  {
   "cell_type": "code",
   "execution_count": 262,
   "id": "9cc2e439",
   "metadata": {},
   "outputs": [
    {
     "name": "stdout",
     "output_type": "stream",
     "text": [
      "ERROR: Rule failed when generating expression for Constraint capacity_AB with\n",
      "index 1: PyomoException: Cannot convert non-constant Pyomo expression (0  <=\n",
      "f[AB,1]) to bool. This error is usually caused by using a Var, unit, or\n",
      "mutable Param in a Boolean context such as an \"if\" statement, or when checking\n",
      "container membership or equality. For example,\n",
      "        >>> m.x = Var()\n",
      "        >>> if m.x >= 1:\n",
      "        ...     pass\n",
      "    and\n",
      "        >>> m.y = Var()\n",
      "        >>> if m.y in [m.x, m.y]:\n",
      "        ...     pass\n",
      "    would both cause this exception.\n",
      "ERROR: Constructing component 'capacity_AB' from data=None failed:\n",
      "        PyomoException: Cannot convert non-constant Pyomo expression (0  <=\n",
      "        f[AB,1]) to bool.\n",
      "    This error is usually caused by using a Var, unit, or mutable Param in a\n",
      "    Boolean context such as an \"if\" statement, or when checking container\n",
      "    membership or equality. For example,\n",
      "        >>> m.x = Var()\n",
      "        >>> if m.x >= 1:\n",
      "        ...     pass\n",
      "    and\n",
      "        >>> m.y = Var()\n",
      "        >>> if m.y in [m.x, m.y]:\n",
      "        ...     pass\n",
      "    would both cause this exception.\n"
     ]
    },
    {
     "ename": "PyomoException",
     "evalue": "Cannot convert non-constant Pyomo expression (0  <=  f[AB,1]) to bool.\nThis error is usually caused by using a Var, unit, or mutable Param in a\nBoolean context such as an \"if\" statement, or when checking container\nmembership or equality. For example,\n    >>> m.x = Var()\n    >>> if m.x >= 1:\n    ...     pass\nand\n    >>> m.y = Var()\n    >>> if m.y in [m.x, m.y]:\n    ...     pass\nwould both cause this exception.",
     "output_type": "error",
     "traceback": [
      "\u001b[1;31m---------------------------------------------------------------------------\u001b[0m",
      "\u001b[1;31mPyomoException\u001b[0m                            Traceback (most recent call last)",
      "Cell \u001b[1;32mIn[262], line 56\u001b[0m\n\u001b[0;32m     52\u001b[0m model\u001b[38;5;241m.\u001b[39mflow_F \u001b[38;5;241m=\u001b[39m pyo\u001b[38;5;241m.\u001b[39mConstraint(model\u001b[38;5;241m.\u001b[39mT, rule\u001b[38;5;241m=\u001b[39mflow_balance_F)\n\u001b[0;32m     55\u001b[0m \u001b[38;5;66;03m# 3. Pipe Capacity Limits\u001b[39;00m\n\u001b[1;32m---> 56\u001b[0m model\u001b[38;5;241m.\u001b[39mcapacity_AB \u001b[38;5;241m=\u001b[39m pyo\u001b[38;5;241m.\u001b[39mConstraint(model\u001b[38;5;241m.\u001b[39mT, rule\u001b[38;5;241m=\u001b[39m\u001b[38;5;28;01mlambda\u001b[39;00m model, t: \u001b[38;5;241m0\u001b[39m \u001b[38;5;241m<\u001b[39m\u001b[38;5;241m=\u001b[39m model\u001b[38;5;241m.\u001b[39mf[\u001b[38;5;124m\"\u001b[39m\u001b[38;5;124mAB\u001b[39m\u001b[38;5;124m\"\u001b[39m, t] \u001b[38;5;241m<\u001b[39m\u001b[38;5;241m=\u001b[39m model\u001b[38;5;241m.\u001b[39mx[\u001b[38;5;124m\"\u001b[39m\u001b[38;5;124mAB\u001b[39m\u001b[38;5;124m\"\u001b[39m] \u001b[38;5;241m*\u001b[39m \u001b[38;5;241m3\u001b[39m)\n\u001b[0;32m     57\u001b[0m model\u001b[38;5;241m.\u001b[39mcapacity_AC \u001b[38;5;241m=\u001b[39m pyo\u001b[38;5;241m.\u001b[39mConstraint(model\u001b[38;5;241m.\u001b[39mT, rule\u001b[38;5;241m=\u001b[39m\u001b[38;5;28;01mlambda\u001b[39;00m model, t: \u001b[38;5;241m0\u001b[39m \u001b[38;5;241m<\u001b[39m\u001b[38;5;241m=\u001b[39m model\u001b[38;5;241m.\u001b[39mf[\u001b[38;5;124m\"\u001b[39m\u001b[38;5;124mAC\u001b[39m\u001b[38;5;124m\"\u001b[39m, t] \u001b[38;5;241m<\u001b[39m\u001b[38;5;241m=\u001b[39m model\u001b[38;5;241m.\u001b[39mx[\u001b[38;5;124m\"\u001b[39m\u001b[38;5;124mAC\u001b[39m\u001b[38;5;124m\"\u001b[39m] \u001b[38;5;241m*\u001b[39m \u001b[38;5;241m6\u001b[39m)\n\u001b[0;32m     58\u001b[0m model\u001b[38;5;241m.\u001b[39mcapacity_AF \u001b[38;5;241m=\u001b[39m pyo\u001b[38;5;241m.\u001b[39mConstraint(model\u001b[38;5;241m.\u001b[39mT, rule\u001b[38;5;241m=\u001b[39m\u001b[38;5;28;01mlambda\u001b[39;00m model, t: \u001b[38;5;241m0\u001b[39m \u001b[38;5;241m<\u001b[39m\u001b[38;5;241m=\u001b[39m model\u001b[38;5;241m.\u001b[39mf[\u001b[38;5;124m\"\u001b[39m\u001b[38;5;124mAF\u001b[39m\u001b[38;5;124m\"\u001b[39m, t] \u001b[38;5;241m<\u001b[39m\u001b[38;5;241m=\u001b[39m model\u001b[38;5;241m.\u001b[39mx[\u001b[38;5;124m\"\u001b[39m\u001b[38;5;124mAF\u001b[39m\u001b[38;5;124m\"\u001b[39m] \u001b[38;5;241m*\u001b[39m \u001b[38;5;241m1\u001b[39m)\n",
      "File \u001b[1;32m~\\anaconda3\\Lib\\site-packages\\pyomo\\core\\base\\block.py:568\u001b[0m, in \u001b[0;36m_BlockData.__setattr__\u001b[1;34m(self, name, val)\u001b[0m\n\u001b[0;32m    563\u001b[0m \u001b[38;5;28;01mif\u001b[39;00m name \u001b[38;5;129;01mnot\u001b[39;00m \u001b[38;5;129;01min\u001b[39;00m \u001b[38;5;28mself\u001b[39m\u001b[38;5;241m.\u001b[39m\u001b[38;5;18m__dict__\u001b[39m:\n\u001b[0;32m    564\u001b[0m     \u001b[38;5;28;01mif\u001b[39;00m \u001b[38;5;28misinstance\u001b[39m(val, Component):\n\u001b[0;32m    565\u001b[0m         \u001b[38;5;66;03m#\u001b[39;00m\n\u001b[0;32m    566\u001b[0m         \u001b[38;5;66;03m# Pyomo components are added with the add_component method.\u001b[39;00m\n\u001b[0;32m    567\u001b[0m         \u001b[38;5;66;03m#\u001b[39;00m\n\u001b[1;32m--> 568\u001b[0m         \u001b[38;5;28mself\u001b[39m\u001b[38;5;241m.\u001b[39madd_component(name, val)\n\u001b[0;32m    569\u001b[0m     \u001b[38;5;28;01melse\u001b[39;00m:\n\u001b[0;32m    570\u001b[0m         \u001b[38;5;66;03m#\u001b[39;00m\n\u001b[0;32m    571\u001b[0m         \u001b[38;5;66;03m# Other Python objects are added with the standard __setattr__\u001b[39;00m\n\u001b[0;32m    572\u001b[0m         \u001b[38;5;66;03m# method.\u001b[39;00m\n\u001b[0;32m    573\u001b[0m         \u001b[38;5;66;03m#\u001b[39;00m\n\u001b[0;32m    574\u001b[0m         \u001b[38;5;28msuper\u001b[39m(_BlockData, \u001b[38;5;28mself\u001b[39m)\u001b[38;5;241m.\u001b[39m\u001b[38;5;21m__setattr__\u001b[39m(name, val)\n",
      "File \u001b[1;32m~\\anaconda3\\Lib\\site-packages\\pyomo\\core\\base\\block.py:1126\u001b[0m, in \u001b[0;36m_BlockData.add_component\u001b[1;34m(self, name, val)\u001b[0m\n\u001b[0;32m   1118\u001b[0m     logger\u001b[38;5;241m.\u001b[39mdebug(\n\u001b[0;32m   1119\u001b[0m         \u001b[38;5;124m\"\u001b[39m\u001b[38;5;124mConstructing \u001b[39m\u001b[38;5;132;01m%s\u001b[39;00m\u001b[38;5;124m \u001b[39m\u001b[38;5;124m'\u001b[39m\u001b[38;5;132;01m%s\u001b[39;00m\u001b[38;5;124m'\u001b[39m\u001b[38;5;124m on \u001b[39m\u001b[38;5;132;01m%s\u001b[39;00m\u001b[38;5;124m from data=\u001b[39m\u001b[38;5;132;01m%s\u001b[39;00m\u001b[38;5;124m\"\u001b[39m,\n\u001b[0;32m   1120\u001b[0m         val\u001b[38;5;241m.\u001b[39m\u001b[38;5;18m__class__\u001b[39m\u001b[38;5;241m.\u001b[39m\u001b[38;5;18m__name__\u001b[39m,\n\u001b[1;32m   (...)\u001b[0m\n\u001b[0;32m   1123\u001b[0m         \u001b[38;5;28mstr\u001b[39m(data),\n\u001b[0;32m   1124\u001b[0m     )\n\u001b[0;32m   1125\u001b[0m \u001b[38;5;28;01mtry\u001b[39;00m:\n\u001b[1;32m-> 1126\u001b[0m     val\u001b[38;5;241m.\u001b[39mconstruct(data)\n\u001b[0;32m   1127\u001b[0m \u001b[38;5;28;01mexcept\u001b[39;00m:\n\u001b[0;32m   1128\u001b[0m     err \u001b[38;5;241m=\u001b[39m sys\u001b[38;5;241m.\u001b[39mexc_info()[\u001b[38;5;241m1\u001b[39m]\n",
      "File \u001b[1;32m~\\anaconda3\\Lib\\site-packages\\pyomo\\core\\base\\constraint.py:800\u001b[0m, in \u001b[0;36mConstraint.construct\u001b[1;34m(self, data)\u001b[0m\n\u001b[0;32m    797\u001b[0m     \u001b[38;5;28;01melse\u001b[39;00m:\n\u001b[0;32m    798\u001b[0m         \u001b[38;5;66;03m# Bypass the index validation and create the member directly\u001b[39;00m\n\u001b[0;32m    799\u001b[0m         \u001b[38;5;28;01mfor\u001b[39;00m index \u001b[38;5;129;01min\u001b[39;00m \u001b[38;5;28mself\u001b[39m\u001b[38;5;241m.\u001b[39mindex_set():\n\u001b[1;32m--> 800\u001b[0m             \u001b[38;5;28mself\u001b[39m\u001b[38;5;241m.\u001b[39m_setitem_when_not_present(index, rule(block, index))\n\u001b[0;32m    801\u001b[0m \u001b[38;5;28;01mexcept\u001b[39;00m \u001b[38;5;167;01mException\u001b[39;00m:\n\u001b[0;32m    802\u001b[0m     err \u001b[38;5;241m=\u001b[39m sys\u001b[38;5;241m.\u001b[39mexc_info()[\u001b[38;5;241m1\u001b[39m]\n",
      "File \u001b[1;32m~\\anaconda3\\Lib\\site-packages\\pyomo\\core\\base\\initializer.py:316\u001b[0m, in \u001b[0;36mIndexedCallInitializer.__call__\u001b[1;34m(self, parent, idx)\u001b[0m\n\u001b[0;32m    314\u001b[0m     \u001b[38;5;28;01mreturn\u001b[39;00m \u001b[38;5;28mself\u001b[39m\u001b[38;5;241m.\u001b[39m_fcn(parent, \u001b[38;5;241m*\u001b[39midx)\n\u001b[0;32m    315\u001b[0m \u001b[38;5;28;01melse\u001b[39;00m:\n\u001b[1;32m--> 316\u001b[0m     \u001b[38;5;28;01mreturn\u001b[39;00m \u001b[38;5;28mself\u001b[39m\u001b[38;5;241m.\u001b[39m_fcn(parent, idx)\n",
      "Cell \u001b[1;32mIn[262], line 56\u001b[0m, in \u001b[0;36m<lambda>\u001b[1;34m(model, t)\u001b[0m\n\u001b[0;32m     52\u001b[0m model\u001b[38;5;241m.\u001b[39mflow_F \u001b[38;5;241m=\u001b[39m pyo\u001b[38;5;241m.\u001b[39mConstraint(model\u001b[38;5;241m.\u001b[39mT, rule\u001b[38;5;241m=\u001b[39mflow_balance_F)\n\u001b[0;32m     55\u001b[0m \u001b[38;5;66;03m# 3. Pipe Capacity Limits\u001b[39;00m\n\u001b[1;32m---> 56\u001b[0m model\u001b[38;5;241m.\u001b[39mcapacity_AB \u001b[38;5;241m=\u001b[39m pyo\u001b[38;5;241m.\u001b[39mConstraint(model\u001b[38;5;241m.\u001b[39mT, rule\u001b[38;5;241m=\u001b[39m\u001b[38;5;28;01mlambda\u001b[39;00m model, t: \u001b[38;5;241m0\u001b[39m \u001b[38;5;241m<\u001b[39m\u001b[38;5;241m=\u001b[39m model\u001b[38;5;241m.\u001b[39mf[\u001b[38;5;124m\"\u001b[39m\u001b[38;5;124mAB\u001b[39m\u001b[38;5;124m\"\u001b[39m, t] \u001b[38;5;241m<\u001b[39m\u001b[38;5;241m=\u001b[39m model\u001b[38;5;241m.\u001b[39mx[\u001b[38;5;124m\"\u001b[39m\u001b[38;5;124mAB\u001b[39m\u001b[38;5;124m\"\u001b[39m] \u001b[38;5;241m*\u001b[39m \u001b[38;5;241m3\u001b[39m)\n\u001b[0;32m     57\u001b[0m model\u001b[38;5;241m.\u001b[39mcapacity_AC \u001b[38;5;241m=\u001b[39m pyo\u001b[38;5;241m.\u001b[39mConstraint(model\u001b[38;5;241m.\u001b[39mT, rule\u001b[38;5;241m=\u001b[39m\u001b[38;5;28;01mlambda\u001b[39;00m model, t: \u001b[38;5;241m0\u001b[39m \u001b[38;5;241m<\u001b[39m\u001b[38;5;241m=\u001b[39m model\u001b[38;5;241m.\u001b[39mf[\u001b[38;5;124m\"\u001b[39m\u001b[38;5;124mAC\u001b[39m\u001b[38;5;124m\"\u001b[39m, t] \u001b[38;5;241m<\u001b[39m\u001b[38;5;241m=\u001b[39m model\u001b[38;5;241m.\u001b[39mx[\u001b[38;5;124m\"\u001b[39m\u001b[38;5;124mAC\u001b[39m\u001b[38;5;124m\"\u001b[39m] \u001b[38;5;241m*\u001b[39m \u001b[38;5;241m6\u001b[39m)\n\u001b[0;32m     58\u001b[0m model\u001b[38;5;241m.\u001b[39mcapacity_AF \u001b[38;5;241m=\u001b[39m pyo\u001b[38;5;241m.\u001b[39mConstraint(model\u001b[38;5;241m.\u001b[39mT, rule\u001b[38;5;241m=\u001b[39m\u001b[38;5;28;01mlambda\u001b[39;00m model, t: \u001b[38;5;241m0\u001b[39m \u001b[38;5;241m<\u001b[39m\u001b[38;5;241m=\u001b[39m model\u001b[38;5;241m.\u001b[39mf[\u001b[38;5;124m\"\u001b[39m\u001b[38;5;124mAF\u001b[39m\u001b[38;5;124m\"\u001b[39m, t] \u001b[38;5;241m<\u001b[39m\u001b[38;5;241m=\u001b[39m model\u001b[38;5;241m.\u001b[39mx[\u001b[38;5;124m\"\u001b[39m\u001b[38;5;124mAF\u001b[39m\u001b[38;5;124m\"\u001b[39m] \u001b[38;5;241m*\u001b[39m \u001b[38;5;241m1\u001b[39m)\n",
      "File \u001b[1;32m~\\anaconda3\\Lib\\site-packages\\pyomo\\core\\expr\\relational_expr.py:47\u001b[0m, in \u001b[0;36mRelationalExpression.__bool__\u001b[1;34m(self)\u001b[0m\n\u001b[0;32m     45\u001b[0m         \u001b[38;5;28;01mif\u001b[39;00m \u001b[38;5;28mself\u001b[39m\u001b[38;5;241m.\u001b[39mis_constant():\n\u001b[0;32m     46\u001b[0m             \u001b[38;5;28;01mreturn\u001b[39;00m \u001b[38;5;28mbool\u001b[39m(\u001b[38;5;28mself\u001b[39m())\n\u001b[1;32m---> 47\u001b[0m         \u001b[38;5;28;01mraise\u001b[39;00m PyomoException(\n\u001b[0;32m     48\u001b[0m \u001b[38;5;250m            \u001b[39m\u001b[38;5;124;03m\"\"\"\u001b[39;00m\n\u001b[0;32m     49\u001b[0m \u001b[38;5;124;03mCannot convert non-constant Pyomo expression (%s) to bool.\u001b[39;00m\n\u001b[0;32m     50\u001b[0m \u001b[38;5;124;03mThis error is usually caused by using a Var, unit, or mutable Param in a\u001b[39;00m\n\u001b[0;32m     51\u001b[0m \u001b[38;5;124;03mBoolean context such as an \"if\" statement, or when checking container\u001b[39;00m\n\u001b[0;32m     52\u001b[0m \u001b[38;5;124;03mmembership or equality. For example,\u001b[39;00m\n\u001b[0;32m     53\u001b[0m \u001b[38;5;124;03m    >>> m.x = Var()\u001b[39;00m\n\u001b[0;32m     54\u001b[0m \u001b[38;5;124;03m    >>> if m.x >= 1:\u001b[39;00m\n\u001b[0;32m     55\u001b[0m \u001b[38;5;124;03m    ...     pass\u001b[39;00m\n\u001b[0;32m     56\u001b[0m \u001b[38;5;124;03mand\u001b[39;00m\n\u001b[0;32m     57\u001b[0m \u001b[38;5;124;03m    >>> m.y = Var()\u001b[39;00m\n\u001b[0;32m     58\u001b[0m \u001b[38;5;124;03m    >>> if m.y in [m.x, m.y]:\u001b[39;00m\n\u001b[0;32m     59\u001b[0m \u001b[38;5;124;03m    ...     pass\u001b[39;00m\n\u001b[0;32m     60\u001b[0m \u001b[38;5;124;03mwould both cause this exception.\"\"\"\u001b[39;00m\u001b[38;5;241m.\u001b[39mstrip()\n\u001b[0;32m     61\u001b[0m             \u001b[38;5;241m%\u001b[39m (\u001b[38;5;28mself\u001b[39m,)\n\u001b[0;32m     62\u001b[0m         )\n",
      "\u001b[1;31mPyomoException\u001b[0m: Cannot convert non-constant Pyomo expression (0  <=  f[AB,1]) to bool.\nThis error is usually caused by using a Var, unit, or mutable Param in a\nBoolean context such as an \"if\" statement, or when checking container\nmembership or equality. For example,\n    >>> m.x = Var()\n    >>> if m.x >= 1:\n    ...     pass\nand\n    >>> m.y = Var()\n    >>> if m.y in [m.x, m.y]:\n    ...     pass\nwould both cause this exception."
     ]
    }
   ],
   "source": [
    "import pyomo.environ as pyo\n",
    "\n",
    "# Sample Data (You'll need to replace this with your actual data)\n",
    "f_data = {1: 10, 2: 12, 3: 15, 4: 10, 5: 8, 6: 12, 7: 14, 8: 11, 9: 9, 10: 13} \n",
    "\n",
    "# Model\n",
    "model = pyo.ConcreteModel()\n",
    "\n",
    "# Sets\n",
    "model.T = pyo.RangeSet(1, 10) # Time periods\n",
    "model.Pipes = pyo.Set(initialize=[\"AB\", \"AC\", \"AF\", \"BC\", \"BD\", \"BE\", \"CE\", \"CF\", \"DE\", \"EG\", \"FB\", \"FG\"])\n",
    "model.Nodes = pyo.Set(initialize=[\"B\", \"C\", \"D\", \"E\", \"F\"])\n",
    "\n",
    "# Variables\n",
    "model.x = pyo.Var(model.Pipes, domain=pyo.Binary) # Pipe activation\n",
    "model.f = pyo.Var(model.Pipes, model.T, domain=pyo.NonNegativeReals) # Flow in pipes\n",
    "model.r = pyo.Var(model.Nodes, model.T, domain=pyo.NonNegativeReals) # Release at nodes\n",
    "\n",
    "# Objective function\n",
    "model.obj = pyo.Objective(expr=sum(model.f[\"EG\", t] + model.f[\"FG\", t] for t in model.T), sense=pyo.maximize)\n",
    "\n",
    "# Constraints\n",
    "# 1. Pipe Activation Limit\n",
    "model.pipe_activation = pyo.Constraint(expr=sum(model.x[i] for i in model.Pipes) == 10)\n",
    "\n",
    "# 2. Water Flow at each Time Step\n",
    "def flow_balance(model, t):\n",
    "    if t==1:\n",
    "        return model.f[\"AB\", t] + model.f[\"AC\", t] + model.f[\"AF\", t] == f_data[t]\n",
    "    else: \n",
    "        return model.f[\"AB\", t] + model.f[\"AC\", t] + model.f[\"AF\", t] == f_data[t]\n",
    "model.flow_A = pyo.Constraint(model.T, rule=flow_balance)\n",
    "\n",
    "def flow_balance_B(model, t):\n",
    "    return model.f[\"AB\", t] + model.f[\"FB\", t] == model.f[\"BC\", t] + model.f[\"BD\", t] + model.f[\"BE\", t] + model.r[\"B\", t]\n",
    "model.flow_B = pyo.Constraint(model.T, rule=flow_balance_B)\n",
    "\n",
    "def flow_balance_C(model, t):\n",
    "    return model.f[\"AC\", t] + model.f[\"BC\", t] == model.f[\"CE\", t] + model.f[\"CF\", t] + model.r[\"C\", t]\n",
    "model.flow_C = pyo.Constraint(model.T, rule=flow_balance_C)\n",
    "\n",
    "def flow_balance_D(model, t):\n",
    "    return model.f[\"BD\", t] + model.f[\"DE\", t] == model.r[\"D\", t]\n",
    "model.flow_D = pyo.Constraint(model.T, rule=flow_balance_D)\n",
    "\n",
    "def flow_balance_E(model, t):\n",
    "    return model.f[\"BE\", t] + model.f[\"CE\", t] + model.f[\"DE\", t] == model.f[\"EG\", t] + model.r[\"E\", t]\n",
    "model.flow_E = pyo.Constraint(model.T, rule=flow_balance_E)\n",
    "\n",
    "def flow_balance_F(model, t):\n",
    "    return model.f[\"AF\", t] + model.f[\"CF\", t] + model.f[\"FB\", t] == model.f[\"FG\", t] + model.r[\"F\", t]\n",
    "model.flow_F = pyo.Constraint(model.T, rule=flow_balance_F)\n",
    "\n",
    "\n",
    "# 3. Pipe Capacity Limits\n",
    "model.capacity_AB = pyo.Constraint(model.T, rule=lambda model, t: 0 <= model.f[\"AB\", t] <= model.x[\"AB\"] * 3)\n",
    "model.capacity_AC = pyo.Constraint(model.T, rule=lambda model, t: 0 <= model.f[\"AC\", t] <= model.x[\"AC\"] * 6)\n",
    "model.capacity_AF = pyo.Constraint(model.T, rule=lambda model, t: 0 <= model.f[\"AF\", t] <= model.x[\"AF\"] * 1)\n",
    "model.capacity_BC = pyo.Constraint(model.T, rule=lambda model, t: 0 <= model.f[\"BC\", t] <= model.x[\"BC\"] * 3)\n",
    "model.capacity_BD = pyo.Constraint(model.T, rule=lambda model, t: 0 <= model.f[\"BD\", t] <= model.x[\"BD\"] * 10)\n",
    "model.capacity_BE = pyo.Constraint(model.T, rule=lambda model, t: 0 <= model.f[\"BE\", t] <= model.x[\"BE\"] * 4)\n",
    "model.capacity_CE = pyo.Constraint(model.T, rule=lambda model, t: 0 <= model.f[\"CE\", t] <= model.x[\"CE\"] * 4)\n",
    "model.capacity_CF = pyo.Constraint(model.T, rule=lambda model, t: 0 <= model.f[\"CF\", t] <= model.x[\"CF\"] * 4)\n",
    "model.capacity_DE = pyo.Constraint(model.T, rule=lambda model, t: 0 <= model.f[\"DE\", t] <= model.x[\"DE\"] * 5)\n",
    "model.capacity_EG = pyo.Constraint(model.T, rule=lambda model, t: 0 <= model.f[\"EG\", t] <= model.x[\"EG\"] * 5)\n",
    "model.capacity_FB = pyo.Constraint(model.T, rule=lambda model, t: 0 <= model.f[\"FB\", t] <= model.x[\"FB\"] * 12)\n",
    "model.capacity_FG = pyo.Constraint(model.T, rule=lambda model, t: 0 <= model.f[\"FG\", t] <= model.x[\"FG\"] * 7)\n",
    "\n",
    "# Solve the model\n",
    "solver = pyo.SolverFactory('cbc') # Choose a suitable solver\n",
    "results = solver.solve(model)\n",
    "\n",
    "# Print the results\n",
    "print(results)\n",
    "\n",
    "# Access the optimal values\n",
    "print(\"Optimal Objective Value:\", pyo.value(model.obj))\n",
    "\n",
    "# Print pipe activation decisions\n",
    "for i in model.Pipes:\n",
    "    if pyo.value(model.x[i]) > 0.5:\n",
    "        print(f\"Pipe {i} is activated\")"
   ]
  },
  {
   "cell_type": "code",
   "execution_count": 150,
   "id": "8d842a87",
   "metadata": {
    "scrolled": false
   },
   "outputs": [],
   "source": []
  },
  {
   "cell_type": "markdown",
   "id": "1be0926e",
   "metadata": {},
   "source": [
    "## 5. Correct the code to verify model viability (optional)"
   ]
  },
  {
   "cell_type": "code",
   "execution_count": 272,
   "id": "6a1fe62b",
   "metadata": {},
   "outputs": [
    {
     "name": "stdout",
     "output_type": "stream",
     "text": [
      "\n",
      "Problem: \n",
      "- Name: unknown\n",
      "  Lower bound: -inf\n",
      "  Upper bound: inf\n",
      "  Number of objectives: 1\n",
      "  Number of constraints: 301\n",
      "  Number of variables: 182\n",
      "  Number of nonzeros: 642\n",
      "  Sense: maximize\n",
      "Solver: \n",
      "- Status: ok\n",
      "  Termination condition: infeasible\n",
      "  Statistics: \n",
      "    Branch and bound: \n",
      "      Number of bounded subproblems: 0\n",
      "      Number of created subproblems: 0\n",
      "  Error rc: 0\n",
      "  Time: 0.03961610794067383\n",
      "\n",
      "ERROR: evaluating object as numeric value: f[EG,1]\n",
      "        (object: <class 'pyomo.core.base.var._GeneralVarData'>)\n",
      "    No value for uninitialized NumericValue object f[EG,1]\n",
      "ERROR: evaluating object as numeric value: obj\n",
      "        (object: <class 'pyomo.core.base.objective.ScalarObjective'>)\n",
      "    No value for uninitialized NumericValue object f[EG,1]\n"
     ]
    },
    {
     "ename": "ValueError",
     "evalue": "No value for uninitialized NumericValue object f[EG,1]",
     "output_type": "error",
     "traceback": [
      "\u001b[1;31m---------------------------------------------------------------------------\u001b[0m",
      "\u001b[1;31mValueError\u001b[0m                                Traceback (most recent call last)",
      "Cell \u001b[1;32mIn[272], line 113\u001b[0m\n\u001b[0;32m    110\u001b[0m \u001b[38;5;28mprint\u001b[39m(results)\n\u001b[0;32m    112\u001b[0m \u001b[38;5;66;03m# Access the optimal values\u001b[39;00m\n\u001b[1;32m--> 113\u001b[0m \u001b[38;5;28mprint\u001b[39m(\u001b[38;5;124m\"\u001b[39m\u001b[38;5;124mOptimal Objective Value:\u001b[39m\u001b[38;5;124m\"\u001b[39m, pyo\u001b[38;5;241m.\u001b[39mvalue(model\u001b[38;5;241m.\u001b[39mobj))\n\u001b[0;32m    115\u001b[0m \u001b[38;5;66;03m# Print pipe activation decisions\u001b[39;00m\n\u001b[0;32m    116\u001b[0m \u001b[38;5;28;01mfor\u001b[39;00m i \u001b[38;5;129;01min\u001b[39;00m model\u001b[38;5;241m.\u001b[39mPipes:\n",
      "File \u001b[1;32m~\\anaconda3\\Lib\\site-packages\\pyomo\\common\\numeric_types.py:316\u001b[0m, in \u001b[0;36mvalue\u001b[1;34m(obj, exception)\u001b[0m\n\u001b[0;32m    311\u001b[0m \u001b[38;5;28;01mif\u001b[39;00m exception:\n\u001b[0;32m    312\u001b[0m     \u001b[38;5;66;03m#\u001b[39;00m\n\u001b[0;32m    313\u001b[0m     \u001b[38;5;66;03m# Here, we try to catch the exception\u001b[39;00m\n\u001b[0;32m    314\u001b[0m     \u001b[38;5;66;03m#\u001b[39;00m\n\u001b[0;32m    315\u001b[0m     \u001b[38;5;28;01mtry\u001b[39;00m:\n\u001b[1;32m--> 316\u001b[0m         tmp \u001b[38;5;241m=\u001b[39m obj(exception\u001b[38;5;241m=\u001b[39m\u001b[38;5;28;01mTrue\u001b[39;00m)\n\u001b[0;32m    317\u001b[0m         \u001b[38;5;28;01mif\u001b[39;00m tmp \u001b[38;5;129;01mis\u001b[39;00m \u001b[38;5;28;01mNone\u001b[39;00m:\n\u001b[0;32m    318\u001b[0m             \u001b[38;5;28;01mraise\u001b[39;00m \u001b[38;5;167;01mValueError\u001b[39;00m(\n\u001b[0;32m    319\u001b[0m                 \u001b[38;5;124m\"\u001b[39m\u001b[38;5;124mNo value for uninitialized NumericValue object \u001b[39m\u001b[38;5;132;01m%s\u001b[39;00m\u001b[38;5;124m\"\u001b[39m \u001b[38;5;241m%\u001b[39m (obj\u001b[38;5;241m.\u001b[39mname,)\n\u001b[0;32m    320\u001b[0m             )\n",
      "File \u001b[1;32m~\\anaconda3\\Lib\\site-packages\\pyomo\\core\\base\\objective.py:417\u001b[0m, in \u001b[0;36mScalarObjective.__call__\u001b[1;34m(self, exception)\u001b[0m\n\u001b[0;32m    410\u001b[0m     \u001b[38;5;28;01mif\u001b[39;00m \u001b[38;5;28mlen\u001b[39m(\u001b[38;5;28mself\u001b[39m\u001b[38;5;241m.\u001b[39m_data) \u001b[38;5;241m==\u001b[39m \u001b[38;5;241m0\u001b[39m:\n\u001b[0;32m    411\u001b[0m         \u001b[38;5;28;01mraise\u001b[39;00m \u001b[38;5;167;01mValueError\u001b[39;00m(\n\u001b[0;32m    412\u001b[0m             \u001b[38;5;124m\"\u001b[39m\u001b[38;5;124mEvaluating the expression of ScalarObjective \u001b[39m\u001b[38;5;124m\"\u001b[39m\n\u001b[0;32m    413\u001b[0m             \u001b[38;5;124m\"\u001b[39m\u001b[38;5;124m'\u001b[39m\u001b[38;5;132;01m%s\u001b[39;00m\u001b[38;5;124m'\u001b[39m\u001b[38;5;124m before the Objective has been assigned \u001b[39m\u001b[38;5;124m\"\u001b[39m\n\u001b[0;32m    414\u001b[0m             \u001b[38;5;124m\"\u001b[39m\u001b[38;5;124ma sense or expression (there is currently \u001b[39m\u001b[38;5;124m\"\u001b[39m\n\u001b[0;32m    415\u001b[0m             \u001b[38;5;124m\"\u001b[39m\u001b[38;5;124mno value to return).\u001b[39m\u001b[38;5;124m\"\u001b[39m \u001b[38;5;241m%\u001b[39m (\u001b[38;5;28mself\u001b[39m\u001b[38;5;241m.\u001b[39mname)\n\u001b[0;32m    416\u001b[0m         )\n\u001b[1;32m--> 417\u001b[0m     \u001b[38;5;28;01mreturn\u001b[39;00m \u001b[38;5;28msuper\u001b[39m()\u001b[38;5;241m.\u001b[39m\u001b[38;5;21m__call__\u001b[39m(exception)\n\u001b[0;32m    418\u001b[0m \u001b[38;5;28;01mraise\u001b[39;00m \u001b[38;5;167;01mValueError\u001b[39;00m(\n\u001b[0;32m    419\u001b[0m     \u001b[38;5;124m\"\u001b[39m\u001b[38;5;124mEvaluating the expression of objective \u001b[39m\u001b[38;5;124m'\u001b[39m\u001b[38;5;132;01m%s\u001b[39;00m\u001b[38;5;124m'\u001b[39m\u001b[38;5;124m \u001b[39m\u001b[38;5;124m\"\u001b[39m\n\u001b[0;32m    420\u001b[0m     \u001b[38;5;124m\"\u001b[39m\u001b[38;5;124mbefore the Objective has been constructed (there \u001b[39m\u001b[38;5;124m\"\u001b[39m\n\u001b[0;32m    421\u001b[0m     \u001b[38;5;124m\"\u001b[39m\u001b[38;5;124mis currently no value to return).\u001b[39m\u001b[38;5;124m\"\u001b[39m \u001b[38;5;241m%\u001b[39m (\u001b[38;5;28mself\u001b[39m\u001b[38;5;241m.\u001b[39mname)\n\u001b[0;32m    422\u001b[0m )\n",
      "File \u001b[1;32m~\\anaconda3\\Lib\\site-packages\\pyomo\\core\\base\\expression.py:63\u001b[0m, in \u001b[0;36m_ExpressionData.__call__\u001b[1;34m(self, exception)\u001b[0m\n\u001b[0;32m     60\u001b[0m \u001b[38;5;28;01mif\u001b[39;00m arg\u001b[38;5;241m.\u001b[39m\u001b[38;5;18m__class__\u001b[39m \u001b[38;5;129;01min\u001b[39;00m native_types:\n\u001b[0;32m     61\u001b[0m     \u001b[38;5;66;03m# Note: native_types includes NoneType\u001b[39;00m\n\u001b[0;32m     62\u001b[0m     \u001b[38;5;28;01mreturn\u001b[39;00m arg\n\u001b[1;32m---> 63\u001b[0m \u001b[38;5;28;01mreturn\u001b[39;00m arg(exception\u001b[38;5;241m=\u001b[39mexception)\n",
      "File \u001b[1;32m~\\anaconda3\\Lib\\site-packages\\pyomo\\core\\expr\\base.py:118\u001b[0m, in \u001b[0;36mExpressionBase.__call__\u001b[1;34m(self, exception)\u001b[0m\n\u001b[0;32m    103\u001b[0m \u001b[38;5;28;01mdef\u001b[39;00m \u001b[38;5;21m__call__\u001b[39m(\u001b[38;5;28mself\u001b[39m, exception\u001b[38;5;241m=\u001b[39m\u001b[38;5;28;01mTrue\u001b[39;00m):\n\u001b[0;32m    104\u001b[0m \u001b[38;5;250m    \u001b[39m\u001b[38;5;124;03m\"\"\"Evaluate the value of the expression tree.\u001b[39;00m\n\u001b[0;32m    105\u001b[0m \n\u001b[0;32m    106\u001b[0m \u001b[38;5;124;03m    Parameters\u001b[39;00m\n\u001b[1;32m   (...)\u001b[0m\n\u001b[0;32m    116\u001b[0m \n\u001b[0;32m    117\u001b[0m \u001b[38;5;124;03m    \"\"\"\u001b[39;00m\n\u001b[1;32m--> 118\u001b[0m     \u001b[38;5;28;01mreturn\u001b[39;00m visitor\u001b[38;5;241m.\u001b[39mevaluate_expression(\u001b[38;5;28mself\u001b[39m, exception)\n",
      "File \u001b[1;32m~\\anaconda3\\Lib\\site-packages\\pyomo\\core\\expr\\visitor.py:1296\u001b[0m, in \u001b[0;36mevaluate_expression\u001b[1;34m(exp, exception, constant)\u001b[0m\n\u001b[0;32m   1293\u001b[0m         clear_active \u001b[38;5;241m=\u001b[39m \u001b[38;5;28;01mTrue\u001b[39;00m\n\u001b[0;32m   1295\u001b[0m \u001b[38;5;28;01mtry\u001b[39;00m:\n\u001b[1;32m-> 1296\u001b[0m     ans \u001b[38;5;241m=\u001b[39m visitor\u001b[38;5;241m.\u001b[39mdfs_postorder_stack(exp)\n\u001b[0;32m   1297\u001b[0m \u001b[38;5;28;01mexcept\u001b[39;00m (\n\u001b[0;32m   1298\u001b[0m     TemplateExpressionError,\n\u001b[0;32m   1299\u001b[0m     \u001b[38;5;167;01mValueError\u001b[39;00m,\n\u001b[1;32m   (...)\u001b[0m\n\u001b[0;32m   1312\u001b[0m     \u001b[38;5;66;03m#   TypeError: This can be raised in Python3 when evaluating a\u001b[39;00m\n\u001b[0;32m   1313\u001b[0m     \u001b[38;5;66;03m#      operation returns a complex number (e.g., sqrt(-1))\u001b[39;00m\n\u001b[0;32m   1314\u001b[0m     \u001b[38;5;28;01mif\u001b[39;00m exception:\n",
      "File \u001b[1;32m~\\anaconda3\\Lib\\site-packages\\pyomo\\core\\expr\\visitor.py:919\u001b[0m, in \u001b[0;36mExpressionValueVisitor.dfs_postorder_stack\u001b[1;34m(self, node)\u001b[0m\n\u001b[0;32m    917\u001b[0m _sub \u001b[38;5;241m=\u001b[39m _argList[_idx]\n\u001b[0;32m    918\u001b[0m _idx \u001b[38;5;241m+\u001b[39m\u001b[38;5;241m=\u001b[39m \u001b[38;5;241m1\u001b[39m\n\u001b[1;32m--> 919\u001b[0m flag, value \u001b[38;5;241m=\u001b[39m \u001b[38;5;28mself\u001b[39m\u001b[38;5;241m.\u001b[39mvisiting_potential_leaf(_sub)\n\u001b[0;32m    920\u001b[0m \u001b[38;5;28;01mif\u001b[39;00m flag:\n\u001b[0;32m    921\u001b[0m     _result\u001b[38;5;241m.\u001b[39mappend(value)\n",
      "File \u001b[1;32m~\\anaconda3\\Lib\\site-packages\\pyomo\\core\\expr\\visitor.py:1201\u001b[0m, in \u001b[0;36m_EvaluationVisitor.visiting_potential_leaf\u001b[1;34m(self, node)\u001b[0m\n\u001b[0;32m   1198\u001b[0m     \u001b[38;5;28;01mreturn\u001b[39;00m \u001b[38;5;28;01mFalse\u001b[39;00m, \u001b[38;5;28;01mNone\u001b[39;00m\n\u001b[0;32m   1200\u001b[0m \u001b[38;5;28;01mif\u001b[39;00m node\u001b[38;5;241m.\u001b[39mis_numeric_type():\n\u001b[1;32m-> 1201\u001b[0m     \u001b[38;5;28;01mreturn\u001b[39;00m \u001b[38;5;28;01mTrue\u001b[39;00m, value(node, exception\u001b[38;5;241m=\u001b[39m\u001b[38;5;28mself\u001b[39m\u001b[38;5;241m.\u001b[39mexception)\n\u001b[0;32m   1202\u001b[0m \u001b[38;5;28;01melif\u001b[39;00m node\u001b[38;5;241m.\u001b[39mis_logical_type():\n\u001b[0;32m   1203\u001b[0m     \u001b[38;5;28;01mreturn\u001b[39;00m \u001b[38;5;28;01mTrue\u001b[39;00m, value(node, exception\u001b[38;5;241m=\u001b[39m\u001b[38;5;28mself\u001b[39m\u001b[38;5;241m.\u001b[39mexception)\n",
      "File \u001b[1;32m~\\anaconda3\\Lib\\site-packages\\pyomo\\common\\numeric_types.py:318\u001b[0m, in \u001b[0;36mvalue\u001b[1;34m(obj, exception)\u001b[0m\n\u001b[0;32m    316\u001b[0m     tmp \u001b[38;5;241m=\u001b[39m obj(exception\u001b[38;5;241m=\u001b[39m\u001b[38;5;28;01mTrue\u001b[39;00m)\n\u001b[0;32m    317\u001b[0m     \u001b[38;5;28;01mif\u001b[39;00m tmp \u001b[38;5;129;01mis\u001b[39;00m \u001b[38;5;28;01mNone\u001b[39;00m:\n\u001b[1;32m--> 318\u001b[0m         \u001b[38;5;28;01mraise\u001b[39;00m \u001b[38;5;167;01mValueError\u001b[39;00m(\n\u001b[0;32m    319\u001b[0m             \u001b[38;5;124m\"\u001b[39m\u001b[38;5;124mNo value for uninitialized NumericValue object \u001b[39m\u001b[38;5;132;01m%s\u001b[39;00m\u001b[38;5;124m\"\u001b[39m \u001b[38;5;241m%\u001b[39m (obj\u001b[38;5;241m.\u001b[39mname,)\n\u001b[0;32m    320\u001b[0m         )\n\u001b[0;32m    321\u001b[0m     \u001b[38;5;28;01mreturn\u001b[39;00m tmp\n\u001b[0;32m    322\u001b[0m \u001b[38;5;28;01mexcept\u001b[39;00m TemplateExpressionError:\n\u001b[0;32m    323\u001b[0m     \u001b[38;5;66;03m# Template expressions work by catching this error type. So\u001b[39;00m\n\u001b[0;32m    324\u001b[0m     \u001b[38;5;66;03m# we should defer this error handling and not log an error\u001b[39;00m\n\u001b[0;32m    325\u001b[0m     \u001b[38;5;66;03m# message.\u001b[39;00m\n",
      "\u001b[1;31mValueError\u001b[0m: No value for uninitialized NumericValue object f[EG,1]"
     ]
    }
   ],
   "source": [
    "import pyomo.environ as pyo\n",
    "\n",
    "# Sample Data (You'll need to replace this with your actual data)\n",
    "f_data = {1: 10, 2: 12, 3: 15, 4: 10, 5: 8, 6: 12, 7: 14, 8: 11, 9: 9, 10: 13} \n",
    "def f(t):\n",
    "    if t >= 0:\n",
    "        return max(-4/30*t**3 + t**2 - 0.234*t + 3, 0)\n",
    "    else:\n",
    "        return 0\n",
    "\n",
    "def populate_f_data(keys):\n",
    "    f_data = {}\n",
    "    for key in keys:\n",
    "        f_data[key] = f(key)\n",
    "    return f_data\n",
    "\n",
    "f_data = populate_f_data(range(1,11))\n",
    "\n",
    "# Model\n",
    "model = pyo.ConcreteModel()\n",
    "\n",
    "# Sets\n",
    "model.T = pyo.RangeSet(1, 10) # Time periods\n",
    "model.Pipes = pyo.Set(initialize=[\"AB\", \"AC\", \"AF\", \"BC\", \"BD\", \"BE\", \"CE\", \"CF\", \"DE\", \"EG\", \"FB\", \"FG\"])\n",
    "model.Nodes = pyo.Set(initialize=[\"B\", \"C\", \"D\", \"E\", \"F\"])\n",
    "\n",
    "# Variables\n",
    "model.x = pyo.Var(model.Pipes, domain=pyo.Binary) # Pipe activation\n",
    "model.f = pyo.Var(model.Pipes, model.T, domain=pyo.NonNegativeReals) # Flow in pipes\n",
    "model.r = pyo.Var(model.Nodes, model.T, domain=pyo.NonNegativeReals) # Release at nodes\n",
    "\n",
    "# Objective function\n",
    "model.obj = pyo.Objective(expr=sum(model.f[\"EG\", t] + model.f[\"FG\", t] for t in model.T), sense=pyo.maximize)\n",
    "\n",
    "# Constraints\n",
    "# 1. Pipe Activation Limit\n",
    "model.pipe_activation = pyo.Constraint(expr=sum(model.x[i] for i in model.Pipes) == 10)\n",
    "\n",
    "# 2. Water Flow at each Time Step\n",
    "def flow_balance(model, t):\n",
    "    if t==1:\n",
    "        return model.f[\"AB\", t] + model.f[\"AC\", t] + model.f[\"AF\", t] == f_data[t]\n",
    "    else: \n",
    "        return model.f[\"AB\", t] + model.f[\"AC\", t] + model.f[\"AF\", t] == f_data[t]\n",
    "model.flow_A = pyo.Constraint(model.T, rule=flow_balance)\n",
    "\n",
    "def flow_balance_B(model, t):\n",
    "    return model.f[\"AB\", t] + model.f[\"FB\", t] == model.f[\"BC\", t] + model.f[\"BD\", t] + model.f[\"BE\", t] + model.r[\"B\", t]\n",
    "model.flow_B = pyo.Constraint(model.T, rule=flow_balance_B)\n",
    "\n",
    "def flow_balance_C(model, t):\n",
    "    return model.f[\"AC\", t] + model.f[\"BC\", t] == model.f[\"CE\", t] + model.f[\"CF\", t] + model.r[\"C\", t]\n",
    "model.flow_C = pyo.Constraint(model.T, rule=flow_balance_C)\n",
    "\n",
    "def flow_balance_D(model, t):\n",
    "    return model.f[\"BD\", t] + model.f[\"DE\", t] == model.r[\"D\", t]\n",
    "model.flow_D = pyo.Constraint(model.T, rule=flow_balance_D)\n",
    "\n",
    "def flow_balance_E(model, t):\n",
    "    return model.f[\"BE\", t] + model.f[\"CE\", t] + model.f[\"DE\", t] == model.f[\"EG\", t] + model.r[\"E\", t]\n",
    "model.flow_E = pyo.Constraint(model.T, rule=flow_balance_E)\n",
    "\n",
    "def flow_balance_F(model, t):\n",
    "    return model.f[\"AF\", t] + model.f[\"CF\", t] + model.f[\"FB\", t] == model.f[\"FG\", t] + model.r[\"F\", t]\n",
    "model.flow_F = pyo.Constraint(model.T, rule=flow_balance_F)\n",
    "\n",
    "\n",
    "# 3. Pipe Capacity Limits\n",
    "model.capacity_AB_lower = pyo.Constraint(model.T, rule=lambda model, t: 0 <= model.f[\"AB\", t])\n",
    "model.capacity_AB_upper = pyo.Constraint(model.T, rule=lambda model, t: model.f[\"AB\", t] <= model.x[\"AB\"] * 3)\n",
    "\n",
    "model.capacity_AC_lower = pyo.Constraint(model.T, rule=lambda model, t: 0 <= model.f[\"AC\", t])\n",
    "model.capacity_AC_upper = pyo.Constraint(model.T, rule=lambda model, t: model.f[\"AC\", t] <= model.x[\"AC\"] * 6)\n",
    "\n",
    "model.capacity_AF_lower = pyo.Constraint(model.T, rule=lambda model, t: 0 <= model.f[\"AF\", t])\n",
    "model.capacity_AF_upper = pyo.Constraint(model.T, rule=lambda model, t: model.f[\"AF\", t] <= model.x[\"AF\"] * 1)\n",
    "\n",
    "model.capacity_BC_lower = pyo.Constraint(model.T, rule=lambda model, t: 0 <= model.f[\"BC\", t])\n",
    "model.capacity_BC_upper = pyo.Constraint(model.T, rule=lambda model, t: model.f[\"BC\", t] <= model.x[\"BC\"] * 3)\n",
    "\n",
    "model.capacity_BD_lower = pyo.Constraint(model.T, rule=lambda model, t: 0 <= model.f[\"BD\", t])\n",
    "model.capacity_BD_upper = pyo.Constraint(model.T, rule=lambda model, t: model.f[\"BD\", t] <= model.x[\"BD\"] * 10)\n",
    "\n",
    "model.capacity_BE_lower = pyo.Constraint(model.T, rule=lambda model, t: 0 <= model.f[\"BE\", t])\n",
    "model.capacity_BE_upper = pyo.Constraint(model.T, rule=lambda model, t: model.f[\"BE\", t] <= model.x[\"BE\"] * 4)\n",
    "\n",
    "model.capacity_CE_lower = pyo.Constraint(model.T, rule=lambda model, t: 0 <= model.f[\"CE\", t])\n",
    "model.capacity_CE_upper = pyo.Constraint(model.T, rule=lambda model, t: model.f[\"CE\", t] <= model.x[\"CE\"] * 4)\n",
    "\n",
    "model.capacity_CF_lower = pyo.Constraint(model.T, rule=lambda model, t: 0 <= model.f[\"CF\", t])\n",
    "model.capacity_CF_upper = pyo.Constraint(model.T, rule=lambda model, t: model.f[\"CF\", t] <= model.x[\"CF\"] * 4)\n",
    "\n",
    "model.capacity_DE_lower = pyo.Constraint(model.T, rule=lambda model, t: 0 <= model.f[\"DE\", t])\n",
    "model.capacity_DE_upper = pyo.Constraint(model.T, rule=lambda model, t: model.f[\"DE\", t] <= model.x[\"DE\"] * 5)\n",
    "\n",
    "model.capacity_EG_lower = pyo.Constraint(model.T, rule=lambda model, t: 0 <= model.f[\"EG\", t])\n",
    "model.capacity_EG_upper = pyo.Constraint(model.T, rule=lambda model, t: model.f[\"EG\", t] <= model.x[\"EG\"] * 5)\n",
    "\n",
    "model.capacity_FB_lower = pyo.Constraint(model.T, rule=lambda model, t: 0 <= model.f[\"FB\", t])\n",
    "model.capacity_FB_upper = pyo.Constraint(model.T, rule=lambda model, t: model.f[\"FB\", t] <= model.x[\"FB\"] * 12)\n",
    "\n",
    "model.capacity_FG_lower = pyo.Constraint(model.T, rule=lambda model, t: 0 <= model.f[\"FG\", t])\n",
    "model.capacity_FG_upper = pyo.Constraint(model.T, rule=lambda model, t: model.f[\"FG\", t] <= model.x[\"FG\"] * 7)\n",
    "\n",
    "# Solve the model\n",
    "solver = pyo.SolverFactory('glpk') # Choose a suitable solver\n",
    "results = solver.solve(model)\n",
    "\n",
    "# Print the results\n",
    "print(results)\n",
    "\n",
    "# Access the optimal values\n",
    "print(\"Optimal Objective Value:\", pyo.value(model.obj))\n",
    "\n",
    "# Print pipe activation decisions\n",
    "for i in model.Pipes:\n",
    "    if pyo.value(model.x[i]) > 0.5:\n",
    "        print(f\"Pipe {i} is activated\")"
   ]
  },
  {
   "cell_type": "code",
   "execution_count": 269,
   "id": "a41c9fb2",
   "metadata": {},
   "outputs": [
    {
     "name": "stdout",
     "output_type": "stream",
     "text": [
      "GLPSOL--GLPK LP/MIP Solver 5.0\n",
      "Parameter(s) specified in the command line:\n",
      " --write C:\\Users\\Public\\Documents\\Wondershare\\CreatorTemp\\tmpwcmbjqk_.glpk.raw\n",
      " --wglp C:\\Users\\Public\\Documents\\Wondershare\\CreatorTemp\\tmpdc3u6ukq.glpk.glp\n",
      " --cpxlp C:\\Users\\Public\\Documents\\Wondershare\\CreatorTemp\\tmpy891402r.pyomo.lp\n",
      "Reading problem data from 'C:\\Users\\Public\\Documents\\Wondershare\\CreatorTemp\\tmpy891402r.pyomo.lp'...\n",
      "C:\\Users\\Public\\Documents\\Wondershare\\CreatorTemp\\tmpy891402r.pyomo.lp:1757: warning: lower bound of variable 'x23' redefined\n",
      "C:\\Users\\Public\\Documents\\Wondershare\\CreatorTemp\\tmpy891402r.pyomo.lp:1757: warning: upper bound of variable 'x23' redefined\n",
      "301 rows, 182 columns, 642 non-zeros\n",
      "12 integer variables, all of which are binary\n",
      "1769 lines were read\n",
      "Writing problem data to 'C:\\Users\\Public\\Documents\\Wondershare\\CreatorTemp\\tmpdc3u6ukq.glpk.glp'...\n",
      "1569 lines were written\n",
      "GLPK Integer Optimizer 5.0\n",
      "301 rows, 182 columns, 642 non-zeros\n",
      "12 integer variables, all of which are binary\n",
      "Preprocessing...\n",
      "PROBLEM HAS NO PRIMAL FEASIBLE SOLUTION\n",
      "Time used:   0.0 secs\n",
      "Memory used: 0.2 Mb (201108 bytes)\n",
      "Writing MIP solution to 'C:\\Users\\Public\\Documents\\Wondershare\\CreatorTemp\\tmpwcmbjqk_.glpk.raw'...\n",
      "492 lines were written\n",
      "# ==========================================================\n",
      "# = Solver Results                                         =\n",
      "# ==========================================================\n",
      "# ----------------------------------------------------------\n",
      "#   Problem Information\n",
      "# ----------------------------------------------------------\n",
      "Problem: \n",
      "- Name: unknown\n",
      "  Lower bound: -inf\n",
      "  Upper bound: inf\n",
      "  Number of objectives: 1\n",
      "  Number of constraints: 301\n",
      "  Number of variables: 182\n",
      "  Number of nonzeros: 642\n",
      "  Sense: maximize\n",
      "# ----------------------------------------------------------\n",
      "#   Solver Information\n",
      "# ----------------------------------------------------------\n",
      "Solver: \n",
      "- Status: ok\n",
      "  Termination condition: infeasible\n",
      "  Statistics: \n",
      "    Branch and bound: \n",
      "      Number of bounded subproblems: 0\n",
      "      Number of created subproblems: 0\n",
      "  Error rc: 0\n",
      "  Time: 0.04336667060852051\n"
     ]
    }
   ],
   "source": [
    "results = solver.solve(model, tee=True)\n",
    "\n",
    "# Display solver output\n",
    "results.write()"
   ]
  },
  {
   "cell_type": "code",
   "execution_count": 273,
   "id": "57006de7",
   "metadata": {},
   "outputs": [
    {
     "data": {
      "text/plain": [
       "{1: 3.6326666666666667,\n",
       " 2: 5.465333333333334,\n",
       " 3: 7.698,\n",
       " 4: 9.530666666666667,\n",
       " 5: 10.163333333333332,\n",
       " 6: 8.796,\n",
       " 7: 4.628666666666666,\n",
       " 8: 0,\n",
       " 9: 0,\n",
       " 10: 0}"
      ]
     },
     "execution_count": 273,
     "metadata": {},
     "output_type": "execute_result"
    }
   ],
   "source": [
    "f_data"
   ]
  },
  {
   "cell_type": "markdown",
   "id": "dbd7b8a8",
   "metadata": {},
   "source": [
    "## 6. Print the responses"
   ]
  },
  {
   "cell_type": "code",
   "execution_count": 274,
   "id": "c76b7575",
   "metadata": {},
   "outputs": [
    {
     "name": "stdout",
     "output_type": "stream",
     "text": [
      "## Variables:\n",
      "\n",
      "**1. Binary variables for pipe activation (1 if active, 0 if inactive):**\n",
      "\n",
      "*  x_AB\n",
      "*  x_AC\n",
      "*  x_AF\n",
      "*  x_BC\n",
      "*  x_BD\n",
      "*  x_BE\n",
      "*  x_CE\n",
      "*  x_CF\n",
      "*  x_DE\n",
      "*  x_EG\n",
      "*  x_FB\n",
      "*  x_FG\n",
      "\n",
      "**2. Continuous variables for water flow through each pipe at each time step (t = 1, 2,..., 10):**\n",
      "\n",
      "* f_AB(t)\n",
      "* f_AC(t)\n",
      "* f_AF(t)\n",
      "* f_BC(t)\n",
      "* f_BD(t)\n",
      "* f_BE(t)\n",
      "* f_CE(t)\n",
      "* f_CF(t)\n",
      "* f_DE(t)\n",
      "* f_EG(t)\n",
      "* f_FB(t)\n",
      "* f_FG(t)\n",
      "\n",
      "**3. Continuous variables for water released at each point at each time step (t=1, 2,..., 10):**\n",
      "\n",
      "* r_B(t)\n",
      "* r_C(t)\n",
      "* r_D(t)\n",
      "* r_E(t)\n",
      "* r_F(t) \n",
      "\n"
     ]
    }
   ],
   "source": [
    "print(response.text)"
   ]
  },
  {
   "cell_type": "code",
   "execution_count": 275,
   "id": "1bb49c6c",
   "metadata": {},
   "outputs": [
    {
     "name": "stdout",
     "output_type": "stream",
     "text": [
      "Maximize:  ∑_{t=1}^{10} (f_EG(t) + f_FG(t)) \n",
      "\n"
     ]
    }
   ],
   "source": [
    "print(response2.text)"
   ]
  },
  {
   "cell_type": "code",
   "execution_count": 276,
   "id": "b95499e6",
   "metadata": {},
   "outputs": [
    {
     "name": "stdout",
     "output_type": "stream",
     "text": [
      "## Constraints:\n",
      "\n",
      "**1. Pipe Activation:**\n",
      "\n",
      "*   **Limit on active pipes:**  ∑_{i∈{AB, AC, AF, BC, BD, BE, CE, CF, DE, EG, FB, FG}} x_i = 10 \n",
      "\n",
      "**2. Water Flow at each Time Step (t = 1, 2, ..., 10):**\n",
      "\n",
      "*   **Inflow at A:**  f_AB(t) + f_AC(t) + f_AF(t)  = f(t) \n",
      "*   **Conservation of flow at B:** f_AB(t) + f_FB(t) = f_BC(t) + f_BD(t) + f_BE(t) + r_B(t)\n",
      "*   **Conservation of flow at C:** f_AC(t) + f_BC(t) = f_CE(t) + f_CF(t) + r_C(t)\n",
      "*   **Conservation of flow at D:** f_BD(t) + f_DE(t) = r_D(t) \n",
      "*   **Conservation of flow at E:** f_BE(t) + f_CE(t) + f_DE(t) = f_EG(t) + r_E(t)\n",
      "*   **Conservation of flow at F:** f_AF(t) + f_CF(t) + f_FB(t) = f_FG(t) + r_F(t)\n",
      "\n",
      "**3. Pipe Capacity:**\n",
      "\n",
      "*   **Flow capacity limits:**\n",
      "    *   0 ≤ f_AB(t) ≤ x_AB * 3 \n",
      "    *   0 ≤ f_AC(t) ≤ x_AC * 6\n",
      "    *   0 ≤ f_AF(t) ≤ x_AF * 1\n",
      "    *   0 ≤ f_BC(t) ≤ x_BC * 3\n",
      "    *   0 ≤ f_BD(t) ≤ x_BD * 10\n",
      "    *   0 ≤ f_BE(t) ≤ x_BE * 4\n",
      "    *   0 ≤ f_CE(t) ≤ x_CE * 4\n",
      "    *   0 ≤ f_CF(t) ≤ x_CF * 4\n",
      "    *   0 ≤ f_DE(t) ≤ x_DE * 5\n",
      "    *   0 ≤ f_EG(t) ≤ x_EG * 5\n",
      "    *   0 ≤ f_FB(t) ≤ x_FB * 12\n",
      "    *   0 ≤ f_FG(t) ≤ x_FG * 7\n",
      "\n",
      "**4. Non-negativity of Release:**\n",
      "\n",
      "* r_B(t) ≥ 0\n",
      "* r_C(t) ≥ 0\n",
      "* r_D(t) ≥ 0\n",
      "* r_E(t) ≥ 0\n",
      "* r_F(t) ≥ 0 \n",
      "\n"
     ]
    }
   ],
   "source": [
    "print(response3.text)"
   ]
  },
  {
   "cell_type": "code",
   "execution_count": 277,
   "id": "184942d4",
   "metadata": {},
   "outputs": [
    {
     "name": "stdout",
     "output_type": "stream",
     "text": [
      "```python\n",
      "import pyomo.environ as pyo\n",
      "\n",
      "# Sample Data (You'll need to replace this with your actual data)\n",
      "f_data = {1: 10, 2: 12, 3: 15, 4: 10, 5: 8, 6: 12, 7: 14, 8: 11, 9: 9, 10: 13} \n",
      "\n",
      "# Model\n",
      "model = pyo.ConcreteModel()\n",
      "\n",
      "# Sets\n",
      "model.T = pyo.RangeSet(1, 10) # Time periods\n",
      "model.Pipes = pyo.Set(initialize=[\"AB\", \"AC\", \"AF\", \"BC\", \"BD\", \"BE\", \"CE\", \"CF\", \"DE\", \"EG\", \"FB\", \"FG\"])\n",
      "model.Nodes = pyo.Set(initialize=[\"B\", \"C\", \"D\", \"E\", \"F\"])\n",
      "\n",
      "# Variables\n",
      "model.x = pyo.Var(model.Pipes, domain=pyo.Binary) # Pipe activation\n",
      "model.f = pyo.Var(model.Pipes, model.T, domain=pyo.NonNegativeReals) # Flow in pipes\n",
      "model.r = pyo.Var(model.Nodes, model.T, domain=pyo.NonNegativeReals) # Release at nodes\n",
      "\n",
      "# Objective function\n",
      "model.obj = pyo.Objective(expr=sum(model.f[\"EG\", t] + model.f[\"FG\", t] for t in model.T), sense=pyo.maximize)\n",
      "\n",
      "# Constraints\n",
      "# 1. Pipe Activation Limit\n",
      "model.pipe_activation = pyo.Constraint(expr=sum(model.x[i] for i in model.Pipes) == 10)\n",
      "\n",
      "# 2. Water Flow at each Time Step\n",
      "def flow_balance(model, t):\n",
      "    if t==1:\n",
      "        return model.f[\"AB\", t] + model.f[\"AC\", t] + model.f[\"AF\", t] == f_data[t]\n",
      "    else: \n",
      "        return model.f[\"AB\", t] + model.f[\"AC\", t] + model.f[\"AF\", t] == f_data[t]\n",
      "model.flow_A = pyo.Constraint(model.T, rule=flow_balance)\n",
      "\n",
      "def flow_balance_B(model, t):\n",
      "    return model.f[\"AB\", t] + model.f[\"FB\", t] == model.f[\"BC\", t] + model.f[\"BD\", t] + model.f[\"BE\", t] + model.r[\"B\", t]\n",
      "model.flow_B = pyo.Constraint(model.T, rule=flow_balance_B)\n",
      "\n",
      "def flow_balance_C(model, t):\n",
      "    return model.f[\"AC\", t] + model.f[\"BC\", t] == model.f[\"CE\", t] + model.f[\"CF\", t] + model.r[\"C\", t]\n",
      "model.flow_C = pyo.Constraint(model.T, rule=flow_balance_C)\n",
      "\n",
      "def flow_balance_D(model, t):\n",
      "    return model.f[\"BD\", t] + model.f[\"DE\", t] == model.r[\"D\", t]\n",
      "model.flow_D = pyo.Constraint(model.T, rule=flow_balance_D)\n",
      "\n",
      "def flow_balance_E(model, t):\n",
      "    return model.f[\"BE\", t] + model.f[\"CE\", t] + model.f[\"DE\", t] == model.f[\"EG\", t] + model.r[\"E\", t]\n",
      "model.flow_E = pyo.Constraint(model.T, rule=flow_balance_E)\n",
      "\n",
      "def flow_balance_F(model, t):\n",
      "    return model.f[\"AF\", t] + model.f[\"CF\", t] + model.f[\"FB\", t] == model.f[\"FG\", t] + model.r[\"F\", t]\n",
      "model.flow_F = pyo.Constraint(model.T, rule=flow_balance_F)\n",
      "\n",
      "\n",
      "# 3. Pipe Capacity Limits\n",
      "model.capacity_AB = pyo.Constraint(model.T, rule=lambda model, t: 0 <= model.f[\"AB\", t] <= model.x[\"AB\"] * 3)\n",
      "model.capacity_AC = pyo.Constraint(model.T, rule=lambda model, t: 0 <= model.f[\"AC\", t] <= model.x[\"AC\"] * 6)\n",
      "model.capacity_AF = pyo.Constraint(model.T, rule=lambda model, t: 0 <= model.f[\"AF\", t] <= model.x[\"AF\"] * 1)\n",
      "model.capacity_BC = pyo.Constraint(model.T, rule=lambda model, t: 0 <= model.f[\"BC\", t] <= model.x[\"BC\"] * 3)\n",
      "model.capacity_BD = pyo.Constraint(model.T, rule=lambda model, t: 0 <= model.f[\"BD\", t] <= model.x[\"BD\"] * 10)\n",
      "model.capacity_BE = pyo.Constraint(model.T, rule=lambda model, t: 0 <= model.f[\"BE\", t] <= model.x[\"BE\"] * 4)\n",
      "model.capacity_CE = pyo.Constraint(model.T, rule=lambda model, t: 0 <= model.f[\"CE\", t] <= model.x[\"CE\"] * 4)\n",
      "model.capacity_CF = pyo.Constraint(model.T, rule=lambda model, t: 0 <= model.f[\"CF\", t] <= model.x[\"CF\"] * 4)\n",
      "model.capacity_DE = pyo.Constraint(model.T, rule=lambda model, t: 0 <= model.f[\"DE\", t] <= model.x[\"DE\"] * 5)\n",
      "model.capacity_EG = pyo.Constraint(model.T, rule=lambda model, t: 0 <= model.f[\"EG\", t] <= model.x[\"EG\"] * 5)\n",
      "model.capacity_FB = pyo.Constraint(model.T, rule=lambda model, t: 0 <= model.f[\"FB\", t] <= model.x[\"FB\"] * 12)\n",
      "model.capacity_FG = pyo.Constraint(model.T, rule=lambda model, t: 0 <= model.f[\"FG\", t] <= model.x[\"FG\"] * 7)\n",
      "\n",
      "# Solve the model\n",
      "solver = pyo.SolverFactory('cbc') # Choose a suitable solver\n",
      "results = solver.solve(model)\n",
      "\n",
      "# Print the results\n",
      "print(results)\n",
      "\n",
      "# Access the optimal values\n",
      "print(\"Optimal Objective Value:\", pyo.value(model.obj))\n",
      "\n",
      "# Print pipe activation decisions\n",
      "for i in model.Pipes:\n",
      "    if pyo.value(model.x[i]) > 0.5:\n",
      "        print(f\"Pipe {i} is activated\")\n",
      "\n",
      "# You can access the flow and release values similarly.\n",
      "```\n",
      "\n",
      "In this code:\n",
      "\n",
      "-  `f_data`: This dictionary represents the inflow at point A for each time step. **This is sample data.** You need to replace it with your actual inflow data. \n",
      "-  Comments explain each part of the code. \n",
      "-  You'll need to have Pyomo and a suitable solver (like CBC, GLPK, or others) installed to run this code. \n",
      "\n"
     ]
    }
   ],
   "source": [
    "print(response4.text)"
   ]
  },
  {
   "cell_type": "code",
   "execution_count": null,
   "id": "bd046f37",
   "metadata": {},
   "outputs": [],
   "source": []
  }
 ],
 "metadata": {
  "kernelspec": {
   "display_name": "Python 3 (ipykernel)",
   "language": "python",
   "name": "python3"
  },
  "language_info": {
   "codemirror_mode": {
    "name": "ipython",
    "version": 3
   },
   "file_extension": ".py",
   "mimetype": "text/x-python",
   "name": "python",
   "nbconvert_exporter": "python",
   "pygments_lexer": "ipython3",
   "version": "3.11.4"
  }
 },
 "nbformat": 4,
 "nbformat_minor": 5
}
