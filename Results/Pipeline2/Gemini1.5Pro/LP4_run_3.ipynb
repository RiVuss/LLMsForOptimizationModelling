{
 "cells": [
  {
   "cell_type": "markdown",
   "id": "f0005e9e",
   "metadata": {},
   "source": [
    "# LLM Optimization Modelling Experiment"
   ]
  },
  {
   "cell_type": "code",
   "execution_count": 8,
   "id": "7f664028",
   "metadata": {},
   "outputs": [],
   "source": [
    "import vertexai\n",
    "from vertexai.preview.generative_models import GenerativeModel, Image\n",
    "from IPython.display import Markdown"
   ]
  },
  {
   "cell_type": "markdown",
   "id": "f527d6af",
   "metadata": {},
   "source": [
    "## 1. Define the problem description"
   ]
  },
  {
   "cell_type": "code",
   "execution_count": 223,
   "id": "25055ffd",
   "metadata": {},
   "outputs": [],
   "source": [
    "problem = '''Consider a farmer who specializes in raising wheat, corn, and sugar beets on her 500 acres of land. During the winter, she wants to decide how much land to devote to each crop.\n",
    "\n",
    "The farmer knows that at least 200 tons (T) of wheat and 240 T of corn are needed for cattle feed. These amounts can be raised on the farm or bought from a wholesaler.\n",
    "Any production in excess of the feeding requirement would be sold.\n",
    "\n",
    "Over the last decade, mean selling prices have been $170 and $150 per ton of wheat and corn, respectively.\n",
    "The purchase prices are 40% more than this due to the wholesaler’s margin and transportation costs.\n",
    "\n",
    "Another profitable crop is sugar beet, which she expects to sell at $36/T. However, the European Commission imposes a quota on sugar beet production. Any amount in excess of the quota can be sold only at $10/T. The farmer’s quota for next year is 6000 T.\n",
    "\n",
    "Based on past experience, the farmer knows that the mean yield on her land is roughly 2.5 T, 3 T, and 20 T per acre for wheat, corn, and sugar beets, respectively. It costs $150 to plant an acre of wheat, $230 to pant an acre of corn and $260 to plant an acre of sugar beets. \n",
    "\n",
    "The farmer can decide how much of her land she will use to grow each of the three products: wheat, corn and sugar beets. The goal of the farmer is to minimize her total costs (where sales are considered as negative costs).'''"
   ]
  },
  {
   "cell_type": "markdown",
   "id": "472cf9ad",
   "metadata": {},
   "source": [
    "## 2. Ask for parameters"
   ]
  },
  {
   "cell_type": "code",
   "execution_count": 224,
   "id": "e31ec80c",
   "metadata": {},
   "outputs": [],
   "source": [
    "#Initializing the session. To replicate, make sure the right credentials are saved in a PATH variable\n",
    "PROJECT_ID = \"llm4optproblems\"\n",
    "REGION = \"us-central1\"\n",
    "vertexai.init(project=PROJECT_ID, location=REGION)\n",
    "\n",
    "#Specifying the model\n",
    "generative_multimodal_model = GenerativeModel(\"gemini-1.5-pro-preview-0409\")\n",
    "\n",
    "#The propmt applied to all problems\n",
    "prompt = '''Please formulate only the variables for this mathematical optimization problem. \n",
    "'''\n",
    "\n",
    "#Generate the response\n",
    "response = generative_multimodal_model.generate_content([prompt+problem])\n"
   ]
  },
  {
   "cell_type": "code",
   "execution_count": 225,
   "id": "f9adc567",
   "metadata": {
    "scrolled": false
   },
   "outputs": [
    {
     "data": {
      "text/markdown": [
       "## Decision Variables:\n",
       "\n",
       "*  *w* = Acres of land allocated to wheat production.\n",
       "*  *c* = Acres of land allocated to corn production.\n",
       "*  *s* = Acres of land allocated to sugar beet production.\n",
       "\n",
       "## Auxiliary Variables:\n",
       "\n",
       "* *w_b* = Tons of wheat purchased.\n",
       "* *c_b* = Tons of corn purchased.\n",
       "* *w_s* = Tons of wheat sold.\n",
       "* *c_s* = Tons of corn sold.\n",
       "* *s_q* = Tons of sugar beets sold at quota price.\n",
       "* *s_e* = Tons of sugar beets sold in excess of quota. \n"
      ],
      "text/plain": [
       "<IPython.core.display.Markdown object>"
      ]
     },
     "execution_count": 225,
     "metadata": {},
     "output_type": "execute_result"
    }
   ],
   "source": [
    "#Show the resopnse in a formatted way\n",
    "Markdown(response.text)"
   ]
  },
  {
   "cell_type": "markdown",
   "id": "15d9e89f",
   "metadata": {},
   "source": [
    "# 2. Ask for objective"
   ]
  },
  {
   "cell_type": "code",
   "execution_count": 226,
   "id": "4f357a19",
   "metadata": {},
   "outputs": [],
   "source": [
    "#Second prompt gets the output of the previous step and generates the code\n",
    "prompt2 = \"Please formulate only the objective function for this mathematical optimization problem.\"\n",
    "prompt2 += problem + response.text\n",
    "response2 = generative_multimodal_model.generate_content([prompt2])"
   ]
  },
  {
   "cell_type": "code",
   "execution_count": 227,
   "id": "bccd1014",
   "metadata": {},
   "outputs": [
    {
     "data": {
      "text/markdown": [
       "Minimize:\n",
       "\n",
       " 150*w + 230*c + 260*s  + 216*w_b + 180*c_b - 170*w_s - 150*c_s - 36*s_q - 10*s_e \n"
      ],
      "text/plain": [
       "<IPython.core.display.Markdown object>"
      ]
     },
     "execution_count": 227,
     "metadata": {},
     "output_type": "execute_result"
    }
   ],
   "source": [
    "Markdown(response2.text)"
   ]
  },
  {
   "cell_type": "markdown",
   "id": "d8ab1404",
   "metadata": {},
   "source": [
    "# 3. Ask for constraints"
   ]
  },
  {
   "cell_type": "code",
   "execution_count": 228,
   "id": "e6409951",
   "metadata": {},
   "outputs": [],
   "source": [
    "#Second prompt gets the output of the previous step and generates the code\n",
    "prompt3 = \"Please formulate only the constraints for this mathematical optimization problem.\"\n",
    "prompt3 += problem + response.text + response2.text\n",
    "response3 = generative_multimodal_model.generate_content([prompt3])"
   ]
  },
  {
   "cell_type": "code",
   "execution_count": 229,
   "id": "2f9439c2",
   "metadata": {},
   "outputs": [
    {
     "data": {
      "text/markdown": [
       "## Constraints:\n",
       "\n",
       "**Land availability:**\n",
       "\n",
       "* w + c + s <= 500 \n",
       "\n",
       "**Production and purchase balance:**\n",
       "\n",
       "* 2.5w + w_b - w_s >= 200  \n",
       "* 3c + c_b - c_s >= 240 \n",
       "\n",
       "**Sugar beet quota:**\n",
       "\n",
       "* s_q <= 6000\n",
       "\n",
       "**Relationship between production, sales, and quota:**\n",
       "\n",
       "* 20s - s_q - s_e = 0\n",
       "\n",
       "**Non-negativity of variables:**\n",
       "\n",
       "* w, c, s, w_b, c_b, w_s, c_s, s_q, s_e >= 0 \n"
      ],
      "text/plain": [
       "<IPython.core.display.Markdown object>"
      ]
     },
     "execution_count": 229,
     "metadata": {},
     "output_type": "execute_result"
    }
   ],
   "source": [
    "Markdown(response3.text)"
   ]
  },
  {
   "cell_type": "markdown",
   "id": "75796979",
   "metadata": {},
   "source": [
    "## 3. Generate the pyomo code"
   ]
  },
  {
   "cell_type": "code",
   "execution_count": 230,
   "id": "aabea932",
   "metadata": {},
   "outputs": [],
   "source": [
    "#Second prompt gets the output of the previous step and generates the code\n",
    "prompt4 = \"Please write pyomo code for this mathematical problem. Use sample data where needed. Indicate where you use sample data. \\n\"\n",
    "prompt4 += response.text + response2.text + response3.text \n",
    "response4 = generative_multimodal_model.generate_content([prompt4])"
   ]
  },
  {
   "cell_type": "code",
   "execution_count": 231,
   "id": "0dbc9976",
   "metadata": {
    "scrolled": false
   },
   "outputs": [
    {
     "data": {
      "text/markdown": [
       "```python\n",
       "import pyomo.environ as pyo\n",
       "\n",
       "# Sample Data - Replace with actual data if available\n",
       "land_availability = 500\n",
       "wheat_demand = 200\n",
       "corn_demand = 240\n",
       "sugar_beet_quota = 6000\n",
       "\n",
       "# Model\n",
       "model = pyo.ConcreteModel()\n",
       "\n",
       "# Decision Variables\n",
       "model.w = pyo.Var(domain=pyo.NonNegativeReals)  # Acres of land for wheat\n",
       "model.c = pyo.Var(domain=pyo.NonNegativeReals)  # Acres of land for corn\n",
       "model.s = pyo.Var(domain=pyo.NonNegativeReals)  # Acres of land for sugar beet\n",
       "\n",
       "# Auxiliary Variables\n",
       "model.w_b = pyo.Var(domain=pyo.NonNegativeReals)  # Tons of wheat purchased\n",
       "model.c_b = pyo.Var(domain=pyo.NonNegativeReals)  # Tons of corn purchased\n",
       "model.w_s = pyo.Var(domain=pyo.NonNegativeReals)  # Tons of wheat sold\n",
       "model.c_s = pyo.Var(domain=pyo.NonNegativeReals)  # Tons of corn sold\n",
       "model.s_q = pyo.Var(domain=pyo.NonNegativeReals)  # Tons of sugar beets sold at quota price\n",
       "model.s_e = pyo.Var(domain=pyo.NonNegativeReals)  # Tons of sugar beets sold in excess of quota\n",
       "\n",
       "# Objective Function\n",
       "model.profit = pyo.Objective(\n",
       "    expr=150 * model.w\n",
       "    + 230 * model.c\n",
       "    + 260 * model.s\n",
       "    + 216 * model.w_b\n",
       "    + 180 * model.c_b\n",
       "    - 170 * model.w_s\n",
       "    - 150 * model.c_s\n",
       "    - 36 * model.s_q\n",
       "    - 10 * model.s_e,\n",
       "    sense=pyo.minimize,\n",
       ")\n",
       "\n",
       "# Constraints\n",
       "model.land_constraint = pyo.Constraint(\n",
       "    expr=model.w + model.c + model.s <= land_availability\n",
       ")\n",
       "model.wheat_balance = pyo.Constraint(\n",
       "    expr=2.5 * model.w + model.w_b - model.w_s >= wheat_demand\n",
       ")\n",
       "model.corn_balance = pyo.Constraint(\n",
       "    expr=3 * model.c + model.c_b - model.c_s >= corn_demand\n",
       ")\n",
       "model.sugar_quota = pyo.Constraint(expr=model.s_q <= sugar_beet_quota)\n",
       "model.sugar_balance = pyo.Constraint(\n",
       "    expr=20 * model.s - model.s_q - model.s_e == 0\n",
       ")\n",
       "\n",
       "# Solve the model\n",
       "solver = pyo.SolverFactory(\"glpk\")  # Choose a suitable solver\n",
       "results = solver.solve(model)\n",
       "\n",
       "# Print the results\n",
       "print(results)\n",
       "print(\"Profit:\", pyo.value(model.profit))\n",
       "print(\"Wheat Acres:\", pyo.value(model.w))\n",
       "print(\"Corn Acres:\", pyo.value(model.c))\n",
       "print(\"Sugar Beet Acres:\", pyo.value(model.s))\n",
       "```\n"
      ],
      "text/plain": [
       "<IPython.core.display.Markdown object>"
      ]
     },
     "execution_count": 231,
     "metadata": {},
     "output_type": "execute_result"
    }
   ],
   "source": [
    "## Showing the code in a formatted way\n",
    "Markdown(response4.text)"
   ]
  },
  {
   "cell_type": "markdown",
   "id": "b60756ae",
   "metadata": {},
   "source": [
    "## 4. Input problem data and try running the generated code"
   ]
  },
  {
   "cell_type": "code",
   "execution_count": 232,
   "id": "9cc2e439",
   "metadata": {},
   "outputs": [
    {
     "name": "stdout",
     "output_type": "stream",
     "text": [
      "\n",
      "Problem: \n",
      "- Name: unknown\n",
      "  Lower bound: -118600.0\n",
      "  Upper bound: -118600.0\n",
      "  Number of objectives: 1\n",
      "  Number of constraints: 5\n",
      "  Number of variables: 9\n",
      "  Number of nonzeros: 13\n",
      "  Sense: minimize\n",
      "Solver: \n",
      "- Status: ok\n",
      "  Termination condition: optimal\n",
      "  Statistics: \n",
      "    Branch and bound: \n",
      "      Number of bounded subproblems: 0\n",
      "      Number of created subproblems: 0\n",
      "  Error rc: 0\n",
      "  Time: 0.04641079902648926\n",
      "Solution: \n",
      "- number of solutions: 0\n",
      "  number of solutions displayed: 0\n",
      "\n",
      "Profit: -118599.99999999999\n",
      "Wheat Acres: 120.0\n",
      "Corn Acres: 80.0\n",
      "Sugar Beet Acres: 300.0\n"
     ]
    }
   ],
   "source": [
    "import pyomo.environ as pyo\n",
    "\n",
    "# Sample Data - Replace with actual data if available\n",
    "land_availability = 500\n",
    "wheat_demand = 200\n",
    "corn_demand = 240\n",
    "sugar_beet_quota = 6000\n",
    "\n",
    "# Model\n",
    "model = pyo.ConcreteModel()\n",
    "\n",
    "# Decision Variables\n",
    "model.w = pyo.Var(domain=pyo.NonNegativeReals)  # Acres of land for wheat\n",
    "model.c = pyo.Var(domain=pyo.NonNegativeReals)  # Acres of land for corn\n",
    "model.s = pyo.Var(domain=pyo.NonNegativeReals)  # Acres of land for sugar beet\n",
    "\n",
    "# Auxiliary Variables\n",
    "model.w_b = pyo.Var(domain=pyo.NonNegativeReals)  # Tons of wheat purchased\n",
    "model.c_b = pyo.Var(domain=pyo.NonNegativeReals)  # Tons of corn purchased\n",
    "model.w_s = pyo.Var(domain=pyo.NonNegativeReals)  # Tons of wheat sold\n",
    "model.c_s = pyo.Var(domain=pyo.NonNegativeReals)  # Tons of corn sold\n",
    "model.s_q = pyo.Var(domain=pyo.NonNegativeReals)  # Tons of sugar beets sold at quota price\n",
    "model.s_e = pyo.Var(domain=pyo.NonNegativeReals)  # Tons of sugar beets sold in excess of quota\n",
    "\n",
    "# Objective Function\n",
    "model.profit = pyo.Objective(\n",
    "    expr=150 * model.w\n",
    "    + 230 * model.c\n",
    "    + 260 * model.s\n",
    "    + 216 * model.w_b\n",
    "    + 180 * model.c_b\n",
    "    - 170 * model.w_s\n",
    "    - 150 * model.c_s\n",
    "    - 36 * model.s_q\n",
    "    - 10 * model.s_e,\n",
    "    sense=pyo.minimize,\n",
    ")\n",
    "\n",
    "# Constraints\n",
    "model.land_constraint = pyo.Constraint(\n",
    "    expr=model.w + model.c + model.s <= land_availability\n",
    ")\n",
    "model.wheat_balance = pyo.Constraint(\n",
    "    expr=2.5 * model.w + model.w_b - model.w_s >= wheat_demand\n",
    ")\n",
    "model.corn_balance = pyo.Constraint(\n",
    "    expr=3 * model.c + model.c_b - model.c_s >= corn_demand\n",
    ")\n",
    "model.sugar_quota = pyo.Constraint(expr=model.s_q <= sugar_beet_quota)\n",
    "model.sugar_balance = pyo.Constraint(\n",
    "    expr=20 * model.s - model.s_q - model.s_e == 0\n",
    ")\n",
    "\n",
    "# Solve the model\n",
    "solver = pyo.SolverFactory(\"glpk\")  # Choose a suitable solver\n",
    "results = solver.solve(model)\n",
    "\n",
    "# Print the results\n",
    "print(results)\n",
    "print(\"Profit:\", pyo.value(model.profit))\n",
    "print(\"Wheat Acres:\", pyo.value(model.w))\n",
    "print(\"Corn Acres:\", pyo.value(model.c))\n",
    "print(\"Sugar Beet Acres:\", pyo.value(model.s))"
   ]
  },
  {
   "cell_type": "code",
   "execution_count": 150,
   "id": "05846880",
   "metadata": {
    "scrolled": false
   },
   "outputs": [],
   "source": []
  },
  {
   "cell_type": "markdown",
   "id": "1be0926e",
   "metadata": {},
   "source": [
    "## 5. Correct the code to verify model viability (optional)"
   ]
  },
  {
   "cell_type": "code",
   "execution_count": null,
   "id": "6d83904f",
   "metadata": {},
   "outputs": [],
   "source": []
  },
  {
   "cell_type": "markdown",
   "id": "dbd7b8a8",
   "metadata": {},
   "source": [
    "## 6. Print the responses"
   ]
  },
  {
   "cell_type": "code",
   "execution_count": 233,
   "id": "c76b7575",
   "metadata": {},
   "outputs": [
    {
     "name": "stdout",
     "output_type": "stream",
     "text": [
      "## Decision Variables:\n",
      "\n",
      "*  *w* = Acres of land allocated to wheat production.\n",
      "*  *c* = Acres of land allocated to corn production.\n",
      "*  *s* = Acres of land allocated to sugar beet production.\n",
      "\n",
      "## Auxiliary Variables:\n",
      "\n",
      "* *w_b* = Tons of wheat purchased.\n",
      "* *c_b* = Tons of corn purchased.\n",
      "* *w_s* = Tons of wheat sold.\n",
      "* *c_s* = Tons of corn sold.\n",
      "* *s_q* = Tons of sugar beets sold at quota price.\n",
      "* *s_e* = Tons of sugar beets sold in excess of quota. \n",
      "\n"
     ]
    }
   ],
   "source": [
    "print(response.text)"
   ]
  },
  {
   "cell_type": "code",
   "execution_count": 234,
   "id": "1bb49c6c",
   "metadata": {},
   "outputs": [
    {
     "name": "stdout",
     "output_type": "stream",
     "text": [
      "Minimize:\n",
      "\n",
      " 150*w + 230*c + 260*s  + 216*w_b + 180*c_b - 170*w_s - 150*c_s - 36*s_q - 10*s_e \n",
      "\n"
     ]
    }
   ],
   "source": [
    "print(response2.text)"
   ]
  },
  {
   "cell_type": "code",
   "execution_count": 235,
   "id": "b95499e6",
   "metadata": {},
   "outputs": [
    {
     "name": "stdout",
     "output_type": "stream",
     "text": [
      "## Constraints:\n",
      "\n",
      "**Land availability:**\n",
      "\n",
      "* w + c + s <= 500 \n",
      "\n",
      "**Production and purchase balance:**\n",
      "\n",
      "* 2.5w + w_b - w_s >= 200  \n",
      "* 3c + c_b - c_s >= 240 \n",
      "\n",
      "**Sugar beet quota:**\n",
      "\n",
      "* s_q <= 6000\n",
      "\n",
      "**Relationship between production, sales, and quota:**\n",
      "\n",
      "* 20s - s_q - s_e = 0\n",
      "\n",
      "**Non-negativity of variables:**\n",
      "\n",
      "* w, c, s, w_b, c_b, w_s, c_s, s_q, s_e >= 0 \n",
      "\n"
     ]
    }
   ],
   "source": [
    "print(response3.text)"
   ]
  },
  {
   "cell_type": "code",
   "execution_count": 236,
   "id": "184942d4",
   "metadata": {},
   "outputs": [
    {
     "name": "stdout",
     "output_type": "stream",
     "text": [
      "```python\n",
      "import pyomo.environ as pyo\n",
      "\n",
      "# Sample Data - Replace with actual data if available\n",
      "land_availability = 500\n",
      "wheat_demand = 200\n",
      "corn_demand = 240\n",
      "sugar_beet_quota = 6000\n",
      "\n",
      "# Model\n",
      "model = pyo.ConcreteModel()\n",
      "\n",
      "# Decision Variables\n",
      "model.w = pyo.Var(domain=pyo.NonNegativeReals)  # Acres of land for wheat\n",
      "model.c = pyo.Var(domain=pyo.NonNegativeReals)  # Acres of land for corn\n",
      "model.s = pyo.Var(domain=pyo.NonNegativeReals)  # Acres of land for sugar beet\n",
      "\n",
      "# Auxiliary Variables\n",
      "model.w_b = pyo.Var(domain=pyo.NonNegativeReals)  # Tons of wheat purchased\n",
      "model.c_b = pyo.Var(domain=pyo.NonNegativeReals)  # Tons of corn purchased\n",
      "model.w_s = pyo.Var(domain=pyo.NonNegativeReals)  # Tons of wheat sold\n",
      "model.c_s = pyo.Var(domain=pyo.NonNegativeReals)  # Tons of corn sold\n",
      "model.s_q = pyo.Var(domain=pyo.NonNegativeReals)  # Tons of sugar beets sold at quota price\n",
      "model.s_e = pyo.Var(domain=pyo.NonNegativeReals)  # Tons of sugar beets sold in excess of quota\n",
      "\n",
      "# Objective Function\n",
      "model.profit = pyo.Objective(\n",
      "    expr=150 * model.w\n",
      "    + 230 * model.c\n",
      "    + 260 * model.s\n",
      "    + 216 * model.w_b\n",
      "    + 180 * model.c_b\n",
      "    - 170 * model.w_s\n",
      "    - 150 * model.c_s\n",
      "    - 36 * model.s_q\n",
      "    - 10 * model.s_e,\n",
      "    sense=pyo.minimize,\n",
      ")\n",
      "\n",
      "# Constraints\n",
      "model.land_constraint = pyo.Constraint(\n",
      "    expr=model.w + model.c + model.s <= land_availability\n",
      ")\n",
      "model.wheat_balance = pyo.Constraint(\n",
      "    expr=2.5 * model.w + model.w_b - model.w_s >= wheat_demand\n",
      ")\n",
      "model.corn_balance = pyo.Constraint(\n",
      "    expr=3 * model.c + model.c_b - model.c_s >= corn_demand\n",
      ")\n",
      "model.sugar_quota = pyo.Constraint(expr=model.s_q <= sugar_beet_quota)\n",
      "model.sugar_balance = pyo.Constraint(\n",
      "    expr=20 * model.s - model.s_q - model.s_e == 0\n",
      ")\n",
      "\n",
      "# Solve the model\n",
      "solver = pyo.SolverFactory(\"glpk\")  # Choose a suitable solver\n",
      "results = solver.solve(model)\n",
      "\n",
      "# Print the results\n",
      "print(results)\n",
      "print(\"Profit:\", pyo.value(model.profit))\n",
      "print(\"Wheat Acres:\", pyo.value(model.w))\n",
      "print(\"Corn Acres:\", pyo.value(model.c))\n",
      "print(\"Sugar Beet Acres:\", pyo.value(model.s))\n",
      "```\n",
      "\n"
     ]
    }
   ],
   "source": [
    "print(response4.text)"
   ]
  },
  {
   "cell_type": "code",
   "execution_count": null,
   "id": "bd046f37",
   "metadata": {},
   "outputs": [],
   "source": []
  }
 ],
 "metadata": {
  "kernelspec": {
   "display_name": "Python 3 (ipykernel)",
   "language": "python",
   "name": "python3"
  },
  "language_info": {
   "codemirror_mode": {
    "name": "ipython",
    "version": 3
   },
   "file_extension": ".py",
   "mimetype": "text/x-python",
   "name": "python",
   "nbconvert_exporter": "python",
   "pygments_lexer": "ipython3",
   "version": "3.11.4"
  }
 },
 "nbformat": 4,
 "nbformat_minor": 5
}
