{
 "cells": [
  {
   "cell_type": "markdown",
   "id": "f0005e9e",
   "metadata": {},
   "source": [
    "# LLM Optimization Modelling Experiment"
   ]
  },
  {
   "cell_type": "code",
   "execution_count": 8,
   "id": "7f664028",
   "metadata": {},
   "outputs": [],
   "source": [
    "import vertexai\n",
    "from vertexai.preview.generative_models import GenerativeModel, Image\n",
    "from IPython.display import Markdown"
   ]
  },
  {
   "cell_type": "markdown",
   "id": "f527d6af",
   "metadata": {},
   "source": [
    "## 1. Define the problem description"
   ]
  },
  {
   "cell_type": "code",
   "execution_count": 278,
   "id": "25055ffd",
   "metadata": {},
   "outputs": [],
   "source": [
    "problem = '''You are task with maximizing the water flow in a network of pipes over 10 time steps. The water enters the system at point A and exits the system at point G. Hence, you need to maximize the amount of water that flows to point G. The water enters point A according to the function f(t) = max(-4/30t^3+t^2-0.234t+3, 0), where t is the time step. There are serveral points that are connected through pipes. Each pipe has a fixed capacity. Each point has to possibility to release water out of the system in case the outgoing pipes are full. There are 12 available pipes in total but only 10 of them can be activated. Deactivated pipes can not be used to transport water. The activation status of a pipe is set before any water arrives at point A and does not change. Finally, water can not be stored at the connection points which means that any water coming in at time t needs to be flowing out at time t + 1.\n",
    "\n",
    "These are the pipe capacities:\n",
    "AB: 3\n",
    "AC: 6\n",
    "AF: 1\n",
    "BC: 3\n",
    "BD: 10\n",
    "BE: 4\n",
    "CE: 4\n",
    "CF: 4\n",
    "DE: 5\n",
    "EG: 5\n",
    "FB: 12\n",
    "FG: 7'''"
   ]
  },
  {
   "cell_type": "markdown",
   "id": "472cf9ad",
   "metadata": {},
   "source": [
    "## 2. Ask for parameters"
   ]
  },
  {
   "cell_type": "code",
   "execution_count": 279,
   "id": "e31ec80c",
   "metadata": {},
   "outputs": [],
   "source": [
    "#Initializing the session. To replicate, make sure the right credentials are saved in a PATH variable\n",
    "PROJECT_ID = \"llm4optproblems\"\n",
    "REGION = \"us-central1\"\n",
    "vertexai.init(project=PROJECT_ID, location=REGION)\n",
    "\n",
    "#Specifying the model\n",
    "generative_multimodal_model = GenerativeModel(\"gemini-1.5-pro-preview-0409\")\n",
    "\n",
    "#The propmt applied to all problems\n",
    "prompt = '''Please formulate only the variables for this mathematical optimization problem. \n",
    "'''\n",
    "\n",
    "#Generate the response\n",
    "response = generative_multimodal_model.generate_content([prompt+problem])\n"
   ]
  },
  {
   "cell_type": "code",
   "execution_count": 280,
   "id": "f9adc567",
   "metadata": {
    "scrolled": false
   },
   "outputs": [
    {
     "data": {
      "text/markdown": [
       "## Variables:\n",
       "\n",
       "**Binary Variables (Activation):**\n",
       "\n",
       "*  `x_AB`, `x_AC`, `x_AF`, `x_BC`, `x_BD`, `x_BE`, `x_CE`, `x_CF`, `x_DE`, `x_EG`, `x_FB`, `x_FG` \n",
       "    * Each variable represents a pipe. \n",
       "    * Value 1: Pipe is activated.\n",
       "    * Value 0: Pipe is deactivated.\n",
       "\n",
       "**Continuous Variables (Water Flow):**\n",
       "\n",
       "* `f_in(t)`: Water entering the system at point A at time step `t` (calculated from the given function).\n",
       "* `f_out(t)`: Water exiting the system at point G at time step `t`. \n",
       "* `f_AB(t)`, `f_AC(t)`, `f_AF(t)`, `f_BC(t)`, `f_BD(t)`, `f_BE(t)`, `f_CE(t)`, `f_CF(t)`, `f_DE(t)`, `f_EG(t)`, `f_FB(t)`, `f_FG(t)`\n",
       "    * Each variable represents a pipe.\n",
       "    * Represents the water flow through the respective pipe at time step `t`.\n",
       "\n",
       "**Continuous Variables (Water Released):**\n",
       "\n",
       "* `r_B(t)`, `r_C(t)`, `r_D(t)`, `r_E(t)`, `r_F(t)`\n",
       "    * Each variable represents a connection point (B, C, D, E, F).\n",
       "    * Represents the amount of water released at the respective point at time step `t`.\n",
       "\n",
       "**Sets:**\n",
       "\n",
       "*  `T = {1, 2, ..., 10}` (Set of time steps) \n"
      ],
      "text/plain": [
       "<IPython.core.display.Markdown object>"
      ]
     },
     "execution_count": 280,
     "metadata": {},
     "output_type": "execute_result"
    }
   ],
   "source": [
    "#Show the resopnse in a formatted way\n",
    "Markdown(response.text)"
   ]
  },
  {
   "cell_type": "markdown",
   "id": "15d9e89f",
   "metadata": {},
   "source": [
    "# 2. Ask for objective"
   ]
  },
  {
   "cell_type": "code",
   "execution_count": 281,
   "id": "4f357a19",
   "metadata": {},
   "outputs": [],
   "source": [
    "#Second prompt gets the output of the previous step and generates the code\n",
    "prompt2 = \"Please formulate only the objective function for this mathematical optimization problem.\"\n",
    "prompt2 += problem + response.text\n",
    "response2 = generative_multimodal_model.generate_content([prompt2])"
   ]
  },
  {
   "cell_type": "code",
   "execution_count": 282,
   "id": "bccd1014",
   "metadata": {},
   "outputs": [
    {
     "data": {
      "text/markdown": [
       "Maximize: \n",
       "  $$\\sum_{t=1}^{10} f_{out}(t)$$ \n",
       " \n",
       "This objective function directly represents the goal of maximizing the total water flow exiting the system at point G over the 10 time steps. \n"
      ],
      "text/plain": [
       "<IPython.core.display.Markdown object>"
      ]
     },
     "execution_count": 282,
     "metadata": {},
     "output_type": "execute_result"
    }
   ],
   "source": [
    "Markdown(response2.text)"
   ]
  },
  {
   "cell_type": "markdown",
   "id": "d8ab1404",
   "metadata": {},
   "source": [
    "# 3. Ask for constraints"
   ]
  },
  {
   "cell_type": "code",
   "execution_count": 283,
   "id": "e6409951",
   "metadata": {},
   "outputs": [],
   "source": [
    "#Second prompt gets the output of the previous step and generates the code\n",
    "prompt3 = \"Please formulate only the constraints for this mathematical optimization problem.\"\n",
    "prompt3 += problem + response.text + response2.text\n",
    "response3 = generative_multimodal_model.generate_content([prompt3])"
   ]
  },
  {
   "cell_type": "code",
   "execution_count": 284,
   "id": "2f9439c2",
   "metadata": {},
   "outputs": [
    {
     "data": {
      "text/markdown": [
       "## Constraints:\n",
       "\n",
       "**1. Pipe Activation:**\n",
       "\n",
       "*  Only 10 pipes can be activated: \n",
       "   `x_AB + x_AC + x_AF + x_BC + x_BD + x_BE + x_CE + x_CF + x_DE + x_EG + x_FB + x_FG = 10`\n",
       "\n",
       "**2. Flow Capacity:**\n",
       "\n",
       "*  Flow through a pipe cannot exceed its capacity:\n",
       "    * `0 ≤ f_AB(t) ≤ 3x_AB` for all `t` in `T`\n",
       "    * `0 ≤ f_AC(t) ≤ 6x_AC` for all `t` in `T`\n",
       "    * ... (similarly for all other pipes)\n",
       "\n",
       "**3. Flow Conservation at Each Node:**\n",
       "\n",
       "* **Node A:**\n",
       "    * `f_in(t) = f_AB(t) + f_AC(t) + f_AF(t)` for all `t` in `T`\n",
       "* **Node B:**\n",
       "    * `f_AB(t) + f_FB(t) = f_BC(t) + f_BD(t) + f_BE(t) + r_B(t)` for all `t` in `T`\n",
       "* **Node C:**\n",
       "    * `f_AC(t) + f_BC(t) = f_CE(t) + f_CF(t) + r_C(t)` for all `t` in `T`\n",
       "* **Node D:**\n",
       "    * `f_BD(t) + f_DE(t) = r_D(t)` for all `t` in `T` \n",
       "* **Node E:** \n",
       "    * `f_BE(t) + f_CE(t) = f_DE(t) + f_EG(t) + r_E(t)` for all `t` in `T`\n",
       "* **Node F:**\n",
       "    * `f_AF(t) + f_CF(t) = f_FB(t) + f_FG(t) + r_F(t)` for all `t` in `T`\n",
       "* **Node G:**\n",
       "    * `f_EG(t) + f_FG(t) = f_out(t)` for all `t` in `T`\n",
       "\n",
       "**4. Non-negativity of Flow and Release:**\n",
       "\n",
       "* All flow and release variables must be non-negative:\n",
       "    * `f_ij(t) ≥ 0` for all pipes `ij` and all `t` in `T`\n",
       "    * `r_k(t) ≥ 0` for all nodes `k` (B, C, D, E, F) and all `t` in `T` \n"
      ],
      "text/plain": [
       "<IPython.core.display.Markdown object>"
      ]
     },
     "execution_count": 284,
     "metadata": {},
     "output_type": "execute_result"
    }
   ],
   "source": [
    "Markdown(response3.text)"
   ]
  },
  {
   "cell_type": "markdown",
   "id": "75796979",
   "metadata": {},
   "source": [
    "## 3. Generate the pyomo code"
   ]
  },
  {
   "cell_type": "code",
   "execution_count": 285,
   "id": "aabea932",
   "metadata": {},
   "outputs": [],
   "source": [
    "#Second prompt gets the output of the previous step and generates the code\n",
    "prompt4 = \"Please write pyomo code for this mathematical problem. Use sample data where needed. Indicate where you use sample data. \\n\"\n",
    "prompt4 += response.text + response2.text + response3.text \n",
    "response4 = generative_multimodal_model.generate_content([prompt4])"
   ]
  },
  {
   "cell_type": "code",
   "execution_count": 286,
   "id": "0dbc9976",
   "metadata": {
    "scrolled": false
   },
   "outputs": [
    {
     "data": {
      "text/markdown": [
       "```python\n",
       "import pyomo.environ as pyo\n",
       "\n",
       "# Sample data for f_in(t) - Replace with actual function or data\n",
       "def f_in_func(t):\n",
       "    # Example: Sinusoidal inflow\n",
       "    return 5 * pyo.sin(t * 3.14159 / 10) + 10 \n",
       "\n",
       "# Model\n",
       "model = pyo.ConcreteModel()\n",
       "\n",
       "# Sets\n",
       "model.T = pyo.RangeSet(1, 10)  # Time steps\n",
       "\n",
       "# Variables\n",
       "# Activation (Binary)\n",
       "model.x_AB = pyo.Var(within=pyo.Binary)\n",
       "model.x_AC = pyo.Var(within=pyo.Binary)\n",
       "model.x_AF = pyo.Var(within=pyo.Binary)\n",
       "model.x_BC = pyo.Var(within=pyo.Binary)\n",
       "model.x_BD = pyo.Var(within=pyo.Binary)\n",
       "model.x_BE = pyo.Var(within=pyo.Binary)\n",
       "model.x_CE = pyo.Var(within=pyo.Binary)\n",
       "model.x_CF = pyo.Var(within=pyo.Binary)\n",
       "model.x_DE = pyo.Var(within=pyo.Binary)\n",
       "model.x_EG = pyo.Var(within=pyo.Binary)\n",
       "model.x_FB = pyo.Var(within=pyo.Binary)\n",
       "model.x_FG = pyo.Var(within=pyo.Binary)\n",
       "\n",
       "# Flow (Continuous)\n",
       "model.f_in = pyo.Var(model.T)\n",
       "model.f_out = pyo.Var(model.T)\n",
       "model.f_AB = pyo.Var(model.T, within=pyo.NonNegativeReals)\n",
       "model.f_AC = pyo.Var(model.T, within=pyo.NonNegativeReals)\n",
       "model.f_AF = pyo.Var(model.T, within=pyo.NonNegativeReals)\n",
       "model.f_BC = pyo.Var(model.T, within=pyo.NonNegativeReals)\n",
       "model.f_BD = pyo.Var(model.T, within=pyo.NonNegativeReals)\n",
       "model.f_BE = pyo.Var(model.T, within=pyo.NonNegativeReals)\n",
       "model.f_CE = pyo.Var(model.T, within=pyo.NonNegativeReals)\n",
       "model.f_CF = pyo.Var(model.T, within=pyo.NonNegativeReals)\n",
       "model.f_DE = pyo.Var(model.T, within=pyo.NonNegativeReals)\n",
       "model.f_EG = pyo.Var(model.T, within=pyo.NonNegativeReals)\n",
       "model.f_FB = pyo.Var(model.T, within=pyo.NonNegativeReals)\n",
       "model.f_FG = pyo.Var(model.T, within=pyo.NonNegativeReals)\n",
       "\n",
       "# Release (Continuous)\n",
       "model.r_B = pyo.Var(model.T, within=pyo.NonNegativeReals)\n",
       "model.r_C = pyo.Var(model.T, within=pyo.NonNegativeReals)\n",
       "model.r_D = pyo.Var(model.T, within=pyo.NonNegativeReals)\n",
       "model.r_E = pyo.Var(model.T, within=pyo.NonNegativeReals)\n",
       "model.r_F = pyo.Var(model.T, within=pyo.NonNegativeReals)\n",
       "\n",
       "# Constraints\n",
       "\n",
       "# 1. Pipe Activation\n",
       "def pipe_activation_rule(model):\n",
       "    return (model.x_AB + model.x_AC + model.x_AF + model.x_BC + model.x_BD + \n",
       "            model.x_BE + model.x_CE + model.x_CF + model.x_DE + model.x_EG + \n",
       "            model.x_FB + model.x_FG == 10)\n",
       "model.pipe_activation_constraint = pyo.Constraint(rule=pipe_activation_rule)\n",
       "\n",
       "# 2. Flow Capacity\n",
       "def flow_capacity_rule(model, t, pipe, x, capacity):\n",
       "    return (0, model.getattr(f\"f_{pipe}\")[t], capacity * model.getattr(f\"x_{pipe}\")) \n",
       "model.flow_capacity_AB = pyo.Constraint(model.T, rule=lambda model, t: flow_capacity_rule(model, t, \"AB\", model.x_AB, 3))\n",
       "model.flow_capacity_AC = pyo.Constraint(model.T, rule=lambda model, t: flow_capacity_rule(model, t, \"AC\", model.x_AC, 6))\n",
       "# ... (similarly for all other pipes)\n",
       "\n",
       "# 3. Flow Conservation at Each Node\n",
       "def node_A_rule(model, t):\n",
       "    return model.f_in[t] == model.f_AB[t] + model.f_AC[t] + model.f_AF[t]\n",
       "model.node_A_constraint = pyo.Constraint(model.T, rule=node_A_rule)\n",
       "\n",
       "def node_B_rule(model, t):\n",
       "    return (model.f_AB[t] + model.f_FB[t] == \n",
       "            model.f_BC[t] + model.f_BD[t] + model.f_BE[t] + model.r_B[t])\n",
       "model.node_B_constraint = pyo.Constraint(model.T, rule=node_B_rule)\n",
       "\n",
       "# ... (similarly for nodes C, D, E, F, G) \n",
       "\n",
       "# Objective Function\n",
       "def objective_rule(model):\n",
       "    return pyo.summation(model.f_out[t] for t in model.T)\n",
       "model.objective = pyo.Objective(rule=objective_rule, sense=pyo.maximize)\n",
       "\n",
       "# Set inflow values using the sample data function\n",
       "for t in model.T:\n",
       "    model.f_in[t] = f_in_func(t)\n",
       "\n",
       "# Solve the model\n",
       "solver = pyo.SolverFactory('cbc')  # Choose a suitable solver\n",
       "results = solver.solve(model)\n",
       "\n",
       "# Print results or access solution information\n",
       "print(results)\n",
       "print(\"Total outflow:\", pyo.value(model.objective)) \n",
       "```\n",
       "\n",
       "**Explanation:**\n",
       "\n",
       "1. **Import Pyomo:** `import pyomo.environ as pyo` imports the Pyomo library.\n",
       "2. **Sample Data:** I've used a sample sinusoidal function for `f_in(t)`. You'll need to replace this with your actual inflow data or function.\n",
       "3. **Model Initialization:** `model = pyo.ConcreteModel()` creates a concrete Pyomo model.\n",
       "4. **Sets:** `model.T = pyo.RangeSet(1, 10)` defines the set of time steps.\n",
       "5. **Variables:**\n",
       "   - **Binary:** `pyo.Var(within=pyo.Binary)` is used to define binary variables (`x_AB`, `x_AC`, etc.).\n",
       "   - **Continuous:** `pyo.Var(model.T, within=pyo.NonNegativeReals)` is used for flow and release variables, which are continuous and non-negative. \n",
       "6. **Constraints:**  Each constraint is defined using a rule function. The `pyo.Constraint()` function applies these rules over the appropriate sets.\n",
       "7. **Objective Function:** The `objective_rule` function defines the objective to maximize, and `pyo.Objective()` creates the objective object.\n",
       "8. **Setting Inflow:** The loop `for t in model.T:` sets the values of `f_in[t]` based on the sample data function.\n",
       "9. **Solving:** A solver is selected (`cbc` in this case) and used to solve the model.\n",
       "10. **Results:** The results are printed, including the total outflow.\n",
       "\n",
       "Remember that this code uses sample data for the inflow (`f_in(t)`). You need to replace the sample function with your actual data or function to obtain meaningful results. Also, you'll likely need to install a suitable solver (like CBC, GLPK, or others) if you haven't already. \n"
      ],
      "text/plain": [
       "<IPython.core.display.Markdown object>"
      ]
     },
     "execution_count": 286,
     "metadata": {},
     "output_type": "execute_result"
    }
   ],
   "source": [
    "## Showing the code in a formatted way\n",
    "Markdown(response4.text)"
   ]
  },
  {
   "cell_type": "markdown",
   "id": "b60756ae",
   "metadata": {},
   "source": [
    "## 4. Input problem data and try running the generated code"
   ]
  },
  {
   "cell_type": "code",
   "execution_count": 287,
   "id": "9cc2e439",
   "metadata": {},
   "outputs": [
    {
     "name": "stdout",
     "output_type": "stream",
     "text": [
      "ERROR: Rule failed when generating expression for Constraint flow_capacity_AB\n",
      "with index 1: AttributeError: 'ConcreteModel' object has no attribute\n",
      "'getattr'\n",
      "ERROR: Constructing component 'flow_capacity_AB' from data=None failed:\n",
      "        AttributeError: 'ConcreteModel' object has no attribute 'getattr'\n"
     ]
    },
    {
     "ename": "AttributeError",
     "evalue": "'ConcreteModel' object has no attribute 'getattr'",
     "output_type": "error",
     "traceback": [
      "\u001b[1;31m---------------------------------------------------------------------------\u001b[0m",
      "\u001b[1;31mAttributeError\u001b[0m                            Traceback (most recent call last)",
      "Cell \u001b[1;32mIn[287], line 64\u001b[0m\n\u001b[0;32m     62\u001b[0m \u001b[38;5;28;01mdef\u001b[39;00m \u001b[38;5;21mflow_capacity_rule\u001b[39m(model, t, pipe, x, capacity):\n\u001b[0;32m     63\u001b[0m     \u001b[38;5;28;01mreturn\u001b[39;00m (\u001b[38;5;241m0\u001b[39m, model\u001b[38;5;241m.\u001b[39mgetattr(\u001b[38;5;124mf\u001b[39m\u001b[38;5;124m\"\u001b[39m\u001b[38;5;124mf_\u001b[39m\u001b[38;5;132;01m{\u001b[39;00mpipe\u001b[38;5;132;01m}\u001b[39;00m\u001b[38;5;124m\"\u001b[39m)[t], capacity \u001b[38;5;241m*\u001b[39m model\u001b[38;5;241m.\u001b[39mgetattr(\u001b[38;5;124mf\u001b[39m\u001b[38;5;124m\"\u001b[39m\u001b[38;5;124mx_\u001b[39m\u001b[38;5;132;01m{\u001b[39;00mpipe\u001b[38;5;132;01m}\u001b[39;00m\u001b[38;5;124m\"\u001b[39m)) \n\u001b[1;32m---> 64\u001b[0m model\u001b[38;5;241m.\u001b[39mflow_capacity_AB \u001b[38;5;241m=\u001b[39m pyo\u001b[38;5;241m.\u001b[39mConstraint(model\u001b[38;5;241m.\u001b[39mT, rule\u001b[38;5;241m=\u001b[39m\u001b[38;5;28;01mlambda\u001b[39;00m model, t: flow_capacity_rule(model, t, \u001b[38;5;124m\"\u001b[39m\u001b[38;5;124mAB\u001b[39m\u001b[38;5;124m\"\u001b[39m, model\u001b[38;5;241m.\u001b[39mx_AB, \u001b[38;5;241m3\u001b[39m))\n\u001b[0;32m     65\u001b[0m model\u001b[38;5;241m.\u001b[39mflow_capacity_AC \u001b[38;5;241m=\u001b[39m pyo\u001b[38;5;241m.\u001b[39mConstraint(model\u001b[38;5;241m.\u001b[39mT, rule\u001b[38;5;241m=\u001b[39m\u001b[38;5;28;01mlambda\u001b[39;00m model, t: flow_capacity_rule(model, t, \u001b[38;5;124m\"\u001b[39m\u001b[38;5;124mAC\u001b[39m\u001b[38;5;124m\"\u001b[39m, model\u001b[38;5;241m.\u001b[39mx_AC, \u001b[38;5;241m6\u001b[39m))\n\u001b[0;32m     66\u001b[0m \u001b[38;5;66;03m# ... (similarly for all other pipes)\u001b[39;00m\n\u001b[0;32m     67\u001b[0m \n\u001b[0;32m     68\u001b[0m \u001b[38;5;66;03m# 3. Flow Conservation at Each Node\u001b[39;00m\n",
      "File \u001b[1;32m~\\anaconda3\\Lib\\site-packages\\pyomo\\core\\base\\block.py:568\u001b[0m, in \u001b[0;36m_BlockData.__setattr__\u001b[1;34m(self, name, val)\u001b[0m\n\u001b[0;32m    563\u001b[0m \u001b[38;5;28;01mif\u001b[39;00m name \u001b[38;5;129;01mnot\u001b[39;00m \u001b[38;5;129;01min\u001b[39;00m \u001b[38;5;28mself\u001b[39m\u001b[38;5;241m.\u001b[39m\u001b[38;5;18m__dict__\u001b[39m:\n\u001b[0;32m    564\u001b[0m     \u001b[38;5;28;01mif\u001b[39;00m \u001b[38;5;28misinstance\u001b[39m(val, Component):\n\u001b[0;32m    565\u001b[0m         \u001b[38;5;66;03m#\u001b[39;00m\n\u001b[0;32m    566\u001b[0m         \u001b[38;5;66;03m# Pyomo components are added with the add_component method.\u001b[39;00m\n\u001b[0;32m    567\u001b[0m         \u001b[38;5;66;03m#\u001b[39;00m\n\u001b[1;32m--> 568\u001b[0m         \u001b[38;5;28mself\u001b[39m\u001b[38;5;241m.\u001b[39madd_component(name, val)\n\u001b[0;32m    569\u001b[0m     \u001b[38;5;28;01melse\u001b[39;00m:\n\u001b[0;32m    570\u001b[0m         \u001b[38;5;66;03m#\u001b[39;00m\n\u001b[0;32m    571\u001b[0m         \u001b[38;5;66;03m# Other Python objects are added with the standard __setattr__\u001b[39;00m\n\u001b[0;32m    572\u001b[0m         \u001b[38;5;66;03m# method.\u001b[39;00m\n\u001b[0;32m    573\u001b[0m         \u001b[38;5;66;03m#\u001b[39;00m\n\u001b[0;32m    574\u001b[0m         \u001b[38;5;28msuper\u001b[39m(_BlockData, \u001b[38;5;28mself\u001b[39m)\u001b[38;5;241m.\u001b[39m\u001b[38;5;21m__setattr__\u001b[39m(name, val)\n",
      "File \u001b[1;32m~\\anaconda3\\Lib\\site-packages\\pyomo\\core\\base\\block.py:1126\u001b[0m, in \u001b[0;36m_BlockData.add_component\u001b[1;34m(self, name, val)\u001b[0m\n\u001b[0;32m   1118\u001b[0m     logger\u001b[38;5;241m.\u001b[39mdebug(\n\u001b[0;32m   1119\u001b[0m         \u001b[38;5;124m\"\u001b[39m\u001b[38;5;124mConstructing \u001b[39m\u001b[38;5;132;01m%s\u001b[39;00m\u001b[38;5;124m \u001b[39m\u001b[38;5;124m'\u001b[39m\u001b[38;5;132;01m%s\u001b[39;00m\u001b[38;5;124m'\u001b[39m\u001b[38;5;124m on \u001b[39m\u001b[38;5;132;01m%s\u001b[39;00m\u001b[38;5;124m from data=\u001b[39m\u001b[38;5;132;01m%s\u001b[39;00m\u001b[38;5;124m\"\u001b[39m,\n\u001b[0;32m   1120\u001b[0m         val\u001b[38;5;241m.\u001b[39m\u001b[38;5;18m__class__\u001b[39m\u001b[38;5;241m.\u001b[39m\u001b[38;5;18m__name__\u001b[39m,\n\u001b[1;32m   (...)\u001b[0m\n\u001b[0;32m   1123\u001b[0m         \u001b[38;5;28mstr\u001b[39m(data),\n\u001b[0;32m   1124\u001b[0m     )\n\u001b[0;32m   1125\u001b[0m \u001b[38;5;28;01mtry\u001b[39;00m:\n\u001b[1;32m-> 1126\u001b[0m     val\u001b[38;5;241m.\u001b[39mconstruct(data)\n\u001b[0;32m   1127\u001b[0m \u001b[38;5;28;01mexcept\u001b[39;00m:\n\u001b[0;32m   1128\u001b[0m     err \u001b[38;5;241m=\u001b[39m sys\u001b[38;5;241m.\u001b[39mexc_info()[\u001b[38;5;241m1\u001b[39m]\n",
      "File \u001b[1;32m~\\anaconda3\\Lib\\site-packages\\pyomo\\core\\base\\constraint.py:800\u001b[0m, in \u001b[0;36mConstraint.construct\u001b[1;34m(self, data)\u001b[0m\n\u001b[0;32m    797\u001b[0m     \u001b[38;5;28;01melse\u001b[39;00m:\n\u001b[0;32m    798\u001b[0m         \u001b[38;5;66;03m# Bypass the index validation and create the member directly\u001b[39;00m\n\u001b[0;32m    799\u001b[0m         \u001b[38;5;28;01mfor\u001b[39;00m index \u001b[38;5;129;01min\u001b[39;00m \u001b[38;5;28mself\u001b[39m\u001b[38;5;241m.\u001b[39mindex_set():\n\u001b[1;32m--> 800\u001b[0m             \u001b[38;5;28mself\u001b[39m\u001b[38;5;241m.\u001b[39m_setitem_when_not_present(index, rule(block, index))\n\u001b[0;32m    801\u001b[0m \u001b[38;5;28;01mexcept\u001b[39;00m \u001b[38;5;167;01mException\u001b[39;00m:\n\u001b[0;32m    802\u001b[0m     err \u001b[38;5;241m=\u001b[39m sys\u001b[38;5;241m.\u001b[39mexc_info()[\u001b[38;5;241m1\u001b[39m]\n",
      "File \u001b[1;32m~\\anaconda3\\Lib\\site-packages\\pyomo\\core\\base\\initializer.py:316\u001b[0m, in \u001b[0;36mIndexedCallInitializer.__call__\u001b[1;34m(self, parent, idx)\u001b[0m\n\u001b[0;32m    314\u001b[0m     \u001b[38;5;28;01mreturn\u001b[39;00m \u001b[38;5;28mself\u001b[39m\u001b[38;5;241m.\u001b[39m_fcn(parent, \u001b[38;5;241m*\u001b[39midx)\n\u001b[0;32m    315\u001b[0m \u001b[38;5;28;01melse\u001b[39;00m:\n\u001b[1;32m--> 316\u001b[0m     \u001b[38;5;28;01mreturn\u001b[39;00m \u001b[38;5;28mself\u001b[39m\u001b[38;5;241m.\u001b[39m_fcn(parent, idx)\n",
      "Cell \u001b[1;32mIn[287], line 64\u001b[0m, in \u001b[0;36m<lambda>\u001b[1;34m(model, t)\u001b[0m\n\u001b[0;32m     62\u001b[0m \u001b[38;5;28;01mdef\u001b[39;00m \u001b[38;5;21mflow_capacity_rule\u001b[39m(model, t, pipe, x, capacity):\n\u001b[0;32m     63\u001b[0m     \u001b[38;5;28;01mreturn\u001b[39;00m (\u001b[38;5;241m0\u001b[39m, model\u001b[38;5;241m.\u001b[39mgetattr(\u001b[38;5;124mf\u001b[39m\u001b[38;5;124m\"\u001b[39m\u001b[38;5;124mf_\u001b[39m\u001b[38;5;132;01m{\u001b[39;00mpipe\u001b[38;5;132;01m}\u001b[39;00m\u001b[38;5;124m\"\u001b[39m)[t], capacity \u001b[38;5;241m*\u001b[39m model\u001b[38;5;241m.\u001b[39mgetattr(\u001b[38;5;124mf\u001b[39m\u001b[38;5;124m\"\u001b[39m\u001b[38;5;124mx_\u001b[39m\u001b[38;5;132;01m{\u001b[39;00mpipe\u001b[38;5;132;01m}\u001b[39;00m\u001b[38;5;124m\"\u001b[39m)) \n\u001b[1;32m---> 64\u001b[0m model\u001b[38;5;241m.\u001b[39mflow_capacity_AB \u001b[38;5;241m=\u001b[39m pyo\u001b[38;5;241m.\u001b[39mConstraint(model\u001b[38;5;241m.\u001b[39mT, rule\u001b[38;5;241m=\u001b[39m\u001b[38;5;28;01mlambda\u001b[39;00m model, t: flow_capacity_rule(model, t, \u001b[38;5;124m\"\u001b[39m\u001b[38;5;124mAB\u001b[39m\u001b[38;5;124m\"\u001b[39m, model\u001b[38;5;241m.\u001b[39mx_AB, \u001b[38;5;241m3\u001b[39m))\n\u001b[0;32m     65\u001b[0m model\u001b[38;5;241m.\u001b[39mflow_capacity_AC \u001b[38;5;241m=\u001b[39m pyo\u001b[38;5;241m.\u001b[39mConstraint(model\u001b[38;5;241m.\u001b[39mT, rule\u001b[38;5;241m=\u001b[39m\u001b[38;5;28;01mlambda\u001b[39;00m model, t: flow_capacity_rule(model, t, \u001b[38;5;124m\"\u001b[39m\u001b[38;5;124mAC\u001b[39m\u001b[38;5;124m\"\u001b[39m, model\u001b[38;5;241m.\u001b[39mx_AC, \u001b[38;5;241m6\u001b[39m))\n\u001b[0;32m     66\u001b[0m \u001b[38;5;66;03m# ... (similarly for all other pipes)\u001b[39;00m\n\u001b[0;32m     67\u001b[0m \n\u001b[0;32m     68\u001b[0m \u001b[38;5;66;03m# 3. Flow Conservation at Each Node\u001b[39;00m\n",
      "Cell \u001b[1;32mIn[287], line 63\u001b[0m, in \u001b[0;36mflow_capacity_rule\u001b[1;34m(model, t, pipe, x, capacity)\u001b[0m\n\u001b[0;32m     62\u001b[0m \u001b[38;5;28;01mdef\u001b[39;00m \u001b[38;5;21mflow_capacity_rule\u001b[39m(model, t, pipe, x, capacity):\n\u001b[1;32m---> 63\u001b[0m     \u001b[38;5;28;01mreturn\u001b[39;00m (\u001b[38;5;241m0\u001b[39m, model\u001b[38;5;241m.\u001b[39mgetattr(\u001b[38;5;124mf\u001b[39m\u001b[38;5;124m\"\u001b[39m\u001b[38;5;124mf_\u001b[39m\u001b[38;5;132;01m{\u001b[39;00mpipe\u001b[38;5;132;01m}\u001b[39;00m\u001b[38;5;124m\"\u001b[39m)[t], capacity \u001b[38;5;241m*\u001b[39m model\u001b[38;5;241m.\u001b[39mgetattr(\u001b[38;5;124mf\u001b[39m\u001b[38;5;124m\"\u001b[39m\u001b[38;5;124mx_\u001b[39m\u001b[38;5;132;01m{\u001b[39;00mpipe\u001b[38;5;132;01m}\u001b[39;00m\u001b[38;5;124m\"\u001b[39m))\n",
      "File \u001b[1;32m~\\anaconda3\\Lib\\site-packages\\pyomo\\core\\base\\block.py:547\u001b[0m, in \u001b[0;36m_BlockData.__getattr__\u001b[1;34m(self, val)\u001b[0m\n\u001b[0;32m    544\u001b[0m     \u001b[38;5;28;01mreturn\u001b[39;00m _component_decorator(\u001b[38;5;28mself\u001b[39m, ModelComponentFactory\u001b[38;5;241m.\u001b[39mget_class(val))\n\u001b[0;32m    545\u001b[0m \u001b[38;5;66;03m# Since the base classes don't support getattr, we can just\u001b[39;00m\n\u001b[0;32m    546\u001b[0m \u001b[38;5;66;03m# throw the \"normal\" AttributeError\u001b[39;00m\n\u001b[1;32m--> 547\u001b[0m \u001b[38;5;28;01mraise\u001b[39;00m \u001b[38;5;167;01mAttributeError\u001b[39;00m(\n\u001b[0;32m    548\u001b[0m     \u001b[38;5;124m\"\u001b[39m\u001b[38;5;124m'\u001b[39m\u001b[38;5;132;01m%s\u001b[39;00m\u001b[38;5;124m'\u001b[39m\u001b[38;5;124m object has no attribute \u001b[39m\u001b[38;5;124m'\u001b[39m\u001b[38;5;132;01m%s\u001b[39;00m\u001b[38;5;124m'\u001b[39m\u001b[38;5;124m\"\u001b[39m \u001b[38;5;241m%\u001b[39m (\u001b[38;5;28mself\u001b[39m\u001b[38;5;241m.\u001b[39m\u001b[38;5;18m__class__\u001b[39m\u001b[38;5;241m.\u001b[39m\u001b[38;5;18m__name__\u001b[39m, val)\n\u001b[0;32m    549\u001b[0m )\n",
      "\u001b[1;31mAttributeError\u001b[0m: 'ConcreteModel' object has no attribute 'getattr'"
     ]
    }
   ],
   "source": [
    "import pyomo.environ as pyo\n",
    "\n",
    "# Sample data for f_in(t) - Replace with actual function or data\n",
    "def f_in_func(t):\n",
    "    # Example: Sinusoidal inflow\n",
    "    return 5 * pyo.sin(t * 3.14159 / 10) + 10 \n",
    "\n",
    "# Model\n",
    "model = pyo.ConcreteModel()\n",
    "\n",
    "# Sets\n",
    "model.T = pyo.RangeSet(1, 10)  # Time steps\n",
    "\n",
    "# Variables\n",
    "# Activation (Binary)\n",
    "model.x_AB = pyo.Var(within=pyo.Binary)\n",
    "model.x_AC = pyo.Var(within=pyo.Binary)\n",
    "model.x_AF = pyo.Var(within=pyo.Binary)\n",
    "model.x_BC = pyo.Var(within=pyo.Binary)\n",
    "model.x_BD = pyo.Var(within=pyo.Binary)\n",
    "model.x_BE = pyo.Var(within=pyo.Binary)\n",
    "model.x_CE = pyo.Var(within=pyo.Binary)\n",
    "model.x_CF = pyo.Var(within=pyo.Binary)\n",
    "model.x_DE = pyo.Var(within=pyo.Binary)\n",
    "model.x_EG = pyo.Var(within=pyo.Binary)\n",
    "model.x_FB = pyo.Var(within=pyo.Binary)\n",
    "model.x_FG = pyo.Var(within=pyo.Binary)\n",
    "\n",
    "# Flow (Continuous)\n",
    "model.f_in = pyo.Var(model.T)\n",
    "model.f_out = pyo.Var(model.T)\n",
    "model.f_AB = pyo.Var(model.T, within=pyo.NonNegativeReals)\n",
    "model.f_AC = pyo.Var(model.T, within=pyo.NonNegativeReals)\n",
    "model.f_AF = pyo.Var(model.T, within=pyo.NonNegativeReals)\n",
    "model.f_BC = pyo.Var(model.T, within=pyo.NonNegativeReals)\n",
    "model.f_BD = pyo.Var(model.T, within=pyo.NonNegativeReals)\n",
    "model.f_BE = pyo.Var(model.T, within=pyo.NonNegativeReals)\n",
    "model.f_CE = pyo.Var(model.T, within=pyo.NonNegativeReals)\n",
    "model.f_CF = pyo.Var(model.T, within=pyo.NonNegativeReals)\n",
    "model.f_DE = pyo.Var(model.T, within=pyo.NonNegativeReals)\n",
    "model.f_EG = pyo.Var(model.T, within=pyo.NonNegativeReals)\n",
    "model.f_FB = pyo.Var(model.T, within=pyo.NonNegativeReals)\n",
    "model.f_FG = pyo.Var(model.T, within=pyo.NonNegativeReals)\n",
    "\n",
    "# Release (Continuous)\n",
    "model.r_B = pyo.Var(model.T, within=pyo.NonNegativeReals)\n",
    "model.r_C = pyo.Var(model.T, within=pyo.NonNegativeReals)\n",
    "model.r_D = pyo.Var(model.T, within=pyo.NonNegativeReals)\n",
    "model.r_E = pyo.Var(model.T, within=pyo.NonNegativeReals)\n",
    "model.r_F = pyo.Var(model.T, within=pyo.NonNegativeReals)\n",
    "\n",
    "# Constraints\n",
    "\n",
    "# 1. Pipe Activation\n",
    "def pipe_activation_rule(model):\n",
    "    return (model.x_AB + model.x_AC + model.x_AF + model.x_BC + model.x_BD + \n",
    "            model.x_BE + model.x_CE + model.x_CF + model.x_DE + model.x_EG + \n",
    "            model.x_FB + model.x_FG == 10)\n",
    "model.pipe_activation_constraint = pyo.Constraint(rule=pipe_activation_rule)\n",
    "\n",
    "# 2. Flow Capacity\n",
    "def flow_capacity_rule(model, t, pipe, x, capacity):\n",
    "    return (0, model.getattr(f\"f_{pipe}\")[t], capacity * model.getattr(f\"x_{pipe}\")) \n",
    "model.flow_capacity_AB = pyo.Constraint(model.T, rule=lambda model, t: flow_capacity_rule(model, t, \"AB\", model.x_AB, 3))\n",
    "model.flow_capacity_AC = pyo.Constraint(model.T, rule=lambda model, t: flow_capacity_rule(model, t, \"AC\", model.x_AC, 6))\n",
    "# ... (similarly for all other pipes)\n",
    "\n",
    "# 3. Flow Conservation at Each Node\n",
    "def node_A_rule(model, t):\n",
    "    return model.f_in[t] == model.f_AB[t] + model.f_AC[t] + model.f_AF[t]\n",
    "model.node_A_constraint = pyo.Constraint(model.T, rule=node_A_rule)\n",
    "\n",
    "def node_B_rule(model, t):\n",
    "    return (model.f_AB[t] + model.f_FB[t] == \n",
    "            model.f_BC[t] + model.f_BD[t] + model.f_BE[t] + model.r_B[t])\n",
    "model.node_B_constraint = pyo.Constraint(model.T, rule=node_B_rule)\n",
    "\n",
    "# ... (similarly for nodes C, D, E, F, G) \n",
    "\n",
    "# Objective Function\n",
    "def objective_rule(model):\n",
    "    return pyo.summation(model.f_out[t] for t in model.T)\n",
    "model.objective = pyo.Objective(rule=objective_rule, sense=pyo.maximize)\n",
    "\n",
    "# Set inflow values using the sample data function\n",
    "for t in model.T:\n",
    "    model.f_in[t] = f_in_func(t)\n",
    "\n",
    "# Solve the model\n",
    "solver = pyo.SolverFactory('cbc')  # Choose a suitable solver\n",
    "results = solver.solve(model)\n",
    "\n",
    "# Print results or access solution information\n",
    "print(results)\n",
    "print(\"Total outflow:\", pyo.value(model.objective)) \n"
   ]
  },
  {
   "cell_type": "code",
   "execution_count": 150,
   "id": "a39efd57",
   "metadata": {
    "scrolled": false
   },
   "outputs": [],
   "source": []
  },
  {
   "cell_type": "markdown",
   "id": "1be0926e",
   "metadata": {},
   "source": [
    "## 5. Correct the code to verify model viability (optional)"
   ]
  },
  {
   "cell_type": "code",
   "execution_count": null,
   "id": "d0c10371",
   "metadata": {},
   "outputs": [],
   "source": []
  },
  {
   "cell_type": "code",
   "execution_count": null,
   "id": "91d4cca3",
   "metadata": {},
   "outputs": [],
   "source": []
  },
  {
   "cell_type": "markdown",
   "id": "dbd7b8a8",
   "metadata": {},
   "source": [
    "## 6. Print the responses"
   ]
  },
  {
   "cell_type": "code",
   "execution_count": 288,
   "id": "c76b7575",
   "metadata": {},
   "outputs": [
    {
     "name": "stdout",
     "output_type": "stream",
     "text": [
      "## Variables:\n",
      "\n",
      "**Binary Variables (Activation):**\n",
      "\n",
      "*  `x_AB`, `x_AC`, `x_AF`, `x_BC`, `x_BD`, `x_BE`, `x_CE`, `x_CF`, `x_DE`, `x_EG`, `x_FB`, `x_FG` \n",
      "    * Each variable represents a pipe. \n",
      "    * Value 1: Pipe is activated.\n",
      "    * Value 0: Pipe is deactivated.\n",
      "\n",
      "**Continuous Variables (Water Flow):**\n",
      "\n",
      "* `f_in(t)`: Water entering the system at point A at time step `t` (calculated from the given function).\n",
      "* `f_out(t)`: Water exiting the system at point G at time step `t`. \n",
      "* `f_AB(t)`, `f_AC(t)`, `f_AF(t)`, `f_BC(t)`, `f_BD(t)`, `f_BE(t)`, `f_CE(t)`, `f_CF(t)`, `f_DE(t)`, `f_EG(t)`, `f_FB(t)`, `f_FG(t)`\n",
      "    * Each variable represents a pipe.\n",
      "    * Represents the water flow through the respective pipe at time step `t`.\n",
      "\n",
      "**Continuous Variables (Water Released):**\n",
      "\n",
      "* `r_B(t)`, `r_C(t)`, `r_D(t)`, `r_E(t)`, `r_F(t)`\n",
      "    * Each variable represents a connection point (B, C, D, E, F).\n",
      "    * Represents the amount of water released at the respective point at time step `t`.\n",
      "\n",
      "**Sets:**\n",
      "\n",
      "*  `T = {1, 2, ..., 10}` (Set of time steps) \n",
      "\n"
     ]
    }
   ],
   "source": [
    "print(response.text)"
   ]
  },
  {
   "cell_type": "code",
   "execution_count": 289,
   "id": "1bb49c6c",
   "metadata": {},
   "outputs": [
    {
     "name": "stdout",
     "output_type": "stream",
     "text": [
      "Maximize: \n",
      "  $$\\sum_{t=1}^{10} f_{out}(t)$$ \n",
      " \n",
      "This objective function directly represents the goal of maximizing the total water flow exiting the system at point G over the 10 time steps. \n",
      "\n"
     ]
    }
   ],
   "source": [
    "print(response2.text)"
   ]
  },
  {
   "cell_type": "code",
   "execution_count": 290,
   "id": "b95499e6",
   "metadata": {},
   "outputs": [
    {
     "name": "stdout",
     "output_type": "stream",
     "text": [
      "## Constraints:\n",
      "\n",
      "**1. Pipe Activation:**\n",
      "\n",
      "*  Only 10 pipes can be activated: \n",
      "   `x_AB + x_AC + x_AF + x_BC + x_BD + x_BE + x_CE + x_CF + x_DE + x_EG + x_FB + x_FG = 10`\n",
      "\n",
      "**2. Flow Capacity:**\n",
      "\n",
      "*  Flow through a pipe cannot exceed its capacity:\n",
      "    * `0 ≤ f_AB(t) ≤ 3x_AB` for all `t` in `T`\n",
      "    * `0 ≤ f_AC(t) ≤ 6x_AC` for all `t` in `T`\n",
      "    * ... (similarly for all other pipes)\n",
      "\n",
      "**3. Flow Conservation at Each Node:**\n",
      "\n",
      "* **Node A:**\n",
      "    * `f_in(t) = f_AB(t) + f_AC(t) + f_AF(t)` for all `t` in `T`\n",
      "* **Node B:**\n",
      "    * `f_AB(t) + f_FB(t) = f_BC(t) + f_BD(t) + f_BE(t) + r_B(t)` for all `t` in `T`\n",
      "* **Node C:**\n",
      "    * `f_AC(t) + f_BC(t) = f_CE(t) + f_CF(t) + r_C(t)` for all `t` in `T`\n",
      "* **Node D:**\n",
      "    * `f_BD(t) + f_DE(t) = r_D(t)` for all `t` in `T` \n",
      "* **Node E:** \n",
      "    * `f_BE(t) + f_CE(t) = f_DE(t) + f_EG(t) + r_E(t)` for all `t` in `T`\n",
      "* **Node F:**\n",
      "    * `f_AF(t) + f_CF(t) = f_FB(t) + f_FG(t) + r_F(t)` for all `t` in `T`\n",
      "* **Node G:**\n",
      "    * `f_EG(t) + f_FG(t) = f_out(t)` for all `t` in `T`\n",
      "\n",
      "**4. Non-negativity of Flow and Release:**\n",
      "\n",
      "* All flow and release variables must be non-negative:\n",
      "    * `f_ij(t) ≥ 0` for all pipes `ij` and all `t` in `T`\n",
      "    * `r_k(t) ≥ 0` for all nodes `k` (B, C, D, E, F) and all `t` in `T` \n",
      "\n"
     ]
    }
   ],
   "source": [
    "print(response3.text)"
   ]
  },
  {
   "cell_type": "code",
   "execution_count": 291,
   "id": "184942d4",
   "metadata": {},
   "outputs": [
    {
     "name": "stdout",
     "output_type": "stream",
     "text": [
      "```python\n",
      "import pyomo.environ as pyo\n",
      "\n",
      "# Sample data for f_in(t) - Replace with actual function or data\n",
      "def f_in_func(t):\n",
      "    # Example: Sinusoidal inflow\n",
      "    return 5 * pyo.sin(t * 3.14159 / 10) + 10 \n",
      "\n",
      "# Model\n",
      "model = pyo.ConcreteModel()\n",
      "\n",
      "# Sets\n",
      "model.T = pyo.RangeSet(1, 10)  # Time steps\n",
      "\n",
      "# Variables\n",
      "# Activation (Binary)\n",
      "model.x_AB = pyo.Var(within=pyo.Binary)\n",
      "model.x_AC = pyo.Var(within=pyo.Binary)\n",
      "model.x_AF = pyo.Var(within=pyo.Binary)\n",
      "model.x_BC = pyo.Var(within=pyo.Binary)\n",
      "model.x_BD = pyo.Var(within=pyo.Binary)\n",
      "model.x_BE = pyo.Var(within=pyo.Binary)\n",
      "model.x_CE = pyo.Var(within=pyo.Binary)\n",
      "model.x_CF = pyo.Var(within=pyo.Binary)\n",
      "model.x_DE = pyo.Var(within=pyo.Binary)\n",
      "model.x_EG = pyo.Var(within=pyo.Binary)\n",
      "model.x_FB = pyo.Var(within=pyo.Binary)\n",
      "model.x_FG = pyo.Var(within=pyo.Binary)\n",
      "\n",
      "# Flow (Continuous)\n",
      "model.f_in = pyo.Var(model.T)\n",
      "model.f_out = pyo.Var(model.T)\n",
      "model.f_AB = pyo.Var(model.T, within=pyo.NonNegativeReals)\n",
      "model.f_AC = pyo.Var(model.T, within=pyo.NonNegativeReals)\n",
      "model.f_AF = pyo.Var(model.T, within=pyo.NonNegativeReals)\n",
      "model.f_BC = pyo.Var(model.T, within=pyo.NonNegativeReals)\n",
      "model.f_BD = pyo.Var(model.T, within=pyo.NonNegativeReals)\n",
      "model.f_BE = pyo.Var(model.T, within=pyo.NonNegativeReals)\n",
      "model.f_CE = pyo.Var(model.T, within=pyo.NonNegativeReals)\n",
      "model.f_CF = pyo.Var(model.T, within=pyo.NonNegativeReals)\n",
      "model.f_DE = pyo.Var(model.T, within=pyo.NonNegativeReals)\n",
      "model.f_EG = pyo.Var(model.T, within=pyo.NonNegativeReals)\n",
      "model.f_FB = pyo.Var(model.T, within=pyo.NonNegativeReals)\n",
      "model.f_FG = pyo.Var(model.T, within=pyo.NonNegativeReals)\n",
      "\n",
      "# Release (Continuous)\n",
      "model.r_B = pyo.Var(model.T, within=pyo.NonNegativeReals)\n",
      "model.r_C = pyo.Var(model.T, within=pyo.NonNegativeReals)\n",
      "model.r_D = pyo.Var(model.T, within=pyo.NonNegativeReals)\n",
      "model.r_E = pyo.Var(model.T, within=pyo.NonNegativeReals)\n",
      "model.r_F = pyo.Var(model.T, within=pyo.NonNegativeReals)\n",
      "\n",
      "# Constraints\n",
      "\n",
      "# 1. Pipe Activation\n",
      "def pipe_activation_rule(model):\n",
      "    return (model.x_AB + model.x_AC + model.x_AF + model.x_BC + model.x_BD + \n",
      "            model.x_BE + model.x_CE + model.x_CF + model.x_DE + model.x_EG + \n",
      "            model.x_FB + model.x_FG == 10)\n",
      "model.pipe_activation_constraint = pyo.Constraint(rule=pipe_activation_rule)\n",
      "\n",
      "# 2. Flow Capacity\n",
      "def flow_capacity_rule(model, t, pipe, x, capacity):\n",
      "    return (0, model.getattr(f\"f_{pipe}\")[t], capacity * model.getattr(f\"x_{pipe}\")) \n",
      "model.flow_capacity_AB = pyo.Constraint(model.T, rule=lambda model, t: flow_capacity_rule(model, t, \"AB\", model.x_AB, 3))\n",
      "model.flow_capacity_AC = pyo.Constraint(model.T, rule=lambda model, t: flow_capacity_rule(model, t, \"AC\", model.x_AC, 6))\n",
      "# ... (similarly for all other pipes)\n",
      "\n",
      "# 3. Flow Conservation at Each Node\n",
      "def node_A_rule(model, t):\n",
      "    return model.f_in[t] == model.f_AB[t] + model.f_AC[t] + model.f_AF[t]\n",
      "model.node_A_constraint = pyo.Constraint(model.T, rule=node_A_rule)\n",
      "\n",
      "def node_B_rule(model, t):\n",
      "    return (model.f_AB[t] + model.f_FB[t] == \n",
      "            model.f_BC[t] + model.f_BD[t] + model.f_BE[t] + model.r_B[t])\n",
      "model.node_B_constraint = pyo.Constraint(model.T, rule=node_B_rule)\n",
      "\n",
      "# ... (similarly for nodes C, D, E, F, G) \n",
      "\n",
      "# Objective Function\n",
      "def objective_rule(model):\n",
      "    return pyo.summation(model.f_out[t] for t in model.T)\n",
      "model.objective = pyo.Objective(rule=objective_rule, sense=pyo.maximize)\n",
      "\n",
      "# Set inflow values using the sample data function\n",
      "for t in model.T:\n",
      "    model.f_in[t] = f_in_func(t)\n",
      "\n",
      "# Solve the model\n",
      "solver = pyo.SolverFactory('cbc')  # Choose a suitable solver\n",
      "results = solver.solve(model)\n",
      "\n",
      "# Print results or access solution information\n",
      "print(results)\n",
      "print(\"Total outflow:\", pyo.value(model.objective)) \n",
      "```\n",
      "\n",
      "**Explanation:**\n",
      "\n",
      "1. **Import Pyomo:** `import pyomo.environ as pyo` imports the Pyomo library.\n",
      "2. **Sample Data:** I've used a sample sinusoidal function for `f_in(t)`. You'll need to replace this with your actual inflow data or function.\n",
      "3. **Model Initialization:** `model = pyo.ConcreteModel()` creates a concrete Pyomo model.\n",
      "4. **Sets:** `model.T = pyo.RangeSet(1, 10)` defines the set of time steps.\n",
      "5. **Variables:**\n",
      "   - **Binary:** `pyo.Var(within=pyo.Binary)` is used to define binary variables (`x_AB`, `x_AC`, etc.).\n",
      "   - **Continuous:** `pyo.Var(model.T, within=pyo.NonNegativeReals)` is used for flow and release variables, which are continuous and non-negative. \n",
      "6. **Constraints:**  Each constraint is defined using a rule function. The `pyo.Constraint()` function applies these rules over the appropriate sets.\n",
      "7. **Objective Function:** The `objective_rule` function defines the objective to maximize, and `pyo.Objective()` creates the objective object.\n",
      "8. **Setting Inflow:** The loop `for t in model.T:` sets the values of `f_in[t]` based on the sample data function.\n",
      "9. **Solving:** A solver is selected (`cbc` in this case) and used to solve the model.\n",
      "10. **Results:** The results are printed, including the total outflow.\n",
      "\n",
      "Remember that this code uses sample data for the inflow (`f_in(t)`). You need to replace the sample function with your actual data or function to obtain meaningful results. Also, you'll likely need to install a suitable solver (like CBC, GLPK, or others) if you haven't already. \n",
      "\n"
     ]
    }
   ],
   "source": [
    "print(response4.text)"
   ]
  },
  {
   "cell_type": "code",
   "execution_count": null,
   "id": "bd046f37",
   "metadata": {},
   "outputs": [],
   "source": []
  }
 ],
 "metadata": {
  "kernelspec": {
   "display_name": "Python 3 (ipykernel)",
   "language": "python",
   "name": "python3"
  },
  "language_info": {
   "codemirror_mode": {
    "name": "ipython",
    "version": 3
   },
   "file_extension": ".py",
   "mimetype": "text/x-python",
   "name": "python",
   "nbconvert_exporter": "python",
   "pygments_lexer": "ipython3",
   "version": "3.11.4"
  }
 },
 "nbformat": 4,
 "nbformat_minor": 5
}
