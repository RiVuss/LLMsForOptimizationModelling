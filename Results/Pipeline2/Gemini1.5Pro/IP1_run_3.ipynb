{
 "cells": [
  {
   "cell_type": "markdown",
   "id": "f0005e9e",
   "metadata": {},
   "source": [
    "# LLM Optimization Modelling Experiment"
   ]
  },
  {
   "cell_type": "code",
   "execution_count": 1,
   "id": "7f664028",
   "metadata": {},
   "outputs": [],
   "source": [
    "import vertexai\n",
    "from vertexai.preview.generative_models import GenerativeModel, Image\n",
    "from IPython.display import Markdown"
   ]
  },
  {
   "cell_type": "markdown",
   "id": "f527d6af",
   "metadata": {},
   "source": [
    "## 1. Define the problem description"
   ]
  },
  {
   "cell_type": "code",
   "execution_count": 45,
   "id": "25055ffd",
   "metadata": {},
   "outputs": [],
   "source": [
    "problem = '''We are delighted to welcome you, our newest intern on the Analytics team of Massachusetts General Hospital! You have been placed in a challenging role where you will be tasked with solving a real-world problem in the field of medical physics. We are building a pilot program in Boston, and if successful, your work could be applied widely in hospitals with limited capacity in many countries.\n",
    "\n",
    "You are responsible for determining the best treatment plan for 17 patients who require radiotherapy. Your goal is to optimize the use of two possible treatments: photon therapy and proton therapy. While proton therapy is known to target tumors more precisely, it is also more expensive and has limited capacity in many countries. Therefore, you will need to balance the benefits of proton therapy with its limitations and cost to create an effective treatment plan for each patient.\n",
    "\n",
    "To determine the best course of action for each patient, you will use a scoring system called the Biological Equivalent Dose (BED). This system allows you to calculate the effectiveness of each patient’s treatment plan by considering the number of proton fractions that can be used while still achieving the highest possible BED.\n",
    "\n",
    "We have n=17 patients who need radiotherapy. Each patient i needs 15 fractions, which can be photon fractions, proton fractions, or a mix of photon and proton fractions (e.g. 4 proton fractions and 11 photon fractions). We want to use the limited proton therapy capacity as best as possible. We can calculate the BED score for each patient when p proton fractions and 15-p photon fractions are used, as BEDi(p,15-p), i.e., the BED when p proton and 15-p photon fractions are delivered for patient i. The higher the score, the better. \n",
    "\n",
    "The data file \"ProblemData.csv\" contains a 2D matrix of BED scores. It does not have an index. It was made in Excel and saved as csv. The columns are the number of proton fractions and each row represents a patient. In particular, the number at the (i,j) position is the score for patient i receiving j proton fractions. \n",
    "\n",
    "Suppose that the total maximal capacity C is 100 proton fractions. To maximize the total BED scores for all the patients, which patients should get proton fractions, and how many should they get? Formulate an integer linear optimization model to solve this problem. Assume you know the value BEDi(j,15-j) for each patient i. '''"
   ]
  },
  {
   "cell_type": "markdown",
   "id": "472cf9ad",
   "metadata": {},
   "source": [
    "## 2. Ask for parameters"
   ]
  },
  {
   "cell_type": "code",
   "execution_count": 93,
   "id": "e31ec80c",
   "metadata": {},
   "outputs": [],
   "source": [
    "#Initializing the session. To replicate, make sure the right credentials are saved in a PATH variable\n",
    "PROJECT_ID = \"llm4optproblems\"\n",
    "REGION = \"us-central1\"\n",
    "vertexai.init(project=PROJECT_ID, location=REGION)\n",
    "\n",
    "#Specifying the model\n",
    "generative_multimodal_model = GenerativeModel(\"gemini-1.5-pro-preview-0409\")\n",
    "\n",
    "#The propmt applied to all problems\n",
    "prompt = '''Please formulate only the variables for this mathematical optimization problem. \n",
    "'''\n",
    "\n",
    "#Generate the response\n",
    "response = generative_multimodal_model.generate_content([prompt+problem])\n"
   ]
  },
  {
   "cell_type": "code",
   "execution_count": 94,
   "id": "f9adc567",
   "metadata": {},
   "outputs": [
    {
     "data": {
      "text/markdown": [
       "## Variables:\n",
       "\n",
       "*  Let  **x<sub>ij</sub>** be a binary variable equal to 1 if patient *i* receives *j* proton fractions, and 0 otherwise, for *i* = 1, ..., 17 and *j* = 0, ..., 15. \n"
      ],
      "text/plain": [
       "<IPython.core.display.Markdown object>"
      ]
     },
     "execution_count": 94,
     "metadata": {},
     "output_type": "execute_result"
    }
   ],
   "source": [
    "#Show the resopnse in a formatted way\n",
    "Markdown(response.text)"
   ]
  },
  {
   "cell_type": "markdown",
   "id": "15d9e89f",
   "metadata": {},
   "source": [
    "# 2. Ask for objective"
   ]
  },
  {
   "cell_type": "code",
   "execution_count": 95,
   "id": "4f357a19",
   "metadata": {},
   "outputs": [],
   "source": [
    "#Second prompt gets the output of the previous step and generates the code\n",
    "prompt2 = \"Please formulate only the objective function for this mathematical optimization problem.\"\n",
    "prompt2 += problem + response.text\n",
    "response2 = generative_multimodal_model.generate_content([prompt2])"
   ]
  },
  {
   "cell_type": "code",
   "execution_count": 96,
   "id": "bccd1014",
   "metadata": {},
   "outputs": [
    {
     "data": {
      "text/markdown": [
       "**Objective function:**\n",
       "\n",
       "Maximize $\\sum_{i=1}^{17} \\sum_{j=0}^{15}  BED_{i}(j, 15-j) \\cdot x_{ij}$ \n"
      ],
      "text/plain": [
       "<IPython.core.display.Markdown object>"
      ]
     },
     "execution_count": 96,
     "metadata": {},
     "output_type": "execute_result"
    }
   ],
   "source": [
    "Markdown(response2.text)"
   ]
  },
  {
   "cell_type": "markdown",
   "id": "d8ab1404",
   "metadata": {},
   "source": [
    "# 3. Ask for constraints"
   ]
  },
  {
   "cell_type": "code",
   "execution_count": 97,
   "id": "e6409951",
   "metadata": {},
   "outputs": [],
   "source": [
    "#Second prompt gets the output of the previous step and generates the code\n",
    "prompt3 = \"Please formulate only the constraints for this mathematical optimization problem.\"\n",
    "prompt3 += problem + response.text + response2.text\n",
    "response3 = generative_multimodal_model.generate_content([prompt3])"
   ]
  },
  {
   "cell_type": "code",
   "execution_count": 98,
   "id": "2f9439c2",
   "metadata": {},
   "outputs": [
    {
     "data": {
      "text/markdown": [
       "## Constraints:\n",
       "\n",
       "1. **One treatment plan per patient:** Each patient can have only one treatment plan (i.e., one specific value of *j* proton fractions).\n",
       "   \n",
       "   $\\sum_{j=0}^{15} x_{ij} = 1,  \\forall i \\in \\{1,...,17\\}$\n",
       "\n",
       "2. **Proton capacity constraint:** The total number of proton fractions assigned to all patients cannot exceed the maximum capacity *C*.\n",
       "\n",
       "   $\\sum_{i=1}^{17} \\sum_{j=0}^{15} j \\cdot x_{ij} \\leq 100$ \n",
       "\n",
       "3. **Binary variable constraint:** \n",
       "\n",
       "   $x_{ij} \\in \\{0,1\\}, \\forall i \\in \\{1,...,17\\}, \\forall j \\in \\{0,...,15\\}$ \n"
      ],
      "text/plain": [
       "<IPython.core.display.Markdown object>"
      ]
     },
     "execution_count": 98,
     "metadata": {},
     "output_type": "execute_result"
    }
   ],
   "source": [
    "Markdown(response3.text)"
   ]
  },
  {
   "cell_type": "code",
   "execution_count": null,
   "id": "07ba7f01",
   "metadata": {},
   "outputs": [],
   "source": []
  },
  {
   "cell_type": "markdown",
   "id": "75796979",
   "metadata": {},
   "source": [
    "## 3. Generate the pyomo code"
   ]
  },
  {
   "cell_type": "code",
   "execution_count": 104,
   "id": "aabea932",
   "metadata": {},
   "outputs": [],
   "source": [
    "#Second prompt gets the output of the previous step and generates the code\n",
    "prompt4 = \"Please write pyomo code for this mathematical problem. Use sample data where needed. Indicate where you use sample data. \\n\"\n",
    "prompt4 += response.text + response2.text + response3.text \n",
    "response4 = generative_multimodal_model.generate_content([prompt4])"
   ]
  },
  {
   "cell_type": "code",
   "execution_count": 105,
   "id": "fd2835af",
   "metadata": {},
   "outputs": [
    {
     "data": {
      "text/markdown": [
       "```python\n",
       "import pyomo.environ as pyo\n",
       "\n",
       "# Sample data\n",
       "BED = {}  # Replace with actual BED values\n",
       "for i in range(1, 18):\n",
       "    for j in range(0, 16):\n",
       "        # Replace with a function to calculate or look up BED values\n",
       "        BED[i, j] = i * j  \n",
       "\n",
       "C = 100  # Maximum proton capacity\n",
       "\n",
       "# Model\n",
       "model = pyo.ConcreteModel()\n",
       "\n",
       "# Sets\n",
       "model.patients = pyo.RangeSet(1, 17)\n",
       "model.fractions = pyo.RangeSet(0, 15)\n",
       "\n",
       "# Variables\n",
       "model.x = pyo.Var(model.patients, model.fractions, within=pyo.Binary)\n",
       "\n",
       "# Objective function\n",
       "def objective_rule(model):\n",
       "    return sum(BED[i, j] * model.x[i, j] for i in model.patients for j in model.fractions)\n",
       "model.obj = pyo.Objective(rule=objective_rule, sense=pyo.maximize)\n",
       "\n",
       "# Constraints\n",
       "def one_treatment_plan_rule(model, i):\n",
       "    return sum(model.x[i, j] for j in model.fractions) == 1\n",
       "model.one_treatment_plan = pyo.Constraint(model.patients, rule=one_treatment_plan_rule)\n",
       "\n",
       "def proton_capacity_rule(model):\n",
       "    return sum(j * model.x[i, j] for i in model.patients for j in model.fractions) <= C\n",
       "model.proton_capacity = pyo.Constraint(rule=proton_capacity_rule)\n",
       "\n",
       "# Solve the model\n",
       "solver = pyo.SolverFactory('glpk')  # Choose a suitable solver\n",
       "solver.solve(model)\n",
       "\n",
       "# Print the solution\n",
       "print(\"Optimal Solution:\")\n",
       "for i in model.patients:\n",
       "    for j in model.fractions:\n",
       "        if pyo.value(model.x[i, j]) > 0.5:\n",
       "            print(f\"Patient {i} receives {j} proton fractions\")\n",
       "```\n",
       "\n",
       "**Explanation:**\n",
       "\n",
       "1. **Sample data:** \n",
       "   -  The `BED` dictionary is defined to store the BED values. You will need to replace the placeholder comment with actual data or a function to calculate/retrieve BED values based on *i* and *j*.\n",
       "   -  The `C` variable represents the maximum proton capacity and is set to 100.\n",
       "\n",
       "2. **Model:** \n",
       "   - A concrete model is created.\n",
       "   - Sets for patients and fractions are defined for clarity and ease of use.\n",
       "\n",
       "3. **Variables:**\n",
       "   - The binary variable `x[i, j]` is defined, representing whether patient *i* receives *j* fractions.\n",
       "\n",
       "4. **Objective function:** \n",
       "   - The objective is to maximize the total BED, which is calculated by summing over all patients and fractions.\n",
       "\n",
       "5. **Constraints:** \n",
       "   - `one_treatment_plan`: Ensures each patient receives exactly one treatment plan (one specific value of *j*).\n",
       "   - `proton_capacity`: Limits the total number of proton fractions assigned to all patients to be less than or equal to the capacity *C*.\n",
       "\n",
       "6. **Solver:** \n",
       "   - A solver ('glpk' in this example) is selected to solve the model. You can choose a different solver based on availability and performance.\n",
       "\n",
       "7. **Solution:** \n",
       "   - The code prints the optimal solution, indicating the number of proton fractions assigned to each patient.\n",
       "\n",
       "Remember that this code is a starting point and you need to provide the real BED data for it to be functional.\n"
      ],
      "text/plain": [
       "<IPython.core.display.Markdown object>"
      ]
     },
     "execution_count": 105,
     "metadata": {},
     "output_type": "execute_result"
    }
   ],
   "source": [
    "#Showing the code in a formatted way\n",
    "Markdown(response4.text)"
   ]
  },
  {
   "cell_type": "markdown",
   "id": "b60756ae",
   "metadata": {},
   "source": [
    "## 4. Input problem data and try running the generated code"
   ]
  },
  {
   "cell_type": "code",
   "execution_count": 108,
   "id": "41ed7d93",
   "metadata": {},
   "outputs": [
    {
     "name": "stdout",
     "output_type": "stream",
     "text": [
      "Optimal Solution:\n",
      "Patient 1 receives 8 proton fractions\n",
      "Patient 2 receives 8 proton fractions\n",
      "Patient 3 receives 3 proton fractions\n",
      "Patient 4 receives 0 proton fractions\n",
      "Patient 5 receives 5 proton fractions\n",
      "Patient 6 receives 0 proton fractions\n",
      "Patient 7 receives 4 proton fractions\n",
      "Patient 8 receives 15 proton fractions\n",
      "Patient 9 receives 4 proton fractions\n",
      "Patient 10 receives 5 proton fractions\n",
      "Patient 11 receives 6 proton fractions\n",
      "Patient 12 receives 0 proton fractions\n",
      "Patient 13 receives 10 proton fractions\n",
      "Patient 14 receives 0 proton fractions\n",
      "Patient 15 receives 10 proton fractions\n",
      "Patient 16 receives 10 proton fractions\n",
      "Patient 17 receives 12 proton fractions\n",
      "8.239999999999998\n"
     ]
    }
   ],
   "source": [
    "import pyomo.environ as pyo\n",
    "\n",
    "# Sample data\n",
    "# BED = {}  # Replace with actual BED values\n",
    "# for i in range(1, 18):\n",
    "#     for j in range(0, 16):\n",
    "#         # Replace with a function to calculate or look up BED values\n",
    "#         BED[i, j] = i * j  \n",
    "#Data input done by human\n",
    "df = pd.read_csv('ProblemData.csv', header=None)\n",
    "BED = {}\n",
    "for i, row in df.iterrows():\n",
    "    for j, dose in enumerate(row):\n",
    "        BED[(i+1, j)] = dose\n",
    "#End\n",
    "\n",
    "\n",
    "C = 100  # Maximum proton capacity\n",
    "\n",
    "# Model\n",
    "model = pyo.ConcreteModel()\n",
    "\n",
    "# Sets\n",
    "model.patients = pyo.RangeSet(1, 17)\n",
    "model.fractions = pyo.RangeSet(0, 15)\n",
    "\n",
    "# Variables\n",
    "model.x = pyo.Var(model.patients, model.fractions, within=pyo.Binary)\n",
    "\n",
    "# Objective function\n",
    "def objective_rule(model):\n",
    "    return sum(BED[i, j] * model.x[i, j] for i in model.patients for j in model.fractions)\n",
    "model.obj = pyo.Objective(rule=objective_rule, sense=pyo.maximize)\n",
    "\n",
    "# Constraints\n",
    "def one_treatment_plan_rule(model, i):\n",
    "    return sum(model.x[i, j] for j in model.fractions) == 1\n",
    "model.one_treatment_plan = pyo.Constraint(model.patients, rule=one_treatment_plan_rule)\n",
    "\n",
    "def proton_capacity_rule(model):\n",
    "    return sum(j * model.x[i, j] for i in model.patients for j in model.fractions) <= C\n",
    "model.proton_capacity = pyo.Constraint(rule=proton_capacity_rule)\n",
    "\n",
    "# Solve the model\n",
    "solver = pyo.SolverFactory('glpk')  # Choose a suitable solver\n",
    "solver.solve(model)\n",
    "\n",
    "# Print the solution\n",
    "print(\"Optimal Solution:\")\n",
    "for i in model.patients:\n",
    "    for j in model.fractions:\n",
    "        if pyo.value(model.x[i, j]) > 0.5:\n",
    "            print(f\"Patient {i} receives {j} proton fractions\")\n",
    "            \n",
    "print(model.obj())"
   ]
  },
  {
   "cell_type": "markdown",
   "id": "1be0926e",
   "metadata": {},
   "source": [
    "## 5. Correct the code to verify model viability (optional)"
   ]
  },
  {
   "cell_type": "code",
   "execution_count": 86,
   "id": "8b37acfc",
   "metadata": {},
   "outputs": [
    {
     "data": {
      "text/plain": [
       "{(1, 0): 0,\n",
       " (1, 1): 1,\n",
       " (1, 2): 2,\n",
       " (1, 3): 3,\n",
       " (1, 4): 4,\n",
       " (1, 5): 5,\n",
       " (1, 6): 6,\n",
       " (1, 7): 7,\n",
       " (1, 8): 8,\n",
       " (1, 9): 9,\n",
       " (1, 10): 10,\n",
       " (1, 11): 11,\n",
       " (1, 12): 12,\n",
       " (1, 13): 13,\n",
       " (1, 14): 14,\n",
       " (1, 15): 15,\n",
       " (2, 0): 0,\n",
       " (2, 1): 2,\n",
       " (2, 2): 4,\n",
       " (2, 3): 6,\n",
       " (2, 4): 8,\n",
       " (2, 5): 10,\n",
       " (2, 6): 12,\n",
       " (2, 7): 14,\n",
       " (2, 8): 16,\n",
       " (2, 9): 18,\n",
       " (2, 10): 20,\n",
       " (2, 11): 22,\n",
       " (2, 12): 24,\n",
       " (2, 13): 26,\n",
       " (2, 14): 28,\n",
       " (2, 15): 30,\n",
       " (3, 0): 0,\n",
       " (3, 1): 3,\n",
       " (3, 2): 6,\n",
       " (3, 3): 9,\n",
       " (3, 4): 12,\n",
       " (3, 5): 15,\n",
       " (3, 6): 18,\n",
       " (3, 7): 21,\n",
       " (3, 8): 24,\n",
       " (3, 9): 27,\n",
       " (3, 10): 30,\n",
       " (3, 11): 33,\n",
       " (3, 12): 36,\n",
       " (3, 13): 39,\n",
       " (3, 14): 42,\n",
       " (3, 15): 45,\n",
       " (4, 0): 0,\n",
       " (4, 1): 4,\n",
       " (4, 2): 8,\n",
       " (4, 3): 12,\n",
       " (4, 4): 16,\n",
       " (4, 5): 20,\n",
       " (4, 6): 24,\n",
       " (4, 7): 28,\n",
       " (4, 8): 32,\n",
       " (4, 9): 36,\n",
       " (4, 10): 40,\n",
       " (4, 11): 44,\n",
       " (4, 12): 48,\n",
       " (4, 13): 52,\n",
       " (4, 14): 56,\n",
       " (4, 15): 60,\n",
       " (5, 0): 0,\n",
       " (5, 1): 5,\n",
       " (5, 2): 10,\n",
       " (5, 3): 15,\n",
       " (5, 4): 20,\n",
       " (5, 5): 25,\n",
       " (5, 6): 30,\n",
       " (5, 7): 35,\n",
       " (5, 8): 40,\n",
       " (5, 9): 45,\n",
       " (5, 10): 50,\n",
       " (5, 11): 55,\n",
       " (5, 12): 60,\n",
       " (5, 13): 65,\n",
       " (5, 14): 70,\n",
       " (5, 15): 75,\n",
       " (6, 0): 0,\n",
       " (6, 1): 6,\n",
       " (6, 2): 12,\n",
       " (6, 3): 18,\n",
       " (6, 4): 24,\n",
       " (6, 5): 30,\n",
       " (6, 6): 36,\n",
       " (6, 7): 42,\n",
       " (6, 8): 48,\n",
       " (6, 9): 54,\n",
       " (6, 10): 60,\n",
       " (6, 11): 66,\n",
       " (6, 12): 72,\n",
       " (6, 13): 78,\n",
       " (6, 14): 84,\n",
       " (6, 15): 90,\n",
       " (7, 0): 0,\n",
       " (7, 1): 7,\n",
       " (7, 2): 14,\n",
       " (7, 3): 21,\n",
       " (7, 4): 28,\n",
       " (7, 5): 35,\n",
       " (7, 6): 42,\n",
       " (7, 7): 49,\n",
       " (7, 8): 56,\n",
       " (7, 9): 63,\n",
       " (7, 10): 70,\n",
       " (7, 11): 77,\n",
       " (7, 12): 84,\n",
       " (7, 13): 91,\n",
       " (7, 14): 98,\n",
       " (7, 15): 105,\n",
       " (8, 0): 0,\n",
       " (8, 1): 8,\n",
       " (8, 2): 16,\n",
       " (8, 3): 24,\n",
       " (8, 4): 32,\n",
       " (8, 5): 40,\n",
       " (8, 6): 48,\n",
       " (8, 7): 56,\n",
       " (8, 8): 64,\n",
       " (8, 9): 72,\n",
       " (8, 10): 80,\n",
       " (8, 11): 88,\n",
       " (8, 12): 96,\n",
       " (8, 13): 104,\n",
       " (8, 14): 112,\n",
       " (8, 15): 120,\n",
       " (9, 0): 0,\n",
       " (9, 1): 9,\n",
       " (9, 2): 18,\n",
       " (9, 3): 27,\n",
       " (9, 4): 36,\n",
       " (9, 5): 45,\n",
       " (9, 6): 54,\n",
       " (9, 7): 63,\n",
       " (9, 8): 72,\n",
       " (9, 9): 81,\n",
       " (9, 10): 90,\n",
       " (9, 11): 99,\n",
       " (9, 12): 108,\n",
       " (9, 13): 117,\n",
       " (9, 14): 126,\n",
       " (9, 15): 135,\n",
       " (10, 0): 0,\n",
       " (10, 1): 10,\n",
       " (10, 2): 20,\n",
       " (10, 3): 30,\n",
       " (10, 4): 40,\n",
       " (10, 5): 50,\n",
       " (10, 6): 60,\n",
       " (10, 7): 70,\n",
       " (10, 8): 80,\n",
       " (10, 9): 90,\n",
       " (10, 10): 100,\n",
       " (10, 11): 110,\n",
       " (10, 12): 120,\n",
       " (10, 13): 130,\n",
       " (10, 14): 140,\n",
       " (10, 15): 150,\n",
       " (11, 0): 0,\n",
       " (11, 1): 11,\n",
       " (11, 2): 22,\n",
       " (11, 3): 33,\n",
       " (11, 4): 44,\n",
       " (11, 5): 55,\n",
       " (11, 6): 66,\n",
       " (11, 7): 77,\n",
       " (11, 8): 88,\n",
       " (11, 9): 99,\n",
       " (11, 10): 110,\n",
       " (11, 11): 121,\n",
       " (11, 12): 132,\n",
       " (11, 13): 143,\n",
       " (11, 14): 154,\n",
       " (11, 15): 165,\n",
       " (12, 0): 0,\n",
       " (12, 1): 12,\n",
       " (12, 2): 24,\n",
       " (12, 3): 36,\n",
       " (12, 4): 48,\n",
       " (12, 5): 60,\n",
       " (12, 6): 72,\n",
       " (12, 7): 84,\n",
       " (12, 8): 96,\n",
       " (12, 9): 108,\n",
       " (12, 10): 120,\n",
       " (12, 11): 132,\n",
       " (12, 12): 144,\n",
       " (12, 13): 156,\n",
       " (12, 14): 168,\n",
       " (12, 15): 180,\n",
       " (13, 0): 0,\n",
       " (13, 1): 13,\n",
       " (13, 2): 26,\n",
       " (13, 3): 39,\n",
       " (13, 4): 52,\n",
       " (13, 5): 65,\n",
       " (13, 6): 78,\n",
       " (13, 7): 91,\n",
       " (13, 8): 104,\n",
       " (13, 9): 117,\n",
       " (13, 10): 130,\n",
       " (13, 11): 143,\n",
       " (13, 12): 156,\n",
       " (13, 13): 169,\n",
       " (13, 14): 182,\n",
       " (13, 15): 195,\n",
       " (14, 0): 0,\n",
       " (14, 1): 14,\n",
       " (14, 2): 28,\n",
       " (14, 3): 42,\n",
       " (14, 4): 56,\n",
       " (14, 5): 70,\n",
       " (14, 6): 84,\n",
       " (14, 7): 98,\n",
       " (14, 8): 112,\n",
       " (14, 9): 126,\n",
       " (14, 10): 140,\n",
       " (14, 11): 154,\n",
       " (14, 12): 168,\n",
       " (14, 13): 182,\n",
       " (14, 14): 196,\n",
       " (14, 15): 210,\n",
       " (15, 0): 0,\n",
       " (15, 1): 15,\n",
       " (15, 2): 30,\n",
       " (15, 3): 45,\n",
       " (15, 4): 60,\n",
       " (15, 5): 75,\n",
       " (15, 6): 90,\n",
       " (15, 7): 105,\n",
       " (15, 8): 120,\n",
       " (15, 9): 135,\n",
       " (15, 10): 150,\n",
       " (15, 11): 165,\n",
       " (15, 12): 180,\n",
       " (15, 13): 195,\n",
       " (15, 14): 210,\n",
       " (15, 15): 225,\n",
       " (16, 0): 0,\n",
       " (16, 1): 16,\n",
       " (16, 2): 32,\n",
       " (16, 3): 48,\n",
       " (16, 4): 64,\n",
       " (16, 5): 80,\n",
       " (16, 6): 96,\n",
       " (16, 7): 112,\n",
       " (16, 8): 128,\n",
       " (16, 9): 144,\n",
       " (16, 10): 160,\n",
       " (16, 11): 176,\n",
       " (16, 12): 192,\n",
       " (16, 13): 208,\n",
       " (16, 14): 224,\n",
       " (16, 15): 240,\n",
       " (17, 0): 0,\n",
       " (17, 1): 17,\n",
       " (17, 2): 34,\n",
       " (17, 3): 51,\n",
       " (17, 4): 68,\n",
       " (17, 5): 85,\n",
       " (17, 6): 102,\n",
       " (17, 7): 119,\n",
       " (17, 8): 136,\n",
       " (17, 9): 153,\n",
       " (17, 10): 170,\n",
       " (17, 11): 187,\n",
       " (17, 12): 204,\n",
       " (17, 13): 221,\n",
       " (17, 14): 238,\n",
       " (17, 15): 255}"
      ]
     },
     "execution_count": 86,
     "metadata": {},
     "output_type": "execute_result"
    }
   ],
   "source": [
    "BED"
   ]
  },
  {
   "cell_type": "markdown",
   "id": "6a410ada",
   "metadata": {},
   "source": [
    "## 6. Print the responses"
   ]
  },
  {
   "cell_type": "code",
   "execution_count": 89,
   "id": "9d2a60ab",
   "metadata": {},
   "outputs": [
    {
     "data": {
      "text/plain": [
       "'## Variables:\\n\\n* **x<sub>ij</sub>:** Binary variable equal to 1 if patient i receives j proton fractions and 0 otherwise, for i = 1,...,17 and j = 0,...,15. \\n'"
      ]
     },
     "execution_count": 89,
     "metadata": {},
     "output_type": "execute_result"
    }
   ],
   "source": [
    "response.text"
   ]
  },
  {
   "cell_type": "code",
   "execution_count": 90,
   "id": "9ed36e9c",
   "metadata": {},
   "outputs": [
    {
     "data": {
      "text/plain": [
       "'$$\\\\max \\\\sum_{i=1}^{17} \\\\sum_{j=0}^{15} BED_i(j, 15-j) \\\\cdot x_{ij}$$ \\n'"
      ]
     },
     "execution_count": 90,
     "metadata": {},
     "output_type": "execute_result"
    }
   ],
   "source": [
    "response2.text"
   ]
  },
  {
   "cell_type": "code",
   "execution_count": 91,
   "id": "eb35838a",
   "metadata": {},
   "outputs": [
    {
     "data": {
      "text/plain": [
       "'Constraints:\\n\\n* **Capacity Constraint:** The total number of proton fractions assigned to patients cannot exceed the available capacity:\\n  $$\\\\sum_{i=1}^{17} \\\\sum_{j=0}^{15} j \\\\cdot x_{ij} \\\\le 100$$\\n\\n* **Treatment Plan Uniqueness:** Each patient can only have one treatment plan (i.e., a specific number of proton fractions):\\n  $$\\\\sum_{j=0}^{15} x_{ij} = 1, \\\\quad \\\\forall i = 1, ..., 17$$\\n\\n* **Binary Variable Constraint:**\\n  $$x_{ij} \\\\in \\\\{0, 1\\\\}, \\\\quad \\\\forall i = 1, ..., 17, \\\\quad j = 0, ..., 15$$ \\n'"
      ]
     },
     "execution_count": 91,
     "metadata": {},
     "output_type": "execute_result"
    }
   ],
   "source": [
    "response3.text"
   ]
  },
  {
   "cell_type": "code",
   "execution_count": 92,
   "id": "2c0613ee",
   "metadata": {},
   "outputs": [
    {
     "data": {
      "text/plain": [
       "'```python\\nimport pyomo.environ as pyo\\n\\n# Sample Data - Replace with actual data if available\\nBED = {} \\nfor i in range(1, 18):  \\n    for j in range(0, 16):\\n        # Replace with actual BED calculation based on i and j\\n        BED[i, j] = i * j  \\n\\n# Model\\nmodel = pyo.ConcreteModel()\\n\\n# Sets\\nmodel.I = pyo.RangeSet(1, 17) # Set of patients\\nmodel.J = pyo.RangeSet(0, 15) # Set of possible proton fractions\\n\\n# Variables\\nmodel.x = pyo.Var(model.I, model.J, within=pyo.Binary)\\n\\n# Objective function\\ndef objective_rule(model):\\n    return sum(BED[i, j] * model.x[i, j] for i in model.I for j in model.J)\\nmodel.obj = pyo.Objective(rule=objective_rule, sense=pyo.maximize)\\n\\n# Constraints\\ndef capacity_constraint(model):\\n    return sum(j * model.x[i, j] for i in model.I for j in model.J) <= 100\\nmodel.capacity = pyo.Constraint(rule=capacity_constraint)\\n\\ndef treatment_plan_constraint(model, i):\\n    return sum(model.x[i, j] for j in model.J) == 1\\nmodel.treatment_plan = pyo.Constraint(model.I, rule=treatment_plan_constraint)\\n\\n# Solve the model\\nsolver = pyo.SolverFactory(\\'cbc\\') # Choose a suitable solver\\nsolver.solve(model)\\n\\n# Print results\\nprint(\"Optimal Solution:\")\\nfor i in model.I:\\n    for j in model.J:\\n        if pyo.value(model.x[i, j]) == 1:\\n            print(f\"Patient {i} receives {j} proton fractions\")\\n```\\n\\n**Explanation:**\\n\\n1. **Import Pyomo:** Imports the Pyomo library.\\n2. **Sample Data:** This section creates sample data for the BED values. You\\'ll need to replace this with your actual BED calculation based on the patient (i) and the number of proton fractions (j).\\n3. **Model Initialization:** Creates a concrete model in Pyomo.\\n4. **Sets:** Defines the sets of patients (I) and possible proton fractions (J).\\n5. **Variables:** Defines the binary variable `x[i, j]`.\\n6. **Objective Function:** Defines the objective function to maximize the total BED.\\n7. **Constraints:** \\n   - `capacity_constraint`: Limits the total proton fractions assigned.\\n   - `treatment_plan_constraint`: Ensures each patient receives only one treatment plan.\\n8. **Solver:** Selects a solver (here, CBC) and solves the model.\\n9. **Print Results:** Prints the optimal treatment plan for each patient.\\n\\nRemember to install Pyomo and a suitable solver before running this code. You\\'ll also need to replace the sample BED data with your actual data. \\n'"
      ]
     },
     "execution_count": 92,
     "metadata": {},
     "output_type": "execute_result"
    }
   ],
   "source": [
    "response4.text"
   ]
  }
 ],
 "metadata": {
  "kernelspec": {
   "display_name": "Python 3 (ipykernel)",
   "language": "python",
   "name": "python3"
  },
  "language_info": {
   "codemirror_mode": {
    "name": "ipython",
    "version": 3
   },
   "file_extension": ".py",
   "mimetype": "text/x-python",
   "name": "python",
   "nbconvert_exporter": "python",
   "pygments_lexer": "ipython3",
   "version": "3.11.4"
  }
 },
 "nbformat": 4,
 "nbformat_minor": 5
}
