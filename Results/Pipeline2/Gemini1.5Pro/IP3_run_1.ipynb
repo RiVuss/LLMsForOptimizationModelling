{
 "cells": [
  {
   "cell_type": "markdown",
   "id": "f0005e9e",
   "metadata": {},
   "source": [
    "# LLM Optimization Modelling Experiment"
   ]
  },
  {
   "cell_type": "code",
   "execution_count": 1,
   "id": "7f664028",
   "metadata": {},
   "outputs": [],
   "source": [
    "import vertexai\n",
    "from vertexai.preview.generative_models import GenerativeModel, Image\n",
    "from IPython.display import Markdown"
   ]
  },
  {
   "cell_type": "markdown",
   "id": "f527d6af",
   "metadata": {},
   "source": [
    "## 1. Define the problem description"
   ]
  },
  {
   "cell_type": "code",
   "execution_count": 595,
   "id": "25055ffd",
   "metadata": {},
   "outputs": [],
   "source": [
    "problem = '''You are the person in charge of packing in a large company. Your job is to skillfully pack items of various weights in a box with predetermined capacity. The objective is to use as few boxes as possible. There is a set of items and a set of boxes with an upper bound on the amount of boxes. Each of the items has a known weight. Each item is packed into one box and items are packed into the chosen boxes. Please formulate a mathematical optimization model for this problem.   '''"
   ]
  },
  {
   "cell_type": "markdown",
   "id": "472cf9ad",
   "metadata": {},
   "source": [
    "## 2. Ask for parameters"
   ]
  },
  {
   "cell_type": "code",
   "execution_count": 596,
   "id": "e31ec80c",
   "metadata": {},
   "outputs": [],
   "source": [
    "#Initializing the session. To replicate, make sure the right credentials are saved in a PATH variable\n",
    "PROJECT_ID = \"llm4optproblems\"\n",
    "REGION = \"us-central1\"\n",
    "vertexai.init(project=PROJECT_ID, location=REGION)\n",
    "\n",
    "#Specifying the model\n",
    "generative_multimodal_model = GenerativeModel(\"gemini-1.5-pro-preview-0409\")\n",
    "\n",
    "#The propmt applied to all problems\n",
    "prompt = '''Please formulate only the variables for this mathematical optimization problem. \n",
    "'''\n",
    "\n",
    "#Generate the response\n",
    "response = generative_multimodal_model.generate_content([prompt+problem])\n"
   ]
  },
  {
   "cell_type": "code",
   "execution_count": 597,
   "id": "f9adc567",
   "metadata": {},
   "outputs": [
    {
     "data": {
      "text/markdown": [
       "### Sets:\n",
       "*  $I$: Set of items\n",
       "*  $J$: Set of boxes\n",
       "\n",
       "### Parameters:\n",
       "*  $w_i$: Weight of item $i \\in I$\n",
       "*  $C$: Capacity of each box \n",
       "*  $N$: Upper bound on the number of boxes \n",
       "\n",
       "### Decision Variables:\n",
       "*  $x_{ij}$: Binary variable equal to 1 if item  $i \\in I$ is assigned to box $j \\in J$, and 0 otherwise \n",
       "*  $y_j$: Binary variable equal to 1 if box $j \\in J$ is used, and 0 otherwise \n"
      ],
      "text/plain": [
       "<IPython.core.display.Markdown object>"
      ]
     },
     "execution_count": 597,
     "metadata": {},
     "output_type": "execute_result"
    }
   ],
   "source": [
    "#Show the resopnse in a formatted way\n",
    "Markdown(response.text)"
   ]
  },
  {
   "cell_type": "markdown",
   "id": "15d9e89f",
   "metadata": {},
   "source": [
    "# 2. Ask for objective"
   ]
  },
  {
   "cell_type": "code",
   "execution_count": 598,
   "id": "4f357a19",
   "metadata": {},
   "outputs": [],
   "source": [
    "#Second prompt gets the output of the previous step and generates the code\n",
    "prompt2 = \"Please formulate only the objective function for this mathematical optimization problem.\"\n",
    "prompt2 += problem + response.text\n",
    "response2 = generative_multimodal_model.generate_content([prompt2])"
   ]
  },
  {
   "cell_type": "code",
   "execution_count": 599,
   "id": "bccd1014",
   "metadata": {},
   "outputs": [
    {
     "data": {
      "text/markdown": [
       "Minimize $\\sum_{j \\in J} y_j$ \n"
      ],
      "text/plain": [
       "<IPython.core.display.Markdown object>"
      ]
     },
     "execution_count": 599,
     "metadata": {},
     "output_type": "execute_result"
    }
   ],
   "source": [
    "Markdown(response2.text)"
   ]
  },
  {
   "cell_type": "markdown",
   "id": "d8ab1404",
   "metadata": {},
   "source": [
    "# 3. Ask for constraints"
   ]
  },
  {
   "cell_type": "code",
   "execution_count": 600,
   "id": "e6409951",
   "metadata": {},
   "outputs": [],
   "source": [
    "#Second prompt gets the output of the previous step and generates the code\n",
    "prompt3 = \"Please formulate only the constraints for this mathematical optimization problem.\"\n",
    "prompt3 += problem + response.text + response2.text\n",
    "response3 = generative_multimodal_model.generate_content([prompt3])"
   ]
  },
  {
   "cell_type": "code",
   "execution_count": 601,
   "id": "2f9439c2",
   "metadata": {},
   "outputs": [
    {
     "data": {
      "text/markdown": [
       "## Constraints:\n",
       "\n",
       "1. **Each item must be assigned to exactly one box:**\n",
       "   $$ \\sum_{j \\in J} x_{ij} = 1, \\quad \\forall i \\in I$$\n",
       "\n",
       "2. **Capacity constraint of each box:**\n",
       "   $$ \\sum_{i \\in I} w_i x_{ij} \\le C y_j, \\quad \\forall j \\in J$$\n",
       "\n",
       "3. **Limit on the number of boxes:**\n",
       "   $$ \\sum_{j \\in J} y_j \\le N$$\n",
       "\n",
       "4. **Decision variables are binary:**\n",
       "   $$ x_{ij} \\in \\{0,1\\}, \\quad \\forall i \\in I, \\forall j \\in J$$\n",
       "   $$ y_j \\in \\{0,1\\}, \\quad \\forall j \\in J $$ \n"
      ],
      "text/plain": [
       "<IPython.core.display.Markdown object>"
      ]
     },
     "execution_count": 601,
     "metadata": {},
     "output_type": "execute_result"
    }
   ],
   "source": [
    "Markdown(response3.text)"
   ]
  },
  {
   "cell_type": "markdown",
   "id": "75796979",
   "metadata": {},
   "source": [
    "## 3. Generate the pyomo code"
   ]
  },
  {
   "cell_type": "code",
   "execution_count": 602,
   "id": "aabea932",
   "metadata": {},
   "outputs": [],
   "source": [
    "#Second prompt gets the output of the previous step and generates the code\n",
    "prompt4 = \"Please write pyomo code for this mathematical problem. Use sample data where needed. Indicate where you use sample data. \\n\"\n",
    "prompt4 += response.text + response2.text + response3.text \n",
    "response4 = generative_multimodal_model.generate_content([prompt4])"
   ]
  },
  {
   "cell_type": "code",
   "execution_count": 603,
   "id": "9c0da928",
   "metadata": {
    "scrolled": false
   },
   "outputs": [
    {
     "data": {
      "text/markdown": [
       "```python\n",
       "import pyomo.environ as pyo\n",
       "\n",
       "# Sample data (You can replace this with your actual data)\n",
       "items = ['A', 'B', 'C', 'D']  # Set of items I\n",
       "boxes = ['Box1', 'Box2', 'Box3']  # Set of boxes J\n",
       "weights = {'A': 5, 'B': 3, 'C': 7, 'D': 2}  # Weights of items w_i\n",
       "capacity = 10  # Capacity of each box C\n",
       "max_boxes = 3  # Upper bound on the number of boxes N\n",
       "\n",
       "# Model\n",
       "model = pyo.ConcreteModel()\n",
       "\n",
       "# Sets\n",
       "model.I = pyo.Set(initialize=items)\n",
       "model.J = pyo.Set(initialize=boxes)\n",
       "\n",
       "# Parameters\n",
       "model.w = pyo.Param(model.I, initialize=weights)\n",
       "model.C = pyo.Param(initialize=capacity)\n",
       "model.N = pyo.Param(initialize=max_boxes)\n",
       "\n",
       "# Decision variables\n",
       "model.x = pyo.Var(model.I, model.J, domain=pyo.Binary)  # Assignment of items to boxes\n",
       "model.y = pyo.Var(model.J, domain=pyo.Binary)  # Usage of boxes\n",
       "\n",
       "# Objective function\n",
       "model.obj = pyo.Objective(expr=pyo.summation(model.y), sense=pyo.minimize)\n",
       "\n",
       "# Constraints\n",
       "# Each item must be assigned to exactly one box\n",
       "model.constraint1 = pyo.ConstraintList()\n",
       "for i in model.I:\n",
       "    model.constraint1.add(expr=sum(model.x[i, j] for j in model.J) == 1)\n",
       "\n",
       "# Capacity constraint of each box\n",
       "model.constraint2 = pyo.ConstraintList()\n",
       "for j in model.J:\n",
       "    model.constraint2.add(\n",
       "        expr=sum(model.w[i] * model.x[i, j] for i in model.I) <= model.C * model.y[j]\n",
       "    )\n",
       "\n",
       "# Limit on the number of boxes\n",
       "model.constraint3 = pyo.Constraint(expr=pyo.summation(model.y) <= model.N)\n",
       "\n",
       "# Solve the model\n",
       "solver = pyo.SolverFactory('glpk')  # You can use other solvers like 'cbc', 'gurobi', etc.\n",
       "solver.solve(model)\n",
       "\n",
       "# Print the solution\n",
       "print(\"Optimal solution:\")\n",
       "for j in model.J:\n",
       "    if pyo.value(model.y[j]) > 0:\n",
       "        print(f\"Box {j}:\")\n",
       "        for i in model.I:\n",
       "            if pyo.value(model.x[i, j]) > 0:\n",
       "                print(f\"  Item {i} (weight={model.w[i]})\")\n",
       "```\n",
       "\n",
       "This code defines the model, sets, parameters, decision variables, objective function, and constraints as described in the problem statement. \n",
       "\n",
       "**Explanation of sample data:**\n",
       "* **items:**  A list of item identifiers (e.g., 'A', 'B', etc.)\n",
       "* **boxes:** A list of box identifiers (e.g., 'Box1', 'Box2', etc.)\n",
       "* **weights:** A dictionary mapping each item to its weight.\n",
       "* **capacity:**  The capacity of each box.\n",
       "* **max_boxes:** The maximum number of boxes allowed. \n",
       "\n",
       "You can replace the sample data with your actual data to solve your specific instance of the problem. \n"
      ],
      "text/plain": [
       "<IPython.core.display.Markdown object>"
      ]
     },
     "execution_count": 603,
     "metadata": {},
     "output_type": "execute_result"
    }
   ],
   "source": [
    "## Showing the code in a formatted way\n",
    "Markdown(response4.text)"
   ]
  },
  {
   "cell_type": "markdown",
   "id": "b60756ae",
   "metadata": {},
   "source": [
    "## 4. Input problem data and try running the generated code"
   ]
  },
  {
   "cell_type": "code",
   "execution_count": 604,
   "id": "854fed6f",
   "metadata": {},
   "outputs": [
    {
     "name": "stdout",
     "output_type": "stream",
     "text": [
      "Optimal solution:\n",
      "Box 1:\n",
      "  Item 23 (weight=8)\n",
      "Box 2:\n",
      "  Item 3 (weight=2)\n",
      "  Item 21 (weight=7)\n",
      "Box 3:\n",
      "  Item 22 (weight=7)\n",
      "Box 4:\n",
      "  Item 4 (weight=2)\n",
      "  Item 16 (weight=5)\n",
      "Box 5:\n",
      "  Item 2 (weight=2)\n",
      "  Item 20 (weight=6)\n",
      "Box 6:\n",
      "  Item 1 (weight=2)\n",
      "  Item 6 (weight=3)\n",
      "  Item 12 (weight=4)\n",
      "Box 7:\n",
      "  Item 10 (weight=4)\n",
      "  Item 14 (weight=5)\n",
      "Box 8:\n",
      "  Item 7 (weight=4)\n",
      "  Item 18 (weight=5)\n",
      "Box 9:\n",
      "  Item 9 (weight=4)\n",
      "  Item 17 (weight=5)\n",
      "Box 10:\n",
      "  Item 11 (weight=4)\n",
      "  Item 15 (weight=5)\n",
      "Box 11:\n",
      "  Item 5 (weight=3)\n",
      "  Item 19 (weight=6)\n",
      "Box 12:\n",
      "  Item 24 (weight=8)\n",
      "Box 13:\n",
      "  Item 8 (weight=4)\n",
      "  Item 13 (weight=5)\n"
     ]
    }
   ],
   "source": [
    "import pyomo.environ as pyo\n",
    "\n",
    "# Sample data (You can replace this with your actual data)\n",
    "items = ['A', 'B', 'C', 'D']  # Set of items I\n",
    "boxes = ['Box1', 'Box2', 'Box3']  # Set of boxes J\n",
    "weights = {'A': 5, 'B': 3, 'C': 7, 'D': 2}  # Weights of items w_i\n",
    "capacity = 10  # Capacity of each box C\n",
    "max_boxes = 3  # Upper bound on the number of boxes N\n",
    "\n",
    "items =  range(1,25)\n",
    "weights = {1: 2,2: 2,3: 2,4: 2,5: 3,6: 3,7:4,8: 4,9: 4,10: 4,11: 4,12:4,13: 5,14:5,15: 5,16: 5,17: 5,18: 5,19: 6,20:6,21: 7,22: 7,23: 8, 24:8} # Weight of each item\n",
    "boxes = range(1,15)\n",
    "capacity = 9\n",
    "max_boxes = 15\n",
    "\n",
    "\n",
    "# Model\n",
    "model = pyo.ConcreteModel()\n",
    "\n",
    "# Sets\n",
    "model.I = pyo.Set(initialize=items)\n",
    "model.J = pyo.Set(initialize=boxes)\n",
    "\n",
    "# Parameters\n",
    "model.w = pyo.Param(model.I, initialize=weights)\n",
    "model.C = pyo.Param(initialize=capacity)\n",
    "model.N = pyo.Param(initialize=max_boxes)\n",
    "\n",
    "# Decision variables\n",
    "model.x = pyo.Var(model.I, model.J, domain=pyo.Binary)  # Assignment of items to boxes\n",
    "model.y = pyo.Var(model.J, domain=pyo.Binary)  # Usage of boxes\n",
    "\n",
    "# Objective function\n",
    "model.obj = pyo.Objective(expr=pyo.summation(model.y), sense=pyo.minimize)\n",
    "\n",
    "# Constraints\n",
    "# Each item must be assigned to exactly one box\n",
    "model.constraint1 = pyo.ConstraintList()\n",
    "for i in model.I:\n",
    "    model.constraint1.add(expr=sum(model.x[i, j] for j in model.J) == 1)\n",
    "\n",
    "# Capacity constraint of each box\n",
    "model.constraint2 = pyo.ConstraintList()\n",
    "for j in model.J:\n",
    "    model.constraint2.add(\n",
    "        expr=sum(model.w[i] * model.x[i, j] for i in model.I) <= model.C * model.y[j]\n",
    "    )\n",
    "\n",
    "# Limit on the number of boxes\n",
    "model.constraint3 = pyo.Constraint(expr=pyo.summation(model.y) <= model.N)\n",
    "\n",
    "# Solve the model\n",
    "solver = pyo.SolverFactory('glpk')  # You can use other solvers like 'cbc', 'gurobi', etc.\n",
    "solver.solve(model)\n",
    "\n",
    "# Print the solution\n",
    "print(\"Optimal solution:\")\n",
    "for j in model.J:\n",
    "    if pyo.value(model.y[j]) > 0:\n",
    "        print(f\"Box {j}:\")\n",
    "        for i in model.I:\n",
    "            if pyo.value(model.x[i, j]) > 0:\n",
    "                print(f\"  Item {i} (weight={model.w[i]})\")"
   ]
  },
  {
   "cell_type": "code",
   "execution_count": null,
   "id": "1e8d0acf",
   "metadata": {},
   "outputs": [],
   "source": []
  },
  {
   "cell_type": "code",
   "execution_count": null,
   "id": "41ed7d93",
   "metadata": {},
   "outputs": [],
   "source": []
  },
  {
   "cell_type": "markdown",
   "id": "1be0926e",
   "metadata": {},
   "source": [
    "## 5. Correct the code to verify model viability (optional)"
   ]
  },
  {
   "cell_type": "code",
   "execution_count": null,
   "id": "8b37acfc",
   "metadata": {},
   "outputs": [],
   "source": []
  },
  {
   "cell_type": "code",
   "execution_count": null,
   "id": "3f656636",
   "metadata": {
    "scrolled": false
   },
   "outputs": [],
   "source": []
  },
  {
   "cell_type": "markdown",
   "id": "5ec525d0",
   "metadata": {},
   "source": [
    "## 6. Print the responses"
   ]
  },
  {
   "cell_type": "code",
   "execution_count": 605,
   "id": "0d730f02",
   "metadata": {},
   "outputs": [
    {
     "name": "stdout",
     "output_type": "stream",
     "text": [
      "### Sets:\n",
      "*  $I$: Set of items\n",
      "*  $J$: Set of boxes\n",
      "\n",
      "### Parameters:\n",
      "*  $w_i$: Weight of item $i \\in I$\n",
      "*  $C$: Capacity of each box \n",
      "*  $N$: Upper bound on the number of boxes \n",
      "\n",
      "### Decision Variables:\n",
      "*  $x_{ij}$: Binary variable equal to 1 if item  $i \\in I$ is assigned to box $j \\in J$, and 0 otherwise \n",
      "*  $y_j$: Binary variable equal to 1 if box $j \\in J$ is used, and 0 otherwise \n",
      "\n"
     ]
    }
   ],
   "source": [
    "print(response.text)"
   ]
  },
  {
   "cell_type": "code",
   "execution_count": 606,
   "id": "21ba98ed",
   "metadata": {},
   "outputs": [
    {
     "name": "stdout",
     "output_type": "stream",
     "text": [
      "Minimize $\\sum_{j \\in J} y_j$ \n",
      "\n"
     ]
    }
   ],
   "source": [
    "print(response2.text)"
   ]
  },
  {
   "cell_type": "code",
   "execution_count": 607,
   "id": "f8ab5284",
   "metadata": {},
   "outputs": [
    {
     "name": "stdout",
     "output_type": "stream",
     "text": [
      "## Constraints:\n",
      "\n",
      "1. **Each item must be assigned to exactly one box:**\n",
      "   $$ \\sum_{j \\in J} x_{ij} = 1, \\quad \\forall i \\in I$$\n",
      "\n",
      "2. **Capacity constraint of each box:**\n",
      "   $$ \\sum_{i \\in I} w_i x_{ij} \\le C y_j, \\quad \\forall j \\in J$$\n",
      "\n",
      "3. **Limit on the number of boxes:**\n",
      "   $$ \\sum_{j \\in J} y_j \\le N$$\n",
      "\n",
      "4. **Decision variables are binary:**\n",
      "   $$ x_{ij} \\in \\{0,1\\}, \\quad \\forall i \\in I, \\forall j \\in J$$\n",
      "   $$ y_j \\in \\{0,1\\}, \\quad \\forall j \\in J $$ \n",
      "\n"
     ]
    }
   ],
   "source": [
    "print(response3.text)"
   ]
  },
  {
   "cell_type": "code",
   "execution_count": 608,
   "id": "39715185",
   "metadata": {},
   "outputs": [
    {
     "name": "stdout",
     "output_type": "stream",
     "text": [
      "```python\n",
      "import pyomo.environ as pyo\n",
      "\n",
      "# Sample data (You can replace this with your actual data)\n",
      "items = ['A', 'B', 'C', 'D']  # Set of items I\n",
      "boxes = ['Box1', 'Box2', 'Box3']  # Set of boxes J\n",
      "weights = {'A': 5, 'B': 3, 'C': 7, 'D': 2}  # Weights of items w_i\n",
      "capacity = 10  # Capacity of each box C\n",
      "max_boxes = 3  # Upper bound on the number of boxes N\n",
      "\n",
      "# Model\n",
      "model = pyo.ConcreteModel()\n",
      "\n",
      "# Sets\n",
      "model.I = pyo.Set(initialize=items)\n",
      "model.J = pyo.Set(initialize=boxes)\n",
      "\n",
      "# Parameters\n",
      "model.w = pyo.Param(model.I, initialize=weights)\n",
      "model.C = pyo.Param(initialize=capacity)\n",
      "model.N = pyo.Param(initialize=max_boxes)\n",
      "\n",
      "# Decision variables\n",
      "model.x = pyo.Var(model.I, model.J, domain=pyo.Binary)  # Assignment of items to boxes\n",
      "model.y = pyo.Var(model.J, domain=pyo.Binary)  # Usage of boxes\n",
      "\n",
      "# Objective function\n",
      "model.obj = pyo.Objective(expr=pyo.summation(model.y), sense=pyo.minimize)\n",
      "\n",
      "# Constraints\n",
      "# Each item must be assigned to exactly one box\n",
      "model.constraint1 = pyo.ConstraintList()\n",
      "for i in model.I:\n",
      "    model.constraint1.add(expr=sum(model.x[i, j] for j in model.J) == 1)\n",
      "\n",
      "# Capacity constraint of each box\n",
      "model.constraint2 = pyo.ConstraintList()\n",
      "for j in model.J:\n",
      "    model.constraint2.add(\n",
      "        expr=sum(model.w[i] * model.x[i, j] for i in model.I) <= model.C * model.y[j]\n",
      "    )\n",
      "\n",
      "# Limit on the number of boxes\n",
      "model.constraint3 = pyo.Constraint(expr=pyo.summation(model.y) <= model.N)\n",
      "\n",
      "# Solve the model\n",
      "solver = pyo.SolverFactory('glpk')  # You can use other solvers like 'cbc', 'gurobi', etc.\n",
      "solver.solve(model)\n",
      "\n",
      "# Print the solution\n",
      "print(\"Optimal solution:\")\n",
      "for j in model.J:\n",
      "    if pyo.value(model.y[j]) > 0:\n",
      "        print(f\"Box {j}:\")\n",
      "        for i in model.I:\n",
      "            if pyo.value(model.x[i, j]) > 0:\n",
      "                print(f\"  Item {i} (weight={model.w[i]})\")\n",
      "```\n",
      "\n",
      "This code defines the model, sets, parameters, decision variables, objective function, and constraints as described in the problem statement. \n",
      "\n",
      "**Explanation of sample data:**\n",
      "* **items:**  A list of item identifiers (e.g., 'A', 'B', etc.)\n",
      "* **boxes:** A list of box identifiers (e.g., 'Box1', 'Box2', etc.)\n",
      "* **weights:** A dictionary mapping each item to its weight.\n",
      "* **capacity:**  The capacity of each box.\n",
      "* **max_boxes:** The maximum number of boxes allowed. \n",
      "\n",
      "You can replace the sample data with your actual data to solve your specific instance of the problem. \n",
      "\n"
     ]
    }
   ],
   "source": [
    "print(response4.text)"
   ]
  },
  {
   "cell_type": "code",
   "execution_count": null,
   "id": "542c42a0",
   "metadata": {},
   "outputs": [],
   "source": []
  }
 ],
 "metadata": {
  "kernelspec": {
   "display_name": "Python 3 (ipykernel)",
   "language": "python",
   "name": "python3"
  },
  "language_info": {
   "codemirror_mode": {
    "name": "ipython",
    "version": 3
   },
   "file_extension": ".py",
   "mimetype": "text/x-python",
   "name": "python",
   "nbconvert_exporter": "python",
   "pygments_lexer": "ipython3",
   "version": "3.11.4"
  }
 },
 "nbformat": 4,
 "nbformat_minor": 5
}
