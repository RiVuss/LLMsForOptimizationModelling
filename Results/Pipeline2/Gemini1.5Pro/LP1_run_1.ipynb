{
 "cells": [
  {
   "cell_type": "markdown",
   "id": "f0005e9e",
   "metadata": {},
   "source": [
    "# LLM Optimization Modelling Experiment"
   ]
  },
  {
   "cell_type": "code",
   "execution_count": 1,
   "id": "7f664028",
   "metadata": {},
   "outputs": [],
   "source": [
    "import vertexai\n",
    "from vertexai.preview.generative_models import GenerativeModel, Image\n",
    "from IPython.display import Markdown"
   ]
  },
  {
   "cell_type": "markdown",
   "id": "f527d6af",
   "metadata": {},
   "source": [
    "## 1. Define the problem description"
   ]
  },
  {
   "cell_type": "code",
   "execution_count": 109,
   "id": "25055ffd",
   "metadata": {},
   "outputs": [],
   "source": [
    "problem = '''A firm from Milan sells chemical products for professional cosmetics. It is planning the production of three products, GCA, GCB and GCC, for a given period of\n",
    "time by mixing two different components: C1 and C2. All the end products must\n",
    "contain at least one of the two components, and not necessarily both.\n",
    "\n",
    "For the next planning period, 10,000 l of C1 and 15,000 l of C2 are available.\n",
    "The production of GCA, GCB and GCC must be scheduled to at least cover the\n",
    "minimum demand level of 6,000, 7,000 and 9,000 l, respectively. It is assumed\n",
    "that when chemical components are mixed, there is no loss or gain in volume.\n",
    "\n",
    "Each chemical component, C1 and C2, has a proportional critical element, 0.4\n",
    "and 0.2, respectively. That is to say, each litre of C1 contains 0.4 l of the critical\n",
    "element. To obtain GCA, the mixture must proportionally contain at least a 0.3\n",
    "fraction of the critical element. Another requirement is that the quantity of the\n",
    "critical element is seen in GCB, an 0.3 fraction at the most.\n",
    "Furthermore, the minimum ratio of C1 with C2 in product GCC must be 0.3.\n",
    "\n",
    "The profit expected for the sale of each litre of GCA, GCB and GCC is $120, $135\n",
    "and $155, respectively.\n",
    "\n",
    "Optimise the production planning of this firm. '''"
   ]
  },
  {
   "cell_type": "markdown",
   "id": "472cf9ad",
   "metadata": {},
   "source": [
    "## 2. Ask for parameters"
   ]
  },
  {
   "cell_type": "code",
   "execution_count": 110,
   "id": "e31ec80c",
   "metadata": {},
   "outputs": [],
   "source": [
    "#Initializing the session. To replicate, make sure the right credentials are saved in a PATH variable\n",
    "PROJECT_ID = \"llm4optproblems\"\n",
    "REGION = \"us-central1\"\n",
    "vertexai.init(project=PROJECT_ID, location=REGION)\n",
    "\n",
    "#Specifying the model\n",
    "generative_multimodal_model = GenerativeModel(\"gemini-1.5-pro-preview-0409\")\n",
    "\n",
    "#The propmt applied to all problems\n",
    "prompt = '''Please formulate only the variables for this mathematical optimization problem. \n",
    "'''\n",
    "\n",
    "#Generate the response\n",
    "response = generative_multimodal_model.generate_content([prompt+problem])\n"
   ]
  },
  {
   "cell_type": "code",
   "execution_count": 111,
   "id": "f9adc567",
   "metadata": {},
   "outputs": [
    {
     "data": {
      "text/markdown": [
       "## Variables:\n",
       "\n",
       "* **xij:** Liters of component *i* used in the production of product *j*, where:\n",
       "    * *i* = 1, 2 (C1, C2)\n",
       "    * *j* = 1, 2, 3 (GCA, GCB, GCC)\n",
       "\n",
       "This gives us the following decision variables:\n",
       "\n",
       "* **x11:** Liters of C1 used in GCA production\n",
       "* **x12:** Liters of C1 used in GCB production\n",
       "* **x13:** Liters of C1 used in GCC production\n",
       "* **x21:** Liters of C2 used in GCA production\n",
       "* **x22:** Liters of C2 used in GCB production\n",
       "* **x23:** Liters of C2 used in GCC production \n"
      ],
      "text/plain": [
       "<IPython.core.display.Markdown object>"
      ]
     },
     "execution_count": 111,
     "metadata": {},
     "output_type": "execute_result"
    }
   ],
   "source": [
    "#Show the resopnse in a formatted way\n",
    "Markdown(response.text)"
   ]
  },
  {
   "cell_type": "markdown",
   "id": "15d9e89f",
   "metadata": {},
   "source": [
    "# 2. Ask for objective"
   ]
  },
  {
   "cell_type": "code",
   "execution_count": 112,
   "id": "4f357a19",
   "metadata": {},
   "outputs": [],
   "source": [
    "#Second prompt gets the output of the previous step and generates the code\n",
    "prompt2 = \"Please formulate only the objective function for this mathematical optimization problem.\"\n",
    "prompt2 += problem + response.text\n",
    "response2 = generative_multimodal_model.generate_content([prompt2])"
   ]
  },
  {
   "cell_type": "code",
   "execution_count": 113,
   "id": "bccd1014",
   "metadata": {},
   "outputs": [
    {
     "data": {
      "text/markdown": [
       "Maximize: \n",
       "\n",
       "120(x11 + x21) + 135(x12 + x22) + 155(x13 + x23) \n"
      ],
      "text/plain": [
       "<IPython.core.display.Markdown object>"
      ]
     },
     "execution_count": 113,
     "metadata": {},
     "output_type": "execute_result"
    }
   ],
   "source": [
    "Markdown(response2.text)"
   ]
  },
  {
   "cell_type": "markdown",
   "id": "d8ab1404",
   "metadata": {},
   "source": [
    "# 3. Ask for constraints"
   ]
  },
  {
   "cell_type": "code",
   "execution_count": 114,
   "id": "e6409951",
   "metadata": {},
   "outputs": [],
   "source": [
    "#Second prompt gets the output of the previous step and generates the code\n",
    "prompt3 = \"Please formulate only the constraints for this mathematical optimization problem.\"\n",
    "prompt3 += problem + response.text + response2.text\n",
    "response3 = generative_multimodal_model.generate_content([prompt3])"
   ]
  },
  {
   "cell_type": "code",
   "execution_count": 115,
   "id": "2f9439c2",
   "metadata": {},
   "outputs": [
    {
     "data": {
      "text/markdown": [
       "## Constraints:\n",
       "\n",
       "**Resource Constraints:**\n",
       "\n",
       "* **C1 Availability:** x11 + x12 + x13 <= 10000 \n",
       "* **C2 Availability:** x21 + x22 + x23 <= 15000\n",
       "\n",
       "**Demand Constraints:**\n",
       "\n",
       "* **GCA Demand:** x11 + x21 >= 6000\n",
       "* **GCB Demand:** x12 + x22 >= 7000\n",
       "* **GCC Demand:** x13 + x23 >= 9000\n",
       "\n",
       "**Critical Element Constraints:**\n",
       "\n",
       "* **GCA Minimum Critical Element:** 0.4x11 + 0.2x21 >= 0.3(x11 + x21)\n",
       "* **GCB Maximum Critical Element:** 0.4x12 + 0.2x22 <= 0.3(x12 + x22)\n",
       "\n",
       "**Component Ratio Constraint:**\n",
       "\n",
       "* **GCC Minimum C1/C2 Ratio:** x13 >= 0.3x23 \n",
       "\n",
       "**Non-Negativity Constraints:**\n",
       "\n",
       "* **All variables:** x11, x12, x13, x21, x22, x23 >= 0 \n"
      ],
      "text/plain": [
       "<IPython.core.display.Markdown object>"
      ]
     },
     "execution_count": 115,
     "metadata": {},
     "output_type": "execute_result"
    }
   ],
   "source": [
    "Markdown(response3.text)"
   ]
  },
  {
   "cell_type": "code",
   "execution_count": null,
   "id": "07ba7f01",
   "metadata": {},
   "outputs": [],
   "source": []
  },
  {
   "cell_type": "markdown",
   "id": "75796979",
   "metadata": {},
   "source": [
    "## 3. Generate the pyomo code"
   ]
  },
  {
   "cell_type": "code",
   "execution_count": 116,
   "id": "aabea932",
   "metadata": {},
   "outputs": [],
   "source": [
    "#Second prompt gets the output of the previous step and generates the code\n",
    "prompt4 = \"Please write pyomo code for this mathematical problem. Use sample data where needed. Indicate where you use sample data. \\n\"\n",
    "prompt4 += response.text + response2.text + response3.text \n",
    "response4 = generative_multimodal_model.generate_content([prompt4])"
   ]
  },
  {
   "cell_type": "code",
   "execution_count": 117,
   "id": "fd2835af",
   "metadata": {},
   "outputs": [
    {
     "data": {
      "text/markdown": [
       "```python\n",
       "import pyomo.environ as pyo\n",
       "\n",
       "# Define the model\n",
       "model = pyo.ConcreteModel()\n",
       "\n",
       "# Define sets for components and products\n",
       "components = ['C1', 'C2']\n",
       "products = ['GCA', 'GCB', 'GCC']\n",
       "\n",
       "# Define decision variables\n",
       "model.x = pyo.Var(components, products, domain=pyo.NonNegativeReals)\n",
       "\n",
       "# Define the objective function\n",
       "def profit(model):\n",
       "    return 120*(model.x['C1', 'GCA'] + model.x['C2', 'GCA']) + \\\n",
       "           135*(model.x['C1', 'GCB'] + model.x['C2', 'GCB']) + \\\n",
       "           155*(model.x['C1', 'GCC'] + model.x['C2', 'GCC']) \n",
       "model.profit = pyo.Objective(rule=profit, sense=pyo.maximize)\n",
       "\n",
       "# Define the constraints\n",
       "model.constraints = pyo.ConstraintList()\n",
       "\n",
       "# Resource Constraints\n",
       "model.constraints.add(model.x['C1', 'GCA'] + model.x['C1', 'GCB'] + model.x['C1', 'GCC'] <= 10000) \n",
       "model.constraints.add(model.x['C2', 'GCA'] + model.x['C2', 'GCB'] + model.x['C2', 'GCC'] <= 15000)\n",
       "\n",
       "# Demand Constraints\n",
       "model.constraints.add(model.x['C1', 'GCA'] + model.x['C2', 'GCA'] >= 6000)\n",
       "model.constraints.add(model.x['C1', 'GCB'] + model.x['C2', 'GCB'] >= 7000)\n",
       "model.constraints.add(model.x['C1', 'GCC'] + model.x['C2', 'GCC'] >= 9000)\n",
       "\n",
       "# Critical Element Constraints\n",
       "model.constraints.add(0.4*model.x['C1', 'GCA'] + 0.2*model.x['C2', 'GCA'] >= 0.3*(model.x['C1', 'GCA'] + model.x['C2', 'GCA']))\n",
       "model.constraints.add(0.4*model.x['C1', 'GCB'] + 0.2*model.x['C2', 'GCB'] <= 0.3*(model.x['C1', 'GCB'] + model.x['C2', 'GCB']))\n",
       "\n",
       "# Component Ratio Constraint\n",
       "model.constraints.add(model.x['C1', 'GCC'] >= 0.3*model.x['C2', 'GCC'])\n",
       "\n",
       "# Solve the model\n",
       "solver = pyo.SolverFactory('glpk') # You can choose a different solver if needed\n",
       "results = solver.solve(model)\n",
       "\n",
       "# Display the results\n",
       "print(\"Status:\", results.solver.status)\n",
       "print(\"Termination condition:\",results.solver.termination_condition)\n",
       "print(\"Optimal Solution:\")\n",
       "for i in components:\n",
       "    for j in products:\n",
       "        print(f\"x[{i},{j}]: {pyo.value(model.x[i,j])}\")\n",
       "print(\"Profit:\", pyo.value(model.profit))\n",
       "```\n",
       "\n",
       "No sample data was used in this code. The code defines the mathematical problem as a Pyomo model, including variables, objective function, and constraints directly from the provided problem statement. \n"
      ],
      "text/plain": [
       "<IPython.core.display.Markdown object>"
      ]
     },
     "execution_count": 117,
     "metadata": {},
     "output_type": "execute_result"
    }
   ],
   "source": [
    "#Showing the code in a formatted way\n",
    "Markdown(response4.text)"
   ]
  },
  {
   "cell_type": "markdown",
   "id": "b60756ae",
   "metadata": {},
   "source": [
    "## 4. Input problem data and try running the generated code"
   ]
  },
  {
   "cell_type": "code",
   "execution_count": 118,
   "id": "41ed7d93",
   "metadata": {},
   "outputs": [
    {
     "name": "stdout",
     "output_type": "stream",
     "text": [
      "Status: ok\n",
      "Termination condition: optimal\n",
      "Optimal Solution:\n",
      "x[C1,GCA]: 3730.76923076923\n",
      "x[C1,GCB]: 3500.0\n",
      "x[C1,GCC]: 2769.23076923077\n",
      "x[C2,GCA]: 2269.23076923077\n",
      "x[C2,GCB]: 3500.0\n",
      "x[C2,GCC]: 9230.76923076923\n",
      "Profit: 3525000.0\n"
     ]
    }
   ],
   "source": [
    "import pyomo.environ as pyo\n",
    "\n",
    "# Define the model\n",
    "model = pyo.ConcreteModel()\n",
    "\n",
    "# Define sets for components and products\n",
    "components = ['C1', 'C2']\n",
    "products = ['GCA', 'GCB', 'GCC']\n",
    "\n",
    "# Define decision variables\n",
    "model.x = pyo.Var(components, products, domain=pyo.NonNegativeReals)\n",
    "\n",
    "# Define the objective function\n",
    "def profit(model):\n",
    "    return 120*(model.x['C1', 'GCA'] + model.x['C2', 'GCA']) + \\\n",
    "           135*(model.x['C1', 'GCB'] + model.x['C2', 'GCB']) + \\\n",
    "           155*(model.x['C1', 'GCC'] + model.x['C2', 'GCC']) \n",
    "model.profit = pyo.Objective(rule=profit, sense=pyo.maximize)\n",
    "\n",
    "# Define the constraints\n",
    "model.constraints = pyo.ConstraintList()\n",
    "\n",
    "# Resource Constraints\n",
    "model.constraints.add(model.x['C1', 'GCA'] + model.x['C1', 'GCB'] + model.x['C1', 'GCC'] <= 10000) \n",
    "model.constraints.add(model.x['C2', 'GCA'] + model.x['C2', 'GCB'] + model.x['C2', 'GCC'] <= 15000)\n",
    "\n",
    "# Demand Constraints\n",
    "model.constraints.add(model.x['C1', 'GCA'] + model.x['C2', 'GCA'] >= 6000)\n",
    "model.constraints.add(model.x['C1', 'GCB'] + model.x['C2', 'GCB'] >= 7000)\n",
    "model.constraints.add(model.x['C1', 'GCC'] + model.x['C2', 'GCC'] >= 9000)\n",
    "\n",
    "# Critical Element Constraints\n",
    "model.constraints.add(0.4*model.x['C1', 'GCA'] + 0.2*model.x['C2', 'GCA'] >= 0.3*(model.x['C1', 'GCA'] + model.x['C2', 'GCA']))\n",
    "model.constraints.add(0.4*model.x['C1', 'GCB'] + 0.2*model.x['C2', 'GCB'] <= 0.3*(model.x['C1', 'GCB'] + model.x['C2', 'GCB']))\n",
    "\n",
    "# Component Ratio Constraint\n",
    "model.constraints.add(model.x['C1', 'GCC'] >= 0.3*model.x['C2', 'GCC'])\n",
    "\n",
    "# Solve the model\n",
    "solver = pyo.SolverFactory('glpk') # You can choose a different solver if needed\n",
    "results = solver.solve(model)\n",
    "\n",
    "# Display the results\n",
    "print(\"Status:\", results.solver.status)\n",
    "print(\"Termination condition:\",results.solver.termination_condition)\n",
    "print(\"Optimal Solution:\")\n",
    "for i in components:\n",
    "    for j in products:\n",
    "        print(f\"x[{i},{j}]: {pyo.value(model.x[i,j])}\")\n",
    "print(\"Profit:\", pyo.value(model.profit))"
   ]
  },
  {
   "cell_type": "markdown",
   "id": "1be0926e",
   "metadata": {},
   "source": [
    "## 5. Correct the code to verify model viability (optional)"
   ]
  },
  {
   "cell_type": "code",
   "execution_count": null,
   "id": "8b37acfc",
   "metadata": {},
   "outputs": [],
   "source": []
  },
  {
   "cell_type": "markdown",
   "id": "d2b3297a",
   "metadata": {},
   "source": [
    "## 6. Print the responses"
   ]
  },
  {
   "cell_type": "code",
   "execution_count": 119,
   "id": "8a3c772a",
   "metadata": {},
   "outputs": [
    {
     "data": {
      "text/plain": [
       "'## Variables:\\n\\n* **xij:** Liters of component *i* used in the production of product *j*, where:\\n    * *i* = 1, 2 (C1, C2)\\n    * *j* = 1, 2, 3 (GCA, GCB, GCC)\\n\\nThis gives us the following decision variables:\\n\\n* **x11:** Liters of C1 used in GCA production\\n* **x12:** Liters of C1 used in GCB production\\n* **x13:** Liters of C1 used in GCC production\\n* **x21:** Liters of C2 used in GCA production\\n* **x22:** Liters of C2 used in GCB production\\n* **x23:** Liters of C2 used in GCC production \\n'"
      ]
     },
     "execution_count": 119,
     "metadata": {},
     "output_type": "execute_result"
    }
   ],
   "source": [
    "response.text"
   ]
  },
  {
   "cell_type": "code",
   "execution_count": 120,
   "id": "856fbd98",
   "metadata": {},
   "outputs": [
    {
     "data": {
      "text/plain": [
       "'Maximize: \\n\\n120(x11 + x21) + 135(x12 + x22) + 155(x13 + x23) \\n'"
      ]
     },
     "execution_count": 120,
     "metadata": {},
     "output_type": "execute_result"
    }
   ],
   "source": [
    "response2.text"
   ]
  },
  {
   "cell_type": "code",
   "execution_count": 121,
   "id": "096f6f84",
   "metadata": {},
   "outputs": [
    {
     "data": {
      "text/plain": [
       "'## Constraints:\\n\\n**Resource Constraints:**\\n\\n* **C1 Availability:** x11 + x12 + x13 <= 10000 \\n* **C2 Availability:** x21 + x22 + x23 <= 15000\\n\\n**Demand Constraints:**\\n\\n* **GCA Demand:** x11 + x21 >= 6000\\n* **GCB Demand:** x12 + x22 >= 7000\\n* **GCC Demand:** x13 + x23 >= 9000\\n\\n**Critical Element Constraints:**\\n\\n* **GCA Minimum Critical Element:** 0.4x11 + 0.2x21 >= 0.3(x11 + x21)\\n* **GCB Maximum Critical Element:** 0.4x12 + 0.2x22 <= 0.3(x12 + x22)\\n\\n**Component Ratio Constraint:**\\n\\n* **GCC Minimum C1/C2 Ratio:** x13 >= 0.3x23 \\n\\n**Non-Negativity Constraints:**\\n\\n* **All variables:** x11, x12, x13, x21, x22, x23 >= 0 \\n'"
      ]
     },
     "execution_count": 121,
     "metadata": {},
     "output_type": "execute_result"
    }
   ],
   "source": [
    "response3.text"
   ]
  },
  {
   "cell_type": "code",
   "execution_count": 122,
   "id": "56a4fd7e",
   "metadata": {},
   "outputs": [
    {
     "data": {
      "text/plain": [
       "'```python\\nimport pyomo.environ as pyo\\n\\n# Define the model\\nmodel = pyo.ConcreteModel()\\n\\n# Define sets for components and products\\ncomponents = [\\'C1\\', \\'C2\\']\\nproducts = [\\'GCA\\', \\'GCB\\', \\'GCC\\']\\n\\n# Define decision variables\\nmodel.x = pyo.Var(components, products, domain=pyo.NonNegativeReals)\\n\\n# Define the objective function\\ndef profit(model):\\n    return 120*(model.x[\\'C1\\', \\'GCA\\'] + model.x[\\'C2\\', \\'GCA\\']) + \\\\\\n           135*(model.x[\\'C1\\', \\'GCB\\'] + model.x[\\'C2\\', \\'GCB\\']) + \\\\\\n           155*(model.x[\\'C1\\', \\'GCC\\'] + model.x[\\'C2\\', \\'GCC\\']) \\nmodel.profit = pyo.Objective(rule=profit, sense=pyo.maximize)\\n\\n# Define the constraints\\nmodel.constraints = pyo.ConstraintList()\\n\\n# Resource Constraints\\nmodel.constraints.add(model.x[\\'C1\\', \\'GCA\\'] + model.x[\\'C1\\', \\'GCB\\'] + model.x[\\'C1\\', \\'GCC\\'] <= 10000) \\nmodel.constraints.add(model.x[\\'C2\\', \\'GCA\\'] + model.x[\\'C2\\', \\'GCB\\'] + model.x[\\'C2\\', \\'GCC\\'] <= 15000)\\n\\n# Demand Constraints\\nmodel.constraints.add(model.x[\\'C1\\', \\'GCA\\'] + model.x[\\'C2\\', \\'GCA\\'] >= 6000)\\nmodel.constraints.add(model.x[\\'C1\\', \\'GCB\\'] + model.x[\\'C2\\', \\'GCB\\'] >= 7000)\\nmodel.constraints.add(model.x[\\'C1\\', \\'GCC\\'] + model.x[\\'C2\\', \\'GCC\\'] >= 9000)\\n\\n# Critical Element Constraints\\nmodel.constraints.add(0.4*model.x[\\'C1\\', \\'GCA\\'] + 0.2*model.x[\\'C2\\', \\'GCA\\'] >= 0.3*(model.x[\\'C1\\', \\'GCA\\'] + model.x[\\'C2\\', \\'GCA\\']))\\nmodel.constraints.add(0.4*model.x[\\'C1\\', \\'GCB\\'] + 0.2*model.x[\\'C2\\', \\'GCB\\'] <= 0.3*(model.x[\\'C1\\', \\'GCB\\'] + model.x[\\'C2\\', \\'GCB\\']))\\n\\n# Component Ratio Constraint\\nmodel.constraints.add(model.x[\\'C1\\', \\'GCC\\'] >= 0.3*model.x[\\'C2\\', \\'GCC\\'])\\n\\n# Solve the model\\nsolver = pyo.SolverFactory(\\'glpk\\') # You can choose a different solver if needed\\nresults = solver.solve(model)\\n\\n# Display the results\\nprint(\"Status:\", results.solver.status)\\nprint(\"Termination condition:\",results.solver.termination_condition)\\nprint(\"Optimal Solution:\")\\nfor i in components:\\n    for j in products:\\n        print(f\"x[{i},{j}]: {pyo.value(model.x[i,j])}\")\\nprint(\"Profit:\", pyo.value(model.profit))\\n```\\n\\nNo sample data was used in this code. The code defines the mathematical problem as a Pyomo model, including variables, objective function, and constraints directly from the provided problem statement. \\n'"
      ]
     },
     "execution_count": 122,
     "metadata": {},
     "output_type": "execute_result"
    }
   ],
   "source": [
    "response4.text"
   ]
  }
 ],
 "metadata": {
  "kernelspec": {
   "display_name": "Python 3 (ipykernel)",
   "language": "python",
   "name": "python3"
  },
  "language_info": {
   "codemirror_mode": {
    "name": "ipython",
    "version": 3
   },
   "file_extension": ".py",
   "mimetype": "text/x-python",
   "name": "python",
   "nbconvert_exporter": "python",
   "pygments_lexer": "ipython3",
   "version": "3.11.4"
  }
 },
 "nbformat": 4,
 "nbformat_minor": 5
}
