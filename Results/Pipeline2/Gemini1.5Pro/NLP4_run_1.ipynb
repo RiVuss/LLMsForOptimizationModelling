{
 "cells": [
  {
   "cell_type": "markdown",
   "id": "f0005e9e",
   "metadata": {},
   "source": [
    "# LLM Optimization Modelling Experiment"
   ]
  },
  {
   "cell_type": "code",
   "execution_count": 8,
   "id": "7f664028",
   "metadata": {},
   "outputs": [],
   "source": [
    "import vertexai\n",
    "from vertexai.preview.generative_models import GenerativeModel, Image\n",
    "from IPython.display import Markdown"
   ]
  },
  {
   "cell_type": "markdown",
   "id": "f527d6af",
   "metadata": {},
   "source": [
    "## 1. Define the problem description"
   ]
  },
  {
   "cell_type": "code",
   "execution_count": 306,
   "id": "25055ffd",
   "metadata": {},
   "outputs": [],
   "source": [
    "problem = '''We are looking at an alkylation process which will include the following 10 variables: olefin feed (barrels per day), isobutane recycle (barrels per day), acid addition rate (thousands of pounds per day), alkylate yield (barrels per day), isobutane makeup (barrels per day), acid strength (weight per cent), motor octane number, external isobutane-to-olefin ratio, acid dilution factor and F-4 performance number. \n",
    "\n",
    "We want to maximize the daily profit of this alkylation process. \n",
    "The profit is defined as the revenue generated from the alkylate yield multiplied with the motor octane number, minus the operational costs, which include olefin feed, isobutane recycle, acid addition rate, and isobutane makeup. \n",
    "\n",
    "Relationships in terms of other variables for alkylate yield, motor octane number, acid dilution factor, and F-4 performance number can be formulated as regression formulas. \n",
    "This regression estimate can deviate in both directions from true value of these variables by 2, 1, 5 and 10 percent, respectively.\n",
    "Alkylate yield is a function of olefin feed and external isobutane-to-olefine yield. Alkalyte yield equals the amount of olefin feed multiplied by the sum of 1.12, 0.13167 times the external isobutane-to-olefin ratio and -0.00667 times the external isobutane-to-olefin ratio squared.\n",
    "The motor octane number is derived from the external isobutane-to-olefin ratio and the acid strength. The motor octane number is calculated as the sum of 86.35, 1.098 time external isobutane-to-olefin ratio, -0.038 times the external isobutane-to-olefin ratio squared and 0.325 times acid strength reduced by 89.\n",
    "The acid dilution factor is calculated based on the F-4 performance number. The acid dillution factor is expressed as 35.82 minus 0.222 times F-4 performance number.\n",
    "Lastly, the F-4 performance number depends on the motor octane number. F-4 performance number is calculated as -133 plus three times the motor octane number.\n",
    "\n",
    "There are some additional constraints imposed by the nature of the chemical process.\n",
    "Each variable has a lower and an upper bound.\n",
    "The external isobutane-to-olefin ratio needs to equal the ratio of isobutane recycle plus isobutane makeup to olefin feed. \n",
    "The acid strength needs to equal the ratio of 93000 times acid addition rate to acid addition rate multiplied by acid dilution factor in addition to 1000 times acid addition rate. \n",
    "Lastly, 1.22 alkylate yield needs to be equal to the combined olefin feed and isobutane makeup.'''"
   ]
  },
  {
   "cell_type": "markdown",
   "id": "472cf9ad",
   "metadata": {},
   "source": [
    "## 2. Ask for parameters"
   ]
  },
  {
   "cell_type": "code",
   "execution_count": 307,
   "id": "e31ec80c",
   "metadata": {},
   "outputs": [],
   "source": [
    "#Initializing the session. To replicate, make sure the right credentials are saved in a PATH variable\n",
    "PROJECT_ID = \"llm4optproblems\"\n",
    "REGION = \"us-central1\"\n",
    "vertexai.init(project=PROJECT_ID, location=REGION)\n",
    "\n",
    "#Specifying the model\n",
    "generative_multimodal_model = GenerativeModel(\"gemini-1.5-pro-preview-0409\")\n",
    "\n",
    "#The propmt applied to all problems\n",
    "prompt = '''Please formulate only the variables for this mathematical optimization problem. \n",
    "'''\n",
    "\n",
    "#Generate the response\n",
    "response = generative_multimodal_model.generate_content([prompt+problem])\n"
   ]
  },
  {
   "cell_type": "code",
   "execution_count": 308,
   "id": "f9adc567",
   "metadata": {
    "scrolled": false
   },
   "outputs": [
    {
     "data": {
      "text/markdown": [
       "## Variables:\n",
       "\n",
       "**Decision Variables:**\n",
       "\n",
       "*  **F_o:** Olefin feed (barrels per day)\n",
       "*  **F_iR:** Isobutane recycle (barrels per day)\n",
       "*  **F_aA:** Acid addition rate (thousands of pounds per day) \n",
       "*  **F_iM:** Isobutane makeup (barrels per day)\n",
       "\n",
       "**Dependent Variables:**\n",
       "\n",
       "*  **Y_Alk:** Alkylate yield (barrels per day)\n",
       "*  **MON:** Motor octane number\n",
       "*  **DF:** Acid dilution factor\n",
       "*  **F4:** F-4 performance number\n",
       "*  **R_i/o:** External isobutane-to-olefin ratio\n",
       "*  **C_A:** Acid strength (weight percent) \n"
      ],
      "text/plain": [
       "<IPython.core.display.Markdown object>"
      ]
     },
     "execution_count": 308,
     "metadata": {},
     "output_type": "execute_result"
    }
   ],
   "source": [
    "#Show the resopnse in a formatted way\n",
    "Markdown(response.text)"
   ]
  },
  {
   "cell_type": "markdown",
   "id": "15d9e89f",
   "metadata": {},
   "source": [
    "# 2. Ask for objective"
   ]
  },
  {
   "cell_type": "code",
   "execution_count": 309,
   "id": "4f357a19",
   "metadata": {},
   "outputs": [],
   "source": [
    "#Second prompt gets the output of the previous step and generates the code\n",
    "prompt2 = \"Please formulate only the objective function for this mathematical optimization problem.\"\n",
    "prompt2 += problem + response.text\n",
    "response2 = generative_multimodal_model.generate_content([prompt2])"
   ]
  },
  {
   "cell_type": "code",
   "execution_count": 310,
   "id": "bccd1014",
   "metadata": {},
   "outputs": [
    {
     "data": {
      "text/markdown": [
       "## Objective Function:\n",
       "\n",
       "Maximize Profit (P)\n",
       "\n",
       "**P = (Y_Alk * MON * ε_Alk) - (C_o * F_o + C_i * (F_iR + F_iM) + C_aA * F_aA)** \n",
       "\n",
       "**Where:**\n",
       "\n",
       "* **P:** Daily profit\n",
       "* **Y_Alk:** Alkylate yield (calculated from regression formula, subject to 2% deviation: Y_Alk_actual = Y_Alk ± 0.02 * Y_Alk)\n",
       "* **MON:** Motor octane number (calculated from regression formula, subject to 1% deviation: MON_actual = MON ± 0.01 * MON)\n",
       "* **ε_Alk:** Revenue per barrel of alkylate (dependent on MON, pricing not specified)\n",
       "* **C_o:** Cost per barrel of olefin feed\n",
       "* **C_i:** Cost per barrel of isobutane \n",
       "* **C_aA:** Cost per thousand pounds of acid addition \n",
       "* **F_o:** Olefin feed (barrels per day)\n",
       "* **F_iR:** Isobutane recycle (barrels per day)\n",
       "* **F_iM:** Isobutane makeup (barrels per day)\n",
       "* **F_aA:** Acid addition rate (thousands of pounds per day) \n"
      ],
      "text/plain": [
       "<IPython.core.display.Markdown object>"
      ]
     },
     "execution_count": 310,
     "metadata": {},
     "output_type": "execute_result"
    }
   ],
   "source": [
    "Markdown(response2.text)"
   ]
  },
  {
   "cell_type": "markdown",
   "id": "d8ab1404",
   "metadata": {},
   "source": [
    "# 3. Ask for constraints"
   ]
  },
  {
   "cell_type": "code",
   "execution_count": 311,
   "id": "e6409951",
   "metadata": {},
   "outputs": [],
   "source": [
    "#Second prompt gets the output of the previous step and generates the code\n",
    "prompt3 = \"Please formulate only the constraints for this mathematical optimization problem.\"\n",
    "prompt3 += problem + response.text + response2.text\n",
    "response3 = generative_multimodal_model.generate_content([prompt3])"
   ]
  },
  {
   "cell_type": "code",
   "execution_count": 312,
   "id": "2f9439c2",
   "metadata": {},
   "outputs": [
    {
     "data": {
      "text/markdown": [
       "## Constraints:\n",
       "\n",
       "**Regression Model Constraints (with allowable deviations):**\n",
       "\n",
       "1.  **Alkylate Yield:**\n",
       "    *   Lower Bound:  Y_Alk * (1 - 0.02)  ≤  Y_Alk_actual = F_o * (1.12 + 0.13167 * R_i/o - 0.00667 * R_i/o^2) \n",
       "    *   Upper Bound:  Y_Alk * (1 + 0.02)  ≥  Y_Alk_actual = F_o * (1.12 + 0.13167 * R_i/o - 0.00667 * R_i/o^2) \n",
       "\n",
       "2.  **Motor Octane Number:**\n",
       "    *   Lower Bound:  MON * (1 - 0.01) ≤ MON_actual = 86.35 + 1.098 * R_i/o - 0.038 * R_i/o^2 + 0.325 * (C_A - 89)\n",
       "    *   Upper Bound:  MON * (1 + 0.01) ≥ MON_actual = 86.35 + 1.098 * R_i/o - 0.038 * R_i/o^2 + 0.325 * (C_A - 89)\n",
       "\n",
       "3.  **Acid Dilution Factor:**\n",
       "    *   Lower Bound:  DF * (1 - 0.05) ≤ DF_actual = 35.82 - 0.222 * F4 \n",
       "    *   Upper Bound:  DF * (1 + 0.05) ≥ DF_actual = 35.82 - 0.222 * F4\n",
       "\n",
       "4.  **F-4 Performance Number:**\n",
       "    *   Lower Bound:  F4 * (1 - 0.10) ≤ F4_actual = -133 + 3 * MON\n",
       "    *   Upper Bound:  F4 * (1 + 0.10) ≥ F4_actual = -133 + 3 * MON\n",
       "\n",
       "**Process Constraints:**\n",
       "\n",
       "5.  **External Isobutane-to-Olefin Ratio:** \n",
       "    *   R_i/o = (F_iR + F_iM) / F_o\n",
       "\n",
       "6.  **Acid Strength:**\n",
       "    *   C_A = (93000 * F_aA) / (F_aA * DF + 1000 * F_aA)\n",
       "\n",
       "7.  **Alkylate Yield (Process Relationship):**\n",
       "    *   1.22 * Y_Alk =  F_o + F_iM \n",
       "\n",
       "**Variable Bounds:**\n",
       "\n",
       "8.  **Lower and Upper Bounds:** \n",
       "    *   F_o_min ≤ F_o ≤ F_o_max\n",
       "    *   F_iR_min ≤ F_iR ≤ F_iR_max\n",
       "    *   F_aA_min ≤ F_aA ≤ F_aA_max\n",
       "    *   F_iM_min ≤ F_iM ≤ F_iM_max\n",
       "\n",
       "**Where:** _min and _max represent the minimum and maximum allowable values for each variable, respectively. These values are not specified in the problem statement._ \n"
      ],
      "text/plain": [
       "<IPython.core.display.Markdown object>"
      ]
     },
     "execution_count": 312,
     "metadata": {},
     "output_type": "execute_result"
    }
   ],
   "source": [
    "Markdown(response3.text)"
   ]
  },
  {
   "cell_type": "markdown",
   "id": "75796979",
   "metadata": {},
   "source": [
    "## 3. Generate the pyomo code"
   ]
  },
  {
   "cell_type": "code",
   "execution_count": 313,
   "id": "aabea932",
   "metadata": {},
   "outputs": [],
   "source": [
    "#Second prompt gets the output of the previous step and generates the code\n",
    "prompt4 = \"Please write pyomo code for this mathematical problem. Use sample data where needed. Indicate where you use sample data. \\n\"\n",
    "prompt4 += response.text + response2.text + response3.text \n",
    "response4 = generative_multimodal_model.generate_content([prompt4])"
   ]
  },
  {
   "cell_type": "code",
   "execution_count": 314,
   "id": "0dbc9976",
   "metadata": {
    "scrolled": false
   },
   "outputs": [
    {
     "data": {
      "text/markdown": [
       "```python\n",
       "import pyomo.environ as pyo\n",
       "\n",
       "# Sample Data (replace with actual data if available)\n",
       "data = {\n",
       "    'ε_Alk': 2.5,  # Sample revenue per barrel of alkylate (replace with actual pricing)\n",
       "    'C_o': 50,     # Sample cost per barrel of olefin feed\n",
       "    'C_i': 45,     # Sample cost per barrel of isobutane\n",
       "    'C_aA': 0.2,   # Sample cost per thousand pounds of acid addition\n",
       "    'F_o_min': 10000,  # Sample minimum olefin feed\n",
       "    'F_o_max': 20000,  # Sample maximum olefin feed\n",
       "    'F_iR_min': 5000,   # Sample minimum isobutane recycle\n",
       "    'F_iR_max': 15000,  # Sample maximum isobutane recycle\n",
       "    'F_aA_min': 50,     # Sample minimum acid addition rate\n",
       "    'F_aA_max': 150,    # Sample maximum acid addition rate\n",
       "    'F_iM_min': 1000,   # Sample minimum isobutane makeup\n",
       "    'F_iM_max': 10000,  # Sample maximum isobutane makeup\n",
       "}\n",
       "\n",
       "# Model Creation\n",
       "model = pyo.ConcreteModel()\n",
       "\n",
       "# Decision Variables\n",
       "model.F_o = pyo.Var(bounds=(data['F_o_min'], data['F_o_max']))\n",
       "model.F_iR = pyo.Var(bounds=(data['F_iR_min'], data['F_iR_max']))\n",
       "model.F_aA = pyo.Var(bounds=(data['F_aA_min'], data['F_aA_max']))\n",
       "model.F_iM = pyo.Var(bounds=(data['F_iM_min'], data['F_iM_max']))\n",
       "\n",
       "# Dependent Variables\n",
       "model.Y_Alk = pyo.Var()\n",
       "model.MON = pyo.Var()\n",
       "model.DF = pyo.Var()\n",
       "model.F4 = pyo.Var()\n",
       "model.R_i_o = pyo.Var()\n",
       "model.C_A = pyo.Var()\n",
       "\n",
       "# Objective Function\n",
       "def profit(model):\n",
       "    return (model.Y_Alk * model.MON * data['ε_Alk']) - (data['C_o'] * model.F_o + data['C_i'] * (model.F_iR + model.F_iM) + data['C_aA'] * model.F_aA)\n",
       "model.P = pyo.Objective(rule=profit, sense=pyo.maximize)\n",
       "\n",
       "# Constraints\n",
       "model.Alkylate_Yield_Lower = pyo.Constraint(expr=model.Y_Alk * (1 - 0.02) <= model.F_o * (1.12 + 0.13167 * model.R_i_o - 0.00667 * model.R_i_o**2))\n",
       "model.Alkylate_Yield_Upper = pyo.Constraint(expr=model.Y_Alk * (1 + 0.02) >= model.F_o * (1.12 + 0.13167 * model.R_i_o - 0.00667 * model.R_i_o**2))\n",
       "\n",
       "model.MON_Lower = pyo.Constraint(expr=model.MON * (1 - 0.01) <= 86.35 + 1.098 * model.R_i_o - 0.038 * model.R_i_o**2 + 0.325 * (model.C_A - 89))\n",
       "model.MON_Upper = pyo.Constraint(expr=model.MON * (1 + 0.01) >= 86.35 + 1.098 * model.R_i_o - 0.038 * model.R_i_o**2 + 0.325 * (model.C_A - 89))\n",
       "\n",
       "model.DF_Lower = pyo.Constraint(expr=model.DF * (1 - 0.05) <= 35.82 - 0.222 * model.F4)\n",
       "model.DF_Upper = pyo.Constraint(expr=model.DF * (1 + 0.05) >= 35.82 - 0.222 * model.F4)\n",
       "\n",
       "model.F4_Lower = pyo.Constraint(expr=model.F4 * (1 - 0.10) <= -133 + 3 * model.MON)\n",
       "model.F4_Upper = pyo.Constraint(expr=model.F4 * (1 + 0.10) >= -133 + 3 * model.MON)\n",
       "\n",
       "model.External_Isobutane_Ratio = pyo.Constraint(expr=model.R_i_o == (model.F_iR + model.F_iM) / model.F_o)\n",
       "model.Acid_Strength = pyo.Constraint(expr=model.C_A == (93000 * model.F_aA) / (model.F_aA * model.DF + 1000 * model.F_aA))\n",
       "model.Alkylate_Yield_Process = pyo.Constraint(expr=1.22 * model.Y_Alk == model.F_o + model.F_iM)\n",
       "\n",
       "# Solve the Model\n",
       "solver = pyo.SolverFactory('ipopt') # Replace 'ipopt' with another solver if desired\n",
       "results = solver.solve(model)\n",
       "\n",
       "# Print the Results\n",
       "print(\"Status:\", results.solver.status)\n",
       "print(\"Termination condition:\", results.solver.termination_condition)\n",
       "print(\"Optimal Solution:\")\n",
       "print(\"F_o (Olefin Feed):\", pyo.value(model.F_o))\n",
       "print(\"F_iR (Isobutane Recycle):\", pyo.value(model.F_iR))\n",
       "print(\"F_aA (Acid Addition Rate):\", pyo.value(model.F_aA))\n",
       "print(\"F_iM (Isobutane Makeup):\", pyo.value(model.F_iM))\n",
       "print(\"Profit:\", pyo.value(model.P)) \n",
       "```\n",
       "\n",
       "This code defines the optimization problem in Pyomo, including the objective function, decision variables, constraints, and sample data. Remember to replace the sample data with your actual data for meaningful results. \n",
       "\n",
       "The code uses the 'ipopt' solver, but you can choose a different solver if needed. After solving, it prints the solver status, termination condition, optimal values of the decision variables, and the maximized profit. \n"
      ],
      "text/plain": [
       "<IPython.core.display.Markdown object>"
      ]
     },
     "execution_count": 314,
     "metadata": {},
     "output_type": "execute_result"
    }
   ],
   "source": [
    "## Showing the code in a formatted way\n",
    "Markdown(response4.text)"
   ]
  },
  {
   "cell_type": "markdown",
   "id": "b60756ae",
   "metadata": {},
   "source": [
    "## 4. Input problem data and try running the generated code"
   ]
  },
  {
   "cell_type": "code",
   "execution_count": 316,
   "id": "9cc2e439",
   "metadata": {},
   "outputs": [
    {
     "name": "stdout",
     "output_type": "stream",
     "text": [
      "Status: ok\n",
      "Termination condition: optimal\n",
      "Optimal Solution:\n",
      "F_o (Olefin Feed): 2000.0\n",
      "F_iR (Isobutane Recycle): 16000.0\n",
      "F_aA (Acid Addition Rate): 0.0\n",
      "F_iM (Isobutane Makeup): 2398.9981404595396\n",
      "Profit: 206192.39364181433\n"
     ]
    }
   ],
   "source": [
    "import pyomo.environ as pyo\n",
    "\n",
    "# Costs\n",
    "c1, c2, c3, c4, c5 = 0.63, 5.04, 0.035, 10.0, 3.36\n",
    "\n",
    "# Lower and upper bounds\n",
    "x1_l, x1_u = (0, 2000)\n",
    "x2_l, x2_u = (0, 16000)\n",
    "x3_l, x3_u = (0, 120)\n",
    "x4_l, x4_u = (0, 5000)\n",
    "x5_l, x5_u = (0, 2000)\n",
    "x6_l, x6_u = (85, 93)\n",
    "x7_l, x7_u = (90, 95)\n",
    "x8_l, x8_u = (3, 12)\n",
    "x9_l, x9_u = (1.2, 4)\n",
    "x10_l, x10_u = (145, 162)\n",
    "\n",
    "# Decision Variables:\n",
    "#     x1 (continuous): Olefin feed (barrels per day)\n",
    "#     x2 (continuous): Isobutane recycle (barrels per day)\n",
    "#     x3 (continuous): Acid addition rate (thousands of pounds per day)\n",
    "#     x4 (continuous): Alkylate yield (barrels per day)\n",
    "#     x5 (continuous): Isobutane makeup (barrels per day)\n",
    "#     x6 (continuous): Acid strength (weight percent)\n",
    "#     x7 (continuous): Motor octane number\n",
    "#     x8 (continuous): External isobutane-to-olefin ratio\n",
    "#     x9 (continuous): Acid dilution factor\n",
    "#     x10 (continuous): F-4 performance number\n",
    "\n",
    "# Parameters:\n",
    "#     c1 to c5: Costs (used in the objective function)\n",
    "#     x_i^l: Lower bound of variable i\n",
    "#     x_i^u: Upper bound of variable i\n",
    "# Sample Data (replace with actual data if available)\n",
    "data = {\n",
    "    'ε_Alk': 0.63,  # Sample revenue per barrel of alkylate (replace with actual pricing)\n",
    "    'C_o': 5.04,     # Sample cost per barrel of olefin feed\n",
    "    'C_i': 0.035,     # Sample cost per barrel of isobutane\n",
    "    'C_aA': 10,   # Sample cost per thousand pounds of acid addition\n",
    "    'F_o_min': 0,  # Sample minimum olefin feed\n",
    "    'F_o_max': 2000,  # Sample maximum olefin feed\n",
    "    'F_iR_min': 0,   # Sample minimum isobutane recycle\n",
    "    'F_iR_max': 16000,  # Sample maximum isobutane recycle\n",
    "    'F_aA_min': 0,     # Sample minimum acid addition rate\n",
    "    'F_aA_max': 120,    # Sample maximum acid addition rate\n",
    "    'F_iM_min': 0,   # Sample minimum isobutane makeup\n",
    "    'F_iM_max': 5000,  # Sample maximum isobutane makeup\n",
    "}\n",
    "\n",
    "# Model Creation\n",
    "model = pyo.ConcreteModel()\n",
    "\n",
    "# Decision Variables\n",
    "model.F_o = pyo.Var(bounds=(data['F_o_min'], data['F_o_max']))\n",
    "model.F_iR = pyo.Var(bounds=(data['F_iR_min'], data['F_iR_max']))\n",
    "model.F_aA = pyo.Var(bounds=(data['F_aA_min'], data['F_aA_max']))\n",
    "model.F_iM = pyo.Var(bounds=(data['F_iM_min'], data['F_iM_max']))\n",
    "\n",
    "# Dependent Variables\n",
    "model.Y_Alk = pyo.Var()\n",
    "model.MON = pyo.Var()\n",
    "model.DF = pyo.Var()\n",
    "model.F4 = pyo.Var()\n",
    "model.R_i_o = pyo.Var()\n",
    "model.C_A = pyo.Var()\n",
    "\n",
    "# Objective Function\n",
    "def profit(model):\n",
    "    return (model.Y_Alk * model.MON * data['ε_Alk']) - (data['C_o'] * model.F_o + data['C_i'] * (model.F_iR + model.F_iM) + data['C_aA'] * model.F_aA)\n",
    "model.P = pyo.Objective(rule=profit, sense=pyo.maximize)\n",
    "\n",
    "# Constraints\n",
    "model.Alkylate_Yield_Lower = pyo.Constraint(expr=model.Y_Alk * (1 - 0.02) <= model.F_o * (1.12 + 0.13167 * model.R_i_o - 0.00667 * model.R_i_o**2))\n",
    "model.Alkylate_Yield_Upper = pyo.Constraint(expr=model.Y_Alk * (1 + 0.02) >= model.F_o * (1.12 + 0.13167 * model.R_i_o - 0.00667 * model.R_i_o**2))\n",
    "\n",
    "model.MON_Lower = pyo.Constraint(expr=model.MON * (1 - 0.01) <= 86.35 + 1.098 * model.R_i_o - 0.038 * model.R_i_o**2 + 0.325 * (model.C_A - 89))\n",
    "model.MON_Upper = pyo.Constraint(expr=model.MON * (1 + 0.01) >= 86.35 + 1.098 * model.R_i_o - 0.038 * model.R_i_o**2 + 0.325 * (model.C_A - 89))\n",
    "\n",
    "model.DF_Lower = pyo.Constraint(expr=model.DF * (1 - 0.05) <= 35.82 - 0.222 * model.F4)\n",
    "model.DF_Upper = pyo.Constraint(expr=model.DF * (1 + 0.05) >= 35.82 - 0.222 * model.F4)\n",
    "\n",
    "model.F4_Lower = pyo.Constraint(expr=model.F4 * (1 - 0.10) <= -133 + 3 * model.MON)\n",
    "model.F4_Upper = pyo.Constraint(expr=model.F4 * (1 + 0.10) >= -133 + 3 * model.MON)\n",
    "\n",
    "model.External_Isobutane_Ratio = pyo.Constraint(expr=model.R_i_o == (model.F_iR + model.F_iM) / model.F_o)\n",
    "model.Acid_Strength = pyo.Constraint(expr=model.C_A == (93000 * model.F_aA) / (model.F_aA * model.DF + 1000 * model.F_aA))\n",
    "model.Alkylate_Yield_Process = pyo.Constraint(expr=1.22 * model.Y_Alk == model.F_o + model.F_iM)\n",
    "\n",
    "# Solve the Model\n",
    "solver = pyo.SolverFactory('ipopt') # Replace 'ipopt' with another solver if desired\n",
    "results = solver.solve(model)\n",
    "\n",
    "# Print the Results\n",
    "print(\"Status:\", results.solver.status)\n",
    "print(\"Termination condition:\", results.solver.termination_condition)\n",
    "print(\"Optimal Solution:\")\n",
    "print(\"F_o (Olefin Feed):\", pyo.value(model.F_o))\n",
    "print(\"F_iR (Isobutane Recycle):\", pyo.value(model.F_iR))\n",
    "print(\"F_aA (Acid Addition Rate):\", pyo.value(model.F_aA))\n",
    "print(\"F_iM (Isobutane Makeup):\", pyo.value(model.F_iM))\n",
    "print(\"Profit:\", pyo.value(model.P)) "
   ]
  },
  {
   "cell_type": "code",
   "execution_count": 150,
   "id": "a044f00f",
   "metadata": {
    "scrolled": false
   },
   "outputs": [],
   "source": []
  },
  {
   "cell_type": "markdown",
   "id": "1be0926e",
   "metadata": {},
   "source": [
    "## 5. Correct the code to verify model viability (optional)"
   ]
  },
  {
   "cell_type": "code",
   "execution_count": null,
   "id": "a641555b",
   "metadata": {},
   "outputs": [],
   "source": []
  },
  {
   "cell_type": "code",
   "execution_count": null,
   "id": "c386b783",
   "metadata": {},
   "outputs": [],
   "source": []
  },
  {
   "cell_type": "markdown",
   "id": "dbd7b8a8",
   "metadata": {},
   "source": [
    "## 6. Print the responses"
   ]
  },
  {
   "cell_type": "code",
   "execution_count": 317,
   "id": "c76b7575",
   "metadata": {},
   "outputs": [
    {
     "name": "stdout",
     "output_type": "stream",
     "text": [
      "## Variables:\n",
      "\n",
      "**Decision Variables:**\n",
      "\n",
      "*  **F_o:** Olefin feed (barrels per day)\n",
      "*  **F_iR:** Isobutane recycle (barrels per day)\n",
      "*  **F_aA:** Acid addition rate (thousands of pounds per day) \n",
      "*  **F_iM:** Isobutane makeup (barrels per day)\n",
      "\n",
      "**Dependent Variables:**\n",
      "\n",
      "*  **Y_Alk:** Alkylate yield (barrels per day)\n",
      "*  **MON:** Motor octane number\n",
      "*  **DF:** Acid dilution factor\n",
      "*  **F4:** F-4 performance number\n",
      "*  **R_i/o:** External isobutane-to-olefin ratio\n",
      "*  **C_A:** Acid strength (weight percent) \n",
      "\n"
     ]
    }
   ],
   "source": [
    "print(response.text)"
   ]
  },
  {
   "cell_type": "code",
   "execution_count": 318,
   "id": "1bb49c6c",
   "metadata": {},
   "outputs": [
    {
     "name": "stdout",
     "output_type": "stream",
     "text": [
      "## Objective Function:\n",
      "\n",
      "Maximize Profit (P)\n",
      "\n",
      "**P = (Y_Alk * MON * ε_Alk) - (C_o * F_o + C_i * (F_iR + F_iM) + C_aA * F_aA)** \n",
      "\n",
      "**Where:**\n",
      "\n",
      "* **P:** Daily profit\n",
      "* **Y_Alk:** Alkylate yield (calculated from regression formula, subject to 2% deviation: Y_Alk_actual = Y_Alk ± 0.02 * Y_Alk)\n",
      "* **MON:** Motor octane number (calculated from regression formula, subject to 1% deviation: MON_actual = MON ± 0.01 * MON)\n",
      "* **ε_Alk:** Revenue per barrel of alkylate (dependent on MON, pricing not specified)\n",
      "* **C_o:** Cost per barrel of olefin feed\n",
      "* **C_i:** Cost per barrel of isobutane \n",
      "* **C_aA:** Cost per thousand pounds of acid addition \n",
      "* **F_o:** Olefin feed (barrels per day)\n",
      "* **F_iR:** Isobutane recycle (barrels per day)\n",
      "* **F_iM:** Isobutane makeup (barrels per day)\n",
      "* **F_aA:** Acid addition rate (thousands of pounds per day) \n",
      "\n"
     ]
    }
   ],
   "source": [
    "print(response2.text)"
   ]
  },
  {
   "cell_type": "code",
   "execution_count": 319,
   "id": "b95499e6",
   "metadata": {},
   "outputs": [
    {
     "name": "stdout",
     "output_type": "stream",
     "text": [
      "## Constraints:\n",
      "\n",
      "**Regression Model Constraints (with allowable deviations):**\n",
      "\n",
      "1.  **Alkylate Yield:**\n",
      "    *   Lower Bound:  Y_Alk * (1 - 0.02)  ≤  Y_Alk_actual = F_o * (1.12 + 0.13167 * R_i/o - 0.00667 * R_i/o^2) \n",
      "    *   Upper Bound:  Y_Alk * (1 + 0.02)  ≥  Y_Alk_actual = F_o * (1.12 + 0.13167 * R_i/o - 0.00667 * R_i/o^2) \n",
      "\n",
      "2.  **Motor Octane Number:**\n",
      "    *   Lower Bound:  MON * (1 - 0.01) ≤ MON_actual = 86.35 + 1.098 * R_i/o - 0.038 * R_i/o^2 + 0.325 * (C_A - 89)\n",
      "    *   Upper Bound:  MON * (1 + 0.01) ≥ MON_actual = 86.35 + 1.098 * R_i/o - 0.038 * R_i/o^2 + 0.325 * (C_A - 89)\n",
      "\n",
      "3.  **Acid Dilution Factor:**\n",
      "    *   Lower Bound:  DF * (1 - 0.05) ≤ DF_actual = 35.82 - 0.222 * F4 \n",
      "    *   Upper Bound:  DF * (1 + 0.05) ≥ DF_actual = 35.82 - 0.222 * F4\n",
      "\n",
      "4.  **F-4 Performance Number:**\n",
      "    *   Lower Bound:  F4 * (1 - 0.10) ≤ F4_actual = -133 + 3 * MON\n",
      "    *   Upper Bound:  F4 * (1 + 0.10) ≥ F4_actual = -133 + 3 * MON\n",
      "\n",
      "**Process Constraints:**\n",
      "\n",
      "5.  **External Isobutane-to-Olefin Ratio:** \n",
      "    *   R_i/o = (F_iR + F_iM) / F_o\n",
      "\n",
      "6.  **Acid Strength:**\n",
      "    *   C_A = (93000 * F_aA) / (F_aA * DF + 1000 * F_aA)\n",
      "\n",
      "7.  **Alkylate Yield (Process Relationship):**\n",
      "    *   1.22 * Y_Alk =  F_o + F_iM \n",
      "\n",
      "**Variable Bounds:**\n",
      "\n",
      "8.  **Lower and Upper Bounds:** \n",
      "    *   F_o_min ≤ F_o ≤ F_o_max\n",
      "    *   F_iR_min ≤ F_iR ≤ F_iR_max\n",
      "    *   F_aA_min ≤ F_aA ≤ F_aA_max\n",
      "    *   F_iM_min ≤ F_iM ≤ F_iM_max\n",
      "\n",
      "**Where:** _min and _max represent the minimum and maximum allowable values for each variable, respectively. These values are not specified in the problem statement._ \n",
      "\n"
     ]
    }
   ],
   "source": [
    "print(response3.text)"
   ]
  },
  {
   "cell_type": "code",
   "execution_count": 320,
   "id": "184942d4",
   "metadata": {},
   "outputs": [
    {
     "name": "stdout",
     "output_type": "stream",
     "text": [
      "```python\n",
      "import pyomo.environ as pyo\n",
      "\n",
      "# Sample Data (replace with actual data if available)\n",
      "data = {\n",
      "    'ε_Alk': 2.5,  # Sample revenue per barrel of alkylate (replace with actual pricing)\n",
      "    'C_o': 50,     # Sample cost per barrel of olefin feed\n",
      "    'C_i': 45,     # Sample cost per barrel of isobutane\n",
      "    'C_aA': 0.2,   # Sample cost per thousand pounds of acid addition\n",
      "    'F_o_min': 10000,  # Sample minimum olefin feed\n",
      "    'F_o_max': 20000,  # Sample maximum olefin feed\n",
      "    'F_iR_min': 5000,   # Sample minimum isobutane recycle\n",
      "    'F_iR_max': 15000,  # Sample maximum isobutane recycle\n",
      "    'F_aA_min': 50,     # Sample minimum acid addition rate\n",
      "    'F_aA_max': 150,    # Sample maximum acid addition rate\n",
      "    'F_iM_min': 1000,   # Sample minimum isobutane makeup\n",
      "    'F_iM_max': 10000,  # Sample maximum isobutane makeup\n",
      "}\n",
      "\n",
      "# Model Creation\n",
      "model = pyo.ConcreteModel()\n",
      "\n",
      "# Decision Variables\n",
      "model.F_o = pyo.Var(bounds=(data['F_o_min'], data['F_o_max']))\n",
      "model.F_iR = pyo.Var(bounds=(data['F_iR_min'], data['F_iR_max']))\n",
      "model.F_aA = pyo.Var(bounds=(data['F_aA_min'], data['F_aA_max']))\n",
      "model.F_iM = pyo.Var(bounds=(data['F_iM_min'], data['F_iM_max']))\n",
      "\n",
      "# Dependent Variables\n",
      "model.Y_Alk = pyo.Var()\n",
      "model.MON = pyo.Var()\n",
      "model.DF = pyo.Var()\n",
      "model.F4 = pyo.Var()\n",
      "model.R_i_o = pyo.Var()\n",
      "model.C_A = pyo.Var()\n",
      "\n",
      "# Objective Function\n",
      "def profit(model):\n",
      "    return (model.Y_Alk * model.MON * data['ε_Alk']) - (data['C_o'] * model.F_o + data['C_i'] * (model.F_iR + model.F_iM) + data['C_aA'] * model.F_aA)\n",
      "model.P = pyo.Objective(rule=profit, sense=pyo.maximize)\n",
      "\n",
      "# Constraints\n",
      "model.Alkylate_Yield_Lower = pyo.Constraint(expr=model.Y_Alk * (1 - 0.02) <= model.F_o * (1.12 + 0.13167 * model.R_i_o - 0.00667 * model.R_i_o**2))\n",
      "model.Alkylate_Yield_Upper = pyo.Constraint(expr=model.Y_Alk * (1 + 0.02) >= model.F_o * (1.12 + 0.13167 * model.R_i_o - 0.00667 * model.R_i_o**2))\n",
      "\n",
      "model.MON_Lower = pyo.Constraint(expr=model.MON * (1 - 0.01) <= 86.35 + 1.098 * model.R_i_o - 0.038 * model.R_i_o**2 + 0.325 * (model.C_A - 89))\n",
      "model.MON_Upper = pyo.Constraint(expr=model.MON * (1 + 0.01) >= 86.35 + 1.098 * model.R_i_o - 0.038 * model.R_i_o**2 + 0.325 * (model.C_A - 89))\n",
      "\n",
      "model.DF_Lower = pyo.Constraint(expr=model.DF * (1 - 0.05) <= 35.82 - 0.222 * model.F4)\n",
      "model.DF_Upper = pyo.Constraint(expr=model.DF * (1 + 0.05) >= 35.82 - 0.222 * model.F4)\n",
      "\n",
      "model.F4_Lower = pyo.Constraint(expr=model.F4 * (1 - 0.10) <= -133 + 3 * model.MON)\n",
      "model.F4_Upper = pyo.Constraint(expr=model.F4 * (1 + 0.10) >= -133 + 3 * model.MON)\n",
      "\n",
      "model.External_Isobutane_Ratio = pyo.Constraint(expr=model.R_i_o == (model.F_iR + model.F_iM) / model.F_o)\n",
      "model.Acid_Strength = pyo.Constraint(expr=model.C_A == (93000 * model.F_aA) / (model.F_aA * model.DF + 1000 * model.F_aA))\n",
      "model.Alkylate_Yield_Process = pyo.Constraint(expr=1.22 * model.Y_Alk == model.F_o + model.F_iM)\n",
      "\n",
      "# Solve the Model\n",
      "solver = pyo.SolverFactory('ipopt') # Replace 'ipopt' with another solver if desired\n",
      "results = solver.solve(model)\n",
      "\n",
      "# Print the Results\n",
      "print(\"Status:\", results.solver.status)\n",
      "print(\"Termination condition:\", results.solver.termination_condition)\n",
      "print(\"Optimal Solution:\")\n",
      "print(\"F_o (Olefin Feed):\", pyo.value(model.F_o))\n",
      "print(\"F_iR (Isobutane Recycle):\", pyo.value(model.F_iR))\n",
      "print(\"F_aA (Acid Addition Rate):\", pyo.value(model.F_aA))\n",
      "print(\"F_iM (Isobutane Makeup):\", pyo.value(model.F_iM))\n",
      "print(\"Profit:\", pyo.value(model.P)) \n",
      "```\n",
      "\n",
      "This code defines the optimization problem in Pyomo, including the objective function, decision variables, constraints, and sample data. Remember to replace the sample data with your actual data for meaningful results. \n",
      "\n",
      "The code uses the 'ipopt' solver, but you can choose a different solver if needed. After solving, it prints the solver status, termination condition, optimal values of the decision variables, and the maximized profit. \n",
      "\n"
     ]
    }
   ],
   "source": [
    "print(response4.text)"
   ]
  },
  {
   "cell_type": "code",
   "execution_count": null,
   "id": "bd046f37",
   "metadata": {},
   "outputs": [],
   "source": []
  }
 ],
 "metadata": {
  "kernelspec": {
   "display_name": "Python 3 (ipykernel)",
   "language": "python",
   "name": "python3"
  },
  "language_info": {
   "codemirror_mode": {
    "name": "ipython",
    "version": 3
   },
   "file_extension": ".py",
   "mimetype": "text/x-python",
   "name": "python",
   "nbconvert_exporter": "python",
   "pygments_lexer": "ipython3",
   "version": "3.11.4"
  }
 },
 "nbformat": 4,
 "nbformat_minor": 5
}
