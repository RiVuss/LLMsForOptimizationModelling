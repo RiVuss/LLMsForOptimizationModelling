{
 "cells": [
  {
   "cell_type": "markdown",
   "id": "f0005e9e",
   "metadata": {},
   "source": [
    "# LLM Optimization Modelling Experiment"
   ]
  },
  {
   "cell_type": "code",
   "execution_count": 8,
   "id": "7f664028",
   "metadata": {},
   "outputs": [],
   "source": [
    "import vertexai\n",
    "from vertexai.preview.generative_models import GenerativeModel, Image\n",
    "from IPython.display import Markdown"
   ]
  },
  {
   "cell_type": "markdown",
   "id": "f527d6af",
   "metadata": {},
   "source": [
    "## 1. Define the problem description"
   ]
  },
  {
   "cell_type": "code",
   "execution_count": 209,
   "id": "25055ffd",
   "metadata": {},
   "outputs": [],
   "source": [
    "problem = '''Consider a farmer who specializes in raising wheat, corn, and sugar beets on her 500 acres of land. During the winter, she wants to decide how much land to devote to each crop.\n",
    "\n",
    "The farmer knows that at least 200 tons (T) of wheat and 240 T of corn are needed for cattle feed. These amounts can be raised on the farm or bought from a wholesaler.\n",
    "Any production in excess of the feeding requirement would be sold.\n",
    "\n",
    "Over the last decade, mean selling prices have been $170 and $150 per ton of wheat and corn, respectively.\n",
    "The purchase prices are 40% more than this due to the wholesaler’s margin and transportation costs.\n",
    "\n",
    "Another profitable crop is sugar beet, which she expects to sell at $36/T. However, the European Commission imposes a quota on sugar beet production. Any amount in excess of the quota can be sold only at $10/T. The farmer’s quota for next year is 6000 T.\n",
    "\n",
    "Based on past experience, the farmer knows that the mean yield on her land is roughly 2.5 T, 3 T, and 20 T per acre for wheat, corn, and sugar beets, respectively. It costs $150 to plant an acre of wheat, $230 to pant an acre of corn and $260 to plant an acre of sugar beets. \n",
    "\n",
    "The farmer can decide how much of her land she will use to grow each of the three products: wheat, corn and sugar beets. The goal of the farmer is to minimize her total costs (where sales are considered as negative costs).'''"
   ]
  },
  {
   "cell_type": "markdown",
   "id": "472cf9ad",
   "metadata": {},
   "source": [
    "## 2. Ask for parameters"
   ]
  },
  {
   "cell_type": "code",
   "execution_count": 210,
   "id": "e31ec80c",
   "metadata": {},
   "outputs": [],
   "source": [
    "#Initializing the session. To replicate, make sure the right credentials are saved in a PATH variable\n",
    "PROJECT_ID = \"llm4optproblems\"\n",
    "REGION = \"us-central1\"\n",
    "vertexai.init(project=PROJECT_ID, location=REGION)\n",
    "\n",
    "#Specifying the model\n",
    "generative_multimodal_model = GenerativeModel(\"gemini-1.5-pro-preview-0409\")\n",
    "\n",
    "#The propmt applied to all problems\n",
    "prompt = '''Please formulate only the variables for this mathematical optimization problem. \n",
    "'''\n",
    "\n",
    "#Generate the response\n",
    "response = generative_multimodal_model.generate_content([prompt+problem])\n"
   ]
  },
  {
   "cell_type": "code",
   "execution_count": 211,
   "id": "f9adc567",
   "metadata": {
    "scrolled": false
   },
   "outputs": [
    {
     "data": {
      "text/markdown": [
       "## Decision Variables:\n",
       "\n",
       "*  *x*<sub>1</sub>: Acres of land dedicated to wheat production.\n",
       "*  *x*<sub>2</sub>: Acres of land dedicated to corn production.\n",
       "*  *x*<sub>3</sub>: Acres of land dedicated to sugar beet production.\n",
       "\n",
       "## Auxiliary Variables:\n",
       "\n",
       "* *w*<sub>buy</sub>: Tons of wheat purchased.\n",
       "* *c*<sub>buy</sub>: Tons of corn purchased.\n",
       "* *w*<sub>sell</sub>: Tons of wheat sold.\n",
       "* *c*<sub>sell</sub>: Tons of corn sold.\n",
       "* *s*<sub>q</sub>: Tons of sugar beets sold at the quota price.\n",
       "* *s*<sub>e</sub>: Tons of sugar beets sold in excess of the quota. \n"
      ],
      "text/plain": [
       "<IPython.core.display.Markdown object>"
      ]
     },
     "execution_count": 211,
     "metadata": {},
     "output_type": "execute_result"
    }
   ],
   "source": [
    "#Show the resopnse in a formatted way\n",
    "Markdown(response.text)"
   ]
  },
  {
   "cell_type": "markdown",
   "id": "15d9e89f",
   "metadata": {},
   "source": [
    "# 2. Ask for objective"
   ]
  },
  {
   "cell_type": "code",
   "execution_count": 212,
   "id": "4f357a19",
   "metadata": {},
   "outputs": [],
   "source": [
    "#Second prompt gets the output of the previous step and generates the code\n",
    "prompt2 = \"Please formulate only the objective function for this mathematical optimization problem.\"\n",
    "prompt2 += problem + response.text\n",
    "response2 = generative_multimodal_model.generate_content([prompt2])"
   ]
  },
  {
   "cell_type": "code",
   "execution_count": 213,
   "id": "bccd1014",
   "metadata": {},
   "outputs": [
    {
     "data": {
      "text/markdown": [
       "Minimize: \n",
       "\n",
       " $$150x_1 + 230x_2 + 260x_3  + 204w_{buy} + 180c_{buy} - 170w_{sell} - 150c_{sell} - 36s_q - 10s_e$$ \n"
      ],
      "text/plain": [
       "<IPython.core.display.Markdown object>"
      ]
     },
     "execution_count": 213,
     "metadata": {},
     "output_type": "execute_result"
    }
   ],
   "source": [
    "Markdown(response2.text)"
   ]
  },
  {
   "cell_type": "markdown",
   "id": "d8ab1404",
   "metadata": {},
   "source": [
    "# 3. Ask for constraints"
   ]
  },
  {
   "cell_type": "code",
   "execution_count": 214,
   "id": "e6409951",
   "metadata": {},
   "outputs": [],
   "source": [
    "#Second prompt gets the output of the previous step and generates the code\n",
    "prompt3 = \"Please formulate only the constraints for this mathematical optimization problem.\"\n",
    "prompt3 += problem + response.text + response2.text\n",
    "response3 = generative_multimodal_model.generate_content([prompt3])"
   ]
  },
  {
   "cell_type": "code",
   "execution_count": 215,
   "id": "2f9439c2",
   "metadata": {},
   "outputs": [
    {
     "data": {
      "text/markdown": [
       "## Constraints:\n",
       "\n",
       "**Land availability:**\n",
       "\n",
       "*  *x*<sub>1</sub> + *x*<sub>2</sub> + *x*<sub>3</sub> ≤ 500 \n",
       "\n",
       "**Production and purchase balance:**\n",
       "\n",
       "* 2.5*x*<sub>1</sub> + *w*<sub>buy</sub> - *w*<sub>sell</sub> ≥ 200  \n",
       "* 3*x*<sub>2</sub> + *c*<sub>buy</sub> - *c*<sub>sell</sub> ≥ 240 \n",
       "\n",
       "**Sugar beet quota:**\n",
       "\n",
       "* *s*<sub>q</sub> ≤ 6000\n",
       "\n",
       "**Sugar beet production:**\n",
       "\n",
       "* 20*x*<sub>3</sub> = *s*<sub>q</sub> + *s*<sub>e</sub> \n",
       "\n",
       "**Non-negativity:**\n",
       "\n",
       "* *x*<sub>1</sub>, *x*<sub>2</sub>, *x*<sub>3</sub>, *w*<sub>buy</sub>, *c*<sub>buy</sub>, *w*<sub>sell</sub>, *c*<sub>sell</sub>, *s*<sub>q</sub>, *s*<sub>e</sub> ≥ 0 \n"
      ],
      "text/plain": [
       "<IPython.core.display.Markdown object>"
      ]
     },
     "execution_count": 215,
     "metadata": {},
     "output_type": "execute_result"
    }
   ],
   "source": [
    "Markdown(response3.text)"
   ]
  },
  {
   "cell_type": "markdown",
   "id": "75796979",
   "metadata": {},
   "source": [
    "## 3. Generate the pyomo code"
   ]
  },
  {
   "cell_type": "code",
   "execution_count": 216,
   "id": "aabea932",
   "metadata": {},
   "outputs": [],
   "source": [
    "#Second prompt gets the output of the previous step and generates the code\n",
    "prompt4 = \"Please write pyomo code for this mathematical problem. Use sample data where needed. Indicate where you use sample data. \\n\"\n",
    "prompt4 += response.text + response2.text + response3.text \n",
    "response4 = generative_multimodal_model.generate_content([prompt4])"
   ]
  },
  {
   "cell_type": "code",
   "execution_count": 217,
   "id": "0dbc9976",
   "metadata": {
    "scrolled": false
   },
   "outputs": [
    {
     "data": {
      "text/markdown": [
       "```python\n",
       "import pyomo.environ as pyo\n",
       "\n",
       "# Sample Data - Replace with actual data if available\n",
       "land_availability = 500  \n",
       "wheat_demand = 200\n",
       "corn_demand = 240\n",
       "sugar_beet_quota = 6000\n",
       "\n",
       "# Model\n",
       "model = pyo.ConcreteModel()\n",
       "\n",
       "# Decision Variables\n",
       "model.x1 = pyo.Var(within=pyo.NonNegativeReals)  # Acres of wheat\n",
       "model.x2 = pyo.Var(within=pyo.NonNegativeReals)  # Acres of corn\n",
       "model.x3 = pyo.Var(within=pyo.NonNegativeReals)  # Acres of sugar beet\n",
       "\n",
       "# Auxiliary Variables\n",
       "model.w_buy = pyo.Var(within=pyo.NonNegativeReals)  # Tons of wheat purchased\n",
       "model.c_buy = pyo.Var(within=pyo.NonNegativeReals)  # Tons of corn purchased\n",
       "model.w_sell = pyo.Var(within=pyo.NonNegativeReals)  # Tons of wheat sold\n",
       "model.c_sell = pyo.Var(within=pyo.NonNegativeReals)  # Tons of corn sold\n",
       "model.s_q = pyo.Var(within=pyo.NonNegativeReals)  # Tons of sugar beets sold at quota price\n",
       "model.s_e = pyo.Var(within=pyo.NonNegativeReals)  # Tons of sugar beets sold in excess\n",
       "\n",
       "# Objective Function\n",
       "model.profit = pyo.Objective(\n",
       "    expr=150 * model.x1\n",
       "    + 230 * model.x2\n",
       "    + 260 * model.x3\n",
       "    + 204 * model.w_buy\n",
       "    + 180 * model.c_buy\n",
       "    - 170 * model.w_sell\n",
       "    - 150 * model.c_sell\n",
       "    - 36 * model.s_q\n",
       "    - 10 * model.s_e,\n",
       "    sense=pyo.minimize,\n",
       ")\n",
       "\n",
       "# Constraints\n",
       "model.land_constraint = pyo.Constraint(\n",
       "    expr=model.x1 + model.x2 + model.x3 <= land_availability\n",
       ")\n",
       "\n",
       "model.wheat_balance = pyo.Constraint(\n",
       "    expr=2.5 * model.x1 + model.w_buy - model.w_sell >= wheat_demand\n",
       ")\n",
       "\n",
       "model.corn_balance = pyo.Constraint(\n",
       "    expr=3 * model.x2 + model.c_buy - model.c_sell >= corn_demand\n",
       ")\n",
       "\n",
       "model.sugar_quota = pyo.Constraint(expr=model.s_q <= sugar_beet_quota)\n",
       "\n",
       "model.sugar_production = pyo.Constraint(\n",
       "    expr=20 * model.x3 == model.s_q + model.s_e\n",
       ")\n",
       "\n",
       "# Solve\n",
       "solver = pyo.SolverFactory(\"glpk\")\n",
       "solver.solve(model)\n",
       "\n",
       "# Print the solution\n",
       "print(\"Solution:\")\n",
       "print(f\"Wheat Production: {pyo.value(model.x1)} acres\")\n",
       "print(f\"Corn Production: {pyo.value(model.x2)} acres\")\n",
       "print(f\"Sugar Beet Production: {pyo.value(model.x3)} acres\")\n",
       "print(f\"Wheat Purchased: {pyo.value(model.w_buy)} tons\")\n",
       "print(f\"Corn Purchased: {pyo.value(model.c_buy)} tons\")\n",
       "print(f\"Wheat Sold: {pyo.value(model.w_sell)} tons\")\n",
       "print(f\"Corn Sold: {pyo.value(model.c_sell)} tons\")\n",
       "print(f\"Sugar Beets Sold (Quota): {pyo.value(model.s_q)} tons\")\n",
       "print(f\"Sugar Beets Sold (Excess): {pyo.value(model.s_e)} tons\")\n",
       "print(f\"Total Profit: ${pyo.value(model.profit)}\")\n",
       "\n",
       "```\n"
      ],
      "text/plain": [
       "<IPython.core.display.Markdown object>"
      ]
     },
     "execution_count": 217,
     "metadata": {},
     "output_type": "execute_result"
    }
   ],
   "source": [
    "## Showing the code in a formatted way\n",
    "Markdown(response4.text)"
   ]
  },
  {
   "cell_type": "markdown",
   "id": "b60756ae",
   "metadata": {},
   "source": [
    "## 4. Input problem data and try running the generated code"
   ]
  },
  {
   "cell_type": "code",
   "execution_count": 218,
   "id": "9cc2e439",
   "metadata": {},
   "outputs": [
    {
     "name": "stdout",
     "output_type": "stream",
     "text": [
      "Solution:\n",
      "Wheat Production: 120.0 acres\n",
      "Corn Production: 80.0 acres\n",
      "Sugar Beet Production: 300.0 acres\n",
      "Wheat Purchased: 0.0 tons\n",
      "Corn Purchased: 0.0 tons\n",
      "Wheat Sold: 99.9999999999999 tons\n",
      "Corn Sold: 0.0 tons\n",
      "Sugar Beets Sold (Quota): 6000.0 tons\n",
      "Sugar Beets Sold (Excess): 0.0 tons\n",
      "Total Profit: $-118599.99999999999\n"
     ]
    }
   ],
   "source": [
    "import pyomo.environ as pyo\n",
    "\n",
    "# Sample Data - Replace with actual data if available\n",
    "land_availability = 500  \n",
    "wheat_demand = 200\n",
    "corn_demand = 240\n",
    "sugar_beet_quota = 6000\n",
    "\n",
    "# Model\n",
    "model = pyo.ConcreteModel()\n",
    "\n",
    "# Decision Variables\n",
    "model.x1 = pyo.Var(within=pyo.NonNegativeReals)  # Acres of wheat\n",
    "model.x2 = pyo.Var(within=pyo.NonNegativeReals)  # Acres of corn\n",
    "model.x3 = pyo.Var(within=pyo.NonNegativeReals)  # Acres of sugar beet\n",
    "\n",
    "# Auxiliary Variables\n",
    "model.w_buy = pyo.Var(within=pyo.NonNegativeReals)  # Tons of wheat purchased\n",
    "model.c_buy = pyo.Var(within=pyo.NonNegativeReals)  # Tons of corn purchased\n",
    "model.w_sell = pyo.Var(within=pyo.NonNegativeReals)  # Tons of wheat sold\n",
    "model.c_sell = pyo.Var(within=pyo.NonNegativeReals)  # Tons of corn sold\n",
    "model.s_q = pyo.Var(within=pyo.NonNegativeReals)  # Tons of sugar beets sold at quota price\n",
    "model.s_e = pyo.Var(within=pyo.NonNegativeReals)  # Tons of sugar beets sold in excess\n",
    "\n",
    "# Objective Function\n",
    "model.profit = pyo.Objective(\n",
    "    expr=150 * model.x1\n",
    "    + 230 * model.x2\n",
    "    + 260 * model.x3\n",
    "    + 204 * model.w_buy\n",
    "    + 180 * model.c_buy\n",
    "    - 170 * model.w_sell\n",
    "    - 150 * model.c_sell\n",
    "    - 36 * model.s_q\n",
    "    - 10 * model.s_e,\n",
    "    sense=pyo.minimize,\n",
    ")\n",
    "\n",
    "# Constraints\n",
    "model.land_constraint = pyo.Constraint(\n",
    "    expr=model.x1 + model.x2 + model.x3 <= land_availability\n",
    ")\n",
    "\n",
    "model.wheat_balance = pyo.Constraint(\n",
    "    expr=2.5 * model.x1 + model.w_buy - model.w_sell >= wheat_demand\n",
    ")\n",
    "\n",
    "model.corn_balance = pyo.Constraint(\n",
    "    expr=3 * model.x2 + model.c_buy - model.c_sell >= corn_demand\n",
    ")\n",
    "\n",
    "model.sugar_quota = pyo.Constraint(expr=model.s_q <= sugar_beet_quota)\n",
    "\n",
    "model.sugar_production = pyo.Constraint(\n",
    "    expr=20 * model.x3 == model.s_q + model.s_e\n",
    ")\n",
    "\n",
    "# Solve\n",
    "solver = pyo.SolverFactory(\"glpk\")\n",
    "solver.solve(model)\n",
    "\n",
    "# Print the solution\n",
    "print(\"Solution:\")\n",
    "print(f\"Wheat Production: {pyo.value(model.x1)} acres\")\n",
    "print(f\"Corn Production: {pyo.value(model.x2)} acres\")\n",
    "print(f\"Sugar Beet Production: {pyo.value(model.x3)} acres\")\n",
    "print(f\"Wheat Purchased: {pyo.value(model.w_buy)} tons\")\n",
    "print(f\"Corn Purchased: {pyo.value(model.c_buy)} tons\")\n",
    "print(f\"Wheat Sold: {pyo.value(model.w_sell)} tons\")\n",
    "print(f\"Corn Sold: {pyo.value(model.c_sell)} tons\")\n",
    "print(f\"Sugar Beets Sold (Quota): {pyo.value(model.s_q)} tons\")\n",
    "print(f\"Sugar Beets Sold (Excess): {pyo.value(model.s_e)} tons\")\n",
    "print(f\"Total Profit: ${pyo.value(model.profit)}\")"
   ]
  },
  {
   "cell_type": "code",
   "execution_count": 150,
   "id": "884455de",
   "metadata": {
    "scrolled": false
   },
   "outputs": [],
   "source": []
  },
  {
   "cell_type": "markdown",
   "id": "1be0926e",
   "metadata": {},
   "source": [
    "## 5. Correct the code to verify model viability (optional)"
   ]
  },
  {
   "cell_type": "code",
   "execution_count": null,
   "id": "881d0523",
   "metadata": {},
   "outputs": [],
   "source": []
  },
  {
   "cell_type": "markdown",
   "id": "dbd7b8a8",
   "metadata": {},
   "source": [
    "## 6. Print the responses"
   ]
  },
  {
   "cell_type": "code",
   "execution_count": 219,
   "id": "c76b7575",
   "metadata": {},
   "outputs": [
    {
     "name": "stdout",
     "output_type": "stream",
     "text": [
      "## Decision Variables:\n",
      "\n",
      "*  *x*<sub>1</sub>: Acres of land dedicated to wheat production.\n",
      "*  *x*<sub>2</sub>: Acres of land dedicated to corn production.\n",
      "*  *x*<sub>3</sub>: Acres of land dedicated to sugar beet production.\n",
      "\n",
      "## Auxiliary Variables:\n",
      "\n",
      "* *w*<sub>buy</sub>: Tons of wheat purchased.\n",
      "* *c*<sub>buy</sub>: Tons of corn purchased.\n",
      "* *w*<sub>sell</sub>: Tons of wheat sold.\n",
      "* *c*<sub>sell</sub>: Tons of corn sold.\n",
      "* *s*<sub>q</sub>: Tons of sugar beets sold at the quota price.\n",
      "* *s*<sub>e</sub>: Tons of sugar beets sold in excess of the quota. \n",
      "\n"
     ]
    }
   ],
   "source": [
    "print(response.text)"
   ]
  },
  {
   "cell_type": "code",
   "execution_count": 220,
   "id": "1bb49c6c",
   "metadata": {},
   "outputs": [
    {
     "name": "stdout",
     "output_type": "stream",
     "text": [
      "Minimize: \n",
      "\n",
      " $$150x_1 + 230x_2 + 260x_3  + 204w_{buy} + 180c_{buy} - 170w_{sell} - 150c_{sell} - 36s_q - 10s_e$$ \n",
      "\n"
     ]
    }
   ],
   "source": [
    "print(response2.text)"
   ]
  },
  {
   "cell_type": "code",
   "execution_count": 221,
   "id": "b95499e6",
   "metadata": {},
   "outputs": [
    {
     "name": "stdout",
     "output_type": "stream",
     "text": [
      "## Constraints:\n",
      "\n",
      "**Land availability:**\n",
      "\n",
      "*  *x*<sub>1</sub> + *x*<sub>2</sub> + *x*<sub>3</sub> ≤ 500 \n",
      "\n",
      "**Production and purchase balance:**\n",
      "\n",
      "* 2.5*x*<sub>1</sub> + *w*<sub>buy</sub> - *w*<sub>sell</sub> ≥ 200  \n",
      "* 3*x*<sub>2</sub> + *c*<sub>buy</sub> - *c*<sub>sell</sub> ≥ 240 \n",
      "\n",
      "**Sugar beet quota:**\n",
      "\n",
      "* *s*<sub>q</sub> ≤ 6000\n",
      "\n",
      "**Sugar beet production:**\n",
      "\n",
      "* 20*x*<sub>3</sub> = *s*<sub>q</sub> + *s*<sub>e</sub> \n",
      "\n",
      "**Non-negativity:**\n",
      "\n",
      "* *x*<sub>1</sub>, *x*<sub>2</sub>, *x*<sub>3</sub>, *w*<sub>buy</sub>, *c*<sub>buy</sub>, *w*<sub>sell</sub>, *c*<sub>sell</sub>, *s*<sub>q</sub>, *s*<sub>e</sub> ≥ 0 \n",
      "\n"
     ]
    }
   ],
   "source": [
    "print(response3.text)"
   ]
  },
  {
   "cell_type": "code",
   "execution_count": 222,
   "id": "184942d4",
   "metadata": {},
   "outputs": [
    {
     "name": "stdout",
     "output_type": "stream",
     "text": [
      "```python\n",
      "import pyomo.environ as pyo\n",
      "\n",
      "# Sample Data - Replace with actual data if available\n",
      "land_availability = 500  \n",
      "wheat_demand = 200\n",
      "corn_demand = 240\n",
      "sugar_beet_quota = 6000\n",
      "\n",
      "# Model\n",
      "model = pyo.ConcreteModel()\n",
      "\n",
      "# Decision Variables\n",
      "model.x1 = pyo.Var(within=pyo.NonNegativeReals)  # Acres of wheat\n",
      "model.x2 = pyo.Var(within=pyo.NonNegativeReals)  # Acres of corn\n",
      "model.x3 = pyo.Var(within=pyo.NonNegativeReals)  # Acres of sugar beet\n",
      "\n",
      "# Auxiliary Variables\n",
      "model.w_buy = pyo.Var(within=pyo.NonNegativeReals)  # Tons of wheat purchased\n",
      "model.c_buy = pyo.Var(within=pyo.NonNegativeReals)  # Tons of corn purchased\n",
      "model.w_sell = pyo.Var(within=pyo.NonNegativeReals)  # Tons of wheat sold\n",
      "model.c_sell = pyo.Var(within=pyo.NonNegativeReals)  # Tons of corn sold\n",
      "model.s_q = pyo.Var(within=pyo.NonNegativeReals)  # Tons of sugar beets sold at quota price\n",
      "model.s_e = pyo.Var(within=pyo.NonNegativeReals)  # Tons of sugar beets sold in excess\n",
      "\n",
      "# Objective Function\n",
      "model.profit = pyo.Objective(\n",
      "    expr=150 * model.x1\n",
      "    + 230 * model.x2\n",
      "    + 260 * model.x3\n",
      "    + 204 * model.w_buy\n",
      "    + 180 * model.c_buy\n",
      "    - 170 * model.w_sell\n",
      "    - 150 * model.c_sell\n",
      "    - 36 * model.s_q\n",
      "    - 10 * model.s_e,\n",
      "    sense=pyo.minimize,\n",
      ")\n",
      "\n",
      "# Constraints\n",
      "model.land_constraint = pyo.Constraint(\n",
      "    expr=model.x1 + model.x2 + model.x3 <= land_availability\n",
      ")\n",
      "\n",
      "model.wheat_balance = pyo.Constraint(\n",
      "    expr=2.5 * model.x1 + model.w_buy - model.w_sell >= wheat_demand\n",
      ")\n",
      "\n",
      "model.corn_balance = pyo.Constraint(\n",
      "    expr=3 * model.x2 + model.c_buy - model.c_sell >= corn_demand\n",
      ")\n",
      "\n",
      "model.sugar_quota = pyo.Constraint(expr=model.s_q <= sugar_beet_quota)\n",
      "\n",
      "model.sugar_production = pyo.Constraint(\n",
      "    expr=20 * model.x3 == model.s_q + model.s_e\n",
      ")\n",
      "\n",
      "# Solve\n",
      "solver = pyo.SolverFactory(\"glpk\")\n",
      "solver.solve(model)\n",
      "\n",
      "# Print the solution\n",
      "print(\"Solution:\")\n",
      "print(f\"Wheat Production: {pyo.value(model.x1)} acres\")\n",
      "print(f\"Corn Production: {pyo.value(model.x2)} acres\")\n",
      "print(f\"Sugar Beet Production: {pyo.value(model.x3)} acres\")\n",
      "print(f\"Wheat Purchased: {pyo.value(model.w_buy)} tons\")\n",
      "print(f\"Corn Purchased: {pyo.value(model.c_buy)} tons\")\n",
      "print(f\"Wheat Sold: {pyo.value(model.w_sell)} tons\")\n",
      "print(f\"Corn Sold: {pyo.value(model.c_sell)} tons\")\n",
      "print(f\"Sugar Beets Sold (Quota): {pyo.value(model.s_q)} tons\")\n",
      "print(f\"Sugar Beets Sold (Excess): {pyo.value(model.s_e)} tons\")\n",
      "print(f\"Total Profit: ${pyo.value(model.profit)}\")\n",
      "\n",
      "```\n",
      "\n"
     ]
    }
   ],
   "source": [
    "print(response4.text)"
   ]
  },
  {
   "cell_type": "code",
   "execution_count": null,
   "id": "bd046f37",
   "metadata": {},
   "outputs": [],
   "source": []
  }
 ],
 "metadata": {
  "kernelspec": {
   "display_name": "Python 3 (ipykernel)",
   "language": "python",
   "name": "python3"
  },
  "language_info": {
   "codemirror_mode": {
    "name": "ipython",
    "version": 3
   },
   "file_extension": ".py",
   "mimetype": "text/x-python",
   "name": "python",
   "nbconvert_exporter": "python",
   "pygments_lexer": "ipython3",
   "version": "3.11.4"
  }
 },
 "nbformat": 4,
 "nbformat_minor": 5
}
