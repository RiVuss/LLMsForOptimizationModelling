{
 "cells": [
  {
   "cell_type": "markdown",
   "id": "f0005e9e",
   "metadata": {},
   "source": [
    "# LLM Optimization Modelling Experiment"
   ]
  },
  {
   "cell_type": "code",
   "execution_count": 8,
   "id": "7f664028",
   "metadata": {},
   "outputs": [],
   "source": [
    "import vertexai\n",
    "from vertexai.preview.generative_models import GenerativeModel, Image\n",
    "from IPython.display import Markdown"
   ]
  },
  {
   "cell_type": "markdown",
   "id": "f527d6af",
   "metadata": {},
   "source": [
    "## 1. Define the problem description"
   ]
  },
  {
   "cell_type": "code",
   "execution_count": 107,
   "id": "25055ffd",
   "metadata": {},
   "outputs": [],
   "source": [
    "problem = '''Imagine you own a small shop, and you're trying to manage your employees' working hours and sales targets efficiently.\n",
    "You have three kinds of goals overall: sales goals, employee hours goals and overtime goals.\n",
    "\n",
    "Sales Goals: \n",
    "You have a target of selling 5500 units. \n",
    "But sometimes, you might sell fewer (negative deviation) or more (positive deviation) than this target. \n",
    "On average, your full-time employees will sell 5 records per hour and your part-time employees will sell 2 records per hour.\n",
    "\n",
    "Employee Hours: \n",
    "You have both full-time and part-time employees. \n",
    "Your full-time employees are expected to work a total of 800 hours, while part-time employees are expected to work 320 hours. \n",
    "Similarly, like sales, there could be deviations in these working hours. \n",
    "\n",
    "Overtime: \n",
    "Additionally, your employees might end up working overtime. \n",
    "You have a target of 100 hours of overtime for full-time employees.\n",
    "You are not concerned about limiting the overtime of part-time employees.\n",
    "Again, you might deviate from this goal.\n",
    "\n",
    "Each of these deviations has a different priority for you. \n",
    "P1 to P4 are priority factors for each deviation.\n",
    "Your most important goal is to achieve your sales goal.\n",
    "Second to that is the goal to not exceed 100 overtime hours for full-time employees.\n",
    "Then, you next priority is to fully utilize your full-time and part time employees.\n",
    "Your last goal with the lowest priority, you want to keep general overtime hours for both kinds of employees as low as possible.\n",
    "In addition to the general priorities of you goals, you are twice as concerned about fully utilizing the full-time employee hours.\n",
    "Finally, overtime hours of part-time employees have a relative cost of three times that of full-time employees.\n",
    "\n",
    "Now, the goal here is to minimize the overall impact of these deviations, considering their priorities. \n",
    "This means finding the best balance between sales targets, employee hours, and overtime, while keeping in mind which deviations are more critical for your business.'''"
   ]
  },
  {
   "cell_type": "markdown",
   "id": "472cf9ad",
   "metadata": {},
   "source": [
    "## 2. Ask for parameters"
   ]
  },
  {
   "cell_type": "code",
   "execution_count": 108,
   "id": "e31ec80c",
   "metadata": {},
   "outputs": [],
   "source": [
    "#Initializing the session. To replicate, make sure the right credentials are saved in a PATH variable\n",
    "PROJECT_ID = \"llm4optproblems\"\n",
    "REGION = \"us-central1\"\n",
    "vertexai.init(project=PROJECT_ID, location=REGION)\n",
    "\n",
    "#Specifying the model\n",
    "generative_multimodal_model = GenerativeModel(\"gemini-1.5-pro-preview-0409\")\n",
    "\n",
    "#The propmt applied to all problems\n",
    "prompt = '''Please formulate only the variables for this mathematical optimization problem. \n",
    "'''\n",
    "\n",
    "#Generate the response\n",
    "response = generative_multimodal_model.generate_content([prompt+problem])\n"
   ]
  },
  {
   "cell_type": "code",
   "execution_count": 109,
   "id": "f9adc567",
   "metadata": {
    "scrolled": false
   },
   "outputs": [
    {
     "data": {
      "text/markdown": [
       "## Variables:\n",
       "\n",
       "**Sales:**\n",
       "\n",
       "*  `S`:  Total units sold \n",
       "*  `S_dev`: Deviation from the sales target (can be positive or negative)\n",
       "\n",
       "**Employee Hours:**\n",
       "\n",
       "*  `FT_hours`: Total hours worked by full-time employees\n",
       "*  `PT_hours`: Total hours worked by part-time employees\n",
       "*  `FT_hours_dev`: Deviation in full-time employee hours (can be positive or negative)\n",
       "*  `PT_hours_dev`: Deviation in part-time employee hours (can be positive or negative)\n",
       "\n",
       "**Overtime:**\n",
       "\n",
       "*  `FT_overtime`: Total overtime hours for full-time employees\n",
       "*  `FT_overtime_dev`: Deviation in full-time overtime hours (can be positive or negative)\n",
       "*  `PT_overtime`: Total overtime hours for part-time employees \n",
       " \n",
       "\n",
       "**Priorities (Given)**\n",
       "\n",
       "*  `P1`: Priority factor for sales deviation\n",
       "*  `P2`: Priority factor for full-time overtime deviation\n",
       "*  `P3`: Priority factor for full-time employee hours deviation \n",
       "*  `P4`: Priority factor for part-time employee hours deviation \n"
      ],
      "text/plain": [
       "<IPython.core.display.Markdown object>"
      ]
     },
     "execution_count": 109,
     "metadata": {},
     "output_type": "execute_result"
    }
   ],
   "source": [
    "#Show the resopnse in a formatted way\n",
    "Markdown(response.text)"
   ]
  },
  {
   "cell_type": "markdown",
   "id": "15d9e89f",
   "metadata": {},
   "source": [
    "# 2. Ask for objective"
   ]
  },
  {
   "cell_type": "code",
   "execution_count": 110,
   "id": "4f357a19",
   "metadata": {},
   "outputs": [],
   "source": [
    "#Second prompt gets the output of the previous step and generates the code\n",
    "prompt2 = \"Please formulate only the objective function for this mathematical optimization problem.\"\n",
    "prompt2 += problem + response.text\n",
    "response2 = generative_multimodal_model.generate_content([prompt2])"
   ]
  },
  {
   "cell_type": "code",
   "execution_count": 111,
   "id": "bccd1014",
   "metadata": {},
   "outputs": [
    {
     "data": {
      "text/markdown": [
       "```\n",
       "Minimize:\n",
       "\n",
       "P1 * |S_dev| + P2 * |FT_overtime_dev| + 2 * P3 * |FT_hours_dev| + P4 * |PT_hours_dev| + 3 * PT_overtime \n",
       "``` \n"
      ],
      "text/plain": [
       "<IPython.core.display.Markdown object>"
      ]
     },
     "execution_count": 111,
     "metadata": {},
     "output_type": "execute_result"
    }
   ],
   "source": [
    "Markdown(response2.text)"
   ]
  },
  {
   "cell_type": "markdown",
   "id": "d8ab1404",
   "metadata": {},
   "source": [
    "# 3. Ask for constraints"
   ]
  },
  {
   "cell_type": "code",
   "execution_count": 112,
   "id": "e6409951",
   "metadata": {},
   "outputs": [],
   "source": [
    "#Second prompt gets the output of the previous step and generates the code\n",
    "prompt3 = \"Please formulate only the constraints for this mathematical optimization problem.\"\n",
    "prompt3 += problem + response.text + response2.text\n",
    "response3 = generative_multimodal_model.generate_content([prompt3])"
   ]
  },
  {
   "cell_type": "code",
   "execution_count": 113,
   "id": "2f9439c2",
   "metadata": {},
   "outputs": [
    {
     "data": {
      "text/markdown": [
       "## Constraints:\n",
       "\n",
       "**Sales:**\n",
       "\n",
       "*  `S = 5500 + S_dev`  \n",
       "*  `S = 5 * FT_hours + 2 * PT_hours` \n",
       "\n",
       "**Employee Hours:**\n",
       "\n",
       "*  `FT_hours = 800 + FT_hours_dev`\n",
       "*  `PT_hours = 320 + PT_hours_dev`\n",
       "\n",
       "**Overtime:**\n",
       "\n",
       "*  `FT_overtime = 100 + FT_overtime_dev`\n",
       "*  `FT_overtime <= FT_hours` \n",
       "*  `PT_overtime <= PT_hours`\n",
       "\n",
       "**Variable Restrictions:**\n",
       "\n",
       "*  All variables >= 0 (You cannot have negative sales, hours worked, or overtime) \n"
      ],
      "text/plain": [
       "<IPython.core.display.Markdown object>"
      ]
     },
     "execution_count": 113,
     "metadata": {},
     "output_type": "execute_result"
    }
   ],
   "source": [
    "Markdown(response3.text)"
   ]
  },
  {
   "cell_type": "markdown",
   "id": "75796979",
   "metadata": {},
   "source": [
    "## 3. Generate the pyomo code"
   ]
  },
  {
   "cell_type": "code",
   "execution_count": 114,
   "id": "aabea932",
   "metadata": {},
   "outputs": [],
   "source": [
    "#Second prompt gets the output of the previous step and generates the code\n",
    "prompt4 = \"Please write pyomo code for this mathematical problem. Use sample data where needed. Indicate where you use sample data. \\n\"\n",
    "prompt4 += response.text + response2.text + response3.text \n",
    "response4 = generative_multimodal_model.generate_content([prompt4])"
   ]
  },
  {
   "cell_type": "code",
   "execution_count": 115,
   "id": "0dbc9976",
   "metadata": {
    "scrolled": false
   },
   "outputs": [
    {
     "data": {
      "text/markdown": [
       "```python\n",
       "import pyomo.environ as pyo\n",
       "\n",
       "# Sample Data - Replace with actual data if needed\n",
       "P1 = 1  \n",
       "P2 = 1.2\n",
       "P3 = 1.1\n",
       "P4 = 0.9\n",
       "\n",
       "# Model\n",
       "model = pyo.ConcreteModel()\n",
       "\n",
       "# Variables\n",
       "model.S = pyo.Var(within=pyo.NonNegativeReals)\n",
       "model.S_dev = pyo.Var(within=pyo.Reals)\n",
       "model.FT_hours = pyo.Var(within=pyo.NonNegativeReals)\n",
       "model.PT_hours = pyo.Var(within=pyo.NonNegativeReals)\n",
       "model.FT_hours_dev = pyo.Var(within=pyo.Reals)\n",
       "model.PT_hours_dev = pyo.Var(within=pyo.Reals)\n",
       "model.FT_overtime = pyo.Var(within=pyo.NonNegativeReals)\n",
       "model.FT_overtime_dev = pyo.Var(within=pyo.Reals)\n",
       "model.PT_overtime = pyo.Var(within=pyo.NonNegativeReals)\n",
       "\n",
       "# Objective Function\n",
       "model.obj = pyo.Objective(\n",
       "    expr=P1 * abs(model.S_dev)\n",
       "    + P2 * abs(model.FT_overtime_dev)\n",
       "    + 2 * P3 * abs(model.FT_hours_dev)\n",
       "    + P4 * abs(model.PT_hours_dev)\n",
       "    + 3 * model.PT_overtime,\n",
       "    sense=pyo.minimize,\n",
       ")\n",
       "\n",
       "# Constraints\n",
       "model.sales_constraint = pyo.Constraint(expr=model.S == 5500 + model.S_dev)\n",
       "model.sales_hours_constraint = pyo.Constraint(\n",
       "    expr=model.S == 5 * model.FT_hours + 2 * model.PT_hours\n",
       ")\n",
       "model.ft_hours_constraint = pyo.Constraint(expr=model.FT_hours == 800 + model.FT_hours_dev)\n",
       "model.pt_hours_constraint = pyo.Constraint(expr=model.PT_hours == 320 + model.PT_hours_dev)\n",
       "model.ft_overtime_constraint = pyo.Constraint(\n",
       "    expr=model.FT_overtime == 100 + model.FT_overtime_dev\n",
       ")\n",
       "model.ft_overtime_limit = pyo.Constraint(expr=model.FT_overtime <= model.FT_hours)\n",
       "model.pt_overtime_limit = pyo.Constraint(expr=model.PT_overtime <= model.PT_hours)\n",
       "\n",
       "# Solve the model\n",
       "solver = pyo.SolverFactory(\"cbc\")  # Use CBC solver (feel free to change)\n",
       "solver.solve(model)\n",
       "\n",
       "# Print results\n",
       "print(\"Solution:\")\n",
       "print(f\"Total Units Sold (S): {pyo.value(model.S)}\")\n",
       "print(f\"Sales Deviation (S_dev): {pyo.value(model.S_dev)}\")\n",
       "print(f\"Full-Time Hours (FT_hours): {pyo.value(model.FT_hours)}\")\n",
       "print(f\"Part-Time Hours (PT_hours): {pyo.value(model.PT_hours)}\")\n",
       "print(f\"Full-Time Hours Deviation (FT_hours_dev): {pyo.value(model.FT_hours_dev)}\")\n",
       "print(f\"Part-Time Hours Deviation (PT_hours_dev): {pyo.value(model.PT_hours_dev)}\")\n",
       "print(f\"Full-Time Overtime (FT_overtime): {pyo.value(model.FT_overtime)}\")\n",
       "print(\n",
       "    f\"Full-Time Overtime Deviation (FT_overtime_dev): {pyo.value(model.FT_overtime_dev)}\"\n",
       ")\n",
       "print(f\"Part-Time Overtime (PT_overtime): {pyo.value(model.PT_overtime)}\")\n",
       "```\n",
       "\n",
       "**Explanation and Sample Data:**\n",
       "\n",
       "1.  **Import Pyomo:** `import pyomo.environ as pyo` imports the Pyomo library.\n",
       "2.  **Sample Data:** The values for `P1`, `P2`, `P3`, and `P4` are sample priorities. You should replace these with your actual priority factors.\n",
       "3.  **Model Initialization:** `model = pyo.ConcreteModel()` creates a concrete Pyomo model.\n",
       "4.  **Variable Definition:** Each variable (`S`, `S_dev`, `FT_hours`, etc.) is defined using `pyo.Var()`.  We specify that all variables are non-negative (`within=pyo.NonNegativeReals`) except for the deviation variables which can be positive or negative (`within=pyo.Reals`).\n",
       "5.  **Objective Function:** The objective function is defined using `pyo.Objective()`. The `expr` argument represents the mathematical expression to minimize. We use the `abs()` function for absolute values.\n",
       "6.  **Constraints:** Each constraint is defined using `pyo.Constraint()`. The `expr` argument defines the mathematical relationship of the constraint.\n",
       "7.  **Solver:** A solver is selected (`cbc` in this case) and used to solve the model. \n",
       "8.  **Results:** Finally, the optimized values of the variables are printed.\n",
       "\n",
       "**To run this code:**\n",
       "\n",
       "1.  Make sure you have Pyomo and a solver (like CBC) installed.\n",
       "2.  Replace the sample data with your actual data.\n",
       "3.  Save the code as a `.py` file (e.g., `optimization\\_model.py`).\n",
       "4.  Run the code from your terminal using `python optimization_model.py`.\n",
       "\n",
       "This code will output the optimal values for each variable, allowing you to minimize your workforce costs while considering sales targets.\n"
      ],
      "text/plain": [
       "<IPython.core.display.Markdown object>"
      ]
     },
     "execution_count": 115,
     "metadata": {},
     "output_type": "execute_result"
    }
   ],
   "source": [
    "## Showing the code in a formatted way\n",
    "Markdown(response4.text)"
   ]
  },
  {
   "cell_type": "markdown",
   "id": "b60756ae",
   "metadata": {},
   "source": [
    "## 4. Input problem data and try running the generated code"
   ]
  },
  {
   "cell_type": "code",
   "execution_count": 118,
   "id": "9cc2e439",
   "metadata": {},
   "outputs": [
    {
     "ename": "ValueError",
     "evalue": "Cannot load a SolverResults object with bad status: error",
     "output_type": "error",
     "traceback": [
      "\u001b[1;31m---------------------------------------------------------------------------\u001b[0m",
      "\u001b[1;31mValueError\u001b[0m                                Traceback (most recent call last)",
      "Cell \u001b[1;32mIn[118], line 48\u001b[0m\n\u001b[0;32m     46\u001b[0m \u001b[38;5;66;03m# Solve the model\u001b[39;00m\n\u001b[0;32m     47\u001b[0m solver \u001b[38;5;241m=\u001b[39m pyo\u001b[38;5;241m.\u001b[39mSolverFactory(\u001b[38;5;124m\"\u001b[39m\u001b[38;5;124mipopt\u001b[39m\u001b[38;5;124m\"\u001b[39m)  \u001b[38;5;66;03m# Use CBC solver (feel free to change)\u001b[39;00m\n\u001b[1;32m---> 48\u001b[0m solver\u001b[38;5;241m.\u001b[39msolve(model)\n\u001b[0;32m     50\u001b[0m \u001b[38;5;66;03m# Print results\u001b[39;00m\n\u001b[0;32m     51\u001b[0m \u001b[38;5;28mprint\u001b[39m(\u001b[38;5;124m\"\u001b[39m\u001b[38;5;124mSolution:\u001b[39m\u001b[38;5;124m\"\u001b[39m)\n",
      "File \u001b[1;32m~\\anaconda3\\Lib\\site-packages\\pyomo\\opt\\base\\solvers.py:662\u001b[0m, in \u001b[0;36mOptSolver.solve\u001b[1;34m(self, *args, **kwds)\u001b[0m\n\u001b[0;32m    660\u001b[0m \u001b[38;5;28;01melse\u001b[39;00m:\n\u001b[0;32m    661\u001b[0m     \u001b[38;5;28;01mif\u001b[39;00m \u001b[38;5;28mself\u001b[39m\u001b[38;5;241m.\u001b[39m_load_solutions:\n\u001b[1;32m--> 662\u001b[0m         _model\u001b[38;5;241m.\u001b[39msolutions\u001b[38;5;241m.\u001b[39mload_from(\n\u001b[0;32m    663\u001b[0m             result,\n\u001b[0;32m    664\u001b[0m             select\u001b[38;5;241m=\u001b[39m\u001b[38;5;28mself\u001b[39m\u001b[38;5;241m.\u001b[39m_select_index,\n\u001b[0;32m    665\u001b[0m             default_variable_value\u001b[38;5;241m=\u001b[39m\u001b[38;5;28mself\u001b[39m\u001b[38;5;241m.\u001b[39m_default_variable_value,\n\u001b[0;32m    666\u001b[0m         )\n\u001b[0;32m    667\u001b[0m         result\u001b[38;5;241m.\u001b[39m_smap_id \u001b[38;5;241m=\u001b[39m \u001b[38;5;28;01mNone\u001b[39;00m\n\u001b[0;32m    668\u001b[0m         result\u001b[38;5;241m.\u001b[39msolution\u001b[38;5;241m.\u001b[39mclear()\n",
      "File \u001b[1;32m~\\anaconda3\\Lib\\site-packages\\pyomo\\core\\base\\PyomoModel.py:228\u001b[0m, in \u001b[0;36mModelSolutions.load_from\u001b[1;34m(self, results, allow_consistent_values_for_fixed_vars, comparison_tolerance_for_fixed_vars, ignore_invalid_labels, id, delete_symbol_map, clear, default_variable_value, select, ignore_fixed_vars)\u001b[0m\n\u001b[0;32m    223\u001b[0m         logger\u001b[38;5;241m.\u001b[39mwarning(\n\u001b[0;32m    224\u001b[0m             \u001b[38;5;124m\"\u001b[39m\u001b[38;5;124mLoading a SolverResults object with \u001b[39m\u001b[38;5;124m\"\u001b[39m\n\u001b[0;32m    225\u001b[0m             \u001b[38;5;124m\"\u001b[39m\u001b[38;5;124man \u001b[39m\u001b[38;5;124m'\u001b[39m\u001b[38;5;124maborted\u001b[39m\u001b[38;5;124m'\u001b[39m\u001b[38;5;124m status, but containing a solution\u001b[39m\u001b[38;5;124m\"\u001b[39m\n\u001b[0;32m    226\u001b[0m         )\n\u001b[0;32m    227\u001b[0m     \u001b[38;5;28;01melse\u001b[39;00m:\n\u001b[1;32m--> 228\u001b[0m         \u001b[38;5;28;01mraise\u001b[39;00m \u001b[38;5;167;01mValueError\u001b[39;00m(\n\u001b[0;32m    229\u001b[0m             \u001b[38;5;124m\"\u001b[39m\u001b[38;5;124mCannot load a SolverResults object \u001b[39m\u001b[38;5;124m\"\u001b[39m\n\u001b[0;32m    230\u001b[0m             \u001b[38;5;124m\"\u001b[39m\u001b[38;5;124mwith bad status: \u001b[39m\u001b[38;5;132;01m%s\u001b[39;00m\u001b[38;5;124m\"\u001b[39m \u001b[38;5;241m%\u001b[39m \u001b[38;5;28mstr\u001b[39m(results\u001b[38;5;241m.\u001b[39msolver\u001b[38;5;241m.\u001b[39mstatus)\n\u001b[0;32m    231\u001b[0m         )\n\u001b[0;32m    232\u001b[0m \u001b[38;5;28;01mif\u001b[39;00m clear:\n\u001b[0;32m    233\u001b[0m     \u001b[38;5;66;03m#\u001b[39;00m\n\u001b[0;32m    234\u001b[0m     \u001b[38;5;66;03m# Clear the solutions, but not the symbol map\u001b[39;00m\n\u001b[0;32m    235\u001b[0m     \u001b[38;5;66;03m#\u001b[39;00m\n\u001b[0;32m    236\u001b[0m     \u001b[38;5;28mself\u001b[39m\u001b[38;5;241m.\u001b[39mclear(clear_symbol_maps\u001b[38;5;241m=\u001b[39m\u001b[38;5;28;01mFalse\u001b[39;00m)\n",
      "\u001b[1;31mValueError\u001b[0m: Cannot load a SolverResults object with bad status: error"
     ]
    }
   ],
   "source": [
    "import pyomo.environ as pyo\n",
    "\n",
    "# Sample Data - Replace with actual data if needed\n",
    "P1 = 4  \n",
    "P2 = 3\n",
    "P3 = 2\n",
    "P4 = 1\n",
    "\n",
    "# Model\n",
    "model = pyo.ConcreteModel()\n",
    "\n",
    "# Variables\n",
    "model.S = pyo.Var(within=pyo.NonNegativeReals)\n",
    "model.S_dev = pyo.Var(within=pyo.Reals)\n",
    "model.FT_hours = pyo.Var(within=pyo.NonNegativeReals)\n",
    "model.PT_hours = pyo.Var(within=pyo.NonNegativeReals)\n",
    "model.FT_hours_dev = pyo.Var(within=pyo.Reals)\n",
    "model.PT_hours_dev = pyo.Var(within=pyo.Reals)\n",
    "model.FT_overtime = pyo.Var(within=pyo.NonNegativeReals)\n",
    "model.FT_overtime_dev = pyo.Var(within=pyo.Reals)\n",
    "model.PT_overtime = pyo.Var(within=pyo.NonNegativeReals)\n",
    "\n",
    "# Objective Function\n",
    "model.obj = pyo.Objective(\n",
    "    expr=P1 * abs(model.S_dev)\n",
    "    + P2 * abs(model.FT_overtime_dev)\n",
    "    + 2 * P3 * abs(model.FT_hours_dev)\n",
    "    + P4 * abs(model.PT_hours_dev)\n",
    "    + 3 * model.PT_overtime,\n",
    "    sense=pyo.minimize,\n",
    ")\n",
    "\n",
    "# Constraints\n",
    "model.sales_constraint = pyo.Constraint(expr=model.S == 5500 + model.S_dev)\n",
    "model.sales_hours_constraint = pyo.Constraint(\n",
    "    expr=model.S == 5 * model.FT_hours + 2 * model.PT_hours\n",
    ")\n",
    "model.ft_hours_constraint = pyo.Constraint(expr=model.FT_hours == 800 + model.FT_hours_dev)\n",
    "model.pt_hours_constraint = pyo.Constraint(expr=model.PT_hours == 320 + model.PT_hours_dev)\n",
    "model.ft_overtime_constraint = pyo.Constraint(\n",
    "    expr=model.FT_overtime == 100 + model.FT_overtime_dev\n",
    ")\n",
    "model.ft_overtime_limit = pyo.Constraint(expr=model.FT_overtime <= model.FT_hours)\n",
    "model.pt_overtime_limit = pyo.Constraint(expr=model.PT_overtime <= model.PT_hours)\n",
    "\n",
    "# Solve the model\n",
    "solver = pyo.SolverFactory(\"ipopt\")  # Use CBC solver (feel free to change)\n",
    "solver.solve(model)\n",
    "\n",
    "# Print results\n",
    "print(\"Solution:\")\n",
    "print(f\"Total Units Sold (S): {pyo.value(model.S)}\")\n",
    "print(f\"Sales Deviation (S_dev): {pyo.value(model.S_dev)}\")\n",
    "print(f\"Full-Time Hours (FT_hours): {pyo.value(model.FT_hours)}\")\n",
    "print(f\"Part-Time Hours (PT_hours): {pyo.value(model.PT_hours)}\")\n",
    "print(f\"Full-Time Hours Deviation (FT_hours_dev): {pyo.value(model.FT_hours_dev)}\")\n",
    "print(f\"Part-Time Hours Deviation (PT_hours_dev): {pyo.value(model.PT_hours_dev)}\")\n",
    "print(f\"Full-Time Overtime (FT_overtime): {pyo.value(model.FT_overtime)}\")\n",
    "print(\n",
    "    f\"Full-Time Overtime Deviation (FT_overtime_dev): {pyo.value(model.FT_overtime_dev)}\"\n",
    ")\n",
    "print(f\"Part-Time Overtime (PT_overtime): {pyo.value(model.PT_overtime)}\")"
   ]
  },
  {
   "cell_type": "code",
   "execution_count": 120,
   "id": "193284b4",
   "metadata": {
    "scrolled": false
   },
   "outputs": [
    {
     "ename": "SyntaxError",
     "evalue": "invalid syntax (2341199990.py, line 3)",
     "output_type": "error",
     "traceback": [
      "\u001b[1;36m  Cell \u001b[1;32mIn[120], line 3\u001b[1;36m\u001b[0m\n\u001b[1;33m    Solution:\u001b[0m\n\u001b[1;37m             ^\u001b[0m\n\u001b[1;31mSyntaxError\u001b[0m\u001b[1;31m:\u001b[0m invalid syntax\n"
     ]
    }
   ],
   "source": [
    "# THIS CODE WAS RUN IN COLLAB WITH COUENNE! HERE ARE THE RESULTS:\n",
    "\n",
    "# Solution:\n",
    "# Total Units Sold (S): 5500.0\n",
    "# Sales Deviation (S_dev): 0.0\n",
    "# Full-Time Hours (FT_hours): 800.0\n",
    "# Part-Time Hours (PT_hours): 750.0\n",
    "# Full-Time Hours Deviation (FT_hours_dev): 0.0\n",
    "# Part-Time Hours Deviation (PT_hours_dev): 430.0\n",
    "# Full-Time Overtime (FT_overtime): 100.0\n",
    "# Full-Time Overtime Deviation (FT_overtime_dev): 0.0\n",
    "# Part-Time Overtime (PT_overtime): 0.0"
   ]
  },
  {
   "cell_type": "markdown",
   "id": "1be0926e",
   "metadata": {},
   "source": [
    "## 5. Correct the code to verify model viability (optional)"
   ]
  },
  {
   "cell_type": "code",
   "execution_count": null,
   "id": "2f042850",
   "metadata": {},
   "outputs": [],
   "source": []
  },
  {
   "cell_type": "markdown",
   "id": "dbd7b8a8",
   "metadata": {},
   "source": [
    "## 6. Print the responses"
   ]
  },
  {
   "cell_type": "code",
   "execution_count": 121,
   "id": "c76b7575",
   "metadata": {},
   "outputs": [
    {
     "name": "stdout",
     "output_type": "stream",
     "text": [
      "## Variables:\n",
      "\n",
      "**Sales:**\n",
      "\n",
      "*  `S`:  Total units sold \n",
      "*  `S_dev`: Deviation from the sales target (can be positive or negative)\n",
      "\n",
      "**Employee Hours:**\n",
      "\n",
      "*  `FT_hours`: Total hours worked by full-time employees\n",
      "*  `PT_hours`: Total hours worked by part-time employees\n",
      "*  `FT_hours_dev`: Deviation in full-time employee hours (can be positive or negative)\n",
      "*  `PT_hours_dev`: Deviation in part-time employee hours (can be positive or negative)\n",
      "\n",
      "**Overtime:**\n",
      "\n",
      "*  `FT_overtime`: Total overtime hours for full-time employees\n",
      "*  `FT_overtime_dev`: Deviation in full-time overtime hours (can be positive or negative)\n",
      "*  `PT_overtime`: Total overtime hours for part-time employees \n",
      " \n",
      "\n",
      "**Priorities (Given)**\n",
      "\n",
      "*  `P1`: Priority factor for sales deviation\n",
      "*  `P2`: Priority factor for full-time overtime deviation\n",
      "*  `P3`: Priority factor for full-time employee hours deviation \n",
      "*  `P4`: Priority factor for part-time employee hours deviation \n",
      "\n"
     ]
    }
   ],
   "source": [
    "print(response.text)"
   ]
  },
  {
   "cell_type": "code",
   "execution_count": 122,
   "id": "1bb49c6c",
   "metadata": {},
   "outputs": [
    {
     "name": "stdout",
     "output_type": "stream",
     "text": [
      "```\n",
      "Minimize:\n",
      "\n",
      "P1 * |S_dev| + P2 * |FT_overtime_dev| + 2 * P3 * |FT_hours_dev| + P4 * |PT_hours_dev| + 3 * PT_overtime \n",
      "``` \n",
      "\n"
     ]
    }
   ],
   "source": [
    "print(response2.text)"
   ]
  },
  {
   "cell_type": "code",
   "execution_count": 123,
   "id": "b95499e6",
   "metadata": {},
   "outputs": [
    {
     "name": "stdout",
     "output_type": "stream",
     "text": [
      "## Constraints:\n",
      "\n",
      "**Sales:**\n",
      "\n",
      "*  `S = 5500 + S_dev`  \n",
      "*  `S = 5 * FT_hours + 2 * PT_hours` \n",
      "\n",
      "**Employee Hours:**\n",
      "\n",
      "*  `FT_hours = 800 + FT_hours_dev`\n",
      "*  `PT_hours = 320 + PT_hours_dev`\n",
      "\n",
      "**Overtime:**\n",
      "\n",
      "*  `FT_overtime = 100 + FT_overtime_dev`\n",
      "*  `FT_overtime <= FT_hours` \n",
      "*  `PT_overtime <= PT_hours`\n",
      "\n",
      "**Variable Restrictions:**\n",
      "\n",
      "*  All variables >= 0 (You cannot have negative sales, hours worked, or overtime) \n",
      "\n"
     ]
    }
   ],
   "source": [
    "print(response3.text)"
   ]
  },
  {
   "cell_type": "code",
   "execution_count": 124,
   "id": "184942d4",
   "metadata": {},
   "outputs": [
    {
     "name": "stdout",
     "output_type": "stream",
     "text": [
      "```python\n",
      "import pyomo.environ as pyo\n",
      "\n",
      "# Sample Data - Replace with actual data if needed\n",
      "P1 = 1  \n",
      "P2 = 1.2\n",
      "P3 = 1.1\n",
      "P4 = 0.9\n",
      "\n",
      "# Model\n",
      "model = pyo.ConcreteModel()\n",
      "\n",
      "# Variables\n",
      "model.S = pyo.Var(within=pyo.NonNegativeReals)\n",
      "model.S_dev = pyo.Var(within=pyo.Reals)\n",
      "model.FT_hours = pyo.Var(within=pyo.NonNegativeReals)\n",
      "model.PT_hours = pyo.Var(within=pyo.NonNegativeReals)\n",
      "model.FT_hours_dev = pyo.Var(within=pyo.Reals)\n",
      "model.PT_hours_dev = pyo.Var(within=pyo.Reals)\n",
      "model.FT_overtime = pyo.Var(within=pyo.NonNegativeReals)\n",
      "model.FT_overtime_dev = pyo.Var(within=pyo.Reals)\n",
      "model.PT_overtime = pyo.Var(within=pyo.NonNegativeReals)\n",
      "\n",
      "# Objective Function\n",
      "model.obj = pyo.Objective(\n",
      "    expr=P1 * abs(model.S_dev)\n",
      "    + P2 * abs(model.FT_overtime_dev)\n",
      "    + 2 * P3 * abs(model.FT_hours_dev)\n",
      "    + P4 * abs(model.PT_hours_dev)\n",
      "    + 3 * model.PT_overtime,\n",
      "    sense=pyo.minimize,\n",
      ")\n",
      "\n",
      "# Constraints\n",
      "model.sales_constraint = pyo.Constraint(expr=model.S == 5500 + model.S_dev)\n",
      "model.sales_hours_constraint = pyo.Constraint(\n",
      "    expr=model.S == 5 * model.FT_hours + 2 * model.PT_hours\n",
      ")\n",
      "model.ft_hours_constraint = pyo.Constraint(expr=model.FT_hours == 800 + model.FT_hours_dev)\n",
      "model.pt_hours_constraint = pyo.Constraint(expr=model.PT_hours == 320 + model.PT_hours_dev)\n",
      "model.ft_overtime_constraint = pyo.Constraint(\n",
      "    expr=model.FT_overtime == 100 + model.FT_overtime_dev\n",
      ")\n",
      "model.ft_overtime_limit = pyo.Constraint(expr=model.FT_overtime <= model.FT_hours)\n",
      "model.pt_overtime_limit = pyo.Constraint(expr=model.PT_overtime <= model.PT_hours)\n",
      "\n",
      "# Solve the model\n",
      "solver = pyo.SolverFactory(\"cbc\")  # Use CBC solver (feel free to change)\n",
      "solver.solve(model)\n",
      "\n",
      "# Print results\n",
      "print(\"Solution:\")\n",
      "print(f\"Total Units Sold (S): {pyo.value(model.S)}\")\n",
      "print(f\"Sales Deviation (S_dev): {pyo.value(model.S_dev)}\")\n",
      "print(f\"Full-Time Hours (FT_hours): {pyo.value(model.FT_hours)}\")\n",
      "print(f\"Part-Time Hours (PT_hours): {pyo.value(model.PT_hours)}\")\n",
      "print(f\"Full-Time Hours Deviation (FT_hours_dev): {pyo.value(model.FT_hours_dev)}\")\n",
      "print(f\"Part-Time Hours Deviation (PT_hours_dev): {pyo.value(model.PT_hours_dev)}\")\n",
      "print(f\"Full-Time Overtime (FT_overtime): {pyo.value(model.FT_overtime)}\")\n",
      "print(\n",
      "    f\"Full-Time Overtime Deviation (FT_overtime_dev): {pyo.value(model.FT_overtime_dev)}\"\n",
      ")\n",
      "print(f\"Part-Time Overtime (PT_overtime): {pyo.value(model.PT_overtime)}\")\n",
      "```\n",
      "\n",
      "**Explanation and Sample Data:**\n",
      "\n",
      "1.  **Import Pyomo:** `import pyomo.environ as pyo` imports the Pyomo library.\n",
      "2.  **Sample Data:** The values for `P1`, `P2`, `P3`, and `P4` are sample priorities. You should replace these with your actual priority factors.\n",
      "3.  **Model Initialization:** `model = pyo.ConcreteModel()` creates a concrete Pyomo model.\n",
      "4.  **Variable Definition:** Each variable (`S`, `S_dev`, `FT_hours`, etc.) is defined using `pyo.Var()`.  We specify that all variables are non-negative (`within=pyo.NonNegativeReals`) except for the deviation variables which can be positive or negative (`within=pyo.Reals`).\n",
      "5.  **Objective Function:** The objective function is defined using `pyo.Objective()`. The `expr` argument represents the mathematical expression to minimize. We use the `abs()` function for absolute values.\n",
      "6.  **Constraints:** Each constraint is defined using `pyo.Constraint()`. The `expr` argument defines the mathematical relationship of the constraint.\n",
      "7.  **Solver:** A solver is selected (`cbc` in this case) and used to solve the model. \n",
      "8.  **Results:** Finally, the optimized values of the variables are printed.\n",
      "\n",
      "**To run this code:**\n",
      "\n",
      "1.  Make sure you have Pyomo and a solver (like CBC) installed.\n",
      "2.  Replace the sample data with your actual data.\n",
      "3.  Save the code as a `.py` file (e.g., `optimization\\_model.py`).\n",
      "4.  Run the code from your terminal using `python optimization_model.py`.\n",
      "\n",
      "This code will output the optimal values for each variable, allowing you to minimize your workforce costs while considering sales targets.\n",
      "\n"
     ]
    }
   ],
   "source": [
    "print(response4.text)"
   ]
  },
  {
   "cell_type": "code",
   "execution_count": null,
   "id": "bd046f37",
   "metadata": {},
   "outputs": [],
   "source": []
  }
 ],
 "metadata": {
  "kernelspec": {
   "display_name": "Python 3 (ipykernel)",
   "language": "python",
   "name": "python3"
  },
  "language_info": {
   "codemirror_mode": {
    "name": "ipython",
    "version": 3
   },
   "file_extension": ".py",
   "mimetype": "text/x-python",
   "name": "python",
   "nbconvert_exporter": "python",
   "pygments_lexer": "ipython3",
   "version": "3.11.4"
  }
 },
 "nbformat": 4,
 "nbformat_minor": 5
}
