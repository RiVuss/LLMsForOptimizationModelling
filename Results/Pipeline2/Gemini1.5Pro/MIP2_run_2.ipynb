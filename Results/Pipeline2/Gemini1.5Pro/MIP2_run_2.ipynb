{
 "cells": [
  {
   "cell_type": "markdown",
   "id": "f0005e9e",
   "metadata": {},
   "source": [
    "# LLM Optimization Modelling Experiment"
   ]
  },
  {
   "cell_type": "code",
   "execution_count": 1,
   "id": "7f664028",
   "metadata": {},
   "outputs": [],
   "source": [
    "import vertexai\n",
    "from vertexai.preview.generative_models import GenerativeModel, Image\n",
    "from IPython.display import Markdown"
   ]
  },
  {
   "cell_type": "markdown",
   "id": "f527d6af",
   "metadata": {},
   "source": [
    "## 1. Define the problem description"
   ]
  },
  {
   "cell_type": "code",
   "execution_count": 481,
   "id": "25055ffd",
   "metadata": {},
   "outputs": [],
   "source": [
    "problem = '''You are the production planner in a food and beverage production fascility. You are tasked with planning production for the next 12 time periods with the goal of maximizing profit. The production fascility is able to produce two types of food and three types of beverage. The food is produced in whole units, while the beverage can be produced in any fraction of a liter. For each product that is produced at period t, a fixed cost and variable cost incurred. Each product can also be stored which is also associated with a variable cost per product stored. There is also a maximum demand for each product and time period which means that a specific product will not be sold anymore if the demand is met for that time period. Please note, that the demand does not have to be met. The revenue per product and time also differs. The cost for production and storage, the demand and revenue are all provided as in sepearte csv files named \"fixed_cost_production.csv\", \"variable_cost_production.csv\", \"variable_cost_storage.csv\", \"demand.csv\" and \"revenue.csv\" where all files follow the structre of the columns representing time and rows representing product. Finally, there is a constant storage capacity and production capacity for each product that resets each time period. The storage capacity is 580 units of food 1, 687 units of food 2, 599L of beverage one, 788 Liters of beverage 2 and 294L of beverage 3. The production capacity is 1080 units of food 1, 908 units of food 2, 408L of beverage one, 1000L of beverage 2 and 403L of beverage 3. '''"
   ]
  },
  {
   "cell_type": "markdown",
   "id": "472cf9ad",
   "metadata": {},
   "source": [
    "## 2. Ask for parameters"
   ]
  },
  {
   "cell_type": "code",
   "execution_count": 482,
   "id": "e31ec80c",
   "metadata": {},
   "outputs": [],
   "source": [
    "#Initializing the session. To replicate, make sure the right credentials are saved in a PATH variable\n",
    "PROJECT_ID = \"llm4optproblems\"\n",
    "REGION = \"us-central1\"\n",
    "vertexai.init(project=PROJECT_ID, location=REGION)\n",
    "\n",
    "#Specifying the model\n",
    "generative_multimodal_model = GenerativeModel(\"gemini-1.5-pro-preview-0409\")\n",
    "\n",
    "#The propmt applied to all problems\n",
    "prompt = '''Please formulate only the variables for this mathematical optimization problem. \n",
    "'''\n",
    "\n",
    "#Generate the response\n",
    "response = generative_multimodal_model.generate_content([prompt+problem])\n"
   ]
  },
  {
   "cell_type": "code",
   "execution_count": 483,
   "id": "f9adc567",
   "metadata": {},
   "outputs": [
    {
     "data": {
      "text/markdown": [
       "## Indices:\n",
       "\n",
       "* **t:** Time period (t = 1, 2, ..., 12)\n",
       "* **f:** Food product (f = 1, 2)\n",
       "* **b:** Beverage product (b = 1, 2, 3)\n",
       "\n",
       "## Parameters:\n",
       "\n",
       "* **FC_f,t:** Fixed cost of producing one unit of food f in time period t\n",
       "* **VC_f,t:** Variable cost of producing one unit of food f in time period t\n",
       "* **FC_b,t:** Fixed cost of producing one liter of beverage b in time period t\n",
       "* **VC_b,t:** Variable cost of producing one liter of beverage b in time period t\n",
       "* **SC_f,t:** Variable cost of storing one unit of food f in time period t\n",
       "* **SC_b,t:** Variable cost of storing one liter of beverage b in time period t\n",
       "* **D_f,t:** Demand for food f in time period t\n",
       "* **D_b,t:** Demand for beverage b in time period t\n",
       "* **R_f,t:** Revenue for selling one unit of food f in time period t\n",
       "* **R_b,t:** Revenue for selling one liter of beverage b in time period t\n",
       "* **StorageCap_f:** Storage capacity for food f \n",
       "* **StorageCap_b:** Storage capacity for beverage b\n",
       "* **ProdCap_f:** Production capacity for food f\n",
       "* **ProdCap_b:** Production capacity for beverage b\n",
       "\n",
       "## Decision Variables:\n",
       "\n",
       "* **X_f,t:** Quantity of food f produced in time period t (units, integer)\n",
       "* **X_b,t:** Quantity of beverage b produced in time period t (liters, continuous)\n",
       "* **I_f,t:** Quantity of food f stored at the end of time period t (units, integer)\n",
       "* **I_b,t:** Quantity of beverage b stored at the end of time period t (liters, continuous)\n",
       "* **S_f,t:** Quantity of food f sold in time period t (units, integer)\n",
       "* **S_b,t:** Quantity of beverage b sold in time period t (liters, continuous) \n",
       " \n"
      ],
      "text/plain": [
       "<IPython.core.display.Markdown object>"
      ]
     },
     "execution_count": 483,
     "metadata": {},
     "output_type": "execute_result"
    }
   ],
   "source": [
    "#Show the resopnse in a formatted way\n",
    "Markdown(response.text)"
   ]
  },
  {
   "cell_type": "markdown",
   "id": "15d9e89f",
   "metadata": {},
   "source": [
    "# 2. Ask for objective"
   ]
  },
  {
   "cell_type": "code",
   "execution_count": 484,
   "id": "4f357a19",
   "metadata": {},
   "outputs": [],
   "source": [
    "#Second prompt gets the output of the previous step and generates the code\n",
    "prompt2 = \"Please formulate only the objective function for this mathematical optimization problem.\"\n",
    "prompt2 += problem + response.text\n",
    "response2 = generative_multimodal_model.generate_content([prompt2])"
   ]
  },
  {
   "cell_type": "code",
   "execution_count": 485,
   "id": "bccd1014",
   "metadata": {},
   "outputs": [
    {
     "data": {
      "text/markdown": [
       "\\begin{align*}\n",
       "\\text{Maximize} \\quad & \\sum_{t=1}^{12} \\left( \\sum_{f=1}^{2} (R_{f,t}S_{f,t} - FC_{f,t}X_{f,t} - VC_{f,t}X_{f,t} - SC_{f,t}I_{f,t})  + \\sum_{b=1}^{3} (R_{b,t}S_{b,t} - FC_{b,t}X_{b,t} - VC_{b,t}X_{b,t} - SC_{b,t}I_{b,t}) \\right)\n",
       "\\end{align*} \n"
      ],
      "text/plain": [
       "<IPython.core.display.Markdown object>"
      ]
     },
     "execution_count": 485,
     "metadata": {},
     "output_type": "execute_result"
    }
   ],
   "source": [
    "Markdown(response2.text)"
   ]
  },
  {
   "cell_type": "markdown",
   "id": "d8ab1404",
   "metadata": {},
   "source": [
    "# 3. Ask for constraints"
   ]
  },
  {
   "cell_type": "code",
   "execution_count": 486,
   "id": "e6409951",
   "metadata": {},
   "outputs": [],
   "source": [
    "#Second prompt gets the output of the previous step and generates the code\n",
    "prompt3 = \"Please formulate only the constraints for this mathematical optimization problem.\"\n",
    "prompt3 += problem + response.text + response2.text\n",
    "response3 = generative_multimodal_model.generate_content([prompt3])"
   ]
  },
  {
   "cell_type": "code",
   "execution_count": 487,
   "id": "2f9439c2",
   "metadata": {},
   "outputs": [
    {
     "data": {
      "text/markdown": [
       "## Constraints:\n",
       "\n",
       "**1. Production Capacity:**\n",
       "  *  0 ≤ X_f,t ≤ ProdCap_f  for all f = 1, 2 and t = 1, 2, ..., 12 \n",
       "  *  0 ≤ X_b,t ≤ ProdCap_b  for all b = 1, 2, 3 and t = 1, 2, ..., 12 \n",
       "\n",
       "**2. Storage Capacity:**\n",
       "  *  0 ≤ I_f,t ≤ StorageCap_f  for all f = 1, 2 and t = 1, 2, ..., 12\n",
       "  *  0 ≤ I_b,t ≤ StorageCap_b  for all b = 1, 2, 3 and t = 1, 2, ..., 12 \n",
       "\n",
       "**3. Demand Fulfillment (Maximum Sales):**\n",
       "  *  S_f,t ≤ D_f,t for all f = 1, 2 and t = 1, 2, ..., 12\n",
       "  *  S_b,t ≤ D_b,t for all b = 1, 2, 3 and t = 1, 2, ..., 12 \n",
       "\n",
       "**4. Inventory Balance:**\n",
       "  *  I_f,t = I_f,t-1 + X_f,t - S_f,t  for all f = 1, 2 and t = 1, 2, ..., 12  (Assuming I_f,0 = 0 for all f)\n",
       "  *  I_b,t = I_b,t-1 + X_b,t - S_b,t  for all b = 1, 2, 3 and t = 1, 2, ..., 12 (Assuming I_b,0 = 0 for all b)\n",
       "\n",
       "**5. Non-Negativity:**\n",
       "  *  X_f,t, I_f,t, S_f,t ≥ 0  for all f = 1, 2 and t = 1, 2, ..., 12\n",
       "  *  X_b,t, I_b,t, S_b,t ≥ 0  for all b = 1, 2, 3 and t = 1, 2, ..., 12\n",
       "\n",
       "**6. Integer Constraints:**\n",
       "  *  X_f,t, I_f,t, S_f,t ∈ Z (integers) for all f = 1, 2 and t = 1, 2, ..., 12 \n"
      ],
      "text/plain": [
       "<IPython.core.display.Markdown object>"
      ]
     },
     "execution_count": 487,
     "metadata": {},
     "output_type": "execute_result"
    }
   ],
   "source": [
    "Markdown(response3.text)"
   ]
  },
  {
   "cell_type": "markdown",
   "id": "75796979",
   "metadata": {},
   "source": [
    "## 3. Generate the pyomo code"
   ]
  },
  {
   "cell_type": "code",
   "execution_count": 488,
   "id": "aabea932",
   "metadata": {},
   "outputs": [],
   "source": [
    "#Second prompt gets the output of the previous step and generates the code\n",
    "prompt4 = \"Please write pyomo code for this mathematical problem. Use sample data where needed. Indicate where you use sample data. \\n\"\n",
    "prompt4 += response.text + response2.text + response3.text \n",
    "response4 = generative_multimodal_model.generate_content([prompt4])"
   ]
  },
  {
   "cell_type": "code",
   "execution_count": 489,
   "id": "34d034b4",
   "metadata": {},
   "outputs": [
    {
     "data": {
      "text/markdown": [
       "```python\n",
       "import pyomo.environ as pyo\n",
       "\n",
       "# Sample Data (Replace with actual data)\n",
       "# Parameters\n",
       "FC_f = {(1, 1): 100, (1, 2): 110, (2, 1): 120, (2, 2): 130}  # Example: Fixed cost for food\n",
       "VC_f = {(1, 1): 10, (1, 2): 11, (2, 1): 12, (2, 2): 13}   # Example: Variable cost for food\n",
       "FC_b = {(1, 1): 50, (1, 2): 55, (2, 1): 60, (2, 2): 65}    # Example: Fixed cost for beverage\n",
       "VC_b = {(1, 1): 5, (1, 2): 6, (2, 1): 7, (2, 2): 8}     # Example: Variable cost for beverage \n",
       "SC_f = {(1, 1): 2, (1, 2): 3, (2, 1): 4, (2, 2): 5}      # Example: Storage cost for food\n",
       "SC_b = {(1, 1): 1, (1, 2): 2, (2, 1): 3, (2, 2): 4}      # Example: Storage cost for beverage\n",
       "D_f = {(1, 1): 200, (1, 2): 220, (2, 1): 240, (2, 2): 260} # Example: Demand for food\n",
       "D_b = {(1, 1): 300, (1, 2): 330, (2, 1): 360, (2, 2): 390} # Example: Demand for beverage\n",
       "R_f = {(1, 1): 30, (1, 2): 33, (2, 1): 36, (2, 2): 39}   # Example: Revenue for food\n",
       "R_b = {(1, 1): 20, (1, 2): 22, (2, 1): 24, (2, 2): 26}    # Example: Revenue for beverage\n",
       "\n",
       "StorageCap_f = {1: 1000, 2: 1200}  # Example: Storage capacity for food \n",
       "StorageCap_b = {1: 1500, 2: 1800}  # Example: Storage capacity for beverage \n",
       "ProdCap_f = {1: 500, 2: 600}         # Example: Production capacity for food\n",
       "ProdCap_b = {1: 700, 2: 800}         # Example: Production capacity for beverage\n",
       "\n",
       "# Model\n",
       "model = pyo.ConcreteModel()\n",
       "\n",
       "# Sets\n",
       "model.T = pyo.RangeSet(1, 12)  # Time periods\n",
       "model.F = pyo.RangeSet(1, 2)  # Food products\n",
       "model.B = pyo.RangeSet(1, 3)  # Beverage products\n",
       "\n",
       "# Parameters (using sample data)\n",
       "model.FC_f = pyo.Param(model.F, model.T, initialize=FC_f, default=0) \n",
       "model.VC_f = pyo.Param(model.F, model.T, initialize=VC_f, default=0)\n",
       "model.FC_b = pyo.Param(model.B, model.T, initialize=FC_b, default=0)\n",
       "model.VC_b = pyo.Param(model.B, model.T, initialize=VC_b, default=0)\n",
       "model.SC_f = pyo.Param(model.F, model.T, initialize=SC_f, default=0)\n",
       "model.SC_b = pyo.Param(model.B, model.T, initialize=SC_b, default=0)\n",
       "model.D_f = pyo.Param(model.F, model.T, initialize=D_f, default=0)\n",
       "model.D_b = pyo.Param(model.B, model.T, initialize=D_b, default=0)\n",
       "model.R_f = pyo.Param(model.F, model.T, initialize=R_f, default=0)\n",
       "model.R_b = pyo.Param(model.B, model.T, initialize=R_b, default=0)\n",
       "model.StorageCap_f = pyo.Param(model.F, initialize=StorageCap_f)\n",
       "model.StorageCap_b = pyo.Param(model.B, initialize=StorageCap_b)\n",
       "model.ProdCap_f = pyo.Param(model.F, initialize=ProdCap_f)\n",
       "model.ProdCap_b = pyo.Param(model.B, initialize=ProdCap_b)\n",
       "\n",
       "# Decision Variables\n",
       "model.X_f = pyo.Var(model.F, model.T, domain=pyo.NonNegativeIntegers)\n",
       "model.X_b = pyo.Var(model.B, model.T, domain=pyo.NonNegativeReals)\n",
       "model.I_f = pyo.Var(model.F, model.T, domain=pyo.NonNegativeIntegers)\n",
       "model.I_b = pyo.Var(model.B, model.T, domain=pyo.NonNegativeReals)\n",
       "model.S_f = pyo.Var(model.F, model.T, domain=pyo.NonNegativeIntegers)\n",
       "model.S_b = pyo.Var(model.B, model.T, domain=pyo.NonNegativeReals)\n",
       "\n",
       "# Objective Function\n",
       "def objective_rule(model):\n",
       "    return pyo.summation(model.R_f, model.S_f) + pyo.summation(model.R_b, model.S_b) - \\\n",
       "           pyo.summation(model.FC_f, model.X_f) - pyo.summation(model.VC_f, model.X_f) - \\\n",
       "           pyo.summation(model.FC_b, model.X_b) - pyo.summation(model.VC_b, model.X_b) - \\\n",
       "           pyo.summation(model.SC_f, model.I_f) - pyo.summation(model.SC_b, model.I_b)\n",
       "model.profit = pyo.Objective(rule=objective_rule, sense=pyo.maximize)\n",
       "\n",
       "# Constraints\n",
       "def production_capacity_f_rule(model, f, t):\n",
       "    return model.X_f[f, t] <= model.ProdCap_f[f]\n",
       "model.production_capacity_f = pyo.Constraint(model.F, model.T, rule=production_capacity_f_rule)\n",
       "\n",
       "def production_capacity_b_rule(model, b, t):\n",
       "    return model.X_b[b, t] <= model.ProdCap_b[b]\n",
       "model.production_capacity_b = pyo.Constraint(model.B, model.T, rule=production_capacity_b_rule)\n",
       "\n",
       "def storage_capacity_f_rule(model, f, t):\n",
       "    return model.I_f[f, t] <= model.StorageCap_f[f]\n",
       "model.storage_capacity_f = pyo.Constraint(model.F, model.T, rule=storage_capacity_f_rule)\n",
       "\n",
       "def storage_capacity_b_rule(model, b, t):\n",
       "    return model.I_b[b, t] <= model.StorageCap_b[b]\n",
       "model.storage_capacity_b = pyo.Constraint(model.B, model.T, rule=storage_capacity_b_rule)\n",
       "\n",
       "def demand_fulfillment_f_rule(model, f, t):\n",
       "    return model.S_f[f, t] <= model.D_f[f, t]\n",
       "model.demand_fulfillment_f = pyo.Constraint(model.F, model.T, rule=demand_fulfillment_f_rule)\n",
       "\n",
       "def demand_fulfillment_b_rule(model, b, t):\n",
       "    return model.S_b[b, t] <= model.D_b[b, t]\n",
       "model.demand_fulfillment_b = pyo.Constraint(model.B, model.T, rule=demand_fulfillment_b_rule)\n",
       "\n",
       "def inventory_balance_f_rule(model, f, t):\n",
       "    if t == 1:\n",
       "        return model.I_f[f, t] == model.X_f[f, t] - model.S_f[f, t]\n",
       "    else:\n",
       "        return model.I_f[f, t] == model.I_f[f, t-1] + model.X_f[f, t] - model.S_f[f, t] \n",
       "model.inventory_balance_f = pyo.Constraint(model.F, model.T, rule=inventory_balance_f_rule)\n",
       "\n",
       "def inventory_balance_b_rule(model, b, t):\n",
       "    if t == 1:\n",
       "        return model.I_b[b, t] == model.X_b[b, t] - model.S_b[b, t]\n",
       "    else:\n",
       "        return model.I_b[b, t] == model.I_b[b, t-1] + model.X_b[b, t] - model.S_b[b, t]\n",
       "model.inventory_balance_b = pyo.Constraint(model.B, model.T, rule=inventory_balance_b_rule)\n",
       "\n",
       "# Solve the model\n",
       "solver = pyo.SolverFactory('cbc')  # Use CBC solver (replace with other solvers if needed)\n",
       "solver.solve(model)\n",
       "\n",
       "# Print the results\n",
       "print(\"Profit = \", pyo.value(model.profit))\n",
       "\n",
       "# You can access the values of decision variables using model.X_f[f,t].value, etc. \n",
       "```\n"
      ],
      "text/plain": [
       "<IPython.core.display.Markdown object>"
      ]
     },
     "execution_count": 489,
     "metadata": {},
     "output_type": "execute_result"
    }
   ],
   "source": [
    "## Showing the code in a formatted way\n",
    "Markdown(response4.text)"
   ]
  },
  {
   "cell_type": "markdown",
   "id": "b60756ae",
   "metadata": {},
   "source": [
    "## 4. Input problem data and try running the generated code"
   ]
  },
  {
   "cell_type": "code",
   "execution_count": 495,
   "id": "41ed7d93",
   "metadata": {},
   "outputs": [
    {
     "name": "stdout",
     "output_type": "stream",
     "text": [
      "Profit =  508.19059999999996\n"
     ]
    }
   ],
   "source": [
    "import pyomo.environ as pyo\n",
    "\n",
    "# Sample Data (Replace with actual data)\n",
    "# Parameters\n",
    "FC_f = {(1, 1): 100, (1, 2): 110, (2, 1): 120, (2, 2): 130}  # Example: Fixed cost for food\n",
    "VC_f = {(1, 1): 10, (1, 2): 11, (2, 1): 12, (2, 2): 13}   # Example: Variable cost for food\n",
    "FC_b = {(1, 1): 50, (1, 2): 55, (2, 1): 60, (2, 2): 65}    # Example: Fixed cost for beverage\n",
    "VC_b = {(1, 1): 5, (1, 2): 6, (2, 1): 7, (2, 2): 8}     # Example: Variable cost for beverage \n",
    "SC_f = {(1, 1): 2, (1, 2): 3, (2, 1): 4, (2, 2): 5}      # Example: Storage cost for food\n",
    "SC_b = {(1, 1): 1, (1, 2): 2, (2, 1): 3, (2, 2): 4}      # Example: Storage cost for beverage\n",
    "D_f = {(1, 1): 200, (1, 2): 220, (2, 1): 240, (2, 2): 260} # Example: Demand for food\n",
    "D_b = {(1, 1): 300, (1, 2): 330, (2, 1): 360, (2, 2): 390} # Example: Demand for beverage\n",
    "R_f = {(1, 1): 30, (1, 2): 33, (2, 1): 36, (2, 2): 39}   # Example: Revenue for food\n",
    "R_b = {(1, 1): 20, (1, 2): 22, (2, 1): 24, (2, 2): 26}    # Example: Revenue for beverage\n",
    "\n",
    "StorageCap_f = {1: 1000, 2: 1200}  # Example: Storage capacity for food \n",
    "StorageCap_b = {1: 1500, 2: 1800, 3:22}  # Example: Storage capacity for beverage \n",
    "ProdCap_f = {1: 500, 2: 600}         # Example: Production capacity for food\n",
    "ProdCap_b = {1: 700, 2: 800, 3:400}         # Example: Production capacity for beverage\n",
    "\n",
    "\n",
    "##MANUAL START\n",
    "\n",
    "fixed_cost_production = pd.read_csv(\"fixed_cost_production.csv\", index_col=[0])\n",
    "variable_cost_production = pd.read_csv(\"variable_cost_production.csv\", index_col=[0])\n",
    "variable_cost_storage = pd.read_csv(\"variable_cost_storage.csv\", index_col=[0])\n",
    "demand = pd.read_csv(\"demand.csv\", index_col=[0])\n",
    "revenue = pd.read_csv(\"revenue.csv\", index_col=[0])\n",
    "\n",
    "\n",
    "\n",
    "# Function to convert DataFrame to the desired dictionary format\n",
    "def convert_to_dict(df, item_type):\n",
    "    if item_type == \"food\":\n",
    "        data = df.iloc[:2, :]  # Select first two rows for food\n",
    "    elif item_type == \"beverage\":\n",
    "        data = df.iloc[2:, :]  # Select last three rows for beverage\n",
    "\n",
    "    result_dict = {(i+1, t+1): data.iloc[i, t] for i in range(data.shape[0]) for t in range(data.shape[1])}\n",
    "    return result_dict\n",
    "\n",
    "# Convert each DataFrame to the desired dictionary format\n",
    "fixed_cost_production_food = convert_to_dict(fixed_cost_production, \"food\")\n",
    "fixed_cost_production_beverage = convert_to_dict(fixed_cost_production, \"beverage\")\n",
    "\n",
    "variable_cost_production_food = convert_to_dict(variable_cost_production, \"food\")\n",
    "variable_cost_production_beverage = convert_to_dict(variable_cost_production, \"beverage\")\n",
    "\n",
    "variable_cost_storage_food = convert_to_dict(variable_cost_storage, \"food\")\n",
    "variable_cost_storage_beverage = convert_to_dict(variable_cost_storage, \"beverage\")\n",
    "\n",
    "demand_food = convert_to_dict(demand, \"food\")\n",
    "demand_beverage = convert_to_dict(demand, \"beverage\")\n",
    "\n",
    "revenue_food = convert_to_dict(revenue, \"food\")\n",
    "revenue_beverage = convert_to_dict(revenue, \"beverage\")\n",
    "###END\n",
    "C_f = {1: 580, 2: 687}  \n",
    "C_b = {1:599, 2:788, 3:294}\n",
    "P_f = {1: 1080, 2: 908} \n",
    "P_b = {1: 408, 2: 1000,3:403} \n",
    "\n",
    "\n",
    "FC_f = fixed_cost_production_food  # Example: Fixed cost for food\n",
    "VC_f = variable_cost_production_food   # Example: Variable cost for food\n",
    "FC_b = fixed_cost_production_beverage    # Example: Fixed cost for beverage\n",
    "VC_b = variable_cost_production_beverage     # Example: Variable cost for beverage \n",
    "SC_f = variable_cost_storage_food      # Example: Storage cost for food\n",
    "SC_b = variable_cost_storage_beverage      # Example: Storage cost for beverage\n",
    "D_f = demand_food # Example: Demand for food\n",
    "D_b = demand_beverage # Example: Demand for beverage\n",
    "R_f = revenue_food  # Example: Revenue for food\n",
    "R_b = revenue_beverage    # Example: Revenue for beverage\n",
    "\n",
    "StorageCap_f = {1: 580, 2: 687}  # Example: Storage capacity for food \n",
    "StorageCap_b = {1:599, 2:788, 3:294}  # Example: Storage capacity for beverage \n",
    "ProdCap_f = {1: 1080, 2: 908}          # Example: Production capacity for food\n",
    "ProdCap_b =  {1: 408, 2: 1000,3:403}         # Example: Production capacity for beverage\n",
    "\n",
    "\n",
    "#MANUAL END\n",
    "\n",
    "\n",
    "\n",
    "\n",
    "\n",
    "\n",
    "\n",
    "# Model\n",
    "model = pyo.ConcreteModel()\n",
    "\n",
    "# Sets\n",
    "model.T = pyo.RangeSet(1, 12)  # Time periods\n",
    "model.F = pyo.RangeSet(1, 2)  # Food products\n",
    "model.B = pyo.RangeSet(1, 3)  # Beverage products\n",
    "\n",
    "# Parameters (using sample data)\n",
    "model.FC_f = pyo.Param(model.F, model.T, initialize=FC_f, default=0) \n",
    "model.VC_f = pyo.Param(model.F, model.T, initialize=VC_f, default=0)\n",
    "model.FC_b = pyo.Param(model.B, model.T, initialize=FC_b, default=0)\n",
    "model.VC_b = pyo.Param(model.B, model.T, initialize=VC_b, default=0)\n",
    "model.SC_f = pyo.Param(model.F, model.T, initialize=SC_f, default=0)\n",
    "model.SC_b = pyo.Param(model.B, model.T, initialize=SC_b, default=0)\n",
    "model.D_f = pyo.Param(model.F, model.T, initialize=D_f, default=0)\n",
    "model.D_b = pyo.Param(model.B, model.T, initialize=D_b, default=0)\n",
    "model.R_f = pyo.Param(model.F, model.T, initialize=R_f, default=0)\n",
    "model.R_b = pyo.Param(model.B, model.T, initialize=R_b, default=0)\n",
    "model.StorageCap_f = pyo.Param(model.F, initialize=StorageCap_f)\n",
    "model.StorageCap_b = pyo.Param(model.B, initialize=StorageCap_b)\n",
    "model.ProdCap_f = pyo.Param(model.F, initialize=ProdCap_f)\n",
    "model.ProdCap_b = pyo.Param(model.B, initialize=ProdCap_b)\n",
    "\n",
    "# Decision Variables\n",
    "model.X_f = pyo.Var(model.F, model.T, domain=pyo.NonNegativeIntegers)\n",
    "model.X_b = pyo.Var(model.B, model.T, domain=pyo.NonNegativeReals)\n",
    "model.I_f = pyo.Var(model.F, model.T, domain=pyo.NonNegativeIntegers)\n",
    "model.I_b = pyo.Var(model.B, model.T, domain=pyo.NonNegativeReals)\n",
    "model.S_f = pyo.Var(model.F, model.T, domain=pyo.NonNegativeIntegers)\n",
    "model.S_b = pyo.Var(model.B, model.T, domain=pyo.NonNegativeReals)\n",
    "\n",
    "# Objective Function\n",
    "def objective_rule(model):\n",
    "    return pyo.summation(model.R_f, model.S_f) + pyo.summation(model.R_b, model.S_b) - \\\n",
    "           pyo.summation(model.FC_f, model.X_f) - pyo.summation(model.VC_f, model.X_f) - \\\n",
    "           pyo.summation(model.FC_b, model.X_b) - pyo.summation(model.VC_b, model.X_b) - \\\n",
    "           pyo.summation(model.SC_f, model.I_f) - pyo.summation(model.SC_b, model.I_b)\n",
    "model.profit = pyo.Objective(rule=objective_rule, sense=pyo.maximize)\n",
    "\n",
    "# Constraints\n",
    "def production_capacity_f_rule(model, f, t):\n",
    "    return model.X_f[f, t] <= model.ProdCap_f[f]\n",
    "model.production_capacity_f = pyo.Constraint(model.F, model.T, rule=production_capacity_f_rule)\n",
    "\n",
    "def production_capacity_b_rule(model, b, t):\n",
    "    return model.X_b[b, t] <= model.ProdCap_b[b]\n",
    "model.production_capacity_b = pyo.Constraint(model.B, model.T, rule=production_capacity_b_rule)\n",
    "\n",
    "def storage_capacity_f_rule(model, f, t):\n",
    "    return model.I_f[f, t] <= model.StorageCap_f[f]\n",
    "model.storage_capacity_f = pyo.Constraint(model.F, model.T, rule=storage_capacity_f_rule)\n",
    "\n",
    "def storage_capacity_b_rule(model, b, t):\n",
    "    return model.I_b[b, t] <= model.StorageCap_b[b]\n",
    "model.storage_capacity_b = pyo.Constraint(model.B, model.T, rule=storage_capacity_b_rule)\n",
    "\n",
    "def demand_fulfillment_f_rule(model, f, t):\n",
    "    return model.S_f[f, t] <= model.D_f[f, t]\n",
    "model.demand_fulfillment_f = pyo.Constraint(model.F, model.T, rule=demand_fulfillment_f_rule)\n",
    "\n",
    "def demand_fulfillment_b_rule(model, b, t):\n",
    "    return model.S_b[b, t] <= model.D_b[b, t]\n",
    "model.demand_fulfillment_b = pyo.Constraint(model.B, model.T, rule=demand_fulfillment_b_rule)\n",
    "\n",
    "def inventory_balance_f_rule(model, f, t):\n",
    "    if t == 1:\n",
    "        return model.I_f[f, t] == model.X_f[f, t] - model.S_f[f, t]\n",
    "    else:\n",
    "        return model.I_f[f, t] == model.I_f[f, t-1] + model.X_f[f, t] - model.S_f[f, t] \n",
    "model.inventory_balance_f = pyo.Constraint(model.F, model.T, rule=inventory_balance_f_rule)\n",
    "\n",
    "def inventory_balance_b_rule(model, b, t):\n",
    "    if t == 1:\n",
    "        return model.I_b[b, t] == model.X_b[b, t] - model.S_b[b, t]\n",
    "    else:\n",
    "        return model.I_b[b, t] == model.I_b[b, t-1] + model.X_b[b, t] - model.S_b[b, t]\n",
    "model.inventory_balance_b = pyo.Constraint(model.B, model.T, rule=inventory_balance_b_rule)\n",
    "\n",
    "# Solve the model\n",
    "solver = pyo.SolverFactory('glpk')  # Use CBC solver (replace with other solvers if needed)\n",
    "solver.solve(model)\n",
    "\n",
    "# Print the results\n",
    "print(\"Profit = \", pyo.value(model.profit))"
   ]
  },
  {
   "cell_type": "markdown",
   "id": "1be0926e",
   "metadata": {},
   "source": [
    "## 5. Correct the code to verify model viability (optional)"
   ]
  },
  {
   "cell_type": "code",
   "execution_count": null,
   "id": "8b37acfc",
   "metadata": {},
   "outputs": [],
   "source": []
  },
  {
   "cell_type": "code",
   "execution_count": null,
   "id": "b828b34e",
   "metadata": {
    "scrolled": false
   },
   "outputs": [],
   "source": []
  },
  {
   "cell_type": "markdown",
   "id": "cebcc190",
   "metadata": {},
   "source": [
    "## 6. Print the responses"
   ]
  },
  {
   "cell_type": "code",
   "execution_count": 497,
   "id": "d62d669c",
   "metadata": {},
   "outputs": [
    {
     "name": "stdout",
     "output_type": "stream",
     "text": [
      "## Indices:\n",
      "\n",
      "* **t:** Time period (t = 1, 2, ..., 12)\n",
      "* **f:** Food product (f = 1, 2)\n",
      "* **b:** Beverage product (b = 1, 2, 3)\n",
      "\n",
      "## Parameters:\n",
      "\n",
      "* **FC_f,t:** Fixed cost of producing one unit of food f in time period t\n",
      "* **VC_f,t:** Variable cost of producing one unit of food f in time period t\n",
      "* **FC_b,t:** Fixed cost of producing one liter of beverage b in time period t\n",
      "* **VC_b,t:** Variable cost of producing one liter of beverage b in time period t\n",
      "* **SC_f,t:** Variable cost of storing one unit of food f in time period t\n",
      "* **SC_b,t:** Variable cost of storing one liter of beverage b in time period t\n",
      "* **D_f,t:** Demand for food f in time period t\n",
      "* **D_b,t:** Demand for beverage b in time period t\n",
      "* **R_f,t:** Revenue for selling one unit of food f in time period t\n",
      "* **R_b,t:** Revenue for selling one liter of beverage b in time period t\n",
      "* **StorageCap_f:** Storage capacity for food f \n",
      "* **StorageCap_b:** Storage capacity for beverage b\n",
      "* **ProdCap_f:** Production capacity for food f\n",
      "* **ProdCap_b:** Production capacity for beverage b\n",
      "\n",
      "## Decision Variables:\n",
      "\n",
      "* **X_f,t:** Quantity of food f produced in time period t (units, integer)\n",
      "* **X_b,t:** Quantity of beverage b produced in time period t (liters, continuous)\n",
      "* **I_f,t:** Quantity of food f stored at the end of time period t (units, integer)\n",
      "* **I_b,t:** Quantity of beverage b stored at the end of time period t (liters, continuous)\n",
      "* **S_f,t:** Quantity of food f sold in time period t (units, integer)\n",
      "* **S_b,t:** Quantity of beverage b sold in time period t (liters, continuous) \n",
      " \n",
      "\n"
     ]
    }
   ],
   "source": [
    "print(response.text)"
   ]
  },
  {
   "cell_type": "code",
   "execution_count": 498,
   "id": "2282fb7c",
   "metadata": {},
   "outputs": [
    {
     "name": "stdout",
     "output_type": "stream",
     "text": [
      "\\begin{align*}\n",
      "\\text{Maximize} \\quad & \\sum_{t=1}^{12} \\left( \\sum_{f=1}^{2} (R_{f,t}S_{f,t} - FC_{f,t}X_{f,t} - VC_{f,t}X_{f,t} - SC_{f,t}I_{f,t})  + \\sum_{b=1}^{3} (R_{b,t}S_{b,t} - FC_{b,t}X_{b,t} - VC_{b,t}X_{b,t} - SC_{b,t}I_{b,t}) \\right)\n",
      "\\end{align*} \n",
      "\n"
     ]
    }
   ],
   "source": [
    "print(response2.text)"
   ]
  },
  {
   "cell_type": "code",
   "execution_count": 499,
   "id": "0bc68c7f",
   "metadata": {},
   "outputs": [
    {
     "name": "stdout",
     "output_type": "stream",
     "text": [
      "## Constraints:\n",
      "\n",
      "**1. Production Capacity:**\n",
      "  *  0 ≤ X_f,t ≤ ProdCap_f  for all f = 1, 2 and t = 1, 2, ..., 12 \n",
      "  *  0 ≤ X_b,t ≤ ProdCap_b  for all b = 1, 2, 3 and t = 1, 2, ..., 12 \n",
      "\n",
      "**2. Storage Capacity:**\n",
      "  *  0 ≤ I_f,t ≤ StorageCap_f  for all f = 1, 2 and t = 1, 2, ..., 12\n",
      "  *  0 ≤ I_b,t ≤ StorageCap_b  for all b = 1, 2, 3 and t = 1, 2, ..., 12 \n",
      "\n",
      "**3. Demand Fulfillment (Maximum Sales):**\n",
      "  *  S_f,t ≤ D_f,t for all f = 1, 2 and t = 1, 2, ..., 12\n",
      "  *  S_b,t ≤ D_b,t for all b = 1, 2, 3 and t = 1, 2, ..., 12 \n",
      "\n",
      "**4. Inventory Balance:**\n",
      "  *  I_f,t = I_f,t-1 + X_f,t - S_f,t  for all f = 1, 2 and t = 1, 2, ..., 12  (Assuming I_f,0 = 0 for all f)\n",
      "  *  I_b,t = I_b,t-1 + X_b,t - S_b,t  for all b = 1, 2, 3 and t = 1, 2, ..., 12 (Assuming I_b,0 = 0 for all b)\n",
      "\n",
      "**5. Non-Negativity:**\n",
      "  *  X_f,t, I_f,t, S_f,t ≥ 0  for all f = 1, 2 and t = 1, 2, ..., 12\n",
      "  *  X_b,t, I_b,t, S_b,t ≥ 0  for all b = 1, 2, 3 and t = 1, 2, ..., 12\n",
      "\n",
      "**6. Integer Constraints:**\n",
      "  *  X_f,t, I_f,t, S_f,t ∈ Z (integers) for all f = 1, 2 and t = 1, 2, ..., 12 \n",
      "\n"
     ]
    }
   ],
   "source": [
    "print(response3.text)"
   ]
  },
  {
   "cell_type": "code",
   "execution_count": 500,
   "id": "f1e00be3",
   "metadata": {},
   "outputs": [
    {
     "name": "stdout",
     "output_type": "stream",
     "text": [
      "```python\n",
      "import pyomo.environ as pyo\n",
      "\n",
      "# Sample Data (Replace with actual data)\n",
      "# Parameters\n",
      "FC_f = {(1, 1): 100, (1, 2): 110, (2, 1): 120, (2, 2): 130}  # Example: Fixed cost for food\n",
      "VC_f = {(1, 1): 10, (1, 2): 11, (2, 1): 12, (2, 2): 13}   # Example: Variable cost for food\n",
      "FC_b = {(1, 1): 50, (1, 2): 55, (2, 1): 60, (2, 2): 65}    # Example: Fixed cost for beverage\n",
      "VC_b = {(1, 1): 5, (1, 2): 6, (2, 1): 7, (2, 2): 8}     # Example: Variable cost for beverage \n",
      "SC_f = {(1, 1): 2, (1, 2): 3, (2, 1): 4, (2, 2): 5}      # Example: Storage cost for food\n",
      "SC_b = {(1, 1): 1, (1, 2): 2, (2, 1): 3, (2, 2): 4}      # Example: Storage cost for beverage\n",
      "D_f = {(1, 1): 200, (1, 2): 220, (2, 1): 240, (2, 2): 260} # Example: Demand for food\n",
      "D_b = {(1, 1): 300, (1, 2): 330, (2, 1): 360, (2, 2): 390} # Example: Demand for beverage\n",
      "R_f = {(1, 1): 30, (1, 2): 33, (2, 1): 36, (2, 2): 39}   # Example: Revenue for food\n",
      "R_b = {(1, 1): 20, (1, 2): 22, (2, 1): 24, (2, 2): 26}    # Example: Revenue for beverage\n",
      "\n",
      "StorageCap_f = {1: 1000, 2: 1200}  # Example: Storage capacity for food \n",
      "StorageCap_b = {1: 1500, 2: 1800}  # Example: Storage capacity for beverage \n",
      "ProdCap_f = {1: 500, 2: 600}         # Example: Production capacity for food\n",
      "ProdCap_b = {1: 700, 2: 800}         # Example: Production capacity for beverage\n",
      "\n",
      "# Model\n",
      "model = pyo.ConcreteModel()\n",
      "\n",
      "# Sets\n",
      "model.T = pyo.RangeSet(1, 12)  # Time periods\n",
      "model.F = pyo.RangeSet(1, 2)  # Food products\n",
      "model.B = pyo.RangeSet(1, 3)  # Beverage products\n",
      "\n",
      "# Parameters (using sample data)\n",
      "model.FC_f = pyo.Param(model.F, model.T, initialize=FC_f, default=0) \n",
      "model.VC_f = pyo.Param(model.F, model.T, initialize=VC_f, default=0)\n",
      "model.FC_b = pyo.Param(model.B, model.T, initialize=FC_b, default=0)\n",
      "model.VC_b = pyo.Param(model.B, model.T, initialize=VC_b, default=0)\n",
      "model.SC_f = pyo.Param(model.F, model.T, initialize=SC_f, default=0)\n",
      "model.SC_b = pyo.Param(model.B, model.T, initialize=SC_b, default=0)\n",
      "model.D_f = pyo.Param(model.F, model.T, initialize=D_f, default=0)\n",
      "model.D_b = pyo.Param(model.B, model.T, initialize=D_b, default=0)\n",
      "model.R_f = pyo.Param(model.F, model.T, initialize=R_f, default=0)\n",
      "model.R_b = pyo.Param(model.B, model.T, initialize=R_b, default=0)\n",
      "model.StorageCap_f = pyo.Param(model.F, initialize=StorageCap_f)\n",
      "model.StorageCap_b = pyo.Param(model.B, initialize=StorageCap_b)\n",
      "model.ProdCap_f = pyo.Param(model.F, initialize=ProdCap_f)\n",
      "model.ProdCap_b = pyo.Param(model.B, initialize=ProdCap_b)\n",
      "\n",
      "# Decision Variables\n",
      "model.X_f = pyo.Var(model.F, model.T, domain=pyo.NonNegativeIntegers)\n",
      "model.X_b = pyo.Var(model.B, model.T, domain=pyo.NonNegativeReals)\n",
      "model.I_f = pyo.Var(model.F, model.T, domain=pyo.NonNegativeIntegers)\n",
      "model.I_b = pyo.Var(model.B, model.T, domain=pyo.NonNegativeReals)\n",
      "model.S_f = pyo.Var(model.F, model.T, domain=pyo.NonNegativeIntegers)\n",
      "model.S_b = pyo.Var(model.B, model.T, domain=pyo.NonNegativeReals)\n",
      "\n",
      "# Objective Function\n",
      "def objective_rule(model):\n",
      "    return pyo.summation(model.R_f, model.S_f) + pyo.summation(model.R_b, model.S_b) - \\\n",
      "           pyo.summation(model.FC_f, model.X_f) - pyo.summation(model.VC_f, model.X_f) - \\\n",
      "           pyo.summation(model.FC_b, model.X_b) - pyo.summation(model.VC_b, model.X_b) - \\\n",
      "           pyo.summation(model.SC_f, model.I_f) - pyo.summation(model.SC_b, model.I_b)\n",
      "model.profit = pyo.Objective(rule=objective_rule, sense=pyo.maximize)\n",
      "\n",
      "# Constraints\n",
      "def production_capacity_f_rule(model, f, t):\n",
      "    return model.X_f[f, t] <= model.ProdCap_f[f]\n",
      "model.production_capacity_f = pyo.Constraint(model.F, model.T, rule=production_capacity_f_rule)\n",
      "\n",
      "def production_capacity_b_rule(model, b, t):\n",
      "    return model.X_b[b, t] <= model.ProdCap_b[b]\n",
      "model.production_capacity_b = pyo.Constraint(model.B, model.T, rule=production_capacity_b_rule)\n",
      "\n",
      "def storage_capacity_f_rule(model, f, t):\n",
      "    return model.I_f[f, t] <= model.StorageCap_f[f]\n",
      "model.storage_capacity_f = pyo.Constraint(model.F, model.T, rule=storage_capacity_f_rule)\n",
      "\n",
      "def storage_capacity_b_rule(model, b, t):\n",
      "    return model.I_b[b, t] <= model.StorageCap_b[b]\n",
      "model.storage_capacity_b = pyo.Constraint(model.B, model.T, rule=storage_capacity_b_rule)\n",
      "\n",
      "def demand_fulfillment_f_rule(model, f, t):\n",
      "    return model.S_f[f, t] <= model.D_f[f, t]\n",
      "model.demand_fulfillment_f = pyo.Constraint(model.F, model.T, rule=demand_fulfillment_f_rule)\n",
      "\n",
      "def demand_fulfillment_b_rule(model, b, t):\n",
      "    return model.S_b[b, t] <= model.D_b[b, t]\n",
      "model.demand_fulfillment_b = pyo.Constraint(model.B, model.T, rule=demand_fulfillment_b_rule)\n",
      "\n",
      "def inventory_balance_f_rule(model, f, t):\n",
      "    if t == 1:\n",
      "        return model.I_f[f, t] == model.X_f[f, t] - model.S_f[f, t]\n",
      "    else:\n",
      "        return model.I_f[f, t] == model.I_f[f, t-1] + model.X_f[f, t] - model.S_f[f, t] \n",
      "model.inventory_balance_f = pyo.Constraint(model.F, model.T, rule=inventory_balance_f_rule)\n",
      "\n",
      "def inventory_balance_b_rule(model, b, t):\n",
      "    if t == 1:\n",
      "        return model.I_b[b, t] == model.X_b[b, t] - model.S_b[b, t]\n",
      "    else:\n",
      "        return model.I_b[b, t] == model.I_b[b, t-1] + model.X_b[b, t] - model.S_b[b, t]\n",
      "model.inventory_balance_b = pyo.Constraint(model.B, model.T, rule=inventory_balance_b_rule)\n",
      "\n",
      "# Solve the model\n",
      "solver = pyo.SolverFactory('cbc')  # Use CBC solver (replace with other solvers if needed)\n",
      "solver.solve(model)\n",
      "\n",
      "# Print the results\n",
      "print(\"Profit = \", pyo.value(model.profit))\n",
      "\n",
      "# You can access the values of decision variables using model.X_f[f,t].value, etc. \n",
      "```\n",
      "\n"
     ]
    }
   ],
   "source": [
    "print(response4.text)"
   ]
  },
  {
   "cell_type": "code",
   "execution_count": null,
   "id": "b3e9da3c",
   "metadata": {},
   "outputs": [],
   "source": []
  }
 ],
 "metadata": {
  "kernelspec": {
   "display_name": "Python 3 (ipykernel)",
   "language": "python",
   "name": "python3"
  },
  "language_info": {
   "codemirror_mode": {
    "name": "ipython",
    "version": 3
   },
   "file_extension": ".py",
   "mimetype": "text/x-python",
   "name": "python",
   "nbconvert_exporter": "python",
   "pygments_lexer": "ipython3",
   "version": "3.11.4"
  }
 },
 "nbformat": 4,
 "nbformat_minor": 5
}
