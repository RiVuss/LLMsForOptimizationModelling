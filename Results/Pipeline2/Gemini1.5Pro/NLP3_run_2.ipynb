{
 "cells": [
  {
   "cell_type": "markdown",
   "id": "f0005e9e",
   "metadata": {},
   "source": [
    "# LLM Optimization Modelling Experiment"
   ]
  },
  {
   "cell_type": "code",
   "execution_count": 8,
   "id": "7f664028",
   "metadata": {},
   "outputs": [],
   "source": [
    "import vertexai\n",
    "from vertexai.preview.generative_models import GenerativeModel, Image\n",
    "from IPython.display import Markdown"
   ]
  },
  {
   "cell_type": "markdown",
   "id": "f527d6af",
   "metadata": {},
   "source": [
    "## 1. Define the problem description"
   ]
  },
  {
   "cell_type": "code",
   "execution_count": 51,
   "id": "25055ffd",
   "metadata": {},
   "outputs": [],
   "source": [
    "problem = '''A buyer needs to acquire 239,600,480 units of a product and is considering bids from five suppliers, labeled A through E, each of whom can only supply a portion of the total required amount.\n",
    "Each vendor has proposed different pricing structures, incorporating both setup fees and variable unit costs that change based on the quantity ordered.\n",
    "\n",
    "The buyer's objective is to allocate the order among these suppliers to minimize overall costs, accounting for both setup and unit costs.\n",
    "\n",
    "Vendor A offers a set up cost of $3855.34 and a unit cost of $61.150 per thousand of units.\n",
    "Vendor A can supply up to 33 million units.\n",
    "\n",
    "Vendor B offers a set up cost of $125,804.84 if purchasing between 22,000,000-70,000,000 units from vendor B with a unit cost of $68.099 per thousand units.\n",
    "If purchasing between 70,000,001-100,000,000 units from vendor B, the set up cost increases to $269304.84 and the unit cost sinks to $66.049 per thousand units.\n",
    "If purchasing between 100,000,001-150,000,000 units from vendor B, the unit cost per thousand units further decreases to $64.099, but the set up cost increases to $464304.84.\n",
    "If purchasing between 150,000,001 and 160,000,000 units from vendor B, the unit cost is $62.119 per thousand units and the set up cost equals $761304.84.\n",
    "\n",
    "Vendor C offers set up costs of $13,456.00 and a unit cost of $62.019 per thousand units.\n",
    "Vendor C can supply up to 165.6 million units. Vendor D offers set up costs of $6,583.98 and a unit cost of $72.488 for a set of thousand units.\n",
    "\n",
    "Vendor D can supply up to 12 million units at a price of $72.488 per thousand units and with a set up cost of $6583.98.\n",
    "\n",
    "Vendor E offers free set up if purchasing between 0 and 42 million units of vendor E with a unit price of $70.150 per thousand units.\n",
    "If purchasing between 42,000,001 and 77 million units from vendor E, the unit cost starts at $68.150 per thousand units, but with every one million units purchased the price decreases at a rate of 0.05 percent. An additional set up cost of $84000 will be charged as well.\n",
    "\n",
    "Note that zero units may be purchased from vendor B: otherwise no positive number of units less than 22,000,000 may be purchased.'''"
   ]
  },
  {
   "cell_type": "markdown",
   "id": "472cf9ad",
   "metadata": {},
   "source": [
    "## 2. Ask for parameters"
   ]
  },
  {
   "cell_type": "code",
   "execution_count": 70,
   "id": "e31ec80c",
   "metadata": {},
   "outputs": [],
   "source": [
    "#Initializing the session. To replicate, make sure the right credentials are saved in a PATH variable\n",
    "PROJECT_ID = \"llm4optproblems\"\n",
    "REGION = \"us-central1\"\n",
    "vertexai.init(project=PROJECT_ID, location=REGION)\n",
    "\n",
    "#Specifying the model\n",
    "generative_multimodal_model = GenerativeModel(\"gemini-1.5-pro-preview-0409\")\n",
    "\n",
    "#The propmt applied to all problems\n",
    "prompt = '''Please formulate only the variables for this mathematical optimization problem. \n",
    "'''\n",
    "\n",
    "#Generate the response\n",
    "response = generative_multimodal_model.generate_content([prompt+problem])\n"
   ]
  },
  {
   "cell_type": "code",
   "execution_count": 71,
   "id": "f9adc567",
   "metadata": {
    "scrolled": false
   },
   "outputs": [
    {
     "data": {
      "text/markdown": [
       "## Decision Variables:\n",
       "\n",
       "*  **Xa:** Units purchased from Vendor A (in thousands)\n",
       "*  **Xb1:** Units purchased from Vendor B under the first pricing tier (22,000,000-70,000,000 units) (in thousands)\n",
       "*  **Xb2:** Units purchased from Vendor B under the second pricing tier (70,000,001-100,000,000 units) (in thousands)\n",
       "*  **Xb3:** Units purchased from Vendor B under the third pricing tier (100,000,001-150,000,000 units) (in thousands)\n",
       "*  **Xb4:** Units purchased from Vendor B under the fourth pricing tier (150,000,001-160,000,000 units) (in thousands)\n",
       "*  **Xc:** Units purchased from Vendor C (in thousands)\n",
       "*  **Xd:** Units purchased from Vendor D (in thousands)\n",
       "*  **Xe1:** Units purchased from Vendor E under the first pricing tier (0-42,000,000 units) (in thousands)\n",
       "*  **Xe2:** Units purchased from Vendor E under the second pricing tier (42,000,001-77,000,000 units) (in thousands) \n",
       "\n",
       "## Binary Variables:\n",
       "\n",
       "* **Yb1:** 1 if any quantity is purchased from Vendor B within the first pricing tier, 0 otherwise.\n",
       "* **Yb2:** 1 if any quantity is purchased from Vendor B within the second pricing tier, 0 otherwise.\n",
       "* **Yb3:** 1 if any quantity is purchased from Vendor B within the third pricing tier, 0 otherwise.\n",
       "* **Yb4:** 1 if any quantity is purchased from Vendor B within the fourth pricing tier, 0 otherwise.\n",
       "* **Ye1:** 1 if any quantity is purchased from Vendor E within the first pricing tier, 0 otherwise.\n",
       "* **Ye2:** 1 if any quantity is purchased from Vendor E within the second pricing tier, 0 otherwise. \n"
      ],
      "text/plain": [
       "<IPython.core.display.Markdown object>"
      ]
     },
     "execution_count": 71,
     "metadata": {},
     "output_type": "execute_result"
    }
   ],
   "source": [
    "#Show the resopnse in a formatted way\n",
    "Markdown(response.text)"
   ]
  },
  {
   "cell_type": "markdown",
   "id": "15d9e89f",
   "metadata": {},
   "source": [
    "# 2. Ask for objective"
   ]
  },
  {
   "cell_type": "code",
   "execution_count": 72,
   "id": "4f357a19",
   "metadata": {},
   "outputs": [],
   "source": [
    "#Second prompt gets the output of the previous step and generates the code\n",
    "prompt2 = \"Please formulate only the objective function for this mathematical optimization problem.\"\n",
    "prompt2 += problem + response.text\n",
    "response2 = generative_multimodal_model.generate_content([prompt2])"
   ]
  },
  {
   "cell_type": "code",
   "execution_count": 73,
   "id": "bccd1014",
   "metadata": {},
   "outputs": [
    {
     "data": {
      "text/markdown": [
       "Minimize: \n",
       "\n",
       "```\n",
       "Total Cost = (3855.34 * Xa) + (61.150 * Xa) + (125804.84 * Yb1) + (68.099 * Xb1) + (269304.84 * Yb2) + (66.049 * Xb2) + (464304.84 * Yb3) + (64.099 * Xb3) + (761304.84 * Yb4) + (62.119 * Xb4) + (13456 * Xc) + (62.019 * Xc) + (6583.98 * Xd) + (72.488 * Xd) + (70.150 * Xe1) + (84000 * Ye2) +  Σ(from i=0 to Xe2-1) [ (68.150 - (0.05 * i)) ]\n",
       "``` \n"
      ],
      "text/plain": [
       "<IPython.core.display.Markdown object>"
      ]
     },
     "execution_count": 73,
     "metadata": {},
     "output_type": "execute_result"
    }
   ],
   "source": [
    "Markdown(response2.text)"
   ]
  },
  {
   "cell_type": "markdown",
   "id": "d8ab1404",
   "metadata": {},
   "source": [
    "# 3. Ask for constraints"
   ]
  },
  {
   "cell_type": "code",
   "execution_count": 74,
   "id": "e6409951",
   "metadata": {},
   "outputs": [],
   "source": [
    "#Second prompt gets the output of the previous step and generates the code\n",
    "prompt3 = \"Please formulate only the constraints for this mathematical optimization problem.\"\n",
    "prompt3 += problem + response.text + response2.text\n",
    "response3 = generative_multimodal_model.generate_content([prompt3])"
   ]
  },
  {
   "cell_type": "code",
   "execution_count": 75,
   "id": "2f9439c2",
   "metadata": {},
   "outputs": [
    {
     "data": {
      "text/markdown": [
       "## Constraints:\n",
       "\n",
       "**Demand Constraint:**\n",
       "\n",
       "* Xa + Xb1 + Xb2 + Xb3 + Xb4 + Xc + Xd + Xe1 + Xe2 = 239,600.48 \n",
       "\n",
       "**Supplier Capacity Constraints:**\n",
       "\n",
       "* Xa <= 33,000\n",
       "* Xb1 + Xb2 + Xb3 + Xb4 <= 160,000\n",
       "* Xc <= 165,600\n",
       "* Xd <= 12,000\n",
       "* Xe1 + Xe2 <= 77,000\n",
       "\n",
       "**Vendor B Minimum Purchase Constraints:**\n",
       "\n",
       "* Xb1 >= 22,000 * Yb1 \n",
       "* Xb1 <= 70,000 * Yb1\n",
       "* Xb2 >= 70,001 * Yb2\n",
       "* Xb2 <= 100,000 * Yb2\n",
       "* Xb3 >= 100,001 * Yb3\n",
       "* Xb3 <= 150,000 * Yb3\n",
       "* Xb4 >= 150,001 * Yb4\n",
       "* Xb4 <= 160,000 * Yb4\n",
       "\n",
       "**Vendor E Pricing Tier Constraints:**\n",
       "\n",
       "* Xe1 <= 42,000 * Ye1\n",
       "* Xe2 >= 42,001 * Ye2\n",
       "* Xe2 <= 77,000 * Ye2\n",
       "\n",
       "**Binary Variable Constraints:**\n",
       "\n",
       "* Yb1 + Yb2 + Yb3 + Yb4 <= 1 \n",
       "* Ye1 + Ye2 <= 1\n",
       "\n",
       "**Non-Negativity Constraints:**\n",
       "\n",
       "* Xa, Xb1, Xb2, Xb3, Xb4, Xc, Xd, Xe1, Xe2 >= 0\n",
       "\n",
       "**Binary Variable Definitions:**\n",
       "\n",
       "* Yb1, Yb2, Yb3, Yb4, Ye1, Ye2 ∈ {0, 1} \n"
      ],
      "text/plain": [
       "<IPython.core.display.Markdown object>"
      ]
     },
     "execution_count": 75,
     "metadata": {},
     "output_type": "execute_result"
    }
   ],
   "source": [
    "Markdown(response3.text)"
   ]
  },
  {
   "cell_type": "markdown",
   "id": "75796979",
   "metadata": {},
   "source": [
    "## 3. Generate the pyomo code"
   ]
  },
  {
   "cell_type": "code",
   "execution_count": 76,
   "id": "aabea932",
   "metadata": {},
   "outputs": [],
   "source": [
    "#Second prompt gets the output of the previous step and generates the code\n",
    "prompt4 = \"Please write pyomo code for this mathematical problem. Use sample data where needed. Indicate where you use sample data. \\n\"\n",
    "prompt4 += response.text + response2.text + response3.text \n",
    "response4 = generative_multimodal_model.generate_content([prompt4])"
   ]
  },
  {
   "cell_type": "code",
   "execution_count": 77,
   "id": "0dbc9976",
   "metadata": {
    "scrolled": false
   },
   "outputs": [
    {
     "data": {
      "text/markdown": [
       "```python\n",
       "import pyomo.environ as pyo\n",
       "\n",
       "# Sample data -  Replace with actual data if available\n",
       "demand = 239600.48\n",
       "\n",
       "# Model\n",
       "model = pyo.ConcreteModel()\n",
       "\n",
       "# Decision Variables\n",
       "model.Xa = pyo.Var(bounds=(0, None))\n",
       "model.Xb1 = pyo.Var(bounds=(0, None))\n",
       "model.Xb2 = pyo.Var(bounds=(0, None))\n",
       "model.Xb3 = pyo.Var(bounds=(0, None))\n",
       "model.Xb4 = pyo.Var(bounds=(0, None))\n",
       "model.Xc = pyo.Var(bounds=(0, None))\n",
       "model.Xd = pyo.Var(bounds=(0, None))\n",
       "model.Xe1 = pyo.Var(bounds=(0, None))\n",
       "model.Xe2 = pyo.Var(bounds=(0, None))\n",
       "\n",
       "# Binary Variables\n",
       "model.Yb1 = pyo.Var(within=pyo.Binary)\n",
       "model.Yb2 = pyo.Var(within=pyo.Binary)\n",
       "model.Yb3 = pyo.Var(within=pyo.Binary)\n",
       "model.Yb4 = pyo.Var(within=pyo.Binary)\n",
       "model.Ye1 = pyo.Var(within=pyo.Binary)\n",
       "model.Ye2 = pyo.Var(within=pyo.Binary)\n",
       "\n",
       "# Objective function\n",
       "def objective_rule(model):\n",
       "    return (3855.34 * model.Xa) + (61.150 * model.Xa) + (125804.84 * model.Yb1) + (68.099 * model.Xb1) + (269304.84 * model.Yb2) + (66.049 * model.Xb2) + (464304.84 * model.Yb3) + (64.099 * model.Xb3) + (761304.84 * model.Yb4) + (62.119 * model.Xb4) + (13456 * model.Xc) + (62.019 * model.Xc) + (6583.98 * model.Xd) + (72.488 * model.Xd) + (70.150 * model.Xe1) + (84000 * model.Ye2) +  sum( (68.150 - (0.05 * i)) for i in range(1, int(model.Xe2.value)+1))\n",
       "\n",
       "model.total_cost = pyo.Objective(rule=objective_rule, sense=pyo.minimize)\n",
       "\n",
       "# Constraints\n",
       "model.demand_constraint = pyo.Constraint(expr=model.Xa + model.Xb1 + model.Xb2 + model.Xb3 + model.Xb4 + model.Xc + model.Xd + model.Xe1 + model.Xe2 == demand)\n",
       "\n",
       "model.supplier_a_constraint = pyo.Constraint(expr=model.Xa <= 33000)\n",
       "model.supplier_b_constraint = pyo.Constraint(expr=model.Xb1 + model.Xb2 + model.Xb3 + model.Xb4 <= 160000)\n",
       "model.supplier_c_constraint = pyo.Constraint(expr=model.Xc <= 165600)\n",
       "model.supplier_d_constraint = pyo.Constraint(expr=model.Xd <= 12000)\n",
       "model.supplier_e_constraint = pyo.Constraint(expr=model.Xe1 + model.Xe2 <= 77000)\n",
       "\n",
       "model.vendor_b_min_constraint1 = pyo.Constraint(expr=model.Xb1 >= 22000 * model.Yb1)\n",
       "model.vendor_b_max_constraint1 = pyo.Constraint(expr=model.Xb1 <= 70000 * model.Yb1)\n",
       "model.vendor_b_min_constraint2 = pyo.Constraint(expr=model.Xb2 >= 70001 * model.Yb2)\n",
       "model.vendor_b_max_constraint2 = pyo.Constraint(expr=model.Xb2 <= 100000 * model.Yb2)\n",
       "model.vendor_b_min_constraint3 = pyo.Constraint(expr=model.Xb3 >= 100001 * model.Yb3)\n",
       "model.vendor_b_max_constraint3 = pyo.Constraint(expr=model.Xb3 <= 150000 * model.Yb3)\n",
       "model.vendor_b_min_constraint4 = pyo.Constraint(expr=model.Xb4 >= 150001 * model.Yb4)\n",
       "model.vendor_b_max_constraint4 = pyo.Constraint(expr=model.Xb4 <= 160000 * model.Yb4)\n",
       "\n",
       "model.vendor_e_constraint1 = pyo.Constraint(expr=model.Xe1 <= 42000 * model.Ye1)\n",
       "model.vendor_e_min_constraint2 = pyo.Constraint(expr=model.Xe2 >= 42001 * model.Ye2)\n",
       "model.vendor_e_max_constraint2 = pyo.Constraint(expr=model.Xe2 <= 77000 * model.Ye2)\n",
       "\n",
       "model.binary_constraint_b = pyo.Constraint(expr=model.Yb1 + model.Yb2 + model.Yb3 + model.Yb4 <= 1)\n",
       "model.binary_constraint_e = pyo.Constraint(expr=model.Ye1 + model.Ye2 <= 1)\n",
       "\n",
       "# Solve the model\n",
       "solver = pyo.SolverFactory('cbc') # Replace 'cbc' with another solver if desired\n",
       "results = solver.solve(model)\n",
       "\n",
       "# Print the results\n",
       "print(\"Status:\", results.solver.status)\n",
       "print(\"Termination condition:\",results.solver.termination_condition)\n",
       "print(\"Optimal Solution:\")\n",
       "print(\"Xa =\", model.Xa.value)\n",
       "print(\"Xb1 =\", model.Xb1.value)\n",
       "print(\"Xb2 =\", model.Xb2.value)\n",
       "print(\"Xb3 =\", model.Xb3.value)\n",
       "print(\"Xb4 =\", model.Xb4.value)\n",
       "print(\"Xc =\", model.Xc.value)\n",
       "print(\"Xd =\", model.Xd.value)\n",
       "print(\"Xe1 =\", model.Xe1.value)\n",
       "print(\"Xe2 =\", model.Xe2.value)\n",
       "print(\"Total Cost =\", model.total_cost.value)\n",
       "```\n"
      ],
      "text/plain": [
       "<IPython.core.display.Markdown object>"
      ]
     },
     "execution_count": 77,
     "metadata": {},
     "output_type": "execute_result"
    }
   ],
   "source": [
    "## Showing the code in a formatted way\n",
    "Markdown(response4.text)"
   ]
  },
  {
   "cell_type": "markdown",
   "id": "b60756ae",
   "metadata": {},
   "source": [
    "## 4. Input problem data and try running the generated code"
   ]
  },
  {
   "cell_type": "code",
   "execution_count": 78,
   "id": "9cc2e439",
   "metadata": {},
   "outputs": [
    {
     "name": "stdout",
     "output_type": "stream",
     "text": [
      "ERROR: Rule failed when generating expression for Objective total_cost with\n",
      "index None: TypeError: int() argument must be a string, a bytes-like object or\n",
      "a real number, not 'NoneType'\n",
      "ERROR: Constructing component 'total_cost' from data=None failed:\n",
      "        TypeError: int() argument must be a string, a bytes-like object or a\n",
      "        real number, not 'NoneType'\n"
     ]
    },
    {
     "ename": "TypeError",
     "evalue": "int() argument must be a string, a bytes-like object or a real number, not 'NoneType'",
     "output_type": "error",
     "traceback": [
      "\u001b[1;31m---------------------------------------------------------------------------\u001b[0m",
      "\u001b[1;31mTypeError\u001b[0m                                 Traceback (most recent call last)",
      "Cell \u001b[1;32mIn[78], line 32\u001b[0m\n\u001b[0;32m     29\u001b[0m \u001b[38;5;28;01mdef\u001b[39;00m \u001b[38;5;21mobjective_rule\u001b[39m(model):\n\u001b[0;32m     30\u001b[0m     \u001b[38;5;28;01mreturn\u001b[39;00m (\u001b[38;5;241m3855.34\u001b[39m \u001b[38;5;241m*\u001b[39m model\u001b[38;5;241m.\u001b[39mXa) \u001b[38;5;241m+\u001b[39m (\u001b[38;5;241m61.150\u001b[39m \u001b[38;5;241m*\u001b[39m model\u001b[38;5;241m.\u001b[39mXa) \u001b[38;5;241m+\u001b[39m (\u001b[38;5;241m125804.84\u001b[39m \u001b[38;5;241m*\u001b[39m model\u001b[38;5;241m.\u001b[39mYb1) \u001b[38;5;241m+\u001b[39m (\u001b[38;5;241m68.099\u001b[39m \u001b[38;5;241m*\u001b[39m model\u001b[38;5;241m.\u001b[39mXb1) \u001b[38;5;241m+\u001b[39m (\u001b[38;5;241m269304.84\u001b[39m \u001b[38;5;241m*\u001b[39m model\u001b[38;5;241m.\u001b[39mYb2) \u001b[38;5;241m+\u001b[39m (\u001b[38;5;241m66.049\u001b[39m \u001b[38;5;241m*\u001b[39m model\u001b[38;5;241m.\u001b[39mXb2) \u001b[38;5;241m+\u001b[39m (\u001b[38;5;241m464304.84\u001b[39m \u001b[38;5;241m*\u001b[39m model\u001b[38;5;241m.\u001b[39mYb3) \u001b[38;5;241m+\u001b[39m (\u001b[38;5;241m64.099\u001b[39m \u001b[38;5;241m*\u001b[39m model\u001b[38;5;241m.\u001b[39mXb3) \u001b[38;5;241m+\u001b[39m (\u001b[38;5;241m761304.84\u001b[39m \u001b[38;5;241m*\u001b[39m model\u001b[38;5;241m.\u001b[39mYb4) \u001b[38;5;241m+\u001b[39m (\u001b[38;5;241m62.119\u001b[39m \u001b[38;5;241m*\u001b[39m model\u001b[38;5;241m.\u001b[39mXb4) \u001b[38;5;241m+\u001b[39m (\u001b[38;5;241m13456\u001b[39m \u001b[38;5;241m*\u001b[39m model\u001b[38;5;241m.\u001b[39mXc) \u001b[38;5;241m+\u001b[39m (\u001b[38;5;241m62.019\u001b[39m \u001b[38;5;241m*\u001b[39m model\u001b[38;5;241m.\u001b[39mXc) \u001b[38;5;241m+\u001b[39m (\u001b[38;5;241m6583.98\u001b[39m \u001b[38;5;241m*\u001b[39m model\u001b[38;5;241m.\u001b[39mXd) \u001b[38;5;241m+\u001b[39m (\u001b[38;5;241m72.488\u001b[39m \u001b[38;5;241m*\u001b[39m model\u001b[38;5;241m.\u001b[39mXd) \u001b[38;5;241m+\u001b[39m (\u001b[38;5;241m70.150\u001b[39m \u001b[38;5;241m*\u001b[39m model\u001b[38;5;241m.\u001b[39mXe1) \u001b[38;5;241m+\u001b[39m (\u001b[38;5;241m84000\u001b[39m \u001b[38;5;241m*\u001b[39m model\u001b[38;5;241m.\u001b[39mYe2) \u001b[38;5;241m+\u001b[39m  \u001b[38;5;28msum\u001b[39m( (\u001b[38;5;241m68.150\u001b[39m \u001b[38;5;241m-\u001b[39m (\u001b[38;5;241m0.05\u001b[39m \u001b[38;5;241m*\u001b[39m i)) \u001b[38;5;28;01mfor\u001b[39;00m i \u001b[38;5;129;01min\u001b[39;00m \u001b[38;5;28mrange\u001b[39m(\u001b[38;5;241m1\u001b[39m, \u001b[38;5;28mint\u001b[39m(model\u001b[38;5;241m.\u001b[39mXe2\u001b[38;5;241m.\u001b[39mvalue)\u001b[38;5;241m+\u001b[39m\u001b[38;5;241m1\u001b[39m))\n\u001b[1;32m---> 32\u001b[0m model\u001b[38;5;241m.\u001b[39mtotal_cost \u001b[38;5;241m=\u001b[39m pyo\u001b[38;5;241m.\u001b[39mObjective(rule\u001b[38;5;241m=\u001b[39mobjective_rule, sense\u001b[38;5;241m=\u001b[39mpyo\u001b[38;5;241m.\u001b[39mminimize)\n\u001b[0;32m     34\u001b[0m \u001b[38;5;66;03m# Constraints\u001b[39;00m\n\u001b[0;32m     35\u001b[0m model\u001b[38;5;241m.\u001b[39mdemand_constraint \u001b[38;5;241m=\u001b[39m pyo\u001b[38;5;241m.\u001b[39mConstraint(expr\u001b[38;5;241m=\u001b[39mmodel\u001b[38;5;241m.\u001b[39mXa \u001b[38;5;241m+\u001b[39m model\u001b[38;5;241m.\u001b[39mXb1 \u001b[38;5;241m+\u001b[39m model\u001b[38;5;241m.\u001b[39mXb2 \u001b[38;5;241m+\u001b[39m model\u001b[38;5;241m.\u001b[39mXb3 \u001b[38;5;241m+\u001b[39m model\u001b[38;5;241m.\u001b[39mXb4 \u001b[38;5;241m+\u001b[39m model\u001b[38;5;241m.\u001b[39mXc \u001b[38;5;241m+\u001b[39m model\u001b[38;5;241m.\u001b[39mXd \u001b[38;5;241m+\u001b[39m model\u001b[38;5;241m.\u001b[39mXe1 \u001b[38;5;241m+\u001b[39m model\u001b[38;5;241m.\u001b[39mXe2 \u001b[38;5;241m==\u001b[39m demand)\n",
      "File \u001b[1;32m~\\anaconda3\\Lib\\site-packages\\pyomo\\core\\base\\block.py:568\u001b[0m, in \u001b[0;36m_BlockData.__setattr__\u001b[1;34m(self, name, val)\u001b[0m\n\u001b[0;32m    563\u001b[0m \u001b[38;5;28;01mif\u001b[39;00m name \u001b[38;5;129;01mnot\u001b[39;00m \u001b[38;5;129;01min\u001b[39;00m \u001b[38;5;28mself\u001b[39m\u001b[38;5;241m.\u001b[39m\u001b[38;5;18m__dict__\u001b[39m:\n\u001b[0;32m    564\u001b[0m     \u001b[38;5;28;01mif\u001b[39;00m \u001b[38;5;28misinstance\u001b[39m(val, Component):\n\u001b[0;32m    565\u001b[0m         \u001b[38;5;66;03m#\u001b[39;00m\n\u001b[0;32m    566\u001b[0m         \u001b[38;5;66;03m# Pyomo components are added with the add_component method.\u001b[39;00m\n\u001b[0;32m    567\u001b[0m         \u001b[38;5;66;03m#\u001b[39;00m\n\u001b[1;32m--> 568\u001b[0m         \u001b[38;5;28mself\u001b[39m\u001b[38;5;241m.\u001b[39madd_component(name, val)\n\u001b[0;32m    569\u001b[0m     \u001b[38;5;28;01melse\u001b[39;00m:\n\u001b[0;32m    570\u001b[0m         \u001b[38;5;66;03m#\u001b[39;00m\n\u001b[0;32m    571\u001b[0m         \u001b[38;5;66;03m# Other Python objects are added with the standard __setattr__\u001b[39;00m\n\u001b[0;32m    572\u001b[0m         \u001b[38;5;66;03m# method.\u001b[39;00m\n\u001b[0;32m    573\u001b[0m         \u001b[38;5;66;03m#\u001b[39;00m\n\u001b[0;32m    574\u001b[0m         \u001b[38;5;28msuper\u001b[39m(_BlockData, \u001b[38;5;28mself\u001b[39m)\u001b[38;5;241m.\u001b[39m\u001b[38;5;21m__setattr__\u001b[39m(name, val)\n",
      "File \u001b[1;32m~\\anaconda3\\Lib\\site-packages\\pyomo\\core\\base\\block.py:1126\u001b[0m, in \u001b[0;36m_BlockData.add_component\u001b[1;34m(self, name, val)\u001b[0m\n\u001b[0;32m   1118\u001b[0m     logger\u001b[38;5;241m.\u001b[39mdebug(\n\u001b[0;32m   1119\u001b[0m         \u001b[38;5;124m\"\u001b[39m\u001b[38;5;124mConstructing \u001b[39m\u001b[38;5;132;01m%s\u001b[39;00m\u001b[38;5;124m \u001b[39m\u001b[38;5;124m'\u001b[39m\u001b[38;5;132;01m%s\u001b[39;00m\u001b[38;5;124m'\u001b[39m\u001b[38;5;124m on \u001b[39m\u001b[38;5;132;01m%s\u001b[39;00m\u001b[38;5;124m from data=\u001b[39m\u001b[38;5;132;01m%s\u001b[39;00m\u001b[38;5;124m\"\u001b[39m,\n\u001b[0;32m   1120\u001b[0m         val\u001b[38;5;241m.\u001b[39m\u001b[38;5;18m__class__\u001b[39m\u001b[38;5;241m.\u001b[39m\u001b[38;5;18m__name__\u001b[39m,\n\u001b[1;32m   (...)\u001b[0m\n\u001b[0;32m   1123\u001b[0m         \u001b[38;5;28mstr\u001b[39m(data),\n\u001b[0;32m   1124\u001b[0m     )\n\u001b[0;32m   1125\u001b[0m \u001b[38;5;28;01mtry\u001b[39;00m:\n\u001b[1;32m-> 1126\u001b[0m     val\u001b[38;5;241m.\u001b[39mconstruct(data)\n\u001b[0;32m   1127\u001b[0m \u001b[38;5;28;01mexcept\u001b[39;00m:\n\u001b[0;32m   1128\u001b[0m     err \u001b[38;5;241m=\u001b[39m sys\u001b[38;5;241m.\u001b[39mexc_info()[\u001b[38;5;241m1\u001b[39m]\n",
      "File \u001b[1;32m~\\anaconda3\\Lib\\site-packages\\pyomo\\core\\base\\objective.py:318\u001b[0m, in \u001b[0;36mObjective.construct\u001b[1;34m(self, data)\u001b[0m\n\u001b[0;32m    315\u001b[0m \u001b[38;5;28;01melse\u001b[39;00m:\n\u001b[0;32m    316\u001b[0m     \u001b[38;5;66;03m# Bypass the index validation and create the member directly\u001b[39;00m\n\u001b[0;32m    317\u001b[0m     \u001b[38;5;28;01mfor\u001b[39;00m index \u001b[38;5;129;01min\u001b[39;00m \u001b[38;5;28mself\u001b[39m\u001b[38;5;241m.\u001b[39mindex_set():\n\u001b[1;32m--> 318\u001b[0m         ans \u001b[38;5;241m=\u001b[39m \u001b[38;5;28mself\u001b[39m\u001b[38;5;241m.\u001b[39m_setitem_when_not_present(index, rule(block, index))\n\u001b[0;32m    319\u001b[0m         \u001b[38;5;28;01mif\u001b[39;00m ans \u001b[38;5;129;01mis\u001b[39;00m \u001b[38;5;129;01mnot\u001b[39;00m \u001b[38;5;28;01mNone\u001b[39;00m:\n\u001b[0;32m    320\u001b[0m             ans\u001b[38;5;241m.\u001b[39mset_sense(\u001b[38;5;28mself\u001b[39m\u001b[38;5;241m.\u001b[39m_init_sense(block, index))\n",
      "File \u001b[1;32m~\\anaconda3\\Lib\\site-packages\\pyomo\\core\\base\\initializer.py:438\u001b[0m, in \u001b[0;36mScalarCallInitializer.__call__\u001b[1;34m(self, parent, idx)\u001b[0m\n\u001b[0;32m    437\u001b[0m \u001b[38;5;28;01mdef\u001b[39;00m \u001b[38;5;21m__call__\u001b[39m(\u001b[38;5;28mself\u001b[39m, parent, idx):\n\u001b[1;32m--> 438\u001b[0m     \u001b[38;5;28;01mreturn\u001b[39;00m \u001b[38;5;28mself\u001b[39m\u001b[38;5;241m.\u001b[39m_fcn(parent)\n",
      "Cell \u001b[1;32mIn[78], line 30\u001b[0m, in \u001b[0;36mobjective_rule\u001b[1;34m(model)\u001b[0m\n\u001b[0;32m     29\u001b[0m \u001b[38;5;28;01mdef\u001b[39;00m \u001b[38;5;21mobjective_rule\u001b[39m(model):\n\u001b[1;32m---> 30\u001b[0m     \u001b[38;5;28;01mreturn\u001b[39;00m (\u001b[38;5;241m3855.34\u001b[39m \u001b[38;5;241m*\u001b[39m model\u001b[38;5;241m.\u001b[39mXa) \u001b[38;5;241m+\u001b[39m (\u001b[38;5;241m61.150\u001b[39m \u001b[38;5;241m*\u001b[39m model\u001b[38;5;241m.\u001b[39mXa) \u001b[38;5;241m+\u001b[39m (\u001b[38;5;241m125804.84\u001b[39m \u001b[38;5;241m*\u001b[39m model\u001b[38;5;241m.\u001b[39mYb1) \u001b[38;5;241m+\u001b[39m (\u001b[38;5;241m68.099\u001b[39m \u001b[38;5;241m*\u001b[39m model\u001b[38;5;241m.\u001b[39mXb1) \u001b[38;5;241m+\u001b[39m (\u001b[38;5;241m269304.84\u001b[39m \u001b[38;5;241m*\u001b[39m model\u001b[38;5;241m.\u001b[39mYb2) \u001b[38;5;241m+\u001b[39m (\u001b[38;5;241m66.049\u001b[39m \u001b[38;5;241m*\u001b[39m model\u001b[38;5;241m.\u001b[39mXb2) \u001b[38;5;241m+\u001b[39m (\u001b[38;5;241m464304.84\u001b[39m \u001b[38;5;241m*\u001b[39m model\u001b[38;5;241m.\u001b[39mYb3) \u001b[38;5;241m+\u001b[39m (\u001b[38;5;241m64.099\u001b[39m \u001b[38;5;241m*\u001b[39m model\u001b[38;5;241m.\u001b[39mXb3) \u001b[38;5;241m+\u001b[39m (\u001b[38;5;241m761304.84\u001b[39m \u001b[38;5;241m*\u001b[39m model\u001b[38;5;241m.\u001b[39mYb4) \u001b[38;5;241m+\u001b[39m (\u001b[38;5;241m62.119\u001b[39m \u001b[38;5;241m*\u001b[39m model\u001b[38;5;241m.\u001b[39mXb4) \u001b[38;5;241m+\u001b[39m (\u001b[38;5;241m13456\u001b[39m \u001b[38;5;241m*\u001b[39m model\u001b[38;5;241m.\u001b[39mXc) \u001b[38;5;241m+\u001b[39m (\u001b[38;5;241m62.019\u001b[39m \u001b[38;5;241m*\u001b[39m model\u001b[38;5;241m.\u001b[39mXc) \u001b[38;5;241m+\u001b[39m (\u001b[38;5;241m6583.98\u001b[39m \u001b[38;5;241m*\u001b[39m model\u001b[38;5;241m.\u001b[39mXd) \u001b[38;5;241m+\u001b[39m (\u001b[38;5;241m72.488\u001b[39m \u001b[38;5;241m*\u001b[39m model\u001b[38;5;241m.\u001b[39mXd) \u001b[38;5;241m+\u001b[39m (\u001b[38;5;241m70.150\u001b[39m \u001b[38;5;241m*\u001b[39m model\u001b[38;5;241m.\u001b[39mXe1) \u001b[38;5;241m+\u001b[39m (\u001b[38;5;241m84000\u001b[39m \u001b[38;5;241m*\u001b[39m model\u001b[38;5;241m.\u001b[39mYe2) \u001b[38;5;241m+\u001b[39m  \u001b[38;5;28msum\u001b[39m( (\u001b[38;5;241m68.150\u001b[39m \u001b[38;5;241m-\u001b[39m (\u001b[38;5;241m0.05\u001b[39m \u001b[38;5;241m*\u001b[39m i)) \u001b[38;5;28;01mfor\u001b[39;00m i \u001b[38;5;129;01min\u001b[39;00m \u001b[38;5;28mrange\u001b[39m(\u001b[38;5;241m1\u001b[39m, \u001b[38;5;28mint\u001b[39m(model\u001b[38;5;241m.\u001b[39mXe2\u001b[38;5;241m.\u001b[39mvalue)\u001b[38;5;241m+\u001b[39m\u001b[38;5;241m1\u001b[39m))\n",
      "\u001b[1;31mTypeError\u001b[0m: int() argument must be a string, a bytes-like object or a real number, not 'NoneType'"
     ]
    }
   ],
   "source": [
    "import pyomo.environ as pyo\n",
    "\n",
    "# Sample data -  Replace with actual data if available\n",
    "demand = 239600.48\n",
    "\n",
    "# Model\n",
    "model = pyo.ConcreteModel()\n",
    "\n",
    "# Decision Variables\n",
    "model.Xa = pyo.Var(bounds=(0, None))\n",
    "model.Xb1 = pyo.Var(bounds=(0, None))\n",
    "model.Xb2 = pyo.Var(bounds=(0, None))\n",
    "model.Xb3 = pyo.Var(bounds=(0, None))\n",
    "model.Xb4 = pyo.Var(bounds=(0, None))\n",
    "model.Xc = pyo.Var(bounds=(0, None))\n",
    "model.Xd = pyo.Var(bounds=(0, None))\n",
    "model.Xe1 = pyo.Var(bounds=(0, None))\n",
    "model.Xe2 = pyo.Var(bounds=(0, None))\n",
    "\n",
    "# Binary Variables\n",
    "model.Yb1 = pyo.Var(within=pyo.Binary)\n",
    "model.Yb2 = pyo.Var(within=pyo.Binary)\n",
    "model.Yb3 = pyo.Var(within=pyo.Binary)\n",
    "model.Yb4 = pyo.Var(within=pyo.Binary)\n",
    "model.Ye1 = pyo.Var(within=pyo.Binary)\n",
    "model.Ye2 = pyo.Var(within=pyo.Binary)\n",
    "\n",
    "# Objective function\n",
    "def objective_rule(model):\n",
    "    return (3855.34 * model.Xa) + (61.150 * model.Xa) + (125804.84 * model.Yb1) + (68.099 * model.Xb1) + (269304.84 * model.Yb2) + (66.049 * model.Xb2) + (464304.84 * model.Yb3) + (64.099 * model.Xb3) + (761304.84 * model.Yb4) + (62.119 * model.Xb4) + (13456 * model.Xc) + (62.019 * model.Xc) + (6583.98 * model.Xd) + (72.488 * model.Xd) + (70.150 * model.Xe1) + (84000 * model.Ye2) +  sum( (68.150 - (0.05 * i)) for i in range(1, int(model.Xe2.value)+1))\n",
    "\n",
    "model.total_cost = pyo.Objective(rule=objective_rule, sense=pyo.minimize)\n",
    "\n",
    "# Constraints\n",
    "model.demand_constraint = pyo.Constraint(expr=model.Xa + model.Xb1 + model.Xb2 + model.Xb3 + model.Xb4 + model.Xc + model.Xd + model.Xe1 + model.Xe2 == demand)\n",
    "\n",
    "model.supplier_a_constraint = pyo.Constraint(expr=model.Xa <= 33000)\n",
    "model.supplier_b_constraint = pyo.Constraint(expr=model.Xb1 + model.Xb2 + model.Xb3 + model.Xb4 <= 160000)\n",
    "model.supplier_c_constraint = pyo.Constraint(expr=model.Xc <= 165600)\n",
    "model.supplier_d_constraint = pyo.Constraint(expr=model.Xd <= 12000)\n",
    "model.supplier_e_constraint = pyo.Constraint(expr=model.Xe1 + model.Xe2 <= 77000)\n",
    "\n",
    "model.vendor_b_min_constraint1 = pyo.Constraint(expr=model.Xb1 >= 22000 * model.Yb1)\n",
    "model.vendor_b_max_constraint1 = pyo.Constraint(expr=model.Xb1 <= 70000 * model.Yb1)\n",
    "model.vendor_b_min_constraint2 = pyo.Constraint(expr=model.Xb2 >= 70001 * model.Yb2)\n",
    "model.vendor_b_max_constraint2 = pyo.Constraint(expr=model.Xb2 <= 100000 * model.Yb2)\n",
    "model.vendor_b_min_constraint3 = pyo.Constraint(expr=model.Xb3 >= 100001 * model.Yb3)\n",
    "model.vendor_b_max_constraint3 = pyo.Constraint(expr=model.Xb3 <= 150000 * model.Yb3)\n",
    "model.vendor_b_min_constraint4 = pyo.Constraint(expr=model.Xb4 >= 150001 * model.Yb4)\n",
    "model.vendor_b_max_constraint4 = pyo.Constraint(expr=model.Xb4 <= 160000 * model.Yb4)\n",
    "\n",
    "model.vendor_e_constraint1 = pyo.Constraint(expr=model.Xe1 <= 42000 * model.Ye1)\n",
    "model.vendor_e_min_constraint2 = pyo.Constraint(expr=model.Xe2 >= 42001 * model.Ye2)\n",
    "model.vendor_e_max_constraint2 = pyo.Constraint(expr=model.Xe2 <= 77000 * model.Ye2)\n",
    "\n",
    "model.binary_constraint_b = pyo.Constraint(expr=model.Yb1 + model.Yb2 + model.Yb3 + model.Yb4 <= 1)\n",
    "model.binary_constraint_e = pyo.Constraint(expr=model.Ye1 + model.Ye2 <= 1)\n",
    "\n",
    "# Solve the model\n",
    "solver = pyo.SolverFactory('glpk') # Replace 'cbc' with another solver if desired\n",
    "results = solver.solve(model)\n",
    "\n",
    "# Print the results\n",
    "print(\"Status:\", results.solver.status)\n",
    "print(\"Termination condition:\",results.solver.termination_condition)\n",
    "print(\"Optimal Solution:\")\n",
    "print(\"Xa =\", model.Xa.value)\n",
    "print(\"Xb1 =\", model.Xb1.value)\n",
    "print(\"Xb2 =\", model.Xb2.value)\n",
    "print(\"Xb3 =\", model.Xb3.value)\n",
    "print(\"Xb4 =\", model.Xb4.value)\n",
    "print(\"Xc =\", model.Xc.value)\n",
    "print(\"Xd =\", model.Xd.value)\n",
    "print(\"Xe1 =\", model.Xe1.value)\n",
    "print(\"Xe2 =\", model.Xe2.value)\n",
    "print(\"Total Cost =\", model.total_cost.value)"
   ]
  },
  {
   "cell_type": "markdown",
   "id": "1be0926e",
   "metadata": {},
   "source": [
    "## 5. Correct the code to verify model viability (optional)"
   ]
  },
  {
   "cell_type": "code",
   "execution_count": 86,
   "id": "771ea9ce",
   "metadata": {
    "scrolled": false
   },
   "outputs": [
    {
     "ename": "TypeError",
     "evalue": "unsupported operand type(s) for +: 'NoneType' and 'int'",
     "output_type": "error",
     "traceback": [
      "\u001b[1;31m---------------------------------------------------------------------------\u001b[0m",
      "\u001b[1;31mTypeError\u001b[0m                                 Traceback (most recent call last)",
      "Cell \u001b[1;32mIn[86], line 36\u001b[0m\n\u001b[0;32m     34\u001b[0m \u001b[38;5;241m+\u001b[39m (\u001b[38;5;241m62.019\u001b[39m \u001b[38;5;241m*\u001b[39m model\u001b[38;5;241m.\u001b[39mXc) \u001b[38;5;241m+\u001b[39m (\u001b[38;5;241m6583.98\u001b[39m \u001b[38;5;241m*\u001b[39m model\u001b[38;5;241m.\u001b[39mXd) \u001b[38;5;241m+\u001b[39m (\u001b[38;5;241m72.488\u001b[39m \u001b[38;5;241m*\u001b[39m model\u001b[38;5;241m.\u001b[39mXd) \n\u001b[0;32m     35\u001b[0m \u001b[38;5;241m+\u001b[39m (\u001b[38;5;241m70.150\u001b[39m \u001b[38;5;241m*\u001b[39m model\u001b[38;5;241m.\u001b[39mXe1) \u001b[38;5;241m+\u001b[39m (\u001b[38;5;241m84000\u001b[39m \u001b[38;5;241m*\u001b[39m model\u001b[38;5;241m.\u001b[39mYe2) \n\u001b[1;32m---> 36\u001b[0m \u001b[38;5;241m+\u001b[39m  \u001b[38;5;28msum\u001b[39m( (\u001b[38;5;241m68.150\u001b[39m \u001b[38;5;241m-\u001b[39m (\u001b[38;5;241m0.05\u001b[39m \u001b[38;5;241m*\u001b[39m i)) \u001b[38;5;28;01mfor\u001b[39;00m i \u001b[38;5;129;01min\u001b[39;00m \u001b[38;5;28mrange\u001b[39m(\u001b[38;5;241m1\u001b[39m, (model\u001b[38;5;241m.\u001b[39mXe2\u001b[38;5;241m.\u001b[39mvalue)\u001b[38;5;241m+\u001b[39m\u001b[38;5;241m1\u001b[39m))\n\u001b[0;32m     38\u001b[0m model\u001b[38;5;241m.\u001b[39mtotal_cost \u001b[38;5;241m=\u001b[39m pyo\u001b[38;5;241m.\u001b[39mObjective(rule\u001b[38;5;241m=\u001b[39mobjective_rule, sense\u001b[38;5;241m=\u001b[39mpyo\u001b[38;5;241m.\u001b[39mminimize)\n\u001b[0;32m     40\u001b[0m \u001b[38;5;66;03m# Constraints\u001b[39;00m\n",
      "\u001b[1;31mTypeError\u001b[0m: unsupported operand type(s) for +: 'NoneType' and 'int'"
     ]
    }
   ],
   "source": [
    "import pyomo.environ as pyo\n",
    "\n",
    "# Sample data -  Replace with actual data if available\n",
    "demand = 239600.48\n",
    "\n",
    "# Model\n",
    "model = pyo.ConcreteModel()\n",
    "\n",
    "# Decision Variables\n",
    "model.Xa = pyo.Var(bounds=(0, None))\n",
    "model.Xb1 = pyo.Var(bounds=(0, None))\n",
    "model.Xb2 = pyo.Var(bounds=(0, None))\n",
    "model.Xb3 = pyo.Var(bounds=(0, None))\n",
    "model.Xb4 = pyo.Var(bounds=(0, None))\n",
    "model.Xc = pyo.Var(bounds=(0, None))\n",
    "model.Xd = pyo.Var(bounds=(0, None))\n",
    "model.Xe1 = pyo.Var(bounds=(0, None))\n",
    "model.Xe2 = pyo.Var(bounds=(0, None))\n",
    "\n",
    "# Binary Variables\n",
    "model.Yb1 = pyo.Var(within=pyo.Binary)\n",
    "model.Yb2 = pyo.Var(within=pyo.Binary)\n",
    "model.Yb3 = pyo.Var(within=pyo.Binary)\n",
    "model.Yb4 = pyo.Var(within=pyo.Binary)\n",
    "model.Ye1 = pyo.Var(within=pyo.Binary)\n",
    "model.Ye2 = pyo.Var(within=pyo.Binary)\n",
    "\n",
    "# Objective function\n",
    "def objective_rule(model):\n",
    "    return (3855.34 * model.Xa) + (61.150 * model.Xa) \n",
    "+ (125804.84 * model.Yb1) + (68.099 * model.Xb1) + (269304.84 * model.Yb2) \n",
    "+ (66.049 * model.Xb2) + (464304.84 * model.Yb3) + (64.099 * model.Xb3) \n",
    "+ (761304.84 * model.Yb4) + (62.119 * model.Xb4) + (13456 * model.Xc) \n",
    "+ (62.019 * model.Xc) + (6583.98 * model.Xd) + (72.488 * model.Xd) \n",
    "+ (70.150 * model.Xe1) + (84000 * model.Ye2) \n",
    "+  sum( (68.150 - (0.05 * i)) for i in range(1, (model.Xe2.value)+1))\n",
    "\n",
    "model.total_cost = pyo.Objective(rule=objective_rule, sense=pyo.minimize)\n",
    "\n",
    "# Constraints\n",
    "model.demand_constraint = pyo.Constraint(expr=model.Xa + model.Xb1 + model.Xb2 + model.Xb3 + model.Xb4 + model.Xc + model.Xd + model.Xe1 + model.Xe2 == demand)\n",
    "\n",
    "model.supplier_a_constraint = pyo.Constraint(expr=model.Xa <= 33000)\n",
    "model.supplier_b_constraint = pyo.Constraint(expr=model.Xb1 + model.Xb2 + model.Xb3 + model.Xb4 <= 160000)\n",
    "model.supplier_c_constraint = pyo.Constraint(expr=model.Xc <= 165600)\n",
    "model.supplier_d_constraint = pyo.Constraint(expr=model.Xd <= 12000)\n",
    "model.supplier_e_constraint = pyo.Constraint(expr=model.Xe1 + model.Xe2 <= 77000)\n",
    "\n",
    "model.vendor_b_min_constraint1 = pyo.Constraint(expr=model.Xb1 >= 22000 * model.Yb1)\n",
    "model.vendor_b_max_constraint1 = pyo.Constraint(expr=model.Xb1 <= 70000 * model.Yb1)\n",
    "model.vendor_b_min_constraint2 = pyo.Constraint(expr=model.Xb2 >= 70001 * model.Yb2)\n",
    "model.vendor_b_max_constraint2 = pyo.Constraint(expr=model.Xb2 <= 100000 * model.Yb2)\n",
    "model.vendor_b_min_constraint3 = pyo.Constraint(expr=model.Xb3 >= 100001 * model.Yb3)\n",
    "model.vendor_b_max_constraint3 = pyo.Constraint(expr=model.Xb3 <= 150000 * model.Yb3)\n",
    "model.vendor_b_min_constraint4 = pyo.Constraint(expr=model.Xb4 >= 150001 * model.Yb4)\n",
    "model.vendor_b_max_constraint4 = pyo.Constraint(expr=model.Xb4 <= 160000 * model.Yb4)\n",
    "\n",
    "model.vendor_e_constraint1 = pyo.Constraint(expr=model.Xe1 <= 42000 * model.Ye1)\n",
    "model.vendor_e_min_constraint2 = pyo.Constraint(expr=model.Xe2 >= 42001 * model.Ye2)\n",
    "model.vendor_e_max_constraint2 = pyo.Constraint(expr=model.Xe2 <= 77000 * model.Ye2)\n",
    "\n",
    "model.binary_constraint_b = pyo.Constraint(expr=model.Yb1 + model.Yb2 + model.Yb3 + model.Yb4 <= 1)\n",
    "model.binary_constraint_e = pyo.Constraint(expr=model.Ye1 + model.Ye2 <= 1)\n",
    "\n",
    "# Solve the model\n",
    "solver = pyo.SolverFactory('glpk') # Replace 'cbc' with another solver if desired\n",
    "results = solver.solve(model)\n",
    "\n",
    "# Print the results\n",
    "print(\"Status:\", results.solver.status)\n",
    "print(\"Termination condition:\",results.solver.termination_condition)\n",
    "print(\"Optimal Solution:\")\n",
    "print(\"Xa =\", model.Xa.value)\n",
    "print(\"Xb1 =\", model.Xb1.value)\n",
    "print(\"Xb2 =\", model.Xb2.value)\n",
    "print(\"Xb3 =\", model.Xb3.value)\n",
    "print(\"Xb4 =\", model.Xb4.value)\n",
    "print(\"Xc =\", model.Xc.value)\n",
    "print(\"Xd =\", model.Xd.value)\n",
    "print(\"Xe1 =\", model.Xe1.value)\n",
    "print(\"Xe2 =\", model.Xe2.value)\n",
    "print(\"Total Cost =\", model.total_cost.value)"
   ]
  },
  {
   "cell_type": "code",
   "execution_count": null,
   "id": "3fc5d775",
   "metadata": {},
   "outputs": [],
   "source": []
  },
  {
   "cell_type": "markdown",
   "id": "dbd7b8a8",
   "metadata": {},
   "source": [
    "## 6. Print the responses"
   ]
  },
  {
   "cell_type": "code",
   "execution_count": 87,
   "id": "c76b7575",
   "metadata": {},
   "outputs": [
    {
     "name": "stdout",
     "output_type": "stream",
     "text": [
      "## Decision Variables:\n",
      "\n",
      "*  **Xa:** Units purchased from Vendor A (in thousands)\n",
      "*  **Xb1:** Units purchased from Vendor B under the first pricing tier (22,000,000-70,000,000 units) (in thousands)\n",
      "*  **Xb2:** Units purchased from Vendor B under the second pricing tier (70,000,001-100,000,000 units) (in thousands)\n",
      "*  **Xb3:** Units purchased from Vendor B under the third pricing tier (100,000,001-150,000,000 units) (in thousands)\n",
      "*  **Xb4:** Units purchased from Vendor B under the fourth pricing tier (150,000,001-160,000,000 units) (in thousands)\n",
      "*  **Xc:** Units purchased from Vendor C (in thousands)\n",
      "*  **Xd:** Units purchased from Vendor D (in thousands)\n",
      "*  **Xe1:** Units purchased from Vendor E under the first pricing tier (0-42,000,000 units) (in thousands)\n",
      "*  **Xe2:** Units purchased from Vendor E under the second pricing tier (42,000,001-77,000,000 units) (in thousands) \n",
      "\n",
      "## Binary Variables:\n",
      "\n",
      "* **Yb1:** 1 if any quantity is purchased from Vendor B within the first pricing tier, 0 otherwise.\n",
      "* **Yb2:** 1 if any quantity is purchased from Vendor B within the second pricing tier, 0 otherwise.\n",
      "* **Yb3:** 1 if any quantity is purchased from Vendor B within the third pricing tier, 0 otherwise.\n",
      "* **Yb4:** 1 if any quantity is purchased from Vendor B within the fourth pricing tier, 0 otherwise.\n",
      "* **Ye1:** 1 if any quantity is purchased from Vendor E within the first pricing tier, 0 otherwise.\n",
      "* **Ye2:** 1 if any quantity is purchased from Vendor E within the second pricing tier, 0 otherwise. \n",
      "\n"
     ]
    }
   ],
   "source": [
    "print(response.text)"
   ]
  },
  {
   "cell_type": "code",
   "execution_count": 88,
   "id": "1bb49c6c",
   "metadata": {},
   "outputs": [
    {
     "name": "stdout",
     "output_type": "stream",
     "text": [
      "Minimize: \n",
      "\n",
      "```\n",
      "Total Cost = (3855.34 * Xa) + (61.150 * Xa) + (125804.84 * Yb1) + (68.099 * Xb1) + (269304.84 * Yb2) + (66.049 * Xb2) + (464304.84 * Yb3) + (64.099 * Xb3) + (761304.84 * Yb4) + (62.119 * Xb4) + (13456 * Xc) + (62.019 * Xc) + (6583.98 * Xd) + (72.488 * Xd) + (70.150 * Xe1) + (84000 * Ye2) +  Σ(from i=0 to Xe2-1) [ (68.150 - (0.05 * i)) ]\n",
      "``` \n",
      "\n"
     ]
    }
   ],
   "source": [
    "print(response2.text)"
   ]
  },
  {
   "cell_type": "code",
   "execution_count": 89,
   "id": "b95499e6",
   "metadata": {},
   "outputs": [
    {
     "name": "stdout",
     "output_type": "stream",
     "text": [
      "## Constraints:\n",
      "\n",
      "**Demand Constraint:**\n",
      "\n",
      "* Xa + Xb1 + Xb2 + Xb3 + Xb4 + Xc + Xd + Xe1 + Xe2 = 239,600.48 \n",
      "\n",
      "**Supplier Capacity Constraints:**\n",
      "\n",
      "* Xa <= 33,000\n",
      "* Xb1 + Xb2 + Xb3 + Xb4 <= 160,000\n",
      "* Xc <= 165,600\n",
      "* Xd <= 12,000\n",
      "* Xe1 + Xe2 <= 77,000\n",
      "\n",
      "**Vendor B Minimum Purchase Constraints:**\n",
      "\n",
      "* Xb1 >= 22,000 * Yb1 \n",
      "* Xb1 <= 70,000 * Yb1\n",
      "* Xb2 >= 70,001 * Yb2\n",
      "* Xb2 <= 100,000 * Yb2\n",
      "* Xb3 >= 100,001 * Yb3\n",
      "* Xb3 <= 150,000 * Yb3\n",
      "* Xb4 >= 150,001 * Yb4\n",
      "* Xb4 <= 160,000 * Yb4\n",
      "\n",
      "**Vendor E Pricing Tier Constraints:**\n",
      "\n",
      "* Xe1 <= 42,000 * Ye1\n",
      "* Xe2 >= 42,001 * Ye2\n",
      "* Xe2 <= 77,000 * Ye2\n",
      "\n",
      "**Binary Variable Constraints:**\n",
      "\n",
      "* Yb1 + Yb2 + Yb3 + Yb4 <= 1 \n",
      "* Ye1 + Ye2 <= 1\n",
      "\n",
      "**Non-Negativity Constraints:**\n",
      "\n",
      "* Xa, Xb1, Xb2, Xb3, Xb4, Xc, Xd, Xe1, Xe2 >= 0\n",
      "\n",
      "**Binary Variable Definitions:**\n",
      "\n",
      "* Yb1, Yb2, Yb3, Yb4, Ye1, Ye2 ∈ {0, 1} \n",
      "\n"
     ]
    }
   ],
   "source": [
    "print(response3.text)"
   ]
  },
  {
   "cell_type": "code",
   "execution_count": 90,
   "id": "184942d4",
   "metadata": {},
   "outputs": [
    {
     "name": "stdout",
     "output_type": "stream",
     "text": [
      "```python\n",
      "import pyomo.environ as pyo\n",
      "\n",
      "# Sample data -  Replace with actual data if available\n",
      "demand = 239600.48\n",
      "\n",
      "# Model\n",
      "model = pyo.ConcreteModel()\n",
      "\n",
      "# Decision Variables\n",
      "model.Xa = pyo.Var(bounds=(0, None))\n",
      "model.Xb1 = pyo.Var(bounds=(0, None))\n",
      "model.Xb2 = pyo.Var(bounds=(0, None))\n",
      "model.Xb3 = pyo.Var(bounds=(0, None))\n",
      "model.Xb4 = pyo.Var(bounds=(0, None))\n",
      "model.Xc = pyo.Var(bounds=(0, None))\n",
      "model.Xd = pyo.Var(bounds=(0, None))\n",
      "model.Xe1 = pyo.Var(bounds=(0, None))\n",
      "model.Xe2 = pyo.Var(bounds=(0, None))\n",
      "\n",
      "# Binary Variables\n",
      "model.Yb1 = pyo.Var(within=pyo.Binary)\n",
      "model.Yb2 = pyo.Var(within=pyo.Binary)\n",
      "model.Yb3 = pyo.Var(within=pyo.Binary)\n",
      "model.Yb4 = pyo.Var(within=pyo.Binary)\n",
      "model.Ye1 = pyo.Var(within=pyo.Binary)\n",
      "model.Ye2 = pyo.Var(within=pyo.Binary)\n",
      "\n",
      "# Objective function\n",
      "def objective_rule(model):\n",
      "    return (3855.34 * model.Xa) + (61.150 * model.Xa) + (125804.84 * model.Yb1) + (68.099 * model.Xb1) + (269304.84 * model.Yb2) + (66.049 * model.Xb2) + (464304.84 * model.Yb3) + (64.099 * model.Xb3) + (761304.84 * model.Yb4) + (62.119 * model.Xb4) + (13456 * model.Xc) + (62.019 * model.Xc) + (6583.98 * model.Xd) + (72.488 * model.Xd) + (70.150 * model.Xe1) + (84000 * model.Ye2) +  sum( (68.150 - (0.05 * i)) for i in range(1, int(model.Xe2.value)+1))\n",
      "\n",
      "model.total_cost = pyo.Objective(rule=objective_rule, sense=pyo.minimize)\n",
      "\n",
      "# Constraints\n",
      "model.demand_constraint = pyo.Constraint(expr=model.Xa + model.Xb1 + model.Xb2 + model.Xb3 + model.Xb4 + model.Xc + model.Xd + model.Xe1 + model.Xe2 == demand)\n",
      "\n",
      "model.supplier_a_constraint = pyo.Constraint(expr=model.Xa <= 33000)\n",
      "model.supplier_b_constraint = pyo.Constraint(expr=model.Xb1 + model.Xb2 + model.Xb3 + model.Xb4 <= 160000)\n",
      "model.supplier_c_constraint = pyo.Constraint(expr=model.Xc <= 165600)\n",
      "model.supplier_d_constraint = pyo.Constraint(expr=model.Xd <= 12000)\n",
      "model.supplier_e_constraint = pyo.Constraint(expr=model.Xe1 + model.Xe2 <= 77000)\n",
      "\n",
      "model.vendor_b_min_constraint1 = pyo.Constraint(expr=model.Xb1 >= 22000 * model.Yb1)\n",
      "model.vendor_b_max_constraint1 = pyo.Constraint(expr=model.Xb1 <= 70000 * model.Yb1)\n",
      "model.vendor_b_min_constraint2 = pyo.Constraint(expr=model.Xb2 >= 70001 * model.Yb2)\n",
      "model.vendor_b_max_constraint2 = pyo.Constraint(expr=model.Xb2 <= 100000 * model.Yb2)\n",
      "model.vendor_b_min_constraint3 = pyo.Constraint(expr=model.Xb3 >= 100001 * model.Yb3)\n",
      "model.vendor_b_max_constraint3 = pyo.Constraint(expr=model.Xb3 <= 150000 * model.Yb3)\n",
      "model.vendor_b_min_constraint4 = pyo.Constraint(expr=model.Xb4 >= 150001 * model.Yb4)\n",
      "model.vendor_b_max_constraint4 = pyo.Constraint(expr=model.Xb4 <= 160000 * model.Yb4)\n",
      "\n",
      "model.vendor_e_constraint1 = pyo.Constraint(expr=model.Xe1 <= 42000 * model.Ye1)\n",
      "model.vendor_e_min_constraint2 = pyo.Constraint(expr=model.Xe2 >= 42001 * model.Ye2)\n",
      "model.vendor_e_max_constraint2 = pyo.Constraint(expr=model.Xe2 <= 77000 * model.Ye2)\n",
      "\n",
      "model.binary_constraint_b = pyo.Constraint(expr=model.Yb1 + model.Yb2 + model.Yb3 + model.Yb4 <= 1)\n",
      "model.binary_constraint_e = pyo.Constraint(expr=model.Ye1 + model.Ye2 <= 1)\n",
      "\n",
      "# Solve the model\n",
      "solver = pyo.SolverFactory('cbc') # Replace 'cbc' with another solver if desired\n",
      "results = solver.solve(model)\n",
      "\n",
      "# Print the results\n",
      "print(\"Status:\", results.solver.status)\n",
      "print(\"Termination condition:\",results.solver.termination_condition)\n",
      "print(\"Optimal Solution:\")\n",
      "print(\"Xa =\", model.Xa.value)\n",
      "print(\"Xb1 =\", model.Xb1.value)\n",
      "print(\"Xb2 =\", model.Xb2.value)\n",
      "print(\"Xb3 =\", model.Xb3.value)\n",
      "print(\"Xb4 =\", model.Xb4.value)\n",
      "print(\"Xc =\", model.Xc.value)\n",
      "print(\"Xd =\", model.Xd.value)\n",
      "print(\"Xe1 =\", model.Xe1.value)\n",
      "print(\"Xe2 =\", model.Xe2.value)\n",
      "print(\"Total Cost =\", model.total_cost.value)\n",
      "```\n",
      "\n"
     ]
    }
   ],
   "source": [
    "print(response4.text)"
   ]
  },
  {
   "cell_type": "code",
   "execution_count": null,
   "id": "bd046f37",
   "metadata": {},
   "outputs": [],
   "source": []
  }
 ],
 "metadata": {
  "kernelspec": {
   "display_name": "Python 3 (ipykernel)",
   "language": "python",
   "name": "python3"
  },
  "language_info": {
   "codemirror_mode": {
    "name": "ipython",
    "version": 3
   },
   "file_extension": ".py",
   "mimetype": "text/x-python",
   "name": "python",
   "nbconvert_exporter": "python",
   "pygments_lexer": "ipython3",
   "version": "3.11.4"
  }
 },
 "nbformat": 4,
 "nbformat_minor": 5
}
