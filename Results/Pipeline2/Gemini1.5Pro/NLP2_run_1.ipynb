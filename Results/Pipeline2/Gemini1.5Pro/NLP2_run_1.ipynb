{
 "cells": [
  {
   "cell_type": "markdown",
   "id": "f0005e9e",
   "metadata": {},
   "source": [
    "# LLM Optimization Modelling Experiment"
   ]
  },
  {
   "cell_type": "code",
   "execution_count": 1,
   "id": "7f664028",
   "metadata": {},
   "outputs": [],
   "source": [
    "import vertexai\n",
    "from vertexai.preview.generative_models import GenerativeModel, Image\n",
    "from IPython.display import Markdown"
   ]
  },
  {
   "cell_type": "markdown",
   "id": "f527d6af",
   "metadata": {},
   "source": [
    "## 1. Define the problem description"
   ]
  },
  {
   "cell_type": "code",
   "execution_count": 553,
   "id": "25055ffd",
   "metadata": {},
   "outputs": [],
   "source": [
    "problem = '''You are a chemist in charge of a process that requires two liquids to reach the end product. Your goal is to maximize the quality of the product in the end, which is measured by the difference between the Napierian logarithm of the product of the litres used of each component and the cube root of the summation of the first component litres as well as double the second component litres. It is required that the squared difference between the litres employed of each component and the mean litres utilised of both components is below ten. This is necessary for the obtained set to be stable. Furthermore, the mixture tank available to you can only fit 80 l. Please formulate a mathematical optimization model for this problem. '''"
   ]
  },
  {
   "cell_type": "markdown",
   "id": "472cf9ad",
   "metadata": {},
   "source": [
    "## 2. Ask for parameters"
   ]
  },
  {
   "cell_type": "code",
   "execution_count": 554,
   "id": "e31ec80c",
   "metadata": {},
   "outputs": [],
   "source": [
    "#Initializing the session. To replicate, make sure the right credentials are saved in a PATH variable\n",
    "PROJECT_ID = \"llm4optproblems\"\n",
    "REGION = \"us-central1\"\n",
    "vertexai.init(project=PROJECT_ID, location=REGION)\n",
    "\n",
    "#Specifying the model\n",
    "generative_multimodal_model = GenerativeModel(\"gemini-1.5-pro-preview-0409\")\n",
    "\n",
    "#The propmt applied to all problems\n",
    "prompt = '''Please formulate only the variables for this mathematical optimization problem. \n",
    "'''\n",
    "\n",
    "#Generate the response\n",
    "response = generative_multimodal_model.generate_content([prompt+problem])\n"
   ]
  },
  {
   "cell_type": "code",
   "execution_count": 555,
   "id": "f9adc567",
   "metadata": {},
   "outputs": [
    {
     "data": {
      "text/markdown": [
       "### Variables:\n",
       "\n",
       "*  Let  'x' be the litres used of the first liquid.\n",
       "*  Let 'y' be the litres used of the second liquid. \n"
      ],
      "text/plain": [
       "<IPython.core.display.Markdown object>"
      ]
     },
     "execution_count": 555,
     "metadata": {},
     "output_type": "execute_result"
    }
   ],
   "source": [
    "#Show the resopnse in a formatted way\n",
    "Markdown(response.text)"
   ]
  },
  {
   "cell_type": "markdown",
   "id": "15d9e89f",
   "metadata": {},
   "source": [
    "# 2. Ask for objective"
   ]
  },
  {
   "cell_type": "code",
   "execution_count": 556,
   "id": "4f357a19",
   "metadata": {},
   "outputs": [],
   "source": [
    "#Second prompt gets the output of the previous step and generates the code\n",
    "prompt2 = \"Please formulate only the objective function for this mathematical optimization problem.\"\n",
    "prompt2 += problem + response.text\n",
    "response2 = generative_multimodal_model.generate_content([prompt2])"
   ]
  },
  {
   "cell_type": "code",
   "execution_count": 557,
   "id": "bccd1014",
   "metadata": {},
   "outputs": [
    {
     "data": {
      "text/markdown": [
       "## Objective function: \n",
       "\n",
       "Maximize:  ln(x*y) - (x + 2y)^(1/3) \n"
      ],
      "text/plain": [
       "<IPython.core.display.Markdown object>"
      ]
     },
     "execution_count": 557,
     "metadata": {},
     "output_type": "execute_result"
    }
   ],
   "source": [
    "Markdown(response2.text)"
   ]
  },
  {
   "cell_type": "markdown",
   "id": "d8ab1404",
   "metadata": {},
   "source": [
    "# 3. Ask for constraints"
   ]
  },
  {
   "cell_type": "code",
   "execution_count": 558,
   "id": "e6409951",
   "metadata": {},
   "outputs": [],
   "source": [
    "#Second prompt gets the output of the previous step and generates the code\n",
    "prompt3 = \"Please formulate only the constraints for this mathematical optimization problem.\"\n",
    "prompt3 += problem + response.text + response2.text\n",
    "response3 = generative_multimodal_model.generate_content([prompt3])"
   ]
  },
  {
   "cell_type": "code",
   "execution_count": 559,
   "id": "2f9439c2",
   "metadata": {},
   "outputs": [
    {
     "data": {
      "text/markdown": [
       "## Constraints:\n",
       "\n",
       "1. **Tank capacity:** \n",
       "   *  x + y <= 80 \n",
       "\n",
       "2. **Stability requirement:**\n",
       "   * (x - (x+y)/2)^2  <= 10\n",
       "   * (y - (x+y)/2)^2  <= 10\n",
       "\n",
       "3. **Non-negativity of variables:**\n",
       "   * x >= 0\n",
       "   * y >= 0 \n"
      ],
      "text/plain": [
       "<IPython.core.display.Markdown object>"
      ]
     },
     "execution_count": 559,
     "metadata": {},
     "output_type": "execute_result"
    }
   ],
   "source": [
    "Markdown(response3.text)"
   ]
  },
  {
   "cell_type": "markdown",
   "id": "75796979",
   "metadata": {},
   "source": [
    "## 3. Generate the pyomo code"
   ]
  },
  {
   "cell_type": "code",
   "execution_count": 560,
   "id": "aabea932",
   "metadata": {},
   "outputs": [],
   "source": [
    "#Second prompt gets the output of the previous step and generates the code\n",
    "prompt4 = \"Please write pyomo code for this mathematical problem. Use sample data where needed. Indicate where you use sample data. \\n\"\n",
    "prompt4 += response.text + response2.text + response3.text \n",
    "response4 = generative_multimodal_model.generate_content([prompt4])"
   ]
  },
  {
   "cell_type": "code",
   "execution_count": 561,
   "id": "879371d0",
   "metadata": {
    "scrolled": false
   },
   "outputs": [
    {
     "data": {
      "text/markdown": [
       "```python\n",
       "from pyomo.environ import *\n",
       "\n",
       "# Create a concrete model\n",
       "model = ConcreteModel()\n",
       "\n",
       "# Define variables\n",
       "model.x = Var(domain=NonNegativeReals)\n",
       "model.y = Var(domain=NonNegativeReals)\n",
       "\n",
       "# Define objective function\n",
       "model.obj = Objective(expr=log(model.x * model.y) - (model.x + 2 * model.y)**(1/3), sense=maximize)\n",
       "\n",
       "# Define constraints\n",
       "model.tank_capacity = Constraint(expr=model.x + model.y <= 80)\n",
       "model.stability1 = Constraint(expr=(model.x - (model.x + model.y) / 2)**2 <= 10)\n",
       "model.stability2 = Constraint(expr=(model.y - (model.x + model.y) / 2)**2 <= 10)\n",
       "\n",
       "# Solve the model\n",
       "solver = SolverFactory('ipopt')  # You can choose a different solver if needed\n",
       "results = solver.solve(model)\n",
       "\n",
       "# Print the results\n",
       "print(\"Status:\", results.solver.status)\n",
       "print(\"Termination condition:\", results.solver.termination_condition)\n",
       "print(\"Optimal solution:\")\n",
       "print(\"x =\", model.x.value)\n",
       "print(\"y =\", model.y.value)\n",
       "print(\"Objective function value:\", model.obj.value) \n",
       "```\n",
       " \n",
       "This code defines the variables, objective function, and constraints based on your provided mathematical formulation. It then uses the 'ipopt' solver to find the optimal solution. \n",
       "\n",
       "**Note:** I have used the 'ipopt' solver as an example. You may need to install it separately if you don't have it already. You can also use other non-linear solvers supported by Pyomo. You can find more information about installing solvers and Pyomo here:  https://pyomo.readthedocs.io/en/stable/ \n"
      ],
      "text/plain": [
       "<IPython.core.display.Markdown object>"
      ]
     },
     "execution_count": 561,
     "metadata": {},
     "output_type": "execute_result"
    }
   ],
   "source": [
    "## Showing the code in a formatted way\n",
    "Markdown(response4.text)"
   ]
  },
  {
   "cell_type": "markdown",
   "id": "b60756ae",
   "metadata": {},
   "source": [
    "## 4. Input problem data and try running the generated code"
   ]
  },
  {
   "cell_type": "code",
   "execution_count": 563,
   "id": "8f60f2f4",
   "metadata": {},
   "outputs": [
    {
     "name": "stdout",
     "output_type": "stream",
     "text": [
      "Status: ok\n",
      "Termination condition: optimal\n",
      "Optimal solution:\n",
      "x = 43.162277233647174\n",
      "y = 36.8377229631074\n",
      "Objective function value: 2.4827783318454744\n"
     ]
    }
   ],
   "source": [
    "from pyomo.environ import *\n",
    "\n",
    "# Create a concrete model\n",
    "model = ConcreteModel()\n",
    "\n",
    "# Define variables\n",
    "model.x = Var(domain=NonNegativeReals)\n",
    "model.y = Var(domain=NonNegativeReals)\n",
    "\n",
    "# Define objective function\n",
    "model.obj = Objective(expr=log(model.x * model.y) - (model.x + 2 * model.y)**(1/3), sense=maximize)\n",
    "\n",
    "# Define constraints\n",
    "model.tank_capacity = Constraint(expr=model.x + model.y <= 80)\n",
    "model.stability1 = Constraint(expr=(model.x - (model.x + model.y) / 2)**2 <= 10)\n",
    "model.stability2 = Constraint(expr=(model.y - (model.x + model.y) / 2)**2 <= 10)\n",
    "\n",
    "# Solve the model\n",
    "solver = SolverFactory('ipopt')  # You can choose a different solver if needed\n",
    "results = solver.solve(model)\n",
    "\n",
    "# Print the results\n",
    "print(\"Status:\", results.solver.status)\n",
    "print(\"Termination condition:\", results.solver.termination_condition)\n",
    "print(\"Optimal solution:\")\n",
    "print(\"x =\", model.x.value)\n",
    "print(\"y =\", model.y.value)\n",
    "print(\"Objective function value:\", model.obj()) "
   ]
  },
  {
   "cell_type": "code",
   "execution_count": null,
   "id": "d4e254de",
   "metadata": {},
   "outputs": [],
   "source": []
  },
  {
   "cell_type": "code",
   "execution_count": null,
   "id": "41ed7d93",
   "metadata": {},
   "outputs": [],
   "source": []
  },
  {
   "cell_type": "markdown",
   "id": "1be0926e",
   "metadata": {},
   "source": [
    "## 5. Correct the code to verify model viability (optional)"
   ]
  },
  {
   "cell_type": "code",
   "execution_count": null,
   "id": "8b37acfc",
   "metadata": {},
   "outputs": [],
   "source": []
  },
  {
   "cell_type": "code",
   "execution_count": null,
   "id": "ae14438d",
   "metadata": {
    "scrolled": false
   },
   "outputs": [],
   "source": []
  },
  {
   "cell_type": "markdown",
   "id": "70f426b5",
   "metadata": {},
   "source": [
    "## 6. Print the responses"
   ]
  },
  {
   "cell_type": "code",
   "execution_count": 564,
   "id": "91f55cec",
   "metadata": {},
   "outputs": [
    {
     "name": "stdout",
     "output_type": "stream",
     "text": [
      "### Variables:\n",
      "\n",
      "*  Let  'x' be the litres used of the first liquid.\n",
      "*  Let 'y' be the litres used of the second liquid. \n",
      "\n"
     ]
    }
   ],
   "source": [
    "print(response.text)"
   ]
  },
  {
   "cell_type": "code",
   "execution_count": 565,
   "id": "f4e62a85",
   "metadata": {},
   "outputs": [
    {
     "name": "stdout",
     "output_type": "stream",
     "text": [
      "## Objective function: \n",
      "\n",
      "Maximize:  ln(x*y) - (x + 2y)^(1/3) \n",
      "\n"
     ]
    }
   ],
   "source": [
    "print(response2.text)"
   ]
  },
  {
   "cell_type": "code",
   "execution_count": 566,
   "id": "fe2d5b7e",
   "metadata": {},
   "outputs": [
    {
     "name": "stdout",
     "output_type": "stream",
     "text": [
      "## Constraints:\n",
      "\n",
      "1. **Tank capacity:** \n",
      "   *  x + y <= 80 \n",
      "\n",
      "2. **Stability requirement:**\n",
      "   * (x - (x+y)/2)^2  <= 10\n",
      "   * (y - (x+y)/2)^2  <= 10\n",
      "\n",
      "3. **Non-negativity of variables:**\n",
      "   * x >= 0\n",
      "   * y >= 0 \n",
      "\n"
     ]
    }
   ],
   "source": [
    "print(response3.text)"
   ]
  },
  {
   "cell_type": "code",
   "execution_count": 567,
   "id": "6abd3cb4",
   "metadata": {},
   "outputs": [
    {
     "name": "stdout",
     "output_type": "stream",
     "text": [
      "```python\n",
      "from pyomo.environ import *\n",
      "\n",
      "# Create a concrete model\n",
      "model = ConcreteModel()\n",
      "\n",
      "# Define variables\n",
      "model.x = Var(domain=NonNegativeReals)\n",
      "model.y = Var(domain=NonNegativeReals)\n",
      "\n",
      "# Define objective function\n",
      "model.obj = Objective(expr=log(model.x * model.y) - (model.x + 2 * model.y)**(1/3), sense=maximize)\n",
      "\n",
      "# Define constraints\n",
      "model.tank_capacity = Constraint(expr=model.x + model.y <= 80)\n",
      "model.stability1 = Constraint(expr=(model.x - (model.x + model.y) / 2)**2 <= 10)\n",
      "model.stability2 = Constraint(expr=(model.y - (model.x + model.y) / 2)**2 <= 10)\n",
      "\n",
      "# Solve the model\n",
      "solver = SolverFactory('ipopt')  # You can choose a different solver if needed\n",
      "results = solver.solve(model)\n",
      "\n",
      "# Print the results\n",
      "print(\"Status:\", results.solver.status)\n",
      "print(\"Termination condition:\", results.solver.termination_condition)\n",
      "print(\"Optimal solution:\")\n",
      "print(\"x =\", model.x.value)\n",
      "print(\"y =\", model.y.value)\n",
      "print(\"Objective function value:\", model.obj.value) \n",
      "```\n",
      " \n",
      "This code defines the variables, objective function, and constraints based on your provided mathematical formulation. It then uses the 'ipopt' solver to find the optimal solution. \n",
      "\n",
      "**Note:** I have used the 'ipopt' solver as an example. You may need to install it separately if you don't have it already. You can also use other non-linear solvers supported by Pyomo. You can find more information about installing solvers and Pyomo here:  https://pyomo.readthedocs.io/en/stable/ \n",
      "\n"
     ]
    }
   ],
   "source": [
    "print(response4.text)"
   ]
  },
  {
   "cell_type": "code",
   "execution_count": null,
   "id": "e0678019",
   "metadata": {},
   "outputs": [],
   "source": []
  }
 ],
 "metadata": {
  "kernelspec": {
   "display_name": "Python 3 (ipykernel)",
   "language": "python",
   "name": "python3"
  },
  "language_info": {
   "codemirror_mode": {
    "name": "ipython",
    "version": 3
   },
   "file_extension": ".py",
   "mimetype": "text/x-python",
   "name": "python",
   "nbconvert_exporter": "python",
   "pygments_lexer": "ipython3",
   "version": "3.11.4"
  }
 },
 "nbformat": 4,
 "nbformat_minor": 5
}
