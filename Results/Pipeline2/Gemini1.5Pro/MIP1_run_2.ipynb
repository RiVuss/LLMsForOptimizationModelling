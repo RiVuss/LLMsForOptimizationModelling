{
 "cells": [
  {
   "cell_type": "markdown",
   "id": "f0005e9e",
   "metadata": {},
   "source": [
    "# LLM Optimization Modelling Experiment"
   ]
  },
  {
   "cell_type": "code",
   "execution_count": 1,
   "id": "7f664028",
   "metadata": {},
   "outputs": [],
   "source": [
    "import vertexai\n",
    "from vertexai.preview.generative_models import GenerativeModel, Image\n",
    "from IPython.display import Markdown"
   ]
  },
  {
   "cell_type": "markdown",
   "id": "f527d6af",
   "metadata": {},
   "source": [
    "## 1. Define the problem description"
   ]
  },
  {
   "cell_type": "code",
   "execution_count": 160,
   "id": "25055ffd",
   "metadata": {},
   "outputs": [],
   "source": [
    "problem = '''You are a city planner, looking to open facilities at some locations. We have a set of customers and a set of possible locations for opening facilities. Each potential location for establishing a facility incurs a fixed annual activation cost, which must be paid if the facility is used, regardless of the service volume it handles. Furthermore, this service volume at each facility is capped at a maximum annual limit. Additionally, there are transportation costs associated with servicing each customer from each facility.\n",
    "The goal is to minimize the overall costs, which include both the fixed activation costs for any opened facilities and the transportation costs for servicing customers. This must be done while making sure that each customer’s demand is met, each facility does not exceed its maximum service volume, and customers can of course only be serviced by a facility that is opened. \n",
    "Please formulate this as a mathematical optimization model.'''"
   ]
  },
  {
   "cell_type": "markdown",
   "id": "472cf9ad",
   "metadata": {},
   "source": [
    "## 2. Ask for parameters"
   ]
  },
  {
   "cell_type": "code",
   "execution_count": 184,
   "id": "e31ec80c",
   "metadata": {},
   "outputs": [],
   "source": [
    "#Initializing the session. To replicate, make sure the right credentials are saved in a PATH variable\n",
    "PROJECT_ID = \"llm4optproblems\"\n",
    "REGION = \"us-central1\"\n",
    "vertexai.init(project=PROJECT_ID, location=REGION)\n",
    "\n",
    "#Specifying the model\n",
    "generative_multimodal_model = GenerativeModel(\"gemini-1.5-pro-preview-0409\")\n",
    "\n",
    "#The propmt applied to all problems\n",
    "prompt = '''Please formulate only the variables for this mathematical optimization problem. \n",
    "'''\n",
    "\n",
    "#Generate the response\n",
    "response = generative_multimodal_model.generate_content([prompt+problem])\n"
   ]
  },
  {
   "cell_type": "code",
   "execution_count": 185,
   "id": "f9adc567",
   "metadata": {},
   "outputs": [
    {
     "data": {
      "text/markdown": [
       "## Sets:\n",
       "\n",
       "* **I**: Set of potential facility locations.\n",
       "* **J**: Set of customers. \n",
       "\n",
       "## Parameters:\n",
       "\n",
       "* **f<sub>i</sub>**: Fixed annual activation cost of facility *i* ∈ I.\n",
       "* **C<sub>i</sub>**: Maximum annual service volume of facility *i* ∈ I.\n",
       "* **d<sub>j</sub>**: Annual demand of customer *j* ∈ J.\n",
       "* **t<sub>ij</sub>**: Transportation cost of servicing customer *j* ∈ J from facility *i* ∈ I.\n",
       "\n",
       "## Decision Variables:\n",
       "\n",
       "* **x<sub>ij</sub>**: Amount of demand of customer *j* ∈ J  serviced by facility *i* ∈ I.\n",
       "* **y<sub>i</sub>**: Binary variable equal to 1 if facility *i* ∈ I is opened, and 0 otherwise. \n"
      ],
      "text/plain": [
       "<IPython.core.display.Markdown object>"
      ]
     },
     "execution_count": 185,
     "metadata": {},
     "output_type": "execute_result"
    }
   ],
   "source": [
    "#Show the resopnse in a formatted way\n",
    "Markdown(response.text)"
   ]
  },
  {
   "cell_type": "markdown",
   "id": "15d9e89f",
   "metadata": {},
   "source": [
    "# 2. Ask for objective"
   ]
  },
  {
   "cell_type": "code",
   "execution_count": 186,
   "id": "4f357a19",
   "metadata": {},
   "outputs": [],
   "source": [
    "#Second prompt gets the output of the previous step and generates the code\n",
    "prompt2 = \"Please formulate only the objective function for this mathematical optimization problem.\"\n",
    "prompt2 += problem + response.text\n",
    "response2 = generative_multimodal_model.generate_content([prompt2])"
   ]
  },
  {
   "cell_type": "code",
   "execution_count": 187,
   "id": "bccd1014",
   "metadata": {},
   "outputs": [
    {
     "data": {
      "text/markdown": [
       "Minimize:  ∑<sub>i∈I</sub> (f<sub>i</sub> * y<sub>i</sub>) + ∑<sub>i∈I</sub>∑<sub>j∈J</sub> (t<sub>ij</sub> * x<sub>ij</sub>) \n"
      ],
      "text/plain": [
       "<IPython.core.display.Markdown object>"
      ]
     },
     "execution_count": 187,
     "metadata": {},
     "output_type": "execute_result"
    }
   ],
   "source": [
    "Markdown(response2.text)"
   ]
  },
  {
   "cell_type": "markdown",
   "id": "d8ab1404",
   "metadata": {},
   "source": [
    "# 3. Ask for constraints"
   ]
  },
  {
   "cell_type": "code",
   "execution_count": 188,
   "id": "e6409951",
   "metadata": {},
   "outputs": [],
   "source": [
    "#Second prompt gets the output of the previous step and generates the code\n",
    "prompt3 = \"Please formulate only the constraints for this mathematical optimization problem.\"\n",
    "prompt3 += problem + response.text + response2.text\n",
    "response3 = generative_multimodal_model.generate_content([prompt3])"
   ]
  },
  {
   "cell_type": "code",
   "execution_count": 189,
   "id": "2f9439c2",
   "metadata": {},
   "outputs": [
    {
     "data": {
      "text/markdown": [
       "Subject to:\n",
       "\n",
       "1. **Demand fulfillment:** ∑<sub>i∈I</sub> x<sub>ij</sub> = d<sub>j</sub>,  ∀ j ∈ J \n",
       "2. **Capacity constraint:** ∑<sub>j∈J</sub> x<sub>ij</sub> ≤ C<sub>i</sub> * y<sub>i</sub>,  ∀ i ∈ I\n",
       "3. **Service only from open facility:** x<sub>ij</sub> ≤ C<sub>i</sub> * y<sub>i</sub>,  ∀ i ∈ I, j ∈ J\n",
       "4. **Binary variable and non-negativity**:  y<sub>i</sub> ∈ {0,1}, x<sub>ij</sub> ≥ 0,  ∀ i ∈ I, j ∈ J \n"
      ],
      "text/plain": [
       "<IPython.core.display.Markdown object>"
      ]
     },
     "execution_count": 189,
     "metadata": {},
     "output_type": "execute_result"
    }
   ],
   "source": [
    "Markdown(response3.text)"
   ]
  },
  {
   "cell_type": "code",
   "execution_count": null,
   "id": "07ba7f01",
   "metadata": {},
   "outputs": [],
   "source": []
  },
  {
   "cell_type": "markdown",
   "id": "75796979",
   "metadata": {},
   "source": [
    "## 3. Generate the pyomo code"
   ]
  },
  {
   "cell_type": "code",
   "execution_count": 194,
   "id": "aabea932",
   "metadata": {},
   "outputs": [],
   "source": [
    "#Second prompt gets the output of the previous step and generates the code\n",
    "prompt4 = \"Please write pyomo code for this mathematical problem. Use sample data where needed. Indicate where you use sample data. \\n\"\n",
    "prompt4 += response.text + response2.text + response3.text \n",
    "response4 = generative_multimodal_model.generate_content([prompt4])"
   ]
  },
  {
   "cell_type": "code",
   "execution_count": 195,
   "id": "fd2835af",
   "metadata": {},
   "outputs": [
    {
     "data": {
      "text/markdown": [
       "```python\n",
       "import pyomo.environ as pyo\n",
       "\n",
       "# Sample data (replace with your actual data)\n",
       "I = ['Facility_1', 'Facility_2', 'Facility_3']  # Set of potential facility locations\n",
       "J = ['Customer_1', 'Customer_2', 'Customer_3', 'Customer_4']  # Set of customers\n",
       "\n",
       "f = {'Facility_1': 100, 'Facility_2': 150, 'Facility_3': 120}  # Fixed annual activation cost\n",
       "C = {'Facility_1': 200, 'Facility_2': 250, 'Facility_3': 180}  # Maximum annual service volume\n",
       "d = {'Customer_1': 80, 'Customer_2': 120, 'Customer_3': 50, 'Customer_4': 60}  # Annual demand\n",
       "t = {  # Transportation cost\n",
       "    ('Facility_1', 'Customer_1'): 5,\n",
       "    ('Facility_1', 'Customer_2'): 8,\n",
       "    ('Facility_1', 'Customer_3'): 6,\n",
       "    ('Facility_1', 'Customer_4'): 4,\n",
       "    ('Facility_2', 'Customer_1'): 7,\n",
       "    ('Facility_2', 'Customer_2'): 3,\n",
       "    ('Facility_2', 'Customer_3'): 9,\n",
       "    ('Facility_2', 'Customer_4'): 6,\n",
       "    ('Facility_3', 'Customer_1'): 4,\n",
       "    ('Facility_3', 'Customer_2'): 6,\n",
       "    ('Facility_3', 'Customer_3'): 2,\n",
       "    ('Facility_3', 'Customer_4'): 8,\n",
       "}\n",
       "\n",
       "# Model\n",
       "model = pyo.ConcreteModel()\n",
       "\n",
       "# Sets\n",
       "model.I = pyo.Set(initialize=I)\n",
       "model.J = pyo.Set(initialize=J)\n",
       "\n",
       "# Parameters\n",
       "model.f = pyo.Param(model.I, initialize=f)\n",
       "model.C = pyo.Param(model.I, initialize=C)\n",
       "model.d = pyo.Param(model.J, initialize=d)\n",
       "model.t = pyo.Param(model.I, model.J, initialize=t)\n",
       "\n",
       "# Decision Variables\n",
       "model.x = pyo.Var(model.I, model.J, domain=pyo.NonNegativeReals)\n",
       "model.y = pyo.Var(model.I, domain=pyo.Binary)\n",
       "\n",
       "# Objective function\n",
       "def objective_rule(model):\n",
       "    return sum(model.f[i] * model.y[i] for i in model.I) + sum(\n",
       "        model.t[i, j] * model.x[i, j] for i in model.I for j in model.J\n",
       "    )\n",
       "\n",
       "model.obj = pyo.Objective(rule=objective_rule, sense=pyo.minimize)\n",
       "\n",
       "# Constraints\n",
       "def demand_fulfillment(model, j):\n",
       "    return sum(model.x[i, j] for i in model.I) == model.d[j]\n",
       "model.demand_constraint = pyo.Constraint(model.J, rule=demand_fulfillment)\n",
       "\n",
       "def capacity_constraint(model, i):\n",
       "    return sum(model.x[i, j] for j in model.J) <= model.C[i] * model.y[i]\n",
       "model.capacity_constraint = pyo.Constraint(model.I, rule=capacity_constraint)\n",
       "\n",
       "def service_from_open_facility(model, i, j):\n",
       "    return model.x[i, j] <= model.C[i] * model.y[i]\n",
       "model.service_constraint = pyo.Constraint(model.I, model.J, rule=service_from_open_facility)\n",
       "\n",
       "# Solve the model\n",
       "solver = pyo.SolverFactory('glpk')  # You can choose a different solver\n",
       "results = solver.solve(model)\n",
       "\n",
       "# Print the results\n",
       "print(results)\n",
       "print(\"Total Cost:\", pyo.value(model.obj))\n",
       "\n",
       "# Print which facilities are open and the flow of goods\n",
       "for i in model.I:\n",
       "    if pyo.value(model.y[i]) > 0.5:\n",
       "        print(f\"Facility {i} is open.\")\n",
       "        for j in model.J:\n",
       "            if pyo.value(model.x[i, j]) > 0:\n",
       "                print(f\"   Serving {pyo.value(model.x[i, j])} units from {i} to {j}\")\n",
       "```\n",
       "\n",
       "This code first defines the sample data for sets I, J and parameters f, C, d, and t. **This is where you should replace the sample data with your actual data.**  It then sets up the mathematical model using Pyomo, defines the objective function, and constraints, and finally calls the solver to find the optimal solution. The code then prints the results of the optimization, including the total cost, which facilities should be opened, and how much each customer should receive from each facility. \n"
      ],
      "text/plain": [
       "<IPython.core.display.Markdown object>"
      ]
     },
     "execution_count": 195,
     "metadata": {},
     "output_type": "execute_result"
    }
   ],
   "source": [
    "#Showing the code in a formatted way\n",
    "Markdown(response4.text)"
   ]
  },
  {
   "cell_type": "markdown",
   "id": "b60756ae",
   "metadata": {},
   "source": [
    "## 4. Input problem data and try running the generated code"
   ]
  },
  {
   "cell_type": "code",
   "execution_count": 198,
   "id": "41ed7d93",
   "metadata": {},
   "outputs": [
    {
     "name": "stdout",
     "output_type": "stream",
     "text": [
      "\n",
      "Problem: \n",
      "- Name: unknown\n",
      "  Lower bound: 5610.0\n",
      "  Upper bound: 5610.0\n",
      "  Number of objectives: 1\n",
      "  Number of constraints: 23\n",
      "  Number of variables: 18\n",
      "  Number of nonzeros: 63\n",
      "  Sense: minimize\n",
      "Solver: \n",
      "- Status: ok\n",
      "  Termination condition: optimal\n",
      "  Statistics: \n",
      "    Branch and bound: \n",
      "      Number of bounded subproblems: 1\n",
      "      Number of created subproblems: 1\n",
      "  Error rc: 0\n",
      "  Time: 0.03983116149902344\n",
      "Solution: \n",
      "- number of solutions: 0\n",
      "  number of solutions displayed: 0\n",
      "\n",
      "Total Cost: 5610.0\n",
      "Facility 2 is open.\n",
      "   Serving 80.0 units from 2 to 1\n",
      "   Serving 270.0 units from 2 to 2\n",
      "   Serving 150.0 units from 2 to 3\n",
      "Facility 3 is open.\n",
      "   Serving 100.0 units from 3 to 3\n",
      "   Serving 160.0 units from 3 to 4\n",
      "   Serving 180.0 units from 3 to 5\n"
     ]
    }
   ],
   "source": [
    "import pyomo.environ as pyo\n",
    "\n",
    "# Sample data (replace with your actual data)\n",
    "# I = ['Facility_1', 'Facility_2', 'Facility_3']  # Set of potential facility locations\n",
    "# J = ['Customer_1', 'Customer_2', 'Customer_3', 'Customer_4']  # Set of customers\n",
    "\n",
    "# f = {'Facility_1': 100, 'Facility_2': 150, 'Facility_3': 120}  # Fixed annual activation cost\n",
    "# C = {'Facility_1': 200, 'Facility_2': 250, 'Facility_3': 180}  # Maximum annual service volume\n",
    "# d = {'Customer_1': 80, 'Customer_2': 120, 'Customer_3': 50, 'Customer_4': 60}  # Annual demand\n",
    "# t = {  # Transportation cost\n",
    "#     ('Facility_1', 'Customer_1'): 5,\n",
    "#     ('Facility_1', 'Customer_2'): 8,\n",
    "#     ('Facility_1', 'Customer_3'): 6,\n",
    "#     ('Facility_1', 'Customer_4'): 4,\n",
    "#     ('Facility_2', 'Customer_1'): 7,\n",
    "#     ('Facility_2', 'Customer_2'): 3,\n",
    "#     ('Facility_2', 'Customer_3'): 9,\n",
    "#     ('Facility_2', 'Customer_4'): 6,\n",
    "#     ('Facility_3', 'Customer_1'): 4,\n",
    "#     ('Facility_3', 'Customer_2'): 6,\n",
    "#     ('Facility_3', 'Customer_3'): 2,\n",
    "#     ('Facility_3', 'Customer_4'): 8,\n",
    "# }\n",
    "\n",
    "\n",
    "I = [1, 2, 3]  # Set of potential facility locations\n",
    "J = [1,2,3,4,5]  # Set of customers\n",
    "\n",
    "f = {1: 1000, 2: 1000, 3: 1000}  # Fixed annual activation cost\n",
    "C = {1: 500, 2: 500, 3: 500}   # Maximum annual service volume\n",
    "d = {1: 80, 2: 270, 3: 250,4:160,5:180}  # Annual demand\n",
    "t = {\n",
    "    (1, 1): 4,  (2, 1): 6,  (3, 1): 9,\n",
    "    (1, 2): 5,  (2, 2): 4,  (3, 2): 7,\n",
    "    (1, 3): 6,  (2, 3): 3,  (3, 3): 4,\n",
    "    (1, 4): 8,  (2, 4): 5,  (3, 4): 3,\n",
    "    (1, 5): 10, (2, 5): 8,  (3, 5): 4,\n",
    "}\n",
    "\n",
    "\n",
    "# Model\n",
    "model = pyo.ConcreteModel()\n",
    "\n",
    "# Sets\n",
    "model.I = pyo.Set(initialize=I)\n",
    "model.J = pyo.Set(initialize=J)\n",
    "\n",
    "# Parameters\n",
    "model.f = pyo.Param(model.I, initialize=f)\n",
    "model.C = pyo.Param(model.I, initialize=C)\n",
    "model.d = pyo.Param(model.J, initialize=d)\n",
    "model.t = pyo.Param(model.I, model.J, initialize=t)\n",
    "\n",
    "# Decision Variables\n",
    "model.x = pyo.Var(model.I, model.J, domain=pyo.NonNegativeReals)\n",
    "model.y = pyo.Var(model.I, domain=pyo.Binary)\n",
    "\n",
    "# Objective function\n",
    "def objective_rule(model):\n",
    "    return sum(model.f[i] * model.y[i] for i in model.I) + sum(\n",
    "        model.t[i, j] * model.x[i, j] for i in model.I for j in model.J\n",
    "    )\n",
    "\n",
    "model.obj = pyo.Objective(rule=objective_rule, sense=pyo.minimize)\n",
    "\n",
    "# Constraints\n",
    "def demand_fulfillment(model, j):\n",
    "    return sum(model.x[i, j] for i in model.I) == model.d[j]\n",
    "model.demand_constraint = pyo.Constraint(model.J, rule=demand_fulfillment)\n",
    "\n",
    "def capacity_constraint(model, i):\n",
    "    return sum(model.x[i, j] for j in model.J) <= model.C[i] * model.y[i]\n",
    "model.capacity_constraint = pyo.Constraint(model.I, rule=capacity_constraint)\n",
    "\n",
    "def service_from_open_facility(model, i, j):\n",
    "    return model.x[i, j] <= model.C[i] * model.y[i]\n",
    "model.service_constraint = pyo.Constraint(model.I, model.J, rule=service_from_open_facility)\n",
    "\n",
    "# Solve the model\n",
    "solver = pyo.SolverFactory('glpk')  # You can choose a different solver\n",
    "results = solver.solve(model)\n",
    "\n",
    "# Print the results\n",
    "print(results)\n",
    "print(\"Total Cost:\", pyo.value(model.obj))\n",
    "\n",
    "# Print which facilities are open and the flow of goods\n",
    "for i in model.I:\n",
    "    if pyo.value(model.y[i]) > 0.5:\n",
    "        print(f\"Facility {i} is open.\")\n",
    "        for j in model.J:\n",
    "            if pyo.value(model.x[i, j]) > 0:\n",
    "                print(f\"   Serving {pyo.value(model.x[i, j])} units from {i} to {j}\")"
   ]
  },
  {
   "cell_type": "markdown",
   "id": "1be0926e",
   "metadata": {},
   "source": [
    "## 5. Correct the code to verify model viability (optional)"
   ]
  },
  {
   "cell_type": "code",
   "execution_count": null,
   "id": "8b37acfc",
   "metadata": {},
   "outputs": [],
   "source": []
  },
  {
   "cell_type": "markdown",
   "id": "13f3d7b8",
   "metadata": {},
   "source": [
    "## 6. Print the responses"
   ]
  },
  {
   "cell_type": "code",
   "execution_count": 199,
   "id": "e74bc92f",
   "metadata": {},
   "outputs": [
    {
     "name": "stdout",
     "output_type": "stream",
     "text": [
      "## Sets:\n",
      "\n",
      "* **I**: Set of potential facility locations.\n",
      "* **J**: Set of customers. \n",
      "\n",
      "## Parameters:\n",
      "\n",
      "* **f<sub>i</sub>**: Fixed annual activation cost of facility *i* ∈ I.\n",
      "* **C<sub>i</sub>**: Maximum annual service volume of facility *i* ∈ I.\n",
      "* **d<sub>j</sub>**: Annual demand of customer *j* ∈ J.\n",
      "* **t<sub>ij</sub>**: Transportation cost of servicing customer *j* ∈ J from facility *i* ∈ I.\n",
      "\n",
      "## Decision Variables:\n",
      "\n",
      "* **x<sub>ij</sub>**: Amount of demand of customer *j* ∈ J  serviced by facility *i* ∈ I.\n",
      "* **y<sub>i</sub>**: Binary variable equal to 1 if facility *i* ∈ I is opened, and 0 otherwise. \n",
      "\n"
     ]
    }
   ],
   "source": [
    "print(response.text)"
   ]
  },
  {
   "cell_type": "code",
   "execution_count": 200,
   "id": "dfcb9ae4",
   "metadata": {},
   "outputs": [
    {
     "name": "stdout",
     "output_type": "stream",
     "text": [
      "Minimize:  ∑<sub>i∈I</sub> (f<sub>i</sub> * y<sub>i</sub>) + ∑<sub>i∈I</sub>∑<sub>j∈J</sub> (t<sub>ij</sub> * x<sub>ij</sub>) \n",
      "\n"
     ]
    }
   ],
   "source": [
    "print(response2.text)"
   ]
  },
  {
   "cell_type": "code",
   "execution_count": 201,
   "id": "a9f0706c",
   "metadata": {},
   "outputs": [
    {
     "name": "stdout",
     "output_type": "stream",
     "text": [
      "Subject to:\n",
      "\n",
      "1. **Demand fulfillment:** ∑<sub>i∈I</sub> x<sub>ij</sub> = d<sub>j</sub>,  ∀ j ∈ J \n",
      "2. **Capacity constraint:** ∑<sub>j∈J</sub> x<sub>ij</sub> ≤ C<sub>i</sub> * y<sub>i</sub>,  ∀ i ∈ I\n",
      "3. **Service only from open facility:** x<sub>ij</sub> ≤ C<sub>i</sub> * y<sub>i</sub>,  ∀ i ∈ I, j ∈ J\n",
      "4. **Binary variable and non-negativity**:  y<sub>i</sub> ∈ {0,1}, x<sub>ij</sub> ≥ 0,  ∀ i ∈ I, j ∈ J \n",
      "\n"
     ]
    }
   ],
   "source": [
    "print(response3.text)"
   ]
  },
  {
   "cell_type": "code",
   "execution_count": 202,
   "id": "e35a778a",
   "metadata": {},
   "outputs": [
    {
     "name": "stdout",
     "output_type": "stream",
     "text": [
      "```python\n",
      "import pyomo.environ as pyo\n",
      "\n",
      "# Sample data (replace with your actual data)\n",
      "I = ['Facility_1', 'Facility_2', 'Facility_3']  # Set of potential facility locations\n",
      "J = ['Customer_1', 'Customer_2', 'Customer_3', 'Customer_4']  # Set of customers\n",
      "\n",
      "f = {'Facility_1': 100, 'Facility_2': 150, 'Facility_3': 120}  # Fixed annual activation cost\n",
      "C = {'Facility_1': 200, 'Facility_2': 250, 'Facility_3': 180}  # Maximum annual service volume\n",
      "d = {'Customer_1': 80, 'Customer_2': 120, 'Customer_3': 50, 'Customer_4': 60}  # Annual demand\n",
      "t = {  # Transportation cost\n",
      "    ('Facility_1', 'Customer_1'): 5,\n",
      "    ('Facility_1', 'Customer_2'): 8,\n",
      "    ('Facility_1', 'Customer_3'): 6,\n",
      "    ('Facility_1', 'Customer_4'): 4,\n",
      "    ('Facility_2', 'Customer_1'): 7,\n",
      "    ('Facility_2', 'Customer_2'): 3,\n",
      "    ('Facility_2', 'Customer_3'): 9,\n",
      "    ('Facility_2', 'Customer_4'): 6,\n",
      "    ('Facility_3', 'Customer_1'): 4,\n",
      "    ('Facility_3', 'Customer_2'): 6,\n",
      "    ('Facility_3', 'Customer_3'): 2,\n",
      "    ('Facility_3', 'Customer_4'): 8,\n",
      "}\n",
      "\n",
      "# Model\n",
      "model = pyo.ConcreteModel()\n",
      "\n",
      "# Sets\n",
      "model.I = pyo.Set(initialize=I)\n",
      "model.J = pyo.Set(initialize=J)\n",
      "\n",
      "# Parameters\n",
      "model.f = pyo.Param(model.I, initialize=f)\n",
      "model.C = pyo.Param(model.I, initialize=C)\n",
      "model.d = pyo.Param(model.J, initialize=d)\n",
      "model.t = pyo.Param(model.I, model.J, initialize=t)\n",
      "\n",
      "# Decision Variables\n",
      "model.x = pyo.Var(model.I, model.J, domain=pyo.NonNegativeReals)\n",
      "model.y = pyo.Var(model.I, domain=pyo.Binary)\n",
      "\n",
      "# Objective function\n",
      "def objective_rule(model):\n",
      "    return sum(model.f[i] * model.y[i] for i in model.I) + sum(\n",
      "        model.t[i, j] * model.x[i, j] for i in model.I for j in model.J\n",
      "    )\n",
      "\n",
      "model.obj = pyo.Objective(rule=objective_rule, sense=pyo.minimize)\n",
      "\n",
      "# Constraints\n",
      "def demand_fulfillment(model, j):\n",
      "    return sum(model.x[i, j] for i in model.I) == model.d[j]\n",
      "model.demand_constraint = pyo.Constraint(model.J, rule=demand_fulfillment)\n",
      "\n",
      "def capacity_constraint(model, i):\n",
      "    return sum(model.x[i, j] for j in model.J) <= model.C[i] * model.y[i]\n",
      "model.capacity_constraint = pyo.Constraint(model.I, rule=capacity_constraint)\n",
      "\n",
      "def service_from_open_facility(model, i, j):\n",
      "    return model.x[i, j] <= model.C[i] * model.y[i]\n",
      "model.service_constraint = pyo.Constraint(model.I, model.J, rule=service_from_open_facility)\n",
      "\n",
      "# Solve the model\n",
      "solver = pyo.SolverFactory('glpk')  # You can choose a different solver\n",
      "results = solver.solve(model)\n",
      "\n",
      "# Print the results\n",
      "print(results)\n",
      "print(\"Total Cost:\", pyo.value(model.obj))\n",
      "\n",
      "# Print which facilities are open and the flow of goods\n",
      "for i in model.I:\n",
      "    if pyo.value(model.y[i]) > 0.5:\n",
      "        print(f\"Facility {i} is open.\")\n",
      "        for j in model.J:\n",
      "            if pyo.value(model.x[i, j]) > 0:\n",
      "                print(f\"   Serving {pyo.value(model.x[i, j])} units from {i} to {j}\")\n",
      "```\n",
      "\n",
      "This code first defines the sample data for sets I, J and parameters f, C, d, and t. **This is where you should replace the sample data with your actual data.**  It then sets up the mathematical model using Pyomo, defines the objective function, and constraints, and finally calls the solver to find the optimal solution. The code then prints the results of the optimization, including the total cost, which facilities should be opened, and how much each customer should receive from each facility. \n",
      "\n"
     ]
    }
   ],
   "source": [
    "print(response4.text)"
   ]
  }
 ],
 "metadata": {
  "kernelspec": {
   "display_name": "Python 3 (ipykernel)",
   "language": "python",
   "name": "python3"
  },
  "language_info": {
   "codemirror_mode": {
    "name": "ipython",
    "version": 3
   },
   "file_extension": ".py",
   "mimetype": "text/x-python",
   "name": "python",
   "nbconvert_exporter": "python",
   "pygments_lexer": "ipython3",
   "version": "3.11.4"
  }
 },
 "nbformat": 4,
 "nbformat_minor": 5
}
