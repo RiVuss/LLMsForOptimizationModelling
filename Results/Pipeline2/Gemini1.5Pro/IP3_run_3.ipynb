{
 "cells": [
  {
   "cell_type": "markdown",
   "id": "f0005e9e",
   "metadata": {},
   "source": [
    "# LLM Optimization Modelling Experiment"
   ]
  },
  {
   "cell_type": "code",
   "execution_count": 1,
   "id": "7f664028",
   "metadata": {},
   "outputs": [],
   "source": [
    "import vertexai\n",
    "from vertexai.preview.generative_models import GenerativeModel, Image\n",
    "from IPython.display import Markdown"
   ]
  },
  {
   "cell_type": "markdown",
   "id": "f527d6af",
   "metadata": {},
   "source": [
    "## 1. Define the problem description"
   ]
  },
  {
   "cell_type": "code",
   "execution_count": 595,
   "id": "25055ffd",
   "metadata": {},
   "outputs": [],
   "source": [
    "problem = '''You are the person in charge of packing in a large company. Your job is to skillfully pack items of various weights in a box with predetermined capacity. The objective is to use as few boxes as possible. There is a set of items and a set of boxes with an upper bound on the amount of boxes. Each of the items has a known weight. Each item is packed into one box and items are packed into the chosen boxes. Please formulate a mathematical optimization model for this problem.   '''"
   ]
  },
  {
   "cell_type": "markdown",
   "id": "472cf9ad",
   "metadata": {},
   "source": [
    "## 2. Ask for parameters"
   ]
  },
  {
   "cell_type": "code",
   "execution_count": 623,
   "id": "e31ec80c",
   "metadata": {},
   "outputs": [],
   "source": [
    "#Initializing the session. To replicate, make sure the right credentials are saved in a PATH variable\n",
    "PROJECT_ID = \"llm4optproblems\"\n",
    "REGION = \"us-central1\"\n",
    "vertexai.init(project=PROJECT_ID, location=REGION)\n",
    "\n",
    "#Specifying the model\n",
    "generative_multimodal_model = GenerativeModel(\"gemini-1.5-pro-preview-0409\")\n",
    "\n",
    "#The propmt applied to all problems\n",
    "prompt = '''Please formulate only the variables for this mathematical optimization problem. \n",
    "'''\n",
    "\n",
    "#Generate the response\n",
    "response = generative_multimodal_model.generate_content([prompt+problem])\n"
   ]
  },
  {
   "cell_type": "code",
   "execution_count": 624,
   "id": "f9adc567",
   "metadata": {},
   "outputs": [
    {
     "data": {
      "text/markdown": [
       "Let:\n",
       "\n",
       "*  $I$ be the set of items.\n",
       "* $J$ be the set of boxes. \n",
       "* $w_i$ be the weight of item $i \\in I$.\n",
       "* $C$ be the capacity of each box.\n",
       "* $N$ be the upper bound on the number of boxes. \n",
       "* $x_{ij}$ be a binary variable equal to 1 if item $i \\in I$ is assigned to box $j \\in J$, and 0 otherwise. \n",
       "* $y_j$ be a binary variable equal to 1 if box $j \\in J$ is used, and 0 otherwise. \n"
      ],
      "text/plain": [
       "<IPython.core.display.Markdown object>"
      ]
     },
     "execution_count": 624,
     "metadata": {},
     "output_type": "execute_result"
    }
   ],
   "source": [
    "#Show the resopnse in a formatted way\n",
    "Markdown(response.text)"
   ]
  },
  {
   "cell_type": "markdown",
   "id": "15d9e89f",
   "metadata": {},
   "source": [
    "# 2. Ask for objective"
   ]
  },
  {
   "cell_type": "code",
   "execution_count": 625,
   "id": "4f357a19",
   "metadata": {},
   "outputs": [],
   "source": [
    "#Second prompt gets the output of the previous step and generates the code\n",
    "prompt2 = \"Please formulate only the objective function for this mathematical optimization problem.\"\n",
    "prompt2 += problem + response.text\n",
    "response2 = generative_multimodal_model.generate_content([prompt2])"
   ]
  },
  {
   "cell_type": "code",
   "execution_count": 626,
   "id": "bccd1014",
   "metadata": {},
   "outputs": [
    {
     "data": {
      "text/markdown": [
       "Minimize $\\sum_{j \\in J} y_j$ \n"
      ],
      "text/plain": [
       "<IPython.core.display.Markdown object>"
      ]
     },
     "execution_count": 626,
     "metadata": {},
     "output_type": "execute_result"
    }
   ],
   "source": [
    "Markdown(response2.text)"
   ]
  },
  {
   "cell_type": "markdown",
   "id": "d8ab1404",
   "metadata": {},
   "source": [
    "# 3. Ask for constraints"
   ]
  },
  {
   "cell_type": "code",
   "execution_count": 627,
   "id": "e6409951",
   "metadata": {},
   "outputs": [],
   "source": [
    "#Second prompt gets the output of the previous step and generates the code\n",
    "prompt3 = \"Please formulate only the constraints for this mathematical optimization problem.\"\n",
    "prompt3 += problem + response.text + response2.text\n",
    "response3 = generative_multimodal_model.generate_content([prompt3])"
   ]
  },
  {
   "cell_type": "code",
   "execution_count": 628,
   "id": "2f9439c2",
   "metadata": {},
   "outputs": [
    {
     "data": {
      "text/markdown": [
       "Subject to:\n",
       "\n",
       "* $\\sum_{j \\in J} x_{ij} = 1, \\forall i \\in I$ \n",
       "* $\\sum_{i \\in I} w_i x_{ij}  \\leq C y_j, \\forall j \\in J$\n",
       "* $\\sum_{j \\in J} y_j \\leq N$\n",
       "* $x_{ij} \\in \\{0,1\\}, \\forall i \\in I, \\forall j \\in J$\n",
       "* $y_{j} \\in \\{0,1\\}, \\forall j \\in J$ \n"
      ],
      "text/plain": [
       "<IPython.core.display.Markdown object>"
      ]
     },
     "execution_count": 628,
     "metadata": {},
     "output_type": "execute_result"
    }
   ],
   "source": [
    "Markdown(response3.text)"
   ]
  },
  {
   "cell_type": "markdown",
   "id": "75796979",
   "metadata": {},
   "source": [
    "## 3. Generate the pyomo code"
   ]
  },
  {
   "cell_type": "code",
   "execution_count": 629,
   "id": "aabea932",
   "metadata": {},
   "outputs": [],
   "source": [
    "#Second prompt gets the output of the previous step and generates the code\n",
    "prompt4 = \"Please write pyomo code for this mathematical problem. Use sample data where needed. Indicate where you use sample data. \\n\"\n",
    "prompt4 += response.text + response2.text + response3.text \n",
    "response4 = generative_multimodal_model.generate_content([prompt4])"
   ]
  },
  {
   "cell_type": "code",
   "execution_count": 630,
   "id": "6d3d63aa",
   "metadata": {
    "scrolled": false
   },
   "outputs": [
    {
     "data": {
      "text/markdown": [
       "```python\n",
       "import pyomo.environ as pyo\n",
       "\n",
       "# Sample data (replace with your actual data)\n",
       "items = ['A', 'B', 'C', 'D', 'E']  \n",
       "weights = {'A': 4, 'B': 2, 'C': 7, 'D': 3, 'E': 5} \n",
       "box_capacity = 10\n",
       "max_boxes = 3\n",
       "\n",
       "# Model\n",
       "model = pyo.ConcreteModel()\n",
       "\n",
       "# Sets\n",
       "model.I = pyo.Set(initialize=items) # set of items\n",
       "model.J = pyo.RangeSet(1, max_boxes) # set of boxes\n",
       "\n",
       "# Parameters\n",
       "model.w = pyo.Param(model.I, initialize=weights)  # weight of each item\n",
       "model.C = box_capacity # capacity of each box\n",
       "model.N = max_boxes # maximum number of boxes\n",
       "\n",
       "# Variables\n",
       "model.x = pyo.Var(model.I, model.J, domain=pyo.Binary) # 1 if item i is in box j, 0 otherwise\n",
       "model.y = pyo.Var(model.J, domain=pyo.Binary) # 1 if box j is used, 0 otherwise\n",
       "\n",
       "# Objective function: Minimize the number of boxes used\n",
       "model.obj = pyo.Objective(expr=sum(model.y[j] for j in model.J), sense=pyo.minimize)\n",
       "\n",
       "# Constraints\n",
       "# Each item must be assigned to exactly one box\n",
       "model.constraint1 = pyo.ConstraintList()\n",
       "for i in model.I:\n",
       "    model.constraint1.add(sum(model.x[i, j] for j in model.J) == 1)\n",
       "\n",
       "# Weight capacity constraint for each box\n",
       "model.constraint2 = pyo.ConstraintList()\n",
       "for j in model.J:\n",
       "    model.constraint2.add(sum(model.w[i] * model.x[i, j] for i in model.I) <= model.C * model.y[j])\n",
       "\n",
       "# Limit the total number of boxes used\n",
       "model.constraint3 = pyo.Constraint(expr=sum(model.y[j] for j in model.J) <= model.N)\n",
       "\n",
       "# Solve the model\n",
       "solver = pyo.SolverFactory('glpk') \n",
       "results = solver.solve(model)\n",
       "\n",
       "# Print the results\n",
       "print(\"Status:\", results.solver.status)\n",
       "print(\"Termination condition:\",results.solver.termination_condition)\n",
       "print(\"Optimal number of boxes:\", pyo.value(model.obj))\n",
       "\n",
       "# Print box assignments\n",
       "for j in model.J:\n",
       "    if pyo.value(model.y[j]) > 0:\n",
       "        print(f\"Box {j}:\", [i for i in model.I if pyo.value(model.x[i, j]) > 0.5])\n",
       "```\n",
       "\n",
       "**Explanation:**\n",
       "\n",
       "1.  **Import Pyomo:** `import pyomo.environ as pyo`\n",
       "2.  **Sample Data:** This section defines example data for the problem:\n",
       "    *   `items`: A list of item identifiers.\n",
       "    *   `weights`: A dictionary mapping items to their weights.\n",
       "    *   `box_capacity`: The maximum weight capacity of each box.\n",
       "    *   `max_boxes`: The upper limit on the number of boxes available.\n",
       "\n",
       "3.  **Model Initialization:** `model = pyo.ConcreteModel()` creates a concrete Pyomo model instance.\n",
       "\n",
       "4.  **Sets:**\n",
       "    *   `model.I = pyo.Set(initialize=items)` defines a set 'I' representing the items.\n",
       "    *   `model.J = pyo.RangeSet(1, max_boxes)` defines a set 'J' representing the boxes.\n",
       "\n",
       "5.  **Parameters:**\n",
       "    *   `model.w = pyo.Param(model.I, initialize=weights)` defines a parameter 'w' storing the weight of each item.\n",
       "    *   `model.C = box_capacity` sets the box capacity as a parameter.\n",
       "    *   `model.N = max_boxes` sets the maximum number of boxes as a parameter.\n",
       "\n",
       "6.  **Variables:**\n",
       "    *   `model.x = pyo.Var(model.I, model.J, domain=pyo.Binary)` defines binary variable 'x' indicating if item 'i' is assigned to box 'j'.\n",
       "    *   `model.y = pyo.Var(model.J, domain=pyo.Binary)` defines binary variable 'y' indicating if box 'j' is used.\n",
       "\n",
       "7.  **Objective Function:** `model.obj = pyo.Objective(expr=sum(model.y[j] for j in model.J), sense=pyo.minimize)` defines the objective to minimize, which is the total number of boxes used.\n",
       "\n",
       "8.  **Constraints:**\n",
       "    *   `model.constraint1` ensures that each item is assigned to exactly one box.\n",
       "    *   `model.constraint2` enforces the weight capacity constraint for each box.\n",
       "    *   `model.constraint3` limits the total number of boxes used to the maximum allowed.\n",
       "\n",
       "9.  **Solver:**\n",
       "    *   `solver = pyo.SolverFactory('glpk')` creates a solver instance using the 'glpk' solver (you might need to install it).\n",
       "    *   `results = solver.solve(model)` solves the model using the selected solver.\n",
       "\n",
       "10. **Results:**\n",
       "    *   The code prints the solver status and termination condition.\n",
       "    *   It prints the optimal number of boxes used.\n",
       "    *   It then iterates through the boxes and prints the items assigned to each used box.\n",
       "\n",
       "**Remember:** Replace the sample data with your actual data to solve your specific problem instance.\n"
      ],
      "text/plain": [
       "<IPython.core.display.Markdown object>"
      ]
     },
     "execution_count": 630,
     "metadata": {},
     "output_type": "execute_result"
    }
   ],
   "source": [
    "## Showing the code in a formatted way\n",
    "Markdown(response4.text)"
   ]
  },
  {
   "cell_type": "markdown",
   "id": "b60756ae",
   "metadata": {},
   "source": [
    "## 4. Input problem data and try running the generated code"
   ]
  },
  {
   "cell_type": "code",
   "execution_count": 632,
   "id": "dab32d36",
   "metadata": {},
   "outputs": [
    {
     "name": "stdout",
     "output_type": "stream",
     "text": [
      "Status: ok\n",
      "Termination condition: optimal\n",
      "Optimal number of boxes: 13.0\n",
      "Box 1: [23]\n",
      "Box 2: [3, 21]\n",
      "Box 3: [1, 22]\n",
      "Box 4: [4, 16]\n",
      "Box 5: [2, 20]\n",
      "Box 6: [6, 17]\n",
      "Box 7: [8, 14]\n",
      "Box 8: [7, 13]\n",
      "Box 9: [9, 15]\n",
      "Box 10: [10, 11]\n",
      "Box 11: [12, 18]\n",
      "Box 12: [24]\n",
      "Box 14: [5, 19]\n"
     ]
    }
   ],
   "source": [
    "\n",
    "\n",
    "\n",
    "import pyomo.environ as pyo\n",
    "\n",
    "# Sample data (replace with your actual data)\n",
    "items = ['A', 'B', 'C', 'D', 'E']  \n",
    "weights = {'A': 4, 'B': 2, 'C': 7, 'D': 3, 'E': 5} \n",
    "box_capacity = 10\n",
    "max_boxes = 3\n",
    "\n",
    "items =  range(1,25)\n",
    "weights = {1: 2,2: 2,3: 2,4: 2,5: 3,6: 3,7:4,8: 4,9: 4,10: 4,11: 4,12:4,13: 5,14:5,15: 5,16: 5,17: 5,18: 5,19: 6,20:6,21: 7,22: 7,23: 8, 24:8} # Weight of each item\n",
    "boxes = range(1,15)\n",
    "box_capacity = 9\n",
    "max_boxes = 15\n",
    "\n",
    "# Model\n",
    "model = pyo.ConcreteModel()\n",
    "\n",
    "# Sets\n",
    "model.I = pyo.Set(initialize=items) # set of items\n",
    "model.J = pyo.RangeSet(1, max_boxes) # set of boxes\n",
    "\n",
    "# Parameters\n",
    "model.w = pyo.Param(model.I, initialize=weights)  # weight of each item\n",
    "model.C = box_capacity # capacity of each box\n",
    "model.N = max_boxes # maximum number of boxes\n",
    "\n",
    "# Variables\n",
    "model.x = pyo.Var(model.I, model.J, domain=pyo.Binary) # 1 if item i is in box j, 0 otherwise\n",
    "model.y = pyo.Var(model.J, domain=pyo.Binary) # 1 if box j is used, 0 otherwise\n",
    "\n",
    "# Objective function: Minimize the number of boxes used\n",
    "model.obj = pyo.Objective(expr=sum(model.y[j] for j in model.J), sense=pyo.minimize)\n",
    "\n",
    "# Constraints\n",
    "# Each item must be assigned to exactly one box\n",
    "model.constraint1 = pyo.ConstraintList()\n",
    "for i in model.I:\n",
    "    model.constraint1.add(sum(model.x[i, j] for j in model.J) == 1)\n",
    "\n",
    "# Weight capacity constraint for each box\n",
    "model.constraint2 = pyo.ConstraintList()\n",
    "for j in model.J:\n",
    "    model.constraint2.add(sum(model.w[i] * model.x[i, j] for i in model.I) <= model.C * model.y[j])\n",
    "\n",
    "# Limit the total number of boxes used\n",
    "model.constraint3 = pyo.Constraint(expr=sum(model.y[j] for j in model.J) <= model.N)\n",
    "\n",
    "# Solve the model\n",
    "solver = pyo.SolverFactory('glpk') \n",
    "results = solver.solve(model)\n",
    "\n",
    "# Print the results\n",
    "print(\"Status:\", results.solver.status)\n",
    "print(\"Termination condition:\",results.solver.termination_condition)\n",
    "print(\"Optimal number of boxes:\", pyo.value(model.obj))\n",
    "\n",
    "# Print box assignments\n",
    "for j in model.J:\n",
    "    if pyo.value(model.y[j]) > 0:\n",
    "        print(f\"Box {j}:\", [i for i in model.I if pyo.value(model.x[i, j]) > 0.5])"
   ]
  },
  {
   "cell_type": "code",
   "execution_count": null,
   "id": "f5ec1ce9",
   "metadata": {},
   "outputs": [],
   "source": []
  },
  {
   "cell_type": "code",
   "execution_count": null,
   "id": "41ed7d93",
   "metadata": {},
   "outputs": [],
   "source": []
  },
  {
   "cell_type": "markdown",
   "id": "1be0926e",
   "metadata": {},
   "source": [
    "## 5. Correct the code to verify model viability (optional)"
   ]
  },
  {
   "cell_type": "code",
   "execution_count": null,
   "id": "8b37acfc",
   "metadata": {},
   "outputs": [],
   "source": []
  },
  {
   "cell_type": "code",
   "execution_count": null,
   "id": "b4703172",
   "metadata": {
    "scrolled": false
   },
   "outputs": [],
   "source": []
  },
  {
   "cell_type": "markdown",
   "id": "524a0700",
   "metadata": {},
   "source": [
    "## 6. Print the responses"
   ]
  },
  {
   "cell_type": "code",
   "execution_count": 633,
   "id": "8807fc46",
   "metadata": {},
   "outputs": [
    {
     "name": "stdout",
     "output_type": "stream",
     "text": [
      "Let:\n",
      "\n",
      "*  $I$ be the set of items.\n",
      "* $J$ be the set of boxes. \n",
      "* $w_i$ be the weight of item $i \\in I$.\n",
      "* $C$ be the capacity of each box.\n",
      "* $N$ be the upper bound on the number of boxes. \n",
      "* $x_{ij}$ be a binary variable equal to 1 if item $i \\in I$ is assigned to box $j \\in J$, and 0 otherwise. \n",
      "* $y_j$ be a binary variable equal to 1 if box $j \\in J$ is used, and 0 otherwise. \n",
      "\n"
     ]
    }
   ],
   "source": [
    "print(response.text)"
   ]
  },
  {
   "cell_type": "code",
   "execution_count": 634,
   "id": "c9b8e240",
   "metadata": {},
   "outputs": [
    {
     "name": "stdout",
     "output_type": "stream",
     "text": [
      "Minimize $\\sum_{j \\in J} y_j$ \n",
      "\n"
     ]
    }
   ],
   "source": [
    "print(response2.text)"
   ]
  },
  {
   "cell_type": "code",
   "execution_count": 635,
   "id": "2e5df021",
   "metadata": {},
   "outputs": [
    {
     "name": "stdout",
     "output_type": "stream",
     "text": [
      "Subject to:\n",
      "\n",
      "* $\\sum_{j \\in J} x_{ij} = 1, \\forall i \\in I$ \n",
      "* $\\sum_{i \\in I} w_i x_{ij}  \\leq C y_j, \\forall j \\in J$\n",
      "* $\\sum_{j \\in J} y_j \\leq N$\n",
      "* $x_{ij} \\in \\{0,1\\}, \\forall i \\in I, \\forall j \\in J$\n",
      "* $y_{j} \\in \\{0,1\\}, \\forall j \\in J$ \n",
      "\n"
     ]
    }
   ],
   "source": [
    "print(response3.text)"
   ]
  },
  {
   "cell_type": "code",
   "execution_count": 636,
   "id": "5ff6ef09",
   "metadata": {},
   "outputs": [
    {
     "name": "stdout",
     "output_type": "stream",
     "text": [
      "```python\n",
      "import pyomo.environ as pyo\n",
      "\n",
      "# Sample data (replace with your actual data)\n",
      "items = ['A', 'B', 'C', 'D', 'E']  \n",
      "weights = {'A': 4, 'B': 2, 'C': 7, 'D': 3, 'E': 5} \n",
      "box_capacity = 10\n",
      "max_boxes = 3\n",
      "\n",
      "# Model\n",
      "model = pyo.ConcreteModel()\n",
      "\n",
      "# Sets\n",
      "model.I = pyo.Set(initialize=items) # set of items\n",
      "model.J = pyo.RangeSet(1, max_boxes) # set of boxes\n",
      "\n",
      "# Parameters\n",
      "model.w = pyo.Param(model.I, initialize=weights)  # weight of each item\n",
      "model.C = box_capacity # capacity of each box\n",
      "model.N = max_boxes # maximum number of boxes\n",
      "\n",
      "# Variables\n",
      "model.x = pyo.Var(model.I, model.J, domain=pyo.Binary) # 1 if item i is in box j, 0 otherwise\n",
      "model.y = pyo.Var(model.J, domain=pyo.Binary) # 1 if box j is used, 0 otherwise\n",
      "\n",
      "# Objective function: Minimize the number of boxes used\n",
      "model.obj = pyo.Objective(expr=sum(model.y[j] for j in model.J), sense=pyo.minimize)\n",
      "\n",
      "# Constraints\n",
      "# Each item must be assigned to exactly one box\n",
      "model.constraint1 = pyo.ConstraintList()\n",
      "for i in model.I:\n",
      "    model.constraint1.add(sum(model.x[i, j] for j in model.J) == 1)\n",
      "\n",
      "# Weight capacity constraint for each box\n",
      "model.constraint2 = pyo.ConstraintList()\n",
      "for j in model.J:\n",
      "    model.constraint2.add(sum(model.w[i] * model.x[i, j] for i in model.I) <= model.C * model.y[j])\n",
      "\n",
      "# Limit the total number of boxes used\n",
      "model.constraint3 = pyo.Constraint(expr=sum(model.y[j] for j in model.J) <= model.N)\n",
      "\n",
      "# Solve the model\n",
      "solver = pyo.SolverFactory('glpk') \n",
      "results = solver.solve(model)\n",
      "\n",
      "# Print the results\n",
      "print(\"Status:\", results.solver.status)\n",
      "print(\"Termination condition:\",results.solver.termination_condition)\n",
      "print(\"Optimal number of boxes:\", pyo.value(model.obj))\n",
      "\n",
      "# Print box assignments\n",
      "for j in model.J:\n",
      "    if pyo.value(model.y[j]) > 0:\n",
      "        print(f\"Box {j}:\", [i for i in model.I if pyo.value(model.x[i, j]) > 0.5])\n",
      "```\n",
      "\n",
      "**Explanation:**\n",
      "\n",
      "1.  **Import Pyomo:** `import pyomo.environ as pyo`\n",
      "2.  **Sample Data:** This section defines example data for the problem:\n",
      "    *   `items`: A list of item identifiers.\n",
      "    *   `weights`: A dictionary mapping items to their weights.\n",
      "    *   `box_capacity`: The maximum weight capacity of each box.\n",
      "    *   `max_boxes`: The upper limit on the number of boxes available.\n",
      "\n",
      "3.  **Model Initialization:** `model = pyo.ConcreteModel()` creates a concrete Pyomo model instance.\n",
      "\n",
      "4.  **Sets:**\n",
      "    *   `model.I = pyo.Set(initialize=items)` defines a set 'I' representing the items.\n",
      "    *   `model.J = pyo.RangeSet(1, max_boxes)` defines a set 'J' representing the boxes.\n",
      "\n",
      "5.  **Parameters:**\n",
      "    *   `model.w = pyo.Param(model.I, initialize=weights)` defines a parameter 'w' storing the weight of each item.\n",
      "    *   `model.C = box_capacity` sets the box capacity as a parameter.\n",
      "    *   `model.N = max_boxes` sets the maximum number of boxes as a parameter.\n",
      "\n",
      "6.  **Variables:**\n",
      "    *   `model.x = pyo.Var(model.I, model.J, domain=pyo.Binary)` defines binary variable 'x' indicating if item 'i' is assigned to box 'j'.\n",
      "    *   `model.y = pyo.Var(model.J, domain=pyo.Binary)` defines binary variable 'y' indicating if box 'j' is used.\n",
      "\n",
      "7.  **Objective Function:** `model.obj = pyo.Objective(expr=sum(model.y[j] for j in model.J), sense=pyo.minimize)` defines the objective to minimize, which is the total number of boxes used.\n",
      "\n",
      "8.  **Constraints:**\n",
      "    *   `model.constraint1` ensures that each item is assigned to exactly one box.\n",
      "    *   `model.constraint2` enforces the weight capacity constraint for each box.\n",
      "    *   `model.constraint3` limits the total number of boxes used to the maximum allowed.\n",
      "\n",
      "9.  **Solver:**\n",
      "    *   `solver = pyo.SolverFactory('glpk')` creates a solver instance using the 'glpk' solver (you might need to install it).\n",
      "    *   `results = solver.solve(model)` solves the model using the selected solver.\n",
      "\n",
      "10. **Results:**\n",
      "    *   The code prints the solver status and termination condition.\n",
      "    *   It prints the optimal number of boxes used.\n",
      "    *   It then iterates through the boxes and prints the items assigned to each used box.\n",
      "\n",
      "**Remember:** Replace the sample data with your actual data to solve your specific problem instance.\n",
      "\n"
     ]
    }
   ],
   "source": [
    "print(response4.text)"
   ]
  },
  {
   "cell_type": "code",
   "execution_count": null,
   "id": "409ff1dc",
   "metadata": {},
   "outputs": [],
   "source": []
  }
 ],
 "metadata": {
  "kernelspec": {
   "display_name": "Python 3 (ipykernel)",
   "language": "python",
   "name": "python3"
  },
  "language_info": {
   "codemirror_mode": {
    "name": "ipython",
    "version": 3
   },
   "file_extension": ".py",
   "mimetype": "text/x-python",
   "name": "python",
   "nbconvert_exporter": "python",
   "pygments_lexer": "ipython3",
   "version": "3.11.4"
  }
 },
 "nbformat": 4,
 "nbformat_minor": 5
}
