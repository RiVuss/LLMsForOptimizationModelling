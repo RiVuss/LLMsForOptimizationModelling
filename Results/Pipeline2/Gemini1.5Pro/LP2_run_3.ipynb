{
 "cells": [
  {
   "cell_type": "markdown",
   "id": "f0005e9e",
   "metadata": {},
   "source": [
    "# LLM Optimization Modelling Experiment"
   ]
  },
  {
   "cell_type": "code",
   "execution_count": 1,
   "id": "7f664028",
   "metadata": {},
   "outputs": [],
   "source": [
    "import vertexai\n",
    "from vertexai.preview.generative_models import GenerativeModel, Image\n",
    "from IPython.display import Markdown"
   ]
  },
  {
   "cell_type": "markdown",
   "id": "f527d6af",
   "metadata": {},
   "source": [
    "## 1. Define the problem description"
   ]
  },
  {
   "cell_type": "code",
   "execution_count": 396,
   "id": "25055ffd",
   "metadata": {},
   "outputs": [],
   "source": [
    "problem = '''You are in charge of the supply purchasing of a company that produces two kinds of drugs. \n",
    "The drugs contain a specific active agent, which is extracted from two different kinds of raw materials that should be purchased on the market. \n",
    "\n",
    "The goal is to maximize the total profit obtained from producing the drugs, which means minimizing purchasing costs for buying the raw materials and minimizing operational costs for producing the drugs while maximizing sales. \n",
    "\n",
    "You are given a budget for purchasing raw materials and operating the production process of the drugs which cannot be exceeded. \n",
    "Additionally, you need to keep the capacity constraints for the production of the drugs in mind as there is only a limited amount of manpower as well as equipment hours available. \n",
    "Your company can also only store a limited amount of raw materials. \n",
    "Most importantly, the amount of active ingredient extracted from the raw materials you purchase needs to satisfy the required amount of active ingredient in the drugs your company produces. \n",
    "Importantly, your experience with the production of the drugs has shown the the amount of active ingredient your process extracts from the two raw materials can vary by up to 0.5% and 2%, respectively. \n",
    "During purchasing, you need to make sure that no matter how much the amount of active ingredient varies, the required amount for the drug production is always met. '''"
   ]
  },
  {
   "cell_type": "markdown",
   "id": "472cf9ad",
   "metadata": {},
   "source": [
    "## 2. Ask for parameters"
   ]
  },
  {
   "cell_type": "code",
   "execution_count": 419,
   "id": "e31ec80c",
   "metadata": {},
   "outputs": [],
   "source": [
    "#Initializing the session. To replicate, make sure the right credentials are saved in a PATH variable\n",
    "PROJECT_ID = \"llm4optproblems\"\n",
    "REGION = \"us-central1\"\n",
    "vertexai.init(project=PROJECT_ID, location=REGION)\n",
    "\n",
    "#Specifying the model\n",
    "generative_multimodal_model = GenerativeModel(\"gemini-1.5-pro-preview-0409\")\n",
    "\n",
    "#The propmt applied to all problems\n",
    "prompt = '''Please formulate only the variables for this mathematical optimization problem. \n",
    "'''\n",
    "\n",
    "#Generate the response\n",
    "response = generative_multimodal_model.generate_content([prompt+problem])\n"
   ]
  },
  {
   "cell_type": "code",
   "execution_count": 420,
   "id": "f9adc567",
   "metadata": {},
   "outputs": [
    {
     "data": {
      "text/markdown": [
       "## Indices:\n",
       "\n",
       "*  $i = 1, 2$: Index for the two different raw materials \n",
       "*  $j = 1, 2$: Index for the two different drugs\n",
       "\n",
       "## Parameters:\n",
       "\n",
       "*  $P_j$:  Profit per unit of drug $j$ sold\n",
       "*  $C_i$:  Purchasing cost per unit of raw material $i$ \n",
       "*  $OC_j$: Operational cost per unit of drug $j$ produced\n",
       "*  $B$: Total available budget for purchasing raw materials and producing the drugs\n",
       "*  $Cap_j$: Maximum production capacity for drug $j$ \n",
       "*  $S_i$: Maximum storage capacity for raw material $i$\n",
       "*  $RA_j$: Required amount of active ingredient in drug  $j$\n",
       "*  $EA_{ij}$: Nominal amount of active ingredient extracted from one unit of raw material $i$ for drug $j$ \n",
       "*  $\\alpha_1$: Maximum deviation from $EA_{1j}$ (0.5%)\n",
       "*  $\\alpha_2$: Maximum deviation from $EA_{2j}$ (2%) \n",
       "\n",
       "## Decision Variables:\n",
       "\n",
       "*  $x_i$: Amount of raw material $i$ purchased\n",
       "*  $y_j$: Amount of drug $j$ produced \n"
      ],
      "text/plain": [
       "<IPython.core.display.Markdown object>"
      ]
     },
     "execution_count": 420,
     "metadata": {},
     "output_type": "execute_result"
    }
   ],
   "source": [
    "#Show the resopnse in a formatted way\n",
    "Markdown(response.text)"
   ]
  },
  {
   "cell_type": "markdown",
   "id": "15d9e89f",
   "metadata": {},
   "source": [
    "# 2. Ask for objective"
   ]
  },
  {
   "cell_type": "code",
   "execution_count": 421,
   "id": "4f357a19",
   "metadata": {},
   "outputs": [],
   "source": [
    "#Second prompt gets the output of the previous step and generates the code\n",
    "prompt2 = \"Please formulate only the objective function for this mathematical optimization problem.\"\n",
    "prompt2 += problem + response.text\n",
    "response2 = generative_multimodal_model.generate_content([prompt2])"
   ]
  },
  {
   "cell_type": "code",
   "execution_count": 422,
   "id": "bccd1014",
   "metadata": {},
   "outputs": [
    {
     "data": {
      "text/markdown": [
       "$$\\text{Maximize } \\sum_{j=1}^{2} P_j y_j - \\sum_{i=1}^{2} C_i x_i - \\sum_{j=1}^{2} OC_j y_j $$ \n"
      ],
      "text/plain": [
       "<IPython.core.display.Markdown object>"
      ]
     },
     "execution_count": 422,
     "metadata": {},
     "output_type": "execute_result"
    }
   ],
   "source": [
    "Markdown(response2.text)"
   ]
  },
  {
   "cell_type": "markdown",
   "id": "d8ab1404",
   "metadata": {},
   "source": [
    "# 3. Ask for constraints"
   ]
  },
  {
   "cell_type": "code",
   "execution_count": 423,
   "id": "e6409951",
   "metadata": {},
   "outputs": [],
   "source": [
    "#Second prompt gets the output of the previous step and generates the code\n",
    "prompt3 = \"Please formulate only the constraints for this mathematical optimization problem.\"\n",
    "prompt3 += problem + response.text + response2.text\n",
    "response3 = generative_multimodal_model.generate_content([prompt3])"
   ]
  },
  {
   "cell_type": "code",
   "execution_count": 424,
   "id": "2f9439c2",
   "metadata": {},
   "outputs": [
    {
     "data": {
      "text/markdown": [
       "$$\\begin{aligned}\n",
       "& \\text{subject to} \\\\\n",
       "&\\sum_{i=1}^{2} C_ix_i + \\sum_{j=1}^{2}OC_jy_j \\leq B \\\\\n",
       "& y_j \\leq Cap_j  &\\forall j = 1,2 \\\\\n",
       "& x_i \\leq  S_i &\\forall i = 1,2\\\\\n",
       "&\\sum_{i=1}^{2} (EA_{ij} - \\alpha_i EA_{ij})x_i \\geq RA_j  &\\forall j = 1,2\\\\\n",
       "& x_i, y_j \\geq 0  &\\forall i = 1,2; \\forall j = 1,2 \n",
       "\\end{aligned}$$ \n"
      ],
      "text/plain": [
       "<IPython.core.display.Markdown object>"
      ]
     },
     "execution_count": 424,
     "metadata": {},
     "output_type": "execute_result"
    }
   ],
   "source": [
    "Markdown(response3.text)"
   ]
  },
  {
   "cell_type": "markdown",
   "id": "75796979",
   "metadata": {},
   "source": [
    "## 3. Generate the pyomo code"
   ]
  },
  {
   "cell_type": "code",
   "execution_count": 425,
   "id": "aabea932",
   "metadata": {},
   "outputs": [],
   "source": [
    "#Second prompt gets the output of the previous step and generates the code\n",
    "prompt4 = \"Please write pyomo code for this mathematical problem. Use sample data where needed. Indicate where you use sample data. \\n\"\n",
    "prompt4 += response.text + response2.text + response3.text \n",
    "response4 = generative_multimodal_model.generate_content([prompt4])"
   ]
  },
  {
   "cell_type": "code",
   "execution_count": 426,
   "id": "c8896e98",
   "metadata": {},
   "outputs": [
    {
     "data": {
      "text/markdown": [
       "```python\n",
       "import pyomo.environ as pyo\n",
       "\n",
       "# Sample data \n",
       "P = {1: 100, 2: 150}  \n",
       "C = {1: 20, 2: 30}  \n",
       "OC = {1: 10, 2: 15}  \n",
       "B = 10000 \n",
       "Cap = {1: 500, 2: 400}  \n",
       "S = {1: 800, 2: 600} \n",
       "RA = {1: 100, 2: 120}  \n",
       "EA = {(1, 1): 0.12, (1, 2): 0.15, (2, 1): 0.10, (2, 2): 0.13}  \n",
       "alpha = {1: 0.005, 2: 0.02}  \n",
       "\n",
       "# Model creation\n",
       "model = pyo.ConcreteModel()\n",
       "\n",
       "# Set definition\n",
       "model.i = pyo.Set(initialize=[1, 2]) # Raw materials\n",
       "model.j = pyo.Set(initialize=[1, 2]) # Drugs \n",
       "\n",
       "# Variable definition\n",
       "model.x = pyo.Var(model.i, domain=pyo.NonNegativeReals) # Amount of raw material purchased\n",
       "model.y = pyo.Var(model.j, domain=pyo.NonNegativeReals) # Amount of drug produced\n",
       "\n",
       "# Objective function\n",
       "model.profit = pyo.Objective(\n",
       "    expr=sum(P[j] * model.y[j] for j in model.j) - sum(C[i] * model.x[i] for i in model.i) - sum(OC[j] * model.y[j] for j in model.j),\n",
       "    sense=pyo.maximize\n",
       ")\n",
       "\n",
       "# Constraints\n",
       "model.budget = pyo.Constraint(expr=sum(C[i] * model.x[i] for i in model.i) + sum(OC[j] * model.y[j] for j in model.j) <= B)\n",
       "\n",
       "model.capacity = pyo.ConstraintList()\n",
       "for j in model.j:\n",
       "    model.capacity.add(model.y[j] <= Cap[j])\n",
       "\n",
       "model.storage = pyo.ConstraintList()\n",
       "for i in model.i:\n",
       "    model.storage.add(model.x[i] <= S[i])\n",
       "\n",
       "model.ingredient = pyo.ConstraintList()\n",
       "for j in model.j:\n",
       "    model.ingredient.add(sum((EA[i, j] - alpha[i] * EA[i, j]) * model.x[i] for i in model.i) >= RA[j])\n",
       "\n",
       "# Solve the model\n",
       "solver = pyo.SolverFactory('glpk')  \n",
       "results = solver.solve(model)\n",
       "\n",
       "# Print the results\n",
       "print(results)\n",
       "print(\"Profit =\", pyo.value(model.profit))\n",
       "print(\"x =\", {i: pyo.value(model.x[i]) for i in model.i})\n",
       "print(\"y =\", {j: pyo.value(model.y[j]) for j in model.j})\n",
       "``` \n"
      ],
      "text/plain": [
       "<IPython.core.display.Markdown object>"
      ]
     },
     "execution_count": 426,
     "metadata": {},
     "output_type": "execute_result"
    }
   ],
   "source": [
    "## Showing the code in a formatted way\n",
    "Markdown(response4.text)"
   ]
  },
  {
   "cell_type": "markdown",
   "id": "b60756ae",
   "metadata": {},
   "source": [
    "## 4. Input problem data and try running the generated code"
   ]
  },
  {
   "cell_type": "code",
   "execution_count": 429,
   "id": "41ed7d93",
   "metadata": {},
   "outputs": [
    {
     "name": "stdout",
     "output_type": "stream",
     "text": [
      "\n",
      "Problem: \n",
      "- Name: unknown\n",
      "  Lower bound: -inf\n",
      "  Upper bound: inf\n",
      "  Number of objectives: 1\n",
      "  Number of constraints: 7\n",
      "  Number of variables: 4\n",
      "  Number of nonzeros: 12\n",
      "  Sense: maximize\n",
      "Solver: \n",
      "- Status: ok\n",
      "  Termination condition: other\n",
      "  Statistics: \n",
      "    Branch and bound: \n",
      "      Number of bounded subproblems: 0\n",
      "      Number of created subproblems: 0\n",
      "  Error rc: 0\n",
      "  Time: 0.0404965877532959\n",
      "\n"
     ]
    }
   ],
   "source": [
    "import pyomo.environ as pyo\n",
    "\n",
    "# Sample data \n",
    "P = {1: 100, 2: 150}  \n",
    "C = {1: 20, 2: 30}  \n",
    "OC = {1: 10, 2: 15}  \n",
    "B = 10000 \n",
    "Cap = {1: 500, 2: 400}  \n",
    "S = {1: 800, 2: 600} \n",
    "RA = {1: 100, 2: 120}  \n",
    "EA = {(1, 1): 0.12, (1, 2): 0.15, (2, 1): 0.10, (2, 2): 0.13}  \n",
    "alpha = {1: 0.005, 2: 0.02}  \n",
    "\n",
    "# Model creation\n",
    "model = pyo.ConcreteModel()\n",
    "\n",
    "# Set definition\n",
    "model.i = pyo.Set(initialize=[1, 2]) # Raw materials\n",
    "model.j = pyo.Set(initialize=[1, 2]) # Drugs \n",
    "\n",
    "# Variable definition\n",
    "model.x = pyo.Var(model.i, domain=pyo.NonNegativeReals) # Amount of raw material purchased\n",
    "model.y = pyo.Var(model.j, domain=pyo.NonNegativeReals) # Amount of drug produced\n",
    "\n",
    "# Objective function\n",
    "model.profit = pyo.Objective(\n",
    "    expr=sum(P[j] * model.y[j] for j in model.j) - sum(C[i] * model.x[i] for i in model.i) - sum(OC[j] * model.y[j] for j in model.j),\n",
    "    sense=pyo.maximize\n",
    ")\n",
    "\n",
    "# Constraints\n",
    "model.budget = pyo.Constraint(expr=sum(C[i] * model.x[i] for i in model.i) + sum(OC[j] * model.y[j] for j in model.j) <= B)\n",
    "\n",
    "model.capacity = pyo.ConstraintList()\n",
    "for j in model.j:\n",
    "    model.capacity.add(model.y[j] <= Cap[j])\n",
    "\n",
    "model.storage = pyo.ConstraintList()\n",
    "for i in model.i:\n",
    "    model.storage.add(model.x[i] <= S[i])\n",
    "\n",
    "model.ingredient = pyo.ConstraintList()\n",
    "for j in model.j:\n",
    "    model.ingredient.add(sum((EA[i, j] - alpha[i] * EA[i, j]) * model.x[i] for i in model.i) >= RA[j])\n",
    "\n",
    "# Solve the model\n",
    "solver = pyo.SolverFactory('glpk')  \n",
    "results = solver.solve(model)\n",
    "\n",
    "# Print the results\n",
    "print(results)\n",
    "#print(\"Profit =\", model.profit())\n",
    "# print(\"x =\", {i: pyo.value(model.x[i]) for i in model.i})\n",
    "# print(\"y =\", {j: pyo.value(model.y[j]) for j in model.j})"
   ]
  },
  {
   "cell_type": "markdown",
   "id": "1be0926e",
   "metadata": {},
   "source": [
    "## 5. Correct the code to verify model viability (optional)"
   ]
  },
  {
   "cell_type": "code",
   "execution_count": null,
   "id": "8b37acfc",
   "metadata": {},
   "outputs": [],
   "source": []
  },
  {
   "cell_type": "markdown",
   "id": "693d6272",
   "metadata": {},
   "source": [
    "## 6. Print the responses"
   ]
  },
  {
   "cell_type": "code",
   "execution_count": 430,
   "id": "74f6942b",
   "metadata": {},
   "outputs": [
    {
     "name": "stdout",
     "output_type": "stream",
     "text": [
      "## Indices:\n",
      "\n",
      "*  $i = 1, 2$: Index for the two different raw materials \n",
      "*  $j = 1, 2$: Index for the two different drugs\n",
      "\n",
      "## Parameters:\n",
      "\n",
      "*  $P_j$:  Profit per unit of drug $j$ sold\n",
      "*  $C_i$:  Purchasing cost per unit of raw material $i$ \n",
      "*  $OC_j$: Operational cost per unit of drug $j$ produced\n",
      "*  $B$: Total available budget for purchasing raw materials and producing the drugs\n",
      "*  $Cap_j$: Maximum production capacity for drug $j$ \n",
      "*  $S_i$: Maximum storage capacity for raw material $i$\n",
      "*  $RA_j$: Required amount of active ingredient in drug  $j$\n",
      "*  $EA_{ij}$: Nominal amount of active ingredient extracted from one unit of raw material $i$ for drug $j$ \n",
      "*  $\\alpha_1$: Maximum deviation from $EA_{1j}$ (0.5%)\n",
      "*  $\\alpha_2$: Maximum deviation from $EA_{2j}$ (2%) \n",
      "\n",
      "## Decision Variables:\n",
      "\n",
      "*  $x_i$: Amount of raw material $i$ purchased\n",
      "*  $y_j$: Amount of drug $j$ produced \n",
      "\n"
     ]
    }
   ],
   "source": [
    "print(response.text)"
   ]
  },
  {
   "cell_type": "code",
   "execution_count": 431,
   "id": "7f9b4d42",
   "metadata": {},
   "outputs": [
    {
     "name": "stdout",
     "output_type": "stream",
     "text": [
      "$$\\text{Maximize } \\sum_{j=1}^{2} P_j y_j - \\sum_{i=1}^{2} C_i x_i - \\sum_{j=1}^{2} OC_j y_j $$ \n",
      "\n"
     ]
    }
   ],
   "source": [
    "print(response2.text)"
   ]
  },
  {
   "cell_type": "code",
   "execution_count": 432,
   "id": "989f7f5c",
   "metadata": {},
   "outputs": [
    {
     "name": "stdout",
     "output_type": "stream",
     "text": [
      "$$\\begin{aligned}\n",
      "& \\text{subject to} \\\\\n",
      "&\\sum_{i=1}^{2} C_ix_i + \\sum_{j=1}^{2}OC_jy_j \\leq B \\\\\n",
      "& y_j \\leq Cap_j  &\\forall j = 1,2 \\\\\n",
      "& x_i \\leq  S_i &\\forall i = 1,2\\\\\n",
      "&\\sum_{i=1}^{2} (EA_{ij} - \\alpha_i EA_{ij})x_i \\geq RA_j  &\\forall j = 1,2\\\\\n",
      "& x_i, y_j \\geq 0  &\\forall i = 1,2; \\forall j = 1,2 \n",
      "\\end{aligned}$$ \n",
      "\n"
     ]
    }
   ],
   "source": [
    "print(response3.text)"
   ]
  },
  {
   "cell_type": "code",
   "execution_count": 433,
   "id": "823c8190",
   "metadata": {},
   "outputs": [
    {
     "name": "stdout",
     "output_type": "stream",
     "text": [
      "```python\n",
      "import pyomo.environ as pyo\n",
      "\n",
      "# Sample data \n",
      "P = {1: 100, 2: 150}  \n",
      "C = {1: 20, 2: 30}  \n",
      "OC = {1: 10, 2: 15}  \n",
      "B = 10000 \n",
      "Cap = {1: 500, 2: 400}  \n",
      "S = {1: 800, 2: 600} \n",
      "RA = {1: 100, 2: 120}  \n",
      "EA = {(1, 1): 0.12, (1, 2): 0.15, (2, 1): 0.10, (2, 2): 0.13}  \n",
      "alpha = {1: 0.005, 2: 0.02}  \n",
      "\n",
      "# Model creation\n",
      "model = pyo.ConcreteModel()\n",
      "\n",
      "# Set definition\n",
      "model.i = pyo.Set(initialize=[1, 2]) # Raw materials\n",
      "model.j = pyo.Set(initialize=[1, 2]) # Drugs \n",
      "\n",
      "# Variable definition\n",
      "model.x = pyo.Var(model.i, domain=pyo.NonNegativeReals) # Amount of raw material purchased\n",
      "model.y = pyo.Var(model.j, domain=pyo.NonNegativeReals) # Amount of drug produced\n",
      "\n",
      "# Objective function\n",
      "model.profit = pyo.Objective(\n",
      "    expr=sum(P[j] * model.y[j] for j in model.j) - sum(C[i] * model.x[i] for i in model.i) - sum(OC[j] * model.y[j] for j in model.j),\n",
      "    sense=pyo.maximize\n",
      ")\n",
      "\n",
      "# Constraints\n",
      "model.budget = pyo.Constraint(expr=sum(C[i] * model.x[i] for i in model.i) + sum(OC[j] * model.y[j] for j in model.j) <= B)\n",
      "\n",
      "model.capacity = pyo.ConstraintList()\n",
      "for j in model.j:\n",
      "    model.capacity.add(model.y[j] <= Cap[j])\n",
      "\n",
      "model.storage = pyo.ConstraintList()\n",
      "for i in model.i:\n",
      "    model.storage.add(model.x[i] <= S[i])\n",
      "\n",
      "model.ingredient = pyo.ConstraintList()\n",
      "for j in model.j:\n",
      "    model.ingredient.add(sum((EA[i, j] - alpha[i] * EA[i, j]) * model.x[i] for i in model.i) >= RA[j])\n",
      "\n",
      "# Solve the model\n",
      "solver = pyo.SolverFactory('glpk')  \n",
      "results = solver.solve(model)\n",
      "\n",
      "# Print the results\n",
      "print(results)\n",
      "print(\"Profit =\", pyo.value(model.profit))\n",
      "print(\"x =\", {i: pyo.value(model.x[i]) for i in model.i})\n",
      "print(\"y =\", {j: pyo.value(model.y[j]) for j in model.j})\n",
      "``` \n",
      "\n"
     ]
    }
   ],
   "source": [
    "print(response4.text)"
   ]
  },
  {
   "cell_type": "code",
   "execution_count": null,
   "id": "d0f5d256",
   "metadata": {},
   "outputs": [],
   "source": []
  }
 ],
 "metadata": {
  "kernelspec": {
   "display_name": "Python 3 (ipykernel)",
   "language": "python",
   "name": "python3"
  },
  "language_info": {
   "codemirror_mode": {
    "name": "ipython",
    "version": 3
   },
   "file_extension": ".py",
   "mimetype": "text/x-python",
   "name": "python",
   "nbconvert_exporter": "python",
   "pygments_lexer": "ipython3",
   "version": "3.11.4"
  }
 },
 "nbformat": 4,
 "nbformat_minor": 5
}
