{
 "cells": [
  {
   "cell_type": "markdown",
   "id": "f0005e9e",
   "metadata": {},
   "source": [
    "# LLM Optimization Modelling Experiment"
   ]
  },
  {
   "cell_type": "code",
   "execution_count": 1,
   "id": "7f664028",
   "metadata": {},
   "outputs": [],
   "source": [
    "import vertexai\n",
    "from vertexai.preview.generative_models import GenerativeModel, Image\n",
    "from IPython.display import Markdown"
   ]
  },
  {
   "cell_type": "markdown",
   "id": "f527d6af",
   "metadata": {},
   "source": [
    "## 1. Define the problem description"
   ]
  },
  {
   "cell_type": "code",
   "execution_count": 109,
   "id": "25055ffd",
   "metadata": {},
   "outputs": [],
   "source": [
    "problem = '''A firm from Milan sells chemical products for professional cosmetics. It is planning the production of three products, GCA, GCB and GCC, for a given period of\n",
    "time by mixing two different components: C1 and C2. All the end products must\n",
    "contain at least one of the two components, and not necessarily both.\n",
    "\n",
    "For the next planning period, 10,000 l of C1 and 15,000 l of C2 are available.\n",
    "The production of GCA, GCB and GCC must be scheduled to at least cover the\n",
    "minimum demand level of 6,000, 7,000 and 9,000 l, respectively. It is assumed\n",
    "that when chemical components are mixed, there is no loss or gain in volume.\n",
    "\n",
    "Each chemical component, C1 and C2, has a proportional critical element, 0.4\n",
    "and 0.2, respectively. That is to say, each litre of C1 contains 0.4 l of the critical\n",
    "element. To obtain GCA, the mixture must proportionally contain at least a 0.3\n",
    "fraction of the critical element. Another requirement is that the quantity of the\n",
    "critical element is seen in GCB, an 0.3 fraction at the most.\n",
    "Furthermore, the minimum ratio of C1 with C2 in product GCC must be 0.3.\n",
    "\n",
    "The profit expected for the sale of each litre of GCA, GCB and GCC is $120, $135\n",
    "and $155, respectively.\n",
    "\n",
    "Optimise the production planning of this firm. '''"
   ]
  },
  {
   "cell_type": "markdown",
   "id": "472cf9ad",
   "metadata": {},
   "source": [
    "## 2. Ask for parameters"
   ]
  },
  {
   "cell_type": "code",
   "execution_count": 136,
   "id": "e31ec80c",
   "metadata": {},
   "outputs": [],
   "source": [
    "#Initializing the session. To replicate, make sure the right credentials are saved in a PATH variable\n",
    "PROJECT_ID = \"llm4optproblems\"\n",
    "REGION = \"us-central1\"\n",
    "vertexai.init(project=PROJECT_ID, location=REGION)\n",
    "\n",
    "#Specifying the model\n",
    "generative_multimodal_model = GenerativeModel(\"gemini-1.5-pro-preview-0409\")\n",
    "\n",
    "#The propmt applied to all problems\n",
    "prompt = '''Please formulate only the variables for this mathematical optimization problem. \n",
    "'''\n",
    "\n",
    "#Generate the response\n",
    "response = generative_multimodal_model.generate_content([prompt+problem])\n"
   ]
  },
  {
   "cell_type": "code",
   "execution_count": 137,
   "id": "f9adc567",
   "metadata": {},
   "outputs": [
    {
     "data": {
      "text/markdown": [
       "## Variables:\n",
       "\n",
       "* **xij:** Liters of component *i* used in the production of product *j*, where *i* = {C1, C2} and *j* = {GCA, GCB, GCC}. \n",
       "\n",
       "This gives us the following six variables:\n",
       "\n",
       "* **xC1_GCA:** Liters of C1 used in GCA\n",
       "* **xC2_GCA:** Liters of C2 used in GCA\n",
       "* **xC1_GCB:** Liters of C1 used in GCB\n",
       "* **xC2_GCB:** Liters of C2 used in GCB\n",
       "* **xC1_GCC:** Liters of C1 used in GCC\n",
       "* **xC2_GCC:** Liters of C2 used in GCC \n"
      ],
      "text/plain": [
       "<IPython.core.display.Markdown object>"
      ]
     },
     "execution_count": 137,
     "metadata": {},
     "output_type": "execute_result"
    }
   ],
   "source": [
    "#Show the resopnse in a formatted way\n",
    "Markdown(response.text)"
   ]
  },
  {
   "cell_type": "markdown",
   "id": "15d9e89f",
   "metadata": {},
   "source": [
    "# 2. Ask for objective"
   ]
  },
  {
   "cell_type": "code",
   "execution_count": 138,
   "id": "4f357a19",
   "metadata": {},
   "outputs": [],
   "source": [
    "#Second prompt gets the output of the previous step and generates the code\n",
    "prompt2 = \"Please formulate only the objective function for this mathematical optimization problem.\"\n",
    "prompt2 += problem + response.text\n",
    "response2 = generative_multimodal_model.generate_content([prompt2])"
   ]
  },
  {
   "cell_type": "code",
   "execution_count": 139,
   "id": "bccd1014",
   "metadata": {},
   "outputs": [
    {
     "data": {
      "text/markdown": [
       "```\n",
       "Maximize: 120(xC1_GCA + xC2_GCA) + 135(xC1_GCB + xC2_GCB) + 155(xC1_GCC + xC2_GCC) \n",
       "``` \n"
      ],
      "text/plain": [
       "<IPython.core.display.Markdown object>"
      ]
     },
     "execution_count": 139,
     "metadata": {},
     "output_type": "execute_result"
    }
   ],
   "source": [
    "Markdown(response2.text)"
   ]
  },
  {
   "cell_type": "markdown",
   "id": "d8ab1404",
   "metadata": {},
   "source": [
    "# 3. Ask for constraints"
   ]
  },
  {
   "cell_type": "code",
   "execution_count": 140,
   "id": "e6409951",
   "metadata": {},
   "outputs": [],
   "source": [
    "#Second prompt gets the output of the previous step and generates the code\n",
    "prompt3 = \"Please formulate only the constraints for this mathematical optimization problem.\"\n",
    "prompt3 += problem + response.text + response2.text\n",
    "response3 = generative_multimodal_model.generate_content([prompt3])"
   ]
  },
  {
   "cell_type": "code",
   "execution_count": 141,
   "id": "2f9439c2",
   "metadata": {},
   "outputs": [
    {
     "data": {
      "text/markdown": [
       "## Constraints:\n",
       "\n",
       "**Resource Constraints:**\n",
       "\n",
       "* **Component Availability:**\n",
       "    * xC1_GCA + xC1_GCB + xC1_GCC ≤ 10000 (C1 availability)\n",
       "    * xC2_GCA + xC2_GCB + xC2_GCC ≤ 15000 (C2 availability) \n",
       "\n",
       "* **Demand Constraints:**\n",
       "    * xC1_GCA + xC2_GCA ≥ 6000 (Minimum demand for GCA)\n",
       "    * xC1_GCB + xC2_GCB ≥ 7000 (Minimum demand for GCB)\n",
       "    * xC1_GCC + xC2_GCC ≥ 9000 (Minimum demand for GCC)\n",
       "\n",
       "**Critical Element Constraints:**\n",
       "\n",
       "* **GCA (at least 0.3 fraction of critical element):**\n",
       "    * (0.4 * xC1_GCA + 0.2 * xC2_GCA) / (xC1_GCA + xC2_GCA)  ≥ 0.3 \n",
       "\n",
       "* **GCB (at most 0.3 fraction of critical element):** \n",
       "    * (0.4 * xC1_GCB + 0.2 * xC2_GCB) / (xC1_GCB + xC2_GCB) ≤ 0.3\n",
       "\n",
       "* **GCC (minimum ratio of C1 to C2 of 0.3):**\n",
       "    * xC1_GCC  ≥ 0.3 * xC2_GCC \n",
       "\n",
       "**Non-negativity Constraints:**\n",
       "\n",
       "* xC1_GCA ≥ 0 \n",
       "* xC2_GCA ≥ 0\n",
       "* xC1_GCB ≥ 0\n",
       "* xC2_GCB ≥ 0\n",
       "* xC1_GCC ≥ 0\n",
       "* xC2_GCC ≥ 0 \n"
      ],
      "text/plain": [
       "<IPython.core.display.Markdown object>"
      ]
     },
     "execution_count": 141,
     "metadata": {},
     "output_type": "execute_result"
    }
   ],
   "source": [
    "Markdown(response3.text)"
   ]
  },
  {
   "cell_type": "code",
   "execution_count": null,
   "id": "07ba7f01",
   "metadata": {},
   "outputs": [],
   "source": []
  },
  {
   "cell_type": "markdown",
   "id": "75796979",
   "metadata": {},
   "source": [
    "## 3. Generate the pyomo code"
   ]
  },
  {
   "cell_type": "code",
   "execution_count": 142,
   "id": "aabea932",
   "metadata": {},
   "outputs": [],
   "source": [
    "#Second prompt gets the output of the previous step and generates the code\n",
    "prompt4 = \"Please write pyomo code for this mathematical problem. Use sample data where needed. Indicate where you use sample data. \\n\"\n",
    "prompt4 += response.text + response2.text + response3.text \n",
    "response4 = generative_multimodal_model.generate_content([prompt4])"
   ]
  },
  {
   "cell_type": "code",
   "execution_count": 143,
   "id": "fd2835af",
   "metadata": {},
   "outputs": [
    {
     "data": {
      "text/markdown": [
       "```python\n",
       "import pyomo.environ as pyo\n",
       "\n",
       "# Create a concrete model\n",
       "model = pyo.ConcreteModel()\n",
       "\n",
       "# Define sets (optional but improves readability)\n",
       "components = ['C1', 'C2']\n",
       "products = ['GCA', 'GCB', 'GCC']\n",
       "\n",
       "# Define variables\n",
       "model.x = pyo.Var(components, products, domain=pyo.NonNegativeReals)\n",
       "\n",
       "# Objective function\n",
       "def objective_rule(model):\n",
       "    return sum(120*(model.x['C1', 'GCA'] + model.x['C2', 'GCA']) +\n",
       "               135*(model.x['C1', 'GCB'] + model.x['C2', 'GCB']) + \n",
       "               155*(model.x['C1', 'GCC'] + model.x['C2', 'GCC']) \n",
       "               for i in components for j in products) \n",
       "model.profit = pyo.Objective(rule=objective_rule, sense=pyo.maximize)\n",
       "\n",
       "# Constraints\n",
       "model.constraints = pyo.ConstraintList()\n",
       "\n",
       "# Resource Constraints\n",
       "model.constraints.add(sum(model.x['C1', j] for j in products) <= 10000) # C1 availability\n",
       "model.constraints.add(sum(model.x['C2', j] for j in products) <= 15000) # C2 availability\n",
       "\n",
       "# Demand Constraints\n",
       "model.constraints.add(model.x['C1', 'GCA'] + model.x['C2', 'GCA'] >= 6000) \n",
       "model.constraints.add(model.x['C1', 'GCB'] + model.x['C2', 'GCB'] >= 7000)\n",
       "model.constraints.add(model.x['C1', 'GCC'] + model.x['C2', 'GCC'] >= 9000) \n",
       "\n",
       "# Critical Element Constraints\n",
       "model.constraints.add((0.4 * model.x['C1', 'GCA'] + 0.2 * model.x['C2', 'GCA']) >= \n",
       "                      0.3 * (model.x['C1', 'GCA'] + model.x['C2', 'GCA']))\n",
       "model.constraints.add((0.4 * model.x['C1', 'GCB'] + 0.2 * model.x['C2', 'GCB']) <= \n",
       "                      0.3 * (model.x['C1', 'GCB'] + model.x['C2', 'GCB']))\n",
       "model.constraints.add(model.x['C1', 'GCC'] >= 0.3 * model.x['C2', 'GCC'])\n",
       "\n",
       "# Solve the model\n",
       "solver = pyo.SolverFactory('glpk')  # Choose a solver (e.g., 'glpk', 'gurobi')\n",
       "solver.solve(model)\n",
       "\n",
       "# Print the results\n",
       "print(\"Optimal Solution:\")\n",
       "for i in components:\n",
       "    for j in products:\n",
       "        print(f\"x[{i}, {j}] = {pyo.value(model.x[i, j])}\")\n",
       "\n",
       "print(f\"Total Profit = {pyo.value(model.profit)}\") \n",
       "``` \n"
      ],
      "text/plain": [
       "<IPython.core.display.Markdown object>"
      ]
     },
     "execution_count": 143,
     "metadata": {},
     "output_type": "execute_result"
    }
   ],
   "source": [
    "#Showing the code in a formatted way\n",
    "Markdown(response4.text)"
   ]
  },
  {
   "cell_type": "markdown",
   "id": "b60756ae",
   "metadata": {},
   "source": [
    "## 4. Input problem data and try running the generated code"
   ]
  },
  {
   "cell_type": "code",
   "execution_count": 146,
   "id": "41ed7d93",
   "metadata": {},
   "outputs": [
    {
     "name": "stdout",
     "output_type": "stream",
     "text": [
      "Optimal Solution:\n",
      "x[C1, GCA] = 3730.76923076923\n",
      "x[C1, GCB] = 3500.0\n",
      "x[C1, GCC] = 2769.23076923077\n",
      "x[C2, GCA] = 2269.23076923077\n",
      "x[C2, GCB] = 3500.0\n",
      "x[C2, GCC] = 9230.76923076923\n",
      "Total Profit = 21150000.0\n"
     ]
    }
   ],
   "source": [
    "import pyomo.environ as pyo\n",
    "\n",
    "# Create a concrete model\n",
    "model = pyo.ConcreteModel()\n",
    "\n",
    "# Define sets (optional but improves readability)\n",
    "components = ['C1', 'C2']\n",
    "products = ['GCA', 'GCB', 'GCC']\n",
    "\n",
    "# Define variables\n",
    "model.x = pyo.Var(components, products, domain=pyo.NonNegativeReals)\n",
    "\n",
    "# Objective function\n",
    "def objective_rule(model):\n",
    "    return sum(120*(model.x['C1', 'GCA'] + model.x['C2', 'GCA']) +\n",
    "               135*(model.x['C1', 'GCB'] + model.x['C2', 'GCB']) + \n",
    "               155*(model.x['C1', 'GCC'] + model.x['C2', 'GCC']) \n",
    "               for i in components for j in products) \n",
    "model.profit = pyo.Objective(rule=objective_rule, sense=pyo.maximize)\n",
    "\n",
    "# Constraints\n",
    "model.constraints = pyo.ConstraintList()\n",
    "\n",
    "# Resource Constraints\n",
    "model.constraints.add(sum(model.x['C1', j] for j in products) <= 10000) # C1 availability\n",
    "model.constraints.add(sum(model.x['C2', j] for j in products) <= 15000) # C2 availability\n",
    "\n",
    "# Demand Constraints\n",
    "model.constraints.add(model.x['C1', 'GCA'] + model.x['C2', 'GCA'] >= 6000) \n",
    "model.constraints.add(model.x['C1', 'GCB'] + model.x['C2', 'GCB'] >= 7000)\n",
    "model.constraints.add(model.x['C1', 'GCC'] + model.x['C2', 'GCC'] >= 9000) \n",
    "\n",
    "# Critical Element Constraints\n",
    "model.constraints.add((0.4 * model.x['C1', 'GCA'] + 0.2 * model.x['C2', 'GCA']) >= \n",
    "                      0.3 * (model.x['C1', 'GCA'] + model.x['C2', 'GCA']))\n",
    "model.constraints.add((0.4 * model.x['C1', 'GCB'] + 0.2 * model.x['C2', 'GCB']) <= \n",
    "                      0.3 * (model.x['C1', 'GCB'] + model.x['C2', 'GCB']))\n",
    "model.constraints.add(model.x['C1', 'GCC'] >= 0.3 * model.x['C2', 'GCC'])\n",
    "\n",
    "# Solve the model\n",
    "solver = pyo.SolverFactory('glpk')  # Choose a solver (e.g., 'glpk', 'gurobi')\n",
    "solver.solve(model)\n",
    "\n",
    "# Print the results\n",
    "print(\"Optimal Solution:\")\n",
    "for i in components:\n",
    "    for j in products:\n",
    "        print(f\"x[{i}, {j}] = {pyo.value(model.x[i, j])}\")\n",
    "\n",
    "print(f\"Total Profit = {pyo.value(model.profit)}\") "
   ]
  },
  {
   "cell_type": "markdown",
   "id": "1be0926e",
   "metadata": {},
   "source": [
    "## 5. Correct the code to verify model viability (optional)"
   ]
  },
  {
   "cell_type": "code",
   "execution_count": 151,
   "id": "8b37acfc",
   "metadata": {},
   "outputs": [
    {
     "name": "stdout",
     "output_type": "stream",
     "text": [
      "Optimal Solution:\n",
      "x[C1, GCA] = 3730.76923076923\n",
      "x[C1, GCB] = 3500.0\n",
      "x[C1, GCC] = 2769.23076923077\n",
      "x[C2, GCA] = 2269.23076923077\n",
      "x[C2, GCB] = 3500.0\n",
      "x[C2, GCC] = 9230.76923076923\n",
      "Total Profit = 3525000.0\n"
     ]
    }
   ],
   "source": [
    "import pyomo.environ as pyo\n",
    "\n",
    "# Create a concrete model\n",
    "model = pyo.ConcreteModel()\n",
    "\n",
    "# Define sets (optional but improves readability)\n",
    "components = ['C1', 'C2']\n",
    "products = ['GCA', 'GCB', 'GCC']\n",
    "\n",
    "# Define variables\n",
    "model.x = pyo.Var(components, products, domain=pyo.NonNegativeReals)\n",
    "\n",
    "# Objective function\n",
    "def objective_rule(model):\n",
    "    p = 120*(model.x['C1', 'GCA'] + model.x['C2', 'GCA']) + 135*(model.x['C1', 'GCB'] + model.x['C2', 'GCB']) + 155*(model.x['C1', 'GCC'] + model.x['C2', 'GCC'])\n",
    "    return p\n",
    "model.profit = pyo.Objective(rule=objective_rule, sense=pyo.maximize)\n",
    "\n",
    "# Constraints\n",
    "model.constraints = pyo.ConstraintList()\n",
    "\n",
    "# Resource Constraints\n",
    "model.constraints.add(sum(model.x['C1', j] for j in products) <= 10000) # C1 availability\n",
    "model.constraints.add(sum(model.x['C2', j] for j in products) <= 15000) # C2 availability\n",
    "\n",
    "# Demand Constraints\n",
    "model.constraints.add(model.x['C1', 'GCA'] + model.x['C2', 'GCA'] >= 6000) \n",
    "model.constraints.add(model.x['C1', 'GCB'] + model.x['C2', 'GCB'] >= 7000)\n",
    "model.constraints.add(model.x['C1', 'GCC'] + model.x['C2', 'GCC'] >= 9000) \n",
    "\n",
    "# Critical Element Constraints\n",
    "model.constraints.add((0.4 * model.x['C1', 'GCA'] + 0.2 * model.x['C2', 'GCA']) >= \n",
    "                      0.3 * (model.x['C1', 'GCA'] + model.x['C2', 'GCA']))\n",
    "model.constraints.add((0.4 * model.x['C1', 'GCB'] + 0.2 * model.x['C2', 'GCB']) <= \n",
    "                      0.3 * (model.x['C1', 'GCB'] + model.x['C2', 'GCB']))\n",
    "model.constraints.add(model.x['C1', 'GCC'] >= 0.3 * model.x['C2', 'GCC'])\n",
    "\n",
    "# Solve the model\n",
    "solver = pyo.SolverFactory('glpk')  # Choose a solver (e.g., 'glpk', 'gurobi')\n",
    "solver.solve(model)\n",
    "\n",
    "# Print the results\n",
    "print(\"Optimal Solution:\")\n",
    "for i in components:\n",
    "    for j in products:\n",
    "        print(f\"x[{i}, {j}] = {pyo.value(model.x[i, j])}\")\n",
    "\n",
    "print(f\"Total Profit = {pyo.value(model.profit)}\") "
   ]
  },
  {
   "cell_type": "markdown",
   "id": "c007230b",
   "metadata": {},
   "source": [
    "## 6. Print the responses"
   ]
  },
  {
   "cell_type": "code",
   "execution_count": 156,
   "id": "c2c37c8c",
   "metadata": {},
   "outputs": [
    {
     "name": "stdout",
     "output_type": "stream",
     "text": [
      "## Variables:\n",
      "\n",
      "* **xij:** Liters of component *i* used in the production of product *j*, where *i* = {C1, C2} and *j* = {GCA, GCB, GCC}. \n",
      "\n",
      "This gives us the following six variables:\n",
      "\n",
      "* **xC1_GCA:** Liters of C1 used in GCA\n",
      "* **xC2_GCA:** Liters of C2 used in GCA\n",
      "* **xC1_GCB:** Liters of C1 used in GCB\n",
      "* **xC2_GCB:** Liters of C2 used in GCB\n",
      "* **xC1_GCC:** Liters of C1 used in GCC\n",
      "* **xC2_GCC:** Liters of C2 used in GCC \n",
      "\n"
     ]
    }
   ],
   "source": [
    "print(response.text)"
   ]
  },
  {
   "cell_type": "code",
   "execution_count": 157,
   "id": "3058d61d",
   "metadata": {},
   "outputs": [
    {
     "name": "stdout",
     "output_type": "stream",
     "text": [
      "```\n",
      "Maximize: 120(xC1_GCA + xC2_GCA) + 135(xC1_GCB + xC2_GCB) + 155(xC1_GCC + xC2_GCC) \n",
      "``` \n",
      "\n"
     ]
    }
   ],
   "source": [
    "print(response2.text)"
   ]
  },
  {
   "cell_type": "code",
   "execution_count": 159,
   "id": "6e109ed2",
   "metadata": {},
   "outputs": [
    {
     "name": "stdout",
     "output_type": "stream",
     "text": [
      "## Constraints:\n",
      "\n",
      "**Resource Constraints:**\n",
      "\n",
      "* **Component Availability:**\n",
      "    * xC1_GCA + xC1_GCB + xC1_GCC ≤ 10000 (C1 availability)\n",
      "    * xC2_GCA + xC2_GCB + xC2_GCC ≤ 15000 (C2 availability) \n",
      "\n",
      "* **Demand Constraints:**\n",
      "    * xC1_GCA + xC2_GCA ≥ 6000 (Minimum demand for GCA)\n",
      "    * xC1_GCB + xC2_GCB ≥ 7000 (Minimum demand for GCB)\n",
      "    * xC1_GCC + xC2_GCC ≥ 9000 (Minimum demand for GCC)\n",
      "\n",
      "**Critical Element Constraints:**\n",
      "\n",
      "* **GCA (at least 0.3 fraction of critical element):**\n",
      "    * (0.4 * xC1_GCA + 0.2 * xC2_GCA) / (xC1_GCA + xC2_GCA)  ≥ 0.3 \n",
      "\n",
      "* **GCB (at most 0.3 fraction of critical element):** \n",
      "    * (0.4 * xC1_GCB + 0.2 * xC2_GCB) / (xC1_GCB + xC2_GCB) ≤ 0.3\n",
      "\n",
      "* **GCC (minimum ratio of C1 to C2 of 0.3):**\n",
      "    * xC1_GCC  ≥ 0.3 * xC2_GCC \n",
      "\n",
      "**Non-negativity Constraints:**\n",
      "\n",
      "* xC1_GCA ≥ 0 \n",
      "* xC2_GCA ≥ 0\n",
      "* xC1_GCB ≥ 0\n",
      "* xC2_GCB ≥ 0\n",
      "* xC1_GCC ≥ 0\n",
      "* xC2_GCC ≥ 0 \n",
      "\n"
     ]
    }
   ],
   "source": [
    "print(response3.text)"
   ]
  },
  {
   "cell_type": "code",
   "execution_count": 158,
   "id": "af742147",
   "metadata": {},
   "outputs": [
    {
     "name": "stdout",
     "output_type": "stream",
     "text": [
      "```python\n",
      "import pyomo.environ as pyo\n",
      "\n",
      "# Create a concrete model\n",
      "model = pyo.ConcreteModel()\n",
      "\n",
      "# Define sets (optional but improves readability)\n",
      "components = ['C1', 'C2']\n",
      "products = ['GCA', 'GCB', 'GCC']\n",
      "\n",
      "# Define variables\n",
      "model.x = pyo.Var(components, products, domain=pyo.NonNegativeReals)\n",
      "\n",
      "# Objective function\n",
      "def objective_rule(model):\n",
      "    return sum(120*(model.x['C1', 'GCA'] + model.x['C2', 'GCA']) +\n",
      "               135*(model.x['C1', 'GCB'] + model.x['C2', 'GCB']) + \n",
      "               155*(model.x['C1', 'GCC'] + model.x['C2', 'GCC']) \n",
      "               for i in components for j in products) \n",
      "model.profit = pyo.Objective(rule=objective_rule, sense=pyo.maximize)\n",
      "\n",
      "# Constraints\n",
      "model.constraints = pyo.ConstraintList()\n",
      "\n",
      "# Resource Constraints\n",
      "model.constraints.add(sum(model.x['C1', j] for j in products) <= 10000) # C1 availability\n",
      "model.constraints.add(sum(model.x['C2', j] for j in products) <= 15000) # C2 availability\n",
      "\n",
      "# Demand Constraints\n",
      "model.constraints.add(model.x['C1', 'GCA'] + model.x['C2', 'GCA'] >= 6000) \n",
      "model.constraints.add(model.x['C1', 'GCB'] + model.x['C2', 'GCB'] >= 7000)\n",
      "model.constraints.add(model.x['C1', 'GCC'] + model.x['C2', 'GCC'] >= 9000) \n",
      "\n",
      "# Critical Element Constraints\n",
      "model.constraints.add((0.4 * model.x['C1', 'GCA'] + 0.2 * model.x['C2', 'GCA']) >= \n",
      "                      0.3 * (model.x['C1', 'GCA'] + model.x['C2', 'GCA']))\n",
      "model.constraints.add((0.4 * model.x['C1', 'GCB'] + 0.2 * model.x['C2', 'GCB']) <= \n",
      "                      0.3 * (model.x['C1', 'GCB'] + model.x['C2', 'GCB']))\n",
      "model.constraints.add(model.x['C1', 'GCC'] >= 0.3 * model.x['C2', 'GCC'])\n",
      "\n",
      "# Solve the model\n",
      "solver = pyo.SolverFactory('glpk')  # Choose a solver (e.g., 'glpk', 'gurobi')\n",
      "solver.solve(model)\n",
      "\n",
      "# Print the results\n",
      "print(\"Optimal Solution:\")\n",
      "for i in components:\n",
      "    for j in products:\n",
      "        print(f\"x[{i}, {j}] = {pyo.value(model.x[i, j])}\")\n",
      "\n",
      "print(f\"Total Profit = {pyo.value(model.profit)}\") \n",
      "``` \n",
      "\n"
     ]
    }
   ],
   "source": [
    "print(response4.text)"
   ]
  }
 ],
 "metadata": {
  "kernelspec": {
   "display_name": "Python 3 (ipykernel)",
   "language": "python",
   "name": "python3"
  },
  "language_info": {
   "codemirror_mode": {
    "name": "ipython",
    "version": 3
   },
   "file_extension": ".py",
   "mimetype": "text/x-python",
   "name": "python",
   "nbconvert_exporter": "python",
   "pygments_lexer": "ipython3",
   "version": "3.11.4"
  }
 },
 "nbformat": 4,
 "nbformat_minor": 5
}
