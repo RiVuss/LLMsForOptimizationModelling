{
 "cells": [
  {
   "cell_type": "markdown",
   "id": "f0005e9e",
   "metadata": {},
   "source": [
    "# LLM Optimization Modelling Experiment"
   ]
  },
  {
   "cell_type": "code",
   "execution_count": 8,
   "id": "7f664028",
   "metadata": {},
   "outputs": [],
   "source": [
    "import vertexai\n",
    "from vertexai.preview.generative_models import GenerativeModel, Image\n",
    "from IPython.display import Markdown"
   ]
  },
  {
   "cell_type": "markdown",
   "id": "f527d6af",
   "metadata": {},
   "source": [
    "## 1. Define the problem description"
   ]
  },
  {
   "cell_type": "code",
   "execution_count": 107,
   "id": "25055ffd",
   "metadata": {},
   "outputs": [],
   "source": [
    "problem = '''Imagine you own a small shop, and you're trying to manage your employees' working hours and sales targets efficiently.\n",
    "You have three kinds of goals overall: sales goals, employee hours goals and overtime goals.\n",
    "\n",
    "Sales Goals: \n",
    "You have a target of selling 5500 units. \n",
    "But sometimes, you might sell fewer (negative deviation) or more (positive deviation) than this target. \n",
    "On average, your full-time employees will sell 5 records per hour and your part-time employees will sell 2 records per hour.\n",
    "\n",
    "Employee Hours: \n",
    "You have both full-time and part-time employees. \n",
    "Your full-time employees are expected to work a total of 800 hours, while part-time employees are expected to work 320 hours. \n",
    "Similarly, like sales, there could be deviations in these working hours. \n",
    "\n",
    "Overtime: \n",
    "Additionally, your employees might end up working overtime. \n",
    "You have a target of 100 hours of overtime for full-time employees.\n",
    "You are not concerned about limiting the overtime of part-time employees.\n",
    "Again, you might deviate from this goal.\n",
    "\n",
    "Each of these deviations has a different priority for you. \n",
    "P1 to P4 are priority factors for each deviation.\n",
    "Your most important goal is to achieve your sales goal.\n",
    "Second to that is the goal to not exceed 100 overtime hours for full-time employees.\n",
    "Then, you next priority is to fully utilize your full-time and part time employees.\n",
    "Your last goal with the lowest priority, you want to keep general overtime hours for both kinds of employees as low as possible.\n",
    "In addition to the general priorities of you goals, you are twice as concerned about fully utilizing the full-time employee hours.\n",
    "Finally, overtime hours of part-time employees have a relative cost of three times that of full-time employees.\n",
    "\n",
    "Now, the goal here is to minimize the overall impact of these deviations, considering their priorities. \n",
    "This means finding the best balance between sales targets, employee hours, and overtime, while keeping in mind which deviations are more critical for your business.'''"
   ]
  },
  {
   "cell_type": "markdown",
   "id": "472cf9ad",
   "metadata": {},
   "source": [
    "## 2. Ask for parameters"
   ]
  },
  {
   "cell_type": "code",
   "execution_count": 139,
   "id": "e31ec80c",
   "metadata": {},
   "outputs": [],
   "source": [
    "#Initializing the session. To replicate, make sure the right credentials are saved in a PATH variable\n",
    "PROJECT_ID = \"llm4optproblems\"\n",
    "REGION = \"us-central1\"\n",
    "vertexai.init(project=PROJECT_ID, location=REGION)\n",
    "\n",
    "#Specifying the model\n",
    "generative_multimodal_model = GenerativeModel(\"gemini-1.5-pro-preview-0409\")\n",
    "\n",
    "#The propmt applied to all problems\n",
    "prompt = '''Please formulate only the variables for this mathematical optimization problem. \n",
    "'''\n",
    "\n",
    "#Generate the response\n",
    "response = generative_multimodal_model.generate_content([prompt+problem])\n"
   ]
  },
  {
   "cell_type": "code",
   "execution_count": 140,
   "id": "f9adc567",
   "metadata": {
    "scrolled": false
   },
   "outputs": [
    {
     "data": {
      "text/markdown": [
       "## Variables:\n",
       "\n",
       "**Sales:**\n",
       "\n",
       "*  `S`:  Total units sold \n",
       "*  `Sd`: Deviation from the sales target (can be positive or negative)\n",
       "\n",
       "**Employee Hours:**\n",
       "\n",
       "*  `FTh`: Total hours worked by full-time employees\n",
       "*  `FThd`: Deviation in full-time employee hours (can be positive or negative)\n",
       "*  `PTh`: Total hours worked by part-time employees\n",
       "*  `PThd`: Deviation in part-time employee hours (can be positive or negative)\n",
       "\n",
       "**Overtime:**\n",
       "\n",
       "*  `FTo`: Total overtime hours for full-time employees\n",
       "*  `FTod`: Deviation from the overtime target for full-time employees (can be positive or negative)\n",
       "*  `PTo`: Total overtime hours for part-time employees \n"
      ],
      "text/plain": [
       "<IPython.core.display.Markdown object>"
      ]
     },
     "execution_count": 140,
     "metadata": {},
     "output_type": "execute_result"
    }
   ],
   "source": [
    "#Show the resopnse in a formatted way\n",
    "Markdown(response.text)"
   ]
  },
  {
   "cell_type": "markdown",
   "id": "15d9e89f",
   "metadata": {},
   "source": [
    "# 2. Ask for objective"
   ]
  },
  {
   "cell_type": "code",
   "execution_count": 141,
   "id": "4f357a19",
   "metadata": {},
   "outputs": [],
   "source": [
    "#Second prompt gets the output of the previous step and generates the code\n",
    "prompt2 = \"Please formulate only the objective function for this mathematical optimization problem.\"\n",
    "prompt2 += problem + response.text\n",
    "response2 = generative_multimodal_model.generate_content([prompt2])"
   ]
  },
  {
   "cell_type": "code",
   "execution_count": 142,
   "id": "bccd1014",
   "metadata": {},
   "outputs": [
    {
     "data": {
      "text/markdown": [
       "```\n",
       "Minimize: \n",
       "\n",
       "P1 * |Sd| + P2 * |FTod| + 2 * P3 * |FThd| + P3 * |PThd| + P4 * |FTo| + 3 * P4 * |PTo| \n",
       "``` \n"
      ],
      "text/plain": [
       "<IPython.core.display.Markdown object>"
      ]
     },
     "execution_count": 142,
     "metadata": {},
     "output_type": "execute_result"
    }
   ],
   "source": [
    "Markdown(response2.text)"
   ]
  },
  {
   "cell_type": "markdown",
   "id": "d8ab1404",
   "metadata": {},
   "source": [
    "# 3. Ask for constraints"
   ]
  },
  {
   "cell_type": "code",
   "execution_count": 143,
   "id": "e6409951",
   "metadata": {},
   "outputs": [],
   "source": [
    "#Second prompt gets the output of the previous step and generates the code\n",
    "prompt3 = \"Please formulate only the constraints for this mathematical optimization problem.\"\n",
    "prompt3 += problem + response.text + response2.text\n",
    "response3 = generative_multimodal_model.generate_content([prompt3])"
   ]
  },
  {
   "cell_type": "code",
   "execution_count": 144,
   "id": "2f9439c2",
   "metadata": {},
   "outputs": [
    {
     "data": {
      "text/markdown": [
       "## Constraints:\n",
       "\n",
       "**Sales:**\n",
       "\n",
       "*  `S = 5500 + Sd`  \n",
       "*  `S = 5 * FTh + 2 * PTh` \n",
       "\n",
       "**Employee Hours:**\n",
       "\n",
       "*  `FTh = 800 + FThd` \n",
       "*  `PTh = 320 + PThd` \n",
       "\n",
       "**Overtime:**\n",
       "\n",
       "*  `FTo = 100 + FTod` \n",
       "*  `FTo >= 0`\n",
       "*  `PTo >= 0`\n",
       "\n",
       "**Variable Domains:**\n",
       "\n",
       "* All deviations variables (`Sd`, `FThd`, `PThd`, `FTod`) can be positive, negative or zero.\n",
       "* All other variables (`S`, `FTh`, `PTh`, `FTo`, `PTo`) should be non-negative. \n"
      ],
      "text/plain": [
       "<IPython.core.display.Markdown object>"
      ]
     },
     "execution_count": 144,
     "metadata": {},
     "output_type": "execute_result"
    }
   ],
   "source": [
    "Markdown(response3.text)"
   ]
  },
  {
   "cell_type": "markdown",
   "id": "75796979",
   "metadata": {},
   "source": [
    "## 3. Generate the pyomo code"
   ]
  },
  {
   "cell_type": "code",
   "execution_count": 145,
   "id": "aabea932",
   "metadata": {},
   "outputs": [],
   "source": [
    "#Second prompt gets the output of the previous step and generates the code\n",
    "prompt4 = \"Please write pyomo code for this mathematical problem. Use sample data where needed. Indicate where you use sample data. \\n\"\n",
    "prompt4 += response.text + response2.text + response3.text \n",
    "response4 = generative_multimodal_model.generate_content([prompt4])"
   ]
  },
  {
   "cell_type": "code",
   "execution_count": 146,
   "id": "0dbc9976",
   "metadata": {
    "scrolled": false
   },
   "outputs": [
    {
     "data": {
      "text/markdown": [
       "```python\n",
       "import pyomo.environ as pyo\n",
       "\n",
       "# Sample Data - Replace with actual data if needed\n",
       "P1 = 1  \n",
       "P2 = 2 \n",
       "P3 = 1.5 \n",
       "P4 = 3  \n",
       "\n",
       "# Model\n",
       "model = pyo.ConcreteModel()\n",
       "\n",
       "# Variables\n",
       "model.S = pyo.Var(domain=pyo.NonNegativeReals)\n",
       "model.Sd = pyo.Var(domain=pyo.Reals)\n",
       "model.FTh = pyo.Var(domain=pyo.NonNegativeReals)\n",
       "model.FThd = pyo.Var(domain=pyo.Reals)\n",
       "model.PTh = pyo.Var(domain=pyo.NonNegativeReals)\n",
       "model.PThd = pyo.Var(domain=pyo.Reals)\n",
       "model.FTo = pyo.Var(domain=pyo.NonNegativeReals)\n",
       "model.FTod = pyo.Var(domain=pyo.Reals)\n",
       "model.PTo = pyo.Var(domain=pyo.NonNegativeReals)\n",
       "\n",
       "# Objective function\n",
       "model.obj = pyo.Objective(\n",
       "    expr= P1 * abs(model.Sd) \n",
       "           + P2 * abs(model.FTod) \n",
       "           + 2 * P3 * abs(model.FThd) \n",
       "           + P3 * abs(model.PThd) \n",
       "           + P4 * abs(model.FTo) \n",
       "           + 3 * P4 * abs(model.PTo),\n",
       "    sense=pyo.minimize\n",
       ")\n",
       "\n",
       "# Constraints\n",
       "model.sales_constraint = pyo.Constraint(expr=model.S == 5500 + model.Sd)\n",
       "model.production_constraint = pyo.Constraint(expr=model.S == 5 * model.FTh + 2 * model.PTh)\n",
       "\n",
       "model.fthours_constraint = pyo.Constraint(expr=model.FTh == 800 + model.FThd)\n",
       "model.pthours_constraint = pyo.Constraint(expr=model.PTh == 320 + model.PThd)\n",
       "\n",
       "model.ftovertime_constraint = pyo.Constraint(expr=model.FTo == 100 + model.FTod)\n",
       "model.ftovertime_limit = pyo.Constraint(expr=model.FTo >= 0)\n",
       "model.ptovertime_limit = pyo.Constraint(expr=model.PTo >= 0)\n",
       "\n",
       "# Solve\n",
       "solver = pyo.SolverFactory('cbc')  # Choose a suitable solver\n",
       "results = solver.solve(model)\n",
       "\n",
       "# Print results\n",
       "print(results)\n",
       "print(\"Sales (S):\", pyo.value(model.S))\n",
       "print(\"Full-time Hours (FTh):\", pyo.value(model.FTh))\n",
       "print(\"Part-time Hours (PTh):\", pyo.value(model.PTh))\n",
       "print(\"Full-time Overtime (FTo):\", pyo.value(model.FTo))\n",
       "print(\"Part-time Overtime (PTo):\", pyo.value(model.PTo))\n",
       "```\n",
       "\n",
       "**Explanation and Sample Data:**\n",
       "\n",
       "1. **Import Pyomo:** Import the Pyomo library.\n",
       "2. **Sample Data:** Define the values of `P1`, `P2`, `P3`, and `P4`.  These represent the weights in your objective function. **You'll need to replace these with your actual data.**\n",
       "3. **Model:** Create a concrete model object.\n",
       "4. **Variables:** Define all your variables with their domains:\n",
       "   -  `domain=pyo.NonNegativeReals` ensures the variable is greater than or equal to zero.\n",
       "   -  `domain=pyo.Reals` allows the variable to be positive, negative, or zero.\n",
       "5. **Objective Function (`model.obj`):**\n",
       "   -  This implements your minimization objective using the `abs()` function for absolute values.\n",
       "6. **Constraints:**  Each constraint is defined using `pyo.Constraint`.\n",
       "7. **Solver:**  A solver is chosen (`cbc` in this example, but you might use others like 'glpk', 'gurobi', etc.).\n",
       "8. **Solve:** The model is solved, and the results are stored.\n",
       "9. **Print Results:** The script prints the solver status and the optimal values for the variables.\n",
       "\n",
       "Remember to install Pyomo and a suitable solver before running this code. You can often install them using `pip`:\n",
       "\n",
       "```bash\n",
       "pip install pyomo\n",
       "pip install cbc \n",
       "```\n",
       "\n",
       "Replace the sample data with your real values and run the code to find the optimal solution. \n"
      ],
      "text/plain": [
       "<IPython.core.display.Markdown object>"
      ]
     },
     "execution_count": 146,
     "metadata": {},
     "output_type": "execute_result"
    }
   ],
   "source": [
    "## Showing the code in a formatted way\n",
    "Markdown(response4.text)"
   ]
  },
  {
   "cell_type": "markdown",
   "id": "b60756ae",
   "metadata": {},
   "source": [
    "## 4. Input problem data and try running the generated code"
   ]
  },
  {
   "cell_type": "code",
   "execution_count": 155,
   "id": "9cc2e439",
   "metadata": {},
   "outputs": [
    {
     "ename": "ValueError",
     "evalue": "Model objective (obj) contains nonlinear terms that cannot be written to LP format",
     "output_type": "error",
     "traceback": [
      "\u001b[1;31m---------------------------------------------------------------------------\u001b[0m",
      "\u001b[1;31mValueError\u001b[0m                                Traceback (most recent call last)",
      "Cell \u001b[1;32mIn[155], line 47\u001b[0m\n\u001b[0;32m     45\u001b[0m \u001b[38;5;66;03m# Solve\u001b[39;00m\n\u001b[0;32m     46\u001b[0m solver \u001b[38;5;241m=\u001b[39m pyo\u001b[38;5;241m.\u001b[39mSolverFactory(\u001b[38;5;124m'\u001b[39m\u001b[38;5;124mglpk\u001b[39m\u001b[38;5;124m'\u001b[39m)  \u001b[38;5;66;03m# Choose a suitable solver\u001b[39;00m\n\u001b[1;32m---> 47\u001b[0m results \u001b[38;5;241m=\u001b[39m solver\u001b[38;5;241m.\u001b[39msolve(model)\n\u001b[0;32m     49\u001b[0m \u001b[38;5;66;03m# Print results\u001b[39;00m\n\u001b[0;32m     50\u001b[0m \u001b[38;5;28mprint\u001b[39m(results)\n",
      "File \u001b[1;32m~\\anaconda3\\Lib\\site-packages\\pyomo\\opt\\base\\solvers.py:598\u001b[0m, in \u001b[0;36mOptSolver.solve\u001b[1;34m(self, *args, **kwds)\u001b[0m\n\u001b[0;32m    594\u001b[0m \u001b[38;5;28;01mtry\u001b[39;00m:\n\u001b[0;32m    595\u001b[0m     \u001b[38;5;66;03m# we're good to go.\u001b[39;00m\n\u001b[0;32m    596\u001b[0m     initial_time \u001b[38;5;241m=\u001b[39m time\u001b[38;5;241m.\u001b[39mtime()\n\u001b[1;32m--> 598\u001b[0m     \u001b[38;5;28mself\u001b[39m\u001b[38;5;241m.\u001b[39m_presolve(\u001b[38;5;241m*\u001b[39margs, \u001b[38;5;241m*\u001b[39m\u001b[38;5;241m*\u001b[39mkwds)\n\u001b[0;32m    600\u001b[0m     presolve_completion_time \u001b[38;5;241m=\u001b[39m time\u001b[38;5;241m.\u001b[39mtime()\n\u001b[0;32m    601\u001b[0m     \u001b[38;5;28;01mif\u001b[39;00m \u001b[38;5;28mself\u001b[39m\u001b[38;5;241m.\u001b[39m_report_timing:\n",
      "File \u001b[1;32m~\\anaconda3\\Lib\\site-packages\\pyomo\\opt\\solver\\shellcmd.py:222\u001b[0m, in \u001b[0;36mSystemCallSolver._presolve\u001b[1;34m(self, *args, **kwds)\u001b[0m\n\u001b[0;32m    219\u001b[0m \u001b[38;5;28mself\u001b[39m\u001b[38;5;241m.\u001b[39m_keepfiles \u001b[38;5;241m=\u001b[39m kwds\u001b[38;5;241m.\u001b[39mpop(\u001b[38;5;124m\"\u001b[39m\u001b[38;5;124mkeepfiles\u001b[39m\u001b[38;5;124m\"\u001b[39m, \u001b[38;5;28;01mFalse\u001b[39;00m)\n\u001b[0;32m    220\u001b[0m \u001b[38;5;28mself\u001b[39m\u001b[38;5;241m.\u001b[39m_define_signal_handlers \u001b[38;5;241m=\u001b[39m kwds\u001b[38;5;241m.\u001b[39mpop(\u001b[38;5;124m'\u001b[39m\u001b[38;5;124muse_signal_handling\u001b[39m\u001b[38;5;124m'\u001b[39m, \u001b[38;5;28;01mNone\u001b[39;00m)\n\u001b[1;32m--> 222\u001b[0m OptSolver\u001b[38;5;241m.\u001b[39m_presolve(\u001b[38;5;28mself\u001b[39m, \u001b[38;5;241m*\u001b[39margs, \u001b[38;5;241m*\u001b[39m\u001b[38;5;241m*\u001b[39mkwds)\n\u001b[0;32m    224\u001b[0m \u001b[38;5;66;03m#\u001b[39;00m\n\u001b[0;32m    225\u001b[0m \u001b[38;5;66;03m# Verify that the input problems exists\u001b[39;00m\n\u001b[0;32m    226\u001b[0m \u001b[38;5;66;03m#\u001b[39;00m\n\u001b[0;32m    227\u001b[0m \u001b[38;5;28;01mfor\u001b[39;00m filename \u001b[38;5;129;01min\u001b[39;00m \u001b[38;5;28mself\u001b[39m\u001b[38;5;241m.\u001b[39m_problem_files:\n",
      "File \u001b[1;32m~\\anaconda3\\Lib\\site-packages\\pyomo\\opt\\base\\solvers.py:704\u001b[0m, in \u001b[0;36mOptSolver._presolve\u001b[1;34m(self, *args, **kwds)\u001b[0m\n\u001b[0;32m    701\u001b[0m \u001b[38;5;28;01mif\u001b[39;00m \u001b[38;5;28mself\u001b[39m\u001b[38;5;241m.\u001b[39m_problem_format:\n\u001b[0;32m    702\u001b[0m     write_start_time \u001b[38;5;241m=\u001b[39m time\u001b[38;5;241m.\u001b[39mtime()\n\u001b[0;32m    703\u001b[0m     (\u001b[38;5;28mself\u001b[39m\u001b[38;5;241m.\u001b[39m_problem_files, \u001b[38;5;28mself\u001b[39m\u001b[38;5;241m.\u001b[39m_problem_format, \u001b[38;5;28mself\u001b[39m\u001b[38;5;241m.\u001b[39m_smap_id) \u001b[38;5;241m=\u001b[39m (\n\u001b[1;32m--> 704\u001b[0m         \u001b[38;5;28mself\u001b[39m\u001b[38;5;241m.\u001b[39m_convert_problem(\n\u001b[0;32m    705\u001b[0m             args, \u001b[38;5;28mself\u001b[39m\u001b[38;5;241m.\u001b[39m_problem_format, \u001b[38;5;28mself\u001b[39m\u001b[38;5;241m.\u001b[39m_valid_problem_formats, \u001b[38;5;241m*\u001b[39m\u001b[38;5;241m*\u001b[39mkwds\n\u001b[0;32m    706\u001b[0m         )\n\u001b[0;32m    707\u001b[0m     )\n\u001b[0;32m    708\u001b[0m     total_time \u001b[38;5;241m=\u001b[39m time\u001b[38;5;241m.\u001b[39mtime() \u001b[38;5;241m-\u001b[39m write_start_time\n\u001b[0;32m    709\u001b[0m     \u001b[38;5;28;01mif\u001b[39;00m \u001b[38;5;28mself\u001b[39m\u001b[38;5;241m.\u001b[39m_report_timing:\n",
      "File \u001b[1;32m~\\anaconda3\\Lib\\site-packages\\pyomo\\opt\\base\\solvers.py:756\u001b[0m, in \u001b[0;36mOptSolver._convert_problem\u001b[1;34m(self, args, problem_format, valid_problem_formats, **kwds)\u001b[0m\n\u001b[0;32m    755\u001b[0m \u001b[38;5;28;01mdef\u001b[39;00m \u001b[38;5;21m_convert_problem\u001b[39m(\u001b[38;5;28mself\u001b[39m, args, problem_format, valid_problem_formats, \u001b[38;5;241m*\u001b[39m\u001b[38;5;241m*\u001b[39mkwds):\n\u001b[1;32m--> 756\u001b[0m     \u001b[38;5;28;01mreturn\u001b[39;00m convert_problem(\n\u001b[0;32m    757\u001b[0m         args, problem_format, valid_problem_formats, \u001b[38;5;28mself\u001b[39m\u001b[38;5;241m.\u001b[39mhas_capability, \u001b[38;5;241m*\u001b[39m\u001b[38;5;241m*\u001b[39mkwds\n\u001b[0;32m    758\u001b[0m     )\n",
      "File \u001b[1;32m~\\anaconda3\\Lib\\site-packages\\pyomo\\opt\\base\\convert.py:97\u001b[0m, in \u001b[0;36mconvert_problem\u001b[1;34m(args, target_problem_type, valid_problem_types, has_capability, **kwds)\u001b[0m\n\u001b[0;32m     95\u001b[0m                 tmpkw \u001b[38;5;241m=\u001b[39m kwds\n\u001b[0;32m     96\u001b[0m                 tmpkw[\u001b[38;5;124m'\u001b[39m\u001b[38;5;124mcapabilities\u001b[39m\u001b[38;5;124m'\u001b[39m] \u001b[38;5;241m=\u001b[39m has_capability\n\u001b[1;32m---> 97\u001b[0m                 problem_files, symbol_map \u001b[38;5;241m=\u001b[39m converter\u001b[38;5;241m.\u001b[39mapply(\u001b[38;5;241m*\u001b[39mtmp, \u001b[38;5;241m*\u001b[39m\u001b[38;5;241m*\u001b[39mtmpkw)\n\u001b[0;32m     98\u001b[0m                 \u001b[38;5;28;01mreturn\u001b[39;00m problem_files, ptype, symbol_map\n\u001b[0;32m    100\u001b[0m msg \u001b[38;5;241m=\u001b[39m \u001b[38;5;124m'\u001b[39m\u001b[38;5;124mNo conversion possible.  Source problem type: \u001b[39m\u001b[38;5;132;01m%s\u001b[39;00m\u001b[38;5;124m.  Valid target types: \u001b[39m\u001b[38;5;132;01m%s\u001b[39;00m\u001b[38;5;124m'\u001b[39m\n",
      "File \u001b[1;32m~\\anaconda3\\Lib\\site-packages\\pyomo\\solvers\\plugins\\converter\\model.py:78\u001b[0m, in \u001b[0;36mPyomoMIPConverter.apply\u001b[1;34m(self, *args, **kwds)\u001b[0m\n\u001b[0;32m     70\u001b[0m         symbol_map_id \u001b[38;5;241m=\u001b[39m instance\u001b[38;5;241m.\u001b[39mwrite(\n\u001b[0;32m     71\u001b[0m             problem_filename,\n\u001b[0;32m     72\u001b[0m             \u001b[38;5;28mformat\u001b[39m\u001b[38;5;241m=\u001b[39mProblemFormat\u001b[38;5;241m.\u001b[39mcpxlp,\n\u001b[1;32m   (...)\u001b[0m\n\u001b[0;32m     75\u001b[0m             \u001b[38;5;241m*\u001b[39m\u001b[38;5;241m*\u001b[39mio_options\n\u001b[0;32m     76\u001b[0m         )\n\u001b[0;32m     77\u001b[0m     \u001b[38;5;28;01melse\u001b[39;00m:\n\u001b[1;32m---> 78\u001b[0m         (problem_filename, symbol_map_id) \u001b[38;5;241m=\u001b[39m instance\u001b[38;5;241m.\u001b[39mwrite(\n\u001b[0;32m     79\u001b[0m             filename\u001b[38;5;241m=\u001b[39mproblem_filename,\n\u001b[0;32m     80\u001b[0m             \u001b[38;5;28mformat\u001b[39m\u001b[38;5;241m=\u001b[39mProblemFormat\u001b[38;5;241m.\u001b[39mcpxlp,\n\u001b[0;32m     81\u001b[0m             solver_capability\u001b[38;5;241m=\u001b[39mcapabilities,\n\u001b[0;32m     82\u001b[0m             io_options\u001b[38;5;241m=\u001b[39mio_options,\n\u001b[0;32m     83\u001b[0m         )\n\u001b[0;32m     84\u001b[0m     \u001b[38;5;28;01mreturn\u001b[39;00m (problem_filename,), symbol_map_id\n\u001b[0;32m     85\u001b[0m \u001b[38;5;28;01melse\u001b[39;00m:\n\u001b[0;32m     86\u001b[0m     \u001b[38;5;66;03m#\u001b[39;00m\n\u001b[0;32m     87\u001b[0m     \u001b[38;5;66;03m# I'm simply exposing a fatal issue with\u001b[39;00m\n\u001b[1;32m   (...)\u001b[0m\n\u001b[0;32m     90\u001b[0m     \u001b[38;5;66;03m# arguments that can be sent to the writer?\u001b[39;00m\n\u001b[0;32m     91\u001b[0m     \u001b[38;5;66;03m#\u001b[39;00m\n",
      "File \u001b[1;32m~\\anaconda3\\Lib\\site-packages\\pyomo\\core\\base\\block.py:1937\u001b[0m, in \u001b[0;36m_BlockData.write\u001b[1;34m(self, filename, format, solver_capability, io_options, int_marker)\u001b[0m\n\u001b[0;32m   1934\u001b[0m     \u001b[38;5;28;01mdef\u001b[39;00m \u001b[38;5;21msolver_capability\u001b[39m(x):\n\u001b[0;32m   1935\u001b[0m         \u001b[38;5;28;01mreturn\u001b[39;00m \u001b[38;5;28;01mTrue\u001b[39;00m\n\u001b[1;32m-> 1937\u001b[0m (filename, smap) \u001b[38;5;241m=\u001b[39m problem_writer(\u001b[38;5;28mself\u001b[39m, filename, solver_capability, io_options)\n\u001b[0;32m   1938\u001b[0m smap_id \u001b[38;5;241m=\u001b[39m \u001b[38;5;28mid\u001b[39m(smap)\n\u001b[0;32m   1939\u001b[0m \u001b[38;5;28;01mif\u001b[39;00m \u001b[38;5;129;01mnot\u001b[39;00m \u001b[38;5;28mhasattr\u001b[39m(\u001b[38;5;28mself\u001b[39m, \u001b[38;5;124m'\u001b[39m\u001b[38;5;124msolutions\u001b[39m\u001b[38;5;124m'\u001b[39m):\n\u001b[0;32m   1940\u001b[0m     \u001b[38;5;66;03m# This is a bit of a hack.  The write() method was moved\u001b[39;00m\n\u001b[0;32m   1941\u001b[0m     \u001b[38;5;66;03m# here from PyomoModel to support the solution of arbitrary\u001b[39;00m\n\u001b[1;32m   (...)\u001b[0m\n\u001b[0;32m   1946\u001b[0m     \u001b[38;5;66;03m# dependency (we only need it here because we store the\u001b[39;00m\n\u001b[0;32m   1947\u001b[0m     \u001b[38;5;66;03m# SymbolMap returned by the writer in the solutions).\u001b[39;00m\n",
      "File \u001b[1;32m~\\anaconda3\\Lib\\site-packages\\pyomo\\repn\\plugins\\lp_writer.py:208\u001b[0m, in \u001b[0;36mLPWriter.__call__\u001b[1;34m(self, model, filename, solver_capability, io_options)\u001b[0m\n\u001b[0;32m    205\u001b[0m     io_options[\u001b[38;5;124m'\u001b[39m\u001b[38;5;124mallow_quadratic_constraint\u001b[39m\u001b[38;5;124m'\u001b[39m] \u001b[38;5;241m=\u001b[39m qc\n\u001b[0;32m    207\u001b[0m \u001b[38;5;28;01mwith\u001b[39;00m \u001b[38;5;28mopen\u001b[39m(filename, \u001b[38;5;124m'\u001b[39m\u001b[38;5;124mw\u001b[39m\u001b[38;5;124m'\u001b[39m, newline\u001b[38;5;241m=\u001b[39m\u001b[38;5;124m'\u001b[39m\u001b[38;5;124m'\u001b[39m) \u001b[38;5;28;01mas\u001b[39;00m FILE:\n\u001b[1;32m--> 208\u001b[0m     info \u001b[38;5;241m=\u001b[39m \u001b[38;5;28mself\u001b[39m\u001b[38;5;241m.\u001b[39mwrite(model, FILE, \u001b[38;5;241m*\u001b[39m\u001b[38;5;241m*\u001b[39mio_options)\n\u001b[0;32m    209\u001b[0m \u001b[38;5;28;01mreturn\u001b[39;00m filename, info\u001b[38;5;241m.\u001b[39msymbol_map\n",
      "File \u001b[1;32m~\\anaconda3\\Lib\\site-packages\\pyomo\\repn\\plugins\\lp_writer.py:241\u001b[0m, in \u001b[0;36mLPWriter.write\u001b[1;34m(self, model, ostream, **options)\u001b[0m\n\u001b[0;32m    237\u001b[0m \u001b[38;5;66;03m# Pause the GC, as the walker that generates the compiled LP\u001b[39;00m\n\u001b[0;32m    238\u001b[0m \u001b[38;5;66;03m# representation generates (and disposes of) a large number of\u001b[39;00m\n\u001b[0;32m    239\u001b[0m \u001b[38;5;66;03m# small objects.\u001b[39;00m\n\u001b[0;32m    240\u001b[0m \u001b[38;5;28;01mwith\u001b[39;00m PauseGC():\n\u001b[1;32m--> 241\u001b[0m     \u001b[38;5;28;01mreturn\u001b[39;00m _LPWriter_impl(ostream, config)\u001b[38;5;241m.\u001b[39mwrite(model)\n",
      "File \u001b[1;32m~\\anaconda3\\Lib\\site-packages\\pyomo\\repn\\plugins\\lp_writer.py:378\u001b[0m, in \u001b[0;36m_LPWriter_impl.write\u001b[1;34m(self, model)\u001b[0m\n\u001b[0;32m    376\u001b[0m repn \u001b[38;5;241m=\u001b[39m objective_visitor\u001b[38;5;241m.\u001b[39mwalk_expression(obj\u001b[38;5;241m.\u001b[39mexpr)\n\u001b[0;32m    377\u001b[0m \u001b[38;5;28;01mif\u001b[39;00m repn\u001b[38;5;241m.\u001b[39mnonlinear \u001b[38;5;129;01mis\u001b[39;00m \u001b[38;5;129;01mnot\u001b[39;00m \u001b[38;5;28;01mNone\u001b[39;00m:\n\u001b[1;32m--> 378\u001b[0m     \u001b[38;5;28;01mraise\u001b[39;00m \u001b[38;5;167;01mValueError\u001b[39;00m(\n\u001b[0;32m    379\u001b[0m         \u001b[38;5;124mf\u001b[39m\u001b[38;5;124m\"\u001b[39m\u001b[38;5;124mModel objective (\u001b[39m\u001b[38;5;132;01m{\u001b[39;00mobj\u001b[38;5;241m.\u001b[39mname\u001b[38;5;132;01m}\u001b[39;00m\u001b[38;5;124m) contains nonlinear terms that \u001b[39m\u001b[38;5;124m\"\u001b[39m\n\u001b[0;32m    380\u001b[0m         \u001b[38;5;124m\"\u001b[39m\u001b[38;5;124mcannot be written to LP format\u001b[39m\u001b[38;5;124m\"\u001b[39m\n\u001b[0;32m    381\u001b[0m     )\n\u001b[0;32m    382\u001b[0m \u001b[38;5;28;01mif\u001b[39;00m repn\u001b[38;5;241m.\u001b[39mconstant \u001b[38;5;129;01mor\u001b[39;00m \u001b[38;5;129;01mnot\u001b[39;00m (repn\u001b[38;5;241m.\u001b[39mlinear \u001b[38;5;129;01mor\u001b[39;00m \u001b[38;5;28mgetattr\u001b[39m(repn, \u001b[38;5;124m'\u001b[39m\u001b[38;5;124mquadratic\u001b[39m\u001b[38;5;124m'\u001b[39m, \u001b[38;5;28;01mNone\u001b[39;00m)):\n\u001b[0;32m    383\u001b[0m     \u001b[38;5;66;03m# Older versions of CPLEX (including 12.6) and all versions\u001b[39;00m\n\u001b[0;32m    384\u001b[0m     \u001b[38;5;66;03m# of GLPK (through 5.0) do not support constants in the\u001b[39;00m\n\u001b[1;32m   (...)\u001b[0m\n\u001b[0;32m    390\u001b[0m     \u001b[38;5;66;03m# objective, this will ensure we at least write out\u001b[39;00m\n\u001b[0;32m    391\u001b[0m     \u001b[38;5;66;03m# 0*ONE_VAR_CONSTANT.\u001b[39;00m\n\u001b[0;32m    392\u001b[0m     repn\u001b[38;5;241m.\u001b[39mlinear[\u001b[38;5;28mid\u001b[39m(ONE_VAR_CONSTANT)] \u001b[38;5;241m=\u001b[39m repn\u001b[38;5;241m.\u001b[39mconstant\n",
      "\u001b[1;31mValueError\u001b[0m: Model objective (obj) contains nonlinear terms that cannot be written to LP format"
     ]
    }
   ],
   "source": [
    "import pyomo.environ as pyo\n",
    "\n",
    "# Sample Data - Replace with actual data if needed\n",
    "P1 = 4  \n",
    "P2 = 3 \n",
    "P3 = 2\n",
    "P4 = 1 \n",
    "\n",
    "# Model\n",
    "model = pyo.ConcreteModel()\n",
    "\n",
    "# Variables\n",
    "model.S = pyo.Var(domain=pyo.NonNegativeReals)\n",
    "model.Sd = pyo.Var(domain=pyo.Reals)\n",
    "model.FTh = pyo.Var(domain=pyo.NonNegativeReals)\n",
    "model.FThd = pyo.Var(domain=pyo.Reals)\n",
    "model.PTh = pyo.Var(domain=pyo.NonNegativeReals)\n",
    "model.PThd = pyo.Var(domain=pyo.Reals)\n",
    "model.FTo = pyo.Var(domain=pyo.NonNegativeReals)\n",
    "model.FTod = pyo.Var(domain=pyo.Reals)\n",
    "model.PTo = pyo.Var(domain=pyo.NonNegativeReals)\n",
    "\n",
    "# Objective function\n",
    "model.obj = pyo.Objective(\n",
    "    expr= P1 * abs(model.Sd) \n",
    "           + P2 * abs(model.FTod) \n",
    "           + 2 * P3 * abs(model.FThd) \n",
    "           + P3 * abs(model.PThd) \n",
    "           + P4 * abs(model.FTo) \n",
    "           + 3 * P4 * abs(model.PTo),\n",
    "    sense=pyo.minimize\n",
    ")\n",
    "\n",
    "# Constraints\n",
    "model.sales_constraint = pyo.Constraint(expr=model.S == 5500 + model.Sd)\n",
    "model.production_constraint = pyo.Constraint(expr=model.S == 5 * model.FTh + 2 * model.PTh)\n",
    "\n",
    "model.fthours_constraint = pyo.Constraint(expr=model.FTh == 800 + model.FThd)\n",
    "model.pthours_constraint = pyo.Constraint(expr=model.PTh == 320 + model.PThd)\n",
    "\n",
    "model.ftovertime_constraint = pyo.Constraint(expr=model.FTo == 100 + model.FTod)\n",
    "model.ftovertime_limit = pyo.Constraint(expr=model.FTo >= 0)\n",
    "model.ptovertime_limit = pyo.Constraint(expr=model.PTo >= 0)\n",
    "\n",
    "# Solve\n",
    "solver = pyo.SolverFactory('glpk')  # Choose a suitable solver\n",
    "results = solver.solve(model)\n",
    "\n",
    "# Print results\n",
    "print(results)\n",
    "print(\"Sales (S):\", pyo.value(model.S))\n",
    "print(\"Full-time Hours (FTh):\", pyo.value(model.FTh))\n",
    "print(\"Part-time Hours (PTh):\", pyo.value(model.PTh))\n",
    "print(\"Full-time Overtime (FTo):\", pyo.value(model.FTo))\n",
    "print(\"Part-time Overtime (PTo):\", pyo.value(model.PTo))"
   ]
  },
  {
   "cell_type": "code",
   "execution_count": 150,
   "id": "69ff3518",
   "metadata": {
    "scrolled": false
   },
   "outputs": [],
   "source": [
    "#This was run in collab using couenne so it can be run in this non-linear form. Here is the output:\n",
    "\n",
    "\n",
    "# Problem: \n",
    "# - Lower bound: -inf\n",
    "#   Upper bound: inf\n",
    "#   Number of objectives: 1\n",
    "#   Number of constraints: 0\n",
    "#   Number of variables: 9\n",
    "#   Sense: unknown\n",
    "# Solver: \n",
    "# - Status: ok\n",
    "#   Message: couenne\\x3a Optimal\n",
    "#   Termination condition: optimal\n",
    "#   Id: 3\n",
    "#   Error rc: 0\n",
    "#   Time: 0.18695688247680664\n",
    "# Solution: \n",
    "# - number of solutions: 0\n",
    "#   number of solutions displayed: 0\n",
    "\n",
    "# Sales (S): 5500.000000000001\n",
    "# Full-time Hours (FTh): 972.0000000000001\n",
    "# Part-time Hours (PTh): 319.99999999999994\n",
    "# Full-time Overtime (FTo): 100.0\n",
    "# Part-time Overtime (PTo): 0.0"
   ]
  },
  {
   "cell_type": "markdown",
   "id": "1be0926e",
   "metadata": {},
   "source": [
    "## 5. Correct the code to verify model viability (optional)"
   ]
  },
  {
   "cell_type": "code",
   "execution_count": null,
   "id": "f55f907d",
   "metadata": {},
   "outputs": [],
   "source": []
  },
  {
   "cell_type": "markdown",
   "id": "dbd7b8a8",
   "metadata": {},
   "source": [
    "## 6. Print the responses"
   ]
  },
  {
   "cell_type": "code",
   "execution_count": 151,
   "id": "c76b7575",
   "metadata": {},
   "outputs": [
    {
     "name": "stdout",
     "output_type": "stream",
     "text": [
      "## Variables:\n",
      "\n",
      "**Sales:**\n",
      "\n",
      "*  `S`:  Total units sold \n",
      "*  `Sd`: Deviation from the sales target (can be positive or negative)\n",
      "\n",
      "**Employee Hours:**\n",
      "\n",
      "*  `FTh`: Total hours worked by full-time employees\n",
      "*  `FThd`: Deviation in full-time employee hours (can be positive or negative)\n",
      "*  `PTh`: Total hours worked by part-time employees\n",
      "*  `PThd`: Deviation in part-time employee hours (can be positive or negative)\n",
      "\n",
      "**Overtime:**\n",
      "\n",
      "*  `FTo`: Total overtime hours for full-time employees\n",
      "*  `FTod`: Deviation from the overtime target for full-time employees (can be positive or negative)\n",
      "*  `PTo`: Total overtime hours for part-time employees \n",
      "\n"
     ]
    }
   ],
   "source": [
    "print(response.text)"
   ]
  },
  {
   "cell_type": "code",
   "execution_count": 152,
   "id": "1bb49c6c",
   "metadata": {},
   "outputs": [
    {
     "name": "stdout",
     "output_type": "stream",
     "text": [
      "```\n",
      "Minimize: \n",
      "\n",
      "P1 * |Sd| + P2 * |FTod| + 2 * P3 * |FThd| + P3 * |PThd| + P4 * |FTo| + 3 * P4 * |PTo| \n",
      "``` \n",
      "\n"
     ]
    }
   ],
   "source": [
    "print(response2.text)"
   ]
  },
  {
   "cell_type": "code",
   "execution_count": 153,
   "id": "b95499e6",
   "metadata": {},
   "outputs": [
    {
     "name": "stdout",
     "output_type": "stream",
     "text": [
      "## Constraints:\n",
      "\n",
      "**Sales:**\n",
      "\n",
      "*  `S = 5500 + Sd`  \n",
      "*  `S = 5 * FTh + 2 * PTh` \n",
      "\n",
      "**Employee Hours:**\n",
      "\n",
      "*  `FTh = 800 + FThd` \n",
      "*  `PTh = 320 + PThd` \n",
      "\n",
      "**Overtime:**\n",
      "\n",
      "*  `FTo = 100 + FTod` \n",
      "*  `FTo >= 0`\n",
      "*  `PTo >= 0`\n",
      "\n",
      "**Variable Domains:**\n",
      "\n",
      "* All deviations variables (`Sd`, `FThd`, `PThd`, `FTod`) can be positive, negative or zero.\n",
      "* All other variables (`S`, `FTh`, `PTh`, `FTo`, `PTo`) should be non-negative. \n",
      "\n"
     ]
    }
   ],
   "source": [
    "print(response3.text)"
   ]
  },
  {
   "cell_type": "code",
   "execution_count": 154,
   "id": "184942d4",
   "metadata": {},
   "outputs": [
    {
     "name": "stdout",
     "output_type": "stream",
     "text": [
      "```python\n",
      "import pyomo.environ as pyo\n",
      "\n",
      "# Sample Data - Replace with actual data if needed\n",
      "P1 = 1  \n",
      "P2 = 2 \n",
      "P3 = 1.5 \n",
      "P4 = 3  \n",
      "\n",
      "# Model\n",
      "model = pyo.ConcreteModel()\n",
      "\n",
      "# Variables\n",
      "model.S = pyo.Var(domain=pyo.NonNegativeReals)\n",
      "model.Sd = pyo.Var(domain=pyo.Reals)\n",
      "model.FTh = pyo.Var(domain=pyo.NonNegativeReals)\n",
      "model.FThd = pyo.Var(domain=pyo.Reals)\n",
      "model.PTh = pyo.Var(domain=pyo.NonNegativeReals)\n",
      "model.PThd = pyo.Var(domain=pyo.Reals)\n",
      "model.FTo = pyo.Var(domain=pyo.NonNegativeReals)\n",
      "model.FTod = pyo.Var(domain=pyo.Reals)\n",
      "model.PTo = pyo.Var(domain=pyo.NonNegativeReals)\n",
      "\n",
      "# Objective function\n",
      "model.obj = pyo.Objective(\n",
      "    expr= P1 * abs(model.Sd) \n",
      "           + P2 * abs(model.FTod) \n",
      "           + 2 * P3 * abs(model.FThd) \n",
      "           + P3 * abs(model.PThd) \n",
      "           + P4 * abs(model.FTo) \n",
      "           + 3 * P4 * abs(model.PTo),\n",
      "    sense=pyo.minimize\n",
      ")\n",
      "\n",
      "# Constraints\n",
      "model.sales_constraint = pyo.Constraint(expr=model.S == 5500 + model.Sd)\n",
      "model.production_constraint = pyo.Constraint(expr=model.S == 5 * model.FTh + 2 * model.PTh)\n",
      "\n",
      "model.fthours_constraint = pyo.Constraint(expr=model.FTh == 800 + model.FThd)\n",
      "model.pthours_constraint = pyo.Constraint(expr=model.PTh == 320 + model.PThd)\n",
      "\n",
      "model.ftovertime_constraint = pyo.Constraint(expr=model.FTo == 100 + model.FTod)\n",
      "model.ftovertime_limit = pyo.Constraint(expr=model.FTo >= 0)\n",
      "model.ptovertime_limit = pyo.Constraint(expr=model.PTo >= 0)\n",
      "\n",
      "# Solve\n",
      "solver = pyo.SolverFactory('cbc')  # Choose a suitable solver\n",
      "results = solver.solve(model)\n",
      "\n",
      "# Print results\n",
      "print(results)\n",
      "print(\"Sales (S):\", pyo.value(model.S))\n",
      "print(\"Full-time Hours (FTh):\", pyo.value(model.FTh))\n",
      "print(\"Part-time Hours (PTh):\", pyo.value(model.PTh))\n",
      "print(\"Full-time Overtime (FTo):\", pyo.value(model.FTo))\n",
      "print(\"Part-time Overtime (PTo):\", pyo.value(model.PTo))\n",
      "```\n",
      "\n",
      "**Explanation and Sample Data:**\n",
      "\n",
      "1. **Import Pyomo:** Import the Pyomo library.\n",
      "2. **Sample Data:** Define the values of `P1`, `P2`, `P3`, and `P4`.  These represent the weights in your objective function. **You'll need to replace these with your actual data.**\n",
      "3. **Model:** Create a concrete model object.\n",
      "4. **Variables:** Define all your variables with their domains:\n",
      "   -  `domain=pyo.NonNegativeReals` ensures the variable is greater than or equal to zero.\n",
      "   -  `domain=pyo.Reals` allows the variable to be positive, negative, or zero.\n",
      "5. **Objective Function (`model.obj`):**\n",
      "   -  This implements your minimization objective using the `abs()` function for absolute values.\n",
      "6. **Constraints:**  Each constraint is defined using `pyo.Constraint`.\n",
      "7. **Solver:**  A solver is chosen (`cbc` in this example, but you might use others like 'glpk', 'gurobi', etc.).\n",
      "8. **Solve:** The model is solved, and the results are stored.\n",
      "9. **Print Results:** The script prints the solver status and the optimal values for the variables.\n",
      "\n",
      "Remember to install Pyomo and a suitable solver before running this code. You can often install them using `pip`:\n",
      "\n",
      "```bash\n",
      "pip install pyomo\n",
      "pip install cbc \n",
      "```\n",
      "\n",
      "Replace the sample data with your real values and run the code to find the optimal solution. \n",
      "\n"
     ]
    }
   ],
   "source": [
    "print(response4.text)"
   ]
  },
  {
   "cell_type": "code",
   "execution_count": null,
   "id": "bd046f37",
   "metadata": {},
   "outputs": [],
   "source": []
  }
 ],
 "metadata": {
  "kernelspec": {
   "display_name": "Python 3 (ipykernel)",
   "language": "python",
   "name": "python3"
  },
  "language_info": {
   "codemirror_mode": {
    "name": "ipython",
    "version": 3
   },
   "file_extension": ".py",
   "mimetype": "text/x-python",
   "name": "python",
   "nbconvert_exporter": "python",
   "pygments_lexer": "ipython3",
   "version": "3.11.4"
  }
 },
 "nbformat": 4,
 "nbformat_minor": 5
}
