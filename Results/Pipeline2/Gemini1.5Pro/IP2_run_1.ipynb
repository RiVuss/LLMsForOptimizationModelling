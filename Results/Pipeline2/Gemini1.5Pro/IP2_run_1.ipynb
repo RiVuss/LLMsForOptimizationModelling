{
 "cells": [
  {
   "cell_type": "markdown",
   "id": "f0005e9e",
   "metadata": {},
   "source": [
    "# LLM Optimization Modelling Experiment"
   ]
  },
  {
   "cell_type": "code",
   "execution_count": 1,
   "id": "7f664028",
   "metadata": {},
   "outputs": [],
   "source": [
    "import vertexai\n",
    "from vertexai.preview.generative_models import GenerativeModel, Image\n",
    "from IPython.display import Markdown"
   ]
  },
  {
   "cell_type": "markdown",
   "id": "f527d6af",
   "metadata": {},
   "source": [
    "## 1. Define the problem description"
   ]
  },
  {
   "cell_type": "code",
   "execution_count": 260,
   "id": "25055ffd",
   "metadata": {},
   "outputs": [],
   "source": [
    "problem = '''Your goal is to invest in several of 10 possible investment strategies in the most optimal way. The historic returns of those strategies are stored in the file \"investments_data.csv\". Each column represents one strategy and the rows are the past investment outcomes. There is no index and the values are separated by a ;.\n",
    "\n",
    "The costs for investing in a given investment is stored in a vector A, which has one value for each strategy in order.  \n",
    "The values are: [80, 340, 410, 50, 180, 221, 15, 348, 191, 225]\n",
    "\n",
    "You can only invest once into an investment. \n",
    "\n",
    "Unfortunately due to other costs and inflation, your available budget at this time is uncertain. There are four possible budget scenarios with different probabilities: scenario 1 with 1000 euros and probability of 0.55, scenario 2  with 1100 euros and probability of 0.4, scenario 3 with 900 euros and probability of 0.04, scenario 4 with 1200 euros and probability of 0.01. \n",
    "The tolerable probability of exceeding the budget is 0.4.\n",
    "\n",
    "Please formulate a mean-variance mathematical model for this optimization problem, considering the past performance of investment strategies and the uncertain budget. You can take 2 as the risk parameter r.'''"
   ]
  },
  {
   "cell_type": "markdown",
   "id": "472cf9ad",
   "metadata": {},
   "source": [
    "## 2. Ask for parameters"
   ]
  },
  {
   "cell_type": "code",
   "execution_count": 261,
   "id": "e31ec80c",
   "metadata": {},
   "outputs": [],
   "source": [
    "#Initializing the session. To replicate, make sure the right credentials are saved in a PATH variable\n",
    "PROJECT_ID = \"llm4optproblems\"\n",
    "REGION = \"us-central1\"\n",
    "vertexai.init(project=PROJECT_ID, location=REGION)\n",
    "\n",
    "#Specifying the model\n",
    "generative_multimodal_model = GenerativeModel(\"gemini-1.5-pro-preview-0409\")\n",
    "\n",
    "#The propmt applied to all problems\n",
    "prompt = '''Please formulate only the variables for this mathematical optimization problem. \n",
    "'''\n",
    "\n",
    "#Generate the response\n",
    "response = generative_multimodal_model.generate_content([prompt+problem])\n"
   ]
  },
  {
   "cell_type": "code",
   "execution_count": 262,
   "id": "f9adc567",
   "metadata": {},
   "outputs": [
    {
     "data": {
      "text/markdown": [
       "## Sets:\n",
       "*  **S:** Set of investment strategies (1, 2, ..., 10)\n",
       "*  **Ω:** Set of budget scenarios (1, 2, 3, 4)\n",
       "\n",
       "## Parameters:\n",
       "\n",
       "*  **R<sub>is</sub>:** Historical return of strategy *s* in period *i* (obtained from \"investments_data.csv\")\n",
       "*  **A<sub>s</sub>:** Cost of investing in strategy *s*  ( [80, 340, 410, 50, 180, 221, 15, 348, 191, 225] ) \n",
       "*  **B<sub>ω</sub>:** Available budget in scenario *ω* ([1000, 1100, 900, 1200])\n",
       "*  **P<sub>ω</sub>:** Probability of budget scenario *ω* ([0.55, 0.4, 0.04, 0.01])\n",
       "*  **α:** Tolerable probability of exceeding the budget (0.4)\n",
       "*  **r:** Risk parameter (2)\n",
       "\n",
       "## Decision Variables:\n",
       "\n",
       "*  **x<sub>s</sub>:** Binary variable equal to 1 if investment strategy *s* is selected, 0 otherwise \n",
       "\n"
      ],
      "text/plain": [
       "<IPython.core.display.Markdown object>"
      ]
     },
     "execution_count": 262,
     "metadata": {},
     "output_type": "execute_result"
    }
   ],
   "source": [
    "#Show the resopnse in a formatted way\n",
    "Markdown(response.text)"
   ]
  },
  {
   "cell_type": "markdown",
   "id": "15d9e89f",
   "metadata": {},
   "source": [
    "# 2. Ask for objective"
   ]
  },
  {
   "cell_type": "code",
   "execution_count": 263,
   "id": "4f357a19",
   "metadata": {},
   "outputs": [],
   "source": [
    "#Second prompt gets the output of the previous step and generates the code\n",
    "prompt2 = \"Please formulate only the objective function for this mathematical optimization problem.\"\n",
    "prompt2 += problem + response.text\n",
    "response2 = generative_multimodal_model.generate_content([prompt2])"
   ]
  },
  {
   "cell_type": "code",
   "execution_count": 264,
   "id": "bccd1014",
   "metadata": {},
   "outputs": [
    {
     "data": {
      "text/markdown": [
       "Minimize:  $\\sum_{i} \\frac{1}{|I|} (\\sum_{s \\in S} R_{is}x_s - \\sum_{i} \\frac{1}{|I|} \\sum_{s \\in S} R_{is}x_s)^2   + r * (\\sum_{s \\in S} A_s * x_s - \\sum_{\\omega \\in \\Omega} P_{\\omega}B_{\\omega})^2$ \n"
      ],
      "text/plain": [
       "<IPython.core.display.Markdown object>"
      ]
     },
     "execution_count": 264,
     "metadata": {},
     "output_type": "execute_result"
    }
   ],
   "source": [
    "Markdown(response2.text)"
   ]
  },
  {
   "cell_type": "markdown",
   "id": "d8ab1404",
   "metadata": {},
   "source": [
    "# 3. Ask for constraints"
   ]
  },
  {
   "cell_type": "code",
   "execution_count": 265,
   "id": "e6409951",
   "metadata": {},
   "outputs": [],
   "source": [
    "#Second prompt gets the output of the previous step and generates the code\n",
    "prompt3 = \"Please formulate only the constraints for this mathematical optimization problem.\"\n",
    "prompt3 += problem + response.text + response2.text\n",
    "response3 = generative_multimodal_model.generate_content([prompt3])"
   ]
  },
  {
   "cell_type": "code",
   "execution_count": 266,
   "id": "2f9439c2",
   "metadata": {},
   "outputs": [
    {
     "data": {
      "text/markdown": [
       "## Constraints:\n",
       "\n",
       "1. **Budget Constraint:** The total cost of selected investments cannot exceed the budget in any scenario with a probability higher than α.\n",
       "   \n",
       "   $  P \\{ \\sum_{s \\in S} A_s * x_s \\leq B_{\\omega} \\} \\geq 1 - \\alpha   \\qquad  \\forall \\omega \\in \\Omega $\n",
       "\n",
       "2. **Investment Uniqueness:** Each investment strategy can be selected at most once.\n",
       "\n",
       "   $ x_s \\in \\{0,1\\}  \\qquad \\forall s \\in S $ \n"
      ],
      "text/plain": [
       "<IPython.core.display.Markdown object>"
      ]
     },
     "execution_count": 266,
     "metadata": {},
     "output_type": "execute_result"
    }
   ],
   "source": [
    "Markdown(response3.text)"
   ]
  },
  {
   "cell_type": "code",
   "execution_count": null,
   "id": "07ba7f01",
   "metadata": {},
   "outputs": [],
   "source": []
  },
  {
   "cell_type": "markdown",
   "id": "75796979",
   "metadata": {},
   "source": [
    "## 3. Generate the pyomo code"
   ]
  },
  {
   "cell_type": "code",
   "execution_count": 267,
   "id": "aabea932",
   "metadata": {},
   "outputs": [],
   "source": [
    "#Second prompt gets the output of the previous step and generates the code\n",
    "prompt4 = \"Please write pyomo code for this mathematical problem. Use sample data where needed. Indicate where you use sample data. \\n\"\n",
    "prompt4 += response.text + response2.text + response3.text \n",
    "response4 = generative_multimodal_model.generate_content([prompt4])"
   ]
  },
  {
   "cell_type": "code",
   "execution_count": 268,
   "id": "fd2835af",
   "metadata": {},
   "outputs": [
    {
     "data": {
      "text/markdown": [
       "```python\n",
       "import pyomo.environ as pyo\n",
       "import pandas as pd\n",
       "\n",
       "# Sample data (replace with actual data from \"investments_data.csv\")\n",
       "data = {\n",
       "    'Period': [1, 1, 1, 1, 2, 2, 2, 2, 3, 3, 3, 3],\n",
       "    'Strategy': [1, 2, 3, 4, 1, 2, 3, 4, 1, 2, 3, 4],\n",
       "    'Return': [0.02, 0.05, -0.01, 0.03, 0.04, 0.06, -0.02, 0.01, 0.03, 0.08, -0.03, 0.02]\n",
       "}\n",
       "df_returns = pd.DataFrame(data)\n",
       "\n",
       "# Sets\n",
       "S = range(1, 11)  # Investment strategies\n",
       "Omega = range(1, 5)  # Budget scenarios\n",
       "\n",
       "# Parameters\n",
       "A = {s: [80, 340, 410, 50, 180, 221, 15, 348, 191, 225][s - 1] for s in S}  # Cost of investment\n",
       "B = {w: [1000, 1100, 900, 1200][w - 1] for w in Omega}  # Available budget\n",
       "P = {w: [0.55, 0.4, 0.04, 0.01][w - 1] for w in Omega}  # Probability of budget scenario\n",
       "alpha = 0.4  # Tolerable probability of exceeding the budget\n",
       "r = 2  # Risk parameter\n",
       "\n",
       "# Create a dictionary for historical returns R[i, s]\n",
       "R = {(row.Period, row.Strategy): row.Return for row in df_returns.itertuples()}\n",
       "\n",
       "# Model\n",
       "model = pyo.ConcreteModel()\n",
       "\n",
       "# Variables\n",
       "model.x = pyo.Var(S, within=pyo.Binary)  # Investment decision\n",
       "\n",
       "# Objective Function\n",
       "def objective_rule(model):\n",
       "    I = range(1, len(df_returns['Period'].unique()) + 1)  # Set of periods\n",
       "    return sum(\n",
       "        (1 / len(I)) * sum(R[i, s] * model.x[s] for s in S) -\n",
       "        (1 / len(I)) * sum(R[j, s] * model.x[s] for s in S) for i in I for j in I\n",
       "    ) ** 2 + r * (sum(A[s] * model.x[s] for s in S) - sum(P[w] * B[w] for w in Omega)) ** 2\n",
       "model.objective = pyo.Objective(rule=objective_rule, sense=pyo.minimize)\n",
       "\n",
       "# Constraints\n",
       "model.budget_constraint = pyo.ConstraintList()\n",
       "for w in Omega:\n",
       "    model.budget_constraint.add(\n",
       "        expr=sum(A[s] * model.x[s] for s in S) <= B[w] + (1 - P[w]) / P[w] * (sum(A[s] for s in S))\n",
       "    )\n",
       "\n",
       "# Solve the model\n",
       "solver = pyo.SolverFactory('cbc')  # Choose a suitable solver\n",
       "results = solver.solve(model)\n",
       "\n",
       "# Print results\n",
       "print(results)\n",
       "print(\"Objective:\", model.objective())\n",
       "for s in S:\n",
       "    if pyo.value(model.x[s]) > 0.5:\n",
       "        print(f\"Invest in strategy {s}\")\n",
       "```\n",
       "\n",
       "**Explanation:**\n",
       "\n",
       "1. **Import Libraries:** Import the necessary libraries, including `pyomo` for optimization modeling and `pandas` for data manipulation.\n",
       "\n",
       "2. **Data Preparation:**\n",
       "   - Load the historical returns data from the \"investments_data.csv\" file using `pandas`.\n",
       "   - Define other parameters (A, B, P, alpha, r) based on the provided information.\n",
       "   - Prepare the return data (R) in a dictionary format for easier access in the model.\n",
       "\n",
       "3. **Model Creation:** Create a concrete model using `pyo.ConcreteModel()`.\n",
       "\n",
       "4. **Decision Variables:** Define the binary decision variable `x[s]` representing whether to invest in strategy *s* or not.\n",
       "\n",
       "5. **Objective Function:** Formulate the objective function based on the provided formula, calculating the variance of returns and the penalty for exceeding the budget.\n",
       "\n",
       "6. **Constraints:**\n",
       "   - Implement the budget constraint using the probabilistic formulation provided.\n",
       "   - Add a constraint to ensure that each investment strategy can be selected at most once.\n",
       "\n",
       "7. **Solver:** Choose a solver (e.g., 'cbc', 'gurobi', etc.) using `pyo.SolverFactory`.\n",
       "\n",
       "8. **Solution:** Solve the model using the selected solver and store the results.\n",
       "\n",
       "9. **Output:** Print the solver's status, the optimal objective value, and the selected investment strategies.\n",
       "\n",
       "Remember to replace the sample data for `R` with your actual data from the \"investments_data.csv\" file."
      ],
      "text/plain": [
       "<IPython.core.display.Markdown object>"
      ]
     },
     "execution_count": 268,
     "metadata": {},
     "output_type": "execute_result"
    }
   ],
   "source": [
    "#Showing the code in a formatted way\n",
    "Markdown(response4.text)"
   ]
  },
  {
   "cell_type": "markdown",
   "id": "b60756ae",
   "metadata": {},
   "source": [
    "## 4. Input problem data and try running the generated code"
   ]
  },
  {
   "cell_type": "code",
   "execution_count": 269,
   "id": "41ed7d93",
   "metadata": {},
   "outputs": [
    {
     "name": "stdout",
     "output_type": "stream",
     "text": [
      "ERROR: Rule failed when generating expression for Objective objective with\n",
      "index None: KeyError: (1, 5)\n",
      "ERROR: Constructing component 'objective' from data=None failed:\n",
      "        KeyError: (1, 5)\n"
     ]
    },
    {
     "ename": "KeyError",
     "evalue": "(1, 5)",
     "output_type": "error",
     "traceback": [
      "\u001b[1;31m---------------------------------------------------------------------------\u001b[0m",
      "\u001b[1;31mKeyError\u001b[0m                                  Traceback (most recent call last)",
      "Cell \u001b[1;32mIn[269], line 39\u001b[0m\n\u001b[0;32m     34\u001b[0m     I \u001b[38;5;241m=\u001b[39m \u001b[38;5;28mrange\u001b[39m(\u001b[38;5;241m1\u001b[39m, \u001b[38;5;28mlen\u001b[39m(df_returns[\u001b[38;5;124m'\u001b[39m\u001b[38;5;124mPeriod\u001b[39m\u001b[38;5;124m'\u001b[39m]\u001b[38;5;241m.\u001b[39munique()) \u001b[38;5;241m+\u001b[39m \u001b[38;5;241m1\u001b[39m)  \u001b[38;5;66;03m# Set of periods\u001b[39;00m\n\u001b[0;32m     35\u001b[0m     \u001b[38;5;28;01mreturn\u001b[39;00m \u001b[38;5;28msum\u001b[39m(\n\u001b[0;32m     36\u001b[0m         (\u001b[38;5;241m1\u001b[39m \u001b[38;5;241m/\u001b[39m \u001b[38;5;28mlen\u001b[39m(I)) \u001b[38;5;241m*\u001b[39m \u001b[38;5;28msum\u001b[39m(R[i, s] \u001b[38;5;241m*\u001b[39m model\u001b[38;5;241m.\u001b[39mx[s] \u001b[38;5;28;01mfor\u001b[39;00m s \u001b[38;5;129;01min\u001b[39;00m S) \u001b[38;5;241m-\u001b[39m\n\u001b[0;32m     37\u001b[0m         (\u001b[38;5;241m1\u001b[39m \u001b[38;5;241m/\u001b[39m \u001b[38;5;28mlen\u001b[39m(I)) \u001b[38;5;241m*\u001b[39m \u001b[38;5;28msum\u001b[39m(R[j, s] \u001b[38;5;241m*\u001b[39m model\u001b[38;5;241m.\u001b[39mx[s] \u001b[38;5;28;01mfor\u001b[39;00m s \u001b[38;5;129;01min\u001b[39;00m S) \u001b[38;5;28;01mfor\u001b[39;00m i \u001b[38;5;129;01min\u001b[39;00m I \u001b[38;5;28;01mfor\u001b[39;00m j \u001b[38;5;129;01min\u001b[39;00m I\n\u001b[0;32m     38\u001b[0m     ) \u001b[38;5;241m*\u001b[39m\u001b[38;5;241m*\u001b[39m \u001b[38;5;241m2\u001b[39m \u001b[38;5;241m+\u001b[39m r \u001b[38;5;241m*\u001b[39m (\u001b[38;5;28msum\u001b[39m(A[s] \u001b[38;5;241m*\u001b[39m model\u001b[38;5;241m.\u001b[39mx[s] \u001b[38;5;28;01mfor\u001b[39;00m s \u001b[38;5;129;01min\u001b[39;00m S) \u001b[38;5;241m-\u001b[39m \u001b[38;5;28msum\u001b[39m(P[w] \u001b[38;5;241m*\u001b[39m B[w] \u001b[38;5;28;01mfor\u001b[39;00m w \u001b[38;5;129;01min\u001b[39;00m Omega)) \u001b[38;5;241m*\u001b[39m\u001b[38;5;241m*\u001b[39m \u001b[38;5;241m2\u001b[39m\n\u001b[1;32m---> 39\u001b[0m model\u001b[38;5;241m.\u001b[39mobjective \u001b[38;5;241m=\u001b[39m pyo\u001b[38;5;241m.\u001b[39mObjective(rule\u001b[38;5;241m=\u001b[39mobjective_rule, sense\u001b[38;5;241m=\u001b[39mpyo\u001b[38;5;241m.\u001b[39mminimize)\n\u001b[0;32m     41\u001b[0m \u001b[38;5;66;03m# Constraints\u001b[39;00m\n\u001b[0;32m     42\u001b[0m model\u001b[38;5;241m.\u001b[39mbudget_constraint \u001b[38;5;241m=\u001b[39m pyo\u001b[38;5;241m.\u001b[39mConstraintList()\n",
      "File \u001b[1;32m~\\anaconda3\\Lib\\site-packages\\pyomo\\core\\base\\block.py:568\u001b[0m, in \u001b[0;36m_BlockData.__setattr__\u001b[1;34m(self, name, val)\u001b[0m\n\u001b[0;32m    563\u001b[0m \u001b[38;5;28;01mif\u001b[39;00m name \u001b[38;5;129;01mnot\u001b[39;00m \u001b[38;5;129;01min\u001b[39;00m \u001b[38;5;28mself\u001b[39m\u001b[38;5;241m.\u001b[39m\u001b[38;5;18m__dict__\u001b[39m:\n\u001b[0;32m    564\u001b[0m     \u001b[38;5;28;01mif\u001b[39;00m \u001b[38;5;28misinstance\u001b[39m(val, Component):\n\u001b[0;32m    565\u001b[0m         \u001b[38;5;66;03m#\u001b[39;00m\n\u001b[0;32m    566\u001b[0m         \u001b[38;5;66;03m# Pyomo components are added with the add_component method.\u001b[39;00m\n\u001b[0;32m    567\u001b[0m         \u001b[38;5;66;03m#\u001b[39;00m\n\u001b[1;32m--> 568\u001b[0m         \u001b[38;5;28mself\u001b[39m\u001b[38;5;241m.\u001b[39madd_component(name, val)\n\u001b[0;32m    569\u001b[0m     \u001b[38;5;28;01melse\u001b[39;00m:\n\u001b[0;32m    570\u001b[0m         \u001b[38;5;66;03m#\u001b[39;00m\n\u001b[0;32m    571\u001b[0m         \u001b[38;5;66;03m# Other Python objects are added with the standard __setattr__\u001b[39;00m\n\u001b[0;32m    572\u001b[0m         \u001b[38;5;66;03m# method.\u001b[39;00m\n\u001b[0;32m    573\u001b[0m         \u001b[38;5;66;03m#\u001b[39;00m\n\u001b[0;32m    574\u001b[0m         \u001b[38;5;28msuper\u001b[39m(_BlockData, \u001b[38;5;28mself\u001b[39m)\u001b[38;5;241m.\u001b[39m\u001b[38;5;21m__setattr__\u001b[39m(name, val)\n",
      "File \u001b[1;32m~\\anaconda3\\Lib\\site-packages\\pyomo\\core\\base\\block.py:1126\u001b[0m, in \u001b[0;36m_BlockData.add_component\u001b[1;34m(self, name, val)\u001b[0m\n\u001b[0;32m   1118\u001b[0m     logger\u001b[38;5;241m.\u001b[39mdebug(\n\u001b[0;32m   1119\u001b[0m         \u001b[38;5;124m\"\u001b[39m\u001b[38;5;124mConstructing \u001b[39m\u001b[38;5;132;01m%s\u001b[39;00m\u001b[38;5;124m \u001b[39m\u001b[38;5;124m'\u001b[39m\u001b[38;5;132;01m%s\u001b[39;00m\u001b[38;5;124m'\u001b[39m\u001b[38;5;124m on \u001b[39m\u001b[38;5;132;01m%s\u001b[39;00m\u001b[38;5;124m from data=\u001b[39m\u001b[38;5;132;01m%s\u001b[39;00m\u001b[38;5;124m\"\u001b[39m,\n\u001b[0;32m   1120\u001b[0m         val\u001b[38;5;241m.\u001b[39m\u001b[38;5;18m__class__\u001b[39m\u001b[38;5;241m.\u001b[39m\u001b[38;5;18m__name__\u001b[39m,\n\u001b[1;32m   (...)\u001b[0m\n\u001b[0;32m   1123\u001b[0m         \u001b[38;5;28mstr\u001b[39m(data),\n\u001b[0;32m   1124\u001b[0m     )\n\u001b[0;32m   1125\u001b[0m \u001b[38;5;28;01mtry\u001b[39;00m:\n\u001b[1;32m-> 1126\u001b[0m     val\u001b[38;5;241m.\u001b[39mconstruct(data)\n\u001b[0;32m   1127\u001b[0m \u001b[38;5;28;01mexcept\u001b[39;00m:\n\u001b[0;32m   1128\u001b[0m     err \u001b[38;5;241m=\u001b[39m sys\u001b[38;5;241m.\u001b[39mexc_info()[\u001b[38;5;241m1\u001b[39m]\n",
      "File \u001b[1;32m~\\anaconda3\\Lib\\site-packages\\pyomo\\core\\base\\objective.py:318\u001b[0m, in \u001b[0;36mObjective.construct\u001b[1;34m(self, data)\u001b[0m\n\u001b[0;32m    315\u001b[0m \u001b[38;5;28;01melse\u001b[39;00m:\n\u001b[0;32m    316\u001b[0m     \u001b[38;5;66;03m# Bypass the index validation and create the member directly\u001b[39;00m\n\u001b[0;32m    317\u001b[0m     \u001b[38;5;28;01mfor\u001b[39;00m index \u001b[38;5;129;01min\u001b[39;00m \u001b[38;5;28mself\u001b[39m\u001b[38;5;241m.\u001b[39mindex_set():\n\u001b[1;32m--> 318\u001b[0m         ans \u001b[38;5;241m=\u001b[39m \u001b[38;5;28mself\u001b[39m\u001b[38;5;241m.\u001b[39m_setitem_when_not_present(index, rule(block, index))\n\u001b[0;32m    319\u001b[0m         \u001b[38;5;28;01mif\u001b[39;00m ans \u001b[38;5;129;01mis\u001b[39;00m \u001b[38;5;129;01mnot\u001b[39;00m \u001b[38;5;28;01mNone\u001b[39;00m:\n\u001b[0;32m    320\u001b[0m             ans\u001b[38;5;241m.\u001b[39mset_sense(\u001b[38;5;28mself\u001b[39m\u001b[38;5;241m.\u001b[39m_init_sense(block, index))\n",
      "File \u001b[1;32m~\\anaconda3\\Lib\\site-packages\\pyomo\\core\\base\\initializer.py:438\u001b[0m, in \u001b[0;36mScalarCallInitializer.__call__\u001b[1;34m(self, parent, idx)\u001b[0m\n\u001b[0;32m    437\u001b[0m \u001b[38;5;28;01mdef\u001b[39;00m \u001b[38;5;21m__call__\u001b[39m(\u001b[38;5;28mself\u001b[39m, parent, idx):\n\u001b[1;32m--> 438\u001b[0m     \u001b[38;5;28;01mreturn\u001b[39;00m \u001b[38;5;28mself\u001b[39m\u001b[38;5;241m.\u001b[39m_fcn(parent)\n",
      "Cell \u001b[1;32mIn[269], line 35\u001b[0m, in \u001b[0;36mobjective_rule\u001b[1;34m(model)\u001b[0m\n\u001b[0;32m     33\u001b[0m \u001b[38;5;28;01mdef\u001b[39;00m \u001b[38;5;21mobjective_rule\u001b[39m(model):\n\u001b[0;32m     34\u001b[0m     I \u001b[38;5;241m=\u001b[39m \u001b[38;5;28mrange\u001b[39m(\u001b[38;5;241m1\u001b[39m, \u001b[38;5;28mlen\u001b[39m(df_returns[\u001b[38;5;124m'\u001b[39m\u001b[38;5;124mPeriod\u001b[39m\u001b[38;5;124m'\u001b[39m]\u001b[38;5;241m.\u001b[39munique()) \u001b[38;5;241m+\u001b[39m \u001b[38;5;241m1\u001b[39m)  \u001b[38;5;66;03m# Set of periods\u001b[39;00m\n\u001b[1;32m---> 35\u001b[0m     \u001b[38;5;28;01mreturn\u001b[39;00m \u001b[38;5;28msum\u001b[39m(\n\u001b[0;32m     36\u001b[0m         (\u001b[38;5;241m1\u001b[39m \u001b[38;5;241m/\u001b[39m \u001b[38;5;28mlen\u001b[39m(I)) \u001b[38;5;241m*\u001b[39m \u001b[38;5;28msum\u001b[39m(R[i, s] \u001b[38;5;241m*\u001b[39m model\u001b[38;5;241m.\u001b[39mx[s] \u001b[38;5;28;01mfor\u001b[39;00m s \u001b[38;5;129;01min\u001b[39;00m S) \u001b[38;5;241m-\u001b[39m\n\u001b[0;32m     37\u001b[0m         (\u001b[38;5;241m1\u001b[39m \u001b[38;5;241m/\u001b[39m \u001b[38;5;28mlen\u001b[39m(I)) \u001b[38;5;241m*\u001b[39m \u001b[38;5;28msum\u001b[39m(R[j, s] \u001b[38;5;241m*\u001b[39m model\u001b[38;5;241m.\u001b[39mx[s] \u001b[38;5;28;01mfor\u001b[39;00m s \u001b[38;5;129;01min\u001b[39;00m S) \u001b[38;5;28;01mfor\u001b[39;00m i \u001b[38;5;129;01min\u001b[39;00m I \u001b[38;5;28;01mfor\u001b[39;00m j \u001b[38;5;129;01min\u001b[39;00m I\n\u001b[0;32m     38\u001b[0m     ) \u001b[38;5;241m*\u001b[39m\u001b[38;5;241m*\u001b[39m \u001b[38;5;241m2\u001b[39m \u001b[38;5;241m+\u001b[39m r \u001b[38;5;241m*\u001b[39m (\u001b[38;5;28msum\u001b[39m(A[s] \u001b[38;5;241m*\u001b[39m model\u001b[38;5;241m.\u001b[39mx[s] \u001b[38;5;28;01mfor\u001b[39;00m s \u001b[38;5;129;01min\u001b[39;00m S) \u001b[38;5;241m-\u001b[39m \u001b[38;5;28msum\u001b[39m(P[w] \u001b[38;5;241m*\u001b[39m B[w] \u001b[38;5;28;01mfor\u001b[39;00m w \u001b[38;5;129;01min\u001b[39;00m Omega)) \u001b[38;5;241m*\u001b[39m\u001b[38;5;241m*\u001b[39m \u001b[38;5;241m2\u001b[39m\n",
      "Cell \u001b[1;32mIn[269], line 36\u001b[0m, in \u001b[0;36m<genexpr>\u001b[1;34m(.0)\u001b[0m\n\u001b[0;32m     33\u001b[0m \u001b[38;5;28;01mdef\u001b[39;00m \u001b[38;5;21mobjective_rule\u001b[39m(model):\n\u001b[0;32m     34\u001b[0m     I \u001b[38;5;241m=\u001b[39m \u001b[38;5;28mrange\u001b[39m(\u001b[38;5;241m1\u001b[39m, \u001b[38;5;28mlen\u001b[39m(df_returns[\u001b[38;5;124m'\u001b[39m\u001b[38;5;124mPeriod\u001b[39m\u001b[38;5;124m'\u001b[39m]\u001b[38;5;241m.\u001b[39munique()) \u001b[38;5;241m+\u001b[39m \u001b[38;5;241m1\u001b[39m)  \u001b[38;5;66;03m# Set of periods\u001b[39;00m\n\u001b[0;32m     35\u001b[0m     \u001b[38;5;28;01mreturn\u001b[39;00m \u001b[38;5;28msum\u001b[39m(\n\u001b[1;32m---> 36\u001b[0m         (\u001b[38;5;241m1\u001b[39m \u001b[38;5;241m/\u001b[39m \u001b[38;5;28mlen\u001b[39m(I)) \u001b[38;5;241m*\u001b[39m \u001b[38;5;28msum\u001b[39m(R[i, s] \u001b[38;5;241m*\u001b[39m model\u001b[38;5;241m.\u001b[39mx[s] \u001b[38;5;28;01mfor\u001b[39;00m s \u001b[38;5;129;01min\u001b[39;00m S) \u001b[38;5;241m-\u001b[39m\n\u001b[0;32m     37\u001b[0m         (\u001b[38;5;241m1\u001b[39m \u001b[38;5;241m/\u001b[39m \u001b[38;5;28mlen\u001b[39m(I)) \u001b[38;5;241m*\u001b[39m \u001b[38;5;28msum\u001b[39m(R[j, s] \u001b[38;5;241m*\u001b[39m model\u001b[38;5;241m.\u001b[39mx[s] \u001b[38;5;28;01mfor\u001b[39;00m s \u001b[38;5;129;01min\u001b[39;00m S) \u001b[38;5;28;01mfor\u001b[39;00m i \u001b[38;5;129;01min\u001b[39;00m I \u001b[38;5;28;01mfor\u001b[39;00m j \u001b[38;5;129;01min\u001b[39;00m I\n\u001b[0;32m     38\u001b[0m     ) \u001b[38;5;241m*\u001b[39m\u001b[38;5;241m*\u001b[39m \u001b[38;5;241m2\u001b[39m \u001b[38;5;241m+\u001b[39m r \u001b[38;5;241m*\u001b[39m (\u001b[38;5;28msum\u001b[39m(A[s] \u001b[38;5;241m*\u001b[39m model\u001b[38;5;241m.\u001b[39mx[s] \u001b[38;5;28;01mfor\u001b[39;00m s \u001b[38;5;129;01min\u001b[39;00m S) \u001b[38;5;241m-\u001b[39m \u001b[38;5;28msum\u001b[39m(P[w] \u001b[38;5;241m*\u001b[39m B[w] \u001b[38;5;28;01mfor\u001b[39;00m w \u001b[38;5;129;01min\u001b[39;00m Omega)) \u001b[38;5;241m*\u001b[39m\u001b[38;5;241m*\u001b[39m \u001b[38;5;241m2\u001b[39m\n",
      "Cell \u001b[1;32mIn[269], line 36\u001b[0m, in \u001b[0;36m<genexpr>\u001b[1;34m(.0)\u001b[0m\n\u001b[0;32m     33\u001b[0m \u001b[38;5;28;01mdef\u001b[39;00m \u001b[38;5;21mobjective_rule\u001b[39m(model):\n\u001b[0;32m     34\u001b[0m     I \u001b[38;5;241m=\u001b[39m \u001b[38;5;28mrange\u001b[39m(\u001b[38;5;241m1\u001b[39m, \u001b[38;5;28mlen\u001b[39m(df_returns[\u001b[38;5;124m'\u001b[39m\u001b[38;5;124mPeriod\u001b[39m\u001b[38;5;124m'\u001b[39m]\u001b[38;5;241m.\u001b[39munique()) \u001b[38;5;241m+\u001b[39m \u001b[38;5;241m1\u001b[39m)  \u001b[38;5;66;03m# Set of periods\u001b[39;00m\n\u001b[0;32m     35\u001b[0m     \u001b[38;5;28;01mreturn\u001b[39;00m \u001b[38;5;28msum\u001b[39m(\n\u001b[1;32m---> 36\u001b[0m         (\u001b[38;5;241m1\u001b[39m \u001b[38;5;241m/\u001b[39m \u001b[38;5;28mlen\u001b[39m(I)) \u001b[38;5;241m*\u001b[39m \u001b[38;5;28msum\u001b[39m(R[i, s] \u001b[38;5;241m*\u001b[39m model\u001b[38;5;241m.\u001b[39mx[s] \u001b[38;5;28;01mfor\u001b[39;00m s \u001b[38;5;129;01min\u001b[39;00m S) \u001b[38;5;241m-\u001b[39m\n\u001b[0;32m     37\u001b[0m         (\u001b[38;5;241m1\u001b[39m \u001b[38;5;241m/\u001b[39m \u001b[38;5;28mlen\u001b[39m(I)) \u001b[38;5;241m*\u001b[39m \u001b[38;5;28msum\u001b[39m(R[j, s] \u001b[38;5;241m*\u001b[39m model\u001b[38;5;241m.\u001b[39mx[s] \u001b[38;5;28;01mfor\u001b[39;00m s \u001b[38;5;129;01min\u001b[39;00m S) \u001b[38;5;28;01mfor\u001b[39;00m i \u001b[38;5;129;01min\u001b[39;00m I \u001b[38;5;28;01mfor\u001b[39;00m j \u001b[38;5;129;01min\u001b[39;00m I\n\u001b[0;32m     38\u001b[0m     ) \u001b[38;5;241m*\u001b[39m\u001b[38;5;241m*\u001b[39m \u001b[38;5;241m2\u001b[39m \u001b[38;5;241m+\u001b[39m r \u001b[38;5;241m*\u001b[39m (\u001b[38;5;28msum\u001b[39m(A[s] \u001b[38;5;241m*\u001b[39m model\u001b[38;5;241m.\u001b[39mx[s] \u001b[38;5;28;01mfor\u001b[39;00m s \u001b[38;5;129;01min\u001b[39;00m S) \u001b[38;5;241m-\u001b[39m \u001b[38;5;28msum\u001b[39m(P[w] \u001b[38;5;241m*\u001b[39m B[w] \u001b[38;5;28;01mfor\u001b[39;00m w \u001b[38;5;129;01min\u001b[39;00m Omega)) \u001b[38;5;241m*\u001b[39m\u001b[38;5;241m*\u001b[39m \u001b[38;5;241m2\u001b[39m\n",
      "\u001b[1;31mKeyError\u001b[0m: (1, 5)"
     ]
    }
   ],
   "source": [
    "import pyomo.environ as pyo\n",
    "import pandas as pd\n",
    "\n",
    "# Sample data (replace with actual data from \"investments_data.csv\")\n",
    "data = {\n",
    "    'Period': [1, 1, 1, 1, 2, 2, 2, 2, 3, 3, 3, 3],\n",
    "    'Strategy': [1, 2, 3, 4, 1, 2, 3, 4, 1, 2, 3, 4],\n",
    "    'Return': [0.02, 0.05, -0.01, 0.03, 0.04, 0.06, -0.02, 0.01, 0.03, 0.08, -0.03, 0.02]\n",
    "}\n",
    "df_returns = pd.DataFrame(data)\n",
    "\n",
    "# Sets\n",
    "S = range(1, 11)  # Investment strategies\n",
    "Omega = range(1, 5)  # Budget scenarios\n",
    "\n",
    "# Parameters\n",
    "A = {s: [80, 340, 410, 50, 180, 221, 15, 348, 191, 225][s - 1] for s in S}  # Cost of investment\n",
    "B = {w: [1000, 1100, 900, 1200][w - 1] for w in Omega}  # Available budget\n",
    "P = {w: [0.55, 0.4, 0.04, 0.01][w - 1] for w in Omega}  # Probability of budget scenario\n",
    "alpha = 0.4  # Tolerable probability of exceeding the budget\n",
    "r = 2  # Risk parameter\n",
    "\n",
    "# Create a dictionary for historical returns R[i, s]\n",
    "R = {(row.Period, row.Strategy): row.Return for row in df_returns.itertuples()}\n",
    "\n",
    "# Model\n",
    "model = pyo.ConcreteModel()\n",
    "\n",
    "# Variables\n",
    "model.x = pyo.Var(S, within=pyo.Binary)  # Investment decision\n",
    "\n",
    "# Objective Function\n",
    "def objective_rule(model):\n",
    "    I = range(1, len(df_returns['Period'].unique()) + 1)  # Set of periods\n",
    "    return sum(\n",
    "        (1 / len(I)) * sum(R[i, s] * model.x[s] for s in S) -\n",
    "        (1 / len(I)) * sum(R[j, s] * model.x[s] for s in S) for i in I for j in I\n",
    "    ) ** 2 + r * (sum(A[s] * model.x[s] for s in S) - sum(P[w] * B[w] for w in Omega)) ** 2\n",
    "model.objective = pyo.Objective(rule=objective_rule, sense=pyo.minimize)\n",
    "\n",
    "# Constraints\n",
    "model.budget_constraint = pyo.ConstraintList()\n",
    "for w in Omega:\n",
    "    model.budget_constraint.add(\n",
    "        expr=sum(A[s] * model.x[s] for s in S) <= B[w] + (1 - P[w]) / P[w] * (sum(A[s] for s in S))\n",
    "    )\n",
    "\n",
    "# Solve the model\n",
    "solver = pyo.SolverFactory('cbc')  # Choose a suitable solver\n",
    "results = solver.solve(model)\n",
    "\n",
    "# Print results\n",
    "print(results)\n",
    "print(\"Objective:\", model.objective())\n",
    "for s in S:\n",
    "    if pyo.value(model.x[s]) > 0.5:\n",
    "        print(f\"Invest in strategy {s}\")"
   ]
  },
  {
   "cell_type": "markdown",
   "id": "1be0926e",
   "metadata": {},
   "source": [
    "## 5. Correct the code to verify model viability (optional)"
   ]
  },
  {
   "cell_type": "code",
   "execution_count": 283,
   "id": "8b37acfc",
   "metadata": {},
   "outputs": [
    {
     "name": "stdout",
     "output_type": "stream",
     "text": [
      "\n",
      "Problem: \n",
      "- Lower bound: -inf\n",
      "  Upper bound: inf\n",
      "  Number of objectives: 1\n",
      "  Number of constraints: 4\n",
      "  Number of variables: 10\n",
      "  Sense: unknown\n",
      "Solver: \n",
      "- Status: ok\n",
      "  Message: Ipopt 3.11.1\\x3a Optimal Solution Found\n",
      "  Termination condition: optimal\n",
      "  Id: 0\n",
      "  Error rc: 0\n",
      "  Time: 0.039338111877441406\n",
      "Solution: \n",
      "- number of solutions: 0\n",
      "  number of solutions displayed: 0\n",
      "\n",
      "Objective: 2.5063436008950844e-16\n",
      "Invest in strategy 1\n",
      "Invest in strategy 2\n",
      "Invest in strategy 3\n",
      "Invest in strategy 4\n",
      "Invest in strategy 5\n",
      "Invest in strategy 6\n",
      "Invest in strategy 7\n",
      "Invest in strategy 8\n",
      "Invest in strategy 9\n",
      "Invest in strategy 10\n"
     ]
    }
   ],
   "source": [
    "import pyomo.environ as pyo\n",
    "import pandas as pd\n",
    "\n",
    "# Sample data (replace with actual data from \"investments_data.csv\")\n",
    "# data = {\n",
    "#     'Period':  [1, 1, 1, 1, 2, 2, 2, 2, 3, 3, 3, 3],\n",
    "#     'Strategy': [1, 2, 3, 4, 1, 2, 3, 4, 1, 2, 3, 4],\n",
    "#     'Return': [0.02, 0.05, -0.01, 0.03, 0.04, 0.06, -0.02, 0.01, 0.03, 0.08, -0.03, 0.02]\n",
    "# }\n",
    "# df_returns = pd.DataFrame(data)\n",
    "\n",
    "\n",
    "def transform_investment_data(file_path):\n",
    "    # Read the CSV file with the specified delimiter\n",
    "    df = pd.read_csv(file_path, delimiter=';')\n",
    "    \n",
    "    # Get the number of strategies (columns in the CSV file)\n",
    "    num_strategies = df.shape[1]\n",
    "    \n",
    "    # Prepare the data dictionary\n",
    "    data = {\n",
    "        'Period': [],\n",
    "        'Strategy': [],\n",
    "        'Return': []\n",
    "    }\n",
    "    \n",
    "    # Populate the data dictionary\n",
    "    for period in range(len(df)):\n",
    "        for strategy in range(num_strategies):\n",
    "            data['Period'].append(period + 1)\n",
    "            data['Strategy'].append(strategy + 1)\n",
    "            data['Return'].append(df.iloc[period, strategy])\n",
    "    \n",
    "    # Create the DataFrame\n",
    "    df_returns = pd.DataFrame(data)\n",
    "    \n",
    "    return df_returns\n",
    "\n",
    "# Example usage:\n",
    "file_path = 'investments_data.csv'\n",
    "df_returns = transform_investment_data(file_path)\n",
    "\n",
    "# Sets\n",
    "S = range(1, 11)  # Investment strategies\n",
    "Omega = range(1, 5)  # Budget scenarios\n",
    "\n",
    "# Parameters\n",
    "A = {s: [80, 340, 410, 50, 180, 221, 15, 348, 191, 225][s - 1] for s in S}  # Cost of investment\n",
    "B = {w: [1000, 1100, 900, 1200][w - 1] for w in Omega}  # Available budget\n",
    "P = {w: [0.55, 0.4, 0.04, 0.01][w - 1] for w in Omega}  # Probability of budget scenario\n",
    "alpha = 0.4  # Tolerable probability of exceeding the budget\n",
    "r = 2  # Risk parameter\n",
    "\n",
    "# Create a dictionary for historical returns R[i, s]\n",
    "R = {(row.Period, row.Strategy): row.Return for row in df_returns.itertuples()}\n",
    "\n",
    "# Model\n",
    "model = pyo.ConcreteModel()\n",
    "\n",
    "# Variables\n",
    "model.x = pyo.Var(S, within=pyo.Binary)  # Investment decision\n",
    "\n",
    "# Objective Function\n",
    "def objective_rule(model):\n",
    "    I = range(1, len(df_returns['Period'].unique()) + 1)  # Set of periods\n",
    "    return sum(\n",
    "        (1 / len(I)) * sum(R[i, s] * model.x[s] for s in S) -\n",
    "        (1 / len(I)) * sum(R[j, s] * model.x[s] for s in S) for i in I for j in I\n",
    "    ) ** 2 + r * (sum(A[s] * model.x[s] for s in S) - sum(P[w] * B[w] for w in Omega)) ** 2\n",
    "model.objective = pyo.Objective(rule=objective_rule, sense=pyo.minimize)\n",
    "\n",
    "# Constraints\n",
    "model.budget_constraint = pyo.ConstraintList()\n",
    "for w in Omega:\n",
    "    model.budget_constraint.add(\n",
    "        expr=sum(A[s] * model.x[s] for s in S) <= B[w] + (1 - P[w]) / P[w] * (sum(A[s] for s in S))\n",
    "    )\n",
    "\n",
    "# Solve the model\n",
    "solver = pyo.SolverFactory('ipopt')  # Choose a suitable solver\n",
    "results = solver.solve(model)\n",
    "\n",
    "# Print results\n",
    "print(results)\n",
    "print(\"Objective:\", model.objective())\n",
    "for s in S:\n",
    "    if pyo.value(model.x[s]) > 0.5:\n",
    "        print(f\"Invest in strategy {s}\")"
   ]
  },
  {
   "cell_type": "markdown",
   "id": "41edaaa9",
   "metadata": {},
   "source": [
    "## 6. Print the responses"
   ]
  },
  {
   "cell_type": "code",
   "execution_count": 256,
   "id": "5fa11c20",
   "metadata": {},
   "outputs": [
    {
     "name": "stdout",
     "output_type": "stream",
     "text": [
      "## Variables:\n",
      "\n",
      "* **X1:**  Number of 1.5L COLI units produced daily. \n",
      "* **X2:** Number of 1.5L PEPSA units produced daily.\n",
      "* **Y:** Hectoliters of syrup purchased and processed daily. \n",
      "\n"
     ]
    }
   ],
   "source": [
    "print(response.text)"
   ]
  },
  {
   "cell_type": "code",
   "execution_count": 257,
   "id": "b48115d2",
   "metadata": {},
   "outputs": [
    {
     "name": "stdout",
     "output_type": "stream",
     "text": [
      "Maximize:  49000 * X1 - X1^2 + 30 * X2 - 2 * X2^2 - 150 * Y \n",
      "\n"
     ]
    }
   ],
   "source": [
    "print(response2.text)"
   ]
  },
  {
   "cell_type": "code",
   "execution_count": 258,
   "id": "7db3f406",
   "metadata": {},
   "outputs": [
    {
     "name": "stdout",
     "output_type": "stream",
     "text": [
      "## Constraints:\n",
      "\n",
      "1. **Syrup Conversion:** \n",
      "   *  X1 <= 40 * Y  (Maximum COLI units from Y hectoliters of syrup)\n",
      "   *  X2 <= 20 * Y  (Maximum PEPSA units from Y hectoliters of syrup) \n",
      "\n",
      "2. **Production Line Capacity:**\n",
      "   *  X1 + X2 <= 7100 * 8  (Total units produced daily cannot exceed line capacity)\n",
      "\n",
      "3. **Minimum PEPSA Production:**\n",
      "   *  X2 >= 0.5 * X1 (At least half the amount of COLI must be PEPSA)\n",
      "\n",
      "4. **Non-Negativity:**\n",
      "   *  X1 >= 0 \n",
      "   *  X2 >= 0\n",
      "   *  Y >= 0 \n",
      "\n"
     ]
    }
   ],
   "source": [
    "print(response3.text)"
   ]
  },
  {
   "cell_type": "code",
   "execution_count": 259,
   "id": "2d075d56",
   "metadata": {},
   "outputs": [
    {
     "name": "stdout",
     "output_type": "stream",
     "text": [
      "```python\n",
      "from pyomo.environ import *\n",
      "\n",
      "# Create a concrete model\n",
      "model = ConcreteModel()\n",
      "\n",
      "# Define variables\n",
      "model.X1 = Var(domain=NonNegativeReals)  # Number of 1.5L COLI units produced daily\n",
      "model.X2 = Var(domain=NonNegativeReals)  # Number of 1.5L PEPSA units produced daily\n",
      "model.Y = Var(domain=NonNegativeReals)  # Hectoliters of syrup purchased and processed daily\n",
      "\n",
      "# Define objective function\n",
      "def objective_rule(model):\n",
      "    return 49000 * model.X1 - model.X1**2 + 30 * model.X2 - 2 * model.X2**2 - 150 * model.Y\n",
      "model.profit = Objective(rule=objective_rule, sense=maximize)\n",
      "\n",
      "# Define constraints\n",
      "model.syrup_coli = Constraint(expr=model.X1 <= 40 * model.Y)\n",
      "model.syrup_pepsa = Constraint(expr=model.X2 <= 20 * model.Y)\n",
      "model.production_capacity = Constraint(expr=model.X1 + model.X2 <= 7100 * 8)\n",
      "model.min_pepsa = Constraint(expr=model.X2 >= 0.5 * model.X1)\n",
      "\n",
      "# Solve the model\n",
      "solver = SolverFactory('ipopt')  # You can choose a different solver if you prefer\n",
      "results = solver.solve(model)\n",
      "\n",
      "# Print the results\n",
      "print(\"Status:\", results.solver.status)\n",
      "print(\"Termination condition:\",results.solver.termination_condition)\n",
      "print(\"Optimal solution:\")\n",
      "print(\"X1 (COLI units):\", value(model.X1))\n",
      "print(\"X2 (PEPSA units):\", value(model.X2))\n",
      "print(\"Y (Syrup hectoliters):\", value(model.Y))\n",
      "print(\"Maximum Profit:\", value(model.profit))\n",
      "```\n",
      "\n"
     ]
    }
   ],
   "source": [
    "print(response4.text)"
   ]
  }
 ],
 "metadata": {
  "kernelspec": {
   "display_name": "Python 3 (ipykernel)",
   "language": "python",
   "name": "python3"
  },
  "language_info": {
   "codemirror_mode": {
    "name": "ipython",
    "version": 3
   },
   "file_extension": ".py",
   "mimetype": "text/x-python",
   "name": "python",
   "nbconvert_exporter": "python",
   "pygments_lexer": "ipython3",
   "version": "3.11.4"
  }
 },
 "nbformat": 4,
 "nbformat_minor": 5
}
