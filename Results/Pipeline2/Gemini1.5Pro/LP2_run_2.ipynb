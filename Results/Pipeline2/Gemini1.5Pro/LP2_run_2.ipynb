{
 "cells": [
  {
   "cell_type": "markdown",
   "id": "f0005e9e",
   "metadata": {},
   "source": [
    "# LLM Optimization Modelling Experiment"
   ]
  },
  {
   "cell_type": "code",
   "execution_count": 1,
   "id": "7f664028",
   "metadata": {},
   "outputs": [],
   "source": [
    "import vertexai\n",
    "from vertexai.preview.generative_models import GenerativeModel, Image\n",
    "from IPython.display import Markdown"
   ]
  },
  {
   "cell_type": "markdown",
   "id": "f527d6af",
   "metadata": {},
   "source": [
    "## 1. Define the problem description"
   ]
  },
  {
   "cell_type": "code",
   "execution_count": 396,
   "id": "25055ffd",
   "metadata": {},
   "outputs": [],
   "source": [
    "problem = '''You are in charge of the supply purchasing of a company that produces two kinds of drugs. \n",
    "The drugs contain a specific active agent, which is extracted from two different kinds of raw materials that should be purchased on the market. \n",
    "\n",
    "The goal is to maximize the total profit obtained from producing the drugs, which means minimizing purchasing costs for buying the raw materials and minimizing operational costs for producing the drugs while maximizing sales. \n",
    "\n",
    "You are given a budget for purchasing raw materials and operating the production process of the drugs which cannot be exceeded. \n",
    "Additionally, you need to keep the capacity constraints for the production of the drugs in mind as there is only a limited amount of manpower as well as equipment hours available. \n",
    "Your company can also only store a limited amount of raw materials. \n",
    "Most importantly, the amount of active ingredient extracted from the raw materials you purchase needs to satisfy the required amount of active ingredient in the drugs your company produces. \n",
    "Importantly, your experience with the production of the drugs has shown the the amount of active ingredient your process extracts from the two raw materials can vary by up to 0.5% and 2%, respectively. \n",
    "During purchasing, you need to make sure that no matter how much the amount of active ingredient varies, the required amount for the drug production is always met. '''"
   ]
  },
  {
   "cell_type": "markdown",
   "id": "472cf9ad",
   "metadata": {},
   "source": [
    "## 2. Ask for parameters"
   ]
  },
  {
   "cell_type": "code",
   "execution_count": 397,
   "id": "e31ec80c",
   "metadata": {},
   "outputs": [],
   "source": [
    "#Initializing the session. To replicate, make sure the right credentials are saved in a PATH variable\n",
    "PROJECT_ID = \"llm4optproblems\"\n",
    "REGION = \"us-central1\"\n",
    "vertexai.init(project=PROJECT_ID, location=REGION)\n",
    "\n",
    "#Specifying the model\n",
    "generative_multimodal_model = GenerativeModel(\"gemini-1.5-pro-preview-0409\")\n",
    "\n",
    "#The propmt applied to all problems\n",
    "prompt = '''Please formulate only the variables for this mathematical optimization problem. \n",
    "'''\n",
    "\n",
    "#Generate the response\n",
    "response = generative_multimodal_model.generate_content([prompt+problem])\n"
   ]
  },
  {
   "cell_type": "code",
   "execution_count": 398,
   "id": "f9adc567",
   "metadata": {},
   "outputs": [
    {
     "data": {
      "text/markdown": [
       "## Indices:\n",
       "\n",
       "*  $i = 1, 2$: Index for the two different raw materials.\n",
       "*  $j = 1, 2$: Index for the two different drugs.\n",
       "\n",
       "## Parameters:\n",
       "\n",
       "*  $P_j$: Selling price per unit of drug $j$.\n",
       "*  $C_i$: Purchasing cost per unit of raw material $i$.\n",
       "*  $OC_j$: Operational cost per unit of drug $j$ produced.\n",
       "*  $B$: Total budget for purchasing raw materials and operating the production process.\n",
       "*  $Cap_j$: Maximum production capacity for drug $j$.\n",
       "*  $S_i$: Maximum storage capacity for raw material $i$.\n",
       "*  $RA_j$: Required amount of active ingredient in drug $j$.\n",
       "*  $\\alpha_i$: Nominal amount of active ingredient extracted per unit of raw material $i$. \n",
       "*  $\\beta_i$: Maximum percentage variation in the extraction of active ingredient from raw material $i$ (i.e., 0.005 for raw material 1 and 0.02 for raw material 2).\n",
       "\n",
       "## Decision Variables:\n",
       "\n",
       "*  $x_i$: Amount of raw material $i$ to purchase.\n",
       "*  $y_j$: Amount of drug $j$ to produce. \n"
      ],
      "text/plain": [
       "<IPython.core.display.Markdown object>"
      ]
     },
     "execution_count": 398,
     "metadata": {},
     "output_type": "execute_result"
    }
   ],
   "source": [
    "#Show the resopnse in a formatted way\n",
    "Markdown(response.text)"
   ]
  },
  {
   "cell_type": "markdown",
   "id": "15d9e89f",
   "metadata": {},
   "source": [
    "# 2. Ask for objective"
   ]
  },
  {
   "cell_type": "code",
   "execution_count": 399,
   "id": "4f357a19",
   "metadata": {},
   "outputs": [],
   "source": [
    "#Second prompt gets the output of the previous step and generates the code\n",
    "prompt2 = \"Please formulate only the objective function for this mathematical optimization problem.\"\n",
    "prompt2 += problem + response.text\n",
    "response2 = generative_multimodal_model.generate_content([prompt2])"
   ]
  },
  {
   "cell_type": "code",
   "execution_count": 400,
   "id": "bccd1014",
   "metadata": {},
   "outputs": [
    {
     "data": {
      "text/markdown": [
       "## Objective Function:\n",
       "\n",
       "Maximize:  $\\sum_{j=1}^{2} P_j y_j - \\sum_{i=1}^{2} C_i x_i - \\sum_{j=1}^{2} OC_j y_j $ \n"
      ],
      "text/plain": [
       "<IPython.core.display.Markdown object>"
      ]
     },
     "execution_count": 400,
     "metadata": {},
     "output_type": "execute_result"
    }
   ],
   "source": [
    "Markdown(response2.text)"
   ]
  },
  {
   "cell_type": "markdown",
   "id": "d8ab1404",
   "metadata": {},
   "source": [
    "# 3. Ask for constraints"
   ]
  },
  {
   "cell_type": "code",
   "execution_count": 401,
   "id": "e6409951",
   "metadata": {},
   "outputs": [],
   "source": [
    "#Second prompt gets the output of the previous step and generates the code\n",
    "prompt3 = \"Please formulate only the constraints for this mathematical optimization problem.\"\n",
    "prompt3 += problem + response.text + response2.text\n",
    "response3 = generative_multimodal_model.generate_content([prompt3])"
   ]
  },
  {
   "cell_type": "code",
   "execution_count": 402,
   "id": "2f9439c2",
   "metadata": {},
   "outputs": [
    {
     "data": {
      "text/markdown": [
       "## Constraints:\n",
       "\n",
       "1. **Budget Constraint:**\n",
       "   $$ \\sum_{i=1}^{2} C_i x_i + \\sum_{j=1}^{2} OC_j y_j \\leq B $$\n",
       "\n",
       "2. **Capacity Constraints:**\n",
       "   $$ y_j \\leq Cap_j,  \\quad  \\forall j = 1, 2 $$\n",
       "\n",
       "3. **Storage Constraints:**\n",
       "   $$ x_i \\leq S_i, \\quad  \\forall i = 1, 2 $$\n",
       "\n",
       "4. **Active Ingredient Constraint (Worst-Case Scenario):**\n",
       "   $$ \\sum_{i=1}^{2} \\alpha_i (1 - \\beta_i) x_i \\geq \\sum_{j=1}^{2} RA_j y_j $$ \n",
       "\n",
       "5. **Non-Negativity Constraints:**\n",
       "   $$ x_i \\geq 0, \\quad \\forall i = 1, 2 $$\n",
       "   $$ y_j \\geq 0, \\quad \\forall j = 1, 2 $$ \n"
      ],
      "text/plain": [
       "<IPython.core.display.Markdown object>"
      ]
     },
     "execution_count": 402,
     "metadata": {},
     "output_type": "execute_result"
    }
   ],
   "source": [
    "Markdown(response3.text)"
   ]
  },
  {
   "cell_type": "markdown",
   "id": "75796979",
   "metadata": {},
   "source": [
    "## 3. Generate the pyomo code"
   ]
  },
  {
   "cell_type": "code",
   "execution_count": 403,
   "id": "aabea932",
   "metadata": {},
   "outputs": [],
   "source": [
    "#Second prompt gets the output of the previous step and generates the code\n",
    "prompt4 = \"Please write pyomo code for this mathematical problem. Use sample data where needed. Indicate where you use sample data. \\n\"\n",
    "prompt4 += response.text + response2.text + response3.text \n",
    "response4 = generative_multimodal_model.generate_content([prompt4])"
   ]
  },
  {
   "cell_type": "code",
   "execution_count": 404,
   "id": "7741c6e1",
   "metadata": {},
   "outputs": [
    {
     "data": {
      "text/markdown": [
       "```python\n",
       "import pyomo.environ as pyo\n",
       "\n",
       "# Sample data - Replace with your actual data\n",
       "P = {1: 100, 2: 150}  # Selling price per unit of drug j\n",
       "C = {1: 20, 2: 30}  # Purchasing cost per unit of raw material i\n",
       "OC = {1: 10, 2: 15}  # Operational cost per unit of drug j produced\n",
       "B = 10000  # Total budget\n",
       "Cap = {1: 500, 2: 300}  # Maximum production capacity for drug j\n",
       "S = {1: 800, 2: 1200}  # Maximum storage capacity for raw material i\n",
       "RA = {1: 0.5, 2: 0.8}  # Required amount of active ingredient in drug j\n",
       "alpha = {1: 0.6, 2: 0.4}  # Nominal amount of active ingredient extracted per unit of raw material i\n",
       "beta = {1: 0.005, 2: 0.02}  # Maximum percentage variation in the extraction\n",
       "\n",
       "# Create a concrete model\n",
       "model = pyo.ConcreteModel()\n",
       "\n",
       "# Define sets\n",
       "model.i = pyo.Set(initialize=[1, 2])  # Raw materials\n",
       "model.j = pyo.Set(initialize=[1, 2])  # Drugs\n",
       "\n",
       "# Define parameters\n",
       "model.P = pyo.Param(model.j, initialize=P)\n",
       "model.C = pyo.Param(model.i, initialize=C)\n",
       "model.OC = pyo.Param(model.j, initialize=OC)\n",
       "model.B = pyo.Param(initialize=B)\n",
       "model.Cap = pyo.Param(model.j, initialize=Cap)\n",
       "model.S = pyo.Param(model.i, initialize=S)\n",
       "model.RA = pyo.Param(model.j, initialize=RA)\n",
       "model.alpha = pyo.Param(model.i, initialize=alpha)\n",
       "model.beta = pyo.Param(model.i, initialize=beta)\n",
       "\n",
       "# Define variables\n",
       "model.x = pyo.Var(model.i, within=pyo.NonNegativeReals)  # Amount of raw material i to purchase\n",
       "model.y = pyo.Var(model.j, within=pyo.NonNegativeReals)  # Amount of drug j to produce\n",
       "\n",
       "# Define the objective function\n",
       "def objective_rule(model):\n",
       "    return sum(model.P[j] * model.y[j] for j in model.j) - sum(model.C[i] * model.x[i] for i in model.i) - sum(model.OC[j] * model.y[j] for j in model.j)\n",
       "model.profit = pyo.Objective(rule=objective_rule, sense=pyo.maximize)\n",
       "\n",
       "# Define constraints\n",
       "def budget_constraint_rule(model):\n",
       "    return sum(model.C[i] * model.x[i] for i in model.i) + sum(model.OC[j] * model.y[j] for j in model.j) <= model.B\n",
       "model.budget_constraint = pyo.Constraint(rule=budget_constraint_rule)\n",
       "\n",
       "def capacity_constraint_rule(model, j):\n",
       "    return model.y[j] <= model.Cap[j]\n",
       "model.capacity_constraint = pyo.Constraint(model.j, rule=capacity_constraint_rule)\n",
       "\n",
       "def storage_constraint_rule(model, i):\n",
       "    return model.x[i] <= model.S[i]\n",
       "model.storage_constraint = pyo.Constraint(model.i, rule=storage_constraint_rule)\n",
       "\n",
       "def active_ingredient_constraint_rule(model):\n",
       "    return sum(model.alpha[i] * (1 - model.beta[i]) * model.x[i] for i in model.i) >= sum(model.RA[j] * model.y[j] for j in model.j)\n",
       "model.active_ingredient_constraint = pyo.Constraint(rule=active_ingredient_constraint_rule)\n",
       "\n",
       "# Solve the model\n",
       "solver = pyo.SolverFactory('glpk')\n",
       "solver.solve(model)\n",
       "\n",
       "# Print the results\n",
       "print(\"Optimal Solution:\")\n",
       "print(\"Purchase Raw Material 1:\", model.x[1].value)\n",
       "print(\"Purchase Raw Material 2:\", model.x[2].value)\n",
       "print(\"Produce Drug 1:\", model.y[1].value)\n",
       "print(\"Produce Drug 2:\", model.y[2].value)\n",
       "print(\"Total Profit:\", model.profit.value)\n",
       "```\n"
      ],
      "text/plain": [
       "<IPython.core.display.Markdown object>"
      ]
     },
     "execution_count": 404,
     "metadata": {},
     "output_type": "execute_result"
    }
   ],
   "source": [
    "## Showing the code in a formatted way\n",
    "Markdown(response4.text)"
   ]
  },
  {
   "cell_type": "markdown",
   "id": "b60756ae",
   "metadata": {},
   "source": [
    "## 4. Input problem data and try running the generated code"
   ]
  },
  {
   "cell_type": "code",
   "execution_count": 406,
   "id": "41ed7d93",
   "metadata": {},
   "outputs": [
    {
     "name": "stdout",
     "output_type": "stream",
     "text": [
      "Optimal Solution:\n",
      "Purchase Raw Material 1: 313.087038196619\n",
      "Purchase Raw Material 2: 0.0\n",
      "Produce Drug 1: 373.825923606763\n",
      "Produce Drug 2: 0.0\n",
      "Total Profit: 27382.592360676295\n"
     ]
    }
   ],
   "source": [
    "import pyomo.environ as pyo\n",
    "\n",
    "# Sample data - Replace with your actual data\n",
    "P = {1: 100, 2: 150}  # Selling price per unit of drug j\n",
    "C = {1: 20, 2: 30}  # Purchasing cost per unit of raw material i\n",
    "OC = {1: 10, 2: 15}  # Operational cost per unit of drug j produced\n",
    "B = 10000  # Total budget\n",
    "Cap = {1: 500, 2: 300}  # Maximum production capacity for drug j\n",
    "S = {1: 800, 2: 1200}  # Maximum storage capacity for raw material i\n",
    "RA = {1: 0.5, 2: 0.8}  # Required amount of active ingredient in drug j\n",
    "alpha = {1: 0.6, 2: 0.4}  # Nominal amount of active ingredient extracted per unit of raw material i\n",
    "beta = {1: 0.005, 2: 0.02}  # Maximum percentage variation in the extraction\n",
    "\n",
    "# Create a concrete model\n",
    "model = pyo.ConcreteModel()\n",
    "\n",
    "# Define sets\n",
    "model.i = pyo.Set(initialize=[1, 2])  # Raw materials\n",
    "model.j = pyo.Set(initialize=[1, 2])  # Drugs\n",
    "\n",
    "# Define parameters\n",
    "model.P = pyo.Param(model.j, initialize=P)\n",
    "model.C = pyo.Param(model.i, initialize=C)\n",
    "model.OC = pyo.Param(model.j, initialize=OC)\n",
    "model.B = pyo.Param(initialize=B)\n",
    "model.Cap = pyo.Param(model.j, initialize=Cap)\n",
    "model.S = pyo.Param(model.i, initialize=S)\n",
    "model.RA = pyo.Param(model.j, initialize=RA)\n",
    "model.alpha = pyo.Param(model.i, initialize=alpha)\n",
    "model.beta = pyo.Param(model.i, initialize=beta)\n",
    "\n",
    "# Define variables\n",
    "model.x = pyo.Var(model.i, within=pyo.NonNegativeReals)  # Amount of raw material i to purchase\n",
    "model.y = pyo.Var(model.j, within=pyo.NonNegativeReals)  # Amount of drug j to produce\n",
    "\n",
    "# Define the objective function\n",
    "def objective_rule(model):\n",
    "    return sum(model.P[j] * model.y[j] for j in model.j) - sum(model.C[i] * model.x[i] for i in model.i) - sum(model.OC[j] * model.y[j] for j in model.j)\n",
    "model.profit = pyo.Objective(rule=objective_rule, sense=pyo.maximize)\n",
    "\n",
    "# Define constraints\n",
    "def budget_constraint_rule(model):\n",
    "    return sum(model.C[i] * model.x[i] for i in model.i) + sum(model.OC[j] * model.y[j] for j in model.j) <= model.B\n",
    "model.budget_constraint = pyo.Constraint(rule=budget_constraint_rule)\n",
    "\n",
    "def capacity_constraint_rule(model, j):\n",
    "    return model.y[j] <= model.Cap[j]\n",
    "model.capacity_constraint = pyo.Constraint(model.j, rule=capacity_constraint_rule)\n",
    "\n",
    "def storage_constraint_rule(model, i):\n",
    "    return model.x[i] <= model.S[i]\n",
    "model.storage_constraint = pyo.Constraint(model.i, rule=storage_constraint_rule)\n",
    "\n",
    "def active_ingredient_constraint_rule(model):\n",
    "    return sum(model.alpha[i] * (1 - model.beta[i]) * model.x[i] for i in model.i) >= sum(model.RA[j] * model.y[j] for j in model.j)\n",
    "model.active_ingredient_constraint = pyo.Constraint(rule=active_ingredient_constraint_rule)\n",
    "\n",
    "# Solve the model\n",
    "solver = pyo.SolverFactory('glpk')\n",
    "solver.solve(model)\n",
    "\n",
    "# Print the results\n",
    "print(\"Optimal Solution:\")\n",
    "print(\"Purchase Raw Material 1:\", model.x[1].value)\n",
    "print(\"Purchase Raw Material 2:\", model.x[2].value)\n",
    "print(\"Produce Drug 1:\", model.y[1].value)\n",
    "print(\"Produce Drug 2:\", model.y[2].value)\n",
    "print(\"Total Profit:\", model.profit())"
   ]
  },
  {
   "cell_type": "markdown",
   "id": "1be0926e",
   "metadata": {},
   "source": [
    "## 5. Correct the code to verify model viability (optional)"
   ]
  },
  {
   "cell_type": "code",
   "execution_count": null,
   "id": "8b37acfc",
   "metadata": {},
   "outputs": [],
   "source": []
  },
  {
   "cell_type": "markdown",
   "id": "7d3905ab",
   "metadata": {},
   "source": [
    "## 6. Print the responses"
   ]
  },
  {
   "cell_type": "code",
   "execution_count": 407,
   "id": "279683b2",
   "metadata": {},
   "outputs": [
    {
     "name": "stdout",
     "output_type": "stream",
     "text": [
      "## Indices:\n",
      "\n",
      "*  $i = 1, 2$: Index for the two different raw materials.\n",
      "*  $j = 1, 2$: Index for the two different drugs.\n",
      "\n",
      "## Parameters:\n",
      "\n",
      "*  $P_j$: Selling price per unit of drug $j$.\n",
      "*  $C_i$: Purchasing cost per unit of raw material $i$.\n",
      "*  $OC_j$: Operational cost per unit of drug $j$ produced.\n",
      "*  $B$: Total budget for purchasing raw materials and operating the production process.\n",
      "*  $Cap_j$: Maximum production capacity for drug $j$.\n",
      "*  $S_i$: Maximum storage capacity for raw material $i$.\n",
      "*  $RA_j$: Required amount of active ingredient in drug $j$.\n",
      "*  $\\alpha_i$: Nominal amount of active ingredient extracted per unit of raw material $i$. \n",
      "*  $\\beta_i$: Maximum percentage variation in the extraction of active ingredient from raw material $i$ (i.e., 0.005 for raw material 1 and 0.02 for raw material 2).\n",
      "\n",
      "## Decision Variables:\n",
      "\n",
      "*  $x_i$: Amount of raw material $i$ to purchase.\n",
      "*  $y_j$: Amount of drug $j$ to produce. \n",
      "\n"
     ]
    }
   ],
   "source": [
    "print(response.text)"
   ]
  },
  {
   "cell_type": "code",
   "execution_count": 408,
   "id": "a833eb5c",
   "metadata": {},
   "outputs": [
    {
     "name": "stdout",
     "output_type": "stream",
     "text": [
      "## Objective Function:\n",
      "\n",
      "Maximize:  $\\sum_{j=1}^{2} P_j y_j - \\sum_{i=1}^{2} C_i x_i - \\sum_{j=1}^{2} OC_j y_j $ \n",
      "\n"
     ]
    }
   ],
   "source": [
    "print(response2.text)"
   ]
  },
  {
   "cell_type": "code",
   "execution_count": 409,
   "id": "68e98c55",
   "metadata": {},
   "outputs": [
    {
     "name": "stdout",
     "output_type": "stream",
     "text": [
      "## Constraints:\n",
      "\n",
      "1. **Budget Constraint:**\n",
      "   $$ \\sum_{i=1}^{2} C_i x_i + \\sum_{j=1}^{2} OC_j y_j \\leq B $$\n",
      "\n",
      "2. **Capacity Constraints:**\n",
      "   $$ y_j \\leq Cap_j,  \\quad  \\forall j = 1, 2 $$\n",
      "\n",
      "3. **Storage Constraints:**\n",
      "   $$ x_i \\leq S_i, \\quad  \\forall i = 1, 2 $$\n",
      "\n",
      "4. **Active Ingredient Constraint (Worst-Case Scenario):**\n",
      "   $$ \\sum_{i=1}^{2} \\alpha_i (1 - \\beta_i) x_i \\geq \\sum_{j=1}^{2} RA_j y_j $$ \n",
      "\n",
      "5. **Non-Negativity Constraints:**\n",
      "   $$ x_i \\geq 0, \\quad \\forall i = 1, 2 $$\n",
      "   $$ y_j \\geq 0, \\quad \\forall j = 1, 2 $$ \n",
      "\n"
     ]
    }
   ],
   "source": [
    "print(response3.text)"
   ]
  },
  {
   "cell_type": "code",
   "execution_count": 410,
   "id": "49bac961",
   "metadata": {},
   "outputs": [
    {
     "name": "stdout",
     "output_type": "stream",
     "text": [
      "```python\n",
      "import pyomo.environ as pyo\n",
      "\n",
      "# Sample data - Replace with your actual data\n",
      "P = {1: 100, 2: 150}  # Selling price per unit of drug j\n",
      "C = {1: 20, 2: 30}  # Purchasing cost per unit of raw material i\n",
      "OC = {1: 10, 2: 15}  # Operational cost per unit of drug j produced\n",
      "B = 10000  # Total budget\n",
      "Cap = {1: 500, 2: 300}  # Maximum production capacity for drug j\n",
      "S = {1: 800, 2: 1200}  # Maximum storage capacity for raw material i\n",
      "RA = {1: 0.5, 2: 0.8}  # Required amount of active ingredient in drug j\n",
      "alpha = {1: 0.6, 2: 0.4}  # Nominal amount of active ingredient extracted per unit of raw material i\n",
      "beta = {1: 0.005, 2: 0.02}  # Maximum percentage variation in the extraction\n",
      "\n",
      "# Create a concrete model\n",
      "model = pyo.ConcreteModel()\n",
      "\n",
      "# Define sets\n",
      "model.i = pyo.Set(initialize=[1, 2])  # Raw materials\n",
      "model.j = pyo.Set(initialize=[1, 2])  # Drugs\n",
      "\n",
      "# Define parameters\n",
      "model.P = pyo.Param(model.j, initialize=P)\n",
      "model.C = pyo.Param(model.i, initialize=C)\n",
      "model.OC = pyo.Param(model.j, initialize=OC)\n",
      "model.B = pyo.Param(initialize=B)\n",
      "model.Cap = pyo.Param(model.j, initialize=Cap)\n",
      "model.S = pyo.Param(model.i, initialize=S)\n",
      "model.RA = pyo.Param(model.j, initialize=RA)\n",
      "model.alpha = pyo.Param(model.i, initialize=alpha)\n",
      "model.beta = pyo.Param(model.i, initialize=beta)\n",
      "\n",
      "# Define variables\n",
      "model.x = pyo.Var(model.i, within=pyo.NonNegativeReals)  # Amount of raw material i to purchase\n",
      "model.y = pyo.Var(model.j, within=pyo.NonNegativeReals)  # Amount of drug j to produce\n",
      "\n",
      "# Define the objective function\n",
      "def objective_rule(model):\n",
      "    return sum(model.P[j] * model.y[j] for j in model.j) - sum(model.C[i] * model.x[i] for i in model.i) - sum(model.OC[j] * model.y[j] for j in model.j)\n",
      "model.profit = pyo.Objective(rule=objective_rule, sense=pyo.maximize)\n",
      "\n",
      "# Define constraints\n",
      "def budget_constraint_rule(model):\n",
      "    return sum(model.C[i] * model.x[i] for i in model.i) + sum(model.OC[j] * model.y[j] for j in model.j) <= model.B\n",
      "model.budget_constraint = pyo.Constraint(rule=budget_constraint_rule)\n",
      "\n",
      "def capacity_constraint_rule(model, j):\n",
      "    return model.y[j] <= model.Cap[j]\n",
      "model.capacity_constraint = pyo.Constraint(model.j, rule=capacity_constraint_rule)\n",
      "\n",
      "def storage_constraint_rule(model, i):\n",
      "    return model.x[i] <= model.S[i]\n",
      "model.storage_constraint = pyo.Constraint(model.i, rule=storage_constraint_rule)\n",
      "\n",
      "def active_ingredient_constraint_rule(model):\n",
      "    return sum(model.alpha[i] * (1 - model.beta[i]) * model.x[i] for i in model.i) >= sum(model.RA[j] * model.y[j] for j in model.j)\n",
      "model.active_ingredient_constraint = pyo.Constraint(rule=active_ingredient_constraint_rule)\n",
      "\n",
      "# Solve the model\n",
      "solver = pyo.SolverFactory('glpk')\n",
      "solver.solve(model)\n",
      "\n",
      "# Print the results\n",
      "print(\"Optimal Solution:\")\n",
      "print(\"Purchase Raw Material 1:\", model.x[1].value)\n",
      "print(\"Purchase Raw Material 2:\", model.x[2].value)\n",
      "print(\"Produce Drug 1:\", model.y[1].value)\n",
      "print(\"Produce Drug 2:\", model.y[2].value)\n",
      "print(\"Total Profit:\", model.profit.value)\n",
      "```\n",
      "\n"
     ]
    }
   ],
   "source": [
    "print(response4.text)"
   ]
  },
  {
   "cell_type": "code",
   "execution_count": null,
   "id": "1564714c",
   "metadata": {},
   "outputs": [],
   "source": []
  }
 ],
 "metadata": {
  "kernelspec": {
   "display_name": "Python 3 (ipykernel)",
   "language": "python",
   "name": "python3"
  },
  "language_info": {
   "codemirror_mode": {
    "name": "ipython",
    "version": 3
   },
   "file_extension": ".py",
   "mimetype": "text/x-python",
   "name": "python",
   "nbconvert_exporter": "python",
   "pygments_lexer": "ipython3",
   "version": "3.11.4"
  }
 },
 "nbformat": 4,
 "nbformat_minor": 5
}
