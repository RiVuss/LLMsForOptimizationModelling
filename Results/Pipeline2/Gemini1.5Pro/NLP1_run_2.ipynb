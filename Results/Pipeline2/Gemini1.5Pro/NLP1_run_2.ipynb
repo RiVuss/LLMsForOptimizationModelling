{
 "cells": [
  {
   "cell_type": "markdown",
   "id": "f0005e9e",
   "metadata": {},
   "source": [
    "# LLM Optimization Modelling Experiment"
   ]
  },
  {
   "cell_type": "code",
   "execution_count": 1,
   "id": "7f664028",
   "metadata": {},
   "outputs": [],
   "source": [
    "import vertexai\n",
    "from vertexai.preview.generative_models import GenerativeModel, Image\n",
    "from IPython.display import Markdown"
   ]
  },
  {
   "cell_type": "markdown",
   "id": "f527d6af",
   "metadata": {},
   "source": [
    "## 1. Define the problem description"
   ]
  },
  {
   "cell_type": "code",
   "execution_count": 218,
   "id": "25055ffd",
   "metadata": {},
   "outputs": [],
   "source": [
    "problem = '''A firm that packs refreshments and beers, situated in the province of Valencia (Spain) employs the same syrup to produce its 1.5 l COLI and PEPSA products on its S1 production line. Once processed, each hectolitre of syrup produces 40 units of the 1.5 l COLI product and 20 units of the 1.5 l PEPSA product. If X1 units of the 1.5 l COLI product and X2 units of the 1.5 l PEPSA product are produced, the firm estimates that the daily income obtained in dollars would be given by the following function:\n",
    "49000 times X1 minus X1 squared plus 30 times X2 minus two times X2 squared. \n",
    "It costs 150 dollars to buy and process each hectolitre of syrup. The S1 packaging line has a net capacity of producing 7100 1.5 l product units every hour. The firm works 5 days a week in 8h shifts. Given its weekly target coverage, the firm is committed to produce at least half the amount of PEPSA than COLI. Although priority orders tend to amend its production planning, the firm wishes to have a basic product planning that optimises its daily profits. '''"
   ]
  },
  {
   "cell_type": "markdown",
   "id": "472cf9ad",
   "metadata": {},
   "source": [
    "## 2. Ask for parameters"
   ]
  },
  {
   "cell_type": "code",
   "execution_count": 234,
   "id": "e31ec80c",
   "metadata": {},
   "outputs": [],
   "source": [
    "#Initializing the session. To replicate, make sure the right credentials are saved in a PATH variable\n",
    "PROJECT_ID = \"llm4optproblems\"\n",
    "REGION = \"us-central1\"\n",
    "vertexai.init(project=PROJECT_ID, location=REGION)\n",
    "\n",
    "#Specifying the model\n",
    "generative_multimodal_model = GenerativeModel(\"gemini-1.5-pro-preview-0409\")\n",
    "\n",
    "#The propmt applied to all problems\n",
    "prompt = '''Please formulate only the variables for this mathematical optimization problem. \n",
    "'''\n",
    "\n",
    "#Generate the response\n",
    "response = generative_multimodal_model.generate_content([prompt+problem])\n"
   ]
  },
  {
   "cell_type": "code",
   "execution_count": 235,
   "id": "f9adc567",
   "metadata": {},
   "outputs": [
    {
     "data": {
      "text/markdown": [
       "## Variables:\n",
       "\n",
       "* **X1:**  Number of 1.5L COLI units produced daily. \n",
       "* **X2:** Number of 1.5L PEPSA units produced daily.\n",
       "* **S:** Hectoliters of syrup purchased and processed daily. \n"
      ],
      "text/plain": [
       "<IPython.core.display.Markdown object>"
      ]
     },
     "execution_count": 235,
     "metadata": {},
     "output_type": "execute_result"
    }
   ],
   "source": [
    "#Show the resopnse in a formatted way\n",
    "Markdown(response.text)"
   ]
  },
  {
   "cell_type": "markdown",
   "id": "15d9e89f",
   "metadata": {},
   "source": [
    "# 2. Ask for objective"
   ]
  },
  {
   "cell_type": "code",
   "execution_count": 236,
   "id": "4f357a19",
   "metadata": {},
   "outputs": [],
   "source": [
    "#Second prompt gets the output of the previous step and generates the code\n",
    "prompt2 = \"Please formulate only the objective function for this mathematical optimization problem.\"\n",
    "prompt2 += problem + response.text\n",
    "response2 = generative_multimodal_model.generate_content([prompt2])"
   ]
  },
  {
   "cell_type": "code",
   "execution_count": 237,
   "id": "bccd1014",
   "metadata": {},
   "outputs": [
    {
     "data": {
      "text/markdown": [
       "Maximize  $49000X_1 - X_1^2 + 30X_2 - 2X_2^2 - 150S$ \n"
      ],
      "text/plain": [
       "<IPython.core.display.Markdown object>"
      ]
     },
     "execution_count": 237,
     "metadata": {},
     "output_type": "execute_result"
    }
   ],
   "source": [
    "Markdown(response2.text)"
   ]
  },
  {
   "cell_type": "markdown",
   "id": "d8ab1404",
   "metadata": {},
   "source": [
    "# 3. Ask for constraints"
   ]
  },
  {
   "cell_type": "code",
   "execution_count": 238,
   "id": "e6409951",
   "metadata": {},
   "outputs": [],
   "source": [
    "#Second prompt gets the output of the previous step and generates the code\n",
    "prompt3 = \"Please formulate only the constraints for this mathematical optimization problem.\"\n",
    "prompt3 += problem + response.text + response2.text\n",
    "response3 = generative_multimodal_model.generate_content([prompt3])"
   ]
  },
  {
   "cell_type": "code",
   "execution_count": 239,
   "id": "2f9439c2",
   "metadata": {},
   "outputs": [
    {
     "data": {
      "text/markdown": [
       "Subject to:\n",
       "\n",
       "*  $40X_1 + 20X_2  \\leq 7100 \\times 8$ (Hourly production capacity)\n",
       "*  $X_2 \\geq 0.5 X_1$ (Minimum PEPSA production)\n",
       "*  $40X_1 + 20X_2 = 100S$ (Syrup conversion)\n",
       "* $X_1 \\geq 0$ (Non-negativity constraint)\n",
       "* $X_2 \\geq 0$ (Non-negativity constraint)\n",
       "* $S \\geq 0$ (Non-negativity constraint) \n"
      ],
      "text/plain": [
       "<IPython.core.display.Markdown object>"
      ]
     },
     "execution_count": 239,
     "metadata": {},
     "output_type": "execute_result"
    }
   ],
   "source": [
    "Markdown(response3.text)"
   ]
  },
  {
   "cell_type": "code",
   "execution_count": null,
   "id": "07ba7f01",
   "metadata": {},
   "outputs": [],
   "source": []
  },
  {
   "cell_type": "markdown",
   "id": "75796979",
   "metadata": {},
   "source": [
    "## 3. Generate the pyomo code"
   ]
  },
  {
   "cell_type": "code",
   "execution_count": 240,
   "id": "aabea932",
   "metadata": {},
   "outputs": [],
   "source": [
    "#Second prompt gets the output of the previous step and generates the code\n",
    "prompt4 = \"Please write pyomo code for this mathematical problem. Use sample data where needed. Indicate where you use sample data. \\n\"\n",
    "prompt4 += response.text + response2.text + response3.text \n",
    "response4 = generative_multimodal_model.generate_content([prompt4])"
   ]
  },
  {
   "cell_type": "code",
   "execution_count": 241,
   "id": "fd2835af",
   "metadata": {},
   "outputs": [
    {
     "data": {
      "text/markdown": [
       "```python\n",
       "import pyomo.environ as pyo\n",
       "\n",
       "# Create a concrete model\n",
       "model = pyo.ConcreteModel()\n",
       "\n",
       "# Define variables\n",
       "model.x1 = pyo.Var(domain=pyo.NonNegativeReals) # Number of 1.5L COLI units produced daily\n",
       "model.x2 = pyo.Var(domain=pyo.NonNegativeReals) # Number of 1.5L PEPSA units produced daily\n",
       "model.S = pyo.Var(domain=pyo.NonNegativeReals)  # Hectoliters of syrup purchased and processed daily\n",
       "\n",
       "# Define the objective function\n",
       "def objective_rule(model):\n",
       "  return 49000*model.x1 - model.x1**2 + 30*model.x2 - 2*model.x2**2 - 150*model.S\n",
       "model.profit = pyo.Objective(rule=objective_rule, sense=pyo.maximize)\n",
       "\n",
       "# Define constraints\n",
       "model.production_capacity = pyo.Constraint(expr= 40*model.x1 + 20*model.x2 <= 7100*8)\n",
       "model.min_pepsa_production = pyo.Constraint(expr= model.x2 >= 0.5*model.x1)\n",
       "model.syrup_conversion = pyo.Constraint(expr= 40*model.x1 + 20*model.x2 == 100*model.S)\n",
       "\n",
       "# Solve the model\n",
       "solver = pyo.SolverFactory('ipopt')  # Select a solver (IPOPT is generally suitable for nonlinear problems)\n",
       "results = solver.solve(model)\n",
       "\n",
       "# Print the results\n",
       "print(\"Solution Status:\", results.solver.status)\n",
       "print(\"Optimal Solution:\")\n",
       "print(f\"X1 (COLI Production): {pyo.value(model.x1)}\")\n",
       "print(f\"X2 (PEPSA Production): {pyo.value(model.x2)}\")\n",
       "print(f\"S (Syrup): {pyo.value(model.S)}\")\n",
       "print(f\"Maximum Profit: {pyo.value(model.profit)}\") \n",
       "```\n"
      ],
      "text/plain": [
       "<IPython.core.display.Markdown object>"
      ]
     },
     "execution_count": 241,
     "metadata": {},
     "output_type": "execute_result"
    }
   ],
   "source": [
    "#Showing the code in a formatted way\n",
    "Markdown(response4.text)"
   ]
  },
  {
   "cell_type": "markdown",
   "id": "b60756ae",
   "metadata": {},
   "source": [
    "## 4. Input problem data and try running the generated code"
   ]
  },
  {
   "cell_type": "code",
   "execution_count": 242,
   "id": "41ed7d93",
   "metadata": {},
   "outputs": [
    {
     "name": "stdout",
     "output_type": "stream",
     "text": [
      "Solution Status: ok\n",
      "Optimal Solution:\n",
      "X1 (COLI Production): 1136.0000113639492\n",
      "X2 (PEPSA Production): 568.0000056720345\n",
      "S (Syrup): 568.0000056799865\n",
      "Maximum Profit: 53660096.51744592\n"
     ]
    }
   ],
   "source": [
    "import pyomo.environ as pyo\n",
    "\n",
    "# Create a concrete model\n",
    "model = pyo.ConcreteModel()\n",
    "\n",
    "# Define variables\n",
    "model.x1 = pyo.Var(domain=pyo.NonNegativeReals) # Number of 1.5L COLI units produced daily\n",
    "model.x2 = pyo.Var(domain=pyo.NonNegativeReals) # Number of 1.5L PEPSA units produced daily\n",
    "model.S = pyo.Var(domain=pyo.NonNegativeReals)  # Hectoliters of syrup purchased and processed daily\n",
    "\n",
    "# Define the objective function\n",
    "def objective_rule(model):\n",
    "  return 49000*model.x1 - model.x1**2 + 30*model.x2 - 2*model.x2**2 - 150*model.S\n",
    "model.profit = pyo.Objective(rule=objective_rule, sense=pyo.maximize)\n",
    "\n",
    "# Define constraints\n",
    "model.production_capacity = pyo.Constraint(expr= 40*model.x1 + 20*model.x2 <= 7100*8)\n",
    "model.min_pepsa_production = pyo.Constraint(expr= model.x2 >= 0.5*model.x1)\n",
    "model.syrup_conversion = pyo.Constraint(expr= 40*model.x1 + 20*model.x2 == 100*model.S)\n",
    "\n",
    "# Solve the model\n",
    "solver = pyo.SolverFactory('ipopt')  # Select a solver (IPOPT is generally suitable for nonlinear problems)\n",
    "results = solver.solve(model)\n",
    "\n",
    "# Print the results\n",
    "print(\"Solution Status:\", results.solver.status)\n",
    "print(\"Optimal Solution:\")\n",
    "print(f\"X1 (COLI Production): {pyo.value(model.x1)}\")\n",
    "print(f\"X2 (PEPSA Production): {pyo.value(model.x2)}\")\n",
    "print(f\"S (Syrup): {pyo.value(model.S)}\")\n",
    "print(f\"Maximum Profit: {pyo.value(model.profit)}\") "
   ]
  },
  {
   "cell_type": "markdown",
   "id": "1be0926e",
   "metadata": {},
   "source": [
    "## 5. Correct the code to verify model viability (optional)"
   ]
  },
  {
   "cell_type": "code",
   "execution_count": null,
   "id": "8b37acfc",
   "metadata": {},
   "outputs": [],
   "source": []
  },
  {
   "cell_type": "markdown",
   "id": "6d7f2659",
   "metadata": {},
   "source": [
    "## 6. Print the responses"
   ]
  },
  {
   "cell_type": "code",
   "execution_count": 243,
   "id": "70b9cfc1",
   "metadata": {},
   "outputs": [
    {
     "name": "stdout",
     "output_type": "stream",
     "text": [
      "## Variables:\n",
      "\n",
      "* **X1:**  Number of 1.5L COLI units produced daily. \n",
      "* **X2:** Number of 1.5L PEPSA units produced daily.\n",
      "* **S:** Hectoliters of syrup purchased and processed daily. \n",
      "\n"
     ]
    }
   ],
   "source": [
    "print(response.text)"
   ]
  },
  {
   "cell_type": "code",
   "execution_count": 244,
   "id": "ce6e8e9c",
   "metadata": {},
   "outputs": [
    {
     "name": "stdout",
     "output_type": "stream",
     "text": [
      "Maximize  $49000X_1 - X_1^2 + 30X_2 - 2X_2^2 - 150S$ \n",
      "\n"
     ]
    }
   ],
   "source": [
    "print(response2.text)"
   ]
  },
  {
   "cell_type": "code",
   "execution_count": 245,
   "id": "c2998c69",
   "metadata": {},
   "outputs": [
    {
     "name": "stdout",
     "output_type": "stream",
     "text": [
      "Subject to:\n",
      "\n",
      "*  $40X_1 + 20X_2  \\leq 7100 \\times 8$ (Hourly production capacity)\n",
      "*  $X_2 \\geq 0.5 X_1$ (Minimum PEPSA production)\n",
      "*  $40X_1 + 20X_2 = 100S$ (Syrup conversion)\n",
      "* $X_1 \\geq 0$ (Non-negativity constraint)\n",
      "* $X_2 \\geq 0$ (Non-negativity constraint)\n",
      "* $S \\geq 0$ (Non-negativity constraint) \n",
      "\n"
     ]
    }
   ],
   "source": [
    "print(response3.text)"
   ]
  },
  {
   "cell_type": "code",
   "execution_count": 246,
   "id": "bb80067f",
   "metadata": {},
   "outputs": [
    {
     "name": "stdout",
     "output_type": "stream",
     "text": [
      "```python\n",
      "import pyomo.environ as pyo\n",
      "\n",
      "# Create a concrete model\n",
      "model = pyo.ConcreteModel()\n",
      "\n",
      "# Define variables\n",
      "model.x1 = pyo.Var(domain=pyo.NonNegativeReals) # Number of 1.5L COLI units produced daily\n",
      "model.x2 = pyo.Var(domain=pyo.NonNegativeReals) # Number of 1.5L PEPSA units produced daily\n",
      "model.S = pyo.Var(domain=pyo.NonNegativeReals)  # Hectoliters of syrup purchased and processed daily\n",
      "\n",
      "# Define the objective function\n",
      "def objective_rule(model):\n",
      "  return 49000*model.x1 - model.x1**2 + 30*model.x2 - 2*model.x2**2 - 150*model.S\n",
      "model.profit = pyo.Objective(rule=objective_rule, sense=pyo.maximize)\n",
      "\n",
      "# Define constraints\n",
      "model.production_capacity = pyo.Constraint(expr= 40*model.x1 + 20*model.x2 <= 7100*8)\n",
      "model.min_pepsa_production = pyo.Constraint(expr= model.x2 >= 0.5*model.x1)\n",
      "model.syrup_conversion = pyo.Constraint(expr= 40*model.x1 + 20*model.x2 == 100*model.S)\n",
      "\n",
      "# Solve the model\n",
      "solver = pyo.SolverFactory('ipopt')  # Select a solver (IPOPT is generally suitable for nonlinear problems)\n",
      "results = solver.solve(model)\n",
      "\n",
      "# Print the results\n",
      "print(\"Solution Status:\", results.solver.status)\n",
      "print(\"Optimal Solution:\")\n",
      "print(f\"X1 (COLI Production): {pyo.value(model.x1)}\")\n",
      "print(f\"X2 (PEPSA Production): {pyo.value(model.x2)}\")\n",
      "print(f\"S (Syrup): {pyo.value(model.S)}\")\n",
      "print(f\"Maximum Profit: {pyo.value(model.profit)}\") \n",
      "```\n",
      "\n"
     ]
    }
   ],
   "source": [
    "print(response4.text)"
   ]
  }
 ],
 "metadata": {
  "kernelspec": {
   "display_name": "Python 3 (ipykernel)",
   "language": "python",
   "name": "python3"
  },
  "language_info": {
   "codemirror_mode": {
    "name": "ipython",
    "version": 3
   },
   "file_extension": ".py",
   "mimetype": "text/x-python",
   "name": "python",
   "nbconvert_exporter": "python",
   "pygments_lexer": "ipython3",
   "version": "3.11.4"
  }
 },
 "nbformat": 4,
 "nbformat_minor": 5
}
