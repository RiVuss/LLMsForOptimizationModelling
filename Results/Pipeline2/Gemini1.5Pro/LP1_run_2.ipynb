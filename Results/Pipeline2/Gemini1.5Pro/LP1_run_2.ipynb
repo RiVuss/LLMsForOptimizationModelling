{
 "cells": [
  {
   "cell_type": "markdown",
   "id": "f0005e9e",
   "metadata": {},
   "source": [
    "# LLM Optimization Modelling Experiment"
   ]
  },
  {
   "cell_type": "code",
   "execution_count": 1,
   "id": "7f664028",
   "metadata": {},
   "outputs": [],
   "source": [
    "import vertexai\n",
    "from vertexai.preview.generative_models import GenerativeModel, Image\n",
    "from IPython.display import Markdown"
   ]
  },
  {
   "cell_type": "markdown",
   "id": "f527d6af",
   "metadata": {},
   "source": [
    "## 1. Define the problem description"
   ]
  },
  {
   "cell_type": "code",
   "execution_count": 109,
   "id": "25055ffd",
   "metadata": {},
   "outputs": [],
   "source": [
    "problem = '''A firm from Milan sells chemical products for professional cosmetics. It is planning the production of three products, GCA, GCB and GCC, for a given period of\n",
    "time by mixing two different components: C1 and C2. All the end products must\n",
    "contain at least one of the two components, and not necessarily both.\n",
    "\n",
    "For the next planning period, 10,000 l of C1 and 15,000 l of C2 are available.\n",
    "The production of GCA, GCB and GCC must be scheduled to at least cover the\n",
    "minimum demand level of 6,000, 7,000 and 9,000 l, respectively. It is assumed\n",
    "that when chemical components are mixed, there is no loss or gain in volume.\n",
    "\n",
    "Each chemical component, C1 and C2, has a proportional critical element, 0.4\n",
    "and 0.2, respectively. That is to say, each litre of C1 contains 0.4 l of the critical\n",
    "element. To obtain GCA, the mixture must proportionally contain at least a 0.3\n",
    "fraction of the critical element. Another requirement is that the quantity of the\n",
    "critical element is seen in GCB, an 0.3 fraction at the most.\n",
    "Furthermore, the minimum ratio of C1 with C2 in product GCC must be 0.3.\n",
    "\n",
    "The profit expected for the sale of each litre of GCA, GCB and GCC is $120, $135\n",
    "and $155, respectively.\n",
    "\n",
    "Optimise the production planning of this firm. '''"
   ]
  },
  {
   "cell_type": "markdown",
   "id": "472cf9ad",
   "metadata": {},
   "source": [
    "## 2. Ask for parameters"
   ]
  },
  {
   "cell_type": "code",
   "execution_count": 123,
   "id": "e31ec80c",
   "metadata": {},
   "outputs": [],
   "source": [
    "#Initializing the session. To replicate, make sure the right credentials are saved in a PATH variable\n",
    "PROJECT_ID = \"llm4optproblems\"\n",
    "REGION = \"us-central1\"\n",
    "vertexai.init(project=PROJECT_ID, location=REGION)\n",
    "\n",
    "#Specifying the model\n",
    "generative_multimodal_model = GenerativeModel(\"gemini-1.5-pro-preview-0409\")\n",
    "\n",
    "#The propmt applied to all problems\n",
    "prompt = '''Please formulate only the variables for this mathematical optimization problem. \n",
    "'''\n",
    "\n",
    "#Generate the response\n",
    "response = generative_multimodal_model.generate_content([prompt+problem])\n"
   ]
  },
  {
   "cell_type": "code",
   "execution_count": 124,
   "id": "f9adc567",
   "metadata": {},
   "outputs": [
    {
     "data": {
      "text/markdown": [
       "### Decision Variables:\n",
       "\n",
       "*  **x<sub>1A</sub>**: Liters of component C1 used in the production of product GCA.\n",
       "*  **x<sub>2A</sub>**: Liters of component C2 used in the production of product GCA.\n",
       "*  **x<sub>1B</sub>**: Liters of component C1 used in the production of product GCB.\n",
       "*  **x<sub>2B</sub>**: Liters of component C2 used in the production of product GCB.\n",
       "*  **x<sub>1C</sub>**: Liters of component C1 used in the production of product GCC.\n",
       "*  **x<sub>2C</sub>**: Liters of component C2 used in the production of product GCC. \n"
      ],
      "text/plain": [
       "<IPython.core.display.Markdown object>"
      ]
     },
     "execution_count": 124,
     "metadata": {},
     "output_type": "execute_result"
    }
   ],
   "source": [
    "#Show the resopnse in a formatted way\n",
    "Markdown(response.text)"
   ]
  },
  {
   "cell_type": "markdown",
   "id": "15d9e89f",
   "metadata": {},
   "source": [
    "# 2. Ask for objective"
   ]
  },
  {
   "cell_type": "code",
   "execution_count": 125,
   "id": "4f357a19",
   "metadata": {},
   "outputs": [],
   "source": [
    "#Second prompt gets the output of the previous step and generates the code\n",
    "prompt2 = \"Please formulate only the objective function for this mathematical optimization problem.\"\n",
    "prompt2 += problem + response.text\n",
    "response2 = generative_multimodal_model.generate_content([prompt2])"
   ]
  },
  {
   "cell_type": "code",
   "execution_count": 126,
   "id": "bccd1014",
   "metadata": {},
   "outputs": [
    {
     "data": {
      "text/markdown": [
       "Maximize: \n",
       "\n",
       "**120(x<sub>1A</sub> + x<sub>2A</sub>) + 135(x<sub>1B</sub> + x<sub>2B</sub>) + 155(x<sub>1C</sub> + x<sub>2C</sub>)** \n"
      ],
      "text/plain": [
       "<IPython.core.display.Markdown object>"
      ]
     },
     "execution_count": 126,
     "metadata": {},
     "output_type": "execute_result"
    }
   ],
   "source": [
    "Markdown(response2.text)"
   ]
  },
  {
   "cell_type": "markdown",
   "id": "d8ab1404",
   "metadata": {},
   "source": [
    "# 3. Ask for constraints"
   ]
  },
  {
   "cell_type": "code",
   "execution_count": 127,
   "id": "e6409951",
   "metadata": {},
   "outputs": [],
   "source": [
    "#Second prompt gets the output of the previous step and generates the code\n",
    "prompt3 = \"Please formulate only the constraints for this mathematical optimization problem.\"\n",
    "prompt3 += problem + response.text + response2.text\n",
    "response3 = generative_multimodal_model.generate_content([prompt3])"
   ]
  },
  {
   "cell_type": "code",
   "execution_count": 128,
   "id": "2f9439c2",
   "metadata": {},
   "outputs": [
    {
     "data": {
      "text/markdown": [
       "Subject to:\n",
       "\n",
       "**Availability Constraints:**\n",
       "\n",
       "*  x<sub>1A</sub> + x<sub>1B</sub> + x<sub>1C</sub> ≤ 10,000 (Liters of C1 available)\n",
       "*  x<sub>2A</sub> + x<sub>2B</sub> + x<sub>2C</sub> ≤ 15,000 (Liters of C2 available)\n",
       "\n",
       "**Demand Constraints:**\n",
       "\n",
       "*  x<sub>1A</sub> + x<sub>2A</sub> ≥ 6,000 (Demand for GCA)\n",
       "*  x<sub>1B</sub> + x<sub>2B</sub> ≥ 7,000 (Demand for GCB)\n",
       "*  x<sub>1C</sub> + x<sub>2C</sub> ≥ 9,000 (Demand for GCC)\n",
       "\n",
       "**Critical Element Constraints:**\n",
       "\n",
       "* 0.4x<sub>1A</sub> + 0.2x<sub>2A</sub> ≥ 0.3(x<sub>1A</sub> + x<sub>2A</sub>)  (Critical element in GCA)\n",
       "* 0.4x<sub>1B</sub> + 0.2x<sub>2B</sub> ≤ 0.3(x<sub>1B</sub> + x<sub>2B</sub>)  (Critical element in GCB) \n",
       "\n",
       "**Component Ratio Constraint:**\n",
       "\n",
       "* x<sub>1C</sub> ≥ 0.3x<sub>2C</sub> (Ratio of C1 to C2 in GCC)\n",
       "\n",
       "**Non-Negativity Constraints:**\n",
       "\n",
       "* x<sub>1A</sub>, x<sub>2A</sub>, x<sub>1B</sub>, x<sub>2B</sub>, x<sub>1C</sub>, x<sub>2C</sub> ≥ 0 \n"
      ],
      "text/plain": [
       "<IPython.core.display.Markdown object>"
      ]
     },
     "execution_count": 128,
     "metadata": {},
     "output_type": "execute_result"
    }
   ],
   "source": [
    "Markdown(response3.text)"
   ]
  },
  {
   "cell_type": "code",
   "execution_count": null,
   "id": "07ba7f01",
   "metadata": {},
   "outputs": [],
   "source": []
  },
  {
   "cell_type": "markdown",
   "id": "75796979",
   "metadata": {},
   "source": [
    "## 3. Generate the pyomo code"
   ]
  },
  {
   "cell_type": "code",
   "execution_count": 129,
   "id": "aabea932",
   "metadata": {},
   "outputs": [],
   "source": [
    "#Second prompt gets the output of the previous step and generates the code\n",
    "prompt4 = \"Please write pyomo code for this mathematical problem. Use sample data where needed. Indicate where you use sample data. \\n\"\n",
    "prompt4 += response.text + response2.text + response3.text \n",
    "response4 = generative_multimodal_model.generate_content([prompt4])"
   ]
  },
  {
   "cell_type": "code",
   "execution_count": 130,
   "id": "fd2835af",
   "metadata": {},
   "outputs": [
    {
     "data": {
      "text/markdown": [
       "```python\n",
       "import pyomo.environ as pyo\n",
       "\n",
       "# Create a concrete model\n",
       "model = pyo.ConcreteModel()\n",
       "\n",
       "# Define decision variables\n",
       "model.x1A = pyo.Var(within=pyo.NonNegativeReals)\n",
       "model.x2A = pyo.Var(within=pyo.NonNegativeReals)\n",
       "model.x1B = pyo.Var(within=pyo.NonNegativeReals)\n",
       "model.x2B = pyo.Var(within=pyo.NonNegativeReals)\n",
       "model.x1C = pyo.Var(within=pyo.NonNegativeReals)\n",
       "model.x2C = pyo.Var(within=pyo.NonNegativeReals)\n",
       "\n",
       "# Define the objective function\n",
       "model.profit = pyo.Objective(\n",
       "    expr=120*(model.x1A + model.x2A) + 135*(model.x1B + model.x2B) + 155*(model.x1C + model.x2C), \n",
       "    sense=pyo.maximize\n",
       ")\n",
       "\n",
       "# Define constraints\n",
       "model.availability_C1 = pyo.Constraint(expr=model.x1A + model.x1B + model.x1C <= 10000)\n",
       "model.availability_C2 = pyo.Constraint(expr=model.x2A + model.x2B + model.x2C <= 15000)\n",
       "\n",
       "model.demand_GCA = pyo.Constraint(expr=model.x1A + model.x2A >= 6000)\n",
       "model.demand_GCB = pyo.Constraint(expr=model.x1B + model.x2B >= 7000)\n",
       "model.demand_GCC = pyo.Constraint(expr=model.x1C + model.x2C >= 9000)\n",
       "\n",
       "model.critical_GCA = pyo.Constraint(expr=0.4*model.x1A + 0.2*model.x2A >= 0.3*(model.x1A + model.x2A))\n",
       "model.critical_GCB = pyo.Constraint(expr=0.4*model.x1B + 0.2*model.x2B <= 0.3*(model.x1B + model.x2B))\n",
       "\n",
       "model.ratio_GCC = pyo.Constraint(expr=model.x1C >= 0.3*model.x2C)\n",
       "\n",
       "# Solve the model\n",
       "solver = pyo.SolverFactory('glpk')  # You can choose a different solver if needed\n",
       "solver.solve(model)\n",
       "\n",
       "# Print the results\n",
       "print(\"Optimal Solution:\")\n",
       "print(f\"x1A: {model.x1A.value:.2f} liters\")\n",
       "print(f\"x2A: {model.x2A.value:.2f} liters\")\n",
       "print(f\"x1B: {model.x1B.value:.2f} liters\")\n",
       "print(f\"x2B: {model.x2B.value:.2f} liters\")\n",
       "print(f\"x1C: {model.x1C.value:.2f} liters\")\n",
       "print(f\"x2C: {model.x2C.value:.2f} liters\")\n",
       "print(f\"Total Profit: ${model.profit.expr():.2f}\")\n",
       "```\n"
      ],
      "text/plain": [
       "<IPython.core.display.Markdown object>"
      ]
     },
     "execution_count": 130,
     "metadata": {},
     "output_type": "execute_result"
    }
   ],
   "source": [
    "#Showing the code in a formatted way\n",
    "Markdown(response4.text)"
   ]
  },
  {
   "cell_type": "markdown",
   "id": "b60756ae",
   "metadata": {},
   "source": [
    "## 4. Input problem data and try running the generated code"
   ]
  },
  {
   "cell_type": "code",
   "execution_count": 131,
   "id": "41ed7d93",
   "metadata": {},
   "outputs": [
    {
     "name": "stdout",
     "output_type": "stream",
     "text": [
      "Optimal Solution:\n",
      "x1A: 3730.77 liters\n",
      "x2A: 2269.23 liters\n",
      "x1B: 3500.00 liters\n",
      "x2B: 3500.00 liters\n",
      "x1C: 2769.23 liters\n",
      "x2C: 9230.77 liters\n",
      "Total Profit: $3525000.00\n"
     ]
    }
   ],
   "source": [
    "import pyomo.environ as pyo\n",
    "\n",
    "# Create a concrete model\n",
    "model = pyo.ConcreteModel()\n",
    "\n",
    "# Define decision variables\n",
    "model.x1A = pyo.Var(within=pyo.NonNegativeReals)\n",
    "model.x2A = pyo.Var(within=pyo.NonNegativeReals)\n",
    "model.x1B = pyo.Var(within=pyo.NonNegativeReals)\n",
    "model.x2B = pyo.Var(within=pyo.NonNegativeReals)\n",
    "model.x1C = pyo.Var(within=pyo.NonNegativeReals)\n",
    "model.x2C = pyo.Var(within=pyo.NonNegativeReals)\n",
    "\n",
    "# Define the objective function\n",
    "model.profit = pyo.Objective(\n",
    "    expr=120*(model.x1A + model.x2A) + 135*(model.x1B + model.x2B) + 155*(model.x1C + model.x2C), \n",
    "    sense=pyo.maximize\n",
    ")\n",
    "\n",
    "# Define constraints\n",
    "model.availability_C1 = pyo.Constraint(expr=model.x1A + model.x1B + model.x1C <= 10000)\n",
    "model.availability_C2 = pyo.Constraint(expr=model.x2A + model.x2B + model.x2C <= 15000)\n",
    "\n",
    "model.demand_GCA = pyo.Constraint(expr=model.x1A + model.x2A >= 6000)\n",
    "model.demand_GCB = pyo.Constraint(expr=model.x1B + model.x2B >= 7000)\n",
    "model.demand_GCC = pyo.Constraint(expr=model.x1C + model.x2C >= 9000)\n",
    "\n",
    "model.critical_GCA = pyo.Constraint(expr=0.4*model.x1A + 0.2*model.x2A >= 0.3*(model.x1A + model.x2A))\n",
    "model.critical_GCB = pyo.Constraint(expr=0.4*model.x1B + 0.2*model.x2B <= 0.3*(model.x1B + model.x2B))\n",
    "\n",
    "model.ratio_GCC = pyo.Constraint(expr=model.x1C >= 0.3*model.x2C)\n",
    "\n",
    "# Solve the model\n",
    "solver = pyo.SolverFactory('glpk')  # You can choose a different solver if needed\n",
    "solver.solve(model)\n",
    "\n",
    "# Print the results\n",
    "print(\"Optimal Solution:\")\n",
    "print(f\"x1A: {model.x1A.value:.2f} liters\")\n",
    "print(f\"x2A: {model.x2A.value:.2f} liters\")\n",
    "print(f\"x1B: {model.x1B.value:.2f} liters\")\n",
    "print(f\"x2B: {model.x2B.value:.2f} liters\")\n",
    "print(f\"x1C: {model.x1C.value:.2f} liters\")\n",
    "print(f\"x2C: {model.x2C.value:.2f} liters\")\n",
    "print(f\"Total Profit: ${model.profit.expr():.2f}\")"
   ]
  },
  {
   "cell_type": "markdown",
   "id": "1be0926e",
   "metadata": {},
   "source": [
    "## 5. Correct the code to verify model viability (optional)"
   ]
  },
  {
   "cell_type": "code",
   "execution_count": null,
   "id": "8b37acfc",
   "metadata": {},
   "outputs": [],
   "source": []
  },
  {
   "cell_type": "markdown",
   "id": "79e08491",
   "metadata": {},
   "source": [
    "## 6. Print the responses"
   ]
  },
  {
   "cell_type": "code",
   "execution_count": 132,
   "id": "e6d93d74",
   "metadata": {},
   "outputs": [
    {
     "data": {
      "text/plain": [
       "'### Decision Variables:\\n\\n*  **x<sub>1A</sub>**: Liters of component C1 used in the production of product GCA.\\n*  **x<sub>2A</sub>**: Liters of component C2 used in the production of product GCA.\\n*  **x<sub>1B</sub>**: Liters of component C1 used in the production of product GCB.\\n*  **x<sub>2B</sub>**: Liters of component C2 used in the production of product GCB.\\n*  **x<sub>1C</sub>**: Liters of component C1 used in the production of product GCC.\\n*  **x<sub>2C</sub>**: Liters of component C2 used in the production of product GCC. \\n'"
      ]
     },
     "execution_count": 132,
     "metadata": {},
     "output_type": "execute_result"
    }
   ],
   "source": [
    "response.text"
   ]
  },
  {
   "cell_type": "code",
   "execution_count": 133,
   "id": "5d2e9c87",
   "metadata": {},
   "outputs": [
    {
     "data": {
      "text/plain": [
       "'Maximize: \\n\\n**120(x<sub>1A</sub> + x<sub>2A</sub>) + 135(x<sub>1B</sub> + x<sub>2B</sub>) + 155(x<sub>1C</sub> + x<sub>2C</sub>)** \\n'"
      ]
     },
     "execution_count": 133,
     "metadata": {},
     "output_type": "execute_result"
    }
   ],
   "source": [
    "response2.text"
   ]
  },
  {
   "cell_type": "code",
   "execution_count": 134,
   "id": "d163b1dd",
   "metadata": {},
   "outputs": [
    {
     "data": {
      "text/plain": [
       "'Subject to:\\n\\n**Availability Constraints:**\\n\\n*  x<sub>1A</sub> + x<sub>1B</sub> + x<sub>1C</sub> ≤ 10,000 (Liters of C1 available)\\n*  x<sub>2A</sub> + x<sub>2B</sub> + x<sub>2C</sub> ≤ 15,000 (Liters of C2 available)\\n\\n**Demand Constraints:**\\n\\n*  x<sub>1A</sub> + x<sub>2A</sub> ≥ 6,000 (Demand for GCA)\\n*  x<sub>1B</sub> + x<sub>2B</sub> ≥ 7,000 (Demand for GCB)\\n*  x<sub>1C</sub> + x<sub>2C</sub> ≥ 9,000 (Demand for GCC)\\n\\n**Critical Element Constraints:**\\n\\n* 0.4x<sub>1A</sub> + 0.2x<sub>2A</sub> ≥ 0.3(x<sub>1A</sub> + x<sub>2A</sub>)  (Critical element in GCA)\\n* 0.4x<sub>1B</sub> + 0.2x<sub>2B</sub> ≤ 0.3(x<sub>1B</sub> + x<sub>2B</sub>)  (Critical element in GCB) \\n\\n**Component Ratio Constraint:**\\n\\n* x<sub>1C</sub> ≥ 0.3x<sub>2C</sub> (Ratio of C1 to C2 in GCC)\\n\\n**Non-Negativity Constraints:**\\n\\n* x<sub>1A</sub>, x<sub>2A</sub>, x<sub>1B</sub>, x<sub>2B</sub>, x<sub>1C</sub>, x<sub>2C</sub> ≥ 0 \\n'"
      ]
     },
     "execution_count": 134,
     "metadata": {},
     "output_type": "execute_result"
    }
   ],
   "source": [
    "response3.text"
   ]
  },
  {
   "cell_type": "code",
   "execution_count": 135,
   "id": "cb4da984",
   "metadata": {},
   "outputs": [
    {
     "data": {
      "text/plain": [
       "'```python\\nimport pyomo.environ as pyo\\n\\n# Create a concrete model\\nmodel = pyo.ConcreteModel()\\n\\n# Define decision variables\\nmodel.x1A = pyo.Var(within=pyo.NonNegativeReals)\\nmodel.x2A = pyo.Var(within=pyo.NonNegativeReals)\\nmodel.x1B = pyo.Var(within=pyo.NonNegativeReals)\\nmodel.x2B = pyo.Var(within=pyo.NonNegativeReals)\\nmodel.x1C = pyo.Var(within=pyo.NonNegativeReals)\\nmodel.x2C = pyo.Var(within=pyo.NonNegativeReals)\\n\\n# Define the objective function\\nmodel.profit = pyo.Objective(\\n    expr=120*(model.x1A + model.x2A) + 135*(model.x1B + model.x2B) + 155*(model.x1C + model.x2C), \\n    sense=pyo.maximize\\n)\\n\\n# Define constraints\\nmodel.availability_C1 = pyo.Constraint(expr=model.x1A + model.x1B + model.x1C <= 10000)\\nmodel.availability_C2 = pyo.Constraint(expr=model.x2A + model.x2B + model.x2C <= 15000)\\n\\nmodel.demand_GCA = pyo.Constraint(expr=model.x1A + model.x2A >= 6000)\\nmodel.demand_GCB = pyo.Constraint(expr=model.x1B + model.x2B >= 7000)\\nmodel.demand_GCC = pyo.Constraint(expr=model.x1C + model.x2C >= 9000)\\n\\nmodel.critical_GCA = pyo.Constraint(expr=0.4*model.x1A + 0.2*model.x2A >= 0.3*(model.x1A + model.x2A))\\nmodel.critical_GCB = pyo.Constraint(expr=0.4*model.x1B + 0.2*model.x2B <= 0.3*(model.x1B + model.x2B))\\n\\nmodel.ratio_GCC = pyo.Constraint(expr=model.x1C >= 0.3*model.x2C)\\n\\n# Solve the model\\nsolver = pyo.SolverFactory(\\'glpk\\')  # You can choose a different solver if needed\\nsolver.solve(model)\\n\\n# Print the results\\nprint(\"Optimal Solution:\")\\nprint(f\"x1A: {model.x1A.value:.2f} liters\")\\nprint(f\"x2A: {model.x2A.value:.2f} liters\")\\nprint(f\"x1B: {model.x1B.value:.2f} liters\")\\nprint(f\"x2B: {model.x2B.value:.2f} liters\")\\nprint(f\"x1C: {model.x1C.value:.2f} liters\")\\nprint(f\"x2C: {model.x2C.value:.2f} liters\")\\nprint(f\"Total Profit: ${model.profit.expr():.2f}\")\\n```\\n'"
      ]
     },
     "execution_count": 135,
     "metadata": {},
     "output_type": "execute_result"
    }
   ],
   "source": [
    "response4.text"
   ]
  }
 ],
 "metadata": {
  "kernelspec": {
   "display_name": "Python 3 (ipykernel)",
   "language": "python",
   "name": "python3"
  },
  "language_info": {
   "codemirror_mode": {
    "name": "ipython",
    "version": 3
   },
   "file_extension": ".py",
   "mimetype": "text/x-python",
   "name": "python",
   "nbconvert_exporter": "python",
   "pygments_lexer": "ipython3",
   "version": "3.11.4"
  }
 },
 "nbformat": 4,
 "nbformat_minor": 5
}
