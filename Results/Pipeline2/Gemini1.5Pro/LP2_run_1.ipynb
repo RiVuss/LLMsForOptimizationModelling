{
 "cells": [
  {
   "cell_type": "markdown",
   "id": "f0005e9e",
   "metadata": {},
   "source": [
    "# LLM Optimization Modelling Experiment"
   ]
  },
  {
   "cell_type": "code",
   "execution_count": 1,
   "id": "7f664028",
   "metadata": {},
   "outputs": [],
   "source": [
    "import vertexai\n",
    "from vertexai.preview.generative_models import GenerativeModel, Image\n",
    "from IPython.display import Markdown"
   ]
  },
  {
   "cell_type": "markdown",
   "id": "f527d6af",
   "metadata": {},
   "source": [
    "## 1. Define the problem description"
   ]
  },
  {
   "cell_type": "code",
   "execution_count": 363,
   "id": "25055ffd",
   "metadata": {},
   "outputs": [],
   "source": [
    "problem = '''You are in charge of the supply purchasing of a company that produces two kinds of drugs. \n",
    "The drugs contain a specific active agent, which is extracted from two different kinds of raw materials that should be purchased on the market. \n",
    "\n",
    "The goal is to maximize the total profit obtained from producing the drugs, which means minimizing purchasing costs for buying the raw materials and minimizing operational costs for producing the drugs while maximizing sales. \n",
    "\n",
    "You are given a budget for purchasing raw materials and operating the production process of the drugs which cannot be exceeded. \n",
    "Additionally, you need to keep the capacity constraints for the production of the drugs in mind as there is only a limited amount of manpower as well as equipment hours available. \n",
    "Your company can also only store a limited amount of raw materials. \n",
    "Most importantly, the amount of active ingredient extracted from the raw materials you purchase needs to satisfy the required amount of active ingredient in the drugs your company produces. \n",
    "Importantly, your experience with the production of the drugs has shown the the amount of active ingredient your process extracts from the two raw materials can vary by up to 0.5% and 2%, respectively. \n",
    "During purchasing, you need to make sure that no matter how much the amount of active ingredient varies, the required amount for the drug production is always met. '''"
   ]
  },
  {
   "cell_type": "markdown",
   "id": "472cf9ad",
   "metadata": {},
   "source": [
    "## 2. Ask for parameters"
   ]
  },
  {
   "cell_type": "code",
   "execution_count": 366,
   "id": "e31ec80c",
   "metadata": {},
   "outputs": [],
   "source": [
    "#Initializing the session. To replicate, make sure the right credentials are saved in a PATH variable\n",
    "PROJECT_ID = \"llm4optproblems\"\n",
    "REGION = \"us-central1\"\n",
    "vertexai.init(project=PROJECT_ID, location=REGION)\n",
    "\n",
    "#Specifying the model\n",
    "generative_multimodal_model = GenerativeModel(\"gemini-1.5-pro-preview-0409\")\n",
    "\n",
    "#The propmt applied to all problems\n",
    "prompt = '''Please formulate only the variables for this mathematical optimization problem. \n",
    "'''\n",
    "\n",
    "#Generate the response\n",
    "response = generative_multimodal_model.generate_content([prompt+problem])\n"
   ]
  },
  {
   "cell_type": "code",
   "execution_count": 367,
   "id": "f9adc567",
   "metadata": {},
   "outputs": [
    {
     "data": {
      "text/markdown": [
       "## Indices:\n",
       "\n",
       "*   $i = 1, 2$: Index for the two different raw materials.\n",
       "*   $j = 1, 2$: Index for the two different drugs.\n",
       "\n",
       "## Parameters:\n",
       "\n",
       "*   $P_j$: Selling price per unit of drug $j$.\n",
       "*   $C_i$: Purchasing cost per unit of raw material $i$.\n",
       "*   $O_j$: Operational cost per unit of drug $j$ produced.\n",
       "*   $B$: Total budget for purchasing raw materials and operating the production process.\n",
       "*   $K_j$: Capacity constraint for the production of drug $j$ (in units).\n",
       "*   $S_i$: Storage capacity for raw material $i$ (in units).\n",
       "*   $R_j$: Required amount of active ingredient in drug $j$ (in units per unit of drug).\n",
       "*   $E_{ij}$: Nominal amount of active ingredient extracted from raw material $i$ per unit of raw material used in drug $j$ (in units per unit).\n",
       "*   $\\alpha_1 = 0.005$: Maximum percentage variation of active ingredient extracted from raw material 1.\n",
       "*   $\\alpha_2 = 0.02$: Maximum percentage variation of active ingredient extracted from raw material 2.\n",
       "\n",
       "## Variables:\n",
       "\n",
       "*   $x_i$: Amount of raw material $i$ purchased (in units).\n",
       "*   $y_j$: Amount of drug $j$ produced (in units). \n"
      ],
      "text/plain": [
       "<IPython.core.display.Markdown object>"
      ]
     },
     "execution_count": 367,
     "metadata": {},
     "output_type": "execute_result"
    }
   ],
   "source": [
    "#Show the resopnse in a formatted way\n",
    "Markdown(response.text)"
   ]
  },
  {
   "cell_type": "markdown",
   "id": "15d9e89f",
   "metadata": {},
   "source": [
    "# 2. Ask for objective"
   ]
  },
  {
   "cell_type": "code",
   "execution_count": 368,
   "id": "4f357a19",
   "metadata": {},
   "outputs": [],
   "source": [
    "#Second prompt gets the output of the previous step and generates the code\n",
    "prompt2 = \"Please formulate only the objective function for this mathematical optimization problem.\"\n",
    "prompt2 += problem + response.text\n",
    "response2 = generative_multimodal_model.generate_content([prompt2])"
   ]
  },
  {
   "cell_type": "code",
   "execution_count": 369,
   "id": "bccd1014",
   "metadata": {},
   "outputs": [
    {
     "data": {
      "text/markdown": [
       "$$\\max  \\sum_{j=1}^{2} P_j y_j - \\sum_{i=1}^{2} C_i x_i - \\sum_{j=1}^{2} O_j y_j $$ \n"
      ],
      "text/plain": [
       "<IPython.core.display.Markdown object>"
      ]
     },
     "execution_count": 369,
     "metadata": {},
     "output_type": "execute_result"
    }
   ],
   "source": [
    "Markdown(response2.text)"
   ]
  },
  {
   "cell_type": "markdown",
   "id": "d8ab1404",
   "metadata": {},
   "source": [
    "# 3. Ask for constraints"
   ]
  },
  {
   "cell_type": "code",
   "execution_count": 370,
   "id": "e6409951",
   "metadata": {},
   "outputs": [],
   "source": [
    "#Second prompt gets the output of the previous step and generates the code\n",
    "prompt3 = \"Please formulate only the constraints for this mathematical optimization problem.\"\n",
    "prompt3 += problem + response.text + response2.text\n",
    "response3 = generative_multimodal_model.generate_content([prompt3])"
   ]
  },
  {
   "cell_type": "code",
   "execution_count": 371,
   "id": "2f9439c2",
   "metadata": {},
   "outputs": [
    {
     "data": {
      "text/markdown": [
       "Subject to:\n",
       "\n",
       "* **Budget constraint:**  \\[\\sum_{i=1}^{2} C_i x_i + \\sum_{j=1}^{2} O_j y_j  \\leq B \\]\n",
       "* **Capacity constraints:** \\[ y_j \\leq K_j, \\quad j = 1, 2 \\]\n",
       "* **Storage constraints:** \\[ x_i \\leq S_i, \\quad i = 1, 2 \\]\n",
       "* **Active ingredient requirement with uncertainty:** \n",
       "  \\[\\sum_{i=1}^{2} E_{ij} (1 - \\alpha_i) x_i  \\geq R_j y_j, \\quad j = 1, 2 \\]\n",
       "* **Non-negativity constraints:** \\[ x_i \\geq 0, \\quad i = 1, 2 \\] \\[ y_j \\geq 0, \\quad j = 1, 2 \\] \n"
      ],
      "text/plain": [
       "<IPython.core.display.Markdown object>"
      ]
     },
     "execution_count": 371,
     "metadata": {},
     "output_type": "execute_result"
    }
   ],
   "source": [
    "Markdown(response3.text)"
   ]
  },
  {
   "cell_type": "markdown",
   "id": "75796979",
   "metadata": {},
   "source": [
    "## 3. Generate the pyomo code"
   ]
  },
  {
   "cell_type": "code",
   "execution_count": 372,
   "id": "aabea932",
   "metadata": {},
   "outputs": [],
   "source": [
    "#Second prompt gets the output of the previous step and generates the code\n",
    "prompt4 = \"Please write pyomo code for this mathematical problem. Use sample data where needed. Indicate where you use sample data. \\n\"\n",
    "prompt4 += response.text + response2.text + response3.text \n",
    "response4 = generative_multimodal_model.generate_content([prompt4])"
   ]
  },
  {
   "cell_type": "code",
   "execution_count": 374,
   "id": "32cae20a",
   "metadata": {},
   "outputs": [
    {
     "data": {
      "text/markdown": [
       "```python\n",
       "import pyomo.environ as pyo\n",
       "\n",
       "# Sample data (replace with actual data)\n",
       "P = {1: 100, 2: 150}  # Selling price per unit of drug j\n",
       "C = {1: 20, 2: 30}  # Purchasing cost per unit of raw material i\n",
       "O = {1: 10, 2: 15}  # Operational cost per unit of drug j produced\n",
       "B = 10000  # Total budget\n",
       "K = {1: 500, 2: 300}  # Capacity constraint for drug j\n",
       "S = {1: 800, 2: 600}  # Storage capacity for raw material i\n",
       "R = {1: 0.5, 2: 0.8}  # Required amount of active ingredient in drug j\n",
       "E = {\n",
       "    (1, 1): 0.6,\n",
       "    (1, 2): 0.5,\n",
       "    (2, 1): 0.4,\n",
       "    (2, 2): 0.7,\n",
       "}  # Amount of active ingredient extracted\n",
       "alpha = {1: 0.005, 2: 0.02}  # Maximum % variation of active ingredient\n",
       "\n",
       "# Define the model\n",
       "model = pyo.ConcreteModel()\n",
       "\n",
       "# Define sets\n",
       "model.i = pyo.Set(initialize=[1, 2])  # Raw materials\n",
       "model.j = pyo.Set(initialize=[1, 2])  # Drugs\n",
       "\n",
       "# Define variables\n",
       "model.x = pyo.Var(model.i, domain=pyo.NonNegativeReals)  # Amount of raw material purchased\n",
       "model.y = pyo.Var(model.j, domain=pyo.NonNegativeReals)  # Amount of drug produced\n",
       "\n",
       "# Define objective function\n",
       "model.profit = pyo.Objective(\n",
       "    expr=sum(P[j] * model.y[j] for j in model.j)\n",
       "    - sum(C[i] * model.x[i] for i in model.i)\n",
       "    - sum(O[j] * model.y[j] for j in model.j),\n",
       "    sense=pyo.maximize,\n",
       ")\n",
       "\n",
       "# Define constraints\n",
       "model.budget_constraint = pyo.Constraint(\n",
       "    expr=sum(C[i] * model.x[i] for i in model.i)\n",
       "    + sum(O[j] * model.y[j] for j in model.j)\n",
       "    <= B\n",
       ")\n",
       "\n",
       "model.capacity_constraints = pyo.ConstraintList()\n",
       "for j in model.j:\n",
       "    model.capacity_constraints.add(model.y[j] <= K[j])\n",
       "\n",
       "model.storage_constraints = pyo.ConstraintList()\n",
       "for i in model.i:\n",
       "    model.storage_constraints.add(model.x[i] <= S[i])\n",
       "\n",
       "model.active_ingredient_constraints = pyo.ConstraintList()\n",
       "for j in model.j:\n",
       "    model.active_ingredient_constraints.add(\n",
       "        sum(E[i, j] * (1 - alpha[i]) * model.x[i] for i in model.i) >= R[j] * model.y[j]\n",
       "    )\n",
       "\n",
       "# Solve the model\n",
       "solver = pyo.SolverFactory('glpk')  # Choose a solver\n",
       "solver.solve(model)\n",
       "\n",
       "# Print the solution\n",
       "print(\"Optimal solution:\")\n",
       "print(\"Raw materials (x):\")\n",
       "for i in model.i:\n",
       "    print(f\"  x[{i}] = {pyo.value(model.x[i])}\")\n",
       "print(\"Drugs produced (y):\")\n",
       "for j in model.j:\n",
       "    print(f\"  y[{j}] = {pyo.value(model.y[j])}\")\n",
       "print(f\"Total profit = {pyo.value(model.profit)}\")\n",
       "```\n"
      ],
      "text/plain": [
       "<IPython.core.display.Markdown object>"
      ]
     },
     "execution_count": 374,
     "metadata": {},
     "output_type": "execute_result"
    }
   ],
   "source": [
    "## Showing the code in a formatted way\n",
    "Markdown(response4.text)"
   ]
  },
  {
   "cell_type": "markdown",
   "id": "b60756ae",
   "metadata": {},
   "source": [
    "## 4. Input problem data and try running the generated code"
   ]
  },
  {
   "cell_type": "code",
   "execution_count": 377,
   "id": "41ed7d93",
   "metadata": {},
   "outputs": [
    {
     "name": "stdout",
     "output_type": "stream",
     "text": [
      "Optimal solution:\n",
      "Raw materials (x):\n",
      "  x[1] = 0.0\n",
      "  x[2] = 136.054421768707\n",
      "Drugs produced (y):\n",
      "  y[1] = 100.0\n",
      "  y[2] = 100.0\n",
      "Total profit = 1132802.7210884355\n"
     ]
    }
   ],
   "source": [
    "import pyomo.environ as pyo\n",
    "\n",
    "# Sample data (replace with actual data)\n",
    "P = {1: 6200, 2: 6900}  # Selling price per unit of drug j\n",
    "C = {1: 100, 2: 199.90}  # Purchasing cost per unit of raw material i\n",
    "O = {1: 700, 2: 800}  # Operational cost per unit of drug j produced\n",
    "B = 1000000  # Total budget\n",
    "K = {1: 100, 2: 100}  # Capacity constraint for drug j   #Maxing it out since we don't have info on that\n",
    "S = {1: 1000, 2: 1000}  # Storage capacity for raw material             #Same\n",
    "R = {1: 0.5, 2: 0.8}  # Required amount of active ingredient in drug j\n",
    "E = {\n",
    "    (1, 1): 0.01,\n",
    "    (1, 2): 0.02,\n",
    "    (2, 1): 0.5,\n",
    "    (2, 2): 0.6,\n",
    "}  # Amount of active ingredient extracted\n",
    "alpha = {1: 0.005, 2: 0.02}  # Maximum % variation of active ingredient\n",
    "\n",
    "# Define the model\n",
    "model = pyo.ConcreteModel()\n",
    "\n",
    "# Define sets\n",
    "model.i = pyo.Set(initialize=[1, 2])  # Raw materials\n",
    "model.j = pyo.Set(initialize=[1, 2])  # Drugs\n",
    "\n",
    "# Define variables\n",
    "model.x = pyo.Var(model.i, domain=pyo.NonNegativeReals)  # Amount of raw material purchased\n",
    "model.y = pyo.Var(model.j, domain=pyo.NonNegativeReals)  # Amount of drug produced\n",
    "\n",
    "# Define objective function\n",
    "model.profit = pyo.Objective(\n",
    "    expr=sum(P[j] * model.y[j] for j in model.j)\n",
    "    - sum(C[i] * model.x[i] for i in model.i)\n",
    "    - sum(O[j] * model.y[j] for j in model.j),\n",
    "    sense=pyo.maximize,\n",
    ")\n",
    "\n",
    "# Define constraints\n",
    "model.budget_constraint = pyo.Constraint(\n",
    "    expr=sum(C[i] * model.x[i] for i in model.i)\n",
    "    + sum(O[j] * model.y[j] for j in model.j)\n",
    "    <= B\n",
    ")\n",
    "\n",
    "model.capacity_constraints = pyo.ConstraintList()\n",
    "for j in model.j:\n",
    "    model.capacity_constraints.add(model.y[j] <= K[j])\n",
    "\n",
    "model.storage_constraints = pyo.ConstraintList()\n",
    "for i in model.i:\n",
    "    model.storage_constraints.add(model.x[i] <= S[i])\n",
    "\n",
    "model.active_ingredient_constraints = pyo.ConstraintList()\n",
    "for j in model.j:\n",
    "    model.active_ingredient_constraints.add(\n",
    "        sum(E[i, j] * (1 - alpha[i]) * model.x[i] for i in model.i) >= R[j] * model.y[j]\n",
    "    )\n",
    "\n",
    "# Solve the model\n",
    "solver = pyo.SolverFactory('glpk')  # Choose a solver\n",
    "solver.solve(model)\n",
    "\n",
    "# Print the solution\n",
    "print(\"Optimal solution:\")\n",
    "print(\"Raw materials (x):\")\n",
    "for i in model.i:\n",
    "    print(f\"  x[{i}] = {pyo.value(model.x[i])}\")\n",
    "print(\"Drugs produced (y):\")\n",
    "for j in model.j:\n",
    "    print(f\"  y[{j}] = {pyo.value(model.y[j])}\")\n",
    "print(f\"Total profit = {pyo.value(model.profit)}\")"
   ]
  },
  {
   "cell_type": "markdown",
   "id": "1be0926e",
   "metadata": {},
   "source": [
    "## 5. Correct the code to verify model viability (optional)"
   ]
  },
  {
   "cell_type": "code",
   "execution_count": null,
   "id": "8b37acfc",
   "metadata": {},
   "outputs": [],
   "source": []
  },
  {
   "cell_type": "markdown",
   "id": "403a9f1c",
   "metadata": {},
   "source": [
    "## 6. Print the responses"
   ]
  },
  {
   "cell_type": "code",
   "execution_count": 378,
   "id": "975ccd48",
   "metadata": {},
   "outputs": [
    {
     "name": "stdout",
     "output_type": "stream",
     "text": [
      "## Indices:\n",
      "\n",
      "*   $i = 1, 2$: Index for the two different raw materials.\n",
      "*   $j = 1, 2$: Index for the two different drugs.\n",
      "\n",
      "## Parameters:\n",
      "\n",
      "*   $P_j$: Selling price per unit of drug $j$.\n",
      "*   $C_i$: Purchasing cost per unit of raw material $i$.\n",
      "*   $O_j$: Operational cost per unit of drug $j$ produced.\n",
      "*   $B$: Total budget for purchasing raw materials and operating the production process.\n",
      "*   $K_j$: Capacity constraint for the production of drug $j$ (in units).\n",
      "*   $S_i$: Storage capacity for raw material $i$ (in units).\n",
      "*   $R_j$: Required amount of active ingredient in drug $j$ (in units per unit of drug).\n",
      "*   $E_{ij}$: Nominal amount of active ingredient extracted from raw material $i$ per unit of raw material used in drug $j$ (in units per unit).\n",
      "*   $\\alpha_1 = 0.005$: Maximum percentage variation of active ingredient extracted from raw material 1.\n",
      "*   $\\alpha_2 = 0.02$: Maximum percentage variation of active ingredient extracted from raw material 2.\n",
      "\n",
      "## Variables:\n",
      "\n",
      "*   $x_i$: Amount of raw material $i$ purchased (in units).\n",
      "*   $y_j$: Amount of drug $j$ produced (in units). \n",
      "\n"
     ]
    }
   ],
   "source": [
    "print(response.text)"
   ]
  },
  {
   "cell_type": "code",
   "execution_count": 379,
   "id": "27f6833e",
   "metadata": {},
   "outputs": [
    {
     "name": "stdout",
     "output_type": "stream",
     "text": [
      "$$\\max  \\sum_{j=1}^{2} P_j y_j - \\sum_{i=1}^{2} C_i x_i - \\sum_{j=1}^{2} O_j y_j $$ \n",
      "\n"
     ]
    }
   ],
   "source": [
    "print(response2.text)"
   ]
  },
  {
   "cell_type": "code",
   "execution_count": 380,
   "id": "8c745ddc",
   "metadata": {},
   "outputs": [
    {
     "name": "stdout",
     "output_type": "stream",
     "text": [
      "Subject to:\n",
      "\n",
      "* **Budget constraint:**  \\[\\sum_{i=1}^{2} C_i x_i + \\sum_{j=1}^{2} O_j y_j  \\leq B \\]\n",
      "* **Capacity constraints:** \\[ y_j \\leq K_j, \\quad j = 1, 2 \\]\n",
      "* **Storage constraints:** \\[ x_i \\leq S_i, \\quad i = 1, 2 \\]\n",
      "* **Active ingredient requirement with uncertainty:** \n",
      "  \\[\\sum_{i=1}^{2} E_{ij} (1 - \\alpha_i) x_i  \\geq R_j y_j, \\quad j = 1, 2 \\]\n",
      "* **Non-negativity constraints:** \\[ x_i \\geq 0, \\quad i = 1, 2 \\] \\[ y_j \\geq 0, \\quad j = 1, 2 \\] \n",
      "\n"
     ]
    }
   ],
   "source": [
    "print(response3.text)"
   ]
  },
  {
   "cell_type": "code",
   "execution_count": 381,
   "id": "14b64763",
   "metadata": {},
   "outputs": [
    {
     "name": "stdout",
     "output_type": "stream",
     "text": [
      "```python\n",
      "import pyomo.environ as pyo\n",
      "\n",
      "# Sample data (replace with actual data)\n",
      "P = {1: 100, 2: 150}  # Selling price per unit of drug j\n",
      "C = {1: 20, 2: 30}  # Purchasing cost per unit of raw material i\n",
      "O = {1: 10, 2: 15}  # Operational cost per unit of drug j produced\n",
      "B = 10000  # Total budget\n",
      "K = {1: 500, 2: 300}  # Capacity constraint for drug j\n",
      "S = {1: 800, 2: 600}  # Storage capacity for raw material i\n",
      "R = {1: 0.5, 2: 0.8}  # Required amount of active ingredient in drug j\n",
      "E = {\n",
      "    (1, 1): 0.6,\n",
      "    (1, 2): 0.5,\n",
      "    (2, 1): 0.4,\n",
      "    (2, 2): 0.7,\n",
      "}  # Amount of active ingredient extracted\n",
      "alpha = {1: 0.005, 2: 0.02}  # Maximum % variation of active ingredient\n",
      "\n",
      "# Define the model\n",
      "model = pyo.ConcreteModel()\n",
      "\n",
      "# Define sets\n",
      "model.i = pyo.Set(initialize=[1, 2])  # Raw materials\n",
      "model.j = pyo.Set(initialize=[1, 2])  # Drugs\n",
      "\n",
      "# Define variables\n",
      "model.x = pyo.Var(model.i, domain=pyo.NonNegativeReals)  # Amount of raw material purchased\n",
      "model.y = pyo.Var(model.j, domain=pyo.NonNegativeReals)  # Amount of drug produced\n",
      "\n",
      "# Define objective function\n",
      "model.profit = pyo.Objective(\n",
      "    expr=sum(P[j] * model.y[j] for j in model.j)\n",
      "    - sum(C[i] * model.x[i] for i in model.i)\n",
      "    - sum(O[j] * model.y[j] for j in model.j),\n",
      "    sense=pyo.maximize,\n",
      ")\n",
      "\n",
      "# Define constraints\n",
      "model.budget_constraint = pyo.Constraint(\n",
      "    expr=sum(C[i] * model.x[i] for i in model.i)\n",
      "    + sum(O[j] * model.y[j] for j in model.j)\n",
      "    <= B\n",
      ")\n",
      "\n",
      "model.capacity_constraints = pyo.ConstraintList()\n",
      "for j in model.j:\n",
      "    model.capacity_constraints.add(model.y[j] <= K[j])\n",
      "\n",
      "model.storage_constraints = pyo.ConstraintList()\n",
      "for i in model.i:\n",
      "    model.storage_constraints.add(model.x[i] <= S[i])\n",
      "\n",
      "model.active_ingredient_constraints = pyo.ConstraintList()\n",
      "for j in model.j:\n",
      "    model.active_ingredient_constraints.add(\n",
      "        sum(E[i, j] * (1 - alpha[i]) * model.x[i] for i in model.i) >= R[j] * model.y[j]\n",
      "    )\n",
      "\n",
      "# Solve the model\n",
      "solver = pyo.SolverFactory('glpk')  # Choose a solver\n",
      "solver.solve(model)\n",
      "\n",
      "# Print the solution\n",
      "print(\"Optimal solution:\")\n",
      "print(\"Raw materials (x):\")\n",
      "for i in model.i:\n",
      "    print(f\"  x[{i}] = {pyo.value(model.x[i])}\")\n",
      "print(\"Drugs produced (y):\")\n",
      "for j in model.j:\n",
      "    print(f\"  y[{j}] = {pyo.value(model.y[j])}\")\n",
      "print(f\"Total profit = {pyo.value(model.profit)}\")\n",
      "```\n",
      "\n"
     ]
    }
   ],
   "source": [
    "print(response4.text)"
   ]
  }
 ],
 "metadata": {
  "kernelspec": {
   "display_name": "Python 3 (ipykernel)",
   "language": "python",
   "name": "python3"
  },
  "language_info": {
   "codemirror_mode": {
    "name": "ipython",
    "version": 3
   },
   "file_extension": ".py",
   "mimetype": "text/x-python",
   "name": "python",
   "nbconvert_exporter": "python",
   "pygments_lexer": "ipython3",
   "version": "3.11.4"
  }
 },
 "nbformat": 4,
 "nbformat_minor": 5
}
