{
 "cells": [
  {
   "cell_type": "markdown",
   "id": "f0005e9e",
   "metadata": {},
   "source": [
    "# LLM Optimization Modelling Experiment"
   ]
  },
  {
   "cell_type": "code",
   "execution_count": 8,
   "id": "7f664028",
   "metadata": {},
   "outputs": [],
   "source": [
    "import vertexai\n",
    "from vertexai.preview.generative_models import GenerativeModel, Image\n",
    "from IPython.display import Markdown"
   ]
  },
  {
   "cell_type": "markdown",
   "id": "f527d6af",
   "metadata": {},
   "source": [
    "## 1. Define the problem description"
   ]
  },
  {
   "cell_type": "code",
   "execution_count": 107,
   "id": "25055ffd",
   "metadata": {},
   "outputs": [],
   "source": [
    "problem = '''Imagine you own a small shop, and you're trying to manage your employees' working hours and sales targets efficiently.\n",
    "You have three kinds of goals overall: sales goals, employee hours goals and overtime goals.\n",
    "\n",
    "Sales Goals: \n",
    "You have a target of selling 5500 units. \n",
    "But sometimes, you might sell fewer (negative deviation) or more (positive deviation) than this target. \n",
    "On average, your full-time employees will sell 5 records per hour and your part-time employees will sell 2 records per hour.\n",
    "\n",
    "Employee Hours: \n",
    "You have both full-time and part-time employees. \n",
    "Your full-time employees are expected to work a total of 800 hours, while part-time employees are expected to work 320 hours. \n",
    "Similarly, like sales, there could be deviations in these working hours. \n",
    "\n",
    "Overtime: \n",
    "Additionally, your employees might end up working overtime. \n",
    "You have a target of 100 hours of overtime for full-time employees.\n",
    "You are not concerned about limiting the overtime of part-time employees.\n",
    "Again, you might deviate from this goal.\n",
    "\n",
    "Each of these deviations has a different priority for you. \n",
    "P1 to P4 are priority factors for each deviation.\n",
    "Your most important goal is to achieve your sales goal.\n",
    "Second to that is the goal to not exceed 100 overtime hours for full-time employees.\n",
    "Then, you next priority is to fully utilize your full-time and part time employees.\n",
    "Your last goal with the lowest priority, you want to keep general overtime hours for both kinds of employees as low as possible.\n",
    "In addition to the general priorities of you goals, you are twice as concerned about fully utilizing the full-time employee hours.\n",
    "Finally, overtime hours of part-time employees have a relative cost of three times that of full-time employees.\n",
    "\n",
    "Now, the goal here is to minimize the overall impact of these deviations, considering their priorities. \n",
    "This means finding the best balance between sales targets, employee hours, and overtime, while keeping in mind which deviations are more critical for your business.'''"
   ]
  },
  {
   "cell_type": "markdown",
   "id": "472cf9ad",
   "metadata": {},
   "source": [
    "## 2. Ask for parameters"
   ]
  },
  {
   "cell_type": "code",
   "execution_count": 125,
   "id": "e31ec80c",
   "metadata": {},
   "outputs": [],
   "source": [
    "#Initializing the session. To replicate, make sure the right credentials are saved in a PATH variable\n",
    "PROJECT_ID = \"llm4optproblems\"\n",
    "REGION = \"us-central1\"\n",
    "vertexai.init(project=PROJECT_ID, location=REGION)\n",
    "\n",
    "#Specifying the model\n",
    "generative_multimodal_model = GenerativeModel(\"gemini-1.5-pro-preview-0409\")\n",
    "\n",
    "#The propmt applied to all problems\n",
    "prompt = '''Please formulate only the variables for this mathematical optimization problem. \n",
    "'''\n",
    "\n",
    "#Generate the response\n",
    "response = generative_multimodal_model.generate_content([prompt+problem])\n"
   ]
  },
  {
   "cell_type": "code",
   "execution_count": 126,
   "id": "f9adc567",
   "metadata": {
    "scrolled": false
   },
   "outputs": [
    {
     "data": {
      "text/markdown": [
       "## Variables:\n",
       "\n",
       "**Sales:**\n",
       "\n",
       "*  **S:** Positive deviation from the sales target of 5500 units.\n",
       "*  **s:** Negative deviation from the sales target of 5500 units. \n",
       "\n",
       "**Employee Hours:**\n",
       "\n",
       "*  **F:** Positive deviation from the target of 800 hours for full-time employees.\n",
       "*  **f:** Negative deviation from the target of 800 hours for full-time employees.\n",
       "*  **P:** Positive deviation from the target of 320 hours for part-time employees.\n",
       "*  **p:** Negative deviation from the target of 320 hours for part-time employees.\n",
       "\n",
       "**Overtime:**\n",
       "\n",
       "*  **O:** Positive deviation from the target of 100 hours of overtime for full-time employees.\n",
       "*  **o:** Negative deviation from the target of 100 hours of overtime for full-time employees.\n",
       "*  **E:** Total overtime hours for part-time employees. \n",
       "\n",
       "**Priority Factors:**\n",
       "\n",
       "* **P1:** Priority factor for deviations from the sales target (S and s).\n",
       "* **P2:** Priority factor for exceeding overtime target for full-time employees (O).\n",
       "* **P3:** Priority factor for fully utilizing full-time and part-time employee hours (F, f, P, p).\n",
       "* **P4:** Priority factor for minimizing overall overtime (O, o, E). \n"
      ],
      "text/plain": [
       "<IPython.core.display.Markdown object>"
      ]
     },
     "execution_count": 126,
     "metadata": {},
     "output_type": "execute_result"
    }
   ],
   "source": [
    "#Show the resopnse in a formatted way\n",
    "Markdown(response.text)"
   ]
  },
  {
   "cell_type": "markdown",
   "id": "15d9e89f",
   "metadata": {},
   "source": [
    "# 2. Ask for objective"
   ]
  },
  {
   "cell_type": "code",
   "execution_count": 127,
   "id": "4f357a19",
   "metadata": {},
   "outputs": [],
   "source": [
    "#Second prompt gets the output of the previous step and generates the code\n",
    "prompt2 = \"Please formulate only the objective function for this mathematical optimization problem.\"\n",
    "prompt2 += problem + response.text\n",
    "response2 = generative_multimodal_model.generate_content([prompt2])"
   ]
  },
  {
   "cell_type": "code",
   "execution_count": 128,
   "id": "bccd1014",
   "metadata": {},
   "outputs": [
    {
     "data": {
      "text/markdown": [
       "```\n",
       "Minimize: \n",
       "\n",
       "P1 * (S + s) + P2 * O + P3 * (2*F + 2*f + P + p) + P4 * (O + o + 3*E) \n",
       "``` \n"
      ],
      "text/plain": [
       "<IPython.core.display.Markdown object>"
      ]
     },
     "execution_count": 128,
     "metadata": {},
     "output_type": "execute_result"
    }
   ],
   "source": [
    "Markdown(response2.text)"
   ]
  },
  {
   "cell_type": "markdown",
   "id": "d8ab1404",
   "metadata": {},
   "source": [
    "# 3. Ask for constraints"
   ]
  },
  {
   "cell_type": "code",
   "execution_count": 129,
   "id": "e6409951",
   "metadata": {},
   "outputs": [],
   "source": [
    "#Second prompt gets the output of the previous step and generates the code\n",
    "prompt3 = \"Please formulate only the constraints for this mathematical optimization problem.\"\n",
    "prompt3 += problem + response.text + response2.text\n",
    "response3 = generative_multimodal_model.generate_content([prompt3])"
   ]
  },
  {
   "cell_type": "code",
   "execution_count": 130,
   "id": "2f9439c2",
   "metadata": {},
   "outputs": [
    {
     "data": {
      "text/markdown": [
       "## Constraints:\n",
       "\n",
       "**Sales:**\n",
       "\n",
       "*  5 * (800 + F - f) + 2 * (320 + P - p) + 5 * (100 + O - o) + 2 * E = 5500 + S - s \n",
       "   *(This equation connects sales with employee hours and overtime. It ensures the total sales, considering the working hours and productivity of full-time and part-time employees, match the target sales plus any deviations)*\n",
       "\n",
       "**Non-negativity:**\n",
       "\n",
       "*  S, s, F, f, P, p, O, o, E ≥ 0 \n",
       "   *(All deviation variables must be non-negative)* \n"
      ],
      "text/plain": [
       "<IPython.core.display.Markdown object>"
      ]
     },
     "execution_count": 130,
     "metadata": {},
     "output_type": "execute_result"
    }
   ],
   "source": [
    "Markdown(response3.text)"
   ]
  },
  {
   "cell_type": "markdown",
   "id": "75796979",
   "metadata": {},
   "source": [
    "## 3. Generate the pyomo code"
   ]
  },
  {
   "cell_type": "code",
   "execution_count": 131,
   "id": "aabea932",
   "metadata": {},
   "outputs": [],
   "source": [
    "#Second prompt gets the output of the previous step and generates the code\n",
    "prompt4 = \"Please write pyomo code for this mathematical problem. Use sample data where needed. Indicate where you use sample data. \\n\"\n",
    "prompt4 += response.text + response2.text + response3.text \n",
    "response4 = generative_multimodal_model.generate_content([prompt4])"
   ]
  },
  {
   "cell_type": "code",
   "execution_count": 132,
   "id": "0dbc9976",
   "metadata": {
    "scrolled": false
   },
   "outputs": [
    {
     "data": {
      "text/markdown": [
       "```python\n",
       "import pyomo.environ as pyo\n",
       "\n",
       "# Sample Data (You can replace these with your actual data)\n",
       "P1 = 1  \n",
       "P2 = 1.2\n",
       "P3 = 0.8\n",
       "P4 = 1.5\n",
       "\n",
       "# Model\n",
       "model = pyo.ConcreteModel()\n",
       "\n",
       "# Variables\n",
       "model.S = pyo.Var(within=pyo.NonNegativeReals)\n",
       "model.s = pyo.Var(within=pyo.NonNegativeReals)\n",
       "model.F = pyo.Var(within=pyo.NonNegativeReals)\n",
       "model.f = pyo.Var(within=pyo.NonNegativeReals)\n",
       "model.P = pyo.Var(within=pyo.NonNegativeReals)\n",
       "model.p = pyo.Var(within=pyo.NonNegativeReals)\n",
       "model.O = pyo.Var(within=pyo.NonNegativeReals)\n",
       "model.o = pyo.Var(within=pyo.NonNegativeReals)\n",
       "model.E = pyo.Var(within=pyo.NonNegativeReals)\n",
       "\n",
       "# Objective Function\n",
       "model.obj = pyo.Objective(expr = \n",
       "                           P1 * (model.S + model.s) + \n",
       "                           P2 * model.O + \n",
       "                           P3 * (2*model.F + 2*model.f + model.P + model.p) + \n",
       "                           P4 * (model.O + model.o + 3*model.E),\n",
       "                           sense=pyo.minimize)\n",
       "\n",
       "# Constraints\n",
       "model.sales_constraint = pyo.Constraint(expr = \n",
       "                                        5 * (800 + model.F - model.f) + \n",
       "                                        2 * (320 + model.P - model.p) + \n",
       "                                        5 * (100 + model.O - model.o) + \n",
       "                                        2 * model.E == 5500 + model.S - model.s)\n",
       "\n",
       "# Solve\n",
       "solver = pyo.SolverFactory('cbc')  # Choose a solver (e.g., 'glpk', 'cbc')\n",
       "solver.solve(model)\n",
       "\n",
       "# Display Results\n",
       "print(\"Solution:\")\n",
       "print(f\"Sales Deviation (Positive): S = {pyo.value(model.S)}\")\n",
       "print(f\"Sales Deviation (Negative): s = {pyo.value(model.s)}\")\n",
       "print(f\"Full-Time Hours Deviation (Positive): F = {pyo.value(model.F)}\")\n",
       "print(f\"Full-Time Hours Deviation (Negative): f = {pyo.value(model.f)}\")\n",
       "print(f\"Part-Time Hours Deviation (Positive): P = {pyo.value(model.P)}\")\n",
       "print(f\"Part-Time Hours Deviation (Negative): p = {pyo.value(model.p)}\")\n",
       "print(f\"Full-Time Overtime Deviation (Positive): O = {pyo.value(model.O)}\")\n",
       "print(f\"Full-Time Overtime Deviation (Negative): o = {pyo.value(model.o)}\")\n",
       "print(f\"Part-Time Overtime: E = {pyo.value(model.E)}\")\n",
       "print(f\"Objective Value: {pyo.value(model.obj)}\") \n",
       "```\n",
       "\n",
       "In this code:\n",
       "\n",
       "1.  **Sample Data:** The values for `P1`, `P2`, `P3`, and `P4` are placeholders. You should replace these with your actual priority factor values.\n",
       "2.  **Model:** We create a concrete model using `pyo.ConcreteModel()`.\n",
       "3.  **Variables:** We define all the decision variables (`S`, `s`, `F`, `f`, `P`, `p`, `O`, `o`, `E`) using `pyo.Var()` and specify that they are non-negative.\n",
       "4.  **Objective Function:** We define the objective function to minimize, incorporating the priority factors and the deviations.\n",
       "5.  **Constraints:** We define the constraint connecting sales, employee hours, and overtime.\n",
       "6.  **Solver:** We choose a solver (here, 'cbc') using `pyo.SolverFactory()` and solve the model.\n",
       "7.  **Results:** We display the optimal values for each decision variable and the objective function value.\n"
      ],
      "text/plain": [
       "<IPython.core.display.Markdown object>"
      ]
     },
     "execution_count": 132,
     "metadata": {},
     "output_type": "execute_result"
    }
   ],
   "source": [
    "## Showing the code in a formatted way\n",
    "Markdown(response4.text)"
   ]
  },
  {
   "cell_type": "markdown",
   "id": "b60756ae",
   "metadata": {},
   "source": [
    "## 4. Input problem data and try running the generated code"
   ]
  },
  {
   "cell_type": "code",
   "execution_count": 1,
   "id": "9cc2e439",
   "metadata": {},
   "outputs": [
    {
     "name": "stdout",
     "output_type": "stream",
     "text": [
      "Solution:\n",
      "Sales Deviation (Positive): S = 0.0\n",
      "Sales Deviation (Negative): s = 0.0\n",
      "Full-Time Hours Deviation (Positive): F = 0.0\n",
      "Full-Time Hours Deviation (Negative): f = 0.0\n",
      "Part-Time Hours Deviation (Positive): P = 0.0\n",
      "Part-Time Hours Deviation (Negative): p = 0.0\n",
      "Full-Time Overtime Deviation (Positive): O = 72.0\n",
      "Full-Time Overtime Deviation (Negative): o = 0.0\n",
      "Part-Time Overtime: E = 0.0\n",
      "Objective Value: 288.0\n"
     ]
    }
   ],
   "source": [
    "import pyomo.environ as pyo\n",
    "\n",
    "# Sample Data (You can replace these with your actual data)\n",
    "P1 = 4\n",
    "P2 = 3\n",
    "P3 = 2\n",
    "P4 = 1\n",
    "\n",
    "# Model\n",
    "model = pyo.ConcreteModel()\n",
    "\n",
    "# Variables\n",
    "model.S = pyo.Var(within=pyo.NonNegativeReals)\n",
    "model.s = pyo.Var(within=pyo.NonNegativeReals)\n",
    "model.F = pyo.Var(within=pyo.NonNegativeReals)\n",
    "model.f = pyo.Var(within=pyo.NonNegativeReals)\n",
    "model.P = pyo.Var(within=pyo.NonNegativeReals)\n",
    "model.p = pyo.Var(within=pyo.NonNegativeReals)\n",
    "model.O = pyo.Var(within=pyo.NonNegativeReals)\n",
    "model.o = pyo.Var(within=pyo.NonNegativeReals)\n",
    "model.E = pyo.Var(within=pyo.NonNegativeReals)\n",
    "\n",
    "# Objective Function\n",
    "model.obj = pyo.Objective(expr = \n",
    "                           P1 * (model.S + model.s) + \n",
    "                           P2 * model.O + \n",
    "                           P3 * (2*model.F + 2*model.f + model.P + model.p) + \n",
    "                           P4 * (model.O + model.o + 3*model.E),\n",
    "                           sense=pyo.minimize)\n",
    "\n",
    "# Constraints\n",
    "model.sales_constraint = pyo.Constraint(expr = \n",
    "                                        5 * (800 + model.F - model.f) + \n",
    "                                        2 * (320 + model.P - model.p) + \n",
    "                                        5 * (100 + model.O - model.o) + \n",
    "                                        2 * model.E == 5500 + model.S - model.s)\n",
    "\n",
    "# Solve\n",
    "solver = pyo.SolverFactory('glpk')  # Choose a solver (e.g., 'glpk', 'cbc')\n",
    "solver.solve(model)\n",
    "\n",
    "# Display Results\n",
    "print(\"Solution:\")\n",
    "print(f\"Sales Deviation (Positive): S = {pyo.value(model.S)}\")\n",
    "print(f\"Sales Deviation (Negative): s = {pyo.value(model.s)}\")\n",
    "print(f\"Full-Time Hours Deviation (Positive): F = {pyo.value(model.F)}\")\n",
    "print(f\"Full-Time Hours Deviation (Negative): f = {pyo.value(model.f)}\")\n",
    "print(f\"Part-Time Hours Deviation (Positive): P = {pyo.value(model.P)}\")\n",
    "print(f\"Part-Time Hours Deviation (Negative): p = {pyo.value(model.p)}\")\n",
    "print(f\"Full-Time Overtime Deviation (Positive): O = {pyo.value(model.O)}\")\n",
    "print(f\"Full-Time Overtime Deviation (Negative): o = {pyo.value(model.o)}\")\n",
    "print(f\"Part-Time Overtime: E = {pyo.value(model.E)}\")\n",
    "print(f\"Objective Value: {pyo.value(model.obj)}\")"
   ]
  },
  {
   "cell_type": "code",
   "execution_count": null,
   "id": "86da44be",
   "metadata": {
    "scrolled": false
   },
   "outputs": [],
   "source": []
  },
  {
   "cell_type": "markdown",
   "id": "1be0926e",
   "metadata": {},
   "source": [
    "## 5. Correct the code to verify model viability (optional)"
   ]
  },
  {
   "cell_type": "code",
   "execution_count": null,
   "id": "1a2e278d",
   "metadata": {},
   "outputs": [],
   "source": []
  },
  {
   "cell_type": "markdown",
   "id": "dbd7b8a8",
   "metadata": {},
   "source": [
    "## 6. Print the responses"
   ]
  },
  {
   "cell_type": "code",
   "execution_count": 135,
   "id": "c76b7575",
   "metadata": {},
   "outputs": [
    {
     "name": "stdout",
     "output_type": "stream",
     "text": [
      "## Variables:\n",
      "\n",
      "**Sales:**\n",
      "\n",
      "*  **S:** Positive deviation from the sales target of 5500 units.\n",
      "*  **s:** Negative deviation from the sales target of 5500 units. \n",
      "\n",
      "**Employee Hours:**\n",
      "\n",
      "*  **F:** Positive deviation from the target of 800 hours for full-time employees.\n",
      "*  **f:** Negative deviation from the target of 800 hours for full-time employees.\n",
      "*  **P:** Positive deviation from the target of 320 hours for part-time employees.\n",
      "*  **p:** Negative deviation from the target of 320 hours for part-time employees.\n",
      "\n",
      "**Overtime:**\n",
      "\n",
      "*  **O:** Positive deviation from the target of 100 hours of overtime for full-time employees.\n",
      "*  **o:** Negative deviation from the target of 100 hours of overtime for full-time employees.\n",
      "*  **E:** Total overtime hours for part-time employees. \n",
      "\n",
      "**Priority Factors:**\n",
      "\n",
      "* **P1:** Priority factor for deviations from the sales target (S and s).\n",
      "* **P2:** Priority factor for exceeding overtime target for full-time employees (O).\n",
      "* **P3:** Priority factor for fully utilizing full-time and part-time employee hours (F, f, P, p).\n",
      "* **P4:** Priority factor for minimizing overall overtime (O, o, E). \n",
      "\n"
     ]
    }
   ],
   "source": [
    "print(response.text)"
   ]
  },
  {
   "cell_type": "code",
   "execution_count": 136,
   "id": "1bb49c6c",
   "metadata": {},
   "outputs": [
    {
     "name": "stdout",
     "output_type": "stream",
     "text": [
      "```\n",
      "Minimize: \n",
      "\n",
      "P1 * (S + s) + P2 * O + P3 * (2*F + 2*f + P + p) + P4 * (O + o + 3*E) \n",
      "``` \n",
      "\n"
     ]
    }
   ],
   "source": [
    "print(response2.text)"
   ]
  },
  {
   "cell_type": "code",
   "execution_count": 137,
   "id": "b95499e6",
   "metadata": {},
   "outputs": [
    {
     "name": "stdout",
     "output_type": "stream",
     "text": [
      "## Constraints:\n",
      "\n",
      "**Sales:**\n",
      "\n",
      "*  5 * (800 + F - f) + 2 * (320 + P - p) + 5 * (100 + O - o) + 2 * E = 5500 + S - s \n",
      "   *(This equation connects sales with employee hours and overtime. It ensures the total sales, considering the working hours and productivity of full-time and part-time employees, match the target sales plus any deviations)*\n",
      "\n",
      "**Non-negativity:**\n",
      "\n",
      "*  S, s, F, f, P, p, O, o, E ≥ 0 \n",
      "   *(All deviation variables must be non-negative)* \n",
      "\n"
     ]
    }
   ],
   "source": [
    "print(response3.text)"
   ]
  },
  {
   "cell_type": "code",
   "execution_count": 138,
   "id": "184942d4",
   "metadata": {},
   "outputs": [
    {
     "name": "stdout",
     "output_type": "stream",
     "text": [
      "```python\n",
      "import pyomo.environ as pyo\n",
      "\n",
      "# Sample Data (You can replace these with your actual data)\n",
      "P1 = 1  \n",
      "P2 = 1.2\n",
      "P3 = 0.8\n",
      "P4 = 1.5\n",
      "\n",
      "# Model\n",
      "model = pyo.ConcreteModel()\n",
      "\n",
      "# Variables\n",
      "model.S = pyo.Var(within=pyo.NonNegativeReals)\n",
      "model.s = pyo.Var(within=pyo.NonNegativeReals)\n",
      "model.F = pyo.Var(within=pyo.NonNegativeReals)\n",
      "model.f = pyo.Var(within=pyo.NonNegativeReals)\n",
      "model.P = pyo.Var(within=pyo.NonNegativeReals)\n",
      "model.p = pyo.Var(within=pyo.NonNegativeReals)\n",
      "model.O = pyo.Var(within=pyo.NonNegativeReals)\n",
      "model.o = pyo.Var(within=pyo.NonNegativeReals)\n",
      "model.E = pyo.Var(within=pyo.NonNegativeReals)\n",
      "\n",
      "# Objective Function\n",
      "model.obj = pyo.Objective(expr = \n",
      "                           P1 * (model.S + model.s) + \n",
      "                           P2 * model.O + \n",
      "                           P3 * (2*model.F + 2*model.f + model.P + model.p) + \n",
      "                           P4 * (model.O + model.o + 3*model.E),\n",
      "                           sense=pyo.minimize)\n",
      "\n",
      "# Constraints\n",
      "model.sales_constraint = pyo.Constraint(expr = \n",
      "                                        5 * (800 + model.F - model.f) + \n",
      "                                        2 * (320 + model.P - model.p) + \n",
      "                                        5 * (100 + model.O - model.o) + \n",
      "                                        2 * model.E == 5500 + model.S - model.s)\n",
      "\n",
      "# Solve\n",
      "solver = pyo.SolverFactory('cbc')  # Choose a solver (e.g., 'glpk', 'cbc')\n",
      "solver.solve(model)\n",
      "\n",
      "# Display Results\n",
      "print(\"Solution:\")\n",
      "print(f\"Sales Deviation (Positive): S = {pyo.value(model.S)}\")\n",
      "print(f\"Sales Deviation (Negative): s = {pyo.value(model.s)}\")\n",
      "print(f\"Full-Time Hours Deviation (Positive): F = {pyo.value(model.F)}\")\n",
      "print(f\"Full-Time Hours Deviation (Negative): f = {pyo.value(model.f)}\")\n",
      "print(f\"Part-Time Hours Deviation (Positive): P = {pyo.value(model.P)}\")\n",
      "print(f\"Part-Time Hours Deviation (Negative): p = {pyo.value(model.p)}\")\n",
      "print(f\"Full-Time Overtime Deviation (Positive): O = {pyo.value(model.O)}\")\n",
      "print(f\"Full-Time Overtime Deviation (Negative): o = {pyo.value(model.o)}\")\n",
      "print(f\"Part-Time Overtime: E = {pyo.value(model.E)}\")\n",
      "print(f\"Objective Value: {pyo.value(model.obj)}\") \n",
      "```\n",
      "\n",
      "In this code:\n",
      "\n",
      "1.  **Sample Data:** The values for `P1`, `P2`, `P3`, and `P4` are placeholders. You should replace these with your actual priority factor values.\n",
      "2.  **Model:** We create a concrete model using `pyo.ConcreteModel()`.\n",
      "3.  **Variables:** We define all the decision variables (`S`, `s`, `F`, `f`, `P`, `p`, `O`, `o`, `E`) using `pyo.Var()` and specify that they are non-negative.\n",
      "4.  **Objective Function:** We define the objective function to minimize, incorporating the priority factors and the deviations.\n",
      "5.  **Constraints:** We define the constraint connecting sales, employee hours, and overtime.\n",
      "6.  **Solver:** We choose a solver (here, 'cbc') using `pyo.SolverFactory()` and solve the model.\n",
      "7.  **Results:** We display the optimal values for each decision variable and the objective function value.\n",
      "\n"
     ]
    }
   ],
   "source": [
    "print(response4.text)"
   ]
  },
  {
   "cell_type": "code",
   "execution_count": null,
   "id": "bd046f37",
   "metadata": {},
   "outputs": [],
   "source": []
  }
 ],
 "metadata": {
  "kernelspec": {
   "display_name": "Python 3 (ipykernel)",
   "language": "python",
   "name": "python3"
  },
  "language_info": {
   "codemirror_mode": {
    "name": "ipython",
    "version": 3
   },
   "file_extension": ".py",
   "mimetype": "text/x-python",
   "name": "python",
   "nbconvert_exporter": "python",
   "pygments_lexer": "ipython3",
   "version": "3.11.4"
  }
 },
 "nbformat": 4,
 "nbformat_minor": 5
}
