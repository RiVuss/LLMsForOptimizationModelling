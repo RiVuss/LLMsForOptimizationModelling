{
 "cells": [
  {
   "cell_type": "markdown",
   "id": "f0005e9e",
   "metadata": {},
   "source": [
    "# LLM Optimization Modelling Experiment"
   ]
  },
  {
   "cell_type": "code",
   "execution_count": 1,
   "id": "7f664028",
   "metadata": {},
   "outputs": [],
   "source": [
    "import vertexai\n",
    "from vertexai.preview.generative_models import GenerativeModel, Image\n",
    "from IPython.display import Markdown"
   ]
  },
  {
   "cell_type": "markdown",
   "id": "f527d6af",
   "metadata": {},
   "source": [
    "## 1. Define the problem description"
   ]
  },
  {
   "cell_type": "code",
   "execution_count": 553,
   "id": "25055ffd",
   "metadata": {},
   "outputs": [],
   "source": [
    "problem = '''You are a chemist in charge of a process that requires two liquids to reach the end product. Your goal is to maximize the quality of the product in the end, which is measured by the difference between the Napierian logarithm of the product of the litres used of each component and the cube root of the summation of the first component litres as well as double the second component litres. It is required that the squared difference between the litres employed of each component and the mean litres utilised of both components is below ten. This is necessary for the obtained set to be stable. Furthermore, the mixture tank available to you can only fit 80 l. Please formulate a mathematical optimization model for this problem. '''"
   ]
  },
  {
   "cell_type": "markdown",
   "id": "472cf9ad",
   "metadata": {},
   "source": [
    "## 2. Ask for parameters"
   ]
  },
  {
   "cell_type": "code",
   "execution_count": 568,
   "id": "e31ec80c",
   "metadata": {},
   "outputs": [],
   "source": [
    "#Initializing the session. To replicate, make sure the right credentials are saved in a PATH variable\n",
    "PROJECT_ID = \"llm4optproblems\"\n",
    "REGION = \"us-central1\"\n",
    "vertexai.init(project=PROJECT_ID, location=REGION)\n",
    "\n",
    "#Specifying the model\n",
    "generative_multimodal_model = GenerativeModel(\"gemini-1.5-pro-preview-0409\")\n",
    "\n",
    "#The propmt applied to all problems\n",
    "prompt = '''Please formulate only the variables for this mathematical optimization problem. \n",
    "'''\n",
    "\n",
    "#Generate the response\n",
    "response = generative_multimodal_model.generate_content([prompt+problem])\n"
   ]
  },
  {
   "cell_type": "code",
   "execution_count": 569,
   "id": "f9adc567",
   "metadata": {},
   "outputs": [
    {
     "data": {
      "text/markdown": [
       "### Decision Variables:\n",
       "\n",
       "*  $x_1$ : Litres used of the first liquid component.\n",
       "*  $x_2$ : Litres used of the second liquid component. \n"
      ],
      "text/plain": [
       "<IPython.core.display.Markdown object>"
      ]
     },
     "execution_count": 569,
     "metadata": {},
     "output_type": "execute_result"
    }
   ],
   "source": [
    "#Show the resopnse in a formatted way\n",
    "Markdown(response.text)"
   ]
  },
  {
   "cell_type": "markdown",
   "id": "15d9e89f",
   "metadata": {},
   "source": [
    "# 2. Ask for objective"
   ]
  },
  {
   "cell_type": "code",
   "execution_count": 570,
   "id": "4f357a19",
   "metadata": {},
   "outputs": [],
   "source": [
    "#Second prompt gets the output of the previous step and generates the code\n",
    "prompt2 = \"Please formulate only the objective function for this mathematical optimization problem.\"\n",
    "prompt2 += problem + response.text\n",
    "response2 = generative_multimodal_model.generate_content([prompt2])"
   ]
  },
  {
   "cell_type": "code",
   "execution_count": 571,
   "id": "bccd1014",
   "metadata": {},
   "outputs": [
    {
     "data": {
      "text/markdown": [
       "## Objective Function:\n",
       "\n",
       "maximize  $\\ln(x_1 \\cdot x_2) - \\sqrt[3]{x_1 + 2x_2}$ \n"
      ],
      "text/plain": [
       "<IPython.core.display.Markdown object>"
      ]
     },
     "execution_count": 571,
     "metadata": {},
     "output_type": "execute_result"
    }
   ],
   "source": [
    "Markdown(response2.text)"
   ]
  },
  {
   "cell_type": "markdown",
   "id": "d8ab1404",
   "metadata": {},
   "source": [
    "# 3. Ask for constraints"
   ]
  },
  {
   "cell_type": "code",
   "execution_count": 572,
   "id": "e6409951",
   "metadata": {},
   "outputs": [],
   "source": [
    "#Second prompt gets the output of the previous step and generates the code\n",
    "prompt3 = \"Please formulate only the constraints for this mathematical optimization problem.\"\n",
    "prompt3 += problem + response.text + response2.text\n",
    "response3 = generative_multimodal_model.generate_content([prompt3])"
   ]
  },
  {
   "cell_type": "code",
   "execution_count": 573,
   "id": "2f9439c2",
   "metadata": {},
   "outputs": [
    {
     "data": {
      "text/markdown": [
       "## Constraints:\n",
       "\n",
       "1. **Tank Capacity:**  $x_1 + x_2 \\leq 80$ \n",
       "2. **Stability Requirement:** $(x_1 - \\frac{x_1 + x_2}{2})^2 \\leq 10$ and $(x_2 - \\frac{x_1 + x_2}{2})^2 \\leq 10$\n",
       "3. **Non-negativity:** $x_1 \\geq 0$,  $x_2 \\geq 0$ \n"
      ],
      "text/plain": [
       "<IPython.core.display.Markdown object>"
      ]
     },
     "execution_count": 573,
     "metadata": {},
     "output_type": "execute_result"
    }
   ],
   "source": [
    "Markdown(response3.text)"
   ]
  },
  {
   "cell_type": "markdown",
   "id": "75796979",
   "metadata": {},
   "source": [
    "## 3. Generate the pyomo code"
   ]
  },
  {
   "cell_type": "code",
   "execution_count": 574,
   "id": "aabea932",
   "metadata": {},
   "outputs": [],
   "source": [
    "#Second prompt gets the output of the previous step and generates the code\n",
    "prompt4 = \"Please write pyomo code for this mathematical problem. Use sample data where needed. Indicate where you use sample data. \\n\"\n",
    "prompt4 += response.text + response2.text + response3.text \n",
    "response4 = generative_multimodal_model.generate_content([prompt4])"
   ]
  },
  {
   "cell_type": "code",
   "execution_count": 575,
   "id": "57c3e155",
   "metadata": {
    "scrolled": false
   },
   "outputs": [
    {
     "data": {
      "text/markdown": [
       "```python\n",
       "from pyomo.environ import ConcreteModel, Var, Objective, Constraint, maximize, log, sqrt\n",
       "from pyomo.opt import SolverFactory\n",
       "\n",
       "# Create a concrete model\n",
       "model = ConcreteModel()\n",
       "\n",
       "# Define decision variables\n",
       "model.x1 = Var(domain=NonNegativeReals)\n",
       "model.x2 = Var(domain=NonNegativeReals)\n",
       "\n",
       "# Define the objective function\n",
       "model.obj = Objective(expr=log(model.x1 * model.x2) - (model.x1 + 2*model.x2)**(1/3), sense=maximize)\n",
       "\n",
       "# Define constraints\n",
       "model.tank_capacity = Constraint(expr=model.x1 + model.x2 <= 80)\n",
       "model.stability1 = Constraint(expr=(model.x1 - (model.x1 + model.x2)/2)**2 <= 10)\n",
       "model.stability2 = Constraint(expr=(model.x2 - (model.x1 + model.x2)/2)**2 <= 10)\n",
       "\n",
       "# Solve the model using a suitable solver (e.g., IPOPT)\n",
       "solver = SolverFactory('ipopt')\n",
       "results = solver.solve(model)\n",
       "\n",
       "# Print the results\n",
       "print(\"Status:\", results.solver.status)\n",
       "print(\"Termination condition:\", results.solver.termination_condition)\n",
       "print(\"Optimal solution (x1, x2):\", model.x1(), \",\", model.x2())\n",
       "print(\"Optimal objective value:\", model.obj())\n",
       "```\n",
       "\n",
       "**Explanation:**\n",
       "\n",
       "* **Import necessary Pyomo components:** Import `ConcreteModel`, `Var`, `Objective`, `Constraint`, `maximize`, `log`, and `sqrt` for defining the model and its components.\n",
       "* **Create a concrete model:** Initialize an instance of `ConcreteModel` to hold the optimization problem.\n",
       "* **Define decision variables:** Declare `x1` and `x2` as non-negative real variables using `Var(domain=NonNegativeReals)`.\n",
       "* **Define the objective function:** Define the objective using `Objective`. The expression represents the mathematical function to be maximized, using `log` for natural logarithm and exponentiation for the cubic root.\n",
       "* **Define constraints:** Define the tank capacity and stability constraints as separate `Constraint` objects. Each constraint's expression represents the corresponding inequality.\n",
       "* **Solve the model:** Create a solver instance (using IPOPT in this case) and solve the model.\n",
       "* **Print the results:** Display the solver status, termination condition, optimal values of decision variables (`x1`, `x2`), and the optimal objective function value.\n",
       "\n",
       "This code sets up and solves the mathematical optimization problem you provided using Pyomo, providing the optimal solution and objective value. You can modify the code to experiment with different solvers or adjust the problem parameters as needed. \n"
      ],
      "text/plain": [
       "<IPython.core.display.Markdown object>"
      ]
     },
     "execution_count": 575,
     "metadata": {},
     "output_type": "execute_result"
    }
   ],
   "source": [
    "## Showing the code in a formatted way\n",
    "Markdown(response4.text)"
   ]
  },
  {
   "cell_type": "markdown",
   "id": "b60756ae",
   "metadata": {},
   "source": [
    "## 4. Input problem data and try running the generated code"
   ]
  },
  {
   "cell_type": "code",
   "execution_count": 576,
   "id": "49a17c3c",
   "metadata": {},
   "outputs": [
    {
     "name": "stdout",
     "output_type": "stream",
     "text": [
      "Status: ok\n",
      "Termination condition: optimal\n",
      "Optimal solution (x1, x2): 43.162277233647174 , 36.8377229631074\n",
      "Optimal objective value: 2.4827783318454744\n"
     ]
    }
   ],
   "source": [
    "from pyomo.environ import ConcreteModel, Var, Objective, Constraint, maximize, log, sqrt\n",
    "from pyomo.opt import SolverFactory\n",
    "\n",
    "# Create a concrete model\n",
    "model = ConcreteModel()\n",
    "\n",
    "# Define decision variables\n",
    "model.x1 = Var(domain=NonNegativeReals)\n",
    "model.x2 = Var(domain=NonNegativeReals)\n",
    "\n",
    "# Define the objective function\n",
    "model.obj = Objective(expr=log(model.x1 * model.x2) - (model.x1 + 2*model.x2)**(1/3), sense=maximize)\n",
    "\n",
    "# Define constraints\n",
    "model.tank_capacity = Constraint(expr=model.x1 + model.x2 <= 80)\n",
    "model.stability1 = Constraint(expr=(model.x1 - (model.x1 + model.x2)/2)**2 <= 10)\n",
    "model.stability2 = Constraint(expr=(model.x2 - (model.x1 + model.x2)/2)**2 <= 10)\n",
    "\n",
    "# Solve the model using a suitable solver (e.g., IPOPT)\n",
    "solver = SolverFactory('ipopt')\n",
    "results = solver.solve(model)\n",
    "\n",
    "# Print the results\n",
    "print(\"Status:\", results.solver.status)\n",
    "print(\"Termination condition:\", results.solver.termination_condition)\n",
    "print(\"Optimal solution (x1, x2):\", model.x1(), \",\", model.x2())\n",
    "print(\"Optimal objective value:\", model.obj())"
   ]
  },
  {
   "cell_type": "code",
   "execution_count": null,
   "id": "d566a821",
   "metadata": {},
   "outputs": [],
   "source": []
  },
  {
   "cell_type": "code",
   "execution_count": null,
   "id": "41ed7d93",
   "metadata": {},
   "outputs": [],
   "source": []
  },
  {
   "cell_type": "markdown",
   "id": "1be0926e",
   "metadata": {},
   "source": [
    "## 5. Correct the code to verify model viability (optional)"
   ]
  },
  {
   "cell_type": "code",
   "execution_count": null,
   "id": "8b37acfc",
   "metadata": {},
   "outputs": [],
   "source": []
  },
  {
   "cell_type": "code",
   "execution_count": null,
   "id": "dfb68704",
   "metadata": {
    "scrolled": false
   },
   "outputs": [],
   "source": []
  },
  {
   "cell_type": "markdown",
   "id": "7323e48e",
   "metadata": {},
   "source": [
    "## 6. Print the responses"
   ]
  },
  {
   "cell_type": "code",
   "execution_count": 577,
   "id": "37043740",
   "metadata": {},
   "outputs": [
    {
     "name": "stdout",
     "output_type": "stream",
     "text": [
      "### Decision Variables:\n",
      "\n",
      "*  $x_1$ : Litres used of the first liquid component.\n",
      "*  $x_2$ : Litres used of the second liquid component. \n",
      "\n"
     ]
    }
   ],
   "source": [
    "print(response.text)"
   ]
  },
  {
   "cell_type": "code",
   "execution_count": 578,
   "id": "0ac4db69",
   "metadata": {},
   "outputs": [
    {
     "name": "stdout",
     "output_type": "stream",
     "text": [
      "## Objective Function:\n",
      "\n",
      "maximize  $\\ln(x_1 \\cdot x_2) - \\sqrt[3]{x_1 + 2x_2}$ \n",
      "\n"
     ]
    }
   ],
   "source": [
    "print(response2.text)"
   ]
  },
  {
   "cell_type": "code",
   "execution_count": 579,
   "id": "c5c2644e",
   "metadata": {},
   "outputs": [
    {
     "name": "stdout",
     "output_type": "stream",
     "text": [
      "## Constraints:\n",
      "\n",
      "1. **Tank Capacity:**  $x_1 + x_2 \\leq 80$ \n",
      "2. **Stability Requirement:** $(x_1 - \\frac{x_1 + x_2}{2})^2 \\leq 10$ and $(x_2 - \\frac{x_1 + x_2}{2})^2 \\leq 10$\n",
      "3. **Non-negativity:** $x_1 \\geq 0$,  $x_2 \\geq 0$ \n",
      "\n"
     ]
    }
   ],
   "source": [
    "print(response3.text)"
   ]
  },
  {
   "cell_type": "code",
   "execution_count": 580,
   "id": "68b9659d",
   "metadata": {},
   "outputs": [
    {
     "name": "stdout",
     "output_type": "stream",
     "text": [
      "```python\n",
      "from pyomo.environ import ConcreteModel, Var, Objective, Constraint, maximize, log, sqrt\n",
      "from pyomo.opt import SolverFactory\n",
      "\n",
      "# Create a concrete model\n",
      "model = ConcreteModel()\n",
      "\n",
      "# Define decision variables\n",
      "model.x1 = Var(domain=NonNegativeReals)\n",
      "model.x2 = Var(domain=NonNegativeReals)\n",
      "\n",
      "# Define the objective function\n",
      "model.obj = Objective(expr=log(model.x1 * model.x2) - (model.x1 + 2*model.x2)**(1/3), sense=maximize)\n",
      "\n",
      "# Define constraints\n",
      "model.tank_capacity = Constraint(expr=model.x1 + model.x2 <= 80)\n",
      "model.stability1 = Constraint(expr=(model.x1 - (model.x1 + model.x2)/2)**2 <= 10)\n",
      "model.stability2 = Constraint(expr=(model.x2 - (model.x1 + model.x2)/2)**2 <= 10)\n",
      "\n",
      "# Solve the model using a suitable solver (e.g., IPOPT)\n",
      "solver = SolverFactory('ipopt')\n",
      "results = solver.solve(model)\n",
      "\n",
      "# Print the results\n",
      "print(\"Status:\", results.solver.status)\n",
      "print(\"Termination condition:\", results.solver.termination_condition)\n",
      "print(\"Optimal solution (x1, x2):\", model.x1(), \",\", model.x2())\n",
      "print(\"Optimal objective value:\", model.obj())\n",
      "```\n",
      "\n",
      "**Explanation:**\n",
      "\n",
      "* **Import necessary Pyomo components:** Import `ConcreteModel`, `Var`, `Objective`, `Constraint`, `maximize`, `log`, and `sqrt` for defining the model and its components.\n",
      "* **Create a concrete model:** Initialize an instance of `ConcreteModel` to hold the optimization problem.\n",
      "* **Define decision variables:** Declare `x1` and `x2` as non-negative real variables using `Var(domain=NonNegativeReals)`.\n",
      "* **Define the objective function:** Define the objective using `Objective`. The expression represents the mathematical function to be maximized, using `log` for natural logarithm and exponentiation for the cubic root.\n",
      "* **Define constraints:** Define the tank capacity and stability constraints as separate `Constraint` objects. Each constraint's expression represents the corresponding inequality.\n",
      "* **Solve the model:** Create a solver instance (using IPOPT in this case) and solve the model.\n",
      "* **Print the results:** Display the solver status, termination condition, optimal values of decision variables (`x1`, `x2`), and the optimal objective function value.\n",
      "\n",
      "This code sets up and solves the mathematical optimization problem you provided using Pyomo, providing the optimal solution and objective value. You can modify the code to experiment with different solvers or adjust the problem parameters as needed. \n",
      "\n"
     ]
    }
   ],
   "source": [
    "print(response4.text)"
   ]
  },
  {
   "cell_type": "code",
   "execution_count": null,
   "id": "3e863c33",
   "metadata": {},
   "outputs": [],
   "source": []
  }
 ],
 "metadata": {
  "kernelspec": {
   "display_name": "Python 3 (ipykernel)",
   "language": "python",
   "name": "python3"
  },
  "language_info": {
   "codemirror_mode": {
    "name": "ipython",
    "version": 3
   },
   "file_extension": ".py",
   "mimetype": "text/x-python",
   "name": "python",
   "nbconvert_exporter": "python",
   "pygments_lexer": "ipython3",
   "version": "3.11.4"
  }
 },
 "nbformat": 4,
 "nbformat_minor": 5
}
