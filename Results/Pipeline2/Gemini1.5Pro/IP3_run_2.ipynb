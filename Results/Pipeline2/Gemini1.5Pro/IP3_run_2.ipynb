{
 "cells": [
  {
   "cell_type": "markdown",
   "id": "f0005e9e",
   "metadata": {},
   "source": [
    "# LLM Optimization Modelling Experiment"
   ]
  },
  {
   "cell_type": "code",
   "execution_count": 1,
   "id": "7f664028",
   "metadata": {},
   "outputs": [],
   "source": [
    "import vertexai\n",
    "from vertexai.preview.generative_models import GenerativeModel, Image\n",
    "from IPython.display import Markdown"
   ]
  },
  {
   "cell_type": "markdown",
   "id": "f527d6af",
   "metadata": {},
   "source": [
    "## 1. Define the problem description"
   ]
  },
  {
   "cell_type": "code",
   "execution_count": 595,
   "id": "25055ffd",
   "metadata": {},
   "outputs": [],
   "source": [
    "problem = '''You are the person in charge of packing in a large company. Your job is to skillfully pack items of various weights in a box with predetermined capacity. The objective is to use as few boxes as possible. There is a set of items and a set of boxes with an upper bound on the amount of boxes. Each of the items has a known weight. Each item is packed into one box and items are packed into the chosen boxes. Please formulate a mathematical optimization model for this problem.   '''"
   ]
  },
  {
   "cell_type": "markdown",
   "id": "472cf9ad",
   "metadata": {},
   "source": [
    "## 2. Ask for parameters"
   ]
  },
  {
   "cell_type": "code",
   "execution_count": 609,
   "id": "e31ec80c",
   "metadata": {},
   "outputs": [],
   "source": [
    "#Initializing the session. To replicate, make sure the right credentials are saved in a PATH variable\n",
    "PROJECT_ID = \"llm4optproblems\"\n",
    "REGION = \"us-central1\"\n",
    "vertexai.init(project=PROJECT_ID, location=REGION)\n",
    "\n",
    "#Specifying the model\n",
    "generative_multimodal_model = GenerativeModel(\"gemini-1.5-pro-preview-0409\")\n",
    "\n",
    "#The propmt applied to all problems\n",
    "prompt = '''Please formulate only the variables for this mathematical optimization problem. \n",
    "'''\n",
    "\n",
    "#Generate the response\n",
    "response = generative_multimodal_model.generate_content([prompt+problem])\n"
   ]
  },
  {
   "cell_type": "code",
   "execution_count": 610,
   "id": "f9adc567",
   "metadata": {},
   "outputs": [
    {
     "data": {
      "text/markdown": [
       "### Sets:\n",
       "*  $I$: Set of items.\n",
       "*  $J$: Set of boxes.\n",
       "\n",
       "### Parameters:\n",
       "*  $w_i$: Weight of item $i \\in I$.\n",
       "*  $C$: Capacity of each box $j \\in J$.\n",
       "*  $B$: Upper bound on the number of boxes that can be used. \n",
       "\n",
       "### Decision Variables:\n",
       "*  $x_{ij}$: Binary variable equal to 1 if item $i \\in I$ is assigned to box  $j \\in J$, and 0 otherwise.\n",
       "*  $y_j$: Binary variable equal to 1 if box $j \\in J$ is used, and 0 otherwise. \n"
      ],
      "text/plain": [
       "<IPython.core.display.Markdown object>"
      ]
     },
     "execution_count": 610,
     "metadata": {},
     "output_type": "execute_result"
    }
   ],
   "source": [
    "#Show the resopnse in a formatted way\n",
    "Markdown(response.text)"
   ]
  },
  {
   "cell_type": "markdown",
   "id": "15d9e89f",
   "metadata": {},
   "source": [
    "# 2. Ask for objective"
   ]
  },
  {
   "cell_type": "code",
   "execution_count": 611,
   "id": "4f357a19",
   "metadata": {},
   "outputs": [],
   "source": [
    "#Second prompt gets the output of the previous step and generates the code\n",
    "prompt2 = \"Please formulate only the objective function for this mathematical optimization problem.\"\n",
    "prompt2 += problem + response.text\n",
    "response2 = generative_multimodal_model.generate_content([prompt2])"
   ]
  },
  {
   "cell_type": "code",
   "execution_count": 612,
   "id": "bccd1014",
   "metadata": {},
   "outputs": [
    {
     "data": {
      "text/markdown": [
       "Minimize $\\sum_{j \\in J} y_j$ \n"
      ],
      "text/plain": [
       "<IPython.core.display.Markdown object>"
      ]
     },
     "execution_count": 612,
     "metadata": {},
     "output_type": "execute_result"
    }
   ],
   "source": [
    "Markdown(response2.text)"
   ]
  },
  {
   "cell_type": "markdown",
   "id": "d8ab1404",
   "metadata": {},
   "source": [
    "# 3. Ask for constraints"
   ]
  },
  {
   "cell_type": "code",
   "execution_count": 613,
   "id": "e6409951",
   "metadata": {},
   "outputs": [],
   "source": [
    "#Second prompt gets the output of the previous step and generates the code\n",
    "prompt3 = \"Please formulate only the constraints for this mathematical optimization problem.\"\n",
    "prompt3 += problem + response.text + response2.text\n",
    "response3 = generative_multimodal_model.generate_content([prompt3])"
   ]
  },
  {
   "cell_type": "code",
   "execution_count": 614,
   "id": "2f9439c2",
   "metadata": {},
   "outputs": [
    {
     "data": {
      "text/markdown": [
       "Subject to:\n",
       "\n",
       "* **Capacity constraint:** $\\sum_{i \\in I} w_i x_{ij} \\le C y_j  $  for all $j \\in J$ \n",
       "* **Assignment constraint:**  $\\sum_{j \\in J} x_{ij} = 1$ for all $i \\in I$\n",
       "* **Box limit constraint:** $\\sum_{j \\in J} y_j \\le B$\n",
       "* **Binary constraints:** $x_{ij} \\in \\{0,1\\}$ for all $i \\in I$, $j \\in J$ and $y_j \\in \\{0,1\\}$ for all $j \\in J$. \n"
      ],
      "text/plain": [
       "<IPython.core.display.Markdown object>"
      ]
     },
     "execution_count": 614,
     "metadata": {},
     "output_type": "execute_result"
    }
   ],
   "source": [
    "Markdown(response3.text)"
   ]
  },
  {
   "cell_type": "markdown",
   "id": "75796979",
   "metadata": {},
   "source": [
    "## 3. Generate the pyomo code"
   ]
  },
  {
   "cell_type": "code",
   "execution_count": 615,
   "id": "aabea932",
   "metadata": {},
   "outputs": [],
   "source": [
    "#Second prompt gets the output of the previous step and generates the code\n",
    "prompt4 = \"Please write pyomo code for this mathematical problem. Use sample data where needed. Indicate where you use sample data. \\n\"\n",
    "prompt4 += response.text + response2.text + response3.text \n",
    "response4 = generative_multimodal_model.generate_content([prompt4])"
   ]
  },
  {
   "cell_type": "code",
   "execution_count": 616,
   "id": "0bebd731",
   "metadata": {
    "scrolled": false
   },
   "outputs": [
    {
     "data": {
      "text/markdown": [
       "```python\n",
       "import pyomo.environ as pyo\n",
       "\n",
       "# Sample data (Replace with your actual data)\n",
       "items = ['A', 'B', 'C', 'D']  \n",
       "boxes = ['Box1', 'Box2', 'Box3']\n",
       "weight = {'A': 4, 'B': 2, 'C': 5, 'D': 3} \n",
       "capacity = 10 \n",
       "box_limit = 2\n",
       "\n",
       "# Model\n",
       "model = pyo.ConcreteModel()\n",
       "\n",
       "# Sets\n",
       "model.I = pyo.Set(initialize=items) \n",
       "model.J = pyo.Set(initialize=boxes)\n",
       "\n",
       "# Parameters\n",
       "model.w = pyo.Param(model.I, initialize=weight)\n",
       "model.C = pyo.Param(initialize=capacity)\n",
       "model.B = pyo.Param(initialize=box_limit)\n",
       "\n",
       "# Variables\n",
       "model.x = pyo.Var(model.I, model.J, within=pyo.Binary) \n",
       "model.y = pyo.Var(model.J, within=pyo.Binary)\n",
       "\n",
       "# Objective function\n",
       "def objective_rule(model):\n",
       "    return sum(model.y[j] for j in model.J)\n",
       "model.obj = pyo.Objective(rule=objective_rule, sense=pyo.minimize)\n",
       "\n",
       "# Constraints\n",
       "def capacity_constraint(model, j):\n",
       "    return sum(model.w[i] * model.x[i, j] for i in model.I) <= model.C * model.y[j]\n",
       "model.capacity = pyo.Constraint(model.J, rule=capacity_constraint)\n",
       "\n",
       "def assignment_constraint(model, i):\n",
       "    return sum(model.x[i, j] for j in model.J) == 1\n",
       "model.assignment = pyo.Constraint(model.I, rule=assignment_constraint)\n",
       "\n",
       "def box_limit_constraint(model):\n",
       "    return sum(model.y[j] for j in model.J) <= model.B\n",
       "model.box_limit = pyo.Constraint(rule=box_limit_constraint)\n",
       "\n",
       "# Solve\n",
       "solver = pyo.SolverFactory('glpk')  \n",
       "results = solver.solve(model)\n",
       "\n",
       "# Print results\n",
       "print(\"Status:\", results.solver.status)\n",
       "print(\"Termination condition:\",results.solver.termination_condition)\n",
       "print(\"Optimal objective value:\", pyo.value(model.obj))\n",
       "\n",
       "# Print box assignments\n",
       "for j in model.J:\n",
       "    if pyo.value(model.y[j]) > 0:\n",
       "        print(f\"Items in {j}:\", [i for i in model.I if pyo.value(model.x[i, j]) > 0]) \n",
       "```\n",
       "\n",
       "**Explanation:**\n",
       "\n",
       "1. **Import Pyomo:**  `import pyomo.environ as pyo` imports the Pyomo library.\n",
       "2. **Sample Data:**  The code includes sample data for items, boxes, weights, capacity, and the box limit. You should replace this with your actual data.\n",
       "3. **Model Initialization:** `model = pyo.ConcreteModel()` creates a concrete Pyomo model.\n",
       "4. **Sets:**  Sets `model.I` (items) and `model.J` (boxes) are defined using the sample data.\n",
       "5. **Parameters:**  Parameters `model.w` (weights), `model.C` (capacity), and `model.B` (box limit) are defined and initialized.\n",
       "6. **Variables:** \n",
       "   - `model.x` is a binary variable representing item-to-box assignments.\n",
       "   - `model.y` is a binary variable indicating if a box is used.\n",
       "7. **Objective Function:** The `objective_rule` function defines the objective to minimize the number of boxes used (`sum(model.y[j] for j in model.J)`).\n",
       "8. **Constraints:**\n",
       "   - `capacity_constraint`: Ensures that the total weight in a box does not exceed its capacity.\n",
       "   - `assignment_constraint`: Ensures that each item is assigned to exactly one box.\n",
       "   - `box_limit_constraint`: Limits the total number of boxes used.\n",
       "9. **Solver:** A solver (GLPK in this case) is selected using `pyo.SolverFactory('glpk')`.\n",
       "10. **Solving and Results:** The model is solved, and the status, termination condition, and optimal objective value are printed. The code then prints the assignment of items to boxes. \n"
      ],
      "text/plain": [
       "<IPython.core.display.Markdown object>"
      ]
     },
     "execution_count": 616,
     "metadata": {},
     "output_type": "execute_result"
    }
   ],
   "source": [
    "## Showing the code in a formatted way\n",
    "Markdown(response4.text)"
   ]
  },
  {
   "cell_type": "markdown",
   "id": "b60756ae",
   "metadata": {},
   "source": [
    "## 4. Input problem data and try running the generated code"
   ]
  },
  {
   "cell_type": "code",
   "execution_count": 618,
   "id": "ce2638dd",
   "metadata": {},
   "outputs": [
    {
     "name": "stdout",
     "output_type": "stream",
     "text": [
      "Status: ok\n",
      "Termination condition: optimal\n",
      "Optimal objective value: 13.0\n"
     ]
    }
   ],
   "source": [
    "\n",
    "\n",
    "import pyomo.environ as pyo\n",
    "\n",
    "# Sample data (Replace with your actual data)\n",
    "items = ['A', 'B', 'C', 'D']  \n",
    "boxes = ['Box1', 'Box2', 'Box3']\n",
    "weight = {'A': 4, 'B': 2, 'C': 5, 'D': 3} \n",
    "capacity = 10 \n",
    "box_limit = 2\n",
    "\n",
    "items =  range(1,25)\n",
    "weight = {1: 2,2: 2,3: 2,4: 2,5: 3,6: 3,7:4,8: 4,9: 4,10: 4,11: 4,12:4,13: 5,14:5,15: 5,16: 5,17: 5,18: 5,19: 6,20:6,21: 7,22: 7,23: 8, 24:8} # Weight of each item\n",
    "boxes = range(1,15)\n",
    "capacity = 9\n",
    "box_limit = 15\n",
    "\n",
    "# Model\n",
    "model = pyo.ConcreteModel()\n",
    "\n",
    "# Sets\n",
    "model.I = pyo.Set(initialize=items) \n",
    "model.J = pyo.Set(initialize=boxes)\n",
    "\n",
    "# Parameters\n",
    "model.w = pyo.Param(model.I, initialize=weight)\n",
    "model.C = pyo.Param(initialize=capacity)\n",
    "model.B = pyo.Param(initialize=box_limit)\n",
    "\n",
    "# Variables\n",
    "model.x = pyo.Var(model.I, model.J, within=pyo.Binary) \n",
    "model.y = pyo.Var(model.J, within=pyo.Binary)\n",
    "\n",
    "# Objective function\n",
    "def objective_rule(model):\n",
    "    return sum(model.y[j] for j in model.J)\n",
    "model.obj = pyo.Objective(rule=objective_rule, sense=pyo.minimize)\n",
    "\n",
    "# Constraints\n",
    "def capacity_constraint(model, j):\n",
    "    return sum(model.w[i] * model.x[i, j] for i in model.I) <= model.C * model.y[j]\n",
    "model.capacity = pyo.Constraint(model.J, rule=capacity_constraint)\n",
    "\n",
    "def assignment_constraint(model, i):\n",
    "    return sum(model.x[i, j] for j in model.J) == 1\n",
    "model.assignment = pyo.Constraint(model.I, rule=assignment_constraint)\n",
    "\n",
    "def box_limit_constraint(model):\n",
    "    return sum(model.y[j] for j in model.J) <= model.B\n",
    "model.box_limit = pyo.Constraint(rule=box_limit_constraint)\n",
    "\n",
    "# Solve\n",
    "solver = pyo.SolverFactory('glpk')  \n",
    "results = solver.solve(model)\n",
    "\n",
    "# Print results\n",
    "print(\"Status:\", results.solver.status)\n",
    "print(\"Termination condition:\",results.solver.termination_condition)\n",
    "print(\"Optimal objective value:\", pyo.value(model.obj))"
   ]
  },
  {
   "cell_type": "code",
   "execution_count": null,
   "id": "95c2140d",
   "metadata": {},
   "outputs": [],
   "source": []
  },
  {
   "cell_type": "code",
   "execution_count": null,
   "id": "41ed7d93",
   "metadata": {},
   "outputs": [],
   "source": []
  },
  {
   "cell_type": "markdown",
   "id": "1be0926e",
   "metadata": {},
   "source": [
    "## 5. Correct the code to verify model viability (optional)"
   ]
  },
  {
   "cell_type": "code",
   "execution_count": null,
   "id": "8b37acfc",
   "metadata": {},
   "outputs": [],
   "source": []
  },
  {
   "cell_type": "code",
   "execution_count": null,
   "id": "a4856137",
   "metadata": {
    "scrolled": false
   },
   "outputs": [],
   "source": []
  },
  {
   "cell_type": "markdown",
   "id": "7e092332",
   "metadata": {},
   "source": [
    "## 6. Print the responses"
   ]
  },
  {
   "cell_type": "code",
   "execution_count": 619,
   "id": "a4bf5742",
   "metadata": {},
   "outputs": [
    {
     "name": "stdout",
     "output_type": "stream",
     "text": [
      "### Sets:\n",
      "*  $I$: Set of items.\n",
      "*  $J$: Set of boxes.\n",
      "\n",
      "### Parameters:\n",
      "*  $w_i$: Weight of item $i \\in I$.\n",
      "*  $C$: Capacity of each box $j \\in J$.\n",
      "*  $B$: Upper bound on the number of boxes that can be used. \n",
      "\n",
      "### Decision Variables:\n",
      "*  $x_{ij}$: Binary variable equal to 1 if item $i \\in I$ is assigned to box  $j \\in J$, and 0 otherwise.\n",
      "*  $y_j$: Binary variable equal to 1 if box $j \\in J$ is used, and 0 otherwise. \n",
      "\n"
     ]
    }
   ],
   "source": [
    "print(response.text)"
   ]
  },
  {
   "cell_type": "code",
   "execution_count": 620,
   "id": "726a31bb",
   "metadata": {},
   "outputs": [
    {
     "name": "stdout",
     "output_type": "stream",
     "text": [
      "Minimize $\\sum_{j \\in J} y_j$ \n",
      "\n"
     ]
    }
   ],
   "source": [
    "print(response2.text)"
   ]
  },
  {
   "cell_type": "code",
   "execution_count": 621,
   "id": "0d990969",
   "metadata": {},
   "outputs": [
    {
     "name": "stdout",
     "output_type": "stream",
     "text": [
      "Subject to:\n",
      "\n",
      "* **Capacity constraint:** $\\sum_{i \\in I} w_i x_{ij} \\le C y_j  $  for all $j \\in J$ \n",
      "* **Assignment constraint:**  $\\sum_{j \\in J} x_{ij} = 1$ for all $i \\in I$\n",
      "* **Box limit constraint:** $\\sum_{j \\in J} y_j \\le B$\n",
      "* **Binary constraints:** $x_{ij} \\in \\{0,1\\}$ for all $i \\in I$, $j \\in J$ and $y_j \\in \\{0,1\\}$ for all $j \\in J$. \n",
      "\n"
     ]
    }
   ],
   "source": [
    "print(response3.text)"
   ]
  },
  {
   "cell_type": "code",
   "execution_count": 622,
   "id": "8f7fa538",
   "metadata": {},
   "outputs": [
    {
     "name": "stdout",
     "output_type": "stream",
     "text": [
      "```python\n",
      "import pyomo.environ as pyo\n",
      "\n",
      "# Sample data (Replace with your actual data)\n",
      "items = ['A', 'B', 'C', 'D']  \n",
      "boxes = ['Box1', 'Box2', 'Box3']\n",
      "weight = {'A': 4, 'B': 2, 'C': 5, 'D': 3} \n",
      "capacity = 10 \n",
      "box_limit = 2\n",
      "\n",
      "# Model\n",
      "model = pyo.ConcreteModel()\n",
      "\n",
      "# Sets\n",
      "model.I = pyo.Set(initialize=items) \n",
      "model.J = pyo.Set(initialize=boxes)\n",
      "\n",
      "# Parameters\n",
      "model.w = pyo.Param(model.I, initialize=weight)\n",
      "model.C = pyo.Param(initialize=capacity)\n",
      "model.B = pyo.Param(initialize=box_limit)\n",
      "\n",
      "# Variables\n",
      "model.x = pyo.Var(model.I, model.J, within=pyo.Binary) \n",
      "model.y = pyo.Var(model.J, within=pyo.Binary)\n",
      "\n",
      "# Objective function\n",
      "def objective_rule(model):\n",
      "    return sum(model.y[j] for j in model.J)\n",
      "model.obj = pyo.Objective(rule=objective_rule, sense=pyo.minimize)\n",
      "\n",
      "# Constraints\n",
      "def capacity_constraint(model, j):\n",
      "    return sum(model.w[i] * model.x[i, j] for i in model.I) <= model.C * model.y[j]\n",
      "model.capacity = pyo.Constraint(model.J, rule=capacity_constraint)\n",
      "\n",
      "def assignment_constraint(model, i):\n",
      "    return sum(model.x[i, j] for j in model.J) == 1\n",
      "model.assignment = pyo.Constraint(model.I, rule=assignment_constraint)\n",
      "\n",
      "def box_limit_constraint(model):\n",
      "    return sum(model.y[j] for j in model.J) <= model.B\n",
      "model.box_limit = pyo.Constraint(rule=box_limit_constraint)\n",
      "\n",
      "# Solve\n",
      "solver = pyo.SolverFactory('glpk')  \n",
      "results = solver.solve(model)\n",
      "\n",
      "# Print results\n",
      "print(\"Status:\", results.solver.status)\n",
      "print(\"Termination condition:\",results.solver.termination_condition)\n",
      "print(\"Optimal objective value:\", pyo.value(model.obj))\n",
      "\n",
      "# Print box assignments\n",
      "for j in model.J:\n",
      "    if pyo.value(model.y[j]) > 0:\n",
      "        print(f\"Items in {j}:\", [i for i in model.I if pyo.value(model.x[i, j]) > 0]) \n",
      "```\n",
      "\n",
      "**Explanation:**\n",
      "\n",
      "1. **Import Pyomo:**  `import pyomo.environ as pyo` imports the Pyomo library.\n",
      "2. **Sample Data:**  The code includes sample data for items, boxes, weights, capacity, and the box limit. You should replace this with your actual data.\n",
      "3. **Model Initialization:** `model = pyo.ConcreteModel()` creates a concrete Pyomo model.\n",
      "4. **Sets:**  Sets `model.I` (items) and `model.J` (boxes) are defined using the sample data.\n",
      "5. **Parameters:**  Parameters `model.w` (weights), `model.C` (capacity), and `model.B` (box limit) are defined and initialized.\n",
      "6. **Variables:** \n",
      "   - `model.x` is a binary variable representing item-to-box assignments.\n",
      "   - `model.y` is a binary variable indicating if a box is used.\n",
      "7. **Objective Function:** The `objective_rule` function defines the objective to minimize the number of boxes used (`sum(model.y[j] for j in model.J)`).\n",
      "8. **Constraints:**\n",
      "   - `capacity_constraint`: Ensures that the total weight in a box does not exceed its capacity.\n",
      "   - `assignment_constraint`: Ensures that each item is assigned to exactly one box.\n",
      "   - `box_limit_constraint`: Limits the total number of boxes used.\n",
      "9. **Solver:** A solver (GLPK in this case) is selected using `pyo.SolverFactory('glpk')`.\n",
      "10. **Solving and Results:** The model is solved, and the status, termination condition, and optimal objective value are printed. The code then prints the assignment of items to boxes. \n",
      "\n"
     ]
    }
   ],
   "source": [
    "print(response4.text)"
   ]
  },
  {
   "cell_type": "code",
   "execution_count": null,
   "id": "6f7c50af",
   "metadata": {},
   "outputs": [],
   "source": []
  }
 ],
 "metadata": {
  "kernelspec": {
   "display_name": "Python 3 (ipykernel)",
   "language": "python",
   "name": "python3"
  },
  "language_info": {
   "codemirror_mode": {
    "name": "ipython",
    "version": 3
   },
   "file_extension": ".py",
   "mimetype": "text/x-python",
   "name": "python",
   "nbconvert_exporter": "python",
   "pygments_lexer": "ipython3",
   "version": "3.11.4"
  }
 },
 "nbformat": 4,
 "nbformat_minor": 5
}
