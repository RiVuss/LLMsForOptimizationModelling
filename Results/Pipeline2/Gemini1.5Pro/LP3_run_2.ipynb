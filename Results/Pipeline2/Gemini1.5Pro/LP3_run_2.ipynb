{
 "cells": [
  {
   "cell_type": "markdown",
   "id": "f0005e9e",
   "metadata": {},
   "source": [
    "# LLM Optimization Modelling Experiment"
   ]
  },
  {
   "cell_type": "code",
   "execution_count": 1,
   "id": "7f664028",
   "metadata": {},
   "outputs": [],
   "source": [
    "import vertexai\n",
    "from vertexai.preview.generative_models import GenerativeModel, Image\n",
    "from IPython.display import Markdown"
   ]
  },
  {
   "cell_type": "markdown",
   "id": "f527d6af",
   "metadata": {},
   "source": [
    "## 1. Define the problem description"
   ]
  },
  {
   "cell_type": "code",
   "execution_count": 637,
   "id": "25055ffd",
   "metadata": {},
   "outputs": [],
   "source": [
    "problem = '''The PRODA, S.A. industrial products firm has to face the problem of scheduling\n",
    "the weekly production of its three products (P1, P2 and P3). These products are\n",
    "sold to large industrial firms and PRODA, S.A. wishes to supply its products in\n",
    "quantities that are more profitable for it.\n",
    "\n",
    "Each product entails three operations contributing to the costs: smelting; mechanisation; assembly and\n",
    "packaging. The smelting operations for products P1 and P2 could be subcontracted, but the smelting operation for product P3 requires special equipment, thus\n",
    "preventing the use of subcontracts. PRODA also want to know, how much they should subcontract.\n",
    "\n",
    "For product P1 the direct unit costs of all possible operations are:\n",
    "- smelting at PRODA: 0.30$\n",
    "- subcontracted smelting: 0.50$\n",
    "- mechanisation: 0.20$\n",
    "- Assembly and packaging: 0.3$\n",
    "The unit sales price is 1.50$.\n",
    "\n",
    "For product P2 the direct unit costs of all possible operations are:\n",
    "- smelting at PRODA: 0.50$\n",
    "- subcontracted smelting: 0.60$\n",
    "- mechanisation: 0.10$\n",
    "- Assembly and packaging: 0.20$\n",
    "The unit sales price is 1.80$.\n",
    "\n",
    "For product P3 the direct unit costs of all possible operations are:\n",
    "- smelting at PRODA: 0.40$\n",
    "- mechanisation: 0.27$\n",
    "- Assembly and packaging: 0.20$\n",
    "The unit sales price is 1.97$.\n",
    "\n",
    "Each unit of product P1 requires 6 min of smelting time (if performed at PRODA, S.A.), 6 min of mechanisation time and 3 min of assembly and packaging time, respectively. For product P2, the times are 10, 3 and 2 min, respectively. One unit of product P3 needs 8 min of smelting time, 8 min of mechanisation and 2 min for assembly and packaging. PRODA, S.A. has weekly capacities of 8,000 min of smelting time, 12,000 min of mechanisation time and 10,000 min of assembly and packaging time.\n",
    "The objective is to maximize weekly profits.'''"
   ]
  },
  {
   "cell_type": "markdown",
   "id": "472cf9ad",
   "metadata": {},
   "source": [
    "## 2. Ask for parameters"
   ]
  },
  {
   "cell_type": "code",
   "execution_count": 691,
   "id": "e31ec80c",
   "metadata": {},
   "outputs": [],
   "source": [
    "#Initializing the session. To replicate, make sure the right credentials are saved in a PATH variable\n",
    "PROJECT_ID = \"llm4optproblems\"\n",
    "REGION = \"us-central1\"\n",
    "vertexai.init(project=PROJECT_ID, location=REGION)\n",
    "\n",
    "#Specifying the model\n",
    "generative_multimodal_model = GenerativeModel(\"gemini-1.5-pro-preview-0409\")\n",
    "\n",
    "#The propmt applied to all problems\n",
    "prompt = '''Please formulate only the variables for this mathematical optimization problem. \n",
    "'''\n",
    "\n",
    "#Generate the response\n",
    "response = generative_multimodal_model.generate_content([prompt+problem])\n"
   ]
  },
  {
   "cell_type": "code",
   "execution_count": 692,
   "id": "f9adc567",
   "metadata": {},
   "outputs": [
    {
     "data": {
      "text/markdown": [
       "## Variables:\n",
       "\n",
       "**Production Quantities:**\n",
       "\n",
       "*  *x*<sub>1</sub>: Number of units of product P1 produced and sold weekly.\n",
       "*  *x*<sub>2</sub>: Number of units of product P2 produced and sold weekly.\n",
       "*  *x*<sub>3</sub>: Number of units of product P3 produced and sold weekly.\n",
       "\n",
       "**Subcontracting Quantities:**\n",
       "\n",
       "*  *s*<sub>1</sub>: Number of units of product P1 subcontracted for smelting weekly.\n",
       "*  *s*<sub>2</sub>: Number of units of product P2 subcontracted for smelting weekly. \n"
      ],
      "text/plain": [
       "<IPython.core.display.Markdown object>"
      ]
     },
     "execution_count": 692,
     "metadata": {},
     "output_type": "execute_result"
    }
   ],
   "source": [
    "#Show the resopnse in a formatted way\n",
    "Markdown(response.text)"
   ]
  },
  {
   "cell_type": "markdown",
   "id": "15d9e89f",
   "metadata": {},
   "source": [
    "# 2. Ask for objective"
   ]
  },
  {
   "cell_type": "code",
   "execution_count": 710,
   "id": "4f357a19",
   "metadata": {},
   "outputs": [],
   "source": [
    "#Second prompt gets the output of the previous step and generates the code\n",
    "prompt2 = \"Please formulate only the objective function for this mathematical optimization problem.\"\n",
    "prompt2 += problem + response.text\n",
    "response2 = generative_multimodal_model.generate_content([prompt2])"
   ]
  },
  {
   "cell_type": "code",
   "execution_count": 711,
   "id": "bccd1014",
   "metadata": {},
   "outputs": [
    {
     "data": {
      "text/markdown": [
       "Objective Function (Maximize Profit):\n",
       "\n",
       "```\n",
       "Maximize Z = (1.50 - 0.30)x<sub>1</sub> - 0.20x<sub>1</sub> - 0.30x<sub>1</sub> + (1.80 - 0.50)x<sub>2</sub> - 0.10x<sub>2</sub> - 0.20x<sub>2</sub> + (1.97 - 0.40)x<sub>3</sub> - 0.27x<sub>3</sub> - 0.20x<sub>3</sub> - 0.20s<sub>1</sub> - 0.10s<sub>2</sub> \n",
       "```\n",
       "\n",
       "Simplifying:\n",
       "\n",
       "```\n",
       "Maximize Z = 0.70x<sub>1</sub> + 1.00x<sub>2</sub> + 1.07x<sub>3</sub> - 0.20s<sub>1</sub> - 0.10s<sub>2</sub>\n",
       "```\n",
       "\n",
       "This objective function calculates the total profit by considering the following for each product:\n",
       "\n",
       "1.  **Revenue:** Selling price per unit multiplied by the number of units sold.\n",
       "2.  **Production Costs:** Costs of smelting, mechanization, and assembly/packaging at PRODA.\n",
       "3.  **Subcontracting Costs:**  Costs associated with subcontracting smelting for P1 and P2. \n"
      ],
      "text/plain": [
       "<IPython.core.display.Markdown object>"
      ]
     },
     "execution_count": 711,
     "metadata": {},
     "output_type": "execute_result"
    }
   ],
   "source": [
    "Markdown(response2.text)"
   ]
  },
  {
   "cell_type": "markdown",
   "id": "d8ab1404",
   "metadata": {},
   "source": [
    "# 3. Ask for constraints"
   ]
  },
  {
   "cell_type": "code",
   "execution_count": 712,
   "id": "e6409951",
   "metadata": {},
   "outputs": [],
   "source": [
    "#Second prompt gets the output of the previous step and generates the code\n",
    "prompt3 = \"Please formulate only the constraints for this mathematical optimization problem.\"\n",
    "prompt3 += problem + response.text + response2.text\n",
    "response3 = generative_multimodal_model.generate_content([prompt3])"
   ]
  },
  {
   "cell_type": "code",
   "execution_count": 713,
   "id": "2f9439c2",
   "metadata": {},
   "outputs": [
    {
     "data": {
      "text/markdown": [
       "## Constraints:\n",
       "\n",
       "**1. Production Capacity Constraints:**\n",
       "\n",
       "*   **Smelting:** 6(*x*<sub>1</sub> - *s*<sub>1</sub>) + 10(*x*<sub>2</sub> - *s*<sub>2</sub>) + 8*x*<sub>3</sub> ≤ 8000  (minutes)\n",
       "*   **Mechanization:** 6*x*<sub>1</sub> + 3*x*<sub>2</sub> + 8*x*<sub>3</sub> ≤ 12000 (minutes)\n",
       "*   **Assembly and Packaging:** 3*x*<sub>1</sub> + 2*x*<sub>2</sub> + 2*x*<sub>3</sub> ≤ 10000 (minutes)\n",
       "\n",
       "**2. Subcontracting Limits:**\n",
       "\n",
       "*   0 ≤ *s*<sub>1</sub> ≤ *x*<sub>1</sub>  (Can't subcontract more than what's produced of P1)\n",
       "*   0 ≤ *s*<sub>2</sub> ≤ *x*<sub>2</sub> (Can't subcontract more than what's produced of P2)\n",
       "\n",
       "**3. Non-Negativity Constraints:**\n",
       "\n",
       "*   *x*<sub>1</sub>, *x*<sub>2</sub>, *x*<sub>3</sub>, *s*<sub>1</sub>, *s*<sub>2</sub> ≥ 0 \n"
      ],
      "text/plain": [
       "<IPython.core.display.Markdown object>"
      ]
     },
     "execution_count": 713,
     "metadata": {},
     "output_type": "execute_result"
    }
   ],
   "source": [
    "Markdown(response3.text)"
   ]
  },
  {
   "cell_type": "markdown",
   "id": "75796979",
   "metadata": {},
   "source": [
    "## 3. Generate the pyomo code"
   ]
  },
  {
   "cell_type": "code",
   "execution_count": 714,
   "id": "aabea932",
   "metadata": {},
   "outputs": [],
   "source": [
    "#Second prompt gets the output of the previous step and generates the code\n",
    "prompt4 = \"Please write pyomo code for this mathematical problem. Use sample data where needed. Indicate where you use sample data. \\n\"\n",
    "prompt4 += response.text + response2.text + response3.text \n",
    "response4 = generative_multimodal_model.generate_content([prompt4])"
   ]
  },
  {
   "cell_type": "code",
   "execution_count": 715,
   "id": "04d43568",
   "metadata": {
    "scrolled": false
   },
   "outputs": [
    {
     "data": {
      "text/markdown": [
       "```python\n",
       "import pyomo.environ as pyo\n",
       "\n",
       "# Create a concrete model\n",
       "model = pyo.ConcreteModel()\n",
       "\n",
       "# Define variables\n",
       "model.x1 = pyo.Var(domain=pyo.NonNegativeReals)  # Product P1 production\n",
       "model.x2 = pyo.Var(domain=pyo.NonNegativeReals)  # Product P2 production\n",
       "model.x3 = pyo.Var(domain=pyo.NonNegativeReals)  # Product P3 production\n",
       "model.s1 = pyo.Var(domain=pyo.NonNegativeReals)  # Product P1 subcontracted smelting\n",
       "model.s2 = pyo.Var(domain=pyo.NonNegativeReals)  # Product P2 subcontracted smelting\n",
       "\n",
       "# Define the objective function\n",
       "model.profit = pyo.Objective(\n",
       "    expr=0.70 * model.x1 + 1.00 * model.x2 + 1.07 * model.x3 - 0.20 * model.s1 - 0.10 * model.s2,\n",
       "    sense=pyo.maximize\n",
       ")\n",
       "\n",
       "# Define constraints\n",
       "model.smelting_constraint = pyo.Constraint(\n",
       "    expr=6 * (model.x1 - model.s1) + 10 * (model.x2 - model.s2) + 8 * model.x3 <= 8000\n",
       ")\n",
       "model.mechanization_constraint = pyo.Constraint(\n",
       "    expr=6 * model.x1 + 3 * model.x2 + 8 * model.x3 <= 12000\n",
       ")\n",
       "model.assembly_constraint = pyo.Constraint(\n",
       "    expr=3 * model.x1 + 2 * model.x2 + 2 * model.x3 <= 10000\n",
       ")\n",
       "model.subcontracting_p1_constraint = pyo.Constraint(\n",
       "    expr=0 <= model.s1 <= model.x1\n",
       ")\n",
       "model.subcontracting_p2_constraint = pyo.Constraint(\n",
       "    expr=0 <= model.s2 <= model.x2\n",
       ")\n",
       "\n",
       "# Solve the model\n",
       "# You can choose a solver that you have installed, for example:\n",
       "# solver = pyo.SolverFactory('glpk') \n",
       "# results = solver.solve(model)\n",
       "\n",
       "# Print the results\n",
       "# print(results)\n",
       "# print(f\"Optimal Profit: {pyo.value(model.profit)}\")\n",
       "# print(f\"Product P1 Production: {pyo.value(model.x1)}\")\n",
       "# print(f\"Product P2 Production: {pyo.value(model.x2)}\")\n",
       "# print(f\"Product P3 Production: {pyo.value(model.x3)}\")\n",
       "# print(f\"Product P1 Subcontracted Smelting: {pyo.value(model.s1)}\")\n",
       "# print(f\"Product P2 Subcontracted Smelting: {pyo.value(model.s2)}\") \n",
       "``` \n"
      ],
      "text/plain": [
       "<IPython.core.display.Markdown object>"
      ]
     },
     "execution_count": 715,
     "metadata": {},
     "output_type": "execute_result"
    }
   ],
   "source": [
    "## Showing the code in a formatted way\n",
    "Markdown(response4.text)"
   ]
  },
  {
   "cell_type": "markdown",
   "id": "b60756ae",
   "metadata": {},
   "source": [
    "## 4. Input problem data and try running the generated code"
   ]
  },
  {
   "cell_type": "code",
   "execution_count": 717,
   "id": "c95bf9b7",
   "metadata": {},
   "outputs": [
    {
     "ename": "PyomoException",
     "evalue": "Cannot convert non-constant Pyomo expression (0  <=  s1) to bool.\nThis error is usually caused by using a Var, unit, or mutable Param in a\nBoolean context such as an \"if\" statement, or when checking container\nmembership or equality. For example,\n    >>> m.x = Var()\n    >>> if m.x >= 1:\n    ...     pass\nand\n    >>> m.y = Var()\n    >>> if m.y in [m.x, m.y]:\n    ...     pass\nwould both cause this exception.",
     "output_type": "error",
     "traceback": [
      "\u001b[1;31m---------------------------------------------------------------------------\u001b[0m",
      "\u001b[1;31mPyomoException\u001b[0m                            Traceback (most recent call last)",
      "Cell \u001b[1;32mIn[717], line 30\u001b[0m\n\u001b[0;32m     23\u001b[0m model\u001b[38;5;241m.\u001b[39mmechanization_constraint \u001b[38;5;241m=\u001b[39m pyo\u001b[38;5;241m.\u001b[39mConstraint(\n\u001b[0;32m     24\u001b[0m     expr\u001b[38;5;241m=\u001b[39m\u001b[38;5;241m6\u001b[39m \u001b[38;5;241m*\u001b[39m model\u001b[38;5;241m.\u001b[39mx1 \u001b[38;5;241m+\u001b[39m \u001b[38;5;241m3\u001b[39m \u001b[38;5;241m*\u001b[39m model\u001b[38;5;241m.\u001b[39mx2 \u001b[38;5;241m+\u001b[39m \u001b[38;5;241m8\u001b[39m \u001b[38;5;241m*\u001b[39m model\u001b[38;5;241m.\u001b[39mx3 \u001b[38;5;241m<\u001b[39m\u001b[38;5;241m=\u001b[39m \u001b[38;5;241m12000\u001b[39m\n\u001b[0;32m     25\u001b[0m )\n\u001b[0;32m     26\u001b[0m model\u001b[38;5;241m.\u001b[39massembly_constraint \u001b[38;5;241m=\u001b[39m pyo\u001b[38;5;241m.\u001b[39mConstraint(\n\u001b[0;32m     27\u001b[0m     expr\u001b[38;5;241m=\u001b[39m\u001b[38;5;241m3\u001b[39m \u001b[38;5;241m*\u001b[39m model\u001b[38;5;241m.\u001b[39mx1 \u001b[38;5;241m+\u001b[39m \u001b[38;5;241m2\u001b[39m \u001b[38;5;241m*\u001b[39m model\u001b[38;5;241m.\u001b[39mx2 \u001b[38;5;241m+\u001b[39m \u001b[38;5;241m2\u001b[39m \u001b[38;5;241m*\u001b[39m model\u001b[38;5;241m.\u001b[39mx3 \u001b[38;5;241m<\u001b[39m\u001b[38;5;241m=\u001b[39m \u001b[38;5;241m10000\u001b[39m\n\u001b[0;32m     28\u001b[0m )\n\u001b[0;32m     29\u001b[0m model\u001b[38;5;241m.\u001b[39msubcontracting_p1_constraint \u001b[38;5;241m=\u001b[39m pyo\u001b[38;5;241m.\u001b[39mConstraint(\n\u001b[1;32m---> 30\u001b[0m     expr\u001b[38;5;241m=\u001b[39m\u001b[38;5;241m0\u001b[39m \u001b[38;5;241m<\u001b[39m\u001b[38;5;241m=\u001b[39m model\u001b[38;5;241m.\u001b[39ms1 \u001b[38;5;241m<\u001b[39m\u001b[38;5;241m=\u001b[39m model\u001b[38;5;241m.\u001b[39mx1\n\u001b[0;32m     31\u001b[0m )\n\u001b[0;32m     32\u001b[0m model\u001b[38;5;241m.\u001b[39msubcontracting_p2_constraint \u001b[38;5;241m=\u001b[39m pyo\u001b[38;5;241m.\u001b[39mConstraint(\n\u001b[0;32m     33\u001b[0m     expr\u001b[38;5;241m=\u001b[39m\u001b[38;5;241m0\u001b[39m \u001b[38;5;241m<\u001b[39m\u001b[38;5;241m=\u001b[39m model\u001b[38;5;241m.\u001b[39ms2 \u001b[38;5;241m<\u001b[39m\u001b[38;5;241m=\u001b[39m model\u001b[38;5;241m.\u001b[39mx2\n\u001b[0;32m     34\u001b[0m )\n\u001b[0;32m     36\u001b[0m \u001b[38;5;66;03m# Solve the model\u001b[39;00m\n\u001b[0;32m     37\u001b[0m \u001b[38;5;66;03m# You can choose a solver that you have installed, for example:\u001b[39;00m\n",
      "File \u001b[1;32m~\\anaconda3\\Lib\\site-packages\\pyomo\\core\\expr\\relational_expr.py:47\u001b[0m, in \u001b[0;36mRelationalExpression.__bool__\u001b[1;34m(self)\u001b[0m\n\u001b[0;32m     45\u001b[0m         \u001b[38;5;28;01mif\u001b[39;00m \u001b[38;5;28mself\u001b[39m\u001b[38;5;241m.\u001b[39mis_constant():\n\u001b[0;32m     46\u001b[0m             \u001b[38;5;28;01mreturn\u001b[39;00m \u001b[38;5;28mbool\u001b[39m(\u001b[38;5;28mself\u001b[39m())\n\u001b[1;32m---> 47\u001b[0m         \u001b[38;5;28;01mraise\u001b[39;00m PyomoException(\n\u001b[0;32m     48\u001b[0m \u001b[38;5;250m            \u001b[39m\u001b[38;5;124;03m\"\"\"\u001b[39;00m\n\u001b[0;32m     49\u001b[0m \u001b[38;5;124;03mCannot convert non-constant Pyomo expression (%s) to bool.\u001b[39;00m\n\u001b[0;32m     50\u001b[0m \u001b[38;5;124;03mThis error is usually caused by using a Var, unit, or mutable Param in a\u001b[39;00m\n\u001b[0;32m     51\u001b[0m \u001b[38;5;124;03mBoolean context such as an \"if\" statement, or when checking container\u001b[39;00m\n\u001b[0;32m     52\u001b[0m \u001b[38;5;124;03mmembership or equality. For example,\u001b[39;00m\n\u001b[0;32m     53\u001b[0m \u001b[38;5;124;03m    >>> m.x = Var()\u001b[39;00m\n\u001b[0;32m     54\u001b[0m \u001b[38;5;124;03m    >>> if m.x >= 1:\u001b[39;00m\n\u001b[0;32m     55\u001b[0m \u001b[38;5;124;03m    ...     pass\u001b[39;00m\n\u001b[0;32m     56\u001b[0m \u001b[38;5;124;03mand\u001b[39;00m\n\u001b[0;32m     57\u001b[0m \u001b[38;5;124;03m    >>> m.y = Var()\u001b[39;00m\n\u001b[0;32m     58\u001b[0m \u001b[38;5;124;03m    >>> if m.y in [m.x, m.y]:\u001b[39;00m\n\u001b[0;32m     59\u001b[0m \u001b[38;5;124;03m    ...     pass\u001b[39;00m\n\u001b[0;32m     60\u001b[0m \u001b[38;5;124;03mwould both cause this exception.\"\"\"\u001b[39;00m\u001b[38;5;241m.\u001b[39mstrip()\n\u001b[0;32m     61\u001b[0m             \u001b[38;5;241m%\u001b[39m (\u001b[38;5;28mself\u001b[39m,)\n\u001b[0;32m     62\u001b[0m         )\n",
      "\u001b[1;31mPyomoException\u001b[0m: Cannot convert non-constant Pyomo expression (0  <=  s1) to bool.\nThis error is usually caused by using a Var, unit, or mutable Param in a\nBoolean context such as an \"if\" statement, or when checking container\nmembership or equality. For example,\n    >>> m.x = Var()\n    >>> if m.x >= 1:\n    ...     pass\nand\n    >>> m.y = Var()\n    >>> if m.y in [m.x, m.y]:\n    ...     pass\nwould both cause this exception."
     ]
    }
   ],
   "source": [
    "import pyomo.environ as pyo\n",
    "\n",
    "# Create a concrete model\n",
    "model = pyo.ConcreteModel()\n",
    "\n",
    "# Define variables\n",
    "model.x1 = pyo.Var(domain=pyo.NonNegativeReals)  # Product P1 production\n",
    "model.x2 = pyo.Var(domain=pyo.NonNegativeReals)  # Product P2 production\n",
    "model.x3 = pyo.Var(domain=pyo.NonNegativeReals)  # Product P3 production\n",
    "model.s1 = pyo.Var(domain=pyo.NonNegativeReals)  # Product P1 subcontracted smelting\n",
    "model.s2 = pyo.Var(domain=pyo.NonNegativeReals)  # Product P2 subcontracted smelting\n",
    "\n",
    "# Define the objective function\n",
    "model.profit = pyo.Objective(\n",
    "    expr=0.70 * model.x1 + 1.00 * model.x2 + 1.07 * model.x3 - 0.20 * model.s1 - 0.10 * model.s2,\n",
    "    sense=pyo.maximize\n",
    ")\n",
    "\n",
    "# Define constraints\n",
    "model.smelting_constraint = pyo.Constraint(\n",
    "    expr=6 * (model.x1 - model.s1) + 10 * (model.x2 - model.s2) + 8 * model.x3 <= 8000\n",
    ")\n",
    "model.mechanization_constraint = pyo.Constraint(\n",
    "    expr=6 * model.x1 + 3 * model.x2 + 8 * model.x3 <= 12000\n",
    ")\n",
    "model.assembly_constraint = pyo.Constraint(\n",
    "    expr=3 * model.x1 + 2 * model.x2 + 2 * model.x3 <= 10000\n",
    ")\n",
    "model.subcontracting_p1_constraint = pyo.Constraint(\n",
    "    expr=0 <= model.s1 <= model.x1\n",
    ")\n",
    "model.subcontracting_p2_constraint = pyo.Constraint(\n",
    "    expr=0 <= model.s2 <= model.x2\n",
    ")\n",
    "\n",
    "# Solve the model\n",
    "# You can choose a solver that you have installed, for example:\n",
    "solver = pyo.SolverFactory('glpk') \n",
    "results = solver.solve(model)\n",
    "\n",
    "# Print the results\n",
    "print(results)\n",
    "print(f\"Optimal Profit: {pyo.value(model.profit)}\")\n",
    "print(f\"Product P1 Production: {pyo.value(model.x1)}\")\n",
    "print(f\"Product P2 Production: {pyo.value(model.x2)}\")\n",
    "print(f\"Product P3 Production: {pyo.value(model.x3)}\")\n",
    "print(f\"Product P1 Subcontracted Smelting: {pyo.value(model.s1)}\")\n",
    "print(f\"Product P2 Subcontracted Smelting: {pyo.value(model.s2)}\") "
   ]
  },
  {
   "cell_type": "markdown",
   "id": "1be0926e",
   "metadata": {},
   "source": [
    "## 5. Correct the code to verify model viability (optional)"
   ]
  },
  {
   "cell_type": "code",
   "execution_count": 718,
   "id": "8b37acfc",
   "metadata": {},
   "outputs": [
    {
     "name": "stdout",
     "output_type": "stream",
     "text": [
      "\n",
      "Problem: \n",
      "- Name: unknown\n",
      "  Lower bound: 3680.0\n",
      "  Upper bound: 3680.0\n",
      "  Number of objectives: 1\n",
      "  Number of constraints: 7\n",
      "  Number of variables: 5\n",
      "  Number of nonzeros: 17\n",
      "  Sense: maximize\n",
      "Solver: \n",
      "- Status: ok\n",
      "  Termination condition: optimal\n",
      "  Statistics: \n",
      "    Branch and bound: \n",
      "      Number of bounded subproblems: 0\n",
      "      Number of created subproblems: 0\n",
      "  Error rc: 0\n",
      "  Time: 0.04004049301147461\n",
      "Solution: \n",
      "- number of solutions: 0\n",
      "  number of solutions displayed: 0\n",
      "\n",
      "Optimal Profit: 3680.0\n",
      "Product P1 Production: 0.0\n",
      "Product P2 Production: 4000.0\n",
      "Product P3 Production: 0.0\n",
      "Product P1 Subcontracted Smelting: 0.0\n",
      "Product P2 Subcontracted Smelting: 3200.0\n"
     ]
    }
   ],
   "source": [
    "import pyomo.environ as pyo\n",
    "\n",
    "# Create a concrete model\n",
    "model = pyo.ConcreteModel()\n",
    "\n",
    "# Define variables\n",
    "model.x1 = pyo.Var(domain=pyo.NonNegativeReals)  # Product P1 production\n",
    "model.x2 = pyo.Var(domain=pyo.NonNegativeReals)  # Product P2 production\n",
    "model.x3 = pyo.Var(domain=pyo.NonNegativeReals)  # Product P3 production\n",
    "model.s1 = pyo.Var(domain=pyo.NonNegativeReals)  # Product P1 subcontracted smelting\n",
    "model.s2 = pyo.Var(domain=pyo.NonNegativeReals)  # Product P2 subcontracted smelting\n",
    "\n",
    "# Define the objective function\n",
    "model.profit = pyo.Objective(\n",
    "    expr=0.70 * model.x1 + 1.00 * model.x2 + 1.07 * model.x3 - 0.20 * model.s1 - 0.10 * model.s2,\n",
    "    sense=pyo.maximize\n",
    ")\n",
    "\n",
    "# Define constraints\n",
    "model.smelting_constraint = pyo.Constraint(\n",
    "    expr=6 * (model.x1 - model.s1) + 10 * (model.x2 - model.s2) + 8 * model.x3 <= 8000\n",
    ")\n",
    "model.mechanization_constraint = pyo.Constraint(\n",
    "    expr=6 * model.x1 + 3 * model.x2 + 8 * model.x3 <= 12000\n",
    ")\n",
    "model.assembly_constraint = pyo.Constraint(\n",
    "    expr=3 * model.x1 + 2 * model.x2 + 2 * model.x3 <= 10000\n",
    ")\n",
    "model.subcontracting_p1_constraint1 = pyo.Constraint(\n",
    "    expr=0 <= model.s1 \n",
    ")\n",
    "model.subcontracting_p1_constraint = pyo.Constraint(\n",
    "    expr= model.s1 <= model.x1\n",
    ")\n",
    "model.subcontracting_p2_constraint1 = pyo.Constraint(\n",
    "    expr=0 <= model.s2\n",
    ")\n",
    "model.subcontracting_p2_constraint = pyo.Constraint(\n",
    "    expr=model.s2 <= model.x2\n",
    ")\n",
    "\n",
    "# Solve the model\n",
    "# You can choose a solver that you have installed, for example:\n",
    "solver = pyo.SolverFactory('glpk') \n",
    "results = solver.solve(model)\n",
    "\n",
    "# Print the results\n",
    "print(results)\n",
    "print(f\"Optimal Profit: {pyo.value(model.profit)}\")\n",
    "print(f\"Product P1 Production: {pyo.value(model.x1)}\")\n",
    "print(f\"Product P2 Production: {pyo.value(model.x2)}\")\n",
    "print(f\"Product P3 Production: {pyo.value(model.x3)}\")\n",
    "print(f\"Product P1 Subcontracted Smelting: {pyo.value(model.s1)}\")\n",
    "print(f\"Product P2 Subcontracted Smelting: {pyo.value(model.s2)}\") "
   ]
  },
  {
   "cell_type": "code",
   "execution_count": null,
   "id": "d295a62c",
   "metadata": {
    "scrolled": false
   },
   "outputs": [],
   "source": []
  },
  {
   "cell_type": "markdown",
   "id": "fd318068",
   "metadata": {},
   "source": [
    "## 6. Print the responses"
   ]
  },
  {
   "cell_type": "code",
   "execution_count": 723,
   "id": "d41f1377",
   "metadata": {},
   "outputs": [
    {
     "name": "stdout",
     "output_type": "stream",
     "text": [
      "## Variables:\n",
      "\n",
      "**Production Quantities:**\n",
      "\n",
      "*  *x*<sub>1</sub>: Number of units of product P1 produced and sold weekly.\n",
      "*  *x*<sub>2</sub>: Number of units of product P2 produced and sold weekly.\n",
      "*  *x*<sub>3</sub>: Number of units of product P3 produced and sold weekly.\n",
      "\n",
      "**Subcontracting Quantities:**\n",
      "\n",
      "*  *s*<sub>1</sub>: Number of units of product P1 subcontracted for smelting weekly.\n",
      "*  *s*<sub>2</sub>: Number of units of product P2 subcontracted for smelting weekly. \n",
      "\n"
     ]
    }
   ],
   "source": [
    "print(response.text)"
   ]
  },
  {
   "cell_type": "code",
   "execution_count": 724,
   "id": "3e50bb28",
   "metadata": {},
   "outputs": [
    {
     "name": "stdout",
     "output_type": "stream",
     "text": [
      "Objective Function (Maximize Profit):\n",
      "\n",
      "```\n",
      "Maximize Z = (1.50 - 0.30)x<sub>1</sub> - 0.20x<sub>1</sub> - 0.30x<sub>1</sub> + (1.80 - 0.50)x<sub>2</sub> - 0.10x<sub>2</sub> - 0.20x<sub>2</sub> + (1.97 - 0.40)x<sub>3</sub> - 0.27x<sub>3</sub> - 0.20x<sub>3</sub> - 0.20s<sub>1</sub> - 0.10s<sub>2</sub> \n",
      "```\n",
      "\n",
      "Simplifying:\n",
      "\n",
      "```\n",
      "Maximize Z = 0.70x<sub>1</sub> + 1.00x<sub>2</sub> + 1.07x<sub>3</sub> - 0.20s<sub>1</sub> - 0.10s<sub>2</sub>\n",
      "```\n",
      "\n",
      "This objective function calculates the total profit by considering the following for each product:\n",
      "\n",
      "1.  **Revenue:** Selling price per unit multiplied by the number of units sold.\n",
      "2.  **Production Costs:** Costs of smelting, mechanization, and assembly/packaging at PRODA.\n",
      "3.  **Subcontracting Costs:**  Costs associated with subcontracting smelting for P1 and P2. \n",
      "\n"
     ]
    }
   ],
   "source": [
    "print(response2.text)"
   ]
  },
  {
   "cell_type": "code",
   "execution_count": 725,
   "id": "fcb481b0",
   "metadata": {},
   "outputs": [
    {
     "name": "stdout",
     "output_type": "stream",
     "text": [
      "## Constraints:\n",
      "\n",
      "**1. Production Capacity Constraints:**\n",
      "\n",
      "*   **Smelting:** 6(*x*<sub>1</sub> - *s*<sub>1</sub>) + 10(*x*<sub>2</sub> - *s*<sub>2</sub>) + 8*x*<sub>3</sub> ≤ 8000  (minutes)\n",
      "*   **Mechanization:** 6*x*<sub>1</sub> + 3*x*<sub>2</sub> + 8*x*<sub>3</sub> ≤ 12000 (minutes)\n",
      "*   **Assembly and Packaging:** 3*x*<sub>1</sub> + 2*x*<sub>2</sub> + 2*x*<sub>3</sub> ≤ 10000 (minutes)\n",
      "\n",
      "**2. Subcontracting Limits:**\n",
      "\n",
      "*   0 ≤ *s*<sub>1</sub> ≤ *x*<sub>1</sub>  (Can't subcontract more than what's produced of P1)\n",
      "*   0 ≤ *s*<sub>2</sub> ≤ *x*<sub>2</sub> (Can't subcontract more than what's produced of P2)\n",
      "\n",
      "**3. Non-Negativity Constraints:**\n",
      "\n",
      "*   *x*<sub>1</sub>, *x*<sub>2</sub>, *x*<sub>3</sub>, *s*<sub>1</sub>, *s*<sub>2</sub> ≥ 0 \n",
      "\n"
     ]
    }
   ],
   "source": [
    "print(response3.text)"
   ]
  },
  {
   "cell_type": "code",
   "execution_count": 726,
   "id": "3aa059b9",
   "metadata": {},
   "outputs": [
    {
     "name": "stdout",
     "output_type": "stream",
     "text": [
      "```python\n",
      "import pyomo.environ as pyo\n",
      "\n",
      "# Create a concrete model\n",
      "model = pyo.ConcreteModel()\n",
      "\n",
      "# Define variables\n",
      "model.x1 = pyo.Var(domain=pyo.NonNegativeReals)  # Product P1 production\n",
      "model.x2 = pyo.Var(domain=pyo.NonNegativeReals)  # Product P2 production\n",
      "model.x3 = pyo.Var(domain=pyo.NonNegativeReals)  # Product P3 production\n",
      "model.s1 = pyo.Var(domain=pyo.NonNegativeReals)  # Product P1 subcontracted smelting\n",
      "model.s2 = pyo.Var(domain=pyo.NonNegativeReals)  # Product P2 subcontracted smelting\n",
      "\n",
      "# Define the objective function\n",
      "model.profit = pyo.Objective(\n",
      "    expr=0.70 * model.x1 + 1.00 * model.x2 + 1.07 * model.x3 - 0.20 * model.s1 - 0.10 * model.s2,\n",
      "    sense=pyo.maximize\n",
      ")\n",
      "\n",
      "# Define constraints\n",
      "model.smelting_constraint = pyo.Constraint(\n",
      "    expr=6 * (model.x1 - model.s1) + 10 * (model.x2 - model.s2) + 8 * model.x3 <= 8000\n",
      ")\n",
      "model.mechanization_constraint = pyo.Constraint(\n",
      "    expr=6 * model.x1 + 3 * model.x2 + 8 * model.x3 <= 12000\n",
      ")\n",
      "model.assembly_constraint = pyo.Constraint(\n",
      "    expr=3 * model.x1 + 2 * model.x2 + 2 * model.x3 <= 10000\n",
      ")\n",
      "model.subcontracting_p1_constraint = pyo.Constraint(\n",
      "    expr=0 <= model.s1 <= model.x1\n",
      ")\n",
      "model.subcontracting_p2_constraint = pyo.Constraint(\n",
      "    expr=0 <= model.s2 <= model.x2\n",
      ")\n",
      "\n",
      "# Solve the model\n",
      "# You can choose a solver that you have installed, for example:\n",
      "# solver = pyo.SolverFactory('glpk') \n",
      "# results = solver.solve(model)\n",
      "\n",
      "# Print the results\n",
      "# print(results)\n",
      "# print(f\"Optimal Profit: {pyo.value(model.profit)}\")\n",
      "# print(f\"Product P1 Production: {pyo.value(model.x1)}\")\n",
      "# print(f\"Product P2 Production: {pyo.value(model.x2)}\")\n",
      "# print(f\"Product P3 Production: {pyo.value(model.x3)}\")\n",
      "# print(f\"Product P1 Subcontracted Smelting: {pyo.value(model.s1)}\")\n",
      "# print(f\"Product P2 Subcontracted Smelting: {pyo.value(model.s2)}\") \n",
      "``` \n",
      "\n"
     ]
    }
   ],
   "source": [
    "print(response4.text)"
   ]
  },
  {
   "cell_type": "code",
   "execution_count": null,
   "id": "98225951",
   "metadata": {},
   "outputs": [],
   "source": []
  }
 ],
 "metadata": {
  "kernelspec": {
   "display_name": "Python 3 (ipykernel)",
   "language": "python",
   "name": "python3"
  },
  "language_info": {
   "codemirror_mode": {
    "name": "ipython",
    "version": 3
   },
   "file_extension": ".py",
   "mimetype": "text/x-python",
   "name": "python",
   "nbconvert_exporter": "python",
   "pygments_lexer": "ipython3",
   "version": "3.11.4"
  }
 },
 "nbformat": 4,
 "nbformat_minor": 5
}
