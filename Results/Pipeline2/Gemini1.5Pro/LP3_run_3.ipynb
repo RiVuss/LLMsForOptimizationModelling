{
 "cells": [
  {
   "cell_type": "markdown",
   "id": "f0005e9e",
   "metadata": {},
   "source": [
    "# LLM Optimization Modelling Experiment"
   ]
  },
  {
   "cell_type": "code",
   "execution_count": 1,
   "id": "7f664028",
   "metadata": {},
   "outputs": [],
   "source": [
    "import vertexai\n",
    "from vertexai.preview.generative_models import GenerativeModel, Image\n",
    "from IPython.display import Markdown"
   ]
  },
  {
   "cell_type": "markdown",
   "id": "f527d6af",
   "metadata": {},
   "source": [
    "## 1. Define the problem description"
   ]
  },
  {
   "cell_type": "code",
   "execution_count": 637,
   "id": "25055ffd",
   "metadata": {},
   "outputs": [],
   "source": [
    "problem = '''The PRODA, S.A. industrial products firm has to face the problem of scheduling\n",
    "the weekly production of its three products (P1, P2 and P3). These products are\n",
    "sold to large industrial firms and PRODA, S.A. wishes to supply its products in\n",
    "quantities that are more profitable for it.\n",
    "\n",
    "Each product entails three operations contributing to the costs: smelting; mechanisation; assembly and\n",
    "packaging. The smelting operations for products P1 and P2 could be subcontracted, but the smelting operation for product P3 requires special equipment, thus\n",
    "preventing the use of subcontracts. PRODA also want to know, how much they should subcontract.\n",
    "\n",
    "For product P1 the direct unit costs of all possible operations are:\n",
    "- smelting at PRODA: 0.30$\n",
    "- subcontracted smelting: 0.50$\n",
    "- mechanisation: 0.20$\n",
    "- Assembly and packaging: 0.3$\n",
    "The unit sales price is 1.50$.\n",
    "\n",
    "For product P2 the direct unit costs of all possible operations are:\n",
    "- smelting at PRODA: 0.50$\n",
    "- subcontracted smelting: 0.60$\n",
    "- mechanisation: 0.10$\n",
    "- Assembly and packaging: 0.20$\n",
    "The unit sales price is 1.80$.\n",
    "\n",
    "For product P3 the direct unit costs of all possible operations are:\n",
    "- smelting at PRODA: 0.40$\n",
    "- mechanisation: 0.27$\n",
    "- Assembly and packaging: 0.20$\n",
    "The unit sales price is 1.97$.\n",
    "\n",
    "Each unit of product P1 requires 6 min of smelting time (if performed at PRODA, S.A.), 6 min of mechanisation time and 3 min of assembly and packaging time, respectively. For product P2, the times are 10, 3 and 2 min, respectively. One unit of product P3 needs 8 min of smelting time, 8 min of mechanisation and 2 min for assembly and packaging. PRODA, S.A. has weekly capacities of 8,000 min of smelting time, 12,000 min of mechanisation time and 10,000 min of assembly and packaging time.\n",
    "The objective is to maximize weekly profits.'''"
   ]
  },
  {
   "cell_type": "markdown",
   "id": "472cf9ad",
   "metadata": {},
   "source": [
    "## 2. Ask for parameters"
   ]
  },
  {
   "cell_type": "code",
   "execution_count": 727,
   "id": "e31ec80c",
   "metadata": {},
   "outputs": [],
   "source": [
    "#Initializing the session. To replicate, make sure the right credentials are saved in a PATH variable\n",
    "PROJECT_ID = \"llm4optproblems\"\n",
    "REGION = \"us-central1\"\n",
    "vertexai.init(project=PROJECT_ID, location=REGION)\n",
    "\n",
    "#Specifying the model\n",
    "generative_multimodal_model = GenerativeModel(\"gemini-1.5-pro-preview-0409\")\n",
    "\n",
    "#The propmt applied to all problems\n",
    "prompt = '''Please formulate only the variables for this mathematical optimization problem. \n",
    "'''\n",
    "\n",
    "#Generate the response\n",
    "response = generative_multimodal_model.generate_content([prompt+problem])\n"
   ]
  },
  {
   "cell_type": "code",
   "execution_count": 728,
   "id": "f9adc567",
   "metadata": {},
   "outputs": [
    {
     "data": {
      "text/markdown": [
       "## Variables:\n",
       "\n",
       "**Production Quantities:**\n",
       "\n",
       "*  $x_1$: Number of units of product P1 produced and sold weekly.\n",
       "*  $x_2$: Number of units of product P2 produced and sold weekly.\n",
       "*  $x_3$: Number of units of product P3 produced and sold weekly.\n",
       "\n",
       "**Subcontracting Quantities:**\n",
       "\n",
       "*  $s_1$: Number of units of product P1 subcontracted for smelting weekly.\n",
       "*  $s_2$: Number of units of product P2 subcontracted for smelting weekly. \n"
      ],
      "text/plain": [
       "<IPython.core.display.Markdown object>"
      ]
     },
     "execution_count": 728,
     "metadata": {},
     "output_type": "execute_result"
    }
   ],
   "source": [
    "#Show the resopnse in a formatted way\n",
    "Markdown(response.text)"
   ]
  },
  {
   "cell_type": "markdown",
   "id": "15d9e89f",
   "metadata": {},
   "source": [
    "# 2. Ask for objective"
   ]
  },
  {
   "cell_type": "code",
   "execution_count": 743,
   "id": "4f357a19",
   "metadata": {},
   "outputs": [],
   "source": [
    "#Second prompt gets the output of the previous step and generates the code\n",
    "prompt2 = \"Please formulate only the objective function for this mathematical optimization problem.\"\n",
    "prompt2 += problem + response.text\n",
    "response2 = generative_multimodal_model.generate_content([prompt2])"
   ]
  },
  {
   "cell_type": "code",
   "execution_count": 744,
   "id": "bccd1014",
   "metadata": {},
   "outputs": [
    {
     "data": {
      "text/markdown": [
       "$$\\max  \\  1.2x_1 - 0.2s_1 + 1.3x_2 - 0.1s_2 + 1.57x_3$$ \n"
      ],
      "text/plain": [
       "<IPython.core.display.Markdown object>"
      ]
     },
     "execution_count": 744,
     "metadata": {},
     "output_type": "execute_result"
    }
   ],
   "source": [
    "Markdown(response2.text)"
   ]
  },
  {
   "cell_type": "markdown",
   "id": "d8ab1404",
   "metadata": {},
   "source": [
    "# 3. Ask for constraints"
   ]
  },
  {
   "cell_type": "code",
   "execution_count": 745,
   "id": "e6409951",
   "metadata": {},
   "outputs": [],
   "source": [
    "#Second prompt gets the output of the previous step and generates the code\n",
    "prompt3 = \"Please formulate only the constraints for this mathematical optimization problem.\"\n",
    "prompt3 += problem + response.text + response2.text\n",
    "response3 = generative_multimodal_model.generate_content([prompt3])"
   ]
  },
  {
   "cell_type": "code",
   "execution_count": 746,
   "id": "2f9439c2",
   "metadata": {},
   "outputs": [
    {
     "data": {
      "text/markdown": [
       "**Constraints:**\n",
       "\n",
       "* **Production Capacity:**\n",
       "    * Smelting: $6(x_1 - s_1) + 10(x_2 - s_2) + 8x_3 \\le 8000$ \n",
       "    * Mechanization: $6x_1 + 3x_2 + 8x_3 \\le 12000$\n",
       "    * Assembly and Packaging: $3x_1 + 2x_2 + 2x_3 \\le 10000$\n",
       "\n",
       "* **Subcontracting Limits:**\n",
       "    *  $s_1 \\le x_1$ (Can't subcontract more than what's produced)\n",
       "    *  $s_2 \\le x_2$ (Can't subcontract more than what's produced)\n",
       "\n",
       "* **Non-Negativity:**\n",
       "    *  $x_1, x_2, x_3, s_1, s_2 \\ge 0$ (Can't produce or subcontract negative quantities) \n"
      ],
      "text/plain": [
       "<IPython.core.display.Markdown object>"
      ]
     },
     "execution_count": 746,
     "metadata": {},
     "output_type": "execute_result"
    }
   ],
   "source": [
    "Markdown(response3.text)"
   ]
  },
  {
   "cell_type": "markdown",
   "id": "75796979",
   "metadata": {},
   "source": [
    "## 3. Generate the pyomo code"
   ]
  },
  {
   "cell_type": "code",
   "execution_count": 747,
   "id": "aabea932",
   "metadata": {},
   "outputs": [],
   "source": [
    "#Second prompt gets the output of the previous step and generates the code\n",
    "prompt4 = \"Please write pyomo code for this mathematical problem. Use sample data where needed. Indicate where you use sample data. \\n\"\n",
    "prompt4 += response.text + response2.text + response3.text \n",
    "response4 = generative_multimodal_model.generate_content([prompt4])"
   ]
  },
  {
   "cell_type": "code",
   "execution_count": 748,
   "id": "39c5875e",
   "metadata": {
    "scrolled": false
   },
   "outputs": [
    {
     "data": {
      "text/markdown": [
       "```python\n",
       "from pyomo.environ import *\n",
       "\n",
       "# Create a concrete model\n",
       "model = ConcreteModel()\n",
       "\n",
       "# Define variables\n",
       "model.x1 = Var(domain=NonNegativeReals)  # Product P1 produced and sold\n",
       "model.x2 = Var(domain=NonNegativeReals)  # Product P2 produced and sold\n",
       "model.x3 = Var(domain=NonNegativeReals)  # Product P3 produced and sold\n",
       "model.s1 = Var(domain=NonNegativeReals)  # Product P1 subcontracted\n",
       "model.s2 = Var(domain=NonNegativeReals)  # Product P2 subcontracted\n",
       "\n",
       "# Define the objective function\n",
       "model.profit = Objective(\n",
       "    expr=1.2 * model.x1 - 0.2 * model.s1 + 1.3 * model.x2 - 0.1 * model.s2 + 1.57 * model.x3,\n",
       "    sense=maximize\n",
       ")\n",
       "\n",
       "# Define constraints\n",
       "model.smelting = Constraint(\n",
       "    expr=6 * (model.x1 - model.s1) + 10 * (model.x2 - model.s2) + 8 * model.x3 <= 8000\n",
       ")\n",
       "model.mechanization = Constraint(\n",
       "    expr=6 * model.x1 + 3 * model.x2 + 8 * model.x3 <= 12000\n",
       ")\n",
       "model.assembly_packaging = Constraint(\n",
       "    expr=3 * model.x1 + 2 * model.x2 + 2 * model.x3 <= 10000\n",
       ")\n",
       "model.subcontracting_p1 = Constraint(expr=model.s1 <= model.x1)\n",
       "model.subcontracting_p2 = Constraint(expr=model.s2 <= model.x2)\n",
       "\n",
       "# Solve the model\n",
       "SolverFactory('glpk').solve(model)  # You can choose a different solver if needed\n",
       "\n",
       "# Print the results\n",
       "print(\"Optimal Solution:\")\n",
       "print(f\"  x1 (P1 Production): {model.x1.value:.2f}\")\n",
       "print(f\"  x2 (P2 Production): {model.x2.value:.2f}\")\n",
       "print(f\"  x3 (P3 Production): {model.x3.value:.2f}\")\n",
       "print(f\"  s1 (P1 Subcontracted): {model.s1.value:.2f}\")\n",
       "print(f\"  s2 (P2 Subcontracted): {model.s2.value:.2f}\")\n",
       "print(f\"  Total Profit: ${model.profit.expr():.2f}\") \n",
       "``` \n"
      ],
      "text/plain": [
       "<IPython.core.display.Markdown object>"
      ]
     },
     "execution_count": 748,
     "metadata": {},
     "output_type": "execute_result"
    }
   ],
   "source": [
    "## Showing the code in a formatted way\n",
    "Markdown(response4.text)"
   ]
  },
  {
   "cell_type": "markdown",
   "id": "b60756ae",
   "metadata": {},
   "source": [
    "## 4. Input problem data and try running the generated code"
   ]
  },
  {
   "cell_type": "code",
   "execution_count": 749,
   "id": "1ba7fe38",
   "metadata": {},
   "outputs": [
    {
     "name": "stdout",
     "output_type": "stream",
     "text": [
      "Optimal Solution:\n",
      "  x1 (P1 Production): 0.00\n",
      "  x2 (P2 Production): 4000.00\n",
      "  x3 (P3 Production): 0.00\n",
      "  s1 (P1 Subcontracted): 0.00\n",
      "  s2 (P2 Subcontracted): 3200.00\n",
      "  Total Profit: $4880.00\n"
     ]
    }
   ],
   "source": [
    "from pyomo.environ import *\n",
    "\n",
    "# Create a concrete model\n",
    "model = ConcreteModel()\n",
    "\n",
    "# Define variables\n",
    "model.x1 = Var(domain=NonNegativeReals)  # Product P1 produced and sold\n",
    "model.x2 = Var(domain=NonNegativeReals)  # Product P2 produced and sold\n",
    "model.x3 = Var(domain=NonNegativeReals)  # Product P3 produced and sold\n",
    "model.s1 = Var(domain=NonNegativeReals)  # Product P1 subcontracted\n",
    "model.s2 = Var(domain=NonNegativeReals)  # Product P2 subcontracted\n",
    "\n",
    "# Define the objective function\n",
    "model.profit = Objective(\n",
    "    expr=1.2 * model.x1 - 0.2 * model.s1 + 1.3 * model.x2 - 0.1 * model.s2 + 1.57 * model.x3,\n",
    "    sense=maximize\n",
    ")\n",
    "\n",
    "# Define constraints\n",
    "model.smelting = Constraint(\n",
    "    expr=6 * (model.x1 - model.s1) + 10 * (model.x2 - model.s2) + 8 * model.x3 <= 8000\n",
    ")\n",
    "model.mechanization = Constraint(\n",
    "    expr=6 * model.x1 + 3 * model.x2 + 8 * model.x3 <= 12000\n",
    ")\n",
    "model.assembly_packaging = Constraint(\n",
    "    expr=3 * model.x1 + 2 * model.x2 + 2 * model.x3 <= 10000\n",
    ")\n",
    "model.subcontracting_p1 = Constraint(expr=model.s1 <= model.x1)\n",
    "model.subcontracting_p2 = Constraint(expr=model.s2 <= model.x2)\n",
    "\n",
    "# Solve the model\n",
    "SolverFactory('glpk').solve(model)  # You can choose a different solver if needed\n",
    "\n",
    "# Print the results\n",
    "print(\"Optimal Solution:\")\n",
    "print(f\"  x1 (P1 Production): {model.x1.value:.2f}\")\n",
    "print(f\"  x2 (P2 Production): {model.x2.value:.2f}\")\n",
    "print(f\"  x3 (P3 Production): {model.x3.value:.2f}\")\n",
    "print(f\"  s1 (P1 Subcontracted): {model.s1.value:.2f}\")\n",
    "print(f\"  s2 (P2 Subcontracted): {model.s2.value:.2f}\")\n",
    "print(f\"  Total Profit: ${model.profit.expr():.2f}\") "
   ]
  },
  {
   "cell_type": "markdown",
   "id": "1be0926e",
   "metadata": {},
   "source": [
    "## 5. Correct the code to verify model viability (optional)"
   ]
  },
  {
   "cell_type": "code",
   "execution_count": null,
   "id": "8b37acfc",
   "metadata": {},
   "outputs": [],
   "source": []
  },
  {
   "cell_type": "code",
   "execution_count": null,
   "id": "d883cdbf",
   "metadata": {
    "scrolled": false
   },
   "outputs": [],
   "source": []
  },
  {
   "cell_type": "markdown",
   "id": "f91cc49f",
   "metadata": {},
   "source": [
    "## 6. Print the responses"
   ]
  },
  {
   "cell_type": "code",
   "execution_count": 750,
   "id": "66f7e3ba",
   "metadata": {},
   "outputs": [
    {
     "name": "stdout",
     "output_type": "stream",
     "text": [
      "## Variables:\n",
      "\n",
      "**Production Quantities:**\n",
      "\n",
      "*  $x_1$: Number of units of product P1 produced and sold weekly.\n",
      "*  $x_2$: Number of units of product P2 produced and sold weekly.\n",
      "*  $x_3$: Number of units of product P3 produced and sold weekly.\n",
      "\n",
      "**Subcontracting Quantities:**\n",
      "\n",
      "*  $s_1$: Number of units of product P1 subcontracted for smelting weekly.\n",
      "*  $s_2$: Number of units of product P2 subcontracted for smelting weekly. \n",
      "\n"
     ]
    }
   ],
   "source": [
    "print(response.text)"
   ]
  },
  {
   "cell_type": "code",
   "execution_count": 751,
   "id": "71f3bddf",
   "metadata": {},
   "outputs": [
    {
     "name": "stdout",
     "output_type": "stream",
     "text": [
      "$$\\max  \\  1.2x_1 - 0.2s_1 + 1.3x_2 - 0.1s_2 + 1.57x_3$$ \n",
      "\n"
     ]
    }
   ],
   "source": [
    "print(response2.text)"
   ]
  },
  {
   "cell_type": "code",
   "execution_count": 752,
   "id": "42551d12",
   "metadata": {},
   "outputs": [
    {
     "name": "stdout",
     "output_type": "stream",
     "text": [
      "**Constraints:**\n",
      "\n",
      "* **Production Capacity:**\n",
      "    * Smelting: $6(x_1 - s_1) + 10(x_2 - s_2) + 8x_3 \\le 8000$ \n",
      "    * Mechanization: $6x_1 + 3x_2 + 8x_3 \\le 12000$\n",
      "    * Assembly and Packaging: $3x_1 + 2x_2 + 2x_3 \\le 10000$\n",
      "\n",
      "* **Subcontracting Limits:**\n",
      "    *  $s_1 \\le x_1$ (Can't subcontract more than what's produced)\n",
      "    *  $s_2 \\le x_2$ (Can't subcontract more than what's produced)\n",
      "\n",
      "* **Non-Negativity:**\n",
      "    *  $x_1, x_2, x_3, s_1, s_2 \\ge 0$ (Can't produce or subcontract negative quantities) \n",
      "\n"
     ]
    }
   ],
   "source": [
    "print(response3.text)"
   ]
  },
  {
   "cell_type": "code",
   "execution_count": 753,
   "id": "e641ba3b",
   "metadata": {},
   "outputs": [
    {
     "name": "stdout",
     "output_type": "stream",
     "text": [
      "```python\n",
      "from pyomo.environ import *\n",
      "\n",
      "# Create a concrete model\n",
      "model = ConcreteModel()\n",
      "\n",
      "# Define variables\n",
      "model.x1 = Var(domain=NonNegativeReals)  # Product P1 produced and sold\n",
      "model.x2 = Var(domain=NonNegativeReals)  # Product P2 produced and sold\n",
      "model.x3 = Var(domain=NonNegativeReals)  # Product P3 produced and sold\n",
      "model.s1 = Var(domain=NonNegativeReals)  # Product P1 subcontracted\n",
      "model.s2 = Var(domain=NonNegativeReals)  # Product P2 subcontracted\n",
      "\n",
      "# Define the objective function\n",
      "model.profit = Objective(\n",
      "    expr=1.2 * model.x1 - 0.2 * model.s1 + 1.3 * model.x2 - 0.1 * model.s2 + 1.57 * model.x3,\n",
      "    sense=maximize\n",
      ")\n",
      "\n",
      "# Define constraints\n",
      "model.smelting = Constraint(\n",
      "    expr=6 * (model.x1 - model.s1) + 10 * (model.x2 - model.s2) + 8 * model.x3 <= 8000\n",
      ")\n",
      "model.mechanization = Constraint(\n",
      "    expr=6 * model.x1 + 3 * model.x2 + 8 * model.x3 <= 12000\n",
      ")\n",
      "model.assembly_packaging = Constraint(\n",
      "    expr=3 * model.x1 + 2 * model.x2 + 2 * model.x3 <= 10000\n",
      ")\n",
      "model.subcontracting_p1 = Constraint(expr=model.s1 <= model.x1)\n",
      "model.subcontracting_p2 = Constraint(expr=model.s2 <= model.x2)\n",
      "\n",
      "# Solve the model\n",
      "SolverFactory('glpk').solve(model)  # You can choose a different solver if needed\n",
      "\n",
      "# Print the results\n",
      "print(\"Optimal Solution:\")\n",
      "print(f\"  x1 (P1 Production): {model.x1.value:.2f}\")\n",
      "print(f\"  x2 (P2 Production): {model.x2.value:.2f}\")\n",
      "print(f\"  x3 (P3 Production): {model.x3.value:.2f}\")\n",
      "print(f\"  s1 (P1 Subcontracted): {model.s1.value:.2f}\")\n",
      "print(f\"  s2 (P2 Subcontracted): {model.s2.value:.2f}\")\n",
      "print(f\"  Total Profit: ${model.profit.expr():.2f}\") \n",
      "``` \n",
      "\n"
     ]
    }
   ],
   "source": [
    "print(response4.text)"
   ]
  },
  {
   "cell_type": "code",
   "execution_count": null,
   "id": "3544f43c",
   "metadata": {},
   "outputs": [],
   "source": []
  }
 ],
 "metadata": {
  "kernelspec": {
   "display_name": "Python 3 (ipykernel)",
   "language": "python",
   "name": "python3"
  },
  "language_info": {
   "codemirror_mode": {
    "name": "ipython",
    "version": 3
   },
   "file_extension": ".py",
   "mimetype": "text/x-python",
   "name": "python",
   "nbconvert_exporter": "python",
   "pygments_lexer": "ipython3",
   "version": "3.11.4"
  }
 },
 "nbformat": 4,
 "nbformat_minor": 5
}
