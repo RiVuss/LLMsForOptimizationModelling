{
 "cells": [
  {
   "cell_type": "markdown",
   "id": "f0005e9e",
   "metadata": {},
   "source": [
    "# LLM Optimization Modelling Experiment"
   ]
  },
  {
   "cell_type": "code",
   "execution_count": 8,
   "id": "7f664028",
   "metadata": {},
   "outputs": [],
   "source": [
    "import vertexai\n",
    "from vertexai.preview.generative_models import GenerativeModel, Image\n",
    "from IPython.display import Markdown"
   ]
  },
  {
   "cell_type": "markdown",
   "id": "f527d6af",
   "metadata": {},
   "source": [
    "## 1. Define the problem description"
   ]
  },
  {
   "cell_type": "code",
   "execution_count": 335,
   "id": "25055ffd",
   "metadata": {},
   "outputs": [],
   "source": [
    "problem = '''We are looking at an alkylation process which will include the following 10 variables: olefin feed (barrels per day), isobutane recycle (barrels per day), acid addition rate (thousands of pounds per day), alkylate yield (barrels per day), isobutane makeup (barrels per day), acid strength (weight per cent), motor octane number, external isobutane-to-olefin ratio, acid dilution factor and F-4 performance number. \n",
    "\n",
    "We want to maximize the daily profit of this alkylation process. \n",
    "The profit is defined as the revenue generated from the alkylate yield multiplied with the motor octane number, minus the operational costs, which include olefin feed, isobutane recycle, acid addition rate, and isobutane makeup. \n",
    "\n",
    "Relationships in terms of other variables for alkylate yield, motor octane number, acid dilution factor, and F-4 performance number can be formulated as regression formulas. \n",
    "This regression estimate can deviate in both directions from true value of these variables by 2, 1, 5 and 10 percent, respectively.\n",
    "Alkylate yield is a function of olefin feed and external isobutane-to-olefine yield. Alkalyte yield equals the amount of olefin feed multiplied by the sum of 1.12, 0.13167 times the external isobutane-to-olefin ratio and -0.00667 times the external isobutane-to-olefin ratio squared.\n",
    "The motor octane number is derived from the external isobutane-to-olefin ratio and the acid strength. The motor octane number is calculated as the sum of 86.35, 1.098 time external isobutane-to-olefin ratio, -0.038 times the external isobutane-to-olefin ratio squared and 0.325 times acid strength reduced by 89.\n",
    "The acid dilution factor is calculated based on the F-4 performance number. The acid dillution factor is expressed as 35.82 minus 0.222 times F-4 performance number.\n",
    "Lastly, the F-4 performance number depends on the motor octane number. F-4 performance number is calculated as -133 plus three times the motor octane number.\n",
    "\n",
    "There are some additional constraints imposed by the nature of the chemical process.\n",
    "Each variable has a lower and an upper bound.\n",
    "The external isobutane-to-olefin ratio needs to equal the ratio of isobutane recycle plus isobutane makeup to olefin feed. \n",
    "The acid strength needs to equal the ratio of 93000 times acid addition rate to acid addition rate multiplied by acid dilution factor in addition to 1000 times acid addition rate. \n",
    "Lastly, 1.22 alkylate yield needs to be equal to the combined olefin feed and isobutane makeup.'''"
   ]
  },
  {
   "cell_type": "markdown",
   "id": "472cf9ad",
   "metadata": {},
   "source": [
    "## 2. Ask for parameters"
   ]
  },
  {
   "cell_type": "code",
   "execution_count": 336,
   "id": "e31ec80c",
   "metadata": {},
   "outputs": [],
   "source": [
    "#Initializing the session. To replicate, make sure the right credentials are saved in a PATH variable\n",
    "PROJECT_ID = \"llm4optproblems\"\n",
    "REGION = \"us-central1\"\n",
    "vertexai.init(project=PROJECT_ID, location=REGION)\n",
    "\n",
    "#Specifying the model\n",
    "generative_multimodal_model = GenerativeModel(\"gemini-1.5-pro-preview-0409\")\n",
    "\n",
    "#The propmt applied to all problems\n",
    "prompt = '''Please formulate only the variables for this mathematical optimization problem. \n",
    "'''\n",
    "\n",
    "#Generate the response\n",
    "response = generative_multimodal_model.generate_content([prompt+problem])\n"
   ]
  },
  {
   "cell_type": "code",
   "execution_count": 337,
   "id": "f9adc567",
   "metadata": {
    "scrolled": false
   },
   "outputs": [
    {
     "data": {
      "text/markdown": [
       "## Variables:\n",
       "\n",
       "*  **OF:** Olefin feed (barrels per day)\n",
       "*  **IBR:** Isobutane recycle (barrels per day)\n",
       "*  **AAR:** Acid addition rate (thousands of pounds per day)\n",
       "*  **AY**: Alkylate yield (barrels per day)\n",
       "*  **IBM:** Isobutane makeup (barrels per day)\n",
       "*  **AS**: Acid strength (weight percent)\n",
       "*  **MON**: Motor octane number\n",
       "*  **IOR:** External isobutane-to-olefin ratio\n",
       "*  **ADF**: Acid dilution factor\n",
       "*  **F4**: F-4 performance number \n"
      ],
      "text/plain": [
       "<IPython.core.display.Markdown object>"
      ]
     },
     "execution_count": 337,
     "metadata": {},
     "output_type": "execute_result"
    }
   ],
   "source": [
    "#Show the resopnse in a formatted way\n",
    "Markdown(response.text)"
   ]
  },
  {
   "cell_type": "markdown",
   "id": "15d9e89f",
   "metadata": {},
   "source": [
    "# 2. Ask for objective"
   ]
  },
  {
   "cell_type": "code",
   "execution_count": 338,
   "id": "4f357a19",
   "metadata": {},
   "outputs": [],
   "source": [
    "#Second prompt gets the output of the previous step and generates the code\n",
    "prompt2 = \"Please formulate only the objective function for this mathematical optimization problem.\"\n",
    "prompt2 += problem + response.text\n",
    "response2 = generative_multimodal_model.generate_content([prompt2])"
   ]
  },
  {
   "cell_type": "code",
   "execution_count": 339,
   "id": "bccd1014",
   "metadata": {},
   "outputs": [
    {
     "data": {
      "text/markdown": [
       "## Objective Function:\n",
       "\n",
       "Maximize **Profit**\n",
       "\n",
       "**Profit** = (**AY** * (1 + AY_deviation) * **MON** * (1 + MON_deviation) * Revenue_per_barrel) - (**OF** * Olefin_cost_per_barrel + **IBR** * Isobutane_cost_per_barrel + **AAR** * Acid_cost_per_thousand_pounds + **IBM** * Isobutane_cost_per_barrel)\n",
       "\n",
       "Where:\n",
       "\n",
       "* **Revenue_per_barrel:** Revenue generated per barrel of alkylate\n",
       "* **Olefin_cost_per_barrel:** Cost per barrel of olefin feed\n",
       "* **Isobutane_cost_per_barrel:** Cost per barrel of isobutane \n",
       "* **Acid_cost_per_thousand_pounds:** Cost per thousand pounds of acid\n",
       "* **AY_deviation:** Deviation of the regression estimate for alkylate yield, within the range of -0.02 to +0.02\n",
       "* **MON_deviation:** Deviation of the regression estimate for motor octane number, within the range of -0.01 to +0.01 \n",
       "\n",
       "This objective function aims to find the values of the decision variables that maximize the profit, considering the revenue from alkylate yield influenced by its octane number and the costs associated with the input variables. \n"
      ],
      "text/plain": [
       "<IPython.core.display.Markdown object>"
      ]
     },
     "execution_count": 339,
     "metadata": {},
     "output_type": "execute_result"
    }
   ],
   "source": [
    "Markdown(response2.text)"
   ]
  },
  {
   "cell_type": "markdown",
   "id": "d8ab1404",
   "metadata": {},
   "source": [
    "# 3. Ask for constraints"
   ]
  },
  {
   "cell_type": "code",
   "execution_count": 340,
   "id": "e6409951",
   "metadata": {},
   "outputs": [],
   "source": [
    "#Second prompt gets the output of the previous step and generates the code\n",
    "prompt3 = \"Please formulate only the constraints for this mathematical optimization problem.\"\n",
    "prompt3 += problem + response.text + response2.text\n",
    "response3 = generative_multimodal_model.generate_content([prompt3])"
   ]
  },
  {
   "cell_type": "code",
   "execution_count": 341,
   "id": "2f9439c2",
   "metadata": {},
   "outputs": [
    {
     "data": {
      "text/markdown": [
       "## Constraints:\n",
       "\n",
       "**Regression Model Deviations:**\n",
       "\n",
       "*  0.98 * **AY** <= **OF** * (1.12 + 0.13167 * **IOR** - 0.00667 * **IOR**^2) <= 1.02 * **AY** \n",
       "*  0.99 * **MON** <= 86.35 + 1.098 * **IOR** - 0.038 * **IOR**^2 + 0.325 * (**AS** - 89) <= 1.01 * **MON**\n",
       "*  0.95 * **ADF** <= 35.82 - 0.222 * **F4** <= 1.05 * **ADF**\n",
       "*  0.9 * **F4** <= -133 + 3 * **MON** <= 1.1 * **F4**\n",
       "\n",
       "**Process Constraints:**\n",
       "\n",
       "*  **IOR** = (**IBR** + **IBM**) / **OF**\n",
       "*  **AS** = (93000 * **AAR**) / (**AAR** * **ADF** + 1000 * **AAR**) \n",
       "*  1.22 * **AY** = **OF** + **IBM**\n",
       "\n",
       "**Variable Bounds:**\n",
       "\n",
       "*  **OF_lower** <= **OF** <= **OF_upper**\n",
       "*  **IBR_lower** <= **IBR** <= **IBR_upper**\n",
       "*  **AAR_lower** <= **AAR** <= **AAR_upper**\n",
       "*  **AY_lower** <= **AY** <= **AY_upper**\n",
       "*  **IBM_lower** <= **IBM** <= **IBM_upper**\n",
       "*  **AS_lower** <= **AS** <= **AS_upper**\n",
       "*  **MON_lower** <= **MON** <= **MON_upper**\n",
       "*  **IOR_lower** <= **IOR** <= **IOR_upper**\n",
       "*  **ADF_lower** <= **ADF** <= **ADF_upper**\n",
       "*  **F4_lower** <= **F4** <= **F4_upper**\n",
       "\n",
       "Where \"_lower\" and \"_upper\" represent the lower and upper bounds for each variable, respectively. These bounds are determined by the operational limitations of the alkylation process. \n"
      ],
      "text/plain": [
       "<IPython.core.display.Markdown object>"
      ]
     },
     "execution_count": 341,
     "metadata": {},
     "output_type": "execute_result"
    }
   ],
   "source": [
    "Markdown(response3.text)"
   ]
  },
  {
   "cell_type": "markdown",
   "id": "75796979",
   "metadata": {},
   "source": [
    "## 3. Generate the pyomo code"
   ]
  },
  {
   "cell_type": "code",
   "execution_count": 342,
   "id": "aabea932",
   "metadata": {},
   "outputs": [],
   "source": [
    "#Second prompt gets the output of the previous step and generates the code\n",
    "prompt4 = \"Please write pyomo code for this mathematical problem. Use sample data where needed. Indicate where you use sample data. \\n\"\n",
    "prompt4 += response.text + response2.text + response3.text \n",
    "response4 = generative_multimodal_model.generate_content([prompt4])"
   ]
  },
  {
   "cell_type": "code",
   "execution_count": 343,
   "id": "0dbc9976",
   "metadata": {
    "scrolled": false
   },
   "outputs": [
    {
     "data": {
      "text/markdown": [
       "```python\n",
       "import pyomo.environ as pyo\n",
       "\n",
       "# Sample Data - Replace with actual data if available\n",
       "Revenue_per_barrel = 60  \n",
       "Olefin_cost_per_barrel = 20\n",
       "Isobutane_cost_per_barrel = 15\n",
       "Acid_cost_per_thousand_pounds = 50\n",
       "\n",
       "OF_lower = 1000\n",
       "OF_upper = 5000\n",
       "IBR_lower =  500\n",
       "IBR_upper =  2500\n",
       "AAR_lower = 10\n",
       "AAR_upper = 50\n",
       "AY_lower =  2000\n",
       "AY_upper = 10000\n",
       "IBM_lower = 100\n",
       "IBM_upper = 500\n",
       "AS_lower = 89\n",
       "AS_upper = 98\n",
       "MON_lower = 89\n",
       "MON_upper = 95\n",
       "IOR_lower = 3\n",
       "IOR_upper = 12\n",
       "ADF_lower = 20\n",
       "ADF_upper = 50\n",
       "F4_lower = -150\n",
       "F4_upper = -100\n",
       "\n",
       "# Create a concrete model\n",
       "model = pyo.ConcreteModel()\n",
       "\n",
       "# Define decision variables\n",
       "model.OF = pyo.Var(bounds=(OF_lower, OF_upper))\n",
       "model.IBR = pyo.Var(bounds=(IBR_lower, IBR_upper))\n",
       "model.AAR = pyo.Var(bounds=(AAR_lower, AAR_upper))\n",
       "model.AY = pyo.Var(bounds=(AY_lower, AY_upper))\n",
       "model.IBM = pyo.Var(bounds=(IBM_lower, IBM_upper))\n",
       "model.AS = pyo.Var(bounds=(AS_lower, AS_upper))\n",
       "model.MON = pyo.Var(bounds=(MON_lower, MON_upper))\n",
       "model.IOR = pyo.Var(bounds=(IOR_lower, IOR_upper))\n",
       "model.ADF = pyo.Var(bounds=(ADF_lower, ADF_upper))\n",
       "model.F4 = pyo.Var(bounds=(F4_lower, F4_upper))\n",
       "\n",
       "# Define deviations as variables \n",
       "model.AY_deviation = pyo.Var(bounds=(-0.02, 0.02))\n",
       "model.MON_deviation = pyo.Var(bounds=(-0.01, 0.01))\n",
       "\n",
       "# Define the objective function\n",
       "def profit_rule(model):\n",
       "    return (model.AY * (1 + model.AY_deviation) * model.MON * (1 + model.MON_deviation) * Revenue_per_barrel) - \\\n",
       "           (model.OF * Olefin_cost_per_barrel + model.IBR * Isobutane_cost_per_barrel + model.AAR * Acid_cost_per_thousand_pounds + \\\n",
       "            model.IBM * Isobutane_cost_per_barrel) \n",
       "model.profit = pyo.Objective(rule=profit_rule, sense=pyo.maximize)\n",
       "\n",
       "# Define constraints\n",
       "model.regression_AY = pyo.Constraint(expr= 0.98 * model.AY <= model.OF * (1.12 + 0.13167 * model.IOR - 0.00667 * model.IOR**2) )\n",
       "model.regression_AY2 = pyo.Constraint(expr=model.OF * (1.12 + 0.13167 * model.IOR - 0.00667 * model.IOR**2)  <= 1.02 * model.AY )\n",
       "model.regression_MON = pyo.Constraint(expr= 0.99 * model.MON <= 86.35 + 1.098 * model.IOR - 0.038 * model.IOR**2 + 0.325 * (model.AS - 89) )\n",
       "model.regression_MON2 = pyo.Constraint(expr= 86.35 + 1.098 * model.IOR - 0.038 * model.IOR**2 + 0.325 * (model.AS - 89) <= 1.01 * model.MON)\n",
       "model.regression_ADF = pyo.Constraint(expr= 0.95 * model.ADF <= 35.82 - 0.222 * model.F4 )\n",
       "model.regression_ADF2 = pyo.Constraint(expr= 35.82 - 0.222 * model.F4 <= 1.05 * model.ADF)\n",
       "model.regression_F4 = pyo.Constraint(expr= 0.9 * model.F4  <= -133 + 3 * model.MON )\n",
       "model.regression_F42 = pyo.Constraint(expr=-133 + 3 * model.MON <= 1.1 * model.F4)\n",
       "\n",
       "model.process_IOR = pyo.Constraint(expr= model.IOR == (model.IBR + model.IBM) / model.OF)\n",
       "model.process_AS = pyo.Constraint(expr= model.AS == (93000 * model.AAR) / (model.AAR * model.ADF + 1000 * model.AAR) )\n",
       "model.process_AY = pyo.Constraint(expr= 1.22 * model.AY == model.OF + model.IBM)\n",
       "\n",
       "# Solve the model\n",
       "solver = pyo.SolverFactory('ipopt') # Choose a suitable solver, 'ipopt' is generally a good choice for nonlinear problems\n",
       "results = solver.solve(model)\n",
       "\n",
       "# Display the results\n",
       "print(results)\n",
       "\n",
       "# Print the optimal solution\n",
       "print(\"Optimal Solution:\")\n",
       "print(f\"OF (Olefin feed): {pyo.value(model.OF)} barrels per day\")\n",
       "print(f\"IBR (Isobutane recycle): {pyo.value(model.IBR)} barrels per day\")\n",
       "print(f\"AAR (Acid addition rate): {pyo.value(model.AAR)} thousand pounds per day\")\n",
       "print(f\"AY (Alkylate yield): {pyo.value(model.AY)} barrels per day\")\n",
       "print(f\"IBM (Isobutane makeup): {pyo.value(model.IBM)} barrels per day\")\n",
       "print(f\"AS (Acid strength): {pyo.value(model.AS)} weight percent\")\n",
       "print(f\"MON (Motor octane number): {pyo.value(model.MON)}\")\n",
       "print(f\"IOR (External isobutane-to-olefin ratio): {pyo.value(model.IOR)}\")\n",
       "print(f\"ADF (Acid dilution factor): {pyo.value(model.ADF)}\")\n",
       "print(f\"F4 (F-4 performance number): {pyo.value(model.F4)}\")\n",
       "print(f\"Maximum Profit: ${pyo.value(model.profit):.2f}\")\n",
       "```\n"
      ],
      "text/plain": [
       "<IPython.core.display.Markdown object>"
      ]
     },
     "execution_count": 343,
     "metadata": {},
     "output_type": "execute_result"
    }
   ],
   "source": [
    "## Showing the code in a formatted way\n",
    "Markdown(response4.text)"
   ]
  },
  {
   "cell_type": "markdown",
   "id": "b60756ae",
   "metadata": {},
   "source": [
    "## 4. Input problem data and try running the generated code"
   ]
  },
  {
   "cell_type": "code",
   "execution_count": 344,
   "id": "9cc2e439",
   "metadata": {},
   "outputs": [
    {
     "name": "stdout",
     "output_type": "stream",
     "text": [
      "WARNING: Loading a SolverResults object with a warning status into\n",
      "model.name=\"unknown\";\n",
      "    - termination condition: infeasible\n",
      "    - message from solver: Ipopt 3.11.1\\x3a Converged to a locally infeasible\n",
      "      point. Problem may be infeasible.\n",
      "\n",
      "Problem: \n",
      "- Lower bound: -inf\n",
      "  Upper bound: inf\n",
      "  Number of objectives: 1\n",
      "  Number of constraints: 11\n",
      "  Number of variables: 12\n",
      "  Sense: unknown\n",
      "Solver: \n",
      "- Status: warning\n",
      "  Message: Ipopt 3.11.1\\x3a Converged to a locally infeasible point. Problem may be infeasible.\n",
      "  Termination condition: infeasible\n",
      "  Id: 200\n",
      "  Error rc: 0\n",
      "  Time: 0.10892200469970703\n",
      "Solution: \n",
      "- number of solutions: 0\n",
      "  number of solutions displayed: 0\n",
      "\n",
      "Optimal Solution:\n",
      "OF (Olefin feed): 1402.0811168985301 barrels per day\n",
      "IBR (Isobutane recycle): 2500.0 barrels per day\n",
      "AAR (Acid addition rate): 10.121719837381065 thousand pounds per day\n",
      "AY (Alkylate yield): 2000.0 barrels per day\n",
      "IBM (Isobutane makeup): 500.0 barrels per day\n",
      "AS (Acid strength): 89.0 weight percent\n",
      "MON (Motor octane number): 89.0\n",
      "IOR (External isobutane-to-olefin ratio): 3.0\n",
      "ADF (Acid dilution factor): 50.0\n",
      "F4 (F-4 performance number): -100.0\n",
      "Maximum Profit: $10756176.93\n"
     ]
    }
   ],
   "source": [
    "import pyomo.environ as pyo\n",
    "\n",
    "# Sample Data - Replace with actual data if available\n",
    "Revenue_per_barrel = 60  \n",
    "Olefin_cost_per_barrel = 20\n",
    "Isobutane_cost_per_barrel = 15\n",
    "Acid_cost_per_thousand_pounds = 50\n",
    "\n",
    "OF_lower = 1000\n",
    "OF_upper = 5000\n",
    "IBR_lower =  500\n",
    "IBR_upper =  2500\n",
    "AAR_lower = 10\n",
    "AAR_upper = 50\n",
    "AY_lower =  2000\n",
    "AY_upper = 10000\n",
    "IBM_lower = 100\n",
    "IBM_upper = 500\n",
    "AS_lower = 89\n",
    "AS_upper = 98\n",
    "MON_lower = 89\n",
    "MON_upper = 95\n",
    "IOR_lower = 3\n",
    "IOR_upper = 12\n",
    "ADF_lower = 20\n",
    "ADF_upper = 50\n",
    "F4_lower = -150\n",
    "F4_upper = -100\n",
    "\n",
    "# Create a concrete model\n",
    "model = pyo.ConcreteModel()\n",
    "\n",
    "# Define decision variables\n",
    "model.OF = pyo.Var(bounds=(OF_lower, OF_upper))\n",
    "model.IBR = pyo.Var(bounds=(IBR_lower, IBR_upper))\n",
    "model.AAR = pyo.Var(bounds=(AAR_lower, AAR_upper))\n",
    "model.AY = pyo.Var(bounds=(AY_lower, AY_upper))\n",
    "model.IBM = pyo.Var(bounds=(IBM_lower, IBM_upper))\n",
    "model.AS = pyo.Var(bounds=(AS_lower, AS_upper))\n",
    "model.MON = pyo.Var(bounds=(MON_lower, MON_upper))\n",
    "model.IOR = pyo.Var(bounds=(IOR_lower, IOR_upper))\n",
    "model.ADF = pyo.Var(bounds=(ADF_lower, ADF_upper))\n",
    "model.F4 = pyo.Var(bounds=(F4_lower, F4_upper))\n",
    "\n",
    "# Define deviations as variables \n",
    "model.AY_deviation = pyo.Var(bounds=(-0.02, 0.02))\n",
    "model.MON_deviation = pyo.Var(bounds=(-0.01, 0.01))\n",
    "\n",
    "# Define the objective function\n",
    "def profit_rule(model):\n",
    "    return (model.AY * (1 + model.AY_deviation) * model.MON * (1 + model.MON_deviation) * Revenue_per_barrel) - \\\n",
    "           (model.OF * Olefin_cost_per_barrel + model.IBR * Isobutane_cost_per_barrel + model.AAR * Acid_cost_per_thousand_pounds + \\\n",
    "            model.IBM * Isobutane_cost_per_barrel) \n",
    "model.profit = pyo.Objective(rule=profit_rule, sense=pyo.maximize)\n",
    "\n",
    "# Define constraints\n",
    "model.regression_AY = pyo.Constraint(expr= 0.98 * model.AY <= model.OF * (1.12 + 0.13167 * model.IOR - 0.00667 * model.IOR**2) )\n",
    "model.regression_AY2 = pyo.Constraint(expr=model.OF * (1.12 + 0.13167 * model.IOR - 0.00667 * model.IOR**2)  <= 1.02 * model.AY )\n",
    "model.regression_MON = pyo.Constraint(expr= 0.99 * model.MON <= 86.35 + 1.098 * model.IOR - 0.038 * model.IOR**2 + 0.325 * (model.AS - 89) )\n",
    "model.regression_MON2 = pyo.Constraint(expr= 86.35 + 1.098 * model.IOR - 0.038 * model.IOR**2 + 0.325 * (model.AS - 89) <= 1.01 * model.MON)\n",
    "model.regression_ADF = pyo.Constraint(expr= 0.95 * model.ADF <= 35.82 - 0.222 * model.F4 )\n",
    "model.regression_ADF2 = pyo.Constraint(expr= 35.82 - 0.222 * model.F4 <= 1.05 * model.ADF)\n",
    "model.regression_F4 = pyo.Constraint(expr= 0.9 * model.F4  <= -133 + 3 * model.MON )\n",
    "model.regression_F42 = pyo.Constraint(expr=-133 + 3 * model.MON <= 1.1 * model.F4)\n",
    "\n",
    "model.process_IOR = pyo.Constraint(expr= model.IOR == (model.IBR + model.IBM) / model.OF)\n",
    "model.process_AS = pyo.Constraint(expr= model.AS == (93000 * model.AAR) / (model.AAR * model.ADF + 1000 * model.AAR) )\n",
    "model.process_AY = pyo.Constraint(expr= 1.22 * model.AY == model.OF + model.IBM)\n",
    "\n",
    "# Solve the model\n",
    "solver = pyo.SolverFactory('ipopt') # Choose a suitable solver, 'ipopt' is generally a good choice for nonlinear problems\n",
    "results = solver.solve(model)\n",
    "\n",
    "# Display the results\n",
    "print(results)\n",
    "\n",
    "# Print the optimal solution\n",
    "print(\"Optimal Solution:\")\n",
    "print(f\"OF (Olefin feed): {pyo.value(model.OF)} barrels per day\")\n",
    "print(f\"IBR (Isobutane recycle): {pyo.value(model.IBR)} barrels per day\")\n",
    "print(f\"AAR (Acid addition rate): {pyo.value(model.AAR)} thousand pounds per day\")\n",
    "print(f\"AY (Alkylate yield): {pyo.value(model.AY)} barrels per day\")\n",
    "print(f\"IBM (Isobutane makeup): {pyo.value(model.IBM)} barrels per day\")\n",
    "print(f\"AS (Acid strength): {pyo.value(model.AS)} weight percent\")\n",
    "print(f\"MON (Motor octane number): {pyo.value(model.MON)}\")\n",
    "print(f\"IOR (External isobutane-to-olefin ratio): {pyo.value(model.IOR)}\")\n",
    "print(f\"ADF (Acid dilution factor): {pyo.value(model.ADF)}\")\n",
    "print(f\"F4 (F-4 performance number): {pyo.value(model.F4)}\")\n",
    "print(f\"Maximum Profit: ${pyo.value(model.profit):.2f}\")"
   ]
  },
  {
   "cell_type": "code",
   "execution_count": 150,
   "id": "813fe91e",
   "metadata": {
    "scrolled": false
   },
   "outputs": [],
   "source": []
  },
  {
   "cell_type": "markdown",
   "id": "1be0926e",
   "metadata": {},
   "source": [
    "## 5. Correct the code to verify model viability (optional)"
   ]
  },
  {
   "cell_type": "code",
   "execution_count": null,
   "id": "c50f4a02",
   "metadata": {},
   "outputs": [],
   "source": []
  },
  {
   "cell_type": "code",
   "execution_count": null,
   "id": "31265bab",
   "metadata": {},
   "outputs": [],
   "source": []
  },
  {
   "cell_type": "markdown",
   "id": "dbd7b8a8",
   "metadata": {},
   "source": [
    "## 6. Print the responses"
   ]
  },
  {
   "cell_type": "code",
   "execution_count": 345,
   "id": "c76b7575",
   "metadata": {},
   "outputs": [
    {
     "name": "stdout",
     "output_type": "stream",
     "text": [
      "## Variables:\n",
      "\n",
      "*  **OF:** Olefin feed (barrels per day)\n",
      "*  **IBR:** Isobutane recycle (barrels per day)\n",
      "*  **AAR:** Acid addition rate (thousands of pounds per day)\n",
      "*  **AY**: Alkylate yield (barrels per day)\n",
      "*  **IBM:** Isobutane makeup (barrels per day)\n",
      "*  **AS**: Acid strength (weight percent)\n",
      "*  **MON**: Motor octane number\n",
      "*  **IOR:** External isobutane-to-olefin ratio\n",
      "*  **ADF**: Acid dilution factor\n",
      "*  **F4**: F-4 performance number \n",
      "\n"
     ]
    }
   ],
   "source": [
    "print(response.text)"
   ]
  },
  {
   "cell_type": "code",
   "execution_count": 346,
   "id": "1bb49c6c",
   "metadata": {},
   "outputs": [
    {
     "name": "stdout",
     "output_type": "stream",
     "text": [
      "## Objective Function:\n",
      "\n",
      "Maximize **Profit**\n",
      "\n",
      "**Profit** = (**AY** * (1 + AY_deviation) * **MON** * (1 + MON_deviation) * Revenue_per_barrel) - (**OF** * Olefin_cost_per_barrel + **IBR** * Isobutane_cost_per_barrel + **AAR** * Acid_cost_per_thousand_pounds + **IBM** * Isobutane_cost_per_barrel)\n",
      "\n",
      "Where:\n",
      "\n",
      "* **Revenue_per_barrel:** Revenue generated per barrel of alkylate\n",
      "* **Olefin_cost_per_barrel:** Cost per barrel of olefin feed\n",
      "* **Isobutane_cost_per_barrel:** Cost per barrel of isobutane \n",
      "* **Acid_cost_per_thousand_pounds:** Cost per thousand pounds of acid\n",
      "* **AY_deviation:** Deviation of the regression estimate for alkylate yield, within the range of -0.02 to +0.02\n",
      "* **MON_deviation:** Deviation of the regression estimate for motor octane number, within the range of -0.01 to +0.01 \n",
      "\n",
      "This objective function aims to find the values of the decision variables that maximize the profit, considering the revenue from alkylate yield influenced by its octane number and the costs associated with the input variables. \n",
      "\n"
     ]
    }
   ],
   "source": [
    "print(response2.text)"
   ]
  },
  {
   "cell_type": "code",
   "execution_count": 347,
   "id": "b95499e6",
   "metadata": {},
   "outputs": [
    {
     "name": "stdout",
     "output_type": "stream",
     "text": [
      "## Constraints:\n",
      "\n",
      "**Regression Model Deviations:**\n",
      "\n",
      "*  0.98 * **AY** <= **OF** * (1.12 + 0.13167 * **IOR** - 0.00667 * **IOR**^2) <= 1.02 * **AY** \n",
      "*  0.99 * **MON** <= 86.35 + 1.098 * **IOR** - 0.038 * **IOR**^2 + 0.325 * (**AS** - 89) <= 1.01 * **MON**\n",
      "*  0.95 * **ADF** <= 35.82 - 0.222 * **F4** <= 1.05 * **ADF**\n",
      "*  0.9 * **F4** <= -133 + 3 * **MON** <= 1.1 * **F4**\n",
      "\n",
      "**Process Constraints:**\n",
      "\n",
      "*  **IOR** = (**IBR** + **IBM**) / **OF**\n",
      "*  **AS** = (93000 * **AAR**) / (**AAR** * **ADF** + 1000 * **AAR**) \n",
      "*  1.22 * **AY** = **OF** + **IBM**\n",
      "\n",
      "**Variable Bounds:**\n",
      "\n",
      "*  **OF_lower** <= **OF** <= **OF_upper**\n",
      "*  **IBR_lower** <= **IBR** <= **IBR_upper**\n",
      "*  **AAR_lower** <= **AAR** <= **AAR_upper**\n",
      "*  **AY_lower** <= **AY** <= **AY_upper**\n",
      "*  **IBM_lower** <= **IBM** <= **IBM_upper**\n",
      "*  **AS_lower** <= **AS** <= **AS_upper**\n",
      "*  **MON_lower** <= **MON** <= **MON_upper**\n",
      "*  **IOR_lower** <= **IOR** <= **IOR_upper**\n",
      "*  **ADF_lower** <= **ADF** <= **ADF_upper**\n",
      "*  **F4_lower** <= **F4** <= **F4_upper**\n",
      "\n",
      "Where \"_lower\" and \"_upper\" represent the lower and upper bounds for each variable, respectively. These bounds are determined by the operational limitations of the alkylation process. \n",
      "\n"
     ]
    }
   ],
   "source": [
    "print(response3.text)"
   ]
  },
  {
   "cell_type": "code",
   "execution_count": 348,
   "id": "184942d4",
   "metadata": {},
   "outputs": [
    {
     "name": "stdout",
     "output_type": "stream",
     "text": [
      "```python\n",
      "import pyomo.environ as pyo\n",
      "\n",
      "# Sample Data - Replace with actual data if available\n",
      "Revenue_per_barrel = 60  \n",
      "Olefin_cost_per_barrel = 20\n",
      "Isobutane_cost_per_barrel = 15\n",
      "Acid_cost_per_thousand_pounds = 50\n",
      "\n",
      "OF_lower = 1000\n",
      "OF_upper = 5000\n",
      "IBR_lower =  500\n",
      "IBR_upper =  2500\n",
      "AAR_lower = 10\n",
      "AAR_upper = 50\n",
      "AY_lower =  2000\n",
      "AY_upper = 10000\n",
      "IBM_lower = 100\n",
      "IBM_upper = 500\n",
      "AS_lower = 89\n",
      "AS_upper = 98\n",
      "MON_lower = 89\n",
      "MON_upper = 95\n",
      "IOR_lower = 3\n",
      "IOR_upper = 12\n",
      "ADF_lower = 20\n",
      "ADF_upper = 50\n",
      "F4_lower = -150\n",
      "F4_upper = -100\n",
      "\n",
      "# Create a concrete model\n",
      "model = pyo.ConcreteModel()\n",
      "\n",
      "# Define decision variables\n",
      "model.OF = pyo.Var(bounds=(OF_lower, OF_upper))\n",
      "model.IBR = pyo.Var(bounds=(IBR_lower, IBR_upper))\n",
      "model.AAR = pyo.Var(bounds=(AAR_lower, AAR_upper))\n",
      "model.AY = pyo.Var(bounds=(AY_lower, AY_upper))\n",
      "model.IBM = pyo.Var(bounds=(IBM_lower, IBM_upper))\n",
      "model.AS = pyo.Var(bounds=(AS_lower, AS_upper))\n",
      "model.MON = pyo.Var(bounds=(MON_lower, MON_upper))\n",
      "model.IOR = pyo.Var(bounds=(IOR_lower, IOR_upper))\n",
      "model.ADF = pyo.Var(bounds=(ADF_lower, ADF_upper))\n",
      "model.F4 = pyo.Var(bounds=(F4_lower, F4_upper))\n",
      "\n",
      "# Define deviations as variables \n",
      "model.AY_deviation = pyo.Var(bounds=(-0.02, 0.02))\n",
      "model.MON_deviation = pyo.Var(bounds=(-0.01, 0.01))\n",
      "\n",
      "# Define the objective function\n",
      "def profit_rule(model):\n",
      "    return (model.AY * (1 + model.AY_deviation) * model.MON * (1 + model.MON_deviation) * Revenue_per_barrel) - \\\n",
      "           (model.OF * Olefin_cost_per_barrel + model.IBR * Isobutane_cost_per_barrel + model.AAR * Acid_cost_per_thousand_pounds + \\\n",
      "            model.IBM * Isobutane_cost_per_barrel) \n",
      "model.profit = pyo.Objective(rule=profit_rule, sense=pyo.maximize)\n",
      "\n",
      "# Define constraints\n",
      "model.regression_AY = pyo.Constraint(expr= 0.98 * model.AY <= model.OF * (1.12 + 0.13167 * model.IOR - 0.00667 * model.IOR**2) )\n",
      "model.regression_AY2 = pyo.Constraint(expr=model.OF * (1.12 + 0.13167 * model.IOR - 0.00667 * model.IOR**2)  <= 1.02 * model.AY )\n",
      "model.regression_MON = pyo.Constraint(expr= 0.99 * model.MON <= 86.35 + 1.098 * model.IOR - 0.038 * model.IOR**2 + 0.325 * (model.AS - 89) )\n",
      "model.regression_MON2 = pyo.Constraint(expr= 86.35 + 1.098 * model.IOR - 0.038 * model.IOR**2 + 0.325 * (model.AS - 89) <= 1.01 * model.MON)\n",
      "model.regression_ADF = pyo.Constraint(expr= 0.95 * model.ADF <= 35.82 - 0.222 * model.F4 )\n",
      "model.regression_ADF2 = pyo.Constraint(expr= 35.82 - 0.222 * model.F4 <= 1.05 * model.ADF)\n",
      "model.regression_F4 = pyo.Constraint(expr= 0.9 * model.F4  <= -133 + 3 * model.MON )\n",
      "model.regression_F42 = pyo.Constraint(expr=-133 + 3 * model.MON <= 1.1 * model.F4)\n",
      "\n",
      "model.process_IOR = pyo.Constraint(expr= model.IOR == (model.IBR + model.IBM) / model.OF)\n",
      "model.process_AS = pyo.Constraint(expr= model.AS == (93000 * model.AAR) / (model.AAR * model.ADF + 1000 * model.AAR) )\n",
      "model.process_AY = pyo.Constraint(expr= 1.22 * model.AY == model.OF + model.IBM)\n",
      "\n",
      "# Solve the model\n",
      "solver = pyo.SolverFactory('ipopt') # Choose a suitable solver, 'ipopt' is generally a good choice for nonlinear problems\n",
      "results = solver.solve(model)\n",
      "\n",
      "# Display the results\n",
      "print(results)\n",
      "\n",
      "# Print the optimal solution\n",
      "print(\"Optimal Solution:\")\n",
      "print(f\"OF (Olefin feed): {pyo.value(model.OF)} barrels per day\")\n",
      "print(f\"IBR (Isobutane recycle): {pyo.value(model.IBR)} barrels per day\")\n",
      "print(f\"AAR (Acid addition rate): {pyo.value(model.AAR)} thousand pounds per day\")\n",
      "print(f\"AY (Alkylate yield): {pyo.value(model.AY)} barrels per day\")\n",
      "print(f\"IBM (Isobutane makeup): {pyo.value(model.IBM)} barrels per day\")\n",
      "print(f\"AS (Acid strength): {pyo.value(model.AS)} weight percent\")\n",
      "print(f\"MON (Motor octane number): {pyo.value(model.MON)}\")\n",
      "print(f\"IOR (External isobutane-to-olefin ratio): {pyo.value(model.IOR)}\")\n",
      "print(f\"ADF (Acid dilution factor): {pyo.value(model.ADF)}\")\n",
      "print(f\"F4 (F-4 performance number): {pyo.value(model.F4)}\")\n",
      "print(f\"Maximum Profit: ${pyo.value(model.profit):.2f}\")\n",
      "```\n",
      "\n"
     ]
    }
   ],
   "source": [
    "print(response4.text)"
   ]
  },
  {
   "cell_type": "code",
   "execution_count": null,
   "id": "bd046f37",
   "metadata": {},
   "outputs": [],
   "source": []
  }
 ],
 "metadata": {
  "kernelspec": {
   "display_name": "Python 3 (ipykernel)",
   "language": "python",
   "name": "python3"
  },
  "language_info": {
   "codemirror_mode": {
    "name": "ipython",
    "version": 3
   },
   "file_extension": ".py",
   "mimetype": "text/x-python",
   "name": "python",
   "nbconvert_exporter": "python",
   "pygments_lexer": "ipython3",
   "version": "3.11.4"
  }
 },
 "nbformat": 4,
 "nbformat_minor": 5
}
