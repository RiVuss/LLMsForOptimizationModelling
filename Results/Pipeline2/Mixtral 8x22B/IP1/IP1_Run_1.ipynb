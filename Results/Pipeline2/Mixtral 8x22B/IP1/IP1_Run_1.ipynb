{
 "cells": [
  {
   "cell_type": "code",
   "execution_count": 1,
   "id": "e5c2c174",
   "metadata": {},
   "outputs": [],
   "source": [
    "import os\n",
    "from mistralai.client import MistralClient\n",
    "from mistralai.models.chat_completion import ChatMessage\n",
    "from IPython.display import display, Markdown, Latex\n",
    "from datetime import datetime"
   ]
  },
  {
   "cell_type": "code",
   "execution_count": 2,
   "id": "b0c91a62",
   "metadata": {},
   "outputs": [
    {
     "name": "stdout",
     "output_type": "stream",
     "text": [
      "Time of execution: 2024-06-07 14:02:13.453441\n"
     ]
    }
   ],
   "source": [
    "API_KEY = os.environ['MISTRAL_API_KEY']\n",
    "\n",
    "MODEL_ID = 'open-mixtral-8x22b'\n",
    "MODEL_SEED = 1\n",
    "MODEL_TEMPERATURE = 0.7\n",
    "\n",
    "file_system_prompt_1 = open(\"../system_prompt_1.txt\", \"r\")\n",
    "file_system_prompt_2 = open(\"../system_prompt_2.txt\", \"r\")\n",
    "user_prompt_1 = open(\"../user_prompt_1.txt\", \"r\")\n",
    "user_prompt_2 = open(\"../user_prompt_2.txt\", \"r\")\n",
    "user_prompt_3 = open(\"../user_prompt_3.txt\", \"r\")\n",
    "SYSTEM_PROMPT_1 = file_system_prompt_1.read()\n",
    "SYSTEM_PROMPT_2 = file_system_prompt_2.read()\n",
    "USER_PROMPT_1 = user_prompt_1.read()\n",
    "USER_PROMPT_2 = user_prompt_2.read()\n",
    "USER_PROMPT_3 = user_prompt_3.read()\n",
    "file_system_prompt_1.close()\n",
    "file_system_prompt_2.close()\n",
    "user_prompt_1.close()\n",
    "user_prompt_2.close()\n",
    "user_prompt_3.close()\n",
    "\n",
    "FILE_PATH_PROBLEM = '../../../../Datasets/IP_1_Radiotherapy-Treatment/'\n",
    "assert(FILE_PATH_PROBLEM != '../../../../Datasets/')\n",
    "file_problem_description = open(FILE_PATH_PROBLEM + 'ProblemDescription.txt', 'r')\n",
    "PROBLEM_DESCRIPTION = file_problem_description.read()\n",
    "file_problem_description.close()\n",
    "\n",
    "\n",
    "\n",
    "client = MistralClient(api_key=API_KEY)\n",
    "\n",
    "print(f'Time of execution: {datetime.now()}')"
   ]
  },
  {
   "cell_type": "markdown",
   "id": "3e540824",
   "metadata": {},
   "source": [
    "## Step 1 - Generate Mathematical Formulation "
   ]
  },
  {
   "cell_type": "code",
   "execution_count": 3,
   "id": "174c127b",
   "metadata": {},
   "outputs": [],
   "source": [
    "messages_1 = [\n",
    "    ChatMessage(role=\"system\", content=SYSTEM_PROMPT_1),\n",
    "    ChatMessage(role=\"user\", content=PROBLEM_DESCRIPTION),\n",
    "    ChatMessage(role=\"user\", content=USER_PROMPT_1)\n",
    "]\n",
    "\n",
    "response_1 = client.chat(\n",
    "    model=MODEL_ID,\n",
    "    messages=messages_1,\n",
    "    random_seed=MODEL_SEED,\n",
    "    temperature=MODEL_TEMPERATURE \n",
    ")\n",
    "\n",
    "response_1_text = response_1.choices[0].message.content"
   ]
  },
  {
   "cell_type": "code",
   "execution_count": 4,
   "id": "03616e62",
   "metadata": {},
   "outputs": [
    {
     "data": {
      "text/markdown": [
       "1. Define parameters and variables:\n",
       "\n",
       "Let's denote:\n",
       "- \\(i\\) as the index for patients, where \\(i = 1, \\dots, n\\) and \\(n = 17\\).\n",
       "- \\(j\\) as the index for the number of proton fractions, where \\(j = 0, \\dots, 15\\).\n",
       "- \\(BED_{i,j}\\) as the BED score for patient \\(i\\) receiving \\(j\\) proton fractions (and \\(15 - j\\) photon fractions).\n",
       "- \\(C\\) as the total maximal capacity of proton fractions, where \\(C = 100\\).\n",
       "\n",
       "We introduce the binary decision variable \\(x_{i,j}\\) which takes the value 1 if patient \\(i\\) receives \\(j\\) proton fractions (and \\(15 - j\\) photon fractions), and 0 otherwise.\n",
       "\n",
       "Now, we can proceed to the next step."
      ],
      "text/plain": [
       "<IPython.core.display.Markdown object>"
      ]
     },
     "execution_count": 4,
     "metadata": {},
     "output_type": "execute_result"
    }
   ],
   "source": [
    "Markdown(response_1_text)"
   ]
  },
  {
   "cell_type": "code",
   "execution_count": 5,
   "id": "b6a33171",
   "metadata": {},
   "outputs": [
    {
     "name": "stdout",
     "output_type": "stream",
     "text": [
      "1. Define parameters and variables:\n",
      "\n",
      "Let's denote:\n",
      "- \\(i\\) as the index for patients, where \\(i = 1, \\dots, n\\) and \\(n = 17\\).\n",
      "- \\(j\\) as the index for the number of proton fractions, where \\(j = 0, \\dots, 15\\).\n",
      "- \\(BED_{i,j}\\) as the BED score for patient \\(i\\) receiving \\(j\\) proton fractions (and \\(15 - j\\) photon fractions).\n",
      "- \\(C\\) as the total maximal capacity of proton fractions, where \\(C = 100\\).\n",
      "\n",
      "We introduce the binary decision variable \\(x_{i,j}\\) which takes the value 1 if patient \\(i\\) receives \\(j\\) proton fractions (and \\(15 - j\\) photon fractions), and 0 otherwise.\n",
      "\n",
      "Now, we can proceed to the next step.\n"
     ]
    }
   ],
   "source": [
    "print(response_1_text)"
   ]
  },
  {
   "cell_type": "code",
   "execution_count": 6,
   "id": "9af61485",
   "metadata": {},
   "outputs": [],
   "source": [
    "messages_2 = [\n",
    "    ChatMessage(role=\"system\", content=SYSTEM_PROMPT_1),\n",
    "    ChatMessage(role=\"user\", content=PROBLEM_DESCRIPTION),\n",
    "    ChatMessage(role=\"user\", content=USER_PROMPT_1),\n",
    "    ChatMessage(role=\"assistant\", content=response_1_text),\n",
    "    ChatMessage(role=\"user\", content=USER_PROMPT_2),\n",
    "]\n",
    "\n",
    "response_2 = client.chat(\n",
    "    model=MODEL_ID,\n",
    "    messages=messages_2,\n",
    "    random_seed=MODEL_SEED,\n",
    "    temperature=MODEL_TEMPERATURE \n",
    ")\n",
    "\n",
    "response_2_text = response_2.choices[0].message.content"
   ]
  },
  {
   "cell_type": "code",
   "execution_count": 7,
   "id": "ac0f2659",
   "metadata": {},
   "outputs": [
    {
     "data": {
      "text/markdown": [
       "2. Define the objective function:\n",
       "\n",
       "The objective is to maximize the total BED scores for all the patients. We can represent this objective as follows:\n",
       "\n",
       "\\[\n",
       "\\max \\sum_{i=1}^{n} \\sum_{j=0}^{15} BED_{i,j} x_{i,j}\n",
       "\\]\n",
       "\n",
       "We'll move on to the third step in the next response."
      ],
      "text/plain": [
       "<IPython.core.display.Markdown object>"
      ]
     },
     "execution_count": 7,
     "metadata": {},
     "output_type": "execute_result"
    }
   ],
   "source": [
    "Markdown(response_2_text)"
   ]
  },
  {
   "cell_type": "code",
   "execution_count": 8,
   "id": "d7d2d8bc",
   "metadata": {},
   "outputs": [],
   "source": [
    "messages_3 = [\n",
    "    ChatMessage(role=\"system\", content=SYSTEM_PROMPT_1),\n",
    "    ChatMessage(role=\"user\", content=PROBLEM_DESCRIPTION),\n",
    "    ChatMessage(role=\"user\", content=USER_PROMPT_1),\n",
    "    ChatMessage(role=\"assistant\", content=response_1_text),\n",
    "    ChatMessage(role=\"user\", content=USER_PROMPT_2),\n",
    "    ChatMessage(role=\"assistant\", content=response_2_text),\n",
    "    ChatMessage(role=\"user\", content=USER_PROMPT_3),\n",
    "]\n",
    "\n",
    "response_3 = client.chat(\n",
    "    model=MODEL_ID,\n",
    "    messages=messages_3,\n",
    "    random_seed=MODEL_SEED,\n",
    "    temperature=MODEL_TEMPERATURE \n",
    ")\n",
    "\n",
    "response_3_text = response_3.choices[0].message.content"
   ]
  },
  {
   "cell_type": "code",
   "execution_count": 9,
   "id": "c4588e6c",
   "metadata": {},
   "outputs": [
    {
     "data": {
      "text/markdown": [
       "3. Define the constraints:\n",
       "\n",
       "We have two constraints for this problem:\n",
       "\n",
       "a) Each patient \\(i\\) should receive exactly 15 fractions. This can be represented as:\n",
       "\n",
       "\\[\n",
       "\\sum_{j=0}^{15} x_{i,j} = 1, \\quad \\forall i = 1, \\dots, n\n",
       "\\]\n",
       "\n",
       "b) The total number of proton fractions used should not exceed the maximal capacity \\(C\\). This can be represented as:\n",
       "\n",
       "\\[\n",
       "\\sum_{i=1}^{n} \\sum_{j=0}^{15} j x_{i,j} \\leq C\n",
       "\\]\n",
       "\n",
       "Now that we have defined the parameters, variables, objective function, and constraints, we can combine them to formulate the integer linear optimization model for this problem:\n",
       "\n",
       "\\[\n",
       "\\begin{align*}\n",
       "&\\max && \\sum_{i=1}^{n} \\sum_{j=0}^{15} BED_{i,j} x_{i,j} \\\\\n",
       "&\\text{s.t.} && \\sum_{j=0}^{15} x_{i,j} = 1, && \\forall i = 1, \\dots, n \\\\\n",
       "&&& \\sum_{i=1}^{n} \\sum_{j=0}^{15} j x_{i,j} \\leq C \\\\\n",
       "&&& x_{i,j} \\in \\{0,1\\}, && \\forall i = 1, \\dots, n, \\forall j = 0, \\dots, 15\n",
       "\\end{align*}\n",
       "\\]\n",
       "\n",
       "This model will help us determine the optimal treatment plan for each patient, maximizing the total BED scores, while staying within the proton therapy capacity limits."
      ],
      "text/plain": [
       "<IPython.core.display.Markdown object>"
      ]
     },
     "execution_count": 9,
     "metadata": {},
     "output_type": "execute_result"
    }
   ],
   "source": [
    "Markdown(response_3_text)"
   ]
  },
  {
   "cell_type": "code",
   "execution_count": 10,
   "id": "e73cd25c",
   "metadata": {},
   "outputs": [
    {
     "data": {
      "text/markdown": [
       "1. Define parameters and variables:\n",
       "\n",
       "Let's denote:\n",
       "- \\(i\\) as the index for patients, where \\(i = 1, \\dots, n\\) and \\(n = 17\\).\n",
       "- \\(j\\) as the index for the number of proton fractions, where \\(j = 0, \\dots, 15\\).\n",
       "- \\(BED_{i,j}\\) as the BED score for patient \\(i\\) receiving \\(j\\) proton fractions (and \\(15 - j\\) photon fractions).\n",
       "- \\(C\\) as the total maximal capacity of proton fractions, where \\(C = 100\\).\n",
       "\n",
       "We introduce the binary decision variable \\(x_{i,j}\\) which takes the value 1 if patient \\(i\\) receives \\(j\\) proton fractions (and \\(15 - j\\) photon fractions), and 0 otherwise.\n",
       "\n",
       "Now, we can proceed to the next step.\n",
       "2. Define the objective function:\n",
       "\n",
       "The objective is to maximize the total BED scores for all the patients. We can represent this objective as follows:\n",
       "\n",
       "\\[\n",
       "\\max \\sum_{i=1}^{n} \\sum_{j=0}^{15} BED_{i,j} x_{i,j}\n",
       "\\]\n",
       "\n",
       "We'll move on to the third step in the next response.\n",
       "3. Define the constraints:\n",
       "\n",
       "We have two constraints for this problem:\n",
       "\n",
       "a) Each patient \\(i\\) should receive exactly 15 fractions. This can be represented as:\n",
       "\n",
       "\\[\n",
       "\\sum_{j=0}^{15} x_{i,j} = 1, \\quad \\forall i = 1, \\dots, n\n",
       "\\]\n",
       "\n",
       "b) The total number of proton fractions used should not exceed the maximal capacity \\(C\\). This can be represented as:\n",
       "\n",
       "\\[\n",
       "\\sum_{i=1}^{n} \\sum_{j=0}^{15} j x_{i,j} \\leq C\n",
       "\\]\n",
       "\n",
       "Now that we have defined the parameters, variables, objective function, and constraints, we can combine them to formulate the integer linear optimization model for this problem:\n",
       "\n",
       "\\[\n",
       "\\begin{align*}\n",
       "&\\max && \\sum_{i=1}^{n} \\sum_{j=0}^{15} BED_{i,j} x_{i,j} \\\\\n",
       "&\\text{s.t.} && \\sum_{j=0}^{15} x_{i,j} = 1, && \\forall i = 1, \\dots, n \\\\\n",
       "&&& \\sum_{i=1}^{n} \\sum_{j=0}^{15} j x_{i,j} \\leq C \\\\\n",
       "&&& x_{i,j} \\in \\{0,1\\}, && \\forall i = 1, \\dots, n, \\forall j = 0, \\dots, 15\n",
       "\\end{align*}\n",
       "\\]\n",
       "\n",
       "This model will help us determine the optimal treatment plan for each patient, maximizing the total BED scores, while staying within the proton therapy capacity limits."
      ],
      "text/plain": [
       "<IPython.core.display.Markdown object>"
      ]
     },
     "execution_count": 10,
     "metadata": {},
     "output_type": "execute_result"
    }
   ],
   "source": [
    "response_text = '\\n'.join([response_1_text, response_2_text, response_3_text])\n",
    "\n",
    "Markdown(response_text)"
   ]
  },
  {
   "cell_type": "markdown",
   "id": "27b5f89a",
   "metadata": {},
   "source": [
    "## Step 2 - Generate the Pyomo Code"
   ]
  },
  {
   "cell_type": "code",
   "execution_count": 11,
   "id": "a4c3312f",
   "metadata": {},
   "outputs": [],
   "source": [
    "messages_4 = [\n",
    "    ChatMessage(role=\"system\", content=SYSTEM_PROMPT_2),\n",
    "    ChatMessage(role=\"user\", content=response_text)\n",
    "]"
   ]
  },
  {
   "cell_type": "code",
   "execution_count": 12,
   "id": "4212d99d",
   "metadata": {},
   "outputs": [],
   "source": [
    "response_4 = client.chat(\n",
    "    model=MODEL_ID,\n",
    "    messages=messages_4,\n",
    "    random_seed=MODEL_SEED,\n",
    "    temperature=MODEL_TEMPERATURE\n",
    ")\n",
    "\n",
    "response_4_text = response_4.choices[0].message.content"
   ]
  },
  {
   "cell_type": "code",
   "execution_count": 13,
   "id": "c168a60b",
   "metadata": {},
   "outputs": [
    {
     "data": {
      "text/markdown": [
       "2. Formulate the optimization problem:\n",
       "\n",
       "The optimization problem aims to maximize the total BED score, subject to the constraint that the total number of proton fractions does not exceed the maximal capacity. The problem can be formulated as follows:\n",
       "\n",
       "\\[\n",
       "\\begin{align*}\n",
       "\\text{maximize} & \\quad \\sum_{i=1}^{n} \\sum_{j=0}^{15} BED_{i,j} \\cdot x_{i,j} \\\\\n",
       "\\text{subject to} & \\quad \\sum_{i=1}^{n} \\sum_{j=0}^{15} j \\cdot x_{i,j} \\leq C \\\\\n",
       "& \\quad \\sum_{j=0}^{15} x_{i,j} = 1 \\quad \\forall i \\\\\n",
       "& \\quad x_{i,j} \\in \\{0, 1\\} \\quad \\forall i, \\forall j\n",
       "\\end{align*}\n",
       "\\]\n",
       "\n",
       "3. Implement the optimization problem using Pyomo:\n",
       "\n",
       "```python\n",
       "import pyomo.environ as pyo\n",
       "\n",
       "# Define the number of patients and maximal capacity\n",
       "n = 17\n",
       "C = 100\n",
       "\n",
       "# Define the BED scores (sample data)\n",
       "BED = {\n",
       "    (i, j): i * j for i in range(1, n + 1) for j in range(16)\n",
       "}\n",
       "BED.update({(i, 0): 0 for i in range(1, n + 1)})  # Add (i, 0) entries with BED = 0\n",
       "\n",
       "# Create the Pyomo model\n",
       "model = pyo.ConcreteModel()\n",
       "\n",
       "# Define the decision variable\n",
       "model.x = pyo.Var(range(1, n + 1), range(16), domain=pyo.Binary)\n",
       "\n",
       "# Objective function\n",
       "def obj_rule(model):\n",
       "    return sum(BED[i, j] * model.x[i, j] for i in range(1, n + 1) for j in range(16))\n",
       "\n",
       "model.obj = pyo.Objective(rule=obj_rule, sense=pyo.maximize)\n",
       "\n",
       "# Constraints\n",
       "def capacity_constraint_rule(model):\n",
       "    return sum(j * model.x[i, j] for i in range(1, n + 1) for j in range(16)) <= C\n",
       "\n",
       "model.capacity_constraint = pyo.Constraint(rule=capacity_constraint_rule)\n",
       "\n",
       "def patient_constraint_rule(model, i):\n",
       "    return sum(model.x[i, j] for j in range(16)) == 1\n",
       "\n",
       "model.patient_constraint = pyo.Constraint(range(1, n + 1), rule=patient_constraint_rule)\n",
       "\n",
       "# Solve the model\n",
       "solver = pyo.SolverFactory('cbc')\n",
       "results = solver.solve(model)\n",
       "\n",
       "# Print the results\n",
       "print(\"Optimal value: \", pyo.value(model.obj))\n",
       "print(\"Decision variables: \")\n",
       "for i in range(1, n + 1):\n",
       "    for j in range(16):\n",
       "        if pyo.value(model.x[i, j]) > 0.5:\n",
       "            print(f\"x[{i},{j}] = {pyo.value(model.x[i, j])}\")\n",
       "```\n",
       "\n",
       "This code defines the optimization problem using Pyomo and solves it using the CBC solver. The sample data for the BED scores is generated using the formula `i * j`, but you can replace it with your actual data."
      ],
      "text/plain": [
       "<IPython.core.display.Markdown object>"
      ]
     },
     "execution_count": 13,
     "metadata": {},
     "output_type": "execute_result"
    }
   ],
   "source": [
    "Markdown(response_4_text)"
   ]
  },
  {
   "cell_type": "code",
   "execution_count": 14,
   "id": "a380c180",
   "metadata": {},
   "outputs": [
    {
     "name": "stdout",
     "output_type": "stream",
     "text": [
      "2. Formulate the optimization problem:\n",
      "\n",
      "The optimization problem aims to maximize the total BED score, subject to the constraint that the total number of proton fractions does not exceed the maximal capacity. The problem can be formulated as follows:\n",
      "\n",
      "\\[\n",
      "\\begin{align*}\n",
      "\\text{maximize} & \\quad \\sum_{i=1}^{n} \\sum_{j=0}^{15} BED_{i,j} \\cdot x_{i,j} \\\\\n",
      "\\text{subject to} & \\quad \\sum_{i=1}^{n} \\sum_{j=0}^{15} j \\cdot x_{i,j} \\leq C \\\\\n",
      "& \\quad \\sum_{j=0}^{15} x_{i,j} = 1 \\quad \\forall i \\\\\n",
      "& \\quad x_{i,j} \\in \\{0, 1\\} \\quad \\forall i, \\forall j\n",
      "\\end{align*}\n",
      "\\]\n",
      "\n",
      "3. Implement the optimization problem using Pyomo:\n",
      "\n",
      "```python\n",
      "import pyomo.environ as pyo\n",
      "\n",
      "# Define the number of patients and maximal capacity\n",
      "n = 17\n",
      "C = 100\n",
      "\n",
      "# Define the BED scores (sample data)\n",
      "BED = {\n",
      "    (i, j): i * j for i in range(1, n + 1) for j in range(16)\n",
      "}\n",
      "BED.update({(i, 0): 0 for i in range(1, n + 1)})  # Add (i, 0) entries with BED = 0\n",
      "\n",
      "# Create the Pyomo model\n",
      "model = pyo.ConcreteModel()\n",
      "\n",
      "# Define the decision variable\n",
      "model.x = pyo.Var(range(1, n + 1), range(16), domain=pyo.Binary)\n",
      "\n",
      "# Objective function\n",
      "def obj_rule(model):\n",
      "    return sum(BED[i, j] * model.x[i, j] for i in range(1, n + 1) for j in range(16))\n",
      "\n",
      "model.obj = pyo.Objective(rule=obj_rule, sense=pyo.maximize)\n",
      "\n",
      "# Constraints\n",
      "def capacity_constraint_rule(model):\n",
      "    return sum(j * model.x[i, j] for i in range(1, n + 1) for j in range(16)) <= C\n",
      "\n",
      "model.capacity_constraint = pyo.Constraint(rule=capacity_constraint_rule)\n",
      "\n",
      "def patient_constraint_rule(model, i):\n",
      "    return sum(model.x[i, j] for j in range(16)) == 1\n",
      "\n",
      "model.patient_constraint = pyo.Constraint(range(1, n + 1), rule=patient_constraint_rule)\n",
      "\n",
      "# Solve the model\n",
      "solver = pyo.SolverFactory('cbc')\n",
      "results = solver.solve(model)\n",
      "\n",
      "# Print the results\n",
      "print(\"Optimal value: \", pyo.value(model.obj))\n",
      "print(\"Decision variables: \")\n",
      "for i in range(1, n + 1):\n",
      "    for j in range(16):\n",
      "        if pyo.value(model.x[i, j]) > 0.5:\n",
      "            print(f\"x[{i},{j}] = {pyo.value(model.x[i, j])}\")\n",
      "```\n",
      "\n",
      "This code defines the optimization problem using Pyomo and solves it using the CBC solver. The sample data for the BED scores is generated using the formula `i * j`, but you can replace it with your actual data.\n"
     ]
    }
   ],
   "source": [
    "print(response_4_text)"
   ]
  },
  {
   "cell_type": "markdown",
   "id": "879cc7ae",
   "metadata": {},
   "source": [
    "### Code Executability"
   ]
  },
  {
   "cell_type": "code",
   "execution_count": 16,
   "id": "f1d9a625",
   "metadata": {},
   "outputs": [
    {
     "name": "stdout",
     "output_type": "stream",
     "text": [
      "Optimal value:  1415.0\n",
      "Decision variables: \n",
      "x[1,0] = 1.0\n",
      "x[2,0] = 1.0\n",
      "x[3,0] = 1.0\n",
      "x[4,0] = 1.0\n",
      "x[5,0] = 1.0\n",
      "x[6,0] = 1.0\n",
      "x[7,0] = 1.0\n",
      "x[8,0] = 1.0\n",
      "x[9,0] = 1.0\n",
      "x[10,0] = 1.0\n",
      "x[11,10] = 1.0\n",
      "x[12,15] = 1.0\n",
      "x[13,15] = 1.0\n",
      "x[14,15] = 1.0\n",
      "x[15,15] = 1.0\n",
      "x[16,15] = 1.0\n",
      "x[17,15] = 1.0\n"
     ]
    }
   ],
   "source": [
    "import pyomo.environ as pyo\n",
    "\n",
    "# Define the number of patients and maximal capacity\n",
    "n = 17\n",
    "C = 100\n",
    "\n",
    "# Define the BED scores (sample data)\n",
    "BED = {\n",
    "    (i, j): i * j for i in range(1, n + 1) for j in range(16)\n",
    "}\n",
    "BED.update({(i, 0): 0 for i in range(1, n + 1)})  # Add (i, 0) entries with BED = 0\n",
    "\n",
    "# Create the Pyomo model\n",
    "model = pyo.ConcreteModel()\n",
    "\n",
    "# Define the decision variable\n",
    "model.x = pyo.Var(range(1, n + 1), range(16), domain=pyo.Binary)\n",
    "\n",
    "# Objective function\n",
    "def obj_rule(model):\n",
    "    return sum(BED[i, j] * model.x[i, j] for i in range(1, n + 1) for j in range(16))\n",
    "\n",
    "model.obj = pyo.Objective(rule=obj_rule, sense=pyo.maximize)\n",
    "\n",
    "# Constraints\n",
    "def capacity_constraint_rule(model):\n",
    "    return sum(j * model.x[i, j] for i in range(1, n + 1) for j in range(16)) <= C\n",
    "\n",
    "model.capacity_constraint = pyo.Constraint(rule=capacity_constraint_rule)\n",
    "\n",
    "def patient_constraint_rule(model, i):\n",
    "    return sum(model.x[i, j] for j in range(16)) == 1\n",
    "\n",
    "model.patient_constraint = pyo.Constraint(range(1, n + 1), rule=patient_constraint_rule)\n",
    "\n",
    "# Solve the model\n",
    "solver = pyo.SolverFactory('gurobi')\n",
    "results = solver.solve(model)\n",
    "\n",
    "# Print the results\n",
    "print(\"Optimal value: \", pyo.value(model.obj))\n",
    "print(\"Decision variables: \")\n",
    "for i in range(1, n + 1):\n",
    "    for j in range(16):\n",
    "        if pyo.value(model.x[i, j]) > 0.5:\n",
    "            print(f\"x[{i},{j}] = {pyo.value(model.x[i, j])}\")"
   ]
  },
  {
   "cell_type": "markdown",
   "id": "95f5c3a8",
   "metadata": {},
   "source": [
    "### Solution Correctness"
   ]
  },
  {
   "cell_type": "code",
   "execution_count": 18,
   "id": "01245691",
   "metadata": {},
   "outputs": [
    {
     "name": "stdout",
     "output_type": "stream",
     "text": [
      "Optimal value:  8.239999999999998\n",
      "Decision variables: \n",
      "x[1,15] = 1.0\n",
      "x[2,8] = 1.0\n",
      "x[3,3] = 1.0\n",
      "x[4,14] = 1.0\n",
      "x[5,5] = 1.0\n",
      "x[6,0] = 1.0\n",
      "x[7,4] = 1.0\n",
      "x[8,0] = 1.0\n",
      "x[9,4] = 1.0\n",
      "x[10,1] = 1.0\n",
      "x[11,6] = 1.0\n",
      "x[12,0] = 1.0\n",
      "x[13,8] = 1.0\n",
      "x[14,0] = 1.0\n",
      "x[15,10] = 1.0\n",
      "x[16,10] = 1.0\n",
      "x[17,12] = 1.0\n"
     ]
    }
   ],
   "source": [
    "import pyomo.environ as pyo\n",
    "\n",
    "# Define the number of patients and maximal capacity\n",
    "n = 17\n",
    "C = 100\n",
    "\n",
    "# Define the BED scores (sample data)\n",
    "\n",
    "with open(FILE_PATH_PROBLEM + 'ProblemData.csv', 'r') as f:\n",
    "    for i, line in enumerate(f):\n",
    "        i += 1\n",
    "        vals = [float(x) for x in line.strip().split(',')]\n",
    "        for j, v in enumerate(vals):\n",
    "            BED[i, j] = v\n",
    "\n",
    "\n",
    "\n",
    "# Create the Pyomo model\n",
    "model = pyo.ConcreteModel()\n",
    "\n",
    "# Define the decision variable\n",
    "model.x = pyo.Var(range(1, n + 1), range(16), domain=pyo.Binary)\n",
    "\n",
    "# Objective function\n",
    "def obj_rule(model):\n",
    "    return sum(BED[i, j] * model.x[i, j] for i in range(1, n + 1) for j in range(16))\n",
    "\n",
    "model.obj = pyo.Objective(rule=obj_rule, sense=pyo.maximize)\n",
    "\n",
    "# Constraints\n",
    "def capacity_constraint_rule(model):\n",
    "    return sum(j * model.x[i, j] for i in range(1, n + 1) for j in range(16)) <= C\n",
    "\n",
    "model.capacity_constraint = pyo.Constraint(rule=capacity_constraint_rule)\n",
    "\n",
    "def patient_constraint_rule(model, i):\n",
    "    return sum(model.x[i, j] for j in range(16)) == 1\n",
    "\n",
    "model.patient_constraint = pyo.Constraint(range(1, n + 1), rule=patient_constraint_rule)\n",
    "\n",
    "# Solve the model\n",
    "solver = pyo.SolverFactory('gurobi')\n",
    "results = solver.solve(model)\n",
    "\n",
    "# Print the results\n",
    "print(\"Optimal value: \", pyo.value(model.obj))\n",
    "print(\"Decision variables: \")\n",
    "for i in range(1, n + 1):\n",
    "    for j in range(16):\n",
    "        if pyo.value(model.x[i, j]) > 0.5:\n",
    "            print(f\"x[{i},{j}] = {pyo.value(model.x[i, j])}\")"
   ]
  }
 ],
 "metadata": {
  "kernelspec": {
   "display_name": "Python 3 (ipykernel)",
   "language": "python",
   "name": "python3"
  },
  "language_info": {
   "codemirror_mode": {
    "name": "ipython",
    "version": 3
   },
   "file_extension": ".py",
   "mimetype": "text/x-python",
   "name": "python",
   "nbconvert_exporter": "python",
   "pygments_lexer": "ipython3",
   "version": "3.10.4"
  }
 },
 "nbformat": 4,
 "nbformat_minor": 5
}
