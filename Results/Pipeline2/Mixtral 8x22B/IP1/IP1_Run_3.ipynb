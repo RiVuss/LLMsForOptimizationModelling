{
 "cells": [
  {
   "cell_type": "code",
   "execution_count": 1,
   "id": "e5c2c174",
   "metadata": {},
   "outputs": [],
   "source": [
    "import os\n",
    "from mistralai.client import MistralClient\n",
    "from mistralai.models.chat_completion import ChatMessage\n",
    "from IPython.display import display, Markdown, Latex\n",
    "from datetime import datetime"
   ]
  },
  {
   "cell_type": "code",
   "execution_count": 2,
   "id": "b0c91a62",
   "metadata": {},
   "outputs": [
    {
     "name": "stdout",
     "output_type": "stream",
     "text": [
      "Time of execution: 2024-06-07 15:41:03.966949\n"
     ]
    }
   ],
   "source": [
    "API_KEY = os.environ['MISTRAL_API_KEY']\n",
    "\n",
    "MODEL_ID = 'open-mixtral-8x22b'\n",
    "MODEL_SEED = 3\n",
    "MODEL_TEMPERATURE = 0.7\n",
    "\n",
    "file_system_prompt_1 = open(\"../system_prompt_1.txt\", \"r\")\n",
    "file_system_prompt_2 = open(\"../system_prompt_2.txt\", \"r\")\n",
    "user_prompt_1 = open(\"../user_prompt_1.txt\", \"r\")\n",
    "user_prompt_2 = open(\"../user_prompt_2.txt\", \"r\")\n",
    "user_prompt_3 = open(\"../user_prompt_3.txt\", \"r\")\n",
    "SYSTEM_PROMPT_1 = file_system_prompt_1.read()\n",
    "SYSTEM_PROMPT_2 = file_system_prompt_2.read()\n",
    "USER_PROMPT_1 = user_prompt_1.read()\n",
    "USER_PROMPT_2 = user_prompt_2.read()\n",
    "USER_PROMPT_3 = user_prompt_3.read()\n",
    "file_system_prompt_1.close()\n",
    "file_system_prompt_2.close()\n",
    "user_prompt_1.close()\n",
    "user_prompt_2.close()\n",
    "user_prompt_3.close()\n",
    "\n",
    "FILE_PATH_PROBLEM = '../../../../Datasets/IP_1_Radiotherapy-Treatment/'\n",
    "assert(FILE_PATH_PROBLEM != '../../../../Datasets/')\n",
    "file_problem_description = open(FILE_PATH_PROBLEM + 'ProblemDescription.txt', 'r')\n",
    "PROBLEM_DESCRIPTION = file_problem_description.read()\n",
    "file_problem_description.close()\n",
    "\n",
    "\n",
    "\n",
    "client = MistralClient(api_key=API_KEY)\n",
    "\n",
    "print(f'Time of execution: {datetime.now()}')"
   ]
  },
  {
   "cell_type": "markdown",
   "id": "3e540824",
   "metadata": {},
   "source": [
    "## Step 1 - Generate Mathematical Formulation "
   ]
  },
  {
   "cell_type": "code",
   "execution_count": 3,
   "id": "174c127b",
   "metadata": {},
   "outputs": [],
   "source": [
    "messages_1 = [\n",
    "    ChatMessage(role=\"system\", content=SYSTEM_PROMPT_1),\n",
    "    ChatMessage(role=\"user\", content=PROBLEM_DESCRIPTION),\n",
    "    ChatMessage(role=\"user\", content=USER_PROMPT_1)\n",
    "]\n",
    "\n",
    "response_1 = client.chat(\n",
    "    model=MODEL_ID,\n",
    "    messages=messages_1,\n",
    "    random_seed=MODEL_SEED,\n",
    "    temperature=MODEL_TEMPERATURE \n",
    ")\n",
    "\n",
    "response_1_text = response_1.choices[0].message.content"
   ]
  },
  {
   "cell_type": "code",
   "execution_count": 4,
   "id": "03616e62",
   "metadata": {},
   "outputs": [
    {
     "data": {
      "text/markdown": [
       "STEP 1: Define parameters and variables\n",
       "\n",
       "Let's define the following parameters and variables:\n",
       "\n",
       "Parameters:\n",
       "- \\( n \\): Number of patients, \\( n = 17 \\)\n",
       "- \\( C \\): Total proton therapy capacity, \\( C = 100 \\)\n",
       "- \\( BED_{ij} \\): Biological Equivalent Dose for patient \\( i \\) with \\( j \\) proton fractions\n",
       "\n",
       "Variables:\n",
       "- \\( x_{ij} \\): Number of proton fractions assigned to patient \\( i \\) (an integer between 0 and 15)\n",
       "- \\( y_{i} \\): Total BED score for patient \\( i \\)\n",
       "\n",
       "These parameters and variables will be used to formulate the objective function and constraints in the next steps."
      ],
      "text/plain": [
       "<IPython.core.display.Markdown object>"
      ]
     },
     "execution_count": 4,
     "metadata": {},
     "output_type": "execute_result"
    }
   ],
   "source": [
    "Markdown(response_1_text)"
   ]
  },
  {
   "cell_type": "code",
   "execution_count": 5,
   "id": "b6a33171",
   "metadata": {},
   "outputs": [
    {
     "name": "stdout",
     "output_type": "stream",
     "text": [
      "STEP 1: Define parameters and variables\n",
      "\n",
      "Let's define the following parameters and variables:\n",
      "\n",
      "Parameters:\n",
      "- \\( n \\): Number of patients, \\( n = 17 \\)\n",
      "- \\( C \\): Total proton therapy capacity, \\( C = 100 \\)\n",
      "- \\( BED_{ij} \\): Biological Equivalent Dose for patient \\( i \\) with \\( j \\) proton fractions\n",
      "\n",
      "Variables:\n",
      "- \\( x_{ij} \\): Number of proton fractions assigned to patient \\( i \\) (an integer between 0 and 15)\n",
      "- \\( y_{i} \\): Total BED score for patient \\( i \\)\n",
      "\n",
      "These parameters and variables will be used to formulate the objective function and constraints in the next steps.\n"
     ]
    }
   ],
   "source": [
    "print(response_1_text)"
   ]
  },
  {
   "cell_type": "code",
   "execution_count": 6,
   "id": "9af61485",
   "metadata": {},
   "outputs": [],
   "source": [
    "messages_2 = [\n",
    "    ChatMessage(role=\"system\", content=SYSTEM_PROMPT_1),\n",
    "    ChatMessage(role=\"user\", content=PROBLEM_DESCRIPTION),\n",
    "    ChatMessage(role=\"user\", content=USER_PROMPT_1),\n",
    "    ChatMessage(role=\"assistant\", content=response_1_text),\n",
    "    ChatMessage(role=\"user\", content=USER_PROMPT_2),\n",
    "]\n",
    "\n",
    "response_2 = client.chat(\n",
    "    model=MODEL_ID,\n",
    "    messages=messages_2,\n",
    "    random_seed=MODEL_SEED,\n",
    "    temperature=MODEL_TEMPERATURE \n",
    ")\n",
    "\n",
    "response_2_text = response_2.choices[0].message.content"
   ]
  },
  {
   "cell_type": "code",
   "execution_count": 7,
   "id": "ac0f2659",
   "metadata": {},
   "outputs": [
    {
     "data": {
      "text/markdown": [
       "STEP 2: Define the objective function\n",
       "\n",
       "The objective of this problem is to maximize the total BED scores for all the patients while using the limited proton therapy capacity as efficiently as possible. To achieve this, we will maximize the sum of the BED scores of all patients, which can be represented as:\n",
       "\n",
       "\\[ \\text{Maximize} \\sum_{i=1}^{n} y_{i} \\]\n",
       "\n",
       "This is the objective function we want to maximize.\n",
       "\n",
       "In the next step, we will define the constraints for this optimization problem."
      ],
      "text/plain": [
       "<IPython.core.display.Markdown object>"
      ]
     },
     "execution_count": 7,
     "metadata": {},
     "output_type": "execute_result"
    }
   ],
   "source": [
    "Markdown(response_2_text)"
   ]
  },
  {
   "cell_type": "code",
   "execution_count": 8,
   "id": "d7d2d8bc",
   "metadata": {},
   "outputs": [],
   "source": [
    "messages_3 = [\n",
    "    ChatMessage(role=\"system\", content=SYSTEM_PROMPT_1),\n",
    "    ChatMessage(role=\"user\", content=PROBLEM_DESCRIPTION),\n",
    "    ChatMessage(role=\"user\", content=USER_PROMPT_1),\n",
    "    ChatMessage(role=\"assistant\", content=response_1_text),\n",
    "    ChatMessage(role=\"user\", content=USER_PROMPT_2),\n",
    "    ChatMessage(role=\"assistant\", content=response_2_text),\n",
    "    ChatMessage(role=\"user\", content=USER_PROMPT_3),\n",
    "]\n",
    "\n",
    "response_3 = client.chat(\n",
    "    model=MODEL_ID,\n",
    "    messages=messages_3,\n",
    "    random_seed=MODEL_SEED,\n",
    "    temperature=MODEL_TEMPERATURE \n",
    ")\n",
    "\n",
    "response_3_text = response_3.choices[0].message.content"
   ]
  },
  {
   "cell_type": "code",
   "execution_count": 9,
   "id": "c4588e6c",
   "metadata": {},
   "outputs": [
    {
     "data": {
      "text/markdown": [
       "STEP 3: Define the constraints\n",
       "\n",
       "Now, we need to define the constraints for this optimization problem. There are three main constraints:\n",
       "\n",
       "1. Capacity constraint: The total number of proton fractions assigned to all patients cannot exceed the total proton therapy capacity (\\( C \\)).\n",
       "\n",
       "\\[ \\sum_{i=1}^{n} x_{ij} \\leq C \\]\n",
       "\n",
       "2. Non-negativity constraint: The number of proton fractions assigned to each patient must be non-negative integers.\n",
       "\n",
       "\\[ x_{ij} \\in \\{0, 1, 2, \\ldots, 15\\} \\]\n",
       "\n",
       "3. BED calculation constraint: The BED score for each patient is calculated based on the number of proton fractions (\\( x_{ij} \\)) and the remaining photon fractions (\\( 15 - x_{ij} \\)). We can represent this as:\n",
       "\n",
       "\\[ y_{i} = \\sum_{j=1}^{15} BED_{ij} \\cdot x_{ij} \\]\n",
       "\n",
       "These constraints ensure that the optimization model correctly allocates the proton fractions to the patients while respecting the capacity limit and accurately calculating the BED scores.\n",
       "\n",
       "Now that we have defined the parameters, variables, objective function, and constraints, we can write the complete integer linear optimization model for this problem."
      ],
      "text/plain": [
       "<IPython.core.display.Markdown object>"
      ]
     },
     "execution_count": 9,
     "metadata": {},
     "output_type": "execute_result"
    }
   ],
   "source": [
    "Markdown(response_3_text)"
   ]
  },
  {
   "cell_type": "code",
   "execution_count": 10,
   "id": "e73cd25c",
   "metadata": {},
   "outputs": [
    {
     "data": {
      "text/markdown": [
       "STEP 1: Define parameters and variables\n",
       "\n",
       "Let's define the following parameters and variables:\n",
       "\n",
       "Parameters:\n",
       "- \\( n \\): Number of patients, \\( n = 17 \\)\n",
       "- \\( C \\): Total proton therapy capacity, \\( C = 100 \\)\n",
       "- \\( BED_{ij} \\): Biological Equivalent Dose for patient \\( i \\) with \\( j \\) proton fractions\n",
       "\n",
       "Variables:\n",
       "- \\( x_{ij} \\): Number of proton fractions assigned to patient \\( i \\) (an integer between 0 and 15)\n",
       "- \\( y_{i} \\): Total BED score for patient \\( i \\)\n",
       "\n",
       "These parameters and variables will be used to formulate the objective function and constraints in the next steps.\n",
       "STEP 2: Define the objective function\n",
       "\n",
       "The objective of this problem is to maximize the total BED scores for all the patients while using the limited proton therapy capacity as efficiently as possible. To achieve this, we will maximize the sum of the BED scores of all patients, which can be represented as:\n",
       "\n",
       "\\[ \\text{Maximize} \\sum_{i=1}^{n} y_{i} \\]\n",
       "\n",
       "This is the objective function we want to maximize.\n",
       "\n",
       "In the next step, we will define the constraints for this optimization problem.\n",
       "STEP 3: Define the constraints\n",
       "\n",
       "Now, we need to define the constraints for this optimization problem. There are three main constraints:\n",
       "\n",
       "1. Capacity constraint: The total number of proton fractions assigned to all patients cannot exceed the total proton therapy capacity (\\( C \\)).\n",
       "\n",
       "\\[ \\sum_{i=1}^{n} x_{ij} \\leq C \\]\n",
       "\n",
       "2. Non-negativity constraint: The number of proton fractions assigned to each patient must be non-negative integers.\n",
       "\n",
       "\\[ x_{ij} \\in \\{0, 1, 2, \\ldots, 15\\} \\]\n",
       "\n",
       "3. BED calculation constraint: The BED score for each patient is calculated based on the number of proton fractions (\\( x_{ij} \\)) and the remaining photon fractions (\\( 15 - x_{ij} \\)). We can represent this as:\n",
       "\n",
       "\\[ y_{i} = \\sum_{j=1}^{15} BED_{ij} \\cdot x_{ij} \\]\n",
       "\n",
       "These constraints ensure that the optimization model correctly allocates the proton fractions to the patients while respecting the capacity limit and accurately calculating the BED scores.\n",
       "\n",
       "Now that we have defined the parameters, variables, objective function, and constraints, we can write the complete integer linear optimization model for this problem."
      ],
      "text/plain": [
       "<IPython.core.display.Markdown object>"
      ]
     },
     "execution_count": 10,
     "metadata": {},
     "output_type": "execute_result"
    }
   ],
   "source": [
    "response_text = '\\n'.join([response_1_text, response_2_text, response_3_text])\n",
    "\n",
    "Markdown(response_text)"
   ]
  },
  {
   "cell_type": "markdown",
   "id": "27b5f89a",
   "metadata": {},
   "source": [
    "## Step 2 - Generate the Pyomo Code"
   ]
  },
  {
   "cell_type": "code",
   "execution_count": 16,
   "id": "a4c3312f",
   "metadata": {},
   "outputs": [],
   "source": [
    "messages_4 = [\n",
    "    ChatMessage(role=\"system\", content=SYSTEM_PROMPT_2),\n",
    "    ChatMessage(role=\"user\", content=response_text)\n",
    "]"
   ]
  },
  {
   "cell_type": "code",
   "execution_count": 17,
   "id": "4212d99d",
   "metadata": {},
   "outputs": [],
   "source": [
    "response_4 = client.chat(\n",
    "    model=MODEL_ID,\n",
    "    messages=messages_4,\n",
    "    random_seed=MODEL_SEED,\n",
    "    temperature=MODEL_TEMPERATURE\n",
    ")\n",
    "\n",
    "response_4_text = response_4.choices[0].message.content"
   ]
  },
  {
   "cell_type": "code",
   "execution_count": 18,
   "id": "c168a60b",
   "metadata": {},
   "outputs": [
    {
     "data": {
      "text/markdown": [
       "To solve the optimization problem using Pyomo, we will first install the necessary packages and then write the Python code for the model. Here is the complete Pyomo code for the problem:\n",
       "\n",
       "```python\n",
       "# Import necessary packages\n",
       "import pyomo.environ as pyo\n",
       "\n",
       "# STEP 1: Define parameters and variables\n",
       "n = 17  # Number of patients\n",
       "C = 100  # Total proton therapy capacity\n",
       "# Sample data for BED matrix\n",
       "BED = {(i, j): (i+1)*(j+1) for i in range(n) for j in range(15)}\n",
       "\n",
       "# Create a Pyomo model\n",
       "model = pyo.ConcreteModel()\n",
       "\n",
       "# Define the index sets\n",
       "model.I = pyo.Set(initialize=range(n))\n",
       "model.J = pyo.Set(initialize=range(15))\n",
       "\n",
       "# Define the decision variables\n",
       "model.x = pyo.Var(model.I, model.J, domain=pyo.NonNegativeIntegers, bounds=(0, 15))\n",
       "model.y = pyo.Var(model.I, domain=pyo.NonNegativeReals)\n",
       "\n",
       "# STEP 2: Define the objective function\n",
       "def obj_rule(model):\n",
       "    return pyo.summation(model.y)\n",
       "\n",
       "model.obj = pyo.Objective(rule=obj_rule, sense=pyo.maximize)\n",
       "\n",
       "# STEP 3: Define the constraints\n",
       "# Capacity constraint\n",
       "def capacity_rule(model):\n",
       "    return sum(model.x[i, j] for i in model.I for j in model.J) <= C\n",
       "\n",
       "model.capacity_constraint = pyo.Constraint(rule=capacity_rule)\n",
       "\n",
       "# BED calculation constraint\n",
       "def bed_rule(model, i):\n",
       "    return model.y[i] == sum(BED[i, j] * model.x[i, j] for j in model.J)\n",
       "\n",
       "model.bed_constraint = pyo.Constraint(model.I, rule=bed_rule)\n",
       "\n",
       "# Solve the optimization problem\n",
       "solver = pyo.SolverFactory('glpk')\n",
       "solver.solve(model)\n",
       "\n",
       "# Print the optimal solution\n",
       "print(\"Optimal objective function value:\", pyo.value(model.obj))\n",
       "for i in model.I:\n",
       "    print(f\"Optimal assignment for patient {i+1}:\", {j: pyo.value(model.x[i, j]) for j in model.J})\n",
       "    print(f\"Total BED score for patient {i+1}:\", pyo.value(model.y[i]))\n",
       "```\n",
       "\n",
       "This code defines the optimization problem using Pyomo and solves it using the GLPK solver. You can replace the sample data for the BED matrix with actual data as needed. The optimal solution is then printed, showing the total BED scores for each patient and the optimal assignment of proton fractions."
      ],
      "text/plain": [
       "<IPython.core.display.Markdown object>"
      ]
     },
     "execution_count": 18,
     "metadata": {},
     "output_type": "execute_result"
    }
   ],
   "source": [
    "Markdown(response_4_text)"
   ]
  },
  {
   "cell_type": "code",
   "execution_count": 19,
   "id": "a380c180",
   "metadata": {},
   "outputs": [
    {
     "name": "stdout",
     "output_type": "stream",
     "text": [
      "To solve the optimization problem using Pyomo, we will first install the necessary packages and then write the Python code for the model. Here is the complete Pyomo code for the problem:\n",
      "\n",
      "```python\n",
      "# Import necessary packages\n",
      "import pyomo.environ as pyo\n",
      "\n",
      "# STEP 1: Define parameters and variables\n",
      "n = 17  # Number of patients\n",
      "C = 100  # Total proton therapy capacity\n",
      "# Sample data for BED matrix\n",
      "BED = {(i, j): (i+1)*(j+1) for i in range(n) for j in range(15)}\n",
      "\n",
      "# Create a Pyomo model\n",
      "model = pyo.ConcreteModel()\n",
      "\n",
      "# Define the index sets\n",
      "model.I = pyo.Set(initialize=range(n))\n",
      "model.J = pyo.Set(initialize=range(15))\n",
      "\n",
      "# Define the decision variables\n",
      "model.x = pyo.Var(model.I, model.J, domain=pyo.NonNegativeIntegers, bounds=(0, 15))\n",
      "model.y = pyo.Var(model.I, domain=pyo.NonNegativeReals)\n",
      "\n",
      "# STEP 2: Define the objective function\n",
      "def obj_rule(model):\n",
      "    return pyo.summation(model.y)\n",
      "\n",
      "model.obj = pyo.Objective(rule=obj_rule, sense=pyo.maximize)\n",
      "\n",
      "# STEP 3: Define the constraints\n",
      "# Capacity constraint\n",
      "def capacity_rule(model):\n",
      "    return sum(model.x[i, j] for i in model.I for j in model.J) <= C\n",
      "\n",
      "model.capacity_constraint = pyo.Constraint(rule=capacity_rule)\n",
      "\n",
      "# BED calculation constraint\n",
      "def bed_rule(model, i):\n",
      "    return model.y[i] == sum(BED[i, j] * model.x[i, j] for j in model.J)\n",
      "\n",
      "model.bed_constraint = pyo.Constraint(model.I, rule=bed_rule)\n",
      "\n",
      "# Solve the optimization problem\n",
      "solver = pyo.SolverFactory('glpk')\n",
      "solver.solve(model)\n",
      "\n",
      "# Print the optimal solution\n",
      "print(\"Optimal objective function value:\", pyo.value(model.obj))\n",
      "for i in model.I:\n",
      "    print(f\"Optimal assignment for patient {i+1}:\", {j: pyo.value(model.x[i, j]) for j in model.J})\n",
      "    print(f\"Total BED score for patient {i+1}:\", pyo.value(model.y[i]))\n",
      "```\n",
      "\n",
      "This code defines the optimization problem using Pyomo and solves it using the GLPK solver. You can replace the sample data for the BED matrix with actual data as needed. The optimal solution is then printed, showing the total BED scores for each patient and the optimal assignment of proton fractions.\n"
     ]
    }
   ],
   "source": [
    "print(response_4_text)"
   ]
  },
  {
   "cell_type": "markdown",
   "id": "879cc7ae",
   "metadata": {},
   "source": [
    "### Code Executability"
   ]
  },
  {
   "cell_type": "code",
   "execution_count": 21,
   "id": "f1d9a625",
   "metadata": {},
   "outputs": [
    {
     "name": "stdout",
     "output_type": "stream",
     "text": [
      "Optimal objective function value: 23145.0\n",
      "Optimal assignment for patient 1: {0: 0.0, 1: 0.0, 2: 0.0, 3: 0.0, 4: 0.0, 5: 0.0, 6: 0.0, 7: 0.0, 8: 0.0, 9: 0.0, 10: 0.0, 11: 0.0, 12: 0.0, 13: 0.0, 14: 0.0}\n",
      "Total BED score for patient 1: 0.0\n",
      "Optimal assignment for patient 2: {0: 0.0, 1: 0.0, 2: 0.0, 3: 0.0, 4: 0.0, 5: 0.0, 6: 0.0, 7: 0.0, 8: 0.0, 9: 0.0, 10: 0.0, 11: 0.0, 12: 0.0, 13: 0.0, 14: 0.0}\n",
      "Total BED score for patient 2: 0.0\n",
      "Optimal assignment for patient 3: {0: 0.0, 1: 0.0, 2: 0.0, 3: 0.0, 4: 0.0, 5: 0.0, 6: 0.0, 7: 0.0, 8: 0.0, 9: 0.0, 10: 0.0, 11: 0.0, 12: 0.0, 13: 0.0, 14: 0.0}\n",
      "Total BED score for patient 3: 0.0\n",
      "Optimal assignment for patient 4: {0: 0.0, 1: 0.0, 2: 0.0, 3: 0.0, 4: 0.0, 5: 0.0, 6: 0.0, 7: 0.0, 8: 0.0, 9: 0.0, 10: 0.0, 11: 0.0, 12: 0.0, 13: 0.0, 14: 0.0}\n",
      "Total BED score for patient 4: 0.0\n",
      "Optimal assignment for patient 5: {0: 0.0, 1: 0.0, 2: 0.0, 3: 0.0, 4: 0.0, 5: 0.0, 6: 0.0, 7: 0.0, 8: 0.0, 9: 0.0, 10: 0.0, 11: 0.0, 12: 0.0, 13: 0.0, 14: 0.0}\n",
      "Total BED score for patient 5: 0.0\n",
      "Optimal assignment for patient 6: {0: 0.0, 1: 0.0, 2: 0.0, 3: 0.0, 4: 0.0, 5: 0.0, 6: 0.0, 7: 0.0, 8: 0.0, 9: 0.0, 10: 0.0, 11: 0.0, 12: 0.0, 13: 0.0, 14: 0.0}\n",
      "Total BED score for patient 6: 0.0\n",
      "Optimal assignment for patient 7: {0: 0.0, 1: 0.0, 2: 0.0, 3: 0.0, 4: 0.0, 5: 0.0, 6: 0.0, 7: 0.0, 8: 0.0, 9: 0.0, 10: 0.0, 11: 0.0, 12: 0.0, 13: 0.0, 14: 0.0}\n",
      "Total BED score for patient 7: 0.0\n",
      "Optimal assignment for patient 8: {0: 0.0, 1: 0.0, 2: 0.0, 3: 0.0, 4: 0.0, 5: 0.0, 6: 0.0, 7: 0.0, 8: 0.0, 9: 0.0, 10: 0.0, 11: 0.0, 12: 0.0, 13: 0.0, 14: 0.0}\n",
      "Total BED score for patient 8: 0.0\n",
      "Optimal assignment for patient 9: {0: 0.0, 1: 0.0, 2: 0.0, 3: 0.0, 4: 0.0, 5: 0.0, 6: 0.0, 7: 0.0, 8: 0.0, 9: 0.0, 10: 0.0, 11: 0.0, 12: 0.0, 13: 0.0, 14: 0.0}\n",
      "Total BED score for patient 9: 0.0\n",
      "Optimal assignment for patient 10: {0: 0.0, 1: 0.0, 2: 0.0, 3: 0.0, 4: 0.0, 5: 0.0, 6: 0.0, 7: 0.0, 8: 0.0, 9: 0.0, 10: 0.0, 11: 0.0, 12: 0.0, 13: 0.0, 14: 0.0}\n",
      "Total BED score for patient 10: 0.0\n",
      "Optimal assignment for patient 11: {0: 0.0, 1: 0.0, 2: 0.0, 3: 0.0, 4: 0.0, 5: 0.0, 6: 0.0, 7: 0.0, 8: 0.0, 9: 0.0, 10: 0.0, 11: 0.0, 12: 0.0, 13: 0.0, 14: 0.0}\n",
      "Total BED score for patient 11: 0.0\n",
      "Optimal assignment for patient 12: {0: 0.0, 1: 0.0, 2: 0.0, 3: 0.0, 4: 0.0, 5: 0.0, 6: 0.0, 7: 0.0, 8: 0.0, 9: 0.0, 10: 0.0, 11: 0.0, 12: 0.0, 13: 0.0, 14: 0.0}\n",
      "Total BED score for patient 12: 0.0\n",
      "Optimal assignment for patient 13: {0: 0.0, 1: 0.0, 2: 0.0, 3: 0.0, 4: 0.0, 5: 0.0, 6: 0.0, 7: 0.0, 8: 0.0, 9: 0.0, 10: 0.0, 11: 0.0, 12: 0.0, 13: 0.0, 14: 0.0}\n",
      "Total BED score for patient 13: 0.0\n",
      "Optimal assignment for patient 14: {0: 0.0, 1: 0.0, 2: 0.0, 3: 0.0, 4: 0.0, 5: 0.0, 6: 0.0, 7: 0.0, 8: 0.0, 9: 0.0, 10: 0.0, 11: 0.0, 12: 0.0, 13: 0.0, 14: 10.0}\n",
      "Total BED score for patient 14: 2100.0\n",
      "Optimal assignment for patient 15: {0: 0.0, 1: 0.0, 2: 0.0, 3: 0.0, 4: 0.0, 5: 0.0, 6: 0.0, 7: 0.0, 8: 0.0, 9: 0.0, 10: 0.0, 11: 0.0, 12: 0.0, 13: 0.0, 14: 15.0}\n",
      "Total BED score for patient 15: 3375.0\n",
      "Optimal assignment for patient 16: {0: 0.0, 1: 0.0, 2: 0.0, 3: 0.0, 4: 0.0, 5: 0.0, 6: 0.0, 7: 0.0, 8: 0.0, 9: 0.0, 10: 0.0, 11: 0.0, 12: 0.0, 13: 15.0, 14: 15.0}\n",
      "Total BED score for patient 16: 6960.0\n",
      "Optimal assignment for patient 17: {0: 0.0, 1: 0.0, 2: 0.0, 3: 0.0, 4: 0.0, 5: 0.0, 6: 0.0, 7: 0.0, 8: 0.0, 9: 0.0, 10: 0.0, 11: 0.0, 12: 15.0, 13: 15.0, 14: 15.0}\n",
      "Total BED score for patient 17: 10710.0\n"
     ]
    }
   ],
   "source": [
    "# Import necessary packages\n",
    "import pyomo.environ as pyo\n",
    "\n",
    "# STEP 1: Define parameters and variables\n",
    "n = 17  # Number of patients\n",
    "C = 100  # Total proton therapy capacity\n",
    "# Sample data for BED matrix\n",
    "BED = {(i, j): (i+1)*(j+1) for i in range(n) for j in range(15)}\n",
    "\n",
    "# Create a Pyomo model\n",
    "model = pyo.ConcreteModel()\n",
    "\n",
    "# Define the index sets\n",
    "model.I = pyo.Set(initialize=range(n))\n",
    "model.J = pyo.Set(initialize=range(15))\n",
    "\n",
    "# Define the decision variables\n",
    "model.x = pyo.Var(model.I, model.J, domain=pyo.NonNegativeIntegers, bounds=(0, 15))\n",
    "model.y = pyo.Var(model.I, domain=pyo.NonNegativeReals)\n",
    "\n",
    "# STEP 2: Define the objective function\n",
    "def obj_rule(model):\n",
    "    return pyo.summation(model.y)\n",
    "\n",
    "model.obj = pyo.Objective(rule=obj_rule, sense=pyo.maximize)\n",
    "\n",
    "# STEP 3: Define the constraints\n",
    "# Capacity constraint\n",
    "def capacity_rule(model):\n",
    "    return sum(model.x[i, j] for i in model.I for j in model.J) <= C\n",
    "\n",
    "model.capacity_constraint = pyo.Constraint(rule=capacity_rule)\n",
    "\n",
    "# BED calculation constraint\n",
    "def bed_rule(model, i):\n",
    "    return model.y[i] == sum(BED[i, j] * model.x[i, j] for j in model.J)\n",
    "\n",
    "model.bed_constraint = pyo.Constraint(model.I, rule=bed_rule)\n",
    "\n",
    "# Solve the optimization problem\n",
    "solver = pyo.SolverFactory('glpk')\n",
    "solver.solve(model)\n",
    "\n",
    "# Print the optimal solution\n",
    "print(\"Optimal objective function value:\", pyo.value(model.obj))\n",
    "for i in model.I:\n",
    "    print(f\"Optimal assignment for patient {i+1}:\", {j: pyo.value(model.x[i, j]) for j in model.J})\n",
    "    print(f\"Total BED score for patient {i+1}:\", pyo.value(model.y[i]))"
   ]
  },
  {
   "cell_type": "markdown",
   "id": "95f5c3a8",
   "metadata": {},
   "source": [
    "### Solution Correctness"
   ]
  },
  {
   "cell_type": "code",
   "execution_count": 22,
   "id": "01245691",
   "metadata": {},
   "outputs": [
    {
     "name": "stdout",
     "output_type": "stream",
     "text": [
      "Optimal objective function value: 1215.0\n",
      "Optimal assignment for patient 1: {0: 0.0, 1: 0.0, 2: 0.0, 3: 0.0, 4: 0.0, 5: 0.0, 6: 0.0, 7: 0.0, 8: 10.0, 9: 15.0, 10: 15.0, 11: 15.0, 12: 15.0, 13: 15.0, 14: 15.0}\n",
      "Total BED score for patient 1: 1215.0\n",
      "Optimal assignment for patient 2: {0: 0.0, 1: 0.0, 2: 0.0, 3: 0.0, 4: 0.0, 5: 0.0, 6: 0.0, 7: 0.0, 8: 0.0, 9: 0.0, 10: 0.0, 11: 0.0, 12: 0.0, 13: 0.0, 14: 0.0}\n",
      "Total BED score for patient 2: 0.0\n",
      "Optimal assignment for patient 3: {0: 0.0, 1: 0.0, 2: 0.0, 3: 0.0, 4: 0.0, 5: 0.0, 6: 0.0, 7: 0.0, 8: 0.0, 9: 0.0, 10: 0.0, 11: 0.0, 12: 0.0, 13: 0.0, 14: 0.0}\n",
      "Total BED score for patient 3: 0.0\n",
      "Optimal assignment for patient 4: {0: 0.0, 1: 0.0, 2: 0.0, 3: 0.0, 4: 0.0, 5: 0.0, 6: 0.0, 7: 0.0, 8: 0.0, 9: 0.0, 10: 0.0, 11: 0.0, 12: 0.0, 13: 0.0, 14: 0.0}\n",
      "Total BED score for patient 4: 0.0\n",
      "Optimal assignment for patient 5: {0: 0.0, 1: 0.0, 2: 0.0, 3: 0.0, 4: 0.0, 5: 0.0, 6: 0.0, 7: 0.0, 8: 0.0, 9: 0.0, 10: 0.0, 11: 0.0, 12: 0.0, 13: 0.0, 14: 0.0}\n",
      "Total BED score for patient 5: 0.0\n",
      "Optimal assignment for patient 6: {0: 0.0, 1: 0.0, 2: 0.0, 3: 0.0, 4: 0.0, 5: 0.0, 6: 0.0, 7: 0.0, 8: 0.0, 9: 0.0, 10: 0.0, 11: 0.0, 12: 0.0, 13: 0.0, 14: 0.0}\n",
      "Total BED score for patient 6: 0.0\n",
      "Optimal assignment for patient 7: {0: 0.0, 1: 0.0, 2: 0.0, 3: 0.0, 4: 0.0, 5: 0.0, 6: 0.0, 7: 0.0, 8: 0.0, 9: 0.0, 10: 0.0, 11: 0.0, 12: 0.0, 13: 0.0, 14: 0.0}\n",
      "Total BED score for patient 7: 0.0\n",
      "Optimal assignment for patient 8: {0: 0.0, 1: 0.0, 2: 0.0, 3: 0.0, 4: 0.0, 5: 0.0, 6: 0.0, 7: 0.0, 8: 0.0, 9: 0.0, 10: 0.0, 11: 0.0, 12: 0.0, 13: 0.0, 14: 0.0}\n",
      "Total BED score for patient 8: 0.0\n",
      "Optimal assignment for patient 9: {0: 0.0, 1: 0.0, 2: 0.0, 3: 0.0, 4: 0.0, 5: 0.0, 6: 0.0, 7: 0.0, 8: 0.0, 9: 0.0, 10: 0.0, 11: 0.0, 12: 0.0, 13: 0.0, 14: 0.0}\n",
      "Total BED score for patient 9: 0.0\n",
      "Optimal assignment for patient 10: {0: 0.0, 1: 0.0, 2: 0.0, 3: 0.0, 4: 0.0, 5: 0.0, 6: 0.0, 7: 0.0, 8: 0.0, 9: 0.0, 10: 0.0, 11: 0.0, 12: 0.0, 13: 0.0, 14: 0.0}\n",
      "Total BED score for patient 10: 0.0\n",
      "Optimal assignment for patient 11: {0: 0.0, 1: 0.0, 2: 0.0, 3: 0.0, 4: 0.0, 5: 0.0, 6: 0.0, 7: 0.0, 8: 0.0, 9: 0.0, 10: 0.0, 11: 0.0, 12: 0.0, 13: 0.0, 14: 0.0}\n",
      "Total BED score for patient 11: 0.0\n",
      "Optimal assignment for patient 12: {0: 0.0, 1: 0.0, 2: 0.0, 3: 0.0, 4: 0.0, 5: 0.0, 6: 0.0, 7: 0.0, 8: 0.0, 9: 0.0, 10: 0.0, 11: 0.0, 12: 0.0, 13: 0.0, 14: 0.0}\n",
      "Total BED score for patient 12: 0.0\n",
      "Optimal assignment for patient 13: {0: 0.0, 1: 0.0, 2: 0.0, 3: 0.0, 4: 0.0, 5: 0.0, 6: 0.0, 7: 0.0, 8: 0.0, 9: 0.0, 10: 0.0, 11: 0.0, 12: 0.0, 13: 0.0, 14: 0.0}\n",
      "Total BED score for patient 13: 0.0\n",
      "Optimal assignment for patient 14: {0: 0.0, 1: 0.0, 2: 0.0, 3: 0.0, 4: 0.0, 5: 0.0, 6: 0.0, 7: 0.0, 8: 0.0, 9: 0.0, 10: 0.0, 11: 0.0, 12: 0.0, 13: 0.0, 14: 0.0}\n",
      "Total BED score for patient 14: 0.0\n",
      "Optimal assignment for patient 15: {0: 0.0, 1: 0.0, 2: 0.0, 3: 0.0, 4: 0.0, 5: 0.0, 6: 0.0, 7: 0.0, 8: 0.0, 9: 0.0, 10: 0.0, 11: 0.0, 12: 0.0, 13: 0.0, 14: 0.0}\n",
      "Total BED score for patient 15: 0.0\n",
      "Optimal assignment for patient 16: {0: 0.0, 1: 0.0, 2: 0.0, 3: 0.0, 4: 0.0, 5: 0.0, 6: 0.0, 7: 0.0, 8: 0.0, 9: 0.0, 10: 0.0, 11: 0.0, 12: 0.0, 13: 0.0, 14: 0.0}\n",
      "Total BED score for patient 16: 0.0\n",
      "Optimal assignment for patient 17: {0: 0.0, 1: 0.0, 2: 0.0, 3: 0.0, 4: 0.0, 5: 0.0, 6: 0.0, 7: 0.0, 8: 0.0, 9: 0.0, 10: 0.0, 11: 0.0, 12: 0.0, 13: 0.0, 14: 0.0}\n",
      "Total BED score for patient 17: 0.0\n"
     ]
    }
   ],
   "source": [
    "# Import necessary packages\n",
    "import pyomo.environ as pyo\n",
    "\n",
    "# STEP 1: Define parameters and variables\n",
    "n = 17  # Number of patients\n",
    "C = 100  # Total proton therapy capacity\n",
    "# Sample data for BED matrix\n",
    "with open(FILE_PATH_PROBLEM + 'ProblemData.csv', 'r') as f:\n",
    "    for i, line in enumerate(f):\n",
    "        i += 1\n",
    "        vals = [float(x) for x in line.strip().split(',')]\n",
    "        for j, v in enumerate(vals):\n",
    "            BED[i, j] = v\n",
    "\n",
    "# Create a Pyomo model\n",
    "model = pyo.ConcreteModel()\n",
    "\n",
    "# Define the index sets\n",
    "model.I = pyo.Set(initialize=range(n))\n",
    "model.J = pyo.Set(initialize=range(15))\n",
    "\n",
    "# Define the decision variables\n",
    "model.x = pyo.Var(model.I, model.J, domain=pyo.NonNegativeIntegers, bounds=(0, 15))\n",
    "model.y = pyo.Var(model.I, domain=pyo.NonNegativeReals)\n",
    "\n",
    "# STEP 2: Define the objective function\n",
    "def obj_rule(model):\n",
    "    return pyo.summation(model.y)\n",
    "\n",
    "model.obj = pyo.Objective(rule=obj_rule, sense=pyo.maximize)\n",
    "\n",
    "# STEP 3: Define the constraints\n",
    "# Capacity constraint\n",
    "def capacity_rule(model):\n",
    "    return sum(model.x[i, j] for i in model.I for j in model.J) <= C\n",
    "\n",
    "model.capacity_constraint = pyo.Constraint(rule=capacity_rule)\n",
    "\n",
    "# BED calculation constraint\n",
    "def bed_rule(model, i):\n",
    "    return model.y[i] == sum(BED[i, j] * model.x[i, j] for j in model.J)\n",
    "\n",
    "model.bed_constraint = pyo.Constraint(model.I, rule=bed_rule)\n",
    "\n",
    "# Solve the optimization problem\n",
    "solver = pyo.SolverFactory('glpk')\n",
    "solver.solve(model)\n",
    "\n",
    "# Print the optimal solution\n",
    "print(\"Optimal objective function value:\", pyo.value(model.obj))\n",
    "for i in model.I:\n",
    "    print(f\"Optimal assignment for patient {i+1}:\", {j: pyo.value(model.x[i, j]) for j in model.J})\n",
    "    print(f\"Total BED score for patient {i+1}:\", pyo.value(model.y[i]))"
   ]
  }
 ],
 "metadata": {
  "kernelspec": {
   "display_name": "Python 3 (ipykernel)",
   "language": "python",
   "name": "python3"
  },
  "language_info": {
   "codemirror_mode": {
    "name": "ipython",
    "version": 3
   },
   "file_extension": ".py",
   "mimetype": "text/x-python",
   "name": "python",
   "nbconvert_exporter": "python",
   "pygments_lexer": "ipython3",
   "version": "3.10.4"
  }
 },
 "nbformat": 4,
 "nbformat_minor": 5
}
