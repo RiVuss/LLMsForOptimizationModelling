{
 "cells": [
  {
   "cell_type": "code",
   "execution_count": 1,
   "id": "e5c2c174",
   "metadata": {},
   "outputs": [],
   "source": [
    "import os\n",
    "from mistralai.client import MistralClient\n",
    "from mistralai.models.chat_completion import ChatMessage\n",
    "from IPython.display import display, Markdown, Latex\n",
    "from datetime import datetime"
   ]
  },
  {
   "cell_type": "code",
   "execution_count": 2,
   "id": "b0c91a62",
   "metadata": {},
   "outputs": [
    {
     "name": "stdout",
     "output_type": "stream",
     "text": [
      "Time of execution: 2024-06-12 18:09:41.759185\n"
     ]
    }
   ],
   "source": [
    "API_KEY = os.environ['MISTRAL_API_KEY']\n",
    "\n",
    "MODEL_ID = 'open-mixtral-8x22b'\n",
    "MODEL_SEED = 2\n",
    "MODEL_TEMPERATURE = 0.7\n",
    "\n",
    "file_system_prompt_1 = open(\"../system_prompt_1.txt\", \"r\")\n",
    "file_system_prompt_2 = open(\"../system_prompt_2.txt\", \"r\")\n",
    "user_prompt_1 = open(\"../user_prompt_1.txt\", \"r\")\n",
    "user_prompt_2 = open(\"../user_prompt_2.txt\", \"r\")\n",
    "user_prompt_3 = open(\"../user_prompt_3.txt\", \"r\")\n",
    "SYSTEM_PROMPT_1 = file_system_prompt_1.read()\n",
    "SYSTEM_PROMPT_2 = file_system_prompt_2.read()\n",
    "USER_PROMPT_1 = user_prompt_1.read()\n",
    "USER_PROMPT_2 = user_prompt_2.read()\n",
    "USER_PROMPT_3 = user_prompt_3.read()\n",
    "file_system_prompt_1.close()\n",
    "file_system_prompt_2.close()\n",
    "user_prompt_1.close()\n",
    "user_prompt_2.close()\n",
    "user_prompt_3.close()\n",
    "\n",
    "FILE_PATH_PROBLEM = '../../../../Datasets/LP_3_Weekly-Production-Metallurgical-Company/'\n",
    "assert(FILE_PATH_PROBLEM != '../../../../Datasets/')\n",
    "file_problem_description = open(FILE_PATH_PROBLEM + 'ProblemDescription.txt', 'r')\n",
    "PROBLEM_DESCRIPTION = file_problem_description.read()\n",
    "file_problem_description.close()\n",
    "\n",
    "\n",
    "\n",
    "client = MistralClient(api_key=API_KEY)\n",
    "\n",
    "print(f'Time of execution: {datetime.now()}')"
   ]
  },
  {
   "cell_type": "markdown",
   "id": "3e540824",
   "metadata": {},
   "source": [
    "## Step 1 - Generate Mathematical Formulation "
   ]
  },
  {
   "cell_type": "code",
   "execution_count": 3,
   "id": "174c127b",
   "metadata": {},
   "outputs": [],
   "source": [
    "messages_1 = [\n",
    "    ChatMessage(role=\"system\", content=SYSTEM_PROMPT_1),\n",
    "    ChatMessage(role=\"user\", content=PROBLEM_DESCRIPTION),\n",
    "    ChatMessage(role=\"user\", content=USER_PROMPT_1)\n",
    "]\n",
    "\n",
    "response_1 = client.chat(\n",
    "    model=MODEL_ID,\n",
    "    messages=messages_1,\n",
    "    random_seed=MODEL_SEED,\n",
    "    temperature=MODEL_TEMPERATURE \n",
    ")\n",
    "\n",
    "response_1_text = response_1.choices[0].message.content"
   ]
  },
  {
   "cell_type": "code",
   "execution_count": 4,
   "id": "03616e62",
   "metadata": {},
   "outputs": [
    {
     "data": {
      "text/markdown": [
       "Step 1: Define parameters and variables\n",
       "\n",
       "Let's denote the following parameters:\n",
       "\n",
       "- \\( C_{i,j} \\): The cost per unit for operation \\( j \\) of product \\( i \\).\n",
       "- \\( S_{i,j} \\): The smelting time per unit for operation \\( j \\) of product \\( i \\).\n",
       "- \\( M_{i,j} \\): The mechanisation time per unit for operation \\( j \\) of product \\( i \\).\n",
       "- \\( A_{i,j} \\): The assembly and packaging time per unit for operation \\( j \\) of product \\( i \\).\n",
       "- \\( P_i \\): The unit sales price of product \\( i \\).\n",
       "- \\( T_j \\): The available weekly capacity for operation \\( j \\).\n",
       "\n",
       "From the problem statement, we have:\n",
       "\n",
       "\\( i \\in \\{1, 2, 3\\} \\), \\( j \\in \\{1, 2\\} \\), where \\( j = 1 \\) refers to smelting at PRODA and \\( j = 2 \\) refers to subcontracted smelting.\n",
       "\n",
       "\\( C_{1,1} = 0.30 \\), \\( C_{1,2} = 0.50 \\), \\( C_{1,3} = 0.20 \\), \\( C_{1,4} = 0.30 \\), \\( P_1 = 1.50 \\),\n",
       "\\( C_{2,1} = 0.50 \\), \\( C_{2,2} = 0.60 \\), \\( C_{2,3} = 0.10 \\), \\( C_{2,4} = 0.20 \\), \\( P_2 = 1.80 \\),\n",
       "\\( C_{3,1} = 0.40 \\), \\( C_{3,2} = 0.27 \\), \\( C_{3,3} = 0.20 \\), \\( P_3 = 1.97 \\),\n",
       "\n",
       "\\( S_{1,1} = 6 \\), \\( S_{2,1} = 10 \\), \\( S_{3,1} = 8 \\),\n",
       "\\( M_{1,1} = 6 \\), \\( M_{2,1} = 3 \\), \\( M_{3,1} = 8 \\),\n",
       "\\( A_{1,1} = 3 \\), \\( A_{2,1} = 2 \\), \\( A_{3,1} = 2 \\),\n",
       "\\( T_1 = 8,000 \\), \\( T_2 = 12,000 \\), \\( T_3 = 10,000 \\).\n",
       "\n",
       "Now, let's define the decision variables:\n",
       "\n",
       "- \\( x_{i,j} \\): The number of units of product \\( i \\) for operation \\( j \\) to be produced.\n",
       "- \\( y_{i} \\): The number of units of product \\( i \\) to be subcontracted.\n",
       "\n",
       "We can now proceed to the second step."
      ],
      "text/plain": [
       "<IPython.core.display.Markdown object>"
      ]
     },
     "execution_count": 4,
     "metadata": {},
     "output_type": "execute_result"
    }
   ],
   "source": [
    "Markdown(response_1_text)"
   ]
  },
  {
   "cell_type": "code",
   "execution_count": 5,
   "id": "b6a33171",
   "metadata": {},
   "outputs": [
    {
     "name": "stdout",
     "output_type": "stream",
     "text": [
      "Step 1: Define parameters and variables\n",
      "\n",
      "Let's denote the following parameters:\n",
      "\n",
      "- \\( C_{i,j} \\): The cost per unit for operation \\( j \\) of product \\( i \\).\n",
      "- \\( S_{i,j} \\): The smelting time per unit for operation \\( j \\) of product \\( i \\).\n",
      "- \\( M_{i,j} \\): The mechanisation time per unit for operation \\( j \\) of product \\( i \\).\n",
      "- \\( A_{i,j} \\): The assembly and packaging time per unit for operation \\( j \\) of product \\( i \\).\n",
      "- \\( P_i \\): The unit sales price of product \\( i \\).\n",
      "- \\( T_j \\): The available weekly capacity for operation \\( j \\).\n",
      "\n",
      "From the problem statement, we have:\n",
      "\n",
      "\\( i \\in \\{1, 2, 3\\} \\), \\( j \\in \\{1, 2\\} \\), where \\( j = 1 \\) refers to smelting at PRODA and \\( j = 2 \\) refers to subcontracted smelting.\n",
      "\n",
      "\\( C_{1,1} = 0.30 \\), \\( C_{1,2} = 0.50 \\), \\( C_{1,3} = 0.20 \\), \\( C_{1,4} = 0.30 \\), \\( P_1 = 1.50 \\),\n",
      "\\( C_{2,1} = 0.50 \\), \\( C_{2,2} = 0.60 \\), \\( C_{2,3} = 0.10 \\), \\( C_{2,4} = 0.20 \\), \\( P_2 = 1.80 \\),\n",
      "\\( C_{3,1} = 0.40 \\), \\( C_{3,2} = 0.27 \\), \\( C_{3,3} = 0.20 \\), \\( P_3 = 1.97 \\),\n",
      "\n",
      "\\( S_{1,1} = 6 \\), \\( S_{2,1} = 10 \\), \\( S_{3,1} = 8 \\),\n",
      "\\( M_{1,1} = 6 \\), \\( M_{2,1} = 3 \\), \\( M_{3,1} = 8 \\),\n",
      "\\( A_{1,1} = 3 \\), \\( A_{2,1} = 2 \\), \\( A_{3,1} = 2 \\),\n",
      "\\( T_1 = 8,000 \\), \\( T_2 = 12,000 \\), \\( T_3 = 10,000 \\).\n",
      "\n",
      "Now, let's define the decision variables:\n",
      "\n",
      "- \\( x_{i,j} \\): The number of units of product \\( i \\) for operation \\( j \\) to be produced.\n",
      "- \\( y_{i} \\): The number of units of product \\( i \\) to be subcontracted.\n",
      "\n",
      "We can now proceed to the second step.\n"
     ]
    }
   ],
   "source": [
    "print(response_1_text)"
   ]
  },
  {
   "cell_type": "code",
   "execution_count": 6,
   "id": "9af61485",
   "metadata": {},
   "outputs": [],
   "source": [
    "messages_2 = [\n",
    "    ChatMessage(role=\"system\", content=SYSTEM_PROMPT_1),\n",
    "    ChatMessage(role=\"user\", content=PROBLEM_DESCRIPTION),\n",
    "    ChatMessage(role=\"user\", content=USER_PROMPT_1),\n",
    "    ChatMessage(role=\"assistant\", content=response_1_text),\n",
    "    ChatMessage(role=\"user\", content=USER_PROMPT_2),\n",
    "]\n",
    "\n",
    "response_2 = client.chat(\n",
    "    model=MODEL_ID,\n",
    "    messages=messages_2,\n",
    "    random_seed=MODEL_SEED,\n",
    "    temperature=MODEL_TEMPERATURE \n",
    ")\n",
    "\n",
    "response_2_text = response_2.choices[0].message.content"
   ]
  },
  {
   "cell_type": "code",
   "execution_count": 7,
   "id": "ac0f2659",
   "metadata": {},
   "outputs": [
    {
     "data": {
      "text/markdown": [
       "Step 2: Define the objective function\n",
       "\n",
       "The objective is to maximize weekly profits. We can calculate the profit by subtracting the total costs from the total revenue. The total revenue is the sum of the sales from each product, while the total cost is the sum of the costs for all operations, including smelting, mechanisation, and assembly and packaging.\n",
       "\n",
       "Let's denote the profit as \\( Z \\). The objective function can be written as:\n",
       "\n",
       "\\( Z = \\sum_{i=1}^{3} P_i \\left( x_{i,1} + y_i \\right) - \\sum_{i=1}^{3} \\left( C_{i,1} x_{i,1} + C_{i,2} y_i + C_{i,3} S_{i,1} x_{i,1} + C_{i,4} A_{i,1} \\left( x_{i,1} + y_i \\right) \\right) \\)\n",
       "\n",
       "We can simplify this expression by grouping the terms for each product:\n",
       "\n",
       "\\( Z = \\sum_{i=1}^{3} \\left[ \\left( P_i - C_{i,1} - C_{i,3} S_{i,1} - C_{i,4} A_{i,1} \\right) x_{i,1} + \\left( P_i - C_{i,2} - C_{i,4} A_{i,1} \\right) y_i \\right] \\)\n",
       "\n",
       "This is our objective function, which we aim to maximize.\n",
       "\n",
       "Now, let's proceed to the third step."
      ],
      "text/plain": [
       "<IPython.core.display.Markdown object>"
      ]
     },
     "execution_count": 7,
     "metadata": {},
     "output_type": "execute_result"
    }
   ],
   "source": [
    "Markdown(response_2_text)"
   ]
  },
  {
   "cell_type": "code",
   "execution_count": 8,
   "id": "6e93b2aa",
   "metadata": {},
   "outputs": [
    {
     "name": "stdout",
     "output_type": "stream",
     "text": [
      "Step 2: Define the objective function\n",
      "\n",
      "The objective is to maximize weekly profits. We can calculate the profit by subtracting the total costs from the total revenue. The total revenue is the sum of the sales from each product, while the total cost is the sum of the costs for all operations, including smelting, mechanisation, and assembly and packaging.\n",
      "\n",
      "Let's denote the profit as \\( Z \\). The objective function can be written as:\n",
      "\n",
      "\\( Z = \\sum_{i=1}^{3} P_i \\left( x_{i,1} + y_i \\right) - \\sum_{i=1}^{3} \\left( C_{i,1} x_{i,1} + C_{i,2} y_i + C_{i,3} S_{i,1} x_{i,1} + C_{i,4} A_{i,1} \\left( x_{i,1} + y_i \\right) \\right) \\)\n",
      "\n",
      "We can simplify this expression by grouping the terms for each product:\n",
      "\n",
      "\\( Z = \\sum_{i=1}^{3} \\left[ \\left( P_i - C_{i,1} - C_{i,3} S_{i,1} - C_{i,4} A_{i,1} \\right) x_{i,1} + \\left( P_i - C_{i,2} - C_{i,4} A_{i,1} \\right) y_i \\right] \\)\n",
      "\n",
      "This is our objective function, which we aim to maximize.\n",
      "\n",
      "Now, let's proceed to the third step.\n"
     ]
    }
   ],
   "source": [
    "print(response_2_text)"
   ]
  },
  {
   "cell_type": "code",
   "execution_count": 9,
   "id": "d7d2d8bc",
   "metadata": {},
   "outputs": [],
   "source": [
    "messages_3 = [\n",
    "    ChatMessage(role=\"system\", content=SYSTEM_PROMPT_1),\n",
    "    ChatMessage(role=\"user\", content=PROBLEM_DESCRIPTION),\n",
    "    ChatMessage(role=\"user\", content=USER_PROMPT_1),\n",
    "    ChatMessage(role=\"assistant\", content=response_1_text),\n",
    "    ChatMessage(role=\"user\", content=USER_PROMPT_2),\n",
    "    ChatMessage(role=\"assistant\", content=response_2_text),\n",
    "    ChatMessage(role=\"user\", content=USER_PROMPT_3),\n",
    "]\n",
    "\n",
    "response_3 = client.chat(\n",
    "    model=MODEL_ID,\n",
    "    messages=messages_3,\n",
    "    random_seed=MODEL_SEED,\n",
    "    temperature=MODEL_TEMPERATURE \n",
    ")\n",
    "\n",
    "response_3_text = response_3.choices[0].message.content"
   ]
  },
  {
   "cell_type": "code",
   "execution_count": 10,
   "id": "c4588e6c",
   "metadata": {},
   "outputs": [
    {
     "data": {
      "text/markdown": [
       "Step 3: Define the constraints\n",
       "\n",
       "Now, we need to define the constraints that must be satisfied to ensure that the production plan is feasible. There are three types of constraints in this problem: capacity constraints, non-negativity constraints, and subcontracting constraints.\n",
       "\n",
       "1. Capacity constraints: The total time required for each operation (smelting, mechanisation, and assembly and packaging) should not exceed the available weekly capacity.\n",
       "\n",
       "For smelting:\n",
       "\\( \\sum_{i=1}^{3} S_{i,1} x_{i,1} \\leq T_1 \\)\n",
       "\n",
       "For mechanisation:\n",
       "\\( \\sum_{i=1}^{3} M_{i,1} x_{i,1} \\leq T_2 \\)\n",
       "\n",
       "For assembly and packaging:\n",
       "\\( \\sum_{i=1}^{3} A_{i,1} \\left( x_{i,1} + y_i \\right) \\leq T_3 \\)\n",
       "\n",
       "2. Non-negativity constraints: All decision variables must be non-negative.\n",
       "\n",
       "\\( x_{i,1} \\geq 0 \\), \\( y_i \\geq 0 \\) for all \\( i \\in \\{1, 2, 3\\} \\)\n",
       "\n",
       "3. Subcontracting constraints: Since product P3 requires special equipment, it cannot be subcontracted.\n",
       "\n",
       "\\( y_3 = 0 \\)\n",
       "\n",
       "Now that we have defined the parameters, variables, objective function, and constraints, we have a complete mathematical optimization model. The next step is to use this model to find the optimal production plan for PRODA, S.A."
      ],
      "text/plain": [
       "<IPython.core.display.Markdown object>"
      ]
     },
     "execution_count": 10,
     "metadata": {},
     "output_type": "execute_result"
    }
   ],
   "source": [
    "Markdown(response_3_text)"
   ]
  },
  {
   "cell_type": "code",
   "execution_count": 11,
   "id": "b74cfcbe",
   "metadata": {},
   "outputs": [
    {
     "name": "stdout",
     "output_type": "stream",
     "text": [
      "Step 3: Define the constraints\n",
      "\n",
      "Now, we need to define the constraints that must be satisfied to ensure that the production plan is feasible. There are three types of constraints in this problem: capacity constraints, non-negativity constraints, and subcontracting constraints.\n",
      "\n",
      "1. Capacity constraints: The total time required for each operation (smelting, mechanisation, and assembly and packaging) should not exceed the available weekly capacity.\n",
      "\n",
      "For smelting:\n",
      "\\( \\sum_{i=1}^{3} S_{i,1} x_{i,1} \\leq T_1 \\)\n",
      "\n",
      "For mechanisation:\n",
      "\\( \\sum_{i=1}^{3} M_{i,1} x_{i,1} \\leq T_2 \\)\n",
      "\n",
      "For assembly and packaging:\n",
      "\\( \\sum_{i=1}^{3} A_{i,1} \\left( x_{i,1} + y_i \\right) \\leq T_3 \\)\n",
      "\n",
      "2. Non-negativity constraints: All decision variables must be non-negative.\n",
      "\n",
      "\\( x_{i,1} \\geq 0 \\), \\( y_i \\geq 0 \\) for all \\( i \\in \\{1, 2, 3\\} \\)\n",
      "\n",
      "3. Subcontracting constraints: Since product P3 requires special equipment, it cannot be subcontracted.\n",
      "\n",
      "\\( y_3 = 0 \\)\n",
      "\n",
      "Now that we have defined the parameters, variables, objective function, and constraints, we have a complete mathematical optimization model. The next step is to use this model to find the optimal production plan for PRODA, S.A.\n"
     ]
    }
   ],
   "source": [
    "print(response_3_text)"
   ]
  },
  {
   "cell_type": "code",
   "execution_count": 12,
   "id": "e73cd25c",
   "metadata": {},
   "outputs": [
    {
     "data": {
      "text/markdown": [
       "Step 1: Define parameters and variables\n",
       "\n",
       "Let's denote the following parameters:\n",
       "\n",
       "- \\( C_{i,j} \\): The cost per unit for operation \\( j \\) of product \\( i \\).\n",
       "- \\( S_{i,j} \\): The smelting time per unit for operation \\( j \\) of product \\( i \\).\n",
       "- \\( M_{i,j} \\): The mechanisation time per unit for operation \\( j \\) of product \\( i \\).\n",
       "- \\( A_{i,j} \\): The assembly and packaging time per unit for operation \\( j \\) of product \\( i \\).\n",
       "- \\( P_i \\): The unit sales price of product \\( i \\).\n",
       "- \\( T_j \\): The available weekly capacity for operation \\( j \\).\n",
       "\n",
       "From the problem statement, we have:\n",
       "\n",
       "\\( i \\in \\{1, 2, 3\\} \\), \\( j \\in \\{1, 2\\} \\), where \\( j = 1 \\) refers to smelting at PRODA and \\( j = 2 \\) refers to subcontracted smelting.\n",
       "\n",
       "\\( C_{1,1} = 0.30 \\), \\( C_{1,2} = 0.50 \\), \\( C_{1,3} = 0.20 \\), \\( C_{1,4} = 0.30 \\), \\( P_1 = 1.50 \\),\n",
       "\\( C_{2,1} = 0.50 \\), \\( C_{2,2} = 0.60 \\), \\( C_{2,3} = 0.10 \\), \\( C_{2,4} = 0.20 \\), \\( P_2 = 1.80 \\),\n",
       "\\( C_{3,1} = 0.40 \\), \\( C_{3,2} = 0.27 \\), \\( C_{3,3} = 0.20 \\), \\( P_3 = 1.97 \\),\n",
       "\n",
       "\\( S_{1,1} = 6 \\), \\( S_{2,1} = 10 \\), \\( S_{3,1} = 8 \\),\n",
       "\\( M_{1,1} = 6 \\), \\( M_{2,1} = 3 \\), \\( M_{3,1} = 8 \\),\n",
       "\\( A_{1,1} = 3 \\), \\( A_{2,1} = 2 \\), \\( A_{3,1} = 2 \\),\n",
       "\\( T_1 = 8,000 \\), \\( T_2 = 12,000 \\), \\( T_3 = 10,000 \\).\n",
       "\n",
       "Now, let's define the decision variables:\n",
       "\n",
       "- \\( x_{i,j} \\): The number of units of product \\( i \\) for operation \\( j \\) to be produced.\n",
       "- \\( y_{i} \\): The number of units of product \\( i \\) to be subcontracted.\n",
       "\n",
       "We can now proceed to the second step.\n",
       "Step 2: Define the objective function\n",
       "\n",
       "The objective is to maximize weekly profits. We can calculate the profit by subtracting the total costs from the total revenue. The total revenue is the sum of the sales from each product, while the total cost is the sum of the costs for all operations, including smelting, mechanisation, and assembly and packaging.\n",
       "\n",
       "Let's denote the profit as \\( Z \\). The objective function can be written as:\n",
       "\n",
       "\\( Z = \\sum_{i=1}^{3} P_i \\left( x_{i,1} + y_i \\right) - \\sum_{i=1}^{3} \\left( C_{i,1} x_{i,1} + C_{i,2} y_i + C_{i,3} S_{i,1} x_{i,1} + C_{i,4} A_{i,1} \\left( x_{i,1} + y_i \\right) \\right) \\)\n",
       "\n",
       "We can simplify this expression by grouping the terms for each product:\n",
       "\n",
       "\\( Z = \\sum_{i=1}^{3} \\left[ \\left( P_i - C_{i,1} - C_{i,3} S_{i,1} - C_{i,4} A_{i,1} \\right) x_{i,1} + \\left( P_i - C_{i,2} - C_{i,4} A_{i,1} \\right) y_i \\right] \\)\n",
       "\n",
       "This is our objective function, which we aim to maximize.\n",
       "\n",
       "Now, let's proceed to the third step.\n",
       "Step 3: Define the constraints\n",
       "\n",
       "Now, we need to define the constraints that must be satisfied to ensure that the production plan is feasible. There are three types of constraints in this problem: capacity constraints, non-negativity constraints, and subcontracting constraints.\n",
       "\n",
       "1. Capacity constraints: The total time required for each operation (smelting, mechanisation, and assembly and packaging) should not exceed the available weekly capacity.\n",
       "\n",
       "For smelting:\n",
       "\\( \\sum_{i=1}^{3} S_{i,1} x_{i,1} \\leq T_1 \\)\n",
       "\n",
       "For mechanisation:\n",
       "\\( \\sum_{i=1}^{3} M_{i,1} x_{i,1} \\leq T_2 \\)\n",
       "\n",
       "For assembly and packaging:\n",
       "\\( \\sum_{i=1}^{3} A_{i,1} \\left( x_{i,1} + y_i \\right) \\leq T_3 \\)\n",
       "\n",
       "2. Non-negativity constraints: All decision variables must be non-negative.\n",
       "\n",
       "\\( x_{i,1} \\geq 0 \\), \\( y_i \\geq 0 \\) for all \\( i \\in \\{1, 2, 3\\} \\)\n",
       "\n",
       "3. Subcontracting constraints: Since product P3 requires special equipment, it cannot be subcontracted.\n",
       "\n",
       "\\( y_3 = 0 \\)\n",
       "\n",
       "Now that we have defined the parameters, variables, objective function, and constraints, we have a complete mathematical optimization model. The next step is to use this model to find the optimal production plan for PRODA, S.A."
      ],
      "text/plain": [
       "<IPython.core.display.Markdown object>"
      ]
     },
     "execution_count": 12,
     "metadata": {},
     "output_type": "execute_result"
    }
   ],
   "source": [
    "response_text = '\\n'.join([response_1_text, response_2_text, response_3_text])\n",
    "\n",
    "Markdown(response_text)"
   ]
  },
  {
   "cell_type": "code",
   "execution_count": 13,
   "id": "dd3d0006",
   "metadata": {},
   "outputs": [
    {
     "name": "stdout",
     "output_type": "stream",
     "text": [
      "Step 1: Define parameters and variables\n",
      "\n",
      "Let's denote the following parameters:\n",
      "\n",
      "- \\( C_{i,j} \\): The cost per unit for operation \\( j \\) of product \\( i \\).\n",
      "- \\( S_{i,j} \\): The smelting time per unit for operation \\( j \\) of product \\( i \\).\n",
      "- \\( M_{i,j} \\): The mechanisation time per unit for operation \\( j \\) of product \\( i \\).\n",
      "- \\( A_{i,j} \\): The assembly and packaging time per unit for operation \\( j \\) of product \\( i \\).\n",
      "- \\( P_i \\): The unit sales price of product \\( i \\).\n",
      "- \\( T_j \\): The available weekly capacity for operation \\( j \\).\n",
      "\n",
      "From the problem statement, we have:\n",
      "\n",
      "\\( i \\in \\{1, 2, 3\\} \\), \\( j \\in \\{1, 2\\} \\), where \\( j = 1 \\) refers to smelting at PRODA and \\( j = 2 \\) refers to subcontracted smelting.\n",
      "\n",
      "\\( C_{1,1} = 0.30 \\), \\( C_{1,2} = 0.50 \\), \\( C_{1,3} = 0.20 \\), \\( C_{1,4} = 0.30 \\), \\( P_1 = 1.50 \\),\n",
      "\\( C_{2,1} = 0.50 \\), \\( C_{2,2} = 0.60 \\), \\( C_{2,3} = 0.10 \\), \\( C_{2,4} = 0.20 \\), \\( P_2 = 1.80 \\),\n",
      "\\( C_{3,1} = 0.40 \\), \\( C_{3,2} = 0.27 \\), \\( C_{3,3} = 0.20 \\), \\( P_3 = 1.97 \\),\n",
      "\n",
      "\\( S_{1,1} = 6 \\), \\( S_{2,1} = 10 \\), \\( S_{3,1} = 8 \\),\n",
      "\\( M_{1,1} = 6 \\), \\( M_{2,1} = 3 \\), \\( M_{3,1} = 8 \\),\n",
      "\\( A_{1,1} = 3 \\), \\( A_{2,1} = 2 \\), \\( A_{3,1} = 2 \\),\n",
      "\\( T_1 = 8,000 \\), \\( T_2 = 12,000 \\), \\( T_3 = 10,000 \\).\n",
      "\n",
      "Now, let's define the decision variables:\n",
      "\n",
      "- \\( x_{i,j} \\): The number of units of product \\( i \\) for operation \\( j \\) to be produced.\n",
      "- \\( y_{i} \\): The number of units of product \\( i \\) to be subcontracted.\n",
      "\n",
      "We can now proceed to the second step.\n",
      "Step 2: Define the objective function\n",
      "\n",
      "The objective is to maximize weekly profits. We can calculate the profit by subtracting the total costs from the total revenue. The total revenue is the sum of the sales from each product, while the total cost is the sum of the costs for all operations, including smelting, mechanisation, and assembly and packaging.\n",
      "\n",
      "Let's denote the profit as \\( Z \\). The objective function can be written as:\n",
      "\n",
      "\\( Z = \\sum_{i=1}^{3} P_i \\left( x_{i,1} + y_i \\right) - \\sum_{i=1}^{3} \\left( C_{i,1} x_{i,1} + C_{i,2} y_i + C_{i,3} S_{i,1} x_{i,1} + C_{i,4} A_{i,1} \\left( x_{i,1} + y_i \\right) \\right) \\)\n",
      "\n",
      "We can simplify this expression by grouping the terms for each product:\n",
      "\n",
      "\\( Z = \\sum_{i=1}^{3} \\left[ \\left( P_i - C_{i,1} - C_{i,3} S_{i,1} - C_{i,4} A_{i,1} \\right) x_{i,1} + \\left( P_i - C_{i,2} - C_{i,4} A_{i,1} \\right) y_i \\right] \\)\n",
      "\n",
      "This is our objective function, which we aim to maximize.\n",
      "\n",
      "Now, let's proceed to the third step.\n",
      "Step 3: Define the constraints\n",
      "\n",
      "Now, we need to define the constraints that must be satisfied to ensure that the production plan is feasible. There are three types of constraints in this problem: capacity constraints, non-negativity constraints, and subcontracting constraints.\n",
      "\n",
      "1. Capacity constraints: The total time required for each operation (smelting, mechanisation, and assembly and packaging) should not exceed the available weekly capacity.\n",
      "\n",
      "For smelting:\n",
      "\\( \\sum_{i=1}^{3} S_{i,1} x_{i,1} \\leq T_1 \\)\n",
      "\n",
      "For mechanisation:\n",
      "\\( \\sum_{i=1}^{3} M_{i,1} x_{i,1} \\leq T_2 \\)\n",
      "\n",
      "For assembly and packaging:\n",
      "\\( \\sum_{i=1}^{3} A_{i,1} \\left( x_{i,1} + y_i \\right) \\leq T_3 \\)\n",
      "\n",
      "2. Non-negativity constraints: All decision variables must be non-negative.\n",
      "\n",
      "\\( x_{i,1} \\geq 0 \\), \\( y_i \\geq 0 \\) for all \\( i \\in \\{1, 2, 3\\} \\)\n",
      "\n",
      "3. Subcontracting constraints: Since product P3 requires special equipment, it cannot be subcontracted.\n",
      "\n",
      "\\( y_3 = 0 \\)\n",
      "\n",
      "Now that we have defined the parameters, variables, objective function, and constraints, we have a complete mathematical optimization model. The next step is to use this model to find the optimal production plan for PRODA, S.A.\n"
     ]
    }
   ],
   "source": [
    "print(response_text)"
   ]
  },
  {
   "cell_type": "markdown",
   "id": "27b5f89a",
   "metadata": {},
   "source": [
    "## Step 2 - Generate the Pyomo Code"
   ]
  },
  {
   "cell_type": "code",
   "execution_count": 14,
   "id": "a4c3312f",
   "metadata": {},
   "outputs": [],
   "source": [
    "messages_4 = [\n",
    "    ChatMessage(role=\"system\", content=SYSTEM_PROMPT_2),\n",
    "    ChatMessage(role=\"user\", content=response_text)\n",
    "]"
   ]
  },
  {
   "cell_type": "code",
   "execution_count": 15,
   "id": "4212d99d",
   "metadata": {},
   "outputs": [],
   "source": [
    "response_4 = client.chat(\n",
    "    model=MODEL_ID,\n",
    "    messages=messages_4,\n",
    "    random_seed=MODEL_SEED,\n",
    "    temperature=MODEL_TEMPERATURE\n",
    ")\n",
    "\n",
    "response_4_text = response_4.choices[0].message.content"
   ]
  },
  {
   "cell_type": "code",
   "execution_count": 16,
   "id": "c168a60b",
   "metadata": {},
   "outputs": [
    {
     "data": {
      "text/markdown": [
       "Here is a Python code using Pyomo to solve the optimization problem:\n",
       "\n",
       "```python\n",
       "from pyomo.environ import *\n",
       "\n",
       "# Define the model\n",
       "model = ConcreteModel()\n",
       "\n",
       "# Define the sets\n",
       "model.I = RangeSet(1, 3)\n",
       "model.J = RangeSet(1, 2)\n",
       "\n",
       "# Define the parameters\n",
       "model.C = {(1, 1): 0.30, (1, 2): 0.50, (1, 3): 0.20, (1, 4): 0.30,\n",
       "           (2, 1): 0.50, (2, 2): 0.60, (2, 3): 0.10, (2, 4): 0.20,\n",
       "           (3, 1): 0.40, (3, 2): 0.27, (3, 3): 0.20}\n",
       "model.S = {(1, 1): 6, (2, 1): 10, (3, 1): 8}\n",
       "model.M = {(1, 1): 6, (2, 1): 3, (3, 1): 8}\n",
       "model.A = {(1, 1): 3, (2, 1): 2, (3, 1): 2}\n",
       "model.P = {1: 1.50, 2: 1.80, 3: 1.97}\n",
       "model.T = {1: 8000, 2: 12000, 3: 10000}\n",
       "\n",
       "# Define the decision variables\n",
       "model.x = Var(model.I, model.J, domain=NonNegativeReals)\n",
       "model.y = Var(model.I, domain=NonNegativeReals)\n",
       "\n",
       "# Define the objective function\n",
       "def obj_rule(model):\n",
       "    return sum((model.P[i] - model.C[i, 1] - model.C[i, 3] * model.S[i, 1] - model.C[i, 4] * model.A[i, 1]) * model.x[i, 1] +\n",
       "               (model.P[i] - model.C[i, 2] - model.C[i, 4] * model.A[i, 1]) * model.y[i] for i in model.I)\n",
       "model.obj = Objective(rule=obj_rule, sense=maximize)\n",
       "\n",
       "# Define the constraints\n",
       "def capacity_smelting_rule(model):\n",
       "    return sum(model.S[i, 1] * model.x[i, 1] for i in model.I) <= model.T[1]\n",
       "model.capacity_smelting = Constraint(rule=capacity_smelting_rule)\n",
       "\n",
       "def capacity_mechanisation_rule(model):\n",
       "    return sum(model.M[i, 1] * model.x[i, 1] for i in model.I) <= model.T[2]\n",
       "model.capacity_mechanisation = Constraint(rule=capacity_mechanisation_rule)\n",
       "\n",
       "def capacity_assembly_rule(model):\n",
       "    return sum(model.A[i, 1] * (model.x[i, 1] + model.y[i]) for i in model.I) <= model.T[3]\n",
       "model.capacity_assembly = Constraint(rule=capacity_assembly_rule)\n",
       "\n",
       "def non_negativity_rule(model, i):\n",
       "    return model.x[i, 1] >= 0, model.y[i] >= 0\n",
       "model.non_negativity = Constraint(model.I, rule=non_negativity_rule)\n",
       "\n",
       "def subcontracting_rule(model):\n",
       "    return model.y[3] == 0\n",
       "model.subcontracting = Constraint(rule=subcontracting_rule)\n",
       "\n",
       "# Solve the model\n",
       "SolverFactory('glpk').solve(model)\n",
       "\n",
       "# Print the results\n",
       "print(\"Objective value:\", model.obj())\n",
       "print(\"Production plan:\")\n",
       "for i in model.I:\n",
       "    print(f\"Product {i}: x = {model.x[i, 1]()}, y = {model.y[i]()}\")\n",
       "```\n",
       "\n",
       "This code defines the model, sets, parameters, decision variables, objective function, and constraints as described in the problem statement. It then uses the GLPK solver to find the optimal solution and prints the results. Please make sure to have Pyomo and a solver (e.g., GLPK) installed in your Python environment to run this code."
      ],
      "text/plain": [
       "<IPython.core.display.Markdown object>"
      ]
     },
     "execution_count": 16,
     "metadata": {},
     "output_type": "execute_result"
    }
   ],
   "source": [
    "Markdown(response_4_text)"
   ]
  },
  {
   "cell_type": "code",
   "execution_count": 17,
   "id": "a380c180",
   "metadata": {},
   "outputs": [
    {
     "name": "stdout",
     "output_type": "stream",
     "text": [
      "Here is a Python code using Pyomo to solve the optimization problem:\n",
      "\n",
      "```python\n",
      "from pyomo.environ import *\n",
      "\n",
      "# Define the model\n",
      "model = ConcreteModel()\n",
      "\n",
      "# Define the sets\n",
      "model.I = RangeSet(1, 3)\n",
      "model.J = RangeSet(1, 2)\n",
      "\n",
      "# Define the parameters\n",
      "model.C = {(1, 1): 0.30, (1, 2): 0.50, (1, 3): 0.20, (1, 4): 0.30,\n",
      "           (2, 1): 0.50, (2, 2): 0.60, (2, 3): 0.10, (2, 4): 0.20,\n",
      "           (3, 1): 0.40, (3, 2): 0.27, (3, 3): 0.20}\n",
      "model.S = {(1, 1): 6, (2, 1): 10, (3, 1): 8}\n",
      "model.M = {(1, 1): 6, (2, 1): 3, (3, 1): 8}\n",
      "model.A = {(1, 1): 3, (2, 1): 2, (3, 1): 2}\n",
      "model.P = {1: 1.50, 2: 1.80, 3: 1.97}\n",
      "model.T = {1: 8000, 2: 12000, 3: 10000}\n",
      "\n",
      "# Define the decision variables\n",
      "model.x = Var(model.I, model.J, domain=NonNegativeReals)\n",
      "model.y = Var(model.I, domain=NonNegativeReals)\n",
      "\n",
      "# Define the objective function\n",
      "def obj_rule(model):\n",
      "    return sum((model.P[i] - model.C[i, 1] - model.C[i, 3] * model.S[i, 1] - model.C[i, 4] * model.A[i, 1]) * model.x[i, 1] +\n",
      "               (model.P[i] - model.C[i, 2] - model.C[i, 4] * model.A[i, 1]) * model.y[i] for i in model.I)\n",
      "model.obj = Objective(rule=obj_rule, sense=maximize)\n",
      "\n",
      "# Define the constraints\n",
      "def capacity_smelting_rule(model):\n",
      "    return sum(model.S[i, 1] * model.x[i, 1] for i in model.I) <= model.T[1]\n",
      "model.capacity_smelting = Constraint(rule=capacity_smelting_rule)\n",
      "\n",
      "def capacity_mechanisation_rule(model):\n",
      "    return sum(model.M[i, 1] * model.x[i, 1] for i in model.I) <= model.T[2]\n",
      "model.capacity_mechanisation = Constraint(rule=capacity_mechanisation_rule)\n",
      "\n",
      "def capacity_assembly_rule(model):\n",
      "    return sum(model.A[i, 1] * (model.x[i, 1] + model.y[i]) for i in model.I) <= model.T[3]\n",
      "model.capacity_assembly = Constraint(rule=capacity_assembly_rule)\n",
      "\n",
      "def non_negativity_rule(model, i):\n",
      "    return model.x[i, 1] >= 0, model.y[i] >= 0\n",
      "model.non_negativity = Constraint(model.I, rule=non_negativity_rule)\n",
      "\n",
      "def subcontracting_rule(model):\n",
      "    return model.y[3] == 0\n",
      "model.subcontracting = Constraint(rule=subcontracting_rule)\n",
      "\n",
      "# Solve the model\n",
      "SolverFactory('glpk').solve(model)\n",
      "\n",
      "# Print the results\n",
      "print(\"Objective value:\", model.obj())\n",
      "print(\"Production plan:\")\n",
      "for i in model.I:\n",
      "    print(f\"Product {i}: x = {model.x[i, 1]()}, y = {model.y[i]()}\")\n",
      "```\n",
      "\n",
      "This code defines the model, sets, parameters, decision variables, objective function, and constraints as described in the problem statement. It then uses the GLPK solver to find the optimal solution and prints the results. Please make sure to have Pyomo and a solver (e.g., GLPK) installed in your Python environment to run this code.\n"
     ]
    }
   ],
   "source": [
    "print(response_4_text)"
   ]
  },
  {
   "cell_type": "markdown",
   "id": "879cc7ae",
   "metadata": {},
   "source": [
    "### Code Executability"
   ]
  },
  {
   "cell_type": "code",
   "execution_count": 18,
   "id": "f1d9a625",
   "metadata": {},
   "outputs": [
    {
     "name": "stderr",
     "output_type": "stream",
     "text": [
      "2024-06-12 18:11:45,290 ERROR pyomo.core: Rule failed when generating expression for Objective obj with index None:\n",
      "KeyError: (3, 4)\n",
      "2024-06-12 18:11:45,291 ERROR pyomo.core: Constructing component 'obj' from data=None failed:\n",
      "KeyError: (3, 4)\n"
     ]
    },
    {
     "ename": "KeyError",
     "evalue": "(3, 4)",
     "output_type": "error",
     "traceback": [
      "\u001b[1;31m---------------------------------------------------------------------------\u001b[0m",
      "\u001b[1;31mKeyError\u001b[0m                                  Traceback (most recent call last)",
      "Input \u001b[1;32mIn [18]\u001b[0m, in \u001b[0;36m<cell line: 28>\u001b[1;34m()\u001b[0m\n\u001b[0;32m     25\u001b[0m \u001b[38;5;28;01mdef\u001b[39;00m \u001b[38;5;21mobj_rule\u001b[39m(model):\n\u001b[0;32m     26\u001b[0m     \u001b[38;5;28;01mreturn\u001b[39;00m \u001b[38;5;28msum\u001b[39m((model\u001b[38;5;241m.\u001b[39mP[i] \u001b[38;5;241m-\u001b[39m model\u001b[38;5;241m.\u001b[39mC[i, \u001b[38;5;241m1\u001b[39m] \u001b[38;5;241m-\u001b[39m model\u001b[38;5;241m.\u001b[39mC[i, \u001b[38;5;241m3\u001b[39m] \u001b[38;5;241m*\u001b[39m model\u001b[38;5;241m.\u001b[39mS[i, \u001b[38;5;241m1\u001b[39m] \u001b[38;5;241m-\u001b[39m model\u001b[38;5;241m.\u001b[39mC[i, \u001b[38;5;241m4\u001b[39m] \u001b[38;5;241m*\u001b[39m model\u001b[38;5;241m.\u001b[39mA[i, \u001b[38;5;241m1\u001b[39m]) \u001b[38;5;241m*\u001b[39m model\u001b[38;5;241m.\u001b[39mx[i, \u001b[38;5;241m1\u001b[39m] \u001b[38;5;241m+\u001b[39m\n\u001b[0;32m     27\u001b[0m                (model\u001b[38;5;241m.\u001b[39mP[i] \u001b[38;5;241m-\u001b[39m model\u001b[38;5;241m.\u001b[39mC[i, \u001b[38;5;241m2\u001b[39m] \u001b[38;5;241m-\u001b[39m model\u001b[38;5;241m.\u001b[39mC[i, \u001b[38;5;241m4\u001b[39m] \u001b[38;5;241m*\u001b[39m model\u001b[38;5;241m.\u001b[39mA[i, \u001b[38;5;241m1\u001b[39m]) \u001b[38;5;241m*\u001b[39m model\u001b[38;5;241m.\u001b[39my[i] \u001b[38;5;28;01mfor\u001b[39;00m i \u001b[38;5;129;01min\u001b[39;00m model\u001b[38;5;241m.\u001b[39mI)\n\u001b[1;32m---> 28\u001b[0m model\u001b[38;5;241m.\u001b[39mobj \u001b[38;5;241m=\u001b[39m Objective(rule\u001b[38;5;241m=\u001b[39mobj_rule, sense\u001b[38;5;241m=\u001b[39mmaximize)\n\u001b[0;32m     30\u001b[0m \u001b[38;5;66;03m# Define the constraints\u001b[39;00m\n\u001b[0;32m     31\u001b[0m \u001b[38;5;28;01mdef\u001b[39;00m \u001b[38;5;21mcapacity_smelting_rule\u001b[39m(model):\n",
      "File \u001b[1;32m~\\AppData\\Roaming\\Python\\Python310\\site-packages\\pyomo\\core\\base\\block.py:639\u001b[0m, in \u001b[0;36m_BlockData.__setattr__\u001b[1;34m(self, name, val)\u001b[0m\n\u001b[0;32m    634\u001b[0m \u001b[38;5;28;01mif\u001b[39;00m name \u001b[38;5;129;01mnot\u001b[39;00m \u001b[38;5;129;01min\u001b[39;00m \u001b[38;5;28mself\u001b[39m\u001b[38;5;241m.\u001b[39m\u001b[38;5;18m__dict__\u001b[39m:\n\u001b[0;32m    635\u001b[0m     \u001b[38;5;28;01mif\u001b[39;00m \u001b[38;5;28misinstance\u001b[39m(val, Component):\n\u001b[0;32m    636\u001b[0m         \u001b[38;5;66;03m#\u001b[39;00m\n\u001b[0;32m    637\u001b[0m         \u001b[38;5;66;03m# Pyomo components are added with the add_component method.\u001b[39;00m\n\u001b[0;32m    638\u001b[0m         \u001b[38;5;66;03m#\u001b[39;00m\n\u001b[1;32m--> 639\u001b[0m         \u001b[38;5;28;43mself\u001b[39;49m\u001b[38;5;241;43m.\u001b[39;49m\u001b[43madd_component\u001b[49m\u001b[43m(\u001b[49m\u001b[43mname\u001b[49m\u001b[43m,\u001b[49m\u001b[43m \u001b[49m\u001b[43mval\u001b[49m\u001b[43m)\u001b[49m\n\u001b[0;32m    640\u001b[0m     \u001b[38;5;28;01melse\u001b[39;00m:\n\u001b[0;32m    641\u001b[0m         \u001b[38;5;66;03m#\u001b[39;00m\n\u001b[0;32m    642\u001b[0m         \u001b[38;5;66;03m# Other Python objects are added with the standard __setattr__\u001b[39;00m\n\u001b[0;32m    643\u001b[0m         \u001b[38;5;66;03m# method.\u001b[39;00m\n\u001b[0;32m    644\u001b[0m         \u001b[38;5;66;03m#\u001b[39;00m\n\u001b[0;32m    645\u001b[0m         \u001b[38;5;28msuper\u001b[39m(_BlockData, \u001b[38;5;28mself\u001b[39m)\u001b[38;5;241m.\u001b[39m\u001b[38;5;21m__setattr__\u001b[39m(name, val)\n",
      "File \u001b[1;32m~\\AppData\\Roaming\\Python\\Python310\\site-packages\\pyomo\\core\\base\\block.py:1186\u001b[0m, in \u001b[0;36m_BlockData.add_component\u001b[1;34m(self, name, val)\u001b[0m\n\u001b[0;32m   1182\u001b[0m     logger\u001b[38;5;241m.\u001b[39mdebug(\u001b[38;5;124m\"\u001b[39m\u001b[38;5;124mConstructing \u001b[39m\u001b[38;5;132;01m%s\u001b[39;00m\u001b[38;5;124m \u001b[39m\u001b[38;5;124m'\u001b[39m\u001b[38;5;132;01m%s\u001b[39;00m\u001b[38;5;124m'\u001b[39m\u001b[38;5;124m on \u001b[39m\u001b[38;5;132;01m%s\u001b[39;00m\u001b[38;5;124m from data=\u001b[39m\u001b[38;5;132;01m%s\u001b[39;00m\u001b[38;5;124m\"\u001b[39m,\n\u001b[0;32m   1183\u001b[0m                  val\u001b[38;5;241m.\u001b[39m\u001b[38;5;18m__class__\u001b[39m\u001b[38;5;241m.\u001b[39m\u001b[38;5;18m__name__\u001b[39m, name,\n\u001b[0;32m   1184\u001b[0m                  _blockName, \u001b[38;5;28mstr\u001b[39m(data))\n\u001b[0;32m   1185\u001b[0m \u001b[38;5;28;01mtry\u001b[39;00m:\n\u001b[1;32m-> 1186\u001b[0m     \u001b[43mval\u001b[49m\u001b[38;5;241;43m.\u001b[39;49m\u001b[43mconstruct\u001b[49m\u001b[43m(\u001b[49m\u001b[43mdata\u001b[49m\u001b[43m)\u001b[49m\n\u001b[0;32m   1187\u001b[0m \u001b[38;5;28;01mexcept\u001b[39;00m:\n\u001b[0;32m   1188\u001b[0m     err \u001b[38;5;241m=\u001b[39m sys\u001b[38;5;241m.\u001b[39mexc_info()[\u001b[38;5;241m1\u001b[39m]\n",
      "File \u001b[1;32m~\\AppData\\Roaming\\Python\\Python310\\site-packages\\pyomo\\core\\base\\objective.py:334\u001b[0m, in \u001b[0;36mObjective.construct\u001b[1;34m(self, data)\u001b[0m\n\u001b[0;32m    330\u001b[0m \u001b[38;5;28;01melse\u001b[39;00m:\n\u001b[0;32m    331\u001b[0m     \u001b[38;5;66;03m# Bypass the index validation and create the member directly\u001b[39;00m\n\u001b[0;32m    332\u001b[0m     \u001b[38;5;28;01mfor\u001b[39;00m index \u001b[38;5;129;01min\u001b[39;00m \u001b[38;5;28mself\u001b[39m\u001b[38;5;241m.\u001b[39mindex_set():\n\u001b[0;32m    333\u001b[0m         ans \u001b[38;5;241m=\u001b[39m \u001b[38;5;28mself\u001b[39m\u001b[38;5;241m.\u001b[39m_setitem_when_not_present(\n\u001b[1;32m--> 334\u001b[0m             index, \u001b[43mrule\u001b[49m\u001b[43m(\u001b[49m\u001b[43mblock\u001b[49m\u001b[43m,\u001b[49m\u001b[43m \u001b[49m\u001b[43mindex\u001b[49m\u001b[43m)\u001b[49m)\n\u001b[0;32m    335\u001b[0m         \u001b[38;5;28;01mif\u001b[39;00m ans \u001b[38;5;129;01mis\u001b[39;00m \u001b[38;5;129;01mnot\u001b[39;00m \u001b[38;5;28;01mNone\u001b[39;00m:\n\u001b[0;32m    336\u001b[0m             ans\u001b[38;5;241m.\u001b[39mset_sense(\u001b[38;5;28mself\u001b[39m\u001b[38;5;241m.\u001b[39m_init_sense(block, index))\n",
      "File \u001b[1;32m~\\AppData\\Roaming\\Python\\Python310\\site-packages\\pyomo\\core\\base\\initializer.py:402\u001b[0m, in \u001b[0;36mScalarCallInitializer.__call__\u001b[1;34m(self, parent, idx)\u001b[0m\n\u001b[0;32m    401\u001b[0m \u001b[38;5;28;01mdef\u001b[39;00m \u001b[38;5;21m__call__\u001b[39m(\u001b[38;5;28mself\u001b[39m, parent, idx):\n\u001b[1;32m--> 402\u001b[0m     \u001b[38;5;28;01mreturn\u001b[39;00m \u001b[38;5;28;43mself\u001b[39;49m\u001b[38;5;241;43m.\u001b[39;49m\u001b[43m_fcn\u001b[49m\u001b[43m(\u001b[49m\u001b[43mparent\u001b[49m\u001b[43m)\u001b[49m\n",
      "Input \u001b[1;32mIn [18]\u001b[0m, in \u001b[0;36mobj_rule\u001b[1;34m(model)\u001b[0m\n\u001b[0;32m     25\u001b[0m \u001b[38;5;28;01mdef\u001b[39;00m \u001b[38;5;21mobj_rule\u001b[39m(model):\n\u001b[1;32m---> 26\u001b[0m     \u001b[38;5;28;01mreturn\u001b[39;00m \u001b[38;5;28;43msum\u001b[39;49m\u001b[43m(\u001b[49m\u001b[43m(\u001b[49m\u001b[43mmodel\u001b[49m\u001b[38;5;241;43m.\u001b[39;49m\u001b[43mP\u001b[49m\u001b[43m[\u001b[49m\u001b[43mi\u001b[49m\u001b[43m]\u001b[49m\u001b[43m \u001b[49m\u001b[38;5;241;43m-\u001b[39;49m\u001b[43m \u001b[49m\u001b[43mmodel\u001b[49m\u001b[38;5;241;43m.\u001b[39;49m\u001b[43mC\u001b[49m\u001b[43m[\u001b[49m\u001b[43mi\u001b[49m\u001b[43m,\u001b[49m\u001b[43m \u001b[49m\u001b[38;5;241;43m1\u001b[39;49m\u001b[43m]\u001b[49m\u001b[43m \u001b[49m\u001b[38;5;241;43m-\u001b[39;49m\u001b[43m \u001b[49m\u001b[43mmodel\u001b[49m\u001b[38;5;241;43m.\u001b[39;49m\u001b[43mC\u001b[49m\u001b[43m[\u001b[49m\u001b[43mi\u001b[49m\u001b[43m,\u001b[49m\u001b[43m \u001b[49m\u001b[38;5;241;43m3\u001b[39;49m\u001b[43m]\u001b[49m\u001b[43m \u001b[49m\u001b[38;5;241;43m*\u001b[39;49m\u001b[43m \u001b[49m\u001b[43mmodel\u001b[49m\u001b[38;5;241;43m.\u001b[39;49m\u001b[43mS\u001b[49m\u001b[43m[\u001b[49m\u001b[43mi\u001b[49m\u001b[43m,\u001b[49m\u001b[43m \u001b[49m\u001b[38;5;241;43m1\u001b[39;49m\u001b[43m]\u001b[49m\u001b[43m \u001b[49m\u001b[38;5;241;43m-\u001b[39;49m\u001b[43m \u001b[49m\u001b[43mmodel\u001b[49m\u001b[38;5;241;43m.\u001b[39;49m\u001b[43mC\u001b[49m\u001b[43m[\u001b[49m\u001b[43mi\u001b[49m\u001b[43m,\u001b[49m\u001b[43m \u001b[49m\u001b[38;5;241;43m4\u001b[39;49m\u001b[43m]\u001b[49m\u001b[43m \u001b[49m\u001b[38;5;241;43m*\u001b[39;49m\u001b[43m \u001b[49m\u001b[43mmodel\u001b[49m\u001b[38;5;241;43m.\u001b[39;49m\u001b[43mA\u001b[49m\u001b[43m[\u001b[49m\u001b[43mi\u001b[49m\u001b[43m,\u001b[49m\u001b[43m \u001b[49m\u001b[38;5;241;43m1\u001b[39;49m\u001b[43m]\u001b[49m\u001b[43m)\u001b[49m\u001b[43m \u001b[49m\u001b[38;5;241;43m*\u001b[39;49m\u001b[43m \u001b[49m\u001b[43mmodel\u001b[49m\u001b[38;5;241;43m.\u001b[39;49m\u001b[43mx\u001b[49m\u001b[43m[\u001b[49m\u001b[43mi\u001b[49m\u001b[43m,\u001b[49m\u001b[43m \u001b[49m\u001b[38;5;241;43m1\u001b[39;49m\u001b[43m]\u001b[49m\u001b[43m \u001b[49m\u001b[38;5;241;43m+\u001b[39;49m\n\u001b[0;32m     27\u001b[0m \u001b[43m               \u001b[49m\u001b[43m(\u001b[49m\u001b[43mmodel\u001b[49m\u001b[38;5;241;43m.\u001b[39;49m\u001b[43mP\u001b[49m\u001b[43m[\u001b[49m\u001b[43mi\u001b[49m\u001b[43m]\u001b[49m\u001b[43m \u001b[49m\u001b[38;5;241;43m-\u001b[39;49m\u001b[43m \u001b[49m\u001b[43mmodel\u001b[49m\u001b[38;5;241;43m.\u001b[39;49m\u001b[43mC\u001b[49m\u001b[43m[\u001b[49m\u001b[43mi\u001b[49m\u001b[43m,\u001b[49m\u001b[43m \u001b[49m\u001b[38;5;241;43m2\u001b[39;49m\u001b[43m]\u001b[49m\u001b[43m \u001b[49m\u001b[38;5;241;43m-\u001b[39;49m\u001b[43m \u001b[49m\u001b[43mmodel\u001b[49m\u001b[38;5;241;43m.\u001b[39;49m\u001b[43mC\u001b[49m\u001b[43m[\u001b[49m\u001b[43mi\u001b[49m\u001b[43m,\u001b[49m\u001b[43m \u001b[49m\u001b[38;5;241;43m4\u001b[39;49m\u001b[43m]\u001b[49m\u001b[43m \u001b[49m\u001b[38;5;241;43m*\u001b[39;49m\u001b[43m \u001b[49m\u001b[43mmodel\u001b[49m\u001b[38;5;241;43m.\u001b[39;49m\u001b[43mA\u001b[49m\u001b[43m[\u001b[49m\u001b[43mi\u001b[49m\u001b[43m,\u001b[49m\u001b[43m \u001b[49m\u001b[38;5;241;43m1\u001b[39;49m\u001b[43m]\u001b[49m\u001b[43m)\u001b[49m\u001b[43m \u001b[49m\u001b[38;5;241;43m*\u001b[39;49m\u001b[43m \u001b[49m\u001b[43mmodel\u001b[49m\u001b[38;5;241;43m.\u001b[39;49m\u001b[43my\u001b[49m\u001b[43m[\u001b[49m\u001b[43mi\u001b[49m\u001b[43m]\u001b[49m\u001b[43m \u001b[49m\u001b[38;5;28;43;01mfor\u001b[39;49;00m\u001b[43m \u001b[49m\u001b[43mi\u001b[49m\u001b[43m \u001b[49m\u001b[38;5;129;43;01min\u001b[39;49;00m\u001b[43m \u001b[49m\u001b[43mmodel\u001b[49m\u001b[38;5;241;43m.\u001b[39;49m\u001b[43mI\u001b[49m\u001b[43m)\u001b[49m\n",
      "Input \u001b[1;32mIn [18]\u001b[0m, in \u001b[0;36m<genexpr>\u001b[1;34m(.0)\u001b[0m\n\u001b[0;32m     25\u001b[0m \u001b[38;5;28;01mdef\u001b[39;00m \u001b[38;5;21mobj_rule\u001b[39m(model):\n\u001b[1;32m---> 26\u001b[0m     \u001b[38;5;28;01mreturn\u001b[39;00m \u001b[38;5;28msum\u001b[39m((model\u001b[38;5;241m.\u001b[39mP[i] \u001b[38;5;241m-\u001b[39m model\u001b[38;5;241m.\u001b[39mC[i, \u001b[38;5;241m1\u001b[39m] \u001b[38;5;241m-\u001b[39m model\u001b[38;5;241m.\u001b[39mC[i, \u001b[38;5;241m3\u001b[39m] \u001b[38;5;241m*\u001b[39m model\u001b[38;5;241m.\u001b[39mS[i, \u001b[38;5;241m1\u001b[39m] \u001b[38;5;241m-\u001b[39m \u001b[43mmodel\u001b[49m\u001b[38;5;241;43m.\u001b[39;49m\u001b[43mC\u001b[49m\u001b[43m[\u001b[49m\u001b[43mi\u001b[49m\u001b[43m,\u001b[49m\u001b[43m \u001b[49m\u001b[38;5;241;43m4\u001b[39;49m\u001b[43m]\u001b[49m \u001b[38;5;241m*\u001b[39m model\u001b[38;5;241m.\u001b[39mA[i, \u001b[38;5;241m1\u001b[39m]) \u001b[38;5;241m*\u001b[39m model\u001b[38;5;241m.\u001b[39mx[i, \u001b[38;5;241m1\u001b[39m] \u001b[38;5;241m+\u001b[39m\n\u001b[0;32m     27\u001b[0m                (model\u001b[38;5;241m.\u001b[39mP[i] \u001b[38;5;241m-\u001b[39m model\u001b[38;5;241m.\u001b[39mC[i, \u001b[38;5;241m2\u001b[39m] \u001b[38;5;241m-\u001b[39m model\u001b[38;5;241m.\u001b[39mC[i, \u001b[38;5;241m4\u001b[39m] \u001b[38;5;241m*\u001b[39m model\u001b[38;5;241m.\u001b[39mA[i, \u001b[38;5;241m1\u001b[39m]) \u001b[38;5;241m*\u001b[39m model\u001b[38;5;241m.\u001b[39my[i] \u001b[38;5;28;01mfor\u001b[39;00m i \u001b[38;5;129;01min\u001b[39;00m model\u001b[38;5;241m.\u001b[39mI)\n",
      "\u001b[1;31mKeyError\u001b[0m: (3, 4)"
     ]
    }
   ],
   "source": [
    "from pyomo.environ import *\n",
    "\n",
    "# Define the model\n",
    "model = ConcreteModel()\n",
    "\n",
    "# Define the sets\n",
    "model.I = RangeSet(1, 3)\n",
    "model.J = RangeSet(1, 2)\n",
    "\n",
    "# Define the parameters\n",
    "model.C = {(1, 1): 0.30, (1, 2): 0.50, (1, 3): 0.20, (1, 4): 0.30,\n",
    "           (2, 1): 0.50, (2, 2): 0.60, (2, 3): 0.10, (2, 4): 0.20,\n",
    "           (3, 1): 0.40, (3, 2): 0.27, (3, 3): 0.20}\n",
    "model.S = {(1, 1): 6, (2, 1): 10, (3, 1): 8}\n",
    "model.M = {(1, 1): 6, (2, 1): 3, (3, 1): 8}\n",
    "model.A = {(1, 1): 3, (2, 1): 2, (3, 1): 2}\n",
    "model.P = {1: 1.50, 2: 1.80, 3: 1.97}\n",
    "model.T = {1: 8000, 2: 12000, 3: 10000}\n",
    "\n",
    "# Define the decision variables\n",
    "model.x = Var(model.I, model.J, domain=NonNegativeReals)\n",
    "model.y = Var(model.I, domain=NonNegativeReals)\n",
    "\n",
    "# Define the objective function\n",
    "def obj_rule(model):\n",
    "    return sum((model.P[i] - model.C[i, 1] - model.C[i, 3] * model.S[i, 1] - model.C[i, 4] * model.A[i, 1]) * model.x[i, 1] +\n",
    "               (model.P[i] - model.C[i, 2] - model.C[i, 4] * model.A[i, 1]) * model.y[i] for i in model.I)\n",
    "model.obj = Objective(rule=obj_rule, sense=maximize)\n",
    "\n",
    "# Define the constraints\n",
    "def capacity_smelting_rule(model):\n",
    "    return sum(model.S[i, 1] * model.x[i, 1] for i in model.I) <= model.T[1]\n",
    "model.capacity_smelting = Constraint(rule=capacity_smelting_rule)\n",
    "\n",
    "def capacity_mechanisation_rule(model):\n",
    "    return sum(model.M[i, 1] * model.x[i, 1] for i in model.I) <= model.T[2]\n",
    "model.capacity_mechanisation = Constraint(rule=capacity_mechanisation_rule)\n",
    "\n",
    "def capacity_assembly_rule(model):\n",
    "    return sum(model.A[i, 1] * (model.x[i, 1] + model.y[i]) for i in model.I) <= model.T[3]\n",
    "model.capacity_assembly = Constraint(rule=capacity_assembly_rule)\n",
    "\n",
    "def non_negativity_rule(model, i):\n",
    "    return model.x[i, 1] >= 0, model.y[i] >= 0\n",
    "model.non_negativity = Constraint(model.I, rule=non_negativity_rule)\n",
    "\n",
    "def subcontracting_rule(model):\n",
    "    return model.y[3] == 0\n",
    "model.subcontracting = Constraint(rule=subcontracting_rule)\n",
    "\n",
    "# Solve the model\n",
    "SolverFactory('glpk').solve(model)\n",
    "\n",
    "# Print the results\n",
    "print(\"Objective value:\", model.obj())\n",
    "print(\"Production plan:\")\n",
    "for i in model.I:\n",
    "    print(f\"Product {i}: x = {model.x[i, 1]()}, y = {model.y[i]()}\")"
   ]
  },
  {
   "cell_type": "markdown",
   "id": "95f5c3a8",
   "metadata": {},
   "source": [
    "### Solution Correctness"
   ]
  },
  {
   "cell_type": "code",
   "execution_count": 23,
   "id": "01245691",
   "metadata": {},
   "outputs": [
    {
     "name": "stdout",
     "output_type": "stream",
     "text": [
      "Objective value: 4000.000000000001\n",
      "Production plan:\n",
      "Product 1: x = 0.0, y = 0.0\n",
      "Product 2: x = 0.0, y = 5000.0\n",
      "Product 3: x = 0.0, y = 0.0\n"
     ]
    }
   ],
   "source": [
    "from pyomo.environ import *\n",
    "\n",
    "# Define the model\n",
    "model = ConcreteModel()\n",
    "\n",
    "# Define the sets\n",
    "model.I = RangeSet(1, 3)\n",
    "model.J = RangeSet(1, 2)\n",
    "\n",
    "# Define the parameters\n",
    "model.C = {(1, 1): 0.30, (1, 2): 0.50, (1, 3): 0.20, (1, 4): 0.30,\n",
    "           (2, 1): 0.50, (2, 2): 0.60, (2, 3): 0.10, (2, 4): 0.20,\n",
    "           (3, 1): 0.40, (3, 2): 0, (3, 3): 0.27, (3, 4): 0.2}\n",
    "model.S = {(1, 1): 6, (2, 1): 10, (3, 1): 8}\n",
    "model.M = {(1, 1): 6, (2, 1): 3, (3, 1): 8}\n",
    "model.A = {(1, 1): 3, (2, 1): 2, (3, 1): 2}\n",
    "model.P = {1: 1.50, 2: 1.80, 3: 1.97}\n",
    "model.T = {1: 8000, 2: 12000, 3: 10000}\n",
    "\n",
    "# Define the decision variables\n",
    "model.x = Var(model.I, model.J, domain=NonNegativeReals)\n",
    "model.y = Var(model.I, domain=NonNegativeReals)\n",
    "\n",
    "# Define the objective function\n",
    "def obj_rule(model):\n",
    "    return sum((model.P[i] - model.C[i, 1] - model.C[i, 3] * model.S[i, 1] - model.C[i, 4] * model.A[i, 1]) * model.x[i, 1] +\n",
    "               (model.P[i] - model.C[i, 2] - model.C[i, 4] * model.A[i, 1]) * model.y[i] for i in model.I)\n",
    "model.obj = Objective(rule=obj_rule, sense=maximize)\n",
    "\n",
    "# Define the constraints\n",
    "def capacity_smelting_rule(model):\n",
    "    return sum(model.S[i, 1] * model.x[i, 1] for i in model.I) <= model.T[1]\n",
    "model.capacity_smelting = Constraint(rule=capacity_smelting_rule)\n",
    "\n",
    "def capacity_mechanisation_rule(model):\n",
    "    return sum(model.M[i, 1] * model.x[i, 1] for i in model.I) <= model.T[2]\n",
    "model.capacity_mechanisation = Constraint(rule=capacity_mechanisation_rule)\n",
    "\n",
    "def capacity_assembly_rule(model):\n",
    "    return sum(model.A[i, 1] * (model.x[i, 1] + model.y[i]) for i in model.I) <= model.T[3]\n",
    "model.capacity_assembly = Constraint(rule=capacity_assembly_rule)\n",
    "\n",
    "def subcontracting_rule(model):\n",
    "    return model.y[3] == 0\n",
    "model.subcontracting = Constraint(rule=subcontracting_rule)\n",
    "\n",
    "# Solve the model\n",
    "SolverFactory('glpk').solve(model)\n",
    "\n",
    "# Print the results\n",
    "print(\"Objective value:\", model.obj())\n",
    "print(\"Production plan:\")\n",
    "for i in model.I:\n",
    "    print(f\"Product {i}: x = {model.x[i, 1]()}, y = {model.y[i]()}\")"
   ]
  }
 ],
 "metadata": {
  "kernelspec": {
   "display_name": "Python 3 (ipykernel)",
   "language": "python",
   "name": "python3"
  },
  "language_info": {
   "codemirror_mode": {
    "name": "ipython",
    "version": 3
   },
   "file_extension": ".py",
   "mimetype": "text/x-python",
   "name": "python",
   "nbconvert_exporter": "python",
   "pygments_lexer": "ipython3",
   "version": "3.10.4"
  }
 },
 "nbformat": 4,
 "nbformat_minor": 5
}
