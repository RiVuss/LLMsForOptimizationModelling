{
 "cells": [
  {
   "cell_type": "code",
   "execution_count": 1,
   "id": "e5c2c174",
   "metadata": {},
   "outputs": [],
   "source": [
    "import os\n",
    "from mistralai.client import MistralClient\n",
    "from mistralai.models.chat_completion import ChatMessage\n",
    "from IPython.display import display, Markdown, Latex\n",
    "from datetime import datetime"
   ]
  },
  {
   "cell_type": "code",
   "execution_count": 2,
   "id": "b0c91a62",
   "metadata": {},
   "outputs": [
    {
     "name": "stdout",
     "output_type": "stream",
     "text": [
      "Time of execution: 2024-06-13 17:22:37.812627\n"
     ]
    }
   ],
   "source": [
    "API_KEY = os.environ['MISTRAL_API_KEY']\n",
    "\n",
    "MODEL_ID = 'open-mixtral-8x22b'\n",
    "MODEL_SEED = 2\n",
    "MODEL_TEMPERATURE = 0.7\n",
    "\n",
    "file_system_prompt_1 = open(\"../system_prompt_1.txt\", \"r\")\n",
    "file_system_prompt_2 = open(\"../system_prompt_2.txt\", \"r\")\n",
    "user_prompt_1 = open(\"../user_prompt_1.txt\", \"r\")\n",
    "user_prompt_2 = open(\"../user_prompt_2.txt\", \"r\")\n",
    "user_prompt_3 = open(\"../user_prompt_3.txt\", \"r\")\n",
    "SYSTEM_PROMPT_1 = file_system_prompt_1.read()\n",
    "SYSTEM_PROMPT_2 = file_system_prompt_2.read()\n",
    "USER_PROMPT_1 = user_prompt_1.read()\n",
    "USER_PROMPT_2 = user_prompt_2.read()\n",
    "USER_PROMPT_3 = user_prompt_3.read()\n",
    "file_system_prompt_1.close()\n",
    "file_system_prompt_2.close()\n",
    "user_prompt_1.close()\n",
    "user_prompt_2.close()\n",
    "user_prompt_3.close()\n",
    "\n",
    "FILE_PATH_PROBLEM = '../../../../Datasets/MIP_4_Water_Network/'\n",
    "assert(FILE_PATH_PROBLEM != '../../../../Datasets/')\n",
    "file_problem_description = open(FILE_PATH_PROBLEM + 'ProblemDescription.txt', 'r')\n",
    "PROBLEM_DESCRIPTION = file_problem_description.read()\n",
    "file_problem_description.close()\n",
    "\n",
    "\n",
    "\n",
    "client = MistralClient(api_key=API_KEY)\n",
    "\n",
    "print(f'Time of execution: {datetime.now()}')"
   ]
  },
  {
   "cell_type": "markdown",
   "id": "3e540824",
   "metadata": {},
   "source": [
    "## Step 1 - Generate Mathematical Formulation "
   ]
  },
  {
   "cell_type": "code",
   "execution_count": 3,
   "id": "174c127b",
   "metadata": {},
   "outputs": [],
   "source": [
    "messages_1 = [\n",
    "    ChatMessage(role=\"system\", content=SYSTEM_PROMPT_1),\n",
    "    ChatMessage(role=\"user\", content=PROBLEM_DESCRIPTION),\n",
    "    ChatMessage(role=\"user\", content=USER_PROMPT_1)\n",
    "]\n",
    "\n",
    "response_1 = client.chat(\n",
    "    model=MODEL_ID,\n",
    "    messages=messages_1,\n",
    "    random_seed=MODEL_SEED,\n",
    "    temperature=MODEL_TEMPERATURE \n",
    ")\n",
    "\n",
    "response_1_text = response_1.choices[0].message.content"
   ]
  },
  {
   "cell_type": "code",
   "execution_count": 4,
   "id": "03616e62",
   "metadata": {},
   "outputs": [
    {
     "data": {
      "text/markdown": [
       "Step 1: Define parameters and variables\n",
       "\n",
       "Parameters:\n",
       "- \\(t\\): time step, \\(t \\in \\{1, 2, ..., 10\\}\\)\n",
       "- \\(f(t)\\): water entering the system at time \\(t\\), given by \\(f(t) = \\max(-4/30t^3 + t^2 - 0.234t + 3, 0)\\)\n",
       "- \\(C_{ij}\\): capacity of the pipe connecting point \\(i\\) to point \\(j\\), where \\(ij \\in \\{AB, AC, AF, BC, BD, BE, CE, CF, DE, EG, FB, FG\\}\\)\n",
       "- \\(N\\): total number of pipes, \\(N = 12\\)\n",
       "- \\(M\\): number of pipes to be activated, \\(M = 10\\)\n",
       "\n",
       "Variables:\n",
       "- \\(x_{ijt}\\): water flow through the pipe connecting point \\(i\\) to point \\(j\\) at time \\(t\\), \\(x_{ijt} \\in [0, C_{ij}]\\)\n",
       "- \\(y_{ijt}\\): binary variable indicating the activation status of the pipe connecting point \\(i\\) to point \\(j\\) at time \\(t\\), \\(y_{ijt} \\in \\{0, 1\\}\\)\n",
       "- \\(z_{it}\\): water released from point \\(i\\) at time \\(t\\), \\(z_{it} \\geq 0\\)"
      ],
      "text/plain": [
       "<IPython.core.display.Markdown object>"
      ]
     },
     "execution_count": 4,
     "metadata": {},
     "output_type": "execute_result"
    }
   ],
   "source": [
    "Markdown(response_1_text)"
   ]
  },
  {
   "cell_type": "code",
   "execution_count": 5,
   "id": "b6a33171",
   "metadata": {},
   "outputs": [
    {
     "name": "stdout",
     "output_type": "stream",
     "text": [
      "Step 1: Define parameters and variables\n",
      "\n",
      "Parameters:\n",
      "- \\(t\\): time step, \\(t \\in \\{1, 2, ..., 10\\}\\)\n",
      "- \\(f(t)\\): water entering the system at time \\(t\\), given by \\(f(t) = \\max(-4/30t^3 + t^2 - 0.234t + 3, 0)\\)\n",
      "- \\(C_{ij}\\): capacity of the pipe connecting point \\(i\\) to point \\(j\\), where \\(ij \\in \\{AB, AC, AF, BC, BD, BE, CE, CF, DE, EG, FB, FG\\}\\)\n",
      "- \\(N\\): total number of pipes, \\(N = 12\\)\n",
      "- \\(M\\): number of pipes to be activated, \\(M = 10\\)\n",
      "\n",
      "Variables:\n",
      "- \\(x_{ijt}\\): water flow through the pipe connecting point \\(i\\) to point \\(j\\) at time \\(t\\), \\(x_{ijt} \\in [0, C_{ij}]\\)\n",
      "- \\(y_{ijt}\\): binary variable indicating the activation status of the pipe connecting point \\(i\\) to point \\(j\\) at time \\(t\\), \\(y_{ijt} \\in \\{0, 1\\}\\)\n",
      "- \\(z_{it}\\): water released from point \\(i\\) at time \\(t\\), \\(z_{it} \\geq 0\\)\n"
     ]
    }
   ],
   "source": [
    "print(response_1_text)"
   ]
  },
  {
   "cell_type": "code",
   "execution_count": 6,
   "id": "9af61485",
   "metadata": {},
   "outputs": [],
   "source": [
    "messages_2 = [\n",
    "    ChatMessage(role=\"system\", content=SYSTEM_PROMPT_1),\n",
    "    ChatMessage(role=\"user\", content=PROBLEM_DESCRIPTION),\n",
    "    ChatMessage(role=\"user\", content=USER_PROMPT_1),\n",
    "    ChatMessage(role=\"assistant\", content=response_1_text),\n",
    "    ChatMessage(role=\"user\", content=USER_PROMPT_2),\n",
    "]\n",
    "\n",
    "response_2 = client.chat(\n",
    "    model=MODEL_ID,\n",
    "    messages=messages_2,\n",
    "    random_seed=MODEL_SEED,\n",
    "    temperature=MODEL_TEMPERATURE \n",
    ")\n",
    "\n",
    "response_2_text = response_2.choices[0].message.content"
   ]
  },
  {
   "cell_type": "code",
   "execution_count": 7,
   "id": "ac0f2659",
   "metadata": {},
   "outputs": [
    {
     "data": {
      "text/markdown": [
       "Step 2: Define the objective function\n",
       "\n",
       "The objective is to maximize the total water flow that reaches point G over the 10 time steps. Since water can only exit the system through point G, the objective function can be formulated as follows:\n",
       "\n",
       "Maximize:\n",
       "\\[\\sum_{t=1}^{10} x_{EGt}\\]\n",
       "\n",
       "This objective function sums up the water flow through pipe EG at each time step \\(t\\). The goal is to maximize this sum, which represents the total water flow that reaches point G."
      ],
      "text/plain": [
       "<IPython.core.display.Markdown object>"
      ]
     },
     "execution_count": 7,
     "metadata": {},
     "output_type": "execute_result"
    }
   ],
   "source": [
    "Markdown(response_2_text)"
   ]
  },
  {
   "cell_type": "code",
   "execution_count": 8,
   "id": "6e93b2aa",
   "metadata": {},
   "outputs": [
    {
     "name": "stdout",
     "output_type": "stream",
     "text": [
      "Step 2: Define the objective function\n",
      "\n",
      "The objective is to maximize the total water flow that reaches point G over the 10 time steps. Since water can only exit the system through point G, the objective function can be formulated as follows:\n",
      "\n",
      "Maximize:\n",
      "\\[\\sum_{t=1}^{10} x_{EGt}\\]\n",
      "\n",
      "This objective function sums up the water flow through pipe EG at each time step \\(t\\). The goal is to maximize this sum, which represents the total water flow that reaches point G.\n"
     ]
    }
   ],
   "source": [
    "print(response_2_text)"
   ]
  },
  {
   "cell_type": "code",
   "execution_count": 9,
   "id": "d7d2d8bc",
   "metadata": {},
   "outputs": [],
   "source": [
    "messages_3 = [\n",
    "    ChatMessage(role=\"system\", content=SYSTEM_PROMPT_1),\n",
    "    ChatMessage(role=\"user\", content=PROBLEM_DESCRIPTION),\n",
    "    ChatMessage(role=\"user\", content=USER_PROMPT_1),\n",
    "    ChatMessage(role=\"assistant\", content=response_1_text),\n",
    "    ChatMessage(role=\"user\", content=USER_PROMPT_2),\n",
    "    ChatMessage(role=\"assistant\", content=response_2_text),\n",
    "    ChatMessage(role=\"user\", content=USER_PROMPT_3),\n",
    "]\n",
    "\n",
    "response_3 = client.chat(\n",
    "    model=MODEL_ID,\n",
    "    messages=messages_3,\n",
    "    random_seed=MODEL_SEED,\n",
    "    temperature=MODEL_TEMPERATURE \n",
    ")\n",
    "\n",
    "response_3_text = response_3.choices[0].message.content"
   ]
  },
  {
   "cell_type": "code",
   "execution_count": 10,
   "id": "c4588e6c",
   "metadata": {},
   "outputs": [
    {
     "data": {
      "text/markdown": [
       "Step 3: Define the constraints\n",
       "\n",
       "The constraints of the optimization model can be divided into several categories:\n",
       "\n",
       "A. Flow conservation constraints:\n",
       "These constraints ensure that the water entering a point equals the water exiting that point at each time step. Let \\(I_i\\) be the set of points that have incoming pipes to point \\(i\\), and \\(O_i\\) be the set of points that have outgoing pipes from point \\(i\\). The flow conservation constraints can be written as:\n",
       "\n",
       "\\[\\sum_{j \\in I_i} x_{jit} + f(t) \\cdot \\delta_{Ai} = \\sum_{k \\in O_i} x_{ikt} + z_{it}, \\quad \\forall i \\in \\{A, B, C, \\dots, G\\}, \\forall t \\in \\{1, 2, \\dots, 10\\}\\]\n",
       "\n",
       "where \\(\\delta_{Ai}\\) is the Kronecker delta, which is 1 if \\(i = A\\) and 0 otherwise. This term ensures that the water entering the system at point A is accounted for in the flow conservation constraint.\n",
       "\n",
       "B. Capacity constraints:\n",
       "These constraints ensure that the water flow through each pipe does not exceed the pipe's capacity. The capacity constraints can be written as:\n",
       "\n",
       "\\[x_{ijt} \\leq C_{ij} \\cdot y_{ijt}, \\quad \\forall ij \\in \\{AB, AC, AF, BC, BD, BE, CE, CF, DE, EG, FB, FG\\}, \\forall t \\in \\{1, 2, \\dots, 10\\}\\]\n",
       "\n",
       "C. Activation constraints:\n",
       "These constraints ensure that only a fixed number of pipes can be activated. The activation constraints can be written as:\n",
       "\n",
       "\\[\\sum_{ij} y_{ijt} \\leq M, \\quad \\forall t \\in \\{1, 2, \\dots, 10\\}\\]\n",
       "\n",
       "D. Non-negativity constraints:\n",
       "These constraints ensure that all variables are non-negative. The non-negativity constraints can be written as:\n",
       "\n",
       "\\[x_{ijt} \\geq 0, \\quad \\forall ij \\in \\{AB, AC, AF, BC, BD, BE, CE, CF, DE, EG, FB, FG\\}, \\forall t \\in \\{1, 2, \\dots, 10\\}\\]\n",
       "\\[z_{it} \\geq 0, \\quad \\forall i \\in \\{A, B, C, \\dots, G\\}, \\forall t \\in \\{1, 2, \\dots, 10\\}\\]\n",
       "\n",
       "E. Integer constraints:\n",
       "These constraints ensure that the activation variables are binary. The integer constraints can be written as:\n",
       "\n",
       "\\[y_{ijt} \\in \\{0, 1\\}, \\quad \\forall ij \\in \\{AB, AC, AF, BC, BD, BE, CE, CF, DE, EG, FB, FG\\}, \\forall t \\in \\{1, 2, \\dots, 10\\}\\]\n",
       "\n",
       "These constraints complete the mathematical optimization model for maximizing the water flow in the network of pipes. The model can now be solved using a suitable optimization solver."
      ],
      "text/plain": [
       "<IPython.core.display.Markdown object>"
      ]
     },
     "execution_count": 10,
     "metadata": {},
     "output_type": "execute_result"
    }
   ],
   "source": [
    "Markdown(response_3_text)"
   ]
  },
  {
   "cell_type": "code",
   "execution_count": 11,
   "id": "b74cfcbe",
   "metadata": {},
   "outputs": [
    {
     "name": "stdout",
     "output_type": "stream",
     "text": [
      "Step 3: Define the constraints\n",
      "\n",
      "The constraints of the optimization model can be divided into several categories:\n",
      "\n",
      "A. Flow conservation constraints:\n",
      "These constraints ensure that the water entering a point equals the water exiting that point at each time step. Let \\(I_i\\) be the set of points that have incoming pipes to point \\(i\\), and \\(O_i\\) be the set of points that have outgoing pipes from point \\(i\\). The flow conservation constraints can be written as:\n",
      "\n",
      "\\[\\sum_{j \\in I_i} x_{jit} + f(t) \\cdot \\delta_{Ai} = \\sum_{k \\in O_i} x_{ikt} + z_{it}, \\quad \\forall i \\in \\{A, B, C, \\dots, G\\}, \\forall t \\in \\{1, 2, \\dots, 10\\}\\]\n",
      "\n",
      "where \\(\\delta_{Ai}\\) is the Kronecker delta, which is 1 if \\(i = A\\) and 0 otherwise. This term ensures that the water entering the system at point A is accounted for in the flow conservation constraint.\n",
      "\n",
      "B. Capacity constraints:\n",
      "These constraints ensure that the water flow through each pipe does not exceed the pipe's capacity. The capacity constraints can be written as:\n",
      "\n",
      "\\[x_{ijt} \\leq C_{ij} \\cdot y_{ijt}, \\quad \\forall ij \\in \\{AB, AC, AF, BC, BD, BE, CE, CF, DE, EG, FB, FG\\}, \\forall t \\in \\{1, 2, \\dots, 10\\}\\]\n",
      "\n",
      "C. Activation constraints:\n",
      "These constraints ensure that only a fixed number of pipes can be activated. The activation constraints can be written as:\n",
      "\n",
      "\\[\\sum_{ij} y_{ijt} \\leq M, \\quad \\forall t \\in \\{1, 2, \\dots, 10\\}\\]\n",
      "\n",
      "D. Non-negativity constraints:\n",
      "These constraints ensure that all variables are non-negative. The non-negativity constraints can be written as:\n",
      "\n",
      "\\[x_{ijt} \\geq 0, \\quad \\forall ij \\in \\{AB, AC, AF, BC, BD, BE, CE, CF, DE, EG, FB, FG\\}, \\forall t \\in \\{1, 2, \\dots, 10\\}\\]\n",
      "\\[z_{it} \\geq 0, \\quad \\forall i \\in \\{A, B, C, \\dots, G\\}, \\forall t \\in \\{1, 2, \\dots, 10\\}\\]\n",
      "\n",
      "E. Integer constraints:\n",
      "These constraints ensure that the activation variables are binary. The integer constraints can be written as:\n",
      "\n",
      "\\[y_{ijt} \\in \\{0, 1\\}, \\quad \\forall ij \\in \\{AB, AC, AF, BC, BD, BE, CE, CF, DE, EG, FB, FG\\}, \\forall t \\in \\{1, 2, \\dots, 10\\}\\]\n",
      "\n",
      "These constraints complete the mathematical optimization model for maximizing the water flow in the network of pipes. The model can now be solved using a suitable optimization solver.\n"
     ]
    }
   ],
   "source": [
    "print(response_3_text)"
   ]
  },
  {
   "cell_type": "code",
   "execution_count": 12,
   "id": "e73cd25c",
   "metadata": {},
   "outputs": [
    {
     "data": {
      "text/markdown": [
       "Step 1: Define parameters and variables\n",
       "\n",
       "Parameters:\n",
       "- \\(t\\): time step, \\(t \\in \\{1, 2, ..., 10\\}\\)\n",
       "- \\(f(t)\\): water entering the system at time \\(t\\), given by \\(f(t) = \\max(-4/30t^3 + t^2 - 0.234t + 3, 0)\\)\n",
       "- \\(C_{ij}\\): capacity of the pipe connecting point \\(i\\) to point \\(j\\), where \\(ij \\in \\{AB, AC, AF, BC, BD, BE, CE, CF, DE, EG, FB, FG\\}\\)\n",
       "- \\(N\\): total number of pipes, \\(N = 12\\)\n",
       "- \\(M\\): number of pipes to be activated, \\(M = 10\\)\n",
       "\n",
       "Variables:\n",
       "- \\(x_{ijt}\\): water flow through the pipe connecting point \\(i\\) to point \\(j\\) at time \\(t\\), \\(x_{ijt} \\in [0, C_{ij}]\\)\n",
       "- \\(y_{ijt}\\): binary variable indicating the activation status of the pipe connecting point \\(i\\) to point \\(j\\) at time \\(t\\), \\(y_{ijt} \\in \\{0, 1\\}\\)\n",
       "- \\(z_{it}\\): water released from point \\(i\\) at time \\(t\\), \\(z_{it} \\geq 0\\)\n",
       "Step 2: Define the objective function\n",
       "\n",
       "The objective is to maximize the total water flow that reaches point G over the 10 time steps. Since water can only exit the system through point G, the objective function can be formulated as follows:\n",
       "\n",
       "Maximize:\n",
       "\\[\\sum_{t=1}^{10} x_{EGt}\\]\n",
       "\n",
       "This objective function sums up the water flow through pipe EG at each time step \\(t\\). The goal is to maximize this sum, which represents the total water flow that reaches point G.\n",
       "Step 3: Define the constraints\n",
       "\n",
       "The constraints of the optimization model can be divided into several categories:\n",
       "\n",
       "A. Flow conservation constraints:\n",
       "These constraints ensure that the water entering a point equals the water exiting that point at each time step. Let \\(I_i\\) be the set of points that have incoming pipes to point \\(i\\), and \\(O_i\\) be the set of points that have outgoing pipes from point \\(i\\). The flow conservation constraints can be written as:\n",
       "\n",
       "\\[\\sum_{j \\in I_i} x_{jit} + f(t) \\cdot \\delta_{Ai} = \\sum_{k \\in O_i} x_{ikt} + z_{it}, \\quad \\forall i \\in \\{A, B, C, \\dots, G\\}, \\forall t \\in \\{1, 2, \\dots, 10\\}\\]\n",
       "\n",
       "where \\(\\delta_{Ai}\\) is the Kronecker delta, which is 1 if \\(i = A\\) and 0 otherwise. This term ensures that the water entering the system at point A is accounted for in the flow conservation constraint.\n",
       "\n",
       "B. Capacity constraints:\n",
       "These constraints ensure that the water flow through each pipe does not exceed the pipe's capacity. The capacity constraints can be written as:\n",
       "\n",
       "\\[x_{ijt} \\leq C_{ij} \\cdot y_{ijt}, \\quad \\forall ij \\in \\{AB, AC, AF, BC, BD, BE, CE, CF, DE, EG, FB, FG\\}, \\forall t \\in \\{1, 2, \\dots, 10\\}\\]\n",
       "\n",
       "C. Activation constraints:\n",
       "These constraints ensure that only a fixed number of pipes can be activated. The activation constraints can be written as:\n",
       "\n",
       "\\[\\sum_{ij} y_{ijt} \\leq M, \\quad \\forall t \\in \\{1, 2, \\dots, 10\\}\\]\n",
       "\n",
       "D. Non-negativity constraints:\n",
       "These constraints ensure that all variables are non-negative. The non-negativity constraints can be written as:\n",
       "\n",
       "\\[x_{ijt} \\geq 0, \\quad \\forall ij \\in \\{AB, AC, AF, BC, BD, BE, CE, CF, DE, EG, FB, FG\\}, \\forall t \\in \\{1, 2, \\dots, 10\\}\\]\n",
       "\\[z_{it} \\geq 0, \\quad \\forall i \\in \\{A, B, C, \\dots, G\\}, \\forall t \\in \\{1, 2, \\dots, 10\\}\\]\n",
       "\n",
       "E. Integer constraints:\n",
       "These constraints ensure that the activation variables are binary. The integer constraints can be written as:\n",
       "\n",
       "\\[y_{ijt} \\in \\{0, 1\\}, \\quad \\forall ij \\in \\{AB, AC, AF, BC, BD, BE, CE, CF, DE, EG, FB, FG\\}, \\forall t \\in \\{1, 2, \\dots, 10\\}\\]\n",
       "\n",
       "These constraints complete the mathematical optimization model for maximizing the water flow in the network of pipes. The model can now be solved using a suitable optimization solver."
      ],
      "text/plain": [
       "<IPython.core.display.Markdown object>"
      ]
     },
     "execution_count": 12,
     "metadata": {},
     "output_type": "execute_result"
    }
   ],
   "source": [
    "response_text = '\\n'.join([response_1_text, response_2_text, response_3_text])\n",
    "\n",
    "Markdown(response_text)"
   ]
  },
  {
   "cell_type": "code",
   "execution_count": 13,
   "id": "dd3d0006",
   "metadata": {},
   "outputs": [
    {
     "name": "stdout",
     "output_type": "stream",
     "text": [
      "Step 1: Define parameters and variables\n",
      "\n",
      "Parameters:\n",
      "- \\(t\\): time step, \\(t \\in \\{1, 2, ..., 10\\}\\)\n",
      "- \\(f(t)\\): water entering the system at time \\(t\\), given by \\(f(t) = \\max(-4/30t^3 + t^2 - 0.234t + 3, 0)\\)\n",
      "- \\(C_{ij}\\): capacity of the pipe connecting point \\(i\\) to point \\(j\\), where \\(ij \\in \\{AB, AC, AF, BC, BD, BE, CE, CF, DE, EG, FB, FG\\}\\)\n",
      "- \\(N\\): total number of pipes, \\(N = 12\\)\n",
      "- \\(M\\): number of pipes to be activated, \\(M = 10\\)\n",
      "\n",
      "Variables:\n",
      "- \\(x_{ijt}\\): water flow through the pipe connecting point \\(i\\) to point \\(j\\) at time \\(t\\), \\(x_{ijt} \\in [0, C_{ij}]\\)\n",
      "- \\(y_{ijt}\\): binary variable indicating the activation status of the pipe connecting point \\(i\\) to point \\(j\\) at time \\(t\\), \\(y_{ijt} \\in \\{0, 1\\}\\)\n",
      "- \\(z_{it}\\): water released from point \\(i\\) at time \\(t\\), \\(z_{it} \\geq 0\\)\n",
      "Step 2: Define the objective function\n",
      "\n",
      "The objective is to maximize the total water flow that reaches point G over the 10 time steps. Since water can only exit the system through point G, the objective function can be formulated as follows:\n",
      "\n",
      "Maximize:\n",
      "\\[\\sum_{t=1}^{10} x_{EGt}\\]\n",
      "\n",
      "This objective function sums up the water flow through pipe EG at each time step \\(t\\). The goal is to maximize this sum, which represents the total water flow that reaches point G.\n",
      "Step 3: Define the constraints\n",
      "\n",
      "The constraints of the optimization model can be divided into several categories:\n",
      "\n",
      "A. Flow conservation constraints:\n",
      "These constraints ensure that the water entering a point equals the water exiting that point at each time step. Let \\(I_i\\) be the set of points that have incoming pipes to point \\(i\\), and \\(O_i\\) be the set of points that have outgoing pipes from point \\(i\\). The flow conservation constraints can be written as:\n",
      "\n",
      "\\[\\sum_{j \\in I_i} x_{jit} + f(t) \\cdot \\delta_{Ai} = \\sum_{k \\in O_i} x_{ikt} + z_{it}, \\quad \\forall i \\in \\{A, B, C, \\dots, G\\}, \\forall t \\in \\{1, 2, \\dots, 10\\}\\]\n",
      "\n",
      "where \\(\\delta_{Ai}\\) is the Kronecker delta, which is 1 if \\(i = A\\) and 0 otherwise. This term ensures that the water entering the system at point A is accounted for in the flow conservation constraint.\n",
      "\n",
      "B. Capacity constraints:\n",
      "These constraints ensure that the water flow through each pipe does not exceed the pipe's capacity. The capacity constraints can be written as:\n",
      "\n",
      "\\[x_{ijt} \\leq C_{ij} \\cdot y_{ijt}, \\quad \\forall ij \\in \\{AB, AC, AF, BC, BD, BE, CE, CF, DE, EG, FB, FG\\}, \\forall t \\in \\{1, 2, \\dots, 10\\}\\]\n",
      "\n",
      "C. Activation constraints:\n",
      "These constraints ensure that only a fixed number of pipes can be activated. The activation constraints can be written as:\n",
      "\n",
      "\\[\\sum_{ij} y_{ijt} \\leq M, \\quad \\forall t \\in \\{1, 2, \\dots, 10\\}\\]\n",
      "\n",
      "D. Non-negativity constraints:\n",
      "These constraints ensure that all variables are non-negative. The non-negativity constraints can be written as:\n",
      "\n",
      "\\[x_{ijt} \\geq 0, \\quad \\forall ij \\in \\{AB, AC, AF, BC, BD, BE, CE, CF, DE, EG, FB, FG\\}, \\forall t \\in \\{1, 2, \\dots, 10\\}\\]\n",
      "\\[z_{it} \\geq 0, \\quad \\forall i \\in \\{A, B, C, \\dots, G\\}, \\forall t \\in \\{1, 2, \\dots, 10\\}\\]\n",
      "\n",
      "E. Integer constraints:\n",
      "These constraints ensure that the activation variables are binary. The integer constraints can be written as:\n",
      "\n",
      "\\[y_{ijt} \\in \\{0, 1\\}, \\quad \\forall ij \\in \\{AB, AC, AF, BC, BD, BE, CE, CF, DE, EG, FB, FG\\}, \\forall t \\in \\{1, 2, \\dots, 10\\}\\]\n",
      "\n",
      "These constraints complete the mathematical optimization model for maximizing the water flow in the network of pipes. The model can now be solved using a suitable optimization solver.\n"
     ]
    }
   ],
   "source": [
    "print(response_text)"
   ]
  },
  {
   "cell_type": "markdown",
   "id": "27b5f89a",
   "metadata": {},
   "source": [
    "## Step 2 - Generate the Pyomo Code"
   ]
  },
  {
   "cell_type": "code",
   "execution_count": 14,
   "id": "a4c3312f",
   "metadata": {},
   "outputs": [],
   "source": [
    "messages_4 = [\n",
    "    ChatMessage(role=\"system\", content=SYSTEM_PROMPT_2),\n",
    "    ChatMessage(role=\"user\", content=response_text)\n",
    "]"
   ]
  },
  {
   "cell_type": "code",
   "execution_count": 15,
   "id": "4212d99d",
   "metadata": {},
   "outputs": [],
   "source": [
    "response_4 = client.chat(\n",
    "    model=MODEL_ID,\n",
    "    messages=messages_4,\n",
    "    random_seed=MODEL_SEED,\n",
    "    temperature=MODEL_TEMPERATURE\n",
    ")\n",
    "\n",
    "response_4_text = response_4.choices[0].message.content"
   ]
  },
  {
   "cell_type": "code",
   "execution_count": 16,
   "id": "c168a60b",
   "metadata": {},
   "outputs": [
    {
     "data": {
      "text/markdown": [
       "To solve this optimization problem using Pyomo, you can use the following code. Please note that you need to install Pyomo and a suitable solver (e.g., GLPK, CPLEX, or Gurobi) before running this code. In this example, I will use GLPK as the solver.\n",
       "\n",
       "First, install the required packages:\n",
       "```bash\n",
       "pip install pyomo glpk\n",
       "```\n",
       "\n",
       "Now, you can use the following Python code to define and solve the optimization problem:\n",
       "\n",
       "```python\n",
       "import pyomo.environ as pyo\n",
       "import numpy as np\n",
       "\n",
       "# Define the data\n",
       "T = range(1, 11)  # time steps\n",
       "C = {  # capacities\n",
       "    \"AB\": 10, \"AC\": 10, \"AF\": 10, \"BC\": 10, \"BD\": 10, \"BE\": 10,\n",
       "    \"CE\": 10, \"CF\": 10, \"DE\": 10, \"EG\": 10, \"FB\": 10, \"FG\": 10\n",
       "}\n",
       "N = len(C)   # total number of pipes\n",
       "M = 10       # number of pipes to be activated\n",
       "\n",
       "# Define the points\n",
       "points = [\"A\", \"B\", \"C\", \"D\", \"E\", \"F\", \"G\"]\n",
       "\n",
       "# Define the incoming and outgoing pipes for each point\n",
       "incoming = {\n",
       "    \"A\": [], \"B\": [\"AB\", \"FB\"], \"C\": [\"AC\", \"BC\"], \"D\": [\"BD\"],\n",
       "    \"E\": [\"BE\", \"CE\", \"DE\"], \"F\": [\"AF\", \"CF\"], \"G\": [\"EG\", \"FG\"]\n",
       "}\n",
       "outgoing = {\n",
       "    \"A\": [\"AB\", \"AC\", \"AF\"], \"B\": [\"BC\", \"BD\", \"BE\"], \"C\": [\"CE\", \"CF\"],\n",
       "    \"D\": [\"DE\"], \"E\": [\"EG\"], \"F\": [\"FB\", \"FG\"], \"G\": []\n",
       "}\n",
       "\n",
       "# Define the function f(t)\n",
       "def f(t):\n",
       "    return max(-4/30 * t**3 + t**2 - 0.234 * t + 3, 0)\n",
       "\n",
       "# Create the Pyomo model\n",
       "model = pyo.ConcreteModel()\n",
       "\n",
       "# Define the sets\n",
       "model.T = pyo.Set(initialize=T)\n",
       "model.IJ = pyo.Set(initialize=C.keys())\n",
       "\n",
       "# Define the parameters\n",
       "model.C = pyo.Param(model.IJ, initialize=C)\n",
       "\n",
       "# Define the variables\n",
       "model.x = pyo.Var(model.IJ, model.T, domain=pyo.NonNegativeReals, bounds=(0, model.C))\n",
       "model.y = pyo.Var(model.IJ, model.T, domain=pyo.Binary)\n",
       "model.z = pyo.Var(points, model.T, domain=pyo.NonNegativeReals)\n",
       "\n",
       "# Define the objective function\n",
       "def obj_rule(model):\n",
       "    return sum(model.x[(\"EG\", t)] for t in model.T)\n",
       "model.obj = pyo.Objective(rule=obj_rule, sense=pyo.maximize)\n",
       "\n",
       "# Define the constraints\n",
       "def flow_conservation_rule(model, i, t):\n",
       "    in_flow = sum(model.x[j, i, t] for j in incoming[i]) + f(t) if i == \"A\" else sum(model.x[j, i, t] for j in incoming[i])\n",
       "    out_flow = sum(model.x[i, j, t] for j in outgoing[i]) + model.z[i, t]\n",
       "    return in_flow == out_flow\n",
       "model.flow_conservation = pyo.Constraint(points, model.T, rule=flow_conservation_rule)\n",
       "\n",
       "def capacity_rule(model, ij, t):\n",
       "    return model.x[ij, t] <= model.C[ij] * model.y[ij, t]\n",
       "model.capacity = pyo.Constraint(model.IJ, model.T, rule=capacity_rule)\n",
       "\n",
       "def activation_rule(model, t):\n",
       "    return sum(model.y[ij, t] for ij in model.IJ) <= M\n",
       "model.activation = pyo.Constraint(model.T, rule=activation_rule)\n",
       "\n",
       "# Solve the problem\n",
       "solver = pyo.SolverFactory(\"glpk\")\n",
       "results = solver.solve(model)\n",
       "\n",
       "# Print the results\n",
       "print(\"Objective value:\", pyo.value(model.obj))\n",
       "for ij in model.IJ:\n",
       "    for t in model.T:\n",
       "        print(f\"x_{ij}_{t}: {pyo.value(model.x[ij, t])}\")\n",
       "        print(f\"y_{ij}_{t}: {pyo.value(model.y[ij, t])}\")\n",
       "for i in points:\n",
       "    for t in model.T:\n",
       "        print(f\"z_{i}_{t}: {pyo.value(model.z[i, t])}\")\n",
       "```\n",
       "\n",
       "This code defines the optimization problem using Pyomo and solves it using the GLPK solver. The results are then printed out."
      ],
      "text/plain": [
       "<IPython.core.display.Markdown object>"
      ]
     },
     "execution_count": 16,
     "metadata": {},
     "output_type": "execute_result"
    }
   ],
   "source": [
    "Markdown(response_4_text)"
   ]
  },
  {
   "cell_type": "code",
   "execution_count": 17,
   "id": "a380c180",
   "metadata": {},
   "outputs": [
    {
     "name": "stdout",
     "output_type": "stream",
     "text": [
      "To solve this optimization problem using Pyomo, you can use the following code. Please note that you need to install Pyomo and a suitable solver (e.g., GLPK, CPLEX, or Gurobi) before running this code. In this example, I will use GLPK as the solver.\n",
      "\n",
      "First, install the required packages:\n",
      "```bash\n",
      "pip install pyomo glpk\n",
      "```\n",
      "\n",
      "Now, you can use the following Python code to define and solve the optimization problem:\n",
      "\n",
      "```python\n",
      "import pyomo.environ as pyo\n",
      "import numpy as np\n",
      "\n",
      "# Define the data\n",
      "T = range(1, 11)  # time steps\n",
      "C = {  # capacities\n",
      "    \"AB\": 10, \"AC\": 10, \"AF\": 10, \"BC\": 10, \"BD\": 10, \"BE\": 10,\n",
      "    \"CE\": 10, \"CF\": 10, \"DE\": 10, \"EG\": 10, \"FB\": 10, \"FG\": 10\n",
      "}\n",
      "N = len(C)   # total number of pipes\n",
      "M = 10       # number of pipes to be activated\n",
      "\n",
      "# Define the points\n",
      "points = [\"A\", \"B\", \"C\", \"D\", \"E\", \"F\", \"G\"]\n",
      "\n",
      "# Define the incoming and outgoing pipes for each point\n",
      "incoming = {\n",
      "    \"A\": [], \"B\": [\"AB\", \"FB\"], \"C\": [\"AC\", \"BC\"], \"D\": [\"BD\"],\n",
      "    \"E\": [\"BE\", \"CE\", \"DE\"], \"F\": [\"AF\", \"CF\"], \"G\": [\"EG\", \"FG\"]\n",
      "}\n",
      "outgoing = {\n",
      "    \"A\": [\"AB\", \"AC\", \"AF\"], \"B\": [\"BC\", \"BD\", \"BE\"], \"C\": [\"CE\", \"CF\"],\n",
      "    \"D\": [\"DE\"], \"E\": [\"EG\"], \"F\": [\"FB\", \"FG\"], \"G\": []\n",
      "}\n",
      "\n",
      "# Define the function f(t)\n",
      "def f(t):\n",
      "    return max(-4/30 * t**3 + t**2 - 0.234 * t + 3, 0)\n",
      "\n",
      "# Create the Pyomo model\n",
      "model = pyo.ConcreteModel()\n",
      "\n",
      "# Define the sets\n",
      "model.T = pyo.Set(initialize=T)\n",
      "model.IJ = pyo.Set(initialize=C.keys())\n",
      "\n",
      "# Define the parameters\n",
      "model.C = pyo.Param(model.IJ, initialize=C)\n",
      "\n",
      "# Define the variables\n",
      "model.x = pyo.Var(model.IJ, model.T, domain=pyo.NonNegativeReals, bounds=(0, model.C))\n",
      "model.y = pyo.Var(model.IJ, model.T, domain=pyo.Binary)\n",
      "model.z = pyo.Var(points, model.T, domain=pyo.NonNegativeReals)\n",
      "\n",
      "# Define the objective function\n",
      "def obj_rule(model):\n",
      "    return sum(model.x[(\"EG\", t)] for t in model.T)\n",
      "model.obj = pyo.Objective(rule=obj_rule, sense=pyo.maximize)\n",
      "\n",
      "# Define the constraints\n",
      "def flow_conservation_rule(model, i, t):\n",
      "    in_flow = sum(model.x[j, i, t] for j in incoming[i]) + f(t) if i == \"A\" else sum(model.x[j, i, t] for j in incoming[i])\n",
      "    out_flow = sum(model.x[i, j, t] for j in outgoing[i]) + model.z[i, t]\n",
      "    return in_flow == out_flow\n",
      "model.flow_conservation = pyo.Constraint(points, model.T, rule=flow_conservation_rule)\n",
      "\n",
      "def capacity_rule(model, ij, t):\n",
      "    return model.x[ij, t] <= model.C[ij] * model.y[ij, t]\n",
      "model.capacity = pyo.Constraint(model.IJ, model.T, rule=capacity_rule)\n",
      "\n",
      "def activation_rule(model, t):\n",
      "    return sum(model.y[ij, t] for ij in model.IJ) <= M\n",
      "model.activation = pyo.Constraint(model.T, rule=activation_rule)\n",
      "\n",
      "# Solve the problem\n",
      "solver = pyo.SolverFactory(\"glpk\")\n",
      "results = solver.solve(model)\n",
      "\n",
      "# Print the results\n",
      "print(\"Objective value:\", pyo.value(model.obj))\n",
      "for ij in model.IJ:\n",
      "    for t in model.T:\n",
      "        print(f\"x_{ij}_{t}: {pyo.value(model.x[ij, t])}\")\n",
      "        print(f\"y_{ij}_{t}: {pyo.value(model.y[ij, t])}\")\n",
      "for i in points:\n",
      "    for t in model.T:\n",
      "        print(f\"z_{i}_{t}: {pyo.value(model.z[i, t])}\")\n",
      "```\n",
      "\n",
      "This code defines the optimization problem using Pyomo and solves it using the GLPK solver. The results are then printed out.\n"
     ]
    }
   ],
   "source": [
    "print(response_4_text)"
   ]
  },
  {
   "cell_type": "markdown",
   "id": "879cc7ae",
   "metadata": {},
   "source": [
    "### Code Executability"
   ]
  },
  {
   "cell_type": "code",
   "execution_count": 18,
   "id": "f1d9a625",
   "metadata": {},
   "outputs": [
    {
     "name": "stderr",
     "output_type": "stream",
     "text": [
      "2024-06-13 17:26:31,718 ERROR pyomo.core: Rule failed when generating expression for Constraint flow_conservation with index ('A', 1):\n",
      "KeyError: \"Index '('A', 'AB', 1)' is not valid for indexed component 'x'\"\n",
      "2024-06-13 17:26:31,719 ERROR pyomo.core: Constructing component 'flow_conservation' from data=None failed:\n",
      "KeyError: \"Index '('A', 'AB', 1)' is not valid for indexed component 'x'\"\n"
     ]
    },
    {
     "ename": "KeyError",
     "evalue": "\"Index '('A', 'AB', 1)' is not valid for indexed component 'x'\"",
     "output_type": "error",
     "traceback": [
      "\u001b[1;31m---------------------------------------------------------------------------\u001b[0m",
      "\u001b[1;31mKeyError\u001b[0m                                  Traceback (most recent call last)",
      "Input \u001b[1;32mIn [18]\u001b[0m, in \u001b[0;36m<cell line: 55>\u001b[1;34m()\u001b[0m\n\u001b[0;32m     53\u001b[0m     out_flow \u001b[38;5;241m=\u001b[39m \u001b[38;5;28msum\u001b[39m(model\u001b[38;5;241m.\u001b[39mx[i, j, t] \u001b[38;5;28;01mfor\u001b[39;00m j \u001b[38;5;129;01min\u001b[39;00m outgoing[i]) \u001b[38;5;241m+\u001b[39m model\u001b[38;5;241m.\u001b[39mz[i, t]\n\u001b[0;32m     54\u001b[0m     \u001b[38;5;28;01mreturn\u001b[39;00m in_flow \u001b[38;5;241m==\u001b[39m out_flow\n\u001b[1;32m---> 55\u001b[0m model\u001b[38;5;241m.\u001b[39mflow_conservation \u001b[38;5;241m=\u001b[39m pyo\u001b[38;5;241m.\u001b[39mConstraint(points, model\u001b[38;5;241m.\u001b[39mT, rule\u001b[38;5;241m=\u001b[39mflow_conservation_rule)\n\u001b[0;32m     57\u001b[0m \u001b[38;5;28;01mdef\u001b[39;00m \u001b[38;5;21mcapacity_rule\u001b[39m(model, ij, t):\n\u001b[0;32m     58\u001b[0m     \u001b[38;5;28;01mreturn\u001b[39;00m model\u001b[38;5;241m.\u001b[39mx[ij, t] \u001b[38;5;241m<\u001b[39m\u001b[38;5;241m=\u001b[39m model\u001b[38;5;241m.\u001b[39mC[ij] \u001b[38;5;241m*\u001b[39m model\u001b[38;5;241m.\u001b[39my[ij, t]\n",
      "File \u001b[1;32m~\\AppData\\Roaming\\Python\\Python310\\site-packages\\pyomo\\core\\base\\block.py:639\u001b[0m, in \u001b[0;36m_BlockData.__setattr__\u001b[1;34m(self, name, val)\u001b[0m\n\u001b[0;32m    634\u001b[0m \u001b[38;5;28;01mif\u001b[39;00m name \u001b[38;5;129;01mnot\u001b[39;00m \u001b[38;5;129;01min\u001b[39;00m \u001b[38;5;28mself\u001b[39m\u001b[38;5;241m.\u001b[39m\u001b[38;5;18m__dict__\u001b[39m:\n\u001b[0;32m    635\u001b[0m     \u001b[38;5;28;01mif\u001b[39;00m \u001b[38;5;28misinstance\u001b[39m(val, Component):\n\u001b[0;32m    636\u001b[0m         \u001b[38;5;66;03m#\u001b[39;00m\n\u001b[0;32m    637\u001b[0m         \u001b[38;5;66;03m# Pyomo components are added with the add_component method.\u001b[39;00m\n\u001b[0;32m    638\u001b[0m         \u001b[38;5;66;03m#\u001b[39;00m\n\u001b[1;32m--> 639\u001b[0m         \u001b[38;5;28;43mself\u001b[39;49m\u001b[38;5;241;43m.\u001b[39;49m\u001b[43madd_component\u001b[49m\u001b[43m(\u001b[49m\u001b[43mname\u001b[49m\u001b[43m,\u001b[49m\u001b[43m \u001b[49m\u001b[43mval\u001b[49m\u001b[43m)\u001b[49m\n\u001b[0;32m    640\u001b[0m     \u001b[38;5;28;01melse\u001b[39;00m:\n\u001b[0;32m    641\u001b[0m         \u001b[38;5;66;03m#\u001b[39;00m\n\u001b[0;32m    642\u001b[0m         \u001b[38;5;66;03m# Other Python objects are added with the standard __setattr__\u001b[39;00m\n\u001b[0;32m    643\u001b[0m         \u001b[38;5;66;03m# method.\u001b[39;00m\n\u001b[0;32m    644\u001b[0m         \u001b[38;5;66;03m#\u001b[39;00m\n\u001b[0;32m    645\u001b[0m         \u001b[38;5;28msuper\u001b[39m(_BlockData, \u001b[38;5;28mself\u001b[39m)\u001b[38;5;241m.\u001b[39m\u001b[38;5;21m__setattr__\u001b[39m(name, val)\n",
      "File \u001b[1;32m~\\AppData\\Roaming\\Python\\Python310\\site-packages\\pyomo\\core\\base\\block.py:1186\u001b[0m, in \u001b[0;36m_BlockData.add_component\u001b[1;34m(self, name, val)\u001b[0m\n\u001b[0;32m   1182\u001b[0m     logger\u001b[38;5;241m.\u001b[39mdebug(\u001b[38;5;124m\"\u001b[39m\u001b[38;5;124mConstructing \u001b[39m\u001b[38;5;132;01m%s\u001b[39;00m\u001b[38;5;124m \u001b[39m\u001b[38;5;124m'\u001b[39m\u001b[38;5;132;01m%s\u001b[39;00m\u001b[38;5;124m'\u001b[39m\u001b[38;5;124m on \u001b[39m\u001b[38;5;132;01m%s\u001b[39;00m\u001b[38;5;124m from data=\u001b[39m\u001b[38;5;132;01m%s\u001b[39;00m\u001b[38;5;124m\"\u001b[39m,\n\u001b[0;32m   1183\u001b[0m                  val\u001b[38;5;241m.\u001b[39m\u001b[38;5;18m__class__\u001b[39m\u001b[38;5;241m.\u001b[39m\u001b[38;5;18m__name__\u001b[39m, name,\n\u001b[0;32m   1184\u001b[0m                  _blockName, \u001b[38;5;28mstr\u001b[39m(data))\n\u001b[0;32m   1185\u001b[0m \u001b[38;5;28;01mtry\u001b[39;00m:\n\u001b[1;32m-> 1186\u001b[0m     \u001b[43mval\u001b[49m\u001b[38;5;241;43m.\u001b[39;49m\u001b[43mconstruct\u001b[49m\u001b[43m(\u001b[49m\u001b[43mdata\u001b[49m\u001b[43m)\u001b[49m\n\u001b[0;32m   1187\u001b[0m \u001b[38;5;28;01mexcept\u001b[39;00m:\n\u001b[0;32m   1188\u001b[0m     err \u001b[38;5;241m=\u001b[39m sys\u001b[38;5;241m.\u001b[39mexc_info()[\u001b[38;5;241m1\u001b[39m]\n",
      "File \u001b[1;32m~\\AppData\\Roaming\\Python\\Python310\\site-packages\\pyomo\\core\\base\\constraint.py:772\u001b[0m, in \u001b[0;36mConstraint.construct\u001b[1;34m(self, data)\u001b[0m\n\u001b[0;32m    769\u001b[0m     \u001b[38;5;28;01melse\u001b[39;00m:\n\u001b[0;32m    770\u001b[0m         \u001b[38;5;66;03m# Bypass the index validation and create the member directly\u001b[39;00m\n\u001b[0;32m    771\u001b[0m         \u001b[38;5;28;01mfor\u001b[39;00m index \u001b[38;5;129;01min\u001b[39;00m \u001b[38;5;28mself\u001b[39m\u001b[38;5;241m.\u001b[39mindex_set():\n\u001b[1;32m--> 772\u001b[0m             \u001b[38;5;28mself\u001b[39m\u001b[38;5;241m.\u001b[39m_setitem_when_not_present(index, \u001b[43mrule\u001b[49m\u001b[43m(\u001b[49m\u001b[43mblock\u001b[49m\u001b[43m,\u001b[49m\u001b[43m \u001b[49m\u001b[43mindex\u001b[49m\u001b[43m)\u001b[49m)\n\u001b[0;32m    773\u001b[0m \u001b[38;5;28;01mexcept\u001b[39;00m \u001b[38;5;167;01mException\u001b[39;00m:\n\u001b[0;32m    774\u001b[0m     err \u001b[38;5;241m=\u001b[39m sys\u001b[38;5;241m.\u001b[39mexc_info()[\u001b[38;5;241m1\u001b[39m]\n",
      "File \u001b[1;32m~\\AppData\\Roaming\\Python\\Python310\\site-packages\\pyomo\\core\\base\\initializer.py:280\u001b[0m, in \u001b[0;36mIndexedCallInitializer.__call__\u001b[1;34m(self, parent, idx)\u001b[0m\n\u001b[0;32m    274\u001b[0m \u001b[38;5;28;01mdef\u001b[39;00m \u001b[38;5;21m__call__\u001b[39m(\u001b[38;5;28mself\u001b[39m, parent, idx):\n\u001b[0;32m    275\u001b[0m     \u001b[38;5;66;03m# Note: this is called by a component using data from a Set (so\u001b[39;00m\n\u001b[0;32m    276\u001b[0m     \u001b[38;5;66;03m# any tuple-like type should have already been checked and\u001b[39;00m\n\u001b[0;32m    277\u001b[0m     \u001b[38;5;66;03m# converted to a tuple; or flattening is turned off and it is\u001b[39;00m\n\u001b[0;32m    278\u001b[0m     \u001b[38;5;66;03m# the user's responsibility to sort things out.\u001b[39;00m\n\u001b[0;32m    279\u001b[0m     \u001b[38;5;28;01mif\u001b[39;00m idx\u001b[38;5;241m.\u001b[39m\u001b[38;5;18m__class__\u001b[39m \u001b[38;5;129;01mis\u001b[39;00m \u001b[38;5;28mtuple\u001b[39m:\n\u001b[1;32m--> 280\u001b[0m         \u001b[38;5;28;01mreturn\u001b[39;00m \u001b[38;5;28;43mself\u001b[39;49m\u001b[38;5;241;43m.\u001b[39;49m\u001b[43m_fcn\u001b[49m\u001b[43m(\u001b[49m\u001b[43mparent\u001b[49m\u001b[43m,\u001b[49m\u001b[43m \u001b[49m\u001b[38;5;241;43m*\u001b[39;49m\u001b[43midx\u001b[49m\u001b[43m)\u001b[49m\n\u001b[0;32m    281\u001b[0m     \u001b[38;5;28;01melse\u001b[39;00m:\n\u001b[0;32m    282\u001b[0m         \u001b[38;5;28;01mreturn\u001b[39;00m \u001b[38;5;28mself\u001b[39m\u001b[38;5;241m.\u001b[39m_fcn(parent, idx)\n",
      "Input \u001b[1;32mIn [18]\u001b[0m, in \u001b[0;36mflow_conservation_rule\u001b[1;34m(model, i, t)\u001b[0m\n\u001b[0;32m     51\u001b[0m \u001b[38;5;28;01mdef\u001b[39;00m \u001b[38;5;21mflow_conservation_rule\u001b[39m(model, i, t):\n\u001b[0;32m     52\u001b[0m     in_flow \u001b[38;5;241m=\u001b[39m \u001b[38;5;28msum\u001b[39m(model\u001b[38;5;241m.\u001b[39mx[j, i, t] \u001b[38;5;28;01mfor\u001b[39;00m j \u001b[38;5;129;01min\u001b[39;00m incoming[i]) \u001b[38;5;241m+\u001b[39m f(t) \u001b[38;5;28;01mif\u001b[39;00m i \u001b[38;5;241m==\u001b[39m \u001b[38;5;124m\"\u001b[39m\u001b[38;5;124mA\u001b[39m\u001b[38;5;124m\"\u001b[39m \u001b[38;5;28;01melse\u001b[39;00m \u001b[38;5;28msum\u001b[39m(model\u001b[38;5;241m.\u001b[39mx[j, i, t] \u001b[38;5;28;01mfor\u001b[39;00m j \u001b[38;5;129;01min\u001b[39;00m incoming[i])\n\u001b[1;32m---> 53\u001b[0m     out_flow \u001b[38;5;241m=\u001b[39m \u001b[38;5;28;43msum\u001b[39;49m\u001b[43m(\u001b[49m\u001b[43mmodel\u001b[49m\u001b[38;5;241;43m.\u001b[39;49m\u001b[43mx\u001b[49m\u001b[43m[\u001b[49m\u001b[43mi\u001b[49m\u001b[43m,\u001b[49m\u001b[43m \u001b[49m\u001b[43mj\u001b[49m\u001b[43m,\u001b[49m\u001b[43m \u001b[49m\u001b[43mt\u001b[49m\u001b[43m]\u001b[49m\u001b[43m \u001b[49m\u001b[38;5;28;43;01mfor\u001b[39;49;00m\u001b[43m \u001b[49m\u001b[43mj\u001b[49m\u001b[43m \u001b[49m\u001b[38;5;129;43;01min\u001b[39;49;00m\u001b[43m \u001b[49m\u001b[43moutgoing\u001b[49m\u001b[43m[\u001b[49m\u001b[43mi\u001b[49m\u001b[43m]\u001b[49m\u001b[43m)\u001b[49m \u001b[38;5;241m+\u001b[39m model\u001b[38;5;241m.\u001b[39mz[i, t]\n\u001b[0;32m     54\u001b[0m     \u001b[38;5;28;01mreturn\u001b[39;00m in_flow \u001b[38;5;241m==\u001b[39m out_flow\n",
      "Input \u001b[1;32mIn [18]\u001b[0m, in \u001b[0;36m<genexpr>\u001b[1;34m(.0)\u001b[0m\n\u001b[0;32m     51\u001b[0m \u001b[38;5;28;01mdef\u001b[39;00m \u001b[38;5;21mflow_conservation_rule\u001b[39m(model, i, t):\n\u001b[0;32m     52\u001b[0m     in_flow \u001b[38;5;241m=\u001b[39m \u001b[38;5;28msum\u001b[39m(model\u001b[38;5;241m.\u001b[39mx[j, i, t] \u001b[38;5;28;01mfor\u001b[39;00m j \u001b[38;5;129;01min\u001b[39;00m incoming[i]) \u001b[38;5;241m+\u001b[39m f(t) \u001b[38;5;28;01mif\u001b[39;00m i \u001b[38;5;241m==\u001b[39m \u001b[38;5;124m\"\u001b[39m\u001b[38;5;124mA\u001b[39m\u001b[38;5;124m\"\u001b[39m \u001b[38;5;28;01melse\u001b[39;00m \u001b[38;5;28msum\u001b[39m(model\u001b[38;5;241m.\u001b[39mx[j, i, t] \u001b[38;5;28;01mfor\u001b[39;00m j \u001b[38;5;129;01min\u001b[39;00m incoming[i])\n\u001b[1;32m---> 53\u001b[0m     out_flow \u001b[38;5;241m=\u001b[39m \u001b[38;5;28msum\u001b[39m(\u001b[43mmodel\u001b[49m\u001b[38;5;241;43m.\u001b[39;49m\u001b[43mx\u001b[49m\u001b[43m[\u001b[49m\u001b[43mi\u001b[49m\u001b[43m,\u001b[49m\u001b[43m \u001b[49m\u001b[43mj\u001b[49m\u001b[43m,\u001b[49m\u001b[43m \u001b[49m\u001b[43mt\u001b[49m\u001b[43m]\u001b[49m \u001b[38;5;28;01mfor\u001b[39;00m j \u001b[38;5;129;01min\u001b[39;00m outgoing[i]) \u001b[38;5;241m+\u001b[39m model\u001b[38;5;241m.\u001b[39mz[i, t]\n\u001b[0;32m     54\u001b[0m     \u001b[38;5;28;01mreturn\u001b[39;00m in_flow \u001b[38;5;241m==\u001b[39m out_flow\n",
      "File \u001b[1;32m~\\AppData\\Roaming\\Python\\Python310\\site-packages\\pyomo\\core\\base\\indexed_component.py:575\u001b[0m, in \u001b[0;36mIndexedComponent.__getitem__\u001b[1;34m(self, index)\u001b[0m\n\u001b[0;32m    573\u001b[0m \u001b[38;5;28;01mif\u001b[39;00m index\u001b[38;5;241m.\u001b[39m\u001b[38;5;18m__class__\u001b[39m \u001b[38;5;129;01mis\u001b[39;00m EXPR\u001b[38;5;241m.\u001b[39mGetItemExpression:\n\u001b[0;32m    574\u001b[0m     \u001b[38;5;28;01mreturn\u001b[39;00m index\n\u001b[1;32m--> 575\u001b[0m validated_index \u001b[38;5;241m=\u001b[39m \u001b[38;5;28;43mself\u001b[39;49m\u001b[38;5;241;43m.\u001b[39;49m\u001b[43m_validate_index\u001b[49m\u001b[43m(\u001b[49m\u001b[43mindex\u001b[49m\u001b[43m)\u001b[49m\n\u001b[0;32m    576\u001b[0m \u001b[38;5;28;01mif\u001b[39;00m validated_index \u001b[38;5;129;01mis\u001b[39;00m \u001b[38;5;129;01mnot\u001b[39;00m index:\n\u001b[0;32m    577\u001b[0m     index \u001b[38;5;241m=\u001b[39m validated_index\n",
      "File \u001b[1;32m~\\AppData\\Roaming\\Python\\Python310\\site-packages\\pyomo\\core\\base\\indexed_component.py:800\u001b[0m, in \u001b[0;36mIndexedComponent._validate_index\u001b[1;34m(self, idx)\u001b[0m\n\u001b[0;32m    794\u001b[0m     \u001b[38;5;28;01mraise\u001b[39;00m \u001b[38;5;167;01mKeyError\u001b[39;00m(\n\u001b[0;32m    795\u001b[0m         \u001b[38;5;124m\"\u001b[39m\u001b[38;5;124mCannot treat the scalar component \u001b[39m\u001b[38;5;124m'\u001b[39m\u001b[38;5;132;01m%s\u001b[39;00m\u001b[38;5;124m'\u001b[39m\u001b[38;5;124m \u001b[39m\u001b[38;5;124m\"\u001b[39m\n\u001b[0;32m    796\u001b[0m         \u001b[38;5;124m\"\u001b[39m\u001b[38;5;124mas an indexed component\u001b[39m\u001b[38;5;124m\"\u001b[39m \u001b[38;5;241m%\u001b[39m ( \u001b[38;5;28mself\u001b[39m\u001b[38;5;241m.\u001b[39mname, ))\n\u001b[0;32m    797\u001b[0m \u001b[38;5;66;03m#\u001b[39;00m\n\u001b[0;32m    798\u001b[0m \u001b[38;5;66;03m# Raise an exception\u001b[39;00m\n\u001b[0;32m    799\u001b[0m \u001b[38;5;66;03m#\u001b[39;00m\n\u001b[1;32m--> 800\u001b[0m \u001b[38;5;28;01mraise\u001b[39;00m \u001b[38;5;167;01mKeyError\u001b[39;00m(\n\u001b[0;32m    801\u001b[0m     \u001b[38;5;124m\"\u001b[39m\u001b[38;5;124mIndex \u001b[39m\u001b[38;5;124m'\u001b[39m\u001b[38;5;132;01m%s\u001b[39;00m\u001b[38;5;124m'\u001b[39m\u001b[38;5;124m is not valid for indexed component \u001b[39m\u001b[38;5;124m'\u001b[39m\u001b[38;5;132;01m%s\u001b[39;00m\u001b[38;5;124m'\u001b[39m\u001b[38;5;124m\"\u001b[39m\n\u001b[0;32m    802\u001b[0m     \u001b[38;5;241m%\u001b[39m ( idx, \u001b[38;5;28mself\u001b[39m\u001b[38;5;241m.\u001b[39mname, ))\n",
      "\u001b[1;31mKeyError\u001b[0m: \"Index '('A', 'AB', 1)' is not valid for indexed component 'x'\""
     ]
    }
   ],
   "source": [
    "import pyomo.environ as pyo\n",
    "import numpy as np\n",
    "\n",
    "# Define the data\n",
    "T = range(1, 11)  # time steps\n",
    "C = {  # capacities\n",
    "    \"AB\": 10, \"AC\": 10, \"AF\": 10, \"BC\": 10, \"BD\": 10, \"BE\": 10,\n",
    "    \"CE\": 10, \"CF\": 10, \"DE\": 10, \"EG\": 10, \"FB\": 10, \"FG\": 10\n",
    "}\n",
    "N = len(C)   # total number of pipes\n",
    "M = 10       # number of pipes to be activated\n",
    "\n",
    "# Define the points\n",
    "points = [\"A\", \"B\", \"C\", \"D\", \"E\", \"F\", \"G\"]\n",
    "\n",
    "# Define the incoming and outgoing pipes for each point\n",
    "incoming = {\n",
    "    \"A\": [], \"B\": [\"AB\", \"FB\"], \"C\": [\"AC\", \"BC\"], \"D\": [\"BD\"],\n",
    "    \"E\": [\"BE\", \"CE\", \"DE\"], \"F\": [\"AF\", \"CF\"], \"G\": [\"EG\", \"FG\"]\n",
    "}\n",
    "outgoing = {\n",
    "    \"A\": [\"AB\", \"AC\", \"AF\"], \"B\": [\"BC\", \"BD\", \"BE\"], \"C\": [\"CE\", \"CF\"],\n",
    "    \"D\": [\"DE\"], \"E\": [\"EG\"], \"F\": [\"FB\", \"FG\"], \"G\": []\n",
    "}\n",
    "\n",
    "# Define the function f(t)\n",
    "def f(t):\n",
    "    return max(-4/30 * t**3 + t**2 - 0.234 * t + 3, 0)\n",
    "\n",
    "# Create the Pyomo model\n",
    "model = pyo.ConcreteModel()\n",
    "\n",
    "# Define the sets\n",
    "model.T = pyo.Set(initialize=T)\n",
    "model.IJ = pyo.Set(initialize=C.keys())\n",
    "\n",
    "# Define the parameters\n",
    "model.C = pyo.Param(model.IJ, initialize=C)\n",
    "\n",
    "# Define the variables\n",
    "model.x = pyo.Var(model.IJ, model.T, domain=pyo.NonNegativeReals, bounds=(0, model.C))\n",
    "model.y = pyo.Var(model.IJ, model.T, domain=pyo.Binary)\n",
    "model.z = pyo.Var(points, model.T, domain=pyo.NonNegativeReals)\n",
    "\n",
    "# Define the objective function\n",
    "def obj_rule(model):\n",
    "    return sum(model.x[(\"EG\", t)] for t in model.T)\n",
    "model.obj = pyo.Objective(rule=obj_rule, sense=pyo.maximize)\n",
    "\n",
    "# Define the constraints\n",
    "def flow_conservation_rule(model, i, t):\n",
    "    in_flow = sum(model.x[j, i, t] for j in incoming[i]) + f(t) if i == \"A\" else sum(model.x[j, i, t] for j in incoming[i])\n",
    "    out_flow = sum(model.x[i, j, t] for j in outgoing[i]) + model.z[i, t]\n",
    "    return in_flow == out_flow\n",
    "model.flow_conservation = pyo.Constraint(points, model.T, rule=flow_conservation_rule)\n",
    "\n",
    "def capacity_rule(model, ij, t):\n",
    "    return model.x[ij, t] <= model.C[ij] * model.y[ij, t]\n",
    "model.capacity = pyo.Constraint(model.IJ, model.T, rule=capacity_rule)\n",
    "\n",
    "def activation_rule(model, t):\n",
    "    return sum(model.y[ij, t] for ij in model.IJ) <= M\n",
    "model.activation = pyo.Constraint(model.T, rule=activation_rule)\n",
    "\n",
    "# Solve the problem\n",
    "solver = pyo.SolverFactory(\"glpk\")\n",
    "results = solver.solve(model)\n",
    "\n",
    "# Print the results\n",
    "print(\"Objective value:\", pyo.value(model.obj))\n",
    "for ij in model.IJ:\n",
    "    for t in model.T:\n",
    "        print(f\"x_{ij}_{t}: {pyo.value(model.x[ij, t])}\")\n",
    "        print(f\"y_{ij}_{t}: {pyo.value(model.y[ij, t])}\")\n",
    "for i in points:\n",
    "    for t in model.T:\n",
    "        print(f\"z_{i}_{t}: {pyo.value(model.z[i, t])}\")"
   ]
  },
  {
   "cell_type": "markdown",
   "id": "95f5c3a8",
   "metadata": {},
   "source": [
    "### Solution Correctness"
   ]
  },
  {
   "cell_type": "code",
   "execution_count": null,
   "id": "01245691",
   "metadata": {},
   "outputs": [],
   "source": []
  }
 ],
 "metadata": {
  "kernelspec": {
   "display_name": "Python 3 (ipykernel)",
   "language": "python",
   "name": "python3"
  },
  "language_info": {
   "codemirror_mode": {
    "name": "ipython",
    "version": 3
   },
   "file_extension": ".py",
   "mimetype": "text/x-python",
   "name": "python",
   "nbconvert_exporter": "python",
   "pygments_lexer": "ipython3",
   "version": "3.10.4"
  }
 },
 "nbformat": 4,
 "nbformat_minor": 5
}
