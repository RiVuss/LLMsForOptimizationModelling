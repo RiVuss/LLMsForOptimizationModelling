{
 "cells": [
  {
   "cell_type": "code",
   "execution_count": 1,
   "id": "e5c2c174",
   "metadata": {},
   "outputs": [],
   "source": [
    "import os\n",
    "from mistralai.client import MistralClient\n",
    "from mistralai.models.chat_completion import ChatMessage\n",
    "from IPython.display import display, Markdown, Latex\n",
    "from datetime import datetime"
   ]
  },
  {
   "cell_type": "code",
   "execution_count": 2,
   "id": "b0c91a62",
   "metadata": {},
   "outputs": [
    {
     "name": "stdout",
     "output_type": "stream",
     "text": [
      "Time of execution: 2024-06-13 17:30:08.041541\n"
     ]
    }
   ],
   "source": [
    "API_KEY = os.environ['MISTRAL_API_KEY']\n",
    "\n",
    "MODEL_ID = 'open-mixtral-8x22b'\n",
    "MODEL_SEED = 3\n",
    "MODEL_TEMPERATURE = 0.7\n",
    "\n",
    "file_system_prompt_1 = open(\"../system_prompt_1.txt\", \"r\")\n",
    "file_system_prompt_2 = open(\"../system_prompt_2.txt\", \"r\")\n",
    "user_prompt_1 = open(\"../user_prompt_1.txt\", \"r\")\n",
    "user_prompt_2 = open(\"../user_prompt_2.txt\", \"r\")\n",
    "user_prompt_3 = open(\"../user_prompt_3.txt\", \"r\")\n",
    "SYSTEM_PROMPT_1 = file_system_prompt_1.read()\n",
    "SYSTEM_PROMPT_2 = file_system_prompt_2.read()\n",
    "USER_PROMPT_1 = user_prompt_1.read()\n",
    "USER_PROMPT_2 = user_prompt_2.read()\n",
    "USER_PROMPT_3 = user_prompt_3.read()\n",
    "file_system_prompt_1.close()\n",
    "file_system_prompt_2.close()\n",
    "user_prompt_1.close()\n",
    "user_prompt_2.close()\n",
    "user_prompt_3.close()\n",
    "\n",
    "FILE_PATH_PROBLEM = '../../../../Datasets/MIP_4_Water_Network/'\n",
    "assert(FILE_PATH_PROBLEM != '../../../../Datasets/')\n",
    "file_problem_description = open(FILE_PATH_PROBLEM + 'ProblemDescription.txt', 'r')\n",
    "PROBLEM_DESCRIPTION = file_problem_description.read()\n",
    "file_problem_description.close()\n",
    "\n",
    "\n",
    "\n",
    "client = MistralClient(api_key=API_KEY)\n",
    "\n",
    "print(f'Time of execution: {datetime.now()}')"
   ]
  },
  {
   "cell_type": "markdown",
   "id": "3e540824",
   "metadata": {},
   "source": [
    "## Step 1 - Generate Mathematical Formulation "
   ]
  },
  {
   "cell_type": "code",
   "execution_count": 3,
   "id": "174c127b",
   "metadata": {},
   "outputs": [],
   "source": [
    "messages_1 = [\n",
    "    ChatMessage(role=\"system\", content=SYSTEM_PROMPT_1),\n",
    "    ChatMessage(role=\"user\", content=PROBLEM_DESCRIPTION),\n",
    "    ChatMessage(role=\"user\", content=USER_PROMPT_1)\n",
    "]\n",
    "\n",
    "response_1 = client.chat(\n",
    "    model=MODEL_ID,\n",
    "    messages=messages_1,\n",
    "    random_seed=MODEL_SEED,\n",
    "    temperature=MODEL_TEMPERATURE \n",
    ")\n",
    "\n",
    "response_1_text = response_1.choices[0].message.content"
   ]
  },
  {
   "cell_type": "code",
   "execution_count": 4,
   "id": "03616e62",
   "metadata": {},
   "outputs": [
    {
     "data": {
      "text/markdown": [
       "1. Define parameters and variables:\n",
       "\n",
       "Parameters:\n",
       "- \\( t \\): time step, \\( t \\in \\{1, 2, ..., 10\\} \\)\n",
       "- \\( f(t) \\): water inflow at point A at time \\( t \\), \\( f(t) = \\max(-4/30t^3 + t^2 - 0.234t + 3, 0) \\)\n",
       "- \\( c_{ij} \\): capacity of pipe between points \\( i \\) and \\( j \\), where \\( i \\) and \\( j \\) are points from the set {A, B, C, D, E, F, G}\n",
       "\n",
       "Variables:\n",
       "- \\( x_{ijt} \\): the amount of water flowing from point \\( i \\) to point \\( j \\) at time \\( t \\)\n",
       "- \\( y_{ij} \\): binary variable indicating whether pipe between points \\( i \\) and \\( j \\) is activated or not (\\( y_{ij} = 1 \\) if activated, \\( y_{ij} = 0 \\) otherwise)\n",
       "\n",
       "Note:\n",
       "- \\( i \\) and \\( j \\) are points from the set {A, B, C, D, E, F, G} and \\( (i, j) \\) are the connections between the points.\n",
       "- The activated pipes are determined by \\( y_{ij} \\). Only 10 pipes can be activated.\n",
       "- \\( x_{ijt} \\) is the water flow between points \\( i \\) and \\( j \\) at time \\( t \\) through the activated pipes. The maximum flow is limited by the capacity \\( c_{ij} \\).\n",
       "- The water inflow at point A at time \\( t \\) is given by \\( f(t) \\). The water inflow at point A must flow out at time \\( t + 1 \\)."
      ],
      "text/plain": [
       "<IPython.core.display.Markdown object>"
      ]
     },
     "execution_count": 4,
     "metadata": {},
     "output_type": "execute_result"
    }
   ],
   "source": [
    "Markdown(response_1_text)"
   ]
  },
  {
   "cell_type": "code",
   "execution_count": 5,
   "id": "b6a33171",
   "metadata": {},
   "outputs": [
    {
     "name": "stdout",
     "output_type": "stream",
     "text": [
      "1. Define parameters and variables:\n",
      "\n",
      "Parameters:\n",
      "- \\( t \\): time step, \\( t \\in \\{1, 2, ..., 10\\} \\)\n",
      "- \\( f(t) \\): water inflow at point A at time \\( t \\), \\( f(t) = \\max(-4/30t^3 + t^2 - 0.234t + 3, 0) \\)\n",
      "- \\( c_{ij} \\): capacity of pipe between points \\( i \\) and \\( j \\), where \\( i \\) and \\( j \\) are points from the set {A, B, C, D, E, F, G}\n",
      "\n",
      "Variables:\n",
      "- \\( x_{ijt} \\): the amount of water flowing from point \\( i \\) to point \\( j \\) at time \\( t \\)\n",
      "- \\( y_{ij} \\): binary variable indicating whether pipe between points \\( i \\) and \\( j \\) is activated or not (\\( y_{ij} = 1 \\) if activated, \\( y_{ij} = 0 \\) otherwise)\n",
      "\n",
      "Note:\n",
      "- \\( i \\) and \\( j \\) are points from the set {A, B, C, D, E, F, G} and \\( (i, j) \\) are the connections between the points.\n",
      "- The activated pipes are determined by \\( y_{ij} \\). Only 10 pipes can be activated.\n",
      "- \\( x_{ijt} \\) is the water flow between points \\( i \\) and \\( j \\) at time \\( t \\) through the activated pipes. The maximum flow is limited by the capacity \\( c_{ij} \\).\n",
      "- The water inflow at point A at time \\( t \\) is given by \\( f(t) \\). The water inflow at point A must flow out at time \\( t + 1 \\).\n"
     ]
    }
   ],
   "source": [
    "print(response_1_text)"
   ]
  },
  {
   "cell_type": "code",
   "execution_count": 6,
   "id": "9af61485",
   "metadata": {},
   "outputs": [],
   "source": [
    "messages_2 = [\n",
    "    ChatMessage(role=\"system\", content=SYSTEM_PROMPT_1),\n",
    "    ChatMessage(role=\"user\", content=PROBLEM_DESCRIPTION),\n",
    "    ChatMessage(role=\"user\", content=USER_PROMPT_1),\n",
    "    ChatMessage(role=\"assistant\", content=response_1_text),\n",
    "    ChatMessage(role=\"user\", content=USER_PROMPT_2),\n",
    "]\n",
    "\n",
    "response_2 = client.chat(\n",
    "    model=MODEL_ID,\n",
    "    messages=messages_2,\n",
    "    random_seed=MODEL_SEED,\n",
    "    temperature=MODEL_TEMPERATURE \n",
    ")\n",
    "\n",
    "response_2_text = response_2.choices[0].message.content"
   ]
  },
  {
   "cell_type": "code",
   "execution_count": 7,
   "id": "ac0f2659",
   "metadata": {},
   "outputs": [
    {
     "data": {
      "text/markdown": [
       "Objective function:\n",
       "\n",
       "The objective is to maximize the total water flow to point G over 10 time steps. The total water flow to point G can be calculated by summing up the water flow from point E and point F to point G over the 10 time steps.\n",
       "\n",
       "Let \\( T \\) be the set of time steps \\( \\{1, 2, ..., 10\\} \\).\n",
       "\n",
       "The objective function is then:\n",
       "\n",
       "\\[ \\max \\sum_{t \\in T} (x_{EGt} + x_{FGt}) \\]\n",
       "\n",
       "This maximizes the total water flow to point G over the 10 time steps."
      ],
      "text/plain": [
       "<IPython.core.display.Markdown object>"
      ]
     },
     "execution_count": 7,
     "metadata": {},
     "output_type": "execute_result"
    }
   ],
   "source": [
    "Markdown(response_2_text)"
   ]
  },
  {
   "cell_type": "code",
   "execution_count": 8,
   "id": "6e93b2aa",
   "metadata": {},
   "outputs": [
    {
     "name": "stdout",
     "output_type": "stream",
     "text": [
      "Objective function:\n",
      "\n",
      "The objective is to maximize the total water flow to point G over 10 time steps. The total water flow to point G can be calculated by summing up the water flow from point E and point F to point G over the 10 time steps.\n",
      "\n",
      "Let \\( T \\) be the set of time steps \\( \\{1, 2, ..., 10\\} \\).\n",
      "\n",
      "The objective function is then:\n",
      "\n",
      "\\[ \\max \\sum_{t \\in T} (x_{EGt} + x_{FGt}) \\]\n",
      "\n",
      "This maximizes the total water flow to point G over the 10 time steps.\n"
     ]
    }
   ],
   "source": [
    "print(response_2_text)"
   ]
  },
  {
   "cell_type": "code",
   "execution_count": 9,
   "id": "d7d2d8bc",
   "metadata": {},
   "outputs": [],
   "source": [
    "messages_3 = [\n",
    "    ChatMessage(role=\"system\", content=SYSTEM_PROMPT_1),\n",
    "    ChatMessage(role=\"user\", content=PROBLEM_DESCRIPTION),\n",
    "    ChatMessage(role=\"user\", content=USER_PROMPT_1),\n",
    "    ChatMessage(role=\"assistant\", content=response_1_text),\n",
    "    ChatMessage(role=\"user\", content=USER_PROMPT_2),\n",
    "    ChatMessage(role=\"assistant\", content=response_2_text),\n",
    "    ChatMessage(role=\"user\", content=USER_PROMPT_3),\n",
    "]\n",
    "\n",
    "response_3 = client.chat(\n",
    "    model=MODEL_ID,\n",
    "    messages=messages_3,\n",
    "    random_seed=MODEL_SEED,\n",
    "    temperature=MODEL_TEMPERATURE \n",
    ")\n",
    "\n",
    "response_3_text = response_3.choices[0].message.content"
   ]
  },
  {
   "cell_type": "code",
   "execution_count": 10,
   "id": "c4588e6c",
   "metadata": {},
   "outputs": [
    {
     "data": {
      "text/markdown": [
       "3. Define constraints:\n",
       "\n",
       "The constraints are defined based on the problem statement and the defined variables.\n",
       "\n",
       "1. Water inflow constraint: The water inflow at point A at time \\( t \\) must be equal to the sum of the water flowing out of point A at time \\( t \\).\n",
       "\n",
       "\\[ f(t) = \\sum_{i \\in \\{B, C, F\\}} x_{Ait} \\]\n",
       "\n",
       "1. Water balance constraint: The water flowing into a point must be equal to the water flowing out of that point at the next time step.\n",
       "\n",
       "\\[ \\forall t \\in T \\setminus \\{10\\}, \\forall j \\in \\{B, C, D, E, F\\}, \\sum_{i \\in \\{A, B, C, D, E, F\\}} x_{ijt} = \\sum_{k \\in \\{B, C, D, E, F, G\\}} x_{jkt+1} \\]\n",
       "\n",
       "1. Capacity constraint: The water flowing through a pipe must not exceed the capacity of that pipe.\n",
       "\n",
       "\\[ \\forall t \\in T, \\forall (i, j) \\in \\{(A, B), (A, C), (A, F), (B, C), (B, D), (B, E), (C, E), (C, F), (D, E), (E, G), (F, B), (F, G)\\}, x_{ijt} \\leq y_{ij} c_{ij} \\]\n",
       "\n",
       "1. Activation constraint: Only 10 pipes can be activated.\n",
       "\n",
       "\\[ \\sum_{(i, j) \\in \\{(A, B), (A, C), (A, F), (B, C), (B, D), (B, E), (C, E), (C, F), (D, E), (E, G), (F, B), (F, G)\\}} y_{ij} \\leq 10 \\]\n",
       "\n",
       "1. Non-negativity constraint: The water flow through a pipe must be non-negative and the binary variable \\( y_{ij} \\) must be either 0 or 1.\n",
       "\n",
       "\\[ \\forall t \\in T, \\forall (i, j) \\in \\{(A, B), (A, C), (A, F), (B, C), (B, D), (B, E), (C, E), (C, F), (D, E), (E, G), (F, B), (F, G)\\}, x_{ijt} \\geq 0 \\]\n",
       "\\[ \\forall (i, j) \\in \\{(A, B), (A, C), (A, F), (B, C), (B, D), (B, E), (C, E), (C, F), (D, E), (E, G), (F, B), (F, G)\\}, y_{ij} \\in \\{0, 1\\} \\]\n",
       "\n",
       "These constraints ensure that the water flows through the network in a feasible way and that the capacity and activation constraints are satisfied."
      ],
      "text/plain": [
       "<IPython.core.display.Markdown object>"
      ]
     },
     "execution_count": 10,
     "metadata": {},
     "output_type": "execute_result"
    }
   ],
   "source": [
    "Markdown(response_3_text)"
   ]
  },
  {
   "cell_type": "code",
   "execution_count": 11,
   "id": "b74cfcbe",
   "metadata": {},
   "outputs": [
    {
     "name": "stdout",
     "output_type": "stream",
     "text": [
      "3. Define constraints:\n",
      "\n",
      "The constraints are defined based on the problem statement and the defined variables.\n",
      "\n",
      "1. Water inflow constraint: The water inflow at point A at time \\( t \\) must be equal to the sum of the water flowing out of point A at time \\( t \\).\n",
      "\n",
      "\\[ f(t) = \\sum_{i \\in \\{B, C, F\\}} x_{Ait} \\]\n",
      "\n",
      "1. Water balance constraint: The water flowing into a point must be equal to the water flowing out of that point at the next time step.\n",
      "\n",
      "\\[ \\forall t \\in T \\setminus \\{10\\}, \\forall j \\in \\{B, C, D, E, F\\}, \\sum_{i \\in \\{A, B, C, D, E, F\\}} x_{ijt} = \\sum_{k \\in \\{B, C, D, E, F, G\\}} x_{jkt+1} \\]\n",
      "\n",
      "1. Capacity constraint: The water flowing through a pipe must not exceed the capacity of that pipe.\n",
      "\n",
      "\\[ \\forall t \\in T, \\forall (i, j) \\in \\{(A, B), (A, C), (A, F), (B, C), (B, D), (B, E), (C, E), (C, F), (D, E), (E, G), (F, B), (F, G)\\}, x_{ijt} \\leq y_{ij} c_{ij} \\]\n",
      "\n",
      "1. Activation constraint: Only 10 pipes can be activated.\n",
      "\n",
      "\\[ \\sum_{(i, j) \\in \\{(A, B), (A, C), (A, F), (B, C), (B, D), (B, E), (C, E), (C, F), (D, E), (E, G), (F, B), (F, G)\\}} y_{ij} \\leq 10 \\]\n",
      "\n",
      "1. Non-negativity constraint: The water flow through a pipe must be non-negative and the binary variable \\( y_{ij} \\) must be either 0 or 1.\n",
      "\n",
      "\\[ \\forall t \\in T, \\forall (i, j) \\in \\{(A, B), (A, C), (A, F), (B, C), (B, D), (B, E), (C, E), (C, F), (D, E), (E, G), (F, B), (F, G)\\}, x_{ijt} \\geq 0 \\]\n",
      "\\[ \\forall (i, j) \\in \\{(A, B), (A, C), (A, F), (B, C), (B, D), (B, E), (C, E), (C, F), (D, E), (E, G), (F, B), (F, G)\\}, y_{ij} \\in \\{0, 1\\} \\]\n",
      "\n",
      "These constraints ensure that the water flows through the network in a feasible way and that the capacity and activation constraints are satisfied.\n"
     ]
    }
   ],
   "source": [
    "print(response_3_text)"
   ]
  },
  {
   "cell_type": "code",
   "execution_count": 12,
   "id": "e73cd25c",
   "metadata": {},
   "outputs": [
    {
     "data": {
      "text/markdown": [
       "1. Define parameters and variables:\n",
       "\n",
       "Parameters:\n",
       "- \\( t \\): time step, \\( t \\in \\{1, 2, ..., 10\\} \\)\n",
       "- \\( f(t) \\): water inflow at point A at time \\( t \\), \\( f(t) = \\max(-4/30t^3 + t^2 - 0.234t + 3, 0) \\)\n",
       "- \\( c_{ij} \\): capacity of pipe between points \\( i \\) and \\( j \\), where \\( i \\) and \\( j \\) are points from the set {A, B, C, D, E, F, G}\n",
       "\n",
       "Variables:\n",
       "- \\( x_{ijt} \\): the amount of water flowing from point \\( i \\) to point \\( j \\) at time \\( t \\)\n",
       "- \\( y_{ij} \\): binary variable indicating whether pipe between points \\( i \\) and \\( j \\) is activated or not (\\( y_{ij} = 1 \\) if activated, \\( y_{ij} = 0 \\) otherwise)\n",
       "\n",
       "Note:\n",
       "- \\( i \\) and \\( j \\) are points from the set {A, B, C, D, E, F, G} and \\( (i, j) \\) are the connections between the points.\n",
       "- The activated pipes are determined by \\( y_{ij} \\). Only 10 pipes can be activated.\n",
       "- \\( x_{ijt} \\) is the water flow between points \\( i \\) and \\( j \\) at time \\( t \\) through the activated pipes. The maximum flow is limited by the capacity \\( c_{ij} \\).\n",
       "- The water inflow at point A at time \\( t \\) is given by \\( f(t) \\). The water inflow at point A must flow out at time \\( t + 1 \\).\n",
       "Objective function:\n",
       "\n",
       "The objective is to maximize the total water flow to point G over 10 time steps. The total water flow to point G can be calculated by summing up the water flow from point E and point F to point G over the 10 time steps.\n",
       "\n",
       "Let \\( T \\) be the set of time steps \\( \\{1, 2, ..., 10\\} \\).\n",
       "\n",
       "The objective function is then:\n",
       "\n",
       "\\[ \\max \\sum_{t \\in T} (x_{EGt} + x_{FGt}) \\]\n",
       "\n",
       "This maximizes the total water flow to point G over the 10 time steps.\n",
       "3. Define constraints:\n",
       "\n",
       "The constraints are defined based on the problem statement and the defined variables.\n",
       "\n",
       "1. Water inflow constraint: The water inflow at point A at time \\( t \\) must be equal to the sum of the water flowing out of point A at time \\( t \\).\n",
       "\n",
       "\\[ f(t) = \\sum_{i \\in \\{B, C, F\\}} x_{Ait} \\]\n",
       "\n",
       "1. Water balance constraint: The water flowing into a point must be equal to the water flowing out of that point at the next time step.\n",
       "\n",
       "\\[ \\forall t \\in T \\setminus \\{10\\}, \\forall j \\in \\{B, C, D, E, F\\}, \\sum_{i \\in \\{A, B, C, D, E, F\\}} x_{ijt} = \\sum_{k \\in \\{B, C, D, E, F, G\\}} x_{jkt+1} \\]\n",
       "\n",
       "1. Capacity constraint: The water flowing through a pipe must not exceed the capacity of that pipe.\n",
       "\n",
       "\\[ \\forall t \\in T, \\forall (i, j) \\in \\{(A, B), (A, C), (A, F), (B, C), (B, D), (B, E), (C, E), (C, F), (D, E), (E, G), (F, B), (F, G)\\}, x_{ijt} \\leq y_{ij} c_{ij} \\]\n",
       "\n",
       "1. Activation constraint: Only 10 pipes can be activated.\n",
       "\n",
       "\\[ \\sum_{(i, j) \\in \\{(A, B), (A, C), (A, F), (B, C), (B, D), (B, E), (C, E), (C, F), (D, E), (E, G), (F, B), (F, G)\\}} y_{ij} \\leq 10 \\]\n",
       "\n",
       "1. Non-negativity constraint: The water flow through a pipe must be non-negative and the binary variable \\( y_{ij} \\) must be either 0 or 1.\n",
       "\n",
       "\\[ \\forall t \\in T, \\forall (i, j) \\in \\{(A, B), (A, C), (A, F), (B, C), (B, D), (B, E), (C, E), (C, F), (D, E), (E, G), (F, B), (F, G)\\}, x_{ijt} \\geq 0 \\]\n",
       "\\[ \\forall (i, j) \\in \\{(A, B), (A, C), (A, F), (B, C), (B, D), (B, E), (C, E), (C, F), (D, E), (E, G), (F, B), (F, G)\\}, y_{ij} \\in \\{0, 1\\} \\]\n",
       "\n",
       "These constraints ensure that the water flows through the network in a feasible way and that the capacity and activation constraints are satisfied."
      ],
      "text/plain": [
       "<IPython.core.display.Markdown object>"
      ]
     },
     "execution_count": 12,
     "metadata": {},
     "output_type": "execute_result"
    }
   ],
   "source": [
    "response_text = '\\n'.join([response_1_text, response_2_text, response_3_text])\n",
    "\n",
    "Markdown(response_text)"
   ]
  },
  {
   "cell_type": "code",
   "execution_count": 13,
   "id": "dd3d0006",
   "metadata": {},
   "outputs": [
    {
     "name": "stdout",
     "output_type": "stream",
     "text": [
      "1. Define parameters and variables:\n",
      "\n",
      "Parameters:\n",
      "- \\( t \\): time step, \\( t \\in \\{1, 2, ..., 10\\} \\)\n",
      "- \\( f(t) \\): water inflow at point A at time \\( t \\), \\( f(t) = \\max(-4/30t^3 + t^2 - 0.234t + 3, 0) \\)\n",
      "- \\( c_{ij} \\): capacity of pipe between points \\( i \\) and \\( j \\), where \\( i \\) and \\( j \\) are points from the set {A, B, C, D, E, F, G}\n",
      "\n",
      "Variables:\n",
      "- \\( x_{ijt} \\): the amount of water flowing from point \\( i \\) to point \\( j \\) at time \\( t \\)\n",
      "- \\( y_{ij} \\): binary variable indicating whether pipe between points \\( i \\) and \\( j \\) is activated or not (\\( y_{ij} = 1 \\) if activated, \\( y_{ij} = 0 \\) otherwise)\n",
      "\n",
      "Note:\n",
      "- \\( i \\) and \\( j \\) are points from the set {A, B, C, D, E, F, G} and \\( (i, j) \\) are the connections between the points.\n",
      "- The activated pipes are determined by \\( y_{ij} \\). Only 10 pipes can be activated.\n",
      "- \\( x_{ijt} \\) is the water flow between points \\( i \\) and \\( j \\) at time \\( t \\) through the activated pipes. The maximum flow is limited by the capacity \\( c_{ij} \\).\n",
      "- The water inflow at point A at time \\( t \\) is given by \\( f(t) \\). The water inflow at point A must flow out at time \\( t + 1 \\).\n",
      "Objective function:\n",
      "\n",
      "The objective is to maximize the total water flow to point G over 10 time steps. The total water flow to point G can be calculated by summing up the water flow from point E and point F to point G over the 10 time steps.\n",
      "\n",
      "Let \\( T \\) be the set of time steps \\( \\{1, 2, ..., 10\\} \\).\n",
      "\n",
      "The objective function is then:\n",
      "\n",
      "\\[ \\max \\sum_{t \\in T} (x_{EGt} + x_{FGt}) \\]\n",
      "\n",
      "This maximizes the total water flow to point G over the 10 time steps.\n",
      "3. Define constraints:\n",
      "\n",
      "The constraints are defined based on the problem statement and the defined variables.\n",
      "\n",
      "1. Water inflow constraint: The water inflow at point A at time \\( t \\) must be equal to the sum of the water flowing out of point A at time \\( t \\).\n",
      "\n",
      "\\[ f(t) = \\sum_{i \\in \\{B, C, F\\}} x_{Ait} \\]\n",
      "\n",
      "1. Water balance constraint: The water flowing into a point must be equal to the water flowing out of that point at the next time step.\n",
      "\n",
      "\\[ \\forall t \\in T \\setminus \\{10\\}, \\forall j \\in \\{B, C, D, E, F\\}, \\sum_{i \\in \\{A, B, C, D, E, F\\}} x_{ijt} = \\sum_{k \\in \\{B, C, D, E, F, G\\}} x_{jkt+1} \\]\n",
      "\n",
      "1. Capacity constraint: The water flowing through a pipe must not exceed the capacity of that pipe.\n",
      "\n",
      "\\[ \\forall t \\in T, \\forall (i, j) \\in \\{(A, B), (A, C), (A, F), (B, C), (B, D), (B, E), (C, E), (C, F), (D, E), (E, G), (F, B), (F, G)\\}, x_{ijt} \\leq y_{ij} c_{ij} \\]\n",
      "\n",
      "1. Activation constraint: Only 10 pipes can be activated.\n",
      "\n",
      "\\[ \\sum_{(i, j) \\in \\{(A, B), (A, C), (A, F), (B, C), (B, D), (B, E), (C, E), (C, F), (D, E), (E, G), (F, B), (F, G)\\}} y_{ij} \\leq 10 \\]\n",
      "\n",
      "1. Non-negativity constraint: The water flow through a pipe must be non-negative and the binary variable \\( y_{ij} \\) must be either 0 or 1.\n",
      "\n",
      "\\[ \\forall t \\in T, \\forall (i, j) \\in \\{(A, B), (A, C), (A, F), (B, C), (B, D), (B, E), (C, E), (C, F), (D, E), (E, G), (F, B), (F, G)\\}, x_{ijt} \\geq 0 \\]\n",
      "\\[ \\forall (i, j) \\in \\{(A, B), (A, C), (A, F), (B, C), (B, D), (B, E), (C, E), (C, F), (D, E), (E, G), (F, B), (F, G)\\}, y_{ij} \\in \\{0, 1\\} \\]\n",
      "\n",
      "These constraints ensure that the water flows through the network in a feasible way and that the capacity and activation constraints are satisfied.\n"
     ]
    }
   ],
   "source": [
    "print(response_text)"
   ]
  },
  {
   "cell_type": "markdown",
   "id": "27b5f89a",
   "metadata": {},
   "source": [
    "## Step 2 - Generate the Pyomo Code"
   ]
  },
  {
   "cell_type": "code",
   "execution_count": 14,
   "id": "a4c3312f",
   "metadata": {},
   "outputs": [],
   "source": [
    "messages_4 = [\n",
    "    ChatMessage(role=\"system\", content=SYSTEM_PROMPT_2),\n",
    "    ChatMessage(role=\"user\", content=response_text)\n",
    "]"
   ]
  },
  {
   "cell_type": "code",
   "execution_count": 15,
   "id": "4212d99d",
   "metadata": {},
   "outputs": [],
   "source": [
    "response_4 = client.chat(\n",
    "    model=MODEL_ID,\n",
    "    messages=messages_4,\n",
    "    random_seed=MODEL_SEED,\n",
    "    temperature=MODEL_TEMPERATURE\n",
    ")\n",
    "\n",
    "response_4_text = response_4.choices[0].message.content"
   ]
  },
  {
   "cell_type": "code",
   "execution_count": 16,
   "id": "c168a60b",
   "metadata": {},
   "outputs": [
    {
     "data": {
      "text/markdown": [
       "To solve the optimization problem using Pyomo, we first need to install the necessary packages. If you haven't done so, you can install them using the following command:\n",
       "\n",
       "```\n",
       "!pip install pyomo pandas\n",
       "```\n",
       "\n",
       "Now, let's write the Pyomo code for the given problem:\n",
       "\n",
       "```python\n",
       "import pyomo.environ as pyo\n",
       "import numpy as np\n",
       "import pandas as pd\n",
       "from pyomo.opt import SolverFactory\n",
       "\n",
       "# Define the time steps\n",
       "T = range(1, 11)\n",
       "\n",
       "# Define the points\n",
       "points = ['A', 'B', 'C', 'D', 'E', 'F', 'G']\n",
       "\n",
       "# Define the connections\n",
       "connections = [('A', 'B'), ('A', 'C'), ('A', 'F'), ('B', 'C'), ('B', 'D'), ('B', 'E'),\n",
       "               ('C', 'E'), ('C', 'F'), ('D', 'E'), ('E', 'G'), ('F', 'B'), ('F', 'G')]\n",
       "\n",
       "# Define the capacities (sample data)\n",
       "capacities = pd.DataFrame(index=connections, columns=['capacity'], data=np.random.randint(1, 10, len(connections)))\n",
       "\n",
       "# Define the water inflow function\n",
       "def water_inflow(t):\n",
       "    f = -4/30 * t**3 + t**2 - 0.234 * t + 3\n",
       "    return max(f, 0)\n",
       "\n",
       "# Create the Pyomo model\n",
       "model = pyo.ConcreteModel()\n",
       "\n",
       "# Define the variables\n",
       "model.x = pyo.Var(connections, T, domain=pyo.NonNegativeReals)\n",
       "model.y = pyo.Var(connections, domain=pyo.Binary)\n",
       "\n",
       "# Define the objective function\n",
       "def obj_rule(model):\n",
       "    return sum(model.x[('E', 'G'), t] + model.x[('F', 'G'), t] for t in T)\n",
       "model.objective = pyo.Objective(rule=obj_rule, sense=pyo.maximize)\n",
       "\n",
       "# Define the constraints\n",
       "def inflow_rule(model, t):\n",
       "    return sum(model.x[(i, j), t] for i, j in connections if i == 'A') == water_inflow(t)\n",
       "model.inflow_constraint = pyo.Constraint(T, rule=inflow_rule)\n",
       "\n",
       "def balance_rule(model, t, j):\n",
       "    if t < 10:\n",
       "        return sum(model.x[(i, j), t] for i in points if (i, j) in connections) == sum(model.x[(j, k), t + 1] for k in points if (j, k) in connections)\n",
       "    else:\n",
       "        return pyo.Constraint.Skip\n",
       "model.balance_constraint = pyo.Constraint(T, points, rule=balance_rule)\n",
       "\n",
       "def capacity_rule(model, t, i, j):\n",
       "    return model.x[(i, j), t] <= model.y[(i, j)] * capacities.loc[(i, j), 'capacity']\n",
       "model.capacity_constraint = pyo.Constraint(T, connections, rule=capacity_rule)\n",
       "\n",
       "def activation_rule(model):\n",
       "    return sum(model.y[i, j] for i, j in connections) <= 10\n",
       "model.activation_constraint = pyo.Constraint(rule=activation_rule)\n",
       "\n",
       "# Solve the model\n",
       "solver = SolverFactory('glpk')\n",
       "solver.solve(model)\n",
       "\n",
       "# Print the results\n",
       "print(\"Total water flow to point G: \", pyo.value(model.objective))\n",
       "for t in T:\n",
       "    print(f\"Water flow at time {t}: {sum(model.x[(i, j), t]() for i, j in connections if j == 'G')}\")\n",
       "```\n",
       "\n",
       "This code defines the Pyomo model and solves it using the GLPK solver. The results will show the total water flow to point G and the water flow at each time step. Please note that the capacities are randomly generated sample data. You can replace them with your actual data."
      ],
      "text/plain": [
       "<IPython.core.display.Markdown object>"
      ]
     },
     "execution_count": 16,
     "metadata": {},
     "output_type": "execute_result"
    }
   ],
   "source": [
    "Markdown(response_4_text)"
   ]
  },
  {
   "cell_type": "code",
   "execution_count": 17,
   "id": "a380c180",
   "metadata": {},
   "outputs": [
    {
     "name": "stdout",
     "output_type": "stream",
     "text": [
      "To solve the optimization problem using Pyomo, we first need to install the necessary packages. If you haven't done so, you can install them using the following command:\n",
      "\n",
      "```\n",
      "!pip install pyomo pandas\n",
      "```\n",
      "\n",
      "Now, let's write the Pyomo code for the given problem:\n",
      "\n",
      "```python\n",
      "import pyomo.environ as pyo\n",
      "import numpy as np\n",
      "import pandas as pd\n",
      "from pyomo.opt import SolverFactory\n",
      "\n",
      "# Define the time steps\n",
      "T = range(1, 11)\n",
      "\n",
      "# Define the points\n",
      "points = ['A', 'B', 'C', 'D', 'E', 'F', 'G']\n",
      "\n",
      "# Define the connections\n",
      "connections = [('A', 'B'), ('A', 'C'), ('A', 'F'), ('B', 'C'), ('B', 'D'), ('B', 'E'),\n",
      "               ('C', 'E'), ('C', 'F'), ('D', 'E'), ('E', 'G'), ('F', 'B'), ('F', 'G')]\n",
      "\n",
      "# Define the capacities (sample data)\n",
      "capacities = pd.DataFrame(index=connections, columns=['capacity'], data=np.random.randint(1, 10, len(connections)))\n",
      "\n",
      "# Define the water inflow function\n",
      "def water_inflow(t):\n",
      "    f = -4/30 * t**3 + t**2 - 0.234 * t + 3\n",
      "    return max(f, 0)\n",
      "\n",
      "# Create the Pyomo model\n",
      "model = pyo.ConcreteModel()\n",
      "\n",
      "# Define the variables\n",
      "model.x = pyo.Var(connections, T, domain=pyo.NonNegativeReals)\n",
      "model.y = pyo.Var(connections, domain=pyo.Binary)\n",
      "\n",
      "# Define the objective function\n",
      "def obj_rule(model):\n",
      "    return sum(model.x[('E', 'G'), t] + model.x[('F', 'G'), t] for t in T)\n",
      "model.objective = pyo.Objective(rule=obj_rule, sense=pyo.maximize)\n",
      "\n",
      "# Define the constraints\n",
      "def inflow_rule(model, t):\n",
      "    return sum(model.x[(i, j), t] for i, j in connections if i == 'A') == water_inflow(t)\n",
      "model.inflow_constraint = pyo.Constraint(T, rule=inflow_rule)\n",
      "\n",
      "def balance_rule(model, t, j):\n",
      "    if t < 10:\n",
      "        return sum(model.x[(i, j), t] for i in points if (i, j) in connections) == sum(model.x[(j, k), t + 1] for k in points if (j, k) in connections)\n",
      "    else:\n",
      "        return pyo.Constraint.Skip\n",
      "model.balance_constraint = pyo.Constraint(T, points, rule=balance_rule)\n",
      "\n",
      "def capacity_rule(model, t, i, j):\n",
      "    return model.x[(i, j), t] <= model.y[(i, j)] * capacities.loc[(i, j), 'capacity']\n",
      "model.capacity_constraint = pyo.Constraint(T, connections, rule=capacity_rule)\n",
      "\n",
      "def activation_rule(model):\n",
      "    return sum(model.y[i, j] for i, j in connections) <= 10\n",
      "model.activation_constraint = pyo.Constraint(rule=activation_rule)\n",
      "\n",
      "# Solve the model\n",
      "solver = SolverFactory('glpk')\n",
      "solver.solve(model)\n",
      "\n",
      "# Print the results\n",
      "print(\"Total water flow to point G: \", pyo.value(model.objective))\n",
      "for t in T:\n",
      "    print(f\"Water flow at time {t}: {sum(model.x[(i, j), t]() for i, j in connections if j == 'G')}\")\n",
      "```\n",
      "\n",
      "This code defines the Pyomo model and solves it using the GLPK solver. The results will show the total water flow to point G and the water flow at each time step. Please note that the capacities are randomly generated sample data. You can replace them with your actual data.\n"
     ]
    }
   ],
   "source": [
    "print(response_4_text)"
   ]
  },
  {
   "cell_type": "markdown",
   "id": "879cc7ae",
   "metadata": {},
   "source": [
    "### Code Executability"
   ]
  },
  {
   "cell_type": "code",
   "execution_count": 18,
   "id": "f1d9a625",
   "metadata": {},
   "outputs": [
    {
     "name": "stderr",
     "output_type": "stream",
     "text": [
      "2024-06-13 17:35:48,886 ERROR pyomo.core: Rule failed when generating expression for Constraint capacity_constraint with index (1, 'A', 'B'):\n",
      "KeyError: \"None of [Index(['A', 'B'], dtype='object')] are in the [index]\"\n",
      "2024-06-13 17:35:48,887 ERROR pyomo.core: Constructing component 'capacity_constraint' from data=None failed:\n",
      "KeyError: \"None of [Index(['A', 'B'], dtype='object')] are in the [index]\"\n"
     ]
    },
    {
     "ename": "KeyError",
     "evalue": "\"None of [Index(['A', 'B'], dtype='object')] are in the [index]\"",
     "output_type": "error",
     "traceback": [
      "\u001b[1;31m---------------------------------------------------------------------------\u001b[0m",
      "\u001b[1;31mKeyError\u001b[0m                                  Traceback (most recent call last)",
      "Input \u001b[1;32mIn [18]\u001b[0m, in \u001b[0;36m<cell line: 50>\u001b[1;34m()\u001b[0m\n\u001b[0;32m     48\u001b[0m \u001b[38;5;28;01mdef\u001b[39;00m \u001b[38;5;21mcapacity_rule\u001b[39m(model, t, i, j):\n\u001b[0;32m     49\u001b[0m     \u001b[38;5;28;01mreturn\u001b[39;00m model\u001b[38;5;241m.\u001b[39mx[(i, j), t] \u001b[38;5;241m<\u001b[39m\u001b[38;5;241m=\u001b[39m model\u001b[38;5;241m.\u001b[39my[(i, j)] \u001b[38;5;241m*\u001b[39m capacities\u001b[38;5;241m.\u001b[39mloc[(i, j), \u001b[38;5;124m'\u001b[39m\u001b[38;5;124mcapacity\u001b[39m\u001b[38;5;124m'\u001b[39m]\n\u001b[1;32m---> 50\u001b[0m model\u001b[38;5;241m.\u001b[39mcapacity_constraint \u001b[38;5;241m=\u001b[39m pyo\u001b[38;5;241m.\u001b[39mConstraint(T, connections, rule\u001b[38;5;241m=\u001b[39mcapacity_rule)\n\u001b[0;32m     52\u001b[0m \u001b[38;5;28;01mdef\u001b[39;00m \u001b[38;5;21mactivation_rule\u001b[39m(model):\n\u001b[0;32m     53\u001b[0m     \u001b[38;5;28;01mreturn\u001b[39;00m \u001b[38;5;28msum\u001b[39m(model\u001b[38;5;241m.\u001b[39my[i, j] \u001b[38;5;28;01mfor\u001b[39;00m i, j \u001b[38;5;129;01min\u001b[39;00m connections) \u001b[38;5;241m<\u001b[39m\u001b[38;5;241m=\u001b[39m \u001b[38;5;241m10\u001b[39m\n",
      "File \u001b[1;32m~\\AppData\\Roaming\\Python\\Python310\\site-packages\\pyomo\\core\\base\\block.py:639\u001b[0m, in \u001b[0;36m_BlockData.__setattr__\u001b[1;34m(self, name, val)\u001b[0m\n\u001b[0;32m    634\u001b[0m \u001b[38;5;28;01mif\u001b[39;00m name \u001b[38;5;129;01mnot\u001b[39;00m \u001b[38;5;129;01min\u001b[39;00m \u001b[38;5;28mself\u001b[39m\u001b[38;5;241m.\u001b[39m\u001b[38;5;18m__dict__\u001b[39m:\n\u001b[0;32m    635\u001b[0m     \u001b[38;5;28;01mif\u001b[39;00m \u001b[38;5;28misinstance\u001b[39m(val, Component):\n\u001b[0;32m    636\u001b[0m         \u001b[38;5;66;03m#\u001b[39;00m\n\u001b[0;32m    637\u001b[0m         \u001b[38;5;66;03m# Pyomo components are added with the add_component method.\u001b[39;00m\n\u001b[0;32m    638\u001b[0m         \u001b[38;5;66;03m#\u001b[39;00m\n\u001b[1;32m--> 639\u001b[0m         \u001b[38;5;28;43mself\u001b[39;49m\u001b[38;5;241;43m.\u001b[39;49m\u001b[43madd_component\u001b[49m\u001b[43m(\u001b[49m\u001b[43mname\u001b[49m\u001b[43m,\u001b[49m\u001b[43m \u001b[49m\u001b[43mval\u001b[49m\u001b[43m)\u001b[49m\n\u001b[0;32m    640\u001b[0m     \u001b[38;5;28;01melse\u001b[39;00m:\n\u001b[0;32m    641\u001b[0m         \u001b[38;5;66;03m#\u001b[39;00m\n\u001b[0;32m    642\u001b[0m         \u001b[38;5;66;03m# Other Python objects are added with the standard __setattr__\u001b[39;00m\n\u001b[0;32m    643\u001b[0m         \u001b[38;5;66;03m# method.\u001b[39;00m\n\u001b[0;32m    644\u001b[0m         \u001b[38;5;66;03m#\u001b[39;00m\n\u001b[0;32m    645\u001b[0m         \u001b[38;5;28msuper\u001b[39m(_BlockData, \u001b[38;5;28mself\u001b[39m)\u001b[38;5;241m.\u001b[39m\u001b[38;5;21m__setattr__\u001b[39m(name, val)\n",
      "File \u001b[1;32m~\\AppData\\Roaming\\Python\\Python310\\site-packages\\pyomo\\core\\base\\block.py:1186\u001b[0m, in \u001b[0;36m_BlockData.add_component\u001b[1;34m(self, name, val)\u001b[0m\n\u001b[0;32m   1182\u001b[0m     logger\u001b[38;5;241m.\u001b[39mdebug(\u001b[38;5;124m\"\u001b[39m\u001b[38;5;124mConstructing \u001b[39m\u001b[38;5;132;01m%s\u001b[39;00m\u001b[38;5;124m \u001b[39m\u001b[38;5;124m'\u001b[39m\u001b[38;5;132;01m%s\u001b[39;00m\u001b[38;5;124m'\u001b[39m\u001b[38;5;124m on \u001b[39m\u001b[38;5;132;01m%s\u001b[39;00m\u001b[38;5;124m from data=\u001b[39m\u001b[38;5;132;01m%s\u001b[39;00m\u001b[38;5;124m\"\u001b[39m,\n\u001b[0;32m   1183\u001b[0m                  val\u001b[38;5;241m.\u001b[39m\u001b[38;5;18m__class__\u001b[39m\u001b[38;5;241m.\u001b[39m\u001b[38;5;18m__name__\u001b[39m, name,\n\u001b[0;32m   1184\u001b[0m                  _blockName, \u001b[38;5;28mstr\u001b[39m(data))\n\u001b[0;32m   1185\u001b[0m \u001b[38;5;28;01mtry\u001b[39;00m:\n\u001b[1;32m-> 1186\u001b[0m     \u001b[43mval\u001b[49m\u001b[38;5;241;43m.\u001b[39;49m\u001b[43mconstruct\u001b[49m\u001b[43m(\u001b[49m\u001b[43mdata\u001b[49m\u001b[43m)\u001b[49m\n\u001b[0;32m   1187\u001b[0m \u001b[38;5;28;01mexcept\u001b[39;00m:\n\u001b[0;32m   1188\u001b[0m     err \u001b[38;5;241m=\u001b[39m sys\u001b[38;5;241m.\u001b[39mexc_info()[\u001b[38;5;241m1\u001b[39m]\n",
      "File \u001b[1;32m~\\AppData\\Roaming\\Python\\Python310\\site-packages\\pyomo\\core\\base\\constraint.py:772\u001b[0m, in \u001b[0;36mConstraint.construct\u001b[1;34m(self, data)\u001b[0m\n\u001b[0;32m    769\u001b[0m     \u001b[38;5;28;01melse\u001b[39;00m:\n\u001b[0;32m    770\u001b[0m         \u001b[38;5;66;03m# Bypass the index validation and create the member directly\u001b[39;00m\n\u001b[0;32m    771\u001b[0m         \u001b[38;5;28;01mfor\u001b[39;00m index \u001b[38;5;129;01min\u001b[39;00m \u001b[38;5;28mself\u001b[39m\u001b[38;5;241m.\u001b[39mindex_set():\n\u001b[1;32m--> 772\u001b[0m             \u001b[38;5;28mself\u001b[39m\u001b[38;5;241m.\u001b[39m_setitem_when_not_present(index, \u001b[43mrule\u001b[49m\u001b[43m(\u001b[49m\u001b[43mblock\u001b[49m\u001b[43m,\u001b[49m\u001b[43m \u001b[49m\u001b[43mindex\u001b[49m\u001b[43m)\u001b[49m)\n\u001b[0;32m    773\u001b[0m \u001b[38;5;28;01mexcept\u001b[39;00m \u001b[38;5;167;01mException\u001b[39;00m:\n\u001b[0;32m    774\u001b[0m     err \u001b[38;5;241m=\u001b[39m sys\u001b[38;5;241m.\u001b[39mexc_info()[\u001b[38;5;241m1\u001b[39m]\n",
      "File \u001b[1;32m~\\AppData\\Roaming\\Python\\Python310\\site-packages\\pyomo\\core\\base\\initializer.py:280\u001b[0m, in \u001b[0;36mIndexedCallInitializer.__call__\u001b[1;34m(self, parent, idx)\u001b[0m\n\u001b[0;32m    274\u001b[0m \u001b[38;5;28;01mdef\u001b[39;00m \u001b[38;5;21m__call__\u001b[39m(\u001b[38;5;28mself\u001b[39m, parent, idx):\n\u001b[0;32m    275\u001b[0m     \u001b[38;5;66;03m# Note: this is called by a component using data from a Set (so\u001b[39;00m\n\u001b[0;32m    276\u001b[0m     \u001b[38;5;66;03m# any tuple-like type should have already been checked and\u001b[39;00m\n\u001b[0;32m    277\u001b[0m     \u001b[38;5;66;03m# converted to a tuple; or flattening is turned off and it is\u001b[39;00m\n\u001b[0;32m    278\u001b[0m     \u001b[38;5;66;03m# the user's responsibility to sort things out.\u001b[39;00m\n\u001b[0;32m    279\u001b[0m     \u001b[38;5;28;01mif\u001b[39;00m idx\u001b[38;5;241m.\u001b[39m\u001b[38;5;18m__class__\u001b[39m \u001b[38;5;129;01mis\u001b[39;00m \u001b[38;5;28mtuple\u001b[39m:\n\u001b[1;32m--> 280\u001b[0m         \u001b[38;5;28;01mreturn\u001b[39;00m \u001b[38;5;28;43mself\u001b[39;49m\u001b[38;5;241;43m.\u001b[39;49m\u001b[43m_fcn\u001b[49m\u001b[43m(\u001b[49m\u001b[43mparent\u001b[49m\u001b[43m,\u001b[49m\u001b[43m \u001b[49m\u001b[38;5;241;43m*\u001b[39;49m\u001b[43midx\u001b[49m\u001b[43m)\u001b[49m\n\u001b[0;32m    281\u001b[0m     \u001b[38;5;28;01melse\u001b[39;00m:\n\u001b[0;32m    282\u001b[0m         \u001b[38;5;28;01mreturn\u001b[39;00m \u001b[38;5;28mself\u001b[39m\u001b[38;5;241m.\u001b[39m_fcn(parent, idx)\n",
      "Input \u001b[1;32mIn [18]\u001b[0m, in \u001b[0;36mcapacity_rule\u001b[1;34m(model, t, i, j)\u001b[0m\n\u001b[0;32m     48\u001b[0m \u001b[38;5;28;01mdef\u001b[39;00m \u001b[38;5;21mcapacity_rule\u001b[39m(model, t, i, j):\n\u001b[1;32m---> 49\u001b[0m     \u001b[38;5;28;01mreturn\u001b[39;00m model\u001b[38;5;241m.\u001b[39mx[(i, j), t] \u001b[38;5;241m<\u001b[39m\u001b[38;5;241m=\u001b[39m model\u001b[38;5;241m.\u001b[39my[(i, j)] \u001b[38;5;241m*\u001b[39m \u001b[43mcapacities\u001b[49m\u001b[38;5;241;43m.\u001b[39;49m\u001b[43mloc\u001b[49m\u001b[43m[\u001b[49m\u001b[43m(\u001b[49m\u001b[43mi\u001b[49m\u001b[43m,\u001b[49m\u001b[43m \u001b[49m\u001b[43mj\u001b[49m\u001b[43m)\u001b[49m\u001b[43m,\u001b[49m\u001b[43m \u001b[49m\u001b[38;5;124;43m'\u001b[39;49m\u001b[38;5;124;43mcapacity\u001b[39;49m\u001b[38;5;124;43m'\u001b[39;49m\u001b[43m]\u001b[49m\n",
      "File \u001b[1;32m~\\AppData\\Roaming\\Python\\Python310\\site-packages\\pandas\\core\\indexing.py:961\u001b[0m, in \u001b[0;36m_LocationIndexer.__getitem__\u001b[1;34m(self, key)\u001b[0m\n\u001b[0;32m    959\u001b[0m     \u001b[38;5;28;01mif\u001b[39;00m \u001b[38;5;28mself\u001b[39m\u001b[38;5;241m.\u001b[39m_is_scalar_access(key):\n\u001b[0;32m    960\u001b[0m         \u001b[38;5;28;01mreturn\u001b[39;00m \u001b[38;5;28mself\u001b[39m\u001b[38;5;241m.\u001b[39mobj\u001b[38;5;241m.\u001b[39m_get_value(\u001b[38;5;241m*\u001b[39mkey, takeable\u001b[38;5;241m=\u001b[39m\u001b[38;5;28mself\u001b[39m\u001b[38;5;241m.\u001b[39m_takeable)\n\u001b[1;32m--> 961\u001b[0m     \u001b[38;5;28;01mreturn\u001b[39;00m \u001b[38;5;28;43mself\u001b[39;49m\u001b[38;5;241;43m.\u001b[39;49m\u001b[43m_getitem_tuple\u001b[49m\u001b[43m(\u001b[49m\u001b[43mkey\u001b[49m\u001b[43m)\u001b[49m\n\u001b[0;32m    962\u001b[0m \u001b[38;5;28;01melse\u001b[39;00m:\n\u001b[0;32m    963\u001b[0m     \u001b[38;5;66;03m# we by definition only have the 0th axis\u001b[39;00m\n\u001b[0;32m    964\u001b[0m     axis \u001b[38;5;241m=\u001b[39m \u001b[38;5;28mself\u001b[39m\u001b[38;5;241m.\u001b[39maxis \u001b[38;5;129;01mor\u001b[39;00m \u001b[38;5;241m0\u001b[39m\n",
      "File \u001b[1;32m~\\AppData\\Roaming\\Python\\Python310\\site-packages\\pandas\\core\\indexing.py:1149\u001b[0m, in \u001b[0;36m_LocIndexer._getitem_tuple\u001b[1;34m(self, tup)\u001b[0m\n\u001b[0;32m   1146\u001b[0m \u001b[38;5;28;01mif\u001b[39;00m \u001b[38;5;28mself\u001b[39m\u001b[38;5;241m.\u001b[39m_multi_take_opportunity(tup):\n\u001b[0;32m   1147\u001b[0m     \u001b[38;5;28;01mreturn\u001b[39;00m \u001b[38;5;28mself\u001b[39m\u001b[38;5;241m.\u001b[39m_multi_take(tup)\n\u001b[1;32m-> 1149\u001b[0m \u001b[38;5;28;01mreturn\u001b[39;00m \u001b[38;5;28;43mself\u001b[39;49m\u001b[38;5;241;43m.\u001b[39;49m\u001b[43m_getitem_tuple_same_dim\u001b[49m\u001b[43m(\u001b[49m\u001b[43mtup\u001b[49m\u001b[43m)\u001b[49m\n",
      "File \u001b[1;32m~\\AppData\\Roaming\\Python\\Python310\\site-packages\\pandas\\core\\indexing.py:827\u001b[0m, in \u001b[0;36m_LocationIndexer._getitem_tuple_same_dim\u001b[1;34m(self, tup)\u001b[0m\n\u001b[0;32m    824\u001b[0m \u001b[38;5;28;01mif\u001b[39;00m com\u001b[38;5;241m.\u001b[39mis_null_slice(key):\n\u001b[0;32m    825\u001b[0m     \u001b[38;5;28;01mcontinue\u001b[39;00m\n\u001b[1;32m--> 827\u001b[0m retval \u001b[38;5;241m=\u001b[39m \u001b[38;5;28;43mgetattr\u001b[39;49m\u001b[43m(\u001b[49m\u001b[43mretval\u001b[49m\u001b[43m,\u001b[49m\u001b[43m \u001b[49m\u001b[38;5;28;43mself\u001b[39;49m\u001b[38;5;241;43m.\u001b[39;49m\u001b[43mname\u001b[49m\u001b[43m)\u001b[49m\u001b[38;5;241;43m.\u001b[39;49m\u001b[43m_getitem_axis\u001b[49m\u001b[43m(\u001b[49m\u001b[43mkey\u001b[49m\u001b[43m,\u001b[49m\u001b[43m \u001b[49m\u001b[43maxis\u001b[49m\u001b[38;5;241;43m=\u001b[39;49m\u001b[43mi\u001b[49m\u001b[43m)\u001b[49m\n\u001b[0;32m    828\u001b[0m \u001b[38;5;66;03m# We should never have retval.ndim < self.ndim, as that should\u001b[39;00m\n\u001b[0;32m    829\u001b[0m \u001b[38;5;66;03m#  be handled by the _getitem_lowerdim call above.\u001b[39;00m\n\u001b[0;32m    830\u001b[0m \u001b[38;5;28;01massert\u001b[39;00m retval\u001b[38;5;241m.\u001b[39mndim \u001b[38;5;241m==\u001b[39m \u001b[38;5;28mself\u001b[39m\u001b[38;5;241m.\u001b[39mndim\n",
      "File \u001b[1;32m~\\AppData\\Roaming\\Python\\Python310\\site-packages\\pandas\\core\\indexing.py:1191\u001b[0m, in \u001b[0;36m_LocIndexer._getitem_axis\u001b[1;34m(self, key, axis)\u001b[0m\n\u001b[0;32m   1188\u001b[0m     \u001b[38;5;28;01mif\u001b[39;00m \u001b[38;5;28mhasattr\u001b[39m(key, \u001b[38;5;124m\"\u001b[39m\u001b[38;5;124mndim\u001b[39m\u001b[38;5;124m\"\u001b[39m) \u001b[38;5;129;01mand\u001b[39;00m key\u001b[38;5;241m.\u001b[39mndim \u001b[38;5;241m>\u001b[39m \u001b[38;5;241m1\u001b[39m:\n\u001b[0;32m   1189\u001b[0m         \u001b[38;5;28;01mraise\u001b[39;00m \u001b[38;5;167;01mValueError\u001b[39;00m(\u001b[38;5;124m\"\u001b[39m\u001b[38;5;124mCannot index with multidimensional key\u001b[39m\u001b[38;5;124m\"\u001b[39m)\n\u001b[1;32m-> 1191\u001b[0m     \u001b[38;5;28;01mreturn\u001b[39;00m \u001b[38;5;28;43mself\u001b[39;49m\u001b[38;5;241;43m.\u001b[39;49m\u001b[43m_getitem_iterable\u001b[49m\u001b[43m(\u001b[49m\u001b[43mkey\u001b[49m\u001b[43m,\u001b[49m\u001b[43m \u001b[49m\u001b[43maxis\u001b[49m\u001b[38;5;241;43m=\u001b[39;49m\u001b[43maxis\u001b[49m\u001b[43m)\u001b[49m\n\u001b[0;32m   1193\u001b[0m \u001b[38;5;66;03m# nested tuple slicing\u001b[39;00m\n\u001b[0;32m   1194\u001b[0m \u001b[38;5;28;01mif\u001b[39;00m is_nested_tuple(key, labels):\n",
      "File \u001b[1;32m~\\AppData\\Roaming\\Python\\Python310\\site-packages\\pandas\\core\\indexing.py:1132\u001b[0m, in \u001b[0;36m_LocIndexer._getitem_iterable\u001b[1;34m(self, key, axis)\u001b[0m\n\u001b[0;32m   1129\u001b[0m \u001b[38;5;28mself\u001b[39m\u001b[38;5;241m.\u001b[39m_validate_key(key, axis)\n\u001b[0;32m   1131\u001b[0m \u001b[38;5;66;03m# A collection of keys\u001b[39;00m\n\u001b[1;32m-> 1132\u001b[0m keyarr, indexer \u001b[38;5;241m=\u001b[39m \u001b[38;5;28;43mself\u001b[39;49m\u001b[38;5;241;43m.\u001b[39;49m\u001b[43m_get_listlike_indexer\u001b[49m\u001b[43m(\u001b[49m\u001b[43mkey\u001b[49m\u001b[43m,\u001b[49m\u001b[43m \u001b[49m\u001b[43maxis\u001b[49m\u001b[43m)\u001b[49m\n\u001b[0;32m   1133\u001b[0m \u001b[38;5;28;01mreturn\u001b[39;00m \u001b[38;5;28mself\u001b[39m\u001b[38;5;241m.\u001b[39mobj\u001b[38;5;241m.\u001b[39m_reindex_with_indexers(\n\u001b[0;32m   1134\u001b[0m     {axis: [keyarr, indexer]}, copy\u001b[38;5;241m=\u001b[39m\u001b[38;5;28;01mTrue\u001b[39;00m, allow_dups\u001b[38;5;241m=\u001b[39m\u001b[38;5;28;01mTrue\u001b[39;00m\n\u001b[0;32m   1135\u001b[0m )\n",
      "File \u001b[1;32m~\\AppData\\Roaming\\Python\\Python310\\site-packages\\pandas\\core\\indexing.py:1327\u001b[0m, in \u001b[0;36m_LocIndexer._get_listlike_indexer\u001b[1;34m(self, key, axis)\u001b[0m\n\u001b[0;32m   1324\u001b[0m ax \u001b[38;5;241m=\u001b[39m \u001b[38;5;28mself\u001b[39m\u001b[38;5;241m.\u001b[39mobj\u001b[38;5;241m.\u001b[39m_get_axis(axis)\n\u001b[0;32m   1325\u001b[0m axis_name \u001b[38;5;241m=\u001b[39m \u001b[38;5;28mself\u001b[39m\u001b[38;5;241m.\u001b[39mobj\u001b[38;5;241m.\u001b[39m_get_axis_name(axis)\n\u001b[1;32m-> 1327\u001b[0m keyarr, indexer \u001b[38;5;241m=\u001b[39m \u001b[43max\u001b[49m\u001b[38;5;241;43m.\u001b[39;49m\u001b[43m_get_indexer_strict\u001b[49m\u001b[43m(\u001b[49m\u001b[43mkey\u001b[49m\u001b[43m,\u001b[49m\u001b[43m \u001b[49m\u001b[43maxis_name\u001b[49m\u001b[43m)\u001b[49m\n\u001b[0;32m   1329\u001b[0m \u001b[38;5;28;01mreturn\u001b[39;00m keyarr, indexer\n",
      "File \u001b[1;32m~\\AppData\\Roaming\\Python\\Python310\\site-packages\\pandas\\core\\indexes\\base.py:5782\u001b[0m, in \u001b[0;36mIndex._get_indexer_strict\u001b[1;34m(self, key, axis_name)\u001b[0m\n\u001b[0;32m   5779\u001b[0m \u001b[38;5;28;01melse\u001b[39;00m:\n\u001b[0;32m   5780\u001b[0m     keyarr, indexer, new_indexer \u001b[38;5;241m=\u001b[39m \u001b[38;5;28mself\u001b[39m\u001b[38;5;241m.\u001b[39m_reindex_non_unique(keyarr)\n\u001b[1;32m-> 5782\u001b[0m \u001b[38;5;28;43mself\u001b[39;49m\u001b[38;5;241;43m.\u001b[39;49m\u001b[43m_raise_if_missing\u001b[49m\u001b[43m(\u001b[49m\u001b[43mkeyarr\u001b[49m\u001b[43m,\u001b[49m\u001b[43m \u001b[49m\u001b[43mindexer\u001b[49m\u001b[43m,\u001b[49m\u001b[43m \u001b[49m\u001b[43maxis_name\u001b[49m\u001b[43m)\u001b[49m\n\u001b[0;32m   5784\u001b[0m keyarr \u001b[38;5;241m=\u001b[39m \u001b[38;5;28mself\u001b[39m\u001b[38;5;241m.\u001b[39mtake(indexer)\n\u001b[0;32m   5785\u001b[0m \u001b[38;5;28;01mif\u001b[39;00m \u001b[38;5;28misinstance\u001b[39m(key, Index):\n\u001b[0;32m   5786\u001b[0m     \u001b[38;5;66;03m# GH 42790 - Preserve name from an Index\u001b[39;00m\n",
      "File \u001b[1;32m~\\AppData\\Roaming\\Python\\Python310\\site-packages\\pandas\\core\\indexes\\base.py:5842\u001b[0m, in \u001b[0;36mIndex._raise_if_missing\u001b[1;34m(self, key, indexer, axis_name)\u001b[0m\n\u001b[0;32m   5840\u001b[0m     \u001b[38;5;28;01mif\u001b[39;00m use_interval_msg:\n\u001b[0;32m   5841\u001b[0m         key \u001b[38;5;241m=\u001b[39m \u001b[38;5;28mlist\u001b[39m(key)\n\u001b[1;32m-> 5842\u001b[0m     \u001b[38;5;28;01mraise\u001b[39;00m \u001b[38;5;167;01mKeyError\u001b[39;00m(\u001b[38;5;124mf\u001b[39m\u001b[38;5;124m\"\u001b[39m\u001b[38;5;124mNone of [\u001b[39m\u001b[38;5;132;01m{\u001b[39;00mkey\u001b[38;5;132;01m}\u001b[39;00m\u001b[38;5;124m] are in the [\u001b[39m\u001b[38;5;132;01m{\u001b[39;00maxis_name\u001b[38;5;132;01m}\u001b[39;00m\u001b[38;5;124m]\u001b[39m\u001b[38;5;124m\"\u001b[39m)\n\u001b[0;32m   5844\u001b[0m not_found \u001b[38;5;241m=\u001b[39m \u001b[38;5;28mlist\u001b[39m(ensure_index(key)[missing_mask\u001b[38;5;241m.\u001b[39mnonzero()[\u001b[38;5;241m0\u001b[39m]]\u001b[38;5;241m.\u001b[39munique())\n\u001b[0;32m   5845\u001b[0m \u001b[38;5;28;01mraise\u001b[39;00m \u001b[38;5;167;01mKeyError\u001b[39;00m(\u001b[38;5;124mf\u001b[39m\u001b[38;5;124m\"\u001b[39m\u001b[38;5;132;01m{\u001b[39;00mnot_found\u001b[38;5;132;01m}\u001b[39;00m\u001b[38;5;124m not in index\u001b[39m\u001b[38;5;124m\"\u001b[39m)\n",
      "\u001b[1;31mKeyError\u001b[0m: \"None of [Index(['A', 'B'], dtype='object')] are in the [index]\""
     ]
    }
   ],
   "source": [
    "import pyomo.environ as pyo\n",
    "import numpy as np\n",
    "import pandas as pd\n",
    "from pyomo.opt import SolverFactory\n",
    "\n",
    "# Define the time steps\n",
    "T = range(1, 11)\n",
    "\n",
    "# Define the points\n",
    "points = ['A', 'B', 'C', 'D', 'E', 'F', 'G']\n",
    "\n",
    "# Define the connections\n",
    "connections = [('A', 'B'), ('A', 'C'), ('A', 'F'), ('B', 'C'), ('B', 'D'), ('B', 'E'),\n",
    "               ('C', 'E'), ('C', 'F'), ('D', 'E'), ('E', 'G'), ('F', 'B'), ('F', 'G')]\n",
    "\n",
    "# Define the capacities (sample data)\n",
    "capacities = pd.DataFrame(index=connections, columns=['capacity'], data=np.random.randint(1, 10, len(connections)))\n",
    "\n",
    "# Define the water inflow function\n",
    "def water_inflow(t):\n",
    "    f = -4/30 * t**3 + t**2 - 0.234 * t + 3\n",
    "    return max(f, 0)\n",
    "\n",
    "# Create the Pyomo model\n",
    "model = pyo.ConcreteModel()\n",
    "\n",
    "# Define the variables\n",
    "model.x = pyo.Var(connections, T, domain=pyo.NonNegativeReals)\n",
    "model.y = pyo.Var(connections, domain=pyo.Binary)\n",
    "\n",
    "# Define the objective function\n",
    "def obj_rule(model):\n",
    "    return sum(model.x[('E', 'G'), t] + model.x[('F', 'G'), t] for t in T)\n",
    "model.objective = pyo.Objective(rule=obj_rule, sense=pyo.maximize)\n",
    "\n",
    "# Define the constraints\n",
    "def inflow_rule(model, t):\n",
    "    return sum(model.x[(i, j), t] for i, j in connections if i == 'A') == water_inflow(t)\n",
    "model.inflow_constraint = pyo.Constraint(T, rule=inflow_rule)\n",
    "\n",
    "def balance_rule(model, t, j):\n",
    "    if t < 10:\n",
    "        return sum(model.x[(i, j), t] for i in points if (i, j) in connections) == sum(model.x[(j, k), t + 1] for k in points if (j, k) in connections)\n",
    "    else:\n",
    "        return pyo.Constraint.Skip\n",
    "model.balance_constraint = pyo.Constraint(T, points, rule=balance_rule)\n",
    "\n",
    "def capacity_rule(model, t, i, j):\n",
    "    return model.x[(i, j), t] <= model.y[(i, j)] * capacities.loc[(i, j), 'capacity']\n",
    "model.capacity_constraint = pyo.Constraint(T, connections, rule=capacity_rule)\n",
    "\n",
    "def activation_rule(model):\n",
    "    return sum(model.y[i, j] for i, j in connections) <= 10\n",
    "model.activation_constraint = pyo.Constraint(rule=activation_rule)\n",
    "\n",
    "# Solve the model\n",
    "solver = SolverFactory('glpk')\n",
    "solver.solve(model)\n",
    "\n",
    "# Print the results\n",
    "print(\"Total water flow to point G: \", pyo.value(model.objective))\n",
    "for t in T:\n",
    "    print(f\"Water flow at time {t}: {sum(model.x[(i, j), t]() for i, j in connections if j == 'G')}\")"
   ]
  },
  {
   "cell_type": "markdown",
   "id": "95f5c3a8",
   "metadata": {},
   "source": [
    "### Solution Correctness"
   ]
  },
  {
   "cell_type": "code",
   "execution_count": null,
   "id": "01245691",
   "metadata": {},
   "outputs": [],
   "source": []
  }
 ],
 "metadata": {
  "kernelspec": {
   "display_name": "Python 3 (ipykernel)",
   "language": "python",
   "name": "python3"
  },
  "language_info": {
   "codemirror_mode": {
    "name": "ipython",
    "version": 3
   },
   "file_extension": ".py",
   "mimetype": "text/x-python",
   "name": "python",
   "nbconvert_exporter": "python",
   "pygments_lexer": "ipython3",
   "version": "3.10.4"
  }
 },
 "nbformat": 4,
 "nbformat_minor": 5
}
