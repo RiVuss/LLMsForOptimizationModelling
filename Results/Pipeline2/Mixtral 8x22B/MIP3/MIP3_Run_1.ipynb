{
 "cells": [
  {
   "cell_type": "code",
   "execution_count": 1,
   "id": "e5c2c174",
   "metadata": {},
   "outputs": [],
   "source": [
    "import os\n",
    "from mistralai.client import MistralClient\n",
    "from mistralai.models.chat_completion import ChatMessage\n",
    "from IPython.display import display, Markdown, Latex\n",
    "from datetime import datetime"
   ]
  },
  {
   "cell_type": "code",
   "execution_count": 2,
   "id": "b0c91a62",
   "metadata": {},
   "outputs": [
    {
     "name": "stdout",
     "output_type": "stream",
     "text": [
      "Time of execution: 2024-06-13 16:24:25.366534\n"
     ]
    }
   ],
   "source": [
    "API_KEY = os.environ['MISTRAL_API_KEY']\n",
    "\n",
    "MODEL_ID = 'open-mixtral-8x22b'\n",
    "MODEL_SEED = 1\n",
    "MODEL_TEMPERATURE = 0.7\n",
    "\n",
    "file_system_prompt_1 = open(\"../system_prompt_1.txt\", \"r\")\n",
    "file_system_prompt_2 = open(\"../system_prompt_2.txt\", \"r\")\n",
    "user_prompt_1 = open(\"../user_prompt_1.txt\", \"r\")\n",
    "user_prompt_2 = open(\"../user_prompt_2.txt\", \"r\")\n",
    "user_prompt_3 = open(\"../user_prompt_3.txt\", \"r\")\n",
    "SYSTEM_PROMPT_1 = file_system_prompt_1.read()\n",
    "SYSTEM_PROMPT_2 = file_system_prompt_2.read()\n",
    "USER_PROMPT_1 = user_prompt_1.read()\n",
    "USER_PROMPT_2 = user_prompt_2.read()\n",
    "USER_PROMPT_3 = user_prompt_3.read()\n",
    "file_system_prompt_1.close()\n",
    "file_system_prompt_2.close()\n",
    "user_prompt_1.close()\n",
    "user_prompt_2.close()\n",
    "user_prompt_3.close()\n",
    "\n",
    "FILE_PATH_PROBLEM = '../../../../Datasets/MIP_3_Thermal_Plants/'\n",
    "assert(FILE_PATH_PROBLEM != '../../../../Datasets/')\n",
    "file_problem_description = open(FILE_PATH_PROBLEM + 'ProblemDescription.txt', 'r')\n",
    "PROBLEM_DESCRIPTION = file_problem_description.read()\n",
    "file_problem_description.close()\n",
    "\n",
    "\n",
    "\n",
    "client = MistralClient(api_key=API_KEY)\n",
    "\n",
    "print(f'Time of execution: {datetime.now()}')"
   ]
  },
  {
   "cell_type": "markdown",
   "id": "3e540824",
   "metadata": {},
   "source": [
    "## Step 1 - Generate Mathematical Formulation "
   ]
  },
  {
   "cell_type": "code",
   "execution_count": 3,
   "id": "174c127b",
   "metadata": {},
   "outputs": [],
   "source": [
    "messages_1 = [\n",
    "    ChatMessage(role=\"system\", content=SYSTEM_PROMPT_1),\n",
    "    ChatMessage(role=\"user\", content=PROBLEM_DESCRIPTION),\n",
    "    ChatMessage(role=\"user\", content=USER_PROMPT_1)\n",
    "]\n",
    "\n",
    "response_1 = client.chat(\n",
    "    model=MODEL_ID,\n",
    "    messages=messages_1,\n",
    "    random_seed=MODEL_SEED,\n",
    "    temperature=MODEL_TEMPERATURE \n",
    ")\n",
    "\n",
    "response_1_text = response_1.choices[0].message.content"
   ]
  },
  {
   "cell_type": "code",
   "execution_count": 4,
   "id": "03616e62",
   "metadata": {},
   "outputs": [
    {
     "data": {
      "text/markdown": [
       "Step 1: Define parameters and variables\n",
       "\n",
       "Let's denote:\n",
       "- $i$ as the index for power units, where $i \\in \\{1,2,3,4,5,6\\}$\n",
       "- $t$ as the index for time periods, where $t \\in \\{1,2,\\ldots,15\\}$\n",
       "- $C^{\\text{startup}}_i$ as the startup cost for power unit $i$\n",
       "- $C^{\\text{shutdown}}_i$ as the shutdown cost for power unit $i$\n",
       "- $C^{\\text{fixed}}_i$ as the fixed cost for power unit $i$\n",
       "- $C^{\\text{variable}}_{it}$ as the variable cost for power unit $i$ at time $t$\n",
       "- $P^{\\text{min}}_i$ as the minimum output power for power unit $i$\n",
       "- $P^{\\text{max}}_i$ as the maximum output power for power unit $i$\n",
       "- $\\Delta^{\\text{up}}_i$ as the maximum power increment for power unit $i$\n",
       "- $\\Delta^{\\text{down}}_i$ as the maximum power decrement for power unit $i$\n",
       "- $D_t$ as the power demand at time $t$\n",
       "- $y_{it} \\in \\{0,1\\}$ as a binary variable indicating whether power unit $i$ is turned on at time $t$\n",
       "- $u_{it} \\in [0,1]$ as a continuous variable representing the fraction of the maximum output power of power unit $i$ at time $t$\n",
       "\n",
       "The power output of power unit $i$ at time $t$ is given by $P_{it} = P^{\\text{max}}_i \\cdot u_{it}$."
      ],
      "text/plain": [
       "<IPython.core.display.Markdown object>"
      ]
     },
     "execution_count": 4,
     "metadata": {},
     "output_type": "execute_result"
    }
   ],
   "source": [
    "Markdown(response_1_text)"
   ]
  },
  {
   "cell_type": "code",
   "execution_count": 5,
   "id": "b6a33171",
   "metadata": {},
   "outputs": [
    {
     "name": "stdout",
     "output_type": "stream",
     "text": [
      "Step 1: Define parameters and variables\n",
      "\n",
      "Let's denote:\n",
      "- $i$ as the index for power units, where $i \\in \\{1,2,3,4,5,6\\}$\n",
      "- $t$ as the index for time periods, where $t \\in \\{1,2,\\ldots,15\\}$\n",
      "- $C^{\\text{startup}}_i$ as the startup cost for power unit $i$\n",
      "- $C^{\\text{shutdown}}_i$ as the shutdown cost for power unit $i$\n",
      "- $C^{\\text{fixed}}_i$ as the fixed cost for power unit $i$\n",
      "- $C^{\\text{variable}}_{it}$ as the variable cost for power unit $i$ at time $t$\n",
      "- $P^{\\text{min}}_i$ as the minimum output power for power unit $i$\n",
      "- $P^{\\text{max}}_i$ as the maximum output power for power unit $i$\n",
      "- $\\Delta^{\\text{up}}_i$ as the maximum power increment for power unit $i$\n",
      "- $\\Delta^{\\text{down}}_i$ as the maximum power decrement for power unit $i$\n",
      "- $D_t$ as the power demand at time $t$\n",
      "- $y_{it} \\in \\{0,1\\}$ as a binary variable indicating whether power unit $i$ is turned on at time $t$\n",
      "- $u_{it} \\in [0,1]$ as a continuous variable representing the fraction of the maximum output power of power unit $i$ at time $t$\n",
      "\n",
      "The power output of power unit $i$ at time $t$ is given by $P_{it} = P^{\\text{max}}_i \\cdot u_{it}$.\n"
     ]
    }
   ],
   "source": [
    "print(response_1_text)"
   ]
  },
  {
   "cell_type": "code",
   "execution_count": 6,
   "id": "9af61485",
   "metadata": {},
   "outputs": [],
   "source": [
    "messages_2 = [\n",
    "    ChatMessage(role=\"system\", content=SYSTEM_PROMPT_1),\n",
    "    ChatMessage(role=\"user\", content=PROBLEM_DESCRIPTION),\n",
    "    ChatMessage(role=\"user\", content=USER_PROMPT_1),\n",
    "    ChatMessage(role=\"assistant\", content=response_1_text),\n",
    "    ChatMessage(role=\"user\", content=USER_PROMPT_2),\n",
    "]\n",
    "\n",
    "response_2 = client.chat(\n",
    "    model=MODEL_ID,\n",
    "    messages=messages_2,\n",
    "    random_seed=MODEL_SEED,\n",
    "    temperature=MODEL_TEMPERATURE \n",
    ")\n",
    "\n",
    "response_2_text = response_2.choices[0].message.content"
   ]
  },
  {
   "cell_type": "code",
   "execution_count": 7,
   "id": "ac0f2659",
   "metadata": {},
   "outputs": [
    {
     "data": {
      "text/markdown": [
       "Step 2: Define the objective function\n",
       "\n",
       "The objective function is the total cost, which includes the startup, shutdown, fixed, and variable costs. We want to minimize this total cost. The objective function can be formulated as follows:\n",
       "\n",
       "\\[\n",
       "\\text{minimize} \\sum_{t=1}^{15} \\left( \\sum_{i=1}^{6} C^{\\text{startup}}_i \\cdot (y_{it} - y_{i,t-1}) + C^{\\text{shutdown}}_i \\cdot (y_{i,t-1} - y_{it}) + C^{\\text{fixed}}_i \\cdot y_{it} + C^{\\text{variable}}_{it} \\cdot P^{\\text{max}}_i \\cdot u_{it} \\right)\n",
       "\\]\n",
       "\n",
       "Here, the term $(y_{it} - y_{i,t-1})$ is 1 if power unit $i$ is started at time $t$ and 0 otherwise. Similarly, the term $(y_{i,t-1} - y_{it})$ is 1 if power unit $i$ is shut down at time $t$ and 0 otherwise. The variable $u_{it}$ is the fraction of the maximum output power of power unit $i$ at time $t$. The variable $y_{it}$ is a binary variable indicating whether power unit $i$ is turned on at time $t$."
      ],
      "text/plain": [
       "<IPython.core.display.Markdown object>"
      ]
     },
     "execution_count": 7,
     "metadata": {},
     "output_type": "execute_result"
    }
   ],
   "source": [
    "Markdown(response_2_text)"
   ]
  },
  {
   "cell_type": "code",
   "execution_count": 8,
   "id": "6e93b2aa",
   "metadata": {},
   "outputs": [
    {
     "name": "stdout",
     "output_type": "stream",
     "text": [
      "Step 2: Define the objective function\n",
      "\n",
      "The objective function is the total cost, which includes the startup, shutdown, fixed, and variable costs. We want to minimize this total cost. The objective function can be formulated as follows:\n",
      "\n",
      "\\[\n",
      "\\text{minimize} \\sum_{t=1}^{15} \\left( \\sum_{i=1}^{6} C^{\\text{startup}}_i \\cdot (y_{it} - y_{i,t-1}) + C^{\\text{shutdown}}_i \\cdot (y_{i,t-1} - y_{it}) + C^{\\text{fixed}}_i \\cdot y_{it} + C^{\\text{variable}}_{it} \\cdot P^{\\text{max}}_i \\cdot u_{it} \\right)\n",
      "\\]\n",
      "\n",
      "Here, the term $(y_{it} - y_{i,t-1})$ is 1 if power unit $i$ is started at time $t$ and 0 otherwise. Similarly, the term $(y_{i,t-1} - y_{it})$ is 1 if power unit $i$ is shut down at time $t$ and 0 otherwise. The variable $u_{it}$ is the fraction of the maximum output power of power unit $i$ at time $t$. The variable $y_{it}$ is a binary variable indicating whether power unit $i$ is turned on at time $t$.\n"
     ]
    }
   ],
   "source": [
    "print(response_2_text)"
   ]
  },
  {
   "cell_type": "code",
   "execution_count": 9,
   "id": "d7d2d8bc",
   "metadata": {},
   "outputs": [],
   "source": [
    "messages_3 = [\n",
    "    ChatMessage(role=\"system\", content=SYSTEM_PROMPT_1),\n",
    "    ChatMessage(role=\"user\", content=PROBLEM_DESCRIPTION),\n",
    "    ChatMessage(role=\"user\", content=USER_PROMPT_1),\n",
    "    ChatMessage(role=\"assistant\", content=response_1_text),\n",
    "    ChatMessage(role=\"user\", content=USER_PROMPT_2),\n",
    "    ChatMessage(role=\"assistant\", content=response_2_text),\n",
    "    ChatMessage(role=\"user\", content=USER_PROMPT_3),\n",
    "]\n",
    "\n",
    "response_3 = client.chat(\n",
    "    model=MODEL_ID,\n",
    "    messages=messages_3,\n",
    "    random_seed=MODEL_SEED,\n",
    "    temperature=MODEL_TEMPERATURE \n",
    ")\n",
    "\n",
    "response_3_text = response_3.choices[0].message.content"
   ]
  },
  {
   "cell_type": "code",
   "execution_count": 10,
   "id": "c4588e6c",
   "metadata": {},
   "outputs": [
    {
     "data": {
      "text/markdown": [
       "Step 3: Define the constraints\n",
       "\n",
       "1. Power output bounds: The power output of each power unit must be within its lower and upper bounds.\n",
       "\n",
       "\\[\n",
       "P^{\\text{min}}_i \\cdot y_{it} \\leq P_{it} \\leq P^{\\text{max}}_i \\cdot y_{it}, \\quad \\forall i \\in \\{1,2,3,4,5,6\\}, \\forall t \\in \\{1,2,\\ldots,15\\}\n",
       "\\]\n",
       "\n",
       "2. Power balance: The total power output from all power units must meet the total power demand at each time period and be 10% higher than the demand for security reasons.\n",
       "\n",
       "\\[\n",
       "\\sum_{i=1}^{6} P_{it} \\geq 1.1 \\cdot D_t, \\quad \\forall t \\in \\{1,2,\\ldots,15\\}\n",
       "\\]\n",
       "\n",
       "3. Power increment and decrement: The change in power output from one time period to the next must not exceed the maximum power increment and decrement for each power unit.\n",
       "\n",
       "\\[\n",
       "-\\Delta^{\\text{down}}_i \\cdot y_{i,t-1} \\leq P_{it} - P_{i,t-1} \\leq \\Delta^{\\text{up}}_i \\cdot y_{it}, \\quad \\forall i \\in \\{1,2,3,4,5,6\\}, \\forall t \\in \\{1,2,\\ldots,15\\}\n",
       "\\]\n",
       "\n",
       "4. Binary variables: The binary variables $y_{it}$ must be between 0 and 1.\n",
       "\n",
       "\\[\n",
       "y_{it} \\in \\{0,1\\}, \\quad \\forall i \\in \\{1,2,3,4,5,6\\}, \\forall t \\in \\{1,2,\\ldots,15\\}\n",
       "\\]\n",
       "\n",
       "5. Continuous variables: The continuous variables $u_{it}$ must be between 0 and 1.\n",
       "\n",
       "\\[\n",
       "u_{it} \\in [0,1], \\quad \\forall i \\in \\{1,2,3,4,5,6\\}, \\forall t \\in \\{1,2,\\ldots,15\\}\n",
       "\\]\n",
       "\n",
       "This completes the formulation of the mathematical optimization model for scheduling the power output of the 6 electric power thermal units over the timespan of 15 periods. The model minimizes the total cost, including startup, shutdown, fixed, and variable costs, while satisfying various operational constraints."
      ],
      "text/plain": [
       "<IPython.core.display.Markdown object>"
      ]
     },
     "execution_count": 10,
     "metadata": {},
     "output_type": "execute_result"
    }
   ],
   "source": [
    "Markdown(response_3_text)"
   ]
  },
  {
   "cell_type": "code",
   "execution_count": 11,
   "id": "b74cfcbe",
   "metadata": {},
   "outputs": [
    {
     "name": "stdout",
     "output_type": "stream",
     "text": [
      "Step 3: Define the constraints\n",
      "\n",
      "1. Power output bounds: The power output of each power unit must be within its lower and upper bounds.\n",
      "\n",
      "\\[\n",
      "P^{\\text{min}}_i \\cdot y_{it} \\leq P_{it} \\leq P^{\\text{max}}_i \\cdot y_{it}, \\quad \\forall i \\in \\{1,2,3,4,5,6\\}, \\forall t \\in \\{1,2,\\ldots,15\\}\n",
      "\\]\n",
      "\n",
      "2. Power balance: The total power output from all power units must meet the total power demand at each time period and be 10% higher than the demand for security reasons.\n",
      "\n",
      "\\[\n",
      "\\sum_{i=1}^{6} P_{it} \\geq 1.1 \\cdot D_t, \\quad \\forall t \\in \\{1,2,\\ldots,15\\}\n",
      "\\]\n",
      "\n",
      "3. Power increment and decrement: The change in power output from one time period to the next must not exceed the maximum power increment and decrement for each power unit.\n",
      "\n",
      "\\[\n",
      "-\\Delta^{\\text{down}}_i \\cdot y_{i,t-1} \\leq P_{it} - P_{i,t-1} \\leq \\Delta^{\\text{up}}_i \\cdot y_{it}, \\quad \\forall i \\in \\{1,2,3,4,5,6\\}, \\forall t \\in \\{1,2,\\ldots,15\\}\n",
      "\\]\n",
      "\n",
      "4. Binary variables: The binary variables $y_{it}$ must be between 0 and 1.\n",
      "\n",
      "\\[\n",
      "y_{it} \\in \\{0,1\\}, \\quad \\forall i \\in \\{1,2,3,4,5,6\\}, \\forall t \\in \\{1,2,\\ldots,15\\}\n",
      "\\]\n",
      "\n",
      "5. Continuous variables: The continuous variables $u_{it}$ must be between 0 and 1.\n",
      "\n",
      "\\[\n",
      "u_{it} \\in [0,1], \\quad \\forall i \\in \\{1,2,3,4,5,6\\}, \\forall t \\in \\{1,2,\\ldots,15\\}\n",
      "\\]\n",
      "\n",
      "This completes the formulation of the mathematical optimization model for scheduling the power output of the 6 electric power thermal units over the timespan of 15 periods. The model minimizes the total cost, including startup, shutdown, fixed, and variable costs, while satisfying various operational constraints.\n"
     ]
    }
   ],
   "source": [
    "print(response_3_text)"
   ]
  },
  {
   "cell_type": "code",
   "execution_count": 12,
   "id": "e73cd25c",
   "metadata": {},
   "outputs": [
    {
     "data": {
      "text/markdown": [
       "Step 1: Define parameters and variables\n",
       "\n",
       "Let's denote:\n",
       "- $i$ as the index for power units, where $i \\in \\{1,2,3,4,5,6\\}$\n",
       "- $t$ as the index for time periods, where $t \\in \\{1,2,\\ldots,15\\}$\n",
       "- $C^{\\text{startup}}_i$ as the startup cost for power unit $i$\n",
       "- $C^{\\text{shutdown}}_i$ as the shutdown cost for power unit $i$\n",
       "- $C^{\\text{fixed}}_i$ as the fixed cost for power unit $i$\n",
       "- $C^{\\text{variable}}_{it}$ as the variable cost for power unit $i$ at time $t$\n",
       "- $P^{\\text{min}}_i$ as the minimum output power for power unit $i$\n",
       "- $P^{\\text{max}}_i$ as the maximum output power for power unit $i$\n",
       "- $\\Delta^{\\text{up}}_i$ as the maximum power increment for power unit $i$\n",
       "- $\\Delta^{\\text{down}}_i$ as the maximum power decrement for power unit $i$\n",
       "- $D_t$ as the power demand at time $t$\n",
       "- $y_{it} \\in \\{0,1\\}$ as a binary variable indicating whether power unit $i$ is turned on at time $t$\n",
       "- $u_{it} \\in [0,1]$ as a continuous variable representing the fraction of the maximum output power of power unit $i$ at time $t$\n",
       "\n",
       "The power output of power unit $i$ at time $t$ is given by $P_{it} = P^{\\text{max}}_i \\cdot u_{it}$.\n",
       "Step 2: Define the objective function\n",
       "\n",
       "The objective function is the total cost, which includes the startup, shutdown, fixed, and variable costs. We want to minimize this total cost. The objective function can be formulated as follows:\n",
       "\n",
       "\\[\n",
       "\\text{minimize} \\sum_{t=1}^{15} \\left( \\sum_{i=1}^{6} C^{\\text{startup}}_i \\cdot (y_{it} - y_{i,t-1}) + C^{\\text{shutdown}}_i \\cdot (y_{i,t-1} - y_{it}) + C^{\\text{fixed}}_i \\cdot y_{it} + C^{\\text{variable}}_{it} \\cdot P^{\\text{max}}_i \\cdot u_{it} \\right)\n",
       "\\]\n",
       "\n",
       "Here, the term $(y_{it} - y_{i,t-1})$ is 1 if power unit $i$ is started at time $t$ and 0 otherwise. Similarly, the term $(y_{i,t-1} - y_{it})$ is 1 if power unit $i$ is shut down at time $t$ and 0 otherwise. The variable $u_{it}$ is the fraction of the maximum output power of power unit $i$ at time $t$. The variable $y_{it}$ is a binary variable indicating whether power unit $i$ is turned on at time $t$.\n",
       "Step 3: Define the constraints\n",
       "\n",
       "1. Power output bounds: The power output of each power unit must be within its lower and upper bounds.\n",
       "\n",
       "\\[\n",
       "P^{\\text{min}}_i \\cdot y_{it} \\leq P_{it} \\leq P^{\\text{max}}_i \\cdot y_{it}, \\quad \\forall i \\in \\{1,2,3,4,5,6\\}, \\forall t \\in \\{1,2,\\ldots,15\\}\n",
       "\\]\n",
       "\n",
       "2. Power balance: The total power output from all power units must meet the total power demand at each time period and be 10% higher than the demand for security reasons.\n",
       "\n",
       "\\[\n",
       "\\sum_{i=1}^{6} P_{it} \\geq 1.1 \\cdot D_t, \\quad \\forall t \\in \\{1,2,\\ldots,15\\}\n",
       "\\]\n",
       "\n",
       "3. Power increment and decrement: The change in power output from one time period to the next must not exceed the maximum power increment and decrement for each power unit.\n",
       "\n",
       "\\[\n",
       "-\\Delta^{\\text{down}}_i \\cdot y_{i,t-1} \\leq P_{it} - P_{i,t-1} \\leq \\Delta^{\\text{up}}_i \\cdot y_{it}, \\quad \\forall i \\in \\{1,2,3,4,5,6\\}, \\forall t \\in \\{1,2,\\ldots,15\\}\n",
       "\\]\n",
       "\n",
       "4. Binary variables: The binary variables $y_{it}$ must be between 0 and 1.\n",
       "\n",
       "\\[\n",
       "y_{it} \\in \\{0,1\\}, \\quad \\forall i \\in \\{1,2,3,4,5,6\\}, \\forall t \\in \\{1,2,\\ldots,15\\}\n",
       "\\]\n",
       "\n",
       "5. Continuous variables: The continuous variables $u_{it}$ must be between 0 and 1.\n",
       "\n",
       "\\[\n",
       "u_{it} \\in [0,1], \\quad \\forall i \\in \\{1,2,3,4,5,6\\}, \\forall t \\in \\{1,2,\\ldots,15\\}\n",
       "\\]\n",
       "\n",
       "This completes the formulation of the mathematical optimization model for scheduling the power output of the 6 electric power thermal units over the timespan of 15 periods. The model minimizes the total cost, including startup, shutdown, fixed, and variable costs, while satisfying various operational constraints."
      ],
      "text/plain": [
       "<IPython.core.display.Markdown object>"
      ]
     },
     "execution_count": 12,
     "metadata": {},
     "output_type": "execute_result"
    }
   ],
   "source": [
    "response_text = '\\n'.join([response_1_text, response_2_text, response_3_text])\n",
    "\n",
    "Markdown(response_text)"
   ]
  },
  {
   "cell_type": "code",
   "execution_count": 13,
   "id": "dd3d0006",
   "metadata": {},
   "outputs": [
    {
     "name": "stdout",
     "output_type": "stream",
     "text": [
      "Step 1: Define parameters and variables\n",
      "\n",
      "Let's denote:\n",
      "- $i$ as the index for power units, where $i \\in \\{1,2,3,4,5,6\\}$\n",
      "- $t$ as the index for time periods, where $t \\in \\{1,2,\\ldots,15\\}$\n",
      "- $C^{\\text{startup}}_i$ as the startup cost for power unit $i$\n",
      "- $C^{\\text{shutdown}}_i$ as the shutdown cost for power unit $i$\n",
      "- $C^{\\text{fixed}}_i$ as the fixed cost for power unit $i$\n",
      "- $C^{\\text{variable}}_{it}$ as the variable cost for power unit $i$ at time $t$\n",
      "- $P^{\\text{min}}_i$ as the minimum output power for power unit $i$\n",
      "- $P^{\\text{max}}_i$ as the maximum output power for power unit $i$\n",
      "- $\\Delta^{\\text{up}}_i$ as the maximum power increment for power unit $i$\n",
      "- $\\Delta^{\\text{down}}_i$ as the maximum power decrement for power unit $i$\n",
      "- $D_t$ as the power demand at time $t$\n",
      "- $y_{it} \\in \\{0,1\\}$ as a binary variable indicating whether power unit $i$ is turned on at time $t$\n",
      "- $u_{it} \\in [0,1]$ as a continuous variable representing the fraction of the maximum output power of power unit $i$ at time $t$\n",
      "\n",
      "The power output of power unit $i$ at time $t$ is given by $P_{it} = P^{\\text{max}}_i \\cdot u_{it}$.\n",
      "Step 2: Define the objective function\n",
      "\n",
      "The objective function is the total cost, which includes the startup, shutdown, fixed, and variable costs. We want to minimize this total cost. The objective function can be formulated as follows:\n",
      "\n",
      "\\[\n",
      "\\text{minimize} \\sum_{t=1}^{15} \\left( \\sum_{i=1}^{6} C^{\\text{startup}}_i \\cdot (y_{it} - y_{i,t-1}) + C^{\\text{shutdown}}_i \\cdot (y_{i,t-1} - y_{it}) + C^{\\text{fixed}}_i \\cdot y_{it} + C^{\\text{variable}}_{it} \\cdot P^{\\text{max}}_i \\cdot u_{it} \\right)\n",
      "\\]\n",
      "\n",
      "Here, the term $(y_{it} - y_{i,t-1})$ is 1 if power unit $i$ is started at time $t$ and 0 otherwise. Similarly, the term $(y_{i,t-1} - y_{it})$ is 1 if power unit $i$ is shut down at time $t$ and 0 otherwise. The variable $u_{it}$ is the fraction of the maximum output power of power unit $i$ at time $t$. The variable $y_{it}$ is a binary variable indicating whether power unit $i$ is turned on at time $t$.\n",
      "Step 3: Define the constraints\n",
      "\n",
      "1. Power output bounds: The power output of each power unit must be within its lower and upper bounds.\n",
      "\n",
      "\\[\n",
      "P^{\\text{min}}_i \\cdot y_{it} \\leq P_{it} \\leq P^{\\text{max}}_i \\cdot y_{it}, \\quad \\forall i \\in \\{1,2,3,4,5,6\\}, \\forall t \\in \\{1,2,\\ldots,15\\}\n",
      "\\]\n",
      "\n",
      "2. Power balance: The total power output from all power units must meet the total power demand at each time period and be 10% higher than the demand for security reasons.\n",
      "\n",
      "\\[\n",
      "\\sum_{i=1}^{6} P_{it} \\geq 1.1 \\cdot D_t, \\quad \\forall t \\in \\{1,2,\\ldots,15\\}\n",
      "\\]\n",
      "\n",
      "3. Power increment and decrement: The change in power output from one time period to the next must not exceed the maximum power increment and decrement for each power unit.\n",
      "\n",
      "\\[\n",
      "-\\Delta^{\\text{down}}_i \\cdot y_{i,t-1} \\leq P_{it} - P_{i,t-1} \\leq \\Delta^{\\text{up}}_i \\cdot y_{it}, \\quad \\forall i \\in \\{1,2,3,4,5,6\\}, \\forall t \\in \\{1,2,\\ldots,15\\}\n",
      "\\]\n",
      "\n",
      "4. Binary variables: The binary variables $y_{it}$ must be between 0 and 1.\n",
      "\n",
      "\\[\n",
      "y_{it} \\in \\{0,1\\}, \\quad \\forall i \\in \\{1,2,3,4,5,6\\}, \\forall t \\in \\{1,2,\\ldots,15\\}\n",
      "\\]\n",
      "\n",
      "5. Continuous variables: The continuous variables $u_{it}$ must be between 0 and 1.\n",
      "\n",
      "\\[\n",
      "u_{it} \\in [0,1], \\quad \\forall i \\in \\{1,2,3,4,5,6\\}, \\forall t \\in \\{1,2,\\ldots,15\\}\n",
      "\\]\n",
      "\n",
      "This completes the formulation of the mathematical optimization model for scheduling the power output of the 6 electric power thermal units over the timespan of 15 periods. The model minimizes the total cost, including startup, shutdown, fixed, and variable costs, while satisfying various operational constraints.\n"
     ]
    }
   ],
   "source": [
    "print(response_text)"
   ]
  },
  {
   "cell_type": "markdown",
   "id": "27b5f89a",
   "metadata": {},
   "source": [
    "## Step 2 - Generate the Pyomo Code"
   ]
  },
  {
   "cell_type": "code",
   "execution_count": 14,
   "id": "a4c3312f",
   "metadata": {},
   "outputs": [],
   "source": [
    "messages_4 = [\n",
    "    ChatMessage(role=\"system\", content=SYSTEM_PROMPT_2),\n",
    "    ChatMessage(role=\"user\", content=response_text)\n",
    "]"
   ]
  },
  {
   "cell_type": "code",
   "execution_count": 15,
   "id": "4212d99d",
   "metadata": {},
   "outputs": [],
   "source": [
    "response_4 = client.chat(\n",
    "    model=MODEL_ID,\n",
    "    messages=messages_4,\n",
    "    random_seed=MODEL_SEED,\n",
    "    temperature=MODEL_TEMPERATURE\n",
    ")\n",
    "\n",
    "response_4_text = response_4.choices[0].message.content"
   ]
  },
  {
   "cell_type": "code",
   "execution_count": 16,
   "id": "c168a60b",
   "metadata": {},
   "outputs": [
    {
     "data": {
      "text/markdown": [
       "Here is a Python Pyomo code for the optimization problem described:\n",
       "\n",
       "```python\n",
       "import pyomo.environ as pyo\n",
       "\n",
       "# Step 1: Define parameters and variables\n",
       "model = pyo.AbstractModel()\n",
       "\n",
       "I = range(1, 7)  # Power units\n",
       "T = range(1, 16)  # Time periods\n",
       "\n",
       "model.C_startup = pyo.Param(I, within=pyo.NonNegativeReals)  # Startup cost\n",
       "model.C_shutdown = pyo.Param(I, within=pyo.NonNegativeReals)  # Shutdown cost\n",
       "model.C_fixed = pyo.Param(I, within=pyo.NonNegativeReals)  # Fixed cost\n",
       "model.C_variable = pyo.Param(I, T, within=pyo.NonNegativeReals)  # Variable cost\n",
       "model.P_min = pyo.Param(I, within=pyo.NonNegativeReals)  # Minimum output power\n",
       "model.P_max = pyo.Param(I, within=pyo.NonNegativeReals)  # Maximum output power\n",
       "model.Delta_up = pyo.Param(I, within=pyo.NonNegativeReals)  # Maximum power increment\n",
       "model.Delta_down = pyo.Param(I, within=pyo.NonNegativeReals)  # Maximum power decrement\n",
       "model.D = pyo.Param(T, within=pyo.NonNegativeReals)  # Power demand\n",
       "\n",
       "model.y = pyo.Var(I, T, within=pyo.Binary)  # Binary variable indicating whether power unit i is turned on at time t\n",
       "model.u = pyo.Var(I, T, within=pyo.NonNegativeReals, bounds=(0, 1))  # Continuous variable representing the fraction of the maximum output power of power unit i at time t\n",
       "model.P = pyo.Var(I, T, within=pyo.NonNegativeReals)  # Power output of power unit i at time t\n",
       "\n",
       "# Step 2: Define the objective function\n",
       "def total_cost(model):\n",
       "    return sum(model.C_startup[i] * (model.y[i, t] - model.y[i, t-1]) + model.C_shutdown[i] * (model.y[i, t-1] - model.y[i, t]) + model.C_fixed[i] * model.y[i, t] + model.C_variable[i, t] * model.P_max[i] * model.u[i, t] for i in I for t in T)\n",
       "\n",
       "model.OBJ = pyo.Objective(rule=total_cost, sense=pyo.minimize)\n",
       "\n",
       "# Step 3: Define the constraints\n",
       "def power_output_bounds(model, i, t):\n",
       "    return model.P_min[i] * model.y[i, t] <= model.P[i, t] <= model.P_max[i] * model.y[i, t]\n",
       "\n",
       "model.power_output_bounds_constraint = pyo.Constraint(I, T, rule=power_output_bounds)\n",
       "\n",
       "def power_balance(model, t):\n",
       "    return sum(model.P[i, t] for i in I) >= 1.1 * model.D[t]\n",
       "\n",
       "model.power_balance_constraint = pyo.Constraint(T, rule=power_balance)\n",
       "\n",
       "def power_increment_decrement(model, i, t):\n",
       "    if t == 1:\n",
       "        return pyo.Constraint.Skip\n",
       "    else:\n",
       "        return -model.Delta_down[i] * model.y[i, t-1] <= model.P[i, t] - model.P[i, t-1] <= model.Delta_up[i] * model.y[i, t]\n",
       "\n",
       "model.power_increment_decrement_constraint = pyo.Constraint(I, T, rule=power_increment_decrement)\n",
       "\n",
       "# Step 4: Solve the optimization problem\n",
       "# To solve the optimization problem, we need to provide the values for the parameters (C_startup, C_shutdown, C_fixed, C_variable, P_min, P_max, Delta_up, Delta_down, D).\n",
       "# Once the parameters are provided, we can create a concrete model and solve it using a solver.\n",
       "```\n",
       "\n",
       "In this code, the parameters (`C_startup`, `C_shutdown`, `C_fixed`, `C_variable`, `P_min`, `P_max`, `Delta_up`, `Delta_down`, `D`) are defined as abstract parameters, which means that their values will be provided when a concrete model is created. You can provide the values for these parameters based on your specific scenario."
      ],
      "text/plain": [
       "<IPython.core.display.Markdown object>"
      ]
     },
     "execution_count": 16,
     "metadata": {},
     "output_type": "execute_result"
    }
   ],
   "source": [
    "Markdown(response_4_text)"
   ]
  },
  {
   "cell_type": "code",
   "execution_count": 17,
   "id": "a380c180",
   "metadata": {},
   "outputs": [
    {
     "name": "stdout",
     "output_type": "stream",
     "text": [
      "Here is a Python Pyomo code for the optimization problem described:\n",
      "\n",
      "```python\n",
      "import pyomo.environ as pyo\n",
      "\n",
      "# Step 1: Define parameters and variables\n",
      "model = pyo.AbstractModel()\n",
      "\n",
      "I = range(1, 7)  # Power units\n",
      "T = range(1, 16)  # Time periods\n",
      "\n",
      "model.C_startup = pyo.Param(I, within=pyo.NonNegativeReals)  # Startup cost\n",
      "model.C_shutdown = pyo.Param(I, within=pyo.NonNegativeReals)  # Shutdown cost\n",
      "model.C_fixed = pyo.Param(I, within=pyo.NonNegativeReals)  # Fixed cost\n",
      "model.C_variable = pyo.Param(I, T, within=pyo.NonNegativeReals)  # Variable cost\n",
      "model.P_min = pyo.Param(I, within=pyo.NonNegativeReals)  # Minimum output power\n",
      "model.P_max = pyo.Param(I, within=pyo.NonNegativeReals)  # Maximum output power\n",
      "model.Delta_up = pyo.Param(I, within=pyo.NonNegativeReals)  # Maximum power increment\n",
      "model.Delta_down = pyo.Param(I, within=pyo.NonNegativeReals)  # Maximum power decrement\n",
      "model.D = pyo.Param(T, within=pyo.NonNegativeReals)  # Power demand\n",
      "\n",
      "model.y = pyo.Var(I, T, within=pyo.Binary)  # Binary variable indicating whether power unit i is turned on at time t\n",
      "model.u = pyo.Var(I, T, within=pyo.NonNegativeReals, bounds=(0, 1))  # Continuous variable representing the fraction of the maximum output power of power unit i at time t\n",
      "model.P = pyo.Var(I, T, within=pyo.NonNegativeReals)  # Power output of power unit i at time t\n",
      "\n",
      "# Step 2: Define the objective function\n",
      "def total_cost(model):\n",
      "    return sum(model.C_startup[i] * (model.y[i, t] - model.y[i, t-1]) + model.C_shutdown[i] * (model.y[i, t-1] - model.y[i, t]) + model.C_fixed[i] * model.y[i, t] + model.C_variable[i, t] * model.P_max[i] * model.u[i, t] for i in I for t in T)\n",
      "\n",
      "model.OBJ = pyo.Objective(rule=total_cost, sense=pyo.minimize)\n",
      "\n",
      "# Step 3: Define the constraints\n",
      "def power_output_bounds(model, i, t):\n",
      "    return model.P_min[i] * model.y[i, t] <= model.P[i, t] <= model.P_max[i] * model.y[i, t]\n",
      "\n",
      "model.power_output_bounds_constraint = pyo.Constraint(I, T, rule=power_output_bounds)\n",
      "\n",
      "def power_balance(model, t):\n",
      "    return sum(model.P[i, t] for i in I) >= 1.1 * model.D[t]\n",
      "\n",
      "model.power_balance_constraint = pyo.Constraint(T, rule=power_balance)\n",
      "\n",
      "def power_increment_decrement(model, i, t):\n",
      "    if t == 1:\n",
      "        return pyo.Constraint.Skip\n",
      "    else:\n",
      "        return -model.Delta_down[i] * model.y[i, t-1] <= model.P[i, t] - model.P[i, t-1] <= model.Delta_up[i] * model.y[i, t]\n",
      "\n",
      "model.power_increment_decrement_constraint = pyo.Constraint(I, T, rule=power_increment_decrement)\n",
      "\n",
      "# Step 4: Solve the optimization problem\n",
      "# To solve the optimization problem, we need to provide the values for the parameters (C_startup, C_shutdown, C_fixed, C_variable, P_min, P_max, Delta_up, Delta_down, D).\n",
      "# Once the parameters are provided, we can create a concrete model and solve it using a solver.\n",
      "```\n",
      "\n",
      "In this code, the parameters (`C_startup`, `C_shutdown`, `C_fixed`, `C_variable`, `P_min`, `P_max`, `Delta_up`, `Delta_down`, `D`) are defined as abstract parameters, which means that their values will be provided when a concrete model is created. You can provide the values for these parameters based on your specific scenario.\n"
     ]
    }
   ],
   "source": [
    "print(response_4_text)"
   ]
  },
  {
   "cell_type": "markdown",
   "id": "879cc7ae",
   "metadata": {},
   "source": [
    "### Code Executability"
   ]
  },
  {
   "cell_type": "code",
   "execution_count": 19,
   "id": "f1d9a625",
   "metadata": {},
   "outputs": [
    {
     "ename": "RuntimeError",
     "evalue": "Attempting to solve model=unknown with unconstructed component(s)",
     "output_type": "error",
     "traceback": [
      "\u001b[1;31m---------------------------------------------------------------------------\u001b[0m",
      "\u001b[1;31mRuntimeError\u001b[0m                              Traceback (most recent call last)",
      "Input \u001b[1;32mIn [19]\u001b[0m, in \u001b[0;36m<cell line: 49>\u001b[1;34m()\u001b[0m\n\u001b[0;32m     46\u001b[0m model\u001b[38;5;241m.\u001b[39mpower_increment_decrement_constraint \u001b[38;5;241m=\u001b[39m pyo\u001b[38;5;241m.\u001b[39mConstraint(I, T, rule\u001b[38;5;241m=\u001b[39mpower_increment_decrement)\n\u001b[0;32m     48\u001b[0m solver \u001b[38;5;241m=\u001b[39m pyo\u001b[38;5;241m.\u001b[39mSolverFactory(\u001b[38;5;124m'\u001b[39m\u001b[38;5;124mgurobi\u001b[39m\u001b[38;5;124m'\u001b[39m)\n\u001b[1;32m---> 49\u001b[0m results \u001b[38;5;241m=\u001b[39m \u001b[43msolver\u001b[49m\u001b[38;5;241;43m.\u001b[39;49m\u001b[43msolve\u001b[49m\u001b[43m(\u001b[49m\u001b[43mmodel\u001b[49m\u001b[43m)\u001b[49m\n",
      "File \u001b[1;32m~\\AppData\\Roaming\\Python\\Python310\\site-packages\\pyomo\\opt\\base\\solvers.py:527\u001b[0m, in \u001b[0;36mOptSolver.solve\u001b[1;34m(self, *args, **kwds)\u001b[0m\n\u001b[0;32m    525\u001b[0m \u001b[38;5;28;01mif\u001b[39;00m \u001b[38;5;28misinstance\u001b[39m(arg, _BlockData):\n\u001b[0;32m    526\u001b[0m     \u001b[38;5;28;01mif\u001b[39;00m \u001b[38;5;129;01mnot\u001b[39;00m arg\u001b[38;5;241m.\u001b[39mis_constructed():\n\u001b[1;32m--> 527\u001b[0m         \u001b[38;5;28;01mraise\u001b[39;00m \u001b[38;5;167;01mRuntimeError\u001b[39;00m(\n\u001b[0;32m    528\u001b[0m             \u001b[38;5;124m\"\u001b[39m\u001b[38;5;124mAttempting to solve model=\u001b[39m\u001b[38;5;132;01m%s\u001b[39;00m\u001b[38;5;124m with unconstructed \u001b[39m\u001b[38;5;124m\"\u001b[39m\n\u001b[0;32m    529\u001b[0m             \u001b[38;5;124m\"\u001b[39m\u001b[38;5;124mcomponent(s)\u001b[39m\u001b[38;5;124m\"\u001b[39m \u001b[38;5;241m%\u001b[39m (arg\u001b[38;5;241m.\u001b[39mname,) )\n\u001b[0;32m    531\u001b[0m _model \u001b[38;5;241m=\u001b[39m arg\n\u001b[0;32m    532\u001b[0m \u001b[38;5;66;03m# import suffixes must be on the top-level model\u001b[39;00m\n",
      "\u001b[1;31mRuntimeError\u001b[0m: Attempting to solve model=unknown with unconstructed component(s)"
     ]
    }
   ],
   "source": [
    "import pyomo.environ as pyo\n",
    "\n",
    "# Step 1: Define parameters and variables\n",
    "model = pyo.AbstractModel()\n",
    "\n",
    "I = range(1, 7)  # Power units\n",
    "T = range(1, 16)  # Time periods\n",
    "\n",
    "model.C_startup = pyo.Param(I, within=pyo.NonNegativeReals)  # Startup cost\n",
    "model.C_shutdown = pyo.Param(I, within=pyo.NonNegativeReals)  # Shutdown cost\n",
    "model.C_fixed = pyo.Param(I, within=pyo.NonNegativeReals)  # Fixed cost\n",
    "model.C_variable = pyo.Param(I, T, within=pyo.NonNegativeReals)  # Variable cost\n",
    "model.P_min = pyo.Param(I, within=pyo.NonNegativeReals)  # Minimum output power\n",
    "model.P_max = pyo.Param(I, within=pyo.NonNegativeReals)  # Maximum output power\n",
    "model.Delta_up = pyo.Param(I, within=pyo.NonNegativeReals)  # Maximum power increment\n",
    "model.Delta_down = pyo.Param(I, within=pyo.NonNegativeReals)  # Maximum power decrement\n",
    "model.D = pyo.Param(T, within=pyo.NonNegativeReals)  # Power demand\n",
    "\n",
    "model.y = pyo.Var(I, T, within=pyo.Binary)  # Binary variable indicating whether power unit i is turned on at time t\n",
    "model.u = pyo.Var(I, T, within=pyo.NonNegativeReals, bounds=(0, 1))  # Continuous variable representing the fraction of the maximum output power of power unit i at time t\n",
    "model.P = pyo.Var(I, T, within=pyo.NonNegativeReals)  # Power output of power unit i at time t\n",
    "\n",
    "# Step 2: Define the objective function\n",
    "def total_cost(model):\n",
    "    return sum(model.C_startup[i] * (model.y[i, t] - model.y[i, t-1]) + model.C_shutdown[i] * (model.y[i, t-1] - model.y[i, t]) + model.C_fixed[i] * model.y[i, t] + model.C_variable[i, t] * model.P_max[i] * model.u[i, t] for i in I for t in T)\n",
    "\n",
    "model.OBJ = pyo.Objective(rule=total_cost, sense=pyo.minimize)\n",
    "\n",
    "# Step 3: Define the constraints\n",
    "def power_output_bounds(model, i, t):\n",
    "    return model.P_min[i] * model.y[i, t] <= model.P[i, t] <= model.P_max[i] * model.y[i, t]\n",
    "\n",
    "model.power_output_bounds_constraint = pyo.Constraint(I, T, rule=power_output_bounds)\n",
    "\n",
    "def power_balance(model, t):\n",
    "    return sum(model.P[i, t] for i in I) >= 1.1 * model.D[t]\n",
    "\n",
    "model.power_balance_constraint = pyo.Constraint(T, rule=power_balance)\n",
    "\n",
    "def power_increment_decrement(model, i, t):\n",
    "    if t == 1:\n",
    "        return pyo.Constraint.Skip\n",
    "    else:\n",
    "        return -model.Delta_down[i] * model.y[i, t-1] <= model.P[i, t] - model.P[i, t-1] <= model.Delta_up[i] * model.y[i, t]\n",
    "\n",
    "model.power_increment_decrement_constraint = pyo.Constraint(I, T, rule=power_increment_decrement)\n",
    "\n",
    "solver = pyo.SolverFactory('gurobi')\n",
    "results = solver.solve(model)"
   ]
  },
  {
   "cell_type": "markdown",
   "id": "95f5c3a8",
   "metadata": {},
   "source": [
    "### Solution Correctness"
   ]
  },
  {
   "cell_type": "code",
   "execution_count": 20,
   "id": "01245691",
   "metadata": {},
   "outputs": [
    {
     "name": "stderr",
     "output_type": "stream",
     "text": [
      "2024-06-13 16:31:23,839 ERROR pyomo.core: Rule failed when generating expression for Objective OBJ with index None:\n",
      "ValueError: Error retrieving immutable Param value (C_startup[1]):\n",
      "\tThe Param value is undefined and no default value is specified.\n",
      "2024-06-13 16:31:23,840 ERROR pyomo.core: Constructing component 'OBJ' from data=None failed:\n",
      "ValueError: Error retrieving immutable Param value (C_startup[1]):\n",
      "\tThe Param value is undefined and no default value is specified.\n"
     ]
    },
    {
     "ename": "ValueError",
     "evalue": "Error retrieving immutable Param value (C_startup[1]):\n\tThe Param value is undefined and no default value is specified.",
     "output_type": "error",
     "traceback": [
      "\u001b[1;31m---------------------------------------------------------------------------\u001b[0m",
      "\u001b[1;31mValueError\u001b[0m                                Traceback (most recent call last)",
      "Input \u001b[1;32mIn [20]\u001b[0m, in \u001b[0;36m<cell line: 27>\u001b[1;34m()\u001b[0m\n\u001b[0;32m     24\u001b[0m \u001b[38;5;28;01mdef\u001b[39;00m \u001b[38;5;21mtotal_cost\u001b[39m(model):\n\u001b[0;32m     25\u001b[0m     \u001b[38;5;28;01mreturn\u001b[39;00m \u001b[38;5;28msum\u001b[39m(model\u001b[38;5;241m.\u001b[39mC_startup[i] \u001b[38;5;241m*\u001b[39m (model\u001b[38;5;241m.\u001b[39my[i, t] \u001b[38;5;241m-\u001b[39m model\u001b[38;5;241m.\u001b[39my[i, t\u001b[38;5;241m-\u001b[39m\u001b[38;5;241m1\u001b[39m]) \u001b[38;5;241m+\u001b[39m model\u001b[38;5;241m.\u001b[39mC_shutdown[i] \u001b[38;5;241m*\u001b[39m (model\u001b[38;5;241m.\u001b[39my[i, t\u001b[38;5;241m-\u001b[39m\u001b[38;5;241m1\u001b[39m] \u001b[38;5;241m-\u001b[39m model\u001b[38;5;241m.\u001b[39my[i, t]) \u001b[38;5;241m+\u001b[39m model\u001b[38;5;241m.\u001b[39mC_fixed[i] \u001b[38;5;241m*\u001b[39m model\u001b[38;5;241m.\u001b[39my[i, t] \u001b[38;5;241m+\u001b[39m model\u001b[38;5;241m.\u001b[39mC_variable[i, t] \u001b[38;5;241m*\u001b[39m model\u001b[38;5;241m.\u001b[39mP_max[i] \u001b[38;5;241m*\u001b[39m model\u001b[38;5;241m.\u001b[39mu[i, t] \u001b[38;5;28;01mfor\u001b[39;00m i \u001b[38;5;129;01min\u001b[39;00m I \u001b[38;5;28;01mfor\u001b[39;00m t \u001b[38;5;129;01min\u001b[39;00m T)\n\u001b[1;32m---> 27\u001b[0m model\u001b[38;5;241m.\u001b[39mOBJ \u001b[38;5;241m=\u001b[39m pyo\u001b[38;5;241m.\u001b[39mObjective(rule\u001b[38;5;241m=\u001b[39mtotal_cost, sense\u001b[38;5;241m=\u001b[39mpyo\u001b[38;5;241m.\u001b[39mminimize)\n\u001b[0;32m     29\u001b[0m \u001b[38;5;66;03m# Step 3: Define the constraints\u001b[39;00m\n\u001b[0;32m     30\u001b[0m \u001b[38;5;28;01mdef\u001b[39;00m \u001b[38;5;21mpower_output_bounds\u001b[39m(model, i, t):\n",
      "File \u001b[1;32m~\\AppData\\Roaming\\Python\\Python310\\site-packages\\pyomo\\core\\base\\block.py:639\u001b[0m, in \u001b[0;36m_BlockData.__setattr__\u001b[1;34m(self, name, val)\u001b[0m\n\u001b[0;32m    634\u001b[0m \u001b[38;5;28;01mif\u001b[39;00m name \u001b[38;5;129;01mnot\u001b[39;00m \u001b[38;5;129;01min\u001b[39;00m \u001b[38;5;28mself\u001b[39m\u001b[38;5;241m.\u001b[39m\u001b[38;5;18m__dict__\u001b[39m:\n\u001b[0;32m    635\u001b[0m     \u001b[38;5;28;01mif\u001b[39;00m \u001b[38;5;28misinstance\u001b[39m(val, Component):\n\u001b[0;32m    636\u001b[0m         \u001b[38;5;66;03m#\u001b[39;00m\n\u001b[0;32m    637\u001b[0m         \u001b[38;5;66;03m# Pyomo components are added with the add_component method.\u001b[39;00m\n\u001b[0;32m    638\u001b[0m         \u001b[38;5;66;03m#\u001b[39;00m\n\u001b[1;32m--> 639\u001b[0m         \u001b[38;5;28;43mself\u001b[39;49m\u001b[38;5;241;43m.\u001b[39;49m\u001b[43madd_component\u001b[49m\u001b[43m(\u001b[49m\u001b[43mname\u001b[49m\u001b[43m,\u001b[49m\u001b[43m \u001b[49m\u001b[43mval\u001b[49m\u001b[43m)\u001b[49m\n\u001b[0;32m    640\u001b[0m     \u001b[38;5;28;01melse\u001b[39;00m:\n\u001b[0;32m    641\u001b[0m         \u001b[38;5;66;03m#\u001b[39;00m\n\u001b[0;32m    642\u001b[0m         \u001b[38;5;66;03m# Other Python objects are added with the standard __setattr__\u001b[39;00m\n\u001b[0;32m    643\u001b[0m         \u001b[38;5;66;03m# method.\u001b[39;00m\n\u001b[0;32m    644\u001b[0m         \u001b[38;5;66;03m#\u001b[39;00m\n\u001b[0;32m    645\u001b[0m         \u001b[38;5;28msuper\u001b[39m(_BlockData, \u001b[38;5;28mself\u001b[39m)\u001b[38;5;241m.\u001b[39m\u001b[38;5;21m__setattr__\u001b[39m(name, val)\n",
      "File \u001b[1;32m~\\AppData\\Roaming\\Python\\Python310\\site-packages\\pyomo\\core\\base\\block.py:1186\u001b[0m, in \u001b[0;36m_BlockData.add_component\u001b[1;34m(self, name, val)\u001b[0m\n\u001b[0;32m   1182\u001b[0m     logger\u001b[38;5;241m.\u001b[39mdebug(\u001b[38;5;124m\"\u001b[39m\u001b[38;5;124mConstructing \u001b[39m\u001b[38;5;132;01m%s\u001b[39;00m\u001b[38;5;124m \u001b[39m\u001b[38;5;124m'\u001b[39m\u001b[38;5;132;01m%s\u001b[39;00m\u001b[38;5;124m'\u001b[39m\u001b[38;5;124m on \u001b[39m\u001b[38;5;132;01m%s\u001b[39;00m\u001b[38;5;124m from data=\u001b[39m\u001b[38;5;132;01m%s\u001b[39;00m\u001b[38;5;124m\"\u001b[39m,\n\u001b[0;32m   1183\u001b[0m                  val\u001b[38;5;241m.\u001b[39m\u001b[38;5;18m__class__\u001b[39m\u001b[38;5;241m.\u001b[39m\u001b[38;5;18m__name__\u001b[39m, name,\n\u001b[0;32m   1184\u001b[0m                  _blockName, \u001b[38;5;28mstr\u001b[39m(data))\n\u001b[0;32m   1185\u001b[0m \u001b[38;5;28;01mtry\u001b[39;00m:\n\u001b[1;32m-> 1186\u001b[0m     \u001b[43mval\u001b[49m\u001b[38;5;241;43m.\u001b[39;49m\u001b[43mconstruct\u001b[49m\u001b[43m(\u001b[49m\u001b[43mdata\u001b[49m\u001b[43m)\u001b[49m\n\u001b[0;32m   1187\u001b[0m \u001b[38;5;28;01mexcept\u001b[39;00m:\n\u001b[0;32m   1188\u001b[0m     err \u001b[38;5;241m=\u001b[39m sys\u001b[38;5;241m.\u001b[39mexc_info()[\u001b[38;5;241m1\u001b[39m]\n",
      "File \u001b[1;32m~\\AppData\\Roaming\\Python\\Python310\\site-packages\\pyomo\\core\\base\\objective.py:334\u001b[0m, in \u001b[0;36mObjective.construct\u001b[1;34m(self, data)\u001b[0m\n\u001b[0;32m    330\u001b[0m \u001b[38;5;28;01melse\u001b[39;00m:\n\u001b[0;32m    331\u001b[0m     \u001b[38;5;66;03m# Bypass the index validation and create the member directly\u001b[39;00m\n\u001b[0;32m    332\u001b[0m     \u001b[38;5;28;01mfor\u001b[39;00m index \u001b[38;5;129;01min\u001b[39;00m \u001b[38;5;28mself\u001b[39m\u001b[38;5;241m.\u001b[39mindex_set():\n\u001b[0;32m    333\u001b[0m         ans \u001b[38;5;241m=\u001b[39m \u001b[38;5;28mself\u001b[39m\u001b[38;5;241m.\u001b[39m_setitem_when_not_present(\n\u001b[1;32m--> 334\u001b[0m             index, \u001b[43mrule\u001b[49m\u001b[43m(\u001b[49m\u001b[43mblock\u001b[49m\u001b[43m,\u001b[49m\u001b[43m \u001b[49m\u001b[43mindex\u001b[49m\u001b[43m)\u001b[49m)\n\u001b[0;32m    335\u001b[0m         \u001b[38;5;28;01mif\u001b[39;00m ans \u001b[38;5;129;01mis\u001b[39;00m \u001b[38;5;129;01mnot\u001b[39;00m \u001b[38;5;28;01mNone\u001b[39;00m:\n\u001b[0;32m    336\u001b[0m             ans\u001b[38;5;241m.\u001b[39mset_sense(\u001b[38;5;28mself\u001b[39m\u001b[38;5;241m.\u001b[39m_init_sense(block, index))\n",
      "File \u001b[1;32m~\\AppData\\Roaming\\Python\\Python310\\site-packages\\pyomo\\core\\base\\initializer.py:402\u001b[0m, in \u001b[0;36mScalarCallInitializer.__call__\u001b[1;34m(self, parent, idx)\u001b[0m\n\u001b[0;32m    401\u001b[0m \u001b[38;5;28;01mdef\u001b[39;00m \u001b[38;5;21m__call__\u001b[39m(\u001b[38;5;28mself\u001b[39m, parent, idx):\n\u001b[1;32m--> 402\u001b[0m     \u001b[38;5;28;01mreturn\u001b[39;00m \u001b[38;5;28;43mself\u001b[39;49m\u001b[38;5;241;43m.\u001b[39;49m\u001b[43m_fcn\u001b[49m\u001b[43m(\u001b[49m\u001b[43mparent\u001b[49m\u001b[43m)\u001b[49m\n",
      "Input \u001b[1;32mIn [20]\u001b[0m, in \u001b[0;36mtotal_cost\u001b[1;34m(model)\u001b[0m\n\u001b[0;32m     24\u001b[0m \u001b[38;5;28;01mdef\u001b[39;00m \u001b[38;5;21mtotal_cost\u001b[39m(model):\n\u001b[1;32m---> 25\u001b[0m     \u001b[38;5;28;01mreturn\u001b[39;00m \u001b[38;5;28;43msum\u001b[39;49m\u001b[43m(\u001b[49m\u001b[43mmodel\u001b[49m\u001b[38;5;241;43m.\u001b[39;49m\u001b[43mC_startup\u001b[49m\u001b[43m[\u001b[49m\u001b[43mi\u001b[49m\u001b[43m]\u001b[49m\u001b[43m \u001b[49m\u001b[38;5;241;43m*\u001b[39;49m\u001b[43m \u001b[49m\u001b[43m(\u001b[49m\u001b[43mmodel\u001b[49m\u001b[38;5;241;43m.\u001b[39;49m\u001b[43my\u001b[49m\u001b[43m[\u001b[49m\u001b[43mi\u001b[49m\u001b[43m,\u001b[49m\u001b[43m \u001b[49m\u001b[43mt\u001b[49m\u001b[43m]\u001b[49m\u001b[43m \u001b[49m\u001b[38;5;241;43m-\u001b[39;49m\u001b[43m \u001b[49m\u001b[43mmodel\u001b[49m\u001b[38;5;241;43m.\u001b[39;49m\u001b[43my\u001b[49m\u001b[43m[\u001b[49m\u001b[43mi\u001b[49m\u001b[43m,\u001b[49m\u001b[43m \u001b[49m\u001b[43mt\u001b[49m\u001b[38;5;241;43m-\u001b[39;49m\u001b[38;5;241;43m1\u001b[39;49m\u001b[43m]\u001b[49m\u001b[43m)\u001b[49m\u001b[43m \u001b[49m\u001b[38;5;241;43m+\u001b[39;49m\u001b[43m \u001b[49m\u001b[43mmodel\u001b[49m\u001b[38;5;241;43m.\u001b[39;49m\u001b[43mC_shutdown\u001b[49m\u001b[43m[\u001b[49m\u001b[43mi\u001b[49m\u001b[43m]\u001b[49m\u001b[43m \u001b[49m\u001b[38;5;241;43m*\u001b[39;49m\u001b[43m \u001b[49m\u001b[43m(\u001b[49m\u001b[43mmodel\u001b[49m\u001b[38;5;241;43m.\u001b[39;49m\u001b[43my\u001b[49m\u001b[43m[\u001b[49m\u001b[43mi\u001b[49m\u001b[43m,\u001b[49m\u001b[43m \u001b[49m\u001b[43mt\u001b[49m\u001b[38;5;241;43m-\u001b[39;49m\u001b[38;5;241;43m1\u001b[39;49m\u001b[43m]\u001b[49m\u001b[43m \u001b[49m\u001b[38;5;241;43m-\u001b[39;49m\u001b[43m \u001b[49m\u001b[43mmodel\u001b[49m\u001b[38;5;241;43m.\u001b[39;49m\u001b[43my\u001b[49m\u001b[43m[\u001b[49m\u001b[43mi\u001b[49m\u001b[43m,\u001b[49m\u001b[43m \u001b[49m\u001b[43mt\u001b[49m\u001b[43m]\u001b[49m\u001b[43m)\u001b[49m\u001b[43m \u001b[49m\u001b[38;5;241;43m+\u001b[39;49m\u001b[43m \u001b[49m\u001b[43mmodel\u001b[49m\u001b[38;5;241;43m.\u001b[39;49m\u001b[43mC_fixed\u001b[49m\u001b[43m[\u001b[49m\u001b[43mi\u001b[49m\u001b[43m]\u001b[49m\u001b[43m \u001b[49m\u001b[38;5;241;43m*\u001b[39;49m\u001b[43m \u001b[49m\u001b[43mmodel\u001b[49m\u001b[38;5;241;43m.\u001b[39;49m\u001b[43my\u001b[49m\u001b[43m[\u001b[49m\u001b[43mi\u001b[49m\u001b[43m,\u001b[49m\u001b[43m \u001b[49m\u001b[43mt\u001b[49m\u001b[43m]\u001b[49m\u001b[43m \u001b[49m\u001b[38;5;241;43m+\u001b[39;49m\u001b[43m \u001b[49m\u001b[43mmodel\u001b[49m\u001b[38;5;241;43m.\u001b[39;49m\u001b[43mC_variable\u001b[49m\u001b[43m[\u001b[49m\u001b[43mi\u001b[49m\u001b[43m,\u001b[49m\u001b[43m \u001b[49m\u001b[43mt\u001b[49m\u001b[43m]\u001b[49m\u001b[43m \u001b[49m\u001b[38;5;241;43m*\u001b[39;49m\u001b[43m \u001b[49m\u001b[43mmodel\u001b[49m\u001b[38;5;241;43m.\u001b[39;49m\u001b[43mP_max\u001b[49m\u001b[43m[\u001b[49m\u001b[43mi\u001b[49m\u001b[43m]\u001b[49m\u001b[43m \u001b[49m\u001b[38;5;241;43m*\u001b[39;49m\u001b[43m \u001b[49m\u001b[43mmodel\u001b[49m\u001b[38;5;241;43m.\u001b[39;49m\u001b[43mu\u001b[49m\u001b[43m[\u001b[49m\u001b[43mi\u001b[49m\u001b[43m,\u001b[49m\u001b[43m \u001b[49m\u001b[43mt\u001b[49m\u001b[43m]\u001b[49m\u001b[43m \u001b[49m\u001b[38;5;28;43;01mfor\u001b[39;49;00m\u001b[43m \u001b[49m\u001b[43mi\u001b[49m\u001b[43m \u001b[49m\u001b[38;5;129;43;01min\u001b[39;49;00m\u001b[43m \u001b[49m\u001b[43mI\u001b[49m\u001b[43m \u001b[49m\u001b[38;5;28;43;01mfor\u001b[39;49;00m\u001b[43m \u001b[49m\u001b[43mt\u001b[49m\u001b[43m \u001b[49m\u001b[38;5;129;43;01min\u001b[39;49;00m\u001b[43m \u001b[49m\u001b[43mT\u001b[49m\u001b[43m)\u001b[49m\n",
      "Input \u001b[1;32mIn [20]\u001b[0m, in \u001b[0;36m<genexpr>\u001b[1;34m(.0)\u001b[0m\n\u001b[0;32m     24\u001b[0m \u001b[38;5;28;01mdef\u001b[39;00m \u001b[38;5;21mtotal_cost\u001b[39m(model):\n\u001b[1;32m---> 25\u001b[0m     \u001b[38;5;28;01mreturn\u001b[39;00m \u001b[38;5;28msum\u001b[39m(\u001b[43mmodel\u001b[49m\u001b[38;5;241;43m.\u001b[39;49m\u001b[43mC_startup\u001b[49m\u001b[43m[\u001b[49m\u001b[43mi\u001b[49m\u001b[43m]\u001b[49m \u001b[38;5;241m*\u001b[39m (model\u001b[38;5;241m.\u001b[39my[i, t] \u001b[38;5;241m-\u001b[39m model\u001b[38;5;241m.\u001b[39my[i, t\u001b[38;5;241m-\u001b[39m\u001b[38;5;241m1\u001b[39m]) \u001b[38;5;241m+\u001b[39m model\u001b[38;5;241m.\u001b[39mC_shutdown[i] \u001b[38;5;241m*\u001b[39m (model\u001b[38;5;241m.\u001b[39my[i, t\u001b[38;5;241m-\u001b[39m\u001b[38;5;241m1\u001b[39m] \u001b[38;5;241m-\u001b[39m model\u001b[38;5;241m.\u001b[39my[i, t]) \u001b[38;5;241m+\u001b[39m model\u001b[38;5;241m.\u001b[39mC_fixed[i] \u001b[38;5;241m*\u001b[39m model\u001b[38;5;241m.\u001b[39my[i, t] \u001b[38;5;241m+\u001b[39m model\u001b[38;5;241m.\u001b[39mC_variable[i, t] \u001b[38;5;241m*\u001b[39m model\u001b[38;5;241m.\u001b[39mP_max[i] \u001b[38;5;241m*\u001b[39m model\u001b[38;5;241m.\u001b[39mu[i, t] \u001b[38;5;28;01mfor\u001b[39;00m i \u001b[38;5;129;01min\u001b[39;00m I \u001b[38;5;28;01mfor\u001b[39;00m t \u001b[38;5;129;01min\u001b[39;00m T)\n",
      "File \u001b[1;32m~\\AppData\\Roaming\\Python\\Python310\\site-packages\\pyomo\\core\\base\\indexed_component.py:589\u001b[0m, in \u001b[0;36mIndexedComponent.__getitem__\u001b[1;34m(self, index)\u001b[0m\n\u001b[0;32m    584\u001b[0m     \u001b[38;5;66;03m#\u001b[39;00m\n\u001b[0;32m    585\u001b[0m     \u001b[38;5;66;03m# Call the _getitem_when_not_present helper to retrieve/return\u001b[39;00m\n\u001b[0;32m    586\u001b[0m     \u001b[38;5;66;03m# the default value\u001b[39;00m\n\u001b[0;32m    587\u001b[0m     \u001b[38;5;66;03m#\u001b[39;00m\n\u001b[0;32m    588\u001b[0m     \u001b[38;5;28;01mif\u001b[39;00m obj \u001b[38;5;129;01mis\u001b[39;00m _NotFound:\n\u001b[1;32m--> 589\u001b[0m         \u001b[38;5;28;01mreturn\u001b[39;00m \u001b[38;5;28;43mself\u001b[39;49m\u001b[38;5;241;43m.\u001b[39;49m\u001b[43m_getitem_when_not_present\u001b[49m\u001b[43m(\u001b[49m\u001b[43mindex\u001b[49m\u001b[43m)\u001b[49m\n\u001b[0;32m    591\u001b[0m \u001b[38;5;28;01mreturn\u001b[39;00m obj\n",
      "File \u001b[1;32m~\\AppData\\Roaming\\Python\\Python310\\site-packages\\pyomo\\core\\base\\param.py:564\u001b[0m, in \u001b[0;36mParam._getitem_when_not_present\u001b[1;34m(self, index)\u001b[0m\n\u001b[0;32m    562\u001b[0m     \u001b[38;5;28;01melse\u001b[39;00m:\n\u001b[0;32m    563\u001b[0m         idx_str \u001b[38;5;241m=\u001b[39m \u001b[38;5;124m'\u001b[39m\u001b[38;5;132;01m%s\u001b[39;00m\u001b[38;5;124m'\u001b[39m \u001b[38;5;241m%\u001b[39m (\u001b[38;5;28mself\u001b[39m\u001b[38;5;241m.\u001b[39mname,)\n\u001b[1;32m--> 564\u001b[0m     \u001b[38;5;28;01mraise\u001b[39;00m \u001b[38;5;167;01mValueError\u001b[39;00m(\n\u001b[0;32m    565\u001b[0m         \u001b[38;5;124m\"\u001b[39m\u001b[38;5;124mError retrieving immutable Param value (\u001b[39m\u001b[38;5;132;01m%s\u001b[39;00m\u001b[38;5;124m):\u001b[39m\u001b[38;5;130;01m\\n\u001b[39;00m\u001b[38;5;130;01m\\t\u001b[39;00m\u001b[38;5;124mThe Param \u001b[39m\u001b[38;5;124m\"\u001b[39m\n\u001b[0;32m    566\u001b[0m         \u001b[38;5;124m\"\u001b[39m\u001b[38;5;124mvalue is undefined and no default value is specified.\u001b[39m\u001b[38;5;124m\"\u001b[39m\n\u001b[0;32m    567\u001b[0m         \u001b[38;5;241m%\u001b[39m ( idx_str,) )\n\u001b[0;32m    569\u001b[0m _default_type \u001b[38;5;241m=\u001b[39m \u001b[38;5;28mtype\u001b[39m(val)\n\u001b[0;32m    570\u001b[0m _check_value_domain \u001b[38;5;241m=\u001b[39m \u001b[38;5;28;01mTrue\u001b[39;00m\n",
      "\u001b[1;31mValueError\u001b[0m: Error retrieving immutable Param value (C_startup[1]):\n\tThe Param value is undefined and no default value is specified."
     ]
    }
   ],
   "source": [
    "import pyomo.environ as pyo\n",
    "\n",
    "# Step 1: Define parameters and variables\n",
    "model = pyo.ConcreteModel()\n",
    "\n",
    "I = range(1, 7)  # Power units\n",
    "T = range(1, 16)  # Time periods\n",
    "\n",
    "model.C_startup = pyo.Param(I, within=pyo.NonNegativeReals)  # Startup cost\n",
    "model.C_shutdown = pyo.Param(I, within=pyo.NonNegativeReals)  # Shutdown cost\n",
    "model.C_fixed = pyo.Param(I, within=pyo.NonNegativeReals)  # Fixed cost\n",
    "model.C_variable = pyo.Param(I, T, within=pyo.NonNegativeReals)  # Variable cost\n",
    "model.P_min = pyo.Param(I, within=pyo.NonNegativeReals)  # Minimum output power\n",
    "model.P_max = pyo.Param(I, within=pyo.NonNegativeReals)  # Maximum output power\n",
    "model.Delta_up = pyo.Param(I, within=pyo.NonNegativeReals)  # Maximum power increment\n",
    "model.Delta_down = pyo.Param(I, within=pyo.NonNegativeReals)  # Maximum power decrement\n",
    "model.D = pyo.Param(T, within=pyo.NonNegativeReals)  # Power demand\n",
    "\n",
    "model.y = pyo.Var(I, T, within=pyo.Binary)  # Binary variable indicating whether power unit i is turned on at time t\n",
    "model.u = pyo.Var(I, T, within=pyo.NonNegativeReals, bounds=(0, 1))  # Continuous variable representing the fraction of the maximum output power of power unit i at time t\n",
    "model.P = pyo.Var(I, T, within=pyo.NonNegativeReals)  # Power output of power unit i at time t\n",
    "\n",
    "# Step 2: Define the objective function\n",
    "def total_cost(model):\n",
    "    return sum(model.C_startup[i] * (model.y[i, t] - model.y[i, t-1]) + model.C_shutdown[i] * (model.y[i, t-1] - model.y[i, t]) + model.C_fixed[i] * model.y[i, t] + model.C_variable[i, t] * model.P_max[i] * model.u[i, t] for i in I for t in T)\n",
    "\n",
    "model.OBJ = pyo.Objective(rule=total_cost, sense=pyo.minimize)\n",
    "\n",
    "# Step 3: Define the constraints\n",
    "def power_output_bounds(model, i, t):\n",
    "    return model.P_min[i] * model.y[i, t] <= model.P[i, t] <= model.P_max[i] * model.y[i, t]\n",
    "\n",
    "model.power_output_bounds_constraint = pyo.Constraint(I, T, rule=power_output_bounds)\n",
    "\n",
    "def power_balance(model, t):\n",
    "    return sum(model.P[i, t] for i in I) >= 1.1 * model.D[t]\n",
    "\n",
    "model.power_balance_constraint = pyo.Constraint(T, rule=power_balance)\n",
    "\n",
    "def power_increment_decrement(model, i, t):\n",
    "    if t == 1:\n",
    "        return pyo.Constraint.Skip\n",
    "    else:\n",
    "        return -model.Delta_down[i] * model.y[i, t-1] <= model.P[i, t] - model.P[i, t-1] <= model.Delta_up[i] * model.y[i, t]\n",
    "\n",
    "model.power_increment_decrement_constraint = pyo.Constraint(I, T, rule=power_increment_decrement)\n",
    "\n",
    "solver = pyo.SolverFactory('gurobi')\n",
    "results = solver.solve(model)"
   ]
  }
 ],
 "metadata": {
  "kernelspec": {
   "display_name": "Python 3 (ipykernel)",
   "language": "python",
   "name": "python3"
  },
  "language_info": {
   "codemirror_mode": {
    "name": "ipython",
    "version": 3
   },
   "file_extension": ".py",
   "mimetype": "text/x-python",
   "name": "python",
   "nbconvert_exporter": "python",
   "pygments_lexer": "ipython3",
   "version": "3.10.4"
  }
 },
 "nbformat": 4,
 "nbformat_minor": 5
}
