{
 "cells": [
  {
   "cell_type": "code",
   "execution_count": 16,
   "id": "e5c2c174",
   "metadata": {},
   "outputs": [],
   "source": [
    "import os\n",
    "from mistralai.client import MistralClient\n",
    "from mistralai.models.chat_completion import ChatMessage\n",
    "from IPython.display import display, Markdown, Latex\n",
    "from datetime import datetime"
   ]
  },
  {
   "cell_type": "code",
   "execution_count": 17,
   "id": "b0c91a62",
   "metadata": {},
   "outputs": [
    {
     "name": "stdout",
     "output_type": "stream",
     "text": [
      "Time of execution: 2024-06-07 16:18:07.584897\n"
     ]
    }
   ],
   "source": [
    "API_KEY = os.environ['MISTRAL_API_KEY']\n",
    "\n",
    "MODEL_ID = 'open-mixtral-8x22b'\n",
    "MODEL_SEED = 1\n",
    "MODEL_TEMPERATURE = 0.7\n",
    "\n",
    "file_system_prompt_1 = open(\"../system_prompt_1.txt\", \"r\")\n",
    "file_system_prompt_2 = open(\"../system_prompt_2.txt\", \"r\")\n",
    "user_prompt_1 = open(\"../user_prompt_1.txt\", \"r\")\n",
    "user_prompt_2 = open(\"../user_prompt_2.txt\", \"r\")\n",
    "user_prompt_3 = open(\"../user_prompt_3.txt\", \"r\")\n",
    "SYSTEM_PROMPT_1 = file_system_prompt_1.read()\n",
    "SYSTEM_PROMPT_2 = file_system_prompt_2.read()\n",
    "USER_PROMPT_1 = user_prompt_1.read()\n",
    "USER_PROMPT_2 = user_prompt_2.read()\n",
    "USER_PROMPT_3 = user_prompt_3.read()\n",
    "file_system_prompt_1.close()\n",
    "file_system_prompt_2.close()\n",
    "user_prompt_1.close()\n",
    "user_prompt_2.close()\n",
    "user_prompt_3.close()\n",
    "\n",
    "FILE_PATH_PROBLEM = '../../../../Datasets/IP_2_Choosing_Investment_Strategies/'\n",
    "assert(FILE_PATH_PROBLEM != '../../../../Datasets/')\n",
    "file_problem_description = open(FILE_PATH_PROBLEM + 'ProblemDescription.txt', 'r')\n",
    "PROBLEM_DESCRIPTION = file_problem_description.read()\n",
    "file_problem_description.close()\n",
    "\n",
    "\n",
    "\n",
    "client = MistralClient(api_key=API_KEY)\n",
    "\n",
    "print(f'Time of execution: {datetime.now()}')"
   ]
  },
  {
   "cell_type": "markdown",
   "id": "3e540824",
   "metadata": {},
   "source": [
    "## Step 1 - Generate Mathematical Formulation "
   ]
  },
  {
   "cell_type": "code",
   "execution_count": 18,
   "id": "174c127b",
   "metadata": {},
   "outputs": [],
   "source": [
    "messages_1 = [\n",
    "    ChatMessage(role=\"system\", content=SYSTEM_PROMPT_1),\n",
    "    ChatMessage(role=\"user\", content=PROBLEM_DESCRIPTION),\n",
    "    ChatMessage(role=\"user\", content=USER_PROMPT_1)\n",
    "]\n",
    "\n",
    "response_1 = client.chat(\n",
    "    model=MODEL_ID,\n",
    "    messages=messages_1,\n",
    "    random_seed=MODEL_SEED,\n",
    "    temperature=MODEL_TEMPERATURE \n",
    ")\n",
    "\n",
    "response_1_text = response_1.choices[0].message.content"
   ]
  },
  {
   "cell_type": "code",
   "execution_count": 19,
   "id": "03616e62",
   "metadata": {},
   "outputs": [
    {
     "data": {
      "text/markdown": [
       "Step 1: Define parameters and variables\n",
       "\n",
       "Let's denote:\n",
       "- \\(i\\) as the index for the investment strategies, where \\(i \\in \\{1, 2, ..., 10\\}\\).\n",
       "- \\(j\\) as the index for the budget scenarios, where \\(j \\in \\{1, 2, 3, 4\\}\\).\n",
       "- \\(A_i\\) as the cost of investing in strategy \\(i\\).\n",
       "- \\(B_j\\) as the budget for scenario \\(j\\).\n",
       "- \\(P_j\\) as the probability of scenario \\(j\\) occurring.\n",
       "- \\(R_{ik}\\) as the return of investment strategy \\(i\\) at time \\(k\\).\n",
       "- \\(T\\) as the total number of historical returns for each investment strategy.\n",
       "- \\(X_i\\) as the binary decision variable which equals 1 if we invest in strategy \\(i\\) and 0 otherwise.\n",
       "- \\(Y_j\\) as the binary decision variable which equals 1 if the budget of scenario \\(j\\) is exceeded and 0 otherwise.\n",
       "\n",
       "Additionally, we have the given parameters:\n",
       "- \\(r = 2\\), the risk parameter.\n",
       "- \\(p_{max} = 0.4\\), the maximum tolerable probability of exceeding the budget."
      ],
      "text/plain": [
       "<IPython.core.display.Markdown object>"
      ]
     },
     "execution_count": 19,
     "metadata": {},
     "output_type": "execute_result"
    }
   ],
   "source": [
    "Markdown(response_1_text)"
   ]
  },
  {
   "cell_type": "code",
   "execution_count": 20,
   "id": "b6a33171",
   "metadata": {},
   "outputs": [
    {
     "name": "stdout",
     "output_type": "stream",
     "text": [
      "Step 1: Define parameters and variables\n",
      "\n",
      "Let's denote:\n",
      "- \\(i\\) as the index for the investment strategies, where \\(i \\in \\{1, 2, ..., 10\\}\\).\n",
      "- \\(j\\) as the index for the budget scenarios, where \\(j \\in \\{1, 2, 3, 4\\}\\).\n",
      "- \\(A_i\\) as the cost of investing in strategy \\(i\\).\n",
      "- \\(B_j\\) as the budget for scenario \\(j\\).\n",
      "- \\(P_j\\) as the probability of scenario \\(j\\) occurring.\n",
      "- \\(R_{ik}\\) as the return of investment strategy \\(i\\) at time \\(k\\).\n",
      "- \\(T\\) as the total number of historical returns for each investment strategy.\n",
      "- \\(X_i\\) as the binary decision variable which equals 1 if we invest in strategy \\(i\\) and 0 otherwise.\n",
      "- \\(Y_j\\) as the binary decision variable which equals 1 if the budget of scenario \\(j\\) is exceeded and 0 otherwise.\n",
      "\n",
      "Additionally, we have the given parameters:\n",
      "- \\(r = 2\\), the risk parameter.\n",
      "- \\(p_{max} = 0.4\\), the maximum tolerable probability of exceeding the budget.\n"
     ]
    }
   ],
   "source": [
    "print(response_1_text)"
   ]
  },
  {
   "cell_type": "code",
   "execution_count": 21,
   "id": "9af61485",
   "metadata": {},
   "outputs": [],
   "source": [
    "messages_2 = [\n",
    "    ChatMessage(role=\"system\", content=SYSTEM_PROMPT_1),\n",
    "    ChatMessage(role=\"user\", content=PROBLEM_DESCRIPTION),\n",
    "    ChatMessage(role=\"user\", content=USER_PROMPT_1),\n",
    "    ChatMessage(role=\"assistant\", content=response_1_text),\n",
    "    ChatMessage(role=\"user\", content=USER_PROMPT_2),\n",
    "]\n",
    "\n",
    "response_2 = client.chat(\n",
    "    model=MODEL_ID,\n",
    "    messages=messages_2,\n",
    "    random_seed=MODEL_SEED,\n",
    "    temperature=MODEL_TEMPERATURE \n",
    ")\n",
    "\n",
    "response_2_text = response_2.choices[0].message.content"
   ]
  },
  {
   "cell_type": "code",
   "execution_count": null,
   "id": "aae425d7",
   "metadata": {},
   "outputs": [],
   "source": [
    "print(response_2_text)"
   ]
  },
  {
   "cell_type": "code",
   "execution_count": 22,
   "id": "ac0f2659",
   "metadata": {},
   "outputs": [
    {
     "data": {
      "text/markdown": [
       "Step 2: Define the objective function\n",
       "\n",
       "The objective function for a mean-variance optimization problem with a risk parameter \\(r\\) can be defined as:\n",
       "\n",
       "\\[\n",
       "\\max \\left( \\sum_{i=1}^{10} \\left( \\frac{1}{T} \\sum_{k=1}^{T} R_{ik} \\right) X_i - r \\cdot \\left( \\frac{1}{T} \\sum_{k=1}^{T} \\left( \\sum_{i=1}^{10} R_{ik} X_i - \\frac{1}{T} \\sum_{k=1}^{T} \\sum_{i=1}^{10} R_{ik} X_i \\right)^2 \\right) \\right)\n",
       "\\]\n",
       "\n",
       "The first term of the objective function represents the expected return of the investment strategies. The second term is the risk component, which is the product of the risk parameter \\(r\\) and the variance of the returns.\n",
       "\n",
       "In this objective function, we aim to maximize the expected return while minimizing the variance of the returns, considering the given risk parameter."
      ],
      "text/plain": [
       "<IPython.core.display.Markdown object>"
      ]
     },
     "execution_count": 22,
     "metadata": {},
     "output_type": "execute_result"
    }
   ],
   "source": [
    "Markdown(response_2_text)"
   ]
  },
  {
   "cell_type": "code",
   "execution_count": 23,
   "id": "d7d2d8bc",
   "metadata": {},
   "outputs": [],
   "source": [
    "messages_3 = [\n",
    "    ChatMessage(role=\"system\", content=SYSTEM_PROMPT_1),\n",
    "    ChatMessage(role=\"user\", content=PROBLEM_DESCRIPTION),\n",
    "    ChatMessage(role=\"user\", content=USER_PROMPT_1),\n",
    "    ChatMessage(role=\"assistant\", content=response_1_text),\n",
    "    ChatMessage(role=\"user\", content=USER_PROMPT_2),\n",
    "    ChatMessage(role=\"assistant\", content=response_2_text),\n",
    "    ChatMessage(role=\"user\", content=USER_PROMPT_3),\n",
    "]\n",
    "\n",
    "response_3 = client.chat(\n",
    "    model=MODEL_ID,\n",
    "    messages=messages_3,\n",
    "    random_seed=MODEL_SEED,\n",
    "    temperature=MODEL_TEMPERATURE \n",
    ")\n",
    "\n",
    "response_3_text = response_3.choices[0].message.content"
   ]
  },
  {
   "cell_type": "code",
   "execution_count": 24,
   "id": "c4588e6c",
   "metadata": {},
   "outputs": [
    {
     "data": {
      "text/markdown": [
       "Step 3: Define the constraints\n",
       "\n",
       "1. Budget constraint: The total cost of the investments must not exceed the available budget for each scenario, considering the probability of each scenario.\n",
       "\n",
       "\\[\n",
       "\\sum_{i=1}^{10} A_i X_i \\leq B_j + M \\cdot Y_j, \\quad \\forall j \\in \\{1, 2, 3, 4\\}\n",
       "\\]\n",
       "\n",
       "\\[\n",
       "\\sum_{j=1}^{4} P_j Y_j \\leq p_{max}\n",
       "\\]\n",
       "\n",
       "The first constraint ensures that the total cost of the investments is less than or equal to the budget \\(B_j\\) for each scenario \\(j\\), with the use of a large constant \\(M\\) and the binary variable \\(Y_j\\). The second constraint ensures that the probability of exceeding the budget does not exceed the tolerable limit \\(p_{max}\\).\n",
       "\n",
       "1. Single investment constraint: We can only invest once into an investment strategy.\n",
       "\n",
       "\\[\n",
       "\\sum_{i=1}^{10} X_i \\leq 10\n",
       "\\]\n",
       "\n",
       "This constraint ensures that the sum of investments into each strategy is less than or equal to 10, implying that we can invest in at most 10 strategies, given that we have 10 strategies to choose from.\n",
       "\n",
       "1. Binary variable constraint: The decision variables \\(X_i\\) and \\(Y_j\\) are binary.\n",
       "\n",
       "\\[\n",
       "X_i \\in \\{0, 1\\}, \\quad \\forall i \\in \\{1, 2, ..., 10\\}\n",
       "\\]\n",
       "\n",
       "\\[\n",
       "Y_j \\in \\{0, 1\\}, \\quad \\forall j \\in \\{1, 2, 3, 4\\}\n",
       "\\]\n",
       "\n",
       "These constraints ensure that the decision variables can only take values of 0 or 1, representing whether or not we invest in a strategy or exceed the budget in a scenario.\n",
       "\n",
       "This completes the formulation of the mathematical optimization model for the given problem."
      ],
      "text/plain": [
       "<IPython.core.display.Markdown object>"
      ]
     },
     "execution_count": 24,
     "metadata": {},
     "output_type": "execute_result"
    }
   ],
   "source": [
    "Markdown(response_3_text)"
   ]
  },
  {
   "cell_type": "code",
   "execution_count": 25,
   "id": "e73cd25c",
   "metadata": {},
   "outputs": [
    {
     "data": {
      "text/markdown": [
       "Step 1: Define parameters and variables\n",
       "\n",
       "Let's denote:\n",
       "- \\(i\\) as the index for the investment strategies, where \\(i \\in \\{1, 2, ..., 10\\}\\).\n",
       "- \\(j\\) as the index for the budget scenarios, where \\(j \\in \\{1, 2, 3, 4\\}\\).\n",
       "- \\(A_i\\) as the cost of investing in strategy \\(i\\).\n",
       "- \\(B_j\\) as the budget for scenario \\(j\\).\n",
       "- \\(P_j\\) as the probability of scenario \\(j\\) occurring.\n",
       "- \\(R_{ik}\\) as the return of investment strategy \\(i\\) at time \\(k\\).\n",
       "- \\(T\\) as the total number of historical returns for each investment strategy.\n",
       "- \\(X_i\\) as the binary decision variable which equals 1 if we invest in strategy \\(i\\) and 0 otherwise.\n",
       "- \\(Y_j\\) as the binary decision variable which equals 1 if the budget of scenario \\(j\\) is exceeded and 0 otherwise.\n",
       "\n",
       "Additionally, we have the given parameters:\n",
       "- \\(r = 2\\), the risk parameter.\n",
       "- \\(p_{max} = 0.4\\), the maximum tolerable probability of exceeding the budget.\n",
       "Step 2: Define the objective function\n",
       "\n",
       "The objective function for a mean-variance optimization problem with a risk parameter \\(r\\) can be defined as:\n",
       "\n",
       "\\[\n",
       "\\max \\left( \\sum_{i=1}^{10} \\left( \\frac{1}{T} \\sum_{k=1}^{T} R_{ik} \\right) X_i - r \\cdot \\left( \\frac{1}{T} \\sum_{k=1}^{T} \\left( \\sum_{i=1}^{10} R_{ik} X_i - \\frac{1}{T} \\sum_{k=1}^{T} \\sum_{i=1}^{10} R_{ik} X_i \\right)^2 \\right) \\right)\n",
       "\\]\n",
       "\n",
       "The first term of the objective function represents the expected return of the investment strategies. The second term is the risk component, which is the product of the risk parameter \\(r\\) and the variance of the returns.\n",
       "\n",
       "In this objective function, we aim to maximize the expected return while minimizing the variance of the returns, considering the given risk parameter.\n",
       "Step 3: Define the constraints\n",
       "\n",
       "1. Budget constraint: The total cost of the investments must not exceed the available budget for each scenario, considering the probability of each scenario.\n",
       "\n",
       "\\[\n",
       "\\sum_{i=1}^{10} A_i X_i \\leq B_j + M \\cdot Y_j, \\quad \\forall j \\in \\{1, 2, 3, 4\\}\n",
       "\\]\n",
       "\n",
       "\\[\n",
       "\\sum_{j=1}^{4} P_j Y_j \\leq p_{max}\n",
       "\\]\n",
       "\n",
       "The first constraint ensures that the total cost of the investments is less than or equal to the budget \\(B_j\\) for each scenario \\(j\\), with the use of a large constant \\(M\\) and the binary variable \\(Y_j\\). The second constraint ensures that the probability of exceeding the budget does not exceed the tolerable limit \\(p_{max}\\).\n",
       "\n",
       "1. Single investment constraint: We can only invest once into an investment strategy.\n",
       "\n",
       "\\[\n",
       "\\sum_{i=1}^{10} X_i \\leq 10\n",
       "\\]\n",
       "\n",
       "This constraint ensures that the sum of investments into each strategy is less than or equal to 10, implying that we can invest in at most 10 strategies, given that we have 10 strategies to choose from.\n",
       "\n",
       "1. Binary variable constraint: The decision variables \\(X_i\\) and \\(Y_j\\) are binary.\n",
       "\n",
       "\\[\n",
       "X_i \\in \\{0, 1\\}, \\quad \\forall i \\in \\{1, 2, ..., 10\\}\n",
       "\\]\n",
       "\n",
       "\\[\n",
       "Y_j \\in \\{0, 1\\}, \\quad \\forall j \\in \\{1, 2, 3, 4\\}\n",
       "\\]\n",
       "\n",
       "These constraints ensure that the decision variables can only take values of 0 or 1, representing whether or not we invest in a strategy or exceed the budget in a scenario.\n",
       "\n",
       "This completes the formulation of the mathematical optimization model for the given problem."
      ],
      "text/plain": [
       "<IPython.core.display.Markdown object>"
      ]
     },
     "execution_count": 25,
     "metadata": {},
     "output_type": "execute_result"
    }
   ],
   "source": [
    "response_text = '\\n'.join([response_1_text, response_2_text, response_3_text])\n",
    "\n",
    "Markdown(response_text)"
   ]
  },
  {
   "cell_type": "markdown",
   "id": "27b5f89a",
   "metadata": {},
   "source": [
    "## Step 2 - Generate the Pyomo Code"
   ]
  },
  {
   "cell_type": "code",
   "execution_count": 26,
   "id": "a4c3312f",
   "metadata": {},
   "outputs": [],
   "source": [
    "messages_4 = [\n",
    "    ChatMessage(role=\"system\", content=SYSTEM_PROMPT_2),\n",
    "    ChatMessage(role=\"user\", content=response_text)\n",
    "]"
   ]
  },
  {
   "cell_type": "code",
   "execution_count": 27,
   "id": "4212d99d",
   "metadata": {},
   "outputs": [],
   "source": [
    "response_4 = client.chat(\n",
    "    model=MODEL_ID,\n",
    "    messages=messages_4,\n",
    "    random_seed=MODEL_SEED,\n",
    "    temperature=MODEL_TEMPERATURE\n",
    ")\n",
    "\n",
    "response_4_text = response_4.choices[0].message.content"
   ]
  },
  {
   "cell_type": "code",
   "execution_count": 28,
   "id": "c168a60b",
   "metadata": {},
   "outputs": [
    {
     "data": {
      "text/markdown": [
       "To implement this optimization problem using Pyomo, we will follow the steps below:\n",
       "\n",
       "1. Import the necessary libraries and create a Pyomo model.\n",
       "2. Define the parameters and variables.\n",
       "3. Define the objective function.\n",
       "4. Define the constraints.\n",
       "5. Solve the model and display the results.\n",
       "\n",
       "Here is the Python code using Pyomo:\n",
       "\n",
       "```python\n",
       "import pyomo.environ as pyo\n",
       "import numpy as np\n",
       "\n",
       "# Step 1: Define parameters and variables\n",
       "model = pyo.ConcreteModel()\n",
       "\n",
       "# Set up the index for investment strategies and budget scenarios\n",
       "I = range(1, 11)\n",
       "J = range(1, 5)\n",
       "\n",
       "# Define the given parameters\n",
       "model.r = 2\n",
       "model.p_max = 0.4\n",
       "T = 10  # Sample data: assuming 10 historical returns for each investment strategy\n",
       "\n",
       "# Define the parameter A_i as a dictionary with sample data\n",
       "A = {1: 5000, 2: 10000, 3: 7000, 4: 8000, 5: 6000,\n",
       "     6: 9000, 7: 4000, 8: 11000, 9: 6500, 10: 7500}\n",
       "model.A = pyo.Param(I, initialize=A)\n",
       "\n",
       "# Define the parameter B_j as a dictionary with sample data\n",
       "B = {1: 20000, 2: 25000, 3: 30000, 4: 35000}\n",
       "model.B = pyo.Param(J, initialize=B)\n",
       "\n",
       "# Define the parameter P_j as a dictionary with sample data\n",
       "P = {1: 0.1, 2: 0.2, 3: 0.3, 4: 0.4}\n",
       "model.P = pyo.Param(J, initialize=P)\n",
       "\n",
       "# Define the parameter R_{ik} as a 3D dictionary with sample data\n",
       "R = {i: {k: np.random.normal(1000, 100) for k in range(1, T+1)} for i in I}\n",
       "model.R = pyo.Param(I, range(1, T+1), initialize=R)\n",
       "\n",
       "# Define the decision variable X_i\n",
       "model.X = pyo.Var(I, within=pyo.Binary)\n",
       "\n",
       "# Define the decision variable Y_j\n",
       "model.Y = pyo.Var(J, within=pyo.Binary)\n",
       "\n",
       "# Step 2: Define the objective function\n",
       "def objective_rule(model):\n",
       "    return sum(\n",
       "        (1/T) * sum(model.R[i, k] for k in range(1, T+1)) * model.X[i]\n",
       "        - model.r * (1/T) * sum(\n",
       "            (\n",
       "                sum(model.R[i, k] * model.X[i] for i in I)\n",
       "                - (1/T) * sum(sum(model.R[i, k] * model.X[i] for i in I) for k in range(1, T+1))\n",
       "            ) ** 2\n",
       "            for k in range(1, T+1)\n",
       "        )\n",
       "    )\n",
       "\n",
       "model.objective = pyo.Objective(rule=objective_rule, sense=pyo.maximize)\n",
       "\n",
       "# Step 3: Define the constraints\n",
       "def budget_constraint_rule(model, j):\n",
       "    return sum(model.A[i] * model.X[i] for i in I) <= model.B[j] + 1e4 * model.Y[j]\n",
       "\n",
       "model.budget_constraint = pyo.Constraint(J, rule=budget_constraint_rule)\n",
       "\n",
       "model.overbudget_constraint = pyo.Constraint(expr=sum(model.P[j] * model.Y[j] for j in J) <= model.p_max)\n",
       "\n",
       "model.single_investment_constraint = pyo.Constraint(expr=sum(model.X[i] for i in I) <= 10)\n",
       "\n",
       "# Step 4: Solve the model\n",
       "solver = pyo.SolverFactory('glpk')\n",
       "solver.solve(model)\n",
       "\n",
       "# Step 5: Display the results\n",
       "print(\"Objective value:\", pyo.value(model.objective))\n",
       "print(\"X values:\")\n",
       "for i in I:\n",
       "    print(f\"X_{i}: {pyo.value(model.X[i])}\")\n",
       "print(\"Y values:\")\n",
       "for j in J:\n",
       "    print(f\"Y_{j}: {pyo.value(model.Y[j])}\")\n",
       "```\n",
       "\n",
       "This code defines the optimization model using Pyomo and solves it using the GLPK solver. The results will be displayed, including the objective value and the values of the decision variables."
      ],
      "text/plain": [
       "<IPython.core.display.Markdown object>"
      ]
     },
     "execution_count": 28,
     "metadata": {},
     "output_type": "execute_result"
    }
   ],
   "source": [
    "Markdown(response_4_text)"
   ]
  },
  {
   "cell_type": "code",
   "execution_count": 29,
   "id": "a380c180",
   "metadata": {},
   "outputs": [
    {
     "name": "stdout",
     "output_type": "stream",
     "text": [
      "To implement this optimization problem using Pyomo, we will follow the steps below:\n",
      "\n",
      "1. Import the necessary libraries and create a Pyomo model.\n",
      "2. Define the parameters and variables.\n",
      "3. Define the objective function.\n",
      "4. Define the constraints.\n",
      "5. Solve the model and display the results.\n",
      "\n",
      "Here is the Python code using Pyomo:\n",
      "\n",
      "```python\n",
      "import pyomo.environ as pyo\n",
      "import numpy as np\n",
      "\n",
      "# Step 1: Define parameters and variables\n",
      "model = pyo.ConcreteModel()\n",
      "\n",
      "# Set up the index for investment strategies and budget scenarios\n",
      "I = range(1, 11)\n",
      "J = range(1, 5)\n",
      "\n",
      "# Define the given parameters\n",
      "model.r = 2\n",
      "model.p_max = 0.4\n",
      "T = 10  # Sample data: assuming 10 historical returns for each investment strategy\n",
      "\n",
      "# Define the parameter A_i as a dictionary with sample data\n",
      "A = {1: 5000, 2: 10000, 3: 7000, 4: 8000, 5: 6000,\n",
      "     6: 9000, 7: 4000, 8: 11000, 9: 6500, 10: 7500}\n",
      "model.A = pyo.Param(I, initialize=A)\n",
      "\n",
      "# Define the parameter B_j as a dictionary with sample data\n",
      "B = {1: 20000, 2: 25000, 3: 30000, 4: 35000}\n",
      "model.B = pyo.Param(J, initialize=B)\n",
      "\n",
      "# Define the parameter P_j as a dictionary with sample data\n",
      "P = {1: 0.1, 2: 0.2, 3: 0.3, 4: 0.4}\n",
      "model.P = pyo.Param(J, initialize=P)\n",
      "\n",
      "# Define the parameter R_{ik} as a 3D dictionary with sample data\n",
      "R = {i: {k: np.random.normal(1000, 100) for k in range(1, T+1)} for i in I}\n",
      "model.R = pyo.Param(I, range(1, T+1), initialize=R)\n",
      "\n",
      "# Define the decision variable X_i\n",
      "model.X = pyo.Var(I, within=pyo.Binary)\n",
      "\n",
      "# Define the decision variable Y_j\n",
      "model.Y = pyo.Var(J, within=pyo.Binary)\n",
      "\n",
      "# Step 2: Define the objective function\n",
      "def objective_rule(model):\n",
      "    return sum(\n",
      "        (1/T) * sum(model.R[i, k] for k in range(1, T+1)) * model.X[i]\n",
      "        - model.r * (1/T) * sum(\n",
      "            (\n",
      "                sum(model.R[i, k] * model.X[i] for i in I)\n",
      "                - (1/T) * sum(sum(model.R[i, k] * model.X[i] for i in I) for k in range(1, T+1))\n",
      "            ) ** 2\n",
      "            for k in range(1, T+1)\n",
      "        )\n",
      "    )\n",
      "\n",
      "model.objective = pyo.Objective(rule=objective_rule, sense=pyo.maximize)\n",
      "\n",
      "# Step 3: Define the constraints\n",
      "def budget_constraint_rule(model, j):\n",
      "    return sum(model.A[i] * model.X[i] for i in I) <= model.B[j] + 1e4 * model.Y[j]\n",
      "\n",
      "model.budget_constraint = pyo.Constraint(J, rule=budget_constraint_rule)\n",
      "\n",
      "model.overbudget_constraint = pyo.Constraint(expr=sum(model.P[j] * model.Y[j] for j in J) <= model.p_max)\n",
      "\n",
      "model.single_investment_constraint = pyo.Constraint(expr=sum(model.X[i] for i in I) <= 10)\n",
      "\n",
      "# Step 4: Solve the model\n",
      "solver = pyo.SolverFactory('glpk')\n",
      "solver.solve(model)\n",
      "\n",
      "# Step 5: Display the results\n",
      "print(\"Objective value:\", pyo.value(model.objective))\n",
      "print(\"X values:\")\n",
      "for i in I:\n",
      "    print(f\"X_{i}: {pyo.value(model.X[i])}\")\n",
      "print(\"Y values:\")\n",
      "for j in J:\n",
      "    print(f\"Y_{j}: {pyo.value(model.Y[j])}\")\n",
      "```\n",
      "\n",
      "This code defines the optimization model using Pyomo and solves it using the GLPK solver. The results will be displayed, including the objective value and the values of the decision variables.\n"
     ]
    }
   ],
   "source": [
    "print(response_4_text)"
   ]
  },
  {
   "cell_type": "markdown",
   "id": "879cc7ae",
   "metadata": {},
   "source": [
    "### Code Executability"
   ]
  },
  {
   "cell_type": "code",
   "execution_count": 1,
   "id": "f1d9a625",
   "metadata": {},
   "outputs": [
    {
     "name": "stdout",
     "output_type": "stream",
     "text": [
      "ERROR: Rule failed for Param 'R' with index 1: KeyError: \"Index '1' is not\n",
      "    valid for indexed component 'R'\"\n",
      "ERROR: Constructing component 'R' from data=None failed: KeyError: \"Index '1'\n",
      "    is not valid for indexed component 'R'\"\n"
     ]
    },
    {
     "ename": "KeyError",
     "evalue": "\"Index '1' is not valid for indexed component 'R'\"",
     "output_type": "error",
     "traceback": [
      "\u001b[1;31m---------------------------------------------------------------------------\u001b[0m",
      "\u001b[1;31mKeyError\u001b[0m                                  Traceback (most recent call last)",
      "Input \u001b[1;32mIn [1]\u001b[0m, in \u001b[0;36m<cell line: 31>\u001b[1;34m()\u001b[0m\n\u001b[0;32m     29\u001b[0m \u001b[38;5;66;03m# Define the parameter R_{ik} as a 3D dictionary with sample data\u001b[39;00m\n\u001b[0;32m     30\u001b[0m R \u001b[38;5;241m=\u001b[39m {i: {k: np\u001b[38;5;241m.\u001b[39mrandom\u001b[38;5;241m.\u001b[39mnormal(\u001b[38;5;241m1000\u001b[39m, \u001b[38;5;241m100\u001b[39m) \u001b[38;5;28;01mfor\u001b[39;00m k \u001b[38;5;129;01min\u001b[39;00m \u001b[38;5;28mrange\u001b[39m(\u001b[38;5;241m1\u001b[39m, T\u001b[38;5;241m+\u001b[39m\u001b[38;5;241m1\u001b[39m)} \u001b[38;5;28;01mfor\u001b[39;00m i \u001b[38;5;129;01min\u001b[39;00m I}\n\u001b[1;32m---> 31\u001b[0m model\u001b[38;5;241m.\u001b[39mR \u001b[38;5;241m=\u001b[39m pyo\u001b[38;5;241m.\u001b[39mParam(I, \u001b[38;5;28mrange\u001b[39m(\u001b[38;5;241m1\u001b[39m, T\u001b[38;5;241m+\u001b[39m\u001b[38;5;241m1\u001b[39m), initialize\u001b[38;5;241m=\u001b[39mR)\n\u001b[0;32m     33\u001b[0m \u001b[38;5;66;03m# Define the decision variable X_i\u001b[39;00m\n\u001b[0;32m     34\u001b[0m model\u001b[38;5;241m.\u001b[39mX \u001b[38;5;241m=\u001b[39m pyo\u001b[38;5;241m.\u001b[39mVar(I, within\u001b[38;5;241m=\u001b[39mpyo\u001b[38;5;241m.\u001b[39mBinary)\n",
      "File \u001b[1;32m~\\AppData\\Roaming\\Python\\Python310\\site-packages\\pyomo\\core\\base\\block.py:639\u001b[0m, in \u001b[0;36m_BlockData.__setattr__\u001b[1;34m(self, name, val)\u001b[0m\n\u001b[0;32m    634\u001b[0m \u001b[38;5;28;01mif\u001b[39;00m name \u001b[38;5;129;01mnot\u001b[39;00m \u001b[38;5;129;01min\u001b[39;00m \u001b[38;5;28mself\u001b[39m\u001b[38;5;241m.\u001b[39m\u001b[38;5;18m__dict__\u001b[39m:\n\u001b[0;32m    635\u001b[0m     \u001b[38;5;28;01mif\u001b[39;00m \u001b[38;5;28misinstance\u001b[39m(val, Component):\n\u001b[0;32m    636\u001b[0m         \u001b[38;5;66;03m#\u001b[39;00m\n\u001b[0;32m    637\u001b[0m         \u001b[38;5;66;03m# Pyomo components are added with the add_component method.\u001b[39;00m\n\u001b[0;32m    638\u001b[0m         \u001b[38;5;66;03m#\u001b[39;00m\n\u001b[1;32m--> 639\u001b[0m         \u001b[38;5;28;43mself\u001b[39;49m\u001b[38;5;241;43m.\u001b[39;49m\u001b[43madd_component\u001b[49m\u001b[43m(\u001b[49m\u001b[43mname\u001b[49m\u001b[43m,\u001b[49m\u001b[43m \u001b[49m\u001b[43mval\u001b[49m\u001b[43m)\u001b[49m\n\u001b[0;32m    640\u001b[0m     \u001b[38;5;28;01melse\u001b[39;00m:\n\u001b[0;32m    641\u001b[0m         \u001b[38;5;66;03m#\u001b[39;00m\n\u001b[0;32m    642\u001b[0m         \u001b[38;5;66;03m# Other Python objects are added with the standard __setattr__\u001b[39;00m\n\u001b[0;32m    643\u001b[0m         \u001b[38;5;66;03m# method.\u001b[39;00m\n\u001b[0;32m    644\u001b[0m         \u001b[38;5;66;03m#\u001b[39;00m\n\u001b[0;32m    645\u001b[0m         \u001b[38;5;28msuper\u001b[39m(_BlockData, \u001b[38;5;28mself\u001b[39m)\u001b[38;5;241m.\u001b[39m\u001b[38;5;21m__setattr__\u001b[39m(name, val)\n",
      "File \u001b[1;32m~\\AppData\\Roaming\\Python\\Python310\\site-packages\\pyomo\\core\\base\\block.py:1186\u001b[0m, in \u001b[0;36m_BlockData.add_component\u001b[1;34m(self, name, val)\u001b[0m\n\u001b[0;32m   1182\u001b[0m     logger\u001b[38;5;241m.\u001b[39mdebug(\u001b[38;5;124m\"\u001b[39m\u001b[38;5;124mConstructing \u001b[39m\u001b[38;5;132;01m%s\u001b[39;00m\u001b[38;5;124m \u001b[39m\u001b[38;5;124m'\u001b[39m\u001b[38;5;132;01m%s\u001b[39;00m\u001b[38;5;124m'\u001b[39m\u001b[38;5;124m on \u001b[39m\u001b[38;5;132;01m%s\u001b[39;00m\u001b[38;5;124m from data=\u001b[39m\u001b[38;5;132;01m%s\u001b[39;00m\u001b[38;5;124m\"\u001b[39m,\n\u001b[0;32m   1183\u001b[0m                  val\u001b[38;5;241m.\u001b[39m\u001b[38;5;18m__class__\u001b[39m\u001b[38;5;241m.\u001b[39m\u001b[38;5;18m__name__\u001b[39m, name,\n\u001b[0;32m   1184\u001b[0m                  _blockName, \u001b[38;5;28mstr\u001b[39m(data))\n\u001b[0;32m   1185\u001b[0m \u001b[38;5;28;01mtry\u001b[39;00m:\n\u001b[1;32m-> 1186\u001b[0m     \u001b[43mval\u001b[49m\u001b[38;5;241;43m.\u001b[39;49m\u001b[43mconstruct\u001b[49m\u001b[43m(\u001b[49m\u001b[43mdata\u001b[49m\u001b[43m)\u001b[49m\n\u001b[0;32m   1187\u001b[0m \u001b[38;5;28;01mexcept\u001b[39;00m:\n\u001b[0;32m   1188\u001b[0m     err \u001b[38;5;241m=\u001b[39m sys\u001b[38;5;241m.\u001b[39mexc_info()[\u001b[38;5;241m1\u001b[39m]\n",
      "File \u001b[1;32m~\\AppData\\Roaming\\Python\\Python310\\site-packages\\pyomo\\core\\base\\param.py:768\u001b[0m, in \u001b[0;36mParam.construct\u001b[1;34m(self, data)\u001b[0m\n\u001b[0;32m    764\u001b[0m \u001b[38;5;28mself\u001b[39m\u001b[38;5;241m.\u001b[39m_constructed \u001b[38;5;241m=\u001b[39m \u001b[38;5;28;01mNone\u001b[39;00m\n\u001b[0;32m    765\u001b[0m \u001b[38;5;66;03m#\u001b[39;00m\n\u001b[0;32m    766\u001b[0m \u001b[38;5;66;03m# Step #1: initialize data from rule value\u001b[39;00m\n\u001b[0;32m    767\u001b[0m \u001b[38;5;66;03m#\u001b[39;00m\n\u001b[1;32m--> 768\u001b[0m \u001b[38;5;28;43mself\u001b[39;49m\u001b[38;5;241;43m.\u001b[39;49m\u001b[43m_construct_from_rule_using_setitem\u001b[49m\u001b[43m(\u001b[49m\u001b[43m)\u001b[49m\n\u001b[0;32m    769\u001b[0m \u001b[38;5;66;03m#\u001b[39;00m\n\u001b[0;32m    770\u001b[0m \u001b[38;5;66;03m# Step #2: allow any user-specified (external) data to override\u001b[39;00m\n\u001b[0;32m    771\u001b[0m \u001b[38;5;66;03m# the initialization\u001b[39;00m\n\u001b[0;32m    772\u001b[0m \u001b[38;5;66;03m#\u001b[39;00m\n\u001b[0;32m    773\u001b[0m \u001b[38;5;28;01mif\u001b[39;00m data \u001b[38;5;129;01mis\u001b[39;00m \u001b[38;5;129;01mnot\u001b[39;00m \u001b[38;5;28;01mNone\u001b[39;00m:\n",
      "File \u001b[1;32m~\\AppData\\Roaming\\Python\\Python310\\site-packages\\pyomo\\core\\base\\indexed_component.py:716\u001b[0m, in \u001b[0;36mIndexedComponent._construct_from_rule_using_setitem\u001b[1;34m(self)\u001b[0m\n\u001b[0;32m    713\u001b[0m \u001b[38;5;28;01mif\u001b[39;00m rule\u001b[38;5;241m.\u001b[39mcontains_indices():\n\u001b[0;32m    714\u001b[0m     \u001b[38;5;66;03m# The index is coming in externally; we need to validate it\u001b[39;00m\n\u001b[0;32m    715\u001b[0m     \u001b[38;5;28;01mfor\u001b[39;00m index \u001b[38;5;129;01min\u001b[39;00m rule\u001b[38;5;241m.\u001b[39mindices():\n\u001b[1;32m--> 716\u001b[0m         \u001b[38;5;28mself\u001b[39m[index] \u001b[38;5;241m=\u001b[39m rule(block, index)\n\u001b[0;32m    717\u001b[0m \u001b[38;5;28;01melif\u001b[39;00m \u001b[38;5;129;01mnot\u001b[39;00m \u001b[38;5;28mself\u001b[39m\u001b[38;5;241m.\u001b[39mindex_set()\u001b[38;5;241m.\u001b[39misfinite():\n\u001b[0;32m    718\u001b[0m     \u001b[38;5;66;03m# If the index is not finite, then we cannot iterate\u001b[39;00m\n\u001b[0;32m    719\u001b[0m     \u001b[38;5;66;03m# over it.  Since the rule doesn't provide explicit\u001b[39;00m\n\u001b[0;32m    720\u001b[0m     \u001b[38;5;66;03m# indices, then there is nothing we can do (the\u001b[39;00m\n\u001b[0;32m    721\u001b[0m     \u001b[38;5;66;03m# assumption is that the user will trigger specific\u001b[39;00m\n\u001b[0;32m    722\u001b[0m     \u001b[38;5;66;03m# indices to be created at a later time).\u001b[39;00m\n\u001b[0;32m    723\u001b[0m     \u001b[38;5;28;01mpass\u001b[39;00m\n",
      "File \u001b[1;32m~\\AppData\\Roaming\\Python\\Python310\\site-packages\\pyomo\\core\\base\\indexed_component.py:619\u001b[0m, in \u001b[0;36mIndexedComponent.__setitem__\u001b[1;34m(self, index, val)\u001b[0m\n\u001b[0;32m    614\u001b[0m \u001b[38;5;28;01mif\u001b[39;00m obj \u001b[38;5;129;01mis\u001b[39;00m _NotFound:\n\u001b[0;32m    615\u001b[0m     \u001b[38;5;66;03m# If we didn't find the index in the data, then we need to\u001b[39;00m\n\u001b[0;32m    616\u001b[0m     \u001b[38;5;66;03m# validate it against the underlying set (as long as\u001b[39;00m\n\u001b[0;32m    617\u001b[0m     \u001b[38;5;66;03m# _processUnhashableIndex didn't return a slicer)\u001b[39;00m\n\u001b[0;32m    618\u001b[0m     \u001b[38;5;28;01mif\u001b[39;00m index\u001b[38;5;241m.\u001b[39m\u001b[38;5;18m__class__\u001b[39m \u001b[38;5;129;01mis\u001b[39;00m \u001b[38;5;129;01mnot\u001b[39;00m IndexedComponent_slice:\n\u001b[1;32m--> 619\u001b[0m         index \u001b[38;5;241m=\u001b[39m \u001b[38;5;28;43mself\u001b[39;49m\u001b[38;5;241;43m.\u001b[39;49m\u001b[43m_validate_index\u001b[49m\u001b[43m(\u001b[49m\u001b[43mindex\u001b[49m\u001b[43m)\u001b[49m\n\u001b[0;32m    620\u001b[0m \u001b[38;5;28;01melse\u001b[39;00m:\n\u001b[0;32m    621\u001b[0m     \u001b[38;5;28;01mreturn\u001b[39;00m \u001b[38;5;28mself\u001b[39m\u001b[38;5;241m.\u001b[39m_setitem_impl(index, obj, val)\n",
      "File \u001b[1;32m~\\AppData\\Roaming\\Python\\Python310\\site-packages\\pyomo\\core\\base\\indexed_component.py:800\u001b[0m, in \u001b[0;36mIndexedComponent._validate_index\u001b[1;34m(self, idx)\u001b[0m\n\u001b[0;32m    794\u001b[0m     \u001b[38;5;28;01mraise\u001b[39;00m \u001b[38;5;167;01mKeyError\u001b[39;00m(\n\u001b[0;32m    795\u001b[0m         \u001b[38;5;124m\"\u001b[39m\u001b[38;5;124mCannot treat the scalar component \u001b[39m\u001b[38;5;124m'\u001b[39m\u001b[38;5;132;01m%s\u001b[39;00m\u001b[38;5;124m'\u001b[39m\u001b[38;5;124m \u001b[39m\u001b[38;5;124m\"\u001b[39m\n\u001b[0;32m    796\u001b[0m         \u001b[38;5;124m\"\u001b[39m\u001b[38;5;124mas an indexed component\u001b[39m\u001b[38;5;124m\"\u001b[39m \u001b[38;5;241m%\u001b[39m ( \u001b[38;5;28mself\u001b[39m\u001b[38;5;241m.\u001b[39mname, ))\n\u001b[0;32m    797\u001b[0m \u001b[38;5;66;03m#\u001b[39;00m\n\u001b[0;32m    798\u001b[0m \u001b[38;5;66;03m# Raise an exception\u001b[39;00m\n\u001b[0;32m    799\u001b[0m \u001b[38;5;66;03m#\u001b[39;00m\n\u001b[1;32m--> 800\u001b[0m \u001b[38;5;28;01mraise\u001b[39;00m \u001b[38;5;167;01mKeyError\u001b[39;00m(\n\u001b[0;32m    801\u001b[0m     \u001b[38;5;124m\"\u001b[39m\u001b[38;5;124mIndex \u001b[39m\u001b[38;5;124m'\u001b[39m\u001b[38;5;132;01m%s\u001b[39;00m\u001b[38;5;124m'\u001b[39m\u001b[38;5;124m is not valid for indexed component \u001b[39m\u001b[38;5;124m'\u001b[39m\u001b[38;5;132;01m%s\u001b[39;00m\u001b[38;5;124m'\u001b[39m\u001b[38;5;124m\"\u001b[39m\n\u001b[0;32m    802\u001b[0m     \u001b[38;5;241m%\u001b[39m ( idx, \u001b[38;5;28mself\u001b[39m\u001b[38;5;241m.\u001b[39mname, ))\n",
      "\u001b[1;31mKeyError\u001b[0m: \"Index '1' is not valid for indexed component 'R'\""
     ]
    }
   ],
   "source": [
    "import pyomo.environ as pyo\n",
    "import numpy as np\n",
    "\n",
    "# Step 1: Define parameters and variables\n",
    "model = pyo.ConcreteModel()\n",
    "\n",
    "# Set up the index for investment strategies and budget scenarios\n",
    "I = range(1, 11)\n",
    "J = range(1, 5)\n",
    "\n",
    "# Define the given parameters\n",
    "model.r = 2\n",
    "model.p_max = 0.4\n",
    "T = 10  # Sample data: assuming 10 historical returns for each investment strategy\n",
    "\n",
    "# Define the parameter A_i as a dictionary with sample data\n",
    "A = {1: 5000, 2: 10000, 3: 7000, 4: 8000, 5: 6000,\n",
    "     6: 9000, 7: 4000, 8: 11000, 9: 6500, 10: 7500}\n",
    "model.A = pyo.Param(I, initialize=A)\n",
    "\n",
    "# Define the parameter B_j as a dictionary with sample data\n",
    "B = {1: 20000, 2: 25000, 3: 30000, 4: 35000}\n",
    "model.B = pyo.Param(J, initialize=B)\n",
    "\n",
    "# Define the parameter P_j as a dictionary with sample data\n",
    "P = {1: 0.1, 2: 0.2, 3: 0.3, 4: 0.4}\n",
    "model.P = pyo.Param(J, initialize=P)\n",
    "\n",
    "# Define the parameter R_{ik} as a 3D dictionary with sample data\n",
    "R = {i: {k: np.random.normal(1000, 100) for k in range(1, T+1)} for i in I}\n",
    "model.R = pyo.Param(I, range(1, T+1), initialize=R)\n",
    "\n",
    "# Define the decision variable X_i\n",
    "model.X = pyo.Var(I, within=pyo.Binary)\n",
    "\n",
    "# Define the decision variable Y_j\n",
    "model.Y = pyo.Var(J, within=pyo.Binary)\n",
    "\n",
    "# Step 2: Define the objective function\n",
    "def objective_rule(model):\n",
    "    return sum(\n",
    "        (1/T) * sum(model.R[i, k] for k in range(1, T+1)) * model.X[i]\n",
    "        - model.r * (1/T) * sum(\n",
    "            (\n",
    "                sum(model.R[i, k] * model.X[i] for i in I)\n",
    "                - (1/T) * sum(sum(model.R[i, k] * model.X[i] for i in I) for k in range(1, T+1))\n",
    "            ) ** 2\n",
    "            for k in range(1, T+1)\n",
    "        )\n",
    "    )\n",
    "\n",
    "model.objective = pyo.Objective(rule=objective_rule, sense=pyo.maximize)\n",
    "\n",
    "# Step 3: Define the constraints\n",
    "def budget_constraint_rule(model, j):\n",
    "    return sum(model.A[i] * model.X[i] for i in I) <= model.B[j] + 1e4 * model.Y[j]\n",
    "\n",
    "model.budget_constraint = pyo.Constraint(J, rule=budget_constraint_rule)\n",
    "\n",
    "model.overbudget_constraint = pyo.Constraint(expr=sum(model.P[j] * model.Y[j] for j in J) <= model.p_max)\n",
    "\n",
    "model.single_investment_constraint = pyo.Constraint(expr=sum(model.X[i] for i in I) <= 10)\n",
    "\n",
    "# Step 4: Solve the model\n",
    "solver = pyo.SolverFactory('glpk')\n",
    "solver.solve(model)\n",
    "\n",
    "# Step 5: Display the results\n",
    "print(\"Objective value:\", pyo.value(model.objective))\n",
    "print(\"X values:\")\n",
    "for i in I:\n",
    "    print(f\"X_{i}: {pyo.value(model.X[i])}\")\n",
    "print(\"Y values:\")\n",
    "for j in J:\n",
    "    print(f\"Y_{j}: {pyo.value(model.Y[j])}\")"
   ]
  },
  {
   "cell_type": "markdown",
   "id": "95f5c3a8",
   "metadata": {},
   "source": [
    "### Solution Correctness"
   ]
  },
  {
   "cell_type": "code",
   "execution_count": null,
   "id": "01245691",
   "metadata": {},
   "outputs": [],
   "source": []
  }
 ],
 "metadata": {
  "kernelspec": {
   "display_name": "Python 3 (ipykernel)",
   "language": "python",
   "name": "python3"
  },
  "language_info": {
   "codemirror_mode": {
    "name": "ipython",
    "version": 3
   },
   "file_extension": ".py",
   "mimetype": "text/x-python",
   "name": "python",
   "nbconvert_exporter": "python",
   "pygments_lexer": "ipython3",
   "version": "3.10.4"
  }
 },
 "nbformat": 4,
 "nbformat_minor": 5
}
