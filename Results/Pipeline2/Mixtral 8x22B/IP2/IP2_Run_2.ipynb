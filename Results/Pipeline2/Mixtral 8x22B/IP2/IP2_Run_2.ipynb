{
 "cells": [
  {
   "cell_type": "code",
   "execution_count": 3,
   "id": "e5c2c174",
   "metadata": {},
   "outputs": [],
   "source": [
    "import os\n",
    "from mistralai.client import MistralClient\n",
    "from mistralai.models.chat_completion import ChatMessage\n",
    "from IPython.display import display, Markdown, Latex\n",
    "from datetime import datetime"
   ]
  },
  {
   "cell_type": "code",
   "execution_count": 4,
   "id": "b0c91a62",
   "metadata": {},
   "outputs": [
    {
     "name": "stdout",
     "output_type": "stream",
     "text": [
      "Time of execution: 2024-06-08 15:01:37.345067\n"
     ]
    }
   ],
   "source": [
    "API_KEY = os.environ['MISTRAL_API_KEY']\n",
    "\n",
    "MODEL_ID = 'open-mixtral-8x22b'\n",
    "MODEL_SEED = 2\n",
    "MODEL_TEMPERATURE = 0.7\n",
    "\n",
    "file_system_prompt_1 = open(\"../system_prompt_1.txt\", \"r\")\n",
    "file_system_prompt_2 = open(\"../system_prompt_2.txt\", \"r\")\n",
    "user_prompt_1 = open(\"../user_prompt_1.txt\", \"r\")\n",
    "user_prompt_2 = open(\"../user_prompt_2.txt\", \"r\")\n",
    "user_prompt_3 = open(\"../user_prompt_3.txt\", \"r\")\n",
    "SYSTEM_PROMPT_1 = file_system_prompt_1.read()\n",
    "SYSTEM_PROMPT_2 = file_system_prompt_2.read()\n",
    "USER_PROMPT_1 = user_prompt_1.read()\n",
    "USER_PROMPT_2 = user_prompt_2.read()\n",
    "USER_PROMPT_3 = user_prompt_3.read()\n",
    "file_system_prompt_1.close()\n",
    "file_system_prompt_2.close()\n",
    "user_prompt_1.close()\n",
    "user_prompt_2.close()\n",
    "user_prompt_3.close()\n",
    "\n",
    "FILE_PATH_PROBLEM = '../../../../Datasets/IP_2_Choosing_Investment_Strategies/'\n",
    "assert(FILE_PATH_PROBLEM != '../../../../Datasets/')\n",
    "file_problem_description = open(FILE_PATH_PROBLEM + 'ProblemDescription.txt', 'r')\n",
    "PROBLEM_DESCRIPTION = file_problem_description.read()\n",
    "file_problem_description.close()\n",
    "\n",
    "\n",
    "\n",
    "client = MistralClient(api_key=API_KEY)\n",
    "\n",
    "print(f'Time of execution: {datetime.now()}')"
   ]
  },
  {
   "cell_type": "markdown",
   "id": "3e540824",
   "metadata": {},
   "source": [
    "## Step 1 - Generate Mathematical Formulation "
   ]
  },
  {
   "cell_type": "code",
   "execution_count": 5,
   "id": "174c127b",
   "metadata": {},
   "outputs": [],
   "source": [
    "messages_1 = [\n",
    "    ChatMessage(role=\"system\", content=SYSTEM_PROMPT_1),\n",
    "    ChatMessage(role=\"user\", content=PROBLEM_DESCRIPTION),\n",
    "    ChatMessage(role=\"user\", content=USER_PROMPT_1)\n",
    "]\n",
    "\n",
    "response_1 = client.chat(\n",
    "    model=MODEL_ID,\n",
    "    messages=messages_1,\n",
    "    random_seed=MODEL_SEED,\n",
    "    temperature=MODEL_TEMPERATURE \n",
    ")\n",
    "\n",
    "response_1_text = response_1.choices[0].message.content"
   ]
  },
  {
   "cell_type": "code",
   "execution_count": 6,
   "id": "03616e62",
   "metadata": {},
   "outputs": [
    {
     "data": {
      "text/markdown": [
       "Step 1: Define parameters and variables\n",
       "\n",
       "Let's denote the following parameters and variables:\n",
       "\n",
       "Parameters:\n",
       "- \\(n\\): number of investment strategies, \\(n = 10\\)\n",
       "- \\(A_i\\): cost for investing in investment strategy \\(i\\), where \\(i \\in \\{1, 2, \\ldots, n\\}\\)\n",
       "- \\(R_{it}\\): historic return of investment strategy \\(i\\) at time \\(t\\), where \\(t \\in \\{1, 2, \\ldots, T\\}\\) and \\(T\\) is the total number of time periods in the dataset\n",
       "- \\(B_j\\): budget for scenario \\(j\\), where \\(j \\in \\{1, 2, 3, 4\\}\\)\n",
       "- \\(p_j\\): probability of budget scenario \\(j\\) occurring\n",
       "- \\(r\\): risk parameter, \\(r = 2\\)\n",
       "- \\(\\alpha\\): tolerable probability of exceeding the budget, \\(\\alpha = 0.4\\)\n",
       "\n",
       "Variables:\n",
       "- \\(x_i\\): binary variable indicating whether investment strategy \\(i\\) is chosen (\\(x_i = 1\\)) or not (\\(x_i = 0\\))\n",
       "- \\(P\\): probability of exceeding the budget\n",
       "\n",
       "Now that we have defined the parameters and variables, we can proceed to the next step."
      ],
      "text/plain": [
       "<IPython.core.display.Markdown object>"
      ]
     },
     "execution_count": 6,
     "metadata": {},
     "output_type": "execute_result"
    }
   ],
   "source": [
    "Markdown(response_1_text)"
   ]
  },
  {
   "cell_type": "code",
   "execution_count": 7,
   "id": "b6a33171",
   "metadata": {},
   "outputs": [
    {
     "name": "stdout",
     "output_type": "stream",
     "text": [
      "Step 1: Define parameters and variables\n",
      "\n",
      "Let's denote the following parameters and variables:\n",
      "\n",
      "Parameters:\n",
      "- \\(n\\): number of investment strategies, \\(n = 10\\)\n",
      "- \\(A_i\\): cost for investing in investment strategy \\(i\\), where \\(i \\in \\{1, 2, \\ldots, n\\}\\)\n",
      "- \\(R_{it}\\): historic return of investment strategy \\(i\\) at time \\(t\\), where \\(t \\in \\{1, 2, \\ldots, T\\}\\) and \\(T\\) is the total number of time periods in the dataset\n",
      "- \\(B_j\\): budget for scenario \\(j\\), where \\(j \\in \\{1, 2, 3, 4\\}\\)\n",
      "- \\(p_j\\): probability of budget scenario \\(j\\) occurring\n",
      "- \\(r\\): risk parameter, \\(r = 2\\)\n",
      "- \\(\\alpha\\): tolerable probability of exceeding the budget, \\(\\alpha = 0.4\\)\n",
      "\n",
      "Variables:\n",
      "- \\(x_i\\): binary variable indicating whether investment strategy \\(i\\) is chosen (\\(x_i = 1\\)) or not (\\(x_i = 0\\))\n",
      "- \\(P\\): probability of exceeding the budget\n",
      "\n",
      "Now that we have defined the parameters and variables, we can proceed to the next step.\n"
     ]
    }
   ],
   "source": [
    "print(response_1_text)"
   ]
  },
  {
   "cell_type": "code",
   "execution_count": 8,
   "id": "9af61485",
   "metadata": {},
   "outputs": [],
   "source": [
    "messages_2 = [\n",
    "    ChatMessage(role=\"system\", content=SYSTEM_PROMPT_1),\n",
    "    ChatMessage(role=\"user\", content=PROBLEM_DESCRIPTION),\n",
    "    ChatMessage(role=\"user\", content=USER_PROMPT_1),\n",
    "    ChatMessage(role=\"assistant\", content=response_1_text),\n",
    "    ChatMessage(role=\"user\", content=USER_PROMPT_2),\n",
    "]\n",
    "\n",
    "response_2 = client.chat(\n",
    "    model=MODEL_ID,\n",
    "    messages=messages_2,\n",
    "    random_seed=MODEL_SEED,\n",
    "    temperature=MODEL_TEMPERATURE \n",
    ")\n",
    "\n",
    "response_2_text = response_2.choices[0].message.content"
   ]
  },
  {
   "cell_type": "code",
   "execution_count": 9,
   "id": "ac0f2659",
   "metadata": {},
   "outputs": [
    {
     "data": {
      "text/markdown": [
       "Step 2: Define the objective function\n",
       "\n",
       "The objective function of the mean-variance optimization problem is to maximize the expected return while minimizing the portfolio variance. The expected return \\(E(R_p)\\) and the portfolio variance \\(Var(R_p)\\) can be expressed as:\n",
       "\n",
       "\\[E(R_p) = \\sum_{i=1}^{n} x_i \\cdot \\frac{1}{T} \\sum_{t=1}^{T} R_{it}\\]\n",
       "\n",
       "\\[Var(R_p) = \\sum_{i=1}^{n} \\sum_{j=1}^{n} x_i \\cdot x_j \\cdot \\frac{1}{T} \\sum_{t=1}^{T} (R_{it} - E(R_p))(R_{jt} - E(R_p))\\]\n",
       "\n",
       "Given the risk parameter \\(r\\), the objective function can be written as:\n",
       "\n",
       "\\[Z = E(R_p) - \\frac{1}{r} \\cdot Var(R_p)\\]\n",
       "\n",
       "Now that we have defined the objective function, we can proceed to the next step."
      ],
      "text/plain": [
       "<IPython.core.display.Markdown object>"
      ]
     },
     "execution_count": 9,
     "metadata": {},
     "output_type": "execute_result"
    }
   ],
   "source": [
    "Markdown(response_2_text)"
   ]
  },
  {
   "cell_type": "code",
   "execution_count": 10,
   "id": "d7d2d8bc",
   "metadata": {},
   "outputs": [],
   "source": [
    "messages_3 = [\n",
    "    ChatMessage(role=\"system\", content=SYSTEM_PROMPT_1),\n",
    "    ChatMessage(role=\"user\", content=PROBLEM_DESCRIPTION),\n",
    "    ChatMessage(role=\"user\", content=USER_PROMPT_1),\n",
    "    ChatMessage(role=\"assistant\", content=response_1_text),\n",
    "    ChatMessage(role=\"user\", content=USER_PROMPT_2),\n",
    "    ChatMessage(role=\"assistant\", content=response_2_text),\n",
    "    ChatMessage(role=\"user\", content=USER_PROMPT_3),\n",
    "]\n",
    "\n",
    "response_3 = client.chat(\n",
    "    model=MODEL_ID,\n",
    "    messages=messages_3,\n",
    "    random_seed=MODEL_SEED,\n",
    "    temperature=MODEL_TEMPERATURE \n",
    ")\n",
    "\n",
    "response_3_text = response_3.choices[0].message.content"
   ]
  },
  {
   "cell_type": "code",
   "execution_count": 11,
   "id": "c4588e6c",
   "metadata": {},
   "outputs": [
    {
     "data": {
      "text/markdown": [
       "Step 3: Define the constraints\n",
       "\n",
       "We have three types of constraints for this problem:\n",
       "\n",
       "1. Budget constraints: The total cost of investments in each budget scenario should not exceed the available budget. The probability of exceeding the budget should not exceed the tolerable probability \\(\\alpha\\). This can be expressed as:\n",
       "\n",
       "\\[\\sum_{i=1}^{n} A_i \\cdot x_i \\leq B_j \\quad \\forall j \\in \\{1, 2, 3, 4\\}\\]\n",
       "\n",
       "\\[P \\geq \\sum_{j=1}^{4} p_j \\cdot I\\left(\\sum_{i=1}^{n} A_i \\cdot x_i > B_j\\right)\\]\n",
       "\n",
       "\\[P \\leq \\alpha\\]\n",
       "\n",
       "The indicator function \\(I(\\cdot)\\) is defined as follows:\n",
       "\\[I\\left(\\sum_{i=1}^{n} A_i \\cdot x_i > B_j\\right) = \\begin{cases}\n",
       "1 & \\text{if } \\sum_{i=1}^{n} A_i \\cdot x_i > B_j \\\\\n",
       "0 & \\text{otherwise}\n",
       "\\end{cases}\\]\n",
       "\n",
       "2. Cardinality constraint: Since you can only invest once into an investment, the sum of investments should not exceed 1.\n",
       "\n",
       "\\[\\sum_{i=1}^{n} x_i \\leq 1\\]\n",
       "\n",
       "3. Binary constraints: Since \\(x_i\\) represents a binary variable, it can only take values of 0 or 1.\n",
       "\n",
       "\\[x_i \\in \\{0, 1\\} \\quad \\forall i \\in \\{1, 2, \\ldots, n\\}\\]\n",
       "\n",
       "Now that we have defined the constraints, we can formulate the complete mean-variance optimization problem.\n",
       "\n",
       "Mean-variance optimization problem:\n",
       "\n",
       "\\[\\max Z = E(R_p) - \\frac{1}{r} \\cdot Var(R_p)\\]\n",
       "\n",
       "Subject to:\n",
       "\n",
       "\\[\\sum_{i=1}^{n} A_i \\cdot x_i \\leq B_j \\quad \\forall j \\in \\{1, 2, 3, 4\\}\\]\n",
       "\n",
       "\\[P \\geq \\sum_{j=1}^{4} p_j \\cdot I\\left(\\sum_{i=1}^{n} A_i \\cdot x_i > B_j\\right)\\]\n",
       "\n",
       "\\[P \\leq \\alpha\\]\n",
       "\n",
       "\\[\\sum_{i=1}^{n} x_i \\leq 1\\]\n",
       "\n",
       "\\[x_i \\in \\{0, 1\\} \\quad \\forall i \\in \\{1, 2, \\ldots, n\\}\\]\n",
       "\n",
       "This completes the formulation of the mean-variance optimization problem with uncertain budget scenarios."
      ],
      "text/plain": [
       "<IPython.core.display.Markdown object>"
      ]
     },
     "execution_count": 11,
     "metadata": {},
     "output_type": "execute_result"
    }
   ],
   "source": [
    "Markdown(response_3_text)"
   ]
  },
  {
   "cell_type": "code",
   "execution_count": 12,
   "id": "e73cd25c",
   "metadata": {},
   "outputs": [
    {
     "data": {
      "text/markdown": [
       "Step 1: Define parameters and variables\n",
       "\n",
       "Let's denote the following parameters and variables:\n",
       "\n",
       "Parameters:\n",
       "- \\(n\\): number of investment strategies, \\(n = 10\\)\n",
       "- \\(A_i\\): cost for investing in investment strategy \\(i\\), where \\(i \\in \\{1, 2, \\ldots, n\\}\\)\n",
       "- \\(R_{it}\\): historic return of investment strategy \\(i\\) at time \\(t\\), where \\(t \\in \\{1, 2, \\ldots, T\\}\\) and \\(T\\) is the total number of time periods in the dataset\n",
       "- \\(B_j\\): budget for scenario \\(j\\), where \\(j \\in \\{1, 2, 3, 4\\}\\)\n",
       "- \\(p_j\\): probability of budget scenario \\(j\\) occurring\n",
       "- \\(r\\): risk parameter, \\(r = 2\\)\n",
       "- \\(\\alpha\\): tolerable probability of exceeding the budget, \\(\\alpha = 0.4\\)\n",
       "\n",
       "Variables:\n",
       "- \\(x_i\\): binary variable indicating whether investment strategy \\(i\\) is chosen (\\(x_i = 1\\)) or not (\\(x_i = 0\\))\n",
       "- \\(P\\): probability of exceeding the budget\n",
       "\n",
       "Now that we have defined the parameters and variables, we can proceed to the next step.\n",
       "Step 2: Define the objective function\n",
       "\n",
       "The objective function of the mean-variance optimization problem is to maximize the expected return while minimizing the portfolio variance. The expected return \\(E(R_p)\\) and the portfolio variance \\(Var(R_p)\\) can be expressed as:\n",
       "\n",
       "\\[E(R_p) = \\sum_{i=1}^{n} x_i \\cdot \\frac{1}{T} \\sum_{t=1}^{T} R_{it}\\]\n",
       "\n",
       "\\[Var(R_p) = \\sum_{i=1}^{n} \\sum_{j=1}^{n} x_i \\cdot x_j \\cdot \\frac{1}{T} \\sum_{t=1}^{T} (R_{it} - E(R_p))(R_{jt} - E(R_p))\\]\n",
       "\n",
       "Given the risk parameter \\(r\\), the objective function can be written as:\n",
       "\n",
       "\\[Z = E(R_p) - \\frac{1}{r} \\cdot Var(R_p)\\]\n",
       "\n",
       "Now that we have defined the objective function, we can proceed to the next step.\n",
       "Step 3: Define the constraints\n",
       "\n",
       "We have three types of constraints for this problem:\n",
       "\n",
       "1. Budget constraints: The total cost of investments in each budget scenario should not exceed the available budget. The probability of exceeding the budget should not exceed the tolerable probability \\(\\alpha\\). This can be expressed as:\n",
       "\n",
       "\\[\\sum_{i=1}^{n} A_i \\cdot x_i \\leq B_j \\quad \\forall j \\in \\{1, 2, 3, 4\\}\\]\n",
       "\n",
       "\\[P \\geq \\sum_{j=1}^{4} p_j \\cdot I\\left(\\sum_{i=1}^{n} A_i \\cdot x_i > B_j\\right)\\]\n",
       "\n",
       "\\[P \\leq \\alpha\\]\n",
       "\n",
       "The indicator function \\(I(\\cdot)\\) is defined as follows:\n",
       "\\[I\\left(\\sum_{i=1}^{n} A_i \\cdot x_i > B_j\\right) = \\begin{cases}\n",
       "1 & \\text{if } \\sum_{i=1}^{n} A_i \\cdot x_i > B_j \\\\\n",
       "0 & \\text{otherwise}\n",
       "\\end{cases}\\]\n",
       "\n",
       "2. Cardinality constraint: Since you can only invest once into an investment, the sum of investments should not exceed 1.\n",
       "\n",
       "\\[\\sum_{i=1}^{n} x_i \\leq 1\\]\n",
       "\n",
       "3. Binary constraints: Since \\(x_i\\) represents a binary variable, it can only take values of 0 or 1.\n",
       "\n",
       "\\[x_i \\in \\{0, 1\\} \\quad \\forall i \\in \\{1, 2, \\ldots, n\\}\\]\n",
       "\n",
       "Now that we have defined the constraints, we can formulate the complete mean-variance optimization problem.\n",
       "\n",
       "Mean-variance optimization problem:\n",
       "\n",
       "\\[\\max Z = E(R_p) - \\frac{1}{r} \\cdot Var(R_p)\\]\n",
       "\n",
       "Subject to:\n",
       "\n",
       "\\[\\sum_{i=1}^{n} A_i \\cdot x_i \\leq B_j \\quad \\forall j \\in \\{1, 2, 3, 4\\}\\]\n",
       "\n",
       "\\[P \\geq \\sum_{j=1}^{4} p_j \\cdot I\\left(\\sum_{i=1}^{n} A_i \\cdot x_i > B_j\\right)\\]\n",
       "\n",
       "\\[P \\leq \\alpha\\]\n",
       "\n",
       "\\[\\sum_{i=1}^{n} x_i \\leq 1\\]\n",
       "\n",
       "\\[x_i \\in \\{0, 1\\} \\quad \\forall i \\in \\{1, 2, \\ldots, n\\}\\]\n",
       "\n",
       "This completes the formulation of the mean-variance optimization problem with uncertain budget scenarios."
      ],
      "text/plain": [
       "<IPython.core.display.Markdown object>"
      ]
     },
     "execution_count": 12,
     "metadata": {},
     "output_type": "execute_result"
    }
   ],
   "source": [
    "response_text = '\\n'.join([response_1_text, response_2_text, response_3_text])\n",
    "\n",
    "Markdown(response_text)"
   ]
  },
  {
   "cell_type": "markdown",
   "id": "27b5f89a",
   "metadata": {},
   "source": [
    "## Step 2 - Generate the Pyomo Code"
   ]
  },
  {
   "cell_type": "code",
   "execution_count": 13,
   "id": "a4c3312f",
   "metadata": {},
   "outputs": [],
   "source": [
    "messages_4 = [\n",
    "    ChatMessage(role=\"system\", content=SYSTEM_PROMPT_2),\n",
    "    ChatMessage(role=\"user\", content=response_text)\n",
    "]"
   ]
  },
  {
   "cell_type": "code",
   "execution_count": 14,
   "id": "4212d99d",
   "metadata": {},
   "outputs": [],
   "source": [
    "response_4 = client.chat(\n",
    "    model=MODEL_ID,\n",
    "    messages=messages_4,\n",
    "    random_seed=MODEL_SEED,\n",
    "    temperature=MODEL_TEMPERATURE\n",
    ")\n",
    "\n",
    "response_4_text = response_4.choices[0].message.content"
   ]
  },
  {
   "cell_type": "code",
   "execution_count": 15,
   "id": "c168a60b",
   "metadata": {},
   "outputs": [
    {
     "data": {
      "text/markdown": [
       "To solve this problem using Pyomo, we need to translate the mathematical formulation into a Python program. Here's the code:\n",
       "\n",
       "```python\n",
       "import pyomo.environ as pyo\n",
       "from pyomo.opt import SolverFactory\n",
       "\n",
       "# Step 1: Define parameters and variables\n",
       "n = 10  # number of investment strategies\n",
       "T = 100  # total number of time periods in the dataset\n",
       "\n",
       "# Sample data\n",
       "A = [100, 150, 200, 250, 300, 350, 400, 450, 500, 550]  # cost for investing in investment strategy i\n",
       "R = [[1.01, 1.02, ...] for _ in range(n)]  # historic return of investment strategy i at time t\n",
       "B = [1000, 1500, 2000, 2500]  # budget for scenario j\n",
       "p = [0.2, 0.3, 0.3, 0.2]  # probability of budget scenario j occuring\n",
       "r = 2  # risk parameter\n",
       "alpha = 0.4  # tolerable probability of exceeding the budget\n",
       "\n",
       "model = pyo.ConcreteModel()\n",
       "\n",
       "# Variables\n",
       "model.x = pyo.Var(range(n), domain=pyo.Binary)\n",
       "model.P = pyo.Var(domain=pyo.NonNegativeReals)\n",
       "\n",
       "# Step 2: Define the objective function\n",
       "def obj_rule(model):\n",
       "    E_Rp = sum(model.x[i] * sum(R[i][t] for t in range(T)) / T for i in range(n))\n",
       "    Var_Rp = sum(model.x[i] * model.x[j] * sum((R[i][t] - E_Rp) * (R[j][t] - E_Rp) for t in range(T)) / T for i in range(n) for j in range(n))\n",
       "    return E_Rp - (1 / r) * Var_Rp\n",
       "\n",
       "model.objective = pyo.Objective(rule=obj_rule, sense=pyo.maximize)\n",
       "\n",
       "# Step 3: Define the constraints\n",
       "def budget_constraint(model, j):\n",
       "    return sum(A[i] * model.x[i] for i in range(n)) <= B[j]\n",
       "\n",
       "model.budget_constraints = pyo.Constraint(range(4), rule=budget_constraint)\n",
       "\n",
       "def exceeding_probability(model):\n",
       "    return model.P >= sum(p[j] * (sum(A[i] * model.x[i] for i in range(n)) > B[j]) for j in range(4))\n",
       "\n",
       "model.exceeding_probability_constraint = pyo.Constraint(rule=exceeding_probability)\n",
       "\n",
       "model.tolerable_probability_constraint = pyo.Constraint(expr=model.P <= alpha)\n",
       "\n",
       "model.cardinality_constraint = pyo.Constraint(expr=sum(model.x[i] for i in range(n)) <= 1)\n",
       "\n",
       "# Step 4: Solve the problem\n",
       "solver = SolverFactory('glpk')\n",
       "results = solver.solve(model)\n",
       "\n",
       "print(results)\n",
       "```\n",
       "\n",
       "Please note that the sample data provided is just an example, and you need to replace it with actual data. Also, you need to install the `glpk` solver or use another supported solver to solve the problem. You can install `glpk` using the following command:\n",
       "\n",
       "```\n",
       "conda install -c conda-forge glpk\n",
       "```"
      ],
      "text/plain": [
       "<IPython.core.display.Markdown object>"
      ]
     },
     "execution_count": 15,
     "metadata": {},
     "output_type": "execute_result"
    }
   ],
   "source": [
    "Markdown(response_4_text)"
   ]
  },
  {
   "cell_type": "code",
   "execution_count": 16,
   "id": "a380c180",
   "metadata": {},
   "outputs": [
    {
     "name": "stdout",
     "output_type": "stream",
     "text": [
      "To solve this problem using Pyomo, we need to translate the mathematical formulation into a Python program. Here's the code:\n",
      "\n",
      "```python\n",
      "import pyomo.environ as pyo\n",
      "from pyomo.opt import SolverFactory\n",
      "\n",
      "# Step 1: Define parameters and variables\n",
      "n = 10  # number of investment strategies\n",
      "T = 100  # total number of time periods in the dataset\n",
      "\n",
      "# Sample data\n",
      "A = [100, 150, 200, 250, 300, 350, 400, 450, 500, 550]  # cost for investing in investment strategy i\n",
      "R = [[1.01, 1.02, ...] for _ in range(n)]  # historic return of investment strategy i at time t\n",
      "B = [1000, 1500, 2000, 2500]  # budget for scenario j\n",
      "p = [0.2, 0.3, 0.3, 0.2]  # probability of budget scenario j occuring\n",
      "r = 2  # risk parameter\n",
      "alpha = 0.4  # tolerable probability of exceeding the budget\n",
      "\n",
      "model = pyo.ConcreteModel()\n",
      "\n",
      "# Variables\n",
      "model.x = pyo.Var(range(n), domain=pyo.Binary)\n",
      "model.P = pyo.Var(domain=pyo.NonNegativeReals)\n",
      "\n",
      "# Step 2: Define the objective function\n",
      "def obj_rule(model):\n",
      "    E_Rp = sum(model.x[i] * sum(R[i][t] for t in range(T)) / T for i in range(n))\n",
      "    Var_Rp = sum(model.x[i] * model.x[j] * sum((R[i][t] - E_Rp) * (R[j][t] - E_Rp) for t in range(T)) / T for i in range(n) for j in range(n))\n",
      "    return E_Rp - (1 / r) * Var_Rp\n",
      "\n",
      "model.objective = pyo.Objective(rule=obj_rule, sense=pyo.maximize)\n",
      "\n",
      "# Step 3: Define the constraints\n",
      "def budget_constraint(model, j):\n",
      "    return sum(A[i] * model.x[i] for i in range(n)) <= B[j]\n",
      "\n",
      "model.budget_constraints = pyo.Constraint(range(4), rule=budget_constraint)\n",
      "\n",
      "def exceeding_probability(model):\n",
      "    return model.P >= sum(p[j] * (sum(A[i] * model.x[i] for i in range(n)) > B[j]) for j in range(4))\n",
      "\n",
      "model.exceeding_probability_constraint = pyo.Constraint(rule=exceeding_probability)\n",
      "\n",
      "model.tolerable_probability_constraint = pyo.Constraint(expr=model.P <= alpha)\n",
      "\n",
      "model.cardinality_constraint = pyo.Constraint(expr=sum(model.x[i] for i in range(n)) <= 1)\n",
      "\n",
      "# Step 4: Solve the problem\n",
      "solver = SolverFactory('glpk')\n",
      "results = solver.solve(model)\n",
      "\n",
      "print(results)\n",
      "```\n",
      "\n",
      "Please note that the sample data provided is just an example, and you need to replace it with actual data. Also, you need to install the `glpk` solver or use another supported solver to solve the problem. You can install `glpk` using the following command:\n",
      "\n",
      "```\n",
      "conda install -c conda-forge glpk\n",
      "```\n"
     ]
    }
   ],
   "source": [
    "print(response_4_text)"
   ]
  },
  {
   "cell_type": "markdown",
   "id": "879cc7ae",
   "metadata": {},
   "source": [
    "### Code Executability"
   ]
  },
  {
   "cell_type": "code",
   "execution_count": 17,
   "id": "f1d9a625",
   "metadata": {},
   "outputs": [
    {
     "name": "stderr",
     "output_type": "stream",
     "text": [
      "2024-06-08 19:59:47,303 ERROR pyomo.core: Rule failed when generating expression for Objective objective with index None:\n",
      "TypeError: unsupported operand type(s) for +: 'float' and 'ellipsis'\n",
      "2024-06-08 19:59:47,304 ERROR pyomo.core: Constructing component 'objective' from data=None failed:\n",
      "TypeError: unsupported operand type(s) for +: 'float' and 'ellipsis'\n"
     ]
    },
    {
     "ename": "TypeError",
     "evalue": "unsupported operand type(s) for +: 'float' and 'ellipsis'",
     "output_type": "error",
     "traceback": [
      "\u001b[1;31m---------------------------------------------------------------------------\u001b[0m",
      "\u001b[1;31mTypeError\u001b[0m                                 Traceback (most recent call last)",
      "Input \u001b[1;32mIn [17]\u001b[0m, in \u001b[0;36m<cell line: 28>\u001b[1;34m()\u001b[0m\n\u001b[0;32m     25\u001b[0m     Var_Rp \u001b[38;5;241m=\u001b[39m \u001b[38;5;28msum\u001b[39m(model\u001b[38;5;241m.\u001b[39mx[i] \u001b[38;5;241m*\u001b[39m model\u001b[38;5;241m.\u001b[39mx[j] \u001b[38;5;241m*\u001b[39m \u001b[38;5;28msum\u001b[39m((R[i][t] \u001b[38;5;241m-\u001b[39m E_Rp) \u001b[38;5;241m*\u001b[39m (R[j][t] \u001b[38;5;241m-\u001b[39m E_Rp) \u001b[38;5;28;01mfor\u001b[39;00m t \u001b[38;5;129;01min\u001b[39;00m \u001b[38;5;28mrange\u001b[39m(T)) \u001b[38;5;241m/\u001b[39m T \u001b[38;5;28;01mfor\u001b[39;00m i \u001b[38;5;129;01min\u001b[39;00m \u001b[38;5;28mrange\u001b[39m(n) \u001b[38;5;28;01mfor\u001b[39;00m j \u001b[38;5;129;01min\u001b[39;00m \u001b[38;5;28mrange\u001b[39m(n))\n\u001b[0;32m     26\u001b[0m     \u001b[38;5;28;01mreturn\u001b[39;00m E_Rp \u001b[38;5;241m-\u001b[39m (\u001b[38;5;241m1\u001b[39m \u001b[38;5;241m/\u001b[39m r) \u001b[38;5;241m*\u001b[39m Var_Rp\n\u001b[1;32m---> 28\u001b[0m model\u001b[38;5;241m.\u001b[39mobjective \u001b[38;5;241m=\u001b[39m pyo\u001b[38;5;241m.\u001b[39mObjective(rule\u001b[38;5;241m=\u001b[39mobj_rule, sense\u001b[38;5;241m=\u001b[39mpyo\u001b[38;5;241m.\u001b[39mmaximize)\n\u001b[0;32m     30\u001b[0m \u001b[38;5;66;03m# Step 3: Define the constraints\u001b[39;00m\n\u001b[0;32m     31\u001b[0m \u001b[38;5;28;01mdef\u001b[39;00m \u001b[38;5;21mbudget_constraint\u001b[39m(model, j):\n",
      "File \u001b[1;32m~\\AppData\\Roaming\\Python\\Python310\\site-packages\\pyomo\\core\\base\\block.py:639\u001b[0m, in \u001b[0;36m_BlockData.__setattr__\u001b[1;34m(self, name, val)\u001b[0m\n\u001b[0;32m    634\u001b[0m \u001b[38;5;28;01mif\u001b[39;00m name \u001b[38;5;129;01mnot\u001b[39;00m \u001b[38;5;129;01min\u001b[39;00m \u001b[38;5;28mself\u001b[39m\u001b[38;5;241m.\u001b[39m\u001b[38;5;18m__dict__\u001b[39m:\n\u001b[0;32m    635\u001b[0m     \u001b[38;5;28;01mif\u001b[39;00m \u001b[38;5;28misinstance\u001b[39m(val, Component):\n\u001b[0;32m    636\u001b[0m         \u001b[38;5;66;03m#\u001b[39;00m\n\u001b[0;32m    637\u001b[0m         \u001b[38;5;66;03m# Pyomo components are added with the add_component method.\u001b[39;00m\n\u001b[0;32m    638\u001b[0m         \u001b[38;5;66;03m#\u001b[39;00m\n\u001b[1;32m--> 639\u001b[0m         \u001b[38;5;28;43mself\u001b[39;49m\u001b[38;5;241;43m.\u001b[39;49m\u001b[43madd_component\u001b[49m\u001b[43m(\u001b[49m\u001b[43mname\u001b[49m\u001b[43m,\u001b[49m\u001b[43m \u001b[49m\u001b[43mval\u001b[49m\u001b[43m)\u001b[49m\n\u001b[0;32m    640\u001b[0m     \u001b[38;5;28;01melse\u001b[39;00m:\n\u001b[0;32m    641\u001b[0m         \u001b[38;5;66;03m#\u001b[39;00m\n\u001b[0;32m    642\u001b[0m         \u001b[38;5;66;03m# Other Python objects are added with the standard __setattr__\u001b[39;00m\n\u001b[0;32m    643\u001b[0m         \u001b[38;5;66;03m# method.\u001b[39;00m\n\u001b[0;32m    644\u001b[0m         \u001b[38;5;66;03m#\u001b[39;00m\n\u001b[0;32m    645\u001b[0m         \u001b[38;5;28msuper\u001b[39m(_BlockData, \u001b[38;5;28mself\u001b[39m)\u001b[38;5;241m.\u001b[39m\u001b[38;5;21m__setattr__\u001b[39m(name, val)\n",
      "File \u001b[1;32m~\\AppData\\Roaming\\Python\\Python310\\site-packages\\pyomo\\core\\base\\block.py:1186\u001b[0m, in \u001b[0;36m_BlockData.add_component\u001b[1;34m(self, name, val)\u001b[0m\n\u001b[0;32m   1182\u001b[0m     logger\u001b[38;5;241m.\u001b[39mdebug(\u001b[38;5;124m\"\u001b[39m\u001b[38;5;124mConstructing \u001b[39m\u001b[38;5;132;01m%s\u001b[39;00m\u001b[38;5;124m \u001b[39m\u001b[38;5;124m'\u001b[39m\u001b[38;5;132;01m%s\u001b[39;00m\u001b[38;5;124m'\u001b[39m\u001b[38;5;124m on \u001b[39m\u001b[38;5;132;01m%s\u001b[39;00m\u001b[38;5;124m from data=\u001b[39m\u001b[38;5;132;01m%s\u001b[39;00m\u001b[38;5;124m\"\u001b[39m,\n\u001b[0;32m   1183\u001b[0m                  val\u001b[38;5;241m.\u001b[39m\u001b[38;5;18m__class__\u001b[39m\u001b[38;5;241m.\u001b[39m\u001b[38;5;18m__name__\u001b[39m, name,\n\u001b[0;32m   1184\u001b[0m                  _blockName, \u001b[38;5;28mstr\u001b[39m(data))\n\u001b[0;32m   1185\u001b[0m \u001b[38;5;28;01mtry\u001b[39;00m:\n\u001b[1;32m-> 1186\u001b[0m     \u001b[43mval\u001b[49m\u001b[38;5;241;43m.\u001b[39;49m\u001b[43mconstruct\u001b[49m\u001b[43m(\u001b[49m\u001b[43mdata\u001b[49m\u001b[43m)\u001b[49m\n\u001b[0;32m   1187\u001b[0m \u001b[38;5;28;01mexcept\u001b[39;00m:\n\u001b[0;32m   1188\u001b[0m     err \u001b[38;5;241m=\u001b[39m sys\u001b[38;5;241m.\u001b[39mexc_info()[\u001b[38;5;241m1\u001b[39m]\n",
      "File \u001b[1;32m~\\AppData\\Roaming\\Python\\Python310\\site-packages\\pyomo\\core\\base\\objective.py:334\u001b[0m, in \u001b[0;36mObjective.construct\u001b[1;34m(self, data)\u001b[0m\n\u001b[0;32m    330\u001b[0m \u001b[38;5;28;01melse\u001b[39;00m:\n\u001b[0;32m    331\u001b[0m     \u001b[38;5;66;03m# Bypass the index validation and create the member directly\u001b[39;00m\n\u001b[0;32m    332\u001b[0m     \u001b[38;5;28;01mfor\u001b[39;00m index \u001b[38;5;129;01min\u001b[39;00m \u001b[38;5;28mself\u001b[39m\u001b[38;5;241m.\u001b[39mindex_set():\n\u001b[0;32m    333\u001b[0m         ans \u001b[38;5;241m=\u001b[39m \u001b[38;5;28mself\u001b[39m\u001b[38;5;241m.\u001b[39m_setitem_when_not_present(\n\u001b[1;32m--> 334\u001b[0m             index, \u001b[43mrule\u001b[49m\u001b[43m(\u001b[49m\u001b[43mblock\u001b[49m\u001b[43m,\u001b[49m\u001b[43m \u001b[49m\u001b[43mindex\u001b[49m\u001b[43m)\u001b[49m)\n\u001b[0;32m    335\u001b[0m         \u001b[38;5;28;01mif\u001b[39;00m ans \u001b[38;5;129;01mis\u001b[39;00m \u001b[38;5;129;01mnot\u001b[39;00m \u001b[38;5;28;01mNone\u001b[39;00m:\n\u001b[0;32m    336\u001b[0m             ans\u001b[38;5;241m.\u001b[39mset_sense(\u001b[38;5;28mself\u001b[39m\u001b[38;5;241m.\u001b[39m_init_sense(block, index))\n",
      "File \u001b[1;32m~\\AppData\\Roaming\\Python\\Python310\\site-packages\\pyomo\\core\\base\\initializer.py:402\u001b[0m, in \u001b[0;36mScalarCallInitializer.__call__\u001b[1;34m(self, parent, idx)\u001b[0m\n\u001b[0;32m    401\u001b[0m \u001b[38;5;28;01mdef\u001b[39;00m \u001b[38;5;21m__call__\u001b[39m(\u001b[38;5;28mself\u001b[39m, parent, idx):\n\u001b[1;32m--> 402\u001b[0m     \u001b[38;5;28;01mreturn\u001b[39;00m \u001b[38;5;28;43mself\u001b[39;49m\u001b[38;5;241;43m.\u001b[39;49m\u001b[43m_fcn\u001b[49m\u001b[43m(\u001b[49m\u001b[43mparent\u001b[49m\u001b[43m)\u001b[49m\n",
      "Input \u001b[1;32mIn [17]\u001b[0m, in \u001b[0;36mobj_rule\u001b[1;34m(model)\u001b[0m\n\u001b[0;32m     23\u001b[0m \u001b[38;5;28;01mdef\u001b[39;00m \u001b[38;5;21mobj_rule\u001b[39m(model):\n\u001b[1;32m---> 24\u001b[0m     E_Rp \u001b[38;5;241m=\u001b[39m \u001b[38;5;28;43msum\u001b[39;49m\u001b[43m(\u001b[49m\u001b[43mmodel\u001b[49m\u001b[38;5;241;43m.\u001b[39;49m\u001b[43mx\u001b[49m\u001b[43m[\u001b[49m\u001b[43mi\u001b[49m\u001b[43m]\u001b[49m\u001b[43m \u001b[49m\u001b[38;5;241;43m*\u001b[39;49m\u001b[43m \u001b[49m\u001b[38;5;28;43msum\u001b[39;49m\u001b[43m(\u001b[49m\u001b[43mR\u001b[49m\u001b[43m[\u001b[49m\u001b[43mi\u001b[49m\u001b[43m]\u001b[49m\u001b[43m[\u001b[49m\u001b[43mt\u001b[49m\u001b[43m]\u001b[49m\u001b[43m \u001b[49m\u001b[38;5;28;43;01mfor\u001b[39;49;00m\u001b[43m \u001b[49m\u001b[43mt\u001b[49m\u001b[43m \u001b[49m\u001b[38;5;129;43;01min\u001b[39;49;00m\u001b[43m \u001b[49m\u001b[38;5;28;43mrange\u001b[39;49m\u001b[43m(\u001b[49m\u001b[43mT\u001b[49m\u001b[43m)\u001b[49m\u001b[43m)\u001b[49m\u001b[43m \u001b[49m\u001b[38;5;241;43m/\u001b[39;49m\u001b[43m \u001b[49m\u001b[43mT\u001b[49m\u001b[43m \u001b[49m\u001b[38;5;28;43;01mfor\u001b[39;49;00m\u001b[43m \u001b[49m\u001b[43mi\u001b[49m\u001b[43m \u001b[49m\u001b[38;5;129;43;01min\u001b[39;49;00m\u001b[43m \u001b[49m\u001b[38;5;28;43mrange\u001b[39;49m\u001b[43m(\u001b[49m\u001b[43mn\u001b[49m\u001b[43m)\u001b[49m\u001b[43m)\u001b[49m\n\u001b[0;32m     25\u001b[0m     Var_Rp \u001b[38;5;241m=\u001b[39m \u001b[38;5;28msum\u001b[39m(model\u001b[38;5;241m.\u001b[39mx[i] \u001b[38;5;241m*\u001b[39m model\u001b[38;5;241m.\u001b[39mx[j] \u001b[38;5;241m*\u001b[39m \u001b[38;5;28msum\u001b[39m((R[i][t] \u001b[38;5;241m-\u001b[39m E_Rp) \u001b[38;5;241m*\u001b[39m (R[j][t] \u001b[38;5;241m-\u001b[39m E_Rp) \u001b[38;5;28;01mfor\u001b[39;00m t \u001b[38;5;129;01min\u001b[39;00m \u001b[38;5;28mrange\u001b[39m(T)) \u001b[38;5;241m/\u001b[39m T \u001b[38;5;28;01mfor\u001b[39;00m i \u001b[38;5;129;01min\u001b[39;00m \u001b[38;5;28mrange\u001b[39m(n) \u001b[38;5;28;01mfor\u001b[39;00m j \u001b[38;5;129;01min\u001b[39;00m \u001b[38;5;28mrange\u001b[39m(n))\n\u001b[0;32m     26\u001b[0m     \u001b[38;5;28;01mreturn\u001b[39;00m E_Rp \u001b[38;5;241m-\u001b[39m (\u001b[38;5;241m1\u001b[39m \u001b[38;5;241m/\u001b[39m r) \u001b[38;5;241m*\u001b[39m Var_Rp\n",
      "Input \u001b[1;32mIn [17]\u001b[0m, in \u001b[0;36m<genexpr>\u001b[1;34m(.0)\u001b[0m\n\u001b[0;32m     23\u001b[0m \u001b[38;5;28;01mdef\u001b[39;00m \u001b[38;5;21mobj_rule\u001b[39m(model):\n\u001b[1;32m---> 24\u001b[0m     E_Rp \u001b[38;5;241m=\u001b[39m \u001b[38;5;28msum\u001b[39m(model\u001b[38;5;241m.\u001b[39mx[i] \u001b[38;5;241m*\u001b[39m \u001b[38;5;28;43msum\u001b[39;49m\u001b[43m(\u001b[49m\u001b[43mR\u001b[49m\u001b[43m[\u001b[49m\u001b[43mi\u001b[49m\u001b[43m]\u001b[49m\u001b[43m[\u001b[49m\u001b[43mt\u001b[49m\u001b[43m]\u001b[49m\u001b[43m \u001b[49m\u001b[38;5;28;43;01mfor\u001b[39;49;00m\u001b[43m \u001b[49m\u001b[43mt\u001b[49m\u001b[43m \u001b[49m\u001b[38;5;129;43;01min\u001b[39;49;00m\u001b[43m \u001b[49m\u001b[38;5;28;43mrange\u001b[39;49m\u001b[43m(\u001b[49m\u001b[43mT\u001b[49m\u001b[43m)\u001b[49m\u001b[43m)\u001b[49m \u001b[38;5;241m/\u001b[39m T \u001b[38;5;28;01mfor\u001b[39;00m i \u001b[38;5;129;01min\u001b[39;00m \u001b[38;5;28mrange\u001b[39m(n))\n\u001b[0;32m     25\u001b[0m     Var_Rp \u001b[38;5;241m=\u001b[39m \u001b[38;5;28msum\u001b[39m(model\u001b[38;5;241m.\u001b[39mx[i] \u001b[38;5;241m*\u001b[39m model\u001b[38;5;241m.\u001b[39mx[j] \u001b[38;5;241m*\u001b[39m \u001b[38;5;28msum\u001b[39m((R[i][t] \u001b[38;5;241m-\u001b[39m E_Rp) \u001b[38;5;241m*\u001b[39m (R[j][t] \u001b[38;5;241m-\u001b[39m E_Rp) \u001b[38;5;28;01mfor\u001b[39;00m t \u001b[38;5;129;01min\u001b[39;00m \u001b[38;5;28mrange\u001b[39m(T)) \u001b[38;5;241m/\u001b[39m T \u001b[38;5;28;01mfor\u001b[39;00m i \u001b[38;5;129;01min\u001b[39;00m \u001b[38;5;28mrange\u001b[39m(n) \u001b[38;5;28;01mfor\u001b[39;00m j \u001b[38;5;129;01min\u001b[39;00m \u001b[38;5;28mrange\u001b[39m(n))\n\u001b[0;32m     26\u001b[0m     \u001b[38;5;28;01mreturn\u001b[39;00m E_Rp \u001b[38;5;241m-\u001b[39m (\u001b[38;5;241m1\u001b[39m \u001b[38;5;241m/\u001b[39m r) \u001b[38;5;241m*\u001b[39m Var_Rp\n",
      "\u001b[1;31mTypeError\u001b[0m: unsupported operand type(s) for +: 'float' and 'ellipsis'"
     ]
    }
   ],
   "source": [
    "import pyomo.environ as pyo\n",
    "from pyomo.opt import SolverFactory\n",
    "\n",
    "# Step 1: Define parameters and variables\n",
    "n = 10  # number of investment strategies\n",
    "T = 100  # total number of time periods in the dataset\n",
    "\n",
    "# Sample data\n",
    "A = [100, 150, 200, 250, 300, 350, 400, 450, 500, 550]  # cost for investing in investment strategy i\n",
    "R = [[1.01, 1.02, ...] for _ in range(n)]  # historic return of investment strategy i at time t\n",
    "B = [1000, 1500, 2000, 2500]  # budget for scenario j\n",
    "p = [0.2, 0.3, 0.3, 0.2]  # probability of budget scenario j occuring\n",
    "r = 2  # risk parameter\n",
    "alpha = 0.4  # tolerable probability of exceeding the budget\n",
    "\n",
    "model = pyo.ConcreteModel()\n",
    "\n",
    "# Variables\n",
    "model.x = pyo.Var(range(n), domain=pyo.Binary)\n",
    "model.P = pyo.Var(domain=pyo.NonNegativeReals)\n",
    "\n",
    "# Step 2: Define the objective function\n",
    "def obj_rule(model):\n",
    "    E_Rp = sum(model.x[i] * sum(R[i][t] for t in range(T)) / T for i in range(n))\n",
    "    Var_Rp = sum(model.x[i] * model.x[j] * sum((R[i][t] - E_Rp) * (R[j][t] - E_Rp) for t in range(T)) / T for i in range(n) for j in range(n))\n",
    "    return E_Rp - (1 / r) * Var_Rp\n",
    "\n",
    "model.objective = pyo.Objective(rule=obj_rule, sense=pyo.maximize)\n",
    "\n",
    "# Step 3: Define the constraints\n",
    "def budget_constraint(model, j):\n",
    "    return sum(A[i] * model.x[i] for i in range(n)) <= B[j]\n",
    "\n",
    "model.budget_constraints = pyo.Constraint(range(4), rule=budget_constraint)\n",
    "\n",
    "def exceeding_probability(model):\n",
    "    return model.P >= sum(p[j] * (sum(A[i] * model.x[i] for i in range(n)) > B[j]) for j in range(4))\n",
    "\n",
    "model.exceeding_probability_constraint = pyo.Constraint(rule=exceeding_probability)\n",
    "\n",
    "model.tolerable_probability_constraint = pyo.Constraint(expr=model.P <= alpha)\n",
    "\n",
    "model.cardinality_constraint = pyo.Constraint(expr=sum(model.x[i] for i in range(n)) <= 1)\n",
    "\n",
    "# Step 4: Solve the problem\n",
    "solver = SolverFactory('glpk')\n",
    "results = solver.solve(model)\n",
    "\n",
    "print(results)"
   ]
  },
  {
   "cell_type": "markdown",
   "id": "95f5c3a8",
   "metadata": {},
   "source": [
    "### Solution Correctness"
   ]
  },
  {
   "cell_type": "code",
   "execution_count": null,
   "id": "01245691",
   "metadata": {},
   "outputs": [],
   "source": []
  }
 ],
 "metadata": {
  "kernelspec": {
   "display_name": "Python 3 (ipykernel)",
   "language": "python",
   "name": "python3"
  },
  "language_info": {
   "codemirror_mode": {
    "name": "ipython",
    "version": 3
   },
   "file_extension": ".py",
   "mimetype": "text/x-python",
   "name": "python",
   "nbconvert_exporter": "python",
   "pygments_lexer": "ipython3",
   "version": "3.10.4"
  }
 },
 "nbformat": 4,
 "nbformat_minor": 5
}
