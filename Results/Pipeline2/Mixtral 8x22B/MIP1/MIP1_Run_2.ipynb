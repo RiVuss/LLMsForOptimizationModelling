{
 "cells": [
  {
   "cell_type": "code",
   "execution_count": 1,
   "id": "e5c2c174",
   "metadata": {},
   "outputs": [],
   "source": [
    "import os\n",
    "from mistralai.client import MistralClient\n",
    "from mistralai.models.chat_completion import ChatMessage\n",
    "from IPython.display import display, Markdown, Latex\n",
    "from datetime import datetime"
   ]
  },
  {
   "cell_type": "code",
   "execution_count": 2,
   "id": "b0c91a62",
   "metadata": {},
   "outputs": [
    {
     "name": "stdout",
     "output_type": "stream",
     "text": [
      "Time of execution: 2024-06-12 18:56:47.654151\n"
     ]
    }
   ],
   "source": [
    "API_KEY = os.environ['MISTRAL_API_KEY']\n",
    "\n",
    "MODEL_ID = 'open-mixtral-8x22b'\n",
    "MODEL_SEED = 2\n",
    "MODEL_TEMPERATURE = 0.7\n",
    "\n",
    "file_system_prompt_1 = open(\"../system_prompt_1.txt\", \"r\")\n",
    "file_system_prompt_2 = open(\"../system_prompt_2.txt\", \"r\")\n",
    "user_prompt_1 = open(\"../user_prompt_1.txt\", \"r\")\n",
    "user_prompt_2 = open(\"../user_prompt_2.txt\", \"r\")\n",
    "user_prompt_3 = open(\"../user_prompt_3.txt\", \"r\")\n",
    "SYSTEM_PROMPT_1 = file_system_prompt_1.read()\n",
    "SYSTEM_PROMPT_2 = file_system_prompt_2.read()\n",
    "USER_PROMPT_1 = user_prompt_1.read()\n",
    "USER_PROMPT_2 = user_prompt_2.read()\n",
    "USER_PROMPT_3 = user_prompt_3.read()\n",
    "file_system_prompt_1.close()\n",
    "file_system_prompt_2.close()\n",
    "user_prompt_1.close()\n",
    "user_prompt_2.close()\n",
    "user_prompt_3.close()\n",
    "\n",
    "FILE_PATH_PROBLEM = '../../../../Datasets/MIP_1_Facility_Location_Allocation/'\n",
    "assert(FILE_PATH_PROBLEM != '../../../../Datasets/')\n",
    "file_problem_description = open(FILE_PATH_PROBLEM + 'ProblemDescription.txt', 'r')\n",
    "PROBLEM_DESCRIPTION = file_problem_description.read()\n",
    "file_problem_description.close()\n",
    "\n",
    "\n",
    "\n",
    "client = MistralClient(api_key=API_KEY)\n",
    "\n",
    "print(f'Time of execution: {datetime.now()}')"
   ]
  },
  {
   "cell_type": "markdown",
   "id": "3e540824",
   "metadata": {},
   "source": [
    "## Step 1 - Generate Mathematical Formulation "
   ]
  },
  {
   "cell_type": "code",
   "execution_count": 3,
   "id": "174c127b",
   "metadata": {},
   "outputs": [],
   "source": [
    "messages_1 = [\n",
    "    ChatMessage(role=\"system\", content=SYSTEM_PROMPT_1),\n",
    "    ChatMessage(role=\"user\", content=PROBLEM_DESCRIPTION),\n",
    "    ChatMessage(role=\"user\", content=USER_PROMPT_1)\n",
    "]\n",
    "\n",
    "response_1 = client.chat(\n",
    "    model=MODEL_ID,\n",
    "    messages=messages_1,\n",
    "    random_seed=MODEL_SEED,\n",
    "    temperature=MODEL_TEMPERATURE \n",
    ")\n",
    "\n",
    "response_1_text = response_1.choices[0].message.content"
   ]
  },
  {
   "cell_type": "code",
   "execution_count": 4,
   "id": "03616e62",
   "metadata": {},
   "outputs": [
    {
     "data": {
      "text/markdown": [
       "Step 1: Define parameters and variables\n",
       "\n",
       "Let's denote the following:\n",
       "\n",
       "- Let $I$ be the set of potential facility locations.\n",
       "- Let $J$ be the set of customers.\n",
       "- Let $f_i$ be the fixed annual activation cost for opening facility $i \\in I$.\n",
       "- Let $d_j$ be the demand of customer $j \\in J$.\n",
       "- Let $s_i$ be the maximum annual service volume of facility $i \\in I$.\n",
       "- Let $c_{ij}$ be the transportation cost for servicing customer $j \\in J$ from facility $i \\in I$.\n",
       "- Let $x_{ij}$ be a binary decision variable that equals 1 if customer $j$ is serviced by facility $i$, and 0 otherwise.\n",
       "- Let $y_i$ be a binary decision variable that equals 1 if facility $i$ is opened, and 0 otherwise.\n",
       "\n",
       "Now we can proceed to step 2."
      ],
      "text/plain": [
       "<IPython.core.display.Markdown object>"
      ]
     },
     "execution_count": 4,
     "metadata": {},
     "output_type": "execute_result"
    }
   ],
   "source": [
    "Markdown(response_1_text)"
   ]
  },
  {
   "cell_type": "code",
   "execution_count": 5,
   "id": "b6a33171",
   "metadata": {},
   "outputs": [
    {
     "name": "stdout",
     "output_type": "stream",
     "text": [
      "Step 1: Define parameters and variables\n",
      "\n",
      "Let's denote the following:\n",
      "\n",
      "- Let $I$ be the set of potential facility locations.\n",
      "- Let $J$ be the set of customers.\n",
      "- Let $f_i$ be the fixed annual activation cost for opening facility $i \\in I$.\n",
      "- Let $d_j$ be the demand of customer $j \\in J$.\n",
      "- Let $s_i$ be the maximum annual service volume of facility $i \\in I$.\n",
      "- Let $c_{ij}$ be the transportation cost for servicing customer $j \\in J$ from facility $i \\in I$.\n",
      "- Let $x_{ij}$ be a binary decision variable that equals 1 if customer $j$ is serviced by facility $i$, and 0 otherwise.\n",
      "- Let $y_i$ be a binary decision variable that equals 1 if facility $i$ is opened, and 0 otherwise.\n",
      "\n",
      "Now we can proceed to step 2.\n"
     ]
    }
   ],
   "source": [
    "print(response_1_text)"
   ]
  },
  {
   "cell_type": "code",
   "execution_count": 6,
   "id": "9af61485",
   "metadata": {},
   "outputs": [],
   "source": [
    "messages_2 = [\n",
    "    ChatMessage(role=\"system\", content=SYSTEM_PROMPT_1),\n",
    "    ChatMessage(role=\"user\", content=PROBLEM_DESCRIPTION),\n",
    "    ChatMessage(role=\"user\", content=USER_PROMPT_1),\n",
    "    ChatMessage(role=\"assistant\", content=response_1_text),\n",
    "    ChatMessage(role=\"user\", content=USER_PROMPT_2),\n",
    "]\n",
    "\n",
    "response_2 = client.chat(\n",
    "    model=MODEL_ID,\n",
    "    messages=messages_2,\n",
    "    random_seed=MODEL_SEED,\n",
    "    temperature=MODEL_TEMPERATURE \n",
    ")\n",
    "\n",
    "response_2_text = response_2.choices[0].message.content"
   ]
  },
  {
   "cell_type": "code",
   "execution_count": 7,
   "id": "ac0f2659",
   "metadata": {},
   "outputs": [
    {
     "data": {
      "text/markdown": [
       "Step 2: Define the objective function\n",
       "\n",
       "The objective is to minimize the overall costs, which include both the fixed activation costs for any opened facilities and the transportation costs for servicing customers. This can be expressed as:\n",
       "\n",
       "\\[ \\min \\sum_{i \\in I} f_i y_i + \\sum_{i \\in I} \\sum_{j \\in J} c_{ij} x_{ij} \\]\n",
       "\n",
       "Now we can proceed to step 3."
      ],
      "text/plain": [
       "<IPython.core.display.Markdown object>"
      ]
     },
     "execution_count": 7,
     "metadata": {},
     "output_type": "execute_result"
    }
   ],
   "source": [
    "Markdown(response_2_text)"
   ]
  },
  {
   "cell_type": "code",
   "execution_count": 8,
   "id": "6e93b2aa",
   "metadata": {},
   "outputs": [
    {
     "name": "stdout",
     "output_type": "stream",
     "text": [
      "Step 2: Define the objective function\n",
      "\n",
      "The objective is to minimize the overall costs, which include both the fixed activation costs for any opened facilities and the transportation costs for servicing customers. This can be expressed as:\n",
      "\n",
      "\\[ \\min \\sum_{i \\in I} f_i y_i + \\sum_{i \\in I} \\sum_{j \\in J} c_{ij} x_{ij} \\]\n",
      "\n",
      "Now we can proceed to step 3.\n"
     ]
    }
   ],
   "source": [
    "print(response_2_text)"
   ]
  },
  {
   "cell_type": "code",
   "execution_count": 9,
   "id": "d7d2d8bc",
   "metadata": {},
   "outputs": [],
   "source": [
    "messages_3 = [\n",
    "    ChatMessage(role=\"system\", content=SYSTEM_PROMPT_1),\n",
    "    ChatMessage(role=\"user\", content=PROBLEM_DESCRIPTION),\n",
    "    ChatMessage(role=\"user\", content=USER_PROMPT_1),\n",
    "    ChatMessage(role=\"assistant\", content=response_1_text),\n",
    "    ChatMessage(role=\"user\", content=USER_PROMPT_2),\n",
    "    ChatMessage(role=\"assistant\", content=response_2_text),\n",
    "    ChatMessage(role=\"user\", content=USER_PROMPT_3),\n",
    "]\n",
    "\n",
    "response_3 = client.chat(\n",
    "    model=MODEL_ID,\n",
    "    messages=messages_3,\n",
    "    random_seed=MODEL_SEED,\n",
    "    temperature=MODEL_TEMPERATURE \n",
    ")\n",
    "\n",
    "response_3_text = response_3.choices[0].message.content"
   ]
  },
  {
   "cell_type": "code",
   "execution_count": 10,
   "id": "c4588e6c",
   "metadata": {},
   "outputs": [
    {
     "data": {
      "text/markdown": [
       "Step 3: Define the constraints\n",
       "\n",
       "There are several constraints that need to be satisfied:\n",
       "\n",
       "1. Each customer's demand must be met by at least one facility:\n",
       "\\[ \\sum_{i \\in I} x_{ij} = 1 \\quad \\forall j \\in J \\]\n",
       "2. Customers can only be serviced by a facility that is opened:\n",
       "\\[ x_{ij} \\leq y_i \\quad \\forall i \\in I, \\forall j \\in J \\]\n",
       "3. Each facility does not exceed its maximum service volume:\n",
       "\\[ \\sum_{j \\in J} d_j x_{ij} \\leq s_i y_i \\quad \\forall i \\in I \\]\n",
       "\n",
       "These constraints ensure that the model correctly represents the problem and provides a feasible solution. Our optimization model is now complete."
      ],
      "text/plain": [
       "<IPython.core.display.Markdown object>"
      ]
     },
     "execution_count": 10,
     "metadata": {},
     "output_type": "execute_result"
    }
   ],
   "source": [
    "Markdown(response_3_text)"
   ]
  },
  {
   "cell_type": "code",
   "execution_count": 11,
   "id": "b74cfcbe",
   "metadata": {},
   "outputs": [
    {
     "name": "stdout",
     "output_type": "stream",
     "text": [
      "Step 3: Define the constraints\n",
      "\n",
      "There are several constraints that need to be satisfied:\n",
      "\n",
      "1. Each customer's demand must be met by at least one facility:\n",
      "\\[ \\sum_{i \\in I} x_{ij} = 1 \\quad \\forall j \\in J \\]\n",
      "2. Customers can only be serviced by a facility that is opened:\n",
      "\\[ x_{ij} \\leq y_i \\quad \\forall i \\in I, \\forall j \\in J \\]\n",
      "3. Each facility does not exceed its maximum service volume:\n",
      "\\[ \\sum_{j \\in J} d_j x_{ij} \\leq s_i y_i \\quad \\forall i \\in I \\]\n",
      "\n",
      "These constraints ensure that the model correctly represents the problem and provides a feasible solution. Our optimization model is now complete.\n"
     ]
    }
   ],
   "source": [
    "print(response_3_text)"
   ]
  },
  {
   "cell_type": "code",
   "execution_count": 12,
   "id": "e73cd25c",
   "metadata": {},
   "outputs": [
    {
     "data": {
      "text/markdown": [
       "Step 1: Define parameters and variables\n",
       "\n",
       "Let's denote the following:\n",
       "\n",
       "- Let $I$ be the set of potential facility locations.\n",
       "- Let $J$ be the set of customers.\n",
       "- Let $f_i$ be the fixed annual activation cost for opening facility $i \\in I$.\n",
       "- Let $d_j$ be the demand of customer $j \\in J$.\n",
       "- Let $s_i$ be the maximum annual service volume of facility $i \\in I$.\n",
       "- Let $c_{ij}$ be the transportation cost for servicing customer $j \\in J$ from facility $i \\in I$.\n",
       "- Let $x_{ij}$ be a binary decision variable that equals 1 if customer $j$ is serviced by facility $i$, and 0 otherwise.\n",
       "- Let $y_i$ be a binary decision variable that equals 1 if facility $i$ is opened, and 0 otherwise.\n",
       "\n",
       "Now we can proceed to step 2.\n",
       "Step 2: Define the objective function\n",
       "\n",
       "The objective is to minimize the overall costs, which include both the fixed activation costs for any opened facilities and the transportation costs for servicing customers. This can be expressed as:\n",
       "\n",
       "\\[ \\min \\sum_{i \\in I} f_i y_i + \\sum_{i \\in I} \\sum_{j \\in J} c_{ij} x_{ij} \\]\n",
       "\n",
       "Now we can proceed to step 3.\n",
       "Step 3: Define the constraints\n",
       "\n",
       "There are several constraints that need to be satisfied:\n",
       "\n",
       "1. Each customer's demand must be met by at least one facility:\n",
       "\\[ \\sum_{i \\in I} x_{ij} = 1 \\quad \\forall j \\in J \\]\n",
       "2. Customers can only be serviced by a facility that is opened:\n",
       "\\[ x_{ij} \\leq y_i \\quad \\forall i \\in I, \\forall j \\in J \\]\n",
       "3. Each facility does not exceed its maximum service volume:\n",
       "\\[ \\sum_{j \\in J} d_j x_{ij} \\leq s_i y_i \\quad \\forall i \\in I \\]\n",
       "\n",
       "These constraints ensure that the model correctly represents the problem and provides a feasible solution. Our optimization model is now complete."
      ],
      "text/plain": [
       "<IPython.core.display.Markdown object>"
      ]
     },
     "execution_count": 12,
     "metadata": {},
     "output_type": "execute_result"
    }
   ],
   "source": [
    "response_text = '\\n'.join([response_1_text, response_2_text, response_3_text])\n",
    "\n",
    "Markdown(response_text)"
   ]
  },
  {
   "cell_type": "code",
   "execution_count": 13,
   "id": "dd3d0006",
   "metadata": {},
   "outputs": [
    {
     "name": "stdout",
     "output_type": "stream",
     "text": [
      "Step 1: Define parameters and variables\n",
      "\n",
      "Let's denote the following:\n",
      "\n",
      "- Let $I$ be the set of potential facility locations.\n",
      "- Let $J$ be the set of customers.\n",
      "- Let $f_i$ be the fixed annual activation cost for opening facility $i \\in I$.\n",
      "- Let $d_j$ be the demand of customer $j \\in J$.\n",
      "- Let $s_i$ be the maximum annual service volume of facility $i \\in I$.\n",
      "- Let $c_{ij}$ be the transportation cost for servicing customer $j \\in J$ from facility $i \\in I$.\n",
      "- Let $x_{ij}$ be a binary decision variable that equals 1 if customer $j$ is serviced by facility $i$, and 0 otherwise.\n",
      "- Let $y_i$ be a binary decision variable that equals 1 if facility $i$ is opened, and 0 otherwise.\n",
      "\n",
      "Now we can proceed to step 2.\n",
      "Step 2: Define the objective function\n",
      "\n",
      "The objective is to minimize the overall costs, which include both the fixed activation costs for any opened facilities and the transportation costs for servicing customers. This can be expressed as:\n",
      "\n",
      "\\[ \\min \\sum_{i \\in I} f_i y_i + \\sum_{i \\in I} \\sum_{j \\in J} c_{ij} x_{ij} \\]\n",
      "\n",
      "Now we can proceed to step 3.\n",
      "Step 3: Define the constraints\n",
      "\n",
      "There are several constraints that need to be satisfied:\n",
      "\n",
      "1. Each customer's demand must be met by at least one facility:\n",
      "\\[ \\sum_{i \\in I} x_{ij} = 1 \\quad \\forall j \\in J \\]\n",
      "2. Customers can only be serviced by a facility that is opened:\n",
      "\\[ x_{ij} \\leq y_i \\quad \\forall i \\in I, \\forall j \\in J \\]\n",
      "3. Each facility does not exceed its maximum service volume:\n",
      "\\[ \\sum_{j \\in J} d_j x_{ij} \\leq s_i y_i \\quad \\forall i \\in I \\]\n",
      "\n",
      "These constraints ensure that the model correctly represents the problem and provides a feasible solution. Our optimization model is now complete.\n"
     ]
    }
   ],
   "source": [
    "print(response_text)"
   ]
  },
  {
   "cell_type": "markdown",
   "id": "27b5f89a",
   "metadata": {},
   "source": [
    "## Step 2 - Generate the Pyomo Code"
   ]
  },
  {
   "cell_type": "code",
   "execution_count": 14,
   "id": "a4c3312f",
   "metadata": {},
   "outputs": [],
   "source": [
    "messages_4 = [\n",
    "    ChatMessage(role=\"system\", content=SYSTEM_PROMPT_2),\n",
    "    ChatMessage(role=\"user\", content=response_text)\n",
    "]"
   ]
  },
  {
   "cell_type": "code",
   "execution_count": 15,
   "id": "4212d99d",
   "metadata": {},
   "outputs": [],
   "source": [
    "response_4 = client.chat(\n",
    "    model=MODEL_ID,\n",
    "    messages=messages_4,\n",
    "    random_seed=MODEL_SEED,\n",
    "    temperature=MODEL_TEMPERATURE\n",
    ")\n",
    "\n",
    "response_4_text = response_4.choices[0].message.content"
   ]
  },
  {
   "cell_type": "code",
   "execution_count": 16,
   "id": "c168a60b",
   "metadata": {},
   "outputs": [
    {
     "data": {
      "text/markdown": [
       "Here is a Python code using Pyomo to model and solve the optimization problem described:\n",
       "\n",
       "```python\n",
       "import pyomo.environ as pyo\n",
       "from pyomo.opt import SolverFactory\n",
       "import numpy as np\n",
       "\n",
       "# Step 1: Define parameters and variables\n",
       "I = range(1, 6)  # Sample data: 5 potential facility locations\n",
       "J = range(1, 11)  # Sample data: 10 customers\n",
       "\n",
       "f = {i: np.random.randint(10, 100) for i in I}  # Sample data: Fixed activation cost for facility i\n",
       "d = {j: np.random.randint(50, 200) for j in J}  # Sample data: Demand of customer j\n",
       "s = {i: np.random.randint(200, 800) for i in I}  # Sample data: Maximum service volume of facility i\n",
       "c = {(i, j): np.random.randint(1, 10) for i in I for j in J}  # Sample data: Transportation cost for servicing customer j from facility i\n",
       "\n",
       "model = pyo.ConcreteModel()\n",
       "\n",
       "model.I = pyo.Set(initialize=I)\n",
       "model.J = pyo.Set(initialize=J)\n",
       "\n",
       "model.f = pyo.Param(model.I, initialize=f)\n",
       "model.d = pyo.Param(model.J, initialize=d)\n",
       "model.s = pyo.Param(model.I, initialize=s)\n",
       "model.c = pyo.Param(model.I, model.J, initialize=c)\n",
       "\n",
       "model.x = pyo.Var(model.I, model.J, domain=pyo.Binary)\n",
       "model.y = pyo.Var(model.I, domain=pyo.Binary)\n",
       "\n",
       "# Step 2: Define the objective function\n",
       "model.obj = pyo.Objective(\n",
       "    expr=sum(model.f[i] * model.y[i] for i in model.I) + sum(model.c[i, j] * model.x[i, j] for i in model.I for j in model.J),\n",
       "    sense=pyo.minimize\n",
       ")\n",
       "\n",
       "# Step 3: Define the constraints\n",
       "model.demand_constraint = pyo.ConstraintList()\n",
       "for j in model.J:\n",
       "    model.demand_constraint.add(sum(model.x[i, j] for i in model.I) == 1)\n",
       "\n",
       "model.service_constraint = pyo.ConstraintList()\n",
       "for i in model.I:\n",
       "    for j in model.J:\n",
       "        model.service_constraint.add(model.x[i, j] <= model.y[i])\n",
       "\n",
       "model.volume_constraint = pyo.ConstraintList()\n",
       "for i in model.I:\n",
       "    model.volume_constraint.add(sum(model.d[j] * model.x[i, j] for j in model.J) <= model.s[i] * model.y[i])\n",
       "\n",
       "# Solve the problem\n",
       "solver = SolverFactory('glpk')\n",
       "results = solver.solve(model)\n",
       "\n",
       "# Print out the results\n",
       "print(\"Objective value:\", pyo.value(model.obj))\n",
       "for i in model.I:\n",
       "    print(f\"y_{i}: {pyo.value(model.y[i])}\")\n",
       "for i in model.I:\n",
       "    for j in model.J:\n",
       "        print(f\"x_{i}_{j}: {pyo.value(model.x[i, j])}\")\n",
       "```\n",
       "\n",
       "This code defines the sets, parameters, variables, objective function, and constraints of the optimization problem using Pyomo. It then solves the problem using the GLPK solver and prints the results. Note that the code uses sample data for the fixed activation costs, demands, maximum service volumes, and transportation costs."
      ],
      "text/plain": [
       "<IPython.core.display.Markdown object>"
      ]
     },
     "execution_count": 16,
     "metadata": {},
     "output_type": "execute_result"
    }
   ],
   "source": [
    "Markdown(response_4_text)"
   ]
  },
  {
   "cell_type": "code",
   "execution_count": 17,
   "id": "a380c180",
   "metadata": {},
   "outputs": [
    {
     "name": "stdout",
     "output_type": "stream",
     "text": [
      "Here is a Python code using Pyomo to model and solve the optimization problem described:\n",
      "\n",
      "```python\n",
      "import pyomo.environ as pyo\n",
      "from pyomo.opt import SolverFactory\n",
      "import numpy as np\n",
      "\n",
      "# Step 1: Define parameters and variables\n",
      "I = range(1, 6)  # Sample data: 5 potential facility locations\n",
      "J = range(1, 11)  # Sample data: 10 customers\n",
      "\n",
      "f = {i: np.random.randint(10, 100) for i in I}  # Sample data: Fixed activation cost for facility i\n",
      "d = {j: np.random.randint(50, 200) for j in J}  # Sample data: Demand of customer j\n",
      "s = {i: np.random.randint(200, 800) for i in I}  # Sample data: Maximum service volume of facility i\n",
      "c = {(i, j): np.random.randint(1, 10) for i in I for j in J}  # Sample data: Transportation cost for servicing customer j from facility i\n",
      "\n",
      "model = pyo.ConcreteModel()\n",
      "\n",
      "model.I = pyo.Set(initialize=I)\n",
      "model.J = pyo.Set(initialize=J)\n",
      "\n",
      "model.f = pyo.Param(model.I, initialize=f)\n",
      "model.d = pyo.Param(model.J, initialize=d)\n",
      "model.s = pyo.Param(model.I, initialize=s)\n",
      "model.c = pyo.Param(model.I, model.J, initialize=c)\n",
      "\n",
      "model.x = pyo.Var(model.I, model.J, domain=pyo.Binary)\n",
      "model.y = pyo.Var(model.I, domain=pyo.Binary)\n",
      "\n",
      "# Step 2: Define the objective function\n",
      "model.obj = pyo.Objective(\n",
      "    expr=sum(model.f[i] * model.y[i] for i in model.I) + sum(model.c[i, j] * model.x[i, j] for i in model.I for j in model.J),\n",
      "    sense=pyo.minimize\n",
      ")\n",
      "\n",
      "# Step 3: Define the constraints\n",
      "model.demand_constraint = pyo.ConstraintList()\n",
      "for j in model.J:\n",
      "    model.demand_constraint.add(sum(model.x[i, j] for i in model.I) == 1)\n",
      "\n",
      "model.service_constraint = pyo.ConstraintList()\n",
      "for i in model.I:\n",
      "    for j in model.J:\n",
      "        model.service_constraint.add(model.x[i, j] <= model.y[i])\n",
      "\n",
      "model.volume_constraint = pyo.ConstraintList()\n",
      "for i in model.I:\n",
      "    model.volume_constraint.add(sum(model.d[j] * model.x[i, j] for j in model.J) <= model.s[i] * model.y[i])\n",
      "\n",
      "# Solve the problem\n",
      "solver = SolverFactory('glpk')\n",
      "results = solver.solve(model)\n",
      "\n",
      "# Print out the results\n",
      "print(\"Objective value:\", pyo.value(model.obj))\n",
      "for i in model.I:\n",
      "    print(f\"y_{i}: {pyo.value(model.y[i])}\")\n",
      "for i in model.I:\n",
      "    for j in model.J:\n",
      "        print(f\"x_{i}_{j}: {pyo.value(model.x[i, j])}\")\n",
      "```\n",
      "\n",
      "This code defines the sets, parameters, variables, objective function, and constraints of the optimization problem using Pyomo. It then solves the problem using the GLPK solver and prints the results. Note that the code uses sample data for the fixed activation costs, demands, maximum service volumes, and transportation costs.\n"
     ]
    }
   ],
   "source": [
    "print(response_4_text)"
   ]
  },
  {
   "cell_type": "markdown",
   "id": "879cc7ae",
   "metadata": {},
   "source": [
    "### Code Executability"
   ]
  },
  {
   "cell_type": "code",
   "execution_count": 18,
   "id": "f1d9a625",
   "metadata": {},
   "outputs": [
    {
     "name": "stdout",
     "output_type": "stream",
     "text": [
      "Objective value: 179.0\n",
      "y_1: 1.0\n",
      "y_2: 0.0\n",
      "y_3: 0.0\n",
      "y_4: 1.0\n",
      "y_5: 0.0\n",
      "x_1_1: 0.0\n",
      "x_1_2: 0.0\n",
      "x_1_3: 1.0\n",
      "x_1_4: 1.0\n",
      "x_1_5: 0.0\n",
      "x_1_6: 1.0\n",
      "x_1_7: 0.0\n",
      "x_1_8: 1.0\n",
      "x_1_9: 1.0\n",
      "x_1_10: 0.0\n",
      "x_2_1: 0.0\n",
      "x_2_2: 0.0\n",
      "x_2_3: 0.0\n",
      "x_2_4: 0.0\n",
      "x_2_5: 0.0\n",
      "x_2_6: 0.0\n",
      "x_2_7: 0.0\n",
      "x_2_8: 0.0\n",
      "x_2_9: 0.0\n",
      "x_2_10: 0.0\n",
      "x_3_1: 0.0\n",
      "x_3_2: 0.0\n",
      "x_3_3: 0.0\n",
      "x_3_4: 0.0\n",
      "x_3_5: 0.0\n",
      "x_3_6: 0.0\n",
      "x_3_7: 0.0\n",
      "x_3_8: 0.0\n",
      "x_3_9: 0.0\n",
      "x_3_10: 0.0\n",
      "x_4_1: 1.0\n",
      "x_4_2: 1.0\n",
      "x_4_3: 0.0\n",
      "x_4_4: 0.0\n",
      "x_4_5: 1.0\n",
      "x_4_6: 0.0\n",
      "x_4_7: 1.0\n",
      "x_4_8: 0.0\n",
      "x_4_9: 0.0\n",
      "x_4_10: 1.0\n",
      "x_5_1: 0.0\n",
      "x_5_2: 0.0\n",
      "x_5_3: 0.0\n",
      "x_5_4: 0.0\n",
      "x_5_5: 0.0\n",
      "x_5_6: 0.0\n",
      "x_5_7: 0.0\n",
      "x_5_8: 0.0\n",
      "x_5_9: 0.0\n",
      "x_5_10: 0.0\n"
     ]
    }
   ],
   "source": [
    "import pyomo.environ as pyo\n",
    "from pyomo.opt import SolverFactory\n",
    "import numpy as np\n",
    "\n",
    "# Step 1: Define parameters and variables\n",
    "I = range(1, 6)  # Sample data: 5 potential facility locations\n",
    "J = range(1, 11)  # Sample data: 10 customers\n",
    "\n",
    "f = {i: np.random.randint(10, 100) for i in I}  # Sample data: Fixed activation cost for facility i\n",
    "d = {j: np.random.randint(50, 200) for j in J}  # Sample data: Demand of customer j\n",
    "s = {i: np.random.randint(200, 800) for i in I}  # Sample data: Maximum service volume of facility i\n",
    "c = {(i, j): np.random.randint(1, 10) for i in I for j in J}  # Sample data: Transportation cost for servicing customer j from facility i\n",
    "\n",
    "model = pyo.ConcreteModel()\n",
    "\n",
    "model.I = pyo.Set(initialize=I)\n",
    "model.J = pyo.Set(initialize=J)\n",
    "\n",
    "model.f = pyo.Param(model.I, initialize=f)\n",
    "model.d = pyo.Param(model.J, initialize=d)\n",
    "model.s = pyo.Param(model.I, initialize=s)\n",
    "model.c = pyo.Param(model.I, model.J, initialize=c)\n",
    "\n",
    "model.x = pyo.Var(model.I, model.J, domain=pyo.Binary)\n",
    "model.y = pyo.Var(model.I, domain=pyo.Binary)\n",
    "\n",
    "# Step 2: Define the objective function\n",
    "model.obj = pyo.Objective(\n",
    "    expr=sum(model.f[i] * model.y[i] for i in model.I) + sum(model.c[i, j] * model.x[i, j] for i in model.I for j in model.J),\n",
    "    sense=pyo.minimize\n",
    ")\n",
    "\n",
    "# Step 3: Define the constraints\n",
    "model.demand_constraint = pyo.ConstraintList()\n",
    "for j in model.J:\n",
    "    model.demand_constraint.add(sum(model.x[i, j] for i in model.I) == 1)\n",
    "\n",
    "model.service_constraint = pyo.ConstraintList()\n",
    "for i in model.I:\n",
    "    for j in model.J:\n",
    "        model.service_constraint.add(model.x[i, j] <= model.y[i])\n",
    "\n",
    "model.volume_constraint = pyo.ConstraintList()\n",
    "for i in model.I:\n",
    "    model.volume_constraint.add(sum(model.d[j] * model.x[i, j] for j in model.J) <= model.s[i] * model.y[i])\n",
    "\n",
    "# Solve the problem\n",
    "solver = SolverFactory('glpk')\n",
    "results = solver.solve(model)\n",
    "\n",
    "# Print out the results\n",
    "print(\"Objective value:\", pyo.value(model.obj))\n",
    "for i in model.I:\n",
    "    print(f\"y_{i}: {pyo.value(model.y[i])}\")\n",
    "for i in model.I:\n",
    "    for j in model.J:\n",
    "        print(f\"x_{i}_{j}: {pyo.value(model.x[i, j])}\")"
   ]
  },
  {
   "cell_type": "markdown",
   "id": "95f5c3a8",
   "metadata": {},
   "source": [
    "### Solution Correctness"
   ]
  },
  {
   "cell_type": "code",
   "execution_count": null,
   "id": "01245691",
   "metadata": {},
   "outputs": [],
   "source": []
  }
 ],
 "metadata": {
  "kernelspec": {
   "display_name": "Python 3 (ipykernel)",
   "language": "python",
   "name": "python3"
  },
  "language_info": {
   "codemirror_mode": {
    "name": "ipython",
    "version": 3
   },
   "file_extension": ".py",
   "mimetype": "text/x-python",
   "name": "python",
   "nbconvert_exporter": "python",
   "pygments_lexer": "ipython3",
   "version": "3.10.4"
  }
 },
 "nbformat": 4,
 "nbformat_minor": 5
}
