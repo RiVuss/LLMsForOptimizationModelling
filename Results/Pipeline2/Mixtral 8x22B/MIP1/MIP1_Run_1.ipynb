{
 "cells": [
  {
   "cell_type": "code",
   "execution_count": 1,
   "id": "e5c2c174",
   "metadata": {},
   "outputs": [],
   "source": [
    "import os\n",
    "from mistralai.client import MistralClient\n",
    "from mistralai.models.chat_completion import ChatMessage\n",
    "from IPython.display import display, Markdown, Latex\n",
    "from datetime import datetime"
   ]
  },
  {
   "cell_type": "code",
   "execution_count": 2,
   "id": "b0c91a62",
   "metadata": {},
   "outputs": [
    {
     "name": "stdout",
     "output_type": "stream",
     "text": [
      "Time of execution: 2024-06-12 18:49:09.229098\n"
     ]
    }
   ],
   "source": [
    "API_KEY = os.environ['MISTRAL_API_KEY']\n",
    "\n",
    "MODEL_ID = 'open-mixtral-8x22b'\n",
    "MODEL_SEED = 1\n",
    "MODEL_TEMPERATURE = 0.7\n",
    "\n",
    "file_system_prompt_1 = open(\"../system_prompt_1.txt\", \"r\")\n",
    "file_system_prompt_2 = open(\"../system_prompt_2.txt\", \"r\")\n",
    "user_prompt_1 = open(\"../user_prompt_1.txt\", \"r\")\n",
    "user_prompt_2 = open(\"../user_prompt_2.txt\", \"r\")\n",
    "user_prompt_3 = open(\"../user_prompt_3.txt\", \"r\")\n",
    "SYSTEM_PROMPT_1 = file_system_prompt_1.read()\n",
    "SYSTEM_PROMPT_2 = file_system_prompt_2.read()\n",
    "USER_PROMPT_1 = user_prompt_1.read()\n",
    "USER_PROMPT_2 = user_prompt_2.read()\n",
    "USER_PROMPT_3 = user_prompt_3.read()\n",
    "file_system_prompt_1.close()\n",
    "file_system_prompt_2.close()\n",
    "user_prompt_1.close()\n",
    "user_prompt_2.close()\n",
    "user_prompt_3.close()\n",
    "\n",
    "FILE_PATH_PROBLEM = '../../../../Datasets/MIP_1_Facility_Location_Allocation/'\n",
    "assert(FILE_PATH_PROBLEM != '../../../../Datasets/')\n",
    "file_problem_description = open(FILE_PATH_PROBLEM + 'ProblemDescription.txt', 'r')\n",
    "PROBLEM_DESCRIPTION = file_problem_description.read()\n",
    "file_problem_description.close()\n",
    "\n",
    "\n",
    "\n",
    "client = MistralClient(api_key=API_KEY)\n",
    "\n",
    "print(f'Time of execution: {datetime.now()}')"
   ]
  },
  {
   "cell_type": "markdown",
   "id": "3e540824",
   "metadata": {},
   "source": [
    "## Step 1 - Generate Mathematical Formulation "
   ]
  },
  {
   "cell_type": "code",
   "execution_count": 3,
   "id": "174c127b",
   "metadata": {},
   "outputs": [],
   "source": [
    "messages_1 = [\n",
    "    ChatMessage(role=\"system\", content=SYSTEM_PROMPT_1),\n",
    "    ChatMessage(role=\"user\", content=PROBLEM_DESCRIPTION),\n",
    "    ChatMessage(role=\"user\", content=USER_PROMPT_1)\n",
    "]\n",
    "\n",
    "response_1 = client.chat(\n",
    "    model=MODEL_ID,\n",
    "    messages=messages_1,\n",
    "    random_seed=MODEL_SEED,\n",
    "    temperature=MODEL_TEMPERATURE \n",
    ")\n",
    "\n",
    "response_1_text = response_1.choices[0].message.content"
   ]
  },
  {
   "cell_type": "code",
   "execution_count": 4,
   "id": "03616e62",
   "metadata": {},
   "outputs": [
    {
     "data": {
      "text/markdown": [
       "Step 1: Define parameters and variables\n",
       "\n",
       "Let's denote:\n",
       "- $I$ as the set of all potential facility locations.\n",
       "- $J$ as the set of all customers.\n",
       "- $f_i$ as the fixed annual activation cost for opening a facility at location $i \\in I$.\n",
       "- $c_{ij}$ as the transportation cost per unit demand for servicing customer $j \\in J$ from facility $i \\in I$.\n",
       "- $d_j$ as the annual demand of customer $j \\in J$.\n",
       "- $s_i$ as the maximum annual service volume limit for facility $i \\in I$.\n",
       "\n",
       "We also define the binary decision variables:\n",
       "- $x_i$ equals 1 if a facility is opened at location $i \\in I$, and 0 otherwise.\n",
       "- $y_{ij}$ equals 1 if customer $j \\in J$ is serviced by facility $i \\in I$, and 0 otherwise.\n",
       "\n",
       "Now we can proceed to Step 2."
      ],
      "text/plain": [
       "<IPython.core.display.Markdown object>"
      ]
     },
     "execution_count": 4,
     "metadata": {},
     "output_type": "execute_result"
    }
   ],
   "source": [
    "Markdown(response_1_text)"
   ]
  },
  {
   "cell_type": "code",
   "execution_count": 5,
   "id": "b6a33171",
   "metadata": {},
   "outputs": [
    {
     "name": "stdout",
     "output_type": "stream",
     "text": [
      "Step 1: Define parameters and variables\n",
      "\n",
      "Let's denote:\n",
      "- $I$ as the set of all potential facility locations.\n",
      "- $J$ as the set of all customers.\n",
      "- $f_i$ as the fixed annual activation cost for opening a facility at location $i \\in I$.\n",
      "- $c_{ij}$ as the transportation cost per unit demand for servicing customer $j \\in J$ from facility $i \\in I$.\n",
      "- $d_j$ as the annual demand of customer $j \\in J$.\n",
      "- $s_i$ as the maximum annual service volume limit for facility $i \\in I$.\n",
      "\n",
      "We also define the binary decision variables:\n",
      "- $x_i$ equals 1 if a facility is opened at location $i \\in I$, and 0 otherwise.\n",
      "- $y_{ij}$ equals 1 if customer $j \\in J$ is serviced by facility $i \\in I$, and 0 otherwise.\n",
      "\n",
      "Now we can proceed to Step 2.\n"
     ]
    }
   ],
   "source": [
    "print(response_1_text)"
   ]
  },
  {
   "cell_type": "code",
   "execution_count": 6,
   "id": "9af61485",
   "metadata": {},
   "outputs": [],
   "source": [
    "messages_2 = [\n",
    "    ChatMessage(role=\"system\", content=SYSTEM_PROMPT_1),\n",
    "    ChatMessage(role=\"user\", content=PROBLEM_DESCRIPTION),\n",
    "    ChatMessage(role=\"user\", content=USER_PROMPT_1),\n",
    "    ChatMessage(role=\"assistant\", content=response_1_text),\n",
    "    ChatMessage(role=\"user\", content=USER_PROMPT_2),\n",
    "]\n",
    "\n",
    "response_2 = client.chat(\n",
    "    model=MODEL_ID,\n",
    "    messages=messages_2,\n",
    "    random_seed=MODEL_SEED,\n",
    "    temperature=MODEL_TEMPERATURE \n",
    ")\n",
    "\n",
    "response_2_text = response_2.choices[0].message.content"
   ]
  },
  {
   "cell_type": "code",
   "execution_count": 7,
   "id": "ac0f2659",
   "metadata": {},
   "outputs": [
    {
     "data": {
      "text/markdown": [
       "Step 2: Define the objective function\n",
       "\n",
       "The objective function aims to minimize the overall costs, which consist of both the fixed activation costs for any opened facilities and the transportation costs for servicing customers. The objective function can be expressed as:\n",
       "\n",
       "$$\\min \\sum_{i \\in I} f_i x_i + \\sum_{i \\in I} \\sum_{j \\in J} c_{ij} d_j y_{ij}$$\n",
       "\n",
       "This objective function minimizes the total costs, which is the sum of fixed activation costs for opened facilities (first term) and transportation costs for servicing customers (second term).\n",
       "\n",
       "Now we can proceed to Step 3."
      ],
      "text/plain": [
       "<IPython.core.display.Markdown object>"
      ]
     },
     "execution_count": 7,
     "metadata": {},
     "output_type": "execute_result"
    }
   ],
   "source": [
    "Markdown(response_2_text)"
   ]
  },
  {
   "cell_type": "code",
   "execution_count": 8,
   "id": "6e93b2aa",
   "metadata": {},
   "outputs": [
    {
     "name": "stdout",
     "output_type": "stream",
     "text": [
      "Step 2: Define the objective function\n",
      "\n",
      "The objective function aims to minimize the overall costs, which consist of both the fixed activation costs for any opened facilities and the transportation costs for servicing customers. The objective function can be expressed as:\n",
      "\n",
      "$$\\min \\sum_{i \\in I} f_i x_i + \\sum_{i \\in I} \\sum_{j \\in J} c_{ij} d_j y_{ij}$$\n",
      "\n",
      "This objective function minimizes the total costs, which is the sum of fixed activation costs for opened facilities (first term) and transportation costs for servicing customers (second term).\n",
      "\n",
      "Now we can proceed to Step 3.\n"
     ]
    }
   ],
   "source": [
    "print(response_2_text)"
   ]
  },
  {
   "cell_type": "code",
   "execution_count": 9,
   "id": "d7d2d8bc",
   "metadata": {},
   "outputs": [],
   "source": [
    "messages_3 = [\n",
    "    ChatMessage(role=\"system\", content=SYSTEM_PROMPT_1),\n",
    "    ChatMessage(role=\"user\", content=PROBLEM_DESCRIPTION),\n",
    "    ChatMessage(role=\"user\", content=USER_PROMPT_1),\n",
    "    ChatMessage(role=\"assistant\", content=response_1_text),\n",
    "    ChatMessage(role=\"user\", content=USER_PROMPT_2),\n",
    "    ChatMessage(role=\"assistant\", content=response_2_text),\n",
    "    ChatMessage(role=\"user\", content=USER_PROMPT_3),\n",
    "]\n",
    "\n",
    "response_3 = client.chat(\n",
    "    model=MODEL_ID,\n",
    "    messages=messages_3,\n",
    "    random_seed=MODEL_SEED,\n",
    "    temperature=MODEL_TEMPERATURE \n",
    ")\n",
    "\n",
    "response_3_text = response_3.choices[0].message.content"
   ]
  },
  {
   "cell_type": "code",
   "execution_count": 10,
   "id": "c4588e6c",
   "metadata": {},
   "outputs": [
    {
     "data": {
      "text/markdown": [
       "Step 3: Define the constraints\n",
       "\n",
       "To ensure that each customer’s demand is met, each facility does not exceed its maximum service volume, and customers can only be serviced by a facility that is opened, we define the following constraints:\n",
       "\n",
       "1. Each customer must be serviced by exactly one facility:\n",
       "\n",
       "$$\\sum_{i \\in I} y_{ij} = 1 \\quad \\forall j \\in J$$\n",
       "\n",
       "2. A customer can only be serviced by an opened facility:\n",
       "\n",
       "$$y_{ij} \\leq x_i \\quad \\forall i \\in I, \\forall j \\in J$$\n",
       "\n",
       "3. Each facility must not exceed its maximum service volume:\n",
       "\n",
       "$$\\sum_{j \\in J} d_j y_{ij} \\leq s_i x_i \\quad \\forall i \\in I$$\n",
       "\n",
       "4. Binary integer constraints for decision variables:\n",
       "\n",
       "$$x_i \\in \\{0, 1\\} \\quad \\forall i \\in I$$\n",
       "$$y_{ij} \\in \\{0, 1\\} \\quad \\forall i \\in I, \\forall j \\in J$$\n",
       "\n",
       "These constraints ensure that the problem is solved optimally within the defined boundaries.\n",
       "\n",
       "Now that we have defined all the necessary parameters, variables, objective function, and constraints, we can proceed to combine them into a complete mathematical optimization model.\n",
       "\n",
       "Combined model:\n",
       "\n",
       "$$\\min \\sum_{i \\in I} f_i x_i + \\sum_{i \\in I} \\sum_{j \\in J} c_{ij} d_j y_{ij}$$\n",
       "subject to:\n",
       "$$\\sum_{i \\in I} y_{ij} = 1 \\quad \\forall j \\in J$$\n",
       "$$y_{ij} \\leq x_i \\quad \\forall i \\in I, \\forall j \\in J$$\n",
       "$$\\sum_{j \\in J} d_j y_{ij} \\leq s_i x_i \\quad \\forall i \\in I$$\n",
       "$$x_i \\in \\{0, 1\\} \\quad \\forall i \\in I$$\n",
       "$$y_{ij} \\in \\{0, 1\\} \\quad \\forall i \\in I, \\forall j \\in J$$\n",
       "\n",
       "This model represents a mixed-integer linear programming (MILP) problem, which can be solved using various optimization solvers."
      ],
      "text/plain": [
       "<IPython.core.display.Markdown object>"
      ]
     },
     "execution_count": 10,
     "metadata": {},
     "output_type": "execute_result"
    }
   ],
   "source": [
    "Markdown(response_3_text)"
   ]
  },
  {
   "cell_type": "code",
   "execution_count": 11,
   "id": "b74cfcbe",
   "metadata": {},
   "outputs": [
    {
     "name": "stdout",
     "output_type": "stream",
     "text": [
      "Step 3: Define the constraints\n",
      "\n",
      "To ensure that each customer’s demand is met, each facility does not exceed its maximum service volume, and customers can only be serviced by a facility that is opened, we define the following constraints:\n",
      "\n",
      "1. Each customer must be serviced by exactly one facility:\n",
      "\n",
      "$$\\sum_{i \\in I} y_{ij} = 1 \\quad \\forall j \\in J$$\n",
      "\n",
      "2. A customer can only be serviced by an opened facility:\n",
      "\n",
      "$$y_{ij} \\leq x_i \\quad \\forall i \\in I, \\forall j \\in J$$\n",
      "\n",
      "3. Each facility must not exceed its maximum service volume:\n",
      "\n",
      "$$\\sum_{j \\in J} d_j y_{ij} \\leq s_i x_i \\quad \\forall i \\in I$$\n",
      "\n",
      "4. Binary integer constraints for decision variables:\n",
      "\n",
      "$$x_i \\in \\{0, 1\\} \\quad \\forall i \\in I$$\n",
      "$$y_{ij} \\in \\{0, 1\\} \\quad \\forall i \\in I, \\forall j \\in J$$\n",
      "\n",
      "These constraints ensure that the problem is solved optimally within the defined boundaries.\n",
      "\n",
      "Now that we have defined all the necessary parameters, variables, objective function, and constraints, we can proceed to combine them into a complete mathematical optimization model.\n",
      "\n",
      "Combined model:\n",
      "\n",
      "$$\\min \\sum_{i \\in I} f_i x_i + \\sum_{i \\in I} \\sum_{j \\in J} c_{ij} d_j y_{ij}$$\n",
      "subject to:\n",
      "$$\\sum_{i \\in I} y_{ij} = 1 \\quad \\forall j \\in J$$\n",
      "$$y_{ij} \\leq x_i \\quad \\forall i \\in I, \\forall j \\in J$$\n",
      "$$\\sum_{j \\in J} d_j y_{ij} \\leq s_i x_i \\quad \\forall i \\in I$$\n",
      "$$x_i \\in \\{0, 1\\} \\quad \\forall i \\in I$$\n",
      "$$y_{ij} \\in \\{0, 1\\} \\quad \\forall i \\in I, \\forall j \\in J$$\n",
      "\n",
      "This model represents a mixed-integer linear programming (MILP) problem, which can be solved using various optimization solvers.\n"
     ]
    }
   ],
   "source": [
    "print(response_3_text)"
   ]
  },
  {
   "cell_type": "code",
   "execution_count": 12,
   "id": "e73cd25c",
   "metadata": {},
   "outputs": [
    {
     "data": {
      "text/markdown": [
       "Step 1: Define parameters and variables\n",
       "\n",
       "Let's denote:\n",
       "- $I$ as the set of all potential facility locations.\n",
       "- $J$ as the set of all customers.\n",
       "- $f_i$ as the fixed annual activation cost for opening a facility at location $i \\in I$.\n",
       "- $c_{ij}$ as the transportation cost per unit demand for servicing customer $j \\in J$ from facility $i \\in I$.\n",
       "- $d_j$ as the annual demand of customer $j \\in J$.\n",
       "- $s_i$ as the maximum annual service volume limit for facility $i \\in I$.\n",
       "\n",
       "We also define the binary decision variables:\n",
       "- $x_i$ equals 1 if a facility is opened at location $i \\in I$, and 0 otherwise.\n",
       "- $y_{ij}$ equals 1 if customer $j \\in J$ is serviced by facility $i \\in I$, and 0 otherwise.\n",
       "\n",
       "Now we can proceed to Step 2.\n",
       "Step 2: Define the objective function\n",
       "\n",
       "The objective function aims to minimize the overall costs, which consist of both the fixed activation costs for any opened facilities and the transportation costs for servicing customers. The objective function can be expressed as:\n",
       "\n",
       "$$\\min \\sum_{i \\in I} f_i x_i + \\sum_{i \\in I} \\sum_{j \\in J} c_{ij} d_j y_{ij}$$\n",
       "\n",
       "This objective function minimizes the total costs, which is the sum of fixed activation costs for opened facilities (first term) and transportation costs for servicing customers (second term).\n",
       "\n",
       "Now we can proceed to Step 3.\n",
       "Step 3: Define the constraints\n",
       "\n",
       "To ensure that each customer’s demand is met, each facility does not exceed its maximum service volume, and customers can only be serviced by a facility that is opened, we define the following constraints:\n",
       "\n",
       "1. Each customer must be serviced by exactly one facility:\n",
       "\n",
       "$$\\sum_{i \\in I} y_{ij} = 1 \\quad \\forall j \\in J$$\n",
       "\n",
       "2. A customer can only be serviced by an opened facility:\n",
       "\n",
       "$$y_{ij} \\leq x_i \\quad \\forall i \\in I, \\forall j \\in J$$\n",
       "\n",
       "3. Each facility must not exceed its maximum service volume:\n",
       "\n",
       "$$\\sum_{j \\in J} d_j y_{ij} \\leq s_i x_i \\quad \\forall i \\in I$$\n",
       "\n",
       "4. Binary integer constraints for decision variables:\n",
       "\n",
       "$$x_i \\in \\{0, 1\\} \\quad \\forall i \\in I$$\n",
       "$$y_{ij} \\in \\{0, 1\\} \\quad \\forall i \\in I, \\forall j \\in J$$\n",
       "\n",
       "These constraints ensure that the problem is solved optimally within the defined boundaries.\n",
       "\n",
       "Now that we have defined all the necessary parameters, variables, objective function, and constraints, we can proceed to combine them into a complete mathematical optimization model.\n",
       "\n",
       "Combined model:\n",
       "\n",
       "$$\\min \\sum_{i \\in I} f_i x_i + \\sum_{i \\in I} \\sum_{j \\in J} c_{ij} d_j y_{ij}$$\n",
       "subject to:\n",
       "$$\\sum_{i \\in I} y_{ij} = 1 \\quad \\forall j \\in J$$\n",
       "$$y_{ij} \\leq x_i \\quad \\forall i \\in I, \\forall j \\in J$$\n",
       "$$\\sum_{j \\in J} d_j y_{ij} \\leq s_i x_i \\quad \\forall i \\in I$$\n",
       "$$x_i \\in \\{0, 1\\} \\quad \\forall i \\in I$$\n",
       "$$y_{ij} \\in \\{0, 1\\} \\quad \\forall i \\in I, \\forall j \\in J$$\n",
       "\n",
       "This model represents a mixed-integer linear programming (MILP) problem, which can be solved using various optimization solvers."
      ],
      "text/plain": [
       "<IPython.core.display.Markdown object>"
      ]
     },
     "execution_count": 12,
     "metadata": {},
     "output_type": "execute_result"
    }
   ],
   "source": [
    "response_text = '\\n'.join([response_1_text, response_2_text, response_3_text])\n",
    "\n",
    "Markdown(response_text)"
   ]
  },
  {
   "cell_type": "code",
   "execution_count": 13,
   "id": "dd3d0006",
   "metadata": {},
   "outputs": [
    {
     "name": "stdout",
     "output_type": "stream",
     "text": [
      "Step 1: Define parameters and variables\n",
      "\n",
      "Let's denote:\n",
      "- $I$ as the set of all potential facility locations.\n",
      "- $J$ as the set of all customers.\n",
      "- $f_i$ as the fixed annual activation cost for opening a facility at location $i \\in I$.\n",
      "- $c_{ij}$ as the transportation cost per unit demand for servicing customer $j \\in J$ from facility $i \\in I$.\n",
      "- $d_j$ as the annual demand of customer $j \\in J$.\n",
      "- $s_i$ as the maximum annual service volume limit for facility $i \\in I$.\n",
      "\n",
      "We also define the binary decision variables:\n",
      "- $x_i$ equals 1 if a facility is opened at location $i \\in I$, and 0 otherwise.\n",
      "- $y_{ij}$ equals 1 if customer $j \\in J$ is serviced by facility $i \\in I$, and 0 otherwise.\n",
      "\n",
      "Now we can proceed to Step 2.\n",
      "Step 2: Define the objective function\n",
      "\n",
      "The objective function aims to minimize the overall costs, which consist of both the fixed activation costs for any opened facilities and the transportation costs for servicing customers. The objective function can be expressed as:\n",
      "\n",
      "$$\\min \\sum_{i \\in I} f_i x_i + \\sum_{i \\in I} \\sum_{j \\in J} c_{ij} d_j y_{ij}$$\n",
      "\n",
      "This objective function minimizes the total costs, which is the sum of fixed activation costs for opened facilities (first term) and transportation costs for servicing customers (second term).\n",
      "\n",
      "Now we can proceed to Step 3.\n",
      "Step 3: Define the constraints\n",
      "\n",
      "To ensure that each customer’s demand is met, each facility does not exceed its maximum service volume, and customers can only be serviced by a facility that is opened, we define the following constraints:\n",
      "\n",
      "1. Each customer must be serviced by exactly one facility:\n",
      "\n",
      "$$\\sum_{i \\in I} y_{ij} = 1 \\quad \\forall j \\in J$$\n",
      "\n",
      "2. A customer can only be serviced by an opened facility:\n",
      "\n",
      "$$y_{ij} \\leq x_i \\quad \\forall i \\in I, \\forall j \\in J$$\n",
      "\n",
      "3. Each facility must not exceed its maximum service volume:\n",
      "\n",
      "$$\\sum_{j \\in J} d_j y_{ij} \\leq s_i x_i \\quad \\forall i \\in I$$\n",
      "\n",
      "4. Binary integer constraints for decision variables:\n",
      "\n",
      "$$x_i \\in \\{0, 1\\} \\quad \\forall i \\in I$$\n",
      "$$y_{ij} \\in \\{0, 1\\} \\quad \\forall i \\in I, \\forall j \\in J$$\n",
      "\n",
      "These constraints ensure that the problem is solved optimally within the defined boundaries.\n",
      "\n",
      "Now that we have defined all the necessary parameters, variables, objective function, and constraints, we can proceed to combine them into a complete mathematical optimization model.\n",
      "\n",
      "Combined model:\n",
      "\n",
      "$$\\min \\sum_{i \\in I} f_i x_i + \\sum_{i \\in I} \\sum_{j \\in J} c_{ij} d_j y_{ij}$$\n",
      "subject to:\n",
      "$$\\sum_{i \\in I} y_{ij} = 1 \\quad \\forall j \\in J$$\n",
      "$$y_{ij} \\leq x_i \\quad \\forall i \\in I, \\forall j \\in J$$\n",
      "$$\\sum_{j \\in J} d_j y_{ij} \\leq s_i x_i \\quad \\forall i \\in I$$\n",
      "$$x_i \\in \\{0, 1\\} \\quad \\forall i \\in I$$\n",
      "$$y_{ij} \\in \\{0, 1\\} \\quad \\forall i \\in I, \\forall j \\in J$$\n",
      "\n",
      "This model represents a mixed-integer linear programming (MILP) problem, which can be solved using various optimization solvers.\n"
     ]
    }
   ],
   "source": [
    "print(response_text)"
   ]
  },
  {
   "cell_type": "markdown",
   "id": "27b5f89a",
   "metadata": {},
   "source": [
    "## Step 2 - Generate the Pyomo Code"
   ]
  },
  {
   "cell_type": "code",
   "execution_count": 14,
   "id": "a4c3312f",
   "metadata": {},
   "outputs": [],
   "source": [
    "messages_4 = [\n",
    "    ChatMessage(role=\"system\", content=SYSTEM_PROMPT_2),\n",
    "    ChatMessage(role=\"user\", content=response_text)\n",
    "]"
   ]
  },
  {
   "cell_type": "code",
   "execution_count": 15,
   "id": "4212d99d",
   "metadata": {},
   "outputs": [],
   "source": [
    "response_4 = client.chat(\n",
    "    model=MODEL_ID,\n",
    "    messages=messages_4,\n",
    "    random_seed=MODEL_SEED,\n",
    "    temperature=MODEL_TEMPERATURE\n",
    ")\n",
    "\n",
    "response_4_text = response_4.choices[0].message.content"
   ]
  },
  {
   "cell_type": "code",
   "execution_count": 16,
   "id": "c168a60b",
   "metadata": {},
   "outputs": [
    {
     "data": {
      "text/markdown": [
       "Here is a Python Pyomo code for the optimization problem:\n",
       "\n",
       "```python\n",
       "import pyomo.environ as pyo\n",
       "\n",
       "# Step 1: Define parameters and variables\n",
       "I = range(1, 6)  # Set of all potential facility locations (sample data)\n",
       "J = range(1, 11)  # Set of all customers (sample data)\n",
       "\n",
       "f = {i: 1000 * i for i in I}  # Fixed annual activation cost for opening a facility at location i (sample data)\n",
       "c = {(i, j): 10 * i + j for i in I for j in J}  # Transportation cost per unit demand for servicing customer j from facility i (sample data)\n",
       "d = {j: 100 * j for j in J}  # Annual demand of customer j (sample data)\n",
       "s = {i: 500 * i for i in I}  # Maximum annual service volume limit for facility i (sample data)\n",
       "\n",
       "model = pyo.ConcreteModel()\n",
       "\n",
       "# Define decision variables\n",
       "model.x = pyo.Var(I, domain=pyo.Binary)  # x_i equals 1 if a facility is opened at location i, and 0 otherwise\n",
       "model.y = pyo.Var(I, J, domain=pyo.Binary)  # y_ij equals 1 if customer j is serviced by facility i, and 0 otherwise\n",
       "\n",
       "# Step 2: Define the objective function\n",
       "model.obj = pyo.Objective(\n",
       "    expr=sum(f[i] * model.x[i] for i in I) + sum(c[i, j] * d[j] * model.y[i, j] for i in I for j in J),\n",
       "    sense=pyo.minimize\n",
       ")\n",
       "\n",
       "# Step 3: Define the constraints\n",
       "# Each customer must be serviced by exactly one facility\n",
       "model.c1 = pyo.ConstraintList()\n",
       "for j in J:\n",
       "    model.c1.add(sum(model.y[i, j] for i in I) == 1)\n",
       "\n",
       "# A customer can only be serviced by an opened facility\n",
       "model.c2 = pyo.ConstraintList()\n",
       "for i in I:\n",
       "    for j in J:\n",
       "        model.c2.add(model.y[i, j] <= model.x[i])\n",
       "\n",
       "# Each facility must not exceed its maximum service volume\n",
       "model.c3 = pyo.ConstraintList()\n",
       "for i in I:\n",
       "    model.c3.add(sum(d[j] * model.y[i, j] for j in J) <= s[i] * model.x[i])\n",
       "\n",
       "# Solve the model\n",
       "solver = pyo.SolverFactory('glpk')  # Using GLPK solver as an example\n",
       "solver.solve(model)\n",
       "\n",
       "# Print results\n",
       "print(\"Objective value:\", pyo.value(model.obj))\n",
       "for i in I:\n",
       "    print(f\"x[{i}] = {pyo.value(model.x[i])}\")\n",
       "for i in I:\n",
       "    for j in J:\n",
       "        print(f\"y[{i},{j}] = {pyo.value(model.y[i, j])}\")\n",
       "```\n",
       "\n",
       "This code defines the parameters and variables, sets up the objective function, adds the constraints, and then solves the optimization problem using the GLPK solver. The results are printed after solving the model."
      ],
      "text/plain": [
       "<IPython.core.display.Markdown object>"
      ]
     },
     "execution_count": 16,
     "metadata": {},
     "output_type": "execute_result"
    }
   ],
   "source": [
    "Markdown(response_4_text)"
   ]
  },
  {
   "cell_type": "code",
   "execution_count": 17,
   "id": "a380c180",
   "metadata": {},
   "outputs": [
    {
     "name": "stdout",
     "output_type": "stream",
     "text": [
      "Here is a Python Pyomo code for the optimization problem:\n",
      "\n",
      "```python\n",
      "import pyomo.environ as pyo\n",
      "\n",
      "# Step 1: Define parameters and variables\n",
      "I = range(1, 6)  # Set of all potential facility locations (sample data)\n",
      "J = range(1, 11)  # Set of all customers (sample data)\n",
      "\n",
      "f = {i: 1000 * i for i in I}  # Fixed annual activation cost for opening a facility at location i (sample data)\n",
      "c = {(i, j): 10 * i + j for i in I for j in J}  # Transportation cost per unit demand for servicing customer j from facility i (sample data)\n",
      "d = {j: 100 * j for j in J}  # Annual demand of customer j (sample data)\n",
      "s = {i: 500 * i for i in I}  # Maximum annual service volume limit for facility i (sample data)\n",
      "\n",
      "model = pyo.ConcreteModel()\n",
      "\n",
      "# Define decision variables\n",
      "model.x = pyo.Var(I, domain=pyo.Binary)  # x_i equals 1 if a facility is opened at location i, and 0 otherwise\n",
      "model.y = pyo.Var(I, J, domain=pyo.Binary)  # y_ij equals 1 if customer j is serviced by facility i, and 0 otherwise\n",
      "\n",
      "# Step 2: Define the objective function\n",
      "model.obj = pyo.Objective(\n",
      "    expr=sum(f[i] * model.x[i] for i in I) + sum(c[i, j] * d[j] * model.y[i, j] for i in I for j in J),\n",
      "    sense=pyo.minimize\n",
      ")\n",
      "\n",
      "# Step 3: Define the constraints\n",
      "# Each customer must be serviced by exactly one facility\n",
      "model.c1 = pyo.ConstraintList()\n",
      "for j in J:\n",
      "    model.c1.add(sum(model.y[i, j] for i in I) == 1)\n",
      "\n",
      "# A customer can only be serviced by an opened facility\n",
      "model.c2 = pyo.ConstraintList()\n",
      "for i in I:\n",
      "    for j in J:\n",
      "        model.c2.add(model.y[i, j] <= model.x[i])\n",
      "\n",
      "# Each facility must not exceed its maximum service volume\n",
      "model.c3 = pyo.ConstraintList()\n",
      "for i in I:\n",
      "    model.c3.add(sum(d[j] * model.y[i, j] for j in J) <= s[i] * model.x[i])\n",
      "\n",
      "# Solve the model\n",
      "solver = pyo.SolverFactory('glpk')  # Using GLPK solver as an example\n",
      "solver.solve(model)\n",
      "\n",
      "# Print results\n",
      "print(\"Objective value:\", pyo.value(model.obj))\n",
      "for i in I:\n",
      "    print(f\"x[{i}] = {pyo.value(model.x[i])}\")\n",
      "for i in I:\n",
      "    for j in J:\n",
      "        print(f\"y[{i},{j}] = {pyo.value(model.y[i, j])}\")\n",
      "```\n",
      "\n",
      "This code defines the parameters and variables, sets up the objective function, adds the constraints, and then solves the optimization problem using the GLPK solver. The results are printed after solving the model.\n"
     ]
    }
   ],
   "source": [
    "print(response_4_text)"
   ]
  },
  {
   "cell_type": "markdown",
   "id": "879cc7ae",
   "metadata": {},
   "source": [
    "### Code Executability"
   ]
  },
  {
   "cell_type": "code",
   "execution_count": 18,
   "id": "f1d9a625",
   "metadata": {},
   "outputs": [
    {
     "name": "stdout",
     "output_type": "stream",
     "text": [
      "Objective value: 228500.0\n",
      "x[1] = 1.0\n",
      "x[2] = 1.0\n",
      "x[3] = 1.0\n",
      "x[4] = 1.0\n",
      "x[5] = 1.0\n",
      "y[1,1] = 0.0\n",
      "y[1,2] = 1.0\n",
      "y[1,3] = 1.0\n",
      "y[1,4] = 0.0\n",
      "y[1,5] = 0.0\n",
      "y[1,6] = 0.0\n",
      "y[1,7] = 0.0\n",
      "y[1,8] = 0.0\n",
      "y[1,9] = 0.0\n",
      "y[1,10] = 0.0\n",
      "y[2,1] = 0.0\n",
      "y[2,2] = 0.0\n",
      "y[2,3] = 0.0\n",
      "y[2,4] = 1.0\n",
      "y[2,5] = 0.0\n",
      "y[2,6] = 1.0\n",
      "y[2,7] = 0.0\n",
      "y[2,8] = 0.0\n",
      "y[2,9] = 0.0\n",
      "y[2,10] = 0.0\n",
      "y[3,1] = 0.0\n",
      "y[3,2] = 0.0\n",
      "y[3,3] = 0.0\n",
      "y[3,4] = 0.0\n",
      "y[3,5] = 0.0\n",
      "y[3,6] = 0.0\n",
      "y[3,7] = 1.0\n",
      "y[3,8] = 1.0\n",
      "y[3,9] = 0.0\n",
      "y[3,10] = 0.0\n",
      "y[4,1] = 1.0\n",
      "y[4,2] = 0.0\n",
      "y[4,3] = 0.0\n",
      "y[4,4] = 0.0\n",
      "y[4,5] = 0.0\n",
      "y[4,6] = 0.0\n",
      "y[4,7] = 0.0\n",
      "y[4,8] = 0.0\n",
      "y[4,9] = 1.0\n",
      "y[4,10] = 1.0\n",
      "y[5,1] = 0.0\n",
      "y[5,2] = 0.0\n",
      "y[5,3] = 0.0\n",
      "y[5,4] = 0.0\n",
      "y[5,5] = 1.0\n",
      "y[5,6] = 0.0\n",
      "y[5,7] = 0.0\n",
      "y[5,8] = 0.0\n",
      "y[5,9] = 0.0\n",
      "y[5,10] = 0.0\n"
     ]
    }
   ],
   "source": [
    "import pyomo.environ as pyo\n",
    "\n",
    "# Step 1: Define parameters and variables\n",
    "I = range(1, 6)  # Set of all potential facility locations (sample data)\n",
    "J = range(1, 11)  # Set of all customers (sample data)\n",
    "\n",
    "f = {i: 1000 * i for i in I}  # Fixed annual activation cost for opening a facility at location i (sample data)\n",
    "c = {(i, j): 10 * i + j for i in I for j in J}  # Transportation cost per unit demand for servicing customer j from facility i (sample data)\n",
    "d = {j: 100 * j for j in J}  # Annual demand of customer j (sample data)\n",
    "s = {i: 500 * i for i in I}  # Maximum annual service volume limit for facility i (sample data)\n",
    "\n",
    "model = pyo.ConcreteModel()\n",
    "\n",
    "# Define decision variables\n",
    "model.x = pyo.Var(I, domain=pyo.Binary)  # x_i equals 1 if a facility is opened at location i, and 0 otherwise\n",
    "model.y = pyo.Var(I, J, domain=pyo.Binary)  # y_ij equals 1 if customer j is serviced by facility i, and 0 otherwise\n",
    "\n",
    "# Step 2: Define the objective function\n",
    "model.obj = pyo.Objective(\n",
    "    expr=sum(f[i] * model.x[i] for i in I) + sum(c[i, j] * d[j] * model.y[i, j] for i in I for j in J),\n",
    "    sense=pyo.minimize\n",
    ")\n",
    "\n",
    "# Step 3: Define the constraints\n",
    "# Each customer must be serviced by exactly one facility\n",
    "model.c1 = pyo.ConstraintList()\n",
    "for j in J:\n",
    "    model.c1.add(sum(model.y[i, j] for i in I) == 1)\n",
    "\n",
    "# A customer can only be serviced by an opened facility\n",
    "model.c2 = pyo.ConstraintList()\n",
    "for i in I:\n",
    "    for j in J:\n",
    "        model.c2.add(model.y[i, j] <= model.x[i])\n",
    "\n",
    "# Each facility must not exceed its maximum service volume\n",
    "model.c3 = pyo.ConstraintList()\n",
    "for i in I:\n",
    "    model.c3.add(sum(d[j] * model.y[i, j] for j in J) <= s[i] * model.x[i])\n",
    "\n",
    "# Solve the model\n",
    "solver = pyo.SolverFactory('glpk')  # Using GLPK solver as an example\n",
    "solver.solve(model)\n",
    "\n",
    "# Print results\n",
    "print(\"Objective value:\", pyo.value(model.obj))\n",
    "for i in I:\n",
    "    print(f\"x[{i}] = {pyo.value(model.x[i])}\")\n",
    "for i in I:\n",
    "    for j in J:\n",
    "        print(f\"y[{i},{j}] = {pyo.value(model.y[i, j])}\")"
   ]
  },
  {
   "cell_type": "markdown",
   "id": "95f5c3a8",
   "metadata": {},
   "source": [
    "### Solution Correctness"
   ]
  },
  {
   "cell_type": "code",
   "execution_count": null,
   "id": "01245691",
   "metadata": {},
   "outputs": [],
   "source": []
  }
 ],
 "metadata": {
  "kernelspec": {
   "display_name": "Python 3 (ipykernel)",
   "language": "python",
   "name": "python3"
  },
  "language_info": {
   "codemirror_mode": {
    "name": "ipython",
    "version": 3
   },
   "file_extension": ".py",
   "mimetype": "text/x-python",
   "name": "python",
   "nbconvert_exporter": "python",
   "pygments_lexer": "ipython3",
   "version": "3.10.4"
  }
 },
 "nbformat": 4,
 "nbformat_minor": 5
}
