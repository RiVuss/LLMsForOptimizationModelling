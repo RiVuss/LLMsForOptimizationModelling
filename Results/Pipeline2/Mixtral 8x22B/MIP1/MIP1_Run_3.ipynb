{
 "cells": [
  {
   "cell_type": "code",
   "execution_count": 1,
   "id": "e5c2c174",
   "metadata": {},
   "outputs": [],
   "source": [
    "import os\n",
    "from mistralai.client import MistralClient\n",
    "from mistralai.models.chat_completion import ChatMessage\n",
    "from IPython.display import display, Markdown, Latex\n",
    "from datetime import datetime"
   ]
  },
  {
   "cell_type": "code",
   "execution_count": 2,
   "id": "b0c91a62",
   "metadata": {},
   "outputs": [
    {
     "name": "stdout",
     "output_type": "stream",
     "text": [
      "Time of execution: 2024-06-12 19:03:16.859614\n"
     ]
    }
   ],
   "source": [
    "API_KEY = os.environ['MISTRAL_API_KEY']\n",
    "\n",
    "MODEL_ID = 'open-mixtral-8x22b'\n",
    "MODEL_SEED = 3\n",
    "MODEL_TEMPERATURE = 0.7\n",
    "\n",
    "file_system_prompt_1 = open(\"../system_prompt_1.txt\", \"r\")\n",
    "file_system_prompt_2 = open(\"../system_prompt_2.txt\", \"r\")\n",
    "user_prompt_1 = open(\"../user_prompt_1.txt\", \"r\")\n",
    "user_prompt_2 = open(\"../user_prompt_2.txt\", \"r\")\n",
    "user_prompt_3 = open(\"../user_prompt_3.txt\", \"r\")\n",
    "SYSTEM_PROMPT_1 = file_system_prompt_1.read()\n",
    "SYSTEM_PROMPT_2 = file_system_prompt_2.read()\n",
    "USER_PROMPT_1 = user_prompt_1.read()\n",
    "USER_PROMPT_2 = user_prompt_2.read()\n",
    "USER_PROMPT_3 = user_prompt_3.read()\n",
    "file_system_prompt_1.close()\n",
    "file_system_prompt_2.close()\n",
    "user_prompt_1.close()\n",
    "user_prompt_2.close()\n",
    "user_prompt_3.close()\n",
    "\n",
    "FILE_PATH_PROBLEM = '../../../../Datasets/MIP_1_Facility_Location_Allocation/'\n",
    "assert(FILE_PATH_PROBLEM != '../../../../Datasets/')\n",
    "file_problem_description = open(FILE_PATH_PROBLEM + 'ProblemDescription.txt', 'r')\n",
    "PROBLEM_DESCRIPTION = file_problem_description.read()\n",
    "file_problem_description.close()\n",
    "\n",
    "\n",
    "\n",
    "client = MistralClient(api_key=API_KEY)\n",
    "\n",
    "print(f'Time of execution: {datetime.now()}')"
   ]
  },
  {
   "cell_type": "markdown",
   "id": "3e540824",
   "metadata": {},
   "source": [
    "## Step 1 - Generate Mathematical Formulation "
   ]
  },
  {
   "cell_type": "code",
   "execution_count": 3,
   "id": "174c127b",
   "metadata": {},
   "outputs": [],
   "source": [
    "messages_1 = [\n",
    "    ChatMessage(role=\"system\", content=SYSTEM_PROMPT_1),\n",
    "    ChatMessage(role=\"user\", content=PROBLEM_DESCRIPTION),\n",
    "    ChatMessage(role=\"user\", content=USER_PROMPT_1)\n",
    "]\n",
    "\n",
    "response_1 = client.chat(\n",
    "    model=MODEL_ID,\n",
    "    messages=messages_1,\n",
    "    random_seed=MODEL_SEED,\n",
    "    temperature=MODEL_TEMPERATURE \n",
    ")\n",
    "\n",
    "response_1_text = response_1.choices[0].message.content"
   ]
  },
  {
   "cell_type": "code",
   "execution_count": 4,
   "id": "03616e62",
   "metadata": {},
   "outputs": [
    {
     "data": {
      "text/markdown": [
       "1. Define parameters and variables:\n",
       "\n",
       "Let's denote the following:\n",
       "- \\(i\\) and \\(j\\) as the indices for customers and potential facility locations, respectively.\n",
       "- \\(I\\) as the set of customers, and \\(J\\) as the set of potential facility locations.\n",
       "- \\(c_{ij}\\) as the transportation cost for servicing customer \\(i\\) from facility \\(j\\).\n",
       "- \\(d_i\\) as the annual demand of customer \\(i\\).\n",
       "- \\(f_j\\) as the fixed annual activation cost for opening a facility at location \\(j\\).\n",
       "- \\(s_j\\) as the maximum annual service volume for facility \\(j\\).\n",
       "- \\(x_{ij}\\) as a binary variable indicating whether customer \\(i\\) is serviced by facility \\(j\\) (\\(x_{ij} = 1\\) if customer \\(i\\) is serviced by facility \\(j\\), \\(x_{ij} = 0\\) otherwise).\n",
       "- \\(y_j\\) as a binary variable indicating whether a facility is opened at location \\(j\\) (\\(y_j = 1\\) if a facility is opened at location \\(j\\), \\(y_j = 0\\) otherwise)."
      ],
      "text/plain": [
       "<IPython.core.display.Markdown object>"
      ]
     },
     "execution_count": 4,
     "metadata": {},
     "output_type": "execute_result"
    }
   ],
   "source": [
    "Markdown(response_1_text)"
   ]
  },
  {
   "cell_type": "code",
   "execution_count": 5,
   "id": "b6a33171",
   "metadata": {},
   "outputs": [
    {
     "name": "stdout",
     "output_type": "stream",
     "text": [
      "1. Define parameters and variables:\n",
      "\n",
      "Let's denote the following:\n",
      "- \\(i\\) and \\(j\\) as the indices for customers and potential facility locations, respectively.\n",
      "- \\(I\\) as the set of customers, and \\(J\\) as the set of potential facility locations.\n",
      "- \\(c_{ij}\\) as the transportation cost for servicing customer \\(i\\) from facility \\(j\\).\n",
      "- \\(d_i\\) as the annual demand of customer \\(i\\).\n",
      "- \\(f_j\\) as the fixed annual activation cost for opening a facility at location \\(j\\).\n",
      "- \\(s_j\\) as the maximum annual service volume for facility \\(j\\).\n",
      "- \\(x_{ij}\\) as a binary variable indicating whether customer \\(i\\) is serviced by facility \\(j\\) (\\(x_{ij} = 1\\) if customer \\(i\\) is serviced by facility \\(j\\), \\(x_{ij} = 0\\) otherwise).\n",
      "- \\(y_j\\) as a binary variable indicating whether a facility is opened at location \\(j\\) (\\(y_j = 1\\) if a facility is opened at location \\(j\\), \\(y_j = 0\\) otherwise).\n"
     ]
    }
   ],
   "source": [
    "print(response_1_text)"
   ]
  },
  {
   "cell_type": "code",
   "execution_count": 6,
   "id": "9af61485",
   "metadata": {},
   "outputs": [],
   "source": [
    "messages_2 = [\n",
    "    ChatMessage(role=\"system\", content=SYSTEM_PROMPT_1),\n",
    "    ChatMessage(role=\"user\", content=PROBLEM_DESCRIPTION),\n",
    "    ChatMessage(role=\"user\", content=USER_PROMPT_1),\n",
    "    ChatMessage(role=\"assistant\", content=response_1_text),\n",
    "    ChatMessage(role=\"user\", content=USER_PROMPT_2),\n",
    "]\n",
    "\n",
    "response_2 = client.chat(\n",
    "    model=MODEL_ID,\n",
    "    messages=messages_2,\n",
    "    random_seed=MODEL_SEED,\n",
    "    temperature=MODEL_TEMPERATURE \n",
    ")\n",
    "\n",
    "response_2_text = response_2.choices[0].message.content"
   ]
  },
  {
   "cell_type": "code",
   "execution_count": 7,
   "id": "ac0f2659",
   "metadata": {},
   "outputs": [
    {
     "data": {
      "text/markdown": [
       "2. Define the objective function:\n",
       "\n",
       "The objective function represents the overall costs, which include both the fixed activation costs for any opened facilities and the transportation costs for servicing customers. The goal is to minimize this overall cost.\n",
       "\n",
       "The mathematical representation of the objective function is as follows:\n",
       "\n",
       "\\[\n",
       "\\text{Minimize} \\quad Z = \\sum_{j \\in J} f_j y_j + \\sum_{i \\in I} \\sum_{j \\in J} c_{ij} d_i x_{ij}\n",
       "\\]\n",
       "\n",
       "The first term, \\(\\sum_{j \\in J} f_j y_j\\), represents the total fixed activation costs for opening facilities. The second term, \\(\\sum_{i \\in I} \\sum_{j \\in J} c_{ij} d_i x_{ij}\\), represents the total transportation costs for servicing customers."
      ],
      "text/plain": [
       "<IPython.core.display.Markdown object>"
      ]
     },
     "execution_count": 7,
     "metadata": {},
     "output_type": "execute_result"
    }
   ],
   "source": [
    "Markdown(response_2_text)"
   ]
  },
  {
   "cell_type": "code",
   "execution_count": 8,
   "id": "6e93b2aa",
   "metadata": {},
   "outputs": [
    {
     "name": "stdout",
     "output_type": "stream",
     "text": [
      "2. Define the objective function:\n",
      "\n",
      "The objective function represents the overall costs, which include both the fixed activation costs for any opened facilities and the transportation costs for servicing customers. The goal is to minimize this overall cost.\n",
      "\n",
      "The mathematical representation of the objective function is as follows:\n",
      "\n",
      "\\[\n",
      "\\text{Minimize} \\quad Z = \\sum_{j \\in J} f_j y_j + \\sum_{i \\in I} \\sum_{j \\in J} c_{ij} d_i x_{ij}\n",
      "\\]\n",
      "\n",
      "The first term, \\(\\sum_{j \\in J} f_j y_j\\), represents the total fixed activation costs for opening facilities. The second term, \\(\\sum_{i \\in I} \\sum_{j \\in J} c_{ij} d_i x_{ij}\\), represents the total transportation costs for servicing customers.\n"
     ]
    }
   ],
   "source": [
    "print(response_2_text)"
   ]
  },
  {
   "cell_type": "code",
   "execution_count": 9,
   "id": "d7d2d8bc",
   "metadata": {},
   "outputs": [],
   "source": [
    "messages_3 = [\n",
    "    ChatMessage(role=\"system\", content=SYSTEM_PROMPT_1),\n",
    "    ChatMessage(role=\"user\", content=PROBLEM_DESCRIPTION),\n",
    "    ChatMessage(role=\"user\", content=USER_PROMPT_1),\n",
    "    ChatMessage(role=\"assistant\", content=response_1_text),\n",
    "    ChatMessage(role=\"user\", content=USER_PROMPT_2),\n",
    "    ChatMessage(role=\"assistant\", content=response_2_text),\n",
    "    ChatMessage(role=\"user\", content=USER_PROMPT_3),\n",
    "]\n",
    "\n",
    "response_3 = client.chat(\n",
    "    model=MODEL_ID,\n",
    "    messages=messages_3,\n",
    "    random_seed=MODEL_SEED,\n",
    "    temperature=MODEL_TEMPERATURE \n",
    ")\n",
    "\n",
    "response_3_text = response_3.choices[0].message.content"
   ]
  },
  {
   "cell_type": "code",
   "execution_count": 10,
   "id": "c4588e6c",
   "metadata": {},
   "outputs": [
    {
     "data": {
      "text/markdown": [
       "3. Define the constraints:\n",
       "\n",
       "The constraints ensure that each customer's demand is met, each facility does not exceed its maximum service volume, and customers can only be serviced by an opened facility.\n",
       "\n",
       "(i) Each customer must be serviced by exactly one facility:\n",
       "\\[\n",
       "\\sum_{j \\in J} x_{ij} = 1 \\quad \\forall i \\in I\n",
       "\\]\n",
       "\n",
       "(ii) A facility is opened only if it services at least one customer:\n",
       "\\[\n",
       "x_{ij} \\leq y_j \\quad \\forall i \\in I, j \\in J\n",
       "\\]\n",
       "\n",
       "(iii) The service volume at each facility does not exceed its maximum annual limit:\n",
       "\\[\n",
       "\\sum_{i \\in I} d_i x_{ij} \\leq s_j y_j \\quad \\forall j \\in J\n",
       "\\]\n",
       "\n",
       "(iv) All variables are binary:\n",
       "\\[\n",
       "x_{ij} \\in \\{0, 1\\} \\quad \\forall i \\in I, j \\in J\n",
       "\\]\n",
       "\\[\n",
       "y_j \\in \\{0, 1\\} \\quad \\forall j \\in J\n",
       "\\]\n",
       "\n",
       "This completes the mathematical optimization model for the problem. The model is a mixed-integer linear program (MILP), which can be solved using standard optimization techniques and software packages."
      ],
      "text/plain": [
       "<IPython.core.display.Markdown object>"
      ]
     },
     "execution_count": 10,
     "metadata": {},
     "output_type": "execute_result"
    }
   ],
   "source": [
    "Markdown(response_3_text)"
   ]
  },
  {
   "cell_type": "code",
   "execution_count": 11,
   "id": "b74cfcbe",
   "metadata": {},
   "outputs": [
    {
     "name": "stdout",
     "output_type": "stream",
     "text": [
      "3. Define the constraints:\n",
      "\n",
      "The constraints ensure that each customer's demand is met, each facility does not exceed its maximum service volume, and customers can only be serviced by an opened facility.\n",
      "\n",
      "(i) Each customer must be serviced by exactly one facility:\n",
      "\\[\n",
      "\\sum_{j \\in J} x_{ij} = 1 \\quad \\forall i \\in I\n",
      "\\]\n",
      "\n",
      "(ii) A facility is opened only if it services at least one customer:\n",
      "\\[\n",
      "x_{ij} \\leq y_j \\quad \\forall i \\in I, j \\in J\n",
      "\\]\n",
      "\n",
      "(iii) The service volume at each facility does not exceed its maximum annual limit:\n",
      "\\[\n",
      "\\sum_{i \\in I} d_i x_{ij} \\leq s_j y_j \\quad \\forall j \\in J\n",
      "\\]\n",
      "\n",
      "(iv) All variables are binary:\n",
      "\\[\n",
      "x_{ij} \\in \\{0, 1\\} \\quad \\forall i \\in I, j \\in J\n",
      "\\]\n",
      "\\[\n",
      "y_j \\in \\{0, 1\\} \\quad \\forall j \\in J\n",
      "\\]\n",
      "\n",
      "This completes the mathematical optimization model for the problem. The model is a mixed-integer linear program (MILP), which can be solved using standard optimization techniques and software packages.\n"
     ]
    }
   ],
   "source": [
    "print(response_3_text)"
   ]
  },
  {
   "cell_type": "code",
   "execution_count": 12,
   "id": "e73cd25c",
   "metadata": {},
   "outputs": [
    {
     "data": {
      "text/markdown": [
       "1. Define parameters and variables:\n",
       "\n",
       "Let's denote the following:\n",
       "- \\(i\\) and \\(j\\) as the indices for customers and potential facility locations, respectively.\n",
       "- \\(I\\) as the set of customers, and \\(J\\) as the set of potential facility locations.\n",
       "- \\(c_{ij}\\) as the transportation cost for servicing customer \\(i\\) from facility \\(j\\).\n",
       "- \\(d_i\\) as the annual demand of customer \\(i\\).\n",
       "- \\(f_j\\) as the fixed annual activation cost for opening a facility at location \\(j\\).\n",
       "- \\(s_j\\) as the maximum annual service volume for facility \\(j\\).\n",
       "- \\(x_{ij}\\) as a binary variable indicating whether customer \\(i\\) is serviced by facility \\(j\\) (\\(x_{ij} = 1\\) if customer \\(i\\) is serviced by facility \\(j\\), \\(x_{ij} = 0\\) otherwise).\n",
       "- \\(y_j\\) as a binary variable indicating whether a facility is opened at location \\(j\\) (\\(y_j = 1\\) if a facility is opened at location \\(j\\), \\(y_j = 0\\) otherwise).\n",
       "2. Define the objective function:\n",
       "\n",
       "The objective function represents the overall costs, which include both the fixed activation costs for any opened facilities and the transportation costs for servicing customers. The goal is to minimize this overall cost.\n",
       "\n",
       "The mathematical representation of the objective function is as follows:\n",
       "\n",
       "\\[\n",
       "\\text{Minimize} \\quad Z = \\sum_{j \\in J} f_j y_j + \\sum_{i \\in I} \\sum_{j \\in J} c_{ij} d_i x_{ij}\n",
       "\\]\n",
       "\n",
       "The first term, \\(\\sum_{j \\in J} f_j y_j\\), represents the total fixed activation costs for opening facilities. The second term, \\(\\sum_{i \\in I} \\sum_{j \\in J} c_{ij} d_i x_{ij}\\), represents the total transportation costs for servicing customers.\n",
       "3. Define the constraints:\n",
       "\n",
       "The constraints ensure that each customer's demand is met, each facility does not exceed its maximum service volume, and customers can only be serviced by an opened facility.\n",
       "\n",
       "(i) Each customer must be serviced by exactly one facility:\n",
       "\\[\n",
       "\\sum_{j \\in J} x_{ij} = 1 \\quad \\forall i \\in I\n",
       "\\]\n",
       "\n",
       "(ii) A facility is opened only if it services at least one customer:\n",
       "\\[\n",
       "x_{ij} \\leq y_j \\quad \\forall i \\in I, j \\in J\n",
       "\\]\n",
       "\n",
       "(iii) The service volume at each facility does not exceed its maximum annual limit:\n",
       "\\[\n",
       "\\sum_{i \\in I} d_i x_{ij} \\leq s_j y_j \\quad \\forall j \\in J\n",
       "\\]\n",
       "\n",
       "(iv) All variables are binary:\n",
       "\\[\n",
       "x_{ij} \\in \\{0, 1\\} \\quad \\forall i \\in I, j \\in J\n",
       "\\]\n",
       "\\[\n",
       "y_j \\in \\{0, 1\\} \\quad \\forall j \\in J\n",
       "\\]\n",
       "\n",
       "This completes the mathematical optimization model for the problem. The model is a mixed-integer linear program (MILP), which can be solved using standard optimization techniques and software packages."
      ],
      "text/plain": [
       "<IPython.core.display.Markdown object>"
      ]
     },
     "execution_count": 12,
     "metadata": {},
     "output_type": "execute_result"
    }
   ],
   "source": [
    "response_text = '\\n'.join([response_1_text, response_2_text, response_3_text])\n",
    "\n",
    "Markdown(response_text)"
   ]
  },
  {
   "cell_type": "code",
   "execution_count": 13,
   "id": "dd3d0006",
   "metadata": {},
   "outputs": [
    {
     "name": "stdout",
     "output_type": "stream",
     "text": [
      "1. Define parameters and variables:\n",
      "\n",
      "Let's denote the following:\n",
      "- \\(i\\) and \\(j\\) as the indices for customers and potential facility locations, respectively.\n",
      "- \\(I\\) as the set of customers, and \\(J\\) as the set of potential facility locations.\n",
      "- \\(c_{ij}\\) as the transportation cost for servicing customer \\(i\\) from facility \\(j\\).\n",
      "- \\(d_i\\) as the annual demand of customer \\(i\\).\n",
      "- \\(f_j\\) as the fixed annual activation cost for opening a facility at location \\(j\\).\n",
      "- \\(s_j\\) as the maximum annual service volume for facility \\(j\\).\n",
      "- \\(x_{ij}\\) as a binary variable indicating whether customer \\(i\\) is serviced by facility \\(j\\) (\\(x_{ij} = 1\\) if customer \\(i\\) is serviced by facility \\(j\\), \\(x_{ij} = 0\\) otherwise).\n",
      "- \\(y_j\\) as a binary variable indicating whether a facility is opened at location \\(j\\) (\\(y_j = 1\\) if a facility is opened at location \\(j\\), \\(y_j = 0\\) otherwise).\n",
      "2. Define the objective function:\n",
      "\n",
      "The objective function represents the overall costs, which include both the fixed activation costs for any opened facilities and the transportation costs for servicing customers. The goal is to minimize this overall cost.\n",
      "\n",
      "The mathematical representation of the objective function is as follows:\n",
      "\n",
      "\\[\n",
      "\\text{Minimize} \\quad Z = \\sum_{j \\in J} f_j y_j + \\sum_{i \\in I} \\sum_{j \\in J} c_{ij} d_i x_{ij}\n",
      "\\]\n",
      "\n",
      "The first term, \\(\\sum_{j \\in J} f_j y_j\\), represents the total fixed activation costs for opening facilities. The second term, \\(\\sum_{i \\in I} \\sum_{j \\in J} c_{ij} d_i x_{ij}\\), represents the total transportation costs for servicing customers.\n",
      "3. Define the constraints:\n",
      "\n",
      "The constraints ensure that each customer's demand is met, each facility does not exceed its maximum service volume, and customers can only be serviced by an opened facility.\n",
      "\n",
      "(i) Each customer must be serviced by exactly one facility:\n",
      "\\[\n",
      "\\sum_{j \\in J} x_{ij} = 1 \\quad \\forall i \\in I\n",
      "\\]\n",
      "\n",
      "(ii) A facility is opened only if it services at least one customer:\n",
      "\\[\n",
      "x_{ij} \\leq y_j \\quad \\forall i \\in I, j \\in J\n",
      "\\]\n",
      "\n",
      "(iii) The service volume at each facility does not exceed its maximum annual limit:\n",
      "\\[\n",
      "\\sum_{i \\in I} d_i x_{ij} \\leq s_j y_j \\quad \\forall j \\in J\n",
      "\\]\n",
      "\n",
      "(iv) All variables are binary:\n",
      "\\[\n",
      "x_{ij} \\in \\{0, 1\\} \\quad \\forall i \\in I, j \\in J\n",
      "\\]\n",
      "\\[\n",
      "y_j \\in \\{0, 1\\} \\quad \\forall j \\in J\n",
      "\\]\n",
      "\n",
      "This completes the mathematical optimization model for the problem. The model is a mixed-integer linear program (MILP), which can be solved using standard optimization techniques and software packages.\n"
     ]
    }
   ],
   "source": [
    "print(response_text)"
   ]
  },
  {
   "cell_type": "markdown",
   "id": "27b5f89a",
   "metadata": {},
   "source": [
    "## Step 2 - Generate the Pyomo Code"
   ]
  },
  {
   "cell_type": "code",
   "execution_count": 14,
   "id": "a4c3312f",
   "metadata": {},
   "outputs": [],
   "source": [
    "messages_4 = [\n",
    "    ChatMessage(role=\"system\", content=SYSTEM_PROMPT_2),\n",
    "    ChatMessage(role=\"user\", content=response_text)\n",
    "]"
   ]
  },
  {
   "cell_type": "code",
   "execution_count": 15,
   "id": "4212d99d",
   "metadata": {},
   "outputs": [],
   "source": [
    "response_4 = client.chat(\n",
    "    model=MODEL_ID,\n",
    "    messages=messages_4,\n",
    "    random_seed=MODEL_SEED,\n",
    "    temperature=MODEL_TEMPERATURE\n",
    ")\n",
    "\n",
    "response_4_text = response_4.choices[0].message.content"
   ]
  },
  {
   "cell_type": "code",
   "execution_count": 16,
   "id": "c168a60b",
   "metadata": {},
   "outputs": [
    {
     "data": {
      "text/markdown": [
       "Here is the Python code using Pyomo to model the given optimization problem. I will use sample data for the parameters \\(c_{ij}\\), \\(d_i\\), \\(f_j\\), and \\(s_j\\).\n",
       "\n",
       "```python\n",
       "import pyomo.environ as pyo\n",
       "\n",
       "# Sample data (Replace with actual data)\n",
       "I = range(1, 6)  # Set of customers\n",
       "J = range(1, 4)  # Set of potential facility locations\n",
       "\n",
       "c = {  # Transportation cost\n",
       "    (1, 1): 10, (1, 2): 20, (1, 3): 30,\n",
       "    (2, 1): 40, (2, 2): 50, (2, 3): 60,\n",
       "    (3, 1): 70, (3, 2): 80, (3, 3): 90,\n",
       "    (4, 1): 100, (4, 2): 110, (4, 3): 120,\n",
       "    (5, 1): 130, (5, 2): 140, (5, 3): 150\n",
       "}\n",
       "\n",
       "d = {  # Annual demand\n",
       "    1: 1000,\n",
       "    2: 2000,\n",
       "    3: 3000,\n",
       "    4: 4000,\n",
       "    5: 5000\n",
       "}\n",
       "\n",
       "f = {  # Fixed activation cost\n",
       "    1: 10000,\n",
       "    2: 20000,\n",
       "    3: 30000\n",
       "}\n",
       "\n",
       "s = {  # Maximum service volume\n",
       "    1: 20000,\n",
       "    2: 30000,\n",
       "    3: 40000\n",
       "}\n",
       "\n",
       "model = pyo.AbstractModel()\n",
       "\n",
       "model.I = pyo.Set(initialize=I)\n",
       "model.J = pyo.Set(initialize=J)\n",
       "\n",
       "model.c = pyo.Param(model.I, model.J, initialize=c)\n",
       "model.d = pyo.Param(model.I, initialize=d)\n",
       "model.f = pyo.Param(model.J, initialize=f)\n",
       "model.s = pyo.Param(model.J, initialize=s)\n",
       "\n",
       "model.x = pyo.Var(model.I, model.J, domain=pyo.Binary)\n",
       "model.y = pyo.Var(model.J, domain=pyo.Binary)\n",
       "\n",
       "def obj_rule(m):\n",
       "    return sum(m.f[j] * m.y[j] for j in m.J) + sum(m.c[i, j] * m.d[i] * m.x[i, j] for i in m.I for j in m.J)\n",
       "\n",
       "model.obj = pyo.Objective(rule=obj_rule, sense=pyo.minimize)\n",
       "\n",
       "def customer_served_rule(m, i):\n",
       "    return sum(m.x[i, j] for j in m.J) == 1\n",
       "\n",
       "model.customer_served_constraint = pyo.Constraint(model.I, rule=customer_served_rule)\n",
       "\n",
       "def open_facility_rule(m, i, j):\n",
       "    return m.x[i, j] <= m.y[j]\n",
       "\n",
       "model.open_facility_constraint = pyo.Constraint(model.I, model.J, rule=open_facility_rule)\n",
       "\n",
       "def service_volume_rule(m, j):\n",
       "    return sum(m.d[i] * m.x[i, j] for i in m.I) <= m.s[j] * m.y[j]\n",
       "\n",
       "model.service_volume_constraint = pyo.Constraint(model.J, rule=service_volume_rule)\n",
       "\n",
       "# Solve the model\n",
       "solver = pyo.SolverFactory('glpk')\n",
       "results = solver.solve(model)\n",
       "\n",
       "# Print the results\n",
       "print(\"Objective value:\", pyo.value(model.obj))\n",
       "for j in model.J:\n",
       "    print(f\"Open facility at location {j}: {pyo.value(model.y[j])}\")\n",
       "for i in model.I:\n",
       "    for j in model.J:\n",
       "        if pyo.value(model.x[i, j]) > 0:\n",
       "            print(f\"Customer {i} is serviced by facility {j}\")\n",
       "```"
      ],
      "text/plain": [
       "<IPython.core.display.Markdown object>"
      ]
     },
     "execution_count": 16,
     "metadata": {},
     "output_type": "execute_result"
    }
   ],
   "source": [
    "Markdown(response_4_text)"
   ]
  },
  {
   "cell_type": "code",
   "execution_count": 17,
   "id": "a380c180",
   "metadata": {},
   "outputs": [
    {
     "name": "stdout",
     "output_type": "stream",
     "text": [
      "Here is the Python code using Pyomo to model the given optimization problem. I will use sample data for the parameters \\(c_{ij}\\), \\(d_i\\), \\(f_j\\), and \\(s_j\\).\n",
      "\n",
      "```python\n",
      "import pyomo.environ as pyo\n",
      "\n",
      "# Sample data (Replace with actual data)\n",
      "I = range(1, 6)  # Set of customers\n",
      "J = range(1, 4)  # Set of potential facility locations\n",
      "\n",
      "c = {  # Transportation cost\n",
      "    (1, 1): 10, (1, 2): 20, (1, 3): 30,\n",
      "    (2, 1): 40, (2, 2): 50, (2, 3): 60,\n",
      "    (3, 1): 70, (3, 2): 80, (3, 3): 90,\n",
      "    (4, 1): 100, (4, 2): 110, (4, 3): 120,\n",
      "    (5, 1): 130, (5, 2): 140, (5, 3): 150\n",
      "}\n",
      "\n",
      "d = {  # Annual demand\n",
      "    1: 1000,\n",
      "    2: 2000,\n",
      "    3: 3000,\n",
      "    4: 4000,\n",
      "    5: 5000\n",
      "}\n",
      "\n",
      "f = {  # Fixed activation cost\n",
      "    1: 10000,\n",
      "    2: 20000,\n",
      "    3: 30000\n",
      "}\n",
      "\n",
      "s = {  # Maximum service volume\n",
      "    1: 20000,\n",
      "    2: 30000,\n",
      "    3: 40000\n",
      "}\n",
      "\n",
      "model = pyo.AbstractModel()\n",
      "\n",
      "model.I = pyo.Set(initialize=I)\n",
      "model.J = pyo.Set(initialize=J)\n",
      "\n",
      "model.c = pyo.Param(model.I, model.J, initialize=c)\n",
      "model.d = pyo.Param(model.I, initialize=d)\n",
      "model.f = pyo.Param(model.J, initialize=f)\n",
      "model.s = pyo.Param(model.J, initialize=s)\n",
      "\n",
      "model.x = pyo.Var(model.I, model.J, domain=pyo.Binary)\n",
      "model.y = pyo.Var(model.J, domain=pyo.Binary)\n",
      "\n",
      "def obj_rule(m):\n",
      "    return sum(m.f[j] * m.y[j] for j in m.J) + sum(m.c[i, j] * m.d[i] * m.x[i, j] for i in m.I for j in m.J)\n",
      "\n",
      "model.obj = pyo.Objective(rule=obj_rule, sense=pyo.minimize)\n",
      "\n",
      "def customer_served_rule(m, i):\n",
      "    return sum(m.x[i, j] for j in m.J) == 1\n",
      "\n",
      "model.customer_served_constraint = pyo.Constraint(model.I, rule=customer_served_rule)\n",
      "\n",
      "def open_facility_rule(m, i, j):\n",
      "    return m.x[i, j] <= m.y[j]\n",
      "\n",
      "model.open_facility_constraint = pyo.Constraint(model.I, model.J, rule=open_facility_rule)\n",
      "\n",
      "def service_volume_rule(m, j):\n",
      "    return sum(m.d[i] * m.x[i, j] for i in m.I) <= m.s[j] * m.y[j]\n",
      "\n",
      "model.service_volume_constraint = pyo.Constraint(model.J, rule=service_volume_rule)\n",
      "\n",
      "# Solve the model\n",
      "solver = pyo.SolverFactory('glpk')\n",
      "results = solver.solve(model)\n",
      "\n",
      "# Print the results\n",
      "print(\"Objective value:\", pyo.value(model.obj))\n",
      "for j in model.J:\n",
      "    print(f\"Open facility at location {j}: {pyo.value(model.y[j])}\")\n",
      "for i in model.I:\n",
      "    for j in model.J:\n",
      "        if pyo.value(model.x[i, j]) > 0:\n",
      "            print(f\"Customer {i} is serviced by facility {j}\")\n",
      "```\n"
     ]
    }
   ],
   "source": [
    "print(response_4_text)"
   ]
  },
  {
   "cell_type": "markdown",
   "id": "879cc7ae",
   "metadata": {},
   "source": [
    "### Code Executability"
   ]
  },
  {
   "cell_type": "code",
   "execution_count": 18,
   "id": "f1d9a625",
   "metadata": {},
   "outputs": [
    {
     "ename": "RuntimeError",
     "evalue": "Attempting to solve model=unknown with unconstructed component(s)",
     "output_type": "error",
     "traceback": [
      "\u001b[1;31m---------------------------------------------------------------------------\u001b[0m",
      "\u001b[1;31mRuntimeError\u001b[0m                              Traceback (most recent call last)",
      "Input \u001b[1;32mIn [18]\u001b[0m, in \u001b[0;36m<cell line: 70>\u001b[1;34m()\u001b[0m\n\u001b[0;32m     68\u001b[0m \u001b[38;5;66;03m# Solve the model\u001b[39;00m\n\u001b[0;32m     69\u001b[0m solver \u001b[38;5;241m=\u001b[39m pyo\u001b[38;5;241m.\u001b[39mSolverFactory(\u001b[38;5;124m'\u001b[39m\u001b[38;5;124mglpk\u001b[39m\u001b[38;5;124m'\u001b[39m)\n\u001b[1;32m---> 70\u001b[0m results \u001b[38;5;241m=\u001b[39m \u001b[43msolver\u001b[49m\u001b[38;5;241;43m.\u001b[39;49m\u001b[43msolve\u001b[49m\u001b[43m(\u001b[49m\u001b[43mmodel\u001b[49m\u001b[43m)\u001b[49m\n\u001b[0;32m     72\u001b[0m \u001b[38;5;66;03m# Print the results\u001b[39;00m\n\u001b[0;32m     73\u001b[0m \u001b[38;5;28mprint\u001b[39m(\u001b[38;5;124m\"\u001b[39m\u001b[38;5;124mObjective value:\u001b[39m\u001b[38;5;124m\"\u001b[39m, pyo\u001b[38;5;241m.\u001b[39mvalue(model\u001b[38;5;241m.\u001b[39mobj))\n",
      "File \u001b[1;32m~\\AppData\\Roaming\\Python\\Python310\\site-packages\\pyomo\\opt\\base\\solvers.py:527\u001b[0m, in \u001b[0;36mOptSolver.solve\u001b[1;34m(self, *args, **kwds)\u001b[0m\n\u001b[0;32m    525\u001b[0m \u001b[38;5;28;01mif\u001b[39;00m \u001b[38;5;28misinstance\u001b[39m(arg, _BlockData):\n\u001b[0;32m    526\u001b[0m     \u001b[38;5;28;01mif\u001b[39;00m \u001b[38;5;129;01mnot\u001b[39;00m arg\u001b[38;5;241m.\u001b[39mis_constructed():\n\u001b[1;32m--> 527\u001b[0m         \u001b[38;5;28;01mraise\u001b[39;00m \u001b[38;5;167;01mRuntimeError\u001b[39;00m(\n\u001b[0;32m    528\u001b[0m             \u001b[38;5;124m\"\u001b[39m\u001b[38;5;124mAttempting to solve model=\u001b[39m\u001b[38;5;132;01m%s\u001b[39;00m\u001b[38;5;124m with unconstructed \u001b[39m\u001b[38;5;124m\"\u001b[39m\n\u001b[0;32m    529\u001b[0m             \u001b[38;5;124m\"\u001b[39m\u001b[38;5;124mcomponent(s)\u001b[39m\u001b[38;5;124m\"\u001b[39m \u001b[38;5;241m%\u001b[39m (arg\u001b[38;5;241m.\u001b[39mname,) )\n\u001b[0;32m    531\u001b[0m _model \u001b[38;5;241m=\u001b[39m arg\n\u001b[0;32m    532\u001b[0m \u001b[38;5;66;03m# import suffixes must be on the top-level model\u001b[39;00m\n",
      "\u001b[1;31mRuntimeError\u001b[0m: Attempting to solve model=unknown with unconstructed component(s)"
     ]
    }
   ],
   "source": [
    "import pyomo.environ as pyo\n",
    "\n",
    "# Sample data (Replace with actual data)\n",
    "I = range(1, 6)  # Set of customers\n",
    "J = range(1, 4)  # Set of potential facility locations\n",
    "\n",
    "c = {  # Transportation cost\n",
    "    (1, 1): 10, (1, 2): 20, (1, 3): 30,\n",
    "    (2, 1): 40, (2, 2): 50, (2, 3): 60,\n",
    "    (3, 1): 70, (3, 2): 80, (3, 3): 90,\n",
    "    (4, 1): 100, (4, 2): 110, (4, 3): 120,\n",
    "    (5, 1): 130, (5, 2): 140, (5, 3): 150\n",
    "}\n",
    "\n",
    "d = {  # Annual demand\n",
    "    1: 1000,\n",
    "    2: 2000,\n",
    "    3: 3000,\n",
    "    4: 4000,\n",
    "    5: 5000\n",
    "}\n",
    "\n",
    "f = {  # Fixed activation cost\n",
    "    1: 10000,\n",
    "    2: 20000,\n",
    "    3: 30000\n",
    "}\n",
    "\n",
    "s = {  # Maximum service volume\n",
    "    1: 20000,\n",
    "    2: 30000,\n",
    "    3: 40000\n",
    "}\n",
    "\n",
    "model = pyo.AbstractModel()\n",
    "\n",
    "model.I = pyo.Set(initialize=I)\n",
    "model.J = pyo.Set(initialize=J)\n",
    "\n",
    "model.c = pyo.Param(model.I, model.J, initialize=c)\n",
    "model.d = pyo.Param(model.I, initialize=d)\n",
    "model.f = pyo.Param(model.J, initialize=f)\n",
    "model.s = pyo.Param(model.J, initialize=s)\n",
    "\n",
    "model.x = pyo.Var(model.I, model.J, domain=pyo.Binary)\n",
    "model.y = pyo.Var(model.J, domain=pyo.Binary)\n",
    "\n",
    "def obj_rule(m):\n",
    "    return sum(m.f[j] * m.y[j] for j in m.J) + sum(m.c[i, j] * m.d[i] * m.x[i, j] for i in m.I for j in m.J)\n",
    "\n",
    "model.obj = pyo.Objective(rule=obj_rule, sense=pyo.minimize)\n",
    "\n",
    "def customer_served_rule(m, i):\n",
    "    return sum(m.x[i, j] for j in m.J) == 1\n",
    "\n",
    "model.customer_served_constraint = pyo.Constraint(model.I, rule=customer_served_rule)\n",
    "\n",
    "def open_facility_rule(m, i, j):\n",
    "    return m.x[i, j] <= m.y[j]\n",
    "\n",
    "model.open_facility_constraint = pyo.Constraint(model.I, model.J, rule=open_facility_rule)\n",
    "\n",
    "def service_volume_rule(m, j):\n",
    "    return sum(m.d[i] * m.x[i, j] for i in m.I) <= m.s[j] * m.y[j]\n",
    "\n",
    "model.service_volume_constraint = pyo.Constraint(model.J, rule=service_volume_rule)\n",
    "\n",
    "# Solve the model\n",
    "solver = pyo.SolverFactory('glpk')\n",
    "results = solver.solve(model)\n",
    "\n",
    "# Print the results\n",
    "print(\"Objective value:\", pyo.value(model.obj))\n",
    "for j in model.J:\n",
    "    print(f\"Open facility at location {j}: {pyo.value(model.y[j])}\")\n",
    "for i in model.I:\n",
    "    for j in model.J:\n",
    "        if pyo.value(model.x[i, j]) > 0:\n",
    "            print(f\"Customer {i} is serviced by facility {j}\")"
   ]
  },
  {
   "cell_type": "markdown",
   "id": "95f5c3a8",
   "metadata": {},
   "source": [
    "### Solution Correctness"
   ]
  },
  {
   "cell_type": "code",
   "execution_count": 19,
   "id": "01245691",
   "metadata": {},
   "outputs": [
    {
     "name": "stdout",
     "output_type": "stream",
     "text": [
      "Objective value: 1360000.0\n",
      "Open facility at location 1: 1.0\n",
      "Open facility at location 2: 0.0\n",
      "Open facility at location 3: 0.0\n",
      "Customer 1 is serviced by facility 1\n",
      "Customer 2 is serviced by facility 1\n",
      "Customer 3 is serviced by facility 1\n",
      "Customer 4 is serviced by facility 1\n",
      "Customer 5 is serviced by facility 1\n"
     ]
    }
   ],
   "source": [
    "import pyomo.environ as pyo\n",
    "\n",
    "# Sample data (Replace with actual data)\n",
    "I = range(1, 6)  # Set of customers\n",
    "J = range(1, 4)  # Set of potential facility locations\n",
    "\n",
    "c = {  # Transportation cost\n",
    "    (1, 1): 10, (1, 2): 20, (1, 3): 30,\n",
    "    (2, 1): 40, (2, 2): 50, (2, 3): 60,\n",
    "    (3, 1): 70, (3, 2): 80, (3, 3): 90,\n",
    "    (4, 1): 100, (4, 2): 110, (4, 3): 120,\n",
    "    (5, 1): 130, (5, 2): 140, (5, 3): 150\n",
    "}\n",
    "\n",
    "d = {  # Annual demand\n",
    "    1: 1000,\n",
    "    2: 2000,\n",
    "    3: 3000,\n",
    "    4: 4000,\n",
    "    5: 5000\n",
    "}\n",
    "\n",
    "f = {  # Fixed activation cost\n",
    "    1: 10000,\n",
    "    2: 20000,\n",
    "    3: 30000\n",
    "}\n",
    "\n",
    "s = {  # Maximum service volume\n",
    "    1: 20000,\n",
    "    2: 30000,\n",
    "    3: 40000\n",
    "}\n",
    "\n",
    "model = pyo.ConcreteModel()\n",
    "\n",
    "model.I = pyo.Set(initialize=I)\n",
    "model.J = pyo.Set(initialize=J)\n",
    "\n",
    "model.c = pyo.Param(model.I, model.J, initialize=c)\n",
    "model.d = pyo.Param(model.I, initialize=d)\n",
    "model.f = pyo.Param(model.J, initialize=f)\n",
    "model.s = pyo.Param(model.J, initialize=s)\n",
    "\n",
    "model.x = pyo.Var(model.I, model.J, domain=pyo.Binary)\n",
    "model.y = pyo.Var(model.J, domain=pyo.Binary)\n",
    "\n",
    "def obj_rule(m):\n",
    "    return sum(m.f[j] * m.y[j] for j in m.J) + sum(m.c[i, j] * m.d[i] * m.x[i, j] for i in m.I for j in m.J)\n",
    "\n",
    "model.obj = pyo.Objective(rule=obj_rule, sense=pyo.minimize)\n",
    "\n",
    "def customer_served_rule(m, i):\n",
    "    return sum(m.x[i, j] for j in m.J) == 1\n",
    "\n",
    "model.customer_served_constraint = pyo.Constraint(model.I, rule=customer_served_rule)\n",
    "\n",
    "def open_facility_rule(m, i, j):\n",
    "    return m.x[i, j] <= m.y[j]\n",
    "\n",
    "model.open_facility_constraint = pyo.Constraint(model.I, model.J, rule=open_facility_rule)\n",
    "\n",
    "def service_volume_rule(m, j):\n",
    "    return sum(m.d[i] * m.x[i, j] for i in m.I) <= m.s[j] * m.y[j]\n",
    "\n",
    "model.service_volume_constraint = pyo.Constraint(model.J, rule=service_volume_rule)\n",
    "\n",
    "# Solve the model\n",
    "solver = pyo.SolverFactory('glpk')\n",
    "results = solver.solve(model)\n",
    "\n",
    "# Print the results\n",
    "print(\"Objective value:\", pyo.value(model.obj))\n",
    "for j in model.J:\n",
    "    print(f\"Open facility at location {j}: {pyo.value(model.y[j])}\")\n",
    "for i in model.I:\n",
    "    for j in model.J:\n",
    "        if pyo.value(model.x[i, j]) > 0:\n",
    "            print(f\"Customer {i} is serviced by facility {j}\")"
   ]
  }
 ],
 "metadata": {
  "kernelspec": {
   "display_name": "Python 3 (ipykernel)",
   "language": "python",
   "name": "python3"
  },
  "language_info": {
   "codemirror_mode": {
    "name": "ipython",
    "version": 3
   },
   "file_extension": ".py",
   "mimetype": "text/x-python",
   "name": "python",
   "nbconvert_exporter": "python",
   "pygments_lexer": "ipython3",
   "version": "3.10.4"
  }
 },
 "nbformat": 4,
 "nbformat_minor": 5
}
