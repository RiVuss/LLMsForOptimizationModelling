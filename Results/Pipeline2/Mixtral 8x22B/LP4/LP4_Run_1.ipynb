{
 "cells": [
  {
   "cell_type": "code",
   "execution_count": 1,
   "id": "e5c2c174",
   "metadata": {},
   "outputs": [],
   "source": [
    "import os\n",
    "from mistralai.client import MistralClient\n",
    "from mistralai.models.chat_completion import ChatMessage\n",
    "from IPython.display import display, Markdown, Latex\n",
    "from datetime import datetime"
   ]
  },
  {
   "cell_type": "code",
   "execution_count": 2,
   "id": "b0c91a62",
   "metadata": {},
   "outputs": [
    {
     "name": "stdout",
     "output_type": "stream",
     "text": [
      "Time of execution: 2024-06-12 19:08:47.792321\n"
     ]
    }
   ],
   "source": [
    "API_KEY = os.environ['MISTRAL_API_KEY']\n",
    "\n",
    "MODEL_ID = 'open-mixtral-8x22b'\n",
    "MODEL_SEED = 1\n",
    "MODEL_TEMPERATURE = 0.7\n",
    "\n",
    "file_system_prompt_1 = open(\"../system_prompt_1.txt\", \"r\")\n",
    "file_system_prompt_2 = open(\"../system_prompt_2.txt\", \"r\")\n",
    "user_prompt_1 = open(\"../user_prompt_1.txt\", \"r\")\n",
    "user_prompt_2 = open(\"../user_prompt_2.txt\", \"r\")\n",
    "user_prompt_3 = open(\"../user_prompt_3.txt\", \"r\")\n",
    "SYSTEM_PROMPT_1 = file_system_prompt_1.read()\n",
    "SYSTEM_PROMPT_2 = file_system_prompt_2.read()\n",
    "USER_PROMPT_1 = user_prompt_1.read()\n",
    "USER_PROMPT_2 = user_prompt_2.read()\n",
    "USER_PROMPT_3 = user_prompt_3.read()\n",
    "file_system_prompt_1.close()\n",
    "file_system_prompt_2.close()\n",
    "user_prompt_1.close()\n",
    "user_prompt_2.close()\n",
    "user_prompt_3.close()\n",
    "\n",
    "FILE_PATH_PROBLEM = '../../../../Datasets/LP_4_TheFarmersProblem/'\n",
    "assert(FILE_PATH_PROBLEM != '../../../../Datasets/')\n",
    "file_problem_description = open(FILE_PATH_PROBLEM + 'ProblemDescription.txt', 'r')\n",
    "PROBLEM_DESCRIPTION = file_problem_description.read()\n",
    "file_problem_description.close()\n",
    "\n",
    "\n",
    "\n",
    "client = MistralClient(api_key=API_KEY)\n",
    "\n",
    "print(f'Time of execution: {datetime.now()}')"
   ]
  },
  {
   "cell_type": "markdown",
   "id": "3e540824",
   "metadata": {},
   "source": [
    "## Step 1 - Generate Mathematical Formulation "
   ]
  },
  {
   "cell_type": "code",
   "execution_count": 3,
   "id": "174c127b",
   "metadata": {},
   "outputs": [],
   "source": [
    "messages_1 = [\n",
    "    ChatMessage(role=\"system\", content=SYSTEM_PROMPT_1),\n",
    "    ChatMessage(role=\"user\", content=PROBLEM_DESCRIPTION),\n",
    "    ChatMessage(role=\"user\", content=USER_PROMPT_1)\n",
    "]\n",
    "\n",
    "response_1 = client.chat(\n",
    "    model=MODEL_ID,\n",
    "    messages=messages_1,\n",
    "    random_seed=MODEL_SEED,\n",
    "    temperature=MODEL_TEMPERATURE \n",
    ")\n",
    "\n",
    "response_1_text = response_1.choices[0].message.content"
   ]
  },
  {
   "cell_type": "code",
   "execution_count": 4,
   "id": "03616e62",
   "metadata": {},
   "outputs": [
    {
     "data": {
      "text/markdown": [
       "1. Define parameters and variables:\n",
       "\n",
       "Let's denote:\n",
       "- \\( W \\) as the amount of land (in acres) devoted to wheat\n",
       "- \\( C \\) as the amount of land (in acres) devoted to corn\n",
       "- \\( S \\) as the amount of land (in acres) devoted to sugar beets\n",
       "- \\( P_{ww} \\) as the selling price per ton of wheat ($170)\n",
       "- \\( P_{wc} \\) as the selling price per ton of corn ($150)\n",
       "- \\( P_{wb} \\) as the purchase price per ton of wheat (1.4 * \\( P_{ww} \\))\n",
       "- \\( P_{bc} \\) as the purchase price per ton of corn (1.4 * \\( P_{wc} \\))\n",
       "- \\( P_{ss} \\) as the selling price per ton of sugar beet ($36)\n",
       "- \\( P_{sb} \\) as the selling price per ton of sugar beet in excess of quota ($10)\n",
       "- \\( Q \\) as the quota for sugar beet production (6000 T)\n",
       "- \\( Y_w \\) as the yield per acre of wheat (2.5 T)\n",
       "- \\( Y_c \\) as the yield per acre of corn (3 T)\n",
       "- \\( Y_s \\) as the yield per acre of sugar beets (20 T)\n",
       "- \\( L \\) as the total available land (500 acres)\n",
       "- \\( F_w \\) as the fixed cost for planting an acre of wheat ($150)\n",
       "- \\( F_c \\) as the fixed cost for planting an acre of corn ($230)\n",
       "- \\( F_s \\) as the fixed cost for planting an acre of sugar beets ($260)\n",
       "- \\( D_w \\) as the demand for wheat (200 T)\n",
       "- \\( D_c \\) as the demand for corn (240 T)\n",
       "\n",
       "Note: The variables \\( W \\), \\( C \\), and \\( S \\) represent the decision variables in this optimization problem. The farmer will decide the optimal values for these variables to minimize her total costs."
      ],
      "text/plain": [
       "<IPython.core.display.Markdown object>"
      ]
     },
     "execution_count": 4,
     "metadata": {},
     "output_type": "execute_result"
    }
   ],
   "source": [
    "Markdown(response_1_text)"
   ]
  },
  {
   "cell_type": "code",
   "execution_count": 5,
   "id": "b6a33171",
   "metadata": {},
   "outputs": [
    {
     "name": "stdout",
     "output_type": "stream",
     "text": [
      "1. Define parameters and variables:\n",
      "\n",
      "Let's denote:\n",
      "- \\( W \\) as the amount of land (in acres) devoted to wheat\n",
      "- \\( C \\) as the amount of land (in acres) devoted to corn\n",
      "- \\( S \\) as the amount of land (in acres) devoted to sugar beets\n",
      "- \\( P_{ww} \\) as the selling price per ton of wheat ($170)\n",
      "- \\( P_{wc} \\) as the selling price per ton of corn ($150)\n",
      "- \\( P_{wb} \\) as the purchase price per ton of wheat (1.4 * \\( P_{ww} \\))\n",
      "- \\( P_{bc} \\) as the purchase price per ton of corn (1.4 * \\( P_{wc} \\))\n",
      "- \\( P_{ss} \\) as the selling price per ton of sugar beet ($36)\n",
      "- \\( P_{sb} \\) as the selling price per ton of sugar beet in excess of quota ($10)\n",
      "- \\( Q \\) as the quota for sugar beet production (6000 T)\n",
      "- \\( Y_w \\) as the yield per acre of wheat (2.5 T)\n",
      "- \\( Y_c \\) as the yield per acre of corn (3 T)\n",
      "- \\( Y_s \\) as the yield per acre of sugar beets (20 T)\n",
      "- \\( L \\) as the total available land (500 acres)\n",
      "- \\( F_w \\) as the fixed cost for planting an acre of wheat ($150)\n",
      "- \\( F_c \\) as the fixed cost for planting an acre of corn ($230)\n",
      "- \\( F_s \\) as the fixed cost for planting an acre of sugar beets ($260)\n",
      "- \\( D_w \\) as the demand for wheat (200 T)\n",
      "- \\( D_c \\) as the demand for corn (240 T)\n",
      "\n",
      "Note: The variables \\( W \\), \\( C \\), and \\( S \\) represent the decision variables in this optimization problem. The farmer will decide the optimal values for these variables to minimize her total costs.\n"
     ]
    }
   ],
   "source": [
    "print(response_1_text)"
   ]
  },
  {
   "cell_type": "code",
   "execution_count": 6,
   "id": "9af61485",
   "metadata": {},
   "outputs": [],
   "source": [
    "messages_2 = [\n",
    "    ChatMessage(role=\"system\", content=SYSTEM_PROMPT_1),\n",
    "    ChatMessage(role=\"user\", content=PROBLEM_DESCRIPTION),\n",
    "    ChatMessage(role=\"user\", content=USER_PROMPT_1),\n",
    "    ChatMessage(role=\"assistant\", content=response_1_text),\n",
    "    ChatMessage(role=\"user\", content=USER_PROMPT_2),\n",
    "]\n",
    "\n",
    "response_2 = client.chat(\n",
    "    model=MODEL_ID,\n",
    "    messages=messages_2,\n",
    "    random_seed=MODEL_SEED,\n",
    "    temperature=MODEL_TEMPERATURE \n",
    ")\n",
    "\n",
    "response_2_text = response_2.choices[0].message.content"
   ]
  },
  {
   "cell_type": "code",
   "execution_count": 7,
   "id": "ac0f2659",
   "metadata": {},
   "outputs": [
    {
     "data": {
      "text/markdown": [
       "2. Define the objective function:\n",
       "\n",
       "The objective function is to minimize the total costs, which is the sum of fixed costs for planting each acre of each crop and the costs of purchasing wheat and corn to meet the demand. To include sales as negative costs, we will subtract the total revenue from selling wheat, corn, and sugar beets.\n",
       "\n",
       "We will denote the objective function as \\( Z \\), which is a function of the decision variables \\( W \\), \\( C \\), and \\( S \\). The objective function is expressed as:\n",
       "\n",
       "\\( Z = (F_w W + F_c C + F_s S) + (P_{wb} \\max\\{0, D_w - Y_w W\\}) + (P_{bc} \\max\\{0, D_c - Y_c C\\}) - (P_{ww} \\max\\{0, Y_w W - D_w\\}) - (P_{wc} \\max\\{0, Y_c C - D_c\\}) - (P_{ss} \\min\\{Y_s S, Q\\}) - (P_{sb} \\max\\{0, Y_s S - Q\\}) \\)\n",
       "\n",
       "This expression can be further simplified by introducing auxiliary variables to represent the surplus or deficit in the production of each crop. However, this formulation provides a clear representation of the objective function."
      ],
      "text/plain": [
       "<IPython.core.display.Markdown object>"
      ]
     },
     "execution_count": 7,
     "metadata": {},
     "output_type": "execute_result"
    }
   ],
   "source": [
    "Markdown(response_2_text)"
   ]
  },
  {
   "cell_type": "code",
   "execution_count": 8,
   "id": "6e93b2aa",
   "metadata": {},
   "outputs": [
    {
     "name": "stdout",
     "output_type": "stream",
     "text": [
      "2. Define the objective function:\n",
      "\n",
      "The objective function is to minimize the total costs, which is the sum of fixed costs for planting each acre of each crop and the costs of purchasing wheat and corn to meet the demand. To include sales as negative costs, we will subtract the total revenue from selling wheat, corn, and sugar beets.\n",
      "\n",
      "We will denote the objective function as \\( Z \\), which is a function of the decision variables \\( W \\), \\( C \\), and \\( S \\). The objective function is expressed as:\n",
      "\n",
      "\\( Z = (F_w W + F_c C + F_s S) + (P_{wb} \\max\\{0, D_w - Y_w W\\}) + (P_{bc} \\max\\{0, D_c - Y_c C\\}) - (P_{ww} \\max\\{0, Y_w W - D_w\\}) - (P_{wc} \\max\\{0, Y_c C - D_c\\}) - (P_{ss} \\min\\{Y_s S, Q\\}) - (P_{sb} \\max\\{0, Y_s S - Q\\}) \\)\n",
      "\n",
      "This expression can be further simplified by introducing auxiliary variables to represent the surplus or deficit in the production of each crop. However, this formulation provides a clear representation of the objective function.\n"
     ]
    }
   ],
   "source": [
    "print(response_2_text)"
   ]
  },
  {
   "cell_type": "code",
   "execution_count": 9,
   "id": "d7d2d8bc",
   "metadata": {},
   "outputs": [],
   "source": [
    "messages_3 = [\n",
    "    ChatMessage(role=\"system\", content=SYSTEM_PROMPT_1),\n",
    "    ChatMessage(role=\"user\", content=PROBLEM_DESCRIPTION),\n",
    "    ChatMessage(role=\"user\", content=USER_PROMPT_1),\n",
    "    ChatMessage(role=\"assistant\", content=response_1_text),\n",
    "    ChatMessage(role=\"user\", content=USER_PROMPT_2),\n",
    "    ChatMessage(role=\"assistant\", content=response_2_text),\n",
    "    ChatMessage(role=\"user\", content=USER_PROMPT_3),\n",
    "]\n",
    "\n",
    "response_3 = client.chat(\n",
    "    model=MODEL_ID,\n",
    "    messages=messages_3,\n",
    "    random_seed=MODEL_SEED,\n",
    "    temperature=MODEL_TEMPERATURE \n",
    ")\n",
    "\n",
    "response_3_text = response_3.choices[0].message.content"
   ]
  },
  {
   "cell_type": "code",
   "execution_count": 10,
   "id": "c4588e6c",
   "metadata": {},
   "outputs": [
    {
     "data": {
      "text/markdown": [
       "3. Define the constraints:\n",
       "\n",
       "The constraints in this optimization problem are as follows:\n",
       "\n",
       "1. The total available land constraint:\n",
       "\\[ W + C + S \\leq L \\]\n",
       "\n",
       "2. The wheat production constraint:\n",
       "\\[ Y_w W \\geq D_w \\]\n",
       "\n",
       "3. The corn production constraint:\n",
       "\\[ Y_c C \\geq D_c \\]\n",
       "\n",
       "4. The sugar beet production constraint:\n",
       "\\[ Y_s S \\leq Q \\]\n",
       "\n",
       "These constraints ensure that the farmer uses her available land optimally, meets the demand for wheat and corn for cattle feed, and does not exceed the sugar beet production quota imposed by the European Commission.\n",
       "\n",
       "Once the objective function and constraints have been defined, the optimization problem can be solved using linear programming techniques to find the optimal values for the decision variables \\( W \\), \\( C \\), and \\( S \\), which would minimize the total costs for the farmer."
      ],
      "text/plain": [
       "<IPython.core.display.Markdown object>"
      ]
     },
     "execution_count": 10,
     "metadata": {},
     "output_type": "execute_result"
    }
   ],
   "source": [
    "Markdown(response_3_text)"
   ]
  },
  {
   "cell_type": "code",
   "execution_count": 11,
   "id": "b74cfcbe",
   "metadata": {},
   "outputs": [
    {
     "name": "stdout",
     "output_type": "stream",
     "text": [
      "3. Define the constraints:\n",
      "\n",
      "The constraints in this optimization problem are as follows:\n",
      "\n",
      "1. The total available land constraint:\n",
      "\\[ W + C + S \\leq L \\]\n",
      "\n",
      "2. The wheat production constraint:\n",
      "\\[ Y_w W \\geq D_w \\]\n",
      "\n",
      "3. The corn production constraint:\n",
      "\\[ Y_c C \\geq D_c \\]\n",
      "\n",
      "4. The sugar beet production constraint:\n",
      "\\[ Y_s S \\leq Q \\]\n",
      "\n",
      "These constraints ensure that the farmer uses her available land optimally, meets the demand for wheat and corn for cattle feed, and does not exceed the sugar beet production quota imposed by the European Commission.\n",
      "\n",
      "Once the objective function and constraints have been defined, the optimization problem can be solved using linear programming techniques to find the optimal values for the decision variables \\( W \\), \\( C \\), and \\( S \\), which would minimize the total costs for the farmer.\n"
     ]
    }
   ],
   "source": [
    "print(response_3_text)"
   ]
  },
  {
   "cell_type": "code",
   "execution_count": 12,
   "id": "e73cd25c",
   "metadata": {},
   "outputs": [
    {
     "data": {
      "text/markdown": [
       "1. Define parameters and variables:\n",
       "\n",
       "Let's denote:\n",
       "- \\( W \\) as the amount of land (in acres) devoted to wheat\n",
       "- \\( C \\) as the amount of land (in acres) devoted to corn\n",
       "- \\( S \\) as the amount of land (in acres) devoted to sugar beets\n",
       "- \\( P_{ww} \\) as the selling price per ton of wheat ($170)\n",
       "- \\( P_{wc} \\) as the selling price per ton of corn ($150)\n",
       "- \\( P_{wb} \\) as the purchase price per ton of wheat (1.4 * \\( P_{ww} \\))\n",
       "- \\( P_{bc} \\) as the purchase price per ton of corn (1.4 * \\( P_{wc} \\))\n",
       "- \\( P_{ss} \\) as the selling price per ton of sugar beet ($36)\n",
       "- \\( P_{sb} \\) as the selling price per ton of sugar beet in excess of quota ($10)\n",
       "- \\( Q \\) as the quota for sugar beet production (6000 T)\n",
       "- \\( Y_w \\) as the yield per acre of wheat (2.5 T)\n",
       "- \\( Y_c \\) as the yield per acre of corn (3 T)\n",
       "- \\( Y_s \\) as the yield per acre of sugar beets (20 T)\n",
       "- \\( L \\) as the total available land (500 acres)\n",
       "- \\( F_w \\) as the fixed cost for planting an acre of wheat ($150)\n",
       "- \\( F_c \\) as the fixed cost for planting an acre of corn ($230)\n",
       "- \\( F_s \\) as the fixed cost for planting an acre of sugar beets ($260)\n",
       "- \\( D_w \\) as the demand for wheat (200 T)\n",
       "- \\( D_c \\) as the demand for corn (240 T)\n",
       "\n",
       "Note: The variables \\( W \\), \\( C \\), and \\( S \\) represent the decision variables in this optimization problem. The farmer will decide the optimal values for these variables to minimize her total costs.\n",
       "2. Define the objective function:\n",
       "\n",
       "The objective function is to minimize the total costs, which is the sum of fixed costs for planting each acre of each crop and the costs of purchasing wheat and corn to meet the demand. To include sales as negative costs, we will subtract the total revenue from selling wheat, corn, and sugar beets.\n",
       "\n",
       "We will denote the objective function as \\( Z \\), which is a function of the decision variables \\( W \\), \\( C \\), and \\( S \\). The objective function is expressed as:\n",
       "\n",
       "\\( Z = (F_w W + F_c C + F_s S) + (P_{wb} \\max\\{0, D_w - Y_w W\\}) + (P_{bc} \\max\\{0, D_c - Y_c C\\}) - (P_{ww} \\max\\{0, Y_w W - D_w\\}) - (P_{wc} \\max\\{0, Y_c C - D_c\\}) - (P_{ss} \\min\\{Y_s S, Q\\}) - (P_{sb} \\max\\{0, Y_s S - Q\\}) \\)\n",
       "\n",
       "This expression can be further simplified by introducing auxiliary variables to represent the surplus or deficit in the production of each crop. However, this formulation provides a clear representation of the objective function.\n",
       "3. Define the constraints:\n",
       "\n",
       "The constraints in this optimization problem are as follows:\n",
       "\n",
       "1. The total available land constraint:\n",
       "\\[ W + C + S \\leq L \\]\n",
       "\n",
       "2. The wheat production constraint:\n",
       "\\[ Y_w W \\geq D_w \\]\n",
       "\n",
       "3. The corn production constraint:\n",
       "\\[ Y_c C \\geq D_c \\]\n",
       "\n",
       "4. The sugar beet production constraint:\n",
       "\\[ Y_s S \\leq Q \\]\n",
       "\n",
       "These constraints ensure that the farmer uses her available land optimally, meets the demand for wheat and corn for cattle feed, and does not exceed the sugar beet production quota imposed by the European Commission.\n",
       "\n",
       "Once the objective function and constraints have been defined, the optimization problem can be solved using linear programming techniques to find the optimal values for the decision variables \\( W \\), \\( C \\), and \\( S \\), which would minimize the total costs for the farmer."
      ],
      "text/plain": [
       "<IPython.core.display.Markdown object>"
      ]
     },
     "execution_count": 12,
     "metadata": {},
     "output_type": "execute_result"
    }
   ],
   "source": [
    "response_text = '\\n'.join([response_1_text, response_2_text, response_3_text])\n",
    "\n",
    "Markdown(response_text)"
   ]
  },
  {
   "cell_type": "code",
   "execution_count": 13,
   "id": "dd3d0006",
   "metadata": {},
   "outputs": [
    {
     "name": "stdout",
     "output_type": "stream",
     "text": [
      "1. Define parameters and variables:\n",
      "\n",
      "Let's denote:\n",
      "- \\( W \\) as the amount of land (in acres) devoted to wheat\n",
      "- \\( C \\) as the amount of land (in acres) devoted to corn\n",
      "- \\( S \\) as the amount of land (in acres) devoted to sugar beets\n",
      "- \\( P_{ww} \\) as the selling price per ton of wheat ($170)\n",
      "- \\( P_{wc} \\) as the selling price per ton of corn ($150)\n",
      "- \\( P_{wb} \\) as the purchase price per ton of wheat (1.4 * \\( P_{ww} \\))\n",
      "- \\( P_{bc} \\) as the purchase price per ton of corn (1.4 * \\( P_{wc} \\))\n",
      "- \\( P_{ss} \\) as the selling price per ton of sugar beet ($36)\n",
      "- \\( P_{sb} \\) as the selling price per ton of sugar beet in excess of quota ($10)\n",
      "- \\( Q \\) as the quota for sugar beet production (6000 T)\n",
      "- \\( Y_w \\) as the yield per acre of wheat (2.5 T)\n",
      "- \\( Y_c \\) as the yield per acre of corn (3 T)\n",
      "- \\( Y_s \\) as the yield per acre of sugar beets (20 T)\n",
      "- \\( L \\) as the total available land (500 acres)\n",
      "- \\( F_w \\) as the fixed cost for planting an acre of wheat ($150)\n",
      "- \\( F_c \\) as the fixed cost for planting an acre of corn ($230)\n",
      "- \\( F_s \\) as the fixed cost for planting an acre of sugar beets ($260)\n",
      "- \\( D_w \\) as the demand for wheat (200 T)\n",
      "- \\( D_c \\) as the demand for corn (240 T)\n",
      "\n",
      "Note: The variables \\( W \\), \\( C \\), and \\( S \\) represent the decision variables in this optimization problem. The farmer will decide the optimal values for these variables to minimize her total costs.\n",
      "2. Define the objective function:\n",
      "\n",
      "The objective function is to minimize the total costs, which is the sum of fixed costs for planting each acre of each crop and the costs of purchasing wheat and corn to meet the demand. To include sales as negative costs, we will subtract the total revenue from selling wheat, corn, and sugar beets.\n",
      "\n",
      "We will denote the objective function as \\( Z \\), which is a function of the decision variables \\( W \\), \\( C \\), and \\( S \\). The objective function is expressed as:\n",
      "\n",
      "\\( Z = (F_w W + F_c C + F_s S) + (P_{wb} \\max\\{0, D_w - Y_w W\\}) + (P_{bc} \\max\\{0, D_c - Y_c C\\}) - (P_{ww} \\max\\{0, Y_w W - D_w\\}) - (P_{wc} \\max\\{0, Y_c C - D_c\\}) - (P_{ss} \\min\\{Y_s S, Q\\}) - (P_{sb} \\max\\{0, Y_s S - Q\\}) \\)\n",
      "\n",
      "This expression can be further simplified by introducing auxiliary variables to represent the surplus or deficit in the production of each crop. However, this formulation provides a clear representation of the objective function.\n",
      "3. Define the constraints:\n",
      "\n",
      "The constraints in this optimization problem are as follows:\n",
      "\n",
      "1. The total available land constraint:\n",
      "\\[ W + C + S \\leq L \\]\n",
      "\n",
      "2. The wheat production constraint:\n",
      "\\[ Y_w W \\geq D_w \\]\n",
      "\n",
      "3. The corn production constraint:\n",
      "\\[ Y_c C \\geq D_c \\]\n",
      "\n",
      "4. The sugar beet production constraint:\n",
      "\\[ Y_s S \\leq Q \\]\n",
      "\n",
      "These constraints ensure that the farmer uses her available land optimally, meets the demand for wheat and corn for cattle feed, and does not exceed the sugar beet production quota imposed by the European Commission.\n",
      "\n",
      "Once the objective function and constraints have been defined, the optimization problem can be solved using linear programming techniques to find the optimal values for the decision variables \\( W \\), \\( C \\), and \\( S \\), which would minimize the total costs for the farmer.\n"
     ]
    }
   ],
   "source": [
    "print(response_text)"
   ]
  },
  {
   "cell_type": "markdown",
   "id": "27b5f89a",
   "metadata": {},
   "source": [
    "## Step 2 - Generate the Pyomo Code"
   ]
  },
  {
   "cell_type": "code",
   "execution_count": 14,
   "id": "a4c3312f",
   "metadata": {},
   "outputs": [],
   "source": [
    "messages_4 = [\n",
    "    ChatMessage(role=\"system\", content=SYSTEM_PROMPT_2),\n",
    "    ChatMessage(role=\"user\", content=response_text)\n",
    "]"
   ]
  },
  {
   "cell_type": "code",
   "execution_count": 15,
   "id": "4212d99d",
   "metadata": {},
   "outputs": [],
   "source": [
    "response_4 = client.chat(\n",
    "    model=MODEL_ID,\n",
    "    messages=messages_4,\n",
    "    random_seed=MODEL_SEED,\n",
    "    temperature=MODEL_TEMPERATURE\n",
    ")\n",
    "\n",
    "response_4_text = response_4.choices[0].message.content"
   ]
  },
  {
   "cell_type": "code",
   "execution_count": 16,
   "id": "c168a60b",
   "metadata": {},
   "outputs": [
    {
     "data": {
      "text/markdown": [
       "Here is a Python Pyomo code for the optimization problem:\n",
       "\n",
       "```python\n",
       "from pyomo.environ import *\n",
       "\n",
       "# Sample data\n",
       "P_ww = 170\n",
       "P_wc = 150\n",
       "P_wb = 1.4 * P_ww\n",
       "P_bc = 1.4 * P_wc\n",
       "P_ss = 36\n",
       "P_sb = 10\n",
       "Q = 6000\n",
       "Y_w = 2.5\n",
       "Y_c = 3\n",
       "Y_s = 20\n",
       "L = 500\n",
       "F_w = 150\n",
       "F_c = 230\n",
       "F_s = 260\n",
       "D_w = 200\n",
       "D_c = 240\n",
       "\n",
       "# Define the model\n",
       "model = ConcreteModel()\n",
       "\n",
       "# Define variables\n",
       "model.W = Var(within=NonNegativeReals)\n",
       "model.C = Var(within=NonNegativeReals)\n",
       "model.S = Var(within=NonNegativeReals)\n",
       "\n",
       "# Define the objective function\n",
       "def obj_func(model):\n",
       "    return (F_w * model.W + F_c * model.C + F_s * model.S) + \\\n",
       "           (P_wb * max(0, D_w - Y_w * model.W)) + \\\n",
       "           (P_bc * max(0, D_c - Y_c * model.C)) - \\\n",
       "           (P_ww * max(0, Y_w * model.W - D_w)) - \\\n",
       "           (P_wc * max(0, Y_c * model.C - D_c)) - \\\n",
       "           (P_ss * min(Y_s * model.S, Q)) - \\\n",
       "           (P_sb * max(0, Y_s * model.S - Q))\n",
       "\n",
       "model.obj = Objective(rule=obj_func, sense=minimize)\n",
       "\n",
       "# Define the constraints\n",
       "def land_constraint(model):\n",
       "    return model.W + model.C + model.S <= L\n",
       "\n",
       "model.land_c = Constraint(rule=land_constraint)\n",
       "\n",
       "def wheat_constraint(model):\n",
       "    return Y_w * model.W >= D_w\n",
       "\n",
       "model.wheat_c = Constraint(rule=wheat_constraint)\n",
       "\n",
       "def corn_constraint(model):\n",
       "    return Y_c * model.C >= D_c\n",
       "\n",
       "model.corn_c = Constraint(rule=corn_constraint)\n",
       "\n",
       "def sugar_beet_constraint(model):\n",
       "    return Y_s * model.S <= Q\n",
       "\n",
       "model.sugar_beet_c = Constraint(rule=sugar_beet_constraint)\n",
       "\n",
       "# Solve the optimization problem\n",
       "solver = SolverFactory('glpk')\n",
       "solver.solve(model)\n",
       "\n",
       "# Print the results\n",
       "print(f\"Optimal values: W = {value(model.W)}, C = {value(model.C)}, S = {value(model.S)}\")\n",
       "print(f\"Optimal objective value: {value(model.obj)}\")\n",
       "```\n",
       "\n",
       "This code defines the optimization model, the objective function, and the constraints using Pyomo. It then solves the optimization problem using the GLPK solver and prints the optimal values for the decision variables and the objective value."
      ],
      "text/plain": [
       "<IPython.core.display.Markdown object>"
      ]
     },
     "execution_count": 16,
     "metadata": {},
     "output_type": "execute_result"
    }
   ],
   "source": [
    "Markdown(response_4_text)"
   ]
  },
  {
   "cell_type": "code",
   "execution_count": 17,
   "id": "a380c180",
   "metadata": {},
   "outputs": [
    {
     "name": "stdout",
     "output_type": "stream",
     "text": [
      "Here is a Python Pyomo code for the optimization problem:\n",
      "\n",
      "```python\n",
      "from pyomo.environ import *\n",
      "\n",
      "# Sample data\n",
      "P_ww = 170\n",
      "P_wc = 150\n",
      "P_wb = 1.4 * P_ww\n",
      "P_bc = 1.4 * P_wc\n",
      "P_ss = 36\n",
      "P_sb = 10\n",
      "Q = 6000\n",
      "Y_w = 2.5\n",
      "Y_c = 3\n",
      "Y_s = 20\n",
      "L = 500\n",
      "F_w = 150\n",
      "F_c = 230\n",
      "F_s = 260\n",
      "D_w = 200\n",
      "D_c = 240\n",
      "\n",
      "# Define the model\n",
      "model = ConcreteModel()\n",
      "\n",
      "# Define variables\n",
      "model.W = Var(within=NonNegativeReals)\n",
      "model.C = Var(within=NonNegativeReals)\n",
      "model.S = Var(within=NonNegativeReals)\n",
      "\n",
      "# Define the objective function\n",
      "def obj_func(model):\n",
      "    return (F_w * model.W + F_c * model.C + F_s * model.S) + \\\n",
      "           (P_wb * max(0, D_w - Y_w * model.W)) + \\\n",
      "           (P_bc * max(0, D_c - Y_c * model.C)) - \\\n",
      "           (P_ww * max(0, Y_w * model.W - D_w)) - \\\n",
      "           (P_wc * max(0, Y_c * model.C - D_c)) - \\\n",
      "           (P_ss * min(Y_s * model.S, Q)) - \\\n",
      "           (P_sb * max(0, Y_s * model.S - Q))\n",
      "\n",
      "model.obj = Objective(rule=obj_func, sense=minimize)\n",
      "\n",
      "# Define the constraints\n",
      "def land_constraint(model):\n",
      "    return model.W + model.C + model.S <= L\n",
      "\n",
      "model.land_c = Constraint(rule=land_constraint)\n",
      "\n",
      "def wheat_constraint(model):\n",
      "    return Y_w * model.W >= D_w\n",
      "\n",
      "model.wheat_c = Constraint(rule=wheat_constraint)\n",
      "\n",
      "def corn_constraint(model):\n",
      "    return Y_c * model.C >= D_c\n",
      "\n",
      "model.corn_c = Constraint(rule=corn_constraint)\n",
      "\n",
      "def sugar_beet_constraint(model):\n",
      "    return Y_s * model.S <= Q\n",
      "\n",
      "model.sugar_beet_c = Constraint(rule=sugar_beet_constraint)\n",
      "\n",
      "# Solve the optimization problem\n",
      "solver = SolverFactory('glpk')\n",
      "solver.solve(model)\n",
      "\n",
      "# Print the results\n",
      "print(f\"Optimal values: W = {value(model.W)}, C = {value(model.C)}, S = {value(model.S)}\")\n",
      "print(f\"Optimal objective value: {value(model.obj)}\")\n",
      "```\n",
      "\n",
      "This code defines the optimization model, the objective function, and the constraints using Pyomo. It then solves the optimization problem using the GLPK solver and prints the optimal values for the decision variables and the objective value.\n"
     ]
    }
   ],
   "source": [
    "print(response_4_text)"
   ]
  },
  {
   "cell_type": "markdown",
   "id": "879cc7ae",
   "metadata": {},
   "source": [
    "### Code Executability"
   ]
  },
  {
   "cell_type": "code",
   "execution_count": 18,
   "id": "f1d9a625",
   "metadata": {},
   "outputs": [
    {
     "name": "stderr",
     "output_type": "stream",
     "text": [
      "2024-06-12 19:15:59,014 ERROR pyomo.core: Rule failed when generating expression for Objective obj with index None:\n",
      "PyomoException: Cannot convert non-constant Pyomo expression (0  <  200 - 2.5*W) to bool.\n",
      "This error is usually caused by using a Var, unit, or mutable Param in a\n",
      "Boolean context such as an \"if\" statement, or when checking container\n",
      "membership or equality. For example,\n",
      "    >>> m.x = Var()\n",
      "    >>> if m.x >= 1:\n",
      "    ...     pass\n",
      "and\n",
      "    >>> m.y = Var()\n",
      "    >>> if m.y in [m.x, m.y]:\n",
      "    ...     pass\n",
      "would both cause this exception.\n",
      "2024-06-12 19:15:59,015 ERROR pyomo.core: Constructing component 'obj' from data=None failed:\n",
      "PyomoException: Cannot convert non-constant Pyomo expression (0  <  200 - 2.5*W) to bool.\n",
      "This error is usually caused by using a Var, unit, or mutable Param in a\n",
      "Boolean context such as an \"if\" statement, or when checking container\n",
      "membership or equality. For example,\n",
      "    >>> m.x = Var()\n",
      "    >>> if m.x >= 1:\n",
      "    ...     pass\n",
      "and\n",
      "    >>> m.y = Var()\n",
      "    >>> if m.y in [m.x, m.y]:\n",
      "    ...     pass\n",
      "would both cause this exception.\n"
     ]
    },
    {
     "ename": "PyomoException",
     "evalue": "Cannot convert non-constant Pyomo expression (0  <  200 - 2.5*W) to bool.\nThis error is usually caused by using a Var, unit, or mutable Param in a\nBoolean context such as an \"if\" statement, or when checking container\nmembership or equality. For example,\n    >>> m.x = Var()\n    >>> if m.x >= 1:\n    ...     pass\nand\n    >>> m.y = Var()\n    >>> if m.y in [m.x, m.y]:\n    ...     pass\nwould both cause this exception.",
     "output_type": "error",
     "traceback": [
      "\u001b[1;31m---------------------------------------------------------------------------\u001b[0m",
      "\u001b[1;31mPyomoException\u001b[0m                            Traceback (most recent call last)",
      "Input \u001b[1;32mIn [18]\u001b[0m, in \u001b[0;36m<cell line: 39>\u001b[1;34m()\u001b[0m\n\u001b[0;32m     30\u001b[0m \u001b[38;5;28;01mdef\u001b[39;00m \u001b[38;5;21mobj_func\u001b[39m(model):\n\u001b[0;32m     31\u001b[0m     \u001b[38;5;28;01mreturn\u001b[39;00m (F_w \u001b[38;5;241m*\u001b[39m model\u001b[38;5;241m.\u001b[39mW \u001b[38;5;241m+\u001b[39m F_c \u001b[38;5;241m*\u001b[39m model\u001b[38;5;241m.\u001b[39mC \u001b[38;5;241m+\u001b[39m F_s \u001b[38;5;241m*\u001b[39m model\u001b[38;5;241m.\u001b[39mS) \u001b[38;5;241m+\u001b[39m \\\n\u001b[0;32m     32\u001b[0m            (P_wb \u001b[38;5;241m*\u001b[39m \u001b[38;5;28mmax\u001b[39m(\u001b[38;5;241m0\u001b[39m, D_w \u001b[38;5;241m-\u001b[39m Y_w \u001b[38;5;241m*\u001b[39m model\u001b[38;5;241m.\u001b[39mW)) \u001b[38;5;241m+\u001b[39m \\\n\u001b[0;32m     33\u001b[0m            (P_bc \u001b[38;5;241m*\u001b[39m \u001b[38;5;28mmax\u001b[39m(\u001b[38;5;241m0\u001b[39m, D_c \u001b[38;5;241m-\u001b[39m Y_c \u001b[38;5;241m*\u001b[39m model\u001b[38;5;241m.\u001b[39mC)) \u001b[38;5;241m-\u001b[39m \\\n\u001b[1;32m   (...)\u001b[0m\n\u001b[0;32m     36\u001b[0m            (P_ss \u001b[38;5;241m*\u001b[39m \u001b[38;5;28mmin\u001b[39m(Y_s \u001b[38;5;241m*\u001b[39m model\u001b[38;5;241m.\u001b[39mS, Q)) \u001b[38;5;241m-\u001b[39m \\\n\u001b[0;32m     37\u001b[0m            (P_sb \u001b[38;5;241m*\u001b[39m \u001b[38;5;28mmax\u001b[39m(\u001b[38;5;241m0\u001b[39m, Y_s \u001b[38;5;241m*\u001b[39m model\u001b[38;5;241m.\u001b[39mS \u001b[38;5;241m-\u001b[39m Q))\n\u001b[1;32m---> 39\u001b[0m model\u001b[38;5;241m.\u001b[39mobj \u001b[38;5;241m=\u001b[39m Objective(rule\u001b[38;5;241m=\u001b[39mobj_func, sense\u001b[38;5;241m=\u001b[39mminimize)\n\u001b[0;32m     41\u001b[0m \u001b[38;5;66;03m# Define the constraints\u001b[39;00m\n\u001b[0;32m     42\u001b[0m \u001b[38;5;28;01mdef\u001b[39;00m \u001b[38;5;21mland_constraint\u001b[39m(model):\n",
      "File \u001b[1;32m~\\AppData\\Roaming\\Python\\Python310\\site-packages\\pyomo\\core\\base\\block.py:639\u001b[0m, in \u001b[0;36m_BlockData.__setattr__\u001b[1;34m(self, name, val)\u001b[0m\n\u001b[0;32m    634\u001b[0m \u001b[38;5;28;01mif\u001b[39;00m name \u001b[38;5;129;01mnot\u001b[39;00m \u001b[38;5;129;01min\u001b[39;00m \u001b[38;5;28mself\u001b[39m\u001b[38;5;241m.\u001b[39m\u001b[38;5;18m__dict__\u001b[39m:\n\u001b[0;32m    635\u001b[0m     \u001b[38;5;28;01mif\u001b[39;00m \u001b[38;5;28misinstance\u001b[39m(val, Component):\n\u001b[0;32m    636\u001b[0m         \u001b[38;5;66;03m#\u001b[39;00m\n\u001b[0;32m    637\u001b[0m         \u001b[38;5;66;03m# Pyomo components are added with the add_component method.\u001b[39;00m\n\u001b[0;32m    638\u001b[0m         \u001b[38;5;66;03m#\u001b[39;00m\n\u001b[1;32m--> 639\u001b[0m         \u001b[38;5;28;43mself\u001b[39;49m\u001b[38;5;241;43m.\u001b[39;49m\u001b[43madd_component\u001b[49m\u001b[43m(\u001b[49m\u001b[43mname\u001b[49m\u001b[43m,\u001b[49m\u001b[43m \u001b[49m\u001b[43mval\u001b[49m\u001b[43m)\u001b[49m\n\u001b[0;32m    640\u001b[0m     \u001b[38;5;28;01melse\u001b[39;00m:\n\u001b[0;32m    641\u001b[0m         \u001b[38;5;66;03m#\u001b[39;00m\n\u001b[0;32m    642\u001b[0m         \u001b[38;5;66;03m# Other Python objects are added with the standard __setattr__\u001b[39;00m\n\u001b[0;32m    643\u001b[0m         \u001b[38;5;66;03m# method.\u001b[39;00m\n\u001b[0;32m    644\u001b[0m         \u001b[38;5;66;03m#\u001b[39;00m\n\u001b[0;32m    645\u001b[0m         \u001b[38;5;28msuper\u001b[39m(_BlockData, \u001b[38;5;28mself\u001b[39m)\u001b[38;5;241m.\u001b[39m\u001b[38;5;21m__setattr__\u001b[39m(name, val)\n",
      "File \u001b[1;32m~\\AppData\\Roaming\\Python\\Python310\\site-packages\\pyomo\\core\\base\\block.py:1186\u001b[0m, in \u001b[0;36m_BlockData.add_component\u001b[1;34m(self, name, val)\u001b[0m\n\u001b[0;32m   1182\u001b[0m     logger\u001b[38;5;241m.\u001b[39mdebug(\u001b[38;5;124m\"\u001b[39m\u001b[38;5;124mConstructing \u001b[39m\u001b[38;5;132;01m%s\u001b[39;00m\u001b[38;5;124m \u001b[39m\u001b[38;5;124m'\u001b[39m\u001b[38;5;132;01m%s\u001b[39;00m\u001b[38;5;124m'\u001b[39m\u001b[38;5;124m on \u001b[39m\u001b[38;5;132;01m%s\u001b[39;00m\u001b[38;5;124m from data=\u001b[39m\u001b[38;5;132;01m%s\u001b[39;00m\u001b[38;5;124m\"\u001b[39m,\n\u001b[0;32m   1183\u001b[0m                  val\u001b[38;5;241m.\u001b[39m\u001b[38;5;18m__class__\u001b[39m\u001b[38;5;241m.\u001b[39m\u001b[38;5;18m__name__\u001b[39m, name,\n\u001b[0;32m   1184\u001b[0m                  _blockName, \u001b[38;5;28mstr\u001b[39m(data))\n\u001b[0;32m   1185\u001b[0m \u001b[38;5;28;01mtry\u001b[39;00m:\n\u001b[1;32m-> 1186\u001b[0m     \u001b[43mval\u001b[49m\u001b[38;5;241;43m.\u001b[39;49m\u001b[43mconstruct\u001b[49m\u001b[43m(\u001b[49m\u001b[43mdata\u001b[49m\u001b[43m)\u001b[49m\n\u001b[0;32m   1187\u001b[0m \u001b[38;5;28;01mexcept\u001b[39;00m:\n\u001b[0;32m   1188\u001b[0m     err \u001b[38;5;241m=\u001b[39m sys\u001b[38;5;241m.\u001b[39mexc_info()[\u001b[38;5;241m1\u001b[39m]\n",
      "File \u001b[1;32m~\\AppData\\Roaming\\Python\\Python310\\site-packages\\pyomo\\core\\base\\objective.py:334\u001b[0m, in \u001b[0;36mObjective.construct\u001b[1;34m(self, data)\u001b[0m\n\u001b[0;32m    330\u001b[0m \u001b[38;5;28;01melse\u001b[39;00m:\n\u001b[0;32m    331\u001b[0m     \u001b[38;5;66;03m# Bypass the index validation and create the member directly\u001b[39;00m\n\u001b[0;32m    332\u001b[0m     \u001b[38;5;28;01mfor\u001b[39;00m index \u001b[38;5;129;01min\u001b[39;00m \u001b[38;5;28mself\u001b[39m\u001b[38;5;241m.\u001b[39mindex_set():\n\u001b[0;32m    333\u001b[0m         ans \u001b[38;5;241m=\u001b[39m \u001b[38;5;28mself\u001b[39m\u001b[38;5;241m.\u001b[39m_setitem_when_not_present(\n\u001b[1;32m--> 334\u001b[0m             index, \u001b[43mrule\u001b[49m\u001b[43m(\u001b[49m\u001b[43mblock\u001b[49m\u001b[43m,\u001b[49m\u001b[43m \u001b[49m\u001b[43mindex\u001b[49m\u001b[43m)\u001b[49m)\n\u001b[0;32m    335\u001b[0m         \u001b[38;5;28;01mif\u001b[39;00m ans \u001b[38;5;129;01mis\u001b[39;00m \u001b[38;5;129;01mnot\u001b[39;00m \u001b[38;5;28;01mNone\u001b[39;00m:\n\u001b[0;32m    336\u001b[0m             ans\u001b[38;5;241m.\u001b[39mset_sense(\u001b[38;5;28mself\u001b[39m\u001b[38;5;241m.\u001b[39m_init_sense(block, index))\n",
      "File \u001b[1;32m~\\AppData\\Roaming\\Python\\Python310\\site-packages\\pyomo\\core\\base\\initializer.py:402\u001b[0m, in \u001b[0;36mScalarCallInitializer.__call__\u001b[1;34m(self, parent, idx)\u001b[0m\n\u001b[0;32m    401\u001b[0m \u001b[38;5;28;01mdef\u001b[39;00m \u001b[38;5;21m__call__\u001b[39m(\u001b[38;5;28mself\u001b[39m, parent, idx):\n\u001b[1;32m--> 402\u001b[0m     \u001b[38;5;28;01mreturn\u001b[39;00m \u001b[38;5;28;43mself\u001b[39;49m\u001b[38;5;241;43m.\u001b[39;49m\u001b[43m_fcn\u001b[49m\u001b[43m(\u001b[49m\u001b[43mparent\u001b[49m\u001b[43m)\u001b[49m\n",
      "Input \u001b[1;32mIn [18]\u001b[0m, in \u001b[0;36mobj_func\u001b[1;34m(model)\u001b[0m\n\u001b[0;32m     30\u001b[0m \u001b[38;5;28;01mdef\u001b[39;00m \u001b[38;5;21mobj_func\u001b[39m(model):\n\u001b[0;32m     31\u001b[0m     \u001b[38;5;28;01mreturn\u001b[39;00m (F_w \u001b[38;5;241m*\u001b[39m model\u001b[38;5;241m.\u001b[39mW \u001b[38;5;241m+\u001b[39m F_c \u001b[38;5;241m*\u001b[39m model\u001b[38;5;241m.\u001b[39mC \u001b[38;5;241m+\u001b[39m F_s \u001b[38;5;241m*\u001b[39m model\u001b[38;5;241m.\u001b[39mS) \u001b[38;5;241m+\u001b[39m \\\n\u001b[1;32m---> 32\u001b[0m            (P_wb \u001b[38;5;241m*\u001b[39m \u001b[38;5;28;43mmax\u001b[39;49m\u001b[43m(\u001b[49m\u001b[38;5;241;43m0\u001b[39;49m\u001b[43m,\u001b[49m\u001b[43m \u001b[49m\u001b[43mD_w\u001b[49m\u001b[43m \u001b[49m\u001b[38;5;241;43m-\u001b[39;49m\u001b[43m \u001b[49m\u001b[43mY_w\u001b[49m\u001b[43m \u001b[49m\u001b[38;5;241;43m*\u001b[39;49m\u001b[43m \u001b[49m\u001b[43mmodel\u001b[49m\u001b[38;5;241;43m.\u001b[39;49m\u001b[43mW\u001b[49m\u001b[43m)\u001b[49m) \u001b[38;5;241m+\u001b[39m \\\n\u001b[0;32m     33\u001b[0m            (P_bc \u001b[38;5;241m*\u001b[39m \u001b[38;5;28mmax\u001b[39m(\u001b[38;5;241m0\u001b[39m, D_c \u001b[38;5;241m-\u001b[39m Y_c \u001b[38;5;241m*\u001b[39m model\u001b[38;5;241m.\u001b[39mC)) \u001b[38;5;241m-\u001b[39m \\\n\u001b[0;32m     34\u001b[0m            (P_ww \u001b[38;5;241m*\u001b[39m \u001b[38;5;28mmax\u001b[39m(\u001b[38;5;241m0\u001b[39m, Y_w \u001b[38;5;241m*\u001b[39m model\u001b[38;5;241m.\u001b[39mW \u001b[38;5;241m-\u001b[39m D_w)) \u001b[38;5;241m-\u001b[39m \\\n\u001b[0;32m     35\u001b[0m            (P_wc \u001b[38;5;241m*\u001b[39m \u001b[38;5;28mmax\u001b[39m(\u001b[38;5;241m0\u001b[39m, Y_c \u001b[38;5;241m*\u001b[39m model\u001b[38;5;241m.\u001b[39mC \u001b[38;5;241m-\u001b[39m D_c)) \u001b[38;5;241m-\u001b[39m \\\n\u001b[0;32m     36\u001b[0m            (P_ss \u001b[38;5;241m*\u001b[39m \u001b[38;5;28mmin\u001b[39m(Y_s \u001b[38;5;241m*\u001b[39m model\u001b[38;5;241m.\u001b[39mS, Q)) \u001b[38;5;241m-\u001b[39m \\\n\u001b[0;32m     37\u001b[0m            (P_sb \u001b[38;5;241m*\u001b[39m \u001b[38;5;28mmax\u001b[39m(\u001b[38;5;241m0\u001b[39m, Y_s \u001b[38;5;241m*\u001b[39m model\u001b[38;5;241m.\u001b[39mS \u001b[38;5;241m-\u001b[39m Q))\n",
      "File \u001b[1;32mpyomo\\core\\expr\\logical_expr.pyx:188\u001b[0m, in \u001b[0;36mpyomo.core.expr.logical_expr.InequalityExpression.__bool__\u001b[1;34m()\u001b[0m\n",
      "\u001b[1;31mPyomoException\u001b[0m: Cannot convert non-constant Pyomo expression (0  <  200 - 2.5*W) to bool.\nThis error is usually caused by using a Var, unit, or mutable Param in a\nBoolean context such as an \"if\" statement, or when checking container\nmembership or equality. For example,\n    >>> m.x = Var()\n    >>> if m.x >= 1:\n    ...     pass\nand\n    >>> m.y = Var()\n    >>> if m.y in [m.x, m.y]:\n    ...     pass\nwould both cause this exception."
     ]
    }
   ],
   "source": [
    "from pyomo.environ import *\n",
    "\n",
    "# Sample data\n",
    "P_ww = 170\n",
    "P_wc = 150\n",
    "P_wb = 1.4 * P_ww\n",
    "P_bc = 1.4 * P_wc\n",
    "P_ss = 36\n",
    "P_sb = 10\n",
    "Q = 6000\n",
    "Y_w = 2.5\n",
    "Y_c = 3\n",
    "Y_s = 20\n",
    "L = 500\n",
    "F_w = 150\n",
    "F_c = 230\n",
    "F_s = 260\n",
    "D_w = 200\n",
    "D_c = 240\n",
    "\n",
    "# Define the model\n",
    "model = ConcreteModel()\n",
    "\n",
    "# Define variables\n",
    "model.W = Var(within=NonNegativeReals)\n",
    "model.C = Var(within=NonNegativeReals)\n",
    "model.S = Var(within=NonNegativeReals)\n",
    "\n",
    "# Define the objective function\n",
    "def obj_func(model):\n",
    "    return (F_w * model.W + F_c * model.C + F_s * model.S) + \\\n",
    "           (P_wb * max(0, D_w - Y_w * model.W)) + \\\n",
    "           (P_bc * max(0, D_c - Y_c * model.C)) - \\\n",
    "           (P_ww * max(0, Y_w * model.W - D_w)) - \\\n",
    "           (P_wc * max(0, Y_c * model.C - D_c)) - \\\n",
    "           (P_ss * min(Y_s * model.S, Q)) - \\\n",
    "           (P_sb * max(0, Y_s * model.S - Q))\n",
    "\n",
    "model.obj = Objective(rule=obj_func, sense=minimize)\n",
    "\n",
    "# Define the constraints\n",
    "def land_constraint(model):\n",
    "    return model.W + model.C + model.S <= L\n",
    "\n",
    "model.land_c = Constraint(rule=land_constraint)\n",
    "\n",
    "def wheat_constraint(model):\n",
    "    return Y_w * model.W >= D_w\n",
    "\n",
    "model.wheat_c = Constraint(rule=wheat_constraint)\n",
    "\n",
    "def corn_constraint(model):\n",
    "    return Y_c * model.C >= D_c\n",
    "\n",
    "model.corn_c = Constraint(rule=corn_constraint)\n",
    "\n",
    "def sugar_beet_constraint(model):\n",
    "    return Y_s * model.S <= Q\n",
    "\n",
    "model.sugar_beet_c = Constraint(rule=sugar_beet_constraint)\n",
    "\n",
    "# Solve the optimization problem\n",
    "solver = SolverFactory('glpk')\n",
    "solver.solve(model)\n",
    "\n",
    "# Print the results\n",
    "print(f\"Optimal values: W = {value(model.W)}, C = {value(model.C)}, S = {value(model.S)}\")\n",
    "print(f\"Optimal objective value: {value(model.obj)}\")"
   ]
  },
  {
   "cell_type": "markdown",
   "id": "95f5c3a8",
   "metadata": {},
   "source": [
    "### Solution Correctness"
   ]
  },
  {
   "cell_type": "code",
   "execution_count": null,
   "id": "01245691",
   "metadata": {},
   "outputs": [],
   "source": []
  }
 ],
 "metadata": {
  "kernelspec": {
   "display_name": "Python 3 (ipykernel)",
   "language": "python",
   "name": "python3"
  },
  "language_info": {
   "codemirror_mode": {
    "name": "ipython",
    "version": 3
   },
   "file_extension": ".py",
   "mimetype": "text/x-python",
   "name": "python",
   "nbconvert_exporter": "python",
   "pygments_lexer": "ipython3",
   "version": "3.10.4"
  }
 },
 "nbformat": 4,
 "nbformat_minor": 5
}
