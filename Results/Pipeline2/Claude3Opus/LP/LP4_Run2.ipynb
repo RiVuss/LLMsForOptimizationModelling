{
  "nbformat": 4,
  "nbformat_minor": 0,
  "metadata": {
    "colab": {
      "provenance": []
    },
    "kernelspec": {
      "name": "python3",
      "display_name": "Python 3"
    },
    "language_info": {
      "name": "python"
    }
  },
  "cells": [
    {
      "cell_type": "markdown",
      "source": [
        "# 0. Imports and Setting up Anthropic API Client"
      ],
      "metadata": {
        "id": "y5fw0lkBwBbo"
      }
    },
    {
      "cell_type": "code",
      "source": [
        "from google.colab import drive\n",
        "\n",
        "drive.mount('/content/drive')"
      ],
      "metadata": {
        "colab": {
          "base_uri": "https://localhost:8080/"
        },
        "id": "e7tWOLo0yMoH",
        "outputId": "8a7f445d-f9af-4e9a-cb86-d4505feebe4e"
      },
      "execution_count": 1,
      "outputs": [
        {
          "output_type": "stream",
          "name": "stdout",
          "text": [
            "Mounted at /content/drive\n"
          ]
        }
      ]
    },
    {
      "cell_type": "code",
      "source": [
        "!pip install python-dotenv\n",
        "\n",
        "import os\n",
        "import dotenv\n",
        "\n",
        "dotenv.load_dotenv('/content/drive/MyDrive/.env')"
      ],
      "metadata": {
        "colab": {
          "base_uri": "https://localhost:8080/"
        },
        "id": "utcEK8lZ1Z1R",
        "outputId": "817580fd-3c03-47fa-97c4-ea36fb505795"
      },
      "execution_count": 2,
      "outputs": [
        {
          "output_type": "stream",
          "name": "stdout",
          "text": [
            "Collecting python-dotenv\n",
            "  Downloading python_dotenv-1.0.1-py3-none-any.whl (19 kB)\n",
            "Installing collected packages: python-dotenv\n",
            "Successfully installed python-dotenv-1.0.1\n"
          ]
        },
        {
          "output_type": "execute_result",
          "data": {
            "text/plain": [
              "True"
            ]
          },
          "metadata": {},
          "execution_count": 2
        }
      ]
    },
    {
      "cell_type": "code",
      "source": [
        "# Load Prompts and Problem Description\n",
        "# Variables Prompt\n",
        "prompt11_path = '/content/drive/MyDrive/Thesis/Prompts/Prompt11_MathematicalModel.txt'\n",
        "\n",
        "# Objective Prompt\n",
        "prompt12_path = '/content/drive/MyDrive/Thesis/Prompts/Prompt12_MathematicalModel.txt'\n",
        "\n",
        "# Constraint Prompt\n",
        "prompt13_path = '/content/drive/MyDrive/Thesis/Prompts/Prompt13_MathematicalModel.txt'\n",
        "\n",
        "# Code Prompt\n",
        "prompt2_path = '/content/drive/MyDrive/Thesis/Prompts/Prompt2_PyomoCode.txt'\n",
        "problem_desc_path = '/content/drive/MyDrive/Thesis/ProblemDescriptions/LP/LP4.txt'\n",
        "\n",
        "prompt11_file = open(prompt11_path, \"r\")\n",
        "prompt12_file = open(prompt12_path, \"r\")\n",
        "prompt13_file = open(prompt13_path, \"r\")\n",
        "prompt2_file = open(prompt2_path, \"r\")\n",
        "problem_desc_file = open(problem_desc_path, \"r\")\n",
        "\n",
        "prompt11 = prompt11_file.read()\n",
        "print(\"Prompt 1.1 (Variables):\\n\", prompt11)\n",
        "\n",
        "prompt12 = prompt12_file.read()\n",
        "print(\"Prompt 1.2 (Objctive):\\n\", prompt12)\n",
        "\n",
        "prompt13 = prompt13_file.read()\n",
        "print(\"Prompt 1.3 (Constraints):\\n\", prompt13)\n",
        "\n",
        "prompt2 = prompt2_file.read()\n",
        "print(\"Prompt 2:\\n\", prompt2)\n",
        "\n",
        "problem_desc = problem_desc_file.read()\n",
        "print(\"Problem Description:\\n\", problem_desc)"
      ],
      "metadata": {
        "colab": {
          "base_uri": "https://localhost:8080/"
        },
        "id": "9KlkjwMUS4xp",
        "outputId": "77f65c94-7e2d-45a4-955e-dce29f25a1e2"
      },
      "execution_count": 3,
      "outputs": [
        {
          "output_type": "stream",
          "name": "stdout",
          "text": [
            "Prompt 1.1 (Variables):\n",
            " Please formulate only the variables for this mathematical optimization problem. \n",
            "Prompt 1.2 (Objctive):\n",
            " Please formulate only the objective function for this mathematical optimization problem. \n",
            "Prompt 1.3 (Constraints):\n",
            " Please formulate only the constraints for this mathematical optimization problem. \n",
            "Prompt 2:\n",
            " Please write a python pyomo code for this optimization problem.\n",
            "Use sample data where needed.\n",
            "Indicate where you use sample data.\n",
            "Problem Description:\n",
            " Consider a farmer who specializes in raising wheat, corn, and sugar beets on her 500 acres of land. During the winter, she wants to decide how much land to devote to each crop.\n",
            "\n",
            "The farmer knows that at least 200 tons (T) of wheat and 240 T of corn are needed for cattle feed. These amounts can be raised on the farm or bought from a wholesaler.\n",
            "Any production in excess of the feeding requirement would be sold.\n",
            "\n",
            "Over the last decade, mean selling prices have been $170 and $150 per ton of wheat and corn, respectively.\n",
            "The purchase prices are 40% more than this due to the wholesaler’s margin and transportation costs.\n",
            "\n",
            "Another profitable crop is sugar beet, which she expects to sell at $36/T. However, the European Commission imposes a quota on sugar beet production. Any amount in excess of the quota can be sold only at $10/T. The farmer’s quota for next year is 6000 T.\n",
            "\n",
            "Based on past experience, the farmer knows that the mean yield on her land is roughly 2.5 T, 3 T, and 20 T per acre for wheat, corn, and sugar beets, respectively. It costs $150 to plant an acre of wheat, $230 to pant an acre of corn and $260 to plant an acre of sugar beets. \n",
            "\n",
            "The farmer can decide how much of her land she will use to grow each of the three products: wheat, corn and sugar beets. The goal of the farmer is to minimize her total costs (where sales are considered as negative costs).\n"
          ]
        }
      ]
    },
    {
      "cell_type": "code",
      "source": [
        "!pip install anthropic"
      ],
      "metadata": {
        "colab": {
          "base_uri": "https://localhost:8080/"
        },
        "id": "iWlNsTIvxCcR",
        "outputId": "5e2a9055-8efe-425c-d8d0-ad4aff07dcaa",
        "collapsed": true
      },
      "execution_count": 4,
      "outputs": [
        {
          "output_type": "stream",
          "name": "stdout",
          "text": [
            "Collecting anthropic\n",
            "  Downloading anthropic-0.28.0-py3-none-any.whl (862 kB)\n",
            "\u001b[2K     \u001b[90m━━━━━━━━━━━━━━━━━━━━━━━━━━━━━━━━━━━━━━━━\u001b[0m \u001b[32m862.7/862.7 kB\u001b[0m \u001b[31m4.7 MB/s\u001b[0m eta \u001b[36m0:00:00\u001b[0m\n",
            "\u001b[?25hRequirement already satisfied: anyio<5,>=3.5.0 in /usr/local/lib/python3.10/dist-packages (from anthropic) (3.7.1)\n",
            "Requirement already satisfied: distro<2,>=1.7.0 in /usr/lib/python3/dist-packages (from anthropic) (1.7.0)\n",
            "Collecting httpx<1,>=0.23.0 (from anthropic)\n",
            "  Downloading httpx-0.27.0-py3-none-any.whl (75 kB)\n",
            "\u001b[2K     \u001b[90m━━━━━━━━━━━━━━━━━━━━━━━━━━━━━━━━━━━━━━━━\u001b[0m \u001b[32m75.6/75.6 kB\u001b[0m \u001b[31m6.7 MB/s\u001b[0m eta \u001b[36m0:00:00\u001b[0m\n",
            "\u001b[?25hCollecting jiter<1,>=0.4.0 (from anthropic)\n",
            "  Downloading jiter-0.4.1-cp310-cp310-manylinux_2_17_x86_64.manylinux2014_x86_64.whl (328 kB)\n",
            "\u001b[2K     \u001b[90m━━━━━━━━━━━━━━━━━━━━━━━━━━━━━━━━━━━━━━━━\u001b[0m \u001b[32m328.3/328.3 kB\u001b[0m \u001b[31m24.6 MB/s\u001b[0m eta \u001b[36m0:00:00\u001b[0m\n",
            "\u001b[?25hRequirement already satisfied: pydantic<3,>=1.9.0 in /usr/local/lib/python3.10/dist-packages (from anthropic) (2.7.3)\n",
            "Requirement already satisfied: sniffio in /usr/local/lib/python3.10/dist-packages (from anthropic) (1.3.1)\n",
            "Requirement already satisfied: tokenizers>=0.13.0 in /usr/local/lib/python3.10/dist-packages (from anthropic) (0.19.1)\n",
            "Requirement already satisfied: typing-extensions<5,>=4.7 in /usr/local/lib/python3.10/dist-packages (from anthropic) (4.12.1)\n",
            "Requirement already satisfied: idna>=2.8 in /usr/local/lib/python3.10/dist-packages (from anyio<5,>=3.5.0->anthropic) (3.7)\n",
            "Requirement already satisfied: exceptiongroup in /usr/local/lib/python3.10/dist-packages (from anyio<5,>=3.5.0->anthropic) (1.2.1)\n",
            "Requirement already satisfied: certifi in /usr/local/lib/python3.10/dist-packages (from httpx<1,>=0.23.0->anthropic) (2024.6.2)\n",
            "Collecting httpcore==1.* (from httpx<1,>=0.23.0->anthropic)\n",
            "  Downloading httpcore-1.0.5-py3-none-any.whl (77 kB)\n",
            "\u001b[2K     \u001b[90m━━━━━━━━━━━━━━━━━━━━━━━━━━━━━━━━━━━━━━━━\u001b[0m \u001b[32m77.9/77.9 kB\u001b[0m \u001b[31m8.2 MB/s\u001b[0m eta \u001b[36m0:00:00\u001b[0m\n",
            "\u001b[?25hCollecting h11<0.15,>=0.13 (from httpcore==1.*->httpx<1,>=0.23.0->anthropic)\n",
            "  Downloading h11-0.14.0-py3-none-any.whl (58 kB)\n",
            "\u001b[2K     \u001b[90m━━━━━━━━━━━━━━━━━━━━━━━━━━━━━━━━━━━━━━━━\u001b[0m \u001b[32m58.3/58.3 kB\u001b[0m \u001b[31m3.4 MB/s\u001b[0m eta \u001b[36m0:00:00\u001b[0m\n",
            "\u001b[?25hRequirement already satisfied: annotated-types>=0.4.0 in /usr/local/lib/python3.10/dist-packages (from pydantic<3,>=1.9.0->anthropic) (0.7.0)\n",
            "Requirement already satisfied: pydantic-core==2.18.4 in /usr/local/lib/python3.10/dist-packages (from pydantic<3,>=1.9.0->anthropic) (2.18.4)\n",
            "Requirement already satisfied: huggingface-hub<1.0,>=0.16.4 in /usr/local/lib/python3.10/dist-packages (from tokenizers>=0.13.0->anthropic) (0.23.2)\n",
            "Requirement already satisfied: filelock in /usr/local/lib/python3.10/dist-packages (from huggingface-hub<1.0,>=0.16.4->tokenizers>=0.13.0->anthropic) (3.14.0)\n",
            "Requirement already satisfied: fsspec>=2023.5.0 in /usr/local/lib/python3.10/dist-packages (from huggingface-hub<1.0,>=0.16.4->tokenizers>=0.13.0->anthropic) (2023.6.0)\n",
            "Requirement already satisfied: packaging>=20.9 in /usr/local/lib/python3.10/dist-packages (from huggingface-hub<1.0,>=0.16.4->tokenizers>=0.13.0->anthropic) (24.0)\n",
            "Requirement already satisfied: pyyaml>=5.1 in /usr/local/lib/python3.10/dist-packages (from huggingface-hub<1.0,>=0.16.4->tokenizers>=0.13.0->anthropic) (6.0.1)\n",
            "Requirement already satisfied: requests in /usr/local/lib/python3.10/dist-packages (from huggingface-hub<1.0,>=0.16.4->tokenizers>=0.13.0->anthropic) (2.31.0)\n",
            "Requirement already satisfied: tqdm>=4.42.1 in /usr/local/lib/python3.10/dist-packages (from huggingface-hub<1.0,>=0.16.4->tokenizers>=0.13.0->anthropic) (4.66.4)\n",
            "Requirement already satisfied: charset-normalizer<4,>=2 in /usr/local/lib/python3.10/dist-packages (from requests->huggingface-hub<1.0,>=0.16.4->tokenizers>=0.13.0->anthropic) (3.3.2)\n",
            "Requirement already satisfied: urllib3<3,>=1.21.1 in /usr/local/lib/python3.10/dist-packages (from requests->huggingface-hub<1.0,>=0.16.4->tokenizers>=0.13.0->anthropic) (2.0.7)\n",
            "Installing collected packages: jiter, h11, httpcore, httpx, anthropic\n",
            "Successfully installed anthropic-0.28.0 h11-0.14.0 httpcore-1.0.5 httpx-0.27.0 jiter-0.4.1\n"
          ]
        }
      ]
    },
    {
      "cell_type": "code",
      "execution_count": 5,
      "metadata": {
        "id": "7Qjk2D63v1Bl"
      },
      "outputs": [],
      "source": [
        "# Importing Anthropic & Setting Headers\n",
        "import anthropic\n",
        "\n",
        "client = anthropic.Anthropic(\n",
        "    # defaults to os.environ.get(\"ANTHROPIC_API_KEY\")\n",
        "    api_key=os.environ.get(\"ANTHROPIC_API_KEY\"),\n",
        ")"
      ]
    },
    {
      "cell_type": "markdown",
      "source": [
        "# 1. Prompt 1.1: Create Variables for Mathematical Model"
      ],
      "metadata": {
        "id": "kT7yKbJs18XR"
      }
    },
    {
      "cell_type": "code",
      "source": [
        "message11 = client.messages.create(\n",
        "    model=\"claude-3-opus-20240229\",\n",
        "    system=prompt11,\n",
        "    max_tokens=4096,\n",
        "    messages=[\n",
        "        {\"role\": \"user\", \"content\": problem_desc}\n",
        "    ]\n",
        ")\n",
        "\n",
        "response_p11 = message11.content[0].text"
      ],
      "metadata": {
        "id": "R_6X0axq16D4"
      },
      "execution_count": 6,
      "outputs": []
    },
    {
      "cell_type": "code",
      "source": [
        "# Print response\n",
        "print(response_p11)"
      ],
      "metadata": {
        "colab": {
          "base_uri": "https://localhost:8080/"
        },
        "id": "Ra9Ox_PI38jg",
        "outputId": "069b450e-73e5-47b0-edf9-6a275393d43e"
      },
      "execution_count": 7,
      "outputs": [
        {
          "output_type": "stream",
          "name": "stdout",
          "text": [
            "Great! Let's define the variables for this mathematical optimization problem:\n",
            "\n",
            "Decision Variables:\n",
            "- Let 'w' be the number of acres of land devoted to wheat production.\n",
            "- Let 'c' be the number of acres of land devoted to corn production.\n",
            "- Let 's' be the number of acres of land devoted to sugar beet production.\n",
            "\n",
            "Additional Variables:\n",
            "- Let 'W' be the number of tons of wheat produced.\n",
            "- Let 'C' be the number of tons of corn produced.\n",
            "- Let 'S' be the number of tons of sugar beets produced.\n",
            "- Let 'Wp' be the number of tons of wheat purchased from the wholesaler.\n",
            "- Let 'Cp' be the number of tons of corn purchased from the wholesaler.\n",
            "- Let 'Ws' be the number of tons of wheat sold.\n",
            "- Let 'Cs' be the number of tons of corn sold.\n",
            "- Let 'Sq' be the number of tons of sugar beets sold at the quota price.\n",
            "- Let 'Se' be the number of tons of sugar beets sold at the excess price.\n",
            "\n",
            "These variables will be used to formulate the objective function and constraints of the optimization problem, which aims to minimize the farmer's total costs.\n"
          ]
        }
      ]
    },
    {
      "cell_type": "markdown",
      "source": [
        "# 1. Prompt 1.2: Create Objective for Mathematical Model"
      ],
      "metadata": {
        "id": "nbt6yH1snBQL"
      }
    },
    {
      "cell_type": "code",
      "source": [
        "message12 = client.messages.create(\n",
        "    model=\"claude-3-opus-20240229\",\n",
        "    system=prompt12,\n",
        "    max_tokens=4096,\n",
        "    messages=[\n",
        "        {\"role\": \"user\", \"content\": (problem_desc + response_p11)}\n",
        "    ]\n",
        ")\n",
        "\n",
        "response_p12 = message12.content[0].text"
      ],
      "metadata": {
        "id": "ol4rtt_MnAy8"
      },
      "execution_count": 8,
      "outputs": []
    },
    {
      "cell_type": "code",
      "source": [
        "# Print response\n",
        "print(response_p12)"
      ],
      "metadata": {
        "colab": {
          "base_uri": "https://localhost:8080/"
        },
        "id": "Vz2F_EARnzHf",
        "outputId": "04d817a7-b063-4d70-a433-2764ad166341"
      },
      "execution_count": 9,
      "outputs": [
        {
          "output_type": "stream",
          "name": "stdout",
          "text": [
            "Objective Function:\n",
            "\n",
            "Minimize: \n",
            "150w + 230c + 260s + 238Wp + 210Cp - 170Ws - 150Cs - 36Sq - 10Se\n",
            "\n",
            "This objective function represents the total costs the farmer wants to minimize. It includes the planting costs for each crop (150w + 230c + 260s), the costs of purchasing wheat and corn from the wholesaler (238Wp + 210Cp), and the revenue generated from selling wheat, corn, and sugar beets (- 170Ws - 150Cs - 36Sq - 10Se).\n",
            "\n",
            "The negative signs before the selling terms indicate that the revenue is subtracted from the total costs, as selling the crops reduces the overall costs.\n"
          ]
        }
      ]
    },
    {
      "cell_type": "markdown",
      "source": [
        "# 1. Prompt 1.3: Create Constraints for Mathematical Model\n"
      ],
      "metadata": {
        "id": "Wzf33DwvnEar"
      }
    },
    {
      "cell_type": "code",
      "source": [
        "message13 = client.messages.create(\n",
        "    model=\"claude-3-opus-20240229\",\n",
        "    system=prompt13,\n",
        "    max_tokens=4096,\n",
        "    messages=[\n",
        "        {\"role\": \"user\", \"content\": (problem_desc + response_p11 + response_p12)}\n",
        "    ]\n",
        ")\n",
        "\n",
        "response_p13 = message13.content[0].text"
      ],
      "metadata": {
        "id": "l1UAJRt7nENG"
      },
      "execution_count": 10,
      "outputs": []
    },
    {
      "cell_type": "code",
      "source": [
        "# Print response\n",
        "print(response_p13)"
      ],
      "metadata": {
        "colab": {
          "base_uri": "https://localhost:8080/"
        },
        "id": "vH7Ff9mxn4FZ",
        "outputId": "f722156e-ad47-44a3-bfd2-e1ed920941df"
      },
      "execution_count": 11,
      "outputs": [
        {
          "output_type": "stream",
          "name": "stdout",
          "text": [
            "Here are the constraints for this optimization problem:\n",
            "\n",
            "1. Land constraint:\n",
            "   w + c + s <= 500\n",
            "   (The total acres used for wheat, corn, and sugar beets cannot exceed the available 500 acres)\n",
            "\n",
            "2. Wheat production and usage:\n",
            "   W = 2.5w\n",
            "   W + Wp >= 200\n",
            "   Ws = W + Wp - 200\n",
            "   (Wheat produced equals 2.5 times the acres used for wheat; total wheat available must be at least 200 tons; wheat sold equals total wheat minus the 200 tons used for cattle feed)\n",
            "\n",
            "3. Corn production and usage:\n",
            "   C = 3c\n",
            "   C + Cp >= 240\n",
            "   Cs = C + Cp - 240\n",
            "   (Corn produced equals 3 times the acres used for corn; total corn available must be at least 240 tons; corn sold equals total corn minus the 240 tons used for cattle feed)\n",
            "\n",
            "4. Sugar beet production and quota:\n",
            "   S = 20s\n",
            "   Sq + Se = S\n",
            "   Sq <= 6000\n",
            "   (Sugar beets produced equals 20 times the acres used for sugar beets; sugar beets sold at quota price plus excess price equals total sugar beets produced; sugar beets sold at quota price cannot exceed the 6000-ton quota)\n",
            "\n",
            "5. Non-negativity constraints:\n",
            "   w, c, s, W, C, S, Wp, Cp, Ws, Cs, Sq, Se >= 0\n",
            "   (All variables must be non-negative)\n",
            "\n",
            "These constraints, along with the objective function you provided earlier, complete the formulation of the mathematical optimization problem for the farmer's crop production decision.\n"
          ]
        }
      ]
    },
    {
      "cell_type": "markdown",
      "source": [
        "# 2. Prompt 2: Write Code based on Mathematical Model\n",
        "\n",
        "In case more than the component of each step was generated, use \"last instance\"/ \"newest version\" of the components.\n",
        "\n",
        "Example:\n",
        "Prompt 1.1 (Variables): Model generates only variables\n",
        "Prompt 1.2 (Objectvie): Model generates objective and constraints\n",
        "Prompt 1.3 (Constraints): Model generates only constraints\n",
        "\n",
        "Use Variables from step 1.1, use objective from 1.2 and use constraints from 1.3 (since constraints version 1.3 is more recent than constraints version 1.2).\n",
        "\n",
        "This set up allows for potential self-correction of the model throughout the three prompts.\n",
        "\n",
        "Correctness of each component is still generated in the respective step, so self-correction is independent of this."
      ],
      "metadata": {
        "id": "WPZ6lgBO729j"
      }
    },
    {
      "cell_type": "code",
      "source": [
        "message2 = client.messages.create(\n",
        "    model=\"claude-3-opus-20240229\",\n",
        "    system=prompt2,\n",
        "    max_tokens=4069,\n",
        "    messages=[\n",
        "        {\"role\": \"user\", \"content\": (response_p11 + response_p12 + response_p13)}\n",
        "    ]\n",
        ")\n",
        "\n",
        "response_p2 = message2.content[0].text"
      ],
      "metadata": {
        "id": "1iUSgBda70FL"
      },
      "execution_count": 12,
      "outputs": []
    },
    {
      "cell_type": "code",
      "source": [
        "# Print response\n",
        "print(response_p2)"
      ],
      "metadata": {
        "colab": {
          "base_uri": "https://localhost:8080/"
        },
        "id": "o40mxc_H8eQ9",
        "outputId": "dc48b46a-731e-4596-890f-0750e9a7c55c"
      },
      "execution_count": 13,
      "outputs": [
        {
          "output_type": "stream",
          "name": "stdout",
          "text": [
            "Here's the Python Pyomo code for the optimization problem:\n",
            "\n",
            "```python\n",
            "from pyomo.environ import *\n",
            "\n",
            "# Create a Concrete Model\n",
            "model = ConcreteModel()\n",
            "\n",
            "# Define decision variables\n",
            "model.w = Var(domain=NonNegativeReals)  # Acres of land devoted to wheat\n",
            "model.c = Var(domain=NonNegativeReals)  # Acres of land devoted to corn\n",
            "model.s = Var(domain=NonNegativeReals)  # Acres of land devoted to sugar beets\n",
            "\n",
            "# Define additional variables\n",
            "model.W = Var(domain=NonNegativeReals)   # Tons of wheat produced\n",
            "model.C = Var(domain=NonNegativeReals)   # Tons of corn produced\n",
            "model.S = Var(domain=NonNegativeReals)   # Tons of sugar beets produced\n",
            "model.Wp = Var(domain=NonNegativeReals)  # Tons of wheat purchased from wholesaler\n",
            "model.Cp = Var(domain=NonNegativeReals)  # Tons of corn purchased from wholesaler\n",
            "model.Ws = Var(domain=NonNegativeReals)  # Tons of wheat sold\n",
            "model.Cs = Var(domain=NonNegativeReals)  # Tons of corn sold\n",
            "model.Sq = Var(domain=NonNegativeReals)  # Tons of sugar beets sold at quota price\n",
            "model.Se = Var(domain=NonNegativeReals)  # Tons of sugar beets sold at excess price\n",
            "\n",
            "# Define objective function\n",
            "model.obj = Objective(expr=150 * model.w + 230 * model.c + 260 * model.s +\n",
            "                           238 * model.Wp + 210 * model.Cp -\n",
            "                           170 * model.Ws - 150 * model.Cs -\n",
            "                           36 * model.Sq - 10 * model.Se,\n",
            "                      sense=minimize)\n",
            "\n",
            "# Define constraints\n",
            "model.land_constraint = Constraint(expr=model.w + model.c + model.s <= 500)\n",
            "\n",
            "model.wheat_production = Constraint(expr=model.W == 2.5 * model.w)\n",
            "model.wheat_usage = Constraint(expr=model.W + model.Wp >= 200)\n",
            "model.wheat_sold = Constraint(expr=model.Ws == model.W + model.Wp - 200)\n",
            "\n",
            "model.corn_production = Constraint(expr=model.C == 3 * model.c)\n",
            "model.corn_usage = Constraint(expr=model.C + model.Cp >= 240)\n",
            "model.corn_sold = Constraint(expr=model.Cs == model.C + model.Cp - 240)\n",
            "\n",
            "model.sugar_beet_production = Constraint(expr=model.S == 20 * model.s)\n",
            "model.sugar_beet_sold = Constraint(expr=model.Sq + model.Se == model.S)\n",
            "model.sugar_beet_quota = Constraint(expr=model.Sq <= 6000)\n",
            "\n",
            "# Solve the optimization problem\n",
            "solver = SolverFactory('glpk')  # Specify the solver (e.g., 'glpk', 'gurobi', 'cplex')\n",
            "results = solver.solve(model)\n",
            "\n",
            "# Print the results\n",
            "print(\"Optimization Results:\")\n",
            "print(\"Objective Function Value:\", model.obj())\n",
            "print(\"Acres of Wheat:\", model.w())\n",
            "print(\"Acres of Corn:\", model.c())\n",
            "print(\"Acres of Sugar Beets:\", model.s())\n",
            "print(\"Tons of Wheat Produced:\", model.W())\n",
            "print(\"Tons of Corn Produced:\", model.C())\n",
            "print(\"Tons of Sugar Beets Produced:\", model.S())\n",
            "print(\"Tons of Wheat Purchased:\", model.Wp())\n",
            "print(\"Tons of Corn Purchased:\", model.Cp())\n",
            "print(\"Tons of Wheat Sold:\", model.Ws())\n",
            "print(\"Tons of Corn Sold:\", model.Cs())\n",
            "print(\"Tons of Sugar Beets Sold at Quota Price:\", model.Sq())\n",
            "print(\"Tons of Sugar Beets Sold at Excess Price:\", model.Se())\n",
            "```\n",
            "\n",
            "This code defines the optimization problem using Pyomo, including the decision variables, objective function, and constraints. The `NonNegativeReals` domain is used for all variables to ensure non-negativity.\n",
            "\n",
            "Note that no sample data is used in this code, as it is a generic formulation of the optimization problem. The solver used in this example is 'glpk', but you can change it to any other compatible solver available in Pyomo (e.g., 'gurobi', 'cplex').\n",
            "\n",
            "After solving the problem, the code prints the objective function value and the values of the decision variables and additional variables.\n"
          ]
        }
      ]
    },
    {
      "cell_type": "markdown",
      "source": [
        "# 4. Input Problem Data and Test Model Code"
      ],
      "metadata": {
        "id": "Pc0QqJuf8up_"
      }
    },
    {
      "cell_type": "code",
      "source": [
        "# Installing pyomo nd solver\n",
        "!pip install -q pyomo\n",
        "!pip install pandas\n",
        "!apt-get install -y -qq glpk-utils\n",
        "!pip install glpk"
      ],
      "metadata": {
        "colab": {
          "base_uri": "https://localhost:8080/"
        },
        "id": "3BtROuLu9O-p",
        "outputId": "f647eb58-d425-4d7a-87a1-a4531f74ef2d",
        "collapsed": true
      },
      "execution_count": 14,
      "outputs": [
        {
          "output_type": "stream",
          "name": "stdout",
          "text": [
            "\u001b[2K     \u001b[90m━━━━━━━━━━━━━━━━━━━━━━━━━━━━━━━━━━━━━━━━\u001b[0m \u001b[32m12.8/12.8 MB\u001b[0m \u001b[31m30.3 MB/s\u001b[0m eta \u001b[36m0:00:00\u001b[0m\n",
            "\u001b[2K     \u001b[90m━━━━━━━━━━━━━━━━━━━━━━━━━━━━━━━━━━━━━━━━\u001b[0m \u001b[32m49.6/49.6 kB\u001b[0m \u001b[31m3.7 MB/s\u001b[0m eta \u001b[36m0:00:00\u001b[0m\n",
            "\u001b[?25hRequirement already satisfied: pandas in /usr/local/lib/python3.10/dist-packages (2.0.3)\n",
            "Requirement already satisfied: python-dateutil>=2.8.2 in /usr/local/lib/python3.10/dist-packages (from pandas) (2.8.2)\n",
            "Requirement already satisfied: pytz>=2020.1 in /usr/local/lib/python3.10/dist-packages (from pandas) (2023.4)\n",
            "Requirement already satisfied: tzdata>=2022.1 in /usr/local/lib/python3.10/dist-packages (from pandas) (2024.1)\n",
            "Requirement already satisfied: numpy>=1.21.0 in /usr/local/lib/python3.10/dist-packages (from pandas) (1.25.2)\n",
            "Requirement already satisfied: six>=1.5 in /usr/local/lib/python3.10/dist-packages (from python-dateutil>=2.8.2->pandas) (1.16.0)\n",
            "Selecting previously unselected package libsuitesparseconfig5:amd64.\n",
            "(Reading database ... 121918 files and directories currently installed.)\n",
            "Preparing to unpack .../libsuitesparseconfig5_1%3a5.10.1+dfsg-4build1_amd64.deb ...\n",
            "Unpacking libsuitesparseconfig5:amd64 (1:5.10.1+dfsg-4build1) ...\n",
            "Selecting previously unselected package libamd2:amd64.\n",
            "Preparing to unpack .../libamd2_1%3a5.10.1+dfsg-4build1_amd64.deb ...\n",
            "Unpacking libamd2:amd64 (1:5.10.1+dfsg-4build1) ...\n",
            "Selecting previously unselected package libcolamd2:amd64.\n",
            "Preparing to unpack .../libcolamd2_1%3a5.10.1+dfsg-4build1_amd64.deb ...\n",
            "Unpacking libcolamd2:amd64 (1:5.10.1+dfsg-4build1) ...\n",
            "Selecting previously unselected package libglpk40:amd64.\n",
            "Preparing to unpack .../libglpk40_5.0-1_amd64.deb ...\n",
            "Unpacking libglpk40:amd64 (5.0-1) ...\n",
            "Selecting previously unselected package glpk-utils.\n",
            "Preparing to unpack .../glpk-utils_5.0-1_amd64.deb ...\n",
            "Unpacking glpk-utils (5.0-1) ...\n",
            "Setting up libsuitesparseconfig5:amd64 (1:5.10.1+dfsg-4build1) ...\n",
            "Setting up libamd2:amd64 (1:5.10.1+dfsg-4build1) ...\n",
            "Setting up libcolamd2:amd64 (1:5.10.1+dfsg-4build1) ...\n",
            "Setting up libglpk40:amd64 (5.0-1) ...\n",
            "Setting up glpk-utils (5.0-1) ...\n",
            "Processing triggers for man-db (2.10.2-1) ...\n",
            "Processing triggers for libc-bin (2.35-0ubuntu3.4) ...\n",
            "/sbin/ldconfig.real: /usr/local/lib/libtbb.so.12 is not a symbolic link\n",
            "\n",
            "/sbin/ldconfig.real: /usr/local/lib/libtbbbind.so.3 is not a symbolic link\n",
            "\n",
            "/sbin/ldconfig.real: /usr/local/lib/libtbbbind_2_5.so.3 is not a symbolic link\n",
            "\n",
            "/sbin/ldconfig.real: /usr/local/lib/libtbbmalloc.so.2 is not a symbolic link\n",
            "\n",
            "/sbin/ldconfig.real: /usr/local/lib/libtbbmalloc_proxy.so.2 is not a symbolic link\n",
            "\n",
            "/sbin/ldconfig.real: /usr/local/lib/libtbbbind_2_0.so.3 is not a symbolic link\n",
            "\n",
            "Collecting glpk\n",
            "  Downloading glpk-0.4.7.tar.gz (161 kB)\n",
            "\u001b[2K     \u001b[90m━━━━━━━━━━━━━━━━━━━━━━━━━━━━━━━━━━━━━━━━\u001b[0m \u001b[32m161.2/161.2 kB\u001b[0m \u001b[31m1.3 MB/s\u001b[0m eta \u001b[36m0:00:00\u001b[0m\n",
            "\u001b[?25h  Installing build dependencies ... \u001b[?25l\u001b[?25hdone\n",
            "  Getting requirements to build wheel ... \u001b[?25l\u001b[?25hdone\n",
            "  Preparing metadata (pyproject.toml) ... \u001b[?25l\u001b[?25hdone\n",
            "Building wheels for collected packages: glpk\n",
            "  \u001b[1;31merror\u001b[0m: \u001b[1msubprocess-exited-with-error\u001b[0m\n",
            "  \n",
            "  \u001b[31m×\u001b[0m \u001b[32mBuilding wheel for glpk \u001b[0m\u001b[1;32m(\u001b[0m\u001b[32mpyproject.toml\u001b[0m\u001b[1;32m)\u001b[0m did not run successfully.\n",
            "  \u001b[31m│\u001b[0m exit code: \u001b[1;36m1\u001b[0m\n",
            "  \u001b[31m╰─>\u001b[0m See above for output.\n",
            "  \n",
            "  \u001b[1;35mnote\u001b[0m: This error originates from a subprocess, and is likely not a problem with pip.\n",
            "  Building wheel for glpk (pyproject.toml) ... \u001b[?25l\u001b[?25herror\n",
            "\u001b[31m  ERROR: Failed building wheel for glpk\u001b[0m\u001b[31m\n",
            "\u001b[0mFailed to build glpk\n",
            "\u001b[31mERROR: Could not build wheels for glpk, which is required to install pyproject.toml-based projects\u001b[0m\u001b[31m\n",
            "\u001b[0m"
          ]
        }
      ]
    },
    {
      "cell_type": "code",
      "source": [
        "from pyomo.environ import *\n",
        "\n",
        "# Create a Concrete Model\n",
        "model = ConcreteModel()\n",
        "\n",
        "# Define decision variables\n",
        "model.w = Var(domain=NonNegativeReals)  # Acres of land devoted to wheat\n",
        "model.c = Var(domain=NonNegativeReals)  # Acres of land devoted to corn\n",
        "model.s = Var(domain=NonNegativeReals)  # Acres of land devoted to sugar beets\n",
        "\n",
        "# Define additional variables\n",
        "model.W = Var(domain=NonNegativeReals)   # Tons of wheat produced\n",
        "model.C = Var(domain=NonNegativeReals)   # Tons of corn produced\n",
        "model.S = Var(domain=NonNegativeReals)   # Tons of sugar beets produced\n",
        "model.Wp = Var(domain=NonNegativeReals)  # Tons of wheat purchased from wholesaler\n",
        "model.Cp = Var(domain=NonNegativeReals)  # Tons of corn purchased from wholesaler\n",
        "model.Ws = Var(domain=NonNegativeReals)  # Tons of wheat sold\n",
        "model.Cs = Var(domain=NonNegativeReals)  # Tons of corn sold\n",
        "model.Sq = Var(domain=NonNegativeReals)  # Tons of sugar beets sold at quota price\n",
        "model.Se = Var(domain=NonNegativeReals)  # Tons of sugar beets sold at excess price\n",
        "\n",
        "# Define objective function\n",
        "model.obj = Objective(expr=150 * model.w + 230 * model.c + 260 * model.s +\n",
        "                           238 * model.Wp + 210 * model.Cp -\n",
        "                           170 * model.Ws - 150 * model.Cs -\n",
        "                           36 * model.Sq - 10 * model.Se,\n",
        "                      sense=minimize)\n",
        "\n",
        "# Define constraints\n",
        "model.land_constraint = Constraint(expr=model.w + model.c + model.s <= 500)\n",
        "\n",
        "model.wheat_production = Constraint(expr=model.W == 2.5 * model.w)\n",
        "model.wheat_usage = Constraint(expr=model.W + model.Wp >= 200)\n",
        "model.wheat_sold = Constraint(expr=model.Ws == model.W + model.Wp - 200)\n",
        "\n",
        "model.corn_production = Constraint(expr=model.C == 3 * model.c)\n",
        "model.corn_usage = Constraint(expr=model.C + model.Cp >= 240)\n",
        "model.corn_sold = Constraint(expr=model.Cs == model.C + model.Cp - 240)\n",
        "\n",
        "model.sugar_beet_production = Constraint(expr=model.S == 20 * model.s)\n",
        "model.sugar_beet_sold = Constraint(expr=model.Sq + model.Se == model.S)\n",
        "model.sugar_beet_quota = Constraint(expr=model.Sq <= 6000)\n",
        "\n",
        "# Solve the optimization problem\n",
        "solver = SolverFactory('glpk')  # Specify the solver (e.g., 'glpk', 'gurobi', 'cplex')\n",
        "results = solver.solve(model)\n",
        "\n",
        "# Print the results\n",
        "print(\"Optimization Results:\")\n",
        "print(\"Objective Function Value:\", model.obj())\n",
        "print(\"Acres of Wheat:\", model.w())\n",
        "print(\"Acres of Corn:\", model.c())\n",
        "print(\"Acres of Sugar Beets:\", model.s())\n",
        "print(\"Tons of Wheat Produced:\", model.W())\n",
        "print(\"Tons of Corn Produced:\", model.C())\n",
        "print(\"Tons of Sugar Beets Produced:\", model.S())\n",
        "print(\"Tons of Wheat Purchased:\", model.Wp())\n",
        "print(\"Tons of Corn Purchased:\", model.Cp())\n",
        "print(\"Tons of Wheat Sold:\", model.Ws())\n",
        "print(\"Tons of Corn Sold:\", model.Cs())\n",
        "print(\"Tons of Sugar Beets Sold at Quota Price:\", model.Sq())\n",
        "print(\"Tons of Sugar Beets Sold at Excess Price:\", model.Se())"
      ],
      "metadata": {
        "colab": {
          "base_uri": "https://localhost:8080/"
        },
        "id": "8FpHcuWU8rQ2",
        "outputId": "2c38e6c7-cb81-458e-a921-70ce90d086ef"
      },
      "execution_count": 15,
      "outputs": [
        {
          "output_type": "stream",
          "name": "stdout",
          "text": [
            "Optimization Results:\n",
            "Objective Function Value: -118600.0\n",
            "Acres of Wheat: 120.0\n",
            "Acres of Corn: 80.0\n",
            "Acres of Sugar Beets: 300.0\n",
            "Tons of Wheat Produced: 300.0\n",
            "Tons of Corn Produced: 240.0\n",
            "Tons of Sugar Beets Produced: 6000.0\n",
            "Tons of Wheat Purchased: 0.0\n",
            "Tons of Corn Purchased: 0.0\n",
            "Tons of Wheat Sold: 100.0\n",
            "Tons of Corn Sold: 0.0\n",
            "Tons of Sugar Beets Sold at Quota Price: 6000.0\n",
            "Tons of Sugar Beets Sold at Excess Price: 0.0\n"
          ]
        }
      ]
    },
    {
      "cell_type": "markdown",
      "source": [
        "# 5. Correct The Model Code to Test Mathematical Model (if applicable)"
      ],
      "metadata": {
        "id": "KHTyoLQTWZVy"
      }
    },
    {
      "cell_type": "code",
      "source": [],
      "metadata": {
        "id": "REJzqhR6WYvM"
      },
      "execution_count": null,
      "outputs": []
    },
    {
      "cell_type": "code",
      "source": [],
      "metadata": {
        "id": "bPJ_54384nR_"
      },
      "execution_count": null,
      "outputs": []
    }
  ]
}