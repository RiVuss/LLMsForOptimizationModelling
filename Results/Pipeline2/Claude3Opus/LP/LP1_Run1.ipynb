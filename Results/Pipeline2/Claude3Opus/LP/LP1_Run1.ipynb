{
  "nbformat": 4,
  "nbformat_minor": 0,
  "metadata": {
    "colab": {
      "provenance": []
    },
    "kernelspec": {
      "name": "python3",
      "display_name": "Python 3"
    },
    "language_info": {
      "name": "python"
    }
  },
  "cells": [
    {
      "cell_type": "markdown",
      "source": [
        "# 0. Imports and Setting up Anthropic API Client"
      ],
      "metadata": {
        "id": "y5fw0lkBwBbo"
      }
    },
    {
      "cell_type": "code",
      "source": [
        "from google.colab import drive\n",
        "\n",
        "drive.mount('/content/drive')"
      ],
      "metadata": {
        "colab": {
          "base_uri": "https://localhost:8080/"
        },
        "id": "e7tWOLo0yMoH",
        "outputId": "32898ab9-71ec-4ac6-80be-a7ee61463fdd"
      },
      "execution_count": 1,
      "outputs": [
        {
          "output_type": "stream",
          "name": "stdout",
          "text": [
            "Mounted at /content/drive\n"
          ]
        }
      ]
    },
    {
      "cell_type": "code",
      "source": [
        "!pip install python-dotenv\n",
        "\n",
        "import os\n",
        "import dotenv\n",
        "\n",
        "dotenv.load_dotenv('/content/drive/MyDrive/.env')"
      ],
      "metadata": {
        "colab": {
          "base_uri": "https://localhost:8080/"
        },
        "id": "utcEK8lZ1Z1R",
        "outputId": "0c9729a8-bf23-466c-dee9-d96c65df6d08"
      },
      "execution_count": 2,
      "outputs": [
        {
          "output_type": "stream",
          "name": "stdout",
          "text": [
            "Collecting python-dotenv\n",
            "  Downloading python_dotenv-1.0.1-py3-none-any.whl (19 kB)\n",
            "Installing collected packages: python-dotenv\n",
            "Successfully installed python-dotenv-1.0.1\n"
          ]
        },
        {
          "output_type": "execute_result",
          "data": {
            "text/plain": [
              "True"
            ]
          },
          "metadata": {},
          "execution_count": 2
        }
      ]
    },
    {
      "cell_type": "code",
      "source": [
        "# Load Prompts and Problem Description\n",
        "# Variables Prompt\n",
        "prompt11_path = '/content/drive/MyDrive/Thesis/Prompts/Prompt11_MathematicalModel.txt'\n",
        "\n",
        "# Objective Prompt\n",
        "prompt12_path = '/content/drive/MyDrive/Thesis/Prompts/Prompt12_MathematicalModel.txt'\n",
        "\n",
        "# Constraint Prompt\n",
        "prompt13_path = '/content/drive/MyDrive/Thesis/Prompts/Prompt13_MathematicalModel.txt'\n",
        "\n",
        "# Code Prompt\n",
        "prompt2_path = '/content/drive/MyDrive/Thesis/Prompts/Prompt2_PyomoCode.txt'\n",
        "problem_desc_path = '/content/drive/MyDrive/Thesis/ProblemDescriptions/LP/LP1.txt'\n",
        "\n",
        "prompt11_file = open(prompt11_path, \"r\")\n",
        "prompt12_file = open(prompt12_path, \"r\")\n",
        "prompt13_file = open(prompt13_path, \"r\")\n",
        "prompt2_file = open(prompt2_path, \"r\")\n",
        "problem_desc_file = open(problem_desc_path, \"r\")\n",
        "\n",
        "prompt11 = prompt11_file.read()\n",
        "print(\"Prompt 1.1 (Variables):\\n\", prompt11)\n",
        "\n",
        "prompt12 = prompt12_file.read()\n",
        "print(\"Prompt 1.2 (Objctive):\\n\", prompt12)\n",
        "\n",
        "prompt13 = prompt13_file.read()\n",
        "print(\"Prompt 1.3 (Constraints):\\n\", prompt13)\n",
        "\n",
        "prompt2 = prompt2_file.read()\n",
        "print(\"Prompt 2:\\n\", prompt2)\n",
        "\n",
        "problem_desc = problem_desc_file.read()\n",
        "print(\"Problem Description:\\n\", problem_desc)"
      ],
      "metadata": {
        "colab": {
          "base_uri": "https://localhost:8080/"
        },
        "id": "9KlkjwMUS4xp",
        "outputId": "469d1326-7d83-4eec-8b42-3e380d50e5fa"
      },
      "execution_count": 6,
      "outputs": [
        {
          "output_type": "stream",
          "name": "stdout",
          "text": [
            "Prompt 1.1 (Variables):\n",
            " Please formulate only the variables for this mathematical optimization problem. \n",
            "Prompt 1.2 (Objctive):\n",
            " Please formulate only the objective function for this mathematical optimization problem. \n",
            "Prompt 1.3 (Constraints):\n",
            " Please formulate only the constraints for this mathematical optimization problem. \n",
            "Prompt 2:\n",
            " Please write a python pyomo code for this optimization problem.\n",
            "Use sample data where needed.\n",
            "Indicate where you use sample data.\n",
            "Problem Description:\n",
            " A firm from Milan sells chemical products for professional cosmetics. It is planning the production of three products, GCA, GCB and GCC, for a given period of\n",
            "time by mixing two different components: C1 and C2. All the end products must\n",
            "contain at least one of the two components, and not necessarily both.\n",
            "\n",
            "For the next planning period, 10,000 l of C1 and 15,000 l of C2 are available.\n",
            "The production of GCA, GCB and GCC must be scheduled to at least cover the\n",
            "minimum demand level of 6,000, 7,000 and 9,000 l, respectively. It is assumed\n",
            "that when chemical components are mixed, there is no loss or gain in volume.\n",
            "\n",
            "Each chemical component, C1 and C2, has a proportional critical element, 0.4\n",
            "and 0.2, respectively. That is to say, each litre of C1 contains 0.4 l of the critical\n",
            "element. To obtain GCA, the mixture must proportionally contain at least a 0.3\n",
            "fraction of the critical element. Another requirement is that the quantity of the\n",
            "critical element is seen in GCB, an 0.3 fraction at the most.\n",
            "Furthermore, the minimum ratio of C1 with C2 in product GCC must be 0.3.\n",
            "\n",
            "The profit expected for the sale of each litre of GCA, GCB and GCC is $120, $135\n",
            "and $155, respectively.\n",
            "\n",
            "Optimise the production planning of this firm. \n"
          ]
        }
      ]
    },
    {
      "cell_type": "code",
      "source": [
        "!pip install anthropic"
      ],
      "metadata": {
        "colab": {
          "base_uri": "https://localhost:8080/"
        },
        "id": "iWlNsTIvxCcR",
        "outputId": "982033c4-3831-4cd5-baa5-07a9e699f1a4",
        "collapsed": true
      },
      "execution_count": 4,
      "outputs": [
        {
          "output_type": "stream",
          "name": "stdout",
          "text": [
            "Collecting anthropic\n",
            "  Downloading anthropic-0.28.0-py3-none-any.whl (862 kB)\n",
            "\u001b[2K     \u001b[90m━━━━━━━━━━━━━━━━━━━━━━━━━━━━━━━━━━━━━━━━\u001b[0m \u001b[32m862.7/862.7 kB\u001b[0m \u001b[31m7.7 MB/s\u001b[0m eta \u001b[36m0:00:00\u001b[0m\n",
            "\u001b[?25hRequirement already satisfied: anyio<5,>=3.5.0 in /usr/local/lib/python3.10/dist-packages (from anthropic) (3.7.1)\n",
            "Requirement already satisfied: distro<2,>=1.7.0 in /usr/lib/python3/dist-packages (from anthropic) (1.7.0)\n",
            "Collecting httpx<1,>=0.23.0 (from anthropic)\n",
            "  Downloading httpx-0.27.0-py3-none-any.whl (75 kB)\n",
            "\u001b[2K     \u001b[90m━━━━━━━━━━━━━━━━━━━━━━━━━━━━━━━━━━━━━━━━\u001b[0m \u001b[32m75.6/75.6 kB\u001b[0m \u001b[31m8.0 MB/s\u001b[0m eta \u001b[36m0:00:00\u001b[0m\n",
            "\u001b[?25hCollecting jiter<1,>=0.4.0 (from anthropic)\n",
            "  Downloading jiter-0.4.1-cp310-cp310-manylinux_2_17_x86_64.manylinux2014_x86_64.whl (328 kB)\n",
            "\u001b[2K     \u001b[90m━━━━━━━━━━━━━━━━━━━━━━━━━━━━━━━━━━━━━━━━\u001b[0m \u001b[32m328.3/328.3 kB\u001b[0m \u001b[31m10.3 MB/s\u001b[0m eta \u001b[36m0:00:00\u001b[0m\n",
            "\u001b[?25hRequirement already satisfied: pydantic<3,>=1.9.0 in /usr/local/lib/python3.10/dist-packages (from anthropic) (2.7.3)\n",
            "Requirement already satisfied: sniffio in /usr/local/lib/python3.10/dist-packages (from anthropic) (1.3.1)\n",
            "Requirement already satisfied: tokenizers>=0.13.0 in /usr/local/lib/python3.10/dist-packages (from anthropic) (0.19.1)\n",
            "Requirement already satisfied: typing-extensions<5,>=4.7 in /usr/local/lib/python3.10/dist-packages (from anthropic) (4.12.1)\n",
            "Requirement already satisfied: idna>=2.8 in /usr/local/lib/python3.10/dist-packages (from anyio<5,>=3.5.0->anthropic) (3.7)\n",
            "Requirement already satisfied: exceptiongroup in /usr/local/lib/python3.10/dist-packages (from anyio<5,>=3.5.0->anthropic) (1.2.1)\n",
            "Requirement already satisfied: certifi in /usr/local/lib/python3.10/dist-packages (from httpx<1,>=0.23.0->anthropic) (2024.6.2)\n",
            "Collecting httpcore==1.* (from httpx<1,>=0.23.0->anthropic)\n",
            "  Downloading httpcore-1.0.5-py3-none-any.whl (77 kB)\n",
            "\u001b[2K     \u001b[90m━━━━━━━━━━━━━━━━━━━━━━━━━━━━━━━━━━━━━━━━\u001b[0m \u001b[32m77.9/77.9 kB\u001b[0m \u001b[31m9.3 MB/s\u001b[0m eta \u001b[36m0:00:00\u001b[0m\n",
            "\u001b[?25hCollecting h11<0.15,>=0.13 (from httpcore==1.*->httpx<1,>=0.23.0->anthropic)\n",
            "  Downloading h11-0.14.0-py3-none-any.whl (58 kB)\n",
            "\u001b[2K     \u001b[90m━━━━━━━━━━━━━━━━━━━━━━━━━━━━━━━━━━━━━━━━\u001b[0m \u001b[32m58.3/58.3 kB\u001b[0m \u001b[31m6.1 MB/s\u001b[0m eta \u001b[36m0:00:00\u001b[0m\n",
            "\u001b[?25hRequirement already satisfied: annotated-types>=0.4.0 in /usr/local/lib/python3.10/dist-packages (from pydantic<3,>=1.9.0->anthropic) (0.7.0)\n",
            "Requirement already satisfied: pydantic-core==2.18.4 in /usr/local/lib/python3.10/dist-packages (from pydantic<3,>=1.9.0->anthropic) (2.18.4)\n",
            "Requirement already satisfied: huggingface-hub<1.0,>=0.16.4 in /usr/local/lib/python3.10/dist-packages (from tokenizers>=0.13.0->anthropic) (0.23.2)\n",
            "Requirement already satisfied: filelock in /usr/local/lib/python3.10/dist-packages (from huggingface-hub<1.0,>=0.16.4->tokenizers>=0.13.0->anthropic) (3.14.0)\n",
            "Requirement already satisfied: fsspec>=2023.5.0 in /usr/local/lib/python3.10/dist-packages (from huggingface-hub<1.0,>=0.16.4->tokenizers>=0.13.0->anthropic) (2023.6.0)\n",
            "Requirement already satisfied: packaging>=20.9 in /usr/local/lib/python3.10/dist-packages (from huggingface-hub<1.0,>=0.16.4->tokenizers>=0.13.0->anthropic) (24.0)\n",
            "Requirement already satisfied: pyyaml>=5.1 in /usr/local/lib/python3.10/dist-packages (from huggingface-hub<1.0,>=0.16.4->tokenizers>=0.13.0->anthropic) (6.0.1)\n",
            "Requirement already satisfied: requests in /usr/local/lib/python3.10/dist-packages (from huggingface-hub<1.0,>=0.16.4->tokenizers>=0.13.0->anthropic) (2.31.0)\n",
            "Requirement already satisfied: tqdm>=4.42.1 in /usr/local/lib/python3.10/dist-packages (from huggingface-hub<1.0,>=0.16.4->tokenizers>=0.13.0->anthropic) (4.66.4)\n",
            "Requirement already satisfied: charset-normalizer<4,>=2 in /usr/local/lib/python3.10/dist-packages (from requests->huggingface-hub<1.0,>=0.16.4->tokenizers>=0.13.0->anthropic) (3.3.2)\n",
            "Requirement already satisfied: urllib3<3,>=1.21.1 in /usr/local/lib/python3.10/dist-packages (from requests->huggingface-hub<1.0,>=0.16.4->tokenizers>=0.13.0->anthropic) (2.0.7)\n",
            "Installing collected packages: jiter, h11, httpcore, httpx, anthropic\n",
            "Successfully installed anthropic-0.28.0 h11-0.14.0 httpcore-1.0.5 httpx-0.27.0 jiter-0.4.1\n"
          ]
        }
      ]
    },
    {
      "cell_type": "code",
      "execution_count": 5,
      "metadata": {
        "id": "7Qjk2D63v1Bl"
      },
      "outputs": [],
      "source": [
        "# Importing Anthropic & Setting Headers\n",
        "import anthropic\n",
        "\n",
        "client = anthropic.Anthropic(\n",
        "    # defaults to os.environ.get(\"ANTHROPIC_API_KEY\")\n",
        "    api_key=os.environ.get(\"ANTHROPIC_API_KEY\"),\n",
        ")"
      ]
    },
    {
      "cell_type": "markdown",
      "source": [
        "# 1. Prompt 1.1: Create Variables for Mathematical Model"
      ],
      "metadata": {
        "id": "kT7yKbJs18XR"
      }
    },
    {
      "cell_type": "code",
      "source": [
        "message11 = client.messages.create(\n",
        "    model=\"claude-3-opus-20240229\",\n",
        "    system=prompt11,\n",
        "    max_tokens=4096,\n",
        "    messages=[\n",
        "        {\"role\": \"user\", \"content\": problem_desc}\n",
        "    ]\n",
        ")\n",
        "\n",
        "response_p11 = message11.content[0].text"
      ],
      "metadata": {
        "id": "R_6X0axq16D4"
      },
      "execution_count": 7,
      "outputs": []
    },
    {
      "cell_type": "code",
      "source": [
        "# Print response\n",
        "print(response_p11)"
      ],
      "metadata": {
        "colab": {
          "base_uri": "https://localhost:8080/"
        },
        "id": "Ra9Ox_PI38jg",
        "outputId": "e336e278-3a6e-4015-b649-c4ee542acfcf"
      },
      "execution_count": 8,
      "outputs": [
        {
          "output_type": "stream",
          "name": "stdout",
          "text": [
            "Here are the variables for this mathematical optimization problem:\n",
            "\n",
            "Let:\n",
            "x1 = quantity of GCA produced (in liters)\n",
            "x2 = quantity of GCB produced (in liters) \n",
            "x3 = quantity of GCC produced (in liters)\n",
            "\n",
            "y11 = quantity of component C1 used in GCA (in liters)\n",
            "y12 = quantity of component C2 used in GCA (in liters)\n",
            "y21 = quantity of component C1 used in GCB (in liters)\n",
            "y22 = quantity of component C2 used in GCB (in liters)\n",
            "y31 = quantity of component C1 used in GCC (in liters)\n",
            "y32 = quantity of component C2 used in GCC (in liters)\n",
            "\n",
            "These are the key decision variables that need to be determined to optimize the production planning based on the given constraints and objective.\n"
          ]
        }
      ]
    },
    {
      "cell_type": "markdown",
      "source": [
        "# 1. Prompt 1.2: Create Objective for Mathematical Model"
      ],
      "metadata": {
        "id": "nbt6yH1snBQL"
      }
    },
    {
      "cell_type": "code",
      "source": [
        "message12 = client.messages.create(\n",
        "    model=\"claude-3-opus-20240229\",\n",
        "    system=prompt12,\n",
        "    max_tokens=4096,\n",
        "    messages=[\n",
        "        {\"role\": \"user\", \"content\": (problem_desc + response_p11)}\n",
        "    ]\n",
        ")\n",
        "\n",
        "response_p12 = message12.content[0].text"
      ],
      "metadata": {
        "id": "ol4rtt_MnAy8"
      },
      "execution_count": 9,
      "outputs": []
    },
    {
      "cell_type": "code",
      "source": [
        "# Print response\n",
        "print(response_p12)"
      ],
      "metadata": {
        "colab": {
          "base_uri": "https://localhost:8080/"
        },
        "id": "Vz2F_EARnzHf",
        "outputId": "57d7e183-0b13-4853-c069-56baa47463f4"
      },
      "execution_count": 10,
      "outputs": [
        {
          "output_type": "stream",
          "name": "stdout",
          "text": [
            "Given the profit expected for the sale of each litre of GCA, GCB and GCC is $120, $135 and $155 respectively, the objective function for this mathematical optimization problem that aims to maximize the total profit can be formulated as:\n",
            "\n",
            "maximize  120x1 + 135x2 + 155x3\n",
            "\n",
            "where:\n",
            "x1 = quantity of GCA produced (in liters)\n",
            "x2 = quantity of GCB produced (in liters)\n",
            "x3 = quantity of GCC produced (in liters)\n",
            "\n",
            "The objective function represents the total profit earned by producing and selling the three chemical products GCA, GCB and GCC. The coefficients 120, 135 and 155 represent the profit per liter for each product respectively.\n"
          ]
        }
      ]
    },
    {
      "cell_type": "markdown",
      "source": [
        "# 1. Prompt 1.3: Create Constraints for Mathematical Model\n"
      ],
      "metadata": {
        "id": "Wzf33DwvnEar"
      }
    },
    {
      "cell_type": "code",
      "source": [
        "message13 = client.messages.create(\n",
        "    model=\"claude-3-opus-20240229\",\n",
        "    system=prompt13,\n",
        "    max_tokens=4096,\n",
        "    messages=[\n",
        "        {\"role\": \"user\", \"content\": (problem_desc + response_p11 + response_p12)}\n",
        "    ]\n",
        ")\n",
        "\n",
        "response_p13 = message13.content[0].text"
      ],
      "metadata": {
        "id": "l1UAJRt7nENG"
      },
      "execution_count": 11,
      "outputs": []
    },
    {
      "cell_type": "code",
      "source": [
        "# Print response\n",
        "print(response_p13)"
      ],
      "metadata": {
        "colab": {
          "base_uri": "https://localhost:8080/"
        },
        "id": "vH7Ff9mxn4FZ",
        "outputId": "fbda2717-e829-4f8c-817d-7c6a3d1ad606"
      },
      "execution_count": 12,
      "outputs": [
        {
          "output_type": "stream",
          "name": "stdout",
          "text": [
            "Here are the constraints for this mathematical optimization problem:\n",
            "\n",
            "1. Component availability constraints:\n",
            "   y11 + y21 + y31 ≤ 10,000 (C1 availability)\n",
            "   y12 + y22 + y32 ≤ 15,000 (C2 availability)\n",
            "\n",
            "2. Demand constraints:\n",
            "   x1 ≥ 6,000 (minimum demand for GCA)\n",
            "   x2 ≥ 7,000 (minimum demand for GCB)\n",
            "   x3 ≥ 9,000 (minimum demand for GCC)\n",
            "\n",
            "3. Product composition constraints:\n",
            "   x1 = y11 + y12 (composition of GCA)\n",
            "   x2 = y21 + y22 (composition of GCB)\n",
            "   x3 = y31 + y32 (composition of GCC)\n",
            "\n",
            "4. Critical element constraints:\n",
            "   0.4y11 + 0.2y12 ≥ 0.3x1 (minimum critical element in GCA)\n",
            "   0.4y21 + 0.2y22 ≤ 0.3x2 (maximum critical element in GCB)\n",
            "\n",
            "5. Component ratio constraint:\n",
            "   y31 ≥ 0.3y32 (minimum ratio of C1 to C2 in GCC)\n",
            "\n",
            "6. Non-negativity constraints:\n",
            "   x1, x2, x3, y11, y12, y21, y22, y31, y32 ≥ 0 (all variables must be non-negative)\n",
            "\n",
            "These constraints ensure that:\n",
            "1. The available quantities of components C1 and C2 are not exceeded.\n",
            "2. The minimum demand for each product is met.\n",
            "3. The products are composed of the correct components.\n",
            "4. The critical element requirements for GCA and GCB are satisfied.\n",
            "5. The minimum ratio of C1 to C2 in GCC is maintained.\n",
            "6. All variables are non-negative, as negative quantities are not possible in this context.\n"
          ]
        }
      ]
    },
    {
      "cell_type": "markdown",
      "source": [
        "# 2. Prompt 2: Write Code based on Mathematical Model\n",
        "\n",
        "In case more than the component of each step was generated, use \"last instance\"/ \"newest version\" of the components.\n",
        "\n",
        "Example:\n",
        "Prompt 1.1 (Variables): Model generates only variables\n",
        "Prompt 1.2 (Objectvie): Model generates objective and constraints\n",
        "Prompt 1.3 (Constraints): Model generates only constraints\n",
        "\n",
        "Use Variables from step 1.1, use objective from 1.2 and use constraints from 1.3 (since constraints version 1.3 is more recent than constraints version 1.2).\n",
        "\n",
        "This set up allows for potential self-correction of the model throughout the three prompts.\n",
        "\n",
        "Correctness of each component is still generated in the respective step, so self-correction is independent of this."
      ],
      "metadata": {
        "id": "WPZ6lgBO729j"
      }
    },
    {
      "cell_type": "code",
      "source": [
        "message2 = client.messages.create(\n",
        "    model=\"claude-3-opus-20240229\",\n",
        "    system=prompt2,\n",
        "    max_tokens=4069,\n",
        "    messages=[\n",
        "        {\"role\": \"user\", \"content\": (response_p11 + response_p12 + response_p13)}\n",
        "    ]\n",
        ")\n",
        "\n",
        "response_p2 = message2.content[0].text"
      ],
      "metadata": {
        "id": "1iUSgBda70FL"
      },
      "execution_count": 13,
      "outputs": []
    },
    {
      "cell_type": "code",
      "source": [
        "# Print response\n",
        "print(response_p2)"
      ],
      "metadata": {
        "colab": {
          "base_uri": "https://localhost:8080/"
        },
        "id": "o40mxc_H8eQ9",
        "outputId": "ec3eb325-3aa4-4df7-c05b-7b543688c97c"
      },
      "execution_count": 14,
      "outputs": [
        {
          "output_type": "stream",
          "name": "stdout",
          "text": [
            "Here's the Python code using Pyomo to solve the optimization problem:\n",
            "\n",
            "```python\n",
            "from pyomo.environ import *\n",
            "\n",
            "# Create a Pyomo model\n",
            "model = ConcreteModel()\n",
            "\n",
            "# Define decision variables\n",
            "model.x1 = Var(within=NonNegativeReals)\n",
            "model.x2 = Var(within=NonNegativeReals)\n",
            "model.x3 = Var(within=NonNegativeReals)\n",
            "model.y11 = Var(within=NonNegativeReals)\n",
            "model.y12 = Var(within=NonNegativeReals)\n",
            "model.y21 = Var(within=NonNegativeReals)\n",
            "model.y22 = Var(within=NonNegativeReals)\n",
            "model.y31 = Var(within=NonNegativeReals)\n",
            "model.y32 = Var(within=NonNegativeReals)\n",
            "\n",
            "# Define objective function\n",
            "model.profit = Objective(expr=120*model.x1 + 135*model.x2 + 155*model.x3, sense=maximize)\n",
            "\n",
            "# Define constraints\n",
            "model.c1_availability = Constraint(expr=model.y11 + model.y21 + model.y31 <= 10000)\n",
            "model.c2_availability = Constraint(expr=model.y12 + model.y22 + model.y32 <= 15000)\n",
            "model.demand_gca = Constraint(expr=model.x1 >= 6000)\n",
            "model.demand_gcb = Constraint(expr=model.x2 >= 7000)\n",
            "model.demand_gcc = Constraint(expr=model.x3 >= 9000)\n",
            "model.composition_gca = Constraint(expr=model.x1 == model.y11 + model.y12)\n",
            "model.composition_gcb = Constraint(expr=model.x2 == model.y21 + model.y22)\n",
            "model.composition_gcc = Constraint(expr=model.x3 == model.y31 + model.y32)\n",
            "model.critical_element_gca = Constraint(expr=0.4*model.y11 + 0.2*model.y12 >= 0.3*model.x1)\n",
            "model.critical_element_gcb = Constraint(expr=0.4*model.y21 + 0.2*model.y22 <= 0.3*model.x2)\n",
            "model.component_ratio_gcc = Constraint(expr=model.y31 >= 0.3*model.y32)\n",
            "\n",
            "# Solve the optimization problem\n",
            "solver = SolverFactory('glpk')\n",
            "results = solver.solve(model)\n",
            "\n",
            "# Print the results\n",
            "print(\"Optimization Results:\")\n",
            "print(\"----------------------\")\n",
            "print(f\"Profit: ${model.profit():.2f}\")\n",
            "print(f\"GCA Produced: {model.x1():.2f} liters\")\n",
            "print(f\"GCB Produced: {model.x2():.2f} liters\")\n",
            "print(f\"GCC Produced: {model.x3():.2f} liters\")\n",
            "print(f\"C1 used in GCA: {model.y11():.2f} liters\")\n",
            "print(f\"C2 used in GCA: {model.y12():.2f} liters\")\n",
            "print(f\"C1 used in GCB: {model.y21():.2f} liters\")\n",
            "print(f\"C2 used in GCB: {model.y22():.2f} liters\")\n",
            "print(f\"C1 used in GCC: {model.y31():.2f} liters\")\n",
            "print(f\"C2 used in GCC: {model.y32():.2f} liters\")\n",
            "```\n",
            "\n",
            "Note: This code assumes you have Pyomo and the GLPK solver installed. You can install them using `pip install pyomo glpk`.\n",
            "\n",
            "The code defines the decision variables, objective function, and constraints based on the given problem formulation. It then solves the optimization problem using the GLPK solver and prints the optimal values for the decision variables and the total profit.\n",
            "\n",
            "No sample data is used in this code since all the necessary data is provided in the problem description.\n"
          ]
        }
      ]
    },
    {
      "cell_type": "markdown",
      "source": [
        "# 4. Input Problem Data and Test Model Code"
      ],
      "metadata": {
        "id": "Pc0QqJuf8up_"
      }
    },
    {
      "cell_type": "code",
      "source": [
        "# Installing pyomo nd solver\n",
        "!pip install -q pyomo\n",
        "!pip install pandas\n",
        "!apt-get install -y -qq glpk-utils\n",
        "!pip install glpk"
      ],
      "metadata": {
        "colab": {
          "base_uri": "https://localhost:8080/"
        },
        "id": "3BtROuLu9O-p",
        "outputId": "1418b3af-3f28-4e95-b177-8a7bd0c733e0",
        "collapsed": true
      },
      "execution_count": 15,
      "outputs": [
        {
          "output_type": "stream",
          "name": "stdout",
          "text": [
            "\u001b[2K     \u001b[90m━━━━━━━━━━━━━━━━━━━━━━━━━━━━━━━━━━━━━━━━\u001b[0m \u001b[32m12.8/12.8 MB\u001b[0m \u001b[31m28.7 MB/s\u001b[0m eta \u001b[36m0:00:00\u001b[0m\n",
            "\u001b[2K     \u001b[90m━━━━━━━━━━━━━━━━━━━━━━━━━━━━━━━━━━━━━━━━\u001b[0m \u001b[32m49.6/49.6 kB\u001b[0m \u001b[31m3.2 MB/s\u001b[0m eta \u001b[36m0:00:00\u001b[0m\n",
            "\u001b[?25hRequirement already satisfied: pandas in /usr/local/lib/python3.10/dist-packages (2.0.3)\n",
            "Requirement already satisfied: python-dateutil>=2.8.2 in /usr/local/lib/python3.10/dist-packages (from pandas) (2.8.2)\n",
            "Requirement already satisfied: pytz>=2020.1 in /usr/local/lib/python3.10/dist-packages (from pandas) (2023.4)\n",
            "Requirement already satisfied: tzdata>=2022.1 in /usr/local/lib/python3.10/dist-packages (from pandas) (2024.1)\n",
            "Requirement already satisfied: numpy>=1.21.0 in /usr/local/lib/python3.10/dist-packages (from pandas) (1.25.2)\n",
            "Requirement already satisfied: six>=1.5 in /usr/local/lib/python3.10/dist-packages (from python-dateutil>=2.8.2->pandas) (1.16.0)\n",
            "Selecting previously unselected package libsuitesparseconfig5:amd64.\n",
            "(Reading database ... 121918 files and directories currently installed.)\n",
            "Preparing to unpack .../libsuitesparseconfig5_1%3a5.10.1+dfsg-4build1_amd64.deb ...\n",
            "Unpacking libsuitesparseconfig5:amd64 (1:5.10.1+dfsg-4build1) ...\n",
            "Selecting previously unselected package libamd2:amd64.\n",
            "Preparing to unpack .../libamd2_1%3a5.10.1+dfsg-4build1_amd64.deb ...\n",
            "Unpacking libamd2:amd64 (1:5.10.1+dfsg-4build1) ...\n",
            "Selecting previously unselected package libcolamd2:amd64.\n",
            "Preparing to unpack .../libcolamd2_1%3a5.10.1+dfsg-4build1_amd64.deb ...\n",
            "Unpacking libcolamd2:amd64 (1:5.10.1+dfsg-4build1) ...\n",
            "Selecting previously unselected package libglpk40:amd64.\n",
            "Preparing to unpack .../libglpk40_5.0-1_amd64.deb ...\n",
            "Unpacking libglpk40:amd64 (5.0-1) ...\n",
            "Selecting previously unselected package glpk-utils.\n",
            "Preparing to unpack .../glpk-utils_5.0-1_amd64.deb ...\n",
            "Unpacking glpk-utils (5.0-1) ...\n",
            "Setting up libsuitesparseconfig5:amd64 (1:5.10.1+dfsg-4build1) ...\n",
            "Setting up libamd2:amd64 (1:5.10.1+dfsg-4build1) ...\n",
            "Setting up libcolamd2:amd64 (1:5.10.1+dfsg-4build1) ...\n",
            "Setting up libglpk40:amd64 (5.0-1) ...\n",
            "Setting up glpk-utils (5.0-1) ...\n",
            "Processing triggers for man-db (2.10.2-1) ...\n",
            "Processing triggers for libc-bin (2.35-0ubuntu3.4) ...\n",
            "/sbin/ldconfig.real: /usr/local/lib/libtbbmalloc.so.2 is not a symbolic link\n",
            "\n",
            "/sbin/ldconfig.real: /usr/local/lib/libtbbbind_2_5.so.3 is not a symbolic link\n",
            "\n",
            "/sbin/ldconfig.real: /usr/local/lib/libtbb.so.12 is not a symbolic link\n",
            "\n",
            "/sbin/ldconfig.real: /usr/local/lib/libtbbmalloc_proxy.so.2 is not a symbolic link\n",
            "\n",
            "/sbin/ldconfig.real: /usr/local/lib/libtbbbind.so.3 is not a symbolic link\n",
            "\n",
            "/sbin/ldconfig.real: /usr/local/lib/libtbbbind_2_0.so.3 is not a symbolic link\n",
            "\n",
            "Collecting glpk\n",
            "  Downloading glpk-0.4.7.tar.gz (161 kB)\n",
            "\u001b[2K     \u001b[90m━━━━━━━━━━━━━━━━━━━━━━━━━━━━━━━━━━━━━━━━\u001b[0m \u001b[32m161.2/161.2 kB\u001b[0m \u001b[31m4.0 MB/s\u001b[0m eta \u001b[36m0:00:00\u001b[0m\n",
            "\u001b[?25h  Installing build dependencies ... \u001b[?25l\u001b[?25hdone\n",
            "  Getting requirements to build wheel ... \u001b[?25l\u001b[?25hdone\n",
            "  Preparing metadata (pyproject.toml) ... \u001b[?25l\u001b[?25hdone\n",
            "Building wheels for collected packages: glpk\n",
            "  \u001b[1;31merror\u001b[0m: \u001b[1msubprocess-exited-with-error\u001b[0m\n",
            "  \n",
            "  \u001b[31m×\u001b[0m \u001b[32mBuilding wheel for glpk \u001b[0m\u001b[1;32m(\u001b[0m\u001b[32mpyproject.toml\u001b[0m\u001b[1;32m)\u001b[0m did not run successfully.\n",
            "  \u001b[31m│\u001b[0m exit code: \u001b[1;36m1\u001b[0m\n",
            "  \u001b[31m╰─>\u001b[0m See above for output.\n",
            "  \n",
            "  \u001b[1;35mnote\u001b[0m: This error originates from a subprocess, and is likely not a problem with pip.\n",
            "  Building wheel for glpk (pyproject.toml) ... \u001b[?25l\u001b[?25herror\n",
            "\u001b[31m  ERROR: Failed building wheel for glpk\u001b[0m\u001b[31m\n",
            "\u001b[0mFailed to build glpk\n",
            "\u001b[31mERROR: Could not build wheels for glpk, which is required to install pyproject.toml-based projects\u001b[0m\u001b[31m\n",
            "\u001b[0m"
          ]
        }
      ]
    },
    {
      "cell_type": "code",
      "source": [
        "from pyomo.environ import *\n",
        "\n",
        "# Create a Pyomo model\n",
        "model = ConcreteModel()\n",
        "\n",
        "# Define decision variables\n",
        "model.x1 = Var(within=NonNegativeReals)\n",
        "model.x2 = Var(within=NonNegativeReals)\n",
        "model.x3 = Var(within=NonNegativeReals)\n",
        "model.y11 = Var(within=NonNegativeReals)\n",
        "model.y12 = Var(within=NonNegativeReals)\n",
        "model.y21 = Var(within=NonNegativeReals)\n",
        "model.y22 = Var(within=NonNegativeReals)\n",
        "model.y31 = Var(within=NonNegativeReals)\n",
        "model.y32 = Var(within=NonNegativeReals)\n",
        "\n",
        "# Define objective function\n",
        "model.profit = Objective(expr=120*model.x1 + 135*model.x2 + 155*model.x3, sense=maximize)\n",
        "\n",
        "# Define constraints\n",
        "model.c1_availability = Constraint(expr=model.y11 + model.y21 + model.y31 <= 10000)\n",
        "model.c2_availability = Constraint(expr=model.y12 + model.y22 + model.y32 <= 15000)\n",
        "model.demand_gca = Constraint(expr=model.x1 >= 6000)\n",
        "model.demand_gcb = Constraint(expr=model.x2 >= 7000)\n",
        "model.demand_gcc = Constraint(expr=model.x3 >= 9000)\n",
        "model.composition_gca = Constraint(expr=model.x1 == model.y11 + model.y12)\n",
        "model.composition_gcb = Constraint(expr=model.x2 == model.y21 + model.y22)\n",
        "model.composition_gcc = Constraint(expr=model.x3 == model.y31 + model.y32)\n",
        "model.critical_element_gca = Constraint(expr=0.4*model.y11 + 0.2*model.y12 >= 0.3*model.x1)\n",
        "model.critical_element_gcb = Constraint(expr=0.4*model.y21 + 0.2*model.y22 <= 0.3*model.x2)\n",
        "model.component_ratio_gcc = Constraint(expr=model.y31 >= 0.3*model.y32)\n",
        "\n",
        "# Solve the optimization problem\n",
        "solver = SolverFactory('glpk')\n",
        "results = solver.solve(model)\n",
        "\n",
        "# Print the results\n",
        "print(\"Optimization Results:\")\n",
        "print(\"----------------------\")\n",
        "print(f\"Profit: ${model.profit():.2f}\")\n",
        "print(f\"GCA Produced: {model.x1():.2f} liters\")\n",
        "print(f\"GCB Produced: {model.x2():.2f} liters\")\n",
        "print(f\"GCC Produced: {model.x3():.2f} liters\")\n",
        "print(f\"C1 used in GCA: {model.y11():.2f} liters\")\n",
        "print(f\"C2 used in GCA: {model.y12():.2f} liters\")\n",
        "print(f\"C1 used in GCB: {model.y21():.2f} liters\")\n",
        "print(f\"C2 used in GCB: {model.y22():.2f} liters\")\n",
        "print(f\"C1 used in GCC: {model.y31():.2f} liters\")\n",
        "print(f\"C2 used in GCC: {model.y32():.2f} liters\")"
      ],
      "metadata": {
        "colab": {
          "base_uri": "https://localhost:8080/"
        },
        "id": "8FpHcuWU8rQ2",
        "outputId": "555a6f44-9129-4092-e436-e5754369494b"
      },
      "execution_count": 16,
      "outputs": [
        {
          "output_type": "stream",
          "name": "stdout",
          "text": [
            "Optimization Results:\n",
            "----------------------\n",
            "Profit: $3525000.00\n",
            "GCA Produced: 6000.00 liters\n",
            "GCB Produced: 7000.00 liters\n",
            "GCC Produced: 12000.00 liters\n",
            "C1 used in GCA: 3000.00 liters\n",
            "C2 used in GCA: 3000.00 liters\n",
            "C1 used in GCB: 0.00 liters\n",
            "C2 used in GCB: 7000.00 liters\n",
            "C1 used in GCC: 7000.00 liters\n",
            "C2 used in GCC: 5000.00 liters\n"
          ]
        }
      ]
    },
    {
      "cell_type": "markdown",
      "source": [
        "# 5. Correct The Model Code to Test Mathematical Model (if applicable)"
      ],
      "metadata": {
        "id": "KHTyoLQTWZVy"
      }
    },
    {
      "cell_type": "code",
      "source": [],
      "metadata": {
        "id": "REJzqhR6WYvM"
      },
      "execution_count": null,
      "outputs": []
    },
    {
      "cell_type": "code",
      "source": [],
      "metadata": {
        "id": "bPJ_54384nR_"
      },
      "execution_count": null,
      "outputs": []
    }
  ]
}