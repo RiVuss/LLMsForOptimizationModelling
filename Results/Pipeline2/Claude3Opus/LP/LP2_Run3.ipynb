{
  "nbformat": 4,
  "nbformat_minor": 0,
  "metadata": {
    "colab": {
      "provenance": []
    },
    "kernelspec": {
      "name": "python3",
      "display_name": "Python 3"
    },
    "language_info": {
      "name": "python"
    }
  },
  "cells": [
    {
      "cell_type": "markdown",
      "source": [
        "# 0. Imports and Setting up Anthropic API Client"
      ],
      "metadata": {
        "id": "y5fw0lkBwBbo"
      }
    },
    {
      "cell_type": "code",
      "source": [
        "from google.colab import drive\n",
        "\n",
        "drive.mount('/content/drive')"
      ],
      "metadata": {
        "colab": {
          "base_uri": "https://localhost:8080/"
        },
        "id": "e7tWOLo0yMoH",
        "outputId": "b002f53f-a76b-4cbb-c161-69398ac02256"
      },
      "execution_count": 1,
      "outputs": [
        {
          "output_type": "stream",
          "name": "stdout",
          "text": [
            "Mounted at /content/drive\n"
          ]
        }
      ]
    },
    {
      "cell_type": "code",
      "source": [
        "!pip install python-dotenv\n",
        "\n",
        "import os\n",
        "import dotenv\n",
        "\n",
        "dotenv.load_dotenv('/content/drive/MyDrive/.env')"
      ],
      "metadata": {
        "colab": {
          "base_uri": "https://localhost:8080/"
        },
        "id": "utcEK8lZ1Z1R",
        "outputId": "f5ac92ee-16f7-4e91-e618-36b71c019981"
      },
      "execution_count": 2,
      "outputs": [
        {
          "output_type": "stream",
          "name": "stdout",
          "text": [
            "Collecting python-dotenv\n",
            "  Downloading python_dotenv-1.0.1-py3-none-any.whl (19 kB)\n",
            "Installing collected packages: python-dotenv\n",
            "Successfully installed python-dotenv-1.0.1\n"
          ]
        },
        {
          "output_type": "execute_result",
          "data": {
            "text/plain": [
              "True"
            ]
          },
          "metadata": {},
          "execution_count": 2
        }
      ]
    },
    {
      "cell_type": "code",
      "source": [
        "# Load Prompts and Problem Description\n",
        "# Variables Prompt\n",
        "prompt11_path = '/content/drive/MyDrive/Thesis/Prompts/Prompt11_MathematicalModel.txt'\n",
        "\n",
        "# Objective Prompt\n",
        "prompt12_path = '/content/drive/MyDrive/Thesis/Prompts/Prompt12_MathematicalModel.txt'\n",
        "\n",
        "# Constraint Prompt\n",
        "prompt13_path = '/content/drive/MyDrive/Thesis/Prompts/Prompt13_MathematicalModel.txt'\n",
        "\n",
        "# Code Prompt\n",
        "prompt2_path = '/content/drive/MyDrive/Thesis/Prompts/Prompt2_PyomoCode.txt'\n",
        "problem_desc_path = '/content/drive/MyDrive/Thesis/ProblemDescriptions/LP/LP2.txt'\n",
        "\n",
        "prompt11_file = open(prompt11_path, \"r\")\n",
        "prompt12_file = open(prompt12_path, \"r\")\n",
        "prompt13_file = open(prompt13_path, \"r\")\n",
        "prompt2_file = open(prompt2_path, \"r\")\n",
        "problem_desc_file = open(problem_desc_path, \"r\")\n",
        "\n",
        "prompt11 = prompt11_file.read()\n",
        "print(\"Prompt 1.1 (Variables):\\n\", prompt11)\n",
        "\n",
        "prompt12 = prompt12_file.read()\n",
        "print(\"Prompt 1.2 (Objctive):\\n\", prompt12)\n",
        "\n",
        "prompt13 = prompt13_file.read()\n",
        "print(\"Prompt 1.3 (Constraints):\\n\", prompt13)\n",
        "\n",
        "prompt2 = prompt2_file.read()\n",
        "print(\"Prompt 2:\\n\", prompt2)\n",
        "\n",
        "problem_desc = problem_desc_file.read()\n",
        "print(\"Problem Description:\\n\", problem_desc)"
      ],
      "metadata": {
        "colab": {
          "base_uri": "https://localhost:8080/"
        },
        "id": "9KlkjwMUS4xp",
        "outputId": "133f92fb-53c6-4e58-9984-fc5d5869388d"
      },
      "execution_count": 3,
      "outputs": [
        {
          "output_type": "stream",
          "name": "stdout",
          "text": [
            "Prompt 1.1 (Variables):\n",
            " Please formulate only the variables for this mathematical optimization problem. \n",
            "Prompt 1.2 (Objctive):\n",
            " Please formulate only the objective function for this mathematical optimization problem. \n",
            "Prompt 1.3 (Constraints):\n",
            " Please formulate only the constraints for this mathematical optimization problem. \n",
            "Prompt 2:\n",
            " Please write a python pyomo code for this optimization problem.\n",
            "Use sample data where needed.\n",
            "Indicate where you use sample data.\n",
            "Problem Description:\n",
            " You are in charge of the supply purchasing of a company that produces two kinds of drugs. \n",
            "The drugs contain a specific active agent, which is extracted from two different kinds of raw materials that should be purchased on the market. \n",
            "\n",
            "The goal is to maximize the total profit obtained from producing the drugs, which means minimizing purchasing costs for buying the raw materials and minimizing operational costs for producing the drugs while maximizing sales. \n",
            "\n",
            "You are given a budget for purchasing raw materials and operating the production process of the drugs which cannot be exceeded. \n",
            "Additionally, you need to keep the capacity constraints for the production of the drugs in mind as there is only a limited amount of manpower as well as equipment hours available. \n",
            "Your company can also only store a limited amount of raw materials. \n",
            "Most importantly, the amount of active ingredient extracted from the raw materials you purchase needs to satisfy the required amount of active ingredient in the drugs your company produces. \n",
            "Importantly, your experience with the production of the drugs has shown the the amount of active ingredient your process extracts from the two raw materials can vary by up to 0.5% and 2%, respectively. \n",
            "During purchasing, you need to make sure that no matter how much the amount of active ingredient varies, the required amount for the drug production is always met. \n"
          ]
        }
      ]
    },
    {
      "cell_type": "code",
      "source": [
        "!pip install anthropic"
      ],
      "metadata": {
        "colab": {
          "base_uri": "https://localhost:8080/"
        },
        "id": "iWlNsTIvxCcR",
        "outputId": "a0dc2f26-a6ba-458f-8461-5c829a740020",
        "collapsed": true
      },
      "execution_count": 4,
      "outputs": [
        {
          "output_type": "stream",
          "name": "stdout",
          "text": [
            "Collecting anthropic\n",
            "  Downloading anthropic-0.28.0-py3-none-any.whl (862 kB)\n",
            "\u001b[2K     \u001b[90m━━━━━━━━━━━━━━━━━━━━━━━━━━━━━━━━━━━━━━━━\u001b[0m \u001b[32m862.7/862.7 kB\u001b[0m \u001b[31m4.9 MB/s\u001b[0m eta \u001b[36m0:00:00\u001b[0m\n",
            "\u001b[?25hRequirement already satisfied: anyio<5,>=3.5.0 in /usr/local/lib/python3.10/dist-packages (from anthropic) (3.7.1)\n",
            "Requirement already satisfied: distro<2,>=1.7.0 in /usr/lib/python3/dist-packages (from anthropic) (1.7.0)\n",
            "Collecting httpx<1,>=0.23.0 (from anthropic)\n",
            "  Downloading httpx-0.27.0-py3-none-any.whl (75 kB)\n",
            "\u001b[2K     \u001b[90m━━━━━━━━━━━━━━━━━━━━━━━━━━━━━━━━━━━━━━━━\u001b[0m \u001b[32m75.6/75.6 kB\u001b[0m \u001b[31m7.6 MB/s\u001b[0m eta \u001b[36m0:00:00\u001b[0m\n",
            "\u001b[?25hCollecting jiter<1,>=0.4.0 (from anthropic)\n",
            "  Downloading jiter-0.4.1-cp310-cp310-manylinux_2_17_x86_64.manylinux2014_x86_64.whl (328 kB)\n",
            "\u001b[2K     \u001b[90m━━━━━━━━━━━━━━━━━━━━━━━━━━━━━━━━━━━━━━━━\u001b[0m \u001b[32m328.3/328.3 kB\u001b[0m \u001b[31m29.0 MB/s\u001b[0m eta \u001b[36m0:00:00\u001b[0m\n",
            "\u001b[?25hRequirement already satisfied: pydantic<3,>=1.9.0 in /usr/local/lib/python3.10/dist-packages (from anthropic) (2.7.3)\n",
            "Requirement already satisfied: sniffio in /usr/local/lib/python3.10/dist-packages (from anthropic) (1.3.1)\n",
            "Requirement already satisfied: tokenizers>=0.13.0 in /usr/local/lib/python3.10/dist-packages (from anthropic) (0.19.1)\n",
            "Requirement already satisfied: typing-extensions<5,>=4.7 in /usr/local/lib/python3.10/dist-packages (from anthropic) (4.12.1)\n",
            "Requirement already satisfied: idna>=2.8 in /usr/local/lib/python3.10/dist-packages (from anyio<5,>=3.5.0->anthropic) (3.7)\n",
            "Requirement already satisfied: exceptiongroup in /usr/local/lib/python3.10/dist-packages (from anyio<5,>=3.5.0->anthropic) (1.2.1)\n",
            "Requirement already satisfied: certifi in /usr/local/lib/python3.10/dist-packages (from httpx<1,>=0.23.0->anthropic) (2024.6.2)\n",
            "Collecting httpcore==1.* (from httpx<1,>=0.23.0->anthropic)\n",
            "  Downloading httpcore-1.0.5-py3-none-any.whl (77 kB)\n",
            "\u001b[2K     \u001b[90m━━━━━━━━━━━━━━━━━━━━━━━━━━━━━━━━━━━━━━━━\u001b[0m \u001b[32m77.9/77.9 kB\u001b[0m \u001b[31m6.1 MB/s\u001b[0m eta \u001b[36m0:00:00\u001b[0m\n",
            "\u001b[?25hCollecting h11<0.15,>=0.13 (from httpcore==1.*->httpx<1,>=0.23.0->anthropic)\n",
            "  Downloading h11-0.14.0-py3-none-any.whl (58 kB)\n",
            "\u001b[2K     \u001b[90m━━━━━━━━━━━━━━━━━━━━━━━━━━━━━━━━━━━━━━━━\u001b[0m \u001b[32m58.3/58.3 kB\u001b[0m \u001b[31m6.4 MB/s\u001b[0m eta \u001b[36m0:00:00\u001b[0m\n",
            "\u001b[?25hRequirement already satisfied: annotated-types>=0.4.0 in /usr/local/lib/python3.10/dist-packages (from pydantic<3,>=1.9.0->anthropic) (0.7.0)\n",
            "Requirement already satisfied: pydantic-core==2.18.4 in /usr/local/lib/python3.10/dist-packages (from pydantic<3,>=1.9.0->anthropic) (2.18.4)\n",
            "Requirement already satisfied: huggingface-hub<1.0,>=0.16.4 in /usr/local/lib/python3.10/dist-packages (from tokenizers>=0.13.0->anthropic) (0.23.2)\n",
            "Requirement already satisfied: filelock in /usr/local/lib/python3.10/dist-packages (from huggingface-hub<1.0,>=0.16.4->tokenizers>=0.13.0->anthropic) (3.14.0)\n",
            "Requirement already satisfied: fsspec>=2023.5.0 in /usr/local/lib/python3.10/dist-packages (from huggingface-hub<1.0,>=0.16.4->tokenizers>=0.13.0->anthropic) (2023.6.0)\n",
            "Requirement already satisfied: packaging>=20.9 in /usr/local/lib/python3.10/dist-packages (from huggingface-hub<1.0,>=0.16.4->tokenizers>=0.13.0->anthropic) (24.0)\n",
            "Requirement already satisfied: pyyaml>=5.1 in /usr/local/lib/python3.10/dist-packages (from huggingface-hub<1.0,>=0.16.4->tokenizers>=0.13.0->anthropic) (6.0.1)\n",
            "Requirement already satisfied: requests in /usr/local/lib/python3.10/dist-packages (from huggingface-hub<1.0,>=0.16.4->tokenizers>=0.13.0->anthropic) (2.31.0)\n",
            "Requirement already satisfied: tqdm>=4.42.1 in /usr/local/lib/python3.10/dist-packages (from huggingface-hub<1.0,>=0.16.4->tokenizers>=0.13.0->anthropic) (4.66.4)\n",
            "Requirement already satisfied: charset-normalizer<4,>=2 in /usr/local/lib/python3.10/dist-packages (from requests->huggingface-hub<1.0,>=0.16.4->tokenizers>=0.13.0->anthropic) (3.3.2)\n",
            "Requirement already satisfied: urllib3<3,>=1.21.1 in /usr/local/lib/python3.10/dist-packages (from requests->huggingface-hub<1.0,>=0.16.4->tokenizers>=0.13.0->anthropic) (2.0.7)\n",
            "Installing collected packages: jiter, h11, httpcore, httpx, anthropic\n",
            "Successfully installed anthropic-0.28.0 h11-0.14.0 httpcore-1.0.5 httpx-0.27.0 jiter-0.4.1\n"
          ]
        }
      ]
    },
    {
      "cell_type": "code",
      "execution_count": 5,
      "metadata": {
        "id": "7Qjk2D63v1Bl"
      },
      "outputs": [],
      "source": [
        "# Importing Anthropic & Setting Headers\n",
        "import anthropic\n",
        "\n",
        "client = anthropic.Anthropic(\n",
        "    # defaults to os.environ.get(\"ANTHROPIC_API_KEY\")\n",
        "    api_key=os.environ.get(\"ANTHROPIC_API_KEY\"),\n",
        ")"
      ]
    },
    {
      "cell_type": "markdown",
      "source": [
        "# 1. Prompt 1.1: Create Variables for Mathematical Model"
      ],
      "metadata": {
        "id": "kT7yKbJs18XR"
      }
    },
    {
      "cell_type": "code",
      "source": [
        "message11 = client.messages.create(\n",
        "    model=\"claude-3-opus-20240229\",\n",
        "    system=prompt11,\n",
        "    max_tokens=4096,\n",
        "    messages=[\n",
        "        {\"role\": \"user\", \"content\": problem_desc}\n",
        "    ]\n",
        ")\n",
        "\n",
        "response_p11 = message11.content[0].text"
      ],
      "metadata": {
        "id": "R_6X0axq16D4"
      },
      "execution_count": 6,
      "outputs": []
    },
    {
      "cell_type": "code",
      "source": [
        "# Print response\n",
        "print(response_p11)"
      ],
      "metadata": {
        "colab": {
          "base_uri": "https://localhost:8080/"
        },
        "id": "Ra9Ox_PI38jg",
        "outputId": "9d177cbb-774c-4eb9-af87-00f0bf1d7cd2"
      },
      "execution_count": 7,
      "outputs": [
        {
          "output_type": "stream",
          "name": "stdout",
          "text": [
            "Here are the variables for the mathematical optimization problem:\n",
            "\n",
            "Decision Variables:\n",
            "- x1: Amount of raw material 1 purchased (in kg)\n",
            "- x2: Amount of raw material 2 purchased (in kg)\n",
            "- y1: Amount of drug 1 produced (in units)\n",
            "- y2: Amount of drug 2 produced (in units)\n",
            "\n",
            "Parameters:\n",
            "- c1: Cost per kg of raw material 1\n",
            "- c2: Cost per kg of raw material 2\n",
            "- p1: Price per unit of drug 1\n",
            "- p2: Price per unit of drug 2\n",
            "- B: Total budget for purchasing raw materials and operating the production process\n",
            "- M: Available manpower hours\n",
            "- E: Available equipment hours\n",
            "- S1: Storage capacity for raw material 1 (in kg)\n",
            "- S2: Storage capacity for raw material 2 (in kg)\n",
            "- a1: Amount of active ingredient required per unit of drug 1\n",
            "- a2: Amount of active ingredient required per unit of drug 2\n",
            "- r11: Amount of active ingredient extracted from 1 kg of raw material 1 (lower bound)\n",
            "- r12: Amount of active ingredient extracted from 1 kg of raw material 1 (upper bound)\n",
            "- r21: Amount of active ingredient extracted from 1 kg of raw material 2 (lower bound)\n",
            "- r22: Amount of active ingredient extracted from 1 kg of raw material 2 (upper bound)\n",
            "- m1: Manpower hours required to produce one unit of drug 1\n",
            "- m2: Manpower hours required to produce one unit of drug 2\n",
            "- e1: Equipment hours required to produce one unit of drug 1\n",
            "- e2: Equipment hours required to produce one unit of drug 2\n",
            "\n",
            "The objective is to maximize the total profit, which is the revenue from selling the drugs minus the costs for purchasing raw materials and operating the production process.\n"
          ]
        }
      ]
    },
    {
      "cell_type": "markdown",
      "source": [
        "# 1. Prompt 1.2: Create Objective for Mathematical Model"
      ],
      "metadata": {
        "id": "nbt6yH1snBQL"
      }
    },
    {
      "cell_type": "code",
      "source": [
        "message12 = client.messages.create(\n",
        "    model=\"claude-3-opus-20240229\",\n",
        "    system=prompt12,\n",
        "    max_tokens=4096,\n",
        "    messages=[\n",
        "        {\"role\": \"user\", \"content\": (problem_desc + response_p11)}\n",
        "    ]\n",
        ")\n",
        "\n",
        "response_p12 = message12.content[0].text"
      ],
      "metadata": {
        "id": "ol4rtt_MnAy8"
      },
      "execution_count": 8,
      "outputs": []
    },
    {
      "cell_type": "code",
      "source": [
        "# Print response\n",
        "print(response_p12)"
      ],
      "metadata": {
        "colab": {
          "base_uri": "https://localhost:8080/"
        },
        "id": "Vz2F_EARnzHf",
        "outputId": "7a124be5-2273-4e2f-ca08-c8d2484655f6"
      },
      "execution_count": 9,
      "outputs": [
        {
          "output_type": "stream",
          "name": "stdout",
          "text": [
            "The objective function for this mathematical optimization problem can be formulated as follows:\n",
            "\n",
            "Maximize: p1 * y1 + p2 * y2 - (c1 * x1 + c2 * x2)\n",
            "\n",
            "Where:\n",
            "- p1 * y1 represents the revenue from selling drug 1\n",
            "- p2 * y2 represents the revenue from selling drug 2\n",
            "- c1 * x1 represents the cost of purchasing raw material 1\n",
            "- c2 * x2 represents the cost of purchasing raw material 2\n",
            "\n",
            "The objective function aims to maximize the total profit by maximizing the revenue from selling the drugs while minimizing the costs of purchasing the raw materials. The operational costs for producing the drugs are not included in the objective function but are considered in the budget constraint.\n"
          ]
        }
      ]
    },
    {
      "cell_type": "markdown",
      "source": [
        "# 1. Prompt 1.3: Create Constraints for Mathematical Model\n"
      ],
      "metadata": {
        "id": "Wzf33DwvnEar"
      }
    },
    {
      "cell_type": "code",
      "source": [
        "message13 = client.messages.create(\n",
        "    model=\"claude-3-opus-20240229\",\n",
        "    system=prompt13,\n",
        "    max_tokens=4096,\n",
        "    messages=[\n",
        "        {\"role\": \"user\", \"content\": (problem_desc + response_p11 + response_p12)}\n",
        "    ]\n",
        ")\n",
        "\n",
        "response_p13 = message13.content[0].text"
      ],
      "metadata": {
        "id": "l1UAJRt7nENG"
      },
      "execution_count": 10,
      "outputs": []
    },
    {
      "cell_type": "code",
      "source": [
        "# Print response\n",
        "print(response_p13)"
      ],
      "metadata": {
        "colab": {
          "base_uri": "https://localhost:8080/"
        },
        "id": "vH7Ff9mxn4FZ",
        "outputId": "de4b26a7-3bf8-4791-a68b-4036475b4569"
      },
      "execution_count": 11,
      "outputs": [
        {
          "output_type": "stream",
          "name": "stdout",
          "text": [
            "Constraints:\n",
            "\n",
            "1. Budget constraint:\n",
            "   c1 * x1 + c2 * x2 <= B\n",
            "\n",
            "2. Manpower constraint:\n",
            "   m1 * y1 + m2 * y2 <= M\n",
            "\n",
            "3. Equipment constraint:\n",
            "   e1 * y1 + e2 * y2 <= E\n",
            "\n",
            "4. Storage capacity constraints:\n",
            "   x1 <= S1\n",
            "   x2 <= S2\n",
            "\n",
            "5. Active ingredient constraints (worst-case scenarios):\n",
            "   r11 * x1 + r21 * x2 >= a1 * y1 + a2 * y2\n",
            "   r12 * x1 + r22 * x2 >= a1 * y1 + a2 * y2\n",
            "\n",
            "6. Non-negativity constraints:\n",
            "   x1, x2, y1, y2 >= 0\n",
            "\n",
            "Explanation:\n",
            "1. The budget constraint ensures that the total cost of purchasing raw materials does not exceed the available budget B.\n",
            "\n",
            "2. The manpower constraint ensures that the total manpower hours required for producing the drugs do not exceed the available manpower hours M.\n",
            "\n",
            "3. The equipment constraint ensures that the total equipment hours required for producing the drugs do not exceed the available equipment hours E.\n",
            "\n",
            "4. The storage capacity constraints ensure that the amount of each raw material purchased does not exceed the respective storage capacities S1 and S2.\n",
            "\n",
            "5. The active ingredient constraints ensure that the amount of active ingredient extracted from the purchased raw materials is sufficient to meet the required amount for producing the drugs, considering the worst-case scenarios of the extraction process (lower and upper bounds of the extraction rates).\n",
            "\n",
            "6. The non-negativity constraints ensure that the decision variables (x1, x2, y1, y2) take non-negative values.\n",
            "\n",
            "These constraints, along with the objective function, form the complete mathematical optimization problem for maximizing the total profit while considering the various constraints and requirements.\n"
          ]
        }
      ]
    },
    {
      "cell_type": "markdown",
      "source": [
        "# 2. Prompt 2: Write Code based on Mathematical Model\n",
        "\n",
        "In case more than the component of each step was generated, use \"last instance\"/ \"newest version\" of the components.\n",
        "\n",
        "Example:\n",
        "Prompt 1.1 (Variables): Model generates only variables\n",
        "Prompt 1.2 (Objectvie): Model generates objective and constraints\n",
        "Prompt 1.3 (Constraints): Model generates only constraints\n",
        "\n",
        "Use Variables from step 1.1, use objective from 1.2 and use constraints from 1.3 (since constraints version 1.3 is more recent than constraints version 1.2).\n",
        "\n",
        "This set up allows for potential self-correction of the model throughout the three prompts.\n",
        "\n",
        "Correctness of each component is still generated in the respective step, so self-correction is independent of this."
      ],
      "metadata": {
        "id": "WPZ6lgBO729j"
      }
    },
    {
      "cell_type": "code",
      "source": [
        "message2 = client.messages.create(\n",
        "    model=\"claude-3-opus-20240229\",\n",
        "    system=prompt2,\n",
        "    max_tokens=4069,\n",
        "    messages=[\n",
        "        {\"role\": \"user\", \"content\": (response_p11 + response_p12 + response_p13)}\n",
        "    ]\n",
        ")\n",
        "\n",
        "response_p2 = message2.content[0].text"
      ],
      "metadata": {
        "id": "1iUSgBda70FL"
      },
      "execution_count": 12,
      "outputs": []
    },
    {
      "cell_type": "code",
      "source": [
        "# Print response\n",
        "print(response_p2)"
      ],
      "metadata": {
        "colab": {
          "base_uri": "https://localhost:8080/"
        },
        "id": "o40mxc_H8eQ9",
        "outputId": "b16a3997-4187-4c80-8626-4ff3289963d3"
      },
      "execution_count": 13,
      "outputs": [
        {
          "output_type": "stream",
          "name": "stdout",
          "text": [
            "Here's a Python code using Pyomo to solve the optimization problem you described:\n",
            "\n",
            "```python\n",
            "from pyomo.environ import *\n",
            "\n",
            "# Create a Pyomo model\n",
            "model = ConcreteModel()\n",
            "\n",
            "# Define the decision variables\n",
            "model.x1 = Var(domain=NonNegativeReals)  # Amount of raw material 1 purchased (in kg)\n",
            "model.x2 = Var(domain=NonNegativeReals)  # Amount of raw material 2 purchased (in kg)\n",
            "model.y1 = Var(domain=NonNegativeReals)  # Amount of drug 1 produced (in units)\n",
            "model.y2 = Var(domain=NonNegativeReals)  # Amount of drug 2 produced (in units)\n",
            "\n",
            "# Define the parameters (sample data)\n",
            "model.c1 = Param(initialize=10)  # Cost per kg of raw material 1\n",
            "model.c2 = Param(initialize=15)  # Cost per kg of raw material 2\n",
            "model.p1 = Param(initialize=50)  # Price per unit of drug 1\n",
            "model.p2 = Param(initialize=60)  # Price per unit of drug 2\n",
            "model.B = Param(initialize=1000)  # Total budget for purchasing raw materials and operating the production process\n",
            "model.M = Param(initialize=200)  # Available manpower hours\n",
            "model.E = Param(initialize=150)  # Available equipment hours\n",
            "model.S1 = Param(initialize=100)  # Storage capacity for raw material 1 (in kg)\n",
            "model.S2 = Param(initialize=80)  # Storage capacity for raw material 2 (in kg)\n",
            "model.a1 = Param(initialize=0.5)  # Amount of active ingredient required per unit of drug 1\n",
            "model.a2 = Param(initialize=0.6)  # Amount of active ingredient required per unit of drug 2\n",
            "model.r11 = Param(initialize=0.8)  # Amount of active ingredient extracted from 1 kg of raw material 1 (lower bound)\n",
            "model.r12 = Param(initialize=0.9)  # Amount of active ingredient extracted from 1 kg of raw material 1 (upper bound)\n",
            "model.r21 = Param(initialize=0.7)  # Amount of active ingredient extracted from 1 kg of raw material 2 (lower bound)\n",
            "model.r22 = Param(initialize=0.8)  # Amount of active ingredient extracted from 1 kg of raw material 2 (upper bound)\n",
            "model.m1 = Param(initialize=1.5)  # Manpower hours required to produce one unit of drug 1\n",
            "model.m2 = Param(initialize=2)  # Manpower hours required to produce one unit of drug 2\n",
            "model.e1 = Param(initialize=1)  # Equipment hours required to produce one unit of drug 1\n",
            "model.e2 = Param(initialize=1.2)  # Equipment hours required to produce one unit of drug 2\n",
            "\n",
            "# Define the objective function\n",
            "model.profit = Objective(expr=model.p1 * model.y1 + model.p2 * model.y2 - (model.c1 * model.x1 + model.c2 * model.x2), sense=maximize)\n",
            "\n",
            "# Define the constraints\n",
            "model.budget_constraint = Constraint(expr=model.c1 * model.x1 + model.c2 * model.x2 <= model.B)\n",
            "model.manpower_constraint = Constraint(expr=model.m1 * model.y1 + model.m2 * model.y2 <= model.M)\n",
            "model.equipment_constraint = Constraint(expr=model.e1 * model.y1 + model.e2 * model.y2 <= model.E)\n",
            "model.storage_constraint1 = Constraint(expr=model.x1 <= model.S1)\n",
            "model.storage_constraint2 = Constraint(expr=model.x2 <= model.S2)\n",
            "model.ingredient_constraint1 = Constraint(expr=model.r11 * model.x1 + model.r21 * model.x2 >= model.a1 * model.y1 + model.a2 * model.y2)\n",
            "model.ingredient_constraint2 = Constraint(expr=model.r12 * model.x1 + model.r22 * model.x2 >= model.a1 * model.y1 + model.a2 * model.y2)\n",
            "\n",
            "# Solve the optimization problem\n",
            "solver = SolverFactory('glpk')  # You can use any other solver (e.g., 'cplex', 'gurobi')\n",
            "results = solver.solve(model)\n",
            "\n",
            "# Print the optimal solution\n",
            "print(\"Optimal Solution:\")\n",
            "print(\"x1 =\", model.x1.value)\n",
            "print(\"x2 =\", model.x2.value)\n",
            "print(\"y1 =\", model.y1.value)\n",
            "print(\"y2 =\", model.y2.value)\n",
            "print(\"Total Profit =\", model.profit.expr())\n",
            "```\n",
            "\n",
            "In this code, we first create a Pyomo model using `ConcreteModel()`. Then, we define the decision variables (`x1`, `x2`, `y1`, `y2`) as non-negative real variables using `Var(domain=NonNegativeReals)`.\n",
            "\n",
            "Next, we define the parameters using `Param(initialize=value)`. The values provided here are sample data, and you can replace them with your actual data.\n",
            "\n",
            "We define the objective function using `Objective(expr=expression, sense=maximize)`, where `expression` represents the profit function, and `sense=maximize` indicates that we want to maximize the profit.\n",
            "\n",
            "Then, we define the constraints using `Constraint(expr=expression)`, where `expression` represents the constraint equation.\n",
            "\n",
            "Finally, we solve the optimization problem using a solver (in this case, `'glpk'`). You can choose any other solver supported by Pyomo, such as `'cplex'` or `'gurobi'`.\n",
            "\n",
            "After solving the problem, we print the optimal values of the decision variables and the total profit.\n",
            "\n",
            "Note: Make sure you have Pyomo and a suitable solver (e.g., GLPK) installed before running this code.\n"
          ]
        }
      ]
    },
    {
      "cell_type": "markdown",
      "source": [
        "# 4. Input Problem Data and Test Model Code"
      ],
      "metadata": {
        "id": "Pc0QqJuf8up_"
      }
    },
    {
      "cell_type": "code",
      "source": [
        "# Installing pyomo nd solver\n",
        "!pip install -q pyomo\n",
        "!pip install pandas\n",
        "!apt-get install -y -qq glpk-utils\n",
        "!pip install glpk"
      ],
      "metadata": {
        "colab": {
          "base_uri": "https://localhost:8080/"
        },
        "id": "3BtROuLu9O-p",
        "outputId": "42567103-f8c1-4959-e0b7-afefb1df5ef8",
        "collapsed": true
      },
      "execution_count": 14,
      "outputs": [
        {
          "output_type": "stream",
          "name": "stdout",
          "text": [
            "\u001b[2K     \u001b[90m━━━━━━━━━━━━━━━━━━━━━━━━━━━━━━━━━━━━━━━━\u001b[0m \u001b[32m12.8/12.8 MB\u001b[0m \u001b[31m52.5 MB/s\u001b[0m eta \u001b[36m0:00:00\u001b[0m\n",
            "\u001b[2K     \u001b[90m━━━━━━━━━━━━━━━━━━━━━━━━━━━━━━━━━━━━━━━━\u001b[0m \u001b[32m49.6/49.6 kB\u001b[0m \u001b[31m4.6 MB/s\u001b[0m eta \u001b[36m0:00:00\u001b[0m\n",
            "\u001b[?25hRequirement already satisfied: pandas in /usr/local/lib/python3.10/dist-packages (2.0.3)\n",
            "Requirement already satisfied: python-dateutil>=2.8.2 in /usr/local/lib/python3.10/dist-packages (from pandas) (2.8.2)\n",
            "Requirement already satisfied: pytz>=2020.1 in /usr/local/lib/python3.10/dist-packages (from pandas) (2023.4)\n",
            "Requirement already satisfied: tzdata>=2022.1 in /usr/local/lib/python3.10/dist-packages (from pandas) (2024.1)\n",
            "Requirement already satisfied: numpy>=1.21.0 in /usr/local/lib/python3.10/dist-packages (from pandas) (1.25.2)\n",
            "Requirement already satisfied: six>=1.5 in /usr/local/lib/python3.10/dist-packages (from python-dateutil>=2.8.2->pandas) (1.16.0)\n",
            "Selecting previously unselected package libsuitesparseconfig5:amd64.\n",
            "(Reading database ... 121918 files and directories currently installed.)\n",
            "Preparing to unpack .../libsuitesparseconfig5_1%3a5.10.1+dfsg-4build1_amd64.deb ...\n",
            "Unpacking libsuitesparseconfig5:amd64 (1:5.10.1+dfsg-4build1) ...\n",
            "Selecting previously unselected package libamd2:amd64.\n",
            "Preparing to unpack .../libamd2_1%3a5.10.1+dfsg-4build1_amd64.deb ...\n",
            "Unpacking libamd2:amd64 (1:5.10.1+dfsg-4build1) ...\n",
            "Selecting previously unselected package libcolamd2:amd64.\n",
            "Preparing to unpack .../libcolamd2_1%3a5.10.1+dfsg-4build1_amd64.deb ...\n",
            "Unpacking libcolamd2:amd64 (1:5.10.1+dfsg-4build1) ...\n",
            "Selecting previously unselected package libglpk40:amd64.\n",
            "Preparing to unpack .../libglpk40_5.0-1_amd64.deb ...\n",
            "Unpacking libglpk40:amd64 (5.0-1) ...\n",
            "Selecting previously unselected package glpk-utils.\n",
            "Preparing to unpack .../glpk-utils_5.0-1_amd64.deb ...\n",
            "Unpacking glpk-utils (5.0-1) ...\n",
            "Setting up libsuitesparseconfig5:amd64 (1:5.10.1+dfsg-4build1) ...\n",
            "Setting up libamd2:amd64 (1:5.10.1+dfsg-4build1) ...\n",
            "Setting up libcolamd2:amd64 (1:5.10.1+dfsg-4build1) ...\n",
            "Setting up libglpk40:amd64 (5.0-1) ...\n",
            "Setting up glpk-utils (5.0-1) ...\n",
            "Processing triggers for man-db (2.10.2-1) ...\n",
            "Processing triggers for libc-bin (2.35-0ubuntu3.4) ...\n",
            "/sbin/ldconfig.real: /usr/local/lib/libtbbmalloc.so.2 is not a symbolic link\n",
            "\n",
            "/sbin/ldconfig.real: /usr/local/lib/libtbbbind_2_5.so.3 is not a symbolic link\n",
            "\n",
            "/sbin/ldconfig.real: /usr/local/lib/libtbb.so.12 is not a symbolic link\n",
            "\n",
            "/sbin/ldconfig.real: /usr/local/lib/libtbbmalloc_proxy.so.2 is not a symbolic link\n",
            "\n",
            "/sbin/ldconfig.real: /usr/local/lib/libtbbbind.so.3 is not a symbolic link\n",
            "\n",
            "/sbin/ldconfig.real: /usr/local/lib/libtbbbind_2_0.so.3 is not a symbolic link\n",
            "\n",
            "Collecting glpk\n",
            "  Downloading glpk-0.4.7.tar.gz (161 kB)\n",
            "\u001b[2K     \u001b[90m━━━━━━━━━━━━━━━━━━━━━━━━━━━━━━━━━━━━━━━━\u001b[0m \u001b[32m161.2/161.2 kB\u001b[0m \u001b[31m1.3 MB/s\u001b[0m eta \u001b[36m0:00:00\u001b[0m\n",
            "\u001b[?25h  Installing build dependencies ... \u001b[?25l\u001b[?25hdone\n",
            "  Getting requirements to build wheel ... \u001b[?25l\u001b[?25hdone\n",
            "  Preparing metadata (pyproject.toml) ... \u001b[?25l\u001b[?25hdone\n",
            "Building wheels for collected packages: glpk\n",
            "  \u001b[1;31merror\u001b[0m: \u001b[1msubprocess-exited-with-error\u001b[0m\n",
            "  \n",
            "  \u001b[31m×\u001b[0m \u001b[32mBuilding wheel for glpk \u001b[0m\u001b[1;32m(\u001b[0m\u001b[32mpyproject.toml\u001b[0m\u001b[1;32m)\u001b[0m did not run successfully.\n",
            "  \u001b[31m│\u001b[0m exit code: \u001b[1;36m1\u001b[0m\n",
            "  \u001b[31m╰─>\u001b[0m See above for output.\n",
            "  \n",
            "  \u001b[1;35mnote\u001b[0m: This error originates from a subprocess, and is likely not a problem with pip.\n",
            "  Building wheel for glpk (pyproject.toml) ... \u001b[?25l\u001b[?25herror\n",
            "\u001b[31m  ERROR: Failed building wheel for glpk\u001b[0m\u001b[31m\n",
            "\u001b[0mFailed to build glpk\n",
            "\u001b[31mERROR: Could not build wheels for glpk, which is required to install pyproject.toml-based projects\u001b[0m\u001b[31m\n",
            "\u001b[0m"
          ]
        }
      ]
    },
    {
      "cell_type": "code",
      "source": [
        "from pyomo.environ import *\n",
        "\n",
        "# Create a Pyomo model\n",
        "model = ConcreteModel()\n",
        "\n",
        "# Define the decision variables\n",
        "model.x1 = Var(domain=NonNegativeReals)  # Amount of raw material 1 purchased (in kg)\n",
        "model.x2 = Var(domain=NonNegativeReals)  # Amount of raw material 2 purchased (in kg)\n",
        "model.y1 = Var(domain=NonNegativeReals)  # Amount of drug 1 produced (in units)\n",
        "model.y2 = Var(domain=NonNegativeReals)  # Amount of drug 2 produced (in units)\n",
        "\n",
        "# Define the parameters (sample data)\n",
        "model.c1 = Param(initialize=100)  # Cost per kg of raw material 1\n",
        "model.c2 = Param(initialize=199.90)  # Cost per kg of raw material 2\n",
        "model.p1 = Param(initialize=6200)  # Price per unit of drug 1\n",
        "model.p2 = Param(initialize=6500)  # Price per unit of drug 2\n",
        "model.B = Param(initialize=100000)  # Total budget for purchasing raw materials and operating the production process\n",
        "model.M = Param(initialize=2000)  # Available manpower hours\n",
        "model.E = Param(initialize=800)  # Available equipment hours\n",
        "model.S1 = Param(initialize=1000)  # Storage capacity for raw material 1 (in kg)\n",
        "model.S2 = Param(initialize=1000)  # Storage capacity for raw material 2 (in kg)\n",
        "model.a1 = Param(initialize=0.5)  # Amount of active ingredient required per unit of drug 1\n",
        "model.a2 = Param(initialize=0.6)  # Amount of active ingredient required per unit of drug 2\n",
        "model.r11 = Param(initialize=0.00995)  # Amount of active ingredient extracted from 1 kg of raw material 1 (lower bound)\n",
        "model.r12 = Param(initialize=0.01005)  # Amount of active ingredient extracted from 1 kg of raw material 1 (upper bound)\n",
        "model.r21 = Param(initialize=0.0196)  # Amount of active ingredient extracted from 1 kg of raw material 2 (lower bound)\n",
        "model.r22 = Param(initialize=0.0204)  # Amount of active ingredient extracted from 1 kg of raw material 2 (upper bound)\n",
        "model.m1 = Param(initialize=90)  # Manpower hours required to produce one unit of drug 1\n",
        "model.m2 = Param(initialize=100)  # Manpower hours required to produce one unit of drug 2\n",
        "model.e1 = Param(initialize=40)  # Equipment hours required to produce one unit of drug 1\n",
        "model.e2 = Param(initialize=50)  # Equipment hours required to produce one unit of drug 2\n",
        "\n",
        "# Define the objective function\n",
        "model.profit = Objective(expr=model.p1 * model.y1 + model.p2 * model.y2 - (model.c1 * model.x1 + model.c2 * model.x2), sense=maximize)\n",
        "\n",
        "# Define the constraints\n",
        "model.budget_constraint = Constraint(expr=model.c1 * model.x1 + model.c2 * model.x2 <= model.B)\n",
        "model.manpower_constraint = Constraint(expr=model.m1 * model.y1 + model.m2 * model.y2 <= model.M)\n",
        "model.equipment_constraint = Constraint(expr=model.e1 * model.y1 + model.e2 * model.y2 <= model.E)\n",
        "model.storage_constraint1 = Constraint(expr=model.x1 <= model.S1)\n",
        "model.storage_constraint2 = Constraint(expr=model.x2 <= model.S2)\n",
        "model.ingredient_constraint1 = Constraint(expr=model.r11 * model.x1 + model.r21 * model.x2 >= model.a1 * model.y1 + model.a2 * model.y2)\n",
        "model.ingredient_constraint2 = Constraint(expr=model.r12 * model.x1 + model.r22 * model.x2 >= model.a1 * model.y1 + model.a2 * model.y2)\n",
        "\n",
        "# Solve the optimization problem\n",
        "solver = SolverFactory('glpk')  # You can use any other solver (e.g., 'cplex', 'gurobi')\n",
        "results = solver.solve(model)\n",
        "\n",
        "# Print the optimal solution\n",
        "print(\"Optimal Solution:\")\n",
        "print(\"x1 =\", model.x1.value)\n",
        "print(\"x2 =\", model.x2.value)\n",
        "print(\"y1 =\", model.y1.value)\n",
        "print(\"y2 =\", model.y2.value)\n",
        "print(\"Total Profit =\", model.profit.expr())"
      ],
      "metadata": {
        "colab": {
          "base_uri": "https://localhost:8080/"
        },
        "id": "8FpHcuWU8rQ2",
        "outputId": "7433fd23-6e02-4395-bdbe-0ed6cc16ef08"
      },
      "execution_count": 15,
      "outputs": [
        {
          "output_type": "stream",
          "name": "stdout",
          "text": [
            "Optimal Solution:\n",
            "x1 = 1000.0\n",
            "x2 = 5.9505912441227e-14\n",
            "y1 = 19.9\n",
            "y2 = 0.0\n",
            "Total Profit = 23379.99999999997\n"
          ]
        }
      ]
    },
    {
      "cell_type": "markdown",
      "source": [
        "# 5. Correct The Model Code to Test Mathematical Model (if applicable)"
      ],
      "metadata": {
        "id": "KHTyoLQTWZVy"
      }
    },
    {
      "cell_type": "code",
      "source": [],
      "metadata": {
        "id": "REJzqhR6WYvM"
      },
      "execution_count": null,
      "outputs": []
    },
    {
      "cell_type": "code",
      "source": [],
      "metadata": {
        "id": "bPJ_54384nR_"
      },
      "execution_count": null,
      "outputs": []
    }
  ]
}