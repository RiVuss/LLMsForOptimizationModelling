{
  "nbformat": 4,
  "nbformat_minor": 0,
  "metadata": {
    "colab": {
      "provenance": []
    },
    "kernelspec": {
      "name": "python3",
      "display_name": "Python 3"
    },
    "language_info": {
      "name": "python"
    }
  },
  "cells": [
    {
      "cell_type": "markdown",
      "source": [
        "# 0. Imports and Setting up Anthropic API Client"
      ],
      "metadata": {
        "id": "y5fw0lkBwBbo"
      }
    },
    {
      "cell_type": "code",
      "source": [
        "from google.colab import drive\n",
        "\n",
        "drive.mount('/content/drive')"
      ],
      "metadata": {
        "colab": {
          "base_uri": "https://localhost:8080/"
        },
        "id": "e7tWOLo0yMoH",
        "outputId": "21578086-a8bb-4093-e638-03c1eb31d74d"
      },
      "execution_count": 1,
      "outputs": [
        {
          "output_type": "stream",
          "name": "stdout",
          "text": [
            "Mounted at /content/drive\n"
          ]
        }
      ]
    },
    {
      "cell_type": "code",
      "source": [
        "!pip install python-dotenv\n",
        "\n",
        "import os\n",
        "import dotenv\n",
        "\n",
        "dotenv.load_dotenv('/content/drive/MyDrive/.env')"
      ],
      "metadata": {
        "colab": {
          "base_uri": "https://localhost:8080/"
        },
        "id": "utcEK8lZ1Z1R",
        "outputId": "a9cc8c88-8d95-4d9c-f4b9-5192c16dccbe"
      },
      "execution_count": 2,
      "outputs": [
        {
          "output_type": "stream",
          "name": "stdout",
          "text": [
            "Collecting python-dotenv\n",
            "  Downloading python_dotenv-1.0.1-py3-none-any.whl (19 kB)\n",
            "Installing collected packages: python-dotenv\n",
            "Successfully installed python-dotenv-1.0.1\n"
          ]
        },
        {
          "output_type": "execute_result",
          "data": {
            "text/plain": [
              "True"
            ]
          },
          "metadata": {},
          "execution_count": 2
        }
      ]
    },
    {
      "cell_type": "code",
      "source": [
        "# Load Prompts and Problem Description\n",
        "# Variables Prompt\n",
        "prompt11_path = '/content/drive/MyDrive/Thesis/Prompts/Prompt11_MathematicalModel.txt'\n",
        "\n",
        "# Objective Prompt\n",
        "prompt12_path = '/content/drive/MyDrive/Thesis/Prompts/Prompt12_MathematicalModel.txt'\n",
        "\n",
        "# Constraint Prompt\n",
        "prompt13_path = '/content/drive/MyDrive/Thesis/Prompts/Prompt13_MathematicalModel.txt'\n",
        "\n",
        "# Code Prompt\n",
        "prompt2_path = '/content/drive/MyDrive/Thesis/Prompts/Prompt2_PyomoCode.txt'\n",
        "problem_desc_path = '/content/drive/MyDrive/Thesis/ProblemDescriptions/LP/LP2.txt'\n",
        "\n",
        "prompt11_file = open(prompt11_path, \"r\")\n",
        "prompt12_file = open(prompt12_path, \"r\")\n",
        "prompt13_file = open(prompt13_path, \"r\")\n",
        "prompt2_file = open(prompt2_path, \"r\")\n",
        "problem_desc_file = open(problem_desc_path, \"r\")\n",
        "\n",
        "prompt11 = prompt11_file.read()\n",
        "print(\"Prompt 1.1 (Variables):\\n\", prompt11)\n",
        "\n",
        "prompt12 = prompt12_file.read()\n",
        "print(\"Prompt 1.2 (Objctive):\\n\", prompt12)\n",
        "\n",
        "prompt13 = prompt13_file.read()\n",
        "print(\"Prompt 1.3 (Constraints):\\n\", prompt13)\n",
        "\n",
        "prompt2 = prompt2_file.read()\n",
        "print(\"Prompt 2:\\n\", prompt2)\n",
        "\n",
        "problem_desc = problem_desc_file.read()\n",
        "print(\"Problem Description:\\n\", problem_desc)"
      ],
      "metadata": {
        "colab": {
          "base_uri": "https://localhost:8080/"
        },
        "id": "9KlkjwMUS4xp",
        "outputId": "2c7a13a5-6857-412f-b7e5-b5e8bc21ecd3"
      },
      "execution_count": 3,
      "outputs": [
        {
          "output_type": "stream",
          "name": "stdout",
          "text": [
            "Prompt 1.1 (Variables):\n",
            " Please formulate only the variables for this mathematical optimization problem. \n",
            "Prompt 1.2 (Objctive):\n",
            " Please formulate only the objective function for this mathematical optimization problem. \n",
            "Prompt 1.3 (Constraints):\n",
            " Please formulate only the constraints for this mathematical optimization problem. \n",
            "Prompt 2:\n",
            " Please write a python pyomo code for this optimization problem.\n",
            "Use sample data where needed.\n",
            "Indicate where you use sample data.\n",
            "Problem Description:\n",
            " You are in charge of the supply purchasing of a company that produces two kinds of drugs. \n",
            "The drugs contain a specific active agent, which is extracted from two different kinds of raw materials that should be purchased on the market. \n",
            "\n",
            "The goal is to maximize the total profit obtained from producing the drugs, which means minimizing purchasing costs for buying the raw materials and minimizing operational costs for producing the drugs while maximizing sales. \n",
            "\n",
            "You are given a budget for purchasing raw materials and operating the production process of the drugs which cannot be exceeded. \n",
            "Additionally, you need to keep the capacity constraints for the production of the drugs in mind as there is only a limited amount of manpower as well as equipment hours available. \n",
            "Your company can also only store a limited amount of raw materials. \n",
            "Most importantly, the amount of active ingredient extracted from the raw materials you purchase needs to satisfy the required amount of active ingredient in the drugs your company produces. \n",
            "Importantly, your experience with the production of the drugs has shown the the amount of active ingredient your process extracts from the two raw materials can vary by up to 0.5% and 2%, respectively. \n",
            "During purchasing, you need to make sure that no matter how much the amount of active ingredient varies, the required amount for the drug production is always met. \n"
          ]
        }
      ]
    },
    {
      "cell_type": "code",
      "source": [
        "!pip install anthropic"
      ],
      "metadata": {
        "colab": {
          "base_uri": "https://localhost:8080/"
        },
        "id": "iWlNsTIvxCcR",
        "outputId": "bfc45e6e-c5a6-488e-a727-7a2be05e7a1d",
        "collapsed": true
      },
      "execution_count": 4,
      "outputs": [
        {
          "output_type": "stream",
          "name": "stdout",
          "text": [
            "Collecting anthropic\n",
            "  Downloading anthropic-0.28.0-py3-none-any.whl (862 kB)\n",
            "\u001b[2K     \u001b[90m━━━━━━━━━━━━━━━━━━━━━━━━━━━━━━━━━━━━━━━━\u001b[0m \u001b[32m862.7/862.7 kB\u001b[0m \u001b[31m8.7 MB/s\u001b[0m eta \u001b[36m0:00:00\u001b[0m\n",
            "\u001b[?25hRequirement already satisfied: anyio<5,>=3.5.0 in /usr/local/lib/python3.10/dist-packages (from anthropic) (3.7.1)\n",
            "Requirement already satisfied: distro<2,>=1.7.0 in /usr/lib/python3/dist-packages (from anthropic) (1.7.0)\n",
            "Collecting httpx<1,>=0.23.0 (from anthropic)\n",
            "  Downloading httpx-0.27.0-py3-none-any.whl (75 kB)\n",
            "\u001b[2K     \u001b[90m━━━━━━━━━━━━━━━━━━━━━━━━━━━━━━━━━━━━━━━━\u001b[0m \u001b[32m75.6/75.6 kB\u001b[0m \u001b[31m5.6 MB/s\u001b[0m eta \u001b[36m0:00:00\u001b[0m\n",
            "\u001b[?25hCollecting jiter<1,>=0.4.0 (from anthropic)\n",
            "  Downloading jiter-0.4.1-cp310-cp310-manylinux_2_17_x86_64.manylinux2014_x86_64.whl (328 kB)\n",
            "\u001b[2K     \u001b[90m━━━━━━━━━━━━━━━━━━━━━━━━━━━━━━━━━━━━━━━━\u001b[0m \u001b[32m328.3/328.3 kB\u001b[0m \u001b[31m13.7 MB/s\u001b[0m eta \u001b[36m0:00:00\u001b[0m\n",
            "\u001b[?25hRequirement already satisfied: pydantic<3,>=1.9.0 in /usr/local/lib/python3.10/dist-packages (from anthropic) (2.7.3)\n",
            "Requirement already satisfied: sniffio in /usr/local/lib/python3.10/dist-packages (from anthropic) (1.3.1)\n",
            "Requirement already satisfied: tokenizers>=0.13.0 in /usr/local/lib/python3.10/dist-packages (from anthropic) (0.19.1)\n",
            "Requirement already satisfied: typing-extensions<5,>=4.7 in /usr/local/lib/python3.10/dist-packages (from anthropic) (4.12.1)\n",
            "Requirement already satisfied: idna>=2.8 in /usr/local/lib/python3.10/dist-packages (from anyio<5,>=3.5.0->anthropic) (3.7)\n",
            "Requirement already satisfied: exceptiongroup in /usr/local/lib/python3.10/dist-packages (from anyio<5,>=3.5.0->anthropic) (1.2.1)\n",
            "Requirement already satisfied: certifi in /usr/local/lib/python3.10/dist-packages (from httpx<1,>=0.23.0->anthropic) (2024.6.2)\n",
            "Collecting httpcore==1.* (from httpx<1,>=0.23.0->anthropic)\n",
            "  Downloading httpcore-1.0.5-py3-none-any.whl (77 kB)\n",
            "\u001b[2K     \u001b[90m━━━━━━━━━━━━━━━━━━━━━━━━━━━━━━━━━━━━━━━━\u001b[0m \u001b[32m77.9/77.9 kB\u001b[0m \u001b[31m8.8 MB/s\u001b[0m eta \u001b[36m0:00:00\u001b[0m\n",
            "\u001b[?25hCollecting h11<0.15,>=0.13 (from httpcore==1.*->httpx<1,>=0.23.0->anthropic)\n",
            "  Downloading h11-0.14.0-py3-none-any.whl (58 kB)\n",
            "\u001b[2K     \u001b[90m━━━━━━━━━━━━━━━━━━━━━━━━━━━━━━━━━━━━━━━━\u001b[0m \u001b[32m58.3/58.3 kB\u001b[0m \u001b[31m6.9 MB/s\u001b[0m eta \u001b[36m0:00:00\u001b[0m\n",
            "\u001b[?25hRequirement already satisfied: annotated-types>=0.4.0 in /usr/local/lib/python3.10/dist-packages (from pydantic<3,>=1.9.0->anthropic) (0.7.0)\n",
            "Requirement already satisfied: pydantic-core==2.18.4 in /usr/local/lib/python3.10/dist-packages (from pydantic<3,>=1.9.0->anthropic) (2.18.4)\n",
            "Requirement already satisfied: huggingface-hub<1.0,>=0.16.4 in /usr/local/lib/python3.10/dist-packages (from tokenizers>=0.13.0->anthropic) (0.23.2)\n",
            "Requirement already satisfied: filelock in /usr/local/lib/python3.10/dist-packages (from huggingface-hub<1.0,>=0.16.4->tokenizers>=0.13.0->anthropic) (3.14.0)\n",
            "Requirement already satisfied: fsspec>=2023.5.0 in /usr/local/lib/python3.10/dist-packages (from huggingface-hub<1.0,>=0.16.4->tokenizers>=0.13.0->anthropic) (2023.6.0)\n",
            "Requirement already satisfied: packaging>=20.9 in /usr/local/lib/python3.10/dist-packages (from huggingface-hub<1.0,>=0.16.4->tokenizers>=0.13.0->anthropic) (24.0)\n",
            "Requirement already satisfied: pyyaml>=5.1 in /usr/local/lib/python3.10/dist-packages (from huggingface-hub<1.0,>=0.16.4->tokenizers>=0.13.0->anthropic) (6.0.1)\n",
            "Requirement already satisfied: requests in /usr/local/lib/python3.10/dist-packages (from huggingface-hub<1.0,>=0.16.4->tokenizers>=0.13.0->anthropic) (2.31.0)\n",
            "Requirement already satisfied: tqdm>=4.42.1 in /usr/local/lib/python3.10/dist-packages (from huggingface-hub<1.0,>=0.16.4->tokenizers>=0.13.0->anthropic) (4.66.4)\n",
            "Requirement already satisfied: charset-normalizer<4,>=2 in /usr/local/lib/python3.10/dist-packages (from requests->huggingface-hub<1.0,>=0.16.4->tokenizers>=0.13.0->anthropic) (3.3.2)\n",
            "Requirement already satisfied: urllib3<3,>=1.21.1 in /usr/local/lib/python3.10/dist-packages (from requests->huggingface-hub<1.0,>=0.16.4->tokenizers>=0.13.0->anthropic) (2.0.7)\n",
            "Installing collected packages: jiter, h11, httpcore, httpx, anthropic\n",
            "Successfully installed anthropic-0.28.0 h11-0.14.0 httpcore-1.0.5 httpx-0.27.0 jiter-0.4.1\n"
          ]
        }
      ]
    },
    {
      "cell_type": "code",
      "execution_count": 5,
      "metadata": {
        "id": "7Qjk2D63v1Bl"
      },
      "outputs": [],
      "source": [
        "# Importing Anthropic & Setting Headers\n",
        "import anthropic\n",
        "\n",
        "client = anthropic.Anthropic(\n",
        "    # defaults to os.environ.get(\"ANTHROPIC_API_KEY\")\n",
        "    api_key=os.environ.get(\"ANTHROPIC_API_KEY\"),\n",
        ")"
      ]
    },
    {
      "cell_type": "markdown",
      "source": [
        "# 1. Prompt 1.1: Create Variables for Mathematical Model"
      ],
      "metadata": {
        "id": "kT7yKbJs18XR"
      }
    },
    {
      "cell_type": "code",
      "source": [
        "message11 = client.messages.create(\n",
        "    model=\"claude-3-opus-20240229\",\n",
        "    system=prompt11,\n",
        "    max_tokens=4096,\n",
        "    messages=[\n",
        "        {\"role\": \"user\", \"content\": problem_desc}\n",
        "    ]\n",
        ")\n",
        "\n",
        "response_p11 = message11.content[0].text"
      ],
      "metadata": {
        "id": "R_6X0axq16D4"
      },
      "execution_count": 6,
      "outputs": []
    },
    {
      "cell_type": "code",
      "source": [
        "# Print response\n",
        "print(response_p11)"
      ],
      "metadata": {
        "colab": {
          "base_uri": "https://localhost:8080/"
        },
        "id": "Ra9Ox_PI38jg",
        "outputId": "1b83c729-fcfe-41f6-fd31-b6d58325179f"
      },
      "execution_count": 7,
      "outputs": [
        {
          "output_type": "stream",
          "name": "stdout",
          "text": [
            "To formulate the variables for this mathematical optimization problem, we need to consider the following:\n",
            "\n",
            "1. Decision variables:\n",
            "   - Amount of raw material 1 to purchase (in appropriate units, e.g., kg or tons)\n",
            "   - Amount of raw material 2 to purchase (in appropriate units)\n",
            "   - Amount of drug 1 to produce (in appropriate units, e.g., bottles or packs)\n",
            "   - Amount of drug 2 to produce (in appropriate units)\n",
            "\n",
            "2. Parameters:\n",
            "   - Cost per unit of raw material 1\n",
            "   - Cost per unit of raw material 2\n",
            "   - Selling price per unit of drug 1\n",
            "   - Selling price per unit of drug 2\n",
            "   - Operational cost per unit of drug 1\n",
            "   - Operational cost per unit of drug 2\n",
            "   - Budget for purchasing raw materials and operating the production process\n",
            "   - Maximum capacity for producing drug 1 (considering manpower and equipment hours)\n",
            "   - Maximum capacity for producing drug 2 (considering manpower and equipment hours)\n",
            "   - Maximum storage capacity for raw material 1\n",
            "   - Maximum storage capacity for raw material 2\n",
            "   - Required amount of active ingredient per unit of drug 1\n",
            "   - Required amount of active ingredient per unit of drug 2\n",
            "   - Minimum and maximum percentage of active ingredient extracted from raw material 1 (considering the 0.5% variation)\n",
            "   - Minimum and maximum percentage of active ingredient extracted from raw material 2 (considering the 2% variation)\n",
            "\n",
            "By defining these variables and parameters, we can formulate the objective function and constraints for the optimization problem. The objective function will maximize the total profit, while the constraints will ensure that the budget, capacity, storage, and active ingredient requirements are met, taking into account the potential variations in the extraction process.\n"
          ]
        }
      ]
    },
    {
      "cell_type": "markdown",
      "source": [
        "# 1. Prompt 1.2: Create Objective for Mathematical Model"
      ],
      "metadata": {
        "id": "nbt6yH1snBQL"
      }
    },
    {
      "cell_type": "code",
      "source": [
        "message12 = client.messages.create(\n",
        "    model=\"claude-3-opus-20240229\",\n",
        "    system=prompt12,\n",
        "    max_tokens=4096,\n",
        "    messages=[\n",
        "        {\"role\": \"user\", \"content\": (problem_desc + response_p11)}\n",
        "    ]\n",
        ")\n",
        "\n",
        "response_p12 = message12.content[0].text"
      ],
      "metadata": {
        "id": "ol4rtt_MnAy8"
      },
      "execution_count": 8,
      "outputs": []
    },
    {
      "cell_type": "code",
      "source": [
        "# Print response\n",
        "print(response_p12)"
      ],
      "metadata": {
        "colab": {
          "base_uri": "https://localhost:8080/"
        },
        "id": "Vz2F_EARnzHf",
        "outputId": "96a7e27b-c4a1-4b0f-bac7-be20e0bdbcd3"
      },
      "execution_count": 9,
      "outputs": [
        {
          "output_type": "stream",
          "name": "stdout",
          "text": [
            "Objective Function:\n",
            "\n",
            "Let's define the decision variables and parameters as follows:\n",
            "\n",
            "Decision variables:\n",
            "- x₁: Amount of raw material 1 to purchase (in appropriate units)\n",
            "- x₂: Amount of raw material 2 to purchase (in appropriate units)\n",
            "- y₁: Amount of drug 1 to produce (in appropriate units)\n",
            "- y₂: Amount of drug 2 to produce (in appropriate units)\n",
            "\n",
            "Parameters:\n",
            "- c₁: Cost per unit of raw material 1\n",
            "- c₂: Cost per unit of raw material 2\n",
            "- p₁: Selling price per unit of drug 1\n",
            "- p₂: Selling price per unit of drug 2\n",
            "- o₁: Operational cost per unit of drug 1\n",
            "- o₂: Operational cost per unit of drug 2\n",
            "\n",
            "The objective function for maximizing the total profit can be formulated as follows:\n",
            "\n",
            "Maximize: (p₁ × y₁ + p₂ × y₂) - (c₁ × x₁ + c₂ × x₂) - (o₁ × y₁ + o₂ × y₂)\n",
            "\n",
            "Explanation:\n",
            "- (p₁ × y₁ + p₂ × y₂) represents the total revenue generated from selling drug 1 and drug 2.\n",
            "- (c₁ × x₁ + c₂ × x₂) represents the total cost of purchasing raw material 1 and raw material 2.\n",
            "- (o₁ × y₁ + o₂ × y₂) represents the total operational cost for producing drug 1 and drug 2.\n",
            "\n",
            "By subtracting the purchasing costs and operational costs from the revenue, we obtain the total profit. The objective is to maximize this profit.\n",
            "\n",
            "Note that this is only the objective function, and the complete optimization problem will also include the necessary constraints based on the given information about budget, capacity, storage, and active ingredient requirements, as well as the variations in the extraction process.\n"
          ]
        }
      ]
    },
    {
      "cell_type": "markdown",
      "source": [
        "# 1. Prompt 1.3: Create Constraints for Mathematical Model\n"
      ],
      "metadata": {
        "id": "Wzf33DwvnEar"
      }
    },
    {
      "cell_type": "code",
      "source": [
        "message13 = client.messages.create(\n",
        "    model=\"claude-3-opus-20240229\",\n",
        "    system=prompt13,\n",
        "    max_tokens=4096,\n",
        "    messages=[\n",
        "        {\"role\": \"user\", \"content\": (problem_desc + response_p11 + response_p12)}\n",
        "    ]\n",
        ")\n",
        "\n",
        "response_p13 = message13.content[0].text"
      ],
      "metadata": {
        "id": "l1UAJRt7nENG"
      },
      "execution_count": 10,
      "outputs": []
    },
    {
      "cell_type": "code",
      "source": [
        "# Print response\n",
        "print(response_p13)"
      ],
      "metadata": {
        "colab": {
          "base_uri": "https://localhost:8080/"
        },
        "id": "vH7Ff9mxn4FZ",
        "outputId": "851bcb5d-3517-4106-8e07-cbecd8998a6f"
      },
      "execution_count": 11,
      "outputs": [
        {
          "output_type": "stream",
          "name": "stdout",
          "text": [
            "Constraints:\n",
            "\n",
            "Let's define additional parameters:\n",
            "- B: Budget for purchasing raw materials and operating the production process\n",
            "- C₁: Maximum capacity for producing drug 1\n",
            "- C₂: Maximum capacity for producing drug 2\n",
            "- S₁: Maximum storage capacity for raw material 1\n",
            "- S₂: Maximum storage capacity for raw material 2\n",
            "- a₁: Required amount of active ingredient per unit of drug 1\n",
            "- a₂: Required amount of active ingredient per unit of drug 2\n",
            "- l₁: Minimum percentage of active ingredient extracted from raw material 1 (considering the 0.5% variation)\n",
            "- u₁: Maximum percentage of active ingredient extracted from raw material 1 (considering the 0.5% variation)\n",
            "- l₂: Minimum percentage of active ingredient extracted from raw material 2 (considering the 2% variation)\n",
            "- u₂: Maximum percentage of active ingredient extracted from raw material 2 (considering the 2% variation)\n",
            "\n",
            "The constraints for the optimization problem can be formulated as follows:\n",
            "\n",
            "1. Budget constraint:\n",
            "   c₁ × x₁ + c₂ × x₂ + o₁ × y₁ + o₂ × y₂ ≤ B\n",
            "\n",
            "2. Production capacity constraints:\n",
            "   y₁ ≤ C₁\n",
            "   y₂ ≤ C₂\n",
            "\n",
            "3. Storage capacity constraints:\n",
            "   x₁ ≤ S₁\n",
            "   x₂ ≤ S₂\n",
            "\n",
            "4. Active ingredient requirement constraints (considering the variations):\n",
            "   l₁ × x₁ + l₂ × x₂ ≥ a₁ × y₁ + a₂ × y₂\n",
            "   u₁ × x₁ + u₂ × x₂ ≥ a₁ × y₁ + a₂ × y₂\n",
            "\n",
            "5. Non-negativity constraints:\n",
            "   x₁, x₂, y₁, y₂ ≥ 0\n",
            "\n",
            "Explanation:\n",
            "1. The budget constraint ensures that the total cost of purchasing raw materials and operating the production process does not exceed the given budget B.\n",
            "\n",
            "2. The production capacity constraints ensure that the amount of drug 1 and drug 2 produced does not exceed their respective maximum capacities C₁ and C₂.\n",
            "\n",
            "3. The storage capacity constraints ensure that the amount of raw material 1 and raw material 2 purchased does not exceed their respective maximum storage capacities S₁ and S₂.\n",
            "\n",
            "4. The active ingredient requirement constraints ensure that the amount of active ingredient extracted from the purchased raw materials is sufficient to meet the required amount for producing drug 1 and drug 2, considering the potential variations in the extraction process. The constraints are written using both the minimum and maximum percentages of active ingredient extraction.\n",
            "\n",
            "5. The non-negativity constraints ensure that the decision variables (x₁, x₂, y₁, y₂) are non-negative, as negative amounts are not meaningful in this context.\n",
            "\n",
            "These constraints, along with the objective function, form the complete mathematical optimization problem for maximizing the total profit while satisfying the given requirements and constraints.\n"
          ]
        }
      ]
    },
    {
      "cell_type": "markdown",
      "source": [
        "# 2. Prompt 2: Write Code based on Mathematical Model\n",
        "\n",
        "In case more than the component of each step was generated, use \"last instance\"/ \"newest version\" of the components.\n",
        "\n",
        "Example:\n",
        "Prompt 1.1 (Variables): Model generates only variables\n",
        "Prompt 1.2 (Objectvie): Model generates objective and constraints\n",
        "Prompt 1.3 (Constraints): Model generates only constraints\n",
        "\n",
        "Use Variables from step 1.1, use objective from 1.2 and use constraints from 1.3 (since constraints version 1.3 is more recent than constraints version 1.2).\n",
        "\n",
        "This set up allows for potential self-correction of the model throughout the three prompts.\n",
        "\n",
        "Correctness of each component is still generated in the respective step, so self-correction is independent of this."
      ],
      "metadata": {
        "id": "WPZ6lgBO729j"
      }
    },
    {
      "cell_type": "code",
      "source": [
        "message2 = client.messages.create(\n",
        "    model=\"claude-3-opus-20240229\",\n",
        "    system=prompt2,\n",
        "    max_tokens=4069,\n",
        "    messages=[\n",
        "        {\"role\": \"user\", \"content\": (response_p11 + response_p12 + response_p13)}\n",
        "    ]\n",
        ")\n",
        "\n",
        "response_p2 = message2.content[0].text"
      ],
      "metadata": {
        "id": "1iUSgBda70FL"
      },
      "execution_count": 12,
      "outputs": []
    },
    {
      "cell_type": "code",
      "source": [
        "# Print response\n",
        "print(response_p2)"
      ],
      "metadata": {
        "colab": {
          "base_uri": "https://localhost:8080/"
        },
        "id": "o40mxc_H8eQ9",
        "outputId": "dc3417d2-9c0d-48d7-e4e3-96f3b85a471c"
      },
      "execution_count": 13,
      "outputs": [
        {
          "output_type": "stream",
          "name": "stdout",
          "text": [
            "Here's a Python Pyomo code for the optimization problem you described:\n",
            "\n",
            "```python\n",
            "from pyomo.environ import *\n",
            "\n",
            "# Create the model\n",
            "model = ConcreteModel()\n",
            "\n",
            "# Define the decision variables\n",
            "model.x1 = Var(within=NonNegativeReals)  # Amount of raw material 1 to purchase\n",
            "model.x2 = Var(within=NonNegativeReals)  # Amount of raw material 2 to purchase\n",
            "model.y1 = Var(within=NonNegativeReals)  # Amount of drug 1 to produce\n",
            "model.y2 = Var(within=NonNegativeReals)  # Amount of drug 2 to produce\n",
            "\n",
            "# Define the parameters\n",
            "model.c1 = Param(initialize=10)  # Cost per unit of raw material 1 (sample data)\n",
            "model.c2 = Param(initialize=15)  # Cost per unit of raw material 2 (sample data)\n",
            "model.p1 = Param(initialize=50)  # Selling price per unit of drug 1 (sample data)\n",
            "model.p2 = Param(initialize=60)  # Selling price per unit of drug 2 (sample data)\n",
            "model.o1 = Param(initialize=5)   # Operational cost per unit of drug 1 (sample data)\n",
            "model.o2 = Param(initialize=6)   # Operational cost per unit of drug 2 (sample data)\n",
            "model.B = Param(initialize=1000)  # Budget for purchasing raw materials and operating the production process (sample data)\n",
            "model.C1 = Param(initialize=100)  # Maximum capacity for producing drug 1 (sample data)\n",
            "model.C2 = Param(initialize=120)  # Maximum capacity for producing drug 2 (sample data)\n",
            "model.S1 = Param(initialize=500)  # Maximum storage capacity for raw material 1 (sample data)\n",
            "model.S2 = Param(initialize=600)  # Maximum storage capacity for raw material 2 (sample data)\n",
            "model.a1 = Param(initialize=0.8)  # Required amount of active ingredient per unit of drug 1 (sample data)\n",
            "model.a2 = Param(initialize=0.9)  # Required amount of active ingredient per unit of drug 2 (sample data)\n",
            "model.l1 = Param(initialize=0.495)  # Minimum percentage of active ingredient extracted from raw material 1 (sample data)\n",
            "model.u1 = Param(initialize=0.505)  # Maximum percentage of active ingredient extracted from raw material 1 (sample data)\n",
            "model.l2 = Param(initialize=0.98)   # Minimum percentage of active ingredient extracted from raw material 2 (sample data)\n",
            "model.u2 = Param(initialize=1.02)   # Maximum percentage of active ingredient extracted from raw material 2 (sample data)\n",
            "\n",
            "# Define the objective function\n",
            "model.profit = Objective(expr=model.p1 * model.y1 + model.p2 * model.y2 - model.c1 * model.x1 - model.c2 * model.x2 - model.o1 * model.y1 - model.o2 * model.y2, sense=maximize)\n",
            "\n",
            "# Define the constraints\n",
            "model.budget_constraint = Constraint(expr=model.c1 * model.x1 + model.c2 * model.x2 + model.o1 * model.y1 + model.o2 * model.y2 <= model.B)\n",
            "model.capacity_constraint1 = Constraint(expr=model.y1 <= model.C1)\n",
            "model.capacity_constraint2 = Constraint(expr=model.y2 <= model.C2)\n",
            "model.storage_constraint1 = Constraint(expr=model.x1 <= model.S1)\n",
            "model.storage_constraint2 = Constraint(expr=model.x2 <= model.S2)\n",
            "model.ingredient_constraint1 = Constraint(expr=model.l1 * model.x1 + model.l2 * model.x2 >= model.a1 * model.y1 + model.a2 * model.y2)\n",
            "model.ingredient_constraint2 = Constraint(expr=model.u1 * model.x1 + model.u2 * model.x2 >= model.a1 * model.y1 + model.a2 * model.y2)\n",
            "\n",
            "# Solve the optimization problem\n",
            "solver = SolverFactory('glpk')\n",
            "results = solver.solve(model)\n",
            "\n",
            "# Print the results\n",
            "print(\"Optimization Results:\")\n",
            "print(\"Amount of raw material 1 to purchase (x1):\", model.x1.value)\n",
            "print(\"Amount of raw material 2 to purchase (x2):\", model.x2.value)\n",
            "print(\"Amount of drug 1 to produce (y1):\", model.y1.value)\n",
            "print(\"Amount of drug 2 to produce (y2):\", model.y2.value)\n",
            "print(\"Total profit:\", model.profit.expr())\n",
            "```\n",
            "\n",
            "Note that I have used sample data for the parameters, indicated by the comments next to each parameter initialization. You can replace these sample values with the actual data for your specific problem.\n",
            "\n",
            "The code defines the decision variables (`x1`, `x2`, `y1`, `y2`) and the parameters (`c1`, `c2`, `p1`, `p2`, `o1`, `o2`, `B`, `C1`, `C2`, `S1`, `S2`, `a1`, `a2`, `l1`, `u1`, `l2`, `u2`) based on the problem description.\n",
            "\n",
            "The objective function `profit` is defined to maximize the total profit, and the constraints are defined according to the budget, production capacity, storage capacity, and active ingredient requirements, considering the variations in the extraction process.\n",
            "\n",
            "The optimization problem is solved using the `glpk` solver, and the results are printed, including the optimal values for the decision variables and the total profit.\n",
            "\n",
            "Please note that you need to have Pyomo and the GLPK solver installed to run this code. You can install them using the following commands:\n",
            "\n",
            "```\n",
            "pip install pyomo\n",
            "pip install glpk\n",
            "```\n"
          ]
        }
      ]
    },
    {
      "cell_type": "markdown",
      "source": [
        "# 4. Input Problem Data and Test Model Code"
      ],
      "metadata": {
        "id": "Pc0QqJuf8up_"
      }
    },
    {
      "cell_type": "code",
      "source": [
        "# Installing pyomo nd solver\n",
        "!pip install -q pyomo\n",
        "!pip install pandas\n",
        "!apt-get install -y -qq glpk-utils\n",
        "!pip install glpk"
      ],
      "metadata": {
        "colab": {
          "base_uri": "https://localhost:8080/"
        },
        "id": "3BtROuLu9O-p",
        "outputId": "732a42fd-450c-4d0e-bdaa-836c03d02ac3",
        "collapsed": true
      },
      "execution_count": 14,
      "outputs": [
        {
          "output_type": "stream",
          "name": "stdout",
          "text": [
            "\u001b[2K     \u001b[90m━━━━━━━━━━━━━━━━━━━━━━━━━━━━━━━━━━━━━━━━\u001b[0m \u001b[32m12.8/12.8 MB\u001b[0m \u001b[31m49.4 MB/s\u001b[0m eta \u001b[36m0:00:00\u001b[0m\n",
            "\u001b[2K     \u001b[90m━━━━━━━━━━━━━━━━━━━━━━━━━━━━━━━━━━━━━━━━\u001b[0m \u001b[32m49.6/49.6 kB\u001b[0m \u001b[31m3.1 MB/s\u001b[0m eta \u001b[36m0:00:00\u001b[0m\n",
            "\u001b[?25hRequirement already satisfied: pandas in /usr/local/lib/python3.10/dist-packages (2.0.3)\n",
            "Requirement already satisfied: python-dateutil>=2.8.2 in /usr/local/lib/python3.10/dist-packages (from pandas) (2.8.2)\n",
            "Requirement already satisfied: pytz>=2020.1 in /usr/local/lib/python3.10/dist-packages (from pandas) (2023.4)\n",
            "Requirement already satisfied: tzdata>=2022.1 in /usr/local/lib/python3.10/dist-packages (from pandas) (2024.1)\n",
            "Requirement already satisfied: numpy>=1.21.0 in /usr/local/lib/python3.10/dist-packages (from pandas) (1.25.2)\n",
            "Requirement already satisfied: six>=1.5 in /usr/local/lib/python3.10/dist-packages (from python-dateutil>=2.8.2->pandas) (1.16.0)\n",
            "Selecting previously unselected package libsuitesparseconfig5:amd64.\n",
            "(Reading database ... 121918 files and directories currently installed.)\n",
            "Preparing to unpack .../libsuitesparseconfig5_1%3a5.10.1+dfsg-4build1_amd64.deb ...\n",
            "Unpacking libsuitesparseconfig5:amd64 (1:5.10.1+dfsg-4build1) ...\n",
            "Selecting previously unselected package libamd2:amd64.\n",
            "Preparing to unpack .../libamd2_1%3a5.10.1+dfsg-4build1_amd64.deb ...\n",
            "Unpacking libamd2:amd64 (1:5.10.1+dfsg-4build1) ...\n",
            "Selecting previously unselected package libcolamd2:amd64.\n",
            "Preparing to unpack .../libcolamd2_1%3a5.10.1+dfsg-4build1_amd64.deb ...\n",
            "Unpacking libcolamd2:amd64 (1:5.10.1+dfsg-4build1) ...\n",
            "Selecting previously unselected package libglpk40:amd64.\n",
            "Preparing to unpack .../libglpk40_5.0-1_amd64.deb ...\n",
            "Unpacking libglpk40:amd64 (5.0-1) ...\n",
            "Selecting previously unselected package glpk-utils.\n",
            "Preparing to unpack .../glpk-utils_5.0-1_amd64.deb ...\n",
            "Unpacking glpk-utils (5.0-1) ...\n",
            "Setting up libsuitesparseconfig5:amd64 (1:5.10.1+dfsg-4build1) ...\n",
            "Setting up libamd2:amd64 (1:5.10.1+dfsg-4build1) ...\n",
            "Setting up libcolamd2:amd64 (1:5.10.1+dfsg-4build1) ...\n",
            "Setting up libglpk40:amd64 (5.0-1) ...\n",
            "Setting up glpk-utils (5.0-1) ...\n",
            "Processing triggers for man-db (2.10.2-1) ...\n",
            "Processing triggers for libc-bin (2.35-0ubuntu3.4) ...\n",
            "/sbin/ldconfig.real: /usr/local/lib/libtbbmalloc.so.2 is not a symbolic link\n",
            "\n",
            "/sbin/ldconfig.real: /usr/local/lib/libtbbbind_2_5.so.3 is not a symbolic link\n",
            "\n",
            "/sbin/ldconfig.real: /usr/local/lib/libtbb.so.12 is not a symbolic link\n",
            "\n",
            "/sbin/ldconfig.real: /usr/local/lib/libtbbmalloc_proxy.so.2 is not a symbolic link\n",
            "\n",
            "/sbin/ldconfig.real: /usr/local/lib/libtbbbind.so.3 is not a symbolic link\n",
            "\n",
            "/sbin/ldconfig.real: /usr/local/lib/libtbbbind_2_0.so.3 is not a symbolic link\n",
            "\n",
            "Collecting glpk\n",
            "  Downloading glpk-0.4.7.tar.gz (161 kB)\n",
            "\u001b[2K     \u001b[90m━━━━━━━━━━━━━━━━━━━━━━━━━━━━━━━━━━━━━━━━\u001b[0m \u001b[32m161.2/161.2 kB\u001b[0m \u001b[31m4.1 MB/s\u001b[0m eta \u001b[36m0:00:00\u001b[0m\n",
            "\u001b[?25h  Installing build dependencies ... \u001b[?25l\u001b[?25hdone\n",
            "  Getting requirements to build wheel ... \u001b[?25l\u001b[?25hdone\n",
            "  Preparing metadata (pyproject.toml) ... \u001b[?25l\u001b[?25hdone\n",
            "Building wheels for collected packages: glpk\n",
            "  \u001b[1;31merror\u001b[0m: \u001b[1msubprocess-exited-with-error\u001b[0m\n",
            "  \n",
            "  \u001b[31m×\u001b[0m \u001b[32mBuilding wheel for glpk \u001b[0m\u001b[1;32m(\u001b[0m\u001b[32mpyproject.toml\u001b[0m\u001b[1;32m)\u001b[0m did not run successfully.\n",
            "  \u001b[31m│\u001b[0m exit code: \u001b[1;36m1\u001b[0m\n",
            "  \u001b[31m╰─>\u001b[0m See above for output.\n",
            "  \n",
            "  \u001b[1;35mnote\u001b[0m: This error originates from a subprocess, and is likely not a problem with pip.\n",
            "  Building wheel for glpk (pyproject.toml) ... \u001b[?25l\u001b[?25herror\n",
            "\u001b[31m  ERROR: Failed building wheel for glpk\u001b[0m\u001b[31m\n",
            "\u001b[0mFailed to build glpk\n",
            "\u001b[31mERROR: Could not build wheels for glpk, which is required to install pyproject.toml-based projects\u001b[0m\u001b[31m\n",
            "\u001b[0m"
          ]
        }
      ]
    },
    {
      "cell_type": "code",
      "source": [
        "from pyomo.environ import *\n",
        "\n",
        "# Create the model\n",
        "model = ConcreteModel()\n",
        "\n",
        "# Define the decision variables\n",
        "model.x1 = Var(within=NonNegativeReals)  # Amount of raw material 1 to purchase\n",
        "model.x2 = Var(within=NonNegativeReals)  # Amount of raw material 2 to purchase\n",
        "model.y1 = Var(within=NonNegativeReals)  # Amount of drug 1 to produce\n",
        "model.y2 = Var(within=NonNegativeReals)  # Amount of drug 2 to produce\n",
        "\n",
        "# Define the parameters\n",
        "model.c1 = Param(initialize=100)  # Cost per unit of raw material 1 (sample data)\n",
        "model.c2 = Param(initialize=199.90)  # Cost per unit of raw material 2 (sample data)\n",
        "model.p1 = Param(initialize=6200)  # Selling price per unit of drug 1 (sample data)\n",
        "model.p2 = Param(initialize=6900)  # Selling price per unit of drug 2 (sample data)\n",
        "model.o1 = Param(initialize=700)   # Operational cost per unit of drug 1 (sample data)\n",
        "model.o2 = Param(initialize=800)   # Operational cost per unit of drug 2 (sample data)\n",
        "model.B = Param(initialize=100000)  # Budget for purchasing raw materials and operating the production process (sample data)\n",
        "model.C1 = Param(initialize=2800)  # Maximum capacity for producing drug 1 (sample data) USED COMBINATION OF MPH AND EH\n",
        "model.C2 = Param(initialize=2800)  # Maximum capacity for producing drug 2 (sample data) USED COMBINATION OF MPH AND EH\n",
        "model.S1 = Param(initialize=1000)  # Maximum storage capacity for raw material 1 (sample data)\n",
        "model.S2 = Param(initialize=1000)  # Maximum storage capacity for raw material 2 (sample data)\n",
        "model.a1 = Param(initialize=0.5)  # Required amount of active ingredient per unit of drug 1 (sample data)\n",
        "model.a2 = Param(initialize=0.6)  # Required amount of active ingredient per unit of drug 2 (sample data)\n",
        "model.l1 = Param(initialize=0.00995)  # Minimum percentage of active ingredient extracted from raw material 1 (sample data)\n",
        "model.u1 = Param(initialize=0.01005)  # Maximum percentage of active ingredient extracted from raw material 1 (sample data)\n",
        "model.l2 = Param(initialize=0.0196)   # Minimum percentage of active ingredient extracted from raw material 2 (sample data)\n",
        "model.u2 = Param(initialize=0.0204)   # Maximum percentage of active ingredient extracted from raw material 2 (sample data)\n",
        "\n",
        "# Define the objective function\n",
        "model.profit = Objective(expr=model.p1 * model.y1 + model.p2 * model.y2 - model.c1 * model.x1 - model.c2 * model.x2 - model.o1 * model.y1 - model.o2 * model.y2, sense=maximize)\n",
        "\n",
        "# Define the constraints\n",
        "model.budget_constraint = Constraint(expr=model.c1 * model.x1 + model.c2 * model.x2 + model.o1 * model.y1 + model.o2 * model.y2 <= model.B)\n",
        "model.capacity_constraint1 = Constraint(expr=model.y1 <= model.C1)\n",
        "model.capacity_constraint2 = Constraint(expr=model.y2 <= model.C2)\n",
        "model.storage_constraint1 = Constraint(expr=model.x1 <= model.S1)\n",
        "model.storage_constraint2 = Constraint(expr=model.x2 <= model.S2)\n",
        "model.ingredient_constraint1 = Constraint(expr=model.l1 * model.x1 + model.l2 * model.x2 >= model.a1 * model.y1 + model.a2 * model.y2)\n",
        "model.ingredient_constraint2 = Constraint(expr=model.u1 * model.x1 + model.u2 * model.x2 >= model.a1 * model.y1 + model.a2 * model.y2)\n",
        "\n",
        "# Solve the optimization problem\n",
        "solver = SolverFactory('glpk')\n",
        "results = solver.solve(model)\n",
        "\n",
        "# Print the results\n",
        "print(\"Optimization Results:\")\n",
        "print(\"Amount of raw material 1 to purchase (x1):\", model.x1.value)\n",
        "print(\"Amount of raw material 2 to purchase (x2):\", model.x2.value)\n",
        "print(\"Amount of drug 1 to produce (y1):\", model.y1.value)\n",
        "print(\"Amount of drug 2 to produce (y2):\", model.y2.value)\n",
        "print(\"Total profit:\", model.profit.expr())"
      ],
      "metadata": {
        "colab": {
          "base_uri": "https://localhost:8080/"
        },
        "id": "8FpHcuWU8rQ2",
        "outputId": "ea86e9c1-110e-4baf-d16b-d9f646175a7e"
      },
      "execution_count": 15,
      "outputs": [
        {
          "output_type": "stream",
          "name": "stdout",
          "text": [
            "Optimization Results:\n",
            "Amount of raw material 1 to purchase (x1): 877.731940665321\n",
            "Amount of raw material 2 to purchase (x2): 0.0\n",
            "Amount of drug 1 to produce (y1): 17.4668656192399\n",
            "Amount of drug 2 to produce (y2): 0.0\n",
            "Total profit: 8294.566839287345\n"
          ]
        }
      ]
    },
    {
      "cell_type": "markdown",
      "source": [
        "# 5. Correct The Model Code to Test Mathematical Model (if applicable)"
      ],
      "metadata": {
        "id": "KHTyoLQTWZVy"
      }
    },
    {
      "cell_type": "code",
      "source": [],
      "metadata": {
        "id": "REJzqhR6WYvM"
      },
      "execution_count": null,
      "outputs": []
    },
    {
      "cell_type": "code",
      "source": [],
      "metadata": {
        "id": "bPJ_54384nR_"
      },
      "execution_count": null,
      "outputs": []
    }
  ]
}