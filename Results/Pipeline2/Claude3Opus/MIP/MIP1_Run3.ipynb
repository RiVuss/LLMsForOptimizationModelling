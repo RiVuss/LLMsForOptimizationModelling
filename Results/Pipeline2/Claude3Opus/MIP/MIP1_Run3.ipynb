{
  "nbformat": 4,
  "nbformat_minor": 0,
  "metadata": {
    "colab": {
      "provenance": []
    },
    "kernelspec": {
      "name": "python3",
      "display_name": "Python 3"
    },
    "language_info": {
      "name": "python"
    }
  },
  "cells": [
    {
      "cell_type": "markdown",
      "source": [
        "# 0. Imports and Setting up Anthropic API Client"
      ],
      "metadata": {
        "id": "y5fw0lkBwBbo"
      }
    },
    {
      "cell_type": "code",
      "source": [
        "from google.colab import drive\n",
        "\n",
        "drive.mount('/content/drive')"
      ],
      "metadata": {
        "colab": {
          "base_uri": "https://localhost:8080/"
        },
        "id": "e7tWOLo0yMoH",
        "outputId": "dedeaa32-39b1-449d-f928-ea42cab6d5d5"
      },
      "execution_count": 2,
      "outputs": [
        {
          "output_type": "stream",
          "name": "stdout",
          "text": [
            "Mounted at /content/drive\n"
          ]
        }
      ]
    },
    {
      "cell_type": "code",
      "source": [
        "!pip install python-dotenv\n",
        "\n",
        "import os\n",
        "import dotenv\n",
        "\n",
        "dotenv.load_dotenv('/content/drive/MyDrive/.env')"
      ],
      "metadata": {
        "colab": {
          "base_uri": "https://localhost:8080/"
        },
        "id": "utcEK8lZ1Z1R",
        "outputId": "67ffc2c6-74fd-45e3-db19-dfe7f11f70e5"
      },
      "execution_count": 3,
      "outputs": [
        {
          "output_type": "stream",
          "name": "stdout",
          "text": [
            "Collecting python-dotenv\n",
            "  Downloading python_dotenv-1.0.1-py3-none-any.whl (19 kB)\n",
            "Installing collected packages: python-dotenv\n",
            "Successfully installed python-dotenv-1.0.1\n"
          ]
        },
        {
          "output_type": "execute_result",
          "data": {
            "text/plain": [
              "True"
            ]
          },
          "metadata": {},
          "execution_count": 3
        }
      ]
    },
    {
      "cell_type": "code",
      "source": [
        "# Load Prompts and Problem Description\n",
        "# Variables Prompt\n",
        "prompt11_path = '/content/drive/MyDrive/Thesis/Prompts/Prompt11_MathematicalModel.txt'\n",
        "\n",
        "# Objective Prompt\n",
        "prompt12_path = '/content/drive/MyDrive/Thesis/Prompts/Prompt12_MathematicalModel.txt'\n",
        "\n",
        "# Constraint Prompt\n",
        "prompt13_path = '/content/drive/MyDrive/Thesis/Prompts/Prompt13_MathematicalModel.txt'\n",
        "\n",
        "# Code Prompt\n",
        "prompt2_path = '/content/drive/MyDrive/Thesis/Prompts/Prompt2_PyomoCode.txt'\n",
        "problem_desc_path = '/content/drive/MyDrive/Thesis/ProblemDescriptions/MIP/MIP1.txt'\n",
        "\n",
        "prompt11_file = open(prompt11_path, \"r\")\n",
        "prompt12_file = open(prompt12_path, \"r\")\n",
        "prompt13_file = open(prompt13_path, \"r\")\n",
        "prompt2_file = open(prompt2_path, \"r\")\n",
        "problem_desc_file = open(problem_desc_path, \"r\")\n",
        "\n",
        "prompt11 = prompt11_file.read()\n",
        "print(\"Prompt 1.1 (Variables):\\n\", prompt11)\n",
        "\n",
        "prompt12 = prompt12_file.read()\n",
        "print(\"Prompt 1.2 (Objctive):\\n\", prompt12)\n",
        "\n",
        "prompt13 = prompt13_file.read()\n",
        "print(\"Prompt 1.3 (Constraints):\\n\", prompt13)\n",
        "\n",
        "prompt2 = prompt2_file.read()\n",
        "print(\"Prompt 2:\\n\", prompt2)\n",
        "\n",
        "problem_desc = problem_desc_file.read()\n",
        "print(\"Problem Description:\\n\", problem_desc)"
      ],
      "metadata": {
        "colab": {
          "base_uri": "https://localhost:8080/"
        },
        "id": "9KlkjwMUS4xp",
        "outputId": "e833a3ee-86ac-46b5-98e2-acb0bd246d31"
      },
      "execution_count": 4,
      "outputs": [
        {
          "output_type": "stream",
          "name": "stdout",
          "text": [
            "Prompt 1.1 (Variables):\n",
            " Please formulate only the variables for this mathematical optimization problem. \n",
            "Prompt 1.2 (Objctive):\n",
            " Please formulate only the objective function for this mathematical optimization problem. \n",
            "Prompt 1.3 (Constraints):\n",
            " Please formulate only the constraints for this mathematical optimization problem. \n",
            "Prompt 2:\n",
            " Please write a python pyomo code for this optimization problem.\n",
            "Use sample data where needed.\n",
            "Indicate where you use sample data.\n",
            "Problem Description:\n",
            " You are a city planner, looking to open facilities at some locations. We have a set of customers and a set of possible locations for opening facilities. Each potential location for establishing a facility incurs a fixed annual activation cost, which must be paid if the facility is used, regardless of the service volume it handles. Furthermore, this service volume at each facility is capped at a maximum annual limit. Additionally, there are transportation costs associated with servicing each customer from each facility.\n",
            "The goal is to minimize the overall costs, which include both the fixed activation costs for any opened facilities and the transportation costs for servicing customers. This must be done while making sure that each customer’s demand is met, each facility does not exceed its maximum service volume, and customers can of course only be serviced by a facility that is opened. \n",
            "Please formulate this as a mathematical optimization model.\n",
            "\n",
            "\n"
          ]
        }
      ]
    },
    {
      "cell_type": "code",
      "source": [
        "!pip install anthropic"
      ],
      "metadata": {
        "colab": {
          "base_uri": "https://localhost:8080/"
        },
        "id": "iWlNsTIvxCcR",
        "outputId": "1879b807-bc89-4265-80f7-be37c89ac65f",
        "collapsed": true
      },
      "execution_count": 5,
      "outputs": [
        {
          "output_type": "stream",
          "name": "stdout",
          "text": [
            "Collecting anthropic\n",
            "  Downloading anthropic-0.28.0-py3-none-any.whl (862 kB)\n",
            "\u001b[2K     \u001b[90m━━━━━━━━━━━━━━━━━━━━━━━━━━━━━━━━━━━━━━━━\u001b[0m \u001b[32m862.7/862.7 kB\u001b[0m \u001b[31m5.2 MB/s\u001b[0m eta \u001b[36m0:00:00\u001b[0m\n",
            "\u001b[?25hRequirement already satisfied: anyio<5,>=3.5.0 in /usr/local/lib/python3.10/dist-packages (from anthropic) (3.7.1)\n",
            "Requirement already satisfied: distro<2,>=1.7.0 in /usr/lib/python3/dist-packages (from anthropic) (1.7.0)\n",
            "Collecting httpx<1,>=0.23.0 (from anthropic)\n",
            "  Downloading httpx-0.27.0-py3-none-any.whl (75 kB)\n",
            "\u001b[2K     \u001b[90m━━━━━━━━━━━━━━━━━━━━━━━━━━━━━━━━━━━━━━━━\u001b[0m \u001b[32m75.6/75.6 kB\u001b[0m \u001b[31m6.2 MB/s\u001b[0m eta \u001b[36m0:00:00\u001b[0m\n",
            "\u001b[?25hCollecting jiter<1,>=0.4.0 (from anthropic)\n",
            "  Downloading jiter-0.4.1-cp310-cp310-manylinux_2_17_x86_64.manylinux2014_x86_64.whl (328 kB)\n",
            "\u001b[2K     \u001b[90m━━━━━━━━━━━━━━━━━━━━━━━━━━━━━━━━━━━━━━━━\u001b[0m \u001b[32m328.3/328.3 kB\u001b[0m \u001b[31m7.1 MB/s\u001b[0m eta \u001b[36m0:00:00\u001b[0m\n",
            "\u001b[?25hRequirement already satisfied: pydantic<3,>=1.9.0 in /usr/local/lib/python3.10/dist-packages (from anthropic) (2.7.3)\n",
            "Requirement already satisfied: sniffio in /usr/local/lib/python3.10/dist-packages (from anthropic) (1.3.1)\n",
            "Requirement already satisfied: tokenizers>=0.13.0 in /usr/local/lib/python3.10/dist-packages (from anthropic) (0.19.1)\n",
            "Requirement already satisfied: typing-extensions<5,>=4.7 in /usr/local/lib/python3.10/dist-packages (from anthropic) (4.12.1)\n",
            "Requirement already satisfied: idna>=2.8 in /usr/local/lib/python3.10/dist-packages (from anyio<5,>=3.5.0->anthropic) (3.7)\n",
            "Requirement already satisfied: exceptiongroup in /usr/local/lib/python3.10/dist-packages (from anyio<5,>=3.5.0->anthropic) (1.2.1)\n",
            "Requirement already satisfied: certifi in /usr/local/lib/python3.10/dist-packages (from httpx<1,>=0.23.0->anthropic) (2024.6.2)\n",
            "Collecting httpcore==1.* (from httpx<1,>=0.23.0->anthropic)\n",
            "  Downloading httpcore-1.0.5-py3-none-any.whl (77 kB)\n",
            "\u001b[2K     \u001b[90m━━━━━━━━━━━━━━━━━━━━━━━━━━━━━━━━━━━━━━━━\u001b[0m \u001b[32m77.9/77.9 kB\u001b[0m \u001b[31m7.4 MB/s\u001b[0m eta \u001b[36m0:00:00\u001b[0m\n",
            "\u001b[?25hCollecting h11<0.15,>=0.13 (from httpcore==1.*->httpx<1,>=0.23.0->anthropic)\n",
            "  Downloading h11-0.14.0-py3-none-any.whl (58 kB)\n",
            "\u001b[2K     \u001b[90m━━━━━━━━━━━━━━━━━━━━━━━━━━━━━━━━━━━━━━━━\u001b[0m \u001b[32m58.3/58.3 kB\u001b[0m \u001b[31m7.0 MB/s\u001b[0m eta \u001b[36m0:00:00\u001b[0m\n",
            "\u001b[?25hRequirement already satisfied: annotated-types>=0.4.0 in /usr/local/lib/python3.10/dist-packages (from pydantic<3,>=1.9.0->anthropic) (0.7.0)\n",
            "Requirement already satisfied: pydantic-core==2.18.4 in /usr/local/lib/python3.10/dist-packages (from pydantic<3,>=1.9.0->anthropic) (2.18.4)\n",
            "Requirement already satisfied: huggingface-hub<1.0,>=0.16.4 in /usr/local/lib/python3.10/dist-packages (from tokenizers>=0.13.0->anthropic) (0.23.2)\n",
            "Requirement already satisfied: filelock in /usr/local/lib/python3.10/dist-packages (from huggingface-hub<1.0,>=0.16.4->tokenizers>=0.13.0->anthropic) (3.14.0)\n",
            "Requirement already satisfied: fsspec>=2023.5.0 in /usr/local/lib/python3.10/dist-packages (from huggingface-hub<1.0,>=0.16.4->tokenizers>=0.13.0->anthropic) (2023.6.0)\n",
            "Requirement already satisfied: packaging>=20.9 in /usr/local/lib/python3.10/dist-packages (from huggingface-hub<1.0,>=0.16.4->tokenizers>=0.13.0->anthropic) (24.0)\n",
            "Requirement already satisfied: pyyaml>=5.1 in /usr/local/lib/python3.10/dist-packages (from huggingface-hub<1.0,>=0.16.4->tokenizers>=0.13.0->anthropic) (6.0.1)\n",
            "Requirement already satisfied: requests in /usr/local/lib/python3.10/dist-packages (from huggingface-hub<1.0,>=0.16.4->tokenizers>=0.13.0->anthropic) (2.31.0)\n",
            "Requirement already satisfied: tqdm>=4.42.1 in /usr/local/lib/python3.10/dist-packages (from huggingface-hub<1.0,>=0.16.4->tokenizers>=0.13.0->anthropic) (4.66.4)\n",
            "Requirement already satisfied: charset-normalizer<4,>=2 in /usr/local/lib/python3.10/dist-packages (from requests->huggingface-hub<1.0,>=0.16.4->tokenizers>=0.13.0->anthropic) (3.3.2)\n",
            "Requirement already satisfied: urllib3<3,>=1.21.1 in /usr/local/lib/python3.10/dist-packages (from requests->huggingface-hub<1.0,>=0.16.4->tokenizers>=0.13.0->anthropic) (2.0.7)\n",
            "Installing collected packages: jiter, h11, httpcore, httpx, anthropic\n",
            "Successfully installed anthropic-0.28.0 h11-0.14.0 httpcore-1.0.5 httpx-0.27.0 jiter-0.4.1\n"
          ]
        }
      ]
    },
    {
      "cell_type": "code",
      "execution_count": 6,
      "metadata": {
        "id": "7Qjk2D63v1Bl"
      },
      "outputs": [],
      "source": [
        "# Importing Anthropic & Setting Headers\n",
        "import anthropic\n",
        "\n",
        "client = anthropic.Anthropic(\n",
        "    # defaults to os.environ.get(\"ANTHROPIC_API_KEY\")\n",
        "    api_key=os.environ.get(\"ANTHROPIC_API_KEY\"),\n",
        ")"
      ]
    },
    {
      "cell_type": "markdown",
      "source": [
        "# 1. Prompt 1.1: Create Variables for Mathematical Model"
      ],
      "metadata": {
        "id": "kT7yKbJs18XR"
      }
    },
    {
      "cell_type": "code",
      "source": [
        "message11 = client.messages.create(\n",
        "    model=\"claude-3-opus-20240229\",\n",
        "    system=prompt11,\n",
        "    max_tokens=4096,\n",
        "    messages=[\n",
        "        {\"role\": \"user\", \"content\": problem_desc}\n",
        "    ]\n",
        ")\n",
        "\n",
        "response_p11 = message11.content[0].text"
      ],
      "metadata": {
        "id": "R_6X0axq16D4"
      },
      "execution_count": 7,
      "outputs": []
    },
    {
      "cell_type": "code",
      "source": [
        "# Print response\n",
        "print(response_p11)"
      ],
      "metadata": {
        "colab": {
          "base_uri": "https://localhost:8080/"
        },
        "id": "Ra9Ox_PI38jg",
        "outputId": "47cfba2e-b61f-4e4f-f3a3-692bdf107da1"
      },
      "execution_count": 8,
      "outputs": [
        {
          "output_type": "stream",
          "name": "stdout",
          "text": [
            "Great! Let's formulate this facility location problem as a mathematical optimization model. We'll start by defining the sets, parameters, and decision variables.\n",
            "\n",
            "Sets:\n",
            "- I: set of customers, indexed by i\n",
            "- J: set of potential facility locations, indexed by j\n",
            "\n",
            "Parameters:\n",
            "- d_i: demand of customer i\n",
            "- f_j: fixed annual activation cost for opening a facility at location j\n",
            "- c_ij: transportation cost for servicing customer i from facility j\n",
            "- M_j: maximum annual service volume at facility j\n",
            "\n",
            "Decision Variables:\n",
            "- x_ij: fraction of customer i's demand serviced by facility j (continuous, 0 ≤ x_ij ≤ 1)\n",
            "- y_j: binary variable indicating if a facility is opened at location j (y_j = 1 if opened, 0 otherwise)\n",
            "\n",
            "Objective Function:\n",
            "minimize ∑_j f_j * y_j + ∑_i ∑_j c_ij * d_i * x_ij\n",
            "\n",
            "Constraints:\n",
            "1. Each customer's demand must be fully met:\n",
            "   ∑_j x_ij = 1, ∀i ∈ I\n",
            "\n",
            "2. The service volume at each facility should not exceed its maximum annual limit:\n",
            "   ∑_i d_i * x_ij ≤ M_j * y_j, ∀j ∈ J\n",
            "\n",
            "3. Customers can only be serviced by opened facilities:\n",
            "   x_ij ≤ y_j, ∀i ∈ I, ∀j ∈ J\n",
            "\n",
            "4. Non-negativity and binary constraints:\n",
            "   0 ≤ x_ij ≤ 1, ∀i ∈ I, ∀j ∈ J\n",
            "   y_j ∈ {0, 1}, ∀j ∈ J\n",
            "\n",
            "The objective function minimizes the total cost, which includes the fixed activation costs for opened facilities and the transportation costs for servicing customers. Constraint 1 ensures that each customer's demand is fully met. Constraint 2 guarantees that the service volume at each facility does not exceed its maximum annual limit. Constraint 3 ensures that customers can only be serviced by opened facilities. Finally, constraint 4 defines the non-negativity and binary nature of the decision variables.\n",
            "\n",
            "This mathematical optimization model can be solved using mixed-integer linear programming (MILP) techniques to determine the optimal facility locations and customer assignments that minimize the overall costs while satisfying all the constraints.\n"
          ]
        }
      ]
    },
    {
      "cell_type": "markdown",
      "source": [
        "# 1. Prompt 1.2: Create Objective for Mathematical Model"
      ],
      "metadata": {
        "id": "nbt6yH1snBQL"
      }
    },
    {
      "cell_type": "code",
      "source": [
        "message12 = client.messages.create(\n",
        "    model=\"claude-3-opus-20240229\",\n",
        "    system=prompt12,\n",
        "    max_tokens=4096,\n",
        "    messages=[\n",
        "        {\"role\": \"user\", \"content\": (problem_desc + response_p11)}\n",
        "    ]\n",
        ")\n",
        "\n",
        "response_p12 = message12.content[0].text"
      ],
      "metadata": {
        "id": "ol4rtt_MnAy8"
      },
      "execution_count": 9,
      "outputs": []
    },
    {
      "cell_type": "code",
      "source": [
        "# Print response\n",
        "print(response_p12)"
      ],
      "metadata": {
        "colab": {
          "base_uri": "https://localhost:8080/"
        },
        "id": "Vz2F_EARnzHf",
        "outputId": "07955e86-808e-4b77-bb39-8180e467dcb2"
      },
      "execution_count": 10,
      "outputs": [
        {
          "output_type": "stream",
          "name": "stdout",
          "text": [
            "Here is the objective function for the given mathematical optimization problem:\n",
            "\n",
            "minimize ∑_j f_j * y_j + ∑_i ∑_j c_ij * d_i * x_ij\n",
            "\n",
            "where:\n",
            "- f_j is the fixed annual activation cost for opening a facility at location j\n",
            "- y_j is a binary variable indicating if a facility is opened at location j (y_j = 1 if opened, 0 otherwise)  \n",
            "- c_ij is the transportation cost for servicing customer i from facility j\n",
            "- d_i is the demand of customer i\n",
            "- x_ij is a continuous variable representing the fraction of customer i's demand serviced by facility j (0 ≤ x_ij ≤ 1)\n",
            "\n",
            "The objective is to minimize the total cost, which consists of two components:\n",
            "1. ∑_j f_j * y_j : The sum of fixed activation costs for all opened facilities\n",
            "2. ∑_i ∑_j c_ij * d_i * x_ij : The total transportation costs for servicing all customers from the opened facilities\n"
          ]
        }
      ]
    },
    {
      "cell_type": "markdown",
      "source": [
        "# 1. Prompt 1.3: Create Constraints for Mathematical Model\n"
      ],
      "metadata": {
        "id": "Wzf33DwvnEar"
      }
    },
    {
      "cell_type": "code",
      "source": [
        "message13 = client.messages.create(\n",
        "    model=\"claude-3-opus-20240229\",\n",
        "    system=prompt13,\n",
        "    max_tokens=4096,\n",
        "    messages=[\n",
        "        {\"role\": \"user\", \"content\": (problem_desc + response_p11 + response_p12)}\n",
        "    ]\n",
        ")\n",
        "\n",
        "response_p13 = message13.content[0].text"
      ],
      "metadata": {
        "id": "l1UAJRt7nENG"
      },
      "execution_count": 11,
      "outputs": []
    },
    {
      "cell_type": "code",
      "source": [
        "# Print response\n",
        "print(response_p13)"
      ],
      "metadata": {
        "colab": {
          "base_uri": "https://localhost:8080/"
        },
        "id": "vH7Ff9mxn4FZ",
        "outputId": "3bc98ae5-a381-4c84-f56c-49a35b998d49"
      },
      "execution_count": 12,
      "outputs": [
        {
          "output_type": "stream",
          "name": "stdout",
          "text": [
            "Here are the constraints for the given mathematical optimization problem:\n",
            "\n",
            "1. Each customer's demand must be fully met:\n",
            "   ∑_j x_ij = 1, ∀i ∈ I\n",
            "\n",
            "   This constraint ensures that the sum of the fractions of demand serviced by all facilities for each customer i equals 1, meaning that the entire demand is satisfied.\n",
            "\n",
            "2. The service volume at each facility should not exceed its maximum annual limit:\n",
            "   ∑_i d_i * x_ij ≤ M_j * y_j, ∀j ∈ J\n",
            "\n",
            "   This constraint guarantees that for each facility j, the total demand serviced (∑_i d_i * x_ij) does not exceed the maximum annual service volume (M_j) if the facility is opened (y_j = 1). If the facility is not opened (y_j = 0), the constraint forces the service volume to be zero.\n",
            "\n",
            "3. Customers can only be serviced by opened facilities:\n",
            "   x_ij ≤ y_j, ∀i ∈ I, ∀j ∈ J\n",
            "\n",
            "   This constraint ensures that a customer i can only be serviced by a facility j if that facility is opened (y_j = 1). If the facility is not opened (y_j = 0), the fraction of demand serviced by that facility (x_ij) must be zero.\n",
            "\n",
            "4. Non-negativity and binary constraints:\n",
            "   0 ≤ x_ij ≤ 1, ∀i ∈ I, ∀j ∈ J\n",
            "   y_j ∈ {0, 1}, ∀j ∈ J\n",
            "\n",
            "   These constraints define the range of values for the decision variables. The fraction of demand serviced (x_ij) must be between 0 and 1, while the facility opening variables (y_j) are binary, taking only values of 0 or 1.\n",
            "\n",
            "These constraints, along with the objective function, complete the formulation of the mathematical optimization model for the facility location problem.\n"
          ]
        }
      ]
    },
    {
      "cell_type": "markdown",
      "source": [
        "# 2. Prompt 2: Write Code based on Mathematical Model\n",
        "\n",
        "In case more than the component of each step was generated, use \"last instance\"/ \"newest version\" of the components.\n",
        "\n",
        "Example:\n",
        "Prompt 1.1 (Variables): Model generates only variables\n",
        "Prompt 1.2 (Objectvie): Model generates objective and constraints\n",
        "Prompt 1.3 (Constraints): Model generates only constraints\n",
        "\n",
        "Use Variables from step 1.1, use objective from 1.2 and use constraints from 1.3 (since constraints version 1.3 is more recent than constraints version 1.2).\n",
        "\n",
        "This set up allows for potential self-correction of the model throughout the three prompts.\n",
        "\n",
        "Correctness of each component is still generated in the respective step, so self-correction is independent of this."
      ],
      "metadata": {
        "id": "WPZ6lgBO729j"
      }
    },
    {
      "cell_type": "code",
      "source": [
        "response_p11_adjusted = \"\"\"\n",
        "Great! Let's formulate this facility location problem as a mathematical optimization model. We'll start by defining the sets, parameters, and decision variables.\n",
        "\n",
        "Sets:\n",
        "- I: set of customers, indexed by i\n",
        "- J: set of potential facility locations, indexed by j\n",
        "\n",
        "Parameters:\n",
        "- d_i: demand of customer i\n",
        "- f_j: fixed annual activation cost for opening a facility at location j\n",
        "- c_ij: transportation cost for servicing customer i from facility j\n",
        "- M_j: maximum annual service volume at facility j\n",
        "\n",
        "Decision Variables:\n",
        "- x_ij: fraction of customer i's demand serviced by facility j (continuous, 0 ≤ x_ij ≤ 1)\n",
        "- y_j: binary variable indicating if a facility is opened at location j (y_j = 1 if opened, 0 otherwise)\n",
        "\"\"\""
      ],
      "metadata": {
        "id": "kxI6rWwLOmuo"
      },
      "execution_count": 13,
      "outputs": []
    },
    {
      "cell_type": "code",
      "source": [
        "message2 = client.messages.create(\n",
        "    model=\"claude-3-opus-20240229\",\n",
        "    system=prompt2,\n",
        "    max_tokens=4069,\n",
        "    messages=[\n",
        "        {\"role\": \"user\", \"content\": (response_p11_adjusted + response_p12 + response_p13)}\n",
        "    ]\n",
        ")\n",
        "\n",
        "response_p2 = message2.content[0].text"
      ],
      "metadata": {
        "id": "1iUSgBda70FL"
      },
      "execution_count": 14,
      "outputs": []
    },
    {
      "cell_type": "code",
      "source": [
        "# Print response\n",
        "print(response_p2)"
      ],
      "metadata": {
        "colab": {
          "base_uri": "https://localhost:8080/"
        },
        "id": "o40mxc_H8eQ9",
        "outputId": "0efbdbd4-e2e6-4c20-ebf2-98095d9742f3"
      },
      "execution_count": 15,
      "outputs": [
        {
          "output_type": "stream",
          "name": "stdout",
          "text": [
            "Here's a Python code using Pyomo to solve the facility location problem:\n",
            "\n",
            "```python\n",
            "from pyomo.environ import *\n",
            "\n",
            "# Create a Pyomo model\n",
            "model = ConcreteModel()\n",
            "\n",
            "# Define sets\n",
            "model.I = Set(initialize=['Customer1', 'Customer2', 'Customer3'])  # Sample data\n",
            "model.J = Set(initialize=['Facility1', 'Facility2', 'Facility3'])  # Sample data\n",
            "\n",
            "# Define parameters\n",
            "model.d = Param(model.I, initialize={'Customer1': 100, 'Customer2': 150, 'Customer3': 200})  # Sample data\n",
            "model.f = Param(model.J, initialize={'Facility1': 1000, 'Facility2': 1500, 'Facility3': 1200})  # Sample data\n",
            "model.c = Param(model.I, model.J, initialize={\n",
            "    ('Customer1', 'Facility1'): 10, ('Customer1', 'Facility2'): 12, ('Customer1', 'Facility3'): 15,\n",
            "    ('Customer2', 'Facility1'): 8, ('Customer2', 'Facility2'): 9, ('Customer2', 'Facility3'): 11,\n",
            "    ('Customer3', 'Facility1'): 7, ('Customer3', 'Facility2'): 10, ('Customer3', 'Facility3'): 13\n",
            "})  # Sample data\n",
            "model.M = Param(model.J, initialize={'Facility1': 500, 'Facility2': 600, 'Facility3': 400})  # Sample data\n",
            "\n",
            "# Define decision variables\n",
            "model.x = Var(model.I, model.J, bounds=(0, 1))\n",
            "model.y = Var(model.J, within=Binary)\n",
            "\n",
            "# Define objective function\n",
            "def obj_rule(model):\n",
            "    return sum(model.f[j] * model.y[j] for j in model.J) + \\\n",
            "           sum(model.c[i, j] * model.d[i] * model.x[i, j] for i in model.I for j in model.J)\n",
            "model.obj = Objective(rule=obj_rule, sense=minimize)\n",
            "\n",
            "# Define constraints\n",
            "def demand_constraint_rule(model, i):\n",
            "    return sum(model.x[i, j] for j in model.J) == 1\n",
            "model.demand_constraint = Constraint(model.I, rule=demand_constraint_rule)\n",
            "\n",
            "def capacity_constraint_rule(model, j):\n",
            "    return sum(model.d[i] * model.x[i, j] for i in model.I) <= model.M[j] * model.y[j]\n",
            "model.capacity_constraint = Constraint(model.J, rule=capacity_constraint_rule)\n",
            "\n",
            "def service_constraint_rule(model, i, j):\n",
            "    return model.x[i, j] <= model.y[j]\n",
            "model.service_constraint = Constraint(model.I, model.J, rule=service_constraint_rule)\n",
            "\n",
            "# Solve the model\n",
            "solver = SolverFactory('glpk')\n",
            "results = solver.solve(model)\n",
            "\n",
            "# Print the results\n",
            "print(\"Objective value:\", value(model.obj))\n",
            "for j in model.J:\n",
            "    if value(model.y[j]) > 0.5:\n",
            "        print(f\"Open facility at location {j}\")\n",
            "        for i in model.I:\n",
            "            if value(model.x[i, j]) > 0:\n",
            "                print(f\"  Serve {value(model.x[i, j]) * 100}% of demand from customer {i}\")\n",
            "```\n",
            "\n",
            "Note: The code uses sample data for sets `I` and `J`, as well as parameters `d`, `f`, `c`, and `M`. You can replace these with your actual data.\n",
            "\n",
            "The code follows the mathematical formulation we discussed earlier:\n",
            "- The sets `I` and `J` represent customers and potential facility locations, respectively.\n",
            "- Parameters `d`, `f`, `c`, and `M` represent customer demands, facility fixed costs, transportation costs, and maximum service volumes, respectively.\n",
            "- Decision variables `x` and `y` represent the fraction of demand served and the binary decision to open facilities, respectively.\n",
            "- The objective function minimizes the total cost, including fixed costs and transportation costs.\n",
            "- Constraints ensure that customer demand is fully met, facility capacities are respected, and customers are only served by open facilities.\n",
            "\n",
            "The code uses the `glpk` solver to solve the optimization problem. You can replace it with another solver if desired.\n",
            "\n",
            "Finally, the code prints the objective value and the open facilities along with the percentage of demand served from each customer.\n"
          ]
        }
      ]
    },
    {
      "cell_type": "markdown",
      "source": [
        "# 4. Input Problem Data and Test Model Code"
      ],
      "metadata": {
        "id": "Pc0QqJuf8up_"
      }
    },
    {
      "cell_type": "code",
      "source": [
        "# Installing pyomo nd solver\n",
        "!pip install -q pyomo\n",
        "!pip install pandas\n",
        "!apt-get install -y -qq glpk-utils\n",
        "!pip install glpk"
      ],
      "metadata": {
        "colab": {
          "base_uri": "https://localhost:8080/"
        },
        "id": "3BtROuLu9O-p",
        "outputId": "aed13fd5-5ae0-4235-b1a8-5e8cc884cdd5",
        "collapsed": true
      },
      "execution_count": 16,
      "outputs": [
        {
          "output_type": "stream",
          "name": "stdout",
          "text": [
            "\u001b[2K     \u001b[90m━━━━━━━━━━━━━━━━━━━━━━━━━━━━━━━━━━━━━━━━\u001b[0m \u001b[32m12.8/12.8 MB\u001b[0m \u001b[31m63.1 MB/s\u001b[0m eta \u001b[36m0:00:00\u001b[0m\n",
            "\u001b[2K     \u001b[90m━━━━━━━━━━━━━━━━━━━━━━━━━━━━━━━━━━━━━━━━\u001b[0m \u001b[32m49.6/49.6 kB\u001b[0m \u001b[31m5.2 MB/s\u001b[0m eta \u001b[36m0:00:00\u001b[0m\n",
            "\u001b[?25hRequirement already satisfied: pandas in /usr/local/lib/python3.10/dist-packages (2.0.3)\n",
            "Requirement already satisfied: python-dateutil>=2.8.2 in /usr/local/lib/python3.10/dist-packages (from pandas) (2.8.2)\n",
            "Requirement already satisfied: pytz>=2020.1 in /usr/local/lib/python3.10/dist-packages (from pandas) (2023.4)\n",
            "Requirement already satisfied: tzdata>=2022.1 in /usr/local/lib/python3.10/dist-packages (from pandas) (2024.1)\n",
            "Requirement already satisfied: numpy>=1.21.0 in /usr/local/lib/python3.10/dist-packages (from pandas) (1.25.2)\n",
            "Requirement already satisfied: six>=1.5 in /usr/local/lib/python3.10/dist-packages (from python-dateutil>=2.8.2->pandas) (1.16.0)\n",
            "Selecting previously unselected package libsuitesparseconfig5:amd64.\n",
            "(Reading database ... 121913 files and directories currently installed.)\n",
            "Preparing to unpack .../libsuitesparseconfig5_1%3a5.10.1+dfsg-4build1_amd64.deb ...\n",
            "Unpacking libsuitesparseconfig5:amd64 (1:5.10.1+dfsg-4build1) ...\n",
            "Selecting previously unselected package libamd2:amd64.\n",
            "Preparing to unpack .../libamd2_1%3a5.10.1+dfsg-4build1_amd64.deb ...\n",
            "Unpacking libamd2:amd64 (1:5.10.1+dfsg-4build1) ...\n",
            "Selecting previously unselected package libcolamd2:amd64.\n",
            "Preparing to unpack .../libcolamd2_1%3a5.10.1+dfsg-4build1_amd64.deb ...\n",
            "Unpacking libcolamd2:amd64 (1:5.10.1+dfsg-4build1) ...\n",
            "Selecting previously unselected package libglpk40:amd64.\n",
            "Preparing to unpack .../libglpk40_5.0-1_amd64.deb ...\n",
            "Unpacking libglpk40:amd64 (5.0-1) ...\n",
            "Selecting previously unselected package glpk-utils.\n",
            "Preparing to unpack .../glpk-utils_5.0-1_amd64.deb ...\n",
            "Unpacking glpk-utils (5.0-1) ...\n",
            "Setting up libsuitesparseconfig5:amd64 (1:5.10.1+dfsg-4build1) ...\n",
            "Setting up libamd2:amd64 (1:5.10.1+dfsg-4build1) ...\n",
            "Setting up libcolamd2:amd64 (1:5.10.1+dfsg-4build1) ...\n",
            "Setting up libglpk40:amd64 (5.0-1) ...\n",
            "Setting up glpk-utils (5.0-1) ...\n",
            "Processing triggers for man-db (2.10.2-1) ...\n",
            "Processing triggers for libc-bin (2.35-0ubuntu3.4) ...\n",
            "/sbin/ldconfig.real: /usr/local/lib/libtbbbind_2_0.so.3 is not a symbolic link\n",
            "\n",
            "/sbin/ldconfig.real: /usr/local/lib/libtbbbind_2_5.so.3 is not a symbolic link\n",
            "\n",
            "/sbin/ldconfig.real: /usr/local/lib/libtbb.so.12 is not a symbolic link\n",
            "\n",
            "/sbin/ldconfig.real: /usr/local/lib/libtbbbind.so.3 is not a symbolic link\n",
            "\n",
            "/sbin/ldconfig.real: /usr/local/lib/libtbbmalloc_proxy.so.2 is not a symbolic link\n",
            "\n",
            "/sbin/ldconfig.real: /usr/local/lib/libtbbmalloc.so.2 is not a symbolic link\n",
            "\n",
            "Collecting glpk\n",
            "  Downloading glpk-0.4.7.tar.gz (161 kB)\n",
            "\u001b[2K     \u001b[90m━━━━━━━━━━━━━━━━━━━━━━━━━━━━━━━━━━━━━━━━\u001b[0m \u001b[32m161.2/161.2 kB\u001b[0m \u001b[31m3.3 MB/s\u001b[0m eta \u001b[36m0:00:00\u001b[0m\n",
            "\u001b[?25h  Installing build dependencies ... \u001b[?25l\u001b[?25hdone\n",
            "  Getting requirements to build wheel ... \u001b[?25l\u001b[?25hdone\n",
            "  Preparing metadata (pyproject.toml) ... \u001b[?25l\u001b[?25hdone\n",
            "Building wheels for collected packages: glpk\n",
            "  \u001b[1;31merror\u001b[0m: \u001b[1msubprocess-exited-with-error\u001b[0m\n",
            "  \n",
            "  \u001b[31m×\u001b[0m \u001b[32mBuilding wheel for glpk \u001b[0m\u001b[1;32m(\u001b[0m\u001b[32mpyproject.toml\u001b[0m\u001b[1;32m)\u001b[0m did not run successfully.\n",
            "  \u001b[31m│\u001b[0m exit code: \u001b[1;36m1\u001b[0m\n",
            "  \u001b[31m╰─>\u001b[0m See above for output.\n",
            "  \n",
            "  \u001b[1;35mnote\u001b[0m: This error originates from a subprocess, and is likely not a problem with pip.\n",
            "  Building wheel for glpk (pyproject.toml) ... \u001b[?25l\u001b[?25herror\n",
            "\u001b[31m  ERROR: Failed building wheel for glpk\u001b[0m\u001b[31m\n",
            "\u001b[0mFailed to build glpk\n",
            "\u001b[31mERROR: Could not build wheels for glpk, which is required to install pyproject.toml-based projects\u001b[0m\u001b[31m\n",
            "\u001b[0m"
          ]
        }
      ]
    },
    {
      "cell_type": "code",
      "source": [
        "from pyomo.environ import *\n",
        "\n",
        "# Create a Pyomo model\n",
        "model = ConcreteModel()\n",
        "\n",
        "# Define sets\n",
        "model.I = Set(initialize=['Customer1', 'Customer2', 'Customer3', 'Customer4', 'Customer5'])  # Sample data\n",
        "model.J = Set(initialize=['Facility1', 'Facility2', 'Facility3'])  # Sample data\n",
        "\n",
        "# Define parameters\n",
        "model.d = Param(model.I, initialize={'Customer1': 80, 'Customer2': 270, 'Customer3': 250, 'Customer4': 160, 'Customer5': 180})  # Sample data\n",
        "model.f = Param(model.J, initialize={'Facility1': 1000, 'Facility2': 1000, 'Facility3': 1000})  # Sample data\n",
        "model.c = Param(model.I, model.J, initialize={\n",
        "    ('Customer1', 'Facility1'): 4, ('Customer1', 'Facility2'): 6, ('Customer1', 'Facility3'): 9,\n",
        "    ('Customer2', 'Facility1'): 5, ('Customer2', 'Facility2'): 4, ('Customer2', 'Facility3'): 7,\n",
        "    ('Customer3', 'Facility1'): 6, ('Customer3', 'Facility2'): 3, ('Customer3', 'Facility3'): 4,\n",
        "    ('Customer4', 'Facility1'): 8, ('Customer4', 'Facility2'): 5, ('Customer4', 'Facility3'): 3,\n",
        "    ('Customer5', 'Facility1'): 10, ('Customer5', 'Facility2'): 8, ('Customer5', 'Facility3'): 4\n",
        "})  # Sample data\n",
        "model.M = Param(model.J, initialize={'Facility1': 500, 'Facility2': 500, 'Facility3': 500}  # Sample maximum annual service volumes\n",
        ")  # Sample data\n",
        "\n",
        "# Define decision variables\n",
        "model.x = Var(model.I, model.J, bounds=(0, 1))\n",
        "model.y = Var(model.J, within=Binary)\n",
        "\n",
        "# Define objective function\n",
        "def obj_rule(model):\n",
        "    return sum(model.f[j] * model.y[j] for j in model.J) + \\\n",
        "           sum(model.c[i, j] * model.d[i] * model.x[i, j] for i in model.I for j in model.J)\n",
        "model.obj = Objective(rule=obj_rule, sense=minimize)\n",
        "\n",
        "# Define constraints\n",
        "def demand_constraint_rule(model, i):\n",
        "    return sum(model.x[i, j] for j in model.J) == 1\n",
        "model.demand_constraint = Constraint(model.I, rule=demand_constraint_rule)\n",
        "\n",
        "def capacity_constraint_rule(model, j):\n",
        "    return sum(model.d[i] * model.x[i, j] for i in model.I) <= model.M[j] * model.y[j]\n",
        "model.capacity_constraint = Constraint(model.J, rule=capacity_constraint_rule)\n",
        "\n",
        "def service_constraint_rule(model, i, j):\n",
        "    return model.x[i, j] <= model.y[j]\n",
        "model.service_constraint = Constraint(model.I, model.J, rule=service_constraint_rule)\n",
        "\n",
        "# Solve the model\n",
        "solver = SolverFactory('glpk')\n",
        "results = solver.solve(model)\n",
        "\n",
        "# Print the results\n",
        "print(\"Objective value:\", value(model.obj))\n",
        "for j in model.J:\n",
        "    if value(model.y[j]) > 0.5:\n",
        "        print(f\"Open facility at location {j}\")\n",
        "        for i in model.I:\n",
        "            if value(model.x[i, j]) > 0:\n",
        "                print(f\"  Serve {value(model.x[i, j]) * 100}% of demand from customer {i}\")"
      ],
      "metadata": {
        "colab": {
          "base_uri": "https://localhost:8080/"
        },
        "id": "8FpHcuWU8rQ2",
        "outputId": "1cd3e896-82a2-4795-9ac5-5ee81ab8ea3f"
      },
      "execution_count": 17,
      "outputs": [
        {
          "output_type": "stream",
          "name": "stdout",
          "text": [
            "Objective value: 5609.999999999998\n",
            "Open facility at location Facility2\n",
            "  Serve 100.0% of demand from customer Customer1\n",
            "  Serve 99.9999999999999% of demand from customer Customer2\n",
            "  Serve 60.0% of demand from customer Customer3\n",
            "Open facility at location Facility3\n",
            "  Serve 40.0% of demand from customer Customer3\n",
            "  Serve 100.0% of demand from customer Customer4\n",
            "  Serve 100.0% of demand from customer Customer5\n"
          ]
        }
      ]
    },
    {
      "cell_type": "markdown",
      "source": [
        "# 5. Correct The Model Code to Test Mathematical Model (if applicable)"
      ],
      "metadata": {
        "id": "KHTyoLQTWZVy"
      }
    },
    {
      "cell_type": "code",
      "source": [],
      "metadata": {
        "id": "REJzqhR6WYvM"
      },
      "execution_count": null,
      "outputs": []
    },
    {
      "cell_type": "code",
      "source": [],
      "metadata": {
        "id": "bPJ_54384nR_"
      },
      "execution_count": null,
      "outputs": []
    }
  ]
}