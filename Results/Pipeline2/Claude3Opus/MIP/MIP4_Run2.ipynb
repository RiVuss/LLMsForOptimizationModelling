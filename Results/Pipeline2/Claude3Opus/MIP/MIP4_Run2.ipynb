{
  "nbformat": 4,
  "nbformat_minor": 0,
  "metadata": {
    "colab": {
      "provenance": []
    },
    "kernelspec": {
      "name": "python3",
      "display_name": "Python 3"
    },
    "language_info": {
      "name": "python"
    }
  },
  "cells": [
    {
      "cell_type": "markdown",
      "source": [
        "# 0. Imports and Setting up Anthropic API Client"
      ],
      "metadata": {
        "id": "y5fw0lkBwBbo"
      }
    },
    {
      "cell_type": "code",
      "source": [
        "from google.colab import drive\n",
        "\n",
        "drive.mount('/content/drive')"
      ],
      "metadata": {
        "colab": {
          "base_uri": "https://localhost:8080/"
        },
        "id": "e7tWOLo0yMoH",
        "outputId": "1ad5c58d-8bf3-4aba-ddd4-c10b51b468fe"
      },
      "execution_count": 1,
      "outputs": [
        {
          "output_type": "stream",
          "name": "stdout",
          "text": [
            "Mounted at /content/drive\n"
          ]
        }
      ]
    },
    {
      "cell_type": "code",
      "source": [
        "!pip install python-dotenv\n",
        "\n",
        "import os\n",
        "import dotenv\n",
        "\n",
        "dotenv.load_dotenv('/content/drive/MyDrive/.env')"
      ],
      "metadata": {
        "colab": {
          "base_uri": "https://localhost:8080/"
        },
        "id": "utcEK8lZ1Z1R",
        "outputId": "64b2755f-e74b-4924-bdd9-6d4907040ece"
      },
      "execution_count": 2,
      "outputs": [
        {
          "output_type": "stream",
          "name": "stdout",
          "text": [
            "Collecting python-dotenv\n",
            "  Downloading python_dotenv-1.0.1-py3-none-any.whl (19 kB)\n",
            "Installing collected packages: python-dotenv\n",
            "Successfully installed python-dotenv-1.0.1\n"
          ]
        },
        {
          "output_type": "execute_result",
          "data": {
            "text/plain": [
              "True"
            ]
          },
          "metadata": {},
          "execution_count": 2
        }
      ]
    },
    {
      "cell_type": "code",
      "source": [
        "# Load Prompts and Problem Description\n",
        "# Variables Prompt\n",
        "prompt11_path = '/content/drive/MyDrive/Thesis/Prompts/Prompt11_MathematicalModel.txt'\n",
        "\n",
        "# Objective Prompt\n",
        "prompt12_path = '/content/drive/MyDrive/Thesis/Prompts/Prompt12_MathematicalModel.txt'\n",
        "\n",
        "# Constraint Prompt\n",
        "prompt13_path = '/content/drive/MyDrive/Thesis/Prompts/Prompt13_MathematicalModel.txt'\n",
        "\n",
        "# Code Prompt\n",
        "prompt2_path = '/content/drive/MyDrive/Thesis/Prompts/Prompt2_PyomoCode.txt'\n",
        "problem_desc_path = '/content/drive/MyDrive/Thesis/ProblemDescriptions/MIP/MIP4.txt'\n",
        "\n",
        "prompt11_file = open(prompt11_path, \"r\")\n",
        "prompt12_file = open(prompt12_path, \"r\")\n",
        "prompt13_file = open(prompt13_path, \"r\")\n",
        "prompt2_file = open(prompt2_path, \"r\")\n",
        "problem_desc_file = open(problem_desc_path, \"r\")\n",
        "\n",
        "prompt11 = prompt11_file.read()\n",
        "print(\"Prompt 1.1 (Variables):\\n\", prompt11)\n",
        "\n",
        "prompt12 = prompt12_file.read()\n",
        "print(\"Prompt 1.2 (Objctive):\\n\", prompt12)\n",
        "\n",
        "prompt13 = prompt13_file.read()\n",
        "print(\"Prompt 1.3 (Constraints):\\n\", prompt13)\n",
        "\n",
        "prompt2 = prompt2_file.read()\n",
        "print(\"Prompt 2:\\n\", prompt2)\n",
        "\n",
        "problem_desc = problem_desc_file.read()\n",
        "print(\"Problem Description:\\n\", problem_desc)"
      ],
      "metadata": {
        "colab": {
          "base_uri": "https://localhost:8080/"
        },
        "id": "9KlkjwMUS4xp",
        "outputId": "ad600525-4b4d-42a4-a3c0-67e583335e3d"
      },
      "execution_count": 3,
      "outputs": [
        {
          "output_type": "stream",
          "name": "stdout",
          "text": [
            "Prompt 1.1 (Variables):\n",
            " Please formulate only the variables for this mathematical optimization problem. \n",
            "Prompt 1.2 (Objctive):\n",
            " Please formulate only the objective function for this mathematical optimization problem. \n",
            "Prompt 1.3 (Constraints):\n",
            " Please formulate only the constraints for this mathematical optimization problem. \n",
            "Prompt 2:\n",
            " Please write a python pyomo code for this optimization problem.\n",
            "Use sample data where needed.\n",
            "Indicate where you use sample data.\n",
            "Problem Description:\n",
            " You are task with maximizing the water flow in a network of pipes over 10 time steps. The water enters the system at point A and exits the system at point G. Hence, you need to maximize the amount of water that flows to point G. The water enters point A according to the function f(t) = max(-4/30t^3+t^2-0.234t+3, 0), where t is the time step. There are serveral points that are connected through pipes. Each pipe has a fixed capacity. Each point has to possibility to release water out of the system in case the outgoing pipes are full. There are 12 available pipes in total but only 10 of them can be activated. Deactivated pipes can not be used to transport water. The activation status of a pipe is set before any water arrives at point A and does not change. Finally, water can not be stored at the connection points which means that any water coming in at time t needs to be flowing out at time t + 1.\n",
            "\n",
            "These are the pipe capacities:\n",
            "AB: 3\n",
            "AC: 6\n",
            "AF: 1\n",
            "BC: 3\n",
            "BD: 10\n",
            "BE: 4\n",
            "CE: 4\n",
            "CF: 4\n",
            "DE: 5\n",
            "EG: 5\n",
            "FB: 12\n",
            "FG: 7\n"
          ]
        }
      ]
    },
    {
      "cell_type": "code",
      "source": [
        "!pip install anthropic"
      ],
      "metadata": {
        "colab": {
          "base_uri": "https://localhost:8080/"
        },
        "id": "iWlNsTIvxCcR",
        "outputId": "3940192f-62ee-4464-dc60-1b5e9ed918f0",
        "collapsed": true
      },
      "execution_count": 4,
      "outputs": [
        {
          "output_type": "stream",
          "name": "stdout",
          "text": [
            "Collecting anthropic\n",
            "  Downloading anthropic-0.28.0-py3-none-any.whl (862 kB)\n",
            "\u001b[?25l     \u001b[90m━━━━━━━━━━━━━━━━━━━━━━━━━━━━━━━━━━━━━━━━\u001b[0m \u001b[32m0.0/862.7 kB\u001b[0m \u001b[31m?\u001b[0m eta \u001b[36m-:--:--\u001b[0m\r\u001b[2K     \u001b[91m━━\u001b[0m\u001b[91m╸\u001b[0m\u001b[90m━━━━━━━━━━━━━━━━━━━━━━━━━━━━━━━━━━━━━\u001b[0m \u001b[32m61.4/862.7 kB\u001b[0m \u001b[31m1.8 MB/s\u001b[0m eta \u001b[36m0:00:01\u001b[0m\r\u001b[2K     \u001b[90m━━━━━━━━━━━━━━━━━━━━━━━━━━━━━━━━━━━━━━━━\u001b[0m \u001b[32m862.7/862.7 kB\u001b[0m \u001b[31m13.8 MB/s\u001b[0m eta \u001b[36m0:00:00\u001b[0m\n",
            "\u001b[?25hRequirement already satisfied: anyio<5,>=3.5.0 in /usr/local/lib/python3.10/dist-packages (from anthropic) (3.7.1)\n",
            "Requirement already satisfied: distro<2,>=1.7.0 in /usr/lib/python3/dist-packages (from anthropic) (1.7.0)\n",
            "Collecting httpx<1,>=0.23.0 (from anthropic)\n",
            "  Downloading httpx-0.27.0-py3-none-any.whl (75 kB)\n",
            "\u001b[2K     \u001b[90m━━━━━━━━━━━━━━━━━━━━━━━━━━━━━━━━━━━━━━━━\u001b[0m \u001b[32m75.6/75.6 kB\u001b[0m \u001b[31m9.5 MB/s\u001b[0m eta \u001b[36m0:00:00\u001b[0m\n",
            "\u001b[?25hCollecting jiter<1,>=0.4.0 (from anthropic)\n",
            "  Downloading jiter-0.4.1-cp310-cp310-manylinux_2_17_x86_64.manylinux2014_x86_64.whl (328 kB)\n",
            "\u001b[2K     \u001b[90m━━━━━━━━━━━━━━━━━━━━━━━━━━━━━━━━━━━━━━━━\u001b[0m \u001b[32m328.3/328.3 kB\u001b[0m \u001b[31m23.7 MB/s\u001b[0m eta \u001b[36m0:00:00\u001b[0m\n",
            "\u001b[?25hRequirement already satisfied: pydantic<3,>=1.9.0 in /usr/local/lib/python3.10/dist-packages (from anthropic) (2.7.3)\n",
            "Requirement already satisfied: sniffio in /usr/local/lib/python3.10/dist-packages (from anthropic) (1.3.1)\n",
            "Requirement already satisfied: tokenizers>=0.13.0 in /usr/local/lib/python3.10/dist-packages (from anthropic) (0.19.1)\n",
            "Requirement already satisfied: typing-extensions<5,>=4.7 in /usr/local/lib/python3.10/dist-packages (from anthropic) (4.12.1)\n",
            "Requirement already satisfied: idna>=2.8 in /usr/local/lib/python3.10/dist-packages (from anyio<5,>=3.5.0->anthropic) (3.7)\n",
            "Requirement already satisfied: exceptiongroup in /usr/local/lib/python3.10/dist-packages (from anyio<5,>=3.5.0->anthropic) (1.2.1)\n",
            "Requirement already satisfied: certifi in /usr/local/lib/python3.10/dist-packages (from httpx<1,>=0.23.0->anthropic) (2024.6.2)\n",
            "Collecting httpcore==1.* (from httpx<1,>=0.23.0->anthropic)\n",
            "  Downloading httpcore-1.0.5-py3-none-any.whl (77 kB)\n",
            "\u001b[2K     \u001b[90m━━━━━━━━━━━━━━━━━━━━━━━━━━━━━━━━━━━━━━━━\u001b[0m \u001b[32m77.9/77.9 kB\u001b[0m \u001b[31m7.0 MB/s\u001b[0m eta \u001b[36m0:00:00\u001b[0m\n",
            "\u001b[?25hCollecting h11<0.15,>=0.13 (from httpcore==1.*->httpx<1,>=0.23.0->anthropic)\n",
            "  Downloading h11-0.14.0-py3-none-any.whl (58 kB)\n",
            "\u001b[2K     \u001b[90m━━━━━━━━━━━━━━━━━━━━━━━━━━━━━━━━━━━━━━━━\u001b[0m \u001b[32m58.3/58.3 kB\u001b[0m \u001b[31m7.4 MB/s\u001b[0m eta \u001b[36m0:00:00\u001b[0m\n",
            "\u001b[?25hRequirement already satisfied: annotated-types>=0.4.0 in /usr/local/lib/python3.10/dist-packages (from pydantic<3,>=1.9.0->anthropic) (0.7.0)\n",
            "Requirement already satisfied: pydantic-core==2.18.4 in /usr/local/lib/python3.10/dist-packages (from pydantic<3,>=1.9.0->anthropic) (2.18.4)\n",
            "Requirement already satisfied: huggingface-hub<1.0,>=0.16.4 in /usr/local/lib/python3.10/dist-packages (from tokenizers>=0.13.0->anthropic) (0.23.2)\n",
            "Requirement already satisfied: filelock in /usr/local/lib/python3.10/dist-packages (from huggingface-hub<1.0,>=0.16.4->tokenizers>=0.13.0->anthropic) (3.14.0)\n",
            "Requirement already satisfied: fsspec>=2023.5.0 in /usr/local/lib/python3.10/dist-packages (from huggingface-hub<1.0,>=0.16.4->tokenizers>=0.13.0->anthropic) (2023.6.0)\n",
            "Requirement already satisfied: packaging>=20.9 in /usr/local/lib/python3.10/dist-packages (from huggingface-hub<1.0,>=0.16.4->tokenizers>=0.13.0->anthropic) (24.0)\n",
            "Requirement already satisfied: pyyaml>=5.1 in /usr/local/lib/python3.10/dist-packages (from huggingface-hub<1.0,>=0.16.4->tokenizers>=0.13.0->anthropic) (6.0.1)\n",
            "Requirement already satisfied: requests in /usr/local/lib/python3.10/dist-packages (from huggingface-hub<1.0,>=0.16.4->tokenizers>=0.13.0->anthropic) (2.31.0)\n",
            "Requirement already satisfied: tqdm>=4.42.1 in /usr/local/lib/python3.10/dist-packages (from huggingface-hub<1.0,>=0.16.4->tokenizers>=0.13.0->anthropic) (4.66.4)\n",
            "Requirement already satisfied: charset-normalizer<4,>=2 in /usr/local/lib/python3.10/dist-packages (from requests->huggingface-hub<1.0,>=0.16.4->tokenizers>=0.13.0->anthropic) (3.3.2)\n",
            "Requirement already satisfied: urllib3<3,>=1.21.1 in /usr/local/lib/python3.10/dist-packages (from requests->huggingface-hub<1.0,>=0.16.4->tokenizers>=0.13.0->anthropic) (2.0.7)\n",
            "Installing collected packages: jiter, h11, httpcore, httpx, anthropic\n",
            "Successfully installed anthropic-0.28.0 h11-0.14.0 httpcore-1.0.5 httpx-0.27.0 jiter-0.4.1\n"
          ]
        }
      ]
    },
    {
      "cell_type": "code",
      "execution_count": 5,
      "metadata": {
        "id": "7Qjk2D63v1Bl"
      },
      "outputs": [],
      "source": [
        "# Importing Anthropic & Setting Headers\n",
        "import anthropic\n",
        "\n",
        "client = anthropic.Anthropic(\n",
        "    # defaults to os.environ.get(\"ANTHROPIC_API_KEY\")\n",
        "    api_key=os.environ.get(\"ANTHROPIC_API_KEY\"),\n",
        ")"
      ]
    },
    {
      "cell_type": "markdown",
      "source": [
        "# 1. Prompt 1.1: Create Variables for Mathematical Model"
      ],
      "metadata": {
        "id": "kT7yKbJs18XR"
      }
    },
    {
      "cell_type": "code",
      "source": [
        "message11 = client.messages.create(\n",
        "    model=\"claude-3-opus-20240229\",\n",
        "    system=prompt11,\n",
        "    max_tokens=4096,\n",
        "    messages=[\n",
        "        {\"role\": \"user\", \"content\": problem_desc}\n",
        "    ]\n",
        ")\n",
        "\n",
        "response_p11 = message11.content[0].text"
      ],
      "metadata": {
        "id": "R_6X0axq16D4"
      },
      "execution_count": 6,
      "outputs": []
    },
    {
      "cell_type": "code",
      "source": [
        "# Print response\n",
        "print(response_p11)"
      ],
      "metadata": {
        "colab": {
          "base_uri": "https://localhost:8080/"
        },
        "id": "Ra9Ox_PI38jg",
        "outputId": "0f32e695-e1a9-4f00-d112-d8ab3065f590"
      },
      "execution_count": 7,
      "outputs": [
        {
          "output_type": "stream",
          "name": "stdout",
          "text": [
            "Here are the variables for the mathematical optimization problem:\n",
            "\n",
            "Decision variables:\n",
            "- Let x_ij be a binary variable indicating whether the pipe connecting points i and j is activated (x_ij = 1) or deactivated (x_ij = 0), for all available pipes (i,j) in {AB, AC, AF, BC, BD, BE, CE, CF, DE, EG, FB, FG}.\n",
            "\n",
            "- Let f_ij(t) be a continuous variable representing the flow of water through the pipe connecting points i and j at time step t, for all activated pipes (i,j) and time steps t = 1, 2, ..., 10.\n",
            "\n",
            "- Let r_i(t) be a continuous variable representing the amount of water released out of the system at point i and time step t, for all points i in {A, B, C, D, E, F, G} and time steps t = 1, 2, ..., 10.\n",
            "\n",
            "Input parameters:\n",
            "- Let c_ij be the capacity of the pipe connecting points i and j, for all available pipes (i,j).\n",
            "\n",
            "- Let f(t) = max(-4/30t^3 + t^2 - 0.234t + 3, 0) be the function representing the amount of water entering point A at time step t.\n",
            "\n",
            "The goal is to maximize the total amount of water flowing to point G over the 10 time steps, while satisfying the pipe activation constraints, flow conservation constraints at each point and time step, and pipe capacity constraints.\n"
          ]
        }
      ]
    },
    {
      "cell_type": "markdown",
      "source": [
        "# 1. Prompt 1.2: Create Objective for Mathematical Model"
      ],
      "metadata": {
        "id": "nbt6yH1snBQL"
      }
    },
    {
      "cell_type": "code",
      "source": [
        "message12 = client.messages.create(\n",
        "    model=\"claude-3-opus-20240229\",\n",
        "    system=prompt12,\n",
        "    max_tokens=4096,\n",
        "    messages=[\n",
        "        {\"role\": \"user\", \"content\": (problem_desc + response_p11)}\n",
        "    ]\n",
        ")\n",
        "\n",
        "response_p12 = message12.content[0].text"
      ],
      "metadata": {
        "id": "ol4rtt_MnAy8"
      },
      "execution_count": 8,
      "outputs": []
    },
    {
      "cell_type": "code",
      "source": [
        "# Print response\n",
        "print(response_p12)"
      ],
      "metadata": {
        "colab": {
          "base_uri": "https://localhost:8080/"
        },
        "id": "Vz2F_EARnzHf",
        "outputId": "125e3a8c-d65c-4a8b-c8f9-c26c04511906"
      },
      "execution_count": 9,
      "outputs": [
        {
          "output_type": "stream",
          "name": "stdout",
          "text": [
            "Here is the objective function for the given mathematical optimization problem:\n",
            "\n",
            "Maximize:\n",
            "  sum(f_FG(t) + f_EG(t) for t = 1 to 10)\n",
            "\n",
            "This objective function aims to maximize the total amount of water flowing into point G over the 10 time steps. The water can reach point G through two pipes: FG and EG. Therefore, the objective is to maximize the sum of the flows f_FG(t) and f_EG(t) for all time steps t from 1 to 10.\n",
            "\n",
            "The full optimization problem would also include the following constraints:\n",
            "1. Pipe activation constraints: sum(x_ij for all pipes (i,j)) = 10\n",
            "2. Flow conservation constraints at each point and time step\n",
            "3. Pipe capacity constraints: f_ij(t) ≤ c_ij * x_ij for all pipes (i,j) and time steps t\n",
            "4. Non-negativity constraints for flow and release variables\n",
            "\n",
            "But as requested, I have only formulated the objective function here. Let me know if you need any clarification or have additional questions!\n"
          ]
        }
      ]
    },
    {
      "cell_type": "markdown",
      "source": [
        "# 1. Prompt 1.3: Create Constraints for Mathematical Model\n"
      ],
      "metadata": {
        "id": "Wzf33DwvnEar"
      }
    },
    {
      "cell_type": "code",
      "source": [
        "message13 = client.messages.create(\n",
        "    model=\"claude-3-opus-20240229\",\n",
        "    system=prompt13,\n",
        "    max_tokens=4096,\n",
        "    messages=[\n",
        "        {\"role\": \"user\", \"content\": (problem_desc + response_p11 + response_p12)}\n",
        "    ]\n",
        ")\n",
        "\n",
        "response_p13 = message13.content[0].text"
      ],
      "metadata": {
        "id": "l1UAJRt7nENG"
      },
      "execution_count": 10,
      "outputs": []
    },
    {
      "cell_type": "code",
      "source": [
        "# Print response\n",
        "print(response_p13)"
      ],
      "metadata": {
        "colab": {
          "base_uri": "https://localhost:8080/"
        },
        "id": "vH7Ff9mxn4FZ",
        "outputId": "eb64ff12-3f87-4997-f1ad-0c154657e350"
      },
      "execution_count": 11,
      "outputs": [
        {
          "output_type": "stream",
          "name": "stdout",
          "text": [
            "Here are the constraints for the given mathematical optimization problem:\n",
            "\n",
            "1. Pipe activation constraint:\n",
            "   sum(x_ij for all pipes (i,j)) = 10\n",
            "\n",
            "2. Flow conservation constraints at each point and time step:\n",
            "   - Point A: f(t) = f_AB(t) + f_AC(t) + f_AF(t) + r_A(t), for t = 1, 2, ..., 10\n",
            "   - Point B: f_AB(t-1) + f_FB(t-1) = f_BC(t) + f_BD(t) + f_BE(t) + r_B(t), for t = 2, 3, ..., 10\n",
            "   - Point C: f_AC(t-1) + f_BC(t-1) = f_CE(t) + f_CF(t) + r_C(t), for t = 2, 3, ..., 10\n",
            "   - Point D: f_BD(t-1) = f_DE(t) + r_D(t), for t = 2, 3, ..., 10\n",
            "   - Point E: f_BE(t-1) + f_CE(t-1) + f_DE(t-1) = f_EG(t) + r_E(t), for t = 2, 3, ..., 10\n",
            "   - Point F: f_AF(t-1) + f_CF(t-1) = f_FB(t) + f_FG(t) + r_F(t), for t = 2, 3, ..., 10\n",
            "   - Point G: f_EG(t-1) + f_FG(t-1) = r_G(t), for t = 2, 3, ..., 10\n",
            "\n",
            "3. Pipe capacity constraints:\n",
            "   f_ij(t) ≤ c_ij * x_ij, for all pipes (i,j) and time steps t = 1, 2, ..., 10\n",
            "\n",
            "4. Non-negativity constraints:\n",
            "   - f_ij(t) ≥ 0, for all activated pipes (i,j) and time steps t = 1, 2, ..., 10\n",
            "   - r_i(t) ≥ 0, for all points i in {A, B, C, D, E, F, G} and time steps t = 1, 2, ..., 10\n",
            "\n",
            "5. Binary constraints:\n",
            "   x_ij ∈ {0, 1}, for all pipes (i,j)\n",
            "\n",
            "These constraints ensure that:\n",
            "1. Exactly 10 pipes are activated.\n",
            "2. The flow is conserved at each point and time step, considering the inflow, outflow, and release of water.\n",
            "3. The flow through each pipe does not exceed its capacity if the pipe is activated, and is 0 if the pipe is deactivated.\n",
            "4. The flow and release variables are non-negative.\n",
            "5. The pipe activation variables are binary.\n",
            "\n",
            "Together with the objective function provided earlier, these constraints complete the formulation of the mathematical optimization problem for maximizing the water flow to point G over 10 time steps.\n"
          ]
        }
      ]
    },
    {
      "cell_type": "markdown",
      "source": [
        "# 2. Prompt 2: Write Code based on Mathematical Model\n",
        "\n",
        "In case more than the component of each step was generated, use \"last instance\"/ \"newest version\" of the components.\n",
        "\n",
        "Example:\n",
        "Prompt 1.1 (Variables): Model generates only variables\n",
        "Prompt 1.2 (Objectvie): Model generates objective and constraints\n",
        "Prompt 1.3 (Constraints): Model generates only constraints\n",
        "\n",
        "Use Variables from step 1.1, use objective from 1.2 and use constraints from 1.3 (since constraints version 1.3 is more recent than constraints version 1.2).\n",
        "\n",
        "This set up allows for potential self-correction of the model throughout the three prompts.\n",
        "\n",
        "Correctness of each component is still generated in the respective step, so self-correction is independent of this."
      ],
      "metadata": {
        "id": "WPZ6lgBO729j"
      }
    },
    {
      "cell_type": "code",
      "source": [
        "message2 = client.messages.create(\n",
        "    model=\"claude-3-opus-20240229\",\n",
        "    system=prompt2,\n",
        "    max_tokens=4069,\n",
        "    messages=[\n",
        "        {\"role\": \"user\", \"content\": (response_p11 + response_p12 + response_p13)}\n",
        "    ]\n",
        ")\n",
        "\n",
        "response_p2 = message2.content[0].text"
      ],
      "metadata": {
        "id": "1iUSgBda70FL"
      },
      "execution_count": 12,
      "outputs": []
    },
    {
      "cell_type": "code",
      "source": [
        "# Print response\n",
        "print(response_p2)"
      ],
      "metadata": {
        "colab": {
          "base_uri": "https://localhost:8080/"
        },
        "id": "o40mxc_H8eQ9",
        "outputId": "b889bf6d-2240-43db-e9f3-8eab942bff7e"
      },
      "execution_count": 13,
      "outputs": [
        {
          "output_type": "stream",
          "name": "stdout",
          "text": [
            "Here's a Python code using Pyomo to solve the given optimization problem:\n",
            "\n",
            "```python\n",
            "import pyomo.environ as pyo\n",
            "import math\n",
            "\n",
            "# Create a Pyomo model\n",
            "model = pyo.ConcreteModel()\n",
            "\n",
            "# Define the sets\n",
            "model.points = pyo.Set(initialize=['A', 'B', 'C', 'D', 'E', 'F', 'G'])\n",
            "model.pipes = pyo.Set(initialize=[('A', 'B'), ('A', 'C'), ('A', 'F'), ('B', 'C'), ('B', 'D'), ('B', 'E'),\n",
            "                                   ('C', 'E'), ('C', 'F'), ('D', 'E'), ('E', 'G'), ('F', 'B'), ('F', 'G')])\n",
            "model.time_steps = pyo.RangeSet(1, 10)\n",
            "\n",
            "# Define the parameters\n",
            "pipe_capacities = {('A', 'B'): 10, ('A', 'C'): 8, ('A', 'F'): 12, ('B', 'C'): 6, ('B', 'D'): 5, ('B', 'E'): 7,\n",
            "                   ('C', 'E'): 9, ('C', 'F'): 11, ('D', 'E'): 4, ('E', 'G'): 15, ('F', 'B'): 13, ('F', 'G'): 14}\n",
            "model.c = pyo.Param(model.pipes, initialize=pipe_capacities)\n",
            "\n",
            "def f(model, t):\n",
            "    return max(-4/30*t**3 + t**2 - 0.234*t + 3, 0)\n",
            "\n",
            "# Define the decision variables\n",
            "model.x = pyo.Var(model.pipes, domain=pyo.Binary)\n",
            "model.f = pyo.Var(model.pipes, model.time_steps, domain=pyo.NonNegativeReals)\n",
            "model.r = pyo.Var(model.points, model.time_steps, domain=pyo.NonNegativeReals)\n",
            "\n",
            "# Define the objective function\n",
            "def objective_rule(model):\n",
            "    return sum(model.f[('F', 'G'), t] + model.f[('E', 'G'), t] for t in model.time_steps)\n",
            "model.objective = pyo.Objective(rule=objective_rule, sense=pyo.maximize)\n",
            "\n",
            "# Define the constraints\n",
            "def pipe_activation_rule(model):\n",
            "    return sum(model.x[i, j] for i, j in model.pipes) == 10\n",
            "model.pipe_activation = pyo.Constraint(rule=pipe_activation_rule)\n",
            "\n",
            "def flow_conservation_A_rule(model, t):\n",
            "    return f(model, t) == model.f['A', 'B', t] + model.f['A', 'C', t] + model.f['A', 'F', t] + model.r['A', t]\n",
            "model.flow_conservation_A = pyo.Constraint(model.time_steps, rule=flow_conservation_A_rule)\n",
            "\n",
            "def flow_conservation_B_rule(model, t):\n",
            "    if t == 1:\n",
            "        return pyo.Constraint.Skip\n",
            "    return model.f['A', 'B', t-1] + model.f['F', 'B', t-1] == model.f['B', 'C', t] + model.f['B', 'D', t] + model.f['B', 'E', t] + model.r['B', t]\n",
            "model.flow_conservation_B = pyo.Constraint(model.time_steps, rule=flow_conservation_B_rule)\n",
            "\n",
            "def flow_conservation_C_rule(model, t):\n",
            "    if t == 1:\n",
            "        return pyo.Constraint.Skip\n",
            "    return model.f['A', 'C', t-1] + model.f['B', 'C', t-1] == model.f['C', 'E', t] + model.f['C', 'F', t] + model.r['C', t]\n",
            "model.flow_conservation_C = pyo.Constraint(model.time_steps, rule=flow_conservation_C_rule)\n",
            "\n",
            "def flow_conservation_D_rule(model, t):\n",
            "    if t == 1:\n",
            "        return pyo.Constraint.Skip\n",
            "    return model.f['B', 'D', t-1] == model.f['D', 'E', t] + model.r['D', t]\n",
            "model.flow_conservation_D = pyo.Constraint(model.time_steps, rule=flow_conservation_D_rule)\n",
            "\n",
            "def flow_conservation_E_rule(model, t):\n",
            "    if t == 1:\n",
            "        return pyo.Constraint.Skip\n",
            "    return model.f['B', 'E', t-1] + model.f['C', 'E', t-1] + model.f['D', 'E', t-1] == model.f['E', 'G', t] + model.r['E', t]\n",
            "model.flow_conservation_E = pyo.Constraint(model.time_steps, rule=flow_conservation_E_rule)\n",
            "\n",
            "def flow_conservation_F_rule(model, t):\n",
            "    if t == 1:\n",
            "        return pyo.Constraint.Skip\n",
            "    return model.f['A', 'F', t-1] + model.f['C', 'F', t-1] == model.f['F', 'B', t] + model.f['F', 'G', t] + model.r['F', t]\n",
            "model.flow_conservation_F = pyo.Constraint(model.time_steps, rule=flow_conservation_F_rule)\n",
            "\n",
            "def flow_conservation_G_rule(model, t):\n",
            "    if t == 1:\n",
            "        return pyo.Constraint.Skip\n",
            "    return model.f['E', 'G', t-1] + model.f['F', 'G', t-1] == model.r['G', t]\n",
            "model.flow_conservation_G = pyo.Constraint(model.time_steps, rule=flow_conservation_G_rule)\n",
            "\n",
            "def pipe_capacity_rule(model, i, j, t):\n",
            "    return model.f[i, j, t] <= model.c[i, j] * model.x[i, j]\n",
            "model.pipe_capacity = pyo.Constraint(model.pipes, model.time_steps, rule=pipe_capacity_rule)\n",
            "\n",
            "# Solve the optimization problem\n",
            "solver = pyo.SolverFactory('glpk')\n",
            "results = solver.solve(model)\n",
            "\n",
            "# Print the results\n",
            "print(\"Objective value:\", pyo.value(model.objective))\n",
            "\n",
            "print(\"Activated pipes:\")\n",
            "for i, j in model.pipes:\n",
            "    if pyo.value(model.x[i, j]) == 1:\n",
            "        print(f\"Pipe ({i}, {j})\")\n",
            "\n",
            "print(\"Flow values:\")\n",
            "for t in model.time_steps:\n",
            "    print(f\"Time step {t}:\")\n",
            "    for i, j in model.pipes:\n",
            "        if pyo.value(model.x[i, j]) == 1:\n",
            "            print(f\"  Flow in pipe ({i}, {j}): {pyo.value(model.f[i, j, t])}\")\n",
            "    print()\n",
            "```\n",
            "\n",
            "In this code:\n",
            "\n",
            "- The sets, parameters, and decision variables are defined based on the given information.\n",
            "- The objective function is defined to maximize the total flow into point G over the 10 time steps.\n",
            "- The constraints are defined as per the problem statement, including pipe activation, flow conservation at each point and time step, and pipe capacity constraints.\n",
            "- Sample data for pipe capacities is used, as indicated in the `pipe_capacities` dictionary.\n",
            "- The optimization problem is solved using the GLPK solver.\n",
            "- The objective value, activated pipes, and flow values for each time step are printed.\n",
            "\n",
            "Note: Make sure you have Pyomo and the GLPK solver installed to run this code successfully.\n"
          ]
        }
      ]
    },
    {
      "cell_type": "markdown",
      "source": [
        "# 4. Input Problem Data and Test Model Code"
      ],
      "metadata": {
        "id": "Pc0QqJuf8up_"
      }
    },
    {
      "cell_type": "code",
      "source": [
        "# Installing pyomo nd solver\n",
        "!pip install -q pyomo\n",
        "!pip install pandas\n",
        "!apt-get install -y -qq glpk-utils\n",
        "!pip install glpk"
      ],
      "metadata": {
        "colab": {
          "base_uri": "https://localhost:8080/"
        },
        "id": "3BtROuLu9O-p",
        "outputId": "502984e0-5988-4abe-a4c7-de45e187f7e7",
        "collapsed": true
      },
      "execution_count": 14,
      "outputs": [
        {
          "output_type": "stream",
          "name": "stdout",
          "text": [
            "\u001b[2K     \u001b[90m━━━━━━━━━━━━━━━━━━━━━━━━━━━━━━━━━━━━━━━━\u001b[0m \u001b[32m12.8/12.8 MB\u001b[0m \u001b[31m49.2 MB/s\u001b[0m eta \u001b[36m0:00:00\u001b[0m\n",
            "\u001b[2K     \u001b[90m━━━━━━━━━━━━━━━━━━━━━━━━━━━━━━━━━━━━━━━━\u001b[0m \u001b[32m49.6/49.6 kB\u001b[0m \u001b[31m5.3 MB/s\u001b[0m eta \u001b[36m0:00:00\u001b[0m\n",
            "\u001b[?25hRequirement already satisfied: pandas in /usr/local/lib/python3.10/dist-packages (2.0.3)\n",
            "Requirement already satisfied: python-dateutil>=2.8.2 in /usr/local/lib/python3.10/dist-packages (from pandas) (2.8.2)\n",
            "Requirement already satisfied: pytz>=2020.1 in /usr/local/lib/python3.10/dist-packages (from pandas) (2023.4)\n",
            "Requirement already satisfied: tzdata>=2022.1 in /usr/local/lib/python3.10/dist-packages (from pandas) (2024.1)\n",
            "Requirement already satisfied: numpy>=1.21.0 in /usr/local/lib/python3.10/dist-packages (from pandas) (1.25.2)\n",
            "Requirement already satisfied: six>=1.5 in /usr/local/lib/python3.10/dist-packages (from python-dateutil>=2.8.2->pandas) (1.16.0)\n",
            "Selecting previously unselected package libsuitesparseconfig5:amd64.\n",
            "(Reading database ... 121913 files and directories currently installed.)\n",
            "Preparing to unpack .../libsuitesparseconfig5_1%3a5.10.1+dfsg-4build1_amd64.deb ...\n",
            "Unpacking libsuitesparseconfig5:amd64 (1:5.10.1+dfsg-4build1) ...\n",
            "Selecting previously unselected package libamd2:amd64.\n",
            "Preparing to unpack .../libamd2_1%3a5.10.1+dfsg-4build1_amd64.deb ...\n",
            "Unpacking libamd2:amd64 (1:5.10.1+dfsg-4build1) ...\n",
            "Selecting previously unselected package libcolamd2:amd64.\n",
            "Preparing to unpack .../libcolamd2_1%3a5.10.1+dfsg-4build1_amd64.deb ...\n",
            "Unpacking libcolamd2:amd64 (1:5.10.1+dfsg-4build1) ...\n",
            "Selecting previously unselected package libglpk40:amd64.\n",
            "Preparing to unpack .../libglpk40_5.0-1_amd64.deb ...\n",
            "Unpacking libglpk40:amd64 (5.0-1) ...\n",
            "Selecting previously unselected package glpk-utils.\n",
            "Preparing to unpack .../glpk-utils_5.0-1_amd64.deb ...\n",
            "Unpacking glpk-utils (5.0-1) ...\n",
            "Setting up libsuitesparseconfig5:amd64 (1:5.10.1+dfsg-4build1) ...\n",
            "Setting up libamd2:amd64 (1:5.10.1+dfsg-4build1) ...\n",
            "Setting up libcolamd2:amd64 (1:5.10.1+dfsg-4build1) ...\n",
            "Setting up libglpk40:amd64 (5.0-1) ...\n",
            "Setting up glpk-utils (5.0-1) ...\n",
            "Processing triggers for man-db (2.10.2-1) ...\n",
            "Processing triggers for libc-bin (2.35-0ubuntu3.4) ...\n",
            "/sbin/ldconfig.real: /usr/local/lib/libtbbbind_2_0.so.3 is not a symbolic link\n",
            "\n",
            "/sbin/ldconfig.real: /usr/local/lib/libtbbbind_2_5.so.3 is not a symbolic link\n",
            "\n",
            "/sbin/ldconfig.real: /usr/local/lib/libtbb.so.12 is not a symbolic link\n",
            "\n",
            "/sbin/ldconfig.real: /usr/local/lib/libtbbbind.so.3 is not a symbolic link\n",
            "\n",
            "/sbin/ldconfig.real: /usr/local/lib/libtbbmalloc_proxy.so.2 is not a symbolic link\n",
            "\n",
            "/sbin/ldconfig.real: /usr/local/lib/libtbbmalloc.so.2 is not a symbolic link\n",
            "\n",
            "Collecting glpk\n",
            "  Downloading glpk-0.4.7.tar.gz (161 kB)\n",
            "\u001b[2K     \u001b[90m━━━━━━━━━━━━━━━━━━━━━━━━━━━━━━━━━━━━━━━━\u001b[0m \u001b[32m161.2/161.2 kB\u001b[0m \u001b[31m4.0 MB/s\u001b[0m eta \u001b[36m0:00:00\u001b[0m\n",
            "\u001b[?25h  Installing build dependencies ... \u001b[?25l\u001b[?25hdone\n",
            "  Getting requirements to build wheel ... \u001b[?25l\u001b[?25hdone\n",
            "  Preparing metadata (pyproject.toml) ... \u001b[?25l\u001b[?25hdone\n",
            "Building wheels for collected packages: glpk\n",
            "  \u001b[1;31merror\u001b[0m: \u001b[1msubprocess-exited-with-error\u001b[0m\n",
            "  \n",
            "  \u001b[31m×\u001b[0m \u001b[32mBuilding wheel for glpk \u001b[0m\u001b[1;32m(\u001b[0m\u001b[32mpyproject.toml\u001b[0m\u001b[1;32m)\u001b[0m did not run successfully.\n",
            "  \u001b[31m│\u001b[0m exit code: \u001b[1;36m1\u001b[0m\n",
            "  \u001b[31m╰─>\u001b[0m See above for output.\n",
            "  \n",
            "  \u001b[1;35mnote\u001b[0m: This error originates from a subprocess, and is likely not a problem with pip.\n",
            "  Building wheel for glpk (pyproject.toml) ... \u001b[?25l\u001b[?25herror\n",
            "\u001b[31m  ERROR: Failed building wheel for glpk\u001b[0m\u001b[31m\n",
            "\u001b[0mFailed to build glpk\n",
            "\u001b[31mERROR: Could not build wheels for glpk, which is required to install pyproject.toml-based projects\u001b[0m\u001b[31m\n",
            "\u001b[0m"
          ]
        }
      ]
    },
    {
      "cell_type": "code",
      "source": [
        "import pyomo.environ as pyo\n",
        "import math\n",
        "\n",
        "# Create a Pyomo model\n",
        "model = pyo.ConcreteModel()\n",
        "\n",
        "# Define the sets\n",
        "model.points = pyo.Set(initialize=['A', 'B', 'C', 'D', 'E', 'F', 'G'])\n",
        "model.pipes = pyo.Set(initialize=[('A', 'B'), ('A', 'C'), ('A', 'F'), ('B', 'C'), ('B', 'D'), ('B', 'E'),\n",
        "                                   ('C', 'E'), ('C', 'F'), ('D', 'E'), ('E', 'G'), ('F', 'B'), ('F', 'G')])\n",
        "model.time_steps = pyo.RangeSet(1, 10)\n",
        "\n",
        "# Define the parameters\n",
        "pipe_capacities = {('A', 'B'): 3, ('A', 'C'): 6, ('A', 'F'): 1, ('B', 'C'): 3, ('B', 'D'): 10, ('B', 'E'): 4,\n",
        "                   ('C', 'E'): 4, ('C', 'F'): 4, ('D', 'E'): 5, ('E', 'G'): 5, ('F', 'B'): 12, ('F', 'G'): 7}\n",
        "model.c = pyo.Param(model.pipes, initialize=pipe_capacities)\n",
        "\n",
        "def f(model, t):\n",
        "    return max(-4/30*t**3 + t**2 - 0.234*t + 3, 0)\n",
        "\n",
        "# Define the decision variables\n",
        "model.x = pyo.Var(model.pipes, domain=pyo.Binary)\n",
        "model.f = pyo.Var(model.pipes, model.time_steps, domain=pyo.NonNegativeReals)\n",
        "model.r = pyo.Var(model.points, model.time_steps, domain=pyo.NonNegativeReals)\n",
        "\n",
        "# Define the objective function\n",
        "def objective_rule(model):\n",
        "    return sum(model.f[('F', 'G'), t] + model.f[('E', 'G'), t] for t in model.time_steps)\n",
        "model.objective = pyo.Objective(rule=objective_rule, sense=pyo.maximize)\n",
        "\n",
        "# Define the constraints\n",
        "def pipe_activation_rule(model):\n",
        "    return sum(model.x[i, j] for i, j in model.pipes) == 10\n",
        "model.pipe_activation = pyo.Constraint(rule=pipe_activation_rule)\n",
        "\n",
        "def flow_conservation_A_rule(model, t):\n",
        "    return f(model, t) == model.f['A', 'B', t] + model.f['A', 'C', t] + model.f['A', 'F', t] + model.r['A', t]\n",
        "model.flow_conservation_A = pyo.Constraint(model.time_steps, rule=flow_conservation_A_rule)\n",
        "\n",
        "def flow_conservation_B_rule(model, t):\n",
        "    if t == 1:\n",
        "        return pyo.Constraint.Skip\n",
        "    return model.f['A', 'B', t-1] + model.f['F', 'B', t-1] == model.f['B', 'C', t] + model.f['B', 'D', t] + model.f['B', 'E', t] + model.r['B', t]\n",
        "model.flow_conservation_B = pyo.Constraint(model.time_steps, rule=flow_conservation_B_rule)\n",
        "\n",
        "def flow_conservation_C_rule(model, t):\n",
        "    if t == 1:\n",
        "        return pyo.Constraint.Skip\n",
        "    return model.f['A', 'C', t-1] + model.f['B', 'C', t-1] == model.f['C', 'E', t] + model.f['C', 'F', t] + model.r['C', t]\n",
        "model.flow_conservation_C = pyo.Constraint(model.time_steps, rule=flow_conservation_C_rule)\n",
        "\n",
        "def flow_conservation_D_rule(model, t):\n",
        "    if t == 1:\n",
        "        return pyo.Constraint.Skip\n",
        "    return model.f['B', 'D', t-1] == model.f['D', 'E', t] + model.r['D', t]\n",
        "model.flow_conservation_D = pyo.Constraint(model.time_steps, rule=flow_conservation_D_rule)\n",
        "\n",
        "def flow_conservation_E_rule(model, t):\n",
        "    if t == 1:\n",
        "        return pyo.Constraint.Skip\n",
        "    return model.f['B', 'E', t-1] + model.f['C', 'E', t-1] + model.f['D', 'E', t-1] == model.f['E', 'G', t] + model.r['E', t]\n",
        "model.flow_conservation_E = pyo.Constraint(model.time_steps, rule=flow_conservation_E_rule)\n",
        "\n",
        "def flow_conservation_F_rule(model, t):\n",
        "    if t == 1:\n",
        "        return pyo.Constraint.Skip\n",
        "    return model.f['A', 'F', t-1] + model.f['C', 'F', t-1] == model.f['F', 'B', t] + model.f['F', 'G', t] + model.r['F', t]\n",
        "model.flow_conservation_F = pyo.Constraint(model.time_steps, rule=flow_conservation_F_rule)\n",
        "\n",
        "def flow_conservation_G_rule(model, t):\n",
        "    if t == 1:\n",
        "        return pyo.Constraint.Skip\n",
        "    return model.f['E', 'G', t-1] + model.f['F', 'G', t-1] == model.r['G', t]\n",
        "model.flow_conservation_G = pyo.Constraint(model.time_steps, rule=flow_conservation_G_rule)\n",
        "\n",
        "def pipe_capacity_rule(model, i, j, t):\n",
        "    return model.f[i, j, t] <= model.c[i, j] * model.x[i, j]\n",
        "model.pipe_capacity = pyo.Constraint(model.pipes, model.time_steps, rule=pipe_capacity_rule)\n",
        "\n",
        "# Solve the optimization problem\n",
        "solver = pyo.SolverFactory('glpk')\n",
        "results = solver.solve(model)\n",
        "\n",
        "# Print the results\n",
        "print(\"Objective value:\", pyo.value(model.objective))\n",
        "\n",
        "print(\"Activated pipes:\")\n",
        "for i, j in model.pipes:\n",
        "    if pyo.value(model.x[i, j]) == 1:\n",
        "        print(f\"Pipe ({i}, {j})\")\n",
        "\n",
        "print(\"Flow values:\")\n",
        "for t in model.time_steps:\n",
        "    print(f\"Time step {t}:\")\n",
        "    for i, j in model.pipes:\n",
        "        if pyo.value(model.x[i, j]) == 1:\n",
        "            print(f\"  Flow in pipe ({i}, {j}): {pyo.value(model.f[i, j, t])}\")\n",
        "    print()"
      ],
      "metadata": {
        "colab": {
          "base_uri": "https://localhost:8080/"
        },
        "id": "8FpHcuWU8rQ2",
        "outputId": "3a01f64f-6adb-446a-e346-f0132747e008"
      },
      "execution_count": 15,
      "outputs": [
        {
          "output_type": "stream",
          "name": "stdout",
          "text": [
            "Objective value: 81.12266666666669\n",
            "Activated pipes:\n",
            "Pipe (A, B)\n",
            "Pipe (A, C)\n",
            "Pipe (B, C)\n",
            "Pipe (B, D)\n",
            "Pipe (C, E)\n",
            "Pipe (C, F)\n",
            "Pipe (D, E)\n",
            "Pipe (E, G)\n",
            "Pipe (F, B)\n",
            "Pipe (F, G)\n",
            "Flow values:\n",
            "Time step 1:\n",
            "  Flow in pipe (A, B): 2.63266666666667\n",
            "  Flow in pipe (A, C): 1.0\n",
            "  Flow in pipe (B, C): 3.0\n",
            "  Flow in pipe (B, D): 5.0\n",
            "  Flow in pipe (C, E): 4.0\n",
            "  Flow in pipe (C, F): 4.0\n",
            "  Flow in pipe (D, E): 1.0\n",
            "  Flow in pipe (E, G): 5.0\n",
            "  Flow in pipe (F, B): 3.902\n",
            "  Flow in pipe (F, G): 7.0\n",
            "\n",
            "Time step 2:\n",
            "  Flow in pipe (A, B): 3.0\n",
            "  Flow in pipe (A, C): 2.46533333333333\n",
            "  Flow in pipe (B, C): 3.0\n",
            "  Flow in pipe (B, D): 3.53466666666667\n",
            "  Flow in pipe (C, E): 0.0\n",
            "  Flow in pipe (C, F): 4.0\n",
            "  Flow in pipe (D, E): 5.0\n",
            "  Flow in pipe (E, G): 5.0\n",
            "  Flow in pipe (F, B): 0.0\n",
            "  Flow in pipe (F, G): 4.0\n",
            "\n",
            "Time step 3:\n",
            "  Flow in pipe (A, B): 3.0\n",
            "  Flow in pipe (A, C): 4.698\n",
            "  Flow in pipe (B, C): 2.0\n",
            "  Flow in pipe (B, D): 1.0\n",
            "  Flow in pipe (C, E): 1.46533333333333\n",
            "  Flow in pipe (C, F): 4.0\n",
            "  Flow in pipe (D, E): 3.53466666666667\n",
            "  Flow in pipe (E, G): 5.0\n",
            "  Flow in pipe (F, B): 0.0\n",
            "  Flow in pipe (F, G): 4.0\n",
            "\n",
            "Time step 4:\n",
            "  Flow in pipe (A, B): 3.0\n",
            "  Flow in pipe (A, C): 6.0\n",
            "  Flow in pipe (B, C): 2.0\n",
            "  Flow in pipe (B, D): 1.0\n",
            "  Flow in pipe (C, E): 4.0\n",
            "  Flow in pipe (C, F): 2.698\n",
            "  Flow in pipe (D, E): 1.0\n",
            "  Flow in pipe (E, G): 5.0\n",
            "  Flow in pipe (F, B): 0.0\n",
            "  Flow in pipe (F, G): 4.0\n",
            "\n",
            "Time step 5:\n",
            "  Flow in pipe (A, B): 3.0\n",
            "  Flow in pipe (A, C): 6.0\n",
            "  Flow in pipe (B, C): 0.0\n",
            "  Flow in pipe (B, D): 3.0\n",
            "  Flow in pipe (C, E): 4.0\n",
            "  Flow in pipe (C, F): 4.0\n",
            "  Flow in pipe (D, E): 1.0\n",
            "  Flow in pipe (E, G): 5.0\n",
            "  Flow in pipe (F, B): 0.0\n",
            "  Flow in pipe (F, G): 2.698\n",
            "\n",
            "Time step 6:\n",
            "  Flow in pipe (A, B): 3.0\n",
            "  Flow in pipe (A, C): 5.796\n",
            "  Flow in pipe (B, C): 2.204\n",
            "  Flow in pipe (B, D): 0.795999999999999\n",
            "  Flow in pipe (C, E): 2.0\n",
            "  Flow in pipe (C, F): 4.0\n",
            "  Flow in pipe (D, E): 3.0\n",
            "  Flow in pipe (E, G): 5.0\n",
            "  Flow in pipe (F, B): 0.0\n",
            "  Flow in pipe (F, G): 4.0\n",
            "\n",
            "Time step 7:\n",
            "  Flow in pipe (A, B): 2.62866666666667\n",
            "  Flow in pipe (A, C): 2.0\n",
            "  Flow in pipe (B, C): 0.0\n",
            "  Flow in pipe (B, D): 3.0\n",
            "  Flow in pipe (C, E): 4.0\n",
            "  Flow in pipe (C, F): 4.0\n",
            "  Flow in pipe (D, E): 0.795999999999999\n",
            "  Flow in pipe (E, G): 5.0\n",
            "  Flow in pipe (F, B): 0.0\n",
            "  Flow in pipe (F, G): 4.0\n",
            "\n",
            "Time step 8:\n",
            "  Flow in pipe (A, B): 0.0\n",
            "  Flow in pipe (A, C): 0.0\n",
            "  Flow in pipe (B, C): 2.62866666666667\n",
            "  Flow in pipe (B, D): 0.0\n",
            "  Flow in pipe (C, E): 2.0\n",
            "  Flow in pipe (C, F): 0.0\n",
            "  Flow in pipe (D, E): 3.0\n",
            "  Flow in pipe (E, G): 4.796\n",
            "  Flow in pipe (F, B): 0.0\n",
            "  Flow in pipe (F, G): 4.0\n",
            "\n",
            "Time step 9:\n",
            "  Flow in pipe (A, B): 0.0\n",
            "  Flow in pipe (A, C): 0.0\n",
            "  Flow in pipe (B, C): 0.0\n",
            "  Flow in pipe (B, D): 0.0\n",
            "  Flow in pipe (C, E): 2.62866666666667\n",
            "  Flow in pipe (C, F): 0.0\n",
            "  Flow in pipe (D, E): 0.0\n",
            "  Flow in pipe (E, G): 5.0\n",
            "  Flow in pipe (F, B): 0.0\n",
            "  Flow in pipe (F, G): 0.0\n",
            "\n",
            "Time step 10:\n",
            "  Flow in pipe (A, B): 0.0\n",
            "  Flow in pipe (A, C): 0.0\n",
            "  Flow in pipe (B, C): 0.0\n",
            "  Flow in pipe (B, D): 0.0\n",
            "  Flow in pipe (C, E): 0.0\n",
            "  Flow in pipe (C, F): 0.0\n",
            "  Flow in pipe (D, E): 0.0\n",
            "  Flow in pipe (E, G): 2.62866666666667\n",
            "  Flow in pipe (F, B): 0.0\n",
            "  Flow in pipe (F, G): 0.0\n",
            "\n"
          ]
        }
      ]
    },
    {
      "cell_type": "markdown",
      "source": [
        "# 5. Correct The Model Code to Test Mathematical Model (if applicable)"
      ],
      "metadata": {
        "id": "KHTyoLQTWZVy"
      }
    },
    {
      "cell_type": "code",
      "source": [],
      "metadata": {
        "collapsed": true,
        "id": "8kfYEJD95drG"
      },
      "execution_count": null,
      "outputs": []
    },
    {
      "cell_type": "code",
      "source": [],
      "metadata": {
        "id": "WdUIzPdt5opN"
      },
      "execution_count": null,
      "outputs": []
    },
    {
      "cell_type": "code",
      "source": [],
      "metadata": {
        "id": "x2G1asAxctwG"
      },
      "execution_count": null,
      "outputs": []
    }
  ]
}