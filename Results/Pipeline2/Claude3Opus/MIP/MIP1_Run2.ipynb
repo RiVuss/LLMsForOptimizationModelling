{
  "nbformat": 4,
  "nbformat_minor": 0,
  "metadata": {
    "colab": {
      "provenance": []
    },
    "kernelspec": {
      "name": "python3",
      "display_name": "Python 3"
    },
    "language_info": {
      "name": "python"
    }
  },
  "cells": [
    {
      "cell_type": "markdown",
      "source": [
        "# 0. Imports and Setting up Anthropic API Client"
      ],
      "metadata": {
        "id": "y5fw0lkBwBbo"
      }
    },
    {
      "cell_type": "code",
      "source": [
        "from google.colab import drive\n",
        "\n",
        "drive.mount('/content/drive')"
      ],
      "metadata": {
        "colab": {
          "base_uri": "https://localhost:8080/"
        },
        "id": "e7tWOLo0yMoH",
        "outputId": "9b58cbeb-1b5e-4cc0-9daf-59430beba2bd"
      },
      "execution_count": 1,
      "outputs": [
        {
          "output_type": "stream",
          "name": "stdout",
          "text": [
            "Mounted at /content/drive\n"
          ]
        }
      ]
    },
    {
      "cell_type": "code",
      "source": [
        "!pip install python-dotenv\n",
        "\n",
        "import os\n",
        "import dotenv\n",
        "\n",
        "dotenv.load_dotenv('/content/drive/MyDrive/.env')"
      ],
      "metadata": {
        "colab": {
          "base_uri": "https://localhost:8080/"
        },
        "id": "utcEK8lZ1Z1R",
        "outputId": "47d0a280-c8d0-401b-eed2-0e4d170bf7ea"
      },
      "execution_count": 2,
      "outputs": [
        {
          "output_type": "stream",
          "name": "stdout",
          "text": [
            "Collecting python-dotenv\n",
            "  Downloading python_dotenv-1.0.1-py3-none-any.whl (19 kB)\n",
            "Installing collected packages: python-dotenv\n",
            "Successfully installed python-dotenv-1.0.1\n"
          ]
        },
        {
          "output_type": "execute_result",
          "data": {
            "text/plain": [
              "True"
            ]
          },
          "metadata": {},
          "execution_count": 2
        }
      ]
    },
    {
      "cell_type": "code",
      "source": [
        "# Load Prompts and Problem Description\n",
        "# Variables Prompt\n",
        "prompt11_path = '/content/drive/MyDrive/Thesis/Prompts/Prompt11_MathematicalModel.txt'\n",
        "\n",
        "# Objective Prompt\n",
        "prompt12_path = '/content/drive/MyDrive/Thesis/Prompts/Prompt12_MathematicalModel.txt'\n",
        "\n",
        "# Constraint Prompt\n",
        "prompt13_path = '/content/drive/MyDrive/Thesis/Prompts/Prompt13_MathematicalModel.txt'\n",
        "\n",
        "# Code Prompt\n",
        "prompt2_path = '/content/drive/MyDrive/Thesis/Prompts/Prompt2_PyomoCode.txt'\n",
        "problem_desc_path = '/content/drive/MyDrive/Thesis/ProblemDescriptions/MIP/MIP1.txt'\n",
        "\n",
        "prompt11_file = open(prompt11_path, \"r\")\n",
        "prompt12_file = open(prompt12_path, \"r\")\n",
        "prompt13_file = open(prompt13_path, \"r\")\n",
        "prompt2_file = open(prompt2_path, \"r\")\n",
        "problem_desc_file = open(problem_desc_path, \"r\")\n",
        "\n",
        "prompt11 = prompt11_file.read()\n",
        "print(\"Prompt 1.1 (Variables):\\n\", prompt11)\n",
        "\n",
        "prompt12 = prompt12_file.read()\n",
        "print(\"Prompt 1.2 (Objctive):\\n\", prompt12)\n",
        "\n",
        "prompt13 = prompt13_file.read()\n",
        "print(\"Prompt 1.3 (Constraints):\\n\", prompt13)\n",
        "\n",
        "prompt2 = prompt2_file.read()\n",
        "print(\"Prompt 2:\\n\", prompt2)\n",
        "\n",
        "problem_desc = problem_desc_file.read()\n",
        "print(\"Problem Description:\\n\", problem_desc)"
      ],
      "metadata": {
        "colab": {
          "base_uri": "https://localhost:8080/"
        },
        "id": "9KlkjwMUS4xp",
        "outputId": "f741a6bd-508d-4184-ac53-ef3135550387"
      },
      "execution_count": 3,
      "outputs": [
        {
          "output_type": "stream",
          "name": "stdout",
          "text": [
            "Prompt 1.1 (Variables):\n",
            " Please formulate only the variables for this mathematical optimization problem. \n",
            "Prompt 1.2 (Objctive):\n",
            " Please formulate only the objective function for this mathematical optimization problem. \n",
            "Prompt 1.3 (Constraints):\n",
            " Please formulate only the constraints for this mathematical optimization problem. \n",
            "Prompt 2:\n",
            " Please write a python pyomo code for this optimization problem.\n",
            "Use sample data where needed.\n",
            "Indicate where you use sample data.\n",
            "Problem Description:\n",
            " You are a city planner, looking to open facilities at some locations. We have a set of customers and a set of possible locations for opening facilities. Each potential location for establishing a facility incurs a fixed annual activation cost, which must be paid if the facility is used, regardless of the service volume it handles. Furthermore, this service volume at each facility is capped at a maximum annual limit. Additionally, there are transportation costs associated with servicing each customer from each facility.\n",
            "The goal is to minimize the overall costs, which include both the fixed activation costs for any opened facilities and the transportation costs for servicing customers. This must be done while making sure that each customer’s demand is met, each facility does not exceed its maximum service volume, and customers can of course only be serviced by a facility that is opened. \n",
            "Please formulate this as a mathematical optimization model.\n",
            "\n",
            "\n"
          ]
        }
      ]
    },
    {
      "cell_type": "code",
      "source": [
        "!pip install anthropic"
      ],
      "metadata": {
        "colab": {
          "base_uri": "https://localhost:8080/"
        },
        "id": "iWlNsTIvxCcR",
        "outputId": "4623c4ed-d90e-44a7-9f5a-1f70001b7d5a",
        "collapsed": true
      },
      "execution_count": 4,
      "outputs": [
        {
          "output_type": "stream",
          "name": "stdout",
          "text": [
            "Collecting anthropic\n",
            "  Downloading anthropic-0.28.0-py3-none-any.whl (862 kB)\n",
            "\u001b[2K     \u001b[90m━━━━━━━━━━━━━━━━━━━━━━━━━━━━━━━━━━━━━━━━\u001b[0m \u001b[32m862.7/862.7 kB\u001b[0m \u001b[31m7.7 MB/s\u001b[0m eta \u001b[36m0:00:00\u001b[0m\n",
            "\u001b[?25hRequirement already satisfied: anyio<5,>=3.5.0 in /usr/local/lib/python3.10/dist-packages (from anthropic) (3.7.1)\n",
            "Requirement already satisfied: distro<2,>=1.7.0 in /usr/lib/python3/dist-packages (from anthropic) (1.7.0)\n",
            "Collecting httpx<1,>=0.23.0 (from anthropic)\n",
            "  Downloading httpx-0.27.0-py3-none-any.whl (75 kB)\n",
            "\u001b[2K     \u001b[90m━━━━━━━━━━━━━━━━━━━━━━━━━━━━━━━━━━━━━━━━\u001b[0m \u001b[32m75.6/75.6 kB\u001b[0m \u001b[31m8.8 MB/s\u001b[0m eta \u001b[36m0:00:00\u001b[0m\n",
            "\u001b[?25hCollecting jiter<1,>=0.4.0 (from anthropic)\n",
            "  Downloading jiter-0.4.1-cp310-cp310-manylinux_2_17_x86_64.manylinux2014_x86_64.whl (328 kB)\n",
            "\u001b[2K     \u001b[90m━━━━━━━━━━━━━━━━━━━━━━━━━━━━━━━━━━━━━━━━\u001b[0m \u001b[32m328.3/328.3 kB\u001b[0m \u001b[31m11.5 MB/s\u001b[0m eta \u001b[36m0:00:00\u001b[0m\n",
            "\u001b[?25hRequirement already satisfied: pydantic<3,>=1.9.0 in /usr/local/lib/python3.10/dist-packages (from anthropic) (2.7.3)\n",
            "Requirement already satisfied: sniffio in /usr/local/lib/python3.10/dist-packages (from anthropic) (1.3.1)\n",
            "Requirement already satisfied: tokenizers>=0.13.0 in /usr/local/lib/python3.10/dist-packages (from anthropic) (0.19.1)\n",
            "Requirement already satisfied: typing-extensions<5,>=4.7 in /usr/local/lib/python3.10/dist-packages (from anthropic) (4.12.1)\n",
            "Requirement already satisfied: idna>=2.8 in /usr/local/lib/python3.10/dist-packages (from anyio<5,>=3.5.0->anthropic) (3.7)\n",
            "Requirement already satisfied: exceptiongroup in /usr/local/lib/python3.10/dist-packages (from anyio<5,>=3.5.0->anthropic) (1.2.1)\n",
            "Requirement already satisfied: certifi in /usr/local/lib/python3.10/dist-packages (from httpx<1,>=0.23.0->anthropic) (2024.6.2)\n",
            "Collecting httpcore==1.* (from httpx<1,>=0.23.0->anthropic)\n",
            "  Downloading httpcore-1.0.5-py3-none-any.whl (77 kB)\n",
            "\u001b[2K     \u001b[90m━━━━━━━━━━━━━━━━━━━━━━━━━━━━━━━━━━━━━━━━\u001b[0m \u001b[32m77.9/77.9 kB\u001b[0m \u001b[31m8.8 MB/s\u001b[0m eta \u001b[36m0:00:00\u001b[0m\n",
            "\u001b[?25hCollecting h11<0.15,>=0.13 (from httpcore==1.*->httpx<1,>=0.23.0->anthropic)\n",
            "  Downloading h11-0.14.0-py3-none-any.whl (58 kB)\n",
            "\u001b[2K     \u001b[90m━━━━━━━━━━━━━━━━━━━━━━━━━━━━━━━━━━━━━━━━\u001b[0m \u001b[32m58.3/58.3 kB\u001b[0m \u001b[31m7.5 MB/s\u001b[0m eta \u001b[36m0:00:00\u001b[0m\n",
            "\u001b[?25hRequirement already satisfied: annotated-types>=0.4.0 in /usr/local/lib/python3.10/dist-packages (from pydantic<3,>=1.9.0->anthropic) (0.7.0)\n",
            "Requirement already satisfied: pydantic-core==2.18.4 in /usr/local/lib/python3.10/dist-packages (from pydantic<3,>=1.9.0->anthropic) (2.18.4)\n",
            "Requirement already satisfied: huggingface-hub<1.0,>=0.16.4 in /usr/local/lib/python3.10/dist-packages (from tokenizers>=0.13.0->anthropic) (0.23.2)\n",
            "Requirement already satisfied: filelock in /usr/local/lib/python3.10/dist-packages (from huggingface-hub<1.0,>=0.16.4->tokenizers>=0.13.0->anthropic) (3.14.0)\n",
            "Requirement already satisfied: fsspec>=2023.5.0 in /usr/local/lib/python3.10/dist-packages (from huggingface-hub<1.0,>=0.16.4->tokenizers>=0.13.0->anthropic) (2023.6.0)\n",
            "Requirement already satisfied: packaging>=20.9 in /usr/local/lib/python3.10/dist-packages (from huggingface-hub<1.0,>=0.16.4->tokenizers>=0.13.0->anthropic) (24.0)\n",
            "Requirement already satisfied: pyyaml>=5.1 in /usr/local/lib/python3.10/dist-packages (from huggingface-hub<1.0,>=0.16.4->tokenizers>=0.13.0->anthropic) (6.0.1)\n",
            "Requirement already satisfied: requests in /usr/local/lib/python3.10/dist-packages (from huggingface-hub<1.0,>=0.16.4->tokenizers>=0.13.0->anthropic) (2.31.0)\n",
            "Requirement already satisfied: tqdm>=4.42.1 in /usr/local/lib/python3.10/dist-packages (from huggingface-hub<1.0,>=0.16.4->tokenizers>=0.13.0->anthropic) (4.66.4)\n",
            "Requirement already satisfied: charset-normalizer<4,>=2 in /usr/local/lib/python3.10/dist-packages (from requests->huggingface-hub<1.0,>=0.16.4->tokenizers>=0.13.0->anthropic) (3.3.2)\n",
            "Requirement already satisfied: urllib3<3,>=1.21.1 in /usr/local/lib/python3.10/dist-packages (from requests->huggingface-hub<1.0,>=0.16.4->tokenizers>=0.13.0->anthropic) (2.0.7)\n",
            "Installing collected packages: jiter, h11, httpcore, httpx, anthropic\n",
            "Successfully installed anthropic-0.28.0 h11-0.14.0 httpcore-1.0.5 httpx-0.27.0 jiter-0.4.1\n"
          ]
        }
      ]
    },
    {
      "cell_type": "code",
      "execution_count": 5,
      "metadata": {
        "id": "7Qjk2D63v1Bl"
      },
      "outputs": [],
      "source": [
        "# Importing Anthropic & Setting Headers\n",
        "import anthropic\n",
        "\n",
        "client = anthropic.Anthropic(\n",
        "    # defaults to os.environ.get(\"ANTHROPIC_API_KEY\")\n",
        "    api_key=os.environ.get(\"ANTHROPIC_API_KEY\"),\n",
        ")"
      ]
    },
    {
      "cell_type": "markdown",
      "source": [
        "# 1. Prompt 1.1: Create Variables for Mathematical Model"
      ],
      "metadata": {
        "id": "kT7yKbJs18XR"
      }
    },
    {
      "cell_type": "code",
      "source": [
        "message11 = client.messages.create(\n",
        "    model=\"claude-3-opus-20240229\",\n",
        "    system=prompt11,\n",
        "    max_tokens=4096,\n",
        "    messages=[\n",
        "        {\"role\": \"user\", \"content\": problem_desc}\n",
        "    ]\n",
        ")\n",
        "\n",
        "response_p11 = message11.content[0].text"
      ],
      "metadata": {
        "id": "R_6X0axq16D4"
      },
      "execution_count": 6,
      "outputs": []
    },
    {
      "cell_type": "code",
      "source": [
        "# Print response\n",
        "print(response_p11)"
      ],
      "metadata": {
        "colab": {
          "base_uri": "https://localhost:8080/"
        },
        "id": "Ra9Ox_PI38jg",
        "outputId": "18b9ab20-0a67-4e86-fa22-4606b11ca120"
      },
      "execution_count": 7,
      "outputs": [
        {
          "output_type": "stream",
          "name": "stdout",
          "text": [
            "Great! Let's formulate this problem as a mathematical optimization model. We'll start by defining the sets, parameters, and decision variables.\n",
            "\n",
            "Sets:\n",
            "- I: set of customers, indexed by i\n",
            "- J: set of potential facility locations, indexed by j\n",
            "\n",
            "Parameters:\n",
            "- d_i: demand of customer i\n",
            "- f_j: fixed annual activation cost for opening a facility at location j\n",
            "- c_ij: transportation cost for servicing customer i from facility j\n",
            "- m_j: maximum annual service volume for a facility at location j\n",
            "\n",
            "Decision Variables:\n",
            "- x_ij: fraction of customer i's demand serviced by facility j (continuous variable, 0 ≤ x_ij ≤ 1)\n",
            "- y_j: binary variable indicating whether a facility is opened at location j (y_j = 1 if a facility is opened, 0 otherwise)\n",
            "\n",
            "Objective Function:\n",
            "minimize ∑_j f_j * y_j + ∑_i ∑_j c_ij * d_i * x_ij\n",
            "\n",
            "Constraints:\n",
            "1. Each customer's demand must be fully met:\n",
            "   ∑_j x_ij = 1, ∀i ∈ I\n",
            "\n",
            "2. The service volume at each facility must not exceed its maximum annual limit:\n",
            "   ∑_i d_i * x_ij ≤ m_j * y_j, ∀j ∈ J\n",
            "\n",
            "3. Customers can only be serviced by opened facilities:\n",
            "   x_ij ≤ y_j, ∀i ∈ I, ∀j ∈ J\n",
            "\n",
            "4. Non-negativity and binary constraints:\n",
            "   0 ≤ x_ij ≤ 1, ∀i ∈ I, ∀j ∈ J\n",
            "   y_j ∈ {0, 1}, ∀j ∈ J\n",
            "\n",
            "The objective function minimizes the total cost, which includes the fixed activation costs for opened facilities and the transportation costs for servicing customers. Constraint set (1) ensures that each customer's demand is fully met. Constraint set (2) ensures that the service volume at each facility does not exceed its maximum annual limit. Constraint set (3) ensures that customers can only be serviced by opened facilities. Finally, constraint set (4) defines the non-negativity and binary restrictions for the decision variables.\n",
            "\n",
            "This formulation represents the problem as a mixed-integer linear programming (MILP) model, which can be solved using a suitable optimization solver.\n"
          ]
        }
      ]
    },
    {
      "cell_type": "markdown",
      "source": [
        "# 1. Prompt 1.2: Create Objective for Mathematical Model"
      ],
      "metadata": {
        "id": "nbt6yH1snBQL"
      }
    },
    {
      "cell_type": "code",
      "source": [
        "message12 = client.messages.create(\n",
        "    model=\"claude-3-opus-20240229\",\n",
        "    system=prompt12,\n",
        "    max_tokens=4096,\n",
        "    messages=[\n",
        "        {\"role\": \"user\", \"content\": (problem_desc + response_p11)}\n",
        "    ]\n",
        ")\n",
        "\n",
        "response_p12 = message12.content[0].text"
      ],
      "metadata": {
        "id": "ol4rtt_MnAy8"
      },
      "execution_count": 8,
      "outputs": []
    },
    {
      "cell_type": "code",
      "source": [
        "# Print response\n",
        "print(response_p12)"
      ],
      "metadata": {
        "colab": {
          "base_uri": "https://localhost:8080/"
        },
        "id": "Vz2F_EARnzHf",
        "outputId": "f9e5c2a9-208e-46ce-8674-94bde75c6027"
      },
      "execution_count": 9,
      "outputs": [
        {
          "output_type": "stream",
          "name": "stdout",
          "text": [
            "The objective function for this mathematical optimization problem is:\n",
            "\n",
            "minimize ∑_j f_j * y_j + ∑_i ∑_j c_ij * d_i * x_ij\n",
            "\n",
            "where:\n",
            "- f_j is the fixed annual activation cost for opening a facility at location j\n",
            "- y_j is a binary variable indicating whether a facility is opened at location j (y_j = 1 if a facility is opened, 0 otherwise)\n",
            "- c_ij is the transportation cost for servicing customer i from facility j\n",
            "- d_i is the demand of customer i\n",
            "- x_ij is the fraction of customer i's demand serviced by facility j (continuous variable, 0 ≤ x_ij ≤ 1)\n",
            "\n",
            "The objective function minimizes the total cost, which includes:\n",
            "1. The sum of fixed activation costs for all opened facilities (∑_j f_j * y_j)\n",
            "2. The sum of transportation costs for servicing all customers from all facilities (∑_i ∑_j c_ij * d_i * x_ij)\n"
          ]
        }
      ]
    },
    {
      "cell_type": "markdown",
      "source": [
        "# 1. Prompt 1.3: Create Constraints for Mathematical Model\n"
      ],
      "metadata": {
        "id": "Wzf33DwvnEar"
      }
    },
    {
      "cell_type": "code",
      "source": [
        "message13 = client.messages.create(\n",
        "    model=\"claude-3-opus-20240229\",\n",
        "    system=prompt13,\n",
        "    max_tokens=4096,\n",
        "    messages=[\n",
        "        {\"role\": \"user\", \"content\": (problem_desc + response_p11 + response_p12)}\n",
        "    ]\n",
        ")\n",
        "\n",
        "response_p13 = message13.content[0].text"
      ],
      "metadata": {
        "id": "l1UAJRt7nENG"
      },
      "execution_count": 10,
      "outputs": []
    },
    {
      "cell_type": "code",
      "source": [
        "# Print response\n",
        "print(response_p13)"
      ],
      "metadata": {
        "colab": {
          "base_uri": "https://localhost:8080/"
        },
        "id": "vH7Ff9mxn4FZ",
        "outputId": "7e6b3f0b-4efe-4c73-e5f0-630a873f65d7"
      },
      "execution_count": 11,
      "outputs": [
        {
          "output_type": "stream",
          "name": "stdout",
          "text": [
            "The constraints for this mathematical optimization problem are:\n",
            "\n",
            "1. Each customer's demand must be fully met:\n",
            "   ∑_j x_ij = 1, ∀i ∈ I\n",
            "\n",
            "   This constraint ensures that the sum of the fractions of customer i's demand serviced by all facilities equals 1, meaning that each customer's demand is fully satisfied.\n",
            "\n",
            "2. The service volume at each facility must not exceed its maximum annual limit:\n",
            "   ∑_i d_i * x_ij ≤ m_j * y_j, ∀j ∈ J\n",
            "\n",
            "   This constraint ensures that the total demand serviced by facility j (∑_i d_i * x_ij) does not exceed its maximum annual service volume (m_j) if the facility is opened (y_j = 1). If the facility is not opened (y_j = 0), the constraint forces the service volume to be 0.\n",
            "\n",
            "3. Customers can only be serviced by opened facilities:\n",
            "   x_ij ≤ y_j, ∀i ∈ I, ∀j ∈ J\n",
            "\n",
            "   This constraint ensures that a customer i can only be serviced by facility j (x_ij > 0) if that facility is opened (y_j = 1). If the facility is not opened (y_j = 0), the constraint forces x_ij to be 0.\n",
            "\n",
            "4. Non-negativity and binary constraints:\n",
            "   0 ≤ x_ij ≤ 1, ∀i ∈ I, ∀j ∈ J\n",
            "   y_j ∈ {0, 1}, ∀j ∈ J\n",
            "\n",
            "   These constraints define the bounds and binary restrictions for the decision variables. The fraction of customer i's demand serviced by facility j (x_ij) must be between 0 and 1, while the facility opening decision variable (y_j) is binary, taking a value of either 0 or 1.\n"
          ]
        }
      ]
    },
    {
      "cell_type": "markdown",
      "source": [
        "# 2. Prompt 2: Write Code based on Mathematical Model\n",
        "\n",
        "In case more than the component of each step was generated, use \"last instance\"/ \"newest version\" of the components.\n",
        "\n",
        "Example:\n",
        "Prompt 1.1 (Variables): Model generates only variables\n",
        "Prompt 1.2 (Objectvie): Model generates objective and constraints\n",
        "Prompt 1.3 (Constraints): Model generates only constraints\n",
        "\n",
        "Use Variables from step 1.1, use objective from 1.2 and use constraints from 1.3 (since constraints version 1.3 is more recent than constraints version 1.2).\n",
        "\n",
        "This set up allows for potential self-correction of the model throughout the three prompts.\n",
        "\n",
        "Correctness of each component is still generated in the respective step, so self-correction is independent of this."
      ],
      "metadata": {
        "id": "WPZ6lgBO729j"
      }
    },
    {
      "cell_type": "code",
      "source": [
        "response_p11_adjusted = \"\"\"\n",
        "Great! Let's formulate this problem as a mathematical optimization model. We'll start by defining the sets, parameters, and decision variables.\n",
        "\n",
        "Sets:\n",
        "- I: set of customers, indexed by i\n",
        "- J: set of potential facility locations, indexed by j\n",
        "\n",
        "Parameters:\n",
        "- d_i: demand of customer i\n",
        "- f_j: fixed annual activation cost for opening a facility at location j\n",
        "- c_ij: transportation cost for servicing customer i from facility j\n",
        "- m_j: maximum annual service volume for a facility at location j\n",
        "\n",
        "Decision Variables:\n",
        "- x_ij: fraction of customer i's demand serviced by facility j (continuous variable, 0 ≤ x_ij ≤ 1)\n",
        "- y_j: binary variable indicating whether a facility is opened at location j (y_j = 1 if a facility is opened, 0 otherwise)\n",
        "\"\"\""
      ],
      "metadata": {
        "id": "kxI6rWwLOmuo"
      },
      "execution_count": 12,
      "outputs": []
    },
    {
      "cell_type": "code",
      "source": [
        "message2 = client.messages.create(\n",
        "    model=\"claude-3-opus-20240229\",\n",
        "    system=prompt2,\n",
        "    max_tokens=4069,\n",
        "    messages=[\n",
        "        {\"role\": \"user\", \"content\": (response_p11_adjusted + response_p12 + response_p13)}\n",
        "    ]\n",
        ")\n",
        "\n",
        "response_p2 = message2.content[0].text"
      ],
      "metadata": {
        "id": "1iUSgBda70FL"
      },
      "execution_count": 13,
      "outputs": []
    },
    {
      "cell_type": "code",
      "source": [
        "# Print response\n",
        "print(response_p2)"
      ],
      "metadata": {
        "colab": {
          "base_uri": "https://localhost:8080/"
        },
        "id": "o40mxc_H8eQ9",
        "outputId": "1969e570-b08b-4361-b1e7-932f12baaf5b"
      },
      "execution_count": 14,
      "outputs": [
        {
          "output_type": "stream",
          "name": "stdout",
          "text": [
            "Certainly! Here's a Python code using Pyomo to solve the facility location problem you described:\n",
            "\n",
            "```python\n",
            "from pyomo.environ import *\n",
            "\n",
            "# Define the model\n",
            "model = ConcreteModel()\n",
            "\n",
            "# Define sets\n",
            "model.I = Set(initialize=['A', 'B', 'C', 'D', 'E'])  # Set of customers (sample data)\n",
            "model.J = Set(initialize=['1', '2', '3', '4'])  # Set of potential facility locations (sample data)\n",
            "\n",
            "# Define parameters\n",
            "model.d = Param(model.I, initialize={'A': 100, 'B': 150, 'C': 200, 'D': 120, 'E': 180})  # Demand of customers (sample data)\n",
            "model.f = Param(model.J, initialize={'1': 5000, '2': 6000, '3': 4500, '4': 5500})  # Fixed annual activation cost for facilities (sample data)\n",
            "model.c = Param(model.I, model.J, initialize={\n",
            "    ('A', '1'): 10, ('A', '2'): 12, ('A', '3'): 8, ('A', '4'): 11,\n",
            "    ('B', '1'): 9, ('B', '2'): 10, ('B', '3'): 11, ('B', '4'): 13,\n",
            "    ('C', '1'): 7, ('C', '2'): 8, ('C', '3'): 9, ('C', '4'): 10,\n",
            "    ('D', '1'): 11, ('D', '2'): 13, ('D', '3'): 10, ('D', '4'): 12,\n",
            "    ('E', '1'): 8, ('E', '2'): 9, ('E', '3'): 10, ('E', '4'): 11,\n",
            "})  # Transportation cost for servicing customers from facilities (sample data)\n",
            "model.m = Param(model.J, initialize={'1': 500, '2': 600, '3': 550, '4': 450})  # Maximum annual service volume for facilities (sample data)\n",
            "\n",
            "# Define decision variables\n",
            "model.x = Var(model.I, model.J, bounds=(0, 1))  # Fraction of customer's demand serviced by facility\n",
            "model.y = Var(model.J, within=Binary)  # Binary variable indicating whether a facility is opened\n",
            "\n",
            "# Define objective function\n",
            "def objective_rule(model):\n",
            "    return sum(model.f[j] * model.y[j] for j in model.J) + sum(model.c[i,j] * model.d[i] * model.x[i,j] for i in model.I for j in model.J)\n",
            "model.objective = Objective(rule=objective_rule, sense=minimize)\n",
            "\n",
            "# Define constraints\n",
            "def demand_constraint_rule(model, i):\n",
            "    return sum(model.x[i,j] for j in model.J) == 1\n",
            "model.demand_constraint = Constraint(model.I, rule=demand_constraint_rule)\n",
            "\n",
            "def capacity_constraint_rule(model, j):\n",
            "    return sum(model.d[i] * model.x[i,j] for i in model.I) <= model.m[j] * model.y[j]\n",
            "model.capacity_constraint = Constraint(model.J, rule=capacity_constraint_rule)\n",
            "\n",
            "def service_constraint_rule(model, i, j):\n",
            "    return model.x[i,j] <= model.y[j]\n",
            "model.service_constraint = Constraint(model.I, model.J, rule=service_constraint_rule)\n",
            "\n",
            "# Solve the model\n",
            "solver = SolverFactory('glpk')\n",
            "results = solver.solve(model)\n",
            "\n",
            "# Print the results\n",
            "print(\"Objective value:\", value(model.objective))\n",
            "print(\"Facility locations:\")\n",
            "for j in model.J:\n",
            "    if value(model.y[j]) > 0.5:\n",
            "        print(f\"Facility {j} is opened\")\n",
            "print(\"Customer assignments:\")\n",
            "for i in model.I:\n",
            "    for j in model.J:\n",
            "        if value(model.x[i,j]) > 0:\n",
            "            print(f\"Customer {i} is serviced by facility {j} with fraction {value(model.x[i,j])}\")\n",
            "```\n",
            "\n",
            "In this code, we define the sets, parameters, decision variables, objective function, and constraints according to the mathematical formulation. The sample data is used for the sets and parameters, which is indicated in the comments.\n",
            "\n",
            "The `glpk` solver is used to solve the model, and the optimal solution is printed, including the objective value, the facility locations that are opened, and the customer assignments to the facilities.\n",
            "\n",
            "Please note that this code assumes you have Pyomo and the `glpk` solver installed. You can install Pyomo using `pip install pyomo`, and the `glpk` solver can be installed separately based on your operating system.\n"
          ]
        }
      ]
    },
    {
      "cell_type": "markdown",
      "source": [
        "# 4. Input Problem Data and Test Model Code"
      ],
      "metadata": {
        "id": "Pc0QqJuf8up_"
      }
    },
    {
      "cell_type": "code",
      "source": [
        "# Installing pyomo nd solver\n",
        "!pip install -q pyomo\n",
        "!pip install pandas\n",
        "!apt-get install -y -qq glpk-utils\n",
        "!pip install glpk"
      ],
      "metadata": {
        "colab": {
          "base_uri": "https://localhost:8080/"
        },
        "id": "3BtROuLu9O-p",
        "outputId": "7af636b2-3aa9-4285-b076-2bf2abd2e18e",
        "collapsed": true
      },
      "execution_count": 15,
      "outputs": [
        {
          "output_type": "stream",
          "name": "stdout",
          "text": [
            "\u001b[2K     \u001b[90m━━━━━━━━━━━━━━━━━━━━━━━━━━━━━━━━━━━━━━━━\u001b[0m \u001b[32m12.8/12.8 MB\u001b[0m \u001b[31m34.9 MB/s\u001b[0m eta \u001b[36m0:00:00\u001b[0m\n",
            "\u001b[2K     \u001b[90m━━━━━━━━━━━━━━━━━━━━━━━━━━━━━━━━━━━━━━━━\u001b[0m \u001b[32m49.6/49.6 kB\u001b[0m \u001b[31m3.8 MB/s\u001b[0m eta \u001b[36m0:00:00\u001b[0m\n",
            "\u001b[?25hRequirement already satisfied: pandas in /usr/local/lib/python3.10/dist-packages (2.0.3)\n",
            "Requirement already satisfied: python-dateutil>=2.8.2 in /usr/local/lib/python3.10/dist-packages (from pandas) (2.8.2)\n",
            "Requirement already satisfied: pytz>=2020.1 in /usr/local/lib/python3.10/dist-packages (from pandas) (2023.4)\n",
            "Requirement already satisfied: tzdata>=2022.1 in /usr/local/lib/python3.10/dist-packages (from pandas) (2024.1)\n",
            "Requirement already satisfied: numpy>=1.21.0 in /usr/local/lib/python3.10/dist-packages (from pandas) (1.25.2)\n",
            "Requirement already satisfied: six>=1.5 in /usr/local/lib/python3.10/dist-packages (from python-dateutil>=2.8.2->pandas) (1.16.0)\n",
            "Selecting previously unselected package libsuitesparseconfig5:amd64.\n",
            "(Reading database ... 121913 files and directories currently installed.)\n",
            "Preparing to unpack .../libsuitesparseconfig5_1%3a5.10.1+dfsg-4build1_amd64.deb ...\n",
            "Unpacking libsuitesparseconfig5:amd64 (1:5.10.1+dfsg-4build1) ...\n",
            "Selecting previously unselected package libamd2:amd64.\n",
            "Preparing to unpack .../libamd2_1%3a5.10.1+dfsg-4build1_amd64.deb ...\n",
            "Unpacking libamd2:amd64 (1:5.10.1+dfsg-4build1) ...\n",
            "Selecting previously unselected package libcolamd2:amd64.\n",
            "Preparing to unpack .../libcolamd2_1%3a5.10.1+dfsg-4build1_amd64.deb ...\n",
            "Unpacking libcolamd2:amd64 (1:5.10.1+dfsg-4build1) ...\n",
            "Selecting previously unselected package libglpk40:amd64.\n",
            "Preparing to unpack .../libglpk40_5.0-1_amd64.deb ...\n",
            "Unpacking libglpk40:amd64 (5.0-1) ...\n",
            "Selecting previously unselected package glpk-utils.\n",
            "Preparing to unpack .../glpk-utils_5.0-1_amd64.deb ...\n",
            "Unpacking glpk-utils (5.0-1) ...\n",
            "Setting up libsuitesparseconfig5:amd64 (1:5.10.1+dfsg-4build1) ...\n",
            "Setting up libamd2:amd64 (1:5.10.1+dfsg-4build1) ...\n",
            "Setting up libcolamd2:amd64 (1:5.10.1+dfsg-4build1) ...\n",
            "Setting up libglpk40:amd64 (5.0-1) ...\n",
            "Setting up glpk-utils (5.0-1) ...\n",
            "Processing triggers for man-db (2.10.2-1) ...\n",
            "Processing triggers for libc-bin (2.35-0ubuntu3.4) ...\n",
            "/sbin/ldconfig.real: /usr/local/lib/libtbbbind_2_0.so.3 is not a symbolic link\n",
            "\n",
            "/sbin/ldconfig.real: /usr/local/lib/libtbbbind_2_5.so.3 is not a symbolic link\n",
            "\n",
            "/sbin/ldconfig.real: /usr/local/lib/libtbb.so.12 is not a symbolic link\n",
            "\n",
            "/sbin/ldconfig.real: /usr/local/lib/libtbbbind.so.3 is not a symbolic link\n",
            "\n",
            "/sbin/ldconfig.real: /usr/local/lib/libtbbmalloc_proxy.so.2 is not a symbolic link\n",
            "\n",
            "/sbin/ldconfig.real: /usr/local/lib/libtbbmalloc.so.2 is not a symbolic link\n",
            "\n",
            "Collecting glpk\n",
            "  Downloading glpk-0.4.7.tar.gz (161 kB)\n",
            "\u001b[2K     \u001b[90m━━━━━━━━━━━━━━━━━━━━━━━━━━━━━━━━━━━━━━━━\u001b[0m \u001b[32m161.2/161.2 kB\u001b[0m \u001b[31m4.4 MB/s\u001b[0m eta \u001b[36m0:00:00\u001b[0m\n",
            "\u001b[?25h  Installing build dependencies ... \u001b[?25l\u001b[?25hdone\n",
            "  Getting requirements to build wheel ... \u001b[?25l\u001b[?25hdone\n",
            "  Preparing metadata (pyproject.toml) ... \u001b[?25l\u001b[?25hdone\n",
            "Building wheels for collected packages: glpk\n",
            "  \u001b[1;31merror\u001b[0m: \u001b[1msubprocess-exited-with-error\u001b[0m\n",
            "  \n",
            "  \u001b[31m×\u001b[0m \u001b[32mBuilding wheel for glpk \u001b[0m\u001b[1;32m(\u001b[0m\u001b[32mpyproject.toml\u001b[0m\u001b[1;32m)\u001b[0m did not run successfully.\n",
            "  \u001b[31m│\u001b[0m exit code: \u001b[1;36m1\u001b[0m\n",
            "  \u001b[31m╰─>\u001b[0m See above for output.\n",
            "  \n",
            "  \u001b[1;35mnote\u001b[0m: This error originates from a subprocess, and is likely not a problem with pip.\n",
            "  Building wheel for glpk (pyproject.toml) ... \u001b[?25l\u001b[?25herror\n",
            "\u001b[31m  ERROR: Failed building wheel for glpk\u001b[0m\u001b[31m\n",
            "\u001b[0mFailed to build glpk\n",
            "\u001b[31mERROR: Could not build wheels for glpk, which is required to install pyproject.toml-based projects\u001b[0m\u001b[31m\n",
            "\u001b[0m"
          ]
        }
      ]
    },
    {
      "cell_type": "code",
      "source": [
        "from pyomo.environ import *\n",
        "\n",
        "# Define the model\n",
        "model = ConcreteModel()\n",
        "\n",
        "# Define sets\n",
        "model.I = Set(initialize=['A', 'B', 'C', 'D', 'E'])  # Set of customers (sample data)\n",
        "model.J = Set(initialize=['1', '2', '3'])  # Set of potential facility locations (sample data)\n",
        "\n",
        "# Define parameters\n",
        "model.d = Param(model.I, initialize={'A': 80, 'B': 270, 'C': 250, 'D': 160, 'E': 180})  # Demand of customers (sample data)\n",
        "model.f = Param(model.J, initialize={'1': 1000, '2': 1000, '3': 1000})  # Fixed annual activation cost for facilities (sample data)\n",
        "model.c = Param(model.I, model.J, initialize={\n",
        "    ('A', '1'): 4, ('A', '2'): 6, ('A', '3'): 9,\n",
        "    ('B', '1'): 5, ('B', '2'): 4, ('B', '3'): 7,\n",
        "    ('C', '1'): 6, ('C', '2'): 3, ('C', '3'): 4,\n",
        "    ('D', '1'): 8, ('D', '2'): 5, ('D', '3'): 3,\n",
        "    ('E', '1'): 10, ('E', '2'): 8, ('E', '3'): 4\n",
        "})  # Transportation cost for servicing customers from facilities (sample data)\n",
        "model.m = Param(model.J, initialize={'1': 500, '2': 500, '3': 500})  # Maximum annual service volume for facilities (sample data)\n",
        "\n",
        "# Define decision variables\n",
        "model.x = Var(model.I, model.J, bounds=(0, 1))  # Fraction of customer's demand serviced by facility\n",
        "model.y = Var(model.J, within=Binary)  # Binary variable indicating whether a facility is opened\n",
        "\n",
        "# Define objective function\n",
        "def objective_rule(model):\n",
        "    return sum(model.f[j] * model.y[j] for j in model.J) + sum(model.c[i,j] * model.d[i] * model.x[i,j] for i in model.I for j in model.J)\n",
        "model.objective = Objective(rule=objective_rule, sense=minimize)\n",
        "\n",
        "# Define constraints\n",
        "def demand_constraint_rule(model, i):\n",
        "    return sum(model.x[i,j] for j in model.J) == 1\n",
        "model.demand_constraint = Constraint(model.I, rule=demand_constraint_rule)\n",
        "\n",
        "def capacity_constraint_rule(model, j):\n",
        "    return sum(model.d[i] * model.x[i,j] for i in model.I) <= model.m[j] * model.y[j]\n",
        "model.capacity_constraint = Constraint(model.J, rule=capacity_constraint_rule)\n",
        "\n",
        "def service_constraint_rule(model, i, j):\n",
        "    return model.x[i,j] <= model.y[j]\n",
        "model.service_constraint = Constraint(model.I, model.J, rule=service_constraint_rule)\n",
        "\n",
        "# Solve the model\n",
        "solver = SolverFactory('glpk')\n",
        "results = solver.solve(model)\n",
        "\n",
        "# Print the results\n",
        "print(\"Objective value:\", value(model.objective))\n",
        "print(\"Facility locations:\")\n",
        "for j in model.J:\n",
        "    if value(model.y[j]) > 0.5:\n",
        "        print(f\"Facility {j} is opened\")\n",
        "print(\"Customer assignments:\")\n",
        "for i in model.I:\n",
        "    for j in model.J:\n",
        "        if value(model.x[i,j]) > 0:\n",
        "            print(f\"Customer {i} is serviced by facility {j} with fraction {value(model.x[i,j])}\")"
      ],
      "metadata": {
        "colab": {
          "base_uri": "https://localhost:8080/"
        },
        "id": "8FpHcuWU8rQ2",
        "outputId": "ed6d907f-6a48-4b27-d111-11662277c293"
      },
      "execution_count": 16,
      "outputs": [
        {
          "output_type": "stream",
          "name": "stdout",
          "text": [
            "Objective value: 5609.999999999998\n",
            "Facility locations:\n",
            "Facility 2 is opened\n",
            "Facility 3 is opened\n",
            "Customer assignments:\n",
            "Customer A is serviced by facility 2 with fraction 1.0\n",
            "Customer B is serviced by facility 1 with fraction 1.03361584812727e-15\n",
            "Customer B is serviced by facility 2 with fraction 0.999999999999999\n",
            "Customer C is serviced by facility 2 with fraction 0.6\n",
            "Customer C is serviced by facility 3 with fraction 0.4\n",
            "Customer D is serviced by facility 3 with fraction 1.0\n",
            "Customer E is serviced by facility 3 with fraction 1.0\n"
          ]
        }
      ]
    },
    {
      "cell_type": "markdown",
      "source": [
        "# 5. Correct The Model Code to Test Mathematical Model (if applicable)"
      ],
      "metadata": {
        "id": "KHTyoLQTWZVy"
      }
    },
    {
      "cell_type": "code",
      "source": [],
      "metadata": {
        "id": "REJzqhR6WYvM"
      },
      "execution_count": null,
      "outputs": []
    },
    {
      "cell_type": "code",
      "source": [],
      "metadata": {
        "id": "bPJ_54384nR_"
      },
      "execution_count": null,
      "outputs": []
    }
  ]
}