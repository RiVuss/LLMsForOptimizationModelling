{
  "nbformat": 4,
  "nbformat_minor": 0,
  "metadata": {
    "colab": {
      "provenance": []
    },
    "kernelspec": {
      "name": "python3",
      "display_name": "Python 3"
    },
    "language_info": {
      "name": "python"
    }
  },
  "cells": [
    {
      "cell_type": "markdown",
      "source": [
        "# 0. Imports and Setting up Anthropic API Client"
      ],
      "metadata": {
        "id": "y5fw0lkBwBbo"
      }
    },
    {
      "cell_type": "code",
      "source": [
        "from google.colab import drive\n",
        "\n",
        "drive.mount('/content/drive')"
      ],
      "metadata": {
        "colab": {
          "base_uri": "https://localhost:8080/"
        },
        "id": "e7tWOLo0yMoH",
        "outputId": "2bfde65a-d927-4873-fda5-1f2dbd91498e"
      },
      "execution_count": 1,
      "outputs": [
        {
          "output_type": "stream",
          "name": "stdout",
          "text": [
            "Mounted at /content/drive\n"
          ]
        }
      ]
    },
    {
      "cell_type": "code",
      "source": [
        "!pip install python-dotenv\n",
        "\n",
        "import os\n",
        "import dotenv\n",
        "\n",
        "dotenv.load_dotenv('/content/drive/MyDrive/.env')"
      ],
      "metadata": {
        "colab": {
          "base_uri": "https://localhost:8080/"
        },
        "id": "utcEK8lZ1Z1R",
        "outputId": "135c62ba-9b84-4af2-e1a4-88568ba2fbef"
      },
      "execution_count": 2,
      "outputs": [
        {
          "output_type": "stream",
          "name": "stdout",
          "text": [
            "Collecting python-dotenv\n",
            "  Downloading python_dotenv-1.0.1-py3-none-any.whl (19 kB)\n",
            "Installing collected packages: python-dotenv\n",
            "Successfully installed python-dotenv-1.0.1\n"
          ]
        },
        {
          "output_type": "execute_result",
          "data": {
            "text/plain": [
              "True"
            ]
          },
          "metadata": {},
          "execution_count": 2
        }
      ]
    },
    {
      "cell_type": "code",
      "source": [
        "# Load Prompts and Problem Description\n",
        "# Variables Prompt\n",
        "prompt11_path = '/content/drive/MyDrive/Thesis/Prompts/Prompt11_MathematicalModel.txt'\n",
        "\n",
        "# Objective Prompt\n",
        "prompt12_path = '/content/drive/MyDrive/Thesis/Prompts/Prompt12_MathematicalModel.txt'\n",
        "\n",
        "# Constraint Prompt\n",
        "prompt13_path = '/content/drive/MyDrive/Thesis/Prompts/Prompt13_MathematicalModel.txt'\n",
        "\n",
        "# Code Prompt\n",
        "prompt2_path = '/content/drive/MyDrive/Thesis/Prompts/Prompt2_PyomoCode.txt'\n",
        "problem_desc_path = '/content/drive/MyDrive/Thesis/ProblemDescriptions/NL/NL4.txt'\n",
        "\n",
        "prompt11_file = open(prompt11_path, \"r\")\n",
        "prompt12_file = open(prompt12_path, \"r\")\n",
        "prompt13_file = open(prompt13_path, \"r\")\n",
        "prompt2_file = open(prompt2_path, \"r\")\n",
        "problem_desc_file = open(problem_desc_path, \"r\")\n",
        "\n",
        "prompt11 = prompt11_file.read()\n",
        "print(\"Prompt 1.1 (Variables):\\n\", prompt11)\n",
        "\n",
        "prompt12 = prompt12_file.read()\n",
        "print(\"Prompt 1.2 (Objctive):\\n\", prompt12)\n",
        "\n",
        "prompt13 = prompt13_file.read()\n",
        "print(\"Prompt 1.3 (Constraints):\\n\", prompt13)\n",
        "\n",
        "prompt2 = prompt2_file.read()\n",
        "print(\"Prompt 2:\\n\", prompt2)\n",
        "\n",
        "problem_desc = problem_desc_file.read()\n",
        "print(\"Problem Description:\\n\", problem_desc)"
      ],
      "metadata": {
        "colab": {
          "base_uri": "https://localhost:8080/"
        },
        "id": "9KlkjwMUS4xp",
        "outputId": "c46caaea-e417-43a4-81db-572be8202554"
      },
      "execution_count": 3,
      "outputs": [
        {
          "output_type": "stream",
          "name": "stdout",
          "text": [
            "Prompt 1.1 (Variables):\n",
            " Please formulate only the variables for this mathematical optimization problem. \n",
            "Prompt 1.2 (Objctive):\n",
            " Please formulate only the objective function for this mathematical optimization problem. \n",
            "Prompt 1.3 (Constraints):\n",
            " Please formulate only the constraints for this mathematical optimization problem. \n",
            "Prompt 2:\n",
            " Please write a python pyomo code for this optimization problem.\n",
            "Use sample data where needed.\n",
            "Indicate where you use sample data.\n",
            "Problem Description:\n",
            " We are looking at an alkylation process which will include the following 10 variables: olefin feed (barrels per day), isobutane recycle (barrels per day), acid addition rate (thousands of pounds per day), alkylate yield (barrels per day), isobutane makeup (barrels per day), acid strength (weight per cent), motor octane number, external isobutane-to-olefin ratio, acid dilution factor and F-4 performance number. \n",
            "\n",
            "We want to maximize the daily profit of this alkylation process. \n",
            "The profit is defined as the revenue generated from the alkylate yield multiplied with the motor octane number, minus the operational costs, which include olefin feed, isobutane recycle, acid addition rate, and isobutane makeup. \n",
            "\n",
            "Relationships in terms of other variables for alkylate yield, motor octane number, acid dilution factor, and F-4 performance number can be formulated as regression formulas. \n",
            "This regression estimate can deviate in both directions from true value of these variables by 2, 1, 5 and 10 percent, respectively.\n",
            "Alkylate yield is a function of olefin feed and external isobutane-to-olefine yield. Alkalyte yield equals the amount of olefin feed multiplied by the sum of 1.12, 0.13167 times the external isobutane-to-olefin ratio and -0.00667 times the external isobutane-to-olefin ratio squared.\n",
            "The motor octane number is derived from the external isobutane-to-olefin ratio and the acid strength. The motor octane number is calculated as the sum of 86.35, 1.098 time external isobutane-to-olefin ratio, -0.038 times the external isobutane-to-olefin ratio squared and 0.325 times acid strength reduced by 89.\n",
            "The acid dilution factor is calculated based on the F-4 performance number. The acid dillution factor is expressed as 35.82 minus 0.222 times F-4 performance number.\n",
            "Lastly, the F-4 performance number depends on the motor octane number. F-4 performance number is calculated as -133 plus three times the motor octane number.\n",
            "\n",
            "There are some additional constraints imposed by the nature of the chemical process.\n",
            "Each variable has a lower and an upper bound.\n",
            "The external isobutane-to-olefin ratio needs to equal the ratio of isobutane recycle plus isobutane makeup to olefin feed. \n",
            "The acid strength needs to equal the ratio of 93000 times acid addition rate to acid addition rate multiplied by acid dilution factor in addition to 1000 times acid addition rate. \n",
            "Lastly, 1.22 alkylate yield needs to be equal to the combined olefin feed and isobutane makeup.\n"
          ]
        }
      ]
    },
    {
      "cell_type": "code",
      "source": [
        "!pip install anthropic"
      ],
      "metadata": {
        "colab": {
          "base_uri": "https://localhost:8080/"
        },
        "id": "iWlNsTIvxCcR",
        "outputId": "60c8c21c-17f9-447f-871f-5c7fdcb6b960",
        "collapsed": true
      },
      "execution_count": 4,
      "outputs": [
        {
          "output_type": "stream",
          "name": "stdout",
          "text": [
            "Collecting anthropic\n",
            "  Downloading anthropic-0.28.0-py3-none-any.whl (862 kB)\n",
            "\u001b[2K     \u001b[90m━━━━━━━━━━━━━━━━━━━━━━━━━━━━━━━━━━━━━━━━\u001b[0m \u001b[32m862.7/862.7 kB\u001b[0m \u001b[31m10.1 MB/s\u001b[0m eta \u001b[36m0:00:00\u001b[0m\n",
            "\u001b[?25hRequirement already satisfied: anyio<5,>=3.5.0 in /usr/local/lib/python3.10/dist-packages (from anthropic) (3.7.1)\n",
            "Requirement already satisfied: distro<2,>=1.7.0 in /usr/lib/python3/dist-packages (from anthropic) (1.7.0)\n",
            "Collecting httpx<1,>=0.23.0 (from anthropic)\n",
            "  Downloading httpx-0.27.0-py3-none-any.whl (75 kB)\n",
            "\u001b[2K     \u001b[90m━━━━━━━━━━━━━━━━━━━━━━━━━━━━━━━━━━━━━━━━\u001b[0m \u001b[32m75.6/75.6 kB\u001b[0m \u001b[31m8.8 MB/s\u001b[0m eta \u001b[36m0:00:00\u001b[0m\n",
            "\u001b[?25hCollecting jiter<1,>=0.4.0 (from anthropic)\n",
            "  Downloading jiter-0.4.1-cp310-cp310-manylinux_2_17_x86_64.manylinux2014_x86_64.whl (328 kB)\n",
            "\u001b[2K     \u001b[90m━━━━━━━━━━━━━━━━━━━━━━━━━━━━━━━━━━━━━━━━\u001b[0m \u001b[32m328.3/328.3 kB\u001b[0m \u001b[31m13.5 MB/s\u001b[0m eta \u001b[36m0:00:00\u001b[0m\n",
            "\u001b[?25hRequirement already satisfied: pydantic<3,>=1.9.0 in /usr/local/lib/python3.10/dist-packages (from anthropic) (2.7.3)\n",
            "Requirement already satisfied: sniffio in /usr/local/lib/python3.10/dist-packages (from anthropic) (1.3.1)\n",
            "Requirement already satisfied: tokenizers>=0.13.0 in /usr/local/lib/python3.10/dist-packages (from anthropic) (0.19.1)\n",
            "Requirement already satisfied: typing-extensions<5,>=4.7 in /usr/local/lib/python3.10/dist-packages (from anthropic) (4.12.1)\n",
            "Requirement already satisfied: idna>=2.8 in /usr/local/lib/python3.10/dist-packages (from anyio<5,>=3.5.0->anthropic) (3.7)\n",
            "Requirement already satisfied: exceptiongroup in /usr/local/lib/python3.10/dist-packages (from anyio<5,>=3.5.0->anthropic) (1.2.1)\n",
            "Requirement already satisfied: certifi in /usr/local/lib/python3.10/dist-packages (from httpx<1,>=0.23.0->anthropic) (2024.6.2)\n",
            "Collecting httpcore==1.* (from httpx<1,>=0.23.0->anthropic)\n",
            "  Downloading httpcore-1.0.5-py3-none-any.whl (77 kB)\n",
            "\u001b[2K     \u001b[90m━━━━━━━━━━━━━━━━━━━━━━━━━━━━━━━━━━━━━━━━\u001b[0m \u001b[32m77.9/77.9 kB\u001b[0m \u001b[31m8.7 MB/s\u001b[0m eta \u001b[36m0:00:00\u001b[0m\n",
            "\u001b[?25hCollecting h11<0.15,>=0.13 (from httpcore==1.*->httpx<1,>=0.23.0->anthropic)\n",
            "  Downloading h11-0.14.0-py3-none-any.whl (58 kB)\n",
            "\u001b[2K     \u001b[90m━━━━━━━━━━━━━━━━━━━━━━━━━━━━━━━━━━━━━━━━\u001b[0m \u001b[32m58.3/58.3 kB\u001b[0m \u001b[31m6.8 MB/s\u001b[0m eta \u001b[36m0:00:00\u001b[0m\n",
            "\u001b[?25hRequirement already satisfied: annotated-types>=0.4.0 in /usr/local/lib/python3.10/dist-packages (from pydantic<3,>=1.9.0->anthropic) (0.7.0)\n",
            "Requirement already satisfied: pydantic-core==2.18.4 in /usr/local/lib/python3.10/dist-packages (from pydantic<3,>=1.9.0->anthropic) (2.18.4)\n",
            "Requirement already satisfied: huggingface-hub<1.0,>=0.16.4 in /usr/local/lib/python3.10/dist-packages (from tokenizers>=0.13.0->anthropic) (0.23.2)\n",
            "Requirement already satisfied: filelock in /usr/local/lib/python3.10/dist-packages (from huggingface-hub<1.0,>=0.16.4->tokenizers>=0.13.0->anthropic) (3.14.0)\n",
            "Requirement already satisfied: fsspec>=2023.5.0 in /usr/local/lib/python3.10/dist-packages (from huggingface-hub<1.0,>=0.16.4->tokenizers>=0.13.0->anthropic) (2023.6.0)\n",
            "Requirement already satisfied: packaging>=20.9 in /usr/local/lib/python3.10/dist-packages (from huggingface-hub<1.0,>=0.16.4->tokenizers>=0.13.0->anthropic) (24.0)\n",
            "Requirement already satisfied: pyyaml>=5.1 in /usr/local/lib/python3.10/dist-packages (from huggingface-hub<1.0,>=0.16.4->tokenizers>=0.13.0->anthropic) (6.0.1)\n",
            "Requirement already satisfied: requests in /usr/local/lib/python3.10/dist-packages (from huggingface-hub<1.0,>=0.16.4->tokenizers>=0.13.0->anthropic) (2.31.0)\n",
            "Requirement already satisfied: tqdm>=4.42.1 in /usr/local/lib/python3.10/dist-packages (from huggingface-hub<1.0,>=0.16.4->tokenizers>=0.13.0->anthropic) (4.66.4)\n",
            "Requirement already satisfied: charset-normalizer<4,>=2 in /usr/local/lib/python3.10/dist-packages (from requests->huggingface-hub<1.0,>=0.16.4->tokenizers>=0.13.0->anthropic) (3.3.2)\n",
            "Requirement already satisfied: urllib3<3,>=1.21.1 in /usr/local/lib/python3.10/dist-packages (from requests->huggingface-hub<1.0,>=0.16.4->tokenizers>=0.13.0->anthropic) (2.0.7)\n",
            "Installing collected packages: jiter, h11, httpcore, httpx, anthropic\n",
            "Successfully installed anthropic-0.28.0 h11-0.14.0 httpcore-1.0.5 httpx-0.27.0 jiter-0.4.1\n"
          ]
        }
      ]
    },
    {
      "cell_type": "code",
      "execution_count": 5,
      "metadata": {
        "id": "7Qjk2D63v1Bl"
      },
      "outputs": [],
      "source": [
        "# Importing Anthropic & Setting Headers\n",
        "import anthropic\n",
        "\n",
        "client = anthropic.Anthropic(\n",
        "    # defaults to os.environ.get(\"ANTHROPIC_API_KEY\")\n",
        "    api_key=os.environ.get(\"ANTHROPIC_API_KEY\"),\n",
        ")"
      ]
    },
    {
      "cell_type": "markdown",
      "source": [
        "# 1. Prompt 1.1: Create Variables for Mathematical Model"
      ],
      "metadata": {
        "id": "kT7yKbJs18XR"
      }
    },
    {
      "cell_type": "code",
      "source": [
        "message11 = client.messages.create(\n",
        "    model=\"claude-3-opus-20240229\",\n",
        "    system=prompt11,\n",
        "    max_tokens=4096,\n",
        "    messages=[\n",
        "        {\"role\": \"user\", \"content\": problem_desc}\n",
        "    ]\n",
        ")\n",
        "\n",
        "response_p11 = message11.content[0].text"
      ],
      "metadata": {
        "id": "R_6X0axq16D4"
      },
      "execution_count": 6,
      "outputs": []
    },
    {
      "cell_type": "code",
      "source": [
        "# Print response\n",
        "print(response_p11)"
      ],
      "metadata": {
        "colab": {
          "base_uri": "https://localhost:8080/"
        },
        "id": "Ra9Ox_PI38jg",
        "outputId": "5c53f6fd-abf2-4ca1-9f6a-f219c97dff6f"
      },
      "execution_count": 7,
      "outputs": [
        {
          "output_type": "stream",
          "name": "stdout",
          "text": [
            "Great! Let's define the variables for this alkylation process optimization problem. We will use the following notation:\n",
            "\n",
            "Variables:\n",
            "- O: olefin feed (barrels per day)\n",
            "- R: isobutane recycle (barrels per day)\n",
            "- A: acid addition rate (thousands of pounds per day)\n",
            "- Y: alkylate yield (barrels per day)\n",
            "- M: isobutane makeup (barrels per day)\n",
            "- S: acid strength (weight per cent)\n",
            "- N: motor octane number\n",
            "- E: external isobutane-to-olefin ratio\n",
            "- D: acid dilution factor\n",
            "- F: F-4 performance number\n",
            "\n",
            "Objective Function:\n",
            "- P: daily profit of the alkylation process\n",
            "\n",
            "Regression Formulas:\n",
            "- Ŷ: estimated alkylate yield\n",
            "- N̂: estimated motor octane number\n",
            "- D̂: estimated acid dilution factor\n",
            "- F̂: estimated F-4 performance number\n",
            "\n",
            "These variables, along with the objective function and regression formulas, will be used to formulate the mathematical optimization problem. The constraints and relationships between the variables will be expressed using these notations.\n"
          ]
        }
      ]
    },
    {
      "cell_type": "markdown",
      "source": [
        "# 1. Prompt 1.2: Create Objective for Mathematical Model"
      ],
      "metadata": {
        "id": "nbt6yH1snBQL"
      }
    },
    {
      "cell_type": "code",
      "source": [
        "message12 = client.messages.create(\n",
        "    model=\"claude-3-opus-20240229\",\n",
        "    system=prompt12,\n",
        "    max_tokens=4096,\n",
        "    messages=[\n",
        "        {\"role\": \"user\", \"content\": (problem_desc + response_p11)}\n",
        "    ]\n",
        ")\n",
        "\n",
        "response_p12 = message12.content[0].text"
      ],
      "metadata": {
        "id": "ol4rtt_MnAy8"
      },
      "execution_count": 8,
      "outputs": []
    },
    {
      "cell_type": "code",
      "source": [
        "# Print response\n",
        "print(response_p12)"
      ],
      "metadata": {
        "colab": {
          "base_uri": "https://localhost:8080/"
        },
        "id": "Vz2F_EARnzHf",
        "outputId": "f6318057-190c-473b-d527-d53dce401923"
      },
      "execution_count": 9,
      "outputs": [
        {
          "output_type": "stream",
          "name": "stdout",
          "text": [
            "Based on the given information, the objective function for the alkylation process optimization problem can be formulated as follows:\n",
            "\n",
            "Maximize:\n",
            "P = Ŷ * N̂ - (c1 * O + c2 * R + c3 * A + c4 * M)\n",
            "\n",
            "Where:\n",
            "- P is the daily profit of the alkylation process\n",
            "- Ŷ is the estimated alkylate yield\n",
            "- N̂ is the estimated motor octane number\n",
            "- c1, c2, c3, and c4 are the respective costs per unit for olefin feed, isobutane recycle, acid addition rate, and isobutane makeup\n",
            "\n",
            "The estimated values Ŷ and N̂ are calculated using the regression formulas:\n",
            "\n",
            "Ŷ = O * (1.12 + 0.13167 * E - 0.00667 * E^2)\n",
            "N̂ = 86.35 + 1.098 * E - 0.038 * E^2 + 0.325 * (S - 89)\n",
            "\n",
            "The objective function aims to maximize the daily profit by considering the revenue generated from the product of estimated alkylate yield and estimated motor octane number, while subtracting the operational costs associated with olefin feed, isobutane recycle, acid addition rate, and isobutane makeup.\n",
            "\n",
            "Note that the objective function is expressed in terms of the estimated values Ŷ and N̂, which are derived from the regression formulas. The regression formulas for D̂ and F̂ are not directly used in the objective function but will be used in the constraints of the optimization problem.\n"
          ]
        }
      ]
    },
    {
      "cell_type": "markdown",
      "source": [
        "# 1. Prompt 1.3: Create Constraints for Mathematical Model\n"
      ],
      "metadata": {
        "id": "Wzf33DwvnEar"
      }
    },
    {
      "cell_type": "code",
      "source": [
        "message13 = client.messages.create(\n",
        "    model=\"claude-3-opus-20240229\",\n",
        "    system=prompt13,\n",
        "    max_tokens=4096,\n",
        "    messages=[\n",
        "        {\"role\": \"user\", \"content\": (problem_desc + response_p11 + response_p12)}\n",
        "    ]\n",
        ")\n",
        "\n",
        "response_p13 = message13.content[0].text"
      ],
      "metadata": {
        "id": "l1UAJRt7nENG"
      },
      "execution_count": 10,
      "outputs": []
    },
    {
      "cell_type": "code",
      "source": [
        "# Print response\n",
        "print(response_p13)"
      ],
      "metadata": {
        "colab": {
          "base_uri": "https://localhost:8080/"
        },
        "id": "vH7Ff9mxn4FZ",
        "outputId": "a335adcc-3caf-450d-9af9-a0d98f5f151c"
      },
      "execution_count": 11,
      "outputs": [
        {
          "output_type": "stream",
          "name": "stdout",
          "text": [
            "Here are the constraints for the alkylation process optimization problem:\n",
            "\n",
            "1. Regression formula constraints:\n",
            "   - 0.98 * Y ≤ Ŷ ≤ 1.02 * Y\n",
            "   - 0.99 * N ≤ N̂ ≤ 1.01 * N\n",
            "   - 0.95 * D ≤ D̂ ≤ 1.05 * D\n",
            "   - 0.90 * F ≤ F̂ ≤ 1.10 * F\n",
            "\n",
            "2. Variable bounds:\n",
            "   - Omin ≤ O ≤ Omax\n",
            "   - Rmin ≤ R ≤ Rmax\n",
            "   - Amin ≤ A ≤ Amax\n",
            "   - Ymin ≤ Y ≤ Ymax\n",
            "   - Mmin ≤ M ≤ Mmax\n",
            "   - Smin ≤ S ≤ Smax\n",
            "   - Nmin ≤ N ≤ Nmax\n",
            "   - Emin ≤ E ≤ Emax\n",
            "   - Dmin ≤ D ≤ Dmax\n",
            "   - Fmin ≤ F ≤ Fmax\n",
            "\n",
            "3. External isobutane-to-olefin ratio constraint:\n",
            "   - E = (R + M) / O\n",
            "\n",
            "4. Acid strength constraint:\n",
            "   - S = (93000 * A) / (A * D̂ + 1000 * A)\n",
            "\n",
            "5. Material balance constraint:\n",
            "   - 1.22 * Y = O + M\n",
            "\n",
            "6. Regression formulas:\n",
            "   - D̂ = 35.82 - 0.222 * F̂\n",
            "   - F̂ = -133 + 3 * N̂\n",
            "\n",
            "Note: The subscripts \"min\" and \"max\" represent the lower and upper bounds for each variable, respectively.\n",
            "\n",
            "These constraints ensure that the regression estimates are within the specified deviation ranges, the variables are within their respective bounds, and the relationships between variables are maintained according to the problem description.\n"
          ]
        }
      ]
    },
    {
      "cell_type": "markdown",
      "source": [
        "# 2. Prompt 2: Write Code based on Mathematical Model\n",
        "\n",
        "In case more than the component of each step was generated, use \"last instance\"/ \"newest version\" of the components.\n",
        "\n",
        "Example:\n",
        "Prompt 1.1 (Variables): Model generates only variables\n",
        "Prompt 1.2 (Objectvie): Model generates objective and constraints\n",
        "Prompt 1.3 (Constraints): Model generates only constraints\n",
        "\n",
        "Use Variables from step 1.1, use objective from 1.2 and use constraints from 1.3 (since constraints version 1.3 is more recent than constraints version 1.2).\n",
        "\n",
        "This set up allows for potential self-correction of the model throughout the three prompts.\n",
        "\n",
        "Correctness of each component is still generated in the respective step, so self-correction is independent of this."
      ],
      "metadata": {
        "id": "WPZ6lgBO729j"
      }
    },
    {
      "cell_type": "code",
      "source": [
        "message2 = client.messages.create(\n",
        "    model=\"claude-3-opus-20240229\",\n",
        "    system=prompt2,\n",
        "    max_tokens=4069,\n",
        "    messages=[\n",
        "        {\"role\": \"user\", \"content\": (response_p11+ response_p12 + response_p13)}\n",
        "    ]\n",
        ")\n",
        "\n",
        "response_p2 = message2.content[0].text"
      ],
      "metadata": {
        "id": "1iUSgBda70FL"
      },
      "execution_count": 12,
      "outputs": []
    },
    {
      "cell_type": "code",
      "source": [
        "# Print response\n",
        "print(response_p2)"
      ],
      "metadata": {
        "colab": {
          "base_uri": "https://localhost:8080/"
        },
        "id": "o40mxc_H8eQ9",
        "outputId": "422df248-ce1e-4918-fd35-4fa00e5fcf0e"
      },
      "execution_count": 13,
      "outputs": [
        {
          "output_type": "stream",
          "name": "stdout",
          "text": [
            "Here's the Python Pyomo code for the alkylation process optimization problem:\n",
            "\n",
            "```python\n",
            "from pyomo.environ import *\n",
            "\n",
            "# Create a concrete model\n",
            "model = ConcreteModel()\n",
            "\n",
            "# Define the variables\n",
            "model.O = Var(within=PositiveReals)  # Olefin feed (barrels per day)\n",
            "model.R = Var(within=PositiveReals)  # Isobutane recycle (barrels per day)\n",
            "model.A = Var(within=PositiveReals)  # Acid addition rate (thousands of pounds per day)\n",
            "model.Y = Var(within=PositiveReals)  # Alkylate yield (barrels per day)\n",
            "model.M = Var(within=PositiveReals)  # Isobutane makeup (barrels per day)\n",
            "model.S = Var(within=PositiveReals)  # Acid strength (weight per cent)\n",
            "model.N = Var(within=PositiveReals)  # Motor octane number\n",
            "model.E = Var(within=PositiveReals)  # External isobutane-to-olefin ratio\n",
            "model.D = Var(within=PositiveReals)  # Acid dilution factor\n",
            "model.F = Var(within=PositiveReals)  # F-4 performance number\n",
            "\n",
            "# Define the objective function\n",
            "def profit_rule(model):\n",
            "    Y_hat = model.O * (1.12 + 0.13167 * model.E - 0.00667 * model.E**2)\n",
            "    N_hat = 86.35 + 1.098 * model.E - 0.038 * model.E**2 + 0.325 * (model.S - 89)\n",
            "    return Y_hat * N_hat - (c1 * model.O + c2 * model.R + c3 * model.A + c4 * model.M)\n",
            "\n",
            "model.profit = Objective(rule=profit_rule, sense=maximize)\n",
            "\n",
            "# Define the constraints\n",
            "def yield_constraint_rule(model):\n",
            "    Y_hat = model.O * (1.12 + 0.13167 * model.E - 0.00667 * model.E**2)\n",
            "    return (0.98 * model.Y, Y_hat, 1.02 * model.Y)\n",
            "\n",
            "model.yield_constraint = Constraint(rule=yield_constraint_rule)\n",
            "\n",
            "def octane_constraint_rule(model):\n",
            "    N_hat = 86.35 + 1.098 * model.E - 0.038 * model.E**2 + 0.325 * (model.S - 89)\n",
            "    return (0.99 * model.N, N_hat, 1.01 * model.N)\n",
            "\n",
            "model.octane_constraint = Constraint(rule=octane_constraint_rule)\n",
            "\n",
            "def dilution_constraint_rule(model):\n",
            "    D_hat = 35.82 - 0.222 * model.F\n",
            "    return (0.95 * model.D, D_hat, 1.05 * model.D)\n",
            "\n",
            "model.dilution_constraint = Constraint(rule=dilution_constraint_rule)\n",
            "\n",
            "def performance_constraint_rule(model):\n",
            "    F_hat = -133 + 3 * model.N\n",
            "    return (0.90 * model.F, F_hat, 1.10 * model.F)\n",
            "\n",
            "model.performance_constraint = Constraint(rule=performance_constraint_rule)\n",
            "\n",
            "def external_ratio_constraint_rule(model):\n",
            "    return model.E == (model.R + model.M) / model.O\n",
            "\n",
            "model.external_ratio_constraint = Constraint(rule=external_ratio_constraint_rule)\n",
            "\n",
            "def acid_strength_constraint_rule(model):\n",
            "    D_hat = 35.82 - 0.222 * model.F\n",
            "    return model.S == (93000 * model.A) / (model.A * D_hat + 1000 * model.A)\n",
            "\n",
            "model.acid_strength_constraint = Constraint(rule=acid_strength_constraint_rule)\n",
            "\n",
            "def material_balance_constraint_rule(model):\n",
            "    return 1.22 * model.Y == model.O + model.M\n",
            "\n",
            "model.material_balance_constraint = Constraint(rule=material_balance_constraint_rule)\n",
            "\n",
            "# Define variable bounds (using sample data)\n",
            "model.O.setlb(2000)  # Omin\n",
            "model.O.setub(5000)  # Omax\n",
            "model.R.setlb(1000)  # Rmin\n",
            "model.R.setub(3000)  # Rmax\n",
            "model.A.setlb(5)     # Amin\n",
            "model.A.setub(20)    # Amax\n",
            "model.Y.setlb(2500)  # Ymin\n",
            "model.Y.setub(6000)  # Ymax\n",
            "model.M.setlb(500)   # Mmin\n",
            "model.M.setub(2000)  # Mmax\n",
            "model.S.setlb(85)    # Smin\n",
            "model.S.setub(93)    # Smax\n",
            "model.N.setlb(90)    # Nmin\n",
            "model.N.setub(98)    # Nmax\n",
            "model.E.setlb(2)     # Emin\n",
            "model.E.setub(6)     # Emax\n",
            "model.D.setlb(1)     # Dmin\n",
            "model.D.setub(100)   # Dmax\n",
            "model.F.setlb(50)    # Fmin\n",
            "model.F.setub(100)   # Fmax\n",
            "\n",
            "# Define cost coefficients (using sample data)\n",
            "c1 = 10  # Cost per unit of olefin feed\n",
            "c2 = 5   # Cost per unit of isobutane recycle\n",
            "c3 = 100 # Cost per unit of acid addition rate\n",
            "c4 = 8   # Cost per unit of isobutane makeup\n",
            "\n",
            "# Solve the optimization problem\n",
            "solver = SolverFactory('ipopt')\n",
            "results = solver.solve(model)\n",
            "\n",
            "# Print the results\n",
            "print(\"Optimal Profit: \", value(model.profit))\n",
            "print(\"Optimal Olefin Feed: \", value(model.O))\n",
            "print(\"Optimal Isobutane Recycle: \", value(model.R))\n",
            "print(\"Optimal Acid Addition Rate: \", value(model.A))\n",
            "print(\"Optimal Alkylate Yield: \", value(model.Y))\n",
            "print(\"Optimal Isobutane Makeup: \", value(model.M))\n",
            "print(\"Optimal Acid Strength: \", value(model.S))\n",
            "print(\"Optimal Motor Octane Number: \", value(model.N))\n",
            "print(\"Optimal External Isobutane-to-Olefin Ratio: \", value(model.E))\n",
            "print(\"Optimal Acid Dilution Factor: \", value(model.D))\n",
            "print(\"Optimal F-4 Performance Number: \", value(model.F))\n",
            "```\n",
            "\n",
            "In this code, we define the variables, objective function, and constraints using Pyomo. The objective function and constraints are defined as rules using functions.\n",
            "\n",
            "We also set the variable bounds and cost coefficients using sample data. These values should be replaced with the actual data for the specific problem.\n",
            "\n",
            "Finally, we solve the optimization problem using the IPOPT solver and print the optimal values of the variables and the objective function.\n",
            "\n",
            "Note: Make sure to install Pyomo and the IPOPT solver before running this code.\n"
          ]
        }
      ]
    },
    {
      "cell_type": "markdown",
      "source": [
        "# 4. Input Problem Data and Test Model Code"
      ],
      "metadata": {
        "id": "Pc0QqJuf8up_"
      }
    },
    {
      "cell_type": "code",
      "source": [
        "%%capture\n",
        "import sys\n",
        "import os\n",
        "\n",
        "if 'google.colab' in sys.modules:\n",
        "    !pip install idaes-pse --pre\n",
        "    !idaes get-extensions --to ./bin\n",
        "    os.environ['PATH'] += ':bin'\n",
        "\n",
        "# Installing pyomo nd solver\n",
        "!pip install -q pyomo\n",
        "!pip install pandas"
      ],
      "metadata": {
        "id": "3BtROuLu9O-p",
        "collapsed": true
      },
      "execution_count": 14,
      "outputs": []
    },
    {
      "cell_type": "code",
      "source": [
        "from pyomo.environ import *\n",
        "\n",
        "# Create a concrete model\n",
        "model = ConcreteModel()\n",
        "\n",
        "# Define cost coefficients (using sample data)\n",
        "c1 = 5.04  # Cost per unit of olefin feed\n",
        "c2 = 0.035   # Cost per unit of isobutane recycle\n",
        "c3 = 10.0 # Cost per unit of acid addition rate\n",
        "c4 = 3.36   # Cost per unit of isobutane makeup\n",
        "\n",
        "# Define the variables\n",
        "model.O = Var(within=PositiveReals)  # Olefin feed (barrels per day)\n",
        "model.R = Var(within=PositiveReals)  # Isobutane recycle (barrels per day)\n",
        "model.A = Var(within=PositiveReals)  # Acid addition rate (thousands of pounds per day)\n",
        "model.Y = Var(within=PositiveReals)  # Alkylate yield (barrels per day)\n",
        "model.M = Var(within=PositiveReals)  # Isobutane makeup (barrels per day)\n",
        "model.S = Var(within=PositiveReals)  # Acid strength (weight per cent)\n",
        "model.N = Var(within=PositiveReals)  # Motor octane number\n",
        "model.E = Var(within=PositiveReals)  # External isobutane-to-olefin ratio\n",
        "model.D = Var(within=PositiveReals)  # Acid dilution factor\n",
        "model.F = Var(within=PositiveReals)  # F-4 performance number\n",
        "\n",
        "# Define the objective function\n",
        "def profit_rule(model):\n",
        "    Y_hat = model.O * (1.12 + 0.13167 * model.E - 0.00667 * model.E**2)\n",
        "    N_hat = 86.35 + 1.098 * model.E - 0.038 * model.E**2 + 0.325 * (model.S - 89)\n",
        "    return Y_hat * N_hat - (c1 * model.O + c2 * model.R + c3 * model.A + c4 * model.M)\n",
        "\n",
        "model.profit = Objective(rule=profit_rule, sense=maximize)\n",
        "\n",
        "# Define the constraints\n",
        "def yield_constraint_rule(model):\n",
        "    Y_hat = model.O * (1.12 + 0.13167 * model.E - 0.00667 * model.E**2)\n",
        "    return (0.98 * model.Y, Y_hat, 1.02 * model.Y)\n",
        "\n",
        "model.yield_constraint = Constraint(rule=yield_constraint_rule)\n",
        "\n",
        "def octane_constraint_rule(model):\n",
        "    N_hat = 86.35 + 1.098 * model.E - 0.038 * model.E**2 + 0.325 * (model.S - 89)\n",
        "    return (0.99 * model.N, N_hat, 1.01 * model.N)\n",
        "\n",
        "model.octane_constraint = Constraint(rule=octane_constraint_rule)\n",
        "\n",
        "def dilution_constraint_rule(model):\n",
        "    D_hat = 35.82 - 0.222 * model.F\n",
        "    return (0.95 * model.D, D_hat, 1.05 * model.D)\n",
        "\n",
        "model.dilution_constraint = Constraint(rule=dilution_constraint_rule)\n",
        "\n",
        "def performance_constraint_rule(model):\n",
        "    F_hat = -133 + 3 * model.N\n",
        "    return (0.90 * model.F, F_hat, 1.10 * model.F)\n",
        "\n",
        "model.performance_constraint = Constraint(rule=performance_constraint_rule)\n",
        "\n",
        "def external_ratio_constraint_rule(model):\n",
        "    return model.E == (model.R + model.M) / model.O\n",
        "\n",
        "model.external_ratio_constraint = Constraint(rule=external_ratio_constraint_rule)\n",
        "\n",
        "def acid_strength_constraint_rule(model):\n",
        "    D_hat = 35.82 - 0.222 * model.F\n",
        "    return model.S == (93000 * model.A) / (model.A * D_hat + 1000 * model.A)\n",
        "\n",
        "model.acid_strength_constraint = Constraint(rule=acid_strength_constraint_rule)\n",
        "\n",
        "def material_balance_constraint_rule(model):\n",
        "    return 1.22 * model.Y == model.O + model.M\n",
        "\n",
        "model.material_balance_constraint = Constraint(rule=material_balance_constraint_rule)\n",
        "\n",
        "# Define variable bounds (using sample data)\n",
        "model.O.setlb(0)  # Omin\n",
        "model.O.setub(2000)  # Omax\n",
        "model.R.setlb(0)  # Rmin\n",
        "model.R.setub(16000)  # Rmax\n",
        "model.A.setlb(0)     # Amin\n",
        "model.A.setub(120)    # Amax\n",
        "model.Y.setlb(0)  # Ymin\n",
        "model.Y.setub(5000)  # Ymax\n",
        "model.M.setlb(0)   # Mmin\n",
        "model.M.setub(2000)  # Mmax\n",
        "model.S.setlb(85)    # Smin\n",
        "model.S.setub(93)    # Smax\n",
        "model.N.setlb(90)    # Nmin\n",
        "model.N.setub(95)    # Nmax\n",
        "model.E.setlb(3)     # Emin\n",
        "model.E.setub(12)     # Emax\n",
        "model.D.setlb(1.2)     # Dmin\n",
        "model.D.setub(4)   # Dmax\n",
        "model.F.setlb(145)    # Fmin\n",
        "model.F.setub(162)   # Fmax\n",
        "\n",
        "# Solve the optimization problem\n",
        "solver = SolverFactory('ipopt')\n",
        "results = solver.solve(model)\n",
        "\n",
        "# Print the results\n",
        "print(\"Optimal Profit: \", value(model.profit))\n",
        "print(\"Optimal Olefin Feed: \", value(model.O))\n",
        "print(\"Optimal Isobutane Recycle: \", value(model.R))\n",
        "print(\"Optimal Acid Addition Rate: \", value(model.A))\n",
        "print(\"Optimal Alkylate Yield: \", value(model.Y))\n",
        "print(\"Optimal Isobutane Makeup: \", value(model.M))\n",
        "print(\"Optimal Acid Strength: \", value(model.S))\n",
        "print(\"Optimal Motor Octane Number: \", value(model.N))\n",
        "print(\"Optimal External Isobutane-to-Olefin Ratio: \", value(model.E))\n",
        "print(\"Optimal Acid Dilution Factor: \", value(model.D))\n",
        "print(\"Optimal F-4 Performance Number: \", value(model.F))"
      ],
      "metadata": {
        "colab": {
          "base_uri": "https://localhost:8080/",
          "height": 356
        },
        "id": "8FpHcuWU8rQ2",
        "outputId": "583dd420-80ed-42b5-9374-cc4584f267ee"
      },
      "execution_count": 16,
      "outputs": [
        {
          "output_type": "error",
          "ename": "ValueError",
          "evalue": "Constraint 'yield_constraint' is a Ranged Inequality with a variable lower bound.  Cannot normalize the constraint or send it to a solver.",
          "traceback": [
            "\u001b[0;31m---------------------------------------------------------------------------\u001b[0m",
            "\u001b[0;31mValueError\u001b[0m                                Traceback (most recent call last)",
            "\u001b[0;32m<ipython-input-16-377cbf69c4ae>\u001b[0m in \u001b[0;36m<cell line: 97>\u001b[0;34m()\u001b[0m\n\u001b[1;32m     95\u001b[0m \u001b[0;31m# Solve the optimization problem\u001b[0m\u001b[0;34m\u001b[0m\u001b[0;34m\u001b[0m\u001b[0m\n\u001b[1;32m     96\u001b[0m \u001b[0msolver\u001b[0m \u001b[0;34m=\u001b[0m \u001b[0mSolverFactory\u001b[0m\u001b[0;34m(\u001b[0m\u001b[0;34m'ipopt'\u001b[0m\u001b[0;34m)\u001b[0m\u001b[0;34m\u001b[0m\u001b[0;34m\u001b[0m\u001b[0m\n\u001b[0;32m---> 97\u001b[0;31m \u001b[0mresults\u001b[0m \u001b[0;34m=\u001b[0m \u001b[0msolver\u001b[0m\u001b[0;34m.\u001b[0m\u001b[0msolve\u001b[0m\u001b[0;34m(\u001b[0m\u001b[0mmodel\u001b[0m\u001b[0;34m)\u001b[0m\u001b[0;34m\u001b[0m\u001b[0;34m\u001b[0m\u001b[0m\n\u001b[0m\u001b[1;32m     98\u001b[0m \u001b[0;34m\u001b[0m\u001b[0m\n\u001b[1;32m     99\u001b[0m \u001b[0;31m# Print the results\u001b[0m\u001b[0;34m\u001b[0m\u001b[0;34m\u001b[0m\u001b[0m\n",
            "\u001b[0;32m/usr/local/lib/python3.10/dist-packages/pyomo/opt/base/solvers.py\u001b[0m in \u001b[0;36msolve\u001b[0;34m(self, *args, **kwds)\u001b[0m\n\u001b[1;32m    596\u001b[0m             \u001b[0minitial_time\u001b[0m \u001b[0;34m=\u001b[0m \u001b[0mtime\u001b[0m\u001b[0;34m.\u001b[0m\u001b[0mtime\u001b[0m\u001b[0;34m(\u001b[0m\u001b[0;34m)\u001b[0m\u001b[0;34m\u001b[0m\u001b[0;34m\u001b[0m\u001b[0m\n\u001b[1;32m    597\u001b[0m \u001b[0;34m\u001b[0m\u001b[0m\n\u001b[0;32m--> 598\u001b[0;31m             \u001b[0mself\u001b[0m\u001b[0;34m.\u001b[0m\u001b[0m_presolve\u001b[0m\u001b[0;34m(\u001b[0m\u001b[0;34m*\u001b[0m\u001b[0margs\u001b[0m\u001b[0;34m,\u001b[0m \u001b[0;34m**\u001b[0m\u001b[0mkwds\u001b[0m\u001b[0;34m)\u001b[0m\u001b[0;34m\u001b[0m\u001b[0;34m\u001b[0m\u001b[0m\n\u001b[0m\u001b[1;32m    599\u001b[0m \u001b[0;34m\u001b[0m\u001b[0m\n\u001b[1;32m    600\u001b[0m             \u001b[0mpresolve_completion_time\u001b[0m \u001b[0;34m=\u001b[0m \u001b[0mtime\u001b[0m\u001b[0;34m.\u001b[0m\u001b[0mtime\u001b[0m\u001b[0;34m(\u001b[0m\u001b[0;34m)\u001b[0m\u001b[0;34m\u001b[0m\u001b[0;34m\u001b[0m\u001b[0m\n",
            "\u001b[0;32m/usr/local/lib/python3.10/dist-packages/pyomo/opt/solver/shellcmd.py\u001b[0m in \u001b[0;36m_presolve\u001b[0;34m(self, *args, **kwds)\u001b[0m\n\u001b[1;32m    221\u001b[0m         \u001b[0mself\u001b[0m\u001b[0;34m.\u001b[0m\u001b[0m_define_signal_handlers\u001b[0m \u001b[0;34m=\u001b[0m \u001b[0mkwds\u001b[0m\u001b[0;34m.\u001b[0m\u001b[0mpop\u001b[0m\u001b[0;34m(\u001b[0m\u001b[0;34m'use_signal_handling'\u001b[0m\u001b[0;34m,\u001b[0m \u001b[0;32mNone\u001b[0m\u001b[0;34m)\u001b[0m\u001b[0;34m\u001b[0m\u001b[0;34m\u001b[0m\u001b[0m\n\u001b[1;32m    222\u001b[0m \u001b[0;34m\u001b[0m\u001b[0m\n\u001b[0;32m--> 223\u001b[0;31m         \u001b[0mOptSolver\u001b[0m\u001b[0;34m.\u001b[0m\u001b[0m_presolve\u001b[0m\u001b[0;34m(\u001b[0m\u001b[0mself\u001b[0m\u001b[0;34m,\u001b[0m \u001b[0;34m*\u001b[0m\u001b[0margs\u001b[0m\u001b[0;34m,\u001b[0m \u001b[0;34m**\u001b[0m\u001b[0mkwds\u001b[0m\u001b[0;34m)\u001b[0m\u001b[0;34m\u001b[0m\u001b[0;34m\u001b[0m\u001b[0m\n\u001b[0m\u001b[1;32m    224\u001b[0m \u001b[0;34m\u001b[0m\u001b[0m\n\u001b[1;32m    225\u001b[0m         \u001b[0;31m#\u001b[0m\u001b[0;34m\u001b[0m\u001b[0;34m\u001b[0m\u001b[0m\n",
            "\u001b[0;32m/usr/local/lib/python3.10/dist-packages/pyomo/opt/base/solvers.py\u001b[0m in \u001b[0;36m_presolve\u001b[0;34m(self, *args, **kwds)\u001b[0m\n\u001b[1;32m    702\u001b[0m             \u001b[0mwrite_start_time\u001b[0m \u001b[0;34m=\u001b[0m \u001b[0mtime\u001b[0m\u001b[0;34m.\u001b[0m\u001b[0mtime\u001b[0m\u001b[0;34m(\u001b[0m\u001b[0;34m)\u001b[0m\u001b[0;34m\u001b[0m\u001b[0;34m\u001b[0m\u001b[0m\n\u001b[1;32m    703\u001b[0m             (self._problem_files, self._problem_format, self._smap_id) = (\n\u001b[0;32m--> 704\u001b[0;31m                 self._convert_problem(\n\u001b[0m\u001b[1;32m    705\u001b[0m                     \u001b[0margs\u001b[0m\u001b[0;34m,\u001b[0m \u001b[0mself\u001b[0m\u001b[0;34m.\u001b[0m\u001b[0m_problem_format\u001b[0m\u001b[0;34m,\u001b[0m \u001b[0mself\u001b[0m\u001b[0;34m.\u001b[0m\u001b[0m_valid_problem_formats\u001b[0m\u001b[0;34m,\u001b[0m \u001b[0;34m**\u001b[0m\u001b[0mkwds\u001b[0m\u001b[0;34m\u001b[0m\u001b[0;34m\u001b[0m\u001b[0m\n\u001b[1;32m    706\u001b[0m                 )\n",
            "\u001b[0;32m/usr/local/lib/python3.10/dist-packages/pyomo/opt/base/solvers.py\u001b[0m in \u001b[0;36m_convert_problem\u001b[0;34m(self, args, problem_format, valid_problem_formats, **kwds)\u001b[0m\n\u001b[1;32m    754\u001b[0m \u001b[0;34m\u001b[0m\u001b[0m\n\u001b[1;32m    755\u001b[0m     \u001b[0;32mdef\u001b[0m \u001b[0m_convert_problem\u001b[0m\u001b[0;34m(\u001b[0m\u001b[0mself\u001b[0m\u001b[0;34m,\u001b[0m \u001b[0margs\u001b[0m\u001b[0;34m,\u001b[0m \u001b[0mproblem_format\u001b[0m\u001b[0;34m,\u001b[0m \u001b[0mvalid_problem_formats\u001b[0m\u001b[0;34m,\u001b[0m \u001b[0;34m**\u001b[0m\u001b[0mkwds\u001b[0m\u001b[0;34m)\u001b[0m\u001b[0;34m:\u001b[0m\u001b[0;34m\u001b[0m\u001b[0;34m\u001b[0m\u001b[0m\n\u001b[0;32m--> 756\u001b[0;31m         return convert_problem(\n\u001b[0m\u001b[1;32m    757\u001b[0m             \u001b[0margs\u001b[0m\u001b[0;34m,\u001b[0m \u001b[0mproblem_format\u001b[0m\u001b[0;34m,\u001b[0m \u001b[0mvalid_problem_formats\u001b[0m\u001b[0;34m,\u001b[0m \u001b[0mself\u001b[0m\u001b[0;34m.\u001b[0m\u001b[0mhas_capability\u001b[0m\u001b[0;34m,\u001b[0m \u001b[0;34m**\u001b[0m\u001b[0mkwds\u001b[0m\u001b[0;34m\u001b[0m\u001b[0;34m\u001b[0m\u001b[0m\n\u001b[1;32m    758\u001b[0m         )\n",
            "\u001b[0;32m/usr/local/lib/python3.10/dist-packages/pyomo/opt/base/convert.py\u001b[0m in \u001b[0;36mconvert_problem\u001b[0;34m(args, target_problem_type, valid_problem_types, has_capability, **kwds)\u001b[0m\n\u001b[1;32m     95\u001b[0m                     \u001b[0mtmpkw\u001b[0m \u001b[0;34m=\u001b[0m \u001b[0mkwds\u001b[0m\u001b[0;34m\u001b[0m\u001b[0;34m\u001b[0m\u001b[0m\n\u001b[1;32m     96\u001b[0m                     \u001b[0mtmpkw\u001b[0m\u001b[0;34m[\u001b[0m\u001b[0;34m'capabilities'\u001b[0m\u001b[0;34m]\u001b[0m \u001b[0;34m=\u001b[0m \u001b[0mhas_capability\u001b[0m\u001b[0;34m\u001b[0m\u001b[0;34m\u001b[0m\u001b[0m\n\u001b[0;32m---> 97\u001b[0;31m                     \u001b[0mproblem_files\u001b[0m\u001b[0;34m,\u001b[0m \u001b[0msymbol_map\u001b[0m \u001b[0;34m=\u001b[0m \u001b[0mconverter\u001b[0m\u001b[0;34m.\u001b[0m\u001b[0mapply\u001b[0m\u001b[0;34m(\u001b[0m\u001b[0;34m*\u001b[0m\u001b[0mtmp\u001b[0m\u001b[0;34m,\u001b[0m \u001b[0;34m**\u001b[0m\u001b[0mtmpkw\u001b[0m\u001b[0;34m)\u001b[0m\u001b[0;34m\u001b[0m\u001b[0;34m\u001b[0m\u001b[0m\n\u001b[0m\u001b[1;32m     98\u001b[0m                     \u001b[0;32mreturn\u001b[0m \u001b[0mproblem_files\u001b[0m\u001b[0;34m,\u001b[0m \u001b[0mptype\u001b[0m\u001b[0;34m,\u001b[0m \u001b[0msymbol_map\u001b[0m\u001b[0;34m\u001b[0m\u001b[0;34m\u001b[0m\u001b[0m\n\u001b[1;32m     99\u001b[0m \u001b[0;34m\u001b[0m\u001b[0m\n",
            "\u001b[0;32m/usr/local/lib/python3.10/dist-packages/pyomo/solvers/plugins/converter/model.py\u001b[0m in \u001b[0;36mapply\u001b[0;34m(self, *args, **kwds)\u001b[0m\n\u001b[1;32m    182\u001b[0m                     )\n\u001b[1;32m    183\u001b[0m                 \u001b[0;32melse\u001b[0m\u001b[0;34m:\u001b[0m\u001b[0;34m\u001b[0m\u001b[0;34m\u001b[0m\u001b[0m\n\u001b[0;32m--> 184\u001b[0;31m                     (problem_filename, symbol_map_id) = instance.write(\n\u001b[0m\u001b[1;32m    185\u001b[0m                         \u001b[0mfilename\u001b[0m\u001b[0;34m=\u001b[0m\u001b[0mproblem_filename\u001b[0m\u001b[0;34m,\u001b[0m\u001b[0;34m\u001b[0m\u001b[0;34m\u001b[0m\u001b[0m\n\u001b[1;32m    186\u001b[0m                         \u001b[0mformat\u001b[0m\u001b[0;34m=\u001b[0m\u001b[0margs\u001b[0m\u001b[0;34m[\u001b[0m\u001b[0;36m1\u001b[0m\u001b[0;34m]\u001b[0m\u001b[0;34m,\u001b[0m\u001b[0;34m\u001b[0m\u001b[0;34m\u001b[0m\u001b[0m\n",
            "\u001b[0;32m/usr/local/lib/python3.10/dist-packages/pyomo/core/base/block.py\u001b[0m in \u001b[0;36mwrite\u001b[0;34m(self, filename, format, solver_capability, io_options, int_marker)\u001b[0m\n\u001b[1;32m   1925\u001b[0m                 \u001b[0;32mreturn\u001b[0m \u001b[0;32mTrue\u001b[0m\u001b[0;34m\u001b[0m\u001b[0;34m\u001b[0m\u001b[0m\n\u001b[1;32m   1926\u001b[0m \u001b[0;34m\u001b[0m\u001b[0m\n\u001b[0;32m-> 1927\u001b[0;31m         \u001b[0;34m(\u001b[0m\u001b[0mfilename\u001b[0m\u001b[0;34m,\u001b[0m \u001b[0msmap\u001b[0m\u001b[0;34m)\u001b[0m \u001b[0;34m=\u001b[0m \u001b[0mproblem_writer\u001b[0m\u001b[0;34m(\u001b[0m\u001b[0mself\u001b[0m\u001b[0;34m,\u001b[0m \u001b[0mfilename\u001b[0m\u001b[0;34m,\u001b[0m \u001b[0msolver_capability\u001b[0m\u001b[0;34m,\u001b[0m \u001b[0mio_options\u001b[0m\u001b[0;34m)\u001b[0m\u001b[0;34m\u001b[0m\u001b[0;34m\u001b[0m\u001b[0m\n\u001b[0m\u001b[1;32m   1928\u001b[0m         \u001b[0msmap_id\u001b[0m \u001b[0;34m=\u001b[0m \u001b[0mid\u001b[0m\u001b[0;34m(\u001b[0m\u001b[0msmap\u001b[0m\u001b[0;34m)\u001b[0m\u001b[0;34m\u001b[0m\u001b[0;34m\u001b[0m\u001b[0m\n\u001b[1;32m   1929\u001b[0m         \u001b[0;32mif\u001b[0m \u001b[0;32mnot\u001b[0m \u001b[0mhasattr\u001b[0m\u001b[0;34m(\u001b[0m\u001b[0mself\u001b[0m\u001b[0;34m,\u001b[0m \u001b[0;34m'solutions'\u001b[0m\u001b[0;34m)\u001b[0m\u001b[0;34m:\u001b[0m\u001b[0;34m\u001b[0m\u001b[0;34m\u001b[0m\u001b[0m\n",
            "\u001b[0;32m/usr/local/lib/python3.10/dist-packages/pyomo/repn/plugins/nl_writer.py\u001b[0m in \u001b[0;36m__call__\u001b[0;34m(self, model, filename, solver_capability, io_options)\u001b[0m\n\u001b[1;32m    348\u001b[0m             \u001b[0mrow_fname\u001b[0m\u001b[0;34m\u001b[0m\u001b[0;34m\u001b[0m\u001b[0m\n\u001b[1;32m    349\u001b[0m         ) as ROWFILE, _open(col_fname) as COLFILE:\n\u001b[0;32m--> 350\u001b[0;31m             \u001b[0minfo\u001b[0m \u001b[0;34m=\u001b[0m \u001b[0mself\u001b[0m\u001b[0;34m.\u001b[0m\u001b[0mwrite\u001b[0m\u001b[0;34m(\u001b[0m\u001b[0mmodel\u001b[0m\u001b[0;34m,\u001b[0m \u001b[0mFILE\u001b[0m\u001b[0;34m,\u001b[0m \u001b[0mROWFILE\u001b[0m\u001b[0;34m,\u001b[0m \u001b[0mCOLFILE\u001b[0m\u001b[0;34m,\u001b[0m \u001b[0mconfig\u001b[0m\u001b[0;34m=\u001b[0m\u001b[0mconfig\u001b[0m\u001b[0;34m)\u001b[0m\u001b[0;34m\u001b[0m\u001b[0;34m\u001b[0m\u001b[0m\n\u001b[0m\u001b[1;32m    351\u001b[0m         \u001b[0;32mif\u001b[0m \u001b[0;32mnot\u001b[0m \u001b[0minfo\u001b[0m\u001b[0;34m.\u001b[0m\u001b[0mvariables\u001b[0m\u001b[0;34m:\u001b[0m\u001b[0;34m\u001b[0m\u001b[0;34m\u001b[0m\u001b[0m\n\u001b[1;32m    352\u001b[0m             \u001b[0;31m# This exception is included for compatibility with the\u001b[0m\u001b[0;34m\u001b[0m\u001b[0;34m\u001b[0m\u001b[0m\n",
            "\u001b[0;32m/usr/local/lib/python3.10/dist-packages/pyomo/repn/plugins/nl_writer.py\u001b[0m in \u001b[0;36mwrite\u001b[0;34m(self, model, ostream, rowstream, colstream, **options)\u001b[0m\n\u001b[1;32m    406\u001b[0m         \u001b[0;31m# small objects.\u001b[0m\u001b[0;34m\u001b[0m\u001b[0;34m\u001b[0m\u001b[0m\n\u001b[1;32m    407\u001b[0m         \u001b[0;32mwith\u001b[0m \u001b[0m_NLWriter_impl\u001b[0m\u001b[0;34m(\u001b[0m\u001b[0mostream\u001b[0m\u001b[0;34m,\u001b[0m \u001b[0mrowstream\u001b[0m\u001b[0;34m,\u001b[0m \u001b[0mcolstream\u001b[0m\u001b[0;34m,\u001b[0m \u001b[0mconfig\u001b[0m\u001b[0;34m)\u001b[0m \u001b[0;32mas\u001b[0m \u001b[0mimpl\u001b[0m\u001b[0;34m:\u001b[0m\u001b[0;34m\u001b[0m\u001b[0;34m\u001b[0m\u001b[0m\n\u001b[0;32m--> 408\u001b[0;31m             \u001b[0;32mreturn\u001b[0m \u001b[0mimpl\u001b[0m\u001b[0;34m.\u001b[0m\u001b[0mwrite\u001b[0m\u001b[0;34m(\u001b[0m\u001b[0mmodel\u001b[0m\u001b[0;34m)\u001b[0m\u001b[0;34m\u001b[0m\u001b[0;34m\u001b[0m\u001b[0m\n\u001b[0m\u001b[1;32m    409\u001b[0m \u001b[0;34m\u001b[0m\u001b[0m\n\u001b[1;32m    410\u001b[0m     \u001b[0;32mdef\u001b[0m \u001b[0m_generate_symbol_map\u001b[0m\u001b[0;34m(\u001b[0m\u001b[0mself\u001b[0m\u001b[0;34m,\u001b[0m \u001b[0minfo\u001b[0m\u001b[0;34m)\u001b[0m\u001b[0;34m:\u001b[0m\u001b[0;34m\u001b[0m\u001b[0;34m\u001b[0m\u001b[0m\n",
            "\u001b[0;32m/usr/local/lib/python3.10/dist-packages/pyomo/repn/plugins/nl_writer.py\u001b[0m in \u001b[0;36mwrite\u001b[0;34m(self, model)\u001b[0m\n\u001b[1;32m    730\u001b[0m             \u001b[0;31m# Note: Constraint.lb/ub guarantee a return value that is\u001b[0m\u001b[0;34m\u001b[0m\u001b[0;34m\u001b[0m\u001b[0m\n\u001b[1;32m    731\u001b[0m             \u001b[0;31m# either a (finite) native_numeric_type, or None\u001b[0m\u001b[0;34m\u001b[0m\u001b[0;34m\u001b[0m\u001b[0m\n\u001b[0;32m--> 732\u001b[0;31m             \u001b[0mlb\u001b[0m \u001b[0;34m=\u001b[0m \u001b[0mcon\u001b[0m\u001b[0;34m.\u001b[0m\u001b[0mlb\u001b[0m\u001b[0;34m\u001b[0m\u001b[0;34m\u001b[0m\u001b[0m\n\u001b[0m\u001b[1;32m    733\u001b[0m             \u001b[0mub\u001b[0m \u001b[0;34m=\u001b[0m \u001b[0mcon\u001b[0m\u001b[0;34m.\u001b[0m\u001b[0mub\u001b[0m\u001b[0;34m\u001b[0m\u001b[0;34m\u001b[0m\u001b[0m\n\u001b[1;32m    734\u001b[0m             \u001b[0;32mif\u001b[0m \u001b[0mlb\u001b[0m \u001b[0;32mis\u001b[0m \u001b[0;32mNone\u001b[0m \u001b[0;32mand\u001b[0m \u001b[0mub\u001b[0m \u001b[0;32mis\u001b[0m \u001b[0;32mNone\u001b[0m\u001b[0;34m:\u001b[0m  \u001b[0;31m# and self.config.skip_trivial_constraints:\u001b[0m\u001b[0;34m\u001b[0m\u001b[0;34m\u001b[0m\u001b[0m\n",
            "\u001b[0;32m/usr/local/lib/python3.10/dist-packages/pyomo/core/base/constraint.py\u001b[0m in \u001b[0;36mlb\u001b[0;34m(self)\u001b[0m\n\u001b[1;32m    244\u001b[0m     \u001b[0;32mdef\u001b[0m \u001b[0mlb\u001b[0m\u001b[0;34m(\u001b[0m\u001b[0mself\u001b[0m\u001b[0;34m)\u001b[0m\u001b[0;34m:\u001b[0m\u001b[0;34m\u001b[0m\u001b[0;34m\u001b[0m\u001b[0m\n\u001b[1;32m    245\u001b[0m         \u001b[0;34m\"\"\"Access the value of the lower bound of a constraint expression.\"\"\"\u001b[0m\u001b[0;34m\u001b[0m\u001b[0;34m\u001b[0m\u001b[0m\n\u001b[0;32m--> 246\u001b[0;31m         \u001b[0mbound\u001b[0m \u001b[0;34m=\u001b[0m \u001b[0mself\u001b[0m\u001b[0;34m.\u001b[0m\u001b[0m_lower\u001b[0m \u001b[0;32mif\u001b[0m \u001b[0mself\u001b[0m\u001b[0;34m.\u001b[0m\u001b[0m_body\u001b[0m \u001b[0;32mis\u001b[0m \u001b[0;32mnot\u001b[0m \u001b[0;32mNone\u001b[0m \u001b[0;32melse\u001b[0m \u001b[0mself\u001b[0m\u001b[0;34m.\u001b[0m\u001b[0m_get_range_bound\u001b[0m\u001b[0;34m(\u001b[0m\u001b[0;36m0\u001b[0m\u001b[0;34m)\u001b[0m\u001b[0;34m\u001b[0m\u001b[0;34m\u001b[0m\u001b[0m\n\u001b[0m\u001b[1;32m    247\u001b[0m         \u001b[0;32mif\u001b[0m \u001b[0mbound\u001b[0m\u001b[0;34m.\u001b[0m\u001b[0m__class__\u001b[0m \u001b[0;32mnot\u001b[0m \u001b[0;32min\u001b[0m \u001b[0mnative_numeric_types\u001b[0m\u001b[0;34m:\u001b[0m\u001b[0;34m\u001b[0m\u001b[0;34m\u001b[0m\u001b[0m\n\u001b[1;32m    248\u001b[0m             \u001b[0;32mif\u001b[0m \u001b[0mbound\u001b[0m \u001b[0;32mis\u001b[0m \u001b[0;32mNone\u001b[0m\u001b[0;34m:\u001b[0m\u001b[0;34m\u001b[0m\u001b[0;34m\u001b[0m\u001b[0m\n",
            "\u001b[0;32m/usr/local/lib/python3.10/dist-packages/pyomo/core/base/constraint.py\u001b[0m in \u001b[0;36m_get_range_bound\u001b[0;34m(self, range_arg)\u001b[0m\n\u001b[1;32m    205\u001b[0m         \u001b[0mbound\u001b[0m \u001b[0;34m=\u001b[0m \u001b[0mself\u001b[0m\u001b[0;34m.\u001b[0m\u001b[0m_expr\u001b[0m\u001b[0;34m.\u001b[0m\u001b[0marg\u001b[0m\u001b[0;34m(\u001b[0m\u001b[0mrange_arg\u001b[0m\u001b[0;34m)\u001b[0m\u001b[0;34m\u001b[0m\u001b[0;34m\u001b[0m\u001b[0m\n\u001b[1;32m    206\u001b[0m         \u001b[0;32mif\u001b[0m \u001b[0;32mnot\u001b[0m \u001b[0mis_fixed\u001b[0m\u001b[0;34m(\u001b[0m\u001b[0mbound\u001b[0m\u001b[0;34m)\u001b[0m\u001b[0;34m:\u001b[0m\u001b[0;34m\u001b[0m\u001b[0;34m\u001b[0m\u001b[0m\n\u001b[0;32m--> 207\u001b[0;31m             raise ValueError(\n\u001b[0m\u001b[1;32m    208\u001b[0m                 \u001b[0;34m\"Constraint '%s' is a Ranged Inequality with a \"\u001b[0m\u001b[0;34m\u001b[0m\u001b[0;34m\u001b[0m\u001b[0m\n\u001b[1;32m    209\u001b[0m                 \u001b[0;34m\"variable %s bound.  Cannot normalize the \"\u001b[0m\u001b[0;34m\u001b[0m\u001b[0;34m\u001b[0m\u001b[0m\n",
            "\u001b[0;31mValueError\u001b[0m: Constraint 'yield_constraint' is a Ranged Inequality with a variable lower bound.  Cannot normalize the constraint or send it to a solver."
          ]
        }
      ]
    },
    {
      "cell_type": "markdown",
      "source": [
        "# 5. Correct The Model Code to Test Mathematical Model (if applicable)"
      ],
      "metadata": {
        "id": "KHTyoLQTWZVy"
      }
    },
    {
      "cell_type": "code",
      "source": [
        "from pyomo.environ import *\n",
        "\n",
        "# Create a concrete model\n",
        "model = ConcreteModel()\n",
        "\n",
        "# Define cost coefficients (using sample data)\n",
        "c1 = 5.04  # Cost per unit of olefin feed\n",
        "c2 = 0.035   # Cost per unit of isobutane recycle\n",
        "c3 = 10.0 # Cost per unit of acid addition rate\n",
        "c4 = 3.36   # Cost per unit of isobutane makeup\n",
        "\n",
        "# Define the variables\n",
        "model.O = Var(within=PositiveReals)  # Olefin feed (barrels per day)\n",
        "model.R = Var(within=PositiveReals)  # Isobutane recycle (barrels per day)\n",
        "model.A = Var(within=PositiveReals)  # Acid addition rate (thousands of pounds per day)\n",
        "model.Y = Var(within=PositiveReals)  # Alkylate yield (barrels per day)\n",
        "model.M = Var(within=PositiveReals)  # Isobutane makeup (barrels per day)\n",
        "model.S = Var(within=PositiveReals)  # Acid strength (weight per cent)\n",
        "model.N = Var(within=PositiveReals)  # Motor octane number\n",
        "model.E = Var(within=PositiveReals)  # External isobutane-to-olefin ratio\n",
        "model.D = Var(within=PositiveReals)  # Acid dilution factor\n",
        "model.F = Var(within=PositiveReals)  # F-4 performance number\n",
        "\n",
        "# Define the objective function\n",
        "def profit_rule(model):\n",
        "    Y_hat = model.O * (1.12 + 0.13167 * model.E - 0.00667 * model.E**2)\n",
        "    N_hat = 86.35 + 1.098 * model.E - 0.038 * model.E**2 + 0.325 * (model.S - 89)\n",
        "    return Y_hat * N_hat - (c1 * model.O + c2 * model.R + c3 * model.A + c4 * model.M)\n",
        "\n",
        "model.profit = Objective(rule=profit_rule, sense=maximize)\n",
        "\n",
        "# Define the constraints\n",
        "def yield_constraint_rule_lower(model):\n",
        "    Y_hat = model.O * (1.12 + 0.13167 * model.E - 0.00667 * model.E**2)\n",
        "    return (0.98 * model.Y <= Y_hat)\n",
        "\n",
        "model.yield_constraint_lower = Constraint(rule=yield_constraint_rule_lower)\n",
        "\n",
        "\n",
        "def yield_constraint_rule_upper(model):\n",
        "    Y_hat = model.O * (1.12 + 0.13167 * model.E - 0.00667 * model.E**2)\n",
        "    return (Y_hat <= 1.02 * model.Y)\n",
        "\n",
        "model.yield_constraint_upper = Constraint(rule=yield_constraint_rule_upper)\n",
        "\n",
        "def octane_constraint_rule_lower(model):\n",
        "    N_hat = 86.35 + 1.098 * model.E - 0.038 * model.E**2 + 0.325 * (model.S - 89)\n",
        "    return (0.99 * model.N <= N_hat)\n",
        "\n",
        "model.octane_constraint_lower = Constraint(rule=octane_constraint_rule_lower)\n",
        "\n",
        "def octane_constraint_rule_upper(model):\n",
        "    N_hat = 86.35 + 1.098 * model.E - 0.038 * model.E**2 + 0.325 * (model.S - 89)\n",
        "    return ( N_hat <= 1.01 * model.N)\n",
        "\n",
        "model.octane_constraint_upper = Constraint(rule=octane_constraint_rule_upper)\n",
        "\n",
        "def dilution_constraint_rule_lower(model):\n",
        "    D_hat = 35.82 - 0.222 * model.F\n",
        "    return (0.95 * model.D <= D_hat)\n",
        "\n",
        "model.dilution_constraint_lower = Constraint(rule=dilution_constraint_rule_lower)\n",
        "\n",
        "def dilution_constraint_rule_upper(model):\n",
        "    D_hat = 35.82 - 0.222 * model.F\n",
        "    return (0.95 * model.D <= D_hat)\n",
        "\n",
        "model.dilution_constraint_upper = Constraint(rule=dilution_constraint_rule_upper)\n",
        "\n",
        "def performance_constraint_rule(model):\n",
        "    F_hat = -133 + 3 * model.N\n",
        "    return (F_hat <= 1.10 * model.F)\n",
        "\n",
        "model.performance_constraint = Constraint(rule=performance_constraint_rule)\n",
        "\n",
        "def external_ratio_constraint_rule(model):\n",
        "    return model.E == (model.R + model.M) / model.O\n",
        "\n",
        "model.external_ratio_constraint = Constraint(rule=external_ratio_constraint_rule)\n",
        "\n",
        "def acid_strength_constraint_rule(model):\n",
        "    D_hat = 35.82 - 0.222 * model.F\n",
        "    return model.S == (93000 * model.A) / (model.A * D_hat + 1000 * model.A)\n",
        "\n",
        "model.acid_strength_constraint = Constraint(rule=acid_strength_constraint_rule)\n",
        "\n",
        "def material_balance_constraint_rule(model):\n",
        "    return 1.22 * model.Y == model.O + model.M\n",
        "\n",
        "model.material_balance_constraint = Constraint(rule=material_balance_constraint_rule)\n",
        "\n",
        "# Define variable bounds (using sample data)\n",
        "model.O.setlb(0)  # Omin\n",
        "model.O.setub(2000)  # Omax\n",
        "model.R.setlb(0)  # Rmin\n",
        "model.R.setub(16000)  # Rmax\n",
        "model.A.setlb(0)     # Amin\n",
        "model.A.setub(120)    # Amax\n",
        "model.Y.setlb(0)  # Ymin\n",
        "model.Y.setub(5000)  # Ymax\n",
        "model.M.setlb(0)   # Mmin\n",
        "model.M.setub(2000)  # Mmax\n",
        "model.S.setlb(85)    # Smin\n",
        "model.S.setub(93)    # Smax\n",
        "model.N.setlb(90)    # Nmin\n",
        "model.N.setub(95)    # Nmax\n",
        "model.E.setlb(3)     # Emin\n",
        "model.E.setub(12)     # Emax\n",
        "model.D.setlb(1.2)     # Dmin\n",
        "model.D.setub(4)   # Dmax\n",
        "model.F.setlb(145)    # Fmin\n",
        "model.F.setub(162)   # Fmax\n",
        "\n",
        "# Solve the optimization problem\n",
        "solver = SolverFactory('ipopt')\n",
        "results = solver.solve(model)\n",
        "\n",
        "# Print the results\n",
        "print(\"Optimal Profit: \", value(model.profit))\n",
        "print(\"Optimal Olefin Feed: \", value(model.O))\n",
        "print(\"Optimal Isobutane Recycle: \", value(model.R))\n",
        "print(\"Optimal Acid Addition Rate: \", value(model.A))\n",
        "print(\"Optimal Alkylate Yield: \", value(model.Y))\n",
        "print(\"Optimal Isobutane Makeup: \", value(model.M))\n",
        "print(\"Optimal Acid Strength: \", value(model.S))\n",
        "print(\"Optimal Motor Octane Number: \", value(model.N))\n",
        "print(\"Optimal External Isobutane-to-Olefin Ratio: \", value(model.E))\n",
        "print(\"Optimal Acid Dilution Factor: \", value(model.D))\n",
        "print(\"Optimal F-4 Performance Number: \", value(model.F))"
      ],
      "metadata": {
        "colab": {
          "base_uri": "https://localhost:8080/"
        },
        "id": "4Y8jgWE_uNhv",
        "outputId": "0df59f0d-2004-42fb-9350-7dbae3125d03"
      },
      "execution_count": 17,
      "outputs": [
        {
          "output_type": "stream",
          "name": "stdout",
          "text": [
            "Optimal Profit:  293406.56231312634\n",
            "Optimal Olefin Feed:  2000.0\n",
            "Optimal Isobutane Recycle:  10086.916412446644\n",
            "Optimal Acid Addition Rate:  0.0\n",
            "Optimal Alkylate Yield:  3278.688557376976\n",
            "Optimal Isobutane Makeup:  2000.0\n",
            "Optimal Acid Strength:  92.89410075945936\n",
            "Optimal Motor Octane Number:  92.78482695732019\n",
            "Optimal External Isobutane-to-Olefin Ratio:  6.043458155788891\n",
            "Optimal Acid Dilution Factor:  1.2\n",
            "Optimal F-4 Performance Number:  156.21621788066807\n"
          ]
        }
      ]
    }
  ]
}