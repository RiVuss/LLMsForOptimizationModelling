{
  "nbformat": 4,
  "nbformat_minor": 0,
  "metadata": {
    "colab": {
      "provenance": []
    },
    "kernelspec": {
      "name": "python3",
      "display_name": "Python 3"
    },
    "language_info": {
      "name": "python"
    }
  },
  "cells": [
    {
      "cell_type": "markdown",
      "source": [
        "# 0. Imports and Setting up Anthropic API Client"
      ],
      "metadata": {
        "id": "y5fw0lkBwBbo"
      }
    },
    {
      "cell_type": "code",
      "source": [
        "from google.colab import drive\n",
        "\n",
        "drive.mount('/content/drive')"
      ],
      "metadata": {
        "colab": {
          "base_uri": "https://localhost:8080/"
        },
        "id": "e7tWOLo0yMoH",
        "outputId": "fb759c13-b2d5-4886-d292-8c0509fc2639"
      },
      "execution_count": 1,
      "outputs": [
        {
          "output_type": "stream",
          "name": "stdout",
          "text": [
            "Mounted at /content/drive\n"
          ]
        }
      ]
    },
    {
      "cell_type": "code",
      "source": [
        "!pip install python-dotenv\n",
        "\n",
        "import os\n",
        "import dotenv\n",
        "\n",
        "dotenv.load_dotenv('/content/drive/MyDrive/.env')"
      ],
      "metadata": {
        "colab": {
          "base_uri": "https://localhost:8080/"
        },
        "id": "utcEK8lZ1Z1R",
        "outputId": "e2c3e413-fb1e-4b82-aa54-e7af3e646486"
      },
      "execution_count": 2,
      "outputs": [
        {
          "output_type": "stream",
          "name": "stdout",
          "text": [
            "Collecting python-dotenv\n",
            "  Downloading python_dotenv-1.0.1-py3-none-any.whl (19 kB)\n",
            "Installing collected packages: python-dotenv\n",
            "Successfully installed python-dotenv-1.0.1\n"
          ]
        },
        {
          "output_type": "execute_result",
          "data": {
            "text/plain": [
              "True"
            ]
          },
          "metadata": {},
          "execution_count": 2
        }
      ]
    },
    {
      "cell_type": "code",
      "source": [
        "# Load Prompts and Problem Description\n",
        "# Variables Prompt\n",
        "prompt11_path = '/content/drive/MyDrive/Thesis/Prompts/Prompt11_MathematicalModel.txt'\n",
        "\n",
        "# Objective Prompt\n",
        "prompt12_path = '/content/drive/MyDrive/Thesis/Prompts/Prompt12_MathematicalModel.txt'\n",
        "\n",
        "# Constraint Prompt\n",
        "prompt13_path = '/content/drive/MyDrive/Thesis/Prompts/Prompt13_MathematicalModel.txt'\n",
        "\n",
        "# Code Prompt\n",
        "prompt2_path = '/content/drive/MyDrive/Thesis/Prompts/Prompt2_PyomoCode.txt'\n",
        "problem_desc_path = '/content/drive/MyDrive/Thesis/ProblemDescriptions/NL/NL3.txt'\n",
        "\n",
        "prompt11_file = open(prompt11_path, \"r\")\n",
        "prompt12_file = open(prompt12_path, \"r\")\n",
        "prompt13_file = open(prompt13_path, \"r\")\n",
        "prompt2_file = open(prompt2_path, \"r\")\n",
        "problem_desc_file = open(problem_desc_path, \"r\")\n",
        "\n",
        "prompt11 = prompt11_file.read()\n",
        "print(\"Prompt 1.1 (Variables):\\n\", prompt11)\n",
        "\n",
        "prompt12 = prompt12_file.read()\n",
        "print(\"Prompt 1.2 (Objctive):\\n\", prompt12)\n",
        "\n",
        "prompt13 = prompt13_file.read()\n",
        "print(\"Prompt 1.3 (Constraints):\\n\", prompt13)\n",
        "\n",
        "prompt2 = prompt2_file.read()\n",
        "print(\"Prompt 2:\\n\", prompt2)\n",
        "\n",
        "problem_desc = problem_desc_file.read()\n",
        "print(\"Problem Description:\\n\", problem_desc)"
      ],
      "metadata": {
        "colab": {
          "base_uri": "https://localhost:8080/"
        },
        "id": "9KlkjwMUS4xp",
        "outputId": "5f6ffffc-5926-4093-db93-60c2e6cbccd3"
      },
      "execution_count": 3,
      "outputs": [
        {
          "output_type": "stream",
          "name": "stdout",
          "text": [
            "Prompt 1.1 (Variables):\n",
            " Please formulate only the variables for this mathematical optimization problem. \n",
            "Prompt 1.2 (Objctive):\n",
            " Please formulate only the objective function for this mathematical optimization problem. \n",
            "Prompt 1.3 (Constraints):\n",
            " Please formulate only the constraints for this mathematical optimization problem. \n",
            "Prompt 2:\n",
            " Please write a python pyomo code for this optimization problem.\n",
            "Use sample data where needed.\n",
            "Indicate where you use sample data.\n",
            "Problem Description:\n",
            " A buyer needs to acquire 239,600,480 units of a product and is considering bids from five suppliers, labeled A through E, each of whom can only supply a portion of the total required amount.\n",
            "Each vendor has proposed different pricing structures, incorporating both setup fees and variable unit costs that change based on the quantity ordered.\n",
            "\n",
            "The buyer's objective is to allocate the order among these suppliers to minimize overall costs, accounting for both setup and unit costs.\n",
            "\n",
            "Vendor A offers a set up cost of $3855.34 and a unit cost of $61.150 per thousand of units.\n",
            "Vendor A can supply up to 33 million units.\n",
            "\n",
            "Vendor B offers a set up cost of $125,804.84 if purchasing between 22,000,000-70,000,000 units from vendor B with a unit cost of $68.099 per thousand units.\n",
            "If purchasing between 70,000,001-100,000,000 units from vendor B, the set up cost increases to $269304.84 and the unit cost sinks to $66.049 per thousand units.\n",
            "If purchasing between 100,000,001-150,000,000 units from vendor B, the unit cost per thousand units further decreases to $64.099, but the set up cost increases to $464304.84.\n",
            "If purchasing between 150,000,001 and 160,000,000 units from vendor B, the unit cost is $62.119 per thousand units and the set up cost equals $761304.84.\n",
            "\n",
            "Vendor C offers set up costs of $13,456.00 and a unit cost of $62.019 per thousand units.\n",
            "Vendor C can supply up to 165.6 million units. Vendor D offers set up costs of $6,583.98 and a unit cost of $72.488 for a set of thousand units.\n",
            "\n",
            "Vendor D can supply up to 12 million units at a price of $72.488 per thousand units and with a set up cost of $6583.98.\n",
            "\n",
            "Vendor E offers free set up if purchasing between 0 and 42 million units of vendor E with a unit price of $70.150 per thousand units.\n",
            "If purchasing between 42,000,001 and 77 million units from vendor E, the unit cost starts at $68.150 per thousand units, but with every one million units purchased the price decreases at a rate of 0.05 percent. An additional set up cost of $84000 will be charged as well.\n",
            "\n",
            "Note that zero units may be purchased from vendor B: otherwise no positive number of units less than 22,000,000 may be purchased.\n"
          ]
        }
      ]
    },
    {
      "cell_type": "code",
      "source": [
        "!pip install anthropic"
      ],
      "metadata": {
        "colab": {
          "base_uri": "https://localhost:8080/"
        },
        "id": "iWlNsTIvxCcR",
        "outputId": "b3d016a4-0c3a-4040-bf9a-eb3f3101a242",
        "collapsed": true
      },
      "execution_count": 4,
      "outputs": [
        {
          "output_type": "stream",
          "name": "stdout",
          "text": [
            "Collecting anthropic\n",
            "  Downloading anthropic-0.28.0-py3-none-any.whl (862 kB)\n",
            "\u001b[?25l     \u001b[90m━━━━━━━━━━━━━━━━━━━━━━━━━━━━━━━━━━━━━━━━\u001b[0m \u001b[32m0.0/862.7 kB\u001b[0m \u001b[31m?\u001b[0m eta \u001b[36m-:--:--\u001b[0m\r\u001b[2K     \u001b[91m━━━━━━━━━\u001b[0m\u001b[90m╺\u001b[0m\u001b[90m━━━━━━━━━━━━━━━━━━━━━━━━━━━━━━\u001b[0m \u001b[32m204.8/862.7 kB\u001b[0m \u001b[31m6.0 MB/s\u001b[0m eta \u001b[36m0:00:01\u001b[0m\r\u001b[2K     \u001b[91m━━━━━━━━━━━━━━━━━━━━━━━━━━━━━\u001b[0m\u001b[91m╸\u001b[0m\u001b[90m━━━━━━━━━━\u001b[0m \u001b[32m645.1/862.7 kB\u001b[0m \u001b[31m9.2 MB/s\u001b[0m eta \u001b[36m0:00:01\u001b[0m\r\u001b[2K     \u001b[90m━━━━━━━━━━━━━━━━━━━━━━━━━━━━━━━━━━━━━━━━\u001b[0m \u001b[32m862.7/862.7 kB\u001b[0m \u001b[31m9.0 MB/s\u001b[0m eta \u001b[36m0:00:00\u001b[0m\n",
            "\u001b[?25hRequirement already satisfied: anyio<5,>=3.5.0 in /usr/local/lib/python3.10/dist-packages (from anthropic) (3.7.1)\n",
            "Requirement already satisfied: distro<2,>=1.7.0 in /usr/lib/python3/dist-packages (from anthropic) (1.7.0)\n",
            "Collecting httpx<1,>=0.23.0 (from anthropic)\n",
            "  Downloading httpx-0.27.0-py3-none-any.whl (75 kB)\n",
            "\u001b[2K     \u001b[90m━━━━━━━━━━━━━━━━━━━━━━━━━━━━━━━━━━━━━━━━\u001b[0m \u001b[32m75.6/75.6 kB\u001b[0m \u001b[31m9.1 MB/s\u001b[0m eta \u001b[36m0:00:00\u001b[0m\n",
            "\u001b[?25hCollecting jiter<1,>=0.4.0 (from anthropic)\n",
            "  Downloading jiter-0.4.1-cp310-cp310-manylinux_2_17_x86_64.manylinux2014_x86_64.whl (328 kB)\n",
            "\u001b[2K     \u001b[90m━━━━━━━━━━━━━━━━━━━━━━━━━━━━━━━━━━━━━━━━\u001b[0m \u001b[32m328.3/328.3 kB\u001b[0m \u001b[31m12.1 MB/s\u001b[0m eta \u001b[36m0:00:00\u001b[0m\n",
            "\u001b[?25hRequirement already satisfied: pydantic<3,>=1.9.0 in /usr/local/lib/python3.10/dist-packages (from anthropic) (2.7.3)\n",
            "Requirement already satisfied: sniffio in /usr/local/lib/python3.10/dist-packages (from anthropic) (1.3.1)\n",
            "Requirement already satisfied: tokenizers>=0.13.0 in /usr/local/lib/python3.10/dist-packages (from anthropic) (0.19.1)\n",
            "Requirement already satisfied: typing-extensions<5,>=4.7 in /usr/local/lib/python3.10/dist-packages (from anthropic) (4.12.1)\n",
            "Requirement already satisfied: idna>=2.8 in /usr/local/lib/python3.10/dist-packages (from anyio<5,>=3.5.0->anthropic) (3.7)\n",
            "Requirement already satisfied: exceptiongroup in /usr/local/lib/python3.10/dist-packages (from anyio<5,>=3.5.0->anthropic) (1.2.1)\n",
            "Requirement already satisfied: certifi in /usr/local/lib/python3.10/dist-packages (from httpx<1,>=0.23.0->anthropic) (2024.6.2)\n",
            "Collecting httpcore==1.* (from httpx<1,>=0.23.0->anthropic)\n",
            "  Downloading httpcore-1.0.5-py3-none-any.whl (77 kB)\n",
            "\u001b[2K     \u001b[90m━━━━━━━━━━━━━━━━━━━━━━━━━━━━━━━━━━━━━━━━\u001b[0m \u001b[32m77.9/77.9 kB\u001b[0m \u001b[31m9.5 MB/s\u001b[0m eta \u001b[36m0:00:00\u001b[0m\n",
            "\u001b[?25hCollecting h11<0.15,>=0.13 (from httpcore==1.*->httpx<1,>=0.23.0->anthropic)\n",
            "  Downloading h11-0.14.0-py3-none-any.whl (58 kB)\n",
            "\u001b[2K     \u001b[90m━━━━━━━━━━━━━━━━━━━━━━━━━━━━━━━━━━━━━━━━\u001b[0m \u001b[32m58.3/58.3 kB\u001b[0m \u001b[31m7.5 MB/s\u001b[0m eta \u001b[36m0:00:00\u001b[0m\n",
            "\u001b[?25hRequirement already satisfied: annotated-types>=0.4.0 in /usr/local/lib/python3.10/dist-packages (from pydantic<3,>=1.9.0->anthropic) (0.7.0)\n",
            "Requirement already satisfied: pydantic-core==2.18.4 in /usr/local/lib/python3.10/dist-packages (from pydantic<3,>=1.9.0->anthropic) (2.18.4)\n",
            "Requirement already satisfied: huggingface-hub<1.0,>=0.16.4 in /usr/local/lib/python3.10/dist-packages (from tokenizers>=0.13.0->anthropic) (0.23.2)\n",
            "Requirement already satisfied: filelock in /usr/local/lib/python3.10/dist-packages (from huggingface-hub<1.0,>=0.16.4->tokenizers>=0.13.0->anthropic) (3.14.0)\n",
            "Requirement already satisfied: fsspec>=2023.5.0 in /usr/local/lib/python3.10/dist-packages (from huggingface-hub<1.0,>=0.16.4->tokenizers>=0.13.0->anthropic) (2023.6.0)\n",
            "Requirement already satisfied: packaging>=20.9 in /usr/local/lib/python3.10/dist-packages (from huggingface-hub<1.0,>=0.16.4->tokenizers>=0.13.0->anthropic) (24.0)\n",
            "Requirement already satisfied: pyyaml>=5.1 in /usr/local/lib/python3.10/dist-packages (from huggingface-hub<1.0,>=0.16.4->tokenizers>=0.13.0->anthropic) (6.0.1)\n",
            "Requirement already satisfied: requests in /usr/local/lib/python3.10/dist-packages (from huggingface-hub<1.0,>=0.16.4->tokenizers>=0.13.0->anthropic) (2.31.0)\n",
            "Requirement already satisfied: tqdm>=4.42.1 in /usr/local/lib/python3.10/dist-packages (from huggingface-hub<1.0,>=0.16.4->tokenizers>=0.13.0->anthropic) (4.66.4)\n",
            "Requirement already satisfied: charset-normalizer<4,>=2 in /usr/local/lib/python3.10/dist-packages (from requests->huggingface-hub<1.0,>=0.16.4->tokenizers>=0.13.0->anthropic) (3.3.2)\n",
            "Requirement already satisfied: urllib3<3,>=1.21.1 in /usr/local/lib/python3.10/dist-packages (from requests->huggingface-hub<1.0,>=0.16.4->tokenizers>=0.13.0->anthropic) (2.0.7)\n",
            "Installing collected packages: jiter, h11, httpcore, httpx, anthropic\n",
            "Successfully installed anthropic-0.28.0 h11-0.14.0 httpcore-1.0.5 httpx-0.27.0 jiter-0.4.1\n"
          ]
        }
      ]
    },
    {
      "cell_type": "code",
      "execution_count": 5,
      "metadata": {
        "id": "7Qjk2D63v1Bl"
      },
      "outputs": [],
      "source": [
        "# Importing Anthropic & Setting Headers\n",
        "import anthropic\n",
        "\n",
        "client = anthropic.Anthropic(\n",
        "    # defaults to os.environ.get(\"ANTHROPIC_API_KEY\")\n",
        "    api_key=os.environ.get(\"ANTHROPIC_API_KEY\"),\n",
        ")"
      ]
    },
    {
      "cell_type": "markdown",
      "source": [
        "# 1. Prompt 1.1: Create Variables for Mathematical Model"
      ],
      "metadata": {
        "id": "kT7yKbJs18XR"
      }
    },
    {
      "cell_type": "code",
      "source": [
        "message11 = client.messages.create(\n",
        "    model=\"claude-3-opus-20240229\",\n",
        "    system=prompt11,\n",
        "    max_tokens=4096,\n",
        "    messages=[\n",
        "        {\"role\": \"user\", \"content\": problem_desc}\n",
        "    ]\n",
        ")\n",
        "\n",
        "response_p11 = message11.content[0].text"
      ],
      "metadata": {
        "id": "R_6X0axq16D4"
      },
      "execution_count": 6,
      "outputs": []
    },
    {
      "cell_type": "code",
      "source": [
        "# Print response\n",
        "print(response_p11)"
      ],
      "metadata": {
        "colab": {
          "base_uri": "https://localhost:8080/"
        },
        "id": "Ra9Ox_PI38jg",
        "outputId": "1a196d2b-0c4d-4e03-c79c-f8c3c3b357d1"
      },
      "execution_count": 7,
      "outputs": [
        {
          "output_type": "stream",
          "name": "stdout",
          "text": [
            "Here are the variables for this mathematical optimization problem:\n",
            "\n",
            "Let xA be the number of units (in thousands) purchased from vendor A.\n",
            "\n",
            "Let xB1, xB2, xB3, xB4 be the number of units (in thousands) purchased from vendor B in the quantity ranges 22,000,000-70,000,000, 70,000,001-100,000,000, 100,000,001-150,000,000, and 150,000,001-160,000,000 respectively. \n",
            "\n",
            "Let yB be a binary variable that equals 1 if any units are purchased from vendor B, and 0 otherwise.\n",
            "\n",
            "Let xC be the number of units (in thousands) purchased from vendor C.\n",
            "\n",
            "Let xD be the number of units (in thousands) purchased from vendor D.\n",
            "\n",
            "Let xE1 be the number of units (in thousands) purchased from vendor E in the range 0 to 42,000,000.\n",
            "\n",
            "Let xE2 be the number of units (in thousands) purchased from vendor E in the range 42,000,001 to 77,000,000. \n",
            "\n",
            "Let zE2 be the number of full millions of units above 42,000,000 purchased from vendor E (this is to calculate the price decrease for xE2).\n"
          ]
        }
      ]
    },
    {
      "cell_type": "markdown",
      "source": [
        "# 1. Prompt 1.2: Create Objective for Mathematical Model"
      ],
      "metadata": {
        "id": "nbt6yH1snBQL"
      }
    },
    {
      "cell_type": "code",
      "source": [
        "message12 = client.messages.create(\n",
        "    model=\"claude-3-opus-20240229\",\n",
        "    system=prompt12,\n",
        "    max_tokens=4096,\n",
        "    messages=[\n",
        "        {\"role\": \"user\", \"content\": (problem_desc + response_p11)}\n",
        "    ]\n",
        ")\n",
        "\n",
        "response_p12 = message12.content[0].text"
      ],
      "metadata": {
        "id": "ol4rtt_MnAy8"
      },
      "execution_count": 8,
      "outputs": []
    },
    {
      "cell_type": "code",
      "source": [
        "# Print response\n",
        "print(response_p12)"
      ],
      "metadata": {
        "colab": {
          "base_uri": "https://localhost:8080/"
        },
        "id": "Vz2F_EARnzHf",
        "outputId": "bfac3c04-9c82-4e8e-d88f-8ab07580ca1b"
      },
      "execution_count": 9,
      "outputs": [
        {
          "output_type": "stream",
          "name": "stdout",
          "text": [
            "Here is the objective function for the given mathematical optimization problem:\n",
            "\n",
            "Minimize:\n",
            "3855.34 + 61.150xA\n",
            "+ 125804.84yB + 68.099xB1 \n",
            "+ 269304.84yB + 66.049xB2\n",
            "+ 464304.84yB + 64.099xB3\n",
            "+ 761304.84yB + 62.119xB4\n",
            "+ 13456 + 62.019xC \n",
            "+ 6583.98 + 72.488xD\n",
            "+ 70.150xE1\n",
            "+ 84000 + (68.150 - 0.0005*68.150*zE2)xE2\n",
            "\n",
            "The objective is to minimize the total cost, which includes the setup costs and the variable unit costs for each vendor, based on the quantity allocated to them. The binary variable yB ensures the appropriate setup cost is charged if any units are purchased from vendor B. For vendor E, the variable zE2 is used to calculate the price decrease for units purchased above 42 million.\n"
          ]
        }
      ]
    },
    {
      "cell_type": "markdown",
      "source": [
        "# 1. Prompt 1.3: Create Constraints for Mathematical Model\n"
      ],
      "metadata": {
        "id": "Wzf33DwvnEar"
      }
    },
    {
      "cell_type": "code",
      "source": [
        "message13 = client.messages.create(\n",
        "    model=\"claude-3-opus-20240229\",\n",
        "    system=prompt13,\n",
        "    max_tokens=4096,\n",
        "    messages=[\n",
        "        {\"role\": \"user\", \"content\": (problem_desc + response_p11 + response_p12)}\n",
        "    ]\n",
        ")\n",
        "\n",
        "response_p13 = message13.content[0].text"
      ],
      "metadata": {
        "id": "l1UAJRt7nENG"
      },
      "execution_count": 10,
      "outputs": []
    },
    {
      "cell_type": "code",
      "source": [
        "# Print response\n",
        "print(response_p13)"
      ],
      "metadata": {
        "colab": {
          "base_uri": "https://localhost:8080/"
        },
        "id": "vH7Ff9mxn4FZ",
        "outputId": "56512356-d96e-4ce2-d785-ce46b05187da"
      },
      "execution_count": 11,
      "outputs": [
        {
          "output_type": "stream",
          "name": "stdout",
          "text": [
            "Here are the constraints for this mathematical optimization problem:\n",
            "\n",
            "1. Total quantity constraint:\n",
            "   xA + xB1 + xB2 + xB3 + xB4 + xC + xD + xE1 + xE2 = 239600.480\n",
            "\n",
            "2. Vendor capacity constraints:\n",
            "   xA <= 33000\n",
            "   xC <= 165600\n",
            "   xD <= 12000\n",
            "   xE1 + xE2 <= 77000\n",
            "\n",
            "3. Vendor B quantity range constraints:\n",
            "   22000 yB <= xB1 <= 70000 yB\n",
            "   70000 yB <= xB2 <= 100000 yB\n",
            "   100000 yB <= xB3 <= 150000 yB\n",
            "   150000 yB <= xB4 <= 160000 yB\n",
            "\n",
            "4. Vendor E quantity range constraints:\n",
            "   0 <= xE1 <= 42000\n",
            "   42000 <= xE2 <= 77000\n",
            "\n",
            "5. Vendor B binary variable constraint:\n",
            "   yB is binary\n",
            "\n",
            "6. Vendor E price decrease calculation constraint:\n",
            "   zE2 = floor((xE2 - 42000) / 1000)\n",
            "\n",
            "7. Non-negativity constraints:\n",
            "   xA, xB1, xB2, xB3, xB4, xC, xD, xE1, xE2, zE2 >= 0\n",
            "\n",
            "The constraints ensure that:\n",
            "1. The total quantity purchased from all vendors equals the required amount.\n",
            "2. The quantity purchased from each vendor does not exceed their capacity.\n",
            "3. The quantity ranges for vendor B are respected, and the binary variable yB is used to enforce the setup cost.\n",
            "4. The quantity ranges for vendor E are respected.\n",
            "5. The binary variable yB is defined.\n",
            "6. The variable zE2 is calculated to determine the price decrease for units purchased from vendor E above 42 million.\n",
            "7. All decision variables are non-negative.\n"
          ]
        }
      ]
    },
    {
      "cell_type": "markdown",
      "source": [
        "# 2. Prompt 2: Write Code based on Mathematical Model\n",
        "\n",
        "In case more than the component of each step was generated, use \"last instance\"/ \"newest version\" of the components.\n",
        "\n",
        "Example:\n",
        "Prompt 1.1 (Variables): Model generates only variables\n",
        "Prompt 1.2 (Objectvie): Model generates objective and constraints\n",
        "Prompt 1.3 (Constraints): Model generates only constraints\n",
        "\n",
        "Use Variables from step 1.1, use objective from 1.2 and use constraints from 1.3 (since constraints version 1.3 is more recent than constraints version 1.2).\n",
        "\n",
        "This set up allows for potential self-correction of the model throughout the three prompts.\n",
        "\n",
        "Correctness of each component is still generated in the respective step, so self-correction is independent of this."
      ],
      "metadata": {
        "id": "WPZ6lgBO729j"
      }
    },
    {
      "cell_type": "code",
      "source": [
        "message2 = client.messages.create(\n",
        "    model=\"claude-3-opus-20240229\",\n",
        "    system=prompt2,\n",
        "    max_tokens=4069,\n",
        "    messages=[\n",
        "        {\"role\": \"user\", \"content\": (response_p11+ response_p12 + response_p13)}\n",
        "    ]\n",
        ")\n",
        "\n",
        "response_p2 = message2.content[0].text"
      ],
      "metadata": {
        "id": "1iUSgBda70FL"
      },
      "execution_count": 12,
      "outputs": []
    },
    {
      "cell_type": "code",
      "source": [
        "# Print response\n",
        "print(response_p2)"
      ],
      "metadata": {
        "colab": {
          "base_uri": "https://localhost:8080/"
        },
        "id": "o40mxc_H8eQ9",
        "outputId": "18510e49-76c1-4bb5-b491-db54c8b4efc2"
      },
      "execution_count": 13,
      "outputs": [
        {
          "output_type": "stream",
          "name": "stdout",
          "text": [
            "Here's a Python Pyomo code that solves the optimization problem based on the provided variables, objective function, and constraints:\n",
            "\n",
            "```python\n",
            "from pyomo.environ import *\n",
            "\n",
            "# Create a Pyomo model\n",
            "model = ConcreteModel()\n",
            "\n",
            "# Define decision variables\n",
            "model.xA = Var(domain=NonNegativeReals)\n",
            "model.xB1 = Var(domain=NonNegativeReals)\n",
            "model.xB2 = Var(domain=NonNegativeReals)\n",
            "model.xB3 = Var(domain=NonNegativeReals)\n",
            "model.xB4 = Var(domain=NonNegativeReals)\n",
            "model.yB = Var(domain=Binary)\n",
            "model.xC = Var(domain=NonNegativeReals)\n",
            "model.xD = Var(domain=NonNegativeReals)\n",
            "model.xE1 = Var(domain=NonNegativeReals)\n",
            "model.xE2 = Var(domain=NonNegativeReals)\n",
            "model.zE2 = Var(domain=NonNegativeReals)\n",
            "\n",
            "# Define objective function\n",
            "def objective_rule(model):\n",
            "    return (\n",
            "        3855.34 + 61.150 * model.xA\n",
            "        + 125804.84 * model.yB + 68.099 * model.xB1\n",
            "        + 269304.84 * model.yB + 66.049 * model.xB2\n",
            "        + 464304.84 * model.yB + 64.099 * model.xB3\n",
            "        + 761304.84 * model.yB + 62.119 * model.xB4\n",
            "        + 13456 + 62.019 * model.xC\n",
            "        + 6583.98 + 72.488 * model.xD\n",
            "        + 70.150 * model.xE1\n",
            "        + 84000 + (68.150 - 0.0005 * 68.150 * model.zE2) * model.xE2\n",
            "    )\n",
            "model.objective = Objective(rule=objective_rule, sense=minimize)\n",
            "\n",
            "# Define constraints\n",
            "model.total_quantity = Constraint(expr=model.xA + model.xB1 + model.xB2 + model.xB3 + model.xB4 + model.xC + model.xD + model.xE1 + model.xE2 == 239600.480)\n",
            "model.capacity_A = Constraint(expr=model.xA <= 33000)\n",
            "model.capacity_C = Constraint(expr=model.xC <= 165600)\n",
            "model.capacity_D = Constraint(expr=model.xD <= 12000)\n",
            "model.capacity_E = Constraint(expr=model.xE1 + model.xE2 <= 77000)\n",
            "model.range_B1 = Constraint(expr=22000 * model.yB <= model.xB1 <= 70000 * model.yB)\n",
            "model.range_B2 = Constraint(expr=70000 * model.yB <= model.xB2 <= 100000 * model.yB)\n",
            "model.range_B3 = Constraint(expr=100000 * model.yB <= model.xB3 <= 150000 * model.yB)\n",
            "model.range_B4 = Constraint(expr=150000 * model.yB <= model.xB4 <= 160000 * model.yB)\n",
            "model.range_E1 = Constraint(expr=0 <= model.xE1 <= 42000)\n",
            "model.range_E2 = Constraint(expr=42000 <= model.xE2 <= 77000)\n",
            "model.price_decrease = Constraint(expr=model.zE2 == floor((model.xE2 - 42000) / 1000))\n",
            "\n",
            "# Solve the model\n",
            "solver = SolverFactory('glpk')  # Specify the solver (e.g., 'glpk', 'cplex', 'gurobi')\n",
            "results = solver.solve(model)\n",
            "\n",
            "# Print the results\n",
            "print(\"Objective value:\", value(model.objective))\n",
            "print(\"xA =\", value(model.xA))\n",
            "print(\"xB1 =\", value(model.xB1))\n",
            "print(\"xB2 =\", value(model.xB2))\n",
            "print(\"xB3 =\", value(model.xB3))\n",
            "print(\"xB4 =\", value(model.xB4))\n",
            "print(\"yB =\", value(model.yB))\n",
            "print(\"xC =\", value(model.xC))\n",
            "print(\"xD =\", value(model.xD))\n",
            "print(\"xE1 =\", value(model.xE1))\n",
            "print(\"xE2 =\", value(model.xE2))\n",
            "print(\"zE2 =\", value(model.zE2))\n",
            "```\n",
            "\n",
            "Please note that this code assumes you have Pyomo installed and a suitable solver (e.g., GLPK, CPLEX, Gurobi) available. You may need to modify the solver name based on your installation.\n",
            "\n",
            "This code defines the decision variables, objective function, and constraints as per the provided problem description. The `floor` function used in the `price_decrease` constraint is assumed to be a custom function that calculates the floor value of the expression.\n",
            "\n",
            "The code solves the optimization problem and prints the objective value and the values of the decision variables.\n",
            "\n",
            "Note: Since you mentioned using sample data where needed, I assumed that the total quantity required (239600.480) is a sample value. If you have actual data, replace this value with the correct one.\n"
          ]
        }
      ]
    },
    {
      "cell_type": "markdown",
      "source": [
        "# 4. Input Problem Data and Test Model Code"
      ],
      "metadata": {
        "id": "Pc0QqJuf8up_"
      }
    },
    {
      "cell_type": "code",
      "source": [
        "# Installing pyomo nd solver\n",
        "!pip install -q pyomo\n",
        "!pip install pandas\n",
        "!apt-get install -y -qq glpk-utils\n",
        "!pip install glpk"
      ],
      "metadata": {
        "colab": {
          "base_uri": "https://localhost:8080/"
        },
        "id": "3BtROuLu9O-p",
        "outputId": "a48b1abc-2090-430e-8cf2-02e0fff1542c",
        "collapsed": true
      },
      "execution_count": 15,
      "outputs": [
        {
          "output_type": "stream",
          "name": "stdout",
          "text": [
            "Requirement already satisfied: pandas in /usr/local/lib/python3.10/dist-packages (2.0.3)\n",
            "Requirement already satisfied: python-dateutil>=2.8.2 in /usr/local/lib/python3.10/dist-packages (from pandas) (2.8.2)\n",
            "Requirement already satisfied: pytz>=2020.1 in /usr/local/lib/python3.10/dist-packages (from pandas) (2023.4)\n",
            "Requirement already satisfied: tzdata>=2022.1 in /usr/local/lib/python3.10/dist-packages (from pandas) (2024.1)\n",
            "Requirement already satisfied: numpy>=1.21.0 in /usr/local/lib/python3.10/dist-packages (from pandas) (1.25.2)\n",
            "Requirement already satisfied: six>=1.5 in /usr/local/lib/python3.10/dist-packages (from python-dateutil>=2.8.2->pandas) (1.16.0)\n",
            "Selecting previously unselected package libsuitesparseconfig5:amd64.\n",
            "(Reading database ... 121913 files and directories currently installed.)\n",
            "Preparing to unpack .../libsuitesparseconfig5_1%3a5.10.1+dfsg-4build1_amd64.deb ...\n",
            "Unpacking libsuitesparseconfig5:amd64 (1:5.10.1+dfsg-4build1) ...\n",
            "Selecting previously unselected package libamd2:amd64.\n",
            "Preparing to unpack .../libamd2_1%3a5.10.1+dfsg-4build1_amd64.deb ...\n",
            "Unpacking libamd2:amd64 (1:5.10.1+dfsg-4build1) ...\n",
            "Selecting previously unselected package libcolamd2:amd64.\n",
            "Preparing to unpack .../libcolamd2_1%3a5.10.1+dfsg-4build1_amd64.deb ...\n",
            "Unpacking libcolamd2:amd64 (1:5.10.1+dfsg-4build1) ...\n",
            "Selecting previously unselected package libglpk40:amd64.\n",
            "Preparing to unpack .../libglpk40_5.0-1_amd64.deb ...\n",
            "Unpacking libglpk40:amd64 (5.0-1) ...\n",
            "Selecting previously unselected package glpk-utils.\n",
            "Preparing to unpack .../glpk-utils_5.0-1_amd64.deb ...\n",
            "Unpacking glpk-utils (5.0-1) ...\n",
            "Setting up libsuitesparseconfig5:amd64 (1:5.10.1+dfsg-4build1) ...\n",
            "Setting up libamd2:amd64 (1:5.10.1+dfsg-4build1) ...\n",
            "Setting up libcolamd2:amd64 (1:5.10.1+dfsg-4build1) ...\n",
            "Setting up libglpk40:amd64 (5.0-1) ...\n",
            "Setting up glpk-utils (5.0-1) ...\n",
            "Processing triggers for man-db (2.10.2-1) ...\n",
            "Processing triggers for libc-bin (2.35-0ubuntu3.4) ...\n",
            "/sbin/ldconfig.real: /usr/local/lib/libtbbbind_2_0.so.3 is not a symbolic link\n",
            "\n",
            "/sbin/ldconfig.real: /usr/local/lib/libtbbbind_2_5.so.3 is not a symbolic link\n",
            "\n",
            "/sbin/ldconfig.real: /usr/local/lib/libtbb.so.12 is not a symbolic link\n",
            "\n",
            "/sbin/ldconfig.real: /usr/local/lib/libtbbbind.so.3 is not a symbolic link\n",
            "\n",
            "/sbin/ldconfig.real: /usr/local/lib/libtbbmalloc_proxy.so.2 is not a symbolic link\n",
            "\n",
            "/sbin/ldconfig.real: /usr/local/lib/libtbbmalloc.so.2 is not a symbolic link\n",
            "\n",
            "Collecting glpk\n",
            "  Downloading glpk-0.4.7.tar.gz (161 kB)\n",
            "\u001b[2K     \u001b[90m━━━━━━━━━━━━━━━━━━━━━━━━━━━━━━━━━━━━━━━━\u001b[0m \u001b[32m161.2/161.2 kB\u001b[0m \u001b[31m4.1 MB/s\u001b[0m eta \u001b[36m0:00:00\u001b[0m\n",
            "\u001b[?25h  Installing build dependencies ... \u001b[?25l\u001b[?25hdone\n",
            "  Getting requirements to build wheel ... \u001b[?25l\u001b[?25hdone\n",
            "  Preparing metadata (pyproject.toml) ... \u001b[?25l\u001b[?25hdone\n",
            "Building wheels for collected packages: glpk\n",
            "  \u001b[1;31merror\u001b[0m: \u001b[1msubprocess-exited-with-error\u001b[0m\n",
            "  \n",
            "  \u001b[31m×\u001b[0m \u001b[32mBuilding wheel for glpk \u001b[0m\u001b[1;32m(\u001b[0m\u001b[32mpyproject.toml\u001b[0m\u001b[1;32m)\u001b[0m did not run successfully.\n",
            "  \u001b[31m│\u001b[0m exit code: \u001b[1;36m1\u001b[0m\n",
            "  \u001b[31m╰─>\u001b[0m See above for output.\n",
            "  \n",
            "  \u001b[1;35mnote\u001b[0m: This error originates from a subprocess, and is likely not a problem with pip.\n",
            "  Building wheel for glpk (pyproject.toml) ... \u001b[?25l\u001b[?25herror\n",
            "\u001b[31m  ERROR: Failed building wheel for glpk\u001b[0m\u001b[31m\n",
            "\u001b[0mFailed to build glpk\n",
            "\u001b[31mERROR: Could not build wheels for glpk, which is required to install pyproject.toml-based projects\u001b[0m\u001b[31m\n",
            "\u001b[0m"
          ]
        }
      ]
    },
    {
      "cell_type": "code",
      "source": [
        "from pyomo.environ import *\n",
        "\n",
        "# Create a Pyomo model\n",
        "model = ConcreteModel()\n",
        "\n",
        "# Define decision variables\n",
        "model.xA = Var(domain=NonNegativeReals)\n",
        "model.xB1 = Var(domain=NonNegativeReals)\n",
        "model.xB2 = Var(domain=NonNegativeReals)\n",
        "model.xB3 = Var(domain=NonNegativeReals)\n",
        "model.xB4 = Var(domain=NonNegativeReals)\n",
        "model.yB = Var(domain=Binary)\n",
        "model.xC = Var(domain=NonNegativeReals)\n",
        "model.xD = Var(domain=NonNegativeReals)\n",
        "model.xE1 = Var(domain=NonNegativeReals)\n",
        "model.xE2 = Var(domain=NonNegativeReals)\n",
        "model.zE2 = Var(domain=NonNegativeReals)\n",
        "\n",
        "# Define objective function\n",
        "def objective_rule(model):\n",
        "    return (\n",
        "        3855.34 + 61.150 * model.xA\n",
        "        + 125804.84 * model.yB + 68.099 * model.xB1\n",
        "        + 269304.84 * model.yB + 66.049 * model.xB2\n",
        "        + 464304.84 * model.yB + 64.099 * model.xB3\n",
        "        + 761304.84 * model.yB + 62.119 * model.xB4\n",
        "        + 13456 + 62.019 * model.xC\n",
        "        + 6583.98 + 72.488 * model.xD\n",
        "        + 70.150 * model.xE1\n",
        "        + 84000 + (68.150 - 0.0005 * 68.150 * model.zE2) * model.xE2\n",
        "    )\n",
        "model.objective = Objective(rule=objective_rule, sense=minimize)\n",
        "\n",
        "# Define constraints\n",
        "model.total_quantity = Constraint(expr=model.xA + model.xB1 + model.xB2 + model.xB3 + model.xB4 + model.xC + model.xD + model.xE1 + model.xE2 == 239600.480)\n",
        "model.capacity_A = Constraint(expr=model.xA <= 33000)\n",
        "model.capacity_C = Constraint(expr=model.xC <= 165600)\n",
        "model.capacity_D = Constraint(expr=model.xD <= 12000)\n",
        "model.capacity_E = Constraint(expr=model.xE1 + model.xE2 <= 77000)\n",
        "model.range_B1 = Constraint(expr=22000 * model.yB <= model.xB1 <= 70000 * model.yB)\n",
        "model.range_B2 = Constraint(expr=70000 * model.yB <= model.xB2 <= 100000 * model.yB)\n",
        "model.range_B3 = Constraint(expr=100000 * model.yB <= model.xB3 <= 150000 * model.yB)\n",
        "model.range_B4 = Constraint(expr=150000 * model.yB <= model.xB4 <= 160000 * model.yB)\n",
        "model.range_E1 = Constraint(expr=0 <= model.xE1 <= 42000)\n",
        "model.range_E2 = Constraint(expr=42000 <= model.xE2 <= 77000)\n",
        "model.price_decrease = Constraint(expr=model.zE2 == floor((model.xE2 - 42000) / 1000))\n",
        "\n",
        "# Solve the model\n",
        "solver = SolverFactory('glpk')  # Specify the solver (e.g., 'glpk', 'cplex', 'gurobi')\n",
        "results = solver.solve(model)\n",
        "\n",
        "# Print the results\n",
        "print(\"Objective value:\", value(model.objective))\n",
        "print(\"xA =\", value(model.xA))\n",
        "print(\"xB1 =\", value(model.xB1))\n",
        "print(\"xB2 =\", value(model.xB2))\n",
        "print(\"xB3 =\", value(model.xB3))\n",
        "print(\"xB4 =\", value(model.xB4))\n",
        "print(\"yB =\", value(model.yB))\n",
        "print(\"xC =\", value(model.xC))\n",
        "print(\"xD =\", value(model.xD))\n",
        "print(\"xE1 =\", value(model.xE1))\n",
        "print(\"xE2 =\", value(model.xE2))\n",
        "print(\"zE2 =\", value(model.zE2))"
      ],
      "metadata": {
        "colab": {
          "base_uri": "https://localhost:8080/",
          "height": 523
        },
        "id": "8FpHcuWU8rQ2",
        "outputId": "89f500b8-1813-4cee-ecfc-e07729355287"
      },
      "execution_count": 16,
      "outputs": [
        {
          "output_type": "error",
          "ename": "PyomoException",
          "evalue": "Cannot convert non-constant Pyomo expression (22000*yB  <=  xB1) to bool.\nThis error is usually caused by using a Var, unit, or mutable Param in a\nBoolean context such as an \"if\" statement, or when checking container\nmembership or equality. For example,\n    >>> m.x = Var()\n    >>> if m.x >= 1:\n    ...     pass\nand\n    >>> m.y = Var()\n    >>> if m.y in [m.x, m.y]:\n    ...     pass\nwould both cause this exception.",
          "traceback": [
            "\u001b[0;31m---------------------------------------------------------------------------\u001b[0m",
            "\u001b[0;31mPyomoException\u001b[0m                            Traceback (most recent call last)",
            "\u001b[0;32m<ipython-input-16-7e205cbc7de7>\u001b[0m in \u001b[0;36m<cell line: 40>\u001b[0;34m()\u001b[0m\n\u001b[1;32m     38\u001b[0m \u001b[0mmodel\u001b[0m\u001b[0;34m.\u001b[0m\u001b[0mcapacity_D\u001b[0m \u001b[0;34m=\u001b[0m \u001b[0mConstraint\u001b[0m\u001b[0;34m(\u001b[0m\u001b[0mexpr\u001b[0m\u001b[0;34m=\u001b[0m\u001b[0mmodel\u001b[0m\u001b[0;34m.\u001b[0m\u001b[0mxD\u001b[0m \u001b[0;34m<=\u001b[0m \u001b[0;36m12000\u001b[0m\u001b[0;34m)\u001b[0m\u001b[0;34m\u001b[0m\u001b[0;34m\u001b[0m\u001b[0m\n\u001b[1;32m     39\u001b[0m \u001b[0mmodel\u001b[0m\u001b[0;34m.\u001b[0m\u001b[0mcapacity_E\u001b[0m \u001b[0;34m=\u001b[0m \u001b[0mConstraint\u001b[0m\u001b[0;34m(\u001b[0m\u001b[0mexpr\u001b[0m\u001b[0;34m=\u001b[0m\u001b[0mmodel\u001b[0m\u001b[0;34m.\u001b[0m\u001b[0mxE1\u001b[0m \u001b[0;34m+\u001b[0m \u001b[0mmodel\u001b[0m\u001b[0;34m.\u001b[0m\u001b[0mxE2\u001b[0m \u001b[0;34m<=\u001b[0m \u001b[0;36m77000\u001b[0m\u001b[0;34m)\u001b[0m\u001b[0;34m\u001b[0m\u001b[0;34m\u001b[0m\u001b[0m\n\u001b[0;32m---> 40\u001b[0;31m \u001b[0mmodel\u001b[0m\u001b[0;34m.\u001b[0m\u001b[0mrange_B1\u001b[0m \u001b[0;34m=\u001b[0m \u001b[0mConstraint\u001b[0m\u001b[0;34m(\u001b[0m\u001b[0mexpr\u001b[0m\u001b[0;34m=\u001b[0m\u001b[0;36m22000\u001b[0m \u001b[0;34m*\u001b[0m \u001b[0mmodel\u001b[0m\u001b[0;34m.\u001b[0m\u001b[0myB\u001b[0m \u001b[0;34m<=\u001b[0m \u001b[0mmodel\u001b[0m\u001b[0;34m.\u001b[0m\u001b[0mxB1\u001b[0m \u001b[0;34m<=\u001b[0m \u001b[0;36m70000\u001b[0m \u001b[0;34m*\u001b[0m \u001b[0mmodel\u001b[0m\u001b[0;34m.\u001b[0m\u001b[0myB\u001b[0m\u001b[0;34m)\u001b[0m\u001b[0;34m\u001b[0m\u001b[0;34m\u001b[0m\u001b[0m\n\u001b[0m\u001b[1;32m     41\u001b[0m \u001b[0mmodel\u001b[0m\u001b[0;34m.\u001b[0m\u001b[0mrange_B2\u001b[0m \u001b[0;34m=\u001b[0m \u001b[0mConstraint\u001b[0m\u001b[0;34m(\u001b[0m\u001b[0mexpr\u001b[0m\u001b[0;34m=\u001b[0m\u001b[0;36m70000\u001b[0m \u001b[0;34m*\u001b[0m \u001b[0mmodel\u001b[0m\u001b[0;34m.\u001b[0m\u001b[0myB\u001b[0m \u001b[0;34m<=\u001b[0m \u001b[0mmodel\u001b[0m\u001b[0;34m.\u001b[0m\u001b[0mxB2\u001b[0m \u001b[0;34m<=\u001b[0m \u001b[0;36m100000\u001b[0m \u001b[0;34m*\u001b[0m \u001b[0mmodel\u001b[0m\u001b[0;34m.\u001b[0m\u001b[0myB\u001b[0m\u001b[0;34m)\u001b[0m\u001b[0;34m\u001b[0m\u001b[0;34m\u001b[0m\u001b[0m\n\u001b[1;32m     42\u001b[0m \u001b[0mmodel\u001b[0m\u001b[0;34m.\u001b[0m\u001b[0mrange_B3\u001b[0m \u001b[0;34m=\u001b[0m \u001b[0mConstraint\u001b[0m\u001b[0;34m(\u001b[0m\u001b[0mexpr\u001b[0m\u001b[0;34m=\u001b[0m\u001b[0;36m100000\u001b[0m \u001b[0;34m*\u001b[0m \u001b[0mmodel\u001b[0m\u001b[0;34m.\u001b[0m\u001b[0myB\u001b[0m \u001b[0;34m<=\u001b[0m \u001b[0mmodel\u001b[0m\u001b[0;34m.\u001b[0m\u001b[0mxB3\u001b[0m \u001b[0;34m<=\u001b[0m \u001b[0;36m150000\u001b[0m \u001b[0;34m*\u001b[0m \u001b[0mmodel\u001b[0m\u001b[0;34m.\u001b[0m\u001b[0myB\u001b[0m\u001b[0;34m)\u001b[0m\u001b[0;34m\u001b[0m\u001b[0;34m\u001b[0m\u001b[0m\n",
            "\u001b[0;32m/usr/local/lib/python3.10/dist-packages/pyomo/core/expr/relational_expr.py\u001b[0m in \u001b[0;36m__bool__\u001b[0;34m(self)\u001b[0m\n\u001b[1;32m     45\u001b[0m         \u001b[0;32mif\u001b[0m \u001b[0mself\u001b[0m\u001b[0;34m.\u001b[0m\u001b[0mis_constant\u001b[0m\u001b[0;34m(\u001b[0m\u001b[0;34m)\u001b[0m\u001b[0;34m:\u001b[0m\u001b[0;34m\u001b[0m\u001b[0;34m\u001b[0m\u001b[0m\n\u001b[1;32m     46\u001b[0m             \u001b[0;32mreturn\u001b[0m \u001b[0mbool\u001b[0m\u001b[0;34m(\u001b[0m\u001b[0mself\u001b[0m\u001b[0;34m(\u001b[0m\u001b[0;34m)\u001b[0m\u001b[0;34m)\u001b[0m\u001b[0;34m\u001b[0m\u001b[0;34m\u001b[0m\u001b[0m\n\u001b[0;32m---> 47\u001b[0;31m         raise PyomoException(\n\u001b[0m\u001b[1;32m     48\u001b[0m             \"\"\"\n\u001b[1;32m     49\u001b[0m \u001b[0mCannot\u001b[0m \u001b[0mconvert\u001b[0m \u001b[0mnon\u001b[0m\u001b[0;34m-\u001b[0m\u001b[0mconstant\u001b[0m \u001b[0mPyomo\u001b[0m \u001b[0mexpression\u001b[0m \u001b[0;34m(\u001b[0m\u001b[0;34m%\u001b[0m\u001b[0ms\u001b[0m\u001b[0;34m)\u001b[0m \u001b[0mto\u001b[0m \u001b[0mbool\u001b[0m\u001b[0;34m.\u001b[0m\u001b[0;34m\u001b[0m\u001b[0;34m\u001b[0m\u001b[0m\n",
            "\u001b[0;31mPyomoException\u001b[0m: Cannot convert non-constant Pyomo expression (22000*yB  <=  xB1) to bool.\nThis error is usually caused by using a Var, unit, or mutable Param in a\nBoolean context such as an \"if\" statement, or when checking container\nmembership or equality. For example,\n    >>> m.x = Var()\n    >>> if m.x >= 1:\n    ...     pass\nand\n    >>> m.y = Var()\n    >>> if m.y in [m.x, m.y]:\n    ...     pass\nwould both cause this exception."
          ]
        }
      ]
    },
    {
      "cell_type": "markdown",
      "source": [
        "# 5. Correct The Model Code to Test Mathematical Model (if applicable)"
      ],
      "metadata": {
        "id": "KHTyoLQTWZVy"
      }
    },
    {
      "cell_type": "code",
      "source": [
        "%%capture\n",
        "import sys\n",
        "import os\n",
        "\n",
        "if 'google.colab' in sys.modules:\n",
        "    !pip install idaes-pse --pre\n",
        "    !idaes get-extensions --to ./bin\n",
        "    os.environ['PATH'] += ':bin'"
      ],
      "metadata": {
        "id": "X6i0_k5AasUn"
      },
      "execution_count": 17,
      "outputs": []
    },
    {
      "cell_type": "code",
      "source": [
        "from pyomo.environ import *\n",
        "\n",
        "# Create a Pyomo model\n",
        "model = ConcreteModel()\n",
        "\n",
        "# Define decision variables\n",
        "model.xA = Var(domain=NonNegativeReals)\n",
        "model.xB1 = Var(domain=NonNegativeReals)\n",
        "model.xB2 = Var(domain=NonNegativeReals)\n",
        "model.xB3 = Var(domain=NonNegativeReals)\n",
        "model.xB4 = Var(domain=NonNegativeReals)\n",
        "model.yB = Var(domain=Binary)\n",
        "model.xC = Var(domain=NonNegativeReals)\n",
        "model.xD = Var(domain=NonNegativeReals)\n",
        "model.xE1 = Var(domain=NonNegativeReals)\n",
        "model.xE2 = Var(domain=NonNegativeReals)\n",
        "model.zE2_int = Var(domain=NonNegativeIntegers)\n",
        "\n",
        "# Define objective function\n",
        "def objective_rule(model):\n",
        "    return (\n",
        "        3855.34 + 61.150 * model.xA\n",
        "        + 125804.84 * model.yB + 68.099 * model.xB1\n",
        "        + 269304.84 * model.yB + 66.049 * model.xB2\n",
        "        + 464304.84 * model.yB + 64.099 * model.xB3\n",
        "        + 761304.84 * model.yB + 62.119 * model.xB4\n",
        "        + 13456 + 62.019 * model.xC\n",
        "        + 6583.98 + 72.488 * model.xD\n",
        "        + 70.150 * model.xE1\n",
        "        + 84000 + (68.150 - 0.0005 * 68.150 * model.zE2_int) * model.xE2\n",
        "    )\n",
        "model.objective = Objective(rule=objective_rule, sense=minimize)\n",
        "\n",
        "# Define constraints\n",
        "model.total_quantity = Constraint(expr=model.xA + model.xB1 + model.xB2 + model.xB3 + model.xB4 + model.xC + model.xD + model.xE1 + model.xE2 == 239600.480)\n",
        "model.capacity_A = Constraint(expr=model.xA <= 33000)\n",
        "model.capacity_C = Constraint(expr=model.xC <= 165600)\n",
        "model.capacity_D = Constraint(expr=model.xD <= 12000)\n",
        "model.capacity_E = Constraint(expr=model.xE1 + model.xE2 <= 77000)\n",
        "model.range_B1 = Constraint(expr=22000 * model.yB <= model.xB1)\n",
        "model.range_B1_upper = Constraint(expr=model.xB1 <= 70000 * model.yB)\n",
        "model.range_B2 = Constraint(expr=70000 * model.yB <= model.xB2)\n",
        "model.range_B2_upper = Constraint(expr=model.xB2 <= 100000 * model.yB)\n",
        "model.range_B3 = Constraint(expr=100000 * model.yB <= model.xB3)\n",
        "model.range_B3_upper = Constraint(expr=model.xB3 <= 150000 * model.yB)\n",
        "model.range_B4 = Constraint(expr=150000 * model.yB <= model.xB4)\n",
        "model.range_B4_upper = Constraint(expr=model.xB4 <= 160000 * model.yB)\n",
        "model.range_E1 = Constraint(expr=model.xE1 <= 42000)\n",
        "model.range_E2 = Constraint(expr=42000 <= model.xE2)\n",
        "model.range_E2_upper = Constraint(expr=model.xE2 <= 77000)\n",
        "\n",
        "# Constraints to simulate floor function\n",
        "model.floor_lower = Constraint(expr=model.zE2_int <= (model.xE2 - 42000) / 1000)\n",
        "model.floor_upper = Constraint(expr=model.zE2_int + 0.9999999999999999 >= (model.xE2 - 42000) / 1000)\n",
        "\n",
        "\n",
        "# Solve the model\n",
        "solver = SolverFactory('couenne')  # Specify the solver (e.g., 'glpk', 'cplex', 'gurobi')\n",
        "results = solver.solve(model)\n",
        "\n",
        "# Print the results\n",
        "print(\"Objective value:\", value(model.objective))\n",
        "print(\"xA =\", round(value(model.xA), 2))\n",
        "print(\"xB1 =\", round(value(model.xB1), 2))\n",
        "print(\"xB2 =\", round(value(model.xB2), 2))\n",
        "print(\"xB3 =\", round(value(model.xB3), 2))\n",
        "print(\"xB4 =\", round(value(model.xB4), 2))\n",
        "print(\"yB =\", round(value(model.yB), 2))\n",
        "print(\"xC =\", round(value(model.xC), 2))\n",
        "print(\"xD =\", round(value(model.xD), 2))\n",
        "print(\"xE1 =\", round(value(model.xE1), 2))\n",
        "print(\"xE2 =\", round(value(model.xE2), 2))\n",
        "print(\"zE2 =\", round(value(model.zE2_int), 2))"
      ],
      "metadata": {
        "colab": {
          "base_uri": "https://localhost:8080/"
        },
        "id": "4Y8jgWE_uNhv",
        "outputId": "e526ac1e-b403-47d5-ab47-72e40a579cf2"
      },
      "execution_count": 27,
      "outputs": [
        {
          "output_type": "stream",
          "name": "stdout",
          "text": [
            "Objective value: 15196502.488366047\n",
            "xA = 33000.0\n",
            "xB1 = 0.0\n",
            "xB2 = 0.0\n",
            "xB3 = 0.0\n",
            "xB4 = 0.0\n",
            "yB = 0.0\n",
            "xC = 164600.48\n",
            "xD = 0.0\n",
            "xE1 = -0.0\n",
            "xE2 = 42000.0\n",
            "zE2 = 0.0\n"
          ]
        }
      ]
    }
  ]
}