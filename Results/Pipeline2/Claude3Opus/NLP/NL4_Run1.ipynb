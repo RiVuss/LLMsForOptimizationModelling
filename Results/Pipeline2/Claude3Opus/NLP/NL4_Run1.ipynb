{
  "nbformat": 4,
  "nbformat_minor": 0,
  "metadata": {
    "colab": {
      "provenance": []
    },
    "kernelspec": {
      "name": "python3",
      "display_name": "Python 3"
    },
    "language_info": {
      "name": "python"
    }
  },
  "cells": [
    {
      "cell_type": "markdown",
      "source": [
        "# 0. Imports and Setting up Anthropic API Client"
      ],
      "metadata": {
        "id": "y5fw0lkBwBbo"
      }
    },
    {
      "cell_type": "code",
      "source": [
        "from google.colab import drive\n",
        "\n",
        "drive.mount('/content/drive')"
      ],
      "metadata": {
        "colab": {
          "base_uri": "https://localhost:8080/"
        },
        "id": "e7tWOLo0yMoH",
        "outputId": "83af7eca-30e8-4761-f14d-38f60fff0d16"
      },
      "execution_count": 2,
      "outputs": [
        {
          "output_type": "stream",
          "name": "stdout",
          "text": [
            "Mounted at /content/drive\n"
          ]
        }
      ]
    },
    {
      "cell_type": "code",
      "source": [
        "!pip install python-dotenv\n",
        "\n",
        "import os\n",
        "import dotenv\n",
        "\n",
        "dotenv.load_dotenv('/content/drive/MyDrive/.env')"
      ],
      "metadata": {
        "colab": {
          "base_uri": "https://localhost:8080/"
        },
        "id": "utcEK8lZ1Z1R",
        "outputId": "5b8afc6b-091f-40eb-9c72-fe489bad2c1c"
      },
      "execution_count": 3,
      "outputs": [
        {
          "output_type": "stream",
          "name": "stdout",
          "text": [
            "Collecting python-dotenv\n",
            "  Downloading python_dotenv-1.0.1-py3-none-any.whl (19 kB)\n",
            "Installing collected packages: python-dotenv\n",
            "Successfully installed python-dotenv-1.0.1\n"
          ]
        },
        {
          "output_type": "execute_result",
          "data": {
            "text/plain": [
              "True"
            ]
          },
          "metadata": {},
          "execution_count": 3
        }
      ]
    },
    {
      "cell_type": "code",
      "source": [
        "# Load Prompts and Problem Description\n",
        "# Variables Prompt\n",
        "prompt11_path = '/content/drive/MyDrive/Thesis/Prompts/Prompt11_MathematicalModel.txt'\n",
        "\n",
        "# Objective Prompt\n",
        "prompt12_path = '/content/drive/MyDrive/Thesis/Prompts/Prompt12_MathematicalModel.txt'\n",
        "\n",
        "# Constraint Prompt\n",
        "prompt13_path = '/content/drive/MyDrive/Thesis/Prompts/Prompt13_MathematicalModel.txt'\n",
        "\n",
        "# Code Prompt\n",
        "prompt2_path = '/content/drive/MyDrive/Thesis/Prompts/Prompt2_PyomoCode.txt'\n",
        "problem_desc_path = '/content/drive/MyDrive/Thesis/ProblemDescriptions/NL/NL4.txt'\n",
        "\n",
        "prompt11_file = open(prompt11_path, \"r\")\n",
        "prompt12_file = open(prompt12_path, \"r\")\n",
        "prompt13_file = open(prompt13_path, \"r\")\n",
        "prompt2_file = open(prompt2_path, \"r\")\n",
        "problem_desc_file = open(problem_desc_path, \"r\")\n",
        "\n",
        "prompt11 = prompt11_file.read()\n",
        "print(\"Prompt 1.1 (Variables):\\n\", prompt11)\n",
        "\n",
        "prompt12 = prompt12_file.read()\n",
        "print(\"Prompt 1.2 (Objctive):\\n\", prompt12)\n",
        "\n",
        "prompt13 = prompt13_file.read()\n",
        "print(\"Prompt 1.3 (Constraints):\\n\", prompt13)\n",
        "\n",
        "prompt2 = prompt2_file.read()\n",
        "print(\"Prompt 2:\\n\", prompt2)\n",
        "\n",
        "problem_desc = problem_desc_file.read()\n",
        "print(\"Problem Description:\\n\", problem_desc)"
      ],
      "metadata": {
        "colab": {
          "base_uri": "https://localhost:8080/"
        },
        "id": "9KlkjwMUS4xp",
        "outputId": "62ebfb4f-b032-4e44-b98e-c27e4629bf41"
      },
      "execution_count": 4,
      "outputs": [
        {
          "output_type": "stream",
          "name": "stdout",
          "text": [
            "Prompt 1.1 (Variables):\n",
            " Please formulate only the variables for this mathematical optimization problem. \n",
            "Prompt 1.2 (Objctive):\n",
            " Please formulate only the objective function for this mathematical optimization problem. \n",
            "Prompt 1.3 (Constraints):\n",
            " Please formulate only the constraints for this mathematical optimization problem. \n",
            "Prompt 2:\n",
            " Please write a python pyomo code for this optimization problem.\n",
            "Use sample data where needed.\n",
            "Indicate where you use sample data.\n",
            "Problem Description:\n",
            " We are looking at an alkylation process which will include the following 10 variables: olefin feed (barrels per day), isobutane recycle (barrels per day), acid addition rate (thousands of pounds per day), alkylate yield (barrels per day), isobutane makeup (barrels per day), acid strength (weight per cent), motor octane number, external isobutane-to-olefin ratio, acid dilution factor and F-4 performance number. \n",
            "\n",
            "We want to maximize the daily profit of this alkylation process. \n",
            "The profit is defined as the revenue generated from the alkylate yield multiplied with the motor octane number, minus the operational costs, which include olefin feed, isobutane recycle, acid addition rate, and isobutane makeup. \n",
            "\n",
            "Relationships in terms of other variables for alkylate yield, motor octane number, acid dilution factor, and F-4 performance number can be formulated as regression formulas. \n",
            "This regression estimate can deviate in both directions from true value of these variables by 2, 1, 5 and 10 percent, respectively.\n",
            "Alkylate yield is a function of olefin feed and external isobutane-to-olefine yield. Alkalyte yield equals the amount of olefin feed multiplied by the sum of 1.12, 0.13167 times the external isobutane-to-olefin ratio and -0.00667 times the external isobutane-to-olefin ratio squared.\n",
            "The motor octane number is derived from the external isobutane-to-olefin ratio and the acid strength. The motor octane number is calculated as the sum of 86.35, 1.098 time external isobutane-to-olefin ratio, -0.038 times the external isobutane-to-olefin ratio squared and 0.325 times acid strength reduced by 89.\n",
            "The acid dilution factor is calculated based on the F-4 performance number. The acid dillution factor is expressed as 35.82 minus 0.222 times F-4 performance number.\n",
            "Lastly, the F-4 performance number depends on the motor octane number. F-4 performance number is calculated as -133 plus three times the motor octane number.\n",
            "\n",
            "There are some additional constraints imposed by the nature of the chemical process.\n",
            "Each variable has a lower and an upper bound.\n",
            "The external isobutane-to-olefin ratio needs to equal the ratio of isobutane recycle plus isobutane makeup to olefin feed. \n",
            "The acid strength needs to equal the ratio of 93000 times acid addition rate to acid addition rate multiplied by acid dilution factor in addition to 1000 times acid addition rate. \n",
            "Lastly, 1.22 alkylate yield needs to be equal to the combined olefin feed and isobutane makeup.\n"
          ]
        }
      ]
    },
    {
      "cell_type": "code",
      "source": [
        "!pip install anthropic"
      ],
      "metadata": {
        "colab": {
          "base_uri": "https://localhost:8080/"
        },
        "id": "iWlNsTIvxCcR",
        "outputId": "d39a4f55-3802-41d1-ac4f-ad14b886b051",
        "collapsed": true
      },
      "execution_count": 5,
      "outputs": [
        {
          "output_type": "stream",
          "name": "stdout",
          "text": [
            "Collecting anthropic\n",
            "  Downloading anthropic-0.28.0-py3-none-any.whl (862 kB)\n",
            "\u001b[2K     \u001b[90m━━━━━━━━━━━━━━━━━━━━━━━━━━━━━━━━━━━━━━━━\u001b[0m \u001b[32m862.7/862.7 kB\u001b[0m \u001b[31m4.7 MB/s\u001b[0m eta \u001b[36m0:00:00\u001b[0m\n",
            "\u001b[?25hRequirement already satisfied: anyio<5,>=3.5.0 in /usr/local/lib/python3.10/dist-packages (from anthropic) (3.7.1)\n",
            "Requirement already satisfied: distro<2,>=1.7.0 in /usr/lib/python3/dist-packages (from anthropic) (1.7.0)\n",
            "Collecting httpx<1,>=0.23.0 (from anthropic)\n",
            "  Downloading httpx-0.27.0-py3-none-any.whl (75 kB)\n",
            "\u001b[2K     \u001b[90m━━━━━━━━━━━━━━━━━━━━━━━━━━━━━━━━━━━━━━━━\u001b[0m \u001b[32m75.6/75.6 kB\u001b[0m \u001b[31m8.1 MB/s\u001b[0m eta \u001b[36m0:00:00\u001b[0m\n",
            "\u001b[?25hCollecting jiter<1,>=0.4.0 (from anthropic)\n",
            "  Downloading jiter-0.4.1-cp310-cp310-manylinux_2_17_x86_64.manylinux2014_x86_64.whl (328 kB)\n",
            "\u001b[2K     \u001b[90m━━━━━━━━━━━━━━━━━━━━━━━━━━━━━━━━━━━━━━━━\u001b[0m \u001b[32m328.3/328.3 kB\u001b[0m \u001b[31m26.2 MB/s\u001b[0m eta \u001b[36m0:00:00\u001b[0m\n",
            "\u001b[?25hRequirement already satisfied: pydantic<3,>=1.9.0 in /usr/local/lib/python3.10/dist-packages (from anthropic) (2.7.3)\n",
            "Requirement already satisfied: sniffio in /usr/local/lib/python3.10/dist-packages (from anthropic) (1.3.1)\n",
            "Requirement already satisfied: tokenizers>=0.13.0 in /usr/local/lib/python3.10/dist-packages (from anthropic) (0.19.1)\n",
            "Requirement already satisfied: typing-extensions<5,>=4.7 in /usr/local/lib/python3.10/dist-packages (from anthropic) (4.12.1)\n",
            "Requirement already satisfied: idna>=2.8 in /usr/local/lib/python3.10/dist-packages (from anyio<5,>=3.5.0->anthropic) (3.7)\n",
            "Requirement already satisfied: exceptiongroup in /usr/local/lib/python3.10/dist-packages (from anyio<5,>=3.5.0->anthropic) (1.2.1)\n",
            "Requirement already satisfied: certifi in /usr/local/lib/python3.10/dist-packages (from httpx<1,>=0.23.0->anthropic) (2024.6.2)\n",
            "Collecting httpcore==1.* (from httpx<1,>=0.23.0->anthropic)\n",
            "  Downloading httpcore-1.0.5-py3-none-any.whl (77 kB)\n",
            "\u001b[2K     \u001b[90m━━━━━━━━━━━━━━━━━━━━━━━━━━━━━━━━━━━━━━━━\u001b[0m \u001b[32m77.9/77.9 kB\u001b[0m \u001b[31m8.4 MB/s\u001b[0m eta \u001b[36m0:00:00\u001b[0m\n",
            "\u001b[?25hCollecting h11<0.15,>=0.13 (from httpcore==1.*->httpx<1,>=0.23.0->anthropic)\n",
            "  Downloading h11-0.14.0-py3-none-any.whl (58 kB)\n",
            "\u001b[2K     \u001b[90m━━━━━━━━━━━━━━━━━━━━━━━━━━━━━━━━━━━━━━━━\u001b[0m \u001b[32m58.3/58.3 kB\u001b[0m \u001b[31m6.6 MB/s\u001b[0m eta \u001b[36m0:00:00\u001b[0m\n",
            "\u001b[?25hRequirement already satisfied: annotated-types>=0.4.0 in /usr/local/lib/python3.10/dist-packages (from pydantic<3,>=1.9.0->anthropic) (0.7.0)\n",
            "Requirement already satisfied: pydantic-core==2.18.4 in /usr/local/lib/python3.10/dist-packages (from pydantic<3,>=1.9.0->anthropic) (2.18.4)\n",
            "Requirement already satisfied: huggingface-hub<1.0,>=0.16.4 in /usr/local/lib/python3.10/dist-packages (from tokenizers>=0.13.0->anthropic) (0.23.2)\n",
            "Requirement already satisfied: filelock in /usr/local/lib/python3.10/dist-packages (from huggingface-hub<1.0,>=0.16.4->tokenizers>=0.13.0->anthropic) (3.14.0)\n",
            "Requirement already satisfied: fsspec>=2023.5.0 in /usr/local/lib/python3.10/dist-packages (from huggingface-hub<1.0,>=0.16.4->tokenizers>=0.13.0->anthropic) (2023.6.0)\n",
            "Requirement already satisfied: packaging>=20.9 in /usr/local/lib/python3.10/dist-packages (from huggingface-hub<1.0,>=0.16.4->tokenizers>=0.13.0->anthropic) (24.0)\n",
            "Requirement already satisfied: pyyaml>=5.1 in /usr/local/lib/python3.10/dist-packages (from huggingface-hub<1.0,>=0.16.4->tokenizers>=0.13.0->anthropic) (6.0.1)\n",
            "Requirement already satisfied: requests in /usr/local/lib/python3.10/dist-packages (from huggingface-hub<1.0,>=0.16.4->tokenizers>=0.13.0->anthropic) (2.31.0)\n",
            "Requirement already satisfied: tqdm>=4.42.1 in /usr/local/lib/python3.10/dist-packages (from huggingface-hub<1.0,>=0.16.4->tokenizers>=0.13.0->anthropic) (4.66.4)\n",
            "Requirement already satisfied: charset-normalizer<4,>=2 in /usr/local/lib/python3.10/dist-packages (from requests->huggingface-hub<1.0,>=0.16.4->tokenizers>=0.13.0->anthropic) (3.3.2)\n",
            "Requirement already satisfied: urllib3<3,>=1.21.1 in /usr/local/lib/python3.10/dist-packages (from requests->huggingface-hub<1.0,>=0.16.4->tokenizers>=0.13.0->anthropic) (2.0.7)\n",
            "Installing collected packages: jiter, h11, httpcore, httpx, anthropic\n",
            "Successfully installed anthropic-0.28.0 h11-0.14.0 httpcore-1.0.5 httpx-0.27.0 jiter-0.4.1\n"
          ]
        }
      ]
    },
    {
      "cell_type": "code",
      "execution_count": 6,
      "metadata": {
        "id": "7Qjk2D63v1Bl"
      },
      "outputs": [],
      "source": [
        "# Importing Anthropic & Setting Headers\n",
        "import anthropic\n",
        "\n",
        "client = anthropic.Anthropic(\n",
        "    # defaults to os.environ.get(\"ANTHROPIC_API_KEY\")\n",
        "    api_key=os.environ.get(\"ANTHROPIC_API_KEY\"),\n",
        ")"
      ]
    },
    {
      "cell_type": "markdown",
      "source": [
        "# 1. Prompt 1.1: Create Variables for Mathematical Model"
      ],
      "metadata": {
        "id": "kT7yKbJs18XR"
      }
    },
    {
      "cell_type": "code",
      "source": [
        "message11 = client.messages.create(\n",
        "    model=\"claude-3-opus-20240229\",\n",
        "    system=prompt11,\n",
        "    max_tokens=4096,\n",
        "    messages=[\n",
        "        {\"role\": \"user\", \"content\": problem_desc}\n",
        "    ]\n",
        ")\n",
        "\n",
        "response_p11 = message11.content[0].text"
      ],
      "metadata": {
        "id": "R_6X0axq16D4"
      },
      "execution_count": 7,
      "outputs": []
    },
    {
      "cell_type": "code",
      "source": [
        "# Print response\n",
        "print(response_p11)"
      ],
      "metadata": {
        "colab": {
          "base_uri": "https://localhost:8080/"
        },
        "id": "Ra9Ox_PI38jg",
        "outputId": "64b176b6-ad36-456f-820f-7cab37b817ee"
      },
      "execution_count": 8,
      "outputs": [
        {
          "output_type": "stream",
          "name": "stdout",
          "text": [
            "To formulate the variables for this optimization problem, we can define the following:\n",
            "\n",
            "Let:\n",
            "- x1 = olefin feed (barrels per day)\n",
            "- x2 = isobutane recycle (barrels per day)\n",
            "- x3 = acid addition rate (thousands of pounds per day)\n",
            "- x4 = alkylate yield (barrels per day)\n",
            "- x5 = isobutane makeup (barrels per day)\n",
            "- x6 = acid strength (weight percent)\n",
            "- x7 = motor octane number\n",
            "- x8 = external isobutane-to-olefin ratio\n",
            "- x9 = acid dilution factor\n",
            "- x10 = F-4 performance number\n",
            "\n",
            "These are the 10 variables that will be used in the optimization problem to maximize the daily profit of the alkylation process, subject to the given constraints and relationships.\n"
          ]
        }
      ]
    },
    {
      "cell_type": "markdown",
      "source": [
        "# 1. Prompt 1.2: Create Objective for Mathematical Model"
      ],
      "metadata": {
        "id": "nbt6yH1snBQL"
      }
    },
    {
      "cell_type": "code",
      "source": [
        "message12 = client.messages.create(\n",
        "    model=\"claude-3-opus-20240229\",\n",
        "    system=prompt12,\n",
        "    max_tokens=4096,\n",
        "    messages=[\n",
        "        {\"role\": \"user\", \"content\": (problem_desc + response_p11)}\n",
        "    ]\n",
        ")\n",
        "\n",
        "response_p12 = message12.content[0].text"
      ],
      "metadata": {
        "id": "ol4rtt_MnAy8"
      },
      "execution_count": 9,
      "outputs": []
    },
    {
      "cell_type": "code",
      "source": [
        "# Print response\n",
        "print(response_p12)"
      ],
      "metadata": {
        "colab": {
          "base_uri": "https://localhost:8080/"
        },
        "id": "Vz2F_EARnzHf",
        "outputId": "15fe25dd-a85b-47a3-c408-995168b91129"
      },
      "execution_count": 10,
      "outputs": [
        {
          "output_type": "stream",
          "name": "stdout",
          "text": [
            "Objective function:\n",
            "\n",
            "Let:\n",
            "- p1 = profit per barrel of alkylate yield per unit of motor octane number\n",
            "- c1 = cost per barrel of olefin feed\n",
            "- c2 = cost per barrel of isobutane recycle \n",
            "- c3 = cost per thousand pounds of acid addition rate\n",
            "- c4 = cost per barrel of isobutane makeup\n",
            "\n",
            "Maximize:\n",
            "  p1 * x4 * x7 - (c1 * x1 + c2 * x2 + c3 * x3 + c4 * x5)\n",
            "\n",
            "Subject to the given constraints and variable relationships.\n",
            "\n",
            "The objective is to maximize the profit, which is revenue (p1 * x4 * x7) minus costs (c1 * x1 + c2 * x2 + c3 * x3 + c4 * x5).\n",
            "\n",
            "The revenue term p1 * x4 * x7 represents the profit per barrel of alkylate yield (x4) per unit of motor octane number (x7). \n",
            "\n",
            "The cost term c1 * x1 + c2 * x2 + c3 * x3 + c4 * x5 captures the operational costs associated with olefin feed (x1), isobutane recycle (x2), acid addition rate (x3), and isobutane makeup (x5).\n",
            "\n",
            "This objective function aims to maximize the daily profit considering the revenue generated and the operational costs incurred, subject to the process constraints and variable relationships you described.\n"
          ]
        }
      ]
    },
    {
      "cell_type": "markdown",
      "source": [
        "# 1. Prompt 1.3: Create Constraints for Mathematical Model\n"
      ],
      "metadata": {
        "id": "Wzf33DwvnEar"
      }
    },
    {
      "cell_type": "code",
      "source": [
        "message13 = client.messages.create(\n",
        "    model=\"claude-3-opus-20240229\",\n",
        "    system=prompt13,\n",
        "    max_tokens=4096,\n",
        "    messages=[\n",
        "        {\"role\": \"user\", \"content\": (problem_desc + response_p11 + response_p12)}\n",
        "    ]\n",
        ")\n",
        "\n",
        "response_p13 = message13.content[0].text"
      ],
      "metadata": {
        "id": "l1UAJRt7nENG"
      },
      "execution_count": 11,
      "outputs": []
    },
    {
      "cell_type": "code",
      "source": [
        "# Print response\n",
        "print(response_p13)"
      ],
      "metadata": {
        "colab": {
          "base_uri": "https://localhost:8080/"
        },
        "id": "vH7Ff9mxn4FZ",
        "outputId": "bef7f8d7-de32-4f05-b100-8578485f6634"
      },
      "execution_count": 12,
      "outputs": [
        {
          "output_type": "stream",
          "name": "stdout",
          "text": [
            "Based on the given information, here are the constraints for this optimization problem:\n",
            "\n",
            "1. Lower and upper bounds for variables:\n",
            "   - LB_i ≤ xi ≤ UB_i, for i = 1, 2, ..., 10\n",
            "     where LB_i and UB_i are the lower and upper bounds for each variable xi.\n",
            "\n",
            "2. Alkylate yield regression estimate constraint:\n",
            "   - 0.98 (1.12x1 + 0.13167x1x8 - 0.00667x1x8^2) ≤ x4 ≤ 1.02 (1.12x1 + 0.13167x1x8 - 0.00667x1x8^2)\n",
            "\n",
            "3. Motor octane number regression estimate constraint:\n",
            "   - 0.99 (86.35 + 1.098x8 - 0.038x8^2 + 0.325(x6 - 89)) ≤ x7 ≤ 1.01 (86.35 + 1.098x8 - 0.038x8^2 + 0.325(x6 - 89))\n",
            "\n",
            "4. Acid dilution factor regression estimate constraint:\n",
            "   - 0.95 (35.82 - 0.222x10) ≤ x9 ≤ 1.05 (35.82 - 0.222x10)\n",
            "\n",
            "5. F-4 performance number regression estimate constraint:\n",
            "   - 0.90 (-133 + 3x7) ≤ x10 ≤ 1.10 (-133 + 3x7)\n",
            "\n",
            "6. External isobutane-to-olefin ratio constraint:\n",
            "   - x8 = (x2 + x5) / x1\n",
            "\n",
            "7. Acid strength constraint:\n",
            "   - x6 = (93000x3) / (x3x9 + 1000x3)\n",
            "\n",
            "8. Material balance constraint:\n",
            "   - 1.22x4 = x1 + x5\n",
            "\n",
            "These constraints, along with the objective function you provided, form the complete mathematical optimization problem for maximizing the daily profit of the alkylation process.\n"
          ]
        }
      ]
    },
    {
      "cell_type": "markdown",
      "source": [
        "# 2. Prompt 2: Write Code based on Mathematical Model\n",
        "\n",
        "In case more than the component of each step was generated, use \"last instance\"/ \"newest version\" of the components.\n",
        "\n",
        "Example:\n",
        "Prompt 1.1 (Variables): Model generates only variables\n",
        "Prompt 1.2 (Objectvie): Model generates objective and constraints\n",
        "Prompt 1.3 (Constraints): Model generates only constraints\n",
        "\n",
        "Use Variables from step 1.1, use objective from 1.2 and use constraints from 1.3 (since constraints version 1.3 is more recent than constraints version 1.2).\n",
        "\n",
        "This set up allows for potential self-correction of the model throughout the three prompts.\n",
        "\n",
        "Correctness of each component is still generated in the respective step, so self-correction is independent of this."
      ],
      "metadata": {
        "id": "WPZ6lgBO729j"
      }
    },
    {
      "cell_type": "code",
      "source": [
        "message2 = client.messages.create(\n",
        "    model=\"claude-3-opus-20240229\",\n",
        "    system=prompt2,\n",
        "    max_tokens=4069,\n",
        "    messages=[\n",
        "        {\"role\": \"user\", \"content\": (response_p11+ response_p12 + response_p13)}\n",
        "    ]\n",
        ")\n",
        "\n",
        "response_p2 = message2.content[0].text"
      ],
      "metadata": {
        "id": "1iUSgBda70FL"
      },
      "execution_count": 13,
      "outputs": []
    },
    {
      "cell_type": "code",
      "source": [
        "# Print response\n",
        "print(response_p2)"
      ],
      "metadata": {
        "colab": {
          "base_uri": "https://localhost:8080/"
        },
        "id": "o40mxc_H8eQ9",
        "outputId": "49e85222-a293-4a60-e511-1bff424022b4"
      },
      "execution_count": 14,
      "outputs": [
        {
          "output_type": "stream",
          "name": "stdout",
          "text": [
            "Here's a Python Pyomo code for the optimization problem you described:\n",
            "\n",
            "```python\n",
            "from pyomo.environ import *\n",
            "\n",
            "# Create a Pyomo model\n",
            "model = ConcreteModel()\n",
            "\n",
            "# Define the variables\n",
            "model.x1 = Var(bounds=(0, None), doc=\"Olefin feed (barrels per day)\")\n",
            "model.x2 = Var(bounds=(0, None), doc=\"Isobutane recycle (barrels per day)\")\n",
            "model.x3 = Var(bounds=(0, None), doc=\"Acid addition rate (thousands of pounds per day)\")\n",
            "model.x4 = Var(bounds=(0, None), doc=\"Alkylate yield (barrels per day)\")\n",
            "model.x5 = Var(bounds=(0, None), doc=\"Isobutane makeup (barrels per day)\")\n",
            "model.x6 = Var(bounds=(0, 100), doc=\"Acid strength (weight percent)\")\n",
            "model.x7 = Var(bounds=(0, None), doc=\"Motor octane number\")\n",
            "model.x8 = Var(bounds=(0, None), doc=\"External isobutane-to-olefin ratio\")\n",
            "model.x9 = Var(bounds=(0, None), doc=\"Acid dilution factor\")\n",
            "model.x10 = Var(bounds=(0, None), doc=\"F-4 performance number\")\n",
            "\n",
            "# Define the objective function\n",
            "model.profit = Objective(expr=p1 * model.x4 * model.x7 - (c1 * model.x1 + c2 * model.x2 + c3 * model.x3 + c4 * model.x5), sense=maximize)\n",
            "\n",
            "# Define the constraints\n",
            "model.alkylate_yield_lower = Constraint(expr=0.98 * (1.12 * model.x1 + 0.13167 * model.x1 * model.x8 - 0.00667 * model.x1 * model.x8**2) <= model.x4)\n",
            "model.alkylate_yield_upper = Constraint(expr=model.x4 <= 1.02 * (1.12 * model.x1 + 0.13167 * model.x1 * model.x8 - 0.00667 * model.x1 * model.x8**2))\n",
            "\n",
            "model.octane_number_lower = Constraint(expr=0.99 * (86.35 + 1.098 * model.x8 - 0.038 * model.x8**2 + 0.325 * (model.x6 - 89)) <= model.x7)\n",
            "model.octane_number_upper = Constraint(expr=model.x7 <= 1.01 * (86.35 + 1.098 * model.x8 - 0.038 * model.x8**2 + 0.325 * (model.x6 - 89)))\n",
            "\n",
            "model.acid_dilution_lower = Constraint(expr=0.95 * (35.82 - 0.222 * model.x10) <= model.x9)\n",
            "model.acid_dilution_upper = Constraint(expr=model.x9 <= 1.05 * (35.82 - 0.222 * model.x10))\n",
            "\n",
            "model.performance_number_lower = Constraint(expr=0.90 * (-133 + 3 * model.x7) <= model.x10)\n",
            "model.performance_number_upper = Constraint(expr=model.x10 <= 1.10 * (-133 + 3 * model.x7))\n",
            "\n",
            "model.isobutane_olefin_ratio = Constraint(expr=model.x8 == (model.x2 + model.x5) / model.x1)\n",
            "model.acid_strength = Constraint(expr=model.x6 == (93000 * model.x3) / (model.x3 * model.x9 + 1000 * model.x3))\n",
            "model.material_balance = Constraint(expr=1.22 * model.x4 == model.x1 + model.x5)\n",
            "\n",
            "# Solve the optimization problem\n",
            "solver = SolverFactory('glpk')  # Specify the solver you want to use (e.g., 'glpk', 'cplex', 'gurobi')\n",
            "results = solver.solve(model)\n",
            "\n",
            "# Print the results\n",
            "print(\"Optimization Results:\")\n",
            "print(\"Objective Function Value:\", model.profit())\n",
            "print(\"Variable Values:\")\n",
            "print(\"x1 (Olefin feed):\", model.x1())\n",
            "print(\"x2 (Isobutane recycle):\", model.x2())\n",
            "print(\"x3 (Acid addition rate):\", model.x3())\n",
            "print(\"x4 (Alkylate yield):\", model.x4())\n",
            "print(\"x5 (Isobutane makeup):\", model.x5())\n",
            "print(\"x6 (Acid strength):\", model.x6())\n",
            "print(\"x7 (Motor octane number):\", model.x7())\n",
            "print(\"x8 (External isobutane-to-olefin ratio):\", model.x8())\n",
            "print(\"x9 (Acid dilution factor):\", model.x9())\n",
            "print(\"x10 (F-4 performance number):\", model.x10())\n",
            "```\n",
            "\n",
            "Note: In this code, you need to provide values for the coefficients `p1`, `c1`, `c2`, `c3`, and `c4` in the objective function. These are the sample data points that you mentioned. Replace them with the actual values or define them before running the code.\n",
            "\n",
            "Also, make sure you have the Pyomo library installed (`pip install pyomo`) and have a solver available (e.g., GLPK, CPLEX, Gurobi) to solve the optimization problem. You can specify the desired solver in the `SolverFactory` function.\n",
            "\n",
            "This code sets up the optimization problem using Pyomo, defines the variables, objective function, and constraints, solves the problem using the specified solver, and prints the optimal solution values.\n"
          ]
        }
      ]
    },
    {
      "cell_type": "markdown",
      "source": [
        "# 4. Input Problem Data and Test Model Code"
      ],
      "metadata": {
        "id": "Pc0QqJuf8up_"
      }
    },
    {
      "cell_type": "code",
      "source": [
        "# Installing pyomo nd solver\n",
        "!pip install -q pyomo\n",
        "!pip install pandas\n",
        "!apt-get install -y -qq glpk-utils\n",
        "!pip install glpk"
      ],
      "metadata": {
        "colab": {
          "base_uri": "https://localhost:8080/"
        },
        "id": "3BtROuLu9O-p",
        "outputId": "ada419b2-9228-475f-99d8-d7e574aa43f6",
        "collapsed": true
      },
      "execution_count": 15,
      "outputs": [
        {
          "output_type": "stream",
          "name": "stdout",
          "text": [
            "\u001b[2K     \u001b[90m━━━━━━━━━━━━━━━━━━━━━━━━━━━━━━━━━━━━━━━━\u001b[0m \u001b[32m12.8/12.8 MB\u001b[0m \u001b[31m47.0 MB/s\u001b[0m eta \u001b[36m0:00:00\u001b[0m\n",
            "\u001b[2K     \u001b[90m━━━━━━━━━━━━━━━━━━━━━━━━━━━━━━━━━━━━━━━━\u001b[0m \u001b[32m49.6/49.6 kB\u001b[0m \u001b[31m1.7 MB/s\u001b[0m eta \u001b[36m0:00:00\u001b[0m\n",
            "\u001b[?25hRequirement already satisfied: pandas in /usr/local/lib/python3.10/dist-packages (2.0.3)\n",
            "Requirement already satisfied: python-dateutil>=2.8.2 in /usr/local/lib/python3.10/dist-packages (from pandas) (2.8.2)\n",
            "Requirement already satisfied: pytz>=2020.1 in /usr/local/lib/python3.10/dist-packages (from pandas) (2023.4)\n",
            "Requirement already satisfied: tzdata>=2022.1 in /usr/local/lib/python3.10/dist-packages (from pandas) (2024.1)\n",
            "Requirement already satisfied: numpy>=1.21.0 in /usr/local/lib/python3.10/dist-packages (from pandas) (1.25.2)\n",
            "Requirement already satisfied: six>=1.5 in /usr/local/lib/python3.10/dist-packages (from python-dateutil>=2.8.2->pandas) (1.16.0)\n",
            "Selecting previously unselected package libsuitesparseconfig5:amd64.\n",
            "(Reading database ... 121913 files and directories currently installed.)\n",
            "Preparing to unpack .../libsuitesparseconfig5_1%3a5.10.1+dfsg-4build1_amd64.deb ...\n",
            "Unpacking libsuitesparseconfig5:amd64 (1:5.10.1+dfsg-4build1) ...\n",
            "Selecting previously unselected package libamd2:amd64.\n",
            "Preparing to unpack .../libamd2_1%3a5.10.1+dfsg-4build1_amd64.deb ...\n",
            "Unpacking libamd2:amd64 (1:5.10.1+dfsg-4build1) ...\n",
            "Selecting previously unselected package libcolamd2:amd64.\n",
            "Preparing to unpack .../libcolamd2_1%3a5.10.1+dfsg-4build1_amd64.deb ...\n",
            "Unpacking libcolamd2:amd64 (1:5.10.1+dfsg-4build1) ...\n",
            "Selecting previously unselected package libglpk40:amd64.\n",
            "Preparing to unpack .../libglpk40_5.0-1_amd64.deb ...\n",
            "Unpacking libglpk40:amd64 (5.0-1) ...\n",
            "Selecting previously unselected package glpk-utils.\n",
            "Preparing to unpack .../glpk-utils_5.0-1_amd64.deb ...\n",
            "Unpacking glpk-utils (5.0-1) ...\n",
            "Setting up libsuitesparseconfig5:amd64 (1:5.10.1+dfsg-4build1) ...\n",
            "Setting up libamd2:amd64 (1:5.10.1+dfsg-4build1) ...\n",
            "Setting up libcolamd2:amd64 (1:5.10.1+dfsg-4build1) ...\n",
            "Setting up libglpk40:amd64 (5.0-1) ...\n",
            "Setting up glpk-utils (5.0-1) ...\n",
            "Processing triggers for man-db (2.10.2-1) ...\n",
            "Processing triggers for libc-bin (2.35-0ubuntu3.4) ...\n",
            "/sbin/ldconfig.real: /usr/local/lib/libtbbmalloc.so.2 is not a symbolic link\n",
            "\n",
            "/sbin/ldconfig.real: /usr/local/lib/libtbbmalloc_proxy.so.2 is not a symbolic link\n",
            "\n",
            "/sbin/ldconfig.real: /usr/local/lib/libtbb.so.12 is not a symbolic link\n",
            "\n",
            "/sbin/ldconfig.real: /usr/local/lib/libtbbbind_2_0.so.3 is not a symbolic link\n",
            "\n",
            "/sbin/ldconfig.real: /usr/local/lib/libtbbbind_2_5.so.3 is not a symbolic link\n",
            "\n",
            "/sbin/ldconfig.real: /usr/local/lib/libtbbbind.so.3 is not a symbolic link\n",
            "\n",
            "Collecting glpk\n",
            "  Downloading glpk-0.4.7.tar.gz (161 kB)\n",
            "\u001b[2K     \u001b[90m━━━━━━━━━━━━━━━━━━━━━━━━━━━━━━━━━━━━━━━━\u001b[0m \u001b[32m161.2/161.2 kB\u001b[0m \u001b[31m1.3 MB/s\u001b[0m eta \u001b[36m0:00:00\u001b[0m\n",
            "\u001b[?25h  Installing build dependencies ... \u001b[?25l\u001b[?25hdone\n",
            "  Getting requirements to build wheel ... \u001b[?25l\u001b[?25hdone\n",
            "  Preparing metadata (pyproject.toml) ... \u001b[?25l\u001b[?25hdone\n",
            "Building wheels for collected packages: glpk\n",
            "  \u001b[1;31merror\u001b[0m: \u001b[1msubprocess-exited-with-error\u001b[0m\n",
            "  \n",
            "  \u001b[31m×\u001b[0m \u001b[32mBuilding wheel for glpk \u001b[0m\u001b[1;32m(\u001b[0m\u001b[32mpyproject.toml\u001b[0m\u001b[1;32m)\u001b[0m did not run successfully.\n",
            "  \u001b[31m│\u001b[0m exit code: \u001b[1;36m1\u001b[0m\n",
            "  \u001b[31m╰─>\u001b[0m See above for output.\n",
            "  \n",
            "  \u001b[1;35mnote\u001b[0m: This error originates from a subprocess, and is likely not a problem with pip.\n",
            "  Building wheel for glpk (pyproject.toml) ... \u001b[?25l\u001b[?25herror\n",
            "\u001b[31m  ERROR: Failed building wheel for glpk\u001b[0m\u001b[31m\n",
            "\u001b[0mFailed to build glpk\n",
            "\u001b[31mERROR: Could not build wheels for glpk, which is required to install pyproject.toml-based projects\u001b[0m\u001b[31m\n",
            "\u001b[0m"
          ]
        }
      ]
    },
    {
      "cell_type": "code",
      "source": [
        "from pyomo.environ import *\n",
        "\n",
        "# Create a Pyomo model\n",
        "model = ConcreteModel()\n",
        "\n",
        "# Define the variables\n",
        "model.x1 = Var(bounds=(0, 2000), doc=\"Olefin feed (barrels per day)\")\n",
        "model.x2 = Var(bounds=(0, 16000), doc=\"Isobutane recycle (barrels per day)\")\n",
        "model.x3 = Var(bounds=(0, 120), doc=\"Acid addition rate (thousands of pounds per day)\")\n",
        "model.x4 = Var(bounds=(0, 5000), doc=\"Alkylate yield (barrels per day)\")\n",
        "model.x5 = Var(bounds=(0, 2000), doc=\"Isobutane makeup (barrels per day)\")\n",
        "model.x6 = Var(bounds=(85, 93), doc=\"Acid strength (weight percent)\")\n",
        "model.x7 = Var(bounds=(90, 95), doc=\"Motor octane number\")\n",
        "model.x8 = Var(bounds=(3, 12), doc=\"External isobutane-to-olefin ratio\")\n",
        "model.x9 = Var(bounds=(1.2, 4), doc=\"Acid dilution factor\")\n",
        "model.x10 = Var(bounds=(145, 162), doc=\"F-4 performance number\")\n",
        "\n",
        "# Costs\n",
        "p1, c1, c2, c3, c4 = 0.63, 5.04, 0.035, 10.0, 3.36\n",
        "\n",
        "# Define the objective function\n",
        "model.profit = Objective(expr=p1 * model.x4 * model.x7 - (c1 * model.x1 + c2 * model.x2 + c3 * model.x3 + c4 * model.x5), sense=maximize)\n",
        "\n",
        "# Define the constraints\n",
        "model.alkylate_yield_lower = Constraint(expr=0.98 * (1.12 * model.x1 + 0.13167 * model.x1 * model.x8 - 0.00667 * model.x1 * model.x8**2) <= model.x4)\n",
        "model.alkylate_yield_upper = Constraint(expr=model.x4 <= 1.02 * (1.12 * model.x1 + 0.13167 * model.x1 * model.x8 - 0.00667 * model.x1 * model.x8**2))\n",
        "\n",
        "model.octane_number_lower = Constraint(expr=0.99 * (86.35 + 1.098 * model.x8 - 0.038 * model.x8**2 + 0.325 * (model.x6 - 89)) <= model.x7)\n",
        "model.octane_number_upper = Constraint(expr=model.x7 <= 1.01 * (86.35 + 1.098 * model.x8 - 0.038 * model.x8**2 + 0.325 * (model.x6 - 89)))\n",
        "\n",
        "model.acid_dilution_lower = Constraint(expr=0.95 * (35.82 - 0.222 * model.x10) <= model.x9)\n",
        "model.acid_dilution_upper = Constraint(expr=model.x9 <= 1.05 * (35.82 - 0.222 * model.x10))\n",
        "\n",
        "model.performance_number_lower = Constraint(expr=0.90 * (-133 + 3 * model.x7) <= model.x10)\n",
        "model.performance_number_upper = Constraint(expr=model.x10 <= 1.10 * (-133 + 3 * model.x7))\n",
        "\n",
        "model.isobutane_olefin_ratio = Constraint(expr=model.x8 == (model.x2 + model.x5) / model.x1)\n",
        "model.acid_strength = Constraint(expr=model.x6 == (93000 * model.x3) / (model.x3 * model.x9 + 1000 * model.x3))\n",
        "model.material_balance = Constraint(expr=1.22 * model.x4 == model.x1 + model.x5)\n",
        "\n",
        "# Solve the optimization problem\n",
        "solver = SolverFactory('glpk')  # Specify the solver you want to use (e.g., 'glpk', 'cplex', 'gurobi')\n",
        "results = solver.solve(model)\n",
        "\n",
        "# Print the results\n",
        "print(\"Optimization Results:\")\n",
        "print(\"Objective Function Value:\", model.profit())\n",
        "print(\"Variable Values:\")\n",
        "print(\"x1 (Olefin feed):\", model.x1())\n",
        "print(\"x2 (Isobutane recycle):\", model.x2())\n",
        "print(\"x3 (Acid addition rate):\", model.x3())\n",
        "print(\"x4 (Alkylate yield):\", model.x4())\n",
        "print(\"x5 (Isobutane makeup):\", model.x5())\n",
        "print(\"x6 (Acid strength):\", model.x6())\n",
        "print(\"x7 (Motor octane number):\", model.x7())\n",
        "print(\"x8 (External isobutane-to-olefin ratio):\", model.x8())\n",
        "print(\"x9 (Acid dilution factor):\", model.x9())\n",
        "print(\"x10 (F-4 performance number):\", model.x10())"
      ],
      "metadata": {
        "colab": {
          "base_uri": "https://localhost:8080/",
          "height": 356
        },
        "id": "8FpHcuWU8rQ2",
        "outputId": "e58a3211-e914-477f-ffda-b4d253930e0c"
      },
      "execution_count": 17,
      "outputs": [
        {
          "output_type": "error",
          "ename": "ValueError",
          "evalue": "Model objective (profit) contains nonlinear terms that cannot be written to LP format",
          "traceback": [
            "\u001b[0;31m---------------------------------------------------------------------------\u001b[0m",
            "\u001b[0;31mValueError\u001b[0m                                Traceback (most recent call last)",
            "\u001b[0;32m<ipython-input-17-61f16ef2abe2>\u001b[0m in \u001b[0;36m<cell line: 43>\u001b[0;34m()\u001b[0m\n\u001b[1;32m     41\u001b[0m \u001b[0;31m# Solve the optimization problem\u001b[0m\u001b[0;34m\u001b[0m\u001b[0;34m\u001b[0m\u001b[0m\n\u001b[1;32m     42\u001b[0m \u001b[0msolver\u001b[0m \u001b[0;34m=\u001b[0m \u001b[0mSolverFactory\u001b[0m\u001b[0;34m(\u001b[0m\u001b[0;34m'glpk'\u001b[0m\u001b[0;34m)\u001b[0m  \u001b[0;31m# Specify the solver you want to use (e.g., 'glpk', 'cplex', 'gurobi')\u001b[0m\u001b[0;34m\u001b[0m\u001b[0;34m\u001b[0m\u001b[0m\n\u001b[0;32m---> 43\u001b[0;31m \u001b[0mresults\u001b[0m \u001b[0;34m=\u001b[0m \u001b[0msolver\u001b[0m\u001b[0;34m.\u001b[0m\u001b[0msolve\u001b[0m\u001b[0;34m(\u001b[0m\u001b[0mmodel\u001b[0m\u001b[0;34m)\u001b[0m\u001b[0;34m\u001b[0m\u001b[0;34m\u001b[0m\u001b[0m\n\u001b[0m\u001b[1;32m     44\u001b[0m \u001b[0;34m\u001b[0m\u001b[0m\n\u001b[1;32m     45\u001b[0m \u001b[0;31m# Print the results\u001b[0m\u001b[0;34m\u001b[0m\u001b[0;34m\u001b[0m\u001b[0m\n",
            "\u001b[0;32m/usr/local/lib/python3.10/dist-packages/pyomo/opt/base/solvers.py\u001b[0m in \u001b[0;36msolve\u001b[0;34m(self, *args, **kwds)\u001b[0m\n\u001b[1;32m    596\u001b[0m             \u001b[0minitial_time\u001b[0m \u001b[0;34m=\u001b[0m \u001b[0mtime\u001b[0m\u001b[0;34m.\u001b[0m\u001b[0mtime\u001b[0m\u001b[0;34m(\u001b[0m\u001b[0;34m)\u001b[0m\u001b[0;34m\u001b[0m\u001b[0;34m\u001b[0m\u001b[0m\n\u001b[1;32m    597\u001b[0m \u001b[0;34m\u001b[0m\u001b[0m\n\u001b[0;32m--> 598\u001b[0;31m             \u001b[0mself\u001b[0m\u001b[0;34m.\u001b[0m\u001b[0m_presolve\u001b[0m\u001b[0;34m(\u001b[0m\u001b[0;34m*\u001b[0m\u001b[0margs\u001b[0m\u001b[0;34m,\u001b[0m \u001b[0;34m**\u001b[0m\u001b[0mkwds\u001b[0m\u001b[0;34m)\u001b[0m\u001b[0;34m\u001b[0m\u001b[0;34m\u001b[0m\u001b[0m\n\u001b[0m\u001b[1;32m    599\u001b[0m \u001b[0;34m\u001b[0m\u001b[0m\n\u001b[1;32m    600\u001b[0m             \u001b[0mpresolve_completion_time\u001b[0m \u001b[0;34m=\u001b[0m \u001b[0mtime\u001b[0m\u001b[0;34m.\u001b[0m\u001b[0mtime\u001b[0m\u001b[0;34m(\u001b[0m\u001b[0;34m)\u001b[0m\u001b[0;34m\u001b[0m\u001b[0;34m\u001b[0m\u001b[0m\n",
            "\u001b[0;32m/usr/local/lib/python3.10/dist-packages/pyomo/opt/solver/shellcmd.py\u001b[0m in \u001b[0;36m_presolve\u001b[0;34m(self, *args, **kwds)\u001b[0m\n\u001b[1;32m    221\u001b[0m         \u001b[0mself\u001b[0m\u001b[0;34m.\u001b[0m\u001b[0m_define_signal_handlers\u001b[0m \u001b[0;34m=\u001b[0m \u001b[0mkwds\u001b[0m\u001b[0;34m.\u001b[0m\u001b[0mpop\u001b[0m\u001b[0;34m(\u001b[0m\u001b[0;34m'use_signal_handling'\u001b[0m\u001b[0;34m,\u001b[0m \u001b[0;32mNone\u001b[0m\u001b[0;34m)\u001b[0m\u001b[0;34m\u001b[0m\u001b[0;34m\u001b[0m\u001b[0m\n\u001b[1;32m    222\u001b[0m \u001b[0;34m\u001b[0m\u001b[0m\n\u001b[0;32m--> 223\u001b[0;31m         \u001b[0mOptSolver\u001b[0m\u001b[0;34m.\u001b[0m\u001b[0m_presolve\u001b[0m\u001b[0;34m(\u001b[0m\u001b[0mself\u001b[0m\u001b[0;34m,\u001b[0m \u001b[0;34m*\u001b[0m\u001b[0margs\u001b[0m\u001b[0;34m,\u001b[0m \u001b[0;34m**\u001b[0m\u001b[0mkwds\u001b[0m\u001b[0;34m)\u001b[0m\u001b[0;34m\u001b[0m\u001b[0;34m\u001b[0m\u001b[0m\n\u001b[0m\u001b[1;32m    224\u001b[0m \u001b[0;34m\u001b[0m\u001b[0m\n\u001b[1;32m    225\u001b[0m         \u001b[0;31m#\u001b[0m\u001b[0;34m\u001b[0m\u001b[0;34m\u001b[0m\u001b[0m\n",
            "\u001b[0;32m/usr/local/lib/python3.10/dist-packages/pyomo/opt/base/solvers.py\u001b[0m in \u001b[0;36m_presolve\u001b[0;34m(self, *args, **kwds)\u001b[0m\n\u001b[1;32m    702\u001b[0m             \u001b[0mwrite_start_time\u001b[0m \u001b[0;34m=\u001b[0m \u001b[0mtime\u001b[0m\u001b[0;34m.\u001b[0m\u001b[0mtime\u001b[0m\u001b[0;34m(\u001b[0m\u001b[0;34m)\u001b[0m\u001b[0;34m\u001b[0m\u001b[0;34m\u001b[0m\u001b[0m\n\u001b[1;32m    703\u001b[0m             (self._problem_files, self._problem_format, self._smap_id) = (\n\u001b[0;32m--> 704\u001b[0;31m                 self._convert_problem(\n\u001b[0m\u001b[1;32m    705\u001b[0m                     \u001b[0margs\u001b[0m\u001b[0;34m,\u001b[0m \u001b[0mself\u001b[0m\u001b[0;34m.\u001b[0m\u001b[0m_problem_format\u001b[0m\u001b[0;34m,\u001b[0m \u001b[0mself\u001b[0m\u001b[0;34m.\u001b[0m\u001b[0m_valid_problem_formats\u001b[0m\u001b[0;34m,\u001b[0m \u001b[0;34m**\u001b[0m\u001b[0mkwds\u001b[0m\u001b[0;34m\u001b[0m\u001b[0;34m\u001b[0m\u001b[0m\n\u001b[1;32m    706\u001b[0m                 )\n",
            "\u001b[0;32m/usr/local/lib/python3.10/dist-packages/pyomo/opt/base/solvers.py\u001b[0m in \u001b[0;36m_convert_problem\u001b[0;34m(self, args, problem_format, valid_problem_formats, **kwds)\u001b[0m\n\u001b[1;32m    754\u001b[0m \u001b[0;34m\u001b[0m\u001b[0m\n\u001b[1;32m    755\u001b[0m     \u001b[0;32mdef\u001b[0m \u001b[0m_convert_problem\u001b[0m\u001b[0;34m(\u001b[0m\u001b[0mself\u001b[0m\u001b[0;34m,\u001b[0m \u001b[0margs\u001b[0m\u001b[0;34m,\u001b[0m \u001b[0mproblem_format\u001b[0m\u001b[0;34m,\u001b[0m \u001b[0mvalid_problem_formats\u001b[0m\u001b[0;34m,\u001b[0m \u001b[0;34m**\u001b[0m\u001b[0mkwds\u001b[0m\u001b[0;34m)\u001b[0m\u001b[0;34m:\u001b[0m\u001b[0;34m\u001b[0m\u001b[0;34m\u001b[0m\u001b[0m\n\u001b[0;32m--> 756\u001b[0;31m         return convert_problem(\n\u001b[0m\u001b[1;32m    757\u001b[0m             \u001b[0margs\u001b[0m\u001b[0;34m,\u001b[0m \u001b[0mproblem_format\u001b[0m\u001b[0;34m,\u001b[0m \u001b[0mvalid_problem_formats\u001b[0m\u001b[0;34m,\u001b[0m \u001b[0mself\u001b[0m\u001b[0;34m.\u001b[0m\u001b[0mhas_capability\u001b[0m\u001b[0;34m,\u001b[0m \u001b[0;34m**\u001b[0m\u001b[0mkwds\u001b[0m\u001b[0;34m\u001b[0m\u001b[0;34m\u001b[0m\u001b[0m\n\u001b[1;32m    758\u001b[0m         )\n",
            "\u001b[0;32m/usr/local/lib/python3.10/dist-packages/pyomo/opt/base/convert.py\u001b[0m in \u001b[0;36mconvert_problem\u001b[0;34m(args, target_problem_type, valid_problem_types, has_capability, **kwds)\u001b[0m\n\u001b[1;32m     95\u001b[0m                     \u001b[0mtmpkw\u001b[0m \u001b[0;34m=\u001b[0m \u001b[0mkwds\u001b[0m\u001b[0;34m\u001b[0m\u001b[0;34m\u001b[0m\u001b[0m\n\u001b[1;32m     96\u001b[0m                     \u001b[0mtmpkw\u001b[0m\u001b[0;34m[\u001b[0m\u001b[0;34m'capabilities'\u001b[0m\u001b[0;34m]\u001b[0m \u001b[0;34m=\u001b[0m \u001b[0mhas_capability\u001b[0m\u001b[0;34m\u001b[0m\u001b[0;34m\u001b[0m\u001b[0m\n\u001b[0;32m---> 97\u001b[0;31m                     \u001b[0mproblem_files\u001b[0m\u001b[0;34m,\u001b[0m \u001b[0msymbol_map\u001b[0m \u001b[0;34m=\u001b[0m \u001b[0mconverter\u001b[0m\u001b[0;34m.\u001b[0m\u001b[0mapply\u001b[0m\u001b[0;34m(\u001b[0m\u001b[0;34m*\u001b[0m\u001b[0mtmp\u001b[0m\u001b[0;34m,\u001b[0m \u001b[0;34m**\u001b[0m\u001b[0mtmpkw\u001b[0m\u001b[0;34m)\u001b[0m\u001b[0;34m\u001b[0m\u001b[0;34m\u001b[0m\u001b[0m\n\u001b[0m\u001b[1;32m     98\u001b[0m                     \u001b[0;32mreturn\u001b[0m \u001b[0mproblem_files\u001b[0m\u001b[0;34m,\u001b[0m \u001b[0mptype\u001b[0m\u001b[0;34m,\u001b[0m \u001b[0msymbol_map\u001b[0m\u001b[0;34m\u001b[0m\u001b[0;34m\u001b[0m\u001b[0m\n\u001b[1;32m     99\u001b[0m \u001b[0;34m\u001b[0m\u001b[0m\n",
            "\u001b[0;32m/usr/local/lib/python3.10/dist-packages/pyomo/solvers/plugins/converter/model.py\u001b[0m in \u001b[0;36mapply\u001b[0;34m(self, *args, **kwds)\u001b[0m\n\u001b[1;32m     76\u001b[0m                     )\n\u001b[1;32m     77\u001b[0m                 \u001b[0;32melse\u001b[0m\u001b[0;34m:\u001b[0m\u001b[0;34m\u001b[0m\u001b[0;34m\u001b[0m\u001b[0m\n\u001b[0;32m---> 78\u001b[0;31m                     (problem_filename, symbol_map_id) = instance.write(\n\u001b[0m\u001b[1;32m     79\u001b[0m                         \u001b[0mfilename\u001b[0m\u001b[0;34m=\u001b[0m\u001b[0mproblem_filename\u001b[0m\u001b[0;34m,\u001b[0m\u001b[0;34m\u001b[0m\u001b[0;34m\u001b[0m\u001b[0m\n\u001b[1;32m     80\u001b[0m                         \u001b[0mformat\u001b[0m\u001b[0;34m=\u001b[0m\u001b[0mProblemFormat\u001b[0m\u001b[0;34m.\u001b[0m\u001b[0mcpxlp\u001b[0m\u001b[0;34m,\u001b[0m\u001b[0;34m\u001b[0m\u001b[0;34m\u001b[0m\u001b[0m\n",
            "\u001b[0;32m/usr/local/lib/python3.10/dist-packages/pyomo/core/base/block.py\u001b[0m in \u001b[0;36mwrite\u001b[0;34m(self, filename, format, solver_capability, io_options, int_marker)\u001b[0m\n\u001b[1;32m   1925\u001b[0m                 \u001b[0;32mreturn\u001b[0m \u001b[0;32mTrue\u001b[0m\u001b[0;34m\u001b[0m\u001b[0;34m\u001b[0m\u001b[0m\n\u001b[1;32m   1926\u001b[0m \u001b[0;34m\u001b[0m\u001b[0m\n\u001b[0;32m-> 1927\u001b[0;31m         \u001b[0;34m(\u001b[0m\u001b[0mfilename\u001b[0m\u001b[0;34m,\u001b[0m \u001b[0msmap\u001b[0m\u001b[0;34m)\u001b[0m \u001b[0;34m=\u001b[0m \u001b[0mproblem_writer\u001b[0m\u001b[0;34m(\u001b[0m\u001b[0mself\u001b[0m\u001b[0;34m,\u001b[0m \u001b[0mfilename\u001b[0m\u001b[0;34m,\u001b[0m \u001b[0msolver_capability\u001b[0m\u001b[0;34m,\u001b[0m \u001b[0mio_options\u001b[0m\u001b[0;34m)\u001b[0m\u001b[0;34m\u001b[0m\u001b[0;34m\u001b[0m\u001b[0m\n\u001b[0m\u001b[1;32m   1928\u001b[0m         \u001b[0msmap_id\u001b[0m \u001b[0;34m=\u001b[0m \u001b[0mid\u001b[0m\u001b[0;34m(\u001b[0m\u001b[0msmap\u001b[0m\u001b[0;34m)\u001b[0m\u001b[0;34m\u001b[0m\u001b[0;34m\u001b[0m\u001b[0m\n\u001b[1;32m   1929\u001b[0m         \u001b[0;32mif\u001b[0m \u001b[0;32mnot\u001b[0m \u001b[0mhasattr\u001b[0m\u001b[0;34m(\u001b[0m\u001b[0mself\u001b[0m\u001b[0;34m,\u001b[0m \u001b[0;34m'solutions'\u001b[0m\u001b[0;34m)\u001b[0m\u001b[0;34m:\u001b[0m\u001b[0;34m\u001b[0m\u001b[0;34m\u001b[0m\u001b[0m\n",
            "\u001b[0;32m/usr/local/lib/python3.10/dist-packages/pyomo/repn/plugins/lp_writer.py\u001b[0m in \u001b[0;36m__call__\u001b[0;34m(self, model, filename, solver_capability, io_options)\u001b[0m\n\u001b[1;32m    206\u001b[0m \u001b[0;34m\u001b[0m\u001b[0m\n\u001b[1;32m    207\u001b[0m         \u001b[0;32mwith\u001b[0m \u001b[0mopen\u001b[0m\u001b[0;34m(\u001b[0m\u001b[0mfilename\u001b[0m\u001b[0;34m,\u001b[0m \u001b[0;34m'w'\u001b[0m\u001b[0;34m,\u001b[0m \u001b[0mnewline\u001b[0m\u001b[0;34m=\u001b[0m\u001b[0;34m''\u001b[0m\u001b[0;34m)\u001b[0m \u001b[0;32mas\u001b[0m \u001b[0mFILE\u001b[0m\u001b[0;34m:\u001b[0m\u001b[0;34m\u001b[0m\u001b[0;34m\u001b[0m\u001b[0m\n\u001b[0;32m--> 208\u001b[0;31m             \u001b[0minfo\u001b[0m \u001b[0;34m=\u001b[0m \u001b[0mself\u001b[0m\u001b[0;34m.\u001b[0m\u001b[0mwrite\u001b[0m\u001b[0;34m(\u001b[0m\u001b[0mmodel\u001b[0m\u001b[0;34m,\u001b[0m \u001b[0mFILE\u001b[0m\u001b[0;34m,\u001b[0m \u001b[0;34m**\u001b[0m\u001b[0mio_options\u001b[0m\u001b[0;34m)\u001b[0m\u001b[0;34m\u001b[0m\u001b[0;34m\u001b[0m\u001b[0m\n\u001b[0m\u001b[1;32m    209\u001b[0m         \u001b[0;32mreturn\u001b[0m \u001b[0mfilename\u001b[0m\u001b[0;34m,\u001b[0m \u001b[0minfo\u001b[0m\u001b[0;34m.\u001b[0m\u001b[0msymbol_map\u001b[0m\u001b[0;34m\u001b[0m\u001b[0;34m\u001b[0m\u001b[0m\n\u001b[1;32m    210\u001b[0m \u001b[0;34m\u001b[0m\u001b[0m\n",
            "\u001b[0;32m/usr/local/lib/python3.10/dist-packages/pyomo/repn/plugins/lp_writer.py\u001b[0m in \u001b[0;36mwrite\u001b[0;34m(self, model, ostream, **options)\u001b[0m\n\u001b[1;32m    239\u001b[0m         \u001b[0;31m# small objects.\u001b[0m\u001b[0;34m\u001b[0m\u001b[0;34m\u001b[0m\u001b[0m\n\u001b[1;32m    240\u001b[0m         \u001b[0;32mwith\u001b[0m \u001b[0mPauseGC\u001b[0m\u001b[0;34m(\u001b[0m\u001b[0;34m)\u001b[0m\u001b[0;34m:\u001b[0m\u001b[0;34m\u001b[0m\u001b[0;34m\u001b[0m\u001b[0m\n\u001b[0;32m--> 241\u001b[0;31m             \u001b[0;32mreturn\u001b[0m \u001b[0m_LPWriter_impl\u001b[0m\u001b[0;34m(\u001b[0m\u001b[0mostream\u001b[0m\u001b[0;34m,\u001b[0m \u001b[0mconfig\u001b[0m\u001b[0;34m)\u001b[0m\u001b[0;34m.\u001b[0m\u001b[0mwrite\u001b[0m\u001b[0;34m(\u001b[0m\u001b[0mmodel\u001b[0m\u001b[0;34m)\u001b[0m\u001b[0;34m\u001b[0m\u001b[0;34m\u001b[0m\u001b[0m\n\u001b[0m\u001b[1;32m    242\u001b[0m \u001b[0;34m\u001b[0m\u001b[0m\n\u001b[1;32m    243\u001b[0m \u001b[0;34m\u001b[0m\u001b[0m\n",
            "\u001b[0;32m/usr/local/lib/python3.10/dist-packages/pyomo/repn/plugins/lp_writer.py\u001b[0m in \u001b[0;36mwrite\u001b[0;34m(self, model)\u001b[0m\n\u001b[1;32m    376\u001b[0m         \u001b[0mrepn\u001b[0m \u001b[0;34m=\u001b[0m \u001b[0mobjective_visitor\u001b[0m\u001b[0;34m.\u001b[0m\u001b[0mwalk_expression\u001b[0m\u001b[0;34m(\u001b[0m\u001b[0mobj\u001b[0m\u001b[0;34m.\u001b[0m\u001b[0mexpr\u001b[0m\u001b[0;34m)\u001b[0m\u001b[0;34m\u001b[0m\u001b[0;34m\u001b[0m\u001b[0m\n\u001b[1;32m    377\u001b[0m         \u001b[0;32mif\u001b[0m \u001b[0mrepn\u001b[0m\u001b[0;34m.\u001b[0m\u001b[0mnonlinear\u001b[0m \u001b[0;32mis\u001b[0m \u001b[0;32mnot\u001b[0m \u001b[0;32mNone\u001b[0m\u001b[0;34m:\u001b[0m\u001b[0;34m\u001b[0m\u001b[0;34m\u001b[0m\u001b[0m\n\u001b[0;32m--> 378\u001b[0;31m             raise ValueError(\n\u001b[0m\u001b[1;32m    379\u001b[0m                 \u001b[0;34mf\"Model objective ({obj.name}) contains nonlinear terms that \"\u001b[0m\u001b[0;34m\u001b[0m\u001b[0;34m\u001b[0m\u001b[0m\n\u001b[1;32m    380\u001b[0m                 \u001b[0;34m\"cannot be written to LP format\"\u001b[0m\u001b[0;34m\u001b[0m\u001b[0;34m\u001b[0m\u001b[0m\n",
            "\u001b[0;31mValueError\u001b[0m: Model objective (profit) contains nonlinear terms that cannot be written to LP format"
          ]
        }
      ]
    },
    {
      "cell_type": "markdown",
      "source": [
        "# 5. Correct The Model Code to Test Mathematical Model (if applicable)"
      ],
      "metadata": {
        "id": "KHTyoLQTWZVy"
      }
    },
    {
      "cell_type": "code",
      "source": [
        "%%capture\n",
        "import sys\n",
        "import os\n",
        "\n",
        "if 'google.colab' in sys.modules:\n",
        "    !pip install idaes-pse --pre\n",
        "    !idaes get-extensions --to ./bin\n",
        "    os.environ['PATH'] += ':bin'"
      ],
      "metadata": {
        "id": "X6i0_k5AasUn"
      },
      "execution_count": 18,
      "outputs": []
    },
    {
      "cell_type": "code",
      "source": [
        "from pyomo.environ import *\n",
        "\n",
        "# Create a Pyomo model\n",
        "model = ConcreteModel()\n",
        "\n",
        "# Define the variables\n",
        "model.x1 = Var(bounds=(0, 2000), doc=\"Olefin feed (barrels per day)\")\n",
        "model.x2 = Var(bounds=(0, 16000), doc=\"Isobutane recycle (barrels per day)\")\n",
        "model.x3 = Var(bounds=(0, 120), doc=\"Acid addition rate (thousands of pounds per day)\")\n",
        "model.x4 = Var(bounds=(0, 5000), doc=\"Alkylate yield (barrels per day)\")\n",
        "model.x5 = Var(bounds=(0, 2000), doc=\"Isobutane makeup (barrels per day)\")\n",
        "model.x6 = Var(bounds=(85, 93), doc=\"Acid strength (weight percent)\")\n",
        "model.x7 = Var(bounds=(90, 95), doc=\"Motor octane number\")\n",
        "model.x8 = Var(bounds=(3, 12), doc=\"External isobutane-to-olefin ratio\")\n",
        "model.x9 = Var(bounds=(1.2, 4), doc=\"Acid dilution factor\")\n",
        "model.x10 = Var(bounds=(145, 162), doc=\"F-4 performance number\")\n",
        "\n",
        "# Costs\n",
        "p1, c1, c2, c3, c4 = 0.63, 5.04, 0.035, 10.0, 3.36\n",
        "\n",
        "# Define the objective function\n",
        "model.profit = Objective(expr=p1 * model.x4 * model.x7 - (c1 * model.x1 + c2 * model.x2 + c3 * model.x3 + c4 * model.x5), sense=maximize)\n",
        "\n",
        "# Define the constraints\n",
        "model.alkylate_yield_lower = Constraint(expr=0.98 * (1.12 * model.x1 + 0.13167 * model.x1 * model.x8 - 0.00667 * model.x1 * model.x8**2) <= model.x4)\n",
        "model.alkylate_yield_upper = Constraint(expr=model.x4 <= 1.02 * (1.12 * model.x1 + 0.13167 * model.x1 * model.x8 - 0.00667 * model.x1 * model.x8**2))\n",
        "\n",
        "model.octane_number_lower = Constraint(expr=0.99 * (86.35 + 1.098 * model.x8 - 0.038 * model.x8**2 + 0.325 * (model.x6 - 89)) <= model.x7)\n",
        "model.octane_number_upper = Constraint(expr=model.x7 <= 1.01 * (86.35 + 1.098 * model.x8 - 0.038 * model.x8**2 + 0.325 * (model.x6 - 89)))\n",
        "\n",
        "model.acid_dilution_lower = Constraint(expr=0.95 * (35.82 - 0.222 * model.x10) <= model.x9)\n",
        "model.acid_dilution_upper = Constraint(expr=model.x9 <= 1.05 * (35.82 - 0.222 * model.x10))\n",
        "\n",
        "model.performance_number_lower = Constraint(expr=0.90 * (-133 + 3 * model.x7) <= model.x10)\n",
        "model.performance_number_upper = Constraint(expr=model.x10 <= 1.10 * (-133 + 3 * model.x7))\n",
        "\n",
        "model.isobutane_olefin_ratio = Constraint(expr=model.x8 == (model.x2 + model.x5) / model.x1)\n",
        "model.acid_strength = Constraint(expr=model.x6 == (93000 * model.x3) / (model.x3 * model.x9 + 1000 * model.x3))\n",
        "model.material_balance = Constraint(expr=1.22 * model.x4 == model.x1 + model.x5)\n",
        "\n",
        "# Solve the optimization problem\n",
        "solver = SolverFactory('ipopt')  # Specify the solver you want to use (e.g., 'glpk', 'cplex', 'gurobi')\n",
        "results = solver.solve(model)\n",
        "\n",
        "# Print the results\n",
        "print(\"Optimization Results:\")\n",
        "print(\"Objective Function Value:\", model.profit())\n",
        "print(\"Variable Values:\")\n",
        "print(\"x1 (Olefin feed):\", model.x1())\n",
        "print(\"x2 (Isobutane recycle):\", model.x2())\n",
        "print(\"x3 (Acid addition rate):\", model.x3())\n",
        "print(\"x4 (Alkylate yield):\", model.x4())\n",
        "print(\"x5 (Isobutane makeup):\", model.x5())\n",
        "print(\"x6 (Acid strength):\", model.x6())\n",
        "print(\"x7 (Motor octane number):\", model.x7())\n",
        "print(\"x8 (External isobutane-to-olefin ratio):\", model.x8())\n",
        "print(\"x9 (Acid dilution factor):\", model.x9())\n",
        "print(\"x10 (F-4 performance number):\", model.x10())"
      ],
      "metadata": {
        "colab": {
          "base_uri": "https://localhost:8080/"
        },
        "id": "4Y8jgWE_uNhv",
        "outputId": "138e877e-cea5-46b0-9a74-4703b8432f1f"
      },
      "execution_count": 19,
      "outputs": [
        {
          "output_type": "stream",
          "name": "stdout",
          "text": [
            "Optimization Results:\n",
            "Objective Function Value: 176594.13705361064\n",
            "Variable Values:\n",
            "x1 (Olefin feed): 2000.0\n",
            "x2 (Isobutane recycle): 10113.175625405223\n",
            "x3 (Acid addition rate): 0.0\n",
            "x4 (Alkylate yield): 3278.688557376949\n",
            "x5 (Isobutane makeup): 2000.0\n",
            "x6 (Acid strength): 92.88853376059824\n",
            "x7 (Motor octane number): 93.79868152416277\n",
            "x8 (External isobutane-to-olefin ratio): 6.056587762136942\n",
            "x9 (Acid dilution factor): 1.2\n",
            "x10 (F-4 performance number): 155.9263365300636\n"
          ]
        }
      ]
    }
  ]
}