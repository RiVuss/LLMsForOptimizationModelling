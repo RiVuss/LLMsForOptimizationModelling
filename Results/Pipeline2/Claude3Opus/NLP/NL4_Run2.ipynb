{
  "nbformat": 4,
  "nbformat_minor": 0,
  "metadata": {
    "colab": {
      "provenance": []
    },
    "kernelspec": {
      "name": "python3",
      "display_name": "Python 3"
    },
    "language_info": {
      "name": "python"
    }
  },
  "cells": [
    {
      "cell_type": "markdown",
      "source": [
        "# 0. Imports and Setting up Anthropic API Client"
      ],
      "metadata": {
        "id": "y5fw0lkBwBbo"
      }
    },
    {
      "cell_type": "code",
      "source": [
        "from google.colab import drive\n",
        "\n",
        "drive.mount('/content/drive')"
      ],
      "metadata": {
        "colab": {
          "base_uri": "https://localhost:8080/"
        },
        "id": "e7tWOLo0yMoH",
        "outputId": "83a55fa7-1539-4c23-9f1e-611884c91bf2"
      },
      "execution_count": 1,
      "outputs": [
        {
          "output_type": "stream",
          "name": "stdout",
          "text": [
            "Mounted at /content/drive\n"
          ]
        }
      ]
    },
    {
      "cell_type": "code",
      "source": [
        "!pip install python-dotenv\n",
        "\n",
        "import os\n",
        "import dotenv\n",
        "\n",
        "dotenv.load_dotenv('/content/drive/MyDrive/.env')"
      ],
      "metadata": {
        "colab": {
          "base_uri": "https://localhost:8080/"
        },
        "id": "utcEK8lZ1Z1R",
        "outputId": "cd63b950-05b6-454d-e0c2-346cc9f5ebbd"
      },
      "execution_count": 2,
      "outputs": [
        {
          "output_type": "stream",
          "name": "stdout",
          "text": [
            "Collecting python-dotenv\n",
            "  Downloading python_dotenv-1.0.1-py3-none-any.whl (19 kB)\n",
            "Installing collected packages: python-dotenv\n",
            "Successfully installed python-dotenv-1.0.1\n"
          ]
        },
        {
          "output_type": "execute_result",
          "data": {
            "text/plain": [
              "True"
            ]
          },
          "metadata": {},
          "execution_count": 2
        }
      ]
    },
    {
      "cell_type": "code",
      "source": [
        "# Load Prompts and Problem Description\n",
        "# Variables Prompt\n",
        "prompt11_path = '/content/drive/MyDrive/Thesis/Prompts/Prompt11_MathematicalModel.txt'\n",
        "\n",
        "# Objective Prompt\n",
        "prompt12_path = '/content/drive/MyDrive/Thesis/Prompts/Prompt12_MathematicalModel.txt'\n",
        "\n",
        "# Constraint Prompt\n",
        "prompt13_path = '/content/drive/MyDrive/Thesis/Prompts/Prompt13_MathematicalModel.txt'\n",
        "\n",
        "# Code Prompt\n",
        "prompt2_path = '/content/drive/MyDrive/Thesis/Prompts/Prompt2_PyomoCode.txt'\n",
        "problem_desc_path = '/content/drive/MyDrive/Thesis/ProblemDescriptions/NL/NL4.txt'\n",
        "\n",
        "prompt11_file = open(prompt11_path, \"r\")\n",
        "prompt12_file = open(prompt12_path, \"r\")\n",
        "prompt13_file = open(prompt13_path, \"r\")\n",
        "prompt2_file = open(prompt2_path, \"r\")\n",
        "problem_desc_file = open(problem_desc_path, \"r\")\n",
        "\n",
        "prompt11 = prompt11_file.read()\n",
        "print(\"Prompt 1.1 (Variables):\\n\", prompt11)\n",
        "\n",
        "prompt12 = prompt12_file.read()\n",
        "print(\"Prompt 1.2 (Objctive):\\n\", prompt12)\n",
        "\n",
        "prompt13 = prompt13_file.read()\n",
        "print(\"Prompt 1.3 (Constraints):\\n\", prompt13)\n",
        "\n",
        "prompt2 = prompt2_file.read()\n",
        "print(\"Prompt 2:\\n\", prompt2)\n",
        "\n",
        "problem_desc = problem_desc_file.read()\n",
        "print(\"Problem Description:\\n\", problem_desc)"
      ],
      "metadata": {
        "colab": {
          "base_uri": "https://localhost:8080/"
        },
        "id": "9KlkjwMUS4xp",
        "outputId": "6e67cc3f-0603-49a9-e092-927db95ac0f4"
      },
      "execution_count": 3,
      "outputs": [
        {
          "output_type": "stream",
          "name": "stdout",
          "text": [
            "Prompt 1.1 (Variables):\n",
            " Please formulate only the variables for this mathematical optimization problem. \n",
            "Prompt 1.2 (Objctive):\n",
            " Please formulate only the objective function for this mathematical optimization problem. \n",
            "Prompt 1.3 (Constraints):\n",
            " Please formulate only the constraints for this mathematical optimization problem. \n",
            "Prompt 2:\n",
            " Please write a python pyomo code for this optimization problem.\n",
            "Use sample data where needed.\n",
            "Indicate where you use sample data.\n",
            "Problem Description:\n",
            " We are looking at an alkylation process which will include the following 10 variables: olefin feed (barrels per day), isobutane recycle (barrels per day), acid addition rate (thousands of pounds per day), alkylate yield (barrels per day), isobutane makeup (barrels per day), acid strength (weight per cent), motor octane number, external isobutane-to-olefin ratio, acid dilution factor and F-4 performance number. \n",
            "\n",
            "We want to maximize the daily profit of this alkylation process. \n",
            "The profit is defined as the revenue generated from the alkylate yield multiplied with the motor octane number, minus the operational costs, which include olefin feed, isobutane recycle, acid addition rate, and isobutane makeup. \n",
            "\n",
            "Relationships in terms of other variables for alkylate yield, motor octane number, acid dilution factor, and F-4 performance number can be formulated as regression formulas. \n",
            "This regression estimate can deviate in both directions from true value of these variables by 2, 1, 5 and 10 percent, respectively.\n",
            "Alkylate yield is a function of olefin feed and external isobutane-to-olefine yield. Alkalyte yield equals the amount of olefin feed multiplied by the sum of 1.12, 0.13167 times the external isobutane-to-olefin ratio and -0.00667 times the external isobutane-to-olefin ratio squared.\n",
            "The motor octane number is derived from the external isobutane-to-olefin ratio and the acid strength. The motor octane number is calculated as the sum of 86.35, 1.098 time external isobutane-to-olefin ratio, -0.038 times the external isobutane-to-olefin ratio squared and 0.325 times acid strength reduced by 89.\n",
            "The acid dilution factor is calculated based on the F-4 performance number. The acid dillution factor is expressed as 35.82 minus 0.222 times F-4 performance number.\n",
            "Lastly, the F-4 performance number depends on the motor octane number. F-4 performance number is calculated as -133 plus three times the motor octane number.\n",
            "\n",
            "There are some additional constraints imposed by the nature of the chemical process.\n",
            "Each variable has a lower and an upper bound.\n",
            "The external isobutane-to-olefin ratio needs to equal the ratio of isobutane recycle plus isobutane makeup to olefin feed. \n",
            "The acid strength needs to equal the ratio of 93000 times acid addition rate to acid addition rate multiplied by acid dilution factor in addition to 1000 times acid addition rate. \n",
            "Lastly, 1.22 alkylate yield needs to be equal to the combined olefin feed and isobutane makeup.\n"
          ]
        }
      ]
    },
    {
      "cell_type": "code",
      "source": [
        "!pip install anthropic"
      ],
      "metadata": {
        "colab": {
          "base_uri": "https://localhost:8080/"
        },
        "id": "iWlNsTIvxCcR",
        "outputId": "bbf707ef-dd84-4c95-d7da-1b1562bdfa18",
        "collapsed": true
      },
      "execution_count": 4,
      "outputs": [
        {
          "output_type": "stream",
          "name": "stdout",
          "text": [
            "Collecting anthropic\n",
            "  Downloading anthropic-0.28.0-py3-none-any.whl (862 kB)\n",
            "\u001b[?25l     \u001b[90m━━━━━━━━━━━━━━━━━━━━━━━━━━━━━━━━━━━━━━━━\u001b[0m \u001b[32m0.0/862.7 kB\u001b[0m \u001b[31m?\u001b[0m eta \u001b[36m-:--:--\u001b[0m\r\u001b[2K     \u001b[91m━━━━━━━━━━\u001b[0m\u001b[90m╺\u001b[0m\u001b[90m━━━━━━━━━━━━━━━━━━━━━━━━━━━━━\u001b[0m \u001b[32m225.3/862.7 kB\u001b[0m \u001b[31m7.3 MB/s\u001b[0m eta \u001b[36m0:00:01\u001b[0m\r\u001b[2K     \u001b[90m━━━━━━━━━━━━━━━━━━━━━━━━━━━━━━━━━━━━━━━━\u001b[0m \u001b[32m862.7/862.7 kB\u001b[0m \u001b[31m16.8 MB/s\u001b[0m eta \u001b[36m0:00:00\u001b[0m\n",
            "\u001b[?25hRequirement already satisfied: anyio<5,>=3.5.0 in /usr/local/lib/python3.10/dist-packages (from anthropic) (3.7.1)\n",
            "Requirement already satisfied: distro<2,>=1.7.0 in /usr/lib/python3/dist-packages (from anthropic) (1.7.0)\n",
            "Collecting httpx<1,>=0.23.0 (from anthropic)\n",
            "  Downloading httpx-0.27.0-py3-none-any.whl (75 kB)\n",
            "\u001b[2K     \u001b[90m━━━━━━━━━━━━━━━━━━━━━━━━━━━━━━━━━━━━━━━━\u001b[0m \u001b[32m75.6/75.6 kB\u001b[0m \u001b[31m12.2 MB/s\u001b[0m eta \u001b[36m0:00:00\u001b[0m\n",
            "\u001b[?25hCollecting jiter<1,>=0.4.0 (from anthropic)\n",
            "  Downloading jiter-0.4.1-cp310-cp310-manylinux_2_17_x86_64.manylinux2014_x86_64.whl (328 kB)\n",
            "\u001b[2K     \u001b[90m━━━━━━━━━━━━━━━━━━━━━━━━━━━━━━━━━━━━━━━━\u001b[0m \u001b[32m328.3/328.3 kB\u001b[0m \u001b[31m34.2 MB/s\u001b[0m eta \u001b[36m0:00:00\u001b[0m\n",
            "\u001b[?25hRequirement already satisfied: pydantic<3,>=1.9.0 in /usr/local/lib/python3.10/dist-packages (from anthropic) (2.7.3)\n",
            "Requirement already satisfied: sniffio in /usr/local/lib/python3.10/dist-packages (from anthropic) (1.3.1)\n",
            "Requirement already satisfied: tokenizers>=0.13.0 in /usr/local/lib/python3.10/dist-packages (from anthropic) (0.19.1)\n",
            "Requirement already satisfied: typing-extensions<5,>=4.7 in /usr/local/lib/python3.10/dist-packages (from anthropic) (4.12.1)\n",
            "Requirement already satisfied: idna>=2.8 in /usr/local/lib/python3.10/dist-packages (from anyio<5,>=3.5.0->anthropic) (3.7)\n",
            "Requirement already satisfied: exceptiongroup in /usr/local/lib/python3.10/dist-packages (from anyio<5,>=3.5.0->anthropic) (1.2.1)\n",
            "Requirement already satisfied: certifi in /usr/local/lib/python3.10/dist-packages (from httpx<1,>=0.23.0->anthropic) (2024.6.2)\n",
            "Collecting httpcore==1.* (from httpx<1,>=0.23.0->anthropic)\n",
            "  Downloading httpcore-1.0.5-py3-none-any.whl (77 kB)\n",
            "\u001b[2K     \u001b[90m━━━━━━━━━━━━━━━━━━━━━━━━━━━━━━━━━━━━━━━━\u001b[0m \u001b[32m77.9/77.9 kB\u001b[0m \u001b[31m11.5 MB/s\u001b[0m eta \u001b[36m0:00:00\u001b[0m\n",
            "\u001b[?25hCollecting h11<0.15,>=0.13 (from httpcore==1.*->httpx<1,>=0.23.0->anthropic)\n",
            "  Downloading h11-0.14.0-py3-none-any.whl (58 kB)\n",
            "\u001b[2K     \u001b[90m━━━━━━━━━━━━━━━━━━━━━━━━━━━━━━━━━━━━━━━━\u001b[0m \u001b[32m58.3/58.3 kB\u001b[0m \u001b[31m7.2 MB/s\u001b[0m eta \u001b[36m0:00:00\u001b[0m\n",
            "\u001b[?25hRequirement already satisfied: annotated-types>=0.4.0 in /usr/local/lib/python3.10/dist-packages (from pydantic<3,>=1.9.0->anthropic) (0.7.0)\n",
            "Requirement already satisfied: pydantic-core==2.18.4 in /usr/local/lib/python3.10/dist-packages (from pydantic<3,>=1.9.0->anthropic) (2.18.4)\n",
            "Requirement already satisfied: huggingface-hub<1.0,>=0.16.4 in /usr/local/lib/python3.10/dist-packages (from tokenizers>=0.13.0->anthropic) (0.23.2)\n",
            "Requirement already satisfied: filelock in /usr/local/lib/python3.10/dist-packages (from huggingface-hub<1.0,>=0.16.4->tokenizers>=0.13.0->anthropic) (3.14.0)\n",
            "Requirement already satisfied: fsspec>=2023.5.0 in /usr/local/lib/python3.10/dist-packages (from huggingface-hub<1.0,>=0.16.4->tokenizers>=0.13.0->anthropic) (2023.6.0)\n",
            "Requirement already satisfied: packaging>=20.9 in /usr/local/lib/python3.10/dist-packages (from huggingface-hub<1.0,>=0.16.4->tokenizers>=0.13.0->anthropic) (24.0)\n",
            "Requirement already satisfied: pyyaml>=5.1 in /usr/local/lib/python3.10/dist-packages (from huggingface-hub<1.0,>=0.16.4->tokenizers>=0.13.0->anthropic) (6.0.1)\n",
            "Requirement already satisfied: requests in /usr/local/lib/python3.10/dist-packages (from huggingface-hub<1.0,>=0.16.4->tokenizers>=0.13.0->anthropic) (2.31.0)\n",
            "Requirement already satisfied: tqdm>=4.42.1 in /usr/local/lib/python3.10/dist-packages (from huggingface-hub<1.0,>=0.16.4->tokenizers>=0.13.0->anthropic) (4.66.4)\n",
            "Requirement already satisfied: charset-normalizer<4,>=2 in /usr/local/lib/python3.10/dist-packages (from requests->huggingface-hub<1.0,>=0.16.4->tokenizers>=0.13.0->anthropic) (3.3.2)\n",
            "Requirement already satisfied: urllib3<3,>=1.21.1 in /usr/local/lib/python3.10/dist-packages (from requests->huggingface-hub<1.0,>=0.16.4->tokenizers>=0.13.0->anthropic) (2.0.7)\n",
            "Installing collected packages: jiter, h11, httpcore, httpx, anthropic\n",
            "Successfully installed anthropic-0.28.0 h11-0.14.0 httpcore-1.0.5 httpx-0.27.0 jiter-0.4.1\n"
          ]
        }
      ]
    },
    {
      "cell_type": "code",
      "execution_count": 5,
      "metadata": {
        "id": "7Qjk2D63v1Bl"
      },
      "outputs": [],
      "source": [
        "# Importing Anthropic & Setting Headers\n",
        "import anthropic\n",
        "\n",
        "client = anthropic.Anthropic(\n",
        "    # defaults to os.environ.get(\"ANTHROPIC_API_KEY\")\n",
        "    api_key=os.environ.get(\"ANTHROPIC_API_KEY\"),\n",
        ")"
      ]
    },
    {
      "cell_type": "markdown",
      "source": [
        "# 1. Prompt 1.1: Create Variables for Mathematical Model"
      ],
      "metadata": {
        "id": "kT7yKbJs18XR"
      }
    },
    {
      "cell_type": "code",
      "source": [
        "message11 = client.messages.create(\n",
        "    model=\"claude-3-opus-20240229\",\n",
        "    system=prompt11,\n",
        "    max_tokens=4096,\n",
        "    messages=[\n",
        "        {\"role\": \"user\", \"content\": problem_desc}\n",
        "    ]\n",
        ")\n",
        "\n",
        "response_p11 = message11.content[0].text"
      ],
      "metadata": {
        "id": "R_6X0axq16D4"
      },
      "execution_count": 6,
      "outputs": []
    },
    {
      "cell_type": "code",
      "source": [
        "# Print response\n",
        "print(response_p11)"
      ],
      "metadata": {
        "colab": {
          "base_uri": "https://localhost:8080/"
        },
        "id": "Ra9Ox_PI38jg",
        "outputId": "f8f62d05-1d66-4ca6-8092-d2b7c2c50dfe"
      },
      "execution_count": 7,
      "outputs": [
        {
          "output_type": "stream",
          "name": "stdout",
          "text": [
            "Based on the problem description, let's define the variables for this mathematical optimization problem:\n",
            "\n",
            "Decision Variables:\n",
            "- OF: Olefin feed (barrels per day)\n",
            "- IR: Isobutane recycle (barrels per day)\n",
            "- AA: Acid addition rate (thousands of pounds per day)\n",
            "- IM: Isobutane makeup (barrels per day)\n",
            "\n",
            "Dependent Variables:\n",
            "- AY: Alkylate yield (barrels per day)\n",
            "- AS: Acid strength (weight percent)\n",
            "- MO: Motor octane number\n",
            "- ER: External isobutane-to-olefin ratio\n",
            "- AD: Acid dilution factor\n",
            "- FP: F-4 performance number\n",
            "\n",
            "Objective Function:\n",
            "- P: Daily profit (to be maximized)\n",
            "\n",
            "The dependent variables (AY, AS, MO, ER, AD, and FP) will be expressed as functions of the decision variables using the provided regression formulas and constraints.\n"
          ]
        }
      ]
    },
    {
      "cell_type": "markdown",
      "source": [
        "# 1. Prompt 1.2: Create Objective for Mathematical Model"
      ],
      "metadata": {
        "id": "nbt6yH1snBQL"
      }
    },
    {
      "cell_type": "code",
      "source": [
        "message12 = client.messages.create(\n",
        "    model=\"claude-3-opus-20240229\",\n",
        "    system=prompt12,\n",
        "    max_tokens=4096,\n",
        "    messages=[\n",
        "        {\"role\": \"user\", \"content\": (problem_desc + response_p11)}\n",
        "    ]\n",
        ")\n",
        "\n",
        "response_p12 = message12.content[0].text"
      ],
      "metadata": {
        "id": "ol4rtt_MnAy8"
      },
      "execution_count": 8,
      "outputs": []
    },
    {
      "cell_type": "code",
      "source": [
        "# Print response\n",
        "print(response_p12)"
      ],
      "metadata": {
        "colab": {
          "base_uri": "https://localhost:8080/"
        },
        "id": "Vz2F_EARnzHf",
        "outputId": "8b73264a-9bbd-4a83-f98d-edbc0cc4ec15"
      },
      "execution_count": 9,
      "outputs": [
        {
          "output_type": "stream",
          "name": "stdout",
          "text": [
            "Now, let's formulate the objective function for this alkylation process optimization problem:\n",
            "\n",
            "Maximize:  P = (AY * MO) - (OF + IR + AA + IM)\n",
            "\n",
            "Where:\n",
            "- P is the daily profit to be maximized\n",
            "- AY is the alkylate yield (barrels per day), expressed as a function of OF and ER\n",
            "- MO is the motor octane number, expressed as a function of ER and AS\n",
            "- OF is the olefin feed (barrels per day)\n",
            "- IR is the isobutane recycle (barrels per day)\n",
            "- AA is the acid addition rate (thousands of pounds per day)\n",
            "- IM is the isobutane makeup (barrels per day)\n",
            "\n",
            "The objective function aims to maximize the daily profit (P), which is calculated as the revenue generated from the product of alkylate yield (AY) and motor octane number (MO), minus the operational costs that include olefin feed (OF), isobutane recycle (IR), acid addition rate (AA), and isobutane makeup (IM).\n",
            "\n",
            "Please note that the dependent variables AY and MO are expressed as functions of the decision variables and other dependent variables, as per the provided regression formulas and constraints. These relationships, along with the additional constraints mentioned, will be formulated as separate constraint equations in the complete mathematical optimization problem formulation.\n"
          ]
        }
      ]
    },
    {
      "cell_type": "markdown",
      "source": [
        "# 1. Prompt 1.3: Create Constraints for Mathematical Model\n"
      ],
      "metadata": {
        "id": "Wzf33DwvnEar"
      }
    },
    {
      "cell_type": "code",
      "source": [
        "message13 = client.messages.create(\n",
        "    model=\"claude-3-opus-20240229\",\n",
        "    system=prompt13,\n",
        "    max_tokens=4096,\n",
        "    messages=[\n",
        "        {\"role\": \"user\", \"content\": (problem_desc + response_p11 + response_p12)}\n",
        "    ]\n",
        ")\n",
        "\n",
        "response_p13 = message13.content[0].text"
      ],
      "metadata": {
        "id": "l1UAJRt7nENG"
      },
      "execution_count": 10,
      "outputs": []
    },
    {
      "cell_type": "code",
      "source": [
        "# Print response\n",
        "print(response_p13)"
      ],
      "metadata": {
        "colab": {
          "base_uri": "https://localhost:8080/"
        },
        "id": "vH7Ff9mxn4FZ",
        "outputId": "7f3490b3-c104-4cb4-de27-b5a710954359"
      },
      "execution_count": 11,
      "outputs": [
        {
          "output_type": "stream",
          "name": "stdout",
          "text": [
            "Based on the provided problem description, here are the constraints for the alkylation process optimization problem:\n",
            "\n",
            "Regression Formula Constraints:\n",
            "1. AY = OF * (1.12 + 0.13167 * ER - 0.00667 * ER^2)\n",
            "   0.98 * AY ≤ OF * (1.12 + 0.13167 * ER - 0.00667 * ER^2) ≤ 1.02 * AY\n",
            "\n",
            "2. MO = 86.35 + 1.098 * ER - 0.038 * ER^2 + 0.325 * (AS - 89)\n",
            "   0.99 * MO ≤ 86.35 + 1.098 * ER - 0.038 * ER^2 + 0.325 * (AS - 89) ≤ 1.01 * MO\n",
            "\n",
            "3. AD = 35.82 - 0.222 * FP\n",
            "   0.95 * AD ≤ 35.82 - 0.222 * FP ≤ 1.05 * AD\n",
            "\n",
            "4. FP = -133 + 3 * MO\n",
            "   0.9 * FP ≤ -133 + 3 * MO ≤ 1.1 * FP\n",
            "\n",
            "Additional Constraints:\n",
            "5. ER = (IR + IM) / OF\n",
            "\n",
            "6. AS = (93000 * AA) / (AA * AD + 1000 * AA)\n",
            "\n",
            "7. 1.22 * AY = OF + IM\n",
            "\n",
            "Variable Bounds:\n",
            "8. OF_min ≤ OF ≤ OF_max\n",
            "9. IR_min ≤ IR ≤ IR_max\n",
            "10. AA_min ≤ AA ≤ AA_max\n",
            "11. IM_min ≤ IM ≤ IM_max\n",
            "\n",
            "Where:\n",
            "- OF_min, OF_max, IR_min, IR_max, AA_min, AA_max, IM_min, and IM_max are the respective lower and upper bounds for the decision variables OF, IR, AA, and IM.\n",
            "\n",
            "The regression formula constraints (1-4) ensure that the dependent variables (AY, MO, AD, and FP) are within the specified deviation range from their true values calculated using the regression formulas.\n",
            "\n",
            "The additional constraints (5-7) represent the relationships between variables based on the nature of the chemical process.\n",
            "\n",
            "The variable bounds (8-11) specify the lower and upper limits for each decision variable.\n",
            "\n",
            "These constraints, along with the objective function provided earlier, complete the formulation of the alkylation process optimization problem as a mathematical optimization problem.\n"
          ]
        }
      ]
    },
    {
      "cell_type": "markdown",
      "source": [
        "# 2. Prompt 2: Write Code based on Mathematical Model\n",
        "\n",
        "In case more than the component of each step was generated, use \"last instance\"/ \"newest version\" of the components.\n",
        "\n",
        "Example:\n",
        "Prompt 1.1 (Variables): Model generates only variables\n",
        "Prompt 1.2 (Objectvie): Model generates objective and constraints\n",
        "Prompt 1.3 (Constraints): Model generates only constraints\n",
        "\n",
        "Use Variables from step 1.1, use objective from 1.2 and use constraints from 1.3 (since constraints version 1.3 is more recent than constraints version 1.2).\n",
        "\n",
        "This set up allows for potential self-correction of the model throughout the three prompts.\n",
        "\n",
        "Correctness of each component is still generated in the respective step, so self-correction is independent of this."
      ],
      "metadata": {
        "id": "WPZ6lgBO729j"
      }
    },
    {
      "cell_type": "code",
      "source": [
        "message2 = client.messages.create(\n",
        "    model=\"claude-3-opus-20240229\",\n",
        "    system=prompt2,\n",
        "    max_tokens=4069,\n",
        "    messages=[\n",
        "        {\"role\": \"user\", \"content\": (response_p11+ response_p12 + response_p13)}\n",
        "    ]\n",
        ")\n",
        "\n",
        "response_p2 = message2.content[0].text"
      ],
      "metadata": {
        "id": "1iUSgBda70FL"
      },
      "execution_count": 12,
      "outputs": []
    },
    {
      "cell_type": "code",
      "source": [
        "# Print response\n",
        "print(response_p2)"
      ],
      "metadata": {
        "colab": {
          "base_uri": "https://localhost:8080/"
        },
        "id": "o40mxc_H8eQ9",
        "outputId": "3b3361e5-8aa4-4c5f-c0fc-35ae259e9e90"
      },
      "execution_count": 13,
      "outputs": [
        {
          "output_type": "stream",
          "name": "stdout",
          "text": [
            "Great! Let's formulate the Pyomo model for the alkylation process optimization problem. We'll use sample data for the variable bounds, which you can replace with the actual values later.\n",
            "\n",
            "```python\n",
            "from pyomo.environ import *\n",
            "\n",
            "# Create a Pyomo model\n",
            "model = ConcreteModel()\n",
            "\n",
            "# Define decision variables\n",
            "model.OF = Var(within=NonNegativeReals, bounds=(5000, 10000))  # Sample bounds for OF\n",
            "model.IR = Var(within=NonNegativeReals, bounds=(8000, 15000))  # Sample bounds for IR\n",
            "model.AA = Var(within=NonNegativeReals, bounds=(10, 20))  # Sample bounds for AA\n",
            "model.IM = Var(within=NonNegativeReals, bounds=(1000, 3000))  # Sample bounds for IM\n",
            "\n",
            "# Define dependent variables\n",
            "model.AY = Var(within=NonNegativeReals)\n",
            "model.AS = Var(within=NonNegativeReals)\n",
            "model.MO = Var(within=NonNegativeReals)\n",
            "model.ER = Var(within=NonNegativeReals)\n",
            "model.AD = Var(within=NonNegativeReals)\n",
            "model.FP = Var(within=NonNegativeReals)\n",
            "\n",
            "# Define objective function\n",
            "def profit(model):\n",
            "    return (model.AY * model.MO) - (model.OF + model.IR + model.AA + model.IM)\n",
            "model.profit = Objective(rule=profit, sense=maximize)\n",
            "\n",
            "# Define constraints\n",
            "def alkylate_yield(model):\n",
            "    return model.AY == model.OF * (1.12 + 0.13167 * model.ER - 0.00667 * model.ER**2)\n",
            "model.alkylate_yield = Constraint(rule=alkylate_yield)\n",
            "\n",
            "def motor_octane(model):\n",
            "    return model.MO == 86.35 + 1.098 * model.ER - 0.038 * model.ER**2 + 0.325 * (model.AS - 89)\n",
            "model.motor_octane = Constraint(rule=motor_octane)\n",
            "\n",
            "def acid_dilution(model):\n",
            "    return model.AD == 35.82 - 0.222 * model.FP\n",
            "model.acid_dilution = Constraint(rule=acid_dilution)\n",
            "\n",
            "def f4_performance(model):\n",
            "    return model.FP == -133 + 3 * model.MO\n",
            "model.f4_performance = Constraint(rule=f4_performance)\n",
            "\n",
            "def external_ratio(model):\n",
            "    return model.ER == (model.IR + model.IM) / model.OF\n",
            "model.external_ratio = Constraint(rule=external_ratio)\n",
            "\n",
            "def acid_strength(model):\n",
            "    return model.AS == (93000 * model.AA) / (model.AA * model.AD + 1000 * model.AA)\n",
            "model.acid_strength = Constraint(rule=acid_strength)\n",
            "\n",
            "def material_balance(model):\n",
            "    return 1.22 * model.AY == model.OF + model.IM\n",
            "model.material_balance = Constraint(rule=material_balance)\n",
            "\n",
            "# Solve the optimization problem\n",
            "solver = SolverFactory('ipopt')\n",
            "results = solver.solve(model)\n",
            "\n",
            "# Print the results\n",
            "print(\"Optimization Results:\")\n",
            "print(\"Objective Function Value (Daily Profit): $\", model.profit())\n",
            "print(\"Olefin Feed (OF):\", model.OF())\n",
            "print(\"Isobutane Recycle (IR):\", model.IR())\n",
            "print(\"Acid Addition Rate (AA):\", model.AA())\n",
            "print(\"Isobutane Makeup (IM):\", model.IM())\n",
            "print(\"Alkylate Yield (AY):\", model.AY())\n",
            "print(\"Acid Strength (AS):\", model.AS())\n",
            "print(\"Motor Octane Number (MO):\", model.MO())\n",
            "print(\"External Isobutane-to-Olefin Ratio (ER):\", model.ER())\n",
            "print(\"Acid Dilution Factor (AD):\", model.AD())\n",
            "print(\"F-4 Performance Number (FP):\", model.FP())\n",
            "```\n",
            "\n",
            "In this Pyomo model:\n",
            "- Decision variables (OF, IR, AA, IM) and dependent variables (AY, AS, MO, ER, AD, FP) are defined.\n",
            "- The objective function (profit) is defined to maximize the daily profit.\n",
            "- Constraints are defined based on the regression formulas and additional relationships provided.\n",
            "- The model is solved using the 'ipopt' solver (you may need to install it separately).\n",
            "- The optimization results are printed, including the objective function value and the values of all variables.\n",
            "\n",
            "Please note that sample bounds are used for the decision variables (OF, IR, AA, IM). You should replace these bounds with the actual values based on your problem's requirements.\n"
          ]
        }
      ]
    },
    {
      "cell_type": "markdown",
      "source": [
        "# 4. Input Problem Data and Test Model Code"
      ],
      "metadata": {
        "id": "Pc0QqJuf8up_"
      }
    },
    {
      "cell_type": "code",
      "source": [
        "%%capture\n",
        "import sys\n",
        "import os\n",
        "\n",
        "if 'google.colab' in sys.modules:\n",
        "    !pip install idaes-pse --pre\n",
        "    !idaes get-extensions --to ./bin\n",
        "    os.environ['PATH'] += ':bin'\n",
        "\n",
        "# Installing pyomo nd solver\n",
        "!pip install -q pyomo\n",
        "!pip install pandas"
      ],
      "metadata": {
        "id": "3BtROuLu9O-p",
        "collapsed": true
      },
      "execution_count": 14,
      "outputs": []
    },
    {
      "cell_type": "code",
      "source": [
        "from pyomo.environ import *\n",
        "\n",
        "# Create a Pyomo model\n",
        "model = ConcreteModel()\n",
        "\n",
        "# Define decision variables\n",
        "model.OF = Var(within=NonNegativeReals, bounds=(0, 2000))  # Sample bounds for OF\n",
        "model.IR = Var(within=NonNegativeReals, bounds=(0, 16000))  # Sample bounds for IR\n",
        "model.AA = Var(within=NonNegativeReals, bounds=(0, 120))  # Sample bounds for AA\n",
        "model.IM = Var(within=NonNegativeReals, bounds=(0, 2000))  # Sample bounds for IM\n",
        "\n",
        "# Define dependent variables\n",
        "model.AY = Var(within=NonNegativeReals)\n",
        "model.AS = Var(within=NonNegativeReals)\n",
        "model.MO = Var(within=NonNegativeReals)\n",
        "model.ER = Var(within=NonNegativeReals)\n",
        "model.AD = Var(within=NonNegativeReals)\n",
        "model.FP = Var(within=NonNegativeReals)\n",
        "\n",
        "# Define objective function\n",
        "def profit(model):\n",
        "    return (model.AY * model.MO) - (model.OF + model.IR + model.AA + model.IM)\n",
        "model.profit = Objective(rule=profit, sense=maximize)\n",
        "\n",
        "# Define constraints\n",
        "def alkylate_yield(model):\n",
        "    return model.AY == model.OF * (1.12 + 0.13167 * model.ER - 0.00667 * model.ER**2)\n",
        "model.alkylate_yield = Constraint(rule=alkylate_yield)\n",
        "\n",
        "def motor_octane(model):\n",
        "    return model.MO == 86.35 + 1.098 * model.ER - 0.038 * model.ER**2 + 0.325 * (model.AS - 89)\n",
        "model.motor_octane = Constraint(rule=motor_octane)\n",
        "\n",
        "def acid_dilution(model):\n",
        "    return model.AD == 35.82 - 0.222 * model.FP\n",
        "model.acid_dilution = Constraint(rule=acid_dilution)\n",
        "\n",
        "def f4_performance(model):\n",
        "    return model.FP == -133 + 3 * model.MO\n",
        "model.f4_performance = Constraint(rule=f4_performance)\n",
        "\n",
        "def external_ratio(model):\n",
        "    return model.ER == (model.IR + model.IM) / model.OF\n",
        "model.external_ratio = Constraint(rule=external_ratio)\n",
        "\n",
        "def acid_strength(model):\n",
        "    return model.AS == (93000 * model.AA) / (model.AA * model.AD + 1000 * model.AA)\n",
        "model.acid_strength = Constraint(rule=acid_strength)\n",
        "\n",
        "def material_balance(model):\n",
        "    return 1.22 * model.AY == model.OF + model.IM\n",
        "model.material_balance = Constraint(rule=material_balance)\n",
        "\n",
        "# Solve the optimization problem\n",
        "solver = SolverFactory('ipopt')\n",
        "results = solver.solve(model)\n",
        "\n",
        "# Print the results\n",
        "print(\"Optimization Results:\")\n",
        "print(\"Objective Function Value (Daily Profit): $\", model.profit())\n",
        "print(\"Olefin Feed (OF):\", model.OF())\n",
        "print(\"Isobutane Recycle (IR):\", model.IR())\n",
        "print(\"Acid Addition Rate (AA):\", model.AA())\n",
        "print(\"Isobutane Makeup (IM):\", model.IM())\n",
        "print(\"Alkylate Yield (AY):\", model.AY())\n",
        "print(\"Acid Strength (AS):\", model.AS())\n",
        "print(\"Motor Octane Number (MO):\", model.MO())\n",
        "print(\"External Isobutane-to-Olefin Ratio (ER):\", model.ER())\n",
        "print(\"Acid Dilution Factor (AD):\", model.AD())\n",
        "print(\"F-4 Performance Number (FP):\", model.FP())"
      ],
      "metadata": {
        "colab": {
          "base_uri": "https://localhost:8080/"
        },
        "id": "8FpHcuWU8rQ2",
        "outputId": "97961e85-7c3f-4089-b097-220f824b1c6c"
      },
      "execution_count": 15,
      "outputs": [
        {
          "output_type": "stream",
          "name": "stdout",
          "text": [
            "Optimization Results:\n",
            "Objective Function Value (Daily Profit): $ 290019.20820197405\n",
            "Olefin Feed (OF): 2000.0\n",
            "Isobutane Recycle (IR): 8895.199970789998\n",
            "Acid Addition Rate (AA): 0.0\n",
            "Isobutane Makeup (IM): 2000.0\n",
            "Alkylate Yield (AY): 3278.6885573769923\n",
            "Acid Strength (AS): 92.64655368644925\n",
            "Motor Octane Number (MO): 92.38889356880571\n",
            "External Isobutane-to-Olefin Ratio (ER): 5.447599940919084\n",
            "Acid Dilution Factor (AD): 3.8149968831754033\n",
            "F-4 Performance Number (FP): 144.1666807064171\n"
          ]
        }
      ]
    },
    {
      "cell_type": "markdown",
      "source": [
        "# 5. Correct The Model Code to Test Mathematical Model (if applicable)"
      ],
      "metadata": {
        "id": "KHTyoLQTWZVy"
      }
    },
    {
      "cell_type": "code",
      "source": [
        "##### OMITTED BECAUSE CODE AND MODeL ARE EQUIVALENT (not exactly translated, but outcome will be the same) ######"
      ],
      "metadata": {
        "id": "X6i0_k5AasUn"
      },
      "execution_count": null,
      "outputs": []
    },
    {
      "cell_type": "code",
      "source": [],
      "metadata": {
        "id": "4Y8jgWE_uNhv"
      },
      "execution_count": 15,
      "outputs": []
    }
  ]
}