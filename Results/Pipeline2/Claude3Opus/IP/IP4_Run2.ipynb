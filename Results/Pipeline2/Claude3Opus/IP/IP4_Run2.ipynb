{
  "nbformat": 4,
  "nbformat_minor": 0,
  "metadata": {
    "colab": {
      "provenance": []
    },
    "kernelspec": {
      "name": "python3",
      "display_name": "Python 3"
    },
    "language_info": {
      "name": "python"
    }
  },
  "cells": [
    {
      "cell_type": "markdown",
      "source": [
        "# 0. Imports and Setting up Anthropic API Client"
      ],
      "metadata": {
        "id": "y5fw0lkBwBbo"
      }
    },
    {
      "cell_type": "code",
      "source": [
        "from google.colab import drive\n",
        "\n",
        "drive.mount('/content/drive')"
      ],
      "metadata": {
        "colab": {
          "base_uri": "https://localhost:8080/"
        },
        "id": "e7tWOLo0yMoH",
        "outputId": "5ad68738-b882-4745-87ea-98f1aa5805de"
      },
      "execution_count": 1,
      "outputs": [
        {
          "output_type": "stream",
          "name": "stdout",
          "text": [
            "Mounted at /content/drive\n"
          ]
        }
      ]
    },
    {
      "cell_type": "code",
      "source": [
        "!pip install python-dotenv\n",
        "\n",
        "import os\n",
        "import dotenv\n",
        "\n",
        "dotenv.load_dotenv('/content/drive/MyDrive/.env')"
      ],
      "metadata": {
        "colab": {
          "base_uri": "https://localhost:8080/"
        },
        "id": "utcEK8lZ1Z1R",
        "outputId": "ff931bbc-55e2-4147-ffb7-be2510200d41"
      },
      "execution_count": 2,
      "outputs": [
        {
          "output_type": "stream",
          "name": "stdout",
          "text": [
            "Collecting python-dotenv\n",
            "  Downloading python_dotenv-1.0.1-py3-none-any.whl (19 kB)\n",
            "Installing collected packages: python-dotenv\n",
            "Successfully installed python-dotenv-1.0.1\n"
          ]
        },
        {
          "output_type": "execute_result",
          "data": {
            "text/plain": [
              "True"
            ]
          },
          "metadata": {},
          "execution_count": 2
        }
      ]
    },
    {
      "cell_type": "code",
      "source": [
        "# Load Prompts and Problem Description\n",
        "# Variables Prompt\n",
        "prompt11_path = '/content/drive/MyDrive/Thesis/Prompts/Prompt11_MathematicalModel.txt'\n",
        "\n",
        "# Objective Prompt\n",
        "prompt12_path = '/content/drive/MyDrive/Thesis/Prompts/Prompt12_MathematicalModel.txt'\n",
        "\n",
        "# Constraint Prompt\n",
        "prompt13_path = '/content/drive/MyDrive/Thesis/Prompts/Prompt13_MathematicalModel.txt'\n",
        "\n",
        "# Code Prompt\n",
        "prompt2_path = '/content/drive/MyDrive/Thesis/Prompts/Prompt2_PyomoCode.txt'\n",
        "problem_desc_path = '/content/drive/MyDrive/Thesis/ProblemDescriptions/IP/IP4.txt'\n",
        "\n",
        "prompt11_file = open(prompt11_path, \"r\")\n",
        "prompt12_file = open(prompt12_path, \"r\")\n",
        "prompt13_file = open(prompt13_path, \"r\")\n",
        "prompt2_file = open(prompt2_path, \"r\")\n",
        "problem_desc_file = open(problem_desc_path, \"r\")\n",
        "\n",
        "prompt11 = prompt11_file.read()\n",
        "print(\"Prompt 1.1 (Variables):\\n\", prompt11)\n",
        "\n",
        "prompt12 = prompt12_file.read()\n",
        "print(\"Prompt 1.2 (Objctive):\\n\", prompt12)\n",
        "\n",
        "prompt13 = prompt13_file.read()\n",
        "print(\"Prompt 1.3 (Constraints):\\n\", prompt13)\n",
        "\n",
        "prompt2 = prompt2_file.read()\n",
        "print(\"Prompt 2:\\n\", prompt2)\n",
        "\n",
        "problem_desc = problem_desc_file.read()\n",
        "print(\"Problem Description:\\n\", problem_desc)"
      ],
      "metadata": {
        "colab": {
          "base_uri": "https://localhost:8080/"
        },
        "id": "9KlkjwMUS4xp",
        "outputId": "4887e284-f479-4c5f-88fc-eb7176628bc4"
      },
      "execution_count": 3,
      "outputs": [
        {
          "output_type": "stream",
          "name": "stdout",
          "text": [
            "Prompt 1.1 (Variables):\n",
            " Please formulate only the variables for this mathematical optimization problem. \n",
            "Prompt 1.2 (Objctive):\n",
            " Please formulate only the objective function for this mathematical optimization problem. \n",
            "Prompt 1.3 (Constraints):\n",
            " Please formulate only the constraints for this mathematical optimization problem. \n",
            "Prompt 2:\n",
            " Please write a python pyomo code for this optimization problem.\n",
            "Use sample data where needed.\n",
            "Indicate where you use sample data.\n",
            "Problem Description:\n",
            " Imagine you own a small shop, and you're trying to manage your employees' working hours and sales targets efficiently.\n",
            "You have three kinds of goals overall: sales goals, employee hours goals and overtime goals.\n",
            "\n",
            "Sales Goals: \n",
            "You have a target of selling 5500 units. \n",
            "But sometimes, you might sell fewer (negative deviation) or more (positive deviation) than this target. \n",
            "On average, your full-time employees will sell 5 records per hour and your part-time employees will sell 2 records per hour.\n",
            "\n",
            "Employee Hours: \n",
            "You have both full-time and part-time employees. \n",
            "Your full-time employees are expected to work a total of 800 hours, while part-time employees are expected to work 320 hours. \n",
            "Similarly, like sales, there could be deviations in these working hours. \n",
            "\n",
            "Overtime: \n",
            "Additionally, your employees might end up working overtime. \n",
            "You have a target of 100 hours of overtime for full-time employees.\n",
            "You are not concerned about limiting the overtime of part-time employees.\n",
            "Again, you might deviate from this goal.\n",
            "\n",
            "Each of these deviations has a different priority for you. \n",
            "P1 to P4 are priority factors for each deviation.\n",
            "Your most important goal is to achieve your sales goal.\n",
            "Second to that is the goal to not exceed 100 overtime hours for full-time employees.\n",
            "Then, you next priority is to fully utilize your full-time and part time employees.\n",
            "Your last goal with the lowest priority, you want to keep general overtime hours for both kinds of employees as low as possible.\n",
            "In addition to the general priorities of you goals, you are twice as concerned about fully utilizing the full-time employee hours.\n",
            "Finally, overtime hours of part-time employees have a relative cost of three times that of full-time employees.\n",
            "\n",
            "Now, the goal here is to minimize the overall impact of these deviations, considering their priorities. \n",
            "This means finding the best balance between sales targets, employee hours, and overtime, while keeping in mind which deviations are more critical for your business.\n"
          ]
        }
      ]
    },
    {
      "cell_type": "code",
      "source": [
        "!pip install anthropic"
      ],
      "metadata": {
        "colab": {
          "base_uri": "https://localhost:8080/"
        },
        "id": "iWlNsTIvxCcR",
        "outputId": "deb207e3-093d-45de-d1cc-f0c4d98fa8a7",
        "collapsed": true
      },
      "execution_count": 4,
      "outputs": [
        {
          "output_type": "stream",
          "name": "stdout",
          "text": [
            "Collecting anthropic\n",
            "  Downloading anthropic-0.28.0-py3-none-any.whl (862 kB)\n",
            "\u001b[2K     \u001b[90m━━━━━━━━━━━━━━━━━━━━━━━━━━━━━━━━━━━━━━━━\u001b[0m \u001b[32m862.7/862.7 kB\u001b[0m \u001b[31m4.9 MB/s\u001b[0m eta \u001b[36m0:00:00\u001b[0m\n",
            "\u001b[?25hRequirement already satisfied: anyio<5,>=3.5.0 in /usr/local/lib/python3.10/dist-packages (from anthropic) (3.7.1)\n",
            "Requirement already satisfied: distro<2,>=1.7.0 in /usr/lib/python3/dist-packages (from anthropic) (1.7.0)\n",
            "Collecting httpx<1,>=0.23.0 (from anthropic)\n",
            "  Downloading httpx-0.27.0-py3-none-any.whl (75 kB)\n",
            "\u001b[2K     \u001b[90m━━━━━━━━━━━━━━━━━━━━━━━━━━━━━━━━━━━━━━━━\u001b[0m \u001b[32m75.6/75.6 kB\u001b[0m \u001b[31m8.7 MB/s\u001b[0m eta \u001b[36m0:00:00\u001b[0m\n",
            "\u001b[?25hCollecting jiter<1,>=0.4.0 (from anthropic)\n",
            "  Downloading jiter-0.4.1-cp310-cp310-manylinux_2_17_x86_64.manylinux2014_x86_64.whl (328 kB)\n",
            "\u001b[2K     \u001b[90m━━━━━━━━━━━━━━━━━━━━━━━━━━━━━━━━━━━━━━━━\u001b[0m \u001b[32m328.3/328.3 kB\u001b[0m \u001b[31m31.2 MB/s\u001b[0m eta \u001b[36m0:00:00\u001b[0m\n",
            "\u001b[?25hRequirement already satisfied: pydantic<3,>=1.9.0 in /usr/local/lib/python3.10/dist-packages (from anthropic) (2.7.3)\n",
            "Requirement already satisfied: sniffio in /usr/local/lib/python3.10/dist-packages (from anthropic) (1.3.1)\n",
            "Requirement already satisfied: tokenizers>=0.13.0 in /usr/local/lib/python3.10/dist-packages (from anthropic) (0.19.1)\n",
            "Requirement already satisfied: typing-extensions<5,>=4.7 in /usr/local/lib/python3.10/dist-packages (from anthropic) (4.12.1)\n",
            "Requirement already satisfied: idna>=2.8 in /usr/local/lib/python3.10/dist-packages (from anyio<5,>=3.5.0->anthropic) (3.7)\n",
            "Requirement already satisfied: exceptiongroup in /usr/local/lib/python3.10/dist-packages (from anyio<5,>=3.5.0->anthropic) (1.2.1)\n",
            "Requirement already satisfied: certifi in /usr/local/lib/python3.10/dist-packages (from httpx<1,>=0.23.0->anthropic) (2024.6.2)\n",
            "Collecting httpcore==1.* (from httpx<1,>=0.23.0->anthropic)\n",
            "  Downloading httpcore-1.0.5-py3-none-any.whl (77 kB)\n",
            "\u001b[2K     \u001b[90m━━━━━━━━━━━━━━━━━━━━━━━━━━━━━━━━━━━━━━━━\u001b[0m \u001b[32m77.9/77.9 kB\u001b[0m \u001b[31m7.6 MB/s\u001b[0m eta \u001b[36m0:00:00\u001b[0m\n",
            "\u001b[?25hCollecting h11<0.15,>=0.13 (from httpcore==1.*->httpx<1,>=0.23.0->anthropic)\n",
            "  Downloading h11-0.14.0-py3-none-any.whl (58 kB)\n",
            "\u001b[2K     \u001b[90m━━━━━━━━━━━━━━━━━━━━━━━━━━━━━━━━━━━━━━━━\u001b[0m \u001b[32m58.3/58.3 kB\u001b[0m \u001b[31m6.9 MB/s\u001b[0m eta \u001b[36m0:00:00\u001b[0m\n",
            "\u001b[?25hRequirement already satisfied: annotated-types>=0.4.0 in /usr/local/lib/python3.10/dist-packages (from pydantic<3,>=1.9.0->anthropic) (0.7.0)\n",
            "Requirement already satisfied: pydantic-core==2.18.4 in /usr/local/lib/python3.10/dist-packages (from pydantic<3,>=1.9.0->anthropic) (2.18.4)\n",
            "Requirement already satisfied: huggingface-hub<1.0,>=0.16.4 in /usr/local/lib/python3.10/dist-packages (from tokenizers>=0.13.0->anthropic) (0.23.2)\n",
            "Requirement already satisfied: filelock in /usr/local/lib/python3.10/dist-packages (from huggingface-hub<1.0,>=0.16.4->tokenizers>=0.13.0->anthropic) (3.14.0)\n",
            "Requirement already satisfied: fsspec>=2023.5.0 in /usr/local/lib/python3.10/dist-packages (from huggingface-hub<1.0,>=0.16.4->tokenizers>=0.13.0->anthropic) (2023.6.0)\n",
            "Requirement already satisfied: packaging>=20.9 in /usr/local/lib/python3.10/dist-packages (from huggingface-hub<1.0,>=0.16.4->tokenizers>=0.13.0->anthropic) (24.0)\n",
            "Requirement already satisfied: pyyaml>=5.1 in /usr/local/lib/python3.10/dist-packages (from huggingface-hub<1.0,>=0.16.4->tokenizers>=0.13.0->anthropic) (6.0.1)\n",
            "Requirement already satisfied: requests in /usr/local/lib/python3.10/dist-packages (from huggingface-hub<1.0,>=0.16.4->tokenizers>=0.13.0->anthropic) (2.31.0)\n",
            "Requirement already satisfied: tqdm>=4.42.1 in /usr/local/lib/python3.10/dist-packages (from huggingface-hub<1.0,>=0.16.4->tokenizers>=0.13.0->anthropic) (4.66.4)\n",
            "Requirement already satisfied: charset-normalizer<4,>=2 in /usr/local/lib/python3.10/dist-packages (from requests->huggingface-hub<1.0,>=0.16.4->tokenizers>=0.13.0->anthropic) (3.3.2)\n",
            "Requirement already satisfied: urllib3<3,>=1.21.1 in /usr/local/lib/python3.10/dist-packages (from requests->huggingface-hub<1.0,>=0.16.4->tokenizers>=0.13.0->anthropic) (2.0.7)\n",
            "Installing collected packages: jiter, h11, httpcore, httpx, anthropic\n",
            "Successfully installed anthropic-0.28.0 h11-0.14.0 httpcore-1.0.5 httpx-0.27.0 jiter-0.4.1\n"
          ]
        }
      ]
    },
    {
      "cell_type": "code",
      "execution_count": 5,
      "metadata": {
        "id": "7Qjk2D63v1Bl"
      },
      "outputs": [],
      "source": [
        "# Importing Anthropic & Setting Headers\n",
        "import anthropic\n",
        "\n",
        "client = anthropic.Anthropic(\n",
        "    # defaults to os.environ.get(\"ANTHROPIC_API_KEY\")\n",
        "    api_key=os.environ.get(\"ANTHROPIC_API_KEY\"),\n",
        ")"
      ]
    },
    {
      "cell_type": "markdown",
      "source": [
        "# 1. Prompt 1.1: Create Variables for Mathematical Model"
      ],
      "metadata": {
        "id": "kT7yKbJs18XR"
      }
    },
    {
      "cell_type": "code",
      "source": [
        "message11 = client.messages.create(\n",
        "    model=\"claude-3-opus-20240229\",\n",
        "    system=prompt11,\n",
        "    max_tokens=4096,\n",
        "    messages=[\n",
        "        {\"role\": \"user\", \"content\": problem_desc}\n",
        "    ]\n",
        ")\n",
        "\n",
        "response_p11 = message11.content[0].text"
      ],
      "metadata": {
        "id": "R_6X0axq16D4"
      },
      "execution_count": 6,
      "outputs": []
    },
    {
      "cell_type": "code",
      "source": [
        "# Print response\n",
        "print(response_p11)"
      ],
      "metadata": {
        "colab": {
          "base_uri": "https://localhost:8080/"
        },
        "id": "Ra9Ox_PI38jg",
        "outputId": "0dd2d2fe-448a-4dd6-b07b-541f0f9138db"
      },
      "execution_count": 7,
      "outputs": [
        {
          "output_type": "stream",
          "name": "stdout",
          "text": [
            "Here are the variables for the mathematical optimization problem:\n",
            "\n",
            "Decision Variables:\n",
            "- F: Number of hours worked by full-time employees\n",
            "- P: Number of hours worked by part-time employees\n",
            "\n",
            "Deviation Variables:\n",
            "- d1+: Positive deviation from sales target (units)\n",
            "- d1-: Negative deviation from sales target (units)\n",
            "- d2+: Positive deviation from full-time employee hours target\n",
            "- d2-: Negative deviation from full-time employee hours target\n",
            "- d3+: Positive deviation from part-time employee hours target\n",
            "- d3-: Negative deviation from part-time employee hours target\n",
            "- d4+: Positive deviation from full-time employee overtime hours target\n",
            "- d4-: Negative deviation from full-time employee overtime hours target\n",
            "- d5+: Positive deviation from total overtime hours (for both full-time and part-time employees)\n",
            "\n",
            "Priority Factors:\n",
            "- P1: Priority for deviations from sales target\n",
            "- P2: Priority for deviations from full-time employee overtime hours target\n",
            "- P3: Priority for deviations from full-time employee hours target\n",
            "- P4: Priority for deviations from part-time employee hours target\n",
            "- P5: Priority for deviations from total overtime hours\n",
            "\n",
            "Constants:\n",
            "- 5500: Sales target (units)\n",
            "- 5: Sales per hour for full-time employees (units/hour)\n",
            "- 2: Sales per hour for part-time employees (units/hour)\n",
            "- 800: Full-time employee hours target\n",
            "- 320: Part-time employee hours target\n",
            "- 100: Full-time employee overtime hours target\n",
            "- 2: Relative importance of utilizing full-time employee hours compared to part-time employee hours\n",
            "- 3: Relative cost of part-time employee overtime hours compared to full-time employee overtime hours\n"
          ]
        }
      ]
    },
    {
      "cell_type": "markdown",
      "source": [
        "# 1. Prompt 1.2: Create Objective for Mathematical Model"
      ],
      "metadata": {
        "id": "nbt6yH1snBQL"
      }
    },
    {
      "cell_type": "code",
      "source": [
        "message12 = client.messages.create(\n",
        "    model=\"claude-3-opus-20240229\",\n",
        "    system=prompt12,\n",
        "    max_tokens=4096,\n",
        "    messages=[\n",
        "        {\"role\": \"user\", \"content\": (problem_desc + response_p11)}\n",
        "    ]\n",
        ")\n",
        "\n",
        "response_p12 = message12.content[0].text"
      ],
      "metadata": {
        "id": "ol4rtt_MnAy8"
      },
      "execution_count": 8,
      "outputs": []
    },
    {
      "cell_type": "code",
      "source": [
        "# Print response\n",
        "print(response_p12)"
      ],
      "metadata": {
        "colab": {
          "base_uri": "https://localhost:8080/"
        },
        "id": "Vz2F_EARnzHf",
        "outputId": "23849e04-c89f-4221-b6e0-e3c28e664bfb"
      },
      "execution_count": 9,
      "outputs": [
        {
          "output_type": "stream",
          "name": "stdout",
          "text": [
            "Objective Function:\n",
            "\n",
            "Minimize: \n",
            "P1 * (d1+ + d1-) + P2 * (d4+ + d4-) + P3 * 2 * (d2+ + d2-) + P4 * (d3+ + d3-) + P5 * (d5+ + 3 * (P - 320))\n",
            "\n",
            "Explanation:\n",
            "- P1 * (d1+ + d1-): Minimizes the deviations from the sales target, with priority P1.\n",
            "- P2 * (d4+ + d4-): Minimizes the deviations from the full-time employee overtime hours target, with priority P2.\n",
            "- P3 * 2 * (d2+ + d2-): Minimizes the deviations from the full-time employee hours target, with priority P3. The factor 2 represents the relative importance of utilizing full-time employee hours compared to part-time employee hours.\n",
            "- P4 * (d3+ + d3-): Minimizes the deviations from the part-time employee hours target, with priority P4.\n",
            "- P5 * (d5+ + 3 * (P - 320)): Minimizes the total overtime hours for both full-time and part-time employees, with priority P5. The term 3 * (P - 320) represents the overtime hours for part-time employees, considering the relative cost of part-time employee overtime hours compared to full-time employee overtime hours. The constant 320 represents the part-time employee hours target.\n",
            "\n",
            "Note: The decision variables F and P, along with the other deviation variables, will be used in the constraints of the optimization problem, which are not included in this objective function.\n"
          ]
        }
      ]
    },
    {
      "cell_type": "markdown",
      "source": [
        "# 1. Prompt 1.3: Create Constraints for Mathematical Model\n"
      ],
      "metadata": {
        "id": "Wzf33DwvnEar"
      }
    },
    {
      "cell_type": "code",
      "source": [
        "message13 = client.messages.create(\n",
        "    model=\"claude-3-opus-20240229\",\n",
        "    system=prompt13,\n",
        "    max_tokens=4096,\n",
        "    messages=[\n",
        "        {\"role\": \"user\", \"content\": (problem_desc + response_p11 + response_p12)}\n",
        "    ]\n",
        ")\n",
        "\n",
        "response_p13 = message13.content[0].text"
      ],
      "metadata": {
        "id": "l1UAJRt7nENG"
      },
      "execution_count": 10,
      "outputs": []
    },
    {
      "cell_type": "code",
      "source": [
        "# Print response\n",
        "print(response_p13)"
      ],
      "metadata": {
        "colab": {
          "base_uri": "https://localhost:8080/"
        },
        "id": "vH7Ff9mxn4FZ",
        "outputId": "11488223-ce7f-49dc-ea4b-4d34dfb05f1d"
      },
      "execution_count": 11,
      "outputs": [
        {
          "output_type": "stream",
          "name": "stdout",
          "text": [
            "Here are the constraints for the mathematical optimization problem:\n",
            "\n",
            "Sales Constraint:\n",
            "5 * F + 2 * P + d1- - d1+ = 5500\n",
            "\n",
            "Explanation: \n",
            "This constraint ensures that the total sales achieved by full-time and part-time employees, plus any deviations, meet the sales target of 5500 units. The sales per hour for full-time employees (5) and part-time employees (2) are multiplied by their respective hours worked (F and P).\n",
            "\n",
            "Full-time Employee Hours Constraint:\n",
            "F + d2- - d2+ = 800\n",
            "\n",
            "Explanation:\n",
            "This constraint ensures that the total hours worked by full-time employees, plus any deviations, meet the full-time employee hours target of 800 hours.\n",
            "\n",
            "Part-time Employee Hours Constraint:\n",
            "P + d3- - d3+ = 320\n",
            "\n",
            "Explanation:\n",
            "This constraint ensures that the total hours worked by part-time employees, plus any deviations, meet the part-time employee hours target of 320 hours.\n",
            "\n",
            "Full-time Employee Overtime Hours Constraint:\n",
            "F - 800 + d4- - d4+ = 100\n",
            "\n",
            "Explanation:\n",
            "This constraint ensures that the overtime hours worked by full-time employees, plus any deviations, meet the full-time employee overtime hours target of 100 hours. The term F - 800 represents the overtime hours worked by full-time employees.\n",
            "\n",
            "Total Overtime Hours Constraint:\n",
            "(F - 800) + (P - 320) + d5- - d5+ = 0\n",
            "\n",
            "Explanation:\n",
            "This constraint ensures that the total overtime hours worked by both full-time and part-time employees, plus any deviations, are accounted for. The terms (F - 800) and (P - 320) represent the overtime hours worked by full-time and part-time employees, respectively.\n",
            "\n",
            "Non-negativity Constraints:\n",
            "F, P, d1+, d1-, d2+, d2-, d3+, d3-, d4+, d4-, d5+ ≥ 0\n",
            "\n",
            "Explanation:\n",
            "These constraints ensure that all decision variables and deviation variables are non-negative.\n",
            "\n",
            "By combining the objective function and these constraints, you have a complete mathematical optimization problem that aims to minimize the overall impact of deviations from sales targets, employee hours, and overtime hours, considering their respective priorities and relative costs.\n"
          ]
        }
      ]
    },
    {
      "cell_type": "markdown",
      "source": [
        "# 2. Prompt 2: Write Code based on Mathematical Model\n",
        "\n",
        "In case more than the component of each step was generated, use \"last instance\"/ \"newest version\" of the components.\n",
        "\n",
        "Example:\n",
        "Prompt 1.1 (Variables): Model generates only variables\n",
        "Prompt 1.2 (Objectvie): Model generates objective and constraints\n",
        "Prompt 1.3 (Constraints): Model generates only constraints\n",
        "\n",
        "Use Variables from step 1.1, use objective from 1.2 and use constraints from 1.3 (since constraints version 1.3 is more recent than constraints version 1.2).\n",
        "\n",
        "This set up allows for potential self-correction of the model throughout the three prompts.\n",
        "\n",
        "Correctness of each component is still generated in the respective step, so self-correction is independent of this."
      ],
      "metadata": {
        "id": "WPZ6lgBO729j"
      }
    },
    {
      "cell_type": "code",
      "source": [
        "message2 = client.messages.create(\n",
        "    model=\"claude-3-opus-20240229\",\n",
        "    system=prompt2,\n",
        "    max_tokens=4069,\n",
        "    messages=[\n",
        "        {\"role\": \"user\", \"content\": (response_p11 + response_p12 + response_p13)}\n",
        "    ]\n",
        ")\n",
        "\n",
        "response_p2 = message2.content[0].text"
      ],
      "metadata": {
        "id": "1iUSgBda70FL"
      },
      "execution_count": 12,
      "outputs": []
    },
    {
      "cell_type": "code",
      "source": [
        "# Print response\n",
        "print(response_p2)"
      ],
      "metadata": {
        "colab": {
          "base_uri": "https://localhost:8080/"
        },
        "id": "o40mxc_H8eQ9",
        "outputId": "965891dd-16ff-4a79-b5f5-b989273ae5f8"
      },
      "execution_count": 13,
      "outputs": [
        {
          "output_type": "stream",
          "name": "stdout",
          "text": [
            "Here's a Python Pyomo code for the optimization problem:\n",
            "\n",
            "```python\n",
            "from pyomo.environ import *\n",
            "\n",
            "# Create the model\n",
            "model = ConcreteModel()\n",
            "\n",
            "# Define the decision variables\n",
            "model.F = Var(within=NonNegativeReals)  # Number of hours worked by full-time employees\n",
            "model.P = Var(within=NonNegativeReals)  # Number of hours worked by part-time employees\n",
            "\n",
            "# Define the deviation variables\n",
            "model.d1_plus = Var(within=NonNegativeReals)  # Positive deviation from sales target\n",
            "model.d1_minus = Var(within=NonNegativeReals)  # Negative deviation from sales target\n",
            "model.d2_plus = Var(within=NonNegativeReals)  # Positive deviation from full-time employee hours target\n",
            "model.d2_minus = Var(within=NonNegativeReals)  # Negative deviation from full-time employee hours target\n",
            "model.d3_plus = Var(within=NonNegativeReals)  # Positive deviation from part-time employee hours target\n",
            "model.d3_minus = Var(within=NonNegativeReals)  # Negative deviation from part-time employee hours target\n",
            "model.d4_plus = Var(within=NonNegativeReals)  # Positive deviation from full-time employee overtime hours target\n",
            "model.d4_minus = Var(within=NonNegativeReals)  # Negative deviation from full-time employee overtime hours target\n",
            "model.d5_plus = Var(within=NonNegativeReals)  # Positive deviation from total overtime hours\n",
            "\n",
            "# Define the priority factors (sample data)\n",
            "P1 = 10  # Priority for deviations from sales target\n",
            "P2 = 8   # Priority for deviations from full-time employee overtime hours target\n",
            "P3 = 6   # Priority for deviations from full-time employee hours target\n",
            "P4 = 4   # Priority for deviations from part-time employee hours target\n",
            "P5 = 2   # Priority for deviations from total overtime hours\n",
            "\n",
            "# Define the objective function\n",
            "model.objective = Objective(expr=P1 * (model.d1_plus + model.d1_minus) +\n",
            "                                 P2 * (model.d4_plus + model.d4_minus) +\n",
            "                                 P3 * 2 * (model.d2_plus + model.d2_minus) +\n",
            "                                 P4 * (model.d3_plus + model.d3_minus) +\n",
            "                                 P5 * (model.d5_plus + 3 * (model.P - 320)),\n",
            "                            sense=minimize)\n",
            "\n",
            "# Define the constraints\n",
            "model.sales_constraint = Constraint(expr=5 * model.F + 2 * model.P + model.d1_minus - model.d1_plus == 5500)\n",
            "model.fulltime_hours_constraint = Constraint(expr=model.F + model.d2_minus - model.d2_plus == 800)\n",
            "model.parttime_hours_constraint = Constraint(expr=model.P + model.d3_minus - model.d3_plus == 320)\n",
            "model.fulltime_overtime_constraint = Constraint(expr=model.F - 800 + model.d4_minus - model.d4_plus == 100)\n",
            "model.total_overtime_constraint = Constraint(expr=(model.F - 800) + (model.P - 320) + model.d5_minus - model.d5_plus == 0)\n",
            "\n",
            "# Solve the model\n",
            "results = SolverFactory('glpk').solve(model)\n",
            "\n",
            "# Print the results\n",
            "print(\"Objective value:\", model.objective())\n",
            "print(\"Full-time employee hours (F):\", model.F())\n",
            "print(\"Part-time employee hours (P):\", model.P())\n",
            "```\n",
            "\n",
            "Note: The priority factors (P1, P2, P3, P4, P5) are sample data and should be adjusted based on the actual problem requirements.\n",
            "\n",
            "This code creates a Pyomo model with the decision variables, deviation variables, objective function, and constraints as defined in the mathematical optimization problem. The `glpk` solver is used to solve the model, and the optimal values of the decision variables and the objective value are printed.\n",
            "\n",
            "Please make sure you have Pyomo and the `glpk` solver installed before running this code.\n"
          ]
        }
      ]
    },
    {
      "cell_type": "markdown",
      "source": [
        "# 4. Input Problem Data and Test Model Code"
      ],
      "metadata": {
        "id": "Pc0QqJuf8up_"
      }
    },
    {
      "cell_type": "code",
      "source": [
        "# Installing pyomo nd solver\n",
        "!pip install -q pyomo\n",
        "!pip install pandas\n",
        "!apt-get install -y -qq glpk-utils\n",
        "!pip install glpk"
      ],
      "metadata": {
        "colab": {
          "base_uri": "https://localhost:8080/"
        },
        "id": "3BtROuLu9O-p",
        "outputId": "b31c5142-7f0a-47b4-e798-5c84ff75cff7",
        "collapsed": true
      },
      "execution_count": 14,
      "outputs": [
        {
          "output_type": "stream",
          "name": "stdout",
          "text": [
            "\u001b[2K     \u001b[90m━━━━━━━━━━━━━━━━━━━━━━━━━━━━━━━━━━━━━━━━\u001b[0m \u001b[32m12.8/12.8 MB\u001b[0m \u001b[31m50.5 MB/s\u001b[0m eta \u001b[36m0:00:00\u001b[0m\n",
            "\u001b[2K     \u001b[90m━━━━━━━━━━━━━━━━━━━━━━━━━━━━━━━━━━━━━━━━\u001b[0m \u001b[32m49.6/49.6 kB\u001b[0m \u001b[31m4.0 MB/s\u001b[0m eta \u001b[36m0:00:00\u001b[0m\n",
            "\u001b[?25hRequirement already satisfied: pandas in /usr/local/lib/python3.10/dist-packages (2.0.3)\n",
            "Requirement already satisfied: python-dateutil>=2.8.2 in /usr/local/lib/python3.10/dist-packages (from pandas) (2.8.2)\n",
            "Requirement already satisfied: pytz>=2020.1 in /usr/local/lib/python3.10/dist-packages (from pandas) (2023.4)\n",
            "Requirement already satisfied: tzdata>=2022.1 in /usr/local/lib/python3.10/dist-packages (from pandas) (2024.1)\n",
            "Requirement already satisfied: numpy>=1.21.0 in /usr/local/lib/python3.10/dist-packages (from pandas) (1.25.2)\n",
            "Requirement already satisfied: six>=1.5 in /usr/local/lib/python3.10/dist-packages (from python-dateutil>=2.8.2->pandas) (1.16.0)\n",
            "Selecting previously unselected package libsuitesparseconfig5:amd64.\n",
            "(Reading database ... 121918 files and directories currently installed.)\n",
            "Preparing to unpack .../libsuitesparseconfig5_1%3a5.10.1+dfsg-4build1_amd64.deb ...\n",
            "Unpacking libsuitesparseconfig5:amd64 (1:5.10.1+dfsg-4build1) ...\n",
            "Selecting previously unselected package libamd2:amd64.\n",
            "Preparing to unpack .../libamd2_1%3a5.10.1+dfsg-4build1_amd64.deb ...\n",
            "Unpacking libamd2:amd64 (1:5.10.1+dfsg-4build1) ...\n",
            "Selecting previously unselected package libcolamd2:amd64.\n",
            "Preparing to unpack .../libcolamd2_1%3a5.10.1+dfsg-4build1_amd64.deb ...\n",
            "Unpacking libcolamd2:amd64 (1:5.10.1+dfsg-4build1) ...\n",
            "Selecting previously unselected package libglpk40:amd64.\n",
            "Preparing to unpack .../libglpk40_5.0-1_amd64.deb ...\n",
            "Unpacking libglpk40:amd64 (5.0-1) ...\n",
            "Selecting previously unselected package glpk-utils.\n",
            "Preparing to unpack .../glpk-utils_5.0-1_amd64.deb ...\n",
            "Unpacking glpk-utils (5.0-1) ...\n",
            "Setting up libsuitesparseconfig5:amd64 (1:5.10.1+dfsg-4build1) ...\n",
            "Setting up libamd2:amd64 (1:5.10.1+dfsg-4build1) ...\n",
            "Setting up libcolamd2:amd64 (1:5.10.1+dfsg-4build1) ...\n",
            "Setting up libglpk40:amd64 (5.0-1) ...\n",
            "Setting up glpk-utils (5.0-1) ...\n",
            "Processing triggers for man-db (2.10.2-1) ...\n",
            "Processing triggers for libc-bin (2.35-0ubuntu3.4) ...\n",
            "/sbin/ldconfig.real: /usr/local/lib/libtbbmalloc.so.2 is not a symbolic link\n",
            "\n",
            "/sbin/ldconfig.real: /usr/local/lib/libtbbbind_2_5.so.3 is not a symbolic link\n",
            "\n",
            "/sbin/ldconfig.real: /usr/local/lib/libtbb.so.12 is not a symbolic link\n",
            "\n",
            "/sbin/ldconfig.real: /usr/local/lib/libtbbmalloc_proxy.so.2 is not a symbolic link\n",
            "\n",
            "/sbin/ldconfig.real: /usr/local/lib/libtbbbind.so.3 is not a symbolic link\n",
            "\n",
            "/sbin/ldconfig.real: /usr/local/lib/libtbbbind_2_0.so.3 is not a symbolic link\n",
            "\n",
            "Collecting glpk\n",
            "  Downloading glpk-0.4.7.tar.gz (161 kB)\n",
            "\u001b[2K     \u001b[90m━━━━━━━━━━━━━━━━━━━━━━━━━━━━━━━━━━━━━━━━\u001b[0m \u001b[32m161.2/161.2 kB\u001b[0m \u001b[31m1.5 MB/s\u001b[0m eta \u001b[36m0:00:00\u001b[0m\n",
            "\u001b[?25h  Installing build dependencies ... \u001b[?25l\u001b[?25hdone\n",
            "  Getting requirements to build wheel ... \u001b[?25l\u001b[?25hdone\n",
            "  Preparing metadata (pyproject.toml) ... \u001b[?25l\u001b[?25hdone\n",
            "Building wheels for collected packages: glpk\n",
            "  \u001b[1;31merror\u001b[0m: \u001b[1msubprocess-exited-with-error\u001b[0m\n",
            "  \n",
            "  \u001b[31m×\u001b[0m \u001b[32mBuilding wheel for glpk \u001b[0m\u001b[1;32m(\u001b[0m\u001b[32mpyproject.toml\u001b[0m\u001b[1;32m)\u001b[0m did not run successfully.\n",
            "  \u001b[31m│\u001b[0m exit code: \u001b[1;36m1\u001b[0m\n",
            "  \u001b[31m╰─>\u001b[0m See above for output.\n",
            "  \n",
            "  \u001b[1;35mnote\u001b[0m: This error originates from a subprocess, and is likely not a problem with pip.\n",
            "  Building wheel for glpk (pyproject.toml) ... \u001b[?25l\u001b[?25herror\n",
            "\u001b[31m  ERROR: Failed building wheel for glpk\u001b[0m\u001b[31m\n",
            "\u001b[0mFailed to build glpk\n",
            "\u001b[31mERROR: Could not build wheels for glpk, which is required to install pyproject.toml-based projects\u001b[0m\u001b[31m\n",
            "\u001b[0m"
          ]
        }
      ]
    },
    {
      "cell_type": "code",
      "source": [
        "from pyomo.environ import *\n",
        "\n",
        "# Create the model\n",
        "model = ConcreteModel()\n",
        "\n",
        "# Define the decision variables\n",
        "model.F = Var(within=NonNegativeReals)  # Number of hours worked by full-time employees\n",
        "model.P = Var(within=NonNegativeReals)  # Number of hours worked by part-time employees\n",
        "\n",
        "# Define the deviation variables\n",
        "model.d1_plus = Var(within=NonNegativeReals)  # Positive deviation from sales target\n",
        "model.d1_minus = Var(within=NonNegativeReals)  # Negative deviation from sales target\n",
        "model.d2_plus = Var(within=NonNegativeReals)  # Positive deviation from full-time employee hours target\n",
        "model.d2_minus = Var(within=NonNegativeReals)  # Negative deviation from full-time employee hours target\n",
        "model.d3_plus = Var(within=NonNegativeReals)  # Positive deviation from part-time employee hours target\n",
        "model.d3_minus = Var(within=NonNegativeReals)  # Negative deviation from part-time employee hours target\n",
        "model.d4_plus = Var(within=NonNegativeReals)  # Positive deviation from full-time employee overtime hours target\n",
        "model.d4_minus = Var(within=NonNegativeReals)  # Negative deviation from full-time employee overtime hours target\n",
        "model.d5_plus = Var(within=NonNegativeReals)  # Positive deviation from total overtime hours\n",
        "\n",
        "# Define the priority factors (sample data)\n",
        "P1 = 5  # Priority for deviations from sales target\n",
        "P2 = 4   # Priority for deviations from full-time employee overtime hours target\n",
        "P3 = 3   # Priority for deviations from full-time employee hours target\n",
        "P4 = 2   # Priority for deviations from part-time employee hours target\n",
        "P5 = 1   # Priority for deviations from total overtime hours\n",
        "\n",
        "# Define the objective function\n",
        "model.objective = Objective(expr=P1 * (model.d1_plus + model.d1_minus) +\n",
        "                                 P2 * (model.d4_plus + model.d4_minus) +\n",
        "                                 P3 * 2 * (model.d2_plus + model.d2_minus) +\n",
        "                                 P4 * (model.d3_plus + model.d3_minus) +\n",
        "                                 P5 * (model.d5_plus + 3 * (model.P - 320)),\n",
        "                            sense=minimize)\n",
        "\n",
        "# Define the constraints\n",
        "model.sales_constraint = Constraint(expr=5 * model.F + 2 * model.P + model.d1_minus - model.d1_plus == 5500)\n",
        "model.fulltime_hours_constraint = Constraint(expr=model.F + model.d2_minus - model.d2_plus == 800)\n",
        "model.parttime_hours_constraint = Constraint(expr=model.P + model.d3_minus - model.d3_plus == 320)\n",
        "model.fulltime_overtime_constraint = Constraint(expr=model.F - 800 + model.d4_minus - model.d4_plus == 100)\n",
        "model.total_overtime_constraint = Constraint(expr=(model.F - 800) + (model.P - 320) + model.d5_minus - model.d5_plus == 0)\n",
        "\n",
        "# Solve the model\n",
        "results = SolverFactory('glpk').solve(model)\n",
        "\n",
        "# Print the results\n",
        "print(\"Objective value:\", model.objective())\n",
        "print(\"Full-time employee hours (F):\", model.F())\n",
        "print(\"Part-time employee hours (P):\", model.P())"
      ],
      "metadata": {
        "colab": {
          "base_uri": "https://localhost:8080/",
          "height": 332
        },
        "id": "8FpHcuWU8rQ2",
        "outputId": "74e168e0-3fa0-4d7d-84bb-fec340706bee"
      },
      "execution_count": 16,
      "outputs": [
        {
          "output_type": "error",
          "ename": "AttributeError",
          "evalue": "'ConcreteModel' object has no attribute 'd5_minus'",
          "traceback": [
            "\u001b[0;31m---------------------------------------------------------------------------\u001b[0m",
            "\u001b[0;31mAttributeError\u001b[0m                            Traceback (most recent call last)",
            "\u001b[0;32m<ipython-input-16-70d48aa4d620>\u001b[0m in \u001b[0;36m<cell line: 41>\u001b[0;34m()\u001b[0m\n\u001b[1;32m     39\u001b[0m \u001b[0mmodel\u001b[0m\u001b[0;34m.\u001b[0m\u001b[0mparttime_hours_constraint\u001b[0m \u001b[0;34m=\u001b[0m \u001b[0mConstraint\u001b[0m\u001b[0;34m(\u001b[0m\u001b[0mexpr\u001b[0m\u001b[0;34m=\u001b[0m\u001b[0mmodel\u001b[0m\u001b[0;34m.\u001b[0m\u001b[0mP\u001b[0m \u001b[0;34m+\u001b[0m \u001b[0mmodel\u001b[0m\u001b[0;34m.\u001b[0m\u001b[0md3_minus\u001b[0m \u001b[0;34m-\u001b[0m \u001b[0mmodel\u001b[0m\u001b[0;34m.\u001b[0m\u001b[0md3_plus\u001b[0m \u001b[0;34m==\u001b[0m \u001b[0;36m320\u001b[0m\u001b[0;34m)\u001b[0m\u001b[0;34m\u001b[0m\u001b[0;34m\u001b[0m\u001b[0m\n\u001b[1;32m     40\u001b[0m \u001b[0mmodel\u001b[0m\u001b[0;34m.\u001b[0m\u001b[0mfulltime_overtime_constraint\u001b[0m \u001b[0;34m=\u001b[0m \u001b[0mConstraint\u001b[0m\u001b[0;34m(\u001b[0m\u001b[0mexpr\u001b[0m\u001b[0;34m=\u001b[0m\u001b[0mmodel\u001b[0m\u001b[0;34m.\u001b[0m\u001b[0mF\u001b[0m \u001b[0;34m-\u001b[0m \u001b[0;36m800\u001b[0m \u001b[0;34m+\u001b[0m \u001b[0mmodel\u001b[0m\u001b[0;34m.\u001b[0m\u001b[0md4_minus\u001b[0m \u001b[0;34m-\u001b[0m \u001b[0mmodel\u001b[0m\u001b[0;34m.\u001b[0m\u001b[0md4_plus\u001b[0m \u001b[0;34m==\u001b[0m \u001b[0;36m100\u001b[0m\u001b[0;34m)\u001b[0m\u001b[0;34m\u001b[0m\u001b[0;34m\u001b[0m\u001b[0m\n\u001b[0;32m---> 41\u001b[0;31m \u001b[0mmodel\u001b[0m\u001b[0;34m.\u001b[0m\u001b[0mtotal_overtime_constraint\u001b[0m \u001b[0;34m=\u001b[0m \u001b[0mConstraint\u001b[0m\u001b[0;34m(\u001b[0m\u001b[0mexpr\u001b[0m\u001b[0;34m=\u001b[0m\u001b[0;34m(\u001b[0m\u001b[0mmodel\u001b[0m\u001b[0;34m.\u001b[0m\u001b[0mF\u001b[0m \u001b[0;34m-\u001b[0m \u001b[0;36m800\u001b[0m\u001b[0;34m)\u001b[0m \u001b[0;34m+\u001b[0m \u001b[0;34m(\u001b[0m\u001b[0mmodel\u001b[0m\u001b[0;34m.\u001b[0m\u001b[0mP\u001b[0m \u001b[0;34m-\u001b[0m \u001b[0;36m320\u001b[0m\u001b[0;34m)\u001b[0m \u001b[0;34m+\u001b[0m \u001b[0mmodel\u001b[0m\u001b[0;34m.\u001b[0m\u001b[0md5_minus\u001b[0m \u001b[0;34m-\u001b[0m \u001b[0mmodel\u001b[0m\u001b[0;34m.\u001b[0m\u001b[0md5_plus\u001b[0m \u001b[0;34m==\u001b[0m \u001b[0;36m0\u001b[0m\u001b[0;34m)\u001b[0m\u001b[0;34m\u001b[0m\u001b[0;34m\u001b[0m\u001b[0m\n\u001b[0m\u001b[1;32m     42\u001b[0m \u001b[0;34m\u001b[0m\u001b[0m\n\u001b[1;32m     43\u001b[0m \u001b[0;31m# Solve the model\u001b[0m\u001b[0;34m\u001b[0m\u001b[0;34m\u001b[0m\u001b[0m\n",
            "\u001b[0;32m/usr/local/lib/python3.10/dist-packages/pyomo/core/base/block.py\u001b[0m in \u001b[0;36m__getattr__\u001b[0;34m(self, val)\u001b[0m\n\u001b[1;32m    548\u001b[0m         \u001b[0;31m# Since the base classes don't support getattr, we can just\u001b[0m\u001b[0;34m\u001b[0m\u001b[0;34m\u001b[0m\u001b[0m\n\u001b[1;32m    549\u001b[0m         \u001b[0;31m# throw the \"normal\" AttributeError\u001b[0m\u001b[0;34m\u001b[0m\u001b[0;34m\u001b[0m\u001b[0m\n\u001b[0;32m--> 550\u001b[0;31m         raise AttributeError(\n\u001b[0m\u001b[1;32m    551\u001b[0m             \u001b[0;34m\"'%s' object has no attribute '%s'\"\u001b[0m \u001b[0;34m%\u001b[0m \u001b[0;34m(\u001b[0m\u001b[0mself\u001b[0m\u001b[0;34m.\u001b[0m\u001b[0m__class__\u001b[0m\u001b[0;34m.\u001b[0m\u001b[0m__name__\u001b[0m\u001b[0;34m,\u001b[0m \u001b[0mval\u001b[0m\u001b[0;34m)\u001b[0m\u001b[0;34m\u001b[0m\u001b[0;34m\u001b[0m\u001b[0m\n\u001b[1;32m    552\u001b[0m         )\n",
            "\u001b[0;31mAttributeError\u001b[0m: 'ConcreteModel' object has no attribute 'd5_minus'"
          ]
        }
      ]
    },
    {
      "cell_type": "code",
      "source": [
        "print(\"d1^-:\", model.d1_minus())\n",
        "print(\"d1^+:\", model.d1_plus())\n",
        "print(\"d2^-:\", model.d2_minus())\n",
        "print(\"d2^+:\", model.d2_plus())\n",
        "print(\"d3^-:\", model.d3_minus())\n",
        "print(\"d3^+:\", model.d3_plus())\n",
        "print(\"d4^-:\", model.d4_minus())\n",
        "print(\"d4^+:\", model.d4_plus())\n",
        "print(\"d5^+:\", model.d5_plus())"
      ],
      "metadata": {
        "colab": {
          "base_uri": "https://localhost:8080/"
        },
        "id": "LZknCkBKRFSv",
        "outputId": "456eabeb-36f1-4d32-99ac-41a9d21d97dc"
      },
      "execution_count": null,
      "outputs": [
        {
          "output_type": "stream",
          "name": "stdout",
          "text": [
            "d1^-: 0.0\n",
            "d1^+: 0.0\n",
            "d2^-: 0.0\n",
            "d2^+: 172.0\n",
            "d3^-: 0.0\n",
            "d3^+: 0.0\n",
            "d4^-: 0.0\n",
            "d4^+: 72.0\n",
            "d5^+: 172.0\n"
          ]
        }
      ]
    },
    {
      "cell_type": "markdown",
      "source": [
        "# 5. Correct The Model Code to Test Mathematical Model (if applicable)"
      ],
      "metadata": {
        "id": "KHTyoLQTWZVy"
      }
    },
    {
      "cell_type": "code",
      "source": [
        "from pyomo.environ import *\n",
        "\n",
        "# Create the model\n",
        "model = ConcreteModel()\n",
        "\n",
        "# Define the decision variables\n",
        "model.F = Var(within=NonNegativeReals)  # Number of hours worked by full-time employees\n",
        "model.P = Var(within=NonNegativeReals)  # Number of hours worked by part-time employees\n",
        "\n",
        "# Define the deviation variables\n",
        "model.d1_plus = Var(within=NonNegativeReals)  # Positive deviation from sales target\n",
        "model.d1_minus = Var(within=NonNegativeReals)  # Negative deviation from sales target\n",
        "model.d2_plus = Var(within=NonNegativeReals)  # Positive deviation from full-time employee hours target\n",
        "model.d2_minus = Var(within=NonNegativeReals)  # Negative deviation from full-time employee hours target\n",
        "model.d3_plus = Var(within=NonNegativeReals)  # Positive deviation from part-time employee hours target\n",
        "model.d3_minus = Var(within=NonNegativeReals)  # Negative deviation from part-time employee hours target\n",
        "model.d4_plus = Var(within=NonNegativeReals)  # Positive deviation from full-time employee overtime hours target\n",
        "model.d4_minus = Var(within=NonNegativeReals)  # Negative deviation from full-time employee overtime hours target\n",
        "model.d5_plus = Var(within=NonNegativeReals)  # Positive deviation from total overtime hours\n",
        "model.d5_minus = Var(within=NonNegativeReals)  # Positive deviation from total overtime hours\n",
        "\n",
        "# Define the priority factors (sample data)\n",
        "P1 = 5  # Priority for deviations from sales target\n",
        "P2 = 4   # Priority for deviations from full-time employee overtime hours target\n",
        "P3 = 3   # Priority for deviations from full-time employee hours target\n",
        "P4 = 2   # Priority for deviations from part-time employee hours target\n",
        "P5 = 1   # Priority for deviations from total overtime hours\n",
        "\n",
        "# Define the objective function\n",
        "model.objective = Objective(expr=P1 * (model.d1_plus + model.d1_minus) +\n",
        "                                 P2 * (model.d4_plus + model.d4_minus) +\n",
        "                                 P3 * 2 * (model.d2_plus + model.d2_minus) +\n",
        "                                 P4 * (model.d3_plus + model.d3_minus) +\n",
        "                                 P5 * (model.d5_plus + 3 * (model.P - 320)),\n",
        "                            sense=minimize)\n",
        "\n",
        "# Define the constraints\n",
        "model.sales_constraint = Constraint(expr=5 * model.F + 2 * model.P + model.d1_minus - model.d1_plus == 5500)\n",
        "model.fulltime_hours_constraint = Constraint(expr=model.F + model.d2_minus - model.d2_plus == 800)\n",
        "model.parttime_hours_constraint = Constraint(expr=model.P + model.d3_minus - model.d3_plus == 320)\n",
        "model.fulltime_overtime_constraint = Constraint(expr=model.F - 800 + model.d4_minus - model.d4_plus == 100)\n",
        "model.total_overtime_constraint = Constraint(expr=(model.F - 800) + (model.P - 320) + model.d5_minus - model.d5_plus == 0)\n",
        "\n",
        "# Solve the model\n",
        "results = SolverFactory('glpk').solve(model)\n",
        "\n",
        "# Print the results\n",
        "print(\"Objective value:\", model.objective())\n",
        "print(\"Full-time employee hours (F):\", model.F())\n",
        "print(\"Part-time employee hours (P):\", model.P())\n",
        "print(\"d1^-:\", model.d1_minus())\n",
        "print(\"d1^+:\", model.d1_plus())\n",
        "print(\"d2^-:\", model.d2_minus())\n",
        "print(\"d2^+:\", model.d2_plus())\n",
        "print(\"d3^-:\", model.d3_minus())\n",
        "print(\"d3^+:\", model.d3_plus())\n",
        "print(\"d4^-:\", model.d4_minus())\n",
        "print(\"d4^+:\", model.d4_plus())\n",
        "print(\"d5^+:\", model.d5_plus())"
      ],
      "metadata": {
        "id": "REJzqhR6WYvM",
        "colab": {
          "base_uri": "https://localhost:8080/"
        },
        "outputId": "dcb79831-8e15-4658-d8ff-ab778276c772"
      },
      "execution_count": 18,
      "outputs": [
        {
          "output_type": "stream",
          "name": "stdout",
          "text": [
            "Objective value: 1492.0\n",
            "Full-time employee hours (F): 972.0\n",
            "Part-time employee hours (P): 320.0\n",
            "d1^-: 0.0\n",
            "d1^+: 0.0\n",
            "d2^-: 0.0\n",
            "d2^+: 172.0\n",
            "d3^-: 0.0\n",
            "d3^+: 0.0\n",
            "d4^-: 0.0\n",
            "d4^+: 72.0\n",
            "d5^+: 172.0\n"
          ]
        }
      ]
    },
    {
      "cell_type": "code",
      "source": [],
      "metadata": {
        "id": "bPJ_54384nR_"
      },
      "execution_count": null,
      "outputs": []
    }
  ]
}