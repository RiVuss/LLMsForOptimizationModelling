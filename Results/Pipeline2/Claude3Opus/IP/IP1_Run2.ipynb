{
  "nbformat": 4,
  "nbformat_minor": 0,
  "metadata": {
    "colab": {
      "provenance": []
    },
    "kernelspec": {
      "name": "python3",
      "display_name": "Python 3"
    },
    "language_info": {
      "name": "python"
    }
  },
  "cells": [
    {
      "cell_type": "markdown",
      "source": [
        "# 0. Imports and Setting up Anthropic API Client"
      ],
      "metadata": {
        "id": "y5fw0lkBwBbo"
      }
    },
    {
      "cell_type": "code",
      "source": [
        "from google.colab import drive\n",
        "\n",
        "drive.mount('/content/drive')"
      ],
      "metadata": {
        "colab": {
          "base_uri": "https://localhost:8080/"
        },
        "id": "e7tWOLo0yMoH",
        "outputId": "5034c985-b7d5-4af0-f1a3-69235edeb8f9"
      },
      "execution_count": 1,
      "outputs": [
        {
          "output_type": "stream",
          "name": "stdout",
          "text": [
            "Mounted at /content/drive\n"
          ]
        }
      ]
    },
    {
      "cell_type": "code",
      "source": [
        "!pip install python-dotenv\n",
        "\n",
        "import os\n",
        "import dotenv\n",
        "\n",
        "dotenv.load_dotenv('/content/drive/MyDrive/.env')"
      ],
      "metadata": {
        "colab": {
          "base_uri": "https://localhost:8080/"
        },
        "id": "utcEK8lZ1Z1R",
        "outputId": "b75ebfaa-d35e-4fdf-865a-7897c4818097"
      },
      "execution_count": 2,
      "outputs": [
        {
          "output_type": "stream",
          "name": "stdout",
          "text": [
            "Collecting python-dotenv\n",
            "  Downloading python_dotenv-1.0.1-py3-none-any.whl (19 kB)\n",
            "Installing collected packages: python-dotenv\n",
            "Successfully installed python-dotenv-1.0.1\n"
          ]
        },
        {
          "output_type": "execute_result",
          "data": {
            "text/plain": [
              "True"
            ]
          },
          "metadata": {},
          "execution_count": 2
        }
      ]
    },
    {
      "cell_type": "code",
      "source": [
        "# Load Prompts and Problem Description\n",
        "# Variables Prompt\n",
        "prompt11_path = '/content/drive/MyDrive/Thesis/Prompts/Prompt11_MathematicalModel.txt'\n",
        "\n",
        "# Objective Prompt\n",
        "prompt12_path = '/content/drive/MyDrive/Thesis/Prompts/Prompt12_MathematicalModel.txt'\n",
        "\n",
        "# Constraint Prompt\n",
        "prompt13_path = '/content/drive/MyDrive/Thesis/Prompts/Prompt13_MathematicalModel.txt'\n",
        "\n",
        "# Code Prompt\n",
        "prompt2_path = '/content/drive/MyDrive/Thesis/Prompts/Prompt2_PyomoCode.txt'\n",
        "problem_desc_path = '/content/drive/MyDrive/Thesis/ProblemDescriptions/IP/IP1.txt'\n",
        "\n",
        "prompt11_file = open(prompt11_path, \"r\")\n",
        "prompt12_file = open(prompt12_path, \"r\")\n",
        "prompt13_file = open(prompt13_path, \"r\")\n",
        "prompt2_file = open(prompt2_path, \"r\")\n",
        "problem_desc_file = open(problem_desc_path, \"r\")\n",
        "\n",
        "prompt11 = prompt11_file.read()\n",
        "print(\"Prompt 1.1 (Variables):\\n\", prompt11)\n",
        "\n",
        "prompt12 = prompt12_file.read()\n",
        "print(\"Prompt 1.2 (Objctive):\\n\", prompt12)\n",
        "\n",
        "prompt13 = prompt13_file.read()\n",
        "print(\"Prompt 1.3 (Constraints):\\n\", prompt13)\n",
        "\n",
        "prompt2 = prompt2_file.read()\n",
        "print(\"Prompt 2:\\n\", prompt2)\n",
        "\n",
        "problem_desc = problem_desc_file.read()\n",
        "print(\"Problem Description:\\n\", problem_desc)"
      ],
      "metadata": {
        "colab": {
          "base_uri": "https://localhost:8080/"
        },
        "id": "9KlkjwMUS4xp",
        "outputId": "315e08cd-501c-4e8c-8098-077bd562cccb"
      },
      "execution_count": 3,
      "outputs": [
        {
          "output_type": "stream",
          "name": "stdout",
          "text": [
            "Prompt 1.1 (Variables):\n",
            " Please formulate only the variables for this mathematical optimization problem. \n",
            "Prompt 1.2 (Objctive):\n",
            " Please formulate only the objective function for this mathematical optimization problem. \n",
            "Prompt 1.3 (Constraints):\n",
            " Please formulate only the constraints for this mathematical optimization problem. \n",
            "Prompt 2:\n",
            " Please write a python pyomo code for this optimization problem.\n",
            "Use sample data where needed.\n",
            "Indicate where you use sample data.\n",
            "Problem Description:\n",
            " We are delighted to welcome you, our newest intern on the Analytics team of Massachusetts General Hospital! You have been placed in a challenging role where you will be tasked with solving a real-world problem in the field of medical physics. We are building a pilot program in Boston, and if successful, your work could be applied widely in hospitals with limited capacity in many countries.\n",
            "\n",
            "You are responsible for determining the best treatment plan for 17 patients who require radiotherapy. Your goal is to optimize the use of two possible treatments: photon therapy and proton therapy. While proton therapy is known to target tumors more precisely, it is also more expensive and has limited capacity in many countries. Therefore, you will need to balance the benefits of proton therapy with its limitations and cost to create an effective treatment plan for each patient.\n",
            "\n",
            "To determine the best course of action for each patient, you will use a scoring system called the Biological Equivalent Dose (BED). This system allows you to calculate the effectiveness of each patient’s treatment plan by considering the number of proton fractions that can be used while still achieving the highest possible BED.\n",
            "\n",
            "We have n=17 patients who need radiotherapy. Each patient i needs 15 fractions, which can be photon fractions, proton fractions, or a mix of photon and proton fractions (e.g. 4 proton fractions and 11 photon fractions). We want to use the limited proton therapy capacity as best as possible. We can calculate the BED score for each patient when p proton fractions and 15-p photon fractions are used, as BEDi(p,15-p), i.e., the BED when p proton and 15-p photon fractions are delivered for patient i. The higher the score, the better. \n",
            "\n",
            "The data file \"ProblemData.csv\" contains a 2D matrix of BED scores. It does not have an index. It was made in Excel and saved as csv. The columns are the number of proton fractions and each row represents a patient. In particular, the number at the (i,j) position is the score for patient i receiving j proton fractions. \n",
            "\n",
            "Suppose that the total maximal capacity C is 100 proton fractions. To maximize the total BED scores for all the patients, which patients should get proton fractions, and how many should they get? Formulate an integer linear optimization model to solve this problem. Assume you know the value BEDi(j,15-j) for each patient i. \n",
            "\n"
          ]
        }
      ]
    },
    {
      "cell_type": "code",
      "source": [
        "!pip install anthropic"
      ],
      "metadata": {
        "colab": {
          "base_uri": "https://localhost:8080/"
        },
        "id": "iWlNsTIvxCcR",
        "outputId": "5db44505-f2e4-4db5-f3e0-cb97102cd6b1",
        "collapsed": true
      },
      "execution_count": 4,
      "outputs": [
        {
          "output_type": "stream",
          "name": "stdout",
          "text": [
            "Collecting anthropic\n",
            "  Downloading anthropic-0.28.0-py3-none-any.whl (862 kB)\n",
            "\u001b[2K     \u001b[90m━━━━━━━━━━━━━━━━━━━━━━━━━━━━━━━━━━━━━━━━\u001b[0m \u001b[32m862.7/862.7 kB\u001b[0m \u001b[31m4.2 MB/s\u001b[0m eta \u001b[36m0:00:00\u001b[0m\n",
            "\u001b[?25hRequirement already satisfied: anyio<5,>=3.5.0 in /usr/local/lib/python3.10/dist-packages (from anthropic) (3.7.1)\n",
            "Requirement already satisfied: distro<2,>=1.7.0 in /usr/lib/python3/dist-packages (from anthropic) (1.7.0)\n",
            "Collecting httpx<1,>=0.23.0 (from anthropic)\n",
            "  Downloading httpx-0.27.0-py3-none-any.whl (75 kB)\n",
            "\u001b[2K     \u001b[90m━━━━━━━━━━━━━━━━━━━━━━━━━━━━━━━━━━━━━━━━\u001b[0m \u001b[32m75.6/75.6 kB\u001b[0m \u001b[31m7.8 MB/s\u001b[0m eta \u001b[36m0:00:00\u001b[0m\n",
            "\u001b[?25hCollecting jiter<1,>=0.4.0 (from anthropic)\n",
            "  Downloading jiter-0.4.1-cp310-cp310-manylinux_2_17_x86_64.manylinux2014_x86_64.whl (328 kB)\n",
            "\u001b[2K     \u001b[90m━━━━━━━━━━━━━━━━━━━━━━━━━━━━━━━━━━━━━━━━\u001b[0m \u001b[32m328.3/328.3 kB\u001b[0m \u001b[31m29.3 MB/s\u001b[0m eta \u001b[36m0:00:00\u001b[0m\n",
            "\u001b[?25hRequirement already satisfied: pydantic<3,>=1.9.0 in /usr/local/lib/python3.10/dist-packages (from anthropic) (2.7.2)\n",
            "Requirement already satisfied: sniffio in /usr/local/lib/python3.10/dist-packages (from anthropic) (1.3.1)\n",
            "Requirement already satisfied: tokenizers>=0.13.0 in /usr/local/lib/python3.10/dist-packages (from anthropic) (0.19.1)\n",
            "Requirement already satisfied: typing-extensions<5,>=4.7 in /usr/local/lib/python3.10/dist-packages (from anthropic) (4.12.0)\n",
            "Requirement already satisfied: idna>=2.8 in /usr/local/lib/python3.10/dist-packages (from anyio<5,>=3.5.0->anthropic) (3.7)\n",
            "Requirement already satisfied: exceptiongroup in /usr/local/lib/python3.10/dist-packages (from anyio<5,>=3.5.0->anthropic) (1.2.1)\n",
            "Requirement already satisfied: certifi in /usr/local/lib/python3.10/dist-packages (from httpx<1,>=0.23.0->anthropic) (2024.2.2)\n",
            "Collecting httpcore==1.* (from httpx<1,>=0.23.0->anthropic)\n",
            "  Downloading httpcore-1.0.5-py3-none-any.whl (77 kB)\n",
            "\u001b[2K     \u001b[90m━━━━━━━━━━━━━━━━━━━━━━━━━━━━━━━━━━━━━━━━\u001b[0m \u001b[32m77.9/77.9 kB\u001b[0m \u001b[31m9.2 MB/s\u001b[0m eta \u001b[36m0:00:00\u001b[0m\n",
            "\u001b[?25hCollecting h11<0.15,>=0.13 (from httpcore==1.*->httpx<1,>=0.23.0->anthropic)\n",
            "  Downloading h11-0.14.0-py3-none-any.whl (58 kB)\n",
            "\u001b[2K     \u001b[90m━━━━━━━━━━━━━━━━━━━━━━━━━━━━━━━━━━━━━━━━\u001b[0m \u001b[32m58.3/58.3 kB\u001b[0m \u001b[31m6.9 MB/s\u001b[0m eta \u001b[36m0:00:00\u001b[0m\n",
            "\u001b[?25hRequirement already satisfied: annotated-types>=0.4.0 in /usr/local/lib/python3.10/dist-packages (from pydantic<3,>=1.9.0->anthropic) (0.7.0)\n",
            "Requirement already satisfied: pydantic-core==2.18.3 in /usr/local/lib/python3.10/dist-packages (from pydantic<3,>=1.9.0->anthropic) (2.18.3)\n",
            "Requirement already satisfied: huggingface-hub<1.0,>=0.16.4 in /usr/local/lib/python3.10/dist-packages (from tokenizers>=0.13.0->anthropic) (0.23.2)\n",
            "Requirement already satisfied: filelock in /usr/local/lib/python3.10/dist-packages (from huggingface-hub<1.0,>=0.16.4->tokenizers>=0.13.0->anthropic) (3.14.0)\n",
            "Requirement already satisfied: fsspec>=2023.5.0 in /usr/local/lib/python3.10/dist-packages (from huggingface-hub<1.0,>=0.16.4->tokenizers>=0.13.0->anthropic) (2023.6.0)\n",
            "Requirement already satisfied: packaging>=20.9 in /usr/local/lib/python3.10/dist-packages (from huggingface-hub<1.0,>=0.16.4->tokenizers>=0.13.0->anthropic) (24.0)\n",
            "Requirement already satisfied: pyyaml>=5.1 in /usr/local/lib/python3.10/dist-packages (from huggingface-hub<1.0,>=0.16.4->tokenizers>=0.13.0->anthropic) (6.0.1)\n",
            "Requirement already satisfied: requests in /usr/local/lib/python3.10/dist-packages (from huggingface-hub<1.0,>=0.16.4->tokenizers>=0.13.0->anthropic) (2.31.0)\n",
            "Requirement already satisfied: tqdm>=4.42.1 in /usr/local/lib/python3.10/dist-packages (from huggingface-hub<1.0,>=0.16.4->tokenizers>=0.13.0->anthropic) (4.66.4)\n",
            "Requirement already satisfied: charset-normalizer<4,>=2 in /usr/local/lib/python3.10/dist-packages (from requests->huggingface-hub<1.0,>=0.16.4->tokenizers>=0.13.0->anthropic) (3.3.2)\n",
            "Requirement already satisfied: urllib3<3,>=1.21.1 in /usr/local/lib/python3.10/dist-packages (from requests->huggingface-hub<1.0,>=0.16.4->tokenizers>=0.13.0->anthropic) (2.0.7)\n",
            "Installing collected packages: jiter, h11, httpcore, httpx, anthropic\n",
            "Successfully installed anthropic-0.28.0 h11-0.14.0 httpcore-1.0.5 httpx-0.27.0 jiter-0.4.1\n"
          ]
        }
      ]
    },
    {
      "cell_type": "code",
      "execution_count": 5,
      "metadata": {
        "id": "7Qjk2D63v1Bl"
      },
      "outputs": [],
      "source": [
        "# Importing Anthropic & Setting Headers\n",
        "import anthropic\n",
        "\n",
        "client = anthropic.Anthropic(\n",
        "    # defaults to os.environ.get(\"ANTHROPIC_API_KEY\")\n",
        "    api_key=os.environ.get(\"ANTHROPIC_API_KEY\"),\n",
        ")"
      ]
    },
    {
      "cell_type": "markdown",
      "source": [
        "# 1. Prompt 1.1: Create Variables for Mathematical Model"
      ],
      "metadata": {
        "id": "kT7yKbJs18XR"
      }
    },
    {
      "cell_type": "code",
      "source": [
        "message11 = client.messages.create(\n",
        "    model=\"claude-3-opus-20240229\",\n",
        "    system=prompt11,\n",
        "    max_tokens=4096,\n",
        "    messages=[\n",
        "        {\"role\": \"user\", \"content\": problem_desc}\n",
        "    ]\n",
        ")\n",
        "\n",
        "response_p11 = message11.content[0].text"
      ],
      "metadata": {
        "id": "R_6X0axq16D4"
      },
      "execution_count": 6,
      "outputs": []
    },
    {
      "cell_type": "code",
      "source": [
        "# Print response\n",
        "print(response_p11)"
      ],
      "metadata": {
        "colab": {
          "base_uri": "https://localhost:8080/"
        },
        "id": "Ra9Ox_PI38jg",
        "outputId": "f3b694f3-1d2f-4f6a-d9fc-a85e8545bf01"
      },
      "execution_count": 7,
      "outputs": [
        {
          "output_type": "stream",
          "name": "stdout",
          "text": [
            "To formulate the integer linear optimization model for this problem, I will define the decision variables, objective function, and constraints.\n",
            "\n",
            "Decision Variables:\n",
            "Let x[i,j] be a binary variable that indicates whether patient i receives j proton fractions.\n",
            "- i ranges from 1 to 17 (the number of patients)\n",
            "- j ranges from 0 to 15 (the possible number of proton fractions per patient)\n",
            "\n",
            "x[i,j] = 1 if patient i receives j proton fractions, and 0 otherwise.\n",
            "\n",
            "These are the variables that need to be determined by the optimization model to maximize the total BED scores while satisfying the constraints.\n"
          ]
        }
      ]
    },
    {
      "cell_type": "markdown",
      "source": [
        "# 1. Prompt 1.2: Create Objective for Mathematical Model"
      ],
      "metadata": {
        "id": "nbt6yH1snBQL"
      }
    },
    {
      "cell_type": "code",
      "source": [
        "message12 = client.messages.create(\n",
        "    model=\"claude-3-opus-20240229\",\n",
        "    system=prompt12,\n",
        "    max_tokens=4096,\n",
        "    messages=[\n",
        "        {\"role\": \"user\", \"content\": (problem_desc + response_p11)}\n",
        "    ]\n",
        ")\n",
        "\n",
        "response_p12 = message12.content[0].text"
      ],
      "metadata": {
        "id": "ol4rtt_MnAy8"
      },
      "execution_count": 8,
      "outputs": []
    },
    {
      "cell_type": "code",
      "source": [
        "# Print response\n",
        "print(response_p12)"
      ],
      "metadata": {
        "colab": {
          "base_uri": "https://localhost:8080/"
        },
        "id": "Vz2F_EARnzHf",
        "outputId": "e471aa9e-b299-473a-ae64-2ac650686051"
      },
      "execution_count": 9,
      "outputs": [
        {
          "output_type": "stream",
          "name": "stdout",
          "text": [
            "Objective Function:\n",
            "Maximize the total BED scores for all patients:\n",
            "\n",
            "Maximize:\n",
            "  17  15\n",
            " ∑   ∑ BED[i,j] * x[i,j]\n",
            "i=1 j=0\n",
            "\n",
            "This objective function sums up the BED scores for each patient based on the number of proton fractions they receive, as determined by the decision variables x[i,j]. The goal is to maximize this sum.\n",
            "\n",
            "I have formulated the objective function for the integer linear optimization model. The constraints would still need to be defined to ensure that each patient receives a total of 15 fractions (proton + photon) and that the total number of proton fractions used does not exceed the capacity of 100.\n"
          ]
        }
      ]
    },
    {
      "cell_type": "markdown",
      "source": [
        "# 1. Prompt 1.3: Create Constraints for Mathematical Model\n"
      ],
      "metadata": {
        "id": "Wzf33DwvnEar"
      }
    },
    {
      "cell_type": "code",
      "source": [
        "message13 = client.messages.create(\n",
        "    model=\"claude-3-opus-20240229\",\n",
        "    system=prompt13,\n",
        "    max_tokens=4096,\n",
        "    messages=[\n",
        "        {\"role\": \"user\", \"content\": (problem_desc + response_p11 + response_p12)}\n",
        "    ]\n",
        ")\n",
        "\n",
        "response_p13 = message13.content[0].text"
      ],
      "metadata": {
        "id": "l1UAJRt7nENG"
      },
      "execution_count": 10,
      "outputs": []
    },
    {
      "cell_type": "code",
      "source": [
        "# Print response\n",
        "print(response_p13)"
      ],
      "metadata": {
        "colab": {
          "base_uri": "https://localhost:8080/"
        },
        "id": "vH7Ff9mxn4FZ",
        "outputId": "3229e0f9-91b8-4abb-9695-caf8d4d17cbb"
      },
      "execution_count": 11,
      "outputs": [
        {
          "output_type": "stream",
          "name": "stdout",
          "text": [
            "Constraints:\n",
            "\n",
            "1. Each patient must receive a total of 15 fractions (proton + photon):\n",
            "   \n",
            "   For each patient i (1 ≤ i ≤ 17):\n",
            "    15\n",
            "   ∑ x[i,j] = 1\n",
            "  j=0\n",
            "   \n",
            "   This constraint ensures that for each patient i, exactly one decision variable x[i,j] is equal to 1, meaning that the patient receives a specific number of proton fractions (and the remaining fractions are photon fractions).\n",
            "\n",
            "2. The total number of proton fractions used must not exceed the capacity C (100):\n",
            "    \n",
            "    17  15\n",
            "   ∑   ∑ j * x[i,j] ≤ 100\n",
            "  i=1 j=0\n",
            "   \n",
            "   This constraint calculates the total number of proton fractions used by summing up the product of the number of proton fractions (j) and the corresponding decision variable x[i,j] for all patients and all possible proton fractions. The sum must be less than or equal to the capacity of 100 proton fractions.\n",
            "\n",
            "3. Binary constraint on the decision variables:\n",
            "\n",
            "   x[i,j] ∈ {0, 1} for all i (1 ≤ i ≤ 17) and j (0 ≤ j ≤ 15)\n",
            "   \n",
            "   This constraint ensures that the decision variables x[i,j] can only take the values 0 or 1, indicating whether a patient receives a specific number of proton fractions or not.\n",
            "\n",
            "These constraints, along with the objective function you provided earlier, complete the formulation of the integer linear optimization model for the radiotherapy treatment planning problem.\n"
          ]
        }
      ]
    },
    {
      "cell_type": "markdown",
      "source": [
        "# 2. Prompt 2: Write Code based on Mathematical Model"
      ],
      "metadata": {
        "id": "WPZ6lgBO729j"
      }
    },
    {
      "cell_type": "code",
      "source": [
        "message2 = client.messages.create(\n",
        "    model=\"claude-3-opus-20240229\",\n",
        "    system=prompt2,\n",
        "    max_tokens=4069,\n",
        "    messages=[\n",
        "        {\"role\": \"user\", \"content\": (response_p11 + response_p12 + response_p13)}\n",
        "    ]\n",
        ")\n",
        "\n",
        "response_p2 = message2.content[0].text"
      ],
      "metadata": {
        "id": "1iUSgBda70FL"
      },
      "execution_count": 12,
      "outputs": []
    },
    {
      "cell_type": "code",
      "source": [
        "# Print response\n",
        "print(response_p2)"
      ],
      "metadata": {
        "colab": {
          "base_uri": "https://localhost:8080/"
        },
        "id": "o40mxc_H8eQ9",
        "outputId": "67888973-1f33-436b-b903-fd60fadc653d"
      },
      "execution_count": 13,
      "outputs": [
        {
          "output_type": "stream",
          "name": "stdout",
          "text": [
            "Here's the Python code using Pyomo to formulate and solve the integer linear optimization problem:\n",
            "\n",
            "```python\n",
            "from pyomo.environ import *\n",
            "\n",
            "# Sample data (replace with actual data)\n",
            "num_patients = 17\n",
            "max_fractions = 15\n",
            "capacity = 100\n",
            "\n",
            "# Sample BED scores (replace with actual data)\n",
            "BED = {(i, j): i * j for i in range(1, num_patients + 1) for j in range(max_fractions + 1)}\n",
            "\n",
            "# Create a Pyomo model\n",
            "model = ConcreteModel()\n",
            "\n",
            "# Define decision variables\n",
            "model.x = Var(range(1, num_patients + 1), range(max_fractions + 1), domain=Binary)\n",
            "\n",
            "# Define objective function\n",
            "def obj_rule(model):\n",
            "    return sum(BED[i, j] * model.x[i, j] for i in range(1, num_patients + 1) for j in range(max_fractions + 1))\n",
            "model.obj = Objective(rule=obj_rule, sense=maximize)\n",
            "\n",
            "# Define constraints\n",
            "def fraction_constraint_rule(model, i):\n",
            "    return sum(model.x[i, j] for j in range(max_fractions + 1)) == 1\n",
            "model.fraction_constraint = Constraint(range(1, num_patients + 1), rule=fraction_constraint_rule)\n",
            "\n",
            "def capacity_constraint_rule(model):\n",
            "    return sum(j * model.x[i, j] for i in range(1, num_patients + 1) for j in range(max_fractions + 1)) <= capacity\n",
            "model.capacity_constraint = Constraint(rule=capacity_constraint_rule)\n",
            "\n",
            "# Solve the model\n",
            "solver = SolverFactory('glpk')\n",
            "results = solver.solve(model)\n",
            "\n",
            "# Print the results\n",
            "print(\"Objective value:\", model.obj())\n",
            "for i in range(1, num_patients + 1):\n",
            "    for j in range(max_fractions + 1):\n",
            "        if model.x[i, j]() == 1:\n",
            "            print(f\"Patient {i} receives {j} proton fractions\")\n",
            "```\n",
            "\n",
            "In this code:\n",
            "\n",
            "1. We import the necessary components from Pyomo.\n",
            "\n",
            "2. We define the sample data:\n",
            "   - `num_patients`: The number of patients (17 in this case).\n",
            "   - `max_fractions`: The maximum number of fractions per patient (15 in this case).\n",
            "   - `capacity`: The total capacity of proton fractions (100 in this case).\n",
            "\n",
            "3. We create a sample BED scores dictionary using a simple formula `i * j`. Replace this with the actual BED scores for each patient and number of proton fractions.\n",
            "\n",
            "4. We create a Pyomo model using `ConcreteModel()`.\n",
            "\n",
            "5. We define the decision variables `x[i,j]` as binary variables using `Var()` with the `Binary` domain.\n",
            "\n",
            "6. We define the objective function using `Objective()` and the `obj_rule` function, which calculates the total BED scores based on the decision variables.\n",
            "\n",
            "7. We define the constraints:\n",
            "   - `fraction_constraint` ensures that each patient receives a total of 15 fractions.\n",
            "   - `capacity_constraint` ensures that the total number of proton fractions used does not exceed the capacity.\n",
            "\n",
            "8. We solve the model using the GLPK solver (`glpk`). Make sure you have GLPK installed.\n",
            "\n",
            "9. We print the objective value and the optimal allocation of proton fractions for each patient.\n",
            "\n",
            "Note: The sample data used in this code (`num_patients`, `max_fractions`, `capacity`, and `BED`) should be replaced with the actual data for the problem.\n"
          ]
        }
      ]
    },
    {
      "cell_type": "markdown",
      "source": [
        "# 4. Input Problem Data and Test Model Code"
      ],
      "metadata": {
        "id": "Pc0QqJuf8up_"
      }
    },
    {
      "cell_type": "code",
      "source": [
        "# Installing pyomo nd solver\n",
        "!pip install -q pyomo\n",
        "!pip install pandas\n",
        "!apt-get install -y -qq glpk-utils\n",
        "!pip install glpk"
      ],
      "metadata": {
        "colab": {
          "base_uri": "https://localhost:8080/"
        },
        "id": "3BtROuLu9O-p",
        "outputId": "33674510-fb3e-476c-c376-2768aad14189",
        "collapsed": true
      },
      "execution_count": 14,
      "outputs": [
        {
          "output_type": "stream",
          "name": "stdout",
          "text": [
            "\u001b[2K     \u001b[90m━━━━━━━━━━━━━━━━━━━━━━━━━━━━━━━━━━━━━━━━\u001b[0m \u001b[32m12.8/12.8 MB\u001b[0m \u001b[31m52.3 MB/s\u001b[0m eta \u001b[36m0:00:00\u001b[0m\n",
            "\u001b[2K     \u001b[90m━━━━━━━━━━━━━━━━━━━━━━━━━━━━━━━━━━━━━━━━\u001b[0m \u001b[32m49.6/49.6 kB\u001b[0m \u001b[31m5.1 MB/s\u001b[0m eta \u001b[36m0:00:00\u001b[0m\n",
            "\u001b[?25hRequirement already satisfied: pandas in /usr/local/lib/python3.10/dist-packages (2.0.3)\n",
            "Requirement already satisfied: python-dateutil>=2.8.2 in /usr/local/lib/python3.10/dist-packages (from pandas) (2.8.2)\n",
            "Requirement already satisfied: pytz>=2020.1 in /usr/local/lib/python3.10/dist-packages (from pandas) (2023.4)\n",
            "Requirement already satisfied: tzdata>=2022.1 in /usr/local/lib/python3.10/dist-packages (from pandas) (2024.1)\n",
            "Requirement already satisfied: numpy>=1.21.0 in /usr/local/lib/python3.10/dist-packages (from pandas) (1.25.2)\n",
            "Requirement already satisfied: six>=1.5 in /usr/local/lib/python3.10/dist-packages (from python-dateutil>=2.8.2->pandas) (1.16.0)\n",
            "Selecting previously unselected package libsuitesparseconfig5:amd64.\n",
            "(Reading database ... 121918 files and directories currently installed.)\n",
            "Preparing to unpack .../libsuitesparseconfig5_1%3a5.10.1+dfsg-4build1_amd64.deb ...\n",
            "Unpacking libsuitesparseconfig5:amd64 (1:5.10.1+dfsg-4build1) ...\n",
            "Selecting previously unselected package libamd2:amd64.\n",
            "Preparing to unpack .../libamd2_1%3a5.10.1+dfsg-4build1_amd64.deb ...\n",
            "Unpacking libamd2:amd64 (1:5.10.1+dfsg-4build1) ...\n",
            "Selecting previously unselected package libcolamd2:amd64.\n",
            "Preparing to unpack .../libcolamd2_1%3a5.10.1+dfsg-4build1_amd64.deb ...\n",
            "Unpacking libcolamd2:amd64 (1:5.10.1+dfsg-4build1) ...\n",
            "Selecting previously unselected package libglpk40:amd64.\n",
            "Preparing to unpack .../libglpk40_5.0-1_amd64.deb ...\n",
            "Unpacking libglpk40:amd64 (5.0-1) ...\n",
            "Selecting previously unselected package glpk-utils.\n",
            "Preparing to unpack .../glpk-utils_5.0-1_amd64.deb ...\n",
            "Unpacking glpk-utils (5.0-1) ...\n",
            "Setting up libsuitesparseconfig5:amd64 (1:5.10.1+dfsg-4build1) ...\n",
            "Setting up libamd2:amd64 (1:5.10.1+dfsg-4build1) ...\n",
            "Setting up libcolamd2:amd64 (1:5.10.1+dfsg-4build1) ...\n",
            "Setting up libglpk40:amd64 (5.0-1) ...\n",
            "Setting up glpk-utils (5.0-1) ...\n",
            "Processing triggers for man-db (2.10.2-1) ...\n",
            "Processing triggers for libc-bin (2.35-0ubuntu3.4) ...\n",
            "/sbin/ldconfig.real: /usr/local/lib/libtbbmalloc.so.2 is not a symbolic link\n",
            "\n",
            "/sbin/ldconfig.real: /usr/local/lib/libtbbbind_2_5.so.3 is not a symbolic link\n",
            "\n",
            "/sbin/ldconfig.real: /usr/local/lib/libtbbbind_2_0.so.3 is not a symbolic link\n",
            "\n",
            "/sbin/ldconfig.real: /usr/local/lib/libtbbbind.so.3 is not a symbolic link\n",
            "\n",
            "/sbin/ldconfig.real: /usr/local/lib/libtbb.so.12 is not a symbolic link\n",
            "\n",
            "/sbin/ldconfig.real: /usr/local/lib/libtbbmalloc_proxy.so.2 is not a symbolic link\n",
            "\n",
            "Collecting glpk\n",
            "  Downloading glpk-0.4.7.tar.gz (161 kB)\n",
            "\u001b[2K     \u001b[90m━━━━━━━━━━━━━━━━━━━━━━━━━━━━━━━━━━━━━━━━\u001b[0m \u001b[32m161.2/161.2 kB\u001b[0m \u001b[31m1.3 MB/s\u001b[0m eta \u001b[36m0:00:00\u001b[0m\n",
            "\u001b[?25h  Installing build dependencies ... \u001b[?25l\u001b[?25hdone\n",
            "  Getting requirements to build wheel ... \u001b[?25l\u001b[?25hdone\n",
            "  Preparing metadata (pyproject.toml) ... \u001b[?25l\u001b[?25hdone\n",
            "Building wheels for collected packages: glpk\n",
            "  \u001b[1;31merror\u001b[0m: \u001b[1msubprocess-exited-with-error\u001b[0m\n",
            "  \n",
            "  \u001b[31m×\u001b[0m \u001b[32mBuilding wheel for glpk \u001b[0m\u001b[1;32m(\u001b[0m\u001b[32mpyproject.toml\u001b[0m\u001b[1;32m)\u001b[0m did not run successfully.\n",
            "  \u001b[31m│\u001b[0m exit code: \u001b[1;36m1\u001b[0m\n",
            "  \u001b[31m╰─>\u001b[0m See above for output.\n",
            "  \n",
            "  \u001b[1;35mnote\u001b[0m: This error originates from a subprocess, and is likely not a problem with pip.\n",
            "  Building wheel for glpk (pyproject.toml) ... \u001b[?25l\u001b[?25herror\n",
            "\u001b[31m  ERROR: Failed building wheel for glpk\u001b[0m\u001b[31m\n",
            "\u001b[0mFailed to build glpk\n",
            "\u001b[31mERROR: Could not build wheels for glpk, which is required to install pyproject.toml-based projects\u001b[0m\u001b[31m\n",
            "\u001b[0m"
          ]
        }
      ]
    },
    {
      "cell_type": "code",
      "source": [
        "from pyomo.environ import *\n",
        "import pandas as pd\n",
        "\n",
        "# Sample data (replace with actual data)\n",
        "num_patients = 17\n",
        "max_fractions = 15\n",
        "capacity = 100\n",
        "\n",
        "# Sample BED scores (replace with actual data)\n",
        "data = pd.read_csv(\"/content/drive/MyDrive/Thesis/ProblemData/IP/IP1/ProblemData.csv\", header=None)\n",
        "data = pd.DataFrame(data)\n",
        "\n",
        "BED = {(i + 1, j): value for i, row in data.iterrows() for j, value in enumerate(row)} # ADJUSTED TO CORRECTLY LOAD THE DATA\n",
        "\n",
        "# Create a Pyomo model\n",
        "model = ConcreteModel()\n",
        "\n",
        "# Define decision variables\n",
        "model.x = Var(range(1, num_patients + 1), range(max_fractions + 1), domain=Binary)\n",
        "\n",
        "# Define objective function\n",
        "def obj_rule(model):\n",
        "    return sum(BED[i, j] * model.x[i, j] for i in range(1, num_patients + 1) for j in range(max_fractions + 1))\n",
        "model.obj = Objective(rule=obj_rule, sense=maximize)\n",
        "\n",
        "# Define constraints\n",
        "def fraction_constraint_rule(model, i):\n",
        "    return sum(model.x[i, j] for j in range(max_fractions + 1)) == 1\n",
        "model.fraction_constraint = Constraint(range(1, num_patients + 1), rule=fraction_constraint_rule)\n",
        "\n",
        "def capacity_constraint_rule(model):\n",
        "    return sum(j * model.x[i, j] for i in range(1, num_patients + 1) for j in range(max_fractions + 1)) <= capacity\n",
        "model.capacity_constraint = Constraint(rule=capacity_constraint_rule)\n",
        "\n",
        "# Solve the model\n",
        "solver = SolverFactory('glpk')\n",
        "results = solver.solve(model)\n",
        "\n",
        "# Print the results\n",
        "print(\"Objective value:\", model.obj())\n",
        "for i in range(1, num_patients + 1):\n",
        "    for j in range(max_fractions + 1):\n",
        "        if model.x[i, j]() == 1:\n",
        "            print(f\"Patient {i} receives {j} proton fractions\")"
      ],
      "metadata": {
        "colab": {
          "base_uri": "https://localhost:8080/"
        },
        "id": "8FpHcuWU8rQ2",
        "outputId": "af68e2dd-e7a7-46a6-a6b3-f94727dc7c88"
      },
      "execution_count": 17,
      "outputs": [
        {
          "output_type": "stream",
          "name": "stdout",
          "text": [
            "Objective value: 8.239999999999998\n",
            "Patient 1 receives 8 proton fractions\n",
            "Patient 2 receives 8 proton fractions\n",
            "Patient 3 receives 3 proton fractions\n",
            "Patient 4 receives 0 proton fractions\n",
            "Patient 5 receives 5 proton fractions\n",
            "Patient 6 receives 0 proton fractions\n",
            "Patient 7 receives 4 proton fractions\n",
            "Patient 8 receives 15 proton fractions\n",
            "Patient 9 receives 4 proton fractions\n",
            "Patient 10 receives 5 proton fractions\n",
            "Patient 11 receives 6 proton fractions\n",
            "Patient 12 receives 0 proton fractions\n",
            "Patient 13 receives 10 proton fractions\n",
            "Patient 14 receives 0 proton fractions\n",
            "Patient 15 receives 10 proton fractions\n",
            "Patient 16 receives 10 proton fractions\n",
            "Patient 17 receives 12 proton fractions\n"
          ]
        }
      ]
    },
    {
      "cell_type": "markdown",
      "source": [
        "# 5. Correct The Model Code to Test Mathematical Model (if applicable)"
      ],
      "metadata": {
        "id": "KHTyoLQTWZVy"
      }
    },
    {
      "cell_type": "code",
      "source": [],
      "metadata": {
        "id": "REJzqhR6WYvM"
      },
      "execution_count": null,
      "outputs": []
    },
    {
      "cell_type": "code",
      "source": [],
      "metadata": {
        "id": "bPJ_54384nR_"
      },
      "execution_count": null,
      "outputs": []
    }
  ]
}