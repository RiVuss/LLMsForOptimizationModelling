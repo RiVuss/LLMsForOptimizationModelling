{
  "nbformat": 4,
  "nbformat_minor": 0,
  "metadata": {
    "colab": {
      "provenance": []
    },
    "kernelspec": {
      "name": "python3",
      "display_name": "Python 3"
    },
    "language_info": {
      "name": "python"
    }
  },
  "cells": [
    {
      "cell_type": "markdown",
      "source": [
        "# 0. Imports and Setting up Anthropic API Client"
      ],
      "metadata": {
        "id": "y5fw0lkBwBbo"
      }
    },
    {
      "cell_type": "code",
      "source": [
        "from google.colab import drive\n",
        "\n",
        "drive.mount('/content/drive')"
      ],
      "metadata": {
        "colab": {
          "base_uri": "https://localhost:8080/"
        },
        "id": "e7tWOLo0yMoH",
        "outputId": "f42babea-f00f-4ee2-d1cc-fc73de9e89c3"
      },
      "execution_count": null,
      "outputs": [
        {
          "output_type": "stream",
          "name": "stdout",
          "text": [
            "Mounted at /content/drive\n"
          ]
        }
      ]
    },
    {
      "cell_type": "code",
      "source": [
        "!pip install python-dotenv\n",
        "\n",
        "import os\n",
        "import dotenv\n",
        "\n",
        "dotenv.load_dotenv('/content/drive/MyDrive/.env')"
      ],
      "metadata": {
        "colab": {
          "base_uri": "https://localhost:8080/"
        },
        "id": "utcEK8lZ1Z1R",
        "outputId": "dc1948c2-5d2b-4549-e844-f11df472f9d5"
      },
      "execution_count": null,
      "outputs": [
        {
          "output_type": "stream",
          "name": "stdout",
          "text": [
            "Collecting python-dotenv\n",
            "  Downloading python_dotenv-1.0.1-py3-none-any.whl (19 kB)\n",
            "Installing collected packages: python-dotenv\n",
            "Successfully installed python-dotenv-1.0.1\n"
          ]
        },
        {
          "output_type": "execute_result",
          "data": {
            "text/plain": [
              "True"
            ]
          },
          "metadata": {},
          "execution_count": 2
        }
      ]
    },
    {
      "cell_type": "code",
      "source": [
        "# Load Prompts and Problem Description\n",
        "# Variables Prompt\n",
        "prompt11_path = '/content/drive/MyDrive/Thesis/Prompts/Prompt11_MathematicalModel.txt'\n",
        "\n",
        "# Objective Prompt\n",
        "prompt12_path = '/content/drive/MyDrive/Thesis/Prompts/Prompt12_MathematicalModel.txt'\n",
        "\n",
        "# Constraint Prompt\n",
        "prompt13_path = '/content/drive/MyDrive/Thesis/Prompts/Prompt13_MathematicalModel.txt'\n",
        "\n",
        "# Code Prompt\n",
        "prompt2_path = '/content/drive/MyDrive/Thesis/Prompts/Prompt2_PyomoCode.txt'\n",
        "problem_desc_path = '/content/drive/MyDrive/Thesis/ProblemDescriptions/IP/IP4.txt'\n",
        "\n",
        "prompt11_file = open(prompt11_path, \"r\")\n",
        "prompt12_file = open(prompt12_path, \"r\")\n",
        "prompt13_file = open(prompt13_path, \"r\")\n",
        "prompt2_file = open(prompt2_path, \"r\")\n",
        "problem_desc_file = open(problem_desc_path, \"r\")\n",
        "\n",
        "prompt11 = prompt11_file.read()\n",
        "print(\"Prompt 1.1 (Variables):\\n\", prompt11)\n",
        "\n",
        "prompt12 = prompt12_file.read()\n",
        "print(\"Prompt 1.2 (Objctive):\\n\", prompt12)\n",
        "\n",
        "prompt13 = prompt13_file.read()\n",
        "print(\"Prompt 1.3 (Constraints):\\n\", prompt13)\n",
        "\n",
        "prompt2 = prompt2_file.read()\n",
        "print(\"Prompt 2:\\n\", prompt2)\n",
        "\n",
        "problem_desc = problem_desc_file.read()\n",
        "print(\"Problem Description:\\n\", problem_desc)"
      ],
      "metadata": {
        "colab": {
          "base_uri": "https://localhost:8080/"
        },
        "id": "9KlkjwMUS4xp",
        "outputId": "f0142f76-12f9-47ef-d30d-c349dcff0932"
      },
      "execution_count": null,
      "outputs": [
        {
          "output_type": "stream",
          "name": "stdout",
          "text": [
            "Prompt 1.1 (Variables):\n",
            " Please formulate only the variables for this mathematical optimization problem. \n",
            "Prompt 1.2 (Objctive):\n",
            " Please formulate only the objective function for this mathematical optimization problem. \n",
            "Prompt 1.3 (Constraints):\n",
            " Please formulate only the constraints for this mathematical optimization problem. \n",
            "Prompt 2:\n",
            " Please write a python pyomo code for this optimization problem.\n",
            "Use sample data where needed.\n",
            "Indicate where you use sample data.\n",
            "Problem Description:\n",
            " Imagine you own a small shop, and you're trying to manage your employees' working hours and sales targets efficiently.\n",
            "You have three kinds of goals overall: sales goals, employee hours goals and overtime goals.\n",
            "\n",
            "Sales Goals: \n",
            "You have a target of selling 5500 units. \n",
            "But sometimes, you might sell fewer (negative deviation) or more (positive deviation) than this target. \n",
            "On average, your full-time employees will sell 5 records per hour and your part-time employees will sell 2 records per hour.\n",
            "\n",
            "Employee Hours: \n",
            "You have both full-time and part-time employees. \n",
            "Your full-time employees are expected to work a total of 800 hours, while part-time employees are expected to work 320 hours. \n",
            "Similarly, like sales, there could be deviations in these working hours. \n",
            "\n",
            "Overtime: \n",
            "Additionally, your employees might end up working overtime. \n",
            "You have a target of 100 hours of overtime for full-time employees.\n",
            "You are not concerned about limiting the overtime of part-time employees.\n",
            "Again, you might deviate from this goal.\n",
            "\n",
            "Each of these deviations has a different priority for you. \n",
            "P1 to P4 are priority factors for each deviation.\n",
            "Your most important goal is to achieve your sales goal.\n",
            "Second to that is the goal to not exceed 100 overtime hours for full-time employees.\n",
            "Then, you next priority is to fully utilize your full-time and part time employees.\n",
            "Your last goal with the lowest priority, you want to keep general overtime hours for both kinds of employees as low as possible.\n",
            "In addition to the general priorities of you goals, you are twice as concerned about fully utilizing the full-time employee hours.\n",
            "Finally, overtime hours of part-time employees have a relative cost of three times that of full-time employees.\n",
            "\n",
            "Now, the goal here is to minimize the overall impact of these deviations, considering their priorities. \n",
            "This means finding the best balance between sales targets, employee hours, and overtime, while keeping in mind which deviations are more critical for your business.\n"
          ]
        }
      ]
    },
    {
      "cell_type": "code",
      "source": [
        "!pip install anthropic"
      ],
      "metadata": {
        "colab": {
          "base_uri": "https://localhost:8080/"
        },
        "id": "iWlNsTIvxCcR",
        "outputId": "9e457a9d-5408-424c-8972-63d1d981b82f",
        "collapsed": true
      },
      "execution_count": null,
      "outputs": [
        {
          "output_type": "stream",
          "name": "stdout",
          "text": [
            "Collecting anthropic\n",
            "  Downloading anthropic-0.28.0-py3-none-any.whl (862 kB)\n",
            "\u001b[?25l     \u001b[90m━━━━━━━━━━━━━━━━━━━━━━━━━━━━━━━━━━━━━━━━\u001b[0m \u001b[32m0.0/862.7 kB\u001b[0m \u001b[31m?\u001b[0m eta \u001b[36m-:--:--\u001b[0m\r\u001b[2K     \u001b[91m━━━━\u001b[0m\u001b[90m╺\u001b[0m\u001b[90m━━━━━━━━━━━━━━━━━━━━━━━━━━━━━━━━━━━\u001b[0m \u001b[32m92.2/862.7 kB\u001b[0m \u001b[31m2.4 MB/s\u001b[0m eta \u001b[36m0:00:01\u001b[0m\r\u001b[2K     \u001b[91m━━━━━━━━━━━━━━━━━━━━━━━━━━━━━━━━━\u001b[0m\u001b[91m╸\u001b[0m\u001b[90m━━━━━━\u001b[0m \u001b[32m727.0/862.7 kB\u001b[0m \u001b[31m10.1 MB/s\u001b[0m eta \u001b[36m0:00:01\u001b[0m\r\u001b[2K     \u001b[90m━━━━━━━━━━━━━━━━━━━━━━━━━━━━━━━━━━━━━━━━\u001b[0m \u001b[32m862.7/862.7 kB\u001b[0m \u001b[31m9.7 MB/s\u001b[0m eta \u001b[36m0:00:00\u001b[0m\n",
            "\u001b[?25hRequirement already satisfied: anyio<5,>=3.5.0 in /usr/local/lib/python3.10/dist-packages (from anthropic) (3.7.1)\n",
            "Requirement already satisfied: distro<2,>=1.7.0 in /usr/lib/python3/dist-packages (from anthropic) (1.7.0)\n",
            "Collecting httpx<1,>=0.23.0 (from anthropic)\n",
            "  Downloading httpx-0.27.0-py3-none-any.whl (75 kB)\n",
            "\u001b[2K     \u001b[90m━━━━━━━━━━━━━━━━━━━━━━━━━━━━━━━━━━━━━━━━\u001b[0m \u001b[32m75.6/75.6 kB\u001b[0m \u001b[31m11.1 MB/s\u001b[0m eta \u001b[36m0:00:00\u001b[0m\n",
            "\u001b[?25hCollecting jiter<1,>=0.4.0 (from anthropic)\n",
            "  Downloading jiter-0.4.1-cp310-cp310-manylinux_2_17_x86_64.manylinux2014_x86_64.whl (328 kB)\n",
            "\u001b[2K     \u001b[90m━━━━━━━━━━━━━━━━━━━━━━━━━━━━━━━━━━━━━━━━\u001b[0m \u001b[32m328.3/328.3 kB\u001b[0m \u001b[31m33.5 MB/s\u001b[0m eta \u001b[36m0:00:00\u001b[0m\n",
            "\u001b[?25hRequirement already satisfied: pydantic<3,>=1.9.0 in /usr/local/lib/python3.10/dist-packages (from anthropic) (2.7.3)\n",
            "Requirement already satisfied: sniffio in /usr/local/lib/python3.10/dist-packages (from anthropic) (1.3.1)\n",
            "Requirement already satisfied: tokenizers>=0.13.0 in /usr/local/lib/python3.10/dist-packages (from anthropic) (0.19.1)\n",
            "Requirement already satisfied: typing-extensions<5,>=4.7 in /usr/local/lib/python3.10/dist-packages (from anthropic) (4.12.1)\n",
            "Requirement already satisfied: idna>=2.8 in /usr/local/lib/python3.10/dist-packages (from anyio<5,>=3.5.0->anthropic) (3.7)\n",
            "Requirement already satisfied: exceptiongroup in /usr/local/lib/python3.10/dist-packages (from anyio<5,>=3.5.0->anthropic) (1.2.1)\n",
            "Requirement already satisfied: certifi in /usr/local/lib/python3.10/dist-packages (from httpx<1,>=0.23.0->anthropic) (2024.6.2)\n",
            "Collecting httpcore==1.* (from httpx<1,>=0.23.0->anthropic)\n",
            "  Downloading httpcore-1.0.5-py3-none-any.whl (77 kB)\n",
            "\u001b[2K     \u001b[90m━━━━━━━━━━━━━━━━━━━━━━━━━━━━━━━━━━━━━━━━\u001b[0m \u001b[32m77.9/77.9 kB\u001b[0m \u001b[31m9.0 MB/s\u001b[0m eta \u001b[36m0:00:00\u001b[0m\n",
            "\u001b[?25hCollecting h11<0.15,>=0.13 (from httpcore==1.*->httpx<1,>=0.23.0->anthropic)\n",
            "  Downloading h11-0.14.0-py3-none-any.whl (58 kB)\n",
            "\u001b[2K     \u001b[90m━━━━━━━━━━━━━━━━━━━━━━━━━━━━━━━━━━━━━━━━\u001b[0m \u001b[32m58.3/58.3 kB\u001b[0m \u001b[31m6.6 MB/s\u001b[0m eta \u001b[36m0:00:00\u001b[0m\n",
            "\u001b[?25hRequirement already satisfied: annotated-types>=0.4.0 in /usr/local/lib/python3.10/dist-packages (from pydantic<3,>=1.9.0->anthropic) (0.7.0)\n",
            "Requirement already satisfied: pydantic-core==2.18.4 in /usr/local/lib/python3.10/dist-packages (from pydantic<3,>=1.9.0->anthropic) (2.18.4)\n",
            "Requirement already satisfied: huggingface-hub<1.0,>=0.16.4 in /usr/local/lib/python3.10/dist-packages (from tokenizers>=0.13.0->anthropic) (0.23.2)\n",
            "Requirement already satisfied: filelock in /usr/local/lib/python3.10/dist-packages (from huggingface-hub<1.0,>=0.16.4->tokenizers>=0.13.0->anthropic) (3.14.0)\n",
            "Requirement already satisfied: fsspec>=2023.5.0 in /usr/local/lib/python3.10/dist-packages (from huggingface-hub<1.0,>=0.16.4->tokenizers>=0.13.0->anthropic) (2023.6.0)\n",
            "Requirement already satisfied: packaging>=20.9 in /usr/local/lib/python3.10/dist-packages (from huggingface-hub<1.0,>=0.16.4->tokenizers>=0.13.0->anthropic) (24.0)\n",
            "Requirement already satisfied: pyyaml>=5.1 in /usr/local/lib/python3.10/dist-packages (from huggingface-hub<1.0,>=0.16.4->tokenizers>=0.13.0->anthropic) (6.0.1)\n",
            "Requirement already satisfied: requests in /usr/local/lib/python3.10/dist-packages (from huggingface-hub<1.0,>=0.16.4->tokenizers>=0.13.0->anthropic) (2.31.0)\n",
            "Requirement already satisfied: tqdm>=4.42.1 in /usr/local/lib/python3.10/dist-packages (from huggingface-hub<1.0,>=0.16.4->tokenizers>=0.13.0->anthropic) (4.66.4)\n",
            "Requirement already satisfied: charset-normalizer<4,>=2 in /usr/local/lib/python3.10/dist-packages (from requests->huggingface-hub<1.0,>=0.16.4->tokenizers>=0.13.0->anthropic) (3.3.2)\n",
            "Requirement already satisfied: urllib3<3,>=1.21.1 in /usr/local/lib/python3.10/dist-packages (from requests->huggingface-hub<1.0,>=0.16.4->tokenizers>=0.13.0->anthropic) (2.0.7)\n",
            "Installing collected packages: jiter, h11, httpcore, httpx, anthropic\n",
            "Successfully installed anthropic-0.28.0 h11-0.14.0 httpcore-1.0.5 httpx-0.27.0 jiter-0.4.1\n"
          ]
        }
      ]
    },
    {
      "cell_type": "code",
      "execution_count": null,
      "metadata": {
        "id": "7Qjk2D63v1Bl"
      },
      "outputs": [],
      "source": [
        "# Importing Anthropic & Setting Headers\n",
        "import anthropic\n",
        "\n",
        "client = anthropic.Anthropic(\n",
        "    # defaults to os.environ.get(\"ANTHROPIC_API_KEY\")\n",
        "    api_key=os.environ.get(\"ANTHROPIC_API_KEY\"),\n",
        ")"
      ]
    },
    {
      "cell_type": "markdown",
      "source": [
        "# 1. Prompt 1.1: Create Variables for Mathematical Model"
      ],
      "metadata": {
        "id": "kT7yKbJs18XR"
      }
    },
    {
      "cell_type": "code",
      "source": [
        "message11 = client.messages.create(\n",
        "    model=\"claude-3-opus-20240229\",\n",
        "    system=prompt11,\n",
        "    max_tokens=4096,\n",
        "    messages=[\n",
        "        {\"role\": \"user\", \"content\": problem_desc}\n",
        "    ]\n",
        ")\n",
        "\n",
        "response_p11 = message11.content[0].text"
      ],
      "metadata": {
        "id": "R_6X0axq16D4"
      },
      "execution_count": null,
      "outputs": []
    },
    {
      "cell_type": "code",
      "source": [
        "# Print response\n",
        "print(response_p11)"
      ],
      "metadata": {
        "colab": {
          "base_uri": "https://localhost:8080/"
        },
        "id": "Ra9Ox_PI38jg",
        "outputId": "ea3d4993-fb66-46d0-c14e-e7b4d34869c6"
      },
      "execution_count": null,
      "outputs": [
        {
          "output_type": "stream",
          "name": "stdout",
          "text": [
            "Great! Let's formulate the variables for this goal programming problem. We'll define variables for the decision variables (employee hours), the deviations from the goals, and the priority factors.\n",
            "\n",
            "Decision Variables:\n",
            "- Let \"F\" be the number of hours worked by full-time employees\n",
            "- Let \"P\" be the number of hours worked by part-time employees\n",
            "\n",
            "Deviation Variables:\n",
            "- Let \"d1+\" be the positive deviation from the sales goal (selling more than 5500 units)\n",
            "- Let \"d1-\" be the negative deviation from the sales goal (selling less than 5500 units)\n",
            "- Let \"d2+\" be the positive deviation from the full-time employee hours goal (working more than 800 hours)\n",
            "- Let \"d2-\" be the negative deviation from the full-time employee hours goal (working less than 800 hours)\n",
            "- Let \"d3+\" be the positive deviation from the part-time employee hours goal (working more than 320 hours)\n",
            "- Let \"d3-\" be the negative deviation from the part-time employee hours goal (working less than 320 hours)\n",
            "- Let \"d4+\" be the positive deviation from the full-time employee overtime goal (exceeding 100 hours of overtime)\n",
            "- Let \"d4-\" be the negative deviation from the full-time employee overtime goal (having less than 100 hours of overtime)\n",
            "- Let \"d5+\" be the positive deviation from the general overtime hours goal (having more overtime hours than desired)\n",
            "\n",
            "Priority Factors:\n",
            "- Let \"P1\" be the priority factor for deviations from the sales goal\n",
            "- Let \"P2\" be the priority factor for deviations from the full-time employee overtime goal\n",
            "- Let \"P3\" be the priority factor for deviations from the full-time employee hours goal\n",
            "- Let \"P4\" be the priority factor for deviations from the part-time employee hours goal and the general overtime hours goal\n",
            "\n",
            "These variables will be used in the objective function and constraints of the goal programming model to minimize the overall impact of deviations from the goals, considering their respective priorities.\n"
          ]
        }
      ]
    },
    {
      "cell_type": "markdown",
      "source": [
        "# 1. Prompt 1.2: Create Objective for Mathematical Model"
      ],
      "metadata": {
        "id": "nbt6yH1snBQL"
      }
    },
    {
      "cell_type": "code",
      "source": [
        "message12 = client.messages.create(\n",
        "    model=\"claude-3-opus-20240229\",\n",
        "    system=prompt12,\n",
        "    max_tokens=4096,\n",
        "    messages=[\n",
        "        {\"role\": \"user\", \"content\": (problem_desc + response_p11)}\n",
        "    ]\n",
        ")\n",
        "\n",
        "response_p12 = message12.content[0].text"
      ],
      "metadata": {
        "id": "ol4rtt_MnAy8"
      },
      "execution_count": null,
      "outputs": []
    },
    {
      "cell_type": "code",
      "source": [
        "# Print response\n",
        "print(response_p12)"
      ],
      "metadata": {
        "colab": {
          "base_uri": "https://localhost:8080/"
        },
        "id": "Vz2F_EARnzHf",
        "outputId": "8aab3250-a21d-4fbc-aa50-8c11e235f608"
      },
      "execution_count": null,
      "outputs": [
        {
          "output_type": "stream",
          "name": "stdout",
          "text": [
            "Here's the objective function for the goal programming problem:\n",
            "\n",
            "Minimize: \n",
            "P1 * (d1+ + d1-) + P2 * d4+ + P3 * 2 * (d2+ + d2-) + P4 * (d3+ + d3-) + P4 * (d5+ + 3*d5-)\n",
            "\n",
            "Explanation:\n",
            "- The objective function aims to minimize the weighted sum of deviations from the goals.\n",
            "- P1, P2, P3, and P4 are the priority factors for each goal, representing their relative importance.\n",
            "- (d1+ + d1-) represents the absolute deviation from the sales goal.\n",
            "- d4+ represents the positive deviation from the full-time employee overtime goal. We only include the positive deviation because exceeding the overtime limit is the main concern.\n",
            "- (d2+ + d2-) represents the absolute deviation from the full-time employee hours goal. This term is multiplied by 2 to reflect the higher priority of fully utilizing full-time employees.\n",
            "- (d3+ + d3-) represents the absolute deviation from the part-time employee hours goal.\n",
            "- (d5+ + 3*d5-) represents the deviation from the general overtime hours goal. The negative deviation (d5-) is multiplied by 3 to account for the higher cost of overtime for part-time employees compared to full-time employees.\n",
            "\n",
            "The objective function combines these deviations, weighted by their respective priority factors, to minimize the overall impact of deviations from the goals. The priority factors (P1, P2, P3, P4) will be determined based on the relative importance of each goal in the problem context.\n"
          ]
        }
      ]
    },
    {
      "cell_type": "markdown",
      "source": [
        "# 1. Prompt 1.3: Create Constraints for Mathematical Model\n"
      ],
      "metadata": {
        "id": "Wzf33DwvnEar"
      }
    },
    {
      "cell_type": "code",
      "source": [
        "message13 = client.messages.create(\n",
        "    model=\"claude-3-opus-20240229\",\n",
        "    system=prompt13,\n",
        "    max_tokens=4096,\n",
        "    messages=[\n",
        "        {\"role\": \"user\", \"content\": (problem_desc + response_p11 + response_p12)}\n",
        "    ]\n",
        ")\n",
        "\n",
        "response_p13 = message13.content[0].text"
      ],
      "metadata": {
        "id": "l1UAJRt7nENG"
      },
      "execution_count": null,
      "outputs": []
    },
    {
      "cell_type": "code",
      "source": [
        "# Print response\n",
        "print(response_p13)"
      ],
      "metadata": {
        "colab": {
          "base_uri": "https://localhost:8080/"
        },
        "id": "vH7Ff9mxn4FZ",
        "outputId": "a65bd070-29f3-4723-ae92-44772c9ed88b"
      },
      "execution_count": null,
      "outputs": [
        {
          "output_type": "stream",
          "name": "stdout",
          "text": [
            "Here are the constraints for the goal programming problem:\n",
            "\n",
            "1. Sales Goal Constraint:\n",
            "   5F + 2P + d1- - d1+ = 5500\n",
            "   \n",
            "   Explanation: This constraint ensures that the total sales (5 units per hour for full-time employees and 2 units per hour for part-time employees) plus the deviation variables equal the sales target of 5500 units.\n",
            "\n",
            "2. Full-time Employee Hours Constraint:\n",
            "   F + d2- - d2+ = 800\n",
            "   \n",
            "   Explanation: This constraint ensures that the total hours worked by full-time employees plus the deviation variables equal the expected full-time employee hours of 800.\n",
            "\n",
            "3. Part-time Employee Hours Constraint:\n",
            "   P + d3- - d3+ = 320\n",
            "   \n",
            "   Explanation: This constraint ensures that the total hours worked by part-time employees plus the deviation variables equal the expected part-time employee hours of 320.\n",
            "\n",
            "4. Full-time Employee Overtime Constraint:\n",
            "   F - 800 + d4- - d4+ = 100\n",
            "   \n",
            "   Explanation: This constraint ensures that the overtime hours for full-time employees (hours worked minus the expected 800 hours) plus the deviation variables equal the target overtime of 100 hours.\n",
            "\n",
            "5. General Overtime Hours Constraint:\n",
            "   F + P - 1120 - d5+ = 0\n",
            "   \n",
            "   Explanation: This constraint calculates the total overtime hours for both full-time and part-time employees (total hours worked minus the expected total hours of 1120) and sets it equal to the positive deviation variable d5+. We don't include a negative deviation variable because we are not concerned about having less overtime than desired.\n",
            "\n",
            "6. Non-negativity Constraints:\n",
            "   F, P, d1+, d1-, d2+, d2-, d3+, d3-, d4+, d4-, d5+ ≥ 0\n",
            "   \n",
            "   Explanation: These constraints ensure that all decision variables and deviation variables are non-negative.\n",
            "\n",
            "These constraints, along with the objective function, form the complete goal programming model for the employee scheduling and sales problem. The model aims to minimize the weighted sum of deviations from the goals while satisfying the specified constraints.\n"
          ]
        }
      ]
    },
    {
      "cell_type": "markdown",
      "source": [
        "# 2. Prompt 2: Write Code based on Mathematical Model\n",
        "\n",
        "In case more than the component of each step was generated, use \"last instance\"/ \"newest version\" of the components.\n",
        "\n",
        "Example:\n",
        "Prompt 1.1 (Variables): Model generates only variables\n",
        "Prompt 1.2 (Objectvie): Model generates objective and constraints\n",
        "Prompt 1.3 (Constraints): Model generates only constraints\n",
        "\n",
        "Use Variables from step 1.1, use objective from 1.2 and use constraints from 1.3 (since constraints version 1.3 is more recent than constraints version 1.2).\n",
        "\n",
        "This set up allows for potential self-correction of the model throughout the three prompts.\n",
        "\n",
        "Correctness of each component is still generated in the respective step, so self-correction is independent of this."
      ],
      "metadata": {
        "id": "WPZ6lgBO729j"
      }
    },
    {
      "cell_type": "code",
      "source": [
        "message2 = client.messages.create(\n",
        "    model=\"claude-3-opus-20240229\",\n",
        "    system=prompt2,\n",
        "    max_tokens=4069,\n",
        "    messages=[\n",
        "        {\"role\": \"user\", \"content\": (response_p11 + response_p12 + response_p13)}\n",
        "    ]\n",
        ")\n",
        "\n",
        "response_p2 = message2.content[0].text"
      ],
      "metadata": {
        "id": "1iUSgBda70FL"
      },
      "execution_count": null,
      "outputs": []
    },
    {
      "cell_type": "code",
      "source": [
        "# Print response\n",
        "print(response_p2)"
      ],
      "metadata": {
        "colab": {
          "base_uri": "https://localhost:8080/"
        },
        "id": "o40mxc_H8eQ9",
        "outputId": "075f0f6e-019b-4a4e-f3aa-8585c876f225"
      },
      "execution_count": null,
      "outputs": [
        {
          "output_type": "stream",
          "name": "stdout",
          "text": [
            "Here's the Python code using Pyomo to solve the goal programming problem:\n",
            "\n",
            "```python\n",
            "from pyomo.environ import *\n",
            "\n",
            "# Create a Pyomo model\n",
            "model = ConcreteModel()\n",
            "\n",
            "# Define decision variables\n",
            "model.F = Var(within=NonNegativeReals)  # Hours worked by full-time employees\n",
            "model.P = Var(within=NonNegativeReals)  # Hours worked by part-time employees\n",
            "\n",
            "# Define deviation variables\n",
            "model.d1_plus = Var(within=NonNegativeReals)\n",
            "model.d1_minus = Var(within=NonNegativeReals)\n",
            "model.d2_plus = Var(within=NonNegativeReals)\n",
            "model.d2_minus = Var(within=NonNegativeReals)\n",
            "model.d3_plus = Var(within=NonNegativeReals)\n",
            "model.d3_minus = Var(within=NonNegativeReals)\n",
            "model.d4_plus = Var(within=NonNegativeReals)\n",
            "model.d4_minus = Var(within=NonNegativeReals)\n",
            "model.d5_plus = Var(within=NonNegativeReals)\n",
            "\n",
            "# Define priority factors (sample data)\n",
            "P1 = 1\n",
            "P2 = 2\n",
            "P3 = 3\n",
            "P4 = 4\n",
            "\n",
            "# Define the objective function\n",
            "model.objective = Objective(expr=P1 * (model.d1_plus + model.d1_minus) +\n",
            "                                 P2 * model.d4_plus +\n",
            "                                 P3 * 2 * (model.d2_plus + model.d2_minus) +\n",
            "                                 P4 * (model.d3_plus + model.d3_minus) +\n",
            "                                 P4 * (model.d5_plus + 3 * model.d5_plus),\n",
            "                            sense=minimize)\n",
            "\n",
            "# Define constraints\n",
            "model.sales_constraint = Constraint(expr=5 * model.F + 2 * model.P + model.d1_minus - model.d1_plus == 5500)\n",
            "model.fulltime_hours_constraint = Constraint(expr=model.F + model.d2_minus - model.d2_plus == 800)\n",
            "model.parttime_hours_constraint = Constraint(expr=model.P + model.d3_minus - model.d3_plus == 320)\n",
            "model.fulltime_overtime_constraint = Constraint(expr=model.F - 800 + model.d4_minus - model.d4_plus == 100)\n",
            "model.general_overtime_constraint = Constraint(expr=model.F + model.P - 1120 - model.d5_plus == 0)\n",
            "\n",
            "# Solve the model\n",
            "solver = SolverFactory('glpk')  # Specify the solver (e.g., 'glpk', 'gurobi', 'cplex')\n",
            "results = solver.solve(model)\n",
            "\n",
            "# Print the results\n",
            "print(\"Objective value:\", value(model.objective))\n",
            "print(\"Full-time employee hours (F):\", value(model.F))\n",
            "print(\"Part-time employee hours (P):\", value(model.P))\n",
            "```\n",
            "\n",
            "In this code:\n",
            "- We create a Pyomo model using `ConcreteModel()`.\n",
            "- We define the decision variables `F` and `P` for the hours worked by full-time and part-time employees, respectively.\n",
            "- We define the deviation variables `d1_plus`, `d1_minus`, `d2_plus`, `d2_minus`, `d3_plus`, `d3_minus`, `d4_plus`, `d4_minus`, and `d5_plus`.\n",
            "- We define the priority factors `P1`, `P2`, `P3`, and `P4` using sample data. You can replace these with the actual priority factors based on the problem requirements.\n",
            "- We define the objective function using the `Objective` function, expressing the weighted sum of deviations.\n",
            "- We define the constraints using the `Constraint` function, representing the sales goal, full-time employee hours, part-time employee hours, full-time employee overtime, and general overtime constraints.\n",
            "- We solve the model using a solver (e.g., 'glpk', 'gurobi', 'cplex'). Make sure to have the appropriate solver installed.\n",
            "- Finally, we print the objective value and the optimal values of the decision variables `F` and `P`.\n",
            "\n",
            "Note: The code assumes that you have Pyomo installed (`pip install pyomo`) and a solver available (e.g., GLPK, Gurobi, CPLEX). Make sure to specify the appropriate solver in the `SolverFactory` function.\n"
          ]
        }
      ]
    },
    {
      "cell_type": "markdown",
      "source": [
        "# 4. Input Problem Data and Test Model Code"
      ],
      "metadata": {
        "id": "Pc0QqJuf8up_"
      }
    },
    {
      "cell_type": "code",
      "source": [
        "# Installing pyomo nd solver\n",
        "!pip install -q pyomo\n",
        "!pip install pandas\n",
        "!apt-get install -y -qq glpk-utils\n",
        "!pip install glpk"
      ],
      "metadata": {
        "colab": {
          "base_uri": "https://localhost:8080/"
        },
        "id": "3BtROuLu9O-p",
        "outputId": "4cee6a9a-5286-4b7c-ab23-ccb5c4aee6d9",
        "collapsed": true
      },
      "execution_count": null,
      "outputs": [
        {
          "output_type": "stream",
          "name": "stdout",
          "text": [
            "\u001b[2K     \u001b[90m━━━━━━━━━━━━━━━━━━━━━━━━━━━━━━━━━━━━━━━━\u001b[0m \u001b[32m12.8/12.8 MB\u001b[0m \u001b[31m72.6 MB/s\u001b[0m eta \u001b[36m0:00:00\u001b[0m\n",
            "\u001b[2K     \u001b[90m━━━━━━━━━━━━━━━━━━━━━━━━━━━━━━━━━━━━━━━━\u001b[0m \u001b[32m49.6/49.6 kB\u001b[0m \u001b[31m7.0 MB/s\u001b[0m eta \u001b[36m0:00:00\u001b[0m\n",
            "\u001b[?25hRequirement already satisfied: pandas in /usr/local/lib/python3.10/dist-packages (2.0.3)\n",
            "Requirement already satisfied: python-dateutil>=2.8.2 in /usr/local/lib/python3.10/dist-packages (from pandas) (2.8.2)\n",
            "Requirement already satisfied: pytz>=2020.1 in /usr/local/lib/python3.10/dist-packages (from pandas) (2023.4)\n",
            "Requirement already satisfied: tzdata>=2022.1 in /usr/local/lib/python3.10/dist-packages (from pandas) (2024.1)\n",
            "Requirement already satisfied: numpy>=1.21.0 in /usr/local/lib/python3.10/dist-packages (from pandas) (1.25.2)\n",
            "Requirement already satisfied: six>=1.5 in /usr/local/lib/python3.10/dist-packages (from python-dateutil>=2.8.2->pandas) (1.16.0)\n",
            "Selecting previously unselected package libsuitesparseconfig5:amd64.\n",
            "(Reading database ... 121918 files and directories currently installed.)\n",
            "Preparing to unpack .../libsuitesparseconfig5_1%3a5.10.1+dfsg-4build1_amd64.deb ...\n",
            "Unpacking libsuitesparseconfig5:amd64 (1:5.10.1+dfsg-4build1) ...\n",
            "Selecting previously unselected package libamd2:amd64.\n",
            "Preparing to unpack .../libamd2_1%3a5.10.1+dfsg-4build1_amd64.deb ...\n",
            "Unpacking libamd2:amd64 (1:5.10.1+dfsg-4build1) ...\n",
            "Selecting previously unselected package libcolamd2:amd64.\n",
            "Preparing to unpack .../libcolamd2_1%3a5.10.1+dfsg-4build1_amd64.deb ...\n",
            "Unpacking libcolamd2:amd64 (1:5.10.1+dfsg-4build1) ...\n",
            "Selecting previously unselected package libglpk40:amd64.\n",
            "Preparing to unpack .../libglpk40_5.0-1_amd64.deb ...\n",
            "Unpacking libglpk40:amd64 (5.0-1) ...\n",
            "Selecting previously unselected package glpk-utils.\n",
            "Preparing to unpack .../glpk-utils_5.0-1_amd64.deb ...\n",
            "Unpacking glpk-utils (5.0-1) ...\n",
            "Setting up libsuitesparseconfig5:amd64 (1:5.10.1+dfsg-4build1) ...\n",
            "Setting up libamd2:amd64 (1:5.10.1+dfsg-4build1) ...\n",
            "Setting up libcolamd2:amd64 (1:5.10.1+dfsg-4build1) ...\n",
            "Setting up libglpk40:amd64 (5.0-1) ...\n",
            "Setting up glpk-utils (5.0-1) ...\n",
            "Processing triggers for man-db (2.10.2-1) ...\n",
            "Processing triggers for libc-bin (2.35-0ubuntu3.4) ...\n",
            "/sbin/ldconfig.real: /usr/local/lib/libtbbmalloc.so.2 is not a symbolic link\n",
            "\n",
            "/sbin/ldconfig.real: /usr/local/lib/libtbbbind_2_5.so.3 is not a symbolic link\n",
            "\n",
            "/sbin/ldconfig.real: /usr/local/lib/libtbb.so.12 is not a symbolic link\n",
            "\n",
            "/sbin/ldconfig.real: /usr/local/lib/libtbbmalloc_proxy.so.2 is not a symbolic link\n",
            "\n",
            "/sbin/ldconfig.real: /usr/local/lib/libtbbbind.so.3 is not a symbolic link\n",
            "\n",
            "/sbin/ldconfig.real: /usr/local/lib/libtbbbind_2_0.so.3 is not a symbolic link\n",
            "\n",
            "Collecting glpk\n",
            "  Downloading glpk-0.4.7.tar.gz (161 kB)\n",
            "\u001b[2K     \u001b[90m━━━━━━━━━━━━━━━━━━━━━━━━━━━━━━━━━━━━━━━━\u001b[0m \u001b[32m161.2/161.2 kB\u001b[0m \u001b[31m3.3 MB/s\u001b[0m eta \u001b[36m0:00:00\u001b[0m\n",
            "\u001b[?25h  Installing build dependencies ... \u001b[?25l\u001b[?25hdone\n",
            "  Getting requirements to build wheel ... \u001b[?25l\u001b[?25hdone\n",
            "  Preparing metadata (pyproject.toml) ... \u001b[?25l\u001b[?25hdone\n",
            "Building wheels for collected packages: glpk\n",
            "  \u001b[1;31merror\u001b[0m: \u001b[1msubprocess-exited-with-error\u001b[0m\n",
            "  \n",
            "  \u001b[31m×\u001b[0m \u001b[32mBuilding wheel for glpk \u001b[0m\u001b[1;32m(\u001b[0m\u001b[32mpyproject.toml\u001b[0m\u001b[1;32m)\u001b[0m did not run successfully.\n",
            "  \u001b[31m│\u001b[0m exit code: \u001b[1;36m1\u001b[0m\n",
            "  \u001b[31m╰─>\u001b[0m See above for output.\n",
            "  \n",
            "  \u001b[1;35mnote\u001b[0m: This error originates from a subprocess, and is likely not a problem with pip.\n",
            "  Building wheel for glpk (pyproject.toml) ... \u001b[?25l\u001b[?25herror\n",
            "\u001b[31m  ERROR: Failed building wheel for glpk\u001b[0m\u001b[31m\n",
            "\u001b[0mFailed to build glpk\n",
            "\u001b[31mERROR: Could not build wheels for glpk, which is required to install pyproject.toml-based projects\u001b[0m\u001b[31m\n",
            "\u001b[0m"
          ]
        }
      ]
    },
    {
      "cell_type": "code",
      "source": [
        "from pyomo.environ import *\n",
        "\n",
        "# Create a Pyomo model\n",
        "model = ConcreteModel()\n",
        "\n",
        "# Define decision variables\n",
        "model.F = Var(within=NonNegativeReals)  # Hours worked by full-time employees\n",
        "model.P = Var(within=NonNegativeReals)  # Hours worked by part-time employees\n",
        "\n",
        "# Define deviation variables\n",
        "model.d1_plus = Var(within=NonNegativeReals)\n",
        "model.d1_minus = Var(within=NonNegativeReals)\n",
        "model.d2_plus = Var(within=NonNegativeReals)\n",
        "model.d2_minus = Var(within=NonNegativeReals)\n",
        "model.d3_plus = Var(within=NonNegativeReals)\n",
        "model.d3_minus = Var(within=NonNegativeReals)\n",
        "model.d4_plus = Var(within=NonNegativeReals)\n",
        "model.d4_minus = Var(within=NonNegativeReals)\n",
        "model.d5_plus = Var(within=NonNegativeReals)\n",
        "\n",
        "# Define priority factors (sample data)\n",
        "P1 = 4\n",
        "P2 = 3\n",
        "P3 = 2\n",
        "P4 = 1\n",
        "\n",
        "# Define the objective function\n",
        "model.objective = Objective(expr=P1 * (model.d1_plus + model.d1_minus) +\n",
        "                                 P2 * model.d4_plus +\n",
        "                                 P3 * 2 * (model.d2_plus + model.d2_minus) +\n",
        "                                 P4 * (model.d3_plus + model.d3_minus) +\n",
        "                                 P4 * (model.d5_plus + 3 * model.d5_plus),\n",
        "                            sense=minimize)\n",
        "\n",
        "# Define constraints\n",
        "model.sales_constraint = Constraint(expr=5 * model.F + 2 * model.P + model.d1_minus - model.d1_plus == 5500)\n",
        "model.fulltime_hours_constraint = Constraint(expr=model.F + model.d2_minus - model.d2_plus == 800)\n",
        "model.parttime_hours_constraint = Constraint(expr=model.P + model.d3_minus - model.d3_plus == 320)\n",
        "model.fulltime_overtime_constraint = Constraint(expr=model.F - 800 + model.d4_minus - model.d4_plus == 100)\n",
        "model.general_overtime_constraint = Constraint(expr=model.F + model.P - 1120 - model.d5_plus == 0)\n",
        "\n",
        "# Solve the model\n",
        "solver = SolverFactory('glpk')  # Specify the solver (e.g., 'glpk', 'gurobi', 'cplex')\n",
        "results = solver.solve(model)\n",
        "\n",
        "# Print the results\n",
        "print(\"Objective value:\", value(model.objective))\n",
        "print(\"Full-time employee hours (F):\", value(model.F))\n",
        "print(\"Part-time employee hours (P):\", value(model.P))"
      ],
      "metadata": {
        "colab": {
          "base_uri": "https://localhost:8080/"
        },
        "id": "8FpHcuWU8rQ2",
        "outputId": "51ed922a-8872-494a-84f2-0679e6321e58"
      },
      "execution_count": null,
      "outputs": [
        {
          "output_type": "stream",
          "name": "stdout",
          "text": [
            "Objective value: 1592.0\n",
            "Full-time employee hours (F): 972.0\n",
            "Part-time employee hours (P): 320.0\n"
          ]
        }
      ]
    },
    {
      "cell_type": "code",
      "source": [
        "print(\"d1^-:\", model.d1_minus())\n",
        "print(\"d1^+:\", model.d1_plus())\n",
        "print(\"d2^-:\", model.d2_minus())\n",
        "print(\"d2^+:\", model.d2_plus())\n",
        "print(\"d3^-:\", model.d3_minus())\n",
        "print(\"d3^+:\", model.d3_plus())\n",
        "print(\"d4^-:\", model.d4_minus())\n",
        "print(\"d4^+:\", model.d4_plus())\n",
        "print(\"d5^+:\", model.d5_plus())"
      ],
      "metadata": {
        "colab": {
          "base_uri": "https://localhost:8080/"
        },
        "id": "LZknCkBKRFSv",
        "outputId": "456eabeb-36f1-4d32-99ac-41a9d21d97dc"
      },
      "execution_count": null,
      "outputs": [
        {
          "output_type": "stream",
          "name": "stdout",
          "text": [
            "d1^-: 0.0\n",
            "d1^+: 0.0\n",
            "d2^-: 0.0\n",
            "d2^+: 172.0\n",
            "d3^-: 0.0\n",
            "d3^+: 0.0\n",
            "d4^-: 0.0\n",
            "d4^+: 72.0\n",
            "d5^+: 172.0\n"
          ]
        }
      ]
    },
    {
      "cell_type": "markdown",
      "source": [
        "# 5. Correct The Model Code to Test Mathematical Model (if applicable)"
      ],
      "metadata": {
        "id": "KHTyoLQTWZVy"
      }
    },
    {
      "cell_type": "code",
      "source": [
        "from pyomo.environ import *\n",
        "\n",
        "# Create a Pyomo model\n",
        "model = ConcreteModel()\n",
        "\n",
        "# Define decision variables\n",
        "model.F = Var(within=NonNegativeReals)  # Hours worked by full-time employees\n",
        "model.P = Var(within=NonNegativeReals)  # Hours worked by part-time employees\n",
        "\n",
        "# Define deviation variables\n",
        "model.d1_plus = Var(within=NonNegativeReals)\n",
        "model.d1_minus = Var(within=NonNegativeReals)\n",
        "model.d2_plus = Var(within=NonNegativeReals)\n",
        "model.d2_minus = Var(within=NonNegativeReals)\n",
        "model.d3_plus = Var(within=NonNegativeReals)\n",
        "model.d3_minus = Var(within=NonNegativeReals)\n",
        "model.d4_plus = Var(within=NonNegativeReals)\n",
        "model.d4_minus = Var(within=NonNegativeReals)\n",
        "model.d5_plus = Var(within=NonNegativeReals)\n",
        "model.d5_minus = Var(within=NonNegativeReals)\n",
        "\n",
        "# Define priority factors (sample data)\n",
        "P1 = 4\n",
        "P2 = 3\n",
        "P3 = 2\n",
        "P4 = 1\n",
        "\n",
        "# Define the objective function\n",
        "model.objective = Objective(expr=P1 * (model.d1_plus + model.d1_minus) +\n",
        "                                 P2 * model.d4_plus +\n",
        "                                 P3 * 2 * (model.d2_plus + model.d2_minus) +\n",
        "                                 P4 * (model.d3_plus + model.d3_minus) +\n",
        "                                 P4 * (model.d5_plus + 3 * model.d5_minus),\n",
        "                            sense=minimize)\n",
        "\n",
        "# Define constraints\n",
        "model.sales_constraint = Constraint(expr=5 * model.F + 2 * model.P + model.d1_minus - model.d1_plus == 5500)\n",
        "model.fulltime_hours_constraint = Constraint(expr=model.F + model.d2_minus - model.d2_plus == 800)\n",
        "model.parttime_hours_constraint = Constraint(expr=model.P + model.d3_minus - model.d3_plus == 320)\n",
        "model.fulltime_overtime_constraint = Constraint(expr=model.F - 800 + model.d4_minus - model.d4_plus == 100)\n",
        "model.general_overtime_constraint = Constraint(expr=model.F + model.P - 1120 - model.d5_plus == 0)\n",
        "\n",
        "# Solve the model\n",
        "solver = SolverFactory('glpk')  # Specify the solver (e.g., 'glpk', 'gurobi', 'cplex')\n",
        "results = solver.solve(model)\n",
        "\n",
        "# Print the results\n",
        "print(\"Objective value:\", value(model.objective))\n",
        "print(\"Full-time employee hours (F):\", value(model.F))\n",
        "print(\"Part-time employee hours (P):\", value(model.P))\n",
        "print(\"d1^-:\", model.d1_minus())\n",
        "print(\"d1^+:\", model.d1_plus())\n",
        "print(\"d2^-:\", model.d2_minus())\n",
        "print(\"d2^+:\", model.d2_plus())\n",
        "print(\"d3^-:\", model.d3_minus())\n",
        "print(\"d3^+:\", model.d3_plus())\n",
        "print(\"d4^-:\", model.d4_minus())\n",
        "print(\"d4^+:\", model.d4_plus())\n",
        "print(\"d5^+:\", model.d5_plus())"
      ],
      "metadata": {
        "id": "REJzqhR6WYvM",
        "colab": {
          "base_uri": "https://localhost:8080/"
        },
        "outputId": "7dcc84c0-d472-4fb5-8bf0-51a0bf4ae76c"
      },
      "execution_count": 19,
      "outputs": [
        {
          "output_type": "stream",
          "name": "stdout",
          "text": [
            "Objective value: 860.0\n",
            "Full-time employee hours (F): 900.0\n",
            "Part-time employee hours (P): 500.0\n",
            "d1^-: 0.0\n",
            "d1^+: 0.0\n",
            "d2^-: 0.0\n",
            "d2^+: 100.0\n",
            "d3^-: 0.0\n",
            "d3^+: 180.0\n",
            "d4^-: 0.0\n",
            "d4^+: 0.0\n",
            "d5^+: 280.0\n"
          ]
        }
      ]
    },
    {
      "cell_type": "code",
      "source": [],
      "metadata": {
        "id": "bPJ_54384nR_"
      },
      "execution_count": null,
      "outputs": []
    }
  ]
}