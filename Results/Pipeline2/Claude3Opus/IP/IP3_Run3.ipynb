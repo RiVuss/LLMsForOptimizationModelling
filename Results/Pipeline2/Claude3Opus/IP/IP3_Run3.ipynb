{
  "nbformat": 4,
  "nbformat_minor": 0,
  "metadata": {
    "colab": {
      "provenance": []
    },
    "kernelspec": {
      "name": "python3",
      "display_name": "Python 3"
    },
    "language_info": {
      "name": "python"
    }
  },
  "cells": [
    {
      "cell_type": "markdown",
      "source": [
        "# 0. Imports and Setting up Anthropic API Client"
      ],
      "metadata": {
        "id": "y5fw0lkBwBbo"
      }
    },
    {
      "cell_type": "code",
      "source": [
        "from google.colab import drive\n",
        "\n",
        "drive.mount('/content/drive')"
      ],
      "metadata": {
        "colab": {
          "base_uri": "https://localhost:8080/"
        },
        "id": "e7tWOLo0yMoH",
        "outputId": "3b2c1c23-26be-4b00-fcfb-c368b5224a9f"
      },
      "execution_count": 1,
      "outputs": [
        {
          "output_type": "stream",
          "name": "stdout",
          "text": [
            "Mounted at /content/drive\n"
          ]
        }
      ]
    },
    {
      "cell_type": "code",
      "source": [
        "!pip install python-dotenv\n",
        "\n",
        "import os\n",
        "import dotenv\n",
        "\n",
        "dotenv.load_dotenv('/content/drive/MyDrive/.env')"
      ],
      "metadata": {
        "colab": {
          "base_uri": "https://localhost:8080/"
        },
        "id": "utcEK8lZ1Z1R",
        "outputId": "8998b9b3-37c5-4d65-855b-de074881ecb8"
      },
      "execution_count": 2,
      "outputs": [
        {
          "output_type": "stream",
          "name": "stdout",
          "text": [
            "Collecting python-dotenv\n",
            "  Downloading python_dotenv-1.0.1-py3-none-any.whl (19 kB)\n",
            "Installing collected packages: python-dotenv\n",
            "Successfully installed python-dotenv-1.0.1\n"
          ]
        },
        {
          "output_type": "execute_result",
          "data": {
            "text/plain": [
              "True"
            ]
          },
          "metadata": {},
          "execution_count": 2
        }
      ]
    },
    {
      "cell_type": "code",
      "source": [
        "# Load Prompts and Problem Description\n",
        "# Variables Prompt\n",
        "prompt11_path = '/content/drive/MyDrive/Thesis/Prompts/Prompt11_MathematicalModel.txt'\n",
        "\n",
        "# Objective Prompt\n",
        "prompt12_path = '/content/drive/MyDrive/Thesis/Prompts/Prompt12_MathematicalModel.txt'\n",
        "\n",
        "# Constraint Prompt\n",
        "prompt13_path = '/content/drive/MyDrive/Thesis/Prompts/Prompt13_MathematicalModel.txt'\n",
        "\n",
        "# Code Prompt\n",
        "prompt2_path = '/content/drive/MyDrive/Thesis/Prompts/Prompt2_PyomoCode.txt'\n",
        "problem_desc_path = '/content/drive/MyDrive/Thesis/ProblemDescriptions/IP/IP3.txt'\n",
        "\n",
        "prompt11_file = open(prompt11_path, \"r\")\n",
        "prompt12_file = open(prompt12_path, \"r\")\n",
        "prompt13_file = open(prompt13_path, \"r\")\n",
        "prompt2_file = open(prompt2_path, \"r\")\n",
        "problem_desc_file = open(problem_desc_path, \"r\")\n",
        "\n",
        "prompt11 = prompt11_file.read()\n",
        "print(\"Prompt 1.1 (Variables):\\n\", prompt11)\n",
        "\n",
        "prompt12 = prompt12_file.read()\n",
        "print(\"Prompt 1.2 (Objctive):\\n\", prompt12)\n",
        "\n",
        "prompt13 = prompt13_file.read()\n",
        "print(\"Prompt 1.3 (Constraints):\\n\", prompt13)\n",
        "\n",
        "prompt2 = prompt2_file.read()\n",
        "print(\"Prompt 2:\\n\", prompt2)\n",
        "\n",
        "problem_desc = problem_desc_file.read()\n",
        "print(\"Problem Description:\\n\", problem_desc)"
      ],
      "metadata": {
        "colab": {
          "base_uri": "https://localhost:8080/"
        },
        "id": "9KlkjwMUS4xp",
        "outputId": "4c555d07-1744-4dde-e092-4157be843fbb"
      },
      "execution_count": 3,
      "outputs": [
        {
          "output_type": "stream",
          "name": "stdout",
          "text": [
            "Prompt 1.1 (Variables):\n",
            " Please formulate only the variables for this mathematical optimization problem. \n",
            "Prompt 1.2 (Objctive):\n",
            " Please formulate only the objective function for this mathematical optimization problem. \n",
            "Prompt 1.3 (Constraints):\n",
            " Please formulate only the constraints for this mathematical optimization problem. \n",
            "Prompt 2:\n",
            " Please write a python pyomo code for this optimization problem.\n",
            "Use sample data where needed.\n",
            "Indicate where you use sample data.\n",
            "Problem Description:\n",
            " You are the person in charge of packing in a large company. Your job is to skillfully pack items of various weights in a box with predetermined capacity. The objective is to use as few boxes as possible. There is a set of items and a set of boxes with an upper bound on the amount of boxes. Each of the items has a known weight. Each item is packed into one box and items are packed into the chosen boxes. Please formulate a mathematical optimization model for this problem.  \n",
            "\n"
          ]
        }
      ]
    },
    {
      "cell_type": "code",
      "source": [
        "!pip install anthropic"
      ],
      "metadata": {
        "colab": {
          "base_uri": "https://localhost:8080/"
        },
        "id": "iWlNsTIvxCcR",
        "outputId": "e7b38bd2-ce41-4350-876e-6de0863a9126",
        "collapsed": true
      },
      "execution_count": 4,
      "outputs": [
        {
          "output_type": "stream",
          "name": "stdout",
          "text": [
            "Collecting anthropic\n",
            "  Downloading anthropic-0.28.0-py3-none-any.whl (862 kB)\n",
            "\u001b[2K     \u001b[90m━━━━━━━━━━━━━━━━━━━━━━━━━━━━━━━━━━━━━━━━\u001b[0m \u001b[32m862.7/862.7 kB\u001b[0m \u001b[31m11.3 MB/s\u001b[0m eta \u001b[36m0:00:00\u001b[0m\n",
            "\u001b[?25hRequirement already satisfied: anyio<5,>=3.5.0 in /usr/local/lib/python3.10/dist-packages (from anthropic) (3.7.1)\n",
            "Requirement already satisfied: distro<2,>=1.7.0 in /usr/lib/python3/dist-packages (from anthropic) (1.7.0)\n",
            "Collecting httpx<1,>=0.23.0 (from anthropic)\n",
            "  Downloading httpx-0.27.0-py3-none-any.whl (75 kB)\n",
            "\u001b[2K     \u001b[90m━━━━━━━━━━━━━━━━━━━━━━━━━━━━━━━━━━━━━━━━\u001b[0m \u001b[32m75.6/75.6 kB\u001b[0m \u001b[31m6.4 MB/s\u001b[0m eta \u001b[36m0:00:00\u001b[0m\n",
            "\u001b[?25hCollecting jiter<1,>=0.4.0 (from anthropic)\n",
            "  Downloading jiter-0.4.1-cp310-cp310-manylinux_2_17_x86_64.manylinux2014_x86_64.whl (328 kB)\n",
            "\u001b[2K     \u001b[90m━━━━━━━━━━━━━━━━━━━━━━━━━━━━━━━━━━━━━━━━\u001b[0m \u001b[32m328.3/328.3 kB\u001b[0m \u001b[31m25.8 MB/s\u001b[0m eta \u001b[36m0:00:00\u001b[0m\n",
            "\u001b[?25hRequirement already satisfied: pydantic<3,>=1.9.0 in /usr/local/lib/python3.10/dist-packages (from anthropic) (2.7.3)\n",
            "Requirement already satisfied: sniffio in /usr/local/lib/python3.10/dist-packages (from anthropic) (1.3.1)\n",
            "Requirement already satisfied: tokenizers>=0.13.0 in /usr/local/lib/python3.10/dist-packages (from anthropic) (0.19.1)\n",
            "Requirement already satisfied: typing-extensions<5,>=4.7 in /usr/local/lib/python3.10/dist-packages (from anthropic) (4.12.1)\n",
            "Requirement already satisfied: idna>=2.8 in /usr/local/lib/python3.10/dist-packages (from anyio<5,>=3.5.0->anthropic) (3.7)\n",
            "Requirement already satisfied: exceptiongroup in /usr/local/lib/python3.10/dist-packages (from anyio<5,>=3.5.0->anthropic) (1.2.1)\n",
            "Requirement already satisfied: certifi in /usr/local/lib/python3.10/dist-packages (from httpx<1,>=0.23.0->anthropic) (2024.6.2)\n",
            "Collecting httpcore==1.* (from httpx<1,>=0.23.0->anthropic)\n",
            "  Downloading httpcore-1.0.5-py3-none-any.whl (77 kB)\n",
            "\u001b[2K     \u001b[90m━━━━━━━━━━━━━━━━━━━━━━━━━━━━━━━━━━━━━━━━\u001b[0m \u001b[32m77.9/77.9 kB\u001b[0m \u001b[31m8.1 MB/s\u001b[0m eta \u001b[36m0:00:00\u001b[0m\n",
            "\u001b[?25hCollecting h11<0.15,>=0.13 (from httpcore==1.*->httpx<1,>=0.23.0->anthropic)\n",
            "  Downloading h11-0.14.0-py3-none-any.whl (58 kB)\n",
            "\u001b[2K     \u001b[90m━━━━━━━━━━━━━━━━━━━━━━━━━━━━━━━━━━━━━━━━\u001b[0m \u001b[32m58.3/58.3 kB\u001b[0m \u001b[31m6.0 MB/s\u001b[0m eta \u001b[36m0:00:00\u001b[0m\n",
            "\u001b[?25hRequirement already satisfied: annotated-types>=0.4.0 in /usr/local/lib/python3.10/dist-packages (from pydantic<3,>=1.9.0->anthropic) (0.7.0)\n",
            "Requirement already satisfied: pydantic-core==2.18.4 in /usr/local/lib/python3.10/dist-packages (from pydantic<3,>=1.9.0->anthropic) (2.18.4)\n",
            "Requirement already satisfied: huggingface-hub<1.0,>=0.16.4 in /usr/local/lib/python3.10/dist-packages (from tokenizers>=0.13.0->anthropic) (0.23.2)\n",
            "Requirement already satisfied: filelock in /usr/local/lib/python3.10/dist-packages (from huggingface-hub<1.0,>=0.16.4->tokenizers>=0.13.0->anthropic) (3.14.0)\n",
            "Requirement already satisfied: fsspec>=2023.5.0 in /usr/local/lib/python3.10/dist-packages (from huggingface-hub<1.0,>=0.16.4->tokenizers>=0.13.0->anthropic) (2023.6.0)\n",
            "Requirement already satisfied: packaging>=20.9 in /usr/local/lib/python3.10/dist-packages (from huggingface-hub<1.0,>=0.16.4->tokenizers>=0.13.0->anthropic) (24.0)\n",
            "Requirement already satisfied: pyyaml>=5.1 in /usr/local/lib/python3.10/dist-packages (from huggingface-hub<1.0,>=0.16.4->tokenizers>=0.13.0->anthropic) (6.0.1)\n",
            "Requirement already satisfied: requests in /usr/local/lib/python3.10/dist-packages (from huggingface-hub<1.0,>=0.16.4->tokenizers>=0.13.0->anthropic) (2.31.0)\n",
            "Requirement already satisfied: tqdm>=4.42.1 in /usr/local/lib/python3.10/dist-packages (from huggingface-hub<1.0,>=0.16.4->tokenizers>=0.13.0->anthropic) (4.66.4)\n",
            "Requirement already satisfied: charset-normalizer<4,>=2 in /usr/local/lib/python3.10/dist-packages (from requests->huggingface-hub<1.0,>=0.16.4->tokenizers>=0.13.0->anthropic) (3.3.2)\n",
            "Requirement already satisfied: urllib3<3,>=1.21.1 in /usr/local/lib/python3.10/dist-packages (from requests->huggingface-hub<1.0,>=0.16.4->tokenizers>=0.13.0->anthropic) (2.0.7)\n",
            "Installing collected packages: jiter, h11, httpcore, httpx, anthropic\n",
            "Successfully installed anthropic-0.28.0 h11-0.14.0 httpcore-1.0.5 httpx-0.27.0 jiter-0.4.1\n"
          ]
        }
      ]
    },
    {
      "cell_type": "code",
      "execution_count": 5,
      "metadata": {
        "id": "7Qjk2D63v1Bl"
      },
      "outputs": [],
      "source": [
        "# Importing Anthropic & Setting Headers\n",
        "import anthropic\n",
        "\n",
        "client = anthropic.Anthropic(\n",
        "    # defaults to os.environ.get(\"ANTHROPIC_API_KEY\")\n",
        "    api_key=os.environ.get(\"ANTHROPIC_API_KEY\"),\n",
        ")"
      ]
    },
    {
      "cell_type": "markdown",
      "source": [
        "# 1. Prompt 1.1: Create Variables for Mathematical Model"
      ],
      "metadata": {
        "id": "kT7yKbJs18XR"
      }
    },
    {
      "cell_type": "code",
      "source": [
        "message11 = client.messages.create(\n",
        "    model=\"claude-3-opus-20240229\",\n",
        "    system=prompt11,\n",
        "    max_tokens=4096,\n",
        "    messages=[\n",
        "        {\"role\": \"user\", \"content\": problem_desc}\n",
        "    ]\n",
        ")\n",
        "\n",
        "response_p11 = message11.content[0].text"
      ],
      "metadata": {
        "id": "R_6X0axq16D4"
      },
      "execution_count": 6,
      "outputs": []
    },
    {
      "cell_type": "code",
      "source": [
        "# Print response\n",
        "print(response_p11)"
      ],
      "metadata": {
        "colab": {
          "base_uri": "https://localhost:8080/"
        },
        "id": "Ra9Ox_PI38jg",
        "outputId": "f571e5aa-11a5-475a-9f97-59e6f6a93855"
      },
      "execution_count": 7,
      "outputs": [
        {
          "output_type": "stream",
          "name": "stdout",
          "text": [
            "To formulate the variables for this optimization problem, let's define:\n",
            "\n",
            "1. Sets:\n",
            "   - I: Set of items, indexed by i\n",
            "   - J: Set of boxes, indexed by j\n",
            "\n",
            "2. Parameters:\n",
            "   - w[i]: Weight of item i\n",
            "   - C: Capacity of each box\n",
            "   - U: Upper bound on the number of boxes\n",
            "\n",
            "3. Decision variables:\n",
            "   - x[i,j]: Binary variable; 1 if item i is packed into box j, 0 otherwise\n",
            "   - y[j]: Binary variable; 1 if box j is used, 0 otherwise\n",
            "\n",
            "These variables will be used to formulate the objective function and constraints of the optimization model.\n"
          ]
        }
      ]
    },
    {
      "cell_type": "markdown",
      "source": [
        "# 1. Prompt 1.2: Create Objective for Mathematical Model"
      ],
      "metadata": {
        "id": "nbt6yH1snBQL"
      }
    },
    {
      "cell_type": "code",
      "source": [
        "message12 = client.messages.create(\n",
        "    model=\"claude-3-opus-20240229\",\n",
        "    system=prompt12,\n",
        "    max_tokens=4096,\n",
        "    messages=[\n",
        "        {\"role\": \"user\", \"content\": (problem_desc + response_p11)}\n",
        "    ]\n",
        ")\n",
        "\n",
        "response_p12 = message12.content[0].text"
      ],
      "metadata": {
        "id": "ol4rtt_MnAy8"
      },
      "execution_count": 8,
      "outputs": []
    },
    {
      "cell_type": "code",
      "source": [
        "# Print response\n",
        "print(response_p12)"
      ],
      "metadata": {
        "colab": {
          "base_uri": "https://localhost:8080/"
        },
        "id": "Vz2F_EARnzHf",
        "outputId": "9ac2c39f-2866-4798-b4ff-e838f1907619"
      },
      "execution_count": 9,
      "outputs": [
        {
          "output_type": "stream",
          "name": "stdout",
          "text": [
            "Thank you for providing the sets, parameters, and decision variables. Now, let's formulate the objective function and constraints for this optimization problem.\n",
            "\n",
            "Objective function:\n",
            "- Minimize the total number of boxes used\n",
            "  minimize ∑[j ∈ J] y[j]\n",
            "\n",
            "Constraints:\n",
            "1. Each item must be packed into exactly one box:\n",
            "   ∑[j ∈ J] x[i,j] = 1, ∀i ∈ I\n",
            "\n",
            "2. The total weight of items packed into each box must not exceed the box capacity:\n",
            "   ∑[i ∈ I] w[i] * x[i,j] ≤ C * y[j], ∀j ∈ J\n",
            "\n",
            "3. The number of boxes used must not exceed the upper bound:\n",
            "   ∑[j ∈ J] y[j] ≤ U\n",
            "\n",
            "4. Binary restrictions on the decision variables:\n",
            "   x[i,j] ∈ {0, 1}, ∀i ∈ I, ∀j ∈ J\n",
            "   y[j] ∈ {0, 1}, ∀j ∈ J\n",
            "\n",
            "The complete mathematical optimization model for the packing problem is as follows:\n",
            "\n",
            "minimize ∑[j ∈ J] y[j]\n",
            "\n",
            "subject to:\n",
            "1. ∑[j ∈ J] x[i,j] = 1, ∀i ∈ I\n",
            "2. ∑[i ∈ I] w[i] * x[i,j] ≤ C * y[j], ∀j ∈ J\n",
            "3. ∑[j ∈ J] y[j] ≤ U\n",
            "4. x[i,j] ∈ {0, 1}, ∀i ∈ I, ∀j ∈ J\n",
            "   y[j] ∈ {0, 1}, ∀j ∈ J\n",
            "\n",
            "This model aims to minimize the total number of boxes used while ensuring that each item is packed into exactly one box, the total weight of items in each box does not exceed its capacity, and the number of boxes used is within the given upper bound.\n"
          ]
        }
      ]
    },
    {
      "cell_type": "markdown",
      "source": [
        "# 1. Prompt 1.3: Create Constraints for Mathematical Model\n"
      ],
      "metadata": {
        "id": "Wzf33DwvnEar"
      }
    },
    {
      "cell_type": "code",
      "source": [
        "message13 = client.messages.create(\n",
        "    model=\"claude-3-opus-20240229\",\n",
        "    system=prompt13,\n",
        "    max_tokens=4096,\n",
        "    messages=[\n",
        "        {\"role\": \"user\", \"content\": (problem_desc + response_p11 + response_p12)}\n",
        "    ]\n",
        ")\n",
        "\n",
        "response_p13 = message13.content[0].text"
      ],
      "metadata": {
        "id": "l1UAJRt7nENG"
      },
      "execution_count": 10,
      "outputs": []
    },
    {
      "cell_type": "code",
      "source": [
        "# Print response\n",
        "print(response_p13)"
      ],
      "metadata": {
        "colab": {
          "base_uri": "https://localhost:8080/"
        },
        "id": "vH7Ff9mxn4FZ",
        "outputId": "fa021d8c-6a6d-48ba-ba2b-31e3d0613e11"
      },
      "execution_count": 11,
      "outputs": [
        {
          "output_type": "stream",
          "name": "stdout",
          "text": [
            "Here are the constraints for the packing optimization problem:\n",
            "\n",
            "1. Each item must be packed into exactly one box:\n",
            "   ∑[j ∈ J] x[i,j] = 1, ∀i ∈ I\n",
            "\n",
            "2. The total weight of items packed into each box must not exceed the box capacity:\n",
            "   ∑[i ∈ I] w[i] * x[i,j] ≤ C * y[j], ∀j ∈ J\n",
            "\n",
            "3. The number of boxes used must not exceed the upper bound:\n",
            "   ∑[j ∈ J] y[j] ≤ U\n",
            "\n",
            "4. Binary restrictions on the decision variables:\n",
            "   x[i,j] ∈ {0, 1}, ∀i ∈ I, ∀j ∈ J\n",
            "   y[j] ∈ {0, 1}, ∀j ∈ J\n"
          ]
        }
      ]
    },
    {
      "cell_type": "markdown",
      "source": [
        "# 2. Prompt 2: Write Code based on Mathematical Model\n",
        "\n",
        "In case more than the component of each step was generated, use \"last instance\"/ \"newest version\" of the components.\n",
        "\n",
        "Example:\n",
        "Prompt 1.1 (Variables): Model generates only variables\n",
        "Prompt 1.2 (Objectvie): Model generates objective and constraints\n",
        "Prompt 1.3 (Constraints): Model generates only constraints\n",
        "\n",
        "Use Variables from step 1.1, use objective from 1.2 and use constraints from 1.3 (since constraints version 1.3 is more recent than constraints version 1.2).\n",
        "\n",
        "This set up allows for potential self-correction of the model throughout the three prompts.\n",
        "\n",
        "Correctness of each component is still generated in the respective step, so self-correction is independent of this."
      ],
      "metadata": {
        "id": "WPZ6lgBO729j"
      }
    },
    {
      "cell_type": "code",
      "source": [
        "response_p12_adjusted = \"\"\"\n",
        "Thank you for providing the sets, parameters, and decision variables. Now, let's formulate the objective function and constraints for this optimization problem.\n",
        "\n",
        "Objective function:\n",
        "- Minimize the total number of boxes used\n",
        "  minimize ∑[j ∈ J] y[j]\n",
        "\n",
        "The complete mathematical optimization model for the packing problem is as follows:\n",
        "\n",
        "minimize ∑[j ∈ J] y[j]\n",
        "\n",
        "This model aims to minimize the total number of boxes used\n",
        "\"\"\""
      ],
      "metadata": {
        "id": "Lo4vXUTqNEUz"
      },
      "execution_count": 12,
      "outputs": []
    },
    {
      "cell_type": "code",
      "source": [
        "message2 = client.messages.create(\n",
        "    model=\"claude-3-opus-20240229\",\n",
        "    system=prompt2,\n",
        "    max_tokens=4069,\n",
        "    messages=[\n",
        "        {\"role\": \"user\", \"content\": (response_p11 + response_p12_adjusted + response_p13)}\n",
        "    ]\n",
        ")\n",
        "\n",
        "response_p2 = message2.content[0].text"
      ],
      "metadata": {
        "id": "1iUSgBda70FL"
      },
      "execution_count": 13,
      "outputs": []
    },
    {
      "cell_type": "code",
      "source": [
        "# Print response\n",
        "print(response_p2)"
      ],
      "metadata": {
        "colab": {
          "base_uri": "https://localhost:8080/"
        },
        "id": "o40mxc_H8eQ9",
        "outputId": "ead8feba-0c23-4f15-b00c-83408718a7d1"
      },
      "execution_count": 14,
      "outputs": [
        {
          "output_type": "stream",
          "name": "stdout",
          "text": [
            "Great! Now we have the complete mathematical optimization model for the packing problem. Let's implement it using Python and Pyomo.\n",
            "\n",
            "Here's the Python code for the optimization problem:\n",
            "\n",
            "```python\n",
            "from pyomo.environ import *\n",
            "\n",
            "def solve_packing_problem(weights, capacity, max_boxes):\n",
            "    model = ConcreteModel()\n",
            "\n",
            "    # Sets\n",
            "    model.I = RangeSet(1, len(weights))\n",
            "    model.J = RangeSet(1, max_boxes)\n",
            "\n",
            "    # Parameters\n",
            "    model.w = Param(model.I, initialize=dict(zip(model.I, weights)))\n",
            "    model.C = Param(initialize=capacity)\n",
            "    model.U = Param(initialize=max_boxes)\n",
            "\n",
            "    # Decision variables\n",
            "    model.x = Var(model.I, model.J, domain=Binary)\n",
            "    model.y = Var(model.J, domain=Binary)\n",
            "\n",
            "    # Objective function\n",
            "    model.obj = Objective(expr=sum(model.y[j] for j in model.J), sense=minimize)\n",
            "\n",
            "    # Constraints\n",
            "    model.item_packing = ConstraintList()\n",
            "    for i in model.I:\n",
            "        model.item_packing.add(sum(model.x[i, j] for j in model.J) == 1)\n",
            "\n",
            "    model.capacity = ConstraintList()\n",
            "    for j in model.J:\n",
            "        model.capacity.add(sum(model.w[i] * model.x[i, j] for i in model.I) <= model.C * model.y[j])\n",
            "\n",
            "    model.box_limit = Constraint(expr=sum(model.y[j] for j in model.J) <= model.U)\n",
            "\n",
            "    # Solve the optimization problem\n",
            "    SolverFactory('glpk').solve(model)\n",
            "\n",
            "    # Print the results\n",
            "    print(\"Optimal solution:\")\n",
            "    for j in model.J:\n",
            "        if value(model.y[j]) == 1:\n",
            "            print(f\"Box {j} is used.\")\n",
            "            for i in model.I:\n",
            "                if value(model.x[i, j]) == 1:\n",
            "                    print(f\"  Item {i} is packed into Box {j}.\")\n",
            "\n",
            "# Sample data\n",
            "weights = [5, 3, 7, 2, 4]  # Weights of items\n",
            "capacity = 10  # Capacity of each box\n",
            "max_boxes = 3  # Upper bound on the number of boxes\n",
            "\n",
            "solve_packing_problem(weights, capacity, max_boxes)\n",
            "```\n",
            "\n",
            "In this code, we define a function `solve_packing_problem` that takes the weights of items, capacity of each box, and the upper bound on the number of boxes as input. It creates a Pyomo model, defines the sets, parameters, decision variables, objective function, and constraints based on the mathematical formulation we discussed earlier.\n",
            "\n",
            "The sample data is provided at the end of the code, where we have a list of item weights (`weights`), the capacity of each box (`capacity`), and the upper bound on the number of boxes (`max_boxes`). You can modify these values according to your specific problem instance.\n",
            "\n",
            "Finally, we solve the optimization problem using the 'glpk' solver and print the optimal solution, indicating which boxes are used and which items are packed into each box.\n",
            "\n",
            "Note: Make sure you have Pyomo and the 'glpk' solver installed to run this code successfully.\n"
          ]
        }
      ]
    },
    {
      "cell_type": "markdown",
      "source": [
        "# 4. Input Problem Data and Test Model Code"
      ],
      "metadata": {
        "id": "Pc0QqJuf8up_"
      }
    },
    {
      "cell_type": "code",
      "source": [
        "# Installing pyomo nd solver\n",
        "!pip install -q pyomo\n",
        "!pip install pandas\n",
        "!apt-get install -y -qq glpk-utils\n",
        "!pip install glpk"
      ],
      "metadata": {
        "colab": {
          "base_uri": "https://localhost:8080/"
        },
        "id": "3BtROuLu9O-p",
        "outputId": "acd73562-7713-4b51-db07-587d05298a92",
        "collapsed": true
      },
      "execution_count": 15,
      "outputs": [
        {
          "output_type": "stream",
          "name": "stdout",
          "text": [
            "\u001b[2K     \u001b[90m━━━━━━━━━━━━━━━━━━━━━━━━━━━━━━━━━━━━━━━━\u001b[0m \u001b[32m12.8/12.8 MB\u001b[0m \u001b[31m22.7 MB/s\u001b[0m eta \u001b[36m0:00:00\u001b[0m\n",
            "\u001b[2K     \u001b[90m━━━━━━━━━━━━━━━━━━━━━━━━━━━━━━━━━━━━━━━━\u001b[0m \u001b[32m49.6/49.6 kB\u001b[0m \u001b[31m4.4 MB/s\u001b[0m eta \u001b[36m0:00:00\u001b[0m\n",
            "\u001b[?25hRequirement already satisfied: pandas in /usr/local/lib/python3.10/dist-packages (2.0.3)\n",
            "Requirement already satisfied: python-dateutil>=2.8.2 in /usr/local/lib/python3.10/dist-packages (from pandas) (2.8.2)\n",
            "Requirement already satisfied: pytz>=2020.1 in /usr/local/lib/python3.10/dist-packages (from pandas) (2023.4)\n",
            "Requirement already satisfied: tzdata>=2022.1 in /usr/local/lib/python3.10/dist-packages (from pandas) (2024.1)\n",
            "Requirement already satisfied: numpy>=1.21.0 in /usr/local/lib/python3.10/dist-packages (from pandas) (1.25.2)\n",
            "Requirement already satisfied: six>=1.5 in /usr/local/lib/python3.10/dist-packages (from python-dateutil>=2.8.2->pandas) (1.16.0)\n",
            "Selecting previously unselected package libsuitesparseconfig5:amd64.\n",
            "(Reading database ... 121918 files and directories currently installed.)\n",
            "Preparing to unpack .../libsuitesparseconfig5_1%3a5.10.1+dfsg-4build1_amd64.deb ...\n",
            "Unpacking libsuitesparseconfig5:amd64 (1:5.10.1+dfsg-4build1) ...\n",
            "Selecting previously unselected package libamd2:amd64.\n",
            "Preparing to unpack .../libamd2_1%3a5.10.1+dfsg-4build1_amd64.deb ...\n",
            "Unpacking libamd2:amd64 (1:5.10.1+dfsg-4build1) ...\n",
            "Selecting previously unselected package libcolamd2:amd64.\n",
            "Preparing to unpack .../libcolamd2_1%3a5.10.1+dfsg-4build1_amd64.deb ...\n",
            "Unpacking libcolamd2:amd64 (1:5.10.1+dfsg-4build1) ...\n",
            "Selecting previously unselected package libglpk40:amd64.\n",
            "Preparing to unpack .../libglpk40_5.0-1_amd64.deb ...\n",
            "Unpacking libglpk40:amd64 (5.0-1) ...\n",
            "Selecting previously unselected package glpk-utils.\n",
            "Preparing to unpack .../glpk-utils_5.0-1_amd64.deb ...\n",
            "Unpacking glpk-utils (5.0-1) ...\n",
            "Setting up libsuitesparseconfig5:amd64 (1:5.10.1+dfsg-4build1) ...\n",
            "Setting up libamd2:amd64 (1:5.10.1+dfsg-4build1) ...\n",
            "Setting up libcolamd2:amd64 (1:5.10.1+dfsg-4build1) ...\n",
            "Setting up libglpk40:amd64 (5.0-1) ...\n",
            "Setting up glpk-utils (5.0-1) ...\n",
            "Processing triggers for man-db (2.10.2-1) ...\n",
            "Processing triggers for libc-bin (2.35-0ubuntu3.4) ...\n",
            "/sbin/ldconfig.real: /usr/local/lib/libtbbmalloc.so.2 is not a symbolic link\n",
            "\n",
            "/sbin/ldconfig.real: /usr/local/lib/libtbbbind_2_5.so.3 is not a symbolic link\n",
            "\n",
            "/sbin/ldconfig.real: /usr/local/lib/libtbb.so.12 is not a symbolic link\n",
            "\n",
            "/sbin/ldconfig.real: /usr/local/lib/libtbbmalloc_proxy.so.2 is not a symbolic link\n",
            "\n",
            "/sbin/ldconfig.real: /usr/local/lib/libtbbbind.so.3 is not a symbolic link\n",
            "\n",
            "/sbin/ldconfig.real: /usr/local/lib/libtbbbind_2_0.so.3 is not a symbolic link\n",
            "\n",
            "Collecting glpk\n",
            "  Downloading glpk-0.4.7.tar.gz (161 kB)\n",
            "\u001b[2K     \u001b[90m━━━━━━━━━━━━━━━━━━━━━━━━━━━━━━━━━━━━━━━━\u001b[0m \u001b[32m161.2/161.2 kB\u001b[0m \u001b[31m3.3 MB/s\u001b[0m eta \u001b[36m0:00:00\u001b[0m\n",
            "\u001b[?25h  Installing build dependencies ... \u001b[?25l\u001b[?25hdone\n",
            "  Getting requirements to build wheel ... \u001b[?25l\u001b[?25hdone\n",
            "  Preparing metadata (pyproject.toml) ... \u001b[?25l\u001b[?25hdone\n",
            "Building wheels for collected packages: glpk\n",
            "  \u001b[1;31merror\u001b[0m: \u001b[1msubprocess-exited-with-error\u001b[0m\n",
            "  \n",
            "  \u001b[31m×\u001b[0m \u001b[32mBuilding wheel for glpk \u001b[0m\u001b[1;32m(\u001b[0m\u001b[32mpyproject.toml\u001b[0m\u001b[1;32m)\u001b[0m did not run successfully.\n",
            "  \u001b[31m│\u001b[0m exit code: \u001b[1;36m1\u001b[0m\n",
            "  \u001b[31m╰─>\u001b[0m See above for output.\n",
            "  \n",
            "  \u001b[1;35mnote\u001b[0m: This error originates from a subprocess, and is likely not a problem with pip.\n",
            "  Building wheel for glpk (pyproject.toml) ... \u001b[?25l\u001b[?25herror\n",
            "\u001b[31m  ERROR: Failed building wheel for glpk\u001b[0m\u001b[31m\n",
            "\u001b[0mFailed to build glpk\n",
            "\u001b[31mERROR: Could not build wheels for glpk, which is required to install pyproject.toml-based projects\u001b[0m\u001b[31m\n",
            "\u001b[0m"
          ]
        }
      ]
    },
    {
      "cell_type": "code",
      "source": [
        "from pyomo.environ import *\n",
        "\n",
        "def solve_packing_problem(weights, capacity, max_boxes):\n",
        "    model = ConcreteModel()\n",
        "\n",
        "    # Sets\n",
        "    model.I = RangeSet(1, len(weights))\n",
        "    model.J = RangeSet(1, max_boxes)\n",
        "\n",
        "    # Parameters\n",
        "    model.w = Param(model.I, initialize=dict(zip(model.I, weights)))\n",
        "    model.C = Param(initialize=capacity)\n",
        "    model.U = Param(initialize=max_boxes)\n",
        "\n",
        "    # Decision variables\n",
        "    model.x = Var(model.I, model.J, domain=Binary)\n",
        "    model.y = Var(model.J, domain=Binary)\n",
        "\n",
        "    # Objective function\n",
        "    model.obj = Objective(expr=sum(model.y[j] for j in model.J), sense=minimize)\n",
        "\n",
        "    # Constraints\n",
        "    model.item_packing = ConstraintList()\n",
        "    for i in model.I:\n",
        "        model.item_packing.add(sum(model.x[i, j] for j in model.J) == 1)\n",
        "\n",
        "    model.capacity = ConstraintList()\n",
        "    for j in model.J:\n",
        "        model.capacity.add(sum(model.w[i] * model.x[i, j] for i in model.I) <= model.C * model.y[j])\n",
        "\n",
        "    model.box_limit = Constraint(expr=sum(model.y[j] for j in model.J) <= model.U)\n",
        "\n",
        "    # Solve the optimization problem\n",
        "    SolverFactory('glpk').solve(model)\n",
        "\n",
        "    # Print the results\n",
        "    print(\"Optimal solution:\")\n",
        "    for j in model.J:\n",
        "        if value(model.y[j]) == 1:\n",
        "            print(f\"Box {j} is used.\")\n",
        "            for i in model.I:\n",
        "                if value(model.x[i, j]) == 1:\n",
        "                    print(f\"  Item {i} is packed into Box {j}.\")\n",
        "\n",
        "\n",
        "\n",
        "    ############ ADDED FOR INTERPRETATION OF RESULTS ############\n",
        "    bins = {1: [], 2: [], 3: [], 4: [], 5: [], 6: [], 7: [], 8: [], 9: [], 10: [], 11: [], 12: [], 13: []}\n",
        "    for i in range (1, 25):\n",
        "      for j in range(1, 14):\n",
        "        if value(model.x[i,j])> .5:\n",
        "          bins[j].append(model.w[i])\n",
        "\n",
        "    print(\"Bin Division:\", bins)\n",
        "\n",
        "# Sample data\n",
        "weights = [2, 2, 2, 2, 3, 3, 4, 4, 4, 4, 4, 4, 5, 5, 5, 5, 5, 5, 6, 6, 7, 7, 8, 8]  # Weights of items\n",
        "capacity = 9  # Capacity of each box\n",
        "max_boxes = 13  # Upper bound on the number of boxes\n",
        "\n",
        "solve_packing_problem(weights, capacity, max_boxes)"
      ],
      "metadata": {
        "colab": {
          "base_uri": "https://localhost:8080/"
        },
        "id": "8FpHcuWU8rQ2",
        "outputId": "86d4b9ab-4753-4491-fd4b-3a92c6cee635"
      },
      "execution_count": 18,
      "outputs": [
        {
          "output_type": "stream",
          "name": "stdout",
          "text": [
            "Optimal solution:\n",
            "Box 1 is used.\n",
            "  Item 24 is packed into Box 1.\n",
            "Box 2 is used.\n",
            "  Item 1 is packed into Box 2.\n",
            "  Item 21 is packed into Box 2.\n",
            "Box 3 is used.\n",
            "  Item 22 is packed into Box 3.\n",
            "Box 4 is used.\n",
            "  Item 7 is packed into Box 4.\n",
            "  Item 18 is packed into Box 4.\n",
            "Box 5 is used.\n",
            "  Item 20 is packed into Box 5.\n",
            "Box 6 is used.\n",
            "  Item 8 is packed into Box 6.\n",
            "  Item 14 is packed into Box 6.\n",
            "Box 7 is used.\n",
            "  Item 10 is packed into Box 7.\n",
            "  Item 13 is packed into Box 7.\n",
            "Box 8 is used.\n",
            "  Item 9 is packed into Box 8.\n",
            "  Item 16 is packed into Box 8.\n",
            "Box 9 is used.\n",
            "  Item 5 is packed into Box 9.\n",
            "  Item 19 is packed into Box 9.\n",
            "Box 10 is used.\n",
            "  Item 11 is packed into Box 10.\n",
            "  Item 17 is packed into Box 10.\n",
            "Box 11 is used.\n",
            "  Item 12 is packed into Box 11.\n",
            "  Item 15 is packed into Box 11.\n",
            "Box 12 is used.\n",
            "  Item 23 is packed into Box 12.\n",
            "Box 13 is used.\n",
            "  Item 2 is packed into Box 13.\n",
            "  Item 3 is packed into Box 13.\n",
            "  Item 4 is packed into Box 13.\n",
            "  Item 6 is packed into Box 13.\n",
            "Bin Division: {1: [8], 2: [2, 7], 3: [7], 4: [4, 5], 5: [6], 6: [4, 5], 7: [4, 5], 8: [4, 5], 9: [3, 6], 10: [4, 5], 11: [4, 5], 12: [8], 13: [2, 2, 2, 3]}\n"
          ]
        }
      ]
    },
    {
      "cell_type": "markdown",
      "source": [
        "# 5. Correct The Model Code to Test Mathematical Model (if applicable)"
      ],
      "metadata": {
        "id": "KHTyoLQTWZVy"
      }
    },
    {
      "cell_type": "code",
      "source": [],
      "metadata": {
        "id": "REJzqhR6WYvM"
      },
      "execution_count": null,
      "outputs": []
    },
    {
      "cell_type": "code",
      "source": [],
      "metadata": {
        "id": "bPJ_54384nR_"
      },
      "execution_count": null,
      "outputs": []
    }
  ]
}