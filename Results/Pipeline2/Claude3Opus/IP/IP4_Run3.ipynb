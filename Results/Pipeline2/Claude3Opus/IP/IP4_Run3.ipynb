{
  "nbformat": 4,
  "nbformat_minor": 0,
  "metadata": {
    "colab": {
      "provenance": []
    },
    "kernelspec": {
      "name": "python3",
      "display_name": "Python 3"
    },
    "language_info": {
      "name": "python"
    }
  },
  "cells": [
    {
      "cell_type": "markdown",
      "source": [
        "# 0. Imports and Setting up Anthropic API Client"
      ],
      "metadata": {
        "id": "y5fw0lkBwBbo"
      }
    },
    {
      "cell_type": "code",
      "source": [
        "from google.colab import drive\n",
        "\n",
        "drive.mount('/content/drive')"
      ],
      "metadata": {
        "colab": {
          "base_uri": "https://localhost:8080/"
        },
        "id": "e7tWOLo0yMoH",
        "outputId": "5d0d6d92-d6be-44f1-c022-4dc15a62767e"
      },
      "execution_count": 1,
      "outputs": [
        {
          "output_type": "stream",
          "name": "stdout",
          "text": [
            "Mounted at /content/drive\n"
          ]
        }
      ]
    },
    {
      "cell_type": "code",
      "source": [
        "!pip install python-dotenv\n",
        "\n",
        "import os\n",
        "import dotenv\n",
        "\n",
        "dotenv.load_dotenv('/content/drive/MyDrive/.env')"
      ],
      "metadata": {
        "colab": {
          "base_uri": "https://localhost:8080/"
        },
        "id": "utcEK8lZ1Z1R",
        "outputId": "5b1e96c3-1628-4884-8fc4-83aa6dcc0603"
      },
      "execution_count": 2,
      "outputs": [
        {
          "output_type": "stream",
          "name": "stdout",
          "text": [
            "Collecting python-dotenv\n",
            "  Downloading python_dotenv-1.0.1-py3-none-any.whl (19 kB)\n",
            "Installing collected packages: python-dotenv\n",
            "Successfully installed python-dotenv-1.0.1\n"
          ]
        },
        {
          "output_type": "execute_result",
          "data": {
            "text/plain": [
              "True"
            ]
          },
          "metadata": {},
          "execution_count": 2
        }
      ]
    },
    {
      "cell_type": "code",
      "source": [
        "# Load Prompts and Problem Description\n",
        "# Variables Prompt\n",
        "prompt11_path = '/content/drive/MyDrive/Thesis/Prompts/Prompt11_MathematicalModel.txt'\n",
        "\n",
        "# Objective Prompt\n",
        "prompt12_path = '/content/drive/MyDrive/Thesis/Prompts/Prompt12_MathematicalModel.txt'\n",
        "\n",
        "# Constraint Prompt\n",
        "prompt13_path = '/content/drive/MyDrive/Thesis/Prompts/Prompt13_MathematicalModel.txt'\n",
        "\n",
        "# Code Prompt\n",
        "prompt2_path = '/content/drive/MyDrive/Thesis/Prompts/Prompt2_PyomoCode.txt'\n",
        "problem_desc_path = '/content/drive/MyDrive/Thesis/ProblemDescriptions/IP/IP4.txt'\n",
        "\n",
        "prompt11_file = open(prompt11_path, \"r\")\n",
        "prompt12_file = open(prompt12_path, \"r\")\n",
        "prompt13_file = open(prompt13_path, \"r\")\n",
        "prompt2_file = open(prompt2_path, \"r\")\n",
        "problem_desc_file = open(problem_desc_path, \"r\")\n",
        "\n",
        "prompt11 = prompt11_file.read()\n",
        "print(\"Prompt 1.1 (Variables):\\n\", prompt11)\n",
        "\n",
        "prompt12 = prompt12_file.read()\n",
        "print(\"Prompt 1.2 (Objctive):\\n\", prompt12)\n",
        "\n",
        "prompt13 = prompt13_file.read()\n",
        "print(\"Prompt 1.3 (Constraints):\\n\", prompt13)\n",
        "\n",
        "prompt2 = prompt2_file.read()\n",
        "print(\"Prompt 2:\\n\", prompt2)\n",
        "\n",
        "problem_desc = problem_desc_file.read()\n",
        "print(\"Problem Description:\\n\", problem_desc)"
      ],
      "metadata": {
        "colab": {
          "base_uri": "https://localhost:8080/"
        },
        "id": "9KlkjwMUS4xp",
        "outputId": "57c16b4b-c72c-4eb3-943b-0c9b71384dcf"
      },
      "execution_count": 3,
      "outputs": [
        {
          "output_type": "stream",
          "name": "stdout",
          "text": [
            "Prompt 1.1 (Variables):\n",
            " Please formulate only the variables for this mathematical optimization problem. \n",
            "Prompt 1.2 (Objctive):\n",
            " Please formulate only the objective function for this mathematical optimization problem. \n",
            "Prompt 1.3 (Constraints):\n",
            " Please formulate only the constraints for this mathematical optimization problem. \n",
            "Prompt 2:\n",
            " Please write a python pyomo code for this optimization problem.\n",
            "Use sample data where needed.\n",
            "Indicate where you use sample data.\n",
            "Problem Description:\n",
            " Imagine you own a small shop, and you're trying to manage your employees' working hours and sales targets efficiently.\n",
            "You have three kinds of goals overall: sales goals, employee hours goals and overtime goals.\n",
            "\n",
            "Sales Goals: \n",
            "You have a target of selling 5500 units. \n",
            "But sometimes, you might sell fewer (negative deviation) or more (positive deviation) than this target. \n",
            "On average, your full-time employees will sell 5 records per hour and your part-time employees will sell 2 records per hour.\n",
            "\n",
            "Employee Hours: \n",
            "You have both full-time and part-time employees. \n",
            "Your full-time employees are expected to work a total of 800 hours, while part-time employees are expected to work 320 hours. \n",
            "Similarly, like sales, there could be deviations in these working hours. \n",
            "\n",
            "Overtime: \n",
            "Additionally, your employees might end up working overtime. \n",
            "You have a target of 100 hours of overtime for full-time employees.\n",
            "You are not concerned about limiting the overtime of part-time employees.\n",
            "Again, you might deviate from this goal.\n",
            "\n",
            "Each of these deviations has a different priority for you. \n",
            "P1 to P4 are priority factors for each deviation.\n",
            "Your most important goal is to achieve your sales goal.\n",
            "Second to that is the goal to not exceed 100 overtime hours for full-time employees.\n",
            "Then, you next priority is to fully utilize your full-time and part time employees.\n",
            "Your last goal with the lowest priority, you want to keep general overtime hours for both kinds of employees as low as possible.\n",
            "In addition to the general priorities of you goals, you are twice as concerned about fully utilizing the full-time employee hours.\n",
            "Finally, overtime hours of part-time employees have a relative cost of three times that of full-time employees.\n",
            "\n",
            "Now, the goal here is to minimize the overall impact of these deviations, considering their priorities. \n",
            "This means finding the best balance between sales targets, employee hours, and overtime, while keeping in mind which deviations are more critical for your business.\n"
          ]
        }
      ]
    },
    {
      "cell_type": "code",
      "source": [
        "!pip install anthropic"
      ],
      "metadata": {
        "colab": {
          "base_uri": "https://localhost:8080/"
        },
        "id": "iWlNsTIvxCcR",
        "outputId": "8eccbdec-cd5c-4668-a524-6de6c7514ed2",
        "collapsed": true
      },
      "execution_count": 4,
      "outputs": [
        {
          "output_type": "stream",
          "name": "stdout",
          "text": [
            "Collecting anthropic\n",
            "  Downloading anthropic-0.28.0-py3-none-any.whl (862 kB)\n",
            "\u001b[?25l     \u001b[90m━━━━━━━━━━━━━━━━━━━━━━━━━━━━━━━━━━━━━━━━\u001b[0m \u001b[32m0.0/862.7 kB\u001b[0m \u001b[31m?\u001b[0m eta \u001b[36m-:--:--\u001b[0m\r\u001b[2K     \u001b[91m━━━━━\u001b[0m\u001b[91m╸\u001b[0m\u001b[90m━━━━━━━━━━━━━━━━━━━━━━━━━━━━━━━━━━\u001b[0m \u001b[32m122.9/862.7 kB\u001b[0m \u001b[31m3.4 MB/s\u001b[0m eta \u001b[36m0:00:01\u001b[0m\r\u001b[2K     \u001b[90m━━━━━━━━━━━━━━━━━━━━━━━━━━━━━━━━━━━━━━━━\u001b[0m \u001b[32m862.7/862.7 kB\u001b[0m \u001b[31m13.4 MB/s\u001b[0m eta \u001b[36m0:00:00\u001b[0m\n",
            "\u001b[?25hRequirement already satisfied: anyio<5,>=3.5.0 in /usr/local/lib/python3.10/dist-packages (from anthropic) (3.7.1)\n",
            "Requirement already satisfied: distro<2,>=1.7.0 in /usr/lib/python3/dist-packages (from anthropic) (1.7.0)\n",
            "Collecting httpx<1,>=0.23.0 (from anthropic)\n",
            "  Downloading httpx-0.27.0-py3-none-any.whl (75 kB)\n",
            "\u001b[2K     \u001b[90m━━━━━━━━━━━━━━━━━━━━━━━━━━━━━━━━━━━━━━━━\u001b[0m \u001b[32m75.6/75.6 kB\u001b[0m \u001b[31m8.8 MB/s\u001b[0m eta \u001b[36m0:00:00\u001b[0m\n",
            "\u001b[?25hCollecting jiter<1,>=0.4.0 (from anthropic)\n",
            "  Downloading jiter-0.4.1-cp310-cp310-manylinux_2_17_x86_64.manylinux2014_x86_64.whl (328 kB)\n",
            "\u001b[2K     \u001b[90m━━━━━━━━━━━━━━━━━━━━━━━━━━━━━━━━━━━━━━━━\u001b[0m \u001b[32m328.3/328.3 kB\u001b[0m \u001b[31m28.9 MB/s\u001b[0m eta \u001b[36m0:00:00\u001b[0m\n",
            "\u001b[?25hRequirement already satisfied: pydantic<3,>=1.9.0 in /usr/local/lib/python3.10/dist-packages (from anthropic) (2.7.3)\n",
            "Requirement already satisfied: sniffio in /usr/local/lib/python3.10/dist-packages (from anthropic) (1.3.1)\n",
            "Requirement already satisfied: tokenizers>=0.13.0 in /usr/local/lib/python3.10/dist-packages (from anthropic) (0.19.1)\n",
            "Requirement already satisfied: typing-extensions<5,>=4.7 in /usr/local/lib/python3.10/dist-packages (from anthropic) (4.12.1)\n",
            "Requirement already satisfied: idna>=2.8 in /usr/local/lib/python3.10/dist-packages (from anyio<5,>=3.5.0->anthropic) (3.7)\n",
            "Requirement already satisfied: exceptiongroup in /usr/local/lib/python3.10/dist-packages (from anyio<5,>=3.5.0->anthropic) (1.2.1)\n",
            "Requirement already satisfied: certifi in /usr/local/lib/python3.10/dist-packages (from httpx<1,>=0.23.0->anthropic) (2024.6.2)\n",
            "Collecting httpcore==1.* (from httpx<1,>=0.23.0->anthropic)\n",
            "  Downloading httpcore-1.0.5-py3-none-any.whl (77 kB)\n",
            "\u001b[2K     \u001b[90m━━━━━━━━━━━━━━━━━━━━━━━━━━━━━━━━━━━━━━━━\u001b[0m \u001b[32m77.9/77.9 kB\u001b[0m \u001b[31m8.1 MB/s\u001b[0m eta \u001b[36m0:00:00\u001b[0m\n",
            "\u001b[?25hCollecting h11<0.15,>=0.13 (from httpcore==1.*->httpx<1,>=0.23.0->anthropic)\n",
            "  Downloading h11-0.14.0-py3-none-any.whl (58 kB)\n",
            "\u001b[2K     \u001b[90m━━━━━━━━━━━━━━━━━━━━━━━━━━━━━━━━━━━━━━━━\u001b[0m \u001b[32m58.3/58.3 kB\u001b[0m \u001b[31m7.0 MB/s\u001b[0m eta \u001b[36m0:00:00\u001b[0m\n",
            "\u001b[?25hRequirement already satisfied: annotated-types>=0.4.0 in /usr/local/lib/python3.10/dist-packages (from pydantic<3,>=1.9.0->anthropic) (0.7.0)\n",
            "Requirement already satisfied: pydantic-core==2.18.4 in /usr/local/lib/python3.10/dist-packages (from pydantic<3,>=1.9.0->anthropic) (2.18.4)\n",
            "Requirement already satisfied: huggingface-hub<1.0,>=0.16.4 in /usr/local/lib/python3.10/dist-packages (from tokenizers>=0.13.0->anthropic) (0.23.2)\n",
            "Requirement already satisfied: filelock in /usr/local/lib/python3.10/dist-packages (from huggingface-hub<1.0,>=0.16.4->tokenizers>=0.13.0->anthropic) (3.14.0)\n",
            "Requirement already satisfied: fsspec>=2023.5.0 in /usr/local/lib/python3.10/dist-packages (from huggingface-hub<1.0,>=0.16.4->tokenizers>=0.13.0->anthropic) (2023.6.0)\n",
            "Requirement already satisfied: packaging>=20.9 in /usr/local/lib/python3.10/dist-packages (from huggingface-hub<1.0,>=0.16.4->tokenizers>=0.13.0->anthropic) (24.0)\n",
            "Requirement already satisfied: pyyaml>=5.1 in /usr/local/lib/python3.10/dist-packages (from huggingface-hub<1.0,>=0.16.4->tokenizers>=0.13.0->anthropic) (6.0.1)\n",
            "Requirement already satisfied: requests in /usr/local/lib/python3.10/dist-packages (from huggingface-hub<1.0,>=0.16.4->tokenizers>=0.13.0->anthropic) (2.31.0)\n",
            "Requirement already satisfied: tqdm>=4.42.1 in /usr/local/lib/python3.10/dist-packages (from huggingface-hub<1.0,>=0.16.4->tokenizers>=0.13.0->anthropic) (4.66.4)\n",
            "Requirement already satisfied: charset-normalizer<4,>=2 in /usr/local/lib/python3.10/dist-packages (from requests->huggingface-hub<1.0,>=0.16.4->tokenizers>=0.13.0->anthropic) (3.3.2)\n",
            "Requirement already satisfied: urllib3<3,>=1.21.1 in /usr/local/lib/python3.10/dist-packages (from requests->huggingface-hub<1.0,>=0.16.4->tokenizers>=0.13.0->anthropic) (2.0.7)\n",
            "Installing collected packages: jiter, h11, httpcore, httpx, anthropic\n",
            "Successfully installed anthropic-0.28.0 h11-0.14.0 httpcore-1.0.5 httpx-0.27.0 jiter-0.4.1\n"
          ]
        }
      ]
    },
    {
      "cell_type": "code",
      "execution_count": 5,
      "metadata": {
        "id": "7Qjk2D63v1Bl"
      },
      "outputs": [],
      "source": [
        "# Importing Anthropic & Setting Headers\n",
        "import anthropic\n",
        "\n",
        "client = anthropic.Anthropic(\n",
        "    # defaults to os.environ.get(\"ANTHROPIC_API_KEY\")\n",
        "    api_key=os.environ.get(\"ANTHROPIC_API_KEY\"),\n",
        ")"
      ]
    },
    {
      "cell_type": "markdown",
      "source": [
        "# 1. Prompt 1.1: Create Variables for Mathematical Model"
      ],
      "metadata": {
        "id": "kT7yKbJs18XR"
      }
    },
    {
      "cell_type": "code",
      "source": [
        "message11 = client.messages.create(\n",
        "    model=\"claude-3-opus-20240229\",\n",
        "    system=prompt11,\n",
        "    max_tokens=4096,\n",
        "    messages=[\n",
        "        {\"role\": \"user\", \"content\": problem_desc}\n",
        "    ]\n",
        ")\n",
        "\n",
        "response_p11 = message11.content[0].text"
      ],
      "metadata": {
        "id": "R_6X0axq16D4"
      },
      "execution_count": 6,
      "outputs": []
    },
    {
      "cell_type": "code",
      "source": [
        "# Print response\n",
        "print(response_p11)"
      ],
      "metadata": {
        "colab": {
          "base_uri": "https://localhost:8080/"
        },
        "id": "Ra9Ox_PI38jg",
        "outputId": "22a70279-4da3-461d-a9d9-fb3d10d0146a"
      },
      "execution_count": 7,
      "outputs": [
        {
          "output_type": "stream",
          "name": "stdout",
          "text": [
            "Okay, let's formulate the variables for this goal programming problem.\n",
            "\n",
            "Decision Variables:\n",
            "- Let FT represent the number of hours worked by full-time employees\n",
            "- Let PT represent the number of hours worked by part-time employees\n",
            "\n",
            "Deviation Variables:\n",
            "- Let d1- represent the negative deviation from the sales target (underachievement)\n",
            "- Let d1+ represent the positive deviation from the sales target (overachievement)\n",
            "- Let d2- represent the negative deviation from the full-time employee hours target (underutilization)\n",
            "- Let d2+ represent the positive deviation from the full-time employee hours target (overutilization)\n",
            "- Let d3- represent the negative deviation from the part-time employee hours target (underutilization)\n",
            "- Let d3+ represent the positive deviation from the part-time employee hours target (overutilization)\n",
            "- Let d4- represent the negative deviation from the overtime target for full-time employees (underutilization)\n",
            "- Let d4+ represent the positive deviation from the overtime target for full-time employees (overutilization)\n",
            "- Let d5- represent the total overtime hours worked by full-time employees\n",
            "- Let d6- represent the total overtime hours worked by part-time employees\n",
            "\n",
            "Priority Factors:\n",
            "- Let P1 represent the priority for the sales goal\n",
            "- Let P2 represent the priority for the full-time employee overtime goal\n",
            "- Let P3 represent the priority for the full-time employee hours goal\n",
            "- Let P4 represent the priority for the part-time employee hours goal and the general overtime goal\n",
            "\n",
            "Note: The priority factors are ordered from highest to lowest, i.e., P1 > P2 > P3 > P4.\n",
            "\n",
            "These variables will be used to formulate the constraints and the objective function of the goal programming problem, which aims to minimize the weighted sum of the deviations based on their priorities.\n"
          ]
        }
      ]
    },
    {
      "cell_type": "markdown",
      "source": [
        "# 1. Prompt 1.2: Create Objective for Mathematical Model"
      ],
      "metadata": {
        "id": "nbt6yH1snBQL"
      }
    },
    {
      "cell_type": "code",
      "source": [
        "message12 = client.messages.create(\n",
        "    model=\"claude-3-opus-20240229\",\n",
        "    system=prompt12,\n",
        "    max_tokens=4096,\n",
        "    messages=[\n",
        "        {\"role\": \"user\", \"content\": (problem_desc + response_p11)}\n",
        "    ]\n",
        ")\n",
        "\n",
        "response_p12 = message12.content[0].text"
      ],
      "metadata": {
        "id": "ol4rtt_MnAy8"
      },
      "execution_count": 8,
      "outputs": []
    },
    {
      "cell_type": "code",
      "source": [
        "# Print response\n",
        "print(response_p12)"
      ],
      "metadata": {
        "colab": {
          "base_uri": "https://localhost:8080/"
        },
        "id": "Vz2F_EARnzHf",
        "outputId": "9b6a1085-4e59-4814-c924-b6885161adf9"
      },
      "execution_count": 9,
      "outputs": [
        {
          "output_type": "stream",
          "name": "stdout",
          "text": [
            "Based on the given information, the objective function for this goal programming problem can be formulated as:\n",
            "\n",
            "Minimize: \n",
            "P1(d1- + d1+) + P2(d4+) + P3(2d2- + 2d2+ + d3- + d3+) + P4(d5- + 3d6-)\n",
            "\n",
            "Explanation:\n",
            "- P1(d1- + d1+): This term represents the priority of achieving the sales target. Both underachievement (d1-) and overachievement (d1+) are considered, and they are multiplied by the highest priority factor P1.\n",
            "- P2(d4+): This term represents the priority of not exceeding the overtime target for full-time employees. Only the positive deviation (d4+) is considered, and it is multiplied by the second-highest priority factor P2.\n",
            "- P3(2d2- + 2d2+ + d3- + d3+): This term represents the priority of fully utilizing both full-time and part-time employee hours. The deviations for full-time employees (d2-, d2+) are multiplied by 2 to reflect the higher concern for their utilization, while the deviations for part-time employees (d3-, d3+) are added without any additional factor. The entire term is multiplied by the third-highest priority factor P3.\n",
            "- P4(d5- + 3d6-): This term represents the priority of minimizing the overall overtime hours for both full-time (d5-) and part-time employees (d6-). The overtime hours of part-time employees are multiplied by 3 to reflect their relative cost compared to full-time employees. The entire term is multiplied by the lowest priority factor P4.\n",
            "\n",
            "The objective function aims to minimize the weighted sum of the deviations based on their priorities, considering the specific concerns mentioned in the problem description.\n"
          ]
        }
      ]
    },
    {
      "cell_type": "markdown",
      "source": [
        "# 1. Prompt 1.3: Create Constraints for Mathematical Model\n"
      ],
      "metadata": {
        "id": "Wzf33DwvnEar"
      }
    },
    {
      "cell_type": "code",
      "source": [
        "message13 = client.messages.create(\n",
        "    model=\"claude-3-opus-20240229\",\n",
        "    system=prompt13,\n",
        "    max_tokens=4096,\n",
        "    messages=[\n",
        "        {\"role\": \"user\", \"content\": (problem_desc + response_p11 + response_p12)}\n",
        "    ]\n",
        ")\n",
        "\n",
        "response_p13 = message13.content[0].text"
      ],
      "metadata": {
        "id": "l1UAJRt7nENG"
      },
      "execution_count": 10,
      "outputs": []
    },
    {
      "cell_type": "code",
      "source": [
        "# Print response\n",
        "print(response_p13)"
      ],
      "metadata": {
        "colab": {
          "base_uri": "https://localhost:8080/"
        },
        "id": "vH7Ff9mxn4FZ",
        "outputId": "9ed18604-9141-4262-ad5d-5863415223bb"
      },
      "execution_count": 11,
      "outputs": [
        {
          "output_type": "stream",
          "name": "stdout",
          "text": [
            "Great! Let's formulate the constraints for this goal programming problem based on the given information.\n",
            "\n",
            "Constraints:\n",
            "\n",
            "1. Sales Target:\n",
            "   5FT + 2PT + d1- - d1+ = 5500\n",
            "   \n",
            "   Explanation: This constraint ensures that the total sales achieved by full-time (5 units per hour) and part-time (2 units per hour) employees, along with any deviations, meet the sales target of 5500 units.\n",
            "\n",
            "2. Full-time Employee Hours:\n",
            "   FT + d2- - d2+ = 800\n",
            "   \n",
            "   Explanation: This constraint ensures that the total hours worked by full-time employees, along with any deviations, meet the expected hours of 800.\n",
            "\n",
            "3. Part-time Employee Hours:\n",
            "   PT + d3- - d3+ = 320\n",
            "   \n",
            "   Explanation: This constraint ensures that the total hours worked by part-time employees, along with any deviations, meet the expected hours of 320.\n",
            "\n",
            "4. Overtime for Full-time Employees:\n",
            "   FT - 800 + d4- - d4+ = 100\n",
            "   \n",
            "   Explanation: This constraint ensures that the overtime hours for full-time employees, calculated as the difference between the total hours worked (FT) and the expected hours (800), along with any deviations, meet the overtime target of 100 hours.\n",
            "\n",
            "5. Total Overtime for Full-time Employees:\n",
            "   FT - 800 - d5- = 0\n",
            "   \n",
            "   Explanation: This constraint captures the total overtime hours worked by full-time employees, calculated as the difference between the total hours worked (FT) and the expected hours (800). The negative deviation (d5-) represents the total overtime hours.\n",
            "\n",
            "6. Total Overtime for Part-time Employees:\n",
            "   PT - 320 - d6- = 0\n",
            "   \n",
            "   Explanation: This constraint captures the total overtime hours worked by part-time employees, calculated as the difference between the total hours worked (PT) and the expected hours (320). The negative deviation (d6-) represents the total overtime hours.\n",
            "\n",
            "7. Non-negativity Constraints:\n",
            "   FT, PT, d1-, d1+, d2-, d2+, d3-, d3+, d4-, d4+, d5-, d6- ≥ 0\n",
            "   \n",
            "   Explanation: These constraints ensure that all decision variables and deviation variables are non-negative.\n",
            "\n",
            "These constraints, along with the objective function, complete the formulation of the goal programming problem. The objective is to minimize the weighted sum of the deviations based on their priorities, subject to the given constraints.\n"
          ]
        }
      ]
    },
    {
      "cell_type": "markdown",
      "source": [
        "# 2. Prompt 2: Write Code based on Mathematical Model\n",
        "\n",
        "In case more than the component of each step was generated, use \"last instance\"/ \"newest version\" of the components.\n",
        "\n",
        "Example:\n",
        "Prompt 1.1 (Variables): Model generates only variables\n",
        "Prompt 1.2 (Objectvie): Model generates objective and constraints\n",
        "Prompt 1.3 (Constraints): Model generates only constraints\n",
        "\n",
        "Use Variables from step 1.1, use objective from 1.2 and use constraints from 1.3 (since constraints version 1.3 is more recent than constraints version 1.2).\n",
        "\n",
        "This set up allows for potential self-correction of the model throughout the three prompts.\n",
        "\n",
        "Correctness of each component is still generated in the respective step, so self-correction is independent of this."
      ],
      "metadata": {
        "id": "WPZ6lgBO729j"
      }
    },
    {
      "cell_type": "code",
      "source": [
        "message2 = client.messages.create(\n",
        "    model=\"claude-3-opus-20240229\",\n",
        "    system=prompt2,\n",
        "    max_tokens=4069,\n",
        "    messages=[\n",
        "        {\"role\": \"user\", \"content\": (response_p11 + response_p12 + response_p13)}\n",
        "    ]\n",
        ")\n",
        "\n",
        "response_p2 = message2.content[0].text"
      ],
      "metadata": {
        "id": "1iUSgBda70FL"
      },
      "execution_count": 12,
      "outputs": []
    },
    {
      "cell_type": "code",
      "source": [
        "# Print response\n",
        "print(response_p2)"
      ],
      "metadata": {
        "colab": {
          "base_uri": "https://localhost:8080/"
        },
        "id": "o40mxc_H8eQ9",
        "outputId": "7c42ce94-1de3-49d1-80be-f20eb0231a3d"
      },
      "execution_count": 13,
      "outputs": [
        {
          "output_type": "stream",
          "name": "stdout",
          "text": [
            "Now that we have formulated the objective function and constraints, let's write the Python code using the Pyomo library to solve the goal programming problem. Here's the code:\n",
            "\n",
            "```python\n",
            "from pyomo.environ import *\n",
            "\n",
            "# Create a Pyomo model\n",
            "model = ConcreteModel()\n",
            "\n",
            "# Define decision variables\n",
            "model.FT = Var(domain=NonNegativeReals)\n",
            "model.PT = Var(domain=NonNegativeReals)\n",
            "\n",
            "# Define deviation variables\n",
            "model.d1_minus = Var(domain=NonNegativeReals)\n",
            "model.d1_plus = Var(domain=NonNegativeReals)\n",
            "model.d2_minus = Var(domain=NonNegativeReals)\n",
            "model.d2_plus = Var(domain=NonNegativeReals)\n",
            "model.d3_minus = Var(domain=NonNegativeReals)\n",
            "model.d3_plus = Var(domain=NonNegativeReals)\n",
            "model.d4_minus = Var(domain=NonNegativeReals)\n",
            "model.d4_plus = Var(domain=NonNegativeReals)\n",
            "model.d5_minus = Var(domain=NonNegativeReals)\n",
            "model.d6_minus = Var(domain=NonNegativeReals)\n",
            "\n",
            "# Define priority factors (sample data)\n",
            "P1 = 1000\n",
            "P2 = 100\n",
            "P3 = 10\n",
            "P4 = 1\n",
            "\n",
            "# Define the objective function\n",
            "model.objective = Objective(expr=P1 * (model.d1_minus + model.d1_plus) +\n",
            "                                 P2 * (model.d4_plus) +\n",
            "                                 P3 * (2 * model.d2_minus + 2 * model.d2_plus + model.d3_minus + model.d3_plus) +\n",
            "                                 P4 * (model.d5_minus + 3 * model.d6_minus),\n",
            "                            sense=minimize)\n",
            "\n",
            "# Define constraints\n",
            "model.sales_constraint = Constraint(expr=5 * model.FT + 2 * model.PT + model.d1_minus - model.d1_plus == 5500)\n",
            "model.full_time_hours_constraint = Constraint(expr=model.FT + model.d2_minus - model.d2_plus == 800)\n",
            "model.part_time_hours_constraint = Constraint(expr=model.PT + model.d3_minus - model.d3_plus == 320)\n",
            "model.full_time_overtime_constraint = Constraint(expr=model.FT - 800 + model.d4_minus - model.d4_plus == 100)\n",
            "model.full_time_total_overtime_constraint = Constraint(expr=model.FT - 800 - model.d5_minus == 0)\n",
            "model.part_time_total_overtime_constraint = Constraint(expr=model.PT - 320 - model.d6_minus == 0)\n",
            "\n",
            "# Solve the model\n",
            "solver = SolverFactory('glpk')\n",
            "results = solver.solve(model)\n",
            "\n",
            "# Print the results\n",
            "print(\"Objective Function Value:\", model.objective())\n",
            "print(\"Full-time Employee Hours (FT):\", model.FT())\n",
            "print(\"Part-time Employee Hours (PT):\", model.PT())\n",
            "```\n",
            "\n",
            "In this code:\n",
            "- We create a Pyomo model and define the decision variables (`FT` and `PT`) and deviation variables (`d1_minus`, `d1_plus`, etc.) as non-negative real variables.\n",
            "- We define the priority factors (`P1`, `P2`, `P3`, `P4`) as sample data. You can replace these values with the actual priority factors based on your requirements.\n",
            "- We define the objective function using the `Objective` component, minimizing the weighted sum of the deviations based on their priorities.\n",
            "- We define the constraints using the `Constraint` component, representing the sales target, employee hours targets, and overtime targets.\n",
            "- We solve the model using the GLPK solver (you may need to install it separately).\n",
            "- Finally, we print the objective function value and the optimal values of the decision variables (`FT` and `PT`).\n",
            "\n",
            "Note: Make sure you have the Pyomo library installed (`pip install pyomo`) before running this code.\n",
            "\n",
            "This code provides a starting point for solving the goal programming problem using Python and Pyomo. You can modify the code and input data according to your specific requirements.\n"
          ]
        }
      ]
    },
    {
      "cell_type": "markdown",
      "source": [
        "# 4. Input Problem Data and Test Model Code"
      ],
      "metadata": {
        "id": "Pc0QqJuf8up_"
      }
    },
    {
      "cell_type": "code",
      "source": [
        "# Installing pyomo nd solver\n",
        "!pip install -q pyomo\n",
        "!pip install pandas\n",
        "!apt-get install -y -qq glpk-utils\n",
        "!pip install glpk"
      ],
      "metadata": {
        "colab": {
          "base_uri": "https://localhost:8080/"
        },
        "id": "3BtROuLu9O-p",
        "outputId": "b206dca1-3d12-484c-8dbb-3b0a3f29d88b",
        "collapsed": true
      },
      "execution_count": 14,
      "outputs": [
        {
          "output_type": "stream",
          "name": "stdout",
          "text": [
            "\u001b[2K     \u001b[90m━━━━━━━━━━━━━━━━━━━━━━━━━━━━━━━━━━━━━━━━\u001b[0m \u001b[32m12.8/12.8 MB\u001b[0m \u001b[31m46.7 MB/s\u001b[0m eta \u001b[36m0:00:00\u001b[0m\n",
            "\u001b[2K     \u001b[90m━━━━━━━━━━━━━━━━━━━━━━━━━━━━━━━━━━━━━━━━\u001b[0m \u001b[32m49.6/49.6 kB\u001b[0m \u001b[31m5.8 MB/s\u001b[0m eta \u001b[36m0:00:00\u001b[0m\n",
            "\u001b[?25hRequirement already satisfied: pandas in /usr/local/lib/python3.10/dist-packages (2.0.3)\n",
            "Requirement already satisfied: python-dateutil>=2.8.2 in /usr/local/lib/python3.10/dist-packages (from pandas) (2.8.2)\n",
            "Requirement already satisfied: pytz>=2020.1 in /usr/local/lib/python3.10/dist-packages (from pandas) (2023.4)\n",
            "Requirement already satisfied: tzdata>=2022.1 in /usr/local/lib/python3.10/dist-packages (from pandas) (2024.1)\n",
            "Requirement already satisfied: numpy>=1.21.0 in /usr/local/lib/python3.10/dist-packages (from pandas) (1.25.2)\n",
            "Requirement already satisfied: six>=1.5 in /usr/local/lib/python3.10/dist-packages (from python-dateutil>=2.8.2->pandas) (1.16.0)\n",
            "Selecting previously unselected package libsuitesparseconfig5:amd64.\n",
            "(Reading database ... 121918 files and directories currently installed.)\n",
            "Preparing to unpack .../libsuitesparseconfig5_1%3a5.10.1+dfsg-4build1_amd64.deb ...\n",
            "Unpacking libsuitesparseconfig5:amd64 (1:5.10.1+dfsg-4build1) ...\n",
            "Selecting previously unselected package libamd2:amd64.\n",
            "Preparing to unpack .../libamd2_1%3a5.10.1+dfsg-4build1_amd64.deb ...\n",
            "Unpacking libamd2:amd64 (1:5.10.1+dfsg-4build1) ...\n",
            "Selecting previously unselected package libcolamd2:amd64.\n",
            "Preparing to unpack .../libcolamd2_1%3a5.10.1+dfsg-4build1_amd64.deb ...\n",
            "Unpacking libcolamd2:amd64 (1:5.10.1+dfsg-4build1) ...\n",
            "Selecting previously unselected package libglpk40:amd64.\n",
            "Preparing to unpack .../libglpk40_5.0-1_amd64.deb ...\n",
            "Unpacking libglpk40:amd64 (5.0-1) ...\n",
            "Selecting previously unselected package glpk-utils.\n",
            "Preparing to unpack .../glpk-utils_5.0-1_amd64.deb ...\n",
            "Unpacking glpk-utils (5.0-1) ...\n",
            "Setting up libsuitesparseconfig5:amd64 (1:5.10.1+dfsg-4build1) ...\n",
            "Setting up libamd2:amd64 (1:5.10.1+dfsg-4build1) ...\n",
            "Setting up libcolamd2:amd64 (1:5.10.1+dfsg-4build1) ...\n",
            "Setting up libglpk40:amd64 (5.0-1) ...\n",
            "Setting up glpk-utils (5.0-1) ...\n",
            "Processing triggers for man-db (2.10.2-1) ...\n",
            "Processing triggers for libc-bin (2.35-0ubuntu3.4) ...\n",
            "/sbin/ldconfig.real: /usr/local/lib/libtbbmalloc.so.2 is not a symbolic link\n",
            "\n",
            "/sbin/ldconfig.real: /usr/local/lib/libtbbbind_2_5.so.3 is not a symbolic link\n",
            "\n",
            "/sbin/ldconfig.real: /usr/local/lib/libtbb.so.12 is not a symbolic link\n",
            "\n",
            "/sbin/ldconfig.real: /usr/local/lib/libtbbmalloc_proxy.so.2 is not a symbolic link\n",
            "\n",
            "/sbin/ldconfig.real: /usr/local/lib/libtbbbind.so.3 is not a symbolic link\n",
            "\n",
            "/sbin/ldconfig.real: /usr/local/lib/libtbbbind_2_0.so.3 is not a symbolic link\n",
            "\n",
            "Collecting glpk\n",
            "  Downloading glpk-0.4.7.tar.gz (161 kB)\n",
            "\u001b[2K     \u001b[90m━━━━━━━━━━━━━━━━━━━━━━━━━━━━━━━━━━━━━━━━\u001b[0m \u001b[32m161.2/161.2 kB\u001b[0m \u001b[31m4.8 MB/s\u001b[0m eta \u001b[36m0:00:00\u001b[0m\n",
            "\u001b[?25h  Installing build dependencies ... \u001b[?25l\u001b[?25hdone\n",
            "  Getting requirements to build wheel ... \u001b[?25l\u001b[?25hdone\n",
            "  Preparing metadata (pyproject.toml) ... \u001b[?25l\u001b[?25hdone\n",
            "Building wheels for collected packages: glpk\n",
            "  \u001b[1;31merror\u001b[0m: \u001b[1msubprocess-exited-with-error\u001b[0m\n",
            "  \n",
            "  \u001b[31m×\u001b[0m \u001b[32mBuilding wheel for glpk \u001b[0m\u001b[1;32m(\u001b[0m\u001b[32mpyproject.toml\u001b[0m\u001b[1;32m)\u001b[0m did not run successfully.\n",
            "  \u001b[31m│\u001b[0m exit code: \u001b[1;36m1\u001b[0m\n",
            "  \u001b[31m╰─>\u001b[0m See above for output.\n",
            "  \n",
            "  \u001b[1;35mnote\u001b[0m: This error originates from a subprocess, and is likely not a problem with pip.\n",
            "  Building wheel for glpk (pyproject.toml) ... \u001b[?25l\u001b[?25herror\n",
            "\u001b[31m  ERROR: Failed building wheel for glpk\u001b[0m\u001b[31m\n",
            "\u001b[0mFailed to build glpk\n",
            "\u001b[31mERROR: Could not build wheels for glpk, which is required to install pyproject.toml-based projects\u001b[0m\u001b[31m\n",
            "\u001b[0m"
          ]
        }
      ]
    },
    {
      "cell_type": "code",
      "source": [
        "from pyomo.environ import *\n",
        "\n",
        "# Create a Pyomo model\n",
        "model = ConcreteModel()\n",
        "\n",
        "# Define decision variables\n",
        "model.FT = Var(domain=NonNegativeReals)\n",
        "model.PT = Var(domain=NonNegativeReals)\n",
        "\n",
        "# Define deviation variables\n",
        "model.d1_minus = Var(domain=NonNegativeReals)\n",
        "model.d1_plus = Var(domain=NonNegativeReals)\n",
        "model.d2_minus = Var(domain=NonNegativeReals)\n",
        "model.d2_plus = Var(domain=NonNegativeReals)\n",
        "model.d3_minus = Var(domain=NonNegativeReals)\n",
        "model.d3_plus = Var(domain=NonNegativeReals)\n",
        "model.d4_minus = Var(domain=NonNegativeReals)\n",
        "model.d4_plus = Var(domain=NonNegativeReals)\n",
        "model.d5_minus = Var(domain=NonNegativeReals)\n",
        "model.d6_minus = Var(domain=NonNegativeReals)\n",
        "\n",
        "# Define priority factors (sample data)\n",
        "P1 = 4\n",
        "P2 = 3\n",
        "P3 = 2\n",
        "P4 = 1\n",
        "\n",
        "# Define the objective function\n",
        "model.objective = Objective(expr=P1 * (model.d1_minus + model.d1_plus) +\n",
        "                                 P2 * (model.d4_plus) +\n",
        "                                 P3 * (2 * model.d2_minus + 2 * model.d2_plus + model.d3_minus + model.d3_plus) +\n",
        "                                 P4 * (model.d5_minus + 3 * model.d6_minus),\n",
        "                            sense=minimize)\n",
        "\n",
        "# Define constraints\n",
        "model.sales_constraint = Constraint(expr=5 * model.FT + 2 * model.PT + model.d1_minus - model.d1_plus == 5500)\n",
        "model.full_time_hours_constraint = Constraint(expr=model.FT + model.d2_minus - model.d2_plus == 800)\n",
        "model.part_time_hours_constraint = Constraint(expr=model.PT + model.d3_minus - model.d3_plus == 320)\n",
        "model.full_time_overtime_constraint = Constraint(expr=model.FT - 800 + model.d4_minus - model.d4_plus == 100)\n",
        "model.full_time_total_overtime_constraint = Constraint(expr=model.FT - 800 - model.d5_minus == 0)\n",
        "model.part_time_total_overtime_constraint = Constraint(expr=model.PT - 320 - model.d6_minus == 0)\n",
        "\n",
        "# Solve the model\n",
        "solver = SolverFactory('glpk')\n",
        "results = solver.solve(model)\n",
        "\n",
        "# Print the results\n",
        "print(\"Objective Function Value:\", model.objective())\n",
        "print(\"Full-time Employee Hours (FT):\", model.FT())\n",
        "print(\"Part-time Employee Hours (PT):\", model.PT())"
      ],
      "metadata": {
        "colab": {
          "base_uri": "https://localhost:8080/"
        },
        "id": "8FpHcuWU8rQ2",
        "outputId": "69ced21e-27a9-4699-f9ed-b5a752930b43"
      },
      "execution_count": 15,
      "outputs": [
        {
          "output_type": "stream",
          "name": "stdout",
          "text": [
            "Objective Function Value: 1076.0\n",
            "Full-time Employee Hours (FT): 972.0\n",
            "Part-time Employee Hours (PT): 320.0\n"
          ]
        }
      ]
    },
    {
      "cell_type": "code",
      "source": [
        "print(\"d1^-:\", model.d1_minus())\n",
        "print(\"d1^+:\", model.d1_plus())\n",
        "print(\"d2^-:\", model.d2_minus())\n",
        "print(\"d2^+:\", model.d2_plus())\n",
        "print(\"d3^-:\", model.d3_minus())\n",
        "print(\"d3^+:\", model.d3_plus())\n",
        "print(\"d4^-:\", model.d4_minus())\n",
        "print(\"d4^+:\", model.d4_plus())\n",
        "print(\"d5^-:\", model.d5_minus())\n",
        "print(\"d6^-:\", model.d6_minus())"
      ],
      "metadata": {
        "colab": {
          "base_uri": "https://localhost:8080/"
        },
        "id": "LZknCkBKRFSv",
        "outputId": "1eb44a00-b5ca-4f4f-b940-719cbab7c025"
      },
      "execution_count": 16,
      "outputs": [
        {
          "output_type": "stream",
          "name": "stdout",
          "text": [
            "d1^-: 0.0\n",
            "d1^+: 0.0\n",
            "d2^-: 0.0\n",
            "d2^+: 172.0\n",
            "d3^-: 0.0\n",
            "d3^+: 0.0\n",
            "d4^-: 0.0\n",
            "d4^+: 72.0\n",
            "d5^-: 172.0\n",
            "d6^-: -0.0\n"
          ]
        }
      ]
    },
    {
      "cell_type": "markdown",
      "source": [
        "# 5. Correct The Model Code to Test Mathematical Model (if applicable)"
      ],
      "metadata": {
        "id": "KHTyoLQTWZVy"
      }
    },
    {
      "cell_type": "code",
      "source": [],
      "metadata": {
        "id": "REJzqhR6WYvM"
      },
      "execution_count": 14,
      "outputs": []
    },
    {
      "cell_type": "code",
      "source": [],
      "metadata": {
        "id": "bPJ_54384nR_"
      },
      "execution_count": null,
      "outputs": []
    }
  ]
}