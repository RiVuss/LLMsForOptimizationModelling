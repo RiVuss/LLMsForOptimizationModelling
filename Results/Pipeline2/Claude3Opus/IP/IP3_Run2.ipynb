{
  "nbformat": 4,
  "nbformat_minor": 0,
  "metadata": {
    "colab": {
      "provenance": []
    },
    "kernelspec": {
      "name": "python3",
      "display_name": "Python 3"
    },
    "language_info": {
      "name": "python"
    }
  },
  "cells": [
    {
      "cell_type": "markdown",
      "source": [
        "# 0. Imports and Setting up Anthropic API Client"
      ],
      "metadata": {
        "id": "y5fw0lkBwBbo"
      }
    },
    {
      "cell_type": "code",
      "source": [
        "from google.colab import drive\n",
        "\n",
        "drive.mount('/content/drive')"
      ],
      "metadata": {
        "colab": {
          "base_uri": "https://localhost:8080/"
        },
        "id": "e7tWOLo0yMoH",
        "outputId": "6f0912ed-b1a1-4fc2-b1e2-9e362154da75"
      },
      "execution_count": 1,
      "outputs": [
        {
          "output_type": "stream",
          "name": "stdout",
          "text": [
            "Mounted at /content/drive\n"
          ]
        }
      ]
    },
    {
      "cell_type": "code",
      "source": [
        "!pip install python-dotenv\n",
        "\n",
        "import os\n",
        "import dotenv\n",
        "\n",
        "dotenv.load_dotenv('/content/drive/MyDrive/.env')"
      ],
      "metadata": {
        "colab": {
          "base_uri": "https://localhost:8080/"
        },
        "id": "utcEK8lZ1Z1R",
        "outputId": "177a9993-a8f1-4b3c-ced7-c56c96dc87dd"
      },
      "execution_count": 2,
      "outputs": [
        {
          "output_type": "stream",
          "name": "stdout",
          "text": [
            "Collecting python-dotenv\n",
            "  Downloading python_dotenv-1.0.1-py3-none-any.whl (19 kB)\n",
            "Installing collected packages: python-dotenv\n",
            "Successfully installed python-dotenv-1.0.1\n"
          ]
        },
        {
          "output_type": "execute_result",
          "data": {
            "text/plain": [
              "True"
            ]
          },
          "metadata": {},
          "execution_count": 2
        }
      ]
    },
    {
      "cell_type": "code",
      "source": [
        "# Load Prompts and Problem Description\n",
        "# Variables Prompt\n",
        "prompt11_path = '/content/drive/MyDrive/Thesis/Prompts/Prompt11_MathematicalModel.txt'\n",
        "\n",
        "# Objective Prompt\n",
        "prompt12_path = '/content/drive/MyDrive/Thesis/Prompts/Prompt12_MathematicalModel.txt'\n",
        "\n",
        "# Constraint Prompt\n",
        "prompt13_path = '/content/drive/MyDrive/Thesis/Prompts/Prompt13_MathematicalModel.txt'\n",
        "\n",
        "# Code Prompt\n",
        "prompt2_path = '/content/drive/MyDrive/Thesis/Prompts/Prompt2_PyomoCode.txt'\n",
        "problem_desc_path = '/content/drive/MyDrive/Thesis/ProblemDescriptions/IP/IP3.txt'\n",
        "\n",
        "prompt11_file = open(prompt11_path, \"r\")\n",
        "prompt12_file = open(prompt12_path, \"r\")\n",
        "prompt13_file = open(prompt13_path, \"r\")\n",
        "prompt2_file = open(prompt2_path, \"r\")\n",
        "problem_desc_file = open(problem_desc_path, \"r\")\n",
        "\n",
        "prompt11 = prompt11_file.read()\n",
        "print(\"Prompt 1.1 (Variables):\\n\", prompt11)\n",
        "\n",
        "prompt12 = prompt12_file.read()\n",
        "print(\"Prompt 1.2 (Objctive):\\n\", prompt12)\n",
        "\n",
        "prompt13 = prompt13_file.read()\n",
        "print(\"Prompt 1.3 (Constraints):\\n\", prompt13)\n",
        "\n",
        "prompt2 = prompt2_file.read()\n",
        "print(\"Prompt 2:\\n\", prompt2)\n",
        "\n",
        "problem_desc = problem_desc_file.read()\n",
        "print(\"Problem Description:\\n\", problem_desc)"
      ],
      "metadata": {
        "colab": {
          "base_uri": "https://localhost:8080/"
        },
        "id": "9KlkjwMUS4xp",
        "outputId": "c90dd27e-e17b-4c41-d8d6-6ea654daacca"
      },
      "execution_count": 3,
      "outputs": [
        {
          "output_type": "stream",
          "name": "stdout",
          "text": [
            "Prompt 1.1 (Variables):\n",
            " Please formulate only the variables for this mathematical optimization problem. \n",
            "Prompt 1.2 (Objctive):\n",
            " Please formulate only the objective function for this mathematical optimization problem. \n",
            "Prompt 1.3 (Constraints):\n",
            " Please formulate only the constraints for this mathematical optimization problem. \n",
            "Prompt 2:\n",
            " Please write a python pyomo code for this optimization problem.\n",
            "Use sample data where needed.\n",
            "Indicate where you use sample data.\n",
            "Problem Description:\n",
            " You are the person in charge of packing in a large company. Your job is to skillfully pack items of various weights in a box with predetermined capacity. The objective is to use as few boxes as possible. There is a set of items and a set of boxes with an upper bound on the amount of boxes. Each of the items has a known weight. Each item is packed into one box and items are packed into the chosen boxes. Please formulate a mathematical optimization model for this problem.  \n",
            "\n"
          ]
        }
      ]
    },
    {
      "cell_type": "code",
      "source": [
        "!pip install anthropic"
      ],
      "metadata": {
        "colab": {
          "base_uri": "https://localhost:8080/"
        },
        "id": "iWlNsTIvxCcR",
        "outputId": "e6db7a9b-3bd1-4603-9889-c67ae888940b",
        "collapsed": true
      },
      "execution_count": 4,
      "outputs": [
        {
          "output_type": "stream",
          "name": "stdout",
          "text": [
            "Collecting anthropic\n",
            "  Downloading anthropic-0.28.0-py3-none-any.whl (862 kB)\n",
            "\u001b[2K     \u001b[90m━━━━━━━━━━━━━━━━━━━━━━━━━━━━━━━━━━━━━━━━\u001b[0m \u001b[32m862.7/862.7 kB\u001b[0m \u001b[31m9.7 MB/s\u001b[0m eta \u001b[36m0:00:00\u001b[0m\n",
            "\u001b[?25hRequirement already satisfied: anyio<5,>=3.5.0 in /usr/local/lib/python3.10/dist-packages (from anthropic) (3.7.1)\n",
            "Requirement already satisfied: distro<2,>=1.7.0 in /usr/lib/python3/dist-packages (from anthropic) (1.7.0)\n",
            "Collecting httpx<1,>=0.23.0 (from anthropic)\n",
            "  Downloading httpx-0.27.0-py3-none-any.whl (75 kB)\n",
            "\u001b[2K     \u001b[90m━━━━━━━━━━━━━━━━━━━━━━━━━━━━━━━━━━━━━━━━\u001b[0m \u001b[32m75.6/75.6 kB\u001b[0m \u001b[31m8.3 MB/s\u001b[0m eta \u001b[36m0:00:00\u001b[0m\n",
            "\u001b[?25hCollecting jiter<1,>=0.4.0 (from anthropic)\n",
            "  Downloading jiter-0.4.1-cp310-cp310-manylinux_2_17_x86_64.manylinux2014_x86_64.whl (328 kB)\n",
            "\u001b[2K     \u001b[90m━━━━━━━━━━━━━━━━━━━━━━━━━━━━━━━━━━━━━━━━\u001b[0m \u001b[32m328.3/328.3 kB\u001b[0m \u001b[31m28.0 MB/s\u001b[0m eta \u001b[36m0:00:00\u001b[0m\n",
            "\u001b[?25hRequirement already satisfied: pydantic<3,>=1.9.0 in /usr/local/lib/python3.10/dist-packages (from anthropic) (2.7.3)\n",
            "Requirement already satisfied: sniffio in /usr/local/lib/python3.10/dist-packages (from anthropic) (1.3.1)\n",
            "Requirement already satisfied: tokenizers>=0.13.0 in /usr/local/lib/python3.10/dist-packages (from anthropic) (0.19.1)\n",
            "Requirement already satisfied: typing-extensions<5,>=4.7 in /usr/local/lib/python3.10/dist-packages (from anthropic) (4.12.1)\n",
            "Requirement already satisfied: idna>=2.8 in /usr/local/lib/python3.10/dist-packages (from anyio<5,>=3.5.0->anthropic) (3.7)\n",
            "Requirement already satisfied: exceptiongroup in /usr/local/lib/python3.10/dist-packages (from anyio<5,>=3.5.0->anthropic) (1.2.1)\n",
            "Requirement already satisfied: certifi in /usr/local/lib/python3.10/dist-packages (from httpx<1,>=0.23.0->anthropic) (2024.6.2)\n",
            "Collecting httpcore==1.* (from httpx<1,>=0.23.0->anthropic)\n",
            "  Downloading httpcore-1.0.5-py3-none-any.whl (77 kB)\n",
            "\u001b[2K     \u001b[90m━━━━━━━━━━━━━━━━━━━━━━━━━━━━━━━━━━━━━━━━\u001b[0m \u001b[32m77.9/77.9 kB\u001b[0m \u001b[31m6.0 MB/s\u001b[0m eta \u001b[36m0:00:00\u001b[0m\n",
            "\u001b[?25hCollecting h11<0.15,>=0.13 (from httpcore==1.*->httpx<1,>=0.23.0->anthropic)\n",
            "  Downloading h11-0.14.0-py3-none-any.whl (58 kB)\n",
            "\u001b[2K     \u001b[90m━━━━━━━━━━━━━━━━━━━━━━━━━━━━━━━━━━━━━━━━\u001b[0m \u001b[32m58.3/58.3 kB\u001b[0m \u001b[31m6.3 MB/s\u001b[0m eta \u001b[36m0:00:00\u001b[0m\n",
            "\u001b[?25hRequirement already satisfied: annotated-types>=0.4.0 in /usr/local/lib/python3.10/dist-packages (from pydantic<3,>=1.9.0->anthropic) (0.7.0)\n",
            "Requirement already satisfied: pydantic-core==2.18.4 in /usr/local/lib/python3.10/dist-packages (from pydantic<3,>=1.9.0->anthropic) (2.18.4)\n",
            "Requirement already satisfied: huggingface-hub<1.0,>=0.16.4 in /usr/local/lib/python3.10/dist-packages (from tokenizers>=0.13.0->anthropic) (0.23.2)\n",
            "Requirement already satisfied: filelock in /usr/local/lib/python3.10/dist-packages (from huggingface-hub<1.0,>=0.16.4->tokenizers>=0.13.0->anthropic) (3.14.0)\n",
            "Requirement already satisfied: fsspec>=2023.5.0 in /usr/local/lib/python3.10/dist-packages (from huggingface-hub<1.0,>=0.16.4->tokenizers>=0.13.0->anthropic) (2023.6.0)\n",
            "Requirement already satisfied: packaging>=20.9 in /usr/local/lib/python3.10/dist-packages (from huggingface-hub<1.0,>=0.16.4->tokenizers>=0.13.0->anthropic) (24.0)\n",
            "Requirement already satisfied: pyyaml>=5.1 in /usr/local/lib/python3.10/dist-packages (from huggingface-hub<1.0,>=0.16.4->tokenizers>=0.13.0->anthropic) (6.0.1)\n",
            "Requirement already satisfied: requests in /usr/local/lib/python3.10/dist-packages (from huggingface-hub<1.0,>=0.16.4->tokenizers>=0.13.0->anthropic) (2.31.0)\n",
            "Requirement already satisfied: tqdm>=4.42.1 in /usr/local/lib/python3.10/dist-packages (from huggingface-hub<1.0,>=0.16.4->tokenizers>=0.13.0->anthropic) (4.66.4)\n",
            "Requirement already satisfied: charset-normalizer<4,>=2 in /usr/local/lib/python3.10/dist-packages (from requests->huggingface-hub<1.0,>=0.16.4->tokenizers>=0.13.0->anthropic) (3.3.2)\n",
            "Requirement already satisfied: urllib3<3,>=1.21.1 in /usr/local/lib/python3.10/dist-packages (from requests->huggingface-hub<1.0,>=0.16.4->tokenizers>=0.13.0->anthropic) (2.0.7)\n",
            "Installing collected packages: jiter, h11, httpcore, httpx, anthropic\n",
            "Successfully installed anthropic-0.28.0 h11-0.14.0 httpcore-1.0.5 httpx-0.27.0 jiter-0.4.1\n"
          ]
        }
      ]
    },
    {
      "cell_type": "code",
      "execution_count": 5,
      "metadata": {
        "id": "7Qjk2D63v1Bl"
      },
      "outputs": [],
      "source": [
        "# Importing Anthropic & Setting Headers\n",
        "import anthropic\n",
        "\n",
        "client = anthropic.Anthropic(\n",
        "    # defaults to os.environ.get(\"ANTHROPIC_API_KEY\")\n",
        "    api_key=os.environ.get(\"ANTHROPIC_API_KEY\"),\n",
        ")"
      ]
    },
    {
      "cell_type": "markdown",
      "source": [
        "# 1. Prompt 1.1: Create Variables for Mathematical Model"
      ],
      "metadata": {
        "id": "kT7yKbJs18XR"
      }
    },
    {
      "cell_type": "code",
      "source": [
        "message11 = client.messages.create(\n",
        "    model=\"claude-3-opus-20240229\",\n",
        "    system=prompt11,\n",
        "    max_tokens=4096,\n",
        "    messages=[\n",
        "        {\"role\": \"user\", \"content\": problem_desc}\n",
        "    ]\n",
        ")\n",
        "\n",
        "response_p11 = message11.content[0].text"
      ],
      "metadata": {
        "id": "R_6X0axq16D4"
      },
      "execution_count": 6,
      "outputs": []
    },
    {
      "cell_type": "code",
      "source": [
        "# Print response\n",
        "print(response_p11)"
      ],
      "metadata": {
        "colab": {
          "base_uri": "https://localhost:8080/"
        },
        "id": "Ra9Ox_PI38jg",
        "outputId": "3c494812-d4eb-471d-e476-9892660e3e9c"
      },
      "execution_count": 7,
      "outputs": [
        {
          "output_type": "stream",
          "name": "stdout",
          "text": [
            "Let's define the following variables for the mathematical optimization problem:\n",
            "\n",
            "- Let I be the set of items to be packed, indexed by i.\n",
            "- Let J be the set of available boxes, indexed by j.\n",
            "- Let w_i be the weight of item i.\n",
            "- Let C_j be the capacity of box j.\n",
            "- Let M be the upper bound on the number of boxes that can be used.\n",
            "- Let x_ij be a binary variable that equals 1 if item i is packed into box j, and 0 otherwise.\n",
            "- Let y_j be a binary variable that equals 1 if box j is used, and 0 otherwise.\n",
            "\n",
            "These are the key variables and parameters needed to formulate the optimization model for the packing problem, with the objective of minimizing the number of boxes used while respecting the capacity constraints and ensuring each item is packed into exactly one box.\n"
          ]
        }
      ]
    },
    {
      "cell_type": "markdown",
      "source": [
        "# 1. Prompt 1.2: Create Objective for Mathematical Model"
      ],
      "metadata": {
        "id": "nbt6yH1snBQL"
      }
    },
    {
      "cell_type": "code",
      "source": [
        "message12 = client.messages.create(\n",
        "    model=\"claude-3-opus-20240229\",\n",
        "    system=prompt12,\n",
        "    max_tokens=4096,\n",
        "    messages=[\n",
        "        {\"role\": \"user\", \"content\": (problem_desc + response_p11)}\n",
        "    ]\n",
        ")\n",
        "\n",
        "response_p12 = message12.content[0].text"
      ],
      "metadata": {
        "id": "ol4rtt_MnAy8"
      },
      "execution_count": 8,
      "outputs": []
    },
    {
      "cell_type": "code",
      "source": [
        "# Print response\n",
        "print(response_p12)"
      ],
      "metadata": {
        "colab": {
          "base_uri": "https://localhost:8080/"
        },
        "id": "Vz2F_EARnzHf",
        "outputId": "69b2ebb4-05af-44e1-b1cd-e971c7fc3d10"
      },
      "execution_count": 9,
      "outputs": [
        {
          "output_type": "stream",
          "name": "stdout",
          "text": [
            "Great! Now that we have defined the variables and parameters, let's formulate the objective function for this mathematical optimization problem.\n",
            "\n",
            "Objective Function:\n",
            "Minimize ∑(j ∈ J) y_j\n",
            "\n",
            "This objective function aims to minimize the total number of boxes used. By summing up the binary variables y_j over all boxes j in the set J, we count the number of boxes that are actually used (i.e., the boxes for which y_j = 1).\n",
            "\n",
            "The complete mathematical optimization model would also include the following constraints:\n",
            "\n",
            "1. Capacity constraints: For each box j, the total weight of items packed into it should not exceed its capacity C_j.\n",
            "2. Assignment constraints: Each item i must be packed into exactly one box.\n",
            "3. Linking constraints: If any item is packed into a box j (i.e., if x_ij = 1 for any i), then that box must be counted as used (y_j = 1).\n",
            "4. Upper bound constraint: The total number of boxes used should not exceed the upper bound M.\n",
            "\n",
            "These constraints, along with the binary restrictions on the variables x_ij and y_j, complete the formulation of the mathematical optimization model for the packing problem.\n"
          ]
        }
      ]
    },
    {
      "cell_type": "markdown",
      "source": [
        "# 1. Prompt 1.3: Create Constraints for Mathematical Model\n"
      ],
      "metadata": {
        "id": "Wzf33DwvnEar"
      }
    },
    {
      "cell_type": "code",
      "source": [
        "message13 = client.messages.create(\n",
        "    model=\"claude-3-opus-20240229\",\n",
        "    system=prompt13,\n",
        "    max_tokens=4096,\n",
        "    messages=[\n",
        "        {\"role\": \"user\", \"content\": (problem_desc + response_p11 + response_p12)}\n",
        "    ]\n",
        ")\n",
        "\n",
        "response_p13 = message13.content[0].text"
      ],
      "metadata": {
        "id": "l1UAJRt7nENG"
      },
      "execution_count": 10,
      "outputs": []
    },
    {
      "cell_type": "code",
      "source": [
        "# Print response\n",
        "print(response_p13)"
      ],
      "metadata": {
        "colab": {
          "base_uri": "https://localhost:8080/"
        },
        "id": "vH7Ff9mxn4FZ",
        "outputId": "35f0c660-0117-4013-c32b-f427b8e4c92e"
      },
      "execution_count": 11,
      "outputs": [
        {
          "output_type": "stream",
          "name": "stdout",
          "text": [
            "Great! Let's formulate the constraints for this mathematical optimization problem.\n",
            "\n",
            "1. Capacity constraints:\n",
            "   For each box j ∈ J, the total weight of items packed into it should not exceed its capacity C_j.\n",
            "   \n",
            "   ∑(i ∈ I) w_i * x_ij ≤ C_j * y_j, ∀j ∈ J\n",
            "\n",
            "2. Assignment constraints:\n",
            "   Each item i ∈ I must be packed into exactly one box.\n",
            "   \n",
            "   ∑(j ∈ J) x_ij = 1, ∀i ∈ I\n",
            "\n",
            "3. Linking constraints:\n",
            "   If any item is packed into a box j (i.e., if x_ij = 1 for any i), then that box must be counted as used (y_j = 1).\n",
            "   \n",
            "   x_ij ≤ y_j, ∀i ∈ I, ∀j ∈ J\n",
            "\n",
            "4. Upper bound constraint:\n",
            "   The total number of boxes used should not exceed the upper bound M.\n",
            "   \n",
            "   ∑(j ∈ J) y_j ≤ M\n",
            "\n",
            "5. Binary restrictions:\n",
            "   The variables x_ij and y_j are binary, i.e., they can only take values 0 or 1.\n",
            "   \n",
            "   x_ij ∈ {0, 1}, ∀i ∈ I, ∀j ∈ J\n",
            "   y_j ∈ {0, 1}, ∀j ∈ J\n",
            "\n",
            "These constraints, along with the objective function to minimize the total number of boxes used, complete the formulation of the mathematical optimization model for the packing problem.\n"
          ]
        }
      ]
    },
    {
      "cell_type": "markdown",
      "source": [
        "# 2. Prompt 2: Write Code based on Mathematical Model\n",
        "\n",
        "In case more than the component of each step was generated, use \"last instance\"/ \"newest version\" of the components.\n",
        "\n",
        "Example:\n",
        "Prompt 1.1 (Variables): Model generates only variables\n",
        "Prompt 1.2 (Objectvie): Model generates objective and constraints\n",
        "Prompt 1.3 (Constraints): Model generates only constraints\n",
        "\n",
        "Use Variables from step 1.1, use objective from 1.2 and use constraints from 1.3 (since constraints version 1.3 is more recent than constraints version 1.2).\n",
        "\n",
        "This set up allows for potential self-correction of the model throughout the three prompts.\n",
        "\n",
        "Correctness of each component is still generated in the respective step, so self-correction is independent of this."
      ],
      "metadata": {
        "id": "WPZ6lgBO729j"
      }
    },
    {
      "cell_type": "code",
      "source": [
        "message2 = client.messages.create(\n",
        "    model=\"claude-3-opus-20240229\",\n",
        "    system=prompt2,\n",
        "    max_tokens=4069,\n",
        "    messages=[\n",
        "        {\"role\": \"user\", \"content\": (response_p11 + response_p12 + response_p13)}\n",
        "    ]\n",
        ")\n",
        "\n",
        "response_p2 = message2.content[0].text"
      ],
      "metadata": {
        "id": "1iUSgBda70FL"
      },
      "execution_count": 12,
      "outputs": []
    },
    {
      "cell_type": "code",
      "source": [
        "# Print response\n",
        "print(response_p2)"
      ],
      "metadata": {
        "colab": {
          "base_uri": "https://localhost:8080/"
        },
        "id": "o40mxc_H8eQ9",
        "outputId": "3842144f-4069-4fe1-8622-925ead129a79"
      },
      "execution_count": 13,
      "outputs": [
        {
          "output_type": "stream",
          "name": "stdout",
          "text": [
            "Great! Now that we have the complete mathematical optimization model, let's implement it in Python using the Pyomo library. Here's the code:\n",
            "\n",
            "```python\n",
            "from pyomo.environ import *\n",
            "\n",
            "# Define the model\n",
            "model = ConcreteModel()\n",
            "\n",
            "# Define the sets\n",
            "model.I = Set(initialize=['item1', 'item2', 'item3', 'item4', 'item5'])  # Set of items (sample data)\n",
            "model.J = Set(initialize=['box1', 'box2', 'box3'])  # Set of boxes (sample data)\n",
            "\n",
            "# Define the parameters\n",
            "model.w = Param(model.I, initialize={'item1': 5, 'item2': 3, 'item3': 2, 'item4': 4, 'item5': 1})  # Weight of items (sample data)\n",
            "model.C = Param(model.J, initialize={'box1': 10, 'box2': 8, 'box3': 6})  # Capacity of boxes (sample data)\n",
            "model.M = Param(initialize=3)  # Upper bound on the number of boxes (sample data)\n",
            "\n",
            "# Define the variables\n",
            "model.x = Var(model.I, model.J, domain=Binary)  # Binary variable for item-box assignment\n",
            "model.y = Var(model.J, domain=Binary)  # Binary variable for box usage\n",
            "\n",
            "# Define the objective function\n",
            "model.obj = Objective(expr=sum(model.y[j] for j in model.J), sense=minimize)\n",
            "\n",
            "# Define the constraints\n",
            "model.capacity = ConstraintList()\n",
            "for j in model.J:\n",
            "    model.capacity.add(sum(model.w[i] * model.x[i, j] for i in model.I) <= model.C[j] * model.y[j])\n",
            "\n",
            "model.assignment = ConstraintList()\n",
            "for i in model.I:\n",
            "    model.assignment.add(sum(model.x[i, j] for j in model.J) == 1)\n",
            "\n",
            "model.linking = ConstraintList()\n",
            "for i in model.I:\n",
            "    for j in model.J:\n",
            "        model.linking.add(model.x[i, j] <= model.y[j])\n",
            "\n",
            "model.upper_bound = Constraint(expr=sum(model.y[j] for j in model.J) <= model.M)\n",
            "\n",
            "# Solve the model\n",
            "solver = SolverFactory('glpk')  # You can use any solver available in Pyomo\n",
            "results = solver.solve(model)\n",
            "\n",
            "# Print the results\n",
            "print(\"Number of boxes used:\", value(model.obj))\n",
            "for j in model.J:\n",
            "    if value(model.y[j]) == 1:\n",
            "        print(\"Box\", j, \"is used.\")\n",
            "        for i in model.I:\n",
            "            if value(model.x[i, j]) == 1:\n",
            "                print(\"  Item\", i, \"is packed into box\", j)\n",
            "```\n",
            "\n",
            "In this code, we first define the model using `ConcreteModel()`. Then, we define the sets `I` and `J` for items and boxes, respectively. We also define the parameters `w`, `C`, and `M` using sample data.\n",
            "\n",
            "Next, we define the binary variables `x` and `y` for item-box assignment and box usage, respectively. We then define the objective function to minimize the total number of boxes used.\n",
            "\n",
            "After that, we define the constraints using `ConstraintList()`. The capacity constraints ensure that the total weight of items packed into each box does not exceed its capacity. The assignment constraints ensure that each item is packed into exactly one box. The linking constraints ensure that if any item is packed into a box, that box is counted as used. Finally, the upper bound constraint ensures that the total number of boxes used does not exceed the specified upper bound.\n",
            "\n",
            "We solve the model using the GLPK solver (you can use any solver available in Pyomo) and print the results, including the number of boxes used and the items packed into each used box.\n",
            "\n",
            "Note that this code uses sample data for the sets, parameters, and upper bound. You can replace them with your actual data as needed.\n"
          ]
        }
      ]
    },
    {
      "cell_type": "markdown",
      "source": [
        "# 4. Input Problem Data and Test Model Code"
      ],
      "metadata": {
        "id": "Pc0QqJuf8up_"
      }
    },
    {
      "cell_type": "code",
      "source": [
        "# Installing pyomo nd solver\n",
        "!pip install -q pyomo\n",
        "!pip install pandas\n",
        "!apt-get install -y -qq glpk-utils\n",
        "!pip install glpk"
      ],
      "metadata": {
        "colab": {
          "base_uri": "https://localhost:8080/"
        },
        "id": "3BtROuLu9O-p",
        "outputId": "4101462f-b0fa-4ab7-b1f4-04b25beff5d9",
        "collapsed": true
      },
      "execution_count": 14,
      "outputs": [
        {
          "output_type": "stream",
          "name": "stdout",
          "text": [
            "\u001b[2K     \u001b[90m━━━━━━━━━━━━━━━━━━━━━━━━━━━━━━━━━━━━━━━━\u001b[0m \u001b[32m12.8/12.8 MB\u001b[0m \u001b[31m15.2 MB/s\u001b[0m eta \u001b[36m0:00:00\u001b[0m\n",
            "\u001b[2K     \u001b[90m━━━━━━━━━━━━━━━━━━━━━━━━━━━━━━━━━━━━━━━━\u001b[0m \u001b[32m49.6/49.6 kB\u001b[0m \u001b[31m3.2 MB/s\u001b[0m eta \u001b[36m0:00:00\u001b[0m\n",
            "\u001b[?25hRequirement already satisfied: pandas in /usr/local/lib/python3.10/dist-packages (2.0.3)\n",
            "Requirement already satisfied: python-dateutil>=2.8.2 in /usr/local/lib/python3.10/dist-packages (from pandas) (2.8.2)\n",
            "Requirement already satisfied: pytz>=2020.1 in /usr/local/lib/python3.10/dist-packages (from pandas) (2023.4)\n",
            "Requirement already satisfied: tzdata>=2022.1 in /usr/local/lib/python3.10/dist-packages (from pandas) (2024.1)\n",
            "Requirement already satisfied: numpy>=1.21.0 in /usr/local/lib/python3.10/dist-packages (from pandas) (1.25.2)\n",
            "Requirement already satisfied: six>=1.5 in /usr/local/lib/python3.10/dist-packages (from python-dateutil>=2.8.2->pandas) (1.16.0)\n",
            "Selecting previously unselected package libsuitesparseconfig5:amd64.\n",
            "(Reading database ... 121918 files and directories currently installed.)\n",
            "Preparing to unpack .../libsuitesparseconfig5_1%3a5.10.1+dfsg-4build1_amd64.deb ...\n",
            "Unpacking libsuitesparseconfig5:amd64 (1:5.10.1+dfsg-4build1) ...\n",
            "Selecting previously unselected package libamd2:amd64.\n",
            "Preparing to unpack .../libamd2_1%3a5.10.1+dfsg-4build1_amd64.deb ...\n",
            "Unpacking libamd2:amd64 (1:5.10.1+dfsg-4build1) ...\n",
            "Selecting previously unselected package libcolamd2:amd64.\n",
            "Preparing to unpack .../libcolamd2_1%3a5.10.1+dfsg-4build1_amd64.deb ...\n",
            "Unpacking libcolamd2:amd64 (1:5.10.1+dfsg-4build1) ...\n",
            "Selecting previously unselected package libglpk40:amd64.\n",
            "Preparing to unpack .../libglpk40_5.0-1_amd64.deb ...\n",
            "Unpacking libglpk40:amd64 (5.0-1) ...\n",
            "Selecting previously unselected package glpk-utils.\n",
            "Preparing to unpack .../glpk-utils_5.0-1_amd64.deb ...\n",
            "Unpacking glpk-utils (5.0-1) ...\n",
            "Setting up libsuitesparseconfig5:amd64 (1:5.10.1+dfsg-4build1) ...\n",
            "Setting up libamd2:amd64 (1:5.10.1+dfsg-4build1) ...\n",
            "Setting up libcolamd2:amd64 (1:5.10.1+dfsg-4build1) ...\n",
            "Setting up libglpk40:amd64 (5.0-1) ...\n",
            "Setting up glpk-utils (5.0-1) ...\n",
            "Processing triggers for man-db (2.10.2-1) ...\n",
            "Processing triggers for libc-bin (2.35-0ubuntu3.4) ...\n",
            "/sbin/ldconfig.real: /usr/local/lib/libtbbmalloc.so.2 is not a symbolic link\n",
            "\n",
            "/sbin/ldconfig.real: /usr/local/lib/libtbbbind_2_5.so.3 is not a symbolic link\n",
            "\n",
            "/sbin/ldconfig.real: /usr/local/lib/libtbb.so.12 is not a symbolic link\n",
            "\n",
            "/sbin/ldconfig.real: /usr/local/lib/libtbbmalloc_proxy.so.2 is not a symbolic link\n",
            "\n",
            "/sbin/ldconfig.real: /usr/local/lib/libtbbbind.so.3 is not a symbolic link\n",
            "\n",
            "/sbin/ldconfig.real: /usr/local/lib/libtbbbind_2_0.so.3 is not a symbolic link\n",
            "\n",
            "Collecting glpk\n",
            "  Downloading glpk-0.4.7.tar.gz (161 kB)\n",
            "\u001b[2K     \u001b[90m━━━━━━━━━━━━━━━━━━━━━━━━━━━━━━━━━━━━━━━━\u001b[0m \u001b[32m161.2/161.2 kB\u001b[0m \u001b[31m1.9 MB/s\u001b[0m eta \u001b[36m0:00:00\u001b[0m\n",
            "\u001b[?25h  Installing build dependencies ... \u001b[?25l\u001b[?25hdone\n",
            "  Getting requirements to build wheel ... \u001b[?25l\u001b[?25hdone\n",
            "  Preparing metadata (pyproject.toml) ... \u001b[?25l\u001b[?25hdone\n",
            "Building wheels for collected packages: glpk\n",
            "  \u001b[1;31merror\u001b[0m: \u001b[1msubprocess-exited-with-error\u001b[0m\n",
            "  \n",
            "  \u001b[31m×\u001b[0m \u001b[32mBuilding wheel for glpk \u001b[0m\u001b[1;32m(\u001b[0m\u001b[32mpyproject.toml\u001b[0m\u001b[1;32m)\u001b[0m did not run successfully.\n",
            "  \u001b[31m│\u001b[0m exit code: \u001b[1;36m1\u001b[0m\n",
            "  \u001b[31m╰─>\u001b[0m See above for output.\n",
            "  \n",
            "  \u001b[1;35mnote\u001b[0m: This error originates from a subprocess, and is likely not a problem with pip.\n",
            "  Building wheel for glpk (pyproject.toml) ... \u001b[?25l\u001b[?25herror\n",
            "\u001b[31m  ERROR: Failed building wheel for glpk\u001b[0m\u001b[31m\n",
            "\u001b[0mFailed to build glpk\n",
            "\u001b[31mERROR: Could not build wheels for glpk, which is required to install pyproject.toml-based projects\u001b[0m\u001b[31m\n",
            "\u001b[0m"
          ]
        }
      ]
    },
    {
      "cell_type": "code",
      "source": [
        "from pyomo.environ import *\n",
        "\n",
        "# Define the model\n",
        "model = ConcreteModel()\n",
        "\n",
        "# Define the sets\n",
        "model.I = Set(initialize=['item1', 'item2', 'item3', 'item4', 'item5', 'item6', 'item7', 'item8', 'item9', 'item10', 'item11', 'item12', 'item13', 'item14', 'item15', 'item16', 'item17', 'item18', 'item19', 'item20', 'item21', 'item22', 'item23', 'item24'])  # Set of items (sample data)\n",
        "model.J = Set(initialize=['box1', 'box2', 'box3', 'box4', 'box5', 'box6', 'box7', 'box8', 'box9', 'box10', 'box11', 'box12', 'box13'])  # Set of boxes (sample data)\n",
        "\n",
        "weights = [2, 2, 2, 2, 3, 3, 4, 4, 4, 4, 4, 4, 5, 5, 5, 5, 5, 5, 6, 6, 7, 7, 8, 8]\n",
        "capacity = 9\n",
        "\n",
        "# Define the parameters\n",
        "model.w = Param(model.I, initialize={model.I[i+1]: weights[i] for i in range(len(model.I))})  # Weight of items (sample data)\n",
        "model.C = Param(model.J, initialize={model.J[j+1]: capacity for j in range(len(model.J))})  # Capacity of boxes (sample data)\n",
        "model.M = Param(initialize=13)  # Upper bound on the number of boxes (sample data)\n",
        "\n",
        "# Define the variables\n",
        "model.x = Var(model.I, model.J, domain=Binary)  # Binary variable for item-box assignment\n",
        "model.y = Var(model.J, domain=Binary)  # Binary variable for box usage\n",
        "\n",
        "# Define the objective function\n",
        "model.obj = Objective(expr=sum(model.y[j] for j in model.J), sense=minimize)\n",
        "\n",
        "# Define the constraints\n",
        "model.capacity = ConstraintList()\n",
        "for j in model.J:\n",
        "    model.capacity.add(sum(model.w[i] * model.x[i, j] for i in model.I) <= model.C[j] * model.y[j])\n",
        "\n",
        "model.assignment = ConstraintList()\n",
        "for i in model.I:\n",
        "    model.assignment.add(sum(model.x[i, j] for j in model.J) == 1)\n",
        "\n",
        "model.linking = ConstraintList()\n",
        "for i in model.I:\n",
        "    for j in model.J:\n",
        "        model.linking.add(model.x[i, j] <= model.y[j])\n",
        "\n",
        "model.upper_bound = Constraint(expr=sum(model.y[j] for j in model.J) <= model.M)\n",
        "\n",
        "# Solve the model\n",
        "solver = SolverFactory('glpk')  # You can use any solver available in Pyomo\n",
        "results = solver.solve(model)\n",
        "\n",
        "# Print the results\n",
        "print(\"Number of boxes used:\", value(model.obj))\n",
        "for j in model.J:\n",
        "    if value(model.y[j]) == 1:\n",
        "        print(\"Box\", j, \"is used.\")\n",
        "        for i in model.I:\n",
        "            if value(model.x[i, j]) == 1:\n",
        "                print(\"  Item\", i, \"is packed into box\", j)"
      ],
      "metadata": {
        "colab": {
          "base_uri": "https://localhost:8080/"
        },
        "id": "8FpHcuWU8rQ2",
        "outputId": "2da4662a-9f5a-426c-860f-8c869bc9b1af"
      },
      "execution_count": 16,
      "outputs": [
        {
          "output_type": "stream",
          "name": "stderr",
          "text": [
            "WARNING:pyomo.core.base.set:DEPRECATED: Using __getitem__ to return a set value from its (ordered)\n",
            "position is deprecated.  Please use at()  (deprecated in 6.1, will be\n",
            "removed in (or after) 7.0)\n",
            "(called from <ipython-input-16-0335ef172d72>:14)\n",
            "WARNING:pyomo.core.base.set:DEPRECATED: Using __getitem__ to return a set value from its (ordered)\n",
            "position is deprecated.  Please use at()  (deprecated in 6.1, will be\n",
            "removed in (or after) 7.0)\n",
            "(called from <ipython-input-16-0335ef172d72>:15)\n"
          ]
        },
        {
          "output_type": "stream",
          "name": "stdout",
          "text": [
            "Number of boxes used: 13.0\n",
            "Box box1 is used.\n",
            "  Item item23 is packed into box box1\n",
            "Box box2 is used.\n",
            "  Item item24 is packed into box box2\n",
            "Box box3 is used.\n",
            "  Item item2 is packed into box box3\n",
            "  Item item21 is packed into box box3\n",
            "Box box4 is used.\n",
            "  Item item10 is packed into box box4\n",
            "  Item item17 is packed into box box4\n",
            "Box box5 is used.\n",
            "  Item item7 is packed into box box5\n",
            "  Item item16 is packed into box box5\n",
            "Box box6 is used.\n",
            "  Item item9 is packed into box box6\n",
            "  Item item13 is packed into box box6\n",
            "Box box7 is used.\n",
            "  Item item11 is packed into box box7\n",
            "  Item item15 is packed into box box7\n",
            "Box box8 is used.\n",
            "  Item item3 is packed into box box8\n",
            "  Item item19 is packed into box box8\n",
            "Box box9 is used.\n",
            "  Item item5 is packed into box box9\n",
            "  Item item14 is packed into box box9\n",
            "Box box10 is used.\n",
            "  Item item4 is packed into box box10\n",
            "  Item item22 is packed into box box10\n",
            "Box box11 is used.\n",
            "  Item item8 is packed into box box11\n",
            "  Item item12 is packed into box box11\n",
            "Box box12 is used.\n",
            "  Item item1 is packed into box box12\n",
            "  Item item20 is packed into box box12\n",
            "Box box13 is used.\n",
            "  Item item6 is packed into box box13\n",
            "  Item item18 is packed into box box13\n"
          ]
        }
      ]
    },
    {
      "cell_type": "code",
      "source": [
        "bins = {'box1': [], 'box2': [], 'box3': [], 'box4': [], 'box5': [], 'box6': [], 'box7': [], 'box8': [], 'box9': [], 'box10': [], 'box11': [], 'box12': [], 'box13': []}\n",
        "for (i,j) in model.x:\n",
        "  if value(model.x[i,j])> .5:\n",
        "    bins[j].append(model.w[i])\n",
        "\n",
        "print(\"Bin Division:\", bins)"
      ],
      "metadata": {
        "colab": {
          "base_uri": "https://localhost:8080/"
        },
        "id": "iIPH6LHgL8OM",
        "outputId": "64b8261c-aa40-4510-fa09-510554bad02a"
      },
      "execution_count": 17,
      "outputs": [
        {
          "output_type": "stream",
          "name": "stdout",
          "text": [
            "Bin Division: {'box1': [8], 'box2': [8], 'box3': [2, 7], 'box4': [4, 5], 'box5': [4, 5], 'box6': [4, 5], 'box7': [4, 5], 'box8': [2, 6], 'box9': [3, 5], 'box10': [2, 7], 'box11': [4, 4], 'box12': [2, 6], 'box13': [3, 5]}\n"
          ]
        }
      ]
    },
    {
      "cell_type": "markdown",
      "source": [
        "# 5. Correct The Model Code to Test Mathematical Model (if applicable)"
      ],
      "metadata": {
        "id": "KHTyoLQTWZVy"
      }
    },
    {
      "cell_type": "code",
      "source": [],
      "metadata": {
        "id": "REJzqhR6WYvM"
      },
      "execution_count": 16,
      "outputs": []
    },
    {
      "cell_type": "code",
      "source": [],
      "metadata": {
        "id": "bPJ_54384nR_"
      },
      "execution_count": 16,
      "outputs": []
    }
  ]
}