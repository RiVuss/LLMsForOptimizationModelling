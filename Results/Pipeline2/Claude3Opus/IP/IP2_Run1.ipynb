{
  "nbformat": 4,
  "nbformat_minor": 0,
  "metadata": {
    "colab": {
      "provenance": []
    },
    "kernelspec": {
      "name": "python3",
      "display_name": "Python 3"
    },
    "language_info": {
      "name": "python"
    }
  },
  "cells": [
    {
      "cell_type": "markdown",
      "source": [
        "# 0. Imports and Setting up Anthropic API Client"
      ],
      "metadata": {
        "id": "y5fw0lkBwBbo"
      }
    },
    {
      "cell_type": "code",
      "source": [
        "from google.colab import drive\n",
        "\n",
        "drive.mount('/content/drive')"
      ],
      "metadata": {
        "colab": {
          "base_uri": "https://localhost:8080/"
        },
        "id": "e7tWOLo0yMoH",
        "outputId": "e0c46904-f373-4787-88d8-51ef15f14920"
      },
      "execution_count": 18,
      "outputs": [
        {
          "output_type": "stream",
          "name": "stdout",
          "text": [
            "Drive already mounted at /content/drive; to attempt to forcibly remount, call drive.mount(\"/content/drive\", force_remount=True).\n"
          ]
        }
      ]
    },
    {
      "cell_type": "code",
      "source": [
        "!pip install python-dotenv\n",
        "\n",
        "import os\n",
        "import dotenv\n",
        "\n",
        "dotenv.load_dotenv('/content/drive/MyDrive/.env')"
      ],
      "metadata": {
        "colab": {
          "base_uri": "https://localhost:8080/"
        },
        "id": "utcEK8lZ1Z1R",
        "outputId": "9720c984-f081-41a0-a4b2-eadfb9554e61"
      },
      "execution_count": 2,
      "outputs": [
        {
          "output_type": "stream",
          "name": "stdout",
          "text": [
            "Collecting python-dotenv\n",
            "  Downloading python_dotenv-1.0.1-py3-none-any.whl (19 kB)\n",
            "Installing collected packages: python-dotenv\n",
            "Successfully installed python-dotenv-1.0.1\n"
          ]
        },
        {
          "output_type": "execute_result",
          "data": {
            "text/plain": [
              "True"
            ]
          },
          "metadata": {},
          "execution_count": 2
        }
      ]
    },
    {
      "cell_type": "code",
      "source": [
        "# Load Prompts and Problem Description\n",
        "# Variables Prompt\n",
        "prompt11_path = '/content/drive/MyDrive/Thesis/Prompts/Prompt11_MathematicalModel.txt'\n",
        "\n",
        "# Objective Prompt\n",
        "prompt12_path = '/content/drive/MyDrive/Thesis/Prompts/Prompt12_MathematicalModel.txt'\n",
        "\n",
        "# Constraint Prompt\n",
        "prompt13_path = '/content/drive/MyDrive/Thesis/Prompts/Prompt13_MathematicalModel.txt'\n",
        "\n",
        "# Code Prompt\n",
        "prompt2_path = '/content/drive/MyDrive/Thesis/Prompts/Prompt2_PyomoCode.txt'\n",
        "problem_desc_path = '/content/drive/MyDrive/Thesis/ProblemDescriptions/IP/IP2.txt'\n",
        "\n",
        "prompt11_file = open(prompt11_path, \"r\")\n",
        "prompt12_file = open(prompt12_path, \"r\")\n",
        "prompt13_file = open(prompt13_path, \"r\")\n",
        "prompt2_file = open(prompt2_path, \"r\")\n",
        "problem_desc_file = open(problem_desc_path, \"r\")\n",
        "\n",
        "prompt11 = prompt11_file.read()\n",
        "print(\"Prompt 1.1 (Variables):\\n\", prompt11)\n",
        "\n",
        "prompt12 = prompt12_file.read()\n",
        "print(\"Prompt 1.2 (Objctive):\\n\", prompt12)\n",
        "\n",
        "prompt13 = prompt13_file.read()\n",
        "print(\"Prompt 1.3 (Constraints):\\n\", prompt13)\n",
        "\n",
        "prompt2 = prompt2_file.read()\n",
        "print(\"Prompt 2:\\n\", prompt2)\n",
        "\n",
        "problem_desc = problem_desc_file.read()\n",
        "print(\"Problem Description:\\n\", problem_desc)"
      ],
      "metadata": {
        "colab": {
          "base_uri": "https://localhost:8080/"
        },
        "id": "9KlkjwMUS4xp",
        "outputId": "3c78dd5f-9d6e-48fd-c142-b7b8ba9c2c87"
      },
      "execution_count": 3,
      "outputs": [
        {
          "output_type": "stream",
          "name": "stdout",
          "text": [
            "Prompt 1.1 (Variables):\n",
            " Please formulate only the variables for this mathematical optimization problem. \n",
            "Prompt 1.2 (Objctive):\n",
            " Please formulate only the objective function for this mathematical optimization problem. \n",
            "Prompt 1.3 (Constraints):\n",
            " Please formulate only the constraints for this mathematical optimization problem. \n",
            "Prompt 2:\n",
            " Please write a python pyomo code for this optimization problem.\n",
            "Use sample data where needed.\n",
            "Indicate where you use sample data.\n",
            "Problem Description:\n",
            " Your goal is to invest in several of 10 possible investment strategies in the most optimal way. The historic returns of those strategies are stored in the file \"investments_data.csv\". Each column represents one strategy and the rows are the past investment outcomes. There is no index and the values are separated by a ;.\n",
            "\n",
            "The costs for investing in a given investment is stored in a vector A, which has one value for each strategy in order.  \n",
            "The values are: [80, 340, 410, 50, 180, 221, 15, 348, 191, 225]\n",
            "\n",
            "You can only invest once into an investment. \n",
            "\n",
            "Unfortunately due to other costs and inflation, your available budget at this time is uncertain. There are four possible budget scenarios with different probabilities: scenario 1 with 1000 euros and probability of 0.55, scenario 2  with 1100 euros and probability of 0.4, scenario 3 with 900 euros and probability of 0.04, scenario 4 with 1200 euros and probability of 0.01. \n",
            "The tolerable probability of exceeding the budget is 0.4.\n",
            "\n",
            "Please formulate a mean-variance mathematical model for this optimization problem, considering the past performance of investment strategies and the uncertain budget. You can take 2 as the risk parameter r.\n"
          ]
        }
      ]
    },
    {
      "cell_type": "code",
      "source": [
        "!pip install anthropic"
      ],
      "metadata": {
        "colab": {
          "base_uri": "https://localhost:8080/"
        },
        "id": "iWlNsTIvxCcR",
        "outputId": "7cab782f-0a24-4777-b24b-e0479e99273d",
        "collapsed": true
      },
      "execution_count": 4,
      "outputs": [
        {
          "output_type": "stream",
          "name": "stdout",
          "text": [
            "Collecting anthropic\n",
            "  Downloading anthropic-0.28.0-py3-none-any.whl (862 kB)\n",
            "\u001b[2K     \u001b[90m━━━━━━━━━━━━━━━━━━━━━━━━━━━━━━━━━━━━━━━━\u001b[0m \u001b[32m862.7/862.7 kB\u001b[0m \u001b[31m6.7 MB/s\u001b[0m eta \u001b[36m0:00:00\u001b[0m\n",
            "\u001b[?25hRequirement already satisfied: anyio<5,>=3.5.0 in /usr/local/lib/python3.10/dist-packages (from anthropic) (3.7.1)\n",
            "Requirement already satisfied: distro<2,>=1.7.0 in /usr/lib/python3/dist-packages (from anthropic) (1.7.0)\n",
            "Collecting httpx<1,>=0.23.0 (from anthropic)\n",
            "  Downloading httpx-0.27.0-py3-none-any.whl (75 kB)\n",
            "\u001b[2K     \u001b[90m━━━━━━━━━━━━━━━━━━━━━━━━━━━━━━━━━━━━━━━━\u001b[0m \u001b[32m75.6/75.6 kB\u001b[0m \u001b[31m9.7 MB/s\u001b[0m eta \u001b[36m0:00:00\u001b[0m\n",
            "\u001b[?25hCollecting jiter<1,>=0.4.0 (from anthropic)\n",
            "  Downloading jiter-0.4.1-cp310-cp310-manylinux_2_17_x86_64.manylinux2014_x86_64.whl (328 kB)\n",
            "\u001b[2K     \u001b[90m━━━━━━━━━━━━━━━━━━━━━━━━━━━━━━━━━━━━━━━━\u001b[0m \u001b[32m328.3/328.3 kB\u001b[0m \u001b[31m10.9 MB/s\u001b[0m eta \u001b[36m0:00:00\u001b[0m\n",
            "\u001b[?25hRequirement already satisfied: pydantic<3,>=1.9.0 in /usr/local/lib/python3.10/dist-packages (from anthropic) (2.7.2)\n",
            "Requirement already satisfied: sniffio in /usr/local/lib/python3.10/dist-packages (from anthropic) (1.3.1)\n",
            "Requirement already satisfied: tokenizers>=0.13.0 in /usr/local/lib/python3.10/dist-packages (from anthropic) (0.19.1)\n",
            "Requirement already satisfied: typing-extensions<5,>=4.7 in /usr/local/lib/python3.10/dist-packages (from anthropic) (4.12.0)\n",
            "Requirement already satisfied: idna>=2.8 in /usr/local/lib/python3.10/dist-packages (from anyio<5,>=3.5.0->anthropic) (3.7)\n",
            "Requirement already satisfied: exceptiongroup in /usr/local/lib/python3.10/dist-packages (from anyio<5,>=3.5.0->anthropic) (1.2.1)\n",
            "Requirement already satisfied: certifi in /usr/local/lib/python3.10/dist-packages (from httpx<1,>=0.23.0->anthropic) (2024.2.2)\n",
            "Collecting httpcore==1.* (from httpx<1,>=0.23.0->anthropic)\n",
            "  Downloading httpcore-1.0.5-py3-none-any.whl (77 kB)\n",
            "\u001b[2K     \u001b[90m━━━━━━━━━━━━━━━━━━━━━━━━━━━━━━━━━━━━━━━━\u001b[0m \u001b[32m77.9/77.9 kB\u001b[0m \u001b[31m8.6 MB/s\u001b[0m eta \u001b[36m0:00:00\u001b[0m\n",
            "\u001b[?25hCollecting h11<0.15,>=0.13 (from httpcore==1.*->httpx<1,>=0.23.0->anthropic)\n",
            "  Downloading h11-0.14.0-py3-none-any.whl (58 kB)\n",
            "\u001b[2K     \u001b[90m━━━━━━━━━━━━━━━━━━━━━━━━━━━━━━━━━━━━━━━━\u001b[0m \u001b[32m58.3/58.3 kB\u001b[0m \u001b[31m5.5 MB/s\u001b[0m eta \u001b[36m0:00:00\u001b[0m\n",
            "\u001b[?25hRequirement already satisfied: annotated-types>=0.4.0 in /usr/local/lib/python3.10/dist-packages (from pydantic<3,>=1.9.0->anthropic) (0.7.0)\n",
            "Requirement already satisfied: pydantic-core==2.18.3 in /usr/local/lib/python3.10/dist-packages (from pydantic<3,>=1.9.0->anthropic) (2.18.3)\n",
            "Requirement already satisfied: huggingface-hub<1.0,>=0.16.4 in /usr/local/lib/python3.10/dist-packages (from tokenizers>=0.13.0->anthropic) (0.23.2)\n",
            "Requirement already satisfied: filelock in /usr/local/lib/python3.10/dist-packages (from huggingface-hub<1.0,>=0.16.4->tokenizers>=0.13.0->anthropic) (3.14.0)\n",
            "Requirement already satisfied: fsspec>=2023.5.0 in /usr/local/lib/python3.10/dist-packages (from huggingface-hub<1.0,>=0.16.4->tokenizers>=0.13.0->anthropic) (2023.6.0)\n",
            "Requirement already satisfied: packaging>=20.9 in /usr/local/lib/python3.10/dist-packages (from huggingface-hub<1.0,>=0.16.4->tokenizers>=0.13.0->anthropic) (24.0)\n",
            "Requirement already satisfied: pyyaml>=5.1 in /usr/local/lib/python3.10/dist-packages (from huggingface-hub<1.0,>=0.16.4->tokenizers>=0.13.0->anthropic) (6.0.1)\n",
            "Requirement already satisfied: requests in /usr/local/lib/python3.10/dist-packages (from huggingface-hub<1.0,>=0.16.4->tokenizers>=0.13.0->anthropic) (2.31.0)\n",
            "Requirement already satisfied: tqdm>=4.42.1 in /usr/local/lib/python3.10/dist-packages (from huggingface-hub<1.0,>=0.16.4->tokenizers>=0.13.0->anthropic) (4.66.4)\n",
            "Requirement already satisfied: charset-normalizer<4,>=2 in /usr/local/lib/python3.10/dist-packages (from requests->huggingface-hub<1.0,>=0.16.4->tokenizers>=0.13.0->anthropic) (3.3.2)\n",
            "Requirement already satisfied: urllib3<3,>=1.21.1 in /usr/local/lib/python3.10/dist-packages (from requests->huggingface-hub<1.0,>=0.16.4->tokenizers>=0.13.0->anthropic) (2.0.7)\n",
            "Installing collected packages: jiter, h11, httpcore, httpx, anthropic\n",
            "Successfully installed anthropic-0.28.0 h11-0.14.0 httpcore-1.0.5 httpx-0.27.0 jiter-0.4.1\n"
          ]
        }
      ]
    },
    {
      "cell_type": "code",
      "execution_count": 5,
      "metadata": {
        "id": "7Qjk2D63v1Bl"
      },
      "outputs": [],
      "source": [
        "# Importing Anthropic & Setting Headers\n",
        "import anthropic\n",
        "\n",
        "client = anthropic.Anthropic(\n",
        "    # defaults to os.environ.get(\"ANTHROPIC_API_KEY\")\n",
        "    api_key=os.environ.get(\"ANTHROPIC_API_KEY\"),\n",
        ")"
      ]
    },
    {
      "cell_type": "markdown",
      "source": [
        "# 1. Prompt 1.1: Create Variables for Mathematical Model"
      ],
      "metadata": {
        "id": "kT7yKbJs18XR"
      }
    },
    {
      "cell_type": "code",
      "source": [
        "message11 = client.messages.create(\n",
        "    model=\"claude-3-opus-20240229\",\n",
        "    system=prompt11,\n",
        "    max_tokens=4096,\n",
        "    messages=[\n",
        "        {\"role\": \"user\", \"content\": problem_desc}\n",
        "    ]\n",
        ")\n",
        "\n",
        "response_p11 = message11.content[0].text"
      ],
      "metadata": {
        "id": "R_6X0axq16D4"
      },
      "execution_count": 6,
      "outputs": []
    },
    {
      "cell_type": "code",
      "source": [
        "# Print response\n",
        "print(response_p11)"
      ],
      "metadata": {
        "colab": {
          "base_uri": "https://localhost:8080/"
        },
        "id": "Ra9Ox_PI38jg",
        "outputId": "9c2db792-3458-4716-f258-9dcd9682a188"
      },
      "execution_count": 7,
      "outputs": [
        {
          "output_type": "stream",
          "name": "stdout",
          "text": [
            "Here are the variables for the mathematical optimization problem:\n",
            "\n",
            "Decision variables:\n",
            "x_j - binary variable indicating whether to invest in strategy j (x_j = 1) or not (x_j = 0), for j = 1, ..., 10\n",
            "\n",
            "Parameters:\n",
            "r_ij - historic return of strategy j in period i, for i = 1, ..., m (number of past periods), j = 1, ..., 10\n",
            "A_j - cost of investing in strategy j, for j = 1, ..., 10\n",
            "B_k - available budget in scenario k, for k = 1, ..., 4 \n",
            "p_k - probability of budget scenario k occurring, for k = 1, ..., 4\n",
            "r - risk parameter, set to 2\n",
            "α - tolerable probability of exceeding the budget, set to 0.4\n",
            "\n",
            "Auxiliary variables:\n",
            "y_k - binary variable indicating whether the budget is exceeded (y_k = 1) or not (y_k = 0) in scenario k, for k = 1, ..., 4\n",
            "μ_j - mean historic return of strategy j, for j = 1, ..., 10\n",
            "σ_j - standard deviation of historic returns for strategy j, for j = 1, ..., 10\n"
          ]
        }
      ]
    },
    {
      "cell_type": "markdown",
      "source": [
        "# 1. Prompt 1.2: Create Objective for Mathematical Model"
      ],
      "metadata": {
        "id": "nbt6yH1snBQL"
      }
    },
    {
      "cell_type": "code",
      "source": [
        "message12 = client.messages.create(\n",
        "    model=\"claude-3-opus-20240229\",\n",
        "    system=prompt12,\n",
        "    max_tokens=4096,\n",
        "    messages=[\n",
        "        {\"role\": \"user\", \"content\": (problem_desc + response_p11)}\n",
        "    ]\n",
        ")\n",
        "\n",
        "response_p12 = message12.content[0].text"
      ],
      "metadata": {
        "id": "ol4rtt_MnAy8"
      },
      "execution_count": 8,
      "outputs": []
    },
    {
      "cell_type": "code",
      "source": [
        "# Print response\n",
        "print(response_p12)"
      ],
      "metadata": {
        "colab": {
          "base_uri": "https://localhost:8080/"
        },
        "id": "Vz2F_EARnzHf",
        "outputId": "b2ab0c0c-d7a2-4338-da3b-046541fe4467"
      },
      "execution_count": 9,
      "outputs": [
        {
          "output_type": "stream",
          "name": "stdout",
          "text": [
            "Based on the provided information, here is the mean-variance mathematical model for the investment optimization problem, considering the past performance of investment strategies and the uncertain budget:\n",
            "\n",
            "Objective function:\n",
            "Maximize ∑(j=1 to 10) μ_j * x_j - r * ∑(j=1 to 10) σ_j * x_j\n",
            "\n",
            "Subject to:\n",
            "\n",
            "Budget constraint for each scenario k:\n",
            "∑(j=1 to 10) A_j * x_j - B_k * y_k ≤ B_k, for k = 1, ..., 4\n",
            "\n",
            "Probability constraint for exceeding the budget:\n",
            "∑(k=1 to 4) p_k * y_k ≤ α\n",
            "\n",
            "Binary variable constraints:\n",
            "x_j ∈ {0, 1}, for j = 1, ..., 10\n",
            "y_k ∈ {0, 1}, for k = 1, ..., 4\n",
            "\n",
            "where:\n",
            "μ_j = (1/m) * ∑(i=1 to m) r_ij, for j = 1, ..., 10\n",
            "σ_j = sqrt((1/m) * ∑(i=1 to m) (r_ij - μ_j)^2), for j = 1, ..., 10\n",
            "\n",
            "The objective function aims to maximize the expected return of the selected investment strategies while minimizing the risk, which is represented by the standard deviation of the returns. The risk parameter r determines the trade-off between maximizing returns and minimizing risk.\n",
            "\n",
            "The budget constraints ensure that the total cost of the selected investment strategies does not exceed the available budget in each scenario. If the budget is exceeded in a scenario, the corresponding binary variable y_k is set to 1.\n",
            "\n",
            "The probability constraint limits the probability of exceeding the budget across all scenarios to the tolerable level α.\n",
            "\n",
            "The binary variable constraints ensure that the decision variables x_j and y_k can only take values of 0 or 1.\n",
            "\n",
            "The mean historic return μ_j and the standard deviation of historic returns σ_j are calculated based on the past performance data provided in the \"investments_data.csv\" file.\n"
          ]
        }
      ]
    },
    {
      "cell_type": "markdown",
      "source": [
        "# 1. Prompt 1.3: Create Constraints for Mathematical Model\n"
      ],
      "metadata": {
        "id": "Wzf33DwvnEar"
      }
    },
    {
      "cell_type": "code",
      "source": [
        "message13 = client.messages.create(\n",
        "    model=\"claude-3-opus-20240229\",\n",
        "    system=prompt13,\n",
        "    max_tokens=4096,\n",
        "    messages=[\n",
        "        {\"role\": \"user\", \"content\": (problem_desc + response_p11 + response_p12)}\n",
        "    ]\n",
        ")\n",
        "\n",
        "response_p13 = message13.content[0].text"
      ],
      "metadata": {
        "id": "l1UAJRt7nENG"
      },
      "execution_count": 10,
      "outputs": []
    },
    {
      "cell_type": "code",
      "source": [
        "# Print response\n",
        "print(response_p13)"
      ],
      "metadata": {
        "colab": {
          "base_uri": "https://localhost:8080/"
        },
        "id": "vH7Ff9mxn4FZ",
        "outputId": "24e691fb-4559-434b-b79b-9775286d356d"
      },
      "execution_count": 11,
      "outputs": [
        {
          "output_type": "stream",
          "name": "stdout",
          "text": [
            "Thank you for providing the detailed problem description and the variables. Here are the constraints for the mean-variance mathematical optimization problem:\n",
            "\n",
            "1. Budget constraint for each scenario k:\n",
            "∑(j=1 to 10) A_j * x_j ≤ B_k + M * y_k, for k = 1, ..., 4\n",
            "\n",
            "where M is a large positive number (Big M method) to ensure that if y_k = 1, the budget constraint is relaxed for scenario k.\n",
            "\n",
            "2. Probability constraint for exceeding the budget:\n",
            "∑(k=1 to 4) p_k * y_k ≤ α\n",
            "\n",
            "3. Binary variable constraints:\n",
            "x_j ∈ {0, 1}, for j = 1, ..., 10\n",
            "y_k ∈ {0, 1}, for k = 1, ..., 4\n",
            "\n",
            "4. Investment constraint (invest only once in each strategy):\n",
            "x_j ≤ 1, for j = 1, ..., 10\n",
            "\n",
            "Note: The mean historic return μ_j and the standard deviation of historic returns σ_j should be pre-calculated based on the data in the \"investments_data.csv\" file using the following formulas:\n",
            "\n",
            "μ_j = (1/m) * ∑(i=1 to m) r_ij, for j = 1, ..., 10\n",
            "σ_j = sqrt((1/m) * ∑(i=1 to m) (r_ij - μ_j)^2), for j = 1, ..., 10\n",
            "\n",
            "where m is the number of past periods (rows) in the data file.\n",
            "\n",
            "These constraints, along with the objective function you mentioned, form the complete mean-variance mathematical optimization problem for the given investment problem with uncertain budget.\n"
          ]
        }
      ]
    },
    {
      "cell_type": "markdown",
      "source": [
        "# 2. Prompt 2: Write Code based on Mathematical Model\n",
        "\n",
        "In case more than the component of each step was generated, use \"last instance\"/ \"newest version\" of the components.\n",
        "\n",
        "Example:\n",
        "Prompt 1.1 (Variables): Model generates only variables\n",
        "Prompt 1.2 (Objectvie): Model generates objective and constraints\n",
        "Prompt 1.3 (Constraints): Model generates only constraints\n",
        "\n",
        "Use Variables from step 1.1, use objective from 1.2 and use constraints from 1.3 (since constraints version 1.3 is more recent than constraints version 1.2).\n",
        "\n",
        "This set up allows for potential self-correction of the model throughout the three prompts.\n",
        "\n",
        "Correctness of each component is still generated in the respective step, so self-correction is independent of this."
      ],
      "metadata": {
        "id": "WPZ6lgBO729j"
      }
    },
    {
      "cell_type": "code",
      "source": [
        "# Extract objective related answer part from response two\n",
        "response_p12_adjusted = \"\"\"\n",
        "Based on the provided information, here is the mean-variance mathematical model for the investment optimization problem, considering the past performance of investment strategies and the uncertain budget:\n",
        "\n",
        "Objective function:\n",
        "Maximize ∑(j=1 to 10) μ_j * x_j - r * ∑(j=1 to 10) σ_j * x_j\n",
        "\n",
        "where:\n",
        "μ_j = (1/m) * ∑(i=1 to m) r_ij, for j = 1, ..., 10\n",
        "σ_j = sqrt((1/m) * ∑(i=1 to m) (r_ij - μ_j)^2), for j = 1, ..., 10\n",
        "\n",
        "The objective function aims to maximize the expected return of the selected investment strategies while minimizing the risk, which is represented by the standard deviation of the returns. The risk parameter r determines the trade-off between maximizing returns and minimizing risk.\n",
        "\n",
        "The mean historic return μ_j and the standard deviation of historic returns σ_j are calculated based on the past performance data provided in the \"investments_data.csv\" file.\n",
        "\"\"\"\n"
      ],
      "metadata": {
        "id": "MN8nSG5NT4i6"
      },
      "execution_count": 14,
      "outputs": []
    },
    {
      "cell_type": "code",
      "source": [
        "message2 = client.messages.create(\n",
        "    model=\"claude-3-opus-20240229\",\n",
        "    system=prompt2,\n",
        "    max_tokens=4069,\n",
        "    messages=[\n",
        "        {\"role\": \"user\", \"content\": (response_p11 + response_p12_adjusted + response_p13)}\n",
        "    ]\n",
        ")\n",
        "\n",
        "response_p2 = message2.content[0].text"
      ],
      "metadata": {
        "id": "1iUSgBda70FL"
      },
      "execution_count": 15,
      "outputs": []
    },
    {
      "cell_type": "code",
      "source": [
        "# Print response\n",
        "print(response_p2)"
      ],
      "metadata": {
        "colab": {
          "base_uri": "https://localhost:8080/"
        },
        "id": "o40mxc_H8eQ9",
        "outputId": "be6fa93e-1ef0-4505-c06b-3cf17e9ecd5d"
      },
      "execution_count": 16,
      "outputs": [
        {
          "output_type": "stream",
          "name": "stdout",
          "text": [
            "Here's the Python Pyomo code for the investment optimization problem with the given mean-variance mathematical model and uncertain budget:\n",
            "\n",
            "```python\n",
            "import pyomo.environ as pyo\n",
            "import numpy as np\n",
            "import pandas as pd\n",
            "\n",
            "# Read investment data from CSV file\n",
            "data = pd.read_csv(\"investments_data.csv\", header=None)\n",
            "data = data.to_numpy()\n",
            "\n",
            "# Define problem parameters\n",
            "m, n = data.shape\n",
            "strategies = range(n)\n",
            "scenarios = range(4)\n",
            "\n",
            "# Sample data (replace with actual data)\n",
            "A = np.random.randint(10, 50, size=n)  # Investment costs\n",
            "B = np.random.randint(100, 500, size=4)  # Available budgets\n",
            "p = np.random.dirichlet(np.ones(4))  # Scenario probabilities\n",
            "r = 2  # Risk parameter\n",
            "alpha = 0.4  # Tolerable probability of exceeding the budget\n",
            "\n",
            "# Calculate mean and standard deviation of historic returns\n",
            "mu = np.mean(data, axis=0)\n",
            "sigma = np.std(data, axis=0)\n",
            "\n",
            "# Create Pyomo model\n",
            "model = pyo.ConcreteModel()\n",
            "\n",
            "# Define decision variables\n",
            "model.x = pyo.Var(strategies, within=pyo.Binary)\n",
            "model.y = pyo.Var(scenarios, within=pyo.Binary)\n",
            "\n",
            "# Define objective function\n",
            "model.obj = pyo.Objective(expr=sum(mu[j] * model.x[j] for j in strategies) -\n",
            "                               r * sum(sigma[j] * model.x[j] for j in strategies),\n",
            "                          sense=pyo.maximize)\n",
            "\n",
            "# Define constraints\n",
            "model.budget_con = pyo.ConstraintList()\n",
            "for k in scenarios:\n",
            "    model.budget_con.add(sum(A[j] * model.x[j] for j in strategies) <= B[k] + 1e6 * model.y[k])\n",
            "\n",
            "model.prob_con = pyo.Constraint(expr=sum(p[k] * model.y[k] for k in scenarios) <= alpha)\n",
            "\n",
            "model.investment_con = pyo.ConstraintList()\n",
            "for j in strategies:\n",
            "    model.investment_con.add(model.x[j] <= 1)\n",
            "\n",
            "# Solve the optimization problem\n",
            "solver = pyo.SolverFactory('cbc')\n",
            "results = solver.solve(model)\n",
            "\n",
            "# Print the results\n",
            "print(\"Optimal investment strategy:\")\n",
            "for j in strategies:\n",
            "    if pyo.value(model.x[j]) == 1:\n",
            "        print(f\"Invest in strategy {j+1}\")\n",
            "\n",
            "print(f\"\\nOptimal objective value: {pyo.value(model.obj):.4f}\")\n",
            "```\n",
            "\n",
            "Notes:\n",
            "- The code assumes that the historic return data is stored in a CSV file named \"investments_data.csv\". Each row represents a past period, and each column represents a strategy. The file should not have a header row.\n",
            "- The code uses sample data for the investment costs (A), available budgets (B), and scenario probabilities (p). Replace these with the actual data when available.\n",
            "- The risk parameter (r) and the tolerable probability of exceeding the budget (alpha) are set to the given values of 2 and 0.4, respectively.\n",
            "- The code uses the CBC solver, which is a free and open-source solver for mixed-integer linear programming problems. Make sure that CBC is installed and accessible to Pyomo.\n",
            "- The optimal investment strategy and the corresponding objective value will be printed as the output.\n"
          ]
        }
      ]
    },
    {
      "cell_type": "markdown",
      "source": [
        "# 4. Input Problem Data and Test Model Code"
      ],
      "metadata": {
        "id": "Pc0QqJuf8up_"
      }
    },
    {
      "cell_type": "code",
      "source": [
        "%%capture\n",
        "import sys\n",
        "import os\n",
        "\n",
        "if 'google.colab' in sys.modules:\n",
        "    !pip install idaes-pse --pre\n",
        "    !idaes get-extensions --to ./bin\n",
        "    os.environ['PATH'] += ':bin'\n",
        "\n",
        "!pip install pandas\n",
        "!pip install numpy"
      ],
      "metadata": {
        "id": "3BtROuLu9O-p",
        "collapsed": true
      },
      "execution_count": 17,
      "outputs": []
    },
    {
      "cell_type": "code",
      "source": [
        "import pyomo.environ as pyo\n",
        "import numpy as np\n",
        "import pandas as pd\n",
        "\n",
        "# Read investment data from CSV file\n",
        "data = pd.read_csv(\"/content/drive/MyDrive/Thesis/ProblemData/IP/IP2/investments_data.csv\", header=None, sep=';')\n",
        "data = data.to_numpy()\n",
        "\n",
        "# Define problem parameters\n",
        "m, n = data.shape\n",
        "strategies = range(n)\n",
        "scenarios = range(4)\n",
        "\n",
        "# Sample data (replace with actual data)\n",
        "A = [80, 340, 410, 50, 180, 221, 15, 348, 191, 225]\n",
        "B = [1000, 1100, 900, 1200]  # Available budgets\n",
        "p = [0.55, 0.4, 0.04, 0.01]  # Scenario probabilities\n",
        "r = 2  # Risk parameter\n",
        "alpha = 0.4  # Tolerable probability of exceeding the budget\n",
        "\n",
        "# Calculate mean and standard deviation of historic returns\n",
        "mu = np.mean(data, axis=0)\n",
        "sigma = np.std(data, axis=0)\n",
        "\n",
        "# Create Pyomo model\n",
        "model = pyo.ConcreteModel()\n",
        "\n",
        "# Define decision variables\n",
        "model.x = pyo.Var(strategies, within=pyo.Binary)\n",
        "model.y = pyo.Var(scenarios, within=pyo.Binary)\n",
        "\n",
        "# Define objective function\n",
        "model.obj = pyo.Objective(expr=sum(mu[j] * model.x[j] for j in strategies) -\n",
        "                               r * sum(sigma[j] * model.x[j] for j in strategies),\n",
        "                          sense=pyo.maximize)\n",
        "\n",
        "# Define constraints\n",
        "model.budget_con = pyo.ConstraintList()\n",
        "for k in scenarios:\n",
        "    model.budget_con.add(sum(A[j] * model.x[j] for j in strategies) <= B[k] + 1e6 * model.y[k])\n",
        "\n",
        "model.prob_con = pyo.Constraint(expr=sum(p[k] * model.y[k] for k in scenarios) <= alpha)\n",
        "\n",
        "model.investment_con = pyo.ConstraintList()\n",
        "for j in strategies:\n",
        "    model.investment_con.add(model.x[j] <= 1)\n",
        "\n",
        "# Solve the optimization problem\n",
        "solver = pyo.SolverFactory('cbc')\n",
        "results = solver.solve(model)\n",
        "\n",
        "# Print the results\n",
        "print(\"Optimal investment strategy:\")\n",
        "for j in strategies:\n",
        "    if pyo.value(model.x[j]) == 1:\n",
        "        print(f\"Invest in strategy {j+1}\")\n",
        "for i in scenarios:\n",
        "  if pyo.value(model.y[i]) == 1:\n",
        "    print(f\"Exceeded budget in scenario {i+1}\")\n",
        "\n",
        "print(f\"\\nOptimal objective value: {pyo.value(model.obj):.4f}\")"
      ],
      "metadata": {
        "colab": {
          "base_uri": "https://localhost:8080/"
        },
        "id": "8FpHcuWU8rQ2",
        "outputId": "e9f2839d-df1c-4909-d348-967af839bf67"
      },
      "execution_count": 21,
      "outputs": [
        {
          "output_type": "stream",
          "name": "stdout",
          "text": [
            "Optimal investment strategy:\n",
            "Invest in strategy 3\n",
            "Invest in strategy 6\n",
            "Invest in strategy 8\n",
            "Exceeded budget in scenario 3\n",
            "\n",
            "Optimal objective value: 237.8334\n"
          ]
        }
      ]
    },
    {
      "cell_type": "markdown",
      "source": [
        "# 5. Correct The Model Code to Test Mathematical Model (if applicable)"
      ],
      "metadata": {
        "id": "KHTyoLQTWZVy"
      }
    },
    {
      "cell_type": "code",
      "source": [],
      "metadata": {
        "id": "REJzqhR6WYvM"
      },
      "execution_count": null,
      "outputs": []
    },
    {
      "cell_type": "code",
      "source": [],
      "metadata": {
        "id": "bPJ_54384nR_"
      },
      "execution_count": null,
      "outputs": []
    }
  ]
}